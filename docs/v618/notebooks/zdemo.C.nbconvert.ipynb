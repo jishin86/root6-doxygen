{
 "cells": [
  {
   "cell_type": "markdown",
   "metadata": {},
   "source": [
    "# Zdemo\n",
    "This macro is an example of graphs in log scales with annotations.\n",
    "\n",
    "The presented results are predictions of invariant cross-section\n",
    "of Direct Photons produced at RHIC energies, based on the universality of\n",
    "scaling function H(z).\n",
    "\n",
    "These Figures were published in JINR preprint E2-98-64, Dubna,\n",
    "1998 and submitted to CPC.\n",
    "\n",
    "Note that the way greek symbols, super/subscripts are obtained\n",
    "illustrate the current limitations of Root in this area.\n",
    "\n",
    "\n",
    "\n",
    "\n",
    "**Author:**  Michael Tokarev and Elena Potrebenikova (JINR Dubna)  \n",
    "<i><small>This notebook tutorial was automatically generated with <a href= \"https://github.com/root-project/root/blob/master/documentation/doxygen/converttonotebook.py\">ROOTBOOK-izer</a> from the macro found in the ROOT repository  on Thursday, August 29, 2019 at 01:51 AM.</small></i>"
   ]
  },
  {
   "cell_type": "code",
   "execution_count": 1,
   "metadata": {
    "collapsed": false
   },
   "outputs": [],
   "source": [
    "%%cpp -d\n",
    "#include \"TCanvas.h\"\n",
    "#include \"TPad.h\"\n",
    "#include \"TPaveLabel.h\"\n",
    "#include \"TLatex.h\"\n",
    "#include \"TGraph.h\"\n",
    "#include \"TFrame.h\"\n",
    "\n",
    "#ifdef HZ\n",
    "#undef HZ\n",
    "#endif\n",
    "\n",
    "const Int_t NMAX = 20;\n",
    "Int_t NLOOP;\n",
    "Float_t Z[NMAX], HZ[NMAX], PT[NMAX], INVSIG[NMAX];\n",
    "\n",
    "void hz_calc(Float_t, Float_t, Float_t, Float_t, Float_t, Float_t);"
   ]
  },
  {
   "cell_type": "markdown",
   "metadata": {},
   "source": [
    "__________________________________________________________________"
   ]
  },
  {
   "cell_type": "markdown",
   "metadata": {},
   "source": [
    " A helper function is created: "
   ]
  },
  {
   "cell_type": "code",
   "execution_count": 2,
   "metadata": {
    "collapsed": false
   },
   "outputs": [],
   "source": [
    "%%cpp -d\n",
    "void hz_calc(Float_t ENERG, Float_t DENS, Float_t TGRAD, Float_t PTMIN,\n",
    "   Float_t PTMAX, Float_t DELP)\n",
    "{\n",
    "  Int_t I;\n",
    "\n",
    "  Float_t GM1  = 0.00001;\n",
    "  Float_t GM2  = 0.00001;\n",
    "  Float_t A1   = 1.;\n",
    "  Float_t A2   = 1.;\n",
    "  Float_t ALX  = 2.;\n",
    "  Float_t BETA = 1.;\n",
    "  Float_t KF1  = 8.E-7;\n",
    "  Float_t KF2  = 5.215;\n",
    "\n",
    "  Float_t MN = 0.9383;\n",
    "  Float_t DEGRAD=0.01745329;\n",
    "\n",
    "  Float_t EB1, EB2, PB1, PB2, MB1, MB2, M1, M2;\n",
    "  Float_t DNDETA;\n",
    "\n",
    "  Float_t P1P2, P1P3, P2P3;\n",
    "  Float_t Y1, Y2, S, SMIN,  SX1,  SX2, SX1X2, DELM;\n",
    "  Float_t Y1X1,  Y1X2,   Y2X1,   Y2X2,   Y2X1X2,   Y1X1X2;\n",
    "  Float_t KX1, KX2,  ZX1, ZX2;\n",
    "  Float_t H1;\n",
    "\n",
    "  Float_t PTOT, THET, ETOT, X1, X2;\n",
    "\n",
    "  DNDETA= DENS;\n",
    "  MB1   = MN*A1;\n",
    "  MB2   = MN*A2;\n",
    "  EB1   = ENERG/2.*A1;\n",
    "  EB2   = ENERG/2.*A2;\n",
    "  M1    = GM1;\n",
    "  M2    = GM2;\n",
    "  THET  = TGRAD*DEGRAD;\n",
    "  NLOOP = (PTMAX-PTMIN)/DELP;\n",
    "\n",
    "  for (I=0; I<NLOOP;I++) {\n",
    "     PT[I]=PTMIN+I*DELP;\n",
    "     PTOT = PT[I]/sin(THET);\n",
    "\n",
    "     ETOT = sqrt(M1*M1 + PTOT*PTOT);\n",
    "     PB1  = sqrt(EB1*EB1 - MB1*MB1);\n",
    "     PB2  = sqrt(EB2*EB2 - MB2*MB2);\n",
    "     P2P3 = EB2*ETOT+PB2*PTOT*cos(THET);\n",
    "     P1P2 = EB2*EB1+PB2*PB1;\n",
    "     P1P3 = EB1*ETOT-PB1*PTOT*cos(THET);\n",
    "\n",
    "     X1 = P2P3/P1P2;\n",
    "     X2 = P1P3/P1P2;\n",
    "     Y1 = X1+sqrt(X1*X2*(1.-X1)/(1.-X2));\n",
    "     Y2 = X2+sqrt(X1*X2*(1.-X2)/(1.-X1));\n",
    "\n",
    "     S    = (MB1*MB1)+2.*P1P2+(MB2*MB2);\n",
    "     SMIN = 4.*((MB1*MB1)*(X1*X1) +2.*X1*X2*P1P2+(MB2*MB2)*(X2*X2));\n",
    "     SX1  = 4.*( 2*(MB1*MB1)*X1+2*X2*P1P2);\n",
    "     SX2  = 4.*( 2*(MB2*MB2)*X2+2*X1*P1P2);\n",
    "     SX1X2= 4.*(2*P1P2);\n",
    "     DELM = pow((1.-Y1)*(1.-Y2),ALX);\n",
    "\n",
    "     Z[I] = sqrt(SMIN)/DELM/pow(DNDETA,BETA);\n",
    "\n",
    "     Y1X1  = 1. +X2*(1-2.*X1)/(2.*(Y1-X1)*(1.-X2));\n",
    "     Y1X2  =     X1*(1-X1)/(2.*(Y1-X1)*(1.-X2)*(1.-X2));\n",
    "     Y2X1  =     X2*(1-X2)/(2.*(Y2-X2)*(1.-X1)*(1.-X1));\n",
    "     Y2X2  = 1. +X1*(1-2.*X2)/(2.*(Y2-X2)*(1.-X1));\n",
    "     Y2X1X2= Y2X1*( (1.-2.*X2)/(X2*(1-X2)) -( Y2X2-1.)/(Y2-X2));\n",
    "     Y1X1X2= Y1X2*( (1.-2.*X1)/(X1*(1-X1)) -( Y1X1-1.)/(Y1-X1));\n",
    "\n",
    "     KX1=-DELM*(Y1X1*ALX/(1.-Y1) + Y2X1*ALX/(1.-Y2));\n",
    "     KX2=-DELM*(Y2X2*ALX/(1.-Y2) + Y1X2*ALX/(1.-Y1));\n",
    "     ZX1=Z[I]*(SX1/(2.*SMIN)-KX1/DELM);\n",
    "     ZX2=Z[I]*(SX2/(2.*SMIN)-KX2/DELM);\n",
    "\n",
    "     H1=ZX1*ZX2;\n",
    "\n",
    "     HZ[I]=KF1/pow(Z[I],KF2);\n",
    "     INVSIG[I]=(HZ[I]*H1*16.)/S;\n",
    "\n",
    "  }\n",
    "}"
   ]
  },
  {
   "cell_type": "code",
   "execution_count": 3,
   "metadata": {
    "collapsed": false
   },
   "outputs": [],
   "source": [
    "Float_t energ;\n",
    "Float_t dens;\n",
    "Float_t tgrad;\n",
    "Float_t ptmin;\n",
    "Float_t ptmax;\n",
    "Float_t delp;"
   ]
  },
  {
   "cell_type": "markdown",
   "metadata": {},
   "source": [
    "Create a new canvas."
   ]
  },
  {
   "cell_type": "code",
   "execution_count": 4,
   "metadata": {
    "collapsed": false
   },
   "outputs": [],
   "source": [
    "TCanvas *c1 = new TCanvas(\"zdemo\",\n",
    "   \"Monte Carlo Study of Z scaling\",10,40,800,600);\n",
    "c1->Range(0,0,25,18);\n",
    "c1->SetFillColor(40);\n",
    "\n",
    "TPaveLabel *pl = new TPaveLabel(1,16.3,24,17.5,\"Z-scaling of \\\n",
    "   Direct Photon Productions in pp Collisions at RHIC Energies\",\"br\");\n",
    "pl->SetFillColor(18);\n",
    "pl->SetTextFont(32);\n",
    "pl->SetTextColor(49);\n",
    "pl->Draw();\n",
    "\n",
    "TLatex *t = new TLatex();\n",
    "t->SetTextFont(32);\n",
    "t->SetTextColor(1);\n",
    "t->SetTextSize(0.03);\n",
    "t->SetTextAlign(12);\n",
    "t->DrawLatex(3.1,15.5,\"M.Tokarev, E.Potrebenikova \");\n",
    "t->DrawLatex(14.,15.5,\"JINR preprint E2-98-64, Dubna, 1998 \");\n",
    "\n",
    "TPad *pad1 = new TPad(\"pad1\",\"This is pad1\",0.02,0.02,0.48,0.83,33);\n",
    "TPad *pad2 = new TPad(\"pad2\",\"This is pad2\",0.52,0.02,0.98,0.83,33);\n",
    "\n",
    "pad1->Draw();\n",
    "pad2->Draw();"
   ]
  },
  {
   "cell_type": "markdown",
   "metadata": {},
   "source": [
    " Cross-section of direct photon production in pp collisions\n",
    " at 500 GeV vs Pt"
   ]
  },
  {
   "cell_type": "code",
   "execution_count": 5,
   "metadata": {
    "collapsed": false
   },
   "outputs": [],
   "source": [
    "energ = 63;\n",
    "dens  = 1.766;\n",
    "tgrad = 90.;\n",
    "ptmin = 4.;\n",
    "ptmax = 24.;\n",
    "delp  = 2.;\n",
    "hz_calc(energ, dens, tgrad, ptmin, ptmax, delp);\n",
    "pad1->cd();\n",
    "pad1->Range(-0.255174,-19.25,2.29657,-6.75);\n",
    "pad1->SetLogx();\n",
    "pad1->SetLogy();"
   ]
  },
  {
   "cell_type": "markdown",
   "metadata": {},
   "source": [
    "Create a 2-d histogram to define the range"
   ]
  },
  {
   "cell_type": "code",
   "execution_count": 6,
   "metadata": {
    "collapsed": false
   },
   "outputs": [],
   "source": [
    "pad1->DrawFrame(1,1e-18,110,1e-8);\n",
    "pad1->GetFrame()->SetFillColor(19);\n",
    "t = new TLatex();\n",
    "t->SetNDC();\n",
    "t->SetTextFont(62);\n",
    "t->SetTextColor(36);\n",
    "t->SetTextSize(0.08);\n",
    "t->SetTextAlign(12);\n",
    "t->DrawLatex(0.6,0.85,\"p - p\");\n",
    "\n",
    "t->SetTextSize(0.05);\n",
    "t->DrawLatex(0.6,0.79,\"Direct #gamma\");\n",
    "t->DrawLatex(0.6,0.75,\"#theta = 90^{o}\");\n",
    "\n",
    "t->DrawLatex(0.20,0.45,\"Ed^{3}#sigma/dq^{3}\");\n",
    "t->DrawLatex(0.18,0.40,\"(barn/Gev^{2})\");\n",
    "\n",
    "t->SetTextSize(0.045);\n",
    "t->SetTextColor(kBlue);\n",
    "t->DrawLatex(0.22,0.260,\"#sqrt{s} = 63(GeV)\");\n",
    "t->SetTextColor(kRed);\n",
    "t->DrawLatex(0.22,0.205,\"#sqrt{s} = 200(GeV)\");\n",
    "t->SetTextColor(6);\n",
    "t->DrawLatex(0.22,0.15,\"#sqrt{s} = 500(GeV)\");\n",
    "\n",
    "t->SetTextSize(0.05);\n",
    "t->SetTextColor(1);\n",
    "t->DrawLatex(0.6,0.06,\"q_{T} (Gev/c)\");\n",
    "\n",
    "TGraph *gr1 = new TGraph(NLOOP,PT,INVSIG);\n",
    "\n",
    "gr1->SetLineColor(38);\n",
    "gr1->SetMarkerColor(kBlue);\n",
    "gr1->SetMarkerStyle(21);\n",
    "gr1->SetMarkerSize(1.1);\n",
    "gr1->Draw(\"LP\");"
   ]
  },
  {
   "cell_type": "markdown",
   "metadata": {},
   "source": [
    " Cross-section of direct photon production in pp collisions\n",
    " at 200 GeV vs Pt"
   ]
  },
  {
   "cell_type": "code",
   "execution_count": 7,
   "metadata": {
    "collapsed": false
   },
   "outputs": [],
   "source": [
    "energ = 200;\n",
    "dens  = 2.25;\n",
    "tgrad = 90.;\n",
    "ptmin = 4.;\n",
    "ptmax = 64.;\n",
    "delp  = 6.;\n",
    "hz_calc(energ, dens, tgrad, ptmin, ptmax, delp);\n",
    "\n",
    "TGraph *gr2 = new TGraph(NLOOP,PT,INVSIG);\n",
    "gr2->SetLineColor(38);\n",
    "gr2->SetMarkerColor(kRed);\n",
    "gr2->SetMarkerStyle(29);\n",
    "gr2->SetMarkerSize(1.5);\n",
    "gr2->Draw(\"LP\");"
   ]
  },
  {
   "cell_type": "markdown",
   "metadata": {},
   "source": [
    " Cross-section of direct photon production in pp collisions\n",
    " at 500 GeV vs Pt"
   ]
  },
  {
   "cell_type": "code",
   "execution_count": 8,
   "metadata": {
    "collapsed": false
   },
   "outputs": [],
   "source": [
    "energ = 500;\n",
    "dens  = 2.73;\n",
    "tgrad = 90.;\n",
    "ptmin = 4.;\n",
    "ptmax = 104.;\n",
    "delp  = 10.;\n",
    "hz_calc(energ, dens, tgrad, ptmin, ptmax, delp);\n",
    "\n",
    "TGraph *gr3 = new TGraph(NLOOP,PT,INVSIG);\n",
    "\n",
    "gr3->SetLineColor(38);\n",
    "gr3->SetMarkerColor(6);\n",
    "gr3->SetMarkerStyle(8);\n",
    "gr3->SetMarkerSize(1.1);\n",
    "gr3->Draw(\"LP\");\n",
    "\n",
    "Float_t *dum = 0;\n",
    "TGraph *graph = new TGraph(1,dum,dum);\n",
    "graph->SetMarkerColor(kBlue);\n",
    "graph->SetMarkerStyle(21);\n",
    "graph->SetMarkerSize(1.1);\n",
    "graph->SetPoint(0,1.7,1.e-16);\n",
    "graph->Draw(\"LP\");\n",
    "\n",
    "graph = new TGraph(1,dum,dum);\n",
    "graph->SetMarkerColor(kRed);\n",
    "graph->SetMarkerStyle(29);\n",
    "graph->SetMarkerSize(1.5);\n",
    "graph->SetPoint(0,1.7,2.e-17);\n",
    "graph->Draw(\"LP\");\n",
    "\n",
    "graph = new TGraph(1,dum,dum);\n",
    "graph->SetMarkerColor(6);\n",
    "graph->SetMarkerStyle(8);\n",
    "graph->SetMarkerSize(1.1);\n",
    "graph->SetPoint(0,1.7,4.e-18);\n",
    "graph->Draw(\"LP\");\n",
    "\n",
    "pad2->cd();\n",
    "pad2->Range(-0.43642,-23.75,3.92778,-6.25);\n",
    "pad2->SetLogx();\n",
    "pad2->SetLogy();\n",
    "\n",
    "pad2->DrawFrame(1,1e-22,3100,1e-8);\n",
    "pad2->GetFrame()->SetFillColor(19);\n",
    "\n",
    "TGraph *gr = new TGraph(NLOOP,Z,HZ);\n",
    "gr->SetTitle(\"HZ vs Z\");\n",
    "gr->SetFillColor(19);\n",
    "gr->SetLineColor(9);\n",
    "gr->SetMarkerColor(50);\n",
    "gr->SetMarkerStyle(29);\n",
    "gr->SetMarkerSize(1.5);\n",
    "gr->Draw(\"LP\");\n",
    "\n",
    "t = new TLatex();\n",
    "t->SetNDC();\n",
    "t->SetTextFont(62);\n",
    "t->SetTextColor(36);\n",
    "t->SetTextSize(0.08);\n",
    "t->SetTextAlign(12);\n",
    "t->DrawLatex(0.6,0.85,\"p - p\");\n",
    "\n",
    "t->SetTextSize(0.05);\n",
    "t->DrawLatex(0.6,0.79,\"Direct #gamma\");\n",
    "t->DrawLatex(0.6,0.75,\"#theta = 90^{o}\");\n",
    "\n",
    "t->DrawLatex(0.70,0.55,\"H(z)\");\n",
    "t->DrawLatex(0.68,0.50,\"(barn)\");\n",
    "\n",
    "t->SetTextSize(0.045);\n",
    "t->SetTextColor(46);\n",
    "t->DrawLatex(0.20,0.30,\"#sqrt{s}, GeV\");\n",
    "t->DrawLatex(0.22,0.26,\"63\");\n",
    "t->DrawLatex(0.22,0.22,\"200\");\n",
    "t->DrawLatex(0.22,0.18,\"500\");\n",
    "\n",
    "t->SetTextSize(0.05);\n",
    "t->SetTextColor(1);\n",
    "t->DrawLatex(0.88,0.06,\"z\");\n",
    "\n",
    "c1->Modified();\n",
    "c1->Update();"
   ]
  },
  {
   "cell_type": "markdown",
   "metadata": {},
   "source": [
    "Draw all canvases "
   ]
  },
  {
   "cell_type": "code",
   "execution_count": 9,
   "metadata": {
    "collapsed": false
   },
   "outputs": [
    {
     "data": {
      "image/png": "[encoded data removed]",
      "text/plain": [
       "<IPython.core.display.Image object>"
      ]
     },
     "metadata": {},
     "output_type": "display_data"
    }
   ],
   "source": [
    "gROOT->GetListOfCanvases()->Draw()"
   ]
  }
 ],
 "metadata": {
  "kernelspec": {
   "display_name": "ROOT C++",
   "language": "c++",
   "name": "root"
  },
  "language_info": {
   "codemirror_mode": "text/x-c++src",
   "file_extension": ".C",
   "mimetype": " text/x-c++src",
   "name": "c++"
  }
 },
 "nbformat": 4,
 "nbformat_minor": 2
}
