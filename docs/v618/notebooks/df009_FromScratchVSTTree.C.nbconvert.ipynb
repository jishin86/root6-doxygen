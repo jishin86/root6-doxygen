{
 "cells": [
  {
   "cell_type": "markdown",
   "metadata": {},
   "source": [
    "# Df 0 0 9_ From Scratch V S T Tree\n",
    "This tutorial illustrates how simpler it can be to use a\n",
    "RDataFrame to create a dataset with respect to the usage\n",
    "of the TTree interfaces.\n",
    "\n",
    "\n",
    "\n",
    "\n",
    "**Author:** Danilo Piparo  \n",
    "<i><small>This notebook tutorial was automatically generated with <a href= \"https://github.com/root-project/root/blob/master/documentation/doxygen/converttonotebook.py\">ROOTBOOK-izer</a> from the macro found in the ROOT repository  on Thursday, August 29, 2019 at 01:02 AM.</small></i>"
   ]
  },
  {
   "cell_type": "markdown",
   "metadata": {},
   "source": [
    "  ##This is the classic way of creating a ROOT dataset\n",
    " The steps are:\n",
    " - Create a file\n",
    " - Create a tree associated to the file\n",
    " - Define the variables to write in the entries\n",
    " - Define the branches associated to those variables\n",
    " - Write the event loop to set the right value to the variables\n",
    "   - Call TTree::Fill to save the value of the variables\n",
    " - Write the TTree\n",
    " - Close the file\n",
    " "
   ]
  },
  {
   "cell_type": "code",
   "execution_count": 1,
   "metadata": {
    "collapsed": false
   },
   "outputs": [],
   "source": [
    "%%cpp -d\n",
    "void classicWay()\n",
    "{\n",
    "   TFile f(\"df009_FromScratchVSTTree_classic.root\", \"RECREATE\");\n",
    "   TTree t(\"treeName\", \"treeName\");\n",
    "   double b1;\n",
    "   int b2;\n",
    "   t.Branch(\"b1\", &b1);\n",
    "   t.Branch(\"b2\", &b2);\n",
    "   for (int i = 0; i < 10; ++i) {\n",
    "      b1 = i;\n",
    "      b2 = i * i;\n",
    "      t.Fill();\n",
    "   }\n",
    "   t.Write();\n",
    "   f.Close();\n",
    "}"
   ]
  },
  {
   "cell_type": "markdown",
   "metadata": {},
   "source": [
    "  ##This is the RDF way of creating a ROOT dataset\n",
    " Few lines are needed to achieve the same result.\n",
    " Parallel creation of the TTree is not supported in the\n",
    " classic method.\n",
    " In this case the steps are:\n",
    " - Create an empty RDataFrame\n",
    " - If needed, define variables for the functions used to fill the branches\n",
    " - Create new columns expressing their content with lambdas, functors, functions or strings\n",
    " - Invoke the Snapshot action\n",
    "\n",
    "\n",
    " Parallelism is not the only advantage. Starting from an existing dataset and\n",
    " filter it, enrich it with new columns, leave aside some other columns and\n",
    " write a new dataset becomes very easy to do.\n",
    " "
   ]
  },
  {
   "cell_type": "code",
   "execution_count": 2,
   "metadata": {
    "collapsed": false
   },
   "outputs": [],
   "source": [
    "%%cpp -d\n",
    "void RDFWay()\n",
    "{\n",
    "   ROOT::RDataFrame tdf(10);\n",
    "   auto b = 0.;\n",
    "   tdf.Define(\"b1\", [&b]() { return b++; })\n",
    "      .Define(\"b2\", \"(int) b1 * b1\") // This can even be a string\n",
    "      .Snapshot(\"treeName\", \"df009_FromScratchVSTTree_tdf.root\");\n",
    "}"
   ]
  },
  {
   "cell_type": "code",
   "execution_count": 3,
   "metadata": {
    "collapsed": false
   },
   "outputs": [],
   "source": [
    "classicWay();\n",
    "RDFWay();"
   ]
  }
 ],
 "metadata": {
  "kernelspec": {
   "display_name": "ROOT C++",
   "language": "c++",
   "name": "root"
  },
  "language_info": {
   "codemirror_mode": "text/x-c++src",
   "file_extension": ".C",
   "mimetype": " text/x-c++src",
   "name": "c++"
  }
 },
 "nbformat": 4,
 "nbformat_minor": 2
}
