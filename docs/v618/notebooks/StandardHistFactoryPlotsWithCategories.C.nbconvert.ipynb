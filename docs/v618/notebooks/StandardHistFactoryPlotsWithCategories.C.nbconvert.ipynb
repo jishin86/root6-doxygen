{
 "cells": [
  {
   "cell_type": "markdown",
   "metadata": {},
   "source": [
    "#  Standard Hist Factory Plots With Categories\n",
    " StandardHistFactoryPlotsWithCategories\n",
    "\n",
    " This is a standard demo that can be used with any ROOT file\n",
    " prepared in the standard way.  You specify:\n",
    " - name for input ROOT file\n",
    " - name of workspace inside ROOT file that holds model and data\n",
    " - name of ModelConfig that specifies details for calculator tools\n",
    " - name of dataset\n",
    "\n",
    " With default parameters the macro will attempt to run the\n",
    " standard hist2workspace example and read the ROOT file\n",
    " that it produces.\n",
    "\n",
    " The macro will scan through all the categories in a simPdf find the corresponding\n",
    " observable.  For each category, it will loop through each of the nuisance parameters\n",
    " and plot\n",
    " - the data\n",
    " - the nominal model (blue)\n",
    " - the +Nsigma (red)\n",
    " - the -Nsigma (green)\n",
    "\n",
    " You can specify how many sigma to vary by changing nSigmaToVary.\n",
    " You can also change the signal rate by changing muVal.\n",
    "\n",
    " The script produces a lot plots, you can merge them by doing:\n",
    "```cpp\n",
    " gs -q -dNOPAUSE -dBATCH -sDEVICE=pdfwrite -sOutputFile=merged.pdf `ls *pdf`\n",
    "```\n",
    "\n",
    "\n",
    "\n",
    "\n",
    "**Author:** Kyle Cranmer  \n",
    "<i><small>This notebook tutorial was automatically generated with <a href= \"https://github.com/root-project/root/blob/master/documentation/doxygen/converttonotebook.py\">ROOTBOOK-izer</a> from the macro found in the ROOT repository  on Thursday, August 29, 2019 at 03:28 AM.</small></i>"
   ]
  },
  {
   "cell_type": "code",
   "execution_count": 1,
   "metadata": {
    "collapsed": false
   },
   "outputs": [],
   "source": [
    "%%cpp -d\n",
    "#include \"TFile.h\"\n",
    "#include \"TROOT.h\"\n",
    "#include \"TCanvas.h\"\n",
    "#include \"TList.h\"\n",
    "#include \"TMath.h\"\n",
    "#include \"TSystem.h\"\n",
    "#include \"RooWorkspace.h\"\n",
    "#include \"RooAbsData.h\"\n",
    "#include \"RooRealVar.h\"\n",
    "#include \"RooPlot.h\"\n",
    "#include \"RooSimultaneous.h\"\n",
    "#include \"RooCategory.h\"\n",
    "\n",
    "#include \"RooStats/ModelConfig.h\"\n",
    "#include \"RooStats/ProfileInspector.h\""
   ]
  },
  {
   "cell_type": "code",
   "execution_count": 2,
   "metadata": {
    "collapsed": false
   },
   "outputs": [],
   "source": [
    "%%cpp -d\n",
    "// This is a workaround to make sure the namespace is used inside functions\n",
    "using namespace RooFit;\n",
    "using namespace RooStats;"
   ]
  },
  {
   "cell_type": "code",
   "execution_count": 3,
   "metadata": {
    "collapsed": false
   },
   "outputs": [],
   "source": [
    "using namespace std;"
   ]
  },
  {
   "cell_type": "markdown",
   "metadata": {},
   "source": [
    " Arguments are defined. "
   ]
  },
  {
   "cell_type": "code",
   "execution_count": 4,
   "metadata": {
    "collapsed": false
   },
   "outputs": [],
   "source": [
    "const char *infile = \"\";\n",
    "const char *workspaceName = \"combined\";\n",
    "const char *modelConfigName = \"ModelConfig\";\n",
    "const char *dataName = \"obsData\";"
   ]
  },
  {
   "cell_type": "code",
   "execution_count": 5,
   "metadata": {
    "collapsed": false
   },
   "outputs": [],
   "source": [
    "double nSigmaToVary = 5.;\n",
    "double muVal = 0;\n",
    "bool doFit = false;"
   ]
  },
  {
   "cell_type": "markdown",
   "metadata": {},
   "source": [
    "-------------------------------------------------------\n",
    " First part is just to access a user-defined file\n",
    " or create the standard example file if it doesn't exist"
   ]
  },
  {
   "cell_type": "code",
   "execution_count": 6,
   "metadata": {
    "collapsed": false
   },
   "outputs": [],
   "source": [
    "const char *filename = \"\";\n",
    "if (!strcmp(infile, \"\")) {\n",
    "   filename = \"results/example_combined_GaussExample_model.root\";\n",
    "   bool fileExist = !gSystem->AccessPathName(filename); // note opposite return code\n",
    "                                                        // if file does not exists generate with histfactory\n",
    "   if (!fileExist) {\n",
    "#ifdef _WIN32\n",
    "      cout << \"HistFactory file cannot be generated on Windows - exit\" << endl;\n",
    "      return;\n",
    "#endif\n",
    "      // Normally this would be run on the command line\n",
    "      cout << \"will run standard hist2workspace example\" << endl;\n",
    "      gROOT->ProcessLine(\".! prepareHistFactory .\");\n",
    "      gROOT->ProcessLine(\".! hist2workspace config/example.xml\");\n",
    "      cout << \"\\n\\n---------------------\" << endl;\n",
    "      cout << \"Done creating example input\" << endl;\n",
    "      cout << \"---------------------\\n\\n\" << endl;\n",
    "   }\n",
    "\n",
    "} else\n",
    "   filename = infile;"
   ]
  },
  {
   "cell_type": "markdown",
   "metadata": {},
   "source": [
    "Try to open the file"
   ]
  },
  {
   "cell_type": "code",
   "execution_count": 7,
   "metadata": {
    "collapsed": false
   },
   "outputs": [
    {
     "name": "stdout",
     "output_type": "stream",
     "text": [
      "\n",
      "\u001b[1mRooFit v3.60 -- Developed by Wouter Verkerke and David Kirkby\u001b[0m \n",
      "                Copyright (C) 2000-2013 NIKHEF, University of California & Stanford University\n",
      "                All rights reserved, please read http://roofit.sourceforge.net/license.txt\n",
      "\n"
     ]
    }
   ],
   "source": [
    "TFile *file = TFile::Open(filename);"
   ]
  },
  {
   "cell_type": "markdown",
   "metadata": {},
   "source": [
    "If input file was specified byt not found, quit"
   ]
  },
  {
   "cell_type": "code",
   "execution_count": 8,
   "metadata": {
    "collapsed": false
   },
   "outputs": [],
   "source": [
    "if (!file) {\n",
    "   cout << \"StandardRooStatsDemoMacro: Input file \" << filename << \" is not found\" << endl;\n",
    "   return;\n",
    "}"
   ]
  },
  {
   "cell_type": "markdown",
   "metadata": {},
   "source": [
    "-------------------------------------------------------\n",
    " Tutorial starts here\n",
    " -------------------------------------------------------"
   ]
  },
  {
   "cell_type": "markdown",
   "metadata": {},
   "source": [
    "Get the workspace out of the file"
   ]
  },
  {
   "cell_type": "code",
   "execution_count": 9,
   "metadata": {
    "collapsed": false
   },
   "outputs": [],
   "source": [
    "RooWorkspace *w = (RooWorkspace *)file->Get(workspaceName);\n",
    "if (!w) {\n",
    "   cout << \"workspace not found\" << endl;\n",
    "   return;\n",
    "}"
   ]
  },
  {
   "cell_type": "markdown",
   "metadata": {},
   "source": [
    "Get the modelconfig out of the file"
   ]
  },
  {
   "cell_type": "code",
   "execution_count": 10,
   "metadata": {
    "collapsed": false
   },
   "outputs": [],
   "source": [
    "ModelConfig *mc = (ModelConfig *)w->obj(modelConfigName);"
   ]
  },
  {
   "cell_type": "markdown",
   "metadata": {},
   "source": [
    "Get the modelconfig out of the file"
   ]
  },
  {
   "cell_type": "code",
   "execution_count": 11,
   "metadata": {
    "collapsed": false
   },
   "outputs": [],
   "source": [
    "RooAbsData *data = w->data(dataName);"
   ]
  },
  {
   "cell_type": "markdown",
   "metadata": {},
   "source": [
    "Make sure ingredients are found"
   ]
  },
  {
   "cell_type": "code",
   "execution_count": 12,
   "metadata": {
    "collapsed": false
   },
   "outputs": [],
   "source": [
    "if (!data || !mc) {\n",
    "   w->Print();\n",
    "   cout << \"data or ModelConfig was not found\" << endl;\n",
    "   return;\n",
    "}"
   ]
  },
  {
   "cell_type": "markdown",
   "metadata": {},
   "source": [
    "-------------------------------------------------------\n",
    " now use the profile inspector"
   ]
  },
  {
   "cell_type": "code",
   "execution_count": 13,
   "metadata": {
    "collapsed": false
   },
   "outputs": [],
   "source": [
    "RooRealVar *obs = (RooRealVar *)mc->GetObservables()->first();\n",
    "TList *list = new TList();\n",
    "\n",
    "RooRealVar *firstPOI = dynamic_cast<RooRealVar *>(mc->GetParametersOfInterest()->first());\n",
    "\n",
    "firstPOI->setVal(muVal);"
   ]
  },
  {
   "cell_type": "markdown",
   "metadata": {},
   "source": [
    "Firstpoi->setconstant();"
   ]
  },
  {
   "cell_type": "code",
   "execution_count": 14,
   "metadata": {
    "collapsed": false
   },
   "outputs": [],
   "source": [
    "if (doFit) {\n",
    "   mc->GetPdf()->fitTo(*data);\n",
    "}"
   ]
  },
  {
   "cell_type": "markdown",
   "metadata": {},
   "source": [
    "-------------------------------------------------------"
   ]
  },
  {
   "cell_type": "code",
   "execution_count": 15,
   "metadata": {
    "collapsed": false
   },
   "outputs": [
    {
     "name": "stderr",
     "output_type": "stream",
     "text": [
      "input_line_70:53:7: error: reference to 'list' is ambiguous\n",
      "      list->Add(frame);\n",
      "      ^\n",
      "input_line_68:3:8: note: candidate found by name lookup is 'list'\n",
      "TList *list = new TList();\n",
      "       ^\n",
      "/usr/lib/gcc/x86_64-redhat-linux/8/../../../../include/c++/8/bits/stl_list.h:564:11: note: candidate found by name lookup is 'std::__cxx11::list'\n",
      "    class list : protected _List_base<_Tp, _Alloc>\n",
      "          ^\n",
      "input_line_70:143:10: error: reference to 'list' is ambiguous\n",
      "         list->Add(frame);\n",
      "         ^\n",
      "input_line_68:3:8: note: candidate found by name lookup is 'list'\n",
      "TList *list = new TList();\n",
      "       ^\n",
      "/usr/lib/gcc/x86_64-redhat-linux/8/../../../../include/c++/8/bits/stl_list.h:564:11: note: candidate found by name lookup is 'std::__cxx11::list'\n",
      "    class list : protected _List_base<_Tp, _Alloc>\n",
      "          ^\n"
     ]
    }
   ],
   "source": [
    "mc->GetNuisanceParameters()->Print(\"v\");\n",
    "int nPlotsMax = 1000;\n",
    "cout << \" check expectedData by category\" << endl;\n",
    "RooDataSet *simData = NULL;\n",
    "RooSimultaneous *simPdf = NULL;\n",
    "if (strcmp(mc->GetPdf()->ClassName(), \"RooSimultaneous\") == 0) {\n",
    "   cout << \"Is a simultaneous PDF\" << endl;\n",
    "   simPdf = (RooSimultaneous *)(mc->GetPdf());\n",
    "} else {\n",
    "   cout << \"Is not a simultaneous PDF\" << endl;\n",
    "}\n",
    "\n",
    "if (doFit) {\n",
    "   RooCategory *channelCat = (RooCategory *)(&simPdf->indexCat());\n",
    "   TIterator *iter = channelCat->typeIterator();\n",
    "   RooCatType *tt = NULL;\n",
    "   tt = (RooCatType *)iter->Next();\n",
    "   RooAbsPdf *pdftmp = ((RooSimultaneous *)mc->GetPdf())->getPdf(tt->GetName());\n",
    "   RooArgSet *obstmp = pdftmp->getObservables(*mc->GetObservables());\n",
    "   obs = ((RooRealVar *)obstmp->first());\n",
    "   RooPlot *frame = obs->frame();\n",
    "   cout << Form(\"%s==%s::%s\", channelCat->GetName(), channelCat->GetName(), tt->GetName()) << endl;\n",
    "   cout << tt->GetName() << \" \" << channelCat->getLabel() << endl;\n",
    "   data->plotOn(frame, MarkerSize(1),\n",
    "                Cut(Form(\"%s==%s::%s\", channelCat->GetName(), channelCat->GetName(), tt->GetName())),\n",
    "                DataError(RooAbsData::None));\n",
    "\n",
    "   Double_t normCount =\n",
    "      data->sumEntries(Form(\"%s==%s::%s\", channelCat->GetName(), channelCat->GetName(), tt->GetName()));\n",
    "\n",
    "   pdftmp->plotOn(frame, LineWidth(2.), Normalization(normCount, RooAbsReal::NumEvent));\n",
    "   frame->Draw();\n",
    "   cout << \"expected events = \" << mc->GetPdf()->expectedEvents(*data->get()) << endl;\n",
    "   return;\n",
    "}\n",
    "\n",
    "int nPlots = 0;\n",
    "if (!simPdf) {\n",
    "\n",
    "   TIterator *it = mc->GetNuisanceParameters()->createIterator();\n",
    "   RooRealVar *var = NULL;\n",
    "   while ((var = (RooRealVar *)it->Next()) != NULL) {\n",
    "      RooPlot *frame = obs->frame();\n",
    "      frame->SetYTitle(var->GetName());\n",
    "      data->plotOn(frame, MarkerSize(1));\n",
    "      var->setVal(0);\n",
    "      mc->GetPdf()->plotOn(frame, LineWidth(1.));\n",
    "      var->setVal(1);\n",
    "      mc->GetPdf()->plotOn(frame, LineColor(kRed), LineStyle(kDashed), LineWidth(1));\n",
    "      var->setVal(-1);\n",
    "      mc->GetPdf()->plotOn(frame, LineColor(kGreen), LineStyle(kDashed), LineWidth(1));\n",
    "      list->Add(frame);\n",
    "      var->setVal(0);\n",
    "   }\n",
    "\n",
    "} else {\n",
    "   RooCategory *channelCat = (RooCategory *)(&simPdf->indexCat());\n",
    "   //    TIterator* iter = simPdf->indexCat().typeIterator() ;\n",
    "   TIterator *iter = channelCat->typeIterator();\n",
    "   RooCatType *tt = NULL;\n",
    "   while (nPlots < nPlotsMax && (tt = (RooCatType *)iter->Next())) {\n",
    "\n",
    "      cout << \"on type \" << tt->GetName() << \" \" << endl;\n",
    "      // Get pdf associated with state from simpdf\n",
    "      RooAbsPdf *pdftmp = simPdf->getPdf(tt->GetName());\n",
    "\n",
    "      // Generate observables defined by the pdf associated with this state\n",
    "      RooArgSet *obstmp = pdftmp->getObservables(*mc->GetObservables());\n",
    "      //      obstmp->Print();\n",
    "\n",
    "      obs = ((RooRealVar *)obstmp->first());\n",
    "\n",
    "      TIterator *it = mc->GetNuisanceParameters()->createIterator();\n",
    "      RooRealVar *var = NULL;\n",
    "      while (nPlots < nPlotsMax && (var = (RooRealVar *)it->Next())) {\n",
    "         TCanvas *c2 = new TCanvas(\"c2\");\n",
    "         RooPlot *frame = obs->frame();\n",
    "         frame->SetName(Form(\"frame%d\", nPlots));\n",
    "         frame->SetYTitle(var->GetName());\n",
    "\n",
    "         cout << Form(\"%s==%s::%s\", channelCat->GetName(), channelCat->GetName(), tt->GetName()) << endl;\n",
    "         cout << tt->GetName() << \" \" << channelCat->getLabel() << endl;\n",
    "         data->plotOn(frame, MarkerSize(1),\n",
    "                      Cut(Form(\"%s==%s::%s\", channelCat->GetName(), channelCat->GetName(), tt->GetName())),\n",
    "                      DataError(RooAbsData::None));\n",
    "\n",
    "         Double_t normCount =\n",
    "            data->sumEntries(Form(\"%s==%s::%s\", channelCat->GetName(), channelCat->GetName(), tt->GetName()));\n",
    "\n",
    "         if (strcmp(var->GetName(), \"Lumi\") == 0) {\n",
    "            cout << \"working on lumi\" << endl;\n",
    "            var->setVal(w->var(\"nominalLumi\")->getVal());\n",
    "            var->Print();\n",
    "         } else {\n",
    "            var->setVal(0);\n",
    "         }\n",
    "         // w->allVars().Print(\"v\");\n",
    "         // mc->GetNuisanceParameters()->Print(\"v\");\n",
    "         // pdftmp->plotOn(frame,LineWidth(2.));\n",
    "         // mc->GetPdf()->plotOn(frame,LineWidth(2.),Slice(*channelCat,tt->GetName()),ProjWData(*data));\n",
    "         // pdftmp->plotOn(frame,LineWidth(2.),Slice(*channelCat,tt->GetName()),ProjWData(*data));\n",
    "         normCount = pdftmp->expectedEvents(*obs);\n",
    "         pdftmp->plotOn(frame, LineWidth(2.), Normalization(normCount, RooAbsReal::NumEvent));\n",
    "\n",
    "         if (strcmp(var->GetName(), \"Lumi\") == 0) {\n",
    "            cout << \"working on lumi\" << endl;\n",
    "            var->setVal(w->var(\"nominalLumi\")->getVal() + 0.05);\n",
    "            var->Print();\n",
    "         } else {\n",
    "            var->setVal(nSigmaToVary);\n",
    "         }\n",
    "         // pdftmp->plotOn(frame,LineColor(kRed),LineStyle(kDashed),LineWidth(2));\n",
    "         // mc->GetPdf()->plotOn(frame,LineColor(kRed),LineStyle(kDashed),LineWidth(2.),Slice(*channelCat,tt->GetName()),ProjWData(*data));\n",
    "         // pdftmp->plotOn(frame,LineColor(kRed),LineStyle(kDashed),LineWidth(2.),Slice(*channelCat,tt->GetName()),ProjWData(*data));\n",
    "         normCount = pdftmp->expectedEvents(*obs);\n",
    "         pdftmp->plotOn(frame, LineWidth(2.), LineColor(kRed), LineStyle(kDashed),\n",
    "                        Normalization(normCount, RooAbsReal::NumEvent));\n",
    "\n",
    "         if (strcmp(var->GetName(), \"Lumi\") == 0) {\n",
    "            cout << \"working on lumi\" << endl;\n",
    "            var->setVal(w->var(\"nominalLumi\")->getVal() - 0.05);\n",
    "            var->Print();\n",
    "         } else {\n",
    "            var->setVal(-nSigmaToVary);\n",
    "         }\n",
    "         // pdftmp->plotOn(frame,LineColor(kGreen),LineStyle(kDashed),LineWidth(2));\n",
    "         // mc->GetPdf()->plotOn(frame,LineColor(kGreen),LineStyle(kDashed),LineWidth(2),Slice(*channelCat,tt->GetName()),ProjWData(*data));\n",
    "         // pdftmp->plotOn(frame,LineColor(kGreen),LineStyle(kDashed),LineWidth(2),Slice(*channelCat,tt->GetName()),ProjWData(*data));\n",
    "         normCount = pdftmp->expectedEvents(*obs);\n",
    "         pdftmp->plotOn(frame, LineWidth(2.), LineColor(kGreen), LineStyle(kDashed),\n",
    "                        Normalization(normCount, RooAbsReal::NumEvent));\n",
    "\n",
    "         // set them back to normal\n",
    "         if (strcmp(var->GetName(), \"Lumi\") == 0) {\n",
    "            cout << \"working on lumi\" << endl;\n",
    "            var->setVal(w->var(\"nominalLumi\")->getVal());\n",
    "            var->Print();\n",
    "         } else {\n",
    "            var->setVal(0);\n",
    "         }\n",
    "\n",
    "         list->Add(frame);\n",
    "\n",
    "         // quit making plots\n",
    "         ++nPlots;\n",
    "\n",
    "         frame->Draw();\n",
    "         c2->SaveAs(Form(\"%s_%s_%s.pdf\", tt->GetName(), obs->GetName(), var->GetName()));\n",
    "         delete c2;\n",
    "      }\n",
    "   }\n",
    "}"
   ]
  },
  {
   "cell_type": "markdown",
   "metadata": {},
   "source": [
    "-------------------------------------------------------"
   ]
  },
  {
   "cell_type": "markdown",
   "metadata": {},
   "source": [
    "Now make plots"
   ]
  },
  {
   "cell_type": "code",
   "execution_count": 16,
   "metadata": {
    "collapsed": false
   },
   "outputs": [
    {
     "name": "stderr",
     "output_type": "stream",
     "text": [
      "input_line_71:3:5: error: reference to 'list' is ambiguous\n",
      "if (list->GetSize() > 4) {\n",
      "    ^\n",
      "input_line_68:3:8: note: candidate found by name lookup is 'list'\n",
      "TList *list = new TList();\n",
      "       ^\n",
      "/usr/lib/gcc/x86_64-redhat-linux/8/../../../../include/c++/8/bits/stl_list.h:564:11: note: candidate found by name lookup is 'std::__cxx11::list'\n",
      "    class list : protected _List_base<_Tp, _Alloc>\n",
      "          ^\n",
      "input_line_71:3:5: error: use of class template 'list' requires template arguments\n",
      "if (list->GetSize() > 4) {\n",
      "    ^\n",
      "/usr/lib/gcc/x86_64-redhat-linux/8/../../../../include/c++/8/bits/stl_list.h:564:11: note: template is declared here\n",
      "    class list : protected _List_base<_Tp, _Alloc>\n",
      "          ^\n",
      "input_line_71:3:9: error: cannot use arrow operator on a type\n",
      "if (list->GetSize() > 4) {\n",
      "        ^\n",
      "input_line_71:4:15: error: reference to 'list' is ambiguous\n",
      "   double n = list->GetSize();\n",
      "              ^\n",
      "input_line_68:3:8: note: candidate found by name lookup is 'list'\n",
      "TList *list = new TList();\n",
      "       ^\n",
      "/usr/lib/gcc/x86_64-redhat-linux/8/../../../../include/c++/8/bits/stl_list.h:564:11: note: candidate found by name lookup is 'std::__cxx11::list'\n",
      "    class list : protected _List_base<_Tp, _Alloc>\n",
      "          ^\n",
      "input_line_71:10:15: error: reference to 'list' is ambiguous\n",
      "   c1->Divide(list->GetSize());\n",
      "              ^\n",
      "input_line_68:3:8: note: candidate found by name lookup is 'list'\n",
      "TList *list = new TList();\n",
      "       ^\n",
      "/usr/lib/gcc/x86_64-redhat-linux/8/../../../../include/c++/8/bits/stl_list.h:564:11: note: candidate found by name lookup is 'std::__cxx11::list'\n",
      "    class list : protected _List_base<_Tp, _Alloc>\n",
      "          ^\n",
      "input_line_71:11:21: error: reference to 'list' is ambiguous\n",
      "for (int i = 0; i < list->GetSize(); ++i) {\n",
      "                    ^\n",
      "input_line_68:3:8: note: candidate found by name lookup is 'list'\n",
      "TList *list = new TList();\n",
      "       ^\n",
      "/usr/lib/gcc/x86_64-redhat-linux/8/../../../../include/c++/8/bits/stl_list.h:564:11: note: candidate found by name lookup is 'std::__cxx11::list'\n",
      "    class list : protected _List_base<_Tp, _Alloc>\n",
      "          ^\n",
      "input_line_71:11:21: error: reference to 'list' is ambiguous\n",
      "for (int i = 0; i < list->GetSize(); ++i) {\n",
      "                    ^\n",
      "input_line_68:3:8: note: candidate found by name lookup is 'list'\n",
      "TList *list = new TList();\n",
      "       ^\n",
      "/usr/lib/gcc/x86_64-redhat-linux/8/../../../../include/c++/8/bits/stl_list.h:564:11: note: candidate found by name lookup is 'std::__cxx11::list'\n",
      "    class list : protected _List_base<_Tp, _Alloc>\n",
      "          ^\n",
      "input_line_71:13:4: error: reference to 'list' is ambiguous\n",
      "   list->At(i)->Draw();\n",
      "   ^\n",
      "input_line_68:3:8: note: candidate found by name lookup is 'list'\n",
      "TList *list = new TList();\n",
      "       ^\n",
      "/usr/lib/gcc/x86_64-redhat-linux/8/../../../../include/c++/8/bits/stl_list.h:564:11: note: candidate found by name lookup is 'std::__cxx11::list'\n",
      "    class list : protected _List_base<_Tp, _Alloc>\n",
      "          ^\n"
     ]
    }
   ],
   "source": [
    "TCanvas *c1 = new TCanvas(\"c1\", \"ProfileInspectorDemo\", 800, 200);\n",
    "if (list->GetSize() > 4) {\n",
    "   double n = list->GetSize();\n",
    "   int nx = (int)sqrt(n);\n",
    "   int ny = TMath::CeilNint(n / nx);\n",
    "   nx = TMath::CeilNint(sqrt(n));\n",
    "   c1->Divide(ny, nx);\n",
    "} else\n",
    "   c1->Divide(list->GetSize());\n",
    "for (int i = 0; i < list->GetSize(); ++i) {\n",
    "   c1->cd(i + 1);\n",
    "   list->At(i)->Draw();\n",
    "}"
   ]
  },
  {
   "cell_type": "markdown",
   "metadata": {},
   "source": [
    "Draw all canvases "
   ]
  },
  {
   "cell_type": "code",
   "execution_count": 17,
   "metadata": {
    "collapsed": false
   },
   "outputs": [],
   "source": [
    "%jsroot on\n",
    "gROOT->GetListOfCanvases()->Draw()"
   ]
  }
 ],
 "metadata": {
  "kernelspec": {
   "display_name": "ROOT C++",
   "language": "c++",
   "name": "root"
  },
  "language_info": {
   "codemirror_mode": "text/x-c++src",
   "file_extension": ".C",
   "mimetype": " text/x-c++src",
   "name": "c++"
  }
 },
 "nbformat": 4,
 "nbformat_minor": 2
}
