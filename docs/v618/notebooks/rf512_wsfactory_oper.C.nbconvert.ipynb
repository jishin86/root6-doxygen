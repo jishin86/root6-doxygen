{
 "cells": [
  {
   "cell_type": "markdown",
   "metadata": {},
   "source": [
    "# Rf 5 1 2_Wsfactory_Oper\n",
    "Organization and simultaneous fits: operator expressions and expression-based basic p.d.f.s in the workspace factory\n",
    "syntax\n",
    "\n",
    "\n",
    "\n",
    "**Author:** 04/2009 - Wouter Verkerke  \n",
    "<i><small>This notebook tutorial was automatically generated with <a href= \"https://github.com/root-project/root/blob/master/documentation/doxygen/converttonotebook.py\">ROOTBOOK-izer</a> from the macro found in the ROOT repository  on Thursday, August 29, 2019 at 02:57 AM.</small></i>"
   ]
  },
  {
   "cell_type": "code",
   "execution_count": 1,
   "metadata": {
    "collapsed": false
   },
   "outputs": [],
   "source": [
    "%%cpp -d\n",
    "#include \"RooRealVar.h\"\n",
    "#include \"RooDataSet.h\"\n",
    "#include \"RooGaussian.h\"\n",
    "#include \"RooConstVar.h\"\n",
    "#include \"RooChebychev.h\"\n",
    "#include \"RooAddPdf.h\"\n",
    "#include \"RooWorkspace.h\"\n",
    "#include \"RooPlot.h\"\n",
    "#include \"TCanvas.h\"\n",
    "#include \"TAxis.h\""
   ]
  },
  {
   "cell_type": "code",
   "execution_count": 2,
   "metadata": {
    "collapsed": false
   },
   "outputs": [],
   "source": [
    "%%cpp -d\n",
    "// This is a workaround to make sure the namespace is used inside functions\n",
    "using namespace RooFit;"
   ]
  },
  {
   "cell_type": "code",
   "execution_count": 3,
   "metadata": {
    "collapsed": false
   },
   "outputs": [
    {
     "name": "stdout",
     "output_type": "stream",
     "text": [
      "\n",
      "\u001b[1mRooFit v3.60 -- Developed by Wouter Verkerke and David Kirkby\u001b[0m \n",
      "                Copyright (C) 2000-2013 NIKHEF, University of California & Stanford University\n",
      "                All rights reserved, please read http://roofit.sourceforge.net/license.txt\n",
      "\n"
     ]
    }
   ],
   "source": [
    "RooWorkspace *w = new RooWorkspace(\"w\");"
   ]
  },
  {
   "cell_type": "markdown",
   "metadata": {},
   "source": [
    "You can define typedefs for even shorter construction semantics"
   ]
  },
  {
   "cell_type": "code",
   "execution_count": 4,
   "metadata": {
    "collapsed": false
   },
   "outputs": [],
   "source": [
    "w->factory(\"$Typedef(Gaussian,Gaus)\");\n",
    "w->factory(\"$Typedef(Chebychev,Cheby)\");"
   ]
  },
  {
   "cell_type": "markdown",
   "metadata": {},
   "source": [
    "Operator p.d.f. examples\n",
    " ------------------------------------------------"
   ]
  },
  {
   "cell_type": "markdown",
   "metadata": {},
   "source": [
    "Pdf addition is done with sum (coef1*pdf1,pdf2)"
   ]
  },
  {
   "cell_type": "code",
   "execution_count": 5,
   "metadata": {
    "collapsed": false
   },
   "outputs": [],
   "source": [
    "w->factory(\"SUM::summodel( f[0,1]*Gaussian::gx(x[-10,10],m[0],1.0), Chebychev::ch(x,{0.1,0.2,-0.3}) )\");"
   ]
  },
  {
   "cell_type": "markdown",
   "metadata": {},
   "source": [
    "Extended pdf addition is done with sum (yield1*pdf1,yield2*pdf2)"
   ]
  },
  {
   "cell_type": "code",
   "execution_count": 6,
   "metadata": {
    "collapsed": false
   },
   "outputs": [],
   "source": [
    "w->factory(\"SUM::extsummodel( Nsig[0,1000]*gx, Nbkg[0,1000]*ch )\");"
   ]
  },
  {
   "cell_type": "markdown",
   "metadata": {},
   "source": [
    "Pdf multiplication is done with prod ( pdf1, pdf2 )"
   ]
  },
  {
   "cell_type": "code",
   "execution_count": 7,
   "metadata": {
    "collapsed": false
   },
   "outputs": [],
   "source": [
    "w->factory(\"PROD::gxz( gx, Gaussian::gz(z[-10,10],0,1) )\");"
   ]
  },
  {
   "cell_type": "markdown",
   "metadata": {},
   "source": [
    "Conditional p.d.f multiplication is done with prod ( pdf1|obs, pdf2 )"
   ]
  },
  {
   "cell_type": "code",
   "execution_count": 8,
   "metadata": {
    "collapsed": false
   },
   "outputs": [],
   "source": [
    "w->factory(\"Gaussian::gy( y[-10,10], x, 1.0 )\");\n",
    "w->factory(\"PROD::gxycond( gy|x, gx )\");"
   ]
  },
  {
   "cell_type": "markdown",
   "metadata": {},
   "source": [
    "Convolution (numeric/ fft) is done with nconv/fconv (obs,pdf1,pdf2)"
   ]
  },
  {
   "cell_type": "code",
   "execution_count": 9,
   "metadata": {
    "collapsed": false
   },
   "outputs": [
    {
     "name": "stdout",
     "output_type": "stream",
     "text": [
      "[#1] INFO:Caching -- Changing internal binning of variable 'x' in FFT 'lxg' from 100 to 930 to improve the precision of the numerical FFT. This can be done manually by setting an additional binning named 'cache'.\n"
     ]
    }
   ],
   "source": [
    "w->factory(\"FCONV::lxg( x, Gaussian::g(x,mg[0],1), Landau::lc(x,0,1) )\");"
   ]
  },
  {
   "cell_type": "markdown",
   "metadata": {},
   "source": [
    "Simultaneous p.d.f.s are constructed with simul( index, state1=pdf1, state2=pdf2,...)"
   ]
  },
  {
   "cell_type": "code",
   "execution_count": 10,
   "metadata": {
    "collapsed": false
   },
   "outputs": [],
   "source": [
    "w->factory(\"SIMUL::smodel( c[A=0,B=1], A=Gaussian::gs(x,m,s[1]), B=Landau::ls(x,0,1) )\");"
   ]
  },
  {
   "cell_type": "markdown",
   "metadata": {},
   "source": [
    "Operator function examples\n",
    " ---------------------------------------------------"
   ]
  },
  {
   "cell_type": "markdown",
   "metadata": {},
   "source": [
    "Function multiplication is done with prod (func1, func2,...)"
   ]
  },
  {
   "cell_type": "code",
   "execution_count": 11,
   "metadata": {
    "collapsed": false
   },
   "outputs": [],
   "source": [
    "w->factory(\"prod::uv(u[10],v[10])\");"
   ]
  },
  {
   "cell_type": "markdown",
   "metadata": {},
   "source": [
    "Function addition is done with sum(func1,func2)"
   ]
  },
  {
   "cell_type": "code",
   "execution_count": 12,
   "metadata": {
    "collapsed": false
   },
   "outputs": [],
   "source": [
    "w->factory(\"sum::uv2(u,v)\");"
   ]
  },
  {
   "cell_type": "markdown",
   "metadata": {},
   "source": [
    "Interpreted and compiled expression based p.d.f.s.\n",
    " ---------------------------------------------------------------------------------------------------"
   ]
  },
  {
   "cell_type": "markdown",
   "metadata": {},
   "source": [
    "Create a roogenericpdf interpreted p.d.f. you can use single quotes to pass the expression string argument"
   ]
  },
  {
   "cell_type": "code",
   "execution_count": 13,
   "metadata": {
    "collapsed": false
   },
   "outputs": [],
   "source": [
    "w->factory(\"EXPR::G('x*x+1',x)\");"
   ]
  },
  {
   "cell_type": "markdown",
   "metadata": {},
   "source": [
    "Create a custom compiled p.d.f similar to the above interpreted p.d.f.\n",
    " The code required to make this p.d.f. is automatically embedded in the workspace"
   ]
  },
  {
   "cell_type": "code",
   "execution_count": 14,
   "metadata": {
    "collapsed": false
   },
   "outputs": [
    {
     "name": "stderr",
     "output_type": "stream",
     "text": [
      "Info in <TUnixSystem::ACLiC>: creating shared library /mnt/build/workspace/root-makedoc-v618/rootspi/rdoc/v618_TMP/notebooks/RooCFAuto000Pdf_cxx.so\n"
     ]
    },
    {
     "name": "stdout",
     "output_type": "stream",
     "text": [
      "[#1] INFO:ObjectHandling -- RooWorkspace::autoImportClass(w) importing code of class RooCFAuto000Pdf from /mnt/build/workspace/root-makedoc-v618/rootspi/rdoc/v618_TMP/notebooks/RooCFAuto000Pdf.cxx and RooCFAuto000Pdf.h\n"
     ]
    }
   ],
   "source": [
    "w->factory(\"CEXPR::GC('x*x+a',{x,a[1]})\");"
   ]
  },
  {
   "cell_type": "markdown",
   "metadata": {},
   "source": [
    "Compiled and interpreted functions (rather than p.d.f.s) can be made with the lower case\n",
    " 'expr' and 'cexpr' types"
   ]
  },
  {
   "cell_type": "markdown",
   "metadata": {},
   "source": [
    "Print workspace contents"
   ]
  },
  {
   "cell_type": "code",
   "execution_count": 15,
   "metadata": {
    "collapsed": false
   },
   "outputs": [
    {
     "name": "stdout",
     "output_type": "stream",
     "text": [
      "\n",
      "RooWorkspace(w) w contents\n",
      "\n",
      "variables\n",
      "---------\n",
      "(Nbkg,Nsig,a,c,f,m,mg,s,u,v,x,y,z)\n",
      "\n",
      "p.d.f.s\n",
      "-------\n",
      "RooGenericPdf::G[ actualVars=(x) formula=\"x*x+1\" ] = 1\n",
      "RooCFAuto000Pdf::GC[ x=x a=a ] = 1\n",
      "RooChebychev::ch[ x=x coefList=(0.1,0.2,-0.3) ] = 0.8\n",
      "RooAddPdf::extsummodel[ Nsig * gx + Nbkg * ch ] = 0.9\n",
      "RooGaussian::g[ x=x mean=mg sigma=1 ] = 1\n",
      "RooGaussian::gs[ x=x mean=m sigma=s ] = 1\n",
      "RooGaussian::gx[ x=x mean=m sigma=1 ] = 1\n",
      "RooProdPdf::gxycond[ gx * gy|x ] = 1\n",
      "RooProdPdf::gxz[ gx * gz ] = 1\n",
      "RooGaussian::gy[ x=y mean=x sigma=1 ] = 1\n",
      "RooGaussian::gz[ x=z mean=0 sigma=1 ] = 1\n",
      "RooLandau::lc[ x=x mean=0 sigma=1 ] = 0.178854\n",
      "RooLandau::ls[ x=x mean=0 sigma=1 ] = 0.178854\n",
      "RooFFTConvPdf::lxg[ g(x) (*) lc(x) ] = 0.171832\n",
      "RooSimultaneous::smodel[ indexCat=c A=gs B=ls ] = 1\n",
      "RooAddPdf::summodel[ f * gx + [%] * ch ] = 0.9\n",
      "\n",
      "functions\n",
      "--------\n",
      "RooProduct::uv[ u * v ] = 100\n",
      "RooAddition::uv2[ u + v ] = 20\n",
      "\n",
      "embedded class code\n",
      "-------------------\n",
      "RooCFAuto000Pdf\n",
      "\n",
      "embedded precalculated expensive components\n",
      "-------------------------------------------\n",
      "uid = 0 key=lxg_g_CONV_lc_CACHEHIST_Obs[x]_BufFrac0.1_BufStrat0 value=RooDataHist::lxg_g_CONV_lc_CACHEHIST_Obs[x]_BufFrac0.1_BufStrat0 parameters=( mg=0 )\n"
     ]
    }
   ],
   "source": [
    "w->Print();"
   ]
  },
  {
   "cell_type": "markdown",
   "metadata": {},
   "source": [
    "Make workspace visible on command line"
   ]
  },
  {
   "cell_type": "code",
   "execution_count": 16,
   "metadata": {
    "collapsed": false
   },
   "outputs": [],
   "source": [
    "gDirectory->Add(w);"
   ]
  }
 ],
 "metadata": {
  "kernelspec": {
   "display_name": "ROOT C++",
   "language": "c++",
   "name": "root"
  },
  "language_info": {
   "codemirror_mode": "text/x-c++src",
   "file_extension": ".C",
   "mimetype": " text/x-c++src",
   "name": "c++"
  }
 },
 "nbformat": 4,
 "nbformat_minor": 2
}
