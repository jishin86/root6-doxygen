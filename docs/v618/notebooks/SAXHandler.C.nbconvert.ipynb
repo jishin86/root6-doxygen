{
 "cells": [
  {
   "cell_type": "markdown",
   "metadata": {},
   "source": [
    "#  S A X Handler\n",
    "ROOT implementation of a simple SAX Handler.\n",
    "\n",
    "This handler uses TSAXParser, a SAX Parser using the SAX interface\n",
    "of libxml2. This script will output all elements of the original xml\n",
    "file, if successfully parsed.\n",
    "\n",
    "To run this program do:\n",
    "```cpp\n",
    ".x SAXHandler.C\n",
    "```\n",
    "\n",
    "Requires: `saxexample.xml`\n",
    "\n",
    "\n",
    "\n",
    "\n",
    "\n",
    "**Author:** Sergey Linev  \n",
    "<i><small>This notebook tutorial was automatically generated with <a href= \"https://github.com/root-project/root/blob/master/documentation/doxygen/converttonotebook.py\">ROOTBOOK-izer</a> from the macro found in the ROOT repository  on Thursday, August 29, 2019 at 04:07 AM.</small></i>"
   ]
  },
  {
   "cell_type": "code",
   "execution_count": 1,
   "metadata": {
    "collapsed": false
   },
   "outputs": [],
   "source": [
    "%%cpp -d\n",
    "#include <Riostream.h>\n",
    "#include <TList.h>\n",
    "#include <TSAXParser.h>\n",
    "#include <TXMLAttr.h>\n",
    "\n",
    "\n",
    "class SaxHandler {\n",
    "public:\n",
    "   SaxHandler() { }\n",
    "\n",
    "   void     OnStartDocument() { }\n",
    "   void     OnEndDocument();\n",
    "   void     OnStartElement(const char*, const TList*);\n",
    "   void     OnEndElement(const char*);\n",
    "   void     OnCharacters(const char*);\n",
    "   void     OnComment(const char*);\n",
    "   void     OnWarning(const char*);\n",
    "   void     OnError(const char*);\n",
    "   void     OnFatalError(const char*);\n",
    "   void     OnCdataBlock(const char*, Int_t);\n",
    "};"
   ]
  },
  {
   "cell_type": "markdown",
   "metadata": {},
   "source": [
    " A helper function is created: "
   ]
  },
  {
   "cell_type": "code",
   "execution_count": 2,
   "metadata": {
    "collapsed": false
   },
   "outputs": [],
   "source": [
    "%%cpp -d\n",
    "void SaxHandler::OnEndDocument()\n",
    "{\n",
    "   cout << endl;\n",
    "}"
   ]
  },
  {
   "cell_type": "markdown",
   "metadata": {},
   "source": [
    " A helper function is created: "
   ]
  },
  {
   "cell_type": "code",
   "execution_count": 3,
   "metadata": {
    "collapsed": false
   },
   "outputs": [],
   "source": [
    "%%cpp -d\n",
    "void SaxHandler::OnStartElement(const char *name, const TList *attributes)\n",
    "{\n",
    "   cout << \"<\" << name;\n",
    "\n",
    "   TXMLAttr *attr;\n",
    "\n",
    "   TIter next(attributes);\n",
    "   while ((attr = (TXMLAttr*) next())) {\n",
    "      cout << \" \" << attr->GetName() << \"=\\\"\" << attr->GetValue() << \"\\\"\";\n",
    "   }\n",
    "\n",
    "   cout  << \">\";\n",
    "}"
   ]
  },
  {
   "cell_type": "markdown",
   "metadata": {},
   "source": [
    " A helper function is created: "
   ]
  },
  {
   "cell_type": "code",
   "execution_count": 4,
   "metadata": {
    "collapsed": false
   },
   "outputs": [],
   "source": [
    "%%cpp -d\n",
    "void SaxHandler::OnEndElement(const char *name)\n",
    "{\n",
    "   cout << \"</\" << name << \">\";\n",
    "}"
   ]
  },
  {
   "cell_type": "markdown",
   "metadata": {},
   "source": [
    " A helper function is created: "
   ]
  },
  {
   "cell_type": "code",
   "execution_count": 5,
   "metadata": {
    "collapsed": false
   },
   "outputs": [],
   "source": [
    "%%cpp -d\n",
    "void SaxHandler::OnCharacters(const char *characters)\n",
    "{\n",
    "   cout << characters;\n",
    "}"
   ]
  },
  {
   "cell_type": "markdown",
   "metadata": {},
   "source": [
    " A helper function is created: "
   ]
  },
  {
   "cell_type": "code",
   "execution_count": 6,
   "metadata": {
    "collapsed": false
   },
   "outputs": [],
   "source": [
    "%%cpp -d\n",
    "void SaxHandler::OnComment(const char *text)\n",
    "{\n",
    "   cout << \"<!--\" << text << \"-->\";\n",
    "}"
   ]
  },
  {
   "cell_type": "markdown",
   "metadata": {},
   "source": [
    " A helper function is created: "
   ]
  },
  {
   "cell_type": "code",
   "execution_count": 7,
   "metadata": {
    "collapsed": false
   },
   "outputs": [],
   "source": [
    "%%cpp -d\n",
    "void SaxHandler::OnWarning(const char *text)\n",
    "{\n",
    "   cout << \"Warning: \" << text << endl;\n",
    "}"
   ]
  },
  {
   "cell_type": "markdown",
   "metadata": {},
   "source": [
    " A helper function is created: "
   ]
  },
  {
   "cell_type": "code",
   "execution_count": 8,
   "metadata": {
    "collapsed": false
   },
   "outputs": [],
   "source": [
    "%%cpp -d\n",
    "void SaxHandler::OnError(const char *text)\n",
    "{\n",
    "   cerr << \"Error: \" << text << endl ;\n",
    "}"
   ]
  },
  {
   "cell_type": "markdown",
   "metadata": {},
   "source": [
    " A helper function is created: "
   ]
  },
  {
   "cell_type": "code",
   "execution_count": 9,
   "metadata": {
    "collapsed": false
   },
   "outputs": [],
   "source": [
    "%%cpp -d\n",
    "void SaxHandler::OnFatalError(const char *text)\n",
    "{\n",
    "   cerr << \"FatalError: \" << text << endl ;\n",
    "}"
   ]
  },
  {
   "cell_type": "markdown",
   "metadata": {},
   "source": [
    " A helper function is created: "
   ]
  },
  {
   "cell_type": "code",
   "execution_count": 10,
   "metadata": {
    "collapsed": false
   },
   "outputs": [],
   "source": [
    "%%cpp -d\n",
    "void SaxHandler::OnCdataBlock(const char *text, Int_t len)\n",
    "{\n",
    "   cout << \"OnCdataBlock() \" << text;\n",
    "}"
   ]
  },
  {
   "cell_type": "code",
   "execution_count": 11,
   "metadata": {
    "collapsed": false
   },
   "outputs": [
    {
     "name": "stdout",
     "output_type": "stream",
     "text": [
      "<gjob:Helping xmlns:gjob=\"http://www.gnome.org/some-location\">\n",
      "  <gjob:Jobs>\n",
      "\n",
      "    <gjob:Job>\n",
      "      <gjob:Project id=\"3\" time=\"100\" priority=\"high\"></gjob:Project>\n",
      "      <gjob:Application>GBackup</gjob:Application>\n",
      "      <gjob:Category>Development</gjob:Category>\n",
      "\n",
      "      <gjob:Update>\n",
      "         <gjob:Status>Open</gjob:Status>\n",
      "         <gjob:Modified>Mon, 07 Jun 1999 20:27:45 -0400 MET DST</gjob:Modified>\n",
      "        <gjob:Salary>USD 0.00</gjob:Salary>\n",
      "      </gjob:Update>\n",
      "\n",
      "      <gjob:Developers>\n",
      "        <gjob:Developer>\n",
      "        </gjob:Developer>\n",
      "      </gjob:Developers>\n",
      "\n",
      "      <gjob:Contact>\n",
      "        <gjob:Person>Nathan Clemons</gjob:Person>\n",
      "        <gjob:Email>nathan@windsofstorm.net</gjob:Email>\n",
      "        <gjob:Company>\n",
      "        </gjob:Company>\n",
      "        <gjob:Organisation>\n",
      "        </gjob:Organisation>\n",
      "        <gjob:Webpage>\n",
      "        </gjob:Webpage>\n",
      "        <gjob:Snailmail>\n",
      "        </gjob:Snailmail>\n",
      "        <gjob:Phone>\n",
      "        </gjob:Phone>\n",
      "      </gjob:Contact>\n",
      "\n",
      "      <gjob:Requirements>\n",
      "      The program should be released as free software, under the GPL.\n",
      "      </gjob:Requirements>\n",
      "\n",
      "      <gjob:Skills>\n",
      "      </gjob:Skills>\n",
      "\n",
      "      <gjob:Details>\n",
      "      A GNOME based system that will allow a superuser to configure\n",
      "      compressed and uncompressed files and/or file systems to be backed\n",
      "      up with a supported media in the system.  This should be able to\n",
      "      perform via find commands generating a list of files that are passed\n",
      "      to tar, dd, cpio, cp, gzip, etc., to be directed to the tape machine\n",
      "      or via operations performed on the filesystem itself. Email\n",
      "      notification and GUI status display very important.\n",
      "      </gjob:Details>\n",
      "\n",
      "    </gjob:Job>\n",
      "\n",
      "  </gjob:Jobs>\n",
      "</gjob:Helping>\n"
     ]
    }
   ],
   "source": [
    "TSAXParser *saxParser = new TSAXParser();\n",
    "SaxHandler *saxHandler = new SaxHandler();\n",
    "\n",
    "saxParser->ConnectToHandler(\"SaxHandler\", saxHandler);\n",
    "TString dir = gROOT->GetTutorialDir();\n",
    "saxParser->ParseFile(dir+\"/xml/saxexample.xml\");"
   ]
  }
 ],
 "metadata": {
  "kernelspec": {
   "display_name": "ROOT C++",
   "language": "c++",
   "name": "root"
  },
  "language_info": {
   "codemirror_mode": "text/x-c++src",
   "file_extension": ".C",
   "mimetype": " text/x-c++src",
   "name": "c++"
  }
 },
 "nbformat": 4,
 "nbformat_minor": 2
}
