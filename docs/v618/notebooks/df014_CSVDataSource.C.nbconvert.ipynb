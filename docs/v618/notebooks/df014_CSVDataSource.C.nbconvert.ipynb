{
 "cells": [
  {
   "cell_type": "markdown",
   "metadata": {},
   "source": [
    "# Df 0 1 4_ C S V Data Source\n",
    "This tutorial illustrates how use the RDataFrame in combination with a\n",
    "RDataSource. In this case we use a TCsvDS. This data source allows to read\n",
    "a CSV file from a RDataFrame.\n",
    "As a result of running this tutorial, we will produce plots of the dimuon\n",
    "spectrum starting from a subset of the CMS collision events of Run2010B.\n",
    "Dataset Reference:\n",
    "McCauley, T. (2014). Dimuon event information derived from the Run2010B\n",
    "public Mu dataset. CERN Open Data Portal.\n",
    "DOI: [10.7483/OPENDATA.CMS.CB8H.MFFA](http://opendata.cern.ch/record/700).\n",
    "\n",
    "\n",
    "\n",
    "\n",
    "**Author:** Enric Tejedor  \n",
    "<i><small>This notebook tutorial was automatically generated with <a href= \"https://github.com/root-project/root/blob/master/documentation/doxygen/converttonotebook.py\">ROOTBOOK-izer</a> from the macro found in the ROOT repository  on Thursday, August 29, 2019 at 01:06 AM.</small></i>"
   ]
  },
  {
   "cell_type": "markdown",
   "metadata": {},
   "source": [
    "Let's first create a rdf that will read from the csv file.\n",
    " The types of the columns will be automatically inferred."
   ]
  },
  {
   "cell_type": "code",
   "execution_count": 1,
   "metadata": {
    "collapsed": false
   },
   "outputs": [
    {
     "name": "stderr",
     "output_type": "stream",
     "text": [
      "[TFile::Cp] Total 14.46 MB\t|====================| 100.00 % [90.0 MB/s]\r\n"
     ]
    }
   ],
   "source": [
    "auto fileNameUrl = \"http://root.cern.ch/files/tutorials/df014_CsvDataSource_MuRun2010B.csv\";\n",
    "auto fileName = \"df014_CsvDataSource_MuRun2010B_cpp.csv\";\n",
    "TFile::Cp(fileNameUrl, fileName);\n",
    "auto tdf = ROOT::RDF::MakeCsvDataFrame(fileName);"
   ]
  },
  {
   "cell_type": "markdown",
   "metadata": {},
   "source": [
    "Now we will apply a first filter based on two columns of the csv,\n",
    " and we will define a new column that will contain the invariant mass.\n",
    " Note how the new invariant mass column is defined from several other\n",
    " columns that already existed in the CSV file."
   ]
  },
  {
   "cell_type": "code",
   "execution_count": 2,
   "metadata": {
    "collapsed": false
   },
   "outputs": [],
   "source": [
    "auto filteredEvents =\n",
    "   tdf.Filter(\"Q1 * Q2 == -1\")\n",
    "      .Define(\"m\", \"sqrt(pow(E1 + E2, 2) - (pow(px1 + px2, 2) + pow(py1 + py2, 2) + pow(pz1 + pz2, 2)))\");"
   ]
  },
  {
   "cell_type": "markdown",
   "metadata": {},
   "source": [
    "Next we create a histogram to hold the invariant mass values and we draw it."
   ]
  },
  {
   "cell_type": "code",
   "execution_count": 3,
   "metadata": {
    "collapsed": false
   },
   "outputs": [],
   "source": [
    "auto invMass =\n",
    "   filteredEvents.Histo1D({\"invMass\", \"CMS Opendata: #mu#mu mass;#mu#mu mass [GeV];Events\", 512, 2, 110}, \"m\");\n",
    "\n",
    "auto c = new TCanvas();\n",
    "c->SetLogx();\n",
    "c->SetLogy();\n",
    "invMass->DrawClone();"
   ]
  },
  {
   "cell_type": "markdown",
   "metadata": {},
   "source": [
    "We will now produce a plot also for the j/psi particle. we will plot\n",
    " on the same canvas the full spectrum and the zoom in the J/psi particle.\n",
    " First we will create the full spectrum histogram from the invariant mass\n",
    " column, using a different histogram model than before."
   ]
  },
  {
   "cell_type": "code",
   "execution_count": 4,
   "metadata": {
    "collapsed": false
   },
   "outputs": [],
   "source": [
    "auto fullSpectrum =\n",
    "   filteredEvents.Histo1D({\"Spectrum\", \"Subset of CMS Run 2010B;#mu#mu mass [GeV];Events\", 1024, 2, 110}, \"m\");"
   ]
  },
  {
   "cell_type": "markdown",
   "metadata": {},
   "source": [
    "Next we will create the histogram for the j/psi particle, applying first\n",
    " the corresponding cut."
   ]
  },
  {
   "cell_type": "code",
   "execution_count": 5,
   "metadata": {
    "collapsed": false
   },
   "outputs": [
    {
     "name": "stderr",
     "output_type": "stream",
     "text": [
      "input_line_66:4:1: warning: captures will be by reference, not copy\n",
      "auto jpsiCut = [jpsiLow, jpsiHigh](double m) { return m < jpsiHigh && m > jpsiLow; };\n",
      "^\n"
     ]
    }
   ],
   "source": [
    "double jpsiLow = 2.95;\n",
    "double jpsiHigh = 3.25;\n",
    "auto jpsiCut = [jpsiLow, jpsiHigh](double m) { return m < jpsiHigh && m > jpsiLow; };\n",
    "auto jpsi =\n",
    "   filteredEvents.Filter(jpsiCut, {\"m\"})\n",
    "      .Histo1D({\"jpsi\", \"Subset of CMS Run 2010B: J/#psi window;#mu#mu mass [GeV];Events\", 128, jpsiLow, jpsiHigh},\n",
    "               \"m\");"
   ]
  },
  {
   "cell_type": "markdown",
   "metadata": {},
   "source": [
    "Finally we draw the two histograms side by side."
   ]
  },
  {
   "cell_type": "code",
   "execution_count": 6,
   "metadata": {
    "collapsed": false
   },
   "outputs": [],
   "source": [
    "auto dualCanvas = new TCanvas(\"DualCanvas\", \"DualCanvas\", 800, 512);\n",
    "dualCanvas->Divide(2, 1);\n",
    "auto leftPad = dualCanvas->cd(1);\n",
    "leftPad->SetLogx();\n",
    "leftPad->SetLogy();\n",
    "fullSpectrum->DrawClone(\"Hist\");\n",
    "dualCanvas->cd(2);\n",
    "jpsi->DrawClone(\"HistP\");\n",
    "\n",
    "return 0;"
   ]
  },
  {
   "cell_type": "markdown",
   "metadata": {},
   "source": [
    "Draw all canvases "
   ]
  },
  {
   "cell_type": "code",
   "execution_count": 7,
   "metadata": {
    "collapsed": false
   },
   "outputs": [
    {
     "data": {
      "image/png": "[encoded data removed]",
      "text/plain": [
       "<IPython.core.display.Image object>"
      ]
     },
     "metadata": {},
     "output_type": "display_data"
    },
    {
     "data": {
      "image/png": "[encoded data removed]",
      "text/plain": [
       "<IPython.core.display.Image object>"
      ]
     },
     "metadata": {},
     "output_type": "display_data"
    }
   ],
   "source": [
    "gROOT->GetListOfCanvases()->Draw()"
   ]
  }
 ],
 "metadata": {
  "kernelspec": {
   "display_name": "ROOT C++",
   "language": "c++",
   "name": "root"
  },
  "language_info": {
   "codemirror_mode": "text/x-c++src",
   "file_extension": ".C",
   "mimetype": " text/x-c++src",
   "name": "c++"
  }
 },
 "nbformat": 4,
 "nbformat_minor": 2
}
