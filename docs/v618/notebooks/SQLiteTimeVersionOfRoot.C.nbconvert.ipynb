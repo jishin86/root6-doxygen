{
 "cells": [
  {
   "cell_type": "markdown",
   "metadata": {},
   "source": [
    "#  S Q Lite Time Version Of Root\n",
    "\n",
    "This tutorial demonstrates how TSQLServer can be used to create a\n",
    "connection with a SQlite3 database. It accesses the Sqlite data base.\n",
    "Download from https://root.cern/download/root_download_stats.sqlite\n",
    "In order to demonstrate the dependency over ROOT version 6.14, this tutorial uses the TSQLResult\n",
    "function which allows to extract the minimum time stored in the SQlite3 database.\n",
    "The next step is to create a TH1F Histogram, which will be filled with the values stored in\n",
    "two different columns from the database, the \"Time\" and \"Version\" columns.\n",
    "This product includes GeoLite2 data created by MaxMind, available from\n",
    "<a href=\"http://www.maxmind.com\">http://www.maxmind.com</a>.\n",
    "\n",
    "\n",
    "\n",
    "\n",
    "**Author:** Alexandra-Maria Dobrescu 08/2018  \n",
    "<i><small>This notebook tutorial was automatically generated with <a href= \"https://github.com/root-project/root/blob/master/documentation/doxygen/converttonotebook.py\">ROOTBOOK-izer</a> from the macro found in the ROOT repository  on Thursday, August 29, 2019 at 03:39 AM.</small></i>"
   ]
  },
  {
   "cell_type": "code",
   "execution_count": 1,
   "metadata": {
    "collapsed": false
   },
   "outputs": [],
   "source": [
    "%%cpp -d\n",
    "#include <TSQLiteServer.h>\n",
    "#include <TSQLiteResult.h>\n",
    "#include <TSQLRow.h>\n",
    "#include <TString.h>"
   ]
  },
  {
   "cell_type": "code",
   "execution_count": 2,
   "metadata": {
    "collapsed": false
   },
   "outputs": [
    {
     "name": "stderr",
     "output_type": "stream",
     "text": [
      "input_line_27:13:13: error: redefinition of 'time' as different kind of symbol\n",
      "const char *time = \"SELECT Time, Version FROM accesslog;\";\n",
      "            ^\n",
      "/usr/include/time.h:75:15: note: previous definition is here\n",
      "extern time_t time (time_t *__timer) __THROW;\n",
      "              ^\n"
     ]
    }
   ],
   "source": [
    "TSQLServer *db = TSQLServer::Connect(\"sqlite://root_download_stats.sqlite\", \"\", \"\");\n",
    "\n",
    "const char *minTime = \"SELECT min(Time) FROM accesslog;\";\n",
    "TSQLResult *minTimeRes = db->Query(minTime);\n",
    "\n",
    "std::string strMinTimeField = minTimeRes->Next()->GetField(0);\n",
    "TDatime minTimeFormat(strMinTimeField.c_str());\n",
    "\n",
    "TDatime now;\n",
    "TH1F *hTime = new TH1F(\"hTime\", \"Duration of ROOT dependency over version 6.14\", 10, minTimeFormat.Convert(), now.Convert());\n",
    "\n",
    "const char *time = \"SELECT Time, Version FROM accesslog;\";\n",
    "TSQLResult *timeRes = db->Query(time);\n",
    "\n",
    "while (TSQLRow *row = timeRes->Next()) {\n",
    "   TDatime rowTime(row->GetField(0));\n",
    "   TString rowVersion(row->GetField(1));\n",
    "   TString shortVersion(rowVersion(0,4));\n",
    "   if ( shortVersion == \"6.14\" ) {\n",
    "      hTime->Fill(rowTime.Convert());\n",
    "   }\n",
    "   delete row;\n",
    "}\n",
    "\n",
    "TCanvas *timeHistogram = new TCanvas();\n",
    "\n",
    "gStyle->SetTimeOffset(0);\n",
    "hTime->GetXaxis()->SetTimeDisplay(1);\n",
    "hTime->GetXaxis()->SetLabelSize(0.02);\n",
    "hTime->GetXaxis()->SetNdivisions(512, kFALSE);\n",
    "hTime->GetXaxis()->SetTimeFormat(\"%Y-%m-%d\");\n",
    "\n",
    "hTime->Draw();"
   ]
  },
  {
   "cell_type": "markdown",
   "metadata": {},
   "source": [
    "Draw all canvases "
   ]
  },
  {
   "cell_type": "code",
   "execution_count": 3,
   "metadata": {
    "collapsed": false
   },
   "outputs": [],
   "source": [
    "%jsroot on\n",
    "gROOT->GetListOfCanvases()->Draw()"
   ]
  }
 ],
 "metadata": {
  "kernelspec": {
   "display_name": "ROOT C++",
   "language": "c++",
   "name": "root"
  },
  "language_info": {
   "codemirror_mode": "text/x-c++src",
   "file_extension": ".C",
   "mimetype": " text/x-c++src",
   "name": "c++"
  }
 },
 "nbformat": 4,
 "nbformat_minor": 2
}
