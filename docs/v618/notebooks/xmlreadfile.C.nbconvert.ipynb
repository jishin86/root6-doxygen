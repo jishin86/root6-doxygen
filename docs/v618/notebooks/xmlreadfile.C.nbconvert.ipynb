{
 "cells": [
  {
   "cell_type": "markdown",
   "metadata": {},
   "source": [
    "# Xmlreadfile\n",
    "Example to read and parse any xml file, supported by TXMLEngine class\n",
    "The input file, produced by xmlnewfile.C macro is used\n",
    "If you need full xml syntax support, use TXMLParser instead\n",
    "\n",
    "\n",
    "\n",
    "\n",
    "**Author:** Sergey Linev  \n",
    "<i><small>This notebook tutorial was automatically generated with <a href= \"https://github.com/root-project/root/blob/master/documentation/doxygen/converttonotebook.py\">ROOTBOOK-izer</a> from the macro found in the ROOT repository  on Thursday, August 29, 2019 at 04:08 AM.</small></i>"
   ]
  },
  {
   "cell_type": "code",
   "execution_count": 1,
   "metadata": {
    "collapsed": false
   },
   "outputs": [],
   "source": [
    "%%cpp -d\n",
    "#include \"TXMLEngine.h\"\n",
    "#include <stdio.h>"
   ]
  },
  {
   "cell_type": "markdown",
   "metadata": {},
   "source": [
    " A helper function is created: "
   ]
  },
  {
   "cell_type": "code",
   "execution_count": 2,
   "metadata": {
    "collapsed": false
   },
   "outputs": [],
   "source": [
    "%%cpp -d\n",
    "void DisplayNode(TXMLEngine &xml, XMLNodePointer_t node, Int_t level)\n",
    "{\n",
    "   // this function display all accessible information about xml node and its children\n",
    "\n",
    "   printf(\"%*c node: %s\\n\", level, ' ', xml.GetNodeName(node));\n",
    "\n",
    "   // display namespace\n",
    "   XMLNsPointer_t ns = xml.GetNS(node);\n",
    "   if (ns != 0)\n",
    "      printf(\"%*c namespace: %s refer: %s\\n\", level + 2, ' ', xml.GetNSName(ns), xml.GetNSReference(ns));\n",
    "\n",
    "   // display attributes\n",
    "   XMLAttrPointer_t attr = xml.GetFirstAttr(node);\n",
    "   while (attr != 0) {\n",
    "      printf(\"%*c attr: %s value: %s\\n\", level + 2, ' ', xml.GetAttrName(attr), xml.GetAttrValue(attr));\n",
    "      attr = xml.GetNextAttr(attr);\n",
    "   }\n",
    "\n",
    "   // display content (if exists)\n",
    "   const char *content = xml.GetNodeContent(node);\n",
    "   if (content != 0)\n",
    "      printf(\"%*c cont: %s\\n\", level + 2, ' ', content);\n",
    "\n",
    "   // display all child nodes\n",
    "   XMLNodePointer_t child = xml.GetChild(node);\n",
    "   while (child != 0) {\n",
    "      DisplayNode(xml, child, level + 2);\n",
    "      child = xml.GetNext(child);\n",
    "   }\n",
    "}"
   ]
  },
  {
   "cell_type": "markdown",
   "metadata": {},
   "source": [
    " Arguments are defined. "
   ]
  },
  {
   "cell_type": "code",
   "execution_count": 3,
   "metadata": {
    "collapsed": false
   },
   "outputs": [],
   "source": [
    "const char* filename = \"example.xml\";"
   ]
  },
  {
   "cell_type": "markdown",
   "metadata": {},
   "source": [
    "First create engine"
   ]
  },
  {
   "cell_type": "code",
   "execution_count": 4,
   "metadata": {
    "collapsed": false
   },
   "outputs": [],
   "source": [
    "TXMLEngine xml;"
   ]
  },
  {
   "cell_type": "markdown",
   "metadata": {},
   "source": [
    "Now try to parse xml file\n",
    " Only file with restricted xml syntax are supported"
   ]
  },
  {
   "cell_type": "code",
   "execution_count": 5,
   "metadata": {
    "collapsed": false
   },
   "outputs": [],
   "source": [
    "XMLDocPointer_t xmldoc = xml.ParseFile(filename);\n",
    "if (!xmldoc) return;"
   ]
  },
  {
   "cell_type": "markdown",
   "metadata": {},
   "source": [
    "Take access to main node"
   ]
  },
  {
   "cell_type": "code",
   "execution_count": 6,
   "metadata": {
    "collapsed": false
   },
   "outputs": [],
   "source": [
    "XMLNodePointer_t mainnode = xml.DocGetRootElement(xmldoc);"
   ]
  },
  {
   "cell_type": "markdown",
   "metadata": {},
   "source": [
    "Display recursively all nodes and subnodes"
   ]
  },
  {
   "cell_type": "code",
   "execution_count": 7,
   "metadata": {
    "collapsed": false
   },
   "outputs": [
    {
     "name": "stdout",
     "output_type": "stream",
     "text": [
      "  node: main\n",
      "    node: child1\n",
      "      cont: Content of child1 node\n",
      "    node: child2\n",
      "      attr: attr1 value: value1\n",
      "      attr: attr2 value: value2\n",
      "    node: child3\n",
      "      node: subchild1\n",
      "        cont: subchild1 content\n",
      "      node: subchild2\n",
      "        cont: subchild2 content\n",
      "      node: subchild3\n",
      "        cont: subchild3 content\n",
      "    node: child4\n",
      "      namespace: child4 refer: http://website/webpage\n",
      "      node: subchild1\n",
      "        namespace: child4 refer: http://website/webpage\n",
      "        cont: subchild1 content\n",
      "      node: subchild2\n",
      "        namespace: child4 refer: http://website/webpage\n",
      "        cont: subchild2 content\n",
      "      node: subchild3\n",
      "        namespace: child4 refer: http://website/webpage\n",
      "        cont: subchild3 content\n"
     ]
    }
   ],
   "source": [
    "DisplayNode(xml, mainnode, 1);"
   ]
  },
  {
   "cell_type": "markdown",
   "metadata": {},
   "source": [
    "Release memory before exit"
   ]
  },
  {
   "cell_type": "code",
   "execution_count": 8,
   "metadata": {
    "collapsed": false
   },
   "outputs": [],
   "source": [
    "xml.FreeDoc(xmldoc);"
   ]
  }
 ],
 "metadata": {
  "kernelspec": {
   "display_name": "ROOT C++",
   "language": "c++",
   "name": "root"
  },
  "language_info": {
   "codemirror_mode": "text/x-c++src",
   "file_extension": ".C",
   "mimetype": " text/x-c++src",
   "name": "c++"
  }
 },
 "nbformat": 4,
 "nbformat_minor": 2
}
