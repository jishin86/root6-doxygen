{
 "cells": [
  {
   "cell_type": "markdown",
   "metadata": {},
   "source": [
    "# Cnt 0 0 1_Basictseq\n",
    "Example showing possible usages of the TSeq class.\n",
    "\n",
    "\n",
    "\n",
    "\n",
    "**Author:** Danilo Piparo  \n",
    "<i><small>This notebook tutorial was automatically generated with <a href= \"https://github.com/root-project/root/blob/master/documentation/doxygen/converttonotebook.py\">ROOTBOOK-izer</a> from the macro found in the ROOT repository  on Thursday, August 29, 2019 at 12:54 AM.</small></i>"
   ]
  },
  {
   "cell_type": "code",
   "execution_count": 1,
   "metadata": {
    "collapsed": false
   },
   "outputs": [],
   "source": [
    "using namespace ROOT;"
   ]
  },
  {
   "cell_type": "code",
   "execution_count": 2,
   "metadata": {
    "collapsed": false
   },
   "outputs": [
    {
     "name": "stdout",
     "output_type": "stream",
     "text": [
      "Loop on sequence of integers from 0 to 10\n",
      "Element 0\n",
      "Element 1\n",
      "Element 2\n",
      "Element 3\n",
      "Element 4\n",
      "Element 5\n",
      "Element 6\n",
      "Element 7\n",
      "Element 8\n",
      "Element 9\n"
     ]
    }
   ],
   "source": [
    "cout << \"Loop on sequence of integers from 0 to 10\" << endl;\n",
    "for (auto i : TSeqI(10)) {\n",
    "   cout << \"Element \" << i << endl;\n",
    "}"
   ]
  },
  {
   "cell_type": "code",
   "execution_count": 3,
   "metadata": {
    "collapsed": false
   },
   "outputs": [
    {
     "name": "stdout",
     "output_type": "stream",
     "text": [
      "Loop on sequence of integers from 3 to 29 in steps of 6\n",
      "Element -5\n",
      "Element 1\n",
      "Element 7\n",
      "Element 13\n",
      "Element 19\n",
      "Element 25\n"
     ]
    }
   ],
   "source": [
    "cout << \"Loop on sequence of integers from 3 to 29 in steps of 6\" << endl;\n",
    "for (auto i : TSeqI(-5, 29, 6)) {\n",
    "   cout << \"Element \" << i << endl;\n",
    "}"
   ]
  },
  {
   "cell_type": "code",
   "execution_count": 4,
   "metadata": {
    "collapsed": false
   },
   "outputs": [
    {
     "name": "stdout",
     "output_type": "stream",
     "text": [
      "Loop backwards on sequence of integers from 50 to 30 in steps of 3\n",
      "Element 50\n",
      "Element 47\n",
      "Element 44\n",
      "Element 41\n",
      "Element 38\n",
      "Element 35\n",
      "Element 32\n"
     ]
    }
   ],
   "source": [
    "cout << \"Loop backwards on sequence of integers from 50 to 30 in steps of 3\" << endl;\n",
    "for (auto i : TSeqI(50, 30, -3)) {\n",
    "   cout << \"Element \" << i << endl;\n",
    "}"
   ]
  },
  {
   "cell_type": "code",
   "execution_count": 5,
   "metadata": {
    "collapsed": false
   },
   "outputs": [
    {
     "name": "stdout",
     "output_type": "stream",
     "text": [
      "stl algorithm, for_each\n",
      "For each: 2\n",
      "For each: 5\n",
      "For each: 8\n",
      "For each: 11\n",
      "For each: 14\n",
      "For each: 17\n",
      "For each: 20\n",
      "For each: 23\n",
      "For each: 26\n",
      "For each: 29\n",
      "Random access: 3rd element is 8\n"
     ]
    }
   ],
   "source": [
    "cout << \"stl algorithm, for_each\" << endl;\n",
    "TSeqUL ulSeq(2,30,3);\n",
    "std::for_each(std::begin(ulSeq),std::end(ulSeq),[](ULong_t i){cout << \"For each: \" << i <<endl;});\n",
    "\n",
    "cout << \"Random access: 3rd element is \" << ulSeq[2] << endl;"
   ]
  },
  {
   "cell_type": "code",
   "execution_count": 6,
   "metadata": {
    "collapsed": false
   },
   "outputs": [
    {
     "name": "stdout",
     "output_type": "stream",
     "text": [
      "Loop using MakeSeq\n",
      "Element 1000000000000\n",
      "Element 1000000000001\n",
      "Element 1000000000002\n"
     ]
    }
   ],
   "source": [
    "cout << \"Loop using MakeSeq\" << endl;\n",
    "for (auto i : MakeSeq(1000000000000UL, 1000000000003UL)) {\n",
    "   cout << \"Element \" << i << endl;\n",
    "}"
   ]
  }
 ],
 "metadata": {
  "kernelspec": {
   "display_name": "ROOT C++",
   "language": "c++",
   "name": "root"
  },
  "language_info": {
   "codemirror_mode": "text/x-c++src",
   "file_extension": ".C",
   "mimetype": " text/x-c++src",
   "name": "c++"
  }
 },
 "nbformat": 4,
 "nbformat_minor": 2
}
