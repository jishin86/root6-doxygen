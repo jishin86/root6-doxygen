{
 "cells": [
  {
   "cell_type": "markdown",
   "metadata": {},
   "source": [
    "# Rf 2 1 0_Angularconv\n",
    "Addition and convolution: convolution in cyclical angular observables theta\n",
    "\n",
    "and construction of p.d.f in terms of transformed angular coordinates, e.g. cos(theta),\n",
    "where the convolution is performed in theta rather than cos(theta)\n",
    "\n",
    " pdf(theta)    = T(theta)          (x) gauss(theta)\n",
    " pdf(cosTheta) = T(acos(cosTheta)) (x) gauss(acos(cosTheta))\n",
    "\n",
    "This tutorial requires FFT3 to be enabled.\n",
    "\n",
    "\n",
    "\n",
    "**Author:** 04/2009 - Wouter Verkerke  \n",
    "<i><small>This notebook tutorial was automatically generated with <a href= \"https://github.com/root-project/root/blob/master/documentation/doxygen/converttonotebook.py\">ROOTBOOK-izer</a> from the macro found in the ROOT repository  on Thursday, August 29, 2019 at 02:45 AM.</small></i>"
   ]
  },
  {
   "cell_type": "code",
   "execution_count": 1,
   "metadata": {
    "collapsed": false
   },
   "outputs": [],
   "source": [
    "%%cpp -d\n",
    "#include \"RooRealVar.h\"\n",
    "#include \"RooDataSet.h\"\n",
    "#include \"RooGaussian.h\"\n",
    "#include \"RooGenericPdf.h\"\n",
    "#include \"RooFormulaVar.h\"\n",
    "#include \"RooFFTConvPdf.h\"\n",
    "#include \"RooPlot.h\"\n",
    "#include \"TCanvas.h\"\n",
    "#include \"TAxis.h\"\n",
    "#include \"TH1.h\""
   ]
  },
  {
   "cell_type": "code",
   "execution_count": 2,
   "metadata": {
    "collapsed": false
   },
   "outputs": [],
   "source": [
    "%%cpp -d\n",
    "// This is a workaround to make sure the namespace is used inside functions\n",
    "using namespace RooFit;"
   ]
  },
  {
   "cell_type": "markdown",
   "metadata": {},
   "source": [
    "Setup component pdfs\n",
    " ---------------------------------------"
   ]
  },
  {
   "cell_type": "markdown",
   "metadata": {},
   "source": [
    "Define angle psi"
   ]
  },
  {
   "cell_type": "code",
   "execution_count": 3,
   "metadata": {
    "collapsed": false
   },
   "outputs": [
    {
     "name": "stdout",
     "output_type": "stream",
     "text": [
      "\n",
      "\u001b[1mRooFit v3.60 -- Developed by Wouter Verkerke and David Kirkby\u001b[0m \n",
      "                Copyright (C) 2000-2013 NIKHEF, University of California & Stanford University\n",
      "                All rights reserved, please read http://roofit.sourceforge.net/license.txt\n",
      "\n"
     ]
    }
   ],
   "source": [
    "RooRealVar psi(\"psi\", \"psi\", 0, 3.14159268);"
   ]
  },
  {
   "cell_type": "markdown",
   "metadata": {},
   "source": [
    "Define physics p.d.f t(psi)"
   ]
  },
  {
   "cell_type": "code",
   "execution_count": 4,
   "metadata": {
    "collapsed": false
   },
   "outputs": [],
   "source": [
    "RooGenericPdf Tpsi(\"Tpsi\", \"1+sin(2*@0)\", psi);"
   ]
  },
  {
   "cell_type": "markdown",
   "metadata": {},
   "source": [
    "Define resolution r(psi)"
   ]
  },
  {
   "cell_type": "code",
   "execution_count": 5,
   "metadata": {
    "collapsed": false
   },
   "outputs": [],
   "source": [
    "RooRealVar gbias(\"gbias\", \"gbias\", 0.2, 0., 1);\n",
    "RooRealVar greso(\"greso\", \"greso\", 0.3, 0.1, 1.0);\n",
    "RooGaussian Rpsi(\"Rpsi\", \"Rpsi\", psi, gbias, greso);"
   ]
  },
  {
   "cell_type": "markdown",
   "metadata": {},
   "source": [
    "Define cos(psi) and function psif that calculates psi from cos(psi)"
   ]
  },
  {
   "cell_type": "code",
   "execution_count": 6,
   "metadata": {
    "collapsed": false
   },
   "outputs": [],
   "source": [
    "RooRealVar cpsi(\"cpsi\", \"cos(psi)\", -1, 1);\n",
    "RooFormulaVar psif(\"psif\", \"acos(cpsi)\", cpsi);"
   ]
  },
  {
   "cell_type": "markdown",
   "metadata": {},
   "source": [
    "Define physics p.d.f. also as function of cos(psi): t(psif(cpsi)) = t(cpsi) ;"
   ]
  },
  {
   "cell_type": "code",
   "execution_count": 7,
   "metadata": {
    "collapsed": false
   },
   "outputs": [],
   "source": [
    "RooGenericPdf Tcpsi(\"T\", \"1+sin(2*@0)\", psif);"
   ]
  },
  {
   "cell_type": "markdown",
   "metadata": {},
   "source": [
    "Construct convolution pdf in psi\n",
    " --------------------------------------------------------------"
   ]
  },
  {
   "cell_type": "markdown",
   "metadata": {},
   "source": [
    "Define convoluted p.d.f. as function of psi: m=[t(x)r](psi) = m(psi)"
   ]
  },
  {
   "cell_type": "code",
   "execution_count": 8,
   "metadata": {
    "collapsed": false
   },
   "outputs": [
    {
     "name": "stdout",
     "output_type": "stream",
     "text": [
      "[#1] INFO:Caching -- Changing internal binning of variable 'psi' in FFT 'Mf' from 100 to 930 to improve the precision of the numerical FFT. This can be done manually by setting an additional binning named 'cache'.\n"
     ]
    }
   ],
   "source": [
    "RooFFTConvPdf Mpsi(\"Mf\", \"Mf\", psi, Tpsi, Rpsi);"
   ]
  },
  {
   "cell_type": "markdown",
   "metadata": {},
   "source": [
    "Set the buffer fraction to zero to obtain a true cyclical convolution"
   ]
  },
  {
   "cell_type": "code",
   "execution_count": 9,
   "metadata": {
    "collapsed": false
   },
   "outputs": [],
   "source": [
    "Mpsi.setBufferFraction(0);"
   ]
  },
  {
   "cell_type": "markdown",
   "metadata": {},
   "source": [
    "Sample, fit and plot convoluted pdf (psi)\n",
    " --------------------------------------------------------------------------------"
   ]
  },
  {
   "cell_type": "markdown",
   "metadata": {},
   "source": [
    "Generate some events in observable psi"
   ]
  },
  {
   "cell_type": "code",
   "execution_count": 10,
   "metadata": {
    "collapsed": false
   },
   "outputs": [
    {
     "name": "stdout",
     "output_type": "stream",
     "text": [
      "[#1] INFO:Eval -- RooRealVar::setRange(psi) new range named 'refrange_fft_Mf' created with bounds [0,3.14159]\n",
      "[#1] INFO:NumericIntegration -- RooRealIntegral::init(Tpsi_Int[psi]) using numeric integrator RooIntegrator1D to calculate Int(psi)\n",
      "[#1] INFO:Caching -- RooAbsCachedPdf::getCache(Mf) creating new cache 0x7f66a45bd000 with pdf Tpsi_CONV_Rpsi_CACHE_Obs[psi] for nset (psi) with code 0\n",
      "[#1] INFO:Caching -- RooAbsCachedPdf::getCache(Mf) creating new cache 0x7f66a478d6b0 with pdf Tpsi_CONV_Rpsi_CACHE_Obs[psi] for nset (psi) with code 0 from preexisting content.\n"
     ]
    }
   ],
   "source": [
    "RooDataSet *data_psi = Mpsi.generate(psi, 10000);"
   ]
  },
  {
   "cell_type": "markdown",
   "metadata": {},
   "source": [
    "Fit convoluted model as function of angle psi"
   ]
  },
  {
   "cell_type": "code",
   "execution_count": 11,
   "metadata": {
    "collapsed": false
   },
   "outputs": [
    {
     "name": "stdout",
     "output_type": "stream",
     "text": [
      "[#1] INFO:Caching -- RooAbsCachedPdf::getCache(Mf) creating new cache 0x7f66a478d6b0 with pdf Tpsi_CONV_Rpsi_CACHE_Obs[psi] for nset (psi) with code 0 from preexisting content.\n",
      "[#1] INFO:Minization -- RooMinimizer::optimizeConst: activating const optimization\n",
      "[#1] INFO:NumericIntegration -- RooRealIntegral::init(Tpsi_Int[psi]) using numeric integrator RooIntegrator1D to calculate Int(psi)\n",
      "[#1] INFO:Minization --  The following expressions have been identified as constant and will be precalculated and cached: (Tpsi)\n",
      " **********\n",
      " **    1 **SET PRINT           1\n",
      " **********\n",
      " **********\n",
      " **    2 **SET NOGRAD\n",
      " **********\n",
      " PARAMETER DEFINITIONS:\n",
      "    NO.   NAME         VALUE      STEP SIZE      LIMITS\n",
      "     1 gbias        2.00000e-01  1.00000e-01    0.00000e+00  1.00000e+00\n",
      "     2 greso        3.00000e-01  9.00000e-02    1.00000e-01  1.00000e+00\n",
      " **********\n",
      " **    3 **SET ERR         0.5\n",
      " **********\n",
      " **********\n",
      " **    4 **SET PRINT           1\n",
      " **********\n",
      " **********\n",
      " **    5 **SET STR           1\n",
      " **********\n",
      " NOW USING STRATEGY  1: TRY TO BALANCE SPEED AGAINST RELIABILITY\n",
      " **********\n",
      " **    6 **MIGRAD        1000           1\n",
      " **********\n",
      " FIRST CALL TO USER FUNCTION AT NEW START POINT, WITH IFLAG=4.\n",
      " START MIGRAD MINIMIZATION.  STRATEGY  1.  CONVERGENCE WHEN EDM .LT. 1.00e-03\n",
      "[#1] INFO:NumericIntegration -- RooRealIntegral::init(Tpsi_Int[psi]) using numeric integrator RooIntegrator1D to calculate Int(psi)\n",
      " FCN=9480.16 FROM MIGRAD    STATUS=INITIATE        8 CALLS           9 TOTAL\n",
      "                     EDM= unknown      STRATEGY= 1      NO ERROR MATRIX       \n",
      "  EXT PARAMETER               CURRENT GUESS       STEP         FIRST   \n",
      "  NO.   NAME      VALUE            ERROR          SIZE      DERIVATIVE \n",
      "   1  gbias        2.00000e-01   1.00000e-01   2.57889e-01   5.40962e+01\n",
      "   2  greso        3.00000e-01   9.00000e-02   2.46497e-01   5.76705e+00\n",
      "                               ERR DEF= 0.5\n",
      " MIGRAD MINIMIZATION HAS CONVERGED.\n",
      " MIGRAD WILL VERIFY CONVERGENCE AND ERROR MATRIX.\n",
      " COVARIANCE MATRIX CALCULATED SUCCESSFULLY\n",
      " FCN=9479.64 FROM MIGRAD    STATUS=CONVERGED      32 CALLS          33 TOTAL\n",
      "                     EDM=1.07647e-07    STRATEGY= 1      ERROR MATRIX ACCURATE \n",
      "  EXT PARAMETER                                   STEP         FIRST   \n",
      "  NO.   NAME      VALUE            ERROR          SIZE      DERIVATIVE \n",
      "   1  gbias        1.92485e-01   7.44189e-03   1.26877e-03   1.36618e-02\n",
      "   2  greso        2.98582e-01   9.19693e-03   1.65656e-03  -8.25561e-03\n",
      "                               ERR DEF= 0.5\n",
      " EXTERNAL ERROR MATRIX.    NDIM=  25    NPAR=  2    ERR DEF=0.5\n",
      "  5.539e-05  1.690e-07 \n",
      "  1.690e-07  8.460e-05 \n",
      " PARAMETER  CORRELATION COEFFICIENTS  \n",
      "       NO.  GLOBAL      1      2\n",
      "        1  0.00247   1.000  0.002\n",
      "        2  0.00247   0.002  1.000\n",
      " **********\n",
      " **    7 **SET ERR         0.5\n",
      " **********\n",
      " **********\n",
      " **    8 **SET PRINT           1\n",
      " **********\n",
      " **********\n",
      " **    9 **HESSE        1000\n",
      " **********\n",
      " COVARIANCE MATRIX CALCULATED SUCCESSFULLY\n",
      " FCN=9479.64 FROM HESSE     STATUS=OK             10 CALLS          43 TOTAL\n",
      "                     EDM=1.07707e-07    STRATEGY= 1      ERROR MATRIX ACCURATE \n",
      "  EXT PARAMETER                                INTERNAL      INTERNAL  \n",
      "  NO.   NAME      VALUE            ERROR       STEP SIZE       VALUE   \n",
      "   1  gbias        1.92485e-01   7.44188e-03   5.07510e-05  -6.62425e-01\n",
      "   2  greso        2.98582e-01   9.19691e-03   6.62625e-05  -5.92825e-01\n",
      "                               ERR DEF= 0.5\n",
      " EXTERNAL ERROR MATRIX.    NDIM=  25    NPAR=  2    ERR DEF=0.5\n",
      "  5.539e-05  1.248e-07 \n",
      "  1.248e-07  8.460e-05 \n",
      " PARAMETER  CORRELATION COEFFICIENTS  \n",
      "       NO.  GLOBAL      1      2\n",
      "        1  0.00182   1.000  0.002\n",
      "        2  0.00182   0.002  1.000\n",
      "[#1] INFO:Minization -- RooMinimizer::optimizeConst: deactivating const optimization\n"
     ]
    }
   ],
   "source": [
    "Mpsi.fitTo(*data_psi);"
   ]
  },
  {
   "cell_type": "markdown",
   "metadata": {},
   "source": [
    "Plot cos(psi) frame with mf(cpsi)"
   ]
  },
  {
   "cell_type": "code",
   "execution_count": 12,
   "metadata": {
    "collapsed": false
   },
   "outputs": [
    {
     "name": "stdout",
     "output_type": "stream",
     "text": [
      "[#1] INFO:NumericIntegration -- RooRealIntegral::init(Tpsi_Int[psi]) using numeric integrator RooIntegrator1D to calculate Int(psi)\n",
      "[#1] INFO:Caching -- RooAbsCachedPdf::getCache(Mf) creating new cache 0x7f66a44b4af0 with pdf Tpsi_CONV_Rpsi_CACHE_Obs[psi] for nset (psi) with code 0\n"
     ]
    }
   ],
   "source": [
    "RooPlot *frame1 = psi.frame(Title(\"Cyclical convolution in angle psi\"));\n",
    "data_psi->plotOn(frame1);\n",
    "Mpsi.plotOn(frame1);"
   ]
  },
  {
   "cell_type": "markdown",
   "metadata": {},
   "source": [
    "Overlay comparison to unsmeared physics p.d.f t(psi)"
   ]
  },
  {
   "cell_type": "code",
   "execution_count": 13,
   "metadata": {
    "collapsed": false
   },
   "outputs": [
    {
     "name": "stdout",
     "output_type": "stream",
     "text": [
      "[#1] INFO:NumericIntegration -- RooRealIntegral::init(Tpsi_Int[psi]) using numeric integrator RooIntegrator1D to calculate Int(psi)\n"
     ]
    }
   ],
   "source": [
    "Tpsi.plotOn(frame1, LineColor(kRed));"
   ]
  },
  {
   "cell_type": "markdown",
   "metadata": {},
   "source": [
    "Construct convolution pdf in cos(psi)\n",
    " --------------------------------------------------------------------------"
   ]
  },
  {
   "cell_type": "markdown",
   "metadata": {},
   "source": [
    "Define convoluted p.d.f. as function of cos(psi): m=[t(x)r](psif(cpsi)) = m(cpsi)\n",
    "\n",
    " Need to give both observable psi here (for definition of convolution)\n",
    " and function psif here (for definition of observables, ultimately in cpsi)"
   ]
  },
  {
   "cell_type": "code",
   "execution_count": 14,
   "metadata": {
    "collapsed": false
   },
   "outputs": [],
   "source": [
    "RooFFTConvPdf Mcpsi(\"Mf\", \"Mf\", psif, psi, Tpsi, Rpsi);"
   ]
  },
  {
   "cell_type": "markdown",
   "metadata": {},
   "source": [
    "Set the buffer fraction to zero to obtain a true cyclical convolution"
   ]
  },
  {
   "cell_type": "code",
   "execution_count": 15,
   "metadata": {
    "collapsed": false
   },
   "outputs": [],
   "source": [
    "Mcpsi.setBufferFraction(0);"
   ]
  },
  {
   "cell_type": "markdown",
   "metadata": {},
   "source": [
    "Sample, fit and plot convoluted pdf (cospsi)\n",
    " --------------------------------------------------------------------------------"
   ]
  },
  {
   "cell_type": "markdown",
   "metadata": {},
   "source": [
    "Generate some events"
   ]
  },
  {
   "cell_type": "code",
   "execution_count": 16,
   "metadata": {
    "collapsed": false
   },
   "outputs": [
    {
     "name": "stdout",
     "output_type": "stream",
     "text": [
      "[#1] INFO:Caching -- RooAbsCachedPdf::getCache(Mf) creating new cache 0x7f66a4737660 with pdf Tpsi_CONV_Rpsi_CACHE_Obs[cpsi] for nset (cpsi) with code 0 from preexisting content.\n",
      "[#1] INFO:NumericIntegration -- RooRealIntegral::init(Tpsi_CONV_Rpsi_CACHE_Obs[cpsi]_Int[cpsi]) using numeric integrator RooIntegrator1D to calculate Int(cpsi)\n",
      "[#1] INFO:Caching -- RooAbsCachedPdf::getCache(Mf) creating new cache 0x7f66a4919bf0 with pdf Tpsi_CONV_Rpsi_CACHE_Obs[cpsi] for nset (cpsi) with code 0 from preexisting content.\n",
      "[#1] INFO:NumericIntegration -- RooRealIntegral::init(Tpsi_CONV_Rpsi_CACHE_Obs[cpsi]_Int[cpsi]) using numeric integrator RooIntegrator1D to calculate Int(cpsi)\n"
     ]
    }
   ],
   "source": [
    "RooDataSet *data_cpsi = Mcpsi.generate(cpsi, 10000);"
   ]
  },
  {
   "cell_type": "markdown",
   "metadata": {},
   "source": [
    "Set psi constant to exclude to be a parameter of the fit"
   ]
  },
  {
   "cell_type": "code",
   "execution_count": 17,
   "metadata": {
    "collapsed": false
   },
   "outputs": [],
   "source": [
    "psi.setConstant(true);"
   ]
  },
  {
   "cell_type": "markdown",
   "metadata": {},
   "source": [
    "Fit convoluted model as function of cos(psi)"
   ]
  },
  {
   "cell_type": "code",
   "execution_count": 18,
   "metadata": {
    "collapsed": false
   },
   "outputs": [
    {
     "name": "stdout",
     "output_type": "stream",
     "text": [
      "[#1] INFO:Caching -- RooAbsCachedPdf::getCache(Mf) creating new cache 0x7f66a4978e90 with pdf Tpsi_CONV_Rpsi_CACHE_Obs[cpsi] for nset (cpsi) with code 0 from preexisting content.\n",
      "[#1] INFO:NumericIntegration -- RooRealIntegral::init(Tpsi_CONV_Rpsi_CACHE_Obs[cpsi]_Int[cpsi]) using numeric integrator RooIntegrator1D to calculate Int(cpsi)\n",
      "[#1] INFO:Minization -- RooMinimizer::optimizeConst: activating const optimization\n",
      "[#1] INFO:Minization --  The following expressions have been identified as constant and will be precalculated and cached: (psif)\n",
      " **********\n",
      " **   10 **SET PRINT           1\n",
      " **********\n",
      " **********\n",
      " **   11 **SET NOGRAD\n",
      " **********\n",
      " PARAMETER DEFINITIONS:\n",
      "    NO.   NAME         VALUE      STEP SIZE      LIMITS\n",
      "     1 gbias        1.92485e-01  7.44188e-03    0.00000e+00  1.00000e+00\n",
      "     2 greso        2.98582e-01  9.19691e-03    1.00000e-01  1.00000e+00\n",
      " **********\n",
      " **   12 **SET ERR         0.5\n",
      " **********\n",
      " **********\n",
      " **   13 **SET PRINT           1\n",
      " **********\n",
      " **********\n",
      " **   14 **SET STR           1\n",
      " **********\n",
      " NOW USING STRATEGY  1: TRY TO BALANCE SPEED AGAINST RELIABILITY\n",
      " **********\n",
      " **   15 **MIGRAD        1000           1\n",
      " **********\n",
      " FIRST CALL TO USER FUNCTION AT NEW START POINT, WITH IFLAG=4.\n",
      " START MIGRAD MINIMIZATION.  STRATEGY  1.  CONVERGENCE WHEN EDM .LT. 1.00e-03\n",
      "[#1] INFO:NumericIntegration -- RooRealIntegral::init(Tpsi_Int[psi]) using numeric integrator RooIntegrator1D to calculate Int(psi)\n",
      " FCN=5178.91 FROM MIGRAD    STATUS=INITIATE        4 CALLS           5 TOTAL\n",
      "                     EDM= unknown      STRATEGY= 1      NO ERROR MATRIX       \n",
      "  EXT PARAMETER               CURRENT GUESS       STEP         FIRST   \n",
      "  NO.   NAME      VALUE            ERROR          SIZE      DERIVATIVE \n",
      "   1  gbias        1.92485e-01   7.44188e-03   1.88791e-02   2.79436e+01\n",
      "   2  greso        2.98582e-01   9.19691e-03   2.46483e-02  -8.41273e+00\n",
      "                               ERR DEF= 0.5\n",
      " MIGRAD MINIMIZATION HAS CONVERGED.\n",
      " MIGRAD WILL VERIFY CONVERGENCE AND ERROR MATRIX.\n",
      " COVARIANCE MATRIX CALCULATED SUCCESSFULLY\n",
      " FCN=5178.63 FROM MIGRAD    STATUS=CONVERGED      28 CALLS          29 TOTAL\n",
      "                     EDM=3.37796e-07    STRATEGY= 1      ERROR MATRIX ACCURATE \n",
      "  EXT PARAMETER                                   STEP         FIRST   \n",
      "  NO.   NAME      VALUE            ERROR          SIZE      DERIVATIVE \n",
      "   1  gbias        1.85814e-01   9.36461e-03   1.16493e-03   2.44691e-02\n",
      "   2  greso        3.02469e-01   1.02714e-02   1.32671e-03   1.52048e-03\n",
      "                               ERR DEF= 0.5\n",
      " EXTERNAL ERROR MATRIX.    NDIM=  25    NPAR=  2    ERR DEF=0.5\n",
      "  8.771e-05 -2.174e-05 \n",
      " -2.174e-05  1.055e-04 \n",
      " PARAMETER  CORRELATION COEFFICIENTS  \n",
      "       NO.  GLOBAL      1      2\n",
      "        1  0.22594   1.000 -0.226\n",
      "        2  0.22594  -0.226  1.000\n",
      " **********\n",
      " **   16 **SET ERR         0.5\n",
      " **********\n",
      " **********\n",
      " **   17 **SET PRINT           1\n",
      " **********\n",
      " **********\n",
      " **   18 **HESSE        1000\n",
      " **********\n",
      " COVARIANCE MATRIX CALCULATED SUCCESSFULLY\n",
      " FCN=5178.63 FROM HESSE     STATUS=OK             10 CALLS          39 TOTAL\n",
      "                     EDM=3.36905e-07    STRATEGY= 1      ERROR MATRIX ACCURATE \n",
      "  EXT PARAMETER                                INTERNAL      INTERNAL  \n",
      "  NO.   NAME      VALUE            ERROR       STEP SIZE       VALUE   \n",
      "   1  gbias        1.85814e-01   9.36561e-03   2.32986e-04  -6.79459e-01\n",
      "   2  greso        3.02469e-01   1.02725e-02   5.30684e-05  -5.82446e-01\n",
      "                               ERR DEF= 0.5\n",
      " EXTERNAL ERROR MATRIX.    NDIM=  25    NPAR=  2    ERR DEF=0.5\n",
      "  8.773e-05 -2.179e-05 \n",
      " -2.179e-05  1.056e-04 \n",
      " PARAMETER  CORRELATION COEFFICIENTS  \n",
      "       NO.  GLOBAL      1      2\n",
      "        1  0.22639   1.000 -0.226\n",
      "        2  0.22639  -0.226  1.000\n",
      "[#1] INFO:Minization -- RooMinimizer::optimizeConst: deactivating const optimization\n"
     ]
    }
   ],
   "source": [
    "Mcpsi.fitTo(*data_cpsi);"
   ]
  },
  {
   "cell_type": "markdown",
   "metadata": {},
   "source": [
    "Plot cos(psi) frame with mf(cpsi)"
   ]
  },
  {
   "cell_type": "code",
   "execution_count": 19,
   "metadata": {
    "collapsed": false
   },
   "outputs": [
    {
     "name": "stdout",
     "output_type": "stream",
     "text": [
      "[#1] INFO:NumericIntegration -- RooRealIntegral::init(Tpsi_Int[psi]) using numeric integrator RooIntegrator1D to calculate Int(psi)\n",
      "[#1] INFO:Caching -- RooAbsCachedPdf::getCache(Mf) creating new cache 0x7f66a45109a0 with pdf Tpsi_CONV_Rpsi_CACHE_Obs[cpsi] for nset (cpsi) with code 0\n",
      "[#1] INFO:NumericIntegration -- RooRealIntegral::init(Tpsi_CONV_Rpsi_CACHE_Obs[cpsi]_Int[cpsi]) using numeric integrator RooIntegrator1D to calculate Int(cpsi)\n"
     ]
    }
   ],
   "source": [
    "RooPlot *frame2 = cpsi.frame(Title(\"Same convolution in psi, expressed in cos(psi)\"));\n",
    "data_cpsi->plotOn(frame2);\n",
    "Mcpsi.plotOn(frame2);"
   ]
  },
  {
   "cell_type": "markdown",
   "metadata": {},
   "source": [
    "Overlay comparison to unsmeared physics p.d.f tf(cpsi)"
   ]
  },
  {
   "cell_type": "code",
   "execution_count": 20,
   "metadata": {
    "collapsed": false
   },
   "outputs": [
    {
     "name": "stdout",
     "output_type": "stream",
     "text": [
      "[#1] INFO:NumericIntegration -- RooRealIntegral::init(T_Int[cpsi]) using numeric integrator RooIntegrator1D to calculate Int(cpsi)\n"
     ]
    }
   ],
   "source": [
    "Tcpsi.plotOn(frame2, LineColor(kRed));"
   ]
  },
  {
   "cell_type": "markdown",
   "metadata": {},
   "source": [
    "Draw frame on canvas"
   ]
  },
  {
   "cell_type": "code",
   "execution_count": 21,
   "metadata": {
    "collapsed": false
   },
   "outputs": [],
   "source": [
    "TCanvas *c = new TCanvas(\"rf210_angularconv\", \"rf210_angularconv\", 800, 400);\n",
    "c->Divide(2);\n",
    "c->cd(1);\n",
    "gPad->SetLeftMargin(0.15);\n",
    "frame1->GetYaxis()->SetTitleOffset(1.4);\n",
    "frame1->Draw();\n",
    "c->cd(2);\n",
    "gPad->SetLeftMargin(0.15);\n",
    "frame2->GetYaxis()->SetTitleOffset(1.4);\n",
    "frame2->Draw();"
   ]
  },
  {
   "cell_type": "markdown",
   "metadata": {},
   "source": [
    "Draw all canvases "
   ]
  },
  {
   "cell_type": "code",
   "execution_count": 22,
   "metadata": {
    "collapsed": false
   },
   "outputs": [
    {
     "data": {
      "text/html": [
       "\n",
       "<div id=\"root_plot_1\"\n",
       "     style=\"width: 796px; height: 372px\">\n",
       "</div>\n",
       "\n",
       "<script>\n",
       " requirejs.config({\n",
       "     paths: {\n",
       "       'JSRootCore' : 'https://root.cern.ch/js/notebook//scripts/JSRootCore',\n",
       "     }\n",
       "   });\n",
       " require(['JSRootCore'],\n",
       "     function(Core) {\n",
       "       var obj = Core.JSONR_unref({\"_typename\":\"TCanvas\",\"fUniqueID\":0,\"fBits\":53673992,\"fLineColor\":1,\"fLineStyle\":1,\"fLineWidth\":1,\"fFillColor\":0,\"fFillStyle\":1001,\"fLeftMargin\":0.1,\"fRightMargin\":0.1,\"fBottomMargin\":0.1,\"fTopMargin\":0.1,\"fXfile\":2,\"fYfile\":2,\"fAfile\":1,\"fXstat\":0.99,\"fYstat\":0.99,\"fAstat\":2,\"fFrameFillColor\":0,\"fFrameLineColor\":1,\"fFrameFillStyle\":1001,\"fFrameLineStyle\":1,\"fFrameLineWidth\":1,\"fFrameBorderSize\":1,\"fFrameBorderMode\":0,\"fX1\":0,\"fY1\":0,\"fX2\":1,\"fY2\":1,\"fXtoAbsPixelk\":5e-5,\"fXtoPixelk\":5e-5,\"fXtoPixel\":796,\"fYtoAbsPixelk\":372.00005,\"fYtoPixelk\":372.00005,\"fYtoPixel\":-372,\"fUtoAbsPixelk\":5e-5,\"fUtoPixelk\":5e-5,\"fUtoPixel\":796,\"fVtoAbsPixelk\":372.00005,\"fVtoPixelk\":372,\"fVtoPixel\":-372,\"fAbsPixeltoXk\":0,\"fPixeltoXk\":0,\"fPixeltoX\":0.00125628140703518,\"fAbsPixeltoYk\":1,\"fPixeltoYk\":0,\"fPixeltoY\":-0.00268817204301075,\"fXlowNDC\":0,\"fYlowNDC\":0,\"fXUpNDC\":0,\"fYUpNDC\":0,\"fWNDC\":1,\"fHNDC\":1,\"fAbsXlowNDC\":0,\"fAbsYlowNDC\":0,\"fAbsWNDC\":1,\"fAbsHNDC\":1,\"fUxmin\":0,\"fUymin\":0,\"fUxmax\":1,\"fUymax\":1,\"fTheta\":30,\"fPhi\":30,\"fAspectRatio\":0,\"fNumber\":0,\"fTickx\":0,\"fTicky\":0,\"fLogx\":0,\"fLogy\":0,\"fLogz\":0,\"fPadPaint\":0,\"fCrosshair\":0,\"fCrosshairPos\":0,\"fBorderSize\":2,\"fBorderMode\":0,\"fModified\":false,\"fGridx\":false,\"fGridy\":false,\"fAbsCoord\":false,\"fEditable\":true,\"fFixedAspectRatio\":false,\"fPrimitives\":{\"_typename\":\"TList\",\"name\":\"TList\",\"arr\":[{\"_typename\":\"TPad\",\"fUniqueID\":0,\"fBits\":50331657,\"fLineColor\":1,\"fLineStyle\":1,\"fLineWidth\":1,\"fFillColor\":0,\"fFillStyle\":1001,\"fLeftMargin\":0.15,\"fRightMargin\":0.1,\"fBottomMargin\":0.1,\"fTopMargin\":0.1,\"fXfile\":2,\"fYfile\":2,\"fAfile\":1,\"fXstat\":0.99,\"fYstat\":0.99,\"fAstat\":2,\"fFrameFillColor\":0,\"fFrameLineColor\":1,\"fFrameFillStyle\":1001,\"fFrameLineStyle\":1,\"fFrameLineWidth\":1,\"fFrameBorderSize\":1,\"fFrameBorderMode\":0,\"fX1\":-0.628318560967135,\"fY1\":-28.7164004175828,\"fX2\":3.56047171024178,\"fY2\":258.447586641937,\"fXtoAbsPixelk\":65.2720517258227,\"fXtoPixelk\":57.3120519037425,\"fXtoPixel\":91.214879623364,\"fYtoAbsPixelk\":331.824047893572,\"fYtoPixelk\":328.10404797672,\"fYtoPixel\":-1.26951852110458,\"fUtoAbsPixelk\":7.96004982208014,\"fUtoPixelk\":5e-5,\"fUtoPixel\":382.08000035584,\"fVtoAbsPixelk\":368.280050083148,\"fVtoPixelk\":364.560000166297,\"fVtoPixel\":-364.560000166297,\"fAbsPixeltoXk\":-0.715585022918824,\"fPixeltoXk\":-0.628318560967135,\"fPixeltoX\":0.0109631236058098,\"fAbsPixeltoYk\":261.377831341018,\"fPixeltoYk\":-28.7164004175828,\"fPixeltoY\":-0.787700205531402,\"fXlowNDC\":0.00999999977648258,\"fYlowNDC\":0.00999999977648258,\"fXUpNDC\":0,\"fYUpNDC\":0,\"fWNDC\":0.480000000447035,\"fHNDC\":0.980000000447035,\"fAbsXlowNDC\":0.00999999977648258,\"fAbsYlowNDC\":0.00999999977648258,\"fAbsWNDC\":0.480000000447035,\"fAbsHNDC\":0.980000000447035,\"fUxmin\":0,\"fUymin\":0,\"fUxmax\":3.14159268,\"fUymax\":229.731186224354,\"fTheta\":30,\"fPhi\":30,\"fAspectRatio\":0,\"fNumber\":1,\"fTickx\":0,\"fTicky\":0,\"fLogx\":0,\"fLogy\":0,\"fLogz\":0,\"fPadPaint\":0,\"fCrosshair\":0,\"fCrosshairPos\":0,\"fBorderSize\":2,\"fBorderMode\":0,\"fModified\":false,\"fGridx\":false,\"fGridy\":false,\"fAbsCoord\":false,\"fEditable\":true,\"fFixedAspectRatio\":false,\"fPrimitives\":{\"_typename\":\"TList\",\"name\":\"TList\",\"arr\":[{\"_typename\":\"TFrame\",\"fUniqueID\":0,\"fBits\":50331656,\"fLineColor\":1,\"fLineStyle\":1,\"fLineWidth\":1,\"fFillColor\":0,\"fFillStyle\":1001,\"fX1\":0,\"fY1\":0,\"fX2\":3.14159268,\"fY2\":229.731186224354,\"fBorderSize\":1,\"fBorderMode\":0},{\"_typename\":\"TH1D\",\"fUniqueID\":0,\"fBits\":50332168,\"fName\":\"frame_7f66a480c890\",\"fTitle\":\"Cyclical convolution in angle psi\",\"fLineColor\":602,\"fLineStyle\":1,\"fLineWidth\":1,\"fFillColor\":0,\"fFillStyle\":1001,\"fMarkerColor\":1,\"fMarkerStyle\":1,\"fMarkerSize\":1,\"fNcells\":102,\"fXaxis\":{\"_typename\":\"TAxis\",\"fUniqueID\":0,\"fBits\":50331648,\"fName\":\"xaxis\",\"fTitle\":\"psi\",\"fNdivisions\":510,\"fAxisColor\":1,\"fLabelColor\":1,\"fLabelFont\":42,\"fLabelOffset\":0.005,\"fLabelSize\":0.035,\"fTickLength\":0.03,\"fTitleOffset\":1,\"fTitleSize\":0.035,\"fTitleColor\":1,\"fTitleFont\":42,\"fNbins\":100,\"fXmin\":0,\"fXmax\":3.14159268,\"fXbins\":[],\"fFirst\":0,\"fLast\":0,\"fBits2\":0,\"fTimeDisplay\":false,\"fTimeFormat\":\"\",\"fLabels\":null,\"fModLabs\":null},\"fYaxis\":{\"_typename\":\"TAxis\",\"fUniqueID\":0,\"fBits\":50331648,\"fName\":\"yaxis\",\"fTitle\":\"Events \\/ ( 0.0314159 )\",\"fNdivisions\":510,\"fAxisColor\":1,\"fLabelColor\":1,\"fLabelFont\":42,\"fLabelOffset\":0.005,\"fLabelSize\":0.035,\"fTickLength\":0.03,\"fTitleOffset\":1.4,\"fTitleSize\":0.035,\"fTitleColor\":1,\"fTitleFont\":42,\"fNbins\":1,\"fXmin\":0,\"fXmax\":1,\"fXbins\":[],\"fFirst\":0,\"fLast\":0,\"fBits2\":0,\"fTimeDisplay\":false,\"fTimeFormat\":\"\",\"fLabels\":null,\"fModLabs\":null},\"fZaxis\":{\"_typename\":\"TAxis\",\"fUniqueID\":0,\"fBits\":50331648,\"fName\":\"zaxis\",\"fTitle\":\"\",\"fNdivisions\":510,\"fAxisColor\":1,\"fLabelColor\":1,\"fLabelFont\":42,\"fLabelOffset\":0.005,\"fLabelSize\":0.035,\"fTickLength\":0.03,\"fTitleOffset\":1,\"fTitleSize\":0.035,\"fTitleColor\":1,\"fTitleFont\":42,\"fNbins\":1,\"fXmin\":0,\"fXmax\":1,\"fXbins\":[],\"fFirst\":0,\"fLast\":0,\"fBits2\":0,\"fTimeDisplay\":false,\"fTimeFormat\":\"\",\"fLabels\":null,\"fModLabs\":null},\"fBarOffset\":0,\"fBarWidth\":1000,\"fEntries\":1,\"fTsumw\":0,\"fTsumw2\":0,\"fTsumwx\":0,\"fTsumwx2\":0,\"fMaximum\":229.731186224354,\"fMinimum\":-1111,\"fNormFactor\":0,\"fContour\":[],\"fSumw2\":[],\"fOption\":\"\",\"fFunctions\":{\"_typename\":\"TList\",\"name\":\"TList\",\"arr\":[],\"opt\":[]},\"fBufferSize\":0,\"fBuffer\":[],\"fBinStatErrOpt\":0,\"fStatOverflows\":2,\"fArray\":[0,229.731186224354,0,0,0,0,0,0,0,0,0,0,0,0,0,0,0,0,0,0,0,0,0,0,0,0,0,0,0,0,0,0,0,0,0,0,0,0,0,0,0,0,0,0,0,0,0,0,0,0,0,0,0,0,0,0,0,0,0,0,0,0,0,0,0,0,0,0,0,0,0,0,0,0,0,0,0,0,0,0,0,0,0,0,0,0,0,0,0,0,0,0,0,0,0,0,0,0,0,0,0,0]},{\"_typename\":\"RooHist\",\"fUniqueID\":0,\"fBits\":50332680,\"fName\":\"h_MfData\",\"fTitle\":\"Histogram of MfData_plot__psi\",\"fLineColor\":1,\"fLineStyle\":1,\"fLineWidth\":1,\"fFillColor\":0,\"fFillStyle\":1000,\"fMarkerColor\":1,\"fMarkerStyle\":8,\"fMarkerSize\":1,\"fNpoints\":100,\"fX\":[0.0157079634,0.0471238902,0.078539817,0.1099557438,0.1413716706,0.1727875974,0.2042035242,0.235619451,0.2670353778,0.2984513046,0.3298672314,0.3612831582,0.392699085,0.4241150118,0.4555309386,0.4869468654,0.5183627922,0.549778719,0.5811946458,0.6126105726,0.6440264994,0.6754424262,0.706858353,0.7382742798,0.7696902066,0.8011061334,0.8325220602,0.863937987,0.8953539138,0.9267698406,0.9581857674,0.9896016942,1.021017621,1.0524335478,1.0838494746,1.1152654014,1.1466813282,1.178097255,1.2095131818,1.2409291086,1.2723450354,1.3037609622,1.335176889,1.3665928158,1.3980087426,1.4294246694,1.4608405962,1.492256523,1.5236724498,1.5550883766,1.5865043034,1.6179202302,1.649336157,1.6807520838,1.7121680106,1.7435839374,1.7749998642,1.806415791,1.8378317178,1.8692476446,1.9006635714,1.9320794982,1.963495425,1.9949113518,2.0263272786,2.0577432054,2.0891591322,2.120575059,2.1519909858,2.1834069126,2.2148228394,2.2462387662,2.277654693,2.3090706198,2.3404865466,2.3719024734,2.4033184002,2.434734327,2.4661502538,2.4975661806,2.5289821074,2.5603980342,2.591813961,2.6232298878,2.6546458146,2.6860617414,2.7174776682,2.748893595,2.7803095218,2.8117254486,2.8431413754,2.8745573022,2.905973229,2.9373891558,2.9688050826,3.0002210094,3.0316369362,3.063052863,3.0944687898,3.1258847166],\"fY\":[65,75,90,79,96,82,99,121,140,137,117,125,125,126,147,141,147,148,157,168,157,185,152,185,177,183,204,194,171,175,185,186,196,190,173,183,152,180,164,149,189,172,175,161,137,144,154,163,149,128,130,127,118,103,117,87,108,76,99,91,66,70,71,61,50,48,53,44,33,49,41,29,26,24,22,26,24,18,12,17,9,25,13,17,18,26,23,21,21,36,37,37,25,40,50,42,56,42,58,66],\"fFunctions\":{\"_typename\":\"TList\",\"name\":\"TList\",\"arr\":[],\"opt\":[]},\"fHistogram\":{\"_typename\":\"TH1F\",\"fUniqueID\":0,\"fBits\":50332168,\"fName\":\"h_MfData\",\"fTitle\":\"Histogram of MfData_plot__psi\",\"fLineColor\":602,\"fLineStyle\":1,\"fLineWidth\":1,\"fFillColor\":0,\"fFillStyle\":1001,\"fMarkerColor\":1,\"fMarkerStyle\":1,\"fMarkerSize\":1,\"fNcells\":102,\"fXaxis\":{\"_typename\":\"TAxis\",\"fUniqueID\":0,\"fBits\":50331648,\"fName\":\"xaxis\",\"fTitle\":\"\",\"fNdivisions\":510,\"fAxisColor\":1,\"fLabelColor\":1,\"fLabelFont\":42,\"fLabelOffset\":0.005,\"fLabelSize\":0.035,\"fTickLength\":0.03,\"fTitleOffset\":1,\"fTitleSize\":0.035,\"fTitleColor\":1,\"fTitleFont\":42,\"fNbins\":100,\"fXmin\":0,\"fXmax\":3.455751948,\"fXbins\":[],\"fFirst\":0,\"fLast\":0,\"fBits2\":0,\"fTimeDisplay\":false,\"fTimeFormat\":\"\",\"fLabels\":null,\"fModLabs\":null},\"fYaxis\":{\"_typename\":\"TAxis\",\"fUniqueID\":0,\"fBits\":50331648,\"fName\":\"yaxis\",\"fTitle\":\"\",\"fNdivisions\":510,\"fAxisColor\":1,\"fLabelColor\":1,\"fLabelFont\":42,\"fLabelOffset\":0.005,\"fLabelSize\":0.035,\"fTickLength\":0.03,\"fTitleOffset\":0,\"fTitleSize\":0.035,\"fTitleColor\":1,\"fTitleFont\":42,\"fNbins\":1,\"fXmin\":5.45088506647432,\"fXmax\":240.065112624477,\"fXbins\":[],\"fFirst\":0,\"fLast\":0,\"fBits2\":0,\"fTimeDisplay\":false,\"fTimeFormat\":\"\",\"fLabels\":null,\"fModLabs\":null},\"fZaxis\":{\"_typename\":\"TAxis\",\"fUniqueID\":0,\"fBits\":50331648,\"fName\":\"zaxis\",\"fTitle\":\"\",\"fNdivisions\":510,\"fAxisColor\":1,\"fLabelColor\":1,\"fLabelFont\":42,\"fLabelOffset\":0.005,\"fLabelSize\":0.035,\"fTickLength\":0.03,\"fTitleOffset\":1,\"fTitleSize\":0.035,\"fTitleColor\":1,\"fTitleFont\":42,\"fNbins\":1,\"fXmin\":0,\"fXmax\":1,\"fXbins\":[],\"fFirst\":0,\"fLast\":0,\"fBits2\":0,\"fTimeDisplay\":false,\"fTimeFormat\":\"\",\"fLabels\":null,\"fModLabs\":null},\"fBarOffset\":0,\"fBarWidth\":1000,\"fEntries\":0,\"fTsumw\":0,\"fTsumw2\":0,\"fTsumwx\":0,\"fTsumwx2\":0,\"fMaximum\":240.065112624477,\"fMinimum\":5.45088506647432,\"fNormFactor\":0,\"fContour\":[],\"fSumw2\":[],\"fOption\":\"\",\"fFunctions\":{\"_typename\":\"TList\",\"name\":\"TList\",\"arr\":[],\"opt\":[]},\"fBufferSize\":0,\"fBuffer\":[],\"fBinStatErrOpt\":0,\"fStatOverflows\":2,\"fArray\":[0,0,0,0,0,0,0,0,0,0,0,0,0,0,0,0,0,0,0,0,0,0,0,0,0,0,0,0,0,0,0,0,0,0,0,0,0,0,0,0,0,0,0,0,0,0,0,0,0,0,0,0,0,0,0,0,0,0,0,0,0,0,0,0,0,0,0,0,0,0,0,0,0,0,0,0,0,0,0,0,0,0,0,0,0,0,0,0,0,0,0,0,0,0,0,0,0,0,0,0,0,0]},\"fMinimum\":-1111,\"fMaximum\":-1111,\"fEXlow\":[0.0157079634,0.0157079634,0.0157079634,0.0157079634,0.0157079634,0.0157079634,0.0157079634,0.0157079634,0.0157079634,0.0157079634,0.0157079634,0.0157079634,0.0157079634,0.0157079634,0.0157079634,0.0157079634,0.0157079634,0.0157079634,0.0157079634,0.0157079634,0.0157079634,0.0157079634,0.0157079634,0.0157079634,0.0157079634,0.0157079634,0.0157079634,0.0157079634,0.0157079634,0.0157079634,0.0157079634,0.0157079634,0.0157079634,0.0157079634,0.0157079634,0.0157079634,0.0157079634,0.0157079634,0.0157079634,0.0157079634,0.0157079634,0.0157079634,0.0157079634,0.0157079634,0.0157079634,0.0157079634,0.0157079634,0.0157079634,0.0157079634,0.0157079634,0.0157079634,0.0157079634,0.0157079634,0.0157079634,0.0157079634,0.0157079634,0.0157079634,0.0157079634,0.0157079634,0.0157079634,0.0157079634,0.0157079634,0.0157079634,0.0157079634,0.0157079634,0.0157079634,0.0157079634,0.0157079634,0.0157079634,0.0157079634,0.0157079634,0.0157079634,0.0157079634,0.0157079634,0.0157079634,0.0157079634,0.0157079634,0.0157079634,0.0157079634,0.0157079634,0.0157079634,0.0157079634,0.0157079634,0.0157079634,0.0157079634,0.0157079634,0.0157079634,0.0157079634,0.0157079634,0.0157079634,0.0157079634,0.0157079634,0.0157079634,0.0157079634,0.0157079634,0.0157079634,0.0157079634,0.0157079634,0.0157079634,0.0157079634],\"fEXhigh\":[0.0157079634,0.0157079634,0.0157079634,0.0157079634,0.0157079634,0.0157079634,0.0157079634,0.0157079634,0.0157079634,0.0157079634,0.0157079634,0.0157079634,0.0157079634,0.0157079634,0.0157079634,0.0157079634,0.0157079634,0.0157079634,0.0157079634,0.0157079634,0.0157079634,0.0157079634,0.0157079634,0.0157079634,0.0157079634,0.0157079634,0.0157079634,0.0157079634,0.0157079634,0.0157079634,0.0157079634,0.0157079634,0.0157079634,0.0157079634,0.0157079634,0.0157079634,0.0157079634,0.0157079634,0.0157079634,0.0157079634,0.0157079634,0.0157079634,0.0157079634,0.0157079634,0.0157079634,0.0157079634,0.0157079634,0.0157079634,0.0157079634,0.0157079634,0.0157079634,0.0157079634,0.0157079634,0.0157079634,0.0157079634,0.0157079634,0.0157079634,0.0157079634,0.0157079634,0.0157079634,0.0157079634,0.0157079634,0.0157079634,0.0157079634,0.0157079634,0.0157079634,0.0157079634,0.0157079634,0.0157079634,0.0157079634,0.0157079634,0.0157079634,0.0157079634,0.0157079634,0.0157079634,0.0157079634,0.0157079634,0.0157079634,0.0157079634,0.0157079634,0.0157079634,0.0157079634,0.0157079634,0.0157079634,0.0157079634,0.0157079634,0.0157079634,0.0157079634,0.0157079634,0.0157079634,0.0157079634,0.0157079634,0.0157079634,0.0157079634,0.0157079634,0.0157079634,0.0157079634,0.0157079634,0.0157079634,0.0157079634],\"fEYlow\":[8.04146283816711,8.64090341739966,9.46917726632712,8.86934285748457,9.78086674710336,9.03688356534234,9.93304441438163,10.5113577727726,11.342719282327,11.21537451386,10.3282039138539,10.6915146427997,10.6915146427997,10.7361025271221,11.6346610995116,11.3848643240047,11.6346610995116,11.6757956618859,12.0399362039844,12.4711217710729,12.0399362039844,13.1106575888162,11.8389626792531,13.1106575888162,12.8135269556944,13.0369863706809,13.7916059279565,13.4373598647664,12.5862523283024,12.7382022948737,13.1106575888162,13.1473440639562,13.5089257261219,13.2931142241337,12.6624465810882,13.0369863706809,11.8389626792531,12.9257215820975,12.3160056179763,11.7167917228706,13.2568164921976,12.6244047484067,12.7382022948737,12.1984250992003,11.21537451386,11.5104121494643,11.9197423483742,12.2769323391806,11.7167917228706,10.8247516529061,10.9127122105133,10.7805141726785,10.3742815854658,9.66120071645079,10.3282039138539,9.30941989500478,9.90432602334241,8.69857573269304,9.93304441438163,9.52183408565944,8.10340262167422,8.3465663719404,8.40625831343334,7.78877941552809,7.04733682585609,6.90397923687425,7.2570651471718,6.6079399977078,5.71530168178358,6.97602630329686,6.37689760804177,5.35393156485154,5.06601492135562,4.86461220384528,4.65450239544497,5.06601492135562,4.86461220384528,4.20288721196007,3.41526599430015,4.08218389934171,2.94346103725076,4.96633466721007,3.5586623304375,4.08218389934171,4.20288721196007,5.06601492135562,4.76071662107231,4.54580699932335,4.54580699932335,5.97199579039322,6.05514266189532,6.05514266189532,4.96633466721007,6.29800017766426,7.04733682585609,6.45483071102782,7.46090009529179,6.45483071102782,7.59375090101779,8.10340262167422],\"fEYhigh\":[9.1036277944182,9.69877119773849,10.5219972584965,9.92572487310768,10.8320074139966,10.092223353418,10.9834032799163,11.5113577727726,12.342719282327,12.21537451386,11.3282039138539,11.6915146427997,11.6915146427997,11.7361025271221,12.6346610995116,12.3848643240047,12.6346610995116,12.6757956618859,13.0399362039844,13.4711217710729,13.0399362039844,14.1106575888162,12.8389626792531,14.1106575888162,13.8135269556944,14.0369863706809,14.7916059279565,14.4373598647664,13.5862523283024,13.7382022948737,14.1106575888162,14.1473440639562,14.5089257261219,14.2931142241337,13.6624465810882,14.0369863706809,12.8389626792531,13.9257215820975,13.3160056179763,12.7167917228706,14.2568164921976,13.6244047484067,13.7382022948737,13.1984250992003,12.21537451386,12.5104121494643,12.9197423483742,13.2769323391806,12.7167917228706,11.8247516529061,11.9127122105133,11.7805141726785,11.3742815854658,10.6612007164508,11.3282039138539,10.3631439870544,10.9043260233424,9.7560610979592,10.9834032799163,10.5743626945331,9.16509432622888,9.40646758331697,9.46573571303071,8.85295233843901,8.1182246064733,7.97632992098288,8.32591576152109,7.683510071295,6.80256676451212,8.04763434666193,7.45518517410131,6.44701964227479,6.16432406860527,5.96693206711369,5.76136640411342,6.16432406860527,5.96693206711369,5.32100732238368,4.55981905739127,5.20371938988384,4.11020413766764,6.06658917312032,4.69757337260906,5.20371938988384,5.32100732238368,6.16432406860527,5.8652346956897,5.65518197118255,5.65518197118255,7.0555452840609,7.13755508118677,7.13755508118677,6.06658917312032,7.37726075879658,8.1182246064733,7.53218018651548,8.52787944162286,7.53218018651548,8.65956419816109,9.16509432622888],\"_yAxisLabel\":\"Events \\/ ( 0.0314159 )\",\"_ymin\":0,\"_ymax\":218.791605927956,\"_normValue\":0,\"_nominalBinWidth\":0.0314159268,\"_nSigma\":1,\"_entries\":10000,\"_rawEntries\":-1},{\"_typename\":\"RooCurve\",\"fUniqueID\":0,\"fBits\":50332680,\"fName\":\"Mf_Norm[psi]\",\"fTitle\":\"Projection of Mf\",\"fLineColor\":600,\"fLineStyle\":1,\"fLineWidth\":3,\"fFillColor\":0,\"fFillStyle\":1000,\"fMarkerColor\":1,\"fMarkerStyle\":1,\"fMarkerSize\":1,\"fNpoints\":106,\"fX\":[-0.0314159268,-0.0314159268,0,0.0314159268,0.0628318536,0.0942477804,0.1256637072,0.157079634,0.1884955608,0.2199114876,0.2513274144,0.2827433412,0.314159268,0.3455751948,0.3769911216,0.4084070484,0.4398229752,0.471238902,0.5026548288,0.5340707556,0.5654866824,0.5969026092,0.628318536,0.6597344628,0.6911503896,0.7225663164,0.7539822432,0.78539817,0.8168140968,0.8482300236,0.8796459504,0.9110618772,0.942477804,0.9738937308,1.0053096576,1.0367255844,1.0681415112,1.099557438,1.1309733648,1.1623892916,1.1938052184,1.2252211452,1.256637072,1.2880529988,1.3194689256,1.3508848524,1.3823007792,1.413716706,1.4451326328,1.4765485596,1.5079644864,1.5393804132,1.57079634,1.6022122668,1.6336281936,1.6650441204,1.6964600472,1.727875974,1.7592919008,1.7907078276,1.8221237544,1.8535396812,1.884955608,1.9163715348,1.9477874616,1.9792033884,2.0106193152,2.042035242,2.0734511688,2.1048670956,2.1362830224,2.1676989492,2.199114876,2.2305308028,2.2619467296,2.2933626564,2.3247785832,2.35619451,2.3876104368,2.4190263636,2.4504422904,2.4818582172,2.513274144,2.5446900708,2.5761059976,2.6075219244,2.6389378512,2.670353778,2.7017697048,2.7331856316,2.7646015584,2.7960174852,2.827433412,2.8588493388,2.8902652656,2.9216811924,2.9530971192,2.984513046,3.0159289728,3.0473448996,3.0787608264,3.1101767532,3.14159268,3.14159268,3.1730086068,3.1730086068],\"fY\":[0,69.0385311702205,69.0385311702205,73.7790396778521,78.8197660235319,83.9440792986719,89.1317588475853,94.3623319943669,99.6151517434481,104.869491007119,110.104614003164,115.299857705193,120.434719189945,125.48893531161,130.44255865546,135.276037437203,139.970298695713,144.506816842857,148.867684622965,153.035694612071,156.99439801563,160.728169808196,164.22227482463,167.462924634357,170.437329311226,173.133749051893,175.541543811583,177.651211234747,179.454423769307,180.944066307573,182.114259925208,182.960385828954,183.479104946993,183.668370278951,183.527434707497,183.056854619163,182.258487023836,181.13548237794,179.692273677011,177.934555860713,175.86926542555,173.504554033446,170.849754118436,167.915341995172,164.712898728558,161.255064374015,157.555483681026,153.628756550192,149.490383270445,145.15669355478,140.64478981401,135.972480506836,131.158204899963,126.22096102642,121.18023455969,116.055921152105,110.868241461829,105.637668167509,100.384848267642,95.1305088529621,89.8953857087174,84.7001418642435,79.5652802455774,74.5110640010479,69.5574405475881,64.7239616713224,60.0297003348062,55.4931821271846,51.1323143047179,46.9643042915647,43.0056008820884,39.2718291012225,35.7777241133132,32.5370743479047,29.5626697299411,26.866250061422,24.4584553856924,22.3487880568203,20.5455756253815,19.0559331975631,17.8857396962173,17.0396139131386,16.5208949187039,16.3316297118658,16.472565408542,16.9431456207908,17.7415133373051,18.8645181002225,20.3077269125472,22.0654448331328,24.1307353639747,26.4954468416459,29.1502468306242,32.0846590148186,35.287102327967,38.7449367134162,42.4445174206255,46.3712445481609,50.509617806536,54.8433074825211,59.3552111654391,64.0275203971219,68.6450636466761,68.6450636466761,68.6450636466761,0],\"fFunctions\":{\"_typename\":\"TList\",\"name\":\"TList\",\"arr\":[],\"opt\":[]},\"fHistogram\":{\"_typename\":\"TH1F\",\"fUniqueID\":0,\"fBits\":50332168,\"fName\":\"Mf_Norm[psi]\",\"fTitle\":\"Projection of Mf\",\"fLineColor\":602,\"fLineStyle\":1,\"fLineWidth\":1,\"fFillColor\":0,\"fFillStyle\":1001,\"fMarkerColor\":1,\"fMarkerStyle\":1,\"fMarkerSize\":1,\"fNcells\":108,\"fXaxis\":{\"_typename\":\"TAxis\",\"fUniqueID\":0,\"fBits\":50331648,\"fName\":\"xaxis\",\"fTitle\":\"\",\"fNdivisions\":510,\"fAxisColor\":1,\"fLabelColor\":1,\"fLabelFont\":42,\"fLabelOffset\":0.005,\"fLabelSize\":0.035,\"fTickLength\":0.03,\"fTitleOffset\":1,\"fTitleSize\":0.035,\"fTitleColor\":1,\"fTitleFont\":42,\"fNbins\":106,\"fXmin\":-0.35185838016,\"fXmax\":3.49345106016,\"fXbins\":[],\"fFirst\":0,\"fLast\":0,\"fBits2\":0,\"fTimeDisplay\":false,\"fTimeFormat\":\"\",\"fLabels\":null,\"fModLabs\":null},\"fYaxis\":{\"_typename\":\"TAxis\",\"fUniqueID\":0,\"fBits\":50331648,\"fName\":\"yaxis\",\"fTitle\":\"\",\"fNdivisions\":510,\"fAxisColor\":1,\"fLabelColor\":1,\"fLabelFont\":42,\"fLabelOffset\":0.005,\"fLabelSize\":0.035,\"fTickLength\":0.03,\"fTitleOffset\":0,\"fTitleSize\":0.035,\"fTitleColor\":1,\"fTitleFont\":42,\"fNbins\":1,\"fXmin\":0,\"fXmax\":202.035207306846,\"fXbins\":[],\"fFirst\":0,\"fLast\":0,\"fBits2\":0,\"fTimeDisplay\":false,\"fTimeFormat\":\"\",\"fLabels\":null,\"fModLabs\":null},\"fZaxis\":{\"_typename\":\"TAxis\",\"fUniqueID\":0,\"fBits\":50331648,\"fName\":\"zaxis\",\"fTitle\":\"\",\"fNdivisions\":510,\"fAxisColor\":1,\"fLabelColor\":1,\"fLabelFont\":42,\"fLabelOffset\":0.005,\"fLabelSize\":0.035,\"fTickLength\":0.03,\"fTitleOffset\":1,\"fTitleSize\":0.035,\"fTitleColor\":1,\"fTitleFont\":42,\"fNbins\":1,\"fXmin\":0,\"fXmax\":1,\"fXbins\":[],\"fFirst\":0,\"fLast\":0,\"fBits2\":0,\"fTimeDisplay\":false,\"fTimeFormat\":\"\",\"fLabels\":null,\"fModLabs\":null},\"fBarOffset\":0,\"fBarWidth\":1000,\"fEntries\":0,\"fTsumw\":0,\"fTsumw2\":0,\"fTsumwx\":0,\"fTsumwx2\":0,\"fMaximum\":202.035207306846,\"fMinimum\":0,\"fNormFactor\":0,\"fContour\":[],\"fSumw2\":[],\"fOption\":\"\",\"fFunctions\":{\"_typename\":\"TList\",\"name\":\"TList\",\"arr\":[],\"opt\":[]},\"fBufferSize\":0,\"fBuffer\":[],\"fBinStatErrOpt\":0,\"fStatOverflows\":2,\"fArray\":[0,0,0,0,0,0,0,0,0,0,0,0,0,0,0,0,0,0,0,0,0,0,0,0,0,0,0,0,0,0,0,0,0,0,0,0,0,0,0,0,0,0,0,0,0,0,0,0,0,0,0,0,0,0,0,0,0,0,0,0,0,0,0,0,0,0,0,0,0,0,0,0,0,0,0,0,0,0,0,0,0,0,0,0,0,0,0,0,0,0,0,0,0,0,0,0,0,0,0,0,0,0,0,0,0,0,0,0]},\"fMinimum\":-1111,\"fMaximum\":-1111,\"_yAxisLabel\":\"Projection of Mf\",\"_ymin\":0,\"_ymax\":183.668370278951,\"_normValue\":0},{\"_typename\":\"RooCurve\",\"fUniqueID\":0,\"fBits\":50332680,\"fName\":\"Tpsi_Norm[psi]\",\"fTitle\":\"Projection of 1+sin(2*@0)\",\"fLineColor\":632,\"fLineStyle\":1,\"fLineWidth\":3,\"fFillColor\":0,\"fFillStyle\":1000,\"fMarkerColor\":1,\"fMarkerStyle\":1,\"fMarkerSize\":1,\"fNpoints\":106,\"fX\":[-0.0314159268,-0.0314159268,0,0.0314159268,0.0628318536,0.0942477804,0.1256637072,0.157079634,0.1884955608,0.2199114876,0.2513274144,0.2827433412,0.314159268,0.3455751948,0.3769911216,0.4084070484,0.4398229752,0.471238902,0.5026548288,0.5340707556,0.5654866824,0.5969026092,0.628318536,0.6597344628,0.6911503896,0.7225663164,0.7539822432,0.78539817,0.8168140968,0.8482300236,0.8796459504,0.9110618772,0.942477804,0.9738937308,1.0053096576,1.0367255844,1.0681415112,1.099557438,1.1309733648,1.1623892916,1.1938052184,1.2252211452,1.256637072,1.2880529988,1.3194689256,1.3508848524,1.3823007792,1.413716706,1.4451326328,1.4765485596,1.5079644864,1.5393804132,1.57079634,1.6022122668,1.6336281936,1.6650441204,1.6964600472,1.727875974,1.7592919008,1.7907078276,1.8221237544,1.8535396812,1.884955608,1.9163715348,1.9477874616,1.9792033884,2.0106193152,2.042035242,2.0734511688,2.1048670956,2.1362830224,2.1676989492,2.199114876,2.2305308028,2.2619467296,2.2933626564,2.3247785832,2.35619451,2.3876104368,2.4190263636,2.4504422904,2.4818582172,2.513274144,2.5446900708,2.5761059976,2.6075219244,2.6389378512,2.670353778,2.7017697048,2.7331856316,2.7646015584,2.7960174852,2.827433412,2.8588493388,2.8902652656,2.9216811924,2.9530971192,2.984513046,3.0159289728,3.0473448996,3.0787608264,3.1101767532,3.14159268,3.14159268,3.1730086068,3.1730086068],\"fY\":[0,99.9999999999963,99.9999999999963,106.279052005644,112.533323461234,118.738131614223,124.868988921125,130.901699688666,136.81245556313,142.577929491055,148.175367780461,153.582679899274,158.778525656568,163.74239942255,168.454711054916,172.89686321219,177.051324748938,180.901699903194,184.432793003036,187.630668436969,190.482705651412,192.977648958263,195.105651955956,196.85831638871,198.228725290608,199.211470283704,199.802672922419,199.999999999993,199.802672756588,199.211469952696,198.22872479573,196.858315731915,195.105651139836,192.977647986039,190.48270452692,187.630667164647,184.432791587907,180.901698350841,177.051323065488,172.896861404287,168.454709129695,163.742397387609,158.778523519937,153.582677669386,148.175365466117,142.577927101388,136.812453107571,130.901697176906,124.868986363077,118.738129019982,112.533320841039,106.279049369834,99.9999973589756,93.7209453585398,87.4666739185631,81.2618657915292,75.1310085208198,69.0982977995668,63.1875419813039,57.4220681192703,51.8246299051875,46.4173178708314,41.2214722067945,36.2575985425012,31.5452870198557,27.1031349799,22.9486735676044,19.0982985444457,15.5672055818268,12.3693302907026,9.51729322408874,7.02235006950478,4.89434722791616,3.14168295448774,1.77127421450693,0.788529385281072,0.197326911742938,7.77156117237581e-14,0.197327409236129,0.788530378304069,1.77127569914071,3.14168492487317,4.89434967627697,7.02235298617848,9.51729659756452,12.3693341076668,15.5672098272158,19.0983032015047,22.9486786179542,27.1031404036093,31.5452927955194,36.2576046473255,41.2214786166863,46.417324560494,51.8246368482197,57.4220752882712,63.1875493479807,69.0983053348466,75.1310161949643,81.261873574252,87.4666817791494,93.7209532659675,100.000005282038,100.000005282038,100.000005282038,0],\"fFunctions\":{\"_typename\":\"TList\",\"name\":\"TList\",\"arr\":[],\"opt\":[]},\"fHistogram\":{\"_typename\":\"TH1F\",\"fUniqueID\":0,\"fBits\":50332168,\"fName\":\"Tpsi_Norm[psi]\",\"fTitle\":\"Projection of 1+sin(2*@0)\",\"fLineColor\":602,\"fLineStyle\":1,\"fLineWidth\":1,\"fFillColor\":0,\"fFillStyle\":1001,\"fMarkerColor\":1,\"fMarkerStyle\":1,\"fMarkerSize\":1,\"fNcells\":108,\"fXaxis\":{\"_typename\":\"TAxis\",\"fUniqueID\":0,\"fBits\":50331648,\"fName\":\"xaxis\",\"fTitle\":\"\",\"fNdivisions\":510,\"fAxisColor\":1,\"fLabelColor\":1,\"fLabelFont\":42,\"fLabelOffset\":0.005,\"fLabelSize\":0.035,\"fTickLength\":0.03,\"fTitleOffset\":1,\"fTitleSize\":0.035,\"fTitleColor\":1,\"fTitleFont\":42,\"fNbins\":106,\"fXmin\":-0.35185838016,\"fXmax\":3.49345106016,\"fXbins\":[],\"fFirst\":0,\"fLast\":0,\"fBits2\":0,\"fTimeDisplay\":false,\"fTimeFormat\":\"\",\"fLabels\":null,\"fModLabs\":null},\"fYaxis\":{\"_typename\":\"TAxis\",\"fUniqueID\":0,\"fBits\":50331648,\"fName\":\"yaxis\",\"fTitle\":\"\",\"fNdivisions\":510,\"fAxisColor\":1,\"fLabelColor\":1,\"fLabelFont\":42,\"fLabelOffset\":0.005,\"fLabelSize\":0.035,\"fTickLength\":0.03,\"fTitleOffset\":0,\"fTitleSize\":0.035,\"fTitleColor\":1,\"fTitleFont\":42,\"fNbins\":1,\"fXmin\":0,\"fXmax\":219.999999999992,\"fXbins\":[],\"fFirst\":0,\"fLast\":0,\"fBits2\":0,\"fTimeDisplay\":false,\"fTimeFormat\":\"\",\"fLabels\":null,\"fModLabs\":null},\"fZaxis\":{\"_typename\":\"TAxis\",\"fUniqueID\":0,\"fBits\":50331648,\"fName\":\"zaxis\",\"fTitle\":\"\",\"fNdivisions\":510,\"fAxisColor\":1,\"fLabelColor\":1,\"fLabelFont\":42,\"fLabelOffset\":0.005,\"fLabelSize\":0.035,\"fTickLength\":0.03,\"fTitleOffset\":1,\"fTitleSize\":0.035,\"fTitleColor\":1,\"fTitleFont\":42,\"fNbins\":1,\"fXmin\":0,\"fXmax\":1,\"fXbins\":[],\"fFirst\":0,\"fLast\":0,\"fBits2\":0,\"fTimeDisplay\":false,\"fTimeFormat\":\"\",\"fLabels\":null,\"fModLabs\":null},\"fBarOffset\":0,\"fBarWidth\":1000,\"fEntries\":0,\"fTsumw\":0,\"fTsumw2\":0,\"fTsumwx\":0,\"fTsumwx2\":0,\"fMaximum\":219.999999999992,\"fMinimum\":0,\"fNormFactor\":0,\"fContour\":[],\"fSumw2\":[],\"fOption\":\"\",\"fFunctions\":{\"_typename\":\"TList\",\"name\":\"TList\",\"arr\":[],\"opt\":[]},\"fBufferSize\":0,\"fBuffer\":[],\"fBinStatErrOpt\":0,\"fStatOverflows\":2,\"fArray\":[0,0,0,0,0,0,0,0,0,0,0,0,0,0,0,0,0,0,0,0,0,0,0,0,0,0,0,0,0,0,0,0,0,0,0,0,0,0,0,0,0,0,0,0,0,0,0,0,0,0,0,0,0,0,0,0,0,0,0,0,0,0,0,0,0,0,0,0,0,0,0,0,0,0,0,0,0,0,0,0,0,0,0,0,0,0,0,0,0,0,0,0,0,0,0,0,0,0,0,0,0,0,0,0,0,0,0,0]},\"fMinimum\":-1111,\"fMaximum\":-1111,\"_yAxisLabel\":\"Projection of 1+sin(2*@0)\",\"_ymin\":0,\"_ymax\":199.999999999993,\"_normValue\":0},{\"$ref\":5},{\"_typename\":\"TPaveText\",\"fUniqueID\":0,\"fBits\":50331657,\"fLineColor\":1,\"fLineStyle\":1,\"fLineWidth\":1,\"fFillColor\":0,\"fFillStyle\":0,\"fX1\":-2.02857974862525e-8,\"fY1\":238.10696314319,\"fX2\":2.93215316956045,\"fY2\":257.011768075944,\"fX1NDC\":0.15,\"fY1NDC\":0.929167220071608,\"fX2NDC\":0.85,\"fY2NDC\":0.995000004768372,\"fBorderSize\":0,\"fInit\":1,\"fShadowColor\":1,\"fCornerRadius\":0,\"fOption\":\"blNDC\",\"fName\":\"title\",\"fTextAngle\":0,\"fTextSize\":0,\"fTextAlign\":22,\"fTextColor\":1,\"fTextFont\":42,\"fLabel\":\"\",\"fLongest\":33,\"fMargin\":0.05,\"fLines\":{\"_typename\":\"TList\",\"name\":\"TList\",\"arr\":[{\"_typename\":\"TLatex\",\"fUniqueID\":0,\"fBits\":50331648,\"fName\":\"\",\"fTitle\":\"Cyclical convolution in angle psi\",\"fTextAngle\":0,\"fTextSize\":0,\"fTextAlign\":0,\"fTextColor\":0,\"fTextFont\":0,\"fX\":0,\"fY\":0,\"fLineColor\":1,\"fLineStyle\":1,\"fLineWidth\":2,\"fLimitFactorSize\":3,\"fOriginSize\":0.0559578686952591}],\"opt\":[\"\"]}}],\"opt\":[\"\",\"FUNC\",\"p\",\"l\",\"l\",\"AXISSAME\",\"blNDC\"]},\"fExecs\":{\"_typename\":\"TList\",\"name\":\"TList\",\"arr\":[],\"opt\":[]},\"fName\":\"rf210_angularconv_1\",\"fTitle\":\"rf210_angularconv_1\",\"fNumPaletteColor\":0,\"fNextPaletteColor\":0},{\"_typename\":\"TPad\",\"fUniqueID\":0,\"fBits\":50331657,\"fLineColor\":1,\"fLineStyle\":1,\"fLineWidth\":1,\"fFillColor\":0,\"fFillStyle\":1001,\"fLeftMargin\":0.15,\"fRightMargin\":0.1,\"fBottomMargin\":0.1,\"fTopMargin\":0.1,\"fXfile\":2,\"fYfile\":2,\"fAfile\":1,\"fXstat\":0.99,\"fYstat\":0.99,\"fAstat\":2,\"fFrameFillColor\":0,\"fFrameLineColor\":1,\"fFrameFillStyle\":1001,\"fFrameLineStyle\":1,\"fFrameLineWidth\":1,\"fFrameBorderSize\":1,\"fFrameBorderMode\":0,\"fX1\":-1.40000001589457,\"fY1\":-27.9011438578403,\"fX2\":1.26666667064031,\"fY2\":251.110278090185,\"fXtoAbsPixelk\":606.552050791743,\"fXtoPixelk\":200.592050969663,\"fXtoPixel\":143.279999065921,\"fYtoAbsPixelk\":331.824047893572,\"fYtoPixelk\":328.10404797672,\"fYtoPixel\":-1.30661317598033,\"fUtoAbsPixelk\":405.96004982208,\"fUtoPixelk\":5e-5,\"fUtoPixel\":382.08000035584,\"fVtoAbsPixelk\":368.280050083148,\"fVtoPixelk\":364.560000166297,\"fVtoPixel\":-364.560000166297,\"fAbsPixeltoXk\":-4.23333336645737,\"fPixeltoXk\":-1.40000001589457,\"fPixeltoX\":0.00697934119569555,\"fAbsPixeltoYk\":253.95733335125,\"fPixeltoYk\":-27.9011438578403,\"fPixeltoY\":-0.765337452876762,\"fXlowNDC\":0.509999999776483,\"fYlowNDC\":0.00999999977648258,\"fXUpNDC\":0,\"fYUpNDC\":0,\"fWNDC\":0.480000000447035,\"fHNDC\":0.980000000447035,\"fAbsXlowNDC\":0.509999999776483,\"fAbsYlowNDC\":0.00999999977648258,\"fAbsWNDC\":0.480000000447035,\"fAbsHNDC\":0.980000000447035,\"fUxmin\":-1,\"fUymin\":0,\"fUxmax\":1,\"fUymax\":223.209134232345,\"fTheta\":30,\"fPhi\":30,\"fAspectRatio\":0,\"fNumber\":2,\"fTickx\":0,\"fTicky\":0,\"fLogx\":0,\"fLogy\":0,\"fLogz\":0,\"fPadPaint\":0,\"fCrosshair\":0,\"fCrosshairPos\":0,\"fBorderSize\":2,\"fBorderMode\":0,\"fModified\":false,\"fGridx\":false,\"fGridy\":false,\"fAbsCoord\":false,\"fEditable\":true,\"fFixedAspectRatio\":false,\"fPrimitives\":{\"_typename\":\"TList\",\"name\":\"TList\",\"arr\":[{\"_typename\":\"TFrame\",\"fUniqueID\":0,\"fBits\":50331656,\"fLineColor\":1,\"fLineStyle\":1,\"fLineWidth\":1,\"fFillColor\":0,\"fFillStyle\":1001,\"fX1\":-1,\"fY1\":0,\"fX2\":1,\"fY2\":223.209134232345,\"fBorderSize\":1,\"fBorderMode\":0},{\"_typename\":\"TH1D\",\"fUniqueID\":0,\"fBits\":50332168,\"fName\":\"frame_7f66a40f92d0\",\"fTitle\":\"Same convolution in psi, expressed in cos(psi)\",\"fLineColor\":602,\"fLineStyle\":1,\"fLineWidth\":1,\"fFillColor\":0,\"fFillStyle\":1001,\"fMarkerColor\":1,\"fMarkerStyle\":1,\"fMarkerSize\":1,\"fNcells\":102,\"fXaxis\":{\"_typename\":\"TAxis\",\"fUniqueID\":0,\"fBits\":50331648,\"fName\":\"xaxis\",\"fTitle\":\"cos(psi)\",\"fNdivisions\":510,\"fAxisColor\":1,\"fLabelColor\":1,\"fLabelFont\":42,\"fLabelOffset\":0.005,\"fLabelSize\":0.035,\"fTickLength\":0.03,\"fTitleOffset\":1,\"fTitleSize\":0.035,\"fTitleColor\":1,\"fTitleFont\":42,\"fNbins\":100,\"fXmin\":-1,\"fXmax\":1,\"fXbins\":[],\"fFirst\":0,\"fLast\":0,\"fBits2\":0,\"fTimeDisplay\":false,\"fTimeFormat\":\"\",\"fLabels\":null,\"fModLabs\":null},\"fYaxis\":{\"_typename\":\"TAxis\",\"fUniqueID\":0,\"fBits\":50331648,\"fName\":\"yaxis\",\"fTitle\":\"Events \\/ ( 0.02 )\",\"fNdivisions\":510,\"fAxisColor\":1,\"fLabelColor\":1,\"fLabelFont\":42,\"fLabelOffset\":0.005,\"fLabelSize\":0.035,\"fTickLength\":0.03,\"fTitleOffset\":1.4,\"fTitleSize\":0.035,\"fTitleColor\":1,\"fTitleFont\":42,\"fNbins\":1,\"fXmin\":0,\"fXmax\":1,\"fXbins\":[],\"fFirst\":0,\"fLast\":0,\"fBits2\":0,\"fTimeDisplay\":false,\"fTimeFormat\":\"\",\"fLabels\":null,\"fModLabs\":null},\"fZaxis\":{\"_typename\":\"TAxis\",\"fUniqueID\":0,\"fBits\":50331648,\"fName\":\"zaxis\",\"fTitle\":\"\",\"fNdivisions\":510,\"fAxisColor\":1,\"fLabelColor\":1,\"fLabelFont\":42,\"fLabelOffset\":0.005,\"fLabelSize\":0.035,\"fTickLength\":0.03,\"fTitleOffset\":1,\"fTitleSize\":0.035,\"fTitleColor\":1,\"fTitleFont\":42,\"fNbins\":1,\"fXmin\":0,\"fXmax\":1,\"fXbins\":[],\"fFirst\":0,\"fLast\":0,\"fBits2\":0,\"fTimeDisplay\":false,\"fTimeFormat\":\"\",\"fLabels\":null,\"fModLabs\":null},\"fBarOffset\":0,\"fBarWidth\":1000,\"fEntries\":1,\"fTsumw\":0,\"fTsumw2\":0,\"fTsumwx\":0,\"fTsumwx2\":0,\"fMaximum\":223.209134232345,\"fMinimum\":-1111,\"fNormFactor\":0,\"fContour\":[],\"fSumw2\":[],\"fOption\":\"\",\"fFunctions\":{\"_typename\":\"TList\",\"name\":\"TList\",\"arr\":[],\"opt\":[]},\"fBufferSize\":0,\"fBuffer\":[],\"fBinStatErrOpt\":0,\"fStatOverflows\":2,\"fArray\":[0,223.209134232345,0,0,0,0,0,0,0,0,0,0,0,0,0,0,0,0,0,0,0,0,0,0,0,0,0,0,0,0,0,0,0,0,0,0,0,0,0,0,0,0,0,0,0,0,0,0,0,0,0,0,0,0,0,0,0,0,0,0,0,0,0,0,0,0,0,0,0,0,0,0,0,0,0,0,0,0,0,0,0,0,0,0,0,0,0,0,0,0,0,0,0,0,0,0,0,0,0,0,0,0]},{\"_typename\":\"RooHist\",\"fUniqueID\":0,\"fBits\":50332680,\"fName\":\"h_MfData\",\"fTitle\":\"Histogram of MfData_plot__cpsi\",\"fLineColor\":1,\"fLineStyle\":1,\"fLineWidth\":1,\"fFillColor\":0,\"fFillStyle\":1000,\"fMarkerColor\":1,\"fMarkerStyle\":8,\"fMarkerSize\":1,\"fNpoints\":100,\"fX\":[-0.99,-0.97,-0.95,-0.93,-0.91,-0.89,-0.87,-0.85,-0.83,-0.81,-0.79,-0.77,-0.75,-0.73,-0.71,-0.69,-0.67,-0.65,-0.63,-0.61,-0.59,-0.57,-0.55,-0.53,-0.51,-0.49,-0.47,-0.45,-0.43,-0.41,-0.39,-0.37,-0.35,-0.33,-0.31,-0.29,-0.27,-0.25,-0.23,-0.21,-0.19,-0.17,-0.15,-0.13,-0.11,-0.09,-0.07,-0.0499999999999999,-0.03,-0.01,0.01,0.03,0.05,0.07,0.0900000000000001,0.11,0.13,0.15,0.17,0.19,0.21,0.23,0.25,0.27,0.29,0.31,0.33,0.35,0.37,0.39,0.41,0.43,0.45,0.47,0.49,0.51,0.53,0.55,0.57,0.59,0.61,0.63,0.65,0.67,0.69,0.71,0.73,0.75,0.77,0.79,0.81,0.83,0.85,0.87,0.89,0.91,0.93,0.95,0.97,0.99],\"fY\":[40,28,32,24,18,21,19,18,19,14,9,18,20,20,22,23,24,30,23,24,36,41,36,33,39,41,48,50,60,50,44,59,62,61,56,78,79,79,96,113,97,88,91,77,101,88,110,107,120,105,117,125,133,120,129,132,131,150,134,155,165,146,171,155,148,171,156,154,161,140,162,176,142,171,198,172,155,175,170,163,181,159,183,166,163,159,164,152,164,156,167,132,133,113,115,127,119,103,100,76],\"fFunctions\":{\"_typename\":\"TList\",\"name\":\"TList\",\"arr\":[],\"opt\":[]},\"fHistogram\":{\"_typename\":\"TH1F\",\"fUniqueID\":0,\"fBits\":50332168,\"fName\":\"h_MfData\",\"fTitle\":\"Histogram of MfData_plot__cpsi\",\"fLineColor\":602,\"fLineStyle\":1,\"fLineWidth\":1,\"fFillColor\":0,\"fFillStyle\":1001,\"fMarkerColor\":1,\"fMarkerStyle\":1,\"fMarkerSize\":1,\"fNcells\":102,\"fXaxis\":{\"_typename\":\"TAxis\",\"fUniqueID\":0,\"fBits\":50331648,\"fName\":\"xaxis\",\"fTitle\":\"\",\"fNdivisions\":510,\"fAxisColor\":1,\"fLabelColor\":1,\"fLabelFont\":42,\"fLabelOffset\":0.005,\"fLabelSize\":0.035,\"fTickLength\":0.03,\"fTitleOffset\":1,\"fTitleSize\":0.035,\"fTitleColor\":1,\"fTitleFont\":42,\"fNbins\":100,\"fXmin\":-1.2,\"fXmax\":1.2,\"fXbins\":[],\"fFirst\":0,\"fLast\":0,\"fBits2\":0,\"fTimeDisplay\":false,\"fTimeFormat\":\"\",\"fLabels\":null,\"fModLabs\":null},\"fYaxis\":{\"_typename\":\"TAxis\",\"fUniqueID\":0,\"fBits\":50331648,\"fName\":\"yaxis\",\"fTitle\":\"\",\"fNdivisions\":510,\"fAxisColor\":1,\"fLabelColor\":1,\"fLabelFont\":42,\"fLabelOffset\":0.005,\"fLabelSize\":0.035,\"fTickLength\":0.03,\"fTitleOffset\":0,\"fTitleSize\":0.035,\"fTitleColor\":1,\"fTitleFont\":42,\"fNbins\":1,\"fXmin\":5.45088506647432,\"fXmax\":233.232486728087,\"fXbins\":[],\"fFirst\":0,\"fLast\":0,\"fBits2\":0,\"fTimeDisplay\":false,\"fTimeFormat\":\"\",\"fLabels\":null,\"fModLabs\":null},\"fZaxis\":{\"_typename\":\"TAxis\",\"fUniqueID\":0,\"fBits\":50331648,\"fName\":\"zaxis\",\"fTitle\":\"\",\"fNdivisions\":510,\"fAxisColor\":1,\"fLabelColor\":1,\"fLabelFont\":42,\"fLabelOffset\":0.005,\"fLabelSize\":0.035,\"fTickLength\":0.03,\"fTitleOffset\":1,\"fTitleSize\":0.035,\"fTitleColor\":1,\"fTitleFont\":42,\"fNbins\":1,\"fXmin\":0,\"fXmax\":1,\"fXbins\":[],\"fFirst\":0,\"fLast\":0,\"fBits2\":0,\"fTimeDisplay\":false,\"fTimeFormat\":\"\",\"fLabels\":null,\"fModLabs\":null},\"fBarOffset\":0,\"fBarWidth\":1000,\"fEntries\":0,\"fTsumw\":0,\"fTsumw2\":0,\"fTsumwx\":0,\"fTsumwx2\":0,\"fMaximum\":233.232486728087,\"fMinimum\":5.45088506647432,\"fNormFactor\":0,\"fContour\":[],\"fSumw2\":[],\"fOption\":\"\",\"fFunctions\":{\"_typename\":\"TList\",\"name\":\"TList\",\"arr\":[],\"opt\":[]},\"fBufferSize\":0,\"fBuffer\":[],\"fBinStatErrOpt\":0,\"fStatOverflows\":2,\"fArray\":[0,0,0,0,0,0,0,0,0,0,0,0,0,0,0,0,0,0,0,0,0,0,0,0,0,0,0,0,0,0,0,0,0,0,0,0,0,0,0,0,0,0,0,0,0,0,0,0,0,0,0,0,0,0,0,0,0,0,0,0,0,0,0,0,0,0,0,0,0,0,0,0,0,0,0,0,0,0,0,0,0,0,0,0,0,0,0,0,0,0,0,0,0,0,0,0,0,0,0,0,0,0]},\"fMinimum\":-1111,\"fMaximum\":-1111,\"fEXlow\":[0.01,0.01,0.01,0.01,0.01,0.01,0.01,0.01,0.01,0.01,0.01,0.01,0.01,0.01,0.01,0.01,0.01,0.01,0.01,0.01,0.01,0.01,0.01,0.01,0.01,0.01,0.01,0.01,0.01,0.01,0.01,0.01,0.01,0.01,0.01,0.01,0.01,0.01,0.01,0.01,0.01,0.01,0.01,0.01,0.01,0.01,0.01,0.01,0.01,0.01,0.01,0.01,0.01,0.01,0.01,0.01,0.01,0.01,0.01,0.01,0.01,0.01,0.01,0.01,0.01,0.01,0.01,0.01,0.01,0.01,0.01,0.01,0.01,0.01,0.01,0.01,0.01,0.01,0.01,0.01,0.01,0.01,0.01,0.01,0.01,0.01,0.01,0.01,0.01,0.01,0.01,0.01,0.01,0.01,0.01,0.01,0.01,0.01,0.01,0.01],\"fEXhigh\":[0.01,0.01,0.01,0.01,0.01,0.01,0.01,0.01,0.01,0.01,0.01,0.01,0.01,0.01,0.01,0.01,0.01,0.01,0.01,0.01,0.01,0.01,0.01,0.01,0.01,0.01,0.01,0.01,0.01,0.01,0.01,0.01,0.01,0.01,0.01,0.01,0.01,0.01,0.01,0.01,0.01,0.01,0.01,0.01,0.01,0.01,0.01,0.01,0.01,0.01,0.01,0.01,0.01,0.01,0.01,0.01,0.01,0.01,0.01,0.01,0.01,0.01,0.01,0.01,0.01,0.01,0.01,0.01,0.01,0.01,0.01,0.01,0.01,0.01,0.01,0.01,0.01,0.01,0.01,0.01,0.01,0.01,0.01,0.01,0.01,0.01,0.01,0.01,0.01,0.01,0.01,0.01,0.01,0.01,0.01,0.01,0.01,0.01,0.01,0.01],\"fEYlow\":[6.29800017766426,5.25971089793461,5.62713531718605,4.86461220384528,4.20288721196007,4.54580699932335,4.32021937465496,4.20288721196007,4.32021937465496,3.69650031882412,2.94346103725076,4.20288721196007,4.43444798221412,4.43444798221412,4.65450239544497,4.76071662107231,4.86461220384528,5.44652245543606,4.76071662107231,4.86461220384528,5.97199579039322,6.37689760804177,5.97199579039322,5.71530168178358,6.21810171113267,6.37689760804177,6.90397923687425,7.04733682585609,7.72431707825595,7.04733682585609,6.6079399977078,7.65931221775091,7.8527125906456,7.78877941552809,7.46090009529179,8.81278816273145,8.86934285748457,8.86934285748457,9.78086674710336,10.1418983268964,9.83185435575356,9.36297523850129,9.52183408565944,8.75586817817742,9.56230589874906,9.36297523850129,10,9.85615758860399,10.4658560997307,9.75914226434159,10.3282039138539,10.6915146427997,11.0433963806152,10.4658560997307,10.8688170009021,11,10.9564392373896,11.7576506721313,11.0866302262565,11.9599357943771,12.3549601321824,11.5933866224478,12.5862523283024,11.9599357943771,11.6757956618859,12.5862523283024,12,11.9197423483742,12.1984250992003,11.342719282327,12.237739202857,12.7759180473518,11.4268604418766,12.5862523283024,13.5801278403287,12.6244047484067,11.9599357943771,12.7382022948737,12.5479883506999,12.2769323391806,12.9629120178363,12.119429464124,13.0369863706809,12.3937969582276,12.2769323391806,12.119429464124,12.3160056179763,11.8389626792531,12.3160056179763,12,12.4325171563776,11,11.0433963806152,10.1418983268964,10.2354552767919,10.7805141726785,10.4201648339208,9.66120071645079,9.98325482288658,8.69857573269304],\"fEYhigh\":[7.37726075879658,6.35444601200602,6.71575340007623,5.96693206711369,5.32100732238368,5.65518197118255,5.4351961614818,5.32100732238368,5.4351961614818,4.83038075568817,4.11020413766764,5.32100732238368,5.54651922951146,5.54651922951146,5.76136640411342,5.8652346956897,5.96693206711369,6.53804637266794,5.8652346956897,5.96693206711369,7.0555452840609,7.45518517410131,7.0555452840609,6.80256676451212,7.29837245259718,7.45518517410131,7.97632992098288,8.1182246064733,8.78902310673288,8.1182246064733,7.683510071295,8.72456484475691,8.91636535507314,8.85295233843901,8.52787944162286,9.86953088054457,9.92572487310768,9.92572487310768,10.8320074139966,11.1418983268964,10.8827303945866,10.4163928307457,10.5743626945331,9.81297860268175,10.5623058987491,10.4163928307457,11,10.856157588604,11.4658560997306,10.7591422643416,11.3282039138539,11.6915146427997,12.0433963806152,11.4658560997306,11.8688170009021,12,11.9564392373896,12.7576506721313,12.0866302262565,12.9599357943771,13.3549601321824,12.5933866224478,13.5862523283024,12.9599357943771,12.6757956618859,13.5862523283024,13,12.9197423483742,13.1984250992003,12.342719282327,13.237739202857,13.7759180473518,12.4268604418766,13.5862523283024,14.5801278403287,13.6244047484067,12.9599357943771,13.7382022948737,13.5479883506999,13.2769323391806,13.9629120178363,13.119429464124,14.0369863706809,13.3937969582276,13.2769323391806,13.119429464124,13.3160056179763,12.8389626792531,13.3160056179763,13,13.4325171563776,12,12.0433963806152,11.1418983268964,11.2354552767919,11.7805141726785,11.4201648339208,10.6612007164508,11.0333609411497,9.7560610979592],\"_yAxisLabel\":\"Events \\/ ( 0.02 )\",\"_ymin\":0,\"_ymax\":212.580127840329,\"_normValue\":0,\"_nominalBinWidth\":0.02,\"_nSigma\":1,\"_entries\":10000,\"_rawEntries\":-1},{\"_typename\":\"RooCurve\",\"fUniqueID\":0,\"fBits\":50332680,\"fName\":\"Mf_Norm[cpsi]\",\"fTitle\":\"Projection of Mf\",\"fLineColor\":600,\"fLineStyle\":1,\"fLineWidth\":3,\"fFillColor\":0,\"fFillStyle\":1000,\"fMarkerColor\":1,\"fMarkerStyle\":1,\"fMarkerSize\":1,\"fNpoints\":124,\"fX\":[-1.02,-1.02,-1,-0.9975,-0.995,-0.9925,-0.99,-0.985,-0.98,-0.975,-0.97,-0.96,-0.95,-0.94,-0.93,-0.92,-0.9,-0.88,-0.86,-0.84,-0.82,-0.8,-0.78,-0.76,-0.74,-0.72,-0.7,-0.68,-0.66,-0.64,-0.62,-0.6,-0.58,-0.56,-0.54,-0.52,-0.5,-0.48,-0.46,-0.44,-0.42,-0.4,-0.38,-0.36,-0.34,-0.32,-0.3,-0.28,-0.26,-0.24,-0.22,-0.2,-0.18,-0.16,-0.14,-0.12,-0.1,-0.08,-0.0599999999999999,-0.04,-0.02,0,0.02,0.04,0.0600000000000001,0.0800000000000001,0.1,0.12,0.14,0.16,0.18,0.2,0.22,0.24,0.26,0.28,0.3,0.32,0.34,0.36,0.38,0.4,0.42,0.44,0.46,0.48,0.5,0.52,0.54,0.56,0.58,0.6,0.62,0.64,0.66,0.68,0.7,0.72,0.74,0.76,0.78,0.8,0.82,0.84,0.86,0.88,0.9,0.92,0.93,0.94,0.95,0.96,0.97,0.975,0.98,0.985,0.99,0.9925,0.995,0.9975,1,1,1.02,1.02],\"fY\":[0,63.4804755695188,63.4804755695188,53.9732175816301,50.1639238758743,47.3334756898166,45.014235067837,41.2705858188582,38.2670081482332,35.7437676128933,33.5667741271387,29.9584285901968,27.0668629557229,24.6971188981377,22.7318482552563,21.0935812227374,18.5942782472502,16.9075023808264,15.8552239370863,15.3182649968315,15.2115605189041,15.4714525997383,16.048536692263,16.903342203364,18.003582630276,19.3223225195792,20.8367127845119,22.5270952876341,24.3763417953302,26.3693682081608,28.4927617561312,30.73448888091,33.0836773636369,35.530425101399,38.0656638862946,40.6810370721506,43.3688023755041,46.1217508552337,48.933138777781,51.7966349471218,54.7062611451931,57.6563616341442,60.6415603964763,63.6567337953823,66.6969771914264,69.7575891583052,72.8340445708581,75.9219745914743,79.0171544386462,82.1154856979735,85.2129826628954,88.3057598879596,91.3900207825029,94.4620470968185,97.5181891725127,100.554856844696,103.568510896621,106.555654977886,109.512827905832,112.436596276545,115.323547317247,118.170281915965,120.973407767369,123.729532575633,126.435257256264,129.087169078861,131.681834691988,134.215792969462,136.685547614475,139.087559453838,141.418238349155,143.673934644671,145.850930062535,147.945427944999,149.953542729052,151.871288521611,153.694566621815,155.419151810234,157.040678088347,158.554618645722,159.956269879888,161.240731017635,162.402875483238,163.437328964585,164.338433275936,165.10021479302,165.716338243794,166.18006087632,166.484174151125,166.620935822232,166.581989010971,166.358264804977,165.939863342718,165.3159098411,164.474372583669,163.401837848825,162.08322153122,160.501395801843,158.63670236796,156.466292242199,153.963229368253,151.09522879625,147.82281783854,144.096593087806,139.852897520927,135.006664515337,129.438716681067,122.971022901535,119.315855718635,115.311878176333,110.881624210615,105.907744342804,100.195281201078,96.9580518682059,93.3691241827964,89.2944086693171,84.4741692369594,81.6145905204677,78.2424416140188,73.8900820298634,63.8384032310022,63.8384032310022,63.8384032310022,0],\"fFunctions\":{\"_typename\":\"TList\",\"name\":\"TList\",\"arr\":[],\"opt\":[]},\"fHistogram\":{\"_typename\":\"TH1F\",\"fUniqueID\":0,\"fBits\":50332168,\"fName\":\"Mf_Norm[cpsi]\",\"fTitle\":\"Projection of Mf\",\"fLineColor\":602,\"fLineStyle\":1,\"fLineWidth\":1,\"fFillColor\":0,\"fFillStyle\":1001,\"fMarkerColor\":1,\"fMarkerStyle\":1,\"fMarkerSize\":1,\"fNcells\":126,\"fXaxis\":{\"_typename\":\"TAxis\",\"fUniqueID\":0,\"fBits\":50331648,\"fName\":\"xaxis\",\"fTitle\":\"\",\"fNdivisions\":510,\"fAxisColor\":1,\"fLabelColor\":1,\"fLabelFont\":42,\"fLabelOffset\":0.005,\"fLabelSize\":0.035,\"fTickLength\":0.03,\"fTitleOffset\":1,\"fTitleSize\":0.035,\"fTitleColor\":1,\"fTitleFont\":42,\"fNbins\":124,\"fXmin\":-1.224,\"fXmax\":1.224,\"fXbins\":[],\"fFirst\":0,\"fLast\":0,\"fBits2\":0,\"fTimeDisplay\":false,\"fTimeFormat\":\"\",\"fLabels\":null,\"fModLabs\":null},\"fYaxis\":{\"_typename\":\"TAxis\",\"fUniqueID\":0,\"fBits\":50331648,\"fName\":\"yaxis\",\"fTitle\":\"\",\"fNdivisions\":510,\"fAxisColor\":1,\"fLabelColor\":1,\"fLabelFont\":42,\"fLabelOffset\":0.005,\"fLabelSize\":0.035,\"fTickLength\":0.03,\"fTitleOffset\":0,\"fTitleSize\":0.035,\"fTitleColor\":1,\"fTitleFont\":42,\"fNbins\":1,\"fXmin\":0,\"fXmax\":183.283029404455,\"fXbins\":[],\"fFirst\":0,\"fLast\":0,\"fBits2\":0,\"fTimeDisplay\":false,\"fTimeFormat\":\"\",\"fLabels\":null,\"fModLabs\":null},\"fZaxis\":{\"_typename\":\"TAxis\",\"fUniqueID\":0,\"fBits\":50331648,\"fName\":\"zaxis\",\"fTitle\":\"\",\"fNdivisions\":510,\"fAxisColor\":1,\"fLabelColor\":1,\"fLabelFont\":42,\"fLabelOffset\":0.005,\"fLabelSize\":0.035,\"fTickLength\":0.03,\"fTitleOffset\":1,\"fTitleSize\":0.035,\"fTitleColor\":1,\"fTitleFont\":42,\"fNbins\":1,\"fXmin\":0,\"fXmax\":1,\"fXbins\":[],\"fFirst\":0,\"fLast\":0,\"fBits2\":0,\"fTimeDisplay\":false,\"fTimeFormat\":\"\",\"fLabels\":null,\"fModLabs\":null},\"fBarOffset\":0,\"fBarWidth\":1000,\"fEntries\":0,\"fTsumw\":0,\"fTsumw2\":0,\"fTsumwx\":0,\"fTsumwx2\":0,\"fMaximum\":183.283029404455,\"fMinimum\":0,\"fNormFactor\":0,\"fContour\":[],\"fSumw2\":[],\"fOption\":\"\",\"fFunctions\":{\"_typename\":\"TList\",\"name\":\"TList\",\"arr\":[],\"opt\":[]},\"fBufferSize\":0,\"fBuffer\":[],\"fBinStatErrOpt\":0,\"fStatOverflows\":2,\"fArray\":[0,0,0,0,0,0,0,0,0,0,0,0,0,0,0,0,0,0,0,0,0,0,0,0,0,0,0,0,0,0,0,0,0,0,0,0,0,0,0,0,0,0,0,0,0,0,0,0,0,0,0,0,0,0,0,0,0,0,0,0,0,0,0,0,0,0,0,0,0,0,0,0,0,0,0,0,0,0,0,0,0,0,0,0,0,0,0,0,0,0,0,0,0,0,0,0,0,0,0,0,0,0,0,0,0,0,0,0,0,0,0,0,0,0,0,0,0,0,0,0,0,0,0,0,0,0]},\"fMinimum\":-1111,\"fMaximum\":-1111,\"_yAxisLabel\":\"Projection of Mf\",\"_ymin\":0,\"_ymax\":166.620935822232,\"_normValue\":0},{\"_typename\":\"RooCurve\",\"fUniqueID\":0,\"fBits\":50332680,\"fName\":\"T_Norm[cpsi]\",\"fTitle\":\"Projection of 1+sin(2*@0)\",\"fLineColor\":632,\"fLineStyle\":1,\"fLineWidth\":3,\"fFillColor\":0,\"fFillStyle\":1000,\"fMarkerColor\":1,\"fMarkerStyle\":1,\"fMarkerSize\":1,\"fNpoints\":124,\"fX\":[-1.02,-1.02,-1,-0.9975,-0.995,-0.9925,-0.99,-0.985,-0.98,-0.975,-0.97,-0.96,-0.95,-0.94,-0.93,-0.92,-0.9,-0.88,-0.86,-0.84,-0.82,-0.8,-0.78,-0.76,-0.74,-0.72,-0.7,-0.68,-0.66,-0.64,-0.62,-0.6,-0.58,-0.56,-0.54,-0.52,-0.5,-0.48,-0.46,-0.44,-0.42,-0.4,-0.38,-0.36,-0.34,-0.32,-0.3,-0.28,-0.26,-0.24,-0.22,-0.2,-0.18,-0.16,-0.14,-0.12,-0.1,-0.08,-0.0599999999999999,-0.04,-0.02,0,0.02,0.04,0.0600000000000001,0.0800000000000001,0.1,0.12,0.14,0.16,0.18,0.2,0.22,0.24,0.26,0.28,0.3,0.32,0.34,0.36,0.38,0.4,0.42,0.44,0.46,0.48,0.5,0.52,0.54,0.56,0.58,0.6,0.62,0.64,0.66,0.68,0.7,0.72,0.74,0.76,0.78,0.8,0.82,0.84,0.86,0.88,0.9,0.92,0.93,0.94,0.95,0.96,0.97,0.975,0.98,0.985,0.99,0.9925,0.995,0.9975,1,1,1.02,1.02],\"fY\":[0,100,100,85.9020392099604,80.124890566339,75.7344405908806,72.0686627602616,66.0067951643273,60.9964924654205,56.6700522155865,52.8376463691643,46.2399999999999,40.6725190152152,35.8592048692878,31.6339294679005,27.8870219724633,21.5398190162679,16.4046317072531,12.2294263434493,8.84548502679641,6.13238258057256,4,2.37839583370902,1.21169299962672,0.454183412862597,0.0677349401105531,0.0200020004000989,0.283152877760928,0.832940953157235,1.64801171303144,2.70937558017217,4.00000000000001,5.50448899550835,7.20882800610826,9.10017821799648,11.1667089430995,13.3974596215561,15.7822251540686,18.311459800043,20.9761959913344,23.7679752335018,26.6787888807066,29.7010270345291,32.8274341713821,36.0510703764324,39.3652772744857,42.7636479149833,46.24,49.788351948975,53.4029013778755,57.0780056381347,60.8081641154691,64.5880020332091,68.4122555411121,72.2757579003501,76.1734265996975,80.1002512578676,84.0512821831973,88.0216194750709,92.0064025620501,96.000800080016,100,103.999199919984,107.99359743795,111.978380524929,115.948717816803,119.899748742132,123.826573400302,127.72424209965,131.587744458888,135.411997966791,139.191835884531,142.921994361865,146.597098622125,150.211648051025,153.76,157.236352085017,160.634722725514,163.948929623568,167.172565828618,170.298972965471,173.321211119293,176.232024766498,179.023804008666,181.688540199957,184.217774845931,186.602540378444,188.833291056901,190.899821782003,192.791171993892,194.495511004492,196,197.290624419828,198.351988286969,199.167059046843,199.716847122239,199.9799979996,199.932265059889,199.545816587137,198.788307000373,197.621604166291,196,193.867617419427,191.154514973204,187.770573656551,183.595368292747,178.460180983732,172.112978027537,168.3660705321,164.140795130712,159.327480984785,153.76,147.162353630836,143.329947784414,139.00350753458,133.993204835673,127.931337239738,124.265559409119,119.875109433661,114.09796079004,100.000008940697,100.000008940697,100.000008940697,0],\"fFunctions\":{\"_typename\":\"TList\",\"name\":\"TList\",\"arr\":[],\"opt\":[]},\"fHistogram\":{\"_typename\":\"TH1F\",\"fUniqueID\":0,\"fBits\":50332168,\"fName\":\"T_Norm[cpsi]\",\"fTitle\":\"Projection of 1+sin(2*@0)\",\"fLineColor\":602,\"fLineStyle\":1,\"fLineWidth\":1,\"fFillColor\":0,\"fFillStyle\":1001,\"fMarkerColor\":1,\"fMarkerStyle\":1,\"fMarkerSize\":1,\"fNcells\":126,\"fXaxis\":{\"_typename\":\"TAxis\",\"fUniqueID\":0,\"fBits\":50331648,\"fName\":\"xaxis\",\"fTitle\":\"\",\"fNdivisions\":510,\"fAxisColor\":1,\"fLabelColor\":1,\"fLabelFont\":42,\"fLabelOffset\":0.005,\"fLabelSize\":0.035,\"fTickLength\":0.03,\"fTitleOffset\":1,\"fTitleSize\":0.035,\"fTitleColor\":1,\"fTitleFont\":42,\"fNbins\":124,\"fXmin\":-1.224,\"fXmax\":1.224,\"fXbins\":[],\"fFirst\":0,\"fLast\":0,\"fBits2\":0,\"fTimeDisplay\":false,\"fTimeFormat\":\"\",\"fLabels\":null,\"fModLabs\":null},\"fYaxis\":{\"_typename\":\"TAxis\",\"fUniqueID\":0,\"fBits\":50331648,\"fName\":\"yaxis\",\"fTitle\":\"\",\"fNdivisions\":510,\"fAxisColor\":1,\"fLabelColor\":1,\"fLabelFont\":42,\"fLabelOffset\":0.005,\"fLabelSize\":0.035,\"fTickLength\":0.03,\"fTitleOffset\":0,\"fTitleSize\":0.035,\"fTitleColor\":1,\"fTitleFont\":42,\"fNbins\":1,\"fXmin\":0,\"fXmax\":219.97799779956,\"fXbins\":[],\"fFirst\":0,\"fLast\":0,\"fBits2\":0,\"fTimeDisplay\":false,\"fTimeFormat\":\"\",\"fLabels\":null,\"fModLabs\":null},\"fZaxis\":{\"_typename\":\"TAxis\",\"fUniqueID\":0,\"fBits\":50331648,\"fName\":\"zaxis\",\"fTitle\":\"\",\"fNdivisions\":510,\"fAxisColor\":1,\"fLabelColor\":1,\"fLabelFont\":42,\"fLabelOffset\":0.005,\"fLabelSize\":0.035,\"fTickLength\":0.03,\"fTitleOffset\":1,\"fTitleSize\":0.035,\"fTitleColor\":1,\"fTitleFont\":42,\"fNbins\":1,\"fXmin\":0,\"fXmax\":1,\"fXbins\":[],\"fFirst\":0,\"fLast\":0,\"fBits2\":0,\"fTimeDisplay\":false,\"fTimeFormat\":\"\",\"fLabels\":null,\"fModLabs\":null},\"fBarOffset\":0,\"fBarWidth\":1000,\"fEntries\":0,\"fTsumw\":0,\"fTsumw2\":0,\"fTsumwx\":0,\"fTsumwx2\":0,\"fMaximum\":219.97799779956,\"fMinimum\":0,\"fNormFactor\":0,\"fContour\":[],\"fSumw2\":[],\"fOption\":\"\",\"fFunctions\":{\"_typename\":\"TList\",\"name\":\"TList\",\"arr\":[],\"opt\":[]},\"fBufferSize\":0,\"fBuffer\":[],\"fBinStatErrOpt\":0,\"fStatOverflows\":2,\"fArray\":[0,0,0,0,0,0,0,0,0,0,0,0,0,0,0,0,0,0,0,0,0,0,0,0,0,0,0,0,0,0,0,0,0,0,0,0,0,0,0,0,0,0,0,0,0,0,0,0,0,0,0,0,0,0,0,0,0,0,0,0,0,0,0,0,0,0,0,0,0,0,0,0,0,0,0,0,0,0,0,0,0,0,0,0,0,0,0,0,0,0,0,0,0,0,0,0,0,0,0,0,0,0,0,0,0,0,0,0,0,0,0,0,0,0,0,0,0,0,0,0,0,0,0,0,0,0]},\"fMinimum\":-1111,\"fMaximum\":-1111,\"_yAxisLabel\":\"Projection of 1+sin(2*@0)\",\"_ymin\":0,\"_ymax\":199.9799979996,\"_normValue\":0},{\"$ref\":38},{\"_typename\":\"TPaveText\",\"fUniqueID\":0,\"fBits\":50331657,\"fLineColor\":1,\"fLineStyle\":1,\"fLineWidth\":1,\"fFillColor\":0,\"fFillStyle\":0,\"fX1\":-1.00000001291434,\"fY1\":231.347123441833,\"fX2\":0.866666667660077,\"fY2\":249.715222310876,\"fX1NDC\":0.15,\"fY1NDC\":0.929167220071608,\"fX2NDC\":0.85,\"fY2NDC\":0.995000004768372,\"fBorderSize\":0,\"fInit\":1,\"fShadowColor\":1,\"fCornerRadius\":0,\"fOption\":\"blNDC\",\"fName\":\"title\",\"fTextAngle\":0,\"fTextSize\":0,\"fTextAlign\":22,\"fTextColor\":1,\"fTextFont\":42,\"fLabel\":\"\",\"fLongest\":46,\"fMargin\":0.05,\"fLines\":{\"_typename\":\"TList\",\"name\":\"TList\",\"arr\":[{\"_typename\":\"TLatex\",\"fUniqueID\":0,\"fBits\":50331648,\"fName\":\"\",\"fTitle\":\"Same convolution in psi, expressed in cos(psi)\",\"fTextAngle\":0,\"fTextSize\":0,\"fTextAlign\":0,\"fTextColor\":0,\"fTextFont\":0,\"fX\":0,\"fY\":0,\"fLineColor\":1,\"fLineStyle\":1,\"fLineWidth\":2,\"fLimitFactorSize\":3,\"fOriginSize\":0.0559578686952591}],\"opt\":[\"\"]}}],\"opt\":[\"\",\"FUNC\",\"p\",\"l\",\"l\",\"AXISSAME\",\"blNDC\"]},\"fExecs\":{\"_typename\":\"TList\",\"name\":\"TList\",\"arr\":[],\"opt\":[]},\"fName\":\"rf210_angularconv_2\",\"fTitle\":\"rf210_angularconv_2\",\"fNumPaletteColor\":0,\"fNextPaletteColor\":0}],\"opt\":[\"\",\"\"]},\"fExecs\":null,\"fName\":\"rf210_angularconv\",\"fTitle\":\"rf210_angularconv\",\"fNumPaletteColor\":0,\"fNextPaletteColor\":0,\"fDISPLAY\":\"$DISPLAY\",\"fDoubleBuffer\":0,\"fRetained\":true,\"fXsizeUser\":0,\"fYsizeUser\":0,\"fXsizeReal\":20,\"fYsizeReal\":10,\"fWindowTopX\":0,\"fWindowTopY\":0,\"fWindowWidth\":0,\"fWindowHeight\":0,\"fCw\":796,\"fCh\":372,\"fCatt\":{\"_typename\":\"TAttCanvas\",\"fXBetween\":2,\"fYBetween\":2,\"fTitleFromTop\":1.2,\"fXdate\":0.2,\"fYdate\":0.3,\"fAdate\":1},\"kMoveOpaque\":true,\"kResizeOpaque\":true,\"fHighLightColor\":2,\"fBatch\":true,\"kShowEventStatus\":false,\"kAutoExec\":true,\"kMenuBar\":true});\n",
       "       Core.draw(\"root_plot_1\", obj, \"\");\n",
       "     }\n",
       " );\n",
       "</script>\n"
      ],
      "text/plain": [
       "<IPython.core.display.HTML object>"
      ]
     },
     "metadata": {},
     "output_type": "display_data"
    }
   ],
   "source": [
    "%jsroot on\n",
    "gROOT->GetListOfCanvases()->Draw()"
   ]
  }
 ],
 "metadata": {
  "kernelspec": {
   "display_name": "ROOT C++",
   "language": "c++",
   "name": "root"
  },
  "language_info": {
   "codemirror_mode": "text/x-c++src",
   "file_extension": ".C",
   "mimetype": " text/x-c++src",
   "name": "c++"
  }
 },
 "nbformat": 4,
 "nbformat_minor": 2
}
