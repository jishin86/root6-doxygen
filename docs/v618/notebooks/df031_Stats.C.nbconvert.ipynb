{
 "cells": [
  {
   "cell_type": "markdown",
   "metadata": {},
   "source": [
    "# Df 0 3 1_ Stats\n",
    "Extract the statistics relative to RDataFrame columns and store them\n",
    "in TStatistic instances.\n",
    "\n",
    "\n",
    "\n",
    "\n",
    "**Author:** Danilo Piparo  \n",
    "<i><small>This notebook tutorial was automatically generated with <a href= \"https://github.com/root-project/root/blob/master/documentation/doxygen/converttonotebook.py\">ROOTBOOK-izer</a> from the macro found in the ROOT repository  on Thursday, August 29, 2019 at 01:15 AM.</small></i>"
   ]
  },
  {
   "cell_type": "code",
   "execution_count": 1,
   "metadata": {
    "collapsed": false
   },
   "outputs": [
    {
     "name": "stdout",
     "output_type": "stream",
     "text": [
      " OBJ: TStatistic\t  = 127.5 +- 4.628 \t RMS = 74.045 \t N = 256\n",
      " OBJ: TStatistic\t  = 40.8 +- 12.86 \t RMS = 60.318 \t N = 256\n",
      " OBJ: TStatistic\t  = 127.5 +- 4.628 \t RMS = 74.045 \t N = 256\n",
      " OBJ: TStatistic\t  = 40.8 +- 12.86 \t RMS = 60.318 \t N = 256\n"
     ]
    }
   ],
   "source": [
    " // Create a data frame and add two columns: one for the values and one for the weight.\n",
    " ROOT::RDataFrame r(256);\n",
    " auto rr = r.Define(\"v\", [](ULong64_t e){return e;}, {\"rdfentry_\"})\n",
    "            .Define(\"w\", [](ULong64_t e){return 1./(e+1);}, {\"v\"});\n",
    " \n",
    " // Now extract the statistics, weighted, unweighted - with and without explicit types.\n",
    " auto stats_eu = rr.Stats<ULong64_t>(\"v\");\n",
    " auto stats_ew = rr.Stats<ULong64_t, double>(\"v\", \"w\");\n",
    " auto stats_iu = rr.Stats(\"v\");\n",
    " auto stats_iw = rr.Stats(\"v\", \"w\");\n",
    "\n",
    " // Now print them: they are all identical of course!\n",
    " stats_eu->Print();\n",
    " stats_ew->Print();\n",
    " stats_iu->Print();\n",
    " stats_iw->Print();"
   ]
  },
  {
   "cell_type": "markdown",
   "metadata": {},
   "source": [
    "Draw all canvases "
   ]
  },
  {
   "cell_type": "code",
   "execution_count": 2,
   "metadata": {
    "collapsed": false
   },
   "outputs": [],
   "source": [
    "gROOT->GetListOfCanvases()->Draw()"
   ]
  }
 ],
 "metadata": {
  "kernelspec": {
   "display_name": "ROOT C++",
   "language": "c++",
   "name": "root"
  },
  "language_info": {
   "codemirror_mode": "text/x-c++src",
   "file_extension": ".C",
   "mimetype": " text/x-c++src",
   "name": "c++"
  }
 },
 "nbformat": 4,
 "nbformat_minor": 2
}
