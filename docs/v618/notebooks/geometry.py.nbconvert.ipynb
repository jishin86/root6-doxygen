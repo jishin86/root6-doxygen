{
 "cells": [
  {
   "cell_type": "markdown",
   "metadata": {},
   "source": [
    "# Geometry\n",
    "Geometry\n",
    "\n",
    "\n",
    "\n",
    "\n",
    "**Author:** Wim Lavrijsen  \n",
    "<i><small>This notebook tutorial was automatically generated with <a href= \"https://github.com/root-project/root/blob/master/documentation/doxygen/converttonotebook.py\">ROOTBOOK-izer</a> from the macro found in the ROOT repository  on Thursday, August 29, 2019 at 02:28 AM.</small></i>"
   ]
  },
  {
   "cell_type": "code",
   "execution_count": 1,
   "metadata": {
    "collapsed": false
   },
   "outputs": [
    {
     "name": "stdout",
     "output_type": "stream",
     "text": [
      "Welcome to JupyROOT 6.18/03\n"
     ]
    }
   ],
   "source": [
    "import os\n",
    "import ROOT\n",
    "\n",
    "macrodir = os.path.join(str(ROOT.gROOT.GetTutorialDir()), 'pyroot')"
   ]
  },
  {
   "cell_type": "markdown",
   "metadata": {},
   "source": [
    "the na49.C file was generated, so no python conversion is provided"
   ]
  },
  {
   "cell_type": "code",
   "execution_count": 2,
   "metadata": {
    "collapsed": false
   },
   "outputs": [
    {
     "name": "stdout",
     "output_type": "stream",
     "text": [
      "na49      : Real Time =   0.01 seconds Cpu Time =   0.01 seconds\n",
      "geometry  : Real Time =   0.14 seconds Cpu Time =   0.06 seconds\n"
     ]
    }
   ],
   "source": [
    "ROOT.gROOT.Macro( ROOT.gSystem.UnixPathName( os.path.join( macrodir, os.pardir, 'geom', 'na49.C' ) ) )\n",
    "\n",
    "exec(open(os.path.join( macrodir, 'na49visible.py')).read())\n",
    "exec(open(os.path.join( macrodir, 'na49geomfile.py')).read())"
   ]
  }
 ],
 "metadata": {
  "kernelspec": {
   "display_name": "Python 2",
   "language": "python",
   "name": "python2"
  },
  "language_info": {
   "codemirror_mode": {
    "name": "ipython",
    "version": 2
   },
   "file_extension": ".py",
   "mimetype": "text/x-python",
   "name": "python",
   "nbconvert_exporter": "python",
   "pygments_lexer": "ipython2",
   "version": "2.7.10"
  }
 },
 "nbformat": 4,
 "nbformat_minor": 2
}
