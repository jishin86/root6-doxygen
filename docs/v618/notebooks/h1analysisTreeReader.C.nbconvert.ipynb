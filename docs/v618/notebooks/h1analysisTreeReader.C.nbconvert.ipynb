{
 "cells": [
  {
   "cell_type": "markdown",
   "metadata": {},
   "source": [
    "# H 1Analysis Tree Reader\n",
    "H1 analysis example expressed in terms of TTreeReader\n",
    "\n",
    "\n",
    "\n",
    "\n",
    "**Author:** Anders Eie, 2013  \n",
    "<i><small>This notebook tutorial was automatically generated with <a href= \"https://github.com/root-project/root/blob/master/documentation/doxygen/converttonotebook.py\">ROOTBOOK-izer</a> from the macro found in the ROOT repository  on Thursday, August 29, 2019 at 03:54 AM.</small></i>"
   ]
  },
  {
   "cell_type": "code",
   "execution_count": 1,
   "metadata": {
    "collapsed": false
   },
   "outputs": [
    {
     "name": "stderr",
     "output_type": "stream",
     "text": [
      "input_line_26:1:10: fatal error: 'h1analysisTreeReader.h' file not found\n",
      "#include \"h1analysisTreeReader.h\"\n",
      "         ^~~~~~~~~~~~~~~~~~~~~~~~\n"
     ]
    }
   ],
   "source": [
    "%%cpp -d\n",
    "#include \"h1analysisTreeReader.h\"\n",
    "#include \"TStyle.h\"\n",
    "#include \"TCanvas.h\"\n",
    "#include \"TPaveStats.h\"\n",
    "#include \"TLine.h\"\n",
    "#include \"TMath.h\"\n",
    "#include \"TFile.h\"\n",
    "#include \"TROOT.h\"\n",
    "\n",
    "\n",
    "const Double_t dxbin = (0.17-0.13)/40;   // Bin-width\n",
    "const Double_t sigma = 0.0012;"
   ]
  },
  {
   "cell_type": "markdown",
   "metadata": {},
   "source": [
    " _____________________________________________________________________\n",
    " "
   ]
  },
  {
   "cell_type": "code",
   "execution_count": 2,
   "metadata": {
    "collapsed": false
   },
   "outputs": [
    {
     "name": "stderr",
     "output_type": "stream",
     "text": [
      "input_line_27:6:19: error: use of undeclared identifier 'dxbin'\n",
      "   Double_t res = dxbin*(par[0]*TMath::Power(x-0.13957, par[1])\n",
      "                  ^\n"
     ]
    }
   ],
   "source": [
    "%%cpp -d\n",
    "Double_t fdm5(Double_t *xx, Double_t *par)\n",
    "{\n",
    "   Double_t x = xx[0];\n",
    "   if (x <= 0.13957) return 0;\n",
    "   Double_t xp3 = (x-par[3])*(x-par[3]);\n",
    "   Double_t res = dxbin*(par[0]*TMath::Power(x-0.13957, par[1])\n",
    "       + par[2] / 2.5066/par[4]*TMath::Exp(-xp3/2/par[4]/par[4]));\n",
    "   return res;\n",
    "}"
   ]
  },
  {
   "cell_type": "markdown",
   "metadata": {},
   "source": [
    " _____________________________________________________________________\n",
    " "
   ]
  },
  {
   "cell_type": "code",
   "execution_count": 3,
   "metadata": {
    "collapsed": false
   },
   "outputs": [
    {
     "name": "stderr",
     "output_type": "stream",
     "text": [
      "input_line_28:6:19: error: use of undeclared identifier 'dxbin'\n",
      "   Double_t res = dxbin*(par[0]*TMath::Power(x-0.13957, 0.25)\n",
      "                  ^\n",
      "input_line_28:7:26: error: use of undeclared identifier 'sigma'\n",
      "       + par[1] / 2.5066/sigma*TMath::Exp(-xp3/2/sigma/sigma));\n",
      "                         ^\n",
      "input_line_28:7:50: error: use of undeclared identifier 'sigma'\n",
      "       + par[1] / 2.5066/sigma*TMath::Exp(-xp3/2/sigma/sigma));\n",
      "                                                 ^\n",
      "input_line_28:7:56: error: use of undeclared identifier 'sigma'\n",
      "       + par[1] / 2.5066/sigma*TMath::Exp(-xp3/2/sigma/sigma));\n",
      "                                                       ^\n"
     ]
    }
   ],
   "source": [
    "%%cpp -d\n",
    "Double_t fdm2(Double_t *xx, Double_t *par)\n",
    "{\n",
    "   Double_t x = xx[0];\n",
    "   if (x <= 0.13957) return 0;\n",
    "   Double_t xp3 = (x-0.1454)*(x-0.1454);\n",
    "   Double_t res = dxbin*(par[0]*TMath::Power(x-0.13957, 0.25)\n",
    "       + par[1] / 2.5066/sigma*TMath::Exp(-xp3/2/sigma/sigma));\n",
    "   return res;\n",
    "}"
   ]
  },
  {
   "cell_type": "markdown",
   "metadata": {},
   "source": [
    " _____________________________________________________________________\n",
    " "
   ]
  },
  {
   "cell_type": "code",
   "execution_count": 4,
   "metadata": {
    "collapsed": false
   },
   "outputs": [
    {
     "name": "stderr",
     "output_type": "stream",
     "text": [
      "input_line_29:1:8: error: use of undeclared identifier 'h1analysisTreeReader'\n",
      "Bool_t h1analysisTreeReader::Process(Long64_t entry){\n",
      "       ^\n"
     ]
    }
   ],
   "source": [
    "%%cpp -d\n",
    "Bool_t h1analysisTreeReader::Process(Long64_t entry){\n",
    "// entry is the entry number in the current Tree\n",
    "// Selection function to select D* and D0.\n",
    "   myTreeReader.SetLocalEntry(entry);\n",
    "   fProcessed++;\n",
    "   //in case one entry list is given in input, the selection has already been done.\n",
    "   if (!useList) {\n",
    "      // Return as soon as a bad entry is detected\n",
    "      if (TMath::Abs(*fMd0_d-1.8646) >= 0.04) return kFALSE;\n",
    "      if (*fPtds_d <= 2.5) return kFALSE;\n",
    "      if (TMath::Abs(*fEtads_d) >= 1.5) return kFALSE;\n",
    "      (*fIk)--; //original fIk used f77 convention starting at 1\n",
    "      (*fIpi)--;\n",
    "\n",
    "\n",
    "      if (fNhitrp.At(*fIk)* fNhitrp.At(*fIpi) <= 1) return kFALSE;\n",
    "\n",
    "\n",
    "      if (fRend.At(*fIk) -fRstart.At(*fIk)  <= 22) return kFALSE;\n",
    "      if (fRend.At(*fIpi)-fRstart.At(*fIpi) <= 22) return kFALSE;\n",
    "      if (fNlhk.At(*fIk) <= 0.1)    return kFALSE;\n",
    "      if (fNlhpi.At(*fIpi) <= 0.1)  return kFALSE;\n",
    "      (*fIpis)--; if (fNlhpi.At(*fIpis) <= 0.1) return kFALSE;\n",
    "      if (*fNjets < 1)          return kFALSE;\n",
    "   }\n",
    "   // if option fillList, fill the entry list\n",
    "   if (fillList) elist->Enter(entry);\n",
    "\n",
    "   //fill some histograms\n",
    "   hdmd->Fill(*fDm_d);\n",
    "   h2->Fill(*fDm_d,*fRpd0_t/0.029979*1.8646/ *fPtd0_d);\n",
    "\n",
    "   return kTRUE;\n",
    "}"
   ]
  },
  {
   "cell_type": "markdown",
   "metadata": {},
   "source": [
    " A helper function is created: "
   ]
  },
  {
   "cell_type": "code",
   "execution_count": 5,
   "metadata": {
    "collapsed": false
   },
   "outputs": [
    {
     "name": "stderr",
     "output_type": "stream",
     "text": [
      "input_line_30:1:6: error: use of undeclared identifier 'h1analysisTreeReader'\n",
      "void h1analysisTreeReader::Begin(TTree* /*myTree*/) {\n",
      "     ^\n"
     ]
    }
   ],
   "source": [
    "%%cpp -d\n",
    "void h1analysisTreeReader::Begin(TTree* /*myTree*/) {\n",
    "// function called before starting the event loop\n",
    "//  -it performs some cleanup\n",
    "//  -it creates histograms\n",
    "//  -it sets some initialisation for the entry list\n",
    "\n",
    "   Reset();\n",
    "\n",
    "   //print the option specified in the Process function.\n",
    "   TString option = GetOption();\n",
    "   Info(\"Begin\", \"starting h1analysis with process option: %s\", option.Data());\n",
    "\n",
    "   delete gDirectory->GetList()->FindObject(\"elist\");\n",
    "\n",
    "   // case when one creates/fills the entry list\n",
    "   if (option.Contains(\"fillList\")) {\n",
    "      fillList = kTRUE;\n",
    "      elist = new TEntryList(\"elist\", \"H1 selection from Cut\");\n",
    "      // Add to the input list for processing in PROOF, if needed\n",
    "      if (fInput) {\n",
    "         fInput->Add(new TNamed(\"fillList\",\"\"));\n",
    "         // We send a clone to avoid double deletes when importing the result\n",
    "         fInput->Add(elist);\n",
    "         // This is needed to avoid warnings from output-to-members mapping\n",
    "         elist = 0;\n",
    "      }\n",
    "      Info(\"Begin\", \"creating an entry-list\");\n",
    "   }\n",
    "   // case when one uses the entry list generated in a previous call\n",
    "   if (option.Contains(\"useList\")) {\n",
    "      useList  = kTRUE;\n",
    "      if (fInput) {\n",
    "         // In PROOF option \"useList\" is processed in SlaveBegin and we do not need\n",
    "         // to do anything here\n",
    "      } else {\n",
    "         TFile f(\"elist.root\");\n",
    "         elist = (TEntryList*)f.Get(\"elist\");\n",
    "         if (elist) elist->SetDirectory(0); //otherwise the file destructor will delete elist\n",
    "      }\n",
    "   }\n",
    "}"
   ]
  },
  {
   "cell_type": "markdown",
   "metadata": {},
   "source": [
    " A helper function is created: "
   ]
  },
  {
   "cell_type": "code",
   "execution_count": 6,
   "metadata": {
    "collapsed": false
   },
   "outputs": [
    {
     "name": "stderr",
     "output_type": "stream",
     "text": [
      "input_line_31:1:6: error: use of undeclared identifier 'h1analysisTreeReader'\n",
      "void h1analysisTreeReader::SlaveBegin(TTree *myTree){\n",
      "     ^\n"
     ]
    }
   ],
   "source": [
    "%%cpp -d\n",
    "void h1analysisTreeReader::SlaveBegin(TTree *myTree){\n",
    "\n",
    "// function called before starting the event loop\n",
    "//  -it performs some cleanup\n",
    "//  -it creates histograms\n",
    "//  -it sets some initialisation for the entry list\n",
    "\n",
    "   Init(myTree);\n",
    "\n",
    "   //print the option specified in the Process function.\n",
    "   TString option = GetOption();\n",
    "   Info(\"SlaveBegin\",\n",
    "        \"starting h1analysis with process option: %s (tree: %p)\", option.Data(), myTree);\n",
    "\n",
    "   //create histograms\n",
    "   hdmd = new TH1F(\"hdmd\",\"Dm_d\",40,0.13,0.17);\n",
    "   h2   = new TH2F(\"h2\",\"ptD0 vs Dm_d\",30,0.135,0.165,30,-3,6);\n",
    "\n",
    "   fOutput->Add(hdmd);\n",
    "   fOutput->Add(h2);\n",
    "\n",
    "   // Entry list stuff (re-parse option because on PROOF only SlaveBegin is called)\n",
    "   if (option.Contains(\"fillList\")) {\n",
    "      fillList = kTRUE;\n",
    "      // Get the list\n",
    "      if (fInput) {\n",
    "         if ((elist = (TEntryList *) fInput->FindObject(\"elist\")))\n",
    "            // Need to clone to avoid problems when destroying the selector\n",
    "            elist = (TEntryList *) elist->Clone();\n",
    "         if (elist)\n",
    "            fOutput->Add(elist);\n",
    "         else\n",
    "            fillList = kFALSE;\n",
    "      }\n",
    "   }\n",
    "   if (fillList) Info(\"SlaveBegin\", \"creating an entry-list\");\n",
    "   if (option.Contains(\"useList\")) useList  = kTRUE;\n",
    "}"
   ]
  },
  {
   "cell_type": "markdown",
   "metadata": {},
   "source": [
    " A helper function is created: "
   ]
  },
  {
   "cell_type": "code",
   "execution_count": 7,
   "metadata": {
    "collapsed": false
   },
   "outputs": [
    {
     "name": "stderr",
     "output_type": "stream",
     "text": [
      "input_line_32:1:6: error: use of undeclared identifier 'h1analysisTreeReader'\n",
      "void h1analysisTreeReader::Terminate() {\n",
      "     ^\n"
     ]
    }
   ],
   "source": [
    "%%cpp -d\n",
    "void h1analysisTreeReader::Terminate() {\n",
    "   // function called at the end of the event loop\n",
    "\n",
    "   hdmd = dynamic_cast<TH1F*>(fOutput->FindObject(\"hdmd\"));\n",
    "   h2 = dynamic_cast<TH2F*>(fOutput->FindObject(\"h2\"));\n",
    "\n",
    "   if (hdmd == 0 || h2 == 0) {\n",
    "      Error(\"Terminate\", \"hdmd = %p , h2 = %p\", hdmd, h2);\n",
    "      return;\n",
    "   }\n",
    "\n",
    "   //create the canvas for the h1analysis fit\n",
    "   gStyle->SetOptFit();\n",
    "   TCanvas *c1 = new TCanvas(\"c1\",\"h1analysis analysis\",10,10,800,600);\n",
    "   c1->SetBottomMargin(0.15);\n",
    "   hdmd->GetXaxis()->SetTitle(\"m_{K#pi#pi} - m_{K#pi}[GeV/c^{2}]\");\n",
    "   hdmd->GetXaxis()->SetTitleOffset(1.4);\n",
    "\n",
    "   //fit histogram hdmd with function f5 using the loglfIkelihood option\n",
    "   if (gROOT->GetListOfFunctions()->FindObject(\"f5\"))\n",
    "      delete gROOT->GetFunction(\"f5\");\n",
    "   TF1 *f5 = new TF1(\"f5\",fdm5,0.139,0.17,5);\n",
    "   f5->SetParameters(1000000, .25, 2000, .1454, .001);\n",
    "   hdmd->Fit(\"f5\",\"lr\");\n",
    "\n",
    "   //create the canvas for tau d0\n",
    "   gStyle->SetOptFit(0);\n",
    "   gStyle->SetOptStat(1100);\n",
    "   TCanvas *c2 = new TCanvas(\"c2\",\"tauD0\",100,100,800,600);\n",
    "   c2->SetGrid();\n",
    "   c2->SetBottomMargin(0.15);\n",
    "\n",
    "   // Project slices of 2-d histogram h2 along X , then fit each slice\n",
    "   // with function f2 and make a histogram for each fit parameter\n",
    "   // Note that the generated histograms are added to the list of objects\n",
    "   // in the current directory.\n",
    "   if (gROOT->GetListOfFunctions()->FindObject(\"f2\"))\n",
    "      delete gROOT->GetFunction(\"f2\");\n",
    "   TF1 *f2 = new TF1(\"f2\",fdm2,0.139,0.17,2);\n",
    "   f2->SetParameters(10000, 10);\n",
    "   h2->FitSlicesX(f2,0,-1,1,\"qln\");\n",
    "   TH1D *h2_1 = (TH1D*)gDirectory->Get(\"h2_1\");\n",
    "   h2_1->GetXaxis()->SetTitle(\"#tau[ps]\");\n",
    "   h2_1->SetMarkerStyle(21);\n",
    "   h2_1->Draw();\n",
    "   c2->Update();\n",
    "   TLine *line = new TLine(0,0,0,c2->GetUymax());\n",
    "   line->Draw();\n",
    "\n",
    "   // Have the number of entries on the first histogram (to cross check when running\n",
    "   // with entry lists)\n",
    "   TPaveStats *psdmd = (TPaveStats *)hdmd->GetListOfFunctions()->FindObject(\"stats\");\n",
    "   psdmd->SetOptStat(1110);\n",
    "   c1->Modified();\n",
    "\n",
    "   //save the entry list to a Root file if one was produced\n",
    "   if (fillList) {\n",
    "      if (!elist)\n",
    "         elist = dynamic_cast<TEntryList*>(fOutput->FindObject(\"elist\"));\n",
    "      if (elist) {\n",
    "         Printf(\"Entry list 'elist' created:\");\n",
    "         elist->Print();\n",
    "         TFile efile(\"elist.root\",\"recreate\");\n",
    "         elist->Write();\n",
    "      } else {\n",
    "         Error(\"Terminate\", \"entry list requested but not found in output\");\n",
    "      }\n",
    "   }\n",
    "   // Notify the amount of processed events\n",
    "   if (!fInput) Info(\"Terminate\", \"processed %lld events\", fProcessed);\n",
    "}"
   ]
  },
  {
   "cell_type": "markdown",
   "metadata": {},
   "source": [
    " A helper function is created: "
   ]
  },
  {
   "cell_type": "code",
   "execution_count": 8,
   "metadata": {
    "collapsed": false
   },
   "outputs": [
    {
     "name": "stderr",
     "output_type": "stream",
     "text": [
      "input_line_33:1:6: error: use of undeclared identifier 'h1analysisTreeReader'\n",
      "void h1analysisTreeReader::SlaveTerminate(){\n",
      "     ^\n"
     ]
    }
   ],
   "source": [
    "%%cpp -d\n",
    "void h1analysisTreeReader::SlaveTerminate(){\n",
    "\n",
    "}"
   ]
  },
  {
   "cell_type": "markdown",
   "metadata": {},
   "source": [
    " A helper function is created: "
   ]
  },
  {
   "cell_type": "code",
   "execution_count": 9,
   "metadata": {
    "collapsed": false
   },
   "outputs": [
    {
     "name": "stderr",
     "output_type": "stream",
     "text": [
      "input_line_34:1:8: error: use of undeclared identifier 'h1analysisTreeReader'\n",
      "Bool_t h1analysisTreeReader::Notify() {\n",
      "       ^\n"
     ]
    }
   ],
   "source": [
    "%%cpp -d\n",
    "Bool_t h1analysisTreeReader::Notify() {\n",
    "//   called when loading a new file\n",
    "//   get branch pointers\n",
    "\n",
    "   Info(\"Notify\",\"processing file: %s\",myTreeReader.GetTree()->GetCurrentFile()->GetName());\n",
    "\n",
    "   if (elist && myTreeReader.GetTree()) {\n",
    "      if (fillList) {\n",
    "         elist->SetTree(myTreeReader.GetTree());\n",
    "      } else if (useList) {\n",
    "         myTreeReader.GetTree()->SetEntryList(elist);\n",
    "      }\n",
    "   }\n",
    "   return kTRUE;\n",
    "}"
   ]
  },
  {
   "cell_type": "markdown",
   "metadata": {},
   "source": [
    "Draw all canvases "
   ]
  },
  {
   "cell_type": "code",
   "execution_count": 10,
   "metadata": {
    "collapsed": false
   },
   "outputs": [],
   "source": [
    "gROOT->GetListOfCanvases()->Draw()"
   ]
  }
 ],
 "metadata": {
  "kernelspec": {
   "display_name": "ROOT C++",
   "language": "c++",
   "name": "root"
  },
  "language_info": {
   "codemirror_mode": "text/x-c++src",
   "file_extension": ".C",
   "mimetype": " text/x-c++src",
   "name": "c++"
  }
 },
 "nbformat": 4,
 "nbformat_minor": 2
}
