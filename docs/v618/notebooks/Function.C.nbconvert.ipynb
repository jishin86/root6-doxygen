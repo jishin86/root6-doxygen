{
 "cells": [
  {
   "cell_type": "markdown",
   "metadata": {},
   "source": [
    "#  Function\n",
    "\n",
    "\n",
    "\n",
    "\n",
    "**Author:**   \n",
    "<i><small>This notebook tutorial was automatically generated with <a href= \"https://github.com/root-project/root/blob/master/documentation/doxygen/converttonotebook.py\">ROOTBOOK-izer</a> from the macro found in the ROOT repository  on Thursday, August 29, 2019 at 02:33 AM.</small></i>"
   ]
  },
  {
   "cell_type": "code",
   "execution_count": null,
   "metadata": {
    "collapsed": false
   },
   "outputs": [],
   "source": [
    "using namespace ROOT::R;"
   ]
  },
  {
   "cell_type": "code",
   "execution_count": null,
   "metadata": {
    "collapsed": false
   },
   "outputs": [],
   "source": [
    "auto &r = ROOT::R::TRInterface::Instance();\n",
    "r.SetVerbose(1);"
   ]
  },
  {
   "cell_type": "markdown",
   "metadata": {},
   "source": [
    "Defining functions to be used from r"
   ]
  },
  {
   "cell_type": "code",
   "execution_count": null,
   "metadata": {
    "collapsed": false
   },
   "outputs": [],
   "source": [
    "TRFunctionImport c(\"c\");\n",
    "TRFunctionImport rlist(\"list\");\n",
    "TRFunctionImport asformula(\"as.formula\");\n",
    "TRFunctionImport nls(\"nls\");\n",
    "TRFunctionImport confint(\"confint\");\n",
    "TRFunctionImport summary(\"summary\");\n",
    "TRFunctionImport print(\"print\");\n",
    "TRFunctionImport plot(\"plot\");\n",
    "TRFunctionImport lines(\"lines\");\n",
    "TRFunctionImport devnew(\"dev.new\");\n",
    "TRFunctionImport devoff(\"dev.off\");\n",
    "TRFunctionImport devcur(\"dev.cur\");\n",
    "TRFunctionImport rmin(\"min\");\n",
    "TRFunctionImport rmax(\"max\");\n",
    "TRFunctionImport seq(\"seq\");\n",
    "TRFunctionImport predict(\"predict\");\n",
    "\n",
    "r<<\"options(device='pdf')\";"
   ]
  },
  {
   "cell_type": "markdown",
   "metadata": {},
   "source": [
    "Doing the procedure"
   ]
  },
  {
   "cell_type": "code",
   "execution_count": null,
   "metadata": {
    "collapsed": false
   },
   "outputs": [],
   "source": [
    "TRObject xdata = c(-2,-1.64,-1.33,-0.7,0,0.45,1.2,1.64,2.32,2.9);\n",
    "TRObject ydata = c(0.699369,0.700462,0.695354,1.03905,1.97389,2.41143,1.91091,0.919576,-0.730975,-1.42001);\n",
    "\n",
    "TRDataFrame data;\n",
    "data[\"xdata\"]=xdata;\n",
    "data[\"ydata\"]=ydata;"
   ]
  },
  {
   "cell_type": "markdown",
   "metadata": {},
   "source": [
    "Fit = nls(ydata ~ p1*cos(p2*xdata) + p2*sin(p1*xdata), start=list(p1=1,p2=0.2))"
   ]
  },
  {
   "cell_type": "code",
   "execution_count": null,
   "metadata": {
    "collapsed": false
   },
   "outputs": [],
   "source": [
    "TRObject fit = nls(asformula(\"ydata ~ p1*cos(p2*xdata) + p2*sin(p1*xdata)\"),Label[\"data\"]=data, Label[\"start\"]=rlist(Label[\"p1\"]=1,Label[\"p2\"]=0.2));\n",
    "print(summary(fit));\n",
    "\n",
    "print(confint(fit));\n",
    "\n",
    "if (!gROOT->IsBatch()) {\n",
    "   devnew(\"Fitting Regression\");\n",
    "   plot(xdata,ydata);\n",
    "\n",
    "   TRObject xgrid=seq(rmin(xdata),rmax(xdata),Label[\"len\"]=10);\n",
    "   lines(xgrid,predict(fit,xgrid),Label[\"col\"] = \"green\");\n",
    "   devoff(Label[\"which\"] = devcur() );\n",
    "}"
   ]
  }
 ],
 "metadata": {
  "kernelspec": {
   "display_name": "ROOT C++",
   "language": "c++",
   "name": "root"
  },
  "language_info": {
   "codemirror_mode": "text/x-c++src",
   "file_extension": ".C",
   "mimetype": " text/x-c++src",
   "name": "c++"
  }
 },
 "nbformat": 4,
 "nbformat_minor": 2
}
