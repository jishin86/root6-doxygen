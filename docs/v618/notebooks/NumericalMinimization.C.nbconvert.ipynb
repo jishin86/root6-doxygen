{
 "cells": [
  {
   "cell_type": "markdown",
   "metadata": {},
   "source": [
    "#  Numerical Minimization\n",
    "Example on how to use the new Minimizer class in ROOT\n",
    " Show usage with all the possible minimizers.\n",
    "Minimize the Rosenbrock function (a 2D -function)\n",
    "This example is described also in\n",
    "http://root.cern.ch/drupal/content/numerical-minimization#multidim_minim\n",
    "input : minimizer name + algorithm name\n",
    "randomSeed: = <0 : fixed value: 0 random with seed 0; >0 random with given seed\n",
    "\n",
    "\n",
    "\n",
    "\n",
    "**Author:** Lorenzo Moneta  \n",
    "<i><small>This notebook tutorial was automatically generated with <a href= \"https://github.com/root-project/root/blob/master/documentation/doxygen/converttonotebook.py\">ROOTBOOK-izer</a> from the macro found in the ROOT repository  on Thursday, August 29, 2019 at 01:33 AM.</small></i>"
   ]
  },
  {
   "cell_type": "code",
   "execution_count": 1,
   "metadata": {
    "collapsed": false
   },
   "outputs": [],
   "source": [
    "%%cpp -d\n",
    "#include \"Math/Minimizer.h\"\n",
    "#include \"Math/Factory.h\"\n",
    "#include \"Math/Functor.h\"\n",
    "#include \"TRandom2.h\"\n",
    "#include \"TError.h\"\n",
    "#include <iostream>"
   ]
  },
  {
   "cell_type": "markdown",
   "metadata": {},
   "source": [
    " A helper function is created: "
   ]
  },
  {
   "cell_type": "code",
   "execution_count": 2,
   "metadata": {
    "collapsed": false
   },
   "outputs": [],
   "source": [
    "%%cpp -d\n",
    "double RosenBrock(const double *xx )\n",
    "{\n",
    "  const Double_t x = xx[0];\n",
    "  const Double_t y = xx[1];\n",
    "  const Double_t tmp1 = y-x*x;\n",
    "  const Double_t tmp2 = 1-x;\n",
    "  return 100*tmp1*tmp1+tmp2*tmp2;\n",
    "}"
   ]
  },
  {
   "cell_type": "markdown",
   "metadata": {},
   "source": [
    " Arguments are defined. "
   ]
  },
  {
   "cell_type": "code",
   "execution_count": 3,
   "metadata": {
    "collapsed": false
   },
   "outputs": [],
   "source": [
    "const char * minName = \"Minuit2\";\n",
    "const char *algoName = \"\";\n",
    "int randomSeed = -1;"
   ]
  },
  {
   "cell_type": "markdown",
   "metadata": {},
   "source": [
    "Create minimizer giving a name and a name (optionally) for the specific\n",
    " algorithm\n",
    " possible choices are:\n",
    "     minName                  algoName\n",
    " Minuit /Minuit2             Migrad, Simplex,Combined,Scan  (default is Migrad)\n",
    "  Minuit2                     Fumili2\n",
    "  Fumili\n",
    "  GSLMultiMin                ConjugateFR, ConjugatePR, BFGS,\n",
    "                              BFGS2, SteepestDescent\n",
    "  GSLMultiFit\n",
    "   GSLSimAn\n",
    "   Genetic"
   ]
  },
  {
   "cell_type": "code",
   "execution_count": 4,
   "metadata": {
    "collapsed": false
   },
   "outputs": [],
   "source": [
    "ROOT::Math::Minimizer* minimum =\n",
    "   ROOT::Math::Factory::CreateMinimizer(minName, algoName);"
   ]
  },
  {
   "cell_type": "markdown",
   "metadata": {},
   "source": [
    "Set tolerance , etc..."
   ]
  },
  {
   "cell_type": "code",
   "execution_count": 5,
   "metadata": {
    "collapsed": false
   },
   "outputs": [],
   "source": [
    "minimum->SetMaxFunctionCalls(1000000); // for Minuit/Minuit2\n",
    "minimum->SetMaxIterations(10000);  // for GSL\n",
    "minimum->SetTolerance(0.001);\n",
    "minimum->SetPrintLevel(1);"
   ]
  },
  {
   "cell_type": "markdown",
   "metadata": {},
   "source": [
    "Create function wrapper for minimizer\n",
    " a IMultiGenFunction type"
   ]
  },
  {
   "cell_type": "code",
   "execution_count": 6,
   "metadata": {
    "collapsed": false
   },
   "outputs": [],
   "source": [
    "ROOT::Math::Functor f(&RosenBrock,2);\n",
    "double step[2] = {0.01,0.01};"
   ]
  },
  {
   "cell_type": "markdown",
   "metadata": {},
   "source": [
    "Starting point"
   ]
  },
  {
   "cell_type": "code",
   "execution_count": 7,
   "metadata": {
    "collapsed": false
   },
   "outputs": [],
   "source": [
    "double variable[2] = { -1.,1.2};\n",
    "if (randomSeed >= 0) {\n",
    "   TRandom2 r(randomSeed);\n",
    "   variable[0] = r.Uniform(-20,20);\n",
    "   variable[1] = r.Uniform(-20,20);\n",
    "}\n",
    "\n",
    "minimum->SetFunction(f);"
   ]
  },
  {
   "cell_type": "markdown",
   "metadata": {},
   "source": [
    "Set the free variables to be minimized !"
   ]
  },
  {
   "cell_type": "code",
   "execution_count": 8,
   "metadata": {
    "collapsed": false
   },
   "outputs": [],
   "source": [
    "minimum->SetVariable(0,\"x\",variable[0], step[0]);\n",
    "minimum->SetVariable(1,\"y\",variable[1], step[1]);"
   ]
  },
  {
   "cell_type": "markdown",
   "metadata": {},
   "source": [
    "Do the minimization"
   ]
  },
  {
   "cell_type": "code",
   "execution_count": 9,
   "metadata": {
    "collapsed": false
   },
   "outputs": [
    {
     "name": "stdout",
     "output_type": "stream",
     "text": [
      "Minuit2Minimizer: Minimize with max-calls 1000000 convergence for edm < 0.001 strategy 1\n",
      "Minuit2Minimizer : Valid minimum - status = 0\n",
      "FVAL  = 1.84172281656905818e-08\n",
      "Edm   = 1.8496132831401442e-08\n",
      "Nfcn  = 174\n",
      "x\t  = 0.999903\t +/-  1.00396\n",
      "y\t  = 0.999796\t +/-  2.01024\n",
      "Minimum: f(0.999903,0.999796): 1.84172e-08\n"
     ]
    }
   ],
   "source": [
    "minimum->Minimize();\n",
    "\n",
    "const double *xs = minimum->X();\n",
    "std::cout << \"Minimum: f(\" << xs[0] << \",\" << xs[1] << \"): \"\n",
    "          << minimum->MinValue()  << std::endl;"
   ]
  },
  {
   "cell_type": "markdown",
   "metadata": {},
   "source": [
    "Expected minimum is 0"
   ]
  },
  {
   "cell_type": "code",
   "execution_count": 10,
   "metadata": {
    "collapsed": false
   },
   "outputs": [
    {
     "name": "stdout",
     "output_type": "stream",
     "text": [
      "Minimizer Minuit2 -    converged to the right minimum\n"
     ]
    }
   ],
   "source": [
    "if ( minimum->MinValue()  < 1.E-4  && f(xs) < 1.E-4)\n",
    "   std::cout << \"Minimizer \" << minName << \" - \" << algoName\n",
    "             << \"   converged to the right minimum\" << std::endl;\n",
    "else {\n",
    "   std::cout << \"Minimizer \" << minName << \" - \" << algoName\n",
    "             << \"   failed to converge !!!\" << std::endl;\n",
    "   Error(\"NumericalMinimization\",\"fail to converge\");\n",
    "}\n",
    "\n",
    "return 0;"
   ]
  }
 ],
 "metadata": {
  "kernelspec": {
   "display_name": "ROOT C++",
   "language": "c++",
   "name": "root"
  },
  "language_info": {
   "codemirror_mode": "text/x-c++src",
   "file_extension": ".C",
   "mimetype": " text/x-c++src",
   "name": "c++"
  }
 },
 "nbformat": 4,
 "nbformat_minor": 2
}
