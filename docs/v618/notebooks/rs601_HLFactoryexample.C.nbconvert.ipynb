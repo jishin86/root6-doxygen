{
 "cells": [
  {
   "cell_type": "markdown",
   "metadata": {},
   "source": [
    "# Rs 6 0 1_ H L Factoryexample\n",
    "High Level Factory: creation of a simple model\n",
    "\n",
    "\n",
    "\n",
    "\n",
    "**Author:** Danilo Piparo  \n",
    "<i><small>This notebook tutorial was automatically generated with <a href= \"https://github.com/root-project/root/blob/master/documentation/doxygen/converttonotebook.py\">ROOTBOOK-izer</a> from the macro found in the ROOT repository  on Thursday, August 29, 2019 at 03:22 AM.</small></i>"
   ]
  },
  {
   "cell_type": "code",
   "execution_count": 1,
   "metadata": {
    "collapsed": false
   },
   "outputs": [],
   "source": [
    "%%cpp -d\n",
    "#include <fstream>\n",
    "#include \"TString.h\"\n",
    "#include \"TROOT.h\"\n",
    "#include \"RooGlobalFunc.h\"\n",
    "#include \"RooWorkspace.h\"\n",
    "#include \"RooRealVar.h\"\n",
    "#include \"RooAbsPdf.h\"\n",
    "#include \"RooDataSet.h\"\n",
    "#include \"RooPlot.h\"\n",
    "#include \"RooStats/HLFactory.h\""
   ]
  },
  {
   "cell_type": "markdown",
   "metadata": {},
   "source": [
    "Use this order for safety on library loading"
   ]
  },
  {
   "cell_type": "code",
   "execution_count": 2,
   "metadata": {
    "collapsed": false
   },
   "outputs": [],
   "source": [
    "%%cpp -d\n",
    "// This is a workaround to make sure the namespace is used inside functions\n",
    "using namespace RooFit;\n",
    "using namespace RooStats;"
   ]
  },
  {
   "cell_type": "code",
   "execution_count": 3,
   "metadata": {
    "collapsed": false
   },
   "outputs": [],
   "source": [
    "using namespace std;"
   ]
  },
  {
   "cell_type": "markdown",
   "metadata": {},
   "source": [
    "--- build the datacard and dump to file---"
   ]
  },
  {
   "cell_type": "code",
   "execution_count": 4,
   "metadata": {
    "collapsed": false
   },
   "outputs": [
    {
     "name": "stdout",
     "output_type": "stream",
     "text": [
      "\n",
      "\u001b[1mRooFit v3.60 -- Developed by Wouter Verkerke and David Kirkby\u001b[0m \n",
      "                Copyright (C) 2000-2013 NIKHEF, University of California & Stanford University\n",
      "                All rights reserved, please read http://roofit.sourceforge.net/license.txt\n",
      "\n",
      "[#1] INFO:ObjectHandling -- RooWorkspace::exportToCint(HLFavtoryexample_ws) INFO: references to all objects in this workspace will be created in CINT in 'namespace HLFavtoryexample_ws'\n"
     ]
    }
   ],
   "source": [
    "TString card_name(\"HLFavtoryexample.rs\");\n",
    "ofstream ofile(card_name);\n",
    "ofile << \"// The simplest card\\n\\n\"\n",
    "      << \"gauss = Gaussian(mes[5.20,5.30],mean[5.28,5.2,5.3],width[0.0027,0.001,1]);\\n\"\n",
    "      << \"argus = ArgusBG(mes,5.291,argpar[-20,-100,-1]);\\n\"\n",
    "      << \"sum = SUM(nsig[200,0,10000]*gauss,nbkg[800,0,10000]*argus);\\n\\n\";\n",
    "\n",
    "ofile.close();\n",
    "\n",
    "HLFactory hlf(\"HLFavtoryexample\", card_name, false);"
   ]
  },
  {
   "cell_type": "markdown",
   "metadata": {},
   "source": [
    "--- take elements out of the internal workspace ---"
   ]
  },
  {
   "cell_type": "code",
   "execution_count": 5,
   "metadata": {
    "collapsed": false
   },
   "outputs": [],
   "source": [
    "auto w = hlf.GetWs();\n",
    "\n",
    "auto mes = dynamic_cast<RooRealVar *>(w->arg(\"mes\"));\n",
    "auto sum = dynamic_cast<RooAbsPdf *>(w->pdf(\"sum\"));\n",
    "auto argus = dynamic_cast<RooAbsPdf *>(w->pdf(\"argus\"));"
   ]
  },
  {
   "cell_type": "markdown",
   "metadata": {},
   "source": [
    "--- generate a toymc sample from composite pdf ---"
   ]
  },
  {
   "cell_type": "code",
   "execution_count": 6,
   "metadata": {
    "collapsed": false
   },
   "outputs": [],
   "source": [
    "auto data = sum->generate(*mes, 2000);"
   ]
  },
  {
   "cell_type": "markdown",
   "metadata": {},
   "source": [
    "--- perform extended ml fit of composite pdf to toy data ---"
   ]
  },
  {
   "cell_type": "code",
   "execution_count": 7,
   "metadata": {
    "collapsed": false
   },
   "outputs": [
    {
     "name": "stdout",
     "output_type": "stream",
     "text": [
      "[#1] INFO:Minization -- p.d.f. provides expected number of events, including extended term in likelihood.\n",
      "[#1] INFO:Minization -- createNLL: caching constraint set under name CONSTR_OF_PDF_sum_FOR_OBS_mes with 0 entries\n",
      "[#1] INFO:Minization -- RooMinimizer::optimizeConst: activating const optimization\n",
      "[#1] INFO:Minization --  The following expressions will be evaluated in cache-and-track mode: (gauss,argus)\n",
      " **********\n",
      " **    1 **SET PRINT           1\n",
      " **********\n",
      " **********\n",
      " **    2 **SET NOGRAD\n",
      " **********\n",
      " PARAMETER DEFINITIONS:\n",
      "    NO.   NAME         VALUE      STEP SIZE      LIMITS\n",
      "     1 argpar      -2.00000e+01  9.50000e+00   -1.00000e+02 -1.00000e+00\n",
      "     2 mean         5.28000e+00  1.00000e-02    5.20000e+00  5.30000e+00\n",
      "     3 nbkg         8.00000e+02  4.00000e+02    0.00000e+00  1.00000e+04\n",
      "     4 nsig         2.00000e+02  1.00000e+02    0.00000e+00  1.00000e+04\n",
      "     5 width        2.70000e-03  8.50000e-04    1.00000e-03  1.00000e+00\n",
      " **********\n",
      " **    3 **SET ERR         0.5\n",
      " **********\n",
      " **********\n",
      " **    4 **SET PRINT           1\n",
      " **********\n",
      " **********\n",
      " **    5 **SET STR           1\n",
      " **********\n",
      " NOW USING STRATEGY  1: TRY TO BALANCE SPEED AGAINST RELIABILITY\n",
      " **********\n",
      " **    6 **MIGRAD        2500           1\n",
      " **********\n",
      " FIRST CALL TO USER FUNCTION AT NEW START POINT, WITH IFLAG=4.\n",
      " START MIGRAD MINIMIZATION.  STRATEGY  1.  CONVERGENCE WHEN EDM .LT. 1.00e-03\n",
      " FCN=-17788.8 FROM MIGRAD    STATUS=INITIATE       20 CALLS          21 TOTAL\n",
      "                     EDM= unknown      STRATEGY= 1      NO ERROR MATRIX       \n",
      "  EXT PARAMETER               CURRENT GUESS       STEP         FIRST   \n",
      "  NO.   NAME      VALUE            ERROR          SIZE      DERIVATIVE \n",
      "   1  argpar      -2.00000e+01   9.50000e+00   2.51381e-01   1.48295e+01\n",
      "   2  mean         5.28000e+00   1.00000e-02   2.57889e-01   1.26241e+02\n",
      "   3  nbkg         8.00000e+02   4.00000e+02   1.52384e-01  -2.75719e+03\n",
      "   4  nsig         2.00000e+02   1.00000e+02   7.39156e-02  -1.30866e+03\n",
      "   5  width        2.70000e-03   8.50000e-04   2.13708e-02  -5.96944e+02\n",
      "                               ERR DEF= 0.5\n",
      " MIGRAD MINIMIZATION HAS CONVERGED.\n",
      " MIGRAD WILL VERIFY CONVERGENCE AND ERROR MATRIX.\n",
      " COVARIANCE MATRIX CALCULATED SUCCESSFULLY\n",
      " FCN=-18178.2 FROM MIGRAD    STATUS=CONVERGED     127 CALLS         128 TOTAL\n",
      "                     EDM=8.23524e-07    STRATEGY= 1      ERROR MATRIX ACCURATE \n",
      "  EXT PARAMETER                                   STEP         FIRST   \n",
      "  NO.   NAME      VALUE            ERROR          SIZE      DERIVATIVE \n",
      "   1  argpar      -2.28748e+01   3.42311e+00   6.81552e-03  -1.05902e-04\n",
      "   2  mean         5.27987e+00   2.15784e-04   4.99568e-04   1.14694e-01\n",
      "   3  nbkg         1.61271e+03   4.46744e+01   1.05575e-03  -2.82924e-02\n",
      "   4  nsig         3.87281e+02   2.77659e+01   1.13759e-03   3.18941e-02\n",
      "   5  width        3.01017e-03   1.99068e-04   3.69588e-04   2.63544e-02\n",
      "                               ERR DEF= 0.5\n",
      " EXTERNAL ERROR MATRIX.    NDIM=  25    NPAR=  5    ERR DEF=0.5\n",
      "  1.174e+01 -9.561e-06 -4.054e+01  4.054e+01  2.300e-04 \n",
      " -9.561e-06  4.656e-08  3.241e-04 -3.248e-04 -2.699e-09 \n",
      " -4.054e+01  3.241e-04  1.996e+03 -3.831e+02 -2.181e-03 \n",
      "  4.054e+01 -3.248e-04 -3.831e+02  7.710e+02  2.184e-03 \n",
      "  2.300e-04 -2.699e-09 -2.181e-03  2.184e-03  3.963e-08 \n",
      " PARAMETER  CORRELATION COEFFICIENTS  \n",
      "       NO.  GLOBAL      1      2      3      4      5\n",
      "        1  0.47848   1.000 -0.013 -0.265  0.426  0.337\n",
      "        2  0.07490  -0.013  1.000  0.034 -0.054 -0.063\n",
      "        3  0.35856  -0.265  0.034  1.000 -0.309 -0.245\n",
      "        4  0.52842   0.426 -0.054 -0.309  1.000  0.395\n",
      "        5  0.45058   0.337 -0.063 -0.245  0.395  1.000\n",
      " **********\n",
      " **    7 **SET ERR         0.5\n",
      " **********\n",
      " **********\n",
      " **    8 **SET PRINT           1\n",
      " **********\n",
      " **********\n",
      " **    9 **HESSE        2500\n",
      " **********\n",
      " COVARIANCE MATRIX CALCULATED SUCCESSFULLY\n",
      " FCN=-18178.2 FROM HESSE     STATUS=OK             31 CALLS         159 TOTAL\n",
      "                     EDM=8.27129e-07    STRATEGY= 1      ERROR MATRIX ACCURATE \n",
      "  EXT PARAMETER                                INTERNAL      INTERNAL  \n",
      "  NO.   NAME      VALUE            ERROR       STEP SIZE       VALUE   \n",
      "   1  argpar      -2.28748e+01   3.42862e+00   2.72621e-04   5.92076e-01\n",
      "   2  mean         5.27987e+00   2.15791e-04   9.99136e-05   6.40145e-01\n",
      "   3  nbkg         1.61271e+03   4.47114e+01   4.22301e-05  -7.44300e-01\n",
      "   4  nsig         3.87281e+02   2.78173e+01   2.27518e-04  -1.17462e+00\n",
      "   5  width        3.01017e-03   1.99415e-04   1.47835e-05  -1.48105e+00\n",
      "                               ERR DEF= 0.5\n",
      " EXTERNAL ERROR MATRIX.    NDIM=  25    NPAR=  5    ERR DEF=0.5\n",
      "  1.178e+01 -9.115e-06 -4.092e+01  4.092e+01  2.327e-04 \n",
      " -9.115e-06  4.657e-08  3.206e-04 -3.207e-04 -2.752e-09 \n",
      " -4.092e+01  3.206e-04  1.999e+03 -3.865e+02 -2.207e-03 \n",
      "  4.092e+01 -3.207e-04 -3.865e+02  7.739e+02  2.207e-03 \n",
      "  2.327e-04 -2.752e-09 -2.207e-03  2.207e-03  3.977e-08 \n",
      " PARAMETER  CORRELATION COEFFICIENTS  \n",
      "       NO.  GLOBAL      1      2      3      4      5\n",
      "        1  0.48108   1.000 -0.012 -0.267  0.429  0.340\n",
      "        2  0.07539  -0.012  1.000  0.033 -0.053 -0.064\n",
      "        3  0.36057  -0.267  0.033  1.000 -0.311 -0.248\n",
      "        4  0.53093   0.429 -0.053 -0.311  1.000  0.398\n",
      "        5  0.45364   0.340 -0.064 -0.248  0.398  1.000\n",
      "[#1] INFO:Minization -- RooMinimizer::optimizeConst: deactivating const optimization\n"
     ]
    }
   ],
   "source": [
    "sum->fitTo(*data);"
   ]
  },
  {
   "cell_type": "markdown",
   "metadata": {},
   "source": [
    "--- plot toy data and composite pdf overlaid ---"
   ]
  },
  {
   "cell_type": "code",
   "execution_count": 8,
   "metadata": {
    "collapsed": false
   },
   "outputs": [
    {
     "name": "stdout",
     "output_type": "stream",
     "text": [
      "[#1] INFO:Plotting -- RooAbsPdf::plotOn(sum) directly selected PDF components: (argus)\n",
      "[#1] INFO:Plotting -- RooAbsPdf::plotOn(sum) indirectly selected PDF components: ()\n"
     ]
    },
    {
     "name": "stderr",
     "output_type": "stream",
     "text": [
      "Info in <TCanvas::MakeDefCanvas>:  created default TCanvas with name c1\n"
     ]
    }
   ],
   "source": [
    "auto mesframe = mes->frame();\n",
    "data->plotOn(mesframe);\n",
    "sum->plotOn(mesframe);\n",
    "sum->plotOn(mesframe, Components(*argus), LineStyle(kDashed));\n",
    "\n",
    "gROOT->SetStyle(\"Plain\");\n",
    "mesframe->Draw();"
   ]
  },
  {
   "cell_type": "markdown",
   "metadata": {},
   "source": [
    "Draw all canvases "
   ]
  },
  {
   "cell_type": "code",
   "execution_count": 9,
   "metadata": {
    "collapsed": false
   },
   "outputs": [
    {
     "data": {
      "text/html": [
       "\n",
       "<div id=\"root_plot_1\"\n",
       "     style=\"width: 696px; height: 472px\">\n",
       "</div>\n",
       "\n",
       "<script>\n",
       " requirejs.config({\n",
       "     paths: {\n",
       "       'JSRootCore' : 'https://root.cern.ch/js/notebook//scripts/JSRootCore',\n",
       "     }\n",
       "   });\n",
       " require(['JSRootCore'],\n",
       "     function(Core) {\n",
       "       var obj = Core.JSONR_unref({\"_typename\":\"TCanvas\",\"fUniqueID\":0,\"fBits\":53673992,\"fLineColor\":1,\"fLineStyle\":1,\"fLineWidth\":1,\"fFillColor\":0,\"fFillStyle\":1001,\"fLeftMargin\":0.1,\"fRightMargin\":0.1,\"fBottomMargin\":0.1,\"fTopMargin\":0.1,\"fXfile\":2,\"fYfile\":2,\"fAfile\":1,\"fXstat\":0.99,\"fYstat\":0.99,\"fAstat\":2,\"fFrameFillColor\":0,\"fFrameLineColor\":1,\"fFrameFillStyle\":1001,\"fFrameLineStyle\":1,\"fFrameLineWidth\":1,\"fFrameBorderSize\":1,\"fFrameBorderMode\":0,\"fX1\":5.18749999906868,\"fY1\":-10.1438748533395,\"fX2\":5.31250000093132,\"fY2\":91.2948676338348,\"fXtoAbsPixelk\":-28883.9995144093,\"fXtoPixelk\":-28883.9995144093,\"fXtoPixel\":5567.99991703034,\"fYtoAbsPixelk\":424.800047186661,\"fYtoPixelk\":424.800047186661,\"fYtoPixel\":-4.6530545275606,\"fUtoAbsPixelk\":5e-5,\"fUtoPixelk\":5e-5,\"fUtoPixel\":696,\"fVtoAbsPixelk\":472.00005,\"fVtoPixelk\":472,\"fVtoPixel\":-472,\"fAbsPixeltoXk\":5.18749999906868,\"fPixeltoXk\":5.18749999906868,\"fPixeltoX\":1.7959770382564e-4,\"fAbsPixeltoYk\":91.2948676338348,\"fPixeltoYk\":-10.1438748533395,\"fPixeltoY\":-0.2149125900152,\"fXlowNDC\":0,\"fYlowNDC\":0,\"fXUpNDC\":0,\"fYUpNDC\":0,\"fWNDC\":1,\"fHNDC\":1,\"fAbsXlowNDC\":0,\"fAbsYlowNDC\":0,\"fAbsWNDC\":1,\"fAbsHNDC\":1,\"fUxmin\":5.2,\"fUymin\":0,\"fUxmax\":5.3,\"fUymax\":81.1509927804953,\"fTheta\":30,\"fPhi\":30,\"fAspectRatio\":0,\"fNumber\":0,\"fTickx\":0,\"fTicky\":0,\"fLogx\":0,\"fLogy\":0,\"fLogz\":0,\"fPadPaint\":0,\"fCrosshair\":0,\"fCrosshairPos\":0,\"fBorderSize\":2,\"fBorderMode\":0,\"fModified\":false,\"fGridx\":false,\"fGridy\":false,\"fAbsCoord\":false,\"fEditable\":true,\"fFixedAspectRatio\":false,\"fPrimitives\":{\"_typename\":\"TList\",\"name\":\"TList\",\"arr\":[{\"_typename\":\"TFrame\",\"fUniqueID\":0,\"fBits\":50331656,\"fLineColor\":1,\"fLineStyle\":1,\"fLineWidth\":1,\"fFillColor\":0,\"fFillStyle\":1001,\"fX1\":5.2,\"fY1\":0,\"fX2\":5.3,\"fY2\":81.1509927804953,\"fBorderSize\":1,\"fBorderMode\":0},{\"_typename\":\"TH1D\",\"fUniqueID\":0,\"fBits\":50332168,\"fName\":\"frame_7f6b38435220\",\"fTitle\":\"A RooPlot of \\\"mes\\\"\",\"fLineColor\":602,\"fLineStyle\":1,\"fLineWidth\":1,\"fFillColor\":0,\"fFillStyle\":1001,\"fMarkerColor\":1,\"fMarkerStyle\":1,\"fMarkerSize\":1,\"fNcells\":102,\"fXaxis\":{\"_typename\":\"TAxis\",\"fUniqueID\":0,\"fBits\":50331648,\"fName\":\"xaxis\",\"fTitle\":\"mes\",\"fNdivisions\":510,\"fAxisColor\":1,\"fLabelColor\":1,\"fLabelFont\":42,\"fLabelOffset\":0.005,\"fLabelSize\":0.035,\"fTickLength\":0.03,\"fTitleOffset\":1,\"fTitleSize\":0.035,\"fTitleColor\":1,\"fTitleFont\":42,\"fNbins\":100,\"fXmin\":5.2,\"fXmax\":5.3,\"fXbins\":[],\"fFirst\":0,\"fLast\":0,\"fBits2\":0,\"fTimeDisplay\":false,\"fTimeFormat\":\"\",\"fLabels\":null,\"fModLabs\":null},\"fYaxis\":{\"_typename\":\"TAxis\",\"fUniqueID\":0,\"fBits\":50331648,\"fName\":\"yaxis\",\"fTitle\":\"Events \\/ ( 0.001 )\",\"fNdivisions\":510,\"fAxisColor\":1,\"fLabelColor\":1,\"fLabelFont\":42,\"fLabelOffset\":0.005,\"fLabelSize\":0.035,\"fTickLength\":0.03,\"fTitleOffset\":0,\"fTitleSize\":0.035,\"fTitleColor\":1,\"fTitleFont\":42,\"fNbins\":1,\"fXmin\":0,\"fXmax\":1,\"fXbins\":[],\"fFirst\":0,\"fLast\":0,\"fBits2\":0,\"fTimeDisplay\":false,\"fTimeFormat\":\"\",\"fLabels\":null,\"fModLabs\":null},\"fZaxis\":{\"_typename\":\"TAxis\",\"fUniqueID\":0,\"fBits\":50331648,\"fName\":\"zaxis\",\"fTitle\":\"\",\"fNdivisions\":510,\"fAxisColor\":1,\"fLabelColor\":1,\"fLabelFont\":42,\"fLabelOffset\":0.005,\"fLabelSize\":0.035,\"fTickLength\":0.03,\"fTitleOffset\":1,\"fTitleSize\":0.035,\"fTitleColor\":1,\"fTitleFont\":42,\"fNbins\":1,\"fXmin\":0,\"fXmax\":1,\"fXbins\":[],\"fFirst\":0,\"fLast\":0,\"fBits2\":0,\"fTimeDisplay\":false,\"fTimeFormat\":\"\",\"fLabels\":null,\"fModLabs\":null},\"fBarOffset\":0,\"fBarWidth\":1000,\"fEntries\":1,\"fTsumw\":0,\"fTsumw2\":0,\"fTsumwx\":0,\"fTsumwx2\":0,\"fMaximum\":81.1509927804953,\"fMinimum\":-1111,\"fNormFactor\":0,\"fContour\":[],\"fSumw2\":[],\"fOption\":\"\",\"fFunctions\":{\"_typename\":\"TList\",\"name\":\"TList\",\"arr\":[],\"opt\":[]},\"fBufferSize\":0,\"fBuffer\":[],\"fBinStatErrOpt\":0,\"fStatOverflows\":2,\"fArray\":[0,81.1509927804953,0,0,0,0,0,0,0,0,0,0,0,0,0,0,0,0,0,0,0,0,0,0,0,0,0,0,0,0,0,0,0,0,0,0,0,0,0,0,0,0,0,0,0,0,0,0,0,0,0,0,0,0,0,0,0,0,0,0,0,0,0,0,0,0,0,0,0,0,0,0,0,0,0,0,0,0,0,0,0,0,0,0,0,0,0,0,0,0,0,0,0,0,0,0,0,0,0,0,0,0]},{\"_typename\":\"RooHist\",\"fUniqueID\":0,\"fBits\":50332680,\"fName\":\"h_sumData\",\"fTitle\":\"Histogram of sumData_plot__mes\",\"fLineColor\":1,\"fLineStyle\":1,\"fLineWidth\":1,\"fFillColor\":0,\"fFillStyle\":1000,\"fMarkerColor\":1,\"fMarkerStyle\":8,\"fMarkerSize\":1,\"fNpoints\":100,\"fX\":[5.2005,5.2015,5.2025,5.2035,5.2045,5.2055,5.2065,5.2075,5.2085,5.2095,5.2105,5.2115,5.2125,5.2135,5.2145,5.2155,5.2165,5.2175,5.2185,5.2195,5.2205,5.2215,5.2225,5.2235,5.2245,5.2255,5.2265,5.2275,5.2285,5.2295,5.2305,5.2315,5.2325,5.2335,5.2345,5.2355,5.2365,5.2375,5.2385,5.2395,5.2405,5.2415,5.2425,5.2435,5.2445,5.2455,5.2465,5.2475,5.2485,5.2495,5.2505,5.2515,5.2525,5.2535,5.2545,5.2555,5.2565,5.2575,5.2585,5.2595,5.2605,5.2615,5.2625,5.2635,5.2645,5.2655,5.2665,5.2675,5.2685,5.2695,5.2705,5.2715,5.2725,5.2735,5.2745,5.2755,5.2765,5.2775,5.2785,5.2795,5.2805,5.2815,5.2825,5.2835,5.2845,5.2855,5.2865,5.2875,5.2885,5.2895,5.2905,5.2915,5.2925,5.2935,5.2945,5.2955,5.2965,5.2975,5.2985,5.2995],\"fY\":[27,16,16,25,20,20,20,26,20,24,19,17,14,17,15,20,12,19,19,17,21,25,11,21,27,16,16,30,21,16,18,17,22,27,23,18,15,16,14,20,12,26,20,26,24,20,19,19,24,16,16,24,23,16,22,24,24,12,21,13,21,18,22,9,16,16,23,24,15,20,14,22,17,19,23,32,48,49,68,68,58,53,44,33,34,16,15,11,8,4,2,0,0,0,0,0,0,0,0,0],\"fFunctions\":{\"_typename\":\"TList\",\"name\":\"TList\",\"arr\":[],\"opt\":[]},\"fHistogram\":{\"_typename\":\"TH1F\",\"fUniqueID\":0,\"fBits\":50332168,\"fName\":\"h_sumData\",\"fTitle\":\"Histogram of sumData_plot__mes\",\"fLineColor\":1,\"fLineStyle\":1,\"fLineWidth\":1,\"fFillColor\":0,\"fFillStyle\":1001,\"fMarkerColor\":1,\"fMarkerStyle\":1,\"fMarkerSize\":1,\"fNcells\":102,\"fXaxis\":{\"_typename\":\"TAxis\",\"fUniqueID\":0,\"fBits\":50331648,\"fName\":\"xaxis\",\"fTitle\":\"\",\"fNdivisions\":510,\"fAxisColor\":1,\"fLabelColor\":1,\"fLabelFont\":62,\"fLabelOffset\":0.005,\"fLabelSize\":0.04,\"fTickLength\":0.03,\"fTitleOffset\":1,\"fTitleSize\":0.04,\"fTitleColor\":1,\"fTitleFont\":62,\"fNbins\":100,\"fXmin\":5.19,\"fXmax\":5.31,\"fXbins\":[],\"fFirst\":0,\"fLast\":0,\"fBits2\":0,\"fTimeDisplay\":false,\"fTimeFormat\":\"\",\"fLabels\":null,\"fModLabs\":null},\"fYaxis\":{\"_typename\":\"TAxis\",\"fUniqueID\":0,\"fBits\":50331648,\"fName\":\"yaxis\",\"fTitle\":\"\",\"fNdivisions\":510,\"fAxisColor\":1,\"fLabelColor\":1,\"fLabelFont\":62,\"fLabelOffset\":0.005,\"fLabelSize\":0.04,\"fTickLength\":0.03,\"fTitleOffset\":1,\"fTitleSize\":0.04,\"fTitleColor\":1,\"fTitleFont\":62,\"fNbins\":1,\"fXmin\":0,\"fXmax\":85.0153257700427,\"fXbins\":[],\"fFirst\":0,\"fLast\":0,\"fBits2\":0,\"fTimeDisplay\":false,\"fTimeFormat\":\"\",\"fLabels\":null,\"fModLabs\":null},\"fZaxis\":{\"_typename\":\"TAxis\",\"fUniqueID\":0,\"fBits\":50331648,\"fName\":\"zaxis\",\"fTitle\":\"\",\"fNdivisions\":510,\"fAxisColor\":1,\"fLabelColor\":1,\"fLabelFont\":62,\"fLabelOffset\":0.005,\"fLabelSize\":0.04,\"fTickLength\":0.03,\"fTitleOffset\":1,\"fTitleSize\":0.04,\"fTitleColor\":1,\"fTitleFont\":62,\"fNbins\":1,\"fXmin\":0,\"fXmax\":1,\"fXbins\":[],\"fFirst\":0,\"fLast\":0,\"fBits2\":0,\"fTimeDisplay\":false,\"fTimeFormat\":\"\",\"fLabels\":null,\"fModLabs\":null},\"fBarOffset\":0,\"fBarWidth\":1000,\"fEntries\":0,\"fTsumw\":0,\"fTsumw2\":0,\"fTsumwx\":0,\"fTsumwx2\":0,\"fMaximum\":85.0153257700427,\"fMinimum\":0,\"fNormFactor\":0,\"fContour\":[],\"fSumw2\":[],\"fOption\":\"\",\"fFunctions\":{\"_typename\":\"TList\",\"name\":\"TList\",\"arr\":[],\"opt\":[]},\"fBufferSize\":0,\"fBuffer\":[],\"fBinStatErrOpt\":0,\"fStatOverflows\":2,\"fArray\":[0,0,0,0,0,0,0,0,0,0,0,0,0,0,0,0,0,0,0,0,0,0,0,0,0,0,0,0,0,0,0,0,0,0,0,0,0,0,0,0,0,0,0,0,0,0,0,0,0,0,0,0,0,0,0,0,0,0,0,0,0,0,0,0,0,0,0,0,0,0,0,0,0,0,0,0,0,0,0,0,0,0,0,0,0,0,0,0,0,0,0,0,0,0,0,0,0,0,0,0,0,0]},\"fMinimum\":-1111,\"fMaximum\":-1111,\"fEXlow\":[4.99999999999998e-4,4.99999999999998e-4,4.99999999999998e-4,4.99999999999998e-4,4.99999999999998e-4,4.99999999999998e-4,4.99999999999998e-4,4.99999999999998e-4,4.99999999999998e-4,4.99999999999998e-4,4.99999999999998e-4,4.99999999999998e-4,4.99999999999998e-4,4.99999999999998e-4,4.99999999999998e-4,4.99999999999998e-4,4.99999999999998e-4,4.99999999999998e-4,4.99999999999998e-4,4.99999999999998e-4,4.99999999999998e-4,4.99999999999998e-4,4.99999999999998e-4,4.99999999999998e-4,4.99999999999998e-4,4.99999999999998e-4,4.99999999999998e-4,4.99999999999998e-4,4.99999999999998e-4,4.99999999999998e-4,4.99999999999998e-4,4.99999999999998e-4,4.99999999999998e-4,4.99999999999998e-4,4.99999999999998e-4,4.99999999999998e-4,4.99999999999998e-4,4.99999999999998e-4,4.99999999999998e-4,4.99999999999998e-4,4.99999999999998e-4,4.99999999999998e-4,4.99999999999998e-4,4.99999999999998e-4,4.99999999999998e-4,4.99999999999998e-4,4.99999999999998e-4,4.99999999999998e-4,4.99999999999998e-4,4.99999999999998e-4,4.99999999999998e-4,4.99999999999998e-4,4.99999999999998e-4,4.99999999999998e-4,4.99999999999998e-4,4.99999999999998e-4,4.99999999999998e-4,4.99999999999998e-4,4.99999999999998e-4,4.99999999999998e-4,4.99999999999998e-4,4.99999999999998e-4,4.99999999999998e-4,4.99999999999998e-4,4.99999999999998e-4,4.99999999999998e-4,4.99999999999998e-4,4.99999999999998e-4,4.99999999999998e-4,4.99999999999998e-4,4.99999999999998e-4,4.99999999999998e-4,4.99999999999998e-4,4.99999999999998e-4,4.99999999999998e-4,4.99999999999998e-4,4.99999999999998e-4,4.99999999999998e-4,4.99999999999998e-4,4.99999999999998e-4,4.99999999999998e-4,4.99999999999998e-4,4.99999999999998e-4,4.99999999999998e-4,4.99999999999998e-4,4.99999999999998e-4,4.99999999999998e-4,4.99999999999998e-4,4.99999999999998e-4,4.99999999999998e-4,4.99999999999998e-4,4.99999999999998e-4,4.99999999999998e-4,4.99999999999998e-4,4.99999999999998e-4,4.99999999999998e-4,4.99999999999998e-4,4.99999999999998e-4,4.99999999999998e-4,4.99999999999998e-4],\"fEXhigh\":[4.99999999999998e-4,4.99999999999998e-4,4.99999999999998e-4,4.99999999999998e-4,4.99999999999998e-4,4.99999999999998e-4,4.99999999999998e-4,4.99999999999998e-4,4.99999999999998e-4,4.99999999999998e-4,4.99999999999998e-4,4.99999999999998e-4,4.99999999999998e-4,4.99999999999998e-4,4.99999999999998e-4,4.99999999999998e-4,4.99999999999998e-4,4.99999999999998e-4,4.99999999999998e-4,4.99999999999998e-4,4.99999999999998e-4,4.99999999999998e-4,4.99999999999998e-4,4.99999999999998e-4,4.99999999999998e-4,4.99999999999998e-4,4.99999999999998e-4,4.99999999999998e-4,4.99999999999998e-4,4.99999999999998e-4,4.99999999999998e-4,4.99999999999998e-4,4.99999999999998e-4,4.99999999999998e-4,4.99999999999998e-4,4.99999999999998e-4,4.99999999999998e-4,4.99999999999998e-4,4.99999999999998e-4,4.99999999999998e-4,4.99999999999998e-4,4.99999999999998e-4,4.99999999999998e-4,4.99999999999998e-4,4.99999999999998e-4,4.99999999999998e-4,4.99999999999998e-4,4.99999999999998e-4,4.99999999999998e-4,4.99999999999998e-4,4.99999999999998e-4,4.99999999999998e-4,4.99999999999998e-4,4.99999999999998e-4,4.99999999999998e-4,4.99999999999998e-4,4.99999999999998e-4,4.99999999999998e-4,4.99999999999998e-4,4.99999999999998e-4,4.99999999999998e-4,4.99999999999998e-4,4.99999999999998e-4,4.99999999999998e-4,4.99999999999998e-4,4.99999999999998e-4,4.99999999999998e-4,4.99999999999998e-4,4.99999999999998e-4,4.99999999999998e-4,4.99999999999998e-4,4.99999999999998e-4,4.99999999999998e-4,4.99999999999998e-4,4.99999999999998e-4,4.99999999999998e-4,4.99999999999998e-4,4.99999999999998e-4,4.99999999999998e-4,4.99999999999998e-4,4.99999999999998e-4,4.99999999999998e-4,4.99999999999998e-4,4.99999999999998e-4,4.99999999999998e-4,4.99999999999998e-4,4.99999999999998e-4,4.99999999999998e-4,4.99999999999998e-4,4.99999999999998e-4,4.99999999999998e-4,4.99999999999998e-4,4.99999999999998e-4,4.99999999999998e-4,4.99999999999998e-4,4.99999999999998e-4,4.99999999999998e-4,4.99999999999998e-4,4.99999999999998e-4,4.99999999999998e-4],\"fEYlow\":[5.16377123855587,3.95780102940381,3.95780102940381,4.96633466721007,4.43444798221412,4.43444798221412,4.43444798221412,5.06601492135562,4.43444798221412,4.86461220384528,4.32021937465496,4.08218389934171,3.69650031882412,4.08218389934171,3.82938009857506,4.43444798221412,3.41526599430015,4.32021937465496,4.32021937465496,4.08218389934171,4.54580699932335,4.96633466721007,3.26557940095131,4.54580699932335,5.16377123855587,3.95780102940381,3.95780102940381,5.44652245543606,4.54580699932335,3.95780102940381,4.20288721196007,4.08218389934171,4.65450239544497,5.16377123855587,4.76071662107231,4.20288721196007,3.82938009857506,3.95780102940381,3.69650031882412,4.43444798221412,3.41526599430015,5.06601492135562,4.43444798221412,5.06601492135562,4.86461220384528,4.43444798221412,4.32021937465496,4.32021937465496,4.86461220384528,3.95780102940381,3.95780102940381,4.86461220384528,4.76071662107231,3.95780102940381,4.65450239544497,4.86461220384528,4.86461220384528,3.41526599430015,4.54580699932335,3.5586623304375,4.54580699932335,4.20288721196007,4.65450239544497,2.94346103725076,3.95780102940381,3.95780102940381,4.76071662107231,4.86461220384528,3.82938009857506,4.43444798221412,3.69650031882412,4.65450239544497,4.08218389934171,4.32021937465496,4.76071662107231,5.62713531718605,6.90397923687425,6.97602630329686,8.22588308091542,8.22588308091542,7.59375090101779,7.2570651471718,6.6079399977078,5.71530168178358,5.80212840935486,3.95780102940381,3.82938009857506,3.26557940095131,2.76838605646272,1.91433918622288,1.29181456018103,0,0,0,0,0,0,0,0,0],\"fEYhigh\":[6.2602438465527,5.08306556401624,5.08306556401624,6.06658917312032,5.54651922951146,5.54651922951146,5.54651922951146,6.16432406860527,5.54651922951146,5.96693206711369,5.4351961614818,5.20371938988384,4.83038075568817,5.20371938988384,4.95873843272062,5.54651922951146,4.55981905739127,5.4351961614818,5.4351961614818,5.20371938988384,5.65518197118255,6.06658917312032,4.41652052316603,5.65518197118255,6.2602438465527,5.08306556401624,5.08306556401624,6.53804637266794,5.65518197118255,5.08306556401624,5.32100732238368,5.20371938988384,5.76136640411342,6.2602438465527,5.8652346956897,5.32100732238368,4.95873843272062,5.08306556401624,4.83038075568817,5.54651922951146,4.55981905739127,6.16432406860527,5.54651922951146,6.16432406860527,5.96693206711369,5.54651922951146,5.4351961614818,5.4351961614818,5.96693206711369,5.08306556401624,5.08306556401624,5.96693206711369,5.8652346956897,5.08306556401624,5.76136640411342,5.96693206711369,5.96693206711369,4.55981905739127,5.65518197118255,4.69757337260906,5.65518197118255,5.32100732238368,5.76136640411342,4.11020413766764,5.08306556401624,5.08306556401624,5.8652346956897,5.96693206711369,4.95873843272062,5.54651922951146,4.83038075568817,5.76136640411342,5.20371938988384,5.4351961614818,5.8652346956897,6.71575340007623,7.97632992098288,8.04763434666193,9.28665979094794,9.28665979094794,8.65956419816109,8.32591576152109,7.683510071295,6.80256676451212,6.88810053038505,5.08306556401624,4.95873843272062,4.41652052316603,3.94514151986907,3.16275317226094,2.63785962345524,1.14787446444932,1.14787446444932,1.14787446444932,1.14787446444932,1.14787446444932,1.14787446444932,1.14787446444932,1.14787446444932,1.14787446444932],\"_yAxisLabel\":\"Events \\/ ( 0.001 )\",\"_ymin\":0,\"_ymax\":77.2866597909479,\"_normValue\":0,\"_nominalBinWidth\":9.99999999999997e-4,\"_nSigma\":1,\"_entries\":2000,\"_rawEntries\":-1},{\"_typename\":\"RooCurve\",\"fUniqueID\":0,\"fBits\":50332680,\"fName\":\"sum_Norm[mes]\",\"fTitle\":\"Projection of sum\",\"fLineColor\":600,\"fLineStyle\":1,\"fLineWidth\":3,\"fFillColor\":0,\"fFillStyle\":1000,\"fMarkerColor\":1,\"fMarkerStyle\":1,\"fMarkerSize\":1,\"fNpoints\":143,\"fX\":[5.199,5.199,5.2,5.201,5.202,5.203,5.204,5.205,5.206,5.207,5.208,5.209,5.21,5.211,5.212,5.213,5.214,5.215,5.216,5.217,5.218,5.219,5.22,5.221,5.222,5.223,5.224,5.225,5.226,5.227,5.228,5.229,5.23,5.231,5.232,5.233,5.234,5.235,5.236,5.237,5.238,5.239,5.24,5.241,5.242,5.243,5.244,5.245,5.246,5.247,5.248,5.249,5.25,5.251,5.252,5.253,5.254,5.255,5.256,5.257,5.258,5.259,5.26,5.261,5.262,5.263,5.264,5.265,5.266,5.267,5.268,5.269,5.27,5.271,5.2715,5.272,5.2725,5.273,5.2735,5.27375,5.274,5.27425,5.2745,5.27475,5.275,5.27525,5.2755,5.276,5.2765,5.277,5.2775,5.27775,5.278,5.27825,5.2785,5.27875,5.279,5.27925,5.2795,5.27975,5.28,5.28025,5.2805,5.28075,5.281,5.28125,5.2815,5.28175,5.282,5.2825,5.283,5.2835,5.284,5.28425,5.2845,5.28475,5.285,5.28525,5.2855,5.28575,5.286,5.2865,5.287,5.2875,5.288,5.289,5.29,5.2905,5.29075,5.290875,5.291,5.292,5.293,5.294,5.295,5.296,5.297,5.298,5.299,5.3,5.3,5.301,5.301],\"fY\":[0,18.8830425396255,18.8830425396255,18.9438268337071,19.0036638866962,19.0625169040228,19.1203479946409,19.1771181320875,19.2327871137241,19.2873135180522,19.3406546599851,19.3927665439484,19.4436038146758,19.4931197055519,19.5412659843447,19.5879928961587,19.6332491034233,19.676981622719,19.7191357582258,19.7596550315602,19.7984811077492,19.8355537170662,19.8708105724295,19.9041872820408,19.9356172569068,19.9650316128604,19.9923590666574,20.0175258256877,20.0404554707962,20.0610688316565,20.0792838540893,20.0950154586545,20.1081753897768,20.118672054591,20.1264103506031,20.1312914811695,20.133212757687,20.1320673872608,20.127744244482,20.120127625784,20.1090969846699,20.0945266458959,20.0762854964646,20.0542366510091,20.0282370888456,19.9981372596149,19.9637806540237,19.9250033357251,19.8816334298245,19.8334905628573,19.7803852483359,19.7221182110832,19.6584796425358,19.5892483779782,19.5141909852188,19.4330607524914,19.3455965613039,19.2515216274665,19.1505420905492,19.0423454283765,18.9265986688342,18.8029463666404,18.67100831304,18.5303769905008,18.3806151189256,18.2212556100781,18.0518161555117,17.8718835480597,17.6814811833327,17.4824241646932,17.282606783047,17.1075624101054,17.026539067468,17.1999265385189,17.4728484253104,17.9429006257348,18.6811122027717,19.7691075749928,21.2936143483877,22.2459029367143,23.3374087770743,24.575802963046,25.9667910185425,27.5136060741602,29.2165089682076,31.0723185650404,33.0739977249501,37.465652411125,42.2483306620421,47.2091303692459,52.0755598982317,54.376907955061,56.5365540676971,58.5145536659439,60.2726588570559,61.7754756553643,62.9915737061013,63.8944999757996,64.4636507092935,64.6849614195422,64.5513825219063,64.0631180189914,63.227615812354,62.0593100876096,60.5791280620974,58.813784473211,56.7948968513881,54.5579623007064,52.141241783748,46.9283531026694,41.4740095397914,36.0702958233865,30.9579638457787,28.5682726352082,26.3111303706036,24.1971623332379,22.2328044631039,20.4206388467833,18.7598085950178,17.2464855504404,15.8743652861528,13.5191108740544,11.6124974933404,10.0622271008465,8.77523059303201,6.64503272435832,4.55153423974054,3.20676328262656,2.27601350909536,1.62246865780438,0.0548742561695361,0.0151950284430202,0.00376827741788563,8.36863908565809e-4,1.66432228917783e-4,2.96408491232429e-5,4.72731424134159e-6,6.75163450880379e-7,8.63523172921424e-8,9.89030509833899e-9,9.89030509833899e-9,9.89030509833899e-9,0],\"fFunctions\":{\"_typename\":\"TList\",\"name\":\"TList\",\"arr\":[],\"opt\":[]},\"fHistogram\":{\"_typename\":\"TH1F\",\"fUniqueID\":0,\"fBits\":50332168,\"fName\":\"sum_Norm[mes]\",\"fTitle\":\"Projection of sum\",\"fLineColor\":1,\"fLineStyle\":1,\"fLineWidth\":1,\"fFillColor\":0,\"fFillStyle\":1001,\"fMarkerColor\":1,\"fMarkerStyle\":1,\"fMarkerSize\":1,\"fNcells\":145,\"fXaxis\":{\"_typename\":\"TAxis\",\"fUniqueID\":0,\"fBits\":50331648,\"fName\":\"xaxis\",\"fTitle\":\"\",\"fNdivisions\":510,\"fAxisColor\":1,\"fLabelColor\":1,\"fLabelFont\":62,\"fLabelOffset\":0.005,\"fLabelSize\":0.04,\"fTickLength\":0.03,\"fTitleOffset\":1,\"fTitleSize\":0.04,\"fTitleColor\":1,\"fTitleFont\":62,\"fNbins\":143,\"fXmin\":5.1888,\"fXmax\":5.3112,\"fXbins\":[],\"fFirst\":0,\"fLast\":0,\"fBits2\":0,\"fTimeDisplay\":false,\"fTimeFormat\":\"\",\"fLabels\":null,\"fModLabs\":null},\"fYaxis\":{\"_typename\":\"TAxis\",\"fUniqueID\":0,\"fBits\":50331648,\"fName\":\"yaxis\",\"fTitle\":\"\",\"fNdivisions\":510,\"fAxisColor\":1,\"fLabelColor\":1,\"fLabelFont\":62,\"fLabelOffset\":0.005,\"fLabelSize\":0.04,\"fTickLength\":0.03,\"fTitleOffset\":1,\"fTitleSize\":0.04,\"fTitleColor\":1,\"fTitleFont\":62,\"fNbins\":1,\"fXmin\":0,\"fXmax\":71.1534575614964,\"fXbins\":[],\"fFirst\":0,\"fLast\":0,\"fBits2\":0,\"fTimeDisplay\":false,\"fTimeFormat\":\"\",\"fLabels\":null,\"fModLabs\":null},\"fZaxis\":{\"_typename\":\"TAxis\",\"fUniqueID\":0,\"fBits\":50331648,\"fName\":\"zaxis\",\"fTitle\":\"\",\"fNdivisions\":510,\"fAxisColor\":1,\"fLabelColor\":1,\"fLabelFont\":62,\"fLabelOffset\":0.005,\"fLabelSize\":0.04,\"fTickLength\":0.03,\"fTitleOffset\":1,\"fTitleSize\":0.04,\"fTitleColor\":1,\"fTitleFont\":62,\"fNbins\":1,\"fXmin\":0,\"fXmax\":1,\"fXbins\":[],\"fFirst\":0,\"fLast\":0,\"fBits2\":0,\"fTimeDisplay\":false,\"fTimeFormat\":\"\",\"fLabels\":null,\"fModLabs\":null},\"fBarOffset\":0,\"fBarWidth\":1000,\"fEntries\":0,\"fTsumw\":0,\"fTsumw2\":0,\"fTsumwx\":0,\"fTsumwx2\":0,\"fMaximum\":71.1534575614964,\"fMinimum\":0,\"fNormFactor\":0,\"fContour\":[],\"fSumw2\":[],\"fOption\":\"\",\"fFunctions\":{\"_typename\":\"TList\",\"name\":\"TList\",\"arr\":[],\"opt\":[]},\"fBufferSize\":0,\"fBuffer\":[],\"fBinStatErrOpt\":0,\"fStatOverflows\":2,\"fArray\":[0,0,0,0,0,0,0,0,0,0,0,0,0,0,0,0,0,0,0,0,0,0,0,0,0,0,0,0,0,0,0,0,0,0,0,0,0,0,0,0,0,0,0,0,0,0,0,0,0,0,0,0,0,0,0,0,0,0,0,0,0,0,0,0,0,0,0,0,0,0,0,0,0,0,0,0,0,0,0,0,0,0,0,0,0,0,0,0,0,0,0,0,0,0,0,0,0,0,0,0,0,0,0,0,0,0,0,0,0,0,0,0,0,0,0,0,0,0,0,0,0,0,0,0,0,0,0,0,0,0,0,0,0,0,0,0,0,0,0,0,0,0,0,0,0]},\"fMinimum\":-1111,\"fMaximum\":-1111,\"_yAxisLabel\":\"Projection of sum\",\"_ymin\":0,\"_ymax\":64.6849614195422,\"_normValue\":0},{\"_typename\":\"RooCurve\",\"fUniqueID\":0,\"fBits\":50332680,\"fName\":\"sum_Norm[mes]_Comp[argus]\",\"fTitle\":\"Projection of sum\",\"fLineColor\":600,\"fLineStyle\":2,\"fLineWidth\":3,\"fFillColor\":0,\"fFillStyle\":1000,\"fMarkerColor\":1,\"fMarkerStyle\":1,\"fMarkerSize\":1,\"fNpoints\":115,\"fX\":[5.199,5.199,5.2,5.201,5.202,5.203,5.204,5.205,5.206,5.207,5.208,5.209,5.21,5.211,5.212,5.213,5.214,5.215,5.216,5.217,5.218,5.219,5.22,5.221,5.222,5.223,5.224,5.225,5.226,5.227,5.228,5.229,5.23,5.231,5.232,5.233,5.234,5.235,5.236,5.237,5.238,5.239,5.24,5.241,5.242,5.243,5.244,5.245,5.246,5.247,5.248,5.249,5.25,5.251,5.252,5.253,5.254,5.255,5.256,5.257,5.258,5.259,5.26,5.261,5.262,5.263,5.264,5.265,5.266,5.267,5.268,5.269,5.27,5.271,5.272,5.273,5.274,5.275,5.276,5.277,5.278,5.279,5.28,5.281,5.282,5.283,5.284,5.285,5.286,5.287,5.2875,5.288,5.2885,5.289,5.2895,5.28975,5.29,5.29025,5.2905,5.290625,5.29075,5.290875,5.291,5.292,5.293,5.294,5.295,5.296,5.297,5.298,5.299,5.3,5.3,5.301,5.301],\"fY\":[0,18.8830425396255,18.8830425396255,18.9438268337071,19.0036638866962,19.0625169040228,19.1203479946409,19.1771181320875,19.2327871137241,19.2873135180522,19.3406546599851,19.3927665439484,19.4436038146758,19.4931197055519,19.5412659843447,19.5879928961587,19.6332491034233,19.676981622719,19.7191357582258,19.7596550315602,19.7984811077492,19.8355537170662,19.8708105724295,19.9041872820408,19.9356172569068,19.9650316128604,19.9923590666574,20.0175258256877,20.0404554707962,20.0610688316565,20.0792838540893,20.0950154586545,20.1081753897768,20.118672054591,20.1264103506031,20.1312914811695,20.133212757687,20.1320673872608,20.127744244482,20.120127625784,20.1090969846699,20.0945266458959,20.0762854964646,20.0542366510091,20.0282370888456,19.9981372596149,19.9637806540237,19.9250033357251,19.8816334298245,19.8334905628573,19.7803852483359,19.7221182110832,19.6584796425358,19.5892483779782,19.5141909852188,19.4330607524914,19.3455965613039,19.2515216274665,19.150542090548,19.0423454283614,18.9265986686552,18.8029463647491,18.6710082951394,18.5303768387793,18.3806139673314,18.2212477825941,18.0517685107071,17.8716238435255,17.6802134902101,17.4768827665262,17.26091500263,17.0315224881321,16.7878355899958,16.5288895656879,16.2536084381599,15.9607850813378,15.649056355282,15.3168716825851,14.9624527975146,14.5837414045742,14.178329946535,13.7433682420785,13.2754347552166,12.7703544664092,12.2229332805567,11.6265565005855,10.9725546285274,10.2491457207277,9.43954471649167,8.51825696666068,8.0035446288419,7.44280698536894,6.8245510535243,6.13122433860069,5.33342433737718,4.87954952275408,4.37410275877187,3.79650446024001,3.10672369223864,2.69349050912107,2.20166895873336,1.55854458882078,4.78338612623746e-6,0,0,0,0,0,0,0,0,0,0,0,0],\"fFunctions\":{\"_typename\":\"TList\",\"name\":\"TList\",\"arr\":[],\"opt\":[]},\"fHistogram\":{\"_typename\":\"TH1F\",\"fUniqueID\":0,\"fBits\":50332168,\"fName\":\"sum_Norm[mes]_Comp[argus]\",\"fTitle\":\"Projection of sum\",\"fLineColor\":1,\"fLineStyle\":1,\"fLineWidth\":1,\"fFillColor\":0,\"fFillStyle\":1001,\"fMarkerColor\":1,\"fMarkerStyle\":1,\"fMarkerSize\":1,\"fNcells\":117,\"fXaxis\":{\"_typename\":\"TAxis\",\"fUniqueID\":0,\"fBits\":50331648,\"fName\":\"xaxis\",\"fTitle\":\"\",\"fNdivisions\":510,\"fAxisColor\":1,\"fLabelColor\":1,\"fLabelFont\":62,\"fLabelOffset\":0.005,\"fLabelSize\":0.04,\"fTickLength\":0.03,\"fTitleOffset\":1,\"fTitleSize\":0.04,\"fTitleColor\":1,\"fTitleFont\":62,\"fNbins\":115,\"fXmin\":5.1888,\"fXmax\":5.3112,\"fXbins\":[],\"fFirst\":0,\"fLast\":0,\"fBits2\":0,\"fTimeDisplay\":false,\"fTimeFormat\":\"\",\"fLabels\":null,\"fModLabs\":null},\"fYaxis\":{\"_typename\":\"TAxis\",\"fUniqueID\":0,\"fBits\":50331648,\"fName\":\"yaxis\",\"fTitle\":\"\",\"fNdivisions\":510,\"fAxisColor\":1,\"fLabelColor\":1,\"fLabelFont\":62,\"fLabelOffset\":0.005,\"fLabelSize\":0.04,\"fTickLength\":0.03,\"fTitleOffset\":1,\"fTitleSize\":0.04,\"fTitleColor\":1,\"fTitleFont\":62,\"fNbins\":1,\"fXmin\":0,\"fXmax\":22.1465340334556,\"fXbins\":[],\"fFirst\":0,\"fLast\":0,\"fBits2\":0,\"fTimeDisplay\":false,\"fTimeFormat\":\"\",\"fLabels\":null,\"fModLabs\":null},\"fZaxis\":{\"_typename\":\"TAxis\",\"fUniqueID\":0,\"fBits\":50331648,\"fName\":\"zaxis\",\"fTitle\":\"\",\"fNdivisions\":510,\"fAxisColor\":1,\"fLabelColor\":1,\"fLabelFont\":62,\"fLabelOffset\":0.005,\"fLabelSize\":0.04,\"fTickLength\":0.03,\"fTitleOffset\":1,\"fTitleSize\":0.04,\"fTitleColor\":1,\"fTitleFont\":62,\"fNbins\":1,\"fXmin\":0,\"fXmax\":1,\"fXbins\":[],\"fFirst\":0,\"fLast\":0,\"fBits2\":0,\"fTimeDisplay\":false,\"fTimeFormat\":\"\",\"fLabels\":null,\"fModLabs\":null},\"fBarOffset\":0,\"fBarWidth\":1000,\"fEntries\":0,\"fTsumw\":0,\"fTsumw2\":0,\"fTsumwx\":0,\"fTsumwx2\":0,\"fMaximum\":22.1465340334556,\"fMinimum\":0,\"fNormFactor\":0,\"fContour\":[],\"fSumw2\":[],\"fOption\":\"\",\"fFunctions\":{\"_typename\":\"TList\",\"name\":\"TList\",\"arr\":[],\"opt\":[]},\"fBufferSize\":0,\"fBuffer\":[],\"fBinStatErrOpt\":0,\"fStatOverflows\":2,\"fArray\":[0,0,0,0,0,0,0,0,0,0,0,0,0,0,0,0,0,0,0,0,0,0,0,0,0,0,0,0,0,0,0,0,0,0,0,0,0,0,0,0,0,0,0,0,0,0,0,0,0,0,0,0,0,0,0,0,0,0,0,0,0,0,0,0,0,0,0,0,0,0,0,0,0,0,0,0,0,0,0,0,0,0,0,0,0,0,0,0,0,0,0,0,0,0,0,0,0,0,0,0,0,0,0,0,0,0,0,0,0,0,0,0,0,0,0,0,0]},\"fMinimum\":-1111,\"fMaximum\":-1111,\"_yAxisLabel\":\"Projection of sum\",\"_ymin\":0,\"_ymax\":20.133212757687,\"_normValue\":0},{\"$ref\":3},{\"_typename\":\"TPaveText\",\"fUniqueID\":0,\"fBits\":50331657,\"fLineColor\":1,\"fLineStyle\":1,\"fLineWidth\":1,\"fFillColor\":0,\"fFillStyle\":1001,\"fX1\":5.18874999905936,\"fY1\":85.7157372807378,\"fX2\":5.22788793067705,\"fY2\":90.7876744050965,\"fX1NDC\":0.00999999977648258,\"fY1NDC\":0.945000004768372,\"fX2NDC\":0.323103448052344,\"fY2NDC\":0.995000004768372,\"fBorderSize\":1,\"fInit\":1,\"fShadowColor\":1,\"fCornerRadius\":0,\"fOption\":\"blNDC\",\"fName\":\"title\",\"fTextAngle\":0,\"fTextSize\":0,\"fTextAlign\":22,\"fTextColor\":1,\"fTextFont\":62,\"fLabel\":\"\",\"fLongest\":18,\"fMargin\":0.05,\"fLines\":{\"_typename\":\"TList\",\"name\":\"TList\",\"arr\":[{\"_typename\":\"TLatex\",\"fUniqueID\":0,\"fBits\":50331648,\"fName\":\"\",\"fTitle\":\"A RooPlot of \\\"mes\\\"\",\"fTextAngle\":0,\"fTextSize\":0,\"fTextAlign\":0,\"fTextColor\":0,\"fTextFont\":0,\"fX\":0,\"fY\":0,\"fLineColor\":1,\"fLineStyle\":1,\"fLineWidth\":2,\"fLimitFactorSize\":3,\"fOriginSize\":0.0425000004470348}],\"opt\":[\"\"]}}],\"opt\":[\"\",\"FUNC\",\"p\",\"l\",\"l\",\"AXISSAME\",\"blNDC\"]},\"fExecs\":null,\"fName\":\"c1\",\"fTitle\":\"c1\",\"fNumPaletteColor\":0,\"fNextPaletteColor\":0,\"fDISPLAY\":\"$DISPLAY\",\"fDoubleBuffer\":0,\"fRetained\":true,\"fXsizeUser\":0,\"fYsizeUser\":0,\"fXsizeReal\":20,\"fYsizeReal\":14.28571,\"fWindowTopX\":0,\"fWindowTopY\":0,\"fWindowWidth\":0,\"fWindowHeight\":0,\"fCw\":696,\"fCh\":472,\"fCatt\":{\"_typename\":\"TAttCanvas\",\"fXBetween\":2,\"fYBetween\":2,\"fTitleFromTop\":1.2,\"fXdate\":0.2,\"fYdate\":0.3,\"fAdate\":1},\"kMoveOpaque\":true,\"kResizeOpaque\":true,\"fHighLightColor\":2,\"fBatch\":true,\"kShowEventStatus\":false,\"kAutoExec\":true,\"kMenuBar\":true});\n",
       "       Core.draw(\"root_plot_1\", obj, \"\");\n",
       "     }\n",
       " );\n",
       "</script>\n"
      ],
      "text/plain": [
       "<IPython.core.display.HTML object>"
      ]
     },
     "metadata": {},
     "output_type": "display_data"
    }
   ],
   "source": [
    "%jsroot on\n",
    "gROOT->GetListOfCanvases()->Draw()"
   ]
  }
 ],
 "metadata": {
  "kernelspec": {
   "display_name": "ROOT C++",
   "language": "c++",
   "name": "root"
  },
  "language_info": {
   "codemirror_mode": "text/x-c++src",
   "file_extension": ".C",
   "mimetype": " text/x-c++src",
   "name": "c++"
  }
 },
 "nbformat": 4,
 "nbformat_minor": 2
}
