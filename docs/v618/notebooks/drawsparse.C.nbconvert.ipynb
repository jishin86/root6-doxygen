{
 "cells": [
  {
   "cell_type": "markdown",
   "metadata": {},
   "source": [
    "# Drawsparse\n",
    "Convert a THnSparse to a TTree using efficient iteration through the THnSparse\n",
    "and draw a THnSparse using TParallelCoord.\n",
    "The plot will contain one line for each filled bin,\n",
    "with the bin's coordinates on each axis, and the bin's content on\n",
    "the rightmost axis.\n",
    "\n",
    " Run as\n",
    "```\n",
    "   .L $ROOTSYS/tutorials/tree/drawsparse.C+\n",
    "```\n",
    "\n",
    "\n",
    "\n",
    "\n",
    "**Author:** Axel Naumann  \n",
    "<i><small>This notebook tutorial was automatically generated with <a href= \"https://github.com/root-project/root/blob/master/documentation/doxygen/converttonotebook.py\">ROOTBOOK-izer</a> from the macro found in the ROOT repository  on Thursday, August 29, 2019 at 03:54 AM.</small></i>"
   ]
  },
  {
   "cell_type": "code",
   "execution_count": 1,
   "metadata": {
    "collapsed": false
   },
   "outputs": [],
   "source": [
    "%%cpp -d\n",
    "#include \"TParallelCoord.h\"\n",
    "#include \"TParallelCoordVar.h\"\n",
    "#include \"TROOT.h\"\n",
    "#include \"TTree.h\"\n",
    "#include \"TLeaf.h\"\n",
    "#include \"THnSparse.h\"\n",
    "#include \"TAxis.h\"\n",
    "#include \"TCanvas.h\"\n",
    "#include \"TRandom.h\"\n",
    "#include \"TFile.h\"\n",
    "#include \"TH3.h\""
   ]
  },
  {
   "cell_type": "markdown",
   "metadata": {},
   "source": [
    " A helper function is created: "
   ]
  },
  {
   "cell_type": "code",
   "execution_count": 2,
   "metadata": {
    "collapsed": false
   },
   "outputs": [],
   "source": [
    "%%cpp -d\n",
    "TTree* toTree(THnSparse* h)\n",
    "{\n",
    "   // Creates a TTree and fills it with the coordinates of all\n",
    "   // filled bins. The tree will have one branch for each dimension,\n",
    "   // and one for the bin content.\n",
    "\n",
    "   Int_t dim = h->GetNdimensions();\n",
    "   TString name(h->GetName()); name += \"_tree\";\n",
    "   TString title(h->GetTitle()); title += \" tree\";\n",
    "\n",
    "   TTree* tree = new TTree(name, title);\n",
    "   Double_t* x = new Double_t[dim + 1];\n",
    "   memset(x, 0, sizeof(Double_t) * (dim + 1));\n",
    "\n",
    "   TString branchname;\n",
    "   for (Int_t d = 0; d < dim; ++d) {\n",
    "      if (branchname.Length())\n",
    "         branchname += \":\";\n",
    "      TAxis* axis = h->GetAxis(d);\n",
    "      branchname += axis->GetName();\n",
    "      branchname += \"/D\";\n",
    "   }\n",
    "   tree->Branch(\"coord\", x, branchname);\n",
    "   tree->Branch(\"bincontent\", &x[dim], \"bincontent/D\");\n",
    "\n",
    "   Int_t *bins = new Int_t[dim];\n",
    "   for (Long64_t i = 0; i < h->GetNbins(); ++i) {\n",
    "      x[dim] = h->GetBinContent(i, bins);\n",
    "      for (Int_t d = 0; d < dim; ++d) {\n",
    "         x[d] = h->GetAxis(d)->GetBinCenter(bins[d]);\n",
    "      }\n",
    "\n",
    "      tree->Fill();\n",
    "   }\n",
    "\n",
    "   delete [] bins;\n",
    "   //delete [] x;\n",
    "   return tree;\n",
    "}"
   ]
  },
  {
   "cell_type": "markdown",
   "metadata": {},
   "source": [
    " A helper function is created: "
   ]
  },
  {
   "cell_type": "code",
   "execution_count": 3,
   "metadata": {
    "collapsed": false
   },
   "outputs": [],
   "source": [
    "%%cpp -d\n",
    "void drawsparse_draw(THnSparse* h)\n",
    "{\n",
    "   // Draw a THnSparse using TParallelCoord, creating a temporary TTree.\n",
    "\n",
    "   TTree* tree = toTree(h);\n",
    "\n",
    "   TString whatToDraw;\n",
    "   TIter iLeaf(tree->GetListOfLeaves());\n",
    "   const TLeaf* leaf = 0;\n",
    "   while ((leaf = (const TLeaf*)iLeaf())) {\n",
    "      if (whatToDraw.Length())\n",
    "         whatToDraw += \":\";\n",
    "      whatToDraw += leaf->GetName();\n",
    "   }\n",
    "   tree->Draw(whatToDraw, \"\", \"para\");\n",
    "   TParallelCoord* parallelCoord = (TParallelCoord*)gPad->GetListOfPrimitives()->FindObject(\"ParaCoord\");\n",
    "\n",
    "   TIter iVar(parallelCoord->GetVarList());\n",
    "   TParallelCoordVar* var = 0;\n",
    "   for (Int_t d = 0;(var = (TParallelCoordVar*) iVar()) && d < h->GetNdimensions(); ++d) {\n",
    "      TAxis* axis = h->GetAxis(d);\n",
    "      var->SetHistogramBinning(axis->GetNbins());\n",
    "      var->SetCurrentLimits(axis->GetXmin(), axis->GetXmax());\n",
    "      var->SetTitle(axis->GetTitle());\n",
    "   }\n",
    "   var->SetTitle(\"bin content\");\n",
    "}"
   ]
  },
  {
   "cell_type": "markdown",
   "metadata": {},
   "source": [
    "Create a thnsparse and draw it."
   ]
  },
  {
   "cell_type": "code",
   "execution_count": 4,
   "metadata": {
    "collapsed": false
   },
   "outputs": [],
   "source": [
    "const Int_t ndims = 8;\n",
    "Int_t bins[ndims] = {10, 10, 5, 30, 10, 4, 18, 12};\n",
    "Double_t xmin[ndims] = {-5., -10., -1000., -3., 0.,   0., 0., 0.};\n",
    "Double_t xmax[ndims] = {10., 70., 3000.,   3.,   5.,  2., 2., 5.};\n",
    "THnSparse* hs = new THnSparseD(\"hs\", \"Sparse Histogram\", ndims, bins, xmin, xmax);"
   ]
  },
  {
   "cell_type": "markdown",
   "metadata": {},
   "source": [
    "Fill it"
   ]
  },
  {
   "cell_type": "code",
   "execution_count": 5,
   "metadata": {
    "collapsed": false
   },
   "outputs": [],
   "source": [
    "Double_t x[ndims];\n",
    "for (Long_t i = 0; i < 100000; ++i) {\n",
    "   for (Int_t d = 0; d < ndims; ++d) {\n",
    "      switch (d) {\n",
    "      case 0: x[d] = gRandom->Gaus()*2 + 3.; break;\n",
    "      case 1:\n",
    "      case 2:\n",
    "      case 3: x[d] = (x[d-1]*x[d-1] - 1.5)/1.5 + (0.5*gRandom->Rndm()); break;\n",
    "      default: x[d] = sin(gRandom->Gaus()*i/1000.) + 1.;\n",
    "      }\n",
    "   }\n",
    "   hs->Fill(x);\n",
    "}\n",
    "\n",
    "\n",
    "TFile* f = new TFile(\"drawsparse.root\",\"RECREATE\");\n",
    "\n",
    "TCanvas* canv = new TCanvas(\"hDrawSparse\", \"Drawing a sparse hist\");\n",
    "canv->Divide(2);"
   ]
  },
  {
   "cell_type": "markdown",
   "metadata": {},
   "source": [
    "Draw it"
   ]
  },
  {
   "cell_type": "code",
   "execution_count": 6,
   "metadata": {
    "collapsed": false
   },
   "outputs": [],
   "source": [
    "canv->cd(1);\n",
    "drawsparse_draw(hs);"
   ]
  },
  {
   "cell_type": "markdown",
   "metadata": {},
   "source": [
    "Project it"
   ]
  },
  {
   "cell_type": "code",
   "execution_count": 7,
   "metadata": {
    "collapsed": false
   },
   "outputs": [],
   "source": [
    "canv->cd(2);\n",
    "TH3D* h3proj = hs->Projection(2, 3, 6);\n",
    "h3proj->SetLineColor(kOrange);\n",
    "h3proj->SetDirectory(0);\n",
    "h3proj->Draw(\"lego1\");"
   ]
  },
  {
   "cell_type": "markdown",
   "metadata": {},
   "source": [
    "Save everything to a file"
   ]
  },
  {
   "cell_type": "code",
   "execution_count": 8,
   "metadata": {
    "collapsed": false
   },
   "outputs": [],
   "source": [
    "canv->Write();\n",
    "hs->Write();\n",
    "h3proj->Write();\n",
    "\n",
    "delete f;"
   ]
  },
  {
   "cell_type": "markdown",
   "metadata": {},
   "source": [
    "Draw all canvases "
   ]
  },
  {
   "cell_type": "code",
   "execution_count": 9,
   "metadata": {
    "collapsed": false
   },
   "outputs": [
    {
     "data": {
      "image/png": "[encoded data removed]",
      "text/plain": [
       "<IPython.core.display.Image object>"
      ]
     },
     "metadata": {},
     "output_type": "display_data"
    }
   ],
   "source": [
    "gROOT->GetListOfCanvases()->Draw()"
   ]
  }
 ],
 "metadata": {
  "kernelspec": {
   "display_name": "ROOT C++",
   "language": "c++",
   "name": "root"
  },
  "language_info": {
   "codemirror_mode": "text/x-c++src",
   "file_extension": ".C",
   "mimetype": " text/x-c++src",
   "name": "c++"
  }
 },
 "nbformat": 4,
 "nbformat_minor": 2
}
