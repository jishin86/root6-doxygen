{
 "cells": [
  {
   "cell_type": "markdown",
   "metadata": {},
   "source": [
    "#  Standard Profile Inspector Demo\n",
    "Standard demo of the ProfileInspector class\n",
    "StandardProfileInspectorDemo\n",
    "\n",
    "This is a standard demo that can be used with any ROOT file\n",
    "prepared in the standard way.  You specify:\n",
    " - name for input ROOT file\n",
    " - name of workspace inside ROOT file that holds model and data\n",
    " - name of ModelConfig that specifies details for calculator tools\n",
    " - name of dataset\n",
    "\n",
    "With default parameters the macro will attempt to run the\n",
    "standard hist2workspace example and read the ROOT file\n",
    "that it produces.\n",
    "\n",
    "The actual heart of the demo is only about 10 lines long.\n",
    "\n",
    "The ProfileInspector plots the conditional maximum likelihood estimate\n",
    "of each nuisance parameter in the model vs. the parameter of interest.\n",
    "(aka. profiled value of nuisance parameter vs. parameter of interest)\n",
    "(aka. best fit nuisance parameter with p.o.i fixed vs. parameter of interest)\n",
    "\n",
    "\n",
    "\n",
    "\n",
    "**Author:** Kyle Cranmer  \n",
    "<i><small>This notebook tutorial was automatically generated with <a href= \"https://github.com/root-project/root/blob/master/documentation/doxygen/converttonotebook.py\">ROOTBOOK-izer</a> from the macro found in the ROOT repository  on Thursday, August 29, 2019 at 03:30 AM.</small></i>"
   ]
  },
  {
   "cell_type": "code",
   "execution_count": 1,
   "metadata": {
    "collapsed": false
   },
   "outputs": [],
   "source": [
    "%%cpp -d\n",
    "#include \"TFile.h\"\n",
    "#include \"TROOT.h\"\n",
    "#include \"TCanvas.h\"\n",
    "#include \"TList.h\"\n",
    "#include \"TMath.h\"\n",
    "#include \"TSystem.h\"\n",
    "#include \"RooWorkspace.h\"\n",
    "#include \"RooAbsData.h\"\n",
    "\n",
    "#include \"RooStats/ModelConfig.h\"\n",
    "#include \"RooStats/ProfileInspector.h\""
   ]
  },
  {
   "cell_type": "code",
   "execution_count": 2,
   "metadata": {
    "collapsed": false
   },
   "outputs": [],
   "source": [
    "%%cpp -d\n",
    "// This is a workaround to make sure the namespace is used inside functions\n",
    "using namespace RooFit;\n",
    "using namespace RooStats;"
   ]
  },
  {
   "cell_type": "markdown",
   "metadata": {},
   "source": [
    " Arguments are defined. "
   ]
  },
  {
   "cell_type": "code",
   "execution_count": 3,
   "metadata": {
    "collapsed": false
   },
   "outputs": [],
   "source": [
    "const char *infile = \"\";\n",
    "const char *workspaceName = \"combined\";\n",
    "const char *modelConfigName = \"ModelConfig\";\n",
    "const char *dataName = \"obsData\";"
   ]
  },
  {
   "cell_type": "markdown",
   "metadata": {},
   "source": [
    "-------------------------------------------------------\n",
    " First part is just to access a user-defined file\n",
    " or create the standard example file if it doesn't exist"
   ]
  },
  {
   "cell_type": "code",
   "execution_count": 4,
   "metadata": {
    "collapsed": false
   },
   "outputs": [],
   "source": [
    "const char *filename = \"\";\n",
    "if (!strcmp(infile, \"\")) {\n",
    "   filename = \"results/example_combined_GaussExample_model.root\";\n",
    "   bool fileExist = !gSystem->AccessPathName(filename); // note opposite return code\n",
    "   // if file does not exists generate with histfactory\n",
    "   if (!fileExist) {\n",
    "#ifdef _WIN32\n",
    "      cout << \"HistFactory file cannot be generated on Windows - exit\" << endl;\n",
    "      return;\n",
    "#endif\n",
    "      // Normally this would be run on the command line\n",
    "      cout << \"will run standard hist2workspace example\" << endl;\n",
    "      gROOT->ProcessLine(\".! prepareHistFactory .\");\n",
    "      gROOT->ProcessLine(\".! hist2workspace config/example.xml\");\n",
    "      cout << \"\\n\\n---------------------\" << endl;\n",
    "      cout << \"Done creating example input\" << endl;\n",
    "      cout << \"---------------------\\n\\n\" << endl;\n",
    "   }\n",
    "\n",
    "} else\n",
    "   filename = infile;"
   ]
  },
  {
   "cell_type": "markdown",
   "metadata": {},
   "source": [
    "Try to open the file"
   ]
  },
  {
   "cell_type": "code",
   "execution_count": 5,
   "metadata": {
    "collapsed": false
   },
   "outputs": [
    {
     "name": "stdout",
     "output_type": "stream",
     "text": [
      "\n",
      "\u001b[1mRooFit v3.60 -- Developed by Wouter Verkerke and David Kirkby\u001b[0m \n",
      "                Copyright (C) 2000-2013 NIKHEF, University of California & Stanford University\n",
      "                All rights reserved, please read http://roofit.sourceforge.net/license.txt\n",
      "\n"
     ]
    }
   ],
   "source": [
    "TFile *file = TFile::Open(filename);"
   ]
  },
  {
   "cell_type": "markdown",
   "metadata": {},
   "source": [
    "If input file was specified byt not found, quit"
   ]
  },
  {
   "cell_type": "code",
   "execution_count": 6,
   "metadata": {
    "collapsed": false
   },
   "outputs": [],
   "source": [
    "if (!file) {\n",
    "   cout << \"StandardRooStatsDemoMacro: Input file \" << filename << \" is not found\" << endl;\n",
    "   return;\n",
    "}"
   ]
  },
  {
   "cell_type": "markdown",
   "metadata": {},
   "source": [
    "-------------------------------------------------------\n",
    " Tutorial starts here\n",
    " -------------------------------------------------------"
   ]
  },
  {
   "cell_type": "markdown",
   "metadata": {},
   "source": [
    "Get the workspace out of the file"
   ]
  },
  {
   "cell_type": "code",
   "execution_count": 7,
   "metadata": {
    "collapsed": false
   },
   "outputs": [],
   "source": [
    "RooWorkspace *w = (RooWorkspace *)file->Get(workspaceName);\n",
    "if (!w) {\n",
    "   cout << \"workspace not found\" << endl;\n",
    "   return;\n",
    "}"
   ]
  },
  {
   "cell_type": "markdown",
   "metadata": {},
   "source": [
    "Get the modelconfig out of the file"
   ]
  },
  {
   "cell_type": "code",
   "execution_count": 8,
   "metadata": {
    "collapsed": false
   },
   "outputs": [],
   "source": [
    "ModelConfig *mc = (ModelConfig *)w->obj(modelConfigName);"
   ]
  },
  {
   "cell_type": "markdown",
   "metadata": {},
   "source": [
    "Get the modelconfig out of the file"
   ]
  },
  {
   "cell_type": "code",
   "execution_count": 9,
   "metadata": {
    "collapsed": false
   },
   "outputs": [],
   "source": [
    "RooAbsData *data = w->data(dataName);"
   ]
  },
  {
   "cell_type": "markdown",
   "metadata": {},
   "source": [
    "Make sure ingredients are found"
   ]
  },
  {
   "cell_type": "code",
   "execution_count": 10,
   "metadata": {
    "collapsed": false
   },
   "outputs": [],
   "source": [
    "if (!data || !mc) {\n",
    "   w->Print();\n",
    "   cout << \"data or ModelConfig was not found\" << endl;\n",
    "   return;\n",
    "}"
   ]
  },
  {
   "cell_type": "markdown",
   "metadata": {},
   "source": [
    "-----------------------------\n",
    " now use the profile inspector"
   ]
  },
  {
   "cell_type": "code",
   "execution_count": 11,
   "metadata": {
    "collapsed": false
   },
   "outputs": [
    {
     "name": "stdout",
     "output_type": "stream",
     "text": [
      "[#1] INFO:Minization -- p.d.f. provides expected number of events, including extended term in likelihood.\n",
      "[#1] INFO:Minization -- createNLL: caching constraint set under name CONSTR_OF_PDF_simPdf_FOR_OBS_channelCat:obs_x_channel1 with 6 entries\n",
      "[#1] INFO:Minization --  Including the following contraint terms in minimization: (lumiConstraint,alpha_syst1Constraint,alpha_syst2Constraint,alpha_syst3Constraint,gamma_stat_channel1_bin_0_constraint,gamma_stat_channel1_bin_1_constraint)\n",
      "[#1] INFO:Minization -- RooProfileLL::evaluate(nll_simPdf_obsData_with_constr_Profile[SigXsecOverSM]) Creating instance of MINUIT\n",
      "[#1] INFO:Fitting -- RooAddition::defaultErrorLevel(nll_simPdf_obsData_with_constr) Summation contains a RooNLLVar, using its error level\n",
      "[#1] INFO:Minization -- RooProfileLL::evaluate(nll_simPdf_obsData_with_constr_Profile[SigXsecOverSM]) determining minimum likelihood for current configurations w.r.t all observable\n",
      "RooAbsTestStatistic::initSimMode: creating slave calculator #0 for state channel1 (2 dataset entries)\n",
      "[#1] INFO:NumericIntegration -- RooRealIntegral::init(channel1_model_Int[obs_x_channel1]) using numeric integrator RooBinIntegrator to calculate Int(obs_x_channel1)\n",
      "[#1] INFO:Fitting -- RooAbsTestStatistic::initSimMode: created 1 slave calculators.\n",
      "[#1] INFO:NumericIntegration -- RooRealIntegral::init(channel1_model_Int[obs_x_channel1]) using numeric integrator RooBinIntegrator to calculate Int(obs_x_channel1)\n",
      "[#1] INFO:NumericIntegration -- RooRealIntegral::init(gamma_stat_channel1_bin_0_constraint_Int[gamma_stat_channel1_bin_0]) using numeric integrator RooIntegrator1D to calculate Int(gamma_stat_channel1_bin_0)\n",
      "[#1] INFO:NumericIntegration -- RooRealIntegral::init(gamma_stat_channel1_bin_1_constraint_Int[gamma_stat_channel1_bin_1]) using numeric integrator RooIntegrator1D to calculate Int(gamma_stat_channel1_bin_1)\n",
      "[#1] INFO:Minization -- RooProfileLL::evaluate(nll_simPdf_obsData_with_constr_Profile[SigXsecOverSM]) minimum found at (SigXsecOverSM=1.11601)\n",
      "...................................................................................................."
     ]
    }
   ],
   "source": [
    "ProfileInspector p;\n",
    "TList *list = p.GetListOfProfilePlots(*data, mc);"
   ]
  },
  {
   "cell_type": "markdown",
   "metadata": {},
   "source": [
    "Now make plots"
   ]
  },
  {
   "cell_type": "code",
   "execution_count": 12,
   "metadata": {
    "collapsed": false
   },
   "outputs": [
    {
     "name": "stderr",
     "output_type": "stream",
     "text": [
      "input_line_86:3:5: error: reference to 'list' is ambiguous\n",
      "if (list->GetSize() > 4) {\n",
      "    ^\n",
      "input_line_66:3:8: note: candidate found by name lookup is 'list'\n",
      "TList *list = p.GetListOfProfilePlots(*data, mc);\n",
      "       ^\n",
      "/usr/lib/gcc/x86_64-redhat-linux/8/../../../../include/c++/8/bits/stl_list.h:564:11: note: candidate found by name lookup is 'std::__cxx11::list'\n",
      "    class list : protected _List_base<_Tp, _Alloc>\n",
      "          ^\n",
      "input_line_86:3:5: error: use of class template 'list' requires template arguments\n",
      "if (list->GetSize() > 4) {\n",
      "    ^\n",
      "/usr/lib/gcc/x86_64-redhat-linux/8/../../../../include/c++/8/bits/stl_list.h:564:11: note: template is declared here\n",
      "    class list : protected _List_base<_Tp, _Alloc>\n",
      "          ^\n",
      "input_line_86:3:9: error: cannot use arrow operator on a type\n",
      "if (list->GetSize() > 4) {\n",
      "        ^\n",
      "input_line_86:4:15: error: reference to 'list' is ambiguous\n",
      "   double n = list->GetSize();\n",
      "              ^\n",
      "input_line_66:3:8: note: candidate found by name lookup is 'list'\n",
      "TList *list = p.GetListOfProfilePlots(*data, mc);\n",
      "       ^\n",
      "/usr/lib/gcc/x86_64-redhat-linux/8/../../../../include/c++/8/bits/stl_list.h:564:11: note: candidate found by name lookup is 'std::__cxx11::list'\n",
      "    class list : protected _List_base<_Tp, _Alloc>\n",
      "          ^\n",
      "input_line_86:10:15: error: reference to 'list' is ambiguous\n",
      "   c1->Divide(list->GetSize());\n",
      "              ^\n",
      "input_line_66:3:8: note: candidate found by name lookup is 'list'\n",
      "TList *list = p.GetListOfProfilePlots(*data, mc);\n",
      "       ^\n",
      "/usr/lib/gcc/x86_64-redhat-linux/8/../../../../include/c++/8/bits/stl_list.h:564:11: note: candidate found by name lookup is 'std::__cxx11::list'\n",
      "    class list : protected _List_base<_Tp, _Alloc>\n",
      "          ^\n",
      "input_line_86:11:21: error: reference to 'list' is ambiguous\n",
      "for (int i = 0; i < list->GetSize(); ++i) {\n",
      "                    ^\n",
      "input_line_66:3:8: note: candidate found by name lookup is 'list'\n",
      "TList *list = p.GetListOfProfilePlots(*data, mc);\n",
      "       ^\n",
      "/usr/lib/gcc/x86_64-redhat-linux/8/../../../../include/c++/8/bits/stl_list.h:564:11: note: candidate found by name lookup is 'std::__cxx11::list'\n",
      "    class list : protected _List_base<_Tp, _Alloc>\n",
      "          ^\n",
      "input_line_86:11:21: error: reference to 'list' is ambiguous\n",
      "for (int i = 0; i < list->GetSize(); ++i) {\n",
      "                    ^\n",
      "input_line_66:3:8: note: candidate found by name lookup is 'list'\n",
      "TList *list = p.GetListOfProfilePlots(*data, mc);\n",
      "       ^\n",
      "/usr/lib/gcc/x86_64-redhat-linux/8/../../../../include/c++/8/bits/stl_list.h:564:11: note: candidate found by name lookup is 'std::__cxx11::list'\n",
      "    class list : protected _List_base<_Tp, _Alloc>\n",
      "          ^\n",
      "input_line_86:13:4: error: reference to 'list' is ambiguous\n",
      "   list->At(i)->Draw(\"al\");\n",
      "   ^\n",
      "input_line_66:3:8: note: candidate found by name lookup is 'list'\n",
      "TList *list = p.GetListOfProfilePlots(*data, mc);\n",
      "       ^\n",
      "/usr/lib/gcc/x86_64-redhat-linux/8/../../../../include/c++/8/bits/stl_list.h:564:11: note: candidate found by name lookup is 'std::__cxx11::list'\n",
      "    class list : protected _List_base<_Tp, _Alloc>\n",
      "          ^\n"
     ]
    }
   ],
   "source": [
    "TCanvas *c1 = new TCanvas(\"c1\", \"ProfileInspectorDemo\", 800, 200);\n",
    "if (list->GetSize() > 4) {\n",
    "   double n = list->GetSize();\n",
    "   int nx = (int)sqrt(n);\n",
    "   int ny = TMath::CeilNint(n / nx);\n",
    "   nx = TMath::CeilNint(sqrt(n));\n",
    "   c1->Divide(ny, nx);\n",
    "} else\n",
    "   c1->Divide(list->GetSize());\n",
    "for (int i = 0; i < list->GetSize(); ++i) {\n",
    "   c1->cd(i + 1);\n",
    "   list->At(i)->Draw(\"al\");\n",
    "}\n",
    "\n",
    "cout << endl;"
   ]
  },
  {
   "cell_type": "markdown",
   "metadata": {},
   "source": [
    "Draw all canvases "
   ]
  },
  {
   "cell_type": "code",
   "execution_count": 13,
   "metadata": {
    "collapsed": false
   },
   "outputs": [],
   "source": [
    "%jsroot on\n",
    "gROOT->GetListOfCanvases()->Draw()"
   ]
  }
 ],
 "metadata": {
  "kernelspec": {
   "display_name": "ROOT C++",
   "language": "c++",
   "name": "root"
  },
  "language_info": {
   "codemirror_mode": "text/x-c++src",
   "file_extension": ".C",
   "mimetype": " text/x-c++src",
   "name": "c++"
  }
 },
 "nbformat": 4,
 "nbformat_minor": 2
}
