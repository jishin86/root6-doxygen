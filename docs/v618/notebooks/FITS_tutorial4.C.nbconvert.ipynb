{
 "cells": [
  {
   "cell_type": "markdown",
   "metadata": {},
   "source": [
    "#  F I T S_Tutorial 4\n",
    "\n",
    "Open a FITS file whose primary array represents\n",
    "a spectrum (flux vs wavelength).\n",
    "\n",
    "\n",
    "\n",
    "\n",
    "**Author:** Claudi Martinez  \n",
    "<i><small>This notebook tutorial was automatically generated with <a href= \"https://github.com/root-project/root/blob/master/documentation/doxygen/converttonotebook.py\">ROOTBOOK-izer</a> from the macro found in the ROOT repository  on Thursday, August 29, 2019 at 01:36 AM.</small></i>"
   ]
  },
  {
   "cell_type": "markdown",
   "metadata": {},
   "source": [
    "We open a fits file that contains the primary hdu and a little data table.\n",
    " The data table is extension #1 and it has 2 rows.\n",
    " We want to read only the rows that have the column named DATAMAX greater than 2e-15 (there's only 1\n",
    " matching row Data copyright: NASA"
   ]
  },
  {
   "cell_type": "code",
   "execution_count": 1,
   "metadata": {
    "collapsed": false
   },
   "outputs": [],
   "source": [
    "TString dir = gROOT->GetTutorialDir();"
   ]
  },
  {
   "cell_type": "markdown",
   "metadata": {},
   "source": [
    "Open the table extension number 1)"
   ]
  },
  {
   "cell_type": "code",
   "execution_count": 2,
   "metadata": {
    "collapsed": false
   },
   "outputs": [
    {
     "name": "stdout",
     "output_type": "stream",
     "text": [
      "CRVAL1               : REAL NUMBER\n",
      "CRPIX1               : REAL NUMBER\n",
      "CD1_1                : REAL NUMBER\n",
      "DATAMIN              : REAL NUMBER\n",
      "DATAMAX              : REAL NUMBER\n",
      "RA_APER              : REAL NUMBER\n",
      "DEC_APER             : REAL NUMBER\n",
      "FILLCNT              : REAL NUMBER\n",
      "ERRCNT               : REAL NUMBER\n",
      "FPKTTIME             : REAL NUMBER\n",
      "LPKTTIME             : REAL NUMBER\n",
      "CTYPE1               : STRING\n",
      "APER_POS             : STRING\n",
      "PASS_DIR             : REAL NUMBER\n",
      "YPOS                 : REAL NUMBER\n",
      "YTYPE                : STRING\n",
      "EXPOSURE             : REAL NUMBER\n",
      "X_OFFSET             : REAL NUMBER\n",
      "Y_OFFSET             : REAL NUMBER\n",
      "\n",
      "CRVAL1    | CRPIX1    | CD1_1     | DATAMIN   | DATAMAX   | RA_APER   | DEC_APER  | FILLCNT   | ERRCNT    | FPKTTIME  | LPKTTIME  | CTYPE1    | APER_POS  | PASS_DIR  | YPOS      | YTYPE     | EXPOSURE  | X_OFFSET  | Y_OFFSET  | \n",
      "------------------------------------------------------------------------------------------------------------------------------------------------------------------------------------------------------------------------------------\n",
      "1         | 1         | 1         | 0         | 2.7e-15   | 1.8e+02   | 39        | 0         | 0         | 4.9e+04   | 4.9e+04   | PIXEL     | SINGLE    | 0         | -1.5e+03  | OBJ       | 31        | 0         | 0         | \n",
      "v[0] = 2.73876e-15\n",
      "Does the matched row have DATAMAX > 2e-15? :-)\n"
     ]
    }
   ],
   "source": [
    "TFITSHDU hdu(dir + \"/fitsio/sample2.fits[1][DATAMAX > 2e-15]\");\n",
    "\n",
    "hdu.Print(\"T\");\n",
    "\n",
    "hdu.Print(\"T+\");\n",
    "\n",
    "std::unique_ptr<TVectorD> vp(hdu.GetTabRealVectorColumn(\"DATAMAX\"));\n",
    "const auto &v = *vp;\n",
    "std::cout << \"v[0] = \" << v[0] << std::endl;\n",
    "std::cout << \"Does the matched row have DATAMAX > 2e-15? :-)\" << std::endl;"
   ]
  },
  {
   "cell_type": "markdown",
   "metadata": {},
   "source": [
    "Draw all canvases "
   ]
  },
  {
   "cell_type": "code",
   "execution_count": 3,
   "metadata": {
    "collapsed": false
   },
   "outputs": [],
   "source": [
    "gROOT->GetListOfCanvases()->Draw()"
   ]
  }
 ],
 "metadata": {
  "kernelspec": {
   "display_name": "ROOT C++",
   "language": "c++",
   "name": "root"
  },
  "language_info": {
   "codemirror_mode": "text/x-c++src",
   "file_extension": ".C",
   "mimetype": " text/x-c++src",
   "name": "c++"
  }
 },
 "nbformat": 4,
 "nbformat_minor": 2
}
