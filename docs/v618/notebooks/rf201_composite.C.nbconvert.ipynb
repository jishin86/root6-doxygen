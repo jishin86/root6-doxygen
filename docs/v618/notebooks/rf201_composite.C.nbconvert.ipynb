{
 "cells": [
  {
   "cell_type": "markdown",
   "metadata": {},
   "source": [
    "# Rf 2 0 1_Composite\n",
    "Addition and convolution: composite p.d.f with signal and background component\n",
    "\n",
    " pdf = f_bkg * bkg(x,a0,a1) + (1-fbkg) * (f_sig1 * sig1(x,m,s1 + (1-f_sig1) * sig2(x,m,s2)))\n",
    "\n",
    "\n",
    "\n",
    "**Author:** 07/2008 - Wouter Verkerke  \n",
    "<i><small>This notebook tutorial was automatically generated with <a href= \"https://github.com/root-project/root/blob/master/documentation/doxygen/converttonotebook.py\">ROOTBOOK-izer</a> from the macro found in the ROOT repository  on Thursday, August 29, 2019 at 02:42 AM.</small></i>"
   ]
  },
  {
   "cell_type": "code",
   "execution_count": 1,
   "metadata": {
    "collapsed": false
   },
   "outputs": [],
   "source": [
    "%%cpp -d\n",
    "#include \"RooRealVar.h\"\n",
    "#include \"RooDataSet.h\"\n",
    "#include \"RooGaussian.h\"\n",
    "#include \"RooChebychev.h\"\n",
    "#include \"RooAddPdf.h\"\n",
    "#include \"TCanvas.h\"\n",
    "#include \"TAxis.h\"\n",
    "#include \"RooPlot.h\""
   ]
  },
  {
   "cell_type": "code",
   "execution_count": 2,
   "metadata": {
    "collapsed": false
   },
   "outputs": [],
   "source": [
    "%%cpp -d\n",
    "// This is a workaround to make sure the namespace is used inside functions\n",
    "using namespace RooFit;"
   ]
  },
  {
   "cell_type": "markdown",
   "metadata": {},
   "source": [
    "Setup component pdfs\n",
    " ---------------------------------------"
   ]
  },
  {
   "cell_type": "markdown",
   "metadata": {},
   "source": [
    "Declare observable x"
   ]
  },
  {
   "cell_type": "code",
   "execution_count": 3,
   "metadata": {
    "collapsed": false
   },
   "outputs": [
    {
     "name": "stdout",
     "output_type": "stream",
     "text": [
      "\n",
      "\u001b[1mRooFit v3.60 -- Developed by Wouter Verkerke and David Kirkby\u001b[0m \n",
      "                Copyright (C) 2000-2013 NIKHEF, University of California & Stanford University\n",
      "                All rights reserved, please read http://roofit.sourceforge.net/license.txt\n",
      "\n"
     ]
    }
   ],
   "source": [
    "RooRealVar x(\"x\", \"x\", 0, 10);"
   ]
  },
  {
   "cell_type": "markdown",
   "metadata": {},
   "source": [
    "Create two gaussian pdfs g1(x,mean1,sigma) anf g2(x,mean2,sigma) and their parameters"
   ]
  },
  {
   "cell_type": "code",
   "execution_count": 4,
   "metadata": {
    "collapsed": false
   },
   "outputs": [],
   "source": [
    "RooRealVar mean(\"mean\", \"mean of gaussians\", 5);\n",
    "RooRealVar sigma1(\"sigma1\", \"width of gaussians\", 0.5);\n",
    "RooRealVar sigma2(\"sigma2\", \"width of gaussians\", 1);\n",
    "\n",
    "RooGaussian sig1(\"sig1\", \"Signal component 1\", x, mean, sigma1);\n",
    "RooGaussian sig2(\"sig2\", \"Signal component 2\", x, mean, sigma2);"
   ]
  },
  {
   "cell_type": "markdown",
   "metadata": {},
   "source": [
    "Build chebychev polynomial p.d.f."
   ]
  },
  {
   "cell_type": "code",
   "execution_count": 5,
   "metadata": {
    "collapsed": false
   },
   "outputs": [],
   "source": [
    "RooRealVar a0(\"a0\", \"a0\", 0.5, 0., 1.);\n",
    "RooRealVar a1(\"a1\", \"a1\", 0.2, 0., 1.);\n",
    "RooChebychev bkg(\"bkg\", \"Background\", x, RooArgSet(a0, a1));"
   ]
  },
  {
   "cell_type": "markdown",
   "metadata": {},
   "source": [
    "---------------------------------------------\n",
    "METHOD 1-Two RooAddPdfs\n",
    " ============================================="
   ]
  },
  {
   "cell_type": "markdown",
   "metadata": {},
   "source": [
    "Add signal components\n",
    " ------------------------------------------"
   ]
  },
  {
   "cell_type": "markdown",
   "metadata": {},
   "source": [
    "Sum the signal components into a composite signal p.d.f."
   ]
  },
  {
   "cell_type": "code",
   "execution_count": 6,
   "metadata": {
    "collapsed": false
   },
   "outputs": [],
   "source": [
    "RooRealVar sig1frac(\"sig1frac\", \"fraction of component 1 in signal\", 0.8, 0., 1.);\n",
    "RooAddPdf sig(\"sig\", \"Signal\", RooArgList(sig1, sig2), sig1frac);"
   ]
  },
  {
   "cell_type": "markdown",
   "metadata": {},
   "source": [
    "Add signal and background\n",
    " ------------------------------------------------"
   ]
  },
  {
   "cell_type": "markdown",
   "metadata": {},
   "source": [
    "Sum the composite signal and background"
   ]
  },
  {
   "cell_type": "code",
   "execution_count": 7,
   "metadata": {
    "collapsed": false
   },
   "outputs": [],
   "source": [
    "RooRealVar bkgfrac(\"bkgfrac\", \"fraction of background\", 0.5, 0., 1.);\n",
    "RooAddPdf model(\"model\", \"g1+g2+a\", RooArgList(bkg, sig), bkgfrac);"
   ]
  },
  {
   "cell_type": "markdown",
   "metadata": {},
   "source": [
    "Sample, fit and plot model\n",
    " ---------------------------------------------------"
   ]
  },
  {
   "cell_type": "markdown",
   "metadata": {},
   "source": [
    "Generate a data sample of 1000 events in x from model"
   ]
  },
  {
   "cell_type": "code",
   "execution_count": 8,
   "metadata": {
    "collapsed": false
   },
   "outputs": [],
   "source": [
    "RooDataSet *data = model.generate(x, 1000);"
   ]
  },
  {
   "cell_type": "markdown",
   "metadata": {},
   "source": [
    "Fit model to data"
   ]
  },
  {
   "cell_type": "code",
   "execution_count": 9,
   "metadata": {
    "collapsed": false
   },
   "outputs": [
    {
     "name": "stdout",
     "output_type": "stream",
     "text": [
      "[#1] INFO:Minization -- RooMinimizer::optimizeConst: activating const optimization\n",
      "[#1] INFO:Minization --  The following expressions have been identified as constant and will be precalculated and cached: (sig1,sig2)\n",
      "[#1] INFO:Minization --  The following expressions will be evaluated in cache-and-track mode: (bkg)\n",
      " **********\n",
      " **    1 **SET PRINT           1\n",
      " **********\n",
      " **********\n",
      " **    2 **SET NOGRAD\n",
      " **********\n",
      " PARAMETER DEFINITIONS:\n",
      "    NO.   NAME         VALUE      STEP SIZE      LIMITS\n",
      "     1 a0           5.00000e-01  1.00000e-01    0.00000e+00  1.00000e+00\n",
      "     2 a1           2.00000e-01  1.00000e-01    0.00000e+00  1.00000e+00\n",
      "     3 bkgfrac      5.00000e-01  1.00000e-01    0.00000e+00  1.00000e+00\n",
      "     4 sig1frac     8.00000e-01  1.00000e-01    0.00000e+00  1.00000e+00\n",
      " **********\n",
      " **    3 **SET ERR         0.5\n",
      " **********\n",
      " **********\n",
      " **    4 **SET PRINT           1\n",
      " **********\n",
      " **********\n",
      " **    5 **SET STR           1\n",
      " **********\n",
      " NOW USING STRATEGY  1: TRY TO BALANCE SPEED AGAINST RELIABILITY\n",
      " **********\n",
      " **    6 **MIGRAD        2000           1\n",
      " **********\n",
      " FIRST CALL TO USER FUNCTION AT NEW START POINT, WITH IFLAG=4.\n",
      " START MIGRAD MINIMIZATION.  STRATEGY  1.  CONVERGENCE WHEN EDM .LT. 1.00e-03\n",
      " FCN=1962.68 FROM MIGRAD    STATUS=INITIATE       10 CALLS          11 TOTAL\n",
      "                     EDM= unknown      STRATEGY= 1      NO ERROR MATRIX       \n",
      "  EXT PARAMETER               CURRENT GUESS       STEP         FIRST   \n",
      "  NO.   NAME      VALUE            ERROR          SIZE      DERIVATIVE \n",
      "   1  a0           5.00000e-01   1.00000e-01   2.01358e-01   5.55984e+00\n",
      "   2  a1           2.00000e-01   1.00000e-01   2.57889e-01  -1.57464e+00\n",
      "   3  bkgfrac      5.00000e-01   1.00000e-01   2.01358e-01   1.16417e+00\n",
      "   4  sig1frac     8.00000e-01   1.00000e-01   2.57889e-01  -2.02114e+00\n",
      "                               ERR DEF= 0.5\n",
      " MIGRAD MINIMIZATION HAS CONVERGED.\n",
      " MIGRAD WILL VERIFY CONVERGENCE AND ERROR MATRIX.\n",
      " COVARIANCE MATRIX CALCULATED SUCCESSFULLY\n",
      " FCN=1962.27 FROM MIGRAD    STATUS=CONVERGED      77 CALLS          78 TOTAL\n",
      "                     EDM=2.21873e-05    STRATEGY= 1      ERROR MATRIX ACCURATE \n",
      "  EXT PARAMETER                                   STEP         FIRST   \n",
      "  NO.   NAME      VALUE            ERROR          SIZE      DERIVATIVE \n",
      "   1  a0           4.41621e-01   7.31971e-02   4.49448e-03  -2.95364e-02\n",
      "   2  a1           2.01070e-01   1.18164e-01   5.76018e-03   4.48544e-03\n",
      "   3  bkgfrac      5.04184e-01   3.60469e-02   1.24368e-03  -2.15278e-02\n",
      "   4  sig1frac     8.37334e-01   1.17186e-01   6.00443e-03   1.16304e-03\n",
      "                               ERR DEF= 0.5\n",
      " EXTERNAL ERROR MATRIX.    NDIM=  25    NPAR=  4    ERR DEF=0.5\n",
      "  5.397e-03  1.212e-03 -3.088e-04 -1.017e-03 \n",
      "  1.212e-03  1.439e-02 -3.249e-03 -9.741e-03 \n",
      " -3.088e-04 -3.249e-03  1.302e-03  3.287e-03 \n",
      " -1.017e-03 -9.741e-03  3.287e-03  1.422e-02 \n",
      " PARAMETER  CORRELATION COEFFICIENTS  \n",
      "       NO.  GLOBAL      1      2      3      4\n",
      "        1  0.14102   1.000  0.138 -0.117 -0.116\n",
      "        2  0.77022   0.138  1.000 -0.751 -0.681\n",
      "        3  0.82636  -0.117 -0.751  1.000  0.764\n",
      "        4  0.78133  -0.116 -0.681  0.764  1.000\n",
      " **********\n",
      " **    7 **SET ERR         0.5\n",
      " **********\n",
      " **********\n",
      " **    8 **SET PRINT           1\n",
      " **********\n",
      " **********\n",
      " **    9 **HESSE        2000\n",
      " **********\n",
      " COVARIANCE MATRIX CALCULATED SUCCESSFULLY\n",
      " FCN=1962.27 FROM HESSE     STATUS=OK             23 CALLS         101 TOTAL\n",
      "                     EDM=2.21633e-05    STRATEGY= 1      ERROR MATRIX ACCURATE \n",
      "  EXT PARAMETER                                INTERNAL      INTERNAL  \n",
      "  NO.   NAME      VALUE            ERROR       STEP SIZE       VALUE   \n",
      "   1  a0           4.41621e-01   7.31875e-02   8.98897e-04  -1.17025e-01\n",
      "   2  a1           2.01070e-01   1.17637e-01   2.30407e-04  -6.40829e-01\n",
      "   3  bkgfrac      5.04184e-01   3.59091e-02   2.48735e-04   8.36870e-03\n",
      "   4  sig1frac     8.37334e-01   1.16852e-01   2.40177e-04   7.40515e-01\n",
      "                               ERR DEF= 0.5\n",
      " EXTERNAL ERROR MATRIX.    NDIM=  25    NPAR=  4    ERR DEF=0.5\n",
      "  5.396e-03  1.199e-03 -3.049e-04 -1.005e-03 \n",
      "  1.199e-03  1.426e-02 -3.211e-03 -9.629e-03 \n",
      " -3.049e-04 -3.211e-03  1.292e-03  3.259e-03 \n",
      " -1.005e-03 -9.629e-03  3.259e-03  1.414e-02 \n",
      " PARAMETER  CORRELATION COEFFICIENTS  \n",
      "       NO.  GLOBAL      1      2      3      4\n",
      "        1  0.14012   1.000  0.137 -0.116 -0.115\n",
      "        2  0.76777   0.137  1.000 -0.748 -0.678\n",
      "        3  0.82488  -0.116 -0.748  1.000  0.763\n",
      "        4  0.77985  -0.115 -0.678  0.763  1.000\n",
      "[#1] INFO:Minization -- RooMinimizer::optimizeConst: deactivating const optimization\n"
     ]
    }
   ],
   "source": [
    "model.fitTo(*data);"
   ]
  },
  {
   "cell_type": "markdown",
   "metadata": {},
   "source": [
    "Plot data and pdf overlaid"
   ]
  },
  {
   "cell_type": "code",
   "execution_count": 10,
   "metadata": {
    "collapsed": false
   },
   "outputs": [],
   "source": [
    "RooPlot *xframe = x.frame(Title(\"Example of composite pdf=(sig1+sig2)+bkg\"));\n",
    "data->plotOn(xframe);\n",
    "model.plotOn(xframe);"
   ]
  },
  {
   "cell_type": "markdown",
   "metadata": {},
   "source": [
    "Overlay the background component of model with a dashed line"
   ]
  },
  {
   "cell_type": "code",
   "execution_count": 11,
   "metadata": {
    "collapsed": false
   },
   "outputs": [
    {
     "name": "stdout",
     "output_type": "stream",
     "text": [
      "[#1] INFO:Plotting -- RooAbsPdf::plotOn(model) directly selected PDF components: (bkg)\n",
      "[#1] INFO:Plotting -- RooAbsPdf::plotOn(model) indirectly selected PDF components: ()\n"
     ]
    }
   ],
   "source": [
    "model.plotOn(xframe, Components(bkg), LineStyle(kDashed));"
   ]
  },
  {
   "cell_type": "markdown",
   "metadata": {},
   "source": [
    "Overlay the background+sig2 components of model with a dotted line"
   ]
  },
  {
   "cell_type": "code",
   "execution_count": 12,
   "metadata": {
    "collapsed": false
   },
   "outputs": [
    {
     "name": "stdout",
     "output_type": "stream",
     "text": [
      "[#1] INFO:Plotting -- RooAbsPdf::plotOn(model) directly selected PDF components: (bkg,sig2)\n",
      "[#1] INFO:Plotting -- RooAbsPdf::plotOn(model) indirectly selected PDF components: (sig)\n"
     ]
    }
   ],
   "source": [
    "model.plotOn(xframe, Components(RooArgSet(bkg, sig2)), LineStyle(kDotted));"
   ]
  },
  {
   "cell_type": "markdown",
   "metadata": {},
   "source": [
    "Print structure of composite p.d.f."
   ]
  },
  {
   "cell_type": "code",
   "execution_count": 13,
   "metadata": {
    "collapsed": false
   },
   "outputs": [
    {
     "name": "stdout",
     "output_type": "stream",
     "text": [
      "0x7fdf49b2e3a8 RooAddPdf::model = 0.898624 [Auto,Dirty] \n",
      "  0x7fdf4add8b08/V- RooChebychev::bkg = 0.79893 [Auto,Dirty] \n",
      "    0x7fdf4add8010/V- RooRealVar::x = 5\n",
      "    0x7fdf4add83b8/V- RooRealVar::a0 = 0.441621 +/- 0.0731875\n",
      "    0x7fdf4add8760/V- RooRealVar::a1 = 0.20107 +/- 0.117637\n",
      "  0x7fdf49b2e000/V- RooRealVar::bkgfrac = 0.504184 +/- 0.0359091\n",
      "  0x7fdf49b36870/V- RooAddPdf::sig = 1 [Auto,Dirty] \n",
      "    0x7fdf49b35af8/V- RooGaussian::sig1 = 1 [Auto,Dirty] \n",
      "      0x7fdf4add8010/V- RooRealVar::x = 5\n",
      "      0x7fdf49b35000/V- RooRealVar::mean = 5\n",
      "      0x7fdf49b353a8/V- RooRealVar::sigma1 = 0.5\n",
      "    0x7fdf49b364c8/V- RooRealVar::sig1frac = 0.837334 +/- 0.116852\n",
      "    0x7fdf49b35fe0/V- RooGaussian::sig2 = 1 [Auto,Dirty] \n",
      "      0x7fdf4add8010/V- RooRealVar::x = 5\n",
      "      0x7fdf49b35000/V- RooRealVar::mean = 5\n",
      "      0x7fdf49b35750/V- RooRealVar::sigma2 = 1\n"
     ]
    }
   ],
   "source": [
    "model.Print(\"t\");"
   ]
  },
  {
   "cell_type": "markdown",
   "metadata": {},
   "source": [
    "---------------------------------------------------------------------------------------------\n",
    "METHOD 2-One RooAddPdf with recursive fractions\n",
    " ============================================================================================="
   ]
  },
  {
   "cell_type": "markdown",
   "metadata": {},
   "source": [
    "Construct sum of models on one go using recursive fraction interpretations\n",
    "\n",
    "   model2 = bkg + (sig1 + sig2)"
   ]
  },
  {
   "cell_type": "code",
   "execution_count": 14,
   "metadata": {
    "collapsed": false
   },
   "outputs": [],
   "source": [
    "RooAddPdf model2(\"model\", \"g1+g2+a\", RooArgList(bkg, sig1, sig2), RooArgList(bkgfrac, sig1frac), kTRUE);"
   ]
  },
  {
   "cell_type": "markdown",
   "metadata": {},
   "source": [
    "Nb: each coefficient is interpreted as the fraction of the\n",
    " left-hand component of the i-th recursive sum, i.e.\n",
    "\n",
    "   sum4 = A + ( B + ( C + D)  with fraction fA, fB and fC expands to\n",
    "\n",
    "   sum4 = fA*A + (1-fA)*(fB*B + (1-fB)*(fC*C + (1-fC)*D))"
   ]
  },
  {
   "cell_type": "markdown",
   "metadata": {},
   "source": [
    "Plot recursive addition model\n",
    " ---------------------------------------------------------"
   ]
  },
  {
   "cell_type": "code",
   "execution_count": 15,
   "metadata": {
    "collapsed": false
   },
   "outputs": [
    {
     "name": "stdout",
     "output_type": "stream",
     "text": [
      "[#1] INFO:Plotting -- RooAbsPdf::plotOn(model) directly selected PDF components: (bkg,sig2)\n",
      "[#1] INFO:Plotting -- RooAbsPdf::plotOn(model) indirectly selected PDF components: ()\n",
      "0x7fdf3d22f000 RooAddPdf::model = 0.898624 [Auto,Dirty] \n",
      "  0x7fdf4add8b08/V- RooChebychev::bkg = 0.79893 [Auto,Dirty] \n",
      "    0x7fdf4add8010/V- RooRealVar::x = 5\n",
      "    0x7fdf4add83b8/V- RooRealVar::a0 = 0.441621 +/- 0.0731875\n",
      "    0x7fdf4add8760/V- RooRealVar::a1 = 0.20107 +/- 0.117637\n",
      "  0x7fdf49b2e000/V- RooRealVar::bkgfrac = 0.504184 +/- 0.0359091\n",
      "  0x7fdf49b35af8/V- RooGaussian::sig1 = 1 [Auto,Dirty] \n",
      "    0x7fdf4add8010/V- RooRealVar::x = 5\n",
      "    0x7fdf49b35000/V- RooRealVar::mean = 5\n",
      "    0x7fdf49b353a8/V- RooRealVar::sigma1 = 0.5\n",
      "  0x7fdf28041b00/V- RooRecursiveFraction::model_recursive_fraction_sig1 = 0.415163 [Auto,Clean] \n",
      "    0x7fdf49b364c8/V- RooRealVar::sig1frac = 0.837334 +/- 0.116852\n",
      "    0x7fdf49b2e000/V- RooRealVar::bkgfrac = 0.504184 +/- 0.0359091\n",
      "  0x7fdf49b35fe0/V- RooGaussian::sig2 = 1 [Auto,Dirty] \n",
      "    0x7fdf4add8010/V- RooRealVar::x = 5\n",
      "    0x7fdf49b35000/V- RooRealVar::mean = 5\n",
      "    0x7fdf49b35750/V- RooRealVar::sigma2 = 1\n",
      "  0x7fdf284cd660/V- RooRecursiveFraction::model_recursive_fraction_sig2 = 0.0806524 [Auto,Clean] \n",
      "    0x7fdf284598d0/V- RooConstVar::1 = 1\n",
      "    0x7fdf49b364c8/V- RooRealVar::sig1frac = 0.837334 +/- 0.116852\n",
      "    0x7fdf49b2e000/V- RooRealVar::bkgfrac = 0.504184 +/- 0.0359091\n"
     ]
    }
   ],
   "source": [
    "model2.plotOn(xframe, LineColor(kRed), LineStyle(kDashed));\n",
    "model2.plotOn(xframe, Components(RooArgSet(bkg, sig2)), LineColor(kRed), LineStyle(kDashed));\n",
    "model2.Print(\"t\");"
   ]
  },
  {
   "cell_type": "markdown",
   "metadata": {},
   "source": [
    "Draw the frame on the canvas"
   ]
  },
  {
   "cell_type": "code",
   "execution_count": 16,
   "metadata": {
    "collapsed": false
   },
   "outputs": [],
   "source": [
    "new TCanvas(\"rf201_composite\", \"rf201_composite\", 600, 600);\n",
    "gPad->SetLeftMargin(0.15);\n",
    "xframe->GetYaxis()->SetTitleOffset(1.4);\n",
    "xframe->Draw();"
   ]
  },
  {
   "cell_type": "markdown",
   "metadata": {},
   "source": [
    "Draw all canvases "
   ]
  },
  {
   "cell_type": "code",
   "execution_count": 17,
   "metadata": {
    "collapsed": false
   },
   "outputs": [
    {
     "data": {
      "text/html": [
       "\n",
       "<div id=\"root_plot_1\"\n",
       "     style=\"width: 596px; height: 572px\">\n",
       "</div>\n",
       "\n",
       "<script>\n",
       " requirejs.config({\n",
       "     paths: {\n",
       "       'JSRootCore' : 'https://root.cern.ch/js/notebook//scripts/JSRootCore',\n",
       "     }\n",
       "   });\n",
       " require(['JSRootCore'],\n",
       "     function(Core) {\n",
       "       var obj = Core.JSONR_unref({\"_typename\":\"TCanvas\",\"fUniqueID\":0,\"fBits\":53673992,\"fLineColor\":1,\"fLineStyle\":1,\"fLineWidth\":1,\"fFillColor\":0,\"fFillStyle\":1001,\"fLeftMargin\":0.15,\"fRightMargin\":0.1,\"fBottomMargin\":0.1,\"fTopMargin\":0.1,\"fXfile\":2,\"fYfile\":2,\"fAfile\":1,\"fXstat\":0.99,\"fYstat\":0.99,\"fAstat\":2,\"fFrameFillColor\":0,\"fFrameLineColor\":1,\"fFrameFillStyle\":1001,\"fFrameLineStyle\":1,\"fFrameLineWidth\":1,\"fFrameBorderSize\":1,\"fFrameBorderMode\":0,\"fX1\":-2.00000007947286,\"fY1\":-7.06538344638929,\"fX2\":11.3333333532015,\"fY2\":63.588446806207,\"fXtoAbsPixelk\":89.4000528863549,\"fXtoPixelk\":89.4000528863549,\"fXtoPixel\":44.6999996669591,\"fYtoAbsPixelk\":514.800046590614,\"fYtoPixelk\":514.800046590614,\"fYtoPixel\":-8.09581020526458,\"fUtoAbsPixelk\":5e-5,\"fUtoPixelk\":5e-5,\"fUtoPixel\":596,\"fVtoAbsPixelk\":572.00005,\"fVtoPixelk\":572,\"fVtoPixel\":-572,\"fAbsPixeltoXk\":-2.00000007947286,\"fPixeltoXk\":-2.00000007947286,\"fPixeltoX\":0.0223713648199235,\"fAbsPixeltoYk\":63.588446806207,\"fPixeltoYk\":-7.06538344638929,\"fPixeltoY\":-0.123520682259784,\"fXlowNDC\":0,\"fYlowNDC\":0,\"fXUpNDC\":0,\"fYUpNDC\":0,\"fWNDC\":1,\"fHNDC\":1,\"fAbsXlowNDC\":0,\"fAbsYlowNDC\":0,\"fAbsWNDC\":1,\"fAbsHNDC\":1,\"fUxmin\":0,\"fUymin\":0,\"fUxmax\":10,\"fUymax\":56.5230633598177,\"fTheta\":30,\"fPhi\":30,\"fAspectRatio\":0,\"fNumber\":0,\"fTickx\":0,\"fTicky\":0,\"fLogx\":0,\"fLogy\":0,\"fLogz\":0,\"fPadPaint\":0,\"fCrosshair\":0,\"fCrosshairPos\":0,\"fBorderSize\":2,\"fBorderMode\":0,\"fModified\":false,\"fGridx\":false,\"fGridy\":false,\"fAbsCoord\":false,\"fEditable\":true,\"fFixedAspectRatio\":false,\"fPrimitives\":{\"_typename\":\"TList\",\"name\":\"TList\",\"arr\":[{\"_typename\":\"TFrame\",\"fUniqueID\":0,\"fBits\":50331656,\"fLineColor\":1,\"fLineStyle\":1,\"fLineWidth\":1,\"fFillColor\":0,\"fFillStyle\":1001,\"fX1\":0,\"fY1\":0,\"fX2\":10,\"fY2\":56.5230633598177,\"fBorderSize\":1,\"fBorderMode\":0},{\"_typename\":\"TH1D\",\"fUniqueID\":0,\"fBits\":50332168,\"fName\":\"frame_7fdf284a2c40\",\"fTitle\":\"Example of composite pdf=(sig1+sig2)+bkg\",\"fLineColor\":602,\"fLineStyle\":1,\"fLineWidth\":1,\"fFillColor\":0,\"fFillStyle\":1001,\"fMarkerColor\":1,\"fMarkerStyle\":1,\"fMarkerSize\":1,\"fNcells\":102,\"fXaxis\":{\"_typename\":\"TAxis\",\"fUniqueID\":0,\"fBits\":50331648,\"fName\":\"xaxis\",\"fTitle\":\"x\",\"fNdivisions\":510,\"fAxisColor\":1,\"fLabelColor\":1,\"fLabelFont\":42,\"fLabelOffset\":0.005,\"fLabelSize\":0.035,\"fTickLength\":0.03,\"fTitleOffset\":1,\"fTitleSize\":0.035,\"fTitleColor\":1,\"fTitleFont\":42,\"fNbins\":100,\"fXmin\":0,\"fXmax\":10,\"fXbins\":[],\"fFirst\":0,\"fLast\":0,\"fBits2\":0,\"fTimeDisplay\":false,\"fTimeFormat\":\"\",\"fLabels\":null,\"fModLabs\":null},\"fYaxis\":{\"_typename\":\"TAxis\",\"fUniqueID\":0,\"fBits\":50331648,\"fName\":\"yaxis\",\"fTitle\":\"Events \\/ ( 0.1 )\",\"fNdivisions\":510,\"fAxisColor\":1,\"fLabelColor\":1,\"fLabelFont\":42,\"fLabelOffset\":0.005,\"fLabelSize\":0.035,\"fTickLength\":0.03,\"fTitleOffset\":1.4,\"fTitleSize\":0.035,\"fTitleColor\":1,\"fTitleFont\":42,\"fNbins\":1,\"fXmin\":0,\"fXmax\":1,\"fXbins\":[],\"fFirst\":0,\"fLast\":0,\"fBits2\":0,\"fTimeDisplay\":false,\"fTimeFormat\":\"\",\"fLabels\":null,\"fModLabs\":null},\"fZaxis\":{\"_typename\":\"TAxis\",\"fUniqueID\":0,\"fBits\":50331648,\"fName\":\"zaxis\",\"fTitle\":\"\",\"fNdivisions\":510,\"fAxisColor\":1,\"fLabelColor\":1,\"fLabelFont\":42,\"fLabelOffset\":0.005,\"fLabelSize\":0.035,\"fTickLength\":0.03,\"fTitleOffset\":1,\"fTitleSize\":0.035,\"fTitleColor\":1,\"fTitleFont\":42,\"fNbins\":1,\"fXmin\":0,\"fXmax\":1,\"fXbins\":[],\"fFirst\":0,\"fLast\":0,\"fBits2\":0,\"fTimeDisplay\":false,\"fTimeFormat\":\"\",\"fLabels\":null,\"fModLabs\":null},\"fBarOffset\":0,\"fBarWidth\":1000,\"fEntries\":1,\"fTsumw\":0,\"fTsumw2\":0,\"fTsumwx\":0,\"fTsumwx2\":0,\"fMaximum\":56.5230633598177,\"fMinimum\":-1111,\"fNormFactor\":0,\"fContour\":[],\"fSumw2\":[],\"fOption\":\"\",\"fFunctions\":{\"_typename\":\"TList\",\"name\":\"TList\",\"arr\":[],\"opt\":[]},\"fBufferSize\":0,\"fBuffer\":[],\"fBinStatErrOpt\":0,\"fStatOverflows\":2,\"fArray\":[0,56.5230633598177,0,0,0,0,0,0,0,0,0,0,0,0,0,0,0,0,0,0,0,0,0,0,0,0,0,0,0,0,0,0,0,0,0,0,0,0,0,0,0,0,0,0,0,0,0,0,0,0,0,0,0,0,0,0,0,0,0,0,0,0,0,0,0,0,0,0,0,0,0,0,0,0,0,0,0,0,0,0,0,0,0,0,0,0,0,0,0,0,0,0,0,0,0,0,0,0,0,0,0,0]},{\"_typename\":\"RooHist\",\"fUniqueID\":0,\"fBits\":50332680,\"fName\":\"h_modelData\",\"fTitle\":\"Histogram of modelData_plot__x\",\"fLineColor\":1,\"fLineStyle\":1,\"fLineWidth\":1,\"fFillColor\":0,\"fFillStyle\":1000,\"fMarkerColor\":1,\"fMarkerStyle\":8,\"fMarkerSize\":1,\"fNpoints\":100,\"fX\":[0.05,0.15,0.25,0.35,0.45,0.55,0.65,0.75,0.85,0.95,1.05,1.15,1.25,1.35,1.45,1.55,1.65,1.75,1.85,1.95,2.05,2.15,2.25,2.35,2.45,2.55,2.65,2.75,2.85,2.95,3.05,3.15,3.25,3.35,3.45,3.55,3.65,3.75,3.85,3.95,4.05,4.15,4.25,4.35,4.45,4.55,4.65,4.75,4.85,4.95,5.05,5.15,5.25,5.35,5.45,5.55,5.65,5.75,5.85,5.95,6.05,6.15,6.25,6.35,6.45,6.55,6.65,6.75,6.85,6.95,7.05,7.15,7.25,7.35,7.45,7.55,7.65,7.75,7.85,7.95,8.05,8.15,8.25,8.35,8.45,8.55,8.65,8.75,8.85,8.95,9.05,9.15,9.25,9.35,9.45,9.55,9.65,9.75,9.85,9.95],\"fY\":[3,6,5,4,2,3,3,5,7,2,3,3,2,4,3,2,4,10,3,6,4,1,6,4,2,1,7,5,2,3,4,4,7,5,4,2,4,9,9,6,19,8,18,16,22,24,45,40,46,29,43,35,37,28,33,29,20,23,16,8,12,11,6,9,8,6,9,4,7,3,9,6,8,6,3,9,7,9,7,4,6,6,6,10,6,5,5,4,7,4,7,13,12,9,5,10,3,10,11,10],\"fFunctions\":{\"_typename\":\"TList\",\"name\":\"TList\",\"arr\":[],\"opt\":[]},\"fHistogram\":{\"_typename\":\"TH1F\",\"fUniqueID\":0,\"fBits\":50332168,\"fName\":\"h_modelData\",\"fTitle\":\"Histogram of modelData_plot__x\",\"fLineColor\":602,\"fLineStyle\":1,\"fLineWidth\":1,\"fFillColor\":0,\"fFillStyle\":1001,\"fMarkerColor\":1,\"fMarkerStyle\":1,\"fMarkerSize\":1,\"fNcells\":102,\"fXaxis\":{\"_typename\":\"TAxis\",\"fUniqueID\":0,\"fBits\":50331648,\"fName\":\"xaxis\",\"fTitle\":\"\",\"fNdivisions\":510,\"fAxisColor\":1,\"fLabelColor\":1,\"fLabelFont\":42,\"fLabelOffset\":0.005,\"fLabelSize\":0.035,\"fTickLength\":0.03,\"fTitleOffset\":1,\"fTitleSize\":0.035,\"fTitleColor\":1,\"fTitleFont\":42,\"fNbins\":100,\"fXmin\":0,\"fXmax\":11,\"fXbins\":[],\"fFirst\":0,\"fLast\":0,\"fBits2\":0,\"fTimeDisplay\":false,\"fTimeFormat\":\"\",\"fLabels\":null,\"fModLabs\":null},\"fYaxis\":{\"_typename\":\"TAxis\",\"fUniqueID\":0,\"fBits\":50331648,\"fName\":\"yaxis\",\"fTitle\":\"\",\"fNdivisions\":510,\"fAxisColor\":1,\"fLabelColor\":1,\"fLabelFont\":42,\"fLabelOffset\":0.005,\"fLabelSize\":0.035,\"fTickLength\":0.03,\"fTitleOffset\":0,\"fTitleSize\":0.035,\"fTitleColor\":1,\"fTitleFont\":42,\"fNbins\":1,\"fXmin\":0.155478401121105,\"fXmax\":59.197362427621,\"fXbins\":[],\"fFirst\":0,\"fLast\":0,\"fBits2\":0,\"fTimeDisplay\":false,\"fTimeFormat\":\"\",\"fLabels\":null,\"fModLabs\":null},\"fZaxis\":{\"_typename\":\"TAxis\",\"fUniqueID\":0,\"fBits\":50331648,\"fName\":\"zaxis\",\"fTitle\":\"\",\"fNdivisions\":510,\"fAxisColor\":1,\"fLabelColor\":1,\"fLabelFont\":42,\"fLabelOffset\":0.005,\"fLabelSize\":0.035,\"fTickLength\":0.03,\"fTitleOffset\":1,\"fTitleSize\":0.035,\"fTitleColor\":1,\"fTitleFont\":42,\"fNbins\":1,\"fXmin\":0,\"fXmax\":1,\"fXbins\":[],\"fFirst\":0,\"fLast\":0,\"fBits2\":0,\"fTimeDisplay\":false,\"fTimeFormat\":\"\",\"fLabels\":null,\"fModLabs\":null},\"fBarOffset\":0,\"fBarWidth\":1000,\"fEntries\":0,\"fTsumw\":0,\"fTsumw2\":0,\"fTsumwx\":0,\"fTsumwx2\":0,\"fMaximum\":59.197362427621,\"fMinimum\":0.155478401121105,\"fNormFactor\":0,\"fContour\":[],\"fSumw2\":[],\"fOption\":\"\",\"fFunctions\":{\"_typename\":\"TList\",\"name\":\"TList\",\"arr\":[],\"opt\":[]},\"fBufferSize\":0,\"fBuffer\":[],\"fBinStatErrOpt\":0,\"fStatOverflows\":2,\"fArray\":[0,0,0,0,0,0,0,0,0,0,0,0,0,0,0,0,0,0,0,0,0,0,0,0,0,0,0,0,0,0,0,0,0,0,0,0,0,0,0,0,0,0,0,0,0,0,0,0,0,0,0,0,0,0,0,0,0,0,0,0,0,0,0,0,0,0,0,0,0,0,0,0,0,0,0,0,0,0,0,0,0,0,0,0,0,0,0,0,0,0,0,0,0,0,0,0,0,0,0,0,0,0]},\"fMinimum\":-1111,\"fMaximum\":-1111,\"fEXlow\":[0.05,0.05,0.05,0.05,0.05,0.05,0.05,0.05,0.05,0.05,0.05,0.05,0.05,0.05,0.05,0.05,0.05,0.05,0.05,0.05,0.05,0.05,0.05,0.05,0.05,0.05,0.05,0.05,0.05,0.05,0.05,0.05,0.05,0.05,0.05,0.05,0.05,0.05,0.05,0.05,0.05,0.05,0.05,0.05,0.05,0.05,0.05,0.05,0.05,0.05,0.05,0.05,0.05,0.05,0.05,0.05,0.05,0.05,0.05,0.05,0.05,0.05,0.05,0.05,0.05,0.05,0.05,0.05,0.05,0.05,0.05,0.05,0.05,0.05,0.05,0.05,0.05,0.05,0.05,0.05,0.05,0.05,0.05,0.05,0.05,0.05,0.05,0.05,0.05,0.05,0.05,0.05,0.05,0.05,0.05,0.05,0.05,0.05,0.05,0.05],\"fEXhigh\":[0.05,0.05,0.05,0.05,0.05,0.05,0.05,0.05,0.05,0.05,0.05,0.05,0.05,0.05,0.05,0.05,0.05,0.05,0.05,0.05,0.05,0.05,0.05,0.05,0.05,0.05,0.05,0.05,0.05,0.05,0.05,0.05,0.05,0.05,0.05,0.05,0.05,0.05,0.05,0.05,0.05,0.05,0.05,0.05,0.05,0.05,0.05,0.05,0.05,0.05,0.05,0.05,0.05,0.05,0.05,0.05,0.05,0.05,0.05,0.05,0.05,0.05,0.05,0.05,0.05,0.05,0.05,0.05,0.05,0.05,0.05,0.05,0.05,0.05,0.05,0.05,0.05,0.05,0.05,0.05,0.05,0.05,0.05,0.05,0.05,0.05,0.05,0.05,0.05,0.05,0.05,0.05,0.05,0.05,0.05,0.05,0.05,0.05,0.05,0.05],\"fEYlow\":[1.63270468610957,2.37993137929577,2.15969114440678,1.91433918622288,1.29181456018103,1.63270468610957,1.63270468610957,2.15969114440678,2.58147045606626,1.29181456018103,1.63270468610957,1.63270468610957,1.29181456018103,1.91433918622288,1.63270468610957,1.29181456018103,1.91433918622288,3.10869443936164,1.63270468610957,2.37993137929577,1.91433918622288,0.82724622097655,2.37993137929577,1.91433918622288,1.29181456018103,0.82724622097655,2.58147045606626,2.15969114440678,1.29181456018103,1.63270468610957,1.91433918622288,1.91433918622288,2.58147045606626,2.15969114440678,1.91433918622288,1.29181456018103,1.91433918622288,2.94346103725076,2.94346103725076,2.37993137929577,4.32021937465496,2.76838605646272,4.20288721196007,3.95780102940381,4.65450239544497,4.86461220384528,6.68317934450653,6.29800017766426,6.75758099479102,5.35393156485154,6.53183400521367,5.88767477058538,6.05514266189532,5.25971089793461,5.71530168178358,5.35393156485154,4.43444798221412,4.76071662107231,3.95780102940381,2.76838605646272,3.41526599430015,3.26557940095131,2.37993137929577,2.94346103725076,2.76838605646272,2.37993137929577,2.94346103725076,1.91433918622288,2.58147045606626,1.63270468610957,2.94346103725076,2.37993137929577,2.76838605646272,2.37993137929577,1.63270468610957,2.94346103725076,2.58147045606626,2.94346103725076,2.58147045606626,1.91433918622288,2.37993137929577,2.37993137929577,2.37993137929577,3.10869443936164,2.37993137929577,2.15969114440678,2.15969114440678,1.91433918622288,2.58147045606626,1.91433918622288,2.58147045606626,3.5586623304375,3.41526599430015,2.94346103725076,2.15969114440678,3.10869443936164,1.63270468610957,3.10869443936164,3.26557940095131,3.10869443936164],\"fEYhigh\":[2.9181858328834,3.58364154598457,3.38247265214689,3.16275317226094,2.63785962345524,2.9181858328834,2.9181858328834,3.38247265214689,3.77028072043409,2.63785962345524,2.9181858328834,2.9181858328834,2.63785962345524,3.16275317226094,2.9181858328834,2.63785962345524,3.16275317226094,4.26694976100939,2.9181858328834,3.58364154598457,3.16275317226094,2.29952655911586,3.58364154598457,3.16275317226094,2.63785962345524,2.29952655911586,3.77028072043409,3.38247265214689,2.63785962345524,2.9181858328834,3.16275317226094,3.16275317226094,3.77028072043409,3.38247265214689,3.16275317226094,2.63785962345524,3.16275317226094,4.11020413766764,4.11020413766764,3.58364154598457,5.4351961614818,3.94514151986907,5.32100732238368,5.08306556401624,5.76136640411342,5.96693206711369,7.75790450041968,7.37726075879658,7.83148891411209,6.44701964227479,7.60827827535264,6.97240965830357,7.13755508118677,6.35444601200602,6.80256676451212,6.44701964227479,5.54651922951146,5.8652346956897,5.08306556401624,3.94514151986907,4.55981905739127,4.41652052316603,3.58364154598457,4.11020413766764,3.94514151986907,3.58364154598457,4.11020413766764,3.16275317226094,3.77028072043409,2.9181858328834,4.11020413766764,3.58364154598457,3.94514151986907,3.58364154598457,2.9181858328834,4.11020413766764,3.77028072043409,4.11020413766764,3.77028072043409,3.16275317226094,3.58364154598457,3.58364154598457,3.58364154598457,4.26694976100939,3.58364154598457,3.38247265214689,3.38247265214689,3.16275317226094,3.77028072043409,3.16275317226094,3.77028072043409,4.69757337260906,4.55981905739127,4.11020413766764,3.38247265214689,4.26694976100939,2.9181858328834,4.26694976100939,4.41652052316603,4.26694976100939],\"_yAxisLabel\":\"Events \\/ ( 0.1 )\",\"_ymin\":0,\"_ymax\":53.8314889141121,\"_normValue\":0,\"_nominalBinWidth\":0.1,\"_nSigma\":1,\"_entries\":1000,\"_rawEntries\":-1},{\"_typename\":\"RooCurve\",\"fUniqueID\":0,\"fBits\":50332680,\"fName\":\"model_Norm[x]\",\"fTitle\":\"Projection of g1+g2+a\",\"fLineColor\":600,\"fLineStyle\":1,\"fLineWidth\":3,\"fFillColor\":0,\"fFillStyle\":1000,\"fMarkerColor\":1,\"fMarkerStyle\":1,\"fMarkerSize\":1,\"fNpoints\":134,\"fX\":[-0.1,-0.1,0,0.1,0.2,0.3,0.4,0.5,0.6,0.7,0.8,0.9,1,1.1,1.2,1.3,1.4,1.5,1.6,1.7,1.8,1.9,2,2.1,2.2,2.3,2.4,2.5,2.6,2.7,2.8,2.9,3,3.1,3.2,3.3,3.4,3.5,3.6,3.7,3.75,3.8,3.85,3.9,3.95,4,4.05,4.1,4.15,4.2,4.25,4.3,4.35,4.4,4.5,4.6,4.65,4.7,4.75,4.8,4.85,4.875,4.9,4.925,4.95,4.975,5,5.025,5.05,5.075,5.1,5.125,5.15,5.2,5.25,5.3,5.35,5.4,5.5,5.6,5.65,5.7,5.75,5.8,5.85,5.9,5.95,6,6.05,6.1,6.15,6.2,6.25,6.3,6.4,6.5,6.6,6.7,6.8,6.9,7,7.1,7.2,7.3,7.4,7.5,7.6,7.7,7.8,7.9,8,8.1,8.2,8.3,8.4,8.5,8.6,8.7,8.8,8.9,9,9.1,9.2,9.3,9.4,9.5,9.6,9.7,9.8,9.9,10,10,10.1,10.1],\"fY\":[0,4.10410468619458,4.10410468619458,4.06578513214071,4.02920872144589,3.99437800345805,3.96129681975808,3.9299708915182,3.90040863868337,3.8726223055366,3.8466294835866,3.82245513938282,3.80013427012103,3.7797153212845,3.76126450475193,3.74487114861438,3.73065418646091,3.71876984876499,3.70942054699403,3.70286483797475,3.69942822024487,3.69951434926582,3.70361607874294,3.71232557682323,3.72634270904462,3.74648109489398,3.77367207482668,3.80896892030506,3.85355812109321,3.90879329014538,3.97628257317626,4.05808495393641,4.15710549835854,4.27782071066248,4.42749982947656,4.61808910133646,4.86885145134714,5.20965315103022,5.68442537616463,6.35381581115355,6.78516924985069,7.29549052554508,7.89650217471701,8.60017346865085,9.41824393687172,10.361635261001,11.4397626712264,12.659767497698,14.0257036507693,15.5377215702616,17.1913024610092,18.976602205508,20.8779670473365,22.8736809981174,27.0314930968338,31.1644835691571,33.1147201116874,34.9265916996678,36.5550489521019,37.9577693033937,39.0970262571383,39.557754270981,39.9414224046306,40.2453388890608,40.4673749338555,40.6059908891045,40.6602552637114,40.6298562703739,40.5151056963943,40.3169350328689,40.0368839297081,39.6770811773278,39.2402185447544,38.1486923535485,36.7937027647955,35.2129762749001,33.4488354494584,31.5463296694668,27.5088007222209,23.446450148582,21.4984669603399,19.6448328810501,17.90726389909,16.3014137708811,14.8371266139275,13.5189212233949,12.346647159462,11.3162505117754,10.4205899501848,9.65025024450266,8.99430971310753,8.44102882647433,7.97843831331866,7.59481563716023,7.02088672724876,6.64157602719179,6.39623585258614,6.2409350276529,6.14580728087044,6.0915896871338,6.0663359999073,6.0627769805626,6.07643612487989,6.10440836692645,6.14463472295172,6.19550704724101,6.25567172684006,6.3239422719848,6.39926541121288,6.48070980406893,6.56746183106607,6.65882162666639,6.75419702272288,6.85309516553019,6.95511239962691,7.05992322647531,7.16726908924866,7.27694757647957,7.38880245769456,7.50271479930457,7.61859527321854,7.73637766755776,7.85601353683898,7.97746788386642,8.10071574209062,8.2257395200029,8.35252697332022,8.48106968209762,8.6113619251629,8.74339986093516,8.87718094006646,8.87718094006646,8.87718094006646,0],\"fFunctions\":{\"_typename\":\"TList\",\"name\":\"TList\",\"arr\":[],\"opt\":[]},\"fHistogram\":{\"_typename\":\"TH1F\",\"fUniqueID\":0,\"fBits\":50332168,\"fName\":\"model_Norm[x]\",\"fTitle\":\"Projection of g1+g2+a\",\"fLineColor\":602,\"fLineStyle\":1,\"fLineWidth\":1,\"fFillColor\":0,\"fFillStyle\":1001,\"fMarkerColor\":1,\"fMarkerStyle\":1,\"fMarkerSize\":1,\"fNcells\":136,\"fXaxis\":{\"_typename\":\"TAxis\",\"fUniqueID\":0,\"fBits\":50331648,\"fName\":\"xaxis\",\"fTitle\":\"\",\"fNdivisions\":510,\"fAxisColor\":1,\"fLabelColor\":1,\"fLabelFont\":42,\"fLabelOffset\":0.005,\"fLabelSize\":0.035,\"fTickLength\":0.03,\"fTitleOffset\":1,\"fTitleSize\":0.035,\"fTitleColor\":1,\"fTitleFont\":42,\"fNbins\":134,\"fXmin\":-1.12,\"fXmax\":11.12,\"fXbins\":[],\"fFirst\":0,\"fLast\":0,\"fBits2\":0,\"fTimeDisplay\":false,\"fTimeFormat\":\"\",\"fLabels\":null,\"fModLabs\":null},\"fYaxis\":{\"_typename\":\"TAxis\",\"fUniqueID\":0,\"fBits\":50331648,\"fName\":\"yaxis\",\"fTitle\":\"\",\"fNdivisions\":510,\"fAxisColor\":1,\"fLabelColor\":1,\"fLabelFont\":42,\"fLabelOffset\":0.005,\"fLabelSize\":0.035,\"fTickLength\":0.03,\"fTitleOffset\":0,\"fTitleSize\":0.035,\"fTitleColor\":1,\"fTitleFont\":42,\"fNbins\":1,\"fXmin\":0,\"fXmax\":44.7262807900825,\"fXbins\":[],\"fFirst\":0,\"fLast\":0,\"fBits2\":0,\"fTimeDisplay\":false,\"fTimeFormat\":\"\",\"fLabels\":null,\"fModLabs\":null},\"fZaxis\":{\"_typename\":\"TAxis\",\"fUniqueID\":0,\"fBits\":50331648,\"fName\":\"zaxis\",\"fTitle\":\"\",\"fNdivisions\":510,\"fAxisColor\":1,\"fLabelColor\":1,\"fLabelFont\":42,\"fLabelOffset\":0.005,\"fLabelSize\":0.035,\"fTickLength\":0.03,\"fTitleOffset\":1,\"fTitleSize\":0.035,\"fTitleColor\":1,\"fTitleFont\":42,\"fNbins\":1,\"fXmin\":0,\"fXmax\":1,\"fXbins\":[],\"fFirst\":0,\"fLast\":0,\"fBits2\":0,\"fTimeDisplay\":false,\"fTimeFormat\":\"\",\"fLabels\":null,\"fModLabs\":null},\"fBarOffset\":0,\"fBarWidth\":1000,\"fEntries\":0,\"fTsumw\":0,\"fTsumw2\":0,\"fTsumwx\":0,\"fTsumwx2\":0,\"fMaximum\":44.7262807900825,\"fMinimum\":0,\"fNormFactor\":0,\"fContour\":[],\"fSumw2\":[],\"fOption\":\"\",\"fFunctions\":{\"_typename\":\"TList\",\"name\":\"TList\",\"arr\":[],\"opt\":[]},\"fBufferSize\":0,\"fBuffer\":[],\"fBinStatErrOpt\":0,\"fStatOverflows\":2,\"fArray\":[0,0,0,0,0,0,0,0,0,0,0,0,0,0,0,0,0,0,0,0,0,0,0,0,0,0,0,0,0,0,0,0,0,0,0,0,0,0,0,0,0,0,0,0,0,0,0,0,0,0,0,0,0,0,0,0,0,0,0,0,0,0,0,0,0,0,0,0,0,0,0,0,0,0,0,0,0,0,0,0,0,0,0,0,0,0,0,0,0,0,0,0,0,0,0,0,0,0,0,0,0,0,0,0,0,0,0,0,0,0,0,0,0,0,0,0,0,0,0,0,0,0,0,0,0,0,0,0,0,0,0,0,0,0,0,0]},\"fMinimum\":-1111,\"fMaximum\":-1111,\"_yAxisLabel\":\"Projection of g1+g2+a\",\"_ymin\":0,\"_ymax\":40.6602552637114,\"_normValue\":0},{\"_typename\":\"RooCurve\",\"fUniqueID\":0,\"fBits\":50332680,\"fName\":\"model_Norm[x]_Comp[bkg]\",\"fTitle\":\"Projection of g1+g2+a\",\"fLineColor\":600,\"fLineStyle\":2,\"fLineWidth\":3,\"fFillColor\":0,\"fFillStyle\":1000,\"fMarkerColor\":1,\"fMarkerStyle\":1,\"fMarkerSize\":1,\"fNpoints\":106,\"fX\":[-0.1,-0.1,0,0.1,0.2,0.3,0.4,0.5,0.6,0.7,0.8,0.9,1,1.1,1.2,1.3,1.4,1.5,1.6,1.7,1.8,1.9,2,2.1,2.2,2.3,2.4,2.5,2.6,2.7,2.8,2.9,3,3.1,3.2,3.3,3.4,3.5,3.6,3.7,3.8,3.9,4,4.1,4.2,4.3,4.4,4.5,4.6,4.7,4.8,4.9,5,5.1,5.2,5.3,5.4,5.5,5.6,5.7,5.8,5.9,6,6.1,6.2,6.3,6.4,6.5,6.6,6.7,6.8,6.9,7,7.1,7.2,7.3,7.4,7.5,7.6,7.7,7.8,7.9,8,8.1,8.2,8.3,8.4,8.5,8.6,8.7,8.8,8.9,9,9.1,9.2,9.3,9.4,9.5,9.6,9.7,9.8,9.9,10,10,10.1,10.1],\"fY\":[0,4.10409269543936,4.10409269543936,4.0657654613279,4.02917677260331,3.99432662926559,3.96121503131474,3.92984197875077,3.90020747157367,3.87231150978344,3.84615409338008,3.8217352223636,3.79905489673399,3.77811311649125,3.75890988163538,3.74144519216639,3.72571904808426,3.71173144938901,3.69948239608064,3.68897188815913,3.6801999256245,3.67316650847674,3.66787163671585,3.66431531034183,3.66249752935469,3.66241829375442,3.66407760354102,3.66747545871449,3.67261185927484,3.67948680522206,3.68810029655615,3.69845233327711,3.71054291538495,3.72437204287966,3.73993971576124,3.75724593402969,3.77629069768502,3.79707400672721,3.81959586115628,3.84385626097222,3.86985520617504,3.89759269676472,3.92706873274128,3.95828331410471,3.99123644085502,4.02592811299219,4.06235833051624,4.10052709342716,4.14043440172496,4.18208025540962,4.22546465448116,4.27058759893957,4.31744908878485,4.36604912401701,4.41638770463604,4.46846483064194,4.52228050203471,4.57783471881435,4.63512748098087,4.69415878853426,4.75492864147452,4.81743703980165,4.88168398351566,4.94766947261654,5.01539350710429,5.08485608697891,5.15605721224041,5.22899688288878,5.30367509892402,5.38009186034613,5.45824716715511,5.53814101935097,5.6197734169337,5.7031443599033,5.78825384825978,5.87510188200313,5.96368846113335,6.05401358565044,6.1460772555544,6.23987947084524,6.33542023152295,6.43269953758753,6.53171738903898,6.63247378587731,6.73496872810251,6.83920221571458,6.94517424871352,7.05288482709933,7.16233395087202,7.27352162003158,7.38644783457801,7.50111259451132,7.6175158998315,7.73565775053854,7.85553814663247,7.97715708811326,8.10051457498093,8.22561060723547,8.35244518487688,8.48101830790516,8.61132997632032,8.74338019012234,8.87716894931124,8.87716894931124,8.87716894931124,0],\"fFunctions\":{\"_typename\":\"TList\",\"name\":\"TList\",\"arr\":[],\"opt\":[]},\"fHistogram\":{\"_typename\":\"TH1F\",\"fUniqueID\":0,\"fBits\":50332168,\"fName\":\"model_Norm[x]_Comp[bkg]\",\"fTitle\":\"Projection of g1+g2+a\",\"fLineColor\":602,\"fLineStyle\":1,\"fLineWidth\":1,\"fFillColor\":0,\"fFillStyle\":1001,\"fMarkerColor\":1,\"fMarkerStyle\":1,\"fMarkerSize\":1,\"fNcells\":108,\"fXaxis\":{\"_typename\":\"TAxis\",\"fUniqueID\":0,\"fBits\":50331648,\"fName\":\"xaxis\",\"fTitle\":\"\",\"fNdivisions\":510,\"fAxisColor\":1,\"fLabelColor\":1,\"fLabelFont\":42,\"fLabelOffset\":0.005,\"fLabelSize\":0.035,\"fTickLength\":0.03,\"fTitleOffset\":1,\"fTitleSize\":0.035,\"fTitleColor\":1,\"fTitleFont\":42,\"fNbins\":106,\"fXmin\":-1.12,\"fXmax\":11.12,\"fXbins\":[],\"fFirst\":0,\"fLast\":0,\"fBits2\":0,\"fTimeDisplay\":false,\"fTimeFormat\":\"\",\"fLabels\":null,\"fModLabs\":null},\"fYaxis\":{\"_typename\":\"TAxis\",\"fUniqueID\":0,\"fBits\":50331648,\"fName\":\"yaxis\",\"fTitle\":\"\",\"fNdivisions\":510,\"fAxisColor\":1,\"fLabelColor\":1,\"fLabelFont\":42,\"fLabelOffset\":0.005,\"fLabelSize\":0.035,\"fTickLength\":0.03,\"fTitleOffset\":0,\"fTitleSize\":0.035,\"fTitleColor\":1,\"fTitleFont\":42,\"fNbins\":1,\"fXmin\":0,\"fXmax\":9.76488584424237,\"fXbins\":[],\"fFirst\":0,\"fLast\":0,\"fBits2\":0,\"fTimeDisplay\":false,\"fTimeFormat\":\"\",\"fLabels\":null,\"fModLabs\":null},\"fZaxis\":{\"_typename\":\"TAxis\",\"fUniqueID\":0,\"fBits\":50331648,\"fName\":\"zaxis\",\"fTitle\":\"\",\"fNdivisions\":510,\"fAxisColor\":1,\"fLabelColor\":1,\"fLabelFont\":42,\"fLabelOffset\":0.005,\"fLabelSize\":0.035,\"fTickLength\":0.03,\"fTitleOffset\":1,\"fTitleSize\":0.035,\"fTitleColor\":1,\"fTitleFont\":42,\"fNbins\":1,\"fXmin\":0,\"fXmax\":1,\"fXbins\":[],\"fFirst\":0,\"fLast\":0,\"fBits2\":0,\"fTimeDisplay\":false,\"fTimeFormat\":\"\",\"fLabels\":null,\"fModLabs\":null},\"fBarOffset\":0,\"fBarWidth\":1000,\"fEntries\":0,\"fTsumw\":0,\"fTsumw2\":0,\"fTsumwx\":0,\"fTsumwx2\":0,\"fMaximum\":9.76488584424237,\"fMinimum\":0,\"fNormFactor\":0,\"fContour\":[],\"fSumw2\":[],\"fOption\":\"\",\"fFunctions\":{\"_typename\":\"TList\",\"name\":\"TList\",\"arr\":[],\"opt\":[]},\"fBufferSize\":0,\"fBuffer\":[],\"fBinStatErrOpt\":0,\"fStatOverflows\":2,\"fArray\":[0,0,0,0,0,0,0,0,0,0,0,0,0,0,0,0,0,0,0,0,0,0,0,0,0,0,0,0,0,0,0,0,0,0,0,0,0,0,0,0,0,0,0,0,0,0,0,0,0,0,0,0,0,0,0,0,0,0,0,0,0,0,0,0,0,0,0,0,0,0,0,0,0,0,0,0,0,0,0,0,0,0,0,0,0,0,0,0,0,0,0,0,0,0,0,0,0,0,0,0,0,0,0,0,0,0,0,0]},\"fMinimum\":-1111,\"fMaximum\":-1111,\"_yAxisLabel\":\"Projection of g1+g2+a\",\"_ymin\":0,\"_ymax\":8.87716894931124,\"_normValue\":0},{\"_typename\":\"RooCurve\",\"fUniqueID\":0,\"fBits\":50332680,\"fName\":\"model_Norm[x]_Comp[bkg,sig2]\",\"fTitle\":\"Projection of g1+g2+a\",\"fLineColor\":600,\"fLineStyle\":3,\"fLineWidth\":3,\"fFillColor\":0,\"fFillStyle\":1000,\"fMarkerColor\":1,\"fMarkerStyle\":1,\"fMarkerSize\":1,\"fNpoints\":106,\"fX\":[-0.1,-0.1,0,0.1,0.2,0.3,0.4,0.5,0.6,0.7,0.8,0.9,1,1.1,1.2,1.3,1.4,1.5,1.6,1.7,1.8,1.9,2,2.1,2.2,2.3,2.4,2.5,2.6,2.7,2.8,2.9,3,3.1,3.2,3.3,3.4,3.5,3.6,3.7,3.8,3.9,4,4.1,4.2,4.3,4.4,4.5,4.6,4.7,4.8,4.9,5,5.1,5.2,5.3,5.4,5.5,5.6,5.7,5.8,5.9,6,6.1,6.2,6.3,6.4,6.5,6.6,6.7,6.8,6.9,7,7.1,7.2,7.3,7.4,7.5,7.6,7.7,7.8,7.9,8,8.1,8.2,8.3,8.4,8.5,8.6,8.7,8.8,8.9,9,9.1,9.2,9.3,9.4,9.5,9.6,9.7,9.8,9.9,10,10,10.1,10.1],\"fY\":[0,4.10410468619458,4.10410468619458,4.06578513214071,4.02920872144589,3.99437800345805,3.96129681975808,3.9299708915182,3.90040863868337,3.8726223055366,3.84662948358659,3.82245513938274,3.80013427012061,3.77971532128246,3.76126450474243,3.7448711485718,3.73065418627757,3.71876984800651,3.70942054397915,3.70286482646077,3.69942817799669,3.69951420032316,3.70361557424621,3.7123239350021,3.72633757545025,3.74646567272419,3.7736275607232,3.80884547402637,3.85322920388539,3.90795126820519,3.9742115333925,4.05319075412434,4.14599321848038,4.25357958030181,4.37669198344214,4.51577466382391,4.67089426194921,4.84166498057332,5.02718436166719,5.2259857201666,5.43601306479924,5.65462359739976,5.87862159679946,6.104325702313,6.32766941475556,6.54433218516384,6.74989596318011,6.94001975580537,7.11062283457894,7.25806593532187,7.37931928261181,7.47210663585374,7.53501580665333,7.56756816093118,7.57024233276668,7.54445051055419,7.49246893488869,7.41732738119256,7.32266511364474,7.2125628607059,7.09136161537507,6.96347942800993,6.83323684757384,6.70470037325158,6.58155136572849,6.46698554617329,6.36364571275132,6.27358785673488,6.19827866318821,6.13862059014035,6.09499943483602,6.06734855677313,6.05522372002913,6.05788278075053,6.07436508509613,6.10356634498626,6.14430580574389,6.19538360096231,6.25562721273658,6.32392684981501,6.39926027761851,6.48070816224779,6.56746132656935,6.65882147772373,6.7541969804747,6.85309515401622,6.95511239661203,7.05992322571683,7.16726908906533,7.27694757643699,7.38880245768506,7.50271479930253,7.61859527321812,7.73637766755768,7.85601353683897,7.97746788386642,8.10071574209062,8.2257395200029,8.35252697332022,8.48106968209762,8.6113619251629,8.74339986093516,8.87718094006646,8.87718094006646,8.87718094006646,0],\"fFunctions\":{\"_typename\":\"TList\",\"name\":\"TList\",\"arr\":[],\"opt\":[]},\"fHistogram\":{\"_typename\":\"TH1F\",\"fUniqueID\":0,\"fBits\":50332168,\"fName\":\"model_Norm[x]_Comp[bkg,sig2]\",\"fTitle\":\"Projection of g1+g2+a\",\"fLineColor\":602,\"fLineStyle\":1,\"fLineWidth\":1,\"fFillColor\":0,\"fFillStyle\":1001,\"fMarkerColor\":1,\"fMarkerStyle\":1,\"fMarkerSize\":1,\"fNcells\":108,\"fXaxis\":{\"_typename\":\"TAxis\",\"fUniqueID\":0,\"fBits\":50331648,\"fName\":\"xaxis\",\"fTitle\":\"\",\"fNdivisions\":510,\"fAxisColor\":1,\"fLabelColor\":1,\"fLabelFont\":42,\"fLabelOffset\":0.005,\"fLabelSize\":0.035,\"fTickLength\":0.03,\"fTitleOffset\":1,\"fTitleSize\":0.035,\"fTitleColor\":1,\"fTitleFont\":42,\"fNbins\":106,\"fXmin\":-1.12,\"fXmax\":11.12,\"fXbins\":[],\"fFirst\":0,\"fLast\":0,\"fBits2\":0,\"fTimeDisplay\":false,\"fTimeFormat\":\"\",\"fLabels\":null,\"fModLabs\":null},\"fYaxis\":{\"_typename\":\"TAxis\",\"fUniqueID\":0,\"fBits\":50331648,\"fName\":\"yaxis\",\"fTitle\":\"\",\"fNdivisions\":510,\"fAxisColor\":1,\"fLabelColor\":1,\"fLabelFont\":42,\"fLabelOffset\":0.005,\"fLabelSize\":0.035,\"fTickLength\":0.03,\"fTitleOffset\":0,\"fTitleSize\":0.035,\"fTitleColor\":1,\"fTitleFont\":42,\"fNbins\":1,\"fXmin\":0,\"fXmax\":9.7648990340731,\"fXbins\":[],\"fFirst\":0,\"fLast\":0,\"fBits2\":0,\"fTimeDisplay\":false,\"fTimeFormat\":\"\",\"fLabels\":null,\"fModLabs\":null},\"fZaxis\":{\"_typename\":\"TAxis\",\"fUniqueID\":0,\"fBits\":50331648,\"fName\":\"zaxis\",\"fTitle\":\"\",\"fNdivisions\":510,\"fAxisColor\":1,\"fLabelColor\":1,\"fLabelFont\":42,\"fLabelOffset\":0.005,\"fLabelSize\":0.035,\"fTickLength\":0.03,\"fTitleOffset\":1,\"fTitleSize\":0.035,\"fTitleColor\":1,\"fTitleFont\":42,\"fNbins\":1,\"fXmin\":0,\"fXmax\":1,\"fXbins\":[],\"fFirst\":0,\"fLast\":0,\"fBits2\":0,\"fTimeDisplay\":false,\"fTimeFormat\":\"\",\"fLabels\":null,\"fModLabs\":null},\"fBarOffset\":0,\"fBarWidth\":1000,\"fEntries\":0,\"fTsumw\":0,\"fTsumw2\":0,\"fTsumwx\":0,\"fTsumwx2\":0,\"fMaximum\":9.7648990340731,\"fMinimum\":0,\"fNormFactor\":0,\"fContour\":[],\"fSumw2\":[],\"fOption\":\"\",\"fFunctions\":{\"_typename\":\"TList\",\"name\":\"TList\",\"arr\":[],\"opt\":[]},\"fBufferSize\":0,\"fBuffer\":[],\"fBinStatErrOpt\":0,\"fStatOverflows\":2,\"fArray\":[0,0,0,0,0,0,0,0,0,0,0,0,0,0,0,0,0,0,0,0,0,0,0,0,0,0,0,0,0,0,0,0,0,0,0,0,0,0,0,0,0,0,0,0,0,0,0,0,0,0,0,0,0,0,0,0,0,0,0,0,0,0,0,0,0,0,0,0,0,0,0,0,0,0,0,0,0,0,0,0,0,0,0,0,0,0,0,0,0,0,0,0,0,0,0,0,0,0,0,0,0,0,0,0,0,0,0,0]},\"fMinimum\":-1111,\"fMaximum\":-1111,\"_yAxisLabel\":\"Projection of g1+g2+a\",\"_ymin\":0,\"_ymax\":8.87718094006646,\"_normValue\":0},{\"_typename\":\"RooCurve\",\"fUniqueID\":0,\"fBits\":50332680,\"fName\":\"model_Norm[x]\",\"fTitle\":\"Projection of g1+g2+a\",\"fLineColor\":632,\"fLineStyle\":2,\"fLineWidth\":3,\"fFillColor\":0,\"fFillStyle\":1000,\"fMarkerColor\":1,\"fMarkerStyle\":1,\"fMarkerSize\":1,\"fNpoints\":134,\"fX\":[-0.1,-0.1,0,0.1,0.2,0.3,0.4,0.5,0.6,0.7,0.8,0.9,1,1.1,1.2,1.3,1.4,1.5,1.6,1.7,1.8,1.9,2,2.1,2.2,2.3,2.4,2.5,2.6,2.7,2.8,2.9,3,3.1,3.2,3.3,3.4,3.5,3.6,3.7,3.75,3.8,3.85,3.9,3.95,4,4.05,4.1,4.15,4.2,4.25,4.3,4.35,4.4,4.5,4.6,4.65,4.7,4.75,4.8,4.85,4.875,4.9,4.925,4.95,4.975,5,5.025,5.05,5.075,5.1,5.125,5.15,5.2,5.25,5.3,5.35,5.4,5.5,5.6,5.65,5.7,5.75,5.8,5.85,5.9,5.95,6,6.05,6.1,6.15,6.2,6.25,6.3,6.4,6.5,6.6,6.7,6.8,6.9,7,7.1,7.2,7.3,7.4,7.5,7.6,7.7,7.8,7.9,8,8.1,8.2,8.3,8.4,8.5,8.6,8.7,8.8,8.9,9,9.1,9.2,9.3,9.4,9.5,9.6,9.7,9.8,9.9,10,10,10.1,10.1],\"fY\":[0,4.10410468619458,4.10410468619458,4.06578513214071,4.02920872144589,3.99437800345805,3.96129681975808,3.9299708915182,3.90040863868337,3.8726223055366,3.8466294835866,3.82245513938282,3.80013427012103,3.7797153212845,3.76126450475193,3.74487114861438,3.73065418646091,3.71876984876499,3.70942054699403,3.70286483797475,3.69942822024487,3.69951434926582,3.70361607874294,3.71232557682323,3.72634270904462,3.74648109489398,3.77367207482668,3.80896892030506,3.85355812109321,3.90879329014538,3.97628257317626,4.05808495393641,4.15710549835854,4.27782071066248,4.42749982947656,4.61808910133646,4.86885145134714,5.20965315103022,5.68442537616463,6.35381581115355,6.78516924985069,7.29549052554508,7.89650217471701,8.60017346865085,9.41824393687172,10.361635261001,11.4397626712264,12.659767497698,14.0257036507693,15.5377215702616,17.1913024610092,18.976602205508,20.8779670473365,22.8736809981174,27.0314930968338,31.1644835691571,33.1147201116874,34.9265916996678,36.5550489521019,37.9577693033937,39.0970262571383,39.557754270981,39.9414224046307,40.2453388890608,40.4673749338555,40.6059908891045,40.6602552637114,40.6298562703739,40.5151056963943,40.3169350328689,40.0368839297081,39.6770811773278,39.2402185447544,38.1486923535485,36.7937027647955,35.2129762749001,33.4488354494584,31.5463296694668,27.5088007222209,23.446450148582,21.4984669603399,19.6448328810501,17.90726389909,16.3014137708811,14.8371266139275,13.5189212233949,12.346647159462,11.3162505117754,10.4205899501848,9.65025024450266,8.99430971310753,8.44102882647433,7.97843831331866,7.59481563716023,7.02088672724876,6.64157602719179,6.39623585258614,6.2409350276529,6.14580728087044,6.0915896871338,6.0663359999073,6.0627769805626,6.07643612487989,6.10440836692645,6.14463472295172,6.19550704724101,6.25567172684006,6.3239422719848,6.39926541121288,6.48070980406893,6.56746183106607,6.65882162666639,6.75419702272288,6.85309516553019,6.95511239962691,7.05992322647531,7.16726908924866,7.27694757647957,7.38880245769456,7.50271479930457,7.61859527321854,7.73637766755776,7.85601353683898,7.97746788386642,8.10071574209062,8.2257395200029,8.35252697332022,8.48106968209762,8.6113619251629,8.74339986093516,8.87718094006646,8.87718094006646,8.87718094006646,0],\"fFunctions\":{\"_typename\":\"TList\",\"name\":\"TList\",\"arr\":[],\"opt\":[]},\"fHistogram\":{\"_typename\":\"TH1F\",\"fUniqueID\":0,\"fBits\":50332168,\"fName\":\"model_Norm[x]\",\"fTitle\":\"Projection of g1+g2+a\",\"fLineColor\":602,\"fLineStyle\":1,\"fLineWidth\":1,\"fFillColor\":0,\"fFillStyle\":1001,\"fMarkerColor\":1,\"fMarkerStyle\":1,\"fMarkerSize\":1,\"fNcells\":136,\"fXaxis\":{\"_typename\":\"TAxis\",\"fUniqueID\":0,\"fBits\":50331648,\"fName\":\"xaxis\",\"fTitle\":\"\",\"fNdivisions\":510,\"fAxisColor\":1,\"fLabelColor\":1,\"fLabelFont\":42,\"fLabelOffset\":0.005,\"fLabelSize\":0.035,\"fTickLength\":0.03,\"fTitleOffset\":1,\"fTitleSize\":0.035,\"fTitleColor\":1,\"fTitleFont\":42,\"fNbins\":134,\"fXmin\":-1.12,\"fXmax\":11.12,\"fXbins\":[],\"fFirst\":0,\"fLast\":0,\"fBits2\":0,\"fTimeDisplay\":false,\"fTimeFormat\":\"\",\"fLabels\":null,\"fModLabs\":null},\"fYaxis\":{\"_typename\":\"TAxis\",\"fUniqueID\":0,\"fBits\":50331648,\"fName\":\"yaxis\",\"fTitle\":\"\",\"fNdivisions\":510,\"fAxisColor\":1,\"fLabelColor\":1,\"fLabelFont\":42,\"fLabelOffset\":0.005,\"fLabelSize\":0.035,\"fTickLength\":0.03,\"fTitleOffset\":0,\"fTitleSize\":0.035,\"fTitleColor\":1,\"fTitleFont\":42,\"fNbins\":1,\"fXmin\":0,\"fXmax\":44.7262807900825,\"fXbins\":[],\"fFirst\":0,\"fLast\":0,\"fBits2\":0,\"fTimeDisplay\":false,\"fTimeFormat\":\"\",\"fLabels\":null,\"fModLabs\":null},\"fZaxis\":{\"_typename\":\"TAxis\",\"fUniqueID\":0,\"fBits\":50331648,\"fName\":\"zaxis\",\"fTitle\":\"\",\"fNdivisions\":510,\"fAxisColor\":1,\"fLabelColor\":1,\"fLabelFont\":42,\"fLabelOffset\":0.005,\"fLabelSize\":0.035,\"fTickLength\":0.03,\"fTitleOffset\":1,\"fTitleSize\":0.035,\"fTitleColor\":1,\"fTitleFont\":42,\"fNbins\":1,\"fXmin\":0,\"fXmax\":1,\"fXbins\":[],\"fFirst\":0,\"fLast\":0,\"fBits2\":0,\"fTimeDisplay\":false,\"fTimeFormat\":\"\",\"fLabels\":null,\"fModLabs\":null},\"fBarOffset\":0,\"fBarWidth\":1000,\"fEntries\":0,\"fTsumw\":0,\"fTsumw2\":0,\"fTsumwx\":0,\"fTsumwx2\":0,\"fMaximum\":44.7262807900825,\"fMinimum\":0,\"fNormFactor\":0,\"fContour\":[],\"fSumw2\":[],\"fOption\":\"\",\"fFunctions\":{\"_typename\":\"TList\",\"name\":\"TList\",\"arr\":[],\"opt\":[]},\"fBufferSize\":0,\"fBuffer\":[],\"fBinStatErrOpt\":0,\"fStatOverflows\":2,\"fArray\":[0,0,0,0,0,0,0,0,0,0,0,0,0,0,0,0,0,0,0,0,0,0,0,0,0,0,0,0,0,0,0,0,0,0,0,0,0,0,0,0,0,0,0,0,0,0,0,0,0,0,0,0,0,0,0,0,0,0,0,0,0,0,0,0,0,0,0,0,0,0,0,0,0,0,0,0,0,0,0,0,0,0,0,0,0,0,0,0,0,0,0,0,0,0,0,0,0,0,0,0,0,0,0,0,0,0,0,0,0,0,0,0,0,0,0,0,0,0,0,0,0,0,0,0,0,0,0,0,0,0,0,0,0,0,0,0]},\"fMinimum\":-1111,\"fMaximum\":-1111,\"_yAxisLabel\":\"Projection of g1+g2+a\",\"_ymin\":0,\"_ymax\":40.6602552637114,\"_normValue\":0},{\"_typename\":\"RooCurve\",\"fUniqueID\":0,\"fBits\":50332680,\"fName\":\"model_Norm[x]_Comp[bkg,sig2]\",\"fTitle\":\"Projection of g1+g2+a\",\"fLineColor\":632,\"fLineStyle\":2,\"fLineWidth\":3,\"fFillColor\":0,\"fFillStyle\":1000,\"fMarkerColor\":1,\"fMarkerStyle\":1,\"fMarkerSize\":1,\"fNpoints\":106,\"fX\":[-0.1,-0.1,0,0.1,0.2,0.3,0.4,0.5,0.6,0.7,0.8,0.9,1,1.1,1.2,1.3,1.4,1.5,1.6,1.7,1.8,1.9,2,2.1,2.2,2.3,2.4,2.5,2.6,2.7,2.8,2.9,3,3.1,3.2,3.3,3.4,3.5,3.6,3.7,3.8,3.9,4,4.1,4.2,4.3,4.4,4.5,4.6,4.7,4.8,4.9,5,5.1,5.2,5.3,5.4,5.5,5.6,5.7,5.8,5.9,6,6.1,6.2,6.3,6.4,6.5,6.6,6.7,6.8,6.9,7,7.1,7.2,7.3,7.4,7.5,7.6,7.7,7.8,7.9,8,8.1,8.2,8.3,8.4,8.5,8.6,8.7,8.8,8.9,9,9.1,9.2,9.3,9.4,9.5,9.6,9.7,9.8,9.9,10,10,10.1,10.1],\"fY\":[0,4.10410468619458,4.10410468619458,4.06578513214071,4.02920872144589,3.99437800345805,3.96129681975808,3.9299708915182,3.90040863868337,3.8726223055366,3.84662948358659,3.82245513938274,3.80013427012061,3.77971532128246,3.76126450474243,3.7448711485718,3.73065418627757,3.71876984800651,3.70942054397915,3.70286482646077,3.69942817799669,3.69951420032316,3.70361557424621,3.7123239350021,3.72633757545025,3.74646567272419,3.7736275607232,3.80884547402637,3.85322920388539,3.90795126820519,3.9742115333925,4.05319075412434,4.14599321848038,4.25357958030181,4.37669198344214,4.51577466382391,4.67089426194921,4.84166498057332,5.02718436166719,5.2259857201666,5.43601306479924,5.65462359739976,5.87862159679946,6.104325702313,6.32766941475556,6.54433218516384,6.74989596318011,6.94001975580537,7.11062283457894,7.25806593532187,7.37931928261181,7.47210663585374,7.53501580665333,7.56756816093118,7.57024233276668,7.54445051055419,7.49246893488869,7.41732738119256,7.32266511364474,7.2125628607059,7.09136161537506,6.96347942800993,6.83323684757384,6.70470037325158,6.58155136572849,6.46698554617329,6.36364571275132,6.27358785673488,6.19827866318821,6.13862059014035,6.09499943483602,6.06734855677313,6.05522372002913,6.05788278075053,6.07436508509613,6.10356634498626,6.14430580574389,6.19538360096231,6.25562721273658,6.32392684981501,6.39926027761851,6.48070816224779,6.56746132656935,6.65882147772373,6.7541969804747,6.85309515401622,6.95511239661203,7.05992322571683,7.16726908906533,7.27694757643699,7.38880245768506,7.50271479930253,7.61859527321812,7.73637766755768,7.85601353683897,7.97746788386642,8.10071574209062,8.2257395200029,8.35252697332022,8.48106968209762,8.6113619251629,8.74339986093516,8.87718094006646,8.87718094006646,8.87718094006646,0],\"fFunctions\":{\"_typename\":\"TList\",\"name\":\"TList\",\"arr\":[],\"opt\":[]},\"fHistogram\":{\"_typename\":\"TH1F\",\"fUniqueID\":0,\"fBits\":50332168,\"fName\":\"model_Norm[x]_Comp[bkg,sig2]\",\"fTitle\":\"Projection of g1+g2+a\",\"fLineColor\":602,\"fLineStyle\":1,\"fLineWidth\":1,\"fFillColor\":0,\"fFillStyle\":1001,\"fMarkerColor\":1,\"fMarkerStyle\":1,\"fMarkerSize\":1,\"fNcells\":108,\"fXaxis\":{\"_typename\":\"TAxis\",\"fUniqueID\":0,\"fBits\":50331648,\"fName\":\"xaxis\",\"fTitle\":\"\",\"fNdivisions\":510,\"fAxisColor\":1,\"fLabelColor\":1,\"fLabelFont\":42,\"fLabelOffset\":0.005,\"fLabelSize\":0.035,\"fTickLength\":0.03,\"fTitleOffset\":1,\"fTitleSize\":0.035,\"fTitleColor\":1,\"fTitleFont\":42,\"fNbins\":106,\"fXmin\":-1.12,\"fXmax\":11.12,\"fXbins\":[],\"fFirst\":0,\"fLast\":0,\"fBits2\":0,\"fTimeDisplay\":false,\"fTimeFormat\":\"\",\"fLabels\":null,\"fModLabs\":null},\"fYaxis\":{\"_typename\":\"TAxis\",\"fUniqueID\":0,\"fBits\":50331648,\"fName\":\"yaxis\",\"fTitle\":\"\",\"fNdivisions\":510,\"fAxisColor\":1,\"fLabelColor\":1,\"fLabelFont\":42,\"fLabelOffset\":0.005,\"fLabelSize\":0.035,\"fTickLength\":0.03,\"fTitleOffset\":0,\"fTitleSize\":0.035,\"fTitleColor\":1,\"fTitleFont\":42,\"fNbins\":1,\"fXmin\":0,\"fXmax\":9.7648990340731,\"fXbins\":[],\"fFirst\":0,\"fLast\":0,\"fBits2\":0,\"fTimeDisplay\":false,\"fTimeFormat\":\"\",\"fLabels\":null,\"fModLabs\":null},\"fZaxis\":{\"_typename\":\"TAxis\",\"fUniqueID\":0,\"fBits\":50331648,\"fName\":\"zaxis\",\"fTitle\":\"\",\"fNdivisions\":510,\"fAxisColor\":1,\"fLabelColor\":1,\"fLabelFont\":42,\"fLabelOffset\":0.005,\"fLabelSize\":0.035,\"fTickLength\":0.03,\"fTitleOffset\":1,\"fTitleSize\":0.035,\"fTitleColor\":1,\"fTitleFont\":42,\"fNbins\":1,\"fXmin\":0,\"fXmax\":1,\"fXbins\":[],\"fFirst\":0,\"fLast\":0,\"fBits2\":0,\"fTimeDisplay\":false,\"fTimeFormat\":\"\",\"fLabels\":null,\"fModLabs\":null},\"fBarOffset\":0,\"fBarWidth\":1000,\"fEntries\":0,\"fTsumw\":0,\"fTsumw2\":0,\"fTsumwx\":0,\"fTsumwx2\":0,\"fMaximum\":9.7648990340731,\"fMinimum\":0,\"fNormFactor\":0,\"fContour\":[],\"fSumw2\":[],\"fOption\":\"\",\"fFunctions\":{\"_typename\":\"TList\",\"name\":\"TList\",\"arr\":[],\"opt\":[]},\"fBufferSize\":0,\"fBuffer\":[],\"fBinStatErrOpt\":0,\"fStatOverflows\":2,\"fArray\":[0,0,0,0,0,0,0,0,0,0,0,0,0,0,0,0,0,0,0,0,0,0,0,0,0,0,0,0,0,0,0,0,0,0,0,0,0,0,0,0,0,0,0,0,0,0,0,0,0,0,0,0,0,0,0,0,0,0,0,0,0,0,0,0,0,0,0,0,0,0,0,0,0,0,0,0,0,0,0,0,0,0,0,0,0,0,0,0,0,0,0,0,0,0,0,0,0,0,0,0,0,0,0,0,0,0,0,0]},\"fMinimum\":-1111,\"fMaximum\":-1111,\"_yAxisLabel\":\"Projection of g1+g2+a\",\"_ymin\":0,\"_ymax\":8.87718094006646,\"_normValue\":0},{\"$ref\":3},{\"_typename\":\"TPaveText\",\"fUniqueID\":0,\"fBits\":50331657,\"fLineColor\":1,\"fLineStyle\":1,\"fLineWidth\":1,\"fFillColor\":0,\"fFillStyle\":0,\"fX1\":-6.45716982106137e-8,\"fY1\":58.9366582492073,\"fX2\":9.33333333830039,\"fY2\":63.2351779918477,\"fX1NDC\":0.15,\"fY1NDC\":0.934160843929211,\"fX2NDC\":0.85,\"fY2NDC\":0.995000004768372,\"fBorderSize\":0,\"fInit\":1,\"fShadowColor\":1,\"fCornerRadius\":0,\"fOption\":\"blNDC\",\"fName\":\"title\",\"fTextAngle\":0,\"fTextSize\":0,\"fTextAlign\":22,\"fTextColor\":1,\"fTextFont\":42,\"fLabel\":\"\",\"fLongest\":40,\"fMargin\":0.05,\"fLines\":{\"_typename\":\"TList\",\"name\":\"TList\",\"arr\":[{\"_typename\":\"TLatex\",\"fUniqueID\":0,\"fBits\":50331648,\"fName\":\"\",\"fTitle\":\"Example of composite pdf=(sig1+sig2)+bkg\",\"fTextAngle\":0,\"fTextSize\":0,\"fTextAlign\":0,\"fTextColor\":0,\"fTextFont\":0,\"fX\":0,\"fY\":0,\"fLineColor\":1,\"fLineStyle\":1,\"fLineWidth\":2,\"fLimitFactorSize\":3,\"fOriginSize\":0.0517132878303528}],\"opt\":[\"\"]}}],\"opt\":[\"\",\"FUNC\",\"p\",\"l\",\"l\",\"l\",\"l\",\"l\",\"AXISSAME\",\"blNDC\"]},\"fExecs\":null,\"fName\":\"rf201_composite\",\"fTitle\":\"rf201_composite\",\"fNumPaletteColor\":0,\"fNextPaletteColor\":0,\"fDISPLAY\":\"$DISPLAY\",\"fDoubleBuffer\":0,\"fRetained\":true,\"fXsizeUser\":0,\"fYsizeUser\":0,\"fXsizeReal\":20,\"fYsizeReal\":20,\"fWindowTopX\":0,\"fWindowTopY\":0,\"fWindowWidth\":0,\"fWindowHeight\":0,\"fCw\":596,\"fCh\":572,\"fCatt\":{\"_typename\":\"TAttCanvas\",\"fXBetween\":2,\"fYBetween\":2,\"fTitleFromTop\":1.2,\"fXdate\":0.2,\"fYdate\":0.3,\"fAdate\":1},\"kMoveOpaque\":true,\"kResizeOpaque\":true,\"fHighLightColor\":2,\"fBatch\":true,\"kShowEventStatus\":false,\"kAutoExec\":true,\"kMenuBar\":true});\n",
       "       Core.draw(\"root_plot_1\", obj, \"\");\n",
       "     }\n",
       " );\n",
       "</script>\n"
      ],
      "text/plain": [
       "<IPython.core.display.HTML object>"
      ]
     },
     "metadata": {},
     "output_type": "display_data"
    }
   ],
   "source": [
    "%jsroot on\n",
    "gROOT->GetListOfCanvases()->Draw()"
   ]
  }
 ],
 "metadata": {
  "kernelspec": {
   "display_name": "ROOT C++",
   "language": "c++",
   "name": "root"
  },
  "language_info": {
   "codemirror_mode": "text/x-c++src",
   "file_extension": ".C",
   "mimetype": " text/x-c++src",
   "name": "c++"
  }
 },
 "nbformat": 4,
 "nbformat_minor": 2
}
