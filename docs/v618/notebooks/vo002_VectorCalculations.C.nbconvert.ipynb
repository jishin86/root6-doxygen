{
 "cells": [
  {
   "cell_type": "markdown",
   "metadata": {},
   "source": [
    "# Vo 0 0 2_ Vector Calculations\n",
    "In this tutorial we learn how the RVec class can be used to\n",
    "express easily mathematical operations involving arrays and scalars.\n",
    "\n",
    "\n",
    "\n",
    "\n",
    "**Author:** Danilo Piparo  \n",
    "<i><small>This notebook tutorial was automatically generated with <a href= \"https://github.com/root-project/root/blob/master/documentation/doxygen/converttonotebook.py\">ROOTBOOK-izer</a> from the macro found in the ROOT repository  on Thursday, August 29, 2019 at 04:06 AM.</small></i>"
   ]
  },
  {
   "cell_type": "code",
   "execution_count": 1,
   "metadata": {
    "collapsed": false
   },
   "outputs": [],
   "source": [
    "using namespace ROOT::VecOps;"
   ]
  },
  {
   "cell_type": "markdown",
   "metadata": {},
   "source": [
    "Operations on rvec instances are made to be *fast* (vectorisation is exploited)\n",
    " and easy to use."
   ]
  },
  {
   "cell_type": "code",
   "execution_count": 2,
   "metadata": {
    "collapsed": false
   },
   "outputs": [],
   "source": [
    "RVec<float> v1{1., 2., 3.};\n",
    "RVec<float> v2{4., 5., 6.};"
   ]
  },
  {
   "cell_type": "markdown",
   "metadata": {},
   "source": [
    "Arithmetic operations are to be intended on pairs of elements with identical index"
   ]
  },
  {
   "cell_type": "code",
   "execution_count": 3,
   "metadata": {
    "collapsed": false
   },
   "outputs": [],
   "source": [
    "auto v_sum = v1 + v2;\n",
    "auto v_mul = v1 * v2;"
   ]
  },
  {
   "cell_type": "markdown",
   "metadata": {},
   "source": [
    "Easy to inspect:"
   ]
  },
  {
   "cell_type": "code",
   "execution_count": 4,
   "metadata": {
    "collapsed": false
   },
   "outputs": [
    {
     "name": "stdout",
     "output_type": "stream",
     "text": [
      "v1 = { 1, 2, 3 }\n",
      "v2 = { 4, 5, 6 }\n",
      "v1 + v2 = { 5, 7, 9 }\n",
      "v1 * v2 = { 4, 10, 18 }\n"
     ]
    }
   ],
   "source": [
    "std::cout << \"v1 = \" << v1 << \"\\n\"\n",
    "          << \"v2 = \" << v2 << \"\\n\"\n",
    "          << \"v1 + v2 = \" << v_sum << \"\\n\"\n",
    "          << \"v1 * v2 = \" << v_mul << std::endl;"
   ]
  },
  {
   "cell_type": "markdown",
   "metadata": {},
   "source": [
    "It's also possible to mix scalars and rvecs"
   ]
  },
  {
   "cell_type": "code",
   "execution_count": 5,
   "metadata": {
    "collapsed": false
   },
   "outputs": [
    {
     "name": "stdout",
     "output_type": "stream",
     "text": [
      "{ 1, 2, 3 } - 2 = { -1, 0, 1 }\n",
      "2 - { 1, 2, 3 } = { 1, 0, -1 }\n",
      "{ 1, 2, 3 } / 2 = { 0.5, 1, 1.5 }\n",
      "2 / { 1, 2, 3 } = { 2, 1, 0.666667 }\n"
     ]
    }
   ],
   "source": [
    "auto v_diff_s_0 = v1 - 2;\n",
    "auto v_diff_s_1 = 2 - v1;\n",
    "auto v_div_s_0 = v1 / 2.;\n",
    "auto v_div_s_1 = 2. / v1;\n",
    "\n",
    "std::cout << v1 << \" - 2 = \" << v_diff_s_0 << \"\\n\"\n",
    "          << \"2 - \" << v1 << \" = \" << v_diff_s_1 << \"\\n\"\n",
    "          << v1 << \" / 2 = \" << v_div_s_0 << \"\\n\"\n",
    "          << \"2 / \" << v1 << \" = \" << v_div_s_1 << std::endl;"
   ]
  },
  {
   "cell_type": "markdown",
   "metadata": {},
   "source": [
    "Dot product and the extraction of quantities such as mean, min and max\n",
    " are also easy to express (see here for the full list:\n",
    " https://root.cern.ch/doc/master/namespaceROOT_1_1VecOps.html)"
   ]
  },
  {
   "cell_type": "code",
   "execution_count": 6,
   "metadata": {
    "collapsed": false
   },
   "outputs": [
    {
     "name": "stdout",
     "output_type": "stream",
     "text": [
      "Mean of { 1, 2, 3 } is 2\n",
      "Dot product of { 1, 2, 3 } and { 4, 5, 6 } is 32\n"
     ]
    }
   ],
   "source": [
    "auto v1_mean = Mean(v1);\n",
    "auto v1_dot_v2 = Dot(v1, v2);\n",
    "\n",
    "std::cout << \"Mean of \" << v1 << \" is \" << v1_mean << \"\\n\"\n",
    "          << \"Dot product of \" << v1 << \" and \" << v2 << \" is \" << v1_dot_v2 << std::endl;"
   ]
  },
  {
   "cell_type": "markdown",
   "metadata": {},
   "source": [
    "Most used mathematical functions are supported"
   ]
  },
  {
   "cell_type": "code",
   "execution_count": 7,
   "metadata": {
    "collapsed": false
   },
   "outputs": [
    {
     "name": "stdout",
     "output_type": "stream",
     "text": [
      "exp({ 1, 2, 3 }) = { 2.71828, 7.38906, 20.0855 }\n",
      "log({ 1, 2, 3 }) = { 0, 0.693147, 1.09861 }\n",
      "sin({ 1, 2, 3 }) = { 0.841471, 0.909297, 0.14112 }\n"
     ]
    }
   ],
   "source": [
    "auto v_exp = exp(v1);\n",
    "auto v_log = log(v1);\n",
    "auto v_sin = sin(v1);\n",
    "\n",
    "std::cout << \"exp(\" << v1 << \") = \" << v_exp << \"\\n\"\n",
    "          << \"log(\" << v1 << \") = \" << v_log << \"\\n\"\n",
    "          << \"sin(\" << v1 << \") = \" << v_sin << std::endl;"
   ]
  },
  {
   "cell_type": "markdown",
   "metadata": {},
   "source": [
    "Even an optimised version of the functions is available\n",
    " provided that VDT is not disabled during the configuration"
   ]
  },
  {
   "cell_type": "code",
   "execution_count": 8,
   "metadata": {
    "collapsed": false
   },
   "outputs": [
    {
     "name": "stderr",
     "output_type": "stream",
     "text": [
      "Unbalanced braces. This cell was not processed.\n"
     ]
    }
   ],
   "source": [
    "#ifdef R__HAS_VDT\n",
    "auto v_fast_exp = fast_exp(v1);\n",
    "auto v_fast_log = fast_log(v1);\n",
    "auto v_fast_sin = fast_sin(v1);\n",
    "\n",
    "std::cout << \"fast_exp(\" << v1 << \") = \" << v_fast_exp << \"\\n\"\n",
    "          << \"fast_log(\" << v1 << \") = \" << v_fast_log << \"\\n\"\n",
    "          << \"fast_sin(\" << v1 << \") = \" << v_fast_sin << std::endl;"
   ]
  },
  {
   "cell_type": "markdown",
   "metadata": {},
   "source": [
    "It may happen that a custom operation needs to be applied to the rvec.\n",
    " In this case, the Map utitlity can be used:"
   ]
  },
  {
   "cell_type": "code",
   "execution_count": 9,
   "metadata": {
    "collapsed": false
   },
   "outputs": [
    {
     "name": "stderr",
     "output_type": "stream",
     "text": [
      "input_line_38:5:2: error: #endif without #if\n",
      "#endif\n",
      " ^\n"
     ]
    }
   ],
   "source": [
    "auto v_transf = Map(v1, [](double x) { return x * 2 / 3; });\n",
    "\n",
    "std::cout << \"Applying [](double x){return x * 2 / 3;} to \" << v1 << \" leads to \" << v_transf << \"\\n\";\n",
    "#endif"
   ]
  }
 ],
 "metadata": {
  "kernelspec": {
   "display_name": "ROOT C++",
   "language": "c++",
   "name": "root"
  },
  "language_info": {
   "codemirror_mode": "text/x-c++src",
   "file_extension": ".C",
   "mimetype": " text/x-c++src",
   "name": "c++"
  }
 },
 "nbformat": 4,
 "nbformat_minor": 2
}
