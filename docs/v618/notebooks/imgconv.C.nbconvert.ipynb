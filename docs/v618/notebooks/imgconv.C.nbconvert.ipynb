{
 "cells": [
  {
   "cell_type": "markdown",
   "metadata": {},
   "source": [
    "# Imgconv\n",
    "Open rose512.jpg and save it in the following formats:\n",
    " .png, .gif, .xpm and tiff.\n",
    "\n",
    "\n",
    "\n",
    "\n",
    "**Author:** Valeriy Onuchin  \n",
    "<i><small>This notebook tutorial was automatically generated with <a href= \"https://github.com/root-project/root/blob/master/documentation/doxygen/converttonotebook.py\">ROOTBOOK-izer</a> from the macro found in the ROOT repository  on Thursday, August 29, 2019 at 02:01 AM.</small></i>"
   ]
  },
  {
   "cell_type": "code",
   "execution_count": 1,
   "metadata": {
    "collapsed": false
   },
   "outputs": [
    {
     "name": "stderr",
     "output_type": "stream",
     "text": [
      "JPEGLib: Wrong JPEG library version: library is 80, caller expects 62.\n",
      "JPEGLib: Improper call to JPEG library in state 0.\n"
     ]
    }
   ],
   "source": [
    "TImage *img = TImage::Open(\"$ROOTSYS/tutorials/image/rose512.jpg\");\n",
    "if (!img) {\n",
    "   printf(\"Could not create an image... exit\\n\");\n",
    "   return;\n",
    "}\n",
    "\n",
    "img->WriteImage(\"rose512.png\");\n",
    "img->WriteImage(\"rose512.gif\");\n",
    "img->WriteImage(\"rose512.xpm\");\n",
    "img->WriteImage(\"rose512.tiff\");"
   ]
  }
 ],
 "metadata": {
  "kernelspec": {
   "display_name": "ROOT C++",
   "language": "c++",
   "name": "root"
  },
  "language_info": {
   "codemirror_mode": "text/x-c++src",
   "file_extension": ".C",
   "mimetype": " text/x-c++src",
   "name": "c++"
  }
 },
 "nbformat": 4,
 "nbformat_minor": 2
}
