{
 "cells": [
  {
   "cell_type": "markdown",
   "metadata": {},
   "source": [
    "# Mt 1 0 2_Read Ntuples Fill Histos And Fit\n",
    "Read n-tuples in distinct workers, fill histograms, merge them and fit.\n",
    "Knowing that other facilities like TProcessExecutor might be more adequate for\n",
    "this operation, this tutorial complements mc101, reading and merging.\n",
    "We convey another message with this tutorial: the synergy of ROOT and\n",
    "STL algorithms is possible.\n",
    "\n",
    "\n",
    "\n",
    "\n",
    "**Author:** Danilo Piparo  \n",
    "<i><small>This notebook tutorial was automatically generated with <a href= \"https://github.com/root-project/root/blob/master/documentation/doxygen/converttonotebook.py\">ROOTBOOK-izer</a> from the macro found in the ROOT repository  on Thursday, August 29, 2019 at 02:19 AM.</small></i>"
   ]
  },
  {
   "cell_type": "markdown",
   "metadata": {},
   "source": [
    "No nuisance for batch execution"
   ]
  },
  {
   "cell_type": "code",
   "execution_count": null,
   "metadata": {
    "collapsed": false
   },
   "outputs": [],
   "source": [
    "gROOT->SetBatch();"
   ]
  },
  {
   "cell_type": "markdown",
   "metadata": {},
   "source": [
    "Perform the operation sequentially ---------------------------------------"
   ]
  },
  {
   "cell_type": "code",
   "execution_count": null,
   "metadata": {
    "collapsed": false
   },
   "outputs": [],
   "source": [
    "TChain inputChain(\"multiCore\");\n",
    "inputChain.Add(\"mt101_multiCore_*.root\");\n",
    "TH1F outHisto(\"outHisto\", \"Random Numbers\", 128, -4, 4);\n",
    "inputChain.Draw(\"r >> outHisto\");\n",
    "outHisto.Fit(\"gaus\");"
   ]
  },
  {
   "cell_type": "markdown",
   "metadata": {},
   "source": [
    "We now go mt! ------------------------------------------------------------"
   ]
  },
  {
   "cell_type": "markdown",
   "metadata": {},
   "source": [
    "The first, fundamental operation to be performed in order to make root\n",
    " thread-aware."
   ]
  },
  {
   "cell_type": "code",
   "execution_count": null,
   "metadata": {
    "collapsed": false
   },
   "outputs": [],
   "source": [
    "ROOT::EnableThreadSafety();"
   ]
  },
  {
   "cell_type": "markdown",
   "metadata": {},
   "source": [
    "We adapt our parallelisation to the number of input files"
   ]
  },
  {
   "cell_type": "code",
   "execution_count": null,
   "metadata": {
    "collapsed": false
   },
   "outputs": [],
   "source": [
    "const auto nFiles = inputChain.GetListOfFiles()->GetEntries();"
   ]
  },
  {
   "cell_type": "markdown",
   "metadata": {},
   "source": [
    "We define the histograms we'll fill"
   ]
  },
  {
   "cell_type": "code",
   "execution_count": null,
   "metadata": {
    "collapsed": false
   },
   "outputs": [],
   "source": [
    "std::vector<TH1F> histograms;\n",
    "auto workerIDs = ROOT::TSeqI(nFiles);\n",
    "histograms.reserve(nFiles);\n",
    "for (auto workerID : workerIDs) {\n",
    "   histograms.emplace_back(TH1F(Form(\"outHisto_%u\", workerID), \"Random Numbers\", 128, -4, 4));\n",
    "}"
   ]
  },
  {
   "cell_type": "markdown",
   "metadata": {},
   "source": [
    "We define our work item"
   ]
  },
  {
   "cell_type": "code",
   "execution_count": null,
   "metadata": {
    "collapsed": false
   },
   "outputs": [],
   "source": [
    "auto workItem = [&histograms](UInt_t workerID) {\n",
    "   TFile f(Form(\"mt101_multiCore_%u.root\", workerID));\n",
    "   auto ntuple = f.Get<TNtuple>(\"multiCore\");\n",
    "   auto &histo = histograms.at(workerID);\n",
    "   for (auto index : ROOT::TSeqL(ntuple->GetEntriesFast())) {\n",
    "      ntuple->GetEntry(index);\n",
    "      histo.Fill(ntuple->GetArgs()[0]);\n",
    "   }\n",
    "};\n",
    "\n",
    "TH1F sumHistogram(\"SumHisto\", \"Random Numbers\", 128, -4, 4);"
   ]
  },
  {
   "cell_type": "markdown",
   "metadata": {},
   "source": [
    "Create the collection which will hold the threads, our \"pool\""
   ]
  },
  {
   "cell_type": "code",
   "execution_count": null,
   "metadata": {
    "collapsed": false
   },
   "outputs": [],
   "source": [
    "std::vector<std::thread> workers;"
   ]
  },
  {
   "cell_type": "markdown",
   "metadata": {},
   "source": [
    "Spawn workers\n",
    " Fill the \"pool\" with workers"
   ]
  },
  {
   "cell_type": "code",
   "execution_count": null,
   "metadata": {
    "collapsed": false
   },
   "outputs": [],
   "source": [
    "for (auto workerID : workerIDs) {\n",
    "   workers.emplace_back(workItem, workerID);\n",
    "}"
   ]
  },
  {
   "cell_type": "markdown",
   "metadata": {},
   "source": [
    "Now join them"
   ]
  },
  {
   "cell_type": "code",
   "execution_count": null,
   "metadata": {
    "collapsed": false
   },
   "outputs": [],
   "source": [
    "for (auto &&worker : workers)\n",
    "   worker.join();"
   ]
  },
  {
   "cell_type": "markdown",
   "metadata": {},
   "source": [
    "And reduce with a simple lambda"
   ]
  },
  {
   "cell_type": "code",
   "execution_count": null,
   "metadata": {
    "collapsed": false
   },
   "outputs": [],
   "source": [
    "std::for_each(std::begin(histograms), std::end(histograms),\n",
    "              [&sumHistogram](const TH1F &h) { sumHistogram.Add(&h); });\n",
    "\n",
    "sumHistogram.Fit(\"gaus\", 0);\n",
    "\n",
    "return 0;"
   ]
  },
  {
   "cell_type": "markdown",
   "metadata": {},
   "source": [
    "Draw all canvases "
   ]
  },
  {
   "cell_type": "code",
   "execution_count": null,
   "metadata": {
    "collapsed": false
   },
   "outputs": [],
   "source": [
    "gROOT->GetListOfCanvases()->Draw()"
   ]
  }
 ],
 "metadata": {
  "kernelspec": {
   "display_name": "ROOT C++",
   "language": "c++",
   "name": "root"
  },
  "language_info": {
   "codemirror_mode": "text/x-c++src",
   "file_extension": ".C",
   "mimetype": " text/x-c++src",
   "name": "c++"
  }
 },
 "nbformat": 4,
 "nbformat_minor": 2
}
