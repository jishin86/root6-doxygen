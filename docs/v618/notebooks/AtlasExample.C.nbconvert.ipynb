{
 "cells": [
  {
   "cell_type": "markdown",
   "metadata": {},
   "source": [
    "#  Atlas Example\n",
    "Show how ATLAS Style looks like. It is based on a style file from BaBar.\n",
    "\n",
    "\n",
    "\n",
    "\n",
    "**Author:**  M.Sutton  \n",
    "<i><small>This notebook tutorial was automatically generated with <a href= \"https://github.com/root-project/root/blob/master/documentation/doxygen/converttonotebook.py\">ROOTBOOK-izer</a> from the macro found in the ROOT repository  on Thursday, August 29, 2019 at 01:38 AM.</small></i>"
   ]
  },
  {
   "cell_type": "code",
   "execution_count": 1,
   "metadata": {
    "collapsed": false
   },
   "outputs": [],
   "source": [
    "const Int_t GMAX=864;\n",
    "\n",
    "const int nren=3;\n",
    "static const double mur[nren] = {1.0,0.25,4.0};\n",
    "static const double muf[nren] = {1.0,0.25,4.0};\n",
    "const unsigned int NUMPDF=41;\n",
    "\n",
    "TGraphErrors* GetGraph(Int_t ir, Int_t ifs,Int_t icut, Int_t ipdf);\n",
    "void AddtoBand(TGraphErrors* g1, TGraphAsymmErrors* g2);\n",
    "TGraphAsymmErrors* MakeBand(TGraphErrors* g0, TGraphErrors* g1,TGraphErrors* g2);"
   ]
  },
  {
   "cell_type": "markdown",
   "metadata": {},
   "source": [
    " A helper function is created: "
   ]
  },
  {
   "cell_type": "code",
   "execution_count": 2,
   "metadata": {
    "collapsed": false
   },
   "outputs": [],
   "source": [
    "%%cpp -d\n",
    "TGraphErrors* GetGraph(Int_t ir, Int_t ifs,Int_t icut, Int_t ipdf)\n",
    "{\n",
    "   const char *cuts[5] =\n",
    "      {\"0.0 <= |eta| < 0.5\",\n",
    "       \"0.5 <= |eta| < 1.0\",\n",
    "       \"1.0 <= |eta| < 1.5\",\n",
    "       \"1.5 <= |eta| < 2.0\",\n",
    "       \"2.0 <= |eta| < 3.0\"};\n",
    "\n",
    "   const double mur[] = {1.0,0.25,4.0};\n",
    "   const double muf[] = {1.0,0.25,4.0};\n",
    "\n",
    "   TFile::SetCacheFileDir(\".\");\n",
    "   TFile *file = TFile::Open(\"http://root.cern.ch/files/AtlasGraphs.root\", \"CACHEREAD\");\n",
    "\n",
    "   char gname[100];\n",
    "   char tname[100];\n",
    "\n",
    "   if (ipdf>=0)\n",
    "      sprintf(tname,\" E_T (mu_r=%g, mu_f=%g);%s Pdf: %d\",mur[ir],muf[ifs],cuts[icut],ipdf);\n",
    "   else\n",
    "      sprintf(tname,\" E_T %s Ms= %d\",cuts[icut],-ipdf);\n",
    "\n",
    "   TGraphErrors* g1 = 0;\n",
    "\n",
    "   for (int i=1; i<=GMAX; i++) {\n",
    "      sprintf(gname,\"full_%d\",i);\n",
    "      g1 = (TGraphErrors*) file->Get(gname);\n",
    "      if (!g1) {\n",
    "         cout << gname << \"  not found \" << endl;\n",
    "         return nullptr;\n",
    "      }\n",
    "\n",
    "      const char *title = g1->GetTitle();\n",
    "\n",
    "      if (strcmp(title,tname)==0) break;\n",
    "      g1 = 0;\n",
    "   }\n",
    "\n",
    "   if (!g1) return nullptr;\n",
    "   return g1;\n",
    "}"
   ]
  },
  {
   "cell_type": "markdown",
   "metadata": {},
   "source": [
    " A helper function is created: "
   ]
  },
  {
   "cell_type": "code",
   "execution_count": 3,
   "metadata": {
    "collapsed": false
   },
   "outputs": [],
   "source": [
    "%%cpp -d\n",
    "TGraphAsymmErrors* MakeBand(TGraphErrors* g0, TGraphErrors* g1,TGraphErrors* g2) {\n",
    "\n",
    "   TGraphAsymmErrors* g3 = new TGraphAsymmErrors();\n",
    "\n",
    "   Double_t  x1 = 0., y1 = 0., x2 = 0., y2 = 0., y0 = 0, x3 = 0.;\n",
    "   Double_t dum;\n",
    "   for (Int_t i=0; i<g1->GetN(); i++) {\n",
    "      g0->GetPoint(i, x1, y0);\n",
    "      g1->GetPoint(i, x1, y1);\n",
    "      g2->GetPoint(i, x1, y2);\n",
    "\n",
    "      if (i==g1->GetN()-1) x2=x1;\n",
    "      else                 g2->GetPoint(i+1,x2,dum);\n",
    "\n",
    "      if (i==0)            x3=x1;\n",
    "      else                 g2->GetPoint(i-1,x3,dum);\n",
    "\n",
    "      Double_t tmp = y2;\n",
    "      if (y1 < y2) {\n",
    "         y2 = y1;\n",
    "         y1 = tmp;\n",
    "      }\n",
    "      g3->SetPoint(i,x1,y0);\n",
    "\n",
    "      Double_t binwl = (x1-x3)/2.;\n",
    "      Double_t binwh = (x2-x1)/2.;\n",
    "      if (binwl == 0.)  binwl = binwh;\n",
    "      if (binwh == 0.)  binwh = binwl;\n",
    "      g3->SetPointError(i, binwl, binwh, y0-y2, y1-y0);\n",
    "\n",
    "   }\n",
    "   return g3;\n",
    "}"
   ]
  },
  {
   "cell_type": "markdown",
   "metadata": {},
   "source": [
    " A helper function is created: "
   ]
  },
  {
   "cell_type": "code",
   "execution_count": 4,
   "metadata": {
    "collapsed": false
   },
   "outputs": [],
   "source": [
    "%%cpp -d\n",
    "void AddtoBand(TGraphErrors* g1, TGraphAsymmErrors* g2) {\n",
    "\n",
    "   Double_t x1=0., y1=0., y2=0., y0=0;\n",
    "\n",
    "   if (g1->GetN()!=g2->GetN())\n",
    "      cout << \" graphs don't have the same number of elements \" << endl;\n",
    "\n",
    "   Double_t* EYhigh = g2-> GetEYhigh();\n",
    "   Double_t* EYlow  = g2-> GetEYlow();\n",
    "\n",
    "   for (Int_t i=0; i<g1->GetN(); i++) {\n",
    "      g1->GetPoint(i, x1, y1);\n",
    "      g2->GetPoint(i, x1, y2);\n",
    "\n",
    "      if ( y1==0 || y2==0 )\n",
    "         cerr << \"check these points very carefully : AddtoBand() : point \" << i << endl;\n",
    "\n",
    "      Double_t eyh=0., eyl=0.;\n",
    "\n",
    "      y0 = y1-y2;\n",
    "      if (y0 != 0) {\n",
    "         if (y0 > 0) {\n",
    "            eyh = EYhigh[i];\n",
    "            eyh = sqrt(eyh*eyh+y0*y0);\n",
    "            g2->SetPointEYhigh(i, eyh);\n",
    "         } else {\n",
    "            eyl = EYlow[i];\n",
    "            eyl = sqrt(eyl*eyl+y0*y0);\n",
    "            g2->SetPointEYlow (i, eyl);\n",
    "         }\n",
    "      }\n",
    "   }\n",
    "}"
   ]
  },
  {
   "cell_type": "code",
   "execution_count": 5,
   "metadata": {
    "collapsed": false
   },
   "outputs": [
    {
     "name": "stderr",
     "output_type": "stream",
     "text": [
      "[TFile::Cp] Total 1.57 MB\t|====================| 100.00 % [52.7 MB/s]\r\n",
      "Info in <TFile::OpenFromCache>: using local cache copy of http://root.cern.ch/files/AtlasGraphs.root [./files/AtlasGraphs.root]\n",
      "Info in <TFile::OpenFromCache>: using local cache copy of http://root.cern.ch/files/AtlasGraphs.root [./files/AtlasGraphs.root]\n",
      "Info in <TFile::OpenFromCache>: using local cache copy of http://root.cern.ch/files/AtlasGraphs.root [./files/AtlasGraphs.root]\n",
      "Info in <TFile::OpenFromCache>: using local cache copy of http://root.cern.ch/files/AtlasGraphs.root [./files/AtlasGraphs.root]\n",
      "Info in <TFile::OpenFromCache>: using local cache copy of http://root.cern.ch/files/AtlasGraphs.root [./files/AtlasGraphs.root]\n",
      "Info in <TFile::OpenFromCache>: using local cache copy of http://root.cern.ch/files/AtlasGraphs.root [./files/AtlasGraphs.root]\n",
      "Info in <TFile::OpenFromCache>: using local cache copy of http://root.cern.ch/files/AtlasGraphs.root [./files/AtlasGraphs.root]\n",
      "Info in <TFile::OpenFromCache>: using local cache copy of http://root.cern.ch/files/AtlasGraphs.root [./files/AtlasGraphs.root]\n",
      "Info in <TFile::OpenFromCache>: using local cache copy of http://root.cern.ch/files/AtlasGraphs.root [./files/AtlasGraphs.root]\n",
      "Info in <TFile::OpenFromCache>: using local cache copy of http://root.cern.ch/files/AtlasGraphs.root [./files/AtlasGraphs.root]\n",
      "Info in <TFile::OpenFromCache>: using local cache copy of http://root.cern.ch/files/AtlasGraphs.root [./files/AtlasGraphs.root]\n",
      "Info in <TFile::OpenFromCache>: using local cache copy of http://root.cern.ch/files/AtlasGraphs.root [./files/AtlasGraphs.root]\n",
      "Info in <TFile::OpenFromCache>: using local cache copy of http://root.cern.ch/files/AtlasGraphs.root [./files/AtlasGraphs.root]\n",
      "Info in <TFile::OpenFromCache>: using local cache copy of http://root.cern.ch/files/AtlasGraphs.root [./files/AtlasGraphs.root]\n",
      "Info in <TFile::OpenFromCache>: using local cache copy of http://root.cern.ch/files/AtlasGraphs.root [./files/AtlasGraphs.root]\n",
      "Info in <TFile::OpenFromCache>: using local cache copy of http://root.cern.ch/files/AtlasGraphs.root [./files/AtlasGraphs.root]\n",
      "Info in <TFile::OpenFromCache>: using local cache copy of http://root.cern.ch/files/AtlasGraphs.root [./files/AtlasGraphs.root]\n",
      "Info in <TFile::OpenFromCache>: using local cache copy of http://root.cern.ch/files/AtlasGraphs.root [./files/AtlasGraphs.root]\n",
      "Info in <TFile::OpenFromCache>: using local cache copy of http://root.cern.ch/files/AtlasGraphs.root [./files/AtlasGraphs.root]\n",
      "Info in <TFile::OpenFromCache>: using local cache copy of http://root.cern.ch/files/AtlasGraphs.root [./files/AtlasGraphs.root]\n",
      "Info in <TFile::OpenFromCache>: using local cache copy of http://root.cern.ch/files/AtlasGraphs.root [./files/AtlasGraphs.root]\n",
      "Info in <TFile::OpenFromCache>: using local cache copy of http://root.cern.ch/files/AtlasGraphs.root [./files/AtlasGraphs.root]\n",
      "Info in <TFile::OpenFromCache>: using local cache copy of http://root.cern.ch/files/AtlasGraphs.root [./files/AtlasGraphs.root]\n",
      "Info in <TFile::OpenFromCache>: using local cache copy of http://root.cern.ch/files/AtlasGraphs.root [./files/AtlasGraphs.root]\n",
      "Info in <TFile::OpenFromCache>: using local cache copy of http://root.cern.ch/files/AtlasGraphs.root [./files/AtlasGraphs.root]\n",
      "Info in <TFile::OpenFromCache>: using local cache copy of http://root.cern.ch/files/AtlasGraphs.root [./files/AtlasGraphs.root]\n",
      "Info in <TFile::OpenFromCache>: using local cache copy of http://root.cern.ch/files/AtlasGraphs.root [./files/AtlasGraphs.root]\n",
      "Info in <TFile::OpenFromCache>: using local cache copy of http://root.cern.ch/files/AtlasGraphs.root [./files/AtlasGraphs.root]\n",
      "Info in <TFile::OpenFromCache>: using local cache copy of http://root.cern.ch/files/AtlasGraphs.root [./files/AtlasGraphs.root]\n",
      "Info in <TFile::OpenFromCache>: using local cache copy of http://root.cern.ch/files/AtlasGraphs.root [./files/AtlasGraphs.root]\n",
      "Info in <TFile::OpenFromCache>: using local cache copy of http://root.cern.ch/files/AtlasGraphs.root [./files/AtlasGraphs.root]\n",
      "Info in <TFile::OpenFromCache>: using local cache copy of http://root.cern.ch/files/AtlasGraphs.root [./files/AtlasGraphs.root]\n",
      "Info in <TFile::OpenFromCache>: using local cache copy of http://root.cern.ch/files/AtlasGraphs.root [./files/AtlasGraphs.root]\n",
      "Info in <TFile::OpenFromCache>: using local cache copy of http://root.cern.ch/files/AtlasGraphs.root [./files/AtlasGraphs.root]\n",
      "Info in <TFile::OpenFromCache>: using local cache copy of http://root.cern.ch/files/AtlasGraphs.root [./files/AtlasGraphs.root]\n",
      "Info in <TFile::OpenFromCache>: using local cache copy of http://root.cern.ch/files/AtlasGraphs.root [./files/AtlasGraphs.root]\n",
      "Info in <TFile::OpenFromCache>: using local cache copy of http://root.cern.ch/files/AtlasGraphs.root [./files/AtlasGraphs.root]\n",
      "Info in <TFile::OpenFromCache>: using local cache copy of http://root.cern.ch/files/AtlasGraphs.root [./files/AtlasGraphs.root]\n",
      "Info in <TFile::OpenFromCache>: using local cache copy of http://root.cern.ch/files/AtlasGraphs.root [./files/AtlasGraphs.root]\n",
      "Info in <TFile::OpenFromCache>: using local cache copy of http://root.cern.ch/files/AtlasGraphs.root [./files/AtlasGraphs.root]\n",
      "Info in <TFile::OpenFromCache>: using local cache copy of http://root.cern.ch/files/AtlasGraphs.root [./files/AtlasGraphs.root]\n",
      "Info in <TFile::OpenFromCache>: using local cache copy of http://root.cern.ch/files/AtlasGraphs.root [./files/AtlasGraphs.root]\n",
      "Info in <TFile::OpenFromCache>: using local cache copy of http://root.cern.ch/files/AtlasGraphs.root [./files/AtlasGraphs.root]\n",
      "Info in <TFile::OpenFromCache>: using local cache copy of http://root.cern.ch/files/AtlasGraphs.root [./files/AtlasGraphs.root]\n"
     ]
    }
   ],
   "source": [
    "gROOT->SetStyle(\"ATLAS\");\n",
    "\n",
    "Int_t icol1=5;\n",
    "Int_t icol2=5;\n",
    "\n",
    "auto canvas = new TCanvas(\"canvas\",\"single inclusive jets\",50,50,600,600);\n",
    "canvas->SetLogy();\n",
    "\n",
    "Double_t ymin = 1.e-3;  Double_t ymax = 2e7;\n",
    "Double_t xmin = 60.00;  Double_t xmax = 3500.;\n",
    "auto frame = canvas->DrawFrame(xmin,ymin,xmax,ymax);\n",
    "frame->SetYTitle(\"d#sigma_{jet}/dE_{T,jet} [fb/GeV]\");\n",
    "frame->SetXTitle(\"E_{T,jet}  [GeV]\");\n",
    "frame->GetYaxis()->SetTitleOffset(1.4);\n",
    "frame->GetXaxis()->SetTitleOffset(1.4);\n",
    "\n",
    "const Int_t ncut=1;\n",
    "TGraphErrors *data[ncut];\n",
    "\n",
    "for (Int_t icut=0; icut<ncut; icut++) { // loop over cuts\n",
    "   TGraphErrors *g1[nren][ncut];\n",
    "   for (Int_t ir=0; ir<nren; ir++) { // loop over ren scale\n",
    "      g1[ir][icut] = GetGraph(ir,ir,icut,0);\n",
    "      if (!g1[ir][icut]) {\n",
    "         cout << \" g1 not  found \" << endl;\n",
    "         return;\n",
    "      }\n",
    "      g1[ir][icut]->SetLineColor(1);\n",
    "      g1[ir][icut]->SetMarkerStyle(0);\n",
    "   }\n",
    "\n",
    "   char daname[100];\n",
    "   sprintf(daname,\"data_%d\",icut);\n",
    "   data[icut] = (TGraphErrors*)g1[0][icut]->Clone(daname);\n",
    "   data[icut]->SetMarkerStyle(20);\n",
    "   data[icut]->SetMarkerColor(1);\n",
    "\n",
    "   // Just invent some data\n",
    "   for (Int_t i=0; i< data[icut]->GetN(); i++) {\n",
    "      Double_t x1,y1,e,dx1=0.;\n",
    "      data[icut]->GetPoint(i,x1,y1);\n",
    "      Double_t r1 = 0.4*(gRandom->Rndm(1)+2);\n",
    "      Double_t r2 = 0.4*(gRandom->Rndm(1)+2);\n",
    "      Double_t y;\n",
    "      if (icut==0) y = r1*y1+r1*r2*r2*x1/50000.;\n",
    "      else         y = r1*y1;\n",
    "      e = sqrt(y*1000)/200;\n",
    "      data[icut]->SetPoint(i, x1,y);\n",
    "      data[icut]->SetPointError(i,dx1,e);\n",
    "   }\n",
    "\n",
    "   TGraphAsymmErrors* scale[ncut];\n",
    "   TGraphAsymmErrors* scalepdf[ncut];\n",
    "\n",
    "   scale[icut] =  MakeBand(g1[0][icut],g1[1][icut],g1[2][icut]);\n",
    "   scalepdf[icut]=(TGraphAsymmErrors* ) scale[icut]->Clone(\"scalepdf\");\n",
    "\n",
    "   TGraphErrors *gpdf[NUMPDF][ncut];\n",
    "   for (Int_t ipdf=0; ipdf<NUMPDF; ipdf++) {\n",
    "      gpdf[ipdf][icut]= GetGraph(0,0,icut,ipdf);\n",
    "      if (!gpdf[ipdf][icut]) {\n",
    "         cout << \" gpdf not  found \" << endl;\n",
    "         return;\n",
    "      }\n",
    "      gpdf[ipdf][icut]->SetLineColor(2);\n",
    "      gpdf[ipdf][icut]->SetLineStyle(1);\n",
    "      gpdf[ipdf][icut]->SetMarkerStyle(0);\n",
    "      AddtoBand(gpdf[ipdf][icut],scalepdf[icut]);\n",
    "   }\n",
    "\n",
    "   scalepdf[icut]->SetFillColor(icol2);\n",
    "   scalepdf[icut]->Draw(\"zE2\");\n",
    "   scalepdf[icut]->SetLineWidth(3);\n",
    "   scale[icut]->SetFillColor(icol1);\n",
    "   scale[icut]->Draw(\"zE2\");\n",
    "   g1[0][icut]->SetLineWidth(3);\n",
    "   g1[0][icut]->Draw(\"z\");\n",
    "   data[icut]->Draw(\"P\");\n",
    "}\n",
    "\n",
    "auto t = new TLatex; t->SetNDC();\n",
    "t->DrawLatex(0.3,  0.85, \"#sqrt{s}= 14 TeV\");\n",
    "t->DrawLatex(0.57, 0.85, \"|#eta_{jet}|<0.5\");\n",
    "\n",
    "auto l = new TLegend(0.45,0.65,0.8,0.8,\"\",\"NDC\");\n",
    "l->SetBorderSize(0.);\n",
    "l->SetTextFont(42);\n",
    "l->AddEntry(\"data_0\", \"Data 2009\", \"ep\");\n",
    "l->AddEntry(\"scalepdf\", \"NLO QCD\", \"lf\");\n",
    "l->Draw();"
   ]
  },
  {
   "cell_type": "markdown",
   "metadata": {},
   "source": [
    "Draw all canvases "
   ]
  },
  {
   "cell_type": "code",
   "execution_count": 6,
   "metadata": {
    "collapsed": false
   },
   "outputs": [
    {
     "data": {
      "text/html": [
       "\n",
       "<div id=\"root_plot_1\"\n",
       "     style=\"width: 596px; height: 572px\">\n",
       "</div>\n",
       "\n",
       "<script>\n",
       " requirejs.config({\n",
       "     paths: {\n",
       "       'JSRootCore' : 'https://root.cern.ch/js/notebook//scripts/JSRootCore',\n",
       "     }\n",
       "   });\n",
       " require(['JSRootCore'],\n",
       "     function(Core) {\n",
       "       var obj = Core.JSONR_unref({\"_typename\":\"TCanvas\",\"fUniqueID\":0,\"fBits\":53673992,\"fLineColor\":1,\"fLineStyle\":1,\"fLineWidth\":1,\"fFillColor\":0,\"fFillStyle\":1001,\"fLeftMargin\":0.16,\"fRightMargin\":0.05,\"fBottomMargin\":0.16,\"fTopMargin\":0.05,\"fXfile\":2,\"fYfile\":2,\"fAfile\":1,\"fXstat\":0.99,\"fYstat\":0.99,\"fAstat\":2,\"fFrameFillColor\":0,\"fFrameLineColor\":1,\"fFrameFillStyle\":1001,\"fFrameLineStyle\":1,\"fFrameLineWidth\":1,\"fFrameBorderSize\":1,\"fFrameBorderMode\":0,\"fX1\":-636.708826263104,\"fY1\":-5.08628445278491,\"fX2\":3717.72151631798,\"fY2\":7.95299391144681,\"fXtoAbsPixelk\":87.1477204408307,\"fXtoPixelk\":87.1477204408307,\"fXtoPixel\":0.136872094191481,\"fYtoAbsPixelk\":348.877678828473,\"fYtoPixelk\":348.877678828473,\"fYtoPixel\":-43.8674583072836,\"fUtoAbsPixelk\":5e-5,\"fUtoPixelk\":5e-5,\"fUtoPixel\":596,\"fVtoAbsPixelk\":572.00005,\"fVtoPixelk\":572,\"fVtoPixel\":-572,\"fAbsPixeltoXk\":-636.708826263104,\"fPixeltoXk\":-636.708826263104,\"fPixeltoX\":7.30609117882732,\"fAbsPixeltoYk\":7.95299391144681,\"fPixeltoYk\":-5.08628445278491,\"fPixeltoY\":-0.0227959411962093,\"fXlowNDC\":0,\"fYlowNDC\":0,\"fXUpNDC\":0,\"fYUpNDC\":0,\"fWNDC\":1,\"fHNDC\":1,\"fAbsXlowNDC\":0,\"fAbsYlowNDC\":0,\"fAbsWNDC\":1,\"fAbsHNDC\":1,\"fUxmin\":60,\"fUymin\":-3,\"fUxmax\":3500,\"fUymax\":7.30102999566398,\"fTheta\":30,\"fPhi\":30,\"fAspectRatio\":0,\"fNumber\":0,\"fTickx\":1,\"fTicky\":1,\"fLogx\":0,\"fLogy\":1,\"fLogz\":0,\"fPadPaint\":0,\"fCrosshair\":0,\"fCrosshairPos\":0,\"fBorderSize\":2,\"fBorderMode\":0,\"fModified\":false,\"fGridx\":false,\"fGridy\":false,\"fAbsCoord\":false,\"fEditable\":true,\"fFixedAspectRatio\":false,\"fPrimitives\":{\"_typename\":\"TList\",\"name\":\"TList\",\"arr\":[{\"_typename\":\"TFrame\",\"fUniqueID\":0,\"fBits\":50331656,\"fLineColor\":1,\"fLineStyle\":1,\"fLineWidth\":1,\"fFillColor\":0,\"fFillStyle\":1001,\"fX1\":60,\"fY1\":-3,\"fX2\":3500,\"fY2\":7.30102999566398,\"fBorderSize\":1,\"fBorderMode\":0},{\"_typename\":\"TH1F\",\"fUniqueID\":0,\"fBits\":50332169,\"fName\":\"hframe\",\"fTitle\":\"\",\"fLineColor\":1,\"fLineStyle\":1,\"fLineWidth\":2,\"fFillColor\":0,\"fFillStyle\":1001,\"fMarkerColor\":1,\"fMarkerStyle\":20,\"fMarkerSize\":1.2,\"fNcells\":1002,\"fXaxis\":{\"_typename\":\"TAxis\",\"fUniqueID\":0,\"fBits\":50331648,\"fName\":\"xaxis\",\"fTitle\":\"E_{T,jet}  [GeV]\",\"fNdivisions\":510,\"fAxisColor\":1,\"fLabelColor\":1,\"fLabelFont\":42,\"fLabelOffset\":0.005,\"fLabelSize\":0.05,\"fTickLength\":0.03,\"fTitleOffset\":1.4,\"fTitleSize\":0.05,\"fTitleColor\":1,\"fTitleFont\":42,\"fNbins\":1000,\"fXmin\":60,\"fXmax\":3500,\"fXbins\":[],\"fFirst\":0,\"fLast\":0,\"fBits2\":0,\"fTimeDisplay\":false,\"fTimeFormat\":\"\",\"fLabels\":null,\"fModLabs\":null},\"fYaxis\":{\"_typename\":\"TAxis\",\"fUniqueID\":0,\"fBits\":50331648,\"fName\":\"yaxis\",\"fTitle\":\"d#sigma_{jet}\\/dE_{T,jet} [fb\\/GeV]\",\"fNdivisions\":510,\"fAxisColor\":1,\"fLabelColor\":1,\"fLabelFont\":42,\"fLabelOffset\":0.005,\"fLabelSize\":0.05,\"fTickLength\":0.03,\"fTitleOffset\":1.4,\"fTitleSize\":0.05,\"fTitleColor\":1,\"fTitleFont\":42,\"fNbins\":1,\"fXmin\":0.001,\"fXmax\":20000000,\"fXbins\":[],\"fFirst\":0,\"fLast\":0,\"fBits2\":0,\"fTimeDisplay\":false,\"fTimeFormat\":\"\",\"fLabels\":null,\"fModLabs\":null},\"fZaxis\":{\"_typename\":\"TAxis\",\"fUniqueID\":0,\"fBits\":50331648,\"fName\":\"zaxis\",\"fTitle\":\"\",\"fNdivisions\":510,\"fAxisColor\":1,\"fLabelColor\":1,\"fLabelFont\":42,\"fLabelOffset\":0.005,\"fLabelSize\":0.05,\"fTickLength\":0.03,\"fTitleOffset\":1,\"fTitleSize\":0.05,\"fTitleColor\":1,\"fTitleFont\":42,\"fNbins\":1,\"fXmin\":0,\"fXmax\":1,\"fXbins\":[],\"fFirst\":0,\"fLast\":0,\"fBits2\":0,\"fTimeDisplay\":false,\"fTimeFormat\":\"\",\"fLabels\":null,\"fModLabs\":null},\"fBarOffset\":0,\"fBarWidth\":1000,\"fEntries\":0,\"fTsumw\":0,\"fTsumw2\":0,\"fTsumwx\":0,\"fTsumwx2\":0,\"fMaximum\":20000000,\"fMinimum\":0.001,\"fNormFactor\":0,\"fContour\":[],\"fSumw2\":[],\"fOption\":\"\",\"fFunctions\":{\"_typename\":\"TList\",\"name\":\"TList\",\"arr\":[],\"opt\":[]},\"fBufferSize\":0,\"fBuffer\":[],\"fBinStatErrOpt\":0,\"fStatOverflows\":2,\"fArray\":[0,0,0,0,0,0,0,0,0,0,0,0,0,0,0,0,0,0,0,0,0,0,0,0,0,0,0,0,0,0,0,0,0,0,0,0,0,0,0,0,0,0,0,0,0,0,0,0,0,0,0,0,0,0,0,0,0,0,0,0,0,0,0,0,0,0,0,0,0,0,0,0,0,0,0,0,0,0,0,0,0,0,0,0,0,0,0,0,0,0,0,0,0,0,0,0,0,0,0,0,0,0,0,0,0,0,0,0,0,0,0,0,0,0,0,0,0,0,0,0,0,0,0,0,0,0,0,0,0,0,0,0,0,0,0,0,0,0,0,0,0,0,0,0,0,0,0,0,0,0,0,0,0,0,0,0,0,0,0,0,0,0,0,0,0,0,0,0,0,0,0,0,0,0,0,0,0,0,0,0,0,0,0,0,0,0,0,0,0,0,0,0,0,0,0,0,0,0,0,0,0,0,0,0,0,0,0,0,0,0,0,0,0,0,0,0,0,0,0,0,0,0,0,0,0,0,0,0,0,0,0,0,0,0,0,0,0,0,0,0,0,0,0,0,0,0,0,0,0,0,0,0,0,0,0,0,0,0,0,0,0,0,0,0,0,0,0,0,0,0,0,0,0,0,0,0,0,0,0,0,0,0,0,0,0,0,0,0,0,0,0,0,0,0,0,0,0,0,0,0,0,0,0,0,0,0,0,0,0,0,0,0,0,0,0,0,0,0,0,0,0,0,0,0,0,0,0,0,0,0,0,0,0,0,0,0,0,0,0,0,0,0,0,0,0,0,0,0,0,0,0,0,0,0,0,0,0,0,0,0,0,0,0,0,0,0,0,0,0,0,0,0,0,0,0,0,0,0,0,0,0,0,0,0,0,0,0,0,0,0,0,0,0,0,0,0,0,0,0,0,0,0,0,0,0,0,0,0,0,0,0,0,0,0,0,0,0,0,0,0,0,0,0,0,0,0,0,0,0,0,0,0,0,0,0,0,0,0,0,0,0,0,0,0,0,0,0,0,0,0,0,0,0,0,0,0,0,0,0,0,0,0,0,0,0,0,0,0,0,0,0,0,0,0,0,0,0,0,0,0,0,0,0,0,0,0,0,0,0,0,0,0,0,0,0,0,0,0,0,0,0,0,0,0,0,0,0,0,0,0,0,0,0,0,0,0,0,0,0,0,0,0,0,0,0,0,0,0,0,0,0,0,0,0,0,0,0,0,0,0,0,0,0,0,0,0,0,0,0,0,0,0,0,0,0,0,0,0,0,0,0,0,0,0,0,0,0,0,0,0,0,0,0,0,0,0,0,0,0,0,0,0,0,0,0,0,0,0,0,0,0,0,0,0,0,0,0,0,0,0,0,0,0,0,0,0,0,0,0,0,0,0,0,0,0,0,0,0,0,0,0,0,0,0,0,0,0,0,0,0,0,0,0,0,0,0,0,0,0,0,0,0,0,0,0,0,0,0,0,0,0,0,0,0,0,0,0,0,0,0,0,0,0,0,0,0,0,0,0,0,0,0,0,0,0,0,0,0,0,0,0,0,0,0,0,0,0,0,0,0,0,0,0,0,0,0,0,0,0,0,0,0,0,0,0,0,0,0,0,0,0,0,0,0,0,0,0,0,0,0,0,0,0,0,0,0,0,0,0,0,0,0,0,0,0,0,0,0,0,0,0,0,0,0,0,0,0,0,0,0,0,0,0,0,0,0,0,0,0,0,0,0,0,0,0,0,0,0,0,0,0,0,0,0,0,0,0,0,0,0,0,0,0,0,0,0,0,0,0,0,0,0,0,0,0,0,0,0,0,0,0,0,0,0,0,0,0,0,0,0,0,0,0,0,0,0,0,0,0,0,0,0,0,0,0,0,0,0,0,0,0,0,0,0,0,0,0,0,0,0,0,0,0,0,0,0,0,0,0,0,0,0,0,0,0,0,0,0,0,0,0,0,0,0,0,0,0,0,0,0,0,0,0,0,0,0,0,0,0,0,0,0,0,0,0,0,0,0,0,0,0,0,0,0,0,0,0,0,0,0,0,0,0,0,0,0,0,0,0,0,0,0,0,0,0,0,0,0,0,0,0,0,0,0,0,0,0,0,0,0,0,0,0,0,0,0,0,0,0,0,0,0,0,0,0,0,0,0,0,0,0,0,0,0,0,0,0,0,0,0,0,0,0,0,0,0,0,0,0,0,0,0,0,0,0,0,0,0,0,0,0,0,0,0,0,0,0,0,0,0,0,0,0,0,0,0,0,0,0,0,0,0]},{\"_typename\":\"TGraphAsymmErrors\",\"fUniqueID\":0,\"fBits\":50332680,\"fName\":\"scalepdf\",\"fTitle\":\"\",\"fLineColor\":1,\"fLineStyle\":1,\"fLineWidth\":3,\"fFillColor\":5,\"fFillStyle\":1000,\"fMarkerColor\":1,\"fMarkerStyle\":20,\"fMarkerSize\":1.2,\"fNpoints\":70,\"fX\":[50,150,250,350,450,550,650,750,850,950,1050,1150,1250,1350,1450,1550,1650,1750,1850,1950,2050,2150,2250,2350,2450,2550,2650,2750,2850,2950,3050,3150,3250,3350,3450,3550,3650,3750,3850,3950,4050,4150,4250,4350,4450,4550,4650,4750,4850,4950,5050,5150,5250,5350,5450,5550,5650,5750,5850,5950,6050,6150,6250,6350,6450,6550,6650,6750,6850,6950],\"fY\":[-1622075000000000000,6659600,318321,48380.35,10957.22,3235.474,1232.35,512.0496,230.4875,114.0837,60.50252,31.15717,17.66833,10.30068,6.149748,3.715519,2.522984,1.447458,1.016749,0.6418627,0.3872499,0.2633507,0.2075805,0.103852,0.08136212,0.05079636,0.03741861,0.0239413,0.01791186,0.01054395,0.007241929,0.005130617,0.003532339,0.002373849,0.00137003,9.496181e-4,6.706921e-4,4.554409e-4,2.78849e-4,1.753371e-4,1.218315e-4,8.359384e-5,4.204908e-5,2.534189e-5,1.829999e-5,1.054267e-5,5.733828e-6,3.572564e-6,2.471468e-6,1.321824e-6,5.265868e-7,3.898885e-7,1.855643e-7,1.056174e-7,5.022977e-8,2.376818e-8,1.009412e-8,4.176072e-9,1.74077e-9,6.479046e-10,2.904921e-10,8.314211e-11,2.458354e-11,5.519659e-12,1.238537e-12,2.121083e-13,3.513073e-14,3.83912e-15,2.029723e-16,1.932571e-17],\"fFunctions\":{\"_typename\":\"TList\",\"name\":\"TList\",\"arr\":[],\"opt\":[]},\"fHistogram\":{\"_typename\":\"TH1F\",\"fUniqueID\":0,\"fBits\":50332168,\"fName\":\"scalepdf\",\"fTitle\":\"\",\"fLineColor\":1,\"fLineStyle\":1,\"fLineWidth\":2,\"fFillColor\":0,\"fFillStyle\":1001,\"fMarkerColor\":1,\"fMarkerStyle\":20,\"fMarkerSize\":1.2,\"fNcells\":102,\"fXaxis\":{\"_typename\":\"TAxis\",\"fUniqueID\":0,\"fBits\":50331648,\"fName\":\"xaxis\",\"fTitle\":\"\",\"fNdivisions\":510,\"fAxisColor\":1,\"fLabelColor\":1,\"fLabelFont\":42,\"fLabelOffset\":0.005,\"fLabelSize\":0.05,\"fTickLength\":0.03,\"fTitleOffset\":1.4,\"fTitleSize\":0.05,\"fTitleColor\":1,\"fTitleFont\":42,\"fNbins\":100,\"fXmin\":0,\"fXmax\":7700,\"fXbins\":[],\"fFirst\":0,\"fLast\":0,\"fBits2\":0,\"fTimeDisplay\":false,\"fTimeFormat\":\"\",\"fLabels\":null,\"fModLabs\":null},\"fYaxis\":{\"_typename\":\"TAxis\",\"fUniqueID\":0,\"fBits\":50331648,\"fName\":\"yaxis\",\"fTitle\":\"\",\"fNdivisions\":510,\"fAxisColor\":1,\"fLabelColor\":1,\"fLabelFont\":42,\"fLabelOffset\":0.005,\"fLabelSize\":0.05,\"fTickLength\":0.03,\"fTitleOffset\":1.4,\"fTitleSize\":0.05,\"fTitleColor\":1,\"fTitleFont\":42,\"fNbins\":1,\"fXmin\":2213225099440885,\"fXmax\":2213225099440884992,\"fXbins\":[],\"fFirst\":0,\"fLast\":0,\"fBits2\":0,\"fTimeDisplay\":false,\"fTimeFormat\":\"\",\"fLabels\":null,\"fModLabs\":null},\"fZaxis\":{\"_typename\":\"TAxis\",\"fUniqueID\":0,\"fBits\":50331648,\"fName\":\"zaxis\",\"fTitle\":\"\",\"fNdivisions\":510,\"fAxisColor\":1,\"fLabelColor\":1,\"fLabelFont\":42,\"fLabelOffset\":0.005,\"fLabelSize\":0.05,\"fTickLength\":0.03,\"fTitleOffset\":1,\"fTitleSize\":0.05,\"fTitleColor\":1,\"fTitleFont\":42,\"fNbins\":1,\"fXmin\":0,\"fXmax\":1,\"fXbins\":[],\"fFirst\":0,\"fLast\":0,\"fBits2\":0,\"fTimeDisplay\":false,\"fTimeFormat\":\"\",\"fLabels\":null,\"fModLabs\":null},\"fBarOffset\":0,\"fBarWidth\":1000,\"fEntries\":0,\"fTsumw\":0,\"fTsumw2\":0,\"fTsumwx\":0,\"fTsumwx2\":0,\"fMaximum\":2213225099440884992,\"fMinimum\":2213225099440885,\"fNormFactor\":0,\"fContour\":[],\"fSumw2\":[],\"fOption\":\"\",\"fFunctions\":{\"_typename\":\"TList\",\"name\":\"TList\",\"arr\":[],\"opt\":[]},\"fBufferSize\":0,\"fBuffer\":[],\"fBinStatErrOpt\":0,\"fStatOverflows\":2,\"fArray\":[0,0,0,0,0,0,0,0,0,0,0,0,0,0,0,0,0,0,0,0,0,0,0,0,0,0,0,0,0,0,0,0,0,0,0,0,0,0,0,0,0,0,0,0,0,0,0,0,0,0,0,0,0,0,0,0,0,0,0,0,0,0,0,0,0,0,0,0,0,0,0,0,0,0,0,0,0,0,0,0,0,0,0,0,0,0,0,0,0,0,0,0,0,0,0,0,0,0,0,0,0,0]},\"fMinimum\":-1111,\"fMaximum\":-1111,\"fEXlow\":[50,50,50,50,50,50,50,50,50,50,50,50,50,50,50,50,50,50,50,50,50,50,50,50,50,50,50,50,50,50,50,50,50,50,50,50,50,50,50,50,50,50,50,50,50,50,50,50,50,50,50,50,50,50,50,50,50,50,50,50,50,50,50,50,50,50,50,50,50,50],\"fEXhigh\":[50,50,50,50,50,50,50,50,50,50,50,50,50,50,50,50,50,50,50,50,50,50,50,50,50,50,50,50,50,50,50,50,50,50,50,50,50,50,50,50,50,50,50,50,50,50,50,50,50,50,50,50,50,50,50,50,50,50,50,50,50,50,50,50,50,50,50,50,50,50],\"fEYlow\":[3578923257850751488,592438.299153591,26408.5455841475,4624.47126872899,1045.13663154632,310.249134901292,132.484490975359,57.4808045669162,26.5155654767158,13.8825503438669,7.87850107086366,3.91181066111334,2.3445311057864,1.39326689051847,0.857228249634833,0.534340739361131,0.386116965972748,0.211818788165734,0.158149697486969,0.101274132397962,0.0583714176537627,0.0418431641210365,0.0364608000781662,0.0162441738062605,0.0134505516753068,0.00859996153011744,0.00647774406366908,0.00420770269383424,0.00337713417266771,0.00183224032456035,0.00130240860661315,9.80044688007642e-4,6.9227295716574e-4,4.80860682690943e-4,2.71579933665947e-4,1.86696429621672e-4,1.40852672551038e-4,9.95418086300426e-5,6.3020186631904e-5,3.98933399093132e-5,2.87898471652769e-5,2.16196453029831e-5,1.04431449232595e-5,6.53896612158222e-6,5.12479790225917e-6,3.04995631923672e-6,1.71618594636042e-6,1.10495657004337e-6,8.44940761497515e-7,4.6996292981681e-7,1.85741207673096e-7,1.51345294475646e-7,7.70223940073925e-8,4.67812586214084e-8,2.32868166128864e-8,1.17352082626726e-8,5.41191581930022e-9,2.35220888822337e-9,1.05666408140146e-9,4.15395912943303e-10,2.01271426224092e-10,6.30794954819893e-11,1.97053373155092e-11,4.85010570387688e-12,1.1544879153121e-12,2.10144058782255e-13,3.78812766440335e-14,4.13634730505503e-15,2.06829338527004e-16,1.87871566100414e-17],\"fEYhigh\":[3486636454037168128,476289.646025399,17188.0683379489,3472.85188217119,756.231329819125,234.150364061216,115.386451886693,53.9144853424382,26.1371041152228,14.5603978867337,8.67245201477646,4.40793410083454,2.79053970147353,1.68752703175386,1.07432060708384,0.691266410357107,0.496964287652543,0.292804524804519,0.212454548317987,0.140896854700096,0.0844781900274859,0.0623833803809957,0.051859258525648,0.0270745107143232,0.0203712691994534,0.0140546192516553,0.0102315819717383,0.00694439642140338,0.00551091612427552,0.00307320437377666,0.00229262520659985,0.00169066813542694,0.00117576661111974,8.35395413688632e-4,5.20959161736311e-4,3.36735750887621e-4,2.57672976148354e-4,1.78549780741618e-4,1.20172865250771e-4,7.67701685869583e-5,5.03501529203239e-5,3.96391806220701e-5,2.10841789559091e-5,1.32890534293305e-5,9.44562910930236e-6,5.76910999063114e-6,3.43874826792003e-6,2.11638372715536e-6,1.48622005283874e-6,7.97240803393805e-7,4.54553616223631e-7,2.77688572784477e-7,1.50686842656617e-7,8.06223106717366e-8,4.46707980352444e-8,2.25210818598108e-8,1.11740117720539e-8,4.73383986835687e-9,2.26690036547838e-9,9.73031685509598e-10,4.72059788924104e-10,1.81057376919008e-10,7.06126335159085e-11,2.27796557561448e-11,7.87033894843818e-12,2.4675726386516e-12,7.21239918884294e-13,1.37510546269413e-13,1.14176364587153e-14,1.0206464907477e-15]},{\"_typename\":\"TGraphAsymmErrors\",\"fUniqueID\":0,\"fBits\":50332680,\"fName\":\"\",\"fTitle\":\"\",\"fLineColor\":1,\"fLineStyle\":1,\"fLineWidth\":1,\"fFillColor\":5,\"fFillStyle\":1000,\"fMarkerColor\":1,\"fMarkerStyle\":20,\"fMarkerSize\":1.2,\"fNpoints\":70,\"fX\":[50,150,250,350,450,550,650,750,850,950,1050,1150,1250,1350,1450,1550,1650,1750,1850,1950,2050,2150,2250,2350,2450,2550,2650,2750,2850,2950,3050,3150,3250,3350,3450,3550,3650,3750,3850,3950,4050,4150,4250,4350,4450,4550,4650,4750,4850,4950,5050,5150,5250,5350,5450,5550,5650,5750,5850,5950,6050,6150,6250,6350,6450,6550,6650,6750,6850,6950],\"fY\":[-1622075000000000000,6659600,318321,48380.35,10957.22,3235.474,1232.35,512.0496,230.4875,114.0837,60.50252,31.15717,17.66833,10.30068,6.149748,3.715519,2.522984,1.447458,1.016749,0.6418627,0.3872499,0.2633507,0.2075805,0.103852,0.08136212,0.05079636,0.03741861,0.0239413,0.01791186,0.01054395,0.007241929,0.005130617,0.003532339,0.002373849,0.00137003,9.496181e-4,6.706921e-4,4.554409e-4,2.78849e-4,1.753371e-4,1.218315e-4,8.359384e-5,4.204908e-5,2.534189e-5,1.829999e-5,1.054267e-5,5.733828e-6,3.572564e-6,2.471468e-6,1.321824e-6,5.265868e-7,3.898885e-7,1.855643e-7,1.056174e-7,5.022977e-8,2.376818e-8,1.009412e-8,4.176072e-9,1.74077e-9,6.479046e-10,2.904921e-10,8.314211e-11,2.458354e-11,5.519659e-12,1.238537e-12,2.121083e-13,3.513073e-14,3.83912e-15,2.029723e-16,1.932571e-17],\"fFunctions\":{\"_typename\":\"TList\",\"name\":\"TList\",\"arr\":[],\"opt\":[]},\"fHistogram\":{\"_typename\":\"TH1F\",\"fUniqueID\":0,\"fBits\":50332168,\"fName\":\"Graph\",\"fTitle\":\"\",\"fLineColor\":1,\"fLineStyle\":1,\"fLineWidth\":2,\"fFillColor\":0,\"fFillStyle\":1001,\"fMarkerColor\":1,\"fMarkerStyle\":20,\"fMarkerSize\":1.2,\"fNcells\":102,\"fXaxis\":{\"_typename\":\"TAxis\",\"fUniqueID\":0,\"fBits\":50331648,\"fName\":\"xaxis\",\"fTitle\":\"\",\"fNdivisions\":510,\"fAxisColor\":1,\"fLabelColor\":1,\"fLabelFont\":42,\"fLabelOffset\":0.005,\"fLabelSize\":0.05,\"fTickLength\":0.03,\"fTitleOffset\":1.4,\"fTitleSize\":0.05,\"fTitleColor\":1,\"fTitleFont\":42,\"fNbins\":100,\"fXmin\":0,\"fXmax\":7700,\"fXbins\":[],\"fFirst\":0,\"fLast\":0,\"fBits2\":0,\"fTimeDisplay\":false,\"fTimeFormat\":\"\",\"fLabels\":null,\"fModLabs\":null},\"fYaxis\":{\"_typename\":\"TAxis\",\"fUniqueID\":0,\"fBits\":50331648,\"fName\":\"yaxis\",\"fTitle\":\"\",\"fNdivisions\":510,\"fAxisColor\":1,\"fLabelColor\":1,\"fLabelFont\":42,\"fLabelOffset\":0.005,\"fLabelSize\":0.05,\"fTickLength\":0.03,\"fTitleOffset\":1.4,\"fTitleSize\":0.05,\"fTitleColor\":1,\"fTitleFont\":42,\"fNbins\":1,\"fXmin\":982790670000000,\"fXmax\":982790670000000000,\"fXbins\":[],\"fFirst\":0,\"fLast\":0,\"fBits2\":0,\"fTimeDisplay\":false,\"fTimeFormat\":\"\",\"fLabels\":null,\"fModLabs\":null},\"fZaxis\":{\"_typename\":\"TAxis\",\"fUniqueID\":0,\"fBits\":50331648,\"fName\":\"zaxis\",\"fTitle\":\"\",\"fNdivisions\":510,\"fAxisColor\":1,\"fLabelColor\":1,\"fLabelFont\":42,\"fLabelOffset\":0.005,\"fLabelSize\":0.05,\"fTickLength\":0.03,\"fTitleOffset\":1,\"fTitleSize\":0.05,\"fTitleColor\":1,\"fTitleFont\":42,\"fNbins\":1,\"fXmin\":0,\"fXmax\":1,\"fXbins\":[],\"fFirst\":0,\"fLast\":0,\"fBits2\":0,\"fTimeDisplay\":false,\"fTimeFormat\":\"\",\"fLabels\":null,\"fModLabs\":null},\"fBarOffset\":0,\"fBarWidth\":1000,\"fEntries\":0,\"fTsumw\":0,\"fTsumw2\":0,\"fTsumwx\":0,\"fTsumwx2\":0,\"fMaximum\":982790670000000000,\"fMinimum\":982790670000000,\"fNormFactor\":0,\"fContour\":[],\"fSumw2\":[],\"fOption\":\"\",\"fFunctions\":{\"_typename\":\"TList\",\"name\":\"TList\",\"arr\":[],\"opt\":[]},\"fBufferSize\":0,\"fBuffer\":[],\"fBinStatErrOpt\":0,\"fStatOverflows\":2,\"fArray\":[0,0,0,0,0,0,0,0,0,0,0,0,0,0,0,0,0,0,0,0,0,0,0,0,0,0,0,0,0,0,0,0,0,0,0,0,0,0,0,0,0,0,0,0,0,0,0,0,0,0,0,0,0,0,0,0,0,0,0,0,0,0,0,0,0,0,0,0,0,0,0,0,0,0,0,0,0,0,0,0,0,0,0,0,0,0,0,0,0,0,0,0,0,0,0,0,0,0,0,0,0,0]},\"fMinimum\":-1111,\"fMaximum\":-1111,\"fEXlow\":[50,50,50,50,50,50,50,50,50,50,50,50,50,50,50,50,50,50,50,50,50,50,50,50,50,50,50,50,50,50,50,50,50,50,50,50,50,50,50,50,50,50,50,50,50,50,50,50,50,50,50,50,50,50,50,50,50,50,50,50,50,50,50,50,50,50,50,50,50,50],\"fEXhigh\":[50,50,50,50,50,50,50,50,50,50,50,50,50,50,50,50,50,50,50,50,50,50,50,50,50,50,50,50,50,50,50,50,50,50,50,50,50,50,50,50,50,50,50,50,50,50,50,50,50,50,50,50,50,50,50,50,50,50,50,50,50,50,50,50,50,50,50,50,50,50],\"fEYlow\":[-1618053954000000000,512873,23987.1,4290.78,939.51,268.099,113.077,47.5873,21.3316,10.7863,6.08552,2.84878,1.64925,0.983585,0.589329,0.356251,0.280985,0.133465,0.1105167,0.067883,0.0363539,0.0263022,0.0265535,0.0083357,0.00887006,0.00504804,0.00421068,0.00264407,0.0022526,0.001113548,7.60601000000001e-4,6.17436999999999e-4,4.48741e-4,3.10115e-4,1.4961e-4,1.079575e-4,8.34786e-5,6.08065e-5,3.6062e-5,2.13503e-5,1.69903e-5,1.308192e-5,4.84334e-6,2.92574e-6,2.72812e-6,1.497589e-6,7.27449e-7,5.02387e-7,4.22674e-7,2.12623e-7,5.45116000000001e-8,6.19066e-8,2.85893e-8,1.909619e-8,8.23247e-9,3.93711e-9,1.662027e-9,6.37106e-10,3.0391e-10,1.108851e-10,5.8712e-11,1.71702e-11,4.54579e-12,1.214776e-12,2.461767e-13,3.69386e-14,8.11562e-15,8.78069e-16,3.87447e-17,4.28127e-18],\"fEYhigh\":[2368059700000000000,438824,14859.4,3124.89,601.35,150.732,75.913,31.8253,13.7678,7.1225,4.40825,1.67123,0.995419999999999,0.609970000000001,0.361298000000001,0.214546,0.219364,0.069161,0.0805900000000002,0.0461989,0.0180353,0.0151374,0.0234741,0.00150450000000001,0.00579818,0.00254437,0.00282585,0.00166446,0.00179272,5.8599e-4,3.81152e-4,4.27734e-4,3.37875e-4,2.41473e-4,7.3081e-5,5.75159e-5,5.51904e-5,4.56894e-5,2.47222e-5,1.21245e-5,1.29133e-5,1.190573e-5,1.95643e-6,1.11909e-6,2.16121e-6,1.04433e-6,3.46211e-7,3.19918e-7,3.91131e-7,1.72776e-7,-5.25020000000006e-9,4.62701e-8,1.91509e-8,1.74185e-8,5.98442e-9,2.81432e-9,1.12336e-9,3.01254e-10,2.16839e-10,7.08026e-11,5.3855e-11,1.577991e-11,3.02418e-12,1.177915e-12,1.79173e-13,1.41588e-14,7.97913e-15,8.65087e-16,2.53887e-17,4.43126e-18]},{\"_typename\":\"TGraphErrors\",\"fUniqueID\":0,\"fBits\":50332680,\"fName\":\"full_1\",\"fTitle\":\" E_T (mu_r=1, mu_f=1);0.0 <= |eta| < 0.5 Pdf: 0\",\"fLineColor\":1,\"fLineStyle\":1,\"fLineWidth\":3,\"fFillColor\":1,\"fFillStyle\":1001,\"fMarkerColor\":1,\"fMarkerStyle\":0,\"fMarkerSize\":1,\"fNpoints\":70,\"fX\":[50,150,250,350,450,550,650,750,850,950,1050,1150,1250,1350,1450,1550,1650,1750,1850,1950,2050,2150,2250,2350,2450,2550,2650,2750,2850,2950,3050,3150,3250,3350,3450,3550,3650,3750,3850,3950,4050,4150,4250,4350,4450,4550,4650,4750,4850,4950,5050,5150,5250,5350,5450,5550,5650,5750,5850,5950,6050,6150,6250,6350,6450,6550,6650,6750,6850,6950],\"fY\":[-1622075000000000000,6659600,318321,48380.35,10957.22,3235.474,1232.35,512.0496,230.4875,114.0837,60.50252,31.15717,17.66833,10.30068,6.149748,3.715519,2.522984,1.447458,1.016749,0.6418627,0.3872499,0.2633507,0.2075805,0.103852,0.08136212,0.05079636,0.03741861,0.0239413,0.01791186,0.01054395,0.007241929,0.005130617,0.003532339,0.002373849,0.00137003,9.496181e-4,6.706921e-4,4.554409e-4,2.78849e-4,1.753371e-4,1.218315e-4,8.359384e-5,4.204908e-5,2.534189e-5,1.829999e-5,1.054267e-5,5.733828e-6,3.572564e-6,2.471468e-6,1.321824e-6,5.265868e-7,3.898885e-7,1.855643e-7,1.056174e-7,5.022977e-8,2.376818e-8,1.009412e-8,4.176072e-9,1.74077e-9,6.479046e-10,2.904921e-10,8.314211e-11,2.458354e-11,5.519659e-12,1.238537e-12,2.121083e-13,3.513073e-14,3.83912e-15,2.029723e-16,1.932571e-17],\"fFunctions\":null,\"fHistogram\":null,\"fMinimum\":-1111,\"fMaximum\":-1111,\"fEX\":[50,50,50,50,50,50,50,50,50,50,50,50,50,50,50,50,50,50,50,50,50,50,50,50,50,50,50,50,50,50,50,50,50,50,50,50,50,50,50,50,50,50,50,50,50,50,50,50,50,50,50,50,50,50,50,50,50,50,50,50,50,50,50,50,50,50,50,50,50,50],\"fEY\":[0,0,0,0,0,0,0,0,0,0,0,0,0,0,0,0,0,0,0,0,0,0,0,0,0,0,0,0,0,0,0,0,0,0,0,0,0,0,0,0,0,0,0,0,0,0,0,0,0,0,0,0,0,0,0,0,0,0,0,0,0,0,0,0,0,0,0,0,0,0]},{\"_typename\":\"TGraphErrors\",\"fUniqueID\":0,\"fBits\":50332680,\"fName\":\"data_0\",\"fTitle\":\" E_T (mu_r=1, mu_f=1);0.0 <= |eta| < 0.5 Pdf: 0\",\"fLineColor\":1,\"fLineStyle\":1,\"fLineWidth\":1,\"fFillColor\":1,\"fFillStyle\":1001,\"fMarkerColor\":1,\"fMarkerStyle\":20,\"fMarkerSize\":1,\"fNpoints\":70,\"fX\":[50,150,250,350,450,550,650,750,850,950,1050,1150,1250,1350,1450,1550,1650,1750,1850,1950,2050,2150,2250,2350,2450,2550,2650,2750,2850,2950,3050,3150,3250,3350,3450,3550,3650,3750,3850,3950,4050,4150,4250,4350,4450,4550,4650,4750,4850,4950,5050,5150,5250,5350,5450,5550,5650,5750,5850,5950,6050,6150,6250,6350,6450,6550,6650,6750,6850,6950],\"fY\":[-1946322438943116032,6080528.618258,284153.261347245,57233.5180881545,11132.7378533633,3571.90429399923,1141.48556134112,516.090214774287,228.246878127445,101.395660723783,49.1510177815492,27.3733751161186,18.267908672258,11.0116045251206,6.3215206712031,3.43354153646174,2.11243624234476,1.62042808922165,1.13206530879669,0.722956858347021,0.364806360868049,0.264399994397007,0.200141994359405,0.139044837627855,0.134701069219669,0.0882415787822438,0.0738804402257841,0.0702961706981672,0.0547373441891641,0.0645647305844809,0.0600437783103034,0.0674863961837347,0.0574554256311153,0.0832830210284697,0.0746756656303312,0.0527416534506213,0.0586758566430446,0.0699723305351828,0.0945986413189783,0.0848813192894772,0.067393936154427,0.116812659924223,0.0894630355593327,0.0547304134919866,0.0981258365137201,0.107984813606788,0.0532451120789246,0.0632455591972581,0.0789138571832539,0.104498906065712,0.101160353020838,0.124366252018213,0.128086143464787,0.064693575883482,0.114119742206408,0.0809755103979801,0.0723700640658268,0.141394289783216,0.0973835204627922,0.18572922864227,0.101854953357465,0.15726200099108,0.125149791996985,0.189783590717947,0.158515264126421,0.162189700996674,0.133725243193406,0.113545470388944,0.114935367573893,0.171703223118401],\"fFunctions\":null,\"fHistogram\":{\"_typename\":\"TH1F\",\"fUniqueID\":0,\"fBits\":50332168,\"fName\":\"data_0\",\"fTitle\":\" E_T (mu_r=1, mu_f=1)\",\"fLineColor\":1,\"fLineStyle\":1,\"fLineWidth\":2,\"fFillColor\":0,\"fFillStyle\":1001,\"fMarkerColor\":1,\"fMarkerStyle\":20,\"fMarkerSize\":1.2,\"fNcells\":102,\"fXaxis\":{\"_typename\":\"TAxis\",\"fUniqueID\":0,\"fBits\":50331648,\"fName\":\"xaxis\",\"fTitle\":\"0.0 <= |eta| < 0.5 Pdf: 0\",\"fNdivisions\":510,\"fAxisColor\":1,\"fLabelColor\":1,\"fLabelFont\":42,\"fLabelOffset\":0.005,\"fLabelSize\":0.05,\"fTickLength\":0.03,\"fTitleOffset\":1.4,\"fTitleSize\":0.05,\"fTitleColor\":1,\"fTitleFont\":42,\"fNbins\":100,\"fXmin\":0,\"fXmax\":7640,\"fXbins\":[],\"fFirst\":0,\"fLast\":0,\"fBits2\":0,\"fTimeDisplay\":false,\"fTimeFormat\":\"\",\"fLabels\":null,\"fModLabs\":null},\"fYaxis\":{\"_typename\":\"TAxis\",\"fUniqueID\":0,\"fBits\":50331648,\"fName\":\"yaxis\",\"fTitle\":\"\",\"fNdivisions\":510,\"fAxisColor\":1,\"fLabelColor\":1,\"fLabelFont\":42,\"fLabelOffset\":0.005,\"fLabelSize\":0.05,\"fTickLength\":0.03,\"fTitleOffset\":1.4,\"fTitleSize\":0.05,\"fTitleColor\":1,\"fTitleFont\":42,\"fNbins\":1,\"fXmin\":194632243901001,\"fXmax\":194632243901000640,\"fXbins\":[],\"fFirst\":0,\"fLast\":0,\"fBits2\":0,\"fTimeDisplay\":false,\"fTimeFormat\":\"\",\"fLabels\":null,\"fModLabs\":null},\"fZaxis\":{\"_typename\":\"TAxis\",\"fUniqueID\":0,\"fBits\":50331648,\"fName\":\"zaxis\",\"fTitle\":\"\",\"fNdivisions\":510,\"fAxisColor\":1,\"fLabelColor\":1,\"fLabelFont\":42,\"fLabelOffset\":0.005,\"fLabelSize\":0.05,\"fTickLength\":0.03,\"fTitleOffset\":1,\"fTitleSize\":0.05,\"fTitleColor\":1,\"fTitleFont\":42,\"fNbins\":1,\"fXmin\":0,\"fXmax\":1,\"fXbins\":[],\"fFirst\":0,\"fLast\":0,\"fBits2\":0,\"fTimeDisplay\":false,\"fTimeFormat\":\"\",\"fLabels\":null,\"fModLabs\":null},\"fBarOffset\":0,\"fBarWidth\":1000,\"fEntries\":0,\"fTsumw\":0,\"fTsumw2\":0,\"fTsumwx\":0,\"fTsumwx2\":0,\"fMaximum\":194632243901000640,\"fMinimum\":194632243901001,\"fNormFactor\":0,\"fContour\":[],\"fSumw2\":[],\"fOption\":\"\",\"fFunctions\":{\"_typename\":\"TList\",\"name\":\"TList\",\"arr\":[],\"opt\":[]},\"fBufferSize\":0,\"fBuffer\":[],\"fBinStatErrOpt\":0,\"fStatOverflows\":2,\"fArray\":[0,0,0,0,0,0,0,0,0,0,0,0,0,0,0,0,0,0,0,0,0,0,0,0,0,0,0,0,0,0,0,0,0,0,0,0,0,0,0,0,0,0,0,0,0,0,0,0,0,0,0,0,0,0,0,0,0,0,0,0,0,0,0,0,0,0,0,0,0,0,0,0,0,0,0,0,0,0,0,0,0,0,0,0,0,0,0,0,0,0,0,0,0,0,0,0,0,0,0,0,0,0]},\"fMinimum\":-1111,\"fMaximum\":-1111,\"fEX\":[0,0,0,0,0,0,0,0,0,0,0,0,0,0,0,0,0,0,0,0,0,0,0,0,0,0,0,0,0,0,0,0,0,0,0,0,0,0,0,0,0,0,0,0,0,0,0,0,0,0,0,0,0,0,0,0,0,0,0,0,0,0,0,0,0,0,0,0,0,0],\"fEY\":[null,389.888721889272,84.284230634687,37.826418707087,16.6828788383205,9.44974112608281,5.34201638274612,3.59197095886884,2.38875950090965,1.59213426509656,1.10850144092767,0.827245053114834,0.675794137889972,0.52468096318431,0.39753995620576,0.29298214691606,0.229806235900202,0.201272706124157,0.168230891098862,0.134439285399304,0.0954995236726404,0.0813019056352627,0.0707357749585394,0.0589586375410455,0.0580303948848508,0.0469684944356969,0.0429768659355775,0.0419214058382371,0.0369923452180191,0.0401760907084303,0.0387439602745716,0.0410750520948345,0.0378996786368682,0.0456297657862907,0.043207541480143,0.0363117245013994,0.0383000837606932,0.0418247326755303,0.0486309164315712,0.0460655292191127,0.0410469049242531,0.0540399527951826,0.0472924506552929,0.036990003207619,0.0495292430069651,0.0519578708202107,0.0364846241857185,0.0397635383225821,0.0444167359176848,0.0511123532195769,0.0502892515903842,0.0557598090066253,0.0565875744896323,0.0402161584078719,0.0534134211145494,0.0449931968185136,0.0425352983020652,0.0594546654568034,0.0493415444789662,0.0681412556096287,0.0504616075243012,0.0627020735285285,0.0559351839178582,0.0688809826290877,0.062951422566615,0.063676860199894,0.057819815633009,0.0532788584686609,0.0536039568441298,0.065517788256015]},{\"_typename\":\"TLatex\",\"fUniqueID\":0,\"fBits\":50348041,\"fName\":\"\",\"fTitle\":\"#sqrt{s}= 14 TeV\",\"fTextAngle\":0,\"fTextSize\":0.05,\"fTextAlign\":11,\"fTextColor\":1,\"fTextFont\":42,\"fX\":0.3,\"fY\":0.85,\"fLineColor\":1,\"fLineStyle\":1,\"fLineWidth\":2,\"fLimitFactorSize\":3,\"fOriginSize\":0.04},{\"_typename\":\"TLatex\",\"fUniqueID\":0,\"fBits\":50348041,\"fName\":\"\",\"fTitle\":\"|#eta_{jet}|<0.5\",\"fTextAngle\":0,\"fTextSize\":0.05,\"fTextAlign\":11,\"fTextColor\":1,\"fTextFont\":42,\"fX\":0.57,\"fY\":0.85,\"fLineColor\":1,\"fLineStyle\":1,\"fLineWidth\":2,\"fLimitFactorSize\":3,\"fOriginSize\":0.04},{\"_typename\":\"TLegend\",\"fUniqueID\":0,\"fBits\":50331656,\"fLineColor\":1,\"fLineStyle\":1,\"fLineWidth\":1,\"fFillColor\":0,\"fFillStyle\":1001,\"fX1\":1322.78482789838,\"fY1\":3.38924648396571,\"fX2\":2846.83544780176,\"fY2\":5.34513823860047,\"fX1NDC\":0.45,\"fY1NDC\":0.65,\"fX2NDC\":0.8,\"fY2NDC\":0.8,\"fBorderSize\":0,\"fInit\":1,\"fShadowColor\":1,\"fCornerRadius\":0,\"fOption\":\"brNDC\",\"fName\":\"TPave\",\"fTextAngle\":0,\"fTextSize\":0,\"fTextAlign\":12,\"fTextColor\":1,\"fTextFont\":42,\"fPrimitives\":{\"_typename\":\"TList\",\"name\":\"TList\",\"arr\":[{\"_typename\":\"TLegendEntry\",\"fUniqueID\":0,\"fBits\":50331648,\"fTextAngle\":0,\"fTextSize\":0,\"fTextAlign\":0,\"fTextColor\":0,\"fTextFont\":42,\"fLineColor\":1,\"fLineStyle\":1,\"fLineWidth\":1,\"fFillColor\":0,\"fFillStyle\":0,\"fMarkerColor\":1,\"fMarkerStyle\":20,\"fMarkerSize\":1,\"fObject\":{\"$ref\":23},\"fLabel\":\"Data 2009\",\"fOption\":\"ep\"},{\"_typename\":\"TLegendEntry\",\"fUniqueID\":0,\"fBits\":50331648,\"fTextAngle\":0,\"fTextSize\":0,\"fTextAlign\":0,\"fTextColor\":0,\"fTextFont\":42,\"fLineColor\":1,\"fLineStyle\":1,\"fLineWidth\":3,\"fFillColor\":5,\"fFillStyle\":1000,\"fMarkerColor\":1,\"fMarkerStyle\":21,\"fMarkerSize\":1,\"fObject\":{\"$ref\":8},\"fLabel\":\"NLO QCD\",\"fOption\":\"lf\"}],\"opt\":[\"ep\",\"lf\"]},\"fEntrySeparation\":0.1,\"fMargin\":0.25,\"fNColumns\":1,\"fColumnSeparation\":0}],\"opt\":[\"\",\" \",\"ze2\",\"ze2\",\"z\",\"p\",\"\",\"\",\"\"]},\"fExecs\":null,\"fName\":\"canvas\",\"fTitle\":\"single inclusive jets\",\"fNumPaletteColor\":0,\"fNextPaletteColor\":0,\"fDISPLAY\":\"$DISPLAY\",\"fDoubleBuffer\":0,\"fRetained\":true,\"fXsizeUser\":0,\"fYsizeUser\":0,\"fXsizeReal\":20,\"fYsizeReal\":20,\"fWindowTopX\":0,\"fWindowTopY\":0,\"fWindowWidth\":0,\"fWindowHeight\":0,\"fCw\":596,\"fCh\":572,\"fCatt\":{\"_typename\":\"TAttCanvas\",\"fXBetween\":2,\"fYBetween\":2,\"fTitleFromTop\":1.2,\"fXdate\":0.2,\"fYdate\":0.3,\"fAdate\":1},\"kMoveOpaque\":true,\"kResizeOpaque\":true,\"fHighLightColor\":2,\"fBatch\":true,\"kShowEventStatus\":false,\"kAutoExec\":true,\"kMenuBar\":true});\n",
       "       Core.draw(\"root_plot_1\", obj, \"\");\n",
       "     }\n",
       " );\n",
       "</script>\n"
      ],
      "text/plain": [
       "<IPython.core.display.HTML object>"
      ]
     },
     "metadata": {},
     "output_type": "display_data"
    }
   ],
   "source": [
    "%jsroot on\n",
    "gROOT->GetListOfCanvases()->Draw()"
   ]
  }
 ],
 "metadata": {
  "kernelspec": {
   "display_name": "ROOT C++",
   "language": "c++",
   "name": "root"
  },
  "language_info": {
   "codemirror_mode": "text/x-c++src",
   "file_extension": ".C",
   "mimetype": " text/x-c++src",
   "name": "c++"
  }
 },
 "nbformat": 4,
 "nbformat_minor": 2
}
