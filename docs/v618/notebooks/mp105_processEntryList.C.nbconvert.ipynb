{
 "cells": [
  {
   "cell_type": "markdown",
   "metadata": {},
   "source": [
    "# Mp 1 0 5_Process Entry List\n",
    "Illustrate the usage of the multiproc to process TEntryList with the H1 analysis\n",
    "example.\n",
    "\n",
    "\n",
    "\n",
    "\n",
    "**Author:** Gerardo Ganis  \n",
    "<i><small>This notebook tutorial was automatically generated with <a href= \"https://github.com/root-project/root/blob/master/documentation/doxygen/converttonotebook.py\">ROOTBOOK-izer</a> from the macro found in the ROOT repository  on Thursday, August 29, 2019 at 02:18 AM.</small></i>"
   ]
  },
  {
   "cell_type": "code",
   "execution_count": 1,
   "metadata": {
    "collapsed": false
   },
   "outputs": [],
   "source": [
    "%%cpp -d\n",
    "#include \"TString.h\"\n",
    "#include \"TROOT.h\"\n",
    "#include \"TTree.h\"\n",
    "#include \"TH1F.h\"\n",
    "#include \"TH2F.h\"\n",
    "#include \"TEntryList.h\"\n",
    "#include \"TTreeReader.h\"\n",
    "#include \"TTreeReaderArray.h\"\n",
    "#include \"TTreeReaderValue.h\"\n",
    "#include \"TSystem.h\"\n",
    "#include \"TMath.h\"\n",
    "#include \"TCanvas.h\"\n",
    "#include \"TStyle.h\"\n",
    "#include \"TF1.h\"\n",
    "#include \"TLine.h\"\n",
    "#include \"TPaveStats.h\"\n",
    "#include \"TStopwatch.h\"\n",
    "#include \"ROOT/TTreeProcessorMP.hxx\"\n",
    "\n",
    "static std::string tutname = \"mp105_processEntryList: \";\n",
    "static std::string logfile = \"mp105_processEntryList.log\";\n",
    "static RedirectHandle_t gRH;\n",
    "\n",
    "std::vector<std::string> files = {\"http://root.cern.ch/files/h1/dstarmb.root\",\n",
    "                                  \"http://root.cern.ch/files/h1/dstarp1a.root\",\n",
    "                                  \"http://root.cern.ch/files/h1/dstarp1b.root\",\n",
    "                                  \"http://root.cern.ch/files/h1/dstarp2.root\"};"
   ]
  },
  {
   "cell_type": "markdown",
   "metadata": {},
   "source": [
    "Macosx may generate connection to windowserver errors"
   ]
  },
  {
   "cell_type": "code",
   "execution_count": 2,
   "metadata": {
    "collapsed": false
   },
   "outputs": [
    {
     "name": "stderr",
     "output_type": "stream",
     "text": [
      "input_line_27:6:10: fatal error: 'mp_H1_lambdas.C' file not found\n",
      "#include \"mp_H1_lambdas.C\"\n",
      "         ^~~~~~~~~~~~~~~~~\n"
     ]
    }
   ],
   "source": [
    "gROOT->SetBatch(kTRUE);\n",
    "\n",
    "TStopwatch stp;\n",
    "\n",
    "#include \"mp_H1_lambdas.C\"\n",
    "\n",
    "ROOT::TTreeProcessorMP pool(3);\n",
    "\n",
    "std::cout << tutname << \"creating the entry list \\n\";\n",
    "\n",
    "auto sumElist = pool.Process(files, doH1fillList, \"h42\");"
   ]
  },
  {
   "cell_type": "markdown",
   "metadata": {},
   "source": [
    "Print the entry list"
   ]
  },
  {
   "cell_type": "code",
   "execution_count": 3,
   "metadata": {
    "collapsed": false
   },
   "outputs": [
    {
     "name": "stderr",
     "output_type": "stream",
     "text": [
      "input_line_33:2:3: error: use of undeclared identifier 'sumElist'\n",
      " (sumElist)\n",
      "  ^\n",
      "Error in <HandleInterpreterException>: Error evaluating expression (sumElist).\n",
      "Execution of your code was aborted.\n"
     ]
    }
   ],
   "source": [
    "if (sumElist) {\n",
    "   sumElist->Print();\n",
    "} else {\n",
    "   std::cout << tutname << \" ERROR creating the entry list \\n\";\n",
    "   return -1;\n",
    "}"
   ]
  },
  {
   "cell_type": "markdown",
   "metadata": {},
   "source": [
    "Time taken"
   ]
  },
  {
   "cell_type": "code",
   "execution_count": 4,
   "metadata": {
    "collapsed": false
   },
   "outputs": [
    {
     "name": "stderr",
     "output_type": "stream",
     "text": [
      "input_line_35:2:3: error: use of undeclared identifier 'stp'\n",
      " (stp.Print())\n",
      "  ^\n",
      "Error in <HandleInterpreterException>: Error evaluating expression (stp.Print()).\n",
      "Execution of your code was aborted.\n"
     ]
    }
   ],
   "source": [
    "stp.Print();\n",
    "stp.Start();"
   ]
  },
  {
   "cell_type": "markdown",
   "metadata": {},
   "source": [
    "Let's analyse h1 with the list"
   ]
  },
  {
   "cell_type": "code",
   "execution_count": 5,
   "metadata": {
    "collapsed": false
   },
   "outputs": [
    {
     "name": "stdout",
     "output_type": "stream",
     "text": [
      "mp105_processEntryList: processing the entry list with a lambda \n"
     ]
    }
   ],
   "source": [
    "std::cout << tutname << \"processing the entry list with a lambda \\n\";"
   ]
  },
  {
   "cell_type": "markdown",
   "metadata": {},
   "source": [
    "Run the analysis"
   ]
  },
  {
   "cell_type": "code",
   "execution_count": 6,
   "metadata": {
    "collapsed": false
   },
   "outputs": [
    {
     "name": "stderr",
     "output_type": "stream",
     "text": [
      "input_line_37:2:2: error: Syntax error\n",
      " auto hListFun = pool.Process(files, doH1useList, *sumElist, \"h42\");\n",
      " ^\n",
      "FunctionDecl 0x7fe3880a52e0 <input_line_37:1:1, line:4:1> line:1:6 __cling_Un1Qu38 'void (void *)'\n",
      "|-ParmVarDecl 0x7fe3880a5238 <col:22, col:28> col:28 vpClingValue 'void *'\n",
      "|-CompoundStmt 0x7fe3880a5a98 <col:42, line:4:1>\n",
      "| |-DeclStmt 0x7fe3880a5a70 <line:2:2, col:68>\n",
      "| | `-VarDecl 0x7fe3880a53b0 <col:2, col:67> col:7 hListFun 'auto' cinit\n",
      "| |   `-CallExpr 0x7fe3880a5a08 <col:18, col:67> '<dependent type>'\n",
      "| |     |-CXXDependentScopeMemberExpr 0x7fe3880a5520 <col:18, col:23> '<dependent type>' lvalue .Process\n",
      "| |     | `-DeclRefExpr 0x7fe3880a54d8 <col:18> '<dependent type>' lvalue Var 0x7fe3880a5410 'pool' '<dependent type>'\n",
      "| |     |-DeclRefExpr 0x7fe3880a5578 <col:31> 'std::vector<std::string>':'class std::vector<class std::__cxx11::basic_string<char>, class std::allocator<class std::__cxx11::basic_string<char> > >' lvalue Var 0x561f5e60a6e8 'files' 'std::vector<std::string>':'class std::vector<class std::__cxx11::basic_string<char>, class std::allocator<class std::__cxx11::basic_string<char> > >'\n",
      "| |     |-DeclRefExpr 0x7fe3880a5630 <col:38> '<dependent type>' lvalue Var 0x7fe3880a55a0 'doH1useList' '<dependent type>'\n",
      "| |     |-CXXOperatorCallExpr 0x7fe3880a5998 <col:51, col:52> '<dependent type>'\n",
      "| |     | |-UnresolvedLookupExpr 0x7fe3880a5750 <col:51> '<overloaded function type>' lvalue (ADL) = 'operator*' 0x561f5d2f7918 0x561f5d2f7dd8 0x561f5d2f8298 0x561f5d2f8850 0x561f5d2f8dc0 0x561f5d2f9330 0x561f5d30db38 0x561f5d30dff8 0x561f5c35c1e8 0x561f5c35c760 0x561f5c35ccd0 0x561f5c35d240 0x561f5c35d6f8 0x561f5c3663b0 0x561f5c3668e0 0x561f5c366e90 0x561f5c367440 0x561f5c3679f0 0x561f5c367ee8 0x561f5d670388 0x561f5d683a68 0x561f5d683308 0x561f5d6836b8 0x561f5d689ab8 0x561f5d689d08 0x561f5d689f58 0x561f5d68a1a8 0x561f5d9bfbd0 0x561f5d9cb998 0x561f5d9ccfd8 0x561f5d9fc128 0x561f5d9fc588 0x561f5d9fd158 0x561f5d9fda78 0x561f5d9fded8 0x561f5d9feaa8 0x561f5d9ff3d8 0x561f5d9ff838 0x561f5da00408 0x561f5da00b68 0x561f5da00fc8 0x561f5da01b98 0x561f5da022f8 0x561f5da02758 0x561f5da03328 0x561f5da79c38 0x561f5da79ff8 0x561f5da7a3b8 0x561f5dae89d8 0x561f5daec6a8 0x561f5daed038 0x561f5daf2f20 0x561f5ee15868 0x561f5ee15de0 0x561f5ee162e0 0x561f5ee167e0 0x561f5ee17558 0x561f5ee17fa8 0x561f5ee189f8 0x561f5ee194c8 0x561f5ee19f98 0x561f5ee1a9d0 0x561f5ee1b2d8\n",
      "| |     | `-DeclRefExpr 0x7fe3880a5708 <col:52> '<dependent type>' lvalue Var 0x7fe3880a5678 'sumElist' '<dependent type>'\n",
      "| |     `-StringLiteral 0x7fe3880a59d8 <col:62> 'const char [4]' lvalue \"h42\"\n",
      "| `-NullStmt 0x7fe3880a5a88 <line:3:1>\n",
      "|-AnnotateAttr 0x7fe3880a5470 <<invalid sloc>> R\"ATTRDUMP(__ResolveAtRuntime)ATTRDUMP\"\n",
      "|-AnnotateAttr 0x7fe3880a5600 <<invalid sloc>> R\"ATTRDUMP(__ResolveAtRuntime)ATTRDUMP\"\n",
      "`-AnnotateAttr 0x7fe3880a56d8 <<invalid sloc>> R\"ATTRDUMP(__ResolveAtRuntime)ATTRDUMP\"\n",
      "<<<NULL>>>\n"
     ]
    }
   ],
   "source": [
    "auto hListFun = pool.Process(files, doH1useList, *sumElist, \"h42\");"
   ]
  },
  {
   "cell_type": "markdown",
   "metadata": {},
   "source": [
    "Check the output"
   ]
  },
  {
   "cell_type": "code",
   "execution_count": 7,
   "metadata": {
    "collapsed": false
   },
   "outputs": [
    {
     "name": "stderr",
     "output_type": "stream",
     "text": [
      "input_line_39:2:11: error: use of undeclared identifier 'hListFun'\n",
      " (checkH1(hListFun) < 0)\n",
      "          ^\n",
      "Error in <HandleInterpreterException>: Error evaluating expression (checkH1(hListFun) < 0).\n",
      "Execution of your code was aborted.\n"
     ]
    }
   ],
   "source": [
    "if (checkH1(hListFun) < 0)\n",
    "   return -1;"
   ]
  },
  {
   "cell_type": "markdown",
   "metadata": {},
   "source": [
    "Do the fit"
   ]
  },
  {
   "cell_type": "code",
   "execution_count": 8,
   "metadata": {
    "collapsed": false
   },
   "outputs": [
    {
     "name": "stderr",
     "output_type": "stream",
     "text": [
      "input_line_41:2:9: error: use of undeclared identifier 'hListFun'\n",
      " (doFit(hListFun, ((*(std::string*)0x7fe3b3797030)).c_str()) < 0)\n",
      "        ^\n",
      "Error in <HandleInterpreterException>: Error evaluating expression (doFit(hListFun, ((*(std::string*)0x7fe3b3797030)).c_str()) < 0).\n",
      "Execution of your code was aborted.\n"
     ]
    }
   ],
   "source": [
    "if (doFit(hListFun, logfile.c_str()) < 0)\n",
    "   return -1;\n",
    "\n",
    "stp.Print();\n",
    "stp.Start();"
   ]
  },
  {
   "cell_type": "markdown",
   "metadata": {},
   "source": [
    "Run the analysis with a selector"
   ]
  },
  {
   "cell_type": "code",
   "execution_count": 9,
   "metadata": {
    "collapsed": false
   },
   "outputs": [
    {
     "name": "stdout",
     "output_type": "stream",
     "text": [
      "mp105_processEntryList: processing the entry list with selector '/mnt/build/workspace/root-makedoc-v618/rootspi/rdoc/src/v6-18-00-patches.build/tutorials/tree/h1analysisTreeReader.C+'\n"
     ]
    }
   ],
   "source": [
    "TString selectorPath = gROOT->GetTutorialDir();\n",
    "selectorPath += \"/tree/h1analysisTreeReader.C+\";\n",
    "std::cout << tutname << \"processing the entry list with selector '\" << selectorPath << \"'\\n\";\n",
    "auto sel = TSelector::GetSelector(selectorPath);"
   ]
  },
  {
   "cell_type": "markdown",
   "metadata": {},
   "source": [
    "In a second run we use sel"
   ]
  },
  {
   "cell_type": "code",
   "execution_count": 10,
   "metadata": {
    "collapsed": false
   },
   "outputs": [
    {
     "name": "stderr",
     "output_type": "stream",
     "text": [
      "input_line_49:4:1: error: Syntax error\n",
      "auto hListSel = pool.Process(files, *sel, *sumElist, \"h42\");\n",
      "^\n",
      "FunctionDecl 0x7fe3892e71b0 <input_line_49:1:1, line:7:1> line:1:6 __cling_Un1Qu314 'void (void *)'\n",
      "|-ParmVarDecl 0x7fe3892e7108 <col:23, col:29> col:29 vpClingValue 'void *'\n",
      "|-CompoundStmt 0x7fe3892e7d18 <col:43, line:7:1>\n",
      "| |-CXXMemberCallExpr 0x7fe3892e7318 <line:2:2, col:26> 'void'\n",
      "| | |-MemberExpr 0x7fe3892e72b0 <col:2, col:7> '<bound member function type>' ->SetOption 0x7fe388e26170\n",
      "| | | `-ImplicitCastExpr 0x7fe3892e7298 <col:2> 'class TSelector *':'class TSelector *' <LValueToRValue>\n",
      "| | |   `-DeclRefExpr 0x7fe3892e7270 <col:2> 'class TSelector *':'class TSelector *' lvalue Var 0x7fe3881e0680 'sel' 'class TSelector *':'class TSelector *'\n",
      "| | `-ImplicitCastExpr 0x7fe3892e7348 <col:17> 'const char *' <ArrayToPointerDecay>\n",
      "| |   `-StringLiteral 0x7fe3892e72e8 <col:17> 'const char [8]' lvalue \"useList\"\n",
      "| |-CXXMemberCallExpr 0x7fe3892e74f0 <line:3:1, col:51> 'Int_t':'int'\n",
      "| | |-MemberExpr 0x7fe3892e73a0 <col:1, col:10> '<bound member function type>' ->RedirectOutput 0x561f5c8ac4f0\n",
      "| | | `-ImplicitCastExpr 0x7fe3892e7388 <col:1> 'class TSystem *' <LValueToRValue>\n",
      "| | |   `-DeclRefExpr 0x7fe3892e7360 <col:1> 'class TSystem *' lvalue Var 0x561f5d6731a8 'gSystem' 'class TSystem *'\n",
      "| | |-CXXMemberCallExpr 0x7fe3892e7438 <col:25, col:39> 'const char *'\n",
      "| | | `-MemberExpr 0x7fe3892e7400 <col:25, col:33> '<bound member function type>' .c_str 0x561f5c1db340\n",
      "| | |   `-ImplicitCastExpr 0x7fe3892e7460 <col:25> 'const class std::__cxx11::basic_string<char>' lvalue <NoOp>\n",
      "| | |     `-DeclRefExpr 0x7fe3892e73d8 <col:25> 'std::string':'class std::__cxx11::basic_string<char>' lvalue Var 0x561f5e6093a8 'logfile' 'std::string':'class std::__cxx11::basic_string<char>'\n",
      "| | |-ImplicitCastExpr 0x7fe3892e7530 <col:42> 'const char *' <ArrayToPointerDecay>\n",
      "| | | `-StringLiteral 0x7fe3892e7478 <col:42> 'const char [2]' lvalue \"w\"\n",
      "| | `-UnaryOperator 0x7fe3892e74d0 <col:47, col:48> 'struct RedirectHandle_t *' prefix '&'\n",
      "| |   `-DeclRefExpr 0x7fe3892e74a8 <col:48> 'struct RedirectHandle_t' lvalue Var 0x561f5e6095f8 'gRH' 'struct RedirectHandle_t'\n",
      "| |-DeclStmt 0x7fe3892e7b80 <line:4:1, col:60>\n",
      "| | `-VarDecl 0x7fe3892e7558 <col:1, col:59> col:6 hListSel 'auto' cinit\n",
      "| |   `-CallExpr 0x7fe3892e7b38 <col:17, col:59> '<dependent type>'\n",
      "| |     |-CXXDependentScopeMemberExpr 0x7fe3892e76c8 <col:17, col:22> '<dependent type>' lvalue .Process\n",
      "| |     | `-DeclRefExpr 0x7fe3892e7680 <col:17> '<dependent type>' lvalue Var 0x7fe3892e75b8 'pool' '<dependent type>'\n",
      "| |     |-DeclRefExpr 0x7fe3892e7720 <col:30> 'std::vector<std::string>':'class std::vector<class std::__cxx11::basic_string<char>, class std::allocator<class std::__cxx11::basic_string<char> > >' lvalue Var 0x561f5e60a6e8 'files' 'std::vector<std::string>':'class std::vector<class std::__cxx11::basic_string<char>, class std::allocator<class std::__cxx11::basic_string<char> > >'\n",
      "| |     |-UnaryOperator 0x7fe3892e7788 <col:37, col:38> 'class TSelector' lvalue prefix '*'\n",
      "| |     | `-ImplicitCastExpr 0x7fe3892e7770 <col:38> 'class TSelector *':'class TSelector *' <LValueToRValue>\n",
      "| |     |   `-DeclRefExpr 0x7fe3892e7748 <col:38> 'class TSelector *':'class TSelector *' lvalue Var 0x7fe3881e0680 'sel' 'class TSelector *':'class TSelector *'\n",
      "| |     |-CXXOperatorCallExpr 0x7fe3892e7ac8 <col:43, col:44> '<dependent type>'\n",
      "| |     | |-UnresolvedLookupExpr 0x7fe3892e7880 <col:43> '<overloaded function type>' lvalue (ADL) = 'operator*' 0x561f5d2f7918 0x561f5d2f7dd8 0x561f5d2f8298 0x561f5d2f8850 0x561f5d2f8dc0 0x561f5d2f9330 0x561f5d30db38 0x561f5d30dff8 0x561f5c35c1e8 0x561f5c35c760 0x561f5c35ccd0 0x561f5c35d240 0x561f5c35d6f8 0x561f5c3663b0 0x561f5c3668e0 0x561f5c366e90 0x561f5c367440 0x561f5c3679f0 0x561f5c367ee8 0x561f5d670388 0x561f5d683a68 0x561f5d683308 0x561f5d6836b8 0x561f5d689ab8 0x561f5d689d08 0x561f5d689f58 0x561f5d68a1a8 0x561f5d9bfbd0 0x561f5d9cb998 0x561f5d9ccfd8 0x561f5d9fc128 0x561f5d9fc588 0x561f5d9fd158 0x561f5d9fda78 0x561f5d9fded8 0x561f5d9feaa8 0x561f5d9ff3d8 0x561f5d9ff838 0x561f5da00408 0x561f5da00b68 0x561f5da00fc8 0x561f5da01b98 0x561f5da022f8 0x561f5da02758 0x561f5da03328 0x561f5da79c38 0x561f5da79ff8 0x561f5da7a3b8 0x561f5dae89d8 0x561f5daec6a8 0x561f5daed038 0x561f5daf2f20 0x561f5ee15868 0x561f5ee15de0 0x561f5ee162e0 0x561f5ee167e0 0x561f5ee17558 0x561f5ee17fa8 0x561f5ee189f8 0x561f5ee194c8 0x561f5ee19f98 0x561f5ee1a9d0 0x561f5ee1b2d8\n",
      "| |     | `-DeclRefExpr 0x7fe3892e7838 <col:44> '<dependent type>' lvalue Var 0x7fe3892e77a8 'sumElist' '<dependent type>'\n",
      "| |     `-StringLiteral 0x7fe3892e7b08 <col:54> 'const char [4]' lvalue \"h42\"\n",
      "| |-CXXMemberCallExpr 0x7fe3892e7c98 <line:5:1, col:35> 'Int_t':'int'\n",
      "| | |-MemberExpr 0x7fe3892e7bd8 <col:1, col:10> '<bound member function type>' ->RedirectOutput 0x561f5c8ac4f0\n",
      "| | | `-ImplicitCastExpr 0x7fe3892e7bc0 <col:1> 'class TSystem *' <LValueToRValue>\n",
      "| | |   `-DeclRefExpr 0x7fe3892e7b98 <col:1> 'class TSystem *' lvalue Var 0x561f5d6731a8 'gSystem' 'class TSystem *'\n",
      "| | |-ImplicitCastExpr 0x7fe3892e7cd8 <col:25> 'const char *' <NullToPointer>\n",
      "| | | `-IntegerLiteral 0x7fe3892e7c10 <col:25> 'int' 0\n",
      "| | |-ImplicitCastExpr 0x7fe3892e7cf0 <col:28> 'const char *' <NullToPointer>\n",
      "| | | `-IntegerLiteral 0x7fe3892e7c30 <col:28> 'int' 0\n",
      "| | `-UnaryOperator 0x7fe3892e7c78 <col:31, col:32> 'struct RedirectHandle_t *' prefix '&'\n",
      "| |   `-DeclRefExpr 0x7fe3892e7c50 <col:32> 'struct RedirectHandle_t' lvalue Var 0x561f5e6095f8 'gRH' 'struct RedirectHandle_t'\n",
      "| `-NullStmt 0x7fe3892e7d08 <line:6:1>\n",
      "|-AnnotateAttr 0x7fe3892e7618 <<invalid sloc>> R\"ATTRDUMP(__ResolveAtRuntime)ATTRDUMP\"\n",
      "`-AnnotateAttr 0x7fe3892e7808 <<invalid sloc>> R\"ATTRDUMP(__ResolveAtRuntime)ATTRDUMP\"\n",
      "<<<NULL>>>\n"
     ]
    }
   ],
   "source": [
    "sel->SetOption(\"useList\");\n",
    "gSystem->RedirectOutput(logfile.c_str(), \"w\", &gRH);\n",
    "auto hListSel = pool.Process(files, *sel, *sumElist, \"h42\");\n",
    "gSystem->RedirectOutput(0, 0, &gRH);"
   ]
  },
  {
   "cell_type": "markdown",
   "metadata": {},
   "source": [
    "Check the output"
   ]
  },
  {
   "cell_type": "code",
   "execution_count": 11,
   "metadata": {
    "collapsed": false
   },
   "outputs": [
    {
     "name": "stderr",
     "output_type": "stream",
     "text": [
      "input_line_51:2:11: error: use of undeclared identifier 'hListSel'\n",
      " (checkH1(hListSel) < 0)\n",
      "          ^\n",
      "Error in <HandleInterpreterException>: Error evaluating expression (checkH1(hListSel) < 0).\n",
      "Execution of your code was aborted.\n"
     ]
    }
   ],
   "source": [
    "if (checkH1(hListSel) < 0)\n",
    "   return -1;"
   ]
  },
  {
   "cell_type": "markdown",
   "metadata": {},
   "source": [
    "Do the fit"
   ]
  },
  {
   "cell_type": "code",
   "execution_count": 12,
   "metadata": {
    "collapsed": false
   },
   "outputs": [
    {
     "name": "stderr",
     "output_type": "stream",
     "text": [
      "input_line_53:2:9: error: use of undeclared identifier 'hListSel'\n",
      " (doFit(hListSel, ((*(std::string*)0x7fe3b3797030)).c_str()) < 0)\n",
      "        ^\n",
      "Error in <HandleInterpreterException>: Error evaluating expression (doFit(hListSel, ((*(std::string*)0x7fe3b3797030)).c_str()) < 0).\n",
      "Execution of your code was aborted.\n"
     ]
    }
   ],
   "source": [
    "if (doFit(hListSel, logfile.c_str()) < 0)\n",
    "   return -1;\n",
    "\n",
    "stp.Print();\n",
    "stp.Start();\n",
    "\n",
    "return 0;"
   ]
  }
 ],
 "metadata": {
  "kernelspec": {
   "display_name": "ROOT C++",
   "language": "c++",
   "name": "root"
  },
  "language_info": {
   "codemirror_mode": "text/x-c++src",
   "file_extension": ".C",
   "mimetype": " text/x-c++src",
   "name": "c++"
  }
 },
 "nbformat": 4,
 "nbformat_minor": 2
}
