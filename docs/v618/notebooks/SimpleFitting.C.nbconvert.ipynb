{
 "cells": [
  {
   "cell_type": "markdown",
   "metadata": {},
   "source": [
    "#  Simple Fitting\n",
    "Create an exponential fitting\n",
    "The idea is to create a set of numbers x,y with  the function x^3 and some noise from ROOT,\n",
    "fit the function to get the exponent (which must be near 3) and plot the points with noise,\n",
    "the known function and the fitted function\n",
    "\n",
    "\n",
    "\n",
    "\n",
    "**Author:** Omar Zapata  \n",
    "<i><small>This notebook tutorial was automatically generated with <a href= \"https://github.com/root-project/root/blob/master/documentation/doxygen/converttonotebook.py\">ROOTBOOK-izer</a> from the macro found in the ROOT repository  on Thursday, August 29, 2019 at 02:38 AM.</small></i>"
   ]
  },
  {
   "cell_type": "code",
   "execution_count": 1,
   "metadata": {
    "collapsed": false
   },
   "outputs": [
    {
     "name": "stderr",
     "output_type": "stream",
     "text": [
      "In file included from input_line_26:1:\n",
      "In file included from /mnt/build/workspace/root-makedoc-v618/rootspi/rdoc/src/v6-18-00-patches.build/include/TRInterface.h:15:\n",
      "In file included from /mnt/build/workspace/root-makedoc-v618/rootspi/rdoc/src/v6-18-00-patches.build/include/TRObject.h:14:\n",
      "/mnt/build/workspace/root-makedoc-v618/rootspi/rdoc/src/v6-18-00-patches.build/include/RExports.h:54:9: fatal error: 'RcppCommon.h' file not found\n",
      "#include<RcppCommon.h>\n",
      "        ^~~~~~~~~~~~~~\n"
     ]
    }
   ],
   "source": [
    "%%cpp -d\n",
    "#include<TRInterface.h>\n",
    "#include<TRandom.h>"
   ]
  },
  {
   "cell_type": "code",
   "execution_count": 2,
   "metadata": {
    "collapsed": false
   },
   "outputs": [],
   "source": [
    "TCanvas *c1 = new TCanvas(\"c1\",\"Curve Fitting\",700,500);\n",
    "c1->SetGrid();"
   ]
  },
  {
   "cell_type": "markdown",
   "metadata": {},
   "source": [
    "Draw a frame to define the range"
   ]
  },
  {
   "cell_type": "code",
   "execution_count": 3,
   "metadata": {
    "collapsed": false
   },
   "outputs": [],
   "source": [
    "TMultiGraph *mg = new TMultiGraph();"
   ]
  },
  {
   "cell_type": "markdown",
   "metadata": {},
   "source": [
    "Create the first plot (points with gaussian noise)"
   ]
  },
  {
   "cell_type": "code",
   "execution_count": 4,
   "metadata": {
    "collapsed": false
   },
   "outputs": [
    {
     "name": "stderr",
     "output_type": "stream",
     "text": [
      "input_line_34:4:10: error: redefinition of 'y1' as different kind of symbol\n",
      "Double_t y1[n] ;\n",
      "         ^\n",
      "/usr/include/bits/mathcalls.h:221:13: note: previous definition is here\n",
      "__MATHCALL (y1,, (_Mdouble_));\n",
      "            ^\n"
     ]
    }
   ],
   "source": [
    "const Int_t n = 24;\n",
    "Double_t x1[n] ;\n",
    "Double_t y1[n] ;"
   ]
  },
  {
   "cell_type": "markdown",
   "metadata": {},
   "source": [
    "Generate the points along a x^3 with noise"
   ]
  },
  {
   "cell_type": "code",
   "execution_count": 5,
   "metadata": {
    "collapsed": false
   },
   "outputs": [
    {
     "name": "stderr",
     "output_type": "stream",
     "text": [
      "input_line_35:6:4: error: subscript of pointer to function type 'double (double) throw()'\n",
      "   y1[i] = TMath::Power(x1[i], 3) + rg.Gaus() * 0.06;\n",
      "   ^~\n",
      "input_line_35:6:25: error: use of undeclared identifier 'x1'\n",
      "   y1[i] = TMath::Power(x1[i], 3) + rg.Gaus() * 0.06;\n",
      "                        ^\n",
      "input_line_35:9:26: error: use of undeclared identifier 'n'\n",
      "TGraph *gr1 = new TGraph(n,x1,y1);\n",
      "                         ^\n",
      "input_line_35:9:28: error: use of undeclared identifier 'x1'\n",
      "TGraph *gr1 = new TGraph(n,x1,y1);\n",
      "                           ^\n"
     ]
    }
   ],
   "source": [
    "TRandom rg;\n",
    "rg.SetSeed(520);\n",
    "for (Int_t i = 0; i < n; i++) {\n",
    "   x1[i] = rg.Uniform(0, 1);\n",
    "   y1[i] = TMath::Power(x1[i], 3) + rg.Gaus() * 0.06;\n",
    "}\n",
    "\n",
    "TGraph *gr1 = new TGraph(n,x1,y1);\n",
    "gr1->SetMarkerColor(kBlue);\n",
    "gr1->SetMarkerStyle(8);\n",
    "gr1->SetMarkerSize(1);\n",
    "mg->Add(gr1);\n",
    "\n",
    "   // create the second plot\n",
    "TF1 *f_known=new TF1(\"f_known\",\"pow(x,3)\",0,1);\n",
    "TGraph *gr2 = new TGraph(f_known);\n",
    "gr2->SetMarkerColor(kRed);\n",
    "gr2->SetMarkerStyle(8);\n",
    "gr2->SetMarkerSize(1);\n",
    "mg->Add(gr2);"
   ]
  },
  {
   "cell_type": "markdown",
   "metadata": {},
   "source": [
    "Passing data to rfot fitting"
   ]
  },
  {
   "cell_type": "code",
   "execution_count": 6,
   "metadata": {
    "collapsed": false
   },
   "outputs": [
    {
     "name": "stderr",
     "output_type": "stream",
     "text": [
      "In file included from libRInterface dictionary payload:5:\n",
      "/mnt/build/workspace/root-makedoc-v618/rootspi/rdoc/src/v6-18-00-patches.build/include/RExports.h:54:9: fatal error: 'RcppCommon.h' file not found\n",
      "#include<RcppCommon.h>\n",
      "        ^~~~~~~~~~~~~~\n",
      "Error in <TInterpreter::AutoParse>: Error parsing payload code for class ROOT::R::TRInterface with content:\n",
      "\n",
      "#line 1 \"libRInterface dictionary payload\"\n",
      "\n",
      "\n",
      "#define _BACKWARD_BACKWARD_WARNING_H\n",
      "// Inline headers\n",
      "#include \"RExports.h\"\n",
      "#include \"TRDataFrame.h\"\n",
      "#include \"TRFunctionExport.h\"\n",
      "#include \"TRFunctionImport.h\"\n",
      "#include \"TRInterface.h\"\n",
      "#include \"TRInternalFunction.h\"\n",
      "#include \"TRObject.h\"\n",
      "\n",
      "#undef  _BACKWARD_BACKWARD_WARNING_H\n",
      "\n",
      "input_line_36:2:35: error: incomplete type 'ROOT::R::TRInterface' named in nested name specifier\n",
      " ROOT::R::TRInterface &r=ROOT::R::TRInterface::Instance();\n",
      "                         ~~~~~~~~~^~~~~~~~~~~~~\n",
      "libRInterface dictionary forward declarations' payload:9:93: note: forward declaration of 'ROOT::R::TRInterface'\n",
      "namespace ROOT{namespace R{class __attribute__((annotate(\"$clingAutoload$TRInterface.h\")))  TRInterface;}}\n",
      "                                                                                            ^\n",
      "input_line_36:3:2: error: no viable overloaded operator[] for type 'ROOT::R::TRInterface'\n",
      "r[\"x\"]<<TVectorD(n, x1);\n",
      "~^~~~\n",
      "input_line_36:3:18: error: use of undeclared identifier 'n'\n",
      "r[\"x\"]<<TVectorD(n, x1);\n",
      "                 ^\n",
      "input_line_36:3:21: error: use of undeclared identifier 'x1'\n",
      "r[\"x\"]<<TVectorD(n, x1);\n",
      "                    ^\n",
      "input_line_36:4:2: error: no viable overloaded operator[] for type 'ROOT::R::TRInterface'\n",
      "r[\"y\"]<<TVectorD(n, y1);\n",
      "~^~~~\n",
      "input_line_36:4:18: error: use of undeclared identifier 'n'\n",
      "r[\"y\"]<<TVectorD(n, y1);\n",
      "                 ^\n"
     ]
    }
   ],
   "source": [
    "ROOT::R::TRInterface &r=ROOT::R::TRInterface::Instance();\n",
    "r[\"x\"]<<TVectorD(n, x1);\n",
    "r[\"y\"]<<TVectorD(n, y1);"
   ]
  },
  {
   "cell_type": "markdown",
   "metadata": {},
   "source": [
    "Creating a r data frame"
   ]
  },
  {
   "cell_type": "code",
   "execution_count": 7,
   "metadata": {
    "collapsed": false
   },
   "outputs": [
    {
     "name": "stderr",
     "output_type": "stream",
     "text": [
      "IncrementalExecutor::executeFunction: symbol '_ZN5cling7runtime8internal9EvaluateTIvEET_PNS1_15DynamicExprInfoEPN5clang11DeclContextE' unresolved while linking [cling interface function]!\n",
      "You are probably missing the definition of void cling::runtime::internal::EvaluateT<void>(cling::runtime::internal::DynamicExprInfo*, clang::DeclContext*)\n",
      "Maybe you need to load the corresponding shared library?\n"
     ]
    }
   ],
   "source": [
    "r<<\"ds<-data.frame(x=x,y=y)\";"
   ]
  },
  {
   "cell_type": "markdown",
   "metadata": {},
   "source": [
    "Fitting x and y to x^power using nonlinear least squares"
   ]
  },
  {
   "cell_type": "code",
   "execution_count": 8,
   "metadata": {
    "collapsed": false
   },
   "outputs": [
    {
     "name": "stderr",
     "output_type": "stream",
     "text": [
      "IncrementalExecutor::executeFunction: symbol '_ZN5cling7runtime8internal9EvaluateTIvEET_PNS1_15DynamicExprInfoEPN5clang11DeclContextE' unresolved while linking [cling interface function]!\n",
      "You are probably missing the definition of void cling::runtime::internal::EvaluateT<void>(cling::runtime::internal::DynamicExprInfo*, clang::DeclContext*)\n",
      "Maybe you need to load the corresponding shared library?\n"
     ]
    }
   ],
   "source": [
    "r<<\"m <- nls(y ~ I(x^power),data = ds, start = list(power = 1),trace = T)\";"
   ]
  },
  {
   "cell_type": "markdown",
   "metadata": {},
   "source": [
    "Getting the exponent"
   ]
  },
  {
   "cell_type": "code",
   "execution_count": 9,
   "metadata": {
    "collapsed": false
   },
   "outputs": [
    {
     "name": "stderr",
     "output_type": "stream",
     "text": [
      "IncrementalExecutor::executeFunction: symbol '_ZN5cling7runtime8internal9EvaluateTIvEET_PNS1_15DynamicExprInfoEPN5clang11DeclContextE' unresolved while linking function '_GLOBAL__sub_I_cling_module_69'!\n",
      "You are probably missing the definition of void cling::runtime::internal::EvaluateT<void>(cling::runtime::internal::DynamicExprInfo*, clang::DeclContext*)\n",
      "Maybe you need to load the corresponding shared library?\n",
      " Generating stack trace...\n",
      " 0x00007fd4a3f975c3 in cling::Interpreter::RunFunction(clang::FunctionDecl const*, cling::Value*) + 0x93 from /mnt/build/workspace/root-makedoc-v618/rootspi/rdoc/src/v6-18-00-patches.build/lib/libCling.so\n",
      " 0x00007fd4a3f98cea in cling::Interpreter::EvaluateInternal(std::__cxx11::basic_string<char, std::char_traits<char>, std::allocator<char> > const&, cling::CompilationOptions, cling::Value*, cling::Transaction**, unsigned long) + 0x15a from /mnt/build/workspace/root-makedoc-v618/rootspi/rdoc/src/v6-18-00-patches.build/lib/libCling.so\n",
      " 0x00007fd4a3f98f61 in cling::Interpreter::process(std::__cxx11::basic_string<char, std::char_traits<char>, std::allocator<char> > const&, cling::Value*, cling::Transaction**, bool) + 0x161 from /mnt/build/workspace/root-makedoc-v618/rootspi/rdoc/src/v6-18-00-patches.build/lib/libCling.so\n",
      " 0x00007fd4a4054a7d in cling::MetaProcessor::process(llvm::StringRef, cling::Interpreter::CompilationResult&, cling::Value*, bool) + 0x1bd from /mnt/build/workspace/root-makedoc-v618/rootspi/rdoc/src/v6-18-00-patches.build/lib/libCling.so\n",
      " 0x00007fd4a3f1fc0c in <unknown> from /mnt/build/workspace/root-makedoc-v618/rootspi/rdoc/src/v6-18-00-patches.build/lib/libCling.so\n",
      " 0x00007fd4a3f357e6 in <unknown> from /mnt/build/workspace/root-makedoc-v618/rootspi/rdoc/src/v6-18-00-patches.build/lib/libCling.so\n",
      " 0x00007fd4a79a1699 in JupyROOTExecutorImpl(char const*) at /mnt/build/workspace/root-makedoc-v618/rootspi/rdoc/src/v6-18-00-patches/bindings/pyroot/JupyROOT/src/IOHandler.cxx:139 (discriminator 1) from /mnt/build/workspace/root-makedoc-v618/rootspi/rdoc/src/v6-18-00-patches.build/lib/libJupyROOT.so\n",
      " 0x00007fd4a79a1729 in JupyROOTExecutor at /mnt/build/workspace/root-makedoc-v618/rootspi/rdoc/src/v6-18-00-patches/bindings/pyroot/JupyROOT/src/IOHandler.cxx:172 from /mnt/build/workspace/root-makedoc-v618/rootspi/rdoc/src/v6-18-00-patches.build/lib/libJupyROOT.so\n",
      " 0x00007fd4a9173ace in ffi_call_unix64 + 0x4c from /lib64/libffi.so.6\n",
      " 0x00007fd4a917348f in ffi_call + 0x35f from /lib64/libffi.so.6\n",
      " 0x00007fd4a91a6387 in _ctypes_callproc + 0x537 from /usr/lib64/python2.7/lib-dynload/_ctypes.so\n",
      " 0x00007fd4a919fd22 in <unknown> from /usr/lib64/python2.7/lib-dynload/_ctypes.so\n",
      " 0x00007fd4aa546aa7 in PyObject_Call + 0x47 from /lib64/libpython2.7.so.1.0\n",
      " 0x00007fd4aa61eac8 in PyEval_EvalFrameEx + 0x38b8 from /lib64/libpython2.7.so.1.0\n",
      " 0x00007fd4aa6231ac in PyEval_EvalFrameEx + 0x7f9c from /lib64/libpython2.7.so.1.0\n",
      " 0x00007fd4aa6231ac in PyEval_EvalFrameEx + 0x7f9c from /lib64/libpython2.7.so.1.0\n",
      " 0x00007fd4aa6231ac in PyEval_EvalFrameEx + 0x7f9c from /lib64/libpython2.7.so.1.0\n",
      " 0x00007fd4aa624902 in PyEval_EvalCodeEx + 0x712 from /lib64/libpython2.7.so.1.0\n",
      " 0x00007fd4aa55f972 in <unknown> from /lib64/libpython2.7.so.1.0\n",
      " 0x00007fd4aa546aa7 in PyObject_Call + 0x47 from /lib64/libpython2.7.so.1.0\n",
      " 0x00007fd4aa55247e in <unknown> from /lib64/libpython2.7.so.1.0\n",
      " 0x00007fd4aa546aa7 in PyObject_Call + 0x47 from /lib64/libpython2.7.so.1.0\n",
      " 0x00007fd4aa61acc7 in PyEval_CallObjectWithKeywords + 0x47 from /lib64/libpython2.7.so.1.0\n",
      " 0x00007fd4aa6311c6 in <unknown> from /lib64/libpython2.7.so.1.0\n",
      " 0x00007fd4aa49a58e in <unknown> from /lib64/libpthread.so.0\n",
      " 0x00007fd4aa23a6f3 in clone at :? from /lib64/libc.so.6\n",
      "Error in <HandleInterpreterException>: Trying to dereference null pointer or trying to call routine taking non-null arguments.\n",
      "Execution of your code was aborted.\n",
      "input_line_41:6:1: warning: null passed to a callee that requires a non-null argument [-Wnonnull]\n",
      "f_fitted->SetParameter(0,power);\n",
      "^~~~~~~~\n"
     ]
    }
   ],
   "source": [
    "Double_t power;\n",
    "r[\"summary(m)$coefficients[1]\"]>>power;\n",
    "\n",
    "TF1 *f_fitted=new TF1(\"f_fitted\",\"pow(x,[0])\",0,1);\n",
    "f_fitted->SetParameter(0,power);"
   ]
  },
  {
   "cell_type": "markdown",
   "metadata": {},
   "source": [
    "Plotting the fitted function"
   ]
  },
  {
   "cell_type": "code",
   "execution_count": 10,
   "metadata": {
    "collapsed": false
   },
   "outputs": [
    {
     "name": "stderr",
     "output_type": "stream",
     "text": [
      "Error in <TGraph::TGraph>: Pointer to function is null\n"
     ]
    }
   ],
   "source": [
    "TGraph *gr3 = new TGraph(f_fitted);\n",
    "gr3->SetMarkerColor(kGreen);\n",
    "gr3->SetMarkerStyle(8);\n",
    "gr3->SetMarkerSize(1);\n",
    "\n",
    "mg->Add(gr3);\n",
    "mg->Draw(\"ap\");"
   ]
  },
  {
   "cell_type": "markdown",
   "metadata": {},
   "source": [
    "Displaying basic results"
   ]
  },
  {
   "cell_type": "code",
   "execution_count": 11,
   "metadata": {
    "collapsed": false
   },
   "outputs": [
    {
     "name": "stderr",
     "output_type": "stream",
     "text": [
      "Error in <TGraphPainter::PaintGraph>: illegal number of points (0)\n"
     ]
    }
   ],
   "source": [
    "TPaveText *pt = new TPaveText(0.1,0.6,0.5,0.9,\"brNDC\");\n",
    "pt->SetFillColor(18);\n",
    "pt->SetTextAlign(12);\n",
    "pt->AddText(\"Fitting x^power \");\n",
    "pt->AddText(\" \\\"Blue\\\"   Points with gaussian noise to be fitted\");\n",
    "pt->AddText(\" \\\"Red\\\"    Known function x^3\");\n",
    "TString fmsg;\n",
    "fmsg.Form(\" \\\"Green\\\"  Fitted function with power=%.4lf\",power);\n",
    "pt->AddText(fmsg);\n",
    "pt->Draw();\n",
    "c1->Update();\n",
    "return c1;"
   ]
  },
  {
   "cell_type": "markdown",
   "metadata": {},
   "source": [
    "Draw all canvases "
   ]
  },
  {
   "cell_type": "code",
   "execution_count": 12,
   "metadata": {
    "collapsed": false
   },
   "outputs": [
    {
     "data": {
      "image/png": "[encoded data removed]",
      "text/plain": [
       "<IPython.core.display.Image object>"
      ]
     },
     "metadata": {},
     "output_type": "display_data"
    },
    {
     "name": "stderr",
     "output_type": "stream",
     "text": [
      "Error in <TGraphPainter::PaintGraph>: illegal number of points (0)\n"
     ]
    }
   ],
   "source": [
    "gROOT->GetListOfCanvases()->Draw()"
   ]
  }
 ],
 "metadata": {
  "kernelspec": {
   "display_name": "ROOT C++",
   "language": "c++",
   "name": "root"
  },
  "language_info": {
   "codemirror_mode": "text/x-c++src",
   "file_extension": ".C",
   "mimetype": " text/x-c++src",
   "name": "c++"
  }
 },
 "nbformat": 4,
 "nbformat_minor": 2
}
