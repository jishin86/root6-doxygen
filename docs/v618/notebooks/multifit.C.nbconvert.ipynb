{
 "cells": [
  {
   "cell_type": "markdown",
   "metadata": {},
   "source": [
    "# Multifit\n",
    " Fitting multiple functions to different ranges of a 1-D histogram\n",
    "     Example showing how to fit in a sub-range of an histogram\n",
    " An histogram is created and filled with the bin contents and errors\n",
    " defined in the table below.\n",
    " 3 gaussians are fitted in sub-ranges of this histogram.\n",
    " A new function (a sum of 3 gaussians) is fitted on another subrange\n",
    " Note that when fitting simple functions, such as gaussians, the initial\n",
    " values of parameters are automatically computed by ROOT.\n",
    " In the more complicated case of the sum of 3 gaussians, the initial values\n",
    " of parameters must be given. In this particular case, the initial values\n",
    " are taken from the result of the individual fits.\n",
    "\n",
    "\n",
    "\n",
    "\n",
    "**Author:** Rene Brun  \n",
    "<i><small>This notebook tutorial was automatically generated with <a href= \"https://github.com/root-project/root/blob/master/documentation/doxygen/converttonotebook.py\">ROOTBOOK-izer</a> from the macro found in the ROOT repository  on Thursday, August 29, 2019 at 01:32 AM.</small></i>"
   ]
  },
  {
   "cell_type": "code",
   "execution_count": 1,
   "metadata": {
    "collapsed": false
   },
   "outputs": [],
   "source": [
    "%%cpp -d\n",
    "#include \"TH1.h\"\n",
    "#include \"TF1.h\""
   ]
  },
  {
   "cell_type": "code",
   "execution_count": 2,
   "metadata": {
    "collapsed": false
   },
   "outputs": [
    {
     "name": "stdout",
     "output_type": "stream",
     "text": [
      " FCN=0.0848003 FROM MIGRAD    STATUS=CONVERGED     105 CALLS         106 TOTAL\n",
      "                     EDM=1.77382e-07    STRATEGY= 1      ERROR MATRIX ACCURATE \n",
      "  EXT PARAMETER                                   STEP         FIRST   \n",
      "  NO.   NAME      VALUE            ERROR          SIZE      DERIVATIVE \n",
      "   1  Constant     4.96664e+00   2.83221e+00   4.26889e-04   1.67619e-04\n",
      "   2  Mean         9.54663e+01   1.23905e+01   7.53972e-04  -2.63161e-04\n",
      "   3  Sigma        6.82779e+00   7.49131e+00   5.87496e-05   3.68521e-03\n",
      " FCN=0.0771026 FROM MIGRAD    STATUS=CONVERGED      72 CALLS          73 TOTAL\n",
      "                     EDM=2.00364e-07    STRATEGY= 1      ERROR MATRIX ACCURATE \n",
      "  EXT PARAMETER                                   STEP         FIRST   \n",
      "  NO.   NAME      VALUE            ERROR          SIZE      DERIVATIVE \n",
      "   1  Constant     5.96312e+00   1.14355e+00   4.82019e-04   1.52951e-04\n",
      "   2  Mean         1.00467e+02   1.53372e+00   3.74926e-04   6.69980e-04\n",
      "   3  Sigma        3.54806e+00   1.16899e+00   3.22077e-05   3.86167e-03\n",
      " FCN=0.0087702 FROM MIGRAD    STATUS=CONVERGED      93 CALLS          94 TOTAL\n",
      "                     EDM=5.57239e-07    STRATEGY= 1      ERROR MATRIX ACCURATE \n",
      "  EXT PARAMETER                                   STEP         FIRST   \n",
      "  NO.   NAME      VALUE            ERROR          SIZE      DERIVATIVE \n",
      "   1  Constant     9.12665e-01   4.37176e-01   1.46528e-04   2.91010e-04\n",
      "   2  Mean         1.16309e+02   8.37408e+00   3.57386e-03  -3.17966e-05\n",
      "   3  Sigma        8.38413e+00   1.84577e+01   4.99414e-04  -4.98793e-04\n",
      " FCN=0.312817 FROM MIGRAD    STATUS=CONVERGED     515 CALLS         516 TOTAL\n",
      "                     EDM=1.73245e-07    STRATEGY= 1      ERROR MATRIX ACCURATE \n",
      "  EXT PARAMETER                                   STEP         FIRST   \n",
      "  NO.   NAME      VALUE            ERROR          SIZE      DERIVATIVE \n",
      "   1  p0           4.91145e+00   1.41387e+00   3.61239e-04  -3.22790e-04\n",
      "   2  p1           9.44525e+01   3.71612e+00   5.60861e-04  -6.78940e-05\n",
      "   3  p2           5.94796e+00   2.41732e+00   4.25396e-04   2.68177e-05\n",
      "   4  p3           3.22134e+00   3.11650e+00   5.86729e-04  -1.82620e-04\n",
      "   5  p4           1.01663e+02   1.67863e+00   5.56527e-04   3.95769e-04\n",
      "   6  p5           2.48454e+00   1.91461e+00   3.85832e-04   7.23818e-05\n",
      "   7  p6           9.11463e-01   3.68235e-01   1.45489e-04   5.77239e-04\n",
      "   8  p7           1.17582e+02   5.06329e+00   2.01798e-03  -8.25383e-05\n",
      "   9  p8           7.58627e+00   8.76000e+00   2.12468e-03   2.02615e-05\n"
     ]
    },
    {
     "name": "stderr",
     "output_type": "stream",
     "text": [
      "Info in <TCanvas::MakeDefCanvas>:  created default TCanvas with name c1\n"
     ]
    }
   ],
   "source": [
    "const Int_t np = 49;\n",
    "Float_t x[np] = {1.913521, 1.953769, 2.347435, 2.883654, 3.493567,\n",
    "                 4.047560, 4.337210, 4.364347, 4.563004, 5.054247,\n",
    "                 5.194183, 5.380521, 5.303213, 5.384578, 5.563983,\n",
    "                 5.728500, 5.685752, 5.080029, 4.251809, 3.372246,\n",
    "                 2.207432, 1.227541, 0.8597788,0.8220503,0.8046592,\n",
    "                 0.7684097,0.7469761,0.8019787,0.8362375,0.8744895,\n",
    "                 0.9143721,0.9462768,0.9285364,0.8954604,0.8410891,\n",
    "                 0.7853871,0.7100883,0.6938808,0.7363682,0.7032954,\n",
    "                 0.6029015,0.5600163,0.7477068,1.188785, 1.938228,\n",
    "                 2.602717, 3.472962, 4.465014, 5.177035};\n",
    "\n",
    "TH1F *h = new TH1F(\"h\",\"Example of several fits in subranges\",np,85,134);\n",
    "h->SetMaximum(7);\n",
    "\n",
    "for (int i=0;i<np;i++) {\n",
    "   h->SetBinContent(i+1,x[i]);\n",
    "}\n",
    "\n",
    "Double_t par[9];\n",
    "TF1 *g1    = new TF1(\"g1\",\"gaus\",85,95);\n",
    "TF1 *g2    = new TF1(\"g2\",\"gaus\",98,108);\n",
    "TF1 *g3    = new TF1(\"g3\",\"gaus\",110,121);\n",
    "TF1 *total = new TF1(\"total\",\"gaus(0)+gaus(3)+gaus(6)\",85,125);\n",
    "total->SetLineColor(2);\n",
    "h->Fit(g1,\"R\");\n",
    "h->Fit(g2,\"R+\");\n",
    "h->Fit(g3,\"R+\");\n",
    "g1->GetParameters(&par[0]);\n",
    "g2->GetParameters(&par[3]);\n",
    "g3->GetParameters(&par[6]);\n",
    "total->SetParameters(par);\n",
    "h->Fit(total,\"R+\");"
   ]
  },
  {
   "cell_type": "markdown",
   "metadata": {},
   "source": [
    "Draw all canvases "
   ]
  },
  {
   "cell_type": "code",
   "execution_count": 3,
   "metadata": {
    "collapsed": false
   },
   "outputs": [
    {
     "data": {
      "text/html": [
       "\n",
       "<div id=\"root_plot_1\"\n",
       "     style=\"width: 696px; height: 472px\">\n",
       "</div>\n",
       "\n",
       "<script>\n",
       " requirejs.config({\n",
       "     paths: {\n",
       "       'JSRootCore' : 'https://root.cern.ch/js/notebook//scripts/JSRootCore',\n",
       "     }\n",
       "   });\n",
       " require(['JSRootCore'],\n",
       "     function(Core) {\n",
       "       var obj = Core.JSONR_unref({\"_typename\":\"TCanvas\",\"fUniqueID\":0,\"fBits\":53673992,\"fLineColor\":1,\"fLineStyle\":1,\"fLineWidth\":1,\"fFillColor\":0,\"fFillStyle\":1001,\"fLeftMargin\":0.1,\"fRightMargin\":0.1,\"fBottomMargin\":0.1,\"fTopMargin\":0.1,\"fXfile\":2,\"fYfile\":2,\"fAfile\":1,\"fXstat\":0.99,\"fYstat\":0.99,\"fAstat\":2,\"fFrameFillColor\":0,\"fFrameLineColor\":1,\"fFrameFillStyle\":1001,\"fFrameLineStyle\":1,\"fFrameLineWidth\":1,\"fFrameBorderSize\":1,\"fFrameBorderMode\":0,\"fX1\":78.8749995436519,\"fY1\":-0.607230838779205,\"fX2\":140.125000456348,\"fY2\":7.84524792695402,\"fXtoAbsPixelk\":-896.277482479227,\"fXtoPixelk\":-896.277482479227,\"fXtoPixel\":11.3632651367966,\"fYtoAbsPixelk\":438.091303956682,\"fYtoPixelk\":438.091303956682,\"fYtoPixel\":-55.8416073061918,\"fUtoAbsPixelk\":5e-5,\"fUtoPixelk\":5e-5,\"fUtoPixel\":696,\"fVtoAbsPixelk\":472.00005,\"fVtoPixelk\":472,\"fVtoPixel\":-472,\"fAbsPixeltoXk\":78.8749995436519,\"fPixeltoXk\":78.8749995436519,\"fPixeltoX\":0.0880028748745635,\"fAbsPixeltoYk\":7.84524792695402,\"fPixeltoYk\":-0.607230838779205,\"fPixeltoY\":-0.0179077939951975,\"fXlowNDC\":0,\"fYlowNDC\":0,\"fXUpNDC\":0,\"fYUpNDC\":0,\"fWNDC\":1,\"fHNDC\":1,\"fAbsXlowNDC\":0,\"fAbsYlowNDC\":0,\"fAbsWNDC\":1,\"fAbsHNDC\":1,\"fUxmin\":85,\"fUymin\":0.23801708817482,\"fUxmax\":134,\"fUymax\":7,\"fTheta\":30,\"fPhi\":30,\"fAspectRatio\":0,\"fNumber\":0,\"fTickx\":0,\"fTicky\":0,\"fLogx\":0,\"fLogy\":0,\"fLogz\":0,\"fPadPaint\":0,\"fCrosshair\":0,\"fCrosshairPos\":0,\"fBorderSize\":2,\"fBorderMode\":0,\"fModified\":false,\"fGridx\":false,\"fGridy\":false,\"fAbsCoord\":false,\"fEditable\":true,\"fFixedAspectRatio\":false,\"fPrimitives\":{\"_typename\":\"TList\",\"name\":\"TList\",\"arr\":[{\"_typename\":\"TFrame\",\"fUniqueID\":0,\"fBits\":50331656,\"fLineColor\":1,\"fLineStyle\":1,\"fLineWidth\":1,\"fFillColor\":0,\"fFillStyle\":1001,\"fX1\":85,\"fY1\":0.23801708817482,\"fX2\":134,\"fY2\":7,\"fBorderSize\":1,\"fBorderMode\":0},{\"_typename\":\"TH1F\",\"fUniqueID\":0,\"fBits\":50331656,\"fName\":\"h\",\"fTitle\":\"Example of several fits in subranges\",\"fLineColor\":602,\"fLineStyle\":1,\"fLineWidth\":1,\"fFillColor\":0,\"fFillStyle\":1001,\"fMarkerColor\":1,\"fMarkerStyle\":1,\"fMarkerSize\":1,\"fNcells\":51,\"fXaxis\":{\"_typename\":\"TAxis\",\"fUniqueID\":0,\"fBits\":50331648,\"fName\":\"xaxis\",\"fTitle\":\"\",\"fNdivisions\":510,\"fAxisColor\":1,\"fLabelColor\":1,\"fLabelFont\":42,\"fLabelOffset\":0.005,\"fLabelSize\":0.035,\"fTickLength\":0.03,\"fTitleOffset\":1,\"fTitleSize\":0.035,\"fTitleColor\":1,\"fTitleFont\":42,\"fNbins\":49,\"fXmin\":85,\"fXmax\":134,\"fXbins\":[],\"fFirst\":0,\"fLast\":0,\"fBits2\":0,\"fTimeDisplay\":false,\"fTimeFormat\":\"\",\"fLabels\":null,\"fModLabs\":null},\"fYaxis\":{\"_typename\":\"TAxis\",\"fUniqueID\":0,\"fBits\":50331648,\"fName\":\"yaxis\",\"fTitle\":\"\",\"fNdivisions\":510,\"fAxisColor\":1,\"fLabelColor\":1,\"fLabelFont\":42,\"fLabelOffset\":0.005,\"fLabelSize\":0.035,\"fTickLength\":0.03,\"fTitleOffset\":0,\"fTitleSize\":0.035,\"fTitleColor\":1,\"fTitleFont\":42,\"fNbins\":1,\"fXmin\":0,\"fXmax\":1,\"fXbins\":[],\"fFirst\":0,\"fLast\":0,\"fBits2\":0,\"fTimeDisplay\":false,\"fTimeFormat\":\"\",\"fLabels\":null,\"fModLabs\":null},\"fZaxis\":{\"_typename\":\"TAxis\",\"fUniqueID\":0,\"fBits\":50331648,\"fName\":\"zaxis\",\"fTitle\":\"\",\"fNdivisions\":510,\"fAxisColor\":1,\"fLabelColor\":1,\"fLabelFont\":42,\"fLabelOffset\":0.005,\"fLabelSize\":0.035,\"fTickLength\":0.03,\"fTitleOffset\":1,\"fTitleSize\":0.035,\"fTitleColor\":1,\"fTitleFont\":42,\"fNbins\":1,\"fXmin\":0,\"fXmax\":1,\"fXbins\":[],\"fFirst\":0,\"fLast\":0,\"fBits2\":0,\"fTimeDisplay\":false,\"fTimeFormat\":\"\",\"fLabels\":null,\"fModLabs\":null},\"fBarOffset\":0,\"fBarWidth\":1000,\"fEntries\":49,\"fTsumw\":0,\"fTsumw2\":0,\"fTsumwx\":0,\"fTsumwx2\":0,\"fMaximum\":7,\"fMinimum\":-1111,\"fNormFactor\":0,\"fContour\":[],\"fSumw2\":[],\"fOption\":\"\",\"fFunctions\":{\"_typename\":\"TList\",\"name\":\"TList\",\"arr\":[{\"_typename\":\"TF1\",\"fUniqueID\":0,\"fBits\":50332672,\"fName\":\"g1\",\"fTitle\":\"gaus\",\"fLineColor\":2,\"fLineStyle\":1,\"fLineWidth\":2,\"fFillColor\":19,\"fFillStyle\":0,\"fMarkerColor\":1,\"fMarkerStyle\":1,\"fMarkerSize\":1,\"fXmin\":85,\"fXmax\":95,\"fNpar\":3,\"fNdim\":1,\"fNpx\":100,\"fType\":0,\"fNpfits\":10,\"fNDF\":7,\"fChisquare\":0.0848002926449978,\"fMinimum\":-1111,\"fMaximum\":-1111,\"fParErrors\":[2.8322080197117,12.3904571231178,7.49130807840067],\"fParMin\":[0,0,0],\"fParMax\":[0,0,26.9516180763799],\"fSave\":[1.53395748088494,1.56861745481698,1.60371653188561,1.63924931262298,1.67520999518604,1.71159237147417,1.74838982360169,1.78559532073756,1.82320141632436,1.86120024568842,1.89958352405228,1.93834254496086,1.97746817913178,2.01695087374008,2.05678065214734,2.09694711408417,2.13743943629533,2.17824637365529,2.21935626076237,2.2607570140184,2.30243613420058,2.34438070953137,2.3865774192519,2.42901253770327,2.47167193892002,2.51454110173872,2.55760511542444,2.60084868581669,2.64425614199605,2.68781144347165,2.73149818788893,2.77529961925654,2.81919863669005,2.86317780366969,2.90721935780825,2.95130522112457,2.99541701081728,3.03953605053229,3.08364338211714,3.12771977785418,3.17174575316364,3.21570157976717,3.25956729930119,3.30332273736882,3.34694751801827,3.3904210786347,3.43372268523188,3.47683144812904,3.51972633799765,3.56238620226216,3.60478978183767,3.64691572818737,3.68874262068116,3.73024898423686,3.77141330722435,3.81221405961248,3.85262971133807,3.89263875087562,3.93221970398588,3.97135115262098,4.01001175396322,4.04818025957435,4.08583553463155,4.12295657722621,4.15952253770106,4.19551273800107,4.23090669101322,4.26568411987003,4.29982497719154,4.33330946424058,4.36611804996548,4.39823148990513,4.42963084493061,4.46029749979808,4.49021318148755,4.51935997730229,4.54772035270391,4.57527716885829,4.6020136998678,4.62791364966562,4.65296116854835,4.67714086932338,4.70043784304814,4.72283767433849,4.74432645622457,4.76489080453242,4.78451787177071,4.80319536050241,4.82091153618182,4.83765523943834,4.85341589778894,4.86818353676202,4.88194879041649,4.8947029112403,4.90643777941399,4.91714591142539,4.92682046802269,4.93545526149416,4.94304476226351,4.94958410479117,4.95506909277264,85,95],\"fNormalized\":false,\"fNormIntegral\":0,\"fFormula\":{\"_typename\":\"TFormula\",\"fUniqueID\":0,\"fBits\":50332672,\"fName\":\"g1\",\"fTitle\":\"gaus\",\"fClingParameters\":[4.96663958483233,95.4663297528687,6.82779310035754],\"fAllParametersSetted\":true,\"fParams\":[{\"$pair\":\"pair<TString,int,TFormulaParamOrder>\",\"first\":\"Constant\",\"second\":0},{\"$pair\":\"pair<TString,int,TFormulaParamOrder>\",\"first\":\"Mean\",\"second\":1},{\"$pair\":\"pair<TString,int,TFormulaParamOrder>\",\"first\":\"Sigma\",\"second\":2}],\"fFormula\":\"[Constant]*exp(-0.5*((x-[Mean])\\/[Sigma])*((x-[Mean])\\/[Sigma]))\",\"fNdim\":1,\"fLinearParts\":[],\"fVectorized\":false},\"fParams\":null,\"fComposition_ptr\":null},{\"_typename\":\"TF1\",\"fUniqueID\":0,\"fBits\":50332672,\"fName\":\"g2\",\"fTitle\":\"gaus\",\"fLineColor\":2,\"fLineStyle\":1,\"fLineWidth\":2,\"fFillColor\":19,\"fFillStyle\":0,\"fMarkerColor\":1,\"fMarkerStyle\":1,\"fMarkerSize\":1,\"fXmin\":98,\"fXmax\":108,\"fNpar\":3,\"fNdim\":1,\"fNpx\":100,\"fType\":0,\"fNpfits\":10,\"fNDF\":7,\"fChisquare\":0.0771025522623818,\"fMinimum\":-1111,\"fMaximum\":-1111,\"fParErrors\":[1.14354949980177,1.5337185432424,1.16898835772786],\"fParMin\":[0,0,0],\"fParMax\":[0,0,23.7952081636135],\"fSave\":[4.68224023146348,4.7730236863852,4.861703849045,4.94809950092469,5.03203162147528,5.11332400068998,5.19180385106072,5.26730241596859,5.33965557153032,5.40870441891242,5.47429586413307,5.5362831824004,5.59452656408218,5.64889363946871,5.69925997957589,5.74550957033892,5.78753525766931,5.82523916098641,5.85853305299077,5.88733870361718,5.91158818629097,5.93122414480964,5.94620001938219,5.95648023057946,5.96204032017816,5.96286704811845,5.95895844503684,5.95032382008289,5.93698372397625,5.91896986750909,5.89632499594649,5.86910272002083,5.83736730445572,5.80119341518666,5.76066582667038,5.71587909088835,5.66693716985322,5.61395303361698,5.55704822595577,5.49635240006727,5.43200282676193,5.36414387775649,5.29292648678904,5.21850759136629,5.14104955802654,5.06071959405613,4.9776891486312,4.89213330637244,4.80423017629661,4.71416027912616,4.62210593587784,4.52825066059253,4.43277855999354,4.33587374276887,4.23771974106643,4.1384989466709,4.03839206419639,3.93757758348472,3.83623127324255,3.73452569778574,3.63262975858716,3.53070826214431,3.42892151550009,3.32742495056211,3.22636877817653,3.12589767272273,3.02615048780511,2.9272600034314,2.82935270488242,2.73254859329833,2.63696102783298,2.54269659905949,2.44985503315097,2.35852912620857,2.26880470796645,2.18076063397141,2.09446880521242,2.00999421406466,1.92739501531278,1.84672262092965,1.76802181721117,1.69133090280192,1.61668184609475,1.54410046044503,1.47360659561127,1.40521434381469,1.33893225880256,1.27476358630279,1.21270650426946,1.15275437134063,1.09489598196068,1.03911582665743,0.985394356011057,0.933708246904143,0.884030669701372,0.836331555071787,0.790577859235169,0.746733826487258,0.704761247934406,0.664619715446767,0.626266869919757,98,108],\"fNormalized\":false,\"fNormIntegral\":0,\"fFormula\":{\"_typename\":\"TFormula\",\"fUniqueID\":0,\"fBits\":50332672,\"fName\":\"g2\",\"fTitle\":\"gaus\",\"fClingParameters\":[5.96311790214863,100.467454989898,3.5480603813757],\"fAllParametersSetted\":true,\"fParams\":[{\"$pair\":\"pair<TString,int,TFormulaParamOrder>\",\"first\":\"Constant\",\"second\":0},{\"$pair\":\"pair<TString,int,TFormulaParamOrder>\",\"first\":\"Mean\",\"second\":1},{\"$pair\":\"pair<TString,int,TFormulaParamOrder>\",\"first\":\"Sigma\",\"second\":2}],\"fFormula\":\"[Constant]*exp(-0.5*((x-[Mean])\\/[Sigma])*((x-[Mean])\\/[Sigma]))\",\"fNdim\":1,\"fLinearParts\":[],\"fVectorized\":false},\"fParams\":null,\"fComposition_ptr\":null},{\"_typename\":\"TF1\",\"fUniqueID\":0,\"fBits\":50332672,\"fName\":\"g3\",\"fTitle\":\"gaus\",\"fLineColor\":2,\"fLineStyle\":1,\"fLineWidth\":2,\"fFillColor\":19,\"fFillStyle\":0,\"fMarkerColor\":1,\"fMarkerStyle\":1,\"fMarkerSize\":1,\"fXmin\":110,\"fXmax\":121,\"fNpar\":3,\"fNdim\":1,\"fNpx\":100,\"fType\":0,\"fNpfits\":11,\"fNDF\":8,\"fChisquare\":0.00877019970887263,\"fMinimum\":-1111,\"fMaximum\":-1111,\"fParErrors\":[0.437176406304619,8.37408220986707,18.4577351208365],\"fParMin\":[0,0,0],\"fParMax\":[0,0,30.7493025887805],\"fSave\":[0.687612070644236,0.69437479793598,0.701083345790908,0.707734870255733,0.714326529734206,0.720855486975044,0.727318911074791,0.733713979493664,0.740037880082421,0.746287813118244,0.752460993347607,0.75855465203406,0.764566039008868,0.770492424722383,0.776331102294028,0.782079389558782,0.787734631107981,0.793294200322303,0.798755501394766,0.804115971341564,0.809373081998573,0.814524342001372,0.819567298746595,0.824499540332484,0.829318697476474,0.834022445407716,0.838608505732386,0.843074648269724,0.847418692856719,0.8516385111194,0.855732028208724,0.85969722449908,0.863532137247471,0.867234862211448,0.870803555223964,0.874236433723287,0.877531778236227,0.880687933812936,0.883703311411604,0.886576389231441,0.889305713992363,0.891889902159897,0.894327641113836,0.896617690259287,0.898758882078773,0.900750123124159,0.902590394947209,0.904278754967666,0.905814337277835,0.907196353382687,0.908424092874607,0.909496924041987,0.910414294410909,0.911175731219306,0.911780841822987,0.912229314033077,0.912520916384438,0.912655498334769,0.912632990394122,0.912453404184708,0.912116832430889,0.911623448879393,0.910973508149833,0.910167345515722,0.909205376616231,0.908088097099057,0.906816082194816,0.905389986223477,0.90381054203343,0.902078560373864,0.900194929201202,0.898160612920427,0.895976651562207,0.893644159896799,0.891164326485789,0.888538412672804,0.885767751514386,0.8828537466523,0.879797871128614,0.876601666144953,0.873266739767377,0.869794765578423,0.866187481277881,0.862446687233946,0.858574244986434,0.854572075703806,0.850442158595785,0.846186529283406,0.84180727812837,0.837306548523634,0.832686535147165,0.827949482180879,0.823097681496762,0.818133470812228,0.813059231816799,0.807877388272186,0.8025904040879,0.797200781374526,0.791711058476791,0.786123807988609,0.780441634752242,110,121],\"fNormalized\":false,\"fNormIntegral\":0,\"fFormula\":{\"_typename\":\"TFormula\",\"fUniqueID\":0,\"fBits\":50332672,\"fName\":\"g3\",\"fTitle\":\"gaus\",\"fClingParameters\":[0.912665494203121,116.309239958332,8.38412804288239],\"fAllParametersSetted\":true,\"fParams\":[{\"$pair\":\"pair<TString,int,TFormulaParamOrder>\",\"first\":\"Constant\",\"second\":0},{\"$pair\":\"pair<TString,int,TFormulaParamOrder>\",\"first\":\"Mean\",\"second\":1},{\"$pair\":\"pair<TString,int,TFormulaParamOrder>\",\"first\":\"Sigma\",\"second\":2}],\"fFormula\":\"[Constant]*exp(-0.5*((x-[Mean])\\/[Sigma])*((x-[Mean])\\/[Sigma]))\",\"fNdim\":1,\"fLinearParts\":[],\"fVectorized\":false},\"fParams\":null,\"fComposition_ptr\":null},{\"_typename\":\"TF1\",\"fUniqueID\":0,\"fBits\":50332672,\"fName\":\"total\",\"fTitle\":\"gaus(0)+gaus(3)+gaus(6)\",\"fLineColor\":2,\"fLineStyle\":1,\"fLineWidth\":2,\"fFillColor\":19,\"fFillStyle\":0,\"fMarkerColor\":1,\"fMarkerStyle\":1,\"fMarkerSize\":1,\"fXmin\":85,\"fXmax\":125,\"fNpar\":9,\"fNdim\":1,\"fNpx\":100,\"fType\":0,\"fNpfits\":40,\"fNDF\":31,\"fChisquare\":0.312817170177268,\"fMinimum\":-1111,\"fMaximum\":-1111,\"fParErrors\":[1.41386946927537,3.71612278419259,2.41731653421425,3.11649931679079,1.67862892335195,1.91460877341286,0.36823487010576,5.06328894613357,8.75999678636115],\"fParMin\":[0,0,0,0,0,0,0,0,0],\"fParMax\":[0,0,0,0,0,0,0,0,0],\"fSave\":[1.38938755720386,1.54262162664237,1.70502923434947,1.87603411510743,2.0548788407777,2.24062105837196,2.43213374216399,2.62810984662717,2.82707165002552,3.02738497321851,3.22727835727389,3.42486720558682,3.61818286743929,3.80520669352445,3.98390926721965,4.15229534122882,4.30845549942279,4.45062618201503,4.57726033796778,4.68711135763492,4.77933269693415,4.85359419795398,4.91021294443752,4.95029107938001,4.97584525365604,4.98990288256047,4.99653079061758,5.0007548842665,5.00832885464238,5.02531938096481,5.05749761907179,5.10956211206346,5.18426299044725,5.28154339428287,5.39784982014021,5.52577572156696,5.65418174156193,5.76887741480246,5.85385846053703,5.8929864046328,5.87189634136973,5.77984946313727,5.61122996455134,5.36643011554034,5.0519667031553,4.67980626811957,4.26601584888148,3.82896915924462,3.38740118682763,2.95860627731799,2.55702037264506,2.19333463096776,1.87417969951314,1.60232193430967,1.37724318979787,1.19594309730178,1.0538057299124,0.945402386663831,0.86514639832366,0.80776201853316,0.768568284841359,0.743605178718122,0.729642581243568,0.724114517885146,0.725015637298539,0.730787584036106,0.740212999788171,0.752326317530369,0.766344211674241,0.781614627518459,0.797581341884249,0.813760422578198,0.829725192485672,0.845096921916978,0.85953917809874,0.872754393936301,0.884481715632237,0.894495544514349,0.902604424548685,0.908650074044198,0.912506446613058,0.914078755031193,0.913302418047699,0.910141904590641,0.904589458274928,0.896663690980638,0.886408039216793,0.873889081741955,0.859194721695218,0.842432241264855,0.823726241545518,0.803216484535931,0.781055658041764,0.757407087433228,0.73244242065755,0.706339314553228,0.67927915132178,0.651444813983391,0.6230185488056,0.594179941105732,0.565104028566966,85,125],\"fNormalized\":false,\"fNormIntegral\":0,\"fFormula\":{\"_typename\":\"TFormula\",\"fUniqueID\":0,\"fBits\":50332672,\"fName\":\"total\",\"fTitle\":\"gaus(0)+gaus(3)+gaus(6)\",\"fClingParameters\":[4.91144780818238,94.4524707572679,5.94796124019967,3.22134139913766,101.663092307087,2.48454100474048,0.911463293503842,117.582054000511,7.58627326819791],\"fAllParametersSetted\":true,\"fParams\":[{\"$pair\":\"pair<TString,int,TFormulaParamOrder>\",\"first\":\"p0\",\"second\":0},{\"$pair\":\"pair<TString,int,TFormulaParamOrder>\",\"first\":\"p1\",\"second\":1},{\"$pair\":\"pair<TString,int,TFormulaParamOrder>\",\"first\":\"p2\",\"second\":2},{\"$pair\":\"pair<TString,int,TFormulaParamOrder>\",\"first\":\"p3\",\"second\":3},{\"$pair\":\"pair<TString,int,TFormulaParamOrder>\",\"first\":\"p4\",\"second\":4},{\"$pair\":\"pair<TString,int,TFormulaParamOrder>\",\"first\":\"p5\",\"second\":5},{\"$pair\":\"pair<TString,int,TFormulaParamOrder>\",\"first\":\"p6\",\"second\":6},{\"$pair\":\"pair<TString,int,TFormulaParamOrder>\",\"first\":\"p7\",\"second\":7},{\"$pair\":\"pair<TString,int,TFormulaParamOrder>\",\"first\":\"p8\",\"second\":8}],\"fFormula\":\"[p0]*exp(-0.5*((x-[p1])\\/[p2])*((x-[p1])\\/[p2]))+[p3]*exp(-0.5*((x-[p4])\\/[p5])*((x-[p4])\\/[p5]))+[p6]*exp(-0.5*((x-[p7])\\/[p8])*((x-[p7])\\/[p8]))\",\"fNdim\":1,\"fLinearParts\":[],\"fVectorized\":false},\"fParams\":null,\"fComposition_ptr\":null},{\"_typename\":\"TPaveStats\",\"fUniqueID\":0,\"fBits\":50331657,\"fLineColor\":1,\"fLineStyle\":1,\"fLineWidth\":1,\"fFillColor\":0,\"fFillStyle\":1001,\"fX1\":126.650001241267,\"fY1\":5.94344025504475,\"fX2\":138.900001606345,\"fY2\":7.29583682733364,\"fX1NDC\":0.780000016093254,\"fY1NDC\":0.775000005960464,\"fX2NDC\":0.980000019073486,\"fY2NDC\":0.935000002384186,\"fBorderSize\":1,\"fInit\":1,\"fShadowColor\":1,\"fCornerRadius\":0,\"fOption\":\"brNDC\",\"fName\":\"stats\",\"fTextAngle\":0,\"fTextSize\":0,\"fTextAlign\":12,\"fTextColor\":1,\"fTextFont\":42,\"fLabel\":\"\",\"fLongest\":18,\"fMargin\":0.05,\"fLines\":{\"_typename\":\"TList\",\"name\":\"TList\",\"arr\":[{\"_typename\":\"TLatex\",\"fUniqueID\":0,\"fBits\":50331648,\"fName\":\"\",\"fTitle\":\"h\",\"fTextAngle\":0,\"fTextSize\":0.0368,\"fTextAlign\":0,\"fTextColor\":0,\"fTextFont\":0,\"fX\":0,\"fY\":0,\"fLineColor\":1,\"fLineStyle\":1,\"fLineWidth\":2,\"fLimitFactorSize\":3,\"fOriginSize\":0.0368000008165836},{\"_typename\":\"TLatex\",\"fUniqueID\":0,\"fBits\":50331648,\"fName\":\"\",\"fTitle\":\"Entries = 49     \",\"fTextAngle\":0,\"fTextSize\":0,\"fTextAlign\":0,\"fTextColor\":0,\"fTextFont\":0,\"fX\":0,\"fY\":0,\"fLineColor\":1,\"fLineStyle\":1,\"fLineWidth\":2,\"fLimitFactorSize\":3,\"fOriginSize\":0.04},{\"_typename\":\"TLatex\",\"fUniqueID\":0,\"fBits\":50331648,\"fName\":\"\",\"fTitle\":\"Mean  =  104.6\",\"fTextAngle\":0,\"fTextSize\":0,\"fTextAlign\":0,\"fTextColor\":0,\"fTextFont\":0,\"fX\":0,\"fY\":0,\"fLineColor\":1,\"fLineStyle\":1,\"fLineWidth\":2,\"fLimitFactorSize\":3,\"fOriginSize\":0.04},{\"_typename\":\"TLatex\",\"fUniqueID\":0,\"fBits\":50331648,\"fName\":\"\",\"fTitle\":\"Std Dev   =   14.3\",\"fTextAngle\":0,\"fTextSize\":0,\"fTextAlign\":0,\"fTextColor\":0,\"fTextFont\":0,\"fX\":0,\"fY\":0,\"fLineColor\":1,\"fLineStyle\":1,\"fLineWidth\":2,\"fLimitFactorSize\":3,\"fOriginSize\":0.04}],\"opt\":[\"\",\"\",\"\",\"\"]},\"fOptFit\":0,\"fOptStat\":1111,\"fFitFormat\":\"5.4g\",\"fStatFormat\":\"6.4g\",\"fParent\":{\"$ref\":3}}],\"opt\":[\"\",\"\",\"\",\"\",\"brNDC\"]},\"fBufferSize\":0,\"fBuffer\":[],\"fBinStatErrOpt\":0,\"fStatOverflows\":2,\"fArray\":[0,1.913521,1.953769,2.347435,2.883654,3.493567,4.04756,4.33721,4.364347,4.563004,5.054247,5.194183,5.380521,5.303213,5.384578,5.563983,5.7285,5.685752,5.080029,4.251809,3.372246,2.207432,1.227541,0.8597788,0.8220503,0.8046592,0.7684097,0.7469761,0.8019787,0.8362375,0.8744895,0.9143721,0.9462768,0.9285364,0.8954604,0.8410891,0.7853871,0.7100883,0.6938808,0.7363682,0.7032954,0.6029015,0.5600163,0.7477068,1.188785,1.938228,2.602717,3.472962,4.465014,5.177035,0]},{\"_typename\":\"TPaveText\",\"fUniqueID\":0,\"fBits\":50331657,\"fLineColor\":1,\"fLineStyle\":1,\"fLineWidth\":1,\"fFillColor\":0,\"fFillStyle\":0,\"fX1\":90.5829020169638,\"fY1\":7.28724110636823,\"fX2\":128.417097983036,\"fY2\":7.80298557342992,\"fX1NDC\":0.191149425287356,\"fY1NDC\":0.933983055615829,\"fX2NDC\":0.808850574712644,\"fY2NDC\":0.995000004768372,\"fBorderSize\":0,\"fInit\":1,\"fShadowColor\":1,\"fCornerRadius\":0,\"fOption\":\"blNDC\",\"fName\":\"title\",\"fTextAngle\":0,\"fTextSize\":0,\"fTextAlign\":22,\"fTextColor\":1,\"fTextFont\":42,\"fLabel\":\"\",\"fLongest\":36,\"fMargin\":0.05,\"fLines\":{\"_typename\":\"TList\",\"name\":\"TList\",\"arr\":[{\"_typename\":\"TLatex\",\"fUniqueID\":0,\"fBits\":50331648,\"fName\":\"\",\"fTitle\":\"Example of several fits in subranges\",\"fTextAngle\":0,\"fTextSize\":0,\"fTextAlign\":0,\"fTextColor\":0,\"fTextFont\":0,\"fX\":0,\"fY\":0,\"fLineColor\":1,\"fLineStyle\":1,\"fLineWidth\":2,\"fLimitFactorSize\":3,\"fOriginSize\":0.0518644079566002}],\"opt\":[\"\"]}}],\"opt\":[\"\",\"\",\"blNDC\"]},\"fExecs\":null,\"fName\":\"c1\",\"fTitle\":\"c1\",\"fNumPaletteColor\":0,\"fNextPaletteColor\":0,\"fDISPLAY\":\"$DISPLAY\",\"fDoubleBuffer\":0,\"fRetained\":true,\"fXsizeUser\":0,\"fYsizeUser\":0,\"fXsizeReal\":20,\"fYsizeReal\":14.28571,\"fWindowTopX\":0,\"fWindowTopY\":0,\"fWindowWidth\":0,\"fWindowHeight\":0,\"fCw\":696,\"fCh\":472,\"fCatt\":{\"_typename\":\"TAttCanvas\",\"fXBetween\":2,\"fYBetween\":2,\"fTitleFromTop\":1.2,\"fXdate\":0.2,\"fYdate\":0.3,\"fAdate\":1},\"kMoveOpaque\":true,\"kResizeOpaque\":true,\"fHighLightColor\":2,\"fBatch\":true,\"kShowEventStatus\":false,\"kAutoExec\":true,\"kMenuBar\":true});\n",
       "       Core.draw(\"root_plot_1\", obj, \"\");\n",
       "     }\n",
       " );\n",
       "</script>\n"
      ],
      "text/plain": [
       "<IPython.core.display.HTML object>"
      ]
     },
     "metadata": {},
     "output_type": "display_data"
    }
   ],
   "source": [
    "%jsroot on\n",
    "gROOT->GetListOfCanvases()->Draw()"
   ]
  }
 ],
 "metadata": {
  "kernelspec": {
   "display_name": "ROOT C++",
   "language": "c++",
   "name": "root"
  },
  "language_info": {
   "codemirror_mode": "text/x-c++src",
   "file_extension": ".C",
   "mimetype": " text/x-c++src",
   "name": "c++"
  }
 },
 "nbformat": 4,
 "nbformat_minor": 2
}
