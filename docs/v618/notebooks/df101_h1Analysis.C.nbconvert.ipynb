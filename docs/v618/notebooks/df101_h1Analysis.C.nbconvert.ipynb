{
 "cells": [
  {
   "cell_type": "markdown",
   "metadata": {},
   "source": [
    "# Df 1 0 1_H 1 Analysis\n",
    "This tutorial illustrates how to express the H1 analysis with a RDataFrame.\n",
    "\n",
    "\n",
    "\n",
    "\n",
    "**Author:** Axel Naumann, Danilo Piparo (CERN)  \n",
    "<i><small>This notebook tutorial was automatically generated with <a href= \"https://github.com/root-project/root/blob/master/documentation/doxygen/converttonotebook.py\">ROOTBOOK-izer</a> from the macro found in the ROOT repository  on Thursday, August 29, 2019 at 01:16 AM.</small></i>"
   ]
  },
  {
   "cell_type": "code",
   "execution_count": null,
   "metadata": {
    "collapsed": false
   },
   "outputs": [],
   "source": [
    "auto Select = [](ROOT::RDataFrame &dataFrame) {\n",
    "   using Farray_t = ROOT::VecOps::RVec<float>;\n",
    "   using Iarray_t = ROOT::VecOps::RVec<int>;\n",
    "\n",
    "   auto ret = dataFrame.Filter(\"TMath::Abs(md0_d - 1.8646) < 0.04\")\n",
    "                 .Filter(\"ptds_d > 2.5\")\n",
    "                 .Filter(\"TMath::Abs(etads_d) < 1.5\")\n",
    "                 .Filter([](int ik, int ipi, Iarray_t& nhitrp) { return nhitrp[ik - 1] * nhitrp[ipi - 1] > 1; },\n",
    "                         {\"ik\", \"ipi\", \"nhitrp\"})\n",
    "                 .Filter([](int ik, Farray_t& rstart, Farray_t& rend) { return rend[ik - 1] - rstart[ik - 1] > 22; },\n",
    "                         {\"ik\", \"rstart\", \"rend\"})\n",
    "                 .Filter([](int ipi, Farray_t& rstart, Farray_t& rend) { return rend[ipi - 1] - rstart[ipi - 1] > 22; },\n",
    "                         {\"ipi\", \"rstart\", \"rend\"})\n",
    "                 .Filter([](int ik, Farray_t& nlhk) { return nlhk[ik - 1] > 0.1; }, {\"ik\", \"nlhk\"})\n",
    "                 .Filter([](int ipi, Farray_t& nlhpi) { return nlhpi[ipi - 1] > 0.1; }, {\"ipi\", \"nlhpi\"})\n",
    "                 .Filter([](int ipis, Farray_t& nlhpi) { return nlhpi[ipis - 1] > 0.1; }, {\"ipis\", \"nlhpi\"})\n",
    "                 .Filter(\"njets >= 1\");\n",
    "\n",
    "   return ret;\n",
    "};\n",
    "\n",
    "const Double_t dxbin = (0.17 - 0.13) / 40; // Bin-width"
   ]
  },
  {
   "cell_type": "markdown",
   "metadata": {},
   "source": [
    " A helper function is created: "
   ]
  },
  {
   "cell_type": "code",
   "execution_count": null,
   "metadata": {
    "collapsed": false
   },
   "outputs": [],
   "source": [
    "%%cpp -d\n",
    "Double_t fdm5(Double_t *xx, Double_t *par)\n",
    "{\n",
    "   Double_t x = xx[0];\n",
    "   if (x <= 0.13957)\n",
    "      return 0;\n",
    "   Double_t xp3 = (x - par[3]) * (x - par[3]);\n",
    "   Double_t res =\n",
    "      dxbin * (par[0] * pow(x - 0.13957, par[1]) + par[2] / 2.5066 / par[4] * exp(-xp3 / 2 / par[4] / par[4]));\n",
    "   return res;\n",
    "}"
   ]
  },
  {
   "cell_type": "markdown",
   "metadata": {},
   "source": [
    " A helper function is created: "
   ]
  },
  {
   "cell_type": "code",
   "execution_count": null,
   "metadata": {
    "collapsed": false
   },
   "outputs": [],
   "source": [
    "%%cpp -d\n",
    "Double_t fdm2(Double_t *xx, Double_t *par)\n",
    "{\n",
    "   static const Double_t sigma = 0.0012;\n",
    "   Double_t x = xx[0];\n",
    "   if (x <= 0.13957)\n",
    "      return 0;\n",
    "   Double_t xp3 = (x - 0.1454) * (x - 0.1454);\n",
    "   Double_t res = dxbin * (par[0] * pow(x - 0.13957, 0.25) + par[1] / 2.5066 / sigma * exp(-xp3 / 2 / sigma / sigma));\n",
    "   return res;\n",
    "}"
   ]
  },
  {
   "cell_type": "markdown",
   "metadata": {},
   "source": [
    " A helper function is created: "
   ]
  },
  {
   "cell_type": "code",
   "execution_count": null,
   "metadata": {
    "collapsed": false
   },
   "outputs": [],
   "source": [
    "%%cpp -d\n",
    "void FitAndPlotHdmd(TH1 &hdmd)\n",
    "{\n",
    "   // create the canvas for the h1analysis fit\n",
    "   gStyle->SetOptFit();\n",
    "   auto c1 = new TCanvas(\"c1\", \"h1analysis analysis\", 10, 10, 800, 600);\n",
    "   hdmd.GetXaxis()->SetTitle(\"m_{K#pi#pi} - m_{K#pi}[GeV/c^{2}]\");\n",
    "   hdmd.GetXaxis()->SetTitleOffset(1.4);\n",
    "\n",
    "   // fit histogram hdmd with function f5 using the loglikelihood option\n",
    "   auto f5 = new TF1(\"f5\", fdm5, 0.139, 0.17, 5);\n",
    "   f5->SetParameters(1000000, .25, 2000, .1454, .001);\n",
    "   hdmd.Fit(\"f5\", \"lr\");\n",
    "\n",
    "   hdmd.DrawClone();\n",
    "}"
   ]
  },
  {
   "cell_type": "markdown",
   "metadata": {},
   "source": [
    " A helper function is created: "
   ]
  },
  {
   "cell_type": "code",
   "execution_count": null,
   "metadata": {
    "collapsed": false
   },
   "outputs": [],
   "source": [
    "%%cpp -d\n",
    "void FitAndPlotH2(TH2 &h2)\n",
    "{\n",
    "   // create the canvas for tau d0\n",
    "   auto c2 = new TCanvas(\"c2\", \"tauD0\", 100, 100, 800, 600);\n",
    "\n",
    "   c2->SetGrid();\n",
    "   c2->SetBottomMargin(0.15);\n",
    "\n",
    "   // Project slices of 2-d histogram h2 along X , then fit each slice\n",
    "   // with function f2 and make a histogram for each fit parameter\n",
    "   // Note that the generated histograms are added to the list of objects\n",
    "   // in the current directory.\n",
    "   auto f2 = new TF1(\"f2\", fdm2, 0.139, 0.17, 2);\n",
    "   f2->SetParameters(10000, 10);\n",
    "   h2.FitSlicesX(f2, 0, -1, 1, \"qln\");\n",
    "\n",
    "   // See TH2::FitSlicesX documentation\n",
    "   auto h2_1 = (TH1D *)gDirectory->Get(\"h2_1\");\n",
    "   h2_1->GetXaxis()->SetTitle(\"#tau [ps]\");\n",
    "   h2_1->SetMarkerStyle(21);\n",
    "   h2_1->DrawClone();\n",
    "   c2->Update();\n",
    "\n",
    "   auto line = new TLine(0, 0, 0, c2->GetUymax());\n",
    "   line->Draw();\n",
    "}"
   ]
  },
  {
   "cell_type": "code",
   "execution_count": null,
   "metadata": {
    "collapsed": false
   },
   "outputs": [],
   "source": [
    "TChain chain(\"h42\");\n",
    "chain.Add(\"root://eospublic.cern.ch//eos/root-eos/h1/dstarmb.root\");\n",
    "chain.Add(\"root://eospublic.cern.ch//eos/root-eos/h1/dstarp1a.root\");\n",
    "chain.Add(\"root://eospublic.cern.ch//eos/root-eos/h1/dstarp1b.root\");\n",
    "chain.Add(\"root://eospublic.cern.ch//eos/root-eos/h1/dstarp2.root\");\n",
    "\n",
    "ROOT::EnableImplicitMT(4);\n",
    "\n",
    "ROOT::RDataFrame dataFrame(chain);\n",
    "auto selected = Select(dataFrame);\n",
    "auto hdmdARP = selected.Histo1D({\"hdmd\", \"Dm_d\", 40, 0.13, 0.17}, \"dm_d\");\n",
    "auto selectedAddedBranch = selected.Define(\"h2_y\", \"rpd0_t / 0.029979f * 1.8646f / ptd0_d\");\n",
    "auto h2ARP = selectedAddedBranch.Histo2D({\"h2\", \"ptD0 vs Dm_d\", 30, 0.135, 0.165, 30, -3, 6}, \"dm_d\", \"h2_y\");\n",
    "\n",
    "FitAndPlotHdmd(*hdmdARP);\n",
    "FitAndPlotH2(*h2ARP);"
   ]
  },
  {
   "cell_type": "markdown",
   "metadata": {},
   "source": [
    "Draw all canvases "
   ]
  },
  {
   "cell_type": "code",
   "execution_count": null,
   "metadata": {
    "collapsed": false
   },
   "outputs": [],
   "source": [
    "gROOT->GetListOfCanvases()->Draw()"
   ]
  }
 ],
 "metadata": {
  "kernelspec": {
   "display_name": "ROOT C++",
   "language": "c++",
   "name": "root"
  },
  "language_info": {
   "codemirror_mode": "text/x-c++src",
   "file_extension": ".C",
   "mimetype": " text/x-c++src",
   "name": "c++"
  }
 },
 "nbformat": 4,
 "nbformat_minor": 2
}
