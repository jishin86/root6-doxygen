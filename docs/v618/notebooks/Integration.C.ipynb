{
 "cells": [
  {
   "cell_type": "markdown", 
   "metadata": {}, 
   "source": [
    "#  Integration\n", 
    "Numerical integration using R passing the function from ROOT\n", 
    "\n", 
    "\n", 
    "\n", 
    "\n", 
    "**Author:**   \n", 
    "<i><small>This notebook tutorial was automatically generated with <a href= \"https://github.com/root-project/root/blob/master/documentation/doxygen/converttonotebook.py\">ROOTBOOK-izer</a> from the macro found in the ROOT repository  on Thursday, August 29, 2019 at 02:35 AM.</small></i>"
   ]
  }, 
  {
   "cell_type": "code", 
   "execution_count": null, 
   "metadata": {
    "collapsed": false
   }, 
   "outputs": [], 
   "source": [
    "%%cpp -d\n", 
    "#include<TMath.h>\n", 
    "#include<TRInterface.h>\n", 
    "#include<Math/Integrator.h>\n", 
    "#include<TF1.h>"
   ]
  }, 
  {
   "cell_type": "markdown", 
   "metadata": {}, 
   "source": [
    "To integrate using r the function must be vectorized\n", 
    "The idea is just to receive a vector like an argument,to evaluate\n", 
    "every element saving the result in another vector\n", 
    "and return the resultant vector."
   ]
  }, 
  {
   "cell_type": "code", 
   "execution_count": null, 
   "metadata": {
    "collapsed": false
   }, 
   "outputs": [], 
   "source": [
    "std::vector<Double_t>  BreitWignerVectorized(std::vector<Double_t> xx)\n", 
    "{\n", 
    "   std::vector<Double_t> result(xx.size());\n", 
    "   for(Int_t i=0;i<xx.size();i++)\n", 
    "   {\n", 
    "      result[i]=TMath::BreitWigner(xx[i]);\n", 
    "   }\n", 
    "   return result;\n", 
    "}"
   ]
  }, 
  {
   "cell_type": "markdown", 
   "metadata": {}, 
   "source": [
    " A helper function is created: "
   ]
  }, 
  {
   "cell_type": "code", 
   "execution_count": null, 
   "metadata": {
    "collapsed": false
   }, 
   "outputs": [], 
   "source": [
    "%%cpp -d\n", 
    "double BreitWignerWrap( double x){\n", 
    "   return TMath::BreitWigner(x);\n", 
    "}"
   ]
  }, 
  {
   "cell_type": "code", 
   "execution_count": null, 
   "metadata": {
    "collapsed": false
   }, 
   "outputs": [], 
   "source": [
    "ROOT::R::TRInterface &r=ROOT::R::TRInterface::Instance();\n", 
    "\n", 
    "r[\"BreitWigner\"]=ROOT::R::TRFunctionExport(BreitWignerVectorized);\n", 
    "\n", 
    "Double_t value=r.Eval(\"integrate(BreitWigner, lower = -2, upper = 2)$value\");\n", 
    "\n", 
    "std::cout.precision(18);\n", 
    "std::cout<<\"Integral of the BreitWigner Function in the interval [-2, 2] R        = \"<<value<<std::endl;\n", 
    "\n", 
    "\n", 
    "ROOT::Math::WrappedFunction<> wf(BreitWignerWrap);\n", 
    "ROOT::Math::Integrator i(wf);\n", 
    "value=i.Integral(-2,2);\n", 
    "std::cout<<\"Integral of the BreitWigner Function in the interval [-2, 2] MathMore = \"<<value<<std::endl;\n", 
    "\n", 
    "\n", 
    "TF1 f1(\"BreitWigner\",\"BreitWignerWrap(x)\");\n", 
    "value=f1.Integral(-2,2);\n", 
    "std::cout<<\"Integral of the BreitWigner Function in the interval [-2, 2] TF1      = \"<<value<<std::endl;"
   ]
  }, 
  {
   "cell_type": "markdown", 
   "metadata": {}, 
   "source": [
    "Infinite limits"
   ]
  }, 
  {
   "cell_type": "code", 
   "execution_count": null, 
   "metadata": {
    "collapsed": false
   }, 
   "outputs": [], 
   "source": [
    "value=r.Eval(\"integrate(BreitWigner, lower = -Inf, upper = Inf)$value\");\n", 
    "std::cout<<\"Integral of BreitWigner Function in the interval [-Inf, Inf] R    = \"<<value<<std::endl;"
   ]
  }
 ], 
 "metadata": {
  "kernelspec": {
   "display_name": "ROOT C++", 
   "language": "c++", 
   "name": "root"
  }, 
  "language_info": {
   "codemirror_mode": "text/x-c++src", 
   "file_extension": ".C", 
   "mimetype": " text/x-c++src", 
   "name": "c++"
  }
 }, 
 "nbformat": 4, 
 "nbformat_minor": 2
}