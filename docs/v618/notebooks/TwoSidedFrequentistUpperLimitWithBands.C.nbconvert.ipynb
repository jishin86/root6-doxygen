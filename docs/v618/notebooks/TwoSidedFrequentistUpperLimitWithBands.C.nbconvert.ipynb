{
 "cells": [
  {
   "cell_type": "markdown",
   "metadata": {},
   "source": [
    "#  Two Sided Frequentist Upper Limit With Bands\n",
    "TwoSidedFrequentistUpperLimitWithBands\n",
    "\n",
    "\n",
    "This is a standard demo that can be used with any ROOT file\n",
    "prepared in the standard way.  You specify:\n",
    " - name for input ROOT file\n",
    " - name of workspace inside ROOT file that holds model and data\n",
    " - name of ModelConfig that specifies details for calculator tools\n",
    " - name of dataset\n",
    "\n",
    "With default parameters the macro will attempt to run the\n",
    "standard hist2workspace example and read the ROOT file\n",
    "that it produces.\n",
    "\n",
    "You may want to control:\n",
    "```cpp\n",
    "  double confidenceLevel=0.95;\n",
    "  double additionalToysFac = 1.;\n",
    "  int nPointsToScan = 12;\n",
    "  int nToyMC = 200;\n",
    "```\n",
    "\n",
    "This uses a modified version of the profile likelihood ratio as\n",
    "a test statistic for upper limits (eg. test stat = 0 if muhat>mu).\n",
    "\n",
    "Based on the observed data, one defines a set of parameter points\n",
    "to be tested based on the value of the parameter of interest\n",
    "and the conditional MLE (eg. profiled) values of the nuisance parameters.\n",
    "\n",
    "At each parameter point, pseudo-experiments are generated using this\n",
    "fixed reference model and then the test statistic is evaluated.\n",
    "The auxiliary measurements (global observables) associated with the\n",
    "constraint terms in nuisance parameters are also fluctuated in the\n",
    "process of generating the pseudo-experiments in a frequentist manner\n",
    "forming an 'unconditional ensemble'.  One could form a 'conditional'\n",
    "ensemble in which these auxiliary measurements are fixed.  Note that the\n",
    "nuisance parameters are not randomized, which is a Bayesian procedure.\n",
    "Note, the nuisance parameters are floating in the fits.  For each point,\n",
    "the threshold that defines the 95% acceptance region is found.  This\n",
    "forms a \"Confidence Belt\".\n",
    "\n",
    "After constructing the confidence belt, one can find the confidence\n",
    "interval for any particular dataset by finding the intersection\n",
    "of the observed test statistic and the confidence belt.  First\n",
    "this is done on the observed data to get an observed 1-sided upper limt.\n",
    "\n",
    "Finally, there expected limit and bands (from background-only) are\n",
    "formed by generating background-only data and finding the upper limit.\n",
    "The background-only is defined as such that the nuisance parameters are\n",
    "fixed to their best fit value based on the data with the signal rate fixed to 0.\n",
    "The bands are done by hand for now, will later be part of the RooStats tools.\n",
    "\n",
    "On a technical note, this technique IS the generalization of Feldman-Cousins\n",
    "with nuisance parameters.\n",
    "\n",
    "Building the confidence belt can be computationally expensive.\n",
    "Once it is built, one could save it to a file and use it in a separate step.\n",
    "\n",
    "We can use PROOF to speed things along in parallel, however,\n",
    "the test statistic has to be installed on the workers\n",
    "so either turn off PROOF or include the modified test statistic\n",
    "in your $ROOTSYS/roofit/roostats/inc directory,\n",
    "add the additional line to the LinkDef.h file,\n",
    "and recompile root.\n",
    "\n",
    "Note, if you have a boundary on the parameter of interest (eg. cross-section)\n",
    "the threshold on the two-sided test statistic starts off at moderate values and plateaus.\n",
    "\n",
    "[#0] PROGRESS:Generation -- generated toys: 500 / 999\n",
    "NeymanConstruction: Prog: 12/50 total MC = 39 this test stat = 0\n",
    " SigXsecOverSM=0.69 alpha_syst1=0.136515 alpha_syst3=0.425415 beta_syst2=1.08496 [-1e+30, 0.011215]  in interval = 1\n",
    "\n",
    "this tells you the values of the parameters being used to generate the pseudo-experiments\n",
    "and the threshold in this case is 0.011215.  One would expect for 95% that the threshold\n",
    "would be ~1.35 once the cross-section is far enough away from 0 that it is essentially\n",
    "unaffected by the boundary.  As one reaches the last points in the scan, the\n",
    "theshold starts to get artificially high.  This is because the range of the parameter in\n",
    "the fit is the same as the range in the scan.  In the future, these should be independently\n",
    "controlled, but they are not now.  As a result the ~50% of pseudo-experiments that have an\n",
    "upward fluctuation end up with muhat = muMax.  Because of this, the upper range of the\n",
    "parameter should be well above the expected upper limit... but not too high or one will\n",
    "need a very large value of nPointsToScan to resolve the relevant region.  This can be\n",
    "improved, but this is the first version of this script.\n",
    "\n",
    "Important note: when the model includes external constraint terms, like a Gaussian\n",
    "constraint to a nuisance parameter centered around some nominal value there is\n",
    "a subtlety.  The asymptotic results are all based on the assumption that all the\n",
    "measurements fluctuate... including the nominal values from auxiliary measurements.\n",
    "If these do not fluctuate, this corresponds to an \"conditional ensemble\".  The\n",
    "result is that the distribution of the test statistic can become very non-chi^2.\n",
    "This results in thresholds that become very large.\n",
    "\n",
    "\n",
    "\n",
    "\n",
    "**Author:** Kyle Cranmer,Contributions from Aaron Armbruster, Haoshuang Ji, Haichen Wang and Daniel Whiteson  \n",
    "<i><small>This notebook tutorial was automatically generated with <a href= \"https://github.com/root-project/root/blob/master/documentation/doxygen/converttonotebook.py\">ROOTBOOK-izer</a> from the macro found in the ROOT repository  on Thursday, August 29, 2019 at 03:31 AM.</small></i>"
   ]
  },
  {
   "cell_type": "code",
   "execution_count": 1,
   "metadata": {
    "collapsed": false
   },
   "outputs": [],
   "source": [
    "%%cpp -d\n",
    "#include \"TFile.h\"\n",
    "#include \"TROOT.h\"\n",
    "#include \"TH1F.h\"\n",
    "#include \"TCanvas.h\"\n",
    "#include \"TSystem.h\"\n",
    "#include <iostream>\n",
    "\n",
    "#include \"RooWorkspace.h\"\n",
    "#include \"RooSimultaneous.h\"\n",
    "#include \"RooAbsData.h\"\n",
    "\n",
    "#include \"RooStats/ModelConfig.h\"\n",
    "#include \"RooStats/FeldmanCousins.h\"\n",
    "#include \"RooStats/ToyMCSampler.h\"\n",
    "#include \"RooStats/PointSetInterval.h\"\n",
    "#include \"RooStats/ConfidenceBelt.h\"\n",
    "\n",
    "#include \"RooStats/RooStatsUtils.h\"\n",
    "#include \"RooStats/ProfileLikelihoodTestStat.h\""
   ]
  },
  {
   "cell_type": "code",
   "execution_count": 2,
   "metadata": {
    "collapsed": false
   },
   "outputs": [],
   "source": [
    "%%cpp -d\n",
    "// This is a workaround to make sure the namespace is used inside functions\n",
    "using namespace RooFit;\n",
    "using namespace RooStats;"
   ]
  },
  {
   "cell_type": "code",
   "execution_count": 3,
   "metadata": {
    "collapsed": false
   },
   "outputs": [],
   "source": [
    "using namespace std;\n",
    "\n",
    "bool useProof = false; // flag to control whether to use Proof\n",
    "int nworkers = 0;      // number of workers (default use all available cores)"
   ]
  },
  {
   "cell_type": "markdown",
   "metadata": {},
   "source": [
    "-------------------------------------------------------"
   ]
  },
  {
   "cell_type": "markdown",
   "metadata": {},
   "source": [
    " Arguments are defined. "
   ]
  },
  {
   "cell_type": "code",
   "execution_count": 4,
   "metadata": {
    "collapsed": false
   },
   "outputs": [],
   "source": [
    "const char *infile = \"\";\n",
    "const char *workspaceName = \"combined\";\n",
    "const char *modelConfigName = \"ModelConfig\";\n",
    "const char *dataName = \"obsData\";"
   ]
  },
  {
   "cell_type": "code",
   "execution_count": 5,
   "metadata": {
    "collapsed": false
   },
   "outputs": [],
   "source": [
    "double confidenceLevel = 0.95;"
   ]
  },
  {
   "cell_type": "markdown",
   "metadata": {},
   "source": [
    "Degrade/improve number of pseudo-experiments used to define the confidence belt.\n",
    " value of 1 corresponds to default number of toys in the tail, which is 50/(1-confidenceLevel)"
   ]
  },
  {
   "cell_type": "code",
   "execution_count": 6,
   "metadata": {
    "collapsed": false
   },
   "outputs": [],
   "source": [
    "double additionalToysFac = 0.5;\n",
    "int nPointsToScan = 20; // number of steps in the parameter of interest\n",
    "int nToyMC = 200;       // number of toys used to define the expected limit and band"
   ]
  },
  {
   "cell_type": "markdown",
   "metadata": {},
   "source": [
    "-------------------------------------------------------\n",
    " First part is just to access a user-defined file\n",
    " or create the standard example file if it doesn't exist"
   ]
  },
  {
   "cell_type": "code",
   "execution_count": 7,
   "metadata": {
    "collapsed": false
   },
   "outputs": [],
   "source": [
    "const char *filename = \"\";\n",
    "if (!strcmp(infile, \"\")) {\n",
    "   filename = \"results/example_combined_GaussExample_model.root\";\n",
    "   bool fileExist = !gSystem->AccessPathName(filename); // note opposite return code\n",
    "   // if file does not exists generate with histfactory\n",
    "   if (!fileExist) {\n",
    "#ifdef _WIN32\n",
    "      cout << \"HistFactory file cannot be generated on Windows - exit\" << endl;\n",
    "      return;\n",
    "#endif\n",
    "      // Normally this would be run on the command line\n",
    "      cout << \"will run standard hist2workspace example\" << endl;\n",
    "      gROOT->ProcessLine(\".! prepareHistFactory .\");\n",
    "      gROOT->ProcessLine(\".! hist2workspace config/example.xml\");\n",
    "      cout << \"\\n\\n---------------------\" << endl;\n",
    "      cout << \"Done creating example input\" << endl;\n",
    "      cout << \"---------------------\\n\\n\" << endl;\n",
    "   }\n",
    "\n",
    "} else\n",
    "   filename = infile;"
   ]
  },
  {
   "cell_type": "markdown",
   "metadata": {},
   "source": [
    "Try to open the file"
   ]
  },
  {
   "cell_type": "code",
   "execution_count": 8,
   "metadata": {
    "collapsed": false
   },
   "outputs": [
    {
     "name": "stdout",
     "output_type": "stream",
     "text": [
      "\n",
      "\u001b[1mRooFit v3.60 -- Developed by Wouter Verkerke and David Kirkby\u001b[0m \n",
      "                Copyright (C) 2000-2013 NIKHEF, University of California & Stanford University\n",
      "                All rights reserved, please read http://roofit.sourceforge.net/license.txt\n",
      "\n"
     ]
    }
   ],
   "source": [
    "TFile *file = TFile::Open(filename);"
   ]
  },
  {
   "cell_type": "markdown",
   "metadata": {},
   "source": [
    "If input file was specified byt not found, quit"
   ]
  },
  {
   "cell_type": "code",
   "execution_count": 9,
   "metadata": {
    "collapsed": false
   },
   "outputs": [],
   "source": [
    "if (!file) {\n",
    "   cout << \"StandardRooStatsDemoMacro: Input file \" << filename << \" is not found\" << endl;\n",
    "   return;\n",
    "}"
   ]
  },
  {
   "cell_type": "markdown",
   "metadata": {},
   "source": [
    "-------------------------------------------------------\n",
    " Now get the data and workspace"
   ]
  },
  {
   "cell_type": "markdown",
   "metadata": {},
   "source": [
    "Get the workspace out of the file"
   ]
  },
  {
   "cell_type": "code",
   "execution_count": 10,
   "metadata": {
    "collapsed": false
   },
   "outputs": [],
   "source": [
    "RooWorkspace *w = (RooWorkspace *)file->Get(workspaceName);\n",
    "if (!w) {\n",
    "   cout << \"workspace not found\" << endl;\n",
    "   return;\n",
    "}"
   ]
  },
  {
   "cell_type": "markdown",
   "metadata": {},
   "source": [
    "Get the modelconfig out of the file"
   ]
  },
  {
   "cell_type": "code",
   "execution_count": 11,
   "metadata": {
    "collapsed": false
   },
   "outputs": [],
   "source": [
    "ModelConfig *mc = (ModelConfig *)w->obj(modelConfigName);"
   ]
  },
  {
   "cell_type": "markdown",
   "metadata": {},
   "source": [
    "Get the modelconfig out of the file"
   ]
  },
  {
   "cell_type": "code",
   "execution_count": 12,
   "metadata": {
    "collapsed": false
   },
   "outputs": [],
   "source": [
    "RooAbsData *data = w->data(dataName);"
   ]
  },
  {
   "cell_type": "markdown",
   "metadata": {},
   "source": [
    "Make sure ingredients are found"
   ]
  },
  {
   "cell_type": "code",
   "execution_count": 13,
   "metadata": {
    "collapsed": false
   },
   "outputs": [
    {
     "name": "stdout",
     "output_type": "stream",
     "text": [
      "Found data and ModelConfig:\n",
      "\n",
      "=== Using the following for ModelConfig ===\n",
      "Observables:             RooArgSet:: = (obs_x_channel1,weightVar,channelCat)\n",
      "Parameters of Interest:  RooArgSet:: = (SigXsecOverSM)\n",
      "Nuisance Parameters:     RooArgSet:: = (alpha_syst2,alpha_syst3,gamma_stat_channel1_bin_0,gamma_stat_channel1_bin_1)\n",
      "Global Observables:      RooArgSet:: = (nom_alpha_syst2,nom_alpha_syst3,nom_gamma_stat_channel1_bin_0,nom_gamma_stat_channel1_bin_1)\n",
      "PDF:                     RooSimultaneous::simPdf[ indexCat=channelCat channel1=model_channel1 ] = 0.174888\n",
      "\n"
     ]
    }
   ],
   "source": [
    "if (!data || !mc) {\n",
    "   w->Print();\n",
    "   cout << \"data or ModelConfig was not found\" << endl;\n",
    "   return;\n",
    "}\n",
    "\n",
    "cout << \"Found data and ModelConfig:\" << endl;\n",
    "mc->Print();"
   ]
  },
  {
   "cell_type": "markdown",
   "metadata": {},
   "source": [
    "-------------------------------------------------------\n",
    " Now get the POI for convenience\n",
    " you may want to adjust the range of your POI"
   ]
  },
  {
   "cell_type": "code",
   "execution_count": 14,
   "metadata": {
    "collapsed": false
   },
   "outputs": [],
   "source": [
    "RooRealVar *firstPOI = (RooRealVar *)mc->GetParametersOfInterest()->first();\n",
    "/*  firstPOI->setMin(0);*/\n",
    "/*  firstPOI->setMax(10);*/"
   ]
  },
  {
   "cell_type": "markdown",
   "metadata": {},
   "source": [
    "-------------------------------------------------------\n",
    " create and use the FeldmanCousins tool\n",
    " to find and plot the 95% confidence interval\n",
    " on the parameter of interest as specified\n",
    " in the model config\n",
    " REMEMBER, we will change the test statistic\n",
    " so this is NOT a Feldman-Cousins interval"
   ]
  },
  {
   "cell_type": "code",
   "execution_count": 15,
   "metadata": {
    "collapsed": false
   },
   "outputs": [],
   "source": [
    "FeldmanCousins fc(*data, *mc);\n",
    "fc.SetConfidenceLevel(confidenceLevel);\n",
    "fc.AdditionalNToysFactor(additionalToysFac); // improve sampling that defines confidence belt"
   ]
  },
  {
   "cell_type": "markdown",
   "metadata": {},
   "source": [
    "Fc.useadaptivesampling(true); // speed it up a bit, but don't use for expected limits"
   ]
  },
  {
   "cell_type": "code",
   "execution_count": 16,
   "metadata": {
    "collapsed": false
   },
   "outputs": [],
   "source": [
    "fc.SetNBins(nPointsToScan); // set how many points per parameter of interest to scan\n",
    "fc.CreateConfBelt(true);    // save the information in the belt for plotting"
   ]
  },
  {
   "cell_type": "markdown",
   "metadata": {},
   "source": [
    "-------------------------------------------------------\n",
    " Feldman-Cousins is a unified limit by definition\n",
    " but the tool takes care of a few things for us like which values\n",
    " of the nuisance parameters should be used to generate toys.\n",
    " so let's just change the test statistic and realize this is\n",
    " no longer \"Feldman-Cousins\" but is a fully frequentist Neyman-Construction.\n",
    "  fc.GetTestStatSampler()->SetTestStatistic(&onesided);\n",
    " ((ToyMCSampler*) fc.GetTestStatSampler())->SetGenerateBinned(true);"
   ]
  },
  {
   "cell_type": "code",
   "execution_count": 17,
   "metadata": {
    "collapsed": false
   },
   "outputs": [
    {
     "name": "stdout",
     "output_type": "stream",
     "text": [
      "FeldmanCousins: ntoys per point = 499\n",
      "FeldmanCousins: nEvents per toy will fluctuate about  expectation\n"
     ]
    }
   ],
   "source": [
    "ToyMCSampler *toymcsampler = (ToyMCSampler *)fc.GetTestStatSampler();\n",
    "ProfileLikelihoodTestStat *testStat = dynamic_cast<ProfileLikelihoodTestStat *>(toymcsampler->GetTestStatistic());"
   ]
  },
  {
   "cell_type": "markdown",
   "metadata": {},
   "source": [
    "Since this tool needs to throw toy mc the pdf needs to be\n",
    " extended or the tool needs to know how many entries in a dataset\n",
    " per pseudo experiment.\n",
    " In the 'number counting form' where the entries in the dataset\n",
    " are counts, and not values of discriminating variables, the\n",
    " datasets typically only have one entry and the PDF is not\n",
    " extended."
   ]
  },
  {
   "cell_type": "code",
   "execution_count": 18,
   "metadata": {
    "collapsed": false
   },
   "outputs": [],
   "source": [
    "if (!mc->GetPdf()->canBeExtended()) {\n",
    "   if (data->numEntries() == 1)\n",
    "      fc.FluctuateNumDataEntries(false);\n",
    "   else\n",
    "      cout << \"Not sure what to do about this model\" << endl;\n",
    "}"
   ]
  },
  {
   "cell_type": "markdown",
   "metadata": {},
   "source": [
    "We can use proof to speed things along in parallel\n",
    " However, the test statistic has to be installed on the workers\n",
    " so either turn off PROOF or include the modified test statistic\n",
    " in your $ROOTSYS/roofit/roostats/inc directory,\n",
    " add the additional line to the LinkDef.h file,\n",
    " and recompile root."
   ]
  },
  {
   "cell_type": "code",
   "execution_count": 19,
   "metadata": {
    "collapsed": false
   },
   "outputs": [
    {
     "name": "stdout",
     "output_type": "stream",
     "text": [
      "will use global observables for unconditional ensemble\n",
      "RooArgSet:: = (nom_alpha_syst2,nom_alpha_syst3,nom_gamma_stat_channel1_bin_0,nom_gamma_stat_channel1_bin_1)\n"
     ]
    }
   ],
   "source": [
    "if (useProof) {\n",
    "   ProofConfig pc(*w, nworkers, \"\", false);\n",
    "   toymcsampler->SetProofConfig(&pc); // enable proof\n",
    "}\n",
    "\n",
    "if (mc->GetGlobalObservables()) {\n",
    "   cout << \"will use global observables for unconditional ensemble\" << endl;\n",
    "   mc->GetGlobalObservables()->Print();\n",
    "   toymcsampler->SetGlobalObservables(*mc->GetGlobalObservables());\n",
    "}"
   ]
  },
  {
   "cell_type": "markdown",
   "metadata": {},
   "source": [
    "Now get the interval"
   ]
  },
  {
   "cell_type": "code",
   "execution_count": 20,
   "metadata": {
    "collapsed": false
   },
   "outputs": [
    {
     "name": "stdout",
     "output_type": "stream",
     "text": [
      "\n",
      "=== Using the following for ModelConfig ===\n",
      "Observables:             RooArgSet:: = (obs_x_channel1,weightVar,channelCat)\n",
      "Parameters of Interest:  RooArgSet:: = (SigXsecOverSM)\n",
      "Nuisance Parameters:     RooArgSet:: = (alpha_syst2,alpha_syst3,gamma_stat_channel1_bin_0,gamma_stat_channel1_bin_1)\n",
      "Global Observables:      RooArgSet:: = (nom_alpha_syst2,nom_alpha_syst3,nom_gamma_stat_channel1_bin_0,nom_gamma_stat_channel1_bin_1)\n",
      "PDF:                     RooSimultaneous::simPdf[ indexCat=channelCat channel1=model_channel1 ] = 0.174888\n",
      "\n",
      "FeldmanCousins: Model has nuisance parameters, will do profile construction\n",
      "FeldmanCousins: # points to test = 20\n",
      "lookup index = 0\n",
      "NeymanConstruction: Prog: 1/20 total MC = 499 this test stat = 1.54009\n",
      " SigXsecOverSM=0.075 alpha_syst2=0.656048 alpha_syst3=0.244567 gamma_stat_channel1_bin_0=1.03397 gamma_stat_channel1_bin_1=1.04971 [-1e+30, 1.4945]  in interval = 0\n",
      "\n",
      "NeymanConstruction: Prog: 2/20 total MC = 499 this test stat = 1.12274\n",
      " SigXsecOverSM=0.225 alpha_syst2=0.549579 alpha_syst3=0.211046 gamma_stat_channel1_bin_0=1.02849 gamma_stat_channel1_bin_1=1.04283 [-1e+30, 1.70069]  in interval = 1\n",
      "\n",
      "NeymanConstruction: Prog: 3/20 total MC = 499 this test stat = 0.77243\n",
      " SigXsecOverSM=0.375 alpha_syst2=0.44775 alpha_syst3=0.177828 gamma_stat_channel1_bin_0=1.02318 gamma_stat_channel1_bin_1=1.03602 [-1e+30, 1.41504]  in interval = 1\n",
      "\n",
      "NeymanConstruction: Prog: 4/20 total MC = 499 this test stat = 0.488545\n",
      " SigXsecOverSM=0.525 alpha_syst2=0.349863 alpha_syst3=0.144895 gamma_stat_channel1_bin_0=1.01804 gamma_stat_channel1_bin_1=1.02929 [-1e+30, 1.80371]  in interval = 1\n",
      "\n",
      "NeymanConstruction: Prog: 5/20 total MC = 499 this test stat = 0.270334\n",
      " SigXsecOverSM=0.675 alpha_syst2=0.255203 alpha_syst3=0.11224 gamma_stat_channel1_bin_0=1.01307 gamma_stat_channel1_bin_1=1.02264 [-1e+30, 1.75591]  in interval = 1\n",
      "\n",
      "NeymanConstruction: Prog: 6/20 total MC = 499 this test stat = 0.11689\n",
      " SigXsecOverSM=0.825 alpha_syst2=0.16608 alpha_syst3=0.0821439 gamma_stat_channel1_bin_0=1.00838 gamma_stat_channel1_bin_1=1.01547 [-1e+30, 1.89781]  in interval = 1\n",
      "\n",
      "NeymanConstruction: Prog: 7/20 total MC = 499 this test stat = 0.0271562\n",
      " SigXsecOverSM=0.975 alpha_syst2=0.0745784 alpha_syst3=0.0487673 gamma_stat_channel1_bin_0=1.00375 gamma_stat_channel1_bin_1=1.00931 [-1e+30, 2.02136]  in interval = 1\n",
      "\n",
      "NeymanConstruction: Prog: 8/20 total MC = 499 this test stat = 0.000125096\n",
      " SigXsecOverSM=1.125 alpha_syst2=-0.0140996 alpha_syst3=0.0151511 gamma_stat_channel1_bin_0=0.999297 gamma_stat_channel1_bin_1=1.00317 [-1e+30, 2.36523]  in interval = 1\n",
      "\n",
      "NeymanConstruction: Prog: 9/20 total MC = 499 this test stat = 0.0347209\n",
      " SigXsecOverSM=1.275 alpha_syst2=-0.101327 alpha_syst3=-0.0176472 gamma_stat_channel1_bin_0=0.994967 gamma_stat_channel1_bin_1=0.99714 [-1e+30, 1.79773]  in interval = 1\n",
      "\n",
      "NeymanConstruction: Prog: 10/20 total MC = 499 this test stat = 0.12986\n",
      " SigXsecOverSM=1.425 alpha_syst2=-0.185801 alpha_syst3=-0.0506339 gamma_stat_channel1_bin_0=0.990814 gamma_stat_channel1_bin_1=0.991141 [-1e+30, 2.11797]  in interval = 1\n",
      "\n",
      "NeymanConstruction: Prog: 11/20 total MC = 499 this test stat = 0.284381\n",
      " SigXsecOverSM=1.575 alpha_syst2=-0.266353 alpha_syst3=-0.0784096 gamma_stat_channel1_bin_0=0.987025 gamma_stat_channel1_bin_1=0.984445 [-1e+30, 2.41483]  in interval = 1\n",
      "\n",
      "NeymanConstruction: Prog: 12/20 total MC = 499 this test stat = 0.497424\n",
      " SigXsecOverSM=1.725 alpha_syst2=-0.3458 alpha_syst3=-0.10947 gamma_stat_channel1_bin_0=0.983247 gamma_stat_channel1_bin_1=0.978371 [-1e+30, 1.95432]  in interval = 1\n",
      "\n",
      "NeymanConstruction: Prog: 13/20 total MC = 499 this test stat = 0.767852\n",
      " SigXsecOverSM=1.875 alpha_syst2=-0.422672 alpha_syst3=-0.140541 gamma_stat_channel1_bin_0=0.979595 gamma_stat_channel1_bin_1=0.972417 [-1e+30, 2.03922]  in interval = 1\n",
      "\n",
      "NeymanConstruction: Prog: 14/20 total MC = 499 this test stat = 1.09468\n",
      " SigXsecOverSM=2.025 alpha_syst2=-0.496602 alpha_syst3=-0.171004 gamma_stat_channel1_bin_0=0.976094 gamma_stat_channel1_bin_1=0.966484 [-1e+30, 1.90696]  in interval = 1\n",
      "\n",
      "NeymanConstruction: Prog: 15/20 total MC = 499 this test stat = 1.47704\n",
      " SigXsecOverSM=2.175 alpha_syst2=-0.567566 alpha_syst3=-0.201186 gamma_stat_channel1_bin_0=0.972718 gamma_stat_channel1_bin_1=0.960626 [-1e+30, 1.41513]  in interval = 0\n",
      "\n",
      "NeymanConstruction: Prog: 16/20 total MC = 499 this test stat = 1.91389\n",
      " SigXsecOverSM=2.325 alpha_syst2=-0.63553 alpha_syst3=-0.231072 gamma_stat_channel1_bin_0=0.96946 gamma_stat_channel1_bin_1=0.954845 [-1e+30, 1.98699]  in interval = 1\n",
      "\n",
      "NeymanConstruction: Prog: 17/20 total MC = 499 this test stat = 2.40432\n",
      " SigXsecOverSM=2.475 alpha_syst2=-0.700748 alpha_syst3=-0.261131 gamma_stat_channel1_bin_0=0.966278 gamma_stat_channel1_bin_1=0.949239 [-1e+30, 1.50323]  in interval = 0\n",
      "\n",
      "NeymanConstruction: Prog: 18/20 total MC = 499 this test stat = 2.94737\n",
      " SigXsecOverSM=2.625 alpha_syst2=-0.763083 alpha_syst3=-0.290538 gamma_stat_channel1_bin_0=0.963225 gamma_stat_channel1_bin_1=0.943654 [-1e+30, 1.5594]  in interval = 0\n",
      "\n",
      "NeymanConstruction: Prog: 19/20 total MC = 499 this test stat = 3.54209\n",
      " SigXsecOverSM=2.775 alpha_syst2=-0.822865 alpha_syst3=-0.319576 gamma_stat_channel1_bin_0=0.960275 gamma_stat_channel1_bin_1=0.938148 [-1e+30, 1.29457]  in interval = 0\n",
      "\n",
      "NeymanConstruction: Prog: 20/20 total MC = 499 this test stat = 4.18752\n",
      " SigXsecOverSM=2.925 alpha_syst2=-0.880381 alpha_syst3=-0.348221 gamma_stat_channel1_bin_0=0.957426 gamma_stat_channel1_bin_1=0.932721 [-1e+30, 1.21599]  in interval = 0\n",
      "\n",
      "[#1] INFO:Eval -- 14 points in interval\n"
     ]
    }
   ],
   "source": [
    "PointSetInterval *interval = fc.GetInterval();\n",
    "ConfidenceBelt *belt = fc.GetConfidenceBelt();"
   ]
  },
  {
   "cell_type": "markdown",
   "metadata": {},
   "source": [
    "Print out the interval on the first parameter of interest"
   ]
  },
  {
   "cell_type": "code",
   "execution_count": 21,
   "metadata": {
    "collapsed": false
   },
   "outputs": [
    {
     "name": "stdout",
     "output_type": "stream",
     "text": [
      "\n",
      "95% interval on SigXsecOverSM is : [0.225, 2.325] \n"
     ]
    }
   ],
   "source": [
    "cout << \"\\n95% interval on \" << firstPOI->GetName() << \" is : [\" << interval->LowerLimit(*firstPOI) << \", \"\n",
    "     << interval->UpperLimit(*firstPOI) << \"] \" << endl;"
   ]
  },
  {
   "cell_type": "markdown",
   "metadata": {},
   "source": [
    "Get observed ul and value of test statistic evaluated there"
   ]
  },
  {
   "cell_type": "code",
   "execution_count": 22,
   "metadata": {
    "collapsed": false
   },
   "outputs": [],
   "source": [
    "RooArgSet tmpPOI(*firstPOI);\n",
    "double observedUL = interval->UpperLimit(*firstPOI);\n",
    "firstPOI->setVal(observedUL);\n",
    "double obsTSatObsUL = fc.GetTestStatSampler()->EvaluateTestStatistic(*data, tmpPOI);"
   ]
  },
  {
   "cell_type": "markdown",
   "metadata": {},
   "source": [
    "Ask the calculator which points were scanned"
   ]
  },
  {
   "cell_type": "code",
   "execution_count": 23,
   "metadata": {
    "collapsed": false
   },
   "outputs": [],
   "source": [
    "RooDataSet *parameterScan = (RooDataSet *)fc.GetPointsToScan();\n",
    "RooArgSet *tmpPoint;"
   ]
  },
  {
   "cell_type": "markdown",
   "metadata": {},
   "source": [
    "Make a histogram of parameter vs. threshold"
   ]
  },
  {
   "cell_type": "code",
   "execution_count": 24,
   "metadata": {
    "collapsed": false
   },
   "outputs": [],
   "source": [
    "TH1F *histOfThresholds =\n",
    "   new TH1F(\"histOfThresholds\", \"\", parameterScan->numEntries(), firstPOI->getMin(), firstPOI->getMax());\n",
    "histOfThresholds->GetXaxis()->SetTitle(firstPOI->GetName());\n",
    "histOfThresholds->GetYaxis()->SetTitle(\"Threshold\");"
   ]
  },
  {
   "cell_type": "markdown",
   "metadata": {},
   "source": [
    "Loop through the points that were tested and ask confidence belt\n",
    " what the upper/lower thresholds were.\n",
    " For FeldmanCousins, the lower cut off is always 0"
   ]
  },
  {
   "cell_type": "code",
   "execution_count": 25,
   "metadata": {
    "collapsed": false
   },
   "outputs": [],
   "source": [
    "for (Int_t i = 0; i < parameterScan->numEntries(); ++i) {\n",
    "   tmpPoint = (RooArgSet *)parameterScan->get(i)->clone(\"temp\");\n",
    "   // cout <<\"get threshold\"<<endl;\n",
    "   double arMax = belt->GetAcceptanceRegionMax(*tmpPoint);\n",
    "   double poiVal = tmpPoint->getRealValue(firstPOI->GetName());\n",
    "   histOfThresholds->Fill(poiVal, arMax);\n",
    "}\n",
    "TCanvas *c1 = new TCanvas();\n",
    "c1->Divide(2);\n",
    "c1->cd(1);\n",
    "histOfThresholds->SetMinimum(0);\n",
    "histOfThresholds->Draw();\n",
    "c1->cd(2);"
   ]
  },
  {
   "cell_type": "markdown",
   "metadata": {},
   "source": [
    "-------------------------------------------------------\n",
    " Now we generate the expected bands and power-constraint"
   ]
  },
  {
   "cell_type": "markdown",
   "metadata": {},
   "source": [
    "First: find parameter point for mu=0, with conditional mles for nuisance parameters"
   ]
  },
  {
   "cell_type": "code",
   "execution_count": 26,
   "metadata": {
    "collapsed": false
   },
   "outputs": [
    {
     "name": "stdout",
     "output_type": "stream",
     "text": [
      "[#1] INFO:Minization -- p.d.f. provides expected number of events, including extended term in likelihood.\n",
      "[#1] INFO:Minization -- createNLL picked up cached consraints from workspace with 6 entries\n",
      "[#1] INFO:Minization --  Including the following contraint terms in minimization: (lumiConstraint,alpha_syst1Constraint,alpha_syst2Constraint,alpha_syst3Constraint,gamma_stat_channel1_bin_0_constraint,gamma_stat_channel1_bin_1_constraint)\n",
      "[#1] INFO:Minization -- RooProfileLL::evaluate(nll_simPdf_obsData_with_constr_Profile[SigXsecOverSM]) Creating instance of MINUIT\n",
      "[#1] INFO:Fitting -- RooAddition::defaultErrorLevel(nll_simPdf_obsData_with_constr) Summation contains a RooNLLVar, using its error level\n",
      "[#1] INFO:Minization -- RooProfileLL::evaluate(nll_simPdf_obsData_with_constr_Profile[SigXsecOverSM]) determining minimum likelihood for current configurations w.r.t all observable\n",
      "RooAbsTestStatistic::initSimMode: creating slave calculator #0 for state channel1 (2 dataset entries)\n",
      "[#1] INFO:Fitting -- RooAbsTestStatistic::initSimMode: created 1 slave calculators.\n",
      "[#1] INFO:Minization -- RooProfileLL::evaluate(nll_simPdf_obsData_with_constr_Profile[SigXsecOverSM]) minimum found at (SigXsecOverSM=1.11597)\n",
      ".\n",
      "Will use these parameter points to generate pseudo data for bkg only\n",
      "  1) 0x7f9ba6ca29c0 RooRealVar::               alpha_syst2 = 0.711172 +/- 0.914106  L(-5 - 5)  \"alpha_syst2\"\n",
      "  2) 0x7f9ba6ca2160 RooRealVar::               alpha_syst3 = 0.26146 +/- 0.9291  L(-5 - 5)  \"alpha_syst3\"\n",
      "  3) 0x7f9bbd23efc0 RooRealVar:: gamma_stat_channel1_bin_0 = 1.03677 +/- 0.0462899  L(0 - 1.25)  \"gamma_stat_channel1_bin_0\"\n",
      "  4) 0x7f9bbd1dfeb0 RooRealVar:: gamma_stat_channel1_bin_1 = 1.05319 +/- 0.0761205  L(0 - 1.5)  \"gamma_stat_channel1_bin_1\"\n",
      "  5) 0x7f9bbd172880 RooRealVar::             SigXsecOverSM = 0 +/- 0  L(0 - 3) B(20)  \"SigXsecOverSM\"\n"
     ]
    }
   ],
   "source": [
    "RooAbsReal *nll = mc->GetPdf()->createNLL(*data);\n",
    "RooAbsReal *profile = nll->createProfile(*mc->GetParametersOfInterest());\n",
    "firstPOI->setVal(0.);\n",
    "profile->getVal(); // this will do fit and set nuisance parameters to profiled values\n",
    "RooArgSet *poiAndNuisance = new RooArgSet();\n",
    "if (mc->GetNuisanceParameters())\n",
    "   poiAndNuisance->add(*mc->GetNuisanceParameters());\n",
    "poiAndNuisance->add(*mc->GetParametersOfInterest());\n",
    "w->saveSnapshot(\"paramsToGenerateData\", *poiAndNuisance);\n",
    "RooArgSet *paramsToGenerateData = (RooArgSet *)poiAndNuisance->snapshot();\n",
    "cout << \"\\nWill use these parameter points to generate pseudo data for bkg only\" << endl;\n",
    "paramsToGenerateData->Print(\"v\");\n",
    "\n",
    "RooArgSet unconditionalObs;\n",
    "unconditionalObs.add(*mc->GetObservables());\n",
    "unconditionalObs.add(*mc->GetGlobalObservables()); // comment this out for the original conditional ensemble\n",
    "\n",
    "double CLb = 0;\n",
    "double CLbinclusive = 0;"
   ]
  },
  {
   "cell_type": "markdown",
   "metadata": {},
   "source": [
    "Now we generate background only and find distribution of upper limits"
   ]
  },
  {
   "cell_type": "code",
   "execution_count": 27,
   "metadata": {
    "collapsed": false
   },
   "outputs": [
    {
     "name": "stderr",
     "output_type": "stream",
     "text": [
      "Info in <TCanvas::Print>: pdf file two-sided_upper_limit_output.pdf has been created\n"
     ]
    }
   ],
   "source": [
    "TH1F *histOfUL = new TH1F(\"histOfUL\", \"\", 100, 0, firstPOI->getMax());\n",
    "histOfUL->GetXaxis()->SetTitle(\"Upper Limit (background only)\");\n",
    "histOfUL->GetYaxis()->SetTitle(\"Entries\");\n",
    "for (int imc = 0; imc < nToyMC; ++imc) {\n",
    "\n",
    "   // set parameters back to values for generating pseudo data\n",
    "   //    cout << \"\\n get current nuis, set vals, print again\" << endl;\n",
    "   w->loadSnapshot(\"paramsToGenerateData\");\n",
    "   //    poiAndNuisance->Print(\"v\");\n",
    "\n",
    "   RooDataSet *toyData = 0;\n",
    "   // now generate a toy dataset for the main measurement\n",
    "   if (!mc->GetPdf()->canBeExtended()) {\n",
    "      if (data->numEntries() == 1)\n",
    "         toyData = mc->GetPdf()->generate(*mc->GetObservables(), 1);\n",
    "      else\n",
    "         cout << \"Not sure what to do about this model\" << endl;\n",
    "   } else {\n",
    "      //      cout << \"generating extended dataset\"<<endl;\n",
    "      toyData = mc->GetPdf()->generate(*mc->GetObservables(), Extended());\n",
    "   }\n",
    "\n",
    "   // generate global observables\n",
    "   // need to be careful for simpdf.\n",
    "   // In ROOT 5.28 there is a problem with generating global observables\n",
    "   // with a simultaneous PDF.  In 5.29 there is a solution with\n",
    "   // RooSimultaneous::generateSimGlobal, but this may change to\n",
    "   // the standard generate interface in 5.30.\n",
    "\n",
    "   RooSimultaneous *simPdf = dynamic_cast<RooSimultaneous *>(mc->GetPdf());\n",
    "   if (!simPdf) {\n",
    "      RooDataSet *one = mc->GetPdf()->generate(*mc->GetGlobalObservables(), 1);\n",
    "      const RooArgSet *values = one->get();\n",
    "      RooArgSet *allVars = mc->GetPdf()->getVariables();\n",
    "      *allVars = *values;\n",
    "      delete allVars;\n",
    "      delete one;\n",
    "   } else {\n",
    "      RooDataSet *one = simPdf->generateSimGlobal(*mc->GetGlobalObservables(), 1);\n",
    "      const RooArgSet *values = one->get();\n",
    "      RooArgSet *allVars = mc->GetPdf()->getVariables();\n",
    "      *allVars = *values;\n",
    "      delete allVars;\n",
    "      delete one;\n",
    "   }\n",
    "\n",
    "   // get test stat at observed UL in observed data\n",
    "   firstPOI->setVal(observedUL);\n",
    "   double toyTSatObsUL = fc.GetTestStatSampler()->EvaluateTestStatistic(*toyData, tmpPOI);\n",
    "   //    toyData->get()->Print(\"v\");\n",
    "   //    cout <<\"obsTSatObsUL \" <<obsTSatObsUL << \"toyTS \" << toyTSatObsUL << endl;\n",
    "   if (obsTSatObsUL < toyTSatObsUL) // not sure about <= part yet\n",
    "      CLb += (1.) / nToyMC;\n",
    "   if (obsTSatObsUL <= toyTSatObsUL) // not sure about <= part yet\n",
    "      CLbinclusive += (1.) / nToyMC;\n",
    "\n",
    "   // loop over points in belt to find upper limit for this toy data\n",
    "   double thisUL = 0;\n",
    "   for (Int_t i = 0; i < parameterScan->numEntries(); ++i) {\n",
    "      tmpPoint = (RooArgSet *)parameterScan->get(i)->clone(\"temp\");\n",
    "      double arMax = belt->GetAcceptanceRegionMax(*tmpPoint);\n",
    "      firstPOI->setVal(tmpPoint->getRealValue(firstPOI->GetName()));\n",
    "      //   double thisTS = profile->getVal();\n",
    "      double thisTS = fc.GetTestStatSampler()->EvaluateTestStatistic(*toyData, tmpPOI);\n",
    "\n",
    "      //   cout << \"poi = \" << firstPOI->getVal()\n",
    "      // << \" max is \" << arMax << \" this profile = \" << thisTS << endl;\n",
    "      //      cout << \"thisTS = \" << thisTS<<endl;\n",
    "      if (thisTS <= arMax) {\n",
    "         thisUL = firstPOI->getVal();\n",
    "      } else {\n",
    "         break;\n",
    "      }\n",
    "   }\n",
    "\n",
    "   histOfUL->Fill(thisUL);\n",
    "\n",
    "   // for few events, data is often the same, and UL is often the same\n",
    "   //    cout << \"thisUL = \" << thisUL<<endl;\n",
    "\n",
    "   delete toyData;\n",
    "}\n",
    "histOfUL->Draw();\n",
    "c1->SaveAs(\"two-sided_upper_limit_output.pdf\");"
   ]
  },
  {
   "cell_type": "markdown",
   "metadata": {},
   "source": [
    "If you want to see a plot of the sampling distribution for a particular scan point:"
   ]
  },
  {
   "cell_type": "code",
   "execution_count": 28,
   "metadata": {
    "collapsed": false
   },
   "outputs": [],
   "source": [
    "/*\n",
    "SamplingDistPlot sampPlot;\n",
    "int indexInScan = 0;\n",
    "tmpPoint = (RooArgSet*) parameterScan->get(indexInScan)->clone(\"temp\");\n",
    "firstPOI->setVal( tmpPoint->getRealValue(firstPOI->GetName()) );\n",
    "toymcsampler->SetParametersForTestStat(tmpPOI);\n",
    "SamplingDistribution* samp = toymcsampler->GetSamplingDistribution(*tmpPoint);\n",
    "sampPlot.AddSamplingDistribution(samp);\n",
    "sampPlot.Draw();\n",
    "   */"
   ]
  },
  {
   "cell_type": "markdown",
   "metadata": {},
   "source": [
    "Now find bands and power constraint"
   ]
  },
  {
   "cell_type": "code",
   "execution_count": 29,
   "metadata": {
    "collapsed": false
   },
   "outputs": [
    {
     "name": "stdout",
     "output_type": "stream",
     "text": [
      "-2 sigma  band 0\n",
      "-1 sigma  band 0.495 [Power Constraint)]\n",
      "median of band 1.095\n",
      "+1 sigma  band 1.545\n",
      "+2 sigma  band 1.995\n"
     ]
    }
   ],
   "source": [
    "Double_t *bins = histOfUL->GetIntegral();\n",
    "TH1F *cumulative = (TH1F *)histOfUL->Clone(\"cumulative\");\n",
    "cumulative->SetContent(bins);\n",
    "double band2sigDown = 0, band1sigDown = 0, bandMedian = 0, band1sigUp = 0, band2sigUp = 0;\n",
    "for (int i = 1; i <= cumulative->GetNbinsX(); ++i) {\n",
    "   if (bins[i] < RooStats::SignificanceToPValue(2))\n",
    "      band2sigDown = cumulative->GetBinCenter(i);\n",
    "   if (bins[i] < RooStats::SignificanceToPValue(1))\n",
    "      band1sigDown = cumulative->GetBinCenter(i);\n",
    "   if (bins[i] < 0.5)\n",
    "      bandMedian = cumulative->GetBinCenter(i);\n",
    "   if (bins[i] < RooStats::SignificanceToPValue(-1))\n",
    "      band1sigUp = cumulative->GetBinCenter(i);\n",
    "   if (bins[i] < RooStats::SignificanceToPValue(-2))\n",
    "      band2sigUp = cumulative->GetBinCenter(i);\n",
    "}\n",
    "cout << \"-2 sigma  band \" << band2sigDown << endl;\n",
    "cout << \"-1 sigma  band \" << band1sigDown << \" [Power Constraint)]\" << endl;\n",
    "cout << \"median of band \" << bandMedian << endl;\n",
    "cout << \"+1 sigma  band \" << band1sigUp << endl;\n",
    "cout << \"+2 sigma  band \" << band2sigUp << endl;"
   ]
  },
  {
   "cell_type": "markdown",
   "metadata": {},
   "source": [
    "Print out the interval on the first parameter of interest"
   ]
  },
  {
   "cell_type": "code",
   "execution_count": 30,
   "metadata": {
    "collapsed": false
   },
   "outputs": [
    {
     "name": "stdout",
     "output_type": "stream",
     "text": [
      "\n",
      "observed 95% upper-limit 2.325\n",
      "CLb strict [P(toy>obs|0)] for observed 95% upper-limit 0.96\n",
      "CLb inclusive [P(toy>=obs|0)] for observed 95% upper-limit 0.96\n"
     ]
    }
   ],
   "source": [
    "cout << \"\\nobserved 95% upper-limit \" << interval->UpperLimit(*firstPOI) << endl;\n",
    "cout << \"CLb strict [P(toy>obs|0)] for observed 95% upper-limit \" << CLb << endl;\n",
    "cout << \"CLb inclusive [P(toy>=obs|0)] for observed 95% upper-limit \" << CLbinclusive << endl;\n",
    "\n",
    "delete profile;\n",
    "delete nll;"
   ]
  },
  {
   "cell_type": "markdown",
   "metadata": {},
   "source": [
    "Draw all canvases "
   ]
  },
  {
   "cell_type": "code",
   "execution_count": 31,
   "metadata": {
    "collapsed": false
   },
   "outputs": [
    {
     "data": {
      "text/html": [
       "\n",
       "<div id=\"root_plot_1\"\n",
       "     style=\"width: 696px; height: 472px\">\n",
       "</div>\n",
       "\n",
       "<script>\n",
       " requirejs.config({\n",
       "     paths: {\n",
       "       'JSRootCore' : 'https://root.cern.ch/js/notebook//scripts/JSRootCore',\n",
       "     }\n",
       "   });\n",
       " require(['JSRootCore'],\n",
       "     function(Core) {\n",
       "       var obj = Core.JSONR_unref({\"_typename\":\"TCanvas\",\"fUniqueID\":0,\"fBits\":53673992,\"fLineColor\":1,\"fLineStyle\":1,\"fLineWidth\":1,\"fFillColor\":0,\"fFillStyle\":1001,\"fLeftMargin\":0.1,\"fRightMargin\":0.1,\"fBottomMargin\":0.1,\"fTopMargin\":0.1,\"fXfile\":2,\"fYfile\":2,\"fAfile\":1,\"fXstat\":0.99,\"fYstat\":0.99,\"fAstat\":2,\"fFrameFillColor\":0,\"fFrameLineColor\":1,\"fFrameFillStyle\":1001,\"fFrameLineStyle\":1,\"fFrameLineWidth\":1,\"fFrameBorderSize\":1,\"fFrameBorderMode\":0,\"fX1\":0,\"fY1\":0,\"fX2\":1,\"fY2\":1,\"fXtoAbsPixelk\":5e-5,\"fXtoPixelk\":5e-5,\"fXtoPixel\":696,\"fYtoAbsPixelk\":472.00005,\"fYtoPixelk\":472.00005,\"fYtoPixel\":-472,\"fUtoAbsPixelk\":5e-5,\"fUtoPixelk\":5e-5,\"fUtoPixel\":696,\"fVtoAbsPixelk\":472.00005,\"fVtoPixelk\":472,\"fVtoPixel\":-472,\"fAbsPixeltoXk\":0,\"fPixeltoXk\":0,\"fPixeltoX\":0.0014367816091954,\"fAbsPixeltoYk\":1,\"fPixeltoYk\":0,\"fPixeltoY\":-0.00211864406779661,\"fXlowNDC\":0,\"fYlowNDC\":0,\"fXUpNDC\":0,\"fYUpNDC\":0,\"fWNDC\":1,\"fHNDC\":1,\"fAbsXlowNDC\":0,\"fAbsYlowNDC\":0,\"fAbsWNDC\":1,\"fAbsHNDC\":1,\"fUxmin\":0,\"fUymin\":0,\"fUxmax\":1,\"fUymax\":1,\"fTheta\":30,\"fPhi\":30,\"fAspectRatio\":0,\"fNumber\":0,\"fTickx\":0,\"fTicky\":0,\"fLogx\":0,\"fLogy\":0,\"fLogz\":0,\"fPadPaint\":0,\"fCrosshair\":0,\"fCrosshairPos\":0,\"fBorderSize\":2,\"fBorderMode\":0,\"fModified\":false,\"fGridx\":false,\"fGridy\":false,\"fAbsCoord\":false,\"fEditable\":true,\"fFixedAspectRatio\":false,\"fPrimitives\":{\"_typename\":\"TList\",\"name\":\"TList\",\"arr\":[{\"_typename\":\"TPad\",\"fUniqueID\":0,\"fBits\":50331657,\"fLineColor\":1,\"fLineStyle\":1,\"fLineWidth\":1,\"fFillColor\":0,\"fFillStyle\":1001,\"fLeftMargin\":0.1,\"fRightMargin\":0.1,\"fBottomMargin\":0.1,\"fTopMargin\":0.1,\"fXfile\":2,\"fYfile\":2,\"fAfile\":1,\"fXstat\":0.99,\"fYstat\":0.99,\"fAstat\":2,\"fFrameFillColor\":0,\"fFrameLineColor\":1,\"fFrameFillStyle\":1001,\"fFrameLineStyle\":1,\"fFrameLineWidth\":1,\"fFrameBorderSize\":1,\"fFrameBorderMode\":0,\"fX1\":-0.375000027939679,\"fY1\":-0.633892284123701,\"fX2\":3.37500002793968,\"fY2\":5.70503017928407,\"fXtoAbsPixelk\":40.3680518668176,\"fXtoPixelk\":33.4080520223857,\"fXtoPixel\":89.0879987554549,\"fYtoAbsPixelk\":421.024047327328,\"fYtoPixelk\":416.304047432828,\"fYtoPixel\":-72.971392674573,\"fUtoAbsPixelk\":6.96004984443188,\"fUtoPixelk\":5e-5,\"fUtoPixel\":334.080000311136,\"fVtoAbsPixelk\":467.2800501055,\"fVtoPixelk\":462.560000211,\"fVtoPixel\":-462.560000211,\"fAbsPixeltoXk\":-0.453125027284843,\"fPixeltoXk\":-0.375000027939679,\"fPixeltoX\":0.0112248564786485,\"fAbsPixeltoYk\":5.76971306008846,\"fPixeltoYk\":-0.633892284123701,\"fPixeltoY\":-0.01370400047673,\"fXlowNDC\":0.00999999977648258,\"fYlowNDC\":0.00999999977648258,\"fXUpNDC\":0,\"fYUpNDC\":0,\"fWNDC\":0.480000000447035,\"fHNDC\":0.980000000447035,\"fAbsXlowNDC\":0.00999999977648258,\"fAbsYlowNDC\":0.00999999977648258,\"fAbsWNDC\":0.480000000447035,\"fAbsHNDC\":0.980000000447035,\"fUxmin\":0,\"fUymin\":0,\"fUxmax\":3,\"fUymax\":5.07113789516037,\"fTheta\":30,\"fPhi\":30,\"fAspectRatio\":0,\"fNumber\":1,\"fTickx\":0,\"fTicky\":0,\"fLogx\":0,\"fLogy\":0,\"fLogz\":0,\"fPadPaint\":0,\"fCrosshair\":0,\"fCrosshairPos\":0,\"fBorderSize\":2,\"fBorderMode\":0,\"fModified\":false,\"fGridx\":false,\"fGridy\":false,\"fAbsCoord\":false,\"fEditable\":true,\"fFixedAspectRatio\":false,\"fPrimitives\":{\"_typename\":\"TList\",\"name\":\"TList\",\"arr\":[{\"_typename\":\"TFrame\",\"fUniqueID\":0,\"fBits\":50331656,\"fLineColor\":1,\"fLineStyle\":1,\"fLineWidth\":1,\"fFillColor\":0,\"fFillStyle\":1001,\"fX1\":0,\"fY1\":0,\"fX2\":3,\"fY2\":5.07113789516037,\"fBorderSize\":1,\"fBorderMode\":0},{\"_typename\":\"TH1F\",\"fUniqueID\":0,\"fBits\":50331656,\"fName\":\"histOfThresholds\",\"fTitle\":\"\",\"fLineColor\":602,\"fLineStyle\":1,\"fLineWidth\":1,\"fFillColor\":0,\"fFillStyle\":1001,\"fMarkerColor\":1,\"fMarkerStyle\":1,\"fMarkerSize\":1,\"fNcells\":22,\"fXaxis\":{\"_typename\":\"TAxis\",\"fUniqueID\":0,\"fBits\":50331648,\"fName\":\"xaxis\",\"fTitle\":\"SigXsecOverSM\",\"fNdivisions\":510,\"fAxisColor\":1,\"fLabelColor\":1,\"fLabelFont\":42,\"fLabelOffset\":0.005,\"fLabelSize\":0.035,\"fTickLength\":0.03,\"fTitleOffset\":1,\"fTitleSize\":0.035,\"fTitleColor\":1,\"fTitleFont\":42,\"fNbins\":20,\"fXmin\":0,\"fXmax\":3,\"fXbins\":[],\"fFirst\":0,\"fLast\":0,\"fBits2\":0,\"fTimeDisplay\":false,\"fTimeFormat\":\"\",\"fLabels\":null,\"fModLabs\":null},\"fYaxis\":{\"_typename\":\"TAxis\",\"fUniqueID\":0,\"fBits\":50331648,\"fName\":\"yaxis\",\"fTitle\":\"Threshold\",\"fNdivisions\":510,\"fAxisColor\":1,\"fLabelColor\":1,\"fLabelFont\":42,\"fLabelOffset\":0.005,\"fLabelSize\":0.035,\"fTickLength\":0.03,\"fTitleOffset\":0,\"fTitleSize\":0.035,\"fTitleColor\":1,\"fTitleFont\":42,\"fNbins\":1,\"fXmin\":0,\"fXmax\":1,\"fXbins\":[],\"fFirst\":0,\"fLast\":0,\"fBits2\":0,\"fTimeDisplay\":false,\"fTimeFormat\":\"\",\"fLabels\":null,\"fModLabs\":null},\"fZaxis\":{\"_typename\":\"TAxis\",\"fUniqueID\":0,\"fBits\":50331648,\"fName\":\"zaxis\",\"fTitle\":\"\",\"fNdivisions\":510,\"fAxisColor\":1,\"fLabelColor\":1,\"fLabelFont\":42,\"fLabelOffset\":0.005,\"fLabelSize\":0.035,\"fTickLength\":0.03,\"fTitleOffset\":1,\"fTitleSize\":0.035,\"fTitleColor\":1,\"fTitleFont\":42,\"fNbins\":1,\"fXmin\":0,\"fXmax\":1,\"fXbins\":[],\"fFirst\":0,\"fLast\":0,\"fBits2\":0,\"fTimeDisplay\":false,\"fTimeFormat\":\"\",\"fLabels\":null,\"fModLabs\":null},\"fBarOffset\":0,\"fBarWidth\":1000,\"fEntries\":20,\"fTsumw\":35.6606049984881,\"fTsumw2\":65.7067623351083,\"fTsumwx\":52.1856754621026,\"fTsumwx2\":99.5765535035118,\"fMaximum\":-1111,\"fMinimum\":0,\"fNormFactor\":0,\"fContour\":[],\"fSumw2\":[0,2.23352525367441,2.89235370439177,2.00235086899133,3.25338006365628,3.08320692527404,3.60169635046563,4.08590527961662,5.59433640439397,3.23181704940109,4.48580518870337,5.83139211086144,3.81935676369476,4.15840170285631,3.63651507661898,2.00259760817795,3.94814901669692,2.25970459160842,2.43172378602002,1.67592390119453,1.47862068881051,0],\"fOption\":\"\",\"fFunctions\":{\"_typename\":\"TList\",\"name\":\"TList\",\"arr\":[{\"_typename\":\"TPaveStats\",\"fUniqueID\":0,\"fBits\":50331657,\"fLineColor\":1,\"fLineStyle\":1,\"fLineWidth\":1,\"fFillColor\":0,\"fFillStyle\":1001,\"fX1\":2.55000007599592,\"fY1\":4.27877266280024,\"fX2\":3.30000009834767,\"fY2\":5.29300023427574,\"fX1NDC\":0.780000016093254,\"fY1NDC\":0.775000005960464,\"fX2NDC\":0.980000019073486,\"fY2NDC\":0.935000002384186,\"fBorderSize\":1,\"fInit\":1,\"fShadowColor\":1,\"fCornerRadius\":0,\"fOption\":\"brNDC\",\"fName\":\"stats\",\"fTextAngle\":0,\"fTextSize\":0,\"fTextAlign\":12,\"fTextColor\":1,\"fTextFont\":42,\"fLabel\":\"\",\"fLongest\":18,\"fMargin\":0.05,\"fLines\":{\"_typename\":\"TList\",\"name\":\"TList\",\"arr\":[{\"_typename\":\"TLatex\",\"fUniqueID\":0,\"fBits\":50331648,\"fName\":\"\",\"fTitle\":\"histOfThresholds\",\"fTextAngle\":0,\"fTextSize\":0.0368,\"fTextAlign\":0,\"fTextColor\":0,\"fTextFont\":0,\"fX\":0,\"fY\":0,\"fLineColor\":1,\"fLineStyle\":1,\"fLineWidth\":2,\"fLimitFactorSize\":3,\"fOriginSize\":0.0368000008165836},{\"_typename\":\"TLatex\",\"fUniqueID\":0,\"fBits\":50331648,\"fName\":\"\",\"fTitle\":\"Entries = 20     \",\"fTextAngle\":0,\"fTextSize\":0,\"fTextAlign\":0,\"fTextColor\":0,\"fTextFont\":0,\"fX\":0,\"fY\":0,\"fLineColor\":1,\"fLineStyle\":1,\"fLineWidth\":2,\"fLimitFactorSize\":3,\"fOriginSize\":0.04},{\"_typename\":\"TLatex\",\"fUniqueID\":0,\"fBits\":50331648,\"fName\":\"\",\"fTitle\":\"Mean  =  1.463\",\"fTextAngle\":0,\"fTextSize\":0,\"fTextAlign\":0,\"fTextColor\":0,\"fTextFont\":0,\"fX\":0,\"fY\":0,\"fLineColor\":1,\"fLineStyle\":1,\"fLineWidth\":2,\"fLimitFactorSize\":3,\"fOriginSize\":0.04},{\"_typename\":\"TLatex\",\"fUniqueID\":0,\"fBits\":50331648,\"fName\":\"\",\"fTitle\":\"Std Dev   = 0.8067\",\"fTextAngle\":0,\"fTextSize\":0,\"fTextAlign\":0,\"fTextColor\":0,\"fTextFont\":0,\"fX\":0,\"fY\":0,\"fLineColor\":1,\"fLineStyle\":1,\"fLineWidth\":2,\"fLimitFactorSize\":3,\"fOriginSize\":0.04}],\"opt\":[\"\",\"\",\"\",\"\"]},\"fOptFit\":0,\"fOptStat\":1111,\"fFitFormat\":\"5.4g\",\"fStatFormat\":\"6.4g\",\"fParent\":{\"$ref\":5}}],\"opt\":[\"brNDC\"]},\"fBufferSize\":0,\"fBuffer\":[],\"fBinStatErrOpt\":0,\"fStatOverflows\":2,\"fArray\":[0,1.494498,1.700692,1.415044,1.803713,1.755906,1.897814,2.021362,2.365235,1.797726,2.117972,2.414828,1.954317,2.039216,1.906965,1.415132,1.986995,1.503231,1.559399,1.294575,1.215986,0]}],\"opt\":[\"\",\"\"]},\"fExecs\":{\"_typename\":\"TList\",\"name\":\"TList\",\"arr\":[],\"opt\":[]},\"fName\":\"c1_1\",\"fTitle\":\"c1_1\",\"fNumPaletteColor\":0,\"fNextPaletteColor\":0},{\"_typename\":\"TPad\",\"fUniqueID\":0,\"fBits\":50331657,\"fLineColor\":1,\"fLineStyle\":1,\"fLineWidth\":1,\"fFillColor\":0,\"fFillStyle\":1001,\"fLeftMargin\":0.1,\"fRightMargin\":0.1,\"fBottomMargin\":0.1,\"fTopMargin\":0.1,\"fXfile\":2,\"fYfile\":2,\"fAfile\":1,\"fXstat\":0.99,\"fYstat\":0.99,\"fAstat\":2,\"fFrameFillColor\":0,\"fFrameLineColor\":1,\"fFrameFillStyle\":1001,\"fFrameLineStyle\":1,\"fFrameLineWidth\":1,\"fFrameBorderSize\":1,\"fFrameBorderMode\":0,\"fX1\":-0.375000027939679,\"fY1\":-5.38125040093439,\"fX2\":3.37500002793968,\"fY2\":48.4312504009344,\"fXtoAbsPixelk\":388.368051866818,\"fXtoPixelk\":33.4080520223857,\"fXtoPixel\":89.087998755455,\"fYtoAbsPixelk\":421.024047327328,\"fYtoPixelk\":416.304047432828,\"fYtoPixel\":-8.59577223355761,\"fUtoAbsPixelk\":354.960049844432,\"fUtoPixelk\":5e-5,\"fUtoPixel\":334.080000311136,\"fVtoAbsPixelk\":467.2800501055,\"fVtoPixelk\":462.560000211,\"fVtoPixel\":-462.560000211,\"fAbsPixeltoXk\":-4.35937508185453,\"fPixeltoXk\":-0.375000027939679,\"fPixeltoX\":0.0112248564786485,\"fAbsPixeltoYk\":48.9803575394499,\"fPixeltoYk\":-5.38125040093439,\"fPixeltoY\":-0.116336260760381,\"fXlowNDC\":0.509999999776483,\"fYlowNDC\":0.00999999977648258,\"fXUpNDC\":0,\"fYUpNDC\":0,\"fWNDC\":0.480000000447035,\"fHNDC\":0.980000000447035,\"fAbsXlowNDC\":0.509999999776483,\"fAbsYlowNDC\":0.00999999977648258,\"fAbsWNDC\":0.480000000447035,\"fAbsHNDC\":0.980000000447035,\"fUxmin\":0,\"fUymin\":0,\"fUxmax\":3,\"fUymax\":43.05,\"fTheta\":30,\"fPhi\":30,\"fAspectRatio\":0,\"fNumber\":2,\"fTickx\":0,\"fTicky\":0,\"fLogx\":0,\"fLogy\":0,\"fLogz\":0,\"fPadPaint\":0,\"fCrosshair\":0,\"fCrosshairPos\":0,\"fBorderSize\":2,\"fBorderMode\":0,\"fModified\":false,\"fGridx\":false,\"fGridy\":false,\"fAbsCoord\":false,\"fEditable\":true,\"fFixedAspectRatio\":false,\"fPrimitives\":{\"_typename\":\"TList\",\"name\":\"TList\",\"arr\":[{\"_typename\":\"TFrame\",\"fUniqueID\":0,\"fBits\":50331656,\"fLineColor\":1,\"fLineStyle\":1,\"fLineWidth\":1,\"fFillColor\":0,\"fFillStyle\":1001,\"fX1\":0,\"fY1\":0,\"fX2\":3,\"fY2\":43.05,\"fBorderSize\":1,\"fBorderMode\":0},{\"_typename\":\"TH1F\",\"fUniqueID\":0,\"fBits\":50331656,\"fName\":\"histOfUL\",\"fTitle\":\"\",\"fLineColor\":602,\"fLineStyle\":1,\"fLineWidth\":1,\"fFillColor\":0,\"fFillStyle\":1001,\"fMarkerColor\":1,\"fMarkerStyle\":1,\"fMarkerSize\":1,\"fNcells\":102,\"fXaxis\":{\"_typename\":\"TAxis\",\"fUniqueID\":0,\"fBits\":50331648,\"fName\":\"xaxis\",\"fTitle\":\"Upper Limit (background only)\",\"fNdivisions\":510,\"fAxisColor\":1,\"fLabelColor\":1,\"fLabelFont\":42,\"fLabelOffset\":0.005,\"fLabelSize\":0.035,\"fTickLength\":0.03,\"fTitleOffset\":1,\"fTitleSize\":0.035,\"fTitleColor\":1,\"fTitleFont\":42,\"fNbins\":100,\"fXmin\":0,\"fXmax\":3,\"fXbins\":[],\"fFirst\":0,\"fLast\":0,\"fBits2\":0,\"fTimeDisplay\":false,\"fTimeFormat\":\"\",\"fLabels\":null,\"fModLabs\":null},\"fYaxis\":{\"_typename\":\"TAxis\",\"fUniqueID\":0,\"fBits\":50331648,\"fName\":\"yaxis\",\"fTitle\":\"Entries\",\"fNdivisions\":510,\"fAxisColor\":1,\"fLabelColor\":1,\"fLabelFont\":42,\"fLabelOffset\":0.005,\"fLabelSize\":0.035,\"fTickLength\":0.03,\"fTitleOffset\":0,\"fTitleSize\":0.035,\"fTitleColor\":1,\"fTitleFont\":42,\"fNbins\":1,\"fXmin\":0,\"fXmax\":1,\"fXbins\":[],\"fFirst\":0,\"fLast\":0,\"fBits2\":0,\"fTimeDisplay\":false,\"fTimeFormat\":\"\",\"fLabels\":null,\"fModLabs\":null},\"fZaxis\":{\"_typename\":\"TAxis\",\"fUniqueID\":0,\"fBits\":50331648,\"fName\":\"zaxis\",\"fTitle\":\"\",\"fNdivisions\":510,\"fAxisColor\":1,\"fLabelColor\":1,\"fLabelFont\":42,\"fLabelOffset\":0.005,\"fLabelSize\":0.035,\"fTickLength\":0.03,\"fTitleOffset\":1,\"fTitleSize\":0.035,\"fTitleColor\":1,\"fTitleFont\":42,\"fNbins\":1,\"fXmin\":0,\"fXmax\":1,\"fXbins\":[],\"fFirst\":0,\"fLast\":0,\"fBits2\":0,\"fTimeDisplay\":false,\"fTimeFormat\":\"\",\"fLabels\":null,\"fModLabs\":null},\"fBarOffset\":0,\"fBarWidth\":1000,\"fEntries\":200,\"fTsumw\":200,\"fTsumw2\":200,\"fTsumwx\":219.9,\"fTsumwx2\":295.785,\"fMaximum\":-1111,\"fMinimum\":-1111,\"fNormFactor\":0,\"fContour\":[],\"fSumw2\":[],\"fOption\":\"\",\"fFunctions\":{\"_typename\":\"TList\",\"name\":\"TList\",\"arr\":[{\"_typename\":\"TPaveStats\",\"fUniqueID\":0,\"fBits\":50331657,\"fLineColor\":1,\"fLineStyle\":1,\"fLineWidth\":1,\"fFillColor\":0,\"fFillStyle\":1001,\"fX1\":2.55000007599592,\"fY1\":36.3234380412614,\"fX2\":3.30000009834767,\"fY2\":44.9334379771119,\"fX1NDC\":0.780000016093254,\"fY1NDC\":0.775000005960464,\"fX2NDC\":0.980000019073486,\"fY2NDC\":0.935000002384186,\"fBorderSize\":1,\"fInit\":1,\"fShadowColor\":1,\"fCornerRadius\":0,\"fOption\":\"brNDC\",\"fName\":\"stats\",\"fTextAngle\":0,\"fTextSize\":0,\"fTextAlign\":12,\"fTextColor\":1,\"fTextFont\":42,\"fLabel\":\"\",\"fLongest\":18,\"fMargin\":0.05,\"fLines\":{\"_typename\":\"TList\",\"name\":\"TList\",\"arr\":[{\"_typename\":\"TLatex\",\"fUniqueID\":0,\"fBits\":50331648,\"fName\":\"\",\"fTitle\":\"histOfUL\",\"fTextAngle\":0,\"fTextSize\":0.0368,\"fTextAlign\":0,\"fTextColor\":0,\"fTextFont\":0,\"fX\":0,\"fY\":0,\"fLineColor\":1,\"fLineStyle\":1,\"fLineWidth\":2,\"fLimitFactorSize\":3,\"fOriginSize\":0.0368000008165836},{\"_typename\":\"TLatex\",\"fUniqueID\":0,\"fBits\":50331648,\"fName\":\"\",\"fTitle\":\"Entries = 200    \",\"fTextAngle\":0,\"fTextSize\":0,\"fTextAlign\":0,\"fTextColor\":0,\"fTextFont\":0,\"fX\":0,\"fY\":0,\"fLineColor\":1,\"fLineStyle\":1,\"fLineWidth\":2,\"fLimitFactorSize\":3,\"fOriginSize\":0.04},{\"_typename\":\"TLatex\",\"fUniqueID\":0,\"fBits\":50331648,\"fName\":\"\",\"fTitle\":\"Mean  =  1.099\",\"fTextAngle\":0,\"fTextSize\":0,\"fTextAlign\":0,\"fTextColor\":0,\"fTextFont\":0,\"fX\":0,\"fY\":0,\"fLineColor\":1,\"fLineStyle\":1,\"fLineWidth\":2,\"fLimitFactorSize\":3,\"fOriginSize\":0.04},{\"_typename\":\"TLatex\",\"fUniqueID\":0,\"fBits\":50331648,\"fName\":\"\",\"fTitle\":\"Std Dev   = 0.5196\",\"fTextAngle\":0,\"fTextSize\":0,\"fTextAlign\":0,\"fTextColor\":0,\"fTextFont\":0,\"fX\":0,\"fY\":0,\"fLineColor\":1,\"fLineStyle\":1,\"fLineWidth\":2,\"fLimitFactorSize\":3,\"fOriginSize\":0.04}],\"opt\":[\"\",\"\",\"\",\"\"]},\"fOptFit\":0,\"fOptStat\":1111,\"fFitFormat\":\"5.4g\",\"fStatFormat\":\"6.4g\",\"fParent\":{\"$ref\":20}}],\"opt\":[\"brNDC\"]},\"fBufferSize\":0,\"fBuffer\":[],\"fBinStatErrOpt\":0,\"fStatOverflows\":2,\"fArray\":[0,8,0,0,0,0,0,0,7,0,0,0,0,5,0,0,0,0,22,0,0,0,0,13,0,0,0,0,18,0,0,0,0,7,0,0,0,0,41,0,0,0,0,8,0,0,0,0,10,0,0,0,0,35,0,0,0,0,9,0,0,0,0,8,0,0,0,0,9,0,0,0,0,0,0,0,0,0,0,0,0,0,0,0,0,0,0,0,0,0,0,0,0,0,0,0,0,0,0,0,0,0]}],\"opt\":[\"\",\"\"]},\"fExecs\":{\"_typename\":\"TList\",\"name\":\"TList\",\"arr\":[],\"opt\":[]},\"fName\":\"c1_2\",\"fTitle\":\"c1_2\",\"fNumPaletteColor\":0,\"fNextPaletteColor\":0}],\"opt\":[\"\",\"\"]},\"fExecs\":null,\"fName\":\"c1\",\"fTitle\":\"c1\",\"fNumPaletteColor\":0,\"fNextPaletteColor\":0,\"fDISPLAY\":\"$DISPLAY\",\"fDoubleBuffer\":0,\"fRetained\":true,\"fXsizeUser\":0,\"fYsizeUser\":0,\"fXsizeReal\":20,\"fYsizeReal\":14.28571,\"fWindowTopX\":0,\"fWindowTopY\":0,\"fWindowWidth\":0,\"fWindowHeight\":0,\"fCw\":696,\"fCh\":472,\"fCatt\":{\"_typename\":\"TAttCanvas\",\"fXBetween\":2,\"fYBetween\":2,\"fTitleFromTop\":1.2,\"fXdate\":0.2,\"fYdate\":0.3,\"fAdate\":1},\"kMoveOpaque\":true,\"kResizeOpaque\":true,\"fHighLightColor\":2,\"fBatch\":true,\"kShowEventStatus\":false,\"kAutoExec\":true,\"kMenuBar\":true});\n",
       "       Core.draw(\"root_plot_1\", obj, \"\");\n",
       "     }\n",
       " );\n",
       "</script>\n"
      ],
      "text/plain": [
       "<IPython.core.display.HTML object>"
      ]
     },
     "metadata": {},
     "output_type": "display_data"
    }
   ],
   "source": [
    "%jsroot on\n",
    "gROOT->GetListOfCanvases()->Draw()"
   ]
  }
 ],
 "metadata": {
  "kernelspec": {
   "display_name": "ROOT C++",
   "language": "c++",
   "name": "root"
  },
  "language_info": {
   "codemirror_mode": "text/x-c++src",
   "file_extension": ".C",
   "mimetype": " text/x-c++src",
   "name": "c++"
  }
 },
 "nbformat": 4,
 "nbformat_minor": 2
}
