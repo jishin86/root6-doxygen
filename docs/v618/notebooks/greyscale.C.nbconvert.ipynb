{
 "cells": [
  {
   "cell_type": "markdown",
   "metadata": {},
   "source": [
    "# Greyscale\n",
    "Create grey scale of `200 x 200` boxes.\n",
    "\n",
    "\n",
    "\n",
    "\n",
    "**Author:** Olivier Couet  \n",
    "<i><small>This notebook tutorial was automatically generated with <a href= \"https://github.com/root-project/root/blob/master/documentation/doxygen/converttonotebook.py\">ROOTBOOK-izer</a> from the macro found in the ROOT repository  on Thursday, August 29, 2019 at 01:41 AM.</small></i>"
   ]
  },
  {
   "cell_type": "code",
   "execution_count": 1,
   "metadata": {
    "collapsed": false
   },
   "outputs": [],
   "source": [
    "TCanvas *c = new TCanvas(\"grey\", \"Grey Scale\", 500, 500);\n",
    "c->SetBorderMode(0);\n",
    "\n",
    "Int_t   n = 200;   // tunable parameter\n",
    "Float_t n1 = 1./n;\n",
    "for (int i = 0; i < n; i++) {\n",
    "   for (int j = 0; j < n; j++) {\n",
    "      TBox *b = new TBox(n1*j, n1*(n-1-i), n1*(j+1), n1*(n-i));\n",
    "      Float_t grey = Float_t(i*n+j)/(n*n);\n",
    "      b->SetFillColor(TColor::GetColor(grey, grey, grey));\n",
    "      b->Draw();\n",
    "   }\n",
    "}\n",
    "TPad *p = new TPad(\"p\",\"p\",0.3, 0.3, 0.7,0.7);\n",
    "const char *guibackground = gEnv->GetValue(\"Gui.BackgroundColor\", \"\");\n",
    "p->SetFillColor(TColor::GetColor(guibackground));\n",
    "p->Draw();\n",
    "p->cd();\n",
    "TText *t = new TText(0.5, 0.5, \"GUI Background Color\");\n",
    "t->SetTextAlign(22);\n",
    "t->SetTextSize(.09);\n",
    "t->Draw();\n",
    "\n",
    "c->SetEditable(kFALSE);"
   ]
  },
  {
   "cell_type": "markdown",
   "metadata": {},
   "source": [
    "Draw all canvases "
   ]
  },
  {
   "cell_type": "code",
   "execution_count": 2,
   "metadata": {
    "collapsed": false
   },
   "outputs": [
    {
     "data": {
      "image/png": "[encoded data removed]",
      "text/plain": [
       "<IPython.core.display.Image object>"
      ]
     },
     "metadata": {},
     "output_type": "display_data"
    }
   ],
   "source": [
    "gROOT->GetListOfCanvases()->Draw()"
   ]
  }
 ],
 "metadata": {
  "kernelspec": {
   "display_name": "ROOT C++",
   "language": "c++",
   "name": "root"
  },
  "language_info": {
   "codemirror_mode": "text/x-c++src",
   "file_extension": ".C",
   "mimetype": " text/x-c++src",
   "name": "c++"
  }
 },
 "nbformat": 4,
 "nbformat_minor": 2
}
