{
 "cells": [
  {
   "cell_type": "markdown",
   "metadata": {},
   "source": [
    "# Vo 0 0 1_ Adopt Or Own Memory\n",
    "In this tutorial we learn how the RVec class can be used to\n",
    "adopt existing memory or allocate some.\n",
    "\n",
    "\n",
    "\n",
    "\n",
    "**Author:** Danilo Piparo  \n",
    "<i><small>This notebook tutorial was automatically generated with <a href= \"https://github.com/root-project/root/blob/master/documentation/doxygen/converttonotebook.py\">ROOTBOOK-izer</a> from the macro found in the ROOT repository  on Thursday, August 29, 2019 at 04:06 AM.</small></i>"
   ]
  },
  {
   "cell_type": "markdown",
   "metadata": {},
   "source": [
    "We use this class for didactic purposes: upon copy, a line is printed to the terminal."
   ]
  },
  {
   "cell_type": "code",
   "execution_count": 1,
   "metadata": {
    "collapsed": false
   },
   "outputs": [],
   "source": [
    "class UponCopyPrinter {\n",
    "public:\n",
    "   UponCopyPrinter() = default;\n",
    "   UponCopyPrinter(UponCopyPrinter &&) = default;\n",
    "   UponCopyPrinter(const UponCopyPrinter &) { std::cout << \"Invoking copy c'tor!\" << std::endl; }\n",
    "};\n",
    "\n",
    "using namespace ROOT::VecOps;"
   ]
  },
  {
   "cell_type": "markdown",
   "metadata": {},
   "source": [
    "One of the essential features of rvec is its ability of adopting and owning memory.\n",
    " Internally this is handled by the ROOT::Detail::VecOps::RAdoptAllocator class."
   ]
  },
  {
   "cell_type": "markdown",
   "metadata": {},
   "source": [
    "Let's create an rvec of uponcopyprinter instances. we expect no printout:"
   ]
  },
  {
   "cell_type": "code",
   "execution_count": 2,
   "metadata": {
    "collapsed": false
   },
   "outputs": [
    {
     "name": "stderr",
     "output_type": "stream",
     "text": [
      "input_line_31:2:2: error: 'RVec' does not name a template but is followed by template arguments\n",
      " RVec<UponCopyPrinter> v(3);\n",
      " ^   ~~~~~~~~~~~~~~~~~\n",
      "input_line_31:2:2: note: non-template declaration found by name lookup\n"
     ]
    }
   ],
   "source": [
    "RVec<UponCopyPrinter> v(3);"
   ]
  },
  {
   "cell_type": "markdown",
   "metadata": {},
   "source": [
    "Let's adopt the memory from v into v2. we expect no printout:"
   ]
  },
  {
   "cell_type": "code",
   "execution_count": 3,
   "metadata": {
    "collapsed": false
   },
   "outputs": [
    {
     "name": "stderr",
     "output_type": "stream",
     "text": [
      "input_line_32:2:2: error: 'RVec' does not name a template but is followed by template arguments\n",
      " RVec<UponCopyPrinter> v2(v.data(), v.size());\n",
      " ^   ~~~~~~~~~~~~~~~~~\n",
      "input_line_32:2:2: note: non-template declaration found by name lookup\n"
     ]
    }
   ],
   "source": [
    "RVec<UponCopyPrinter> v2(v.data(), v.size());"
   ]
  },
  {
   "cell_type": "markdown",
   "metadata": {},
   "source": [
    "Ok, let's check the addresses of the memory associated to the two rvecs it is the same!"
   ]
  },
  {
   "cell_type": "code",
   "execution_count": 4,
   "metadata": {
    "collapsed": false
   },
   "outputs": [
    {
     "name": "stderr",
     "output_type": "stream",
     "text": [
      "input_line_34:2:8: error: expected unqualified-id\n",
      " (std::((*(std::ostream*)0x7f4b8c240ee0)) << v.data() << \" and \" << v2.data() << std::endl)\n",
      "       ^\n",
      "input_line_34:2:46: error: use of undeclared identifier 'v'\n",
      " (std::((*(std::ostream*)0x7f4b8c240ee0)) << v.data() << \" and \" << v2.data() << std::endl)\n",
      "                                             ^\n",
      "input_line_34:2:69: error: use of undeclared identifier 'v2'\n",
      " (std::((*(std::ostream*)0x7f4b8c240ee0)) << v.data() << \" and \" << v2.data() << std::endl)\n",
      "                                                                    ^\n",
      "Error in <HandleInterpreterException>: Error evaluating expression (std::((*(std::ostream*)0x7f4b8c240ee0)) << v.data() << \" and \" << v2.data() << std::endl).\n",
      "Execution of your code was aborted.\n"
     ]
    }
   ],
   "source": [
    "std::cout << v.data() << \" and \" << v2.data() << std::endl;"
   ]
  },
  {
   "cell_type": "markdown",
   "metadata": {},
   "source": [
    "Now, upon reallocation, the rvec stops adopting the memory and starts owning it. and yes,\n",
    " a copy is triggered. Indeed internally the storage of the RVec is an std::vector. Moreover,\n",
    " the interface of the TVec is very, very similar to the one of std::vector: you have already\n",
    " noticed it when the `data()` method was invoked, right?"
   ]
  },
  {
   "cell_type": "code",
   "execution_count": 5,
   "metadata": {
    "collapsed": false
   },
   "outputs": [
    {
     "name": "stderr",
     "output_type": "stream",
     "text": [
      "input_line_36:2:3: error: use of undeclared identifier 'v2'\n",
      " (v2.push_back(UponCopyPrinter()))\n",
      "  ^\n",
      "Error in <HandleInterpreterException>: Error evaluating expression (v2.push_back(UponCopyPrinter())).\n",
      "Execution of your code was aborted.\n"
     ]
    }
   ],
   "source": [
    "v2.push_back(UponCopyPrinter());"
   ]
  },
  {
   "cell_type": "markdown",
   "metadata": {},
   "source": [
    "Of course, now the addresses are different."
   ]
  },
  {
   "cell_type": "code",
   "execution_count": 6,
   "metadata": {
    "collapsed": false
   },
   "outputs": [
    {
     "name": "stderr",
     "output_type": "stream",
     "text": [
      "input_line_38:2:8: error: expected unqualified-id\n",
      " (std::((*(std::ostream*)0x7f4b8c240ee0)) << v.data() << \" and \" << v2.data() << std::endl)\n",
      "       ^\n",
      "input_line_38:2:46: error: use of undeclared identifier 'v'\n",
      " (std::((*(std::ostream*)0x7f4b8c240ee0)) << v.data() << \" and \" << v2.data() << std::endl)\n",
      "                                             ^\n",
      "input_line_38:2:69: error: use of undeclared identifier 'v2'\n",
      " (std::((*(std::ostream*)0x7f4b8c240ee0)) << v.data() << \" and \" << v2.data() << std::endl)\n",
      "                                                                    ^\n",
      "Error in <HandleInterpreterException>: Error evaluating expression (std::((*(std::ostream*)0x7f4b8c240ee0)) << v.data() << \" and \" << v2.data() << std::endl).\n",
      "Execution of your code was aborted.\n"
     ]
    }
   ],
   "source": [
    "std::cout << v.data() << \" and \" << v2.data() << std::endl;"
   ]
  }
 ],
 "metadata": {
  "kernelspec": {
   "display_name": "ROOT C++",
   "language": "c++",
   "name": "root"
  },
  "language_info": {
   "codemirror_mode": "text/x-c++src",
   "file_extension": ".C",
   "mimetype": " text/x-c++src",
   "name": "c++"
  }
 },
 "nbformat": 4,
 "nbformat_minor": 2
}
