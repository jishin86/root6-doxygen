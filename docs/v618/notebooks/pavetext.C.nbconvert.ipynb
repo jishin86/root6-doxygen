{
 "cells": [
  {
   "cell_type": "markdown",
   "metadata": {},
   "source": [
    "# Pavetext\n",
    "Draw a pave text.\n",
    "The text lines are added in order using the AddText method\n",
    "Line separator can be added using AddLine.\n",
    "\n",
    "AddText returns a TText corresponding to the line added to the pave. This\n",
    "return value can be used to modify the text attributes.\n",
    "\n",
    "Once the TPaveText is build the text of each line can be retrieved as a\n",
    "TText with GetLine and GetLineWith wich is also useful to modify the text\n",
    "attributes of a line.\n",
    "\n",
    "\n",
    "\n",
    "\n",
    "**Author:** Olivier Couet  \n",
    "<i><small>This notebook tutorial was automatically generated with <a href= \"https://github.com/root-project/root/blob/master/documentation/doxygen/converttonotebook.py\">ROOTBOOK-izer</a> from the macro found in the ROOT repository  on Thursday, August 29, 2019 at 01:43 AM.</small></i>"
   ]
  },
  {
   "cell_type": "code",
   "execution_count": 1,
   "metadata": {
    "collapsed": false
   },
   "outputs": [],
   "source": [
    "TCanvas *c = new TCanvas(\"c\");\n",
    "TPaveText *pt = new TPaveText(.05,.1,.95,.8);\n",
    "\n",
    "pt->AddText(\"A TPaveText can contain severals line of text.\");\n",
    "pt->AddText(\"They are added to the pave using the AddText method.\");\n",
    "pt->AddLine(.0,.5,1.,.5);\n",
    "pt->AddText(\"Even complex TLatex formulas can be added:\");\n",
    "TText *t1 = pt->AddText(\"F(t) = #sum_{i=-#infty}^{#infty}A(i)cos#[]{#frac{i}{t+i}}\");\n",
    "\n",
    "t1->SetTextColor(kBlue);\n",
    "\n",
    "pt->Draw();\n",
    "\n",
    "TText *t2 = pt->GetLineWith(\"Even\");\n",
    "t2->SetTextColor(kOrange+1);\n",
    "\n",
    "return c;"
   ]
  },
  {
   "cell_type": "markdown",
   "metadata": {},
   "source": [
    "Draw all canvases "
   ]
  },
  {
   "cell_type": "code",
   "execution_count": 2,
   "metadata": {
    "collapsed": false
   },
   "outputs": [
    {
     "data": {
      "image/png": "[encoded data removed]",
      "text/plain": [
       "<IPython.core.display.Image object>"
      ]
     },
     "metadata": {},
     "output_type": "display_data"
    }
   ],
   "source": [
    "gROOT->GetListOfCanvases()->Draw()"
   ]
  }
 ],
 "metadata": {
  "kernelspec": {
   "display_name": "ROOT C++",
   "language": "c++",
   "name": "root"
  },
  "language_info": {
   "codemirror_mode": "text/x-c++src",
   "file_extension": ".C",
   "mimetype": " text/x-c++src",
   "name": "c++"
  }
 },
 "nbformat": 4,
 "nbformat_minor": 2
}
