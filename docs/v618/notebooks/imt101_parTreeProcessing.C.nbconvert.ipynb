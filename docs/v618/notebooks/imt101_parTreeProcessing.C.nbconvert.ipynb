{
 "cells": [
  {
   "cell_type": "markdown",
   "metadata": {},
   "source": [
    "# Imt 1 0 1_Par Tree Processing\n",
    "Illustrate the usage of the TTreeProcessorMT::Process method.\n",
    "Such method provides an implicit parallelisation of the reading and processing of a TTree.\n",
    "In particular, when invoking Process, the user provides a function that iterates on a subrange\n",
    "of the tree via a TTreeReader. Multiple tasks will be spawned, one for each sub-range, so that\n",
    "the processing of the tree is parallelised. Since two invocations of the user function can\n",
    "potentially run in parallel, the function code must be thread safe.\n",
    "The example also introduces a new class, ROOT::TThreadedObject, which makes objects\n",
    "thread private. With the help of this class, histograms can be filled safely inside the\n",
    "user function and then merged at the end to get the final result.\n",
    "\n",
    "\n",
    "\n",
    "\n",
    "**Author:** Enric Tejedor  \n",
    "<i><small>This notebook tutorial was automatically generated with <a href= \"https://github.com/root-project/root/blob/master/documentation/doxygen/converttonotebook.py\">ROOTBOOK-izer</a> from the macro found in the ROOT repository  on Thursday, August 29, 2019 at 02:15 AM.</small></i>"
   ]
  },
  {
   "cell_type": "markdown",
   "metadata": {},
   "source": [
    "First enable implicit multi-threading globally, so that the implicit parallelisation is on.\n",
    " The parameter of the call specifies the number of threads to use."
   ]
  },
  {
   "cell_type": "code",
   "execution_count": 1,
   "metadata": {
    "collapsed": false
   },
   "outputs": [],
   "source": [
    "int nthreads = 4;\n",
    "ROOT::EnableImplicitMT(nthreads);"
   ]
  },
  {
   "cell_type": "markdown",
   "metadata": {},
   "source": [
    "Create one tthreadedobject per histogram to fill during the processing of the tree"
   ]
  },
  {
   "cell_type": "code",
   "execution_count": 2,
   "metadata": {
    "collapsed": false
   },
   "outputs": [],
   "source": [
    "ROOT::TThreadedObject<TH1F> ptHist(\"pt_dist\", \"p_{T} Distribution;p_{T};dN/p_{T}dp_{T}\", 100, 0, 5);\n",
    "ROOT::TThreadedObject<TH1F> pzHist(\"pz_dist\", \"p_{Z} Distribution;p_{Z};dN/dp_{Z}\", 100, 0, 5);\n",
    "ROOT::TThreadedObject<TH2F> pxpyHist(\"px_py\", \"p_{X} vs p_{Y} Distribution;p_{X};p_{Y}\", 100, -5., 5., 100, -5., 5.);"
   ]
  },
  {
   "cell_type": "markdown",
   "metadata": {},
   "source": [
    "Create a ttreeprocessormt: specify the file and the tree in it"
   ]
  },
  {
   "cell_type": "code",
   "execution_count": 3,
   "metadata": {
    "collapsed": false
   },
   "outputs": [],
   "source": [
    "ROOT::TTreeProcessorMT tp(\"http://root.cern.ch/files/tp_process_imt.root\", \"events\");"
   ]
  },
  {
   "cell_type": "markdown",
   "metadata": {},
   "source": [
    "Define the function that will process a subrange of the tree.\n",
    " The function must receive only one parameter, a TTreeReader,\n",
    " and it must be thread safe. To enforce the latter requirement,\n",
    " TThreadedObject histograms will be used."
   ]
  },
  {
   "cell_type": "code",
   "execution_count": 4,
   "metadata": {
    "collapsed": false
   },
   "outputs": [],
   "source": [
    "auto myFunction = [&](TTreeReader &myReader) {\n",
    "   TTreeReaderValue<std::vector<ROOT::Math::PxPyPzEVector>> tracksRV(myReader, \"tracks\");\n",
    "\n",
    "   // For performance reasons, a copy of the pointer associated to this thread on the\n",
    "   // stack is used\n",
    "   auto myPtHist = ptHist.Get();\n",
    "   auto myPzHist = pzHist.Get();\n",
    "   auto myPxPyHist = pxpyHist.Get();\n",
    "\n",
    "   while (myReader.Next()) {\n",
    "      auto tracks = *tracksRV;\n",
    "      for (auto &&track : tracks) {\n",
    "         myPtHist->Fill(track.Pt(), 1. / track.Pt());\n",
    "         myPxPyHist->Fill(track.Px(), track.Py());\n",
    "\n",
    "         myPzHist->Fill(track.Pz());\n",
    "      }\n",
    "   }\n",
    "};"
   ]
  },
  {
   "cell_type": "markdown",
   "metadata": {},
   "source": [
    "Launch the parallel processing of the tree"
   ]
  },
  {
   "cell_type": "code",
   "execution_count": 5,
   "metadata": {
    "collapsed": false
   },
   "outputs": [],
   "source": [
    "tp.Process(myFunction);"
   ]
  },
  {
   "cell_type": "markdown",
   "metadata": {},
   "source": [
    "Use the tthreadedobject::merge method to merge the thread private histograms\n",
    " into the final result"
   ]
  },
  {
   "cell_type": "code",
   "execution_count": 6,
   "metadata": {
    "collapsed": false
   },
   "outputs": [],
   "source": [
    "auto ptHistMerged = ptHist.Merge();\n",
    "auto pzHistMerged = pzHist.Merge();\n",
    "auto pxpyHistMerged = pxpyHist.Merge();\n",
    "\n",
    "return 0;"
   ]
  },
  {
   "cell_type": "markdown",
   "metadata": {},
   "source": [
    "Draw all canvases "
   ]
  },
  {
   "cell_type": "code",
   "execution_count": 7,
   "metadata": {
    "collapsed": false
   },
   "outputs": [],
   "source": [
    "gROOT->GetListOfCanvases()->Draw()"
   ]
  }
 ],
 "metadata": {
  "kernelspec": {
   "display_name": "ROOT C++",
   "language": "c++",
   "name": "root"
  },
  "language_info": {
   "codemirror_mode": "text/x-c++src",
   "file_extension": ".C",
   "mimetype": " text/x-c++src",
   "name": "c++"
  }
 },
 "nbformat": 4,
 "nbformat_minor": 2
}
