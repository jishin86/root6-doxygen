{
 "cells": [
  {
   "cell_type": "markdown",
   "metadata": {},
   "source": [
    "# Print Sizes\n",
    "This macro can be used to get aggregate information on the size\n",
    "take on disk or in memory by the various branches in a TTree.\n",
    "\n",
    "For example:\n",
    "```cpp\n",
    "root [] printTreeSummary(tree);\n",
    "The TTree \"T\" takes 3764343 bytes on disk\n",
    "  Its branch \"event\" takes 3760313 bytes on disk\n",
    "```\n",
    "```cpp\n",
    "root [] printBranchSummary(tree->GetBranch(\"event\"));\n",
    "The branch \"event\" takes 3760313 bytes on disk\n",
    "  Its sub-branch \"TObject\" takes 581 bytes on disk\n",
    "  Its sub-branch \"fType[20]\" takes 640 bytes on disk\n",
    "  Its sub-branch \"fEventName\" takes 855 bytes on disk\n",
    "  Its sub-branch \"fNtrack\" takes 506 bytes on disk\n",
    "  Its sub-branch \"fNseg\" takes 554 bytes on disk\n",
    "  Its sub-branch \"fNvertex\" takes 507 bytes on disk\n",
    "  Its sub-branch \"fFlag\" takes 420 bytes on disk\n",
    "  Its sub-branch \"fTemperature\" takes 738 bytes on disk\n",
    "  Its sub-branch \"fMeasures[10]\" takes 1856 bytes on disk\n",
    "  Its sub-branch \"fMatrix[4][4]\" takes 4563 bytes on disk\n",
    "  Its sub-branch \"fClosestDistance\" takes 2881 bytes on disk\n",
    "  Its sub-branch \"fEvtHdr\" takes 847 bytes on disk\n",
    "  Its sub-branch \"fTracks\" takes 3673982 bytes on disk\n",
    "  Its sub-branch \"fHighPt\" takes 59640 bytes on disk\n",
    "  Its sub-branch \"fMuons\" takes 1656 bytes on disk\n",
    "  Its sub-branch \"fLastTrack\" takes 785 bytes on disk\n",
    "  Its sub-branch \"fWebHistogram\" takes 596 bytes on disk\n",
    "  Its sub-branch \"fH\" takes 10076 bytes on disk\n",
    "  Its sub-branch \"fTriggerBits\" takes 1699 bytes on disk\n",
    "  Its sub-branch \"fIsValid\" takes 366 bytes on disk\n",
    "```\n",
    "\n",
    "\n",
    "\n",
    "\n",
    "**Author:**   \n",
    "<i><small>This notebook tutorial was automatically generated with <a href= \"https://github.com/root-project/root/blob/master/documentation/doxygen/converttonotebook.py\">ROOTBOOK-izer</a> from the macro found in the ROOT repository  on Thursday, August 29, 2019 at 03:56 AM.</small></i>"
   ]
  },
  {
   "cell_type": "code",
   "execution_count": 1,
   "metadata": {
    "collapsed": false
   },
   "outputs": [],
   "source": [
    "%%cpp -d\n",
    "#include \"TTree.h\"\n",
    "#include \"TBranch.h\"\n",
    "#include \"Riostream.h\"\n",
    "#include \"TMemFile.h\"\n",
    "#include \"TKey.h\"\n",
    "#include \"TBranchRef.h\"\n",
    "\n",
    "Long64_t GetTotalSize(TBranch * b, bool ondisk, bool inclusive);\n",
    "Long64_t GetBasketSize(TBranch * b, bool ondisk, bool inclusive);"
   ]
  },
  {
   "cell_type": "markdown",
   "metadata": {},
   "source": [
    " A helper function is created: "
   ]
  },
  {
   "cell_type": "code",
   "execution_count": 2,
   "metadata": {
    "collapsed": false
   },
   "outputs": [],
   "source": [
    "%%cpp -d\n",
    "Long64_t GetBasketSize(TObjArray * branches, bool ondisk, bool inclusive) {\n",
    "   Long64_t result = 0;\n",
    "   size_t n = branches->GetEntries();\n",
    "   for( size_t i = 0; i < n; ++ i ) {\n",
    "      result += GetBasketSize( dynamic_cast<TBranch*>( branches->At( i ) ), ondisk, inclusive );\n",
    "   }\n",
    "   return result;\n",
    "}"
   ]
  },
  {
   "cell_type": "markdown",
   "metadata": {},
   "source": [
    " A helper function is created: "
   ]
  },
  {
   "cell_type": "code",
   "execution_count": 3,
   "metadata": {
    "collapsed": false
   },
   "outputs": [],
   "source": [
    "%%cpp -d\n",
    "Long64_t GetBasketSize(TBranch * b, bool ondisk, bool inclusive) {\n",
    "   Long64_t result = 0;\n",
    "   if (b) {\n",
    "      if (ondisk && b->GetZipBytes() > 0) {\n",
    "         result = b->GetZipBytes();\n",
    "      } else {\n",
    "         result = b->GetTotBytes();\n",
    "      }\n",
    "      if (inclusive) {\n",
    "         result += GetBasketSize(b->GetListOfBranches(), ondisk, true);\n",
    "      }\n",
    "      return result;\n",
    "   }\n",
    "   return result;\n",
    "}"
   ]
  },
  {
   "cell_type": "markdown",
   "metadata": {},
   "source": [
    " A helper function is created: "
   ]
  },
  {
   "cell_type": "code",
   "execution_count": 4,
   "metadata": {
    "collapsed": false
   },
   "outputs": [],
   "source": [
    "%%cpp -d\n",
    "Long64_t GetTotalSize( TBranch * br, bool ondisk, bool inclusive ) {\n",
    "   TMemFile f(\"buffer\",\"CREATE\");\n",
    "   if (br->GetTree()->GetCurrentFile()) {\n",
    "      f.SetCompressionSettings(br->GetTree()->GetCurrentFile()->GetCompressionSettings());\n",
    "   }\n",
    "   f.WriteObject(br,\"thisbranch\");\n",
    "   TKey* key = f.GetKey(\"thisbranch\");\n",
    "   Long64_t size;\n",
    "   if (ondisk)\n",
    "      size = key->GetNbytes();\n",
    "   else\n",
    "      size = key->GetObjlen();\n",
    "   return GetBasketSize(br, ondisk, inclusive) + size;\n",
    "}"
   ]
  },
  {
   "cell_type": "markdown",
   "metadata": {},
   "source": [
    " A helper function is created: "
   ]
  },
  {
   "cell_type": "code",
   "execution_count": 5,
   "metadata": {
    "collapsed": false
   },
   "outputs": [],
   "source": [
    "%%cpp -d\n",
    "Long64_t GetTotalSize( TObjArray * branches, bool ondisk ) {\n",
    "   Long64_t result = 0;\n",
    "   size_t n = branches->GetEntries();\n",
    "   for( size_t i = 0; i < n; ++ i ) {\n",
    "      result += GetTotalSize( dynamic_cast<TBranch*>( branches->At( i ) ), ondisk, true );\n",
    "      cerr << \"After \" << branches->At( i )->GetName() << \" \" << result << endl;\n",
    "   }\n",
    "   return result;\n",
    "}"
   ]
  },
  {
   "cell_type": "markdown",
   "metadata": {},
   "source": [
    " A helper function is created: "
   ]
  },
  {
   "cell_type": "code",
   "execution_count": 6,
   "metadata": {
    "collapsed": false
   },
   "outputs": [],
   "source": [
    "%%cpp -d\n",
    "Long64_t GetTotalSize(TTree *t, bool ondisk) {\n",
    "   TKey *key = 0;\n",
    "   if (t->GetDirectory()) {\n",
    "      key = t->GetDirectory()->GetKey(t->GetName());\n",
    "   }\n",
    "   Long64_t ondiskSize = 0;\n",
    "   Long64_t totalSize = 0;\n",
    "   if (key) {\n",
    "      ondiskSize = key->GetNbytes();\n",
    "      totalSize = key->GetObjlen();\n",
    "   } else {\n",
    "      TMemFile f(\"buffer\",\"CREATE\");\n",
    "      if (t->GetCurrentFile()) {\n",
    "         f.SetCompressionSettings(t->GetCurrentFile()->GetCompressionSettings());\n",
    "      }\n",
    "      f.WriteTObject(t);\n",
    "      key = f.GetKey(t->GetName());\n",
    "      ondiskSize = key->GetNbytes();\n",
    "      totalSize = key->GetObjlen();\n",
    "   }\n",
    "   if (t->GetBranchRef() ) {\n",
    "      if (ondisk) {\n",
    "         ondiskSize += GetBasketSize(t->GetBranchRef(), true, true);\n",
    "      } else {\n",
    "         totalSize += GetBasketSize(t->GetBranchRef(), false, true);\n",
    "      }\n",
    "   }\n",
    "   if (ondisk) {\n",
    "      return ondiskSize + GetBasketSize(t->GetListOfBranches(), /* ondisk */ true, /* inclusive */ true);\n",
    "   } else {\n",
    "      return totalSize + GetBasketSize(t->GetListOfBranches(), /* ondisk */ false, /* inclusive */ true);\n",
    "   }\n",
    "}"
   ]
  },
  {
   "cell_type": "markdown",
   "metadata": {},
   "source": [
    " A helper function is created: "
   ]
  },
  {
   "cell_type": "code",
   "execution_count": 7,
   "metadata": {
    "collapsed": false
   },
   "outputs": [],
   "source": [
    "%%cpp -d\n",
    "Long64_t sizeOnDisk(TTree *t) {\n",
    "   // Return the size on disk on this TTree.\n",
    "\n",
    "   return GetTotalSize(t, true);\n",
    "}"
   ]
  },
  {
   "cell_type": "markdown",
   "metadata": {},
   "source": [
    " A helper function is created: "
   ]
  },
  {
   "cell_type": "code",
   "execution_count": 8,
   "metadata": {
    "collapsed": false
   },
   "outputs": [],
   "source": [
    "%%cpp -d\n",
    "Long64_t sizeOnDisk(TBranch *branch, bool inclusive)\n",
    "{\n",
    "   // Return the size on disk on this branch.\n",
    "   // If 'inclusive' is true, include also the size\n",
    "   // of all its sub-branches.\n",
    "\n",
    "   return GetTotalSize(branch, true, inclusive);\n",
    "}"
   ]
  },
  {
   "cell_type": "markdown",
   "metadata": {},
   "source": [
    " A helper function is created: "
   ]
  },
  {
   "cell_type": "code",
   "execution_count": 9,
   "metadata": {
    "collapsed": false
   },
   "outputs": [],
   "source": [
    "%%cpp -d\n",
    "void printBranchSummary(TBranch *br)\n",
    "{\n",
    "   cout << \"The branch \\\"\" << br->GetName() << \"\\\" takes \" << sizeOnDisk(br,true) << \" bytes on disk\\n\";\n",
    "   size_t n = br->GetListOfBranches()->GetEntries();\n",
    "   for( size_t i = 0; i < n; ++ i ) {\n",
    "      TBranch *subbr = dynamic_cast<TBranch*>(br->GetListOfBranches()->At(i));\n",
    "      cout << \"  Its sub-branch \\\"\" << subbr->GetName() << \"\\\" takes \" << sizeOnDisk(subbr,true) << \" bytes on disk\\n\";\n",
    "   }\n",
    "}"
   ]
  },
  {
   "cell_type": "markdown",
   "metadata": {},
   "source": [
    " A helper function is created: "
   ]
  },
  {
   "cell_type": "code",
   "execution_count": 10,
   "metadata": {
    "collapsed": false
   },
   "outputs": [],
   "source": [
    "%%cpp -d\n",
    "void printTreeSummary(TTree *t)\n",
    "{\n",
    "   cout << \"The TTree \\\"\" << t->GetName() << \"\\\" takes \" << sizeOnDisk(t) << \" bytes on disk\\n\";\n",
    "   size_t n = t->GetListOfBranches()->GetEntries();\n",
    "   for( size_t i = 0; i < n; ++ i ) {\n",
    "      TBranch *br =dynamic_cast<TBranch*>(t->GetListOfBranches()->At(i));\n",
    "      cout << \"  Its branch \\\"\" << br->GetName() << \"\\\" takes \" << sizeOnDisk(br,true) << \" bytes on disk\\n\";\n",
    "   }\n",
    "}"
   ]
  }
 ],
 "metadata": {
  "kernelspec": {
   "display_name": "ROOT C++",
   "language": "c++",
   "name": "root"
  },
  "language_info": {
   "codemirror_mode": "text/x-c++src",
   "file_extension": ".C",
   "mimetype": " text/x-c++src",
   "name": "c++"
  }
 },
 "nbformat": 4,
 "nbformat_minor": 2
}
