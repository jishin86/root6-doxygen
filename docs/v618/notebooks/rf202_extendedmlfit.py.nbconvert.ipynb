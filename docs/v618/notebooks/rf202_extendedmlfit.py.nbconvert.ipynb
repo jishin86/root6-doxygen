{
 "cells": [
  {
   "cell_type": "markdown",
   "metadata": {},
   "source": [
    "# Rf 2 0 2_Extendedmlfit\n",
    "Addition and convolution: setting up an extended maximum likelihood fit\n",
    "\n",
    "\n",
    "\n",
    "\n",
    "**Author:** Clemens Lange, Wouter Verkerke (C++ version)  \n",
    "<i><small>This notebook tutorial was automatically generated with <a href= \"https://github.com/root-project/root/blob/master/documentation/doxygen/converttonotebook.py\">ROOTBOOK-izer</a> from the macro found in the ROOT repository  on Thursday, August 29, 2019 at 02:43 AM.</small></i>"
   ]
  },
  {
   "cell_type": "code",
   "execution_count": 1,
   "metadata": {
    "collapsed": false
   },
   "outputs": [
    {
     "name": "stdout",
     "output_type": "stream",
     "text": [
      "Welcome to JupyROOT 6.18/03\n"
     ]
    }
   ],
   "source": [
    "import ROOT"
   ]
  },
  {
   "cell_type": "markdown",
   "metadata": {},
   "source": [
    "Set up component pdfs\n",
    "---------------------------------------"
   ]
  },
  {
   "cell_type": "markdown",
   "metadata": {},
   "source": [
    "Declare observable x"
   ]
  },
  {
   "cell_type": "code",
   "execution_count": 2,
   "metadata": {
    "collapsed": false
   },
   "outputs": [
    {
     "name": "stdout",
     "output_type": "stream",
     "text": [
      "\n",
      "\u001b[1mRooFit v3.60 -- Developed by Wouter Verkerke and David Kirkby\u001b[0m \n",
      "                Copyright (C) 2000-2013 NIKHEF, University of California & Stanford University\n",
      "                All rights reserved, please read http://roofit.sourceforge.net/license.txt\n",
      "\n"
     ]
    }
   ],
   "source": [
    "x = ROOT.RooRealVar(\"x\", \"x\", 0, 10)"
   ]
  },
  {
   "cell_type": "markdown",
   "metadata": {},
   "source": [
    "Create two Gaussian PDFs g1(x,mean1,sigma) anf g2(x,mean2,sigma) and\n",
    "their parameters"
   ]
  },
  {
   "cell_type": "code",
   "execution_count": 3,
   "metadata": {
    "collapsed": false
   },
   "outputs": [],
   "source": [
    "mean = ROOT.RooRealVar(\"mean\", \"mean of gaussians\", 5)\n",
    "sigma1 = ROOT.RooRealVar(\"sigma1\", \"width of gaussians\", 0.5)\n",
    "sigma2 = ROOT.RooRealVar(\"sigma2\", \"width of gaussians\", 1)\n",
    "\n",
    "sig1 = ROOT.RooGaussian(\"sig1\", \"Signal component 1\", x, mean, sigma1)\n",
    "sig2 = ROOT.RooGaussian(\"sig2\", \"Signal component 2\", x, mean, sigma2)"
   ]
  },
  {
   "cell_type": "markdown",
   "metadata": {},
   "source": [
    "Build Chebychev polynomial p.d.f."
   ]
  },
  {
   "cell_type": "code",
   "execution_count": 4,
   "metadata": {
    "collapsed": false
   },
   "outputs": [],
   "source": [
    "a0 = ROOT.RooRealVar(\"a0\", \"a0\", 0.5, 0., 1.)\n",
    "a1 = ROOT.RooRealVar(\"a1\", \"a1\", -0.2, 0., 1.)\n",
    "bkg = ROOT.RooChebychev(\"bkg\", \"Background\", x, ROOT.RooArgList(a0, a1))"
   ]
  },
  {
   "cell_type": "markdown",
   "metadata": {},
   "source": [
    "Sum the signal components into a composite signal p.d.f."
   ]
  },
  {
   "cell_type": "code",
   "execution_count": 5,
   "metadata": {
    "collapsed": false
   },
   "outputs": [],
   "source": [
    "sig1frac = ROOT.RooRealVar(\n",
    "    \"sig1frac\", \"fraction of component 1 in signal\", 0.8, 0., 1.)\n",
    "sig = ROOT.RooAddPdf(\n",
    "    \"sig\", \"Signal\", ROOT.RooArgList(sig1, sig2), ROOT.RooArgList(sig1frac))"
   ]
  },
  {
   "cell_type": "markdown",
   "metadata": {},
   "source": [
    "Method 1 - Construct extended composite model\n",
    "-------------------------------------------------------------------"
   ]
  },
  {
   "cell_type": "markdown",
   "metadata": {},
   "source": [
    "Sum the composite signal and background into an extended pdf\n",
    "nsig*sig+nbkg*bkg"
   ]
  },
  {
   "cell_type": "code",
   "execution_count": 6,
   "metadata": {
    "collapsed": false
   },
   "outputs": [],
   "source": [
    "nsig = ROOT.RooRealVar(\"nsig\", \"number of signal events\", 500, 0., 10000)\n",
    "nbkg = ROOT.RooRealVar(\n",
    "    \"nbkg\", \"number of background events\", 500, 0, 10000)\n",
    "model = ROOT.RooAddPdf(\n",
    "    \"model\",\n",
    "    \"(g1+g2)+a\",\n",
    "    ROOT.RooArgList(\n",
    "        bkg,\n",
    "        sig),\n",
    "    ROOT.RooArgList(\n",
    "        nbkg,\n",
    "        nsig))"
   ]
  },
  {
   "cell_type": "markdown",
   "metadata": {},
   "source": [
    "Sample, fit and plot extended model\n",
    "---------------------------------------------------------------------"
   ]
  },
  {
   "cell_type": "markdown",
   "metadata": {},
   "source": [
    "Generate a data sample of expected number events in x from model\n",
    "= model.expectedEvents() = nsig+nbkg"
   ]
  },
  {
   "cell_type": "code",
   "execution_count": 7,
   "metadata": {
    "collapsed": false
   },
   "outputs": [],
   "source": [
    "data = model.generate(ROOT.RooArgSet(x))"
   ]
  },
  {
   "cell_type": "markdown",
   "metadata": {},
   "source": [
    "Fit model to data, ML term automatically included"
   ]
  },
  {
   "cell_type": "code",
   "execution_count": 8,
   "metadata": {
    "collapsed": false
   },
   "outputs": [
    {
     "data": {
      "text/plain": [
       "<ROOT.RooFitResult object at 0x(nil)>"
      ]
     },
     "execution_count": 8,
     "metadata": {},
     "output_type": "execute_result"
    },
    {
     "name": "stdout",
     "output_type": "stream",
     "text": [
      "[#1] INFO:Minization -- p.d.f. provides expected number of events, including extended term in likelihood.\n",
      "[#1] INFO:Minization -- RooMinimizer::optimizeConst: activating const optimization\n",
      "[#1] INFO:Minization --  The following expressions have been identified as constant and will be precalculated and cached: (sig1,sig2)\n",
      "[#1] INFO:Minization --  The following expressions will be evaluated in cache-and-track mode: (bkg)\n",
      " **********\n",
      " **    1 **SET PRINT           1\n",
      " **********\n",
      " **********\n",
      " **    2 **SET NOGRAD\n",
      " **********\n",
      " PARAMETER DEFINITIONS:\n",
      "    NO.   NAME         VALUE      STEP SIZE      LIMITS\n",
      "     1 a0           5.00000e-01  1.00000e-01    0.00000e+00  1.00000e+00\n",
      "     2 a1           0.00000e+00  1.00000e-01    0.00000e+00  1.00000e+00\n",
      " MINUIT WARNING IN PARAM DEF\n",
      " ============== STARTING VALUE IS AT LIMIT.\n",
      " MINUIT WARNING IN PARAMETR\n",
      " ============== VARIABLE2 IS AT ITS LOWER ALLOWED LIMIT.\n",
      " MINUIT WARNING IN PARAMETR\n",
      " ============== VARIABLE2 BROUGHT BACK INSIDE LIMITS.\n",
      "     3 nbkg         5.00000e+02  2.50000e+02    0.00000e+00  1.00000e+04\n",
      "     4 nsig         5.00000e+02  2.50000e+02    0.00000e+00  1.00000e+04\n",
      "     5 sig1frac     8.00000e-01  1.00000e-01    0.00000e+00  1.00000e+00\n",
      " **********\n",
      " **    3 **SET ERR         0.5\n",
      " **********\n",
      " **********\n",
      " **    4 **SET PRINT           1\n",
      " **********\n",
      " **********\n",
      " **    5 **SET STR           1\n",
      " **********\n",
      " NOW USING STRATEGY  1: TRY TO BALANCE SPEED AGAINST RELIABILITY\n",
      " **********\n",
      " **    6 **MIGRAD        2500           1\n",
      " **********\n",
      " FIRST CALL TO USER FUNCTION AT NEW START POINT, WITH IFLAG=4.\n",
      " MINUIT WARNING IN MIGrad    \n",
      " ============== VARIABLE2 IS AT ITS LOWER ALLOWED LIMIT.\n",
      " START MIGRAD MINIMIZATION.  STRATEGY  1.  CONVERGENCE WHEN EDM .LT. 1.00e-03\n",
      " FCN=-3981.56 FROM MIGRAD    STATUS=INITIATE       33 CALLS          34 TOTAL\n",
      "                     EDM= unknown      STRATEGY= 1      NO ERROR MATRIX       \n",
      "  EXT PARAMETER               CURRENT GUESS       STEP         FIRST   \n",
      "  NO.   NAME      VALUE            ERROR          SIZE      DERIVATIVE \n",
      "   1  a0           5.00000e-01   1.00000e-01   0.00000e+00   2.42158e+00\n",
      "   2  a1           6.91266e-02   1.00000e-01   5.30141e-01  -2.47844e-01\n",
      "   3  nbkg         5.00000e+02   2.50000e+02   0.00000e+00   5.64537e+01\n",
      "   4  nsig         5.00000e+02   2.50000e+02   0.00000e+00  -5.64546e+01\n",
      "   5  sig1frac     8.00000e-01   1.00000e-01   0.00000e+00   2.68987e-01\n",
      "                               ERR DEF= 0.5\n",
      " MIGRAD MINIMIZATION HAS CONVERGED.\n",
      " MIGRAD WILL VERIFY CONVERGENCE AND ERROR MATRIX.\n",
      " COVARIANCE MATRIX CALCULATED SUCCESSFULLY\n",
      " FCN=-3983.59 FROM MIGRAD    STATUS=CONVERGED     132 CALLS         133 TOTAL\n",
      "                     EDM=8.19227e-06    STRATEGY= 1      ERROR MATRIX ACCURATE \n",
      "  EXT PARAMETER                                   STEP         FIRST   \n",
      "  NO.   NAME      VALUE            ERROR          SIZE      DERIVATIVE \n",
      "   1  a0           5.07582e-01   7.96182e-02   6.78893e-03  -3.57814e-03\n",
      "   2  a1           2.66323e-01   1.34788e-01   8.23878e-03   4.57147e-04\n",
      "   3  nbkg         4.27828e+02   3.83165e+01   5.09588e-04  -1.07634e-01\n",
      "   4  nsig         5.72096e+02   4.01499e+01   4.94609e-04  -2.13397e-01\n",
      "   5  sig1frac     6.41354e-01   9.73632e-02   6.07877e-03   6.56989e-04\n",
      "                               ERR DEF= 0.5\n",
      " EXTERNAL ERROR MATRIX.    NDIM=  25    NPAR=  5    ERR DEF=0.5\n",
      "  6.393e-03  2.444e-03 -5.472e-01  5.471e-01 -1.360e-03 \n",
      "  2.444e-03  1.876e-02 -3.816e+00  3.815e+00 -8.807e-03 \n",
      " -5.472e-01 -3.816e+00  1.468e+03 -1.040e+03  2.504e+00 \n",
      "  5.471e-01  3.815e+00 -1.040e+03  1.612e+03 -2.504e+00 \n",
      " -1.360e-03 -8.807e-03  2.504e+00 -2.504e+00  9.613e-03 \n",
      " PARAMETER  CORRELATION COEFFICIENTS  \n",
      "       NO.  GLOBAL      1      2      3      4      5\n",
      "        1  0.22641   1.000  0.223 -0.179  0.170 -0.173\n",
      "        2  0.79364   0.223  1.000 -0.727  0.694 -0.656\n",
      "        3  0.78664  -0.179 -0.727  1.000 -0.676  0.667\n",
      "        4  0.75448   0.170  0.694 -0.676  1.000 -0.636\n",
      "        5  0.73098  -0.173 -0.656  0.667 -0.636  1.000\n",
      " **********\n",
      " **    7 **SET ERR         0.5\n",
      " **********\n",
      " **********\n",
      " **    8 **SET PRINT           1\n",
      " **********\n",
      " **********\n",
      " **    9 **HESSE        2500\n",
      " **********\n",
      " COVARIANCE MATRIX CALCULATED SUCCESSFULLY\n",
      " FCN=-3983.59 FROM HESSE     STATUS=OK             31 CALLS         164 TOTAL\n",
      "                     EDM=8.15794e-06    STRATEGY= 1      ERROR MATRIX ACCURATE \n",
      "  EXT PARAMETER                                INTERNAL      INTERNAL  \n",
      "  NO.   NAME      VALUE            ERROR       STEP SIZE       VALUE   \n",
      "   1  a0           5.07582e-01   7.95756e-02   1.35779e-03   1.51648e-02\n",
      "   2  a1           2.66323e-01   1.33724e-01   3.29551e-04  -4.86296e-01\n",
      "   3  nbkg         4.27828e+02   3.80516e+01   1.01918e-04  -1.15411e+00\n",
      "   4  nsig         5.72096e+02   3.99008e+01   9.89219e-05  -1.08774e+00\n",
      "   5  sig1frac     6.41354e-01   9.67277e-02   2.43151e-04   2.86616e-01\n",
      "                               ERR DEF= 0.5\n",
      " EXTERNAL ERROR MATRIX.    NDIM=  25    NPAR=  5    ERR DEF=0.5\n",
      "  6.386e-03  2.398e-03 -5.351e-01  5.351e-01 -1.328e-03 \n",
      "  2.398e-03  1.846e-02 -3.736e+00  3.736e+00 -8.604e-03 \n",
      " -5.351e-01 -3.736e+00  1.448e+03 -1.020e+03  2.453e+00 \n",
      "  5.351e-01  3.736e+00 -1.020e+03  1.592e+03 -2.453e+00 \n",
      " -1.328e-03 -8.604e-03  2.453e+00 -2.453e+00  9.486e-03 \n",
      " PARAMETER  CORRELATION COEFFICIENTS  \n",
      "       NO.  GLOBAL      1      2      3      4      5\n",
      "        1  0.22416   1.000  0.221 -0.176  0.168 -0.171\n",
      "        2  0.78979   0.221  1.000 -0.723  0.689 -0.650\n",
      "        3  0.78325  -0.176 -0.723  1.000 -0.672  0.662\n",
      "        4  0.75090   0.168  0.689 -0.672  1.000 -0.631\n",
      "        5  0.72671  -0.171 -0.650  0.662 -0.631  1.000\n",
      "[#1] INFO:Minization -- RooMinimizer::optimizeConst: deactivating const optimization\n"
     ]
    }
   ],
   "source": [
    "model.fitTo(data)"
   ]
  },
  {
   "cell_type": "markdown",
   "metadata": {},
   "source": [
    "Plot data and PDF overlaid, expected number of events for p.d.f projection normalization\n",
    "rather than observed number of events (==data.numEntries())"
   ]
  },
  {
   "cell_type": "code",
   "execution_count": 9,
   "metadata": {
    "collapsed": false
   },
   "outputs": [
    {
     "data": {
      "text/plain": [
       "<ROOT.RooPlot object (\"frame_x_560eb733b780\") at 0x560eb733b780>"
      ]
     },
     "execution_count": 9,
     "metadata": {},
     "output_type": "execute_result"
    }
   ],
   "source": [
    "xframe = x.frame(ROOT.RooFit.Title(\"extended ML fit example\"))\n",
    "data.plotOn(xframe)\n",
    "model.plotOn(xframe, ROOT.RooFit.Normalization(\n",
    "    1.0, ROOT.RooAbsReal.RelativeExpected))"
   ]
  },
  {
   "cell_type": "markdown",
   "metadata": {},
   "source": [
    "Overlay the background component of model with a dashed line"
   ]
  },
  {
   "cell_type": "code",
   "execution_count": 10,
   "metadata": {
    "collapsed": false
   },
   "outputs": [
    {
     "data": {
      "text/plain": [
       "<ROOT.RooPlot object (\"frame_x_560eb733b780\") at 0x560eb733b780>"
      ]
     },
     "execution_count": 10,
     "metadata": {},
     "output_type": "execute_result"
    },
    {
     "name": "stdout",
     "output_type": "stream",
     "text": [
      "[#1] INFO:Plotting -- RooAbsPdf::plotOn(model) directly selected PDF components: (bkg)\n",
      "[#1] INFO:Plotting -- RooAbsPdf::plotOn(model) indirectly selected PDF components: ()\n"
     ]
    }
   ],
   "source": [
    "ras_bkg = ROOT.RooArgSet(bkg)\n",
    "model.plotOn(\n",
    "    xframe, ROOT.RooFit.Components(ras_bkg), ROOT.RooFit.LineStyle(\n",
    "        ROOT.kDashed), ROOT.RooFit.Normalization(\n",
    "            1.0, ROOT.RooAbsReal.RelativeExpected))"
   ]
  },
  {
   "cell_type": "markdown",
   "metadata": {},
   "source": [
    "Overlay the background+sig2 components of model with a dotted line"
   ]
  },
  {
   "cell_type": "code",
   "execution_count": 11,
   "metadata": {
    "collapsed": false
   },
   "outputs": [
    {
     "data": {
      "text/plain": [
       "<ROOT.RooPlot object (\"frame_x_560eb733b780\") at 0x560eb733b780>"
      ]
     },
     "execution_count": 11,
     "metadata": {},
     "output_type": "execute_result"
    },
    {
     "name": "stdout",
     "output_type": "stream",
     "text": [
      "[#1] INFO:Plotting -- RooAbsPdf::plotOn(model) directly selected PDF components: (bkg,sig2)\n",
      "[#1] INFO:Plotting -- RooAbsPdf::plotOn(model) indirectly selected PDF components: (sig)\n"
     ]
    }
   ],
   "source": [
    "ras_bkg_sig2 = ROOT.RooArgSet(bkg, sig2)\n",
    "model.plotOn(\n",
    "    xframe, ROOT.RooFit.Components(ras_bkg_sig2), ROOT.RooFit.LineStyle(\n",
    "        ROOT.kDotted), ROOT.RooFit.Normalization(\n",
    "            1.0, ROOT.RooAbsReal.RelativeExpected))"
   ]
  },
  {
   "cell_type": "markdown",
   "metadata": {},
   "source": [
    "Print structure of composite p.d.f."
   ]
  },
  {
   "cell_type": "code",
   "execution_count": 12,
   "metadata": {
    "collapsed": false
   },
   "outputs": [
    {
     "name": "stdout",
     "output_type": "stream",
     "text": [
      "0x560eb6f85d40 RooAddPdf::model = 0.886051 [Auto,Dirty] \n",
      "  0x560eb6f2ad80/V- RooChebychev::bkg = 0.733677 [Auto,Dirty] \n",
      "    0x560eb54b2370/V- RooRealVar::x = 5\n",
      "    0x560eb54c2a20/V- RooRealVar::a0 = 0.507582 +/- 0.0795756\n",
      "    0x560eb5455530/V- RooRealVar::a1 = 0.266323 +/- 0.133724\n",
      "  0x560eb6ee5150/V- RooRealVar::nbkg = 427.828 +/- 38.0516\n",
      "  0x560eb6ef53f0/V- RooAddPdf::sig = 1 [Auto,Dirty] \n",
      "    0x560eb6e417e0/V- RooGaussian::sig1 = 1 [Auto,Dirty] \n",
      "      0x560eb54b2370/V- RooRealVar::x = 5\n",
      "      0x560eb611ca60/V- RooRealVar::mean = 5\n",
      "      0x560eb5cd0740/V- RooRealVar::sigma1 = 0.5\n",
      "    0x560eb6eeea10/V- RooRealVar::sig1frac = 0.641354 +/- 0.0967277\n",
      "    0x560eb6e4d9a0/V- RooGaussian::sig2 = 1 [Auto,Dirty] \n",
      "      0x560eb54b2370/V- RooRealVar::x = 5\n",
      "      0x560eb611ca60/V- RooRealVar::mean = 5\n",
      "      0x560eb54bae10/V- RooRealVar::sigma2 = 1\n",
      "  0x560eb6f87be0/V- RooRealVar::nsig = 572.096 +/- 39.9008\n"
     ]
    }
   ],
   "source": [
    "model.Print(\"t\")"
   ]
  },
  {
   "cell_type": "markdown",
   "metadata": {},
   "source": [
    "Method 2 - Construct extended components first\n",
    "---------------------------------------------------------------------"
   ]
  },
  {
   "cell_type": "markdown",
   "metadata": {},
   "source": [
    "Associated nsig/nbkg as expected number of events with sig/bkg"
   ]
  },
  {
   "cell_type": "code",
   "execution_count": 13,
   "metadata": {
    "collapsed": false
   },
   "outputs": [],
   "source": [
    "esig = ROOT.RooExtendPdf(\"esig\", \"extended signal p.d.f\", sig, nsig)\n",
    "ebkg = ROOT.RooExtendPdf(\"ebkg\", \"extended background p.d.f\", bkg, nbkg)"
   ]
  },
  {
   "cell_type": "markdown",
   "metadata": {},
   "source": [
    "Sum extended components without coefs\n",
    "-------------------------------------------------------------------------"
   ]
  },
  {
   "cell_type": "markdown",
   "metadata": {},
   "source": [
    "Construct sum of two extended p.d.f. (no coefficients required)"
   ]
  },
  {
   "cell_type": "code",
   "execution_count": 14,
   "metadata": {
    "collapsed": false
   },
   "outputs": [],
   "source": [
    "model2 = ROOT.RooAddPdf(\"model2\", \"(g1+g2)+a\", ROOT.RooArgList(ebkg, esig))"
   ]
  },
  {
   "cell_type": "markdown",
   "metadata": {},
   "source": [
    "Draw the frame on the canvas"
   ]
  },
  {
   "cell_type": "code",
   "execution_count": 15,
   "metadata": {
    "collapsed": false
   },
   "outputs": [
    {
     "name": "stderr",
     "output_type": "stream",
     "text": [
      "Info in <TCanvas::Print>: png file rf202_extendedmlfit.png has been created\n"
     ]
    }
   ],
   "source": [
    "c = ROOT.TCanvas(\"rf202_extendedmlfit\", \"rf202_extendedmlfit\", 600, 600)\n",
    "ROOT.gPad.SetLeftMargin(0.15)\n",
    "xframe.GetYaxis().SetTitleOffset(1.4)\n",
    "xframe.Draw()\n",
    "\n",
    "c.SaveAs(\"rf202_extendedmlfit.png\")"
   ]
  },
  {
   "cell_type": "markdown",
   "metadata": {},
   "source": [
    "Draw all canvases "
   ]
  },
  {
   "cell_type": "code",
   "execution_count": 16,
   "metadata": {
    "collapsed": false
   },
   "outputs": [
    {
     "data": {
      "image/png": "[encoded data removed]",
      "text/plain": [
       "<IPython.core.display.Image object>"
      ]
     },
     "metadata": {},
     "output_type": "display_data"
    }
   ],
   "source": [
    "from ROOT import gROOT \n",
    "gROOT.GetListOfCanvases().Draw()"
   ]
  }
 ],
 "metadata": {
  "kernelspec": {
   "display_name": "Python 2",
   "language": "python",
   "name": "python2"
  },
  "language_info": {
   "codemirror_mode": {
    "name": "ipython",
    "version": 2
   },
   "file_extension": ".py",
   "mimetype": "text/x-python",
   "name": "python",
   "nbconvert_exporter": "python",
   "pygments_lexer": "ipython2",
   "version": "2.7.10"
  }
 },
 "nbformat": 4,
 "nbformat_minor": 2
}
