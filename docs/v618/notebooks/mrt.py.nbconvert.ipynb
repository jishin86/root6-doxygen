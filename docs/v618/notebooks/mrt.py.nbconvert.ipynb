{
 "cells": [
  {
   "cell_type": "markdown",
   "metadata": {},
   "source": [
    "# Mrt\n",
    "Build ROOT Ntuple from other source.\n",
    "This program reads the `aptuple.txt' file row by row, then creates\n",
    "the Ntuple by adding row by row.\n",
    "\n",
    "\n",
    "\n",
    "\n",
    "**Author:** Wim Lavrijsen  \n",
    "<i><small>This notebook tutorial was automatically generated with <a href= \"https://github.com/root-project/root/blob/master/documentation/doxygen/converttonotebook.py\">ROOTBOOK-izer</a> from the macro found in the ROOT repository  on Thursday, August 29, 2019 at 02:29 AM.</small></i>"
   ]
  },
  {
   "cell_type": "code",
   "execution_count": 1,
   "metadata": {
    "collapsed": false
   },
   "outputs": [
    {
     "name": "stdout",
     "output_type": "stream",
     "text": [
      "Welcome to JupyROOT 6.18/03\n",
      "opening file /mnt/build/workspace/root-makedoc-v618/rootspi/rdoc/src/v6-18-00-patches.build/tutorials/pyroot/aptuple.txt ...\n",
      "writing file aptuple.root ...\n",
      "done\n"
     ]
    }
   ],
   "source": [
    "import sys, string, os\n",
    "from ROOT import TFile, TNtuple\n",
    "\n",
    "\n",
    "ifn = os.path.expandvars(\"${ROOTSYS}/tutorials/pyroot/aptuple.txt\")\n",
    "ofn = 'aptuple.root'\n",
    "\n",
    "print 'opening file', ifn, '...'\n",
    "infile = open( ifn, 'r' )\n",
    "lines  = infile.readlines()\n",
    "title  = lines[0]\n",
    "labels = string.split( lines[1] )\n",
    "\n",
    "print 'writing file', ofn, '...'\n",
    "outfile = TFile( ofn, 'RECREATE', 'ROOT file with an NTuple' )\n",
    "ntuple  = TNtuple( 'ntuple', title, string.join( labels, ':') )\n",
    "\n",
    "for line in lines[2:]:\n",
    "    words = string.split( line )\n",
    "    row = map( float, words )\n",
    "    apply( ntuple.Fill, row )\n",
    "\n",
    "outfile.Write()\n",
    "\n",
    "print 'done'"
   ]
  }
 ],
 "metadata": {
  "kernelspec": {
   "display_name": "Python 2",
   "language": "python",
   "name": "python2"
  },
  "language_info": {
   "codemirror_mode": {
    "name": "ipython",
    "version": 2
   },
   "file_extension": ".py",
   "mimetype": "text/x-python",
   "name": "python",
   "nbconvert_exporter": "python",
   "pygments_lexer": "ipython2",
   "version": "2.7.10"
  }
 },
 "nbformat": 4,
 "nbformat_minor": 2
}
