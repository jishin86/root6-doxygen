{
 "cells": [
  {
   "cell_type": "markdown",
   "metadata": {},
   "source": [
    "# Timeonaxis 3\n",
    "This example compares what the system time function gmtime and localtime give\n",
    "with what gives TGaxis. It can be used as referenced test to check if TGaxis\n",
    "is working properly.\n",
    "The original code was developed by Philippe Gras (CEA Saclay. IRFU/SEDI)\n",
    "\n",
    "\n",
    "\n",
    "\n",
    "**Author:**  Philippe Gras, Bertrand Bellenot, Olivier Couet  \n",
    "<i><small>This notebook tutorial was automatically generated with <a href= \"https://github.com/root-project/root/blob/master/documentation/doxygen/converttonotebook.py\">ROOTBOOK-izer</a> from the macro found in the ROOT repository  on Thursday, August 29, 2019 at 01:50 AM.</small></i>"
   ]
  },
  {
   "cell_type": "code",
   "execution_count": 1,
   "metadata": {
    "collapsed": false
   },
   "outputs": [],
   "source": [
    "#if defined(G__WIN32) && defined(__CINT__) && !defined(__MAKECINT__)\n",
    "{\n",
    "   // timeonaxis3.C has to be run in compiled mode on Windows.\n",
    "   // the following code does it.\n",
    "\n",
    "   gSystem->CompileMacro(\"timeonaxis3.C\");\n",
    "   timeonaxis3();\n",
    "}\n",
    "#else\n",
    "\n",
    "#include \"TAxis.h\"\n",
    "#include \"TGaxis.h\"\n",
    "#include \"TCanvas.h\"\n",
    "#include \"TString.h\"\n",
    "#include \"TLine.h\"\n",
    "#include \"TLatex.h\"\n",
    "#include <time.h>\n",
    "#include <stdio.h>\n",
    "\n",
    "\n",
    "\n",
    "\n",
    "\n",
    "#endif"
   ]
  },
  {
   "cell_type": "markdown",
   "metadata": {},
   "source": [
    " A helper function is created: "
   ]
  },
  {
   "cell_type": "code",
   "execution_count": 2,
   "metadata": {
    "collapsed": false
   },
   "outputs": [],
   "source": [
    "%%cpp -d\n",
    "TString stime(time_t* t, bool utc = false, bool display_time_zone = true) {\n",
    "   struct tm* tt;\n",
    "   if (utc) tt = gmtime(t);\n",
    "   else     tt = localtime(t);\n",
    "   char buf[256];\n",
    "   if (display_time_zone) strftime(buf, sizeof(buf), \"%Y-%m-%d  %H:%M:%S %Z\", tt);\n",
    "   else                   strftime(buf, sizeof(buf), \"%Y-%m-%d %H:%M:%S\", tt);\n",
    "   return TString(buf);\n",
    "}"
   ]
  },
  {
   "cell_type": "code",
   "execution_count": 3,
   "metadata": {
    "collapsed": false
   },
   "outputs": [],
   "source": [
    "double f = 1.8;\n",
    "\n",
    "TCanvas* c = new TCanvas;\n",
    "\n",
    "TLatex* tex1 = new TLatex;\n",
    "tex1->SetNDC();\n",
    "tex1->SetTextFont(102);\n",
    "tex1->SetTextSize(0.055*f);\n",
    "\n",
    "TLatex* tex3 = new TLatex;\n",
    "tex3->SetNDC();\n",
    "tex3->SetTextFont(102);\n",
    "tex3->SetTextSize(0.07*f);\n",
    "tex3->SetTextColor(kBlue+2);\n",
    "\n",
    "TLatex* tex2 = new TLatex;\n",
    "tex2->SetNDC();\n",
    "tex2->SetTextFont(102);\n",
    "tex2->SetTextSize(0.07*f);\n",
    "tex2->SetTextColor(kOrange+3);\n",
    "\n",
    "time_t offset[] = {0,                   0, 1325376000, 1341100800};\n",
    "time_t t[]      = {1331150400, 1336417200,          0, 36000};\n",
    "\n",
    "c->SetTopMargin(0); c->SetBottomMargin(0);\n",
    "c->SetLeftMargin(0); c->SetRightMargin(0);\n",
    "c->Divide(2, 4, -1, -1);\n",
    "TLine l;\n",
    "l.DrawLine(0.5, 0, 0.5, 1.);\n",
    "\n",
    "for(int i = 0; i < 4; ++i){\n",
    "   for(int gmt = 0; gmt < 2; ++gmt){\n",
    "      const char* opt = (gmt ? \"gmt\" : \"local\");\n",
    "      TVirtualPad* p = c->cd(2*i + gmt + 1);\n",
    "      p->SetTopMargin(0); p->SetBottomMargin(0);\n",
    "      p->SetLeftMargin(0); p->SetRightMargin(0);\n",
    "      p->SetFillStyle(4000);\n",
    "\n",
    "      TGaxis* ga = new TGaxis (.4, .25, 5., .25, t[i], t[i] + 1,  1, \"t\");\n",
    "      ga->SetTimeFormat(\"TGaxis label: #color[2]{%Y-%m-%d %H:%M:%S}\");\n",
    "      ga->SetLabelFont(102);\n",
    "      ga->SetLabelColor(kBlue+2);\n",
    "\n",
    "      ga->SetTimeOffset(offset[i], opt);\n",
    "      ga->SetLabelOffset(0.04*f);\n",
    "      ga->SetLabelSize(0.07*f);\n",
    "      ga->SetLineColor(0);\n",
    "      ga->Draw();\n",
    "\n",
    "      // Get offset string of axis time format: there is not accessor\n",
    "      // to time format in TGaxis.\n",
    "      // Assumes TAxis use the same format.\n",
    "      TAxis a(10, 0, 1600000000);\n",
    "      a.SetTimeOffset(offset[i], opt);\n",
    "      const char* offsettimeformat = a.GetTimeFormat();\n",
    "\n",
    "      char buf[256];\n",
    "      if (offset[i] < t[i]) {\n",
    "         sprintf(buf, \"#splitline{%s, %s}{offset: %ld, option %s}\",\n",
    "                 stime(t+i).Data(), stime(t+i, true).Data(), offset[i], opt);\n",
    "      } else {\n",
    "         int h = t[i] / 3600;\n",
    "         int m = (t[i] - 3600 * h) / 60 ;\n",
    "         int s = (t[i] - h * 3600 - m * 60);\n",
    "         sprintf(buf, \"#splitline{%d h %d m %d s}{offset: %s, option %s}\",\n",
    "                 h, m, s, stime(offset + i, gmt).Data(), opt);\n",
    "      }\n",
    "      tex1->DrawLatex(.01, .75, buf);\n",
    "      tex2->DrawLatex(.01, .50, offsettimeformat);\n",
    "      time_t t_ = t[i] + offset[i];\n",
    "      sprintf(buf, \"Expecting:    #color[2]{%s}\", stime(&t_, gmt, false).Data());\n",
    "      tex3->DrawLatex(.01, .24, buf);\n",
    "      if(i > 0) l.DrawLine(0, 0.95, 1, 0.95);\n",
    "   }\n",
    "}\n",
    "return c;"
   ]
  },
  {
   "cell_type": "markdown",
   "metadata": {},
   "source": [
    "Draw all canvases "
   ]
  },
  {
   "cell_type": "code",
   "execution_count": 4,
   "metadata": {
    "collapsed": false
   },
   "outputs": [
    {
     "data": {
      "image/png": "[encoded data removed]",
      "text/plain": [
       "<IPython.core.display.Image object>"
      ]
     },
     "metadata": {},
     "output_type": "display_data"
    }
   ],
   "source": [
    "gROOT->GetListOfCanvases()->Draw()"
   ]
  }
 ],
 "metadata": {
  "kernelspec": {
   "display_name": "ROOT C++",
   "language": "c++",
   "name": "root"
  },
  "language_info": {
   "codemirror_mode": "text/x-c++src",
   "file_extension": ".C",
   "mimetype": " text/x-c++src",
   "name": "c++"
  }
 },
 "nbformat": 4,
 "nbformat_minor": 2
}
