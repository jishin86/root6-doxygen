{
 "cells": [
  {
   "cell_type": "markdown",
   "metadata": {},
   "source": [
    "# Rf 3 1 0_Sliceplot\n",
    "\n",
    "Multidimensional models: projecting p.d.f and data slices in discrete observables\n",
    "\n",
    "\n",
    "\n",
    "\n",
    "**Author:** Clemens Lange, Wouter Verkerke (C++ version)  \n",
    "<i><small>This notebook tutorial was automatically generated with <a href= \"https://github.com/root-project/root/blob/master/documentation/doxygen/converttonotebook.py\">ROOTBOOK-izer</a> from the macro found in the ROOT repository  on Thursday, August 29, 2019 at 02:49 AM.</small></i>"
   ]
  },
  {
   "cell_type": "code",
   "execution_count": 1,
   "metadata": {
    "collapsed": false
   },
   "outputs": [
    {
     "name": "stdout",
     "output_type": "stream",
     "text": [
      "Welcome to JupyROOT 6.18/03\n"
     ]
    }
   ],
   "source": [
    "import ROOT"
   ]
  },
  {
   "cell_type": "markdown",
   "metadata": {},
   "source": [
    "Create B decay pdf with mixing\n",
    "----------------------------------------------------------"
   ]
  },
  {
   "cell_type": "markdown",
   "metadata": {},
   "source": [
    "Decay time observables"
   ]
  },
  {
   "cell_type": "code",
   "execution_count": 2,
   "metadata": {
    "collapsed": false
   },
   "outputs": [
    {
     "name": "stdout",
     "output_type": "stream",
     "text": [
      "\n",
      "\u001b[1mRooFit v3.60 -- Developed by Wouter Verkerke and David Kirkby\u001b[0m \n",
      "                Copyright (C) 2000-2013 NIKHEF, University of California & Stanford University\n",
      "                All rights reserved, please read http://roofit.sourceforge.net/license.txt\n",
      "\n"
     ]
    }
   ],
   "source": [
    "dt = ROOT.RooRealVar(\"dt\", \"dt\", -20, 20)"
   ]
  },
  {
   "cell_type": "markdown",
   "metadata": {},
   "source": [
    "Discrete observables mixState (B0tag==B0reco?) and tagFlav\n",
    "(B0tag==B0(bar)?)"
   ]
  },
  {
   "cell_type": "code",
   "execution_count": 3,
   "metadata": {
    "collapsed": false
   },
   "outputs": [],
   "source": [
    "mixState = ROOT.RooCategory(\"mixState\", \"B0/B0bar mixing state\")\n",
    "tagFlav = ROOT.RooCategory(\"tagFlav\", \"Flavour of the tagged B0\")"
   ]
  },
  {
   "cell_type": "markdown",
   "metadata": {},
   "source": [
    "Define state labels of discrete observables"
   ]
  },
  {
   "cell_type": "code",
   "execution_count": 4,
   "metadata": {
    "collapsed": false
   },
   "outputs": [
    {
     "data": {
      "text/plain": [
       "False"
      ]
     },
     "execution_count": 4,
     "metadata": {},
     "output_type": "execute_result"
    }
   ],
   "source": [
    "mixState.defineType(\"mixed\", -1)\n",
    "mixState.defineType(\"unmixed\", 1)\n",
    "tagFlav.defineType(\"B0\", 1)\n",
    "tagFlav.defineType(\"B0bar\", -1)"
   ]
  },
  {
   "cell_type": "markdown",
   "metadata": {},
   "source": [
    "Model parameters"
   ]
  },
  {
   "cell_type": "code",
   "execution_count": 5,
   "metadata": {
    "collapsed": false
   },
   "outputs": [],
   "source": [
    "dm = ROOT.RooRealVar(\"dm\", \"delta m(B)\", 0.472, 0., 1.0)\n",
    "tau = ROOT.RooRealVar(\"tau\", \"B0 decay time\", 1.547, 1.0, 2.0)\n",
    "w = ROOT.RooRealVar(\"w\", \"Flavor Mistag rate\", 0.03, 0.0, 1.0)\n",
    "dw = ROOT.RooRealVar(\n",
    "    \"dw\", \"Flavor Mistag rate difference between B0 and B0bar\", 0.01)"
   ]
  },
  {
   "cell_type": "markdown",
   "metadata": {},
   "source": [
    "Build a gaussian resolution model"
   ]
  },
  {
   "cell_type": "code",
   "execution_count": 6,
   "metadata": {
    "collapsed": false
   },
   "outputs": [],
   "source": [
    "bias1 = ROOT.RooRealVar(\"bias1\", \"bias1\", 0)\n",
    "sigma1 = ROOT.RooRealVar(\"sigma1\", \"sigma1\", 0.01)\n",
    "gm1 = ROOT.RooGaussModel(\"gm1\", \"gauss model 1\", dt, bias1, sigma1)"
   ]
  },
  {
   "cell_type": "markdown",
   "metadata": {},
   "source": [
    "Construct a decay pdf, with single gaussian resolution model"
   ]
  },
  {
   "cell_type": "code",
   "execution_count": 7,
   "metadata": {
    "collapsed": false
   },
   "outputs": [],
   "source": [
    "bmix_gm1 = ROOT.RooBMixDecay(\n",
    "    \"bmix\",\n",
    "    \"decay\",\n",
    "    dt,\n",
    "    mixState,\n",
    "    tagFlav,\n",
    "    tau,\n",
    "    dm,\n",
    "    w,\n",
    "    dw,\n",
    "    gm1,\n",
    "    ROOT.RooBMixDecay.DoubleSided)"
   ]
  },
  {
   "cell_type": "markdown",
   "metadata": {},
   "source": [
    "Generate BMixing data with above set of event errors"
   ]
  },
  {
   "cell_type": "code",
   "execution_count": 8,
   "metadata": {
    "collapsed": false
   },
   "outputs": [],
   "source": [
    "data = bmix_gm1.generate(ROOT.RooArgSet(dt, tagFlav, mixState), 20000)"
   ]
  },
  {
   "cell_type": "markdown",
   "metadata": {},
   "source": [
    "Plot full decay distribution\n",
    "----------------------------------------------------------"
   ]
  },
  {
   "cell_type": "markdown",
   "metadata": {},
   "source": [
    "Create frame, data and pdf projection (integrated over tagFlav and\n",
    "mixState)"
   ]
  },
  {
   "cell_type": "code",
   "execution_count": 9,
   "metadata": {
    "collapsed": false
   },
   "outputs": [
    {
     "data": {
      "text/plain": [
       "<ROOT.RooPlot object (\"frame_dt_55864f7068e0\") at 0x55864f7068e0>"
      ]
     },
     "execution_count": 9,
     "metadata": {},
     "output_type": "execute_result"
    },
    {
     "name": "stdout",
     "output_type": "stream",
     "text": [
      "[#1] INFO:Plotting -- RooAbsReal::plotOn(bmix) plot on dt integrates over variables (tagFlav,mixState)\n"
     ]
    }
   ],
   "source": [
    "frame = dt.frame(ROOT.RooFit.Title(\"Inclusive decay distribution\"))\n",
    "data.plotOn(frame)\n",
    "bmix_gm1.plotOn(frame)"
   ]
  },
  {
   "cell_type": "markdown",
   "metadata": {},
   "source": [
    "Plot decay distribution for mixed and unmixed slice of mixState\n",
    "-------------------------------------------------------------------------------------------"
   ]
  },
  {
   "cell_type": "markdown",
   "metadata": {},
   "source": [
    "Create frame, data (mixed only)"
   ]
  },
  {
   "cell_type": "code",
   "execution_count": 10,
   "metadata": {
    "collapsed": false
   },
   "outputs": [
    {
     "data": {
      "text/plain": [
       "<ROOT.RooPlot object (\"frame_dt_55864e4ade20\") at 0x55864e4ade20>"
      ]
     },
     "execution_count": 10,
     "metadata": {},
     "output_type": "execute_result"
    },
    {
     "name": "stdout",
     "output_type": "stream",
     "text": [
      "[#1] INFO:Plotting -- RooTreeData::plotOn: plotting 3787 events out of 20000 total events\n"
     ]
    }
   ],
   "source": [
    "frame2 = dt.frame(ROOT.RooFit.Title(\"Decay distribution of mixed events\"))\n",
    "data.plotOn(frame2, ROOT.RooFit.Cut(\"mixState==mixState::mixed\"))"
   ]
  },
  {
   "cell_type": "markdown",
   "metadata": {},
   "source": [
    "Position slice in mixState at \"mixed\" and plot slice of pdf in mixstate\n",
    "over data (integrated over tagFlav)"
   ]
  },
  {
   "cell_type": "code",
   "execution_count": 11,
   "metadata": {
    "collapsed": false
   },
   "outputs": [
    {
     "data": {
      "text/plain": [
       "<ROOT.RooPlot object (\"frame_dt_55864e4ade20\") at 0x55864e4ade20>"
      ]
     },
     "execution_count": 11,
     "metadata": {},
     "output_type": "execute_result"
    },
    {
     "name": "stdout",
     "output_type": "stream",
     "text": [
      "[#1] INFO:Plotting -- RooAbsReal::plotOn(bmix) plot on dt represents a slice in (mixState)\n",
      "[#1] INFO:Plotting -- RooAbsReal::plotOn(bmix) plot on dt integrates over variables (tagFlav)\n"
     ]
    }
   ],
   "source": [
    "bmix_gm1.plotOn(frame2, ROOT.RooFit.Slice(mixState, \"mixed\"))"
   ]
  },
  {
   "cell_type": "markdown",
   "metadata": {},
   "source": [
    "Create frame, data (unmixed only)"
   ]
  },
  {
   "cell_type": "code",
   "execution_count": 12,
   "metadata": {
    "collapsed": false
   },
   "outputs": [
    {
     "data": {
      "text/plain": [
       "<ROOT.RooPlot object (\"frame_dt_55864f7bd3b0\") at 0x55864f7bd3b0>"
      ]
     },
     "execution_count": 12,
     "metadata": {},
     "output_type": "execute_result"
    },
    {
     "name": "stdout",
     "output_type": "stream",
     "text": [
      "[#1] INFO:Plotting -- RooTreeData::plotOn: plotting 16213 events out of 20000 total events\n"
     ]
    }
   ],
   "source": [
    "frame3 = dt.frame(ROOT.RooFit.Title(\n",
    "    \"Decay distribution of unmixed events\"))\n",
    "data.plotOn(frame3, ROOT.RooFit.Cut(\"mixState==mixState::unmixed\"))"
   ]
  },
  {
   "cell_type": "markdown",
   "metadata": {},
   "source": [
    "Position slice in mixState at \"unmixed\" and plot slice of pdf in\n",
    "mixstate over data (integrated over tagFlav)"
   ]
  },
  {
   "cell_type": "code",
   "execution_count": 13,
   "metadata": {
    "collapsed": false
   },
   "outputs": [
    {
     "name": "stdout",
     "output_type": "stream",
     "text": [
      "[#1] INFO:Plotting -- RooAbsReal::plotOn(bmix) plot on dt represents a slice in (mixState)\n",
      "[#1] INFO:Plotting -- RooAbsReal::plotOn(bmix) plot on dt integrates over variables (tagFlav)\n"
     ]
    },
    {
     "name": "stderr",
     "output_type": "stream",
     "text": [
      "Info in <TCanvas::Print>: png file rf310_sliceplot.png has been created\n"
     ]
    }
   ],
   "source": [
    "bmix_gm1.plotOn(frame3, ROOT.RooFit.Slice(mixState, \"unmixed\"))\n",
    "\n",
    "c = ROOT.TCanvas(\"rf310_sliceplot\", \"rf310_sliceplot\", 1200, 400)\n",
    "c.Divide(3)\n",
    "c.cd(1)\n",
    "ROOT.gPad.SetLeftMargin(0.15)\n",
    "frame.GetYaxis().SetTitleOffset(1.4)\n",
    "ROOT.gPad.SetLogy()\n",
    "frame.Draw()\n",
    "c.cd(2)\n",
    "ROOT.gPad.SetLeftMargin(0.15)\n",
    "frame2.GetYaxis().SetTitleOffset(1.4)\n",
    "ROOT.gPad.SetLogy()\n",
    "frame2.Draw()\n",
    "c.cd(3)\n",
    "ROOT.gPad.SetLeftMargin(0.15)\n",
    "frame3.GetYaxis().SetTitleOffset(1.4)\n",
    "ROOT.gPad.SetLogy()\n",
    "frame3.Draw()\n",
    "\n",
    "c.SaveAs(\"rf310_sliceplot.png\")"
   ]
  },
  {
   "cell_type": "markdown",
   "metadata": {},
   "source": [
    "Draw all canvases "
   ]
  },
  {
   "cell_type": "code",
   "execution_count": 14,
   "metadata": {
    "collapsed": false
   },
   "outputs": [
    {
     "data": {
      "image/png": "[encoded data removed]",
      "text/plain": [
       "<IPython.core.display.Image object>"
      ]
     },
     "metadata": {},
     "output_type": "display_data"
    }
   ],
   "source": [
    "from ROOT import gROOT \n",
    "gROOT.GetListOfCanvases().Draw()"
   ]
  }
 ],
 "metadata": {
  "kernelspec": {
   "display_name": "Python 2",
   "language": "python",
   "name": "python2"
  },
  "language_info": {
   "codemirror_mode": {
    "name": "ipython",
    "version": 2
   },
   "file_extension": ".py",
   "mimetype": "text/x-python",
   "name": "python",
   "nbconvert_exporter": "python",
   "pygments_lexer": "ipython2",
   "version": "2.7.10"
  }
 },
 "nbformat": 4,
 "nbformat_minor": 2
}
