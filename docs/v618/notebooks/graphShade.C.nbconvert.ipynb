{
 "cells": [
  {
   "cell_type": "markdown",
   "metadata": {},
   "source": [
    "# Graph Shade\n",
    "Show how to shade an area between two graphs\n",
    "\n",
    "\n",
    "\n",
    "\n",
    "**Author:** Rene Brun  \n",
    "<i><small>This notebook tutorial was automatically generated with <a href= \"https://github.com/root-project/root/blob/master/documentation/doxygen/converttonotebook.py\">ROOTBOOK-izer</a> from the macro found in the ROOT repository  on Thursday, August 29, 2019 at 01:47 AM.</small></i>"
   ]
  },
  {
   "cell_type": "code",
   "execution_count": 1,
   "metadata": {
    "collapsed": false
   },
   "outputs": [],
   "source": [
    "TCanvas *c1 = new TCanvas(\"c1\",\n",
    "   \"A Simple Graph Example\",200,10,700,500);\n",
    "\n",
    "c1->SetGrid();\n",
    "c1->DrawFrame(0,0,2.2,12);\n",
    "\n",
    "const Int_t n = 20;\n",
    "Double_t x[n], y[n],ymin[n], ymax[n];\n",
    "Int_t i;\n",
    "for (i=0;i<n;i++) {\n",
    "  x[i] = 0.1+i*0.1;\n",
    "  ymax[i] = 10*sin(x[i]+0.2);\n",
    "  ymin[i] = 8*sin(x[i]+0.1);\n",
    "  y[i] = 9*sin(x[i]+0.15);\n",
    "}\n",
    "TGraph *grmin = new TGraph(n,x,ymin);\n",
    "TGraph *grmax = new TGraph(n,x,ymax);\n",
    "TGraph *gr    = new TGraph(n,x,y);\n",
    "TGraph *grshade = new TGraph(2*n);\n",
    "for (i=0;i<n;i++) {\n",
    "   grshade->SetPoint(i,x[i],ymax[i]);\n",
    "   grshade->SetPoint(n+i,x[n-i-1],ymin[n-i-1]);\n",
    "}\n",
    "grshade->SetFillStyle(3013);\n",
    "grshade->SetFillColor(16);\n",
    "grshade->Draw(\"f\");\n",
    "grmin->Draw(\"l\");\n",
    "grmax->Draw(\"l\");\n",
    "gr->SetLineWidth(4);\n",
    "gr->SetMarkerColor(4);\n",
    "gr->SetMarkerStyle(21);\n",
    "gr->Draw(\"CP\");"
   ]
  },
  {
   "cell_type": "markdown",
   "metadata": {},
   "source": [
    "Draw all canvases "
   ]
  },
  {
   "cell_type": "code",
   "execution_count": 2,
   "metadata": {
    "collapsed": false
   },
   "outputs": [
    {
     "data": {
      "image/png": "[encoded data removed]",
      "text/plain": [
       "<IPython.core.display.Image object>"
      ]
     },
     "metadata": {},
     "output_type": "display_data"
    }
   ],
   "source": [
    "gROOT->GetListOfCanvases()->Draw()"
   ]
  }
 ],
 "metadata": {
  "kernelspec": {
   "display_name": "ROOT C++",
   "language": "c++",
   "name": "root"
  },
  "language_info": {
   "codemirror_mode": "text/x-c++src",
   "file_extension": ".C",
   "mimetype": " text/x-c++src",
   "name": "c++"
  }
 },
 "nbformat": 4,
 "nbformat_minor": 2
}
