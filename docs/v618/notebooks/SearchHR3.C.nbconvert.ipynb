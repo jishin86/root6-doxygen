{
 "cells": [
  {
   "cell_type": "markdown",
   "metadata": {},
   "source": [
    "#  Search H R 3\n",
    "Example to illustrate the influence of number of iterations in deconvolution\n",
    "in high resolution peak searching function (class TSpectrum).\n",
    "\n",
    "\n",
    "\n",
    "\n",
    "**Author:**  Miroslav Morhac, Olivier Couet  \n",
    "<i><small>This notebook tutorial was automatically generated with <a href= \"https://github.com/root-project/root/blob/master/documentation/doxygen/converttonotebook.py\">ROOTBOOK-izer</a> from the macro found in the ROOT repository  on Thursday, August 29, 2019 at 03:38 AM.</small></i>"
   ]
  },
  {
   "cell_type": "code",
   "execution_count": 1,
   "metadata": {
    "collapsed": false
   },
   "outputs": [
    {
     "name": "stderr",
     "output_type": "stream",
     "text": [
      "Info in <TCanvas::MakeDefCanvas>:  created default TCanvas with name c1\n"
     ]
    },
    {
     "name": "stdout",
     "output_type": "stream",
     "text": [
      "Found 11 candidate peaks\n"
     ]
    }
   ],
   "source": [
    "Double_t fPositionX[100];\n",
    "Double_t fPositionY[100];\n",
    "Int_t fNPeaks = 0;\n",
    "Int_t i,nfound,bin;\n",
    "const Int_t nbins = 1024;\n",
    "Double_t xmin     = 0;\n",
    "Double_t xmax     = nbins;\n",
    "Double_t a;\n",
    "Double_t source[nbins], dest[nbins];\n",
    "gROOT->ForceStyle();\n",
    "\n",
    "TString dir  = gROOT->GetTutorialDir();\n",
    "TString file = dir+\"/spectrum/TSpectrum.root\";\n",
    "TFile *f     = new TFile(file.Data());\n",
    "TH1F *h = (TH1F*) f->Get(\"back2\");\n",
    "h->SetTitle(\"Influence of # of iterations in deconvolution in peak searching\");\n",
    "h->GetXaxis()->SetRange(1,nbins);\n",
    "\n",
    "TH1F *d1 = new TH1F(\"d1\",\"\",nbins,xmin,xmax);\n",
    "TH1F *d2 = new TH1F(\"d2\",\"\",nbins,xmin,xmax);\n",
    "TH1F *d3 = new TH1F(\"d3\",\"\",nbins,xmin,xmax);\n",
    "TH1F *d4 = new TH1F(\"d4\",\"\",nbins,xmin,xmax);\n",
    "\n",
    "TSpectrum *s = new TSpectrum();\n",
    "\n",
    "for (i = 0; i < nbins; i++) source[i]=h->GetBinContent(i + 1);\n",
    "nfound = s->SearchHighRes(source, dest, nbins, 8, 2, kTRUE, 3, kTRUE, 3);\n",
    "\n",
    "Double_t *xpeaks = s->GetPositionX();\n",
    "for (i = 0; i < nfound; i++) {\n",
    "   a=xpeaks[i];\n",
    "   bin = 1 + Int_t(a + 0.5);\n",
    "   fPositionX[i] = h->GetBinCenter(bin);\n",
    "   fPositionY[i] = h->GetBinContent(bin);\n",
    "}\n",
    "TPolyMarker * pm = (TPolyMarker*)h->GetListOfFunctions()->FindObject(\"TPolyMarker\");\n",
    "if (pm) {\n",
    "   h->GetListOfFunctions()->Remove(pm);\n",
    "   delete pm;\n",
    "}\n",
    "pm = new TPolyMarker(nfound, fPositionX, fPositionY);\n",
    "h->GetListOfFunctions()->Add(pm);\n",
    "pm->SetMarkerStyle(23);\n",
    "pm->SetMarkerColor(kRed);\n",
    "pm->SetMarkerSize(1.3);\n",
    "\n",
    "h->Draw(\"L\");\n",
    "\n",
    "for (i = 0; i < nbins; i++) d1->SetBinContent(i + 1,dest[i]);\n",
    "d1->SetLineColor(kRed);\n",
    "d1->Draw(\"SAME\");\n",
    "\n",
    "for (i = 0; i < nbins; i++) source[i]=h->GetBinContent(i + 1);\n",
    "s->SearchHighRes(source, dest, nbins, 8, 2, kTRUE, 10, kTRUE, 3);\n",
    "for (i = 0; i < nbins; i++) d2->SetBinContent(i + 1,dest[i]);\n",
    "d2->SetLineColor(kBlue);\n",
    "d2->Draw(\"SAME\");\n",
    "\n",
    "for (i = 0; i < nbins; i++) source[i]=h->GetBinContent(i + 1);\n",
    "s->SearchHighRes(source, dest, nbins, 8, 2, kTRUE, 100, kTRUE, 3);\n",
    "for (i = 0; i < nbins; i++) d3->SetBinContent(i + 1,dest[i]);\n",
    "d3->SetLineColor(kGreen);\n",
    "d3->Draw(\"SAME\");\n",
    "\n",
    "for (i = 0; i < nbins; i++) source[i]=h->GetBinContent(i + 1);\n",
    "s->SearchHighRes(source, dest, nbins, 8, 2, kTRUE, 1000, kTRUE, 3);\n",
    "for (i = 0; i < nbins; i++) d4->SetBinContent(i + 1,dest[i]);\n",
    "d4->SetLineColor(kMagenta);\n",
    "d4->Draw(\"SAME\");\n",
    "\n",
    "printf(\"Found %d candidate peaks\\n\",nfound);"
   ]
  },
  {
   "cell_type": "markdown",
   "metadata": {},
   "source": [
    "Draw all canvases "
   ]
  },
  {
   "cell_type": "code",
   "execution_count": 2,
   "metadata": {
    "collapsed": false
   },
   "outputs": [
    {
     "data": {
      "image/png": "[encoded data removed]",
      "text/plain": [
       "<IPython.core.display.Image object>"
      ]
     },
     "metadata": {},
     "output_type": "display_data"
    }
   ],
   "source": [
    "gROOT->GetListOfCanvases()->Draw()"
   ]
  }
 ],
 "metadata": {
  "kernelspec": {
   "display_name": "ROOT C++",
   "language": "c++",
   "name": "root"
  },
  "language_info": {
   "codemirror_mode": "text/x-c++src",
   "file_extension": ".C",
   "mimetype": " text/x-c++src",
   "name": "c++"
  }
 },
 "nbformat": 4,
 "nbformat_minor": 2
}
