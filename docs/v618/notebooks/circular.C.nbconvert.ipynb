{
 "cells": [
  {
   "cell_type": "markdown",
   "metadata": {},
   "source": [
    "# Circular\n",
    "Example of a circular Tree\n",
    "\n",
    "Circular Trees are interesting in online real time environments\n",
    "to store the results of the last maxEntries events.\n",
    "for more info, see TTree::SetCircular.\n",
    "Circular trees must be memory resident.\n",
    "\n",
    "\n",
    "\n",
    "\n",
    "**Author:** Rene Brun  \n",
    "<i><small>This notebook tutorial was automatically generated with <a href= \"https://github.com/root-project/root/blob/master/documentation/doxygen/converttonotebook.py\">ROOTBOOK-izer</a> from the macro found in the ROOT repository  on Thursday, August 29, 2019 at 03:53 AM.</small></i>"
   ]
  },
  {
   "cell_type": "code",
   "execution_count": 1,
   "metadata": {
    "collapsed": false
   },
   "outputs": [
    {
     "name": "stdout",
     "output_type": "stream",
     "text": [
      "******************************************************************************\n",
      "*Tree    :T         : test circular buffers                                  *\n",
      "*Entries :    18977 : Total =          420932 bytes  File  Size =          0 *\n",
      "*        :          : Tree compression factor =   1.00                       *\n",
      "******************************************************************************\n",
      "*Br    0 :px        : px/F                                                   *\n",
      "*Entries :    18977 : Total  Size=      76529 bytes  One basket in memory    *\n",
      "*Baskets :        0 : Basket Size=      32000 bytes  Compression=   1.00     *\n",
      "*............................................................................*\n",
      "*Br    1 :py        : px/F                                                   *\n",
      "*Entries :    18977 : Total  Size=      76529 bytes  One basket in memory    *\n",
      "*Baskets :        0 : Basket Size=      32000 bytes  Compression=   1.00     *\n",
      "*............................................................................*\n",
      "*Br    2 :pz        : px/F                                                   *\n",
      "*Entries :    18977 : Total  Size=      76529 bytes  One basket in memory    *\n",
      "*Baskets :        0 : Basket Size=      32000 bytes  Compression=   1.00     *\n",
      "*............................................................................*\n",
      "*Br    3 :random    : random/D                                               *\n",
      "*Entries :    18977 : Total  Size=     152469 bytes  One basket in memory    *\n",
      "*Baskets :        0 : Basket Size=      32000 bytes  Compression=   1.00     *\n",
      "*............................................................................*\n",
      "*Br    4 :i         : i/s                                                    *\n",
      "*Entries :    18977 : Total  Size=      38565 bytes  One basket in memory    *\n",
      "*Baskets :        0 : Basket Size=      32000 bytes  Compression=   1.00     *\n",
      "*............................................................................*\n"
     ]
    }
   ],
   "source": [
    "auto T = new TTree(\"T\",\"test circular buffers\");\n",
    "TRandom r;\n",
    "Float_t px,py,pz;\n",
    "Double_t randomNum;\n",
    "UShort_t i;\n",
    "T->Branch(\"px\",&px,\"px/F\");\n",
    "T->Branch(\"py\",&py,\"px/F\");\n",
    "T->Branch(\"pz\",&pz,\"px/F\");\n",
    "T->Branch(\"random\",&randomNum,\"random/D\");\n",
    "T->Branch(\"i\",&i,\"i/s\");\n",
    "T->SetCircular(20000); //keep a maximum of 20000 entries in memory\n",
    "for (i = 0; i < 65000; i++) {\n",
    "   r.Rannor(px,py);\n",
    "   pz = px*px + py*py;\n",
    "   randomNum = r.Rndm();\n",
    "   T->Fill();\n",
    "}\n",
    "T->Print();"
   ]
  }
 ],
 "metadata": {
  "kernelspec": {
   "display_name": "ROOT C++",
   "language": "c++",
   "name": "root"
  },
  "language_info": {
   "codemirror_mode": "text/x-c++src",
   "file_extension": ".C",
   "mimetype": " text/x-c++src",
   "name": "c++"
  }
 },
 "nbformat": 4,
 "nbformat_minor": 2
}
