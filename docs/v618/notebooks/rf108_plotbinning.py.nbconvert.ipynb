{
 "cells": [
  {
   "cell_type": "markdown",
   "metadata": {},
   "source": [
    "# Rf 1 0 8_Plotbinning\n",
    "Basic functionality: plotting unbinned data with alternate and variable binnings\n",
    "\n",
    "\n",
    "\n",
    "\n",
    "**Author:** Clemens Lange, Wouter Verkerke (C++ version)  \n",
    "<i><small>This notebook tutorial was automatically generated with <a href= \"https://github.com/root-project/root/blob/master/documentation/doxygen/converttonotebook.py\">ROOTBOOK-izer</a> from the macro found in the ROOT repository  on Thursday, August 29, 2019 at 02:41 AM.</small></i>"
   ]
  },
  {
   "cell_type": "code",
   "execution_count": 1,
   "metadata": {
    "collapsed": false
   },
   "outputs": [
    {
     "name": "stdout",
     "output_type": "stream",
     "text": [
      "Welcome to JupyROOT 6.18/03\n"
     ]
    }
   ],
   "source": [
    "import ROOT"
   ]
  },
  {
   "cell_type": "markdown",
   "metadata": {},
   "source": [
    "Set up model\n",
    "---------------------"
   ]
  },
  {
   "cell_type": "markdown",
   "metadata": {},
   "source": [
    "Build a B decay p.d.f with mixing"
   ]
  },
  {
   "cell_type": "code",
   "execution_count": 2,
   "metadata": {
    "collapsed": false
   },
   "outputs": [
    {
     "data": {
      "text/plain": [
       "False"
      ]
     },
     "execution_count": 2,
     "metadata": {},
     "output_type": "execute_result"
    },
    {
     "name": "stdout",
     "output_type": "stream",
     "text": [
      "\n",
      "\u001b[1mRooFit v3.60 -- Developed by Wouter Verkerke and David Kirkby\u001b[0m \n",
      "                Copyright (C) 2000-2013 NIKHEF, University of California & Stanford University\n",
      "                All rights reserved, please read http://roofit.sourceforge.net/license.txt\n",
      "\n"
     ]
    }
   ],
   "source": [
    "dt = ROOT.RooRealVar(\"dt\", \"dt\", -20, 20)\n",
    "dm = ROOT.RooRealVar(\"dm\", \"dm\", 0.472)\n",
    "tau = ROOT.RooRealVar(\"tau\", \"tau\", 1.547)\n",
    "w = ROOT.RooRealVar(\"w\", \"mistag rate\", 0.1)\n",
    "dw = ROOT.RooRealVar(\"dw\", \"delta mistag rate\", 0.)\n",
    "\n",
    "mixState = ROOT.RooCategory(\"mixState\", \"B0/B0bar mixing state\")\n",
    "mixState.defineType(\"mixed\", -1)\n",
    "mixState.defineType(\"unmixed\", 1)\n",
    "tagFlav = ROOT.RooCategory(\"tagFlav\", \"Flavour of the tagged B0\")\n",
    "tagFlav.defineType(\"B0\", 1)\n",
    "tagFlav.defineType(\"B0bar\", -1)"
   ]
  },
  {
   "cell_type": "markdown",
   "metadata": {},
   "source": [
    "Build a gaussian resolution model"
   ]
  },
  {
   "cell_type": "code",
   "execution_count": 3,
   "metadata": {
    "collapsed": false
   },
   "outputs": [],
   "source": [
    "dterr = ROOT.RooRealVar(\"dterr\", \"dterr\", 0.1, 1.0)\n",
    "bias1 = ROOT.RooRealVar(\"bias1\", \"bias1\", 0)\n",
    "sigma1 = ROOT.RooRealVar(\"sigma1\", \"sigma1\", 0.1)\n",
    "gm1 = ROOT.RooGaussModel(\"gm1\", \"gauss model 1\", dt, bias1, sigma1)"
   ]
  },
  {
   "cell_type": "markdown",
   "metadata": {},
   "source": [
    "Construct Bdecay (x) gauss"
   ]
  },
  {
   "cell_type": "code",
   "execution_count": 4,
   "metadata": {
    "collapsed": false
   },
   "outputs": [],
   "source": [
    "bmix = ROOT.RooBMixDecay(\"bmix\", \"decay\", dt, mixState, tagFlav,\n",
    "                         tau, dm, w, dw, gm1, ROOT.RooBMixDecay.DoubleSided)"
   ]
  },
  {
   "cell_type": "markdown",
   "metadata": {},
   "source": [
    "Sample data from model\n",
    "--------------------------------------------"
   ]
  },
  {
   "cell_type": "markdown",
   "metadata": {},
   "source": [
    "Sample 2000 events in (dt,mixState,tagFlav) from bmix"
   ]
  },
  {
   "cell_type": "code",
   "execution_count": 5,
   "metadata": {
    "collapsed": false
   },
   "outputs": [],
   "source": [
    "data = bmix.generate(ROOT.RooArgSet(dt, mixState, tagFlav), 2000)"
   ]
  },
  {
   "cell_type": "markdown",
   "metadata": {},
   "source": [
    "Show dt distribution with custom binning\n",
    "-------------------------------------------------------------------------------"
   ]
  },
  {
   "cell_type": "markdown",
   "metadata": {},
   "source": [
    "Make plot of dt distribution of data in range (-15,15) with fine binning\n",
    "for dt>0 and coarse binning for dt<0"
   ]
  },
  {
   "cell_type": "markdown",
   "metadata": {},
   "source": [
    "Create binning object with range (-15,15)"
   ]
  },
  {
   "cell_type": "code",
   "execution_count": 6,
   "metadata": {
    "collapsed": false
   },
   "outputs": [],
   "source": [
    "tbins = ROOT.RooBinning(-15, 15)"
   ]
  },
  {
   "cell_type": "markdown",
   "metadata": {},
   "source": [
    "Add 60 bins with uniform spacing in range (-15,0)"
   ]
  },
  {
   "cell_type": "code",
   "execution_count": 7,
   "metadata": {
    "collapsed": false
   },
   "outputs": [],
   "source": [
    "tbins.addUniform(60, -15, 0)"
   ]
  },
  {
   "cell_type": "markdown",
   "metadata": {},
   "source": [
    "Add 15 bins with uniform spacing in range (0,15)"
   ]
  },
  {
   "cell_type": "code",
   "execution_count": 8,
   "metadata": {
    "collapsed": false
   },
   "outputs": [],
   "source": [
    "tbins.addUniform(15, 0, 15)"
   ]
  },
  {
   "cell_type": "markdown",
   "metadata": {},
   "source": [
    "Make plot with specified binning"
   ]
  },
  {
   "cell_type": "code",
   "execution_count": 9,
   "metadata": {
    "collapsed": false
   },
   "outputs": [
    {
     "data": {
      "text/plain": [
       "<ROOT.RooPlot object (\"frame_dt_55ecf870ea00\") at 0x55ecf870ea00>"
      ]
     },
     "execution_count": 9,
     "metadata": {},
     "output_type": "execute_result"
    },
    {
     "name": "stdout",
     "output_type": "stream",
     "text": [
      "[#1] INFO:Plotting -- RooAbsReal::plotOn(bmix) plot on dt integrates over variables (mixState,tagFlav)\n"
     ]
    }
   ],
   "source": [
    "dtframe = dt.frame(ROOT.RooFit.Range(-15, 15),\n",
    "                   ROOT.RooFit.Title(\"dt distribution with custom binning\"))\n",
    "data.plotOn(dtframe, ROOT.RooFit.Binning(tbins))\n",
    "bmix.plotOn(dtframe)"
   ]
  },
  {
   "cell_type": "markdown",
   "metadata": {},
   "source": [
    "NB: Note that bin density for each bin is adjusted to that of default frame binning as shown\n",
    "in Y axis label (100 bins -. Events/0.4*Xaxis-dim) so that all bins\n",
    "represent a consistent density distribution"
   ]
  },
  {
   "cell_type": "markdown",
   "metadata": {},
   "source": [
    "Show mixstate asymmetry with custom binning\n",
    "------------------------------------------------------------------------------------"
   ]
  },
  {
   "cell_type": "markdown",
   "metadata": {},
   "source": [
    "Make plot of dt distribution of data asymmetry in 'mixState' with\n",
    "variable binning"
   ]
  },
  {
   "cell_type": "markdown",
   "metadata": {},
   "source": [
    "Create binning object with range (-10,10)"
   ]
  },
  {
   "cell_type": "code",
   "execution_count": 10,
   "metadata": {
    "collapsed": false
   },
   "outputs": [],
   "source": [
    "abins = ROOT.RooBinning(-10, 10)"
   ]
  },
  {
   "cell_type": "markdown",
   "metadata": {},
   "source": [
    "Add boundaries at 0, (-1,1), (-2,2), (-3,3), (-4,4) and (-6,6)"
   ]
  },
  {
   "cell_type": "code",
   "execution_count": 11,
   "metadata": {
    "collapsed": false
   },
   "outputs": [],
   "source": [
    "abins.addBoundary(0)\n",
    "abins.addBoundaryPair(1)\n",
    "abins.addBoundaryPair(2)\n",
    "abins.addBoundaryPair(3)\n",
    "abins.addBoundaryPair(4)\n",
    "abins.addBoundaryPair(6)"
   ]
  },
  {
   "cell_type": "markdown",
   "metadata": {},
   "source": [
    "Create plot frame in dt"
   ]
  },
  {
   "cell_type": "code",
   "execution_count": 12,
   "metadata": {
    "collapsed": false
   },
   "outputs": [],
   "source": [
    "aframe = dt.frame(ROOT.RooFit.Range(-10, 10), ROOT.RooFit.Title(\n",
    "    \"mixState asymmetry distribution with custom binning\"))"
   ]
  },
  {
   "cell_type": "markdown",
   "metadata": {},
   "source": [
    "Plot mixState asymmetry of data with specified customg binning"
   ]
  },
  {
   "cell_type": "code",
   "execution_count": 13,
   "metadata": {
    "collapsed": false
   },
   "outputs": [
    {
     "data": {
      "text/plain": [
       "<ROOT.RooPlot object (\"frame_dt_55ecf9124860\") at 0x55ecf9124860>"
      ]
     },
     "execution_count": 13,
     "metadata": {},
     "output_type": "execute_result"
    }
   ],
   "source": [
    "data.plotOn(aframe, ROOT.RooFit.Asymmetry(\n",
    "    mixState), ROOT.RooFit.Binning(abins))"
   ]
  },
  {
   "cell_type": "markdown",
   "metadata": {},
   "source": [
    "Plot corresponding property of p.d.f"
   ]
  },
  {
   "cell_type": "code",
   "execution_count": 14,
   "metadata": {
    "collapsed": false
   },
   "outputs": [
    {
     "data": {
      "text/plain": [
       "<ROOT.RooPlot object (\"frame_dt_55ecf9124860\") at 0x55ecf9124860>"
      ]
     },
     "execution_count": 14,
     "metadata": {},
     "output_type": "execute_result"
    },
    {
     "name": "stdout",
     "output_type": "stream",
     "text": [
      "[#1] INFO:Plotting -- RooAbsReal::plotAsymOn(bmix) plot on dt projects variables (tagFlav)\n"
     ]
    }
   ],
   "source": [
    "bmix.plotOn(aframe, ROOT.RooFit.Asymmetry(mixState))"
   ]
  },
  {
   "cell_type": "markdown",
   "metadata": {},
   "source": [
    "Adjust vertical range of plot to sensible values for an asymmetry"
   ]
  },
  {
   "cell_type": "code",
   "execution_count": 15,
   "metadata": {
    "collapsed": false
   },
   "outputs": [],
   "source": [
    "aframe.SetMinimum(-1.1)\n",
    "aframe.SetMaximum(1.1)"
   ]
  },
  {
   "cell_type": "markdown",
   "metadata": {},
   "source": [
    "NB: For asymmetry distributions no density corrects are needed (and are\n",
    "thus not applied)"
   ]
  },
  {
   "cell_type": "markdown",
   "metadata": {},
   "source": [
    "Draw plots on canvas"
   ]
  },
  {
   "cell_type": "code",
   "execution_count": 16,
   "metadata": {
    "collapsed": false
   },
   "outputs": [
    {
     "name": "stderr",
     "output_type": "stream",
     "text": [
      "Info in <TCanvas::Print>: png file rf108_plotbinning.png has been created\n"
     ]
    }
   ],
   "source": [
    "c = ROOT.TCanvas(\"rf108_plotbinning\", \"rf108_plotbinning\", 800, 400)\n",
    "c.Divide(2)\n",
    "c.cd(1)\n",
    "ROOT.gPad.SetLeftMargin(0.15)\n",
    "dtframe.GetYaxis().SetTitleOffset(1.6)\n",
    "dtframe.Draw()\n",
    "c.cd(2)\n",
    "ROOT.gPad.SetLeftMargin(0.15)\n",
    "aframe.GetYaxis().SetTitleOffset(1.6)\n",
    "aframe.Draw()\n",
    "\n",
    "c.SaveAs(\"rf108_plotbinning.png\")"
   ]
  },
  {
   "cell_type": "markdown",
   "metadata": {},
   "source": [
    "Draw all canvases "
   ]
  },
  {
   "cell_type": "code",
   "execution_count": 17,
   "metadata": {
    "collapsed": false
   },
   "outputs": [
    {
     "data": {
      "image/png": "[encoded data removed]",
      "text/plain": [
       "<IPython.core.display.Image object>"
      ]
     },
     "metadata": {},
     "output_type": "display_data"
    }
   ],
   "source": [
    "from ROOT import gROOT \n",
    "gROOT.GetListOfCanvases().Draw()"
   ]
  }
 ],
 "metadata": {
  "kernelspec": {
   "display_name": "Python 2",
   "language": "python",
   "name": "python2"
  },
  "language_info": {
   "codemirror_mode": {
    "name": "ipython",
    "version": 2
   },
   "file_extension": ".py",
   "mimetype": "text/x-python",
   "name": "python",
   "nbconvert_exporter": "python",
   "pygments_lexer": "ipython2",
   "version": "2.7.10"
  }
 },
 "nbformat": 4,
 "nbformat_minor": 2
}
