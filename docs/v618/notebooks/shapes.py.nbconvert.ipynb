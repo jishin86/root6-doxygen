{
 "cells": [
  {
   "cell_type": "markdown",
   "metadata": {},
   "source": [
    "# Shapes\n",
    " Draw the geometry using the x3d viewver.\n",
    " Note that this viewver may also be invoked from the \"View\" menu in\n",
    " the canvas tool bar\n",
    "\n",
    "once in x3d viewer, type m to see the menu.\n",
    "For example typing r will show a solid model of this geometry.\n",
    "\n",
    "\n",
    "\n",
    "\n",
    "**Author:** Wim Lavrijsen  \n",
    "<i><small>This notebook tutorial was automatically generated with <a href= \"https://github.com/root-project/root/blob/master/documentation/doxygen/converttonotebook.py\">ROOTBOOK-izer</a> from the macro found in the ROOT repository  on Thursday, August 29, 2019 at 02:30 AM.</small></i>"
   ]
  },
  {
   "cell_type": "code",
   "execution_count": 1,
   "metadata": {
    "collapsed": false
   },
   "outputs": [
    {
     "name": "stdout",
     "output_type": "stream",
     "text": [
      "Welcome to JupyROOT 6.18/03\n"
     ]
    }
   ],
   "source": [
    "import ROOT\n",
    "\n",
    "c1 = ROOT.TCanvas( 'c1', 'Geometry Shapes', 200, 10, 700, 500 )"
   ]
  },
  {
   "cell_type": "markdown",
   "metadata": {},
   "source": [
    "delete previous geometry objects in case this script is reexecuted"
   ]
  },
  {
   "cell_type": "code",
   "execution_count": 2,
   "metadata": {
    "collapsed": false
   },
   "outputs": [],
   "source": [
    "if hasattr(ROOT, 'gGeometry') and ROOT.gGeometry:\n",
    "   ROOT.gGeometry.GetListOfNodes().Delete()\n",
    "   ROOT.gGeometry.GetListOfShapes().Delete()"
   ]
  },
  {
   "cell_type": "markdown",
   "metadata": {},
   "source": [
    " Define some volumes"
   ]
  },
  {
   "cell_type": "code",
   "execution_count": 3,
   "metadata": {
    "collapsed": false
   },
   "outputs": [],
   "source": [
    "brik = ROOT.TBRIK( 'BRIK', 'BRIK', 'void', 200, 150, 150 )\n",
    "trd1 = ROOT.TTRD1( 'TRD1', 'TRD1', 'void', 200, 50, 100, 100 )\n",
    "trd2 = ROOT.TTRD2( 'TRD2', 'TRD2', 'void', 200, 50, 200, 50, 100 )\n",
    "trap = ROOT.TTRAP( 'TRAP', 'TRAP', 'void', 190, 0, 0, 60, 40, 90, 15, 120, 80, 180, 15 )\n",
    "para = ROOT.TPARA( 'PARA', 'PARA', 'void', 100, 200, 200, 15, 30, 30 )\n",
    "gtra = ROOT.TGTRA( 'GTRA', 'GTRA', 'void', 390, 0, 0, 20, 60, 40, 90, 15, 120, 80, 180, 15 )\n",
    "tube = ROOT.TTUBE( 'TUBE', 'TUBE', 'void', 150, 200, 400 )\n",
    "tubs = ROOT.TTUBS( 'TUBS', 'TUBS', 'void', 80, 100, 100, 90, 235 )\n",
    "cone = ROOT.TCONE( 'CONE', 'CONE', 'void', 100, 50, 70, 120, 150 )\n",
    "cons = ROOT.TCONS( 'CONS', 'CONS', 'void', 50, 100, 100, 200, 300, 90, 270 )\n",
    "sphe  = ROOT.TSPHE( 'SPHE',  'SPHE',  'void', 25, 340, 45, 135,  0, 270 )\n",
    "sphe1 = ROOT.TSPHE( 'SPHE1', 'SPHE1', 'void',  0, 140,  0, 180,  0, 360 )\n",
    "sphe2 = ROOT.TSPHE( 'SPHE2', 'SPHE2', 'void',  0, 200, 10, 120, 45, 145 )\n",
    "\n",
    "pcon = ROOT.TPCON( 'PCON', 'PCON', 'void', 180, 270, 4 )\n",
    "pcon.DefineSection( 0, -200, 50, 100 )\n",
    "pcon.DefineSection( 1,  -50, 50,  80 )\n",
    "pcon.DefineSection( 2,   50, 50,  80 )\n",
    "pcon.DefineSection( 3,  200, 50, 100 )\n",
    "\n",
    "pgon = ROOT.TPGON( 'PGON', 'PGON', 'void', 180, 270, 8, 4 )\n",
    "pgon.DefineSection( 0, -200, 50, 100 )\n",
    "pgon.DefineSection( 1,  -50, 50,  80 )\n",
    "pgon.DefineSection( 2,   50, 50,  80 )\n",
    "pgon.DefineSection( 3,  200, 50, 100 )"
   ]
  },
  {
   "cell_type": "markdown",
   "metadata": {},
   "source": [
    " Set shapes attributes"
   ]
  },
  {
   "cell_type": "code",
   "execution_count": 4,
   "metadata": {
    "collapsed": false
   },
   "outputs": [],
   "source": [
    "brik.SetLineColor( 1 )\n",
    "trd1.SetLineColor( 2 )\n",
    "trd2.SetLineColor( 3 )\n",
    "trap.SetLineColor( 4 )\n",
    "para.SetLineColor( 5 )\n",
    "gtra.SetLineColor( 7 )\n",
    "tube.SetLineColor( 6 )\n",
    "tubs.SetLineColor( 7 )\n",
    "cone.SetLineColor( 2 )\n",
    "cons.SetLineColor( 3 )\n",
    "pcon.SetLineColor( 6 )\n",
    "pgon.SetLineColor( 2 )\n",
    "sphe.SetLineColor( ROOT.kRed )\n",
    "sphe1.SetLineColor( ROOT.kBlack )\n",
    "sphe2.SetLineColor( ROOT.kBlue )"
   ]
  },
  {
   "cell_type": "markdown",
   "metadata": {},
   "source": [
    " Build the geometry hierarchy"
   ]
  },
  {
   "cell_type": "code",
   "execution_count": 5,
   "metadata": {
    "collapsed": false
   },
   "outputs": [],
   "source": [
    "node1 = ROOT.TNode( 'NODE1', 'NODE1', 'BRIK' )\n",
    "node1.cd()\n",
    "\n",
    "node2  = ROOT.TNode(  'NODE2',  'NODE2', 'TRD1',     0,     0, -1000 )\n",
    "node3  = ROOT.TNode(  'NODE3',  'NODE3', 'TRD2',     0,     0,  1000 )\n",
    "node4  = ROOT.TNode(  'NODE4',  'NODE4', 'TRAP',     0, -1000,     0 )\n",
    "node5  = ROOT.TNode(  'NODE5',  'NODE5', 'PARA',     0,  1000,     0 )\n",
    "node6  = ROOT.TNode(  'NODE6',  'NODE6', 'TUBE', -1000,     0,     0 )\n",
    "node7  = ROOT.TNode(  'NODE7',  'NODE7', 'TUBS',  1000,     0,     0 )\n",
    "node8  = ROOT.TNode(  'NODE8',  'NODE8', 'CONE',  -300,  -300,     0 )\n",
    "node9  = ROOT.TNode(  'NODE9',  'NODE9', 'CONS',   300,   300,     0 )\n",
    "node10 = ROOT.TNode( 'NODE10', 'NODE10', 'PCON',     0, -1000, -1000 )\n",
    "node11 = ROOT.TNode( 'NODE11', 'NODE11', 'PGON',     0,  1000,  1000 )\n",
    "node12 = ROOT.TNode( 'NODE12', 'NODE12', 'GTRA',     0,  -400,   700 )\n",
    "node13 = ROOT.TNode( 'NODE13', 'NODE13', 'SPHE',    10,  -400,   500 )\n",
    "node14 = ROOT.TNode( 'NODE14', 'NODE14', 'SPHE1',   10,   250,   300 )\n",
    "node15 = ROOT.TNode( 'NODE15', 'NODE15', 'SPHE2',   10,  -100,  -200 )"
   ]
  },
  {
   "cell_type": "markdown",
   "metadata": {},
   "source": [
    "for memory management"
   ]
  },
  {
   "cell_type": "code",
   "execution_count": 6,
   "metadata": {
    "collapsed": false
   },
   "outputs": [],
   "source": [
    "list_of_locals = dict(locals())\n",
    "for l, o in list_of_locals.items():\n",
    "   if isinstance( o, ROOT.TShape ) or isinstance( o, ROOT.TNode ):\n",
    "      ROOT.SetOwnership( o, False )"
   ]
  },
  {
   "cell_type": "markdown",
   "metadata": {},
   "source": [
    "Draw this geometry in the current canvas"
   ]
  },
  {
   "cell_type": "code",
   "execution_count": 7,
   "metadata": {
    "collapsed": false
   },
   "outputs": [],
   "source": [
    "node1.cd()\n",
    "node1.Draw( 'gl' )\n",
    "c1.Update()"
   ]
  },
  {
   "cell_type": "markdown",
   "metadata": {},
   "source": [
    "Draw all canvases "
   ]
  },
  {
   "cell_type": "code",
   "execution_count": 8,
   "metadata": {
    "collapsed": false
   },
   "outputs": [
    {
     "data": {
      "image/png": "[encoded data removed]",
      "text/plain": [
       "<IPython.core.display.Image object>"
      ]
     },
     "metadata": {},
     "output_type": "display_data"
    }
   ],
   "source": [
    "from ROOT import gROOT \n",
    "gROOT.GetListOfCanvases().Draw()"
   ]
  }
 ],
 "metadata": {
  "kernelspec": {
   "display_name": "Python 2",
   "language": "python",
   "name": "python2"
  },
  "language_info": {
   "codemirror_mode": {
    "name": "ipython",
    "version": 2
   },
   "file_extension": ".py",
   "mimetype": "text/x-python",
   "name": "python",
   "nbconvert_exporter": "python",
   "pygments_lexer": "ipython2",
   "version": "2.7.10"
  }
 },
 "nbformat": 4,
 "nbformat_minor": 2
}
