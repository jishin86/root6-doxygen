{
 "cells": [
  {
   "cell_type": "markdown",
   "metadata": {},
   "source": [
    "# Df 0 0 1_Introduction\n",
    "This tutorial illustrates the basic features of the RDataFrame class,\n",
    "a utility which allows to interact with data stored in TTrees following\n",
    "a functional-chain like approach.\n",
    "\n",
    "\n",
    "\n",
    "\n",
    "**Author:** Enrico Guiraud  \n",
    "<i><small>This notebook tutorial was automatically generated with <a href= \"https://github.com/root-project/root/blob/master/documentation/doxygen/converttonotebook.py\">ROOTBOOK-izer</a> from the macro found in the ROOT repository  on Thursday, August 29, 2019 at 12:55 AM.</small></i>"
   ]
  },
  {
   "cell_type": "markdown",
   "metadata": {},
   "source": [
    " ## Preparation"
   ]
  },
  {
   "cell_type": "markdown",
   "metadata": {},
   "source": [
    "  A simple helper function to fill a test tree: this makes the example\n",
    " stand-alone.\n",
    " "
   ]
  },
  {
   "cell_type": "code",
   "execution_count": null,
   "metadata": {
    "collapsed": false
   },
   "outputs": [],
   "source": [
    "%%cpp -d\n",
    "void fill_tree(const char *treeName, const char *fileName)\n",
    "{\n",
    "   ROOT::RDataFrame d(10);\n",
    "   int i(0);\n",
    "   d.Define(\"b1\", [&i]() { return (double)i; })\n",
    "      .Define(\"b2\",\n",
    "              [&i]() {\n",
    "                 auto j = i * i;\n",
    "                 ++i;\n",
    "                 return j;\n",
    "              })\n",
    "      .Snapshot(treeName, fileName);\n",
    "}"
   ]
  },
  {
   "cell_type": "markdown",
   "metadata": {},
   "source": [
    "We prepare an input tree to run on"
   ]
  },
  {
   "cell_type": "code",
   "execution_count": null,
   "metadata": {
    "collapsed": false
   },
   "outputs": [],
   "source": [
    "auto fileName = \"df001_introduction.root\";\n",
    "auto treeName = \"myTree\";\n",
    "fill_tree(treeName, fileName);"
   ]
  },
  {
   "cell_type": "markdown",
   "metadata": {},
   "source": [
    "We read the tree from the file and create a rdataframe, a class that\n",
    " allows us to interact with the data contained in the tree.\n",
    " We select a default column, a *branch* to adopt ROOT jargon, which will\n",
    " be looked at if none is specified by the user when dealing with filters\n",
    " and actions."
   ]
  },
  {
   "cell_type": "code",
   "execution_count": null,
   "metadata": {
    "collapsed": false
   },
   "outputs": [],
   "source": [
    "ROOT::RDataFrame d(treeName, fileName, {\"b1\"});"
   ]
  },
  {
   "cell_type": "markdown",
   "metadata": {},
   "source": [
    " ## Operations on the dataframe\n",
    " We now review some *actions* which can be performed on the data frame.\n",
    " All actions but ForEach return a TActionResultPtr<T>. The series of\n",
    " operations on the data frame is not executed until one of those pointers\n",
    " is accessed. If the Foreach action is invoked, the execution is immediate.\n",
    " But first of all, let us we define now our cut-flow with two lambda\n",
    " functions. We can use free functions too."
   ]
  },
  {
   "cell_type": "code",
   "execution_count": null,
   "metadata": {
    "collapsed": false
   },
   "outputs": [],
   "source": [
    "auto cutb1 = [](double b1) { return b1 < 5.; };\n",
    "auto cutb1b2 = [](int b2, double b1) { return b2 % 2 && b1 < 4.; };"
   ]
  },
  {
   "cell_type": "markdown",
   "metadata": {},
   "source": [
    " ### `Count` action\n",
    " The `Count` allows to retrieve the number of the entries that passed the\n",
    " filters. Here we show how the automatic selection of the column kicks\n",
    " in in case the user specifies none."
   ]
  },
  {
   "cell_type": "code",
   "execution_count": null,
   "metadata": {
    "collapsed": false
   },
   "outputs": [],
   "source": [
    "auto entries1 = d.Filter(cutb1) // <- no column name specified here!\n",
    "                   .Filter(cutb1b2, {\"b2\", \"b1\"})\n",
    "                   .Count();\n",
    "\n",
    "std::cout << *entries1 << \" entries passed all filters\" << std::endl;"
   ]
  },
  {
   "cell_type": "markdown",
   "metadata": {},
   "source": [
    "Filters can be expressed as strings. the content must be c++ code. the\n",
    " name of the variables must be the name of the branches. The code is\n",
    " just in time compiled."
   ]
  },
  {
   "cell_type": "code",
   "execution_count": null,
   "metadata": {
    "collapsed": false
   },
   "outputs": [],
   "source": [
    "auto entries2 = d.Filter(\"b1 < 5.\").Count();\n",
    "std::cout << *entries2 << \" entries passed the string filter\" << std::endl;"
   ]
  },
  {
   "cell_type": "markdown",
   "metadata": {},
   "source": [
    " ### `Min`, `Max` and `Mean` actions\n",
    " These actions allow to retrieve statistical information about the entries\n",
    " passing the cuts, if any."
   ]
  },
  {
   "cell_type": "code",
   "execution_count": null,
   "metadata": {
    "collapsed": false
   },
   "outputs": [],
   "source": [
    "auto b1b2_cut = d.Filter(cutb1b2, {\"b2\", \"b1\"});\n",
    "auto minVal = b1b2_cut.Min();\n",
    "auto maxVal = b1b2_cut.Max();\n",
    "auto meanVal = b1b2_cut.Mean();\n",
    "auto nonDefmeanVal = b1b2_cut.Mean(\"b2\"); // <- Column is not the default\n",
    "std::cout << \"The mean is always included between the min and the max: \" << *minVal << \" <= \" << *meanVal\n",
    "          << \" <= \" << *maxVal << std::endl;"
   ]
  },
  {
   "cell_type": "markdown",
   "metadata": {},
   "source": [
    " ### `Take` action\n",
    " The `Take` action allows to retrieve all values of the variable stored in a\n",
    " particular column that passed filters we specified. The values are stored\n",
    " in a list by default, but other collections can be chosen."
   ]
  },
  {
   "cell_type": "code",
   "execution_count": null,
   "metadata": {
    "collapsed": false
   },
   "outputs": [],
   "source": [
    "auto b1_cut = d.Filter(cutb1);\n",
    "auto b1Vec = b1_cut.Take<double>();\n",
    "auto b1List = b1_cut.Take<double, std::list<double>>();\n",
    "\n",
    "std::cout << \"Selected b1 entries\" << std::endl;\n",
    "for (auto b1_entry : *b1List)\n",
    "   std::cout << b1_entry << \" \";\n",
    "std::cout << std::endl;\n",
    "auto b1VecCl = ROOT::GetClass(b1Vec.GetPtr());\n",
    "std::cout << \"The type of b1Vec is \" << b1VecCl->GetName() << std::endl;"
   ]
  },
  {
   "cell_type": "markdown",
   "metadata": {},
   "source": [
    " ### `Histo1D` action\n",
    " The `Histo1D` action allows to fill an histogram. It returns a TH1D filled\n",
    " with values of the column that passed the filters. For the most common\n",
    " types, the type of the values stored in the column is automatically\n",
    " guessed."
   ]
  },
  {
   "cell_type": "code",
   "execution_count": null,
   "metadata": {
    "collapsed": false
   },
   "outputs": [],
   "source": [
    "auto hist = d.Filter(cutb1).Histo1D();\n",
    "std::cout << \"Filled h \" << hist->GetEntries() << \" times, mean: \" << hist->GetMean() << std::endl;"
   ]
  },
  {
   "cell_type": "markdown",
   "metadata": {},
   "source": [
    " ### `Foreach` action\n",
    " The most generic action of all: an operation is applied to all entries.\n",
    " In this case we fill a histogram. In some sense this is a violation of a\n",
    " purely functional paradigm - C++ allows to do that."
   ]
  },
  {
   "cell_type": "code",
   "execution_count": null,
   "metadata": {
    "collapsed": false
   },
   "outputs": [],
   "source": [
    "TH1F h(\"h\", \"h\", 12, -1, 11);\n",
    "d.Filter([](int b2) { return b2 % 2 == 0; }, {\"b2\"}).Foreach([&h](double b1) { h.Fill(b1); });\n",
    "\n",
    "std::cout << \"Filled h with \" << h.GetEntries() << \" entries\" << std::endl;"
   ]
  },
  {
   "cell_type": "markdown",
   "metadata": {},
   "source": [
    " ## Express your chain of operations with clarity!\n",
    " We are discussing an example here but it is not hard to imagine much more\n",
    " complex pipelines of actions acting on data. Those might require code\n",
    " which is well organised, for example allowing to conditionally add filters\n",
    " or again to clearly separate filters and actions without the need of\n",
    " writing the entire pipeline on one line. This can be easily achieved.\n",
    " We'll show this re-working the `Count` example:"
   ]
  },
  {
   "cell_type": "code",
   "execution_count": null,
   "metadata": {
    "collapsed": false
   },
   "outputs": [],
   "source": [
    "auto cutb1_result = d.Filter(cutb1);\n",
    "auto cutb1b2_result = d.Filter(cutb1b2, {\"b2\", \"b1\"});\n",
    "auto cutb1_cutb1b2_result = cutb1_result.Filter(cutb1b2, {\"b2\", \"b1\"});"
   ]
  },
  {
   "cell_type": "markdown",
   "metadata": {},
   "source": [
    "Now we want to count:"
   ]
  },
  {
   "cell_type": "code",
   "execution_count": null,
   "metadata": {
    "collapsed": false
   },
   "outputs": [],
   "source": [
    "auto evts_cutb1_result = cutb1_result.Count();\n",
    "auto evts_cutb1b2_result = cutb1b2_result.Count();\n",
    "auto evts_cutb1_cutb1b2_result = cutb1_cutb1b2_result.Count();\n",
    "\n",
    "std::cout << \"Events passing cutb1: \" << *evts_cutb1_result << std::endl\n",
    "          << \"Events passing cutb1b2: \" << *evts_cutb1b2_result << std::endl\n",
    "          << \"Events passing both: \" << *evts_cutb1_cutb1b2_result << std::endl;"
   ]
  },
  {
   "cell_type": "markdown",
   "metadata": {},
   "source": [
    " ## Calculating quantities starting from existing columns\n",
    " Often, operations need to be carried out on quantities calculated starting\n",
    " from the ones present in the columns. We'll create in this example a third\n",
    " column the values of which are the sum of the *b1* and *b2* ones, entry by\n",
    " entry. The way in which the new quantity is defined is via a runable.\n",
    " It is important to note two aspects at this point:\n",
    " - The value is created on the fly only if the entry passed the existing\n",
    " filters.\n",
    " - The newly created column behaves as the one present on the file on disk.\n",
    " - The operation creates a new value, without modifying anything. De facto,\n",
    " this is like having a general container at disposal able to accommodate\n",
    " any value of any type.\n",
    " Let's dive in an example:"
   ]
  },
  {
   "cell_type": "code",
   "execution_count": null,
   "metadata": {
    "collapsed": false
   },
   "outputs": [],
   "source": [
    "auto entries_sum = d.Define(\"sum\", [](double b1, int b2) { return b2 + b1; }, {\"b1\", \"b2\"})\n",
    "                      .Filter([](double sum) { return sum > 4.2; }, {\"sum\"})\n",
    "                      .Count();\n",
    "std::cout << *entries_sum << std::endl;"
   ]
  },
  {
   "cell_type": "markdown",
   "metadata": {},
   "source": [
    "Additional columns can be expressed as strings. the content must be c++\n",
    " code. The name of the variables must be the name of the branches. The code\n",
    " is just in time compiled."
   ]
  },
  {
   "cell_type": "code",
   "execution_count": null,
   "metadata": {
    "collapsed": false
   },
   "outputs": [],
   "source": [
    "auto entries_sum2 = d.Define(\"sum2\", \"b1 + b2\").Filter(\"sum2 > 4.2\").Count();\n",
    "std::cout << *entries_sum2 << std::endl;"
   ]
  },
  {
   "cell_type": "markdown",
   "metadata": {},
   "source": [
    "It is possible at any moment to read the entry number and the processing\n",
    " slot number. The latter may change when implicit multithreading is active.\n",
    " The special columns which provide the entry number and the slot index are\n",
    " called \"tdfentry_\" and \"tdfslot_\" respectively. Their types are an unsigned\n",
    " 64 bit integer and an unsigned integer."
   ]
  },
  {
   "cell_type": "code",
   "execution_count": null,
   "metadata": {
    "collapsed": false
   },
   "outputs": [],
   "source": [
    "auto printEntrySlot = [](ULong64_t iEntry, unsigned int slot) {\n",
    "   std::cout << \"Entry: \" << iEntry << \" Slot: \" << slot << std::endl;\n",
    "};\n",
    "d.Foreach(printEntrySlot, {\"tdfentry_\", \"tdfslot_\"});\n",
    "\n",
    "return 0;"
   ]
  }
 ],
 "metadata": {
  "kernelspec": {
   "display_name": "ROOT C++",
   "language": "c++",
   "name": "root"
  },
  "language_info": {
   "codemirror_mode": "text/x-c++src",
   "file_extension": ".C",
   "mimetype": " text/x-c++src",
   "name": "c++"
  }
 },
 "nbformat": 4,
 "nbformat_minor": 2
}
