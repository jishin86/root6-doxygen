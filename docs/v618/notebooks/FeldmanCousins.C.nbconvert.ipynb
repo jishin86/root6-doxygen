{
 "cells": [
  {
   "cell_type": "markdown",
   "metadata": {},
   "source": [
    "#  Feldman Cousins\n",
    "Example macro of using the TFeldmanCousins class in root.\n",
    "\n",
    "get a FeldmanCousins calculation object with the default limits\n",
    "of calculating a 90% CL with the minimum signal value scanned\n",
    "= 0.0 and the maximum signal value scanned of 50.0\n",
    "\n",
    "\n",
    "\n",
    "\n",
    "**Author:** Adrian John Bevan <bevan@SLAC.Stanford.EDU>  \n",
    "<i><small>This notebook tutorial was automatically generated with <a href= \"https://github.com/root-project/root/blob/master/documentation/doxygen/converttonotebook.py\">ROOTBOOK-izer</a> from the macro found in the ROOT repository  on Thursday, August 29, 2019 at 02:06 AM.</small></i>"
   ]
  },
  {
   "cell_type": "code",
   "execution_count": 1,
   "metadata": {
    "collapsed": false
   },
   "outputs": [],
   "source": [
    "if (!gROOT->GetClass(\"TFeldmanCousins\"))\n",
    "   R__LOAD_LIBRARY(libPhysics);\n",
    "\n",
    "TFeldmanCousins f;"
   ]
  },
  {
   "cell_type": "markdown",
   "metadata": {},
   "source": [
    "Calculate either the upper or lower limit for 10 observed\n",
    " events with an estimated background of 3.  The calculation of\n",
    " either upper or lower limit will return that limit and fill\n",
    " data members with both the upper and lower limit for you."
   ]
  },
  {
   "cell_type": "code",
   "execution_count": 2,
   "metadata": {
    "collapsed": false
   },
   "outputs": [
    {
     "name": "stdout",
     "output_type": "stream",
     "text": [
      "For 10 data observed with and estimated background\n",
      "of 3 candidates, the Feldman-Cousins method of \n",
      "calculating confidence limits gives:\n",
      "\tUpper Limit = 13.505\n",
      "\tLower Limit = 2.635\n",
      "at the 90% CL\n"
     ]
    }
   ],
   "source": [
    "Double_t Nobserved   = 10.0;\n",
    "Double_t Nbackground = 3.0;\n",
    "\n",
    "Double_t ul = f.CalculateUpperLimit(Nobserved, Nbackground);\n",
    "Double_t ll = f.GetLowerLimit();\n",
    "\n",
    "cout << \"For \" <<  Nobserved << \" data observed with and estimated background\"<<endl;\n",
    "cout << \"of \" << Nbackground << \" candidates, the Feldman-Cousins method of \"<<endl;\n",
    "cout << \"calculating confidence limits gives:\"<<endl;\n",
    "cout << \"\\tUpper Limit = \" <<  ul << endl;\n",
    "cout << \"\\tLower Limit = \" <<  ll << endl;\n",
    "cout << \"at the 90% CL\"<< endl;"
   ]
  }
 ],
 "metadata": {
  "kernelspec": {
   "display_name": "ROOT C++",
   "language": "c++",
   "name": "root"
  },
  "language_info": {
   "codemirror_mode": "text/x-c++src",
   "file_extension": ".C",
   "mimetype": " text/x-c++src",
   "name": "c++"
  }
 },
 "nbformat": 4,
 "nbformat_minor": 2
}
