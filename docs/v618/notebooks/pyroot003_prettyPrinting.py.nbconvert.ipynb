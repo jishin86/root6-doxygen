{
 "cells": [
  {
   "cell_type": "markdown",
   "metadata": {},
   "source": [
    "# Pyroot 0 0 3_Pretty Printing\n",
    "This tutorial illustrates the pretty printing feature of PyROOT, which reveals\n",
    "the content of the object if a string representation is requested, e.g., by\n",
    "Python's print statement. The printing behaves similar to the ROOT prompt\n",
    "powered by the C++ interpreter cling.\n",
    "\n",
    "\n",
    "\n",
    "\n",
    "**Author:** Stefan Wunsch, Enric Tejedor  \n",
    "<i><small>This notebook tutorial was automatically generated with <a href= \"https://github.com/root-project/root/blob/master/documentation/doxygen/converttonotebook.py\">ROOTBOOK-izer</a> from the macro found in the ROOT repository  on Thursday, August 29, 2019 at 02:30 AM.</small></i>"
   ]
  },
  {
   "cell_type": "code",
   "execution_count": 1,
   "metadata": {
    "collapsed": false
   },
   "outputs": [
    {
     "name": "stdout",
     "output_type": "stream",
     "text": [
      "Welcome to JupyROOT 6.18/03\n"
     ]
    }
   ],
   "source": [
    "import ROOT"
   ]
  },
  {
   "cell_type": "markdown",
   "metadata": {},
   "source": [
    "Create an object with PyROOT"
   ]
  },
  {
   "cell_type": "code",
   "execution_count": 2,
   "metadata": {
    "collapsed": false
   },
   "outputs": [],
   "source": [
    "obj = ROOT.std.vector(\"int\")(3)\n",
    "for i in range(obj.size()):\n",
    "    obj[i] = i"
   ]
  },
  {
   "cell_type": "markdown",
   "metadata": {},
   "source": [
    "Print the object, which reveals the content. Note that `print` calls the special\n",
    "method `__str__` of the object internally."
   ]
  },
  {
   "cell_type": "code",
   "execution_count": 3,
   "metadata": {
    "collapsed": false
   },
   "outputs": [
    {
     "name": "stdout",
     "output_type": "stream",
     "text": [
      "{ 0, 1, 2 }\n"
     ]
    }
   ],
   "source": [
    "print(obj)"
   ]
  },
  {
   "cell_type": "markdown",
   "metadata": {},
   "source": [
    "The output can be retrieved as string by any function that triggers the `__str__`\n",
    "special method of the object, e.g., `str` or `format`."
   ]
  },
  {
   "cell_type": "code",
   "execution_count": 4,
   "metadata": {
    "collapsed": false
   },
   "outputs": [
    {
     "name": "stdout",
     "output_type": "stream",
     "text": [
      "{ 0, 1, 2 }\n",
      "{ 0, 1, 2 }\n"
     ]
    }
   ],
   "source": [
    "print(str(obj))\n",
    "print(\"{}\".format(obj))"
   ]
  },
  {
   "cell_type": "markdown",
   "metadata": {},
   "source": [
    "Note that the interactive Python prompt does not call `__str__`, it calls\n",
    "`__repr__`, which implements a formal and unique string representation of\n",
    "the object."
   ]
  },
  {
   "cell_type": "code",
   "execution_count": 5,
   "metadata": {
    "collapsed": false
   },
   "outputs": [
    {
     "name": "stdout",
     "output_type": "stream",
     "text": [
      "<ROOT.vector<int> object at 0x5644571e93e0>\n"
     ]
    },
    {
     "data": {
      "text/plain": [
       "<ROOT.vector<int> object at 0x5644571e93e0>"
      ]
     },
     "execution_count": 5,
     "metadata": {},
     "output_type": "execute_result"
    }
   ],
   "source": [
    "print(repr(obj))\n",
    "obj"
   ]
  },
  {
   "cell_type": "markdown",
   "metadata": {},
   "source": [
    "The print output behaves similar to the ROOT prompt, e.g., here for a ROOT histogram."
   ]
  },
  {
   "cell_type": "code",
   "execution_count": 6,
   "metadata": {
    "collapsed": false
   },
   "outputs": [
    {
     "name": "stdout",
     "output_type": "stream",
     "text": [
      "Name: name Title: title NbinsX: 10\n"
     ]
    }
   ],
   "source": [
    "hist = ROOT.TH1F(\"name\", \"title\", 10, 0, 1)\n",
    "print(hist)"
   ]
  },
  {
   "cell_type": "markdown",
   "metadata": {},
   "source": [
    "If cling cannot produce any nice representation for the class, we fall back to a\n",
    "\"<ClassName at address>\" format, which is what `__repr__` returns"
   ]
  },
  {
   "cell_type": "code",
   "execution_count": 7,
   "metadata": {
    "collapsed": false
   },
   "outputs": [
    {
     "name": "stdout",
     "output_type": "stream",
     "text": [
      "<ROOT.MyClass object at 0x56445747c330>\n",
      "True\n"
     ]
    }
   ],
   "source": [
    "ROOT.gInterpreter.Declare('class MyClass {};')\n",
    "m = ROOT.MyClass()\n",
    "print(m)\n",
    "print(str(m) == repr(m))"
   ]
  }
 ],
 "metadata": {
  "kernelspec": {
   "display_name": "Python 2",
   "language": "python",
   "name": "python2"
  },
  "language_info": {
   "codemirror_mode": {
    "name": "ipython",
    "version": 2
   },
   "file_extension": ".py",
   "mimetype": "text/x-python",
   "name": "python",
   "nbconvert_exporter": "python",
   "pygments_lexer": "ipython2",
   "version": "2.7.10"
  }
 },
 "nbformat": 4,
 "nbformat_minor": 2
}
