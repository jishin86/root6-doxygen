{
 "cells": [
  {
   "cell_type": "markdown",
   "metadata": {},
   "source": [
    "#  Fit Awmi\n",
    "\n",
    "This macro fits the source spectrum using the AWMI algorithm\n",
    "from the \"TSpectrumFit\" class (\"TSpectrum\" class is used to find peaks).\n",
    "\n",
    "To try this macro, in a ROOT (5 or 6) prompt, do:\n",
    "\n",
    "```cpp\n",
    " root > .x FitAwmi.C\n",
    "```\n",
    "\n",
    "or:\n",
    "\n",
    "```cpp\n",
    " root > .x FitAwmi.C++\n",
    " root > FitAwmi(); // re-run with another random set of peaks\n",
    "```\n",
    "\n",
    "\n",
    "\n",
    "\n",
    "**Author:**   \n",
    "<i><small>This notebook tutorial was automatically generated with <a href= \"https://github.com/root-project/root/blob/master/documentation/doxygen/converttonotebook.py\">ROOTBOOK-izer</a> from the macro found in the ROOT repository  on Thursday, August 29, 2019 at 03:36 AM.</small></i>"
   ]
  },
  {
   "cell_type": "code",
   "execution_count": 1,
   "metadata": {
    "collapsed": false
   },
   "outputs": [],
   "source": [
    "%%cpp -d\n",
    "#include \"TROOT.h\"\n",
    "#include \"TMath.h\"\n",
    "#include \"TRandom.h\"\n",
    "#include \"TH1.h\"\n",
    "#include \"TF1.h\"\n",
    "#include \"TCanvas.h\"\n",
    "#include \"TSpectrum.h\"\n",
    "#include \"TSpectrumFit.h\"\n",
    "#include \"TPolyMarker.h\"\n",
    "#include \"TList.h\"\n",
    "\n",
    "#include <iostream>\n",
    "\n",
    "TH1F *FitAwmi_Create_Spectrum(void) {\n",
    "   Int_t nbins = 1000;\n",
    "   Double_t xmin = -10., xmax = 10.;\n",
    "   delete gROOT->FindObject(\"h\"); // prevent \"memory leak\"\n",
    "   TH1F *h = new TH1F(\"h\", \"simulated spectrum\", nbins, xmin, xmax);\n",
    "   h->SetStats(kFALSE);\n",
    "   TF1 f(\"f\", \"TMath::Gaus(x, [0], [1], 1)\", xmin, xmax);\n",
    "   // f.SetParNames(\"mean\", \"sigma\");\n",
    "   gRandom->SetSeed(0); // make it really random\n",
    "   // create well separated peaks with exactly known means and areas\n",
    "   // note: TSpectrumFit assumes that all peaks have the same sigma\n",
    "   Double_t sigma = (xmax - xmin) / Double_t(nbins) * Int_t(gRandom->Uniform(2., 6.));\n",
    "   Int_t npeaks = 0;\n",
    "   while (xmax > (xmin + 6. * sigma)) {\n",
    "      npeaks++;\n",
    "      xmin += 3. * sigma; // \"mean\"\n",
    "      f.SetParameters(xmin, sigma);\n",
    "      Double_t area = 1. * Int_t(gRandom->Uniform(1., 11.));\n",
    "      h->Add(&f, area, \"\"); // \"\" ... or ... \"I\"\n",
    "      std::cout << \"created \"\n",
    "                << xmin << \" \"\n",
    "                << (area / sigma / TMath::Sqrt(TMath::TwoPi())) << \" \"\n",
    "                << area << std::endl;\n",
    "      xmin += 3. * sigma;\n",
    "   }\n",
    "   std::cout << \"the total number of created peaks = \" << npeaks\n",
    "             << \" with sigma = \" << sigma << std::endl;\n",
    "   return h;\n",
    "}"
   ]
  },
  {
   "cell_type": "markdown",
   "metadata": {},
   "source": [
    " Arguments are defined. "
   ]
  },
  {
   "cell_type": "code",
   "execution_count": 2,
   "metadata": {
    "collapsed": false
   },
   "outputs": [
    {
     "name": "stdout",
     "output_type": "stream",
     "text": [
      "created -9.76 39.8942 8\n",
      "created -9.28 14.9603 3\n",
      "created -8.8 34.9074 7\n",
      "created -8.32 49.8678 10\n",
      "created -7.84 44.881 9\n",
      "created -7.36 4.98678 1\n",
      "created -6.88 24.9339 5\n",
      "created -6.4 19.9471 4\n",
      "created -5.92 24.9339 5\n",
      "created -5.44 24.9339 5\n",
      "created -4.96 34.9074 7\n",
      "created -4.48 34.9074 7\n",
      "created -4 49.8678 10\n",
      "created -3.52 19.9471 4\n",
      "created -3.04 39.8942 8\n",
      "created -2.56 39.8942 8\n",
      "created -2.08 39.8942 8\n",
      "created -1.6 44.881 9\n",
      "created -1.12 49.8678 10\n",
      "created -0.64 44.881 9\n",
      "created -0.16 4.98678 1\n",
      "created 0.32 49.8678 10\n",
      "created 0.8 29.9207 6\n",
      "created 1.28 29.9207 6\n",
      "created 1.76 4.98678 1\n",
      "created 2.24 4.98678 1\n",
      "created 2.72 14.9603 3\n",
      "created 3.2 19.9471 4\n",
      "created 3.68 19.9471 4\n",
      "created 4.16 39.8942 8\n",
      "created 4.64 4.98678 1\n",
      "created 5.12 29.9207 6\n",
      "created 5.6 24.9339 5\n",
      "created 6.08 19.9471 4\n",
      "created 6.56 49.8678 10\n",
      "created 7.04 24.9339 5\n",
      "created 7.52 4.98678 1\n",
      "created 8 4.98678 1\n",
      "created 8.48 29.9207 6\n",
      "created 8.96 39.8942 8\n",
      "created 9.44 34.9074 7\n",
      "the total number of created peaks = 41 with sigma = 0.08\n"
     ]
    }
   ],
   "source": [
    "TH1F *h = FitAwmi_Create_Spectrum();\n",
    "\n",
    "TCanvas *cFit = ((TCanvas *)(gROOT->GetListOfCanvases()->FindObject(\"cFit\")));\n",
    "if (!cFit) cFit = new TCanvas(\"cFit\", \"cFit\", 10, 10, 1000, 700);\n",
    "else cFit->Clear();\n",
    "h->Draw(\"L\");\n",
    "Int_t i, nfound, bin;\n",
    "Int_t nbins = h->GetNbinsX();\n",
    "\n",
    "Double_t *source = new Double_t[nbins];\n",
    "Double_t *dest = new Double_t[nbins];\n",
    "\n",
    "for (i = 0; i < nbins; i++) source[i] = h->GetBinContent(i + 1);\n",
    "TSpectrum *s = new TSpectrum(); // note: default maxpositions = 100"
   ]
  },
  {
   "cell_type": "markdown",
   "metadata": {},
   "source": [
    "Searching for candidate peaks positions"
   ]
  },
  {
   "cell_type": "code",
   "execution_count": 3,
   "metadata": {
    "collapsed": false
   },
   "outputs": [],
   "source": [
    "nfound = s->SearchHighRes(source, dest, nbins, 2., 2., kFALSE, 10000, kFALSE, 0);"
   ]
  },
  {
   "cell_type": "markdown",
   "metadata": {},
   "source": [
    "Filling in the initial estimates of the input parameters"
   ]
  },
  {
   "cell_type": "code",
   "execution_count": 4,
   "metadata": {
    "collapsed": false
   },
   "outputs": [],
   "source": [
    "Bool_t *FixPos = new Bool_t[nfound];\n",
    "Bool_t *FixAmp = new Bool_t[nfound];\n",
    "for(i = 0; i < nfound; i++) FixAmp[i] = FixPos[i] = kFALSE;\n",
    "\n",
    "Double_t *Pos, *Amp = new Double_t[nfound]; // ROOT 6\n",
    "\n",
    "Pos = s->GetPositionX(); // 0 ... (nbins - 1)\n",
    "for (i = 0; i < nfound; i++) {\n",
    "   bin = 1 + Int_t(Pos[i] + 0.5); // the \"nearest\" bin\n",
    "   Amp[i] = h->GetBinContent(bin);\n",
    "}\n",
    "TSpectrumFit *pfit = new TSpectrumFit(nfound);\n",
    "pfit->SetFitParameters(0, (nbins - 1), 1000, 0.1, pfit->kFitOptimChiCounts,\n",
    "                       pfit->kFitAlphaHalving, pfit->kFitPower2,\n",
    "                       pfit->kFitTaylorOrderFirst);\n",
    "pfit->SetPeakParameters(2., kFALSE, Pos, FixPos, Amp, FixAmp);"
   ]
  },
  {
   "cell_type": "markdown",
   "metadata": {},
   "source": [
    "Pfit->setbackgroundparameters(source[0], kfalse, 0., kfalse, 0., kfalse);"
   ]
  },
  {
   "cell_type": "code",
   "execution_count": 5,
   "metadata": {
    "collapsed": false
   },
   "outputs": [],
   "source": [
    "pfit->FitAwmi(source);\n",
    "Double_t *Positions = pfit->GetPositions();\n",
    "Double_t *PositionsErrors = pfit->GetPositionsErrors();\n",
    "Double_t *Amplitudes = pfit->GetAmplitudes();\n",
    "Double_t *AmplitudesErrors = pfit->GetAmplitudesErrors();\n",
    "Double_t *Areas = pfit->GetAreas();\n",
    "Double_t *AreasErrors = pfit->GetAreasErrors();\n",
    "delete gROOT->FindObject(\"d\"); // prevent \"memory leak\"\n",
    "TH1F *d = new TH1F(*h); d->SetNameTitle(\"d\", \"\"); d->Reset(\"M\");\n",
    "for (i = 0; i < nbins; i++) d->SetBinContent(i + 1, source[i]);\n",
    "Double_t x1 = d->GetBinCenter(1), dx = d->GetBinWidth(1);\n",
    "Double_t sigma, sigmaErr;\n",
    "pfit->GetSigma(sigma, sigmaErr);"
   ]
  },
  {
   "cell_type": "markdown",
   "metadata": {},
   "source": [
    "Current tspectrumfit needs a sqrt(2) correction factor for sigma"
   ]
  },
  {
   "cell_type": "code",
   "execution_count": 6,
   "metadata": {
    "collapsed": false
   },
   "outputs": [],
   "source": [
    "sigma /= TMath::Sqrt2(); sigmaErr /= TMath::Sqrt2();"
   ]
  },
  {
   "cell_type": "markdown",
   "metadata": {},
   "source": [
    "Convert \"bin numbers\" into \"x-axis values\""
   ]
  },
  {
   "cell_type": "code",
   "execution_count": 7,
   "metadata": {
    "collapsed": false
   },
   "outputs": [
    {
     "name": "stdout",
     "output_type": "stream",
     "text": [
      "the total number of found peaks = 41 with sigma = 0.0800011 (+-2.59667e-05)\n",
      "fit chi^2 = 3.96901e-06\n",
      "found -8.32 (+-0.000219681) 49.8679 (+-0.134791) 10.0002 (+-0.00089261)\n",
      "found -4 (+-0.000219079) 49.8677 (+-0.134746) 10.0001 (+-0.000892311)\n",
      "found -1.12 (+-0.000219888) 49.868 (+-0.134807) 10.0002 (+-0.000892715)\n",
      "found 0.320001 (+-0.000218286) 49.8675 (+-0.134691) 10.0001 (+-0.000891947)\n",
      "found 6.56 (+-0.000218833) 49.8676 (+-0.134727) 10.0001 (+-0.000892188)\n",
      "found -7.84 (+-0.000230666) 44.881 (+-0.127819) 9.00011 (+-0.000846439)\n",
      "found -1.6 (+-0.00023197) 44.8813 (+-0.127902) 9.00018 (+-0.000846992)\n",
      "found -0.640001 (+-0.000230666) 44.881 (+-0.127819) 9.00011 (+-0.000846439)\n",
      "found -9.76 (+-0.000244638) 39.8939 (+-0.120492) 8.00003 (+-0.000797923)\n",
      "found -3.04 (+-0.000245436) 39.8943 (+-0.120551) 8.00012 (+-0.000798308)\n",
      "found -2.56 (+-0.000246049) 39.8945 (+-0.120588) 8.00016 (+-0.000798555)\n",
      "found -2.08 (+-0.000246169) 39.8946 (+-0.120595) 8.00017 (+-0.000798605)\n",
      "found 4.16 (+-0.000244002) 39.8939 (+-0.120467) 8.00005 (+-0.000797757)\n",
      "found 8.96 (+-0.000245645) 39.8944 (+-0.120563) 8.00013 (+-0.000798389)\n",
      "found -8.8 (+-0.000262661) 34.9076 (+-0.112781) 7.00013 (+-0.000746857)\n",
      "found -4.96 (+-0.000262698) 34.9076 (+-0.112781) 7.00012 (+-0.000746858)\n",
      "found -4.48 (+-0.000263444) 34.9078 (+-0.112822) 7.00017 (+-0.00074713)\n",
      "found 9.44 (+-0.00026061) 34.9077 (+-0.11269) 7.00015 (+-0.000746255)\n",
      "found 0.799999 (+-0.00028476) 29.9211 (+-0.104463) 6.00016 (+-0.000691776)\n",
      "found 1.28 (+-0.000282603) 29.9206 (+-0.104366) 6.00007 (+-0.000691132)\n",
      "found 5.12 (+-0.000282402) 29.9206 (+-0.104357) 6.00006 (+-0.000691069)\n",
      "found 8.48 (+-0.000282948) 29.9207 (+-0.104383) 6.00009 (+-0.000691243)\n",
      "found 5.6 (+-0.000311197) 24.9341 (+-0.095332) 5.0001 (+-0.000631306)\n",
      "found 7.04 (+-0.000310676) 24.9341 (+-0.0953173) 5.00011 (+-0.000631208)\n",
      "found -6.88 (+-0.000309429) 24.9338 (+-0.0952664) 5.00005 (+-0.000630871)\n",
      "found -5.92 (+-0.000310959) 24.934 (+-0.0953225) 5.00009 (+-0.000631243)\n",
      "found -5.44 (+-0.000311683) 24.9342 (+-0.0953511) 5.00012 (+-0.000631432)\n",
      "found -3.52 (+-0.000350621) 19.9478 (+-0.0853551) 4.00018 (+-0.000565237)\n",
      "found -6.4 (+-0.000348624) 19.9474 (+-0.0852894) 4.0001 (+-0.000564802)\n",
      "found 3.2 (+-0.000347579) 19.9472 (+-0.0852565) 4.00007 (+-0.000564584)\n",
      "found 3.68 (+-0.000349077) 19.9475 (+-0.0853047) 4.00012 (+-0.000564903)\n",
      "found 6.08 (+-0.000349828) 19.9476 (+-0.0853293) 4.00015 (+-0.000565066)\n",
      "found -9.28 (+-0.000405345) 14.9609 (+-0.0739319) 3.00015 (+-0.00048959)\n",
      "found 2.72 (+-0.000400809) 14.9604 (+-0.0738234) 3.00005 (+-0.000488872)\n",
      "found -0.159999 (+-0.00071538) 4.98769 (+-0.042805) 1.0002 (+-0.000283462)\n",
      "found -7.36001 (+-0.000711472) 4.98743 (+-0.0427688) 1.00014 (+-0.000283222)\n",
      "found 4.64 (+-0.000711728) 4.98743 (+-0.0427707) 1.00014 (+-0.000283235)\n",
      "found 1.75999 (+-0.000702926) 4.98707 (+-0.0426949) 1.00007 (+-0.000282734)\n",
      "found 7.51999 (+-0.000702013) 4.98702 (+-0.0426864) 1.00006 (+-0.000282677)\n",
      "found 2.24 (+-0.000699721) 4.98692 (+-0.0426658) 1.00004 (+-0.00028254)\n",
      "found 8.00001 (+-0.000702926) 4.98707 (+-0.0426949) 1.00007 (+-0.000282734)\n"
     ]
    }
   ],
   "source": [
    "sigma *= dx; sigmaErr *= dx;\n",
    "\n",
    "std::cout << \"the total number of found peaks = \" << nfound\n",
    "          << \" with sigma = \" << sigma << \" (+-\" << sigmaErr << \")\"\n",
    "          << std::endl;\n",
    "std::cout << \"fit chi^2 = \" << pfit->GetChi() << std::endl;\n",
    "for (i = 0; i < nfound; i++) {\n",
    "   bin = 1 + Int_t(Positions[i] + 0.5); // the \"nearest\" bin\n",
    "   Pos[i] = d->GetBinCenter(bin);\n",
    "   Amp[i] = d->GetBinContent(bin);\n",
    "\n",
    "   // convert \"bin numbers\" into \"x-axis values\"\n",
    "   Positions[i] = x1 + Positions[i] * dx;\n",
    "   PositionsErrors[i] *= dx;\n",
    "   Areas[i] *= dx;\n",
    "   AreasErrors[i] *= dx;\n",
    "\n",
    "   std::cout << \"found \"\n",
    "             << Positions[i] << \" (+-\" << PositionsErrors[i] << \") \"\n",
    "             << Amplitudes[i] << \" (+-\" << AmplitudesErrors[i] << \") \"\n",
    "             << Areas[i] << \" (+-\" << AreasErrors[i] << \")\"\n",
    "             << std::endl;\n",
    "}\n",
    "d->SetLineColor(kRed); d->SetLineWidth(1);\n",
    "d->Draw(\"SAME L\");\n",
    "TPolyMarker *pm = ((TPolyMarker*)(h->GetListOfFunctions()->FindObject(\"TPolyMarker\")));\n",
    "if (pm) {\n",
    "   h->GetListOfFunctions()->Remove(pm);\n",
    "   delete pm;\n",
    "}\n",
    "pm = new TPolyMarker(nfound, Pos, Amp);\n",
    "h->GetListOfFunctions()->Add(pm);\n",
    "pm->SetMarkerStyle(23);\n",
    "pm->SetMarkerColor(kRed);\n",
    "pm->SetMarkerSize(1);"
   ]
  },
  {
   "cell_type": "markdown",
   "metadata": {},
   "source": [
    "Cleanup"
   ]
  },
  {
   "cell_type": "code",
   "execution_count": 8,
   "metadata": {
    "collapsed": false
   },
   "outputs": [],
   "source": [
    "delete pfit;\n",
    "delete [] Amp;\n",
    "delete [] FixAmp;\n",
    "delete [] FixPos;\n",
    "delete s;\n",
    "delete [] dest;\n",
    "delete [] source;\n",
    "return;"
   ]
  },
  {
   "cell_type": "markdown",
   "metadata": {},
   "source": [
    "Draw all canvases "
   ]
  },
  {
   "cell_type": "code",
   "execution_count": 9,
   "metadata": {
    "collapsed": false
   },
   "outputs": [
    {
     "data": {
      "image/png": "[encoded data removed]",
      "text/plain": [
       "<IPython.core.display.Image object>"
      ]
     },
     "metadata": {},
     "output_type": "display_data"
    }
   ],
   "source": [
    "gROOT->GetListOfCanvases()->Draw()"
   ]
  }
 ],
 "metadata": {
  "kernelspec": {
   "display_name": "ROOT C++",
   "language": "c++",
   "name": "root"
  },
  "language_info": {
   "codemirror_mode": "text/x-c++src",
   "file_extension": ".C",
   "mimetype": " text/x-c++src",
   "name": "c++"
  }
 },
 "nbformat": 4,
 "nbformat_minor": 2
}
