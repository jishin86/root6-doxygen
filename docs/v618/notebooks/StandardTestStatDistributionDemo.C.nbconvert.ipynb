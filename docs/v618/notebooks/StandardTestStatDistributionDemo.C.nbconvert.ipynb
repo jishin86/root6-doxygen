{
 "cells": [
  {
   "cell_type": "markdown",
   "metadata": {},
   "source": [
    "#  Standard Test Stat Distribution Demo\n",
    "StandardTestStatDistributionDemo.C\n",
    "\n",
    "This simple script plots the sampling distribution of the profile likelihood\n",
    "ratio test statistic based on the input Model File.  To do this one needs to\n",
    "specify the value of the parameter of interest that will be used for evaluating\n",
    "the test statistic and the value of the parameters used for generating the toy data.\n",
    "In this case, it uses the upper-limit estimated from the ProfileLikleihoodCalculator,\n",
    "which assumes the asymptotic chi-square distribution for -2 log profile likelihood ratio.\n",
    "Thus, the script is handy for checking to see if the asymptotic approximations are valid.\n",
    "To aid, that comparison, the script overlays a chi-square distribution as well.\n",
    "The most common parameter of interest is a parameter proportional to the signal rate,\n",
    "and often that has a lower-limit of 0, which breaks the standard chi-square distribution.\n",
    "Thus the script allows the parameter to be negative so that the overlay chi-square is\n",
    "the correct asymptotic distribution.\n",
    "\n",
    "\n",
    "\n",
    "\n",
    "**Author:** Kyle Cranmer  \n",
    "<i><small>This notebook tutorial was automatically generated with <a href= \"https://github.com/root-project/root/blob/master/documentation/doxygen/converttonotebook.py\">ROOTBOOK-izer</a> from the macro found in the ROOT repository  on Thursday, August 29, 2019 at 03:31 AM.</small></i>"
   ]
  },
  {
   "cell_type": "code",
   "execution_count": 1,
   "metadata": {
    "collapsed": false
   },
   "outputs": [],
   "source": [
    "%%cpp -d\n",
    "#include \"TFile.h\"\n",
    "#include \"TROOT.h\"\n",
    "#include \"TH1F.h\"\n",
    "#include \"TCanvas.h\"\n",
    "#include \"TSystem.h\"\n",
    "#include \"TF1.h\"\n",
    "#include \"TSystem.h\"\n",
    "\n",
    "#include \"RooWorkspace.h\"\n",
    "#include \"RooAbsData.h\"\n",
    "\n",
    "#include \"RooStats/ModelConfig.h\"\n",
    "#include \"RooStats/FeldmanCousins.h\"\n",
    "#include \"RooStats/ToyMCSampler.h\"\n",
    "#include \"RooStats/PointSetInterval.h\"\n",
    "#include \"RooStats/ConfidenceBelt.h\"\n",
    "\n",
    "#include \"RooStats/ProfileLikelihoodCalculator.h\"\n",
    "#include \"RooStats/LikelihoodInterval.h\"\n",
    "#include \"RooStats/ProfileLikelihoodTestStat.h\"\n",
    "#include \"RooStats/SamplingDistribution.h\"\n",
    "#include \"RooStats/SamplingDistPlot.h\""
   ]
  },
  {
   "cell_type": "code",
   "execution_count": 2,
   "metadata": {
    "collapsed": false
   },
   "outputs": [],
   "source": [
    "%%cpp -d\n",
    "// This is a workaround to make sure the namespace is used inside functions\n",
    "using namespace RooFit;\n",
    "using namespace RooStats;"
   ]
  },
  {
   "cell_type": "code",
   "execution_count": 3,
   "metadata": {
    "collapsed": false
   },
   "outputs": [],
   "source": [
    "bool useProof = false; // flag to control whether to use Proof\n",
    "int nworkers = 0;      // number of workers (default use all available cores)"
   ]
  },
  {
   "cell_type": "markdown",
   "metadata": {},
   "source": [
    "-------------------------------------------------------\n",
    " The actual macro"
   ]
  },
  {
   "cell_type": "markdown",
   "metadata": {},
   "source": [
    " Arguments are defined. "
   ]
  },
  {
   "cell_type": "code",
   "execution_count": 4,
   "metadata": {
    "collapsed": false
   },
   "outputs": [],
   "source": [
    "const char *infile = \"\";\n",
    "const char *workspaceName = \"combined\";\n",
    "const char *modelConfigName = \"ModelConfig\";\n",
    "const char *dataName = \"obsData\";"
   ]
  },
  {
   "cell_type": "markdown",
   "metadata": {},
   "source": [
    "The number of toy mc used to generate the distribution"
   ]
  },
  {
   "cell_type": "code",
   "execution_count": 5,
   "metadata": {
    "collapsed": false
   },
   "outputs": [],
   "source": [
    "int nToyMC = 1000;"
   ]
  },
  {
   "cell_type": "markdown",
   "metadata": {},
   "source": [
    "The parameter below is needed for asymptotic distribution to be chi-square,\n",
    " but set to false if your model is not numerically stable if mu<0"
   ]
  },
  {
   "cell_type": "code",
   "execution_count": 6,
   "metadata": {
    "collapsed": false
   },
   "outputs": [],
   "source": [
    "bool allowNegativeMu = true;"
   ]
  },
  {
   "cell_type": "markdown",
   "metadata": {},
   "source": [
    "-------------------------------------------------------\n",
    " First part is just to access a user-defined file\n",
    " or create the standard example file if it doesn't exist"
   ]
  },
  {
   "cell_type": "code",
   "execution_count": 7,
   "metadata": {
    "collapsed": false
   },
   "outputs": [],
   "source": [
    "const char *filename = \"\";\n",
    "if (!strcmp(infile, \"\")) {\n",
    "   filename = \"results/example_combined_GaussExample_model.root\";\n",
    "   bool fileExist = !gSystem->AccessPathName(filename); // note opposite return code\n",
    "   // if file does not exists generate with histfactory\n",
    "   if (!fileExist) {\n",
    "#ifdef _WIN32\n",
    "      cout << \"HistFactory file cannot be generated on Windows - exit\" << endl;\n",
    "      return;\n",
    "#endif\n",
    "      // Normally this would be run on the command line\n",
    "      cout << \"will run standard hist2workspace example\" << endl;\n",
    "      gROOT->ProcessLine(\".! prepareHistFactory .\");\n",
    "      gROOT->ProcessLine(\".! hist2workspace config/example.xml\");\n",
    "      cout << \"\\n\\n---------------------\" << endl;\n",
    "      cout << \"Done creating example input\" << endl;\n",
    "      cout << \"---------------------\\n\\n\" << endl;\n",
    "   }\n",
    "\n",
    "} else\n",
    "   filename = infile;"
   ]
  },
  {
   "cell_type": "markdown",
   "metadata": {},
   "source": [
    "Try to open the file"
   ]
  },
  {
   "cell_type": "code",
   "execution_count": 8,
   "metadata": {
    "collapsed": false
   },
   "outputs": [
    {
     "name": "stdout",
     "output_type": "stream",
     "text": [
      "\n",
      "\u001b[1mRooFit v3.60 -- Developed by Wouter Verkerke and David Kirkby\u001b[0m \n",
      "                Copyright (C) 2000-2013 NIKHEF, University of California & Stanford University\n",
      "                All rights reserved, please read http://roofit.sourceforge.net/license.txt\n",
      "\n"
     ]
    }
   ],
   "source": [
    "TFile *file = TFile::Open(filename);"
   ]
  },
  {
   "cell_type": "markdown",
   "metadata": {},
   "source": [
    "If input file was specified byt not found, quit"
   ]
  },
  {
   "cell_type": "code",
   "execution_count": 9,
   "metadata": {
    "collapsed": false
   },
   "outputs": [],
   "source": [
    "if (!file) {\n",
    "   cout << \"StandardRooStatsDemoMacro: Input file \" << filename << \" is not found\" << endl;\n",
    "   return;\n",
    "}"
   ]
  },
  {
   "cell_type": "markdown",
   "metadata": {},
   "source": [
    "-------------------------------------------------------\n",
    " Now get the data and workspace"
   ]
  },
  {
   "cell_type": "markdown",
   "metadata": {},
   "source": [
    "Get the workspace out of the file"
   ]
  },
  {
   "cell_type": "code",
   "execution_count": 10,
   "metadata": {
    "collapsed": false
   },
   "outputs": [],
   "source": [
    "RooWorkspace *w = (RooWorkspace *)file->Get(workspaceName);\n",
    "if (!w) {\n",
    "   cout << \"workspace not found\" << endl;\n",
    "   return;\n",
    "}"
   ]
  },
  {
   "cell_type": "markdown",
   "metadata": {},
   "source": [
    "Get the modelconfig out of the file"
   ]
  },
  {
   "cell_type": "code",
   "execution_count": 11,
   "metadata": {
    "collapsed": false
   },
   "outputs": [],
   "source": [
    "ModelConfig *mc = (ModelConfig *)w->obj(modelConfigName);"
   ]
  },
  {
   "cell_type": "markdown",
   "metadata": {},
   "source": [
    "Get the modelconfig out of the file"
   ]
  },
  {
   "cell_type": "code",
   "execution_count": 12,
   "metadata": {
    "collapsed": false
   },
   "outputs": [],
   "source": [
    "RooAbsData *data = w->data(dataName);"
   ]
  },
  {
   "cell_type": "markdown",
   "metadata": {},
   "source": [
    "Make sure ingredients are found"
   ]
  },
  {
   "cell_type": "code",
   "execution_count": 13,
   "metadata": {
    "collapsed": false
   },
   "outputs": [
    {
     "name": "stdout",
     "output_type": "stream",
     "text": [
      "\n",
      "=== Using the following for ModelConfig ===\n",
      "Observables:             RooArgSet:: = (obs_x_channel1,weightVar,channelCat)\n",
      "Parameters of Interest:  RooArgSet:: = (SigXsecOverSM)\n",
      "Nuisance Parameters:     RooArgSet:: = (alpha_syst2,alpha_syst3,gamma_stat_channel1_bin_0,gamma_stat_channel1_bin_1)\n",
      "Global Observables:      RooArgSet:: = (nom_alpha_syst2,nom_alpha_syst3,nom_gamma_stat_channel1_bin_0,nom_gamma_stat_channel1_bin_1)\n",
      "PDF:                     RooSimultaneous::simPdf[ indexCat=channelCat channel1=model_channel1 ] = 0.174888\n",
      "\n"
     ]
    }
   ],
   "source": [
    "if (!data || !mc) {\n",
    "   w->Print();\n",
    "   cout << \"data or ModelConfig was not found\" << endl;\n",
    "   return;\n",
    "}\n",
    "\n",
    "mc->Print();"
   ]
  },
  {
   "cell_type": "markdown",
   "metadata": {},
   "source": [
    "-------------------------------------------------------\n",
    " Now find the upper limit based on the asymptotic results"
   ]
  },
  {
   "cell_type": "code",
   "execution_count": 14,
   "metadata": {
    "collapsed": false
   },
   "outputs": [
    {
     "name": "stdout",
     "output_type": "stream",
     "text": [
      "[#1] INFO:Minization -- p.d.f. provides expected number of events, including extended term in likelihood.\n",
      "[#1] INFO:Minization -- createNLL: caching constraint set under name CONSTR_OF_PDF_simPdf_FOR_OBS_channelCat:obs_x_channel1 with 4 entries\n",
      "[#1] INFO:Minization --  Including the following contraint terms in minimization: (alpha_syst2Constraint,alpha_syst3Constraint,gamma_stat_channel1_bin_0_constraint,gamma_stat_channel1_bin_1_constraint)\n",
      "[#1] INFO:Minization -- The following global observables have been defined: (nom_alpha_syst2,nom_alpha_syst3,nom_gamma_stat_channel1_bin_0,nom_gamma_stat_channel1_bin_1)\n",
      "[#0] PROGRESS:Minization -- ProfileLikelihoodCalcultor::DoGLobalFit - find MLE \n",
      "[#0] PROGRESS:Minization -- ProfileLikelihoodCalcultor::DoMinimizeNLL - using Minuit / Migrad with strategy 1\n",
      "[#1] INFO:Fitting -- RooAddition::defaultErrorLevel(nll_simPdf_obsData_with_constr) Summation contains a RooNLLVar, using its error level\n",
      "[#1] INFO:Minization -- RooMinimizer::optimizeConst: activating const optimization\n",
      "RooAbsTestStatistic::initSimMode: creating slave calculator #0 for state channel1 (2 dataset entries)\n",
      "[#1] INFO:NumericIntegration -- RooRealIntegral::init(channel1_model_Int[obs_x_channel1]) using numeric integrator RooBinIntegrator to calculate Int(obs_x_channel1)\n",
      "[#1] INFO:Fitting -- RooAbsTestStatistic::initSimMode: created 1 slave calculators.\n",
      "[#1] INFO:NumericIntegration -- RooRealIntegral::init(channel1_model_Int[obs_x_channel1]) using numeric integrator RooBinIntegrator to calculate Int(obs_x_channel1)\n",
      "[#1] INFO:Minization --  The following expressions have been identified as constant and will be precalculated and cached: (signal_channel1_nominal,background1_channel1_nominal,background2_channel1_nominal)\n",
      "[#1] INFO:Minization --  The following expressions will be evaluated in cache-and-track mode: (mc_stat_channel1)\n",
      "[#1] INFO:Minization -- \n",
      "  RooFitResult: minimized FCN value: -1033.78, estimated distance to minimum: 2.39561e-08\n",
      "                covariance matrix quality: Full, accurate covariance matrix\n",
      "                Status : MINIMIZE=0 \n",
      "\n",
      "    Floating Parameter    FinalValue +/-  Error   \n",
      "  --------------------  --------------------------\n",
      "         SigXsecOverSM    1.1153e+00 +/-  5.86e-01\n",
      "           alpha_syst2   -8.9017e-03 +/-  9.82e-01\n",
      "           alpha_syst3    1.7918e-02 +/-  9.48e-01\n",
      "  gamma_stat_channel1_bin_0    9.9955e-01 +/-  4.93e-02\n",
      "  gamma_stat_channel1_bin_1    1.0036e+00 +/-  8.01e-02\n",
      "\n",
      "Warning: lower value for SigXsecOverSM is at limit 0\n",
      "\n",
      "\n",
      "--------------------------------------\n",
      "Will generate sampling distribution at SigXsecOverSM = 2.32744\n"
     ]
    }
   ],
   "source": [
    "RooRealVar *firstPOI = (RooRealVar *)mc->GetParametersOfInterest()->first();\n",
    "ProfileLikelihoodCalculator plc(*data, *mc);\n",
    "LikelihoodInterval *interval = plc.GetInterval();\n",
    "double plcUpperLimit = interval->UpperLimit(*firstPOI);\n",
    "delete interval;\n",
    "cout << \"\\n\\n--------------------------------------\" << endl;\n",
    "cout << \"Will generate sampling distribution at \" << firstPOI->GetName() << \" = \" << plcUpperLimit << endl;\n",
    "int nPOI = mc->GetParametersOfInterest()->getSize();\n",
    "if (nPOI > 1) {\n",
    "   cout << \"not sure what to do with other parameters of interest, but here are their values\" << endl;\n",
    "   mc->GetParametersOfInterest()->Print(\"v\");\n",
    "}"
   ]
  },
  {
   "cell_type": "markdown",
   "metadata": {},
   "source": [
    "-------------------------------------------------------\n",
    " create the test stat sampler"
   ]
  },
  {
   "cell_type": "code",
   "execution_count": 15,
   "metadata": {
    "collapsed": false
   },
   "outputs": [],
   "source": [
    "ProfileLikelihoodTestStat ts(*mc->GetPdf());"
   ]
  },
  {
   "cell_type": "markdown",
   "metadata": {},
   "source": [
    "To avoid effects from boundary and simplify asymptotic comparison, set min=-max"
   ]
  },
  {
   "cell_type": "code",
   "execution_count": 16,
   "metadata": {
    "collapsed": false
   },
   "outputs": [],
   "source": [
    "if (allowNegativeMu)\n",
    "   firstPOI->setMin(-1 * firstPOI->getMax());"
   ]
  },
  {
   "cell_type": "markdown",
   "metadata": {},
   "source": [
    "Temporary rooargset"
   ]
  },
  {
   "cell_type": "code",
   "execution_count": 17,
   "metadata": {
    "collapsed": false
   },
   "outputs": [],
   "source": [
    "RooArgSet poi;\n",
    "poi.add(*mc->GetParametersOfInterest());"
   ]
  },
  {
   "cell_type": "markdown",
   "metadata": {},
   "source": [
    "Create and configure the toymcsampler"
   ]
  },
  {
   "cell_type": "code",
   "execution_count": 18,
   "metadata": {
    "collapsed": false
   },
   "outputs": [
    {
     "name": "stdout",
     "output_type": "stream",
     "text": [
      "  1) 0x7f1190ca6460 RooRealVar::             SigXsecOverSM = 2.32744 +/- 0.586082  L(-3 - 3)  \"SigXsecOverSM\"\n",
      "  2) 0x7f1190ca2bd0 RooRealVar::               alpha_syst2 = 0.710796 +/- 0.982182  L(-5 - 5)  \"alpha_syst2\"\n",
      "  3) 0x7f1190ca9a90 RooRealVar::               alpha_syst3 = 0.260222 +/- 0.947589  L(-5 - 5)  \"alpha_syst3\"\n",
      "  4) 0x7f11900317b0 RooRealVar:: gamma_stat_channel1_bin_0 = 1.03668 +/- 0.0493173  L(0 - 1.25)  \"gamma_stat_channel1_bin_0\"\n",
      "  5) 0x7f11900c3c30 RooRealVar:: gamma_stat_channel1_bin_1 = 1.05157 +/- 0.080065  L(0 - 1.5)  \"gamma_stat_channel1_bin_1\"\n",
      "[#0] PROGRESS:Generation -- generated toys: 500 / 1000\n"
     ]
    },
    {
     "name": "stderr",
     "output_type": "stream",
     "text": [
      "Info in <TCanvas::Print>: pdf file standard_test_stat_distribution.pdf has been created\n"
     ]
    }
   ],
   "source": [
    "ToyMCSampler sampler(ts, nToyMC);\n",
    "sampler.SetPdf(*mc->GetPdf());\n",
    "sampler.SetObservables(*mc->GetObservables());\n",
    "sampler.SetGlobalObservables(*mc->GetGlobalObservables());\n",
    "if (!mc->GetPdf()->canBeExtended() && (data->numEntries() == 1)) {\n",
    "   cout << \"tell it to use 1 event\" << endl;\n",
    "   sampler.SetNEventsPerToy(1);\n",
    "}\n",
    "firstPOI->setVal(plcUpperLimit);                                  // set POI value for generation\n",
    "sampler.SetParametersForTestStat(*mc->GetParametersOfInterest()); // set POI value for evaluation\n",
    "\n",
    "if (useProof) {\n",
    "   ProofConfig pc(*w, nworkers, \"\", false);\n",
    "   sampler.SetProofConfig(&pc); // enable proof\n",
    "}\n",
    "\n",
    "firstPOI->setVal(plcUpperLimit);\n",
    "RooArgSet allParameters;\n",
    "allParameters.add(*mc->GetParametersOfInterest());\n",
    "allParameters.add(*mc->GetNuisanceParameters());\n",
    "allParameters.Print(\"v\");\n",
    "\n",
    "SamplingDistribution *sampDist = sampler.GetSamplingDistribution(allParameters);\n",
    "SamplingDistPlot plot;\n",
    "plot.AddSamplingDistribution(sampDist);\n",
    "plot.GetTH1F(sampDist)->GetYaxis()->SetTitle(\n",
    "   Form(\"f(-log #lambda(#mu=%.2f) | #mu=%.2f)\", plcUpperLimit, plcUpperLimit));\n",
    "plot.SetAxisTitle(Form(\"-log #lambda(#mu=%.2f)\", plcUpperLimit));\n",
    "\n",
    "TCanvas *c1 = new TCanvas(\"c1\");\n",
    "c1->SetLogy();\n",
    "plot.Draw();\n",
    "double min = plot.GetTH1F(sampDist)->GetXaxis()->GetXmin();\n",
    "double max = plot.GetTH1F(sampDist)->GetXaxis()->GetXmax();\n",
    "\n",
    "TF1 *f = new TF1(\"f\", Form(\"2*ROOT::Math::chisquared_pdf(2*x,%d,0)\", nPOI), min, max);\n",
    "f->Draw(\"same\");\n",
    "c1->SaveAs(\"standard_test_stat_distribution.pdf\");"
   ]
  },
  {
   "cell_type": "markdown",
   "metadata": {},
   "source": [
    "Draw all canvases "
   ]
  },
  {
   "cell_type": "code",
   "execution_count": 19,
   "metadata": {
    "collapsed": false
   },
   "outputs": [
    {
     "data": {
      "image/png": "[encoded data removed]",
      "text/plain": [
       "<IPython.core.display.Image object>"
      ]
     },
     "metadata": {},
     "output_type": "display_data"
    }
   ],
   "source": [
    "gROOT->GetListOfCanvases()->Draw()"
   ]
  }
 ],
 "metadata": {
  "kernelspec": {
   "display_name": "ROOT C++",
   "language": "c++",
   "name": "root"
  },
  "language_info": {
   "codemirror_mode": "text/x-c++src",
   "file_extension": ".C",
   "mimetype": " text/x-c++src",
   "name": "c++"
  }
 },
 "nbformat": 4,
 "nbformat_minor": 2
}
