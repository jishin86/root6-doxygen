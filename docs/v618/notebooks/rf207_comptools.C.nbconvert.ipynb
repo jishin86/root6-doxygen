{
 "cells": [
  {
   "cell_type": "markdown",
   "metadata": {},
   "source": [
    "# Rf 2 0 7_Comptools\n",
    "Addition and convolution: tools and utilities for manipulation of composite objects\n",
    "\n",
    "\n",
    "\n",
    "**Author:** 07/2008 - Wouter Verkerke  \n",
    "<i><small>This notebook tutorial was automatically generated with <a href= \"https://github.com/root-project/root/blob/master/documentation/doxygen/converttonotebook.py\">ROOTBOOK-izer</a> from the macro found in the ROOT repository  on Thursday, August 29, 2019 at 02:44 AM.</small></i>"
   ]
  },
  {
   "cell_type": "code",
   "execution_count": 1,
   "metadata": {
    "collapsed": false
   },
   "outputs": [],
   "source": [
    "%%cpp -d\n",
    "#include \"RooRealVar.h\"\n",
    "#include \"RooDataSet.h\"\n",
    "#include \"RooGaussian.h\"\n",
    "#include \"RooChebychev.h\"\n",
    "#include \"RooExponential.h\"\n",
    "#include \"RooAddPdf.h\"\n",
    "#include \"RooPlot.h\"\n",
    "#include \"RooCustomizer.h\"\n",
    "#include \"TCanvas.h\"\n",
    "#include \"TAxis.h\"\n",
    "#include \"TH1.h\""
   ]
  },
  {
   "cell_type": "code",
   "execution_count": 2,
   "metadata": {
    "collapsed": false
   },
   "outputs": [],
   "source": [
    "%%cpp -d\n",
    "// This is a workaround to make sure the namespace is used inside functions\n",
    "using namespace RooFit;"
   ]
  },
  {
   "cell_type": "markdown",
   "metadata": {},
   "source": [
    "Setup composite  pdf, dataset\n",
    " --------------------------------------------------------"
   ]
  },
  {
   "cell_type": "markdown",
   "metadata": {},
   "source": [
    "Declare observable x"
   ]
  },
  {
   "cell_type": "code",
   "execution_count": 3,
   "metadata": {
    "collapsed": false
   },
   "outputs": [
    {
     "name": "stdout",
     "output_type": "stream",
     "text": [
      "\n",
      "\u001b[1mRooFit v3.60 -- Developed by Wouter Verkerke and David Kirkby\u001b[0m \n",
      "                Copyright (C) 2000-2013 NIKHEF, University of California & Stanford University\n",
      "                All rights reserved, please read http://roofit.sourceforge.net/license.txt\n",
      "\n"
     ]
    }
   ],
   "source": [
    "RooRealVar x(\"x\", \"x\", 0, 10);"
   ]
  },
  {
   "cell_type": "markdown",
   "metadata": {},
   "source": [
    "Create two gaussian pdfs g1(x,mean1,sigma) anf g2(x,mean2,sigma) and their parameters"
   ]
  },
  {
   "cell_type": "code",
   "execution_count": 4,
   "metadata": {
    "collapsed": false
   },
   "outputs": [],
   "source": [
    "RooRealVar mean(\"mean\", \"mean of gaussians\", 5);\n",
    "RooRealVar sigma(\"sigma\", \"width of gaussians\", 0.5);\n",
    "RooGaussian sig(\"sig\", \"Signal component 1\", x, mean, sigma);"
   ]
  },
  {
   "cell_type": "markdown",
   "metadata": {},
   "source": [
    "Build chebychev polynomial p.d.f."
   ]
  },
  {
   "cell_type": "code",
   "execution_count": 5,
   "metadata": {
    "collapsed": false
   },
   "outputs": [],
   "source": [
    "RooRealVar a0(\"a0\", \"a0\", 0.5, 0., 1.);\n",
    "RooRealVar a1(\"a1\", \"a1\", 0.2, 0., 1.);\n",
    "RooChebychev bkg1(\"bkg1\", \"Background 1\", x, RooArgSet(a0, a1));"
   ]
  },
  {
   "cell_type": "markdown",
   "metadata": {},
   "source": [
    "Build exponential pdf"
   ]
  },
  {
   "cell_type": "code",
   "execution_count": 6,
   "metadata": {
    "collapsed": false
   },
   "outputs": [],
   "source": [
    "RooRealVar alpha(\"alpha\", \"alpha\", -1);\n",
    "RooExponential bkg2(\"bkg2\", \"Background 2\", x, alpha);"
   ]
  },
  {
   "cell_type": "markdown",
   "metadata": {},
   "source": [
    "Sum the background components into a composite background p.d.f."
   ]
  },
  {
   "cell_type": "code",
   "execution_count": 7,
   "metadata": {
    "collapsed": false
   },
   "outputs": [],
   "source": [
    "RooRealVar bkg1frac(\"bkg1frac\", \"fraction of component 1 in background\", 0.2, 0., 1.);\n",
    "RooAddPdf bkg(\"bkg\", \"Signal\", RooArgList(bkg1, bkg2), bkg1frac);"
   ]
  },
  {
   "cell_type": "markdown",
   "metadata": {},
   "source": [
    "Sum the composite signal and background"
   ]
  },
  {
   "cell_type": "code",
   "execution_count": 8,
   "metadata": {
    "collapsed": false
   },
   "outputs": [],
   "source": [
    "RooRealVar bkgfrac(\"bkgfrac\", \"fraction of background\", 0.5, 0., 1.);\n",
    "RooAddPdf model(\"model\", \"g1+g2+a\", RooArgList(bkg, sig), bkgfrac);"
   ]
  },
  {
   "cell_type": "markdown",
   "metadata": {},
   "source": [
    "Create dummy dataset that has more observables than the above pdf"
   ]
  },
  {
   "cell_type": "code",
   "execution_count": 9,
   "metadata": {
    "collapsed": false
   },
   "outputs": [],
   "source": [
    "RooRealVar y(\"y\", \"y\", -10, 10);\n",
    "RooDataSet data(\"data\", \"data\", RooArgSet(x, y));"
   ]
  },
  {
   "cell_type": "markdown",
   "metadata": {},
   "source": [
    "---------------------------------------------------\n",
    "Basic information requests\n",
    " ==================================================="
   ]
  },
  {
   "cell_type": "markdown",
   "metadata": {},
   "source": [
    "Get list of observables\n",
    " ---------------------------------------------"
   ]
  },
  {
   "cell_type": "markdown",
   "metadata": {},
   "source": [
    "Get list of observables of pdf in context of a dataset\n",
    "\n",
    " Observables are define each context as the variables\n",
    " shared between a model and a dataset. In this case\n",
    " that is the variable 'x'"
   ]
  },
  {
   "cell_type": "code",
   "execution_count": 10,
   "metadata": {
    "collapsed": false
   },
   "outputs": [
    {
     "name": "stdout",
     "output_type": "stream",
     "text": [
      "  1) 0x7fc387aa4010 RooRealVar:: x = 5  L(0 - 10)  \"x\"\n"
     ]
    }
   ],
   "source": [
    "RooArgSet *model_obs = model.getObservables(data);\n",
    "model_obs->Print(\"v\");"
   ]
  },
  {
   "cell_type": "markdown",
   "metadata": {},
   "source": [
    "Get list of parameters\n",
    " -------------------------------------------"
   ]
  },
  {
   "cell_type": "markdown",
   "metadata": {},
   "source": [
    "Get list of parameters, given list of observables"
   ]
  },
  {
   "cell_type": "code",
   "execution_count": 11,
   "metadata": {
    "collapsed": false
   },
   "outputs": [
    {
     "name": "stdout",
     "output_type": "stream",
     "text": [
      "  1) 0x7fc386800000 RooRealVar::       a0 = 0.5  L(0 - 1)  \"a0\"\n",
      "  2) 0x7fc3868003a8 RooRealVar::       a1 = 0.2  L(0 - 1)  \"a1\"\n",
      "  3) 0x7fc3867fd000 RooRealVar::    alpha = -1 C  L(-INF - +INF)  \"alpha\"\n",
      "  4) 0x7fc3867fa000 RooRealVar:: bkg1frac = 0.2  L(0 - 1)  \"fraction of component 1 in background\"\n",
      "  5) 0x7fc3867f7000 RooRealVar::  bkgfrac = 0.5  L(0 - 1)  \"fraction of background\"\n",
      "  6) 0x7fc387aa43b8 RooRealVar::     mean = 5 C  L(-INF - +INF)  \"mean of gaussians\"\n",
      "  7) 0x7fc387aa4760 RooRealVar::    sigma = 0.5 C  L(-INF - +INF)  \"width of gaussians\"\n"
     ]
    }
   ],
   "source": [
    "RooArgSet *model_params = model.getParameters(x);\n",
    "model_params->Print(\"v\");"
   ]
  },
  {
   "cell_type": "markdown",
   "metadata": {},
   "source": [
    "Get list of parameters, given a dataset\n",
    " (Gives identical results to operation above)"
   ]
  },
  {
   "cell_type": "code",
   "execution_count": 12,
   "metadata": {
    "collapsed": false
   },
   "outputs": [
    {
     "name": "stdout",
     "output_type": "stream",
     "text": [
      "RooArgSet::parameters = (a0,a1,alpha,bkg1frac,bkgfrac,mean,sigma)\n"
     ]
    }
   ],
   "source": [
    "RooArgSet *model_params2 = model.getParameters(data);\n",
    "model_params2->Print();"
   ]
  },
  {
   "cell_type": "markdown",
   "metadata": {},
   "source": [
    "Get list of components\n",
    " -------------------------------------------"
   ]
  },
  {
   "cell_type": "markdown",
   "metadata": {},
   "source": [
    "Get list of component objects, including top-level node"
   ]
  },
  {
   "cell_type": "code",
   "execution_count": 13,
   "metadata": {
    "collapsed": false
   },
   "outputs": [
    {
     "name": "stdout",
     "output_type": "stream",
     "text": [
      "  1) 0x7fc3867f73a8 RooAddPdf:: model[ bkgfrac * bkg + [%] * sig ] = 0.582695  \"g1+g2+a\"\n",
      "  2) 0x7fc3867fa3a8 RooAddPdf::   bkg[ bkg1frac * bkg1 + [%] * bkg2 ] = 0.16539  \"Signal\"\n",
      "  3) 0x7fc386800750 RooChebychev::  bkg1[ x=x coefficients=(a0,a1) ] = 0.8  \"Background 1\"\n",
      "  4) 0x7fc3867fd3a8 RooExponential::  bkg2[ x=x c=alpha ] = 0.00673795  \"Background 2\"\n",
      "  5) 0x7fc387aa4b08 RooGaussian::   sig[ x=x mean=mean sigma=sigma ] = 1  \"Signal component 1\"\n"
     ]
    }
   ],
   "source": [
    "RooArgSet *model_comps = model.getComponents();\n",
    "model_comps->Print(\"v\");"
   ]
  },
  {
   "cell_type": "markdown",
   "metadata": {},
   "source": [
    "-------------------------------------------------------------------------------\n",
    "Modifications to structure of composites\n",
    " ==============================================================================="
   ]
  },
  {
   "cell_type": "markdown",
   "metadata": {},
   "source": [
    "Create a second gaussian"
   ]
  },
  {
   "cell_type": "code",
   "execution_count": 14,
   "metadata": {
    "collapsed": false
   },
   "outputs": [],
   "source": [
    "RooRealVar sigma2(\"sigma2\", \"width of gaussians\", 1);\n",
    "RooGaussian sig2(\"sig2\", \"Signal component 1\", x, mean, sigma2);"
   ]
  },
  {
   "cell_type": "markdown",
   "metadata": {},
   "source": [
    "Create a sum of the original gaussian plus the new second gaussian"
   ]
  },
  {
   "cell_type": "code",
   "execution_count": 15,
   "metadata": {
    "collapsed": false
   },
   "outputs": [],
   "source": [
    "RooRealVar sig1frac(\"sig1frac\", \"fraction of component 1 in signal\", 0.8, 0., 1.);\n",
    "RooAddPdf sigsum(\"sigsum\", \"sig+sig2\", RooArgList(sig, sig2), sig1frac);"
   ]
  },
  {
   "cell_type": "markdown",
   "metadata": {},
   "source": [
    "Construct a customizer utility to customize model"
   ]
  },
  {
   "cell_type": "code",
   "execution_count": 16,
   "metadata": {
    "collapsed": false
   },
   "outputs": [],
   "source": [
    "RooCustomizer cust(model, \"cust\");"
   ]
  },
  {
   "cell_type": "markdown",
   "metadata": {},
   "source": [
    "Instruct the customizer to replace node 'sig' with node 'sigsum'"
   ]
  },
  {
   "cell_type": "code",
   "execution_count": 17,
   "metadata": {
    "collapsed": false
   },
   "outputs": [],
   "source": [
    "cust.replaceArg(sig, sigsum);"
   ]
  },
  {
   "cell_type": "markdown",
   "metadata": {},
   "source": [
    "Build a clone of the input pdf according to the above customization\n",
    " instructions. Each node that requires modified is clone so that the\n",
    " original pdf remained untouched. The name of each cloned node is that\n",
    " of the original node suffixed by the name of the customizer object\n",
    "\n",
    " The returned head node own all nodes that were cloned as part of\n",
    " the build process so when cust_clone is deleted so will all other\n",
    " nodes that were created in the process."
   ]
  },
  {
   "cell_type": "code",
   "execution_count": 18,
   "metadata": {
    "collapsed": false
   },
   "outputs": [
    {
     "name": "stdout",
     "output_type": "stream",
     "text": [
      "[#1] INFO:ObjectHandling -- RooCustomizer::build(model): tree node sig will be replaced by sigsum\n",
      "[#1] INFO:ObjectHandling -- RooCustomizer::build(model) Branch node RooAddPdf::model cloned: depends on a replaced parameter\n",
      "[#1] INFO:ObjectHandling -- RooCustomizer::build(model) Branch node sig is already replaced\n"
     ]
    }
   ],
   "source": [
    "RooAbsPdf *cust_clone = (RooAbsPdf *)cust.build(kTRUE);"
   ]
  },
  {
   "cell_type": "markdown",
   "metadata": {},
   "source": [
    "Print structure of clone of model with sig->sigsum replacement."
   ]
  },
  {
   "cell_type": "code",
   "execution_count": 19,
   "metadata": {
    "collapsed": false
   },
   "outputs": [
    {
     "name": "stdout",
     "output_type": "stream",
     "text": [
      "0x7fc36468ad30 RooAddPdf::model_cust = 0.582695 [Auto,Dirty] \n",
      "  0x7fc3867fa3a8/V- RooAddPdf::bkg = 0.16539 [Auto,Dirty] \n",
      "    0x7fc386800750/V- RooChebychev::bkg1 = 0.8 [Auto,Dirty] \n",
      "      0x7fc387aa4010/V- RooRealVar::x = 5\n",
      "      0x7fc386800000/V- RooRealVar::a0 = 0.5\n",
      "      0x7fc3868003a8/V- RooRealVar::a1 = 0.2\n",
      "    0x7fc3867fa000/V- RooRealVar::bkg1frac = 0.2\n",
      "    0x7fc3867fd3a8/V- RooExponential::bkg2 = 0.00673795 [Auto,Dirty] \n",
      "      0x7fc387aa4010/V- RooRealVar::x = 5\n",
      "      0x7fc3867fd000/V- RooRealVar::alpha = -1\n",
      "  0x7fc3867f7000/V- RooRealVar::bkgfrac = 0.5\n",
      "  0x7fc37a3d93a8/V- RooAddPdf::sigsum = 1 [Auto,Dirty] \n",
      "    0x7fc387aa4b08/V- RooGaussian::sig = 1 [Auto,Dirty] \n",
      "      0x7fc387aa4010/V- RooRealVar::x = 5\n",
      "      0x7fc387aa43b8/V- RooRealVar::mean = 5\n",
      "      0x7fc387aa4760/V- RooRealVar::sigma = 0.5\n",
      "    0x7fc37a3d9000/V- RooRealVar::sig1frac = 0.8\n",
      "    0x7fc37a3dc3a8/V- RooGaussian::sig2 = 1 [Auto,Dirty] \n",
      "      0x7fc387aa4010/V- RooRealVar::x = 5\n",
      "      0x7fc387aa43b8/V- RooRealVar::mean = 5\n",
      "      0x7fc37a3dc000/V- RooRealVar::sigma2 = 1\n"
     ]
    }
   ],
   "source": [
    "cust_clone->Print(\"t\");\n",
    "\n",
    "delete cust_clone;"
   ]
  }
 ],
 "metadata": {
  "kernelspec": {
   "display_name": "ROOT C++",
   "language": "c++",
   "name": "root"
  },
  "language_info": {
   "codemirror_mode": "text/x-c++src",
   "file_extension": ".C",
   "mimetype": " text/x-c++src",
   "name": "c++"
  }
 },
 "nbformat": 4,
 "nbformat_minor": 2
}
