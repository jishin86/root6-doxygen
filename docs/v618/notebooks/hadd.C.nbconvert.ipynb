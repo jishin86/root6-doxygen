{
 "cells": [
  {
   "cell_type": "markdown",
   "metadata": {},
   "source": [
    "# Hadd\n",
    "Macro to add histogram files\n",
    "This macro is kept for didactical purposes only: use instead the executable $ROOTSYS/bin/hadd !\n",
    "\n",
    "This macro will add histograms from a list of root files and write them\n",
    "to a target root file. The target file is newly created and must not be\n",
    "identical to one of the source files.\n",
    "This code is based on the hadd.C example by Rene Brun and Dirk Geppert,\n",
    "which had a problem with directories more than one level deep.\n",
    "The macro from Sven has been enhanced by Anne-Sylvie Nicollerat <Anne-Sylvie.Nicollerat@cern.ch>\n",
    "to automatically add Trees (via a chain of trees).\n",
    "\n",
    "\n",
    "\n",
    "\n",
    "**Author:** Sven A. Schmidt, sven.schmidt@cern.ch, 13.2.2001  \n",
    "<i><small>This notebook tutorial was automatically generated with <a href= \"https://github.com/root-project/root/blob/master/documentation/doxygen/converttonotebook.py\">ROOTBOOK-izer</a> from the macro found in the ROOT repository  on Thursday, August 29, 2019 at 02:04 AM.</small></i>"
   ]
  },
  {
   "cell_type": "code",
   "execution_count": 1,
   "metadata": {
    "collapsed": false
   },
   "outputs": [],
   "source": [
    "%%cpp -d\n",
    "#include <string.h>\n",
    "#include \"TChain.h\"\n",
    "#include \"TFile.h\"\n",
    "#include \"TH1.h\"\n",
    "#include \"TTree.h\"\n",
    "#include \"TKey.h\"\n",
    "#include \"Riostream.h\"\n",
    "\n",
    "TList *FileList;\n",
    "TFile *Target;\n",
    "\n",
    "void MergeRootfile( TDirectory *target, TList *sourcelist );"
   ]
  },
  {
   "cell_type": "markdown",
   "metadata": {},
   "source": [
    " A helper function is created: "
   ]
  },
  {
   "cell_type": "code",
   "execution_count": 2,
   "metadata": {
    "collapsed": false
   },
   "outputs": [],
   "source": [
    "%%cpp -d\n",
    "void MergeRootfile( TDirectory *target, TList *sourcelist ) {\n",
    "\n",
    "   //  cout << \"Target path: \" << target->GetPath() << endl;\n",
    "   TString path( (char*)strstr( target->GetPath(), \":\" ) );\n",
    "   path.Remove( 0, 2 );\n",
    "\n",
    "   TFile *first_source = (TFile*)sourcelist->First();\n",
    "   first_source->cd( path );\n",
    "   TDirectory *current_sourcedir = gDirectory;\n",
    "   //gain time, do not add the objects in the list in memory\n",
    "   Bool_t status = TH1::AddDirectoryStatus();\n",
    "   TH1::AddDirectory(kFALSE);\n",
    "\n",
    "   // loop over all keys in this directory\n",
    "   TChain *globChain = 0;\n",
    "   TIter nextkey( current_sourcedir->GetListOfKeys() );\n",
    "   TKey *key, *oldkey=0;\n",
    "   while ( (key = (TKey*)nextkey())) {\n",
    "\n",
    "      //keep only the highest cycle number for each key\n",
    "      if (oldkey && !strcmp(oldkey->GetName(),key->GetName())) continue;\n",
    "\n",
    "      // read object from first source file\n",
    "      first_source->cd( path );\n",
    "      TObject *obj = key->ReadObj();\n",
    "\n",
    "      if ( obj->IsA()->InheritsFrom( TH1::Class() ) ) {\n",
    "         // descendant of TH1 -> merge it\n",
    "\n",
    "         //      cout << \"Merging histogram \" << obj->GetName() << endl;\n",
    "         TH1 *h1 = (TH1*)obj;\n",
    "\n",
    "         // loop over all source files and add the content of the\n",
    "         // correspondant histogram to the one pointed to by \"h1\"\n",
    "         TFile *nextsource = (TFile*)sourcelist->After( first_source );\n",
    "         while ( nextsource ) {\n",
    "\n",
    "            // make sure we are at the correct directory level by cd'ing to path\n",
    "            nextsource->cd( path );\n",
    "            TKey *key2 = (TKey*)gDirectory->GetListOfKeys()->FindObject(h1->GetName());\n",
    "            if (key2) {\n",
    "               TH1 *h2 = (TH1*)key2->ReadObj();\n",
    "               h1->Add( h2 );\n",
    "               delete h2;\n",
    "            }\n",
    "\n",
    "            nextsource = (TFile*)sourcelist->After( nextsource );\n",
    "         }\n",
    "      }\n",
    "      else if ( obj->IsA()->InheritsFrom( TTree::Class() ) ) {\n",
    "\n",
    "         // loop over all source files create a chain of Trees \"globChain\"\n",
    "         const char* obj_name= obj->GetName();\n",
    "\n",
    "         globChain = new TChain(obj_name);\n",
    "         globChain->Add(first_source->GetName());\n",
    "         TFile *nextsource = (TFile*)sourcelist->After( first_source );\n",
    "         //      const char* file_name = nextsource->GetName();\n",
    "         // cout << \"file name  \" << file_name << endl;\n",
    "         while ( nextsource ) {\n",
    "\n",
    "            globChain->Add(nextsource->GetName());\n",
    "            nextsource = (TFile*)sourcelist->After( nextsource );\n",
    "         }\n",
    "\n",
    "      } else if ( obj->IsA()->InheritsFrom( TDirectory::Class() ) ) {\n",
    "         // it's a subdirectory\n",
    "\n",
    "         cout << \"Found subdirectory \" << obj->GetName() << endl;\n",
    "\n",
    "         // create a new subdir of same name and title in the target file\n",
    "         target->cd();\n",
    "         TDirectory *newdir = target->mkdir( obj->GetName(), obj->GetTitle() );\n",
    "\n",
    "         // newdir is now the starting point of another round of merging\n",
    "         // newdir still knows its depth within the target file via\n",
    "         // GetPath(), so we can still figure out where we are in the recursion\n",
    "         MergeRootfile( newdir, sourcelist );\n",
    "\n",
    "      } else {\n",
    "\n",
    "         // object is of no type that we know or can handle\n",
    "         cout << \"Unknown object type, name: \"\n",
    "         << obj->GetName() << \" title: \" << obj->GetTitle() << endl;\n",
    "      }\n",
    "\n",
    "      // now write the merged histogram (which is \"in\" obj) to the target file\n",
    "      // note that this will just store obj in the current directory level,\n",
    "      // which is not persistent until the complete directory itself is stored\n",
    "      // by \"target->Write()\" below\n",
    "      if ( obj ) {\n",
    "         target->cd();\n",
    "\n",
    "         //!!if the object is a tree, it is stored in globChain...\n",
    "         if(obj->IsA()->InheritsFrom( TTree::Class() ))\n",
    "            globChain->Merge(target->GetFile(),0,\"keep\");\n",
    "         else\n",
    "            obj->Write( key->GetName() );\n",
    "      }\n",
    "\n",
    "   } // while ( ( TKey *key = (TKey*)nextkey() ) )\n",
    "\n",
    "   // save modifications to target file\n",
    "   target->SaveSelf(kTRUE);\n",
    "   TH1::AddDirectory(status);\n",
    "}"
   ]
  },
  {
   "cell_type": "markdown",
   "metadata": {},
   "source": [
    "Prepare the files to me merged"
   ]
  },
  {
   "cell_type": "code",
   "execution_count": 3,
   "metadata": {
    "collapsed": false
   },
   "outputs": [],
   "source": [
    "if(gSystem->AccessPathName(\"hsimple1.root\")) {\n",
    "  gSystem->CopyFile(\"hsimple.root\", \"hsimple1.root\");\n",
    "  gSystem->CopyFile(\"hsimple.root\", \"hsimple2.root\");\n",
    "}"
   ]
  },
  {
   "cell_type": "markdown",
   "metadata": {},
   "source": [
    "In an interactive root session, edit the file names\n",
    " Target and FileList, then\n",
    " root > .L hadd.C\n",
    " root > hadd()"
   ]
  },
  {
   "cell_type": "code",
   "execution_count": 4,
   "metadata": {
    "collapsed": false
   },
   "outputs": [],
   "source": [
    "Target = TFile::Open( \"result.root\", \"RECREATE\" );\n",
    "\n",
    "FileList = new TList();\n",
    "FileList->Add( TFile::Open(\"hsimple1.root\") );\n",
    "FileList->Add( TFile::Open(\"hsimple2.root\") );\n",
    "\n",
    "MergeRootfile( Target, FileList );"
   ]
  }
 ],
 "metadata": {
  "kernelspec": {
   "display_name": "ROOT C++",
   "language": "c++",
   "name": "root"
  },
  "language_info": {
   "codemirror_mode": "text/x-c++src",
   "file_extension": ".C",
   "mimetype": " text/x-c++src",
   "name": "c++"
  }
 },
 "nbformat": 4,
 "nbformat_minor": 2
}
