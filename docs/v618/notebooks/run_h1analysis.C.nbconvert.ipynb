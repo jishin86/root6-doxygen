{
 "cells": [
  {
   "cell_type": "markdown",
   "metadata": {},
   "source": [
    "# Run_H 1Analysis\n",
    "Macro driving the analysis can specify file name and type\n",
    "\n",
    ".- type == 0 : normal\n",
    " - type =  1 : use AClic to compile selector\n",
    " - type =  2 : use a fill list and then process the fill list///\n",
    "\n",
    "\n",
    "\n",
    "\n",
    "**Author:**   \n",
    "<i><small>This notebook tutorial was automatically generated with <a href= \"https://github.com/root-project/root/blob/master/documentation/doxygen/converttonotebook.py\">ROOTBOOK-izer</a> from the macro found in the ROOT repository  on Thursday, August 29, 2019 at 03:56 AM.</small></i>"
   ]
  },
  {
   "cell_type": "markdown",
   "metadata": {},
   "source": [
    "----------------------------------------"
   ]
  },
  {
   "cell_type": "markdown",
   "metadata": {},
   "source": [
    " Arguments are defined. "
   ]
  },
  {
   "cell_type": "code",
   "execution_count": 1,
   "metadata": {
    "collapsed": false
   },
   "outputs": [],
   "source": [
    "int type = 0;\n",
    "const char * h1dir = 0;"
   ]
  },
  {
   "cell_type": "code",
   "execution_count": 2,
   "metadata": {
    "collapsed": false
   },
   "outputs": [
    {
     "name": "stdout",
     "output_type": "stream",
     "text": [
      "Run h1 analysis \n"
     ]
    }
   ],
   "source": [
    "std::cout << \"Run h1 analysis \" << std::endl;"
   ]
  },
  {
   "cell_type": "markdown",
   "metadata": {},
   "source": [
    "Create first the chain with all the files"
   ]
  },
  {
   "cell_type": "code",
   "execution_count": 3,
   "metadata": {
    "collapsed": false
   },
   "outputs": [
    {
     "name": "stdout",
     "output_type": "stream",
     "text": [
      "Creating the chain\n"
     ]
    },
    {
     "name": "stderr",
     "output_type": "stream",
     "text": [
      "Error in <PyROOT::TPyROOTApplication::ProcessLine>: macro ./h1analysis.C not found in path .:/mnt/build/workspace/root-makedoc-v618/rootspi/rdoc/src/v6-18-00-patches.build/macros\n",
      "Error in <TSelector::GetSelector>: The file ./h1analysis.C does not define a class named h1analysis.\n"
     ]
    }
   ],
   "source": [
    "TChain chain(\"h42\");\n",
    "\n",
    "if (h1dir) {\n",
    "   gSystem->Setenv(\"H1\",h1dir);\n",
    "}\n",
    "else\n",
    "   gSystem->Setenv(\"H1\",\"http://root.cern.ch/files/h1/\");\n",
    "\n",
    "\n",
    "std::cout << \"Creating the chain\" << std::endl;\n",
    "\n",
    "chain.SetCacheSize(20*1024*1024);\n",
    "chain.Add(\"$H1/dstarmb.root\");\n",
    "chain.Add(\"$H1/dstarp1a.root\");\n",
    "chain.Add(\"$H1/dstarp1b.root\");\n",
    "chain.Add(\"$H1/dstarp2.root\");\n",
    "\n",
    "TString selectionMacro = TString(gSystem->DirName(__FILE__) ) + \"/h1analysis.C\";\n",
    "\n",
    "if (type == 0)\n",
    "   chain.Process(selectionMacro);\n",
    "else if (type == 1)   {\n",
    "   // use AClic ( add a + at the end\n",
    "   selectionMacro += \"+\";\n",
    "   chain.Process(selectionMacro);\n",
    "}\n",
    "else if (type == 2) {\n",
    "   chain.Process(selectionMacro,\"fillList\");\n",
    "   chain.Process(selectionMacro,\"useList\");\n",
    "}"
   ]
  }
 ],
 "metadata": {
  "kernelspec": {
   "display_name": "ROOT C++",
   "language": "c++",
   "name": "root"
  },
  "language_info": {
   "codemirror_mode": "text/x-c++src",
   "file_extension": ".C",
   "mimetype": " text/x-c++src",
   "name": "c++"
  }
 },
 "nbformat": 4,
 "nbformat_minor": 2
}
