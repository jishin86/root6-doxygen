{
 "cells": [
  {
   "cell_type": "markdown",
   "metadata": {},
   "source": [
    "#  Dynamic Slice\n",
    "Show the slice of a TH2 following the mouse position.\n",
    "\n",
    "\n",
    "\n",
    "\n",
    "**Author:** Rene Brun  \n",
    "<i><small>This notebook tutorial was automatically generated with <a href= \"https://github.com/root-project/root/blob/master/documentation/doxygen/converttonotebook.py\">ROOTBOOK-izer</a> from the macro found in the ROOT repository  on Thursday, August 29, 2019 at 01:53 AM.</small></i>"
   ]
  },
  {
   "cell_type": "markdown",
   "metadata": {},
   "source": [
    " A helper function is created: "
   ]
  },
  {
   "cell_type": "code",
   "execution_count": 1,
   "metadata": {
    "collapsed": false
   },
   "outputs": [],
   "source": [
    "%%cpp -d\n",
    "void DynamicExec()\n",
    "{\n",
    "   // Example of function called when a mouse event occurs in a pad.\n",
    "   // When moving the mouse in the canvas, a second canvas shows the\n",
    "   // projection along X of the bin corresponding to the Y position\n",
    "   // of the mouse. The resulting histogram is fitted with a gaussian.\n",
    "   // A \"dynamic\" line shows the current bin position in Y.\n",
    "   // This more elaborated example can be used as a starting point\n",
    "   // to develop more powerful interactive applications exploiting Cling\n",
    "   // as a development engine.\n",
    "\n",
    "   TObject *select = gPad->GetSelected();\n",
    "   if(!select) return;\n",
    "   if (!select->InheritsFrom(TH2::Class())) {gPad->SetUniqueID(0); return;}\n",
    "   TH2 *h = (TH2*)select;\n",
    "   gPad->GetCanvas()->FeedbackMode(kTRUE);\n",
    "\n",
    "   //erase old position and draw a line at current position\n",
    "   int pyold = gPad->GetUniqueID();\n",
    "   int px = gPad->GetEventX();\n",
    "   int py = gPad->GetEventY();\n",
    "   float uxmin = gPad->GetUxmin();\n",
    "   float uxmax = gPad->GetUxmax();\n",
    "   int pxmin = gPad->XtoAbsPixel(uxmin);\n",
    "   int pxmax = gPad->XtoAbsPixel(uxmax);\n",
    "   if(pyold) gVirtualX->DrawLine(pxmin,pyold,pxmax,pyold);\n",
    "   gVirtualX->DrawLine(pxmin,py,pxmax,py);\n",
    "   gPad->SetUniqueID(py);\n",
    "   Float_t upy = gPad->AbsPixeltoY(py);\n",
    "   Float_t y = gPad->PadtoY(upy);\n",
    "\n",
    "   //create or set the new canvas c2\n",
    "   TVirtualPad *padsav = gPad;\n",
    "   TCanvas *c2 = (TCanvas*)gROOT->GetListOfCanvases()->FindObject(\"c2\");\n",
    "   if(c2) delete c2->GetPrimitive(\"Projection\");\n",
    "   else   c2 = new TCanvas(\"c2\",\"Projection Canvas\",710,10,700,500);\n",
    "   c2->SetGrid();\n",
    "   c2->cd();\n",
    "\n",
    "   //draw slice corresponding to mouse position\n",
    "   Int_t biny = h->GetYaxis()->FindBin(y);\n",
    "   TH1D *hp = h->ProjectionX(\"\",biny,biny);\n",
    "   hp->SetFillColor(38);\n",
    "   char title[80];\n",
    "   sprintf(title,\"Projection of biny=%d\",biny);\n",
    "   hp->SetName(\"Projection\");\n",
    "   hp->SetTitle(title);\n",
    "   hp->Fit(\"gaus\",\"ql\");\n",
    "   hp->GetFunction(\"gaus\")->SetLineColor(kRed);\n",
    "   hp->GetFunction(\"gaus\")->SetLineWidth(6);\n",
    "   c2->Update();\n",
    "   padsav->cd();\n",
    "}"
   ]
  },
  {
   "cell_type": "markdown",
   "metadata": {},
   "source": [
    "Create a new canvas."
   ]
  },
  {
   "cell_type": "code",
   "execution_count": 2,
   "metadata": {
    "collapsed": false
   },
   "outputs": [],
   "source": [
    "TCanvas* c1 = new TCanvas(\"c1\",\"Dynamic Slice Example\",10,10,700,500);"
   ]
  },
  {
   "cell_type": "markdown",
   "metadata": {},
   "source": [
    "Create a 2-d histogram, fill and draw it"
   ]
  },
  {
   "cell_type": "code",
   "execution_count": 3,
   "metadata": {
    "collapsed": false
   },
   "outputs": [],
   "source": [
    "TH2F *hpxpy  = new TH2F(\"hpxpy\",\"py vs px\",40,-4,4,40,-4,4);\n",
    "hpxpy->SetStats(0);\n",
    "Double_t px,py;\n",
    "for (Int_t i = 0; i < 50000; i++) {\n",
    "   gRandom->Rannor(px,py);\n",
    "   hpxpy->Fill(px,py);\n",
    "}\n",
    "hpxpy->Draw(\"col\");"
   ]
  },
  {
   "cell_type": "markdown",
   "metadata": {},
   "source": [
    "Add a texec object to the canvas"
   ]
  },
  {
   "cell_type": "code",
   "execution_count": 4,
   "metadata": {
    "collapsed": false
   },
   "outputs": [],
   "source": [
    "c1->AddExec(\"dynamic\",\"DynamicExec()\");"
   ]
  },
  {
   "cell_type": "markdown",
   "metadata": {},
   "source": [
    "Draw all canvases "
   ]
  },
  {
   "cell_type": "code",
   "execution_count": 5,
   "metadata": {
    "collapsed": false
   },
   "outputs": [
    {
     "data": {
      "text/html": [
       "\n",
       "<div id=\"root_plot_1\"\n",
       "     style=\"width: 696px; height: 472px\">\n",
       "</div>\n",
       "\n",
       "<script>\n",
       " requirejs.config({\n",
       "     paths: {\n",
       "       'JSRootCore' : 'https://root.cern.ch/js/notebook//scripts/JSRootCore',\n",
       "     }\n",
       "   });\n",
       " require(['JSRootCore'],\n",
       "     function(Core) {\n",
       "       var obj = Core.JSONR_unref({\"_typename\":\"TCanvas\",\"fUniqueID\":0,\"fBits\":53673992,\"fLineColor\":1,\"fLineStyle\":1,\"fLineWidth\":1,\"fFillColor\":0,\"fFillStyle\":1001,\"fLeftMargin\":0.1,\"fRightMargin\":0.1,\"fBottomMargin\":0.1,\"fTopMargin\":0.1,\"fXfile\":2,\"fYfile\":2,\"fAfile\":1,\"fXstat\":0.99,\"fYstat\":0.99,\"fAstat\":2,\"fFrameFillColor\":0,\"fFrameLineColor\":1,\"fFrameFillStyle\":1001,\"fFrameLineStyle\":1,\"fFrameLineWidth\":1,\"fFrameBorderSize\":1,\"fFrameBorderMode\":0,\"fX1\":-5.00000007450581,\"fY1\":-5.00000007450581,\"fX2\":5.00000007450581,\"fY2\":5.00000007450581,\"fXtoAbsPixelk\":348.00005,\"fXtoPixelk\":348.00005,\"fXtoPixel\":69.5999989628791,\"fYtoAbsPixelk\":236.00005,\"fYtoPixelk\":236.00005,\"fYtoPixel\":-47.1999992966652,\"fUtoAbsPixelk\":5e-5,\"fUtoPixelk\":5e-5,\"fUtoPixel\":696,\"fVtoAbsPixelk\":472.00005,\"fVtoPixelk\":472,\"fVtoPixel\":-472,\"fAbsPixeltoXk\":-5.00000007450581,\"fPixeltoXk\":-5.00000007450581,\"fPixeltoX\":0.0143678163060512,\"fAbsPixeltoYk\":5.00000007450581,\"fPixeltoYk\":-5.00000007450581,\"fPixeltoY\":-0.0211864409936687,\"fXlowNDC\":0,\"fYlowNDC\":0,\"fXUpNDC\":0,\"fYUpNDC\":0,\"fWNDC\":1,\"fHNDC\":1,\"fAbsXlowNDC\":0,\"fAbsYlowNDC\":0,\"fAbsWNDC\":1,\"fAbsHNDC\":1,\"fUxmin\":-4,\"fUymin\":-4,\"fUxmax\":4,\"fUymax\":4,\"fTheta\":30,\"fPhi\":30,\"fAspectRatio\":0,\"fNumber\":0,\"fTickx\":0,\"fTicky\":0,\"fLogx\":0,\"fLogy\":0,\"fLogz\":0,\"fPadPaint\":0,\"fCrosshair\":0,\"fCrosshairPos\":0,\"fBorderSize\":2,\"fBorderMode\":0,\"fModified\":false,\"fGridx\":false,\"fGridy\":false,\"fAbsCoord\":false,\"fEditable\":true,\"fFixedAspectRatio\":false,\"fPrimitives\":{\"_typename\":\"TList\",\"name\":\"TList\",\"arr\":[{\"_typename\":\"TFrame\",\"fUniqueID\":0,\"fBits\":50331656,\"fLineColor\":1,\"fLineStyle\":1,\"fLineWidth\":1,\"fFillColor\":0,\"fFillStyle\":1001,\"fX1\":-4,\"fY1\":-4,\"fX2\":4,\"fY2\":4,\"fBorderSize\":1,\"fBorderMode\":0},{\"_typename\":\"TH2F\",\"fUniqueID\":0,\"fBits\":50332168,\"fName\":\"hpxpy\",\"fTitle\":\"py vs px\",\"fLineColor\":602,\"fLineStyle\":1,\"fLineWidth\":1,\"fFillColor\":0,\"fFillStyle\":1001,\"fMarkerColor\":1,\"fMarkerStyle\":1,\"fMarkerSize\":1,\"fNcells\":1764,\"fXaxis\":{\"_typename\":\"TAxis\",\"fUniqueID\":0,\"fBits\":50331648,\"fName\":\"xaxis\",\"fTitle\":\"\",\"fNdivisions\":510,\"fAxisColor\":1,\"fLabelColor\":1,\"fLabelFont\":42,\"fLabelOffset\":0.005,\"fLabelSize\":0.035,\"fTickLength\":0.03,\"fTitleOffset\":1,\"fTitleSize\":0.035,\"fTitleColor\":1,\"fTitleFont\":42,\"fNbins\":40,\"fXmin\":-4,\"fXmax\":4,\"fXbins\":[],\"fFirst\":0,\"fLast\":0,\"fBits2\":0,\"fTimeDisplay\":false,\"fTimeFormat\":\"\",\"fLabels\":null,\"fModLabs\":null},\"fYaxis\":{\"_typename\":\"TAxis\",\"fUniqueID\":0,\"fBits\":50331648,\"fName\":\"yaxis\",\"fTitle\":\"\",\"fNdivisions\":510,\"fAxisColor\":1,\"fLabelColor\":1,\"fLabelFont\":42,\"fLabelOffset\":0.005,\"fLabelSize\":0.035,\"fTickLength\":0.03,\"fTitleOffset\":0,\"fTitleSize\":0.035,\"fTitleColor\":1,\"fTitleFont\":42,\"fNbins\":40,\"fXmin\":-4,\"fXmax\":4,\"fXbins\":[],\"fFirst\":0,\"fLast\":0,\"fBits2\":0,\"fTimeDisplay\":false,\"fTimeFormat\":\"\",\"fLabels\":null,\"fModLabs\":null},\"fZaxis\":{\"_typename\":\"TAxis\",\"fUniqueID\":0,\"fBits\":50331648,\"fName\":\"zaxis\",\"fTitle\":\"\",\"fNdivisions\":510,\"fAxisColor\":1,\"fLabelColor\":1,\"fLabelFont\":42,\"fLabelOffset\":0.005,\"fLabelSize\":0.035,\"fTickLength\":0.03,\"fTitleOffset\":1,\"fTitleSize\":0.035,\"fTitleColor\":1,\"fTitleFont\":42,\"fNbins\":1,\"fXmin\":0,\"fXmax\":1,\"fXbins\":[],\"fFirst\":0,\"fLast\":0,\"fBits2\":0,\"fTimeDisplay\":false,\"fTimeFormat\":\"\",\"fLabels\":null,\"fModLabs\":null},\"fBarOffset\":0,\"fBarWidth\":1000,\"fEntries\":50000,\"fTsumw\":49996,\"fTsumw2\":49996,\"fTsumwx\":91.3933792290349,\"fTsumwx2\":49842.183836518,\"fMaximum\":-1111,\"fMinimum\":-1111,\"fNormFactor\":0,\"fContour\":[0,17.45,34.9,52.35,69.8,87.25,104.7,122.15,139.6,157.05,174.5,191.95,209.4,226.85,244.3,261.75,279.2,296.65,314.1,331.55],\"fSumw2\":[],\"fOption\":\"\",\"fFunctions\":{\"_typename\":\"TList\",\"name\":\"TList\",\"arr\":[],\"opt\":[]},\"fBufferSize\":0,\"fBuffer\":[],\"fBinStatErrOpt\":0,\"fStatOverflows\":2,\"fScalefactor\":1,\"fTsumwy\":-508.215176715678,\"fTsumwy2\":49889.7624997891,\"fTsumwxy\":506.719042066571,\"fArray\":[0,0,0,0,0,0,0,0,0,0,0,0,0,0,0,0,0,0,0,0,0,0,0,0,0,0,0,0,0,0,0,0,0,0,0,0,0,0,0,0,0,0,0,0,0,0,0,0,0,0,0,0,0,0,0,0,0,0,1,0,0,0,0,0,0,0,0,0,0,0,0,0,0,0,0,0,0,0,0,0,0,0,0,0,0,0,0,0,0,0,1,0,0,0,0,0,0,0,0,0,0,0,0,0,0,0,0,0,0,0,0,0,0,0,0,0,0,0,0,0,0,0,0,0,0,0,0,0,0,0,0,0,0,0,0,0,0,0,0,0,0,1,0,1,2,0,1,1,0,0,0,0,0,1,1,1,0,0,1,0,0,0,0,0,0,0,0,0,0,0,0,0,0,0,0,0,0,0,0,1,1,0,0,0,1,1,2,0,0,1,1,0,2,1,2,0,0,0,1,0,0,0,0,0,0,0,0,0,0,0,0,0,0,0,0,0,0,0,0,0,0,2,0,1,1,0,4,0,0,1,5,0,2,3,1,3,2,1,1,1,0,0,0,0,0,0,0,0,0,0,0,0,0,0,0,0,0,0,0,0,0,0,0,2,0,5,5,3,6,1,5,7,4,7,5,5,3,5,3,2,0,1,2,0,0,0,0,0,0,0,0,0,0,0,0,0,0,0,0,0,0,0,1,0,0,3,2,1,4,2,4,5,5,5,7,11,6,6,7,4,3,7,4,3,1,0,1,1,1,0,0,0,0,0,0,0,0,0,0,0,0,0,0,0,1,0,1,2,4,4,2,11,14,8,8,16,11,23,12,11,12,11,3,5,3,5,4,3,0,2,0,0,0,0,0,0,0,0,0,0,0,0,0,0,1,1,1,1,3,3,7,9,10,13,16,24,25,24,20,25,18,23,18,18,10,6,3,7,1,1,0,3,1,1,0,1,0,0,0,0,0,0,0,0,0,1,0,2,3,1,6,11,3,19,16,22,27,25,28,35,46,36,32,35,28,20,16,18,8,6,7,0,1,1,0,0,0,0,1,0,0,0,0,0,0,1,0,0,1,2,3,5,9,11,12,18,32,35,39,50,64,55,50,54,57,49,42,32,27,19,16,6,5,5,6,0,0,0,0,0,0,0,0,0,0,0,0,0,1,1,0,2,3,6,11,13,22,23,32,56,48,53,79,85,63,81,70,72,59,55,44,40,24,15,14,8,3,4,1,1,0,0,0,0,0,0,0,0,0,1,2,1,3,4,4,4,16,22,29,34,36,47,68,83,88,100,97,125,89,103,84,83,62,49,29,34,19,10,6,3,2,2,0,1,0,0,1,0,0,0,0,0,2,2,0,5,8,9,10,33,27,44,54,81,76,102,117,131,135,141,138,125,110,108,79,71,43,21,21,12,10,4,3,2,2,0,0,0,0,1,0,0,0,0,1,0,3,8,7,12,20,35,41,60,80,110,102,135,142,176,194,179,176,162,144,120,95,70,49,41,22,19,17,7,5,6,1,3,1,0,0,1,0,0,0,1,1,1,3,9,6,20,24,41,50,78,86,107,147,157,200,225,217,196,179,161,159,138,97,88,66,44,41,21,19,11,3,4,1,0,1,0,0,0,0,0,0,0,1,4,6,3,10,14,26,48,76,83,104,116,171,177,221,215,249,232,254,224,189,163,146,97,96,66,48,37,15,10,9,5,1,2,1,0,0,0,0,0,0,0,1,4,4,10,14,27,36,42,49,88,136,153,194,205,238,255,276,271,299,223,236,193,170,122,90,67,57,29,19,6,7,4,2,2,2,0,0,0,0,0,1,1,1,1,3,14,8,24,33,45,66,94,112,163,209,231,283,315,293,312,295,281,236,201,166,139,98,75,47,40,18,7,9,4,2,3,0,0,0,0,0,0,1,2,1,0,3,5,11,22,33,52,68,94,142,151,225,240,281,319,338,349,295,261,264,205,170,133,120,76,57,18,15,7,8,3,2,3,1,1,0,0,0,0,0,1,0,2,4,8,9,19,32,53,60,114,122,159,231,227,290,284,309,325,293,296,255,210,176,131,99,66,43,34,26,14,7,9,2,2,2,2,0,0,0,0,1,1,1,2,7,10,15,30,33,27,80,99,142,153,207,249,265,244,320,307,319,274,220,189,157,113,118,81,44,27,16,15,9,4,4,3,0,0,0,0,0,0,1,3,2,4,9,5,9,26,32,45,56,97,130,160,181,240,230,266,290,259,280,243,208,176,168,111,91,77,38,33,16,14,9,5,0,3,2,0,0,0,0,0,1,1,0,2,3,4,8,16,27,38,55,86,110,129,161,198,195,221,226,247,225,215,196,175,128,104,87,60,41,32,10,7,5,4,3,1,1,0,0,0,0,0,0,2,0,1,2,7,2,19,29,42,41,58,98,121,142,154,196,202,216,226,219,168,177,141,120,103,68,54,34,27,23,13,7,3,0,1,1,0,0,0,0,0,0,1,1,3,2,5,9,9,23,24,46,60,63,96,117,137,156,169,161,187,167,143,125,113,103,76,63,47,28,14,16,8,4,3,2,2,0,0,0,0,0,0,0,1,1,1,2,5,9,10,11,26,27,43,55,77,97,117,103,115,149,135,138,119,120,84,74,52,62,36,22,18,3,8,4,1,2,0,0,0,0,0,0,0,0,0,0,0,2,6,4,10,8,20,22,34,45,64,59,85,109,108,94,90,124,102,68,57,58,42,35,30,15,22,4,6,2,1,0,1,1,0,1,0,0,0,0,0,1,0,0,3,3,5,10,5,19,23,31,47,53,53,63,73,82,76,71,57,48,47,32,31,27,24,9,4,7,4,3,0,2,0,0,0,0,0,0,0,0,0,0,2,1,0,3,2,2,8,13,19,18,32,34,28,40,42,44,50,50,52,37,33,26,24,12,8,13,9,4,4,2,0,0,0,0,0,0,0,0,0,0,0,0,0,0,2,3,1,4,9,5,8,10,22,21,30,25,24,29,38,34,27,22,14,22,9,13,10,8,6,2,2,1,0,0,0,0,0,0,0,0,0,0,0,1,0,0,0,3,6,0,3,5,4,6,18,14,16,18,18,19,20,14,21,14,15,6,5,6,8,3,4,1,2,0,0,0,0,0,0,0,0,0,0,0,0,0,0,0,0,0,0,1,1,0,5,8,10,11,7,11,17,16,19,12,16,11,11,7,14,6,1,1,2,3,0,1,0,0,0,0,0,0,0,0,0,0,0,0,0,0,0,1,0,1,2,2,4,1,7,3,5,4,10,15,7,7,5,4,10,4,3,1,2,2,0,0,1,0,0,0,0,0,0,0,0,0,0,0,0,0,0,1,0,0,1,0,0,0,1,1,2,4,2,7,1,8,2,3,3,4,0,4,4,0,1,2,0,1,0,0,0,0,0,0,0,0,0,0,0,0,0,0,0,0,0,0,0,0,1,0,0,0,0,1,3,0,0,7,3,2,5,2,4,4,2,1,1,1,1,0,0,0,0,0,0,0,0,0,0,0,0,0,0,0,0,0,0,0,0,0,0,0,1,1,0,0,0,3,1,1,2,3,1,1,2,3,1,0,0,0,0,0,0,0,0,0,0,0,0,0,0,0,0,0,0,0,0,0,0,0,0,0,0,1,0,0,1,0,0,0,2,1,3,0,0,0,0,0,1,0,0,0,1,0,0,0,0,0,0,0,0,0,0,0,0,0,0,0,0,0,0,0,0,0,0,0,0,0,1,0,0,0,0,0,0,0,0,0,0,0,0,0,0,0,0,0,0,0,0,0,0,0,0,0,0,0,0,0,0,0,0,0,0,0,0,0,0,0,0,1,0,0,1,0,0,1,0,0,0,0,0,0,0,0,0,0,0,0,0,0,0,0,0,0,0,0,0,0,0,0,0,0,0,0,0,0,0,0,0,0,0,1,0,0,0,0,0,0,0,0,0,0,1,0,0,0,0,0,0,0,0,0,0,0,0,0,0,0,0]},{\"_typename\":\"TPaveText\",\"fUniqueID\":0,\"fBits\":50331657,\"fLineColor\":1,\"fLineStyle\":1,\"fLineWidth\":1,\"fFillColor\":0,\"fFillStyle\":0,\"fX1\":-0.789655184180572,\"fY1\":4.40000010505319,\"fX2\":0.789655184180575,\"fY2\":4.95000012144447,\"fX1NDC\":0.421034482758621,\"fY1NDC\":0.940000003948808,\"fX2NDC\":0.578965517241379,\"fY2NDC\":0.995000004768372,\"fBorderSize\":0,\"fInit\":1,\"fShadowColor\":1,\"fCornerRadius\":0,\"fOption\":\"blNDC\",\"fName\":\"title\",\"fTextAngle\":0,\"fTextSize\":0,\"fTextAlign\":22,\"fTextColor\":1,\"fTextFont\":42,\"fLabel\":\"\",\"fLongest\":8,\"fMargin\":0.05,\"fLines\":{\"_typename\":\"TList\",\"name\":\"TList\",\"arr\":[{\"_typename\":\"TLatex\",\"fUniqueID\":0,\"fBits\":50331648,\"fName\":\"\",\"fTitle\":\"py vs px\",\"fTextAngle\":0,\"fTextSize\":0,\"fTextAlign\":0,\"fTextColor\":0,\"fTextFont\":0,\"fX\":0,\"fY\":0,\"fLineColor\":1,\"fLineStyle\":1,\"fLineWidth\":2,\"fLimitFactorSize\":3,\"fOriginSize\":0.0467500016093254}],\"opt\":[\"\"]}}],\"opt\":[\"\",\"col\",\"blNDC\"]},\"fExecs\":{\"_typename\":\"TList\",\"name\":\"TList\",\"arr\":[{\"_typename\":\"TExec\",\"fUniqueID\":0,\"fBits\":50331648,\"fName\":\"dynamic\",\"fTitle\":\"DynamicExec()\"}],\"opt\":[\"\"]},\"fName\":\"c1\",\"fTitle\":\"Dynamic Slice Example\",\"fNumPaletteColor\":0,\"fNextPaletteColor\":0,\"fDISPLAY\":\"$DISPLAY\",\"fDoubleBuffer\":0,\"fRetained\":true,\"fXsizeUser\":0,\"fYsizeUser\":0,\"fXsizeReal\":20,\"fYsizeReal\":14.28571,\"fWindowTopX\":0,\"fWindowTopY\":0,\"fWindowWidth\":0,\"fWindowHeight\":0,\"fCw\":696,\"fCh\":472,\"fCatt\":{\"_typename\":\"TAttCanvas\",\"fXBetween\":2,\"fYBetween\":2,\"fTitleFromTop\":1.2,\"fXdate\":0.2,\"fYdate\":0.3,\"fAdate\":1},\"kMoveOpaque\":true,\"kResizeOpaque\":true,\"fHighLightColor\":2,\"fBatch\":true,\"kShowEventStatus\":false,\"kAutoExec\":true,\"kMenuBar\":true});\n",
       "       Core.draw(\"root_plot_1\", obj, \"\");\n",
       "     }\n",
       " );\n",
       "</script>\n"
      ],
      "text/plain": [
       "<IPython.core.display.HTML object>"
      ]
     },
     "metadata": {},
     "output_type": "display_data"
    }
   ],
   "source": [
    "%jsroot on\n",
    "gROOT->GetListOfCanvases()->Draw()"
   ]
  }
 ],
 "metadata": {
  "kernelspec": {
   "display_name": "ROOT C++",
   "language": "c++",
   "name": "root"
  },
  "language_info": {
   "codemirror_mode": "text/x-c++src",
   "file_extension": ".C",
   "mimetype": " text/x-c++src",
   "name": "c++"
  }
 },
 "nbformat": 4,
 "nbformat_minor": 2
}
