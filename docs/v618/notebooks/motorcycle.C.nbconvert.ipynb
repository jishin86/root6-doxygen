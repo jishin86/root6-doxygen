{
 "cells": [
  {
   "cell_type": "markdown",
   "metadata": {},
   "source": [
    "# Motorcycle\n",
    "Macro to test scatterplot smoothers: ksmooth, lowess, supsmu\n",
    "as described in:\n",
    "\n",
    "     Modern Applied Statistics with S-Plus, 3rd Edition\n",
    "     W.N. Venables and B.D. Ripley\n",
    "     Chapter 9: Smooth Regression, Figure 9.1\n",
    "\n",
    "Example is a set of data on 133 observations of acceleration against time\n",
    "for a simulated motorcycle accident, taken from Silverman (1985).\n",
    "\n",
    "\n",
    "\n",
    "\n",
    "**Author:** Christian Stratowa, Vienna, Austria  \n",
    "<i><small>This notebook tutorial was automatically generated with <a href= \"https://github.com/root-project/root/blob/master/documentation/doxygen/converttonotebook.py\">ROOTBOOK-izer</a> from the macro found in the ROOT repository  on Thursday, August 29, 2019 at 01:48 AM.</small></i>"
   ]
  },
  {
   "cell_type": "code",
   "execution_count": 1,
   "metadata": {
    "collapsed": false
   },
   "outputs": [],
   "source": [
    "%%cpp -d\n",
    "#include \"TString.h\"\n",
    "#include \"TInterpreter.h\"\n",
    "#include <fstream>\n",
    "#include \"TH1.h\"\n",
    "#include \"TGraphSmooth.h\"\n",
    "#include \"TCanvas.h\"\n",
    "#include \"TSystem.h\"\n",
    "\n",
    "\n",
    "TCanvas *vC1;\n",
    "TGraph *grin, *grout;"
   ]
  },
  {
   "cell_type": "markdown",
   "metadata": {},
   "source": [
    " A helper function is created: "
   ]
  },
  {
   "cell_type": "code",
   "execution_count": 2,
   "metadata": {
    "collapsed": false
   },
   "outputs": [],
   "source": [
    "%%cpp -d\n",
    "void DrawSmooth(Int_t pad, const char *title, const char *xt, const char *yt)\n",
    "{\n",
    "   vC1->cd(pad);\n",
    "   TH1F *vFrame = gPad->DrawFrame(0,-130,60,70);\n",
    "   vFrame->SetTitle(title);\n",
    "   vFrame->SetTitleSize(0.2);\n",
    "   vFrame->SetXTitle(xt);\n",
    "   vFrame->SetYTitle(yt);\n",
    "   grin->Draw(\"P\");\n",
    "   grout->DrawClone(\"LPX\");\n",
    "}"
   ]
  },
  {
   "cell_type": "markdown",
   "metadata": {},
   "source": [
    "Data taken from r library mass: mcycle.txt"
   ]
  },
  {
   "cell_type": "code",
   "execution_count": 3,
   "metadata": {
    "collapsed": false
   },
   "outputs": [],
   "source": [
    "TString dir = gROOT->GetTutorialDir();\n",
    "dir.Append(\"/graphs/\");\n",
    "dir.ReplaceAll(\"/./\",\"/\");"
   ]
  },
  {
   "cell_type": "markdown",
   "metadata": {},
   "source": [
    "Read file and add to fit object"
   ]
  },
  {
   "cell_type": "code",
   "execution_count": 4,
   "metadata": {
    "collapsed": false
   },
   "outputs": [],
   "source": [
    "Double_t *x = new Double_t[133];\n",
    "Double_t *y = new Double_t[133];\n",
    "Double_t vX, vY;\n",
    "Int_t vNData = 0;\n",
    "ifstream vInput;\n",
    "vInput.open(Form(\"%smotorcycle.dat\",dir.Data()));\n",
    "while (1) {\n",
    "   vInput >> vX >> vY;\n",
    "   if (!vInput.good()) break;\n",
    "   x[vNData] = vX;\n",
    "   y[vNData] = vY;\n",
    "   vNData++;\n",
    "}//while\n",
    "vInput.close();\n",
    "grin = new TGraph(vNData,x,y);"
   ]
  },
  {
   "cell_type": "markdown",
   "metadata": {},
   "source": [
    "Draw graph"
   ]
  },
  {
   "cell_type": "code",
   "execution_count": 5,
   "metadata": {
    "collapsed": false
   },
   "outputs": [],
   "source": [
    "vC1 = new TCanvas(\"vC1\",\"Smooth Regression\",200,10,900,700);\n",
    "vC1->Divide(2,3);"
   ]
  },
  {
   "cell_type": "markdown",
   "metadata": {},
   "source": [
    "Kernel smoother\n",
    " create new kernel smoother and smooth data with bandwidth = 2.0"
   ]
  },
  {
   "cell_type": "code",
   "execution_count": 6,
   "metadata": {
    "collapsed": false
   },
   "outputs": [],
   "source": [
    "TGraphSmooth *gs = new TGraphSmooth(\"normal\");\n",
    "grout = gs->SmoothKern(grin,\"normal\",2.0);\n",
    "DrawSmooth(1,\"Kernel Smoother: bandwidth = 2.0\",\"times\",\"accel\");"
   ]
  },
  {
   "cell_type": "markdown",
   "metadata": {},
   "source": [
    "Redraw ksmooth with bandwidth = 5.0"
   ]
  },
  {
   "cell_type": "code",
   "execution_count": 7,
   "metadata": {
    "collapsed": false
   },
   "outputs": [],
   "source": [
    "grout = gs->SmoothKern(grin,\"normal\",5.0);\n",
    "DrawSmooth(2,\"Kernel Smoother: bandwidth = 5.0\",\"\",\"\");"
   ]
  },
  {
   "cell_type": "markdown",
   "metadata": {},
   "source": [
    "Lowess smoother\n",
    " create new lowess smoother and smooth data with fraction f = 2/3"
   ]
  },
  {
   "cell_type": "code",
   "execution_count": 8,
   "metadata": {
    "collapsed": false
   },
   "outputs": [],
   "source": [
    "grout = gs->SmoothLowess(grin,\"\",0.67);\n",
    "DrawSmooth(3,\"Lowess: f = 2/3\",\"\",\"\");"
   ]
  },
  {
   "cell_type": "markdown",
   "metadata": {},
   "source": [
    "Redraw lowess with fraction f = 0.2"
   ]
  },
  {
   "cell_type": "code",
   "execution_count": 9,
   "metadata": {
    "collapsed": false
   },
   "outputs": [],
   "source": [
    "grout = gs->SmoothLowess(grin,\"\",0.2);\n",
    "DrawSmooth(4,\"Lowess: f = 0.2\",\"\",\"\");"
   ]
  },
  {
   "cell_type": "markdown",
   "metadata": {},
   "source": [
    "Super smoother\n",
    " create new super smoother and smooth data with default bass = 0 and span = 0"
   ]
  },
  {
   "cell_type": "code",
   "execution_count": 10,
   "metadata": {
    "collapsed": false
   },
   "outputs": [],
   "source": [
    "grout = gs->SmoothSuper(grin,\"\",0,0);\n",
    "DrawSmooth(5,\"Super Smoother: bass = 0\",\"\",\"\");"
   ]
  },
  {
   "cell_type": "markdown",
   "metadata": {},
   "source": [
    "Redraw supsmu with bass = 3 (smoother curve)"
   ]
  },
  {
   "cell_type": "code",
   "execution_count": 11,
   "metadata": {
    "collapsed": false
   },
   "outputs": [],
   "source": [
    "grout = gs->SmoothSuper(grin,\"\",3);\n",
    "DrawSmooth(6,\"Super Smoother: bass = 3\",\"\",\"\");"
   ]
  },
  {
   "cell_type": "markdown",
   "metadata": {},
   "source": [
    "Cleanup"
   ]
  },
  {
   "cell_type": "code",
   "execution_count": 12,
   "metadata": {
    "collapsed": false
   },
   "outputs": [],
   "source": [
    "delete [] x;\n",
    "delete [] y;\n",
    "delete gs;"
   ]
  },
  {
   "cell_type": "markdown",
   "metadata": {},
   "source": [
    "Draw all canvases "
   ]
  },
  {
   "cell_type": "code",
   "execution_count": 13,
   "metadata": {
    "collapsed": false
   },
   "outputs": [
    {
     "data": {
      "image/png": "[encoded data removed]",
      "text/plain": [
       "<IPython.core.display.Image object>"
      ]
     },
     "metadata": {},
     "output_type": "display_data"
    }
   ],
   "source": [
    "gROOT->GetListOfCanvases()->Draw()"
   ]
  }
 ],
 "metadata": {
  "kernelspec": {
   "display_name": "ROOT C++",
   "language": "c++",
   "name": "root"
  },
  "language_info": {
   "codemirror_mode": "text/x-c++src",
   "file_extension": ".C",
   "mimetype": " text/x-c++src",
   "name": "c++"
  }
 },
 "nbformat": 4,
 "nbformat_minor": 2
}
