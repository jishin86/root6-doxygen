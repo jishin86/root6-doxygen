{
 "cells": [
  {
   "cell_type": "markdown",
   "metadata": {},
   "source": [
    "# Read Code\n",
    "Example of script showing how to navigate in a ROOT file\n",
    "with sub-directories and read the objects in each sub-directory.\n",
    "This example uses the file produced by the tutorial importCode.C\n",
    "\n",
    "\n",
    "\n",
    "**Author:** Rene Brun  \n",
    "<i><small>This notebook tutorial was automatically generated with <a href= \"https://github.com/root-project/root/blob/master/documentation/doxygen/converttonotebook.py\">ROOTBOOK-izer</a> from the macro found in the ROOT repository  on Thursday, August 29, 2019 at 02:05 AM.</small></i>"
   ]
  },
  {
   "cell_type": "code",
   "execution_count": 1,
   "metadata": {
    "collapsed": false
   },
   "outputs": [],
   "source": [
    "%%cpp -d\n",
    "#include \"TFile.h\"\n",
    "#include \"TKey.h\"\n",
    "#include \"TMacro.h\"\n",
    "\n",
    "Int_t nlines = 0;\n",
    "Int_t nfiles = 0;\n",
    "Int_t ndirs = 0;\n",
    "Int_t nh = 0;\n",
    "Int_t nc = 0;\n",
    "Int_t nC = 0;\n",
    "Int_t npy = 0;"
   ]
  },
  {
   "cell_type": "markdown",
   "metadata": {},
   "source": [
    " A helper function is created: "
   ]
  },
  {
   "cell_type": "code",
   "execution_count": 2,
   "metadata": {
    "collapsed": false
   },
   "outputs": [],
   "source": [
    "%%cpp -d\n",
    "void readdir(TDirectory *dir) {\n",
    "   ndirs++;\n",
    "   TDirectory *dirsav = gDirectory;\n",
    "   TIter next(dir->GetListOfKeys());\n",
    "   TKey *key;\n",
    "   while ((key = (TKey*)next())) {\n",
    "      if (key->IsFolder()) {\n",
    "         dir->cd(key->GetName());\n",
    "         TDirectory *subdir = gDirectory;\n",
    "         readdir(subdir);\n",
    "         dirsav->cd();\n",
    "         continue;\n",
    "      }\n",
    "      TMacro *macro = (TMacro*)key->ReadObj();\n",
    "      nfiles++;\n",
    "      nlines += macro->GetListOfLines()->GetEntries();\n",
    "      if (strstr(key->GetName(),\".h\"))   nh++;\n",
    "      if (strstr(key->GetName(),\".c\"))   nc++;\n",
    "      if (strstr(key->GetName(),\".C\"))   nC++;\n",
    "      if (strstr(key->GetName(),\".py\"))  npy++;\n",
    "      delete macro;\n",
    "   }\n",
    "}"
   ]
  },
  {
   "cell_type": "code",
   "execution_count": 3,
   "metadata": {
    "collapsed": false
   },
   "outputs": [
    {
     "name": "stdout",
     "output_type": "stream",
     "text": [
      "Reading file ==> code.root\n",
      "File size in bytes       = 3493978\n",
      "File compression factor  = 4.21673\n",
      "Number of sub-dirs       = 61\n",
      "Number of macro files    = 1001\n",
      "Number of lines in mac   = 265985\n",
      "Number of cxx,c,cc files = 30\n",
      "Number of C files        = 784\n",
      "Number of Python files   = 151\n"
     ]
    }
   ],
   "source": [
    "TFile *f = new TFile(\"code.root\");\n",
    "if (f->IsZombie()) {\n",
    "   printf(\"File code.root does not exist. Run tutorial importCode.C first\\n\");\n",
    "   return;\n",
    "}\n",
    "printf(\"Reading file ==> code.root\\n\");\n",
    "printf(\"File size in bytes       = %lld\\n\",f->GetEND());\n",
    "printf(\"File compression factor  = %g\\n\",f->GetCompressionFactor());\n",
    "\n",
    "readdir(f);\n",
    "\n",
    "printf(\"Number of sub-dirs       = %d\\n\",ndirs);\n",
    "printf(\"Number of macro files    = %d\\n\",nfiles);\n",
    "printf(\"Number of lines in mac   = %d\\n\",nlines);\n",
    "printf(\"Number of cxx,c,cc files = %d\\n\",nc);\n",
    "printf(\"Number of C files        = %d\\n\",nC);\n",
    "printf(\"Number of Python files   = %d\\n\",npy);"
   ]
  }
 ],
 "metadata": {
  "kernelspec": {
   "display_name": "ROOT C++",
   "language": "c++",
   "name": "root"
  },
  "language_info": {
   "codemirror_mode": "text/x-c++src",
   "file_extension": ".C",
   "mimetype": " text/x-c++src",
   "name": "c++"
  }
 },
 "nbformat": 4,
 "nbformat_minor": 2
}
