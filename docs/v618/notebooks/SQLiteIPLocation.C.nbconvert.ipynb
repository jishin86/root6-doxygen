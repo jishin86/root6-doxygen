{
 "cells": [
  {
   "cell_type": "markdown",
   "metadata": {},
   "source": [
    "#  S Q Lite I P Location\n",
    "\n",
    "This tutorial demonstrates how TSQLServer can be used to create a\n",
    "connection with a SQlite3 database. It accesses the Sqlite data base.\n",
    "Download from https://root.cern/download/root_download_stats.sqlite\n",
    "The world map is hold by a TH2Poly histogram which, after filling, will show\n",
    "the world wide dispersion of ROOT's users.\n",
    "To histogram filling, is done having as input parameters\n",
    "the two columns of the database: \"IPLongitude' - for the longitude, and the\n",
    "\"IPLatitude\" - for the latitude.\n",
    "The data related to the latitude and the longitude has been provided from the\n",
    "log files storing the users IP.\n",
    "This product includes GeoLite2 data created by MaxMind, available from\n",
    "<a href=\"http://www.maxmind.com\">http://www.maxmind.com</a>.\n",
    "\n",
    "\n",
    "\n",
    "\n",
    "**Author:** Alexandra-Maria Dobrescu 08/2018  \n",
    "<i><small>This notebook tutorial was automatically generated with <a href= \"https://github.com/root-project/root/blob/master/documentation/doxygen/converttonotebook.py\">ROOTBOOK-izer</a> from the macro found in the ROOT repository  on Thursday, August 29, 2019 at 03:39 AM.</small></i>"
   ]
  },
  {
   "cell_type": "code",
   "execution_count": 1,
   "metadata": {
    "collapsed": false
   },
   "outputs": [],
   "source": [
    "%%cpp -d\n",
    "#include <TSQLiteServer.h>\n",
    "#include <TSQLiteResult.h>\n",
    "#include <TSQLRow.h>\n",
    "#include <TString.h>\n",
    "#include <TH2F.h>"
   ]
  },
  {
   "cell_type": "code",
   "execution_count": 2,
   "metadata": {
    "collapsed": false
   },
   "outputs": [
    {
     "name": "stderr",
     "output_type": "stream",
     "text": [
      "Error in <TSQLiteServer::Query>: SQL Error: 1 no such table: accesslog\n",
      " Generating stack trace...\n",
      " 0x00007f41fe3a3210 in <unknown function>\n",
      " 0x00007f41f8f3bc55 in cling::IncrementalExecutor::runStaticInitializersOnce(cling::Transaction const&) const + 0x535 from /mnt/build/workspace/root-makedoc-v618/rootspi/rdoc/src/v6-18-00-patches.build/lib/libCling.so\n",
      " 0x00007f41f8ed880f in cling::Interpreter::executeTransaction(cling::Transaction&) + 0x9f from /mnt/build/workspace/root-makedoc-v618/rootspi/rdoc/src/v6-18-00-patches.build/lib/libCling.so\n",
      " 0x00007f41f8f4cd42 in cling::IncrementalParser::commitTransaction(llvm::PointerIntPair<cling::Transaction*, 2u, cling::IncrementalParser::EParseResult, llvm::PointerLikeTypeTraits<cling::Transaction*>, llvm::PointerIntPairInfo<cling::Transaction*, 2u, llvm::PointerLikeTypeTraits<cling::Transaction*> > >&, bool) at IncrementalParser.cpp:? from /mnt/build/workspace/root-makedoc-v618/rootspi/rdoc/src/v6-18-00-patches.build/lib/libCling.so\n",
      " 0x00007f41f8f4cf7b in cling::IncrementalParser::Compile(llvm::StringRef, cling::CompilationOptions const&) + 0x5b from /mnt/build/workspace/root-makedoc-v618/rootspi/rdoc/src/v6-18-00-patches.build/lib/libCling.so\n",
      " 0x00007f41f8ed6c0b in cling::Interpreter::EvaluateInternal(std::__cxx11::basic_string<char, std::char_traits<char>, std::allocator<char> > const&, cling::CompilationOptions, cling::Value*, cling::Transaction**, unsigned long) + 0x7b from /mnt/build/workspace/root-makedoc-v618/rootspi/rdoc/src/v6-18-00-patches.build/lib/libCling.so\n",
      " 0x00007f41f8ed6f61 in cling::Interpreter::process(std::__cxx11::basic_string<char, std::char_traits<char>, std::allocator<char> > const&, cling::Value*, cling::Transaction**, bool) + 0x161 from /mnt/build/workspace/root-makedoc-v618/rootspi/rdoc/src/v6-18-00-patches.build/lib/libCling.so\n",
      " 0x00007f41f8f92a7d in cling::MetaProcessor::process(llvm::StringRef, cling::Interpreter::CompilationResult&, cling::Value*, bool) + 0x1bd from /mnt/build/workspace/root-makedoc-v618/rootspi/rdoc/src/v6-18-00-patches.build/lib/libCling.so\n",
      " 0x00007f41f8e5dc0c in <unknown> from /mnt/build/workspace/root-makedoc-v618/rootspi/rdoc/src/v6-18-00-patches.build/lib/libCling.so\n",
      " 0x00007f41f8e737e6 in <unknown> from /mnt/build/workspace/root-makedoc-v618/rootspi/rdoc/src/v6-18-00-patches.build/lib/libCling.so\n",
      " 0x00007f41fc8df699 in JupyROOTExecutorImpl(char const*) at /mnt/build/workspace/root-makedoc-v618/rootspi/rdoc/src/v6-18-00-patches/bindings/pyroot/JupyROOT/src/IOHandler.cxx:139 (discriminator 1) from /mnt/build/workspace/root-makedoc-v618/rootspi/rdoc/src/v6-18-00-patches.build/lib/libJupyROOT.so\n",
      " 0x00007f41fc8df729 in JupyROOTExecutor at /mnt/build/workspace/root-makedoc-v618/rootspi/rdoc/src/v6-18-00-patches/bindings/pyroot/JupyROOT/src/IOHandler.cxx:172 from /mnt/build/workspace/root-makedoc-v618/rootspi/rdoc/src/v6-18-00-patches.build/lib/libJupyROOT.so\n",
      " 0x00007f41fe0b1ace in ffi_call_unix64 + 0x4c from /lib64/libffi.so.6\n",
      " 0x00007f41fe0b148f in ffi_call + 0x35f from /lib64/libffi.so.6\n",
      " 0x00007f41fe0e4387 in _ctypes_callproc + 0x537 from /usr/lib64/python2.7/lib-dynload/_ctypes.so\n",
      " 0x00007f41fe0ddd22 in <unknown> from /usr/lib64/python2.7/lib-dynload/_ctypes.so\n",
      " 0x00007f41ff484aa7 in PyObject_Call + 0x47 from /lib64/libpython2.7.so.1.0\n",
      " 0x00007f41ff55cac8 in PyEval_EvalFrameEx + 0x38b8 from /lib64/libpython2.7.so.1.0\n",
      " 0x00007f41ff5611ac in PyEval_EvalFrameEx + 0x7f9c from /lib64/libpython2.7.so.1.0\n",
      " 0x00007f41ff5611ac in PyEval_EvalFrameEx + 0x7f9c from /lib64/libpython2.7.so.1.0\n",
      " 0x00007f41ff5611ac in PyEval_EvalFrameEx + 0x7f9c from /lib64/libpython2.7.so.1.0\n",
      " 0x00007f41ff562902 in PyEval_EvalCodeEx + 0x712 from /lib64/libpython2.7.so.1.0\n",
      " 0x00007f41ff49d972 in <unknown> from /lib64/libpython2.7.so.1.0\n",
      " 0x00007f41ff484aa7 in PyObject_Call + 0x47 from /lib64/libpython2.7.so.1.0\n",
      " 0x00007f41ff49047e in <unknown> from /lib64/libpython2.7.so.1.0\n",
      " 0x00007f41ff484aa7 in PyObject_Call + 0x47 from /lib64/libpython2.7.so.1.0\n",
      " 0x00007f41ff558cc7 in PyEval_CallObjectWithKeywords + 0x47 from /lib64/libpython2.7.so.1.0\n",
      " 0x00007f41ff56f1c6 in <unknown> from /lib64/libpython2.7.so.1.0\n",
      " 0x00007f41ff3d858e in <unknown> from /lib64/libpthread.so.0\n",
      " 0x00007f41ff1786f3 in clone at :? from /lib64/libc.so.6\n",
      "Error in <HandleInterpreterException>: Trying to dereference null pointer or trying to call routine taking non-null arguments.\n",
      "Execution of your code was aborted.\n",
      "input_line_27:10:23: warning: null passed to a callee that requires a non-null argument [-Wnonnull]\n",
      "while (TSQLRow *row = locationRes->Next()) {\n",
      "                      ^~~~~~~~~~~\n"
     ]
    }
   ],
   "source": [
    "TSQLServer *db = TSQLServer::Connect(\"sqlite://root_download_stats.sqlite\", \"\", \"\");\n",
    "\n",
    "TFile *F = TFile::Open(\"http://root.cern.ch/files/WM.root\");\n",
    "TH2Poly *WM;\n",
    "WM = (TH2Poly*) F->Get(\"WM\");\n",
    "const char *location = \"SELECT IPLatitude, IPLongitude FROM accesslog;\";\n",
    "TSQLResult *locationRes = db->Query(location);\n",
    "\n",
    "while (TSQLRow *row = locationRes->Next()) {\n",
    "   if (!row->GetField(0)[0])\n",
    "      continue;\n",
    "   std::string sLatitude(row->GetField(0));\n",
    "   std::string sLongitude(row->GetField(1));\n",
    "   float latitude = std::stof(sLatitude);\n",
    "   float longitude = std::stof(sLongitude);\n",
    "   WM->Fill(longitude, latitude);\n",
    "\n",
    "  delete row;\n",
    "}\n",
    "\n",
    "TCanvas *locationHistogram = new TCanvas();\n",
    "\n",
    "locationHistogram->SetLogz(1);\n",
    "locationHistogram->ToggleEventStatus();\n",
    "WM->Draw(\"colz\");"
   ]
  },
  {
   "cell_type": "markdown",
   "metadata": {},
   "source": [
    "Draw all canvases "
   ]
  },
  {
   "cell_type": "code",
   "execution_count": 3,
   "metadata": {
    "collapsed": false
   },
   "outputs": [],
   "source": [
    "%jsroot on\n",
    "gROOT->GetListOfCanvases()->Draw()"
   ]
  }
 ],
 "metadata": {
  "kernelspec": {
   "display_name": "ROOT C++",
   "language": "c++",
   "name": "root"
  },
  "language_info": {
   "codemirror_mode": "text/x-c++src",
   "file_extension": ".C",
   "mimetype": " text/x-c++src",
   "name": "c++"
  }
 },
 "nbformat": 4,
 "nbformat_minor": 2
}
