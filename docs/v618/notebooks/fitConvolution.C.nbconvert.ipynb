{
 "cells": [
  {
   "cell_type": "markdown",
   "metadata": {},
   "source": [
    "# Fit Convolution\n",
    "Tutorial for convolution of two functions\n",
    "\n",
    "\n",
    "\n",
    "\n",
    "**Author:** Aurelie Flandi  \n",
    "<i><small>This notebook tutorial was automatically generated with <a href= \"https://github.com/root-project/root/blob/master/documentation/doxygen/converttonotebook.py\">ROOTBOOK-izer</a> from the macro found in the ROOT repository  on Thursday, August 29, 2019 at 01:28 AM.</small></i>"
   ]
  },
  {
   "cell_type": "code",
   "execution_count": 1,
   "metadata": {
    "collapsed": false
   },
   "outputs": [],
   "source": [
    "%%cpp -d\n",
    "#include <stdio.h>\n",
    "#include <TMath.h>\n",
    "#include <TCanvas.h>\n",
    "#include <iostream>\n",
    "#include <TROOT.h>\n",
    "#include <TChain.h>\n",
    "#include <TObject.h>\n",
    "#include <TRandom.h>\n",
    "#include <TFile.h>\n",
    "#include <math.h>\n",
    "#include <TF1Convolution.h>\n",
    "#include <TF1.h>\n",
    "#include <TH1F.h>\n",
    "#include <TGraph.h>\n",
    "#include <TStopwatch.h>\n",
    "\n",
    "using namespace std;"
   ]
  },
  {
   "cell_type": "markdown",
   "metadata": {},
   "source": [
    "Construction of histogram to fit"
   ]
  },
  {
   "cell_type": "code",
   "execution_count": 2,
   "metadata": {
    "collapsed": false
   },
   "outputs": [],
   "source": [
    "TH1F *h_ExpGauss = new TH1F(\"h_ExpGauss\",\"Exponential convoluted by gaussian\",100,0.,5.);\n",
    "for (int i=0;i<1e6;i++)\n",
    "{\n",
    "   Double_t x = gRandom->Exp(1./0.3);//gives a alpha of -0.3 in the exp\n",
    "   x += gRandom->Gaus(0.,3.);\n",
    "   h_ExpGauss->Fill(x);//probability density function of the addition of two variables is the convolution of 2 dens. functions\n",
    "}\n",
    "\n",
    "TF1Convolution *f_conv = new TF1Convolution(\"expo\",\"gaus\",-1,6,true);\n",
    "f_conv->SetRange(-1.,6.);\n",
    "f_conv->SetNofPointsFFT(1000);\n",
    "TF1   *f = new TF1(\"f\",*f_conv, 0., 5., f_conv->GetNpar());\n",
    "f->SetParameters(1.,-0.3,0.,1.);"
   ]
  },
  {
   "cell_type": "markdown",
   "metadata": {},
   "source": [
    "Fit"
   ]
  },
  {
   "cell_type": "code",
   "execution_count": 3,
   "metadata": {
    "collapsed": false
   },
   "outputs": [
    {
     "name": "stdout",
     "output_type": "stream",
     "text": [
      " FCN=298.12 FROM MIGRAD    STATUS=CONVERGED     457 CALLS         458 TOTAL\n",
      "                     EDM=1.08071e-08    STRATEGY= 1      ERROR MATRIX ACCURATE \n",
      "  EXT PARAMETER                                   STEP         FIRST   \n",
      "  NO.   NAME      VALUE            ERROR          SIZE      DERIVATIVE \n",
      "   1  p0           7.32859e+00   3.70793e-02   1.23437e-05  -3.46269e-02\n",
      "   2  p1           7.33040e-02   2.44082e-03   3.62176e-06  -7.16287e-02\n",
      "   3  p2          -2.26420e+00   4.91801e-02   5.24021e-05  -1.27929e-02\n",
      "   4  p3           1.12811e+00   6.28805e-02   1.94847e-05  -2.72635e-02\n"
     ]
    }
   ],
   "source": [
    "new TCanvas(\"c\",\"c\",800,1000);\n",
    "h_ExpGauss -> Fit(\"f\");\n",
    "h_ExpGauss->Draw();"
   ]
  },
  {
   "cell_type": "markdown",
   "metadata": {},
   "source": [
    "Draw all canvases "
   ]
  },
  {
   "cell_type": "code",
   "execution_count": 4,
   "metadata": {
    "collapsed": false
   },
   "outputs": [
    {
     "data": {
      "text/html": [
       "\n",
       "<div id=\"root_plot_1\"\n",
       "     style=\"width: 796px; height: 972px\">\n",
       "</div>\n",
       "\n",
       "<script>\n",
       " requirejs.config({\n",
       "     paths: {\n",
       "       'JSRootCore' : 'https://root.cern.ch/js/notebook//scripts/JSRootCore',\n",
       "     }\n",
       "   });\n",
       " require(['JSRootCore'],\n",
       "     function(Core) {\n",
       "       var obj = Core.JSONR_unref({\"_typename\":\"TCanvas\",\"fUniqueID\":0,\"fBits\":53673992,\"fLineColor\":1,\"fLineStyle\":1,\"fLineWidth\":1,\"fFillColor\":0,\"fFillStyle\":1001,\"fLeftMargin\":0.1,\"fRightMargin\":0.1,\"fBottomMargin\":0.1,\"fTopMargin\":0.1,\"fXfile\":2,\"fYfile\":2,\"fAfile\":1,\"fXstat\":0.99,\"fYstat\":0.99,\"fAstat\":2,\"fFrameFillColor\":0,\"fFrameLineColor\":1,\"fFrameFillStyle\":1001,\"fFrameLineStyle\":1,\"fFrameLineWidth\":1,\"fFrameBorderSize\":1,\"fFrameBorderMode\":0,\"fX1\":-0.625000046566132,\"fY1\":3555.37717319691,\"fX2\":5.62500004656613,\"fY2\":5475.10532680309,\"fXtoAbsPixelk\":79.6000547445299,\"fXtoPixelk\":79.6000547445299,\"fXtoPixel\":127.359998102188,\"fYtoAbsPixelk\":2772.16462322652,\"fYtoPixelk\":2772.16462322652,\"fYtoPixel\":-0.506321688398492,\"fUtoAbsPixelk\":5e-5,\"fUtoPixelk\":5e-5,\"fUtoPixel\":796,\"fVtoAbsPixelk\":972.00005,\"fVtoPixelk\":972,\"fVtoPixel\":-972,\"fAbsPixeltoXk\":-0.625000046566132,\"fPixeltoXk\":-0.625000046566132,\"fPixeltoX\":0.00785175891097018,\"fAbsPixeltoYk\":5475.10532680309,\"fPixeltoYk\":3555.37717319691,\"fPixeltoY\":-1.97502896461541,\"fXlowNDC\":0,\"fYlowNDC\":0,\"fXUpNDC\":0,\"fYUpNDC\":0,\"fWNDC\":1,\"fHNDC\":1,\"fAbsXlowNDC\":0,\"fAbsYlowNDC\":0,\"fAbsWNDC\":1,\"fAbsHNDC\":1,\"fUxmin\":0,\"fUymin\":3747.35,\"fUxmax\":5,\"fUymax\":5283.1325,\"fTheta\":30,\"fPhi\":30,\"fAspectRatio\":0,\"fNumber\":0,\"fTickx\":0,\"fTicky\":0,\"fLogx\":0,\"fLogy\":0,\"fLogz\":0,\"fPadPaint\":0,\"fCrosshair\":0,\"fCrosshairPos\":0,\"fBorderSize\":2,\"fBorderMode\":0,\"fModified\":false,\"fGridx\":false,\"fGridy\":false,\"fAbsCoord\":false,\"fEditable\":true,\"fFixedAspectRatio\":false,\"fPrimitives\":{\"_typename\":\"TList\",\"name\":\"TList\",\"arr\":[{\"_typename\":\"TFrame\",\"fUniqueID\":0,\"fBits\":50331656,\"fLineColor\":1,\"fLineStyle\":1,\"fLineWidth\":1,\"fFillColor\":0,\"fFillStyle\":1001,\"fX1\":0,\"fY1\":3747.35,\"fX2\":5,\"fY2\":5283.1325,\"fBorderSize\":1,\"fBorderMode\":0},{\"_typename\":\"TH1F\",\"fUniqueID\":0,\"fBits\":50331656,\"fName\":\"h_ExpGauss\",\"fTitle\":\"Exponential convoluted by gaussian\",\"fLineColor\":602,\"fLineStyle\":1,\"fLineWidth\":1,\"fFillColor\":0,\"fFillStyle\":1001,\"fMarkerColor\":1,\"fMarkerStyle\":1,\"fMarkerSize\":1,\"fNcells\":102,\"fXaxis\":{\"_typename\":\"TAxis\",\"fUniqueID\":0,\"fBits\":50331648,\"fName\":\"xaxis\",\"fTitle\":\"\",\"fNdivisions\":510,\"fAxisColor\":1,\"fLabelColor\":1,\"fLabelFont\":42,\"fLabelOffset\":0.005,\"fLabelSize\":0.035,\"fTickLength\":0.03,\"fTitleOffset\":1,\"fTitleSize\":0.035,\"fTitleColor\":1,\"fTitleFont\":42,\"fNbins\":100,\"fXmin\":0,\"fXmax\":5,\"fXbins\":[],\"fFirst\":0,\"fLast\":0,\"fBits2\":0,\"fTimeDisplay\":false,\"fTimeFormat\":\"\",\"fLabels\":null,\"fModLabs\":null},\"fYaxis\":{\"_typename\":\"TAxis\",\"fUniqueID\":0,\"fBits\":50331648,\"fName\":\"yaxis\",\"fTitle\":\"\",\"fNdivisions\":510,\"fAxisColor\":1,\"fLabelColor\":1,\"fLabelFont\":42,\"fLabelOffset\":0.005,\"fLabelSize\":0.035,\"fTickLength\":0.03,\"fTitleOffset\":0,\"fTitleSize\":0.035,\"fTitleColor\":1,\"fTitleFont\":42,\"fNbins\":1,\"fXmin\":0,\"fXmax\":1,\"fXbins\":[],\"fFirst\":0,\"fLast\":0,\"fBits2\":0,\"fTimeDisplay\":false,\"fTimeFormat\":\"\",\"fLabels\":null,\"fModLabs\":null},\"fZaxis\":{\"_typename\":\"TAxis\",\"fUniqueID\":0,\"fBits\":50331648,\"fName\":\"zaxis\",\"fTitle\":\"\",\"fNdivisions\":510,\"fAxisColor\":1,\"fLabelColor\":1,\"fLabelFont\":42,\"fLabelOffset\":0.005,\"fLabelSize\":0.035,\"fTickLength\":0.03,\"fTitleOffset\":1,\"fTitleSize\":0.035,\"fTitleColor\":1,\"fTitleFont\":42,\"fNbins\":1,\"fXmin\":0,\"fXmax\":1,\"fXbins\":[],\"fFirst\":0,\"fLast\":0,\"fBits2\":0,\"fTimeDisplay\":false,\"fTimeFormat\":\"\",\"fLabels\":null,\"fModLabs\":null},\"fBarOffset\":0,\"fBarWidth\":1000,\"fEntries\":1000000,\"fTsumw\":468356,\"fTsumw2\":468356,\"fTsumwx\":1159054.66663522,\"fTsumwx2\":3784628.82392627,\"fMaximum\":-1111,\"fMinimum\":-1111,\"fNormFactor\":0,\"fContour\":[],\"fSumw2\":[],\"fOption\":\"\",\"fFunctions\":{\"_typename\":\"TList\",\"name\":\"TList\",\"arr\":[{\"_typename\":\"TF1\",\"fUniqueID\":0,\"fBits\":50332672,\"fName\":\"f\",\"fTitle\":\"f\",\"fLineColor\":2,\"fLineStyle\":1,\"fLineWidth\":2,\"fFillColor\":19,\"fFillStyle\":0,\"fMarkerColor\":1,\"fMarkerStyle\":1,\"fMarkerSize\":1,\"fXmin\":0,\"fXmax\":5,\"fNpar\":4,\"fNdim\":1,\"fNpx\":100,\"fType\":4,\"fNpfits\":100,\"fNDF\":96,\"fChisquare\":298.119954339241,\"fMinimum\":-1111,\"fMaximum\":-1111,\"fParErrors\":[0.0370792560908023,0.00244082245262869,0.049180063133001,0.0628804960600003],\"fParMin\":[0,0,0,0],\"fParMax\":[0,0,0,0],\"fSave\":[4314.00679360744,4329.18132963009,4344.49302070484,4359.93370815913,4375.49546695105,4391.17138464563,4406.95528268205,4422.84162641537,4438.82547345868,4454.90242442029,4471.06869649267,4487.32081452107,4503.65562862734,4520.07047311197,4536.56301785729,4553.13123491678,4569.77336766397,4586.48793234361,4603.27375855761,4620.12958166315,4637.05447088198,4654.04764727545,4671.10846607399,4688.23640076431,4705.43102880621,4722.69215800654,4740.0194339118,4757.41263785499,4774.8716490063,4792.3963991967,4809.986865929,4827.64306623652,4845.36512524303,4863.15315170147,4881.00715022225,4898.92724872252,4916.91359380193,4934.96634808253,4953.08568791651,4971.27181081412,4989.52507529783,5007.8455195632,5026.23335786697,5044.68881080711,5063.21210443698,5081.80346951594,5100.46314087723,5119.19148237826,5137.98866899922,5156.85488723717,5173.96492037006,5166.2358080773,5157.20432736744,5146.86248987342,5135.20614447883,5122.23615218231,5107.96244435389,5092.39808791439,5075.56180691937,5057.47806697507,5038.17711706618,5017.69498696159,4996.07067745022,4973.35446512249,4949.59944582759,4924.863859682,4899.21101565531,4872.70901157535,4845.43041138802,4817.45092430836,4788.85152685704,4759.71666447951,4730.13279647394,4700.18869079398,4669.97491256151,4639.5832963903,4609.10641177851,4578.6373145367,4548.26856760958,4518.09165314305,4488.19661864005,4458.67156216683,4429.6021376886,4401.07108514221,4373.15934498843,4345.94162063792,4319.48910472097,4293.86878011932,4269.14286939261,4245.36858823442,4222.59794392761,4200.87895834971,4180.25309169401,4160.75445728685,4142.41308705061,4125.25348137432,4109.29467607544,4094.55034900239,4081.02930801914,4068.73755854255,4057.67074543294,0,5],\"fNormalized\":false,\"fNormIntegral\":0,\"fFormula\":null,\"fParams\":{\"_typename\":\"TF1Parameters\",\"fParameters\":[7.32859031562742,0.0733040382566907,-2.26420055178458,1.12810928060967],\"fParNames\":[\"p0\",\"p1\",\"p2\",\"p3\"]},\"fComposition_ptr\":null},{\"_typename\":\"TPaveStats\",\"fUniqueID\":0,\"fBits\":50331657,\"fLineColor\":1,\"fLineStyle\":1,\"fLineWidth\":1,\"fFillColor\":0,\"fFillStyle\":1001,\"fX1\":4.25000012665987,\"fY1\":5043.16650368417,\"fX2\":5.50000016391278,\"fY2\":5350.32300139568,\"fX1NDC\":0.780000016093254,\"fY1NDC\":0.775000005960464,\"fX2NDC\":0.980000019073486,\"fY2NDC\":0.935000002384186,\"fBorderSize\":1,\"fInit\":1,\"fShadowColor\":1,\"fCornerRadius\":0,\"fOption\":\"brNDC\",\"fName\":\"stats\",\"fTextAngle\":0,\"fTextSize\":0,\"fTextAlign\":12,\"fTextColor\":1,\"fTextFont\":42,\"fLabel\":\"\",\"fLongest\":18,\"fMargin\":0.05,\"fLines\":{\"_typename\":\"TList\",\"name\":\"TList\",\"arr\":[{\"_typename\":\"TLatex\",\"fUniqueID\":0,\"fBits\":50331648,\"fName\":\"\",\"fTitle\":\"h_ExpGauss\",\"fTextAngle\":0,\"fTextSize\":0.0368,\"fTextAlign\":0,\"fTextColor\":0,\"fTextFont\":0,\"fX\":0,\"fY\":0,\"fLineColor\":1,\"fLineStyle\":1,\"fLineWidth\":2,\"fLimitFactorSize\":3,\"fOriginSize\":0.0368000008165836},{\"_typename\":\"TLatex\",\"fUniqueID\":0,\"fBits\":50331648,\"fName\":\"\",\"fTitle\":\"Entries = 1000000\",\"fTextAngle\":0,\"fTextSize\":0,\"fTextAlign\":0,\"fTextColor\":0,\"fTextFont\":0,\"fX\":0,\"fY\":0,\"fLineColor\":1,\"fLineStyle\":1,\"fLineWidth\":2,\"fLimitFactorSize\":3,\"fOriginSize\":0.04},{\"_typename\":\"TLatex\",\"fUniqueID\":0,\"fBits\":50331648,\"fName\":\"\",\"fTitle\":\"Mean  =  2.475\",\"fTextAngle\":0,\"fTextSize\":0,\"fTextAlign\":0,\"fTextColor\":0,\"fTextFont\":0,\"fX\":0,\"fY\":0,\"fLineColor\":1,\"fLineStyle\":1,\"fLineWidth\":2,\"fLimitFactorSize\":3,\"fOriginSize\":0.04},{\"_typename\":\"TLatex\",\"fUniqueID\":0,\"fBits\":50331648,\"fName\":\"\",\"fTitle\":\"Std Dev   =  1.399\",\"fTextAngle\":0,\"fTextSize\":0,\"fTextAlign\":0,\"fTextColor\":0,\"fTextFont\":0,\"fX\":0,\"fY\":0,\"fLineColor\":1,\"fLineStyle\":1,\"fLineWidth\":2,\"fLimitFactorSize\":3,\"fOriginSize\":0.04}],\"opt\":[\"\",\"\",\"\",\"\"]},\"fOptFit\":0,\"fOptStat\":1111,\"fFitFormat\":\"5.4g\",\"fStatFormat\":\"6.4g\",\"fParent\":{\"$ref\":3}}],\"opt\":[\"\",\"brNDC\"]},\"fBufferSize\":0,\"fBuffer\":[],\"fBinStatErrOpt\":0,\"fStatOverflows\":2,\"fArray\":[223529,4174,4016,4203,4321,4416,4376,4412,4279,4387,4349,4488,4431,4441,4631,4642,4696,4502,4732,4720,4652,4738,4688,4862,4799,4825,5013,4989,4963,4903,4880,5018,4952,4998,4989,4904,4906,5016,5035,5048,5041,4991,5015,5155,5117,5153,5080,5055,4921,5016,5210,5108,5040,5004,4927,4948,4947,4972,4974,4899,4906,4939,5110,4948,4785,4879,4826,4892,4872,4745,4868,4706,4837,4667,4732,4690,4625,4631,4722,4644,4668,4517,4593,4410,4515,4395,4481,4277,4466,4312,4210,4236,4155,4177,4171,4026,4084,4012,4012,3817,3831,308115]},{\"_typename\":\"TPaveText\",\"fUniqueID\":0,\"fBits\":50331657,\"fLineColor\":1,\"fLineStyle\":1,\"fLineWidth\":1,\"fFillColor\":0,\"fFillStyle\":0,\"fX1\":0.312499967403708,\"fY1\":5359.92164516736,\"fX2\":4.68750003259629,\"fY2\":5465.50669518904,\"fX1NDC\":0.15,\"fY1NDC\":0.940000003948808,\"fX2NDC\":0.85,\"fY2NDC\":0.995000004768372,\"fBorderSize\":0,\"fInit\":1,\"fShadowColor\":1,\"fCornerRadius\":0,\"fOption\":\"blNDC\",\"fName\":\"title\",\"fTextAngle\":0,\"fTextSize\":0,\"fTextAlign\":22,\"fTextColor\":1,\"fTextFont\":42,\"fLabel\":\"\",\"fLongest\":34,\"fMargin\":0.05,\"fLines\":{\"_typename\":\"TList\",\"name\":\"TList\",\"arr\":[{\"_typename\":\"TLatex\",\"fUniqueID\":0,\"fBits\":50331648,\"fName\":\"\",\"fTitle\":\"Exponential convoluted by gaussian\",\"fTextAngle\":0,\"fTextSize\":0,\"fTextAlign\":0,\"fTextColor\":0,\"fTextFont\":0,\"fX\":0,\"fY\":0,\"fLineColor\":1,\"fLineStyle\":1,\"fLineWidth\":2,\"fLimitFactorSize\":3,\"fOriginSize\":0.0467500016093254}],\"opt\":[\"\"]}}],\"opt\":[\"\",\"\",\"blNDC\"]},\"fExecs\":null,\"fName\":\"c\",\"fTitle\":\"c\",\"fNumPaletteColor\":0,\"fNextPaletteColor\":0,\"fDISPLAY\":\"$DISPLAY\",\"fDoubleBuffer\":0,\"fRetained\":true,\"fXsizeUser\":0,\"fYsizeUser\":0,\"fXsizeReal\":16,\"fYsizeReal\":20,\"fWindowTopX\":0,\"fWindowTopY\":0,\"fWindowWidth\":0,\"fWindowHeight\":0,\"fCw\":796,\"fCh\":972,\"fCatt\":{\"_typename\":\"TAttCanvas\",\"fXBetween\":2,\"fYBetween\":2,\"fTitleFromTop\":1.2,\"fXdate\":0.2,\"fYdate\":0.3,\"fAdate\":1},\"kMoveOpaque\":true,\"kResizeOpaque\":true,\"fHighLightColor\":2,\"fBatch\":true,\"kShowEventStatus\":false,\"kAutoExec\":true,\"kMenuBar\":true});\n",
       "       Core.draw(\"root_plot_1\", obj, \"\");\n",
       "     }\n",
       " );\n",
       "</script>\n"
      ],
      "text/plain": [
       "<IPython.core.display.HTML object>"
      ]
     },
     "metadata": {},
     "output_type": "display_data"
    }
   ],
   "source": [
    "%jsroot on\n",
    "gROOT->GetListOfCanvases()->Draw()"
   ]
  }
 ],
 "metadata": {
  "kernelspec": {
   "display_name": "ROOT C++",
   "language": "c++",
   "name": "root"
  },
  "language_info": {
   "codemirror_mode": "text/x-c++src",
   "file_extension": ".C",
   "mimetype": " text/x-c++src",
   "name": "c++"
  }
 },
 "nbformat": 4,
 "nbformat_minor": 2
}
