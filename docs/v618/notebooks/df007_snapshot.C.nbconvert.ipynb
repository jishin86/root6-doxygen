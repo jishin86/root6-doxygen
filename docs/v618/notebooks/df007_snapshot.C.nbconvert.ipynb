{
 "cells": [
  {
   "cell_type": "markdown",
   "metadata": {},
   "source": [
    "# Df 0 0 7_Snapshot\n",
    "This tutorial shows how to write out datasets in ROOT formatusing the RDataFrame\n",
    "\n",
    "\n",
    "\n",
    "**Author:** Danilo Piparo  \n",
    "<i><small>This notebook tutorial was automatically generated with <a href= \"https://github.com/root-project/root/blob/master/documentation/doxygen/converttonotebook.py\">ROOTBOOK-izer</a> from the macro found in the ROOT repository  on Thursday, August 29, 2019 at 01:01 AM.</small></i>"
   ]
  },
  {
   "cell_type": "markdown",
   "metadata": {},
   "source": [
    "  A simple helper function to fill a test tree: this makes the example\n",
    " stand-alone.\n",
    " "
   ]
  },
  {
   "cell_type": "code",
   "execution_count": 1,
   "metadata": {
    "collapsed": false
   },
   "outputs": [],
   "source": [
    "%%cpp -d\n",
    "void fill_tree(const char *treeName, const char *fileName)\n",
    "{\n",
    "   ROOT::RDataFrame d(10000);\n",
    "   int i(0);\n",
    "   d.Define(\"b1\", [&i]() { return i; })\n",
    "      .Define(\"b2\",\n",
    "              [&i]() {\n",
    "                 float j = i * i;\n",
    "                 ++i;\n",
    "                 return j;\n",
    "              })\n",
    "      .Snapshot(treeName, fileName);\n",
    "}"
   ]
  },
  {
   "cell_type": "markdown",
   "metadata": {},
   "source": [
    "We prepare an input tree to run on"
   ]
  },
  {
   "cell_type": "code",
   "execution_count": 2,
   "metadata": {
    "collapsed": false
   },
   "outputs": [],
   "source": [
    "auto fileName = \"df007_snapshot.root\";\n",
    "auto outFileName = \"df007_snapshot_output.root\";\n",
    "auto outFileNameAllColumns = \"df007_snapshot_output_allColumns.root\";\n",
    "auto treeName = \"myTree\";\n",
    "fill_tree(treeName, fileName);"
   ]
  },
  {
   "cell_type": "markdown",
   "metadata": {},
   "source": [
    "We read the tree from the file and create a rdataframe."
   ]
  },
  {
   "cell_type": "code",
   "execution_count": 3,
   "metadata": {
    "collapsed": false
   },
   "outputs": [],
   "source": [
    "ROOT::RDataFrame d(treeName, fileName);"
   ]
  },
  {
   "cell_type": "markdown",
   "metadata": {},
   "source": [
    " ## Select entries\n",
    " We now select some entries in the dataset"
   ]
  },
  {
   "cell_type": "code",
   "execution_count": 4,
   "metadata": {
    "collapsed": false
   },
   "outputs": [],
   "source": [
    "auto d_cut = d.Filter(\"b1 % 2 == 0\");"
   ]
  },
  {
   "cell_type": "markdown",
   "metadata": {},
   "source": [
    " ## Enrich the dataset\n",
    " Build some temporary columns: we'll write them out"
   ]
  },
  {
   "cell_type": "code",
   "execution_count": 5,
   "metadata": {
    "collapsed": false
   },
   "outputs": [],
   "source": [
    "auto d2 = d_cut.Define(\"b1_square\", \"b1 * b1\")\n",
    "             .Define(\"b2_vector\",\n",
    "                     [](float b2) {\n",
    "                        std::vector<float> v;\n",
    "                        for (int i = 0; i < 3; i++)\n",
    "                           v.push_back(b2 * i);\n",
    "                        return v;\n",
    "                     },\n",
    "                     {\"b2\"});"
   ]
  },
  {
   "cell_type": "markdown",
   "metadata": {},
   "source": [
    " ## Write it to disk in ROOT format\n",
    " We now write to disk a new dataset with one of the variables originally\n",
    " present in the tree and the new variables.\n",
    " The user can explicitly specify the types of the columns as template\n",
    " arguments of the Snapshot method, otherwise they will be automatically\n",
    " inferred."
   ]
  },
  {
   "cell_type": "code",
   "execution_count": 6,
   "metadata": {
    "collapsed": false
   },
   "outputs": [],
   "source": [
    "d2.Snapshot(treeName, outFileName, {\"b1\", \"b1_square\", \"b2_vector\"});"
   ]
  },
  {
   "cell_type": "markdown",
   "metadata": {},
   "source": [
    "Open the new file and list the columns of the tree"
   ]
  },
  {
   "cell_type": "code",
   "execution_count": 7,
   "metadata": {
    "collapsed": false
   },
   "outputs": [
    {
     "name": "stdout",
     "output_type": "stream",
     "text": [
      "These are the columns b1, b1_square and b2_vector:\n",
      "Branch: b1\n",
      "Branch: b1_square\n",
      "Branch: b2_vector\n"
     ]
    }
   ],
   "source": [
    "TFile f1(outFileName);\n",
    "auto t = f1.Get<TTree>(treeName);\n",
    "std::cout << \"These are the columns b1, b1_square and b2_vector:\" << std::endl;\n",
    "for (auto branch : *t->GetListOfBranches()) {\n",
    "   std::cout << \"Branch: \" << branch->GetName() << std::endl;\n",
    "}\n",
    "f1.Close();"
   ]
  },
  {
   "cell_type": "markdown",
   "metadata": {},
   "source": [
    "We are not forced to write the full set of column names. we can also\n",
    " specify a regular expression for that. In case nothing is specified, all\n",
    " columns are persistified."
   ]
  },
  {
   "cell_type": "code",
   "execution_count": 8,
   "metadata": {
    "collapsed": false
   },
   "outputs": [],
   "source": [
    "d2.Snapshot(treeName, outFileNameAllColumns);"
   ]
  },
  {
   "cell_type": "markdown",
   "metadata": {},
   "source": [
    "Open the new file and list the columns of the tree"
   ]
  },
  {
   "cell_type": "code",
   "execution_count": 9,
   "metadata": {
    "collapsed": false
   },
   "outputs": [
    {
     "name": "stdout",
     "output_type": "stream",
     "text": [
      "These are all the columns available to this tdf:\n",
      "Branch: b1_square\n",
      "Branch: b2_vector\n",
      "Branch: b1\n",
      "Branch: b2\n"
     ]
    }
   ],
   "source": [
    "TFile f2(outFileNameAllColumns);\n",
    "t = f2.Get<TTree>(treeName);\n",
    "std::cout << \"These are all the columns available to this tdf:\" << std::endl;\n",
    "for (auto branch : *t->GetListOfBranches()) {\n",
    "   std::cout << \"Branch: \" << branch->GetName() << std::endl;\n",
    "}\n",
    "f2.Close();"
   ]
  },
  {
   "cell_type": "markdown",
   "metadata": {},
   "source": [
    "We can also get a fresh rdataframe out of the snapshot and restart the\n",
    " analysis chain from it. The default columns are the one selected.\n",
    " Notice also how we can decide to be more explicit with the types of the\n",
    " columns."
   ]
  },
  {
   "cell_type": "code",
   "execution_count": 10,
   "metadata": {
    "collapsed": false
   },
   "outputs": [],
   "source": [
    "auto snapshot_tdf = d2.Snapshot<int>(treeName, outFileName, {\"b1_square\"});\n",
    "auto h = snapshot_tdf->Histo1D();\n",
    "auto c = new TCanvas();\n",
    "h->DrawClone();\n",
    "\n",
    "return 0;"
   ]
  },
  {
   "cell_type": "markdown",
   "metadata": {},
   "source": [
    "Draw all canvases "
   ]
  },
  {
   "cell_type": "code",
   "execution_count": 11,
   "metadata": {
    "collapsed": false
   },
   "outputs": [
    {
     "data": {
      "image/png": "[encoded data removed]",
      "text/plain": [
       "<IPython.core.display.Image object>"
      ]
     },
     "metadata": {},
     "output_type": "display_data"
    }
   ],
   "source": [
    "gROOT->GetListOfCanvases()->Draw()"
   ]
  }
 ],
 "metadata": {
  "kernelspec": {
   "display_name": "ROOT C++",
   "language": "c++",
   "name": "root"
  },
  "language_info": {
   "codemirror_mode": "text/x-c++src",
   "file_extension": ".C",
   "mimetype": " text/x-c++src",
   "name": "c++"
  }
 },
 "nbformat": 4,
 "nbformat_minor": 2
}
