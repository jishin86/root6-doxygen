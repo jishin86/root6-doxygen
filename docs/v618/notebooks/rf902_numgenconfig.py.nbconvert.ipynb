{
 "cells": [
  {
   "cell_type": "markdown",
   "metadata": {},
   "source": [
    "# Rf 9 0 2_Numgenconfig\n",
    "\n",
    "Numeric algorithm tuning: configuration and customization of how MC sampling algorithms\n",
    "on specific p.d.f.s are executed\n",
    "\n",
    "\n",
    "\n",
    "\n",
    "**Author:** Clemens Lange, Wouter Verkerke (C++ version)  \n",
    "<i><small>This notebook tutorial was automatically generated with <a href= \"https://github.com/root-project/root/blob/master/documentation/doxygen/converttonotebook.py\">ROOTBOOK-izer</a> from the macro found in the ROOT repository  on Thursday, August 29, 2019 at 03:06 AM.</small></i>"
   ]
  },
  {
   "cell_type": "code",
   "execution_count": 1,
   "metadata": {
    "collapsed": false
   },
   "outputs": [
    {
     "name": "stdout",
     "output_type": "stream",
     "text": [
      "Welcome to JupyROOT 6.18/03\n"
     ]
    }
   ],
   "source": [
    "import ROOT"
   ]
  },
  {
   "cell_type": "markdown",
   "metadata": {},
   "source": [
    "Adjust global MC sampling strategy\n",
    "------------------------------------------------------------------"
   ]
  },
  {
   "cell_type": "markdown",
   "metadata": {},
   "source": [
    "Example p.d.f. for use below"
   ]
  },
  {
   "cell_type": "code",
   "execution_count": 2,
   "metadata": {
    "collapsed": false
   },
   "outputs": [
    {
     "name": "stdout",
     "output_type": "stream",
     "text": [
      "\n",
      "\u001b[1mRooFit v3.60 -- Developed by Wouter Verkerke and David Kirkby\u001b[0m \n",
      "                Copyright (C) 2000-2013 NIKHEF, University of California & Stanford University\n",
      "                All rights reserved, please read http://roofit.sourceforge.net/license.txt\n",
      "\n"
     ]
    }
   ],
   "source": [
    "x = ROOT.RooRealVar(\"x\", \"x\", 0, 10)\n",
    "model = ROOT.RooChebychev(\"model\", \"model\", x, ROOT.RooArgList(\n",
    "    ROOT.RooFit.RooConst(0), ROOT.RooFit.RooConst(0.5), ROOT.RooFit.RooConst(-0.1)))"
   ]
  },
  {
   "cell_type": "markdown",
   "metadata": {},
   "source": [
    "Change global strategy for 1D sampling problems without conditional observable\n",
    "(1st kFALSE) and without discrete observable (2nd kFALSE) from ROOT.RooFoamGenerator,\n",
    "( an interface to the ROOT.TFoam MC generator with adaptive subdivisioning strategy ) to ROOT.RooAcceptReject,\n",
    "a plain accept/reject sampling algorithm [ ROOT.RooFit default before\n",
    "ROOT 5.23/04 ]"
   ]
  },
  {
   "cell_type": "code",
   "execution_count": 3,
   "metadata": {
    "collapsed": false
   },
   "outputs": [
    {
     "data": {
      "text/plain": [
       "False"
      ]
     },
     "execution_count": 3,
     "metadata": {},
     "output_type": "execute_result"
    }
   ],
   "source": [
    "ROOT.RooAbsPdf.defaultGeneratorConfig().method1D(\n",
    "    ROOT.kFALSE, ROOT.kFALSE).setLabel(\"RooAcceptReject\")"
   ]
  },
  {
   "cell_type": "markdown",
   "metadata": {},
   "source": [
    "Generate 10Kevt using ROOT.RooAcceptReject"
   ]
  },
  {
   "cell_type": "code",
   "execution_count": 4,
   "metadata": {
    "collapsed": false
   },
   "outputs": [
    {
     "name": "stdout",
     "output_type": "stream",
     "text": [
      " --- RooGenContext --- \n",
      "Using PDF RooChebychev::model[ x=x coefList=(0,0.5,-0.1) ]\n",
      "Use PDF generator for ()\n",
      "Use MC sampling generator RooAcceptReject for (x)\n",
      "RooDataSet::modelData[x] = 10000 entries\n"
     ]
    },
    {
     "name": "stderr",
     "output_type": "stream",
     "text": [
      "RooAcceptReject: generated 10000 events so far.\n",
      "RooAcceptReject: generated 20000 events so far.\n",
      "RooAcceptReject: accepted event (used 1000 of 20184 so far)\n",
      "RooAcceptReject: accepted event (used 2000 of 20184 so far)\n",
      "RooAcceptReject: accepted event (used 7000 of 20184 so far)\n",
      "RooAcceptReject: accepted event (used 8000 of 20184 so far)\n",
      "RooAcceptReject: accepted event (used 9000 of 20184 so far)\n",
      "RooAcceptReject: accepted event (used 12000 of 20184 so far)\n",
      "RooAcceptReject: accepted event (used 13000 of 20184 so far)\n",
      "RooAcceptReject: accepted event (used 14000 of 20184 so far)\n",
      "RooAcceptReject: accepted event (used 16000 of 20184 so far)\n",
      "RooAcceptReject: accepted event (used 17000 of 20184 so far)\n",
      "RooAcceptReject: accepted event (used 18000 of 20184 so far)\n",
      "RooAcceptReject: accepted event (used 19000 of 20184 so far)\n"
     ]
    }
   ],
   "source": [
    "data_ar = model.generate(ROOT.RooArgSet(\n",
    "    x), 10000, ROOT.RooFit.Verbose(ROOT.kTRUE))\n",
    "data_ar.Print()"
   ]
  },
  {
   "cell_type": "markdown",
   "metadata": {},
   "source": [
    "Adjusting default config for a specific pdf\n",
    "-------------------------------------------------------------------------------------"
   ]
  },
  {
   "cell_type": "markdown",
   "metadata": {},
   "source": [
    "Another possibility: associate custom MC sampling configuration as default for object 'model'\n",
    "The kTRUE argument will install a clone of the default configuration as specialized configuration\n",
    "for self model if none existed so far"
   ]
  },
  {
   "cell_type": "code",
   "execution_count": 5,
   "metadata": {
    "collapsed": false
   },
   "outputs": [
    {
     "data": {
      "text/plain": [
       "False"
      ]
     },
     "execution_count": 5,
     "metadata": {},
     "output_type": "execute_result"
    }
   ],
   "source": [
    "model.specialGeneratorConfig(ROOT.kTRUE).method1D(\n",
    "    ROOT.kFALSE, ROOT.kFALSE).setLabel(\"RooFoamGenerator\")"
   ]
  },
  {
   "cell_type": "markdown",
   "metadata": {},
   "source": [
    "Adjusting parameters of a specific technique\n",
    "---------------------------------------------------------------------------------------"
   ]
  },
  {
   "cell_type": "markdown",
   "metadata": {},
   "source": [
    "Adjust maximum number of steps of ROOT.RooIntegrator1D in the global\n",
    "default configuration"
   ]
  },
  {
   "cell_type": "code",
   "execution_count": 6,
   "metadata": {
    "collapsed": false
   },
   "outputs": [
    {
     "data": {
      "text/plain": [
       "False"
      ]
     },
     "execution_count": 6,
     "metadata": {},
     "output_type": "execute_result"
    }
   ],
   "source": [
    "ROOT.RooAbsPdf.defaultGeneratorConfig().getConfigSection(\n",
    "    \"RooAcceptReject\").setRealValue(\"nTrial1D\", 2000)"
   ]
  },
  {
   "cell_type": "markdown",
   "metadata": {},
   "source": [
    "Example of how to change the parameters of a numeric integrator\n",
    "(Each config section is a ROOT.RooArgSet with ROOT.RooRealVars holding real-valued parameters\n",
    " and ROOT.RooCategories holding parameters with a finite set of options)"
   ]
  },
  {
   "cell_type": "code",
   "execution_count": 7,
   "metadata": {
    "collapsed": false
   },
   "outputs": [
    {
     "data": {
      "text/plain": [
       "False"
      ]
     },
     "execution_count": 7,
     "metadata": {},
     "output_type": "execute_result"
    }
   ],
   "source": [
    "model.specialGeneratorConfig().getConfigSection(\n",
    "    \"RooFoamGenerator\").setRealValue(\"chatLevel\", 1)"
   ]
  },
  {
   "cell_type": "markdown",
   "metadata": {},
   "source": [
    "Generate 10Kevt using ROOT.RooFoamGenerator (FOAM verbosity increased\n",
    "with above chatLevel adjustment for illustration purposes)"
   ]
  },
  {
   "cell_type": "code",
   "execution_count": 8,
   "metadata": {
    "collapsed": false
   },
   "outputs": [
    {
     "name": "stdout",
     "output_type": "stream",
     "text": [
      "FFFFFFFFFFFFFFFFFFFFFFFFFFFFFFFFFFFFFFFFFFFFFFFFFFFFFFFFFFFFFFFFFFFFFFFFFFFFFFFF\n",
      "F                                                                              F\n",
      "F                   ****************************************                   F\n",
      "F                    ******      TFoam::Initialize    ******                   F\n",
      "F                   ****************************************                   F\n",
      "F                                                      TFOAM                   F\n",
      "F    Version =           1.02M   =                   Release date:  2005.04.10 F\n",
      "F       kDim =          1 =  Dimension of the hyper-cubical space              F\n",
      "F     nCells =         30 =  Requested number of Cells (half of them active)   F\n",
      "F     nSampl =        200 =  No of MC events in exploration of a cell          F\n",
      "F       nBin =          8 =  No of bins in histograms, MC exploration of cell  F\n",
      "F   EvPerBin =         25 =  Maximum No effective_events/bin, MC exploration   F\n",
      "F   OptDrive =          2 =  Type of Driver   =1,2 for Sigma,WtMax             F\n",
      "F     OptRej =          1 =  MC rejection on/off for OptRej=0,1                F\n",
      "F   MaxWtRej =             1.1   =       Maximum wt in rejection for wt=1 evts F\n",
      "F                                                                              F\n",
      "FFFFFFFFFFFFFFFFFFFFFFFFFFFFFFFFFFFFFFFFFFFFFFFFFFFFFFFFFFFFFFFFFFFFFFFFFFFFFFFF\n",
      "11\n",
      "FFFFFFFFFFFFFFFFFFFFFFFFFFFFFFFFFFFFFFFFFFFFFFFFFFFFFFFFFFFFFFFFFFFFFFFFFFFFFFFF\n",
      "F                                                                              F\n",
      "F                    ***  TFoam::Initialize FINISHED!!!  ***                   F\n",
      "F     nCalls =       5800 =            Total number of function calls          F\n",
      "F     XPrime =       0.1100962   =     Primary total integral                  F\n",
      "F     XDiver =     0.010134446   =     Driver  total integral                  F\n",
      "F   mcResult =     0.099961756   =     Estimate of the true MC Integral        F\n",
      "F                                                                              F\n",
      "FFFFFFFFFFFFFFFFFFFFFFFFFFFFFFFFFFFFFFFFFFFFFFFFFFFFFFFFFFFFFFFFFFFFFFFFFFFFFFFF\n",
      " --- RooGenContext --- \n",
      "Using PDF RooChebychev::model[ x=x coefList=(0,0.5,-0.1) ]\n",
      "Use PDF generator for ()\n",
      "Use MC sampling generator RooFoamGenerator for (x)\n",
      "RooDataSet::modelData[x] = 10000 entries\n"
     ]
    }
   ],
   "source": [
    "data_foam = model.generate(ROOT.RooArgSet(x), 10000, ROOT.RooFit.Verbose())\n",
    "data_foam.Print()"
   ]
  }
 ],
 "metadata": {
  "kernelspec": {
   "display_name": "Python 2",
   "language": "python",
   "name": "python2"
  },
  "language_info": {
   "codemirror_mode": {
    "name": "ipython",
    "version": 2
   },
   "file_extension": ".py",
   "mimetype": "text/x-python",
   "name": "python",
   "nbconvert_exporter": "python",
   "pygments_lexer": "ipython2",
   "version": "2.7.10"
  }
 },
 "nbformat": 4,
 "nbformat_minor": 2
}
