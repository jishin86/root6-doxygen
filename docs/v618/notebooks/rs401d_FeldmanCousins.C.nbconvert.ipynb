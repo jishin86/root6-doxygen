{
 "cells": [
  {
   "cell_type": "markdown",
   "metadata": {},
   "source": [
    "# Rs 4 0 1D_ Feldman Cousins\n",
    "Neutrino Oscillation Example from Feldman & Cousins\n",
    "\n",
    "This tutorial shows a more complex example using the FeldmanCousins utility\n",
    "to create a confidence interval for a toy neutrino oscillation experiment.\n",
    "The example attempts to faithfully reproduce the toy example described in Feldman & Cousins'\n",
    "original paper, Phys.Rev.D57:3873-3889,1998.\n",
    "\n",
    "\n",
    "\n",
    "\n",
    "**Author:** Kyle Cranmer  \n",
    "<i><small>This notebook tutorial was automatically generated with <a href= \"https://github.com/root-project/root/blob/master/documentation/doxygen/converttonotebook.py\">ROOTBOOK-izer</a> from the macro found in the ROOT repository  on Thursday, August 29, 2019 at 03:15 AM.</small></i>"
   ]
  },
  {
   "cell_type": "code",
   "execution_count": 1,
   "metadata": {
    "collapsed": false
   },
   "outputs": [],
   "source": [
    "%%cpp -d\n",
    "#include \"RooGlobalFunc.h\"\n",
    "#include \"RooStats/ConfInterval.h\"\n",
    "#include \"RooStats/FeldmanCousins.h\"\n",
    "#include \"RooStats/ProfileLikelihoodCalculator.h\"\n",
    "#include \"RooStats/MCMCCalculator.h\"\n",
    "#include \"RooStats/UniformProposal.h\"\n",
    "#include \"RooStats/LikelihoodIntervalPlot.h\"\n",
    "#include \"RooStats/MCMCIntervalPlot.h\"\n",
    "#include \"RooStats/MCMCInterval.h\"\n",
    "\n",
    "#include \"RooDataSet.h\"\n",
    "#include \"RooDataHist.h\"\n",
    "#include \"RooRealVar.h\"\n",
    "#include \"RooConstVar.h\"\n",
    "#include \"RooAddition.h\"\n",
    "#include \"RooProduct.h\"\n",
    "#include \"RooProdPdf.h\"\n",
    "#include \"RooAddPdf.h\"\n",
    "\n",
    "#include \"TROOT.h\"\n",
    "#include \"RooPolynomial.h\"\n",
    "#include \"RooRandom.h\"\n",
    "\n",
    "#include \"RooNLLVar.h\"\n",
    "#include \"RooProfileLL.h\"\n",
    "\n",
    "#include \"RooPlot.h\"\n",
    "\n",
    "#include \"TCanvas.h\"\n",
    "#include \"TH1F.h\"\n",
    "#include \"TH2F.h\"\n",
    "#include \"TTree.h\"\n",
    "#include \"TMarker.h\"\n",
    "#include \"TStopwatch.h\"\n",
    "\n",
    "#include <iostream>"
   ]
  },
  {
   "cell_type": "markdown",
   "metadata": {},
   "source": [
    "Pdf class created for this macro"
   ]
  },
  {
   "cell_type": "code",
   "execution_count": 2,
   "metadata": {
    "collapsed": false
   },
   "outputs": [
    {
     "name": "stdout",
     "output_type": "stream",
     "text": [
      "\n",
      "\u001b[1mRooFit v3.60 -- Developed by Wouter Verkerke and David Kirkby\u001b[0m \n",
      "                Copyright (C) 2000-2013 NIKHEF, University of California & Stanford University\n",
      "                All rights reserved, please read http://roofit.sourceforge.net/license.txt\n",
      "\n"
     ]
    }
   ],
   "source": [
    "TString tutDir = gROOT->GetTutorialDir();\n",
    "TString headerDir = TString::Format(\"#include \\\"%s/roostats/NuMuToNuE_Oscillation.h\\\"\", tutDir.Data());\n",
    "TString impDir = TString::Format(\"#include \\\"%s/roostats/NuMuToNuE_Oscillation.cxx\\\"\", tutDir.Data());\n",
    "gROOT->ProcessLine(headerDir);\n",
    "gROOT->ProcessLine(impDir);"
   ]
  },
  {
   "cell_type": "markdown",
   "metadata": {},
   "source": [
    "Use this order for safety on library loading"
   ]
  },
  {
   "cell_type": "code",
   "execution_count": 3,
   "metadata": {
    "collapsed": false
   },
   "outputs": [],
   "source": [
    "%%cpp -d\n",
    "// This is a workaround to make sure the namespace is used inside functions\n",
    "using namespace RooFit;\n",
    "using namespace RooStats;"
   ]
  },
  {
   "cell_type": "markdown",
   "metadata": {},
   "source": [
    " Arguments are defined. "
   ]
  },
  {
   "cell_type": "code",
   "execution_count": 4,
   "metadata": {
    "collapsed": false
   },
   "outputs": [],
   "source": [
    "bool doFeldmanCousins = false;\n",
    "bool doMCMC = true;"
   ]
  },
  {
   "cell_type": "markdown",
   "metadata": {},
   "source": [
    "To time the macro"
   ]
  },
  {
   "cell_type": "code",
   "execution_count": 5,
   "metadata": {
    "collapsed": false
   },
   "outputs": [],
   "source": [
    "TStopwatch t;\n",
    "t.Start();"
   ]
  },
  {
   "cell_type": "markdown",
   "metadata": {},
   "source": [
    "Taken from feldman & cousins paper, phys.rev.d57:3873-3889,1998.\n",
    " e-Print: physics/9711021 (see page 13.)\n",
    "\n",
    " Quantum mechanics dictates that the probability of such a transformation is given by the formula\n",
    " $P (\\nu\\mu \\rightarrow \\nu e ) = sin^2 (2\\theta) sin^2 (1.27 \\Delta m^2 L /E )$\n",
    " where P is the probability for a $\\nu\\mu$ to transform into a $\\nu e$ , L is the distance in km between\n",
    " the creation of the neutrino from meson decay and its interaction in the detector, E is the\n",
    " neutrino energy in GeV, and $\\Delta m^2 = |m^2 - m^2 |$ in $(eV/c^2 )^2$ .\n",
    "\n",
    " To demonstrate how this works in practice, and how it compares to alternative approaches\n",
    " that have been used, we consider a toy model of a typical neutrino oscillation experiment.\n",
    " The toy model is defined by the following parameters: Mesons are assumed to decay to\n",
    " neutrinos uniformly in a region 600 m to 1000 m from the detector. The expected background\n",
    " from conventional $\\nu e$ interactions and misidentified $\\nu\\mu$ interactions is assumed to be 100\n",
    " events in each of 5 energy bins which span the region from 10 to 60 GeV. We assume that\n",
    " the $\\nu\\mu$ flux is such that if $P (\\nu\\mu \\rightarrow \\nu e ) = 0.01$ averaged over any bin, then that bin\n",
    " would\n",
    " have an expected additional contribution of 100 events due to $\\nu\\mu \\rightarrow \\nu e$ oscillations."
   ]
  },
  {
   "cell_type": "markdown",
   "metadata": {},
   "source": [
    "Make signal model model"
   ]
  },
  {
   "cell_type": "code",
   "execution_count": 6,
   "metadata": {
    "collapsed": false
   },
   "outputs": [],
   "source": [
    "RooRealVar E(\"E\", \"\", 15, 10, 60, \"GeV\");\n",
    "RooRealVar L(\"L\", \"\", .800, .600, 1.0, \"km\"); // need these units in formula\n",
    "RooRealVar deltaMSq(\"deltaMSq\", \"#Delta m^{2}\", 40, 1, 300, \"eV/c^{2}\");\n",
    "RooRealVar sinSq2theta(\"sinSq2theta\", \"sin^{2}(2#theta)\", .006, .0, .02);"
   ]
  },
  {
   "cell_type": "markdown",
   "metadata": {},
   "source": [
    "Roorealvar deltamsq(\"deltamsq\",\"#delta m^{2}\",40,20,70,\"ev/c^{2}\");\n",
    "  RooRealVar sinSq2theta(\"sinSq2theta\",\"sin^{2}(2#theta)\", .006,.001,.01);\n",
    " PDF for oscillation only describes deltaMSq dependence, sinSq2theta goes into sigNorm\n",
    " 1) The code for this PDF was created by issuing these commands\n",
    "    root [0] RooClassFactory x\n",
    "    root [1] x.makePdf(\"NuMuToNuE_Oscillation\",\"L,E,deltaMSq\",\"\",\"pow(sin(1.27*deltaMSq*L/E),2)\")"
   ]
  },
  {
   "cell_type": "code",
   "execution_count": 7,
   "metadata": {
    "collapsed": false
   },
   "outputs": [],
   "source": [
    "NuMuToNuE_Oscillation PnmuTone(\"PnmuTone\", \"P(#nu_{#mu} #rightarrow #nu_{e}\", L, E, deltaMSq);"
   ]
  },
  {
   "cell_type": "markdown",
   "metadata": {},
   "source": [
    "Only e is observable, so create the signal model by integrating out l"
   ]
  },
  {
   "cell_type": "code",
   "execution_count": 8,
   "metadata": {
    "collapsed": false
   },
   "outputs": [],
   "source": [
    "RooAbsPdf *sigModel = PnmuTone.createProjection(L);"
   ]
  },
  {
   "cell_type": "markdown",
   "metadata": {},
   "source": [
    "Create  $ \\int de' dl' p(e',l' | \\delta m^2)$.\n",
    " Given RooFit will renormalize the PDF in the range of the observables,\n",
    " the average probability to oscillate in the experiment's acceptance\n",
    " needs to be incorporated into the extended term in the likelihood.\n",
    " Do this by creating a RooAbsReal representing the integral and divide by\n",
    " the area in the E-L plane.\n",
    " The integral should be over \"primed\" observables, so we need\n",
    " an independent copy of PnmuTone not to interfere with the original."
   ]
  },
  {
   "cell_type": "markdown",
   "metadata": {},
   "source": [
    "Independent copy for integral"
   ]
  },
  {
   "cell_type": "code",
   "execution_count": 9,
   "metadata": {
    "collapsed": false
   },
   "outputs": [],
   "source": [
    "RooRealVar EPrime(\"EPrime\", \"\", 15, 10, 60, \"GeV\");\n",
    "RooRealVar LPrime(\"LPrime\", \"\", .800, .600, 1.0, \"km\"); // need these units in formula\n",
    "NuMuToNuE_Oscillation PnmuTonePrime(\"PnmuTonePrime\", \"P(#nu_{#mu} #rightarrow #nu_{e}\", LPrime, EPrime, deltaMSq);\n",
    "RooAbsReal *intProbToOscInExp = PnmuTonePrime.createIntegral(RooArgSet(EPrime, LPrime));"
   ]
  },
  {
   "cell_type": "markdown",
   "metadata": {},
   "source": [
    "Getting the flux is a bit tricky.  it is more clear to include a cross section term that is not\n",
    " explicitly referred to in the text, eg.\n",
    " number events in bin = flux * cross-section for nu_e interaction in E bin * average prob nu_mu osc. to nu_e in bin\n",
    " let maxEventsInBin = flux * cross-section for nu_e interaction in E bin\n",
    " maxEventsInBin * 1% chance per bin =  100 events / bin\n",
    " therefore maxEventsInBin = 10,000.\n",
    " for 5 bins, this means maxEventsTot = 50,000"
   ]
  },
  {
   "cell_type": "code",
   "execution_count": 10,
   "metadata": {
    "collapsed": false
   },
   "outputs": [],
   "source": [
    "RooConstVar maxEventsTot(\"maxEventsTot\", \"maximum number of sinal events\", 50000);\n",
    "RooConstVar inverseArea(\"inverseArea\", \"1/(#Delta E #Delta L)\",\n",
    "                        1. / (EPrime.getMax() - EPrime.getMin()) / (LPrime.getMax() - LPrime.getMin()));"
   ]
  },
  {
   "cell_type": "markdown",
   "metadata": {},
   "source": [
    "$signorm = maxeventstot \\cdot \\int de dl \\frac{p_{oscillate\\ in\\ experiment}}{area} \\cdot {sin}^2(2\\theta)$"
   ]
  },
  {
   "cell_type": "code",
   "execution_count": 11,
   "metadata": {
    "collapsed": false
   },
   "outputs": [],
   "source": [
    "RooProduct sigNorm(\"sigNorm\", \"\", RooArgSet(maxEventsTot, *intProbToOscInExp, inverseArea, sinSq2theta));"
   ]
  },
  {
   "cell_type": "markdown",
   "metadata": {},
   "source": [
    "Bkg = 5 bins * 100 events / bin"
   ]
  },
  {
   "cell_type": "code",
   "execution_count": 12,
   "metadata": {
    "collapsed": false
   },
   "outputs": [],
   "source": [
    "RooConstVar bkgNorm(\"bkgNorm\", \"normalization for background\", 500);"
   ]
  },
  {
   "cell_type": "markdown",
   "metadata": {},
   "source": [
    "Flat background (0th order polynomial, so no arguments for coefficients)"
   ]
  },
  {
   "cell_type": "code",
   "execution_count": 13,
   "metadata": {
    "collapsed": false
   },
   "outputs": [],
   "source": [
    "RooPolynomial bkgEShape(\"bkgEShape\", \"flat bkg shape\", E);"
   ]
  },
  {
   "cell_type": "markdown",
   "metadata": {},
   "source": [
    "Total model"
   ]
  },
  {
   "cell_type": "code",
   "execution_count": 14,
   "metadata": {
    "collapsed": false
   },
   "outputs": [],
   "source": [
    "RooAddPdf model(\"model\", \"\", RooArgList(*sigModel, bkgEShape), RooArgList(sigNorm, bkgNorm));"
   ]
  },
  {
   "cell_type": "markdown",
   "metadata": {},
   "source": [
    "For debugging, check model tree\n",
    "  model.printCompactTree();\n",
    "  model.graphVizTree(\"model.dot\");"
   ]
  },
  {
   "cell_type": "markdown",
   "metadata": {},
   "source": [
    "Turn off some messages"
   ]
  },
  {
   "cell_type": "code",
   "execution_count": 15,
   "metadata": {
    "collapsed": false
   },
   "outputs": [
    {
     "name": "stdout",
     "output_type": "stream",
     "text": [
      "RooMsgService::setStreamStatus() ERROR: invalid stream ID 2\n"
     ]
    }
   ],
   "source": [
    "RooMsgService::instance().setStreamStatus(0, kFALSE);\n",
    "RooMsgService::instance().setStreamStatus(1, kFALSE);\n",
    "RooMsgService::instance().setStreamStatus(2, kFALSE);"
   ]
  },
  {
   "cell_type": "markdown",
   "metadata": {},
   "source": [
    "--------------------------------------\n",
    " n events in data to data, simply sum of sig+bkg"
   ]
  },
  {
   "cell_type": "code",
   "execution_count": 16,
   "metadata": {
    "collapsed": false
   },
   "outputs": [
    {
     "name": "stdout",
     "output_type": "stream",
     "text": [
      "generate toy data with nEvents = 692\n"
     ]
    }
   ],
   "source": [
    "Int_t nEventsData = bkgNorm.getVal() + sigNorm.getVal();\n",
    "cout << \"generate toy data with nEvents = \" << nEventsData << endl;"
   ]
  },
  {
   "cell_type": "markdown",
   "metadata": {},
   "source": [
    "Adjust random seed to get a toy dataset similar to one in paper.\n",
    " Found by trial and error (3 trials, so not very \"fine tuned\")"
   ]
  },
  {
   "cell_type": "code",
   "execution_count": 17,
   "metadata": {
    "collapsed": false
   },
   "outputs": [],
   "source": [
    "RooRandom::randomGenerator()->SetSeed(3);"
   ]
  },
  {
   "cell_type": "markdown",
   "metadata": {},
   "source": [
    "Create a toy dataset"
   ]
  },
  {
   "cell_type": "code",
   "execution_count": 18,
   "metadata": {
    "collapsed": false
   },
   "outputs": [],
   "source": [
    "RooDataSet *data = model.generate(RooArgSet(E), nEventsData);"
   ]
  },
  {
   "cell_type": "markdown",
   "metadata": {},
   "source": [
    "--------------------------------------\n",
    " make some plots"
   ]
  },
  {
   "cell_type": "code",
   "execution_count": 19,
   "metadata": {
    "collapsed": false
   },
   "outputs": [],
   "source": [
    "TCanvas *dataCanvas = new TCanvas(\"dataCanvas\");\n",
    "dataCanvas->Divide(2, 2);"
   ]
  },
  {
   "cell_type": "markdown",
   "metadata": {},
   "source": [
    "Plot the pdf"
   ]
  },
  {
   "cell_type": "code",
   "execution_count": 20,
   "metadata": {
    "collapsed": false
   },
   "outputs": [],
   "source": [
    "dataCanvas->cd(1);\n",
    "TH1 *hh = PnmuTone.createHistogram(\"hh\", E, Binning(40), YVar(L, Binning(40)), Scaling(kFALSE));\n",
    "hh->SetLineColor(kBlue);\n",
    "hh->SetTitle(\"True Signal Model\");\n",
    "hh->Draw(\"surf\");"
   ]
  },
  {
   "cell_type": "markdown",
   "metadata": {},
   "source": [
    "Plot the data with the best fit"
   ]
  },
  {
   "cell_type": "code",
   "execution_count": 21,
   "metadata": {
    "collapsed": false
   },
   "outputs": [
    {
     "name": "stdout",
     "output_type": "stream",
     "text": [
      " **********\n",
      " **    1 **SET PRINT           1\n",
      " **********\n",
      " **********\n",
      " **    2 **SET NOGRAD\n",
      " **********\n",
      " PARAMETER DEFINITIONS:\n",
      "    NO.   NAME         VALUE      STEP SIZE      LIMITS\n",
      "     1 deltaMSq     4.00000e+01  1.95000e+01    1.00000e+00  3.00000e+02\n",
      "     2 sinSq2theta   6.00000e-03  2.00000e-03    0.00000e+00  2.00000e-02\n",
      " **********\n",
      " **    3 **SET ERR         0.5\n",
      " **********\n",
      " **********\n",
      " **    4 **SET PRINT           1\n",
      " **********\n",
      " **********\n",
      " **    5 **SET STR           1\n",
      " **********\n",
      " NOW USING STRATEGY  1: TRY TO BALANCE SPEED AGAINST RELIABILITY\n",
      " **********\n",
      " **    6 **MIGRAD        1000           1\n",
      " **********\n",
      " FIRST CALL TO USER FUNCTION AT NEW START POINT, WITH IFLAG=4.\n",
      " START MIGRAD MINIMIZATION.  STRATEGY  1.  CONVERGENCE WHEN EDM .LT. 1.00e-03\n",
      " FCN=-1131.15 FROM MIGRAD    STATUS=INITIATE        8 CALLS           9 TOTAL\n",
      "                     EDM= unknown      STRATEGY= 1      NO ERROR MATRIX       \n",
      "  EXT PARAMETER               CURRENT GUESS       STEP         FIRST   \n",
      "  NO.   NAME      VALUE            ERROR          SIZE      DERIVATIVE \n",
      "   1  deltaMSq     4.00000e+01   1.95000e+01   1.99953e-01   1.35503e+01\n",
      "   2  sinSq2theta   6.00000e-03   2.00000e-03   2.21072e-01  -1.80161e+00\n",
      "                               ERR DEF= 0.5\n",
      " MIGRAD MINIMIZATION HAS CONVERGED.\n",
      " MIGRAD WILL VERIFY CONVERGENCE AND ERROR MATRIX.\n",
      " COVARIANCE MATRIX CALCULATED SUCCESSFULLY\n",
      " FCN=-1131.34 FROM MIGRAD    STATUS=CONVERGED      32 CALLS          33 TOTAL\n",
      "                     EDM=8.53317e-08    STRATEGY= 1      ERROR MATRIX ACCURATE \n",
      "  EXT PARAMETER                                   STEP         FIRST   \n",
      "  NO.   NAME      VALUE            ERROR          SIZE      DERIVATIVE \n",
      "   1  deltaMSq     3.75389e+01   4.12974e+00   9.32732e-04   7.25755e-03\n",
      "   2  sinSq2theta   6.29097e-03   8.61732e-04   2.04882e-03   6.82825e-04\n",
      "                               ERR DEF= 0.5\n",
      " EXTERNAL ERROR MATRIX.    NDIM=  25    NPAR=  2    ERR DEF=0.5\n",
      "  1.706e+01 -1.140e-03 \n",
      " -1.140e-03  7.447e-07 \n",
      " PARAMETER  CORRELATION COEFFICIENTS  \n",
      "       NO.  GLOBAL      1      2\n",
      "        1  0.31971   1.000 -0.320\n",
      "        2  0.31971  -0.320  1.000\n",
      " **********\n",
      " **    7 **SET ERR         0.5\n",
      " **********\n",
      " **********\n",
      " **    8 **SET PRINT           1\n",
      " **********\n",
      " **********\n",
      " **    9 **HESSE        1000\n",
      " **********\n",
      " COVARIANCE MATRIX CALCULATED SUCCESSFULLY\n",
      " FCN=-1131.34 FROM HESSE     STATUS=OK             10 CALLS          43 TOTAL\n",
      "                     EDM=8.52816e-08    STRATEGY= 1      ERROR MATRIX ACCURATE \n",
      "  EXT PARAMETER                                INTERNAL      INTERNAL  \n",
      "  NO.   NAME      VALUE            ERROR       STEP SIZE       VALUE   \n",
      "   1  deltaMSq     3.75389e+01   4.12749e+00   3.73093e-05  -8.56559e-01\n",
      "   2  sinSq2theta   6.29097e-03   8.61259e-04   4.09765e-04  -3.79981e-01\n",
      "                               ERR DEF= 0.5\n",
      " EXTERNAL ERROR MATRIX.    NDIM=  25    NPAR=  2    ERR DEF=0.5\n",
      "  1.705e+01 -1.133e-03 \n",
      " -1.133e-03  7.439e-07 \n",
      " PARAMETER  CORRELATION COEFFICIENTS  \n",
      "       NO.  GLOBAL      1      2\n",
      "        1  0.31816   1.000 -0.318\n",
      "        2  0.31816  -0.318  1.000\n"
     ]
    }
   ],
   "source": [
    "dataCanvas->cd(2);\n",
    "RooPlot *Eframe = E.frame();\n",
    "data->plotOn(Eframe);\n",
    "model.fitTo(*data, Extended());\n",
    "model.plotOn(Eframe);\n",
    "model.plotOn(Eframe, Components(*sigModel), LineColor(kRed));\n",
    "model.plotOn(Eframe, Components(bkgEShape), LineColor(kGreen));\n",
    "model.plotOn(Eframe);\n",
    "Eframe->SetTitle(\"toy data with best fit model (and sig+bkg components)\");\n",
    "Eframe->Draw();"
   ]
  },
  {
   "cell_type": "markdown",
   "metadata": {},
   "source": [
    "Plot the likelihood function"
   ]
  },
  {
   "cell_type": "code",
   "execution_count": 22,
   "metadata": {
    "collapsed": false
   },
   "outputs": [],
   "source": [
    "dataCanvas->cd(3);\n",
    "RooNLLVar nll(\"nll\", \"nll\", model, *data, Extended());\n",
    "RooProfileLL pll(\"pll\", \"\", nll, RooArgSet(deltaMSq, sinSq2theta));"
   ]
  },
  {
   "cell_type": "markdown",
   "metadata": {},
   "source": [
    "Th1* hhh = nll.createhistogram(\"hhh\",sinsq2theta,binning(40),yvar(deltamsq,binning(40))) ;"
   ]
  },
  {
   "cell_type": "code",
   "execution_count": 23,
   "metadata": {
    "collapsed": false
   },
   "outputs": [],
   "source": [
    "TH1 *hhh = pll.createHistogram(\"hhh\", sinSq2theta, Binning(40), YVar(deltaMSq, Binning(40)), Scaling(kFALSE));\n",
    "hhh->SetLineColor(kBlue);\n",
    "hhh->SetTitle(\"Likelihood Function\");\n",
    "hhh->Draw(\"surf\");\n",
    "\n",
    "dataCanvas->Update();"
   ]
  },
  {
   "cell_type": "markdown",
   "metadata": {},
   "source": [
    "--------------------------------------------------------------\n",
    " show use of Feldman-Cousins utility in RooStats\n",
    " set the distribution creator, which encodes the test statistic"
   ]
  },
  {
   "cell_type": "code",
   "execution_count": 24,
   "metadata": {
    "collapsed": false
   },
   "outputs": [],
   "source": [
    "RooArgSet parameters(deltaMSq, sinSq2theta);\n",
    "RooWorkspace *w = new RooWorkspace();\n",
    "\n",
    "ModelConfig modelConfig;\n",
    "modelConfig.SetWorkspace(*w);\n",
    "modelConfig.SetPdf(model);\n",
    "modelConfig.SetParametersOfInterest(parameters);\n",
    "\n",
    "RooStats::FeldmanCousins fc(*data, modelConfig);\n",
    "fc.SetTestSize(.1); // set size of test\n",
    "fc.UseAdaptiveSampling(true);\n",
    "fc.SetNBins(10); // number of points to test per parameter"
   ]
  },
  {
   "cell_type": "markdown",
   "metadata": {},
   "source": [
    "Use the feldman-cousins tool"
   ]
  },
  {
   "cell_type": "code",
   "execution_count": 25,
   "metadata": {
    "collapsed": false
   },
   "outputs": [],
   "source": [
    "ConfInterval *interval = 0;\n",
    "if (doFeldmanCousins)\n",
    "   interval = fc.GetInterval();"
   ]
  },
  {
   "cell_type": "markdown",
   "metadata": {},
   "source": [
    "---------------------------------------------------------\n",
    " show use of ProfileLikeihoodCalculator utility in RooStats"
   ]
  },
  {
   "cell_type": "code",
   "execution_count": 26,
   "metadata": {
    "collapsed": false
   },
   "outputs": [],
   "source": [
    "RooStats::ProfileLikelihoodCalculator plc(*data, modelConfig);\n",
    "plc.SetTestSize(.1);\n",
    "\n",
    "ConfInterval *plcInterval = plc.GetInterval();"
   ]
  },
  {
   "cell_type": "markdown",
   "metadata": {},
   "source": [
    "--------------------------------------------\n",
    " show use of MCMCCalculator utility in RooStats"
   ]
  },
  {
   "cell_type": "code",
   "execution_count": 27,
   "metadata": {
    "collapsed": false
   },
   "outputs": [
    {
     "name": "stdout",
     "output_type": "stream",
     "text": [
      "[#1] INFO:Minization -- p.d.f. provides expected number of events, including extended term in likelihood.\n",
      "[#1] INFO:NumericIntegration -- RooRealIntegral::init(PnmuTonePrime_Int[EPrime,LPrime]) using numeric integrator RooAdaptiveIntegratorND to calculate Int(LPrime,EPrime)\n",
      "[#1] INFO:NumericIntegration -- RooRealIntegral::init(PnmuTone_Int[E,L]) using numeric integrator RooAdaptiveIntegratorND to calculate Int(L,E)\n",
      "[#1] INFO:NumericIntegration -- RooRealIntegral::init(PnmuTone_Int[L]_Norm[E,L]) using numeric integrator RooIntegrator1D to calculate Int(L)\n",
      "[#1] INFO:Minization -- createNLL picked up cached consraints from workspace with 0 entries\n",
      "Metropolis-Hastings progress: ....................................................................................................\n",
      "[#1] INFO:Eval -- Proposal acceptance rate: 3.3%\n",
      "[#1] INFO:Eval -- Number of steps in chain: 165\n",
      "[#1] INFO:NumericIntegration -- RooRealIntegral::init(product_Int[deltaMSq,sinSq2theta]_Norm[deltaMSq,sinSq2theta]) using numeric integrator RooAdaptiveIntegratorND to calculate Int(deltaMSq,sinSq2theta)\n",
      "[#0] WARNING:NumericIntegration -- RooAdaptiveIntegratorND::dtor(product) WARNING: Number of suppressed warningings about integral evaluations where target precision was not reached is 1\n",
      "[#1] INFO:NumericIntegration -- RooRealIntegral::init(product_Int[deltaMSq,sinSq2theta]_Norm[deltaMSq,sinSq2theta]) using numeric integrator RooAdaptiveIntegratorND to calculate Int(deltaMSq,sinSq2theta)\n",
      "[#1] INFO:Eval -- cutoff = 0.166573, conf = 0.904333\n",
      "[#0] WARNING:NumericIntegration -- RooAdaptiveIntegratorND::dtor(product) WARNING: Number of suppressed warningings about integral evaluations where target precision was not reached is 1\n",
      "[#0] WARNING:NumericIntegration -- RooAdaptiveIntegratorND::dtor(PnmuTonePrime) WARNING: Number of suppressed warningings about integral evaluations where target precision was not reached is 628\n",
      "[#0] WARNING:NumericIntegration -- RooAdaptiveIntegratorND::dtor(PnmuTone) WARNING: Number of suppressed warningings about integral evaluations where target precision was not reached is 628\n",
      "Real time 0:01:55, CP time 114.810\n"
     ]
    }
   ],
   "source": [
    "MCMCInterval *mcInt = NULL;\n",
    "\n",
    "if (doMCMC) {\n",
    "   // turn some messages back on\n",
    "   RooMsgService::instance().setStreamStatus(0, kTRUE);\n",
    "   RooMsgService::instance().setStreamStatus(1, kTRUE);\n",
    "\n",
    "   TStopwatch mcmcWatch;\n",
    "   mcmcWatch.Start();\n",
    "\n",
    "   RooArgList axisList(deltaMSq, sinSq2theta);\n",
    "   MCMCCalculator mc(*data, modelConfig);\n",
    "   mc.SetNumIters(5000);\n",
    "   mc.SetNumBurnInSteps(100);\n",
    "   mc.SetUseKeys(true);\n",
    "   mc.SetTestSize(.1);\n",
    "   mc.SetAxes(axisList); // set which is x and y axis in posterior histogram\n",
    "   // mc.SetNumBins(50);\n",
    "   mcInt = (MCMCInterval *)mc.GetInterval();\n",
    "\n",
    "   mcmcWatch.Stop();\n",
    "   mcmcWatch.Print();\n",
    "}"
   ]
  },
  {
   "cell_type": "markdown",
   "metadata": {},
   "source": [
    "-------------------------------\n",
    " make plot of resulting interval"
   ]
  },
  {
   "cell_type": "code",
   "execution_count": 28,
   "metadata": {
    "collapsed": false
   },
   "outputs": [],
   "source": [
    "dataCanvas->cd(4);"
   ]
  },
  {
   "cell_type": "markdown",
   "metadata": {},
   "source": [
    "First plot a small dot for every point tested"
   ]
  },
  {
   "cell_type": "code",
   "execution_count": 29,
   "metadata": {
    "collapsed": false
   },
   "outputs": [
    {
     "name": "stdout",
     "output_type": "stream",
     "text": [
      "MCMC actual confidence level: 0.904333\n",
      "[#1] INFO:Minization -- RooProfileLL::evaluate(nll_model_modelData_Profile[deltaMSq,sinSq2theta]) Creating instance of MINUIT\n",
      "[#1] INFO:Minization -- RooProfileLL::evaluate(nll_model_modelData_Profile[deltaMSq,sinSq2theta]) determining minimum likelihood for current configurations w.r.t all observable\n",
      "[#1] INFO:Minization -- RooProfileLL::evaluate(nll_model_modelData_Profile[deltaMSq,sinSq2theta]) minimum found at (deltaMSq=37.5376, sinSq2theta=0.00629099)\n",
      "..[#1] INFO:Minization -- LikelihoodInterval - Finding the contour of deltaMSq ( 0 ) and sinSq2theta ( 1 ) \n"
     ]
    }
   ],
   "source": [
    "if (doFeldmanCousins) {\n",
    "   RooDataHist *parameterScan = (RooDataHist *)fc.GetPointsToScan();\n",
    "   TH2F *hist = (TH2F *)parameterScan->createHistogram(\"sinSq2theta:deltaMSq\", 30, 30);\n",
    "   //  hist->Draw();\n",
    "   TH2F *forContour = (TH2F *)hist->Clone();\n",
    "\n",
    "   // now loop through the points and put a marker if it's in the interval\n",
    "   RooArgSet *tmpPoint;\n",
    "   // loop over points to test\n",
    "   for (Int_t i = 0; i < parameterScan->numEntries(); ++i) {\n",
    "      // get a parameter point from the list of points to test.\n",
    "      tmpPoint = (RooArgSet *)parameterScan->get(i)->clone(\"temp\");\n",
    "\n",
    "      if (interval) {\n",
    "         if (interval->IsInInterval(*tmpPoint)) {\n",
    "            forContour->SetBinContent(\n",
    "               hist->FindBin(tmpPoint->getRealValue(\"sinSq2theta\"), tmpPoint->getRealValue(\"deltaMSq\")), 1);\n",
    "         } else {\n",
    "            forContour->SetBinContent(\n",
    "               hist->FindBin(tmpPoint->getRealValue(\"sinSq2theta\"), tmpPoint->getRealValue(\"deltaMSq\")), 0);\n",
    "         }\n",
    "      }\n",
    "\n",
    "      delete tmpPoint;\n",
    "   }\n",
    "\n",
    "   if (interval) {\n",
    "      Double_t level = 0.5;\n",
    "      forContour->SetContour(1, &level);\n",
    "      forContour->SetLineWidth(2);\n",
    "      forContour->SetLineColor(kRed);\n",
    "      forContour->Draw(\"cont2,same\");\n",
    "   }\n",
    "}\n",
    "\n",
    "MCMCIntervalPlot *mcPlot = NULL;\n",
    "if (mcInt) {\n",
    "   cout << \"MCMC actual confidence level: \" << mcInt->GetActualConfidenceLevel() << endl;\n",
    "   mcPlot = new MCMCIntervalPlot(*mcInt);\n",
    "   mcPlot->SetLineColor(kMagenta);\n",
    "   mcPlot->Draw();\n",
    "}\n",
    "dataCanvas->Update();\n",
    "\n",
    "LikelihoodIntervalPlot plotInt((LikelihoodInterval *)plcInterval);\n",
    "plotInt.SetTitle(\"90% Confidence Intervals\");\n",
    "if (mcInt)\n",
    "   plotInt.Draw(\"same\");\n",
    "else\n",
    "   plotInt.Draw();\n",
    "dataCanvas->Update();"
   ]
  },
  {
   "cell_type": "markdown",
   "metadata": {},
   "source": [
    "/ print timing info"
   ]
  },
  {
   "cell_type": "code",
   "execution_count": 30,
   "metadata": {
    "collapsed": false
   },
   "outputs": [
    {
     "name": "stdout",
     "output_type": "stream",
     "text": [
      "Real time 0:02:25, CP time 143.020\n"
     ]
    }
   ],
   "source": [
    "t.Stop();\n",
    "t.Print();"
   ]
  },
  {
   "cell_type": "markdown",
   "metadata": {},
   "source": [
    "Draw all canvases "
   ]
  },
  {
   "cell_type": "code",
   "execution_count": 31,
   "metadata": {
    "collapsed": false
   },
   "outputs": [
    {
     "data": {
      "image/png": "[encoded data removed]",
      "text/plain": [
       "<IPython.core.display.Image object>"
      ]
     },
     "metadata": {},
     "output_type": "display_data"
    }
   ],
   "source": [
    "gROOT->GetListOfCanvases()->Draw()"
   ]
  }
 ],
 "metadata": {
  "kernelspec": {
   "display_name": "ROOT C++",
   "language": "c++",
   "name": "root"
  },
  "language_info": {
   "codemirror_mode": "text/x-c++src",
   "file_extension": ".C",
   "mimetype": " text/x-c++src",
   "name": "c++"
  }
 },
 "nbformat": 4,
 "nbformat_minor": 2
}
