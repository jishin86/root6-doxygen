{
 "cells": [
  {
   "cell_type": "markdown",
   "metadata": {},
   "source": [
    "# Minuit 2 Fit Bench\n",
    "Demonstrate performance and usage of Minuit2 and Fumili2 for monodimensional fits.\n",
    "\n",
    "\n",
    "\n",
    "\n",
    "**Author:** Lorenzo Moneta  \n",
    "<i><small>This notebook tutorial was automatically generated with <a href= \"https://github.com/root-project/root/blob/master/documentation/doxygen/converttonotebook.py\">ROOTBOOK-izer</a> from the macro found in the ROOT repository  on Thursday, August 29, 2019 at 01:32 AM.</small></i>"
   ]
  },
  {
   "cell_type": "code",
   "execution_count": 1,
   "metadata": {
    "collapsed": false
   },
   "outputs": [],
   "source": [
    "%%cpp -d\n",
    "#include \"TH1.h\"\n",
    "#include \"TF1.h\"\n",
    "#include \"TCanvas.h\"\n",
    "#include \"TStopwatch.h\"\n",
    "#include \"TSystem.h\"\n",
    "#include \"TRandom3.h\"\n",
    "#include \"Math/MinimizerOptions.h\"\n",
    "#include \"TPaveLabel.h\"\n",
    "#include \"TStyle.h\"\n",
    "#include \"TMath.h\"\n",
    "#include \"TROOT.h\"\n",
    "#include \"TFrame.h\"\n",
    "/*#include \"Fit/FitConfig.h\"*/\n",
    "\n",
    "\n",
    "TF1 *fitFcn;\n",
    "TH1 *histo;"
   ]
  },
  {
   "cell_type": "markdown",
   "metadata": {},
   "source": [
    "  Quadratic background function\n",
    " "
   ]
  },
  {
   "cell_type": "code",
   "execution_count": 2,
   "metadata": {
    "collapsed": false
   },
   "outputs": [],
   "source": [
    "%%cpp -d\n",
    "Double_t background(Double_t *x, Double_t *par) {\n",
    "   return par[0] + par[1]*x[0] + par[2]*x[0]*x[0];\n",
    "}"
   ]
  },
  {
   "cell_type": "markdown",
   "metadata": {},
   "source": [
    "  Lorenzian Peak function\n",
    " "
   ]
  },
  {
   "cell_type": "code",
   "execution_count": 3,
   "metadata": {
    "collapsed": false
   },
   "outputs": [],
   "source": [
    "%%cpp -d\n",
    "Double_t lorentzianPeak(Double_t *x, Double_t *par) {\n",
    "   return (0.5*par[0]*par[1]/TMath::Pi()) /\n",
    "   TMath::Max( 1.e-10,(x[0]-par[2])*(x[0]-par[2]) + .25*par[1]*par[1]);\n",
    "}"
   ]
  },
  {
   "cell_type": "markdown",
   "metadata": {},
   "source": [
    "  Sum of background and peak function\n",
    " "
   ]
  },
  {
   "cell_type": "code",
   "execution_count": 4,
   "metadata": {
    "collapsed": false
   },
   "outputs": [],
   "source": [
    "%%cpp -d\n",
    "Double_t fitFunction(Double_t *x, Double_t *par) {\n",
    "  return background(x,par) + lorentzianPeak(x,&par[3]);\n",
    "}"
   ]
  },
  {
   "cell_type": "markdown",
   "metadata": {},
   "source": [
    " A helper function is created: "
   ]
  },
  {
   "cell_type": "code",
   "execution_count": 5,
   "metadata": {
    "collapsed": false
   },
   "outputs": [],
   "source": [
    "%%cpp -d\n",
    "bool DoFit(const char* fitter, TVirtualPad *pad, Int_t npass) {\n",
    "   printf(\"\\n*********************************************************************************\\n\");\n",
    "   printf(\"\\t %s \\n\",fitter);\n",
    "   printf(\"*********************************************************************************\\n\");\n",
    "\n",
    "   gRandom = new TRandom3();\n",
    "   TStopwatch timer;\n",
    "   //   timer.Start();\n",
    "   ROOT::Math::MinimizerOptions::SetDefaultMinimizer(fitter);\n",
    "   pad->SetGrid();\n",
    "   pad->SetLogy();\n",
    "   fitFcn->SetParameters(1,1,1,6,.03,1);\n",
    "   fitFcn->Update();\n",
    "   std::string title = std::string(fitter) + \" fit bench\";\n",
    "   histo = new TH1D(fitter,title.c_str(),200,0,3);\n",
    "\n",
    "   TString fitterType(fitter);\n",
    "\n",
    "   timer.Start();\n",
    "   bool ok = true;\n",
    "   // fill histogram many times\n",
    "   // every time increase its statistics and re-use previous fitted\n",
    "   // parameter values as starting point\n",
    "   for (Int_t pass=0;pass<npass;pass++) {\n",
    "      if (pass%100 == 0) printf(\"pass : %d\\n\",pass);\n",
    "      else printf(\".\");\n",
    "      if (pass == 0)fitFcn->SetParameters(1,1,1,6,.03,1);\n",
    "      for (Int_t i=0;i<5000;i++) {\n",
    "         histo->Fill(fitFcn->GetRandom());\n",
    "      }\n",
    "      int iret = histo->Fit(fitFcn,\"Q0\");\n",
    "      ok &= (iret == 0);\n",
    "      if (iret!=0) Error(\"DoFit\",\"Fit pass %d failed !\",pass);\n",
    "   }\n",
    "   // do last fit computing Minos Errors (except for Fumili)\n",
    "   if (!fitterType.Contains(\"Fumili\"))  // Fumili does not implement Error options (MINOS)\n",
    "      histo->Fit(fitFcn,\"E\");\n",
    "   else\n",
    "      histo->Fit(fitFcn,\"\");\n",
    "   timer.Stop();\n",
    "\n",
    "   (histo->GetFunction(\"fitFcn\"))->SetLineColor(kRed+3);\n",
    "   gPad->SetFillColor(kYellow-10);\n",
    "\n",
    "\n",
    "   Double_t cputime = timer.CpuTime();\n",
    "   printf(\"%s, npass=%d  : RT=%7.3f s, Cpu=%7.3f s\\n\",fitter,npass,timer.RealTime(),cputime);\n",
    "   TPaveLabel *p = new TPaveLabel(0.45,0.7,0.88,0.8,Form(\"%s CPU= %g s\",fitter,cputime),\"brNDC\");\n",
    "   p->Draw();\n",
    "   p->SetTextColor(kRed+3);\n",
    "   p->SetFillColor(kYellow-8);\n",
    "   pad->Update();\n",
    "   return ok;\n",
    "}"
   ]
  },
  {
   "cell_type": "markdown",
   "metadata": {},
   "source": [
    " Arguments are defined. "
   ]
  },
  {
   "cell_type": "code",
   "execution_count": 6,
   "metadata": {
    "collapsed": false
   },
   "outputs": [],
   "source": [
    "Int_t npass=20;"
   ]
  },
  {
   "cell_type": "code",
   "execution_count": 7,
   "metadata": {
    "collapsed": false
   },
   "outputs": [],
   "source": [
    "TH1::AddDirectory(kFALSE);\n",
    "TCanvas *c1 = new TCanvas(\"FitBench\",\"Fitting Demo\",10,10,900,900);\n",
    "c1->Divide(2,2);\n",
    "c1->SetFillColor(kYellow-9);"
   ]
  },
  {
   "cell_type": "markdown",
   "metadata": {},
   "source": [
    "Create a tf1 with the range from 0 to 3 and 6 parameters"
   ]
  },
  {
   "cell_type": "code",
   "execution_count": 8,
   "metadata": {
    "collapsed": false
   },
   "outputs": [],
   "source": [
    "fitFcn = new TF1(\"fitFcn\",fitFunction,0,3,6);\n",
    "fitFcn->SetNpx(200);\n",
    "gStyle->SetOptFit();\n",
    "gStyle->SetStatY(0.6);\n",
    "\n",
    "bool ok = true;"
   ]
  },
  {
   "cell_type": "markdown",
   "metadata": {},
   "source": [
    "With minuit"
   ]
  },
  {
   "cell_type": "code",
   "execution_count": 9,
   "metadata": {
    "collapsed": false
   },
   "outputs": [
    {
     "name": "stdout",
     "output_type": "stream",
     "text": [
      "\n",
      "*********************************************************************************\n",
      "\t Minuit \n",
      "*********************************************************************************\n",
      "pass : 0\n",
      "................... FCN=205.276 FROM MINOS     STATUS=SUCCESSFUL     44 CALLS         429 TOTAL\n",
      "                     EDM=3.83288e-10    STRATEGY= 1      ERROR MATRIX ACCURATE \n",
      "  EXT PARAMETER                                   STEP         FIRST   \n",
      "  NO.   NAME      VALUE            ERROR          SIZE      DERIVATIVE \n",
      "   1  p0           5.13639e+01   2.01329e+00  -2.79418e-04  -2.05471e-06\n",
      "   2  p1           5.57813e+01   4.80582e+00   3.09127e-03  -9.98919e-07\n",
      "   3  p2           7.42112e+01   1.87041e+00  -1.20311e-03  -1.93173e-07\n",
      "   4  p3           4.27344e+02   2.93232e+00  -1.66243e-02  -7.80957e-07\n",
      "   5  p4           3.58604e-02   3.47005e-04   1.74159e-07   9.80777e-02\n",
      "   6  p5           1.00001e+00   1.64203e-04   1.64203e-04   3.19213e-02\n",
      "Minuit, npass=20  : RT=  0.111 s, Cpu=  0.110 s\n"
     ]
    }
   ],
   "source": [
    "c1->cd(1);\n",
    "ok &= DoFit(\"Minuit\",gPad,npass);"
   ]
  },
  {
   "cell_type": "markdown",
   "metadata": {},
   "source": [
    "With fumili"
   ]
  },
  {
   "cell_type": "code",
   "execution_count": 10,
   "metadata": {
    "collapsed": false
   },
   "outputs": [
    {
     "name": "stdout",
     "output_type": "stream",
     "text": [
      "\n",
      "*********************************************************************************\n",
      "\t Fumili \n",
      "*********************************************************************************\n",
      "pass : 0\n",
      "...................\n",
      "****************************************\n",
      "Minimizer is Fumili\n",
      "Chi2                      =      206.284\n",
      "NDf                       =          194\n",
      "NCalls                    =            4\n",
      "p0                        =      51.4325   +/-   2.01397     \n",
      "p1                        =      55.5412   +/-   4.81253     \n",
      "p2                        =      74.2976   +/-   1.87298     \n",
      "p3                        =      427.425   +/-   2.93868     \n",
      "p4                        =    0.0358559   +/-   0.000357243 \n",
      "p5                        =      1.00001   +/-   0.00016009  \n",
      "Fumili, npass=20  : RT=  0.167 s, Cpu=  0.090 s\n"
     ]
    }
   ],
   "source": [
    "c1->cd(2);\n",
    "ok &= DoFit(\"Fumili\",gPad,npass);"
   ]
  },
  {
   "cell_type": "markdown",
   "metadata": {},
   "source": [
    "With minuit2"
   ]
  },
  {
   "cell_type": "code",
   "execution_count": 11,
   "metadata": {
    "collapsed": false
   },
   "outputs": [
    {
     "name": "stdout",
     "output_type": "stream",
     "text": [
      "\n",
      "*********************************************************************************\n",
      "\t Minuit2 \n",
      "*********************************************************************************\n",
      "pass : 0\n",
      "...................\n",
      "****************************************\n",
      "Minimizer is Minuit2 / Migrad\n",
      "Chi2                      =       205.34\n",
      "NDf                       =          194\n",
      "Edm                       =  1.91395e-10\n",
      "NCalls                    =           85\n",
      "p0                        =      51.3576   +/-   2.0133      \n",
      "p1                        =      55.8172   +/-   4.80582     \n",
      "p2                        =      74.1981   +/-   1.8704      \n",
      "p3                        =      427.317   +/-   2.93218     \n",
      "p4                        =    0.0358574   +/-   0.000346961 \n",
      "p5                        =      1.00001   +/-   0.000164204 \n",
      "Minuit2, npass=20  : RT=  0.072 s, Cpu=  0.070 s\n"
     ]
    }
   ],
   "source": [
    "c1->cd(3);\n",
    "ok &= DoFit(\"Minuit2\",gPad,npass);"
   ]
  },
  {
   "cell_type": "markdown",
   "metadata": {},
   "source": [
    "With fumili2"
   ]
  },
  {
   "cell_type": "code",
   "execution_count": 12,
   "metadata": {
    "collapsed": false
   },
   "outputs": [
    {
     "name": "stdout",
     "output_type": "stream",
     "text": [
      "\n",
      "*********************************************************************************\n",
      "\t Fumili2 \n",
      "*********************************************************************************\n",
      "pass : 0\n",
      "...................\n",
      "****************************************\n",
      "Minimizer is Minuit2 / Fumili\n",
      "Chi2                      =      207.495\n",
      "NDf                       =          194\n",
      "Edm                       =  4.34894e-10\n",
      "NCalls                    =           92\n",
      "p0                        =      51.4278   +/-   2.01381     \n",
      "p1                        =      55.5389   +/-   4.8062      \n",
      "p2                        =      74.3005   +/-   1.8705      \n",
      "p3                        =      427.406   +/-   2.93236     \n",
      "p4                        =    0.0358584   +/-   0.000346902 \n",
      "p5                        =      1.00001   +/-   0.000164198 \n",
      "Fumili2, npass=20  : RT=  0.075 s, Cpu=  0.060 s\n"
     ]
    },
    {
     "name": "stderr",
     "output_type": "stream",
     "text": [
      "Info in <TCanvas::SaveAs>: ROOT file FitBench.root has been created\n"
     ]
    }
   ],
   "source": [
    "c1->cd(4);\n",
    "ok &= DoFit(\"Fumili2\",gPad,npass);\n",
    "\n",
    "c1->SaveAs(\"FitBench.root\");\n",
    "return (ok) ? 0 : 1;"
   ]
  },
  {
   "cell_type": "markdown",
   "metadata": {},
   "source": [
    "Draw all canvases "
   ]
  },
  {
   "cell_type": "code",
   "execution_count": 13,
   "metadata": {
    "collapsed": false
   },
   "outputs": [
    {
     "data": {
      "image/png": "[encoded data removed]",
      "text/plain": [
       "<IPython.core.display.Image object>"
      ]
     },
     "metadata": {},
     "output_type": "display_data"
    }
   ],
   "source": [
    "gROOT->GetListOfCanvases()->Draw()"
   ]
  }
 ],
 "metadata": {
  "kernelspec": {
   "display_name": "ROOT C++",
   "language": "c++",
   "name": "root"
  },
  "language_info": {
   "codemirror_mode": "text/x-c++src",
   "file_extension": ".C",
   "mimetype": " text/x-c++src",
   "name": "c++"
  }
 },
 "nbformat": 4,
 "nbformat_minor": 2
}
