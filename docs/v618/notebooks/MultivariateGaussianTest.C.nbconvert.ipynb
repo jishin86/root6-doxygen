{
 "cells": [
  {
   "cell_type": "markdown",
   "metadata": {},
   "source": [
    "#  Multivariate Gaussian Test\n",
    "Comparison of MCMC and PLC in a multi-variate gaussian problem\n",
    "\n",
    "This tutorial produces an N-dimensional multivariate Gaussian\n",
    "with a non-trivial covariance matrix.  By default N=4 (called \"dim\").\n",
    "\n",
    "A subset of these are considered parameters of interest.\n",
    "This problem is tractable analytically.\n",
    "\n",
    "We use this mainly as a test of Markov Chain Monte Carlo\n",
    "and we compare the result to the profile likelihood ratio.\n",
    "\n",
    "We use the proposal helper to create a customized\n",
    "proposal function for this problem.\n",
    "\n",
    "For N=4 and 2 parameters of interest it takes about 10-20 seconds\n",
    "and the acceptance rate is 37%\n",
    "\n",
    "\n",
    "\n",
    "\n",
    "**Author:**  Kevin Belasco and Kyle Cranmer  \n",
    "<i><small>This notebook tutorial was automatically generated with <a href= \"https://github.com/root-project/root/blob/master/documentation/doxygen/converttonotebook.py\">ROOTBOOK-izer</a> from the macro found in the ROOT repository  on Thursday, August 29, 2019 at 03:12 AM.</small></i>"
   ]
  },
  {
   "cell_type": "code",
   "execution_count": 1,
   "metadata": {
    "collapsed": false
   },
   "outputs": [],
   "source": [
    "%%cpp -d\n",
    "#include \"RooGlobalFunc.h\"\n",
    "#include <stdlib.h>\n",
    "#include \"TMatrixDSym.h\"\n",
    "#include \"RooMultiVarGaussian.h\"\n",
    "#include \"RooArgList.h\"\n",
    "#include \"RooRealVar.h\"\n",
    "#include \"TH2F.h\"\n",
    "#include \"TCanvas.h\"\n",
    "#include \"RooAbsReal.h\"\n",
    "#include \"RooFitResult.h\"\n",
    "#include \"TStopwatch.h\"\n",
    "#include \"RooStats/MCMCCalculator.h\"\n",
    "#include \"RooStats/MetropolisHastings.h\"\n",
    "#include \"RooStats/MarkovChain.h\"\n",
    "#include \"RooStats/ConfInterval.h\"\n",
    "#include \"RooStats/MCMCInterval.h\"\n",
    "#include \"RooStats/MCMCIntervalPlot.h\"\n",
    "#include \"RooStats/ModelConfig.h\"\n",
    "#include \"RooStats/ProposalHelper.h\"\n",
    "#include \"RooStats/ProposalFunction.h\"\n",
    "#include \"RooStats/PdfProposal.h\"\n",
    "#include \"RooStats/ProfileLikelihoodCalculator.h\"\n",
    "#include \"RooStats/LikelihoodIntervalPlot.h\"\n",
    "#include \"RooStats/LikelihoodInterval.h\"\n",
    "\n",
    "using namespace std;"
   ]
  },
  {
   "cell_type": "code",
   "execution_count": 2,
   "metadata": {
    "collapsed": false
   },
   "outputs": [],
   "source": [
    "%%cpp -d\n",
    "// This is a workaround to make sure the namespace is used inside functions\n",
    "using namespace RooFit;\n",
    "using namespace RooStats;"
   ]
  },
  {
   "cell_type": "markdown",
   "metadata": {},
   "source": [
    " Arguments are defined. "
   ]
  },
  {
   "cell_type": "code",
   "execution_count": 3,
   "metadata": {
    "collapsed": false
   },
   "outputs": [],
   "source": [
    "Int_t dim = 4;\n",
    "Int_t nPOI = 2;"
   ]
  },
  {
   "cell_type": "markdown",
   "metadata": {},
   "source": [
    "Let's time this challenging example"
   ]
  },
  {
   "cell_type": "code",
   "execution_count": 4,
   "metadata": {
    "collapsed": false
   },
   "outputs": [
    {
     "name": "stdout",
     "output_type": "stream",
     "text": [
      "\n",
      "\u001b[1mRooFit v3.60 -- Developed by Wouter Verkerke and David Kirkby\u001b[0m \n",
      "                Copyright (C) 2000-2013 NIKHEF, University of California & Stanford University\n",
      "                All rights reserved, please read http://roofit.sourceforge.net/license.txt\n",
      "\n"
     ]
    }
   ],
   "source": [
    "TStopwatch t;\n",
    "t.Start();\n",
    "\n",
    "RooArgList xVec;\n",
    "RooArgList muVec;\n",
    "RooArgSet poi;"
   ]
  },
  {
   "cell_type": "markdown",
   "metadata": {},
   "source": [
    "Make the observable and means"
   ]
  },
  {
   "cell_type": "code",
   "execution_count": 5,
   "metadata": {
    "collapsed": false
   },
   "outputs": [],
   "source": [
    "Int_t i, j;\n",
    "RooRealVar *x;\n",
    "RooRealVar *mu_x;\n",
    "for (i = 0; i < dim; i++) {\n",
    "   char *name = Form(\"x%d\", i);\n",
    "   x = new RooRealVar(name, name, 0, -3, 3);\n",
    "   xVec.add(*x);\n",
    "\n",
    "   char *mu_name = Form(\"mu_x%d\", i);\n",
    "   mu_x = new RooRealVar(mu_name, mu_name, 0, -2, 2);\n",
    "   muVec.add(*mu_x);\n",
    "}"
   ]
  },
  {
   "cell_type": "markdown",
   "metadata": {},
   "source": [
    "Put them into the list of parameters of interest"
   ]
  },
  {
   "cell_type": "code",
   "execution_count": 6,
   "metadata": {
    "collapsed": false
   },
   "outputs": [],
   "source": [
    "for (i = 0; i < nPOI; i++) {\n",
    "   poi.add(*muVec.at(i));\n",
    "}"
   ]
  },
  {
   "cell_type": "markdown",
   "metadata": {},
   "source": [
    "Make a covariance matrix that is all 1's"
   ]
  },
  {
   "cell_type": "code",
   "execution_count": 7,
   "metadata": {
    "collapsed": false
   },
   "outputs": [],
   "source": [
    "TMatrixDSym cov(dim);\n",
    "for (i = 0; i < dim; i++) {\n",
    "   for (j = 0; j < dim; j++) {\n",
    "      if (i == j)\n",
    "         cov(i, j) = 3.;\n",
    "      else\n",
    "         cov(i, j) = 1.0;\n",
    "   }\n",
    "}"
   ]
  },
  {
   "cell_type": "markdown",
   "metadata": {},
   "source": [
    "Now make the multivariate gaussian"
   ]
  },
  {
   "cell_type": "code",
   "execution_count": 8,
   "metadata": {
    "collapsed": false
   },
   "outputs": [],
   "source": [
    "RooMultiVarGaussian mvg(\"mvg\", \"mvg\", xVec, muVec, cov);"
   ]
  },
  {
   "cell_type": "markdown",
   "metadata": {},
   "source": [
    "--------------------\n",
    " make a toy dataset"
   ]
  },
  {
   "cell_type": "code",
   "execution_count": 9,
   "metadata": {
    "collapsed": false
   },
   "outputs": [],
   "source": [
    "RooDataSet *data = mvg.generate(xVec, 100);"
   ]
  },
  {
   "cell_type": "markdown",
   "metadata": {},
   "source": [
    "Now create the model config for this problem"
   ]
  },
  {
   "cell_type": "code",
   "execution_count": 10,
   "metadata": {
    "collapsed": false
   },
   "outputs": [],
   "source": [
    "RooWorkspace *w = new RooWorkspace(\"MVG\");\n",
    "ModelConfig modelConfig(w);\n",
    "modelConfig.SetPdf(mvg);\n",
    "modelConfig.SetParametersOfInterest(poi);"
   ]
  },
  {
   "cell_type": "markdown",
   "metadata": {},
   "source": [
    "-------------------------------------------------------\n",
    " Setup calculators"
   ]
  },
  {
   "cell_type": "markdown",
   "metadata": {},
   "source": [
    "Mcmc\n",
    " we want to setup an efficient proposal function\n",
    " using the covariance matrix from a fit to the data"
   ]
  },
  {
   "cell_type": "code",
   "execution_count": 11,
   "metadata": {
    "collapsed": false
   },
   "outputs": [
    {
     "name": "stdout",
     "output_type": "stream",
     "text": [
      "[#1] INFO:Minization -- RooMinimizer::optimizeConst: activating const optimization\n",
      " **********\n",
      " **    1 **SET PRINT           1\n",
      " **********\n",
      " **********\n",
      " **    2 **SET NOGRAD\n",
      " **********\n",
      " PARAMETER DEFINITIONS:\n",
      "    NO.   NAME         VALUE      STEP SIZE      LIMITS\n",
      "     1 mu_x0        0.00000e+00  4.00000e-01   -2.00000e+00  2.00000e+00\n",
      "     2 mu_x1        0.00000e+00  4.00000e-01   -2.00000e+00  2.00000e+00\n",
      "     3 mu_x2        0.00000e+00  4.00000e-01   -2.00000e+00  2.00000e+00\n",
      "     4 mu_x3        0.00000e+00  4.00000e-01   -2.00000e+00  2.00000e+00\n",
      " **********\n",
      " **    3 **SET ERR         0.5\n",
      " **********\n",
      " **********\n",
      " **    4 **SET PRINT           1\n",
      " **********\n",
      " **********\n",
      " **    5 **SET STR           1\n",
      " **********\n",
      " NOW USING STRATEGY  1: TRY TO BALANCE SPEED AGAINST RELIABILITY\n",
      " **********\n",
      " **    6 **MIGRAD        2000           1\n",
      " **********\n",
      " FIRST CALL TO USER FUNCTION AT NEW START POINT, WITH IFLAG=4.\n",
      " START MIGRAD MINIMIZATION.  STRATEGY  1.  CONVERGENCE WHEN EDM .LT. 1.00e-03\n",
      " FCN=707.822 FROM MIGRAD    STATUS=INITIATE       14 CALLS          15 TOTAL\n",
      "                     EDM= unknown      STRATEGY= 1      NO ERROR MATRIX       \n",
      "  EXT PARAMETER               CURRENT GUESS       STEP         FIRST   \n",
      "  NO.   NAME      VALUE            ERROR          SIZE      DERIVATIVE \n",
      "   1  mu_x0        0.00000e+00   4.00000e-01   2.01358e-01  -9.83942e+00\n",
      "   2  mu_x1        0.00000e+00   4.00000e-01   2.01358e-01  -1.25127e+01\n",
      "   3  mu_x2        0.00000e+00   4.00000e-01   2.01358e-01   9.88572e+00\n",
      "   4  mu_x3        0.00000e+00   4.00000e-01   2.01358e-01  -4.09155e+00\n",
      "                               ERR DEF= 0.5\n",
      " MIGRAD MINIMIZATION HAS CONVERGED.\n",
      " MIGRAD WILL VERIFY CONVERGENCE AND ERROR MATRIX.\n",
      " COVARIANCE MATRIX CALCULATED SUCCESSFULLY\n",
      " FCN=706.56 FROM MIGRAD    STATUS=CONVERGED      65 CALLS          66 TOTAL\n",
      "                     EDM=1.95881e-05    STRATEGY= 1      ERROR MATRIX ACCURATE \n",
      "  EXT PARAMETER                                   STEP         FIRST   \n",
      "  NO.   NAME      VALUE            ERROR          SIZE      DERIVATIVE \n",
      "   1  mu_x0        1.80728e-01   1.72980e-01   1.42731e-03  -2.59592e-02\n",
      "   2  mu_x1        2.07351e-01   1.72978e-01   1.42884e-03  -3.69006e-02\n",
      "   3  mu_x2       -1.59412e-02   1.72984e-01   1.42230e-03   3.21539e-02\n",
      "   4  mu_x3        1.23430e-01   1.72982e-01   1.42472e-03  -8.04153e-03\n",
      "                               ERR DEF= 0.5\n",
      " EXTERNAL ERROR MATRIX.    NDIM=  25    NPAR=  4    ERR DEF=0.5\n",
      "  3.000e-02  9.997e-03  9.998e-03  9.997e-03 \n",
      "  9.997e-03  3.000e-02  9.998e-03  9.997e-03 \n",
      "  9.998e-03  9.998e-03  3.000e-02  9.998e-03 \n",
      "  9.997e-03  9.997e-03  9.998e-03  3.000e-02 \n",
      " PARAMETER  CORRELATION COEFFICIENTS  \n",
      "       NO.  GLOBAL      1      2      3      4\n",
      "        1  0.44715   1.000  0.333  0.333  0.333\n",
      "        2  0.44715   0.333  1.000  0.333  0.333\n",
      "        3  0.44717   0.333  0.333  1.000  0.333\n",
      "        4  0.44716   0.333  0.333  0.333  1.000\n",
      " **********\n",
      " **    7 **SET ERR         0.5\n",
      " **********\n",
      " **********\n",
      " **    8 **SET PRINT           1\n",
      " **********\n",
      " **********\n",
      " **    9 **HESSE        2000\n",
      " **********\n",
      " COVARIANCE MATRIX CALCULATED SUCCESSFULLY\n",
      " FCN=706.56 FROM HESSE     STATUS=OK             23 CALLS          89 TOTAL\n",
      "                     EDM=1.95881e-05    STRATEGY= 1      ERROR MATRIX ACCURATE \n",
      "  EXT PARAMETER                                INTERNAL      INTERNAL  \n",
      "  NO.   NAME      VALUE            ERROR       STEP SIZE       VALUE   \n",
      "   1  mu_x0        1.80728e-01   1.72984e-01   2.85462e-04   9.04875e-02\n",
      "   2  mu_x1        2.07351e-01   1.72982e-01   2.85769e-04   1.03862e-01\n",
      "   3  mu_x2       -1.59412e-02   1.72987e-01   2.84460e-04  -7.97069e-03\n",
      "   4  mu_x3        1.23430e-01   1.72986e-01   2.84944e-04   6.17540e-02\n",
      "                               ERR DEF= 0.5\n",
      " EXTERNAL ERROR MATRIX.    NDIM=  25    NPAR=  4    ERR DEF=0.5\n",
      "  3.000e-02  9.999e-03  9.999e-03  9.999e-03 \n",
      "  9.999e-03  3.000e-02  9.999e-03  9.999e-03 \n",
      "  9.999e-03  9.999e-03  3.000e-02  9.999e-03 \n",
      "  9.999e-03  9.999e-03  9.999e-03  3.000e-02 \n",
      " PARAMETER  CORRELATION COEFFICIENTS  \n",
      "       NO.  GLOBAL      1      2      3      4\n",
      "        1  0.44720   1.000  0.333  0.333  0.333\n",
      "        2  0.44719   0.333  1.000  0.333  0.333\n",
      "        3  0.44720   0.333  0.333  1.000  0.333\n",
      "        4  0.44720   0.333  0.333  0.333  1.000\n",
      "[#1] INFO:Minization -- RooMinimizer::optimizeConst: deactivating const optimization\n"
     ]
    }
   ],
   "source": [
    "RooFitResult *fit = mvg.fitTo(*data, Save(true));\n",
    "ProposalHelper ph;\n",
    "ph.SetVariables((RooArgSet &)fit->floatParsFinal());\n",
    "ph.SetCovMatrix(fit->covarianceMatrix());\n",
    "ph.SetUpdateProposalParameters(true);\n",
    "ph.SetCacheSize(100);\n",
    "ProposalFunction *pdfProp = ph.GetProposalFunction();"
   ]
  },
  {
   "cell_type": "markdown",
   "metadata": {},
   "source": [
    "Now create the calculator"
   ]
  },
  {
   "cell_type": "code",
   "execution_count": 12,
   "metadata": {
    "collapsed": false
   },
   "outputs": [
    {
     "name": "stdout",
     "output_type": "stream",
     "text": [
      "[#1] INFO:Minization -- createNLL: caching constraint set under name CONSTR_OF_PDF_mvg_FOR_OBS_x0:x1:x2:x3 with 0 entries\n",
      "Metropolis-Hastings progress: ....................................................................................................\n",
      "[#1] INFO:Eval -- Proposal acceptance rate: 37.1%\n",
      "[#1] INFO:Eval -- Number of steps in chain: 3710\n"
     ]
    }
   ],
   "source": [
    "MCMCCalculator mc(*data, modelConfig);\n",
    "mc.SetConfidenceLevel(0.95);\n",
    "mc.SetNumBurnInSteps(100);\n",
    "mc.SetNumIters(10000);\n",
    "mc.SetNumBins(50);\n",
    "mc.SetProposalFunction(*pdfProp);\n",
    "\n",
    "MCMCInterval *mcInt = mc.GetInterval();\n",
    "RooArgList *poiList = mcInt->GetAxes();"
   ]
  },
  {
   "cell_type": "markdown",
   "metadata": {},
   "source": [
    "Now setup the profile likelihood calculator"
   ]
  },
  {
   "cell_type": "code",
   "execution_count": 13,
   "metadata": {
    "collapsed": false
   },
   "outputs": [
    {
     "name": "stdout",
     "output_type": "stream",
     "text": [
      "[#1] INFO:Minization -- createNLL picked up cached consraints from workspace with 0 entries\n",
      "[#0] PROGRESS:Minization -- ProfileLikelihoodCalcultor::DoGLobalFit - find MLE \n",
      "[#0] PROGRESS:Minization -- ProfileLikelihoodCalcultor::DoMinimizeNLL - using Minuit / Migrad with strategy 1\n",
      "[#1] INFO:Minization -- RooMinimizer::optimizeConst: activating const optimization\n",
      "[#1] INFO:Minization -- \n",
      "  RooFitResult: minimized FCN value: 706.56, estimated distance to minimum: 1.16082e-08\n",
      "                covariance matrix quality: Full, accurate covariance matrix\n",
      "                Status : MINIMIZE=0 \n",
      "\n",
      "    Floating Parameter    FinalValue +/-  Error   \n",
      "  --------------------  --------------------------\n",
      "                 mu_x0    1.8119e-01 +/-  1.73e-01\n",
      "                 mu_x1    2.0792e-01 +/-  1.73e-01\n",
      "                 mu_x2   -1.6078e-02 +/-  1.73e-01\n",
      "                 mu_x3    1.2370e-01 +/-  1.73e-01\n",
      "\n"
     ]
    }
   ],
   "source": [
    "ProfileLikelihoodCalculator plc(*data, modelConfig);\n",
    "plc.SetConfidenceLevel(0.95);\n",
    "LikelihoodInterval *plInt = (LikelihoodInterval *)plc.GetInterval();"
   ]
  },
  {
   "cell_type": "markdown",
   "metadata": {},
   "source": [
    "Make some plots"
   ]
  },
  {
   "cell_type": "code",
   "execution_count": 14,
   "metadata": {
    "collapsed": false
   },
   "outputs": [
    {
     "name": "stdout",
     "output_type": "stream",
     "text": [
      "[#1] INFO:Minization -- RooProfileLL::evaluate(nll_mvg_mvgData_Profile[mu_x0,mu_x1]) Creating instance of MINUIT\n",
      "[#1] INFO:Minization -- RooProfileLL::evaluate(nll_mvg_mvgData_Profile[mu_x0,mu_x1]) determining minimum likelihood for current configurations w.r.t all observable\n",
      "[#1] INFO:Minization -- RooProfileLL::evaluate(nll_mvg_mvgData_Profile[mu_x0,mu_x1]) minimum found at (mu_x0=0.181184, mu_x1=0.207917)\n",
      "..[#1] INFO:Minization -- LikelihoodInterval - Finding the contour of mu_x0 ( 0 ) and mu_x1 ( 1 ) \n",
      "MCMC interval on p0: [-0.28, 0.6]\n",
      "MCMC interval on p1: [-0.28, 0.6]\n",
      "Real time 0:00:02, CP time 1.910\n"
     ]
    }
   ],
   "source": [
    "MCMCIntervalPlot mcPlot(*mcInt);\n",
    "\n",
    "TCanvas *c1 = new TCanvas();\n",
    "mcPlot.SetLineColor(kGreen);\n",
    "mcPlot.SetLineWidth(2);\n",
    "mcPlot.Draw();\n",
    "\n",
    "LikelihoodIntervalPlot plPlot(plInt);\n",
    "plPlot.Draw(\"same\");\n",
    "\n",
    "if (poiList->getSize() == 1) {\n",
    "   RooRealVar *p = (RooRealVar *)poiList->at(0);\n",
    "   Double_t ll = mcInt->LowerLimit(*p);\n",
    "   Double_t ul = mcInt->UpperLimit(*p);\n",
    "   cout << \"MCMC interval: [\" << ll << \", \" << ul << \"]\" << endl;\n",
    "}\n",
    "\n",
    "if (poiList->getSize() == 2) {\n",
    "   RooRealVar *p0 = (RooRealVar *)poiList->at(0);\n",
    "   RooRealVar *p1 = (RooRealVar *)poiList->at(1);\n",
    "   TCanvas *scatter = new TCanvas();\n",
    "   Double_t ll = mcInt->LowerLimit(*p0);\n",
    "   Double_t ul = mcInt->UpperLimit(*p0);\n",
    "   cout << \"MCMC interval on p0: [\" << ll << \", \" << ul << \"]\" << endl;\n",
    "   ll = mcInt->LowerLimit(*p0);\n",
    "   ul = mcInt->UpperLimit(*p0);\n",
    "   cout << \"MCMC interval on p1: [\" << ll << \", \" << ul << \"]\" << endl;\n",
    "\n",
    "   // MCMC interval on p0: [-0.2, 0.6]\n",
    "   // MCMC interval on p1: [-0.2, 0.6]\n",
    "\n",
    "   mcPlot.DrawChainScatter(*p0, *p1);\n",
    "   scatter->Update();\n",
    "}\n",
    "\n",
    "t.Print();"
   ]
  },
  {
   "cell_type": "markdown",
   "metadata": {},
   "source": [
    "Draw all canvases "
   ]
  },
  {
   "cell_type": "code",
   "execution_count": 15,
   "metadata": {
    "collapsed": false
   },
   "outputs": [
    {
     "data": {
      "image/png": "[encoded data removed]",
      "text/plain": [
       "<IPython.core.display.Image object>"
      ]
     },
     "metadata": {},
     "output_type": "display_data"
    },
    {
     "data": {
      "image/png": "[encoded data removed]",
      "text/plain": [
       "<IPython.core.display.Image object>"
      ]
     },
     "metadata": {},
     "output_type": "display_data"
    }
   ],
   "source": [
    "gROOT->GetListOfCanvases()->Draw()"
   ]
  }
 ],
 "metadata": {
  "kernelspec": {
   "display_name": "ROOT C++",
   "language": "c++",
   "name": "root"
  },
  "language_info": {
   "codemirror_mode": "text/x-c++src",
   "file_extension": ".C",
   "mimetype": " text/x-c++src",
   "name": "c++"
  }
 },
 "nbformat": 4,
 "nbformat_minor": 2
}
