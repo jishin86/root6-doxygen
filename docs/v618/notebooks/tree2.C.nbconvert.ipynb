{
 "cells": [
  {
   "cell_type": "markdown",
   "metadata": {},
   "source": [
    "# Tree 2\n",
    "This example illustrates how to make a Tree from variables or arrays\n",
    "in a C struct - without a dictionary, by creating the branches for\n",
    "builtin types (int, float, double) and arrays explicitly.\n",
    "See tree2a.C for the same example using a class with dictionary\n",
    "instead of a C-struct.\n",
    "\n",
    "In this example, we are mapping a C struct to one of the Geant3\n",
    "common blocks /gctrak/. In the real life, this common will be filled\n",
    "by Geant3 at each step and only the Tree Fill function should be called.\n",
    "The example emulates the Geant3 step routines.\n",
    "\n",
    "to run the example, do:\n",
    "```\n",
    ".x tree2.C   to execute with the Cling interpreter\n",
    ".x tree2.C++ to execute with native compiler\n",
    "```\n",
    "\n",
    "\n",
    "\n",
    "**Author:** Rene Brun  \n",
    "<i><small>This notebook tutorial was automatically generated with <a href= \"https://github.com/root-project/root/blob/master/documentation/doxygen/converttonotebook.py\">ROOTBOOK-izer</a> from the macro found in the ROOT repository  on Thursday, August 29, 2019 at 03:57 AM.</small></i>"
   ]
  },
  {
   "cell_type": "code",
   "execution_count": 1,
   "metadata": {
    "collapsed": false
   },
   "outputs": [],
   "source": [
    "%%cpp -d\n",
    "#include \"TFile.h\"\n",
    "#include \"TTree.h\"\n",
    "#include \"TH2.h\"\n",
    "#include \"TRandom.h\"\n",
    "#include \"TCanvas.h\"\n",
    "#include \"TMath.h\"\n",
    "\n",
    "const Int_t MAXMEC = 30;\n",
    "\n",
    "typedef struct {\n",
    "  Float_t  vect[7];\n",
    "  Float_t  getot;\n",
    "  Float_t  gekin;\n",
    "  Float_t  vout[7];\n",
    "  Int_t    nmec;\n",
    "  Int_t    lmec[MAXMEC];\n",
    "  Int_t    namec[MAXMEC];\n",
    "  Int_t    nstep;\n",
    "  Int_t    pid;\n",
    "  Float_t  destep;\n",
    "  Float_t  destel;\n",
    "  Float_t  safety;\n",
    "  Float_t  sleng;\n",
    "  Float_t  step;\n",
    "  Float_t  snext;\n",
    "  Float_t  sfield;\n",
    "  Float_t  tofg;\n",
    "  Float_t  gekrat;\n",
    "  Float_t  upwght;\n",
    "} Gctrak_t;"
   ]
  },
  {
   "cell_type": "markdown",
   "metadata": {},
   "source": [
    " A helper function is created: "
   ]
  },
  {
   "cell_type": "code",
   "execution_count": 2,
   "metadata": {
    "collapsed": false
   },
   "outputs": [],
   "source": [
    "%%cpp -d\n",
    "void helixStep(Float_t step, Float_t *vect, Float_t *vout)\n",
    "{\n",
    "  // extrapolate track in constant field\n",
    "   Float_t field = 20;      //magnetic field in kilogauss\n",
    "   enum Evect {kX,kY,kZ,kPX,kPY,kPZ,kPP};\n",
    "   vout[kPP] = vect[kPP];\n",
    "   Float_t h4    = field*2.99792e-4;\n",
    "   Float_t rho   = -h4/vect[kPP];\n",
    "   Float_t tet   = rho*step;\n",
    "   Float_t tsint = tet*tet/6;\n",
    "   Float_t sintt = 1 - tsint;\n",
    "   Float_t sint  = tet*sintt;\n",
    "   Float_t cos1t = tet/2;\n",
    "   Float_t f1 = step*sintt;\n",
    "   Float_t f2 = step*cos1t;\n",
    "   Float_t f3 = step*tsint*vect[kPZ];\n",
    "   Float_t f4 = -tet*cos1t;\n",
    "   Float_t f5 = sint;\n",
    "   Float_t f6 = tet*cos1t*vect[kPZ];\n",
    "   vout[kX]   = vect[kX]  + (f1*vect[kPX] - f2*vect[kPY]);\n",
    "   vout[kY]   = vect[kY]  + (f1*vect[kPY] + f2*vect[kPX]);\n",
    "   vout[kZ]   = vect[kZ]  + (f1*vect[kPZ] + f3);\n",
    "   vout[kPX]  = vect[kPX] + (f4*vect[kPX] - f5*vect[kPY]);\n",
    "   vout[kPY]  = vect[kPY] + (f4*vect[kPY] + f5*vect[kPX]);\n",
    "   vout[kPZ]  = vect[kPZ] + (f4*vect[kPZ] + f6);\n",
    "}"
   ]
  },
  {
   "cell_type": "markdown",
   "metadata": {},
   "source": [
    " A helper function is created: "
   ]
  },
  {
   "cell_type": "code",
   "execution_count": 3,
   "metadata": {
    "collapsed": false
   },
   "outputs": [],
   "source": [
    "%%cpp -d\n",
    "void tree2w()\n",
    "{\n",
    "   //create a Tree file tree2.root\n",
    "\n",
    "   //create the file, the Tree and a few branches with\n",
    "   //a subset of gctrak\n",
    "   TFile f(\"tree2.root\",\"recreate\");\n",
    "   TTree t2(\"t2\",\"a Tree with data from a fake Geant3\");\n",
    "   Gctrak_t gstep;\n",
    "   t2.Branch(\"vect\",gstep.vect,\"vect[7]/F\");\n",
    "   t2.Branch(\"getot\",&gstep.getot);\n",
    "   t2.Branch(\"gekin\",&gstep.gekin);\n",
    "   t2.Branch(\"nmec\",&gstep.nmec);\n",
    "   t2.Branch(\"lmec\",gstep.lmec,\"lmec[nmec]/I\");\n",
    "   t2.Branch(\"destep\",&gstep.destep);\n",
    "   t2.Branch(\"pid\",&gstep.pid);\n",
    "\n",
    "   //Initialize particle parameters at first point\n",
    "   Float_t px,py,pz,p,charge=0;\n",
    "   Float_t vout[7];\n",
    "   Float_t mass  = 0.137;\n",
    "   Bool_t newParticle = kTRUE;\n",
    "   gstep.step    = 0.1;\n",
    "   gstep.destep  = 0;\n",
    "   gstep.nmec    = 0;\n",
    "   gstep.pid     = 0;\n",
    "\n",
    "   //transport particles\n",
    "   for (Int_t i=0;i<10000;i++) {\n",
    "      //generate a new particle if necessary\n",
    "      if (newParticle) {\n",
    "         px = gRandom->Gaus(0,.02);\n",
    "         py = gRandom->Gaus(0,.02);\n",
    "         pz = gRandom->Gaus(0,.02);\n",
    "         p  = TMath::Sqrt(px*px+py*py+pz*pz);\n",
    "         charge = 1; if (gRandom->Rndm() < 0.5) charge = -1;\n",
    "         gstep.pid    += 1;\n",
    "         gstep.vect[0] = 0;\n",
    "         gstep.vect[1] = 0;\n",
    "         gstep.vect[2] = 0;\n",
    "         gstep.vect[3] = px/p;\n",
    "         gstep.vect[4] = py/p;\n",
    "         gstep.vect[5] = pz/p;\n",
    "         gstep.vect[6] = p*charge;\n",
    "         gstep.getot   = TMath::Sqrt(p*p + mass*mass);\n",
    "         gstep.gekin   = gstep.getot - mass;\n",
    "         newParticle = kFALSE;\n",
    "      }\n",
    "\n",
    "      // fill the Tree with current step parameters\n",
    "      t2.Fill();\n",
    "\n",
    "      //transport particle in magnetic field\n",
    "      helixStep(gstep.step, gstep.vect, vout); //make one step\n",
    "\n",
    "      //apply energy loss\n",
    "      gstep.destep = gstep.step*gRandom->Gaus(0.0002,0.00001);\n",
    "      gstep.gekin -= gstep.destep;\n",
    "      gstep.getot   = gstep.gekin + mass;\n",
    "      gstep.vect[6] = charge*TMath::Sqrt(gstep.getot*gstep.getot - mass*mass);\n",
    "      gstep.vect[0] = vout[0];\n",
    "      gstep.vect[1] = vout[1];\n",
    "      gstep.vect[2] = vout[2];\n",
    "      gstep.vect[3] = vout[3];\n",
    "      gstep.vect[4] = vout[4];\n",
    "      gstep.vect[5] = vout[5];\n",
    "      gstep.nmec    = (Int_t)(5*gRandom->Rndm());\n",
    "      for (Int_t l=0;l<gstep.nmec;l++) gstep.lmec[l] = l;\n",
    "      if (gstep.gekin < 0.001)            newParticle = kTRUE;\n",
    "      if (TMath::Abs(gstep.vect[2]) > 30) newParticle = kTRUE;\n",
    "   }\n",
    "\n",
    "   //save the Tree header. The file will be automatically closed\n",
    "   //when going out of the function scope\n",
    "   t2.Write();\n",
    "}"
   ]
  },
  {
   "cell_type": "markdown",
   "metadata": {},
   "source": [
    " A helper function is created: "
   ]
  },
  {
   "cell_type": "code",
   "execution_count": 4,
   "metadata": {
    "collapsed": false
   },
   "outputs": [],
   "source": [
    "%%cpp -d\n",
    "void tree2r()\n",
    "{\n",
    "   //read the Tree generated by tree2w and fill one histogram\n",
    "   //we are only interested by the destep branch.\n",
    "\n",
    "   //note that we use \"new\" to create the TFile and TTree objects !\n",
    "   //because we want to keep these objects alive when we leave\n",
    "   //this function.\n",
    "   TFile *f = new TFile(\"tree2.root\");\n",
    "   TTree *t2 = (TTree*)f->Get(\"t2\");\n",
    "   static Float_t destep;\n",
    "   TBranch *b_destep = t2->GetBranch(\"destep\");\n",
    "   b_destep->SetAddress(&destep);\n",
    "\n",
    "   //create one histogram\n",
    "   TH1F *hdestep   = new TH1F(\"hdestep\",\"destep in Mev\",100,1e-5,3e-5);\n",
    "\n",
    "   //read only the destep branch for all entries\n",
    "   Long64_t nentries = t2->GetEntries();\n",
    "   for (Long64_t i=0;i<nentries;i++) {\n",
    "      b_destep->GetEntry(i);\n",
    "      hdestep->Fill(destep);\n",
    "   }\n",
    "\n",
    "   //we do not close the file.\n",
    "   //We want to keep the generated histograms\n",
    "   //We fill a 3-d scatter plot with the particle step coordinates\n",
    "   TCanvas *c1 = new TCanvas(\"c1\",\"c1\",600,800);\n",
    "   c1->SetFillColor(42);\n",
    "   c1->Divide(1,2);\n",
    "   c1->cd(1);\n",
    "   hdestep->SetFillColor(45);\n",
    "   hdestep->Fit(\"gaus\");\n",
    "   c1->cd(2);\n",
    "   gPad->SetFillColor(37);\n",
    "   t2->SetMarkerColor(kRed);\n",
    "   t2->Draw(\"vect[0]:vect[1]:vect[2]\");\n",
    "}"
   ]
  },
  {
   "cell_type": "code",
   "execution_count": 5,
   "metadata": {
    "collapsed": false
   },
   "outputs": [
    {
     "name": "stdout",
     "output_type": "stream",
     "text": [
      " FCN=54.4259 FROM MIGRAD    STATUS=CONVERGED      64 CALLS          65 TOTAL\n",
      "                     EDM=9.54106e-10    STRATEGY= 1      ERROR MATRIX ACCURATE \n",
      "  EXT PARAMETER                                   STEP         FIRST   \n",
      "  NO.   NAME      VALUE            ERROR          SIZE      DERIVATIVE \n",
      "   1  Constant     8.01849e+02   9.64939e+00   2.92301e-02   1.09441e-06\n",
      "   2  Mean         1.99798e-05   9.94744e-09   3.61610e-11   2.95375e+03\n",
      "   3  Sigma        9.89865e-07   6.61241e-09   6.69187e-06  -1.13387e-02\n"
     ]
    }
   ],
   "source": [
    "tree2w();\n",
    "tree2r();"
   ]
  },
  {
   "cell_type": "markdown",
   "metadata": {},
   "source": [
    "Draw all canvases "
   ]
  },
  {
   "cell_type": "code",
   "execution_count": 6,
   "metadata": {
    "collapsed": false
   },
   "outputs": [
    {
     "data": {
      "image/png": "[encoded data removed]",
      "text/plain": [
       "<IPython.core.display.Image object>"
      ]
     },
     "metadata": {},
     "output_type": "display_data"
    }
   ],
   "source": [
    "gROOT->GetListOfCanvases()->Draw()"
   ]
  }
 ],
 "metadata": {
  "kernelspec": {
   "display_name": "ROOT C++",
   "language": "c++",
   "name": "root"
  },
  "language_info": {
   "codemirror_mode": "text/x-c++src",
   "file_extension": ".C",
   "mimetype": " text/x-c++src",
   "name": "c++"
  }
 },
 "nbformat": 4,
 "nbformat_minor": 2
}
