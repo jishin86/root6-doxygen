{
 "cells": [
  {
   "cell_type": "markdown",
   "metadata": {},
   "source": [
    "# Rf 5 0 9_Wsinteractive\n",
    "\n",
    "Organization and simultaneous fits: easy interactive access to workspace contents - CINT to CLING code migration\n",
    "\n",
    "\n",
    "\n",
    "\n",
    "**Author:** Clemens Lange, Wouter Verkerke (C++ version)  \n",
    "<i><small>This notebook tutorial was automatically generated with <a href= \"https://github.com/root-project/root/blob/master/documentation/doxygen/converttonotebook.py\">ROOTBOOK-izer</a> from the macro found in the ROOT repository  on Thursday, August 29, 2019 at 02:56 AM.</small></i>"
   ]
  },
  {
   "cell_type": "code",
   "execution_count": 1,
   "metadata": {
    "collapsed": false
   },
   "outputs": [
    {
     "name": "stdout",
     "output_type": "stream",
     "text": [
      "Welcome to JupyROOT 6.18/03\n"
     ]
    }
   ],
   "source": [
    "import ROOT\n",
    "\n",
    "\n",
    "def fillWorkspace(w):\n",
    "    # Create pdf and fill workspace\n",
    "    # --------------------------------------------------------\n",
    "\n",
    "    # Declare observable x\n",
    "    x = ROOT.RooRealVar(\"x\", \"x\", 0, 10)\n",
    "\n",
    "    # Create two Gaussian PDFs g1(x,mean1,sigma) anf g2(x,mean2,sigma) and\n",
    "    # their parameters\n",
    "    mean = ROOT.RooRealVar(\"mean\", \"mean of gaussians\", 5, 0, 10)\n",
    "    sigma1 = ROOT.RooRealVar(\"sigma1\", \"width of gaussians\", 0.5)\n",
    "    sigma2 = ROOT.RooRealVar(\"sigma2\", \"width of gaussians\", 1)\n",
    "\n",
    "    sig1 = ROOT.RooGaussian(\"sig1\", \"Signal component 1\", x, mean, sigma1)\n",
    "    sig2 = ROOT.RooGaussian(\"sig2\", \"Signal component 2\", x, mean, sigma2)\n",
    "\n",
    "    # Build Chebychev polynomial p.d.f.\n",
    "    a0 = ROOT.RooRealVar(\"a0\", \"a0\", 0.5, 0., 1.)\n",
    "    a1 = ROOT.RooRealVar(\"a1\", \"a1\", -0.2, 0., 1.)\n",
    "    bkg = ROOT.RooChebychev(\"bkg\", \"Background\", x, ROOT.RooArgList(a0, a1))\n",
    "\n",
    "    # Sum the signal components into a composite signal p.d.f.\n",
    "    sig1frac = ROOT.RooRealVar(\n",
    "        \"sig1frac\", \"fraction of component 1 in signal\", 0.8, 0., 1.)\n",
    "    sig = ROOT.RooAddPdf(\n",
    "        \"sig\", \"Signal\", ROOT.RooArgList(\n",
    "            sig1, sig2), ROOT.RooArgList(sig1frac))\n",
    "\n",
    "    # Sum the composite signal and background\n",
    "    bkgfrac = ROOT.RooRealVar(\"bkgfrac\", \"fraction of background\", 0.5, 0., 1.)\n",
    "    model = ROOT.RooAddPdf(\n",
    "        \"model\",\n",
    "        \"g1+g2+a\",\n",
    "        ROOT.RooArgList(\n",
    "            bkg,\n",
    "            sig),\n",
    "        ROOT.RooArgList(bkgfrac))\n",
    "\n",
    "    getattr(w, 'import')(model)"
   ]
  },
  {
   "cell_type": "markdown",
   "metadata": {},
   "source": [
    "Create and fill workspace\n",
    "------------------------------------------------"
   ]
  },
  {
   "cell_type": "markdown",
   "metadata": {},
   "source": [
    "Create a workspace named 'w'\n",
    "With CINT w could exports its contents to\n",
    "a same-name C++ namespace in CINT 'namespace w'.\n",
    "but self does not work anymore in CLING.\n",
    "so self tutorial is an example on how to\n",
    "change the code"
   ]
  },
  {
   "cell_type": "code",
   "execution_count": 2,
   "metadata": {
    "collapsed": false
   },
   "outputs": [
    {
     "name": "stdout",
     "output_type": "stream",
     "text": [
      "\n",
      "\u001b[1mRooFit v3.60 -- Developed by Wouter Verkerke and David Kirkby\u001b[0m \n",
      "                Copyright (C) 2000-2013 NIKHEF, University of California & Stanford University\n",
      "                All rights reserved, please read http://roofit.sourceforge.net/license.txt\n",
      "\n",
      "[#1] INFO:ObjectHandling -- RooWorkspace::exportToCint(w) INFO: references to all objects in this workspace will be created in CINT in 'namespace w'\n"
     ]
    }
   ],
   "source": [
    "w = ROOT.RooWorkspace(\"w\", ROOT.kTRUE)"
   ]
  },
  {
   "cell_type": "markdown",
   "metadata": {},
   "source": [
    "Fill workspace with p.d.f. and data in a separate function"
   ]
  },
  {
   "cell_type": "code",
   "execution_count": 3,
   "metadata": {
    "collapsed": false
   },
   "outputs": [
    {
     "name": "stdout",
     "output_type": "stream",
     "text": [
      "[#1] INFO:ObjectHandling -- RooWorkspace::import(w) importing RooAddPdf::model\n",
      "[#1] INFO:ObjectHandling -- RooWorkspace::import(w) importing RooChebychev::bkg\n",
      "[#1] INFO:ObjectHandling -- RooWorkspace::import(w) importing RooRealVar::x\n",
      "[#1] INFO:ObjectHandling -- RooWorkspace::import(w) importing RooRealVar::a0\n",
      "[#1] INFO:ObjectHandling -- RooWorkspace::import(w) importing RooRealVar::a1\n",
      "[#1] INFO:ObjectHandling -- RooWorkspace::import(w) importing RooRealVar::bkgfrac\n",
      "[#1] INFO:ObjectHandling -- RooWorkspace::import(w) importing RooAddPdf::sig\n",
      "[#1] INFO:ObjectHandling -- RooWorkspace::import(w) importing RooGaussian::sig1\n",
      "[#1] INFO:ObjectHandling -- RooWorkspace::import(w) importing RooRealVar::mean\n",
      "[#1] INFO:ObjectHandling -- RooWorkspace::import(w) importing RooRealVar::sigma1\n",
      "[#1] INFO:ObjectHandling -- RooWorkspace::import(w) importing RooRealVar::sig1frac\n",
      "[#1] INFO:ObjectHandling -- RooWorkspace::import(w) importing RooGaussian::sig2\n",
      "[#1] INFO:ObjectHandling -- RooWorkspace::import(w) importing RooRealVar::sigma2\n"
     ]
    }
   ],
   "source": [
    "fillWorkspace(w)"
   ]
  },
  {
   "cell_type": "markdown",
   "metadata": {},
   "source": [
    "Print workspace contents"
   ]
  },
  {
   "cell_type": "code",
   "execution_count": 4,
   "metadata": {
    "collapsed": false
   },
   "outputs": [
    {
     "name": "stdout",
     "output_type": "stream",
     "text": [
      "\n",
      "RooWorkspace(w) w contents\n",
      "\n",
      "variables\n",
      "---------\n",
      "(a0,a1,bkgfrac,mean,sig1frac,sigma1,sigma2,x)\n",
      "\n",
      "p.d.f.s\n",
      "-------\n",
      "RooChebychev::bkg[ x=x coefList=(a0,a1) ] = 1\n",
      "RooAddPdf::model[ bkgfrac * bkg + [%] * sig ] = 1\n",
      "RooAddPdf::sig[ sig1frac * sig1 + [%] * sig2 ] = 1\n",
      "RooGaussian::sig1[ x=x mean=mean sigma=sigma1 ] = 1\n",
      "RooGaussian::sig2[ x=x mean=mean sigma=sigma2 ] = 1\n",
      "\n"
     ]
    }
   ],
   "source": [
    "w.Print()"
   ]
  },
  {
   "cell_type": "markdown",
   "metadata": {},
   "source": [
    "self does not work anymore with CLING\n",
    "use normal workspace functionality"
   ]
  },
  {
   "cell_type": "markdown",
   "metadata": {},
   "source": [
    "Use workspace contents\n",
    "----------------------------------------------"
   ]
  },
  {
   "cell_type": "markdown",
   "metadata": {},
   "source": [
    "Old syntax to use the name space prefix operator to access the workspace contents\n",
    "\n",
    " = w.model.generate(w.x,1000)\n",
    " = w.model.fitTo(*d)"
   ]
  },
  {
   "cell_type": "markdown",
   "metadata": {},
   "source": [
    "use normal workspace methods"
   ]
  },
  {
   "cell_type": "code",
   "execution_count": 5,
   "metadata": {
    "collapsed": false
   },
   "outputs": [
    {
     "name": "stdout",
     "output_type": "stream",
     "text": [
      "[#1] INFO:Minization -- createNLL: caching constraint set under name CONSTR_OF_PDF_model_FOR_OBS_x with 0 entries\n",
      "[#1] INFO:Minization -- RooMinimizer::optimizeConst: activating const optimization\n",
      "[#1] INFO:Minization --  The following expressions will be evaluated in cache-and-track mode: (bkg,sig1,sig2)\n",
      " **********\n",
      " **    1 **SET PRINT           1\n",
      " **********\n",
      " **********\n",
      " **    2 **SET NOGRAD\n",
      " **********\n",
      " PARAMETER DEFINITIONS:\n",
      "    NO.   NAME         VALUE      STEP SIZE      LIMITS\n",
      "     1 a0           5.00000e-01  1.00000e-01    0.00000e+00  1.00000e+00\n",
      "     2 a1           0.00000e+00  1.00000e-01    0.00000e+00  1.00000e+00\n",
      " MINUIT WARNING IN PARAM DEF\n",
      " ============== STARTING VALUE IS AT LIMIT.\n",
      " MINUIT WARNING IN PARAMETR\n",
      " ============== VARIABLE2 IS AT ITS LOWER ALLOWED LIMIT.\n",
      " MINUIT WARNING IN PARAMETR\n",
      " ============== VARIABLE2 BROUGHT BACK INSIDE LIMITS.\n",
      "     3 bkgfrac      5.00000e-01  1.00000e-01    0.00000e+00  1.00000e+00\n",
      "     4 mean         5.00000e+00  1.00000e+00    0.00000e+00  1.00000e+01\n",
      "     5 sig1frac     8.00000e-01  1.00000e-01    0.00000e+00  1.00000e+00\n",
      " **********\n",
      " **    3 **SET ERR         0.5\n",
      " **********\n",
      " **********\n",
      " **    4 **SET PRINT           1\n",
      " **********\n",
      " **********\n",
      " **    5 **SET STR           1\n",
      " **********\n",
      " NOW USING STRATEGY  1: TRY TO BALANCE SPEED AGAINST RELIABILITY\n",
      " **********\n",
      " **    6 **MIGRAD        2500           1\n",
      " **********\n",
      " FIRST CALL TO USER FUNCTION AT NEW START POINT, WITH IFLAG=4.\n",
      " MINUIT WARNING IN MIGrad    \n",
      " ============== VARIABLE2 IS AT ITS LOWER ALLOWED LIMIT.\n",
      " START MIGRAD MINIMIZATION.  STRATEGY  1.  CONVERGENCE WHEN EDM .LT. 1.00e-03\n",
      " FCN=1926.2 FROM MIGRAD    STATUS=INITIATE       37 CALLS          38 TOTAL\n",
      "                     EDM= unknown      STRATEGY= 1      NO ERROR MATRIX       \n",
      "  EXT PARAMETER               CURRENT GUESS       STEP         FIRST   \n",
      "  NO.   NAME      VALUE            ERROR          SIZE      DERIVATIVE \n",
      "   1  a0           5.00000e-01   1.00000e-01   0.00000e+00   2.31850e+00\n",
      "   2  a1           7.50936e-02   1.00000e-01   5.53213e-01  -4.13475e-03\n",
      "   3  bkgfrac      5.00000e-01   1.00000e-01   0.00000e+00   2.67741e+01\n",
      "   4  mean         5.00000e+00   1.00000e+00   0.00000e+00  -1.91257e+01\n",
      "   5  sig1frac     8.00000e-01   1.00000e-01   0.00000e+00   3.58316e-01\n",
      "                               ERR DEF= 0.5\n",
      " MIGRAD MINIMIZATION HAS CONVERGED.\n",
      " MIGRAD WILL VERIFY CONVERGENCE AND ERROR MATRIX.\n",
      " COVARIANCE MATRIX CALCULATED SUCCESSFULLY\n",
      " FCN=1924.14 FROM MIGRAD    STATUS=CONVERGED     144 CALLS         145 TOTAL\n",
      "                     EDM=4.87682e-06    STRATEGY= 1      ERROR MATRIX ACCURATE \n",
      "  EXT PARAMETER                                   STEP         FIRST   \n",
      "  NO.   NAME      VALUE            ERROR          SIZE      DERIVATIVE \n",
      "   1  a0           5.05217e-01   8.02459e-02   4.72375e-03  -6.18134e-03\n",
      "   2  a1           2.66450e-01   1.34580e-01   5.73280e-03   1.14496e-03\n",
      "   3  bkgfrac      4.27468e-01   3.57738e-02   1.24965e-03  -3.49141e-02\n",
      "   4  mean         5.00772e+00   3.27931e-02   1.96316e-04  -2.49989e-02\n",
      "   5  sig1frac     6.40178e-01   9.71885e-02   4.22823e-03   5.49851e-03\n",
      "                               ERR DEF= 0.5\n",
      " EXTERNAL ERROR MATRIX.    NDIM=  25    NPAR=  5    ERR DEF=0.5\n",
      "  6.495e-03  2.384e-03 -5.200e-04 -3.310e-04 -1.273e-03 \n",
      "  2.384e-03  1.870e-02 -3.798e-03 -2.595e-05 -8.739e-03 \n",
      " -5.200e-04 -3.798e-03  1.282e-03 -4.006e-05  2.493e-03 \n",
      " -3.310e-04 -2.595e-05 -4.006e-05  1.075e-03 -1.593e-04 \n",
      " -1.273e-03 -8.739e-03  2.493e-03 -1.593e-04  9.578e-03 \n",
      " PARAMETER  CORRELATION COEFFICIENTS  \n",
      "       NO.  GLOBAL      1      2      3      4      5\n",
      "        1  0.25219   1.000  0.216 -0.180 -0.125 -0.161\n",
      "        2  0.79261   0.216  1.000 -0.776 -0.006 -0.653\n",
      "        3  0.82176  -0.180 -0.776  1.000 -0.034  0.711\n",
      "        4  0.15132  -0.125 -0.006 -0.034  1.000 -0.050\n",
      "        5  0.73023  -0.161 -0.653  0.711 -0.050  1.000\n",
      " **********\n",
      " **    7 **SET ERR         0.5\n",
      " **********\n",
      " **********\n",
      " **    8 **SET PRINT           1\n",
      " **********\n",
      " **********\n",
      " **    9 **HESSE        2500\n",
      " **********\n",
      " COVARIANCE MATRIX CALCULATED SUCCESSFULLY\n",
      " FCN=1924.14 FROM HESSE     STATUS=OK             31 CALLS         176 TOTAL\n",
      "                     EDM=4.84164e-06    STRATEGY= 1      ERROR MATRIX ACCURATE \n",
      "  EXT PARAMETER                                INTERNAL      INTERNAL  \n",
      "  NO.   NAME      VALUE            ERROR       STEP SIZE       VALUE   \n",
      "   1  a0           5.05217e-01   8.02153e-02   9.44750e-04   1.04344e-02\n",
      "   2  a1           2.66450e-01   1.33745e-01   2.29312e-04  -4.86007e-01\n",
      "   3  bkgfrac      4.27468e-01   3.55504e-02   2.49929e-04  -1.45579e-01\n",
      "   4  mean         5.00772e+00   3.27917e-02   3.92633e-05   1.54346e-03\n",
      "   5  sig1frac     6.40178e-01   9.67194e-02   8.45646e-04   2.84164e-01\n",
      "                               ERR DEF= 0.5\n",
      " EXTERNAL ERROR MATRIX.    NDIM=  25    NPAR=  5    ERR DEF=0.5\n",
      "  6.490e-03  2.349e-03 -5.109e-04 -3.311e-04 -1.251e-03 \n",
      "  2.349e-03  1.846e-02 -3.735e-03 -2.611e-05 -8.585e-03 \n",
      " -5.109e-04 -3.735e-03  1.266e-03 -3.996e-05  2.454e-03 \n",
      " -3.311e-04 -2.611e-05 -3.996e-05  1.075e-03 -1.575e-04 \n",
      " -1.251e-03 -8.585e-03  2.454e-03 -1.575e-04  9.484e-03 \n",
      " PARAMETER  CORRELATION COEFFICIENTS  \n",
      "       NO.  GLOBAL      1      2      3      4      5\n",
      "        1  0.25076   1.000  0.215 -0.178 -0.125 -0.159\n",
      "        2  0.78957   0.215  1.000 -0.773 -0.006 -0.649\n",
      "        3  0.81926  -0.178 -0.773  1.000 -0.034  0.708\n",
      "        4  0.15103  -0.125 -0.006 -0.034  1.000 -0.049\n",
      "        5  0.72707  -0.159 -0.649  0.708 -0.049  1.000\n",
      "[#1] INFO:Minization -- RooMinimizer::optimizeConst: deactivating const optimization\n"
     ]
    }
   ],
   "source": [
    "model = w.pdf(\"model\")\n",
    "x = w.var(\"x\")\n",
    "\n",
    "d = model.generate(ROOT.RooArgSet(x), 1000)\n",
    "r = model.fitTo(d)"
   ]
  },
  {
   "cell_type": "markdown",
   "metadata": {},
   "source": [
    "old syntax to access the variable x\n",
    "frame = w.x.frame()"
   ]
  },
  {
   "cell_type": "code",
   "execution_count": 6,
   "metadata": {
    "collapsed": false
   },
   "outputs": [
    {
     "data": {
      "text/plain": [
       "<ROOT.RooPlot object (\"frame_x_55c21bed6140\") at 0x55c21bed6140>"
      ]
     },
     "execution_count": 6,
     "metadata": {},
     "output_type": "execute_result"
    }
   ],
   "source": [
    "frame = x.frame()\n",
    "d.plotOn(frame)"
   ]
  },
  {
   "cell_type": "markdown",
   "metadata": {},
   "source": [
    "OLD syntax to ommit x.\n",
    "NB: The 'w.' prefix can be omitted if namespace w is imported in local namespace\n",
    "in the usual C++ way\n",
    "\n",
    "using namespace w\n",
    "model.plotOn(frame)\n",
    "model.plotOn(frame, ROOT.RooFit.Components(bkg), ROOT.RooFit.LineStyle(ROOT.kDashed))"
   ]
  },
  {
   "cell_type": "markdown",
   "metadata": {},
   "source": [
    "correct syntax"
   ]
  },
  {
   "cell_type": "code",
   "execution_count": 7,
   "metadata": {
    "collapsed": false
   },
   "outputs": [
    {
     "data": {
      "text/plain": [
       "<ROOT.RooPlot object (\"frame_x_55c21bed6140\") at 0x55c21bed6140>"
      ]
     },
     "execution_count": 7,
     "metadata": {},
     "output_type": "execute_result"
    },
    {
     "name": "stdout",
     "output_type": "stream",
     "text": [
      "[#1] INFO:Plotting -- RooAbsPdf::plotOn(model) directly selected PDF components: (bkg)\n",
      "[#1] INFO:Plotting -- RooAbsPdf::plotOn(model) indirectly selected PDF components: ()\n"
     ]
    }
   ],
   "source": [
    "bkg = w.pdf(\"bkg\")\n",
    "model.plotOn(frame)\n",
    "ras_bkg = ROOT.RooArgSet(bkg)\n",
    "model.plotOn(frame, ROOT.RooFit.Components(ras_bkg),\n",
    "             ROOT.RooFit.LineStyle(ROOT.kDashed))"
   ]
  },
  {
   "cell_type": "markdown",
   "metadata": {},
   "source": [
    "Draw the frame on the canvas"
   ]
  },
  {
   "cell_type": "code",
   "execution_count": 8,
   "metadata": {
    "collapsed": false
   },
   "outputs": [
    {
     "name": "stderr",
     "output_type": "stream",
     "text": [
      "Info in <TCanvas::Print>: png file rf509_wsinteractive.png has been created\n"
     ]
    }
   ],
   "source": [
    "c = ROOT.TCanvas(\"rf509_wsinteractive\", \"rf509_wsinteractive\", 600, 600)\n",
    "ROOT.gPad.SetLeftMargin(0.15)\n",
    "frame.GetYaxis().SetTitleOffset(1.4)\n",
    "frame.Draw()\n",
    "\n",
    "c.SaveAs(\"rf509_wsinteractive.png\")"
   ]
  },
  {
   "cell_type": "markdown",
   "metadata": {},
   "source": [
    "Draw all canvases "
   ]
  },
  {
   "cell_type": "code",
   "execution_count": 9,
   "metadata": {
    "collapsed": false
   },
   "outputs": [
    {
     "data": {
      "image/png": "[encoded data removed]",
      "text/plain": [
       "<IPython.core.display.Image object>"
      ]
     },
     "metadata": {},
     "output_type": "display_data"
    }
   ],
   "source": [
    "from ROOT import gROOT \n",
    "gROOT.GetListOfCanvases().Draw()"
   ]
  }
 ],
 "metadata": {
  "kernelspec": {
   "display_name": "Python 2",
   "language": "python",
   "name": "python2"
  },
  "language_info": {
   "codemirror_mode": {
    "name": "ipython",
    "version": 2
   },
   "file_extension": ".py",
   "mimetype": "text/x-python",
   "name": "python",
   "nbconvert_exporter": "python",
   "pygments_lexer": "ipython2",
   "version": "2.7.10"
  }
 },
 "nbformat": 4,
 "nbformat_minor": 2
}
