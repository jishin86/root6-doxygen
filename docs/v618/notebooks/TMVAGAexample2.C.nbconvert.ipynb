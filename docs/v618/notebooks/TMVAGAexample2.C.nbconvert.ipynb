{
 "cells": [
  {
   "cell_type": "markdown",
   "metadata": {},
   "source": [
    "#  T M V A G Aexample 2\n",
    "This exectutable gives an example of a very simple use of the genetic algorithm\n",
    "of TMVA.\n",
    "- Project   : TMVA - a Root-integrated toolkit for multivariate data analysis\n",
    "- Package   : TMVA\n",
    "- Exectuable: TMVAGAexample\n",
    "\n",
    "\n",
    "\n",
    "**Author:** Andreas Hoecker  \n",
    "<i><small>This notebook tutorial was automatically generated with <a href= \"https://github.com/root-project/root/blob/master/documentation/doxygen/converttonotebook.py\">ROOTBOOK-izer</a> from the macro found in the ROOT repository  on Thursday, August 29, 2019 at 03:48 AM.</small></i>"
   ]
  },
  {
   "cell_type": "code",
   "execution_count": 1,
   "metadata": {
    "collapsed": false
   },
   "outputs": [],
   "source": [
    "%%cpp -d\n",
    "#include <iostream> // Stream declarations\n",
    "#include <vector>\n",
    "\n",
    "#include \"TMVA/GeneticAlgorithm.h\"\n",
    "#include \"TMVA/GeneticFitter.h\"\n",
    "#include \"TMVA/IFitterTarget.h\"\n",
    "\n",
    "using namespace std;\n",
    "\n",
    "namespace TMVA {\n",
    "\n",
    "\n",
    "class MyFitness : public IFitterTarget {\n",
    "    public:\n",
    "       MyFitness() : IFitterTarget() {\n",
    "       }\n",
    "\n",
    "       // the fitness-function goes here\n",
    "       // the factors are optimized such that the return-value of this function is minimized\n",
    "       // take care!! the fitness-function must never fail, .. means: you have to prevent\n",
    "       // the function from reaching undefined values (such as x=0 for 1/x or so)\n",
    "       //\n",
    "       // HINT: to use INTEGER variables, it is sufficient to cast the \"factor\" in the fitness-function\n",
    "       // to (int). In this case the variable-range has to be chosen +1 ( to get 0..5, take Interval(0,6) )\n",
    "       // since the introduction of \"Interval\" ranges can be defined with a third parameter\n",
    "       // which gives the number of bins within the interval. With that technique discrete values\n",
    "       // can be achieved easier. The random selection out of this discrete numbers is completly uniform.\n",
    "       //\n",
    "       Double_t EstimatorFunction( std::vector<Double_t> & factors ){\n",
    "           //return (10.- (int)factors.at(0) *factors.at(1) + (int)factors.at(2));\n",
    "           return (10.- factors.at(0) *factors.at(1) + factors.at(2));\n",
    "\n",
    "           //return 100.- (10 + factors.at(1)) *factors.at(2)* TMath::Abs( TMath::Sin(factors.at(0)) );\n",
    "       }\n",
    "};\n",
    "\n",
    "\n",
    "\n",
    "\n",
    "\n",
    "\n",
    "\n",
    "\n",
    "\n",
    "\n",
    "\n",
    "\n",
    "} // namespace TMVA"
   ]
  },
  {
   "cell_type": "markdown",
   "metadata": {},
   "source": [
    " A helper function is created: "
   ]
  },
  {
   "cell_type": "code",
   "execution_count": 2,
   "metadata": {
    "collapsed": false
   },
   "outputs": [
    {
     "name": "stderr",
     "output_type": "stream",
     "text": [
      "input_line_27:5:16: error: use of undeclared identifier 'Interval'\n",
      "        vector<Interval*> ranges;\n",
      "               ^\n",
      "input_line_27:5:25: error: expected expression\n",
      "        vector<Interval*> ranges;\n",
      "                        ^\n",
      "input_line_27:6:9: error: use of undeclared identifier 'ranges'\n",
      "        ranges.push_back( new Interval(0,15,30) );\n",
      "        ^\n",
      "input_line_27:6:31: error: unknown type name 'Interval'\n",
      "        ranges.push_back( new Interval(0,15,30) );\n",
      "                              ^\n",
      "input_line_27:7:9: error: use of undeclared identifier 'ranges'\n",
      "        ranges.push_back( new Interval(0,13) );\n",
      "        ^\n",
      "input_line_27:7:31: error: unknown type name 'Interval'\n",
      "        ranges.push_back( new Interval(0,13) );\n",
      "                              ^\n",
      "input_line_27:8:9: error: use of undeclared identifier 'ranges'\n",
      "        ranges.push_back( new Interval(0,5,3) );\n",
      "        ^\n",
      "input_line_27:8:31: error: unknown type name 'Interval'\n",
      "        ranges.push_back( new Interval(0,5,3) );\n",
      "                              ^\n",
      "input_line_27:10:26: error: use of undeclared identifier 'Interval'\n",
      "        for( std::vector<Interval*>::iterator it = ranges.begin(); it != ranges.end(); it++ ){\n",
      "                         ^\n",
      "input_line_27:10:35: error: expected expression\n",
      "        for( std::vector<Interval*>::iterator it = ranges.begin(); it != ranges.end(); it++ ){\n",
      "                                  ^\n",
      "input_line_27:10:38: error: use of class template '::iterator' requires template arguments\n",
      "        for( std::vector<Interval*>::iterator it = ranges.begin(); it != ranges.end(); it++ ){\n",
      "                                     ^\n",
      "/usr/lib/gcc/x86_64-redhat-linux/8/../../../../include/c++/8/bits/stl_iterator_base_types.h:118:12: note: template is declared here\n",
      "    struct iterator\n",
      "           ^\n",
      "input_line_27:10:52: error: use of undeclared identifier 'ranges'\n",
      "        for( std::vector<Interval*>::iterator it = ranges.begin(); it != ranges.end(); it++ ){\n",
      "                                                   ^\n",
      "input_line_27:10:74: error: use of undeclared identifier 'ranges'\n",
      "        for( std::vector<Interval*>::iterator it = ranges.begin(); it != ranges.end(); it++ ){\n",
      "                                                                         ^\n",
      "input_line_27:14:9: error: unknown type name 'IFitterTarget'\n",
      "        IFitterTarget* myFitness = new MyFitness();\n",
      "        ^\n",
      "input_line_27:14:40: error: unknown type name 'MyFitness'\n",
      "        IFitterTarget* myFitness = new MyFitness();\n",
      "                                       ^\n",
      "input_line_27:25:9: error: unknown type name 'GeneticFitter'\n",
      "        GeneticFitter mg( *myFitness, name, ranges, opts);\n",
      "        ^\n",
      "input_line_27:25:45: error: use of undeclared identifier 'ranges'\n",
      "        GeneticFitter mg( *myFitness, name, ranges, opts);\n",
      "                                            ^\n"
     ]
    }
   ],
   "source": [
    "%%cpp -d\n",
    "void exampleGA(){\n",
    "        std::cout << \"\\nEXAMPLE\" << std::endl;\n",
    "        // define all the parameters by their minimum and maximum value\n",
    "        // in this example 3 parameters are defined.\n",
    "        vector<Interval*> ranges;\n",
    "        ranges.push_back( new Interval(0,15,30) );\n",
    "        ranges.push_back( new Interval(0,13) );\n",
    "        ranges.push_back( new Interval(0,5,3) );\n",
    "\n",
    "        for( std::vector<Interval*>::iterator it = ranges.begin(); it != ranges.end(); it++ ){\n",
    "           std::cout << \" range: \" << (*it)->GetMin() << \"   \" << (*it)->GetMax() << std::endl;\n",
    "        }\n",
    "\n",
    "        IFitterTarget* myFitness = new MyFitness();\n",
    "\n",
    "        // prepare the genetic algorithm with an initial population size of 20\n",
    "        // mind: big population sizes will help in searching the domain space of the solution\n",
    "        // but you have to weight this out to the number of generations\n",
    "        // the extreme case of 1 generation and populationsize n is equal to\n",
    "        // a Monte Carlo calculation with n tries\n",
    "\n",
    "        const TString name( \"exampleGA\" );\n",
    "        const TString opts( \"PopSize=100:Steps=30\" );\n",
    "\n",
    "        GeneticFitter mg( *myFitness, name, ranges, opts);\n",
    "       // mg.SetParameters( 4, 30, 200, 10,5, 0.95, 0.001 );\n",
    "\n",
    "        std::vector<Double_t> result;\n",
    "        Double_t estimator = mg.Run(result);\n",
    "\n",
    "         int n = 0;\n",
    "         for( std::vector<Double_t>::iterator it = result.begin(); it<result.end(); it++ ){\n",
    "             std::cout << \"FACTOR \" << n << \" : \" << (*it) << std::endl;\n",
    "             n++;\n",
    "         }\n",
    "\n",
    "}"
   ]
  },
  {
   "cell_type": "code",
   "execution_count": 3,
   "metadata": {
    "collapsed": false
   },
   "outputs": [
    {
     "name": "stderr",
     "output_type": "stream",
     "text": [
      "input_line_28:6:7: error: no member named 'exampleGA' in namespace 'TMVA'\n",
      "TMVA::exampleGA();\n",
      "~~~~~~^\n"
     ]
    }
   ],
   "source": [
    "cout << \"Start Test TMVAGAexample\" << endl\n",
    "     << \"========================\" << endl\n",
    "     << endl;\n",
    "\n",
    "TMVA::exampleGA();"
   ]
  }
 ],
 "metadata": {
  "kernelspec": {
   "display_name": "ROOT C++",
   "language": "c++",
   "name": "root"
  },
  "language_info": {
   "codemirror_mode": "text/x-c++src",
   "file_extension": ".C",
   "mimetype": " text/x-c++src",
   "name": "c++"
  }
 },
 "nbformat": 4,
 "nbformat_minor": 2
}
