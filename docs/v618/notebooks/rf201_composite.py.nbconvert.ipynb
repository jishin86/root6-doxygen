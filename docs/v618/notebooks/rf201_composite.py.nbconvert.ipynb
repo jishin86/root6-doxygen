{
 "cells": [
  {
   "cell_type": "markdown",
   "metadata": {},
   "source": [
    "# Rf 2 0 1_Composite\n",
    "Addition and convolution: composite p.d.f with signal and background component\n",
    "\n",
    "pdf = f_bkg * bkg(x,a0,a1) + (1-fbkg) * (f_sig1 * sig1(x,m,s1 + (1-f_sig1) * sig2(x,m,s2)))\n",
    "\n",
    "\n",
    "\n",
    "\n",
    "**Author:** Clemens Lange, Wouter Verkerke (C++ version)  \n",
    "<i><small>This notebook tutorial was automatically generated with <a href= \"https://github.com/root-project/root/blob/master/documentation/doxygen/converttonotebook.py\">ROOTBOOK-izer</a> from the macro found in the ROOT repository  on Thursday, August 29, 2019 at 02:42 AM.</small></i>"
   ]
  },
  {
   "cell_type": "code",
   "execution_count": 1,
   "metadata": {
    "collapsed": false
   },
   "outputs": [
    {
     "name": "stdout",
     "output_type": "stream",
     "text": [
      "Welcome to JupyROOT 6.18/03\n"
     ]
    }
   ],
   "source": [
    "import ROOT"
   ]
  },
  {
   "cell_type": "markdown",
   "metadata": {},
   "source": [
    "Setup component pdfs\n",
    "---------------------------------------"
   ]
  },
  {
   "cell_type": "markdown",
   "metadata": {},
   "source": [
    "Declare observable x"
   ]
  },
  {
   "cell_type": "code",
   "execution_count": 2,
   "metadata": {
    "collapsed": false
   },
   "outputs": [
    {
     "name": "stdout",
     "output_type": "stream",
     "text": [
      "\n",
      "\u001b[1mRooFit v3.60 -- Developed by Wouter Verkerke and David Kirkby\u001b[0m \n",
      "                Copyright (C) 2000-2013 NIKHEF, University of California & Stanford University\n",
      "                All rights reserved, please read http://roofit.sourceforge.net/license.txt\n",
      "\n"
     ]
    }
   ],
   "source": [
    "x = ROOT.RooRealVar(\"x\", \"x\", 0, 10)"
   ]
  },
  {
   "cell_type": "markdown",
   "metadata": {},
   "source": [
    "Create two Gaussian PDFs g1(x,mean1,sigma) anf g2(x,mean2,sigma) and\n",
    "their parameters"
   ]
  },
  {
   "cell_type": "code",
   "execution_count": 3,
   "metadata": {
    "collapsed": false
   },
   "outputs": [],
   "source": [
    "mean = ROOT.RooRealVar(\"mean\", \"mean of gaussians\", 5)\n",
    "sigma1 = ROOT.RooRealVar(\"sigma1\", \"width of gaussians\", 0.5)\n",
    "sigma2 = ROOT.RooRealVar(\"sigma2\", \"width of gaussians\", 1)\n",
    "\n",
    "sig1 = ROOT.RooGaussian(\"sig1\", \"Signal component 1\", x, mean, sigma1)\n",
    "sig2 = ROOT.RooGaussian(\"sig2\", \"Signal component 2\", x, mean, sigma2)"
   ]
  },
  {
   "cell_type": "markdown",
   "metadata": {},
   "source": [
    "Build Chebychev polynomial p.d.f."
   ]
  },
  {
   "cell_type": "code",
   "execution_count": 4,
   "metadata": {
    "collapsed": false
   },
   "outputs": [],
   "source": [
    "a0 = ROOT.RooRealVar(\"a0\", \"a0\", 0.5, 0., 1.)\n",
    "a1 = ROOT.RooRealVar(\"a1\", \"a1\", -0.2, 0., 1.)\n",
    "bkg = ROOT.RooChebychev(\"bkg\", \"Background\", x, ROOT.RooArgList(a0, a1))"
   ]
  },
  {
   "cell_type": "markdown",
   "metadata": {},
   "source": [
    "Method 1 - Two RooAddPdfs\n",
    "------------------------------------------\n",
    "Add signal components"
   ]
  },
  {
   "cell_type": "markdown",
   "metadata": {},
   "source": [
    "Sum the signal components into a composite signal p.d.f."
   ]
  },
  {
   "cell_type": "code",
   "execution_count": 5,
   "metadata": {
    "collapsed": false
   },
   "outputs": [],
   "source": [
    "sig1frac = ROOT.RooRealVar(\n",
    "    \"sig1frac\", \"fraction of component 1 in signal\", 0.8, 0., 1.)\n",
    "sig = ROOT.RooAddPdf(\"sig\", \"Signal\", ROOT.RooArgList(\n",
    "    sig1, sig2), ROOT.RooArgList(sig1frac))"
   ]
  },
  {
   "cell_type": "markdown",
   "metadata": {},
   "source": [
    "Add signal and background\n",
    "------------------------------------------------"
   ]
  },
  {
   "cell_type": "markdown",
   "metadata": {},
   "source": [
    "Sum the composite signal and background"
   ]
  },
  {
   "cell_type": "code",
   "execution_count": 6,
   "metadata": {
    "collapsed": false
   },
   "outputs": [],
   "source": [
    "bkgfrac = ROOT.RooRealVar(\"bkgfrac\", \"fraction of background\", 0.5, 0., 1.)\n",
    "model = ROOT.RooAddPdf(\n",
    "    \"model\", \"g1+g2+a\", ROOT.RooArgList(bkg, sig), ROOT.RooArgList(bkgfrac))"
   ]
  },
  {
   "cell_type": "markdown",
   "metadata": {},
   "source": [
    "Sample, fit and plot model\n",
    "---------------------------------------------------"
   ]
  },
  {
   "cell_type": "markdown",
   "metadata": {},
   "source": [
    "Generate a data sample of 1000 events in x from model"
   ]
  },
  {
   "cell_type": "code",
   "execution_count": 7,
   "metadata": {
    "collapsed": false
   },
   "outputs": [],
   "source": [
    "data = model.generate(ROOT.RooArgSet(x), 1000)"
   ]
  },
  {
   "cell_type": "markdown",
   "metadata": {},
   "source": [
    "Fit model to data"
   ]
  },
  {
   "cell_type": "code",
   "execution_count": 8,
   "metadata": {
    "collapsed": false
   },
   "outputs": [
    {
     "data": {
      "text/plain": [
       "<ROOT.RooFitResult object at 0x(nil)>"
      ]
     },
     "execution_count": 8,
     "metadata": {},
     "output_type": "execute_result"
    },
    {
     "name": "stdout",
     "output_type": "stream",
     "text": [
      "[#1] INFO:Minization -- RooMinimizer::optimizeConst: activating const optimization\n",
      "[#1] INFO:Minization --  The following expressions have been identified as constant and will be precalculated and cached: (sig1,sig2)\n",
      "[#1] INFO:Minization --  The following expressions will be evaluated in cache-and-track mode: (bkg)\n",
      " **********\n",
      " **    1 **SET PRINT           1\n",
      " **********\n",
      " **********\n",
      " **    2 **SET NOGRAD\n",
      " **********\n",
      " PARAMETER DEFINITIONS:\n",
      "    NO.   NAME         VALUE      STEP SIZE      LIMITS\n",
      "     1 a0           5.00000e-01  1.00000e-01    0.00000e+00  1.00000e+00\n",
      "     2 a1           0.00000e+00  1.00000e-01    0.00000e+00  1.00000e+00\n",
      " MINUIT WARNING IN PARAM DEF\n",
      " ============== STARTING VALUE IS AT LIMIT.\n",
      " MINUIT WARNING IN PARAMETR\n",
      " ============== VARIABLE2 IS AT ITS LOWER ALLOWED LIMIT.\n",
      " MINUIT WARNING IN PARAMETR\n",
      " ============== VARIABLE2 BROUGHT BACK INSIDE LIMITS.\n",
      "     3 bkgfrac      5.00000e-01  1.00000e-01    0.00000e+00  1.00000e+00\n",
      "     4 sig1frac     8.00000e-01  1.00000e-01    0.00000e+00  1.00000e+00\n",
      " **********\n",
      " **    3 **SET ERR         0.5\n",
      " **********\n",
      " **********\n",
      " **    4 **SET PRINT           1\n",
      " **********\n",
      " **********\n",
      " **    5 **SET STR           1\n",
      " **********\n",
      " NOW USING STRATEGY  1: TRY TO BALANCE SPEED AGAINST RELIABILITY\n",
      " **********\n",
      " **    6 **MIGRAD        2000           1\n",
      " **********\n",
      " FIRST CALL TO USER FUNCTION AT NEW START POINT, WITH IFLAG=4.\n",
      " MINUIT WARNING IN MIGrad    \n",
      " ============== VARIABLE2 IS AT ITS LOWER ALLOWED LIMIT.\n",
      " START MIGRAD MINIMIZATION.  STRATEGY  1.  CONVERGENCE WHEN EDM .LT. 1.00e-03\n",
      " FCN=1926.2 FROM MIGRAD    STATUS=INITIATE       31 CALLS          32 TOTAL\n",
      "                     EDM= unknown      STRATEGY= 1      NO ERROR MATRIX       \n",
      "  EXT PARAMETER               CURRENT GUESS       STEP         FIRST   \n",
      "  NO.   NAME      VALUE            ERROR          SIZE      DERIVATIVE \n",
      "   1  a0           5.00000e-01   1.00000e-01   0.00000e+00   2.31850e+00\n",
      "   2  a1           7.50936e-02   1.00000e-01   5.53213e-01  -4.13475e-03\n",
      "   3  bkgfrac      5.00000e-01   1.00000e-01   0.00000e+00   2.67741e+01\n",
      "   4  sig1frac     8.00000e-01   1.00000e-01   0.00000e+00   3.58316e-01\n",
      "                               ERR DEF= 0.5\n",
      " MIGRAD MINIMIZATION HAS CONVERGED.\n",
      " MIGRAD WILL VERIFY CONVERGENCE AND ERROR MATRIX.\n",
      " COVARIANCE MATRIX CALCULATED SUCCESSFULLY\n",
      " FCN=1924.17 FROM MIGRAD    STATUS=CONVERGED     119 CALLS         120 TOTAL\n",
      "                     EDM=2.77609e-07    STRATEGY= 1      ERROR MATRIX ACCURATE \n",
      "  EXT PARAMETER                                   STEP         FIRST   \n",
      "  NO.   NAME      VALUE            ERROR          SIZE      DERIVATIVE \n",
      "   1  a0           5.07642e-01   7.96101e-02   4.71991e-03  -9.40696e-04\n",
      "   2  a1           2.66515e-01   1.34621e-01   5.72412e-03  -6.75205e-05\n",
      "   3  bkgfrac      4.27793e-01   3.57760e-02   1.24946e-03  -1.00877e-02\n",
      "   4  sig1frac     6.41234e-01   9.72166e-02   4.23189e-03   1.73342e-03\n",
      "                               ERR DEF= 0.5\n",
      " EXTERNAL ERROR MATRIX.    NDIM=  25    NPAR=  4    ERR DEF=0.5\n",
      "  6.392e-03  2.434e-03 -5.449e-04 -1.352e-03 \n",
      "  2.434e-03  1.871e-02 -3.804e-03 -8.768e-03 \n",
      " -5.449e-04 -3.804e-03  1.282e-03  2.494e-03 \n",
      " -1.352e-03 -8.768e-03  2.494e-03  9.583e-03 \n",
      " PARAMETER  CORRELATION COEFFICIENTS  \n",
      "       NO.  GLOBAL      1      2      3      4\n",
      "        1  0.22587   1.000  0.223 -0.190 -0.173\n",
      "        2  0.79303   0.223  1.000 -0.777 -0.655\n",
      "        3  0.82183  -0.190 -0.777  1.000  0.712\n",
      "        4  0.73007  -0.173 -0.655  0.712  1.000\n",
      " **********\n",
      " **    7 **SET ERR         0.5\n",
      " **********\n",
      " **********\n",
      " **    8 **SET PRINT           1\n",
      " **********\n",
      " **********\n",
      " **    9 **HESSE        2000\n",
      " **********\n",
      " COVARIANCE MATRIX CALCULATED SUCCESSFULLY\n",
      " FCN=1924.17 FROM HESSE     STATUS=OK             23 CALLS         143 TOTAL\n",
      "                     EDM=2.75649e-07    STRATEGY= 1      ERROR MATRIX ACCURATE \n",
      "  EXT PARAMETER                                INTERNAL      INTERNAL  \n",
      "  NO.   NAME      VALUE            ERROR       STEP SIZE       VALUE   \n",
      "   1  a0           5.07642e-01   7.95738e-02   1.88796e-04   1.52838e-02\n",
      "   2  a1           2.66515e-01   1.33780e-01   2.28965e-04  -4.85861e-01\n",
      "   3  bkgfrac      4.27793e-01   3.55511e-02   2.49893e-04  -1.44921e-01\n",
      "   4  sig1frac     6.41234e-01   9.67457e-02   8.46378e-04   2.86365e-01\n",
      "                               ERR DEF= 0.5\n",
      " EXTERNAL ERROR MATRIX.    NDIM=  25    NPAR=  4    ERR DEF=0.5\n",
      "  6.386e-03  2.397e-03 -5.349e-04 -1.328e-03 \n",
      "  2.397e-03  1.847e-02 -3.740e-03 -8.613e-03 \n",
      " -5.349e-04 -3.740e-03  1.266e-03  2.455e-03 \n",
      " -1.328e-03 -8.613e-03  2.455e-03  9.489e-03 \n",
      " PARAMETER  CORRELATION COEFFICIENTS  \n",
      "       NO.  GLOBAL      1      2      3      4\n",
      "        1  0.22394   1.000  0.221 -0.188 -0.171\n",
      "        2  0.78997   0.221  1.000 -0.773 -0.651\n",
      "        3  0.81931  -0.188 -0.773  1.000  0.708\n",
      "        4  0.72690  -0.171 -0.651  0.708  1.000\n",
      "[#1] INFO:Minization -- RooMinimizer::optimizeConst: deactivating const optimization\n"
     ]
    }
   ],
   "source": [
    "model.fitTo(data)"
   ]
  },
  {
   "cell_type": "markdown",
   "metadata": {},
   "source": [
    "Plot data and PDF overlaid"
   ]
  },
  {
   "cell_type": "code",
   "execution_count": 9,
   "metadata": {
    "collapsed": false
   },
   "outputs": [
    {
     "data": {
      "text/plain": [
       "<ROOT.RooPlot object (\"frame_x_55acddf83f40\") at 0x55acddf83f40>"
      ]
     },
     "execution_count": 9,
     "metadata": {},
     "output_type": "execute_result"
    }
   ],
   "source": [
    "xframe = x.frame(ROOT.RooFit.Title(\n",
    "    \"Example of composite pdf=(sig1+sig2)+bkg\"))\n",
    "data.plotOn(xframe)\n",
    "model.plotOn(xframe)"
   ]
  },
  {
   "cell_type": "markdown",
   "metadata": {},
   "source": [
    "Overlay the background component of model with a dashed line"
   ]
  },
  {
   "cell_type": "code",
   "execution_count": 10,
   "metadata": {
    "collapsed": false
   },
   "outputs": [
    {
     "data": {
      "text/plain": [
       "<ROOT.RooPlot object (\"frame_x_55acddf83f40\") at 0x55acddf83f40>"
      ]
     },
     "execution_count": 10,
     "metadata": {},
     "output_type": "execute_result"
    },
    {
     "name": "stdout",
     "output_type": "stream",
     "text": [
      "[#1] INFO:Plotting -- RooAbsPdf::plotOn(model) directly selected PDF components: (bkg)\n",
      "[#1] INFO:Plotting -- RooAbsPdf::plotOn(model) indirectly selected PDF components: ()\n"
     ]
    }
   ],
   "source": [
    "ras_bkg = ROOT.RooArgSet(bkg)\n",
    "model.plotOn(xframe, ROOT.RooFit.Components(ras_bkg),\n",
    "             ROOT.RooFit.LineStyle(ROOT.kDashed))"
   ]
  },
  {
   "cell_type": "markdown",
   "metadata": {},
   "source": [
    "Overlay the background+sig2 components of model with a dotted line"
   ]
  },
  {
   "cell_type": "code",
   "execution_count": 11,
   "metadata": {
    "collapsed": false
   },
   "outputs": [
    {
     "data": {
      "text/plain": [
       "<ROOT.RooPlot object (\"frame_x_55acddf83f40\") at 0x55acddf83f40>"
      ]
     },
     "execution_count": 11,
     "metadata": {},
     "output_type": "execute_result"
    },
    {
     "name": "stdout",
     "output_type": "stream",
     "text": [
      "[#1] INFO:Plotting -- RooAbsPdf::plotOn(model) directly selected PDF components: (bkg,sig2)\n",
      "[#1] INFO:Plotting -- RooAbsPdf::plotOn(model) indirectly selected PDF components: (sig)\n"
     ]
    }
   ],
   "source": [
    "ras_bkg_sig2 = ROOT.RooArgSet(bkg, sig2)\n",
    "model.plotOn(xframe, ROOT.RooFit.Components(ras_bkg_sig2),\n",
    "             ROOT.RooFit.LineStyle(ROOT.kDotted))"
   ]
  },
  {
   "cell_type": "markdown",
   "metadata": {},
   "source": [
    "Print structure of composite p.d.f."
   ]
  },
  {
   "cell_type": "code",
   "execution_count": 12,
   "metadata": {
    "collapsed": false
   },
   "outputs": [
    {
     "name": "stdout",
     "output_type": "stream",
     "text": [
      "0x55acddb74c80 RooAddPdf::model = 0.885987 [Auto,Dirty] \n",
      "  0x55acddb09500/V- RooChebychev::bkg = 0.733485 [Auto,Dirty] \n",
      "    0x55acdc8effc0/V- RooRealVar::x = 5\n",
      "    0x55acdc0aea80/V- RooRealVar::a0 = 0.507642 +/- 0.0795738\n",
      "    0x55acdc0713c0/V- RooRealVar::a1 = 0.266515 +/- 0.13378\n",
      "  0x55acddaf97e0/V- RooRealVar::bkgfrac = 0.427793 +/- 0.0355511\n",
      "  0x55acdc0b9aa0/V- RooAddPdf::sig = 1 [Auto,Dirty] \n",
      "    0x55acdda67ac0/V- RooGaussian::sig1 = 1 [Auto,Dirty] \n",
      "      0x55acdc8effc0/V- RooRealVar::x = 5\n",
      "      0x55acdbd51110/V- RooRealVar::mean = 5\n",
      "      0x55acdcd39670/V- RooRealVar::sigma1 = 0.5\n",
      "    0x55acddafdf90/V- RooRealVar::sig1frac = 0.641234 +/- 0.0967457\n",
      "    0x55acdca31db0/V- RooGaussian::sig2 = 1 [Auto,Dirty] \n",
      "      0x55acdc8effc0/V- RooRealVar::x = 5\n",
      "      0x55acdbd51110/V- RooRealVar::mean = 5\n",
      "      0x55acdc8ee670/V- RooRealVar::sigma2 = 1\n"
     ]
    }
   ],
   "source": [
    "model.Print(\"t\")"
   ]
  },
  {
   "cell_type": "markdown",
   "metadata": {},
   "source": [
    "Method 2 - One RooAddPdf with recursive fractions\n",
    "---------------------------------------------------"
   ]
  },
  {
   "cell_type": "markdown",
   "metadata": {},
   "source": [
    "Construct sum of models on one go using recursive fraction interpretations\n",
    "\n",
    "  model2 = bkg + (sig1 + sig2)"
   ]
  },
  {
   "cell_type": "code",
   "execution_count": 13,
   "metadata": {
    "collapsed": false
   },
   "outputs": [],
   "source": [
    "model2 = ROOT.RooAddPdf(\n",
    "    \"model\",\n",
    "    \"g1+g2+a\",\n",
    "    ROOT.RooArgList(\n",
    "        bkg,\n",
    "        sig1,\n",
    "        sig2),\n",
    "    ROOT.RooArgList(\n",
    "        bkgfrac,\n",
    "        sig1frac),\n",
    "    ROOT.kTRUE)"
   ]
  },
  {
   "cell_type": "markdown",
   "metadata": {},
   "source": [
    "NB: Each coefficient is interpreted as the fraction of the\n",
    "left-hand component of the i-th recursive sum, i.e.\n",
    "\n",
    "  sum4 = A + ( B + ( C + D)  with fraction fA, and fC expands to\n",
    "\n",
    "  sum4 = fA*A + (1-fA)*(fB*B + (1-fB)*(fC*C + (1-fC)*D))"
   ]
  },
  {
   "cell_type": "markdown",
   "metadata": {},
   "source": [
    "Plot recursive addition model\n",
    "---------------------------------------------------------"
   ]
  },
  {
   "cell_type": "code",
   "execution_count": 14,
   "metadata": {
    "collapsed": false
   },
   "outputs": [
    {
     "name": "stdout",
     "output_type": "stream",
     "text": [
      "[#1] INFO:Plotting -- RooAbsPdf::plotOn(model) directly selected PDF components: (bkg,sig2)\n",
      "[#1] INFO:Plotting -- RooAbsPdf::plotOn(model) indirectly selected PDF components: ()\n",
      "0x55acde07dc00 RooAddPdf::model = 0.885987 [Auto,Dirty] \n",
      "  0x55acddb09500/V- RooChebychev::bkg = 0.733485 [Auto,Dirty] \n",
      "    0x55acdc8effc0/V- RooRealVar::x = 5\n",
      "    0x55acdc0aea80/V- RooRealVar::a0 = 0.507642 +/- 0.0795738\n",
      "    0x55acdc0713c0/V- RooRealVar::a1 = 0.266515 +/- 0.13378\n",
      "  0x55acddaf97e0/V- RooRealVar::bkgfrac = 0.427793 +/- 0.0355511\n",
      "  0x55acdda67ac0/V- RooGaussian::sig1 = 1 [Auto,Dirty] \n",
      "    0x55acdc8effc0/V- RooRealVar::x = 5\n",
      "    0x55acdbd51110/V- RooRealVar::mean = 5\n",
      "    0x55acdcd39670/V- RooRealVar::sigma1 = 0.5\n",
      "  0x55acddfe16c0/V- RooRecursiveFraction::model_recursive_fraction_sig1 = 0.366918 [Auto,Clean] \n",
      "    0x55acddafdf90/V- RooRealVar::sig1frac = 0.641234 +/- 0.0967457\n",
      "    0x55acddaf97e0/V- RooRealVar::bkgfrac = 0.427793 +/- 0.0355511\n",
      "  0x55acdca31db0/V- RooGaussian::sig2 = 1 [Auto,Dirty] \n",
      "    0x55acdc8effc0/V- RooRealVar::x = 5\n",
      "    0x55acdbd51110/V- RooRealVar::mean = 5\n",
      "    0x55acdc8ee670/V- RooRealVar::sigma2 = 1\n",
      "  0x55acddfd2d70/V- RooRecursiveFraction::model_recursive_fraction_sig2 = 0.205289 [Auto,Clean] \n",
      "    0x55acddbc7fe0/V- RooConstVar::1 = 1\n",
      "    0x55acddafdf90/V- RooRealVar::sig1frac = 0.641234 +/- 0.0967457\n",
      "    0x55acddaf97e0/V- RooRealVar::bkgfrac = 0.427793 +/- 0.0355511\n"
     ]
    }
   ],
   "source": [
    "model2.plotOn(xframe, ROOT.RooFit.LineColor(ROOT.kRed),\n",
    "              ROOT.RooFit.LineStyle(ROOT.kDashed))\n",
    "model2.plotOn(\n",
    "    xframe,\n",
    "    ROOT.RooFit.Components(ras_bkg_sig2),\n",
    "    ROOT.RooFit.LineColor(\n",
    "        ROOT.kRed),\n",
    "    ROOT.RooFit.LineStyle(\n",
    "        ROOT.kDashed))\n",
    "model2.Print(\"t\")"
   ]
  },
  {
   "cell_type": "markdown",
   "metadata": {},
   "source": [
    "Draw the frame on the canvas"
   ]
  },
  {
   "cell_type": "code",
   "execution_count": 15,
   "metadata": {
    "collapsed": false
   },
   "outputs": [
    {
     "name": "stderr",
     "output_type": "stream",
     "text": [
      "Info in <TCanvas::Print>: png file rf201_composite.png has been created\n"
     ]
    }
   ],
   "source": [
    "c = ROOT.TCanvas(\"rf201_composite\", \"rf201_composite\", 600, 600)\n",
    "ROOT.gPad.SetLeftMargin(0.15)\n",
    "xframe.GetYaxis().SetTitleOffset(1.4)\n",
    "xframe.Draw()\n",
    "\n",
    "c.SaveAs(\"rf201_composite.png\")"
   ]
  },
  {
   "cell_type": "markdown",
   "metadata": {},
   "source": [
    "Draw all canvases "
   ]
  },
  {
   "cell_type": "code",
   "execution_count": 16,
   "metadata": {
    "collapsed": false
   },
   "outputs": [
    {
     "data": {
      "image/png": "[encoded data removed]",
      "text/plain": [
       "<IPython.core.display.Image object>"
      ]
     },
     "metadata": {},
     "output_type": "display_data"
    }
   ],
   "source": [
    "from ROOT import gROOT \n",
    "gROOT.GetListOfCanvases().Draw()"
   ]
  }
 ],
 "metadata": {
  "kernelspec": {
   "display_name": "Python 2",
   "language": "python",
   "name": "python2"
  },
  "language_info": {
   "codemirror_mode": {
    "name": "ipython",
    "version": 2
   },
   "file_extension": ".py",
   "mimetype": "text/x-python",
   "name": "python",
   "nbconvert_exporter": "python",
   "pygments_lexer": "ipython2",
   "version": "2.7.10"
  }
 },
 "nbformat": 4,
 "nbformat_minor": 2
}
