{
 "cells": [
  {
   "cell_type": "markdown",
   "metadata": {},
   "source": [
    "# Rf 5 1 1_Wsfactory_Basic\n",
    "Organization and simultaneous fits: basic use of the 'object factory' associated with a workspace to rapidly build\n",
    "p.d.f.s functions and their parameter components\n",
    "\n",
    "\n",
    "\n",
    "**Author:** 04/2009 - Wouter Verkerke  \n",
    "<i><small>This notebook tutorial was automatically generated with <a href= \"https://github.com/root-project/root/blob/master/documentation/doxygen/converttonotebook.py\">ROOTBOOK-izer</a> from the macro found in the ROOT repository  on Thursday, August 29, 2019 at 02:57 AM.</small></i>"
   ]
  },
  {
   "cell_type": "code",
   "execution_count": 1,
   "metadata": {
    "collapsed": false
   },
   "outputs": [],
   "source": [
    "%%cpp -d\n",
    "#include \"RooRealVar.h\"\n",
    "#include \"RooDataSet.h\"\n",
    "#include \"RooGaussian.h\"\n",
    "#include \"RooConstVar.h\"\n",
    "#include \"RooChebychev.h\"\n",
    "#include \"RooAddPdf.h\"\n",
    "#include \"RooWorkspace.h\"\n",
    "#include \"RooPlot.h\"\n",
    "#include \"TCanvas.h\"\n",
    "#include \"TAxis.h\""
   ]
  },
  {
   "cell_type": "code",
   "execution_count": 2,
   "metadata": {
    "collapsed": false
   },
   "outputs": [],
   "source": [
    "%%cpp -d\n",
    "// This is a workaround to make sure the namespace is used inside functions\n",
    "using namespace RooFit;"
   ]
  },
  {
   "cell_type": "markdown",
   "metadata": {},
   "source": [
    " Arguments are defined. "
   ]
  },
  {
   "cell_type": "code",
   "execution_count": 3,
   "metadata": {
    "collapsed": false
   },
   "outputs": [],
   "source": [
    "Bool_t compact = kFALSE;"
   ]
  },
  {
   "cell_type": "code",
   "execution_count": 4,
   "metadata": {
    "collapsed": false
   },
   "outputs": [
    {
     "name": "stdout",
     "output_type": "stream",
     "text": [
      "\n",
      "\u001b[1mRooFit v3.60 -- Developed by Wouter Verkerke and David Kirkby\u001b[0m \n",
      "                Copyright (C) 2000-2013 NIKHEF, University of California & Stanford University\n",
      "                All rights reserved, please read http://roofit.sourceforge.net/license.txt\n",
      "\n"
     ]
    }
   ],
   "source": [
    "RooWorkspace *w = new RooWorkspace(\"w\");"
   ]
  },
  {
   "cell_type": "markdown",
   "metadata": {},
   "source": [
    "Creating and adding basic p.d.f.s\n",
    " ----------------------------------------------------------------"
   ]
  },
  {
   "cell_type": "markdown",
   "metadata": {},
   "source": [
    "Remake example p.d.f. of tutorial rs502_wspacewrite.c:\n",
    "\n",
    " Basic p.d.f. construction: ClassName::ObjectName(constructor arguments)\n",
    " Variable construction    : VarName[x,xlo,xhi], VarName[xlo,xhi], VarName[x]\n",
    " P.d.f. addition          : SUM::ObjectName(coef1*pdf1,...coefM*pdfM,pdfN)"
   ]
  },
  {
   "cell_type": "code",
   "execution_count": 5,
   "metadata": {
    "collapsed": false
   },
   "outputs": [],
   "source": [
    "if (!compact) {\n",
    "\n",
    "   // Use object factory to build p.d.f. of tutorial rs502_wspacewrite\n",
    "   w->factory(\"Gaussian::sig1(x[-10,10],mean[5,0,10],0.5)\");\n",
    "   w->factory(\"Gaussian::sig2(x,mean,1)\");\n",
    "   w->factory(\"Chebychev::bkg(x,{a0[0.5,0.,1],a1[0.2,0.,1.]})\");\n",
    "   w->factory(\"SUM::sig(sig1frac[0.8,0.,1.]*sig1,sig2)\");\n",
    "   w->factory(\"SUM::model(bkgfrac[0.5,0.,1.]*bkg,sig)\");\n",
    "\n",
    "} else {\n",
    "\n",
    "   // Use object factory to build p.d.f. of tutorial rs502_wspacewrite but\n",
    "   //  - Contracted to a single line recursive expression,\n",
    "   //  - Omitting explicit names for components that are not referred to explicitly later\n",
    "\n",
    "   w->factory(\"SUM::model(bkgfrac[0.5,0.,1.]*Chebychev::bkg(x[-10,10],{a0[0.5,0.,1],a1[0.2,0.,1.]}),\"\n",
    "              \"SUM(sig1frac[0.8,0.,1.]*Gaussian(x,mean[5,0,10],0.5), Gaussian(x,mean,1)))\");\n",
    "}"
   ]
  },
  {
   "cell_type": "markdown",
   "metadata": {},
   "source": [
    "Advanced p.d.f. constructor arguments\n",
    " ----------------------------------------------------------------\n",
    "\n",
    " P.d.f. constructor arguments may by any type of RooAbsArg, but also\n",
    "\n",
    " Double_t --> converted to RooConst(...)\n",
    " {a,b,c} --> converted to RooArgSet() or RooArgList() depending on required ctor arg\n",
    " dataset name --> converted to RooAbsData reference for any dataset residing in the workspace\n",
    " enum --> Any enum label that belongs to an enum defined in the (base) class"
   ]
  },
  {
   "cell_type": "markdown",
   "metadata": {},
   "source": [
    "Make a dummy dataset p.d.f. 'model' and import it in the workspace"
   ]
  },
  {
   "cell_type": "code",
   "execution_count": 6,
   "metadata": {
    "collapsed": false
   },
   "outputs": [
    {
     "name": "stdout",
     "output_type": "stream",
     "text": [
      "[#1] INFO:ObjectHandling -- RooWorkspace::import(w) importing dataset modelData\n",
      "[#1] INFO:ObjectHandling -- RooWorkSpace::import(w) changing name of dataset from  modelData to data\n"
     ]
    }
   ],
   "source": [
    "RooDataSet *data = w->pdf(\"model\")->generate(*w->var(\"x\"), 1000);\n",
    "w->import(*data, Rename(\"data\"));"
   ]
  },
  {
   "cell_type": "markdown",
   "metadata": {},
   "source": [
    "Construct a keys p.d.f. passing a dataset name and an enum type defining the\n",
    " mirroring strategy"
   ]
  },
  {
   "cell_type": "code",
   "execution_count": 7,
   "metadata": {
    "collapsed": false
   },
   "outputs": [],
   "source": [
    "w->factory(\"KeysPdf::k(x,data,NoMirror,0.2)\");"
   ]
  },
  {
   "cell_type": "markdown",
   "metadata": {},
   "source": [
    "Print workspace contents"
   ]
  },
  {
   "cell_type": "code",
   "execution_count": 8,
   "metadata": {
    "collapsed": false
   },
   "outputs": [
    {
     "name": "stdout",
     "output_type": "stream",
     "text": [
      "\n",
      "RooWorkspace(w) w contents\n",
      "\n",
      "variables\n",
      "---------\n",
      "(a0,a1,bkgfrac,mean,sig1frac,x)\n",
      "\n",
      "p.d.f.s\n",
      "-------\n",
      "RooChebychev::bkg[ x=x coefList=(a0,a1) ] = 0.8\n",
      "RooKeysPdf::k[ x=x ] = 0.0210129\n",
      "RooAddPdf::model[ bkgfrac * bkg + [%] * sig ] = 0.4\n",
      "RooAddPdf::sig[ sig1frac * sig1 + [%] * sig2 ] = 7.45331e-07\n",
      "RooGaussian::sig1[ x=x mean=mean sigma=0.5 ] = 1.92875e-22\n",
      "RooGaussian::sig2[ x=x mean=mean sigma=1 ] = 3.72665e-06\n",
      "\n",
      "datasets\n",
      "--------\n",
      "RooDataSet::data(x)\n",
      "\n"
     ]
    }
   ],
   "source": [
    "w->Print();"
   ]
  }
 ],
 "metadata": {
  "kernelspec": {
   "display_name": "ROOT C++",
   "language": "c++",
   "name": "root"
  },
  "language_info": {
   "codemirror_mode": "text/x-c++src",
   "file_extension": ".C",
   "mimetype": " text/x-c++src",
   "name": "c++"
  }
 },
 "nbformat": 4,
 "nbformat_minor": 2
}
