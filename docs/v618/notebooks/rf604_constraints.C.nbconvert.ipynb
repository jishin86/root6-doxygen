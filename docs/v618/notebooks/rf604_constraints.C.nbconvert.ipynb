{
 "cells": [
  {
   "cell_type": "markdown",
   "metadata": {},
   "source": [
    "# Rf 6 0 4_Constraints\n",
    "Likelihood and minimization: fitting with constraints\n",
    "\n",
    "\n",
    "\n",
    "**Author:** 07/2008 - Wouter Verkerke  \n",
    "<i><small>This notebook tutorial was automatically generated with <a href= \"https://github.com/root-project/root/blob/master/documentation/doxygen/converttonotebook.py\">ROOTBOOK-izer</a> from the macro found in the ROOT repository  on Thursday, August 29, 2019 at 02:58 AM.</small></i>"
   ]
  },
  {
   "cell_type": "code",
   "execution_count": 1,
   "metadata": {
    "collapsed": false
   },
   "outputs": [],
   "source": [
    "%%cpp -d\n",
    "#include \"RooRealVar.h\"\n",
    "#include \"RooDataSet.h\"\n",
    "#include \"RooGaussian.h\"\n",
    "#include \"RooConstVar.h\"\n",
    "#include \"RooPolynomial.h\"\n",
    "#include \"RooAddPdf.h\"\n",
    "#include \"RooProdPdf.h\"\n",
    "#include \"RooFitResult.h\"\n",
    "#include \"RooPlot.h\"\n",
    "#include \"TCanvas.h\"\n",
    "#include \"TAxis.h\"\n",
    "#include \"TH1.h\""
   ]
  },
  {
   "cell_type": "code",
   "execution_count": 2,
   "metadata": {
    "collapsed": false
   },
   "outputs": [],
   "source": [
    "%%cpp -d\n",
    "// This is a workaround to make sure the namespace is used inside functions\n",
    "using namespace RooFit;"
   ]
  },
  {
   "cell_type": "markdown",
   "metadata": {},
   "source": [
    "Create model and dataset\n",
    " ----------------------------------------------"
   ]
  },
  {
   "cell_type": "markdown",
   "metadata": {},
   "source": [
    "Construct a gaussian p.d.f"
   ]
  },
  {
   "cell_type": "code",
   "execution_count": 3,
   "metadata": {
    "collapsed": false
   },
   "outputs": [
    {
     "name": "stdout",
     "output_type": "stream",
     "text": [
      "\n",
      "\u001b[1mRooFit v3.60 -- Developed by Wouter Verkerke and David Kirkby\u001b[0m \n",
      "                Copyright (C) 2000-2013 NIKHEF, University of California & Stanford University\n",
      "                All rights reserved, please read http://roofit.sourceforge.net/license.txt\n",
      "\n"
     ]
    }
   ],
   "source": [
    "RooRealVar x(\"x\", \"x\", -10, 10);\n",
    "\n",
    "RooRealVar m(\"m\", \"m\", 0, -10, 10);\n",
    "RooRealVar s(\"s\", \"s\", 2, 0.1, 10);\n",
    "RooGaussian gauss(\"gauss\", \"gauss(x,m,s)\", x, m, s);"
   ]
  },
  {
   "cell_type": "markdown",
   "metadata": {},
   "source": [
    "Construct a flat p.d.f (polynomial of 0th order)"
   ]
  },
  {
   "cell_type": "code",
   "execution_count": 4,
   "metadata": {
    "collapsed": false
   },
   "outputs": [],
   "source": [
    "RooPolynomial poly(\"poly\", \"poly(x)\", x);"
   ]
  },
  {
   "cell_type": "markdown",
   "metadata": {},
   "source": [
    "Construct model = f*gauss + (1-f)*poly"
   ]
  },
  {
   "cell_type": "code",
   "execution_count": 5,
   "metadata": {
    "collapsed": false
   },
   "outputs": [],
   "source": [
    "RooRealVar f(\"f\", \"f\", 0.5, 0., 1.);\n",
    "RooAddPdf model(\"model\", \"model\", RooArgSet(gauss, poly), f);"
   ]
  },
  {
   "cell_type": "markdown",
   "metadata": {},
   "source": [
    "Generate small dataset for use in fitting below"
   ]
  },
  {
   "cell_type": "code",
   "execution_count": 6,
   "metadata": {
    "collapsed": false
   },
   "outputs": [],
   "source": [
    "RooDataSet *d = model.generate(x, 50);"
   ]
  },
  {
   "cell_type": "markdown",
   "metadata": {},
   "source": [
    "Create constraint pdf\n",
    " -----------------------------------------"
   ]
  },
  {
   "cell_type": "markdown",
   "metadata": {},
   "source": [
    "Construct gaussian constraint p.d.f on parameter f at 0.8 with resolution of 0.1"
   ]
  },
  {
   "cell_type": "code",
   "execution_count": 7,
   "metadata": {
    "collapsed": false
   },
   "outputs": [],
   "source": [
    "RooGaussian fconstraint(\"fconstraint\", \"fconstraint\", f, RooConst(0.8), RooConst(0.2));"
   ]
  },
  {
   "cell_type": "markdown",
   "metadata": {},
   "source": [
    "Method 1 - add internal constraint to model\n",
    " -------------------------------------------------------------------------------------"
   ]
  },
  {
   "cell_type": "markdown",
   "metadata": {},
   "source": [
    "Multiply constraint term with regular p.d.f using rooprodpdf\n",
    " Specify in fitTo() that internal constraints on parameter f should be used"
   ]
  },
  {
   "cell_type": "markdown",
   "metadata": {},
   "source": [
    "Multiply constraint with p.d.f"
   ]
  },
  {
   "cell_type": "code",
   "execution_count": 8,
   "metadata": {
    "collapsed": false
   },
   "outputs": [],
   "source": [
    "RooProdPdf modelc(\"modelc\", \"model with constraint\", RooArgSet(model, fconstraint));"
   ]
  },
  {
   "cell_type": "markdown",
   "metadata": {},
   "source": [
    "Fit model (without use of constraint term)"
   ]
  },
  {
   "cell_type": "code",
   "execution_count": 9,
   "metadata": {
    "collapsed": false
   },
   "outputs": [
    {
     "name": "stdout",
     "output_type": "stream",
     "text": [
      "[#1] INFO:Minization -- RooMinimizer::optimizeConst: activating const optimization\n",
      "[#1] INFO:Minization --  The following expressions have been identified as constant and will be precalculated and cached: (poly)\n",
      "[#1] INFO:Minization --  The following expressions will be evaluated in cache-and-track mode: (gauss)\n",
      " **********\n",
      " **    1 **SET PRINT           1\n",
      " **********\n",
      " **********\n",
      " **    2 **SET NOGRAD\n",
      " **********\n",
      " PARAMETER DEFINITIONS:\n",
      "    NO.   NAME         VALUE      STEP SIZE      LIMITS\n",
      "     1 f            5.00000e-01  1.00000e-01    0.00000e+00  1.00000e+00\n",
      "     2 m            0.00000e+00  2.00000e+00   -1.00000e+01  1.00000e+01\n",
      "     3 s            2.00000e+00  9.50000e-01    1.00000e-01  1.00000e+01\n",
      " **********\n",
      " **    3 **SET ERR         0.5\n",
      " **********\n",
      " **********\n",
      " **    4 **SET PRINT           1\n",
      " **********\n",
      " **********\n",
      " **    5 **SET STR           1\n",
      " **********\n",
      " NOW USING STRATEGY  1: TRY TO BALANCE SPEED AGAINST RELIABILITY\n",
      " **********\n",
      " **    6 **MIGRAD        1500           1\n",
      " **********\n",
      " FIRST CALL TO USER FUNCTION AT NEW START POINT, WITH IFLAG=4.\n",
      " START MIGRAD MINIMIZATION.  STRATEGY  1.  CONVERGENCE WHEN EDM .LT. 1.00e-03\n",
      " FCN=136.523 FROM MIGRAD    STATUS=INITIATE       10 CALLS          11 TOTAL\n",
      "                     EDM= unknown      STRATEGY= 1      NO ERROR MATRIX       \n",
      "  EXT PARAMETER               CURRENT GUESS       STEP         FIRST   \n",
      "  NO.   NAME      VALUE            ERROR          SIZE      DERIVATIVE \n",
      "   1  f            5.00000e-01   1.00000e-01   2.01358e-01  -3.71768e+00\n",
      "   2  m            0.00000e+00   2.00000e+00   2.01358e-01  -2.53753e+01\n",
      "   3  s            2.00000e+00   9.50000e-01   2.51381e-01  -1.22085e+00\n",
      "                               ERR DEF= 0.5\n",
      " MIGRAD MINIMIZATION HAS CONVERGED.\n",
      " MIGRAD WILL VERIFY CONVERGENCE AND ERROR MATRIX.\n",
      " COVARIANCE MATRIX CALCULATED SUCCESSFULLY\n",
      " FCN=134.849 FROM MIGRAD    STATUS=CONVERGED      50 CALLS          51 TOTAL\n",
      "                     EDM=4.23315e-05    STRATEGY= 1      ERROR MATRIX ACCURATE \n",
      "  EXT PARAMETER                                   STEP         FIRST   \n",
      "  NO.   NAME      VALUE            ERROR          SIZE      DERIVATIVE \n",
      "   1  f            6.49867e-01   1.21447e-01   1.78337e-03  -1.77163e-02\n",
      "   2  m            7.18243e-01   4.96576e-01   3.89020e-04   8.83234e-02\n",
      "   3  s            2.18801e+00   4.61197e-01   7.70631e-04   3.46910e-03\n",
      "                               ERR DEF= 0.5\n",
      " EXTERNAL ERROR MATRIX.    NDIM=  25    NPAR=  3    ERR DEF=0.5\n",
      "  1.508e-02 -6.689e-03  2.798e-02 \n",
      " -6.689e-03  2.468e-01 -3.900e-02 \n",
      "  2.798e-02 -3.900e-02  2.136e-01 \n",
      " PARAMETER  CORRELATION COEFFICIENTS  \n",
      "       NO.  GLOBAL      1      2      3\n",
      "        1  0.49373   1.000 -0.110  0.493\n",
      "        2  0.17244  -0.110  1.000 -0.170\n",
      "        3  0.50660   0.493 -0.170  1.000\n",
      " **********\n",
      " **    7 **SET ERR         0.5\n",
      " **********\n",
      " **********\n",
      " **    8 **SET PRINT           1\n",
      " **********\n",
      " **********\n",
      " **    9 **HESSE        1500\n",
      " **********\n",
      " COVARIANCE MATRIX CALCULATED SUCCESSFULLY\n",
      " FCN=134.849 FROM HESSE     STATUS=OK             16 CALLS          67 TOTAL\n",
      "                     EDM=4.23315e-05    STRATEGY= 1      ERROR MATRIX ACCURATE \n",
      "  EXT PARAMETER                                INTERNAL      INTERNAL  \n",
      "  NO.   NAME      VALUE            ERROR       STEP SIZE       VALUE   \n",
      "   1  f            6.49867e-01   1.21452e-01   3.56674e-04   3.04414e-01\n",
      "   2  m            7.18243e-01   4.96642e-01   7.78041e-05   7.18862e-02\n",
      "   3  s            2.18801e+00   4.61289e-01   1.54126e-04  -6.16495e-01\n",
      "                               ERR DEF= 0.5\n",
      " EXTERNAL ERROR MATRIX.    NDIM=  25    NPAR=  3    ERR DEF=0.5\n",
      "  1.508e-02 -6.686e-03  2.800e-02 \n",
      " -6.686e-03  2.469e-01 -3.921e-02 \n",
      "  2.800e-02 -3.921e-02  2.137e-01 \n",
      " PARAMETER  CORRELATION COEFFICIENTS  \n",
      "       NO.  GLOBAL      1      2      3\n",
      "        1  0.49379   1.000 -0.110  0.493\n",
      "        2  0.17319  -0.110  1.000 -0.171\n",
      "        3  0.50690   0.493 -0.171  1.000\n",
      "[#1] INFO:Minization -- RooMinimizer::optimizeConst: deactivating const optimization\n"
     ]
    }
   ],
   "source": [
    "RooFitResult *r1 = model.fitTo(*d, Save());"
   ]
  },
  {
   "cell_type": "markdown",
   "metadata": {},
   "source": [
    "Fit modelc with constraint term on parameter f"
   ]
  },
  {
   "cell_type": "code",
   "execution_count": 10,
   "metadata": {
    "collapsed": false
   },
   "outputs": [
    {
     "name": "stdout",
     "output_type": "stream",
     "text": [
      "[#1] INFO:Minization --  Including the following contraint terms in minimization: (fconstraint)\n",
      "[#1] INFO:Fitting -- RooAddition::defaultErrorLevel(nll_modelc_modelData_with_constr) Summation contains a RooNLLVar, using its error level\n",
      "[#1] INFO:Minization -- RooMinimizer::optimizeConst: activating const optimization\n",
      "[#1] INFO:Minization --  The following expressions have been identified as constant and will be precalculated and cached: (poly)\n",
      "[#1] INFO:Minization --  The following expressions will be evaluated in cache-and-track mode: (gauss)\n",
      " **********\n",
      " **   10 **SET PRINT           1\n",
      " **********\n",
      " **********\n",
      " **   11 **SET NOGRAD\n",
      " **********\n",
      " PARAMETER DEFINITIONS:\n",
      "    NO.   NAME         VALUE      STEP SIZE      LIMITS\n",
      "     1 f            6.49867e-01  1.21452e-01    0.00000e+00  1.00000e+00\n",
      "     2 m            7.18243e-01  4.96642e-01   -1.00000e+01  1.00000e+01\n",
      "     3 s            2.18801e+00  4.61289e-01    1.00000e-01  1.00000e+01\n",
      " **********\n",
      " **   12 **SET ERR         0.5\n",
      " **********\n",
      " **********\n",
      " **   13 **SET PRINT           1\n",
      " **********\n",
      " **********\n",
      " **   14 **SET STR           1\n",
      " **********\n",
      " NOW USING STRATEGY  1: TRY TO BALANCE SPEED AGAINST RELIABILITY\n",
      " **********\n",
      " **   15 **MIGRAD        1500           1\n",
      " **********\n",
      " FIRST CALL TO USER FUNCTION AT NEW START POINT, WITH IFLAG=4.\n",
      " START MIGRAD MINIMIZATION.  STRATEGY  1.  CONVERGENCE WHEN EDM .LT. 1.00e-03\n",
      " FCN=134.268 FROM MIGRAD    STATUS=INITIATE       10 CALLS          11 TOTAL\n",
      "                     EDM= unknown      STRATEGY= 1      NO ERROR MATRIX       \n",
      "  EXT PARAMETER               CURRENT GUESS       STEP         FIRST   \n",
      "  NO.   NAME      VALUE            ERROR          SIZE      DERIVATIVE \n",
      "   1  f            6.49867e-01   1.21452e-01   2.58356e-01  -1.80809e+00\n",
      "   2  m            7.18243e-01   4.96642e-01   4.98137e-02   8.83296e-02\n",
      "   3  s            2.18801e+00   4.61289e-01   1.14852e-01   3.40505e-03\n",
      "                               ERR DEF= 0.5\n",
      " MIGRAD MINIMIZATION HAS CONVERGED.\n",
      " MIGRAD WILL VERIFY CONVERGENCE AND ERROR MATRIX.\n",
      " COVARIANCE MATRIX CALCULATED SUCCESSFULLY\n",
      " FCN=134.19 FROM MIGRAD    STATUS=CONVERGED      48 CALLS          49 TOTAL\n",
      "                     EDM=7.15556e-07    STRATEGY= 1      ERROR MATRIX ACCURATE \n",
      "  EXT PARAMETER                                   STEP         FIRST   \n",
      "  NO.   NAME      VALUE            ERROR          SIZE      DERIVATIVE \n",
      "   1  f            6.90394e-01   1.01488e-01   1.56024e-03  -2.66326e-03\n",
      "   2  m            6.95291e-01   4.98410e-01   3.92779e-04   4.60363e-03\n",
      "   3  s            2.26976e+00   4.75435e-01   8.11598e-04  -2.57087e-03\n",
      "                               ERR DEF= 0.5\n",
      " EXTERNAL ERROR MATRIX.    NDIM=  25    NPAR=  3    ERR DEF=0.5\n",
      "  1.047e-02 -6.212e-03  2.307e-02 \n",
      " -6.212e-03  2.486e-01 -4.460e-02 \n",
      "  2.307e-02 -4.460e-02  2.271e-01 \n",
      " PARAMETER  CORRELATION COEFFICIENTS  \n",
      "       NO.  GLOBAL      1      2      3\n",
      "        1  0.47437   1.000 -0.122  0.473\n",
      "        2  0.19139  -0.122  1.000 -0.188\n",
      "        3  0.49100   0.473 -0.188  1.000\n",
      " **********\n",
      " **   16 **SET ERR         0.5\n",
      " **********\n",
      " **********\n",
      " **   17 **SET PRINT           1\n",
      " **********\n",
      " **********\n",
      " **   18 **HESSE        1500\n",
      " **********\n",
      " COVARIANCE MATRIX CALCULATED SUCCESSFULLY\n",
      " FCN=134.19 FROM HESSE     STATUS=OK             16 CALLS          65 TOTAL\n",
      "                     EDM=7.15613e-07    STRATEGY= 1      ERROR MATRIX ACCURATE \n",
      "  EXT PARAMETER                                INTERNAL      INTERNAL  \n",
      "  NO.   NAME      VALUE            ERROR       STEP SIZE       VALUE   \n",
      "   1  f            6.90394e-01   1.01490e-01   3.12047e-04   3.90649e-01\n",
      "   2  m            6.95291e-01   4.98516e-01   7.85557e-05   6.95852e-02\n",
      "   3  s            2.26976e+00   4.75547e-01   1.62320e-04  -5.96397e-01\n",
      "                               ERR DEF= 0.5\n",
      " EXTERNAL ERROR MATRIX.    NDIM=  25    NPAR=  3    ERR DEF=0.5\n",
      "  1.047e-02 -6.221e-03  2.308e-02 \n",
      " -6.221e-03  2.487e-01 -4.490e-02 \n",
      "  2.308e-02 -4.490e-02  2.272e-01 \n",
      " PARAMETER  CORRELATION COEFFICIENTS  \n",
      "       NO.  GLOBAL      1      2      3\n",
      "        1  0.47441   1.000 -0.122  0.473\n",
      "        2  0.19247  -0.122  1.000 -0.189\n",
      "        3  0.49137   0.473 -0.189  1.000\n",
      "[#1] INFO:Minization -- RooMinimizer::optimizeConst: deactivating const optimization\n"
     ]
    }
   ],
   "source": [
    "RooFitResult *r2 = modelc.fitTo(*d, Constrain(f), Save());"
   ]
  },
  {
   "cell_type": "markdown",
   "metadata": {},
   "source": [
    "Method 2 -  specify external constraint when fitting\n",
    " -------------------------------------------------------------------------------------------------------"
   ]
  },
  {
   "cell_type": "markdown",
   "metadata": {},
   "source": [
    "Construct another gaussian constraint p.d.f on parameter f at 0.2 with resolution of 0.1"
   ]
  },
  {
   "cell_type": "code",
   "execution_count": 11,
   "metadata": {
    "collapsed": false
   },
   "outputs": [],
   "source": [
    "RooGaussian fconstext(\"fconstext\", \"fconstext\", f, RooConst(0.2), RooConst(0.1));"
   ]
  },
  {
   "cell_type": "markdown",
   "metadata": {},
   "source": [
    "Fit with external constraint"
   ]
  },
  {
   "cell_type": "code",
   "execution_count": 12,
   "metadata": {
    "collapsed": false
   },
   "outputs": [
    {
     "name": "stdout",
     "output_type": "stream",
     "text": [
      "[#1] INFO:Minization --  Including the following contraint terms in minimization: (fconstext)\n",
      "[#1] INFO:Fitting -- RooAddition::defaultErrorLevel(nll_model_modelData_with_constr) Summation contains a RooNLLVar, using its error level\n",
      "[#1] INFO:Minization -- RooMinimizer::optimizeConst: activating const optimization\n",
      "[#1] INFO:Minization --  The following expressions have been identified as constant and will be precalculated and cached: (poly)\n",
      "[#1] INFO:Minization --  The following expressions will be evaluated in cache-and-track mode: (gauss)\n",
      " **********\n",
      " **   19 **SET PRINT           1\n",
      " **********\n",
      " **********\n",
      " **   20 **SET NOGRAD\n",
      " **********\n",
      " PARAMETER DEFINITIONS:\n",
      "    NO.   NAME         VALUE      STEP SIZE      LIMITS\n",
      "     1 f            6.90394e-01  1.01490e-01    0.00000e+00  1.00000e+00\n",
      "     2 m            6.95291e-01  4.98516e-01   -1.00000e+01  1.00000e+01\n",
      "     3 s            2.26976e+00  4.75547e-01    1.00000e-01  1.00000e+01\n",
      " **********\n",
      " **   21 **SET ERR         0.5\n",
      " **********\n",
      " **********\n",
      " **   22 **SET PRINT           1\n",
      " **********\n",
      " **********\n",
      " **   23 **SET STR           1\n",
      " **********\n",
      " NOW USING STRATEGY  1: TRY TO BALANCE SPEED AGAINST RELIABILITY\n",
      " **********\n",
      " **   24 **MIGRAD        1500           1\n",
      " **********\n",
      " FIRST CALL TO USER FUNCTION AT NEW START POINT, WITH IFLAG=4.\n",
      " START MIGRAD MINIMIZATION.  STRATEGY  1.  CONVERGENCE WHEN EDM .LT. 1.00e-03\n",
      " FCN=145.521 FROM MIGRAD    STATUS=INITIATE       10 CALLS          11 TOTAL\n",
      "                     EDM= unknown      STRATEGY= 1      NO ERROR MATRIX       \n",
      "  EXT PARAMETER               CURRENT GUESS       STEP         FIRST   \n",
      "  NO.   NAME      VALUE            ERROR          SIZE      DERIVATIVE \n",
      "   1  f            6.90394e-01   1.01490e-01   2.22303e-01   2.39366e+01\n",
      "   2  m            6.95291e-01   4.98516e-01   4.99937e-02   4.60680e-03\n",
      "   3  s            2.26976e+00   4.75547e-01   1.16751e-01  -2.63987e-03\n",
      "                               ERR DEF= 0.5\n",
      " MIGRAD MINIMIZATION HAS CONVERGED.\n",
      " MIGRAD WILL VERIFY CONVERGENCE AND ERROR MATRIX.\n",
      " COVARIANCE MATRIX CALCULATED SUCCESSFULLY\n",
      " FCN=137.195 FROM MIGRAD    STATUS=CONVERGED      52 CALLS          53 TOTAL\n",
      "                     EDM=4.81135e-05    STRATEGY= 1      ERROR MATRIX ACCURATE \n",
      "  EXT PARAMETER                                   STEP         FIRST   \n",
      "  NO.   NAME      VALUE            ERROR          SIZE      DERIVATIVE \n",
      "   1  f            3.61995e-01   8.14207e-02   1.26319e-03  -1.14476e-02\n",
      "   2  m            7.06198e-01   5.87858e-01   4.68561e-04   7.19385e-02\n",
      "   3  s            1.70830e+00   4.74684e-01   9.56739e-04   4.09583e-02\n",
      "                               ERR DEF= 0.5\n",
      " EXTERNAL ERROR MATRIX.    NDIM=  25    NPAR=  3    ERR DEF=0.5\n",
      "  6.694e-03  5.868e-03  1.544e-02 \n",
      "  5.868e-03  3.460e-01  4.994e-02 \n",
      "  1.544e-02  4.994e-02  2.266e-01 \n",
      " PARAMETER  CORRELATION COEFFICIENTS  \n",
      "       NO.  GLOBAL      1      2      3\n",
      "        1  0.39975   1.000  0.122  0.396\n",
      "        2  0.18688   0.122  1.000  0.178\n",
      "        3  0.41743   0.396  0.178  1.000\n",
      " **********\n",
      " **   25 **SET ERR         0.5\n",
      " **********\n",
      " **********\n",
      " **   26 **SET PRINT           1\n",
      " **********\n",
      " **********\n",
      " **   27 **HESSE        1500\n",
      " **********\n",
      " COVARIANCE MATRIX CALCULATED SUCCESSFULLY\n",
      " FCN=137.195 FROM HESSE     STATUS=OK             16 CALLS          69 TOTAL\n",
      "                     EDM=4.81665e-05    STRATEGY= 1      ERROR MATRIX ACCURATE \n",
      "  EXT PARAMETER                                INTERNAL      INTERNAL  \n",
      "  NO.   NAME      VALUE            ERROR       STEP SIZE       VALUE   \n",
      "   1  f            3.61995e-01   8.14561e-02   2.52637e-04  -2.79640e-01\n",
      "   2  m            7.06198e-01   5.87996e-01   9.37122e-05   7.06786e-02\n",
      "   3  s            1.70830e+00   4.74927e-01   1.91348e-04  -7.41089e-01\n",
      "                               ERR DEF= 0.5\n",
      " EXTERNAL ERROR MATRIX.    NDIM=  25    NPAR=  3    ERR DEF=0.5\n",
      "  6.700e-03  5.921e-03  1.549e-02 \n",
      "  5.921e-03  3.461e-01  5.029e-02 \n",
      "  1.549e-02  5.029e-02  2.268e-01 \n",
      " PARAMETER  CORRELATION COEFFICIENTS  \n",
      "       NO.  GLOBAL      1      2      3\n",
      "        1  0.40067   1.000  0.123  0.397\n",
      "        2  0.18809   0.123  1.000  0.179\n",
      "        3  0.41846   0.397  0.179  1.000\n",
      "[#1] INFO:Minization -- RooMinimizer::optimizeConst: deactivating const optimization\n"
     ]
    }
   ],
   "source": [
    "RooFitResult *r3 = model.fitTo(*d, ExternalConstraints(fconstext), Save());"
   ]
  },
  {
   "cell_type": "markdown",
   "metadata": {},
   "source": [
    "Print the fit results"
   ]
  },
  {
   "cell_type": "code",
   "execution_count": 13,
   "metadata": {
    "collapsed": false
   },
   "outputs": [
    {
     "name": "stdout",
     "output_type": "stream",
     "text": [
      "fit result without constraint (data generated at f=0.5)\n",
      "\n",
      "  RooFitResult: minimized FCN value: 134.849, estimated distance to minimum: 4.23315e-05\n",
      "                covariance matrix quality: Full, accurate covariance matrix\n",
      "                Status : MINIMIZE=0 HESSE=0 \n",
      "\n",
      "    Floating Parameter  InitialValue    FinalValue +/-  Error     GblCorr.\n",
      "  --------------------  ------------  --------------------------  --------\n",
      "                     f    5.0000e-01    6.4987e-01 +/-  1.21e-01  <none>\n",
      "                     m    0.0000e+00    7.1824e-01 +/-  4.97e-01  <none>\n",
      "                     s    2.0000e+00    2.1880e+00 +/-  4.61e-01  <none>\n",
      "\n",
      "fit result with internal constraint (data generated at f=0.5, constraint is f=0.8+/-0.2)\n",
      "\n",
      "  RooFitResult: minimized FCN value: 134.19, estimated distance to minimum: 7.15613e-07\n",
      "                covariance matrix quality: Full, accurate covariance matrix\n",
      "                Status : MINIMIZE=0 HESSE=0 \n",
      "\n",
      "    Floating Parameter  InitialValue    FinalValue +/-  Error     GblCorr.\n",
      "  --------------------  ------------  --------------------------  --------\n",
      "                     f    6.4987e-01    6.9039e-01 +/-  1.01e-01  <none>\n",
      "                     m    7.1824e-01    6.9529e-01 +/-  4.99e-01  <none>\n",
      "                     s    2.1880e+00    2.2698e+00 +/-  4.76e-01  <none>\n",
      "\n",
      "fit result with (another) external constraint (data generated at f=0.5, constraint is f=0.2+/-0.1)\n",
      "\n",
      "  RooFitResult: minimized FCN value: 137.195, estimated distance to minimum: 4.81665e-05\n",
      "                covariance matrix quality: Full, accurate covariance matrix\n",
      "                Status : MINIMIZE=0 HESSE=0 \n",
      "\n",
      "    Floating Parameter  InitialValue    FinalValue +/-  Error     GblCorr.\n",
      "  --------------------  ------------  --------------------------  --------\n",
      "                     f    6.9039e-01    3.6200e-01 +/-  8.15e-02  <none>\n",
      "                     m    6.9529e-01    7.0620e-01 +/-  5.88e-01  <none>\n",
      "                     s    2.2698e+00    1.7083e+00 +/-  4.75e-01  <none>\n",
      "\n"
     ]
    }
   ],
   "source": [
    "cout << \"fit result without constraint (data generated at f=0.5)\" << endl;\n",
    "r1->Print(\"v\");\n",
    "cout << \"fit result with internal constraint (data generated at f=0.5, constraint is f=0.8+/-0.2)\" << endl;\n",
    "r2->Print(\"v\");\n",
    "cout << \"fit result with (another) external constraint (data generated at f=0.5, constraint is f=0.2+/-0.1)\" << endl;\n",
    "r3->Print(\"v\");"
   ]
  }
 ],
 "metadata": {
  "kernelspec": {
   "display_name": "ROOT C++",
   "language": "c++",
   "name": "root"
  },
  "language_info": {
   "codemirror_mode": "text/x-c++src",
   "file_extension": ".C",
   "mimetype": " text/x-c++src",
   "name": "c++"
  }
 },
 "nbformat": 4,
 "nbformat_minor": 2
}
