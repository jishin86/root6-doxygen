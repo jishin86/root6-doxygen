{
 "cells": [
  {
   "cell_type": "markdown",
   "metadata": {},
   "source": [
    "#  T M V A Cross Validation Regression\n",
    "This macro provides an example of how to use TMVA for k-folds cross\n",
    "evaluation.\n",
    "\n",
    "As input data is used a toy-MC sample consisting of two guassian\n",
    "distributions.\n",
    "\n",
    "The output file \"TMVA.root\" can be analysed with the use of dedicated\n",
    "macros (simply say: root -l <macro.C>), which can be conveniently\n",
    "invoked through a GUI that will appear at the end of the run of this macro.\n",
    "Launch the GUI via the command:\n",
    "\n",
    "```\n",
    "root -l -e 'TMVA::TMVAGui(\"TMVA.root\")'\n",
    "```\n",
    "\n",
    "## Cross Evaluation\n",
    "Cross evaluation is a special case of k-folds cross validation where the\n",
    "splitting into k folds is computed deterministically. This ensures that the\n",
    "a given event will always end up in the same fold.\n",
    "\n",
    "In addition all resulting classifiers are saved and can be applied to new\n",
    "data using `MethodCrossValidation`. One requirement for this to work is a\n",
    "splitting function that is evaluated for each event to determine into what\n",
    "fold it goes (for training/evaluation) or to what classifier (for\n",
    "application).\n",
    "\n",
    "## Split Expression\n",
    "Cross evaluation uses a deterministic split to partition the data into\n",
    "folds called the split expression. The expression can be any valid\n",
    "`TFormula` as long as all parts used are defined.\n",
    "\n",
    "For each event the split expression is evaluated to a number and the event\n",
    "is put in the fold corresponding to that number.\n",
    "\n",
    "It is recommended to always use `%int([NumFolds])` at the end of the\n",
    "expression.\n",
    "\n",
    "The split expression has access to all spectators and variables defined in\n",
    "the dataloader. Additionally, the number of folds in the split can be\n",
    "accessed with `NumFolds` (or `numFolds`).\n",
    "\n",
    "### Example\n",
    " ```\n",
    " \"int(fabs([eventID]))%int([NumFolds])\"\n",
    " ```\n",
    "\n",
    "- Project   : TMVA - a ROOT-integrated toolkit for multivariate data analysis\n",
    "- Package   : TMVA\n",
    "- Root Macro: TMVACrossValidationRegression\n",
    "\n",
    "\n",
    "\n",
    "**Author:** Kim Albertsson (adapted from code originally by Andreas Hoecker)  \n",
    "<i><small>This notebook tutorial was automatically generated with <a href= \"https://github.com/root-project/root/blob/master/documentation/doxygen/converttonotebook.py\">ROOTBOOK-izer</a> from the macro found in the ROOT repository  on Thursday, August 29, 2019 at 03:48 AM.</small></i>"
   ]
  },
  {
   "cell_type": "code",
   "execution_count": 1,
   "metadata": {
    "collapsed": false
   },
   "outputs": [],
   "source": [
    "%%cpp -d\n",
    "#include <cstdlib>\n",
    "#include <iostream>\n",
    "#include <map>\n",
    "#include <string>\n",
    "\n",
    "#include \"TChain.h\"\n",
    "#include \"TFile.h\"\n",
    "#include \"TTree.h\"\n",
    "#include \"TString.h\"\n",
    "#include \"TObjString.h\"\n",
    "#include \"TSystem.h\"\n",
    "#include \"TROOT.h\"\n",
    "\n",
    "#include \"TMVA/Factory.h\"\n",
    "#include \"TMVA/DataLoader.h\"\n",
    "#include \"TMVA/Tools.h\"\n",
    "#include \"TMVA/TMVAGui.h\"\n",
    "#include \"TMVA/CrossValidation.h\""
   ]
  },
  {
   "cell_type": "markdown",
   "metadata": {},
   "source": [
    " A helper function is created: "
   ]
  },
  {
   "cell_type": "code",
   "execution_count": 2,
   "metadata": {
    "collapsed": false
   },
   "outputs": [],
   "source": [
    "%%cpp -d\n",
    "TFile * getDataFile(TString fname) {\n",
    "   TFile *input(0);\n",
    "\n",
    "   if (!gSystem->AccessPathName(fname)) {\n",
    "      input = TFile::Open(fname); // check if file in local directory exists\n",
    "   } else {\n",
    "      // if not: download from ROOT server\n",
    "      TFile::SetCacheFileDir(\".\");\n",
    "      input = TFile::Open(\"http://root.cern.ch/files/tmva_reg_example.root\", \"CACHEREAD\");\n",
    "   }\n",
    "\n",
    "   if (!input) {\n",
    "      std::cout << \"ERROR: could not open data file \" << fname << std::endl;\n",
    "      exit(1);\n",
    "   }\n",
    "\n",
    "   return input;\n",
    "}"
   ]
  },
  {
   "cell_type": "markdown",
   "metadata": {},
   "source": [
    "This loads the library"
   ]
  },
  {
   "cell_type": "code",
   "execution_count": 3,
   "metadata": {
    "collapsed": false
   },
   "outputs": [],
   "source": [
    "TMVA::Tools::Instance();"
   ]
  },
  {
   "cell_type": "markdown",
   "metadata": {},
   "source": [
    "--------------------------------------------------------------------------"
   ]
  },
  {
   "cell_type": "markdown",
   "metadata": {},
   "source": [
    "Create a root output file where tmva will store ntuples, histograms, etc."
   ]
  },
  {
   "cell_type": "code",
   "execution_count": 4,
   "metadata": {
    "collapsed": false
   },
   "outputs": [
    {
     "name": "stderr",
     "output_type": "stream",
     "text": [
      "[TFile::Cp] Total 0.11 MB\t|====================| 100.00 % [38.6 MB/s]\r\n",
      "Info in <TFile::OpenFromCache>: using local cache copy of http://root.cern.ch/files/tmva_reg_example.root [./files/tmva_reg_example.root]\n"
     ]
    }
   ],
   "source": [
    "TString outfileName(\"TMVARegCv.root\");\n",
    "TFile * outputFile = TFile::Open(outfileName, \"RECREATE\");\n",
    "\n",
    "TString infileName(\"./files/tmva_reg_example.root\");\n",
    "TFile * inputFile = getDataFile(infileName);\n",
    "\n",
    "TMVA::DataLoader *dataloader=new TMVA::DataLoader(\"dataset\");\n",
    "\n",
    "dataloader->AddVariable(\"var1\", \"Variable 1\", \"units\", 'F');\n",
    "dataloader->AddVariable(\"var2\", \"Variable 2\", \"units\", 'F');"
   ]
  },
  {
   "cell_type": "markdown",
   "metadata": {},
   "source": [
    "Add the variable carrying the regression target"
   ]
  },
  {
   "cell_type": "code",
   "execution_count": 5,
   "metadata": {
    "collapsed": false
   },
   "outputs": [
    {
     "name": "stdout",
     "output_type": "stream",
     "text": [
      "DataSetInfo              : [dataset] : Added class \"Regression\"\n",
      "                         : Add Tree TreeR of type Regression with 10000 events\n"
     ]
    }
   ],
   "source": [
    "dataloader->AddTarget(\"fvalue\");\n",
    "\n",
    "TTree * regTree = (TTree*)inputFile->Get(\"TreeR\");\n",
    "dataloader->AddRegressionTree(regTree, 1.0);"
   ]
  },
  {
   "cell_type": "markdown",
   "metadata": {},
   "source": [
    "Individual events can be weighted\n",
    " dataloader->SetWeightExpression(\"weight\", \"Regression\");"
   ]
  },
  {
   "cell_type": "code",
   "execution_count": 6,
   "metadata": {
    "collapsed": false
   },
   "outputs": [
    {
     "name": "stdout",
     "output_type": "stream",
     "text": [
      "--- TMVACrossValidationRegression: Using input file: ./files/tmva_reg_example.root\n"
     ]
    }
   ],
   "source": [
    "std::cout << \"--- TMVACrossValidationRegression: Using input file: \" << inputFile->GetName() << std::endl;"
   ]
  },
  {
   "cell_type": "markdown",
   "metadata": {},
   "source": [
    "Bypasses the normal splitting mechanism, cv uses a new system for this.\n",
    " Unfortunately the old system is unhappy if we leave the test set empty so\n",
    " we ensure that there is at least one event by placing the first event in\n",
    " it.\n",
    " You can with the selection cut place a global cut on the defined\n",
    " variables. Only events passing the cut will be using in training/testing.\n",
    " Example: `TCut selectionCut = \"var1 < 1\";`"
   ]
  },
  {
   "cell_type": "code",
   "execution_count": 7,
   "metadata": {
    "collapsed": false
   },
   "outputs": [
    {
     "name": "stdout",
     "output_type": "stream",
     "text": [
      "                         : Dataset[dataset] : Class index : 0  name : Regression\n"
     ]
    }
   ],
   "source": [
    "TCut selectionCut = \"\";\n",
    "dataloader->PrepareTrainingAndTestTree(selectionCut, \"nTest_Regression=1\"\n",
    "                                                     \":SplitMode=Block\"\n",
    "                                                     \":NormMode=NumEvents\"\n",
    "                                                     \":!V\");"
   ]
  },
  {
   "cell_type": "markdown",
   "metadata": {},
   "source": [
    "--------------------------------------------------------------------------"
   ]
  },
  {
   "cell_type": "markdown",
   "metadata": {},
   "source": [
    " This sets up a CrossValidation class (which wraps a TMVA::Factory\n",
    " internally) for 2-fold cross validation. The data will be split into the\n",
    " two folds randomly if `splitExpr` is `\"\"`.\n",
    " \n",
    " One can also give a deterministic split using spectator variables. An\n",
    " example would be e.g. `\"int(fabs([spec1]))%int([NumFolds])\"`."
   ]
  },
  {
   "cell_type": "code",
   "execution_count": 8,
   "metadata": {
    "collapsed": false
   },
   "outputs": [],
   "source": [
    "UInt_t numFolds = 2;\n",
    "TString analysisType = \"Regression\";\n",
    "TString splitExpr = \"\";\n",
    "\n",
    "TString cvOptions = Form(\"!V\"\n",
    "                         \":!Silent\"\n",
    "                         \":ModelPersistence\"\n",
    "                         \":!FoldFileOutput\"\n",
    "                         \":AnalysisType=%s\"\n",
    "                         \":NumFolds=%i\"\n",
    "                         \":SplitExpr=%s\",\n",
    "                         analysisType.Data(), numFolds, splitExpr.Data());\n",
    "\n",
    "TMVA::CrossValidation cv{\"TMVACrossValidationRegression\", dataloader, outputFile, cvOptions};"
   ]
  },
  {
   "cell_type": "markdown",
   "metadata": {},
   "source": [
    "--------------------------------------------------------------------------"
   ]
  },
  {
   "cell_type": "markdown",
   "metadata": {},
   "source": [
    " Books a method to use for evaluation"
   ]
  },
  {
   "cell_type": "code",
   "execution_count": 9,
   "metadata": {
    "collapsed": false
   },
   "outputs": [],
   "source": [
    "cv.BookMethod(TMVA::Types::kBDT, \"BDTG\",\n",
    "              \"!H:!V:NTrees=500:BoostType=Grad:Shrinkage=0.1:\"\n",
    "              \"UseBaggedBoost:BaggedSampleFraction=0.5:nCuts=20:MaxDepth=3\");"
   ]
  },
  {
   "cell_type": "markdown",
   "metadata": {},
   "source": [
    "--------------------------------------------------------------------------"
   ]
  },
  {
   "cell_type": "markdown",
   "metadata": {},
   "source": [
    " Train, test and evaluate the booked methods.\n",
    " Evaluates the booked methods once for each fold and aggregates the result\n",
    " in the specified output file."
   ]
  },
  {
   "cell_type": "code",
   "execution_count": 10,
   "metadata": {
    "collapsed": false
   },
   "outputs": [
    {
     "name": "stdout",
     "output_type": "stream",
     "text": [
      "                         : Evaluate method: BDTG\n",
      "<HEADER> Factory                  : Booking method: BDTG_fold1\n",
      "                         : \n",
      "                         : the option NegWeightTreatment=InverseBoostNegWeights does not exist for BoostType=Grad\n",
      "                         : --> change to new default NegWeightTreatment=Pray\n",
      "                         : Regression Loss Function: Huber\n",
      "                         : Training 500 Decision Trees ... patience please\n",
      "                         : Elapsed time for training with 4999 events: 1.39 sec         \n",
      "                         : Dataset[dataset] : Create results for training\n",
      "                         : Dataset[dataset] : Evaluation of BDTG_fold1 on training sample\n",
      "                         : Dataset[dataset] : Elapsed time for evaluation of 4999 events: 0.218 sec       \n",
      "                         : Create variable histograms\n",
      "                         : Create regression target histograms\n",
      "                         : Create regression average deviation\n",
      "                         : Results created\n",
      "                         : Creating xml weight file: dataset/weights/TMVACrossValidationRegression_BDTG_fold1.weights.xml\n",
      "<HEADER> Factory                  : Test all methods\n",
      "<HEADER> Factory                  : Test method: BDTG_fold1 for Regression performance\n",
      "                         : \n",
      "                         : Dataset[dataset] : Create results for testing\n",
      "                         : Dataset[dataset] : Evaluation of BDTG_fold1 on testing sample\n",
      "                         : Dataset[dataset] : Elapsed time for evaluation of 5000 events: 0.209 sec       \n",
      "                         : Create variable histograms\n",
      "                         : Create regression target histograms\n",
      "                         : Create regression average deviation\n",
      "                         : Results created\n",
      "<HEADER> Factory                  : Evaluate all methods\n",
      "                         : Evaluate regression method: BDTG_fold1\n",
      "                         : TestRegression (testing)\n",
      "                         : Calculate regression for all events\n",
      "                         : Elapsed time for evaluation of 5000 events: 0.204 sec       \n",
      "                         : TestRegression (training)\n",
      "                         : Calculate regression for all events\n",
      "                         : Elapsed time for evaluation of 4999 events: 0.205 sec       \n",
      "                         : \n",
      "                         : Evaluation results ranked by smallest RMS on test sample:\n",
      "                         : (\"Bias\" quotes the mean deviation of the regression from true target.\n",
      "                         :  \"MutInf\" is the \"Mutual Information\" between regression and target.\n",
      "                         :  Indicated by \"_T\" are the corresponding \"truncated\" quantities ob-\n",
      "                         :  tained when removing events deviating more than 2sigma from average.)\n",
      "                         : --------------------------------------------------------------------------------------------------\n",
      "                         : --------------------------------------------------------------------------------------------------\n",
      "                         : dataset              BDTG_fold1     :    0.133   0.0851     2.22     1.67  |  3.123  3.198\n",
      "                         : --------------------------------------------------------------------------------------------------\n",
      "                         : \n",
      "                         : Evaluation results ranked by smallest RMS on training sample:\n",
      "                         : (overtraining check)\n",
      "                         : --------------------------------------------------------------------------------------------------\n",
      "                         : DataSet Name:         MVA Method:        <Bias>   <Bias_T>    RMS    RMS_T  |  MutInf MutInf_T\n",
      "                         : --------------------------------------------------------------------------------------------------\n",
      "                         : dataset              BDTG_fold1     :   0.0474 -0.00861     2.09     1.52  |  3.136  3.206\n",
      "                         : --------------------------------------------------------------------------------------------------\n",
      "                         : \n",
      "<HEADER> Factory                  : Thank you for using TMVA!\n",
      "                         : For citation information, please visit: http://tmva.sf.net/citeTMVA.html\n",
      "<HEADER> Factory                  : Booking method: BDTG_fold2\n",
      "                         : \n",
      "                         : the option NegWeightTreatment=InverseBoostNegWeights does not exist for BoostType=Grad\n",
      "                         : --> change to new default NegWeightTreatment=Pray\n",
      "                         : Regression Loss Function: Huber\n",
      "                         : Training 500 Decision Trees ... patience please\n",
      "                         : Elapsed time for training with 5000 events: 1.38 sec         \n",
      "                         : Dataset[dataset] : Create results for training\n",
      "                         : Dataset[dataset] : Evaluation of BDTG_fold2 on training sample\n",
      "                         : Dataset[dataset] : Elapsed time for evaluation of 5000 events: 0.194 sec       \n",
      "                         : Create variable histograms\n",
      "                         : Create regression target histograms\n",
      "                         : Create regression average deviation\n",
      "                         : Results created\n",
      "                         : Creating xml weight file: dataset/weights/TMVACrossValidationRegression_BDTG_fold2.weights.xml\n",
      "<HEADER> Factory                  : Test all methods\n",
      "<HEADER> Factory                  : Test method: BDTG_fold2 for Regression performance\n",
      "                         : \n",
      "                         : Dataset[dataset] : Create results for testing\n",
      "                         : Dataset[dataset] : Evaluation of BDTG_fold2 on testing sample\n",
      "                         : Dataset[dataset] : Elapsed time for evaluation of 4999 events: 0.201 sec       \n",
      "                         : Create variable histograms\n",
      "                         : Create regression target histograms\n",
      "                         : Create regression average deviation\n",
      "                         : Results created\n",
      "<HEADER> Factory                  : Evaluate all methods\n",
      "                         : Evaluate regression method: BDTG_fold2\n",
      "                         : TestRegression (testing)\n",
      "                         : Calculate regression for all events\n",
      "                         : Elapsed time for evaluation of 4999 events: 0.192 sec       \n",
      "                         : TestRegression (training)\n",
      "                         : Calculate regression for all events\n",
      "                         : Elapsed time for evaluation of 5000 events: 0.207 sec       \n",
      "                         : \n",
      "                         : Evaluation results ranked by smallest RMS on test sample:\n",
      "                         : (\"Bias\" quotes the mean deviation of the regression from true target.\n",
      "                         :  \"MutInf\" is the \"Mutual Information\" between regression and target.\n",
      "                         :  Indicated by \"_T\" are the corresponding \"truncated\" quantities ob-\n",
      "                         :  tained when removing events deviating more than 2sigma from average.)\n",
      "                         : --------------------------------------------------------------------------------------------------\n",
      "                         : --------------------------------------------------------------------------------------------------\n",
      "                         : dataset              BDTG_fold2     :  -0.0428  -0.0362     2.33     1.72  |  3.109  3.188\n",
      "                         : --------------------------------------------------------------------------------------------------\n",
      "                         : \n",
      "                         : Evaluation results ranked by smallest RMS on training sample:\n",
      "                         : (overtraining check)\n",
      "                         : --------------------------------------------------------------------------------------------------\n",
      "                         : DataSet Name:         MVA Method:        <Bias>   <Bias_T>    RMS    RMS_T  |  MutInf MutInf_T\n",
      "                         : --------------------------------------------------------------------------------------------------\n",
      "                         : dataset              BDTG_fold2     :  0.00417   0.0137     2.05     1.51  |  3.145  3.215\n",
      "                         : --------------------------------------------------------------------------------------------------\n",
      "                         : \n",
      "<HEADER> Factory                  : Thank you for using TMVA!\n",
      "                         : For citation information, please visit: http://tmva.sf.net/citeTMVA.html\n",
      "<HEADER> Factory                  : Booking method: BDTG\n",
      "                         : \n",
      "                         : Reading weightfile: dataset/weights/TMVACrossValidationRegression_BDTG_fold1.weights.xml\n",
      "                         : Reading weight file: dataset/weights/TMVACrossValidationRegression_BDTG_fold1.weights.xml\n",
      "                         : Reading weightfile: dataset/weights/TMVACrossValidationRegression_BDTG_fold2.weights.xml\n",
      "                         : Reading weight file: dataset/weights/TMVACrossValidationRegression_BDTG_fold2.weights.xml\n",
      "<HEADER> Factory                  : [dataset] : Create Transformation \"I\" with events from all classes.\n",
      "                         : \n",
      "<HEADER>                          : Transformation, Variable selection : \n",
      "                         : Input : variable 'var1' <---> Output : variable 'var1'\n",
      "                         : Input : variable 'var2' <---> Output : variable 'var2'\n",
      "<HEADER> TFHandler_Factory        : Variable        Mean        RMS   [        Min        Max ]\n",
      "                         : -----------------------------------------------------------\n",
      "                         :     var1:     2.4948     1.4515   [ 0.00020069     5.0000 ]\n",
      "                         :     var2:     2.4837     1.4409   [ 0.00071490     5.0000 ]\n",
      "                         :   fvalue:     134.53     84.778   [     1.6186     394.84 ]\n",
      "                         : -----------------------------------------------------------\n",
      "                         : Ranking input variables (method unspecific)...\n",
      "<HEADER> IdTransformation         : Ranking result (top variable is best ranked)\n",
      "                         : --------------------------------------------\n",
      "                         : Rank : Variable  : |Correlation with target|\n",
      "                         : --------------------------------------------\n",
      "                         :    1 : var2      : 7.607e-01\n",
      "                         :    2 : var1      : 5.995e-01\n",
      "                         : --------------------------------------------\n",
      "<HEADER> IdTransformation         : Ranking result (top variable is best ranked)\n",
      "                         : -------------------------------------\n",
      "                         : Rank : Variable  : Mutual information\n",
      "                         : -------------------------------------\n",
      "                         :    1 : var1      : 2.253e+00\n",
      "                         :    2 : var2      : 2.100e+00\n",
      "                         : -------------------------------------\n",
      "<HEADER> IdTransformation         : Ranking result (top variable is best ranked)\n",
      "                         : ------------------------------------\n",
      "                         : Rank : Variable  : Correlation Ratio\n",
      "                         : ------------------------------------\n",
      "                         :    1 : var2      : 2.458e+00\n",
      "                         :    2 : var1      : 2.336e+00\n",
      "                         : ------------------------------------\n",
      "<HEADER> IdTransformation         : Ranking result (top variable is best ranked)\n",
      "                         : ----------------------------------------\n",
      "                         : Rank : Variable  : Correlation Ratio (T)\n",
      "                         : ----------------------------------------\n",
      "                         :    1 : var1      : 5.362e-01\n",
      "                         :    2 : var2      : 5.109e-01\n",
      "                         : ----------------------------------------\n",
      "                         : Elapsed time for training with 9999 events: 5.25e-06 sec         \n",
      "                         : Dataset[dataset] : Create results for training\n",
      "                         : Dataset[dataset] : Evaluation of BDTG on training sample\n",
      "                         : Dataset[dataset] : Elapsed time for evaluation of 9999 events: 0.368 sec       \n",
      "                         : Create variable histograms\n",
      "                         : Create regression target histograms\n",
      "                         : Create regression average deviation\n",
      "                         : Results created\n",
      "                         : Creating xml weight file: dataset/weights/TMVACrossValidationRegression_BDTG.weights.xml\n",
      "<HEADER> Factory                  : Test all methods\n",
      "<HEADER> Factory                  : Test method: BDTG for Regression performance\n",
      "                         : \n",
      "                         : Dataset[dataset] : Create results for testing\n",
      "                         : Dataset[dataset] : Evaluation of BDTG on testing sample\n",
      "                         : Dataset[dataset] : Elapsed time for evaluation of 9999 events: 0.347 sec       \n",
      "                         : Create variable histograms\n",
      "                         : Create regression target histograms\n",
      "                         : Create regression average deviation\n",
      "                         : Results created\n",
      "<HEADER> Factory                  : Evaluate all methods\n",
      "                         : Evaluate regression method: BDTG\n",
      "                         : TestRegression (testing)\n",
      "                         : Calculate regression for all events\n",
      "                         : Elapsed time for evaluation of 9999 events: 0.345 sec       \n",
      "                         : TestRegression (training)\n",
      "                         : Calculate regression for all events\n",
      "                         : Elapsed time for evaluation of 9999 events: 0.359 sec       \n",
      "<HEADER> TFHandler_BDTG           : Variable        Mean        RMS   [        Min        Max ]\n",
      "                         : -----------------------------------------------------------\n",
      "                         :     var1:     2.4948     1.4515   [ 0.00020069     5.0000 ]\n",
      "                         :     var2:     2.4837     1.4409   [ 0.00071490     5.0000 ]\n",
      "                         :   fvalue:     134.53     84.778   [     1.6186     394.84 ]\n",
      "                         : -----------------------------------------------------------\n",
      "                         : \n",
      "                         : Evaluation results ranked by smallest RMS on test sample:\n",
      "                         : (\"Bias\" quotes the mean deviation of the regression from true target.\n",
      "                         :  \"MutInf\" is the \"Mutual Information\" between regression and target.\n",
      "                         :  Indicated by \"_T\" are the corresponding \"truncated\" quantities ob-\n",
      "                         :  tained when removing events deviating more than 2sigma from average.)\n",
      "                         : --------------------------------------------------------------------------------------------------\n",
      "                         : --------------------------------------------------------------------------------------------------\n",
      "                         : dataset              BDTG           :   0.0449   0.0259     2.28     1.70  |  3.108  3.190\n",
      "                         : --------------------------------------------------------------------------------------------------\n",
      "                         : \n",
      "                         : Evaluation results ranked by smallest RMS on training sample:\n",
      "                         : (overtraining check)\n",
      "                         : --------------------------------------------------------------------------------------------------\n",
      "                         : DataSet Name:         MVA Method:        <Bias>   <Bias_T>    RMS    RMS_T  |  MutInf MutInf_T\n",
      "                         : --------------------------------------------------------------------------------------------------\n",
      "                         : dataset              BDTG           :   0.0449   0.0259     2.28     1.70  |  3.108  3.190\n",
      "                         : --------------------------------------------------------------------------------------------------\n",
      "                         : \n",
      "<HEADER> Dataset:dataset          : Created tree 'TestTree' with 9999 events\n",
      "                         : \n",
      "<HEADER> Dataset:dataset          : Created tree 'TrainTree' with 9999 events\n",
      "                         : \n",
      "<HEADER> Factory                  : Thank you for using TMVA!\n",
      "                         : For citation information, please visit: http://tmva.sf.net/citeTMVA.html\n",
      "                         : Evaluation done.\n"
     ]
    }
   ],
   "source": [
    "cv.Evaluate();"
   ]
  },
  {
   "cell_type": "markdown",
   "metadata": {},
   "source": [
    "--------------------------------------------------------------------------"
   ]
  },
  {
   "cell_type": "markdown",
   "metadata": {},
   "source": [
    " Save the output"
   ]
  },
  {
   "cell_type": "code",
   "execution_count": 11,
   "metadata": {
    "collapsed": false
   },
   "outputs": [
    {
     "name": "stdout",
     "output_type": "stream",
     "text": [
      "==> Wrote root file: TMVARegCv.root\n",
      "==> TMVACrossValidationRegression is done!\n"
     ]
    }
   ],
   "source": [
    "outputFile->Close();\n",
    "\n",
    "std::cout << \"==> Wrote root file: \" << outputFile->GetName() << std::endl;\n",
    "std::cout << \"==> TMVACrossValidationRegression is done!\" << std::endl;"
   ]
  },
  {
   "cell_type": "markdown",
   "metadata": {},
   "source": [
    "--------------------------------------------------------------------------"
   ]
  },
  {
   "cell_type": "markdown",
   "metadata": {},
   "source": [
    " Launch the GUI for the root macros"
   ]
  },
  {
   "cell_type": "code",
   "execution_count": 12,
   "metadata": {
    "collapsed": false
   },
   "outputs": [],
   "source": [
    "if (!gROOT->IsBatch()) {\n",
    "   TMVA::TMVAGui(outfileName);\n",
    "}\n",
    "\n",
    "return 0;"
   ]
  }
 ],
 "metadata": {
  "kernelspec": {
   "display_name": "ROOT C++",
   "language": "c++",
   "name": "root"
  },
  "language_info": {
   "codemirror_mode": "text/x-c++src",
   "file_extension": ".C",
   "mimetype": " text/x-c++src",
   "name": "c++"
  }
 },
 "nbformat": 4,
 "nbformat_minor": 2
}
