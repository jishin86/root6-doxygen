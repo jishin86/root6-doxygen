{
 "cells": [
  {
   "cell_type": "markdown",
   "metadata": {},
   "source": [
    "# Ntpl 0 0 2_Vector\n",
    "Write and read STL vectors with RNTuple.  Adapted from the hvector tree tutorial.\n",
    "\n",
    "\n",
    "\n",
    "\n",
    "**Author:** The ROOT Team  \n",
    "<i><small>This notebook tutorial was automatically generated with <a href= \"https://github.com/root-project/root/blob/master/documentation/doxygen/converttonotebook.py\">ROOTBOOK-izer</a> from the macro found in the ROOT repository  on Thursday, August 29, 2019 at 04:05 AM.</small></i>"
   ]
  },
  {
   "cell_type": "markdown",
   "metadata": {},
   "source": [
    "Note: the rntuple classes are experimental at this point.\n",
    " Functionality, interface, and data format is still subject to changes.\n",
    " Do not use for real data!"
   ]
  },
  {
   "cell_type": "code",
   "execution_count": 1,
   "metadata": {
    "collapsed": false
   },
   "outputs": [
    {
     "name": "stderr",
     "output_type": "stream",
     "text": [
      "input_line_26:1:10: fatal error: 'ROOT/RNTuple.hxx' file not found\n",
      "#include <ROOT/RNTuple.hxx>\n",
      "         ^~~~~~~~~~~~~~~~~~\n"
     ]
    }
   ],
   "source": [
    "%%cpp -d\n",
    "#include <ROOT/RNTuple.hxx>\n",
    "#include <ROOT/RNTupleModel.hxx>\n",
    "\n",
    "#include <TCanvas.h>\n",
    "#include <TH1F.h>\n",
    "#include <TRandom.h>\n",
    "#include <TSystem.h>\n",
    "\n",
    "#include <cstdio>\n",
    "#include <iostream>\n",
    "#include <memory>\n",
    "#include <vector>\n",
    "#include <utility>"
   ]
  },
  {
   "cell_type": "markdown",
   "metadata": {},
   "source": [
    "Import classes from experimental namespace for the time being"
   ]
  },
  {
   "cell_type": "code",
   "execution_count": 2,
   "metadata": {
    "collapsed": false
   },
   "outputs": [
    {
     "name": "stderr",
     "output_type": "stream",
     "text": [
      "input_line_27:1:42: error: no type named 'RNTupleModel' in namespace 'ROOT::Experimental'\n",
      "using RNTupleModel = ROOT::Experimental::RNTupleModel;void __cling_Un1Qu32(void* vpClingValue) {\n",
      "                     ~~~~~~~~~~~~~~~~~~~~^\n",
      "input_line_27:3:43: error: no type named 'RNTupleReader' in namespace 'ROOT::Experimental'\n",
      "using RNTupleReader = ROOT::Experimental::RNTupleReader;\n",
      "                      ~~~~~~~~~~~~~~~~~~~~^\n",
      "input_line_27:4:43: error: no type named 'RNTupleWriter' in namespace 'ROOT::Experimental'\n",
      "using RNTupleWriter = ROOT::Experimental::RNTupleWriter;\n",
      "                      ~~~~~~~~~~~~~~~~~~~~^\n"
     ]
    }
   ],
   "source": [
    "using RNTupleModel = ROOT::Experimental::RNTupleModel;\n",
    "using RNTupleReader = ROOT::Experimental::RNTupleReader;\n",
    "using RNTupleWriter = ROOT::Experimental::RNTupleWriter;"
   ]
  },
  {
   "cell_type": "markdown",
   "metadata": {},
   "source": [
    "Where to store the ntuple of this example"
   ]
  },
  {
   "cell_type": "code",
   "execution_count": 3,
   "metadata": {
    "collapsed": false
   },
   "outputs": [],
   "source": [
    "constexpr char const* kNTupleFileName = \"ntpl002_vector.root\";"
   ]
  },
  {
   "cell_type": "markdown",
   "metadata": {},
   "source": [
    "Update the histogram gui every so many fills"
   ]
  },
  {
   "cell_type": "code",
   "execution_count": 4,
   "metadata": {
    "collapsed": false
   },
   "outputs": [],
   "source": [
    "constexpr int kUpdateGuiFreq = 1000;"
   ]
  },
  {
   "cell_type": "markdown",
   "metadata": {},
   "source": [
    "Number of events to generate"
   ]
  },
  {
   "cell_type": "code",
   "execution_count": 5,
   "metadata": {
    "collapsed": false
   },
   "outputs": [],
   "source": [
    "constexpr int kNEvents = 25000;"
   ]
  },
  {
   "cell_type": "markdown",
   "metadata": {},
   "source": [
    "  Generate kNEvents with vectors in kNTupleFileName\n",
    " "
   ]
  },
  {
   "cell_type": "code",
   "execution_count": 6,
   "metadata": {
    "collapsed": false
   },
   "outputs": [
    {
     "name": "stderr",
     "output_type": "stream",
     "text": [
      "input_line_35:4:17: error: use of undeclared identifier 'RNTupleModel'\n",
      "   auto model = RNTupleModel::Create();\n",
      "                ^\n",
      "input_line_35:8:84: error: expected '(' for function-style cast or type construction\n",
      "   std::shared_ptr<std::vector<float>> fldVpx = model->MakeField<std::vector<float>>(\"vpx\");\n",
      "                                                                 ~~~~~~~~~~~~~~~~~~^\n",
      "input_line_35:9:55: error: expected '(' for function-style cast or type construction\n",
      "   auto fldVpy   = model->MakeField<std::vector<float>>(\"vpy\");\n",
      "                                    ~~~~~~~~~~~~~~~~~~^\n",
      "input_line_35:10:55: error: expected '(' for function-style cast or type construction\n",
      "   auto fldVpz   = model->MakeField<std::vector<float>>(\"vpz\");\n",
      "                                    ~~~~~~~~~~~~~~~~~~^\n",
      "input_line_35:11:55: error: expected '(' for function-style cast or type construction\n",
      "   auto fldVrand = model->MakeField<std::vector<float>>(\"vrand\");\n",
      "                                    ~~~~~~~~~~~~~~~~~~^\n",
      "input_line_35:15:18: error: use of undeclared identifier 'RNTupleWriter'\n",
      "   auto ntuple = RNTupleWriter::Recreate(std::move(model), \"F\", kNTupleFileName);\n",
      "                 ^\n"
     ]
    }
   ],
   "source": [
    "%%cpp -d\n",
    "void Write()\n",
    "{\n",
    "   // We create a unique pointer to an empty data model\n",
    "   auto model = RNTupleModel::Create();\n",
    "\n",
    "   // Creating fields of std::vector is the same as creating fields of simple types.  As a result, we get\n",
    "   // shared pointers of the given type\n",
    "   std::shared_ptr<std::vector<float>> fldVpx = model->MakeField<std::vector<float>>(\"vpx\");\n",
    "   auto fldVpy   = model->MakeField<std::vector<float>>(\"vpy\");\n",
    "   auto fldVpz   = model->MakeField<std::vector<float>>(\"vpz\");\n",
    "   auto fldVrand = model->MakeField<std::vector<float>>(\"vrand\");\n",
    "\n",
    "   // We hand-over the data model to a newly created ntuple of name \"F\", stored in kNTupleFileName\n",
    "   // In return, we get a unique pointer to an ntuple that we can fill\n",
    "   auto ntuple = RNTupleWriter::Recreate(std::move(model), \"F\", kNTupleFileName);\n",
    "\n",
    "   TH1F hpx(\"hpx\", \"This is the px distribution\", 100, -4, 4);\n",
    "   hpx.SetFillColor(48);\n",
    "\n",
    "   auto c1 = new TCanvas(\"c1\", \"Dynamic Filling Example\", 200, 10, 700, 500);\n",
    "\n",
    "   gRandom->SetSeed();\n",
    "   for (int i = 0; i < kNEvents; i++) {\n",
    "      int npx = static_cast<int>(gRandom->Rndm(1) * 15);\n",
    "\n",
    "      fldVpx->clear();\n",
    "      fldVpy->clear();\n",
    "      fldVpz->clear();\n",
    "      fldVrand->clear();\n",
    "\n",
    "      // Set the field data for the current event\n",
    "      for (int j = 0; j < npx; ++j) {\n",
    "         float px, py, pz;\n",
    "         gRandom->Rannor(px, py);\n",
    "         pz = px*px + py*py;\n",
    "         auto random = gRandom->Rndm(1);\n",
    "\n",
    "         hpx.Fill(px);\n",
    "\n",
    "         fldVpx->emplace_back(px);\n",
    "         fldVpy->emplace_back(py);\n",
    "         fldVpz->emplace_back(pz);\n",
    "         fldVrand->emplace_back(random);\n",
    "      }\n",
    "\n",
    "      // Gui updates\n",
    "      if (i && (i % kUpdateGuiFreq) == 0) {\n",
    "         if (i == kUpdateGuiFreq) hpx.Draw();\n",
    "         c1->Modified();\n",
    "         c1->Update();\n",
    "         if (gSystem->ProcessEvents())\n",
    "            break;\n",
    "      }\n",
    "\n",
    "      ntuple->Fill();\n",
    "   }\n",
    "\n",
    "   hpx.DrawCopy();\n",
    "\n",
    "   // The ntuple unique pointer goes out of scope here.  On destruction, the ntuple flushes unwritten data to disk\n",
    "   // and closes the attached ROOT file.\n",
    "}"
   ]
  },
  {
   "cell_type": "markdown",
   "metadata": {},
   "source": [
    "  For all of the events, histogram only one of the written vectors\n",
    " "
   ]
  },
  {
   "cell_type": "code",
   "execution_count": 7,
   "metadata": {
    "collapsed": false
   },
   "outputs": [
    {
     "name": "stderr",
     "output_type": "stream",
     "text": [
      "input_line_36:4:17: error: use of undeclared identifier 'RNTupleModel'\n",
      "   auto model = RNTupleModel::Create();\n",
      "                ^\n",
      "input_line_36:7:53: error: expected '(' for function-style cast or type construction\n",
      "   auto fldVpx = model->MakeField<std::vector<float>>(\"vpx\");\n",
      "                                  ~~~~~~~~~~~~~~~~~~^\n",
      "input_line_36:11:18: error: use of undeclared identifier 'RNTupleReader'\n",
      "   auto ntuple = RNTupleReader::Open(std::move(model), \"F\", kNTupleFileName);\n",
      "                 ^\n"
     ]
    }
   ],
   "source": [
    "%%cpp -d\n",
    "void Read()\n",
    "{\n",
    "   // Get a unique pointer to an empty RNTuple model\n",
    "   auto model = RNTupleModel::Create();\n",
    "\n",
    "   // We only define the fields that are needed for reading\n",
    "   auto fldVpx = model->MakeField<std::vector<float>>(\"vpx\");\n",
    "\n",
    "   // Create an ntuple without imposing a specific data model.  We could generate the data model from the ntuple\n",
    "   // but here we prefer the view because we only want to access a single field\n",
    "   auto ntuple = RNTupleReader::Open(std::move(model), \"F\", kNTupleFileName);\n",
    "\n",
    "   // Quick overview of the ntuple's key meta-data\n",
    "   std::cout << ntuple->GetInfo();\n",
    "   // In a future version of RNTuple, there will be support for ntuple->Show() and ntuple->Scan()\n",
    "\n",
    "   TCanvas *c2 = new TCanvas(\"c2\", \"Dynamic Filling Example\", 200, 10, 700, 500);\n",
    "   TH1F h(\"h\", \"This is the px distribution\", 100, -4, 4);\n",
    "   h.SetFillColor(48);\n",
    "\n",
    "   // Iterate through all the events using i as event number and as an index for accessing the view\n",
    "   for (auto entryId : *ntuple) {\n",
    "      ntuple->LoadEntry(entryId);\n",
    "\n",
    "      for (auto px : *fldVpx) {\n",
    "         h.Fill(px);\n",
    "      }\n",
    "\n",
    "      if (entryId && (entryId % kUpdateGuiFreq) == 0) {\n",
    "         if (entryId == kUpdateGuiFreq) h.Draw();\n",
    "         c2->Modified();\n",
    "         c2->Update();\n",
    "         if (gSystem->ProcessEvents())\n",
    "            break;\n",
    "      }\n",
    "   }\n",
    "\n",
    "   // Prevent the histogram from disappearing\n",
    "   h.DrawCopy();\n",
    "}"
   ]
  },
  {
   "cell_type": "code",
   "execution_count": 8,
   "metadata": {
    "collapsed": false
   },
   "outputs": [
    {
     "name": "stderr",
     "output_type": "stream",
     "text": [
      "input_line_38:2:3: error: use of undeclared identifier 'Write'\n",
      " (Write())\n",
      "  ^\n",
      "Error in <HandleInterpreterException>: Error evaluating expression (Write()).\n",
      "Execution of your code was aborted.\n"
     ]
    }
   ],
   "source": [
    "Write();\n",
    "Read();"
   ]
  },
  {
   "cell_type": "markdown",
   "metadata": {},
   "source": [
    "Draw all canvases "
   ]
  },
  {
   "cell_type": "code",
   "execution_count": 9,
   "metadata": {
    "collapsed": false
   },
   "outputs": [],
   "source": [
    "gROOT->GetListOfCanvases()->Draw()"
   ]
  }
 ],
 "metadata": {
  "kernelspec": {
   "display_name": "ROOT C++",
   "language": "c++",
   "name": "root"
  },
  "language_info": {
   "codemirror_mode": "text/x-c++src",
   "file_extension": ".C",
   "mimetype": " text/x-c++src",
   "name": "c++"
  }
 },
 "nbformat": 4,
 "nbformat_minor": 2
}
