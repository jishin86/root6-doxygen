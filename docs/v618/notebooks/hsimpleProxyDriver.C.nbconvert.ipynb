{
 "cells": [
  {
   "cell_type": "markdown",
   "metadata": {},
   "source": [
    "# Hsimple Proxy Driver\n",
    "This is the driver of the hsimpleProxy example\n",
    "It provides the infrastructure to run that code on an ntuple\n",
    "To be run from the tutorials directory\n",
    "\n",
    "\n",
    "\n",
    "\n",
    "**Author:** Rene Brun  \n",
    "<i><small>This notebook tutorial was automatically generated with <a href= \"https://github.com/root-project/root/blob/master/documentation/doxygen/converttonotebook.py\">ROOTBOOK-izer</a> from the macro found in the ROOT repository  on Thursday, August 29, 2019 at 03:54 AM.</small></i>"
   ]
  },
  {
   "cell_type": "code",
   "execution_count": 1,
   "metadata": {
    "collapsed": false
   },
   "outputs": [
    {
     "name": "stdout",
     "output_type": "stream",
     "text": [
      "/mnt/build/workspace/root-makedoc-v618/rootspi/rdoc/v618_TMP/notebooks\n"
     ]
    },
    {
     "name": "stderr",
     "output_type": "stream",
     "text": [
      "Error in <TTreeFormula::Compile>:  Invalid Syntax \"+\"\n",
      "Info in <TSelectorDraw::AbortProcess>: Variable compilation failed: {input_line_26/hsimpleProxy.C+,}\n"
     ]
    }
   ],
   "source": [
    "std::cout << gSystem->WorkingDirectory() << std::endl;\n",
    "TFile *file = TFile::Open(\"hsimple.root\");\n",
    "if (!file){\n",
    "   std::cerr << \"Input file not found.\\n\";\n",
    "   return ;\n",
    "}\n",
    "TTree *ntuple = nullptr;\n",
    "file->GetObject(\"ntuple\",ntuple);\n",
    "std::string s1(__FILE__);\n",
    "TString dir = gSystem->UnixPathName(s1.substr(0, s1.find_last_of(\"\\\\/\")).c_str());\n",
    "ntuple->Draw(dir+\"/hsimpleProxy.C+\");"
   ]
  }
 ],
 "metadata": {
  "kernelspec": {
   "display_name": "ROOT C++",
   "language": "c++",
   "name": "root"
  },
  "language_info": {
   "codemirror_mode": "text/x-c++src",
   "file_extension": ".C",
   "mimetype": " text/x-c++src",
   "name": "c++"
  }
 },
 "nbformat": 4,
 "nbformat_minor": 2
}
