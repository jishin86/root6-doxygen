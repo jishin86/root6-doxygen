{
 "cells": [
  {
   "cell_type": "markdown",
   "metadata": {},
   "source": [
    "# Vo 0 0 1_ Adopt Or Own Memory\n",
    "In this tutorial we learn how the RVec class can be used to\n",
    "adopt existing memory or allocate some.\n",
    "\n",
    "\n",
    "\n",
    "\n",
    "**Author:** Danilo Piparo  \n",
    "<i><small>This notebook tutorial was automatically generated with <a href= \"https://github.com/root-project/root/blob/master/documentation/doxygen/converttonotebook.py\">ROOTBOOK-izer</a> from the macro found in the ROOT repository  on Thursday, August 29, 2019 at 04:06 AM.</small></i>"
   ]
  },
  {
   "cell_type": "code",
   "execution_count": 1,
   "metadata": {
    "collapsed": false
   },
   "outputs": [
    {
     "name": "stdout",
     "output_type": "stream",
     "text": [
      "Welcome to JupyROOT 6.18/03\n"
     ]
    }
   ],
   "source": [
    "import ROOT"
   ]
  },
  {
   "cell_type": "markdown",
   "metadata": {},
   "source": [
    "We use this class for didactic purposes: upon copy, a line is printed to the terminal."
   ]
  },
  {
   "cell_type": "code",
   "execution_count": 2,
   "metadata": {
    "collapsed": false
   },
   "outputs": [],
   "source": [
    "ROOT.gInterpreter.Declare('''\n",
    "class UponCopyPrinter {\n",
    "public:\n",
    "   UponCopyPrinter() = default;\n",
    "   UponCopyPrinter(UponCopyPrinter &&) = default;\n",
    "   UponCopyPrinter(const UponCopyPrinter &) { std::cout << \"Invoking copy c'tor!\" << std::endl; }\n",
    "};\n",
    "''')\n",
    "\n",
    "RVec_UponCopyPrinter = ROOT.ROOT.VecOps.RVec(ROOT.UponCopyPrinter)"
   ]
  },
  {
   "cell_type": "markdown",
   "metadata": {},
   "source": [
    "One of the essential features of RVec is its ability of adopting and owning memory.\n",
    "Internally this is handled by the ROOT::Detail::VecOps::RAdoptAllocator class."
   ]
  },
  {
   "cell_type": "markdown",
   "metadata": {},
   "source": [
    "Let's create an RVec of UponCopyPrinter instances. We expect no printout:"
   ]
  },
  {
   "cell_type": "code",
   "execution_count": 3,
   "metadata": {
    "collapsed": false
   },
   "outputs": [],
   "source": [
    "v = RVec_UponCopyPrinter(3)"
   ]
  },
  {
   "cell_type": "markdown",
   "metadata": {},
   "source": [
    "Let's adopt the memory from v into v2. We expect no printout:"
   ]
  },
  {
   "cell_type": "code",
   "execution_count": 4,
   "metadata": {
    "collapsed": false
   },
   "outputs": [],
   "source": [
    "v2 = RVec_UponCopyPrinter(v.data(), v.size())"
   ]
  },
  {
   "cell_type": "markdown",
   "metadata": {},
   "source": [
    "OK, let's check the addresses of the memory associated to the two RVecs It is the same!"
   ]
  },
  {
   "cell_type": "code",
   "execution_count": 5,
   "metadata": {
    "collapsed": false
   },
   "outputs": [
    {
     "name": "stdout",
     "output_type": "stream",
     "text": [
      "<ROOT.UponCopyPrinter object at 0x557c080fcd40> and <ROOT.UponCopyPrinter object at 0x557c080fcd40>\n"
     ]
    }
   ],
   "source": [
    "print(\"%s and %s\" %(v.data(), v2.data()))"
   ]
  },
  {
   "cell_type": "markdown",
   "metadata": {},
   "source": [
    "Now, upon reallocation, the RVec stops adopting the memory and starts owning it. And yes,\n",
    "a copy is triggered. Indeed internally the storage of the RVec is an std::vector. Moreover,\n",
    "the interface of the TVec is very, very similar to the one of std::vector: you have already\n",
    "noticed it when the `data()` method was invoked, right?"
   ]
  },
  {
   "cell_type": "code",
   "execution_count": 6,
   "metadata": {
    "collapsed": false
   },
   "outputs": [
    {
     "name": "stdout",
     "output_type": "stream",
     "text": [
      "Invoking copy c'tor!\n",
      "Invoking copy c'tor!\n",
      "Invoking copy c'tor!\n"
     ]
    }
   ],
   "source": [
    "v2.resize(4)"
   ]
  },
  {
   "cell_type": "markdown",
   "metadata": {},
   "source": [
    "Of course, now the addresses are different."
   ]
  },
  {
   "cell_type": "code",
   "execution_count": 7,
   "metadata": {
    "collapsed": false
   },
   "outputs": [
    {
     "name": "stdout",
     "output_type": "stream",
     "text": [
      "<ROOT.UponCopyPrinter object at 0x557c080fcd40> and <ROOT.UponCopyPrinter object at 0x557c081dfd50>\n"
     ]
    }
   ],
   "source": [
    "print(\"%s and %s\" %(v.data(), v2.data()))"
   ]
  }
 ],
 "metadata": {
  "kernelspec": {
   "display_name": "Python 2",
   "language": "python",
   "name": "python2"
  },
  "language_info": {
   "codemirror_mode": {
    "name": "ipython",
    "version": 2
   },
   "file_extension": ".py",
   "mimetype": "text/x-python",
   "name": "python",
   "nbconvert_exporter": "python",
   "pygments_lexer": "ipython2",
   "version": "2.7.10"
  }
 },
 "nbformat": 4,
 "nbformat_minor": 2
}
