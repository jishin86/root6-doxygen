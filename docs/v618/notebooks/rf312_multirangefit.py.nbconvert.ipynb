{
 "cells": [
  {
   "cell_type": "markdown",
   "metadata": {},
   "source": [
    "# Rf 3 1 2_Multirangefit\n",
    "\n",
    "Multidimensional models: performing fits in multiple (disjoint) ranges in one or more dimensions\n",
    "\n",
    "\n",
    "\n",
    "\n",
    "**Author:** Clemens Lange, Wouter Verkerke (C++ version)  \n",
    "<i><small>This notebook tutorial was automatically generated with <a href= \"https://github.com/root-project/root/blob/master/documentation/doxygen/converttonotebook.py\">ROOTBOOK-izer</a> from the macro found in the ROOT repository  on Thursday, August 29, 2019 at 02:50 AM.</small></i>"
   ]
  },
  {
   "cell_type": "code",
   "execution_count": 1,
   "metadata": {
    "collapsed": false
   },
   "outputs": [
    {
     "name": "stdout",
     "output_type": "stream",
     "text": [
      "Welcome to JupyROOT 6.18/03\n"
     ]
    }
   ],
   "source": [
    "import ROOT"
   ]
  },
  {
   "cell_type": "markdown",
   "metadata": {},
   "source": [
    "Create 2D pdf and data\n",
    "-------------------------------------------"
   ]
  },
  {
   "cell_type": "markdown",
   "metadata": {},
   "source": [
    "Define observables x,y"
   ]
  },
  {
   "cell_type": "code",
   "execution_count": 2,
   "metadata": {
    "collapsed": false
   },
   "outputs": [
    {
     "name": "stdout",
     "output_type": "stream",
     "text": [
      "\n",
      "\u001b[1mRooFit v3.60 -- Developed by Wouter Verkerke and David Kirkby\u001b[0m \n",
      "                Copyright (C) 2000-2013 NIKHEF, University of California & Stanford University\n",
      "                All rights reserved, please read http://roofit.sourceforge.net/license.txt\n",
      "\n"
     ]
    }
   ],
   "source": [
    "x = ROOT.RooRealVar(\"x\", \"x\", -10, 10)\n",
    "y = ROOT.RooRealVar(\"y\", \"y\", -10, 10)"
   ]
  },
  {
   "cell_type": "markdown",
   "metadata": {},
   "source": [
    "Construct the signal pdf gauss(x)*gauss(y)"
   ]
  },
  {
   "cell_type": "code",
   "execution_count": 3,
   "metadata": {
    "collapsed": false
   },
   "outputs": [],
   "source": [
    "mx = ROOT.RooRealVar(\"mx\", \"mx\", 1, -10, 10)\n",
    "my = ROOT.RooRealVar(\"my\", \"my\", 1, -10, 10)\n",
    "\n",
    "gx = ROOT.RooGaussian(\"gx\", \"gx\", x, mx, ROOT.RooFit.RooConst(1))\n",
    "gy = ROOT.RooGaussian(\"gy\", \"gy\", y, my, ROOT.RooFit.RooConst(1))\n",
    "\n",
    "sig = ROOT.RooProdPdf(\"sig\", \"sig\", gx, gy)"
   ]
  },
  {
   "cell_type": "markdown",
   "metadata": {},
   "source": [
    "Construct the background pdf (flat in x,y)"
   ]
  },
  {
   "cell_type": "code",
   "execution_count": 4,
   "metadata": {
    "collapsed": false
   },
   "outputs": [],
   "source": [
    "px = ROOT.RooPolynomial(\"px\", \"px\", x)\n",
    "py = ROOT.RooPolynomial(\"py\", \"py\", y)\n",
    "bkg = ROOT.RooProdPdf(\"bkg\", \"bkg\", px, py)"
   ]
  },
  {
   "cell_type": "markdown",
   "metadata": {},
   "source": [
    "Construct the composite model sig+bkg"
   ]
  },
  {
   "cell_type": "code",
   "execution_count": 5,
   "metadata": {
    "collapsed": false
   },
   "outputs": [],
   "source": [
    "f = ROOT.RooRealVar(\"f\", \"f\", 0., 1.)\n",
    "model = ROOT.RooAddPdf(\n",
    "    \"model\", \"model\", ROOT.RooArgList(\n",
    "        sig, bkg), ROOT.RooArgList(f))"
   ]
  },
  {
   "cell_type": "markdown",
   "metadata": {},
   "source": [
    "Sample 10000 events in (x,y) from the model"
   ]
  },
  {
   "cell_type": "code",
   "execution_count": 6,
   "metadata": {
    "collapsed": false
   },
   "outputs": [],
   "source": [
    "modelData = model.generate(ROOT.RooArgSet(x, y), 10000)"
   ]
  },
  {
   "cell_type": "markdown",
   "metadata": {},
   "source": [
    "Define signal and sideband regions\n",
    "-------------------------------------------------------------------"
   ]
  },
  {
   "cell_type": "markdown",
   "metadata": {},
   "source": [
    "Construct the SideBand1,SideBand2, regions\n",
    "\n",
    "                   |\n",
    "     +-------------+-----------+\n",
    "     |             |           |\n",
    "     |    Side     |   Sig     |\n",
    "     |    Band1    |   nal     |\n",
    "     |             |           |\n",
    "   --+-------------+-----------+--\n",
    "     |                         |\n",
    "     |           Side          |\n",
    "     |           Band2         |\n",
    "     |                         |\n",
    "     +-------------+-----------+\n",
    "                   |"
   ]
  },
  {
   "cell_type": "code",
   "execution_count": 7,
   "metadata": {
    "collapsed": false
   },
   "outputs": [
    {
     "name": "stdout",
     "output_type": "stream",
     "text": [
      "[#1] INFO:Eval -- RooRealVar::setRange(x) new range named 'SB1' created with bounds [-10,10]\n",
      "[#1] INFO:Eval -- RooRealVar::setRange(y) new range named 'SB1' created with bounds [-10,0]\n",
      "[#1] INFO:Eval -- RooRealVar::setRange(x) new range named 'SB2' created with bounds [-10,0]\n",
      "[#1] INFO:Eval -- RooRealVar::setRange(y) new range named 'SB2' created with bounds [0,10]\n",
      "[#1] INFO:Eval -- RooRealVar::setRange(x) new range named 'SIG' created with bounds [0,10]\n",
      "[#1] INFO:Eval -- RooRealVar::setRange(y) new range named 'SIG' created with bounds [0,10]\n",
      "[#1] INFO:Eval -- RooRealVar::setRange(x) new range named 'FULL' created with bounds [-10,10]\n",
      "[#1] INFO:Eval -- RooRealVar::setRange(y) new range named 'FULL' created with bounds [-10,10]\n"
     ]
    }
   ],
   "source": [
    "x.setRange(\"SB1\", -10, +10)\n",
    "y.setRange(\"SB1\", -10, 0)\n",
    "\n",
    "x.setRange(\"SB2\", -10, 0)\n",
    "y.setRange(\"SB2\", 0, +10)\n",
    "\n",
    "x.setRange(\"SIG\", 0, +10)\n",
    "y.setRange(\"SIG\", 0, +10)\n",
    "\n",
    "x.setRange(\"FULL\", -10, +10)\n",
    "y.setRange(\"FULL\", -10, +10)"
   ]
  },
  {
   "cell_type": "markdown",
   "metadata": {},
   "source": [
    "Perform fits in individual sideband regions\n",
    "-------------------------------------------------------------------------------------"
   ]
  },
  {
   "cell_type": "markdown",
   "metadata": {},
   "source": [
    "Perform fit in SideBand1 region (ROOT.RooAddPdf coefficients will be\n",
    "interpreted in full range)"
   ]
  },
  {
   "cell_type": "code",
   "execution_count": 8,
   "metadata": {
    "collapsed": false
   },
   "outputs": [
    {
     "name": "stdout",
     "output_type": "stream",
     "text": [
      "[#1] INFO:Fitting -- RooAbsOptTestStatistic::ctor(nll_model_modelData) constructing test statistic for sub-range named SB1\n",
      "[#1] INFO:Eval -- RooRealVar::setRange(x) new range named 'NormalizationRangeForSB1' created with bounds [-10,10]\n",
      "[#1] INFO:Eval -- RooRealVar::setRange(x) new range named 'fit_nll_model_modelData' created with bounds [-10,10]\n",
      "[#1] INFO:Eval -- RooRealVar::setRange(y) new range named 'NormalizationRangeForSB1' created with bounds [-10,10]\n",
      "[#1] INFO:Eval -- RooRealVar::setRange(y) new range named 'fit_nll_model_modelData' created with bounds [-10,0]\n",
      "[#1] INFO:Fitting -- RooAbsOptTestStatistic::ctor(nll_model_modelData) fixing interpretation of coefficients of any RooAddPdf to full domain of observables \n",
      "[#1] INFO:Minization -- RooMinimizer::optimizeConst: activating const optimization\n",
      "[#1] INFO:Minization --  The following expressions have been identified as constant and will be precalculated and cached: (bkg)\n",
      "[#1] INFO:Minization --  The following expressions will be evaluated in cache-and-track mode: (gx,gy)\n",
      " **********\n",
      " **    1 **SET PRINT           1\n",
      " **********\n",
      " **********\n",
      " **    2 **SET NOGRAD\n",
      " **********\n",
      " PARAMETER DEFINITIONS:\n",
      "    NO.   NAME         VALUE      STEP SIZE      LIMITS\n",
      "     1 f            5.00000e-01  1.00000e-01    0.00000e+00  1.00000e+00\n",
      "     2 mx           1.00000e+00  2.00000e+00   -1.00000e+01  1.00000e+01\n",
      "     3 my           1.00000e+00  2.00000e+00   -1.00000e+01  1.00000e+01\n",
      " **********\n",
      " **    3 **SET ERR         0.5\n",
      " **********\n",
      " **********\n",
      " **    4 **SET PRINT           1\n",
      " **********\n",
      " **********\n",
      " **    5 **SET STR           1\n",
      " **********\n",
      " NOW USING STRATEGY  1: TRY TO BALANCE SPEED AGAINST RELIABILITY\n",
      " **********\n",
      " **    6 **MIGRAD        1500           1\n",
      " **********\n",
      " FIRST CALL TO USER FUNCTION AT NEW START POINT, WITH IFLAG=4.\n",
      " START MIGRAD MINIMIZATION.  STRATEGY  1.  CONVERGENCE WHEN EDM .LT. 1.00e-03\n",
      " FCN=16262.2 FROM MIGRAD    STATUS=INITIATE       12 CALLS          13 TOTAL\n",
      "                     EDM= unknown      STRATEGY= 1      NO ERROR MATRIX       \n",
      "  EXT PARAMETER               CURRENT GUESS       STEP         FIRST   \n",
      "  NO.   NAME      VALUE            ERROR          SIZE      DERIVATIVE \n",
      "   1  f            5.00000e-01   1.00000e-01   2.01358e-01  -5.77275e+01\n",
      "   2  mx           1.00000e+00   2.00000e+00   2.02430e-01   7.82209e+01\n",
      "   3  my           1.00000e+00   2.00000e+00   2.02430e-01   4.26863e+02\n",
      "                               ERR DEF= 0.5\n",
      " MIGRAD MINIMIZATION HAS CONVERGED.\n",
      " MIGRAD WILL VERIFY CONVERGENCE AND ERROR MATRIX.\n",
      " COVARIANCE MATRIX CALCULATED SUCCESSFULLY\n",
      " FCN=16261.4 FROM MIGRAD    STATUS=CONVERGED      65 CALLS          66 TOTAL\n",
      "                     EDM=6.58779e-08    STRATEGY= 1      ERROR MATRIX ACCURATE \n",
      "  EXT PARAMETER                                   STEP         FIRST   \n",
      "  NO.   NAME      VALUE            ERROR          SIZE      DERIVATIVE \n",
      "   1  f            5.11324e-01   3.57757e-02   1.91429e-03  -3.36872e-03\n",
      "   2  mx           9.87405e-01   4.03232e-02   3.56822e-04   2.97325e-02\n",
      "   3  my           9.92960e-01   9.38758e-02   2.52190e-04   1.62080e-03\n",
      "                               ERR DEF= 0.5\n",
      " EXTERNAL ERROR MATRIX.    NDIM=  25    NPAR=  3    ERR DEF=0.5\n",
      "  1.282e-03  1.633e-06  3.203e-03 \n",
      "  1.633e-06  1.626e-03 -2.189e-06 \n",
      "  3.203e-03 -2.189e-06  8.813e-03 \n",
      " PARAMETER  CORRELATION COEFFICIENTS  \n",
      "       NO.  GLOBAL      1      2      3\n",
      "        1  0.95284   1.000  0.001  0.953\n",
      "        2  0.00557   0.001  1.000 -0.001\n",
      "        3  0.95284   0.953 -0.001  1.000\n",
      " **********\n",
      " **    7 **SET ERR         0.5\n",
      " **********\n",
      " **********\n",
      " **    8 **SET PRINT           1\n",
      " **********\n",
      " **********\n",
      " **    9 **HESSE        1500\n",
      " **********\n",
      " COVARIANCE MATRIX CALCULATED SUCCESSFULLY\n",
      " FCN=16261.4 FROM HESSE     STATUS=OK             16 CALLS          82 TOTAL\n",
      "                     EDM=6.53294e-08    STRATEGY= 1      ERROR MATRIX ACCURATE \n",
      "  EXT PARAMETER                                INTERNAL      INTERNAL  \n",
      "  NO.   NAME      VALUE            ERROR       STEP SIZE       VALUE   \n",
      "   1  f            5.11324e-01   3.55416e-02   7.65715e-05   2.26501e-02\n",
      "   2  mx           9.87405e-01   4.03233e-02   7.13643e-05   9.89017e-02\n",
      "   3  my           9.92960e-01   9.32603e-02   1.00876e-05   9.94599e-02\n",
      "                               ERR DEF= 0.5\n",
      " EXTERNAL ERROR MATRIX.    NDIM=  25    NPAR=  3    ERR DEF=0.5\n",
      "  1.265e-03  1.698e-06  3.159e-03 \n",
      "  1.698e-06  1.626e-03 -2.338e-06 \n",
      "  3.159e-03 -2.338e-06  8.698e-03 \n",
      " PARAMETER  CORRELATION COEFFICIENTS  \n",
      "       NO.  GLOBAL      1      2      3\n",
      "        1  0.95220   1.000  0.001  0.952\n",
      "        2  0.00585   0.001  1.000 -0.001\n",
      "        3  0.95220   0.952 -0.001  1.000\n",
      "[#1] INFO:Minization -- RooMinimizer::optimizeConst: deactivating const optimization\n"
     ]
    }
   ],
   "source": [
    "r_sb1 = model.fitTo(modelData, ROOT.RooFit.Range(\n",
    "    \"SB1\"), ROOT.RooFit.Save())"
   ]
  },
  {
   "cell_type": "markdown",
   "metadata": {},
   "source": [
    "Perform fit in SideBand2 region (ROOT.RooAddPdf coefficients will be\n",
    "interpreted in full range)"
   ]
  },
  {
   "cell_type": "code",
   "execution_count": 9,
   "metadata": {
    "collapsed": false
   },
   "outputs": [
    {
     "name": "stdout",
     "output_type": "stream",
     "text": [
      "[#1] INFO:Fitting -- RooAbsOptTestStatistic::ctor(nll_model_modelData) constructing test statistic for sub-range named SB2\n",
      "[#1] INFO:Eval -- RooRealVar::setRange(x) new range named 'NormalizationRangeForSB2' created with bounds [-10,10]\n",
      "[#1] INFO:Eval -- RooRealVar::setRange(y) new range named 'NormalizationRangeForSB2' created with bounds [-10,10]\n",
      "[#1] INFO:Fitting -- RooAbsOptTestStatistic::ctor(nll_model_modelData) fixing interpretation of coefficients of any RooAddPdf to full domain of observables \n",
      "[#1] INFO:Minization -- RooMinimizer::optimizeConst: activating const optimization\n",
      "[#1] INFO:Minization --  The following expressions have been identified as constant and will be precalculated and cached: (bkg)\n",
      "[#1] INFO:Minization --  The following expressions will be evaluated in cache-and-track mode: (gx,gy)\n",
      " **********\n",
      " **   10 **SET PRINT           1\n",
      " **********\n",
      " **********\n",
      " **   11 **SET NOGRAD\n",
      " **********\n",
      " PARAMETER DEFINITIONS:\n",
      "    NO.   NAME         VALUE      STEP SIZE      LIMITS\n",
      "     1 f            5.11324e-01  3.55416e-02    0.00000e+00  1.00000e+00\n",
      "     2 mx           9.87405e-01  4.03233e-02   -1.00000e+01  1.00000e+01\n",
      "     3 my           9.92960e-01  9.32603e-02   -1.00000e+01  1.00000e+01\n",
      " **********\n",
      " **   12 **SET ERR         0.5\n",
      " **********\n",
      " **********\n",
      " **   13 **SET PRINT           1\n",
      " **********\n",
      " **********\n",
      " **   14 **SET STR           1\n",
      " **********\n",
      " NOW USING STRATEGY  1: TRY TO BALANCE SPEED AGAINST RELIABILITY\n",
      " **********\n",
      " **   15 **MIGRAD        1500           1\n",
      " **********\n",
      " FIRST CALL TO USER FUNCTION AT NEW START POINT, WITH IFLAG=4.\n",
      " START MIGRAD MINIMIZATION.  STRATEGY  1.  CONVERGENCE WHEN EDM .LT. 1.00e-03\n",
      " FCN=7580.37 FROM MIGRAD    STATUS=INITIATE       10 CALLS          11 TOTAL\n",
      "                     EDM= unknown      STRATEGY= 1      NO ERROR MATRIX       \n",
      "  EXT PARAMETER               CURRENT GUESS       STEP         FIRST   \n",
      "  NO.   NAME      VALUE            ERROR          SIZE      DERIVATIVE \n",
      "   1  f            5.11324e-01   3.55416e-02   7.11616e-02   5.76142e+01\n",
      "   2  mx           9.87405e-01   4.03233e-02   4.05214e-03  -5.36255e+02\n",
      "   3  my           9.92960e-01   9.32603e-02   9.37249e-03   1.50798e+02\n",
      "                               ERR DEF= 0.5\n",
      " MIGRAD MINIMIZATION HAS CONVERGED.\n",
      " MIGRAD WILL VERIFY CONVERGENCE AND ERROR MATRIX.\n",
      " COVARIANCE MATRIX CALCULATED SUCCESSFULLY\n",
      " FCN=7578.28 FROM MIGRAD    STATUS=CONVERGED      58 CALLS          59 TOTAL\n",
      "                     EDM=5.99393e-06    STRATEGY= 1      ERROR MATRIX ACCURATE \n",
      "  EXT PARAMETER                                   STEP         FIRST   \n",
      "  NO.   NAME      VALUE            ERROR          SIZE      DERIVATIVE \n",
      "   1  f            5.45866e-01   4.48627e-02   1.58044e-03   2.70551e-02\n",
      "   2  mx           1.12762e+00   1.10647e-01   1.95873e-04  -3.91797e-01\n",
      "   3  my           9.64618e-01   5.59523e-02   3.27587e-04   2.27176e-01\n",
      "                               ERR DEF= 0.5\n",
      " EXTERNAL ERROR MATRIX.    NDIM=  25    NPAR=  3    ERR DEF=0.5\n",
      "  2.018e-03  4.741e-03 -2.496e-04 \n",
      "  4.741e-03  1.224e-02 -1.695e-04 \n",
      " -2.496e-04 -1.695e-04  3.131e-03 \n",
      " PARAMETER  CORRELATION COEFFICIENTS  \n",
      "       NO.  GLOBAL      1      2      3\n",
      "        1  0.95665   1.000  0.954 -0.099\n",
      "        2  0.95624   0.954  1.000 -0.027\n",
      "        3  0.24521  -0.099 -0.027  1.000\n",
      " **********\n",
      " **   16 **SET ERR         0.5\n",
      " **********\n",
      " **********\n",
      " **   17 **SET PRINT           1\n",
      " **********\n",
      " **********\n",
      " **   18 **HESSE        1500\n",
      " **********\n",
      " COVARIANCE MATRIX CALCULATED SUCCESSFULLY\n",
      " FCN=7578.28 FROM HESSE     STATUS=OK             16 CALLS          75 TOTAL\n",
      "                     EDM=5.96577e-06    STRATEGY= 1      ERROR MATRIX ACCURATE \n",
      "  EXT PARAMETER                                INTERNAL      INTERNAL  \n",
      "  NO.   NAME      VALUE            ERROR       STEP SIZE       VALUE   \n",
      "   1  f            5.45866e-01   4.46434e-02   3.16088e-04   9.18610e-02\n",
      "   2  mx           1.12762e+00   1.10110e-01   3.91746e-05   1.13002e-01\n",
      "   3  my           9.64618e-01   5.59522e-02   6.55175e-05   9.66120e-02\n",
      "                               ERR DEF= 0.5\n",
      " EXTERNAL ERROR MATRIX.    NDIM=  25    NPAR=  3    ERR DEF=0.5\n",
      "  1.998e-03  4.693e-03 -2.465e-04 \n",
      "  4.693e-03  1.212e-02 -1.613e-04 \n",
      " -2.465e-04 -1.613e-04  3.131e-03 \n",
      " PARAMETER  CORRELATION COEFFICIENTS  \n",
      "       NO.  GLOBAL      1      2      3\n",
      "        1  0.95621   1.000  0.953 -0.099\n",
      "        2  0.95580   0.953  1.000 -0.026\n",
      "        3  0.24520  -0.099 -0.026  1.000\n",
      "[#1] INFO:Minization -- RooMinimizer::optimizeConst: deactivating const optimization\n"
     ]
    }
   ],
   "source": [
    "r_sb2 = model.fitTo(modelData, ROOT.RooFit.Range(\n",
    "    \"SB2\"), ROOT.RooFit.Save())"
   ]
  },
  {
   "cell_type": "markdown",
   "metadata": {},
   "source": [
    "Perform fits in joint sideband regions\n",
    "-----------------------------------------------------------------------------"
   ]
  },
  {
   "cell_type": "markdown",
   "metadata": {},
   "source": [
    "Now perform fit to joint 'L-shaped' sideband region 'SB1|SB2'\n",
    "(ROOT.RooAddPdf coefficients will be interpreted in full range)"
   ]
  },
  {
   "cell_type": "code",
   "execution_count": 10,
   "metadata": {
    "collapsed": false
   },
   "outputs": [
    {
     "name": "stdout",
     "output_type": "stream",
     "text": [
      "[#1] INFO:Fitting -- RooAbsOptTestStatistic::ctor(nll_model_modelData_SB1) constructing test statistic for sub-range named SB1\n",
      "[#1] INFO:Eval -- RooRealVar::setRange(x) new range named 'fit_nll_model_modelData_SB1' created with bounds [-10,10]\n",
      "[#1] INFO:Eval -- RooRealVar::setRange(y) new range named 'fit_nll_model_modelData_SB1' created with bounds [-10,0]\n",
      "[#1] INFO:Fitting -- RooAbsOptTestStatistic::ctor(nll_model_modelData_SB1) fixing interpretation of coefficients of any RooAddPdf to full domain of observables \n",
      "[#1] INFO:Fitting -- RooAbsOptTestStatistic::ctor(nll_model_modelData_SB2) constructing test statistic for sub-range named SB2\n",
      "[#1] INFO:Eval -- RooRealVar::setRange(x) new range named 'fit_nll_model_modelData_SB2' created with bounds [-10,0]\n",
      "[#1] INFO:Eval -- RooRealVar::setRange(y) new range named 'fit_nll_model_modelData_SB2' created with bounds [0,10]\n",
      "[#1] INFO:Fitting -- RooAbsOptTestStatistic::ctor(nll_model_modelData_SB2) fixing interpretation of coefficients of any RooAddPdf to full domain of observables \n",
      "[#1] INFO:Fitting -- RooAddition::defaultErrorLevel(nll_model_modelData) Summation contains a RooNLLVar, using its error level\n",
      "[#1] INFO:Minization -- RooMinimizer::optimizeConst: activating const optimization\n",
      "[#1] INFO:Minization --  The following expressions have been identified as constant and will be precalculated and cached: (bkg)\n",
      "[#1] INFO:Minization --  The following expressions will be evaluated in cache-and-track mode: (gx,gy)\n",
      "[#1] INFO:Minization --  The following expressions have been identified as constant and will be precalculated and cached: (bkg)\n",
      "[#1] INFO:Minization --  The following expressions will be evaluated in cache-and-track mode: (gx,gy)\n",
      " **********\n",
      " **   19 **SET PRINT           1\n",
      " **********\n",
      " **********\n",
      " **   20 **SET NOGRAD\n",
      " **********\n",
      " PARAMETER DEFINITIONS:\n",
      "    NO.   NAME         VALUE      STEP SIZE      LIMITS\n",
      "     1 f            5.45866e-01  4.46434e-02    0.00000e+00  1.00000e+00\n",
      "     2 mx           1.12762e+00  1.10110e-01   -1.00000e+01  1.00000e+01\n",
      "     3 my           9.64618e-01  5.59522e-02   -1.00000e+01  1.00000e+01\n",
      " **********\n",
      " **   21 **SET ERR         0.5\n",
      " **********\n",
      " **********\n",
      " **   22 **SET PRINT           1\n",
      " **********\n",
      " **********\n",
      " **   23 **SET STR           1\n",
      " **********\n",
      " NOW USING STRATEGY  1: TRY TO BALANCE SPEED AGAINST RELIABILITY\n",
      " **********\n",
      " **   24 **MIGRAD        1500           1\n",
      " **********\n",
      " FIRST CALL TO USER FUNCTION AT NEW START POINT, WITH IFLAG=4.\n",
      " START MIGRAD MINIMIZATION.  STRATEGY  1.  CONVERGENCE WHEN EDM .LT. 1.00e-03\n",
      " FCN=23854.7 FROM MIGRAD    STATUS=INITIATE       12 CALLS          13 TOTAL\n",
      "                     EDM= unknown      STRATEGY= 1      NO ERROR MATRIX       \n",
      "  EXT PARAMETER               CURRENT GUESS       STEP         FIRST   \n",
      "  NO.   NAME      VALUE            ERROR          SIZE      DERIVATIVE \n",
      "   1  f            5.45866e-01   4.46434e-02   8.97886e-02   2.03175e+02\n",
      "   2  mx           1.12762e+00   1.10110e-01   1.10819e-02   8.77800e+02\n",
      "   3  my           9.64618e-01   5.59522e-02   5.62146e-03  -1.47793e+03\n",
      "                               ERR DEF= 0.5\n",
      " MIGRAD MINIMIZATION HAS CONVERGED.\n",
      " MIGRAD WILL VERIFY CONVERGENCE AND ERROR MATRIX.\n",
      " COVARIANCE MATRIX CALCULATED SUCCESSFULLY\n",
      " FCN=23840.4 FROM MIGRAD    STATUS=CONVERGED      61 CALLS          62 TOTAL\n",
      "                     EDM=1.97734e-06    STRATEGY= 1      ERROR MATRIX ACCURATE \n",
      "  EXT PARAMETER                                   STEP         FIRST   \n",
      "  NO.   NAME      VALUE            ERROR          SIZE      DERIVATIVE \n",
      "   1  f            5.01559e-01   1.30669e-02   1.78830e-03  -1.50525e-02\n",
      "   2  mx           1.00778e+00   3.32769e-02   2.78855e-04  -3.15587e-01\n",
      "   3  my           9.67772e-01   3.52773e-02   2.72572e-04   4.67726e-01\n",
      "                               ERR DEF= 0.5\n",
      " EXTERNAL ERROR MATRIX.    NDIM=  25    NPAR=  3    ERR DEF=0.5\n",
      "  1.708e-04  2.699e-04  3.183e-04 \n",
      "  2.699e-04  1.107e-03  5.550e-04 \n",
      "  3.183e-04  5.550e-04  1.244e-03 \n",
      " PARAMETER  CORRELATION COEFFICIENTS  \n",
      "       NO.  GLOBAL      1      2      3\n",
      "        1  0.76699   1.000  0.621  0.691\n",
      "        2  0.62365   0.621  1.000  0.473\n",
      "        3  0.69283   0.691  0.473  1.000\n",
      " **********\n",
      " **   25 **SET ERR         0.5\n",
      " **********\n",
      " **********\n",
      " **   26 **SET PRINT           1\n",
      " **********\n",
      " **********\n",
      " **   27 **HESSE        1500\n",
      " **********\n",
      " COVARIANCE MATRIX CALCULATED SUCCESSFULLY\n",
      " FCN=23840.4 FROM HESSE     STATUS=OK             16 CALLS          78 TOTAL\n",
      "                     EDM=1.97636e-06    STRATEGY= 1      ERROR MATRIX ACCURATE \n",
      "  EXT PARAMETER                                INTERNAL      INTERNAL  \n",
      "  NO.   NAME      VALUE            ERROR       STEP SIZE       VALUE   \n",
      "   1  f            5.01559e-01   1.30555e-02   7.15321e-05   3.11894e-03\n",
      "   2  mx           1.00778e+00   3.32599e-02   5.57710e-05   1.00949e-01\n",
      "   3  my           9.67772e-01   3.52499e-02   5.45143e-05   9.69289e-02\n",
      "                               ERR DEF= 0.5\n",
      " EXTERNAL ERROR MATRIX.    NDIM=  25    NPAR=  3    ERR DEF=0.5\n",
      "  1.705e-04  2.693e-04  3.176e-04 \n",
      "  2.693e-04  1.106e-03  5.535e-04 \n",
      "  3.176e-04  5.535e-04  1.243e-03 \n",
      " PARAMETER  CORRELATION COEFFICIENTS  \n",
      "       NO.  GLOBAL      1      2      3\n",
      "        1  0.76652   1.000  0.620  0.690\n",
      "        2  0.62315   0.620  1.000  0.472\n",
      "        3  0.69224   0.690  0.472  1.000\n",
      "[#1] INFO:Minization -- RooMinimizer::optimizeConst: deactivating const optimization\n"
     ]
    }
   ],
   "source": [
    "r_sb12 = model.fitTo(modelData, ROOT.RooFit.Range(\n",
    "    \"SB1,SB2\"), ROOT.RooFit.Save())"
   ]
  },
  {
   "cell_type": "markdown",
   "metadata": {},
   "source": [
    "Print results for comparison"
   ]
  },
  {
   "cell_type": "code",
   "execution_count": 11,
   "metadata": {
    "collapsed": false
   },
   "outputs": [
    {
     "name": "stdout",
     "output_type": "stream",
     "text": [
      "\n",
      "  RooFitResult: minimized FCN value: 16261.4, estimated distance to minimum: 6.53294e-08\n",
      "                covariance matrix quality: Full, accurate covariance matrix\n",
      "                Status : MINIMIZE=0 HESSE=0 \n",
      "\n",
      "    Floating Parameter    FinalValue +/-  Error   \n",
      "  --------------------  --------------------------\n",
      "                     f    5.1132e-01 +/-  3.55e-02\n",
      "                    mx    9.8741e-01 +/-  4.03e-02\n",
      "                    my    9.9296e-01 +/-  9.33e-02\n",
      "\n",
      "\n",
      "  RooFitResult: minimized FCN value: 7578.28, estimated distance to minimum: 5.96577e-06\n",
      "                covariance matrix quality: Full, accurate covariance matrix\n",
      "                Status : MINIMIZE=0 HESSE=0 \n",
      "\n",
      "    Floating Parameter    FinalValue +/-  Error   \n",
      "  --------------------  --------------------------\n",
      "                     f    5.4587e-01 +/-  4.46e-02\n",
      "                    mx    1.1276e+00 +/-  1.10e-01\n",
      "                    my    9.6462e-01 +/-  5.60e-02\n",
      "\n",
      "\n",
      "  RooFitResult: minimized FCN value: 23840.4, estimated distance to minimum: 1.97636e-06\n",
      "                covariance matrix quality: Full, accurate covariance matrix\n",
      "                Status : MINIMIZE=0 HESSE=0 \n",
      "\n",
      "    Floating Parameter    FinalValue +/-  Error   \n",
      "  --------------------  --------------------------\n",
      "                     f    5.0156e-01 +/-  1.31e-02\n",
      "                    mx    1.0078e+00 +/-  3.33e-02\n",
      "                    my    9.6777e-01 +/-  3.52e-02\n",
      "\n"
     ]
    }
   ],
   "source": [
    "r_sb1.Print()\n",
    "r_sb2.Print()\n",
    "r_sb12.Print()"
   ]
  }
 ],
 "metadata": {
  "kernelspec": {
   "display_name": "Python 2",
   "language": "python",
   "name": "python2"
  },
  "language_info": {
   "codemirror_mode": {
    "name": "ipython",
    "version": 2
   },
   "file_extension": ".py",
   "mimetype": "text/x-python",
   "name": "python",
   "nbconvert_exporter": "python",
   "pygments_lexer": "ipython2",
   "version": "2.7.10"
  }
 },
 "nbformat": 4,
 "nbformat_minor": 2
}
