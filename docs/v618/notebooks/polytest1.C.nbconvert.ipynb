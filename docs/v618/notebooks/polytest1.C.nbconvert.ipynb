{
 "cells": [
  {
   "cell_type": "markdown",
   "metadata": {},
   "source": [
    "# Polytest 1\n",
    "This macro is testing the \"compacting\" algorithm in TPadPainter.\n",
    "It reduces the number of polygon's vertices using actual pixel coordinates.\n",
    "\n",
    "\n",
    "It's not really useful, but just to test that the resulting polygon\n",
    "is still reasonable. Initial number of points is 1000000, after \"compression\"\n",
    "it's 523904 (with default canvas size, before you tried to resize it) - so almost half of\n",
    "vertices were removed but you can still see the reasonable shape. If you resize\n",
    "a canvas to a smaller size, the number of vertices after compression can be something like 5000 and even less.\n",
    "It's easy to 'fool' this algorithm though in this particular case (ellipse is a kind of fringe case,\n",
    "you can easily have a sequence of almost unique vertices (at a pixel level).\n",
    "\n",
    "\n",
    "\n",
    "\n",
    "**Author:** Timur Pocheptsov  \n",
    "<i><small>This notebook tutorial was automatically generated with <a href= \"https://github.com/root-project/root/blob/master/documentation/doxygen/converttonotebook.py\">ROOTBOOK-izer</a> from the macro found in the ROOT repository  on Thursday, August 29, 2019 at 01:43 AM.</small></i>"
   ]
  },
  {
   "cell_type": "markdown",
   "metadata": {},
   "source": [
    "Includes for aclic."
   ]
  },
  {
   "cell_type": "code",
   "execution_count": 1,
   "metadata": {
    "collapsed": false
   },
   "outputs": [],
   "source": [
    "%%cpp -d\n",
    "#include <cassert>\n",
    "#include <vector>\n",
    "\n",
    "#include \"TRandom.h\"\n",
    "#include \"TCanvas.h\"\n",
    "#include \"TError.h\"\n",
    "#include \"Rtypes.h\"\n",
    "#include \"TNamed.h\"\n",
    "#include \"TMath.h\"\n",
    "\n",
    "class PolyTest1 : public TNamed, public TAttLine, public TAttFill {\n",
    "public:\n",
    "   PolyTest1(unsigned nVertices);\n",
    "\n",
    "   void Paint(const Option_t *notUsed);\n",
    "   void Reset(unsigned nVertices);\n",
    "\n",
    "private:\n",
    "   enum {\n",
    "      kNPointsDefault = 10000//minimal number of points.\n",
    "   };\n",
    "\n",
    "   std::vector<Double_t> fXs;\n",
    "   std::vector<Double_t> fYs;\n",
    "};\n",
    "\n",
    "\n",
    "PolyTest1::PolyTest1(unsigned nVertices)\n",
    "               : TNamed(\"polygon_compression_test1\", \"polygon_compression_test1\")\n",
    "{\n",
    "   Reset(nVertices);\n",
    "}"
   ]
  },
  {
   "cell_type": "markdown",
   "metadata": {},
   "source": [
    " _____________________________________________________________\n",
    " "
   ]
  },
  {
   "cell_type": "code",
   "execution_count": 2,
   "metadata": {
    "collapsed": false
   },
   "outputs": [],
   "source": [
    "%%cpp -d\n",
    "void PolyTest1::Reset(unsigned nVertices)\n",
    "{\n",
    "   //Some canvas must already exist by this point.\n",
    "   assert(gPad != 0 && \"Reset, gPad is null\");\n",
    "   //We need a gRandom to exist.\n",
    "   assert(gRandom != 0 && \"Reset, gRandom is null\");\n",
    "\n",
    "   if (nVertices < kNPointsDefault) {\n",
    "      Warning(\"Reset\", \"resetting nVertices parameter to %u\", unsigned(kNPointsDefault));\n",
    "      nVertices = kNPointsDefault;\n",
    "   }\n",
    "\n",
    "   fXs.resize(nVertices);\n",
    "   fYs.resize(nVertices);\n",
    "\n",
    "   Double_t xMin = 0., xMax = 0., yMin = 0., yMax = 0.;\n",
    "   gPad->GetRange(xMin, yMin, xMax, yMax);\n",
    "   assert(xMax - xMin > 0 && yMax - yMin > 0 && \"Reset, invalid canvas' ranges\");\n",
    "\n",
    "   const Double_t xCentre = xMin + 0.5 * (xMax - xMin);\n",
    "   const Double_t yCentre = yMin + 0.5 * (yMax - yMin);\n",
    "\n",
    "   const Double_t r = TMath::Min(xMax - xMin, yMax - yMin) * 0.8 / 2;\n",
    "   const Double_t angle = TMath::TwoPi() / (nVertices - 1);\n",
    "\n",
    "   for (unsigned i = 0; i < nVertices - 1; ++i) {\n",
    "      const Double_t currR = r + gRandom->Rndm() * r * 0.01;\n",
    "      fXs[i] = xCentre + currR * TMath::Cos(angle * i);\n",
    "      fYs[i] = yCentre + currR * TMath::Sin(angle * i);\n",
    "   }\n",
    "\n",
    "   fXs[nVertices - 1] = fXs[0];\n",
    "   fYs[nVertices - 1] = fYs[0];\n",
    "}"
   ]
  },
  {
   "cell_type": "markdown",
   "metadata": {},
   "source": [
    " _____________________________________________________________\n",
    " "
   ]
  },
  {
   "cell_type": "code",
   "execution_count": 3,
   "metadata": {
    "collapsed": false
   },
   "outputs": [],
   "source": [
    "%%cpp -d\n",
    "void PolyTest1::Paint(const Option_t * /*notUsed*/)\n",
    "{\n",
    "   assert(gPad != 0 && \"Paint, gPad is null\");\n",
    "\n",
    "   TAttFill::Modify();\n",
    "   gPad->PaintFillArea((Int_t)fXs.size(), &fXs[0], &fYs[0]);\n",
    "\n",
    "   TAttLine::Modify();\n",
    "   gPad->PaintPolyLine((Int_t)fXs.size(), &fXs[0], &fYs[0]);\n",
    "}"
   ]
  },
  {
   "cell_type": "code",
   "execution_count": 4,
   "metadata": {
    "collapsed": false
   },
   "outputs": [],
   "source": [
    "TCanvas * const cnv = new TCanvas;\n",
    "cnv->cd();\n",
    "\n",
    "PolyTest1 * polygon = new PolyTest1(1000000);\n",
    "polygon->SetLineColor(kBlue);\n",
    "polygon->SetFillColor(kRed);\n",
    "polygon->SetLineWidth(1);\n",
    "polygon->Draw();//Attach a polygon to a canvas."
   ]
  },
  {
   "cell_type": "markdown",
   "metadata": {},
   "source": [
    "Draw all canvases "
   ]
  },
  {
   "cell_type": "code",
   "execution_count": 5,
   "metadata": {
    "collapsed": false
   },
   "outputs": [
    {
     "data": {
      "image/png": "[encoded data removed]",
      "text/plain": [
       "<IPython.core.display.Image object>"
      ]
     },
     "metadata": {},
     "output_type": "display_data"
    }
   ],
   "source": [
    "gROOT->GetListOfCanvases()->Draw()"
   ]
  }
 ],
 "metadata": {
  "kernelspec": {
   "display_name": "ROOT C++",
   "language": "c++",
   "name": "root"
  },
  "language_info": {
   "codemirror_mode": "text/x-c++src",
   "file_extension": ".C",
   "mimetype": " text/x-c++src",
   "name": "c++"
  }
 },
 "nbformat": 4,
 "nbformat_minor": 2
}
