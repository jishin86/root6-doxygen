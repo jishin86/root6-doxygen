{
 "cells": [
  {
   "cell_type": "markdown",
   "metadata": {},
   "source": [
    "#  T M V A Cross Validation Application\n",
    "This macro provides an example of how to use TMVA for k-folds cross\n",
    "evaluation in application.\n",
    "\n",
    "This requires that CrossValidation was run with a deterministic split, such\n",
    "as `\"...:splitExpr=int([eventID])%int([numFolds]):...\"`.\n",
    "\n",
    "- Project   : TMVA - a ROOT-integrated toolkit for multivariate data analysis\n",
    "- Package   : TMVA\n",
    "- Root Macro: TMVACrossValidationApplication\n",
    "\n",
    "\n",
    "\n",
    "**Author:** Kim Albertsson (adapted from code originally by Andreas Hoecker)  \n",
    "<i><small>This notebook tutorial was automatically generated with <a href= \"https://github.com/root-project/root/blob/master/documentation/doxygen/converttonotebook.py\">ROOTBOOK-izer</a> from the macro found in the ROOT repository  on Thursday, August 29, 2019 at 03:46 AM.</small></i>"
   ]
  },
  {
   "cell_type": "code",
   "execution_count": null,
   "metadata": {
    "collapsed": false
   },
   "outputs": [],
   "source": [
    "%%cpp -d\n",
    "#include <cstdlib>\n",
    "#include <iostream>\n",
    "#include <map>\n",
    "#include <string>\n",
    "\n",
    "#include \"TChain.h\"\n",
    "#include \"TFile.h\"\n",
    "#include \"TTree.h\"\n",
    "#include \"TString.h\"\n",
    "#include \"TObjString.h\"\n",
    "#include \"TSystem.h\"\n",
    "#include \"TROOT.h\"\n",
    "\n",
    "#include \"TMVA/Factory.h\"\n",
    "#include \"TMVA/DataLoader.h\"\n",
    "#include \"TMVA/Tools.h\"\n",
    "#include \"TMVA/TMVAGui.h\""
   ]
  },
  {
   "cell_type": "markdown",
   "metadata": {},
   "source": [
    "  Helper function to load data into TTrees.\n",
    " "
   ]
  },
  {
   "cell_type": "code",
   "execution_count": null,
   "metadata": {
    "collapsed": false
   },
   "outputs": [],
   "source": [
    "%%cpp -d\n",
    "TTree *fillTree(TTree * tree, Int_t nPoints, Double_t offset, Double_t scale, UInt_t seed = 100)\n",
    "{\n",
    "   TRandom3 rng(seed);\n",
    "   Float_t x = 0;\n",
    "   Float_t y = 0;\n",
    "   Int_t eventID = 0;\n",
    "\n",
    "   tree->SetBranchAddress(\"x\", &x);\n",
    "   tree->SetBranchAddress(\"y\", &y);\n",
    "   tree->SetBranchAddress(\"eventID\", &eventID);\n",
    "\n",
    "   for (Int_t n = 0; n < nPoints; ++n) {\n",
    "      x = rng.Gaus(offset, scale);\n",
    "      y = rng.Gaus(offset, scale);\n",
    "\n",
    "      // For our simple example it is enough that the id's are uniformly\n",
    "      // distributed and independent of the data.\n",
    "      ++eventID;\n",
    "\n",
    "      tree->Fill();\n",
    "   }\n",
    "\n",
    "   // Important: Disconnects the tree from the memory locations of x and y.\n",
    "   tree->ResetBranchAddresses();\n",
    "   return tree;\n",
    "}"
   ]
  },
  {
   "cell_type": "markdown",
   "metadata": {},
   "source": [
    "This loads the library"
   ]
  },
  {
   "cell_type": "code",
   "execution_count": null,
   "metadata": {
    "collapsed": false
   },
   "outputs": [],
   "source": [
    "TMVA::Tools::Instance();"
   ]
  },
  {
   "cell_type": "markdown",
   "metadata": {},
   "source": [
    "Set up the tmva::reader"
   ]
  },
  {
   "cell_type": "code",
   "execution_count": null,
   "metadata": {
    "collapsed": false
   },
   "outputs": [],
   "source": [
    "TMVA::Reader *reader = new TMVA::Reader(\"!Color:!Silent:!V\");\n",
    "\n",
    "Float_t x;\n",
    "Float_t y;\n",
    "Int_t eventID;\n",
    "\n",
    "reader->AddVariable(\"x\", &x);\n",
    "reader->AddVariable(\"y\", &y);\n",
    "reader->AddSpectator(\"eventID\", &eventID);"
   ]
  },
  {
   "cell_type": "markdown",
   "metadata": {},
   "source": [
    "Book the serialised methods"
   ]
  },
  {
   "cell_type": "code",
   "execution_count": null,
   "metadata": {
    "collapsed": false
   },
   "outputs": [],
   "source": [
    "TString jobname(\"TMVACrossEvaluation\");\n",
    "{\n",
    "   TString methodName = \"BDTG\";\n",
    "   TString weightfile = TString(\"dataset/weights/\") + jobname + \"_\" + methodName + TString(\".weights.xml\");\n",
    "\n",
    "   Bool_t weightfileExists = (gSystem->AccessPathName(weightfile) == kFALSE);\n",
    "   if (weightfileExists) {\n",
    "      reader->BookMVA(methodName, weightfile);\n",
    "   } else {\n",
    "      std::cout << \"Weightfile for method \" << methodName << \" not found.\"\n",
    "                   \" Did you run TMVACrossValidation with a specified\"\n",
    "                   \" splitExpr?\" << std::endl;\n",
    "      exit(0);\n",
    "   }\n",
    "   \n",
    "}\n",
    "{\n",
    "   TString methodName = \"Fisher\";\n",
    "   TString weightfile = TString(\"dataset/weights/\") + jobname + \"_\" + methodName + TString(\".weights.xml\");\n",
    "   \n",
    "   Bool_t weightfileExists = (gSystem->AccessPathName(weightfile) == kFALSE);\n",
    "   if (weightfileExists) {\n",
    "      reader->BookMVA(methodName, weightfile);\n",
    "   } else {\n",
    "      std::cout << \"Weightfile for method \" << methodName << \" not found.\"\n",
    "                   \" Did you run TMVACrossValidation with a specified\"\n",
    "                   \" splitExpr?\" << std::endl;\n",
    "      exit(0);\n",
    "   }\n",
    "}"
   ]
  },
  {
   "cell_type": "markdown",
   "metadata": {},
   "source": [
    "Load data"
   ]
  },
  {
   "cell_type": "code",
   "execution_count": null,
   "metadata": {
    "collapsed": false
   },
   "outputs": [],
   "source": [
    "TTree *tree = new TTree();\n",
    "tree->Branch(\"x\", &x, \"x/F\");\n",
    "tree->Branch(\"y\", &y, \"y/F\");\n",
    "tree->Branch(\"eventID\", &eventID, \"eventID/I\");\n",
    "\n",
    "fillTree(tree, 1000, 1.0, 1.0, 100);\n",
    "fillTree(tree, 1000, -1.0, 1.0, 101);\n",
    "tree->SetBranchAddress(\"x\", &x);\n",
    "tree->SetBranchAddress(\"y\", &y);\n",
    "tree->SetBranchAddress(\"eventID\", &eventID);"
   ]
  },
  {
   "cell_type": "markdown",
   "metadata": {},
   "source": [
    "Prepare histograms"
   ]
  },
  {
   "cell_type": "code",
   "execution_count": null,
   "metadata": {
    "collapsed": false
   },
   "outputs": [],
   "source": [
    "Int_t nbin = 100;\n",
    "TH1F histBDTG{\"BDTG\", \"BDTG\", nbin, -1, 1};\n",
    "TH1F histFisher{\"Fisher\", \"Fisher\", nbin, -1, 1};"
   ]
  },
  {
   "cell_type": "markdown",
   "metadata": {},
   "source": [
    "Evaluate classifiers"
   ]
  },
  {
   "cell_type": "code",
   "execution_count": null,
   "metadata": {
    "collapsed": false
   },
   "outputs": [],
   "source": [
    "for (Long64_t ievt = 0; ievt < tree->GetEntries(); ievt++) {\n",
    "   tree->GetEntry(ievt);\n",
    "\n",
    "   Double_t valBDTG = reader->EvaluateMVA(\"BDTG\");\n",
    "   Double_t valFisher = reader->EvaluateMVA(\"Fisher\");\n",
    "\n",
    "   histBDTG.Fill(valBDTG);\n",
    "   histFisher.Fill(valFisher);\n",
    "}\n",
    "\n",
    "tree->ResetBranchAddresses();\n",
    "delete tree;\n",
    "\n",
    "{ // Write histograms to output file\n",
    "   TFile *target = new TFile(\"TMVACrossEvaluationApp.root\", \"RECREATE\");\n",
    "   histBDTG.Write();\n",
    "   histFisher.Write();\n",
    "   target->Close();\n",
    "   delete target;\n",
    "}\n",
    "\n",
    "delete reader;\n",
    "\n",
    "return 0;"
   ]
  }
 ],
 "metadata": {
  "kernelspec": {
   "display_name": "ROOT C++",
   "language": "c++",
   "name": "root"
  },
  "language_info": {
   "codemirror_mode": "text/x-c++src",
   "file_extension": ".C",
   "mimetype": " text/x-c++src",
   "name": "c++"
  }
 },
 "nbformat": 4,
 "nbformat_minor": 2
}
