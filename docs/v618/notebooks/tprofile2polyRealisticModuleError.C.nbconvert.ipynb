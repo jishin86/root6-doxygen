{
 "cells": [
  {
   "cell_type": "markdown",
   "metadata": {},
   "source": [
    "# Tprofile 2Poly Realistic Module Error\n",
    "Simulate faulty detector panel w.r.t. particle charge\n",
    "\n",
    "\n",
    "\n",
    "\n",
    "**Author:** Filip Ilic  \n",
    "<i><small>This notebook tutorial was automatically generated with <a href= \"https://github.com/root-project/root/blob/master/documentation/doxygen/converttonotebook.py\">ROOTBOOK-izer</a> from the macro found in the ROOT repository  on Thursday, August 29, 2019 at 01:59 AM.</small></i>"
   ]
  },
  {
   "cell_type": "code",
   "execution_count": 1,
   "metadata": {
    "collapsed": false
   },
   "outputs": [],
   "source": [
    "%%cpp -d\n",
    "#include <iostream>\n",
    "#include <fstream>\n",
    "using namespace std;"
   ]
  },
  {
   "cell_type": "markdown",
   "metadata": {},
   "source": [
    " Arguments are defined. "
   ]
  },
  {
   "cell_type": "code",
   "execution_count": 2,
   "metadata": {
    "collapsed": false
   },
   "outputs": [],
   "source": [
    "Int_t numEvents = 1000000;"
   ]
  },
  {
   "cell_type": "code",
   "execution_count": 3,
   "metadata": {
    "collapsed": false
   },
   "outputs": [],
   "source": [
    "TCanvas *c1 = new TCanvas(\"c1\", \"4 Malfunctioning Panels\", 800, 400);\n",
    "c1->Divide(3, 1);"
   ]
  },
  {
   "cell_type": "markdown",
   "metadata": {},
   "source": [
    "-------------------- construct detector bins ------------------------"
   ]
  },
  {
   "cell_type": "code",
   "execution_count": 4,
   "metadata": {
    "collapsed": false
   },
   "outputs": [],
   "source": [
    "auto th2p = new TH2Poly();\n",
    "auto avg = new TProfile2Poly();\n",
    "auto err = new TProfile2Poly();\n",
    "\n",
    "ifstream infile;\n",
    "TString dir = gROOT->GetTutorialDir();\n",
    "dir.Append(\"/hist/data/tprofile2poly_tutorial.data\");\n",
    "infile.open(dir.Data());\n",
    "\n",
    "if (!infile) // Verify that the file was open successfully\n",
    "{\n",
    "   std::cerr << dir.Data() << std::endl; // Report error\n",
    "   std::cerr << \"Error code: \" << strerror(errno) << std::endl; // Get some info as to why\n",
    "   return;\n",
    "}\n",
    "\n",
    "vector<pair<Double_t, Double_t>> allCoords;\n",
    "Double_t a, b;\n",
    "while (infile >> a >> b) {\n",
    "   pair<Double_t, Double_t> coord(a, b);\n",
    "   allCoords.push_back(coord);\n",
    "}\n",
    "\n",
    "if (allCoords.size() % 3 != 0) {\n",
    "   cout << \"[ERROR] Bad file\" << endl;\n",
    "   return;\n",
    "}\n",
    "\n",
    "Double_t x[3], y[3];\n",
    "for (Int_t i = 0; i < allCoords.size(); i += 3) {\n",
    "   x[0] = allCoords[i + 0].first;\n",
    "   y[0] = allCoords[i + 0].second;\n",
    "   x[1] = allCoords[i + 1].first;\n",
    "   y[1] = allCoords[i + 1].second;\n",
    "   x[2] = allCoords[i + 2].first;\n",
    "   y[2] = allCoords[i + 2].second;\n",
    "   th2p->AddBin(3, x, y);\n",
    "   avg->AddBin(3, x, y);\n",
    "   err->AddBin(3, x, y);\n",
    "}"
   ]
  },
  {
   "cell_type": "markdown",
   "metadata": {},
   "source": [
    "-------------------- generate particles ------------------------"
   ]
  },
  {
   "cell_type": "code",
   "execution_count": 5,
   "metadata": {
    "collapsed": false
   },
   "outputs": [],
   "source": [
    "TRandom ran;\n",
    "for (int j = 0; j < numEvents; ++j) {\n",
    "   Double_t r1 = ran.Gaus(0, 10);\n",
    "   Double_t r2 = ran.Gaus(0, 8);\n",
    "   Double_t rok = ran.Gaus(20, 2);\n",
    "   Double_t rbad1 = ran.Gaus(1, 2);\n",
    "   Double_t rbad2 = ran.Gaus(2, 0);\n",
    "\n",
    "   Double_t val = rok;\n",
    "   // --------------------  Malfunctioning panels -------------------\n",
    "   if (th2p->IsInsideBin(4, r1, r2)) val = rok - rbad1;\n",
    "   if (th2p->IsInsideBin(20, r1, r2)) val = rok - rbad2;\n",
    "   if (th2p->IsInsideBin(13, r1, r2)) val = rok + rbad1;\n",
    "   if (th2p->IsInsideBin(37, r1, r2)) val = rok + rbad2;\n",
    "\n",
    "   // -------------------- Fill histograms ------------------------\n",
    "   th2p->Fill(r1, r2, val);\n",
    "   avg->Fill(r1, r2, val);\n",
    "   err->Fill(r1, r2, val);\n",
    "}"
   ]
  },
  {
   "cell_type": "markdown",
   "metadata": {},
   "source": [
    "-------------------- display end state ------------------------"
   ]
  },
  {
   "cell_type": "code",
   "execution_count": 6,
   "metadata": {
    "collapsed": false
   },
   "outputs": [],
   "source": [
    "c1->cd(1);\n",
    "th2p->SetStats(0);\n",
    "th2p->SetTitle(\"total hits\");\n",
    "th2p->Draw(\"COLZ\");\n",
    "\n",
    "c1->cd(2);\n",
    "avg->SetStats(0);\n",
    "avg->SetTitle(\"average charge\");\n",
    "avg->Draw(\"COLZ\");\n",
    "\n",
    "c1->cd(3);\n",
    "err->SetStats(0);\n",
    "err->SetContentToError();\n",
    "err->SetTitle(\"error\");\n",
    "err->Draw(\"COLZ\");"
   ]
  },
  {
   "cell_type": "markdown",
   "metadata": {},
   "source": [
    "Draw all canvases "
   ]
  },
  {
   "cell_type": "code",
   "execution_count": 7,
   "metadata": {
    "collapsed": false
   },
   "outputs": [
    {
     "data": {
      "image/png": "[encoded data removed]",
      "text/plain": [
       "<IPython.core.display.Image object>"
      ]
     },
     "metadata": {},
     "output_type": "display_data"
    }
   ],
   "source": [
    "gROOT->GetListOfCanvases()->Draw()"
   ]
  }
 ],
 "metadata": {
  "kernelspec": {
   "display_name": "ROOT C++",
   "language": "c++",
   "name": "root"
  },
  "language_info": {
   "codemirror_mode": "text/x-c++src",
   "file_extension": ".C",
   "mimetype": " text/x-c++src",
   "name": "c++"
  }
 },
 "nbformat": 4,
 "nbformat_minor": 2
}
