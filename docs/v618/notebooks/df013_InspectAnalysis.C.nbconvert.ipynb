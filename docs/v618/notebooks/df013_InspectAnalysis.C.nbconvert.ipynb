{
 "cells": [
  {
   "cell_type": "markdown",
   "metadata": {},
   "source": [
    "# Df 0 1 3_ Inspect Analysis\n",
    "Showcase registration of callback functions that act on partial results while\n",
    "the event-loop is running using `OnPartialResult` and `OnPartialResultSlot`.\n",
    "This tutorial is not meant to run in batch mode.\n",
    "\n",
    "\n",
    "\n",
    "\n",
    "**Author:** Enrico Guiraud  \n",
    "<i><small>This notebook tutorial was automatically generated with <a href= \"https://github.com/root-project/root/blob/master/documentation/doxygen/converttonotebook.py\">ROOTBOOK-izer</a> from the macro found in the ROOT repository  on Thursday, August 29, 2019 at 01:04 AM.</small></i>"
   ]
  },
  {
   "cell_type": "code",
   "execution_count": null,
   "metadata": {
    "collapsed": false
   },
   "outputs": [],
   "source": [
    "using namespace ROOT; // RDataFrame lives in here"
   ]
  },
  {
   "cell_type": "code",
   "execution_count": null,
   "metadata": {
    "collapsed": false
   },
   "outputs": [],
   "source": [
    "ROOT::EnableImplicitMT();\n",
    "const auto poolSize = ROOT::GetImplicitMTPoolSize();\n",
    "const auto nSlots = 0 == poolSize ? 1 : poolSize;"
   ]
  },
  {
   "cell_type": "markdown",
   "metadata": {},
   "source": [
    " ## Setup a simple RDataFrame\n",
    " We start by creating a RDataFrame with a good number of empty events"
   ]
  },
  {
   "cell_type": "code",
   "execution_count": null,
   "metadata": {
    "collapsed": false
   },
   "outputs": [],
   "source": [
    "const auto nEvents = nSlots * 10000ull;\n",
    "RDataFrame d(nEvents);"
   ]
  },
  {
   "cell_type": "markdown",
   "metadata": {},
   "source": [
    "`heavywork` is a lambda that fakes some interesting computation and just returns a normally distributed double"
   ]
  },
  {
   "cell_type": "code",
   "execution_count": null,
   "metadata": {
    "collapsed": false
   },
   "outputs": [],
   "source": [
    "TRandom r;\n",
    "auto heavyWork = [&r]() {\n",
    "   for (volatile int i = 0; i < 1000000; ++i)\n",
    "      ;\n",
    "   return r.Gaus();\n",
    "};"
   ]
  },
  {
   "cell_type": "markdown",
   "metadata": {},
   "source": [
    "Let's define a column \"x\" produced by invoking `heavywork` for each event\n",
    " `tdf` stores a modified data-frame that contains \"x\""
   ]
  },
  {
   "cell_type": "code",
   "execution_count": null,
   "metadata": {
    "collapsed": false
   },
   "outputs": [],
   "source": [
    "auto tdf = d.Define(\"x\", heavyWork);"
   ]
  },
  {
   "cell_type": "markdown",
   "metadata": {},
   "source": [
    "Now we register a histogram-filling action with the rdataframe.\n",
    " `h` can be used just like a pointer to TH1D but it is actually a TResultProxy<TH1D>, a smart object that triggers\n",
    " an event-loop to fill the pointee histogram if needed."
   ]
  },
  {
   "cell_type": "code",
   "execution_count": null,
   "metadata": {
    "collapsed": false
   },
   "outputs": [],
   "source": [
    "auto h = tdf.Histo1D<double>({\"browserHisto\", \"\", 100, -2., 2.}, \"x\");"
   ]
  },
  {
   "cell_type": "markdown",
   "metadata": {},
   "source": [
    " ## Use the callback mechanism to draw the histogram on a TBrowser while it is being filled\n",
    " So far we have registered a column \"x\" to a data-frame with `nEvents` events and we registered the filling of a\n",
    " histogram with the values of column \"x\".\n",
    " In the following we will register three functions for execution during the event-loop:\n",
    " - one is to be executed once just before the loop and adds a partially-filled histogram to a TBrowser\n",
    " - the next is executed every 50 events and draws the partial histogram on the TBrowser's TPad\n",
    " - another callback is responsible of updating a simple progress bar from multiple threads"
   ]
  },
  {
   "cell_type": "markdown",
   "metadata": {},
   "source": [
    "First off we create a tbrowser that contains a \"rdfresults\" directory"
   ]
  },
  {
   "cell_type": "code",
   "execution_count": null,
   "metadata": {
    "collapsed": false
   },
   "outputs": [],
   "source": [
    "auto tdfDirectory = new TMemFile(\"RDFResults\", \"RECREATE\");\n",
    "auto browser = new TBrowser(\"b\", tdfDirectory);"
   ]
  },
  {
   "cell_type": "markdown",
   "metadata": {},
   "source": [
    "The global pad should now be set to the tbrowser's canvas, let's store its value in a local variable"
   ]
  },
  {
   "cell_type": "code",
   "execution_count": null,
   "metadata": {
    "collapsed": false
   },
   "outputs": [],
   "source": [
    "auto browserPad = gPad;"
   ]
  },
  {
   "cell_type": "markdown",
   "metadata": {},
   "source": [
    "A useful feature of `tresultproxy` is its `onpartialresult` method: it allows us to register a callback that is\n",
    " executed once per specified number of events during the event-loop, on \"partial\" versions of the result objects\n",
    " contained in the `TResultProxy`. In this case, the partial result is going to be a histogram filled with an\n",
    " increasing number of events.\n",
    " Instead of requesting the callback to be executed every N entries, this time we use the special value `kOnce` to\n",
    " request that it is executed once right before starting the event-loop.\n",
    " The callback is a C++11 lambda that registers the partial result object in `tdfDirectory`."
   ]
  },
  {
   "cell_type": "code",
   "execution_count": null,
   "metadata": {
    "collapsed": false
   },
   "outputs": [],
   "source": [
    "h.OnPartialResult(h.kOnce, [tdfDirectory](TH1D &h_) { tdfDirectory->Add(&h_); });"
   ]
  },
  {
   "cell_type": "markdown",
   "metadata": {},
   "source": [
    "Note that we called `onpartialresult` with a dot, `.`, since this is a method of `tresultproxy` itself.\n",
    " We do not want to call `OnPartialResult` on the pointee histogram!)"
   ]
  },
  {
   "cell_type": "markdown",
   "metadata": {},
   "source": [
    "Multiple callbacks can be registered on the same `tresultproxy` (they are executed one after the other in the\n",
    " same order as they were registered). We now request that the partial result is drawn and the TBrowser's TPad is\n",
    " updated every 50 events."
   ]
  },
  {
   "cell_type": "code",
   "execution_count": null,
   "metadata": {
    "collapsed": false
   },
   "outputs": [],
   "source": [
    "h.OnPartialResult(50, [&browserPad](TH1D &hist) {\n",
    "   if (!browserPad)\n",
    "      return; // in case root -b was invoked\n",
    "   browserPad->cd();\n",
    "   hist.Draw();\n",
    "   browserPad->Update();\n",
    "   // This call tells ROOT to process all pending GUI events\n",
    "   // It allows users to use the TBrowser as usual while the event-loop is running\n",
    "   gSystem->ProcessEvents();\n",
    "});"
   ]
  },
  {
   "cell_type": "markdown",
   "metadata": {},
   "source": [
    "Finally, we would like to print a progress bar on the terminal to show how the event-loop is progressing.\n",
    " To take into account _all_ events we use `OnPartialResultSlot`: when Implicit Multi-Threading is enabled, in fact,\n",
    " `OnPartialResult` invokes the callback only in one of the worker threads, and always returns that worker threads'\n",
    " partial result. This is useful because it means we don't have to worry about concurrent execution and\n",
    " thread-safety of the callbacks if we are happy with just one threads' partial result.\n",
    " `OnPartialResultSlot`, on the other hand, invokes the callback in each one of the worker threads, every time a\n",
    " thread finishes processing a batch of `everyN` events. This is what we want for the progress bar, but we need to\n",
    " take care that two threads will not print to terminal at the same time: we need a std::mutex for synchronization."
   ]
  },
  {
   "cell_type": "code",
   "execution_count": null,
   "metadata": {
    "collapsed": false
   },
   "outputs": [],
   "source": [
    "std::string progressBar;\n",
    "std::mutex barMutex; // Only one thread at a time can lock a mutex. Let's use this to avoid concurrent printing."
   ]
  },
  {
   "cell_type": "markdown",
   "metadata": {},
   "source": [
    "Magic numbers that yield good progress bars for nslots = 1,2,4,8"
   ]
  },
  {
   "cell_type": "code",
   "execution_count": null,
   "metadata": {
    "collapsed": false
   },
   "outputs": [],
   "source": [
    "const auto everyN = nSlots == 8 ? 1000 : 100ull * nSlots;\n",
    "const auto barWidth = nEvents / everyN;\n",
    "h.OnPartialResultSlot(everyN, [&barWidth, &progressBar, &barMutex](unsigned int /*slot*/, TH1D & /*partialHist*/) {\n",
    "   std::lock_guard<std::mutex> l(barMutex); // lock_guard locks the mutex at construction, releases it at destruction\n",
    "   progressBar.push_back('#');\n",
    "   // re-print the line with the progress bar\n",
    "   std::cout << \"\\r[\" << std::left << std::setw(barWidth) << progressBar << ']' << std::flush;\n",
    "});"
   ]
  },
  {
   "cell_type": "markdown",
   "metadata": {},
   "source": [
    " ## Running the analysis\n",
    " So far we told RDataFrame what we want to happen during the event-loop, but we have not actually run any of those\n",
    " actions: the TBrowser is still empty, the progress bar has not been printed even once, and we haven't produced\n",
    " a single data-point!\n",
    " As usual with RDataFrame, the event-loop is triggered by accessing the contents of a TResultProxy for the first\n",
    " time. Let's run!"
   ]
  },
  {
   "cell_type": "code",
   "execution_count": null,
   "metadata": {
    "collapsed": false
   },
   "outputs": [],
   "source": [
    "std::cout << \"Analysis running...\" << std::endl;\n",
    "h->Draw(); // the final, complete result will be drawn after the event-loop has completed.\n",
    "std::cout << \"\\nDone!\" << std::endl;"
   ]
  },
  {
   "cell_type": "markdown",
   "metadata": {},
   "source": [
    "Finally, some book-keeping: in the tmemfile that we are using as tbrowser directory, we substitute the partial\n",
    " result with a clone of the final result (the \"original\" final result will be deleted at the end of the macro)."
   ]
  },
  {
   "cell_type": "code",
   "execution_count": null,
   "metadata": {
    "collapsed": false
   },
   "outputs": [],
   "source": [
    "tdfDirectory->Clear();\n",
    "auto clone = static_cast<TH1D *>(h->Clone());\n",
    "clone->SetDirectory(nullptr);\n",
    "tdfDirectory->Add(clone);\n",
    "if (!browserPad)\n",
    "   return; // in case root -b was invoked\n",
    "browserPad->cd();\n",
    "clone->Draw();"
   ]
  },
  {
   "cell_type": "markdown",
   "metadata": {},
   "source": [
    "Draw all canvases "
   ]
  },
  {
   "cell_type": "code",
   "execution_count": null,
   "metadata": {
    "collapsed": false
   },
   "outputs": [],
   "source": [
    "gROOT->GetListOfCanvases()->Draw()"
   ]
  }
 ],
 "metadata": {
  "kernelspec": {
   "display_name": "ROOT C++",
   "language": "c++",
   "name": "root"
  },
  "language_info": {
   "codemirror_mode": "text/x-c++src",
   "file_extension": ".C",
   "mimetype": " text/x-c++src",
   "name": "c++"
  }
 },
 "nbformat": 4,
 "nbformat_minor": 2
}
