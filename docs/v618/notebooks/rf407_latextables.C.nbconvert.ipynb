{
 "cells": [
  {
   "cell_type": "markdown",
   "metadata": {},
   "source": [
    "# Rf 4 0 7_Latextables\n",
    "Data and categories: latex printing of lists and sets of RooArgSets\n",
    "\n",
    "\n",
    "\n",
    "**Author:** 07/2008 - Wouter Verkerke  \n",
    "<i><small>This notebook tutorial was automatically generated with <a href= \"https://github.com/root-project/root/blob/master/documentation/doxygen/converttonotebook.py\">ROOTBOOK-izer</a> from the macro found in the ROOT repository  on Thursday, August 29, 2019 at 02:53 AM.</small></i>"
   ]
  },
  {
   "cell_type": "code",
   "execution_count": 1,
   "metadata": {
    "collapsed": false
   },
   "outputs": [],
   "source": [
    "%%cpp -d\n",
    "#include \"RooRealVar.h\"\n",
    "#include \"RooDataSet.h\"\n",
    "#include \"RooGaussian.h\"\n",
    "#include \"RooConstVar.h\"\n",
    "#include \"RooChebychev.h\"\n",
    "#include \"RooAddPdf.h\"\n",
    "#include \"RooExponential.h\"\n",
    "#include \"TCanvas.h\"\n",
    "#include \"TAxis.h\"\n",
    "#include \"RooPlot.h\""
   ]
  },
  {
   "cell_type": "code",
   "execution_count": 2,
   "metadata": {
    "collapsed": false
   },
   "outputs": [],
   "source": [
    "%%cpp -d\n",
    "// This is a workaround to make sure the namespace is used inside functions\n",
    "using namespace RooFit;"
   ]
  },
  {
   "cell_type": "markdown",
   "metadata": {},
   "source": [
    "Setup composite  pdf\n",
    " --------------------------------------"
   ]
  },
  {
   "cell_type": "markdown",
   "metadata": {},
   "source": [
    "Declare observable x"
   ]
  },
  {
   "cell_type": "code",
   "execution_count": 3,
   "metadata": {
    "collapsed": false
   },
   "outputs": [
    {
     "name": "stdout",
     "output_type": "stream",
     "text": [
      "\n",
      "\u001b[1mRooFit v3.60 -- Developed by Wouter Verkerke and David Kirkby\u001b[0m \n",
      "                Copyright (C) 2000-2013 NIKHEF, University of California & Stanford University\n",
      "                All rights reserved, please read http://roofit.sourceforge.net/license.txt\n",
      "\n"
     ]
    }
   ],
   "source": [
    "RooRealVar x(\"x\", \"x\", 0, 10);"
   ]
  },
  {
   "cell_type": "markdown",
   "metadata": {},
   "source": [
    "Create two gaussian pdfs g1(x,mean1,sigma) anf g2(x,mean2,sigma) and their parameters"
   ]
  },
  {
   "cell_type": "code",
   "execution_count": 4,
   "metadata": {
    "collapsed": false
   },
   "outputs": [],
   "source": [
    "RooRealVar mean(\"mean\", \"mean of gaussians\", 5);\n",
    "RooRealVar sigma1(\"sigma1\", \"width of gaussians\", 0.5);\n",
    "RooRealVar sigma2(\"sigma2\", \"width of gaussians\", 1);\n",
    "RooGaussian sig1(\"sig1\", \"Signal component 1\", x, mean, sigma1);\n",
    "RooGaussian sig2(\"sig2\", \"Signal component 2\", x, mean, sigma2);"
   ]
  },
  {
   "cell_type": "markdown",
   "metadata": {},
   "source": [
    "Sum the signal components into a composite signal p.d.f."
   ]
  },
  {
   "cell_type": "code",
   "execution_count": 5,
   "metadata": {
    "collapsed": false
   },
   "outputs": [],
   "source": [
    "RooRealVar sig1frac(\"sig1frac\", \"fraction of component 1 in signal\", 0.8, 0., 1.);\n",
    "RooAddPdf sig(\"sig\", \"Signal\", RooArgList(sig1, sig2), sig1frac);"
   ]
  },
  {
   "cell_type": "markdown",
   "metadata": {},
   "source": [
    "Build chebychev polynomial p.d.f."
   ]
  },
  {
   "cell_type": "code",
   "execution_count": 6,
   "metadata": {
    "collapsed": false
   },
   "outputs": [],
   "source": [
    "RooRealVar a0(\"a0\", \"a0\", 0.5, 0., 1.);\n",
    "RooRealVar a1(\"a1\", \"a1\", 0.2, 0., 1.);\n",
    "RooChebychev bkg1(\"bkg1\", \"Background 1\", x, RooArgSet(a0, a1));"
   ]
  },
  {
   "cell_type": "markdown",
   "metadata": {},
   "source": [
    "Build expontential pdf"
   ]
  },
  {
   "cell_type": "code",
   "execution_count": 7,
   "metadata": {
    "collapsed": false
   },
   "outputs": [],
   "source": [
    "RooRealVar alpha(\"alpha\", \"alpha\", -1);\n",
    "RooExponential bkg2(\"bkg2\", \"Background 2\", x, alpha);"
   ]
  },
  {
   "cell_type": "markdown",
   "metadata": {},
   "source": [
    "Sum the background components into a composite background p.d.f."
   ]
  },
  {
   "cell_type": "code",
   "execution_count": 8,
   "metadata": {
    "collapsed": false
   },
   "outputs": [],
   "source": [
    "RooRealVar bkg1frac(\"sig1frac\", \"fraction of component 1 in background\", 0.2, 0., 1.);\n",
    "RooAddPdf bkg(\"bkg\", \"Signal\", RooArgList(bkg1, bkg2), sig1frac);"
   ]
  },
  {
   "cell_type": "markdown",
   "metadata": {},
   "source": [
    "Sum the composite signal and background"
   ]
  },
  {
   "cell_type": "code",
   "execution_count": 9,
   "metadata": {
    "collapsed": false
   },
   "outputs": [],
   "source": [
    "RooRealVar bkgfrac(\"bkgfrac\", \"fraction of background\", 0.5, 0., 1.);\n",
    "RooAddPdf model(\"model\", \"g1+g2+a\", RooArgList(bkg, sig), bkgfrac);"
   ]
  },
  {
   "cell_type": "markdown",
   "metadata": {},
   "source": [
    "Make list of parameters before and after fit\n",
    " ----------------------------------------------------------------------------------------"
   ]
  },
  {
   "cell_type": "markdown",
   "metadata": {},
   "source": [
    "Make list of model parameters"
   ]
  },
  {
   "cell_type": "code",
   "execution_count": 10,
   "metadata": {
    "collapsed": false
   },
   "outputs": [],
   "source": [
    "RooArgSet *params = model.getParameters(x);"
   ]
  },
  {
   "cell_type": "markdown",
   "metadata": {},
   "source": [
    "Save snapshot of prefit parameters"
   ]
  },
  {
   "cell_type": "code",
   "execution_count": 11,
   "metadata": {
    "collapsed": false
   },
   "outputs": [],
   "source": [
    "RooArgSet *initParams = (RooArgSet *)params->snapshot();"
   ]
  },
  {
   "cell_type": "markdown",
   "metadata": {},
   "source": [
    "Do fit to data, to obtain error estimates on parameters"
   ]
  },
  {
   "cell_type": "code",
   "execution_count": 12,
   "metadata": {
    "collapsed": false
   },
   "outputs": [
    {
     "name": "stdout",
     "output_type": "stream",
     "text": [
      "[#1] INFO:Minization -- RooMinimizer::optimizeConst: activating const optimization\n",
      "[#1] INFO:Minization --  The following expressions have been identified as constant and will be precalculated and cached: (bkg2,sig1,sig2)\n",
      "[#1] INFO:Minization --  The following expressions will be evaluated in cache-and-track mode: (bkg1)\n",
      " **********\n",
      " **    1 **SET PRINT           1\n",
      " **********\n",
      " **********\n",
      " **    2 **SET NOGRAD\n",
      " **********\n",
      " PARAMETER DEFINITIONS:\n",
      "    NO.   NAME         VALUE      STEP SIZE      LIMITS\n",
      "     1 a0           5.00000e-01  1.00000e-01    0.00000e+00  1.00000e+00\n",
      "     2 a1           2.00000e-01  1.00000e-01    0.00000e+00  1.00000e+00\n",
      "     3 bkgfrac      5.00000e-01  1.00000e-01    0.00000e+00  1.00000e+00\n",
      "     4 sig1frac     8.00000e-01  1.00000e-01    0.00000e+00  1.00000e+00\n",
      " **********\n",
      " **    3 **SET ERR         0.5\n",
      " **********\n",
      " **********\n",
      " **    4 **SET PRINT           1\n",
      " **********\n",
      " **********\n",
      " **    5 **SET STR           1\n",
      " **********\n",
      " NOW USING STRATEGY  1: TRY TO BALANCE SPEED AGAINST RELIABILITY\n",
      " **********\n",
      " **    6 **MIGRAD        2000           1\n",
      " **********\n",
      " FIRST CALL TO USER FUNCTION AT NEW START POINT, WITH IFLAG=4.\n",
      " START MIGRAD MINIMIZATION.  STRATEGY  1.  CONVERGENCE WHEN EDM .LT. 1.00e-03\n",
      " FCN=1963.41 FROM MIGRAD    STATUS=INITIATE       14 CALLS          15 TOTAL\n",
      "                     EDM= unknown      STRATEGY= 1      NO ERROR MATRIX       \n",
      "  EXT PARAMETER               CURRENT GUESS       STEP         FIRST   \n",
      "  NO.   NAME      VALUE            ERROR          SIZE      DERIVATIVE \n",
      "   1  a0           5.00000e-01   1.00000e-01   2.01358e-01   5.45557e+00\n",
      "   2  a1           2.00000e-01   1.00000e-01   2.57889e-01   2.12468e+00\n",
      "   3  bkgfrac      5.00000e-01   1.00000e-01   2.01358e-01   2.95374e+01\n",
      "   4  sig1frac     8.00000e-01   1.00000e-01   2.57889e-01   1.90239e+01\n",
      "                               ERR DEF= 0.5\n",
      " MIGRAD MINIMIZATION HAS CONVERGED.\n",
      " MIGRAD WILL VERIFY CONVERGENCE AND ERROR MATRIX.\n",
      " COVARIANCE MATRIX CALCULATED SUCCESSFULLY\n",
      " FCN=1960.64 FROM MIGRAD    STATUS=CONVERGED     100 CALLS         101 TOTAL\n",
      "                     EDM=3.75265e-06    STRATEGY= 1      ERROR MATRIX ACCURATE \n",
      "  EXT PARAMETER                                   STEP         FIRST   \n",
      "  NO.   NAME      VALUE            ERROR          SIZE      DERIVATIVE \n",
      "   1  a0           6.45917e-01   2.21997e-01   7.59449e-03  -6.13466e-03\n",
      "   2  a1           2.39717e-01   1.63607e-01   8.68922e-03   8.68189e-04\n",
      "   3  bkgfrac      4.48723e-01   2.86509e-02   1.18450e-03   2.52740e-02\n",
      "   4  sig1frac     7.07467e-01   5.79941e-02   1.94490e-03  -2.93455e-02\n",
      "                               ERR DEF= 0.5\n",
      " EXTERNAL ERROR MATRIX.    NDIM=  25    NPAR=  4    ERR DEF=0.5\n",
      "  5.330e-02 -1.068e-02 -1.772e-03 -1.095e-02 \n",
      " -1.068e-02  2.819e-02 -2.571e-03  1.770e-04 \n",
      " -1.772e-03 -2.571e-03  8.218e-04  8.391e-04 \n",
      " -1.095e-02  1.770e-04  8.391e-04  3.382e-03 \n",
      " PARAMETER  CORRELATION COEFFICIENTS  \n",
      "       NO.  GLOBAL      1      2      3      4\n",
      "        1  0.85615   1.000 -0.276 -0.268 -0.815\n",
      "        2  0.68971  -0.276  1.000 -0.534  0.018\n",
      "        3  0.74062  -0.268 -0.534  1.000  0.503\n",
      "        4  0.86784  -0.815  0.018  0.503  1.000\n",
      " **********\n",
      " **    7 **SET ERR         0.5\n",
      " **********\n",
      " **********\n",
      " **    8 **SET PRINT           1\n",
      " **********\n",
      " **********\n",
      " **    9 **HESSE        2000\n",
      " **********\n",
      " COVARIANCE MATRIX CALCULATED SUCCESSFULLY\n",
      " FCN=1960.64 FROM HESSE     STATUS=OK             23 CALLS         124 TOTAL\n",
      "                     EDM=3.75168e-06    STRATEGY= 1      ERROR MATRIX ACCURATE \n",
      "  EXT PARAMETER                                INTERNAL      INTERNAL  \n",
      "  NO.   NAME      VALUE            ERROR       STEP SIZE       VALUE   \n",
      "   1  a0           6.45917e-01   2.21223e-01   1.51890e-03   2.96143e-01\n",
      "   2  a1           2.39717e-01   1.63005e-01   3.47569e-04  -5.47513e-01\n",
      "   3  bkgfrac      4.48723e-01   2.85510e-02   2.36899e-04  -1.02734e-01\n",
      "   4  sig1frac     7.07467e-01   5.77889e-02   3.88981e-04   4.27870e-01\n",
      "                               ERR DEF= 0.5\n",
      " EXTERNAL ERROR MATRIX.    NDIM=  25    NPAR=  4    ERR DEF=0.5\n",
      "  5.289e-02 -1.058e-02 -1.763e-03 -1.085e-02 \n",
      " -1.058e-02  2.797e-02 -2.538e-03  1.785e-04 \n",
      " -1.763e-03 -2.538e-03  8.161e-04  8.330e-04 \n",
      " -1.085e-02  1.785e-04  8.330e-04  3.358e-03 \n",
      " PARAMETER  CORRELATION COEFFICIENTS  \n",
      "       NO.  GLOBAL      1      2      3      4\n",
      "        1  0.85497   1.000 -0.275 -0.268 -0.814\n",
      "        2  0.68674  -0.275  1.000 -0.531  0.018\n",
      "        3  0.73847  -0.268 -0.531  1.000  0.503\n",
      "        4  0.86683  -0.814  0.018  0.503  1.000\n",
      "[#1] INFO:Minization -- RooMinimizer::optimizeConst: deactivating const optimization\n"
     ]
    }
   ],
   "source": [
    "RooDataSet *data = model.generate(x, 1000);\n",
    "model.fitTo(*data);"
   ]
  },
  {
   "cell_type": "markdown",
   "metadata": {},
   "source": [
    "Print latex table of parameters of pdf\n",
    " --------------------------------------------------------------------------"
   ]
  },
  {
   "cell_type": "markdown",
   "metadata": {},
   "source": [
    "Print parameter list in latex for (one column with names, one column with values)"
   ]
  },
  {
   "cell_type": "code",
   "execution_count": 13,
   "metadata": {
    "collapsed": false
   },
   "outputs": [
    {
     "name": "stdout",
     "output_type": "stream",
     "text": [
      "\\begin{tabular}{lc}\n",
      "$\\verb+a0+ $ & $  0.6\\pm 0.2$\\\\\n",
      "$\\verb+a1+ $ & $  0.2\\pm 0.2$\\\\\n",
      "$\\verb+alpha+ $ & $ -1.00$\\\\\n",
      "$\\verb+bkgfrac+ $ & $  0.45\\pm 0.03$\\\\\n",
      "$\\verb+mean+ $ & $  5$\\\\\n",
      "$\\verb+sig1frac+ $ & $  0.71\\pm 0.06$\\\\\n",
      "$\\verb+sigma1+ $ & $  0.5$\\\\\n",
      "$\\verb+sigma2+ $ & $  1$\\\\\n",
      "\\end{tabular}\n"
     ]
    }
   ],
   "source": [
    "params->printLatex();"
   ]
  },
  {
   "cell_type": "markdown",
   "metadata": {},
   "source": [
    "Print parameter list in latex for (names values|names values)"
   ]
  },
  {
   "cell_type": "code",
   "execution_count": 14,
   "metadata": {
    "collapsed": false
   },
   "outputs": [
    {
     "name": "stdout",
     "output_type": "stream",
     "text": [
      "\\begin{tabular}{lc|lc}\n",
      "$\\verb+a0+ $ & $  0.6\\pm 0.2$ & $\\verb+mean+ $ & $  5$\\\\\n",
      "$\\verb+a1+ $ & $  0.2\\pm 0.2$ & $\\verb+sig1frac+ $ & $  0.71\\pm 0.06$\\\\\n",
      "$\\verb+alpha+ $ & $ -1.00$ & $\\verb+sigma1+ $ & $  0.5$\\\\\n",
      "$\\verb+bkgfrac+ $ & $  0.45\\pm 0.03$ & $\\verb+sigma2+ $ & $  1$\\\\\n",
      "\\end{tabular}\n"
     ]
    }
   ],
   "source": [
    "params->printLatex(Columns(2));"
   ]
  },
  {
   "cell_type": "markdown",
   "metadata": {},
   "source": [
    "Print two parameter lists side by side (name values initvalues)"
   ]
  },
  {
   "cell_type": "code",
   "execution_count": 15,
   "metadata": {
    "collapsed": false
   },
   "outputs": [
    {
     "name": "stdout",
     "output_type": "stream",
     "text": [
      "\\begin{tabular}{lcc}\n",
      "$\\verb+a0+ $ & $  0.6\\pm 0.2$ & $ 0.5$\\\\\n",
      "$\\verb+a1+ $ & $  0.2\\pm 0.2$ & $ 0.2$\\\\\n",
      "$\\verb+alpha+ $ & $ -1.00$ & $-1.00$\\\\\n",
      "$\\verb+bkgfrac+ $ & $  0.45\\pm 0.03$ & $ 0.5$\\\\\n",
      "$\\verb+mean+ $ & $  5$ & $ 5$\\\\\n",
      "$\\verb+sig1frac+ $ & $  0.71\\pm 0.06$ & $ 0.8$\\\\\n",
      "$\\verb+sigma1+ $ & $  0.5$ & $ 0.5$\\\\\n",
      "$\\verb+sigma2+ $ & $  1$ & $ 1$\\\\\n",
      "\\end{tabular}\n"
     ]
    }
   ],
   "source": [
    "params->printLatex(Sibling(*initParams));"
   ]
  },
  {
   "cell_type": "markdown",
   "metadata": {},
   "source": [
    "Print two parameter lists side by side (name values initvalues|name values initvalues)"
   ]
  },
  {
   "cell_type": "code",
   "execution_count": 16,
   "metadata": {
    "collapsed": false
   },
   "outputs": [
    {
     "name": "stdout",
     "output_type": "stream",
     "text": [
      "\\begin{tabular}{lcc|lcc}\n",
      "$\\verb+a0+ $ & $  0.6\\pm 0.2$ & $ 0.5$ & $\\verb+mean+ $ & $  5$ & $ 5$\\\\\n",
      "$\\verb+a1+ $ & $  0.2\\pm 0.2$ & $ 0.2$ & $\\verb+sig1frac+ $ & $  0.71\\pm 0.06$ & $ 0.8$\\\\\n",
      "$\\verb+alpha+ $ & $ -1.00$ & $-1.00$ & $\\verb+sigma1+ $ & $  0.5$ & $ 0.5$\\\\\n",
      "$\\verb+bkgfrac+ $ & $  0.45\\pm 0.03$ & $ 0.5$ & $\\verb+sigma2+ $ & $  1$ & $ 1$\\\\\n",
      "\\end{tabular}\n"
     ]
    }
   ],
   "source": [
    "params->printLatex(Sibling(*initParams), Columns(2));"
   ]
  },
  {
   "cell_type": "markdown",
   "metadata": {},
   "source": [
    "Write latex table to file"
   ]
  },
  {
   "cell_type": "code",
   "execution_count": 17,
   "metadata": {
    "collapsed": false
   },
   "outputs": [],
   "source": [
    "params->printLatex(Sibling(*initParams), OutputFile(\"rf407_latextables.tex\"));"
   ]
  }
 ],
 "metadata": {
  "kernelspec": {
   "display_name": "ROOT C++",
   "language": "c++",
   "name": "root"
  },
  "language_info": {
   "codemirror_mode": "text/x-c++src",
   "file_extension": ".C",
   "mimetype": " text/x-c++src",
   "name": "c++"
  }
 },
 "nbformat": 4,
 "nbformat_minor": 2
}
