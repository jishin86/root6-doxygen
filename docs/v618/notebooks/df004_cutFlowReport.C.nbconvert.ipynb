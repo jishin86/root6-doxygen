{
 "cells": [
  {
   "cell_type": "markdown",
   "metadata": {},
   "source": [
    "# Df 0 0 4_Cut Flow Report\n",
    "This tutorial shows how to get information about the efficiency of the filters\n",
    "applied\n",
    "\n",
    "\n",
    "\n",
    "\n",
    "**Author:** Danilo Piparo  \n",
    "<i><small>This notebook tutorial was automatically generated with <a href= \"https://github.com/root-project/root/blob/master/documentation/doxygen/converttonotebook.py\">ROOTBOOK-izer</a> from the macro found in the ROOT repository  on Thursday, August 29, 2019 at 01:00 AM.</small></i>"
   ]
  },
  {
   "cell_type": "code",
   "execution_count": 1,
   "metadata": {
    "collapsed": false
   },
   "outputs": [],
   "source": [
    "using FourVector = ROOT::Math::XYZTVector;\n",
    "using FourVectors = std::vector<FourVector>;\n",
    "using CylFourVector = ROOT::Math::RhoEtaPhiVector;"
   ]
  },
  {
   "cell_type": "markdown",
   "metadata": {},
   "source": [
    "  A simple helper function to fill a test tree: this makes the example\n",
    " stand-alone.\n",
    " "
   ]
  },
  {
   "cell_type": "code",
   "execution_count": 2,
   "metadata": {
    "collapsed": false
   },
   "outputs": [],
   "source": [
    "%%cpp -d\n",
    "void fill_tree(const char *treeName, const char *fileName)\n",
    "{\n",
    "   ROOT::RDataFrame d(50);\n",
    "   int i(0);\n",
    "   d.Define(\"b1\", [&i]() { return (double)i; })\n",
    "      .Define(\"b2\",\n",
    "              [&i]() {\n",
    "                 auto j = i * i;\n",
    "                 ++i;\n",
    "                 return j;\n",
    "              })\n",
    "      .Snapshot(treeName, fileName);\n",
    "}"
   ]
  },
  {
   "cell_type": "markdown",
   "metadata": {},
   "source": [
    "We prepare an input tree to run on"
   ]
  },
  {
   "cell_type": "code",
   "execution_count": 3,
   "metadata": {
    "collapsed": false
   },
   "outputs": [],
   "source": [
    "auto fileName = \"df004_cutFlowReport.root\";\n",
    "auto treeName = \"myTree\";\n",
    "fill_tree(treeName, fileName);"
   ]
  },
  {
   "cell_type": "markdown",
   "metadata": {},
   "source": [
    "We read the tree from the file and create a rdataframe"
   ]
  },
  {
   "cell_type": "code",
   "execution_count": 4,
   "metadata": {
    "collapsed": false
   },
   "outputs": [],
   "source": [
    "ROOT::RDataFrame d(treeName, fileName, {\"b1\", \"b2\"});"
   ]
  },
  {
   "cell_type": "markdown",
   "metadata": {},
   "source": [
    " ## Define cuts and create the report\n",
    " Here we define two simple cuts"
   ]
  },
  {
   "cell_type": "code",
   "execution_count": 5,
   "metadata": {
    "collapsed": false
   },
   "outputs": [],
   "source": [
    "auto cut1 = [](double b1) { return b1 > 25.; };\n",
    "auto cut2 = [](int b2) { return 0 == b2 % 2; };"
   ]
  },
  {
   "cell_type": "markdown",
   "metadata": {},
   "source": [
    "An optional string parameter name can be passed to the filter method to create a named filter.\n",
    " Named filters work as usual, but also keep track of how many entries they accept and reject."
   ]
  },
  {
   "cell_type": "code",
   "execution_count": 6,
   "metadata": {
    "collapsed": false
   },
   "outputs": [],
   "source": [
    "auto filtered1 = d.Filter(cut1, {\"b1\"}, \"Cut1\");\n",
    "auto filtered2 = d.Filter(cut2, {\"b2\"}, \"Cut2\");\n",
    "\n",
    "auto augmented1 = filtered2.Define(\"b3\", [](double b1, int b2) { return b1 / b2; });\n",
    "auto cut3 = [](double x) { return x < .5; };\n",
    "auto filtered3 = augmented1.Filter(cut3, {\"b3\"}, \"Cut3\");"
   ]
  },
  {
   "cell_type": "markdown",
   "metadata": {},
   "source": [
    "Statistics are retrieved through a call to the report method:\n",
    " when Report is called on the main RDataFrame object, it retrieves stats\n",
    " for all named filters declared up to that point.\n",
    " When called on a stored chain state (i.e. a chain/graph node), it\n",
    " retrieves stats for all named filters in the section of the chain between\n",
    " the main RDataFrame and that node (included).\n",
    " Stats are printed in the same order as named filters have been added to\n",
    " the graph, and refer to the latest event-loop that has been run using the\n",
    " relevant RDataFrame."
   ]
  },
  {
   "cell_type": "code",
   "execution_count": 7,
   "metadata": {
    "collapsed": false
   },
   "outputs": [
    {
     "name": "stderr",
     "output_type": "stream",
     "text": [
      "IncrementalExecutor::executeFunction: symbol '_ZSt4moveIRSt10shared_ptrIN4ROOT6Detail3RDF7RFilterIZ16__cling_Un1Qu317PvE3$_0NS4_IZ16__cling_Un1Qu316S5_E3$_1NS3_12RLoopManagerEEEEEEEONSt16remove_referenceIT_E4typeEOSE_' unresolved while linking [cling interface function]!\n",
      "You are probably missing the definition of std::remove_reference<std::shared_ptr<ROOT::Detail::RDF::RFilter<__cling_Un1Qu317(void*)::$_0, ROOT::Detail::RDF::RFilter<__cling_Un1Qu316(void*)::$_1, ROOT::Detail::RDF::RLoopManager> > >&>::type&& std::move<std::shared_ptr<ROOT::Detail::RDF::RFilter<__cling_Un1Qu317(void*)::$_0, ROOT::Detail::RDF::RFilter<__cling_Un1Qu316(void*)::$_1, ROOT::Detail::RDF::RLoopManager> > >&>(std::shared_ptr<ROOT::Detail::RDF::RFilter<__cling_Un1Qu317(void*)::$_0, ROOT::Detail::RDF::RFilter<__cling_Un1Qu316(void*)::$_1, ROOT::Detail::RDF::RLoopManager> > >&)\n",
      "Maybe you need to load the corresponding shared library?\n"
     ]
    }
   ],
   "source": [
    "std::cout << \"Cut3 stats:\" << std::endl;\n",
    "filtered3.Report()->Print();"
   ]
  },
  {
   "cell_type": "markdown",
   "metadata": {},
   "source": [
    "It is not only possible to print the information about cuts, but also to\n",
    " retrieve it to then use it programmatically."
   ]
  },
  {
   "cell_type": "code",
   "execution_count": 8,
   "metadata": {
    "collapsed": false
   },
   "outputs": [
    {
     "name": "stdout",
     "output_type": "stream",
     "text": [
      "All stats:\n",
      "Cut1      : pass=24         all=50         -- eff=48.00 % cumulative eff=48.00 %\n",
      "Cut2      : pass=25         all=50         -- eff=50.00 % cumulative eff=50.00 %\n",
      "Cut3      : pass=23         all=25         -- eff=92.00 % cumulative eff=46.00 %\n"
     ]
    }
   ],
   "source": [
    "std::cout << \"All stats:\" << std::endl;\n",
    "auto allCutsReport = d.Report();\n",
    "allCutsReport->Print();"
   ]
  },
  {
   "cell_type": "markdown",
   "metadata": {},
   "source": [
    "We can now loop on the cuts"
   ]
  },
  {
   "cell_type": "code",
   "execution_count": 9,
   "metadata": {
    "collapsed": false
   },
   "outputs": [
    {
     "name": "stdout",
     "output_type": "stream",
     "text": [
      "Name\tAll\tPass\tEfficiency\n",
      "Cut1\t50\t24\t48 %\n",
      "Cut2\t50\t25\t50 %\n",
      "Cut3\t25\t23\t92 %\n"
     ]
    }
   ],
   "source": [
    "std::cout << \"Name\\tAll\\tPass\\tEfficiency\" << std::endl;\n",
    "for (auto &&cutInfo : allCutsReport) {\n",
    "   std::cout << cutInfo.GetName() << \"\\t\" << cutInfo.GetAll() << \"\\t\" << cutInfo.GetPass() << \"\\t\"\n",
    "             << cutInfo.GetEff() << \" %\" << std::endl;\n",
    "}"
   ]
  },
  {
   "cell_type": "markdown",
   "metadata": {},
   "source": [
    "Or get information about them individually"
   ]
  },
  {
   "cell_type": "code",
   "execution_count": 10,
   "metadata": {
    "collapsed": false
   },
   "outputs": [
    {
     "name": "stdout",
     "output_type": "stream",
     "text": [
      "Cut1 efficiency is 48 %\n"
     ]
    }
   ],
   "source": [
    "auto cutName = \"Cut1\";\n",
    "auto cut = allCutsReport->At(\"Cut1\");\n",
    "std::cout << cutName << \" efficiency is \" << cut.GetEff() << \" %\" << std::endl;"
   ]
  },
  {
   "cell_type": "markdown",
   "metadata": {},
   "source": [
    "Draw all canvases "
   ]
  },
  {
   "cell_type": "code",
   "execution_count": 11,
   "metadata": {
    "collapsed": false
   },
   "outputs": [],
   "source": [
    "gROOT->GetListOfCanvases()->Draw()"
   ]
  }
 ],
 "metadata": {
  "kernelspec": {
   "display_name": "ROOT C++",
   "language": "c++",
   "name": "root"
  },
  "language_info": {
   "codemirror_mode": "text/x-c++src",
   "file_extension": ".C",
   "mimetype": " text/x-c++src",
   "name": "c++"
  }
 },
 "nbformat": 4,
 "nbformat_minor": 2
}
