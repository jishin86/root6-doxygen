{
 "cells": [
  {
   "cell_type": "markdown",
   "metadata": {},
   "source": [
    "# Peaks\n",
    "Illustrates how to find peaks in histograms.\n",
    "\n",
    "This script generates a random number of gaussian peaks\n",
    "on top of a linear background.\n",
    "The position of the peaks is found via TSpectrum and injected\n",
    "as initial values of parameters to make a global fit.\n",
    "The background is computed and drawn on top of the original histogram.\n",
    "\n",
    "This script can fit \"peaks' heights\" or \"peaks' areas\" (comment out\n",
    "or uncomment the line which defines `__PEAKS_C_FIT_AREAS__`).\n",
    "\n",
    "To execute this example, do (in ROOT 5 or ROOT 6):\n",
    "\n",
    "```cpp\n",
    " root > .x peaks.C  (generate 10 peaks by default)\n",
    " root > .x peaks.C++ (use the compiler)\n",
    " root > .x peaks.C++(30) (generates 30 peaks)\n",
    "```\n",
    "\n",
    "To execute only the first part of the script (without fitting)\n",
    "specify a negative value for the number of peaks, eg\n",
    "\n",
    "```cpp\n",
    " root > .x peaks.C(-20)\n",
    "```\n",
    "\n",
    "\n",
    "\n",
    "\n",
    "**Author:** Rene Brun  \n",
    "<i><small>This notebook tutorial was automatically generated with <a href= \"https://github.com/root-project/root/blob/master/documentation/doxygen/converttonotebook.py\">ROOTBOOK-izer</a> from the macro found in the ROOT repository  on Thursday, August 29, 2019 at 03:37 AM.</small></i>"
   ]
  },
  {
   "cell_type": "code",
   "execution_count": 1,
   "metadata": {
    "collapsed": false
   },
   "outputs": [],
   "source": [
    "%%cpp -d\n",
    "#include \"TCanvas.h\"\n",
    "#include \"TMath.h\"\n",
    "#include \"TH1.h\"\n",
    "#include \"TF1.h\"\n",
    "#include \"TRandom.h\"\n",
    "#include \"TSpectrum.h\"\n",
    "#include \"TVirtualFitter.h\""
   ]
  },
  {
   "cell_type": "markdown",
   "metadata": {},
   "source": [
    " Comment out the line below, if you want \"peaks' heights\".\n",
    " Uncomment the line below, if you want \"peaks' areas\".\n",
    "\n",
    " #define __PEAKS_C_FIT_AREAS__ 1 /* fit peaks' areas */"
   ]
  },
  {
   "cell_type": "code",
   "execution_count": 2,
   "metadata": {
    "collapsed": false
   },
   "outputs": [],
   "source": [
    "Int_t npeaks = 30;"
   ]
  },
  {
   "cell_type": "markdown",
   "metadata": {},
   "source": [
    " A helper function is created: "
   ]
  },
  {
   "cell_type": "code",
   "execution_count": 3,
   "metadata": {
    "collapsed": false
   },
   "outputs": [],
   "source": [
    "%%cpp -d\n",
    "Double_t fpeaks(Double_t *x, Double_t *par) {\n",
    "   Double_t result = par[0] + par[1]*x[0];\n",
    "   for (Int_t p=0;p<npeaks;p++) {\n",
    "      Double_t norm  = par[3*p+2]; // \"height\" or \"area\"\n",
    "      Double_t mean  = par[3*p+3];\n",
    "      Double_t sigma = par[3*p+4];\n",
    "#if defined(__PEAKS_C_FIT_AREAS__)\n",
    "      norm /= sigma * (TMath::Sqrt(TMath::TwoPi())); // \"area\"\n",
    "#endif /* defined(__PEAKS_C_FIT_AREAS__) */\n",
    "      result += norm*TMath::Gaus(x[0],mean,sigma);\n",
    "   }\n",
    "   return result;\n",
    "}"
   ]
  },
  {
   "cell_type": "markdown",
   "metadata": {},
   "source": [
    " Arguments are defined. "
   ]
  },
  {
   "cell_type": "code",
   "execution_count": 4,
   "metadata": {
    "collapsed": false
   },
   "outputs": [],
   "source": [
    "Int_t np=10;"
   ]
  },
  {
   "cell_type": "code",
   "execution_count": 5,
   "metadata": {
    "collapsed": false
   },
   "outputs": [],
   "source": [
    "npeaks = TMath::Abs(np);\n",
    "TH1F *h = new TH1F(\"h\",\"test\",500,0,1000);"
   ]
  },
  {
   "cell_type": "markdown",
   "metadata": {},
   "source": [
    "Generate n peaks at random"
   ]
  },
  {
   "cell_type": "code",
   "execution_count": 6,
   "metadata": {
    "collapsed": false
   },
   "outputs": [],
   "source": [
    "Double_t par[3000];\n",
    "par[0] = 0.8;\n",
    "par[1] = -0.6/1000;\n",
    "Int_t p;\n",
    "for (p=0;p<npeaks;p++) {\n",
    "   par[3*p+2] = 1; // \"height\"\n",
    "   par[3*p+3] = 10+gRandom->Rndm()*980; // \"mean\"\n",
    "   par[3*p+4] = 3+2*gRandom->Rndm(); // \"sigma\"\n",
    "#if defined(__PEAKS_C_FIT_AREAS__)\n",
    "   par[3*p+2] *= par[3*p+4] * (TMath::Sqrt(TMath::TwoPi())); // \"area\"\n",
    "#endif /* defined(__PEAKS_C_FIT_AREAS__) */\n",
    "}\n",
    "TF1 *f = new TF1(\"f\",fpeaks,0,1000,2+3*npeaks);\n",
    "f->SetNpx(1000);\n",
    "f->SetParameters(par);\n",
    "TCanvas *c1 = new TCanvas(\"c1\",\"c1\",10,10,1000,900);\n",
    "c1->Divide(1,2);\n",
    "c1->cd(1);\n",
    "h->FillRandom(\"f\",200000);\n",
    "h->Draw();\n",
    "TH1F *h2 = (TH1F*)h->Clone(\"h2\");"
   ]
  },
  {
   "cell_type": "markdown",
   "metadata": {},
   "source": [
    "Use tspectrum to find the peak candidates"
   ]
  },
  {
   "cell_type": "code",
   "execution_count": 7,
   "metadata": {
    "collapsed": false
   },
   "outputs": [
    {
     "name": "stdout",
     "output_type": "stream",
     "text": [
      "Found 9 candidate peaks to fit\n"
     ]
    }
   ],
   "source": [
    "TSpectrum *s = new TSpectrum(2*npeaks);\n",
    "Int_t nfound = s->Search(h,2,\"\",0.10);\n",
    "printf(\"Found %d candidate peaks to fit\\n\",nfound);"
   ]
  },
  {
   "cell_type": "markdown",
   "metadata": {},
   "source": [
    "Estimate background using tspectrum::background"
   ]
  },
  {
   "cell_type": "code",
   "execution_count": 8,
   "metadata": {
    "collapsed": false
   },
   "outputs": [],
   "source": [
    "TH1 *hb = s->Background(h,20,\"same\");\n",
    "if (hb) c1->Update();\n",
    "if (np <0) return;"
   ]
  },
  {
   "cell_type": "markdown",
   "metadata": {},
   "source": [
    "Estimate linear background using a fitting method"
   ]
  },
  {
   "cell_type": "code",
   "execution_count": 9,
   "metadata": {
    "collapsed": false
   },
   "outputs": [],
   "source": [
    "c1->cd(2);\n",
    "TF1 *fline = new TF1(\"fline\",\"pol1\",0,1000);\n",
    "h->Fit(\"fline\",\"qn\");"
   ]
  },
  {
   "cell_type": "markdown",
   "metadata": {},
   "source": [
    "Loop on all found peaks. eliminate peaks at the background level"
   ]
  },
  {
   "cell_type": "code",
   "execution_count": 10,
   "metadata": {
    "collapsed": false
   },
   "outputs": [
    {
     "name": "stdout",
     "output_type": "stream",
     "text": [
      "Found 9 useful peaks to fit\n",
      "Now fitting: Be patient\n"
     ]
    }
   ],
   "source": [
    "par[0] = fline->GetParameter(0);\n",
    "par[1] = fline->GetParameter(1);\n",
    "npeaks = 0;\n",
    "Double_t *xpeaks;\n",
    "xpeaks = s->GetPositionX();\n",
    "for (p=0;p<nfound;p++) {\n",
    "   Double_t xp = xpeaks[p];\n",
    "   Int_t bin = h->GetXaxis()->FindBin(xp);\n",
    "   Double_t yp = h->GetBinContent(bin);\n",
    "   if (yp-TMath::Sqrt(yp) < fline->Eval(xp)) continue;\n",
    "   par[3*npeaks+2] = yp; // \"height\"\n",
    "   par[3*npeaks+3] = xp; // \"mean\"\n",
    "   par[3*npeaks+4] = 3; // \"sigma\"\n",
    "#if defined(__PEAKS_C_FIT_AREAS__)\n",
    "   par[3*npeaks+2] *= par[3*npeaks+4] * (TMath::Sqrt(TMath::TwoPi())); // \"area\"\n",
    "#endif /* defined(__PEAKS_C_FIT_AREAS__) */\n",
    "   npeaks++;\n",
    "}\n",
    "printf(\"Found %d useful peaks to fit\\n\",npeaks);\n",
    "printf(\"Now fitting: Be patient\\n\");\n",
    "TF1 *fit = new TF1(\"fit\",fpeaks,0,1000,2+3*npeaks);"
   ]
  },
  {
   "cell_type": "markdown",
   "metadata": {},
   "source": [
    "We may have more than the default 25 parameters"
   ]
  },
  {
   "cell_type": "code",
   "execution_count": 11,
   "metadata": {
    "collapsed": false
   },
   "outputs": [
    {
     "name": "stdout",
     "output_type": "stream",
     "text": [
      " FCN=596.686 FROM MIGRAD    STATUS=CONVERGED    1343 CALLS        1344 TOTAL\n",
      "                     EDM=3.92392e-07    STRATEGY= 1  ERROR MATRIX UNCERTAINTY   4.1 per cent\n",
      "  EXT PARAMETER                                   STEP         FIRST   \n",
      "  NO.   NAME      VALUE            ERROR          SIZE      DERIVATIVE \n",
      "   1  p0           5.27684e+02   2.01895e+00   1.61337e-04   1.75611e-05\n",
      "   2  p1          -3.95030e-01   3.04733e-03  -2.24976e-07   9.00273e-03\n",
      "   3  p2           6.34691e+02   2.03922e+01   6.11343e-03   8.34700e-06\n",
      "   4  p3           5.19331e+02   9.71873e-02  -3.36434e-05   5.32034e-03\n",
      "   5  p4           3.49850e+00   1.08256e-01  -2.36209e-05   1.49297e-03\n",
      "   6  p5           6.64734e+02   1.64194e+01  -1.21344e-03   3.63148e-06\n",
      "   7  p6           3.19147e+02   1.05478e-01   7.08426e-06   2.00939e-04\n",
      "   8  p7           4.69148e+00   9.07160e-02   1.69389e-06  -1.62399e-03\n",
      "   9  p8           6.70930e+02   1.64206e+01   3.50063e-03  -9.49091e-06\n",
      "  10  p9           7.54806e+02   9.99565e-02   1.99123e-05  -2.47890e-03\n",
      "  11  p10          4.29726e+00   7.99677e-02  -3.50356e-05  -3.01094e-03\n",
      "  12  p11          6.69618e+02   1.73089e+01  -7.16995e-03   1.61496e-05\n",
      "  13  p12          4.75964e+02   9.46541e-02  -1.85498e-05  -6.93464e-04\n",
      "  14  p13          3.89327e+00   8.40808e-02   2.51847e-05  -4.75462e-03\n",
      "  15  p14          6.48094e+02   1.48388e+01   1.51648e-02   1.40873e-05\n",
      "  16  p15          9.89666e+02   7.93960e-02   2.05426e-08   5.80091e-03\n",
      "  17  p16          3.34529e+00   5.62112e-02   6.45922e-06   6.69573e-03\n",
      "  18  p17          6.62565e+02   1.83711e+01   9.37344e-03   1.71791e-05\n",
      "  19  p18          5.39268e+02   1.17175e-01  -4.07242e-05   2.90506e-04\n",
      "  20  p19          4.56057e+00   9.79810e-02  -3.17654e-05   1.67849e-03\n",
      "  21  p20          6.59405e+02   1.56865e+01  -5.02844e-03   1.33136e-05\n",
      "  22  p21          9.48476e+02   1.01997e-01  -2.38534e-05  -2.87561e-03\n",
      "  23  p22          4.41169e+00   8.80653e-02   3.30904e-05  -1.55483e-04\n",
      "  24  p23          7.53519e+02   1.46208e+01  -1.21918e-03  -1.58005e-05\n",
      "  25  p24          2.32585e+02   1.49583e-01   4.30086e-05   2.06782e-03\n",
      "  26  p25          6.95026e+00   1.18485e-01   1.79213e-05   3.79338e-04\n",
      "  27  p26          6.45490e+02   1.58541e+01   5.23845e-03   8.39699e-06\n",
      "  28  p27          2.86948e+02   1.20789e-01   7.08536e-05  -1.98488e-04\n",
      "  29  p28          4.98698e+00   9.92605e-02  -3.61574e-05   3.47101e-03\n"
     ]
    }
   ],
   "source": [
    "TVirtualFitter::Fitter(h2,10+3*npeaks);\n",
    "fit->SetParameters(par);\n",
    "fit->SetNpx(1000);\n",
    "h2->Fit(\"fit\");"
   ]
  },
  {
   "cell_type": "markdown",
   "metadata": {},
   "source": [
    "Draw all canvases "
   ]
  },
  {
   "cell_type": "code",
   "execution_count": 12,
   "metadata": {
    "collapsed": false
   },
   "outputs": [
    {
     "data": {
      "image/png": "[encoded data removed]",
      "text/plain": [
       "<IPython.core.display.Image object>"
      ]
     },
     "metadata": {},
     "output_type": "display_data"
    }
   ],
   "source": [
    "gROOT->GetListOfCanvases()->Draw()"
   ]
  }
 ],
 "metadata": {
  "kernelspec": {
   "display_name": "ROOT C++",
   "language": "c++",
   "name": "root"
  },
  "language_info": {
   "codemirror_mode": "text/x-c++src",
   "file_extension": ".C",
   "mimetype": " text/x-c++src",
   "name": "c++"
  }
 },
 "nbformat": 4,
 "nbformat_minor": 2
}
