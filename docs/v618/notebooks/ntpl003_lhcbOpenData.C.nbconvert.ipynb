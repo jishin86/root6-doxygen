{
 "cells": [
  {
   "cell_type": "markdown",
   "metadata": {},
   "source": [
    "# Ntpl 0 0 3_Lhcb Open Data\n",
    "Convert LHCb run 1 open data from a TTree to RNTuple.\n",
    "This tutorial illustrates data conversion for a simple, tabular data model.\n",
    "For reading, the tutorial shows the use of an ntuple View, which selectively accesses specific fields.\n",
    "If a view is used for reading, there is no need to define the data model as an RNTupleModel first.\n",
    "The advantage of a view is that it directly accesses RNTuple's data buffers without making an additional\n",
    "memory copy.\n",
    "\n",
    "\n",
    "\n",
    "\n",
    "**Author:** The ROOT Team  \n",
    "<i><small>This notebook tutorial was automatically generated with <a href= \"https://github.com/root-project/root/blob/master/documentation/doxygen/converttonotebook.py\">ROOTBOOK-izer</a> from the macro found in the ROOT repository  on Thursday, August 29, 2019 at 04:05 AM.</small></i>"
   ]
  },
  {
   "cell_type": "markdown",
   "metadata": {},
   "source": [
    "Note: the rntuple classes are experimental at this point.\n",
    " Functionality, interface, and data format is still subject to changes.\n",
    " Do not use for real data!"
   ]
  },
  {
   "cell_type": "code",
   "execution_count": 1,
   "metadata": {
    "collapsed": false
   },
   "outputs": [
    {
     "name": "stderr",
     "output_type": "stream",
     "text": [
      "input_line_26:1:10: fatal error: 'ROOT/RField.hxx' file not found\n",
      "#include <ROOT/RField.hxx>\n",
      "         ^~~~~~~~~~~~~~~~~\n"
     ]
    }
   ],
   "source": [
    "%%cpp -d\n",
    "#include <ROOT/RField.hxx>\n",
    "#include <ROOT/RNTuple.hxx>\n",
    "#include <ROOT/RNTupleModel.hxx>\n",
    "\n",
    "#include <TBranch.h>\n",
    "#include <TCanvas.h>\n",
    "#include <TFile.h>\n",
    "#include <TH1F.h>\n",
    "#include <TLeaf.h>\n",
    "#include <TSystem.h>\n",
    "#include <TTree.h>\n",
    "\n",
    "#include <cassert>\n",
    "#include <memory>\n",
    "#include <vector>"
   ]
  },
  {
   "cell_type": "markdown",
   "metadata": {},
   "source": [
    "Import classes from experimental namespace for the time being"
   ]
  },
  {
   "cell_type": "code",
   "execution_count": 2,
   "metadata": {
    "collapsed": false
   },
   "outputs": [
    {
     "name": "stderr",
     "output_type": "stream",
     "text": [
      "input_line_27:1:42: error: no type named 'RNTupleModel' in namespace 'ROOT::Experimental'\n",
      "using RNTupleModel = ROOT::Experimental::RNTupleModel;void __cling_Un1Qu32(void* vpClingValue) {\n",
      "                     ~~~~~~~~~~~~~~~~~~~~^\n",
      "input_line_27:3:40: error: 'Detail' is not a class, namespace, or enumeration\n",
      "using RFieldBase = ROOT::Experimental::Detail::RFieldBase;\n",
      "                                       ^\n",
      "/mnt/build/workspace/root-makedoc-v618/rootspi/rdoc/src/v6-18-00-patches.build/include/ROOT/RNotFn.hxx:31:11: note: 'Detail' declared here\n",
      "namespace Detail {\n",
      "          ^\n",
      "input_line_27:4:43: error: no type named 'RNTupleReader' in namespace 'ROOT::Experimental'\n",
      "using RNTupleReader = ROOT::Experimental::RNTupleReader;\n",
      "                      ~~~~~~~~~~~~~~~~~~~~^\n",
      "input_line_27:5:43: error: no type named 'RNTupleWriter' in namespace 'ROOT::Experimental'\n",
      "using RNTupleWriter = ROOT::Experimental::RNTupleWriter;\n",
      "                      ~~~~~~~~~~~~~~~~~~~~^\n"
     ]
    }
   ],
   "source": [
    "using RNTupleModel = ROOT::Experimental::RNTupleModel;\n",
    "using RFieldBase = ROOT::Experimental::Detail::RFieldBase;\n",
    "using RNTupleReader = ROOT::Experimental::RNTupleReader;\n",
    "using RNTupleWriter = ROOT::Experimental::RNTupleWriter;\n",
    "\n",
    "constexpr char const* kTreeFileName = \"http://root.cern.ch/files/LHCb/lhcb_B2HHH_MagnetUp.root\";\n",
    "constexpr char const* kNTupleFileName = \"ntpl003_lhcbOpenData.root\";"
   ]
  },
  {
   "cell_type": "markdown",
   "metadata": {},
   "source": [
    " A helper function is created: "
   ]
  },
  {
   "cell_type": "code",
   "execution_count": 3,
   "metadata": {
    "collapsed": false
   },
   "outputs": [
    {
     "name": "stderr",
     "output_type": "stream",
     "text": [
      "input_line_32:2:41: error: use of undeclared identifier 'kTreeFileName'\n",
      "   std::unique_ptr<TFile> f(TFile::Open(kTreeFileName));\n",
      "                                        ^\n",
      "input_line_32:6:17: error: use of undeclared identifier 'RNTupleModel'\n",
      "   auto model = RNTupleModel::Create();\n",
      "                ^\n",
      "input_line_32:19:20: error: use of undeclared identifier 'RFieldBase'\n",
      "      auto field = RFieldBase::Create(l->GetName(), l->GetTypeName());\n",
      "                   ^\n",
      "input_line_32:25:39: error: use of undeclared identifier 'RFieldBase'\n",
      "      model->AddField(std::unique_ptr<RFieldBase>(field));\n",
      "                                      ^\n",
      "input_line_32:34:18: error: use of undeclared identifier 'RNTupleWriter'\n",
      "   auto ntuple = RNTupleWriter::Recreate(std::move(model), \"DecayTree\", kNTupleFileName);\n",
      "                 ^\n",
      "input_line_32:34:73: error: use of undeclared identifier 'kNTupleFileName'\n",
      "   auto ntuple = RNTupleWriter::Recreate(std::move(model), \"DecayTree\", kNTupleFileName);\n",
      "                                                                        ^\n"
     ]
    }
   ],
   "source": [
    "%%cpp -d\n",
    "void Convert() {\n",
    "   std::unique_ptr<TFile> f(TFile::Open(kTreeFileName));\n",
    "   assert(f && ! f->IsZombie());\n",
    "\n",
    "   // Get a unique pointer to an empty RNTuple model\n",
    "   auto model = RNTupleModel::Create();\n",
    "\n",
    "   // We create RNTuple fields based on the types found in the TTree\n",
    "   // This simple approach only works for trees with simple branches and only one leaf per branch\n",
    "   auto tree = f->Get<TTree>(\"DecayTree\");\n",
    "   for (auto b : TRangeDynCast<TBranch>(*tree->GetListOfBranches())) {\n",
    "      // The dynamic cast to TBranch should never fail for GetListOfBranches()\n",
    "      assert(b);\n",
    "\n",
    "      // We assume every branch has a single leaf\n",
    "      TLeaf *l = static_cast<TLeaf*>(b->GetListOfLeaves()->First());\n",
    "\n",
    "      // Create an ntuple field with the same name and type than the tree branch\n",
    "      auto field = RFieldBase::Create(l->GetName(), l->GetTypeName());\n",
    "      std::cout << \"Convert leaf \" << l->GetName() << \" [\" << l->GetTypeName() << \"]\"\n",
    "                << \" --> \" << \"field \" << field->GetName() << \" [\" << field->GetType() << \"]\" << std::endl;\n",
    "\n",
    "      // Hand over ownership of the field to the ntuple model.  This will also create a memory location attached\n",
    "      // to the model's default entry, that will be used to place the data supposed to be written\n",
    "      model->AddField(std::unique_ptr<RFieldBase>(field));\n",
    "\n",
    "      // We connect the model's default entry's memory location for the new field to the branch, so that we can\n",
    "      // fill the ntuple with the data read from the TTree\n",
    "      void *fieldDataPtr = model->GetDefaultEntry()->GetValue(l->GetName()).GetRawPtr();\n",
    "      tree->SetBranchAddress(b->GetName(), fieldDataPtr);\n",
    "   }\n",
    "\n",
    "   // The new ntuple takes ownership of the model\n",
    "   auto ntuple = RNTupleWriter::Recreate(std::move(model), \"DecayTree\", kNTupleFileName);\n",
    "\n",
    "   auto nEntries = tree->GetEntries();\n",
    "   for (decltype(nEntries) i = 0; i < nEntries; ++i) {\n",
    "      tree->GetEntry(i);\n",
    "      ntuple->Fill();\n",
    "\n",
    "      if (i && i % 100000 == 0)\n",
    "         std::cout << \"Wrote \" << i << \" entries\" << std::endl;\n",
    "   }\n",
    "}"
   ]
  },
  {
   "cell_type": "code",
   "execution_count": 4,
   "metadata": {
    "collapsed": false
   },
   "outputs": [
    {
     "name": "stderr",
     "output_type": "stream",
     "text": [
      "input_line_34:2:57: error: use of undeclared identifier 'kNTupleFileName'\n",
      " (((*(class TSystem **)0x7f851a826af0))->AccessPathName(kNTupleFileName))\n",
      "                                                        ^\n",
      "Error in <HandleInterpreterException>: Error evaluating expression (((*(class TSystem **)0x7f851a826af0))->AccessPathName(kNTupleFileName)).\n",
      "Execution of your code was aborted.\n"
     ]
    }
   ],
   "source": [
    "if (gSystem->AccessPathName(kNTupleFileName))\n",
    "   Convert();"
   ]
  },
  {
   "cell_type": "markdown",
   "metadata": {},
   "source": [
    "Create histogram of the flight distance"
   ]
  },
  {
   "cell_type": "markdown",
   "metadata": {},
   "source": [
    "We open the ntuple without specifiying an explicit model first, but instead use a view on the field we are\n",
    " interested in"
   ]
  },
  {
   "cell_type": "code",
   "execution_count": 5,
   "metadata": {
    "collapsed": false
   },
   "outputs": [
    {
     "name": "stderr",
     "output_type": "stream",
     "text": [
      "input_line_35:2:16: error: 'RNTupleReader' is not a class, namespace, or enumeration\n",
      " auto ntuple = RNTupleReader::Open(\"DecayTree\", kNTupleFileName);\n",
      "               ^\n",
      "input_line_35:2:16: note: 'RNTupleReader' declared here\n",
      "input_line_35:2:49: error: use of undeclared identifier 'kNTupleFileName'\n",
      " auto ntuple = RNTupleReader::Open(\"DecayTree\", kNTupleFileName);\n",
      "                                                ^\n"
     ]
    }
   ],
   "source": [
    "auto ntuple = RNTupleReader::Open(\"DecayTree\", kNTupleFileName);"
   ]
  },
  {
   "cell_type": "markdown",
   "metadata": {},
   "source": [
    "The view wraps a read-only double value and accesses directly the ntuple's data buffers"
   ]
  },
  {
   "cell_type": "code",
   "execution_count": 6,
   "metadata": {
    "collapsed": false
   },
   "outputs": [
    {
     "name": "stderr",
     "output_type": "stream",
     "text": [
      "input_line_36:2:36: error: use 'template' keyword to treat 'GetView' as a dependent template name\n",
      " auto viewFlightDistance = ntuple->GetView<double>(\"B_FlightDistance\");\n",
      "                                   ^\n",
      "                                   template \n",
      "input_line_36:8:15: error: use of undeclared identifier 'ntuple'\n",
      "for (auto i : ntuple->GetViewRange()) {\n",
      "              ^\n",
      "input_line_36:2:2: error: Syntax error\n",
      " auto viewFlightDistance = ntuple->GetView<double>(\"B_FlightDistance\");\n",
      " ^\n",
      "FunctionDecl 0x55c6c73f57a0 <input_line_36:1:1, line:16:1> line:1:6 __cling_Un1Qu36 'void (void *)'\n",
      "|-ParmVarDecl 0x55c6c73f56f8 <col:22, col:28> col:28 vpClingValue 'void *'\n",
      "|-CompoundStmt 0x55c6c74007a0 <col:42, line:16:1>\n",
      "| |-DeclStmt 0x55c6c73f5bd0 <line:2:2, col:71>\n",
      "| | `-VarDecl 0x55c6c73f5870 <col:2, col:70> col:7 used viewFlightDistance 'auto' cinit\n",
      "| |   `-CallExpr 0x55c6c73f5b78 <col:28, col:70> '<dependent type>'\n",
      "| |     |-CXXDependentScopeMemberExpr 0x55c6c73f5aa8 <col:28, col:50> '<dependent type>' lvalue ->GetView\n",
      "| |     | `-DeclRefExpr 0x55c6c73f5998 <col:28> '<dependent type>' lvalue Var 0x55c6c73f58d0 'ntuple' '<dependent type>'\n",
      "| |     `-StringLiteral 0x55c6c73f5b40 <col:52> 'const char [17]' lvalue \"B_FlightDistance\"\n",
      "| |-DeclStmt 0x55c6c73fe020 <line:4:1, col:66>\n",
      "| | `-VarDecl 0x55c6c73f5bf8 <col:1, col:65> col:6 c 'class TCanvas *':'class TCanvas *' cinit\n",
      "| |   `-CXXNewExpr 0x55c6c73fdf38 <col:10, col:65> 'class TCanvas *' CXXMethod 0x55c6c43c2778 'operator new' 'void *(size_t)'\n",
      "| |     `-CXXConstructExpr 0x55c6c73fdbf8 <col:14, col:65> 'class TCanvas' 'void (const char *, const char *, Int_t, Int_t, Int_t, Int_t)'\n",
      "| |       |-ImplicitCastExpr 0x55c6c73fdbc8 <col:22> 'const char *' <ArrayToPointerDecay>\n",
      "| |       | `-StringLiteral 0x55c6c73f5c58 <col:22> 'const char [2]' lvalue \"c\"\n",
      "| |       |-ImplicitCastExpr 0x55c6c73fdbe0 <col:27> 'const char *' <ArrayToPointerDecay>\n",
      "| |       | `-StringLiteral 0x55c6c73f5c88 <col:27> 'const char [18]' lvalue \"B Flight Distance\"\n",
      "| |       |-IntegerLiteral 0x55c6c73f5cc8 <col:48> 'int' 200\n",
      "| |       |-IntegerLiteral 0x55c6c73f5ce8 <col:53> 'int' 10\n",
      "| |       |-IntegerLiteral 0x55c6c73f5d08 <col:57> 'int' 700\n",
      "| |       `-IntegerLiteral 0x55c6c73f5d28 <col:62> 'int' 500\n",
      "| |-DeclStmt 0x55c6c73ff788 <line:5:1, col:46>\n",
      "| | `-VarDecl 0x55c6c73fe048 <col:1, col:45> col:6 used h 'class TH1F' callinit\n",
      "| |   `-CXXConstructExpr 0x55c6c73ff500 <col:6, col:45> 'class TH1F' 'void (const char *, const char *, Int_t, Double_t, Double_t)'\n",
      "| |     |-ImplicitCastExpr 0x55c6c73ff4a0 <col:8> 'const char *' <ArrayToPointerDecay>\n",
      "| |     | `-StringLiteral 0x55c6c73fe0a8 <col:8> 'const char [2]' lvalue \"h\"\n",
      "| |     |-ImplicitCastExpr 0x55c6c73ff4b8 <col:13> 'const char *' <ArrayToPointerDecay>\n",
      "| |     | `-StringLiteral 0x55c6c73fe0d8 <col:13> 'const char [18]' lvalue \"B Flight Distance\"\n",
      "| |     |-IntegerLiteral 0x55c6c73fe118 <col:34> 'int' 200\n",
      "| |     |-ImplicitCastExpr 0x55c6c73ff4d0 <col:39> 'Double_t':'double' <IntegralToFloating>\n",
      "| |     | `-IntegerLiteral 0x55c6c73fe138 <col:39> 'int' 0\n",
      "| |     `-ImplicitCastExpr 0x55c6c73ff4e8 <col:42> 'Double_t':'double' <IntegralToFloating>\n",
      "| |       `-IntegerLiteral 0x55c6c73fe158 <col:42> 'int' 140\n",
      "| |-CXXMemberCallExpr 0x55c6c73ffa30 <line:6:1, col:18> 'void'\n",
      "| | |-MemberExpr 0x55c6c73ff900 <col:1, col:3> '<bound member function type>' .SetFillColor 0x55c6c3cd8218\n",
      "| | | `-ImplicitCastExpr 0x55c6c73ffa60 <col:1> 'class TAttFill' lvalue <UncheckedDerivedToBase (TH1 -> TAttFill)>\n",
      "| | |   `-DeclRefExpr 0x55c6c73ff7a0 <col:1> 'class TH1F' lvalue Var 0x55c6c73fe048 'h' 'class TH1F'\n",
      "| | `-ImplicitCastExpr 0x55c6c73ffa88 <col:16> 'Color_t':'short' <IntegralCast>\n",
      "| |   `-IntegerLiteral 0x55c6c73ffa10 <col:16> 'int' 48\n",
      "| |-CXXMemberCallExpr 0x55c6c74006c8 <line:14:1, col:12> 'class TH1 *'\n",
      "| | |-MemberExpr 0x55c6c7400690 <col:1, col:3> '<bound member function type>' .DrawCopy 0x55c6c7400350\n",
      "| | | `-ImplicitCastExpr 0x55c6c7400718 <col:1> 'const class TH1' lvalue <UncheckedDerivedToBase (TH1)>\n",
      "| | |   `-DeclRefExpr 0x55c6c7400320 <col:1> 'class TH1F' lvalue Var 0x55c6c73fe048 'h' 'class TH1F'\n",
      "| | |-CXXDefaultArgExpr 0x55c6c7400750 <<invalid sloc>> 'const char *'\n",
      "| | `-CXXDefaultArgExpr 0x55c6c7400770 <<invalid sloc>> 'const char *'\n",
      "| `-NullStmt 0x55c6c7400790 <line:15:1>\n",
      "|-AnnotateAttr 0x55c6c73f5930 <<invalid sloc>> R\"ATTRDUMP(__ResolveAtRuntime)ATTRDUMP\"\n",
      "`-AnnotateAttr 0x55c6c73f5a40 <<invalid sloc>> R\"ATTRDUMP(__ResolveAtRuntime)ATTRDUMP\"\n",
      "<<<NULL>>>\n"
     ]
    }
   ],
   "source": [
    "auto viewFlightDistance = ntuple->GetView<double>(\"B_FlightDistance\");\n",
    "\n",
    "auto c = new TCanvas(\"c\", \"B Flight Distance\", 200, 10, 700, 500);\n",
    "TH1F h(\"h\", \"B Flight Distance\", 200, 0, 140);\n",
    "h.SetFillColor(48);\n",
    "\n",
    "for (auto i : ntuple->GetViewRange()) {\n",
    "   // Note that we do not load an entry in this loop, i.e. we avoid the memory copy of loading the data into\n",
    "   // the memory location given by the entry\n",
    "   h.Fill(viewFlightDistance(i));\n",
    "}\n",
    "\n",
    "h.DrawCopy();"
   ]
  },
  {
   "cell_type": "markdown",
   "metadata": {},
   "source": [
    "Draw all canvases "
   ]
  },
  {
   "cell_type": "code",
   "execution_count": 7,
   "metadata": {
    "collapsed": false
   },
   "outputs": [],
   "source": [
    "gROOT->GetListOfCanvases()->Draw()"
   ]
  }
 ],
 "metadata": {
  "kernelspec": {
   "display_name": "ROOT C++",
   "language": "c++",
   "name": "root"
  },
  "language_info": {
   "codemirror_mode": "text/x-c++src",
   "file_extension": ".C",
   "mimetype": " text/x-c++src",
   "name": "c++"
  }
 },
 "nbformat": 4,
 "nbformat_minor": 2
}
