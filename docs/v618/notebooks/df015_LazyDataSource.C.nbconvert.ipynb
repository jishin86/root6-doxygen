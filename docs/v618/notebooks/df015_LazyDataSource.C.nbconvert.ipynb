{
 "cells": [
  {
   "cell_type": "markdown",
   "metadata": {},
   "source": [
    "# Df 0 1 5_ Lazy Data Source\n",
    "This tutorial illustrates how to take advantage of a *lazy data source*\n",
    "creating a data frame from columns of one or multiple parent dataframe(s),\n",
    "delaying the creation of the columns to the actual usage of the daughter\n",
    "data frame.\n",
    "Dataset Reference:\n",
    "McCauley, T. (2014). Dimuon event information derived from the Run2010B\n",
    "public Mu dataset. CERN Open Data Portal.\n",
    "DOI: [10.7483/OPENDATA.CMS.CB8H.MFFA](http://opendata.cern.ch/record/700).\n",
    "From the ROOT website: https://root.cern.ch/files/tutorials/tdf014_CsvDataSource_MuRun2010B.csv\n",
    "\n",
    "\n",
    "\n",
    "\n",
    "**Author:** Danilo Piparo  \n",
    "<i><small>This notebook tutorial was automatically generated with <a href= \"https://github.com/root-project/root/blob/master/documentation/doxygen/converttonotebook.py\">ROOTBOOK-izer</a> from the macro found in the ROOT repository  on Thursday, August 29, 2019 at 01:06 AM.</small></i>"
   ]
  },
  {
   "cell_type": "code",
   "execution_count": 1,
   "metadata": {
    "collapsed": false
   },
   "outputs": [],
   "source": [
    "using namespace ROOT::RDF;"
   ]
  },
  {
   "cell_type": "markdown",
   "metadata": {},
   "source": [
    "Let's first create a rdf that will read from the csv file.\n",
    " See the tutorial relative to CSV data sources for more details!"
   ]
  },
  {
   "cell_type": "code",
   "execution_count": 2,
   "metadata": {
    "collapsed": false
   },
   "outputs": [
    {
     "name": "stderr",
     "output_type": "stream",
     "text": [
      "[TFile::Cp] Total 14.46 MB\t|====================| 100.00 % [88.8 MB/s]\r\n"
     ]
    }
   ],
   "source": [
    "auto fileNameUrl = \"http://root.cern.ch/files/tutorials/df014_CsvDataSource_MuRun2010B.csv\";\n",
    "auto fileName = \"df015_CsvDataSource_MuRun2010B.csv\";\n",
    "TFile::Cp(fileNameUrl, fileName);\n",
    "\n",
    "auto csv_rdf = MakeCsvDataFrame(fileName);"
   ]
  },
  {
   "cell_type": "markdown",
   "metadata": {},
   "source": [
    "Now we take out four columns: px and py of the first muon in the muon pair"
   ]
  },
  {
   "cell_type": "code",
   "execution_count": 3,
   "metadata": {
    "collapsed": false
   },
   "outputs": [],
   "source": [
    "std::string px1Name = \"px1\";\n",
    "auto px1 = csv_rdf.Take<double>(px1Name);\n",
    "std::string py1Name = \"py1\";\n",
    "auto py1 = csv_rdf.Take<double>(py1Name);"
   ]
  },
  {
   "cell_type": "markdown",
   "metadata": {},
   "source": [
    "Now we create a new dataframe built on top of the columns above. note that up to now, no event loop\n",
    " has been carried out!"
   ]
  },
  {
   "cell_type": "code",
   "execution_count": 4,
   "metadata": {
    "collapsed": false
   },
   "outputs": [],
   "source": [
    "auto tdf = MakeLazyDataFrame(std::make_pair(px1Name, px1), std::make_pair(py1Name, py1));"
   ]
  },
  {
   "cell_type": "markdown",
   "metadata": {},
   "source": [
    "We build a histogram of the transverse momentum the muons."
   ]
  },
  {
   "cell_type": "code",
   "execution_count": 5,
   "metadata": {
    "collapsed": false
   },
   "outputs": [],
   "source": [
    "auto ptFormula = [](double px, double py) { return sqrt(px * px + py * py); };\n",
    "auto pt_h = tdf.Define(\"pt\", ptFormula, {\"px1\", \"py1\"})\n",
    "               .Histo1D<double>({\"pt\", \"Muon p_{T};p_{T} [GeV/c];\", 128, 0, 128}, \"pt\");\n",
    "\n",
    "auto can = new TCanvas();\n",
    "can->SetLogy();\n",
    "pt_h->DrawCopy();\n",
    "\n",
    "return 0;"
   ]
  },
  {
   "cell_type": "markdown",
   "metadata": {},
   "source": [
    "Draw all canvases "
   ]
  },
  {
   "cell_type": "code",
   "execution_count": 6,
   "metadata": {
    "collapsed": false
   },
   "outputs": [
    {
     "data": {
      "image/png": "[encoded data removed]",
      "text/plain": [
       "<IPython.core.display.Image object>"
      ]
     },
     "metadata": {},
     "output_type": "display_data"
    }
   ],
   "source": [
    "gROOT->GetListOfCanvases()->Draw()"
   ]
  }
 ],
 "metadata": {
  "kernelspec": {
   "display_name": "ROOT C++",
   "language": "c++",
   "name": "root"
  },
  "language_info": {
   "codemirror_mode": "text/x-c++src",
   "file_extension": ".C",
   "mimetype": " text/x-c++src",
   "name": "c++"
  }
 },
 "nbformat": 4,
 "nbformat_minor": 2
}
