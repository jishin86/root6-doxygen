{
 "cells": [
  {
   "cell_type": "markdown",
   "metadata": {},
   "source": [
    "# Mt 3 0 4_Fill Histos\n",
    "Fill histograms in parallel with automatic binning.\n",
    "Illustrates use of power-of-two autobin algorithm\n",
    "\n",
    "\n",
    "\n",
    "\n",
    "**Author:** Gerardo Ganis  \n",
    "<i><small>This notebook tutorial was automatically generated with <a href= \"https://github.com/root-project/root/blob/master/documentation/doxygen/converttonotebook.py\">ROOTBOOK-izer</a> from the macro found in the ROOT repository  on Thursday, August 29, 2019 at 02:23 AM.</small></i>"
   ]
  },
  {
   "cell_type": "markdown",
   "metadata": {},
   "source": [
    "The number of workers"
   ]
  },
  {
   "cell_type": "code",
   "execution_count": null,
   "metadata": {
    "collapsed": false
   },
   "outputs": [],
   "source": [
    "const UInt_t nWorkers = 8U;"
   ]
  },
  {
   "cell_type": "markdown",
   "metadata": {},
   "source": [
    "Reference boundaries"
   ]
  },
  {
   "cell_type": "code",
   "execution_count": null,
   "metadata": {
    "collapsed": false
   },
   "outputs": [],
   "source": [
    "const Double_t xmiref = -1.;\n",
    "const Double_t xmaref = 7.;"
   ]
  },
  {
   "cell_type": "markdown",
   "metadata": {},
   "source": [
    " Arguments are defined. "
   ]
  },
  {
   "cell_type": "code",
   "execution_count": null,
   "metadata": {
    "collapsed": false
   },
   "outputs": [],
   "source": [
    "UInt_t nNumbers = 1001;"
   ]
  },
  {
   "cell_type": "markdown",
   "metadata": {},
   "source": [
    "The first, fundamental operation to be performed in order to make root\n",
    " thread-aware."
   ]
  },
  {
   "cell_type": "code",
   "execution_count": null,
   "metadata": {
    "collapsed": false
   },
   "outputs": [],
   "source": [
    "ROOT::EnableThreadSafety();"
   ]
  },
  {
   "cell_type": "markdown",
   "metadata": {},
   "source": [
    "Histograms to be filled in parallel"
   ]
  },
  {
   "cell_type": "code",
   "execution_count": null,
   "metadata": {
    "collapsed": false
   },
   "outputs": [],
   "source": [
    "ROOT::TThreadedObject<TH1D> h1d(\"h1d\", \"1D test histogram\", 64, 0., -1.);\n",
    "ROOT::TThreadedObject<TH1D> h1dr(\"h1dr\", \"1D test histogram w/ ref boundaries\", 64, xmiref, xmaref);"
   ]
  },
  {
   "cell_type": "markdown",
   "metadata": {},
   "source": [
    "We define our work item"
   ]
  },
  {
   "cell_type": "code",
   "execution_count": null,
   "metadata": {
    "collapsed": false
   },
   "outputs": [],
   "source": [
    "auto workItem = [&](UInt_t workerID) {\n",
    "   // One generator, file and ntuple per worker\n",
    "   TRandom3 workerRndm(workerID); // Change the seed\n",
    "\n",
    "   auto wh1d = h1d.Get();\n",
    "   wh1d->SetBit(TH1::kAutoBinPTwo);\n",
    "   auto wh1dr = h1dr.Get();\n",
    "\n",
    "   Double_t x;\n",
    "   for (UInt_t i = 0; i < nNumbers; ++i) {\n",
    "      x = workerRndm.Gaus(3.);\n",
    "      wh1d->Fill(x);\n",
    "      wh1dr->Fill(x);\n",
    "   }\n",
    "};"
   ]
  },
  {
   "cell_type": "markdown",
   "metadata": {},
   "source": [
    "Create the collection which will hold the threads, our \"pool\""
   ]
  },
  {
   "cell_type": "code",
   "execution_count": null,
   "metadata": {
    "collapsed": false
   },
   "outputs": [],
   "source": [
    "std::vector<std::thread> workers;"
   ]
  },
  {
   "cell_type": "markdown",
   "metadata": {},
   "source": [
    "Fill the \"pool\" with workers"
   ]
  },
  {
   "cell_type": "code",
   "execution_count": null,
   "metadata": {
    "collapsed": false
   },
   "outputs": [],
   "source": [
    "for (auto workerID : ROOT::TSeqI(nWorkers)) {\n",
    "   workers.emplace_back(workItem, workerID);\n",
    "}"
   ]
  },
  {
   "cell_type": "markdown",
   "metadata": {},
   "source": [
    "Now join them"
   ]
  },
  {
   "cell_type": "code",
   "execution_count": null,
   "metadata": {
    "collapsed": false
   },
   "outputs": [],
   "source": [
    "for (auto &&worker : workers)\n",
    "   worker.join();"
   ]
  },
  {
   "cell_type": "markdown",
   "metadata": {},
   "source": [
    "Merge"
   ]
  },
  {
   "cell_type": "code",
   "execution_count": null,
   "metadata": {
    "collapsed": false
   },
   "outputs": [],
   "source": [
    "auto fh1d = h1d.Merge();\n",
    "auto fh1dr = h1dr.Merge();"
   ]
  },
  {
   "cell_type": "markdown",
   "metadata": {},
   "source": [
    "Make the canvas"
   ]
  },
  {
   "cell_type": "code",
   "execution_count": null,
   "metadata": {
    "collapsed": false
   },
   "outputs": [],
   "source": [
    "auto c = new TCanvas(\"c\", \"c\", 800, 800);\n",
    "c->Divide(1, 2);\n",
    "\n",
    "gStyle->SetOptStat(111110);\n",
    "c->cd(1);\n",
    "fh1d->DrawCopy();\n",
    "c->cd(2);\n",
    "fh1dr->DrawCopy();\n",
    "\n",
    "c->Update();\n",
    "\n",
    "return 0;"
   ]
  },
  {
   "cell_type": "markdown",
   "metadata": {},
   "source": [
    "Draw all canvases "
   ]
  },
  {
   "cell_type": "code",
   "execution_count": null,
   "metadata": {
    "collapsed": false
   },
   "outputs": [],
   "source": [
    "gROOT->GetListOfCanvases()->Draw()"
   ]
  }
 ],
 "metadata": {
  "kernelspec": {
   "display_name": "ROOT C++",
   "language": "c++",
   "name": "root"
  },
  "language_info": {
   "codemirror_mode": "text/x-c++src",
   "file_extension": ".C",
   "mimetype": " text/x-c++src",
   "name": "c++"
  }
 },
 "nbformat": 4,
 "nbformat_minor": 2
}
