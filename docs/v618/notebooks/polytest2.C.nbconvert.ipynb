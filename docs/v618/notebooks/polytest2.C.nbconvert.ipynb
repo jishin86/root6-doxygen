{
 "cells": [
  {
   "cell_type": "markdown",
   "metadata": {},
   "source": [
    "# Polytest 2\n",
    "This macro is testing the \"compacting\" algorithm in TPadPainter.\n",
    "It reduces the number of polygon's vertices using actual pixel coordinates.\n",
    "\n",
    "\n",
    "This macro is testing new \"compacting\" algorithm in TPadPainter\n",
    "(it reduces the number of polygon's vertices using actual pixel coordinates).\n",
    "In principle, this test case is what our histograms (fringe cases) are:\n",
    "\"saw-like\" polygon (bins == teeth).\n",
    "\n",
    "\n",
    "\n",
    "\n",
    "**Author:** Timur Pocheptsov  \n",
    "<i><small>This notebook tutorial was automatically generated with <a href= \"https://github.com/root-project/root/blob/master/documentation/doxygen/converttonotebook.py\">ROOTBOOK-izer</a> from the macro found in the ROOT repository  on Thursday, August 29, 2019 at 01:43 AM.</small></i>"
   ]
  },
  {
   "cell_type": "markdown",
   "metadata": {},
   "source": [
    "Includes for aclic."
   ]
  },
  {
   "cell_type": "code",
   "execution_count": 1,
   "metadata": {
    "collapsed": false
   },
   "outputs": [],
   "source": [
    "%%cpp -d\n",
    "#include <cassert>\n",
    "#include <vector>\n",
    "\n",
    "#include \"TRandom.h\"\n",
    "#include \"TCanvas.h\"\n",
    "#include \"Rtypes.h\"\n",
    "#include \"TNamed.h\"\n",
    "\n",
    "class PolyTest2 : public TNamed, public TAttLine, public TAttFill {\n",
    "public:\n",
    "   PolyTest2();\n",
    "\n",
    "   void Paint(const Option_t *notUsed);\n",
    "\n",
    "private:\n",
    "   enum TestSize {\n",
    "      kNSawPoints = 10000\n",
    "   };\n",
    "\n",
    "   //Part 1.\n",
    "   std::vector<Double_t> fXs1;\n",
    "   std::vector<Double_t> fYs1;\n",
    "   //Part 2.\n",
    "\n",
    "   std::vector<Double_t> fXs2;\n",
    "   std::vector<Double_t> fYs2;\n",
    "};\n",
    "\n",
    "\n",
    "PolyTest2::PolyTest2()\n",
    "               : TNamed(\"polygon_compression_test2\", \"polygon_compression_test2\")\n",
    "{\n",
    "   //Polygon 1, n of points is 10003, after 'compression' : 1897\n",
    "   //Polygon 2, n of points is 10003, after 'compression' : 2093\n",
    "\n",
    "   //Some canvas must already exist by this point.\n",
    "   assert(gPad != 0 && \"PolyTest2, gPad is null\");\n",
    "   //We need a gRandom to exist.\n",
    "   assert(gRandom != 0 && \"PolyTest2, gRandom is null\");\n",
    "\n",
    "   Double_t xMin = 0., xMax = 0., yMin = 0., yMax = 0.;\n",
    "   gPad->GetRange(xMin, yMin, xMax, yMax);\n",
    "   assert(xMax - xMin > 0 && yMax - yMin > 0 && \"PolyTest2, invalid canvas' ranges\");\n",
    "\n",
    "\n",
    "   // .(0/the last)--------.(1)\n",
    "   // |                      /\n",
    "   // |                      \\\n",
    "   // |                      /\n",
    "   // .(kNSawPoints + 1)--.(kNSawPoints)\n",
    "\n",
    "   const unsigned nVertices = 3 + kNSawPoints;\n",
    "\n",
    "   {\n",
    "   //Polygon 1, \"vertical saw\":\n",
    "   fXs1.resize(nVertices);\n",
    "   fYs1.resize(nVertices);\n",
    "\n",
    "   fXs1[0] = 0.;\n",
    "   fYs1[0] = 0.;\n",
    "\n",
    "   const Double_t w1 = 0.2 * (xMax - xMin);\n",
    "   const Double_t saw1ToothSize = 0.1 * w1;\n",
    "   const Double_t yStep = (yMax - yMin) / (kNSawPoints - 1);\n",
    "\n",
    "   for (unsigned i = 1; i <= kNSawPoints; ++i) {\n",
    "      fXs1[i] = w1 + gRandom->Rndm() * saw1ToothSize;\n",
    "      fYs1[i] = yMin + yStep * (i - 1);\n",
    "   }\n",
    "\n",
    "   fXs1[nVertices - 2] = 0.;\n",
    "   fYs1[nVertices - 2] = yMax;\n",
    "   //Let's close it.\n",
    "   fXs1[nVertices - 1] = fXs1[0];\n",
    "   fYs1[nVertices - 1] = fYs1[0];\n",
    "\n",
    "   }\n",
    "\n",
    "   //Polygon 2, \"horizontal saw\":\n",
    "\n",
    "   {\n",
    "   const Double_t x2Min = xMin + 0.25 * (xMax - xMin);\n",
    "   const Double_t h2 = 0.1 * (yMax - yMin);\n",
    "   const Double_t saw2ToothSize = 0.1 * h2;\n",
    "   const Double_t xStep = (xMax - x2Min) / (kNSawPoints - 1);\n",
    "\n",
    "   fXs2.resize(nVertices);\n",
    "   fYs2.resize(nVertices);\n",
    "\n",
    "   fXs2[0] = x2Min;\n",
    "   fYs2[0] = 0.;\n",
    "\n",
    "   for (unsigned i = 1; i <= kNSawPoints; ++i) {\n",
    "      fXs2[i] = x2Min + xStep * i;\n",
    "      fYs2[i] = h2 + gRandom->Rndm() * saw2ToothSize;\n",
    "   }\n",
    "\n",
    "   fXs2[nVertices - 2] = xMax;\n",
    "   fYs2[nVertices - 2] = 0.;\n",
    "   fXs2[nVertices - 1] = fXs2[0];\n",
    "   fYs2[nVertices - 1] = fYs2[0];\n",
    "   }\n",
    "}"
   ]
  },
  {
   "cell_type": "markdown",
   "metadata": {},
   "source": [
    " _____________________________________________________________\n",
    " "
   ]
  },
  {
   "cell_type": "code",
   "execution_count": 2,
   "metadata": {
    "collapsed": false
   },
   "outputs": [],
   "source": [
    "%%cpp -d\n",
    "void PolyTest2::Paint(const Option_t * /*notUsed*/)\n",
    "{\n",
    "   assert(gPad != 0 && \"Paint, gPad is null\");\n",
    "\n",
    "   SetFillColor(kGreen);\n",
    "   TAttFill::Modify();\n",
    "   gPad->PaintFillArea((Int_t)fXs1.size(), &fXs1[0], &fYs1[0]);\n",
    "\n",
    "   SetLineColor(kBlue);\n",
    "   TAttLine::Modify();\n",
    "   gPad->PaintPolyLine((Int_t)fXs1.size(), &fXs1[0], &fYs1[0]);\n",
    "\n",
    "   SetFillColor(kOrange);\n",
    "   TAttFill::Modify();\n",
    "   gPad->PaintFillArea((Int_t)fXs2.size(), &fXs2[0], &fYs2[0]);\n",
    "\n",
    "   SetLineColor(kMagenta);\n",
    "   TAttLine::Modify();\n",
    "   gPad->PaintPolyLine((Int_t)fXs2.size(), &fXs2[0], &fYs2[0]);\n",
    "}"
   ]
  },
  {
   "cell_type": "code",
   "execution_count": 3,
   "metadata": {
    "collapsed": false
   },
   "outputs": [],
   "source": [
    "TCanvas * const cnv = new TCanvas;\n",
    "cnv->cd();\n",
    "\n",
    "PolyTest2 * polygon = new PolyTest2;\n",
    "polygon->Draw();//Attach a polygon to a canvas."
   ]
  },
  {
   "cell_type": "markdown",
   "metadata": {},
   "source": [
    "Draw all canvases "
   ]
  },
  {
   "cell_type": "code",
   "execution_count": 4,
   "metadata": {
    "collapsed": false
   },
   "outputs": [
    {
     "data": {
      "image/png": "[encoded data removed]",
      "text/plain": [
       "<IPython.core.display.Image object>"
      ]
     },
     "metadata": {},
     "output_type": "display_data"
    }
   ],
   "source": [
    "gROOT->GetListOfCanvases()->Draw()"
   ]
  }
 ],
 "metadata": {
  "kernelspec": {
   "display_name": "ROOT C++",
   "language": "c++",
   "name": "root"
  },
  "language_info": {
   "codemirror_mode": "text/x-c++src",
   "file_extension": ".C",
   "mimetype": " text/x-c++src",
   "name": "c++"
  }
 },
 "nbformat": 4,
 "nbformat_minor": 2
}
