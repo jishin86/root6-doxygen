{
 "cells": [
  {
   "cell_type": "markdown",
   "metadata": {},
   "source": [
    "# Mp 1 0 1_Fill Ntuples\n",
    "Fill n-tuples in distinct workers.\n",
    "This tutorial illustrates the basics of how it's possible with ROOT to\n",
    "offload heavy operations on multiple processes and how it's possible to write\n",
    "simultaneously multiple files. The operation performed in this case is the\n",
    "creation of random gaussian numbers.\n",
    "\n",
    "\n",
    "\n",
    "\n",
    "**Author:** Danilo Piparo  \n",
    "<i><small>This notebook tutorial was automatically generated with <a href= \"https://github.com/root-project/root/blob/master/documentation/doxygen/converttonotebook.py\">ROOTBOOK-izer</a> from the macro found in the ROOT repository  on Thursday, August 29, 2019 at 02:15 AM.</small></i>"
   ]
  },
  {
   "cell_type": "markdown",
   "metadata": {},
   "source": [
    "Some useful constants and functions"
   ]
  },
  {
   "cell_type": "markdown",
   "metadata": {},
   "source": [
    "Total amount of numbers"
   ]
  },
  {
   "cell_type": "code",
   "execution_count": 1,
   "metadata": {
    "collapsed": false
   },
   "outputs": [],
   "source": [
    "const UInt_t nNumbers = 20000000U;"
   ]
  },
  {
   "cell_type": "markdown",
   "metadata": {},
   "source": [
    "The number of workers"
   ]
  },
  {
   "cell_type": "code",
   "execution_count": 2,
   "metadata": {
    "collapsed": false
   },
   "outputs": [],
   "source": [
    "const UInt_t nWorkers = 4U;"
   ]
  },
  {
   "cell_type": "markdown",
   "metadata": {},
   "source": [
    "We split the work in equal parts"
   ]
  },
  {
   "cell_type": "code",
   "execution_count": 3,
   "metadata": {
    "collapsed": false
   },
   "outputs": [],
   "source": [
    "const auto workSize = nNumbers / nWorkers;"
   ]
  },
  {
   "cell_type": "markdown",
   "metadata": {},
   "source": [
    "  A simple function to fill ntuples randomly\n",
    " "
   ]
  },
  {
   "cell_type": "code",
   "execution_count": 4,
   "metadata": {
    "collapsed": false
   },
   "outputs": [],
   "source": [
    "%%cpp -d\n",
    "void fillRandom(TNtuple &ntuple, TRandom3 &rndm, UInt_t n)\n",
    "{\n",
    "   for (auto i : ROOT::TSeqI(n))\n",
    "      ntuple.Fill(rndm.Gaus());\n",
    "}"
   ]
  },
  {
   "cell_type": "markdown",
   "metadata": {},
   "source": [
    "No nuisance for batch execution"
   ]
  },
  {
   "cell_type": "code",
   "execution_count": 5,
   "metadata": {
    "collapsed": false
   },
   "outputs": [],
   "source": [
    "gROOT->SetBatch();"
   ]
  },
  {
   "cell_type": "markdown",
   "metadata": {},
   "source": [
    "---------------------------------------\n",
    " Perform the operation sequentially"
   ]
  },
  {
   "cell_type": "markdown",
   "metadata": {},
   "source": [
    "Create a random generator and and ntuple to hold the numbers"
   ]
  },
  {
   "cell_type": "code",
   "execution_count": 6,
   "metadata": {
    "collapsed": false
   },
   "outputs": [],
   "source": [
    "TRandom3 rndm(1);\n",
    "TFile ofile(\"mp101_singleCore.root\", \"RECREATE\");\n",
    "TNtuple randomNumbers(\"singleCore\", \"Random Numbers\", \"r\");\n",
    "fillRandom(randomNumbers, rndm, nNumbers);\n",
    "randomNumbers.Write();\n",
    "ofile.Close();"
   ]
  },
  {
   "cell_type": "markdown",
   "metadata": {},
   "source": [
    "---------------------------------------\n",
    " We now go MP!"
   ]
  },
  {
   "cell_type": "markdown",
   "metadata": {},
   "source": [
    "We define our work item"
   ]
  },
  {
   "cell_type": "code",
   "execution_count": 7,
   "metadata": {
    "collapsed": false
   },
   "outputs": [],
   "source": [
    "auto workItem = [](UInt_t workerID) {\n",
    "   // One generator, file and ntuple per worker\n",
    "   TRandom3 workerRndm(workerID); // Change the seed\n",
    "   TFile ofile(Form(\"mp101_multiCore_%u.root\", workerID), \"RECREATE\");\n",
    "   TNtuple workerRandomNumbers(\"multiCore\", \"Random Numbers\", \"r\");\n",
    "   fillRandom(workerRandomNumbers, workerRndm, workSize);\n",
    "   workerRandomNumbers.Write();\n",
    "   return 0;\n",
    "};"
   ]
  },
  {
   "cell_type": "markdown",
   "metadata": {},
   "source": [
    "Create the pool of workers"
   ]
  },
  {
   "cell_type": "code",
   "execution_count": 8,
   "metadata": {
    "collapsed": false
   },
   "outputs": [],
   "source": [
    "ROOT::TProcessExecutor workers(nWorkers);"
   ]
  },
  {
   "cell_type": "markdown",
   "metadata": {},
   "source": [
    "Fill the pool with work"
   ]
  },
  {
   "cell_type": "code",
   "execution_count": 9,
   "metadata": {
    "collapsed": false
   },
   "outputs": [],
   "source": [
    "workers.Map(workItem, ROOT::TSeqI(nWorkers));\n",
    "\n",
    "return 0;"
   ]
  }
 ],
 "metadata": {
  "kernelspec": {
   "display_name": "ROOT C++",
   "language": "c++",
   "name": "root"
  },
  "language_info": {
   "codemirror_mode": "text/x-c++src",
   "file_extension": ".C",
   "mimetype": " text/x-c++src",
   "name": "c++"
  }
 },
 "nbformat": 4,
 "nbformat_minor": 2
}
