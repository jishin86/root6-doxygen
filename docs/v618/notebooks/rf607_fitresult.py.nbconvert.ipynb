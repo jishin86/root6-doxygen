{
 "cells": [
  {
   "cell_type": "markdown",
   "metadata": {},
   "source": [
    "# Rf 6 0 7_Fitresult\n",
    "\n",
    "Likelihood and minimization: demonstration of options of the RooFitResult class\n",
    "\n",
    "\n",
    "\n",
    "\n",
    "**Author:** Clemens Lange, Wouter Verkerke (C++ version)  \n",
    "<i><small>This notebook tutorial was automatically generated with <a href= \"https://github.com/root-project/root/blob/master/documentation/doxygen/converttonotebook.py\">ROOTBOOK-izer</a> from the macro found in the ROOT repository  on Thursday, August 29, 2019 at 02:59 AM.</small></i>"
   ]
  },
  {
   "cell_type": "code",
   "execution_count": 1,
   "metadata": {
    "collapsed": false
   },
   "outputs": [
    {
     "name": "stdout",
     "output_type": "stream",
     "text": [
      "Welcome to JupyROOT 6.18/03\n"
     ]
    }
   ],
   "source": [
    "from __future__ import print_function\n",
    "import ROOT"
   ]
  },
  {
   "cell_type": "markdown",
   "metadata": {},
   "source": [
    "Create pdf, data\n",
    "--------------------------------"
   ]
  },
  {
   "cell_type": "markdown",
   "metadata": {},
   "source": [
    "Declare observable x"
   ]
  },
  {
   "cell_type": "code",
   "execution_count": 2,
   "metadata": {
    "collapsed": false
   },
   "outputs": [
    {
     "name": "stdout",
     "output_type": "stream",
     "text": [
      "\n",
      "\u001b[1mRooFit v3.60 -- Developed by Wouter Verkerke and David Kirkby\u001b[0m \n",
      "                Copyright (C) 2000-2013 NIKHEF, University of California & Stanford University\n",
      "                All rights reserved, please read http://roofit.sourceforge.net/license.txt\n",
      "\n"
     ]
    }
   ],
   "source": [
    "x = ROOT.RooRealVar(\"x\", \"x\", 0, 10)"
   ]
  },
  {
   "cell_type": "markdown",
   "metadata": {},
   "source": [
    "Create two Gaussian PDFs g1(x,mean1,sigma) anf g2(x,mean2,sigma) and\n",
    "their parameters"
   ]
  },
  {
   "cell_type": "code",
   "execution_count": 3,
   "metadata": {
    "collapsed": false
   },
   "outputs": [],
   "source": [
    "mean = ROOT.RooRealVar(\"mean\", \"mean of gaussians\", 5, -10, 10)\n",
    "sigma1 = ROOT.RooRealVar(\"sigma1\", \"width of gaussians\", 0.5, 0.1, 10)\n",
    "sigma2 = ROOT.RooRealVar(\"sigma2\", \"width of gaussians\", 1, 0.1, 10)\n",
    "\n",
    "sig1 = ROOT.RooGaussian(\"sig1\", \"Signal component 1\", x, mean, sigma1)\n",
    "sig2 = ROOT.RooGaussian(\"sig2\", \"Signal component 2\", x, mean, sigma2)"
   ]
  },
  {
   "cell_type": "markdown",
   "metadata": {},
   "source": [
    "Build Chebychev polynomial p.d.f."
   ]
  },
  {
   "cell_type": "code",
   "execution_count": 4,
   "metadata": {
    "collapsed": false
   },
   "outputs": [],
   "source": [
    "a0 = ROOT.RooRealVar(\"a0\", \"a0\", 0.5, 0., 1.)\n",
    "a1 = ROOT.RooRealVar(\"a1\", \"a1\", -0.2)\n",
    "bkg = ROOT.RooChebychev(\"bkg\", \"Background\", x, ROOT.RooArgList(a0, a1))"
   ]
  },
  {
   "cell_type": "markdown",
   "metadata": {},
   "source": [
    "Sum the signal components into a composite signal p.d.f."
   ]
  },
  {
   "cell_type": "code",
   "execution_count": 5,
   "metadata": {
    "collapsed": false
   },
   "outputs": [],
   "source": [
    "sig1frac = ROOT.RooRealVar(\n",
    "    \"sig1frac\", \"fraction of component 1 in signal\", 0.8, 0., 1.)\n",
    "sig = ROOT.RooAddPdf(\n",
    "    \"sig\", \"Signal\", ROOT.RooArgList(sig1, sig2), ROOT.RooArgList(sig1frac))"
   ]
  },
  {
   "cell_type": "markdown",
   "metadata": {},
   "source": [
    "Sum the composite signal and background"
   ]
  },
  {
   "cell_type": "code",
   "execution_count": 6,
   "metadata": {
    "collapsed": false
   },
   "outputs": [],
   "source": [
    "bkgfrac = ROOT.RooRealVar(\"bkgfrac\", \"fraction of background\", 0.5, 0., 1.)\n",
    "model = ROOT.RooAddPdf(\n",
    "    \"model\", \"g1+g2+a\", ROOT.RooArgList(bkg, sig), ROOT.RooArgList(bkgfrac))"
   ]
  },
  {
   "cell_type": "markdown",
   "metadata": {},
   "source": [
    "Generate 1000 events"
   ]
  },
  {
   "cell_type": "code",
   "execution_count": 7,
   "metadata": {
    "collapsed": false
   },
   "outputs": [],
   "source": [
    "data = model.generate(ROOT.RooArgSet(x), 1000)"
   ]
  },
  {
   "cell_type": "markdown",
   "metadata": {},
   "source": [
    "Fit pdf to data, save fit result\n",
    "-------------------------------------------------------------"
   ]
  },
  {
   "cell_type": "markdown",
   "metadata": {},
   "source": [
    "Perform fit and save result"
   ]
  },
  {
   "cell_type": "code",
   "execution_count": 8,
   "metadata": {
    "collapsed": false
   },
   "outputs": [
    {
     "name": "stdout",
     "output_type": "stream",
     "text": [
      "[#1] INFO:Minization -- RooMinimizer::optimizeConst: activating const optimization\n",
      "[#1] INFO:Minization --  The following expressions will be evaluated in cache-and-track mode: (bkg,sig1,sig2)\n",
      " **********\n",
      " **    1 **SET PRINT           1\n",
      " **********\n",
      " **********\n",
      " **    2 **SET NOGRAD\n",
      " **********\n",
      " PARAMETER DEFINITIONS:\n",
      "    NO.   NAME         VALUE      STEP SIZE      LIMITS\n",
      "     1 a0           5.00000e-01  1.00000e-01    0.00000e+00  1.00000e+00\n",
      "     2 bkgfrac      5.00000e-01  1.00000e-01    0.00000e+00  1.00000e+00\n",
      "     3 mean         5.00000e+00  2.00000e+00   -1.00000e+01  1.00000e+01\n",
      "     4 sig1frac     8.00000e-01  1.00000e-01    0.00000e+00  1.00000e+00\n",
      "     5 sigma1       5.00000e-01  2.00000e-01    1.00000e-01  1.00000e+01\n",
      "     6 sigma2       1.00000e+00  4.50000e-01    1.00000e-01  1.00000e+01\n",
      " **********\n",
      " **    3 **SET ERR         0.5\n",
      " **********\n",
      " **********\n",
      " **    4 **SET PRINT           1\n",
      " **********\n",
      " **********\n",
      " **    5 **SET STR           1\n",
      " **********\n",
      " NOW USING STRATEGY  1: TRY TO BALANCE SPEED AGAINST RELIABILITY\n",
      " **********\n",
      " **    6 **MIGRAD        3000           1\n",
      " **********\n",
      " FIRST CALL TO USER FUNCTION AT NEW START POINT, WITH IFLAG=4.\n",
      " START MIGRAD MINIMIZATION.  STRATEGY  1.  CONVERGENCE WHEN EDM .LT. 1.00e-03\n",
      " FCN=1890.61 FROM MIGRAD    STATUS=INITIATE       20 CALLS          21 TOTAL\n",
      "                     EDM= unknown      STRATEGY= 1      NO ERROR MATRIX       \n",
      "  EXT PARAMETER               CURRENT GUESS       STEP         FIRST   \n",
      "  NO.   NAME      VALUE            ERROR          SIZE      DERIVATIVE \n",
      "   1  a0           5.00000e-01   1.00000e-01   2.01358e-01  -1.79143e+01\n",
      "   2  bkgfrac      5.00000e-01   1.00000e-01   2.01358e-01   8.01836e+00\n",
      "   3  mean         5.00000e+00   2.00000e+00   2.35352e-01  -3.18732e+02\n",
      "   4  sig1frac     8.00000e-01   1.00000e-01   2.57889e-01   1.67753e+00\n",
      "   5  sigma1       5.00000e-01   2.00000e-01   1.06123e-01  -2.80511e+01\n",
      "   6  sigma2       1.00000e+00   4.50000e-01   1.63378e-01  -2.79262e+00\n",
      "                               ERR DEF= 0.5\n",
      " MIGRAD MINIMIZATION HAS CONVERGED.\n",
      " MIGRAD WILL VERIFY CONVERGENCE AND ERROR MATRIX.\n",
      " COVARIANCE MATRIX CALCULATED SUCCESSFULLY\n",
      " FCN=1885.34 FROM MIGRAD    STATUS=CONVERGED     177 CALLS         178 TOTAL\n",
      "                     EDM=0.000199951    STRATEGY= 1      ERROR MATRIX ACCURATE \n",
      "  EXT PARAMETER                                   STEP         FIRST   \n",
      "  NO.   NAME      VALUE            ERROR          SIZE      DERIVATIVE \n",
      "   1  a0           7.28245e-01   1.10053e-01   4.01494e-03  -5.30986e-04\n",
      "   2  bkgfrac      4.34386e-01   8.18255e-02   1.44990e-03  -2.37203e-02\n",
      "   3  mean         5.03463e+00   3.36192e-02   1.15677e-04  -1.36017e-01\n",
      "   4  sig1frac     7.78347e-01   9.66774e-02   3.39065e-03  -2.60523e-02\n",
      "   5  sigma1       5.23396e-01   4.47433e-02   4.30203e-04  -2.02274e-01\n",
      "   6  sigma2       1.77668e+00   1.13135e+00   3.09140e-03   2.51106e-02\n",
      "                               ERR DEF= 0.5\n",
      " EXTERNAL ERROR MATRIX.    NDIM=  25    NPAR=  6    ERR DEF=0.5\n",
      "  1.237e-02 -7.217e-03 -1.043e-04 -4.043e-03  1.989e-03  1.052e-01 \n",
      " -7.217e-03  6.757e-03 -1.369e-04  4.830e-03 -1.372e-03 -8.173e-02 \n",
      " -1.043e-04 -1.369e-04  1.130e-03 -2.833e-04 -6.480e-05  3.890e-04 \n",
      " -4.043e-03  4.830e-03 -2.833e-04  9.520e-03  1.344e-03 -2.831e-02 \n",
      "  1.989e-03 -1.372e-03 -6.480e-05  1.344e-03  2.002e-03  2.936e-02 \n",
      "  1.052e-01 -8.173e-02  3.890e-04 -2.831e-02  2.936e-02  1.322e+00 \n",
      " PARAMETER  CORRELATION COEFFICIENTS  \n",
      "       NO.  GLOBAL      1      2      3      4      5      6\n",
      "        1  0.84288   1.000 -0.790 -0.028 -0.373  0.400  0.823\n",
      "        2  0.95650  -0.790  1.000 -0.050  0.602 -0.373 -0.865\n",
      "        3  0.13243  -0.028 -0.050  1.000 -0.086 -0.043  0.010\n",
      "        4  0.87689  -0.373  0.602 -0.086  1.000  0.308 -0.252\n",
      "        5  0.76698   0.400 -0.373 -0.043  0.308  1.000  0.571\n",
      "        6  0.94237   0.823 -0.865  0.010 -0.252  0.571  1.000\n",
      " **********\n",
      " **    7 **SET ERR         0.5\n",
      " **********\n",
      " **********\n",
      " **    8 **SET PRINT           1\n",
      " **********\n",
      " **********\n",
      " **    9 **HESSE        3000\n",
      " **********\n",
      " COVARIANCE MATRIX CALCULATED SUCCESSFULLY\n",
      " FCN=1885.34 FROM HESSE     STATUS=OK             40 CALLS         218 TOTAL\n",
      "                     EDM=0.000205499    STRATEGY= 1      ERROR MATRIX ACCURATE \n",
      "  EXT PARAMETER                                INTERNAL      INTERNAL  \n",
      "  NO.   NAME      VALUE            ERROR       STEP SIZE       VALUE   \n",
      "   1  a0           7.28245e-01   1.11109e-01   1.60598e-04   4.74047e-01\n",
      "   2  bkgfrac      4.34386e-01   8.36079e-02   2.89981e-04  -1.31608e-01\n",
      "   3  mean         5.03463e+00   3.36219e-02   2.31353e-05   5.27602e-01\n",
      "   4  sig1frac     7.78347e-01   9.69912e-02   6.78131e-04   5.90402e-01\n",
      "   5  sigma1       5.23396e-01   4.51307e-02   8.60406e-05  -1.15419e+00\n",
      "   6  sigma2       1.77668e+00   1.15533e+00   6.18281e-04  -7.22519e-01\n",
      "                               ERR DEF= 0.5\n",
      " EXTERNAL ERROR MATRIX.    NDIM=  25    NPAR=  6    ERR DEF=0.5\n",
      "  1.261e-02 -7.502e-03 -9.635e-05 -4.154e-03  2.084e-03  1.091e-01 \n",
      " -7.502e-03  7.058e-03 -1.441e-04  4.954e-03 -1.470e-03 -8.595e-02 \n",
      " -9.635e-05 -1.441e-04  1.130e-03 -2.873e-04 -6.383e-05  4.916e-04 \n",
      " -4.154e-03  4.954e-03 -2.873e-04  9.583e-03  1.310e-03 -3.000e-02 \n",
      "  2.084e-03 -1.470e-03 -6.383e-05  1.310e-03  2.037e-03  3.075e-02 \n",
      "  1.091e-01 -8.595e-02  4.916e-04 -3.000e-02  3.075e-02  1.380e+00 \n",
      " PARAMETER  CORRELATION COEFFICIENTS  \n",
      "       NO.  GLOBAL      1      2      3      4      5      6\n",
      "        1  0.84619   1.000 -0.795 -0.026 -0.378  0.411  0.827\n",
      "        2  0.95839  -0.795  1.000 -0.051  0.602 -0.388 -0.871\n",
      "        3  0.13303  -0.026 -0.051  1.000 -0.087 -0.042  0.012\n",
      "        4  0.87775  -0.378  0.602 -0.087  1.000  0.297 -0.261\n",
      "        5  0.77155   0.411 -0.388 -0.042  0.297  1.000  0.580\n",
      "        6  0.94489   0.827 -0.871  0.012 -0.261  0.580  1.000\n",
      "[#1] INFO:Minization -- RooMinimizer::optimizeConst: deactivating const optimization\n"
     ]
    }
   ],
   "source": [
    "r = model.fitTo(data, ROOT.RooFit.Save())"
   ]
  },
  {
   "cell_type": "markdown",
   "metadata": {},
   "source": [
    "Print fit results\n",
    "---------------------------------"
   ]
  },
  {
   "cell_type": "markdown",
   "metadata": {},
   "source": [
    "Summary printing: Basic info plus final values of floating fit parameters"
   ]
  },
  {
   "cell_type": "code",
   "execution_count": 9,
   "metadata": {
    "collapsed": false
   },
   "outputs": [
    {
     "name": "stdout",
     "output_type": "stream",
     "text": [
      "\n",
      "  RooFitResult: minimized FCN value: 1885.34, estimated distance to minimum: 0.000205499\n",
      "                covariance matrix quality: Full, accurate covariance matrix\n",
      "                Status : MINIMIZE=0 HESSE=0 \n",
      "\n",
      "    Floating Parameter    FinalValue +/-  Error   \n",
      "  --------------------  --------------------------\n",
      "                    a0    7.2825e-01 +/-  1.11e-01\n",
      "               bkgfrac    4.3439e-01 +/-  8.36e-02\n",
      "                  mean    5.0346e+00 +/-  3.36e-02\n",
      "              sig1frac    7.7835e-01 +/-  9.70e-02\n",
      "                sigma1    5.2340e-01 +/-  4.51e-02\n",
      "                sigma2    1.7767e+00 +/-  1.16e+00\n",
      "\n"
     ]
    }
   ],
   "source": [
    "r.Print()"
   ]
  },
  {
   "cell_type": "markdown",
   "metadata": {},
   "source": [
    "Verbose printing: Basic info, of constant parameters, and\n",
    "final values of floating parameters, correlations"
   ]
  },
  {
   "cell_type": "code",
   "execution_count": 10,
   "metadata": {
    "collapsed": false
   },
   "outputs": [
    {
     "name": "stdout",
     "output_type": "stream",
     "text": [
      "\n",
      "  RooFitResult: minimized FCN value: 1885.34, estimated distance to minimum: 0.000205499\n",
      "                covariance matrix quality: Full, accurate covariance matrix\n",
      "                Status : MINIMIZE=0 HESSE=0 \n",
      "\n",
      "    Constant Parameter    Value     \n",
      "  --------------------  ------------\n",
      "                    a1   -2.0000e-01\n",
      "\n",
      "    Floating Parameter  InitialValue    FinalValue +/-  Error     GblCorr.\n",
      "  --------------------  ------------  --------------------------  --------\n",
      "                    a0    5.0000e-01    7.2825e-01 +/-  1.11e-01  <none>\n",
      "               bkgfrac    5.0000e-01    4.3439e-01 +/-  8.36e-02  <none>\n",
      "                  mean    5.0000e+00    5.0346e+00 +/-  3.36e-02  <none>\n",
      "              sig1frac    8.0000e-01    7.7835e-01 +/-  9.70e-02  <none>\n",
      "                sigma1    5.0000e-01    5.2340e-01 +/-  4.51e-02  <none>\n",
      "                sigma2    1.0000e+00    1.7767e+00 +/-  1.16e+00  <none>\n",
      "\n"
     ]
    }
   ],
   "source": [
    "r.Print(\"v\")"
   ]
  },
  {
   "cell_type": "markdown",
   "metadata": {},
   "source": [
    "Visualize correlation matrix\n",
    "-------------------------------------------------------"
   ]
  },
  {
   "cell_type": "markdown",
   "metadata": {},
   "source": [
    "Construct 2D color plot of correlation matrix"
   ]
  },
  {
   "cell_type": "code",
   "execution_count": 11,
   "metadata": {
    "collapsed": false
   },
   "outputs": [],
   "source": [
    "ROOT.gStyle.SetOptStat(0)\n",
    "ROOT.gStyle.SetPalette(1)\n",
    "hcorr = r.correlationHist()"
   ]
  },
  {
   "cell_type": "markdown",
   "metadata": {},
   "source": [
    "Visualize ellipse corresponding to single correlation matrix element"
   ]
  },
  {
   "cell_type": "code",
   "execution_count": 12,
   "metadata": {
    "collapsed": false
   },
   "outputs": [
    {
     "data": {
      "text/plain": [
       "<ROOT.RooPlot object (\"frame_561d3cac11b0\") at 0x561d3cac11b0>"
      ]
     },
     "execution_count": 12,
     "metadata": {},
     "output_type": "execute_result"
    }
   ],
   "source": [
    "frame = ROOT.RooPlot(sigma1, sig1frac, 0.45, 0.60, 0.65, 0.90)\n",
    "frame.SetTitle(\"Covariance between sigma1 and sig1frac\")\n",
    "r.plotOn(frame, sigma1, sig1frac, \"ME12ABHV\")"
   ]
  },
  {
   "cell_type": "markdown",
   "metadata": {},
   "source": [
    "Access fit result information\n",
    "---------------------------------------------------------"
   ]
  },
  {
   "cell_type": "markdown",
   "metadata": {},
   "source": [
    "Access basic information"
   ]
  },
  {
   "cell_type": "code",
   "execution_count": 13,
   "metadata": {
    "collapsed": false
   },
   "outputs": [
    {
     "name": "stdout",
     "output_type": "stream",
     "text": [
      "EDM =  0.000205499151431\n",
      "-log(L) minimum =  1885.34381531\n"
     ]
    }
   ],
   "source": [
    "print(\"EDM = \", r.edm())\n",
    "print(\"-log(L) minimum = \", r.minNll())"
   ]
  },
  {
   "cell_type": "markdown",
   "metadata": {},
   "source": [
    "Access list of final fit parameter values"
   ]
  },
  {
   "cell_type": "code",
   "execution_count": 14,
   "metadata": {
    "collapsed": false
   },
   "outputs": [
    {
     "name": "stdout",
     "output_type": "stream",
     "text": [
      "final value of floating parameters\n",
      "  1) RooRealVar::       a0 = 0.728245 +/- 0.111109\n",
      "  2) RooRealVar::  bkgfrac = 0.434386 +/- 0.0836079\n",
      "  3) RooRealVar::     mean = 5.03463 +/- 0.0336219\n",
      "  4) RooRealVar:: sig1frac = 0.778347 +/- 0.0969912\n",
      "  5) RooRealVar::   sigma1 = 0.523396 +/- 0.0451307\n",
      "  6) RooRealVar::   sigma2 = 1.77668 +/- 1.15533\n"
     ]
    }
   ],
   "source": [
    "print(\"final value of floating parameters\")\n",
    "r.floatParsFinal().Print(\"s\")"
   ]
  },
  {
   "cell_type": "markdown",
   "metadata": {},
   "source": [
    "Access correlation matrix elements"
   ]
  },
  {
   "cell_type": "code",
   "execution_count": 15,
   "metadata": {
    "collapsed": false
   },
   "outputs": [
    {
     "name": "stdout",
     "output_type": "stream",
     "text": [
      "correlation between sig1frac and a0 is   -0.377851195167\n",
      "correlation between bkgfrac and mean is  -0.0510231643053\n"
     ]
    }
   ],
   "source": [
    "print(\"correlation between sig1frac and a0 is  \", r.correlation(\n",
    "    sig1frac, a0))\n",
    "print(\"correlation between bkgfrac and mean is \", r.correlation(\n",
    "    \"bkgfrac\", \"mean\"))"
   ]
  },
  {
   "cell_type": "markdown",
   "metadata": {},
   "source": [
    "Extract covariance and correlation matrix as ROOT.TMatrixDSym"
   ]
  },
  {
   "cell_type": "code",
   "execution_count": 16,
   "metadata": {
    "collapsed": false
   },
   "outputs": [],
   "source": [
    "cor = r.correlationMatrix()\n",
    "cov = r.covarianceMatrix()"
   ]
  },
  {
   "cell_type": "markdown",
   "metadata": {},
   "source": [
    "Print correlation, matrix"
   ]
  },
  {
   "cell_type": "code",
   "execution_count": 17,
   "metadata": {
    "collapsed": false
   },
   "outputs": [
    {
     "name": "stdout",
     "output_type": "stream",
     "text": [
      "correlation matrix\n",
      "covariance matrix\n",
      "\n",
      "6x6 matrix is as follows\n",
      "\n",
      "     |      0    |      1    |      2    |      3    |      4    |\n",
      "----------------------------------------------------------------------\n",
      "   0 |          1     -0.7952    -0.02552     -0.3779      0.4111 \n",
      "   1 |    -0.7952           1    -0.05102      0.6023     -0.3876 \n",
      "   2 |   -0.02552    -0.05102           1     -0.0873    -0.04206 \n",
      "   3 |    -0.3779      0.6023     -0.0873           1      0.2966 \n",
      "   4 |     0.4111     -0.3876    -0.04206      0.2966           1 \n",
      "   5 |     0.8272     -0.8708     0.01245     -0.2609      0.5799 \n",
      "\n",
      "\n",
      "     |      5    |\n",
      "----------------------------------------------------------------------\n",
      "   0 |     0.8272 \n",
      "   1 |    -0.8708 \n",
      "   2 |    0.01245 \n",
      "   3 |    -0.2609 \n",
      "   4 |     0.5799 \n",
      "   5 |          1 \n",
      "\n",
      "\n",
      "6x6 matrix is as follows\n",
      "\n",
      "     |      0    |      1    |      2    |      3    |      4    |\n",
      "----------------------------------------------------------------------\n",
      "   0 |    0.01261   -0.007502  -9.635e-05   -0.004154    0.002084 \n",
      "   1 |  -0.007502    0.007058  -0.0001441    0.004954    -0.00147 \n",
      "   2 | -9.635e-05  -0.0001441     0.00113  -0.0002873  -6.383e-05 \n",
      "   3 |  -0.004154    0.004954  -0.0002873    0.009583     0.00131 \n",
      "   4 |   0.002084    -0.00147  -6.383e-05     0.00131    0.002037 \n",
      "   5 |     0.1091    -0.08595   0.0004916       -0.03     0.03075 \n",
      "\n",
      "\n",
      "     |      5    |\n",
      "----------------------------------------------------------------------\n",
      "   0 |     0.1091 \n",
      "   1 |   -0.08595 \n",
      "   2 |  0.0004916 \n",
      "   3 |      -0.03 \n",
      "   4 |    0.03075 \n",
      "   5 |       1.38 \n",
      "\n"
     ]
    }
   ],
   "source": [
    "print(\"correlation matrix\")\n",
    "cor.Print()\n",
    "print(\"covariance matrix\")\n",
    "cov.Print()"
   ]
  },
  {
   "cell_type": "markdown",
   "metadata": {},
   "source": [
    "Persist fit result in root file\n",
    "-------------------------------------------------------------"
   ]
  },
  {
   "cell_type": "markdown",
   "metadata": {},
   "source": [
    "Open ROOT file save save result"
   ]
  },
  {
   "cell_type": "code",
   "execution_count": 18,
   "metadata": {
    "collapsed": false
   },
   "outputs": [],
   "source": [
    "f = ROOT.TFile(\"rf607_fitresult.root\", \"RECREATE\")\n",
    "r.Write(\"rf607\")\n",
    "f.Close()"
   ]
  },
  {
   "cell_type": "markdown",
   "metadata": {},
   "source": [
    "In a clean ROOT session retrieve the persisted fit result as follows:\n",
    "r = gDirectory.Get(\"rf607\")"
   ]
  },
  {
   "cell_type": "code",
   "execution_count": 19,
   "metadata": {
    "collapsed": false
   },
   "outputs": [
    {
     "name": "stderr",
     "output_type": "stream",
     "text": [
      "Info in <TCanvas::Print>: png file rf607_fitresult.png has been created\n"
     ]
    }
   ],
   "source": [
    "c = ROOT.TCanvas(\"rf607_fitresult\", \"rf607_fitresult\", 800, 400)\n",
    "c.Divide(2)\n",
    "c.cd(1)\n",
    "ROOT.gPad.SetLeftMargin(0.15)\n",
    "hcorr.GetYaxis().SetTitleOffset(1.4)\n",
    "hcorr.Draw(\"colz\")\n",
    "c.cd(2)\n",
    "ROOT.gPad.SetLeftMargin(0.15)\n",
    "frame.GetYaxis().SetTitleOffset(1.6)\n",
    "frame.Draw()\n",
    "\n",
    "c.SaveAs(\"rf607_fitresult.png\")"
   ]
  },
  {
   "cell_type": "markdown",
   "metadata": {},
   "source": [
    "Draw all canvases "
   ]
  },
  {
   "cell_type": "code",
   "execution_count": 20,
   "metadata": {
    "collapsed": false
   },
   "outputs": [
    {
     "data": {
      "image/png": "[encoded data removed]",
      "text/plain": [
       "<IPython.core.display.Image object>"
      ]
     },
     "metadata": {},
     "output_type": "display_data"
    }
   ],
   "source": [
    "from ROOT import gROOT \n",
    "gROOT.GetListOfCanvases().Draw()"
   ]
  }
 ],
 "metadata": {
  "kernelspec": {
   "display_name": "Python 2",
   "language": "python",
   "name": "python2"
  },
  "language_info": {
   "codemirror_mode": {
    "name": "ipython",
    "version": 2
   },
   "file_extension": ".py",
   "mimetype": "text/x-python",
   "name": "python",
   "nbconvert_exporter": "python",
   "pygments_lexer": "ipython2",
   "version": "2.7.10"
  }
 },
 "nbformat": 4,
 "nbformat_minor": 2
}
