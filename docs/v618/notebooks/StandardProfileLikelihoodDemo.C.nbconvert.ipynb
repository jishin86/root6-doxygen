{
 "cells": [
  {
   "cell_type": "markdown",
   "metadata": {},
   "source": [
    "#  Standard Profile Likelihood Demo\n",
    "Standard demo of the Profile Likelihood calculator\n",
    "StandardProfileLikelihoodDemo\n",
    "\n",
    "This is a standard demo that can be used with any ROOT file\n",
    "prepared in the standard way.  You specify:\n",
    " - name for input ROOT file\n",
    " - name of workspace inside ROOT file that holds model and data\n",
    " - name of ModelConfig that specifies details for calculator tools\n",
    " - name of dataset\n",
    "\n",
    "With default parameters the macro will attempt to run the\n",
    "standard hist2workspace example and read the ROOT file\n",
    "that it produces.\n",
    "\n",
    "The actual heart of the demo is only about 10 lines long.\n",
    "\n",
    "The ProfileLikelihoodCalculator is based on Wilks's theorem\n",
    "and the asymptotic properties of the profile likelihood ratio\n",
    "(eg. that it is chi-square distributed for the true value).\n",
    "\n",
    "\n",
    "\n",
    "\n",
    "**Author:** Kyle Cranmer  \n",
    "<i><small>This notebook tutorial was automatically generated with <a href= \"https://github.com/root-project/root/blob/master/documentation/doxygen/converttonotebook.py\">ROOTBOOK-izer</a> from the macro found in the ROOT repository  on Thursday, August 29, 2019 at 03:30 AM.</small></i>"
   ]
  },
  {
   "cell_type": "code",
   "execution_count": 1,
   "metadata": {
    "collapsed": false
   },
   "outputs": [],
   "source": [
    "%%cpp -d\n",
    "#include \"TFile.h\"\n",
    "#include \"TROOT.h\"\n",
    "#include \"TSystem.h\"\n",
    "#include \"RooWorkspace.h\"\n",
    "#include \"RooAbsData.h\"\n",
    "#include \"RooRealVar.h\"\n",
    "\n",
    "#include \"RooStats/ModelConfig.h\"\n",
    "#include \"RooStats/ProfileLikelihoodCalculator.h\"\n",
    "#include \"RooStats/LikelihoodInterval.h\"\n",
    "#include \"RooStats/LikelihoodIntervalPlot.h\""
   ]
  },
  {
   "cell_type": "code",
   "execution_count": 2,
   "metadata": {
    "collapsed": false
   },
   "outputs": [],
   "source": [
    "%%cpp -d\n",
    "// This is a workaround to make sure the namespace is used inside functions\n",
    "using namespace RooFit;\n",
    "using namespace RooStats;"
   ]
  },
  {
   "cell_type": "code",
   "execution_count": 3,
   "metadata": {
    "collapsed": false
   },
   "outputs": [],
   "source": [
    "struct ProfileLikelihoodOptions {\n",
    "\n",
    "   double confLevel = 0.95;\n",
    "   int nScanPoints = 50;\n",
    "   bool plotAsTF1 = false;\n",
    "   double poiMinPlot = 1;\n",
    "   double poiMaxPlot = 0;\n",
    "   bool doHypoTest = false;\n",
    "   double nullValue = 0;\n",
    "};\n",
    "\n",
    "ProfileLikelihoodOptions optPL;"
   ]
  },
  {
   "cell_type": "markdown",
   "metadata": {},
   "source": [
    " Arguments are defined. "
   ]
  },
  {
   "cell_type": "code",
   "execution_count": 4,
   "metadata": {
    "collapsed": false
   },
   "outputs": [],
   "source": [
    "const char *infile = \"\";\n",
    "const char *workspaceName = \"combined\";\n",
    "const char *modelConfigName = \"ModelConfig\";\n",
    "const char *dataName = \"obsData\";"
   ]
  },
  {
   "cell_type": "code",
   "execution_count": 5,
   "metadata": {
    "collapsed": false
   },
   "outputs": [],
   "source": [
    "double confLevel = optPL.confLevel;\n",
    "double nScanPoints = optPL.nScanPoints;\n",
    "bool plotAsTF1 = optPL.plotAsTF1;\n",
    "double poiXMin = optPL.poiMinPlot;\n",
    "double poiXMax = optPL.poiMaxPlot;\n",
    "bool doHypoTest = optPL.doHypoTest;\n",
    "double nullParamValue = optPL.nullValue;"
   ]
  },
  {
   "cell_type": "markdown",
   "metadata": {},
   "source": [
    "-------------------------------------------------------\n",
    " First part is just to access a user-defined file\n",
    " or create the standard example file if it doesn't exist"
   ]
  },
  {
   "cell_type": "code",
   "execution_count": 6,
   "metadata": {
    "collapsed": false
   },
   "outputs": [],
   "source": [
    "const char *filename = \"\";\n",
    "if (!strcmp(infile, \"\")) {\n",
    "   filename = \"results/example_combined_GaussExample_model.root\";\n",
    "   bool fileExist = !gSystem->AccessPathName(filename); // note opposite return code\n",
    "   // if file does not exists generate with histfactory\n",
    "   if (!fileExist) {\n",
    "#ifdef _WIN32\n",
    "      cout << \"HistFactory file cannot be generated on Windows - exit\" << endl;\n",
    "      return;\n",
    "#endif\n",
    "      // Normally this would be run on the command line\n",
    "      cout << \"will run standard hist2workspace example\" << endl;\n",
    "      gROOT->ProcessLine(\".! prepareHistFactory .\");\n",
    "      gROOT->ProcessLine(\".! hist2workspace config/example.xml\");\n",
    "      cout << \"\\n\\n---------------------\" << endl;\n",
    "      cout << \"Done creating example input\" << endl;\n",
    "      cout << \"---------------------\\n\\n\" << endl;\n",
    "   }\n",
    "\n",
    "} else\n",
    "   filename = infile;"
   ]
  },
  {
   "cell_type": "markdown",
   "metadata": {},
   "source": [
    "Try to open the file"
   ]
  },
  {
   "cell_type": "code",
   "execution_count": 7,
   "metadata": {
    "collapsed": false
   },
   "outputs": [
    {
     "name": "stdout",
     "output_type": "stream",
     "text": [
      "\n",
      "\u001b[1mRooFit v3.60 -- Developed by Wouter Verkerke and David Kirkby\u001b[0m \n",
      "                Copyright (C) 2000-2013 NIKHEF, University of California & Stanford University\n",
      "                All rights reserved, please read http://roofit.sourceforge.net/license.txt\n",
      "\n"
     ]
    }
   ],
   "source": [
    "TFile *file = TFile::Open(filename);"
   ]
  },
  {
   "cell_type": "markdown",
   "metadata": {},
   "source": [
    "If input file was specified byt not found, quit"
   ]
  },
  {
   "cell_type": "code",
   "execution_count": 8,
   "metadata": {
    "collapsed": false
   },
   "outputs": [],
   "source": [
    "if (!file) {\n",
    "   cout << \"StandardRooStatsDemoMacro: Input file \" << filename << \" is not found\" << endl;\n",
    "   return;\n",
    "}"
   ]
  },
  {
   "cell_type": "markdown",
   "metadata": {},
   "source": [
    "-------------------------------------------------------\n",
    " Tutorial starts here\n",
    " -------------------------------------------------------"
   ]
  },
  {
   "cell_type": "markdown",
   "metadata": {},
   "source": [
    "Get the workspace out of the file"
   ]
  },
  {
   "cell_type": "code",
   "execution_count": 9,
   "metadata": {
    "collapsed": false
   },
   "outputs": [],
   "source": [
    "RooWorkspace *w = (RooWorkspace *)file->Get(workspaceName);\n",
    "if (!w) {\n",
    "   cout << \"workspace not found\" << endl;\n",
    "   return;\n",
    "}"
   ]
  },
  {
   "cell_type": "markdown",
   "metadata": {},
   "source": [
    "Get the modelconfig out of the file"
   ]
  },
  {
   "cell_type": "code",
   "execution_count": 10,
   "metadata": {
    "collapsed": false
   },
   "outputs": [],
   "source": [
    "ModelConfig *mc = (ModelConfig *)w->obj(modelConfigName);"
   ]
  },
  {
   "cell_type": "markdown",
   "metadata": {},
   "source": [
    "Get the modelconfig out of the file"
   ]
  },
  {
   "cell_type": "code",
   "execution_count": 11,
   "metadata": {
    "collapsed": false
   },
   "outputs": [],
   "source": [
    "RooAbsData *data = w->data(dataName);"
   ]
  },
  {
   "cell_type": "markdown",
   "metadata": {},
   "source": [
    "Make sure ingredients are found"
   ]
  },
  {
   "cell_type": "code",
   "execution_count": 12,
   "metadata": {
    "collapsed": false
   },
   "outputs": [],
   "source": [
    "if (!data || !mc) {\n",
    "   w->Print();\n",
    "   cout << \"data or ModelConfig was not found\" << endl;\n",
    "   return;\n",
    "}"
   ]
  },
  {
   "cell_type": "markdown",
   "metadata": {},
   "source": [
    "---------------------------------------------\n",
    " create and use the ProfileLikelihoodCalculator\n",
    " to find and plot the 95% confidence interval\n",
    " on the parameter of interest as specified\n",
    " in the model config"
   ]
  },
  {
   "cell_type": "code",
   "execution_count": 13,
   "metadata": {
    "collapsed": false
   },
   "outputs": [
    {
     "name": "stdout",
     "output_type": "stream",
     "text": [
      "[#1] INFO:Minization -- p.d.f. provides expected number of events, including extended term in likelihood.\n",
      "[#1] INFO:Minization -- createNLL: caching constraint set under name CONSTR_OF_PDF_simPdf_FOR_OBS_channelCat:obs_x_channel1 with 4 entries\n",
      "[#1] INFO:Minization --  Including the following contraint terms in minimization: (alpha_syst2Constraint,alpha_syst3Constraint,gamma_stat_channel1_bin_0_constraint,gamma_stat_channel1_bin_1_constraint)\n",
      "[#1] INFO:Minization -- The following global observables have been defined: (nom_alpha_syst2,nom_alpha_syst3,nom_gamma_stat_channel1_bin_0,nom_gamma_stat_channel1_bin_1)\n",
      "[#0] PROGRESS:Minization -- ProfileLikelihoodCalcultor::DoGLobalFit - find MLE \n",
      "[#0] PROGRESS:Minization -- ProfileLikelihoodCalcultor::DoMinimizeNLL - using Minuit / Migrad with strategy 1\n",
      "[#1] INFO:Fitting -- RooAddition::defaultErrorLevel(nll_simPdf_obsData_with_constr) Summation contains a RooNLLVar, using its error level\n",
      "[#1] INFO:Minization -- RooMinimizer::optimizeConst: activating const optimization\n",
      "RooAbsTestStatistic::initSimMode: creating slave calculator #0 for state channel1 (2 dataset entries)\n",
      "[#1] INFO:NumericIntegration -- RooRealIntegral::init(channel1_model_Int[obs_x_channel1]) using numeric integrator RooBinIntegrator to calculate Int(obs_x_channel1)\n",
      "[#1] INFO:Fitting -- RooAbsTestStatistic::initSimMode: created 1 slave calculators.\n",
      "[#1] INFO:NumericIntegration -- RooRealIntegral::init(channel1_model_Int[obs_x_channel1]) using numeric integrator RooBinIntegrator to calculate Int(obs_x_channel1)\n",
      "[#1] INFO:Minization --  The following expressions have been identified as constant and will be precalculated and cached: (signal_channel1_nominal,background1_channel1_nominal,background2_channel1_nominal)\n",
      "[#1] INFO:Minization --  The following expressions will be evaluated in cache-and-track mode: (mc_stat_channel1)\n",
      "[#1] INFO:Minization -- \n",
      "  RooFitResult: minimized FCN value: -1033.78, estimated distance to minimum: 2.39561e-08\n",
      "                covariance matrix quality: Full, accurate covariance matrix\n",
      "                Status : MINIMIZE=0 \n",
      "\n",
      "    Floating Parameter    FinalValue +/-  Error   \n",
      "  --------------------  --------------------------\n",
      "         SigXsecOverSM    1.1153e+00 +/-  5.86e-01\n",
      "           alpha_syst2   -8.9017e-03 +/-  9.82e-01\n",
      "           alpha_syst3    1.7918e-02 +/-  9.48e-01\n",
      "  gamma_stat_channel1_bin_0    9.9955e-01 +/-  4.93e-02\n",
      "  gamma_stat_channel1_bin_1    1.0036e+00 +/-  8.01e-02\n",
      "\n"
     ]
    }
   ],
   "source": [
    "ProfileLikelihoodCalculator pl(*data, *mc);\n",
    "pl.SetConfidenceLevel(confLevel); // 95% interval\n",
    "LikelihoodInterval *interval = pl.GetInterval();"
   ]
  },
  {
   "cell_type": "markdown",
   "metadata": {},
   "source": [
    "Print out the interval on the first parameter of interest"
   ]
  },
  {
   "cell_type": "code",
   "execution_count": 14,
   "metadata": {
    "collapsed": false
   },
   "outputs": [
    {
     "name": "stdout",
     "output_type": "stream",
     "text": [
      "\n",
      ">>>> RESULT : 95% interval on SigXsecOverSM is : [Warning: lower value for SigXsecOverSM is at limit 0\n",
      "0, 2.32744]\n",
      " \n"
     ]
    }
   ],
   "source": [
    "RooRealVar *firstPOI = (RooRealVar *)mc->GetParametersOfInterest()->first();\n",
    "cout << \"\\n>>>> RESULT : \" << confLevel * 100 << \"% interval on \" << firstPOI->GetName() << \" is : [\"\n",
    "     << interval->LowerLimit(*firstPOI) << \", \" << interval->UpperLimit(*firstPOI) << \"]\\n \" << endl;"
   ]
  },
  {
   "cell_type": "markdown",
   "metadata": {},
   "source": [
    "Make a plot"
   ]
  },
  {
   "cell_type": "code",
   "execution_count": 15,
   "metadata": {
    "collapsed": false
   },
   "outputs": [
    {
     "name": "stdout",
     "output_type": "stream",
     "text": [
      "making a plot of the profile likelihood function ....(if it is taking a lot of time use less points or the TF1 drawing option)\n",
      "[#1] INFO:Minization -- RooProfileLL::evaluate(nll_simPdf_obsData_with_constr_Profile[SigXsecOverSM]) Creating instance of MINUIT\n",
      "[#1] INFO:Fitting -- RooAddition::defaultErrorLevel(nll_simPdf_obsData_with_constr) Summation contains a RooNLLVar, using its error level\n",
      "[#1] INFO:Minization -- RooProfileLL::evaluate(nll_simPdf_obsData_with_constr_Profile[SigXsecOverSM]) determining minimum likelihood for current configurations w.r.t all observable\n",
      "[#1] INFO:Minization -- RooProfileLL::evaluate(nll_simPdf_obsData_with_constr_Profile[SigXsecOverSM]) minimum found at (SigXsecOverSM=1.11511)\n",
      ".\n",
      "[#1] INFO:Minization -- RooProfileLL::evaluate(nll_simPdf_obsData_with_constr_Profile[SigXsecOverSM]) Creating instance of MINUIT\n",
      "[#1] INFO:Fitting -- RooAddition::defaultErrorLevel(nll_simPdf_obsData_with_constr) Summation contains a RooNLLVar, using its error level\n",
      "[#1] INFO:Minization -- RooProfileLL::evaluate(nll_simPdf_obsData_with_constr_Profile[SigXsecOverSM]) determining minimum likelihood for current configurations w.r.t all observable\n",
      "RooAbsTestStatistic::initSimMode: creating slave calculator #0 for state channel1 (2 dataset entries)\n",
      "[#1] INFO:NumericIntegration -- RooRealIntegral::init(channel1_model_Int[obs_x_channel1]) using numeric integrator RooBinIntegrator to calculate Int(obs_x_channel1)\n",
      "[#1] INFO:Fitting -- RooAbsTestStatistic::initSimMode: created 1 slave calculators.\n",
      "[#1] INFO:NumericIntegration -- RooRealIntegral::init(channel1_model_Int[obs_x_channel1]) using numeric integrator RooBinIntegrator to calculate Int(obs_x_channel1)\n",
      "[#0] ERROR:InputArguments -- RooArgSet::checkForDup: ERROR argument with name SigXsecOverSM is already in this set\n",
      "[#1] INFO:Minization -- RooProfileLL::evaluate(nll_simPdf_obsData_with_constr_Profile[SigXsecOverSM]) minimum found at (SigXsecOverSM=1.11509)\n",
      "......................................................................................................"
     ]
    },
    {
     "name": "stderr",
     "output_type": "stream",
     "text": [
      "Info in <TCanvas::MakeDefCanvas>:  created default TCanvas with name c1\n"
     ]
    }
   ],
   "source": [
    "cout << \"making a plot of the profile likelihood function ....(if it is taking a lot of time use less points or the \"\n",
    "        \"TF1 drawing option)\\n\";\n",
    "LikelihoodIntervalPlot plot(interval);\n",
    "plot.SetNPoints(nScanPoints); // do not use too many points, it could become very slow for some models\n",
    "if (poiXMin < poiXMax)\n",
    "   plot.SetRange(poiXMin, poiXMax);\n",
    "TString opt;\n",
    "if (plotAsTF1)\n",
    "   opt += TString(\"tf1\");\n",
    "plot.Draw(opt); // use option TF1 if too slow (plot.Draw(\"tf1\")"
   ]
  },
  {
   "cell_type": "markdown",
   "metadata": {},
   "source": [
    "If requested perform also an hypothesis test for the significance"
   ]
  },
  {
   "cell_type": "code",
   "execution_count": 16,
   "metadata": {
    "collapsed": false
   },
   "outputs": [],
   "source": [
    "if (doHypoTest) {\n",
    "   RooArgSet nullparams(\"nullparams\");\n",
    "   nullparams.addClone(*firstPOI);\n",
    "   nullparams.setRealValue(firstPOI->GetName(), nullParamValue);\n",
    "   pl.SetNullParameters(nullparams);\n",
    "   std::cout << \"Perform Test of Hypothesis : null Hypothesis is \" << firstPOI->GetName() << nullParamValue\n",
    "             << std::endl;\n",
    "   auto result = pl.GetHypoTest();\n",
    "   std::cout << \"\\n>>>> Hypotheis Test Result \\n\";\n",
    "   result->Print();\n",
    "}"
   ]
  },
  {
   "cell_type": "markdown",
   "metadata": {},
   "source": [
    "Draw all canvases "
   ]
  },
  {
   "cell_type": "code",
   "execution_count": 17,
   "metadata": {
    "collapsed": false
   },
   "outputs": [
    {
     "data": {
      "image/png": "[encoded data removed]",
      "text/plain": [
       "<IPython.core.display.Image object>"
      ]
     },
     "metadata": {},
     "output_type": "display_data"
    }
   ],
   "source": [
    "gROOT->GetListOfCanvases()->Draw()"
   ]
  }
 ],
 "metadata": {
  "kernelspec": {
   "display_name": "ROOT C++",
   "language": "c++",
   "name": "root"
  },
  "language_info": {
   "codemirror_mode": "text/x-c++src",
   "file_extension": ".C",
   "mimetype": " text/x-c++src",
   "name": "c++"
  }
 },
 "nbformat": 4,
 "nbformat_minor": 2
}
