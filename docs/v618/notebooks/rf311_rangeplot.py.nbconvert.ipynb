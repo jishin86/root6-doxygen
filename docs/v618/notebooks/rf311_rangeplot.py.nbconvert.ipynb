{
 "cells": [
  {
   "cell_type": "markdown",
   "metadata": {},
   "source": [
    "# Rf 3 1 1_Rangeplot\n",
    "\n",
    "Multidimensional models: projecting p.d.f and data ranges in continuous observables\n",
    "\n",
    "\n",
    "\n",
    "\n",
    "**Author:** Clemens Lange, Wouter Verkerke (C++ version)  \n",
    "<i><small>This notebook tutorial was automatically generated with <a href= \"https://github.com/root-project/root/blob/master/documentation/doxygen/converttonotebook.py\">ROOTBOOK-izer</a> from the macro found in the ROOT repository  on Thursday, August 29, 2019 at 02:50 AM.</small></i>"
   ]
  },
  {
   "cell_type": "code",
   "execution_count": 1,
   "metadata": {
    "collapsed": false
   },
   "outputs": [
    {
     "name": "stdout",
     "output_type": "stream",
     "text": [
      "Welcome to JupyROOT 6.18/03\n"
     ]
    }
   ],
   "source": [
    "import ROOT"
   ]
  },
  {
   "cell_type": "markdown",
   "metadata": {},
   "source": [
    "Create 3D pdf and data\n",
    "-------------------------------------------"
   ]
  },
  {
   "cell_type": "markdown",
   "metadata": {},
   "source": [
    "Create observables"
   ]
  },
  {
   "cell_type": "code",
   "execution_count": 2,
   "metadata": {
    "collapsed": false
   },
   "outputs": [
    {
     "name": "stdout",
     "output_type": "stream",
     "text": [
      "\n",
      "\u001b[1mRooFit v3.60 -- Developed by Wouter Verkerke and David Kirkby\u001b[0m \n",
      "                Copyright (C) 2000-2013 NIKHEF, University of California & Stanford University\n",
      "                All rights reserved, please read http://roofit.sourceforge.net/license.txt\n",
      "\n"
     ]
    }
   ],
   "source": [
    "x = ROOT.RooRealVar(\"x\", \"x\", -5, 5)\n",
    "y = ROOT.RooRealVar(\"y\", \"y\", -5, 5)\n",
    "z = ROOT.RooRealVar(\"z\", \"z\", -5, 5)"
   ]
  },
  {
   "cell_type": "markdown",
   "metadata": {},
   "source": [
    "Create signal pdf gauss(x)*gauss(y)*gauss(z)"
   ]
  },
  {
   "cell_type": "code",
   "execution_count": 3,
   "metadata": {
    "collapsed": false
   },
   "outputs": [],
   "source": [
    "gx = ROOT.RooGaussian(\n",
    "    \"gx\", \"gx\", x, ROOT.RooFit.RooConst(0), ROOT.RooFit.RooConst(1))\n",
    "gy = ROOT.RooGaussian(\n",
    "    \"gy\", \"gy\", y, ROOT.RooFit.RooConst(0), ROOT.RooFit.RooConst(1))\n",
    "gz = ROOT.RooGaussian(\n",
    "    \"gz\", \"gz\", z, ROOT.RooFit.RooConst(0), ROOT.RooFit.RooConst(1))\n",
    "sig = ROOT.RooProdPdf(\"sig\", \"sig\", ROOT.RooArgList(gx, gy, gz))"
   ]
  },
  {
   "cell_type": "markdown",
   "metadata": {},
   "source": [
    "Create background pdf poly(x)*poly(y)*poly(z)"
   ]
  },
  {
   "cell_type": "code",
   "execution_count": 4,
   "metadata": {
    "collapsed": false
   },
   "outputs": [],
   "source": [
    "px = ROOT.RooPolynomial(\"px\", \"px\", x, ROOT.RooArgList(\n",
    "    ROOT.RooFit.RooConst(-0.1), ROOT.RooFit.RooConst(0.004)))\n",
    "py = ROOT.RooPolynomial(\"py\", \"py\", y, ROOT.RooArgList(\n",
    "    ROOT.RooFit.RooConst(0.1), ROOT.RooFit.RooConst(-0.004)))\n",
    "pz = ROOT.RooPolynomial(\"pz\", \"pz\", z)\n",
    "bkg = ROOT.RooProdPdf(\"bkg\", \"bkg\", ROOT.RooArgList(px, py, pz))"
   ]
  },
  {
   "cell_type": "markdown",
   "metadata": {},
   "source": [
    "Create composite pdf sig+bkg"
   ]
  },
  {
   "cell_type": "code",
   "execution_count": 5,
   "metadata": {
    "collapsed": false
   },
   "outputs": [],
   "source": [
    "fsig = ROOT.RooRealVar(\"fsig\", \"signal fraction\", 0.1, 0., 1.)\n",
    "model = ROOT.RooAddPdf(\n",
    "    \"model\", \"model\", ROOT.RooArgList(\n",
    "        sig, bkg), ROOT.RooArgList(fsig))\n",
    "\n",
    "data = model.generate(ROOT.RooArgSet(x, y, z), 20000)"
   ]
  },
  {
   "cell_type": "markdown",
   "metadata": {},
   "source": [
    "Project pdf and data on x\n",
    "-------------------------------------------------"
   ]
  },
  {
   "cell_type": "markdown",
   "metadata": {},
   "source": [
    "Make plain projection of data and pdf on x observable"
   ]
  },
  {
   "cell_type": "code",
   "execution_count": 6,
   "metadata": {
    "collapsed": false
   },
   "outputs": [
    {
     "data": {
      "text/plain": [
       "<ROOT.RooPlot object (\"frame_x_5619a0c912c0\") at 0x5619a0c912c0>"
      ]
     },
     "execution_count": 6,
     "metadata": {},
     "output_type": "execute_result"
    },
    {
     "name": "stdout",
     "output_type": "stream",
     "text": [
      "[#1] INFO:Plotting -- RooAbsReal::plotOn(model) plot on x integrates over variables (y,z)\n"
     ]
    }
   ],
   "source": [
    "frame = x.frame(ROOT.RooFit.Title(\n",
    "    \"Projection of 3D data and pdf on X\"), ROOT.RooFit.Bins(40))\n",
    "data.plotOn(frame)\n",
    "model.plotOn(frame)"
   ]
  },
  {
   "cell_type": "markdown",
   "metadata": {},
   "source": [
    "Project pdf and data on x in signal range\n",
    "----------------------------------------------------------------------------------"
   ]
  },
  {
   "cell_type": "markdown",
   "metadata": {},
   "source": [
    "Define signal region in y and z observables"
   ]
  },
  {
   "cell_type": "code",
   "execution_count": 7,
   "metadata": {
    "collapsed": false
   },
   "outputs": [
    {
     "name": "stdout",
     "output_type": "stream",
     "text": [
      "[#1] INFO:Eval -- RooRealVar::setRange(y) new range named 'sigRegion' created with bounds [-1,1]\n",
      "[#1] INFO:Eval -- RooRealVar::setRange(z) new range named 'sigRegion' created with bounds [-1,1]\n"
     ]
    }
   ],
   "source": [
    "y.setRange(\"sigRegion\", -1, 1)\n",
    "z.setRange(\"sigRegion\", -1, 1)"
   ]
  },
  {
   "cell_type": "markdown",
   "metadata": {},
   "source": [
    "Make plot frame"
   ]
  },
  {
   "cell_type": "code",
   "execution_count": 8,
   "metadata": {
    "collapsed": false
   },
   "outputs": [],
   "source": [
    "frame2 = x.frame(ROOT.RooFit.Title(\n",
    "    \"Same projection on X in signal range of (Y,Z)\"), ROOT.RooFit.Bins(40))"
   ]
  },
  {
   "cell_type": "markdown",
   "metadata": {},
   "source": [
    "Plot subset of data in which all observables are inside \"sigRegion\"\n",
    "For observables that do not have an explicit \"sigRegion\" range defined (e.g. observable)\n",
    "an implicit definition is used that is identical to the full range (i.e.\n",
    "[-5,5] for x)"
   ]
  },
  {
   "cell_type": "code",
   "execution_count": 9,
   "metadata": {
    "collapsed": false
   },
   "outputs": [
    {
     "data": {
      "text/plain": [
       "<ROOT.RooPlot object (\"frame_x_5619a0859560\") at 0x5619a0859560>"
      ]
     },
     "execution_count": 9,
     "metadata": {},
     "output_type": "execute_result"
    },
    {
     "name": "stdout",
     "output_type": "stream",
     "text": [
      "[#1] INFO:Plotting -- RooTreeData::plotOn: plotting 1692 events out of 20000 total events\n"
     ]
    }
   ],
   "source": [
    "data.plotOn(frame2, ROOT.RooFit.CutRange(\"sigRegion\"))"
   ]
  },
  {
   "cell_type": "markdown",
   "metadata": {},
   "source": [
    "Project model on x, projected observables (y,z) only in \"sigRegion\""
   ]
  },
  {
   "cell_type": "code",
   "execution_count": 10,
   "metadata": {
    "collapsed": false
   },
   "outputs": [
    {
     "name": "stdout",
     "output_type": "stream",
     "text": [
      "[#1] INFO:Plotting -- RooAbsReal::plotOn(model) plot on x integrates over variables (y,z) in range sigRegion\n"
     ]
    },
    {
     "name": "stderr",
     "output_type": "stream",
     "text": [
      "Info in <TCanvas::Print>: png file rf311_rangeplot.png has been created\n"
     ]
    }
   ],
   "source": [
    "model.plotOn(frame2, ROOT.RooFit.ProjectionRange(\"sigRegion\"))\n",
    "\n",
    "c = ROOT.TCanvas(\"rf311_rangeplot\", \"rf310_rangeplot\", 800, 400)\n",
    "c.Divide(2)\n",
    "c.cd(1)\n",
    "ROOT.gPad.SetLeftMargin(0.15)\n",
    "frame.GetYaxis().SetTitleOffset(1.4)\n",
    "frame.Draw()\n",
    "c.cd(2)\n",
    "ROOT.gPad.SetLeftMargin(0.15)\n",
    "frame2.GetYaxis().SetTitleOffset(1.4)\n",
    "frame2.Draw()\n",
    "\n",
    "c.SaveAs(\"rf311_rangeplot.png\")"
   ]
  },
  {
   "cell_type": "markdown",
   "metadata": {},
   "source": [
    "Draw all canvases "
   ]
  },
  {
   "cell_type": "code",
   "execution_count": 11,
   "metadata": {
    "collapsed": false
   },
   "outputs": [
    {
     "data": {
      "image/png": "[encoded data removed]",
      "text/plain": [
       "<IPython.core.display.Image object>"
      ]
     },
     "metadata": {},
     "output_type": "display_data"
    }
   ],
   "source": [
    "from ROOT import gROOT \n",
    "gROOT.GetListOfCanvases().Draw()"
   ]
  }
 ],
 "metadata": {
  "kernelspec": {
   "display_name": "Python 2",
   "language": "python",
   "name": "python2"
  },
  "language_info": {
   "codemirror_mode": {
    "name": "ipython",
    "version": 2
   },
   "file_extension": ".py",
   "mimetype": "text/x-python",
   "name": "python",
   "nbconvert_exporter": "python",
   "pygments_lexer": "ipython2",
   "version": "2.7.10"
  }
 },
 "nbformat": 4,
 "nbformat_minor": 2
}
