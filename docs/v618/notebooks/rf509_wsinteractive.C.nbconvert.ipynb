{
 "cells": [
  {
   "cell_type": "markdown",
   "metadata": {},
   "source": [
    "# Rf 5 0 9_Wsinteractive\n",
    "Organization and simultaneous fits: easy interactive access to workspace contents - CINT to CLING code migration\n",
    "\n",
    "\n",
    "\n",
    "**Author:** 04/2009 - Wouter Verkerke  \n",
    "<i><small>This notebook tutorial was automatically generated with <a href= \"https://github.com/root-project/root/blob/master/documentation/doxygen/converttonotebook.py\">ROOTBOOK-izer</a> from the macro found in the ROOT repository  on Thursday, August 29, 2019 at 02:56 AM.</small></i>"
   ]
  },
  {
   "cell_type": "code",
   "execution_count": 1,
   "metadata": {
    "collapsed": false
   },
   "outputs": [],
   "source": [
    "%%cpp -d\n",
    "// This is a workaround to make sure the namespace is used inside functions\n",
    "using namespace RooFit;"
   ]
  },
  {
   "cell_type": "code",
   "execution_count": 2,
   "metadata": {
    "collapsed": false
   },
   "outputs": [],
   "source": [
    "void fillWorkspace(RooWorkspace &w);"
   ]
  },
  {
   "cell_type": "markdown",
   "metadata": {},
   "source": [
    " A helper function is created: "
   ]
  },
  {
   "cell_type": "code",
   "execution_count": 3,
   "metadata": {
    "collapsed": false
   },
   "outputs": [],
   "source": [
    "%%cpp -d\n",
    "void fillWorkspace(RooWorkspace &w)\n",
    "{\n",
    "   // C r e a t e  p d f   a n d   f i l l   w o r k s p a c e\n",
    "   // --------------------------------------------------------\n",
    "\n",
    "   // Declare observable x\n",
    "   RooRealVar x(\"x\", \"x\", 0, 10);\n",
    "\n",
    "   // Create two Gaussian PDFs g1(x,mean1,sigma) anf g2(x,mean2,sigma) and their parameters\n",
    "   RooRealVar mean(\"mean\", \"mean of gaussians\", 5, 0, 10);\n",
    "   RooRealVar sigma1(\"sigma1\", \"width of gaussians\", 0.5);\n",
    "   RooRealVar sigma2(\"sigma2\", \"width of gaussians\", 1);\n",
    "\n",
    "   RooGaussian sig1(\"sig1\", \"Signal component 1\", x, mean, sigma1);\n",
    "   RooGaussian sig2(\"sig2\", \"Signal component 2\", x, mean, sigma2);\n",
    "\n",
    "   // Build Chebychev polynomial p.d.f.\n",
    "   RooRealVar a0(\"a0\", \"a0\", 0.5, 0., 1.);\n",
    "   RooRealVar a1(\"a1\", \"a1\", 0.2, 0., 1.);\n",
    "   RooChebychev bkg(\"bkg\", \"Background\", x, RooArgSet(a0, a1));\n",
    "\n",
    "   // Sum the signal components into a composite signal p.d.f.\n",
    "   RooRealVar sig1frac(\"sig1frac\", \"fraction of component 1 in signal\", 0.8, 0., 1.);\n",
    "   RooAddPdf sig(\"sig\", \"Signal\", RooArgList(sig1, sig2), sig1frac);\n",
    "\n",
    "   // Sum the composite signal and background\n",
    "   RooRealVar bkgfrac(\"bkgfrac\", \"fraction of background\", 0.5, 0., 1.);\n",
    "   RooAddPdf model(\"model\", \"g1+g2+a\", RooArgList(bkg, sig), bkgfrac);\n",
    "\n",
    "   w.import(model);\n",
    "}"
   ]
  },
  {
   "cell_type": "markdown",
   "metadata": {},
   "source": [
    "Create and fill workspace\n",
    " ------------------------------------------------"
   ]
  },
  {
   "cell_type": "markdown",
   "metadata": {},
   "source": [
    "Create a workspace named 'w'\n",
    " With CINT w could exports its contents to\n",
    " a same-name C++ namespace in CINT 'namespace w'.\n",
    " but this does not work anymore in CLING.\n",
    " so this tutorial is an example on how to\n",
    " change the code"
   ]
  },
  {
   "cell_type": "code",
   "execution_count": 4,
   "metadata": {
    "collapsed": false
   },
   "outputs": [
    {
     "name": "stdout",
     "output_type": "stream",
     "text": [
      "\n",
      "\u001b[1mRooFit v3.60 -- Developed by Wouter Verkerke and David Kirkby\u001b[0m \n",
      "                Copyright (C) 2000-2013 NIKHEF, University of California & Stanford University\n",
      "                All rights reserved, please read http://roofit.sourceforge.net/license.txt\n",
      "\n",
      "[#1] INFO:ObjectHandling -- RooWorkspace::exportToCint(w) INFO: references to all objects in this workspace will be created in CINT in 'namespace w'\n"
     ]
    }
   ],
   "source": [
    "RooWorkspace *w1 = new RooWorkspace(\"w\", kTRUE);"
   ]
  },
  {
   "cell_type": "markdown",
   "metadata": {},
   "source": [
    "Fill workspace with p.d.f. and data in a separate function"
   ]
  },
  {
   "cell_type": "code",
   "execution_count": 5,
   "metadata": {
    "collapsed": false
   },
   "outputs": [
    {
     "name": "stdout",
     "output_type": "stream",
     "text": [
      "[#1] INFO:ObjectHandling -- RooWorkspace::import(w) importing RooAddPdf::model\n",
      "[#1] INFO:ObjectHandling -- RooWorkspace::import(w) importing RooChebychev::bkg\n",
      "[#1] INFO:ObjectHandling -- RooWorkspace::import(w) importing RooRealVar::x\n",
      "[#1] INFO:ObjectHandling -- RooWorkspace::import(w) importing RooRealVar::a0\n",
      "[#1] INFO:ObjectHandling -- RooWorkspace::import(w) importing RooRealVar::a1\n",
      "[#1] INFO:ObjectHandling -- RooWorkspace::import(w) importing RooRealVar::bkgfrac\n",
      "[#1] INFO:ObjectHandling -- RooWorkspace::import(w) importing RooAddPdf::sig\n",
      "[#1] INFO:ObjectHandling -- RooWorkspace::import(w) importing RooGaussian::sig1\n",
      "[#1] INFO:ObjectHandling -- RooWorkspace::import(w) importing RooRealVar::mean\n",
      "[#1] INFO:ObjectHandling -- RooWorkspace::import(w) importing RooRealVar::sigma1\n",
      "[#1] INFO:ObjectHandling -- RooWorkspace::import(w) importing RooRealVar::sig1frac\n",
      "[#1] INFO:ObjectHandling -- RooWorkspace::import(w) importing RooGaussian::sig2\n",
      "[#1] INFO:ObjectHandling -- RooWorkspace::import(w) importing RooRealVar::sigma2\n"
     ]
    }
   ],
   "source": [
    "fillWorkspace(*w1);"
   ]
  },
  {
   "cell_type": "markdown",
   "metadata": {},
   "source": [
    "Print workspace contents"
   ]
  },
  {
   "cell_type": "code",
   "execution_count": 6,
   "metadata": {
    "collapsed": false
   },
   "outputs": [
    {
     "name": "stdout",
     "output_type": "stream",
     "text": [
      "\n",
      "RooWorkspace(w) w contents\n",
      "\n",
      "variables\n",
      "---------\n",
      "(a0,a1,bkgfrac,mean,sig1frac,sigma1,sigma2,x)\n",
      "\n",
      "p.d.f.s\n",
      "-------\n",
      "RooChebychev::bkg[ x=x coefList=(a0,a1) ] = 0.8\n",
      "RooAddPdf::model[ bkgfrac * bkg + [%] * sig ] = 0.9\n",
      "RooAddPdf::sig[ sig1frac * sig1 + [%] * sig2 ] = 1\n",
      "RooGaussian::sig1[ x=x mean=mean sigma=sigma1 ] = 1\n",
      "RooGaussian::sig2[ x=x mean=mean sigma=sigma2 ] = 1\n",
      "\n"
     ]
    }
   ],
   "source": [
    "w1->Print();"
   ]
  },
  {
   "cell_type": "markdown",
   "metadata": {},
   "source": [
    "This does not work anymore with cling\n",
    " use normal workspace functionality"
   ]
  },
  {
   "cell_type": "markdown",
   "metadata": {},
   "source": [
    "Use workspace contents\n",
    " ----------------------------------------------"
   ]
  },
  {
   "cell_type": "markdown",
   "metadata": {},
   "source": [
    "Old syntax to use the name space prefix operator to access the workspace contents\n",
    "\n",
    " RooDataSet* d = w::model.generate(w::x,1000) ;\n",
    " RooFitResult* r = w::model.fitTo(*d) ;"
   ]
  },
  {
   "cell_type": "markdown",
   "metadata": {},
   "source": [
    "Use normal workspace methods"
   ]
  },
  {
   "cell_type": "code",
   "execution_count": 7,
   "metadata": {
    "collapsed": false
   },
   "outputs": [
    {
     "name": "stdout",
     "output_type": "stream",
     "text": [
      "[#1] INFO:Minization -- createNLL: caching constraint set under name CONSTR_OF_PDF_model_FOR_OBS_x with 0 entries\n",
      "[#1] INFO:Minization -- RooMinimizer::optimizeConst: activating const optimization\n",
      "[#1] INFO:Minization --  The following expressions will be evaluated in cache-and-track mode: (bkg,sig1,sig2)\n",
      " **********\n",
      " **    1 **SET PRINT           1\n",
      " **********\n",
      " **********\n",
      " **    2 **SET NOGRAD\n",
      " **********\n",
      " PARAMETER DEFINITIONS:\n",
      "    NO.   NAME         VALUE      STEP SIZE      LIMITS\n",
      "     1 a0           5.00000e-01  1.00000e-01    0.00000e+00  1.00000e+00\n",
      "     2 a1           2.00000e-01  1.00000e-01    0.00000e+00  1.00000e+00\n",
      "     3 bkgfrac      5.00000e-01  1.00000e-01    0.00000e+00  1.00000e+00\n",
      "     4 mean         5.00000e+00  1.00000e+00    0.00000e+00  1.00000e+01\n",
      "     5 sig1frac     8.00000e-01  1.00000e-01    0.00000e+00  1.00000e+00\n",
      " **********\n",
      " **    3 **SET ERR         0.5\n",
      " **********\n",
      " **********\n",
      " **    4 **SET PRINT           1\n",
      " **********\n",
      " **********\n",
      " **    5 **SET STR           1\n",
      " **********\n",
      " NOW USING STRATEGY  1: TRY TO BALANCE SPEED AGAINST RELIABILITY\n",
      " **********\n",
      " **    6 **MIGRAD        2500           1\n",
      " **********\n",
      " FIRST CALL TO USER FUNCTION AT NEW START POINT, WITH IFLAG=4.\n",
      " START MIGRAD MINIMIZATION.  STRATEGY  1.  CONVERGENCE WHEN EDM .LT. 1.00e-03\n",
      " FCN=1962.68 FROM MIGRAD    STATUS=INITIATE       14 CALLS          15 TOTAL\n",
      "                     EDM= unknown      STRATEGY= 1      NO ERROR MATRIX       \n",
      "  EXT PARAMETER               CURRENT GUESS       STEP         FIRST   \n",
      "  NO.   NAME      VALUE            ERROR          SIZE      DERIVATIVE \n",
      "   1  a0           5.00000e-01   1.00000e-01   2.01358e-01   5.55984e+00\n",
      "   2  a1           2.00000e-01   1.00000e-01   2.57889e-01  -1.57464e+00\n",
      "   3  bkgfrac      5.00000e-01   1.00000e-01   2.01358e-01   1.16417e+00\n",
      "   4  mean         5.00000e+00   1.00000e+00   2.01358e-01  -6.91026e+01\n",
      "   5  sig1frac     8.00000e-01   1.00000e-01   2.57889e-01  -2.02114e+00\n",
      "                               ERR DEF= 0.5\n",
      " MIGRAD MINIMIZATION HAS CONVERGED.\n",
      " MIGRAD WILL VERIFY CONVERGENCE AND ERROR MATRIX.\n",
      " COVARIANCE MATRIX CALCULATED SUCCESSFULLY\n",
      " FCN=1962.14 FROM MIGRAD    STATUS=CONVERGED      92 CALLS          93 TOTAL\n",
      "                     EDM=0.000129539    STRATEGY= 1      ERROR MATRIX ACCURATE \n",
      "  EXT PARAMETER                                   STEP         FIRST   \n",
      "  NO.   NAME      VALUE            ERROR          SIZE      DERIVATIVE \n",
      "   1  a0           4.38576e-01   7.35996e-02   4.50487e-03   3.73392e-02\n",
      "   2  a1           2.02416e-01   1.18128e-01   5.73699e-03   4.39091e-02\n",
      "   3  bkgfrac      5.03388e-01   3.60691e-02   1.24369e-03   4.03363e-02\n",
      "   4  mean         5.01610e+00   3.15061e-02   1.91674e-04   7.40455e-01\n",
      "   5  sig1frac     8.35115e-01   1.17067e-01   5.93647e-03   2.37022e-02\n",
      "                               ERR DEF= 0.5\n",
      " EXTERNAL ERROR MATRIX.    NDIM=  25    NPAR=  5    ERR DEF=0.5\n",
      "  5.457e-03  1.116e-03 -2.768e-04 -2.327e-04 -9.105e-04 \n",
      "  1.116e-03  1.438e-02 -3.249e-03  5.690e-05 -9.716e-03 \n",
      " -2.768e-04 -3.249e-03  1.303e-03 -5.364e-05  3.285e-03 \n",
      " -2.327e-04  5.690e-05 -5.364e-05  9.926e-04 -1.964e-04 \n",
      " -9.105e-04 -9.716e-03  3.285e-03 -1.964e-04  1.419e-02 \n",
      " PARAMETER  CORRELATION COEFFICIENTS  \n",
      "       NO.  GLOBAL      1      2      3      4      5\n",
      "        1  0.16490   1.000  0.126 -0.104 -0.100 -0.103\n",
      "        2  0.77006   0.126  1.000 -0.751  0.015 -0.680\n",
      "        3  0.82650  -0.104 -0.751  1.000 -0.047  0.764\n",
      "        4  0.12324  -0.100  0.015 -0.047  1.000 -0.052\n",
      "        5  0.78139  -0.103 -0.680  0.764 -0.052  1.000\n",
      " **********\n",
      " **    7 **SET ERR         0.5\n",
      " **********\n",
      " **********\n",
      " **    8 **SET PRINT           1\n",
      " **********\n",
      " **********\n",
      " **    9 **HESSE        2500\n",
      " **********\n",
      " COVARIANCE MATRIX CALCULATED SUCCESSFULLY\n",
      " FCN=1962.14 FROM HESSE     STATUS=OK             31 CALLS         124 TOTAL\n",
      "                     EDM=0.000129401    STRATEGY= 1      ERROR MATRIX ACCURATE \n",
      "  EXT PARAMETER                                INTERNAL      INTERNAL  \n",
      "  NO.   NAME      VALUE            ERROR       STEP SIZE       VALUE   \n",
      "   1  a0           4.38576e-01   7.35914e-02   9.00974e-04  -1.23159e-01\n",
      "   2  a1           2.02416e-01   1.17686e-01   1.14740e-03  -6.37473e-01\n",
      "   3  bkgfrac      5.03388e-01   3.59545e-02   2.48738e-04   6.77613e-03\n",
      "   4  mean         5.01610e+00   3.15052e-02   3.83348e-05   3.22075e-03\n",
      "   5  sig1frac     8.35115e-01   1.16789e-01   1.18729e-03   7.34520e-01\n",
      "                               ERR DEF= 0.5\n",
      " EXTERNAL ERROR MATRIX.    NDIM=  25    NPAR=  5    ERR DEF=0.5\n",
      "  5.456e-03  1.105e-03 -2.735e-04 -2.327e-04 -9.006e-04 \n",
      "  1.105e-03  1.427e-02 -3.217e-03  5.664e-05 -9.623e-03 \n",
      " -2.735e-04 -3.217e-03  1.295e-03 -5.354e-05  3.261e-03 \n",
      " -2.327e-04  5.664e-05 -5.354e-05  9.926e-04 -1.946e-04 \n",
      " -9.006e-04 -9.623e-03  3.261e-03 -1.946e-04  1.412e-02 \n",
      " PARAMETER  CORRELATION COEFFICIENTS  \n",
      "       NO.  GLOBAL      1      2      3      4      5\n",
      "        1  0.16425   1.000  0.125 -0.103 -0.100 -0.103\n",
      "        2  0.76801   0.125  1.000 -0.748  0.015 -0.678\n",
      "        3  0.82527  -0.103 -0.748  1.000 -0.047  0.763\n",
      "        4  0.12301  -0.100  0.015 -0.047  1.000 -0.052\n",
      "        5  0.78016  -0.103 -0.678  0.763 -0.052  1.000\n",
      "[#1] INFO:Minization -- RooMinimizer::optimizeConst: deactivating const optimization\n"
     ]
    }
   ],
   "source": [
    "RooAbsPdf *model = w1->pdf(\"model\");\n",
    "RooRealVar *x = w1->var(\"x\");\n",
    "\n",
    "RooDataSet *d = model->generate(*x, 1000);\n",
    "RooFitResult *r = model->fitTo(*d);"
   ]
  },
  {
   "cell_type": "markdown",
   "metadata": {},
   "source": [
    "Old syntax to access the variable x\n",
    " RooPlot* frame = w::x.frame() ;"
   ]
  },
  {
   "cell_type": "code",
   "execution_count": 8,
   "metadata": {
    "collapsed": false
   },
   "outputs": [],
   "source": [
    "RooPlot *frame = x->frame();\n",
    "d->plotOn(frame);"
   ]
  },
  {
   "cell_type": "markdown",
   "metadata": {},
   "source": [
    "Old syntax to omit x::\n",
    " NB: The 'w::' prefix can be omitted if namespace w is imported in local namespace\n",
    " in the usual C++ way\n",
    "\n",
    " using namespace w;\n",
    " model.plotOn(frame) ;\n",
    " model.plotOn(frame,Components(bkg),LineStyle(kDashed)) ;"
   ]
  },
  {
   "cell_type": "markdown",
   "metadata": {},
   "source": [
    "New correct syntax"
   ]
  },
  {
   "cell_type": "code",
   "execution_count": 9,
   "metadata": {
    "collapsed": false
   },
   "outputs": [
    {
     "name": "stdout",
     "output_type": "stream",
     "text": [
      "[#1] INFO:Plotting -- RooAbsPdf::plotOn(model) directly selected PDF components: (bkg)\n",
      "[#1] INFO:Plotting -- RooAbsPdf::plotOn(model) indirectly selected PDF components: ()\n"
     ]
    }
   ],
   "source": [
    "RooAbsPdf *bkg = w1->pdf(\"bkg\");\n",
    "model->plotOn(frame);\n",
    "model->plotOn(frame, Components(*bkg), LineStyle(kDashed));"
   ]
  },
  {
   "cell_type": "markdown",
   "metadata": {},
   "source": [
    "Draw the frame on the canvas"
   ]
  },
  {
   "cell_type": "code",
   "execution_count": 10,
   "metadata": {
    "collapsed": false
   },
   "outputs": [],
   "source": [
    "new TCanvas(\"rf509_wsinteractive\", \"rf509_wsinteractive\", 600, 600);\n",
    "gPad->SetLeftMargin(0.15);\n",
    "frame->GetYaxis()->SetTitleOffset(1.4);\n",
    "frame->Draw();"
   ]
  },
  {
   "cell_type": "markdown",
   "metadata": {},
   "source": [
    "Draw all canvases "
   ]
  },
  {
   "cell_type": "code",
   "execution_count": 11,
   "metadata": {
    "collapsed": false
   },
   "outputs": [
    {
     "data": {
      "text/html": [
       "\n",
       "<div id=\"root_plot_1\"\n",
       "     style=\"width: 596px; height: 572px\">\n",
       "</div>\n",
       "\n",
       "<script>\n",
       " requirejs.config({\n",
       "     paths: {\n",
       "       'JSRootCore' : 'https://root.cern.ch/js/notebook//scripts/JSRootCore',\n",
       "     }\n",
       "   });\n",
       " require(['JSRootCore'],\n",
       "     function(Core) {\n",
       "       var obj = Core.JSONR_unref({\"_typename\":\"TCanvas\",\"fUniqueID\":0,\"fBits\":53673992,\"fLineColor\":1,\"fLineStyle\":1,\"fLineWidth\":1,\"fFillColor\":0,\"fFillStyle\":1001,\"fLeftMargin\":0.15,\"fRightMargin\":0.1,\"fBottomMargin\":0.1,\"fTopMargin\":0.1,\"fXfile\":2,\"fYfile\":2,\"fAfile\":1,\"fXstat\":0.99,\"fYstat\":0.99,\"fAstat\":2,\"fFrameFillColor\":0,\"fFrameLineColor\":1,\"fFrameFillStyle\":1001,\"fFrameLineStyle\":1,\"fFrameLineWidth\":1,\"fFrameBorderSize\":1,\"fFrameBorderMode\":0,\"fX1\":-2.00000007947286,\"fY1\":-7.06538344638929,\"fX2\":11.3333333532015,\"fY2\":63.588446806207,\"fXtoAbsPixelk\":89.4000528863549,\"fXtoPixelk\":89.4000528863549,\"fXtoPixel\":44.6999996669591,\"fYtoAbsPixelk\":514.800046590614,\"fYtoPixelk\":514.800046590614,\"fYtoPixel\":-8.09581020526458,\"fUtoAbsPixelk\":5e-5,\"fUtoPixelk\":5e-5,\"fUtoPixel\":596,\"fVtoAbsPixelk\":572.00005,\"fVtoPixelk\":572,\"fVtoPixel\":-572,\"fAbsPixeltoXk\":-2.00000007947286,\"fPixeltoXk\":-2.00000007947286,\"fPixeltoX\":0.0223713648199235,\"fAbsPixeltoYk\":63.588446806207,\"fPixeltoYk\":-7.06538344638929,\"fPixeltoY\":-0.123520682259784,\"fXlowNDC\":0,\"fYlowNDC\":0,\"fXUpNDC\":0,\"fYUpNDC\":0,\"fWNDC\":1,\"fHNDC\":1,\"fAbsXlowNDC\":0,\"fAbsYlowNDC\":0,\"fAbsWNDC\":1,\"fAbsHNDC\":1,\"fUxmin\":0,\"fUymin\":0,\"fUxmax\":10,\"fUymax\":56.5230633598177,\"fTheta\":30,\"fPhi\":30,\"fAspectRatio\":0,\"fNumber\":0,\"fTickx\":0,\"fTicky\":0,\"fLogx\":0,\"fLogy\":0,\"fLogz\":0,\"fPadPaint\":0,\"fCrosshair\":0,\"fCrosshairPos\":0,\"fBorderSize\":2,\"fBorderMode\":0,\"fModified\":false,\"fGridx\":false,\"fGridy\":false,\"fAbsCoord\":false,\"fEditable\":true,\"fFixedAspectRatio\":false,\"fPrimitives\":{\"_typename\":\"TList\",\"name\":\"TList\",\"arr\":[{\"_typename\":\"TFrame\",\"fUniqueID\":0,\"fBits\":50331656,\"fLineColor\":1,\"fLineStyle\":1,\"fLineWidth\":1,\"fFillColor\":0,\"fFillStyle\":1001,\"fX1\":0,\"fY1\":0,\"fX2\":10,\"fY2\":56.5230633598177,\"fBorderSize\":1,\"fBorderMode\":0},{\"_typename\":\"TH1D\",\"fUniqueID\":0,\"fBits\":50332168,\"fName\":\"frame_7fa38c393d20\",\"fTitle\":\"A RooPlot of \\\"x\\\"\",\"fLineColor\":602,\"fLineStyle\":1,\"fLineWidth\":1,\"fFillColor\":0,\"fFillStyle\":1001,\"fMarkerColor\":1,\"fMarkerStyle\":1,\"fMarkerSize\":1,\"fNcells\":102,\"fXaxis\":{\"_typename\":\"TAxis\",\"fUniqueID\":0,\"fBits\":50331648,\"fName\":\"xaxis\",\"fTitle\":\"x\",\"fNdivisions\":510,\"fAxisColor\":1,\"fLabelColor\":1,\"fLabelFont\":42,\"fLabelOffset\":0.005,\"fLabelSize\":0.035,\"fTickLength\":0.03,\"fTitleOffset\":1,\"fTitleSize\":0.035,\"fTitleColor\":1,\"fTitleFont\":42,\"fNbins\":100,\"fXmin\":0,\"fXmax\":10,\"fXbins\":[],\"fFirst\":0,\"fLast\":0,\"fBits2\":0,\"fTimeDisplay\":false,\"fTimeFormat\":\"\",\"fLabels\":null,\"fModLabs\":null},\"fYaxis\":{\"_typename\":\"TAxis\",\"fUniqueID\":0,\"fBits\":50331648,\"fName\":\"yaxis\",\"fTitle\":\"Events \\/ ( 0.1 )\",\"fNdivisions\":510,\"fAxisColor\":1,\"fLabelColor\":1,\"fLabelFont\":42,\"fLabelOffset\":0.005,\"fLabelSize\":0.035,\"fTickLength\":0.03,\"fTitleOffset\":1.4,\"fTitleSize\":0.035,\"fTitleColor\":1,\"fTitleFont\":42,\"fNbins\":1,\"fXmin\":0,\"fXmax\":1,\"fXbins\":[],\"fFirst\":0,\"fLast\":0,\"fBits2\":0,\"fTimeDisplay\":false,\"fTimeFormat\":\"\",\"fLabels\":null,\"fModLabs\":null},\"fZaxis\":{\"_typename\":\"TAxis\",\"fUniqueID\":0,\"fBits\":50331648,\"fName\":\"zaxis\",\"fTitle\":\"\",\"fNdivisions\":510,\"fAxisColor\":1,\"fLabelColor\":1,\"fLabelFont\":42,\"fLabelOffset\":0.005,\"fLabelSize\":0.035,\"fTickLength\":0.03,\"fTitleOffset\":1,\"fTitleSize\":0.035,\"fTitleColor\":1,\"fTitleFont\":42,\"fNbins\":1,\"fXmin\":0,\"fXmax\":1,\"fXbins\":[],\"fFirst\":0,\"fLast\":0,\"fBits2\":0,\"fTimeDisplay\":false,\"fTimeFormat\":\"\",\"fLabels\":null,\"fModLabs\":null},\"fBarOffset\":0,\"fBarWidth\":1000,\"fEntries\":1,\"fTsumw\":0,\"fTsumw2\":0,\"fTsumwx\":0,\"fTsumwx2\":0,\"fMaximum\":56.5230633598177,\"fMinimum\":-1111,\"fNormFactor\":0,\"fContour\":[],\"fSumw2\":[],\"fOption\":\"\",\"fFunctions\":{\"_typename\":\"TList\",\"name\":\"TList\",\"arr\":[],\"opt\":[]},\"fBufferSize\":0,\"fBuffer\":[],\"fBinStatErrOpt\":0,\"fStatOverflows\":2,\"fArray\":[0,56.5230633598177,0,0,0,0,0,0,0,0,0,0,0,0,0,0,0,0,0,0,0,0,0,0,0,0,0,0,0,0,0,0,0,0,0,0,0,0,0,0,0,0,0,0,0,0,0,0,0,0,0,0,0,0,0,0,0,0,0,0,0,0,0,0,0,0,0,0,0,0,0,0,0,0,0,0,0,0,0,0,0,0,0,0,0,0,0,0,0,0,0,0,0,0,0,0,0,0,0,0,0,0]},{\"_typename\":\"RooHist\",\"fUniqueID\":0,\"fBits\":50332680,\"fName\":\"h_modelData\",\"fTitle\":\"Histogram of modelData_plot__x\",\"fLineColor\":1,\"fLineStyle\":1,\"fLineWidth\":1,\"fFillColor\":0,\"fFillStyle\":1000,\"fMarkerColor\":1,\"fMarkerStyle\":8,\"fMarkerSize\":1,\"fNpoints\":100,\"fX\":[0.05,0.15,0.25,0.35,0.45,0.55,0.65,0.75,0.85,0.95,1.05,1.15,1.25,1.35,1.45,1.55,1.65,1.75,1.85,1.95,2.05,2.15,2.25,2.35,2.45,2.55,2.65,2.75,2.85,2.95,3.05,3.15,3.25,3.35,3.45,3.55,3.65,3.75,3.85,3.95,4.05,4.15,4.25,4.35,4.45,4.55,4.65,4.75,4.85,4.95,5.05,5.15,5.25,5.35,5.45,5.55,5.65,5.75,5.85,5.95,6.05,6.15,6.25,6.35,6.45,6.55,6.65,6.75,6.85,6.95,7.05,7.15,7.25,7.35,7.45,7.55,7.65,7.75,7.85,7.95,8.05,8.15,8.25,8.35,8.45,8.55,8.65,8.75,8.85,8.95,9.05,9.15,9.25,9.35,9.45,9.55,9.65,9.75,9.85,9.95],\"fY\":[3,6,5,4,2,3,3,5,7,2,3,3,2,4,3,2,4,10,3,6,4,1,6,4,2,1,7,5,2,3,4,4,7,5,4,2,4,9,9,6,19,8,18,16,22,24,45,40,46,29,43,35,37,28,33,29,20,23,16,8,12,11,6,9,8,6,9,4,7,3,9,6,8,6,3,9,7,9,7,4,6,6,6,10,6,5,5,4,7,4,7,13,12,9,5,10,3,10,11,10],\"fFunctions\":{\"_typename\":\"TList\",\"name\":\"TList\",\"arr\":[],\"opt\":[]},\"fHistogram\":{\"_typename\":\"TH1F\",\"fUniqueID\":0,\"fBits\":50332168,\"fName\":\"h_modelData\",\"fTitle\":\"Histogram of modelData_plot__x\",\"fLineColor\":602,\"fLineStyle\":1,\"fLineWidth\":1,\"fFillColor\":0,\"fFillStyle\":1001,\"fMarkerColor\":1,\"fMarkerStyle\":1,\"fMarkerSize\":1,\"fNcells\":102,\"fXaxis\":{\"_typename\":\"TAxis\",\"fUniqueID\":0,\"fBits\":50331648,\"fName\":\"xaxis\",\"fTitle\":\"\",\"fNdivisions\":510,\"fAxisColor\":1,\"fLabelColor\":1,\"fLabelFont\":42,\"fLabelOffset\":0.005,\"fLabelSize\":0.035,\"fTickLength\":0.03,\"fTitleOffset\":1,\"fTitleSize\":0.035,\"fTitleColor\":1,\"fTitleFont\":42,\"fNbins\":100,\"fXmin\":0,\"fXmax\":11,\"fXbins\":[],\"fFirst\":0,\"fLast\":0,\"fBits2\":0,\"fTimeDisplay\":false,\"fTimeFormat\":\"\",\"fLabels\":null,\"fModLabs\":null},\"fYaxis\":{\"_typename\":\"TAxis\",\"fUniqueID\":0,\"fBits\":50331648,\"fName\":\"yaxis\",\"fTitle\":\"\",\"fNdivisions\":510,\"fAxisColor\":1,\"fLabelColor\":1,\"fLabelFont\":42,\"fLabelOffset\":0.005,\"fLabelSize\":0.035,\"fTickLength\":0.03,\"fTitleOffset\":0,\"fTitleSize\":0.035,\"fTitleColor\":1,\"fTitleFont\":42,\"fNbins\":1,\"fXmin\":0.155478401121105,\"fXmax\":59.197362427621,\"fXbins\":[],\"fFirst\":0,\"fLast\":0,\"fBits2\":0,\"fTimeDisplay\":false,\"fTimeFormat\":\"\",\"fLabels\":null,\"fModLabs\":null},\"fZaxis\":{\"_typename\":\"TAxis\",\"fUniqueID\":0,\"fBits\":50331648,\"fName\":\"zaxis\",\"fTitle\":\"\",\"fNdivisions\":510,\"fAxisColor\":1,\"fLabelColor\":1,\"fLabelFont\":42,\"fLabelOffset\":0.005,\"fLabelSize\":0.035,\"fTickLength\":0.03,\"fTitleOffset\":1,\"fTitleSize\":0.035,\"fTitleColor\":1,\"fTitleFont\":42,\"fNbins\":1,\"fXmin\":0,\"fXmax\":1,\"fXbins\":[],\"fFirst\":0,\"fLast\":0,\"fBits2\":0,\"fTimeDisplay\":false,\"fTimeFormat\":\"\",\"fLabels\":null,\"fModLabs\":null},\"fBarOffset\":0,\"fBarWidth\":1000,\"fEntries\":0,\"fTsumw\":0,\"fTsumw2\":0,\"fTsumwx\":0,\"fTsumwx2\":0,\"fMaximum\":59.197362427621,\"fMinimum\":0.155478401121105,\"fNormFactor\":0,\"fContour\":[],\"fSumw2\":[],\"fOption\":\"\",\"fFunctions\":{\"_typename\":\"TList\",\"name\":\"TList\",\"arr\":[],\"opt\":[]},\"fBufferSize\":0,\"fBuffer\":[],\"fBinStatErrOpt\":0,\"fStatOverflows\":2,\"fArray\":[0,0,0,0,0,0,0,0,0,0,0,0,0,0,0,0,0,0,0,0,0,0,0,0,0,0,0,0,0,0,0,0,0,0,0,0,0,0,0,0,0,0,0,0,0,0,0,0,0,0,0,0,0,0,0,0,0,0,0,0,0,0,0,0,0,0,0,0,0,0,0,0,0,0,0,0,0,0,0,0,0,0,0,0,0,0,0,0,0,0,0,0,0,0,0,0,0,0,0,0,0,0]},\"fMinimum\":-1111,\"fMaximum\":-1111,\"fEXlow\":[0.05,0.05,0.05,0.05,0.05,0.05,0.05,0.05,0.05,0.05,0.05,0.05,0.05,0.05,0.05,0.05,0.05,0.05,0.05,0.05,0.05,0.05,0.05,0.05,0.05,0.05,0.05,0.05,0.05,0.05,0.05,0.05,0.05,0.05,0.05,0.05,0.05,0.05,0.05,0.05,0.05,0.05,0.05,0.05,0.05,0.05,0.05,0.05,0.05,0.05,0.05,0.05,0.05,0.05,0.05,0.05,0.05,0.05,0.05,0.05,0.05,0.05,0.05,0.05,0.05,0.05,0.05,0.05,0.05,0.05,0.05,0.05,0.05,0.05,0.05,0.05,0.05,0.05,0.05,0.05,0.05,0.05,0.05,0.05,0.05,0.05,0.05,0.05,0.05,0.05,0.05,0.05,0.05,0.05,0.05,0.05,0.05,0.05,0.05,0.05],\"fEXhigh\":[0.05,0.05,0.05,0.05,0.05,0.05,0.05,0.05,0.05,0.05,0.05,0.05,0.05,0.05,0.05,0.05,0.05,0.05,0.05,0.05,0.05,0.05,0.05,0.05,0.05,0.05,0.05,0.05,0.05,0.05,0.05,0.05,0.05,0.05,0.05,0.05,0.05,0.05,0.05,0.05,0.05,0.05,0.05,0.05,0.05,0.05,0.05,0.05,0.05,0.05,0.05,0.05,0.05,0.05,0.05,0.05,0.05,0.05,0.05,0.05,0.05,0.05,0.05,0.05,0.05,0.05,0.05,0.05,0.05,0.05,0.05,0.05,0.05,0.05,0.05,0.05,0.05,0.05,0.05,0.05,0.05,0.05,0.05,0.05,0.05,0.05,0.05,0.05,0.05,0.05,0.05,0.05,0.05,0.05,0.05,0.05,0.05,0.05,0.05,0.05],\"fEYlow\":[1.63270468610957,2.37993137929577,2.15969114440678,1.91433918622288,1.29181456018103,1.63270468610957,1.63270468610957,2.15969114440678,2.58147045606626,1.29181456018103,1.63270468610957,1.63270468610957,1.29181456018103,1.91433918622288,1.63270468610957,1.29181456018103,1.91433918622288,3.10869443936164,1.63270468610957,2.37993137929577,1.91433918622288,0.82724622097655,2.37993137929577,1.91433918622288,1.29181456018103,0.82724622097655,2.58147045606626,2.15969114440678,1.29181456018103,1.63270468610957,1.91433918622288,1.91433918622288,2.58147045606626,2.15969114440678,1.91433918622288,1.29181456018103,1.91433918622288,2.94346103725076,2.94346103725076,2.37993137929577,4.32021937465496,2.76838605646272,4.20288721196007,3.95780102940381,4.65450239544497,4.86461220384528,6.68317934450653,6.29800017766426,6.75758099479102,5.35393156485154,6.53183400521367,5.88767477058538,6.05514266189532,5.25971089793461,5.71530168178358,5.35393156485154,4.43444798221412,4.76071662107231,3.95780102940381,2.76838605646272,3.41526599430015,3.26557940095131,2.37993137929577,2.94346103725076,2.76838605646272,2.37993137929577,2.94346103725076,1.91433918622288,2.58147045606626,1.63270468610957,2.94346103725076,2.37993137929577,2.76838605646272,2.37993137929577,1.63270468610957,2.94346103725076,2.58147045606626,2.94346103725076,2.58147045606626,1.91433918622288,2.37993137929577,2.37993137929577,2.37993137929577,3.10869443936164,2.37993137929577,2.15969114440678,2.15969114440678,1.91433918622288,2.58147045606626,1.91433918622288,2.58147045606626,3.5586623304375,3.41526599430015,2.94346103725076,2.15969114440678,3.10869443936164,1.63270468610957,3.10869443936164,3.26557940095131,3.10869443936164],\"fEYhigh\":[2.9181858328834,3.58364154598457,3.38247265214689,3.16275317226094,2.63785962345524,2.9181858328834,2.9181858328834,3.38247265214689,3.77028072043409,2.63785962345524,2.9181858328834,2.9181858328834,2.63785962345524,3.16275317226094,2.9181858328834,2.63785962345524,3.16275317226094,4.26694976100939,2.9181858328834,3.58364154598457,3.16275317226094,2.29952655911586,3.58364154598457,3.16275317226094,2.63785962345524,2.29952655911586,3.77028072043409,3.38247265214689,2.63785962345524,2.9181858328834,3.16275317226094,3.16275317226094,3.77028072043409,3.38247265214689,3.16275317226094,2.63785962345524,3.16275317226094,4.11020413766764,4.11020413766764,3.58364154598457,5.4351961614818,3.94514151986907,5.32100732238368,5.08306556401624,5.76136640411342,5.96693206711369,7.75790450041968,7.37726075879658,7.83148891411209,6.44701964227479,7.60827827535264,6.97240965830357,7.13755508118677,6.35444601200602,6.80256676451212,6.44701964227479,5.54651922951146,5.8652346956897,5.08306556401624,3.94514151986907,4.55981905739127,4.41652052316603,3.58364154598457,4.11020413766764,3.94514151986907,3.58364154598457,4.11020413766764,3.16275317226094,3.77028072043409,2.9181858328834,4.11020413766764,3.58364154598457,3.94514151986907,3.58364154598457,2.9181858328834,4.11020413766764,3.77028072043409,4.11020413766764,3.77028072043409,3.16275317226094,3.58364154598457,3.58364154598457,3.58364154598457,4.26694976100939,3.58364154598457,3.38247265214689,3.38247265214689,3.16275317226094,3.77028072043409,3.16275317226094,3.77028072043409,4.69757337260906,4.55981905739127,4.11020413766764,3.38247265214689,4.26694976100939,2.9181858328834,4.26694976100939,4.41652052316603,4.26694976100939],\"_yAxisLabel\":\"Events \\/ ( 0.1 )\",\"_ymin\":0,\"_ymax\":53.8314889141121,\"_normValue\":0,\"_nominalBinWidth\":0.1,\"_nSigma\":1,\"_entries\":1000,\"_rawEntries\":-1},{\"_typename\":\"RooCurve\",\"fUniqueID\":0,\"fBits\":50332680,\"fName\":\"model_Norm[x]\",\"fTitle\":\"Projection of g1+g2+a\",\"fLineColor\":600,\"fLineStyle\":1,\"fLineWidth\":3,\"fFillColor\":0,\"fFillStyle\":1000,\"fMarkerColor\":1,\"fMarkerStyle\":1,\"fMarkerSize\":1,\"fNpoints\":134,\"fX\":[-0.1,-0.1,0,0.1,0.2,0.3,0.4,0.5,0.6,0.7,0.8,0.9,1,1.1,1.2,1.3,1.4,1.5,1.6,1.7,1.8,1.9,2,2.1,2.2,2.3,2.4,2.5,2.6,2.7,2.8,2.9,3,3.1,3.2,3.3,3.4,3.5,3.6,3.7,3.75,3.8,3.85,3.9,3.95,4,4.05,4.1,4.15,4.2,4.25,4.3,4.35,4.4,4.5,4.6,4.65,4.7,4.75,4.8,4.85,4.875,4.9,4.925,4.95,4.975,5,5.025,5.05,5.075,5.1,5.125,5.15,5.2,5.25,5.3,5.35,5.4,5.5,5.6,5.65,5.7,5.75,5.8,5.85,5.9,5.95,6,6.05,6.1,6.15,6.2,6.25,6.3,6.4,6.5,6.6,6.7,6.8,6.9,7,7.1,7.2,7.3,7.4,7.5,7.6,7.7,7.8,7.9,8,8.1,8.2,8.3,8.4,8.5,8.6,8.7,8.8,8.9,9,9.1,9.2,9.3,9.4,9.5,9.6,9.7,9.8,9.9,10,10,10.1,10.1],\"fY\":[0,4.12329854790592,4.12329854790592,4.08411630659454,4.04668667263203,4.01101206624999,3.97709614134354,3.94494434991811,3.91456473118039,3.88596899840276,3.85917401315529,3.83420375347088,3.81109189837808,3.78988516362959,3.77064752914607,3.75346549357541,3.7384544705517,3.72576639933024,3.71559857408755,3.70820359678671,3.70390022587881,3.70308472976945,3.7062421719924,3.71395688580824,3.72692131059182,3.74594251247196,3.77194640502436,3.80598151209646,3.84922812187796,3.90302655362678,3.96895234568783,4.04898905111445,4.14588239854193,4.26380020439681,4.40945950741024,4.59389148797654,4.83495577749631,5.16053867637241,5.61203359539537,6.24720949755144,6.65647791848333,7.14101351709727,7.71235911434046,8.38243244684246,9.16308693870518,10.0655594228871,11.0998128016048,12.2737917851304,13.5926208584445,15.0577846111164,16.6663404429794,18.4102212269157,20.2756895738142,22.2430048524287,26.374120238973,30.5311080891306,32.5149511445569,34.3752321791147,36.0664698154674,37.5452960061578,38.7723426822321,39.2806837212577,39.7140293462462,40.0693450160574,40.3441382300179,40.5364890284186,40.6450736337744,40.6691808242215,40.6087207547787,40.4642260728963,40.2368453088507,39.9283286561103,39.5410063887951,38.5419885814409,37.2687924089933,35.7572517575193,34.0483705630466,32.1864867379224,28.18642227607,24.108614689388,22.1366180321351,20.2505306085401,18.4740132168564,16.8246478309151,15.3141036264557,13.9485524334379,12.7292755602789,11.6534000845287,10.7147039384792,9.90443456041453,9.21209441256611,8.6261570723249,8.13468871314295,7.72586058470578,7.1116175846925,6.70337151300751,6.43775894055703,6.26836047743114,6.16331335504928,6.10190348813938,6.07121157432554,6.0633586435939,6.07350630544897,6.09854180840838,6.13628658914157,6.18505923651411,6.24345528740868,6.31024752094332,6.384346516537,6.46478736959753,6.55072511210374,6.64143097642177,6.73628667463047,6.83477625236595,6.93647605193149,7.04104360038153,7.14820620664645,7.25774989900021,7.36950915150884,7.48335767676937,7.59920041912032,7.71696677248972,7.83660496909413,7.9580775353335,8.08135768421934,8.20642650406436,8.3332708058602,8.46188150240063,8.59225240725554,8.72437935852723,8.85825958908364,8.85825958908364,8.85825958908364,0],\"fFunctions\":{\"_typename\":\"TList\",\"name\":\"TList\",\"arr\":[],\"opt\":[]},\"fHistogram\":{\"_typename\":\"TH1F\",\"fUniqueID\":0,\"fBits\":50332168,\"fName\":\"model_Norm[x]\",\"fTitle\":\"Projection of g1+g2+a\",\"fLineColor\":602,\"fLineStyle\":1,\"fLineWidth\":1,\"fFillColor\":0,\"fFillStyle\":1001,\"fMarkerColor\":1,\"fMarkerStyle\":1,\"fMarkerSize\":1,\"fNcells\":136,\"fXaxis\":{\"_typename\":\"TAxis\",\"fUniqueID\":0,\"fBits\":50331648,\"fName\":\"xaxis\",\"fTitle\":\"\",\"fNdivisions\":510,\"fAxisColor\":1,\"fLabelColor\":1,\"fLabelFont\":42,\"fLabelOffset\":0.005,\"fLabelSize\":0.035,\"fTickLength\":0.03,\"fTitleOffset\":1,\"fTitleSize\":0.035,\"fTitleColor\":1,\"fTitleFont\":42,\"fNbins\":134,\"fXmin\":-1.12,\"fXmax\":11.12,\"fXbins\":[],\"fFirst\":0,\"fLast\":0,\"fBits2\":0,\"fTimeDisplay\":false,\"fTimeFormat\":\"\",\"fLabels\":null,\"fModLabs\":null},\"fYaxis\":{\"_typename\":\"TAxis\",\"fUniqueID\":0,\"fBits\":50331648,\"fName\":\"yaxis\",\"fTitle\":\"\",\"fNdivisions\":510,\"fAxisColor\":1,\"fLabelColor\":1,\"fLabelFont\":42,\"fLabelOffset\":0.005,\"fLabelSize\":0.035,\"fTickLength\":0.03,\"fTitleOffset\":0,\"fTitleSize\":0.035,\"fTitleColor\":1,\"fTitleFont\":42,\"fNbins\":1,\"fXmin\":0,\"fXmax\":44.7360989066437,\"fXbins\":[],\"fFirst\":0,\"fLast\":0,\"fBits2\":0,\"fTimeDisplay\":false,\"fTimeFormat\":\"\",\"fLabels\":null,\"fModLabs\":null},\"fZaxis\":{\"_typename\":\"TAxis\",\"fUniqueID\":0,\"fBits\":50331648,\"fName\":\"zaxis\",\"fTitle\":\"\",\"fNdivisions\":510,\"fAxisColor\":1,\"fLabelColor\":1,\"fLabelFont\":42,\"fLabelOffset\":0.005,\"fLabelSize\":0.035,\"fTickLength\":0.03,\"fTitleOffset\":1,\"fTitleSize\":0.035,\"fTitleColor\":1,\"fTitleFont\":42,\"fNbins\":1,\"fXmin\":0,\"fXmax\":1,\"fXbins\":[],\"fFirst\":0,\"fLast\":0,\"fBits2\":0,\"fTimeDisplay\":false,\"fTimeFormat\":\"\",\"fLabels\":null,\"fModLabs\":null},\"fBarOffset\":0,\"fBarWidth\":1000,\"fEntries\":0,\"fTsumw\":0,\"fTsumw2\":0,\"fTsumwx\":0,\"fTsumwx2\":0,\"fMaximum\":44.7360989066437,\"fMinimum\":0,\"fNormFactor\":0,\"fContour\":[],\"fSumw2\":[],\"fOption\":\"\",\"fFunctions\":{\"_typename\":\"TList\",\"name\":\"TList\",\"arr\":[],\"opt\":[]},\"fBufferSize\":0,\"fBuffer\":[],\"fBinStatErrOpt\":0,\"fStatOverflows\":2,\"fArray\":[0,0,0,0,0,0,0,0,0,0,0,0,0,0,0,0,0,0,0,0,0,0,0,0,0,0,0,0,0,0,0,0,0,0,0,0,0,0,0,0,0,0,0,0,0,0,0,0,0,0,0,0,0,0,0,0,0,0,0,0,0,0,0,0,0,0,0,0,0,0,0,0,0,0,0,0,0,0,0,0,0,0,0,0,0,0,0,0,0,0,0,0,0,0,0,0,0,0,0,0,0,0,0,0,0,0,0,0,0,0,0,0,0,0,0,0,0,0,0,0,0,0,0,0,0,0,0,0,0,0,0,0,0,0,0,0]},\"fMinimum\":-1111,\"fMaximum\":-1111,\"_yAxisLabel\":\"Projection of g1+g2+a\",\"_ymin\":0,\"_ymax\":40.6691808242215,\"_normValue\":0},{\"_typename\":\"RooCurve\",\"fUniqueID\":0,\"fBits\":50332680,\"fName\":\"model_Norm[x]_Comp[bkg]\",\"fTitle\":\"Projection of g1+g2+a\",\"fLineColor\":600,\"fLineStyle\":2,\"fLineWidth\":3,\"fFillColor\":0,\"fFillStyle\":1000,\"fMarkerColor\":1,\"fMarkerStyle\":1,\"fMarkerSize\":1,\"fNpoints\":106,\"fX\":[-0.1,-0.1,0,0.1,0.2,0.3,0.4,0.5,0.6,0.7,0.8,0.9,1,1.1,1.2,1.3,1.4,1.5,1.6,1.7,1.8,1.9,2,2.1,2.2,2.3,2.4,2.5,2.6,2.7,2.8,2.9,3,3.1,3.2,3.3,3.4,3.5,3.6,3.7,3.8,3.9,4,4.1,4.2,4.3,4.4,4.5,4.6,4.7,4.8,4.9,5,5.1,5.2,5.3,5.4,5.5,5.6,5.7,5.8,5.9,6,6.1,6.2,6.3,6.4,6.5,6.6,6.7,6.8,6.9,7,7.1,7.2,7.3,7.4,7.5,7.6,7.7,7.8,7.9,8,8.1,8.2,8.3,8.4,8.5,8.6,8.7,8.8,8.9,9,9.1,9.2,9.3,9.4,9.5,9.6,9.7,9.8,9.9,10,10,10.1,10.1],\"fY\":[0,4.12328731734648,4.12328731734648,4.08409785318862,4.04665665276705,4.01096371608177,3.97701904313279,3.94482263392011,3.91437448844372,3.88567460670363,3.85872298869983,3.83351963443233,3.81006454390112,3.78835771710621,3.7683991540476,3.75018885472528,3.73372681913926,3.71901304728953,3.70604753917609,3.69483029479896,3.68536131415812,3.67764059725357,3.67166814408532,3.66744395465337,3.66496802895771,3.66424036699834,3.66526096877528,3.6680298342885,3.67254696353803,3.67881235652385,3.68682601324596,3.69658793370437,3.70809811789908,3.72135656583008,3.73636327749738,3.75311825290097,3.77162149204086,3.79187299491704,3.81387276152952,3.83762079187829,3.86311708596336,3.89036164378473,3.91935446534239,3.95009555063635,3.9825848996666,4.01682251243315,4.05280838893599,4.09054252917513,4.13002493315057,4.1712556008623,4.21423453231033,4.25896172749465,4.30543718641526,4.35366090907218,4.40363289546539,4.45535314559489,4.50882165946069,4.56403843706279,4.62100347840118,4.67971678347586,4.74017835228684,4.80238818483412,4.86634628111769,4.93205264113756,4.99950726489373,5.06871015238619,5.13966130361494,5.21236071857999,5.28680839728134,5.36300433971898,5.44094854589292,5.52064101580315,5.60208174944968,5.68527074683251,5.77020800795163,5.85689353280704,5.94532732139875,6.03550937372676,6.12743968979106,6.22111826959166,6.31654511312856,6.41372022040174,6.51264359141123,6.61331522615701,6.71573512463909,6.81990328685746,6.92581971281212,7.03348440250308,7.14289735593034,7.2540585730939,7.36696805399375,7.48162579862989,7.59803180700233,7.71618607911107,7.8360886149561,7.95773941453743,8.08113847785505,8.20628580490897,8.33318139569918,8.46182525022569,8.5922173684885,8.7243577504876,8.85824639622299,8.85824639622299,8.85824639622299,0],\"fFunctions\":{\"_typename\":\"TList\",\"name\":\"TList\",\"arr\":[],\"opt\":[]},\"fHistogram\":{\"_typename\":\"TH1F\",\"fUniqueID\":0,\"fBits\":50332168,\"fName\":\"model_Norm[x]_Comp[bkg]\",\"fTitle\":\"Projection of g1+g2+a\",\"fLineColor\":602,\"fLineStyle\":1,\"fLineWidth\":1,\"fFillColor\":0,\"fFillStyle\":1001,\"fMarkerColor\":1,\"fMarkerStyle\":1,\"fMarkerSize\":1,\"fNcells\":108,\"fXaxis\":{\"_typename\":\"TAxis\",\"fUniqueID\":0,\"fBits\":50331648,\"fName\":\"xaxis\",\"fTitle\":\"\",\"fNdivisions\":510,\"fAxisColor\":1,\"fLabelColor\":1,\"fLabelFont\":42,\"fLabelOffset\":0.005,\"fLabelSize\":0.035,\"fTickLength\":0.03,\"fTitleOffset\":1,\"fTitleSize\":0.035,\"fTitleColor\":1,\"fTitleFont\":42,\"fNbins\":106,\"fXmin\":-1.12,\"fXmax\":11.12,\"fXbins\":[],\"fFirst\":0,\"fLast\":0,\"fBits2\":0,\"fTimeDisplay\":false,\"fTimeFormat\":\"\",\"fLabels\":null,\"fModLabs\":null},\"fYaxis\":{\"_typename\":\"TAxis\",\"fUniqueID\":0,\"fBits\":50331648,\"fName\":\"yaxis\",\"fTitle\":\"\",\"fNdivisions\":510,\"fAxisColor\":1,\"fLabelColor\":1,\"fLabelFont\":42,\"fLabelOffset\":0.005,\"fLabelSize\":0.035,\"fTickLength\":0.03,\"fTitleOffset\":0,\"fTitleSize\":0.035,\"fTitleColor\":1,\"fTitleFont\":42,\"fNbins\":1,\"fXmin\":0,\"fXmax\":9.74407103584529,\"fXbins\":[],\"fFirst\":0,\"fLast\":0,\"fBits2\":0,\"fTimeDisplay\":false,\"fTimeFormat\":\"\",\"fLabels\":null,\"fModLabs\":null},\"fZaxis\":{\"_typename\":\"TAxis\",\"fUniqueID\":0,\"fBits\":50331648,\"fName\":\"zaxis\",\"fTitle\":\"\",\"fNdivisions\":510,\"fAxisColor\":1,\"fLabelColor\":1,\"fLabelFont\":42,\"fLabelOffset\":0.005,\"fLabelSize\":0.035,\"fTickLength\":0.03,\"fTitleOffset\":1,\"fTitleSize\":0.035,\"fTitleColor\":1,\"fTitleFont\":42,\"fNbins\":1,\"fXmin\":0,\"fXmax\":1,\"fXbins\":[],\"fFirst\":0,\"fLast\":0,\"fBits2\":0,\"fTimeDisplay\":false,\"fTimeFormat\":\"\",\"fLabels\":null,\"fModLabs\":null},\"fBarOffset\":0,\"fBarWidth\":1000,\"fEntries\":0,\"fTsumw\":0,\"fTsumw2\":0,\"fTsumwx\":0,\"fTsumwx2\":0,\"fMaximum\":9.74407103584529,\"fMinimum\":0,\"fNormFactor\":0,\"fContour\":[],\"fSumw2\":[],\"fOption\":\"\",\"fFunctions\":{\"_typename\":\"TList\",\"name\":\"TList\",\"arr\":[],\"opt\":[]},\"fBufferSize\":0,\"fBuffer\":[],\"fBinStatErrOpt\":0,\"fStatOverflows\":2,\"fArray\":[0,0,0,0,0,0,0,0,0,0,0,0,0,0,0,0,0,0,0,0,0,0,0,0,0,0,0,0,0,0,0,0,0,0,0,0,0,0,0,0,0,0,0,0,0,0,0,0,0,0,0,0,0,0,0,0,0,0,0,0,0,0,0,0,0,0,0,0,0,0,0,0,0,0,0,0,0,0,0,0,0,0,0,0,0,0,0,0,0,0,0,0,0,0,0,0,0,0,0,0,0,0,0,0,0,0,0,0]},\"fMinimum\":-1111,\"fMaximum\":-1111,\"_yAxisLabel\":\"Projection of g1+g2+a\",\"_ymin\":0,\"_ymax\":8.85824639622299,\"_normValue\":0},{\"$ref\":3},{\"_typename\":\"TPaveText\",\"fUniqueID\":0,\"fBits\":50331657,\"fLineColor\":1,\"fLineStyle\":1,\"fLineWidth\":1,\"fFillColor\":0,\"fFillStyle\":0,\"fX1\":2.00536907788624,\"fY1\":59.3492172700496,\"fX2\":7.32796419584244,\"fY2\":63.2351779918477,\"fX1NDC\":0.300402684563758,\"fY1NDC\":0.940000003948808,\"fX2NDC\":0.699597315436242,\"fY2NDC\":0.995000004768372,\"fBorderSize\":0,\"fInit\":1,\"fShadowColor\":1,\"fCornerRadius\":0,\"fOption\":\"blNDC\",\"fName\":\"title\",\"fTextAngle\":0,\"fTextSize\":0,\"fTextAlign\":22,\"fTextColor\":1,\"fTextFont\":42,\"fLabel\":\"\",\"fLongest\":16,\"fMargin\":0.05,\"fLines\":{\"_typename\":\"TList\",\"name\":\"TList\",\"arr\":[{\"_typename\":\"TLatex\",\"fUniqueID\":0,\"fBits\":50331648,\"fName\":\"\",\"fTitle\":\"A RooPlot of \\\"x\\\"\",\"fTextAngle\":0,\"fTextSize\":0,\"fTextAlign\":0,\"fTextColor\":0,\"fTextFont\":0,\"fX\":0,\"fY\":0,\"fLineColor\":1,\"fLineStyle\":1,\"fLineWidth\":2,\"fLimitFactorSize\":3,\"fOriginSize\":0.0467500016093254}],\"opt\":[\"\"]}}],\"opt\":[\"\",\"FUNC\",\"p\",\"l\",\"l\",\"AXISSAME\",\"blNDC\"]},\"fExecs\":null,\"fName\":\"rf509_wsinteractive\",\"fTitle\":\"rf509_wsinteractive\",\"fNumPaletteColor\":0,\"fNextPaletteColor\":0,\"fDISPLAY\":\"$DISPLAY\",\"fDoubleBuffer\":0,\"fRetained\":true,\"fXsizeUser\":0,\"fYsizeUser\":0,\"fXsizeReal\":20,\"fYsizeReal\":20,\"fWindowTopX\":0,\"fWindowTopY\":0,\"fWindowWidth\":0,\"fWindowHeight\":0,\"fCw\":596,\"fCh\":572,\"fCatt\":{\"_typename\":\"TAttCanvas\",\"fXBetween\":2,\"fYBetween\":2,\"fTitleFromTop\":1.2,\"fXdate\":0.2,\"fYdate\":0.3,\"fAdate\":1},\"kMoveOpaque\":true,\"kResizeOpaque\":true,\"fHighLightColor\":2,\"fBatch\":true,\"kShowEventStatus\":false,\"kAutoExec\":true,\"kMenuBar\":true});\n",
       "       Core.draw(\"root_plot_1\", obj, \"\");\n",
       "     }\n",
       " );\n",
       "</script>\n"
      ],
      "text/plain": [
       "<IPython.core.display.HTML object>"
      ]
     },
     "metadata": {},
     "output_type": "display_data"
    }
   ],
   "source": [
    "%jsroot on\n",
    "gROOT->GetListOfCanvases()->Draw()"
   ]
  }
 ],
 "metadata": {
  "kernelspec": {
   "display_name": "ROOT C++",
   "language": "c++",
   "name": "root"
  },
  "language_info": {
   "codemirror_mode": "text/x-c++src",
   "file_extension": ".C",
   "mimetype": " text/x-c++src",
   "name": "c++"
  }
 },
 "nbformat": 4,
 "nbformat_minor": 2
}
