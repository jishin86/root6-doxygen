{
 "cells": [
  {
   "cell_type": "markdown",
   "metadata": {},
   "source": [
    "# Rf 9 0 2_Numgenconfig\n",
    "Numeric algorithm tuning: configuration and customization of how MC sampling algorithms on specific p.d.f.s are\n",
    "executed\n",
    "\n",
    "\n",
    "\n",
    "**Author:** 07/2008 - Wouter Verkerke  \n",
    "<i><small>This notebook tutorial was automatically generated with <a href= \"https://github.com/root-project/root/blob/master/documentation/doxygen/converttonotebook.py\">ROOTBOOK-izer</a> from the macro found in the ROOT repository  on Thursday, August 29, 2019 at 03:05 AM.</small></i>"
   ]
  },
  {
   "cell_type": "code",
   "execution_count": 1,
   "metadata": {
    "collapsed": false
   },
   "outputs": [],
   "source": [
    "%%cpp -d\n",
    "#include \"RooRealVar.h\"\n",
    "#include \"RooDataSet.h\"\n",
    "#include \"RooConstVar.h\"\n",
    "#include \"RooChebychev.h\"\n",
    "#include \"TCanvas.h\"\n",
    "#include \"TAxis.h\"\n",
    "#include \"RooPlot.h\"\n",
    "#include \"RooNumGenConfig.h\"\n",
    "#include \"RooArgSet.h\"\n",
    "#include <iomanip>"
   ]
  },
  {
   "cell_type": "code",
   "execution_count": 2,
   "metadata": {
    "collapsed": false
   },
   "outputs": [],
   "source": [
    "%%cpp -d\n",
    "// This is a workaround to make sure the namespace is used inside functions\n",
    "using namespace RooFit;"
   ]
  },
  {
   "cell_type": "markdown",
   "metadata": {},
   "source": [
    "Adjust global mc sampling strategy\n",
    " ------------------------------------------------------------------"
   ]
  },
  {
   "cell_type": "markdown",
   "metadata": {},
   "source": [
    "Example p.d.f. for use below"
   ]
  },
  {
   "cell_type": "code",
   "execution_count": 3,
   "metadata": {
    "collapsed": false
   },
   "outputs": [
    {
     "name": "stdout",
     "output_type": "stream",
     "text": [
      "\n",
      "\u001b[1mRooFit v3.60 -- Developed by Wouter Verkerke and David Kirkby\u001b[0m \n",
      "                Copyright (C) 2000-2013 NIKHEF, University of California & Stanford University\n",
      "                All rights reserved, please read http://roofit.sourceforge.net/license.txt\n",
      "\n"
     ]
    }
   ],
   "source": [
    "RooRealVar x(\"x\", \"x\", 0, 10);\n",
    "RooChebychev model(\"model\", \"model\", x, RooArgList(RooConst(0), RooConst(0.5), RooConst(-0.1)));"
   ]
  },
  {
   "cell_type": "markdown",
   "metadata": {},
   "source": [
    "Change global strategy for 1d sampling problems without conditional observable\n",
    " (1st kFALSE) and without discrete observable (2nd kFALSE) from RooFoamGenerator,\n",
    " ( an interface to the TFoam MC generator with adaptive subdivisioning strategy ) to RooAcceptReject,\n",
    " a plain accept/reject sampling algorithm [ RooFit default before ROOT 5.23/04 ]"
   ]
  },
  {
   "cell_type": "code",
   "execution_count": 4,
   "metadata": {
    "collapsed": false
   },
   "outputs": [],
   "source": [
    "RooAbsPdf::defaultGeneratorConfig()->method1D(kFALSE, kFALSE).setLabel(\"RooAcceptReject\");"
   ]
  },
  {
   "cell_type": "markdown",
   "metadata": {},
   "source": [
    "Generate 10kevt using rooacceptreject"
   ]
  },
  {
   "cell_type": "code",
   "execution_count": 5,
   "metadata": {
    "collapsed": false
   },
   "outputs": [
    {
     "name": "stdout",
     "output_type": "stream",
     "text": [
      " --- RooGenContext --- \n",
      "Using PDF RooChebychev::model[ x=x coefList=(0,0.5,-0.1) ]\n",
      "Use PDF generator for ()\n",
      "Use MC sampling generator RooAcceptReject for (x)\n",
      "RooDataSet::modelData[x] = 10000 entries\n"
     ]
    },
    {
     "name": "stderr",
     "output_type": "stream",
     "text": [
      "RooAcceptReject: generated 10000 events so far.\n",
      "RooAcceptReject: generated 20000 events so far.\n",
      "RooAcceptReject: accepted event (used 1000 of 20184 so far)\n",
      "RooAcceptReject: accepted event (used 2000 of 20184 so far)\n",
      "RooAcceptReject: accepted event (used 7000 of 20184 so far)\n",
      "RooAcceptReject: accepted event (used 8000 of 20184 so far)\n",
      "RooAcceptReject: accepted event (used 9000 of 20184 so far)\n",
      "RooAcceptReject: accepted event (used 12000 of 20184 so far)\n",
      "RooAcceptReject: accepted event (used 13000 of 20184 so far)\n",
      "RooAcceptReject: accepted event (used 14000 of 20184 so far)\n",
      "RooAcceptReject: accepted event (used 16000 of 20184 so far)\n",
      "RooAcceptReject: accepted event (used 17000 of 20184 so far)\n",
      "RooAcceptReject: accepted event (used 18000 of 20184 so far)\n",
      "RooAcceptReject: accepted event (used 19000 of 20184 so far)\n"
     ]
    }
   ],
   "source": [
    "RooDataSet *data_ar = model.generate(x, 10000, Verbose(kTRUE));\n",
    "data_ar->Print();"
   ]
  },
  {
   "cell_type": "markdown",
   "metadata": {},
   "source": [
    "Adjusting default config for a specific pdf\n",
    " -------------------------------------------------------------------------------------"
   ]
  },
  {
   "cell_type": "markdown",
   "metadata": {},
   "source": [
    "Another possibility: associate custom mc sampling configuration as default for object 'model'\n",
    " The kTRUE argument will install a clone of the default configuration as specialized configuration\n",
    " for this model if none existed so far"
   ]
  },
  {
   "cell_type": "code",
   "execution_count": 6,
   "metadata": {
    "collapsed": false
   },
   "outputs": [],
   "source": [
    "model.specialGeneratorConfig(kTRUE)->method1D(kFALSE, kFALSE).setLabel(\"RooFoamGenerator\");"
   ]
  },
  {
   "cell_type": "markdown",
   "metadata": {},
   "source": [
    "Adjusting parameters of a specific technique\n",
    " ---------------------------------------------------------------------------------------"
   ]
  },
  {
   "cell_type": "markdown",
   "metadata": {},
   "source": [
    "Adjust maximum number of steps of roointegrator1d in the global default configuration"
   ]
  },
  {
   "cell_type": "code",
   "execution_count": 7,
   "metadata": {
    "collapsed": false
   },
   "outputs": [],
   "source": [
    "RooAbsPdf::defaultGeneratorConfig()->getConfigSection(\"RooAcceptReject\").setRealValue(\"nTrial1D\", 2000);"
   ]
  },
  {
   "cell_type": "markdown",
   "metadata": {},
   "source": [
    "Example of how to change the parameters of a numeric integrator\n",
    " (Each config section is a RooArgSet with RooRealVars holding real-valued parameters\n",
    "  and RooCategories holding parameters with a finite set of options)"
   ]
  },
  {
   "cell_type": "code",
   "execution_count": 8,
   "metadata": {
    "collapsed": false
   },
   "outputs": [],
   "source": [
    "model.specialGeneratorConfig()->getConfigSection(\"RooFoamGenerator\").setRealValue(\"chatLevel\", 1);"
   ]
  },
  {
   "cell_type": "markdown",
   "metadata": {},
   "source": [
    "Generate 10kevt using roofoamgenerator (foam verbosity increased with above chatlevel adjustment for illustration\n",
    " purposes)"
   ]
  },
  {
   "cell_type": "code",
   "execution_count": 9,
   "metadata": {
    "collapsed": false
   },
   "outputs": [
    {
     "name": "stdout",
     "output_type": "stream",
     "text": [
      "FFFFFFFFFFFFFFFFFFFFFFFFFFFFFFFFFFFFFFFFFFFFFFFFFFFFFFFFFFFFFFFFFFFFFFFFFFFFFFFF\n",
      "F                                                                              F\n",
      "F                   ****************************************                   F\n",
      "F                    ******      TFoam::Initialize    ******                   F\n",
      "F                   ****************************************                   F\n",
      "F                                                      TFOAM                   F\n",
      "F    Version =           1.02M   =                   Release date:  2005.04.10 F\n",
      "F       kDim =          1 =  Dimension of the hyper-cubical space              F\n",
      "F     nCells =         30 =  Requested number of Cells (half of them active)   F\n",
      "F     nSampl =        200 =  No of MC events in exploration of a cell          F\n",
      "F       nBin =          8 =  No of bins in histograms, MC exploration of cell  F\n",
      "F   EvPerBin =         25 =  Maximum No effective_events/bin, MC exploration   F\n",
      "F   OptDrive =          2 =  Type of Driver   =1,2 for Sigma,WtMax             F\n",
      "F     OptRej =          1 =  MC rejection on/off for OptRej=0,1                F\n",
      "F   MaxWtRej =             1.1   =       Maximum wt in rejection for wt=1 evts F\n",
      "F                                                                              F\n",
      "FFFFFFFFFFFFFFFFFFFFFFFFFFFFFFFFFFFFFFFFFFFFFFFFFFFFFFFFFFFFFFFFFFFFFFFFFFFFFFFF\n",
      "11\n",
      "FFFFFFFFFFFFFFFFFFFFFFFFFFFFFFFFFFFFFFFFFFFFFFFFFFFFFFFFFFFFFFFFFFFFFFFFFFFFFFFF\n",
      "F                                                                              F\n",
      "F                    ***  TFoam::Initialize FINISHED!!!  ***                   F\n",
      "F     nCalls =       5800 =            Total number of function calls          F\n",
      "F     XPrime =       0.1100962   =     Primary total integral                  F\n",
      "F     XDiver =     0.010134446   =     Driver  total integral                  F\n",
      "F   mcResult =     0.099961756   =     Estimate of the true MC Integral        F\n",
      "F                                                                              F\n",
      "FFFFFFFFFFFFFFFFFFFFFFFFFFFFFFFFFFFFFFFFFFFFFFFFFFFFFFFFFFFFFFFFFFFFFFFFFFFFFFFF\n",
      " --- RooGenContext --- \n",
      "Using PDF RooChebychev::model[ x=x coefList=(0,0.5,-0.1) ]\n",
      "Use PDF generator for ()\n",
      "Use MC sampling generator RooFoamGenerator for (x)\n",
      "RooDataSet::modelData[x] = 10000 entries\n"
     ]
    }
   ],
   "source": [
    "RooDataSet *data_foam = model.generate(x, 10000, Verbose());\n",
    "data_foam->Print();"
   ]
  }
 ],
 "metadata": {
  "kernelspec": {
   "display_name": "ROOT C++",
   "language": "c++",
   "name": "root"
  },
  "language_info": {
   "codemirror_mode": "text/x-c++src",
   "file_extension": ".C",
   "mimetype": " text/x-c++src",
   "name": "c++"
  }
 },
 "nbformat": 4,
 "nbformat_minor": 2
}
