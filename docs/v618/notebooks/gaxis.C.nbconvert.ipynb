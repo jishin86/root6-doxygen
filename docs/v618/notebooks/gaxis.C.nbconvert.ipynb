{
 "cells": [
  {
   "cell_type": "markdown",
   "metadata": {},
   "source": [
    "# Gaxis\n",
    "Simple example illustrating how to draw TGaxis objects in various formats.\n",
    "\n",
    "\n",
    "\n",
    "\n",
    "**Author:** Rene Brun  \n",
    "<i><small>This notebook tutorial was automatically generated with <a href= \"https://github.com/root-project/root/blob/master/documentation/doxygen/converttonotebook.py\">ROOTBOOK-izer</a> from the macro found in the ROOT repository  on Thursday, August 29, 2019 at 01:40 AM.</small></i>"
   ]
  },
  {
   "cell_type": "code",
   "execution_count": 1,
   "metadata": {
    "collapsed": false
   },
   "outputs": [],
   "source": [
    "TCanvas *c1 = new TCanvas(\"c1\",\"Examples of TGaxis\",10,10,700,500);\n",
    "\n",
    "c1->Range(-10,-1,10,1);\n",
    "\n",
    "TGaxis *axis1 = new TGaxis(-4.5,-0.2,5.5,-0.2,-6,8,510,\"\");\n",
    "axis1->SetName(\"axis1\");\n",
    "axis1->Draw();\n",
    "\n",
    "TGaxis *axis2 = new TGaxis(-4.5,0.2,5.5,0.2,0.001,10000,510,\"G\");\n",
    "axis2->SetName(\"axis2\");\n",
    "axis2->Draw();\n",
    "\n",
    "TGaxis *axis3 = new TGaxis(-9,-0.8,-9,0.8,-8,8,50510,\"\");\n",
    "axis3->SetName(\"axis3\");\n",
    "axis3->SetTitle(\"axis3\");\n",
    "axis3->SetTitleOffset(0.5);\n",
    "axis3->Draw();\n",
    "\n",
    "TGaxis *axis4 = new TGaxis(-7,-0.8,-7,0.8,1,10000,50510,\"G\");\n",
    "axis4->SetName(\"axis4\");\n",
    "axis4->SetTitle(\"axis4\");\n",
    "axis4->Draw();\n",
    "\n",
    "TGaxis *axis5 = new TGaxis(-4.5,-0.6,5.5,-0.6,1.2,1.32,80506,\"-+\");\n",
    "axis5->SetName(\"axis5\");\n",
    "axis5->SetLabelSize(0.03);\n",
    "axis5->SetTextFont(72);\n",
    "\n",
    "axis5->Draw();\n",
    "\n",
    "TGaxis *axis6 = new TGaxis(-4.5,0.5,5.5,0.5,100,900,50510,\"-\");\n",
    "axis6->SetName(\"axis6\");\n",
    "axis6->Draw();\n",
    "TGaxis *axis6a = new TGaxis(-5.5,0.85,5.5,0.85,0,4.3e-6,510,\"\");\n",
    "axis6a->SetName(\"axis6a\");\n",
    "axis6a->Draw();\n",
    "\n",
    "TGaxis *axis7 = new TGaxis(8,-0.8,8,0.8,0,9000,50510,\"+L\");\n",
    "axis7->SetName(\"axis7\");\n",
    "axis7->Draw();"
   ]
  },
  {
   "cell_type": "markdown",
   "metadata": {},
   "source": [
    "One can make axis going top->bottom. however because of a long standing\n",
    "problem, the two x values should not be equal"
   ]
  },
  {
   "cell_type": "code",
   "execution_count": 2,
   "metadata": {
    "collapsed": false
   },
   "outputs": [],
   "source": [
    "TGaxis *axis8 = new TGaxis(6.5,0.8,6.499,-0.8,0,90,50510,\"-\");\n",
    "axis8->SetName(\"axis8\");\n",
    "axis8->Draw();"
   ]
  },
  {
   "cell_type": "markdown",
   "metadata": {},
   "source": [
    "Draw all canvases "
   ]
  },
  {
   "cell_type": "code",
   "execution_count": 3,
   "metadata": {
    "collapsed": false
   },
   "outputs": [
    {
     "data": {
      "image/png": "[encoded data removed]",
      "text/plain": [
       "<IPython.core.display.Image object>"
      ]
     },
     "metadata": {},
     "output_type": "display_data"
    }
   ],
   "source": [
    "gROOT->GetListOfCanvases()->Draw()"
   ]
  }
 ],
 "metadata": {
  "kernelspec": {
   "display_name": "ROOT C++",
   "language": "c++",
   "name": "root"
  },
  "language_info": {
   "codemirror_mode": "text/x-c++src",
   "file_extension": ".C",
   "mimetype": " text/x-c++src",
   "name": "c++"
  }
 },
 "nbformat": 4,
 "nbformat_minor": 2
}
