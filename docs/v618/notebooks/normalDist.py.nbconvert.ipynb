{
 "cells": [
  {
   "cell_type": "markdown",
   "metadata": {},
   "source": [
    "# Normal Dist\n",
    "Tutorial illustrating the new statistical distributions functions (pdf, cdf and quantile)\n",
    "\n",
    "based on Anna Kreshuk's normalDist.C\n",
    "\n",
    "\n",
    "\n",
    "\n",
    "**Author:** Juan Fernando Jaramillo Botero  \n",
    "<i><small>This notebook tutorial was automatically generated with <a href= \"https://github.com/root-project/root/blob/master/documentation/doxygen/converttonotebook.py\">ROOTBOOK-izer</a> from the macro found in the ROOT repository  on Thursday, August 29, 2019 at 02:11 AM.</small></i>"
   ]
  },
  {
   "cell_type": "code",
   "execution_count": 1,
   "metadata": {
    "collapsed": false
   },
   "outputs": [
    {
     "name": "stdout",
     "output_type": "stream",
     "text": [
      "Welcome to JupyROOT 6.18/03\n"
     ]
    }
   ],
   "source": [
    "from ROOT import TF1, TCanvas, TSystem, TAxis, TLegend\n",
    "from ROOT import kRed, kGreen, kBlue"
   ]
  },
  {
   "cell_type": "markdown",
   "metadata": {},
   "source": [
    "Create the one dimentional functions for normal distribution."
   ]
  },
  {
   "cell_type": "code",
   "execution_count": 2,
   "metadata": {
    "collapsed": false
   },
   "outputs": [],
   "source": [
    "pdfunc  = TF1(\"pdf\",\"ROOT::Math::normal_pdf(x, [0],[1])\", -5, 5)\n",
    "cdfunc  = TF1(\"cdf\",\"ROOT::Math::normal_cdf(x, [0],[1])\", -5, 5)\n",
    "ccdfunc = TF1(\"cdf_c\",\"ROOT::Math::normal_cdf_c(x, [0])\", -5, 5)\n",
    "qfunc   = TF1(\"quantile\",\"ROOT::Math::normal_quantile(x, [0])\", 0, 1)\n",
    "cqfunc  = TF1(\"quantile_c\",\"ROOT::Math::normal_quantile_c(x, [0])\", 0, 1)"
   ]
  },
  {
   "cell_type": "markdown",
   "metadata": {},
   "source": [
    "Set the parameters for the normal distribution with sigma to 1 and mean to\n",
    "zero. And set the color to blue and title to none."
   ]
  },
  {
   "cell_type": "code",
   "execution_count": 3,
   "metadata": {
    "collapsed": false
   },
   "outputs": [],
   "source": [
    "pdfunc.SetParameters(1.0, 0.0)\n",
    "pdfunc.SetTitle(\"\")\n",
    "pdfunc.SetLineColor(kBlue)"
   ]
  },
  {
   "cell_type": "markdown",
   "metadata": {},
   "source": [
    "Set the configuration for the X and Y axis."
   ]
  },
  {
   "cell_type": "code",
   "execution_count": 4,
   "metadata": {
    "collapsed": false
   },
   "outputs": [],
   "source": [
    "Xaxis = pdfunc.GetXaxis()\n",
    "Yaxis = pdfunc.GetYaxis()\n",
    "Xaxis.SetLabelSize(0.06)\n",
    "Xaxis.SetTitle(\"x\")\n",
    "Xaxis.SetTitleSize(0.07)\n",
    "Xaxis.SetTitleOffset(0.55)\n",
    "Yaxis.SetLabelSize(0.06)"
   ]
  },
  {
   "cell_type": "markdown",
   "metadata": {},
   "source": [
    "Set sigma to 1 and mean to zero, for the cumulative normal distribution, and\n",
    "set the color to red and title to none."
   ]
  },
  {
   "cell_type": "code",
   "execution_count": 5,
   "metadata": {
    "collapsed": false
   },
   "outputs": [],
   "source": [
    "cdfunc.SetParameters(1.0, 0.0)\n",
    "cdfunc.SetTitle(\"\")\n",
    "cdfunc.SetLineColor(kRed)"
   ]
  },
  {
   "cell_type": "markdown",
   "metadata": {},
   "source": [
    "Set the configuration for the X and Y axis for the cumulative normal\n",
    "distribution."
   ]
  },
  {
   "cell_type": "code",
   "execution_count": 6,
   "metadata": {
    "collapsed": false
   },
   "outputs": [],
   "source": [
    "cdXaxis = cdfunc.GetXaxis()\n",
    "cdYaxis = cdfunc.GetYaxis()\n",
    "cdXaxis.SetLabelSize(0.06)\n",
    "cdXaxis.SetTitle(\"x\")\n",
    "cdXaxis.SetTitleSize(0.07)\n",
    "cdXaxis.SetTitleOffset(0.55)\n",
    "cdYaxis.SetLabelSize(0.06)\n",
    "cdYaxis.SetTitle(\"p\")\n",
    "cdYaxis.SetTitleSize(0.07)\n",
    "cdYaxis.SetTitleOffset(0.55)"
   ]
  },
  {
   "cell_type": "markdown",
   "metadata": {},
   "source": [
    "Set sigma to 1 and mean to zero, for the survival function of normal\n",
    "distribution, and set the color to green and title to none"
   ]
  },
  {
   "cell_type": "code",
   "execution_count": 7,
   "metadata": {
    "collapsed": false
   },
   "outputs": [],
   "source": [
    "ccdfunc.SetParameters(1.0, 0.0)\n",
    "ccdfunc.SetTitle(\"\")\n",
    "ccdfunc.SetLineColor(kGreen)"
   ]
  },
  {
   "cell_type": "markdown",
   "metadata": {},
   "source": [
    "Set sigma to 1 and mean to zero, for the quantile of normal distribution\n",
    "To get more precision for p close to 0 or 1, set Npx to 1000"
   ]
  },
  {
   "cell_type": "code",
   "execution_count": 8,
   "metadata": {
    "collapsed": false
   },
   "outputs": [],
   "source": [
    "qfunc.SetParameter(0, 1.0)\n",
    "qfunc.SetTitle(\"\")\n",
    "qfunc.SetLineColor(kRed)\n",
    "qfunc.SetNpx(1000)"
   ]
  },
  {
   "cell_type": "markdown",
   "metadata": {},
   "source": [
    "Set the configuration of X and Y axis"
   ]
  },
  {
   "cell_type": "code",
   "execution_count": 9,
   "metadata": {
    "collapsed": false
   },
   "outputs": [],
   "source": [
    "qfXaxis = qfunc.GetXaxis()\n",
    "qfYaxis = qfunc.GetYaxis()\n",
    "qfXaxis.SetLabelSize(0.06)\n",
    "qfXaxis.SetTitle(\"p\")\n",
    "qfYaxis.SetLabelSize(0.06)\n",
    "qfXaxis.SetTitleSize(0.07)\n",
    "qfXaxis.SetTitleOffset(0.55)\n",
    "qfYaxis.SetTitle(\"x\")\n",
    "qfYaxis.SetTitleSize(0.07)\n",
    "qfYaxis.SetTitleOffset(0.55)"
   ]
  },
  {
   "cell_type": "markdown",
   "metadata": {},
   "source": [
    "Set sigma to 1 and mean to zero of survival function of quantile of normal\n",
    "distribution, and set color to green and title to none."
   ]
  },
  {
   "cell_type": "code",
   "execution_count": 10,
   "metadata": {
    "collapsed": false
   },
   "outputs": [],
   "source": [
    "cqfunc.SetParameter(0, 1.0)\n",
    "cqfunc.SetTitle(\"\")\n",
    "cqfunc.SetLineColor(kGreen)\n",
    "cqfunc.SetNpx(1000)"
   ]
  },
  {
   "cell_type": "markdown",
   "metadata": {},
   "source": [
    "Create canvas and divide in three parts"
   ]
  },
  {
   "cell_type": "code",
   "execution_count": 11,
   "metadata": {
    "collapsed": false
   },
   "outputs": [
    {
     "data": {
      "text/plain": [
       "<ROOT.TPad object (\"c1_1\") at 0x562a4e2b6150>"
      ]
     },
     "execution_count": 11,
     "metadata": {},
     "output_type": "execute_result"
    }
   ],
   "source": [
    "c1 = TCanvas(\"c1\", \"Normal Distributions\", 100, 10, 600, 800)\n",
    "c1.Divide(1, 3)\n",
    "c1.cd(1)"
   ]
  },
  {
   "cell_type": "markdown",
   "metadata": {},
   "source": [
    "Draw the normal distribution"
   ]
  },
  {
   "cell_type": "code",
   "execution_count": 12,
   "metadata": {
    "collapsed": false
   },
   "outputs": [],
   "source": [
    "pdfunc.Draw()\n",
    "legend1 = TLegend(0.583893, 0.601973, 0.885221, 0.854151)\n",
    "legend1.AddEntry(pdfunc, \"normal_pdf\", \"l\")\n",
    "legend1.Draw()"
   ]
  },
  {
   "cell_type": "markdown",
   "metadata": {},
   "source": [
    "Draw the cumulative normal distribution"
   ]
  },
  {
   "cell_type": "code",
   "execution_count": 13,
   "metadata": {
    "collapsed": false
   },
   "outputs": [],
   "source": [
    "c1.cd(2)\n",
    "cdfunc.Draw()\n",
    "ccdfunc.Draw(\"same\")\n",
    "legend2 = TLegend(0.585605, 0.462794, 0.886933, 0.710837)\n",
    "legend2.AddEntry(cdfunc, \"normal_cdf\", \"l\")\n",
    "legend2.AddEntry(ccdfunc, \"normal_cdf_c\", \"l\")\n",
    "legend2.Draw()"
   ]
  },
  {
   "cell_type": "markdown",
   "metadata": {},
   "source": [
    "Draw the normal quantile of normal distribution"
   ]
  },
  {
   "cell_type": "code",
   "execution_count": 14,
   "metadata": {
    "collapsed": false
   },
   "outputs": [],
   "source": [
    "c1.cd(3)\n",
    "qfunc.Draw()\n",
    "cqfunc.Draw(\"same\")\n",
    "legend3 = TLegend(0.315094, 0.633668, 0.695179, 0.881711)\n",
    "legend3.AddEntry(qfunc, \"normal_quantile\", \"l\")\n",
    "legend3.AddEntry(cqfunc, \"normal_quantile_c\", \"l\")\n",
    "legend3.Draw()"
   ]
  },
  {
   "cell_type": "markdown",
   "metadata": {},
   "source": [
    "Draw all canvases "
   ]
  },
  {
   "cell_type": "code",
   "execution_count": 15,
   "metadata": {
    "collapsed": false
   },
   "outputs": [
    {
     "data": {
      "image/png": "[encoded data removed]",
      "text/plain": [
       "<IPython.core.display.Image object>"
      ]
     },
     "metadata": {},
     "output_type": "display_data"
    }
   ],
   "source": [
    "from ROOT import gROOT \n",
    "gROOT.GetListOfCanvases().Draw()"
   ]
  }
 ],
 "metadata": {
  "kernelspec": {
   "display_name": "Python 2",
   "language": "python",
   "name": "python2"
  },
  "language_info": {
   "codemirror_mode": {
    "name": "ipython",
    "version": 2
   },
   "file_extension": ".py",
   "mimetype": "text/x-python",
   "name": "python",
   "nbconvert_exporter": "python",
   "pygments_lexer": "ipython2",
   "version": "2.7.10"
  }
 },
 "nbformat": 4,
 "nbformat_minor": 2
}
