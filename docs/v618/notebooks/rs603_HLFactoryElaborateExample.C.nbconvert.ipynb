{
 "cells": [
  {
   "cell_type": "markdown",
   "metadata": {},
   "source": [
    "# Rs 6 0 3_ H L Factory Elaborate Example\n",
    "High Level Factory: creating a complex combined model.\n",
    "\n",
    "\n",
    "\n",
    "\n",
    "**Author:** Danilo Piparo  \n",
    "<i><small>This notebook tutorial was automatically generated with <a href= \"https://github.com/root-project/root/blob/master/documentation/doxygen/converttonotebook.py\">ROOTBOOK-izer</a> from the macro found in the ROOT repository  on Thursday, August 29, 2019 at 03:23 AM.</small></i>"
   ]
  },
  {
   "cell_type": "code",
   "execution_count": 1,
   "metadata": {
    "collapsed": false
   },
   "outputs": [],
   "source": [
    "%%cpp -d\n",
    "#include <fstream>\n",
    "#include \"TString.h\"\n",
    "#include \"TFile.h\"\n",
    "#include \"TROOT.h\"\n",
    "#include \"RooGlobalFunc.h\"\n",
    "#include \"RooWorkspace.h\"\n",
    "#include \"RooRealVar.h\"\n",
    "#include \"RooAbsPdf.h\"\n",
    "#include \"RooDataSet.h\"\n",
    "#include \"RooPlot.h\"\n",
    "#include \"RooStats/HLFactory.h\""
   ]
  },
  {
   "cell_type": "markdown",
   "metadata": {},
   "source": [
    "Use this order for safety on library loading"
   ]
  },
  {
   "cell_type": "code",
   "execution_count": 2,
   "metadata": {
    "collapsed": false
   },
   "outputs": [],
   "source": [
    "%%cpp -d\n",
    "// This is a workaround to make sure the namespace is used inside functions\n",
    "using namespace RooFit;\n",
    "using namespace RooStats;"
   ]
  },
  {
   "cell_type": "code",
   "execution_count": 3,
   "metadata": {
    "collapsed": false
   },
   "outputs": [],
   "source": [
    "using namespace std;"
   ]
  },
  {
   "cell_type": "markdown",
   "metadata": {},
   "source": [
    "--- prepare the 2 needed datacards for this example ---"
   ]
  },
  {
   "cell_type": "code",
   "execution_count": 4,
   "metadata": {
    "collapsed": false
   },
   "outputs": [],
   "source": [
    "TString card_name(\"rs603_card_WsMaker.rs\");\n",
    "ofstream ofile(card_name);\n",
    "ofile << \"// The simplest card for combination\\n\\n\";\n",
    "ofile << \"gauss1 = Gaussian(x[0,100],mean1[50,0,100],4);\\n\";\n",
    "ofile << \"flat1 = Polynomial(x,0);\\n\";\n",
    "ofile << \"sb_model1 = SUM(nsig1[120,0,300]*gauss1 , nbkg1[100,0,1000]*flat1);\\n\\n\";\n",
    "ofile << \"echo In the middle!;\\n\\n\";\n",
    "ofile << \"gauss2 = Gaussian(x,mean2[80,0,100],5);\\n\";\n",
    "ofile << \"flat2 = Polynomial(x,0);\\n\";\n",
    "ofile << \"sb_model2 = SUM(nsig2[90,0,400]*gauss2 , nbkg2[80,0,1000]*flat2);\\n\\n\";\n",
    "ofile << \"echo At the end!;\\n\";\n",
    "ofile.close();\n",
    "\n",
    "TString card_name2(\"rs603_card.rs\");\n",
    "ofstream ofile2(card_name2);\n",
    "ofile2 << \"// The simplest card for combination\\n\\n\";\n",
    "ofile2 << \"gauss1 = Gaussian(x[0,100],mean1[50,0,100],4);\\n\";\n",
    "ofile2 << \"flat1 = Polynomial(x,0);\\n\";\n",
    "ofile2 << \"sb_model1 = SUM(nsig1[120,0,300]*gauss1 , nbkg1[100,0,1000]*flat1);\\n\\n\";\n",
    "ofile2 << \"echo In the middle!;\\n\\n\";\n",
    "ofile2 << \"gauss2 = Gaussian(x,mean2[80,0,100],5);\\n\";\n",
    "ofile2 << \"flat2 = Polynomial(x,0);\\n\";\n",
    "ofile2 << \"sb_model2 = SUM(nsig2[90,0,400]*gauss2 , nbkg2[80,0,1000]*flat2);\\n\\n\";\n",
    "ofile2 << \"#include rs603_included_card.rs;\\n\\n\";\n",
    "ofile2 << \"echo At the end!;\\n\";\n",
    "ofile2.close();\n",
    "\n",
    "TString card_name3(\"rs603_included_card.rs\");\n",
    "ofstream ofile3(card_name3);\n",
    "ofile3 << \"echo Now reading the included file!;\\n\\n\";\n",
    "ofile3 << \"echo Including datasets in a Workspace in a Root file...;\\n\";\n",
    "ofile3 << \"data1 = import(rs603_infile.root,\\n\";\n",
    "ofile3 << \"               rs603_ws,\\n\";\n",
    "ofile3 << \"               data1);\\n\\n\";\n",
    "ofile3 << \"data2 = import(rs603_infile.root,\\n\";\n",
    "ofile3 << \"               rs603_ws,\\n\";\n",
    "ofile3 << \"               data2);\\n\";\n",
    "ofile3.close();"
   ]
  },
  {
   "cell_type": "markdown",
   "metadata": {},
   "source": [
    "--- produce the two separate datasets into a workspace ---"
   ]
  },
  {
   "cell_type": "code",
   "execution_count": 5,
   "metadata": {
    "collapsed": false
   },
   "outputs": [
    {
     "name": "stdout",
     "output_type": "stream",
     "text": [
      "\n",
      "\u001b[1mRooFit v3.60 -- Developed by Wouter Verkerke and David Kirkby\u001b[0m \n",
      "                Copyright (C) 2000-2013 NIKHEF, University of California & Stanford University\n",
      "                All rights reserved, please read http://roofit.sourceforge.net/license.txt\n",
      "\n",
      "[#1] INFO:ObjectHandling -- RooWorkspace::exportToCint(HLFactoryComplexExample_ws) INFO: references to all objects in this workspace will be created in CINT in 'namespace HLFactoryComplexExample_ws'\n",
      "[HLFactoryComplexExample] echo: In the middle!\n",
      "[HLFactoryComplexExample] echo: At the end!\n",
      "[#1] INFO:ObjectHandling -- RooWorkspace::import(rs603_ws) importing dataset data1\n",
      "[#1] INFO:ObjectHandling -- RooWorkspace::import(rs603_ws) importing RooRealVar::x\n",
      "[#1] INFO:ObjectHandling -- RooWorkspace::import(rs603_ws) importing dataset data2\n"
     ]
    }
   ],
   "source": [
    "HLFactory hlf(\"HLFactoryComplexExample\", \"rs603_card_WsMaker.rs\", false);\n",
    "\n",
    "auto x = static_cast<RooRealVar *>(hlf.GetWs()->arg(\"x\"));\n",
    "auto pdf1 = hlf.GetWs()->pdf(\"sb_model1\");\n",
    "auto pdf2 = hlf.GetWs()->pdf(\"sb_model2\");\n",
    "\n",
    "RooWorkspace w(\"rs603_ws\");\n",
    "\n",
    "auto data1 = pdf1->generate(RooArgSet(*x), Extended());\n",
    "data1->SetName(\"data1\");\n",
    "w.import(*data1);\n",
    "\n",
    "auto data2 = pdf2->generate(RooArgSet(*x), Extended());\n",
    "data2->SetName(\"data2\");\n",
    "w.import(*data2);"
   ]
  },
  {
   "cell_type": "markdown",
   "metadata": {},
   "source": [
    "--- write the workspace into a rootfile ---"
   ]
  },
  {
   "cell_type": "code",
   "execution_count": 6,
   "metadata": {
    "collapsed": false
   },
   "outputs": [
    {
     "name": "stdout",
     "output_type": "stream",
     "text": [
      "-------------------------------------------------------------------\n",
      " Rootfile and Workspace prepared \n",
      "-------------------------------------------------------------------\n",
      "[#1] INFO:ObjectHandling -- RooWorkspace::exportToCint(HLFactoryElaborateExample_ws) INFO: references to all objects in this workspace will be created in CINT in 'namespace HLFactoryElaborateExample_ws'\n",
      "[HLFactoryElaborateExample] echo: In the middle!\n",
      "[HLFactoryElaborateExample] echo: Now reading the included file!\n",
      "[HLFactoryElaborateExample] echo: Including datasets in a Workspace in a Root file...\n",
      "[#1] INFO:ObjectHandling -- RooWorkspace::import(HLFactoryElaborateExample_ws) importing dataset data1\n",
      "[#1] INFO:ObjectHandling -- RooWorkspace::import(HLFactoryElaborateExample_ws) importing dataset data2\n",
      "[HLFactoryElaborateExample] echo: At the end!\n",
      "RooDataSet::data1[x] = 219 entries\n",
      "RooCategory::HLFactoryElaborateExample_category = model2(idx = 1)\n",
      "\n"
     ]
    }
   ],
   "source": [
    "TFile outfile(\"rs603_infile.root\", \"RECREATE\");\n",
    "w.Write();\n",
    "outfile.Close();\n",
    "\n",
    "cout << \"-------------------------------------------------------------------\\n\"\n",
    "     << \" Rootfile and Workspace prepared \\n\"\n",
    "     << \"-------------------------------------------------------------------\\n\";\n",
    "\n",
    "HLFactory hlf_2(\"HLFactoryElaborateExample\", \"rs603_card.rs\", false);\n",
    "\n",
    "x = hlf_2.GetWs()->var(\"x\");\n",
    "pdf1 = hlf_2.GetWs()->pdf(\"sb_model1\");\n",
    "pdf2 = hlf_2.GetWs()->pdf(\"sb_model2\");\n",
    "\n",
    "hlf_2.AddChannel(\"model1\", \"sb_model1\", \"flat1\", \"data1\");\n",
    "hlf_2.AddChannel(\"model2\", \"sb_model2\", \"flat2\", \"data2\");\n",
    "\n",
    "auto data = hlf_2.GetTotDataSet();\n",
    "auto pdf = hlf_2.GetTotSigBkgPdf();\n",
    "auto thecat = hlf_2.GetTotCategory();"
   ]
  },
  {
   "cell_type": "markdown",
   "metadata": {},
   "source": [
    "--- perform extended ml fit of composite pdf to toy data ---"
   ]
  },
  {
   "cell_type": "code",
   "execution_count": 7,
   "metadata": {
    "collapsed": false
   },
   "outputs": [
    {
     "name": "stdout",
     "output_type": "stream",
     "text": [
      "[#1] INFO:Minization -- p.d.f. provides expected number of events, including extended term in likelihood.\n",
      "[#1] INFO:Minization -- RooMinimizer::optimizeConst: activating const optimization\n",
      "RooAbsTestStatistic::initSimMode: creating slave calculator #0 for state model1 (219 dataset entries)\n",
      "RooAbsTestStatistic::initSimMode: creating slave calculator #1 for state model2 (164 dataset entries)\n",
      "[#1] INFO:Fitting -- RooAbsTestStatistic::initSimMode: created 2 slave calculators.\n",
      "[#1] INFO:Minization --  The following expressions have been identified as constant and will be precalculated and cached: (flat1)\n",
      "[#1] INFO:Minization --  The following expressions will be evaluated in cache-and-track mode: (gauss1)\n",
      "[#1] INFO:Minization --  The following expressions have been identified as constant and will be precalculated and cached: (flat2)\n",
      "[#1] INFO:Minization --  The following expressions will be evaluated in cache-and-track mode: (gauss2)\n",
      " **********\n",
      " **    1 **SET PRINT           1\n",
      " **********\n",
      " **********\n",
      " **    2 **SET NOGRAD\n",
      " **********\n",
      " PARAMETER DEFINITIONS:\n",
      "    NO.   NAME         VALUE      STEP SIZE      LIMITS\n",
      "     1 mean1        5.00000e+01  1.00000e+01    0.00000e+00  1.00000e+02\n",
      "     2 mean2        8.00000e+01  1.00000e+01    0.00000e+00  1.00000e+02\n",
      "     3 nbkg1        1.00000e+02  5.00000e+01    0.00000e+00  1.00000e+03\n",
      "     4 nbkg2        8.00000e+01  4.00000e+01    0.00000e+00  1.00000e+03\n",
      "     5 nsig1        1.20000e+02  3.00000e+01    0.00000e+00  3.00000e+02\n",
      "     6 nsig2        9.00000e+01  4.00000e+01    0.00000e+00  4.00000e+02\n",
      " **********\n",
      " **    3 **SET ERR         0.5\n",
      " **********\n",
      " **********\n",
      " **    4 **SET PRINT           1\n",
      " **********\n",
      " **********\n",
      " **    5 **SET STR           1\n",
      " **********\n",
      " NOW USING STRATEGY  1: TRY TO BALANCE SPEED AGAINST RELIABILITY\n",
      " **********\n",
      " **    6 **MIGRAD        3000           1\n",
      " **********\n",
      " FIRST CALL TO USER FUNCTION AT NEW START POINT, WITH IFLAG=4.\n",
      " START MIGRAD MINIMIZATION.  STRATEGY  1.  CONVERGENCE WHEN EDM .LT. 1.00e-03\n",
      " FCN=168.565 FROM MIGRAD    STATUS=INITIATE       24 CALLS          25 TOTAL\n",
      "                     EDM= unknown      STRATEGY= 1      NO ERROR MATRIX       \n",
      "  EXT PARAMETER               CURRENT GUESS       STEP         FIRST   \n",
      "  NO.   NAME      VALUE            ERROR          SIZE      DERIVATIVE \n",
      "   1  mean1        5.00000e+01   1.00000e+01   2.01358e-01  -1.82836e+02\n",
      "   2  mean2        8.00000e+01   1.00000e+01   2.57889e-01   1.04014e+01\n",
      "   3  nbkg1        1.00000e+02   5.00000e+01   1.72186e-01   2.51699e+01\n",
      "   4  nbkg2        8.00000e+01   4.00000e+01   1.52384e-01   2.98132e+01\n",
      "   5  nsig1        1.20000e+02   3.00000e+01   2.05758e-01  -9.05084e+00\n",
      "   6  nsig2        9.00000e+01   4.00000e+01   2.45245e-01  -5.18071e+00\n",
      "                               ERR DEF= 0.5\n",
      " MIGRAD MINIMIZATION HAS CONVERGED.\n",
      " MIGRAD WILL VERIFY CONVERGENCE AND ERROR MATRIX.\n",
      " COVARIANCE MATRIX CALCULATED SUCCESSFULLY\n",
      " FCN=165.577 FROM MIGRAD    STATUS=CONVERGED     105 CALLS         106 TOTAL\n",
      "                     EDM=1.82025e-06    STRATEGY= 1      ERROR MATRIX ACCURATE \n",
      "  EXT PARAMETER                                   STEP         FIRST   \n",
      "  NO.   NAME      VALUE            ERROR          SIZE      DERIVATIVE \n",
      "   1  mean1        5.06657e+01   4.11801e-01   7.32781e-05  -9.51127e-02\n",
      "   2  mean2        7.98756e+01   6.29188e-01   1.39674e-04   1.05318e-02\n",
      "   3  nbkg1        8.74181e+01   1.04372e+01   3.24289e-04   1.44260e-02\n",
      "   4  nbkg2        6.75739e+01   9.49233e+00   3.28828e-04   2.19919e-02\n",
      "   5  nsig1        1.31590e+02   1.23613e+01   7.28660e-04   3.75153e-03\n",
      "   6  nsig2        9.64299e+01   1.09011e+01   5.54180e-04  -3.77030e-03\n",
      "                               ERR DEF= 0.5\n",
      " EXTERNAL ERROR MATRIX.    NDIM=  25    NPAR=  6    ERR DEF=0.5\n",
      "  1.696e-01  0.000e+00 -9.815e-02  0.000e+00  9.813e-02  0.000e+00 \n",
      "  0.000e+00  3.959e-01  0.000e+00  1.140e-01  0.000e+00 -1.141e-01 \n",
      " -9.815e-02  0.000e+00  1.090e+02  0.000e+00 -2.155e+01  0.000e+00 \n",
      "  0.000e+00  1.140e-01  0.000e+00  9.015e+01  0.000e+00 -2.256e+01 \n",
      "  9.813e-02  0.000e+00 -2.155e+01  0.000e+00  1.532e+02  0.000e+00 \n",
      "  0.000e+00 -1.141e-01  0.000e+00 -2.256e+01  0.000e+00  1.190e+02 \n",
      " PARAMETER  CORRELATION COEFFICIENTS  \n",
      "       NO.  GLOBAL      1      2      3      4      5      6\n",
      "        1  0.02769   1.000  0.000 -0.023  0.000  0.019  0.000\n",
      "        2  0.02296   0.000  1.000  0.000  0.019  0.000 -0.017\n",
      "        3  0.16798  -0.023  0.000  1.000  0.000 -0.167  0.000\n",
      "        4  0.21836   0.000  0.019  0.000  1.000  0.000 -0.218\n",
      "        5  0.16755   0.019  0.000 -0.167  0.000  1.000  0.000\n",
      "        6  0.21817   0.000 -0.017  0.000 -0.218  0.000  1.000\n",
      " **********\n",
      " **    7 **SET ERR         0.5\n",
      " **********\n",
      " **********\n",
      " **    8 **SET PRINT           1\n",
      " **********\n",
      " **********\n",
      " **    9 **HESSE        3000\n",
      " **********\n",
      " COVARIANCE MATRIX CALCULATED SUCCESSFULLY\n",
      " FCN=165.577 FROM HESSE     STATUS=OK             40 CALLS         146 TOTAL\n",
      "                     EDM=1.8204e-06    STRATEGY= 1      ERROR MATRIX ACCURATE \n",
      "  EXT PARAMETER                                INTERNAL      INTERNAL  \n",
      "  NO.   NAME      VALUE            ERROR       STEP SIZE       VALUE   \n",
      "   1  mean1        5.06657e+01   4.11802e-01   1.46556e-05   1.33141e-02\n",
      "   2  mean2        7.98756e+01   6.29186e-01   2.79348e-05   6.40394e-01\n",
      "   3  nbkg1        8.74181e+01   1.04374e+01   6.48579e-05  -9.70492e-01\n",
      "   4  nbkg2        6.75739e+01   9.49253e+00   6.57656e-05  -1.04486e+00\n",
      "   5  nsig1        1.31590e+02   1.23615e+01   1.45732e-04  -1.23045e-01\n",
      "   6  nsig2        9.64299e+01   1.09013e+01   1.10836e-04  -5.44336e-01\n",
      "                               ERR DEF= 0.5\n",
      " EXTERNAL ERROR MATRIX.    NDIM=  25    NPAR=  6    ERR DEF=0.5\n",
      "  1.696e-01  0.000e+00 -9.850e-02  0.000e+00  9.849e-02  0.000e+00 \n",
      "  0.000e+00  3.959e-01  0.000e+00  1.133e-01  0.000e+00 -1.133e-01 \n",
      " -9.850e-02  0.000e+00  1.090e+02  0.000e+00 -2.157e+01  0.000e+00 \n",
      "  0.000e+00  1.133e-01  0.000e+00  9.015e+01  0.000e+00 -2.257e+01 \n",
      "  9.849e-02  0.000e+00 -2.157e+01  0.000e+00  1.532e+02  0.000e+00 \n",
      "  0.000e+00 -1.133e-01  0.000e+00 -2.257e+01  0.000e+00  1.190e+02 \n",
      " PARAMETER  CORRELATION COEFFICIENTS  \n",
      "       NO.  GLOBAL      1      2      3      4      5      6\n",
      "        1  0.02779   1.000  0.000 -0.023  0.000  0.019  0.000\n",
      "        2  0.02281   0.000  1.000  0.000  0.019  0.000 -0.017\n",
      "        3  0.16807  -0.023  0.000  1.000  0.000 -0.167  0.000\n",
      "        4  0.21846   0.000  0.019  0.000  1.000  0.000 -0.218\n",
      "        5  0.16763   0.019  0.000 -0.167  0.000  1.000  0.000\n",
      "        6  0.21827   0.000 -0.017  0.000 -0.218  0.000  1.000\n",
      "[#1] INFO:Minization -- RooMinimizer::optimizeConst: deactivating const optimization\n"
     ]
    }
   ],
   "source": [
    "pdf->fitTo(*data);"
   ]
  },
  {
   "cell_type": "markdown",
   "metadata": {},
   "source": [
    "--- plot toy data and composite pdf overlaid ---"
   ]
  },
  {
   "cell_type": "code",
   "execution_count": 8,
   "metadata": {
    "collapsed": false
   },
   "outputs": [
    {
     "name": "stdout",
     "output_type": "stream",
     "text": [
      "[#1] INFO:Plotting -- RooSimultaneous::plotOn(HLFactoryElaborateExample_sigbkg) plot on x represents a slice in the index category (HLFactoryElaborateExample_category)\n",
      "[#1] INFO:Plotting -- RooAbsReal::plotOn(sb_model1) slice variable HLFactoryElaborateExample_category was not projected anyway\n",
      "[#1] INFO:Plotting -- RooSimultaneous::plotOn(HLFactoryElaborateExample_sigbkg) plot on x represents a slice in the index category (HLFactoryElaborateExample_category)\n",
      "[#1] INFO:Plotting -- RooAbsReal::plotOn(sb_model2) slice variable HLFactoryElaborateExample_category was not projected anyway\n"
     ]
    },
    {
     "name": "stderr",
     "output_type": "stream",
     "text": [
      "Info in <TCanvas::MakeDefCanvas>:  created default TCanvas with name c1\n"
     ]
    }
   ],
   "source": [
    "auto xframe = x->frame();\n",
    "\n",
    "data->plotOn(xframe);\n",
    "thecat->setIndex(0);\n",
    "pdf->plotOn(xframe, Slice(*thecat), ProjWData(*thecat, *data));\n",
    "\n",
    "thecat->setIndex(1);\n",
    "pdf->plotOn(xframe, Slice(*thecat), ProjWData(*thecat, *data));\n",
    "\n",
    "gROOT->SetStyle(\"Plain\");\n",
    "\n",
    "xframe->Draw();"
   ]
  },
  {
   "cell_type": "markdown",
   "metadata": {},
   "source": [
    "Draw all canvases "
   ]
  },
  {
   "cell_type": "code",
   "execution_count": 9,
   "metadata": {
    "collapsed": false
   },
   "outputs": [
    {
     "data": {
      "text/html": [
       "\n",
       "<div id=\"root_plot_1\"\n",
       "     style=\"width: 696px; height: 472px\">\n",
       "</div>\n",
       "\n",
       "<script>\n",
       " requirejs.config({\n",
       "     paths: {\n",
       "       'JSRootCore' : 'https://root.cern.ch/js/notebook//scripts/JSRootCore',\n",
       "     }\n",
       "   });\n",
       " require(['JSRootCore'],\n",
       "     function(Core) {\n",
       "       var obj = Core.JSONR_unref({\"_typename\":\"TCanvas\",\"fUniqueID\":0,\"fBits\":53673992,\"fLineColor\":1,\"fLineStyle\":1,\"fLineWidth\":1,\"fFillColor\":0,\"fFillStyle\":1001,\"fLeftMargin\":0.1,\"fRightMargin\":0.1,\"fBottomMargin\":0.1,\"fTopMargin\":0.1,\"fXfile\":2,\"fYfile\":2,\"fAfile\":1,\"fXstat\":0.99,\"fYstat\":0.99,\"fAstat\":2,\"fFrameFillColor\":0,\"fFrameLineColor\":1,\"fFrameFillStyle\":1001,\"fFrameLineStyle\":1,\"fFrameLineWidth\":1,\"fFrameBorderSize\":1,\"fFrameBorderMode\":0,\"fX1\":-12.5000009313226,\"fY1\":-3.35298089868992,\"fX2\":112.500000931323,\"fY2\":30.1768260896769,\"fXtoAbsPixelk\":69.6000541484835,\"fXtoPixelk\":69.6000541484835,\"fXtoPixel\":5.56799991703033,\"fYtoAbsPixelk\":424.800047186661,\"fYtoPixelk\":424.800047186661,\"fYtoPixel\":-14.0770270512968,\"fUtoAbsPixelk\":5e-5,\"fUtoPixelk\":5e-5,\"fUtoPixel\":696,\"fVtoAbsPixelk\":472.00005,\"fVtoPixelk\":472,\"fVtoPixel\":-472,\"fAbsPixeltoXk\":-12.5000009313226,\"fPixeltoXk\":-12.5000009313226,\"fPixeltoX\":0.17959770382564,\"fAbsPixeltoYk\":30.1768260896769,\"fPixeltoYk\":-3.35298089868992,\"fPixeltoY\":-0.0710377266702688,\"fXlowNDC\":0,\"fYlowNDC\":0,\"fXUpNDC\":0,\"fYUpNDC\":0,\"fWNDC\":1,\"fHNDC\":1,\"fAbsXlowNDC\":0,\"fAbsYlowNDC\":0,\"fAbsWNDC\":1,\"fAbsHNDC\":1,\"fUxmin\":0,\"fUymin\":0,\"fUxmax\":100,\"fUymax\":26.823845190987,\"fTheta\":30,\"fPhi\":30,\"fAspectRatio\":0,\"fNumber\":0,\"fTickx\":0,\"fTicky\":0,\"fLogx\":0,\"fLogy\":0,\"fLogz\":0,\"fPadPaint\":0,\"fCrosshair\":0,\"fCrosshairPos\":0,\"fBorderSize\":2,\"fBorderMode\":0,\"fModified\":false,\"fGridx\":false,\"fGridy\":false,\"fAbsCoord\":false,\"fEditable\":true,\"fFixedAspectRatio\":false,\"fPrimitives\":{\"_typename\":\"TList\",\"name\":\"TList\",\"arr\":[{\"_typename\":\"TFrame\",\"fUniqueID\":0,\"fBits\":50331656,\"fLineColor\":1,\"fLineStyle\":1,\"fLineWidth\":1,\"fFillColor\":0,\"fFillStyle\":1001,\"fX1\":0,\"fY1\":0,\"fX2\":100,\"fY2\":26.823845190987,\"fBorderSize\":1,\"fBorderMode\":0},{\"_typename\":\"TH1D\",\"fUniqueID\":0,\"fBits\":50332168,\"fName\":\"frame_7eff00d48eb0\",\"fTitle\":\"A RooPlot of \\\"x\\\"\",\"fLineColor\":602,\"fLineStyle\":1,\"fLineWidth\":1,\"fFillColor\":0,\"fFillStyle\":1001,\"fMarkerColor\":1,\"fMarkerStyle\":1,\"fMarkerSize\":1,\"fNcells\":102,\"fXaxis\":{\"_typename\":\"TAxis\",\"fUniqueID\":0,\"fBits\":50331648,\"fName\":\"xaxis\",\"fTitle\":\"x\",\"fNdivisions\":510,\"fAxisColor\":1,\"fLabelColor\":1,\"fLabelFont\":42,\"fLabelOffset\":0.005,\"fLabelSize\":0.035,\"fTickLength\":0.03,\"fTitleOffset\":1,\"fTitleSize\":0.035,\"fTitleColor\":1,\"fTitleFont\":42,\"fNbins\":100,\"fXmin\":0,\"fXmax\":100,\"fXbins\":[],\"fFirst\":0,\"fLast\":0,\"fBits2\":0,\"fTimeDisplay\":false,\"fTimeFormat\":\"\",\"fLabels\":null,\"fModLabs\":null},\"fYaxis\":{\"_typename\":\"TAxis\",\"fUniqueID\":0,\"fBits\":50331648,\"fName\":\"yaxis\",\"fTitle\":\"Events \\/ ( 1 )\",\"fNdivisions\":510,\"fAxisColor\":1,\"fLabelColor\":1,\"fLabelFont\":42,\"fLabelOffset\":0.005,\"fLabelSize\":0.035,\"fTickLength\":0.03,\"fTitleOffset\":0,\"fTitleSize\":0.035,\"fTitleColor\":1,\"fTitleFont\":42,\"fNbins\":1,\"fXmin\":0,\"fXmax\":1,\"fXbins\":[],\"fFirst\":0,\"fLast\":0,\"fBits2\":0,\"fTimeDisplay\":false,\"fTimeFormat\":\"\",\"fLabels\":null,\"fModLabs\":null},\"fZaxis\":{\"_typename\":\"TAxis\",\"fUniqueID\":0,\"fBits\":50331648,\"fName\":\"zaxis\",\"fTitle\":\"\",\"fNdivisions\":510,\"fAxisColor\":1,\"fLabelColor\":1,\"fLabelFont\":42,\"fLabelOffset\":0.005,\"fLabelSize\":0.035,\"fTickLength\":0.03,\"fTitleOffset\":1,\"fTitleSize\":0.035,\"fTitleColor\":1,\"fTitleFont\":42,\"fNbins\":1,\"fXmin\":0,\"fXmax\":1,\"fXbins\":[],\"fFirst\":0,\"fLast\":0,\"fBits2\":0,\"fTimeDisplay\":false,\"fTimeFormat\":\"\",\"fLabels\":null,\"fModLabs\":null},\"fBarOffset\":0,\"fBarWidth\":1000,\"fEntries\":1,\"fTsumw\":0,\"fTsumw2\":0,\"fTsumwx\":0,\"fTsumwx2\":0,\"fMaximum\":26.823845190987,\"fMinimum\":-1111,\"fNormFactor\":0,\"fContour\":[],\"fSumw2\":[],\"fOption\":\"\",\"fFunctions\":{\"_typename\":\"TList\",\"name\":\"TList\",\"arr\":[],\"opt\":[]},\"fBufferSize\":0,\"fBuffer\":[],\"fBinStatErrOpt\":0,\"fStatOverflows\":2,\"fArray\":[0,26.823845190987,0,0,0,0,0,0,0,0,0,0,0,0,0,0,0,0,0,0,0,0,0,0,0,0,0,0,0,0,0,0,0,0,0,0,0,0,0,0,0,0,0,0,0,0,0,0,0,0,0,0,0,0,0,0,0,0,0,0,0,0,0,0,0,0,0,0,0,0,0,0,0,0,0,0,0,0,0,0,0,0,0,0,0,0,0,0,0,0,0,0,0,0,0,0,0,0,0,0,0,0]},{\"_typename\":\"RooHist\",\"fUniqueID\":0,\"fBits\":50332680,\"fName\":\"h_HLFactoryElaborateExample_TotData\",\"fTitle\":\"Histogram of HLFactoryElaborateExample_TotData_plot__x\",\"fLineColor\":1,\"fLineStyle\":1,\"fLineWidth\":1,\"fFillColor\":0,\"fFillStyle\":1000,\"fMarkerColor\":1,\"fMarkerStyle\":8,\"fMarkerSize\":1,\"fNpoints\":100,\"fX\":[0.5,1.5,2.5,3.5,4.5,5.5,6.5,7.5,8.5,9.5,10.5,11.5,12.5,13.5,14.5,15.5,16.5,17.5,18.5,19.5,20.5,21.5,22.5,23.5,24.5,25.5,26.5,27.5,28.5,29.5,30.5,31.5,32.5,33.5,34.5,35.5,36.5,37.5,38.5,39.5,40.5,41.5,42.5,43.5,44.5,45.5,46.5,47.5,48.5,49.5,50.5,51.5,52.5,53.5,54.5,55.5,56.5,57.5,58.5,59.5,60.5,61.5,62.5,63.5,64.5,65.5,66.5,67.5,68.5,69.5,70.5,71.5,72.5,73.5,74.5,75.5,76.5,77.5,78.5,79.5,80.5,81.5,82.5,83.5,84.5,85.5,86.5,87.5,88.5,89.5,90.5,91.5,92.5,93.5,94.5,95.5,96.5,97.5,98.5,99.5],\"fY\":[0,1,1,3,0,0,3,1,1,0,3,1,1,2,0,2,1,4,1,3,2,2,0,1,2,2,0,1,0,6,2,0,1,0,1,4,1,0,4,3,0,2,4,1,6,8,11,12,13,20,14,8,16,12,7,7,8,4,5,4,1,1,4,2,4,1,6,4,2,4,1,1,6,7,6,5,6,7,9,10,10,9,8,5,4,7,7,0,5,3,3,3,1,1,0,2,1,2,1,2],\"fFunctions\":{\"_typename\":\"TList\",\"name\":\"TList\",\"arr\":[],\"opt\":[]},\"fHistogram\":{\"_typename\":\"TH1F\",\"fUniqueID\":0,\"fBits\":50332168,\"fName\":\"h_HLFactoryElaborateExample_TotData\",\"fTitle\":\"Histogram of HLFactoryElaborateExample_TotData_plot__x\",\"fLineColor\":1,\"fLineStyle\":1,\"fLineWidth\":1,\"fFillColor\":0,\"fFillStyle\":1001,\"fMarkerColor\":1,\"fMarkerStyle\":1,\"fMarkerSize\":1,\"fNcells\":102,\"fXaxis\":{\"_typename\":\"TAxis\",\"fUniqueID\":0,\"fBits\":50331648,\"fName\":\"xaxis\",\"fTitle\":\"\",\"fNdivisions\":510,\"fAxisColor\":1,\"fLabelColor\":1,\"fLabelFont\":62,\"fLabelOffset\":0.005,\"fLabelSize\":0.04,\"fTickLength\":0.03,\"fTitleOffset\":1,\"fTitleSize\":0.04,\"fTitleColor\":1,\"fTitleFont\":62,\"fNbins\":100,\"fXmin\":0,\"fXmax\":110,\"fXbins\":[],\"fFirst\":0,\"fLast\":0,\"fBits2\":0,\"fTimeDisplay\":false,\"fTimeFormat\":\"\",\"fLabels\":null,\"fModLabs\":null},\"fYaxis\":{\"_typename\":\"TAxis\",\"fUniqueID\":0,\"fBits\":50331648,\"fName\":\"yaxis\",\"fTitle\":\"\",\"fNdivisions\":510,\"fAxisColor\":1,\"fLabelColor\":1,\"fLabelFont\":62,\"fLabelOffset\":0.005,\"fLabelSize\":0.04,\"fTickLength\":0.03,\"fTitleOffset\":1,\"fTitleSize\":0.04,\"fTitleColor\":1,\"fTitleFont\":62,\"fNbins\":1,\"fXmin\":0,\"fXmax\":28.1011711524626,\"fXbins\":[],\"fFirst\":0,\"fLast\":0,\"fBits2\":0,\"fTimeDisplay\":false,\"fTimeFormat\":\"\",\"fLabels\":null,\"fModLabs\":null},\"fZaxis\":{\"_typename\":\"TAxis\",\"fUniqueID\":0,\"fBits\":50331648,\"fName\":\"zaxis\",\"fTitle\":\"\",\"fNdivisions\":510,\"fAxisColor\":1,\"fLabelColor\":1,\"fLabelFont\":62,\"fLabelOffset\":0.005,\"fLabelSize\":0.04,\"fTickLength\":0.03,\"fTitleOffset\":1,\"fTitleSize\":0.04,\"fTitleColor\":1,\"fTitleFont\":62,\"fNbins\":1,\"fXmin\":0,\"fXmax\":1,\"fXbins\":[],\"fFirst\":0,\"fLast\":0,\"fBits2\":0,\"fTimeDisplay\":false,\"fTimeFormat\":\"\",\"fLabels\":null,\"fModLabs\":null},\"fBarOffset\":0,\"fBarWidth\":1000,\"fEntries\":0,\"fTsumw\":0,\"fTsumw2\":0,\"fTsumwx\":0,\"fTsumwx2\":0,\"fMaximum\":28.1011711524626,\"fMinimum\":0,\"fNormFactor\":0,\"fContour\":[],\"fSumw2\":[],\"fOption\":\"\",\"fFunctions\":{\"_typename\":\"TList\",\"name\":\"TList\",\"arr\":[],\"opt\":[]},\"fBufferSize\":0,\"fBuffer\":[],\"fBinStatErrOpt\":0,\"fStatOverflows\":2,\"fArray\":[0,0,0,0,0,0,0,0,0,0,0,0,0,0,0,0,0,0,0,0,0,0,0,0,0,0,0,0,0,0,0,0,0,0,0,0,0,0,0,0,0,0,0,0,0,0,0,0,0,0,0,0,0,0,0,0,0,0,0,0,0,0,0,0,0,0,0,0,0,0,0,0,0,0,0,0,0,0,0,0,0,0,0,0,0,0,0,0,0,0,0,0,0,0,0,0,0,0,0,0,0,0]},\"fMinimum\":-1111,\"fMaximum\":-1111,\"fEXlow\":[0.5,0.5,0.5,0.5,0.5,0.5,0.5,0.5,0.5,0.5,0.5,0.5,0.5,0.5,0.5,0.5,0.5,0.5,0.5,0.5,0.5,0.5,0.5,0.5,0.5,0.5,0.5,0.5,0.5,0.5,0.5,0.5,0.5,0.5,0.5,0.5,0.5,0.5,0.5,0.5,0.5,0.5,0.5,0.5,0.5,0.5,0.5,0.5,0.5,0.5,0.5,0.5,0.5,0.5,0.5,0.5,0.5,0.5,0.5,0.5,0.5,0.5,0.5,0.5,0.5,0.5,0.5,0.5,0.5,0.5,0.5,0.5,0.5,0.5,0.5,0.5,0.5,0.5,0.5,0.5,0.5,0.5,0.5,0.5,0.5,0.5,0.5,0.5,0.5,0.5,0.5,0.5,0.5,0.5,0.5,0.5,0.5,0.5,0.5,0.5],\"fEXhigh\":[0.5,0.5,0.5,0.5,0.5,0.5,0.5,0.5,0.5,0.5,0.5,0.5,0.5,0.5,0.5,0.5,0.5,0.5,0.5,0.5,0.5,0.5,0.5,0.5,0.5,0.5,0.5,0.5,0.5,0.5,0.5,0.5,0.5,0.5,0.5,0.5,0.5,0.5,0.5,0.5,0.5,0.5,0.5,0.5,0.5,0.5,0.5,0.5,0.5,0.5,0.5,0.5,0.5,0.5,0.5,0.5,0.5,0.5,0.5,0.5,0.5,0.5,0.5,0.5,0.5,0.5,0.5,0.5,0.5,0.5,0.5,0.5,0.5,0.5,0.5,0.5,0.5,0.5,0.5,0.5,0.5,0.5,0.5,0.5,0.5,0.5,0.5,0.5,0.5,0.5,0.5,0.5,0.5,0.5,0.5,0.5,0.5,0.5,0.5,0.5],\"fEYlow\":[0,0.82724622097655,0.82724622097655,1.63270468610957,0,0,1.63270468610957,0.82724622097655,0.82724622097655,0,1.63270468610957,0.82724622097655,0.82724622097655,1.29181456018103,0,1.29181456018103,0.82724622097655,1.91433918622288,0.82724622097655,1.63270468610957,1.29181456018103,1.29181456018103,0,0.82724622097655,1.29181456018103,1.29181456018103,0,0.82724622097655,0,2.37993137929577,1.29181456018103,0,0.82724622097655,0,0.82724622097655,1.91433918622288,0.82724622097655,0,1.91433918622288,1.63270468610957,0,1.29181456018103,1.91433918622288,0.82724622097655,2.37993137929577,2.76838605646272,3.26557940095131,3.41526599430015,3.5586623304375,4.43444798221412,3.69650031882412,2.76838605646272,3.95780102940381,3.41526599430015,2.58147045606626,2.58147045606626,2.76838605646272,1.91433918622288,2.15969114440678,1.91433918622288,0.82724622097655,0.82724622097655,1.91433918622288,1.29181456018103,1.91433918622288,0.82724622097655,2.37993137929577,1.91433918622288,1.29181456018103,1.91433918622288,0.82724622097655,0.82724622097655,2.37993137929577,2.58147045606626,2.37993137929577,2.15969114440678,2.37993137929577,2.58147045606626,2.94346103725076,3.10869443936164,3.10869443936164,2.94346103725076,2.76838605646272,2.15969114440678,1.91433918622288,2.58147045606626,2.58147045606626,0,2.15969114440678,1.63270468610957,1.63270468610957,1.63270468610957,0.82724622097655,0.82724622097655,0,1.29181456018103,0.82724622097655,1.29181456018103,0.82724622097655,1.29181456018103],\"fEYhigh\":[1.14787446444932,2.29952655911586,2.29952655911586,2.9181858328834,1.14787446444932,1.14787446444932,2.9181858328834,2.29952655911586,2.29952655911586,1.14787446444932,2.9181858328834,2.29952655911586,2.29952655911586,2.63785962345524,1.14787446444932,2.63785962345524,2.29952655911586,3.16275317226094,2.29952655911586,2.9181858328834,2.63785962345524,2.63785962345524,1.14787446444932,2.29952655911586,2.63785962345524,2.63785962345524,1.14787446444932,2.29952655911586,1.14787446444932,3.58364154598457,2.63785962345524,1.14787446444932,2.29952655911586,1.14787446444932,2.29952655911586,3.16275317226094,2.29952655911586,1.14787446444932,3.16275317226094,2.9181858328834,1.14787446444932,2.63785962345524,3.16275317226094,2.29952655911586,3.58364154598457,3.94514151986907,4.41652052316603,4.55981905739127,4.69757337260906,5.54651922951146,4.83038075568817,3.94514151986907,5.08306556401624,4.55981905739127,3.77028072043409,3.77028072043409,3.94514151986907,3.16275317226094,3.38247265214689,3.16275317226094,2.29952655911586,2.29952655911586,3.16275317226094,2.63785962345524,3.16275317226094,2.29952655911586,3.58364154598457,3.16275317226094,2.63785962345524,3.16275317226094,2.29952655911586,2.29952655911586,3.58364154598457,3.77028072043409,3.58364154598457,3.38247265214689,3.58364154598457,3.77028072043409,4.11020413766764,4.26694976100939,4.26694976100939,4.11020413766764,3.94514151986907,3.38247265214689,3.16275317226094,3.77028072043409,3.77028072043409,1.14787446444932,3.38247265214689,2.9181858328834,2.9181858328834,2.9181858328834,2.29952655911586,2.29952655911586,1.14787446444932,2.63785962345524,2.29952655911586,2.63785962345524,2.29952655911586,2.63785962345524],\"_yAxisLabel\":\"Events \\/ ( 1 )\",\"_ymin\":0,\"_ymax\":25.5465192295115,\"_normValue\":0,\"_nominalBinWidth\":1,\"_nSigma\":1,\"_entries\":383,\"_rawEntries\":-1},{\"_typename\":\"RooCurve\",\"fUniqueID\":0,\"fBits\":50332680,\"fName\":\"sb_model1_Norm[x]\",\"fTitle\":\"Projection of sb_model1\",\"fLineColor\":600,\"fLineStyle\":1,\"fLineWidth\":3,\"fFillColor\":0,\"fFillStyle\":1000,\"fMarkerColor\":1,\"fMarkerStyle\":1,\"fMarkerSize\":1,\"fNpoints\":137,\"fX\":[-1,-1,0,1,2,3,4,5,6,7,8,9,10,11,12,13,14,15,16,17,18,19,20,21,22,23,24,25,26,27,28,29,30,31,32,33,34,35,36,37,38,39,39.5,40,40.5,41,41.5,42,42.5,43,43.5,44,44.5,45,45.5,46,47,47.5,48,48.25,48.5,48.75,49,49.25,49.5,49.75,50,50.25,50.5,50.75,51,51.25,51.5,51.75,52,52.25,52.5,52.75,53,53.5,54,55,55.5,56,56.5,57,57.5,58,58.5,59,59.5,60,60.5,61,61.5,62,63,64,65,66,67,68,69,70,71,72,73,74,75,76,77,78,79,80,81,82,83,84,85,86,87,88,89,90,91,92,93,94,95,96,97,98,99,100,100,101,101],\"fY\":[0,0.874149498013927,0.874149498013927,0.874149498013927,0.874149498013927,0.874149498013927,0.874149498013927,0.874149498013927,0.874149498013927,0.874149498013927,0.874149498013927,0.874149498013927,0.874149498013927,0.874149498013927,0.874149498013927,0.874149498013927,0.874149498013927,0.874149498013927,0.874149498013927,0.874149498013932,0.87414949801397,0.87414949801425,0.874149498016194,0.874149498028863,0.874149498106375,0.874149498551465,0.874149500950081,0.874149513080157,0.874149570639066,0.874149826885209,0.874150897026181,0.874155088810383,0.87417048656404,0.874223517794084,0.874394725834279,0.874912715444,0.876380928781613,0.880278293772373,0.889962833160837,0.912478578176735,0.961424509257636,1.06083389648872,1.14085888641106,1.24928030468452,1.39359657543949,1.58228119103812,1.82453741390964,2.12989585812699,2.50764182595162,2.96607598521645,3.51163382366442,4.14791452240646,4.87469551663875,5.6870311786867,6.57454841037914,7.52105432851939,9.49778379371623,10.4691939102196,11.3845144485535,11.8101495978294,12.2086595501522,12.5758919569286,12.9079236480486,13.2011301512525,13.4522514195182,13.6584521034833,13.8173748125386,13.9271849664074,13.9866060443059,13.9949442847878,13.9521021680528,13.8585803143793,13.715467747009,13.5244207842818,13.2876311330459,13.0077840426867,12.6880076367204,12.3318147582236,11.9430388394617,11.084261086741,10.1460994823301,8.17031555348208,7.19648804255146,6.26770229002395,5.40402503185427,4.61966633039142,3.92310710408243,3.31760912256792,2.80199886553691,2.37160931093791,2.01927056275484,1.73625770598619,1.51312808546774,1.34040608322371,1.20909781588479,1.11103843125792,0.987212668769496,0.924843215948471,0.895501751778795,0.882598198132528,0.877289953654873,0.875246107570337,0.874509220829475,0.874260349249087,0.87418158801149,0.874158224822036,0.874151727464065,0.874150033066794,0.874149618643064,0.874149523562364,0.874149503097079,0.874149498964003,0.874149498180744,0.874149498041442,0.874149498018191,0.874149498014547,0.874149498014012,0.874149498013938,0.874149498013928,0.874149498013927,0.874149498013927,0.874149498013927,0.874149498013927,0.874149498013927,0.874149498013927,0.874149498013927,0.874149498013927,0.874149498013927,0.874149498013927,0.874149498013927,0.874149498013927,0.874149498013927,0.874149498013927,0.874149498013927,0.874149498013927,0.874149498013927,0],\"fFunctions\":{\"_typename\":\"TList\",\"name\":\"TList\",\"arr\":[],\"opt\":[]},\"fHistogram\":{\"_typename\":\"TH1F\",\"fUniqueID\":0,\"fBits\":50332168,\"fName\":\"sb_model1_Norm[x]\",\"fTitle\":\"Projection of sb_model1\",\"fLineColor\":1,\"fLineStyle\":1,\"fLineWidth\":1,\"fFillColor\":0,\"fFillStyle\":1001,\"fMarkerColor\":1,\"fMarkerStyle\":1,\"fMarkerSize\":1,\"fNcells\":139,\"fXaxis\":{\"_typename\":\"TAxis\",\"fUniqueID\":0,\"fBits\":50331648,\"fName\":\"xaxis\",\"fTitle\":\"\",\"fNdivisions\":510,\"fAxisColor\":1,\"fLabelColor\":1,\"fLabelFont\":62,\"fLabelOffset\":0.005,\"fLabelSize\":0.04,\"fTickLength\":0.03,\"fTitleOffset\":1,\"fTitleSize\":0.04,\"fTitleColor\":1,\"fTitleFont\":62,\"fNbins\":137,\"fXmin\":-11.2,\"fXmax\":111.2,\"fXbins\":[],\"fFirst\":0,\"fLast\":0,\"fBits2\":0,\"fTimeDisplay\":false,\"fTimeFormat\":\"\",\"fLabels\":null,\"fModLabs\":null},\"fYaxis\":{\"_typename\":\"TAxis\",\"fUniqueID\":0,\"fBits\":50331648,\"fName\":\"yaxis\",\"fTitle\":\"\",\"fNdivisions\":510,\"fAxisColor\":1,\"fLabelColor\":1,\"fLabelFont\":62,\"fLabelOffset\":0.005,\"fLabelSize\":0.04,\"fTickLength\":0.03,\"fTitleOffset\":1,\"fTitleSize\":0.04,\"fTitleColor\":1,\"fTitleFont\":62,\"fNbins\":1,\"fXmin\":0,\"fXmax\":15.3944387132666,\"fXbins\":[],\"fFirst\":0,\"fLast\":0,\"fBits2\":0,\"fTimeDisplay\":false,\"fTimeFormat\":\"\",\"fLabels\":null,\"fModLabs\":null},\"fZaxis\":{\"_typename\":\"TAxis\",\"fUniqueID\":0,\"fBits\":50331648,\"fName\":\"zaxis\",\"fTitle\":\"\",\"fNdivisions\":510,\"fAxisColor\":1,\"fLabelColor\":1,\"fLabelFont\":62,\"fLabelOffset\":0.005,\"fLabelSize\":0.04,\"fTickLength\":0.03,\"fTitleOffset\":1,\"fTitleSize\":0.04,\"fTitleColor\":1,\"fTitleFont\":62,\"fNbins\":1,\"fXmin\":0,\"fXmax\":1,\"fXbins\":[],\"fFirst\":0,\"fLast\":0,\"fBits2\":0,\"fTimeDisplay\":false,\"fTimeFormat\":\"\",\"fLabels\":null,\"fModLabs\":null},\"fBarOffset\":0,\"fBarWidth\":1000,\"fEntries\":0,\"fTsumw\":0,\"fTsumw2\":0,\"fTsumwx\":0,\"fTsumwx2\":0,\"fMaximum\":15.3944387132666,\"fMinimum\":0,\"fNormFactor\":0,\"fContour\":[],\"fSumw2\":[],\"fOption\":\"\",\"fFunctions\":{\"_typename\":\"TList\",\"name\":\"TList\",\"arr\":[],\"opt\":[]},\"fBufferSize\":0,\"fBuffer\":[],\"fBinStatErrOpt\":0,\"fStatOverflows\":2,\"fArray\":[0,0,0,0,0,0,0,0,0,0,0,0,0,0,0,0,0,0,0,0,0,0,0,0,0,0,0,0,0,0,0,0,0,0,0,0,0,0,0,0,0,0,0,0,0,0,0,0,0,0,0,0,0,0,0,0,0,0,0,0,0,0,0,0,0,0,0,0,0,0,0,0,0,0,0,0,0,0,0,0,0,0,0,0,0,0,0,0,0,0,0,0,0,0,0,0,0,0,0,0,0,0,0,0,0,0,0,0,0,0,0,0,0,0,0,0,0,0,0,0,0,0,0,0,0,0,0,0,0,0,0,0,0,0,0,0,0,0,0]},\"fMinimum\":-1111,\"fMaximum\":-1111,\"_yAxisLabel\":\"Projection of sb_model1\",\"_ymin\":0,\"_ymax\":13.9949442847878,\"_normValue\":0},{\"_typename\":\"RooCurve\",\"fUniqueID\":0,\"fBits\":50332680,\"fName\":\"sb_model2_Norm[x]\",\"fTitle\":\"Projection of sb_model2\",\"fLineColor\":600,\"fLineStyle\":1,\"fLineWidth\":3,\"fFillColor\":0,\"fFillStyle\":1000,\"fMarkerColor\":1,\"fMarkerStyle\":1,\"fMarkerSize\":1,\"fNpoints\":136,\"fX\":[-1,-1,0,1,2,3,4,5,6,7,8,9,10,11,12,13,14,15,16,17,18,19,20,21,22,23,24,25,26,27,28,29,30,31,32,33,34,35,36,37,38,39,40,41,42,43,44,45,46,47,48,49,50,51,52,53,54,55,56,57,58,59,60,61,62,63,64,65,66,67,67.5,68,68.5,69,69.5,70,70.5,71,71.5,72,72.5,73,73.5,74,75,76,76.5,77,77.5,78,78.25,78.5,78.75,79,79.25,79.5,79.75,80,80.25,80.5,80.75,81,81.25,81.5,81.75,82,82.5,83,83.5,84,85,86,86.5,87,87.5,88,88.5,89,89.5,90,90.5,91,91.5,92,92.5,93,94,95,96,97,98,99,100,100,101,101],\"fY\":[0,0.675723381447868,0.675723381447868,0.675723381447868,0.675723381447868,0.675723381447868,0.675723381447868,0.675723381447868,0.675723381447868,0.675723381447868,0.675723381447868,0.675723381447868,0.675723381447868,0.675723381447868,0.675723381447868,0.675723381447868,0.675723381447868,0.675723381447868,0.675723381447868,0.675723381447868,0.675723381447868,0.675723381447868,0.675723381447868,0.675723381447868,0.675723381447868,0.675723381447868,0.675723381447868,0.675723381447868,0.675723381447868,0.675723381447868,0.675723381447868,0.675723381447868,0.675723381447868,0.675723381447868,0.675723381447868,0.675723381447868,0.675723381447868,0.675723381447868,0.675723381447869,0.675723381447869,0.675723381447873,0.675723381447892,0.675723381447987,0.675723381448443,0.675723381450534,0.675723381459754,0.675723381498793,0.675723381657503,0.675723382277008,0.675723384598665,0.675723392951674,0.675723421802271,0.675723517457146,0.675723821875307,0.675724751725041,0.675727477549265,0.675735145615262,0.675755843794656,0.67580944650295,0.675942612470605,0.676259925505711,0.676985025921733,0.6785737223885,0.681910448925436,0.688626690965973,0.701578444322792,0.725499187567598,0.767793611182276,0.839347896414993,0.955110088059067,1.03536505016035,1.13406714351174,1.2540453649645,1.39816895193755,1.56922968180333,1.76979854907593,2.00205999289204,2.26762934577168,2.56736176233247,2.90116332933683,3.26781708570412,3.66483801053332,4.08837140552344,4.53314829610709,5.45850567868156,6.37332350448414,6.80181129284095,7.19698373198476,7.54857406112759,7.84704719578666,7.97369115219215,8.08402768121597,8.17725507529621,8.25268954599736,8.30977357458122,8.34808277335395,8.367331139676,8.36737461164829,8.34821286363823,8.3099893103417,8.25298931930995,8.17763666310545,8.08448827278743,7.97422738358601,7.84765519076134,7.70568115817105,7.37964052171412,7.0051098500509,6.59204324412555,6.1509075568854,5.22627527960298,4.30949502569975,3.87454479287117,3.46363763460409,3.08133706396146,2.73080660285076,2.41388436424866,2.1312080512951,1.88237619339205,1.66613124134361,1.48055102064163,1.32323675364333,1.19148813064289,1.08245845672981,0.993285470895075,0.921195816537666,0.818061773838384,0.755022726942795,0.718170222000757,0.697553161388402,0.686509906743349,0.680844230750679,0.678059154509958,0.678059154509958,0.678059154509958,0],\"fFunctions\":{\"_typename\":\"TList\",\"name\":\"TList\",\"arr\":[],\"opt\":[]},\"fHistogram\":{\"_typename\":\"TH1F\",\"fUniqueID\":0,\"fBits\":50332168,\"fName\":\"sb_model2_Norm[x]\",\"fTitle\":\"Projection of sb_model2\",\"fLineColor\":1,\"fLineStyle\":1,\"fLineWidth\":1,\"fFillColor\":0,\"fFillStyle\":1001,\"fMarkerColor\":1,\"fMarkerStyle\":1,\"fMarkerSize\":1,\"fNcells\":138,\"fXaxis\":{\"_typename\":\"TAxis\",\"fUniqueID\":0,\"fBits\":50331648,\"fName\":\"xaxis\",\"fTitle\":\"\",\"fNdivisions\":510,\"fAxisColor\":1,\"fLabelColor\":1,\"fLabelFont\":62,\"fLabelOffset\":0.005,\"fLabelSize\":0.04,\"fTickLength\":0.03,\"fTitleOffset\":1,\"fTitleSize\":0.04,\"fTitleColor\":1,\"fTitleFont\":62,\"fNbins\":136,\"fXmin\":-11.2,\"fXmax\":111.2,\"fXbins\":[],\"fFirst\":0,\"fLast\":0,\"fBits2\":0,\"fTimeDisplay\":false,\"fTimeFormat\":\"\",\"fLabels\":null,\"fModLabs\":null},\"fYaxis\":{\"_typename\":\"TAxis\",\"fUniqueID\":0,\"fBits\":50331648,\"fName\":\"yaxis\",\"fTitle\":\"\",\"fNdivisions\":510,\"fAxisColor\":1,\"fLabelColor\":1,\"fLabelFont\":62,\"fLabelOffset\":0.005,\"fLabelSize\":0.04,\"fTickLength\":0.03,\"fTitleOffset\":1,\"fTitleSize\":0.04,\"fTitleColor\":1,\"fTitleFont\":62,\"fNbins\":1,\"fXmin\":0,\"fXmax\":9.20411207281311,\"fXbins\":[],\"fFirst\":0,\"fLast\":0,\"fBits2\":0,\"fTimeDisplay\":false,\"fTimeFormat\":\"\",\"fLabels\":null,\"fModLabs\":null},\"fZaxis\":{\"_typename\":\"TAxis\",\"fUniqueID\":0,\"fBits\":50331648,\"fName\":\"zaxis\",\"fTitle\":\"\",\"fNdivisions\":510,\"fAxisColor\":1,\"fLabelColor\":1,\"fLabelFont\":62,\"fLabelOffset\":0.005,\"fLabelSize\":0.04,\"fTickLength\":0.03,\"fTitleOffset\":1,\"fTitleSize\":0.04,\"fTitleColor\":1,\"fTitleFont\":62,\"fNbins\":1,\"fXmin\":0,\"fXmax\":1,\"fXbins\":[],\"fFirst\":0,\"fLast\":0,\"fBits2\":0,\"fTimeDisplay\":false,\"fTimeFormat\":\"\",\"fLabels\":null,\"fModLabs\":null},\"fBarOffset\":0,\"fBarWidth\":1000,\"fEntries\":0,\"fTsumw\":0,\"fTsumw2\":0,\"fTsumwx\":0,\"fTsumwx2\":0,\"fMaximum\":9.20411207281311,\"fMinimum\":0,\"fNormFactor\":0,\"fContour\":[],\"fSumw2\":[],\"fOption\":\"\",\"fFunctions\":{\"_typename\":\"TList\",\"name\":\"TList\",\"arr\":[],\"opt\":[]},\"fBufferSize\":0,\"fBuffer\":[],\"fBinStatErrOpt\":0,\"fStatOverflows\":2,\"fArray\":[0,0,0,0,0,0,0,0,0,0,0,0,0,0,0,0,0,0,0,0,0,0,0,0,0,0,0,0,0,0,0,0,0,0,0,0,0,0,0,0,0,0,0,0,0,0,0,0,0,0,0,0,0,0,0,0,0,0,0,0,0,0,0,0,0,0,0,0,0,0,0,0,0,0,0,0,0,0,0,0,0,0,0,0,0,0,0,0,0,0,0,0,0,0,0,0,0,0,0,0,0,0,0,0,0,0,0,0,0,0,0,0,0,0,0,0,0,0,0,0,0,0,0,0,0,0,0,0,0,0,0,0,0,0,0,0,0,0]},\"fMinimum\":-1111,\"fMaximum\":-1111,\"_yAxisLabel\":\"Projection of sb_model2\",\"_ymin\":0,\"_ymax\":8.36737461164829,\"_normValue\":0},{\"$ref\":3},{\"_typename\":\"TPaveText\",\"fUniqueID\":0,\"fBits\":50331657,\"fLineColor\":1,\"fLineStyle\":1,\"fLineWidth\":1,\"fFillColor\":0,\"fFillStyle\":1001,\"fX1\":-11.2500009406359,\"fY1\":28.3326868651993,\"fX2\":22.1408041546271,\"fY2\":30.0091772146177,\"fX1NDC\":0.00999999977648258,\"fY1NDC\":0.945000004768372,\"fX2NDC\":0.277126436558092,\"fY2NDC\":0.995000004768372,\"fBorderSize\":1,\"fInit\":1,\"fShadowColor\":1,\"fCornerRadius\":0,\"fOption\":\"blNDC\",\"fName\":\"title\",\"fTextAngle\":0,\"fTextSize\":0,\"fTextAlign\":22,\"fTextColor\":1,\"fTextFont\":62,\"fLabel\":\"\",\"fLongest\":16,\"fMargin\":0.05,\"fLines\":{\"_typename\":\"TList\",\"name\":\"TList\",\"arr\":[{\"_typename\":\"TLatex\",\"fUniqueID\":0,\"fBits\":50331648,\"fName\":\"\",\"fTitle\":\"A RooPlot of \\\"x\\\"\",\"fTextAngle\":0,\"fTextSize\":0,\"fTextAlign\":0,\"fTextColor\":0,\"fTextFont\":0,\"fX\":0,\"fY\":0,\"fLineColor\":1,\"fLineStyle\":1,\"fLineWidth\":2,\"fLimitFactorSize\":3,\"fOriginSize\":0.0425000004470348}],\"opt\":[\"\"]}}],\"opt\":[\"\",\"FUNC\",\"p\",\"l\",\"l\",\"AXISSAME\",\"blNDC\"]},\"fExecs\":null,\"fName\":\"c1\",\"fTitle\":\"c1\",\"fNumPaletteColor\":0,\"fNextPaletteColor\":0,\"fDISPLAY\":\"$DISPLAY\",\"fDoubleBuffer\":0,\"fRetained\":true,\"fXsizeUser\":0,\"fYsizeUser\":0,\"fXsizeReal\":20,\"fYsizeReal\":14.28571,\"fWindowTopX\":0,\"fWindowTopY\":0,\"fWindowWidth\":0,\"fWindowHeight\":0,\"fCw\":696,\"fCh\":472,\"fCatt\":{\"_typename\":\"TAttCanvas\",\"fXBetween\":2,\"fYBetween\":2,\"fTitleFromTop\":1.2,\"fXdate\":0.2,\"fYdate\":0.3,\"fAdate\":1},\"kMoveOpaque\":true,\"kResizeOpaque\":true,\"fHighLightColor\":2,\"fBatch\":true,\"kShowEventStatus\":false,\"kAutoExec\":true,\"kMenuBar\":true});\n",
       "       Core.draw(\"root_plot_1\", obj, \"\");\n",
       "     }\n",
       " );\n",
       "</script>\n"
      ],
      "text/plain": [
       "<IPython.core.display.HTML object>"
      ]
     },
     "metadata": {},
     "output_type": "display_data"
    }
   ],
   "source": [
    "%jsroot on\n",
    "gROOT->GetListOfCanvases()->Draw()"
   ]
  }
 ],
 "metadata": {
  "kernelspec": {
   "display_name": "ROOT C++",
   "language": "c++",
   "name": "root"
  },
  "language_info": {
   "codemirror_mode": "text/x-c++src",
   "file_extension": ".C",
   "mimetype": " text/x-c++src",
   "name": "c++"
  }
 },
 "nbformat": 4,
 "nbformat_minor": 2
}
