{
 "cells": [
  {
   "cell_type": "markdown",
   "metadata": {},
   "source": [
    "# Rf 7 0 8_Bphysics\n",
    "\n",
    "Special p.d.f.'s: special decay pdf for B physics with mixing and/or CP violation\n",
    "\n",
    "\n",
    "\n",
    "\n",
    "**Author:** Clemens Lange, Wouter Verkerke (C++ version)  \n",
    "<i><small>This notebook tutorial was automatically generated with <a href= \"https://github.com/root-project/root/blob/master/documentation/doxygen/converttonotebook.py\">ROOTBOOK-izer</a> from the macro found in the ROOT repository  on Thursday, August 29, 2019 at 03:03 AM.</small></i>"
   ]
  },
  {
   "cell_type": "code",
   "execution_count": 1,
   "metadata": {
    "collapsed": false
   },
   "outputs": [
    {
     "name": "stdout",
     "output_type": "stream",
     "text": [
      "Welcome to JupyROOT 6.18/03\n"
     ]
    }
   ],
   "source": [
    "import ROOT"
   ]
  },
  {
   "cell_type": "markdown",
   "metadata": {},
   "source": [
    "B-decay with mixing\n",
    "-------------------------"
   ]
  },
  {
   "cell_type": "markdown",
   "metadata": {},
   "source": [
    "Construct pdf\n",
    "-------------------------"
   ]
  },
  {
   "cell_type": "markdown",
   "metadata": {},
   "source": [
    "Observable"
   ]
  },
  {
   "cell_type": "code",
   "execution_count": 2,
   "metadata": {
    "collapsed": false
   },
   "outputs": [
    {
     "name": "stdout",
     "output_type": "stream",
     "text": [
      "\n",
      "\u001b[1mRooFit v3.60 -- Developed by Wouter Verkerke and David Kirkby\u001b[0m \n",
      "                Copyright (C) 2000-2013 NIKHEF, University of California & Stanford University\n",
      "                All rights reserved, please read http://roofit.sourceforge.net/license.txt\n",
      "\n"
     ]
    }
   ],
   "source": [
    "dt = ROOT.RooRealVar(\"dt\", \"dt\", -10, 10)\n",
    "dt.setBins(40)"
   ]
  },
  {
   "cell_type": "markdown",
   "metadata": {},
   "source": [
    "Parameters"
   ]
  },
  {
   "cell_type": "code",
   "execution_count": 3,
   "metadata": {
    "collapsed": false
   },
   "outputs": [
    {
     "data": {
      "text/plain": [
       "False"
      ]
     },
     "execution_count": 3,
     "metadata": {},
     "output_type": "execute_result"
    }
   ],
   "source": [
    "dm = ROOT.RooRealVar(\"dm\", \"delta m(B0)\", 0.472)\n",
    "tau = ROOT.RooRealVar(\"tau\", \"tau (B0)\", 1.547)\n",
    "w = ROOT.RooRealVar(\"w\", \"flavour mistag rate\", 0.1)\n",
    "dw = ROOT.RooRealVar(\"dw\", \"delta mistag rate for B0/B0bar\", 0.1)\n",
    "\n",
    "mixState = ROOT.RooCategory(\"mixState\", \"B0/B0bar mixing state\")\n",
    "mixState.defineType(\"mixed\", -1)\n",
    "mixState.defineType(\"unmixed\", 1)\n",
    "\n",
    "tagFlav = ROOT.RooCategory(\"tagFlav\", \"Flavour of the tagged B0\")\n",
    "tagFlav.defineType(\"B0\", 1)\n",
    "tagFlav.defineType(\"B0bar\", -1)"
   ]
  },
  {
   "cell_type": "markdown",
   "metadata": {},
   "source": [
    "Use delta function resolution model"
   ]
  },
  {
   "cell_type": "code",
   "execution_count": 4,
   "metadata": {
    "collapsed": false
   },
   "outputs": [],
   "source": [
    "tm = ROOT.RooTruthModel(\"tm\", \"truth model\", dt)"
   ]
  },
  {
   "cell_type": "markdown",
   "metadata": {},
   "source": [
    "Construct Bdecay with mixing"
   ]
  },
  {
   "cell_type": "code",
   "execution_count": 5,
   "metadata": {
    "collapsed": false
   },
   "outputs": [],
   "source": [
    "bmix = ROOT.RooBMixDecay(\n",
    "    \"bmix\",\n",
    "    \"decay\",\n",
    "    dt,\n",
    "    mixState,\n",
    "    tagFlav,\n",
    "    tau,\n",
    "    dm,\n",
    "    w,\n",
    "    dw,\n",
    "    tm,\n",
    "    ROOT.RooBMixDecay.DoubleSided)"
   ]
  },
  {
   "cell_type": "markdown",
   "metadata": {},
   "source": [
    "Plot pdf in various slices\n",
    "---------------------------------------------------"
   ]
  },
  {
   "cell_type": "markdown",
   "metadata": {},
   "source": [
    "Generate some data"
   ]
  },
  {
   "cell_type": "code",
   "execution_count": 6,
   "metadata": {
    "collapsed": false
   },
   "outputs": [],
   "source": [
    "data = bmix.generate(ROOT.RooArgSet(dt, mixState, tagFlav), 10000)"
   ]
  },
  {
   "cell_type": "markdown",
   "metadata": {},
   "source": [
    "Plot B0 and B0bar tagged data separately\n",
    "For all plots below B0 and B0 tagged data will look somewhat differently\n",
    "if the flavor tagging mistag rate for B0 and B0 is different (i.e. dw!=0)"
   ]
  },
  {
   "cell_type": "code",
   "execution_count": 7,
   "metadata": {
    "collapsed": false
   },
   "outputs": [
    {
     "data": {
      "text/plain": [
       "<ROOT.RooPlot object (\"frame_dt_55869cd83e60\") at 0x55869cd83e60>"
      ]
     },
     "execution_count": 7,
     "metadata": {},
     "output_type": "execute_result"
    },
    {
     "name": "stdout",
     "output_type": "stream",
     "text": [
      "[#1] INFO:Plotting -- RooTreeData::plotOn: plotting 4542 events out of 10000 total events\n",
      "[#1] INFO:Plotting -- RooAbsReal::plotOn(bmix) plot on dt represents a slice in (tagFlav)\n",
      "[#1] INFO:Plotting -- RooAbsReal::plotOn(bmix) plot on dt integrates over variables (mixState)\n",
      "[#1] INFO:Plotting -- RooTreeData::plotOn: plotting 5458 events out of 10000 total events\n",
      "[#1] INFO:Plotting -- RooAbsReal::plotOn(bmix) plot on dt represents a slice in (tagFlav)\n",
      "[#1] INFO:Plotting -- RooAbsReal::plotOn(bmix) plot on dt integrates over variables (mixState)\n"
     ]
    }
   ],
   "source": [
    "frame1 = dt.frame(ROOT.RooFit.Title(\n",
    "    \"B decay distribution with mixing (B0/B0bar)\"))\n",
    "\n",
    "data.plotOn(frame1, ROOT.RooFit.Cut(\"tagFlav==tagFlav::B0\"))\n",
    "bmix.plotOn(frame1, ROOT.RooFit.Slice(tagFlav, \"B0\"))\n",
    "\n",
    "data.plotOn(frame1, ROOT.RooFit.Cut(\"tagFlav==tagFlav::B0bar\"),\n",
    "            ROOT.RooFit.MarkerColor(ROOT.kCyan))\n",
    "bmix.plotOn(frame1, ROOT.RooFit.Slice(tagFlav, \"B0bar\"),\n",
    "            ROOT.RooFit.LineColor(ROOT.kCyan))"
   ]
  },
  {
   "cell_type": "markdown",
   "metadata": {},
   "source": [
    "Plot mixed slice for B0 and B0bar tagged data separately"
   ]
  },
  {
   "cell_type": "code",
   "execution_count": 8,
   "metadata": {
    "collapsed": false
   },
   "outputs": [
    {
     "data": {
      "text/plain": [
       "<ROOT.RooPlot object (\"frame_dt_55869cddc480\") at 0x55869cddc480>"
      ]
     },
     "execution_count": 8,
     "metadata": {},
     "output_type": "execute_result"
    },
    {
     "name": "stdout",
     "output_type": "stream",
     "text": [
      "[#1] INFO:Plotting -- RooTreeData::plotOn: plotting 933 events out of 10000 total events\n",
      "[#1] INFO:Plotting -- RooAbsReal::plotOn(bmix) plot on dt represents a slice in (mixState,tagFlav)\n",
      "[#1] INFO:Plotting -- RooTreeData::plotOn: plotting 1461 events out of 10000 total events\n",
      "[#1] INFO:Plotting -- RooAbsReal::plotOn(bmix) plot on dt represents a slice in (mixState,tagFlav)\n"
     ]
    }
   ],
   "source": [
    "frame2 = dt.frame(ROOT.RooFit.Title(\n",
    "    \"B decay distribution of mixed events (B0/B0bar)\"))\n",
    "\n",
    "data.plotOn(frame2, ROOT.RooFit.Cut(\n",
    "    \"mixState==mixState::mixed&&tagFlav==tagFlav::B0\"))\n",
    "bmix.plotOn(frame2, ROOT.RooFit.Slice(tagFlav, \"B0\"),\n",
    "            ROOT.RooFit.Slice(mixState, \"mixed\"))\n",
    "\n",
    "data.plotOn(\n",
    "    frame2,\n",
    "    ROOT.RooFit.Cut(\"mixState==mixState::mixed&&tagFlav==tagFlav::B0bar\"),\n",
    "    ROOT.RooFit.MarkerColor(\n",
    "        ROOT.kCyan))\n",
    "bmix.plotOn(frame2, ROOT.RooFit.Slice(tagFlav, \"B0bar\"), ROOT.RooFit.Slice(\n",
    "    mixState, \"mixed\"), ROOT.RooFit.LineColor(ROOT.kCyan))"
   ]
  },
  {
   "cell_type": "markdown",
   "metadata": {},
   "source": [
    "Plot unmixed slice for B0 and B0bar tagged data separately"
   ]
  },
  {
   "cell_type": "code",
   "execution_count": 9,
   "metadata": {
    "collapsed": false
   },
   "outputs": [
    {
     "data": {
      "text/plain": [
       "<ROOT.RooPlot object (\"frame_dt_55869ce9df70\") at 0x55869ce9df70>"
      ]
     },
     "execution_count": 9,
     "metadata": {},
     "output_type": "execute_result"
    },
    {
     "name": "stdout",
     "output_type": "stream",
     "text": [
      "[#1] INFO:Plotting -- RooTreeData::plotOn: plotting 3609 events out of 10000 total events\n",
      "[#1] INFO:Plotting -- RooAbsReal::plotOn(bmix) plot on dt represents a slice in (mixState,tagFlav)\n",
      "[#1] INFO:Plotting -- RooTreeData::plotOn: plotting 3997 events out of 10000 total events\n",
      "[#1] INFO:Plotting -- RooAbsReal::plotOn(bmix) plot on dt represents a slice in (mixState,tagFlav)\n"
     ]
    }
   ],
   "source": [
    "frame3 = dt.frame(ROOT.RooFit.Title(\n",
    "    \"B decay distribution of unmixed events (B0/B0bar)\"))\n",
    "\n",
    "data.plotOn(frame3, ROOT.RooFit.Cut(\n",
    "    \"mixState==mixState::unmixed&&tagFlav==tagFlav::B0\"))\n",
    "bmix.plotOn(frame3, ROOT.RooFit.Slice(tagFlav, \"B0\"),\n",
    "            ROOT.RooFit.Slice(mixState, \"unmixed\"))\n",
    "\n",
    "data.plotOn(\n",
    "    frame3,\n",
    "    ROOT.RooFit.Cut(\"mixState==mixState::unmixed&&tagFlav==tagFlav::B0bar\"),\n",
    "    ROOT.RooFit.MarkerColor(\n",
    "        ROOT.kCyan))\n",
    "bmix.plotOn(frame3, ROOT.RooFit.Slice(tagFlav, \"B0bar\"), ROOT.RooFit.Slice(\n",
    "    mixState, \"unmixed\"), ROOT.RooFit.LineColor(ROOT.kCyan))"
   ]
  },
  {
   "cell_type": "markdown",
   "metadata": {},
   "source": [
    "B-decay with CP violation\n",
    "-------------------------"
   ]
  },
  {
   "cell_type": "markdown",
   "metadata": {},
   "source": [
    "Construct pdf\n",
    "-------------------------"
   ]
  },
  {
   "cell_type": "markdown",
   "metadata": {},
   "source": [
    "Additional parameters needed for B decay with CPV"
   ]
  },
  {
   "cell_type": "code",
   "execution_count": 10,
   "metadata": {
    "collapsed": false
   },
   "outputs": [],
   "source": [
    "CPeigen = ROOT.RooRealVar(\"CPeigen\", \"CP eigen value\", -1)\n",
    "absLambda = ROOT.RooRealVar(\"absLambda\", \"|lambda|\", 1, 0, 2)\n",
    "argLambda = ROOT.RooRealVar(\"absLambda\", \"|lambda|\", 0.7, -1, 1)\n",
    "effR = ROOT.RooRealVar(\"effR\", \"B0/B0bar reco efficiency ratio\", 1)"
   ]
  },
  {
   "cell_type": "markdown",
   "metadata": {},
   "source": [
    "Construct Bdecay with CP violation"
   ]
  },
  {
   "cell_type": "code",
   "execution_count": 11,
   "metadata": {
    "collapsed": false
   },
   "outputs": [],
   "source": [
    "bcp = ROOT.RooBCPEffDecay(\n",
    "    \"bcp\",\n",
    "    \"bcp\",\n",
    "    dt,\n",
    "    tagFlav,\n",
    "    tau,\n",
    "    dm,\n",
    "    w,\n",
    "    CPeigen,\n",
    "    absLambda,\n",
    "    argLambda,\n",
    "    effR,\n",
    "    dw,\n",
    "    tm,\n",
    "    ROOT.RooBCPEffDecay.DoubleSided)"
   ]
  },
  {
   "cell_type": "markdown",
   "metadata": {},
   "source": [
    "Plot scenario 1 - sin(2b)=0.7, |l|=1\n",
    "---------------------------------------------------------------------------"
   ]
  },
  {
   "cell_type": "markdown",
   "metadata": {},
   "source": [
    "Generate some data"
   ]
  },
  {
   "cell_type": "code",
   "execution_count": 12,
   "metadata": {
    "collapsed": false
   },
   "outputs": [],
   "source": [
    "data2 = bcp.generate(ROOT.RooArgSet(dt, tagFlav), 10000)"
   ]
  },
  {
   "cell_type": "markdown",
   "metadata": {},
   "source": [
    "Plot B0 and B0bar tagged data separately"
   ]
  },
  {
   "cell_type": "code",
   "execution_count": 13,
   "metadata": {
    "collapsed": false
   },
   "outputs": [
    {
     "data": {
      "text/plain": [
       "<ROOT.RooPlot object (\"frame_dt_55869c5efea0\") at 0x55869c5efea0>"
      ]
     },
     "execution_count": 13,
     "metadata": {},
     "output_type": "execute_result"
    },
    {
     "name": "stdout",
     "output_type": "stream",
     "text": [
      "[#1] INFO:Plotting -- RooTreeData::plotOn: plotting 4495 events out of 10000 total events\n",
      "[#1] INFO:Plotting -- RooAbsReal::plotOn(bcp) plot on dt represents a slice in (tagFlav)\n",
      "[#1] INFO:Plotting -- RooTreeData::plotOn: plotting 5505 events out of 10000 total events\n",
      "[#1] INFO:Plotting -- RooAbsReal::plotOn(bcp) plot on dt represents a slice in (tagFlav)\n"
     ]
    }
   ],
   "source": [
    "frame4 = dt.frame(ROOT.RooFit.Title(\n",
    "    \"B decay distribution with CPV(|l|=1,Im(l)=0.7) (B0/B0bar)\"))\n",
    "\n",
    "data2.plotOn(frame4, ROOT.RooFit.Cut(\"tagFlav==tagFlav::B0\"))\n",
    "bcp.plotOn(frame4, ROOT.RooFit.Slice(tagFlav, \"B0\"))\n",
    "\n",
    "data2.plotOn(frame4, ROOT.RooFit.Cut(\"tagFlav==tagFlav::B0bar\"),\n",
    "             ROOT.RooFit.MarkerColor(ROOT.kCyan))\n",
    "bcp.plotOn(frame4, ROOT.RooFit.Slice(tagFlav, \"B0bar\"),\n",
    "           ROOT.RooFit.LineColor(ROOT.kCyan))"
   ]
  },
  {
   "cell_type": "markdown",
   "metadata": {},
   "source": [
    "# Plot scenario 2 - sin(2b)=0.7, |l|=0.7\n",
    "-------------------------------------------------------------------------------"
   ]
  },
  {
   "cell_type": "code",
   "execution_count": 14,
   "metadata": {
    "collapsed": false
   },
   "outputs": [],
   "source": [
    "absLambda.setVal(0.7)"
   ]
  },
  {
   "cell_type": "markdown",
   "metadata": {},
   "source": [
    "Generate some data"
   ]
  },
  {
   "cell_type": "code",
   "execution_count": 15,
   "metadata": {
    "collapsed": false
   },
   "outputs": [],
   "source": [
    "data3 = bcp.generate(ROOT.RooArgSet(dt, tagFlav), 10000)"
   ]
  },
  {
   "cell_type": "markdown",
   "metadata": {},
   "source": [
    "Plot B0 and B0bar tagged data separately (sin2b = 0.7 plus direct CPV\n",
    "|l|=0.5)"
   ]
  },
  {
   "cell_type": "code",
   "execution_count": 16,
   "metadata": {
    "collapsed": false
   },
   "outputs": [
    {
     "data": {
      "text/plain": [
       "<ROOT.RooPlot object (\"frame_dt_55869cee2530\") at 0x55869cee2530>"
      ]
     },
     "execution_count": 16,
     "metadata": {},
     "output_type": "execute_result"
    },
    {
     "name": "stdout",
     "output_type": "stream",
     "text": [
      "[#1] INFO:Plotting -- RooTreeData::plotOn: plotting 3617 events out of 10000 total events\n",
      "[#1] INFO:Plotting -- RooAbsReal::plotOn(bcp) plot on dt represents a slice in (tagFlav)\n",
      "[#1] INFO:Plotting -- RooTreeData::plotOn: plotting 6383 events out of 10000 total events\n",
      "[#1] INFO:Plotting -- RooAbsReal::plotOn(bcp) plot on dt represents a slice in (tagFlav)\n"
     ]
    }
   ],
   "source": [
    "frame5 = dt.frame(ROOT.RooFit.Title(\n",
    "    \"B decay distribution with CPV(|l|=0.7,Im(l)=0.7) (B0/B0bar)\"))\n",
    "\n",
    "data3.plotOn(frame5, ROOT.RooFit.Cut(\"tagFlav==tagFlav::B0\"))\n",
    "bcp.plotOn(frame5, ROOT.RooFit.Slice(tagFlav, \"B0\"))\n",
    "\n",
    "data3.plotOn(frame5, ROOT.RooFit.Cut(\"tagFlav==tagFlav::B0bar\"),\n",
    "             ROOT.RooFit.MarkerColor(ROOT.kCyan))\n",
    "bcp.plotOn(frame5, ROOT.RooFit.Slice(tagFlav, \"B0bar\"),\n",
    "           ROOT.RooFit.LineColor(ROOT.kCyan))"
   ]
  },
  {
   "cell_type": "markdown",
   "metadata": {},
   "source": [
    "Generic B-decay with user coefficients\n",
    "-------------------------"
   ]
  },
  {
   "cell_type": "markdown",
   "metadata": {},
   "source": [
    "Construct pdf\n",
    "-------------------------"
   ]
  },
  {
   "cell_type": "markdown",
   "metadata": {},
   "source": [
    "Model parameters"
   ]
  },
  {
   "cell_type": "code",
   "execution_count": 17,
   "metadata": {
    "collapsed": false
   },
   "outputs": [],
   "source": [
    "DGbG = ROOT.RooRealVar(\"DGbG\", \"DGamma/GammaAvg\", 0.5, -1, 1)\n",
    "Adir = ROOT.RooRealVar(\"Adir\", \"-[1-abs(l)**2]/[1+abs(l)**2]\", 0)\n",
    "Amix = ROOT.RooRealVar(\"Amix\", \"2Im(l)/[1+abs(l)**2]\", 0.7)\n",
    "Adel = ROOT.RooRealVar(\"Adel\", \"2Re(l)/[1+abs(l)**2]\", 0.7)"
   ]
  },
  {
   "cell_type": "markdown",
   "metadata": {},
   "source": [
    "Derived input parameters for pdf"
   ]
  },
  {
   "cell_type": "code",
   "execution_count": 18,
   "metadata": {
    "collapsed": false
   },
   "outputs": [],
   "source": [
    "DG = ROOT.RooFormulaVar(\"DG\", \"Delta Gamma\", \"@1/@0\",\n",
    "                        ROOT.RooArgList(tau, DGbG))"
   ]
  },
  {
   "cell_type": "markdown",
   "metadata": {},
   "source": [
    "Construct coefficient functions for sin,cos, modulations of decay\n",
    "distribution"
   ]
  },
  {
   "cell_type": "code",
   "execution_count": 19,
   "metadata": {
    "collapsed": false
   },
   "outputs": [],
   "source": [
    "fsin = ROOT.RooFormulaVar(\n",
    "    \"fsin\", \"fsin\", \"@0*@1*(1-2*@2)\", ROOT.RooArgList(Amix, tagFlav, w))\n",
    "fcos = ROOT.RooFormulaVar(\n",
    "    \"fcos\", \"fcos\", \"@0*@1*(1-2*@2)\", ROOT.RooArgList(Adir, tagFlav, w))\n",
    "fsinh = ROOT.RooFormulaVar(\"fsinh\", \"fsinh\", \"@0\", ROOT.RooArgList(Adel))"
   ]
  },
  {
   "cell_type": "markdown",
   "metadata": {},
   "source": [
    "Construct generic B decay pdf using above user coefficients"
   ]
  },
  {
   "cell_type": "code",
   "execution_count": 20,
   "metadata": {
    "collapsed": false
   },
   "outputs": [],
   "source": [
    "bcpg = ROOT.RooBDecay(\"bcpg\", \"bcpg\", dt, tau, DG, ROOT.RooFit.RooConst(\n",
    "    1), fsinh, fcos, fsin, dm, tm, ROOT.RooBDecay.DoubleSided)"
   ]
  },
  {
   "cell_type": "markdown",
   "metadata": {},
   "source": [
    "Plot - Im(l)=0.7, e(l)=0.7 |l|=1, G/G=0.5\n",
    "-------------------------------------------------------------------------------------"
   ]
  },
  {
   "cell_type": "markdown",
   "metadata": {},
   "source": [
    "Generate some data"
   ]
  },
  {
   "cell_type": "code",
   "execution_count": 21,
   "metadata": {
    "collapsed": false
   },
   "outputs": [],
   "source": [
    "data4 = bcpg.generate(ROOT.RooArgSet(dt, tagFlav), 10000)"
   ]
  },
  {
   "cell_type": "markdown",
   "metadata": {},
   "source": [
    "Plot B0 and B0bar tagged data separately"
   ]
  },
  {
   "cell_type": "code",
   "execution_count": 22,
   "metadata": {
    "collapsed": false
   },
   "outputs": [
    {
     "name": "stdout",
     "output_type": "stream",
     "text": [
      "[#1] INFO:Plotting -- RooTreeData::plotOn: plotting 4991 events out of 10000 total events\n",
      "[#1] INFO:Plotting -- RooAbsReal::plotOn(bcpg) plot on dt represents a slice in (tagFlav)\n",
      "[#1] INFO:Plotting -- RooTreeData::plotOn: plotting 5009 events out of 10000 total events\n",
      "[#1] INFO:Plotting -- RooAbsReal::plotOn(bcpg) plot on dt represents a slice in (tagFlav)\n"
     ]
    },
    {
     "name": "stderr",
     "output_type": "stream",
     "text": [
      "Info in <TCanvas::Print>: png file rf708_bphysics.png has been created\n"
     ]
    }
   ],
   "source": [
    "frame6 = dt.frame(ROOT.RooFit.Title(\n",
    "    \"B decay distribution with CPV(Im(l)=0.7,Re(l)=0.7,|l|=1,dG/G=0.5) (B0/B0bar)\"))\n",
    "\n",
    "data4.plotOn(frame6, ROOT.RooFit.Cut(\"tagFlav==tagFlav::B0\"))\n",
    "bcpg.plotOn(frame6, ROOT.RooFit.Slice(tagFlav, \"B0\"))\n",
    "\n",
    "data4.plotOn(frame6, ROOT.RooFit.Cut(\"tagFlav==tagFlav::B0bar\"),\n",
    "             ROOT.RooFit.MarkerColor(ROOT.kCyan))\n",
    "bcpg.plotOn(frame6, ROOT.RooFit.Slice(tagFlav, \"B0bar\"),\n",
    "            ROOT.RooFit.LineColor(ROOT.kCyan))\n",
    "\n",
    "c = ROOT.TCanvas(\"rf708_bphysics\", \"rf708_bphysics\", 1200, 800)\n",
    "c.Divide(3, 2)\n",
    "c.cd(1)\n",
    "ROOT.gPad.SetLeftMargin(0.15)\n",
    "frame1.GetYaxis().SetTitleOffset(1.6)\n",
    "frame1.Draw()\n",
    "c.cd(2)\n",
    "ROOT.gPad.SetLeftMargin(0.15)\n",
    "frame2.GetYaxis().SetTitleOffset(1.6)\n",
    "frame2.Draw()\n",
    "c.cd(3)\n",
    "ROOT.gPad.SetLeftMargin(0.15)\n",
    "frame3.GetYaxis().SetTitleOffset(1.6)\n",
    "frame3.Draw()\n",
    "c.cd(4)\n",
    "ROOT.gPad.SetLeftMargin(0.15)\n",
    "frame4.GetYaxis().SetTitleOffset(1.6)\n",
    "frame4.Draw()\n",
    "c.cd(5)\n",
    "ROOT.gPad.SetLeftMargin(0.15)\n",
    "frame5.GetYaxis().SetTitleOffset(1.6)\n",
    "frame5.Draw()\n",
    "c.cd(6)\n",
    "ROOT.gPad.SetLeftMargin(0.15)\n",
    "frame6.GetYaxis().SetTitleOffset(1.6)\n",
    "frame6.Draw()\n",
    "\n",
    "c.SaveAs(\"rf708_bphysics.png\")"
   ]
  },
  {
   "cell_type": "markdown",
   "metadata": {},
   "source": [
    "Draw all canvases "
   ]
  },
  {
   "cell_type": "code",
   "execution_count": 23,
   "metadata": {
    "collapsed": false
   },
   "outputs": [
    {
     "data": {
      "image/png": "[encoded data removed]",
      "text/plain": [
       "<IPython.core.display.Image object>"
      ]
     },
     "metadata": {},
     "output_type": "display_data"
    }
   ],
   "source": [
    "from ROOT import gROOT \n",
    "gROOT.GetListOfCanvases().Draw()"
   ]
  }
 ],
 "metadata": {
  "kernelspec": {
   "display_name": "Python 2",
   "language": "python",
   "name": "python2"
  },
  "language_info": {
   "codemirror_mode": {
    "name": "ipython",
    "version": 2
   },
   "file_extension": ".py",
   "mimetype": "text/x-python",
   "name": "python",
   "nbconvert_exporter": "python",
   "pygments_lexer": "ipython2",
   "version": "2.7.10"
  }
 },
 "nbformat": 4,
 "nbformat_minor": 2
}
