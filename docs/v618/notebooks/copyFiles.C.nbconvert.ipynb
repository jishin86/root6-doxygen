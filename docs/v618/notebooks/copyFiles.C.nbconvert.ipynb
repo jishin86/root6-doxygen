{
 "cells": [
  {
   "cell_type": "markdown",
   "metadata": {},
   "source": [
    "# Copy Files\n",
    "Example of script showing how to copy all objects (including directories)\n",
    "from a source file.\n",
    "For each input file, a new directory is created in the current directory\n",
    "with the name of the source file.\n",
    "After the execution of:\n",
    "```bash\n",
    "root [0] .x copyFiles.C\n",
    "```\n",
    "the file result.root will contain 4 subdirectories:\n",
    "\"tot100.root\", \"hsimple.root\", \"hs1.root\",\"hs2.root\"\n",
    "\n",
    "\n",
    "\n",
    "\n",
    "**Author:** Rene Brun  \n",
    "<i><small>This notebook tutorial was automatically generated with <a href= \"https://github.com/root-project/root/blob/master/documentation/doxygen/converttonotebook.py\">ROOTBOOK-izer</a> from the macro found in the ROOT repository  on Thursday, August 29, 2019 at 02:02 AM.</small></i>"
   ]
  },
  {
   "cell_type": "code",
   "execution_count": 1,
   "metadata": {
    "collapsed": false
   },
   "outputs": [],
   "source": [
    "%%cpp -d\n",
    "#include \"TROOT.h\"\n",
    "#include \"TKey.h\"\n",
    "#include \"TFile.h\"\n",
    "#include \"TSystem.h\"\n",
    "#include \"TTree.h\""
   ]
  },
  {
   "cell_type": "markdown",
   "metadata": {},
   "source": [
    " A helper function is created: "
   ]
  },
  {
   "cell_type": "code",
   "execution_count": 2,
   "metadata": {
    "collapsed": false
   },
   "outputs": [],
   "source": [
    "%%cpp -d\n",
    "void CopyDir(TDirectory *source) {\n",
    "   //copy all objects and subdirs of directory source as a subdir of the current directory\n",
    "   source->ls();\n",
    "   TDirectory *savdir = gDirectory;\n",
    "   TDirectory *adir = savdir->mkdir(source->GetName());\n",
    "   adir->cd();\n",
    "   //loop on all entries of this directory\n",
    "   TKey *key;\n",
    "   //Loop in reverse order to make sure that the order of cycles is\n",
    "   //preserved.\n",
    "   TIter nextkey(source->GetListOfKeys(),kIterBackward);\n",
    "   while ((key = (TKey*)nextkey())) {\n",
    "      const char *classname = key->GetClassName();\n",
    "      TClass *cl = gROOT->GetClass(classname);\n",
    "      if (!cl) continue;\n",
    "      if (cl->InheritsFrom(TDirectory::Class())) {\n",
    "         source->cd(key->GetName());\n",
    "         TDirectory *subdir = gDirectory;\n",
    "         adir->cd();\n",
    "         CopyDir(subdir);\n",
    "         adir->cd();\n",
    "      } else if (cl->InheritsFrom(TTree::Class())) {\n",
    "         TTree *T = (TTree*)source->Get(key->GetName());\n",
    "         // Avoid writing the data of a TTree more than once.\n",
    "         // Note this assume that older cycles are (as expected) older\n",
    "         // snapshots of the TTree meta data.\n",
    "         if (!adir->FindObject(key->GetName())) {\n",
    "            adir->cd();\n",
    "            TTree *newT = T->CloneTree(-1,\"fast\");\n",
    "            newT->Write();\n",
    "         }\n",
    "      } else {\n",
    "         source->cd();\n",
    "         TObject *obj = key->ReadObj();\n",
    "         adir->cd();\n",
    "         obj->Write();\n",
    "         delete obj;\n",
    "     }\n",
    "  }\n",
    "  adir->SaveSelf(kTRUE);\n",
    "  savdir->cd();\n",
    "}"
   ]
  },
  {
   "cell_type": "markdown",
   "metadata": {},
   "source": [
    " A helper function is created: "
   ]
  },
  {
   "cell_type": "code",
   "execution_count": 3,
   "metadata": {
    "collapsed": false
   },
   "outputs": [],
   "source": [
    "%%cpp -d\n",
    "void CopyFile(const char *fname) {\n",
    "   //Copy all objects and subdirs of file fname as a subdir of the current directory\n",
    "   TDirectory *target = gDirectory;\n",
    "   TFile *f = TFile::Open(fname);\n",
    "   if (!f || f->IsZombie()) {\n",
    "      printf(\"Cannot copy file: %s\\n\",fname);\n",
    "      target->cd();\n",
    "      return;\n",
    "   }\n",
    "   target->cd();\n",
    "   CopyDir(f);\n",
    "   delete f;\n",
    "   target->cd();\n",
    "}"
   ]
  },
  {
   "cell_type": "markdown",
   "metadata": {},
   "source": [
    "Prepare files to be copied"
   ]
  },
  {
   "cell_type": "code",
   "execution_count": 4,
   "metadata": {
    "collapsed": false
   },
   "outputs": [],
   "source": [
    "if(gSystem->AccessPathName(\"tot100.root\")) {\n",
    "   gSystem->CopyFile(\"hsimple.root\", \"tot100.root\");\n",
    "   gSystem->CopyFile(\"hsimple.root\", \"hs1.root\");\n",
    "   gSystem->CopyFile(\"hsimple.root\", \"hs2.root\");\n",
    "}"
   ]
  },
  {
   "cell_type": "markdown",
   "metadata": {},
   "source": [
    "Main function copying 4 files as subdirectories of a new file"
   ]
  },
  {
   "cell_type": "code",
   "execution_count": 5,
   "metadata": {
    "collapsed": false
   },
   "outputs": [
    {
     "name": "stdout",
     "output_type": "stream",
     "text": [
      "TFile**\t\ttot100.root\tDemo ROOT file with histograms\n",
      " TFile*\t\ttot100.root\tDemo ROOT file with histograms\n",
      "  KEY: TH1F\thpx;1\tThis is the px distribution\n",
      "  KEY: TH2F\thpxpy;1\tpy vs px\n",
      "  KEY: TProfile\thprof;1\tProfile of pz versus px\n",
      "  KEY: TNtuple\tntuple;1\tDemo ntuple\n",
      "TFile**\t\thsimple.root\tDemo ROOT file with histograms\n",
      " TFile*\t\thsimple.root\tDemo ROOT file with histograms\n",
      "  KEY: TH1F\thpx;1\tThis is the px distribution\n",
      "  KEY: TH2F\thpxpy;1\tpy vs px\n",
      "  KEY: TProfile\thprof;1\tProfile of pz versus px\n",
      "  KEY: TNtuple\tntuple;1\tDemo ntuple\n",
      "TFile**\t\ths1.root\tDemo ROOT file with histograms\n",
      " TFile*\t\ths1.root\tDemo ROOT file with histograms\n",
      "  KEY: TH1F\thpx;1\tThis is the px distribution\n",
      "  KEY: TH2F\thpxpy;1\tpy vs px\n",
      "  KEY: TProfile\thprof;1\tProfile of pz versus px\n",
      "  KEY: TNtuple\tntuple;1\tDemo ntuple\n",
      "TFile**\t\ths2.root\tDemo ROOT file with histograms\n",
      " TFile*\t\ths2.root\tDemo ROOT file with histograms\n",
      "  KEY: TH1F\thpx;1\tThis is the px distribution\n",
      "  KEY: TH2F\thpxpy;1\tpy vs px\n",
      "  KEY: TProfile\thprof;1\tProfile of pz versus px\n",
      "  KEY: TNtuple\tntuple;1\tDemo ntuple\n",
      "TFile**\t\tresult.root\t\n",
      " TFile*\t\tresult.root\t\n",
      "  TDirectoryFile*\t\ttot100.root\ttot100.root\n",
      "   OBJ: TNtuple\tntuple\tDemo ntuple : 0 at: 0x7f67f837bec0\n",
      "   KEY: TNtuple\tntuple;1\tDemo ntuple\n",
      "   KEY: TProfile\thprof;1\tProfile of pz versus px\n",
      "   KEY: TH2F\thpxpy;1\tpy vs px\n",
      "   KEY: TH1F\thpx;1\tThis is the px distribution\n",
      "  TDirectoryFile*\t\thsimple.root\thsimple.root\n",
      "   OBJ: TNtuple\tntuple\tDemo ntuple : 0 at: 0x7f67f8431810\n",
      "   KEY: TNtuple\tntuple;1\tDemo ntuple\n",
      "   KEY: TProfile\thprof;1\tProfile of pz versus px\n",
      "   KEY: TH2F\thpxpy;1\tpy vs px\n",
      "   KEY: TH1F\thpx;1\tThis is the px distribution\n",
      "  TDirectoryFile*\t\ths1.root\ths1.root\n",
      "   OBJ: TNtuple\tntuple\tDemo ntuple : 0 at: 0x7f67f86020e0\n",
      "   KEY: TNtuple\tntuple;1\tDemo ntuple\n",
      "   KEY: TProfile\thprof;1\tProfile of pz versus px\n",
      "   KEY: TH2F\thpxpy;1\tpy vs px\n",
      "   KEY: TH1F\thpx;1\tThis is the px distribution\n",
      "  TDirectoryFile*\t\ths2.root\ths2.root\n",
      "   OBJ: TNtuple\tntuple\tDemo ntuple : 0 at: 0x7f67f86039b0\n",
      "   KEY: TNtuple\tntuple;1\tDemo ntuple\n",
      "   KEY: TProfile\thprof;1\tProfile of pz versus px\n",
      "   KEY: TH2F\thpxpy;1\tpy vs px\n",
      "   KEY: TH1F\thpx;1\tThis is the px distribution\n",
      "  KEY: TDirectoryFile\ttot100.root;1\ttot100.root\n",
      "  KEY: TDirectoryFile\thsimple.root;1\thsimple.root\n",
      "  KEY: TDirectoryFile\ths1.root;1\ths1.root\n",
      "  KEY: TDirectoryFile\ths2.root;1\ths2.root\n"
     ]
    }
   ],
   "source": [
    "TFile *f = new TFile(\"result.root\",\"recreate\");\n",
    "CopyFile(\"tot100.root\");\n",
    "CopyFile(\"hsimple.root\");\n",
    "CopyFile(\"hs1.root\");\n",
    "CopyFile(\"hs2.root\");\n",
    "f->ls();\n",
    "delete f;"
   ]
  }
 ],
 "metadata": {
  "kernelspec": {
   "display_name": "ROOT C++",
   "language": "c++",
   "name": "root"
  },
  "language_info": {
   "codemirror_mode": "text/x-c++src",
   "file_extension": ".C",
   "mimetype": " text/x-c++src",
   "name": "c++"
  }
 },
 "nbformat": 4,
 "nbformat_minor": 2
}
