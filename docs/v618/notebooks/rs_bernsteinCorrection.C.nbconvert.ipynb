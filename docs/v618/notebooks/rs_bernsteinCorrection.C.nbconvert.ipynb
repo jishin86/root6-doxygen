{
 "cells": [
  {
   "cell_type": "markdown",
   "metadata": {},
   "source": [
    "# Rs_Bernstein Correction\n",
    "Example of the BernsteinCorrection utility in RooStats.\n",
    "\n",
    "The idea is that one has a distribution coming either from data or Monte Carlo\n",
    "(called \"reality\" in the macro) and a nominal model that is not sufficiently\n",
    "flexible to take into account the real distribution.  One wants to take into\n",
    "account the systematic associated with this imperfect modeling by augmenting\n",
    "the nominal model with some correction term (in this case a polynomial).\n",
    "The BernsteinCorrection utility will import into your workspace a corrected model\n",
    "given by nominal(x) * poly_N(x), where poly_N is an n-th order polynomial in\n",
    "the Bernstein basis.  The degree N of the polynomial is chosen by specifying the tolerance\n",
    "one has in adding an extra term to the polynomial.\n",
    "The Bernstein basis is nice because it only has positive-definite terms\n",
    "and works well with PDFs.\n",
    "Finally, the macro makes a plot of:\n",
    " - the data (drawn from 'reality'),\n",
    " - the best fit of the nominal model (blue)\n",
    " - and the best fit corrected model.\n",
    "\n",
    "\n",
    "\n",
    "\n",
    "**Author:** Kyle Cranmer  \n",
    "<i><small>This notebook tutorial was automatically generated with <a href= \"https://github.com/root-project/root/blob/master/documentation/doxygen/converttonotebook.py\">ROOTBOOK-izer</a> from the macro found in the ROOT repository  on Thursday, August 29, 2019 at 03:24 AM.</small></i>"
   ]
  },
  {
   "cell_type": "code",
   "execution_count": 1,
   "metadata": {
    "collapsed": false
   },
   "outputs": [],
   "source": [
    "%%cpp -d\n",
    "#include \"RooDataSet.h\"\n",
    "#include \"RooRealVar.h\"\n",
    "#include \"RooConstVar.h\"\n",
    "#include \"RooBernstein.h\"\n",
    "#include \"TCanvas.h\"\n",
    "#include \"RooAbsPdf.h\"\n",
    "#include \"RooFit.h\"\n",
    "#include \"RooFitResult.h\"\n",
    "#include \"RooPlot.h\"\n",
    "#include <string>\n",
    "#include <vector>\n",
    "#include <stdio.h>\n",
    "#include <sstream>\n",
    "#include <iostream>\n",
    "\n",
    "#include \"RooProdPdf.h\"\n",
    "#include \"RooAddPdf.h\"\n",
    "#include \"RooGaussian.h\"\n",
    "#include \"RooNLLVar.h\"\n",
    "#include \"RooMinuit.h\"\n",
    "#include \"RooProfileLL.h\"\n",
    "#include \"RooWorkspace.h\"\n",
    "\n",
    "#include \"RooStats/BernsteinCorrection.h\""
   ]
  },
  {
   "cell_type": "markdown",
   "metadata": {},
   "source": [
    "Use this order for safety on library loading"
   ]
  },
  {
   "cell_type": "code",
   "execution_count": 2,
   "metadata": {
    "collapsed": false
   },
   "outputs": [],
   "source": [
    "%%cpp -d\n",
    "// This is a workaround to make sure the namespace is used inside functions\n",
    "using namespace RooFit;\n",
    "using namespace RooStats;"
   ]
  },
  {
   "cell_type": "markdown",
   "metadata": {},
   "source": [
    "____________________________________"
   ]
  },
  {
   "cell_type": "markdown",
   "metadata": {},
   "source": [
    "Set range of observable"
   ]
  },
  {
   "cell_type": "code",
   "execution_count": 3,
   "metadata": {
    "collapsed": false
   },
   "outputs": [],
   "source": [
    "Double_t lowRange = -1, highRange = 5;"
   ]
  },
  {
   "cell_type": "markdown",
   "metadata": {},
   "source": [
    "Make a roorealvar for the observable"
   ]
  },
  {
   "cell_type": "code",
   "execution_count": 4,
   "metadata": {
    "collapsed": false
   },
   "outputs": [
    {
     "name": "stdout",
     "output_type": "stream",
     "text": [
      "\n",
      "\u001b[1mRooFit v3.60 -- Developed by Wouter Verkerke and David Kirkby\u001b[0m \n",
      "                Copyright (C) 2000-2013 NIKHEF, University of California & Stanford University\n",
      "                All rights reserved, please read http://roofit.sourceforge.net/license.txt\n",
      "\n"
     ]
    }
   ],
   "source": [
    "RooRealVar x(\"x\", \"x\", lowRange, highRange);"
   ]
  },
  {
   "cell_type": "markdown",
   "metadata": {},
   "source": [
    "True model"
   ]
  },
  {
   "cell_type": "code",
   "execution_count": 5,
   "metadata": {
    "collapsed": false
   },
   "outputs": [],
   "source": [
    "RooGaussian narrow(\"narrow\", \"\", x, RooConst(0.), RooConst(.8));\n",
    "RooGaussian wide(\"wide\", \"\", x, RooConst(0.), RooConst(2.));\n",
    "RooAddPdf reality(\"reality\", \"\", RooArgList(narrow, wide), RooConst(0.8));\n",
    "\n",
    "RooDataSet *data = reality.generate(x, 1000);"
   ]
  },
  {
   "cell_type": "markdown",
   "metadata": {},
   "source": [
    "Nominal model"
   ]
  },
  {
   "cell_type": "code",
   "execution_count": 6,
   "metadata": {
    "collapsed": false
   },
   "outputs": [
    {
     "name": "stdout",
     "output_type": "stream",
     "text": [
      "[#1] INFO:ObjectHandling -- RooWorkspace::import(myWorksspace) importing dataset realityData\n",
      "[#1] INFO:ObjectHandling -- RooWorkSpace::import(myWorksspace) changing name of dataset from  realityData to data\n",
      "[#1] INFO:ObjectHandling -- RooWorkspace::import(myWorksspace) importing RooRealVar::x\n",
      "[#1] INFO:ObjectHandling -- RooWorkspace::import(myWorksspace) importing RooGaussian::nominal\n",
      "[#1] INFO:ObjectHandling -- RooWorkspace::import(myWorksspace) importing RooConstVar::0\n",
      "[#1] INFO:ObjectHandling -- RooWorkspace::import(myWorksspace) importing RooRealVar::sigma\n"
     ]
    }
   ],
   "source": [
    "RooRealVar sigma(\"sigma\", \"\", 1., 0, 10);\n",
    "RooGaussian nominal(\"nominal\", \"\", x, RooConst(0.), sigma);\n",
    "\n",
    "RooWorkspace *wks = new RooWorkspace(\"myWorksspace\");\n",
    "\n",
    "wks->import(*data, Rename(\"data\"));\n",
    "wks->import(nominal);\n",
    "\n",
    "if (TClass::GetClass(\"ROOT::Minuit2::Minuit2Minimizer\")) {\n",
    "   // use Minuit2 if ROOT was built with support for it:\n",
    "   ROOT::Math::MinimizerOptions::SetDefaultMinimizer(\"Minuit2\");\n",
    "}"
   ]
  },
  {
   "cell_type": "markdown",
   "metadata": {},
   "source": [
    "The tolerance sets the probability to add an unnecessary term.\n",
    " lower tolerance will add fewer terms, while higher tolerance\n",
    " will add more terms and provide a more flexible function."
   ]
  },
  {
   "cell_type": "code",
   "execution_count": 7,
   "metadata": {
    "collapsed": false
   },
   "outputs": [
    {
     "name": "stdout",
     "output_type": "stream",
     "text": [
      "BernsteinCorrection::ImportCorrectedPdf -  Doing initial Fit with nominal model \n",
      "[#1] INFO:Minization -- createNLL: caching constraint set under name CONSTR_OF_PDF_nominal_FOR_OBS_x with 0 entries\n",
      "[#1] INFO:Minization -- RooMinimizer::optimizeConst: activating const optimization\n",
      "[#1] INFO:Minization -- RooMinimizer::optimizeConst: deactivating const optimization\n",
      "[#1] INFO:NumericIntegration -- RooRealIntegral::init(corrected_clone_Int[x]) using numeric integrator RooIntegrator1D to calculate Int(x)\n",
      "[#1] INFO:Minization -- RooMinimizer::optimizeConst: activating const optimization\n",
      "[#1] INFO:Minization -- RooMinimizer::optimizeConst: deactivating const optimization\n",
      "[#1] INFO:NumericIntegration -- RooRealIntegral::init(corrected_clone_Int[x]) using numeric integrator RooIntegrator1D to calculate Int(x)\n",
      "[#1] INFO:Minization -- RooMinimizer::optimizeConst: activating const optimization\n",
      "[#1] INFO:Minization -- RooMinimizer::optimizeConst: deactivating const optimization\n",
      "[#1] INFO:NumericIntegration -- RooRealIntegral::init(corrected_clone_Int[x]) using numeric integrator RooIntegrator1D to calculate Int(x)\n",
      "[#1] INFO:Minization -- RooMinimizer::optimizeConst: activating const optimization\n",
      "[#1] INFO:Minization -- RooMinimizer::optimizeConst: deactivating const optimization\n",
      "[#1] INFO:NumericIntegration -- RooRealIntegral::init(corrected_clone_Int[x]) using numeric integrator RooIntegrator1D to calculate Int(x)\n",
      "[#1] INFO:Minization -- RooMinimizer::optimizeConst: activating const optimization\n",
      "[#1] INFO:Minization -- RooMinimizer::optimizeConst: deactivating const optimization\n",
      "[#1] INFO:NumericIntegration -- RooRealIntegral::init(corrected_clone_Int[x]) using numeric integrator RooIntegrator1D to calculate Int(x)\n",
      "[#1] INFO:Minization -- RooMinimizer::optimizeConst: activating const optimization\n",
      "[#1] INFO:Minization -- RooMinimizer::optimizeConst: deactivating const optimization\n",
      "[#1] INFO:NumericIntegration -- RooRealIntegral::init(corrected_clone_Int[x]) using numeric integrator RooIntegrator1D to calculate Int(x)\n",
      "[#1] INFO:Minization -- RooMinimizer::optimizeConst: activating const optimization\n",
      "[#1] INFO:Minization -- RooMinimizer::optimizeConst: deactivating const optimization\n",
      "[#1] INFO:ObjectHandling -- RooWorkspace::import(myWorksspace) importing RooEffProd::corrected\n",
      "[#1] INFO:ObjectHandling -- RooWorkspace::import(myWorksspace) importing RooBernstein::poly\n",
      "[#1] INFO:ObjectHandling -- RooWorkspace::import(myWorksspace) importing RooRealVar::c_0\n",
      "[#1] INFO:ObjectHandling -- RooWorkspace::import(myWorksspace) importing RooRealVar::c_1\n",
      "[#1] INFO:ObjectHandling -- RooWorkspace::import(myWorksspace) importing RooRealVar::c_2\n",
      "[#1] INFO:ObjectHandling -- RooWorkspace::import(myWorksspace) importing RooRealVar::c_3\n",
      "[#1] INFO:ObjectHandling -- RooWorkspace::import(myWorksspace) importing RooRealVar::c_4\n",
      "[#1] INFO:ObjectHandling -- RooWorkspace::import(myWorksspace) importing RooRealVar::c_5\n",
      "[#1] INFO:ObjectHandling -- RooWorkspace::import(myWorksspace) importing RooRealVar::c_6\n",
      "------ Begin Bernstein Correction Log --------\n",
      "degree = 1 -log L(0) = 1216.78 -log L(1) = 1208.89 q = 15.7692 P(chi^2_1 > q) = 7.1557e-05\n",
      "degree = 2 -log L(1) = 1208.89 -log L(2) = 1203.21 q = 11.3692 P(chi^2_1 > q) = 0.000746732\n",
      "degree = 3 -log L(2) = 1203.21 -log L(3) = 1198.85 q = 8.72213 P(chi^2_1 > q) = 0.00314371\n",
      "degree = 4 -log L(3) = 1198.85 -log L(4) = 1190.19 q = 17.3163 P(chi^2_1 > q) = 3.1646e-05\n",
      "degree = 5 -log L(4) = 1190.19 -log L(5) = 1183.56 q = 13.259 P(chi^2_1 > q) = 0.00027127\n",
      "degree = 6 -log L(5) = 1183.56 -log L(6) = 1182.57 q = 1.98376 P(chi^2_1 > q) = 0.158995\n",
      "------ End Bernstein Correction Log --------\n",
      " Correction based on Bernstein Poly of degree 6\n"
     ]
    }
   ],
   "source": [
    "Double_t tolerance = 0.05;\n",
    "BernsteinCorrection bernsteinCorrection(tolerance);\n",
    "Int_t degree = bernsteinCorrection.ImportCorrectedPdf(wks, \"nominal\", \"x\", \"data\");\n",
    "\n",
    "if (degree < 0) {\n",
    "   Error(\"rs_bernsteinCorrection\", \"Bernstein correction failed ! \");\n",
    "   return;\n",
    "}\n",
    "\n",
    "cout << \" Correction based on Bernstein Poly of degree \" << degree << endl;\n",
    "\n",
    "RooPlot *frame = x.frame();\n",
    "data->plotOn(frame);"
   ]
  },
  {
   "cell_type": "markdown",
   "metadata": {},
   "source": [
    "Plot the best fit nominal model in blue"
   ]
  },
  {
   "cell_type": "code",
   "execution_count": 8,
   "metadata": {
    "collapsed": false
   },
   "outputs": [
    {
     "name": "stdout",
     "output_type": "stream",
     "text": [
      "[#1] INFO:Minization -- RooMinimizer::optimizeConst: activating const optimization\n",
      "Minuit2Minimizer: Minimize with max-calls 500 convergence for edm < 1 strategy 1\n",
      "Minuit2Minimizer : Valid minimum - status = 0\n",
      "FVAL  = 1216.77793416266263\n",
      "Edm   = 4.16187321843267985e-07\n",
      "Nfcn  = 19\n",
      "sigma\t  = 1.18138\t +/-  0.0315451\t(limited)\n",
      "[#1] INFO:Minization -- RooMinimizer::optimizeConst: deactivating const optimization\n"
     ]
    },
    {
     "name": "stderr",
     "output_type": "stream",
     "text": [
      "Info in Minuit2Minimizer::Hesse : Hesse is valid - matrix is accurate\n"
     ]
    }
   ],
   "source": [
    "TString minimType = ROOT::Math::MinimizerOptions::DefaultMinimizerType();\n",
    "nominal.fitTo(*data, PrintLevel(0), Minimizer(minimType));\n",
    "nominal.plotOn(frame);"
   ]
  },
  {
   "cell_type": "markdown",
   "metadata": {},
   "source": [
    "Plot the best fit corrected model in red"
   ]
  },
  {
   "cell_type": "code",
   "execution_count": 9,
   "metadata": {
    "collapsed": false
   },
   "outputs": [],
   "source": [
    "RooAbsPdf *corrected = wks->pdf(\"corrected\");\n",
    "if (!corrected)\n",
    "   return;"
   ]
  },
  {
   "cell_type": "markdown",
   "metadata": {},
   "source": [
    "Fit corrected model"
   ]
  },
  {
   "cell_type": "code",
   "execution_count": 10,
   "metadata": {
    "collapsed": false
   },
   "outputs": [
    {
     "name": "stdout",
     "output_type": "stream",
     "text": [
      "[#1] INFO:NumericIntegration -- RooRealIntegral::init(corrected_clone_Int[x]) using numeric integrator RooIntegrator1D to calculate Int(x)\n",
      "[#1] INFO:Minization -- createNLL: caching constraint set under name CONSTR_OF_PDF_corrected_FOR_OBS_x with 0 entries\n",
      "[#1] INFO:Minization -- RooMinimizer::optimizeConst: activating const optimization\n",
      "Minuit2Minimizer: Minimize with max-calls 3500 convergence for edm < 1 strategy 1\n",
      "Minuit2Minimizer : Valid minimum - status = 0\n",
      "FVAL  = 1182.56771175955873\n",
      "Edm   = 0.000104308534890513858\n",
      "Nfcn  = 184\n",
      "c_1\t  = 3.1837\t +/-  0.834348\t(limited)\n",
      "c_2\t  = 1.2322e-05\t +/-  3.09822\t(limited)\n",
      "c_3\t  = 1.61168e-06\t +/-  1.52589\t(limited)\n",
      "c_4\t  = 0.971334\t +/-  2.5239\t(limited)\n",
      "c_5\t  = 0.200166\t +/-  75.522\t(limited)\n",
      "c_6\t  = 10.5071\t +/-  22.97\t(limited)\n",
      "sigma\t  = 1.26617\t +/-  0.232029\t(limited)\n",
      "[#1] INFO:Minization -- RooMinimizer::optimizeConst: deactivating const optimization\n",
      "[#1] INFO:NumericIntegration -- RooRealIntegral::init(corrected_clone_Int[x]) using numeric integrator RooIntegrator1D to calculate Int(x)\n"
     ]
    },
    {
     "name": "stderr",
     "output_type": "stream",
     "text": [
      "Info: VariableMetricBuilder: Tolerance is not sufficient, continue the minimization\n",
      "Info in Current  Edm is : edm = 0.00156657\n",
      "Info in Required Edm is : edmval = 0.001\n",
      "Info in Minuit2Minimizer::Hesse : Hesse is valid - matrix is accurate\n"
     ]
    }
   ],
   "source": [
    "corrected->fitTo(*data, PrintLevel(0), Minimizer(minimType));\n",
    "corrected->plotOn(frame, LineColor(kRed));"
   ]
  },
  {
   "cell_type": "markdown",
   "metadata": {},
   "source": [
    "Plot the correction term (* norm constant) in dashed green\n",
    " should make norm constant just be 1, not depend on binning of data"
   ]
  },
  {
   "cell_type": "code",
   "execution_count": 11,
   "metadata": {
    "collapsed": false
   },
   "outputs": [],
   "source": [
    "RooAbsPdf *poly = wks->pdf(\"poly\");\n",
    "if (poly)\n",
    "   poly->plotOn(frame, LineColor(kGreen), LineStyle(kDashed));"
   ]
  },
  {
   "cell_type": "markdown",
   "metadata": {},
   "source": [
    "This is a switch to check the sampling distribution\n",
    " of -2 log LR for two comparisons:\n",
    " the first is for n-1 vs. n degree polynomial corrections\n",
    " the second is for n vs. n+1 degree polynomial corrections\n",
    " Here we choose n to be the one chosen by the tolerance\n",
    " criterion above, eg. n = \"degree\" in the code.\n",
    " Setting this to true is takes about 10 min."
   ]
  },
  {
   "cell_type": "code",
   "execution_count": 12,
   "metadata": {
    "collapsed": false
   },
   "outputs": [
    {
     "name": "stdout",
     "output_type": "stream",
     "text": [
      "made pdfs, make toy generator\n",
      "on toy 0\n",
      "on toy 1\n",
      "on toy 2\n",
      "on toy 3\n",
      "on toy 4\n",
      "on toy 5\n",
      "on toy 6\n",
      "on toy 7\n",
      "on toy 8\n",
      "on toy 9\n",
      "on toy 10\n",
      "on toy 11\n",
      "on toy 12\n",
      "on toy 13\n",
      "on toy 14\n",
      "on toy 15\n",
      "on toy 16\n",
      "on toy 17\n",
      "on toy 18\n",
      "on toy 19\n"
     ]
    }
   ],
   "source": [
    "bool checkSamplingDist = true;\n",
    "int numToyMC = 20; // increase this value for sensible results\n",
    "\n",
    "TCanvas *c1 = new TCanvas();\n",
    "if (checkSamplingDist) {\n",
    "   c1->Divide(1, 2);\n",
    "   c1->cd(1);\n",
    "}\n",
    "frame->Draw();\n",
    "gPad->Update();\n",
    "\n",
    "if (checkSamplingDist) {\n",
    "   // check sampling dist\n",
    "   ROOT::Math::MinimizerOptions::SetDefaultPrintLevel(-1);\n",
    "   TH1F *samplingDist = new TH1F(\"samplingDist\", \"\", 20, 0, 10);\n",
    "   TH1F *samplingDistExtra = new TH1F(\"samplingDistExtra\", \"\", 20, 0, 10);\n",
    "   bernsteinCorrection.CreateQSamplingDist(wks, \"nominal\", \"x\", \"data\", samplingDist, samplingDistExtra, degree,\n",
    "                                           numToyMC);\n",
    "\n",
    "   c1->cd(2);\n",
    "   samplingDistExtra->SetLineColor(kRed);\n",
    "   samplingDistExtra->Draw();\n",
    "   samplingDist->Draw(\"same\");\n",
    "}"
   ]
  },
  {
   "cell_type": "markdown",
   "metadata": {},
   "source": [
    "Draw all canvases "
   ]
  },
  {
   "cell_type": "code",
   "execution_count": 13,
   "metadata": {
    "collapsed": false
   },
   "outputs": [
    {
     "data": {
      "text/html": [
       "\n",
       "<div id=\"root_plot_1\"\n",
       "     style=\"width: 696px; height: 472px\">\n",
       "</div>\n",
       "\n",
       "<script>\n",
       " requirejs.config({\n",
       "     paths: {\n",
       "       'JSRootCore' : 'https://root.cern.ch/js/notebook//scripts/JSRootCore',\n",
       "     }\n",
       "   });\n",
       " require(['JSRootCore'],\n",
       "     function(Core) {\n",
       "       var obj = Core.JSONR_unref({\"_typename\":\"TCanvas\",\"fUniqueID\":0,\"fBits\":53673992,\"fLineColor\":1,\"fLineStyle\":1,\"fLineWidth\":1,\"fFillColor\":0,\"fFillStyle\":1001,\"fLeftMargin\":0.1,\"fRightMargin\":0.1,\"fBottomMargin\":0.1,\"fTopMargin\":0.1,\"fXfile\":2,\"fYfile\":2,\"fAfile\":1,\"fXstat\":0.99,\"fYstat\":0.99,\"fAstat\":2,\"fFrameFillColor\":0,\"fFrameLineColor\":1,\"fFrameFillStyle\":1001,\"fFrameLineStyle\":1,\"fFrameLineWidth\":1,\"fFrameBorderSize\":1,\"fFrameBorderMode\":0,\"fX1\":0,\"fY1\":0,\"fX2\":1,\"fY2\":1,\"fXtoAbsPixelk\":5e-5,\"fXtoPixelk\":5e-5,\"fXtoPixel\":696,\"fYtoAbsPixelk\":472.00005,\"fYtoPixelk\":472.00005,\"fYtoPixel\":-472,\"fUtoAbsPixelk\":5e-5,\"fUtoPixelk\":5e-5,\"fUtoPixel\":696,\"fVtoAbsPixelk\":472.00005,\"fVtoPixelk\":472,\"fVtoPixel\":-472,\"fAbsPixeltoXk\":0,\"fPixeltoXk\":0,\"fPixeltoX\":0.0014367816091954,\"fAbsPixeltoYk\":1,\"fPixeltoYk\":0,\"fPixeltoY\":-0.00211864406779661,\"fXlowNDC\":0,\"fYlowNDC\":0,\"fXUpNDC\":0,\"fYUpNDC\":0,\"fWNDC\":1,\"fHNDC\":1,\"fAbsXlowNDC\":0,\"fAbsYlowNDC\":0,\"fAbsWNDC\":1,\"fAbsHNDC\":1,\"fUxmin\":0,\"fUymin\":0,\"fUxmax\":1,\"fUymax\":1,\"fTheta\":30,\"fPhi\":30,\"fAspectRatio\":0,\"fNumber\":0,\"fTickx\":0,\"fTicky\":0,\"fLogx\":0,\"fLogy\":0,\"fLogz\":0,\"fPadPaint\":0,\"fCrosshair\":0,\"fCrosshairPos\":0,\"fBorderSize\":2,\"fBorderMode\":0,\"fModified\":false,\"fGridx\":false,\"fGridy\":false,\"fAbsCoord\":false,\"fEditable\":true,\"fFixedAspectRatio\":false,\"fPrimitives\":{\"_typename\":\"TList\",\"name\":\"TList\",\"arr\":[{\"_typename\":\"TPad\",\"fUniqueID\":0,\"fBits\":50331657,\"fLineColor\":1,\"fLineStyle\":1,\"fLineWidth\":1,\"fFillColor\":0,\"fFillStyle\":1001,\"fLeftMargin\":0.1,\"fRightMargin\":0.1,\"fBottomMargin\":0.1,\"fTopMargin\":0.1,\"fXfile\":2,\"fYfile\":2,\"fAfile\":1,\"fXstat\":0.99,\"fYstat\":0.99,\"fAstat\":2,\"fFrameFillColor\":0,\"fFrameLineColor\":1,\"fFrameFillStyle\":1001,\"fFrameLineStyle\":1,\"fFrameLineWidth\":1,\"fFrameBorderSize\":1,\"fFrameBorderMode\":0,\"fX1\":-1.75000005587936,\"fY1\":-6.08573445114206,\"fX2\":5.75000005587936,\"fY2\":54.7716064328982,\"fXtoAbsPixelk\":166.112052627373,\"fXtoPixelk\":159.152052782941,\"fXtoPixel\":90.9439986863136,\"fYtoAbsPixelk\":208.624048733997,\"fYtoPixelk\":203.904048839498,\"fYtoPixel\":-3.72280479100617,\"fUtoAbsPixelk\":6.96004984443188,\"fUtoPixelk\":5e-5,\"fUtoPixel\":682.080000311136,\"fVtoAbsPixelk\":231.2800501055,\"fVtoPixelk\":226.560000211,\"fVtoPixel\":-226.560000211,\"fAbsPixeltoXk\":-1.82653066751915,\"fPixeltoXk\":-1.75000005587936,\"fPixeltoX\":0.0109957777802274,\"fAbsPixeltoYk\":56.039467671796,\"fPixeltoYk\":-6.08573445114206,\"fPixeltoY\":-0.268614675262016,\"fXlowNDC\":0.00999999977648258,\"fYlowNDC\":0.509999999776483,\"fXUpNDC\":0,\"fYUpNDC\":0,\"fWNDC\":0.980000000447035,\"fHNDC\":0.480000000447035,\"fAbsXlowNDC\":0.00999999977648258,\"fAbsYlowNDC\":0.509999999776483,\"fAbsWNDC\":0.980000000447035,\"fAbsHNDC\":0.480000000447035,\"fUxmin\":-1,\"fUymin\":0,\"fUxmax\":5,\"fUymax\":48.6858719817561,\"fTheta\":30,\"fPhi\":30,\"fAspectRatio\":0,\"fNumber\":1,\"fTickx\":0,\"fTicky\":0,\"fLogx\":0,\"fLogy\":0,\"fLogz\":0,\"fPadPaint\":0,\"fCrosshair\":0,\"fCrosshairPos\":0,\"fBorderSize\":2,\"fBorderMode\":0,\"fModified\":false,\"fGridx\":false,\"fGridy\":false,\"fAbsCoord\":false,\"fEditable\":true,\"fFixedAspectRatio\":false,\"fPrimitives\":{\"_typename\":\"TList\",\"name\":\"TList\",\"arr\":[{\"_typename\":\"TFrame\",\"fUniqueID\":0,\"fBits\":50331656,\"fLineColor\":1,\"fLineStyle\":1,\"fLineWidth\":1,\"fFillColor\":0,\"fFillStyle\":1001,\"fX1\":-1,\"fY1\":0,\"fX2\":5,\"fY2\":48.6858719817561,\"fBorderSize\":1,\"fBorderMode\":0},{\"_typename\":\"TH1D\",\"fUniqueID\":0,\"fBits\":50332168,\"fName\":\"frame_7f9a5c0ebe10\",\"fTitle\":\"A RooPlot of \\\"x\\\"\",\"fLineColor\":602,\"fLineStyle\":1,\"fLineWidth\":1,\"fFillColor\":0,\"fFillStyle\":1001,\"fMarkerColor\":1,\"fMarkerStyle\":1,\"fMarkerSize\":1,\"fNcells\":102,\"fXaxis\":{\"_typename\":\"TAxis\",\"fUniqueID\":0,\"fBits\":50331648,\"fName\":\"xaxis\",\"fTitle\":\"x\",\"fNdivisions\":510,\"fAxisColor\":1,\"fLabelColor\":1,\"fLabelFont\":42,\"fLabelOffset\":0.005,\"fLabelSize\":0.035,\"fTickLength\":0.03,\"fTitleOffset\":1,\"fTitleSize\":0.035,\"fTitleColor\":1,\"fTitleFont\":42,\"fNbins\":100,\"fXmin\":-1,\"fXmax\":5,\"fXbins\":[],\"fFirst\":0,\"fLast\":0,\"fBits2\":0,\"fTimeDisplay\":false,\"fTimeFormat\":\"\",\"fLabels\":null,\"fModLabs\":null},\"fYaxis\":{\"_typename\":\"TAxis\",\"fUniqueID\":0,\"fBits\":50331648,\"fName\":\"yaxis\",\"fTitle\":\"Events \\/ ( 0.06 )\",\"fNdivisions\":510,\"fAxisColor\":1,\"fLabelColor\":1,\"fLabelFont\":42,\"fLabelOffset\":0.005,\"fLabelSize\":0.035,\"fTickLength\":0.03,\"fTitleOffset\":0,\"fTitleSize\":0.035,\"fTitleColor\":1,\"fTitleFont\":42,\"fNbins\":1,\"fXmin\":0,\"fXmax\":1,\"fXbins\":[],\"fFirst\":0,\"fLast\":0,\"fBits2\":0,\"fTimeDisplay\":false,\"fTimeFormat\":\"\",\"fLabels\":null,\"fModLabs\":null},\"fZaxis\":{\"_typename\":\"TAxis\",\"fUniqueID\":0,\"fBits\":50331648,\"fName\":\"zaxis\",\"fTitle\":\"\",\"fNdivisions\":510,\"fAxisColor\":1,\"fLabelColor\":1,\"fLabelFont\":42,\"fLabelOffset\":0.005,\"fLabelSize\":0.035,\"fTickLength\":0.03,\"fTitleOffset\":1,\"fTitleSize\":0.035,\"fTitleColor\":1,\"fTitleFont\":42,\"fNbins\":1,\"fXmin\":0,\"fXmax\":1,\"fXbins\":[],\"fFirst\":0,\"fLast\":0,\"fBits2\":0,\"fTimeDisplay\":false,\"fTimeFormat\":\"\",\"fLabels\":null,\"fModLabs\":null},\"fBarOffset\":0,\"fBarWidth\":1000,\"fEntries\":2,\"fTsumw\":0,\"fTsumw2\":0,\"fTsumwx\":0,\"fTsumwx2\":0,\"fMaximum\":48.6858719817561,\"fMinimum\":-1111,\"fNormFactor\":0,\"fContour\":[],\"fSumw2\":[],\"fOption\":\"\",\"fFunctions\":{\"_typename\":\"TList\",\"name\":\"TList\",\"arr\":[],\"opt\":[]},\"fBufferSize\":0,\"fBuffer\":[],\"fBinStatErrOpt\":0,\"fStatOverflows\":2,\"fArray\":[0,48.6858719817561,0,0,0,0,0,0,0,0,0,0,0,0,0,0,0,0,0,0,0,0,0,0,0,0,0,0,0,0,0,0,0,0,0,0,0,0,0,0,0,0,0,0,0,0,0,0,0,0,0,0,0,0,0,0,0,0,0,0,0,0,0,0,0,0,0,0,0,0,0,0,0,0,0,0,0,0,0,0,0,0,0,0,0,0,0,0,0,0,0,0,0,0,0,0,0,0,0,0,0,0]},{\"_typename\":\"RooHist\",\"fUniqueID\":0,\"fBits\":50332680,\"fName\":\"h_realityData\",\"fTitle\":\"Histogram of realityData_plot__x\",\"fLineColor\":1,\"fLineStyle\":1,\"fLineWidth\":1,\"fFillColor\":0,\"fFillStyle\":1000,\"fMarkerColor\":1,\"fMarkerStyle\":8,\"fMarkerSize\":1,\"fNpoints\":100,\"fX\":[-0.97,-0.91,-0.85,-0.79,-0.73,-0.67,-0.61,-0.55,-0.49,-0.43,-0.37,-0.31,-0.25,-0.19,-0.13,-0.0700000000000001,-0.01,0.05,0.11,0.17,0.23,0.29,0.35,0.41,0.47,0.53,0.59,0.65,0.71,0.77,0.83,0.89,0.95,1.01,1.07,1.13,1.19,1.25,1.31,1.37,1.43,1.49,1.55,1.61,1.67,1.73,1.79,1.85,1.91,1.97,2.03,2.09,2.15,2.21,2.27,2.33,2.39,2.45,2.51,2.57,2.63,2.69,2.75,2.81,2.87,2.93,2.99,3.05,3.11,3.17,3.23,3.29,3.35,3.41,3.47,3.53,3.59,3.65,3.71,3.77,3.83,3.89,3.95,4.01,4.07,4.13,4.19,4.25,4.31,4.37,4.43,4.49,4.55,4.61,4.67,4.73,4.79,4.85,4.91,4.97],\"fY\":[10,22,21,24,23,26,24,22,24,21,28,30,27,34,29,36,31,38,29,32,33,28,23,22,26,14,25,21,20,20,16,17,13,13,10,11,7,9,14,12,7,9,8,1,4,7,3,6,2,4,8,2,3,3,2,1,4,3,6,3,3,1,3,1,1,1,1,0,1,4,0,1,1,0,1,1,1,1,1,0,0,0,2,0,1,0,0,0,0,0,0,0,1,1,0,0,0,0,1,0],\"fFunctions\":{\"_typename\":\"TList\",\"name\":\"TList\",\"arr\":[],\"opt\":[]},\"fHistogram\":{\"_typename\":\"TH1F\",\"fUniqueID\":0,\"fBits\":50332168,\"fName\":\"h_realityData\",\"fTitle\":\"Histogram of realityData_plot__x\",\"fLineColor\":602,\"fLineStyle\":1,\"fLineWidth\":1,\"fFillColor\":0,\"fFillStyle\":1001,\"fMarkerColor\":1,\"fMarkerStyle\":1,\"fMarkerSize\":1,\"fNcells\":102,\"fXaxis\":{\"_typename\":\"TAxis\",\"fUniqueID\":0,\"fBits\":50331648,\"fName\":\"xaxis\",\"fTitle\":\"\",\"fNdivisions\":510,\"fAxisColor\":1,\"fLabelColor\":1,\"fLabelFont\":42,\"fLabelOffset\":0.005,\"fLabelSize\":0.035,\"fTickLength\":0.03,\"fTitleOffset\":1,\"fTitleSize\":0.035,\"fTitleColor\":1,\"fTitleFont\":42,\"fNbins\":100,\"fXmin\":-1.6,\"fXmax\":5.6,\"fXbins\":[],\"fFirst\":0,\"fLast\":0,\"fBits2\":0,\"fTimeDisplay\":false,\"fTimeFormat\":\"\",\"fLabels\":null,\"fModLabs\":null},\"fYaxis\":{\"_typename\":\"TAxis\",\"fUniqueID\":0,\"fBits\":50331648,\"fName\":\"yaxis\",\"fTitle\":\"\",\"fNdivisions\":510,\"fAxisColor\":1,\"fLabelColor\":1,\"fLabelFont\":42,\"fLabelOffset\":0.005,\"fLabelSize\":0.035,\"fTickLength\":0.03,\"fTitleOffset\":0,\"fTitleSize\":0.035,\"fTitleColor\":1,\"fTitleFont\":42,\"fNbins\":1,\"fXmin\":0,\"fXmax\":49.7403319385275,\"fXbins\":[],\"fFirst\":0,\"fLast\":0,\"fBits2\":0,\"fTimeDisplay\":false,\"fTimeFormat\":\"\",\"fLabels\":null,\"fModLabs\":null},\"fZaxis\":{\"_typename\":\"TAxis\",\"fUniqueID\":0,\"fBits\":50331648,\"fName\":\"zaxis\",\"fTitle\":\"\",\"fNdivisions\":510,\"fAxisColor\":1,\"fLabelColor\":1,\"fLabelFont\":42,\"fLabelOffset\":0.005,\"fLabelSize\":0.035,\"fTickLength\":0.03,\"fTitleOffset\":1,\"fTitleSize\":0.035,\"fTitleColor\":1,\"fTitleFont\":42,\"fNbins\":1,\"fXmin\":0,\"fXmax\":1,\"fXbins\":[],\"fFirst\":0,\"fLast\":0,\"fBits2\":0,\"fTimeDisplay\":false,\"fTimeFormat\":\"\",\"fLabels\":null,\"fModLabs\":null},\"fBarOffset\":0,\"fBarWidth\":1000,\"fEntries\":0,\"fTsumw\":0,\"fTsumw2\":0,\"fTsumwx\":0,\"fTsumwx2\":0,\"fMaximum\":49.7403319385275,\"fMinimum\":0,\"fNormFactor\":0,\"fContour\":[],\"fSumw2\":[],\"fOption\":\"\",\"fFunctions\":{\"_typename\":\"TList\",\"name\":\"TList\",\"arr\":[],\"opt\":[]},\"fBufferSize\":0,\"fBuffer\":[],\"fBinStatErrOpt\":0,\"fStatOverflows\":2,\"fArray\":[0,0,0,0,0,0,0,0,0,0,0,0,0,0,0,0,0,0,0,0,0,0,0,0,0,0,0,0,0,0,0,0,0,0,0,0,0,0,0,0,0,0,0,0,0,0,0,0,0,0,0,0,0,0,0,0,0,0,0,0,0,0,0,0,0,0,0,0,0,0,0,0,0,0,0,0,0,0,0,0,0,0,0,0,0,0,0,0,0,0,0,0,0,0,0,0,0,0,0,0,0,0]},\"fMinimum\":-1111,\"fMaximum\":-1111,\"fEXlow\":[0.03,0.03,0.03,0.03,0.03,0.03,0.03,0.03,0.03,0.03,0.03,0.03,0.03,0.03,0.03,0.03,0.03,0.03,0.03,0.03,0.03,0.03,0.03,0.03,0.03,0.03,0.03,0.03,0.03,0.03,0.03,0.03,0.03,0.03,0.03,0.03,0.03,0.03,0.03,0.03,0.03,0.03,0.03,0.03,0.03,0.03,0.03,0.03,0.03,0.03,0.03,0.03,0.03,0.03,0.03,0.03,0.03,0.03,0.03,0.03,0.03,0.03,0.03,0.03,0.03,0.03,0.03,0.03,0.03,0.03,0.03,0.03,0.03,0.03,0.03,0.03,0.03,0.03,0.03,0.03,0.03,0.03,0.03,0.03,0.03,0.03,0.03,0.03,0.03,0.03,0.03,0.03,0.03,0.03,0.03,0.03,0.03,0.03,0.03,0.03],\"fEXhigh\":[0.03,0.03,0.03,0.03,0.03,0.03,0.03,0.03,0.03,0.03,0.03,0.03,0.03,0.03,0.03,0.03,0.03,0.03,0.03,0.03,0.03,0.03,0.03,0.03,0.03,0.03,0.03,0.03,0.03,0.03,0.03,0.03,0.03,0.03,0.03,0.03,0.03,0.03,0.03,0.03,0.03,0.03,0.03,0.03,0.03,0.03,0.03,0.03,0.03,0.03,0.03,0.03,0.03,0.03,0.03,0.03,0.03,0.03,0.03,0.03,0.03,0.03,0.03,0.03,0.03,0.03,0.03,0.03,0.03,0.03,0.03,0.03,0.03,0.03,0.03,0.03,0.03,0.03,0.03,0.03,0.03,0.03,0.03,0.03,0.03,0.03,0.03,0.03,0.03,0.03,0.03,0.03,0.03,0.03,0.03,0.03,0.03,0.03,0.03,0.03],\"fEYlow\":[3.10869443936164,4.65450239544497,4.54580699932335,4.86461220384528,4.76071662107231,5.06601492135562,4.86461220384528,4.65450239544497,4.86461220384528,4.54580699932335,5.25971089793461,5.44652245543606,5.16377123855587,5.80212840935486,5.35393156485154,5.97199579039322,5.53756532580577,6.13716310988257,5.35393156485154,5.62713531718605,5.71530168178358,5.25971089793461,4.76071662107231,4.65450239544497,5.06601492135562,3.69650031882412,4.96633466721007,4.54580699932335,4.43444798221412,4.43444798221412,3.95780102940381,4.08218389934171,3.5586623304375,3.5586623304375,3.10869443936164,3.26557940095131,2.58147045606626,2.94346103725076,3.69650031882412,3.41526599430015,2.58147045606626,2.94346103725076,2.76838605646272,0.82724622097655,1.91433918622288,2.58147045606626,1.63270468610957,2.37993137929577,1.29181456018103,1.91433918622288,2.76838605646272,1.29181456018103,1.63270468610957,1.63270468610957,1.29181456018103,0.82724622097655,1.91433918622288,1.63270468610957,2.37993137929577,1.63270468610957,1.63270468610957,0.82724622097655,1.63270468610957,0.82724622097655,0.82724622097655,0.82724622097655,0.82724622097655,0,0.82724622097655,1.91433918622288,0,0.82724622097655,0.82724622097655,0,0.82724622097655,0.82724622097655,0.82724622097655,0.82724622097655,0.82724622097655,0,0,0,1.29181456018103,0,0.82724622097655,0,0,0,0,0,0,0,0.82724622097655,0.82724622097655,0,0,0,0,0.82724622097655,0],\"fEYhigh\":[4.26694976100939,5.76136640411342,5.65518197118255,5.96693206711369,5.8652346956897,6.16432406860527,5.96693206711369,5.76136640411342,5.96693206711369,5.65518197118255,6.35444601200602,6.53804637266794,6.2602438465527,6.88810053038505,6.44701964227479,7.0555452840609,6.62760123878468,7.21848358047952,6.44701964227479,6.71575340007623,6.80256676451212,6.35444601200602,5.8652346956897,5.76136640411342,6.16432406860527,4.83038075568817,6.06658917312032,5.65518197118255,5.54651922951146,5.54651922951146,5.08306556401624,5.20371938988384,4.69757337260906,4.69757337260906,4.26694976100939,4.41652052316603,3.77028072043409,4.11020413766764,4.83038075568817,4.55981905739127,3.77028072043409,4.11020413766764,3.94514151986907,2.29952655911586,3.16275317226094,3.77028072043409,2.9181858328834,3.58364154598457,2.63785962345524,3.16275317226094,3.94514151986907,2.63785962345524,2.9181858328834,2.9181858328834,2.63785962345524,2.29952655911586,3.16275317226094,2.9181858328834,3.58364154598457,2.9181858328834,2.9181858328834,2.29952655911586,2.9181858328834,2.29952655911586,2.29952655911586,2.29952655911586,2.29952655911586,1.14787446444932,2.29952655911586,3.16275317226094,1.14787446444932,2.29952655911586,2.29952655911586,1.14787446444932,2.29952655911586,2.29952655911586,2.29952655911586,2.29952655911586,2.29952655911586,1.14787446444932,1.14787446444932,1.14787446444932,2.63785962345524,1.14787446444932,2.29952655911586,1.14787446444932,1.14787446444932,1.14787446444932,1.14787446444932,1.14787446444932,1.14787446444932,1.14787446444932,2.29952655911586,2.29952655911586,1.14787446444932,1.14787446444932,1.14787446444932,1.14787446444932,2.29952655911586,1.14787446444932],\"_yAxisLabel\":\"Events \\/ ( 0.06 )\",\"_ymin\":0,\"_ymax\":45.2184835804795,\"_normValue\":0,\"_nominalBinWidth\":0.06,\"_nSigma\":1,\"_entries\":1000,\"_rawEntries\":-1},{\"_typename\":\"RooCurve\",\"fUniqueID\":0,\"fBits\":50332680,\"fName\":\"nominal_Norm[x]\",\"fTitle\":\"Projection of \",\"fLineColor\":600,\"fLineStyle\":1,\"fLineWidth\":3,\"fFillColor\":0,\"fFillStyle\":1000,\"fMarkerColor\":1,\"fMarkerStyle\":1,\"fMarkerSize\":1,\"fNpoints\":106,\"fX\":[-1.06,-1.06,-1,-0.94,-0.88,-0.82,-0.76,-0.7,-0.64,-0.58,-0.52,-0.46,-0.4,-0.34,-0.28,-0.22,-0.16,-0.1,-0.04,0.02,0.0800000000000001,0.14,0.2,0.26,0.32,0.38,0.44,0.5,0.56,0.62,0.68,0.74,0.8,0.86,0.92,0.98,1.04,1.1,1.16,1.22,1.28,1.34,1.4,1.46,1.52,1.58,1.64,1.7,1.76,1.82,1.88,1.94,2,2.06,2.12,2.18,2.24,2.3,2.36,2.42,2.48,2.54,2.6,2.66,2.72,2.78,2.84,2.9,2.96,3.02,3.08,3.14,3.2,3.26,3.32,3.38,3.44,3.5,3.56,3.62,3.68,3.74,3.8,3.86,3.92,3.98,4.04,4.1,4.16,4.22,4.28,4.34,4.4,4.46,4.52,4.58,4.64,4.7,4.76,4.82,4.88,4.94,5,5,5.06,5.06],\"fY\":[0,17.6711943890765,17.6711943890765,18.4236730607454,19.1587118896625,19.8717524896128,20.5582340618634,21.2136411392195,21.8335524476421,22.4136901569536,22.9499687608765,23.4385428102536,23.8758527226003,24.2586679066166,24.5841264719665,24.8497708421498,25.0535786508495,25.1939883785381,25.2699192747934,25.2807852107917,25.2265022136181,25.1074895469213,24.9246643184599,24.6794297115556,24.3736570516955,24.0096620288808,23.5901754983117,23.118309374346,22.5975182133481,22.0315571483708,21.4244368912521,20.7803765547306,20.1037550680766,19.3990619643997,18.6708483065548,17.9236784921321,17.1620836374701,16.3905171873593,15.613313332788,14.8346487456012,14.0585080583431,13.2886534319601,12.5285984656272,11.7815866138504,11.0505741882324,10.3382179367811,9.646867114094,8.97855988267169,8.33502382024237,7.71768025129071,7.12765207368134,6.56577471376393,6.0326098157922,5.52846125377276,5.05339304563642,4.60724875034123,4.18967193744367,3.80012733493839,3.43792228378788,3.10222815548815,2.79210142115546,2.50650409587733,2.24432331937944,2.00438987240037,1.78549546659546,1.5864086834564,1.40588947388958,1.24270216411104,1.09562694487737,0.963469849387858,0.845071250188763,0.739312926923152,0.645123774738166,0.561484237619652,0.487429561983863,0.422051973699234,0.364501886573504,0.313988252500244,0.269778163220467,0.231195811342721,0.19762091420889,0.168486698719066,0.143277538652715,0.121526328641991,0.102811671040355,0.0867549437325292,0.0730173086674513,0.0612967127508006,0.0513249248630837,0.0428646452983035,0.035706716942842,0.029667461103631,0.0245861550937185,0.0203226635151637,0.0167552306482954,0.0137784374515295,0.0113013233731745,0.00924567044194611,0.00754444489489004,0.00614038987361294,0.00498476142274531,0.00403619910781915,0.00325972198299104,0.00325972198299104,0.00325972198299104,0],\"fFunctions\":{\"_typename\":\"TList\",\"name\":\"TList\",\"arr\":[],\"opt\":[]},\"fHistogram\":{\"_typename\":\"TH1F\",\"fUniqueID\":0,\"fBits\":50332168,\"fName\":\"nominal_Norm[x]\",\"fTitle\":\"Projection of \",\"fLineColor\":602,\"fLineStyle\":1,\"fLineWidth\":1,\"fFillColor\":0,\"fFillStyle\":1001,\"fMarkerColor\":1,\"fMarkerStyle\":1,\"fMarkerSize\":1,\"fNcells\":108,\"fXaxis\":{\"_typename\":\"TAxis\",\"fUniqueID\":0,\"fBits\":50331648,\"fName\":\"xaxis\",\"fTitle\":\"\",\"fNdivisions\":510,\"fAxisColor\":1,\"fLabelColor\":1,\"fLabelFont\":42,\"fLabelOffset\":0.005,\"fLabelSize\":0.035,\"fTickLength\":0.03,\"fTitleOffset\":1,\"fTitleSize\":0.035,\"fTitleColor\":1,\"fTitleFont\":42,\"fNbins\":106,\"fXmin\":-1.672,\"fXmax\":5.672,\"fXbins\":[],\"fFirst\":0,\"fLast\":0,\"fBits2\":0,\"fTimeDisplay\":false,\"fTimeFormat\":\"\",\"fLabels\":null,\"fModLabs\":null},\"fYaxis\":{\"_typename\":\"TAxis\",\"fUniqueID\":0,\"fBits\":50331648,\"fName\":\"yaxis\",\"fTitle\":\"\",\"fNdivisions\":510,\"fAxisColor\":1,\"fLabelColor\":1,\"fLabelFont\":42,\"fLabelOffset\":0.005,\"fLabelSize\":0.035,\"fTickLength\":0.03,\"fTitleOffset\":0,\"fTitleSize\":0.035,\"fTitleColor\":1,\"fTitleFont\":42,\"fNbins\":1,\"fXmin\":0,\"fXmax\":27.8088637318709,\"fXbins\":[],\"fFirst\":0,\"fLast\":0,\"fBits2\":0,\"fTimeDisplay\":false,\"fTimeFormat\":\"\",\"fLabels\":null,\"fModLabs\":null},\"fZaxis\":{\"_typename\":\"TAxis\",\"fUniqueID\":0,\"fBits\":50331648,\"fName\":\"zaxis\",\"fTitle\":\"\",\"fNdivisions\":510,\"fAxisColor\":1,\"fLabelColor\":1,\"fLabelFont\":42,\"fLabelOffset\":0.005,\"fLabelSize\":0.035,\"fTickLength\":0.03,\"fTitleOffset\":1,\"fTitleSize\":0.035,\"fTitleColor\":1,\"fTitleFont\":42,\"fNbins\":1,\"fXmin\":0,\"fXmax\":1,\"fXbins\":[],\"fFirst\":0,\"fLast\":0,\"fBits2\":0,\"fTimeDisplay\":false,\"fTimeFormat\":\"\",\"fLabels\":null,\"fModLabs\":null},\"fBarOffset\":0,\"fBarWidth\":1000,\"fEntries\":0,\"fTsumw\":0,\"fTsumw2\":0,\"fTsumwx\":0,\"fTsumwx2\":0,\"fMaximum\":27.8088637318709,\"fMinimum\":0,\"fNormFactor\":0,\"fContour\":[],\"fSumw2\":[],\"fOption\":\"\",\"fFunctions\":{\"_typename\":\"TList\",\"name\":\"TList\",\"arr\":[],\"opt\":[]},\"fBufferSize\":0,\"fBuffer\":[],\"fBinStatErrOpt\":0,\"fStatOverflows\":2,\"fArray\":[0,0,0,0,0,0,0,0,0,0,0,0,0,0,0,0,0,0,0,0,0,0,0,0,0,0,0,0,0,0,0,0,0,0,0,0,0,0,0,0,0,0,0,0,0,0,0,0,0,0,0,0,0,0,0,0,0,0,0,0,0,0,0,0,0,0,0,0,0,0,0,0,0,0,0,0,0,0,0,0,0,0,0,0,0,0,0,0,0,0,0,0,0,0,0,0,0,0,0,0,0,0,0,0,0,0,0,0]},\"fMinimum\":-1111,\"fMaximum\":-1111,\"_yAxisLabel\":\"Projection of \",\"_ymin\":0,\"_ymax\":25.2807852107917,\"_normValue\":0},{\"_typename\":\"RooCurve\",\"fUniqueID\":0,\"fBits\":50332680,\"fName\":\"corrected_Norm[x]\",\"fTitle\":\"Projection of \",\"fLineColor\":632,\"fLineStyle\":1,\"fLineWidth\":3,\"fFillColor\":0,\"fFillStyle\":1000,\"fMarkerColor\":1,\"fMarkerStyle\":1,\"fMarkerSize\":1,\"fNpoints\":106,\"fX\":[-1.06,-1.06,-1,-0.94,-0.88,-0.82,-0.76,-0.7,-0.64,-0.58,-0.52,-0.46,-0.4,-0.34,-0.28,-0.22,-0.16,-0.1,-0.04,0.02,0.0800000000000001,0.14,0.2,0.26,0.32,0.38,0.44,0.5,0.56,0.62,0.68,0.74,0.8,0.86,0.92,0.98,1.04,1.1,1.16,1.22,1.28,1.34,1.4,1.46,1.52,1.58,1.64,1.7,1.76,1.82,1.88,1.94,2,2.06,2.12,2.18,2.24,2.3,2.36,2.42,2.48,2.54,2.6,2.66,2.72,2.78,2.84,2.9,2.96,3.02,3.08,3.14,3.2,3.26,3.32,3.38,3.44,3.5,3.56,3.62,3.68,3.74,3.8,3.86,3.92,3.98,4.04,4.1,4.16,4.22,4.28,4.34,4.4,4.46,4.52,4.58,4.64,4.7,4.76,4.82,4.88,4.94,5,5,5.06,5.06],\"fY\":[0,13.5795780111812,13.5795780111812,15.8156247965911,17.9376473437747,19.9299226797916,21.7783738368825,23.4707415230752,24.9967237687939,26.3480812625563,27.5187068600794,28.5046585506921,29.3041559710588,29.9175413470819,30.3472064994251,30.5974882467623,30.6745351659558,30.5861492048248,30.3416060788367,29.9514587091014,29.4273281701081,28.7816867099241,28.0276373847668,27.1786947190245,26.2485705690232,25.2509690448946,24.1993939428031,23.1069716742291,21.9862921658694,20.8492696594463,19.7070247818197,18.5697886982697,17.4468296206552,16.3464014309864,15.2757137115844,14.2409220552731,13.2471371705433,12.2984510026344,11.3979778649926,10.5479084173104,9.74957423500836,9.00352068734493,8.30958587249996,7.66698344179404,7.07438727448853,6.53001613148915,6.03171661249609,5.57704295839438,5.16333247084983,4.78777555651439,4.44747963694789,4.13952639114038,3.86102201010947,3.60914033817973,3.38115894998157,3.17448836369537,2.98669471833626,2.81551634553551,2.65887474472253,2.51488052592018,2.38183491815945,2.25822745584613,2.14273045262232,2.03419085488835,1.93162003778911,1.83418206770149,1.74118090955888,1.65204700701777,1.5663236105916,1.48365317527525,1.40376409641338,1.32645800189961,1.25159777122783,1.17909640818693,1.10890685458957,1.0410127976341,0.975420493410384,0.912151603615595,0.851237021560775,0.792711646746767,0.736610054324125,0.682962996240232,0.631794664410626,0.583120642419451,0.536946470655674,0.493266750047328,0.452064711314488,0.413312179604738,0.376969868219797,0.342987939642253,0.311306777015155,0.281857914436081,0.254565079752637,0.229345308866976,0.206110095775271,0.184766547607266,0.165218518731642,0.147367702510443,0.131114663487919,0.116359796664038,0.103004204017166,0.0909504815979549,0.0801034133170999,0.0801034133170999,0.0801034133170999,0],\"fFunctions\":{\"_typename\":\"TList\",\"name\":\"TList\",\"arr\":[],\"opt\":[]},\"fHistogram\":{\"_typename\":\"TH1F\",\"fUniqueID\":0,\"fBits\":50332168,\"fName\":\"corrected_Norm[x]\",\"fTitle\":\"Projection of \",\"fLineColor\":602,\"fLineStyle\":1,\"fLineWidth\":1,\"fFillColor\":0,\"fFillStyle\":1001,\"fMarkerColor\":1,\"fMarkerStyle\":1,\"fMarkerSize\":1,\"fNcells\":108,\"fXaxis\":{\"_typename\":\"TAxis\",\"fUniqueID\":0,\"fBits\":50331648,\"fName\":\"xaxis\",\"fTitle\":\"\",\"fNdivisions\":510,\"fAxisColor\":1,\"fLabelColor\":1,\"fLabelFont\":42,\"fLabelOffset\":0.005,\"fLabelSize\":0.035,\"fTickLength\":0.03,\"fTitleOffset\":1,\"fTitleSize\":0.035,\"fTitleColor\":1,\"fTitleFont\":42,\"fNbins\":106,\"fXmin\":-1.672,\"fXmax\":5.672,\"fXbins\":[],\"fFirst\":0,\"fLast\":0,\"fBits2\":0,\"fTimeDisplay\":false,\"fTimeFormat\":\"\",\"fLabels\":null,\"fModLabs\":null},\"fYaxis\":{\"_typename\":\"TAxis\",\"fUniqueID\":0,\"fBits\":50331648,\"fName\":\"yaxis\",\"fTitle\":\"\",\"fNdivisions\":510,\"fAxisColor\":1,\"fLabelColor\":1,\"fLabelFont\":42,\"fLabelOffset\":0.005,\"fLabelSize\":0.035,\"fTickLength\":0.03,\"fTitleOffset\":0,\"fTitleSize\":0.035,\"fTitleColor\":1,\"fTitleFont\":42,\"fNbins\":1,\"fXmin\":0,\"fXmax\":33.7419886825514,\"fXbins\":[],\"fFirst\":0,\"fLast\":0,\"fBits2\":0,\"fTimeDisplay\":false,\"fTimeFormat\":\"\",\"fLabels\":null,\"fModLabs\":null},\"fZaxis\":{\"_typename\":\"TAxis\",\"fUniqueID\":0,\"fBits\":50331648,\"fName\":\"zaxis\",\"fTitle\":\"\",\"fNdivisions\":510,\"fAxisColor\":1,\"fLabelColor\":1,\"fLabelFont\":42,\"fLabelOffset\":0.005,\"fLabelSize\":0.035,\"fTickLength\":0.03,\"fTitleOffset\":1,\"fTitleSize\":0.035,\"fTitleColor\":1,\"fTitleFont\":42,\"fNbins\":1,\"fXmin\":0,\"fXmax\":1,\"fXbins\":[],\"fFirst\":0,\"fLast\":0,\"fBits2\":0,\"fTimeDisplay\":false,\"fTimeFormat\":\"\",\"fLabels\":null,\"fModLabs\":null},\"fBarOffset\":0,\"fBarWidth\":1000,\"fEntries\":0,\"fTsumw\":0,\"fTsumw2\":0,\"fTsumwx\":0,\"fTsumwx2\":0,\"fMaximum\":33.7419886825514,\"fMinimum\":0,\"fNormFactor\":0,\"fContour\":[],\"fSumw2\":[],\"fOption\":\"\",\"fFunctions\":{\"_typename\":\"TList\",\"name\":\"TList\",\"arr\":[],\"opt\":[]},\"fBufferSize\":0,\"fBuffer\":[],\"fBinStatErrOpt\":0,\"fStatOverflows\":2,\"fArray\":[0,0,0,0,0,0,0,0,0,0,0,0,0,0,0,0,0,0,0,0,0,0,0,0,0,0,0,0,0,0,0,0,0,0,0,0,0,0,0,0,0,0,0,0,0,0,0,0,0,0,0,0,0,0,0,0,0,0,0,0,0,0,0,0,0,0,0,0,0,0,0,0,0,0,0,0,0,0,0,0,0,0,0,0,0,0,0,0,0,0,0,0,0,0,0,0,0,0,0,0,0,0,0,0,0,0,0,0]},\"fMinimum\":-1111,\"fMaximum\":-1111,\"_yAxisLabel\":\"Projection of \",\"_ymin\":0,\"_ymax\":30.6745351659558,\"_normValue\":0},{\"_typename\":\"RooCurve\",\"fUniqueID\":0,\"fBits\":50332680,\"fName\":\"poly_Norm[x]\",\"fTitle\":\"Projection of Bernstein poly\",\"fLineColor\":416,\"fLineStyle\":2,\"fLineWidth\":3,\"fFillColor\":0,\"fFillStyle\":1000,\"fMarkerColor\":1,\"fMarkerStyle\":1,\"fMarkerSize\":1,\"fNpoints\":106,\"fX\":[-1.06,-1.06,-1,-0.94,-0.88,-0.82,-0.76,-0.7,-0.64,-0.58,-0.52,-0.46,-0.4,-0.34,-0.28,-0.22,-0.16,-0.1,-0.04,0.02,0.0800000000000001,0.14,0.2,0.26,0.32,0.38,0.44,0.5,0.56,0.62,0.68,0.74,0.8,0.86,0.92,0.98,1.04,1.1,1.16,1.22,1.28,1.34,1.4,1.46,1.52,1.58,1.64,1.7,1.76,1.82,1.88,1.94,2,2.06,2.12,2.18,2.24,2.3,2.36,2.42,2.48,2.54,2.6,2.66,2.72,2.78,2.84,2.9,2.96,3.02,3.08,3.14,3.2,3.26,3.32,3.38,3.44,3.5,3.56,3.62,3.68,3.74,3.8,3.86,3.92,3.98,4.04,4.1,4.16,4.22,4.28,4.34,4.4,4.46,4.52,4.58,4.64,4.7,4.76,4.82,4.88,4.94,5,5,5.06,5.06],\"fY\":[0,4.41298589325925,4.41298589325925,4.95640337287668,5.43319149842282,5.84762615911318,6.2038188094033,6.50571977542028,6.75712157974048,6.96166228451315,7.12282885293013,7.24396052904165,7.32825223591803,7.37875799215754,7.39839434674028,7.38994383222798,7.35605843631002,7.2992630916953,7.22195918435034,7.12642808008319,7.01483466947361,6.88923093114911,6.7515595134071,6.6036573341831,6.4472591993649,6.28400143945287,6.11542556456619,5.94298193779522,5.76803346689981,5.59185931435373,5.41565862573511,5.24055427646287,5.06759663687925,4.89776735567834,4.73198316168066,4.57109968395377,4.41591529027893,4.26717494396375,4.12557407900094,3.9917624935731,3.86634826190342,3.74990166445259,3.64295913646165,3.54602723484088,3.45958662340472,3.38409607645279,3.31999650069688,3.26771497553396,3.22766881166533,3.2002696280617,3.18592744727434,3.18505480909231,3.19807090254563,3.2254057162546,3.26750420712508,3.3248304873898,3.3978720299958,3.48714389233775,3.59319295833749,3.71660219886943,3.85799495053212,4.01803921276579,4.19745196331593,4.39700349204294,4.61752175307775,4.85989673532359,5.12508485130366,5.41411334435492,5.72808471416791,6.0681811606726,6.43566904627025,6.83190337641133,7.2583322985195,7.71650161926154,8.20805934016346,8.73476021157247,9.29847030496517,9.90117160360161,10.5449666115255,11.2320829809104,11.9648781577519,12.7458440459061,13.5776116894737,14.4629559735305,15.4048003432037,16.4062215410944,17.4704543630459,18.6008964322584,19.8011129917495,21.0748417151606,22.4259975359096,23.8586774946899,25.3771656053142,26.9859377389062,28.6896665264366,30.4932262796065,32.4016979300757,34.4203739870378,36.554763513141,38.8105971187552,41.1938319745851,43.7106568426284,46.367497125482,46.367497125482,46.367497125482,0],\"fFunctions\":{\"_typename\":\"TList\",\"name\":\"TList\",\"arr\":[],\"opt\":[]},\"fHistogram\":{\"_typename\":\"TH1F\",\"fUniqueID\":0,\"fBits\":50332168,\"fName\":\"poly_Norm[x]\",\"fTitle\":\"Projection of Bernstein poly\",\"fLineColor\":602,\"fLineStyle\":1,\"fLineWidth\":1,\"fFillColor\":0,\"fFillStyle\":1001,\"fMarkerColor\":1,\"fMarkerStyle\":1,\"fMarkerSize\":1,\"fNcells\":108,\"fXaxis\":{\"_typename\":\"TAxis\",\"fUniqueID\":0,\"fBits\":50331648,\"fName\":\"xaxis\",\"fTitle\":\"\",\"fNdivisions\":510,\"fAxisColor\":1,\"fLabelColor\":1,\"fLabelFont\":42,\"fLabelOffset\":0.005,\"fLabelSize\":0.035,\"fTickLength\":0.03,\"fTitleOffset\":1,\"fTitleSize\":0.035,\"fTitleColor\":1,\"fTitleFont\":42,\"fNbins\":106,\"fXmin\":-1.672,\"fXmax\":5.672,\"fXbins\":[],\"fFirst\":0,\"fLast\":0,\"fBits2\":0,\"fTimeDisplay\":false,\"fTimeFormat\":\"\",\"fLabels\":null,\"fModLabs\":null},\"fYaxis\":{\"_typename\":\"TAxis\",\"fUniqueID\":0,\"fBits\":50331648,\"fName\":\"yaxis\",\"fTitle\":\"\",\"fNdivisions\":510,\"fAxisColor\":1,\"fLabelColor\":1,\"fLabelFont\":42,\"fLabelOffset\":0.005,\"fLabelSize\":0.035,\"fTickLength\":0.03,\"fTitleOffset\":0,\"fTitleSize\":0.035,\"fTitleColor\":1,\"fTitleFont\":42,\"fNbins\":1,\"fXmin\":0,\"fXmax\":51.0042468380302,\"fXbins\":[],\"fFirst\":0,\"fLast\":0,\"fBits2\":0,\"fTimeDisplay\":false,\"fTimeFormat\":\"\",\"fLabels\":null,\"fModLabs\":null},\"fZaxis\":{\"_typename\":\"TAxis\",\"fUniqueID\":0,\"fBits\":50331648,\"fName\":\"zaxis\",\"fTitle\":\"\",\"fNdivisions\":510,\"fAxisColor\":1,\"fLabelColor\":1,\"fLabelFont\":42,\"fLabelOffset\":0.005,\"fLabelSize\":0.035,\"fTickLength\":0.03,\"fTitleOffset\":1,\"fTitleSize\":0.035,\"fTitleColor\":1,\"fTitleFont\":42,\"fNbins\":1,\"fXmin\":0,\"fXmax\":1,\"fXbins\":[],\"fFirst\":0,\"fLast\":0,\"fBits2\":0,\"fTimeDisplay\":false,\"fTimeFormat\":\"\",\"fLabels\":null,\"fModLabs\":null},\"fBarOffset\":0,\"fBarWidth\":1000,\"fEntries\":0,\"fTsumw\":0,\"fTsumw2\":0,\"fTsumwx\":0,\"fTsumwx2\":0,\"fMaximum\":51.0042468380302,\"fMinimum\":0,\"fNormFactor\":0,\"fContour\":[],\"fSumw2\":[],\"fOption\":\"\",\"fFunctions\":{\"_typename\":\"TList\",\"name\":\"TList\",\"arr\":[],\"opt\":[]},\"fBufferSize\":0,\"fBuffer\":[],\"fBinStatErrOpt\":0,\"fStatOverflows\":2,\"fArray\":[0,0,0,0,0,0,0,0,0,0,0,0,0,0,0,0,0,0,0,0,0,0,0,0,0,0,0,0,0,0,0,0,0,0,0,0,0,0,0,0,0,0,0,0,0,0,0,0,0,0,0,0,0,0,0,0,0,0,0,0,0,0,0,0,0,0,0,0,0,0,0,0,0,0,0,0,0,0,0,0,0,0,0,0,0,0,0,0,0,0,0,0,0,0,0,0,0,0,0,0,0,0,0,0,0,0,0,0]},\"fMinimum\":-1111,\"fMaximum\":-1111,\"_yAxisLabel\":\"Projection of Bernstein poly\",\"_ymin\":0,\"_ymax\":46.367497125482,\"_normValue\":0},{\"$ref\":5},{\"_typename\":\"TPaveText\",\"fUniqueID\":0,\"fBits\":50331657,\"fLineColor\":1,\"fLineStyle\":1,\"fLineWidth\":1,\"fFillColor\":0,\"fFillStyle\":0,\"fX1\":1.40819844321172,\"fY1\":51.1201662201697,\"fX2\":2.59180155678828,\"fY2\":54.4673200186684,\"fX1NDC\":0.421093126937367,\"fY1NDC\":0.940000003948808,\"fX2NDC\":0.578906873062633,\"fY2NDC\":0.995000004768372,\"fBorderSize\":0,\"fInit\":1,\"fShadowColor\":1,\"fCornerRadius\":0,\"fOption\":\"blNDC\",\"fName\":\"title\",\"fTextAngle\":0,\"fTextSize\":0,\"fTextAlign\":22,\"fTextColor\":1,\"fTextFont\":42,\"fLabel\":\"\",\"fLongest\":16,\"fMargin\":0.05,\"fLines\":{\"_typename\":\"TList\",\"name\":\"TList\",\"arr\":[{\"_typename\":\"TLatex\",\"fUniqueID\":0,\"fBits\":50331648,\"fName\":\"\",\"fTitle\":\"A RooPlot of \\\"x\\\"\",\"fTextAngle\":0,\"fTextSize\":0,\"fTextAlign\":0,\"fTextColor\":0,\"fTextFont\":0,\"fX\":0,\"fY\":0,\"fLineColor\":1,\"fLineStyle\":1,\"fLineWidth\":2,\"fLimitFactorSize\":3,\"fOriginSize\":0.0467500016093254}],\"opt\":[\"\"]}}],\"opt\":[\"\",\"FUNC\",\"p\",\"l\",\"l\",\"l\",\"AXISSAME\",\"blNDC\"]},\"fExecs\":{\"_typename\":\"TList\",\"name\":\"TList\",\"arr\":[],\"opt\":[]},\"fName\":\"c1_1\",\"fTitle\":\"c1_1\",\"fNumPaletteColor\":0,\"fNextPaletteColor\":0},{\"_typename\":\"TPad\",\"fUniqueID\":0,\"fBits\":50331657,\"fLineColor\":1,\"fLineStyle\":1,\"fLineWidth\":1,\"fFillColor\":0,\"fFillStyle\":1001,\"fLeftMargin\":0.1,\"fRightMargin\":0.1,\"fBottomMargin\":0.1,\"fTopMargin\":0.1,\"fXfile\":2,\"fYfile\":2,\"fAfile\":1,\"fXstat\":0.99,\"fYstat\":0.99,\"fAstat\":2,\"fFrameFillColor\":0,\"fFrameLineColor\":1,\"fFrameFillStyle\":1001,\"fFrameLineStyle\":1,\"fFrameLineWidth\":1,\"fFrameBorderSize\":1,\"fFrameBorderMode\":0,\"fX1\":-1.25000009313226,\"fY1\":-0.787500058673326,\"fX2\":11.2500000931323,\"fY2\":7.08750005867333,\"fXtoAbsPixelk\":75.1680539410593,\"fXtoPixelk\":68.2080540966274,\"fXtoPixel\":54.5663992117881,\"fYtoAbsPixelk\":444.624048733997,\"fYtoPixelk\":203.904048839497,\"fYtoPixel\":-28.7695234076182,\"fUtoAbsPixelk\":6.96004984443188,\"fUtoPixelk\":5e-5,\"fUtoPixel\":682.080000311136,\"fVtoAbsPixelk\":467.2800501055,\"fVtoPixelk\":226.560000211,\"fVtoPixel\":-226.560000211,\"fAbsPixeltoXk\":-1.37755111253191,\"fPixeltoXk\":-1.25000009313226,\"fPixeltoX\":0.0183262963003791,\"fAbsPixeltoYk\":15.4546876718945,\"fPixeltoYk\":-0.787500058673326,\"fPixeltoY\":-0.0347590047228658,\"fXlowNDC\":0.00999999977648258,\"fYlowNDC\":0.00999999977648258,\"fXUpNDC\":0,\"fYUpNDC\":0,\"fWNDC\":0.980000000447035,\"fHNDC\":0.480000000447035,\"fAbsXlowNDC\":0.00999999977648258,\"fAbsYlowNDC\":0.00999999977648258,\"fAbsWNDC\":0.980000000447035,\"fAbsHNDC\":0.480000000447035,\"fUxmin\":0,\"fUymin\":0,\"fUxmax\":10,\"fUymax\":6.3,\"fTheta\":30,\"fPhi\":30,\"fAspectRatio\":0,\"fNumber\":2,\"fTickx\":0,\"fTicky\":0,\"fLogx\":0,\"fLogy\":0,\"fLogz\":0,\"fPadPaint\":0,\"fCrosshair\":0,\"fCrosshairPos\":0,\"fBorderSize\":2,\"fBorderMode\":0,\"fModified\":false,\"fGridx\":false,\"fGridy\":false,\"fAbsCoord\":false,\"fEditable\":true,\"fFixedAspectRatio\":false,\"fPrimitives\":{\"_typename\":\"TList\",\"name\":\"TList\",\"arr\":[{\"_typename\":\"TFrame\",\"fUniqueID\":0,\"fBits\":50331656,\"fLineColor\":1,\"fLineStyle\":1,\"fLineWidth\":1,\"fFillColor\":0,\"fFillStyle\":1001,\"fX1\":0,\"fY1\":0,\"fX2\":10,\"fY2\":6.3,\"fBorderSize\":1,\"fBorderMode\":0},{\"_typename\":\"TH1F\",\"fUniqueID\":0,\"fBits\":50331656,\"fName\":\"samplingDistExtra\",\"fTitle\":\"\",\"fLineColor\":632,\"fLineStyle\":1,\"fLineWidth\":1,\"fFillColor\":0,\"fFillStyle\":1001,\"fMarkerColor\":1,\"fMarkerStyle\":1,\"fMarkerSize\":1,\"fNcells\":22,\"fXaxis\":{\"_typename\":\"TAxis\",\"fUniqueID\":0,\"fBits\":50331648,\"fName\":\"xaxis\",\"fTitle\":\"\",\"fNdivisions\":510,\"fAxisColor\":1,\"fLabelColor\":1,\"fLabelFont\":42,\"fLabelOffset\":0.005,\"fLabelSize\":0.035,\"fTickLength\":0.03,\"fTitleOffset\":1,\"fTitleSize\":0.035,\"fTitleColor\":1,\"fTitleFont\":42,\"fNbins\":20,\"fXmin\":0,\"fXmax\":10,\"fXbins\":[],\"fFirst\":0,\"fLast\":0,\"fBits2\":0,\"fTimeDisplay\":false,\"fTimeFormat\":\"\",\"fLabels\":null,\"fModLabs\":null},\"fYaxis\":{\"_typename\":\"TAxis\",\"fUniqueID\":0,\"fBits\":50331648,\"fName\":\"yaxis\",\"fTitle\":\"\",\"fNdivisions\":510,\"fAxisColor\":1,\"fLabelColor\":1,\"fLabelFont\":42,\"fLabelOffset\":0.005,\"fLabelSize\":0.035,\"fTickLength\":0.03,\"fTitleOffset\":0,\"fTitleSize\":0.035,\"fTitleColor\":1,\"fTitleFont\":42,\"fNbins\":1,\"fXmin\":0,\"fXmax\":1,\"fXbins\":[],\"fFirst\":0,\"fLast\":0,\"fBits2\":0,\"fTimeDisplay\":false,\"fTimeFormat\":\"\",\"fLabels\":null,\"fModLabs\":null},\"fZaxis\":{\"_typename\":\"TAxis\",\"fUniqueID\":0,\"fBits\":50331648,\"fName\":\"zaxis\",\"fTitle\":\"\",\"fNdivisions\":510,\"fAxisColor\":1,\"fLabelColor\":1,\"fLabelFont\":42,\"fLabelOffset\":0.005,\"fLabelSize\":0.035,\"fTickLength\":0.03,\"fTitleOffset\":1,\"fTitleSize\":0.035,\"fTitleColor\":1,\"fTitleFont\":42,\"fNbins\":1,\"fXmin\":0,\"fXmax\":1,\"fXbins\":[],\"fFirst\":0,\"fLast\":0,\"fBits2\":0,\"fTimeDisplay\":false,\"fTimeFormat\":\"\",\"fLabels\":null,\"fModLabs\":null},\"fBarOffset\":0,\"fBarWidth\":1000,\"fEntries\":20,\"fTsumw\":19,\"fTsumw2\":19,\"fTsumwx\":27.8923358946026,\"fTsumwx2\":63.5156280843097,\"fMaximum\":-1111,\"fMinimum\":-1111,\"fNormFactor\":0,\"fContour\":[],\"fSumw2\":[],\"fOption\":\"\",\"fFunctions\":{\"_typename\":\"TList\",\"name\":\"TList\",\"arr\":[{\"_typename\":\"TPaveStats\",\"fUniqueID\":0,\"fBits\":50331657,\"fLineColor\":1,\"fLineStyle\":1,\"fLineWidth\":1,\"fFillColor\":0,\"fFillStyle\":1001,\"fX1\":8.50000025331975,\"fY1\":5.31562507920899,\"fX2\":11.0000003278256,\"fY2\":6.57562506982126,\"fX1NDC\":0.780000016093254,\"fY1NDC\":0.775000005960464,\"fX2NDC\":0.980000019073486,\"fY2NDC\":0.935000002384186,\"fBorderSize\":1,\"fInit\":1,\"fShadowColor\":1,\"fCornerRadius\":0,\"fOption\":\"brNDC\",\"fName\":\"stats\",\"fTextAngle\":0,\"fTextSize\":0,\"fTextAlign\":12,\"fTextColor\":1,\"fTextFont\":42,\"fLabel\":\"\",\"fLongest\":18,\"fMargin\":0.05,\"fLines\":{\"_typename\":\"TList\",\"name\":\"TList\",\"arr\":[{\"_typename\":\"TLatex\",\"fUniqueID\":0,\"fBits\":50331648,\"fName\":\"\",\"fTitle\":\"samplingDistExtra\",\"fTextAngle\":0,\"fTextSize\":0.0368,\"fTextAlign\":0,\"fTextColor\":0,\"fTextFont\":0,\"fX\":0,\"fY\":0,\"fLineColor\":1,\"fLineStyle\":1,\"fLineWidth\":2,\"fLimitFactorSize\":3,\"fOriginSize\":0.0368000008165836},{\"_typename\":\"TLatex\",\"fUniqueID\":0,\"fBits\":50331648,\"fName\":\"\",\"fTitle\":\"Entries = 20     \",\"fTextAngle\":0,\"fTextSize\":0,\"fTextAlign\":0,\"fTextColor\":0,\"fTextFont\":0,\"fX\":0,\"fY\":0,\"fLineColor\":1,\"fLineStyle\":1,\"fLineWidth\":2,\"fLimitFactorSize\":3,\"fOriginSize\":0.04},{\"_typename\":\"TLatex\",\"fUniqueID\":0,\"fBits\":50331648,\"fName\":\"\",\"fTitle\":\"Mean  =  1.468\",\"fTextAngle\":0,\"fTextSize\":0,\"fTextAlign\":0,\"fTextColor\":0,\"fTextFont\":0,\"fX\":0,\"fY\":0,\"fLineColor\":1,\"fLineStyle\":1,\"fLineWidth\":2,\"fLimitFactorSize\":3,\"fOriginSize\":0.04},{\"_typename\":\"TLatex\",\"fUniqueID\":0,\"fBits\":50331648,\"fName\":\"\",\"fTitle\":\"Std Dev   =   1.09\",\"fTextAngle\":0,\"fTextSize\":0,\"fTextAlign\":0,\"fTextColor\":0,\"fTextFont\":0,\"fX\":0,\"fY\":0,\"fLineColor\":1,\"fLineStyle\":1,\"fLineWidth\":2,\"fLimitFactorSize\":3,\"fOriginSize\":0.04}],\"opt\":[\"\",\"\",\"\",\"\"]},\"fOptFit\":0,\"fOptStat\":1111,\"fFitFormat\":\"5.4g\",\"fStatFormat\":\"6.4g\",\"fParent\":{\"$ref\":45}}],\"opt\":[\"brNDC\"]},\"fBufferSize\":0,\"fBuffer\":[],\"fBinStatErrOpt\":0,\"fStatOverflows\":2,\"fArray\":[1,3,6,2,4,0,1,1,2,0,0,0,0,0,0,0,0,0,0,0,0,0]},{\"_typename\":\"TH1F\",\"fUniqueID\":0,\"fBits\":50331656,\"fName\":\"samplingDist\",\"fTitle\":\"\",\"fLineColor\":602,\"fLineStyle\":1,\"fLineWidth\":1,\"fFillColor\":0,\"fFillStyle\":1001,\"fMarkerColor\":1,\"fMarkerStyle\":1,\"fMarkerSize\":1,\"fNcells\":22,\"fXaxis\":{\"_typename\":\"TAxis\",\"fUniqueID\":0,\"fBits\":50331648,\"fName\":\"xaxis\",\"fTitle\":\"\",\"fNdivisions\":510,\"fAxisColor\":1,\"fLabelColor\":1,\"fLabelFont\":42,\"fLabelOffset\":0.005,\"fLabelSize\":0.035,\"fTickLength\":0.03,\"fTitleOffset\":1,\"fTitleSize\":0.035,\"fTitleColor\":1,\"fTitleFont\":42,\"fNbins\":20,\"fXmin\":0,\"fXmax\":10,\"fXbins\":[],\"fFirst\":0,\"fLast\":0,\"fBits2\":0,\"fTimeDisplay\":false,\"fTimeFormat\":\"\",\"fLabels\":null,\"fModLabs\":null},\"fYaxis\":{\"_typename\":\"TAxis\",\"fUniqueID\":0,\"fBits\":50331648,\"fName\":\"yaxis\",\"fTitle\":\"\",\"fNdivisions\":510,\"fAxisColor\":1,\"fLabelColor\":1,\"fLabelFont\":42,\"fLabelOffset\":0.005,\"fLabelSize\":0.035,\"fTickLength\":0.03,\"fTitleOffset\":0,\"fTitleSize\":0.035,\"fTitleColor\":1,\"fTitleFont\":42,\"fNbins\":1,\"fXmin\":0,\"fXmax\":1,\"fXbins\":[],\"fFirst\":0,\"fLast\":0,\"fBits2\":0,\"fTimeDisplay\":false,\"fTimeFormat\":\"\",\"fLabels\":null,\"fModLabs\":null},\"fZaxis\":{\"_typename\":\"TAxis\",\"fUniqueID\":0,\"fBits\":50331648,\"fName\":\"zaxis\",\"fTitle\":\"\",\"fNdivisions\":510,\"fAxisColor\":1,\"fLabelColor\":1,\"fLabelFont\":42,\"fLabelOffset\":0.005,\"fLabelSize\":0.035,\"fTickLength\":0.03,\"fTitleOffset\":1,\"fTitleSize\":0.035,\"fTitleColor\":1,\"fTitleFont\":42,\"fNbins\":1,\"fXmin\":0,\"fXmax\":1,\"fXbins\":[],\"fFirst\":0,\"fLast\":0,\"fBits2\":0,\"fTimeDisplay\":false,\"fTimeFormat\":\"\",\"fLabels\":null,\"fModLabs\":null},\"fBarOffset\":0,\"fBarWidth\":1000,\"fEntries\":20,\"fTsumw\":19,\"fTsumw2\":19,\"fTsumwx\":57.0499000884229,\"fTsumwx2\":223.760189663843,\"fMaximum\":-1111,\"fMinimum\":-1111,\"fNormFactor\":0,\"fContour\":[],\"fSumw2\":[],\"fOption\":\"\",\"fFunctions\":{\"_typename\":\"TList\",\"name\":\"TList\",\"arr\":[],\"opt\":[]},\"fBufferSize\":0,\"fBuffer\":[],\"fBinStatErrOpt\":0,\"fStatOverflows\":2,\"fArray\":[0,2,0,1,4,2,1,0,2,2,3,1,1,0,0,0,0,0,0,0,0,1]}],\"opt\":[\"\",\"\",\"same\"]},\"fExecs\":{\"_typename\":\"TList\",\"name\":\"TList\",\"arr\":[],\"opt\":[]},\"fName\":\"c1_2\",\"fTitle\":\"c1_2\",\"fNumPaletteColor\":0,\"fNextPaletteColor\":0}],\"opt\":[\"\",\"\"]},\"fExecs\":null,\"fName\":\"c1\",\"fTitle\":\"c1\",\"fNumPaletteColor\":0,\"fNextPaletteColor\":0,\"fDISPLAY\":\"$DISPLAY\",\"fDoubleBuffer\":0,\"fRetained\":true,\"fXsizeUser\":0,\"fYsizeUser\":0,\"fXsizeReal\":20,\"fYsizeReal\":14.28571,\"fWindowTopX\":0,\"fWindowTopY\":0,\"fWindowWidth\":0,\"fWindowHeight\":0,\"fCw\":696,\"fCh\":472,\"fCatt\":{\"_typename\":\"TAttCanvas\",\"fXBetween\":2,\"fYBetween\":2,\"fTitleFromTop\":1.2,\"fXdate\":0.2,\"fYdate\":0.3,\"fAdate\":1},\"kMoveOpaque\":true,\"kResizeOpaque\":true,\"fHighLightColor\":2,\"fBatch\":true,\"kShowEventStatus\":false,\"kAutoExec\":true,\"kMenuBar\":true});\n",
       "       Core.draw(\"root_plot_1\", obj, \"\");\n",
       "     }\n",
       " );\n",
       "</script>\n"
      ],
      "text/plain": [
       "<IPython.core.display.HTML object>"
      ]
     },
     "metadata": {},
     "output_type": "display_data"
    }
   ],
   "source": [
    "%jsroot on\n",
    "gROOT->GetListOfCanvases()->Draw()"
   ]
  }
 ],
 "metadata": {
  "kernelspec": {
   "display_name": "ROOT C++",
   "language": "c++",
   "name": "root"
  },
  "language_info": {
   "codemirror_mode": "text/x-c++src",
   "file_extension": ".C",
   "mimetype": " text/x-c++src",
   "name": "c++"
  }
 },
 "nbformat": 4,
 "nbformat_minor": 2
}
