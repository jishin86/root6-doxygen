{
 "cells": [
  {
   "cell_type": "markdown",
   "metadata": {},
   "source": [
    "#  T M V A Classification Category\n",
    "This macro provides examples for the training and testing of the\n",
    "TMVA classifiers in categorisation mode.\n",
    "- Project   : TMVA - a Root-integrated toolkit for multivariate data analysis\n",
    "- Package   : TMVA\n",
    "- Root Macro: TMVAClassificationCategory\n",
    "\n",
    "As input data is used a toy-MC sample consisting of four Gaussian-distributed\n",
    "and linearly correlated input variables with category (eta) dependent\n",
    "properties.\n",
    "\n",
    "For this example, only Fisher and Likelihood are used. Run via:\n",
    "\n",
    "    root -l TMVAClassificationCategory.C\n",
    "\n",
    "The output file \"TMVA.root\" can be analysed with the use of dedicated\n",
    "macros (simply say: root -l <macro.C>), which can be conveniently\n",
    "invoked through a GUI that will appear at the end of the run of this macro.\n",
    "\n",
    "\n",
    "\n",
    "**Author:** Andreas Hoecker  \n",
    "<i><small>This notebook tutorial was automatically generated with <a href= \"https://github.com/root-project/root/blob/master/documentation/doxygen/converttonotebook.py\">ROOTBOOK-izer</a> from the macro found in the ROOT repository  on Thursday, August 29, 2019 at 03:46 AM.</small></i>"
   ]
  },
  {
   "cell_type": "code",
   "execution_count": 1,
   "metadata": {
    "collapsed": false
   },
   "outputs": [],
   "source": [
    "%%cpp -d\n",
    "#include <cstdlib>\n",
    "#include <iostream>\n",
    "#include <map>\n",
    "#include <string>\n",
    "\n",
    "#include \"TChain.h\"\n",
    "#include \"TFile.h\"\n",
    "#include \"TTree.h\"\n",
    "#include \"TString.h\"\n",
    "#include \"TObjString.h\"\n",
    "#include \"TSystem.h\"\n",
    "#include \"TROOT.h\"\n",
    "\n",
    "#include \"TMVA/MethodCategory.h\"\n",
    "#include \"TMVA/Factory.h\"\n",
    "#include \"TMVA/DataLoader.h\"\n",
    "#include \"TMVA/Tools.h\"\n",
    "#include \"TMVA/TMVAGui.h\""
   ]
  },
  {
   "cell_type": "markdown",
   "metadata": {},
   "source": [
    "Two types of category methods are implemented"
   ]
  },
  {
   "cell_type": "code",
   "execution_count": 2,
   "metadata": {
    "collapsed": false
   },
   "outputs": [],
   "source": [
    "Bool_t UseOffsetMethod = kTRUE;"
   ]
  },
  {
   "cell_type": "markdown",
   "metadata": {},
   "source": [
    "---------------------------------------------------------------\n",
    " Example for usage of different event categories with classifiers"
   ]
  },
  {
   "cell_type": "code",
   "execution_count": 3,
   "metadata": {
    "collapsed": false
   },
   "outputs": [
    {
     "name": "stdout",
     "output_type": "stream",
     "text": [
      "\n",
      "==> Start TMVAClassificationCategory\n"
     ]
    }
   ],
   "source": [
    "std::cout << std::endl << \"==> Start TMVAClassificationCategory\" << std::endl;"
   ]
  },
  {
   "cell_type": "markdown",
   "metadata": {},
   "source": [
    "This loads the library"
   ]
  },
  {
   "cell_type": "code",
   "execution_count": 4,
   "metadata": {
    "collapsed": false
   },
   "outputs": [],
   "source": [
    "TMVA::Tools::Instance();\n",
    "\n",
    "bool batchMode = false;"
   ]
  },
  {
   "cell_type": "markdown",
   "metadata": {},
   "source": [
    "Create a new root output file."
   ]
  },
  {
   "cell_type": "code",
   "execution_count": 5,
   "metadata": {
    "collapsed": false
   },
   "outputs": [],
   "source": [
    "TString outfileName( \"TMVA.root\" );\n",
    "TFile* outputFile = TFile::Open( outfileName, \"RECREATE\" );"
   ]
  },
  {
   "cell_type": "markdown",
   "metadata": {},
   "source": [
    "Create the factory object (see tmvaclassification.c for more information)"
   ]
  },
  {
   "cell_type": "code",
   "execution_count": 6,
   "metadata": {
    "collapsed": false
   },
   "outputs": [],
   "source": [
    "  std::string factoryOptions( \"!V:!Silent:Transformations=I;D;P;G,D\" );\n",
    "  if (batchMode) factoryOptions += \":!Color:!DrawProgressBar\";\n",
    "\n",
    "TMVA::Factory *factory = new TMVA::Factory( \"TMVAClassificationCategory\", outputFile, factoryOptions );"
   ]
  },
  {
   "cell_type": "markdown",
   "metadata": {},
   "source": [
    "Create dataloader"
   ]
  },
  {
   "cell_type": "code",
   "execution_count": 7,
   "metadata": {
    "collapsed": false
   },
   "outputs": [],
   "source": [
    "TMVA::DataLoader *dataloader=new TMVA::DataLoader(\"dataset\");"
   ]
  },
  {
   "cell_type": "markdown",
   "metadata": {},
   "source": [
    "Define the input variables used for the mva training"
   ]
  },
  {
   "cell_type": "code",
   "execution_count": 8,
   "metadata": {
    "collapsed": false
   },
   "outputs": [],
   "source": [
    "dataloader->AddVariable( \"var1\", 'F' );\n",
    "dataloader->AddVariable( \"var2\", 'F' );\n",
    "dataloader->AddVariable( \"var3\", 'F' );\n",
    "dataloader->AddVariable( \"var4\", 'F' );"
   ]
  },
  {
   "cell_type": "markdown",
   "metadata": {},
   "source": [
    "You can add so-called \"spectator variables\", which are not used in the mva training,\n",
    " but will appear in the final \"TestTree\" produced by TMVA. This TestTree will contain the\n",
    " input variables, the response values of all trained MVAs, and the spectator variables"
   ]
  },
  {
   "cell_type": "code",
   "execution_count": 9,
   "metadata": {
    "collapsed": false
   },
   "outputs": [],
   "source": [
    "dataloader->AddSpectator( \"eta\" );"
   ]
  },
  {
   "cell_type": "markdown",
   "metadata": {},
   "source": [
    "Load the signal and background event samples from root trees"
   ]
  },
  {
   "cell_type": "code",
   "execution_count": 10,
   "metadata": {
    "collapsed": false
   },
   "outputs": [
    {
     "name": "stdout",
     "output_type": "stream",
     "text": [
      "--- TMVAClassificationCategory: Accessing /mnt/build/workspace/root-makedoc-v618/rootspi/rdoc/src/v6-18-00-patches.build/tutorials/tmva/data/toy_sigbkg_categ_offset.root\n"
     ]
    }
   ],
   "source": [
    "TFile *input(0);\n",
    "TString fname = TString(gSystem->DirName(__FILE__) ) + \"/data/\";\n",
    "if (gSystem->AccessPathName( fname + \"toy_sigbkg_categ_offset.root\")) {\n",
    "   // if directory data not found try using tutorials dir\n",
    "   fname = gROOT->GetTutorialDir() + \"/tmva/data/\";\n",
    "}\n",
    "if (UseOffsetMethod) fname += \"toy_sigbkg_categ_offset.root\";\n",
    "else                 fname += \"toy_sigbkg_categ_varoff.root\";\n",
    "if (!gSystem->AccessPathName( fname )) {\n",
    "   // first we try to find tmva_example.root in the local directory\n",
    "   std::cout << \"--- TMVAClassificationCategory: Accessing \" << fname << std::endl;\n",
    "   input = TFile::Open( fname );\n",
    "}\n",
    "\n",
    "if (!input) {\n",
    "   std::cout << \"ERROR: could not open data file: \" << fname << std::endl;\n",
    "   exit(1);\n",
    "}\n",
    "\n",
    "TTree *signalTree     = (TTree*)input->Get(\"TreeS\");\n",
    "TTree *background = (TTree*)input->Get(\"TreeB\");"
   ]
  },
  {
   "cell_type": "markdown",
   "metadata": {},
   "source": [
    "Global event weights per tree (see below for setting event-wise weights)"
   ]
  },
  {
   "cell_type": "code",
   "execution_count": 11,
   "metadata": {
    "collapsed": false
   },
   "outputs": [],
   "source": [
    "Double_t signalWeight     = 1.0;\n",
    "Double_t backgroundWeight = 1.0;"
   ]
  },
  {
   "cell_type": "markdown",
   "metadata": {},
   "source": [
    "You can add an arbitrary number of signal or background trees"
   ]
  },
  {
   "cell_type": "code",
   "execution_count": 12,
   "metadata": {
    "collapsed": false
   },
   "outputs": [
    {
     "name": "stdout",
     "output_type": "stream",
     "text": [
      "<HEADER> DataSetInfo              : [dataset] : Added class \"Signal\"\n",
      "                         : Add Tree TreeS of type Signal with 10000 events\n",
      "<HEADER> DataSetInfo              : [dataset] : Added class \"Background\"\n",
      "                         : Add Tree TreeB of type Background with 10000 events\n"
     ]
    }
   ],
   "source": [
    "dataloader->AddSignalTree    ( signalTree,     signalWeight     );\n",
    "dataloader->AddBackgroundTree( background, backgroundWeight );"
   ]
  },
  {
   "cell_type": "markdown",
   "metadata": {},
   "source": [
    "Apply additional cuts on the signal and background samples (can be different)"
   ]
  },
  {
   "cell_type": "code",
   "execution_count": 13,
   "metadata": {
    "collapsed": false
   },
   "outputs": [],
   "source": [
    "TCut mycuts = \"\"; // for example: TCut mycuts = \"abs(var1)<0.5 && abs(var2-0.5)<1\";\n",
    "TCut mycutb = \"\"; // for example: TCut mycutb = \"abs(var1)<0.5\";"
   ]
  },
  {
   "cell_type": "markdown",
   "metadata": {},
   "source": [
    "Tell the factory how to use the training and testing events"
   ]
  },
  {
   "cell_type": "code",
   "execution_count": 14,
   "metadata": {
    "collapsed": false
   },
   "outputs": [],
   "source": [
    "dataloader->PrepareTrainingAndTestTree( mycuts, mycutb,\n",
    "                                     \"nTrain_Signal=0:nTrain_Background=0:SplitMode=Random:NormMode=NumEvents:!V\" );"
   ]
  },
  {
   "cell_type": "markdown",
   "metadata": {},
   "source": [
    "Book mva methods"
   ]
  },
  {
   "cell_type": "markdown",
   "metadata": {},
   "source": [
    "Fisher discriminant"
   ]
  },
  {
   "cell_type": "code",
   "execution_count": 15,
   "metadata": {
    "collapsed": false
   },
   "outputs": [
    {
     "name": "stdout",
     "output_type": "stream",
     "text": [
      "<HEADER> Factory                  : Booking method: Fisher\n",
      "                         : \n"
     ]
    }
   ],
   "source": [
    "factory->BookMethod( dataloader, TMVA::Types::kFisher, \"Fisher\", \"!H:!V:Fisher\" );"
   ]
  },
  {
   "cell_type": "markdown",
   "metadata": {},
   "source": [
    "Likelihood"
   ]
  },
  {
   "cell_type": "code",
   "execution_count": 16,
   "metadata": {
    "collapsed": false
   },
   "outputs": [
    {
     "name": "stdout",
     "output_type": "stream",
     "text": [
      "<HEADER> Factory                  : Booking method: Likelihood\n",
      "                         : \n"
     ]
    }
   ],
   "source": [
    "factory->BookMethod( dataloader, TMVA::Types::kLikelihood, \"Likelihood\",\n",
    "                     \"!H:!V:TransformOutput:PDFInterpol=Spline2:NSmoothSig[0]=20:NSmoothBkg[0]=20:NSmoothBkg[1]=10:NSmooth=1:NAvEvtPerBin=50\" );"
   ]
  },
  {
   "cell_type": "markdown",
   "metadata": {},
   "source": [
    "Categorised classifier"
   ]
  },
  {
   "cell_type": "code",
   "execution_count": 17,
   "metadata": {
    "collapsed": false
   },
   "outputs": [],
   "source": [
    "TMVA::MethodCategory* mcat = 0;"
   ]
  },
  {
   "cell_type": "markdown",
   "metadata": {},
   "source": [
    "The variable sets"
   ]
  },
  {
   "cell_type": "code",
   "execution_count": 18,
   "metadata": {
    "collapsed": false
   },
   "outputs": [],
   "source": [
    "TString theCat1Vars = \"var1:var2:var3:var4\";\n",
    "TString theCat2Vars = (UseOffsetMethod ? \"var1:var2:var3:var4\" : \"var1:var2:var3\");"
   ]
  },
  {
   "cell_type": "markdown",
   "metadata": {},
   "source": [
    "Fisher with categories"
   ]
  },
  {
   "cell_type": "code",
   "execution_count": 19,
   "metadata": {
    "collapsed": false
   },
   "outputs": [
    {
     "name": "stdout",
     "output_type": "stream",
     "text": [
      "<HEADER> Factory                  : Booking method: FisherCat\n",
      "                         : \n",
      "                         : Adding sub-classifier: Fisher::Category_Fisher_1\n",
      "<HEADER> DataSetInfo              : [Category_Fisher_1_dsi] : Added class \"Signal\"\n",
      "<HEADER> DataSetInfo              : [Category_Fisher_1_dsi] : Added class \"Background\"\n",
      "                         : Adding sub-classifier: Fisher::Category_Fisher_2\n",
      "<HEADER> DataSetInfo              : [Category_Fisher_2_dsi] : Added class \"Signal\"\n",
      "<HEADER> DataSetInfo              : [Category_Fisher_2_dsi] : Added class \"Background\"\n"
     ]
    }
   ],
   "source": [
    "TMVA::MethodBase* fiCat = factory->BookMethod( dataloader, TMVA::Types::kCategory, \"FisherCat\",\"\" );\n",
    "mcat = dynamic_cast<TMVA::MethodCategory*>(fiCat);\n",
    "mcat->AddMethod( \"abs(eta)<=1.3\", theCat1Vars, TMVA::Types::kFisher, \"Category_Fisher_1\",\"!H:!V:Fisher\" );\n",
    "mcat->AddMethod( \"abs(eta)>1.3\",  theCat2Vars, TMVA::Types::kFisher, \"Category_Fisher_2\",\"!H:!V:Fisher\" );"
   ]
  },
  {
   "cell_type": "markdown",
   "metadata": {},
   "source": [
    "Likelihood with categories"
   ]
  },
  {
   "cell_type": "code",
   "execution_count": 20,
   "metadata": {
    "collapsed": false
   },
   "outputs": [
    {
     "name": "stdout",
     "output_type": "stream",
     "text": [
      "<HEADER> Factory                  : Booking method: LikelihoodCat\n",
      "                         : \n",
      "                         : Adding sub-classifier: Likelihood::Category_Likelihood_1\n",
      "<HEADER> DataSetInfo              : [Category_Likelihood_1_dsi] : Added class \"Signal\"\n",
      "<HEADER> DataSetInfo              : [Category_Likelihood_1_dsi] : Added class \"Background\"\n",
      "                         : Adding sub-classifier: Likelihood::Category_Likelihood_2\n",
      "<HEADER> DataSetInfo              : [Category_Likelihood_2_dsi] : Added class \"Signal\"\n",
      "<HEADER> DataSetInfo              : [Category_Likelihood_2_dsi] : Added class \"Background\"\n"
     ]
    }
   ],
   "source": [
    "TMVA::MethodBase* liCat = factory->BookMethod( dataloader, TMVA::Types::kCategory, \"LikelihoodCat\",\"\" );\n",
    "mcat = dynamic_cast<TMVA::MethodCategory*>(liCat);\n",
    "mcat->AddMethod( \"abs(eta)<=1.3\",theCat1Vars, TMVA::Types::kLikelihood,\n",
    "                 \"Category_Likelihood_1\",\"!H:!V:TransformOutput:PDFInterpol=Spline2:NSmoothSig[0]=20:NSmoothBkg[0]=20:NSmoothBkg[1]=10:NSmooth=1:NAvEvtPerBin=50\" );\n",
    "mcat->AddMethod( \"abs(eta)>1.3\", theCat2Vars, TMVA::Types::kLikelihood,\n",
    "                 \"Category_Likelihood_2\",\"!H:!V:TransformOutput:PDFInterpol=Spline2:NSmoothSig[0]=20:NSmoothBkg[0]=20:NSmoothBkg[1]=10:NSmooth=1:NAvEvtPerBin=50\" );"
   ]
  },
  {
   "cell_type": "markdown",
   "metadata": {},
   "source": [
    "Now you can tell the factory to train, test, and evaluate the mvas"
   ]
  },
  {
   "cell_type": "markdown",
   "metadata": {},
   "source": [
    "Train mvas using the set of training events"
   ]
  },
  {
   "cell_type": "code",
   "execution_count": 21,
   "metadata": {
    "collapsed": false
   },
   "outputs": [
    {
     "name": "stdout",
     "output_type": "stream",
     "text": [
      "<HEADER> Factory                  : Train all methods\n",
      "<HEADER> DataSetFactory           : [dataset] : Number of events in input trees\n",
      "                         : \n",
      "                         : \n",
      "                         : Number of training and testing events\n",
      "                         : ---------------------------------------------------------------------------\n",
      "                         : Signal     -- training events            : 5000\n",
      "                         : Signal     -- testing events             : 5000\n",
      "                         : Signal     -- training and testing events: 10000\n",
      "                         : Background -- training events            : 5000\n",
      "                         : Background -- testing events             : 5000\n",
      "                         : Background -- training and testing events: 10000\n",
      "                         : \n",
      "<HEADER> DataSetInfo              : Correlation matrix (Signal):\n",
      "                         : ----------------------------------------\n",
      "                         :             var1    var2    var3    var4\n",
      "                         :    var1:  +1.000  +0.368  +0.378  +0.391\n",
      "                         :    var2:  +0.368  +1.000  +0.388  +0.386\n",
      "                         :    var3:  +0.378  +0.388  +1.000  +0.389\n",
      "                         :    var4:  +0.391  +0.386  +0.389  +1.000\n",
      "                         : ----------------------------------------\n",
      "<HEADER> DataSetInfo              : Correlation matrix (Background):\n",
      "                         : ----------------------------------------\n",
      "                         :             var1    var2    var3    var4\n",
      "                         :    var1:  +1.000  +0.365  +0.376  +0.381\n",
      "                         :    var2:  +0.365  +1.000  +0.382  +0.387\n",
      "                         :    var3:  +0.376  +0.382  +1.000  +0.376\n",
      "                         :    var4:  +0.381  +0.387  +0.376  +1.000\n",
      "                         : ----------------------------------------\n",
      "<HEADER> DataSetFactory           : [dataset] :  \n",
      "                         : \n",
      "<HEADER> Factory                  : Train method: Fisher for Classification\n",
      "                         : \n",
      "<HEADER> Fisher                   : Results for Fisher coefficients:\n",
      "                         : -----------------------\n",
      "                         : Variable:  Coefficient:\n",
      "                         : -----------------------\n",
      "                         :     var1:       -0.053\n",
      "                         :     var2:       -0.014\n",
      "                         :     var3:       +0.096\n",
      "                         :     var4:       +0.216\n",
      "                         : (offset):       -0.023\n",
      "                         : -----------------------\n",
      "                         : Elapsed time for training with 10000 events: 0.00335 sec         \n",
      "<HEADER> Fisher                   : [dataset] : Evaluation of Fisher on training sample (10000 events)\n",
      "                         : Elapsed time for evaluation of 10000 events: 0.000961 sec       \n",
      "                         : Creating xml weight file: dataset/weights/TMVAClassificationCategory_Fisher.weights.xml\n",
      "                         : Creating standalone class: dataset/weights/TMVAClassificationCategory_Fisher.class.C\n",
      "<HEADER> Factory                  : Training finished\n",
      "                         : \n",
      "<HEADER> Factory                  : Train method: Likelihood for Classification\n",
      "                         : \n",
      "                         : Filling reference histograms\n",
      "                         : Building PDF out of reference histograms\n",
      "                         : Elapsed time for training with 10000 events: 0.0427 sec         \n",
      "<HEADER> Likelihood               : [dataset] : Evaluation of Likelihood on training sample (10000 events)\n"
     ]
    },
    {
     "name": "stderr",
     "output_type": "stream",
     "text": [
      "0%, time left: unknown\n",
      "7%, time left: 0 sec\n",
      "13%, time left: 0 sec\n",
      "19%, time left: 0 sec\n",
      "25%, time left: 0 sec\n",
      "32%, time left: 0 sec\n",
      "38%, time left: 0 sec\n",
      "44%, time left: 0 sec\n",
      "50%, time left: 0 sec\n",
      "57%, time left: 0 sec\n",
      "63%, time left: 0 sec\n",
      "69%, time left: 0 sec\n",
      "75%, time left: 0 sec\n",
      "82%, time left: 0 sec\n",
      "88%, time left: 0 sec\n",
      "94%, time left: 0 sec\n",
      "0%, time left: unknown\n",
      "7%, time left: 0 sec\n",
      "13%, time left: 0 sec\n",
      "19%, time left: 0 sec\n",
      "25%, time left: 0 sec\n",
      "32%, time left: 0 sec\n",
      "38%, time left: 0 sec\n",
      "44%, time left: 0 sec\n",
      "50%, time left: 0 sec\n",
      "57%, time left: 0 sec\n",
      "63%, time left: 0 sec\n",
      "69%, time left: 0 sec\n",
      "75%, time left: 0 sec\n",
      "82%, time left: 0 sec\n",
      "88%, time left: 0 sec\n"
     ]
    },
    {
     "name": "stdout",
     "output_type": "stream",
     "text": [
      "                         : Elapsed time for evaluation of 10000 events: 0.00806 sec       \n",
      "                         : Creating xml weight file: dataset/weights/TMVAClassificationCategory_Likelihood.weights.xml\n",
      "                         : Creating standalone class: dataset/weights/TMVAClassificationCategory_Likelihood.class.C\n",
      "                         : TMVA.root:/dataset/Method_Likelihood/Likelihood\n"
     ]
    },
    {
     "name": "stderr",
     "output_type": "stream",
     "text": [
      "94%, time left: 0 sec\n"
     ]
    },
    {
     "name": "stdout",
     "output_type": "stream",
     "text": [
      "<HEADER> Factory                  : Training finished\n",
      "                         : \n",
      "<HEADER> Factory                  : Train method: FisherCat for Classification\n",
      "                         : \n",
      "                         : Train all sub-classifiers for Classification ...\n",
      "<HEADER> DataSetFactory           : [Category_Fisher_1_dsi] : Number of events in input trees\n",
      "                         : Dataset[Category_Fisher_1_dsi] :     Signal     requirement: \"abs(eta)<=1.3\"\n",
      "                         : Dataset[Category_Fisher_1_dsi] :     Signal          -- number of events passed: 5123   / sum of weights: 5123 \n",
      "                         : Dataset[Category_Fisher_1_dsi] :     Signal          -- efficiency             : 0.5123\n",
      "                         : Dataset[Category_Fisher_1_dsi] :     Background requirement: \"abs(eta)<=1.3\"\n",
      "                         : Dataset[Category_Fisher_1_dsi] :     Background      -- number of events passed: 5134   / sum of weights: 5134 \n",
      "                         : Dataset[Category_Fisher_1_dsi] :     Background      -- efficiency             : 0.5134\n",
      "                         : Dataset[Category_Fisher_1_dsi] :  you have opted for interpreting the requested number of training/testing events\n",
      "                         :  to be the number of events AFTER your preselection cuts\n",
      "                         : \n",
      "                         : Dataset[Category_Fisher_1_dsi] :  you have opted for interpreting the requested number of training/testing events\n",
      "                         :  to be the number of events AFTER your preselection cuts\n",
      "                         : \n",
      "                         : Number of training and testing events\n",
      "                         : ---------------------------------------------------------------------------\n",
      "                         : Signal     -- training events            : 2561\n",
      "                         : Signal     -- testing events             : 2561\n",
      "                         : Signal     -- training and testing events: 5122\n",
      "                         : Dataset[Category_Fisher_1_dsi] : Signal     -- due to the preselection a scaling factor has been applied to the numbers of requested events: 0.5123\n",
      "                         : Background -- training events            : 2567\n",
      "                         : Background -- testing events             : 2567\n",
      "                         : Background -- training and testing events: 5134\n",
      "                         : Dataset[Category_Fisher_1_dsi] : Background -- due to the preselection a scaling factor has been applied to the numbers of requested events: 0.5134\n",
      "                         : \n",
      "<HEADER> DataSetInfo              : Correlation matrix (Signal):\n",
      "                         : ----------------------------------------\n",
      "                         :             var1    var2    var3    var4\n",
      "                         :    var1:  +1.000  -0.017  +0.004  +0.001\n",
      "                         :    var2:  -0.017  +1.000  -0.019  -0.003\n",
      "                         :    var3:  +0.004  -0.019  +1.000  -0.012\n",
      "                         :    var4:  +0.001  -0.003  -0.012  +1.000\n",
      "                         : ----------------------------------------\n",
      "<HEADER> DataSetInfo              : Correlation matrix (Background):\n",
      "                         : ----------------------------------------\n",
      "                         :             var1    var2    var3    var4\n",
      "                         :    var1:  +1.000  -0.019  -0.022  +0.003\n",
      "                         :    var2:  -0.019  +1.000  -0.018  +0.004\n",
      "                         :    var3:  -0.022  -0.018  +1.000  +0.004\n",
      "                         :    var4:  +0.003  +0.004  +0.004  +1.000\n",
      "                         : ----------------------------------------\n",
      "<HEADER> DataSetFactory           : [Category_Fisher_1_dsi] :  \n",
      "                         : \n",
      "                         : Train method: Category_Fisher_1 for Classification\n",
      "<HEADER> Category_Fisher_1        : Results for Fisher coefficients:\n",
      "                         : -----------------------\n",
      "                         : Variable:  Coefficient:\n",
      "                         : -----------------------\n",
      "                         :     var1:       +0.105\n",
      "                         :     var2:       +0.152\n",
      "                         :     var3:       +0.247\n",
      "                         :     var4:       +0.375\n",
      "                         : (offset):       +0.648\n",
      "                         : -----------------------\n",
      "                         : Elapsed time for training with 5128 events: 0.00167 sec         \n",
      "<HEADER> Category_Fisher_1        : [Category_Fisher_1_dsi] : Evaluation of Category_Fisher_1 on training sample (5128 events)\n",
      "                         : Elapsed time for evaluation of 5128 events: 0.000521 sec       \n",
      "                         : Training finished\n",
      "<HEADER> DataSetFactory           : [Category_Fisher_2_dsi] : Number of events in input trees\n",
      "                         : Dataset[Category_Fisher_2_dsi] :     Signal     requirement: \"abs(eta)>1.3\"\n",
      "                         : Dataset[Category_Fisher_2_dsi] :     Signal          -- number of events passed: 4877   / sum of weights: 4877 \n",
      "                         : Dataset[Category_Fisher_2_dsi] :     Signal          -- efficiency             : 0.4877\n",
      "                         : Dataset[Category_Fisher_2_dsi] :     Background requirement: \"abs(eta)>1.3\"\n",
      "                         : Dataset[Category_Fisher_2_dsi] :     Background      -- number of events passed: 4866   / sum of weights: 4866 \n",
      "                         : Dataset[Category_Fisher_2_dsi] :     Background      -- efficiency             : 0.4866\n",
      "                         : Dataset[Category_Fisher_2_dsi] :  you have opted for interpreting the requested number of training/testing events\n",
      "                         :  to be the number of events AFTER your preselection cuts\n",
      "                         : \n",
      "                         : Dataset[Category_Fisher_2_dsi] :  you have opted for interpreting the requested number of training/testing events\n",
      "                         :  to be the number of events AFTER your preselection cuts\n",
      "                         : \n",
      "                         : Number of training and testing events\n",
      "                         : ---------------------------------------------------------------------------\n",
      "                         : Signal     -- training events            : 2438\n",
      "                         : Signal     -- testing events             : 2438\n",
      "                         : Signal     -- training and testing events: 4876\n",
      "                         : Dataset[Category_Fisher_2_dsi] : Signal     -- due to the preselection a scaling factor has been applied to the numbers of requested events: 0.4877\n",
      "                         : Background -- training events            : 2433\n",
      "                         : Background -- testing events             : 2433\n",
      "                         : Background -- training and testing events: 4866\n",
      "                         : Dataset[Category_Fisher_2_dsi] : Background -- due to the preselection a scaling factor has been applied to the numbers of requested events: 0.4866\n",
      "                         : \n",
      "<HEADER> DataSetInfo              : Correlation matrix (Signal):\n",
      "                         : ----------------------------------------\n",
      "                         :             var1    var2    var3    var4\n",
      "                         :    var1:  +1.000  -0.005  +0.002  -0.039\n",
      "                         :    var2:  -0.005  +1.000  +0.011  -0.004\n",
      "                         :    var3:  +0.002  +0.011  +1.000  -0.021\n",
      "                         :    var4:  -0.039  -0.004  -0.021  +1.000\n",
      "                         : ----------------------------------------\n",
      "<HEADER> DataSetInfo              : Correlation matrix (Background):\n",
      "                         : ----------------------------------------\n",
      "                         :             var1    var2    var3    var4\n",
      "                         :    var1:  +1.000  -0.007  +0.009  +0.008\n",
      "                         :    var2:  -0.007  +1.000  -0.020  +0.013\n",
      "                         :    var3:  +0.009  -0.020  +1.000  +0.007\n",
      "                         :    var4:  +0.008  +0.013  +0.007  +1.000\n",
      "                         : ----------------------------------------\n",
      "<HEADER> DataSetFactory           : [Category_Fisher_2_dsi] :  \n",
      "                         : \n",
      "                         : Train method: Category_Fisher_2 for Classification\n",
      "<HEADER> Category_Fisher_2        : Results for Fisher coefficients:\n",
      "                         : -----------------------\n",
      "                         : Variable:  Coefficient:\n",
      "                         : -----------------------\n",
      "                         :     var1:       +0.107\n",
      "                         :     var2:       +0.148\n",
      "                         :     var3:       +0.251\n",
      "                         :     var4:       +0.372\n",
      "                         : (offset):       -0.751\n",
      "                         : -----------------------\n",
      "                         : Elapsed time for training with 4871 events: 0.00145 sec         \n",
      "<HEADER> Category_Fisher_2        : [Category_Fisher_2_dsi] : Evaluation of Category_Fisher_2 on training sample (4871 events)\n",
      "                         : Elapsed time for evaluation of 4871 events: 0.000519 sec       \n",
      "                         : Training finished\n",
      "                         : Begin ranking of input variables...\n",
      "<HEADER> Category_Fisher_1        : Ranking result (top variable is best ranked)\n",
      "                         : -------------------------------\n",
      "                         : Rank : Variable  : Discr. power\n",
      "                         : -------------------------------\n",
      "                         :    1 : var4      : 2.205e-01\n",
      "                         :    2 : var3      : 1.054e-01\n",
      "                         :    3 : var2      : 4.114e-02\n",
      "                         :    4 : var1      : 1.987e-02\n",
      "                         : -------------------------------\n",
      "<HEADER> Category_Fisher_2        : Ranking result (top variable is best ranked)\n",
      "                         : -------------------------------\n",
      "                         : Rank : Variable  : Discr. power\n",
      "                         : -------------------------------\n",
      "                         :    1 : var4      : 2.153e-01\n",
      "                         :    2 : var3      : 1.105e-01\n",
      "                         :    3 : var2      : 4.289e-02\n",
      "                         :    4 : var1      : 1.986e-02\n",
      "                         : -------------------------------\n",
      "                         : Elapsed time for training with 10000 events: 0.0436 sec         \n",
      "<HEADER> FisherCat                : [dataset] : Evaluation of FisherCat on training sample (10000 events)\n",
      "                         : Elapsed time for evaluation of 10000 events: 0.00462 sec       \n",
      "                         : Creating xml weight file: dataset/weights/TMVAClassificationCategory_FisherCat.weights.xml\n",
      "<HEADER> Factory                  : Training finished\n",
      "                         : \n",
      "<HEADER> Factory                  : Train method: LikelihoodCat for Classification\n",
      "                         : \n",
      "                         : Train all sub-classifiers for Classification ...\n",
      "<HEADER> DataSetFactory           : [Category_Likelihood_1_dsi] : Number of events in input trees\n",
      "                         : Dataset[Category_Likelihood_1_dsi] :     Signal     requirement: \"abs(eta)<=1.3\"\n",
      "                         : Dataset[Category_Likelihood_1_dsi] :     Signal          -- number of events passed: 5123   / sum of weights: 5123 \n",
      "                         : Dataset[Category_Likelihood_1_dsi] :     Signal          -- efficiency             : 0.5123\n",
      "                         : Dataset[Category_Likelihood_1_dsi] :     Background requirement: \"abs(eta)<=1.3\"\n",
      "                         : Dataset[Category_Likelihood_1_dsi] :     Background      -- number of events passed: 5134   / sum of weights: 5134 \n",
      "                         : Dataset[Category_Likelihood_1_dsi] :     Background      -- efficiency             : 0.5134\n",
      "                         : Dataset[Category_Likelihood_1_dsi] :  you have opted for interpreting the requested number of training/testing events\n",
      "                         :  to be the number of events AFTER your preselection cuts\n",
      "                         : \n",
      "                         : Dataset[Category_Likelihood_1_dsi] :  you have opted for interpreting the requested number of training/testing events\n",
      "                         :  to be the number of events AFTER your preselection cuts\n",
      "                         : \n",
      "                         : Number of training and testing events\n",
      "                         : ---------------------------------------------------------------------------\n",
      "                         : Signal     -- training events            : 2561\n",
      "                         : Signal     -- testing events             : 2561\n",
      "                         : Signal     -- training and testing events: 5122\n",
      "                         : Dataset[Category_Likelihood_1_dsi] : Signal     -- due to the preselection a scaling factor has been applied to the numbers of requested events: 0.5123\n",
      "                         : Background -- training events            : 2567\n",
      "                         : Background -- testing events             : 2567\n",
      "                         : Background -- training and testing events: 5134\n",
      "                         : Dataset[Category_Likelihood_1_dsi] : Background -- due to the preselection a scaling factor has been applied to the numbers of requested events: 0.5134\n",
      "                         : \n",
      "<HEADER> DataSetInfo              : Correlation matrix (Signal):\n",
      "                         : ----------------------------------------\n",
      "                         :             var1    var2    var3    var4\n",
      "                         :    var1:  +1.000  -0.017  +0.004  +0.001\n",
      "                         :    var2:  -0.017  +1.000  -0.019  -0.003\n",
      "                         :    var3:  +0.004  -0.019  +1.000  -0.012\n",
      "                         :    var4:  +0.001  -0.003  -0.012  +1.000\n",
      "                         : ----------------------------------------\n",
      "<HEADER> DataSetInfo              : Correlation matrix (Background):\n",
      "                         : ----------------------------------------\n",
      "                         :             var1    var2    var3    var4\n",
      "                         :    var1:  +1.000  -0.019  -0.022  +0.003\n",
      "                         :    var2:  -0.019  +1.000  -0.018  +0.004\n",
      "                         :    var3:  -0.022  -0.018  +1.000  +0.004\n",
      "                         :    var4:  +0.003  +0.004  +0.004  +1.000\n",
      "                         : ----------------------------------------\n",
      "<HEADER> DataSetFactory           : [Category_Likelihood_1_dsi] :  \n",
      "                         : \n",
      "                         : Train method: Category_Likelihood_1 for Classification\n",
      "                         : Filling reference histograms\n",
      "                         : Building PDF out of reference histograms\n"
     ]
    },
    {
     "name": "stderr",
     "output_type": "stream",
     "text": [
      "0%, time left: unknown\n",
      "6%, time left: 0 sec\n",
      "12%, time left: 0 sec\n",
      "18%, time left: 0 sec\n",
      "25%, time left: 0 sec\n",
      "31%, time left: 0 sec\n",
      "37%, time left: 0 sec\n",
      "43%, time left: 0 sec\n",
      "50%, time left: 0 sec\n",
      "56%, time left: 0 sec\n",
      "62%, time left: 0 sec\n",
      "69%, time left: 0 sec\n",
      "75%, time left: 0 sec\n",
      "81%, time left: 0 sec\n",
      "87%, time left: 0 sec\n",
      "94%, time left: 0 sec\n",
      "0%, time left: unknown\n",
      "6%, time left: 0 sec\n",
      "12%, time left: 0 sec\n",
      "19%, time left: 0 sec\n",
      "25%, time left: 0 sec\n",
      "31%, time left: 0 sec\n",
      "38%, time left: 0 sec\n",
      "44%, time left: 0 sec\n",
      "50%, time left: 0 sec\n",
      "57%, time left: 0 sec\n",
      "63%, time left: 0 sec\n",
      "69%, time left: 0 sec\n",
      "75%, time left: 0 sec\n",
      "81%, time left: 0 sec\n",
      "87%, time left: 0 sec\n",
      "94%, time left: 0 sec\n",
      "0%, time left: unknown\n",
      "7%, time left: 0 sec\n",
      "13%, time left: 0 sec\n",
      "19%, time left: 0 sec\n",
      "25%, time left: 0 sec\n",
      "32%, time left: 0 sec\n",
      "38%, time left: 0 sec\n",
      "44%, time left: 0 sec\n",
      "50%, time left: 0 sec\n",
      "57%, time left: 0 sec\n",
      "63%, time left: 0 sec\n",
      "69%, time left: 0 sec\n",
      "75%, time left: 0 sec\n",
      "82%, time left: 0 sec\n",
      "88%, time left: 0 sec\n",
      "94%, time left: 0 sec\n"
     ]
    },
    {
     "name": "stdout",
     "output_type": "stream",
     "text": [
      "                         : Elapsed time for training with 5128 events: 0.0244 sec         \n",
      "<HEADER> Category_Likelihood_1    : [Category_Likelihood_1_dsi] : Evaluation of Category_Likelihood_1 on training sample (5128 events)\n",
      "                         : Elapsed time for evaluation of 5128 events: 0.00356 sec       \n",
      "                         : TMVA.root:/dataset/Method_Category/LikelihoodCat/Method_Likelihood/Category_Likelihood_1\n",
      "                         : Training finished\n",
      "<HEADER> DataSetFactory           : [Category_Likelihood_2_dsi] : Number of events in input trees\n",
      "                         : Dataset[Category_Likelihood_2_dsi] :     Signal     requirement: \"abs(eta)>1.3\"\n",
      "                         : Dataset[Category_Likelihood_2_dsi] :     Signal          -- number of events passed: 4877   / sum of weights: 4877 \n",
      "                         : Dataset[Category_Likelihood_2_dsi] :     Signal          -- efficiency             : 0.4877\n",
      "                         : Dataset[Category_Likelihood_2_dsi] :     Background requirement: \"abs(eta)>1.3\"\n",
      "                         : Dataset[Category_Likelihood_2_dsi] :     Background      -- number of events passed: 4866   / sum of weights: 4866 \n",
      "                         : Dataset[Category_Likelihood_2_dsi] :     Background      -- efficiency             : 0.4866\n",
      "                         : Dataset[Category_Likelihood_2_dsi] :  you have opted for interpreting the requested number of training/testing events\n",
      "                         :  to be the number of events AFTER your preselection cuts\n",
      "                         : \n",
      "                         : Dataset[Category_Likelihood_2_dsi] :  you have opted for interpreting the requested number of training/testing events\n",
      "                         :  to be the number of events AFTER your preselection cuts\n",
      "                         : \n",
      "                         : Number of training and testing events\n",
      "                         : ---------------------------------------------------------------------------\n",
      "                         : Signal     -- training events            : 2438\n",
      "                         : Signal     -- testing events             : 2438\n",
      "                         : Signal     -- training and testing events: 4876\n",
      "                         : Dataset[Category_Likelihood_2_dsi] : Signal     -- due to the preselection a scaling factor has been applied to the numbers of requested events: 0.4877\n",
      "                         : Background -- training events            : 2433\n",
      "                         : Background -- testing events             : 2433\n",
      "                         : Background -- training and testing events: 4866\n",
      "                         : Dataset[Category_Likelihood_2_dsi] : Background -- due to the preselection a scaling factor has been applied to the numbers of requested events: 0.4866\n",
      "                         : \n",
      "<HEADER> DataSetInfo              : Correlation matrix (Signal):\n",
      "                         : ----------------------------------------\n",
      "                         :             var1    var2    var3    var4\n",
      "                         :    var1:  +1.000  -0.005  +0.002  -0.039\n",
      "                         :    var2:  -0.005  +1.000  +0.011  -0.004\n",
      "                         :    var3:  +0.002  +0.011  +1.000  -0.021\n",
      "                         :    var4:  -0.039  -0.004  -0.021  +1.000\n",
      "                         : ----------------------------------------\n",
      "<HEADER> DataSetInfo              : Correlation matrix (Background):\n",
      "                         : ----------------------------------------\n",
      "                         :             var1    var2    var3    var4\n",
      "                         :    var1:  +1.000  -0.007  +0.009  +0.008\n",
      "                         :    var2:  -0.007  +1.000  -0.020  +0.013\n",
      "                         :    var3:  +0.009  -0.020  +1.000  +0.007\n",
      "                         :    var4:  +0.008  +0.013  +0.007  +1.000\n",
      "                         : ----------------------------------------\n",
      "<HEADER> DataSetFactory           : [Category_Likelihood_2_dsi] :  \n",
      "                         : \n",
      "                         : Train method: Category_Likelihood_2 for Classification\n",
      "                         : Filling reference histograms\n",
      "                         : Building PDF out of reference histograms\n",
      "                         : Elapsed time for training with 4871 events: 0.0228 sec         \n",
      "<HEADER> Category_Likelihood_2    : [Category_Likelihood_2_dsi] : Evaluation of Category_Likelihood_2 on training sample (4871 events)\n",
      "                         : Elapsed time for evaluation of 4871 events: 0.00384 sec       \n",
      "                         : TMVA.root:/dataset/Method_Category/LikelihoodCat/Method_Likelihood/Category_Likelihood_2\n"
     ]
    },
    {
     "name": "stderr",
     "output_type": "stream",
     "text": [
      "0%, time left: unknown\n",
      "6%, time left: 0 sec\n",
      "12%, time left: 0 sec\n",
      "18%, time left: 0 sec\n",
      "25%, time left: 0 sec\n",
      "31%, time left: 0 sec\n",
      "37%, time left: 0 sec\n",
      "43%, time left: 0 sec\n",
      "50%, time left: 0 sec\n",
      "56%, time left: 0 sec\n",
      "62%, time left: 0 sec\n",
      "69%, time left: 0 sec\n",
      "75%, time left: 0 sec\n",
      "81%, time left: 0 sec\n",
      "87%, time left: 0 sec\n",
      "94%, time left: 0 sec\n",
      "0%, time left: unknown\n",
      "6%, time left: 0 sec\n",
      "12%, time left: 0 sec\n",
      "19%, time left: 0 sec\n",
      "25%, time left: 0 sec\n",
      "31%, time left: 0 sec\n",
      "38%, time left: 0 sec\n",
      "44%, time left: 0 sec\n",
      "50%, time left: 0 sec\n",
      "57%, time left: 0 sec\n",
      "63%, time left: 0 sec\n",
      "69%, time left: 0 sec\n",
      "75%, time left: 0 sec\n",
      "81%, time left: 0 sec\n",
      "87%, time left: 0 sec\n",
      "94%, time left: 0 sec\n"
     ]
    },
    {
     "name": "stdout",
     "output_type": "stream",
     "text": [
      "                         : Training finished\n",
      "                         : Begin ranking of input variables...\n",
      "<HEADER> Category_Likelihood_1    : Ranking result (top variable is best ranked)\n",
      "                         : -----------------------------------\n",
      "                         : Rank : Variable  : Delta Separation\n",
      "                         : -----------------------------------\n",
      "                         :    1 : var4      : 1.031e-01\n",
      "                         :    2 : var3      : 1.716e-02\n",
      "                         :    3 : var1      : 1.036e-02\n",
      "                         :    4 : var2      : 4.428e-03\n",
      "                         : -----------------------------------\n",
      "<HEADER> Category_Likelihood_2    : Ranking result (top variable is best ranked)\n",
      "                         : -----------------------------------\n",
      "                         : Rank : Variable  : Delta Separation\n",
      "                         : -----------------------------------\n",
      "                         :    1 : var4      : 1.424e-01\n",
      "                         :    2 : var3      : 6.035e-02\n",
      "                         :    3 : var2      : 1.824e-02\n",
      "                         :    4 : var1      : 8.110e-03\n",
      "                         : -----------------------------------\n",
      "                         : Elapsed time for training with 10000 events: 0.249 sec         \n",
      "<HEADER> LikelihoodCat            : [dataset] : Evaluation of LikelihoodCat on training sample (10000 events)\n"
     ]
    },
    {
     "name": "stderr",
     "output_type": "stream",
     "text": [
      "0%, time left: unknown\n",
      "7%, time left: 0 sec\n",
      "13%, time left: 0 sec\n",
      "19%, time left: 0 sec\n",
      "25%, time left: 0 sec\n",
      "32%, time left: 0 sec\n",
      "38%, time left: 0 sec\n",
      "44%, time left: 0 sec\n"
     ]
    },
    {
     "name": "stdout",
     "output_type": "stream",
     "text": [
      "                         : Elapsed time for evaluation of 10000 events: 0.0116 sec       \n",
      "                         : Creating xml weight file: dataset/weights/TMVAClassificationCategory_LikelihoodCat.weights.xml\n",
      "<HEADER> Factory                  : Training finished\n",
      "                         : \n",
      "                         : Ranking input variables (method specific)...\n",
      "<HEADER> Fisher                   : Ranking result (top variable is best ranked)\n",
      "                         : -------------------------------\n",
      "                         : Rank : Variable  : Discr. power\n",
      "                         : -------------------------------\n",
      "                         :    1 : var4      : 1.446e-01\n",
      "                         :    2 : var3      : 7.153e-02\n",
      "                         :    3 : var2      : 2.447e-02\n",
      "                         :    4 : var1      : 1.243e-02\n",
      "                         : -------------------------------\n",
      "<HEADER> Likelihood               : Ranking result (top variable is best ranked)\n",
      "                         : -----------------------------------\n",
      "                         : Rank : Variable  : Delta Separation\n",
      "                         : -----------------------------------\n",
      "                         :    1 : var4      : 1.162e-01\n",
      "                         :    2 : var3      : 5.179e-02\n",
      "                         :    3 : var2      : 2.915e-02\n",
      "                         :    4 : var1      : 2.168e-02\n",
      "                         : -----------------------------------\n",
      "                         : No variable ranking supplied by classifier: FisherCat\n",
      "                         : No variable ranking supplied by classifier: LikelihoodCat\n",
      "<HEADER> Factory                  : === Destroy and recreate all methods via weight files for testing ===\n",
      "                         : \n",
      "                         : Reading weight file: dataset/weights/TMVAClassificationCategory_Fisher.weights.xml\n",
      "                         : Reading weight file: dataset/weights/TMVAClassificationCategory_Likelihood.weights.xml\n",
      "                         : Reading weight file: dataset/weights/TMVAClassificationCategory_FisherCat.weights.xml\n",
      "                         : Recreating sub-classifiers from XML-file \n",
      "<HEADER> DataSetInfo              : [Category_Fisher_1_dsi] : Added class \"Signal\"\n",
      "<HEADER> DataSetInfo              : [Category_Fisher_1_dsi] : Added class \"Background\"\n",
      "<HEADER> DataSetInfo              : [Category_Fisher_2_dsi] : Added class \"Signal\"\n",
      "<HEADER> DataSetInfo              : [Category_Fisher_2_dsi] : Added class \"Background\"\n",
      "                         : Reading weight file: dataset/weights/TMVAClassificationCategory_LikelihoodCat.weights.xml\n",
      "                         : Recreating sub-classifiers from XML-file \n",
      "<HEADER> DataSetInfo              : [Category_Likelihood_1_dsi] : Added class \"Signal\"\n",
      "<HEADER> DataSetInfo              : [Category_Likelihood_1_dsi] : Added class \"Background\"\n",
      "<HEADER> DataSetInfo              : [Category_Likelihood_2_dsi] : Added class \"Signal\"\n",
      "<HEADER> DataSetInfo              : [Category_Likelihood_2_dsi] : Added class \"Background\"\n"
     ]
    },
    {
     "name": "stderr",
     "output_type": "stream",
     "text": [
      "50%, time left: 0 sec\n",
      "57%, time left: 0 sec\n",
      "63%, time left: 0 sec\n",
      "69%, time left: 0 sec\n",
      "75%, time left: 0 sec\n",
      "82%, time left: 0 sec\n",
      "88%, time left: 0 sec\n",
      "94%, time left: 0 sec\n"
     ]
    }
   ],
   "source": [
    "factory->TrainAllMethods();"
   ]
  },
  {
   "cell_type": "markdown",
   "metadata": {},
   "source": [
    "Evaluate all mvas using the set of test events"
   ]
  },
  {
   "cell_type": "code",
   "execution_count": 22,
   "metadata": {
    "collapsed": false
   },
   "outputs": [
    {
     "name": "stdout",
     "output_type": "stream",
     "text": [
      "<HEADER> Factory                  : Test all methods\n",
      "<HEADER> Factory                  : Test method: Fisher for Classification performance\n",
      "                         : \n",
      "<HEADER> Fisher                   : [dataset] : Evaluation of Fisher on testing sample (10000 events)\n",
      "                         : Elapsed time for evaluation of 10000 events: 0.00149 sec       \n",
      "<HEADER> Factory                  : Test method: Likelihood for Classification performance\n",
      "                         : \n",
      "<HEADER> Likelihood               : [dataset] : Evaluation of Likelihood on testing sample (10000 events)\n",
      "                         : Elapsed time for evaluation of 10000 events: 0.00654 sec       \n",
      "<HEADER> Factory                  : Test method: FisherCat for Classification performance\n",
      "                         : \n",
      "<HEADER> FisherCat                : [dataset] : Evaluation of FisherCat on testing sample (10000 events)\n",
      "                         : Elapsed time for evaluation of 10000 events: 0.00235 sec       \n",
      "<HEADER> Factory                  : Test method: LikelihoodCat for Classification performance\n",
      "                         : \n",
      "<HEADER> LikelihoodCat            : [dataset] : Evaluation of LikelihoodCat on testing sample (10000 events)\n",
      "                         : Elapsed time for evaluation of 10000 events: 0.00812 sec       \n"
     ]
    },
    {
     "name": "stderr",
     "output_type": "stream",
     "text": [
      "0%, time left: unknown\n",
      "7%, time left: 0 sec\n",
      "13%, time left: 0 sec\n",
      "19%, time left: 0 sec\n",
      "25%, time left: 0 sec\n",
      "32%, time left: 0 sec\n",
      "38%, time left: 0 sec\n",
      "44%, time left: 0 sec\n",
      "50%, time left: 0 sec\n",
      "57%, time left: 0 sec\n",
      "63%, time left: 0 sec\n",
      "69%, time left: 0 sec\n",
      "75%, time left: 0 sec\n",
      "82%, time left: 0 sec\n",
      "88%, time left: 0 sec\n",
      "94%, time left: 0 sec\n",
      "0%, time left: unknown\n",
      "7%, time left: 0 sec\n",
      "13%, time left: 0 sec\n",
      "19%, time left: 0 sec\n",
      "25%, time left: 0 sec\n",
      "32%, time left: 0 sec\n",
      "38%, time left: 0 sec\n",
      "44%, time left: 0 sec\n",
      "50%, time left: 0 sec\n",
      "57%, time left: 0 sec\n",
      "63%, time left: 0 sec\n",
      "69%, time left: 0 sec\n",
      "75%, time left: 0 sec\n",
      "82%, time left: 0 sec\n",
      "88%, time left: 0 sec\n",
      "94%, time left: 0 sec\n",
      "0%, time left: unknown\n",
      "7%, time left: 0 sec\n",
      "13%, time left: 0 sec\n",
      "19%, time left: 0 sec\n",
      "25%, time left: 0 sec\n",
      "32%, time left: 0 sec\n",
      "38%, time left: 0 sec\n",
      "44%, time left: 0 sec\n",
      "50%, time left: 0 sec\n",
      "57%, time left: 0 sec\n",
      "63%, time left: 0 sec\n",
      "69%, time left: 0 sec\n",
      "75%, time left: 0 sec\n",
      "82%, time left: 0 sec\n",
      "88%, time left: 0 sec\n",
      "94%, time left: 0 sec\n",
      "0%, time left: unknown\n",
      "7%, time left: 0 sec\n",
      "13%, time left: 0 sec\n",
      "19%, time left: 0 sec\n",
      "25%, time left: 0 sec\n",
      "32%, time left: 0 sec\n",
      "38%, time left: 0 sec\n",
      "44%, time left: 0 sec\n",
      "50%, time left: 0 sec\n",
      "57%, time left: 0 sec\n",
      "63%, time left: 0 sec\n",
      "69%, time left: 0 sec\n",
      "75%, time left: 0 sec\n",
      "82%, time left: 0 sec\n",
      "88%, time left: 0 sec\n",
      "94%, time left: 0 sec\n"
     ]
    }
   ],
   "source": [
    "factory->TestAllMethods();"
   ]
  },
  {
   "cell_type": "markdown",
   "metadata": {},
   "source": [
    "Evaluate and compare performance of all configured mvas"
   ]
  },
  {
   "cell_type": "code",
   "execution_count": 23,
   "metadata": {
    "collapsed": false
   },
   "outputs": [
    {
     "name": "stdout",
     "output_type": "stream",
     "text": [
      "<HEADER> Factory                  : Evaluate all methods\n",
      "<HEADER> Factory                  : Evaluate classifier: Fisher\n",
      "                         : \n",
      "<HEADER> Fisher                   : [dataset] : Loop over test events and fill histograms with classifier response...\n",
      "                         : \n",
      "<HEADER> TFHandler_Fisher         : Variable        Mean        RMS   [        Min        Max ]\n",
      "                         : -----------------------------------------------------------\n",
      "                         :     var1:  -0.014081     1.2910   [    -5.3119     4.5609 ]\n",
      "                         :     var2:  -0.014399     1.3299   [    -4.7537     4.6723 ]\n",
      "                         :     var3:  -0.027971     1.3779   [    -5.2892     4.7007 ]\n",
      "                         :     var4:    0.12966     1.4883   [    -5.1002     4.9767 ]\n",
      "                         : -----------------------------------------------------------\n",
      "<HEADER> Factory                  : Evaluate classifier: Likelihood\n",
      "                         : \n",
      "<HEADER> Likelihood               : [dataset] : Loop over test events and fill histograms with classifier response...\n",
      "                         : \n",
      "<HEADER> TFHandler_Likelihood     : Variable        Mean        RMS   [        Min        Max ]\n",
      "                         : -----------------------------------------------------------\n",
      "                         :     var1:  -0.014081     1.2910   [    -5.3119     4.5609 ]\n",
      "                         :     var2:  -0.014399     1.3299   [    -4.7537     4.6723 ]\n",
      "                         :     var3:  -0.027971     1.3779   [    -5.2892     4.7007 ]\n",
      "                         :     var4:    0.12966     1.4883   [    -5.1002     4.9767 ]\n",
      "                         : -----------------------------------------------------------\n",
      "<HEADER> Factory                  : Evaluate classifier: FisherCat\n",
      "                         : \n",
      "<HEADER> FisherCat                : [dataset] : Loop over test events and fill histograms with classifier response...\n",
      "                         : \n",
      "<HEADER> TFHandler_FisherCat      : Variable        Mean        RMS   [        Min        Max ]\n",
      "                         : -----------------------------------------------------------\n",
      "                         :     var1:  -0.014081     1.2910   [    -5.3119     4.5609 ]\n",
      "                         :     var2:  -0.014399     1.3299   [    -4.7537     4.6723 ]\n",
      "                         :     var3:  -0.027971     1.3779   [    -5.2892     4.7007 ]\n",
      "                         :     var4:    0.12966     1.4883   [    -5.1002     4.9767 ]\n",
      "                         : -----------------------------------------------------------\n",
      "<HEADER> Factory                  : Evaluate classifier: LikelihoodCat\n",
      "                         : \n",
      "<HEADER> LikelihoodCat            : [dataset] : Loop over test events and fill histograms with classifier response...\n",
      "                         : \n",
      "<HEADER> TFHandler_LikelihoodCat  : Variable        Mean        RMS   [        Min        Max ]\n",
      "                         : -----------------------------------------------------------\n",
      "                         :     var1:  -0.014081     1.2910   [    -5.3119     4.5609 ]\n",
      "                         :     var2:  -0.014399     1.3299   [    -4.7537     4.6723 ]\n",
      "                         :     var3:  -0.027971     1.3779   [    -5.2892     4.7007 ]\n",
      "                         :     var4:    0.12966     1.4883   [    -5.1002     4.9767 ]\n",
      "                         : -----------------------------------------------------------\n",
      "                         : \n",
      "                         : Evaluation results ranked by best signal efficiency and purity (area)\n",
      "                         : -------------------------------------------------------------------------------------------------------------------\n",
      "                         : DataSet       MVA                       \n",
      "                         : Name:         Method:          ROC-integ\n",
      "                         : dataset       FisherCat      : 0.914\n",
      "                         : dataset       LikelihoodCat  : 0.913\n",
      "                         : dataset       Fisher         : 0.808\n",
      "                         : dataset       Likelihood     : 0.768\n",
      "                         : -------------------------------------------------------------------------------------------------------------------\n",
      "                         : \n",
      "                         : Testing efficiency compared to training efficiency (overtraining check)\n",
      "                         : -------------------------------------------------------------------------------------------------------------------\n",
      "                         : DataSet              MVA              Signal efficiency: from test sample (from training sample) \n",
      "                         : Name:                Method:          @B=0.01             @B=0.10            @B=0.30   \n",
      "                         : -------------------------------------------------------------------------------------------------------------------\n",
      "                         : dataset              FisherCat      : 0.352 (0.360)       0.743 (0.739)      0.919 (0.916)\n",
      "                         : dataset              LikelihoodCat  : 0.350 (0.351)       0.738 (0.736)      0.919 (0.916)\n",
      "                         : dataset              Fisher         : 0.184 (0.185)       0.471 (0.486)      0.746 (0.742)\n",
      "                         : dataset              Likelihood     : 0.211 (0.242)       0.446 (0.453)      0.609 (0.608)\n",
      "                         : -------------------------------------------------------------------------------------------------------------------\n",
      "                         : \n",
      "<HEADER> Dataset:dataset          : Created tree 'TestTree' with 10000 events\n",
      "                         : \n",
      "<HEADER> Dataset:dataset          : Created tree 'TrainTree' with 10000 events\n",
      "                         : \n",
      "<HEADER> Factory                  : Thank you for using TMVA!\n",
      "                         : For citation information, please visit: http://tmva.sf.net/citeTMVA.html\n"
     ]
    }
   ],
   "source": [
    "factory->EvaluateAllMethods();"
   ]
  },
  {
   "cell_type": "markdown",
   "metadata": {},
   "source": [
    "--------------------------------------------------------------"
   ]
  },
  {
   "cell_type": "markdown",
   "metadata": {},
   "source": [
    "Save the output"
   ]
  },
  {
   "cell_type": "code",
   "execution_count": 24,
   "metadata": {
    "collapsed": false
   },
   "outputs": [
    {
     "name": "stdout",
     "output_type": "stream",
     "text": [
      "==> Wrote root file: TMVA.root\n",
      "==> TMVAClassificationCategory is done!\n"
     ]
    }
   ],
   "source": [
    "outputFile->Close();\n",
    "\n",
    "std::cout << \"==> Wrote root file: \" << outputFile->GetName() << std::endl;\n",
    "std::cout << \"==> TMVAClassificationCategory is done!\" << std::endl;"
   ]
  },
  {
   "cell_type": "markdown",
   "metadata": {},
   "source": [
    "Clean up"
   ]
  },
  {
   "cell_type": "code",
   "execution_count": 25,
   "metadata": {
    "collapsed": false
   },
   "outputs": [],
   "source": [
    "delete factory;\n",
    "delete dataloader;"
   ]
  },
  {
   "cell_type": "markdown",
   "metadata": {},
   "source": [
    "Launch the gui for the root macros"
   ]
  },
  {
   "cell_type": "code",
   "execution_count": 26,
   "metadata": {
    "collapsed": false
   },
   "outputs": [],
   "source": [
    "if (!gROOT->IsBatch()) TMVA::TMVAGui( outfileName );"
   ]
  }
 ],
 "metadata": {
  "kernelspec": {
   "display_name": "ROOT C++",
   "language": "c++",
   "name": "root"
  },
  "language_info": {
   "codemirror_mode": "text/x-c++src",
   "file_extension": ".C",
   "mimetype": " text/x-c++src",
   "name": "c++"
  }
 },
 "nbformat": 4,
 "nbformat_minor": 2
}
