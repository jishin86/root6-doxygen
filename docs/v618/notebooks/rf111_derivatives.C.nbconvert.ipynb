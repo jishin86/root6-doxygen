{
 "cells": [
  {
   "cell_type": "markdown",
   "metadata": {},
   "source": [
    "# Rf 1 1 1_Derivatives\n",
    "Basic functionality: numerical 1st,2nd and 3rd order derivatives w.r.t. observables and parameters\n",
    "\n",
    " pdf = gauss(x,m,s)\n",
    "\n",
    "\n",
    "\n",
    "**Author:** 07/2008 - Wouter Verkerke  \n",
    "<i><small>This notebook tutorial was automatically generated with <a href= \"https://github.com/root-project/root/blob/master/documentation/doxygen/converttonotebook.py\">ROOTBOOK-izer</a> from the macro found in the ROOT repository  on Thursday, August 29, 2019 at 02:42 AM.</small></i>"
   ]
  },
  {
   "cell_type": "code",
   "execution_count": 1,
   "metadata": {
    "collapsed": false
   },
   "outputs": [],
   "source": [
    "%%cpp -d\n",
    "#include \"RooRealVar.h\"\n",
    "#include \"RooDataSet.h\"\n",
    "#include \"RooGaussian.h\"\n",
    "#include \"TCanvas.h\"\n",
    "#include \"TAxis.h\"\n",
    "#include \"RooPlot.h\""
   ]
  },
  {
   "cell_type": "code",
   "execution_count": 2,
   "metadata": {
    "collapsed": false
   },
   "outputs": [],
   "source": [
    "%%cpp -d\n",
    "// This is a workaround to make sure the namespace is used inside functions\n",
    "using namespace RooFit;"
   ]
  },
  {
   "cell_type": "markdown",
   "metadata": {},
   "source": [
    "Setup model\n",
    " ---------------------"
   ]
  },
  {
   "cell_type": "markdown",
   "metadata": {},
   "source": [
    "Declare variables x,mean,sigma with associated name, title, initial value and allowed range"
   ]
  },
  {
   "cell_type": "code",
   "execution_count": 3,
   "metadata": {
    "collapsed": false
   },
   "outputs": [
    {
     "name": "stdout",
     "output_type": "stream",
     "text": [
      "\n",
      "\u001b[1mRooFit v3.60 -- Developed by Wouter Verkerke and David Kirkby\u001b[0m \n",
      "                Copyright (C) 2000-2013 NIKHEF, University of California & Stanford University\n",
      "                All rights reserved, please read http://roofit.sourceforge.net/license.txt\n",
      "\n"
     ]
    }
   ],
   "source": [
    "RooRealVar x(\"x\", \"x\", -10, 10);\n",
    "RooRealVar mean(\"mean\", \"mean of gaussian\", 1, -10, 10);\n",
    "RooRealVar sigma(\"sigma\", \"width of gaussian\", 1, 0.1, 10);"
   ]
  },
  {
   "cell_type": "markdown",
   "metadata": {},
   "source": [
    "Build gaussian p.d.f in terms of x,mean and sigma"
   ]
  },
  {
   "cell_type": "code",
   "execution_count": 4,
   "metadata": {
    "collapsed": false
   },
   "outputs": [],
   "source": [
    "RooGaussian gauss(\"gauss\", \"gaussian PDF\", x, mean, sigma);"
   ]
  },
  {
   "cell_type": "markdown",
   "metadata": {},
   "source": [
    "Create and plot derivatives w.r.t. x\n",
    " ----------------------------------------------------------------------"
   ]
  },
  {
   "cell_type": "markdown",
   "metadata": {},
   "source": [
    "Derivative of normalized gauss(x) w.r.t. observable x"
   ]
  },
  {
   "cell_type": "code",
   "execution_count": 5,
   "metadata": {
    "collapsed": false
   },
   "outputs": [],
   "source": [
    "RooAbsReal *dgdx = gauss.derivative(x, 1);"
   ]
  },
  {
   "cell_type": "markdown",
   "metadata": {},
   "source": [
    "Second and third derivative of normalized gauss(x) w.r.t. observable x"
   ]
  },
  {
   "cell_type": "code",
   "execution_count": 6,
   "metadata": {
    "collapsed": false
   },
   "outputs": [],
   "source": [
    "RooAbsReal *d2gdx2 = gauss.derivative(x, 2);\n",
    "RooAbsReal *d3gdx3 = gauss.derivative(x, 3);"
   ]
  },
  {
   "cell_type": "markdown",
   "metadata": {},
   "source": [
    "Construct plot frame in 'x'"
   ]
  },
  {
   "cell_type": "code",
   "execution_count": 7,
   "metadata": {
    "collapsed": false
   },
   "outputs": [],
   "source": [
    "RooPlot *xframe = x.frame(Title(\"d(Gauss)/dx\"));"
   ]
  },
  {
   "cell_type": "markdown",
   "metadata": {},
   "source": [
    "Plot gauss in frame (i.e. in x)"
   ]
  },
  {
   "cell_type": "code",
   "execution_count": 8,
   "metadata": {
    "collapsed": false
   },
   "outputs": [],
   "source": [
    "gauss.plotOn(xframe);"
   ]
  },
  {
   "cell_type": "markdown",
   "metadata": {},
   "source": [
    "Plot derivatives in same frame"
   ]
  },
  {
   "cell_type": "code",
   "execution_count": 9,
   "metadata": {
    "collapsed": false
   },
   "outputs": [],
   "source": [
    "dgdx->plotOn(xframe, LineColor(kMagenta));\n",
    "d2gdx2->plotOn(xframe, LineColor(kRed));\n",
    "d3gdx3->plotOn(xframe, LineColor(kOrange));"
   ]
  },
  {
   "cell_type": "markdown",
   "metadata": {},
   "source": [
    "Create and plot derivatives w.r.t. sigma\n",
    " ------------------------------------------------------------------------------"
   ]
  },
  {
   "cell_type": "markdown",
   "metadata": {},
   "source": [
    "Derivative of normalized gauss(x) w.r.t. parameter sigma"
   ]
  },
  {
   "cell_type": "code",
   "execution_count": 10,
   "metadata": {
    "collapsed": false
   },
   "outputs": [],
   "source": [
    "RooAbsReal *dgds = gauss.derivative(sigma, 1);"
   ]
  },
  {
   "cell_type": "markdown",
   "metadata": {},
   "source": [
    "Second and third derivative of normalized gauss(x) w.r.t. parameter sigma"
   ]
  },
  {
   "cell_type": "code",
   "execution_count": 11,
   "metadata": {
    "collapsed": false
   },
   "outputs": [],
   "source": [
    "RooAbsReal *d2gds2 = gauss.derivative(sigma, 2);\n",
    "RooAbsReal *d3gds3 = gauss.derivative(sigma, 3);"
   ]
  },
  {
   "cell_type": "markdown",
   "metadata": {},
   "source": [
    "Construct plot frame in 'sigma'"
   ]
  },
  {
   "cell_type": "code",
   "execution_count": 12,
   "metadata": {
    "collapsed": false
   },
   "outputs": [],
   "source": [
    "RooPlot *sframe = sigma.frame(Title(\"d(Gauss)/d(sigma)\"), Range(0., 2.));"
   ]
  },
  {
   "cell_type": "markdown",
   "metadata": {},
   "source": [
    "Plot gauss in frame (i.e. in x)"
   ]
  },
  {
   "cell_type": "code",
   "execution_count": 13,
   "metadata": {
    "collapsed": false
   },
   "outputs": [
    {
     "name": "stdout",
     "output_type": "stream",
     "text": [
      "[#1] INFO:NumericIntegration -- RooRealIntegral::init(gauss_Int[sigma]) using numeric integrator RooIntegrator1D to calculate Int(sigma)\n"
     ]
    }
   ],
   "source": [
    "gauss.plotOn(sframe);"
   ]
  },
  {
   "cell_type": "markdown",
   "metadata": {},
   "source": [
    "Plot derivatives in same frame"
   ]
  },
  {
   "cell_type": "code",
   "execution_count": 14,
   "metadata": {
    "collapsed": false
   },
   "outputs": [],
   "source": [
    "dgds->plotOn(sframe, LineColor(kMagenta));\n",
    "d2gds2->plotOn(sframe, LineColor(kRed));\n",
    "d3gds3->plotOn(sframe, LineColor(kOrange));"
   ]
  },
  {
   "cell_type": "markdown",
   "metadata": {},
   "source": [
    "Draw all frames on a canvas"
   ]
  },
  {
   "cell_type": "code",
   "execution_count": 15,
   "metadata": {
    "collapsed": false
   },
   "outputs": [],
   "source": [
    "TCanvas *c = new TCanvas(\"rf111_derivatives\", \"rf111_derivatives\", 800, 400);\n",
    "c->Divide(2);\n",
    "c->cd(1);\n",
    "gPad->SetLeftMargin(0.15);\n",
    "xframe->GetYaxis()->SetTitleOffset(1.6);\n",
    "xframe->Draw();\n",
    "c->cd(2);\n",
    "gPad->SetLeftMargin(0.15);\n",
    "sframe->GetYaxis()->SetTitleOffset(1.6);\n",
    "sframe->Draw();"
   ]
  },
  {
   "cell_type": "markdown",
   "metadata": {},
   "source": [
    "Draw all canvases "
   ]
  },
  {
   "cell_type": "code",
   "execution_count": 16,
   "metadata": {
    "collapsed": false
   },
   "outputs": [
    {
     "data": {
      "text/html": [
       "\n",
       "<div id=\"root_plot_1\"\n",
       "     style=\"width: 796px; height: 372px\">\n",
       "</div>\n",
       "\n",
       "<script>\n",
       " requirejs.config({\n",
       "     paths: {\n",
       "       'JSRootCore' : 'https://root.cern.ch/js/notebook//scripts/JSRootCore',\n",
       "     }\n",
       "   });\n",
       " require(['JSRootCore'],\n",
       "     function(Core) {\n",
       "       var obj = Core.JSONR_unref({\"_typename\":\"TCanvas\",\"fUniqueID\":0,\"fBits\":53673992,\"fLineColor\":1,\"fLineStyle\":1,\"fLineWidth\":1,\"fFillColor\":0,\"fFillStyle\":1001,\"fLeftMargin\":0.1,\"fRightMargin\":0.1,\"fBottomMargin\":0.1,\"fTopMargin\":0.1,\"fXfile\":2,\"fYfile\":2,\"fAfile\":1,\"fXstat\":0.99,\"fYstat\":0.99,\"fAstat\":2,\"fFrameFillColor\":0,\"fFrameLineColor\":1,\"fFrameFillStyle\":1001,\"fFrameLineStyle\":1,\"fFrameLineWidth\":1,\"fFrameBorderSize\":1,\"fFrameBorderMode\":0,\"fX1\":0,\"fY1\":0,\"fX2\":1,\"fY2\":1,\"fXtoAbsPixelk\":5e-5,\"fXtoPixelk\":5e-5,\"fXtoPixel\":796,\"fYtoAbsPixelk\":372.00005,\"fYtoPixelk\":372.00005,\"fYtoPixel\":-372,\"fUtoAbsPixelk\":5e-5,\"fUtoPixelk\":5e-5,\"fUtoPixel\":796,\"fVtoAbsPixelk\":372.00005,\"fVtoPixelk\":372,\"fVtoPixel\":-372,\"fAbsPixeltoXk\":0,\"fPixeltoXk\":0,\"fPixeltoX\":0.00125628140703518,\"fAbsPixeltoYk\":1,\"fPixeltoYk\":0,\"fPixeltoY\":-0.00268817204301075,\"fXlowNDC\":0,\"fYlowNDC\":0,\"fXUpNDC\":0,\"fYUpNDC\":0,\"fWNDC\":1,\"fHNDC\":1,\"fAbsXlowNDC\":0,\"fAbsYlowNDC\":0,\"fAbsWNDC\":1,\"fAbsHNDC\":1,\"fUxmin\":0,\"fUymin\":0,\"fUxmax\":1,\"fUymax\":1,\"fTheta\":30,\"fPhi\":30,\"fAspectRatio\":0,\"fNumber\":0,\"fTickx\":0,\"fTicky\":0,\"fLogx\":0,\"fLogy\":0,\"fLogz\":0,\"fPadPaint\":0,\"fCrosshair\":0,\"fCrosshairPos\":0,\"fBorderSize\":2,\"fBorderMode\":0,\"fModified\":false,\"fGridx\":false,\"fGridy\":false,\"fAbsCoord\":false,\"fEditable\":true,\"fFixedAspectRatio\":false,\"fPrimitives\":{\"_typename\":\"TList\",\"name\":\"TList\",\"arr\":[{\"_typename\":\"TPad\",\"fUniqueID\":0,\"fBits\":50331657,\"fLineColor\":1,\"fLineStyle\":1,\"fLineWidth\":1,\"fFillColor\":0,\"fFillStyle\":1001,\"fLeftMargin\":0.15,\"fRightMargin\":0.1,\"fBottomMargin\":0.1,\"fTopMargin\":0.1,\"fXfile\":2,\"fYfile\":2,\"fAfile\":1,\"fXstat\":0.99,\"fYstat\":0.99,\"fAstat\":2,\"fFrameFillColor\":0,\"fFrameLineColor\":1,\"fFrameFillStyle\":1001,\"fFrameLineStyle\":1,\"fFrameLineWidth\":1,\"fFrameBorderSize\":1,\"fFrameBorderMode\":0,\"fX1\":-14.0000001589457,\"fY1\":-1.89741906508433,\"fX2\":12.6666667064031,\"fY2\":1.89741906500569,\"fXtoAbsPixelk\":208.552050791743,\"fXtoPixelk\":200.592050969663,\"fXtoPixel\":14.3279999065921,\"fYtoAbsPixelk\":186.000049996223,\"fYtoPixelk\":182.280050079371,\"fYtoPixel\":-96.0673387556714,\"fUtoAbsPixelk\":7.96004982208014,\"fUtoPixelk\":5e-5,\"fUtoPixel\":382.08000035584,\"fVtoAbsPixelk\":368.280050083148,\"fVtoPixelk\":364.560000166297,\"fVtoPixel\":-364.560000166297,\"fAbsPixeltoXk\":-14.5555557057055,\"fPixeltoXk\":-14.0000001589457,\"fPixeltoX\":0.0697934119569555,\"fAbsPixeltoYk\":1.93614190218465,\"fPixeltoYk\":-1.89741906508433,\"fPixeltoY\":-0.0104093650657203,\"fXlowNDC\":0.00999999977648258,\"fYlowNDC\":0.00999999977648258,\"fXUpNDC\":0,\"fYUpNDC\":0,\"fWNDC\":0.480000000447035,\"fHNDC\":0.980000000447035,\"fAbsXlowNDC\":0.00999999977648258,\"fAbsYlowNDC\":0.00999999977648258,\"fAbsWNDC\":0.480000000447035,\"fAbsHNDC\":0.980000000447035,\"fUxmin\":-10,\"fUymin\":-1.51793522945633,\"fUxmax\":10,\"fUymax\":1.51793522937769,\"fTheta\":30,\"fPhi\":30,\"fAspectRatio\":0,\"fNumber\":1,\"fTickx\":0,\"fTicky\":0,\"fLogx\":0,\"fLogy\":0,\"fLogz\":0,\"fPadPaint\":0,\"fCrosshair\":0,\"fCrosshairPos\":0,\"fBorderSize\":2,\"fBorderMode\":0,\"fModified\":false,\"fGridx\":false,\"fGridy\":false,\"fAbsCoord\":false,\"fEditable\":true,\"fFixedAspectRatio\":false,\"fPrimitives\":{\"_typename\":\"TList\",\"name\":\"TList\",\"arr\":[{\"_typename\":\"TFrame\",\"fUniqueID\":0,\"fBits\":50331656,\"fLineColor\":1,\"fLineStyle\":1,\"fLineWidth\":1,\"fFillColor\":0,\"fFillStyle\":1001,\"fX1\":-10,\"fY1\":-1.51793522945633,\"fX2\":10,\"fY2\":1.51793522937769,\"fBorderSize\":1,\"fBorderMode\":0},{\"_typename\":\"TH1D\",\"fUniqueID\":0,\"fBits\":50332168,\"fName\":\"frame_7ff41437bb60\",\"fTitle\":\"d(Gauss)\\/dx\",\"fLineColor\":602,\"fLineStyle\":1,\"fLineWidth\":1,\"fFillColor\":0,\"fFillStyle\":1001,\"fMarkerColor\":1,\"fMarkerStyle\":1,\"fMarkerSize\":1,\"fNcells\":102,\"fXaxis\":{\"_typename\":\"TAxis\",\"fUniqueID\":0,\"fBits\":50331648,\"fName\":\"xaxis\",\"fTitle\":\"x\",\"fNdivisions\":510,\"fAxisColor\":1,\"fLabelColor\":1,\"fLabelFont\":42,\"fLabelOffset\":0.005,\"fLabelSize\":0.035,\"fTickLength\":0.03,\"fTitleOffset\":1,\"fTitleSize\":0.035,\"fTitleColor\":1,\"fTitleFont\":42,\"fNbins\":100,\"fXmin\":-10,\"fXmax\":10,\"fXbins\":[],\"fFirst\":0,\"fLast\":0,\"fBits2\":0,\"fTimeDisplay\":false,\"fTimeFormat\":\"\",\"fLabels\":null,\"fModLabs\":null},\"fYaxis\":{\"_typename\":\"TAxis\",\"fUniqueID\":0,\"fBits\":50331648,\"fName\":\"yaxis\",\"fTitle\":\"Projection of gaussian PDF\",\"fNdivisions\":510,\"fAxisColor\":1,\"fLabelColor\":1,\"fLabelFont\":42,\"fLabelOffset\":0.005,\"fLabelSize\":0.035,\"fTickLength\":0.03,\"fTitleOffset\":1.6,\"fTitleSize\":0.035,\"fTitleColor\":1,\"fTitleFont\":42,\"fNbins\":1,\"fXmin\":0,\"fXmax\":1,\"fXbins\":[],\"fFirst\":0,\"fLast\":0,\"fBits2\":0,\"fTimeDisplay\":false,\"fTimeFormat\":\"\",\"fLabels\":null,\"fModLabs\":null},\"fZaxis\":{\"_typename\":\"TAxis\",\"fUniqueID\":0,\"fBits\":50331648,\"fName\":\"zaxis\",\"fTitle\":\"\",\"fNdivisions\":510,\"fAxisColor\":1,\"fLabelColor\":1,\"fLabelFont\":42,\"fLabelOffset\":0.005,\"fLabelSize\":0.035,\"fTickLength\":0.03,\"fTitleOffset\":1,\"fTitleSize\":0.035,\"fTitleColor\":1,\"fTitleFont\":42,\"fNbins\":1,\"fXmin\":0,\"fXmax\":1,\"fXbins\":[],\"fFirst\":0,\"fLast\":0,\"fBits2\":0,\"fTimeDisplay\":false,\"fTimeFormat\":\"\",\"fLabels\":null,\"fModLabs\":null},\"fBarOffset\":0,\"fBarWidth\":1000,\"fEntries\":3,\"fTsumw\":0,\"fTsumw2\":0,\"fTsumwx\":0,\"fTsumwx2\":0,\"fMaximum\":1.51793522937769,\"fMinimum\":-1.51793522945633,\"fNormFactor\":0,\"fContour\":[],\"fSumw2\":[],\"fOption\":\"\",\"fFunctions\":{\"_typename\":\"TList\",\"name\":\"TList\",\"arr\":[],\"opt\":[]},\"fBufferSize\":0,\"fBuffer\":[],\"fBinStatErrOpt\":0,\"fStatOverflows\":2,\"fArray\":[0,1.51793522937769,0,0,0,0,0,0,0,0,0,0,0,0,0,0,0,0,0,0,0,0,0,0,0,0,0,0,0,0,0,0,0,0,0,0,0,0,0,0,0,0,0,0,0,0,0,0,0,0,0,0,0,0,0,0,0,0,0,0,0,0,0,0,0,0,0,0,0,0,0,0,0,0,0,0,0,0,0,0,0,0,0,0,0,0,0,0,0,0,0,0,0,0,0,0,0,0,0,0,0,0]},{\"_typename\":\"RooCurve\",\"fUniqueID\":0,\"fBits\":50332680,\"fName\":\"gauss_Norm[x]\",\"fTitle\":\"Projection of gaussian PDF\",\"fLineColor\":600,\"fLineStyle\":1,\"fLineWidth\":3,\"fFillColor\":0,\"fFillStyle\":1000,\"fMarkerColor\":1,\"fMarkerStyle\":1,\"fMarkerSize\":1,\"fNpoints\":136,\"fX\":[-10.2,-10.2,-10,-9.8,-9.6,-9.4,-9.2,-9,-8.8,-8.6,-8.4,-8.2,-8,-7.8,-7.6,-7.4,-7.2,-7,-6.8,-6.6,-6.4,-6.2,-6,-5.8,-5.6,-5.4,-5.2,-5,-4.8,-4.6,-4.4,-4.2,-4,-3.8,-3.6,-3.4,-3.2,-3,-2.8,-2.6,-2.4,-2.2,-2,-1.8,-1.6,-1.5,-1.4,-1.3,-1.2,-1.1,-1,-0.899999999999999,-0.799999999999999,-0.699999999999999,-0.6,-0.499999999999999,-0.399999999999999,-0.299999999999999,-0.199999999999999,0,0.200000000000001,0.300000000000001,0.4,0.500000000000001,0.600000000000001,0.650000000000001,0.700000000000001,0.750000000000001,0.800000000000001,0.850000000000001,0.9,0.95,1,1.05,1.1,1.15,1.2,1.25,1.3,1.35,1.4,1.5,1.6,1.7,1.8,2,2.2,2.3,2.4,2.5,2.6,2.7,2.8,2.9,3,3.1,3.2,3.3,3.4,3.5,3.6,3.8,4,4.2,4.4,4.6,4.8,5,5.2,5.4,5.6,5.8,6,6.2,6.4,6.6,6.8,7,7.2,7.4,7.6,7.8,8,8.2,8.4,8.6,8.8,9,9.2,9.4,9.6,9.8,10,10,10.2,10.2],\"fY\":[0,4.23763850701871e-28,4.23763850701871e-28,3.74874480468359e-27,3.18622226540193e-26,2.60192323984783e-25,2.04146111886122e-24,1.53891972534128e-23,1.11460000454414e-22,7.75622386349392e-22,5.18572940220074e-21,3.33117606475986e-20,2.05595471433378e-19,1.21915162591248e-18,6.94592549713242e-18,3.80216307581593e-17,1.99967574969944e-16,1.01045421670738e-15,4.90571057139287e-15,2.28831298036027e-14,1.02555072735933e-13,4.41597992627431e-13,1.82694408167292e-12,7.2619230035836e-12,2.77335998833063e-11,1.01762805632902e-10,3.58756781592819e-10,1.21517656996466e-9,3.95463928124894e-9,1.23652410003317e-8,3.7147236891106e-8,1.07220706893953e-7,2.9734390294686e-7,7.92259818206415e-7,2.02817041309735e-6,4.98849425801073e-6,1.1788613551308e-5,2.67660451529771e-5,5.83893851582921e-5,1.22380386022755e-4,2.46443833694604e-4,4.7681764029297e-4,8.86369682387602e-4,0.001583090316596,0.00271659384673713,0.00350566009871371,0.00447890605896858,0.00566540754832024,0.0070949185692463,0.00879671919608545,0.0107981933026376,0.0131231629549353,0.0157900316601789,0.0188098154753774,0.0221841669358911,0.0259035191331784,0.029945493127149,0.0342737184095615,0.0388372109966426,0.0483941449038287,0.0579383105522966,0.0624507866733523,0.06664492057836,0.0704130653528599,0.0736540280606647,0.0750480693833876,0.0762775630921049,0.0773336233605699,0.0782085387950912,0.0788958661815778,0.0793905094954024,0.0796887828189528,0.0797884560802865,0.0796887828189528,0.0793905094954024,0.0788958661815778,0.0782085387950912,0.0773336233605698,0.0762775630921048,0.0750480693833876,0.0736540280606647,0.0704130653528599,0.0666449205783599,0.0624507866733522,0.0579383105522965,0.0483941449038287,0.0388372109966425,0.0342737184095614,0.029945493127149,0.0259035191331783,0.0221841669358911,0.0188098154753774,0.0157900316601788,0.0131231629549353,0.0107981933026376,0.00879671919608543,0.00709491856924627,0.00566540754832022,0.00447890605896858,0.0035056600987137,0.00271659384673711,0.00158309031659599,8.86369682387602e-4,4.76817640292967e-4,2.46443833694604e-4,1.22380386022754e-4,5.83893851582919e-5,2.67660451529771e-5,1.17886135513079e-5,4.98849425801071e-6,2.02817041309733e-6,7.92259818206412e-7,2.9734390294686e-7,1.07220706893953e-7,3.71472368911055e-8,1.23652410003316e-8,3.95463928124892e-9,1.21517656996466e-9,3.58756781592819e-10,1.017628056329e-10,2.77335998833061e-11,7.26192300358355e-12,1.82694408167292e-12,4.41597992627431e-13,1.02555072735932e-13,2.28831298036025e-14,4.90571057139283e-15,1.01045421670738e-15,1.99967574969938e-16,3.80216307581587e-17,6.94592549713232e-18,1.21915162591248e-18,2.05595471433381e-19,2.05595471433381e-19,2.05595471433381e-19,0],\"fFunctions\":{\"_typename\":\"TList\",\"name\":\"TList\",\"arr\":[],\"opt\":[]},\"fHistogram\":{\"_typename\":\"TH1F\",\"fUniqueID\":0,\"fBits\":50332168,\"fName\":\"gauss_Norm[x]\",\"fTitle\":\"Projection of gaussian PDF\",\"fLineColor\":602,\"fLineStyle\":1,\"fLineWidth\":1,\"fFillColor\":0,\"fFillStyle\":1001,\"fMarkerColor\":1,\"fMarkerStyle\":1,\"fMarkerSize\":1,\"fNcells\":138,\"fXaxis\":{\"_typename\":\"TAxis\",\"fUniqueID\":0,\"fBits\":50331648,\"fName\":\"xaxis\",\"fTitle\":\"\",\"fNdivisions\":510,\"fAxisColor\":1,\"fLabelColor\":1,\"fLabelFont\":42,\"fLabelOffset\":0.005,\"fLabelSize\":0.035,\"fTickLength\":0.03,\"fTitleOffset\":1,\"fTitleSize\":0.035,\"fTitleColor\":1,\"fTitleFont\":42,\"fNbins\":136,\"fXmin\":-12.24,\"fXmax\":12.24,\"fXbins\":[],\"fFirst\":0,\"fLast\":0,\"fBits2\":0,\"fTimeDisplay\":false,\"fTimeFormat\":\"\",\"fLabels\":null,\"fModLabs\":null},\"fYaxis\":{\"_typename\":\"TAxis\",\"fUniqueID\":0,\"fBits\":50331648,\"fName\":\"yaxis\",\"fTitle\":\"\",\"fNdivisions\":510,\"fAxisColor\":1,\"fLabelColor\":1,\"fLabelFont\":42,\"fLabelOffset\":0.005,\"fLabelSize\":0.035,\"fTickLength\":0.03,\"fTitleOffset\":0,\"fTitleSize\":0.035,\"fTitleColor\":1,\"fTitleFont\":42,\"fNbins\":1,\"fXmin\":0,\"fXmax\":0.0877673016883152,\"fXbins\":[],\"fFirst\":0,\"fLast\":0,\"fBits2\":0,\"fTimeDisplay\":false,\"fTimeFormat\":\"\",\"fLabels\":null,\"fModLabs\":null},\"fZaxis\":{\"_typename\":\"TAxis\",\"fUniqueID\":0,\"fBits\":50331648,\"fName\":\"zaxis\",\"fTitle\":\"\",\"fNdivisions\":510,\"fAxisColor\":1,\"fLabelColor\":1,\"fLabelFont\":42,\"fLabelOffset\":0.005,\"fLabelSize\":0.035,\"fTickLength\":0.03,\"fTitleOffset\":1,\"fTitleSize\":0.035,\"fTitleColor\":1,\"fTitleFont\":42,\"fNbins\":1,\"fXmin\":0,\"fXmax\":1,\"fXbins\":[],\"fFirst\":0,\"fLast\":0,\"fBits2\":0,\"fTimeDisplay\":false,\"fTimeFormat\":\"\",\"fLabels\":null,\"fModLabs\":null},\"fBarOffset\":0,\"fBarWidth\":1000,\"fEntries\":0,\"fTsumw\":0,\"fTsumw2\":0,\"fTsumwx\":0,\"fTsumwx2\":0,\"fMaximum\":0.0877673016883152,\"fMinimum\":0,\"fNormFactor\":0,\"fContour\":[],\"fSumw2\":[],\"fOption\":\"\",\"fFunctions\":{\"_typename\":\"TList\",\"name\":\"TList\",\"arr\":[],\"opt\":[]},\"fBufferSize\":0,\"fBuffer\":[],\"fBinStatErrOpt\":0,\"fStatOverflows\":2,\"fArray\":[0,0,0,0,0,0,0,0,0,0,0,0,0,0,0,0,0,0,0,0,0,0,0,0,0,0,0,0,0,0,0,0,0,0,0,0,0,0,0,0,0,0,0,0,0,0,0,0,0,0,0,0,0,0,0,0,0,0,0,0,0,0,0,0,0,0,0,0,0,0,0,0,0,0,0,0,0,0,0,0,0,0,0,0,0,0,0,0,0,0,0,0,0,0,0,0,0,0,0,0,0,0,0,0,0,0,0,0,0,0,0,0,0,0,0,0,0,0,0,0,0,0,0,0,0,0,0,0,0,0,0,0,0,0,0,0,0,0]},\"fMinimum\":-1111,\"fMaximum\":-1111,\"_yAxisLabel\":\"Projection of gaussian PDF\",\"_ymin\":0,\"_ymax\":0.0797884560802865,\"_normValue\":0},{\"_typename\":\"RooCurve\",\"fUniqueID\":0,\"fBits\":50332680,\"fName\":\"gauss_DERIV_x_Norm[x]\",\"fTitle\":\"Projection of Derivative of gauss w.r.t x \",\"fLineColor\":616,\"fLineStyle\":1,\"fLineWidth\":3,\"fFillColor\":0,\"fFillStyle\":1000,\"fMarkerColor\":1,\"fMarkerStyle\":1,\"fMarkerSize\":1,\"fNpoints\":146,\"fX\":[-10.2,-10.2,-10,-9.8,-9.6,-9.4,-9.2,-9,-8.8,-8.6,-8.4,-8.2,-8,-7.8,-7.6,-7.4,-7.2,-7,-6.8,-6.6,-6.4,-6.2,-6,-5.8,-5.6,-5.4,-5.2,-5,-4.8,-4.6,-4.4,-4.2,-4,-3.8,-3.6,-3.4,-3.2,-3,-2.8,-2.6,-2.4,-2.2,-2,-1.8,-1.7,-1.6,-1.5,-1.4,-1.3,-1.2,-1.1,-1,-0.799999999999999,-0.6,-0.499999999999999,-0.399999999999999,-0.299999999999999,-0.199999999999999,-0.149999999999999,-0.0999999999999996,-0.0499999999999998,0,0.0500000000000003,0.100000000000001,0.150000000000001,0.200000000000001,0.250000000000001,0.300000000000001,0.350000000000001,0.4,0.450000000000001,0.500000000000001,0.550000000000001,0.600000000000001,0.700000000000001,0.800000000000001,0.9,1,1.1,1.2,1.3,1.4,1.45,1.5,1.55,1.6,1.65,1.7,1.75,1.8,1.85,1.9,1.95,2,2.05,2.1,2.15,2.2,2.3,2.4,2.5,2.6,2.8,3,3.1,3.2,3.3,3.4,3.5,3.6,3.7,3.8,4,4.2,4.4,4.6,4.8,5,5.2,5.4,5.6,5.8,6,6.2,6.4,6.6,6.8,7,7.2,7.4,7.6,7.8,8,8.2,8.4,8.6,8.8,9,9.2,9.4,9.6,9.8,10,10,10.2,10.2],\"fY\":[0,3.02710360352386e-26,3.02710360352386e-26,5.07420215938059e-25,4.23292138579155e-24,3.39145623471047e-23,2.60975538895328e-22,1.92874404594153e-21,1.36900128279821e-20,9.33212199616385e-20,6.10937294998099e-19,3.8410011365284e-18,2.31907693726347e-17,1.34462002273273e-16,7.48665504372414e-16,4.00285025204727e-15,2.0550992988505e-14,1.01313207099745e-13,4.79574423041782e-13,2.17965899046024e-12,9.51148764332216e-12,3.98491634922723e-11,1.60281336248527e-10,6.18899663041754e-10,2.29408711582834e-9,8.16260533653915e-9,2.78773563646438e-8,9.13798494924691e-8,2.87471430850552e-7,8.67861557829284e-7,2.51408600564229e-6,6.98782273530603e-6,1.86332634376972e-5,4.76616156559553e-5,1.16928984184766e-4,2.75094598615696e-4,6.20543081993299e-4,0.00134185046195998,0.00278084911841088,0.00552171834735407,0.0105016322723756,0.0191232731527486,0.0333269895480895,0.0555550653200772,0.0705278067174037,0.0885233825136473,0.109842334367458,0.134723431225058,0.163312314140949,0.195627559061046,0.231526103884271,0.270670567285185,0.356217659170024,0.444859681325063,0.486978701433128,0.525435538524735,0.558424565495953,0.584102706631402,0.593636524339996,0.600681868429891,0.605040526308597,0.606530658499622,0.604990032284027,0.600279128260786,0.592284057533658,0.58091922791444,0.566129699663008,0.547893174881015,0.526221569712938,0.501162124920841,0.472798018079868,0.441248449444706,0.406668183278675,0.369246536902327,0.286799243201308,0.196039733707266,0.0995012474251174,0,-0.0995012474251174,-0.196039733707264,-0.286799243201307,-0.369246536902334,-0.406668183278682,-0.441248449444713,-0.472798018079868,-0.50116212492084,-0.526221569712938,-0.547893174881006,-0.566129699663007,-0.580919227914439,-0.592284057533658,-0.600279128260786,-0.604990032284019,-0.606530658499615,-0.605040526308582,-0.600681868429869,-0.593636524339981,-0.58410270663138,-0.558424565495934,-0.525435538524721,-0.486978701433113,-0.444859681325049,-0.356217659170013,-0.270670567285181,-0.231526103884271,-0.195627559061047,-0.163312314140951,-0.134723431225058,-0.109842334367457,-0.0885233825136456,-0.070527806717404,-0.0555550653200774,-0.0333269895480896,-0.0191232731527483,-0.0105016322723756,-0.00552171834735407,-0.00278084911841089,-0.00134185046195998,-6.20543081993295e-4,-2.75094598615698e-4,-1.16928984184765e-4,-4.76616156559558e-5,-1.86332634376972e-5,-6.98782273530603e-6,-2.51408600564226e-6,-8.67861557829272e-7,-2.87471430850539e-7,-9.13798494924691e-8,-2.78773563646438e-8,-8.162605336539e-9,-2.2940871158284e-9,-6.18899663041773e-10,-1.60281336248527e-10,-3.98491634922723e-11,-9.51148764332174e-12,-2.17965899046028e-12,-4.79574423041779e-13,-1.01313207099745e-13,-2.05509929885045e-14,-4.00285025204721e-15,-7.48665504372402e-16,-1.34462002273271e-16,-1.19385165287247e-17,-1.19385165287247e-17,-1.19385165287247e-17,0],\"fFunctions\":{\"_typename\":\"TList\",\"name\":\"TList\",\"arr\":[],\"opt\":[]},\"fHistogram\":{\"_typename\":\"TH1F\",\"fUniqueID\":0,\"fBits\":50332168,\"fName\":\"gauss_DERIV_x_Norm[x]\",\"fTitle\":\"Projection of Derivative of gauss w.r.t x \",\"fLineColor\":602,\"fLineStyle\":1,\"fLineWidth\":1,\"fFillColor\":0,\"fFillStyle\":1001,\"fMarkerColor\":1,\"fMarkerStyle\":1,\"fMarkerSize\":1,\"fNcells\":148,\"fXaxis\":{\"_typename\":\"TAxis\",\"fUniqueID\":0,\"fBits\":50331648,\"fName\":\"xaxis\",\"fTitle\":\"\",\"fNdivisions\":510,\"fAxisColor\":1,\"fLabelColor\":1,\"fLabelFont\":42,\"fLabelOffset\":0.005,\"fLabelSize\":0.035,\"fTickLength\":0.03,\"fTitleOffset\":1,\"fTitleSize\":0.035,\"fTitleColor\":1,\"fTitleFont\":42,\"fNbins\":146,\"fXmin\":-12.24,\"fXmax\":12.24,\"fXbins\":[],\"fFirst\":0,\"fLast\":0,\"fBits2\":0,\"fTimeDisplay\":false,\"fTimeFormat\":\"\",\"fLabels\":null,\"fModLabs\":null},\"fYaxis\":{\"_typename\":\"TAxis\",\"fUniqueID\":0,\"fBits\":50331648,\"fName\":\"yaxis\",\"fTitle\":\"\",\"fNdivisions\":510,\"fAxisColor\":1,\"fLabelColor\":1,\"fLabelFont\":42,\"fLabelOffset\":0.005,\"fLabelSize\":0.035,\"fTickLength\":0.03,\"fTitleOffset\":0,\"fTitleSize\":0.035,\"fTitleColor\":1,\"fTitleFont\":42,\"fNbins\":1,\"fXmin\":-0.727836790199538,\"fXmax\":0.727836790199546,\"fXbins\":[],\"fFirst\":0,\"fLast\":0,\"fBits2\":0,\"fTimeDisplay\":false,\"fTimeFormat\":\"\",\"fLabels\":null,\"fModLabs\":null},\"fZaxis\":{\"_typename\":\"TAxis\",\"fUniqueID\":0,\"fBits\":50331648,\"fName\":\"zaxis\",\"fTitle\":\"\",\"fNdivisions\":510,\"fAxisColor\":1,\"fLabelColor\":1,\"fLabelFont\":42,\"fLabelOffset\":0.005,\"fLabelSize\":0.035,\"fTickLength\":0.03,\"fTitleOffset\":1,\"fTitleSize\":0.035,\"fTitleColor\":1,\"fTitleFont\":42,\"fNbins\":1,\"fXmin\":0,\"fXmax\":1,\"fXbins\":[],\"fFirst\":0,\"fLast\":0,\"fBits2\":0,\"fTimeDisplay\":false,\"fTimeFormat\":\"\",\"fLabels\":null,\"fModLabs\":null},\"fBarOffset\":0,\"fBarWidth\":1000,\"fEntries\":0,\"fTsumw\":0,\"fTsumw2\":0,\"fTsumwx\":0,\"fTsumwx2\":0,\"fMaximum\":0.727836790199546,\"fMinimum\":-0.727836790199538,\"fNormFactor\":0,\"fContour\":[],\"fSumw2\":[],\"fOption\":\"\",\"fFunctions\":{\"_typename\":\"TList\",\"name\":\"TList\",\"arr\":[],\"opt\":[]},\"fBufferSize\":0,\"fBuffer\":[],\"fBinStatErrOpt\":0,\"fStatOverflows\":2,\"fArray\":[0,0,0,0,0,0,0,0,0,0,0,0,0,0,0,0,0,0,0,0,0,0,0,0,0,0,0,0,0,0,0,0,0,0,0,0,0,0,0,0,0,0,0,0,0,0,0,0,0,0,0,0,0,0,0,0,0,0,0,0,0,0,0,0,0,0,0,0,0,0,0,0,0,0,0,0,0,0,0,0,0,0,0,0,0,0,0,0,0,0,0,0,0,0,0,0,0,0,0,0,0,0,0,0,0,0,0,0,0,0,0,0,0,0,0,0,0,0,0,0,0,0,0,0,0,0,0,0,0,0,0,0,0,0,0,0,0,0,0,0,0,0,0,0,0,0,0,0]},\"fMinimum\":-1111,\"fMaximum\":-1111,\"_yAxisLabel\":\"Projection of Derivative of gauss w.r.t x \",\"_ymin\":-0.606530658499615,\"_ymax\":0.606530658499622,\"_normValue\":0},{\"_typename\":\"RooCurve\",\"fUniqueID\":0,\"fBits\":50332680,\"fName\":\"gauss_DERIV_x_Norm[x]\",\"fTitle\":\"Projection of Derivative of gauss w.r.t x \",\"fLineColor\":632,\"fLineStyle\":1,\"fLineWidth\":3,\"fFillColor\":0,\"fFillStyle\":1000,\"fMarkerColor\":1,\"fMarkerStyle\":1,\"fMarkerSize\":1,\"fNpoints\":158,\"fX\":[-10.2,-10.2,-10,-9.8,-9.6,-9.4,-9.2,-9,-8.8,-8.6,-8.4,-8.2,-8,-7.8,-7.6,-7.4,-7.2,-7,-6.8,-6.6,-6.4,-6.2,-6,-5.8,-5.6,-5.4,-5.2,-5,-4.8,-4.6,-4.4,-4.2,-4,-3.8,-3.6,-3.4,-3.2,-3,-2.8,-2.6,-2.4,-2.2,-2.1,-2,-1.9,-1.8,-1.7,-1.6,-1.4,-1.2,-1.1,-1,-0.899999999999999,-0.799999999999999,-0.749999999999999,-0.699999999999999,-0.649999999999999,-0.6,-0.549999999999999,-0.499999999999999,-0.449999999999999,-0.399999999999999,-0.349999999999999,-0.299999999999999,-0.249999999999999,-0.199999999999999,-0.149999999999999,-0.0999999999999996,-0.0499999999999998,0,0.100000000000001,0.200000000000001,0.4,0.500000000000001,0.550000000000001,0.600000000000001,0.650000000000001,0.700000000000001,0.750000000000001,0.800000000000001,0.850000000000001,0.9,0.95,1,1.05,1.1,1.15,1.2,1.25,1.3,1.35,1.4,1.45,1.5,1.6,1.8,1.9,2,2.05,2.1,2.15,2.2,2.25,2.3,2.35,2.4,2.45,2.5,2.55,2.6,2.65,2.7,2.75,2.8,2.9,3,3.1,3.2,3.4,3.6,3.7,3.8,3.9,4,4.1,4.2,4.4,4.6,4.8,5,5.2,5.4,5.6,5.8,6,6.2,6.4,6.6,6.8,7,7.2,7.4,7.6,7.8,8,8.2,8.4,8.6,8.8,9,9.2,9.4,9.6,9.8,10,10,10.2,10.2],\"fY\":[0,7.14221782647059e-24,7.14221782647059e-24,5.433170308361e-24,4.44697505862614e-23,3.49451275702168e-22,2.63637052485668e-21,1.90946051685887e-20,1.32765435580257e-19,8.86164281630518e-19,5.67782622084209e-18,3.49197607729968e-17,2.06140443639435e-16,1.16798724578356e-15,6.35147611027338e-15,3.31474449175568e-14,1.66012071163053e-13,7.9784214301533e-13,3.67919923510735e-12,1.62786215203347e-11,6.90997118396461e-11,2.81379513715982e-10,1.0990725125819e-9,4.11750467727263e-9,1.47933911243123e-8,5.09652824431573e-8,1.68343305703346e-7,5.33049242283177e-7,1.61777057173767e-6,4.705050218859e-6,1.31104947655932e-5,3.49928702154657e-5,8.94396730820412e-5,2.18846269064737e-4,5.1245401532926e-4,0.00114789479200515,0.00245853268798725,0.00503193938271864,0.0098354244676431,0.0183443756862706,0.0326168346954198,0.0552184515852311,0.070504715806785,0.0888719724244658,0.110563024941845,0.135713088276907,0.164303668261807,0.19611333960158,0.267201471479232,0.341459011392285,0.375954291563727,0.406005849875671,0.42927833168382,0.443293085786676,0.446046906325756,0.445560084326446,0.44154591034277,0.433738188129196,0.421897180304664,0.40581558341482,0.385324410840937,0.360298653934212,0.330662586557756,0.29639457606497,0.257531264851498,0.214170991448964,0.1664763286649,0.114675628425468,0.0590634789153962,-1.07867418700873e-9,-0.126725594962277,-0.26141365398478,-0.534572935238971,-0.661872676479824,-0.720706393951368,-0.775417730126127,-0.825366024586142,-0.869957707290888,-0.908656156002977,-0.940990724935161,-0.966564749568521,-0.985062352790352,-0.99625390232098,-0.999999998334555,-0.996253902319684,-0.985062352790352,-0.966564749571297,-0.940990724935161,-0.908656156002977,-0.869957707293756,-0.825366024586049,-0.775417730124554,-0.720706393952756,-0.661872676481305,-0.534572935239064,-0.261413653984688,-0.126725594962277,-1.07719388964256e-9,0.0590634789183568,0.114675628426949,0.166476328667675,0.214170991450352,0.257531264851544,0.296394576067098,0.330662586555767,0.360298653934166,0.385324410843111,0.405815583414867,0.42189718030323,0.433738188129242,0.441545910342747,0.445560084326099,0.446046906326103,0.443293085785219,0.429278331684514,0.406005849874931,0.375954291563727,0.341459011391406,0.267201471479232,0.196113339601759,0.164303668261685,0.135713088277127,0.110563024941868,0.0888719724244586,0.0705047158067842,0.0552184515852745,0.032616834695345,0.0183443756862708,0.00983542446762603,0.00503193938271919,0.00245853268798619,0.0011478947920052,5.12454015329136e-4,2.18846269064285e-4,8.94396730820416e-5,3.49928702154657e-5,1.31104947655926e-5,4.70505021885843e-6,1.61777057173558e-6,5.33049242283199e-7,1.68343305703346e-7,5.09652824431573e-8,1.47933911242971e-8,4.11750467727713e-9,1.0990725125819e-9,2.81379513715982e-10,6.90997118397005e-11,1.62786215203224e-11,3.6791992351072e-12,7.97842143015329e-13,1.66012071163044e-13,3.31474449175538e-14,6.3514761102734e-15,1.16798724577773e-15,2.81067356949177e-15,2.81067356949177e-15,2.81067356949177e-15,0],\"fFunctions\":{\"_typename\":\"TList\",\"name\":\"TList\",\"arr\":[],\"opt\":[]},\"fHistogram\":{\"_typename\":\"TH1F\",\"fUniqueID\":0,\"fBits\":50332168,\"fName\":\"gauss_DERIV_x_Norm[x]\",\"fTitle\":\"Projection of Derivative of gauss w.r.t x \",\"fLineColor\":602,\"fLineStyle\":1,\"fLineWidth\":1,\"fFillColor\":0,\"fFillStyle\":1001,\"fMarkerColor\":1,\"fMarkerStyle\":1,\"fMarkerSize\":1,\"fNcells\":160,\"fXaxis\":{\"_typename\":\"TAxis\",\"fUniqueID\":0,\"fBits\":50331648,\"fName\":\"xaxis\",\"fTitle\":\"\",\"fNdivisions\":510,\"fAxisColor\":1,\"fLabelColor\":1,\"fLabelFont\":42,\"fLabelOffset\":0.005,\"fLabelSize\":0.035,\"fTickLength\":0.03,\"fTitleOffset\":1,\"fTitleSize\":0.035,\"fTitleColor\":1,\"fTitleFont\":42,\"fNbins\":158,\"fXmin\":-12.24,\"fXmax\":12.24,\"fXbins\":[],\"fFirst\":0,\"fLast\":0,\"fBits2\":0,\"fTimeDisplay\":false,\"fTimeFormat\":\"\",\"fLabels\":null,\"fModLabs\":null},\"fYaxis\":{\"_typename\":\"TAxis\",\"fUniqueID\":0,\"fBits\":50331648,\"fName\":\"yaxis\",\"fTitle\":\"\",\"fNdivisions\":510,\"fAxisColor\":1,\"fLabelColor\":1,\"fLabelFont\":42,\"fLabelOffset\":0.005,\"fLabelSize\":0.035,\"fTickLength\":0.03,\"fTitleOffset\":0,\"fTitleSize\":0.035,\"fTitleColor\":1,\"fTitleFont\":42,\"fNbins\":1,\"fXmin\":-1.14460468880062,\"fXmax\":0.590651596792169,\"fXbins\":[],\"fFirst\":0,\"fLast\":0,\"fBits2\":0,\"fTimeDisplay\":false,\"fTimeFormat\":\"\",\"fLabels\":null,\"fModLabs\":null},\"fZaxis\":{\"_typename\":\"TAxis\",\"fUniqueID\":0,\"fBits\":50331648,\"fName\":\"zaxis\",\"fTitle\":\"\",\"fNdivisions\":510,\"fAxisColor\":1,\"fLabelColor\":1,\"fLabelFont\":42,\"fLabelOffset\":0.005,\"fLabelSize\":0.035,\"fTickLength\":0.03,\"fTitleOffset\":1,\"fTitleSize\":0.035,\"fTitleColor\":1,\"fTitleFont\":42,\"fNbins\":1,\"fXmin\":0,\"fXmax\":1,\"fXbins\":[],\"fFirst\":0,\"fLast\":0,\"fBits2\":0,\"fTimeDisplay\":false,\"fTimeFormat\":\"\",\"fLabels\":null,\"fModLabs\":null},\"fBarOffset\":0,\"fBarWidth\":1000,\"fEntries\":0,\"fTsumw\":0,\"fTsumw2\":0,\"fTsumwx\":0,\"fTsumwx2\":0,\"fMaximum\":0.590651596792169,\"fMinimum\":-1.14460468880062,\"fNormFactor\":0,\"fContour\":[],\"fSumw2\":[],\"fOption\":\"\",\"fFunctions\":{\"_typename\":\"TList\",\"name\":\"TList\",\"arr\":[],\"opt\":[]},\"fBufferSize\":0,\"fBuffer\":[],\"fBinStatErrOpt\":0,\"fStatOverflows\":2,\"fArray\":[0,0,0,0,0,0,0,0,0,0,0,0,0,0,0,0,0,0,0,0,0,0,0,0,0,0,0,0,0,0,0,0,0,0,0,0,0,0,0,0,0,0,0,0,0,0,0,0,0,0,0,0,0,0,0,0,0,0,0,0,0,0,0,0,0,0,0,0,0,0,0,0,0,0,0,0,0,0,0,0,0,0,0,0,0,0,0,0,0,0,0,0,0,0,0,0,0,0,0,0,0,0,0,0,0,0,0,0,0,0,0,0,0,0,0,0,0,0,0,0,0,0,0,0,0,0,0,0,0,0,0,0,0,0,0,0,0,0,0,0,0,0,0,0,0,0,0,0,0,0,0,0,0,0,0,0,0,0,0,0]},\"fMinimum\":-1111,\"fMaximum\":-1111,\"_yAxisLabel\":\"Projection of Derivative of gauss w.r.t x \",\"_ymin\":-0.999999998334555,\"_ymax\":0.446046906326103,\"_normValue\":0},{\"_typename\":\"RooCurve\",\"fUniqueID\":0,\"fBits\":50332680,\"fName\":\"gauss_DERIV_x_Norm[x]\",\"fTitle\":\"Projection of Derivative of gauss w.r.t x \",\"fLineColor\":800,\"fLineStyle\":1,\"fLineWidth\":3,\"fFillColor\":0,\"fFillStyle\":1000,\"fMarkerColor\":1,\"fMarkerStyle\":1,\"fMarkerSize\":1,\"fNpoints\":156,\"fX\":[-10.2,-10.2,-10,-9.8,-9.6,-9.4,-9.2,-9,-8.8,-8.6,-8.4,-8.2,-8,-7.8,-7.6,-7.4,-7.2,-7,-6.8,-6.6,-6.4,-6.2,-6,-5.8,-5.6,-5.4,-5.2,-5,-4.8,-4.6,-4.4,-4.2,-4,-3.8,-3.6,-3.4,-3.2,-3,-2.8,-2.6,-2.4,-2.2,-2,-1.8,-1.6,-1.5,-1.4,-1.3,-1.2,-1.1,-1.05,-1,-0.95,-0.899999999999999,-0.849999999999999,-0.799999999999999,-0.749999999999999,-0.699999999999999,-0.6,-0.499999999999999,-0.399999999999999,-0.199999999999999,-0.0999999999999996,-0.0499999999999998,0,0.0500000000000003,0.100000000000001,0.150000000000001,0.200000000000001,0.250000000000001,0.300000000000001,0.350000000000001,0.4,0.450000000000001,0.500000000000001,0.550000000000001,0.600000000000001,0.650000000000001,0.700000000000001,0.750000000000001,0.800000000000001,0.9,1,1.1,1.2,1.25,1.3,1.35,1.4,1.45,1.5,1.55,1.6,1.65,1.7,1.75,1.8,1.85,1.9,1.95,2,2.05,2.1,2.2,2.4,2.5,2.6,2.7,2.75,2.8,2.85,2.9,2.95,3,3.05,3.1,3.2,3.3,3.4,3.5,3.6,3.8,4,4.2,4.4,4.6,4.8,5,5.2,5.4,5.6,5.8,6,6.2,6.4,6.6,6.8,7,7.2,7.4,7.6,7.8,8,8.2,8.4,8.6,8.8,9,9.2,9.4,9.6,9.8,10,10,10.2,10.2],\"fY\":[0,4.07677568001512e-23,4.07677568001512e-23,5.76628047063959e-23,4.62909116669901e-22,3.56643297666735e-21,2.63688166802366e-20,1.87087187818319e-19,1.27371267789855e-18,8.32048361445087e-18,5.21494006584755e-17,3.13578206917982e-16,1.80887414938344e-15,1.00093222663903e-14,5.31251653023144e-14,2.70431931361762e-13,1.32019304527641e-12,6.18009424855915e-12,2.77385395554311e-11,1.19357956097948e-10,4.92313987620569e-10,1.94623104358115e-9,7.37293460904685e-9,2.67612001479186e-8,9.30481107058545e-8,3.09852323342331e-7,9.87973046136568e-7,3.0155338760655e-6,8.80812192106162e-6,2.46125477862738e-5,6.57684776009929e-5,1.67987235224784e-4,4.09931755371827e-4,9.55138716305627e-4,0.00212343027463683,0.00450054756689045,0.00908475073878623,0.0174440562554415,0.0318129146355111,0.0549963162439893,0.0898939748503379,0.138452501461291,0.199961942105134,0.268886521041572,0.33284792158829,0.356987588494602,0.371836669902798,0.373985196480513,0.359954702809697,0.326451797326259,0.30149329068666,0.27067055496643,0.233763792271274,0.190625880351046,0.141192607840355,0.0854922206361408,0.0236539843406769,-0.0440845352358415,-0.195738278657246,-0.365234043503184,-0.5464529745323,-0.911200226466624,-1.0752205420253,-1.14806439244913,-1.21306130733874,-1.26896657953734,-1.31461127437366,-1.34892692115612,-1.37096935513374,-1.37994111769115,-1.37521184173419,-1.3563360670756,-1.32306797998721,-1.27537262339938,-1.21343320566107,-1.13765421327905,-1.04866013666179,-0.947289723003675,-0.834585774221278,-0.711780632755658,-0.580277594919298,-0.297508720945953,0,0.297508720948266,0.580277594766643,0.711780632600689,0.83458577414495,0.94728972292966,1.04866013673349,1.13765421335075,1.21343320581372,1.27537262339938,1.32306797990857,1.35633606707791,1.37521184150752,1.37994111761251,1.37096935505741,1.34892692115612,1.31461127437366,1.26896657930836,1.21306130719071,1.14806439215539,1.07522054158121,0.911200226022535,0.546452974275561,0.365234043246445,0.195738278399351,0.0440845349207001,-0.0236539845060539,-0.0854922208408382,-0.141192608027127,-0.190625880574248,-0.233763792436651,-0.270670555040445,-0.301493290668156,-0.326451797307755,-0.359954702792639,-0.373985196434253,-0.371836669902798,-0.356987588494313,-0.332847921611275,-0.268886521037524,-0.19996194209899,-0.138452501455996,-0.0898939748426582,-0.0549963162404431,-0.0318129146337402,-0.0174440562549807,-0.00908475073876703,-0.00450054756657366,-0.00212343027467015,-9.55138716243053e-4,-4.09931755371544e-4,-1.67987235224784e-4,-6.576847760092e-5,-2.46125477864988e-5,-8.8081219212731e-6,-3.0155338760655e-6,-9.87973046136568e-7,-3.0985232334234e-7,-9.30481107034172e-8,-2.67612001474531e-8,-7.37293460904806e-9,-1.94623104358231e-9,-4.92313987626485e-10,-1.19357956096577e-10,-2.77385395554463e-11,-6.1800942485628e-12,-1.32019304527642e-12,-2.70431931362161e-13,-5.31251653024046e-14,-1.0009322266446e-14,-1.29596917423415e-14,-1.29596917423415e-14,-1.29596917423415e-14,0],\"fFunctions\":{\"_typename\":\"TList\",\"name\":\"TList\",\"arr\":[],\"opt\":[]},\"fHistogram\":{\"_typename\":\"TH1F\",\"fUniqueID\":0,\"fBits\":50332168,\"fName\":\"gauss_DERIV_x_Norm[x]\",\"fTitle\":\"Projection of Derivative of gauss w.r.t x \",\"fLineColor\":602,\"fLineStyle\":1,\"fLineWidth\":1,\"fFillColor\":0,\"fFillStyle\":1001,\"fMarkerColor\":1,\"fMarkerStyle\":1,\"fMarkerSize\":1,\"fNcells\":158,\"fXaxis\":{\"_typename\":\"TAxis\",\"fUniqueID\":0,\"fBits\":50331648,\"fName\":\"xaxis\",\"fTitle\":\"\",\"fNdivisions\":510,\"fAxisColor\":1,\"fLabelColor\":1,\"fLabelFont\":42,\"fLabelOffset\":0.005,\"fLabelSize\":0.035,\"fTickLength\":0.03,\"fTitleOffset\":1,\"fTitleSize\":0.035,\"fTitleColor\":1,\"fTitleFont\":42,\"fNbins\":156,\"fXmin\":-12.24,\"fXmax\":12.24,\"fXbins\":[],\"fFirst\":0,\"fLast\":0,\"fBits2\":0,\"fTimeDisplay\":false,\"fTimeFormat\":\"\",\"fLabels\":null,\"fModLabs\":null},\"fYaxis\":{\"_typename\":\"TAxis\",\"fUniqueID\":0,\"fBits\":50331648,\"fName\":\"yaxis\",\"fTitle\":\"\",\"fNdivisions\":510,\"fAxisColor\":1,\"fLabelColor\":1,\"fLabelFont\":42,\"fLabelOffset\":0.005,\"fLabelSize\":0.035,\"fTickLength\":0.03,\"fTitleOffset\":0,\"fTitleSize\":0.035,\"fTitleColor\":1,\"fTitleFont\":42,\"fNbins\":1,\"fXmin\":-1.65592934122151,\"fXmax\":1.65592934114287,\"fXbins\":[],\"fFirst\":0,\"fLast\":0,\"fBits2\":0,\"fTimeDisplay\":false,\"fTimeFormat\":\"\",\"fLabels\":null,\"fModLabs\":null},\"fZaxis\":{\"_typename\":\"TAxis\",\"fUniqueID\":0,\"fBits\":50331648,\"fName\":\"zaxis\",\"fTitle\":\"\",\"fNdivisions\":510,\"fAxisColor\":1,\"fLabelColor\":1,\"fLabelFont\":42,\"fLabelOffset\":0.005,\"fLabelSize\":0.035,\"fTickLength\":0.03,\"fTitleOffset\":1,\"fTitleSize\":0.035,\"fTitleColor\":1,\"fTitleFont\":42,\"fNbins\":1,\"fXmin\":0,\"fXmax\":1,\"fXbins\":[],\"fFirst\":0,\"fLast\":0,\"fBits2\":0,\"fTimeDisplay\":false,\"fTimeFormat\":\"\",\"fLabels\":null,\"fModLabs\":null},\"fBarOffset\":0,\"fBarWidth\":1000,\"fEntries\":0,\"fTsumw\":0,\"fTsumw2\":0,\"fTsumwx\":0,\"fTsumwx2\":0,\"fMaximum\":1.65592934114287,\"fMinimum\":-1.65592934122151,\"fNormFactor\":0,\"fContour\":[],\"fSumw2\":[],\"fOption\":\"\",\"fFunctions\":{\"_typename\":\"TList\",\"name\":\"TList\",\"arr\":[],\"opt\":[]},\"fBufferSize\":0,\"fBuffer\":[],\"fBinStatErrOpt\":0,\"fStatOverflows\":2,\"fArray\":[0,0,0,0,0,0,0,0,0,0,0,0,0,0,0,0,0,0,0,0,0,0,0,0,0,0,0,0,0,0,0,0,0,0,0,0,0,0,0,0,0,0,0,0,0,0,0,0,0,0,0,0,0,0,0,0,0,0,0,0,0,0,0,0,0,0,0,0,0,0,0,0,0,0,0,0,0,0,0,0,0,0,0,0,0,0,0,0,0,0,0,0,0,0,0,0,0,0,0,0,0,0,0,0,0,0,0,0,0,0,0,0,0,0,0,0,0,0,0,0,0,0,0,0,0,0,0,0,0,0,0,0,0,0,0,0,0,0,0,0,0,0,0,0,0,0,0,0,0,0,0,0,0,0,0,0,0,0]},\"fMinimum\":-1111,\"fMaximum\":-1111,\"_yAxisLabel\":\"Projection of Derivative of gauss w.r.t x \",\"_ymin\":-1.37994111769115,\"_ymax\":1.37994111761251,\"_normValue\":0},{\"$ref\":5},{\"_typename\":\"TPaveText\",\"fUniqueID\":0,\"fBits\":50331657,\"fLineColor\":1,\"fLineStyle\":1,\"fLineWidth\":1,\"fFillColor\":0,\"fFillStyle\":0,\"fX1\":-4.77197105255735,\"fY1\":1.64111136895202,\"fX2\":3.43863760001473,\"fY2\":1.87844489245044,\"fX1NDC\":0.346051088911282,\"fY1NDC\":0.932458859306446,\"fX2NDC\":0.653948911088718,\"fY2NDC\":0.995000004768372,\"fBorderSize\":0,\"fInit\":1,\"fShadowColor\":1,\"fCornerRadius\":0,\"fOption\":\"blNDC\",\"fName\":\"title\",\"fTextAngle\":0,\"fTextSize\":0,\"fTextAlign\":22,\"fTextColor\":1,\"fTextFont\":42,\"fLabel\":\"\",\"fLongest\":11,\"fMargin\":0.05,\"fLines\":{\"_typename\":\"TList\",\"name\":\"TList\",\"arr\":[{\"_typename\":\"TLatex\",\"fUniqueID\":0,\"fBits\":50331648,\"fName\":\"\",\"fTitle\":\"d(Gauss)\\/dx\",\"fTextAngle\":0,\"fTextSize\":0,\"fTextAlign\":0,\"fTextColor\":0,\"fTextFont\":0,\"fX\":0,\"fY\":0,\"fLineColor\":1,\"fLineStyle\":1,\"fLineWidth\":2,\"fLimitFactorSize\":3,\"fOriginSize\":0.0531599745154381}],\"opt\":[\"\"]}}],\"opt\":[\"\",\"FUNC\",\"l\",\"l\",\"l\",\"l\",\"AXISSAME\",\"blNDC\"]},\"fExecs\":{\"_typename\":\"TList\",\"name\":\"TList\",\"arr\":[],\"opt\":[]},\"fName\":\"rf111_derivatives_1\",\"fTitle\":\"rf111_derivatives_1\",\"fNumPaletteColor\":0,\"fNextPaletteColor\":0},{\"_typename\":\"TPad\",\"fUniqueID\":0,\"fBits\":50331657,\"fLineColor\":1,\"fLineStyle\":1,\"fLineWidth\":1,\"fFillColor\":0,\"fFillStyle\":1001,\"fLeftMargin\":0.15,\"fRightMargin\":0.1,\"fBottomMargin\":0.1,\"fTopMargin\":0.1,\"fXfile\":2,\"fYfile\":2,\"fAfile\":1,\"fXstat\":0.99,\"fYstat\":0.99,\"fAstat\":2,\"fFrameFillColor\":0,\"fFrameLineColor\":1,\"fFrameFillStyle\":1001,\"fFrameLineStyle\":1,\"fFrameLineWidth\":1,\"fFrameBorderSize\":1,\"fFrameBorderMode\":0,\"fX1\":-0.400000015894572,\"fY1\":-55.664870508722,\"fX2\":2.26666667064031,\"fY2\":77.7192013083093,\"fXtoAbsPixelk\":463.272051725823,\"fXtoPixelk\":57.3120519037425,\"fXtoPixel\":143.279999065921,\"fYtoAbsPixelk\":216.139056593659,\"fYtoPixelk\":212.419056676807,\"fYtoPixel\":-2.73315992831872,\"fUtoAbsPixelk\":405.96004982208,\"fUtoPixelk\":5e-5,\"fUtoPixel\":382.08000035584,\"fVtoAbsPixelk\":368.280050083148,\"fVtoPixelk\":364.560000166297,\"fVtoPixel\":-364.560000166297,\"fAbsPixeltoXk\":-3.23333336645737,\"fPixeltoXk\":-0.400000015894572,\"fPixeltoX\":0.00697934119569555,\"fAbsPixeltoYk\":79.080263234583,\"fPixeltoYk\":-55.664870508722,\"fPixeltoY\":-0.365876870079513,\"fXlowNDC\":0.509999999776483,\"fYlowNDC\":0.00999999977648258,\"fXUpNDC\":0,\"fYUpNDC\":0,\"fWNDC\":0.480000000447035,\"fHNDC\":0.980000000447035,\"fAbsXlowNDC\":0.509999999776483,\"fAbsYlowNDC\":0.00999999977648258,\"fAbsWNDC\":0.480000000447035,\"fAbsHNDC\":0.980000000447035,\"fUxmin\":0,\"fUymin\":-42.3264625319878,\"fUxmax\":2,\"fUymax\":64.3807933315751,\"fTheta\":30,\"fPhi\":30,\"fAspectRatio\":0,\"fNumber\":2,\"fTickx\":0,\"fTicky\":0,\"fLogx\":0,\"fLogy\":0,\"fLogz\":0,\"fPadPaint\":0,\"fCrosshair\":0,\"fCrosshairPos\":0,\"fBorderSize\":2,\"fBorderMode\":0,\"fModified\":false,\"fGridx\":false,\"fGridy\":false,\"fAbsCoord\":false,\"fEditable\":true,\"fFixedAspectRatio\":false,\"fPrimitives\":{\"_typename\":\"TList\",\"name\":\"TList\",\"arr\":[{\"_typename\":\"TFrame\",\"fUniqueID\":0,\"fBits\":50331656,\"fLineColor\":1,\"fLineStyle\":1,\"fLineWidth\":1,\"fFillColor\":0,\"fFillStyle\":1001,\"fX1\":0,\"fY1\":-42.3264625319878,\"fX2\":2,\"fY2\":64.3807933315751,\"fBorderSize\":1,\"fBorderMode\":0},{\"_typename\":\"TH1D\",\"fUniqueID\":0,\"fBits\":50332168,\"fName\":\"frame_7ff4144e3900\",\"fTitle\":\"d(Gauss)\\/d(sigma)\",\"fLineColor\":602,\"fLineStyle\":1,\"fLineWidth\":1,\"fFillColor\":0,\"fFillStyle\":1001,\"fMarkerColor\":1,\"fMarkerStyle\":1,\"fMarkerSize\":1,\"fNcells\":102,\"fXaxis\":{\"_typename\":\"TAxis\",\"fUniqueID\":0,\"fBits\":50331648,\"fName\":\"xaxis\",\"fTitle\":\"width of gaussian\",\"fNdivisions\":510,\"fAxisColor\":1,\"fLabelColor\":1,\"fLabelFont\":42,\"fLabelOffset\":0.005,\"fLabelSize\":0.035,\"fTickLength\":0.03,\"fTitleOffset\":1,\"fTitleSize\":0.035,\"fTitleColor\":1,\"fTitleFont\":42,\"fNbins\":100,\"fXmin\":0,\"fXmax\":2,\"fXbins\":[],\"fFirst\":0,\"fLast\":0,\"fBits2\":0,\"fTimeDisplay\":false,\"fTimeFormat\":\"\",\"fLabels\":null,\"fModLabs\":null},\"fYaxis\":{\"_typename\":\"TAxis\",\"fUniqueID\":0,\"fBits\":50331648,\"fName\":\"yaxis\",\"fTitle\":\"Projection of gaussian PDF\",\"fNdivisions\":510,\"fAxisColor\":1,\"fLabelColor\":1,\"fLabelFont\":42,\"fLabelOffset\":0.005,\"fLabelSize\":0.035,\"fTickLength\":0.03,\"fTitleOffset\":1.6,\"fTitleSize\":0.035,\"fTitleColor\":1,\"fTitleFont\":42,\"fNbins\":1,\"fXmin\":0,\"fXmax\":1,\"fXbins\":[],\"fFirst\":0,\"fLast\":0,\"fBits2\":0,\"fTimeDisplay\":false,\"fTimeFormat\":\"\",\"fLabels\":null,\"fModLabs\":null},\"fZaxis\":{\"_typename\":\"TAxis\",\"fUniqueID\":0,\"fBits\":50331648,\"fName\":\"zaxis\",\"fTitle\":\"\",\"fNdivisions\":510,\"fAxisColor\":1,\"fLabelColor\":1,\"fLabelFont\":42,\"fLabelOffset\":0.005,\"fLabelSize\":0.035,\"fTickLength\":0.03,\"fTitleOffset\":1,\"fTitleSize\":0.035,\"fTitleColor\":1,\"fTitleFont\":42,\"fNbins\":1,\"fXmin\":0,\"fXmax\":1,\"fXbins\":[],\"fFirst\":0,\"fLast\":0,\"fBits2\":0,\"fTimeDisplay\":false,\"fTimeFormat\":\"\",\"fLabels\":null,\"fModLabs\":null},\"fBarOffset\":0,\"fBarWidth\":1000,\"fEntries\":4,\"fTsumw\":0,\"fTsumw2\":0,\"fTsumwx\":0,\"fTsumwx2\":0,\"fMaximum\":64.3807933315751,\"fMinimum\":-42.3264625319878,\"fNormFactor\":0,\"fContour\":[],\"fSumw2\":[],\"fOption\":\"\",\"fFunctions\":{\"_typename\":\"TList\",\"name\":\"TList\",\"arr\":[],\"opt\":[]},\"fBufferSize\":0,\"fBuffer\":[],\"fBinStatErrOpt\":0,\"fStatOverflows\":2,\"fArray\":[0,64.3807933315751,0,0,0,0,0,0,0,0,0,0,0,0,0,0,0,0,0,0,0,0,0,0,0,0,0,0,0,0,0,0,0,0,0,0,0,0,0,0,0,0,0,0,0,0,0,0,0,0,0,0,0,0,0,0,0,0,0,0,0,0,0,0,0,0,0,0,0,0,0,0,0,0,0,0,0,0,0,0,0,0,0,0,0,0,0,0,0,0,0,0,0,0,0,0,0,0,0,0,0,0]},{\"_typename\":\"RooCurve\",\"fUniqueID\":0,\"fBits\":50332680,\"fName\":\"gauss_Norm[sigma]\",\"fTitle\":\"Projection of gaussian PDF\",\"fLineColor\":600,\"fLineStyle\":1,\"fLineWidth\":3,\"fFillColor\":0,\"fFillStyle\":1000,\"fMarkerColor\":1,\"fMarkerStyle\":1,\"fMarkerSize\":1,\"fNpoints\":106,\"fX\":[-0.02,-0.02,0,0.02,0.04,0.06,0.08,0.1,0.12,0.14,0.16,0.18,0.2,0.22,0.24,0.26,0.28,0.3,0.32,0.34,0.36,0.38,0.4,0.42,0.44,0.46,0.48,0.5,0.52,0.54,0.56,0.58,0.6,0.62,0.64,0.66,0.68,0.7,0.72,0.74,0.76,0.78,0.8,0.82,0.84,0.86,0.88,0.9,0.92,0.94,0.96,0.98,1,1.02,1.04,1.06,1.08,1.1,1.12,1.14,1.16,1.18,1.2,1.22,1.24,1.26,1.28,1.3,1.32,1.34,1.36,1.38,1.4,1.42,1.44,1.46,1.48,1.5,1.52,1.54,1.56,1.58,1.6,1.62,1.64,1.66,1.68,1.7,1.72,1.74,1.76,1.78,1.8,1.82,1.84,1.86,1.88,1.9,1.92,1.94,1.96,1.98,2,2,2.02,2.02],\"fY\":[0,0,0,0,0,0,0,4.38519380671466e-25,1.89253263264346e-18,1.89571052963678e-14,7.48856816909158e-12,4.51478994582139e-10,8.47289576054892e-9,7.41651098699574e-8,3.86185096461593e-7,1.3946832819575e-6,3.86347112745897e-6,8.78953228214935e-6,1.72240137026094e-5,3.00799109922818e-5,4.79947852440446e-5,7.12726866434805e-5,9.98947423974094e-5,1.33573239171159e-4,1.71824297324503e-4,2.14041109130211e-4,2.59557476303421e-4,3.07697468650827e-4,3.5781089821902e-4,4.09296329214767e-4,4.61614118399194e-4,5.14292028524002e-4,5.66925650195187e-4,6.19175433994241e-4,6.70761698860219e-4,7.21458601855462e-4,7.7108774722841e-4,8.19511878054971e-4,8.66628921931448e-4,9.12366540902992e-4,9.56677253198927e-4,9.9953414027456e-4,0.00104092711901838,0.00108085973956742,0.00111934645938488,0.00115641034077595,0.00119208111951029,0.00122639359506929,0.00125938629715365,0.00129110038775757,0.00132157876288605,0.0013508653225856,0.0013790043822231,0.00140604020180606,0.00143201661356687,0.00145697673104009,0.00148096272547083,0.00150401565763798,0.00152617535509691,0.00154748032648072,0.00156796770588402,0.00158767322152314,0.00160663118385126,0.00162487448913426,0.00164243463518664,0.00165934174654688,0.00167562460685617,0.00169131069660881,0.00170642623477857,0.00172099622310582,0.00173504449206182,0.00174859374769983,0.0017616656187615,0.00177428070353914,0.00178645861610262,0.00179821803158928,0.00180957673032816,0.00182055164062998,0.00183115888012292,0.00184141379555386,0.00185133100100694,0.00186092441451641,0.00187020729307169,0.00187919226602825,0.00188789136695061,0.00189631606392332,0.00190447728837303,0.00191238546244986,0.00192005052502013,0.00192748195632472,0.00193468880135882,0.00194167969202898,0.00194846286814379,0.00195504619729316,0.0019614371936706,0.0019676430358913,0.0019736705838572,0.00197952639471846,0.00198521673797898,0.00199074760979142,0.00199612474648549,0.00200135363737103,0.00200643953685549,0.00200643953685549,0.00200643953685549,0],\"fFunctions\":{\"_typename\":\"TList\",\"name\":\"TList\",\"arr\":[],\"opt\":[]},\"fHistogram\":{\"_typename\":\"TH1F\",\"fUniqueID\":0,\"fBits\":50332168,\"fName\":\"gauss_Norm[sigma]\",\"fTitle\":\"Projection of gaussian PDF\",\"fLineColor\":602,\"fLineStyle\":1,\"fLineWidth\":1,\"fFillColor\":0,\"fFillStyle\":1001,\"fMarkerColor\":1,\"fMarkerStyle\":1,\"fMarkerSize\":1,\"fNcells\":108,\"fXaxis\":{\"_typename\":\"TAxis\",\"fUniqueID\":0,\"fBits\":50331648,\"fName\":\"xaxis\",\"fTitle\":\"\",\"fNdivisions\":510,\"fAxisColor\":1,\"fLabelColor\":1,\"fLabelFont\":42,\"fLabelOffset\":0.005,\"fLabelSize\":0.035,\"fTickLength\":0.03,\"fTitleOffset\":1,\"fTitleSize\":0.035,\"fTitleColor\":1,\"fTitleFont\":42,\"fNbins\":106,\"fXmin\":-0.224,\"fXmax\":2.224,\"fXbins\":[],\"fFirst\":0,\"fLast\":0,\"fBits2\":0,\"fTimeDisplay\":false,\"fTimeFormat\":\"\",\"fLabels\":null,\"fModLabs\":null},\"fYaxis\":{\"_typename\":\"TAxis\",\"fUniqueID\":0,\"fBits\":50331648,\"fName\":\"yaxis\",\"fTitle\":\"\",\"fNdivisions\":510,\"fAxisColor\":1,\"fLabelColor\":1,\"fLabelFont\":42,\"fLabelOffset\":0.005,\"fLabelSize\":0.035,\"fTickLength\":0.03,\"fTitleOffset\":0,\"fTitleSize\":0.035,\"fTitleColor\":1,\"fTitleFont\":42,\"fNbins\":1,\"fXmin\":0,\"fXmax\":0.00220708349054103,\"fXbins\":[],\"fFirst\":0,\"fLast\":0,\"fBits2\":0,\"fTimeDisplay\":false,\"fTimeFormat\":\"\",\"fLabels\":null,\"fModLabs\":null},\"fZaxis\":{\"_typename\":\"TAxis\",\"fUniqueID\":0,\"fBits\":50331648,\"fName\":\"zaxis\",\"fTitle\":\"\",\"fNdivisions\":510,\"fAxisColor\":1,\"fLabelColor\":1,\"fLabelFont\":42,\"fLabelOffset\":0.005,\"fLabelSize\":0.035,\"fTickLength\":0.03,\"fTitleOffset\":1,\"fTitleSize\":0.035,\"fTitleColor\":1,\"fTitleFont\":42,\"fNbins\":1,\"fXmin\":0,\"fXmax\":1,\"fXbins\":[],\"fFirst\":0,\"fLast\":0,\"fBits2\":0,\"fTimeDisplay\":false,\"fTimeFormat\":\"\",\"fLabels\":null,\"fModLabs\":null},\"fBarOffset\":0,\"fBarWidth\":1000,\"fEntries\":0,\"fTsumw\":0,\"fTsumw2\":0,\"fTsumwx\":0,\"fTsumwx2\":0,\"fMaximum\":0.00220708349054103,\"fMinimum\":0,\"fNormFactor\":0,\"fContour\":[],\"fSumw2\":[],\"fOption\":\"\",\"fFunctions\":{\"_typename\":\"TList\",\"name\":\"TList\",\"arr\":[],\"opt\":[]},\"fBufferSize\":0,\"fBuffer\":[],\"fBinStatErrOpt\":0,\"fStatOverflows\":2,\"fArray\":[0,0,0,0,0,0,0,0,0,0,0,0,0,0,0,0,0,0,0,0,0,0,0,0,0,0,0,0,0,0,0,0,0,0,0,0,0,0,0,0,0,0,0,0,0,0,0,0,0,0,0,0,0,0,0,0,0,0,0,0,0,0,0,0,0,0,0,0,0,0,0,0,0,0,0,0,0,0,0,0,0,0,0,0,0,0,0,0,0,0,0,0,0,0,0,0,0,0,0,0,0,0,0,0,0,0,0,0]},\"fMinimum\":-1111,\"fMaximum\":-1111,\"_yAxisLabel\":\"Projection of gaussian PDF\",\"_ymin\":0,\"_ymax\":0.00200643953685549,\"_normValue\":0},{\"_typename\":\"RooCurve\",\"fUniqueID\":0,\"fBits\":50332680,\"fName\":\"gauss_DERIV_sigma_Norm[sigma]\",\"fTitle\":\"Projection of Derivative of gauss w.r.t sigma \",\"fLineColor\":616,\"fLineStyle\":1,\"fLineWidth\":3,\"fFillColor\":0,\"fFillStyle\":1000,\"fMarkerColor\":1,\"fMarkerStyle\":1,\"fMarkerSize\":1,\"fNpoints\":120,\"fX\":[-0.02,-0.02,0,0.02,0.04,0.06,0.08,0.1,0.12,0.14,0.16,0.18,0.2,0.22,0.23,0.24,0.25,0.26,0.27,0.28,0.29,0.3,0.31,0.32,0.33,0.34,0.36,0.38,0.4,0.41,0.42,0.43,0.44,0.45,0.46,0.47,0.48,0.49,0.5,0.51,0.52,0.53,0.54,0.55,0.56,0.58,0.6,0.62,0.64,0.66,0.68,0.7,0.72,0.74,0.76,0.78,0.8,0.82,0.84,0.86,0.88,0.9,0.92,0.94,0.96,0.98,1,1.02,1.04,1.06,1.08,1.1,1.12,1.14,1.16,1.18,1.2,1.22,1.24,1.26,1.28,1.3,1.32,1.34,1.36,1.38,1.4,1.42,1.44,1.46,1.48,1.5,1.52,1.54,1.56,1.58,1.6,1.62,1.64,1.66,1.68,1.7,1.72,1.74,1.76,1.78,1.8,1.82,1.84,1.86,1.88,1.9,1.92,1.94,1.96,1.98,2,2,2.02,2.02],\"fY\":[0,0,0,0,0,0,0,-1.51049273683166e-17,-6.20382659626717e-13,2.40966026146687e-9,7.81022881085622e-7,3.38871837686773e-5,4.65454319535896e-4,0.0030631628689605,0.00645566891858955,0.0122871140020078,0.0214698560709635,0.0349018156445026,0.0533596557084079,0.0774094554614099,0.107348488036518,0.143182722617668,0.184637178173946,0.231191598051156,0.282132117123269,0.336609962954199,0.4524530851383,0.57129352942367,0.686514374759602,0.741095405623613,0.792973352144764,0.841764990488748,0.887183758969056,0.929031288649675,0.967187685551639,1.00160130480193,1.03227856760466,1.059274209872,1.08268221869073,1.10262760825601,1.11925910746724,1.1327427732869,1.1432565033321,1.15098539436329,1.15611787715183,1.15934563019458,1.15440838985505,1.14268300489284,1.12542213757867,1.10373986481551,1.07860935608346,1.0508682025673,1.02122822026727,0.990287525781069,0.958543415255705,0.92640510809503,0.894205791578024,0.862213659524726,0.830641809291787,0.799656971350035,0.769387113019913,0.739927996182606,0.711348787674191,0.683696827457016,0.657001658286243,0.631278414670831,0.606530660611168,0.582752756270145,0.559931824278551,0.538049377307112,0.517082660149924,0.497005751991344,0.477790467810361,0.459407091993379,0.441824972127917,0.42501299656077,0.408939975553628,0.393574942675901,0.378887390369012,0.364847451329726,0.351426035433378,0.338594930297325,0.326326872225248,0.314595593132462,0.303375848098442,0.292643427395067,0.282375156172458,0.27254888442826,0.263143469422753,0.254138752315938,0.245515530481159,0.237255526682825,0.229341356083712,0.221756491863013,0.214485230073916,0.207512654243031,0.20082460010954,0.194407620815989,0.18824895279208,0.182336482514117,0.176658714275714,0.171204739066404,0.165964204623236,0.160927286695145,0.156084661539455,0.151427479653331,0.146947340730733,0.142636269824674,0.138486694687569,0.1344914242563,0.130643628244465,0.126936817801449,0.123364827195832,0.119921796479947,0.116602155091458,0.113400606348333,0.110312112794019,0.110312112794019,0.110312112794019,0],\"fFunctions\":{\"_typename\":\"TList\",\"name\":\"TList\",\"arr\":[],\"opt\":[]},\"fHistogram\":{\"_typename\":\"TH1F\",\"fUniqueID\":0,\"fBits\":50332168,\"fName\":\"gauss_DERIV_sigma_Norm[sigma]\",\"fTitle\":\"Projection of Derivative of gauss w.r.t sigma \",\"fLineColor\":602,\"fLineStyle\":1,\"fLineWidth\":1,\"fFillColor\":0,\"fFillStyle\":1001,\"fMarkerColor\":1,\"fMarkerStyle\":1,\"fMarkerSize\":1,\"fNcells\":122,\"fXaxis\":{\"_typename\":\"TAxis\",\"fUniqueID\":0,\"fBits\":50331648,\"fName\":\"xaxis\",\"fTitle\":\"\",\"fNdivisions\":510,\"fAxisColor\":1,\"fLabelColor\":1,\"fLabelFont\":42,\"fLabelOffset\":0.005,\"fLabelSize\":0.035,\"fTickLength\":0.03,\"fTitleOffset\":1,\"fTitleSize\":0.035,\"fTitleColor\":1,\"fTitleFont\":42,\"fNbins\":120,\"fXmin\":-0.224,\"fXmax\":2.224,\"fXbins\":[],\"fFirst\":0,\"fLast\":0,\"fBits2\":0,\"fTimeDisplay\":false,\"fTimeFormat\":\"\",\"fLabels\":null,\"fModLabs\":null},\"fYaxis\":{\"_typename\":\"TAxis\",\"fUniqueID\":0,\"fBits\":50331648,\"fName\":\"yaxis\",\"fTitle\":\"\",\"fNdivisions\":510,\"fAxisColor\":1,\"fLabelColor\":1,\"fLabelFont\":42,\"fLabelOffset\":0.005,\"fLabelSize\":0.035,\"fTickLength\":0.03,\"fTitleOffset\":0,\"fTitleSize\":0.035,\"fTitleColor\":1,\"fTitleFont\":42,\"fNbins\":1,\"fXmin\":-0.115934563020141,\"fXmax\":1.2752801932141,\"fXbins\":[],\"fFirst\":0,\"fLast\":0,\"fBits2\":0,\"fTimeDisplay\":false,\"fTimeFormat\":\"\",\"fLabels\":null,\"fModLabs\":null},\"fZaxis\":{\"_typename\":\"TAxis\",\"fUniqueID\":0,\"fBits\":50331648,\"fName\":\"zaxis\",\"fTitle\":\"\",\"fNdivisions\":510,\"fAxisColor\":1,\"fLabelColor\":1,\"fLabelFont\":42,\"fLabelOffset\":0.005,\"fLabelSize\":0.035,\"fTickLength\":0.03,\"fTitleOffset\":1,\"fTitleSize\":0.035,\"fTitleColor\":1,\"fTitleFont\":42,\"fNbins\":1,\"fXmin\":0,\"fXmax\":1,\"fXbins\":[],\"fFirst\":0,\"fLast\":0,\"fBits2\":0,\"fTimeDisplay\":false,\"fTimeFormat\":\"\",\"fLabels\":null,\"fModLabs\":null},\"fBarOffset\":0,\"fBarWidth\":1000,\"fEntries\":0,\"fTsumw\":0,\"fTsumw2\":0,\"fTsumwx\":0,\"fTsumwx2\":0,\"fMaximum\":1.2752801932141,\"fMinimum\":-0.115934563020141,\"fNormFactor\":0,\"fContour\":[],\"fSumw2\":[],\"fOption\":\"\",\"fFunctions\":{\"_typename\":\"TList\",\"name\":\"TList\",\"arr\":[],\"opt\":[]},\"fBufferSize\":0,\"fBuffer\":[],\"fBinStatErrOpt\":0,\"fStatOverflows\":2,\"fArray\":[0,0,0,0,0,0,0,0,0,0,0,0,0,0,0,0,0,0,0,0,0,0,0,0,0,0,0,0,0,0,0,0,0,0,0,0,0,0,0,0,0,0,0,0,0,0,0,0,0,0,0,0,0,0,0,0,0,0,0,0,0,0,0,0,0,0,0,0,0,0,0,0,0,0,0,0,0,0,0,0,0,0,0,0,0,0,0,0,0,0,0,0,0,0,0,0,0,0,0,0,0,0,0,0,0,0,0,0,0,0,0,0,0,0,0,0,0,0,0,0,0,0]},\"fMinimum\":-1111,\"fMaximum\":-1111,\"_yAxisLabel\":\"Projection of Derivative of gauss w.r.t sigma \",\"_ymin\":-6.20382659626717e-13,\"_ymax\":1.15934563019458,\"_normValue\":0},{\"_typename\":\"RooCurve\",\"fUniqueID\":0,\"fBits\":50332680,\"fName\":\"gauss_DERIV_sigma_Norm[sigma]\",\"fTitle\":\"Projection of Derivative of gauss w.r.t sigma \",\"fLineColor\":632,\"fLineStyle\":1,\"fLineWidth\":3,\"fFillColor\":0,\"fFillStyle\":1000,\"fMarkerColor\":1,\"fMarkerStyle\":1,\"fMarkerSize\":1,\"fNpoints\":137,\"fX\":[-0.02,-0.02,0,0.02,0.04,0.06,0.08,0.1,0.12,0.14,0.16,0.18,0.19,0.2,0.21,0.215,0.22,0.225,0.23,0.235,0.24,0.245,0.25,0.255,0.26,0.27,0.28,0.3,0.31,0.315,0.32,0.325,0.33,0.335,0.34,0.345,0.35,0.355,0.36,0.365,0.37,0.375,0.38,0.385,0.39,0.4,0.41,0.42,0.43,0.44,0.46,0.48,0.5,0.51,0.52,0.53,0.54,0.55,0.56,0.57,0.58,0.59,0.6,0.61,0.62,0.64,0.66,0.68,0.7,0.72,0.74,0.76,0.78,0.8,0.82,0.84,0.86,0.88,0.9,0.92,0.94,0.96,0.98,1,1.02,1.04,1.06,1.08,1.1,1.12,1.14,1.16,1.18,1.2,1.22,1.24,1.26,1.28,1.3,1.32,1.34,1.36,1.38,1.4,1.42,1.44,1.46,1.48,1.5,1.52,1.54,1.56,1.58,1.6,1.62,1.64,1.66,1.68,1.7,1.72,1.74,1.76,1.78,1.8,1.82,1.84,1.86,1.88,1.9,1.92,1.94,1.96,1.98,2,2,2.02,2.02],\"fY\":[0,0,0,0,0,0,0,-2.53190202637204e-15,1.28796876500064e-10,9.9396333875445e-7,1.80227735249981e-4,0.00526724037796171,0.0182997733859704,0.0512390393748997,0.120526321597918,0.174955275565828,0.245935946456964,0.335771182563226,0.446403277108867,0.5792785750152,0.735241702773675,0.914466486896137,1.1164265475388,1.33990478452925,1.58303789593288,2.11804723889146,2.69689799268534,3.87122007220285,4.41092570898503,4.6584524623626,4.88797668234287,5.0976241188182,5.28589798628735,5.45167200290498,5.59417538285854,5.71297152873452,5.80793205921946,5.87920765227396,5.92719700344183,5.95251500773432,5.95596108301659,5.9384883709494,5.90117438390907,5.84519351615464,5.77179170663856,5.57793109300467,5.33017684093633,5.03903444010025,4.71452926944827,4.36593204643916,3.62884287940751,2.88237584881093,2.16536498848765,1.82620067331244,1.50287445405586,1.19683015158814,0.909006196317162,0.639916937211262,0.389726473944728,0.158314504107571,-0.0546658453914369,-0.249737911110192,-0.427558612847874,-0.588882185196408,-0.734529851040067,-0.98227150917647,-1.17785078869179,-1.32822850129969,-1.4399651828241,-1.5190594753198,-1.57087641669997,-1.60013444554456,-1.61092883159431,-1.60677603880193,-1.59066855159013,-1.56513331432574,-1.5322894836588,-1.49390294962831,-1.45143626514293,-1.40609339883886,-1.35885921851151,-1.3105339092798,-1.26176269639179,-1.21306132312964,-1.16483775883198,-1.1174106032347,-1.07102462540317,-1.02586383686983,-0.982062456086244,-0.939714079210749,-0.898879330897643,-0.859592231916893,-0.821865486291206,-0.785694860978786,-0.751062804938729,-0.717941431944942,-0.686294971865921,-0.656081778826852,-0.627255970402576,-0.599768759782891,-0.573569533385537,-0.548606717181689,-0.524828468371361,-0.502183222528931,-0.480620121940127,-0.460089345958601,-0.440542361067968,-0.421932105392617,-0.404213119648377,-0.387341634726015,-0.371275624312332,-0.355974829406592,-0.341400760442951,-0.327516681890515,-0.314287583118995,-0.30168013870663,-0.28966266095391,-0.278205046590009,-0.267278719487721,-0.256856570889712,-0.24691289809686,-0.23742334265855,-0.228364828832193,-0.219715502634804,-0.211454672292407,-0.203562750104648,-0.196021196114274,-0.188812463718933,-0.1819199473918,-0.17532793255559,-0.169021547600518,-0.162986718176478,-0.157210123515882,-0.151679155103601,-0.151679155103601,-0.151679155103601,0],\"fFunctions\":{\"_typename\":\"TList\",\"name\":\"TList\",\"arr\":[],\"opt\":[]},\"fHistogram\":{\"_typename\":\"TH1F\",\"fUniqueID\":0,\"fBits\":50332168,\"fName\":\"gauss_DERIV_sigma_Norm[sigma]\",\"fTitle\":\"Projection of Derivative of gauss w.r.t sigma \",\"fLineColor\":602,\"fLineStyle\":1,\"fLineWidth\":1,\"fFillColor\":0,\"fFillStyle\":1001,\"fMarkerColor\":1,\"fMarkerStyle\":1,\"fMarkerSize\":1,\"fNcells\":139,\"fXaxis\":{\"_typename\":\"TAxis\",\"fUniqueID\":0,\"fBits\":50331648,\"fName\":\"xaxis\",\"fTitle\":\"\",\"fNdivisions\":510,\"fAxisColor\":1,\"fLabelColor\":1,\"fLabelFont\":42,\"fLabelOffset\":0.005,\"fLabelSize\":0.035,\"fTickLength\":0.03,\"fTitleOffset\":1,\"fTitleSize\":0.035,\"fTitleColor\":1,\"fTitleFont\":42,\"fNbins\":137,\"fXmin\":-0.224,\"fXmax\":2.224,\"fXbins\":[],\"fFirst\":0,\"fLast\":0,\"fBits2\":0,\"fTimeDisplay\":false,\"fTimeFormat\":\"\",\"fLabels\":null,\"fModLabs\":null},\"fYaxis\":{\"_typename\":\"TAxis\",\"fUniqueID\":0,\"fBits\":50331648,\"fName\":\"yaxis\",\"fTitle\":\"\",\"fNdivisions\":510,\"fAxisColor\":1,\"fLabelColor\":1,\"fLabelFont\":42,\"fLabelOffset\":0.005,\"fLabelSize\":0.035,\"fTickLength\":0.03,\"fTitleOffset\":0,\"fTitleSize\":0.035,\"fTitleColor\":1,\"fTitleFont\":42,\"fNbins\":1,\"fXmin\":-2.3676178230554,\"fXmax\":6.71265007447768,\"fXbins\":[],\"fFirst\":0,\"fLast\":0,\"fBits2\":0,\"fTimeDisplay\":false,\"fTimeFormat\":\"\",\"fLabels\":null,\"fModLabs\":null},\"fZaxis\":{\"_typename\":\"TAxis\",\"fUniqueID\":0,\"fBits\":50331648,\"fName\":\"zaxis\",\"fTitle\":\"\",\"fNdivisions\":510,\"fAxisColor\":1,\"fLabelColor\":1,\"fLabelFont\":42,\"fLabelOffset\":0.005,\"fLabelSize\":0.035,\"fTickLength\":0.03,\"fTitleOffset\":1,\"fTitleSize\":0.035,\"fTitleColor\":1,\"fTitleFont\":42,\"fNbins\":1,\"fXmin\":0,\"fXmax\":1,\"fXbins\":[],\"fFirst\":0,\"fLast\":0,\"fBits2\":0,\"fTimeDisplay\":false,\"fTimeFormat\":\"\",\"fLabels\":null,\"fModLabs\":null},\"fBarOffset\":0,\"fBarWidth\":1000,\"fEntries\":0,\"fTsumw\":0,\"fTsumw2\":0,\"fTsumwx\":0,\"fTsumwx2\":0,\"fMaximum\":6.71265007447768,\"fMinimum\":-2.3676178230554,\"fNormFactor\":0,\"fContour\":[],\"fSumw2\":[],\"fOption\":\"\",\"fFunctions\":{\"_typename\":\"TList\",\"name\":\"TList\",\"arr\":[],\"opt\":[]},\"fBufferSize\":0,\"fBuffer\":[],\"fBinStatErrOpt\":0,\"fStatOverflows\":2,\"fArray\":[0,0,0,0,0,0,0,0,0,0,0,0,0,0,0,0,0,0,0,0,0,0,0,0,0,0,0,0,0,0,0,0,0,0,0,0,0,0,0,0,0,0,0,0,0,0,0,0,0,0,0,0,0,0,0,0,0,0,0,0,0,0,0,0,0,0,0,0,0,0,0,0,0,0,0,0,0,0,0,0,0,0,0,0,0,0,0,0,0,0,0,0,0,0,0,0,0,0,0,0,0,0,0,0,0,0,0,0,0,0,0,0,0,0,0,0,0,0,0,0,0,0,0,0,0,0,0,0,0,0,0,0,0,0,0,0,0,0,0]},\"fMinimum\":-1111,\"fMaximum\":-1111,\"_yAxisLabel\":\"Projection of Derivative of gauss w.r.t sigma \",\"_ymin\":-1.61092883159431,\"_ymax\":5.95596108301659,\"_normValue\":0},{\"_typename\":\"RooCurve\",\"fUniqueID\":0,\"fBits\":50332680,\"fName\":\"gauss_DERIV_sigma_Norm[sigma]\",\"fTitle\":\"Projection of Derivative of gauss w.r.t sigma \",\"fLineColor\":800,\"fLineStyle\":1,\"fLineWidth\":3,\"fFillColor\":0,\"fFillStyle\":1000,\"fMarkerColor\":1,\"fMarkerStyle\":1,\"fMarkerSize\":1,\"fNpoints\":143,\"fX\":[-0.02,-0.02,0,0.02,0.04,0.06,0.08,0.1,0.12,0.14,0.16,0.17,0.18,0.185,0.19,0.195,0.2,0.205,0.21,0.215,0.22,0.225,0.23,0.24,0.25,0.255,0.26,0.265,0.27,0.275,0.28,0.285,0.29,0.295,0.3,0.305,0.31,0.315,0.32,0.325,0.33,0.34,0.35,0.36,0.37,0.375,0.38,0.385,0.39,0.395,0.4,0.405,0.41,0.415,0.42,0.425,0.43,0.435,0.44,0.45,0.46,0.47,0.48,0.49,0.5,0.52,0.54,0.56,0.58,0.6,0.62,0.64,0.66,0.68,0.7,0.72,0.74,0.76,0.78,0.8,0.82,0.84,0.86,0.88,0.9,0.92,0.94,0.96,0.98,1,1.02,1.04,1.06,1.08,1.1,1.12,1.14,1.16,1.18,1.2,1.22,1.24,1.26,1.28,1.3,1.32,1.34,1.36,1.38,1.4,1.42,1.44,1.46,1.48,1.5,1.52,1.54,1.56,1.58,1.6,1.62,1.64,1.66,1.68,1.7,1.72,1.74,1.76,1.78,1.8,1.82,1.84,1.86,1.88,1.9,1.92,1.94,1.96,1.98,2,2,2.02,2.02],\"fY\":[0,0,0,0,0,0,0,-1.2139346958756e-10,-6.76485611280314e-7,2.32289257014606e-4,0.0363339777245958,0.192476389902242,0.720955977985206,1.25746602407221,2.06764927125861,3.22555966117452,4.80012315463695,6.84660838200863,9.39870524336473,12.4623783458346,16.0123350263941,19.9915035659323,24.3134623100246,33.5247726725224,42.5945610136564,46.7319180220814,50.4366109231447,53.6030257342863,56.1462293710098,58.0040053500958,59.1374697274402,59.530463519595,59.1879641422254,58.1337740575264,56.4077368757965,54.0627068206463,51.1614633032009,47.7737237893071,43.9733693424257,39.8359610515008,35.4365938144503,26.1396546893601,16.6147824795477,7.30748831874063,-1.43621233154045,-5.51592690891163,-9.36957281595859,-12.9803809801079,-16.3364215368919,-19.4301272356495,-22.2578082914572,-24.8191720571634,-27.1168578583638,-29.1559947061093,-30.9437873374183,-32.4891341350978,-33.8022789202828,-34.8944973609895,-35.7778177369036,-36.9681971470478,-37.4761327200077,-37.4037766511951,-36.8488540933155,-35.9021249486337,-34.64588852316,-31.4881408169588,-27.8511187966478,-24.0760776700138,-20.3926748730741,-16.9440077438875,-13.8095125953908,-11.0239555613795,-8.59222715652847,-6.50035021631496,-4.7233650363374,-3.23078146650528,-1.99021084482281,-0.969679597773649,-0.139014547557079,0.529407610298478,1.06033359159808,1.47557790546008,1.79413275007041,2.03237150727772,2.20429806299831,2.32181111990959,2.39496440838022,2.43221166155784,2.44063052558468,2.42612295441159,2.3935918954392,2.34709520972818,2.28997861015877,2.22498967104831,2.15437504101795,2.07996293691246,2.00323295073246,1.92537485930593,1.84733810054781,1.76987326343998,1.69356684130111,1.61887027576809,1.54612419548898,1.47557860907117,1.40740971807993,1.34173387129255,1.27861914958573,1.21809496497512,1.16015998894091,1.10478869403155,1.05193675087895,1.00154545126463,0.953545331957141,0.907859138036862,0.864404225025387,0.823094507699076,0.783842025154626,0.746558197110348,0.711154804587023,0.677544772240449,0.645642775210756,0.615365683227331,0.586632902211855,0.559366617384172,0.533491946719537,0.508937048942699,0.485633164871915,0.463514623921862,0.442518824594906,0.422586177461448,0.403660039272661,0.385686631740857,0.36861494409118,0.352396632943485,0.336985913669866,0.322339459323034,0.308416282859259,0.295177629449415,0.282586872298915,0.270609402613131,0.270609402613131,0.270609402613131,0],\"fFunctions\":{\"_typename\":\"TList\",\"name\":\"TList\",\"arr\":[],\"opt\":[]},\"fHistogram\":{\"_typename\":\"TH1F\",\"fUniqueID\":0,\"fBits\":50332168,\"fName\":\"gauss_DERIV_sigma_Norm[sigma]\",\"fTitle\":\"Projection of Derivative of gauss w.r.t sigma \",\"fLineColor\":602,\"fLineStyle\":1,\"fLineWidth\":1,\"fFillColor\":0,\"fFillStyle\":1001,\"fMarkerColor\":1,\"fMarkerStyle\":1,\"fMarkerSize\":1,\"fNcells\":145,\"fXaxis\":{\"_typename\":\"TAxis\",\"fUniqueID\":0,\"fBits\":50331648,\"fName\":\"xaxis\",\"fTitle\":\"\",\"fNdivisions\":510,\"fAxisColor\":1,\"fLabelColor\":1,\"fLabelFont\":42,\"fLabelOffset\":0.005,\"fLabelSize\":0.035,\"fTickLength\":0.03,\"fTitleOffset\":1,\"fTitleSize\":0.035,\"fTitleColor\":1,\"fTitleFont\":42,\"fNbins\":143,\"fXmin\":-0.224,\"fXmax\":2.224,\"fXbins\":[],\"fFirst\":0,\"fLast\":0,\"fBits2\":0,\"fTimeDisplay\":false,\"fTimeFormat\":\"\",\"fLabels\":null,\"fModLabs\":null},\"fYaxis\":{\"_typename\":\"TAxis\",\"fUniqueID\":0,\"fBits\":50331648,\"fName\":\"yaxis\",\"fTitle\":\"\",\"fNdivisions\":510,\"fAxisColor\":1,\"fLabelColor\":1,\"fLabelFont\":42,\"fLabelOffset\":0.005,\"fLabelSize\":0.035,\"fTickLength\":0.03,\"fTitleOffset\":0,\"fTitleSize\":0.035,\"fTitleColor\":1,\"fTitleFont\":42,\"fNbins\":1,\"fXmin\":-47.176792343968,\"fXmax\":69.2311231435553,\"fXbins\":[],\"fFirst\":0,\"fLast\":0,\"fBits2\":0,\"fTimeDisplay\":false,\"fTimeFormat\":\"\",\"fLabels\":null,\"fModLabs\":null},\"fZaxis\":{\"_typename\":\"TAxis\",\"fUniqueID\":0,\"fBits\":50331648,\"fName\":\"zaxis\",\"fTitle\":\"\",\"fNdivisions\":510,\"fAxisColor\":1,\"fLabelColor\":1,\"fLabelFont\":42,\"fLabelOffset\":0.005,\"fLabelSize\":0.035,\"fTickLength\":0.03,\"fTitleOffset\":1,\"fTitleSize\":0.035,\"fTitleColor\":1,\"fTitleFont\":42,\"fNbins\":1,\"fXmin\":0,\"fXmax\":1,\"fXbins\":[],\"fFirst\":0,\"fLast\":0,\"fBits2\":0,\"fTimeDisplay\":false,\"fTimeFormat\":\"\",\"fLabels\":null,\"fModLabs\":null},\"fBarOffset\":0,\"fBarWidth\":1000,\"fEntries\":0,\"fTsumw\":0,\"fTsumw2\":0,\"fTsumwx\":0,\"fTsumwx2\":0,\"fMaximum\":69.2311231435553,\"fMinimum\":-47.176792343968,\"fNormFactor\":0,\"fContour\":[],\"fSumw2\":[],\"fOption\":\"\",\"fFunctions\":{\"_typename\":\"TList\",\"name\":\"TList\",\"arr\":[],\"opt\":[]},\"fBufferSize\":0,\"fBuffer\":[],\"fBinStatErrOpt\":0,\"fStatOverflows\":2,\"fArray\":[0,0,0,0,0,0,0,0,0,0,0,0,0,0,0,0,0,0,0,0,0,0,0,0,0,0,0,0,0,0,0,0,0,0,0,0,0,0,0,0,0,0,0,0,0,0,0,0,0,0,0,0,0,0,0,0,0,0,0,0,0,0,0,0,0,0,0,0,0,0,0,0,0,0,0,0,0,0,0,0,0,0,0,0,0,0,0,0,0,0,0,0,0,0,0,0,0,0,0,0,0,0,0,0,0,0,0,0,0,0,0,0,0,0,0,0,0,0,0,0,0,0,0,0,0,0,0,0,0,0,0,0,0,0,0,0,0,0,0,0,0,0,0,0,0]},\"fMinimum\":-1111,\"fMaximum\":-1111,\"_yAxisLabel\":\"Projection of Derivative of gauss w.r.t sigma \",\"_ymin\":-37.4761327200077,\"_ymax\":59.530463519595,\"_normValue\":0},{\"$ref\":45},{\"_typename\":\"TPaveText\",\"fUniqueID\":0,\"fBits\":50331657,\"fLineColor\":1,\"fLineStyle\":1,\"fLineWidth\":1,\"fFillColor\":0,\"fFillStyle\":0,\"fX1\":0.327381341264789,\"fY1\":68.2712367033407,\"fX2\":1.53928531348095,\"fY2\":77.052281585249,\"fX1NDC\":0.27276800690248,\"fY1NDC\":0.929167220071608,\"fX2NDC\":0.72723199309752,\"fY2NDC\":0.995000004768372,\"fBorderSize\":0,\"fInit\":1,\"fShadowColor\":1,\"fCornerRadius\":0,\"fOption\":\"blNDC\",\"fName\":\"title\",\"fTextAngle\":0,\"fTextSize\":0,\"fTextAlign\":22,\"fTextColor\":1,\"fTextFont\":42,\"fLabel\":\"\",\"fLongest\":17,\"fMargin\":0.05,\"fLines\":{\"_typename\":\"TList\",\"name\":\"TList\",\"arr\":[{\"_typename\":\"TLatex\",\"fUniqueID\":0,\"fBits\":50331648,\"fName\":\"\",\"fTitle\":\"d(Gauss)\\/d(sigma)\",\"fTextAngle\":0,\"fTextSize\":0,\"fTextAlign\":0,\"fTextColor\":0,\"fTextFont\":0,\"fX\":0,\"fY\":0,\"fLineColor\":1,\"fLineStyle\":1,\"fLineWidth\":2,\"fLimitFactorSize\":3,\"fOriginSize\":0.0559578686952591}],\"opt\":[\"\"]}}],\"opt\":[\"\",\"FUNC\",\"l\",\"l\",\"l\",\"l\",\"AXISSAME\",\"blNDC\"]},\"fExecs\":{\"_typename\":\"TList\",\"name\":\"TList\",\"arr\":[],\"opt\":[]},\"fName\":\"rf111_derivatives_2\",\"fTitle\":\"rf111_derivatives_2\",\"fNumPaletteColor\":0,\"fNextPaletteColor\":0}],\"opt\":[\"\",\"\"]},\"fExecs\":null,\"fName\":\"rf111_derivatives\",\"fTitle\":\"rf111_derivatives\",\"fNumPaletteColor\":0,\"fNextPaletteColor\":0,\"fDISPLAY\":\"$DISPLAY\",\"fDoubleBuffer\":0,\"fRetained\":true,\"fXsizeUser\":0,\"fYsizeUser\":0,\"fXsizeReal\":20,\"fYsizeReal\":10,\"fWindowTopX\":0,\"fWindowTopY\":0,\"fWindowWidth\":0,\"fWindowHeight\":0,\"fCw\":796,\"fCh\":372,\"fCatt\":{\"_typename\":\"TAttCanvas\",\"fXBetween\":2,\"fYBetween\":2,\"fTitleFromTop\":1.2,\"fXdate\":0.2,\"fYdate\":0.3,\"fAdate\":1},\"kMoveOpaque\":true,\"kResizeOpaque\":true,\"fHighLightColor\":2,\"fBatch\":true,\"kShowEventStatus\":false,\"kAutoExec\":true,\"kMenuBar\":true});\n",
       "       Core.draw(\"root_plot_1\", obj, \"\");\n",
       "     }\n",
       " );\n",
       "</script>\n"
      ],
      "text/plain": [
       "<IPython.core.display.HTML object>"
      ]
     },
     "metadata": {},
     "output_type": "display_data"
    }
   ],
   "source": [
    "%jsroot on\n",
    "gROOT->GetListOfCanvases()->Draw()"
   ]
  }
 ],
 "metadata": {
  "kernelspec": {
   "display_name": "ROOT C++",
   "language": "c++",
   "name": "root"
  },
  "language_info": {
   "codemirror_mode": "text/x-c++src",
   "file_extension": ".C",
   "mimetype": " text/x-c++src",
   "name": "c++"
  }
 },
 "nbformat": 4,
 "nbformat_minor": 2
}
