{
 "cells": [
  {
   "cell_type": "markdown",
   "metadata": {},
   "source": [
    "# Ntpl 0 0 4_Dimuon\n",
    "Convert CMS open data from a TTree to RNTuple.\n",
    "This tutorial illustrates data conversion and data processing with RNTuple and RDataFrame.  In contrast to the\n",
    "LHCb open data tutorial, the data model in this tutorial is not tabular but entries have variable lengths vectors\n",
    "Based on RDataFrame's df102_NanoAODDimuonAnalysis.C\n",
    "\n",
    "\n",
    "\n",
    "\n",
    "**Author:** The ROOT Team  \n",
    "<i><small>This notebook tutorial was automatically generated with <a href= \"https://github.com/root-project/root/blob/master/documentation/doxygen/converttonotebook.py\">ROOTBOOK-izer</a> from the macro found in the ROOT repository  on Thursday, August 29, 2019 at 04:05 AM.</small></i>"
   ]
  },
  {
   "cell_type": "markdown",
   "metadata": {},
   "source": [
    "Note: the rntuple classes are experimental at this point.\n",
    " Functionality, interface, and data format is still subject to changes.\n",
    " Do not use for real data!"
   ]
  },
  {
   "cell_type": "code",
   "execution_count": 1,
   "metadata": {
    "collapsed": false
   },
   "outputs": [
    {
     "name": "stderr",
     "output_type": "stream",
     "text": [
      "input_line_26:2:10: fatal error: 'ROOT/RNTuple.hxx' file not found\n",
      "#include <ROOT/RNTuple.hxx>\n",
      "         ^~~~~~~~~~~~~~~~~~\n"
     ]
    }
   ],
   "source": [
    "%%cpp -d\n",
    "#include <ROOT/RDataFrame.hxx>\n",
    "#include <ROOT/RNTuple.hxx>\n",
    "#include <ROOT/RNTupleDS.hxx>\n",
    "#include <ROOT/RVec.hxx>\n",
    "\n",
    "#include <TCanvas.h>\n",
    "#include <TH1D.h>\n",
    "#include <TLatex.h>\n",
    "#include <TStyle.h>\n",
    "#include <TSystem.h>\n",
    "\n",
    "#include <cassert>\n",
    "#include <cmath>\n",
    "#include <iostream>\n",
    "#include <memory>\n",
    "#include <string>\n",
    "#include <vector>\n",
    "#include <utility>"
   ]
  },
  {
   "cell_type": "markdown",
   "metadata": {},
   "source": [
    "Import classes from experimental namespace for the time being"
   ]
  },
  {
   "cell_type": "code",
   "execution_count": 2,
   "metadata": {
    "collapsed": false
   },
   "outputs": [
    {
     "name": "stderr",
     "output_type": "stream",
     "text": [
      "input_line_27:1:43: error: no type named 'RNTupleReader' in namespace 'ROOT::Experimental'\n",
      "using RNTupleReader = ROOT::Experimental::RNTupleReader;void __cling_Un1Qu32(void* vpClingValue) {\n",
      "                      ~~~~~~~~~~~~~~~~~~~~^\n",
      "input_line_27:3:43: error: no type named 'RNTupleWriter' in namespace 'ROOT::Experimental'\n",
      "using RNTupleWriter = ROOT::Experimental::RNTupleWriter;\n",
      "                      ~~~~~~~~~~~~~~~~~~~~^\n",
      "input_line_27:4:39: error: no type named 'RNTupleDS' in namespace 'ROOT::Experimental'\n",
      "using RNTupleDS = ROOT::Experimental::RNTupleDS;\n",
      "                  ~~~~~~~~~~~~~~~~~~~~^\n"
     ]
    }
   ],
   "source": [
    "using RNTupleReader = ROOT::Experimental::RNTupleReader;\n",
    "using RNTupleWriter = ROOT::Experimental::RNTupleWriter;\n",
    "using RNTupleDS = ROOT::Experimental::RNTupleDS;\n",
    "\n",
    "constexpr char const* kTreeFileName = \"http://root.cern.ch/files/NanoAOD_DoubleMuon_CMS2011OpenData.root\";\n",
    "constexpr char const* kNTupleFileName = \"ntpl004_dimuon.root\";\n",
    "\n",
    "\n",
    "using ColNames_t = std::vector<std::string>;"
   ]
  },
  {
   "cell_type": "markdown",
   "metadata": {},
   "source": [
    "This is a custom action for rdataframe. it does not support parallelism!\n",
    " This action writes data from an RDataFrame entry into an ntuple. It is templated on the\n",
    " types of the columns to be written and can be used as a generic file format converter."
   ]
  },
  {
   "cell_type": "code",
   "execution_count": 3,
   "metadata": {
    "collapsed": false
   },
   "outputs": [
    {
     "name": "stderr",
     "output_type": "stream",
     "text": [
      "input_line_32:4:21: error: unknown type name 'RNTupleWriter'\n",
      "   using Result_t = RNTupleWriter;\n",
      "                    ^\n",
      "input_line_32:10:4: error: unknown type name 'ColNames_t'\n",
      "   ColNames_t fColNames;\n",
      "   ^\n",
      "input_line_32:13:20: error: use of undeclared identifier 'RNTupleWriter'\n",
      "   std::shared_ptr<RNTupleWriter> fNTuple;\n",
      "                   ^\n",
      "input_line_32:33:80: error: unknown type name 'ColNames_t'\n",
      "   RNTupleHelper(std::string_view ntupleName, std::string_view rootFile, const ColNames_t& colNames)\n",
      "                                                                               ^\n",
      "input_line_32:41:20: error: use of undeclared identifier 'RNTupleWriter'\n",
      "   std::shared_ptr<RNTupleWriter> GetResultPtr() const { return fNTuple; }\n",
      "                   ^\n",
      "input_line_32:18:45: error: no member named 'RNTupleModel' in namespace 'ROOT::Experimental'\n",
      "      auto eventModel = ROOT::Experimental::RNTupleModel::Create();\n",
      "                        ~~~~~~~~~~~~~~~~~~~~^\n",
      "input_line_32:21:62: error: 'ColumnTypes_t' does not refer to a value\n",
      "         (std::get<S>(fColumnValues) = eventModel->MakeField<ColumnTypes_t>(fColNames[S]), 0)...};\n",
      "                                                             ^\n",
      "input_line_32:1:23: note: declared here\n",
      "template <typename... ColumnTypes_t>\n",
      "                      ^\n",
      "input_line_32:22:27: error: use of undeclared identifier 'RNTupleWriter'\n",
      "      fNTuple = std::move(RNTupleWriter::Recreate(std::move(eventModel), fNTupleName, fRootFile));\n",
      "                          ^\n"
     ]
    }
   ],
   "source": [
    "template <typename... ColumnTypes_t>\n",
    "class RNTupleHelper : public ROOT::Detail::RDF::RActionImpl<RNTupleHelper<ColumnTypes_t...>> {\n",
    "public:\n",
    "   using Result_t = RNTupleWriter;\n",
    "private:\n",
    "   using ColumnValues_t = std::tuple<std::shared_ptr<ColumnTypes_t>...>;\n",
    "\n",
    "   std::string fNTupleName;\n",
    "   std::string fRootFile;\n",
    "   ColNames_t fColNames;\n",
    "   ColumnValues_t fColumnValues;\n",
    "   static constexpr const auto fNColumns = std::tuple_size<ColumnValues_t>::value;\n",
    "   std::shared_ptr<RNTupleWriter> fNTuple;\n",
    "   int fCounter;\n",
    "\n",
    "   template<std::size_t... S>\n",
    "   void InitializeImpl(std::index_sequence<S...>) {\n",
    "      auto eventModel = ROOT::Experimental::RNTupleModel::Create();\n",
    "      // Create the fields and the shared pointers to the connected values\n",
    "      std::initializer_list<int> expander{\n",
    "         (std::get<S>(fColumnValues) = eventModel->MakeField<ColumnTypes_t>(fColNames[S]), 0)...};\n",
    "      fNTuple = std::move(RNTupleWriter::Recreate(std::move(eventModel), fNTupleName, fRootFile));\n",
    "   }\n",
    "\n",
    "   template<std::size_t... S>\n",
    "   void ExecImpl(std::index_sequence<S...>, ColumnTypes_t... values) {\n",
    "      // For every entry, set the destination of the ntuple's default entry's shared pointers to the given values,\n",
    "      // which are provided by RDataFrame\n",
    "      std::initializer_list<int> expander{(*std::get<S>(fColumnValues) = values, 0)...};\n",
    "   }\n",
    "\n",
    "public:\n",
    "   RNTupleHelper(std::string_view ntupleName, std::string_view rootFile, const ColNames_t& colNames)\n",
    "      : fNTupleName(ntupleName), fRootFile(rootFile), fColNames(colNames)\n",
    "   {\n",
    "      InitializeImpl(std::make_index_sequence<fNColumns>());\n",
    "   }\n",
    "\n",
    "   RNTupleHelper(RNTupleHelper&&) = default;\n",
    "   RNTupleHelper(const RNTupleHelper&) = delete;\n",
    "   std::shared_ptr<RNTupleWriter> GetResultPtr() const { return fNTuple; }\n",
    "\n",
    "   void Initialize()\n",
    "   {\n",
    "      fCounter = 0;\n",
    "   }\n",
    "\n",
    "   void InitTask(TTreeReader *, unsigned int) {}\n",
    "\n",
    "   /// This is a method executed at every entry\n",
    "   void Exec(unsigned int slot, ColumnTypes_t... values)\n",
    "   {\n",
    "      // Populate the ntuple's fields data locations with the provided values, then write to disk\n",
    "      ExecImpl(std::make_index_sequence<fNColumns>(), values...);\n",
    "      fNTuple->Fill();\n",
    "      if (++fCounter % 100000 == 0)\n",
    "         std::cout << \"Wrote \" << fCounter << \" entries\" << std::endl;\n",
    "   }\n",
    "\n",
    "   void Finalize()\n",
    "   {\n",
    "      fNTuple->CommitCluster();\n",
    "   }\n",
    "\n",
    "   std::string GetActionName() { return \"RNTuple Writer\"; }\n",
    "};"
   ]
  },
  {
   "cell_type": "markdown",
   "metadata": {},
   "source": [
    "/ a wrapper for root's invariantmass function that takes std::vector instead of rvecs"
   ]
  },
  {
   "cell_type": "code",
   "execution_count": 4,
   "metadata": {
    "collapsed": false
   },
   "outputs": [],
   "source": [
    "template <typename T>\n",
    "T InvariantMassStdVector(std::vector<T>& pt, std::vector<T>& eta, std::vector<T>& phi, std::vector<T>& mass)\n",
    "{\n",
    "   assert(pt.size() == eta.size() == phi.size() == mass.size() == 2);\n",
    "\n",
    "   // We adopt the memory here, no copy\n",
    "   ROOT::RVec<float> rvPt(pt);\n",
    "   ROOT::RVec<float> rvEta(eta);\n",
    "   ROOT::RVec<float> rvPhi(phi);\n",
    "   ROOT::RVec<float> rvMass(mass);\n",
    "\n",
    "   return InvariantMass(rvPt, rvEta, rvPhi, rvMass);\n",
    "}"
   ]
  },
  {
   "cell_type": "markdown",
   "metadata": {},
   "source": [
    "  We use an RDataFrame custom snapshotter to convert between TTree and RNTuple.\n",
    " The snapshotter is templated; we construct the conversion C++ code as a string and hand it over to Cling\n",
    " "
   ]
  },
  {
   "cell_type": "code",
   "execution_count": 5,
   "metadata": {
    "collapsed": false
   },
   "outputs": [
    {
     "name": "stderr",
     "output_type": "stream",
     "text": [
      "input_line_34:3:34: error: use of undeclared identifier 'kTreeFileName'\n",
      "   ROOT::RDataFrame df(\"Events\", kTreeFileName);\n",
      "                                 ^\n",
      "input_line_34:21:88: error: use of undeclared identifier 'kTreeFileName'\n",
      "   code += \"auto df = std::make_unique<ROOT::RDataFrame>(\\\"Events\\\", \\\"\" + std::string(kTreeFileName)\n",
      "                                                                                       ^\n",
      "input_line_34:24:80: error: use of undeclared identifier 'kNTupleFileName'\n",
      "   code += \"RNTupleHelper\" + typeList + \" helper{\\\"Events\\\", \\\"\" + std::string(kNTupleFileName) + \"\\\", colNames};\";\n",
      "                                                                               ^\n"
     ]
    }
   ],
   "source": [
    "%%cpp -d\n",
    "void Convert() {\n",
    "   // Use df to list the branch types and names of the input tree\n",
    "   ROOT::RDataFrame df(\"Events\", kTreeFileName);\n",
    "\n",
    "   // Construct the types for the template instantiation and the column names from the dataframe\n",
    "   std::string typeList = \"<\";\n",
    "   std::string columnList = \"{\";\n",
    "   auto columnNames = df.GetColumnNames();\n",
    "   for (auto name : columnNames) {\n",
    "      auto typeName = df.GetColumnType(name);\n",
    "      // Skip ULong64_t for the time being, RNTuple support will be added at a later point\n",
    "      if (typeName == \"ULong64_t\") continue;\n",
    "      columnList += \"\\\"\" + name + \"\\\",\";\n",
    "      typeList += typeName + \",\";\n",
    "   }\n",
    "   *columnList.rbegin() = '}';\n",
    "   *typeList.rbegin() = '>';\n",
    "\n",
    "   std::string code = \"{\";\n",
    "   // Convert the first 4 million events\n",
    "   code += \"auto df = std::make_unique<ROOT::RDataFrame>(\\\"Events\\\", \\\"\" + std::string(kTreeFileName)\n",
    "         + \"\\\")->Range(0, 4000000);\";\n",
    "   code += \"ColNames_t colNames = \" + columnList + \";\";\n",
    "   code += \"RNTupleHelper\" + typeList + \" helper{\\\"Events\\\", \\\"\" + std::string(kNTupleFileName) + \"\\\", colNames};\";\n",
    "   code += \"*df.Book\" + typeList + \"(std::move(helper), colNames);\";\n",
    "   code += \"}\";\n",
    "\n",
    "   gInterpreter->ProcessLine(code.c_str());\n",
    "}"
   ]
  },
  {
   "cell_type": "markdown",
   "metadata": {},
   "source": [
    "Support for multi-threading comes at a later point, for the time being do not enable\n",
    " ROOT::EnableImplicitMT();"
   ]
  },
  {
   "cell_type": "code",
   "execution_count": 6,
   "metadata": {
    "collapsed": false
   },
   "outputs": [
    {
     "name": "stderr",
     "output_type": "stream",
     "text": [
      "input_line_35:5:31: error: no member named 'MakeNTupleDataFrame' in namespace 'ROOT::Experimental'\n",
      "auto df = ROOT::Experimental::MakeNTupleDataFrame(\"Events\", kNTupleFileName);\n",
      "          ~~~~~~~~~~~~~~~~~~~~^\n",
      "input_line_35:5:61: error: use of undeclared identifier 'kNTupleFileName'\n",
      "auto df = ROOT::Experimental::MakeNTupleDataFrame(\"Events\", kNTupleFileName);\n",
      "                                                            ^\n"
     ]
    }
   ],
   "source": [
    "if (gSystem->AccessPathName(kNTupleFileName))\n",
    "   Convert();\n",
    "\n",
    "auto df = ROOT::Experimental::MakeNTupleDataFrame(\"Events\", kNTupleFileName);"
   ]
  },
  {
   "cell_type": "markdown",
   "metadata": {},
   "source": [
    "As of this point, the tutorial is identical to df102_nanoaoddimuonanalysis except the use of\n",
    " InvariantMassStdVector instead of InvariantMass"
   ]
  },
  {
   "cell_type": "markdown",
   "metadata": {},
   "source": [
    "For simplicity, select only events with exactly two muons and require opposite charge"
   ]
  },
  {
   "cell_type": "code",
   "execution_count": 7,
   "metadata": {
    "collapsed": false
   },
   "outputs": [
    {
     "name": "stderr",
     "output_type": "stream",
     "text": [
      "input_line_36:2:2: error: Syntax error\n",
      " auto df_2mu = df.Filter(\"nMuon == 2\", \"Events with exactly two muons\");\n",
      " ^\n",
      "FunctionDecl 0x560ea667dbe8 <input_line_36:1:1, line:5:1> line:1:6 __cling_Un1Qu34 'void (void *)'\n",
      "|-ParmVarDecl 0x560ea667db40 <col:22, col:28> col:28 vpClingValue 'void *'\n",
      "|-CompoundStmt 0x560ea667e150 <col:42, line:5:1>\n",
      "| |-DeclStmt 0x560ea667df38 <line:2:2, col:72>\n",
      "| | `-VarDecl 0x560ea667dcb8 <col:2, col:71> col:7 used df_2mu 'auto' cinit\n",
      "| |   `-CallExpr 0x560ea667df00 <col:16, col:71> '<dependent type>'\n",
      "| |     |-CXXDependentScopeMemberExpr 0x560ea667de28 <col:16, col:19> '<dependent type>' lvalue .Filter\n",
      "| |     | `-DeclRefExpr 0x560ea667dde0 <col:16> '<dependent type>' lvalue Var 0x560ea667dd18 'df' '<dependent type>'\n",
      "| |     |-StringLiteral 0x560ea667de80 <col:26> 'const char [11]' lvalue \"nMuon == 2\"\n",
      "| |     `-StringLiteral 0x560ea667deb8 <col:40> 'const char [30]' lvalue \"Events with exactly two muons\"\n",
      "| |-DeclStmt 0x560ea667e128 <line:3:1, col:93>\n",
      "| | `-VarDecl 0x560ea667df60 <col:1, col:92> col:6 df_os 'auto' cinit\n",
      "| |   `-CallExpr 0x560ea667e0f0 <col:14, col:92> '<dependent type>'\n",
      "| |     |-CXXDependentScopeMemberExpr 0x560ea667e008 <col:14, col:21> '<dependent type>' lvalue .Filter\n",
      "| |     | `-DeclRefExpr 0x560ea667dfc0 <col:14> 'auto' lvalue Var 0x560ea667dcb8 'df_2mu' 'auto'\n",
      "| |     |-StringLiteral 0x560ea667e060 <col:28> 'const char [33]' lvalue \"Muon_charge[0] != Muon_charge[1]\"\n",
      "| |     `-StringLiteral 0x560ea667e0a8 <col:64> 'const char [27]' lvalue \"Muons with opposite charge\"\n",
      "| `-NullStmt 0x560ea667e140 <line:4:1>\n",
      "`-AnnotateAttr 0x560ea667dd78 <<invalid sloc>> R\"ATTRDUMP(__ResolveAtRuntime)ATTRDUMP\"\n",
      "<<<NULL>>>\n"
     ]
    }
   ],
   "source": [
    "auto df_2mu = df.Filter(\"nMuon == 2\", \"Events with exactly two muons\");\n",
    "auto df_os = df_2mu.Filter(\"Muon_charge[0] != Muon_charge[1]\", \"Muons with opposite charge\");"
   ]
  },
  {
   "cell_type": "markdown",
   "metadata": {},
   "source": [
    "Compute invariant mass of the dimuon system"
   ]
  },
  {
   "cell_type": "code",
   "execution_count": 8,
   "metadata": {
    "collapsed": false
   },
   "outputs": [
    {
     "name": "stderr",
     "output_type": "stream",
     "text": [
      "input_line_37:2:2: error: Syntax error\n",
      " auto df_mass = df_os.Define(\"Dimuon_mass\", InvariantMassStdVector<float>, {\"Muon_pt\", \"Muon_eta\", \"Muon_phi\", \"Muon_mass\"});\n",
      " ^\n",
      "FunctionDecl 0x7f3fc0151580 <input_line_37:1:1, line:5:1> line:1:6 __cling_Un1Qu35 'void (void *)'\n",
      "|-ParmVarDecl 0x7f3fc01514d8 <col:22, col:28> col:28 vpClingValue 'void *'\n",
      "|-CompoundStmt 0x7f3fc0151ce8 <col:42, line:5:1>\n",
      "| |-DeclStmt 0x7f3fc0151a68 <line:2:2, col:125>\n",
      "| | `-VarDecl 0x7f3fc0151650 <col:2, col:124> col:7 df_mass 'auto' cinit\n",
      "| |   `-CallExpr 0x7f3fc0151a28 <col:17, col:124> '<dependent type>'\n",
      "| |     |-CXXDependentScopeMemberExpr 0x7f3fc01517c0 <col:17, col:23> '<dependent type>' lvalue .Define\n",
      "| |     | `-DeclRefExpr 0x7f3fc0151778 <col:17> '<dependent type>' lvalue Var 0x7f3fc01516b0 'df_os' '<dependent type>'\n",
      "| |     |-StringLiteral 0x7f3fc0151818 <col:30> 'const char [12]' lvalue \"Dimuon_mass\"\n",
      "| |     |-UnresolvedLookupExpr 0x7f3fc0151868 <col:45, col:73> '<overloaded function type>' lvalue (no ADL) = 'InvariantMassStdVector' 0x7f3fc007ba98\n",
      "| |     `-InitListExpr 0x7f3fc01519c8 <col:76, col:123> 'void'\n",
      "| |       |-StringLiteral 0x7f3fc0151900 <col:77> 'const char [8]' lvalue \"Muon_pt\"\n",
      "| |       |-StringLiteral 0x7f3fc0151930 <col:88> 'const char [9]' lvalue \"Muon_eta\"\n",
      "| |       |-StringLiteral 0x7f3fc0151960 <col:100> 'const char [9]' lvalue \"Muon_phi\"\n",
      "| |       `-StringLiteral 0x7f3fc0151990 <col:112> 'const char [10]' lvalue \"Muon_mass\"\n",
      "| |-DeclStmt 0x7f3fc0151cc0 <line:3:1, col:60>\n",
      "| | `-VarDecl 0x7f3fc0151a90 <col:1, col:59> col:6 df_size 'auto' cinit\n",
      "| |   `-CallExpr 0x7f3fc0151c88 <col:16, col:59> '<dependent type>'\n",
      "| |     |-CXXDependentScopeMemberExpr 0x7f3fc0151bc8 <col:16, col:22> '<dependent type>' lvalue .Define\n",
      "| |     | `-DeclRefExpr 0x7f3fc0151b80 <col:16> '<dependent type>' lvalue Var 0x7f3fc0151af0 'df_os' '<dependent type>'\n",
      "| |     |-StringLiteral 0x7f3fc0151c20 <col:29> 'const char [9]' lvalue \"eta_size\"\n",
      "| |     `-StringLiteral 0x7f3fc0151c50 <col:41> 'const char [17]' lvalue \"Muon_mass.size()\"\n",
      "| `-NullStmt 0x7f3fc0151cd8 <line:4:1>\n",
      "|-AnnotateAttr 0x7f3fc0151710 <<invalid sloc>> R\"ATTRDUMP(__ResolveAtRuntime)ATTRDUMP\"\n",
      "`-AnnotateAttr 0x7f3fc0151b50 <<invalid sloc>> R\"ATTRDUMP(__ResolveAtRuntime)ATTRDUMP\"\n",
      "<<<NULL>>>\n"
     ]
    }
   ],
   "source": [
    "auto df_mass = df_os.Define(\"Dimuon_mass\", InvariantMassStdVector<float>, {\"Muon_pt\", \"Muon_eta\", \"Muon_phi\", \"Muon_mass\"});\n",
    "auto df_size = df_os.Define(\"eta_size\", \"Muon_mass.size()\");"
   ]
  },
  {
   "cell_type": "markdown",
   "metadata": {},
   "source": [
    "Make histogram of dimuon mass spectrum"
   ]
  },
  {
   "cell_type": "code",
   "execution_count": 9,
   "metadata": {
    "collapsed": false
   },
   "outputs": [
    {
     "name": "stderr",
     "output_type": "stream",
     "text": [
      "input_line_38:2:2: error: Syntax error\n",
      " auto h = df_mass.Histo1D({\"Dimuon_mass\", \"Dimuon_mass\", 30000, 0.25, 300}, \"Dimuon_mass\");\n",
      " ^\n",
      "FunctionDecl 0x7f3fc0151e30 <input_line_38:1:1, line:4:1> line:1:6 __cling_Un1Qu36 'void (void *)'\n",
      "|-ParmVarDecl 0x7f3fc0151d88 <col:22, col:28> col:28 vpClingValue 'void *'\n",
      "|-CompoundStmt 0x7f3fc0152298 <col:42, line:4:1>\n",
      "| |-DeclStmt 0x7f3fc0152270 <line:2:2, col:91>\n",
      "| | `-VarDecl 0x7f3fc0151f00 <col:2, col:90> col:7 h 'auto' cinit\n",
      "| |   `-CallExpr 0x7f3fc0152238 <col:11, col:90> '<dependent type>'\n",
      "| |     |-CXXDependentScopeMemberExpr 0x7f3fc0152070 <col:11, col:19> '<dependent type>' lvalue .Histo1D\n",
      "| |     | `-DeclRefExpr 0x7f3fc0152028 <col:11> '<dependent type>' lvalue Var 0x7f3fc0151f60 'df_mass' '<dependent type>'\n",
      "| |     |-InitListExpr 0x7f3fc0152198 <col:27, col:74> 'void'\n",
      "| |     | |-StringLiteral 0x7f3fc01520c8 <col:28> 'const char [12]' lvalue \"Dimuon_mass\"\n",
      "| |     | |-StringLiteral 0x7f3fc0152100 <col:43> 'const char [12]' lvalue \"Dimuon_mass\"\n",
      "| |     | |-IntegerLiteral 0x7f3fc0152138 <col:58> 'int' 30000\n",
      "| |     | |-FloatingLiteral 0x7f3fc0152158 <col:65> 'double' 2.500000e-01\n",
      "| |     | `-IntegerLiteral 0x7f3fc0152178 <col:71> 'int' 300\n",
      "| |     `-StringLiteral 0x7f3fc0152200 <col:77> 'const char [12]' lvalue \"Dimuon_mass\"\n",
      "| `-NullStmt 0x7f3fc0152288 <line:3:1>\n",
      "`-AnnotateAttr 0x7f3fc0151fc0 <<invalid sloc>> R\"ATTRDUMP(__ResolveAtRuntime)ATTRDUMP\"\n",
      "<<<NULL>>>\n"
     ]
    }
   ],
   "source": [
    "auto h = df_mass.Histo1D({\"Dimuon_mass\", \"Dimuon_mass\", 30000, 0.25, 300}, \"Dimuon_mass\");"
   ]
  },
  {
   "cell_type": "markdown",
   "metadata": {},
   "source": [
    "Request cut-flow report"
   ]
  },
  {
   "cell_type": "code",
   "execution_count": 10,
   "metadata": {
    "collapsed": false
   },
   "outputs": [
    {
     "name": "stderr",
     "output_type": "stream",
     "text": [
      "input_line_39:2:2: error: Syntax error\n",
      " auto report = df_mass.Report();\n",
      " ^\n",
      "FunctionDecl 0x7f3fc01523b0 <input_line_39:1:1, line:4:1> line:1:6 __cling_Un1Qu37 'void (void *)'\n",
      "|-ParmVarDecl 0x7f3fc0152308 <col:22, col:28> col:28 vpClingValue 'void *'\n",
      "|-CompoundStmt 0x7f3fc0152698 <col:42, line:4:1>\n",
      "| |-DeclStmt 0x7f3fc0152670 <line:2:2, col:32>\n",
      "| | `-VarDecl 0x7f3fc0152480 <col:2, col:31> col:7 report 'auto' cinit\n",
      "| |   `-CallExpr 0x7f3fc0152648 <col:16, col:31> '<dependent type>'\n",
      "| |     `-CXXDependentScopeMemberExpr 0x7f3fc01525f0 <col:16, col:24> '<dependent type>' lvalue .Report\n",
      "| |       `-DeclRefExpr 0x7f3fc01525a8 <col:16> '<dependent type>' lvalue Var 0x7f3fc01524e0 'df_mass' '<dependent type>'\n",
      "| `-NullStmt 0x7f3fc0152688 <line:3:1>\n",
      "`-AnnotateAttr 0x7f3fc0152540 <<invalid sloc>> R\"ATTRDUMP(__ResolveAtRuntime)ATTRDUMP\"\n",
      "<<<NULL>>>\n"
     ]
    }
   ],
   "source": [
    "auto report = df_mass.Report();"
   ]
  },
  {
   "cell_type": "markdown",
   "metadata": {},
   "source": [
    "Produce plot"
   ]
  },
  {
   "cell_type": "code",
   "execution_count": 11,
   "metadata": {
    "collapsed": false
   },
   "outputs": [
    {
     "name": "stderr",
     "output_type": "stream",
     "text": [
      "IncrementalExecutor::executeFunction: symbol '_ZN5cling7runtime8internal9EvaluateTIvEET_PNS1_15DynamicExprInfoEPN5clang11DeclContextE' unresolved while linking function '_GLOBAL__sub_I_cling_module_65'!\n",
      "You are probably missing the definition of void cling::runtime::internal::EvaluateT<void>(cling::runtime::internal::DynamicExprInfo*, clang::DeclContext*)\n",
      "Maybe you need to load the corresponding shared library?\n",
      "Info in <TCanvas::MakeDefCanvas>:  created default TCanvas with name c1\n"
     ]
    }
   ],
   "source": [
    "gStyle->SetOptStat(0); gStyle->SetTextFont(42);\n",
    "auto c = new TCanvas(\"c\", \"\", 800, 700);\n",
    "c->SetLogx(); c->SetLogy();\n",
    "\n",
    "h->SetTitle(\"\");\n",
    "h->GetXaxis()->SetTitle(\"m_{#mu#mu} (GeV)\"); h->GetXaxis()->SetTitleSize(0.04);\n",
    "h->GetYaxis()->SetTitle(\"N_{Events}\"); h->GetYaxis()->SetTitleSize(0.04);\n",
    "h->DrawCopy();\n",
    "\n",
    "TLatex label; label.SetNDC(true);\n",
    "label.DrawLatex(0.175, 0.740, \"#eta\");\n",
    "label.DrawLatex(0.205, 0.775, \"#rho,#omega\");\n",
    "label.DrawLatex(0.270, 0.740, \"#phi\");\n",
    "label.DrawLatex(0.400, 0.800, \"J/#psi\");\n",
    "label.DrawLatex(0.415, 0.670, \"#psi'\");\n",
    "label.DrawLatex(0.485, 0.700, \"Y(1,2,3S)\");\n",
    "label.DrawLatex(0.755, 0.680, \"Z\");\n",
    "label.SetTextSize(0.040); label.DrawLatex(0.100, 0.920, \"#bf{CMS Open Data}\");\n",
    "label.SetTextSize(0.030); label.DrawLatex(0.630, 0.920, \"#sqrt{s} = 8 TeV, L_{int} = 11.6 fb^{-1}\");"
   ]
  },
  {
   "cell_type": "markdown",
   "metadata": {},
   "source": [
    "Print cut-flow report"
   ]
  },
  {
   "cell_type": "code",
   "execution_count": 12,
   "metadata": {
    "collapsed": false
   },
   "outputs": [
    {
     "name": "stderr",
     "output_type": "stream",
     "text": [
      "IncrementalExecutor::executeFunction: symbol '_ZN5cling7runtime8internal9EvaluateTIvEET_PNS1_15DynamicExprInfoEPN5clang11DeclContextE' unresolved while linking [cling interface function]!\n",
      "You are probably missing the definition of void cling::runtime::internal::EvaluateT<void>(cling::runtime::internal::DynamicExprInfo*, clang::DeclContext*)\n",
      "Maybe you need to load the corresponding shared library?\n"
     ]
    }
   ],
   "source": [
    "report->Print();"
   ]
  },
  {
   "cell_type": "markdown",
   "metadata": {},
   "source": [
    "Draw all canvases "
   ]
  },
  {
   "cell_type": "code",
   "execution_count": 13,
   "metadata": {
    "collapsed": false
   },
   "outputs": [
    {
     "data": {
      "image/png": "[encoded data removed]",
      "text/plain": [
       "<IPython.core.display.Image object>"
      ]
     },
     "metadata": {},
     "output_type": "display_data"
    }
   ],
   "source": [
    "gROOT->GetListOfCanvases()->Draw()"
   ]
  }
 ],
 "metadata": {
  "kernelspec": {
   "display_name": "ROOT C++",
   "language": "c++",
   "name": "root"
  },
  "language_info": {
   "codemirror_mode": "text/x-c++src",
   "file_extension": ".C",
   "mimetype": " text/x-c++src",
   "name": "c++"
  }
 },
 "nbformat": 4,
 "nbformat_minor": 2
}
