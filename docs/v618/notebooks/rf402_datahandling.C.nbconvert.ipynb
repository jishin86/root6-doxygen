{
 "cells": [
  {
   "cell_type": "markdown",
   "metadata": {},
   "source": [
    "# Rf 4 0 2_Datahandling\n",
    "Data and categories: tools for manipulation of (un)binned datasets\n",
    "\n",
    "\n",
    "\n",
    "**Author:** 07/2008 - Wouter Verkerke  \n",
    "<i><small>This notebook tutorial was automatically generated with <a href= \"https://github.com/root-project/root/blob/master/documentation/doxygen/converttonotebook.py\">ROOTBOOK-izer</a> from the macro found in the ROOT repository  on Thursday, August 29, 2019 at 02:52 AM.</small></i>"
   ]
  },
  {
   "cell_type": "code",
   "execution_count": 1,
   "metadata": {
    "collapsed": false
   },
   "outputs": [],
   "source": [
    "%%cpp -d\n",
    "#include \"RooRealVar.h\"\n",
    "#include \"RooDataSet.h\"\n",
    "#include \"RooDataHist.h\"\n",
    "#include \"RooGaussian.h\"\n",
    "#include \"RooConstVar.h\"\n",
    "#include \"RooCategory.h\"\n",
    "#include \"TCanvas.h\"\n",
    "#include \"TAxis.h\"\n",
    "#include \"RooPlot.h\"\n",
    "#include \"TFile.h\""
   ]
  },
  {
   "cell_type": "code",
   "execution_count": 2,
   "metadata": {
    "collapsed": false
   },
   "outputs": [],
   "source": [
    "%%cpp -d\n",
    "// This is a workaround to make sure the namespace is used inside functions\n",
    "using namespace RooFit;"
   ]
  },
  {
   "cell_type": "markdown",
   "metadata": {},
   "source": [
    "Wve add reduction by range"
   ]
  },
  {
   "cell_type": "markdown",
   "metadata": {},
   "source": [
    "Binned (roodatahist) and unbinned datasets (roodataset) share\n",
    " many properties and inherit from a common abstract base class\n",
    " (RooAbsData), that provides an interface for all operations\n",
    " that can be performed regardless of the data format"
   ]
  },
  {
   "cell_type": "code",
   "execution_count": 3,
   "metadata": {
    "collapsed": false
   },
   "outputs": [
    {
     "name": "stdout",
     "output_type": "stream",
     "text": [
      "\n",
      "\u001b[1mRooFit v3.60 -- Developed by Wouter Verkerke and David Kirkby\u001b[0m \n",
      "                Copyright (C) 2000-2013 NIKHEF, University of California & Stanford University\n",
      "                All rights reserved, please read http://roofit.sourceforge.net/license.txt\n",
      "\n"
     ]
    }
   ],
   "source": [
    "RooRealVar x(\"x\", \"x\", -10, 10);\n",
    "RooRealVar y(\"y\", \"y\", 0, 40);\n",
    "RooCategory c(\"c\", \"c\");\n",
    "c.defineType(\"Plus\", +1);\n",
    "c.defineType(\"Minus\", -1);"
   ]
  },
  {
   "cell_type": "markdown",
   "metadata": {},
   "source": [
    "Basic operations on unbinned datasets\n",
    " --------------------------------------------------------------"
   ]
  },
  {
   "cell_type": "markdown",
   "metadata": {},
   "source": [
    "Roodataset is an unbinned dataset (a collection of points in n-dimensional space)"
   ]
  },
  {
   "cell_type": "code",
   "execution_count": 4,
   "metadata": {
    "collapsed": false
   },
   "outputs": [],
   "source": [
    "RooDataSet d(\"d\", \"d\", RooArgSet(x, y, c));"
   ]
  },
  {
   "cell_type": "markdown",
   "metadata": {},
   "source": [
    "Unlike rooabsargs (rooabspdf,rooformulavar,....) datasets are not attached to\n",
    " the variables they are constructed from. Instead they are attached to an internal\n",
    " clone of the supplied set of arguments"
   ]
  },
  {
   "cell_type": "markdown",
   "metadata": {},
   "source": [
    "Fill d with dummy values"
   ]
  },
  {
   "cell_type": "code",
   "execution_count": 5,
   "metadata": {
    "collapsed": false
   },
   "outputs": [
    {
     "name": "stdout",
     "output_type": "stream",
     "text": [
      "DataStore d (d)\n",
      "  Contains 1000 entries\n",
      "  Observables: \n",
      "    1)  x = 9  L(-10 - 10)  \"x\"\n",
      "    2)  y = 31.607  L(0 - 40)  \"y\"\n",
      "    3)  c = Plus(idx = 1)\n",
      "  \"c\"\n",
      "\n"
     ]
    }
   ],
   "source": [
    "Int_t i;\n",
    "for (i = 0; i < 1000; i++) {\n",
    "   x = i / 50 - 10;\n",
    "   y = sqrt(1.0 * i);\n",
    "   c.setLabel((i % 2) ? \"Plus\" : \"Minus\");\n",
    "\n",
    "   // We must explicitly refer to x,y,c here to pass the values because\n",
    "   // d is not linked to them (as explained above)\n",
    "   d.add(RooArgSet(x, y, c));\n",
    "}\n",
    "d.Print(\"v\");\n",
    "cout << endl;"
   ]
  },
  {
   "cell_type": "markdown",
   "metadata": {},
   "source": [
    "The get() function returns a pointer to the internal copy of the rooargset(x,y,c)\n",
    " supplied in the constructor"
   ]
  },
  {
   "cell_type": "code",
   "execution_count": 6,
   "metadata": {
    "collapsed": false
   },
   "outputs": [
    {
     "name": "stdout",
     "output_type": "stream",
     "text": [
      "  1) 0x7fe5d036a050 RooRealVar:: x = 9  L(-10 - 10)  \"x\"\n",
      "  2) 0x7fe5d035d3e0 RooRealVar:: y = 31.607  L(0 - 40)  \"y\"\n",
      "  3) 0x7fe5d033ac10 RooCategory:: c = Plus(idx = 1)\n",
      "  \"c\"\n",
      "\n"
     ]
    }
   ],
   "source": [
    "const RooArgSet *row = d.get();\n",
    "row->Print(\"v\");\n",
    "cout << endl;"
   ]
  },
  {
   "cell_type": "markdown",
   "metadata": {},
   "source": [
    "Get with an argument loads a specific data point in row and returns\n",
    " a pointer to row argset. get() always returns the same pointer, unless\n",
    " an invalid row number is specified. In that case a null ptr is returned"
   ]
  },
  {
   "cell_type": "code",
   "execution_count": 7,
   "metadata": {
    "collapsed": false
   },
   "outputs": [
    {
     "name": "stdout",
     "output_type": "stream",
     "text": [
      "  1) 0x7fe5d036a050 RooRealVar:: x = 8  L(-10 - 10)  \"x\"\n",
      "  2) 0x7fe5d035d3e0 RooRealVar:: y = 30  L(0 - 40)  \"y\"\n",
      "  3) 0x7fe5d033ac10 RooCategory:: c = Minus(idx = -1)\n",
      "  \"c\"\n",
      "\n"
     ]
    }
   ],
   "source": [
    "d.get(900)->Print(\"v\");\n",
    "cout << endl;"
   ]
  },
  {
   "cell_type": "markdown",
   "metadata": {},
   "source": [
    "Reducing, appending and merging\n",
    " -------------------------------------------------------------"
   ]
  },
  {
   "cell_type": "markdown",
   "metadata": {},
   "source": [
    "The reduce() function returns a new dataset which is a subset of the original"
   ]
  },
  {
   "cell_type": "code",
   "execution_count": 8,
   "metadata": {
    "collapsed": false
   },
   "outputs": [
    {
     "name": "stdout",
     "output_type": "stream",
     "text": [
      "\n",
      ">> d1 has only columns x,c\n",
      "DataStore d (d)\n",
      "  Contains 1000 entries\n",
      "  Observables: \n",
      "    1)  x = 9  L(-10 - 10)  \"x\"\n",
      "    2)  c = Plus(idx = 1)\n",
      "  \"c\"\n",
      "\n",
      ">> d2 has only column y\n",
      "DataStore d (d)\n",
      "  Contains 1000 entries\n",
      "  Observables: \n",
      "    1)  y = 31.607  L(0 - 40)  \"y\"\n",
      "\n",
      ">> d3 has only the points with y>5.17\n",
      "DataStore d (d)\n",
      "  Contains 973 entries\n",
      "  Observables: \n",
      "    1)  x = 9  L(-10 - 10)  \"x\"\n",
      "    2)  y = 31.607  L(0 - 40)  \"y\"\n",
      "    3)  c = Plus(idx = 1)\n",
      "  \"c\"\n",
      "\n",
      ">> d4 has only columns x,c for data points with y>5.17\n",
      "DataStore d (d)\n",
      "  Contains 973 entries\n",
      "  Observables: \n",
      "    1)  x = 9  L(-10 - 10)  \"x\"\n",
      "    2)  c = Plus(idx = 1)\n",
      "  \"c\"\n"
     ]
    }
   ],
   "source": [
    "cout << endl << \">> d1 has only columns x,c\" << endl;\n",
    "RooDataSet *d1 = (RooDataSet *)d.reduce(RooArgSet(x, c));\n",
    "d1->Print(\"v\");\n",
    "\n",
    "cout << endl << \">> d2 has only column y\" << endl;\n",
    "RooDataSet *d2 = (RooDataSet *)d.reduce(RooArgSet(y));\n",
    "d2->Print(\"v\");\n",
    "\n",
    "cout << endl << \">> d3 has only the points with y>5.17\" << endl;\n",
    "RooDataSet *d3 = (RooDataSet *)d.reduce(\"y>5.17\");\n",
    "d3->Print(\"v\");\n",
    "\n",
    "cout << endl << \">> d4 has only columns x,c for data points with y>5.17\" << endl;\n",
    "RooDataSet *d4 = (RooDataSet *)d.reduce(RooArgSet(x, c), \"y>5.17\");\n",
    "d4->Print(\"v\");"
   ]
  },
  {
   "cell_type": "markdown",
   "metadata": {},
   "source": [
    "The merge() function adds two data set column-wise"
   ]
  },
  {
   "cell_type": "code",
   "execution_count": 9,
   "metadata": {
    "collapsed": false
   },
   "outputs": [
    {
     "name": "stdout",
     "output_type": "stream",
     "text": [
      "\n",
      ">> merge d2(y) with d1(x,c) to form d1(x,c,y)\n",
      "DataStore d (d)\n",
      "  Contains 1000 entries\n",
      "  Observables: \n",
      "    1)  x = 9  L(-10 - 10)  \"x\"\n",
      "    2)  c = Plus(idx = 1)\n",
      "  \"c\"\n",
      "    3)  y = 31.607  L(0 - 40)  \"y\"\n"
     ]
    }
   ],
   "source": [
    "cout << endl << \">> merge d2(y) with d1(x,c) to form d1(x,c,y)\" << endl;\n",
    "d1->merge(d2);\n",
    "d1->Print(\"v\");"
   ]
  },
  {
   "cell_type": "markdown",
   "metadata": {},
   "source": [
    "The append() function addes two datasets row-wise"
   ]
  },
  {
   "cell_type": "code",
   "execution_count": 10,
   "metadata": {
    "collapsed": false
   },
   "outputs": [
    {
     "name": "stdout",
     "output_type": "stream",
     "text": [
      "\n",
      ">> append data points of d3 to d1\n",
      "DataStore d (d)\n",
      "  Contains 1973 entries\n",
      "  Observables: \n",
      "    1)  x = 9  L(-10 - 10)  \"x\"\n",
      "    2)  c = Plus(idx = 1)\n",
      "  \"c\"\n",
      "    3)  y = 31.607  L(0 - 40)  \"y\"\n"
     ]
    }
   ],
   "source": [
    "cout << endl << \">> append data points of d3 to d1\" << endl;\n",
    "d1->append(*d3);\n",
    "d1->Print(\"v\");"
   ]
  },
  {
   "cell_type": "markdown",
   "metadata": {},
   "source": [
    "Operations on binned datasets\n",
    " ---------------------------------------------------------"
   ]
  },
  {
   "cell_type": "markdown",
   "metadata": {},
   "source": [
    "A binned dataset can be constructed empty, from an unbinned dataset, or\n",
    " from a ROOT native histogram (TH1,2,3)"
   ]
  },
  {
   "cell_type": "code",
   "execution_count": 11,
   "metadata": {
    "collapsed": false
   },
   "outputs": [
    {
     "name": "stdout",
     "output_type": "stream",
     "text": [
      ">> construct dh (binned) from d(unbinned) but only take the x and y dimensions,\n",
      ">> the category 'c' will be projected in the filling process\n"
     ]
    }
   ],
   "source": [
    "cout << \">> construct dh (binned) from d(unbinned) but only take the x and y dimensions,\" << endl\n",
    "     << \">> the category 'c' will be projected in the filling process\" << endl;"
   ]
  },
  {
   "cell_type": "markdown",
   "metadata": {},
   "source": [
    "The binning of real variables (like x,y) is done using their fit range\n",
    " 'get/setRange()' and number of specified fit bins 'get/setBins()'.\n",
    " Category dimensions of binned datasets get one bin per defined category state"
   ]
  },
  {
   "cell_type": "code",
   "execution_count": 12,
   "metadata": {
    "collapsed": false
   },
   "outputs": [
    {
     "name": "stdout",
     "output_type": "stream",
     "text": [
      "DataStore dh (binned version of d)\n",
      "  Contains 100 entries\n",
      "  Observables: \n",
      "    1)  x = 9  L(-10 - 10) B(10)  \"x\"\n",
      "    2)  y = 31.607  L(0 - 40) B(10)  \"y\"\n",
      "Binned Dataset dh (binned version of d)\n",
      "  Contains 100 bins with a total weight of 1000\n",
      "  Observables:     1)  x = 9  L(-10 - 10) B(10)  \"x\"\n",
      "    2)  y = 31.607  L(0 - 40) B(10)  \"y\"\n"
     ]
    }
   ],
   "source": [
    "x.setBins(10);\n",
    "y.setBins(10);\n",
    "RooDataHist dh(\"dh\", \"binned version of d\", RooArgSet(x, y), d);\n",
    "dh.Print(\"v\");\n",
    "\n",
    "RooPlot *yframe = y.frame(Bins(10), Title(\"Operations on binned datasets\"));\n",
    "dh.plotOn(yframe); // plot projection of 2D binned data on y"
   ]
  },
  {
   "cell_type": "markdown",
   "metadata": {},
   "source": [
    "Examine the statistics of a binned dataset"
   ]
  },
  {
   "cell_type": "code",
   "execution_count": 13,
   "metadata": {
    "collapsed": false
   },
   "outputs": [
    {
     "name": "stdout",
     "output_type": "stream",
     "text": [
      ">> number of bins in dh   : 100\n",
      ">> sum of weights in dh   : 1000\n",
      ">> integral over histogram: 8000\n"
     ]
    }
   ],
   "source": [
    "cout << \">> number of bins in dh   : \" << dh.numEntries() << endl;\n",
    "cout << \">> sum of weights in dh   : \" << dh.sum(kFALSE) << endl;\n",
    "cout << \">> integral over histogram: \" << dh.sum(kTRUE) << endl; // accounts for bin volume"
   ]
  },
  {
   "cell_type": "markdown",
   "metadata": {},
   "source": [
    "Locate a bin from a set of coordinates and retrieve its properties"
   ]
  },
  {
   "cell_type": "code",
   "execution_count": 14,
   "metadata": {
    "collapsed": false
   },
   "outputs": [
    {
     "name": "stdout",
     "output_type": "stream",
     "text": [
      ">> retrieving the properties of the bin enclosing coordinate (x,y) = (0.3,20.5) \n",
      " bin center:\n",
      "  1) 0x7fe5d036c4c0 RooRealVar:: x = 1  L(-10 - 10) B(10)  \"x\"\n",
      "  2) 0x7fe5d06ca4f0 RooRealVar:: y = 22  L(0 - 40) B(10)  \"y\"\n",
      " weight = 76\n"
     ]
    }
   ],
   "source": [
    "x = 0.3;\n",
    "y = 20.5;\n",
    "cout << \">> retrieving the properties of the bin enclosing coordinate (x,y) = (0.3,20.5) \" << endl;\n",
    "cout << \" bin center:\" << endl;\n",
    "dh.get(RooArgSet(x, y))->Print(\"v\");         // load bin center coordinates in internal buffer\n",
    "cout << \" weight = \" << dh.weight() << endl; // return weight of last loaded coordinates"
   ]
  },
  {
   "cell_type": "markdown",
   "metadata": {},
   "source": [
    "Reduce the 2-dimensional binned dataset to a 1-dimensional binned dataset\n",
    "\n",
    " All reduce() methods are interfaced in RooAbsData. All reduction techniques\n",
    " demonstrated on unbinned datasets can be applied to binned datasets as well."
   ]
  },
  {
   "cell_type": "code",
   "execution_count": 15,
   "metadata": {
    "collapsed": false
   },
   "outputs": [
    {
     "name": "stdout",
     "output_type": "stream",
     "text": [
      ">> Creating 1-dimensional projection on y of dh for bins with x>0\n",
      "DataStore dh (binned version of d)\n",
      "  Contains 10 entries\n",
      "  Observables: \n",
      "    1)  y = 38  L(0 - 40) B(10)  \"y\"\n",
      "Binned Dataset dh (binned version of d)\n",
      "  Contains 10 bins with a total weight of 500\n",
      "  Observables:     1)  y = 38  L(0 - 40) B(10)  \"y\"\n"
     ]
    }
   ],
   "source": [
    "cout << \">> Creating 1-dimensional projection on y of dh for bins with x>0\" << endl;\n",
    "RooDataHist *dh2 = (RooDataHist *)dh.reduce(y, \"x>0\");\n",
    "dh2->Print(\"v\");"
   ]
  },
  {
   "cell_type": "markdown",
   "metadata": {},
   "source": [
    "Add dh2 to yframe and redraw"
   ]
  },
  {
   "cell_type": "code",
   "execution_count": 16,
   "metadata": {
    "collapsed": false
   },
   "outputs": [
    {
     "name": "stdout",
     "output_type": "stream",
     "text": [
      "[#1] INFO:Plotting -- RooPlot::updateFitRangeNorm: New event count of 500 will supercede previous event count of 1000 for normalization of PDF projections\n"
     ]
    }
   ],
   "source": [
    "dh2->plotOn(yframe, LineColor(kRed), MarkerColor(kRed));"
   ]
  },
  {
   "cell_type": "markdown",
   "metadata": {},
   "source": [
    "Saving and loading from file\n",
    " -------------------------------------------------------"
   ]
  },
  {
   "cell_type": "markdown",
   "metadata": {},
   "source": [
    "Datasets can be persisted with root i/o"
   ]
  },
  {
   "cell_type": "code",
   "execution_count": 17,
   "metadata": {
    "collapsed": false
   },
   "outputs": [
    {
     "name": "stdout",
     "output_type": "stream",
     "text": [
      "\n",
      ">> Persisting d via ROOT I/O\n",
      "TFile**\t\trf402_datahandling.root\t\n",
      " TFile*\t\trf402_datahandling.root\t\n",
      "  KEY: RooDataSet\td;1\td\n",
      "  KEY: TProcessID\tProcessID0;1\tff322ea6-ca07-11e9-93a2-8b68b8bcbeef\n"
     ]
    }
   ],
   "source": [
    "cout << endl << \">> Persisting d via ROOT I/O\" << endl;\n",
    "TFile f(\"rf402_datahandling.root\", \"RECREATE\");\n",
    "d.Write();\n",
    "f.ls();"
   ]
  },
  {
   "cell_type": "markdown",
   "metadata": {},
   "source": [
    "To read back in future session:\n",
    " > TFile f(\"rf402_datahandling.root\") ;\n",
    " > RooDataSet* d = (RooDataSet*) f.FindObject(\"d\") ;"
   ]
  },
  {
   "cell_type": "code",
   "execution_count": 18,
   "metadata": {
    "collapsed": false
   },
   "outputs": [],
   "source": [
    "new TCanvas(\"rf402_datahandling\", \"rf402_datahandling\", 600, 600);\n",
    "gPad->SetLeftMargin(0.15);\n",
    "yframe->GetYaxis()->SetTitleOffset(1.4);\n",
    "yframe->Draw();"
   ]
  },
  {
   "cell_type": "markdown",
   "metadata": {},
   "source": [
    "Draw all canvases "
   ]
  },
  {
   "cell_type": "code",
   "execution_count": 19,
   "metadata": {
    "collapsed": false
   },
   "outputs": [
    {
     "data": {
      "text/html": [
       "\n",
       "<div id=\"root_plot_1\"\n",
       "     style=\"width: 596px; height: 572px\">\n",
       "</div>\n",
       "\n",
       "<script>\n",
       " requirejs.config({\n",
       "     paths: {\n",
       "       'JSRootCore' : 'https://root.cern.ch/js/notebook//scripts/JSRootCore',\n",
       "     }\n",
       "   });\n",
       " require(['JSRootCore'],\n",
       "     function(Core) {\n",
       "       var obj = Core.JSONR_unref({\"_typename\":\"TCanvas\",\"fUniqueID\":0,\"fBits\":53673992,\"fLineColor\":1,\"fLineStyle\":1,\"fLineWidth\":1,\"fFillColor\":0,\"fFillStyle\":1001,\"fLeftMargin\":0.15,\"fRightMargin\":0.1,\"fBottomMargin\":0.1,\"fTopMargin\":0.1,\"fXfile\":2,\"fYfile\":2,\"fAfile\":1,\"fXstat\":0.99,\"fYstat\":0.99,\"fAstat\":2,\"fFrameFillColor\":0,\"fFrameLineColor\":1,\"fFrameFillStyle\":1001,\"fFrameLineStyle\":1,\"fFrameLineWidth\":1,\"fFrameBorderSize\":1,\"fFrameBorderMode\":0,\"fX1\":-8.00000031789144,\"fY1\":-30.3457164144752,\"fX2\":45.3333334128062,\"fY2\":273.111429642821,\"fXtoAbsPixelk\":89.4000528863549,\"fXtoPixelk\":89.4000528863549,\"fXtoPixel\":11.1749999167398,\"fYtoAbsPixelk\":514.800046590614,\"fYtoPixelk\":514.800046590614,\"fYtoPixel\":-1.88494490056267,\"fUtoAbsPixelk\":5e-5,\"fUtoPixelk\":5e-5,\"fUtoPixel\":596,\"fVtoAbsPixelk\":572.00005,\"fVtoPixelk\":572,\"fVtoPixel\":-572,\"fAbsPixeltoXk\":-8.00000031789144,\"fPixeltoXk\":-8.00000031789144,\"fPixeltoX\":0.089485459279694,\"fAbsPixeltoYk\":273.111429642821,\"fPixeltoYk\":-30.3457164144752,\"fPixeltoY\":-0.530519486114153,\"fXlowNDC\":0,\"fYlowNDC\":0,\"fXUpNDC\":0,\"fYUpNDC\":0,\"fWNDC\":1,\"fHNDC\":1,\"fAbsXlowNDC\":0,\"fAbsYlowNDC\":0,\"fAbsWNDC\":1,\"fAbsHNDC\":1,\"fUxmin\":0,\"fUymin\":0,\"fUxmax\":40,\"fUymax\":242.765713228345,\"fTheta\":30,\"fPhi\":30,\"fAspectRatio\":0,\"fNumber\":0,\"fTickx\":0,\"fTicky\":0,\"fLogx\":0,\"fLogy\":0,\"fLogz\":0,\"fPadPaint\":0,\"fCrosshair\":0,\"fCrosshairPos\":0,\"fBorderSize\":2,\"fBorderMode\":0,\"fModified\":false,\"fGridx\":false,\"fGridy\":false,\"fAbsCoord\":false,\"fEditable\":true,\"fFixedAspectRatio\":false,\"fPrimitives\":{\"_typename\":\"TList\",\"name\":\"TList\",\"arr\":[{\"_typename\":\"TFrame\",\"fUniqueID\":0,\"fBits\":50331656,\"fLineColor\":1,\"fLineStyle\":1,\"fLineWidth\":1,\"fFillColor\":0,\"fFillStyle\":1001,\"fX1\":0,\"fY1\":0,\"fX2\":40,\"fY2\":242.765713228345,\"fBorderSize\":1,\"fBorderMode\":0},{\"_typename\":\"TH1D\",\"fUniqueID\":0,\"fBits\":50332168,\"fName\":\"frame_7fe5d008fbb0\",\"fTitle\":\"Operations on binned datasets\",\"fLineColor\":602,\"fLineStyle\":1,\"fLineWidth\":1,\"fFillColor\":0,\"fFillStyle\":1001,\"fMarkerColor\":1,\"fMarkerStyle\":1,\"fMarkerSize\":1,\"fNcells\":12,\"fXaxis\":{\"_typename\":\"TAxis\",\"fUniqueID\":0,\"fBits\":50331648,\"fName\":\"xaxis\",\"fTitle\":\"y\",\"fNdivisions\":510,\"fAxisColor\":1,\"fLabelColor\":1,\"fLabelFont\":42,\"fLabelOffset\":0.005,\"fLabelSize\":0.035,\"fTickLength\":0.03,\"fTitleOffset\":1,\"fTitleSize\":0.035,\"fTitleColor\":1,\"fTitleFont\":42,\"fNbins\":10,\"fXmin\":0,\"fXmax\":40,\"fXbins\":[],\"fFirst\":0,\"fLast\":0,\"fBits2\":0,\"fTimeDisplay\":false,\"fTimeFormat\":\"\",\"fLabels\":null,\"fModLabs\":null},\"fYaxis\":{\"_typename\":\"TAxis\",\"fUniqueID\":0,\"fBits\":50331648,\"fName\":\"yaxis\",\"fTitle\":\"Events \\/ ( 4 )\",\"fNdivisions\":510,\"fAxisColor\":1,\"fLabelColor\":1,\"fLabelFont\":42,\"fLabelOffset\":0.005,\"fLabelSize\":0.035,\"fTickLength\":0.03,\"fTitleOffset\":1.4,\"fTitleSize\":0.035,\"fTitleColor\":1,\"fTitleFont\":42,\"fNbins\":1,\"fXmin\":0,\"fXmax\":1,\"fXbins\":[],\"fFirst\":0,\"fLast\":0,\"fBits2\":0,\"fTimeDisplay\":false,\"fTimeFormat\":\"\",\"fLabels\":null,\"fModLabs\":null},\"fZaxis\":{\"_typename\":\"TAxis\",\"fUniqueID\":0,\"fBits\":50331648,\"fName\":\"zaxis\",\"fTitle\":\"\",\"fNdivisions\":510,\"fAxisColor\":1,\"fLabelColor\":1,\"fLabelFont\":42,\"fLabelOffset\":0.005,\"fLabelSize\":0.035,\"fTickLength\":0.03,\"fTitleOffset\":1,\"fTitleSize\":0.035,\"fTitleColor\":1,\"fTitleFont\":42,\"fNbins\":1,\"fXmin\":0,\"fXmax\":1,\"fXbins\":[],\"fFirst\":0,\"fLast\":0,\"fBits2\":0,\"fTimeDisplay\":false,\"fTimeFormat\":\"\",\"fLabels\":null,\"fModLabs\":null},\"fBarOffset\":0,\"fBarWidth\":1000,\"fEntries\":1,\"fTsumw\":0,\"fTsumw2\":0,\"fTsumwx\":0,\"fTsumwx2\":0,\"fMaximum\":242.765713228345,\"fMinimum\":-1111,\"fNormFactor\":0,\"fContour\":[],\"fSumw2\":[],\"fOption\":\"\",\"fFunctions\":{\"_typename\":\"TList\",\"name\":\"TList\",\"arr\":[],\"opt\":[]},\"fBufferSize\":0,\"fBuffer\":[],\"fBinStatErrOpt\":0,\"fStatOverflows\":2,\"fArray\":[0,242.765713228345,0,0,0,0,0,0,0,0,0,0]},{\"_typename\":\"RooHist\",\"fUniqueID\":0,\"fBits\":50332680,\"fName\":\"h_dh\",\"fTitle\":\"Histogram of dh_plot__y\",\"fLineColor\":1,\"fLineStyle\":1,\"fLineWidth\":1,\"fFillColor\":0,\"fFillStyle\":1000,\"fMarkerColor\":1,\"fMarkerStyle\":8,\"fMarkerSize\":1,\"fNpoints\":10,\"fX\":[2,6,10,14,18,22,26,30,34,38],\"fY\":[16,48,80,112,144,176,208,216,0,0],\"fFunctions\":{\"_typename\":\"TList\",\"name\":\"TList\",\"arr\":[],\"opt\":[]},\"fHistogram\":{\"_typename\":\"TH1F\",\"fUniqueID\":0,\"fBits\":50332168,\"fName\":\"h_dh\",\"fTitle\":\"Histogram of dh_plot__y\",\"fLineColor\":602,\"fLineStyle\":1,\"fLineWidth\":1,\"fFillColor\":0,\"fFillStyle\":1001,\"fMarkerColor\":1,\"fMarkerStyle\":1,\"fMarkerSize\":1,\"fNcells\":102,\"fXaxis\":{\"_typename\":\"TAxis\",\"fUniqueID\":0,\"fBits\":50331648,\"fName\":\"xaxis\",\"fTitle\":\"\",\"fNdivisions\":510,\"fAxisColor\":1,\"fLabelColor\":1,\"fLabelFont\":42,\"fLabelOffset\":0.005,\"fLabelSize\":0.035,\"fTickLength\":0.03,\"fTitleOffset\":1,\"fTitleSize\":0.035,\"fTitleColor\":1,\"fTitleFont\":42,\"fNbins\":100,\"fXmin\":0,\"fXmax\":44,\"fXbins\":[],\"fFirst\":0,\"fLast\":0,\"fBits2\":0,\"fTimeDisplay\":false,\"fTimeFormat\":\"\",\"fLabels\":null,\"fModLabs\":null},\"fYaxis\":{\"_typename\":\"TAxis\",\"fUniqueID\":0,\"fBits\":50331648,\"fName\":\"yaxis\",\"fTitle\":\"\",\"fNdivisions\":510,\"fAxisColor\":1,\"fLabelColor\":1,\"fLabelFont\":42,\"fLabelOffset\":0.005,\"fLabelSize\":0.035,\"fTickLength\":0.03,\"fTitleOffset\":0,\"fTitleSize\":0.035,\"fTitleColor\":1,\"fTitleFont\":42,\"fNbins\":1,\"fXmin\":0,\"fXmax\":254.325985286838,\"fXbins\":[],\"fFirst\":0,\"fLast\":0,\"fBits2\":0,\"fTimeDisplay\":false,\"fTimeFormat\":\"\",\"fLabels\":null,\"fModLabs\":null},\"fZaxis\":{\"_typename\":\"TAxis\",\"fUniqueID\":0,\"fBits\":50331648,\"fName\":\"zaxis\",\"fTitle\":\"\",\"fNdivisions\":510,\"fAxisColor\":1,\"fLabelColor\":1,\"fLabelFont\":42,\"fLabelOffset\":0.005,\"fLabelSize\":0.035,\"fTickLength\":0.03,\"fTitleOffset\":1,\"fTitleSize\":0.035,\"fTitleColor\":1,\"fTitleFont\":42,\"fNbins\":1,\"fXmin\":0,\"fXmax\":1,\"fXbins\":[],\"fFirst\":0,\"fLast\":0,\"fBits2\":0,\"fTimeDisplay\":false,\"fTimeFormat\":\"\",\"fLabels\":null,\"fModLabs\":null},\"fBarOffset\":0,\"fBarWidth\":1000,\"fEntries\":0,\"fTsumw\":0,\"fTsumw2\":0,\"fTsumwx\":0,\"fTsumwx2\":0,\"fMaximum\":254.325985286838,\"fMinimum\":0,\"fNormFactor\":0,\"fContour\":[],\"fSumw2\":[],\"fOption\":\"\",\"fFunctions\":{\"_typename\":\"TList\",\"name\":\"TList\",\"arr\":[],\"opt\":[]},\"fBufferSize\":0,\"fBuffer\":[],\"fBinStatErrOpt\":0,\"fStatOverflows\":2,\"fArray\":[0,0,0,0,0,0,0,0,0,0,0,0,0,0,0,0,0,0,0,0,0,0,0,0,0,0,0,0,0,0,0,0,0,0,0,0,0,0,0,0,0,0,0,0,0,0,0,0,0,0,0,0,0,0,0,0,0,0,0,0,0,0,0,0,0,0,0,0,0,0,0,0,0,0,0,0,0,0,0,0,0,0,0,0,0,0,0,0,0,0,0,0,0,0,0,0,0,0,0,0,0,0]},\"fMinimum\":-1111,\"fMaximum\":-1111,\"fEXlow\":[2,2,2,2,2,2,2,2,2,2],\"fEXhigh\":[2,2,2,2,2,2,2,2,2,2],\"fEYlow\":[3.95780102940381,6.90397923687425,8.925539206363,10.0948100502086,11.5104121494643,12.7759180473518,13.9308696896618,14.2054411698527,0,0],\"fEYhigh\":[5.08306556401624,7.97632992098288,9.98156730479691,11.0948100502086,12.5104121494643,13.7759180473518,14.9308696896618,15.2054411698527,1.14787446444932,1.14787446444932],\"_yAxisLabel\":\"Events \\/ ( 4 )\",\"_ymin\":0,\"_ymax\":231.205441169853,\"_normValue\":0,\"_nominalBinWidth\":4,\"_nSigma\":1,\"_entries\":1000,\"_rawEntries\":-1},{\"_typename\":\"RooHist\",\"fUniqueID\":0,\"fBits\":50332680,\"fName\":\"h_dh\",\"fTitle\":\"Histogram of dh_plot__y\",\"fLineColor\":632,\"fLineStyle\":1,\"fLineWidth\":1,\"fFillColor\":0,\"fFillStyle\":1000,\"fMarkerColor\":632,\"fMarkerStyle\":8,\"fMarkerSize\":1,\"fNpoints\":10,\"fX\":[2,6,10,14,18,22,26,30,34,38],\"fY\":[0,0,0,0,0,76,208,216,0,0],\"fFunctions\":{\"_typename\":\"TList\",\"name\":\"TList\",\"arr\":[],\"opt\":[]},\"fHistogram\":{\"_typename\":\"TH1F\",\"fUniqueID\":0,\"fBits\":50332168,\"fName\":\"h_dh\",\"fTitle\":\"Histogram of dh_plot__y\",\"fLineColor\":602,\"fLineStyle\":1,\"fLineWidth\":1,\"fFillColor\":0,\"fFillStyle\":1001,\"fMarkerColor\":1,\"fMarkerStyle\":1,\"fMarkerSize\":1,\"fNcells\":102,\"fXaxis\":{\"_typename\":\"TAxis\",\"fUniqueID\":0,\"fBits\":50331648,\"fName\":\"xaxis\",\"fTitle\":\"\",\"fNdivisions\":510,\"fAxisColor\":1,\"fLabelColor\":1,\"fLabelFont\":42,\"fLabelOffset\":0.005,\"fLabelSize\":0.035,\"fTickLength\":0.03,\"fTitleOffset\":1,\"fTitleSize\":0.035,\"fTitleColor\":1,\"fTitleFont\":42,\"fNbins\":100,\"fXmin\":0,\"fXmax\":44,\"fXbins\":[],\"fFirst\":0,\"fLast\":0,\"fBits2\":0,\"fTimeDisplay\":false,\"fTimeFormat\":\"\",\"fLabels\":null,\"fModLabs\":null},\"fYaxis\":{\"_typename\":\"TAxis\",\"fUniqueID\":0,\"fBits\":50331648,\"fName\":\"yaxis\",\"fTitle\":\"\",\"fNdivisions\":510,\"fAxisColor\":1,\"fLabelColor\":1,\"fLabelFont\":42,\"fLabelOffset\":0.005,\"fLabelSize\":0.035,\"fTickLength\":0.03,\"fTitleOffset\":0,\"fTitleSize\":0.035,\"fTitleColor\":1,\"fTitleFont\":42,\"fNbins\":1,\"fXmin\":0,\"fXmax\":254.325985286838,\"fXbins\":[],\"fFirst\":0,\"fLast\":0,\"fBits2\":0,\"fTimeDisplay\":false,\"fTimeFormat\":\"\",\"fLabels\":null,\"fModLabs\":null},\"fZaxis\":{\"_typename\":\"TAxis\",\"fUniqueID\":0,\"fBits\":50331648,\"fName\":\"zaxis\",\"fTitle\":\"\",\"fNdivisions\":510,\"fAxisColor\":1,\"fLabelColor\":1,\"fLabelFont\":42,\"fLabelOffset\":0.005,\"fLabelSize\":0.035,\"fTickLength\":0.03,\"fTitleOffset\":1,\"fTitleSize\":0.035,\"fTitleColor\":1,\"fTitleFont\":42,\"fNbins\":1,\"fXmin\":0,\"fXmax\":1,\"fXbins\":[],\"fFirst\":0,\"fLast\":0,\"fBits2\":0,\"fTimeDisplay\":false,\"fTimeFormat\":\"\",\"fLabels\":null,\"fModLabs\":null},\"fBarOffset\":0,\"fBarWidth\":1000,\"fEntries\":0,\"fTsumw\":0,\"fTsumw2\":0,\"fTsumwx\":0,\"fTsumwx2\":0,\"fMaximum\":254.325985286838,\"fMinimum\":0,\"fNormFactor\":0,\"fContour\":[],\"fSumw2\":[],\"fOption\":\"\",\"fFunctions\":{\"_typename\":\"TList\",\"name\":\"TList\",\"arr\":[],\"opt\":[]},\"fBufferSize\":0,\"fBuffer\":[],\"fBinStatErrOpt\":0,\"fStatOverflows\":2,\"fArray\":[0,0,0,0,0,0,0,0,0,0,0,0,0,0,0,0,0,0,0,0,0,0,0,0,0,0,0,0,0,0,0,0,0,0,0,0,0,0,0,0,0,0,0,0,0,0,0,0,0,0,0,0,0,0,0,0,0,0,0,0,0,0,0,0,0,0,0,0,0,0,0,0,0,0,0,0,0,0,0,0,0,0,0,0,0,0,0,0,0,0,0,0,0,0,0,0,0,0,0,0,0,0]},\"fMinimum\":-1111,\"fMaximum\":-1111,\"fEXlow\":[2,2,2,2,2,2,2,2,2,2],\"fEXhigh\":[2,2,2,2,2,2,2,2,2,2],\"fEYlow\":[0,0,0,0,0,8.69857573269304,13.9308696896618,14.2054411698527,0,0],\"fEYhigh\":[1.14787446444932,1.14787446444932,1.14787446444932,1.14787446444932,1.14787446444932,9.7560610979592,14.9308696896618,15.2054411698527,1.14787446444932,1.14787446444932],\"_yAxisLabel\":\"Events \\/ ( 4 )\",\"_ymin\":0,\"_ymax\":231.205441169853,\"_normValue\":0,\"_nominalBinWidth\":4,\"_nSigma\":1,\"_entries\":500,\"_rawEntries\":-1},{\"$ref\":3},{\"_typename\":\"TPaveText\",\"fUniqueID\":0,\"fBits\":50331657,\"fLineColor\":1,\"fLineStyle\":1,\"fLineWidth\":1,\"fFillColor\":0,\"fFillStyle\":0,\"fX1\":-2.58286792842455e-7,\"fY1\":253.132067242758,\"fX2\":37.3333333532015,\"fY2\":271.594145359531,\"fX1NDC\":0.15,\"fY1NDC\":0.934160843929211,\"fX2NDC\":0.85,\"fY2NDC\":0.995000004768372,\"fBorderSize\":0,\"fInit\":1,\"fShadowColor\":1,\"fCornerRadius\":0,\"fOption\":\"blNDC\",\"fName\":\"title\",\"fTextAngle\":0,\"fTextSize\":0,\"fTextAlign\":22,\"fTextColor\":1,\"fTextFont\":42,\"fLabel\":\"\",\"fLongest\":29,\"fMargin\":0.05,\"fLines\":{\"_typename\":\"TList\",\"name\":\"TList\",\"arr\":[{\"_typename\":\"TLatex\",\"fUniqueID\":0,\"fBits\":50331648,\"fName\":\"\",\"fTitle\":\"Operations on binned datasets\",\"fTextAngle\":0,\"fTextSize\":0,\"fTextAlign\":0,\"fTextColor\":0,\"fTextFont\":0,\"fX\":0,\"fY\":0,\"fLineColor\":1,\"fLineStyle\":1,\"fLineWidth\":2,\"fLimitFactorSize\":3,\"fOriginSize\":0.0517132878303528}],\"opt\":[\"\"]}}],\"opt\":[\"\",\"FUNC\",\"p\",\"p\",\"AXISSAME\",\"blNDC\"]},\"fExecs\":null,\"fName\":\"rf402_datahandling\",\"fTitle\":\"rf402_datahandling\",\"fNumPaletteColor\":0,\"fNextPaletteColor\":0,\"fDISPLAY\":\"$DISPLAY\",\"fDoubleBuffer\":0,\"fRetained\":true,\"fXsizeUser\":0,\"fYsizeUser\":0,\"fXsizeReal\":20,\"fYsizeReal\":20,\"fWindowTopX\":0,\"fWindowTopY\":0,\"fWindowWidth\":0,\"fWindowHeight\":0,\"fCw\":596,\"fCh\":572,\"fCatt\":{\"_typename\":\"TAttCanvas\",\"fXBetween\":2,\"fYBetween\":2,\"fTitleFromTop\":1.2,\"fXdate\":0.2,\"fYdate\":0.3,\"fAdate\":1},\"kMoveOpaque\":true,\"kResizeOpaque\":true,\"fHighLightColor\":2,\"fBatch\":true,\"kShowEventStatus\":false,\"kAutoExec\":true,\"kMenuBar\":true});\n",
       "       Core.draw(\"root_plot_1\", obj, \"\");\n",
       "     }\n",
       " );\n",
       "</script>\n"
      ],
      "text/plain": [
       "<IPython.core.display.HTML object>"
      ]
     },
     "metadata": {},
     "output_type": "display_data"
    }
   ],
   "source": [
    "%jsroot on\n",
    "gROOT->GetListOfCanvases()->Draw()"
   ]
  }
 ],
 "metadata": {
  "kernelspec": {
   "display_name": "ROOT C++",
   "language": "c++",
   "name": "root"
  },
  "language_info": {
   "codemirror_mode": "text/x-c++src",
   "file_extension": ".C",
   "mimetype": " text/x-c++src",
   "name": "c++"
  }
 },
 "nbformat": 4,
 "nbformat_minor": 2
}
