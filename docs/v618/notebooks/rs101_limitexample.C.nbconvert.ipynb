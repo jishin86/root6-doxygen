{
 "cells": [
  {
   "cell_type": "markdown",
   "metadata": {},
   "source": [
    "# Rs 1 0 1_Limitexample\n",
    "Limits: number counting experiment with uncertainty on both the background rate and signal efficiency.\n",
    "\n",
    "The usage of a Confidence Interval Calculator to set a limit on the signal is illustrated\n",
    "\n",
    "\n",
    "\n",
    "\n",
    "**Author:** Kyle Cranmer  \n",
    "<i><small>This notebook tutorial was automatically generated with <a href= \"https://github.com/root-project/root/blob/master/documentation/doxygen/converttonotebook.py\">ROOTBOOK-izer</a> from the macro found in the ROOT repository  on Thursday, August 29, 2019 at 03:14 AM.</small></i>"
   ]
  },
  {
   "cell_type": "code",
   "execution_count": 1,
   "metadata": {
    "collapsed": false
   },
   "outputs": [],
   "source": [
    "%%cpp -d\n",
    "#include \"RooProfileLL.h\"\n",
    "#include \"RooAbsPdf.h\"\n",
    "#include \"RooStats/HypoTestResult.h\"\n",
    "#include \"RooRealVar.h\"\n",
    "#include \"RooPlot.h\"\n",
    "#include \"RooDataSet.h\"\n",
    "#include \"RooTreeDataStore.h\"\n",
    "#include \"TTree.h\"\n",
    "#include \"TCanvas.h\"\n",
    "#include \"TLine.h\"\n",
    "#include \"TStopwatch.h\"\n",
    "\n",
    "#include \"RooStats/ProfileLikelihoodCalculator.h\"\n",
    "#include \"RooStats/MCMCCalculator.h\"\n",
    "#include \"RooStats/UniformProposal.h\"\n",
    "#include \"RooStats/FeldmanCousins.h\"\n",
    "#include \"RooStats/NumberCountingPdfFactory.h\"\n",
    "#include \"RooStats/ConfInterval.h\"\n",
    "#include \"RooStats/PointSetInterval.h\"\n",
    "#include \"RooStats/LikelihoodInterval.h\"\n",
    "#include \"RooStats/LikelihoodIntervalPlot.h\"\n",
    "#include \"RooStats/RooStatsUtils.h\"\n",
    "#include \"RooStats/ModelConfig.h\"\n",
    "#include \"RooStats/MCMCInterval.h\"\n",
    "#include \"RooStats/MCMCIntervalPlot.h\"\n",
    "#include \"RooStats/ProposalFunction.h\"\n",
    "#include \"RooStats/ProposalHelper.h\"\n",
    "#include \"RooFitResult.h\"\n",
    "#include \"TGraph2D.h\"\n",
    "\n",
    "#include <cassert>"
   ]
  },
  {
   "cell_type": "markdown",
   "metadata": {},
   "source": [
    "Use this order for safety on library loading"
   ]
  },
  {
   "cell_type": "code",
   "execution_count": 2,
   "metadata": {
    "collapsed": false
   },
   "outputs": [],
   "source": [
    "%%cpp -d\n",
    "// This is a workaround to make sure the namespace is used inside functions\n",
    "using namespace RooFit;\n",
    "using namespace RooStats;"
   ]
  },
  {
   "cell_type": "markdown",
   "metadata": {},
   "source": [
    "--------------------------------------\n",
    " An example of setting a limit in a number counting experiment with uncertainty on background and signal"
   ]
  },
  {
   "cell_type": "markdown",
   "metadata": {},
   "source": [
    "To time the macro"
   ]
  },
  {
   "cell_type": "code",
   "execution_count": 3,
   "metadata": {
    "collapsed": false
   },
   "outputs": [],
   "source": [
    "TStopwatch t;\n",
    "t.Start();"
   ]
  },
  {
   "cell_type": "markdown",
   "metadata": {},
   "source": [
    "--------------------------------------\n",
    " The Model building stage\n",
    " --------------------------------------"
   ]
  },
  {
   "cell_type": "code",
   "execution_count": 4,
   "metadata": {
    "collapsed": false
   },
   "outputs": [
    {
     "name": "stdout",
     "output_type": "stream",
     "text": [
      "\n",
      "\u001b[1mRooFit v3.60 -- Developed by Wouter Verkerke and David Kirkby\u001b[0m \n",
      "                Copyright (C) 2000-2013 NIKHEF, University of California & Stanford University\n",
      "                All rights reserved, please read http://roofit.sourceforge.net/license.txt\n",
      "\n"
     ]
    }
   ],
   "source": [
    "RooWorkspace *wspace = new RooWorkspace();\n",
    "wspace->factory(\"Poisson::countingModel(obs[150,0,300], \"\n",
    "                \"sum(s[50,0,120]*ratioSigEff[1.,0,3.],b[100]*ratioBkgEff[1.,0.,3.]))\"); // counting model"
   ]
  },
  {
   "cell_type": "markdown",
   "metadata": {},
   "source": [
    "Wspace->factory(\"gaussian::sigconstraint(ratiosigeff,1,0.05)\"); // 5% signal efficiency uncertainty\n",
    "  wspace->factory(\"Gaussian::bkgConstraint(ratioBkgEff,1,0.1)\"); // 10% background efficiency uncertainty"
   ]
  },
  {
   "cell_type": "code",
   "execution_count": 5,
   "metadata": {
    "collapsed": false
   },
   "outputs": [
    {
     "name": "stdout",
     "output_type": "stream",
     "text": [
      "\n",
      "RooWorkspace()  contents\n",
      "\n",
      "variables\n",
      "---------\n",
      "(b,gSigBkg,gSigEff,obs,ratioBkgEff,ratioSigEff,s)\n",
      "\n",
      "p.d.f.s\n",
      "-------\n",
      "RooGaussian::bkgConstraint[ x=gSigBkg mean=ratioBkgEff sigma=0.2 ] = 1\n",
      "RooPoisson::countingModel[ x=obs mean=countingModel_2 ] = 0.0325554\n",
      "RooProdPdf::modelWithConstraints[ countingModel * sigConstraint * bkgConstraint ] = 0.0325554\n",
      "RooGaussian::sigConstraint[ x=gSigEff mean=ratioSigEff sigma=0.05 ] = 1\n",
      "\n",
      "functions\n",
      "--------\n",
      "RooAddition::countingModel_2[ countingModel_2_[s_x_ratioSigEff] + countingModel_2_[b_x_ratioBkgEff] ] = 150\n",
      "RooProduct::countingModel_2_[b_x_ratioBkgEff][ b * ratioBkgEff ] = 100\n",
      "RooProduct::countingModel_2_[s_x_ratioSigEff][ s * ratioSigEff ] = 50\n",
      "\n"
     ]
    }
   ],
   "source": [
    "wspace->factory(\"Gaussian::sigConstraint(gSigEff[1,0,3],ratioSigEff,0.05)\"); // 5% signal efficiency uncertainty\n",
    "wspace->factory(\"Gaussian::bkgConstraint(gSigBkg[1,0,3],ratioBkgEff,0.2)\");  // 10% background efficiency uncertainty\n",
    "wspace->factory(\"PROD::modelWithConstraints(countingModel,sigConstraint,bkgConstraint)\"); // product of terms\n",
    "wspace->Print();\n",
    "\n",
    "RooAbsPdf *modelWithConstraints = wspace->pdf(\"modelWithConstraints\"); // get the model\n",
    "RooRealVar *obs = wspace->var(\"obs\");                                  // get the observable\n",
    "RooRealVar *s = wspace->var(\"s\");                                      // get the signal we care about\n",
    "RooRealVar *b =\n",
    "   wspace->var(\"b\"); // get the background and set it to a constant.  Uncertainty included in ratioBkgEff\n",
    "b->setConstant();\n",
    "\n",
    "RooRealVar *ratioSigEff = wspace->var(\"ratioSigEff\"); // get uncertain parameter to constrain\n",
    "RooRealVar *ratioBkgEff = wspace->var(\"ratioBkgEff\"); // get uncertain parameter to constrain\n",
    "RooArgSet constrainedParams(*ratioSigEff,\n",
    "                            *ratioBkgEff); // need to constrain these in the fit (should change default behavior)\n",
    "\n",
    "RooRealVar *gSigEff = wspace->var(\"gSigEff\"); // global observables for signal efficiency\n",
    "RooRealVar *gSigBkg = wspace->var(\"gSigBkg\"); // global obs for background efficiency\n",
    "gSigEff->setConstant();\n",
    "gSigBkg->setConstant();"
   ]
  },
  {
   "cell_type": "markdown",
   "metadata": {},
   "source": [
    "Create an example dataset with 160 observed events"
   ]
  },
  {
   "cell_type": "code",
   "execution_count": 6,
   "metadata": {
    "collapsed": false
   },
   "outputs": [],
   "source": [
    "obs->setVal(160.);\n",
    "RooDataSet *data = new RooDataSet(\"exampleData\", \"exampleData\", RooArgSet(*obs));\n",
    "data->add(*obs);\n",
    "\n",
    "RooArgSet all(*s, *ratioBkgEff, *ratioSigEff);"
   ]
  },
  {
   "cell_type": "markdown",
   "metadata": {},
   "source": [
    "Not necessary"
   ]
  },
  {
   "cell_type": "code",
   "execution_count": 7,
   "metadata": {
    "collapsed": false
   },
   "outputs": [
    {
     "name": "stdout",
     "output_type": "stream",
     "text": [
      "[#1] INFO:Minization -- createNLL: caching constraint set under name CONSTR_OF_PDF_modelWithConstraints_FOR_OBS_obs with 2 entries\n",
      "[#1] INFO:Minization --  Including the following contraint terms in minimization: (sigConstraint,bkgConstraint)\n",
      "[#1] INFO:Fitting -- RooAddition::defaultErrorLevel(nll_modelWithConstraints_exampleData_with_constr) Summation contains a RooNLLVar, using its error level\n",
      "[#1] INFO:Minization -- RooMinimizer::optimizeConst: activating const optimization\n",
      "[#1] INFO:Minization --  The following expressions will be evaluated in cache-and-track mode: (countingModel)\n",
      " **********\n",
      " **    1 **SET PRINT           1\n",
      " **********\n",
      " **********\n",
      " **    2 **SET NOGRAD\n",
      " **********\n",
      " PARAMETER DEFINITIONS:\n",
      "    NO.   NAME         VALUE      STEP SIZE      LIMITS\n",
      "     1 ratioBkgEff   1.00000e+00  3.00000e-01    0.00000e+00  3.00000e+00\n",
      "     2 ratioSigEff   1.00000e+00  3.00000e-01    0.00000e+00  3.00000e+00\n",
      "     3 s            5.00000e+01  1.20000e+01    0.00000e+00  1.20000e+02\n",
      " **********\n",
      " **    3 **SET ERR         0.5\n",
      " **********\n",
      " **********\n",
      " **    4 **SET PRINT           1\n",
      " **********\n",
      " **********\n",
      " **    5 **SET STR           1\n",
      " **********\n",
      " NOW USING STRATEGY  1: TRY TO BALANCE SPEED AGAINST RELIABILITY\n",
      " **********\n",
      " **    6 **MIGRAD        1500           1\n",
      " **********\n",
      " FIRST CALL TO USER FUNCTION AT NEW START POINT, WITH IFLAG=4.\n",
      " START MIGRAD MINIMIZATION.  STRATEGY  1.  CONVERGENCE WHEN EDM .LT. 1.00e-03\n",
      " FCN=1.01592 FROM MIGRAD    STATUS=INITIATE       12 CALLS          13 TOTAL\n",
      "                     EDM= unknown      STRATEGY= 1      NO ERROR MATRIX       \n",
      "  EXT PARAMETER               CURRENT GUESS       STEP         FIRST   \n",
      "  NO.   NAME      VALUE            ERROR          SIZE      DERIVATIVE \n",
      "   1  ratioBkgEff   1.00000e+00   3.00000e-01   2.14402e-01  -9.42809e+00\n",
      "   2  ratioSigEff   1.00000e+00   3.00000e-01   2.14402e-01  -4.71404e+00\n",
      "   3  s            5.00000e+01   1.20000e+01   2.04382e-01  -3.94405e+00\n",
      "                               ERR DEF= 0.5\n",
      " MIGRAD MINIMIZATION HAS CONVERGED.\n",
      " MIGRAD WILL VERIFY CONVERGENCE AND ERROR MATRIX.\n",
      " COVARIANCE MATRIX CALCULATED SUCCESSFULLY\n",
      " FCN=0.689753 FROM MIGRAD    STATUS=CONVERGED      60 CALLS          61 TOTAL\n",
      "                     EDM=4.05791e-08    STRATEGY= 1      ERROR MATRIX ACCURATE \n",
      "  EXT PARAMETER                                   STEP         FIRST   \n",
      "  NO.   NAME      VALUE            ERROR          SIZE      DERIVATIVE \n",
      "   1  ratioBkgEff   1.00002e+00   1.99284e-01   5.69545e-05   2.44292e-04\n",
      "   2  ratioSigEff   9.99992e-01   4.99900e-02   2.59106e-05  -5.01928e-03\n",
      "   3  s            5.99979e+01   2.32251e+01   1.58945e-04  -2.07489e-04\n",
      "                               ERR DEF= 0.5\n",
      " EXTERNAL ERROR MATRIX.    NDIM=  25    NPAR=  3    ERR DEF=0.5\n",
      "  3.998e-02  2.485e-07 -3.998e+00 \n",
      "  2.485e-07  2.500e-03 -1.500e-01 \n",
      " -3.998e+00 -1.500e-01  5.687e+02 \n",
      " PARAMETER  CORRELATION COEFFICIENTS  \n",
      "       NO.  GLOBAL      1      2      3\n",
      "        1  0.84507   1.000  0.000 -0.838\n",
      "        2  0.23079   0.000  1.000 -0.126\n",
      "        3  0.84774  -0.838 -0.126  1.000\n",
      " **********\n",
      " **    7 **SET ERR         0.5\n",
      " **********\n",
      " **********\n",
      " **    8 **SET PRINT           1\n",
      " **********\n",
      " **********\n",
      " **    9 **HESSE        1500\n",
      " **********\n",
      " COVARIANCE MATRIX CALCULATED SUCCESSFULLY\n",
      " FCN=0.689753 FROM HESSE     STATUS=OK             16 CALLS          77 TOTAL\n",
      "                     EDM=4.05843e-08    STRATEGY= 1      ERROR MATRIX ACCURATE \n",
      "  EXT PARAMETER                                INTERNAL      INTERNAL  \n",
      "  NO.   NAME      VALUE            ERROR       STEP SIZE       VALUE   \n",
      "   1  ratioBkgEff   1.00002e+00   1.99326e-01   1.13909e-05  -3.39822e-01\n",
      "   2  ratioSigEff   9.99992e-01   4.99895e-02   5.18211e-06  -3.39843e-01\n",
      "   3  s            5.99979e+01   2.32296e+01   3.17891e-05  -3.54380e-05\n",
      "                               ERR DEF= 0.5\n",
      " EXTERNAL ERROR MATRIX.    NDIM=  25    NPAR=  3    ERR DEF=0.5\n",
      "  4.000e-02  5.038e-08 -4.000e+00 \n",
      "  5.038e-08  2.500e-03 -1.500e-01 \n",
      " -4.000e+00 -1.500e-01  5.690e+02 \n",
      " PARAMETER  CORRELATION COEFFICIENTS  \n",
      "       NO.  GLOBAL      1      2      3\n",
      "        1  0.84514   1.000  0.000 -0.838\n",
      "        2  0.23076   0.000  1.000 -0.126\n",
      "        3  0.84781  -0.838 -0.126  1.000\n",
      "[#1] INFO:Minization -- RooMinimizer::optimizeConst: deactivating const optimization\n"
     ]
    }
   ],
   "source": [
    "modelWithConstraints->fitTo(*data, RooFit::Constrain(RooArgSet(*ratioSigEff, *ratioBkgEff)));"
   ]
  },
  {
   "cell_type": "markdown",
   "metadata": {},
   "source": [
    "Now let's make some confidence intervals for s, our parameter of interest"
   ]
  },
  {
   "cell_type": "code",
   "execution_count": 8,
   "metadata": {
    "collapsed": false
   },
   "outputs": [
    {
     "name": "stdout",
     "output_type": "stream",
     "text": [
      "[#1] INFO:ObjectHandling -- RooWorkspace::import() importing dataset exampleData\n"
     ]
    }
   ],
   "source": [
    "RooArgSet paramOfInterest(*s);\n",
    "\n",
    "ModelConfig modelConfig(wspace);\n",
    "modelConfig.SetPdf(*modelWithConstraints);\n",
    "modelConfig.SetParametersOfInterest(paramOfInterest);\n",
    "modelConfig.SetNuisanceParameters(constrainedParams);\n",
    "modelConfig.SetObservables(*obs);\n",
    "modelConfig.SetGlobalObservables(RooArgSet(*gSigEff, *gSigBkg));\n",
    "modelConfig.SetName(\"ModelConfig\");\n",
    "wspace->import(modelConfig);\n",
    "wspace->import(*data);\n",
    "wspace->SetName(\"w\");\n",
    "wspace->writeToFile(\"rs101_ws.root\");"
   ]
  },
  {
   "cell_type": "markdown",
   "metadata": {},
   "source": [
    "First, let's use a calculator based on the profile likelihood ratio\n",
    " ProfileLikelihoodCalculator plc(*data, *modelWithConstraints, paramOfInterest);"
   ]
  },
  {
   "cell_type": "code",
   "execution_count": 9,
   "metadata": {
    "collapsed": false
   },
   "outputs": [
    {
     "name": "stdout",
     "output_type": "stream",
     "text": [
      "[#1] INFO:Minization -- createNLL picked up cached consraints from workspace with 2 entries\n",
      "[#1] INFO:Minization --  Including the following contraint terms in minimization: (sigConstraint,bkgConstraint)\n",
      "[#1] INFO:Minization -- The following global observables have been defined: (gSigEff,gSigBkg)\n",
      "[#0] PROGRESS:Minization -- ProfileLikelihoodCalcultor::DoGLobalFit - find MLE \n",
      "[#0] PROGRESS:Minization -- ProfileLikelihoodCalcultor::DoMinimizeNLL - using Minuit / Migrad with strategy 1\n",
      "[#1] INFO:Fitting -- RooAddition::defaultErrorLevel(nll_modelWithConstraints_exampleData_with_constr) Summation contains a RooNLLVar, using its error level\n",
      "[#1] INFO:Minization -- RooMinimizer::optimizeConst: activating const optimization\n",
      "[#1] INFO:Minization --  The following expressions will be evaluated in cache-and-track mode: (countingModel)\n",
      "[#1] INFO:Minization -- \n",
      "  RooFitResult: minimized FCN value: 0.689753, estimated distance to minimum: 9.56454e-09\n",
      "                covariance matrix quality: Full, accurate covariance matrix\n",
      "                Status : MINIMIZE=0 \n",
      "\n",
      "    Floating Parameter    FinalValue +/-  Error   \n",
      "  --------------------  --------------------------\n",
      "           ratioBkgEff    1.0000e+00 +/-  1.99e-01\n",
      "           ratioSigEff    1.0000e+00 +/-  5.00e-02\n",
      "                     s    5.9998e+01 +/-  2.32e+01\n",
      "\n"
     ]
    }
   ],
   "source": [
    "ProfileLikelihoodCalculator plc(*data, modelConfig);\n",
    "plc.SetTestSize(.05);\n",
    "ConfInterval *lrinterval = plc.GetInterval(); // that was easy."
   ]
  },
  {
   "cell_type": "markdown",
   "metadata": {},
   "source": [
    "Let's make a plot"
   ]
  },
  {
   "cell_type": "code",
   "execution_count": 10,
   "metadata": {
    "collapsed": false
   },
   "outputs": [
    {
     "name": "stdout",
     "output_type": "stream",
     "text": [
      "[#1] INFO:Minization -- RooProfileLL::evaluate(nll_modelWithConstraints_exampleData_with_constr_Profile[s]) Creating instance of MINUIT\n",
      "[#1] INFO:Fitting -- RooAddition::defaultErrorLevel(nll_modelWithConstraints_exampleData_with_constr) Summation contains a RooNLLVar, using its error level\n",
      "[#1] INFO:Minization -- RooProfileLL::evaluate(nll_modelWithConstraints_exampleData_with_constr_Profile[s]) determining minimum likelihood for current configurations w.r.t all observable\n",
      "[#1] INFO:Minization -- RooProfileLL::evaluate(nll_modelWithConstraints_exampleData_with_constr_Profile[s]) minimum found at (s=59.9982)\n",
      ".\n",
      "[#1] INFO:Minization -- RooProfileLL::evaluate(nll_modelWithConstraints_exampleData_with_constr_Profile[s]) Creating instance of MINUIT\n",
      "[#1] INFO:Fitting -- RooAddition::defaultErrorLevel(nll_modelWithConstraints_exampleData_with_constr) Summation contains a RooNLLVar, using its error level\n",
      "[#1] INFO:Minization -- RooProfileLL::evaluate(nll_modelWithConstraints_exampleData_with_constr_Profile[s]) determining minimum likelihood for current configurations w.r.t all observable\n",
      "[#0] ERROR:InputArguments -- RooArgSet::checkForDup: ERROR argument with name s is already in this set\n",
      "[#1] INFO:Minization -- RooProfileLL::evaluate(nll_modelWithConstraints_exampleData_with_constr_Profile[s]) minimum found at (s=59.9989)\n",
      ".........................................................................................................................................................................................................."
     ]
    }
   ],
   "source": [
    "TCanvas *dataCanvas = new TCanvas(\"dataCanvas\");\n",
    "dataCanvas->Divide(2, 1);\n",
    "\n",
    "dataCanvas->cd(1);\n",
    "LikelihoodIntervalPlot plotInt((LikelihoodInterval *)lrinterval);\n",
    "plotInt.SetTitle(\"Profile Likelihood Ratio and Posterior for S\");\n",
    "plotInt.Draw();"
   ]
  },
  {
   "cell_type": "markdown",
   "metadata": {},
   "source": [
    "Second, use a calculator based on the feldman cousins technique"
   ]
  },
  {
   "cell_type": "code",
   "execution_count": 11,
   "metadata": {
    "collapsed": false
   },
   "outputs": [],
   "source": [
    "FeldmanCousins fc(*data, modelConfig);\n",
    "fc.UseAdaptiveSampling(true);\n",
    "fc.FluctuateNumDataEntries(false); // number counting analysis: dataset always has 1 entry with N events observed\n",
    "fc.SetNBins(100);                  // number of points to test per parameter\n",
    "fc.SetTestSize(.05);"
   ]
  },
  {
   "cell_type": "markdown",
   "metadata": {},
   "source": [
    "Fc.savebelttofile(true); // optional"
   ]
  },
  {
   "cell_type": "code",
   "execution_count": 12,
   "metadata": {
    "collapsed": false
   },
   "outputs": [
    {
     "name": "stdout",
     "output_type": "stream",
     "text": [
      "\n",
      "=== Using the following for ModelConfig ===\n",
      "Observables:             RooArgSet:: = (obs)\n",
      "Parameters of Interest:  RooArgSet:: = (s)\n",
      "Nuisance Parameters:     RooArgSet:: = (ratioSigEff,ratioBkgEff)\n",
      "Global Observables:      RooArgSet:: = (gSigEff,gSigBkg)\n",
      "PDF:                     RooProdPdf::modelWithConstraints[ countingModel * sigConstraint * bkgConstraint ] = 0.00460195\n",
      "\n",
      "FeldmanCousins: ntoys per point: adaptive\n",
      "FeldmanCousins: nEvents per toy will not fluctuate, will always be 1\n",
      "FeldmanCousins: Model has nuisance parameters, will do profile construction\n",
      "FeldmanCousins: # points to test = 100\n",
      "NeymanConstruction: Prog: 1/100 total MC = 80 this test stat = 3.21178\n",
      " s=0.6 ratioSigEff=0.999981 ratioBkgEff=1.43644 [-1e+30, 4.68588]  in interval = 1\n",
      "\n",
      "NeymanConstruction: Prog: 2/100 total MC = 80 this test stat = 3.08218\n",
      " s=1.8 ratioSigEff=1.00019 ratioBkgEff=1.42695 [-1e+30, 3.71884]  in interval = 1\n",
      "\n",
      "NeymanConstruction: Prog: 3/100 total MC = 80 this test stat = 2.95515\n",
      " s=3 ratioSigEff=1.00055 ratioBkgEff=1.4177 [-1e+30, 3.91238]  in interval = 1\n",
      "\n",
      "NeymanConstruction: Prog: 4/100 total MC = 80 this test stat = 2.83091\n",
      " s=4.2 ratioSigEff=1.00106 ratioBkgEff=1.4085 [-1e+30, 3.65945]  in interval = 1\n",
      "\n",
      "NeymanConstruction: Prog: 5/100 total MC = 80 this test stat = 2.7093\n",
      " s=5.4 ratioSigEff=1.00133 ratioBkgEff=1.39956 [-1e+30, 3.10318]  in interval = 1\n",
      "\n",
      "NeymanConstruction: Prog: 6/100 total MC = 80 this test stat = 2.59036\n",
      " s=6.6 ratioSigEff=1.00159 ratioBkgEff=1.39061 [-1e+30, 2.97611]  in interval = 1\n",
      "\n",
      "NeymanConstruction: Prog: 7/100 total MC = 240 this test stat = 2.47407\n",
      " s=7.8 ratioSigEff=1.00186 ratioBkgEff=1.38228 [-1e+30, 3.15094]  in interval = 1\n",
      "\n",
      "NeymanConstruction: Prog: 8/100 total MC = 80 this test stat = 2.36054\n",
      " s=9 ratioSigEff=1.0021 ratioBkgEff=1.37325 [-1e+30, 3.1239]  in interval = 1\n",
      "\n",
      "NeymanConstruction: Prog: 9/100 total MC = 80 this test stat = 2.24968\n",
      " s=10.2 ratioSigEff=1.00232 ratioBkgEff=1.36423 [-1e+30, 3.40684]  in interval = 1\n",
      "\n",
      "NeymanConstruction: Prog: 10/100 total MC = 80 this test stat = 2.14147\n",
      " s=11.4 ratioSigEff=1.00253 ratioBkgEff=1.35522 [-1e+30, 3.1714]  in interval = 1\n",
      "\n",
      "NeymanConstruction: Prog: 11/100 total MC = 80 this test stat = 2.03601\n",
      " s=12.6 ratioSigEff=1.00268 ratioBkgEff=1.3462 [-1e+30, 3.24645]  in interval = 1\n",
      "\n",
      "NeymanConstruction: Prog: 12/100 total MC = 80 this test stat = 1.93321\n",
      " s=13.8 ratioSigEff=1.00287 ratioBkgEff=1.3372 [-1e+30, 2.53824]  in interval = 1\n",
      "\n",
      "NeymanConstruction: Prog: 13/100 total MC = 80 this test stat = 1.83309\n",
      " s=15 ratioSigEff=1.00308 ratioBkgEff=1.32821 [-1e+30, 2.70016]  in interval = 1\n",
      "\n",
      "NeymanConstruction: Prog: 14/100 total MC = 80 this test stat = 1.73564\n",
      " s=16.2 ratioSigEff=1.00323 ratioBkgEff=1.31922 [-1e+30, 2.77008]  in interval = 1\n",
      "\n",
      "NeymanConstruction: Prog: 15/100 total MC = 80 this test stat = 1.64094\n",
      " s=17.4 ratioSigEff=1.00337 ratioBkgEff=1.31025 [-1e+30, 2.84065]  in interval = 1\n",
      "\n",
      "NeymanConstruction: Prog: 16/100 total MC = 80 this test stat = 1.5489\n",
      " s=18.6 ratioSigEff=1.00347 ratioBkgEff=1.30119 [-1e+30, 2.44334]  in interval = 1\n",
      "\n",
      "NeymanConstruction: Prog: 17/100 total MC = 80 this test stat = 1.4595\n",
      " s=19.8 ratioSigEff=1.00359 ratioBkgEff=1.29224 [-1e+30, 2.51006]  in interval = 1\n",
      "\n",
      "NeymanConstruction: Prog: 18/100 total MC = 80 this test stat = 1.37287\n",
      " s=21 ratioSigEff=1.0037 ratioBkgEff=1.28331 [-1e+30, 2.30853]  in interval = 1\n",
      "\n",
      "NeymanConstruction: Prog: 19/100 total MC = 80 this test stat = 1.28887\n",
      " s=22.2 ratioSigEff=1.00379 ratioBkgEff=1.27438 [-1e+30, 2.11523]  in interval = 1\n",
      "\n",
      "NeymanConstruction: Prog: 20/100 total MC = 80 this test stat = 1.20756\n",
      " s=23.4 ratioSigEff=1.00387 ratioBkgEff=1.26546 [-1e+30, 2.09374]  in interval = 1\n",
      "\n",
      "NeymanConstruction: Prog: 21/100 total MC = 80 this test stat = 1.12892\n",
      " s=24.6 ratioSigEff=1.00394 ratioBkgEff=1.25655 [-1e+30, 2.1559]  in interval = 1\n",
      "\n",
      "NeymanConstruction: Prog: 22/100 total MC = 80 this test stat = 1.05299\n",
      " s=25.8 ratioSigEff=1.00399 ratioBkgEff=1.24765 [-1e+30, 2.48172]  in interval = 1\n",
      "\n",
      "NeymanConstruction: Prog: 23/100 total MC = 80 this test stat = 0.979748\n",
      " s=27 ratioSigEff=1.00403 ratioBkgEff=1.23877 [-1e+30, 1.9489]  in interval = 1\n",
      "\n",
      "NeymanConstruction: Prog: 24/100 total MC = 80 this test stat = 0.909174\n",
      " s=28.2 ratioSigEff=1.00405 ratioBkgEff=1.22989 [-1e+30, 1.92837]  in interval = 1\n",
      "\n",
      "NeymanConstruction: Prog: 25/100 total MC = 80 this test stat = 0.841264\n",
      " s=29.4 ratioSigEff=1.00408 ratioBkgEff=1.22097 [-1e+30, 1.90797]  in interval = 1\n",
      "\n",
      "NeymanConstruction: Prog: 26/100 total MC = 80 this test stat = 0.776027\n",
      " s=30.6 ratioSigEff=1.00408 ratioBkgEff=1.21214 [-1e+30, 2.04836]  in interval = 1\n",
      "\n",
      "NeymanConstruction: Prog: 27/100 total MC = 80 this test stat = 0.713453\n",
      " s=31.8 ratioSigEff=1.00406 ratioBkgEff=1.2033 [-1e+30, 1.42563]  in interval = 1\n",
      "\n",
      "NeymanConstruction: Prog: 28/100 total MC = 80 this test stat = 0.653543\n",
      " s=33 ratioSigEff=1.00403 ratioBkgEff=1.19446 [-1e+30, 1.92614]  in interval = 1\n",
      "\n",
      "NeymanConstruction: Prog: 29/100 total MC = 80 this test stat = 0.596293\n",
      " s=34.2 ratioSigEff=1.00399 ratioBkgEff=1.18563 [-1e+30, 1.53064]  in interval = 1\n",
      "\n",
      "NeymanConstruction: Prog: 30/100 total MC = 80 this test stat = 0.541678\n",
      " s=35.4 ratioSigEff=1.00393 ratioBkgEff=1.17679 [-1e+30, 1.65725]  in interval = 1\n",
      "\n",
      "NeymanConstruction: Prog: 31/100 total MC = 80 this test stat = 0.489749\n",
      " s=36.6 ratioSigEff=1.00386 ratioBkgEff=1.16796 [-1e+30, 1.42567]  in interval = 1\n",
      "\n",
      "NeymanConstruction: Prog: 32/100 total MC = 80 this test stat = 0.440465\n",
      " s=37.8 ratioSigEff=1.00378 ratioBkgEff=1.15914 [-1e+30, 1.40855]  in interval = 1\n",
      "\n",
      "NeymanConstruction: Prog: 33/100 total MC = 80 this test stat = 0.393811\n",
      " s=39 ratioSigEff=1.00369 ratioBkgEff=1.15032 [-1e+30, 1.2593]  in interval = 1\n",
      "\n",
      "NeymanConstruction: Prog: 34/100 total MC = 80 this test stat = 0.349798\n",
      " s=40.2 ratioSigEff=1.00358 ratioBkgEff=1.14153 [-1e+30, 1.30825]  in interval = 1\n",
      "\n",
      "NeymanConstruction: Prog: 35/100 total MC = 80 this test stat = 0.30842\n",
      " s=41.4 ratioSigEff=1.00347 ratioBkgEff=1.13275 [-1e+30, 0.874179]  in interval = 1\n",
      "\n",
      "NeymanConstruction: Prog: 36/100 total MC = 80 this test stat = 0.269673\n",
      " s=42.6 ratioSigEff=1.00334 ratioBkgEff=1.12398 [-1e+30, 1.14949]  in interval = 1\n",
      "\n",
      "NeymanConstruction: Prog: 37/100 total MC = 80 this test stat = 0.233551\n",
      " s=43.8 ratioSigEff=1.00319 ratioBkgEff=1.11573 [-1e+30, 1.07403]  in interval = 1\n",
      "\n",
      "NeymanConstruction: Prog: 38/100 total MC = 80 this test stat = 0.200042\n",
      " s=45 ratioSigEff=1.00303 ratioBkgEff=1.10705 [-1e+30, 1.30848]  in interval = 1\n",
      "\n",
      "NeymanConstruction: Prog: 39/100 total MC = 80 this test stat = 0.169154\n",
      " s=46.2 ratioSigEff=1.00285 ratioBkgEff=1.09838 [-1e+30, 0.987229]  in interval = 1\n",
      "\n",
      "NeymanConstruction: Prog: 40/100 total MC = 80 this test stat = 0.140928\n",
      " s=47.4 ratioSigEff=1.00267 ratioBkgEff=1.08972 [-1e+30, 0.917557]  in interval = 1\n",
      "\n",
      "NeymanConstruction: Prog: 41/100 total MC = 80 this test stat = 0.115258\n",
      " s=48.6 ratioSigEff=1.00247 ratioBkgEff=1.08109 [-1e+30, 0.850481]  in interval = 1\n",
      "\n",
      "NeymanConstruction: Prog: 42/100 total MC = 80 this test stat = 0.0921856\n",
      " s=49.8 ratioSigEff=1.00226 ratioBkgEff=1.07247 [-1e+30, 0.891152]  in interval = 1\n",
      "\n",
      "NeymanConstruction: Prog: 43/100 total MC = 80 this test stat = 0.071704\n",
      " s=51 ratioSigEff=1.00204 ratioBkgEff=1.06387 [-1e+30, 1.04631]  in interval = 1\n",
      "\n",
      "NeymanConstruction: Prog: 44/100 total MC = 80 this test stat = 0.0538069\n",
      " s=52.2 ratioSigEff=1.00181 ratioBkgEff=1.05529 [-1e+30, 0.574131]  in interval = 1\n",
      "\n",
      "NeymanConstruction: Prog: 45/100 total MC = 80 this test stat = 0.0384876\n",
      " s=53.4 ratioSigEff=1.00156 ratioBkgEff=1.04672 [-1e+30, 0.749926]  in interval = 1\n",
      "\n",
      "NeymanConstruction: Prog: 46/100 total MC = 80 this test stat = 0.0257395\n",
      " s=54.6 ratioSigEff=1.00131 ratioBkgEff=1.03818 [-1e+30, 0.839739]  in interval = 1\n",
      "\n",
      "NeymanConstruction: Prog: 47/100 total MC = 80 this test stat = 0.0155555\n",
      " s=55.8 ratioSigEff=1.00104 ratioBkgEff=1.02966 [-1e+30, 0.715161]  in interval = 1\n",
      "\n",
      "NeymanConstruction: Prog: 48/100 total MC = 80 this test stat = 0.00792855\n",
      " s=57 ratioSigEff=1.00075 ratioBkgEff=1.02116 [-1e+30, 0.574145]  in interval = 1\n",
      "\n",
      "NeymanConstruction: Prog: 49/100 total MC = 80 this test stat = 0.00285134\n",
      " s=58.2 ratioSigEff=1.00046 ratioBkgEff=1.01268 [-1e+30, 0.732099]  in interval = 1\n",
      "\n",
      "NeymanConstruction: Prog: 50/100 total MC = 80 this test stat = 0.000340162\n",
      " s=59.4 ratioSigEff=1.00048 ratioBkgEff=1.00391 [-1e+30, 0.692058]  in interval = 1\n",
      "\n",
      "NeymanConstruction: Prog: 51/100 total MC = 80 this test stat = 0.000338383\n",
      " s=60.6 ratioSigEff=0.999508 ratioBkgEff=0.996114 [-1e+30, 0.645986]  in interval = 1\n",
      "\n",
      "NeymanConstruction: Prog: 52/100 total MC = 80 this test stat = 0.00280022\n",
      " s=61.8 ratioSigEff=0.999513 ratioBkgEff=0.987372 [-1e+30, 0.513396]  in interval = 1\n",
      "\n",
      "NeymanConstruction: Prog: 53/100 total MC = 80 this test stat = 0.00784733\n",
      " s=63 ratioSigEff=0.999173 ratioBkgEff=0.978982 [-1e+30, 0.477501]  in interval = 1\n",
      "\n",
      "NeymanConstruction: Prog: 54/100 total MC = 80 this test stat = 0.0154172\n",
      " s=64.2 ratioSigEff=0.998823 ratioBkgEff=0.970615 [-1e+30, 0.721505]  in interval = 1\n",
      "\n",
      "NeymanConstruction: Prog: 55/100 total MC = 80 this test stat = 0.0254769\n",
      " s=65.4 ratioSigEff=0.998461 ratioBkgEff=0.962272 [-1e+30, 0.628705]  in interval = 1\n",
      "\n",
      "NeymanConstruction: Prog: 56/100 total MC = 80 this test stat = 0.0380399\n",
      " s=66.6 ratioSigEff=0.998088 ratioBkgEff=0.953953 [-1e+30, 0.636603]  in interval = 1\n",
      "\n",
      "NeymanConstruction: Prog: 57/100 total MC = 80 this test stat = 0.0530874\n",
      " s=67.8 ratioSigEff=0.997704 ratioBkgEff=0.945659 [-1e+30, 0.596425]  in interval = 1\n",
      "\n",
      "NeymanConstruction: Prog: 58/100 total MC = 80 this test stat = 0.0706058\n",
      " s=69 ratioSigEff=0.997308 ratioBkgEff=0.93739 [-1e+30, 0.865376]  in interval = 1\n",
      "\n",
      "NeymanConstruction: Prog: 59/100 total MC = 80 this test stat = 0.0905894\n",
      " s=70.2 ratioSigEff=0.996902 ratioBkgEff=0.929147 [-1e+30, 0.817861]  in interval = 1\n",
      "\n",
      "NeymanConstruction: Prog: 60/100 total MC = 80 this test stat = 0.11303\n",
      " s=71.4 ratioSigEff=0.996485 ratioBkgEff=0.920929 [-1e+30, 1.06483]  in interval = 1\n",
      "\n",
      "NeymanConstruction: Prog: 61/100 total MC = 80 this test stat = 0.137918\n",
      " s=72.6 ratioSigEff=0.996058 ratioBkgEff=0.912737 [-1e+30, 0.780337]  in interval = 1\n",
      "\n",
      "NeymanConstruction: Prog: 62/100 total MC = 80 this test stat = 0.165246\n",
      " s=73.8 ratioSigEff=0.995619 ratioBkgEff=0.904572 [-1e+30, 0.684448]  in interval = 1\n",
      "\n",
      "NeymanConstruction: Prog: 63/100 total MC = 80 this test stat = 0.195001\n",
      " s=75 ratioSigEff=0.99517 ratioBkgEff=0.896434 [-1e+30, 1.03028]  in interval = 1\n",
      "\n",
      "NeymanConstruction: Prog: 64/100 total MC = 80 this test stat = 0.227176\n",
      " s=76.2 ratioSigEff=0.994711 ratioBkgEff=0.888323 [-1e+30, 0.978198]  in interval = 1\n",
      "\n",
      "NeymanConstruction: Prog: 65/100 total MC = 80 this test stat = 0.261776\n",
      " s=77.4 ratioSigEff=0.994241 ratioBkgEff=0.880239 [-1e+30, 1.11253]  in interval = 1\n",
      "\n",
      "NeymanConstruction: Prog: 66/100 total MC = 80 this test stat = 0.298772\n",
      " s=78.6 ratioSigEff=0.99376 ratioBkgEff=0.872184 [-1e+30, 1.1878]  in interval = 1\n",
      "\n",
      "NeymanConstruction: Prog: 67/100 total MC = 80 this test stat = 0.338144\n",
      " s=79.8 ratioSigEff=0.99327 ratioBkgEff=0.864156 [-1e+30, 1.48097]  in interval = 1\n",
      "\n",
      "NeymanConstruction: Prog: 68/100 total MC = 80 this test stat = 0.379914\n",
      " s=81 ratioSigEff=0.992769 ratioBkgEff=0.856158 [-1e+30, 1.56743]  in interval = 1\n",
      "\n",
      "NeymanConstruction: Prog: 69/100 total MC = 80 this test stat = 0.424071\n",
      " s=82.2 ratioSigEff=0.992258 ratioBkgEff=0.848188 [-1e+30, 1.28528]  in interval = 1\n",
      "\n",
      "NeymanConstruction: Prog: 70/100 total MC = 80 this test stat = 0.470561\n",
      " s=83.4 ratioSigEff=0.991737 ratioBkgEff=0.840248 [-1e+30, 1.43791]  in interval = 1\n",
      "\n",
      "NeymanConstruction: Prog: 71/100 total MC = 80 this test stat = 0.519388\n",
      " s=84.6 ratioSigEff=0.991206 ratioBkgEff=0.832337 [-1e+30, 1.84071]  in interval = 1\n",
      "\n",
      "NeymanConstruction: Prog: 72/100 total MC = 80 this test stat = 0.570629\n",
      " s=85.8 ratioSigEff=0.990665 ratioBkgEff=0.824456 [-1e+30, 1.31507]  in interval = 1\n",
      "\n",
      "NeymanConstruction: Prog: 73/100 total MC = 80 this test stat = 0.624119\n",
      " s=87 ratioSigEff=0.990114 ratioBkgEff=0.816606 [-1e+30, 1.18907]  in interval = 1\n",
      "\n",
      "NeymanConstruction: Prog: 74/100 total MC = 80 this test stat = 0.679954\n",
      " s=88.2 ratioSigEff=0.989554 ratioBkgEff=0.808786 [-1e+30, 1.33487]  in interval = 1\n",
      "\n",
      "NeymanConstruction: Prog: 75/100 total MC = 80 this test stat = 0.738064\n",
      " s=89.4 ratioSigEff=0.988831 ratioBkgEff=0.800144 [-1e+30, 1.56433]  in interval = 1\n",
      "\n",
      "NeymanConstruction: Prog: 76/100 total MC = 80 this test stat = 0.798499\n",
      " s=90.6 ratioSigEff=0.988237 ratioBkgEff=0.792303 [-1e+30, 1.49944]  in interval = 1\n",
      "\n",
      "NeymanConstruction: Prog: 77/100 total MC = 80 this test stat = 0.861245\n",
      " s=91.8 ratioSigEff=0.987632 ratioBkgEff=0.784488 [-1e+30, 1.7418]  in interval = 1\n",
      "\n",
      "NeymanConstruction: Prog: 78/100 total MC = 80 this test stat = 0.926247\n",
      " s=93 ratioSigEff=0.987017 ratioBkgEff=0.7767 [-1e+30, 1.37459]  in interval = 1\n",
      "\n",
      "NeymanConstruction: Prog: 79/100 total MC = 80 this test stat = 0.993496\n",
      " s=94.2 ratioSigEff=0.986393 ratioBkgEff=0.76894 [-1e+30, 2.1909]  in interval = 1\n",
      "\n",
      "NeymanConstruction: Prog: 80/100 total MC = 80 this test stat = 1.06297\n",
      " s=95.4 ratioSigEff=0.985758 ratioBkgEff=0.761207 [-1e+30, 1.85545]  in interval = 1\n",
      "\n",
      "NeymanConstruction: Prog: 81/100 total MC = 80 this test stat = 1.13473\n",
      " s=96.6 ratioSigEff=0.985113 ratioBkgEff=0.753502 [-1e+30, 1.86619]  in interval = 1\n",
      "\n",
      "NeymanConstruction: Prog: 82/100 total MC = 80 this test stat = 1.20872\n",
      " s=97.8 ratioSigEff=0.984458 ratioBkgEff=0.745825 [-1e+30, 2.41018]  in interval = 1\n",
      "\n",
      "NeymanConstruction: Prog: 83/100 total MC = 80 this test stat = 1.28491\n",
      " s=99 ratioSigEff=0.983794 ratioBkgEff=0.738176 [-1e+30, 2.4215]  in interval = 1\n",
      "\n",
      "NeymanConstruction: Prog: 84/100 total MC = 80 this test stat = 1.36329\n",
      " s=100.2 ratioSigEff=0.983119 ratioBkgEff=0.730555 [-1e+30, 2.43281]  in interval = 1\n",
      "\n",
      "NeymanConstruction: Prog: 85/100 total MC = 80 this test stat = 1.44387\n",
      " s=101.4 ratioSigEff=0.982436 ratioBkgEff=0.722963 [-1e+30, 2.44404]  in interval = 1\n",
      "\n",
      "NeymanConstruction: Prog: 86/100 total MC = 80 this test stat = 1.52662\n",
      " s=102.6 ratioSigEff=0.981742 ratioBkgEff=0.7154 [-1e+30, 2.09032]  in interval = 1\n",
      "\n",
      "NeymanConstruction: Prog: 87/100 total MC = 80 this test stat = 1.61153\n",
      " s=103.8 ratioSigEff=0.981039 ratioBkgEff=0.707866 [-1e+30, 2.76135]  in interval = 1\n",
      "\n",
      "NeymanConstruction: Prog: 88/100 total MC = 80 this test stat = 1.69863\n",
      " s=105 ratioSigEff=0.980326 ratioBkgEff=0.700362 [-1e+30, 2.20046]  in interval = 1\n",
      "\n",
      "NeymanConstruction: Prog: 89/100 total MC = 80 this test stat = 1.78786\n",
      " s=106.2 ratioSigEff=0.979605 ratioBkgEff=0.692886 [-1e+30, 2.58534]  in interval = 1\n",
      "\n",
      "NeymanConstruction: Prog: 90/100 total MC = 80 this test stat = 1.87921\n",
      " s=107.4 ratioSigEff=0.978873 ratioBkgEff=0.685441 [-1e+30, 2.89797]  in interval = 1\n",
      "\n",
      "NeymanConstruction: Prog: 91/100 total MC = 80 this test stat = 1.97265\n",
      " s=108.6 ratioSigEff=0.978133 ratioBkgEff=0.678026 [-1e+30, 3.1204]  in interval = 1\n",
      "\n",
      "NeymanConstruction: Prog: 92/100 total MC = 80 this test stat = 2.06825\n",
      " s=109.8 ratioSigEff=0.977383 ratioBkgEff=0.670641 [-1e+30, 3.0252]  in interval = 1\n",
      "\n",
      "NeymanConstruction: Prog: 93/100 total MC = 80 this test stat = 2.16592\n",
      " s=111 ratioSigEff=0.976625 ratioBkgEff=0.663286 [-1e+30, 2.93195]  in interval = 1\n",
      "\n",
      "NeymanConstruction: Prog: 94/100 total MC = 80 this test stat = 2.26567\n",
      " s=112.2 ratioSigEff=0.975857 ratioBkgEff=0.655962 [-1e+30, 3.15451]  in interval = 1\n",
      "\n",
      "NeymanConstruction: Prog: 95/100 total MC = 80 this test stat = 2.36747\n",
      " s=113.4 ratioSigEff=0.975049 ratioBkgEff=0.648489 [-1e+30, 3.05911]  in interval = 1\n",
      "\n",
      "NeymanConstruction: Prog: 96/100 total MC = 80 this test stat = 2.47134\n",
      " s=114.6 ratioSigEff=0.97426 ratioBkgEff=0.641206 [-1e+30, 2.96561]  in interval = 1\n",
      "\n",
      "NeymanConstruction: Prog: 97/100 total MC = 80 this test stat = 2.57725\n",
      " s=115.8 ratioSigEff=0.973462 ratioBkgEff=0.633952 [-1e+30, 3.5205]  in interval = 1\n",
      "\n",
      "NeymanConstruction: Prog: 98/100 total MC = 720 this test stat = 2.68519\n",
      " s=117 ratioSigEff=0.972655 ratioBkgEff=0.626728 [-1e+30, 3.19948]  in interval = 1\n",
      "\n",
      "NeymanConstruction: Prog: 99/100 total MC = 80 this test stat = 2.79514\n",
      " s=118.2 ratioSigEff=0.971839 ratioBkgEff=0.619535 [-1e+30, 3.43015]  in interval = 1\n",
      "\n",
      "NeymanConstruction: Prog: 100/100 total MC = 80 this test stat = 2.90706\n",
      " s=119.4 ratioSigEff=0.971013 ratioBkgEff=0.612371 [-1e+30, 3.55406]  in interval = 1\n",
      "\n",
      "[#1] INFO:Eval -- 100 points in interval\n",
      "\n",
      "[#1] INFO:Minization -- createNLL picked up cached consraints from workspace with 2 entries\n",
      "[#1] INFO:Minization --  Including the following contraint terms in minimization: (sigConstraint,bkgConstraint)\n",
      "[#1] INFO:Fitting -- RooAddition::defaultErrorLevel(nll_modelWithConstraints_exampleData_with_constr) Summation contains a RooNLLVar, using its error level\n",
      "[#1] INFO:Minization -- RooMinimizer::optimizeConst: activating const optimization\n",
      "[#1] INFO:Minization --  The following expressions will be evaluated in cache-and-track mode: (countingModel)\n",
      " **********\n",
      " **    1 **SET PRINT           1\n",
      " **********\n",
      " **********\n",
      " **    2 **SET NOGRAD\n",
      " **********\n",
      " PARAMETER DEFINITIONS:\n",
      "    NO.   NAME         VALUE      STEP SIZE      LIMITS\n",
      "     1 ratioBkgEff   6.12371e-01  1.20943e-01    0.00000e+00  3.00000e+00\n",
      "     2 ratioSigEff   9.71013e-01  4.85593e-02    0.00000e+00  3.00000e+00\n",
      "     3 s            1.19400e+02  3.00000e-01    0.00000e+00  1.20000e+02\n",
      " **********\n",
      " **    3 **SET ERR         0.5\n",
      " **********\n",
      " **********\n",
      " **    4 **SET PRINT           1\n",
      " **********\n",
      " **********\n",
      " **    5 **SET STR           1\n",
      " **********\n",
      " NOW USING STRATEGY  1: TRY TO BALANCE SPEED AGAINST RELIABILITY\n",
      " **********\n",
      " **    6 **MIGRAD        1500           1\n",
      " **********\n",
      " FIRST CALL TO USER FUNCTION AT NEW START POINT, WITH IFLAG=4.\n",
      " START MIGRAD MINIMIZATION.  STRATEGY  1.  CONVERGENCE WHEN EDM .LT. 1.00e-03\n",
      " FCN=4.91605 FROM MIGRAD    STATUS=INITIATE       27 CALLS          28 TOTAL\n",
      "                     EDM= unknown      STRATEGY= 1      NO ERROR MATRIX       \n",
      "  EXT PARAMETER               CURRENT GUESS       STEP         FIRST   \n",
      "  NO.   NAME      VALUE            ERROR          SIZE      DERIVATIVE \n",
      "   1  ratioBkgEff   6.12371e-01   1.20943e-01   0.00000e+00  -1.48191e+01\n",
      "   2  ratioSigEff   9.71013e-01   4.85593e-02   0.00000e+00  -1.97878e+01\n",
      "   3  s            9.75908e+01   3.00000e-01  -7.52185e-01  -1.16463e+00\n",
      "                               ERR DEF= 0.5\n",
      " MIGRAD MINIMIZATION HAS CONVERGED.\n",
      " MIGRAD WILL VERIFY CONVERGENCE AND ERROR MATRIX.\n",
      " COVARIANCE MATRIX CALCULATED SUCCESSFULLY\n",
      " FCN=2.81893 FROM MIGRAD    STATUS=CONVERGED      79 CALLS          80 TOTAL\n",
      "                     EDM=1.35233e-06    STRATEGY= 1      ERROR MATRIX ACCURATE \n",
      "  EXT PARAMETER                                   STEP         FIRST   \n",
      "  NO.   NAME      VALUE            ERROR          SIZE      DERIVATIVE \n",
      "   1  ratioBkgEff   1.00007e+00   1.99245e-01   9.52486e-05   8.82152e-03\n",
      "   2  ratioSigEff   1.00005e+00   4.99902e-02   4.32605e-05   3.08391e-02\n",
      "   3  s            5.99980e+01   2.32204e+01   2.65567e-04   2.76682e-03\n",
      "                               ERR DEF= 0.5\n",
      " EXTERNAL ERROR MATRIX.    NDIM=  25    NPAR=  3    ERR DEF=0.5\n",
      "  3.996e-02  9.390e-07 -3.996e+00 \n",
      "  9.390e-07  2.500e-03 -1.501e-01 \n",
      " -3.996e+00 -1.501e-01  5.685e+02 \n",
      " PARAMETER  CORRELATION COEFFICIENTS  \n",
      "       NO.  GLOBAL      1      2      3\n",
      "        1  0.84499   1.000  0.000 -0.838\n",
      "        2  0.23083   0.000  1.000 -0.126\n",
      "        3  0.84767  -0.838 -0.126  1.000\n",
      " **********\n",
      " **    7 **SET ERR         0.5\n",
      " **********\n",
      " **********\n",
      " **    8 **SET PRINT           1\n",
      " **********\n",
      " **********\n",
      " **    9 **HESSE        1500\n",
      " **********\n",
      " COVARIANCE MATRIX CALCULATED SUCCESSFULLY\n",
      " FCN=2.81893 FROM HESSE     STATUS=OK             16 CALLS          96 TOTAL\n",
      "                     EDM=1.35232e-06    STRATEGY= 1      ERROR MATRIX ACCURATE \n",
      "  EXT PARAMETER                                INTERNAL      INTERNAL  \n",
      "  NO.   NAME      VALUE            ERROR       STEP SIZE       VALUE   \n",
      "   1  ratioBkgEff   1.00007e+00   1.99312e-01   1.90497e-05  -3.39791e-01\n",
      "   2  ratioSigEff   1.00005e+00   4.99897e-02   8.65209e-06  -3.39803e-01\n",
      "   3  s            5.99980e+01   2.32275e+01   5.31134e-05  -3.30615e-05\n",
      "                               ERR DEF= 0.5\n",
      " EXTERNAL ERROR MATRIX.    NDIM=  25    NPAR=  3    ERR DEF=0.5\n",
      "  3.999e-02  5.161e-07 -3.999e+00 \n",
      "  5.161e-07  2.500e-03 -1.501e-01 \n",
      " -3.999e+00 -1.501e-01  5.689e+02 \n",
      " PARAMETER  CORRELATION COEFFICIENTS  \n",
      "       NO.  GLOBAL      1      2      3\n",
      "        1  0.84511   1.000  0.000 -0.838\n",
      "        2  0.23079   0.000  1.000 -0.126\n",
      "        3  0.84778  -0.838 -0.126  1.000\n",
      "[#1] INFO:Minization -- RooMinimizer::optimizeConst: deactivating const optimization\n"
     ]
    }
   ],
   "source": [
    "ConfInterval *fcint = NULL;\n",
    "fcint = fc.GetInterval(); // that was easy.\n",
    "\n",
    "RooFitResult *fit = modelWithConstraints->fitTo(*data, Save(true));"
   ]
  },
  {
   "cell_type": "markdown",
   "metadata": {},
   "source": [
    "Third, use a calculator based on markov chain monte carlo\n",
    " Before configuring the calculator, let's make a ProposalFunction\n",
    " that will achieve a high acceptance rate"
   ]
  },
  {
   "cell_type": "code",
   "execution_count": 13,
   "metadata": {
    "collapsed": false
   },
   "outputs": [
    {
     "name": "stdout",
     "output_type": "stream",
     "text": [
      "[#1] INFO:Minization -- createNLL picked up cached consraints from workspace with 2 entries\n",
      "[#1] INFO:Minization --  Including the following contraint terms in minimization: (sigConstraint,bkgConstraint)\n",
      "[#1] INFO:Minization -- The following global observables have been defined: (gSigEff,gSigBkg)\n",
      "Metropolis-Hastings progress: ....................................................................................................\n",
      "[#1] INFO:Eval -- Proposal acceptance rate: 48.275%\n",
      "[#1] INFO:Eval -- Number of steps in chain: 9655\n"
     ]
    }
   ],
   "source": [
    "ProposalHelper ph;\n",
    "ph.SetVariables((RooArgSet &)fit->floatParsFinal());\n",
    "ph.SetCovMatrix(fit->covarianceMatrix());\n",
    "ph.SetUpdateProposalParameters(true);\n",
    "ph.SetCacheSize(100);\n",
    "ProposalFunction *pdfProp = ph.GetProposalFunction(); // that was easy\n",
    "\n",
    "MCMCCalculator mc(*data, modelConfig);\n",
    "mc.SetNumIters(20000);    // steps to propose in the chain\n",
    "mc.SetTestSize(.05);      // 95% CL\n",
    "mc.SetNumBurnInSteps(40); // ignore first N steps in chain as \"burn in\"\n",
    "mc.SetProposalFunction(*pdfProp);\n",
    "mc.SetLeftSideTailFraction(0.5);                        // find a \"central\" interval\n",
    "MCMCInterval *mcInt = (MCMCInterval *)mc.GetInterval(); // that was easy"
   ]
  },
  {
   "cell_type": "markdown",
   "metadata": {},
   "source": [
    "Get lower and upper limits from profile calculator"
   ]
  },
  {
   "cell_type": "code",
   "execution_count": 14,
   "metadata": {
    "collapsed": false
   },
   "outputs": [
    {
     "name": "stdout",
     "output_type": "stream",
     "text": [
      "Profile lower limit on s = 13.9497\n",
      "Profile upper limit on s = 107.95\n"
     ]
    }
   ],
   "source": [
    "cout << \"Profile lower limit on s = \" << ((LikelihoodInterval *)lrinterval)->LowerLimit(*s) << endl;\n",
    "cout << \"Profile upper limit on s = \" << ((LikelihoodInterval *)lrinterval)->UpperLimit(*s) << endl;"
   ]
  },
  {
   "cell_type": "markdown",
   "metadata": {},
   "source": [
    "Get lower and upper limits from feldmancousins with profile construction"
   ]
  },
  {
   "cell_type": "code",
   "execution_count": 15,
   "metadata": {
    "collapsed": false
   },
   "outputs": [
    {
     "name": "stdout",
     "output_type": "stream",
     "text": [
      "FC lower limit on s = 0.6\n",
      "FC upper limit on s = 119.4\n"
     ]
    }
   ],
   "source": [
    "if (fcint != NULL) {\n",
    "   double fcul = ((PointSetInterval *)fcint)->UpperLimit(*s);\n",
    "   double fcll = ((PointSetInterval *)fcint)->LowerLimit(*s);\n",
    "   cout << \"FC lower limit on s = \" << fcll << endl;\n",
    "   cout << \"FC upper limit on s = \" << fcul << endl;\n",
    "   TLine *fcllLine = new TLine(fcll, 0, fcll, 1);\n",
    "   TLine *fculLine = new TLine(fcul, 0, fcul, 1);\n",
    "   fcllLine->SetLineColor(kRed);\n",
    "   fculLine->SetLineColor(kRed);\n",
    "   fcllLine->Draw(\"same\");\n",
    "   fculLine->Draw(\"same\");\n",
    "   dataCanvas->Update();\n",
    "}"
   ]
  },
  {
   "cell_type": "markdown",
   "metadata": {},
   "source": [
    "Plot mcmc interval and print some statistics"
   ]
  },
  {
   "cell_type": "code",
   "execution_count": 16,
   "metadata": {
    "collapsed": false
   },
   "outputs": [
    {
     "name": "stdout",
     "output_type": "stream",
     "text": [
      "MCMC lower limit on s = 18.5269\n",
      "MCMC upper limit on s = 103.567\n",
      "MCMC Actual confidence level: 0.949952\n"
     ]
    }
   ],
   "source": [
    "MCMCIntervalPlot mcPlot(*mcInt);\n",
    "mcPlot.SetLineColor(kMagenta);\n",
    "mcPlot.SetLineWidth(2);\n",
    "mcPlot.Draw(\"same\");\n",
    "\n",
    "double mcul = mcInt->UpperLimit(*s);\n",
    "double mcll = mcInt->LowerLimit(*s);\n",
    "cout << \"MCMC lower limit on s = \" << mcll << endl;\n",
    "cout << \"MCMC upper limit on s = \" << mcul << endl;\n",
    "cout << \"MCMC Actual confidence level: \" << mcInt->GetActualConfidenceLevel() << endl;"
   ]
  },
  {
   "cell_type": "markdown",
   "metadata": {},
   "source": [
    "3-d plot of the parameter points"
   ]
  },
  {
   "cell_type": "code",
   "execution_count": 17,
   "metadata": {
    "collapsed": false
   },
   "outputs": [],
   "source": [
    "dataCanvas->cd(2);"
   ]
  },
  {
   "cell_type": "markdown",
   "metadata": {},
   "source": [
    "Also plot the points in the markov chain"
   ]
  },
  {
   "cell_type": "code",
   "execution_count": 18,
   "metadata": {
    "collapsed": false
   },
   "outputs": [
    {
     "name": "stdout",
     "output_type": "stream",
     "text": [
      "[#0] ERROR:InputArguments -- RooArgSet::checkForDup: ERROR argument with name weight_MarkovChain_local_ is already in this set\n",
      "plotting the chain data - nentries = 9655\n"
     ]
    }
   ],
   "source": [
    "RooDataSet *chainData = mcInt->GetChainAsDataSet();\n",
    "\n",
    "assert(chainData);\n",
    "std::cout << \"plotting the chain data - nentries = \" << chainData->numEntries() << std::endl;\n",
    "TTree *chain = RooStats::GetAsTTree(\"chainTreeData\", \"chainTreeData\", *chainData);\n",
    "assert(chain);\n",
    "chain->SetMarkerStyle(6);\n",
    "chain->SetMarkerColor(kRed);\n",
    "\n",
    "chain->Draw(\"s:ratioSigEff:ratioBkgEff\", \"nll_MarkovChain_local_\", \"box\"); // 3-d box proportional to posterior"
   ]
  },
  {
   "cell_type": "markdown",
   "metadata": {},
   "source": [
    "The points used in the profile construction"
   ]
  },
  {
   "cell_type": "code",
   "execution_count": 19,
   "metadata": {
    "collapsed": false
   },
   "outputs": [
    {
     "name": "stdout",
     "output_type": "stream",
     "text": [
      "plotting the scanned points used in the frequentist construction - npoints = 100\n"
     ]
    }
   ],
   "source": [
    "RooDataSet *parScanData = (RooDataSet *)fc.GetPointsToScan();\n",
    "assert(parScanData);\n",
    "std::cout << \"plotting the scanned points used in the frequentist construction - npoints = \"\n",
    "          << parScanData->numEntries() << std::endl;"
   ]
  },
  {
   "cell_type": "markdown",
   "metadata": {},
   "source": [
    "Getting the tree and drawing it -crashes (very strange....);\n",
    " TTree* parameterScan =  RooStats::GetAsTTree(\"parScanTreeData\",\"parScanTreeData\",*parScanData);\n",
    " assert(parameterScan);\n",
    " parameterScan->Draw(\"s:ratioSigEff:ratioBkgEff\",\"\",\"goff\");"
   ]
  },
  {
   "cell_type": "code",
   "execution_count": 20,
   "metadata": {
    "collapsed": false
   },
   "outputs": [],
   "source": [
    "TGraph2D *gr = new TGraph2D(parScanData->numEntries());\n",
    "for (int ievt = 0; ievt < parScanData->numEntries(); ++ievt) {\n",
    "   const RooArgSet *evt = parScanData->get(ievt);\n",
    "   double x = evt->getRealValue(\"ratioBkgEff\");\n",
    "   double y = evt->getRealValue(\"ratioSigEff\");\n",
    "   double z = evt->getRealValue(\"s\");\n",
    "   gr->SetPoint(ievt, x, y, z);\n",
    "   // std::cout << ievt << \"  \" << x << \"  \" << y << \"  \" << z << std::endl;\n",
    "}\n",
    "gr->SetMarkerStyle(24);\n",
    "gr->Draw(\"P SAME\");\n",
    "\n",
    "delete wspace;\n",
    "delete lrinterval;\n",
    "delete mcInt;\n",
    "delete fcint;\n",
    "delete data;"
   ]
  },
  {
   "cell_type": "markdown",
   "metadata": {},
   "source": [
    "Print timing info"
   ]
  },
  {
   "cell_type": "code",
   "execution_count": 21,
   "metadata": {
    "collapsed": false
   },
   "outputs": [
    {
     "name": "stdout",
     "output_type": "stream",
     "text": [
      "Real time 0:00:13, CP time 11.830\n"
     ]
    }
   ],
   "source": [
    "t.Stop();\n",
    "t.Print();"
   ]
  },
  {
   "cell_type": "markdown",
   "metadata": {},
   "source": [
    "Draw all canvases "
   ]
  },
  {
   "cell_type": "code",
   "execution_count": 22,
   "metadata": {
    "collapsed": false
   },
   "outputs": [
    {
     "data": {
      "image/png": "[encoded data removed]",
      "text/plain": [
       "<IPython.core.display.Image object>"
      ]
     },
     "metadata": {},
     "output_type": "display_data"
    }
   ],
   "source": [
    "gROOT->GetListOfCanvases()->Draw()"
   ]
  }
 ],
 "metadata": {
  "kernelspec": {
   "display_name": "ROOT C++",
   "language": "c++",
   "name": "root"
  },
  "language_info": {
   "codemirror_mode": "text/x-c++src",
   "file_extension": ".C",
   "mimetype": " text/x-c++src",
   "name": "c++"
  }
 },
 "nbformat": 4,
 "nbformat_minor": 2
}
