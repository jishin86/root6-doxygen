{
 "cells": [
  {
   "cell_type": "markdown",
   "metadata": {},
   "source": [
    "# Rf 5 0 1_Simultaneouspdf\n",
    "Organisation and simultaneous fits: using simultaneous p.d.f.s to describe simultaneous fits to multiple datasets\n",
    "\n",
    "\n",
    "\n",
    "**Author:** 07/2008 - Wouter Verkerke  \n",
    "<i><small>This notebook tutorial was automatically generated with <a href= \"https://github.com/root-project/root/blob/master/documentation/doxygen/converttonotebook.py\">ROOTBOOK-izer</a> from the macro found in the ROOT repository  on Thursday, August 29, 2019 at 02:54 AM.</small></i>"
   ]
  },
  {
   "cell_type": "code",
   "execution_count": 1,
   "metadata": {
    "collapsed": false
   },
   "outputs": [],
   "source": [
    "%%cpp -d\n",
    "#include \"RooRealVar.h\"\n",
    "#include \"RooDataSet.h\"\n",
    "#include \"RooGaussian.h\"\n",
    "#include \"RooConstVar.h\"\n",
    "#include \"RooChebychev.h\"\n",
    "#include \"RooAddPdf.h\"\n",
    "#include \"RooSimultaneous.h\"\n",
    "#include \"RooCategory.h\"\n",
    "#include \"TCanvas.h\"\n",
    "#include \"TAxis.h\"\n",
    "#include \"RooPlot.h\""
   ]
  },
  {
   "cell_type": "code",
   "execution_count": 2,
   "metadata": {
    "collapsed": false
   },
   "outputs": [],
   "source": [
    "%%cpp -d\n",
    "// This is a workaround to make sure the namespace is used inside functions\n",
    "using namespace RooFit;"
   ]
  },
  {
   "cell_type": "markdown",
   "metadata": {},
   "source": [
    "Create model for physics sample\n",
    " -------------------------------------------------------------"
   ]
  },
  {
   "cell_type": "markdown",
   "metadata": {},
   "source": [
    "Create observables"
   ]
  },
  {
   "cell_type": "code",
   "execution_count": 3,
   "metadata": {
    "collapsed": false
   },
   "outputs": [
    {
     "name": "stdout",
     "output_type": "stream",
     "text": [
      "\n",
      "\u001b[1mRooFit v3.60 -- Developed by Wouter Verkerke and David Kirkby\u001b[0m \n",
      "                Copyright (C) 2000-2013 NIKHEF, University of California & Stanford University\n",
      "                All rights reserved, please read http://roofit.sourceforge.net/license.txt\n",
      "\n"
     ]
    }
   ],
   "source": [
    "RooRealVar x(\"x\", \"x\", -8, 8);"
   ]
  },
  {
   "cell_type": "markdown",
   "metadata": {},
   "source": [
    "Construct signal pdf"
   ]
  },
  {
   "cell_type": "code",
   "execution_count": 4,
   "metadata": {
    "collapsed": false
   },
   "outputs": [],
   "source": [
    "RooRealVar mean(\"mean\", \"mean\", 0, -8, 8);\n",
    "RooRealVar sigma(\"sigma\", \"sigma\", 0.3, 0.1, 10);\n",
    "RooGaussian gx(\"gx\", \"gx\", x, mean, sigma);"
   ]
  },
  {
   "cell_type": "markdown",
   "metadata": {},
   "source": [
    "Construct background pdf"
   ]
  },
  {
   "cell_type": "code",
   "execution_count": 5,
   "metadata": {
    "collapsed": false
   },
   "outputs": [],
   "source": [
    "RooRealVar a0(\"a0\", \"a0\", -0.1, -1, 1);\n",
    "RooRealVar a1(\"a1\", \"a1\", 0.004, -1, 1);\n",
    "RooChebychev px(\"px\", \"px\", x, RooArgSet(a0, a1));"
   ]
  },
  {
   "cell_type": "markdown",
   "metadata": {},
   "source": [
    "Construct composite pdf"
   ]
  },
  {
   "cell_type": "code",
   "execution_count": 6,
   "metadata": {
    "collapsed": false
   },
   "outputs": [],
   "source": [
    "RooRealVar f(\"f\", \"f\", 0.2, 0., 1.);\n",
    "RooAddPdf model(\"model\", \"model\", RooArgList(gx, px), f);"
   ]
  },
  {
   "cell_type": "markdown",
   "metadata": {},
   "source": [
    "Create model for control sample\n",
    " --------------------------------------------------------------"
   ]
  },
  {
   "cell_type": "markdown",
   "metadata": {},
   "source": [
    "Construct signal pdf.\n",
    " NOTE that sigma is shared with the signal sample model"
   ]
  },
  {
   "cell_type": "code",
   "execution_count": 7,
   "metadata": {
    "collapsed": false
   },
   "outputs": [],
   "source": [
    "RooRealVar mean_ctl(\"mean_ctl\", \"mean_ctl\", -3, -8, 8);\n",
    "RooGaussian gx_ctl(\"gx_ctl\", \"gx_ctl\", x, mean_ctl, sigma);"
   ]
  },
  {
   "cell_type": "markdown",
   "metadata": {},
   "source": [
    "Construct the background pdf"
   ]
  },
  {
   "cell_type": "code",
   "execution_count": 8,
   "metadata": {
    "collapsed": false
   },
   "outputs": [],
   "source": [
    "RooRealVar a0_ctl(\"a0_ctl\", \"a0_ctl\", -0.1, -1, 1);\n",
    "RooRealVar a1_ctl(\"a1_ctl\", \"a1_ctl\", 0.5, -0.1, 1);\n",
    "RooChebychev px_ctl(\"px_ctl\", \"px_ctl\", x, RooArgSet(a0_ctl, a1_ctl));"
   ]
  },
  {
   "cell_type": "markdown",
   "metadata": {},
   "source": [
    "Construct the composite model"
   ]
  },
  {
   "cell_type": "code",
   "execution_count": 9,
   "metadata": {
    "collapsed": false
   },
   "outputs": [],
   "source": [
    "RooRealVar f_ctl(\"f_ctl\", \"f_ctl\", 0.5, 0., 1.);\n",
    "RooAddPdf model_ctl(\"model_ctl\", \"model_ctl\", RooArgList(gx_ctl, px_ctl), f_ctl);"
   ]
  },
  {
   "cell_type": "markdown",
   "metadata": {},
   "source": [
    "Generate events for both samples\n",
    " ---------------------------------------------------------------"
   ]
  },
  {
   "cell_type": "markdown",
   "metadata": {},
   "source": [
    "Generate 1000 events in x and y from model"
   ]
  },
  {
   "cell_type": "code",
   "execution_count": 10,
   "metadata": {
    "collapsed": false
   },
   "outputs": [],
   "source": [
    "RooDataSet *data = model.generate(RooArgSet(x), 100);\n",
    "RooDataSet *data_ctl = model_ctl.generate(RooArgSet(x), 2000);"
   ]
  },
  {
   "cell_type": "markdown",
   "metadata": {},
   "source": [
    "Create index category and join samples\n",
    " ---------------------------------------------------------------------------"
   ]
  },
  {
   "cell_type": "markdown",
   "metadata": {},
   "source": [
    "Define category to distinguish physics and control samples events"
   ]
  },
  {
   "cell_type": "code",
   "execution_count": 11,
   "metadata": {
    "collapsed": false
   },
   "outputs": [],
   "source": [
    "RooCategory sample(\"sample\", \"sample\");\n",
    "sample.defineType(\"physics\");\n",
    "sample.defineType(\"control\");"
   ]
  },
  {
   "cell_type": "markdown",
   "metadata": {},
   "source": [
    "Construct combined dataset in (x,sample)"
   ]
  },
  {
   "cell_type": "code",
   "execution_count": 12,
   "metadata": {
    "collapsed": false
   },
   "outputs": [],
   "source": [
    "RooDataSet combData(\"combData\", \"combined data\", x, Index(sample), Import(\"physics\", *data),\n",
    "                    Import(\"control\", *data_ctl));"
   ]
  },
  {
   "cell_type": "markdown",
   "metadata": {},
   "source": [
    "Construct a simultaneous pdf in (x,sample)\n",
    " -----------------------------------------------------------------------------------"
   ]
  },
  {
   "cell_type": "markdown",
   "metadata": {},
   "source": [
    "Construct a simultaneous pdf using category sample as index"
   ]
  },
  {
   "cell_type": "code",
   "execution_count": 13,
   "metadata": {
    "collapsed": false
   },
   "outputs": [],
   "source": [
    "RooSimultaneous simPdf(\"simPdf\", \"simultaneous pdf\", sample);"
   ]
  },
  {
   "cell_type": "markdown",
   "metadata": {},
   "source": [
    "Associate model with the physics state and model_ctl with the control state"
   ]
  },
  {
   "cell_type": "code",
   "execution_count": 14,
   "metadata": {
    "collapsed": false
   },
   "outputs": [],
   "source": [
    "simPdf.addPdf(model, \"physics\");\n",
    "simPdf.addPdf(model_ctl, \"control\");"
   ]
  },
  {
   "cell_type": "markdown",
   "metadata": {},
   "source": [
    "Perform a simultaneous fit\n",
    " ---------------------------------------------------"
   ]
  },
  {
   "cell_type": "markdown",
   "metadata": {},
   "source": [
    "Perform simultaneous fit of model to data and model_ctl to data_ctl"
   ]
  },
  {
   "cell_type": "code",
   "execution_count": 15,
   "metadata": {
    "collapsed": false
   },
   "outputs": [
    {
     "name": "stdout",
     "output_type": "stream",
     "text": [
      "[#1] INFO:Minization -- RooMinimizer::optimizeConst: activating const optimization\n",
      "RooAbsTestStatistic::initSimMode: creating slave calculator #0 for state physics (100 dataset entries)\n",
      "RooAbsTestStatistic::initSimMode: creating slave calculator #1 for state control (2000 dataset entries)\n",
      "[#1] INFO:Fitting -- RooAbsTestStatistic::initSimMode: created 2 slave calculators.\n",
      "[#1] INFO:Minization --  The following expressions will be evaluated in cache-and-track mode: (gx,px)\n",
      "[#1] INFO:Minization --  The following expressions will be evaluated in cache-and-track mode: (gx_ctl,px_ctl)\n",
      " **********\n",
      " **    1 **SET PRINT           1\n",
      " **********\n",
      " **********\n",
      " **    2 **SET NOGRAD\n",
      " **********\n",
      " PARAMETER DEFINITIONS:\n",
      "    NO.   NAME         VALUE      STEP SIZE      LIMITS\n",
      "     1 a0          -1.00000e-01  2.00000e-01   -1.00000e+00  1.00000e+00\n",
      "     2 a0_ctl      -1.00000e-01  2.00000e-01   -1.00000e+00  1.00000e+00\n",
      "     3 a1           4.00000e-03  2.00000e-01   -1.00000e+00  1.00000e+00\n",
      "     4 a1_ctl       5.00000e-01  1.10000e-01   -1.00000e-01  1.00000e+00\n",
      "     5 f            2.00000e-01  1.00000e-01    0.00000e+00  1.00000e+00\n",
      "     6 f_ctl        5.00000e-01  1.00000e-01    0.00000e+00  1.00000e+00\n",
      "     7 mean         0.00000e+00  1.60000e+00   -8.00000e+00  8.00000e+00\n",
      "     8 mean_ctl    -3.00000e+00  1.60000e+00   -8.00000e+00  8.00000e+00\n",
      "     9 sigma        3.00000e-01  1.00000e-01    1.00000e-01  1.00000e+01\n",
      " **********\n",
      " **    3 **SET ERR         0.5\n",
      " **********\n",
      " **********\n",
      " **    4 **SET PRINT           1\n",
      " **********\n",
      " **********\n",
      " **    5 **SET STR           1\n",
      " **********\n",
      " NOW USING STRATEGY  1: TRY TO BALANCE SPEED AGAINST RELIABILITY\n",
      " **********\n",
      " **    6 **MIGRAD        4500           1\n",
      " **********\n",
      " FIRST CALL TO USER FUNCTION AT NEW START POINT, WITH IFLAG=4.\n",
      " START MIGRAD MINIMIZATION.  STRATEGY  1.  CONVERGENCE WHEN EDM .LT. 1.00e-03\n",
      " FCN=5785.6 FROM MIGRAD    STATUS=INITIATE       59 CALLS          60 TOTAL\n",
      "                     EDM= unknown      STRATEGY= 1      NO ERROR MATRIX       \n",
      "  EXT PARAMETER               CURRENT GUESS       STEP         FIRST   \n",
      "  NO.   NAME      VALUE            ERROR          SIZE      DERIVATIVE \n",
      "   1  a0          -1.00000e-01   2.00000e-01   0.00000e+00  -1.10268e+01\n",
      "   2  a0_ctl      -1.00000e-01   2.00000e-01   0.00000e+00  -3.03978e+01\n",
      "   3  a1           4.00000e-03   2.00000e-01   0.00000e+00  -4.60041e+00\n",
      "   4  a1_ctl       5.00000e-01   1.10000e-01   0.00000e+00  -1.47265e+01\n",
      "   5  f            2.00000e-01   1.00000e-01   0.00000e+00   2.26641e+01\n",
      "   6  f_ctl        5.00000e-01   1.00000e-01   0.00000e+00   1.20766e+01\n",
      "   7  mean        -3.77080e-01   1.60000e+00  -4.71524e-02   2.02184e+00\n",
      "   8  mean_ctl    -3.00000e+00   1.60000e+00   0.00000e+00   1.67852e+03\n",
      "   9  sigma        3.00000e-01   1.00000e-01   0.00000e+00  -1.23150e+02\n",
      "                               ERR DEF= 0.5\n",
      " MIGRAD MINIMIZATION HAS CONVERGED.\n",
      " MIGRAD WILL VERIFY CONVERGENCE AND ERROR MATRIX.\n",
      " COVARIANCE MATRIX CALCULATED SUCCESSFULLY\n",
      " FCN=5773.95 FROM MIGRAD    STATUS=CONVERGED     215 CALLS         216 TOTAL\n",
      "                     EDM=9.09231e-05    STRATEGY= 1      ERROR MATRIX ACCURATE \n",
      "  EXT PARAMETER                                   STEP         FIRST   \n",
      "  NO.   NAME      VALUE            ERROR          SIZE      DERIVATIVE \n",
      "   1  a0           2.43686e-01   1.75097e-01   9.50931e-03  -7.77735e-03\n",
      "   2  a0_ctl      -4.39571e-03   5.28744e-02   2.72797e-03   6.60274e-02\n",
      "   3  a1           5.26925e-02   1.77733e-01   9.06411e-03   2.03859e-03\n",
      "   4  a1_ctl       5.44744e-01   3.69884e-02   3.54360e-03   8.08507e-02\n",
      "   5  f            6.83909e-02   3.85769e-02   7.72754e-03   1.99892e-02\n",
      "   6  f_ctl        5.02785e-01   1.23886e-02   1.26625e-03  -9.15907e-02\n",
      "   7  mean        -4.64804e-01   2.34303e-01   1.53296e-03   8.01574e-02\n",
      "   8  mean_ctl    -3.02635e+00   1.07683e-02   7.60384e-05  -2.92641e-01\n",
      "   9  sigma        3.07857e-01   8.77009e-03   3.15225e-04   6.75178e-01\n",
      "                               ERR DEF= 0.5\n",
      " EXTERNAL ERROR MATRIX.    NDIM=  25    NPAR=  9    ERR DEF=0.5\n",
      "  3.100e-02 -8.236e-08  1.691e-03 -4.475e-08  2.119e-04 -2.634e-08 -8.743e-04  9.753e-09 -1.074e-07 \n",
      " -8.236e-08  2.798e-03  1.939e-05  1.721e-04  9.709e-06  8.897e-05  9.896e-05 -2.017e-05  5.899e-05 \n",
      "  1.691e-03  1.939e-05  3.193e-02  1.054e-05  1.763e-03  6.202e-06  2.141e-03 -2.297e-06  2.529e-05 \n",
      " -4.475e-08  1.721e-04  1.054e-05  1.370e-03  5.276e-06  5.210e-05  5.377e-05  4.385e-06  3.206e-05 \n",
      "  2.119e-04  9.709e-06  1.763e-03  5.276e-06  1.500e-03  3.105e-06  1.103e-03 -1.150e-06  1.266e-05 \n",
      " -2.634e-08  8.897e-05  6.202e-06  5.210e-05  3.105e-06  1.535e-04  3.165e-05 -4.850e-06  1.887e-05 \n",
      " -8.743e-04  9.896e-05  2.141e-03  5.377e-05  1.103e-03  3.165e-05  5.491e-02 -1.172e-05  1.290e-04 \n",
      "  9.753e-09 -2.017e-05 -2.297e-06  4.385e-06 -1.150e-06 -4.850e-06 -1.172e-05  1.160e-04 -6.986e-06 \n",
      " -1.074e-07  5.899e-05  2.529e-05  3.206e-05  1.266e-05  1.887e-05  1.290e-04 -6.986e-06  7.692e-05 \n",
      " PARAMETER  CORRELATION COEFFICIENTS  \n",
      "       NO.  GLOBAL      1      2      3      4      5      6      7      8      9\n",
      "        1  0.06243   1.000 -0.000  0.054 -0.000  0.031 -0.000 -0.021  0.000 -0.000\n",
      "        2  0.18516  -0.000  1.000  0.002  0.088  0.005  0.136  0.008 -0.035  0.127\n",
      "        3  0.25986   0.054  0.002  1.000  0.002  0.255  0.003  0.051 -0.001  0.016\n",
      "        4  0.15513  -0.000  0.088  0.002  1.000  0.004  0.114  0.006  0.011  0.099\n",
      "        5  0.27900   0.031  0.005  0.255  0.004  1.000  0.006  0.122 -0.003  0.037\n",
      "        6  0.22716  -0.000  0.136  0.003  0.114  0.006  1.000  0.011 -0.036  0.174\n",
      "        7  0.13877  -0.021  0.008  0.051  0.006  0.122  0.011  1.000 -0.005  0.063\n",
      "        8  0.08428   0.000 -0.035 -0.001  0.011 -0.003 -0.036 -0.005  1.000 -0.074\n",
      "        9  0.23447  -0.000  0.127  0.016  0.099  0.037  0.174  0.063 -0.074  1.000\n",
      " **********\n",
      " **    7 **SET ERR         0.5\n",
      " **********\n",
      " **********\n",
      " **    8 **SET PRINT           1\n",
      " **********\n",
      " **********\n",
      " **    9 **HESSE        4500\n",
      " **********\n",
      " COVARIANCE MATRIX CALCULATED SUCCESSFULLY\n",
      " FCN=5773.95 FROM HESSE     STATUS=OK             73 CALLS         289 TOTAL\n",
      "                     EDM=9.09933e-05    STRATEGY= 1      ERROR MATRIX ACCURATE \n",
      "  EXT PARAMETER                                INTERNAL      INTERNAL  \n",
      "  NO.   NAME      VALUE            ERROR       STEP SIZE       VALUE   \n",
      "   1  a0           2.43686e-01   1.75089e-01   1.90186e-03   2.46164e-01\n",
      "   2  a0_ctl      -4.39571e-03   5.28750e-02   5.45594e-04  -4.39572e-03\n",
      "   3  a1           5.26925e-02   1.77738e-01   3.62564e-04   5.27169e-02\n",
      "   4  a1_ctl       5.44744e-01   3.69886e-02   7.08720e-04   1.73125e-01\n",
      "   5  f            6.83909e-02   3.86045e-02   1.54551e-03  -1.04161e+00\n",
      "   6  f_ctl        5.02785e-01   1.23892e-02   2.53250e-04   5.57046e-03\n",
      "   7  mean        -4.64804e-01   2.34476e-01   6.13182e-05  -5.81332e-02\n",
      "   8  mean_ctl    -3.02635e+00   1.07691e-02   1.52077e-05  -3.87952e-01\n",
      "   9  sigma        3.07857e-01   8.77063e-03   6.30449e-05  -1.27998e+00\n",
      "                               ERR DEF= 0.5\n",
      " EXTERNAL ERROR MATRIX.    NDIM=  25    NPAR=  9    ERR DEF=0.5\n",
      "  3.100e-02 -3.186e-08  1.673e-03 -1.730e-08  2.112e-04 -1.019e-08 -8.472e-04  3.826e-09 -4.152e-08 \n",
      " -3.186e-08  2.798e-03  1.944e-05  1.721e-04  9.725e-06  8.903e-05  9.780e-05 -2.018e-05  5.905e-05 \n",
      "  1.673e-03  1.944e-05  3.193e-02  1.056e-05  1.765e-03  6.219e-06  2.280e-03 -2.333e-06  2.532e-05 \n",
      " -1.730e-08  1.721e-04  1.056e-05  1.370e-03  5.282e-06  5.212e-05  5.312e-05  4.372e-06  3.207e-05 \n",
      "  2.112e-04  9.725e-06  1.765e-03  5.282e-06  1.502e-03  3.111e-06  1.167e-03 -1.167e-06  1.267e-05 \n",
      " -1.019e-08  8.903e-05  6.219e-06  5.212e-05  3.111e-06  1.535e-04  3.129e-05 -4.856e-06  1.889e-05 \n",
      " -8.472e-04  9.780e-05  2.280e-03  5.312e-05  1.167e-03  3.129e-05  5.499e-02 -1.174e-05  1.274e-04 \n",
      "  3.826e-09 -2.018e-05 -2.333e-06  4.372e-06 -1.167e-06 -4.856e-06 -1.174e-05  1.160e-04 -7.086e-06 \n",
      " -4.152e-08  5.905e-05  2.532e-05  3.207e-05  1.267e-05  1.889e-05  1.274e-04 -7.086e-06  7.692e-05 \n",
      " PARAMETER  CORRELATION COEFFICIENTS  \n",
      "       NO.  GLOBAL      1      2      3      4      5      6      7      8      9\n",
      "        1  0.06177   1.000 -0.000  0.053 -0.000  0.031 -0.000 -0.021  0.000 -0.000\n",
      "        2  0.18523  -0.000  1.000  0.002  0.088  0.005  0.136  0.008 -0.035  0.127\n",
      "        3  0.25994   0.053  0.002  1.000  0.002  0.255  0.003  0.054 -0.001  0.016\n",
      "        4  0.15515  -0.000  0.088  0.002  1.000  0.004  0.114  0.006  0.011  0.099\n",
      "        5  0.28144   0.031  0.005  0.255  0.004  1.000  0.006  0.128 -0.003  0.037\n",
      "        6  0.22733  -0.000  0.136  0.003  0.114  0.006  1.000  0.011 -0.036  0.174\n",
      "        7  0.14455  -0.021  0.008  0.054  0.006  0.128  0.011  1.000 -0.005  0.062\n",
      "        8  0.08514   0.000 -0.035 -0.001  0.011 -0.003 -0.036 -0.005  1.000 -0.075\n",
      "        9  0.23472  -0.000  0.127  0.016  0.099  0.037  0.174  0.062 -0.075  1.000\n",
      "[#1] INFO:Minization -- RooMinimizer::optimizeConst: deactivating const optimization\n"
     ]
    }
   ],
   "source": [
    "simPdf.fitTo(combData);"
   ]
  },
  {
   "cell_type": "markdown",
   "metadata": {},
   "source": [
    "Plot model slices on data  slices\n",
    " ----------------------------------------------------------------"
   ]
  },
  {
   "cell_type": "markdown",
   "metadata": {},
   "source": [
    "Make a frame for the physics sample"
   ]
  },
  {
   "cell_type": "code",
   "execution_count": 16,
   "metadata": {
    "collapsed": false
   },
   "outputs": [],
   "source": [
    "RooPlot *frame1 = x.frame(Bins(30), Title(\"Physics sample\"));"
   ]
  },
  {
   "cell_type": "markdown",
   "metadata": {},
   "source": [
    "Plot all data tagged as physics sample"
   ]
  },
  {
   "cell_type": "code",
   "execution_count": 17,
   "metadata": {
    "collapsed": false
   },
   "outputs": [
    {
     "name": "stdout",
     "output_type": "stream",
     "text": [
      "[#1] INFO:Plotting -- RooTreeData::plotOn: plotting 100 events out of 2100 total events\n"
     ]
    }
   ],
   "source": [
    "combData.plotOn(frame1, Cut(\"sample==sample::physics\"));"
   ]
  },
  {
   "cell_type": "markdown",
   "metadata": {},
   "source": [
    "Plot \"physics\" slice of simultaneous pdf.\n",
    " NBL You _must_ project the sample index category with data using ProjWData\n",
    " as a RooSimultaneous makes no prediction on the shape in the index category\n",
    " and can thus not be integrated"
   ]
  },
  {
   "cell_type": "code",
   "execution_count": 18,
   "metadata": {
    "collapsed": false
   },
   "outputs": [
    {
     "name": "stdout",
     "output_type": "stream",
     "text": [
      "[#1] INFO:Plotting -- RooSimultaneous::plotOn(simPdf) plot on x represents a slice in the index category (sample)\n",
      "[#1] INFO:Plotting -- RooAbsReal::plotOn(model) slice variable sample was not projected anyway\n",
      "[#1] INFO:Plotting -- RooSimultaneous::plotOn(simPdf) plot on x represents a slice in the index category (sample)\n",
      "[#1] INFO:Plotting -- RooAbsPdf::plotOn(model) directly selected PDF components: (px)\n",
      "[#1] INFO:Plotting -- RooAbsPdf::plotOn(model) indirectly selected PDF components: ()\n",
      "[#1] INFO:Plotting -- RooAbsReal::plotOn(model) slice variable sample was not projected anyway\n"
     ]
    }
   ],
   "source": [
    "simPdf.plotOn(frame1, Slice(sample, \"physics\"), ProjWData(sample, combData));\n",
    "simPdf.plotOn(frame1, Slice(sample, \"physics\"), Components(\"px\"), ProjWData(sample, combData), LineStyle(kDashed));"
   ]
  },
  {
   "cell_type": "markdown",
   "metadata": {},
   "source": [
    "The same plot for the control sample slice"
   ]
  },
  {
   "cell_type": "code",
   "execution_count": 19,
   "metadata": {
    "collapsed": false
   },
   "outputs": [
    {
     "name": "stdout",
     "output_type": "stream",
     "text": [
      "[#1] INFO:Plotting -- RooTreeData::plotOn: plotting 2000 events out of 2100 total events\n",
      "[#1] INFO:Plotting -- RooSimultaneous::plotOn(simPdf) plot on x represents a slice in the index category (sample)\n",
      "[#1] INFO:Plotting -- RooAbsReal::plotOn(model_ctl) slice variable sample was not projected anyway\n",
      "[#1] INFO:Plotting -- RooSimultaneous::plotOn(simPdf) plot on x represents a slice in the index category (sample)\n",
      "[#1] INFO:Plotting -- RooAbsPdf::plotOn(model_ctl) directly selected PDF components: (px_ctl)\n",
      "[#1] INFO:Plotting -- RooAbsPdf::plotOn(model_ctl) indirectly selected PDF components: ()\n",
      "[#1] INFO:Plotting -- RooAbsReal::plotOn(model_ctl) slice variable sample was not projected anyway\n"
     ]
    }
   ],
   "source": [
    "RooPlot *frame2 = x.frame(Bins(30), Title(\"Control sample\"));\n",
    "combData.plotOn(frame2, Cut(\"sample==sample::control\"));\n",
    "simPdf.plotOn(frame2, Slice(sample, \"control\"), ProjWData(sample, combData));\n",
    "simPdf.plotOn(frame2, Slice(sample, \"control\"), Components(\"px_ctl\"), ProjWData(sample, combData),\n",
    "              LineStyle(kDashed));\n",
    "\n",
    "TCanvas *c = new TCanvas(\"rf501_simultaneouspdf\", \"rf403_simultaneouspdf\", 800, 400);\n",
    "c->Divide(2);\n",
    "c->cd(1);\n",
    "gPad->SetLeftMargin(0.15);\n",
    "frame1->GetYaxis()->SetTitleOffset(1.4);\n",
    "frame1->Draw();\n",
    "c->cd(2);\n",
    "gPad->SetLeftMargin(0.15);\n",
    "frame2->GetYaxis()->SetTitleOffset(1.4);\n",
    "frame2->Draw();"
   ]
  },
  {
   "cell_type": "markdown",
   "metadata": {},
   "source": [
    "Draw all canvases "
   ]
  },
  {
   "cell_type": "code",
   "execution_count": 20,
   "metadata": {
    "collapsed": false
   },
   "outputs": [
    {
     "data": {
      "text/html": [
       "\n",
       "<div id=\"root_plot_1\"\n",
       "     style=\"width: 796px; height: 372px\">\n",
       "</div>\n",
       "\n",
       "<script>\n",
       " requirejs.config({\n",
       "     paths: {\n",
       "       'JSRootCore' : 'https://root.cern.ch/js/notebook//scripts/JSRootCore',\n",
       "     }\n",
       "   });\n",
       " require(['JSRootCore'],\n",
       "     function(Core) {\n",
       "       var obj = Core.JSONR_unref({\"_typename\":\"TCanvas\",\"fUniqueID\":0,\"fBits\":53673992,\"fLineColor\":1,\"fLineStyle\":1,\"fLineWidth\":1,\"fFillColor\":0,\"fFillStyle\":1001,\"fLeftMargin\":0.1,\"fRightMargin\":0.1,\"fBottomMargin\":0.1,\"fTopMargin\":0.1,\"fXfile\":2,\"fYfile\":2,\"fAfile\":1,\"fXstat\":0.99,\"fYstat\":0.99,\"fAstat\":2,\"fFrameFillColor\":0,\"fFrameLineColor\":1,\"fFrameFillStyle\":1001,\"fFrameLineStyle\":1,\"fFrameLineWidth\":1,\"fFrameBorderSize\":1,\"fFrameBorderMode\":0,\"fX1\":0,\"fY1\":0,\"fX2\":1,\"fY2\":1,\"fXtoAbsPixelk\":5e-5,\"fXtoPixelk\":5e-5,\"fXtoPixel\":796,\"fYtoAbsPixelk\":372.00005,\"fYtoPixelk\":372.00005,\"fYtoPixel\":-372,\"fUtoAbsPixelk\":5e-5,\"fUtoPixelk\":5e-5,\"fUtoPixel\":796,\"fVtoAbsPixelk\":372.00005,\"fVtoPixelk\":372,\"fVtoPixel\":-372,\"fAbsPixeltoXk\":0,\"fPixeltoXk\":0,\"fPixeltoX\":0.00125628140703518,\"fAbsPixeltoYk\":1,\"fPixeltoYk\":0,\"fPixeltoY\":-0.00268817204301075,\"fXlowNDC\":0,\"fYlowNDC\":0,\"fXUpNDC\":0,\"fYUpNDC\":0,\"fWNDC\":1,\"fHNDC\":1,\"fAbsXlowNDC\":0,\"fAbsYlowNDC\":0,\"fAbsWNDC\":1,\"fAbsHNDC\":1,\"fUxmin\":0,\"fUymin\":0,\"fUxmax\":1,\"fUymax\":1,\"fTheta\":30,\"fPhi\":30,\"fAspectRatio\":0,\"fNumber\":0,\"fTickx\":0,\"fTicky\":0,\"fLogx\":0,\"fLogy\":0,\"fLogz\":0,\"fPadPaint\":0,\"fCrosshair\":0,\"fCrosshairPos\":0,\"fBorderSize\":2,\"fBorderMode\":0,\"fModified\":false,\"fGridx\":false,\"fGridy\":false,\"fAbsCoord\":false,\"fEditable\":true,\"fFixedAspectRatio\":false,\"fPrimitives\":{\"_typename\":\"TList\",\"name\":\"TList\",\"arr\":[{\"_typename\":\"TPad\",\"fUniqueID\":0,\"fBits\":50331657,\"fLineColor\":1,\"fLineStyle\":1,\"fLineWidth\":1,\"fFillColor\":0,\"fFillStyle\":1001,\"fLeftMargin\":0.15,\"fRightMargin\":0.1,\"fBottomMargin\":0.1,\"fTopMargin\":0.1,\"fXfile\":2,\"fYfile\":2,\"fAfile\":1,\"fXstat\":0.99,\"fYstat\":0.99,\"fAstat\":2,\"fFrameFillColor\":0,\"fFrameLineColor\":1,\"fFrameFillStyle\":1001,\"fFrameLineStyle\":1,\"fFrameLineWidth\":1,\"fFrameBorderSize\":1,\"fFrameBorderMode\":0,\"fX1\":-11.2000001271566,\"fY1\":-1.72071442127209,\"fX2\":10.1333333651225,\"fY2\":15.4864287658231,\"fXtoAbsPixelk\":208.552050791743,\"fXtoPixelk\":200.592050969663,\"fXtoPixel\":17.9099998832401,\"fYtoAbsPixelk\":331.824047893572,\"fYtoPixelk\":328.10404797672,\"fYtoPixel\":-21.1865500392712,\"fUtoAbsPixelk\":7.96004982208014,\"fUtoPixelk\":5e-5,\"fUtoPixel\":382.08000035584,\"fVtoAbsPixelk\":368.280050083148,\"fVtoPixelk\":364.560000166297,\"fVtoPixel\":-364.560000166297,\"fAbsPixeltoXk\":-11.6444445645644,\"fPixeltoXk\":-11.2000001271566,\"fPixeltoX\":0.0558347295655644,\"fAbsPixeltoYk\":15.6620118555643,\"fPixeltoYk\":-1.72071442127209,\"fPixeltoY\":-0.0471997563617677,\"fXlowNDC\":0.00999999977648258,\"fYlowNDC\":0.00999999977648258,\"fXUpNDC\":0,\"fYUpNDC\":0,\"fWNDC\":0.480000000447035,\"fHNDC\":0.980000000447035,\"fAbsXlowNDC\":0.00999999977648258,\"fAbsYlowNDC\":0.00999999977648258,\"fAbsWNDC\":0.480000000447035,\"fAbsHNDC\":0.980000000447035,\"fUxmin\":-8,\"fUymin\":0,\"fUxmax\":8,\"fUymax\":13.765714344551,\"fTheta\":30,\"fPhi\":30,\"fAspectRatio\":0,\"fNumber\":1,\"fTickx\":0,\"fTicky\":0,\"fLogx\":0,\"fLogy\":0,\"fLogz\":0,\"fPadPaint\":0,\"fCrosshair\":0,\"fCrosshairPos\":0,\"fBorderSize\":2,\"fBorderMode\":0,\"fModified\":false,\"fGridx\":false,\"fGridy\":false,\"fAbsCoord\":false,\"fEditable\":true,\"fFixedAspectRatio\":false,\"fPrimitives\":{\"_typename\":\"TList\",\"name\":\"TList\",\"arr\":[{\"_typename\":\"TFrame\",\"fUniqueID\":0,\"fBits\":50331656,\"fLineColor\":1,\"fLineStyle\":1,\"fLineWidth\":1,\"fFillColor\":0,\"fFillStyle\":1001,\"fX1\":-8,\"fY1\":0,\"fX2\":8,\"fY2\":13.765714344551,\"fBorderSize\":1,\"fBorderMode\":0},{\"_typename\":\"TH1D\",\"fUniqueID\":0,\"fBits\":50332168,\"fName\":\"frame_7f3ea0788960\",\"fTitle\":\"Physics sample\",\"fLineColor\":602,\"fLineStyle\":1,\"fLineWidth\":1,\"fFillColor\":0,\"fFillStyle\":1001,\"fMarkerColor\":1,\"fMarkerStyle\":1,\"fMarkerSize\":1,\"fNcells\":32,\"fXaxis\":{\"_typename\":\"TAxis\",\"fUniqueID\":0,\"fBits\":50331648,\"fName\":\"xaxis\",\"fTitle\":\"x\",\"fNdivisions\":510,\"fAxisColor\":1,\"fLabelColor\":1,\"fLabelFont\":42,\"fLabelOffset\":0.005,\"fLabelSize\":0.035,\"fTickLength\":0.03,\"fTitleOffset\":1,\"fTitleSize\":0.035,\"fTitleColor\":1,\"fTitleFont\":42,\"fNbins\":30,\"fXmin\":-8,\"fXmax\":8,\"fXbins\":[],\"fFirst\":0,\"fLast\":0,\"fBits2\":0,\"fTimeDisplay\":false,\"fTimeFormat\":\"\",\"fLabels\":null,\"fModLabs\":null},\"fYaxis\":{\"_typename\":\"TAxis\",\"fUniqueID\":0,\"fBits\":50331648,\"fName\":\"yaxis\",\"fTitle\":\"Events \\/ ( 0.533333 )\",\"fNdivisions\":510,\"fAxisColor\":1,\"fLabelColor\":1,\"fLabelFont\":42,\"fLabelOffset\":0.005,\"fLabelSize\":0.035,\"fTickLength\":0.03,\"fTitleOffset\":1.4,\"fTitleSize\":0.035,\"fTitleColor\":1,\"fTitleFont\":42,\"fNbins\":1,\"fXmin\":0,\"fXmax\":1,\"fXbins\":[],\"fFirst\":0,\"fLast\":0,\"fBits2\":0,\"fTimeDisplay\":false,\"fTimeFormat\":\"\",\"fLabels\":null,\"fModLabs\":null},\"fZaxis\":{\"_typename\":\"TAxis\",\"fUniqueID\":0,\"fBits\":50331648,\"fName\":\"zaxis\",\"fTitle\":\"\",\"fNdivisions\":510,\"fAxisColor\":1,\"fLabelColor\":1,\"fLabelFont\":42,\"fLabelOffset\":0.005,\"fLabelSize\":0.035,\"fTickLength\":0.03,\"fTitleOffset\":1,\"fTitleSize\":0.035,\"fTitleColor\":1,\"fTitleFont\":42,\"fNbins\":1,\"fXmin\":0,\"fXmax\":1,\"fXbins\":[],\"fFirst\":0,\"fLast\":0,\"fBits2\":0,\"fTimeDisplay\":false,\"fTimeFormat\":\"\",\"fLabels\":null,\"fModLabs\":null},\"fBarOffset\":0,\"fBarWidth\":1000,\"fEntries\":1,\"fTsumw\":0,\"fTsumw2\":0,\"fTsumwx\":0,\"fTsumwx2\":0,\"fMaximum\":13.765714344551,\"fMinimum\":-1111,\"fNormFactor\":0,\"fContour\":[],\"fSumw2\":[],\"fOption\":\"\",\"fFunctions\":{\"_typename\":\"TList\",\"name\":\"TList\",\"arr\":[],\"opt\":[]},\"fBufferSize\":0,\"fBuffer\":[],\"fBinStatErrOpt\":0,\"fStatOverflows\":2,\"fArray\":[0,13.765714344551,0,0,0,0,0,0,0,0,0,0,0,0,0,0,0,0,0,0,0,0,0,0,0,0,0,0,0,0,0,0]},{\"_typename\":\"RooHist\",\"fUniqueID\":0,\"fBits\":50332680,\"fName\":\"h_combData_Cut[sample==sample::physics]\",\"fTitle\":\"Histogram of combData_plot__x\",\"fLineColor\":1,\"fLineStyle\":1,\"fLineWidth\":1,\"fFillColor\":0,\"fFillStyle\":1000,\"fMarkerColor\":1,\"fMarkerStyle\":8,\"fMarkerSize\":1,\"fNpoints\":30,\"fX\":[-7.73333333333333,-7.2,-6.66666666666667,-6.13333333333333,-5.6,-5.06666666666667,-4.53333333333333,-4,-3.46666666666667,-2.93333333333333,-2.4,-1.86666666666667,-1.33333333333333,-0.8,-0.266666666666667,0.266666666666667,0.8,1.33333333333333,1.86666666666667,2.4,2.93333333333333,3.46666666666667,4,4.53333333333333,5.06666666666667,5.6,6.13333333333333,6.66666666666667,7.2,7.73333333333333],\"fY\":[3,2,0,9,1,1,3,4,2,0,3,3,2,6,6,5,6,3,4,1,2,4,2,7,1,3,5,5,3,4],\"fFunctions\":{\"_typename\":\"TList\",\"name\":\"TList\",\"arr\":[],\"opt\":[]},\"fHistogram\":{\"_typename\":\"TH1F\",\"fUniqueID\":0,\"fBits\":50332168,\"fName\":\"h_combData_Cut[sample==sample::physics]\",\"fTitle\":\"Histogram of combData_plot__x\",\"fLineColor\":602,\"fLineStyle\":1,\"fLineWidth\":1,\"fFillColor\":0,\"fFillStyle\":1001,\"fMarkerColor\":1,\"fMarkerStyle\":1,\"fMarkerSize\":1,\"fNcells\":102,\"fXaxis\":{\"_typename\":\"TAxis\",\"fUniqueID\":0,\"fBits\":50331648,\"fName\":\"xaxis\",\"fTitle\":\"\",\"fNdivisions\":510,\"fAxisColor\":1,\"fLabelColor\":1,\"fLabelFont\":42,\"fLabelOffset\":0.005,\"fLabelSize\":0.035,\"fTickLength\":0.03,\"fTitleOffset\":1,\"fTitleSize\":0.035,\"fTitleColor\":1,\"fTitleFont\":42,\"fNbins\":100,\"fXmin\":-9.6,\"fXmax\":9.6,\"fXbins\":[],\"fFirst\":0,\"fLast\":0,\"fBits2\":0,\"fTimeDisplay\":false,\"fTimeFormat\":\"\",\"fLabels\":null,\"fModLabs\":null},\"fYaxis\":{\"_typename\":\"TAxis\",\"fUniqueID\":0,\"fBits\":50331648,\"fName\":\"yaxis\",\"fTitle\":\"\",\"fNdivisions\":510,\"fAxisColor\":1,\"fLabelColor\":1,\"fLabelFont\":42,\"fLabelOffset\":0.005,\"fLabelSize\":0.035,\"fTickLength\":0.03,\"fTitleOffset\":0,\"fTitleSize\":0.035,\"fTitleColor\":1,\"fTitleFont\":42,\"fNbins\":1,\"fXmin\":0,\"fXmax\":14.4212245514344,\"fXbins\":[],\"fFirst\":0,\"fLast\":0,\"fBits2\":0,\"fTimeDisplay\":false,\"fTimeFormat\":\"\",\"fLabels\":null,\"fModLabs\":null},\"fZaxis\":{\"_typename\":\"TAxis\",\"fUniqueID\":0,\"fBits\":50331648,\"fName\":\"zaxis\",\"fTitle\":\"\",\"fNdivisions\":510,\"fAxisColor\":1,\"fLabelColor\":1,\"fLabelFont\":42,\"fLabelOffset\":0.005,\"fLabelSize\":0.035,\"fTickLength\":0.03,\"fTitleOffset\":1,\"fTitleSize\":0.035,\"fTitleColor\":1,\"fTitleFont\":42,\"fNbins\":1,\"fXmin\":0,\"fXmax\":1,\"fXbins\":[],\"fFirst\":0,\"fLast\":0,\"fBits2\":0,\"fTimeDisplay\":false,\"fTimeFormat\":\"\",\"fLabels\":null,\"fModLabs\":null},\"fBarOffset\":0,\"fBarWidth\":1000,\"fEntries\":0,\"fTsumw\":0,\"fTsumw2\":0,\"fTsumwx\":0,\"fTsumwx2\":0,\"fMaximum\":14.4212245514344,\"fMinimum\":0,\"fNormFactor\":0,\"fContour\":[],\"fSumw2\":[],\"fOption\":\"\",\"fFunctions\":{\"_typename\":\"TList\",\"name\":\"TList\",\"arr\":[],\"opt\":[]},\"fBufferSize\":0,\"fBuffer\":[],\"fBinStatErrOpt\":0,\"fStatOverflows\":2,\"fArray\":[0,0,0,0,0,0,0,0,0,0,0,0,0,0,0,0,0,0,0,0,0,0,0,0,0,0,0,0,0,0,0,0,0,0,0,0,0,0,0,0,0,0,0,0,0,0,0,0,0,0,0,0,0,0,0,0,0,0,0,0,0,0,0,0,0,0,0,0,0,0,0,0,0,0,0,0,0,0,0,0,0,0,0,0,0,0,0,0,0,0,0,0,0,0,0,0,0,0,0,0,0,0]},\"fMinimum\":-1111,\"fMaximum\":-1111,\"fEXlow\":[0.266666666666667,0.266666666666667,0.266666666666667,0.266666666666667,0.266666666666667,0.266666666666667,0.266666666666667,0.266666666666667,0.266666666666667,0.266666666666667,0.266666666666667,0.266666666666667,0.266666666666667,0.266666666666667,0.266666666666667,0.266666666666667,0.266666666666667,0.266666666666667,0.266666666666667,0.266666666666667,0.266666666666667,0.266666666666667,0.266666666666667,0.266666666666667,0.266666666666667,0.266666666666667,0.266666666666667,0.266666666666667,0.266666666666667,0.266666666666667],\"fEXhigh\":[0.266666666666667,0.266666666666667,0.266666666666667,0.266666666666667,0.266666666666667,0.266666666666667,0.266666666666667,0.266666666666667,0.266666666666667,0.266666666666667,0.266666666666667,0.266666666666667,0.266666666666667,0.266666666666667,0.266666666666667,0.266666666666667,0.266666666666667,0.266666666666667,0.266666666666667,0.266666666666667,0.266666666666667,0.266666666666667,0.266666666666667,0.266666666666667,0.266666666666667,0.266666666666667,0.266666666666667,0.266666666666667,0.266666666666667,0.266666666666667],\"fEYlow\":[1.63270468610957,1.29181456018103,0,2.94346103725076,0.82724622097655,0.82724622097655,1.63270468610957,1.91433918622288,1.29181456018103,0,1.63270468610957,1.63270468610957,1.29181456018103,2.37993137929577,2.37993137929577,2.15969114440678,2.37993137929577,1.63270468610957,1.91433918622288,0.82724622097655,1.29181456018103,1.91433918622288,1.29181456018103,2.58147045606626,0.82724622097655,1.63270468610957,2.15969114440678,2.15969114440678,1.63270468610957,1.91433918622288],\"fEYhigh\":[2.9181858328834,2.63785962345524,1.14787446444932,4.11020413766764,2.29952655911586,2.29952655911586,2.9181858328834,3.16275317226094,2.63785962345524,1.14787446444932,2.9181858328834,2.9181858328834,2.63785962345524,3.58364154598457,3.58364154598457,3.38247265214689,3.58364154598457,2.9181858328834,3.16275317226094,2.29952655911586,2.63785962345524,3.16275317226094,2.63785962345524,3.77028072043409,2.29952655911586,2.9181858328834,3.38247265214689,3.38247265214689,2.9181858328834,3.16275317226094],\"_yAxisLabel\":\"Events \\/ ( 0.533333 )\",\"_ymin\":0,\"_ymax\":13.1102041376676,\"_normValue\":0,\"_nominalBinWidth\":0.533333333333333,\"_nSigma\":1,\"_entries\":100,\"_rawEntries\":2100},{\"_typename\":\"RooCurve\",\"fUniqueID\":0,\"fBits\":50332680,\"fName\":\"model_Norm[x]\",\"fTitle\":\"Projection of model\",\"fLineColor\":600,\"fLineStyle\":1,\"fLineWidth\":3,\"fFillColor\":0,\"fFillStyle\":1000,\"fMarkerColor\":1,\"fMarkerStyle\":1,\"fMarkerSize\":1,\"fNpoints\":95,\"fX\":[-8.53333333333333,-8.53333333333333,-8,-7.46666666666667,-6.93333333333333,-6.4,-5.86666666666667,-5.33333333333333,-4.8,-4.26666666666667,-3.73333333333333,-3.2,-2.66666666666667,-2.13333333333333,-1.6,-1.46666666666667,-1.4,-1.33333333333333,-1.26666666666667,-1.23333333333333,-1.2,-1.16666666666667,-1.13333333333333,-1.1,-1.06666666666667,-1.03333333333333,-1,-0.966666666666666,-0.933333333333333,-0.9,-0.866666666666666,-0.833333333333333,-0.8,-0.733333333333333,-0.7,-0.666666666666667,-0.633333333333333,-0.6,-0.583333333333333,-0.566666666666667,-0.55,-0.533333333333333,-0.516666666666667,-0.5,-0.483333333333333,-0.466666666666667,-0.45,-0.433333333333333,-0.416666666666667,-0.4,-0.383333333333333,-0.366666666666667,-0.35,-0.333333333333333,-0.3,-0.266666666666667,-0.233333333333333,-0.2,-0.133333333333333,-0.1,-0.0666666666666667,-0.0333333333333333,0,0.0333333333333333,0.0666666666666667,0.1,0.133333333333333,0.166666666666667,0.2,0.233333333333333,0.266666666666667,0.3,0.333333333333333,0.4,0.466666666666667,0.533333333333333,0.666666666666667,0.8,1.06666666666667,1.6,2.13333333333333,2.66666666666667,3.2,3.73333333333333,4.26666666666667,4.8,5.33333333333333,5.86666666666667,6.4,6.93333333333333,7.46666666666667,8,8,8.53333333333333,8.53333333333333],\"fY\":[0,2.55717514158079,2.55717514158079,2.56559182232847,2.57696947438544,2.5913080977517,2.60860769242724,2.62886825841207,2.65208979570618,2.67827230430959,2.70741578422228,2.73952023544425,2.77458565801237,2.8126140285974,2.85887163943051,2.88801406745288,2.91658400992978,2.96355784658959,3.03971085826243,3.09305485422486,3.15927480651894,3.24056229357863,3.33915349345024,3.45722374715316,3.596756762494,3.75939185851603,3.94625554567658,4.15778671911976,4.39356748791756,4.65217380018631,4.93106117434036,5.22650067702697,5.53357856530383,6.15758957301508,6.45982501850504,6.74483422035052,7.00440309293984,7.23063630627392,7.32897073786974,7.41635783307515,7.49207571942438,7.55549286310865,7.60607701426163,7.64340282514142,7.66715798872613,7.67714777382232,7.67329786457906,7.65565544649727,7.62438851673745,7.57978343282555,7.52224074978254,7.45226943031834,7.37047954513502,7.27757360974942,7.06162574832523,6.81149712066632,6.53502244616386,6.24040000363233,5.62899422844936,5.32706684489408,5.03615744169549,4.7613090634371,4.50638434315524,4.27405804159041,4.06587457157116,3.88235738438045,3.72315519005342,3.58720964942318,3.47293019372148,3.37836367271198,3.30134922880116,3.23965176763741,3.19107031430006,3.12508974258559,3.08899467575963,3.07181421612766,3.0663414881203,3.07570624100016,3.10297080370223,3.16170400616599,3.22341816967481,3.28809330529895,3.35572941223237,3.42632649047508,3.49988454002707,3.57640356088836,3.65588355305893,3.73832451653878,3.82372645132793,3.91208935742636,4.00341323483408,4.09769808355108,4.09769808355108,4.09769808355108,0],\"fFunctions\":{\"_typename\":\"TList\",\"name\":\"TList\",\"arr\":[],\"opt\":[]},\"fHistogram\":{\"_typename\":\"TH1F\",\"fUniqueID\":0,\"fBits\":50332168,\"fName\":\"model_Norm[x]\",\"fTitle\":\"Projection of model\",\"fLineColor\":602,\"fLineStyle\":1,\"fLineWidth\":1,\"fFillColor\":0,\"fFillStyle\":1001,\"fMarkerColor\":1,\"fMarkerStyle\":1,\"fMarkerSize\":1,\"fNcells\":102,\"fXaxis\":{\"_typename\":\"TAxis\",\"fUniqueID\":0,\"fBits\":50331648,\"fName\":\"xaxis\",\"fTitle\":\"\",\"fNdivisions\":510,\"fAxisColor\":1,\"fLabelColor\":1,\"fLabelFont\":42,\"fLabelOffset\":0.005,\"fLabelSize\":0.035,\"fTickLength\":0.03,\"fTitleOffset\":1,\"fTitleSize\":0.035,\"fTitleColor\":1,\"fTitleFont\":42,\"fNbins\":100,\"fXmin\":-10.24,\"fXmax\":10.24,\"fXbins\":[],\"fFirst\":0,\"fLast\":0,\"fBits2\":0,\"fTimeDisplay\":false,\"fTimeFormat\":\"\",\"fLabels\":null,\"fModLabs\":null},\"fYaxis\":{\"_typename\":\"TAxis\",\"fUniqueID\":0,\"fBits\":50331648,\"fName\":\"yaxis\",\"fTitle\":\"\",\"fNdivisions\":510,\"fAxisColor\":1,\"fLabelColor\":1,\"fLabelFont\":42,\"fLabelOffset\":0.005,\"fLabelSize\":0.035,\"fTickLength\":0.03,\"fTitleOffset\":0,\"fTitleSize\":0.035,\"fTitleColor\":1,\"fTitleFont\":42,\"fNbins\":1,\"fXmin\":0,\"fXmax\":8.44486255120455,\"fXbins\":[],\"fFirst\":0,\"fLast\":0,\"fBits2\":0,\"fTimeDisplay\":false,\"fTimeFormat\":\"\",\"fLabels\":null,\"fModLabs\":null},\"fZaxis\":{\"_typename\":\"TAxis\",\"fUniqueID\":0,\"fBits\":50331648,\"fName\":\"zaxis\",\"fTitle\":\"\",\"fNdivisions\":510,\"fAxisColor\":1,\"fLabelColor\":1,\"fLabelFont\":42,\"fLabelOffset\":0.005,\"fLabelSize\":0.035,\"fTickLength\":0.03,\"fTitleOffset\":1,\"fTitleSize\":0.035,\"fTitleColor\":1,\"fTitleFont\":42,\"fNbins\":1,\"fXmin\":0,\"fXmax\":1,\"fXbins\":[],\"fFirst\":0,\"fLast\":0,\"fBits2\":0,\"fTimeDisplay\":false,\"fTimeFormat\":\"\",\"fLabels\":null,\"fModLabs\":null},\"fBarOffset\":0,\"fBarWidth\":1000,\"fEntries\":0,\"fTsumw\":0,\"fTsumw2\":0,\"fTsumwx\":0,\"fTsumwx2\":0,\"fMaximum\":8.44486255120455,\"fMinimum\":0,\"fNormFactor\":0,\"fContour\":[],\"fSumw2\":[],\"fOption\":\"\",\"fFunctions\":{\"_typename\":\"TList\",\"name\":\"TList\",\"arr\":[],\"opt\":[]},\"fBufferSize\":0,\"fBuffer\":[],\"fBinStatErrOpt\":0,\"fStatOverflows\":2,\"fArray\":[0,0,0,0,0,0,0,0,0,0,0,0,0,0,0,0,0,0,0,0,0,0,0,0,0,0,0,0,0,0,0,0,0,0,0,0,0,0,0,0,0,0,0,0,0,0,0,0,0,0,0,0,0,0,0,0,0,0,0,0,0,0,0,0,0,0,0,0,0,0,0,0,0,0,0,0,0,0,0,0,0,0,0,0,0,0,0,0,0,0,0,0,0,0,0,0,0,0,0,0,0,0]},\"fMinimum\":-1111,\"fMaximum\":-1111,\"_yAxisLabel\":\"Projection of model\",\"_ymin\":0,\"_ymax\":7.67714777382232,\"_normValue\":0},{\"_typename\":\"RooCurve\",\"fUniqueID\":0,\"fBits\":50332680,\"fName\":\"model_Norm[x]_Comp[px]\",\"fTitle\":\"Projection of model\",\"fLineColor\":600,\"fLineStyle\":2,\"fLineWidth\":3,\"fFillColor\":0,\"fFillStyle\":1000,\"fMarkerColor\":1,\"fMarkerStyle\":1,\"fMarkerSize\":1,\"fNpoints\":36,\"fX\":[-8.53333333333333,-8.53333333333333,-8,-7.46666666666667,-6.93333333333333,-6.4,-5.86666666666667,-5.33333333333333,-4.8,-4.26666666666667,-3.73333333333333,-3.2,-2.66666666666667,-2.13333333333333,-1.6,-1.06666666666667,-0.533333333333333,0,0.533333333333333,1.06666666666667,1.6,2.13333333333333,2.66666666666667,3.2,3.73333333333333,4.26666666666667,4.8,5.33333333333333,5.86666666666667,6.4,6.93333333333333,7.46666666666667,8,8,8.53333333333333,8.53333333333333],\"fY\":[0,2.55717514158079,2.55717514158079,2.56559182232847,2.57696947438544,2.5913080977517,2.60860769242724,2.62886825841207,2.65208979570618,2.67827230430959,2.70741578422228,2.73952023544425,2.77458565797552,2.81261205181607,2.85359941696591,2.89754775342503,2.94445706119344,2.99432734027114,3.04715859065813,3.1029508123544,3.16170400535996,3.22341816967481,3.28809330529895,3.35572941223237,3.42632649047508,3.49988454002707,3.57640356088836,3.65588355305893,3.73832451653878,3.82372645132793,3.91208935742636,4.00341323483408,4.09769808355108,4.09769808355108,4.09769808355108,0],\"fFunctions\":{\"_typename\":\"TList\",\"name\":\"TList\",\"arr\":[],\"opt\":[]},\"fHistogram\":{\"_typename\":\"TH1F\",\"fUniqueID\":0,\"fBits\":50332168,\"fName\":\"model_Norm[x]_Comp[px]\",\"fTitle\":\"Projection of model\",\"fLineColor\":602,\"fLineStyle\":1,\"fLineWidth\":1,\"fFillColor\":0,\"fFillStyle\":1001,\"fMarkerColor\":1,\"fMarkerStyle\":1,\"fMarkerSize\":1,\"fNcells\":102,\"fXaxis\":{\"_typename\":\"TAxis\",\"fUniqueID\":0,\"fBits\":50331648,\"fName\":\"xaxis\",\"fTitle\":\"\",\"fNdivisions\":510,\"fAxisColor\":1,\"fLabelColor\":1,\"fLabelFont\":42,\"fLabelOffset\":0.005,\"fLabelSize\":0.035,\"fTickLength\":0.03,\"fTitleOffset\":1,\"fTitleSize\":0.035,\"fTitleColor\":1,\"fTitleFont\":42,\"fNbins\":100,\"fXmin\":-10.24,\"fXmax\":10.24,\"fXbins\":[],\"fFirst\":0,\"fLast\":0,\"fBits2\":0,\"fTimeDisplay\":false,\"fTimeFormat\":\"\",\"fLabels\":null,\"fModLabs\":null},\"fYaxis\":{\"_typename\":\"TAxis\",\"fUniqueID\":0,\"fBits\":50331648,\"fName\":\"yaxis\",\"fTitle\":\"\",\"fNdivisions\":510,\"fAxisColor\":1,\"fLabelColor\":1,\"fLabelFont\":42,\"fLabelOffset\":0.005,\"fLabelSize\":0.035,\"fTickLength\":0.03,\"fTitleOffset\":0,\"fTitleSize\":0.035,\"fTitleColor\":1,\"fTitleFont\":42,\"fNbins\":1,\"fXmin\":0,\"fXmax\":4.50746789190619,\"fXbins\":[],\"fFirst\":0,\"fLast\":0,\"fBits2\":0,\"fTimeDisplay\":false,\"fTimeFormat\":\"\",\"fLabels\":null,\"fModLabs\":null},\"fZaxis\":{\"_typename\":\"TAxis\",\"fUniqueID\":0,\"fBits\":50331648,\"fName\":\"zaxis\",\"fTitle\":\"\",\"fNdivisions\":510,\"fAxisColor\":1,\"fLabelColor\":1,\"fLabelFont\":42,\"fLabelOffset\":0.005,\"fLabelSize\":0.035,\"fTickLength\":0.03,\"fTitleOffset\":1,\"fTitleSize\":0.035,\"fTitleColor\":1,\"fTitleFont\":42,\"fNbins\":1,\"fXmin\":0,\"fXmax\":1,\"fXbins\":[],\"fFirst\":0,\"fLast\":0,\"fBits2\":0,\"fTimeDisplay\":false,\"fTimeFormat\":\"\",\"fLabels\":null,\"fModLabs\":null},\"fBarOffset\":0,\"fBarWidth\":1000,\"fEntries\":0,\"fTsumw\":0,\"fTsumw2\":0,\"fTsumwx\":0,\"fTsumwx2\":0,\"fMaximum\":4.50746789190619,\"fMinimum\":0,\"fNormFactor\":0,\"fContour\":[],\"fSumw2\":[],\"fOption\":\"\",\"fFunctions\":{\"_typename\":\"TList\",\"name\":\"TList\",\"arr\":[],\"opt\":[]},\"fBufferSize\":0,\"fBuffer\":[],\"fBinStatErrOpt\":0,\"fStatOverflows\":2,\"fArray\":[0,0,0,0,0,0,0,0,0,0,0,0,0,0,0,0,0,0,0,0,0,0,0,0,0,0,0,0,0,0,0,0,0,0,0,0,0,0,0,0,0,0,0,0,0,0,0,0,0,0,0,0,0,0,0,0,0,0,0,0,0,0,0,0,0,0,0,0,0,0,0,0,0,0,0,0,0,0,0,0,0,0,0,0,0,0,0,0,0,0,0,0,0,0,0,0,0,0,0,0,0,0]},\"fMinimum\":-1111,\"fMaximum\":-1111,\"_yAxisLabel\":\"Projection of model\",\"_ymin\":0,\"_ymax\":4.09769808355108,\"_normValue\":0},{\"$ref\":5},{\"_typename\":\"TPaveText\",\"fUniqueID\":0,\"fBits\":50331657,\"fLineColor\":1,\"fLineStyle\":1,\"fLineWidth\":1,\"fFillColor\":0,\"fFillStyle\":0,\"fX1\":-4.73884987987769,\"fY1\":14.3242386868894,\"fX2\":3.6721831178436,\"fY2\":15.4003931319377,\"fX1NDC\":0.302866415584667,\"fY1NDC\":0.932458859306446,\"fX2NDC\":0.697133584415333,\"fY2NDC\":0.995000004768372,\"fBorderSize\":0,\"fInit\":1,\"fShadowColor\":1,\"fCornerRadius\":0,\"fOption\":\"blNDC\",\"fName\":\"title\",\"fTextAngle\":0,\"fTextSize\":0,\"fTextAlign\":22,\"fTextColor\":1,\"fTextFont\":42,\"fLabel\":\"\",\"fLongest\":14,\"fMargin\":0.05,\"fLines\":{\"_typename\":\"TList\",\"name\":\"TList\",\"arr\":[{\"_typename\":\"TLatex\",\"fUniqueID\":0,\"fBits\":50331648,\"fName\":\"\",\"fTitle\":\"Physics sample\",\"fTextAngle\":0,\"fTextSize\":0,\"fTextAlign\":0,\"fTextColor\":0,\"fTextFont\":0,\"fX\":0,\"fY\":0,\"fLineColor\":1,\"fLineStyle\":1,\"fLineWidth\":2,\"fLimitFactorSize\":3,\"fOriginSize\":0.0531599745154381}],\"opt\":[\"\"]}}],\"opt\":[\"\",\"FUNC\",\"p\",\"l\",\"l\",\"AXISSAME\",\"blNDC\"]},\"fExecs\":{\"_typename\":\"TList\",\"name\":\"TList\",\"arr\":[],\"opt\":[]},\"fName\":\"rf501_simultaneouspdf_1\",\"fTitle\":\"rf501_simultaneouspdf_1\",\"fNumPaletteColor\":0,\"fNextPaletteColor\":0},{\"_typename\":\"TPad\",\"fUniqueID\":0,\"fBits\":50331657,\"fLineColor\":1,\"fLineStyle\":1,\"fLineWidth\":1,\"fFillColor\":0,\"fFillStyle\":1001,\"fLeftMargin\":0.15,\"fRightMargin\":0.1,\"fBottomMargin\":0.1,\"fTopMargin\":0.1,\"fXfile\":2,\"fYfile\":2,\"fAfile\":1,\"fXstat\":0.99,\"fYstat\":0.99,\"fAstat\":2,\"fFrameFillColor\":0,\"fFrameLineColor\":1,\"fFrameFillStyle\":1001,\"fFrameLineStyle\":1,\"fFrameLineWidth\":1,\"fFrameBorderSize\":1,\"fFrameBorderMode\":0,\"fX1\":-11.2000001271566,\"fY1\":-94.4543643308435,\"fX2\":10.1333333651225,\"fY2\":850.089222678404,\"fXtoAbsPixelk\":606.552050791743,\"fXtoPixelk\":200.592050969663,\"fXtoPixel\":17.9099998832401,\"fYtoAbsPixelk\":331.824047893572,\"fYtoPixelk\":328.10404797672,\"fYtoPixel\":-0.385964189668176,\"fUtoAbsPixelk\":405.96004982208,\"fUtoPixelk\":5e-5,\"fUtoPixel\":382.08000035584,\"fVtoAbsPixelk\":368.280050083148,\"fVtoPixelk\":364.560000166297,\"fVtoPixel\":-364.560000166297,\"fAbsPixeltoXk\":-33.866666931659,\"fPixeltoXk\":-11.2000001271566,\"fPixeltoX\":0.0558347295655644,\"fAbsPixeltoYk\":859.727422326018,\"fPixeltoYk\":-94.4543643308435,\"fPixeltoY\":-2.5909139416787,\"fXlowNDC\":0.509999999776483,\"fYlowNDC\":0.00999999977648258,\"fXUpNDC\":0,\"fYUpNDC\":0,\"fWNDC\":0.480000000447035,\"fHNDC\":0.980000000447035,\"fAbsXlowNDC\":0.509999999776483,\"fAbsYlowNDC\":0.00999999977648258,\"fAbsWNDC\":0.480000000447035,\"fAbsHNDC\":0.980000000447035,\"fUxmin\":-8,\"fUymin\":0,\"fUxmax\":8,\"fUymax\":755.63485834756,\"fTheta\":30,\"fPhi\":30,\"fAspectRatio\":0,\"fNumber\":2,\"fTickx\":0,\"fTicky\":0,\"fLogx\":0,\"fLogy\":0,\"fLogz\":0,\"fPadPaint\":0,\"fCrosshair\":0,\"fCrosshairPos\":0,\"fBorderSize\":2,\"fBorderMode\":0,\"fModified\":false,\"fGridx\":false,\"fGridy\":false,\"fAbsCoord\":false,\"fEditable\":true,\"fFixedAspectRatio\":false,\"fPrimitives\":{\"_typename\":\"TList\",\"name\":\"TList\",\"arr\":[{\"_typename\":\"TFrame\",\"fUniqueID\":0,\"fBits\":50331656,\"fLineColor\":1,\"fLineStyle\":1,\"fLineWidth\":1,\"fFillColor\":0,\"fFillStyle\":1001,\"fX1\":-8,\"fY1\":0,\"fX2\":8,\"fY2\":755.63485834756,\"fBorderSize\":1,\"fBorderMode\":0},{\"_typename\":\"TH1D\",\"fUniqueID\":0,\"fBits\":50332168,\"fName\":\"frame_7f3ea075e050\",\"fTitle\":\"Control sample\",\"fLineColor\":602,\"fLineStyle\":1,\"fLineWidth\":1,\"fFillColor\":0,\"fFillStyle\":1001,\"fMarkerColor\":1,\"fMarkerStyle\":1,\"fMarkerSize\":1,\"fNcells\":32,\"fXaxis\":{\"_typename\":\"TAxis\",\"fUniqueID\":0,\"fBits\":50331648,\"fName\":\"xaxis\",\"fTitle\":\"x\",\"fNdivisions\":510,\"fAxisColor\":1,\"fLabelColor\":1,\"fLabelFont\":42,\"fLabelOffset\":0.005,\"fLabelSize\":0.035,\"fTickLength\":0.03,\"fTitleOffset\":1,\"fTitleSize\":0.035,\"fTitleColor\":1,\"fTitleFont\":42,\"fNbins\":30,\"fXmin\":-8,\"fXmax\":8,\"fXbins\":[],\"fFirst\":0,\"fLast\":0,\"fBits2\":0,\"fTimeDisplay\":false,\"fTimeFormat\":\"\",\"fLabels\":null,\"fModLabs\":null},\"fYaxis\":{\"_typename\":\"TAxis\",\"fUniqueID\":0,\"fBits\":50331648,\"fName\":\"yaxis\",\"fTitle\":\"Events \\/ ( 0.533333 )\",\"fNdivisions\":510,\"fAxisColor\":1,\"fLabelColor\":1,\"fLabelFont\":42,\"fLabelOffset\":0.005,\"fLabelSize\":0.035,\"fTickLength\":0.03,\"fTitleOffset\":1.4,\"fTitleSize\":0.035,\"fTitleColor\":1,\"fTitleFont\":42,\"fNbins\":1,\"fXmin\":0,\"fXmax\":1,\"fXbins\":[],\"fFirst\":0,\"fLast\":0,\"fBits2\":0,\"fTimeDisplay\":false,\"fTimeFormat\":\"\",\"fLabels\":null,\"fModLabs\":null},\"fZaxis\":{\"_typename\":\"TAxis\",\"fUniqueID\":0,\"fBits\":50331648,\"fName\":\"zaxis\",\"fTitle\":\"\",\"fNdivisions\":510,\"fAxisColor\":1,\"fLabelColor\":1,\"fLabelFont\":42,\"fLabelOffset\":0.005,\"fLabelSize\":0.035,\"fTickLength\":0.03,\"fTitleOffset\":1,\"fTitleSize\":0.035,\"fTitleColor\":1,\"fTitleFont\":42,\"fNbins\":1,\"fXmin\":0,\"fXmax\":1,\"fXbins\":[],\"fFirst\":0,\"fLast\":0,\"fBits2\":0,\"fTimeDisplay\":false,\"fTimeFormat\":\"\",\"fLabels\":null,\"fModLabs\":null},\"fBarOffset\":0,\"fBarWidth\":1000,\"fEntries\":2,\"fTsumw\":0,\"fTsumw2\":0,\"fTsumwx\":0,\"fTsumwx2\":0,\"fMaximum\":755.63485834756,\"fMinimum\":-1111,\"fNormFactor\":0,\"fContour\":[],\"fSumw2\":[],\"fOption\":\"\",\"fFunctions\":{\"_typename\":\"TList\",\"name\":\"TList\",\"arr\":[],\"opt\":[]},\"fBufferSize\":0,\"fBuffer\":[],\"fBinStatErrOpt\":0,\"fStatOverflows\":2,\"fArray\":[0,755.63485834756,0,0,0,0,0,0,0,0,0,0,0,0,0,0,0,0,0,0,0,0,0,0,0,0,0,0,0,0,0,0]},{\"_typename\":\"RooHist\",\"fUniqueID\":0,\"fBits\":50332680,\"fName\":\"h_combData_Cut[sample==sample::control]\",\"fTitle\":\"Histogram of combData_plot__x\",\"fLineColor\":1,\"fLineStyle\":1,\"fLineWidth\":1,\"fFillColor\":0,\"fFillStyle\":1000,\"fMarkerColor\":1,\"fMarkerStyle\":8,\"fMarkerSize\":1,\"fNpoints\":30,\"fX\":[-7.73333333333333,-7.2,-6.66666666666667,-6.13333333333333,-5.6,-5.06666666666667,-4.53333333333333,-4,-3.46666666666667,-2.93333333333333,-2.4,-1.86666666666667,-1.33333333333333,-0.8,-0.266666666666667,0.266666666666667,0.8,1.33333333333333,1.86666666666667,2.4,2.93333333333333,3.46666666666667,4,4.53333333333333,5.06666666666667,5.6,6.13333333333333,6.66666666666667,7.2,7.73333333333333],\"fY\":[63,54,55,35,36,32,35,54,298,629,136,18,17,22,23,17,14,19,26,26,23,26,30,32,31,36,52,49,58,54],\"fFunctions\":{\"_typename\":\"TList\",\"name\":\"TList\",\"arr\":[],\"opt\":[]},\"fHistogram\":{\"_typename\":\"TH1F\",\"fUniqueID\":0,\"fBits\":50332168,\"fName\":\"h_combData_Cut[sample==sample::control]\",\"fTitle\":\"Histogram of combData_plot__x\",\"fLineColor\":602,\"fLineStyle\":1,\"fLineWidth\":1,\"fFillColor\":0,\"fFillStyle\":1001,\"fMarkerColor\":1,\"fMarkerStyle\":1,\"fMarkerSize\":1,\"fNcells\":102,\"fXaxis\":{\"_typename\":\"TAxis\",\"fUniqueID\":0,\"fBits\":50331648,\"fName\":\"xaxis\",\"fTitle\":\"\",\"fNdivisions\":510,\"fAxisColor\":1,\"fLabelColor\":1,\"fLabelFont\":42,\"fLabelOffset\":0.005,\"fLabelSize\":0.035,\"fTickLength\":0.03,\"fTitleOffset\":1,\"fTitleSize\":0.035,\"fTitleColor\":1,\"fTitleFont\":42,\"fNbins\":100,\"fXmin\":-9.6,\"fXmax\":9.6,\"fXbins\":[],\"fFirst\":0,\"fLast\":0,\"fBits2\":0,\"fTimeDisplay\":false,\"fTimeFormat\":\"\",\"fLabels\":null,\"fModLabs\":null},\"fYaxis\":{\"_typename\":\"TAxis\",\"fUniqueID\":0,\"fBits\":50331648,\"fName\":\"yaxis\",\"fTitle\":\"\",\"fNdivisions\":510,\"fAxisColor\":1,\"fLabelColor\":1,\"fLabelFont\":42,\"fLabelOffset\":0.005,\"fLabelSize\":0.035,\"fTickLength\":0.03,\"fTitleOffset\":0,\"fTitleSize\":0.035,\"fTitleColor\":1,\"fTitleFont\":42,\"fNbins\":1,\"fXmin\":9.2731497130583,\"fXmax\":719.012991620026,\"fXbins\":[],\"fFirst\":0,\"fLast\":0,\"fBits2\":0,\"fTimeDisplay\":false,\"fTimeFormat\":\"\",\"fLabels\":null,\"fModLabs\":null},\"fZaxis\":{\"_typename\":\"TAxis\",\"fUniqueID\":0,\"fBits\":50331648,\"fName\":\"zaxis\",\"fTitle\":\"\",\"fNdivisions\":510,\"fAxisColor\":1,\"fLabelColor\":1,\"fLabelFont\":42,\"fLabelOffset\":0.005,\"fLabelSize\":0.035,\"fTickLength\":0.03,\"fTitleOffset\":1,\"fTitleSize\":0.035,\"fTitleColor\":1,\"fTitleFont\":42,\"fNbins\":1,\"fXmin\":0,\"fXmax\":1,\"fXbins\":[],\"fFirst\":0,\"fLast\":0,\"fBits2\":0,\"fTimeDisplay\":false,\"fTimeFormat\":\"\",\"fLabels\":null,\"fModLabs\":null},\"fBarOffset\":0,\"fBarWidth\":1000,\"fEntries\":0,\"fTsumw\":0,\"fTsumw2\":0,\"fTsumwx\":0,\"fTsumwx2\":0,\"fMaximum\":719.012991620026,\"fMinimum\":9.2731497130583,\"fNormFactor\":0,\"fContour\":[],\"fSumw2\":[],\"fOption\":\"\",\"fFunctions\":{\"_typename\":\"TList\",\"name\":\"TList\",\"arr\":[],\"opt\":[]},\"fBufferSize\":0,\"fBuffer\":[],\"fBinStatErrOpt\":0,\"fStatOverflows\":2,\"fArray\":[0,0,0,0,0,0,0,0,0,0,0,0,0,0,0,0,0,0,0,0,0,0,0,0,0,0,0,0,0,0,0,0,0,0,0,0,0,0,0,0,0,0,0,0,0,0,0,0,0,0,0,0,0,0,0,0,0,0,0,0,0,0,0,0,0,0,0,0,0,0,0,0,0,0,0,0,0,0,0,0,0,0,0,0,0,0,0,0,0,0,0,0,0,0,0,0,0,0,0,0,0,0]},\"fMinimum\":-1111,\"fMaximum\":-1111,\"fEXlow\":[0.266666666666667,0.266666666666667,0.266666666666667,0.266666666666667,0.266666666666667,0.266666666666667,0.266666666666667,0.266666666666667,0.266666666666667,0.266666666666667,0.266666666666667,0.266666666666667,0.266666666666667,0.266666666666667,0.266666666666667,0.266666666666667,0.266666666666667,0.266666666666667,0.266666666666667,0.266666666666667,0.266666666666667,0.266666666666667,0.266666666666667,0.266666666666667,0.266666666666667,0.266666666666667,0.266666666666667,0.266666666666667,0.266666666666667,0.266666666666667],\"fEXhigh\":[0.266666666666667,0.266666666666667,0.266666666666667,0.266666666666667,0.266666666666667,0.266666666666667,0.266666666666667,0.266666666666667,0.266666666666667,0.266666666666667,0.266666666666667,0.266666666666667,0.266666666666667,0.266666666666667,0.266666666666667,0.266666666666667,0.266666666666667,0.266666666666667,0.266666666666667,0.266666666666667,0.266666666666667,0.266666666666667,0.266666666666667,0.266666666666667,0.266666666666667,0.266666666666667,0.266666666666667,0.266666666666667,0.266666666666667,0.266666666666667],\"fEYlow\":[7.9161294251061,7.32564036186805,7.39357955269438,5.88767477058538,5.97199579039322,5.62713531718605,5.88767477058538,7.32564036186805,16.7699160391705,24.5848559892219,11.1726175299288,4.20288721196007,4.08218389934171,4.65450239544497,4.76071662107231,4.08218389934171,3.69650031882412,4.32021937465496,5.06601492135562,5.06601492135562,4.76071662107231,5.06601492135562,5.44652245543606,5.62713531718605,5.53756532580577,5.97199579039322,7.18783570403779,6.97602630329686,7.59375090101779,7.32564036186805],\"fEYhigh\":[8.97927446267043,8.39384992662381,8.46116562362432,6.97240965830357,7.0555452840609,6.71575340007623,6.97240965830357,8.39384992662381,17.7699160391705,25.5848559892219,12.1726175299287,5.32100732238368,5.20371938988384,5.76136640411342,5.8652346956897,5.20371938988384,4.83038075568817,5.4351961614818,6.16432406860527,6.16432406860527,5.8652346956897,6.16432406860527,6.53804637266794,6.71575340007623,6.62760123878468,7.0555452840609,8.25734576290841,8.04763434666193,8.65956419816109,8.39384992662381],\"_yAxisLabel\":\"Events \\/ ( 0.533333 )\",\"_ymin\":0,\"_ymax\":654.584855989222,\"_normValue\":0,\"_nominalBinWidth\":0.533333333333333,\"_nSigma\":1,\"_entries\":2000,\"_rawEntries\":2100},{\"_typename\":\"RooCurve\",\"fUniqueID\":0,\"fBits\":50332680,\"fName\":\"model_ctl_Norm[x]\",\"fTitle\":\"Projection of model_ctl\",\"fLineColor\":600,\"fLineStyle\":1,\"fLineWidth\":3,\"fFillColor\":0,\"fFillStyle\":1000,\"fMarkerColor\":1,\"fMarkerStyle\":1,\"fMarkerSize\":1,\"fNpoints\":97,\"fX\":[-8.53333333333333,-8.53333333333333,-8,-7.46666666666667,-6.93333333333333,-6.4,-5.86666666666667,-5.33333333333333,-4.8,-4.26666666666667,-4.13333333333333,-4,-3.93333333333333,-3.86666666666667,-3.83333333333333,-3.8,-3.76666666666667,-3.73333333333333,-3.7,-3.66666666666667,-3.63333333333333,-3.6,-3.56666666666667,-3.53333333333333,-3.5,-3.46666666666667,-3.43333333333333,-3.4,-3.33333333333333,-3.26666666666667,-3.23333333333333,-3.2,-3.18333333333333,-3.16666666666667,-3.15,-3.13333333333333,-3.11666666666667,-3.1,-3.08333333333333,-3.06666666666667,-3.05,-3.03333333333333,-3.01666666666667,-3,-2.98333333333333,-2.96666666666667,-2.95,-2.93333333333333,-2.91666666666667,-2.9,-2.88333333333333,-2.86666666666667,-2.83333333333333,-2.8,-2.76666666666667,-2.73333333333333,-2.66666666666667,-2.63333333333333,-2.6,-2.56666666666667,-2.53333333333333,-2.5,-2.46666666666667,-2.43333333333333,-2.4,-2.36666666666667,-2.33333333333333,-2.3,-2.26666666666667,-2.23333333333333,-2.2,-2.13333333333333,-2.06666666666667,-2,-1.86666666666667,-1.6,-1.06666666666667,-0.533333333333333,0,0.533333333333333,1.06666666666667,1.6,2.13333333333333,2.66666666666667,3.2,3.73333333333333,4.26666666666667,4.8,5.33333333333333,5.86666666666667,6.4,6.93333333333333,7.46666666666667,8,8,8.53333333333333,8.53333333333333],\"fY\":[0,62.7433538172883,62.7433538172883,57.0440693406837,51.7370204127596,46.8222070335161,42.2996292029532,38.1692869215155,34.4312232700377,31.2929185140621,31.3923715700732,34.2361552731066,38.2547552438283,45.5861698198787,51.0375429042693,58.0333424520956,66.8740009579911,77.8796160051231,91.3788829049425,107.694184722863,127.12291174501,149.915448534181,176.250686834209,206.210361959841,239.75392278075,276.695977050147,316.688548716945,359.210391435331,448.891589765183,538.315835041706,580.102951647414,618.33342105507,635.745594284262,651.835323157308,666.471712462074,679.533518209217,690.910808904467,700.506496152991,708.237704818327,714.036955704549,717.853137161099,719.652246045296,719.417883019137,717.15149208981,712.872339500226,706.6172324012,698.439983050821,688.410629449844,676.614428199852,663.150639838205,648.131130847855,631.678819865202,595.012556968931,554.290349402959,510.713229230632,465.48650493447,374.609963667846,330.945296834899,289.539093590052,250.986300752381,215.706713574293,183.952080129502,155.821151982852,131.280499030928,110.188823363827,92.322628925247,77.4013847394222,65.1107048906151,55.1225027139339,47.111509790595,40.7679424901938,31.9715004460996,26.8227476177416,23.9233892652296,21.4591398653035,20.2546452411213,19.2470295228143,18.6468060747605,18.43881927968,18.6230680332841,19.1995523355689,20.1682721865342,21.5292275861801,23.2824185345066,25.4278450315136,27.9655070772013,30.8954046715695,34.2175378146184,37.9319065063478,42.0385107467578,46.5373505358484,51.4284258736195,56.7117367600713,62.3872831952036,62.3872831952036,62.3872831952036,0],\"fFunctions\":{\"_typename\":\"TList\",\"name\":\"TList\",\"arr\":[],\"opt\":[]},\"fHistogram\":{\"_typename\":\"TH1F\",\"fUniqueID\":0,\"fBits\":50332168,\"fName\":\"model_ctl_Norm[x]\",\"fTitle\":\"Projection of model_ctl\",\"fLineColor\":602,\"fLineStyle\":1,\"fLineWidth\":1,\"fFillColor\":0,\"fFillStyle\":1001,\"fMarkerColor\":1,\"fMarkerStyle\":1,\"fMarkerSize\":1,\"fNcells\":102,\"fXaxis\":{\"_typename\":\"TAxis\",\"fUniqueID\":0,\"fBits\":50331648,\"fName\":\"xaxis\",\"fTitle\":\"\",\"fNdivisions\":510,\"fAxisColor\":1,\"fLabelColor\":1,\"fLabelFont\":42,\"fLabelOffset\":0.005,\"fLabelSize\":0.035,\"fTickLength\":0.03,\"fTitleOffset\":1,\"fTitleSize\":0.035,\"fTitleColor\":1,\"fTitleFont\":42,\"fNbins\":100,\"fXmin\":-10.24,\"fXmax\":10.24,\"fXbins\":[],\"fFirst\":0,\"fLast\":0,\"fBits2\":0,\"fTimeDisplay\":false,\"fTimeFormat\":\"\",\"fLabels\":null,\"fModLabs\":null},\"fYaxis\":{\"_typename\":\"TAxis\",\"fUniqueID\":0,\"fBits\":50331648,\"fName\":\"yaxis\",\"fTitle\":\"\",\"fNdivisions\":510,\"fAxisColor\":1,\"fLabelColor\":1,\"fLabelFont\":42,\"fLabelOffset\":0.005,\"fLabelSize\":0.035,\"fTickLength\":0.03,\"fTitleOffset\":0,\"fTitleSize\":0.035,\"fTitleColor\":1,\"fTitleFont\":42,\"fNbins\":1,\"fXmin\":0,\"fXmax\":791.617470649825,\"fXbins\":[],\"fFirst\":0,\"fLast\":0,\"fBits2\":0,\"fTimeDisplay\":false,\"fTimeFormat\":\"\",\"fLabels\":null,\"fModLabs\":null},\"fZaxis\":{\"_typename\":\"TAxis\",\"fUniqueID\":0,\"fBits\":50331648,\"fName\":\"zaxis\",\"fTitle\":\"\",\"fNdivisions\":510,\"fAxisColor\":1,\"fLabelColor\":1,\"fLabelFont\":42,\"fLabelOffset\":0.005,\"fLabelSize\":0.035,\"fTickLength\":0.03,\"fTitleOffset\":1,\"fTitleSize\":0.035,\"fTitleColor\":1,\"fTitleFont\":42,\"fNbins\":1,\"fXmin\":0,\"fXmax\":1,\"fXbins\":[],\"fFirst\":0,\"fLast\":0,\"fBits2\":0,\"fTimeDisplay\":false,\"fTimeFormat\":\"\",\"fLabels\":null,\"fModLabs\":null},\"fBarOffset\":0,\"fBarWidth\":1000,\"fEntries\":0,\"fTsumw\":0,\"fTsumw2\":0,\"fTsumwx\":0,\"fTsumwx2\":0,\"fMaximum\":791.617470649825,\"fMinimum\":0,\"fNormFactor\":0,\"fContour\":[],\"fSumw2\":[],\"fOption\":\"\",\"fFunctions\":{\"_typename\":\"TList\",\"name\":\"TList\",\"arr\":[],\"opt\":[]},\"fBufferSize\":0,\"fBuffer\":[],\"fBinStatErrOpt\":0,\"fStatOverflows\":2,\"fArray\":[0,0,0,0,0,0,0,0,0,0,0,0,0,0,0,0,0,0,0,0,0,0,0,0,0,0,0,0,0,0,0,0,0,0,0,0,0,0,0,0,0,0,0,0,0,0,0,0,0,0,0,0,0,0,0,0,0,0,0,0,0,0,0,0,0,0,0,0,0,0,0,0,0,0,0,0,0,0,0,0,0,0,0,0,0,0,0,0,0,0,0,0,0,0,0,0,0,0,0,0,0,0]},\"fMinimum\":-1111,\"fMaximum\":-1111,\"_yAxisLabel\":\"Projection of model_ctl\",\"_ymin\":0,\"_ymax\":719.652246045296,\"_normValue\":0},{\"_typename\":\"RooCurve\",\"fUniqueID\":0,\"fBits\":50332680,\"fName\":\"model_ctl_Norm[x]_Comp[px_ctl]\",\"fTitle\":\"Projection of model_ctl\",\"fLineColor\":600,\"fLineStyle\":2,\"fLineWidth\":3,\"fFillColor\":0,\"fFillStyle\":1000,\"fMarkerColor\":1,\"fMarkerStyle\":1,\"fMarkerSize\":1,\"fNpoints\":66,\"fX\":[-8.53333333333333,-8.53333333333333,-8,-7.73333333333333,-7.46666666666667,-7.2,-6.93333333333333,-6.66666666666667,-6.4,-6.13333333333333,-5.86666666666667,-5.6,-5.33333333333333,-5.06666666666667,-4.8,-4.53333333333333,-4.26666666666667,-4,-3.73333333333333,-3.46666666666667,-3.2,-2.93333333333333,-2.66666666666667,-2.4,-2.13333333333333,-1.86666666666667,-1.6,-1.33333333333333,-1.06666666666667,-0.8,-0.533333333333333,-0.266666666666667,0,0.266666666666667,0.533333333333333,0.8,1.06666666666667,1.33333333333333,1.6,1.86666666666667,2.13333333333333,2.4,2.66666666666667,2.93333333333333,3.2,3.46666666666667,3.73333333333333,4,4.26666666666667,4.53333333333333,4.8,5.06666666666667,5.33333333333333,5.6,5.86666666666667,6.13333333333333,6.4,6.66666666666667,6.93333333333333,7.2,7.46666666666667,7.73333333333333,8,8,8.53333333333333,8.53333333333333],\"fY\":[0,62.7433538172883,62.7433538172883,59.8446821354009,57.0440693406837,54.3415154331366,51.7370204127596,49.2305842795528,46.8222070335161,44.5118886746496,42.2996292029532,40.185428618427,38.1692869210709,36.251204110885,34.4311801878692,32.7092151520235,31.085309003348,29.5594617418427,28.1316733675075,26.8019438803424,25.5702732803475,24.4366615675227,23.4011087418681,22.4636148033837,21.6241797520693,20.8828035879252,20.2394863109511,19.6942279211472,19.2470284185135,18.8978878030499,18.6468060747565,18.4937832336332,18.43881927968,18.481914212897,18.6230680332841,18.8622807408414,19.1995523355689,19.6348828174665,20.1682721865342,20.7997204427721,21.5292275861801,22.3567936167582,23.2824185345066,24.306102339425,25.4278450315136,26.6476466107724,27.9655070772013,29.3814264308003,30.8954046715695,32.5074417995089,34.2175378146184,36.025692716898,37.9319065063478,39.9361791829677,42.0385107467578,44.238901197718,46.5373505358484,48.9338587611489,51.4284258736195,54.0210518732603,56.7117367600713,59.5004805340524,62.3872831952036,62.3872831952036,62.3872831952036,0],\"fFunctions\":{\"_typename\":\"TList\",\"name\":\"TList\",\"arr\":[],\"opt\":[]},\"fHistogram\":{\"_typename\":\"TH1F\",\"fUniqueID\":0,\"fBits\":50332168,\"fName\":\"model_ctl_Norm[x]_Comp[px_ctl]\",\"fTitle\":\"Projection of model_ctl\",\"fLineColor\":602,\"fLineStyle\":1,\"fLineWidth\":1,\"fFillColor\":0,\"fFillStyle\":1001,\"fMarkerColor\":1,\"fMarkerStyle\":1,\"fMarkerSize\":1,\"fNcells\":102,\"fXaxis\":{\"_typename\":\"TAxis\",\"fUniqueID\":0,\"fBits\":50331648,\"fName\":\"xaxis\",\"fTitle\":\"\",\"fNdivisions\":510,\"fAxisColor\":1,\"fLabelColor\":1,\"fLabelFont\":42,\"fLabelOffset\":0.005,\"fLabelSize\":0.035,\"fTickLength\":0.03,\"fTitleOffset\":1,\"fTitleSize\":0.035,\"fTitleColor\":1,\"fTitleFont\":42,\"fNbins\":100,\"fXmin\":-10.24,\"fXmax\":10.24,\"fXbins\":[],\"fFirst\":0,\"fLast\":0,\"fBits2\":0,\"fTimeDisplay\":false,\"fTimeFormat\":\"\",\"fLabels\":null,\"fModLabs\":null},\"fYaxis\":{\"_typename\":\"TAxis\",\"fUniqueID\":0,\"fBits\":50331648,\"fName\":\"yaxis\",\"fTitle\":\"\",\"fNdivisions\":510,\"fAxisColor\":1,\"fLabelColor\":1,\"fLabelFont\":42,\"fLabelOffset\":0.005,\"fLabelSize\":0.035,\"fTickLength\":0.03,\"fTitleOffset\":0,\"fTitleSize\":0.035,\"fTitleColor\":1,\"fTitleFont\":42,\"fNbins\":1,\"fXmin\":0,\"fXmax\":69.0176891990172,\"fXbins\":[],\"fFirst\":0,\"fLast\":0,\"fBits2\":0,\"fTimeDisplay\":false,\"fTimeFormat\":\"\",\"fLabels\":null,\"fModLabs\":null},\"fZaxis\":{\"_typename\":\"TAxis\",\"fUniqueID\":0,\"fBits\":50331648,\"fName\":\"zaxis\",\"fTitle\":\"\",\"fNdivisions\":510,\"fAxisColor\":1,\"fLabelColor\":1,\"fLabelFont\":42,\"fLabelOffset\":0.005,\"fLabelSize\":0.035,\"fTickLength\":0.03,\"fTitleOffset\":1,\"fTitleSize\":0.035,\"fTitleColor\":1,\"fTitleFont\":42,\"fNbins\":1,\"fXmin\":0,\"fXmax\":1,\"fXbins\":[],\"fFirst\":0,\"fLast\":0,\"fBits2\":0,\"fTimeDisplay\":false,\"fTimeFormat\":\"\",\"fLabels\":null,\"fModLabs\":null},\"fBarOffset\":0,\"fBarWidth\":1000,\"fEntries\":0,\"fTsumw\":0,\"fTsumw2\":0,\"fTsumwx\":0,\"fTsumwx2\":0,\"fMaximum\":69.0176891990172,\"fMinimum\":0,\"fNormFactor\":0,\"fContour\":[],\"fSumw2\":[],\"fOption\":\"\",\"fFunctions\":{\"_typename\":\"TList\",\"name\":\"TList\",\"arr\":[],\"opt\":[]},\"fBufferSize\":0,\"fBuffer\":[],\"fBinStatErrOpt\":0,\"fStatOverflows\":2,\"fArray\":[0,0,0,0,0,0,0,0,0,0,0,0,0,0,0,0,0,0,0,0,0,0,0,0,0,0,0,0,0,0,0,0,0,0,0,0,0,0,0,0,0,0,0,0,0,0,0,0,0,0,0,0,0,0,0,0,0,0,0,0,0,0,0,0,0,0,0,0,0,0,0,0,0,0,0,0,0,0,0,0,0,0,0,0,0,0,0,0,0,0,0,0,0,0,0,0,0,0,0,0,0,0]},\"fMinimum\":-1111,\"fMaximum\":-1111,\"_yAxisLabel\":\"Projection of model_ctl\",\"_ymin\":0,\"_ymax\":62.7433538172883,\"_normValue\":0},{\"$ref\":38},{\"_typename\":\"TPaveText\",\"fUniqueID\":0,\"fBits\":50331657,\"fLineColor\":1,\"fLineStyle\":1,\"fLineWidth\":1,\"fFillColor\":0,\"fFillStyle\":0,\"fX1\":-4.59926305596378,\"fY1\":783.184574647004,\"fX2\":3.53259629392968,\"fY2\":845.366509247293,\"fX1NDC\":0.309409547906881,\"fY1NDC\":0.929167220071608,\"fX2NDC\":0.690590452093119,\"fY2NDC\":0.995000004768372,\"fBorderSize\":0,\"fInit\":1,\"fShadowColor\":1,\"fCornerRadius\":0,\"fOption\":\"blNDC\",\"fName\":\"title\",\"fTextAngle\":0,\"fTextSize\":0,\"fTextAlign\":22,\"fTextColor\":1,\"fTextFont\":42,\"fLabel\":\"\",\"fLongest\":14,\"fMargin\":0.05,\"fLines\":{\"_typename\":\"TList\",\"name\":\"TList\",\"arr\":[{\"_typename\":\"TLatex\",\"fUniqueID\":0,\"fBits\":50331648,\"fName\":\"\",\"fTitle\":\"Control sample\",\"fTextAngle\":0,\"fTextSize\":0,\"fTextAlign\":0,\"fTextColor\":0,\"fTextFont\":0,\"fX\":0,\"fY\":0,\"fLineColor\":1,\"fLineStyle\":1,\"fLineWidth\":2,\"fLimitFactorSize\":3,\"fOriginSize\":0.0559578686952591}],\"opt\":[\"\"]}}],\"opt\":[\"\",\"FUNC\",\"p\",\"l\",\"l\",\"AXISSAME\",\"blNDC\"]},\"fExecs\":{\"_typename\":\"TList\",\"name\":\"TList\",\"arr\":[],\"opt\":[]},\"fName\":\"rf501_simultaneouspdf_2\",\"fTitle\":\"rf501_simultaneouspdf_2\",\"fNumPaletteColor\":0,\"fNextPaletteColor\":0}],\"opt\":[\"\",\"\"]},\"fExecs\":null,\"fName\":\"rf501_simultaneouspdf\",\"fTitle\":\"rf403_simultaneouspdf\",\"fNumPaletteColor\":0,\"fNextPaletteColor\":0,\"fDISPLAY\":\"$DISPLAY\",\"fDoubleBuffer\":0,\"fRetained\":true,\"fXsizeUser\":0,\"fYsizeUser\":0,\"fXsizeReal\":20,\"fYsizeReal\":10,\"fWindowTopX\":0,\"fWindowTopY\":0,\"fWindowWidth\":0,\"fWindowHeight\":0,\"fCw\":796,\"fCh\":372,\"fCatt\":{\"_typename\":\"TAttCanvas\",\"fXBetween\":2,\"fYBetween\":2,\"fTitleFromTop\":1.2,\"fXdate\":0.2,\"fYdate\":0.3,\"fAdate\":1},\"kMoveOpaque\":true,\"kResizeOpaque\":true,\"fHighLightColor\":2,\"fBatch\":true,\"kShowEventStatus\":false,\"kAutoExec\":true,\"kMenuBar\":true});\n",
       "       Core.draw(\"root_plot_1\", obj, \"\");\n",
       "     }\n",
       " );\n",
       "</script>\n"
      ],
      "text/plain": [
       "<IPython.core.display.HTML object>"
      ]
     },
     "metadata": {},
     "output_type": "display_data"
    }
   ],
   "source": [
    "%jsroot on\n",
    "gROOT->GetListOfCanvases()->Draw()"
   ]
  }
 ],
 "metadata": {
  "kernelspec": {
   "display_name": "ROOT C++",
   "language": "c++",
   "name": "root"
  },
  "language_info": {
   "codemirror_mode": "text/x-c++src",
   "file_extension": ".C",
   "mimetype": " text/x-c++src",
   "name": "c++"
  }
 },
 "nbformat": 4,
 "nbformat_minor": 2
}
