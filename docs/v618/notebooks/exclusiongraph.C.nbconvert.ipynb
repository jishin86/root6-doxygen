{
 "cells": [
  {
   "cell_type": "markdown",
   "metadata": {},
   "source": [
    "# Exclusiongraph\n",
    "Draw three graphs with an exclusion zone.\n",
    "\n",
    "\n",
    "\n",
    "\n",
    "**Author:** Olivier Couet  \n",
    "<i><small>This notebook tutorial was automatically generated with <a href= \"https://github.com/root-project/root/blob/master/documentation/doxygen/converttonotebook.py\">ROOTBOOK-izer</a> from the macro found in the ROOT repository  on Thursday, August 29, 2019 at 01:45 AM.</small></i>"
   ]
  },
  {
   "cell_type": "code",
   "execution_count": 1,
   "metadata": {
    "collapsed": false
   },
   "outputs": [],
   "source": [
    "TCanvas *c1 = new TCanvas(\"c1\",\"Exclusion graphs examples\",200,10,600,400);\n",
    "c1->SetGrid();\n",
    "\n",
    "TMultiGraph *mg = new TMultiGraph();\n",
    "mg->SetTitle(\"Exclusion graphs\");\n",
    "\n",
    "const Int_t n = 35;\n",
    "Double_t xvalues1[n], xvalues2[n], xvalues3[n], yvalues1[n], yvalues2[n], yvalues3[n];\n",
    "for (Int_t i=0;i<n;i++) {\n",
    "  xvalues1[i]  = i*0.1;\n",
    "  xvalues2[i]  = xvalues1[i];\n",
    "  xvalues3[i]  = xvalues1[i]+.5;\n",
    "  yvalues1[i] = 10*sin(xvalues1[i]);\n",
    "  yvalues2[i] = 10*cos(xvalues1[i]);\n",
    "  yvalues3[i] = 10*sin(xvalues1[i])-2;\n",
    "}\n",
    "\n",
    "TGraph *gr1 = new TGraph(n,xvalues1,yvalues1);\n",
    "gr1->SetLineColor(2);\n",
    "gr1->SetLineWidth(1504);\n",
    "gr1->SetFillStyle(3005);\n",
    "\n",
    "TGraph *gr2 = new TGraph(n,xvalues2,yvalues2);\n",
    "gr2->SetLineColor(4);\n",
    "gr2->SetLineWidth(-2002);\n",
    "gr2->SetFillStyle(3004);\n",
    "gr2->SetFillColor(9);\n",
    "\n",
    "TGraph *gr3 = new TGraph(n,xvalues3,yvalues3);\n",
    "gr3->SetLineColor(5);\n",
    "gr3->SetLineWidth(-802);\n",
    "gr3->SetFillStyle(3002);\n",
    "gr3->SetFillColor(2);\n",
    "\n",
    "mg->Add(gr1);\n",
    "mg->Add(gr2);\n",
    "mg->Add(gr3);\n",
    "mg->Draw(\"AC\");\n",
    "\n",
    "return c1;"
   ]
  },
  {
   "cell_type": "markdown",
   "metadata": {},
   "source": [
    "Draw all canvases "
   ]
  },
  {
   "cell_type": "code",
   "execution_count": 2,
   "metadata": {
    "collapsed": false
   },
   "outputs": [
    {
     "data": {
      "image/png": "[encoded data removed]",
      "text/plain": [
       "<IPython.core.display.Image object>"
      ]
     },
     "metadata": {},
     "output_type": "display_data"
    }
   ],
   "source": [
    "gROOT->GetListOfCanvases()->Draw()"
   ]
  }
 ],
 "metadata": {
  "kernelspec": {
   "display_name": "ROOT C++",
   "language": "c++",
   "name": "root"
  },
  "language_info": {
   "codemirror_mode": "text/x-c++src",
   "file_extension": ".C",
   "mimetype": " text/x-c++src",
   "name": "c++"
  }
 },
 "nbformat": 4,
 "nbformat_minor": 2
}
