{
 "cells": [
  {
   "cell_type": "markdown",
   "metadata": {},
   "source": [
    "# Df 0 3 0_ S Qlite Versions Of R O O T\n",
    "Plot the downloads of different ROOT versions reading a remote sqlite3 file with RSqliteDS.\n",
    "Then a TH1F histogram is created and filled\n",
    "using a lambda expression which receives the recorded\n",
    "values in the \"version\" column of the sqlite3 database.\n",
    "The histogram shows the usage of the ROOT development version.\n",
    "\n",
    "\n",
    "\n",
    "\n",
    "**Author:** Alexandra-Maria Dobrescu  \n",
    "<i><small>This notebook tutorial was automatically generated with <a href= \"https://github.com/root-project/root/blob/master/documentation/doxygen/converttonotebook.py\">ROOTBOOK-izer</a> from the macro found in the ROOT repository  on Thursday, August 29, 2019 at 01:15 AM.</small></i>"
   ]
  },
  {
   "cell_type": "code",
   "execution_count": 1,
   "metadata": {
    "collapsed": false
   },
   "outputs": [],
   "source": [
    "auto rdf = ROOT::RDF::MakeSqliteDataFrame(\"http://root.cern/files/root_download_stats.sqlite\", \"SELECT Version FROM accesslog;\");\n",
    "\n",
    "TH1F hVersionOfRoot(\"hVersionOfRoot\", \"Development Versions of ROOT\", 8, 0, -1);\n",
    "\n",
    "auto fillVersionHisto = [&hVersionOfRoot] (const std::string &version) {\n",
    "   TString copyVersion = version;\n",
    "   TString shortVersion(copyVersion(0,4));\n",
    "   hVersionOfRoot.Fill(shortVersion, 1);\n",
    "};\n",
    "\n",
    "rdf.Foreach( fillVersionHisto, { \"Version\" } );\n",
    "\n",
    "auto VersionOfRootHistogram = new TCanvas();\n",
    "\n",
    "gStyle->SetOptStat(0);\n",
    "hVersionOfRoot.GetXaxis()->LabelsOption(\"a\");\n",
    "hVersionOfRoot.LabelsDeflate(\"X\");\n",
    "hVersionOfRoot.DrawClone(\"\");"
   ]
  },
  {
   "cell_type": "markdown",
   "metadata": {},
   "source": [
    "Draw all canvases "
   ]
  },
  {
   "cell_type": "code",
   "execution_count": 2,
   "metadata": {
    "collapsed": false
   },
   "outputs": [
    {
     "data": {
      "text/html": [
       "\n",
       "<div id=\"root_plot_1\"\n",
       "     style=\"width: 696px; height: 472px\">\n",
       "</div>\n",
       "\n",
       "<script>\n",
       " requirejs.config({\n",
       "     paths: {\n",
       "       'JSRootCore' : 'https://root.cern.ch/js/notebook//scripts/JSRootCore',\n",
       "     }\n",
       "   });\n",
       " require(['JSRootCore'],\n",
       "     function(Core) {\n",
       "       var obj = Core.JSONR_unref({\"_typename\":\"TCanvas\",\"fUniqueID\":0,\"fBits\":53673992,\"fLineColor\":1,\"fLineStyle\":1,\"fLineWidth\":1,\"fFillColor\":0,\"fFillStyle\":1001,\"fLeftMargin\":0.1,\"fRightMargin\":0.1,\"fBottomMargin\":0.1,\"fTopMargin\":0.1,\"fXfile\":2,\"fYfile\":2,\"fAfile\":1,\"fXstat\":0.99,\"fYstat\":0.99,\"fAstat\":2,\"fFrameFillColor\":0,\"fFrameLineColor\":1,\"fFrameFillStyle\":1001,\"fFrameLineStyle\":1,\"fFrameLineWidth\":1,\"fFrameBorderSize\":1,\"fFrameBorderMode\":0,\"fX1\":-7.37500054948035,\"fY1\":-9831.93823253647,\"fX2\":66.3750005494803,\"fY2\":88487.4382325365,\"fXtoAbsPixelk\":69.6000541484835,\"fXtoPixelk\":69.6000541484835,\"fXtoPixel\":9.43728799496666,\"fYtoAbsPixelk\":424.800047186661,\"fYtoPixelk\":424.800047186661,\"fYtoPixel\":-0.0048006813811281,\"fUtoAbsPixelk\":5e-5,\"fUtoPixelk\":5e-5,\"fUtoPixel\":696,\"fVtoAbsPixelk\":472.00005,\"fVtoPixelk\":472,\"fVtoPixel\":-472,\"fAbsPixeltoXk\":-7.37500054948035,\"fPixeltoXk\":-7.37500054948035,\"fPixeltoX\":0.105962645257127,\"fAbsPixeltoYk\":88487.4382325365,\"fPixeltoYk\":-9831.93823253647,\"fPixeltoY\":-208.303763697188,\"fXlowNDC\":0,\"fYlowNDC\":0,\"fXUpNDC\":0,\"fYUpNDC\":0,\"fWNDC\":1,\"fHNDC\":1,\"fAbsXlowNDC\":0,\"fAbsYlowNDC\":0,\"fAbsWNDC\":1,\"fAbsHNDC\":1,\"fUxmin\":0,\"fUymin\":0,\"fUxmax\":59,\"fUymax\":78655.5,\"fTheta\":30,\"fPhi\":30,\"fAspectRatio\":0,\"fNumber\":0,\"fTickx\":0,\"fTicky\":0,\"fLogx\":0,\"fLogy\":0,\"fLogz\":0,\"fPadPaint\":0,\"fCrosshair\":0,\"fCrosshairPos\":0,\"fBorderSize\":2,\"fBorderMode\":0,\"fModified\":false,\"fGridx\":false,\"fGridy\":false,\"fAbsCoord\":false,\"fEditable\":true,\"fFixedAspectRatio\":false,\"fPrimitives\":{\"_typename\":\"TList\",\"name\":\"TList\",\"arr\":[{\"_typename\":\"TFrame\",\"fUniqueID\":0,\"fBits\":50331656,\"fLineColor\":1,\"fLineStyle\":1,\"fLineWidth\":1,\"fFillColor\":0,\"fFillStyle\":1001,\"fX1\":0,\"fY1\":0,\"fX2\":59,\"fY2\":78655.5,\"fBorderSize\":1,\"fBorderMode\":0},{\"_typename\":\"TH1F\",\"fUniqueID\":0,\"fBits\":50331656,\"fName\":\"hVersionOfRoot\",\"fTitle\":\"Development Versions of ROOT\",\"fLineColor\":602,\"fLineStyle\":1,\"fLineWidth\":1,\"fFillColor\":0,\"fFillStyle\":1001,\"fMarkerColor\":1,\"fMarkerStyle\":1,\"fMarkerSize\":1,\"fNcells\":61,\"fXaxis\":{\"_typename\":\"TAxis\",\"fUniqueID\":0,\"fBits\":50331648,\"fName\":\"xaxis\",\"fTitle\":\"\",\"fNdivisions\":510,\"fAxisColor\":1,\"fLabelColor\":1,\"fLabelFont\":42,\"fLabelOffset\":0.005,\"fLabelSize\":0.035,\"fTickLength\":0.03,\"fTitleOffset\":1,\"fTitleSize\":0.035,\"fTitleColor\":1,\"fTitleFont\":42,\"fNbins\":59,\"fXmin\":0,\"fXmax\":59,\"fXbins\":[],\"fFirst\":1,\"fLast\":64,\"fBits2\":3,\"fTimeDisplay\":false,\"fTimeFormat\":\"\",\"fLabels\":{\"_typename\":\"THashList\",\"name\":\"THashList\",\"arr\":[{\"_typename\":\"TObjString\",\"fUniqueID\":1,\"fBits\":50331648,\"fString\":\"2.20\"},{\"_typename\":\"TObjString\",\"fUniqueID\":2,\"fBits\":50331648,\"fString\":\"3.02\"},{\"_typename\":\"TObjString\",\"fUniqueID\":3,\"fBits\":50331648,\"fString\":\"3.03\"},{\"_typename\":\"TObjString\",\"fUniqueID\":4,\"fBits\":50331648,\"fString\":\"3.04\"},{\"_typename\":\"TObjString\",\"fUniqueID\":5,\"fBits\":50331648,\"fString\":\"3.05\"},{\"_typename\":\"TObjString\",\"fUniqueID\":6,\"fBits\":50331648,\"fString\":\"3.10\"},{\"_typename\":\"TObjString\",\"fUniqueID\":7,\"fBits\":50331648,\"fString\":\"4.00\"},{\"_typename\":\"TObjString\",\"fUniqueID\":8,\"fBits\":50331648,\"fString\":\"4.01\"},{\"_typename\":\"TObjString\",\"fUniqueID\":9,\"fBits\":50331648,\"fString\":\"4.02\"},{\"_typename\":\"TObjString\",\"fUniqueID\":10,\"fBits\":50331648,\"fString\":\"4.03\"},{\"_typename\":\"TObjString\",\"fUniqueID\":11,\"fBits\":50331648,\"fString\":\"4.04\"},{\"_typename\":\"TObjString\",\"fUniqueID\":12,\"fBits\":50331648,\"fString\":\"5.02\"},{\"_typename\":\"TObjString\",\"fUniqueID\":13,\"fBits\":50331648,\"fString\":\"5.03\"},{\"_typename\":\"TObjString\",\"fUniqueID\":14,\"fBits\":50331648,\"fString\":\"5.04\"},{\"_typename\":\"TObjString\",\"fUniqueID\":15,\"fBits\":50331648,\"fString\":\"5.06\"},{\"_typename\":\"TObjString\",\"fUniqueID\":16,\"fBits\":50331648,\"fString\":\"5.08\"},{\"_typename\":\"TObjString\",\"fUniqueID\":17,\"fBits\":50331648,\"fString\":\"5.09\"},{\"_typename\":\"TObjString\",\"fUniqueID\":18,\"fBits\":50331648,\"fString\":\"5.10\"},{\"_typename\":\"TObjString\",\"fUniqueID\":19,\"fBits\":50331648,\"fString\":\"5.11\"},{\"_typename\":\"TObjString\",\"fUniqueID\":20,\"fBits\":50331648,\"fString\":\"5.12\"},{\"_typename\":\"TObjString\",\"fUniqueID\":21,\"fBits\":50331648,\"fString\":\"5.13\"},{\"_typename\":\"TObjString\",\"fUniqueID\":22,\"fBits\":50331648,\"fString\":\"5.14\"},{\"_typename\":\"TObjString\",\"fUniqueID\":23,\"fBits\":50331648,\"fString\":\"5.15\"},{\"_typename\":\"TObjString\",\"fUniqueID\":24,\"fBits\":50331648,\"fString\":\"5.16\"},{\"_typename\":\"TObjString\",\"fUniqueID\":25,\"fBits\":50331648,\"fString\":\"5.17\"},{\"_typename\":\"TObjString\",\"fUniqueID\":26,\"fBits\":50331648,\"fString\":\"5.18\"},{\"_typename\":\"TObjString\",\"fUniqueID\":27,\"fBits\":50331648,\"fString\":\"5.19\"},{\"_typename\":\"TObjString\",\"fUniqueID\":28,\"fBits\":50331648,\"fString\":\"5.20\"},{\"_typename\":\"TObjString\",\"fUniqueID\":29,\"fBits\":50331648,\"fString\":\"5.21\"},{\"_typename\":\"TObjString\",\"fUniqueID\":30,\"fBits\":50331648,\"fString\":\"5.22\"},{\"_typename\":\"TObjString\",\"fUniqueID\":31,\"fBits\":50331648,\"fString\":\"5.23\"},{\"_typename\":\"TObjString\",\"fUniqueID\":32,\"fBits\":50331648,\"fString\":\"5.24\"},{\"_typename\":\"TObjString\",\"fUniqueID\":33,\"fBits\":50331648,\"fString\":\"5.25\"},{\"_typename\":\"TObjString\",\"fUniqueID\":34,\"fBits\":50331648,\"fString\":\"5.26\"},{\"_typename\":\"TObjString\",\"fUniqueID\":35,\"fBits\":50331648,\"fString\":\"5.27\"},{\"_typename\":\"TObjString\",\"fUniqueID\":36,\"fBits\":50331648,\"fString\":\"5.28\"},{\"_typename\":\"TObjString\",\"fUniqueID\":37,\"fBits\":50331648,\"fString\":\"5.29\"},{\"_typename\":\"TObjString\",\"fUniqueID\":38,\"fBits\":50331648,\"fString\":\"5.30\"},{\"_typename\":\"TObjString\",\"fUniqueID\":39,\"fBits\":50331648,\"fString\":\"5.32\"},{\"_typename\":\"TObjString\",\"fUniqueID\":40,\"fBits\":50331648,\"fString\":\"5.33\"},{\"_typename\":\"TObjString\",\"fUniqueID\":41,\"fBits\":50331648,\"fString\":\"5.34\"},{\"_typename\":\"TObjString\",\"fUniqueID\":42,\"fBits\":50331648,\"fString\":\"5.99\"},{\"_typename\":\"TObjString\",\"fUniqueID\":43,\"fBits\":50331648,\"fString\":\"6.00\"},{\"_typename\":\"TObjString\",\"fUniqueID\":44,\"fBits\":50331648,\"fString\":\"6.02\"},{\"_typename\":\"TObjString\",\"fUniqueID\":45,\"fBits\":50331648,\"fString\":\"6.03\"},{\"_typename\":\"TObjString\",\"fUniqueID\":46,\"fBits\":50331648,\"fString\":\"6.04\"},{\"_typename\":\"TObjString\",\"fUniqueID\":47,\"fBits\":50331648,\"fString\":\"6.05\"},{\"_typename\":\"TObjString\",\"fUniqueID\":48,\"fBits\":50331648,\"fString\":\"6.06\"},{\"_typename\":\"TObjString\",\"fUniqueID\":49,\"fBits\":50331648,\"fString\":\"6.07\"},{\"_typename\":\"TObjString\",\"fUniqueID\":50,\"fBits\":50331648,\"fString\":\"6.08\"},{\"_typename\":\"TObjString\",\"fUniqueID\":51,\"fBits\":50331648,\"fString\":\"6.09\"},{\"_typename\":\"TObjString\",\"fUniqueID\":52,\"fBits\":50331648,\"fString\":\"6.10\"},{\"_typename\":\"TObjString\",\"fUniqueID\":53,\"fBits\":50331648,\"fString\":\"6.11\"},{\"_typename\":\"TObjString\",\"fUniqueID\":54,\"fBits\":50331648,\"fString\":\"6.12\"},{\"_typename\":\"TObjString\",\"fUniqueID\":55,\"fBits\":50331648,\"fString\":\"6.13\"},{\"_typename\":\"TObjString\",\"fUniqueID\":56,\"fBits\":50331648,\"fString\":\"6.14\"},{\"_typename\":\"TObjString\",\"fUniqueID\":57,\"fBits\":50331648,\"fString\":\"6.15\"},{\"_typename\":\"TObjString\",\"fUniqueID\":58,\"fBits\":50331648,\"fString\":\"6.16\"},{\"_typename\":\"TObjString\",\"fUniqueID\":59,\"fBits\":50331648,\"fString\":\"6.18\"}],\"opt\":[\"\",\"\",\"\",\"\",\"\",\"\",\"\",\"\",\"\",\"\",\"\",\"\",\"\",\"\",\"\",\"\",\"\",\"\",\"\",\"\",\"\",\"\",\"\",\"\",\"\",\"\",\"\",\"\",\"\",\"\",\"\",\"\",\"\",\"\",\"\",\"\",\"\",\"\",\"\",\"\",\"\",\"\",\"\",\"\",\"\",\"\",\"\",\"\",\"\",\"\",\"\",\"\",\"\",\"\",\"\",\"\",\"\",\"\",\"\"]},\"fModLabs\":null},\"fYaxis\":{\"_typename\":\"TAxis\",\"fUniqueID\":0,\"fBits\":50331648,\"fName\":\"yaxis\",\"fTitle\":\"\",\"fNdivisions\":510,\"fAxisColor\":1,\"fLabelColor\":1,\"fLabelFont\":42,\"fLabelOffset\":0.005,\"fLabelSize\":0.035,\"fTickLength\":0.03,\"fTitleOffset\":0,\"fTitleSize\":0.035,\"fTitleColor\":1,\"fTitleFont\":42,\"fNbins\":1,\"fXmin\":0,\"fXmax\":1,\"fXbins\":[],\"fFirst\":0,\"fLast\":0,\"fBits2\":0,\"fTimeDisplay\":false,\"fTimeFormat\":\"\",\"fLabels\":null,\"fModLabs\":null},\"fZaxis\":{\"_typename\":\"TAxis\",\"fUniqueID\":0,\"fBits\":50331648,\"fName\":\"zaxis\",\"fTitle\":\"\",\"fNdivisions\":510,\"fAxisColor\":1,\"fLabelColor\":1,\"fLabelFont\":42,\"fLabelOffset\":0.005,\"fLabelSize\":0.035,\"fTickLength\":0.03,\"fTitleOffset\":1,\"fTitleSize\":0.035,\"fTitleColor\":1,\"fTitleFont\":42,\"fNbins\":1,\"fXmin\":0,\"fXmax\":1,\"fXbins\":[],\"fFirst\":0,\"fLast\":0,\"fBits2\":0,\"fTimeDisplay\":false,\"fTimeFormat\":\"\",\"fLabels\":null,\"fModLabs\":null},\"fBarOffset\":0,\"fBarWidth\":1000,\"fEntries\":206803,\"fTsumw\":0,\"fTsumw2\":206803,\"fTsumwx\":0,\"fTsumwx2\":0,\"fMaximum\":-1111,\"fMinimum\":-1111,\"fNormFactor\":0,\"fContour\":[],\"fSumw2\":[],\"fOption\":\"\",\"fFunctions\":{\"_typename\":\"TList\",\"name\":\"TList\",\"arr\":[],\"opt\":[]},\"fBufferSize\":2001,\"fBuffer\":[0,0,0,0,0,0,0,0,0,0,0,0,0,0,0,0,0,0,0,0,0,0,0,0,0,0,0,0,0,0,0,0,0,0,0,0,0,0,0,0,0,0,0,0,0,0,0,0,0,0,0,0,0,0,0,0,0,0,0,0,0,0,0,0,0,0,0,0,0,0,0,0,0,0,0,0,0,0,0,0,0,0,0,0,0,0,0,0,0,0,0,0,0,0,0,0,0,0,0,0,0,0,0,0,0,0,0,0,0,0,0,0,0,0,0,0,0,0,0,0,0,0,0,0,0,0,0,0,0,0,0,0,0,0,0,0,0,0,0,0,0,0,0,0,0,0,0,0,0,0,0,0,0,0,0,0,0,0,0,0,0,0,0,0,0,0,0,0,0,0,0,0,0,0,0,0,0,0,0,0,0,0,0,0,0,0,0,0,0,0,0,0,0,0,0,0,0,0,0,0,0,0,0,0,0,0,0,0,0,0,0,0,0,0,0,0,0,0,0,0,0,0,0,0,0,0,0,0,0,0,0,0,0,0,0,0,0,0,0,0,0,0,0,0,0,0,0,0,0,0,0,0,0,0,0,0,0,0,0,0,0,0,0,0,0,0,0,0,0,0,0,0,0,0,0,0,0,0,0,0,0,0,0,0,0,0,0,0,0,0,0,0,0,0,0,0,0,0,0,0,0,0,0,0,0,0,0,0,0,0,0,0,0,0,0,0,0,0,0,0,0,0,0,0,0,0,0,0,0,0,0,0,0,0,0,0,0,0,0,0,0,0,0,0,0,0,0,0,0,0,0,0,0,0,0,0,0,0,0,0,0,0,0,0,0,0,0,0,0,0,0,0,0,0,0,0,0,0,0,0,0,0,0,0,0,0,0,0,0,0,0,0,0,0,0,0,0,0,0,0,0,0,0,0,0,0,0,0,0,0,0,0,0,0,0,0,0,0,0,0,0,0,0,0,0,0,0,0,0,0,0,0,0,0,0,0,0,0,0,0,0,0,0,0,0,0,0,0,0,0,0,0,0,0,0,0,0,0,0,0,0,0,0,0,0,0,0,0,0,0,0,0,0,0,0,0,0,0,0,0,0,0,0,0,0,0,0,0,0,0,0,0,0,0,0,0,0,0,0,0,0,0,0,0,0,0,0,0,0,0,0,0,0,0,0,0,0,0,0,0,0,0,0,0,0,0,0,0,0,0,0,0,0,0,0,0,0,0,0,0,0,0,0,0,0,0,0,0,0,0,0,0,0,0,0,0,0,0,0,0,0,0,0,0,0,0,0,0,0,0,0,0,0,0,0,0,0,0,0,0,0,0,0,0,0,0,0,0,0,0,0,0,0,0,0,0,0,0,0,0,0,0,0,0,0,0,0,0,0,0,0,0,0,0,0,0,0,0,0,0,0,0,0,0,0,0,0,0,0,0,0,0,0,0,0,0,0,0,0,0,0,0,0,0,0,0,0,0,0,0,0,0,0,0,0,0,0,0,0,0,0,0,0,0,0,0,0,0,0,0,0,0,0,0,0,0,0,0,0,0,0,0,0,0,0,0,0,0,0,0,0,0,0,0,0,0,0,0,0,0,0,0,0,0,0,0,0,0,0,0,0,0,0,0,0,0,0,0,0,0,0,0,0,0,0,0,0,0,0,0,0,0,0,0,0,0,0,0,0,0,0,0,0,0,0,0,0,0,0,0,0,0,0,0,0,0,0,0,0,0,0,0,0,0,0,0,0,0,0,0,0,0,0,0,0,0,0,0,0,0,0,0,0,0,0,0,0,0,0,0,0,0,0,0,0,0,0,0,0,0,0,0,0,0,0,0,0,0,0,0,0,0,0,0,0,0,0,0,0,0,0,0,0,0,0,0,0,0,0,0,0,0,0,0,0,0,0,0,0,0,0,0,0,0,0,0,0,0,0,0,0,0,0,0,0,0,0,0,0,0,0,0,0,0,0,0,0,0,0,0,0,0,0,0,0,0,0,0,0,0,0,0,0,0,0,0,0,0,0,0,0,0,0,0,0,0,0,0,0,0,0,0,0,0,0,0,0,0,0,0,0,0,0,0,0,0,0,0,0,0,0,0,0,0,0,0,0,0,0,0,0,0,0,0,0,0,0,0,0,0,0,0,0,0,0,0,0,0,0,0,0,0,0,0,0,0,0,0,0,0,0,0,0,0,0,0,0,0,0,0,0,0,0,0,0,0,0,0,0,0,0,0,0,0,0,0,0,0,0,0,0,0,0,0,0,0,0,0,0,0,0,0,0,0,0,0,0,0,0,0,0,0,0,0,0,0,0,0,0,0,0,0,0,0,0,0,0,0,0,0,0,0,0,0,0,0,0,0,0,0,0,0,0,0,0,0,0,0,0,0,0,0,0,0,0,0,0,0,0,0,0,0,0,0,0,0,0,0,0,0,0,0,0,0,0,0,0,0,0,0,0,0,0,0,0,0,0,0,0,0,0,0,0,0,0,0,0,0,0,0,0,0,0,0,0,0,0,0,0,0,0,0,0,0,0,0,0,0,0,0,0,0,0,0,0,0,0,0,0,0,0,0,0,0,0,0,0,0,0,0,0,0,0,0,0,0,0,0,0,0,0,0,0,0,0,0,0,0,0,0,0,0,0,0,0,0,0,0,0,0,0,0,0,0,0,0,0,0,0,0,0,0,0,0,0,0,0,0,0,0,0,0,0,0,0,0,0,0,0,0,0,0,0,0,0,0,0,0,0,0,0,0,0,0,0,0,0,0,0,0,0,0,0,0,0,0,0,0,0,0,0,0,0,0,0,0,0,0,0,0,0,0,0,0,0,0,0,0,0,0,0,0,0,0,0,0,0,0,0,0,0,0,0,0,0,0,0,0,0,0,0,0,0,0,0,0,0,0,0,0,0,0,0,0,0,0,0,0,0,0,0,0,0,0,0,0,0,0,0,0,0,0,0,0,0,0,0,0,0,0,0,0,0,0,0,0,0,0,0,0,0,0,0,0,0,0,0,0,0,0,0,0,0,0,0,0,0,0,0,0,0,0,0,0,0,0,0,0,0,0,0,0,0,0,0,0,0,0,0,0,0,0,0,0,0,0,0,0,0,0,0,0,0,0,0,0,0,0,0,0,0,0,0,0,0,0,0,0,0,0,0,0,0,0,0,0,0,0,0,0,0,0,0,0,0,0,0,0,0,0,0,0,0,0,0,0,0,0,0,0,0,0,0,0,0,0,0,0,0,0,0,0,0,0,0,0,0,0,0,0,0,0,0,0,0,0,0,0,0,0,0,0,0,0,0,0,0,0,0,0,0,0,0,0,0,0,0,0,0,0,0,0,0,0,0,0,0,0,0,0,0,0,0,0,0,0,0,0,0,0,0,0,0,0,0,0,0,0,0,0,0,0,0,0,0,0,0,0,0,0,0,0,0,0,0,0,0,0,0,0,0,0,0,0,0,0,0,0,0,0,0,0,0,0,0,0,0,0,0,0,0,0,0,0,0,0,0,0,0,0,0,0,0,0,0,0,0,0,0,0,0,0,0,0,0,0,0,0,0,0,0,0,0,0,0,0,0,0,0,0,0,0,0,0,0,0,0,0,0,0,0,0,0,0,0,0,0,0,0,0,0,0,0,0,0,0,0,0,0,0,0,0,0,0,0,0,0,0,0,0,0,0,0,0,0,0,0,0,0,0,0,0,0,0,0,0,0,0,0,0,0,0,0,0,0,0,0,0,0,0,0,0,0,0,0,0,0,0,0,0,0,0,0,0,0,0,0,0,0,0,0,0,0,0,0,0,0,0,0,0,0,0,0,0,0,0,0,0,0,0,0,0,0,0,0,0,0,0,0,0,0,0,0,0,0,0,0,0,0,0,0,0,0,0,0,0,0,0,0,0,0,0,0,0,0,0,0,0,0,0,0,0,0,0,0,0,0,0,0,0,0,0,0,0,0,0,0,0,0,0,0,0,0,0,0,0,0,0,0,0,0,0,0,0,0,0,0,0,0,0,0,0,0,0,0,0,0,0,0,0,0,0,0,0,0,0,0,0,0,0,0,0,0,0,0,0,0,0,0,0,0,0,0,0,0,0,0,0,0,0,0,0,0,0,0,0,0,0,0,0,0,0,0,0,0,0,0,0,0,0,0,0,0,0,0,0,0,0,0,0,0,0,0,0,0,0,0,0,0,0,0,0,0,0,0,0,0,0,0,0,0,0,0,0,0,0,0,0,0,0,0,0,0,0,0,0,0,0,0,0,0,0,0,0,0,0,0,0,0,0,0,0,0,0,0,0,0,0,0,0,0,0,0,0,0,0,0,0,0,0,0,0,0,0,0,0,0,0,0,0,0,0,0,0,0,0,0,0,0,0,0,0,0,0,0,0,0,0,0,0,0,0,0,0,0,0,0,0,0,0,0,0,0,0,0,0,0,0,0,0,0,0,0,0,0,0,0,0,0,0,0,0,0,0,0,0,0,0,0,0,0,0,0,0,0,0,0,0,0,0,0,0,0,0,0,0,0,0,0,0,0],\"fBinStatErrOpt\":0,\"fStatOverflows\":2,\"fArray\":[0,4,79,73,60,156,137,471,106,57,101,129,66,1,30,42,37,3,57,131,87,138,99,180,64,228,150,93,81,197,128,117,126,157,259,244,651,75,606,690,58,31396,650,188,429,191,1366,121,1936,5,2993,2599,7652,357,10895,2645,74910,130,47621,14551,0]},{\"_typename\":\"TPaveText\",\"fUniqueID\":0,\"fBits\":50331657,\"fLineColor\":1,\"fLineStyle\":1,\"fLineWidth\":1,\"fFillColor\":0,\"fFillStyle\":0,\"fX1\":9.47729855221319,\"fY1\":81996.6934245554,\"fX2\":49.5227014477868,\"fY2\":87995.8418190344,\"fX1NDC\":0.228505747126437,\"fY1NDC\":0.933983055615829,\"fX2NDC\":0.771494252873563,\"fY2NDC\":0.995000004768372,\"fBorderSize\":0,\"fInit\":1,\"fShadowColor\":1,\"fCornerRadius\":0,\"fOption\":\"blNDC\",\"fName\":\"title\",\"fTextAngle\":0,\"fTextSize\":0,\"fTextAlign\":22,\"fTextColor\":1,\"fTextFont\":42,\"fLabel\":\"\",\"fLongest\":28,\"fMargin\":0.05,\"fLines\":{\"_typename\":\"TList\",\"name\":\"TList\",\"arr\":[{\"_typename\":\"TLatex\",\"fUniqueID\":0,\"fBits\":50331648,\"fName\":\"\",\"fTitle\":\"Development Versions of ROOT\",\"fTextAngle\":0,\"fTextSize\":0,\"fTextAlign\":0,\"fTextColor\":0,\"fTextFont\":0,\"fX\":0,\"fY\":0,\"fLineColor\":1,\"fLineStyle\":1,\"fLineWidth\":2,\"fLimitFactorSize\":3,\"fOriginSize\":0.0518644079566002}],\"opt\":[\"\"]}}],\"opt\":[\"\",\"\",\"blNDC\"]},\"fExecs\":null,\"fName\":\"c1\",\"fTitle\":\"c1\",\"fNumPaletteColor\":0,\"fNextPaletteColor\":0,\"fDISPLAY\":\"$DISPLAY\",\"fDoubleBuffer\":0,\"fRetained\":true,\"fXsizeUser\":0,\"fYsizeUser\":0,\"fXsizeReal\":20,\"fYsizeReal\":14.28571,\"fWindowTopX\":0,\"fWindowTopY\":0,\"fWindowWidth\":0,\"fWindowHeight\":0,\"fCw\":696,\"fCh\":472,\"fCatt\":{\"_typename\":\"TAttCanvas\",\"fXBetween\":2,\"fYBetween\":2,\"fTitleFromTop\":1.2,\"fXdate\":0.2,\"fYdate\":0.3,\"fAdate\":1},\"kMoveOpaque\":true,\"kResizeOpaque\":true,\"fHighLightColor\":2,\"fBatch\":true,\"kShowEventStatus\":false,\"kAutoExec\":true,\"kMenuBar\":true});\n",
       "       Core.draw(\"root_plot_1\", obj, \"\");\n",
       "     }\n",
       " );\n",
       "</script>\n"
      ],
      "text/plain": [
       "<IPython.core.display.HTML object>"
      ]
     },
     "metadata": {},
     "output_type": "display_data"
    }
   ],
   "source": [
    "%jsroot on\n",
    "gROOT->GetListOfCanvases()->Draw()"
   ]
  }
 ],
 "metadata": {
  "kernelspec": {
   "display_name": "ROOT C++",
   "language": "c++",
   "name": "root"
  },
  "language_info": {
   "codemirror_mode": "text/x-c++src",
   "file_extension": ".C",
   "mimetype": " text/x-c++src",
   "name": "c++"
  }
 },
 "nbformat": 4,
 "nbformat_minor": 2
}
