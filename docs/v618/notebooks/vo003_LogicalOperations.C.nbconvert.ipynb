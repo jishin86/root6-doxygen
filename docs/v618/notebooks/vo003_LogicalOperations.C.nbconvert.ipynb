{
 "cells": [
  {
   "cell_type": "markdown",
   "metadata": {},
   "source": [
    "# Vo 0 0 3_ Logical Operations\n",
    "In this tutorial we learn how the RVec class can be used to\n",
    "express logical operations.\n",
    "\n",
    "\n",
    "\n",
    "\n",
    "**Author:** Danilo Piparo  \n",
    "<i><small>This notebook tutorial was automatically generated with <a href= \"https://github.com/root-project/root/blob/master/documentation/doxygen/converttonotebook.py\">ROOTBOOK-izer</a> from the macro found in the ROOT repository  on Thursday, August 29, 2019 at 04:06 AM.</small></i>"
   ]
  },
  {
   "cell_type": "code",
   "execution_count": 1,
   "metadata": {
    "collapsed": false
   },
   "outputs": [],
   "source": [
    "using namespace ROOT::VecOps;"
   ]
  },
  {
   "cell_type": "markdown",
   "metadata": {},
   "source": [
    "Logical operations on rvec instances are made to be very easy to use."
   ]
  },
  {
   "cell_type": "code",
   "execution_count": 2,
   "metadata": {
    "collapsed": false
   },
   "outputs": [],
   "source": [
    "RVec<double> v1{1., 2., 3.};\n",
    "RVec<double> v2{3., 2., 1.};"
   ]
  },
  {
   "cell_type": "markdown",
   "metadata": {},
   "source": [
    "Let's start with operations which act element by element. in this case\n",
    " we expext a RVec which holds {1. > 3., 2. > 2., 3. > 1.}, i.e. {1, 0, 0}:"
   ]
  },
  {
   "cell_type": "code",
   "execution_count": 3,
   "metadata": {
    "collapsed": false
   },
   "outputs": [
    {
     "name": "stdout",
     "output_type": "stream",
     "text": [
      "{ 1, 2, 3 } > { 3, 2, 1 } = { 0, 0, 1 }\n"
     ]
    }
   ],
   "source": [
    "auto v1_gr_v2 = v1 > v2;\n",
    "std::cout << v1 << \" > \" << v2 << \" = \" << v1_gr_v2 << std::endl;"
   ]
  },
  {
   "cell_type": "markdown",
   "metadata": {},
   "source": [
    "Other logical operations are supported, of course:"
   ]
  },
  {
   "cell_type": "code",
   "execution_count": 4,
   "metadata": {
    "collapsed": false
   },
   "outputs": [
    {
     "name": "stdout",
     "output_type": "stream",
     "text": [
      "{ 1, 2, 3 } != { 3, 2, 1 } = { 1, 0, 1 }\n"
     ]
    }
   ],
   "source": [
    "auto v1_noteq_v2 = v1 != v2;\n",
    "std::cout << v1 << \" != \" << v2 << \" = \" << v1_noteq_v2 << std::endl;"
   ]
  },
  {
   "cell_type": "markdown",
   "metadata": {},
   "source": [
    "All returns true if all of the elements equate to true, return false otherwise.\n",
    " Any returns true if any of the elements equates to true, return false otherwise."
   ]
  },
  {
   "cell_type": "code",
   "execution_count": 5,
   "metadata": {
    "collapsed": false
   },
   "outputs": [
    {
     "name": "stdout",
     "output_type": "stream",
     "text": [
      "All( { 1, 2, 3 } > .5 * { 3, 2, 1 } ) = false\n",
      "Any( { 1, 2, 3 } > { 3, 2, 1 } ) = true\n"
     ]
    }
   ],
   "source": [
    "auto all_true = v1 > .5 * v2;\n",
    "std::cout << std::boolalpha;\n",
    "std::cout << \"All( \" << v1 << \" > .5 * \" << v2 << \" ) = \" << All(all_true) << std::endl;\n",
    "std::cout << \"Any( \" << v1 << \" > \" << v2 << \" ) = \" << Any(v1_noteq_v2) << std::endl;"
   ]
  },
  {
   "cell_type": "markdown",
   "metadata": {},
   "source": [
    "Selections on the rvec contents can be applied with the \"square brackets\" operator,\n",
    " which is not only a way to access the content of the RVec.\n",
    " This operation can change the size of the RVec."
   ]
  },
  {
   "cell_type": "code",
   "execution_count": 6,
   "metadata": {
    "collapsed": false
   },
   "outputs": [
    {
     "name": "stdout",
     "output_type": "stream",
     "text": [
      "v = { 1, 2, 3, 4, 5 }. v[ v > 3. ] = { 4, 5 }\n"
     ]
    }
   ],
   "source": [
    "RVec<double> v{1., 2., 3., 4., 5.};\n",
    "auto v_filtered = v[v > 3.];\n",
    "std::cout << \"v = \" << v << \". v[ v > 3. ] = \" << v_filtered << std::endl;"
   ]
  },
  {
   "cell_type": "markdown",
   "metadata": {},
   "source": [
    "This filtering operation can be particularely useful when cleaning collections of\n",
    " objects coming from HEP events. For example:"
   ]
  },
  {
   "cell_type": "code",
   "execution_count": 7,
   "metadata": {
    "collapsed": false
   },
   "outputs": [],
   "source": [
    "RVec<double> mu_pt{15., 12., 10.6, 2.3, 4., 3.};\n",
    "RVec<double> mu_eta{1.2, -0.2, 4.2, -5.3, 0.4, -2.};"
   ]
  },
  {
   "cell_type": "markdown",
   "metadata": {},
   "source": [
    "Suppose the pts of the muons with a pt greater than 10 and eta smaller than 2.1 are needed:"
   ]
  },
  {
   "cell_type": "code",
   "execution_count": 8,
   "metadata": {
    "collapsed": false
   },
   "outputs": [
    {
     "name": "stdout",
     "output_type": "stream",
     "text": [
      "mu_pt = { 15, 12, 10.6, 2.3, 4, 3 }  mu_pt[ mu_pt > 10 && abs(mu_eta) < 2.1] = { 15, 12 }\n"
     ]
    }
   ],
   "source": [
    "auto good_mu_pt = mu_pt[mu_pt > 10 && abs(mu_eta) < 2.1];\n",
    "std::cout << \"mu_pt = \" << mu_pt << \"  mu_pt[ mu_pt > 10 && abs(mu_eta) < 2.1] = \" << good_mu_pt << std::endl;"
   ]
  },
  {
   "cell_type": "markdown",
   "metadata": {},
   "source": [
    "Advanced logical operations with masking can be performed with the where helper."
   ]
  },
  {
   "cell_type": "code",
   "execution_count": 9,
   "metadata": {
    "collapsed": false
   },
   "outputs": [
    {
     "name": "stdout",
     "output_type": "stream",
     "text": [
      "mu_pt if abs(mu_eta) < 2 else -999 = { 15, 12, -999, -999, 4, -999 }\n"
     ]
    }
   ],
   "source": [
    "auto masked_mu_pt = Where(abs(mu_eta) < 2., mu_pt, -999.);\n",
    "std::cout << \"mu_pt if abs(mu_eta) < 2 else -999 = \" << masked_mu_pt << std::endl;"
   ]
  }
 ],
 "metadata": {
  "kernelspec": {
   "display_name": "ROOT C++",
   "language": "c++",
   "name": "root"
  },
  "language_info": {
   "codemirror_mode": "text/x-c++src",
   "file_extension": ".C",
   "mimetype": " text/x-c++src",
   "name": "c++"
  }
 },
 "nbformat": 4,
 "nbformat_minor": 2
}
