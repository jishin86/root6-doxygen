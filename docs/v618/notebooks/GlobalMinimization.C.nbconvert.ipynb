{
 "cells": [
  {
   "cell_type": "markdown",
   "metadata": {},
   "source": [
    "#  Global Minimization\n",
    "Example based  in\n",
    "http://cran.r-project.org/web/packages/DEoptim/DEoptim.pdf\n",
    "Please install the R package DEoptim before run this example.\n",
    "\n",
    "\n",
    "\n",
    "\n",
    "**Author:** Omar Zapata  \n",
    "<i><small>This notebook tutorial was automatically generated with <a href= \"https://github.com/root-project/root/blob/master/documentation/doxygen/converttonotebook.py\">ROOTBOOK-izer</a> from the macro found in the ROOT repository  on Thursday, August 29, 2019 at 02:35 AM.</small></i>"
   ]
  },
  {
   "cell_type": "code",
   "execution_count": 1,
   "metadata": {
    "collapsed": false
   },
   "outputs": [
    {
     "name": "stderr",
     "output_type": "stream",
     "text": [
      "In file included from input_line_26:1:\n",
      "In file included from /mnt/build/workspace/root-makedoc-v618/rootspi/rdoc/src/v6-18-00-patches.build/include/TRInterface.h:15:\n",
      "In file included from /mnt/build/workspace/root-makedoc-v618/rootspi/rdoc/src/v6-18-00-patches.build/include/TRObject.h:14:\n",
      "/mnt/build/workspace/root-makedoc-v618/rootspi/rdoc/src/v6-18-00-patches.build/include/RExports.h:54:9: fatal error: 'RcppCommon.h' file not found\n",
      "#include<RcppCommon.h>\n",
      "        ^~~~~~~~~~~~~~\n"
     ]
    }
   ],
   "source": [
    "%%cpp -d\n",
    "#include<TRInterface.h>\n",
    "#include<TBenchmark.h>\n",
    "#include<math.h>\n",
    "#include<stdlib.h>"
   ]
  },
  {
   "cell_type": "markdown",
   "metadata": {},
   "source": [
    "  In the next function the *double pointer should be changed by a TVectorD datatype,\n",
    " because the pointer has no meaning in R's enviroment.\n",
    " This is a generalization of the RosenBrock function, with the min xi=1 and i>0.\n",
    " "
   ]
  },
  {
   "cell_type": "code",
   "execution_count": 2,
   "metadata": {
    "collapsed": false
   },
   "outputs": [],
   "source": [
    "%%cpp -d\n",
    "Double_t GenRosenBrock(const TVectorD xx )\n",
    "{\n",
    "   int length=xx.GetNoElements();\n",
    "\n",
    "   Double_t result=0;\n",
    "   for (int i=0;i<(length-1);i++) {\n",
    "      result+=pow(1-xx[i],2)+100*pow(xx[i+1]-pow(xx[i],2),2);\n",
    "   }\n",
    "   return result;\n",
    "}"
   ]
  },
  {
   "cell_type": "markdown",
   "metadata": {},
   "source": [
    " the min xi=0 i>0\n",
    " "
   ]
  },
  {
   "cell_type": "code",
   "execution_count": 3,
   "metadata": {
    "collapsed": false
   },
   "outputs": [],
   "source": [
    "%%cpp -d\n",
    "Double_t Rastrigin(const TVectorD xx)\n",
    "{\n",
    "   int length=xx.GetNoElements();\n",
    "   Double_t result=10*length;\n",
    "   for (int i=0;i<length;i++) {\n",
    "      result+=xx[i]*xx[i]-10*cos(6.2831853*xx[i]);\n",
    "   }\n",
    "   return result;\n",
    "}"
   ]
  },
  {
   "cell_type": "code",
   "execution_count": 4,
   "metadata": {
    "collapsed": false
   },
   "outputs": [
    {
     "name": "stderr",
     "output_type": "stream",
     "text": [
      "In file included from libRInterface dictionary payload:5:\n",
      "/mnt/build/workspace/root-makedoc-v618/rootspi/rdoc/src/v6-18-00-patches.build/include/RExports.h:54:9: fatal error: 'RcppCommon.h' file not found\n",
      "#include<RcppCommon.h>\n",
      "        ^~~~~~~~~~~~~~\n",
      "Error in <TInterpreter::AutoParse>: Error parsing payload code for class ROOT::R::TRInterface with content:\n",
      "\n",
      "#line 1 \"libRInterface dictionary payload\"\n",
      "\n",
      "\n",
      "#define _BACKWARD_BACKWARD_WARNING_H\n",
      "// Inline headers\n",
      "#include \"RExports.h\"\n",
      "#include \"TRDataFrame.h\"\n",
      "#include \"TRFunctionExport.h\"\n",
      "#include \"TRFunctionImport.h\"\n",
      "#include \"TRInterface.h\"\n",
      "#include \"TRInternalFunction.h\"\n",
      "#include \"TRObject.h\"\n",
      "\n",
      "#undef  _BACKWARD_BACKWARD_WARNING_H\n",
      "\n",
      "input_line_29:3:34: error: incomplete type 'ROOT::R::TRInterface' named in nested name specifier\n",
      "ROOT::R::TRInterface &r=ROOT::R::TRInterface::Instance();\n",
      "                        ~~~~~~~~~^~~~~~~~~~~~~\n",
      "libRInterface dictionary forward declarations' payload:9:93: note: forward declaration of 'ROOT::R::TRInterface'\n",
      "namespace ROOT{namespace R{class __attribute__((annotate(\"$clingAutoload$TRInterface.h\")))  TRInterface;}}\n",
      "                                                                                            ^\n",
      "input_line_29:5:19: error: member access into incomplete type 'ROOT::R::TRInterface'\n",
      "Bool_t installed=r.Eval(\"is.element('DEoptim', installed.packages()[,1])\");\n",
      "                  ^\n",
      "libRInterface dictionary forward declarations' payload:9:93: note: forward declaration of 'ROOT::R::TRInterface'\n",
      "namespace ROOT{namespace R{class __attribute__((annotate(\"$clingAutoload$TRInterface.h\")))  TRInterface;}}\n",
      "                                                                                            ^\n"
     ]
    }
   ],
   "source": [
    "TBenchmark bench;\n",
    "ROOT::R::TRInterface &r=ROOT::R::TRInterface::Instance();\n",
    "\n",
    "Bool_t installed=r.Eval(\"is.element('DEoptim', installed.packages()[,1])\");\n",
    "if (!installed) {\n",
    "   std::cout<<\"Package DEoptim no installed in R\"<<std::endl;\n",
    "   std::cout<<\"Run install.packages('DEoptim') in R's environment\"<<std::endl;\n",
    "   return;\n",
    "}"
   ]
  },
  {
   "cell_type": "markdown",
   "metadata": {},
   "source": [
    "Loading deoptim"
   ]
  },
  {
   "cell_type": "code",
   "execution_count": 5,
   "metadata": {
    "collapsed": false
   },
   "outputs": [
    {
     "name": "stderr",
     "output_type": "stream",
     "text": [
      "input_line_37:2:3: error: use of undeclared identifier 'r'\n",
      " (r << \"suppressMessages(library(DEoptim, quietly = TRUE))\")\n",
      "  ^\n",
      "Error in <HandleInterpreterException>: Error evaluating expression (r << \"suppressMessages(library(DEoptim, quietly = TRUE))\").\n",
      "Execution of your code was aborted.\n"
     ]
    }
   ],
   "source": [
    "r<<\"suppressMessages(library(DEoptim, quietly = TRUE))\";"
   ]
  },
  {
   "cell_type": "markdown",
   "metadata": {},
   "source": [
    "Passing rosenbrock function to r"
   ]
  },
  {
   "cell_type": "code",
   "execution_count": 6,
   "metadata": {
    "collapsed": false
   },
   "outputs": [
    {
     "name": "stderr",
     "output_type": "stream",
     "text": [
      "In file included from libRInterface dictionary payload:5:\n",
      "/mnt/build/workspace/root-makedoc-v618/rootspi/rdoc/src/v6-18-00-patches.build/include/RExports.h:54:9: fatal error: 'RcppCommon.h' file not found\n",
      "#include<RcppCommon.h>\n",
      "        ^~~~~~~~~~~~~~\n",
      "Error in <TInterpreter::AutoParse>: Error parsing payload code for class ROOT::R::TRFunctionExport with content:\n",
      "\n",
      "#line 1 \"libRInterface dictionary payload\"\n",
      "\n",
      "\n",
      "#define _BACKWARD_BACKWARD_WARNING_H\n",
      "// Inline headers\n",
      "#include \"RExports.h\"\n",
      "#include \"TRDataFrame.h\"\n",
      "#include \"TRFunctionExport.h\"\n",
      "#include \"TRFunctionImport.h\"\n",
      "#include \"TRInterface.h\"\n",
      "#include \"TRInternalFunction.h\"\n",
      "#include \"TRObject.h\"\n",
      "\n",
      "#undef  _BACKWARD_BACKWARD_WARNING_H\n",
      "\n",
      "input_line_38:2:31: error: no member named 'TRFunctionExport' in namespace 'ROOT::R'\n",
      " r[\"GenRosenBrock\"]<<ROOT::R::TRFunctionExport(GenRosenBrock);\n",
      "                     ~~~~~~~~~^\n"
     ]
    }
   ],
   "source": [
    "r[\"GenRosenBrock\"]<<ROOT::R::TRFunctionExport(GenRosenBrock);"
   ]
  },
  {
   "cell_type": "markdown",
   "metadata": {},
   "source": [
    "Maximun number of iterations"
   ]
  },
  {
   "cell_type": "code",
   "execution_count": 7,
   "metadata": {
    "collapsed": false
   },
   "outputs": [
    {
     "name": "stderr",
     "output_type": "stream",
     "text": [
      "input_line_41:2:3: error: use of undeclared identifier 'r'\n",
      " (r[\"MaxIter\"] << 5000)\n",
      "  ^\n",
      "Error in <HandleInterpreterException>: Error evaluating expression (r[\"MaxIter\"] << 5000).\n",
      "Execution of your code was aborted.\n"
     ]
    }
   ],
   "source": [
    "r[\"MaxIter\"]<<5000;"
   ]
  },
  {
   "cell_type": "markdown",
   "metadata": {},
   "source": [
    "N = size of vector that is an argument for genrosenbrock"
   ]
  },
  {
   "cell_type": "code",
   "execution_count": 8,
   "metadata": {
    "collapsed": false
   },
   "outputs": [
    {
     "name": "stderr",
     "output_type": "stream",
     "text": [
      "input_line_43:2:3: error: use of undeclared identifier 'r'\n",
      " (r[\"n\"] << 3)\n",
      "  ^\n",
      "Error in <HandleInterpreterException>: Error evaluating expression (r[\"n\"] << 3).\n",
      "Execution of your code was aborted.\n"
     ]
    }
   ],
   "source": [
    "r[\"n\"]<<3;"
   ]
  },
  {
   "cell_type": "markdown",
   "metadata": {},
   "source": [
    "Lower limits"
   ]
  },
  {
   "cell_type": "code",
   "execution_count": 9,
   "metadata": {
    "collapsed": false
   },
   "outputs": [
    {
     "name": "stderr",
     "output_type": "stream",
     "text": [
      "input_line_45:2:3: error: use of undeclared identifier 'r'\n",
      " (r << \"ll<-rep(-25, n)\")\n",
      "  ^\n",
      "Error in <HandleInterpreterException>: Error evaluating expression (r << \"ll<-rep(-25, n)\").\n",
      "Execution of your code was aborted.\n"
     ]
    }
   ],
   "source": [
    "r<<\"ll<-rep(-25, n)\";"
   ]
  },
  {
   "cell_type": "markdown",
   "metadata": {},
   "source": [
    "Upper limits"
   ]
  },
  {
   "cell_type": "code",
   "execution_count": 10,
   "metadata": {
    "collapsed": false
   },
   "outputs": [
    {
     "name": "stderr",
     "output_type": "stream",
     "text": [
      "input_line_47:2:3: error: use of undeclared identifier 'r'\n",
      " (r << \"ul<-rep(25, n)\")\n",
      "  ^\n",
      "Error in <HandleInterpreterException>: Error evaluating expression (r << \"ul<-rep(25, n)\").\n",
      "Execution of your code was aborted.\n"
     ]
    }
   ],
   "source": [
    "r<<\"ul<-rep(25, n)\";\n",
    "\n",
    "bench.Start(\"GlobalMinimizationRosenBrock\");"
   ]
  },
  {
   "cell_type": "markdown",
   "metadata": {},
   "source": [
    "Calling minimization and timing it."
   ]
  },
  {
   "cell_type": "code",
   "execution_count": 11,
   "metadata": {
    "collapsed": false
   },
   "outputs": [
    {
     "name": "stderr",
     "output_type": "stream",
     "text": [
      "input_line_49:2:3: error: use of undeclared identifier 'r'\n",
      " (r << \"result1<-DEoptim(fn=GenRosenBrock,lower=ll,upper=ul,control=list(NP=10*n,itermax=MaxIter,trace=FALSE))\")\n",
      "  ^\n",
      "Error in <HandleInterpreterException>: Error evaluating expression (r << \"result1<-DEoptim(fn=GenRosenBrock,lower=ll,upper=ul,control=list(NP=10*n,itermax=MaxIter,trace=FALSE))\").\n",
      "Execution of your code was aborted.\n"
     ]
    }
   ],
   "source": [
    "r<<\"result1<-DEoptim(fn=GenRosenBrock,lower=ll,upper=ul,control=list(NP=10*n,itermax=MaxIter,trace=FALSE))\";\n",
    "std::cout<<\"-----------------------------------------\"<<std::endl;\n",
    "std::cout<<\"RosenBrock's minimum in: \"<<std::endl;\n",
    "r<<\"print(result1$optim$bestmem)\";\n",
    "std::cout<<\"Bechmark Times\"<<std::endl;"
   ]
  },
  {
   "cell_type": "markdown",
   "metadata": {},
   "source": [
    "Printing times"
   ]
  },
  {
   "cell_type": "code",
   "execution_count": 12,
   "metadata": {
    "collapsed": false
   },
   "outputs": [
    {
     "name": "stderr",
     "output_type": "stream",
     "text": [
      "input_line_51:2:3: error: use of undeclared identifier 'bench'\n",
      " (bench.Show(\"GlobalMinimizationRosenBrock\"))\n",
      "  ^\n",
      "Error in <HandleInterpreterException>: Error evaluating expression (bench.Show(\"GlobalMinimizationRosenBrock\")).\n",
      "Execution of your code was aborted.\n"
     ]
    }
   ],
   "source": [
    "bench.Show(\"GlobalMinimizationRosenBrock\");"
   ]
  },
  {
   "cell_type": "markdown",
   "metadata": {},
   "source": [
    "Passing rosenbrock function to r"
   ]
  },
  {
   "cell_type": "code",
   "execution_count": 13,
   "metadata": {
    "collapsed": false
   },
   "outputs": [
    {
     "name": "stderr",
     "output_type": "stream",
     "text": [
      "input_line_52:2:27: error: no member named 'TRFunctionExport' in namespace 'ROOT::R'\n",
      " r[\"Rastrigin\"]<<ROOT::R::TRFunctionExport(Rastrigin);\n",
      "                 ~~~~~~~~~^\n"
     ]
    }
   ],
   "source": [
    "r[\"Rastrigin\"]<<ROOT::R::TRFunctionExport(Rastrigin);"
   ]
  },
  {
   "cell_type": "markdown",
   "metadata": {},
   "source": [
    "Maximun number of iterations"
   ]
  },
  {
   "cell_type": "code",
   "execution_count": 14,
   "metadata": {
    "collapsed": false
   },
   "outputs": [
    {
     "name": "stderr",
     "output_type": "stream",
     "text": [
      "input_line_54:2:3: error: use of undeclared identifier 'r'\n",
      " (r[\"MaxIter\"] << 2000)\n",
      "  ^\n",
      "Error in <HandleInterpreterException>: Error evaluating expression (r[\"MaxIter\"] << 2000).\n",
      "Execution of your code was aborted.\n"
     ]
    }
   ],
   "source": [
    "r[\"MaxIter\"]<<2000;"
   ]
  },
  {
   "cell_type": "markdown",
   "metadata": {},
   "source": [
    "N = size of a vector which is an argument for rastrigin"
   ]
  },
  {
   "cell_type": "code",
   "execution_count": 15,
   "metadata": {
    "collapsed": false
   },
   "outputs": [
    {
     "name": "stderr",
     "output_type": "stream",
     "text": [
      "input_line_56:2:3: error: use of undeclared identifier 'r'\n",
      " (r[\"n\"] << 3)\n",
      "  ^\n",
      "Error in <HandleInterpreterException>: Error evaluating expression (r[\"n\"] << 3).\n",
      "Execution of your code was aborted.\n"
     ]
    }
   ],
   "source": [
    "r[\"n\"]<<3;"
   ]
  },
  {
   "cell_type": "markdown",
   "metadata": {},
   "source": [
    "Lower limits"
   ]
  },
  {
   "cell_type": "code",
   "execution_count": 16,
   "metadata": {
    "collapsed": false
   },
   "outputs": [
    {
     "name": "stderr",
     "output_type": "stream",
     "text": [
      "input_line_58:2:3: error: use of undeclared identifier 'r'\n",
      " (r << \"ll<-rep(-5, n)\")\n",
      "  ^\n",
      "Error in <HandleInterpreterException>: Error evaluating expression (r << \"ll<-rep(-5, n)\").\n",
      "Execution of your code was aborted.\n"
     ]
    }
   ],
   "source": [
    "r<<\"ll<-rep(-5, n)\";"
   ]
  },
  {
   "cell_type": "markdown",
   "metadata": {},
   "source": [
    "Upper limits"
   ]
  },
  {
   "cell_type": "code",
   "execution_count": 17,
   "metadata": {
    "collapsed": false
   },
   "outputs": [
    {
     "name": "stderr",
     "output_type": "stream",
     "text": [
      "input_line_60:2:3: error: use of undeclared identifier 'r'\n",
      " (r << \"ul<-rep(5, n)\")\n",
      "  ^\n",
      "Error in <HandleInterpreterException>: Error evaluating expression (r << \"ul<-rep(5, n)\").\n",
      "Execution of your code was aborted.\n"
     ]
    }
   ],
   "source": [
    "r<<\"ul<-rep(5, n)\";\n",
    "\n",
    "bench.Start(\"GlobalMinimizationRastrigin\");"
   ]
  },
  {
   "cell_type": "markdown",
   "metadata": {},
   "source": [
    "Calling minimization and timing it."
   ]
  },
  {
   "cell_type": "code",
   "execution_count": 18,
   "metadata": {
    "collapsed": false
   },
   "outputs": [
    {
     "name": "stderr",
     "output_type": "stream",
     "text": [
      "input_line_62:2:3: error: use of undeclared identifier 'r'\n",
      " (r << \"result2<-DEoptim(fn=Rastrigin,lower=ll,upper=ul,control=list(NP=10*n,itermax=MaxIter,trace=FALSE))\")\n",
      "  ^\n",
      "Error in <HandleInterpreterException>: Error evaluating expression (r << \"result2<-DEoptim(fn=Rastrigin,lower=ll,upper=ul,control=list(NP=10*n,itermax=MaxIter,trace=FALSE))\").\n",
      "Execution of your code was aborted.\n"
     ]
    }
   ],
   "source": [
    "r<<\"result2<-DEoptim(fn=Rastrigin,lower=ll,upper=ul,control=list(NP=10*n,itermax=MaxIter,trace=FALSE))\";\n",
    "std::cout<<\"-----------------------------------------\"<<std::endl;\n",
    "std::cout<<\"Rastrigin's minimum in: \"<<std::endl;\n",
    "r<<\"print(result2$optim$bestmem)\";\n",
    "std::cout<<\"Bechmark Times\"<<std::endl;"
   ]
  },
  {
   "cell_type": "markdown",
   "metadata": {},
   "source": [
    "Printing times"
   ]
  },
  {
   "cell_type": "code",
   "execution_count": 19,
   "metadata": {
    "collapsed": false
   },
   "outputs": [
    {
     "name": "stderr",
     "output_type": "stream",
     "text": [
      "input_line_64:2:3: error: use of undeclared identifier 'bench'\n",
      " (bench.Show(\"GlobalMinimizationRastrigin\"))\n",
      "  ^\n",
      "Error in <HandleInterpreterException>: Error evaluating expression (bench.Show(\"GlobalMinimizationRastrigin\")).\n",
      "Execution of your code was aborted.\n"
     ]
    }
   ],
   "source": [
    "bench.Show(\"GlobalMinimizationRastrigin\");"
   ]
  },
  {
   "cell_type": "markdown",
   "metadata": {},
   "source": [
    "Skip r plotting in batch mode"
   ]
  },
  {
   "cell_type": "code",
   "execution_count": 20,
   "metadata": {
    "collapsed": false
   },
   "outputs": [],
   "source": [
    "if (!gROOT->IsBatch()) {\n",
    "   r<<\"dev.new(title='RosenBrock Convergence')\";\n",
    "   r<<\"plot(result1,type='o',pch='.')\";\n",
    "   r<<\"dev.off()\";\n",
    "   r<<\"dev.new(title='Rastrigin Convergence')\";\n",
    "   r<<\"plot(result2,type='o',pch='.')\";\n",
    "   r<<\"dev.off()\";\n",
    "}"
   ]
  }
 ],
 "metadata": {
  "kernelspec": {
   "display_name": "ROOT C++",
   "language": "c++",
   "name": "root"
  },
  "language_info": {
   "codemirror_mode": "text/x-c++src",
   "file_extension": ".C",
   "mimetype": " text/x-c++src",
   "name": "c++"
  }
 },
 "nbformat": 4,
 "nbformat_minor": 2
}
