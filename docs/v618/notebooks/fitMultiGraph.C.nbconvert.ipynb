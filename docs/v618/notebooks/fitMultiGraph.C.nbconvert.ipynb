{
 "cells": [
  {
   "cell_type": "markdown",
   "metadata": {},
   "source": [
    "# Fit Multi Graph\n",
    "fitting a parabola to a multigraph of 3 partly overlapping graphs\n",
    "with different errors\n",
    "\n",
    "\n",
    "\n",
    "\n",
    "**Author:** Anna Kreshuk  \n",
    "<i><small>This notebook tutorial was automatically generated with <a href= \"https://github.com/root-project/root/blob/master/documentation/doxygen/converttonotebook.py\">ROOTBOOK-izer</a> from the macro found in the ROOT repository  on Thursday, August 29, 2019 at 01:29 AM.</small></i>"
   ]
  },
  {
   "cell_type": "code",
   "execution_count": 1,
   "metadata": {
    "collapsed": false
   },
   "outputs": [],
   "source": [
    "%%cpp -d\n",
    "#include \"TMultiGraph.h\"\n",
    "#include \"TRandom.h\"\n",
    "#include \"TF1.h\"\n",
    "#include \"TGraphErrors.h\"\n",
    "#include \"TCanvas.h\"\n",
    "#include \"TMath.h\""
   ]
  },
  {
   "cell_type": "markdown",
   "metadata": {},
   "source": [
    " A helper function is created: "
   ]
  },
  {
   "cell_type": "code",
   "execution_count": 2,
   "metadata": {
    "collapsed": false
   },
   "outputs": [],
   "source": [
    "%%cpp -d\n",
    "void fitminuit()\n",
    "{\n",
    "   Int_t n = 30;\n",
    "   Double_t *xvalues1 = new Double_t[n];\n",
    "   Double_t *xvalues2 = new Double_t[n];\n",
    "   Double_t *xvalues3 = new Double_t[n];\n",
    "   Double_t *yvalues1 = new Double_t[n];\n",
    "   Double_t *yvalues2 = new Double_t[n];\n",
    "   Double_t *yvalues3 = new Double_t[n];\n",
    "   Double_t *evalues1 = new Double_t[n];\n",
    "   Double_t *evalues2 = new Double_t[n];\n",
    "   Double_t *evalues3 = new Double_t[n];\n",
    "   Double_t *xtotal = new Double_t[n*3];\n",
    "   Double_t *ytotal = new Double_t[n*3];\n",
    "   Double_t *etotal = new Double_t[n*3];\n",
    "\n",
    "   TRandom r;\n",
    "   Int_t i;\n",
    "   for (i=0; i<n; i++) {\n",
    "      xvalues1[i] = r.Uniform(-3, -1);\n",
    "      xvalues2[i] = r.Uniform(-1, 1);\n",
    "      xvalues3[i] = r.Uniform(1, 3);\n",
    "      yvalues1[i] = TMath::Gaus(xvalues1[i], 0, 1);\n",
    "      yvalues2[i] = TMath::Gaus(xvalues2[i], 0, 1);\n",
    "      evalues1[i] = 0.00001;\n",
    "      evalues2[i] = 0.00001;\n",
    "      evalues3[i] = 0.00001;\n",
    "      yvalues3[i] = TMath::Gaus(xvalues3[i], 0, 1);\n",
    "   }\n",
    "   for (i=0; i<n; i++)\n",
    "      {xtotal[i]=xvalues1[i]; ytotal[i]=yvalues1[i]; etotal[i]=0.00001;}\n",
    "   for (i=n; i<2*n; i++)\n",
    "      {xtotal[i] = xvalues2[i-n]; ytotal[i]=yvalues2[i-n]; etotal[i]=0.00001;}\n",
    "   for (i=2*n; i<3*n; i++)\n",
    "      {xtotal[i] = xvalues3[i-2*n]; ytotal[i]=yvalues3[i-2*n]; etotal[i]=0.00001;}\n",
    "\n",
    "   //create the graphs and set their drawing options\n",
    "   TGraphErrors *gr1 = new TGraphErrors(n, xvalues1, yvalues1, 0, evalues1);\n",
    "   TGraphErrors *gr2 = new TGraphErrors(n, xvalues2, yvalues2, 0, evalues2);\n",
    "   TGraphErrors *gr3 = new TGraphErrors(n, xvalues3, yvalues3, 0, evalues3);\n",
    "   TGraphErrors *grtotal = new TGraphErrors(n*3, xtotal, ytotal, 0, etotal);\n",
    "   TMultiGraph *mg=new TMultiGraph(\"mg\", \"TMultiGraph of 3 TGraphErrors\");\n",
    "   mg->Add(gr1);\n",
    "   mg->Add(gr2);\n",
    "   mg->Add(gr3);\n",
    "   //mg->Draw(\"ap\");\n",
    "   //TF1 *ffit = new TF1(\"ffit\", \"TMath::Gaus(x, [0], [1], [2])\", -3, 3);\n",
    "   //ffit->SetParameters(0, 1, 0);\n",
    "   //mg->Fit(ffit);\n",
    "\n",
    "   grtotal->Fit(\"gaus\");\n",
    "   mg->Fit(\"gaus\");\n",
    "}"
   ]
  },
  {
   "cell_type": "code",
   "execution_count": 3,
   "metadata": {
    "collapsed": false
   },
   "outputs": [],
   "source": [
    "Int_t n = 30;\n",
    "Double_t *xvalues1 = new Double_t[n];\n",
    "Double_t *xvalues2 = new Double_t[n];\n",
    "Double_t *xvalues3 = new Double_t[n];\n",
    "Double_t *yvalues1 = new Double_t[n];\n",
    "Double_t *yvalues2 = new Double_t[n];\n",
    "Double_t *yvalues3 = new Double_t[n];\n",
    "Double_t *evalues1 = new Double_t[n];\n",
    "Double_t *evalues2 = new Double_t[n];\n",
    "Double_t *evalues3 = new Double_t[n];"
   ]
  },
  {
   "cell_type": "markdown",
   "metadata": {},
   "source": [
    "Generate the data for the graphs"
   ]
  },
  {
   "cell_type": "code",
   "execution_count": 4,
   "metadata": {
    "collapsed": false
   },
   "outputs": [],
   "source": [
    "TRandom r;\n",
    "Int_t i;\n",
    "for (i=0; i<n; i++) {\n",
    "   xvalues1[i] = r.Uniform(0.1, 5);\n",
    "   xvalues2[i] = r.Uniform(3, 8);\n",
    "   xvalues3[i] = r.Uniform(9, 15);\n",
    "   yvalues1[i] = 3 + 2*xvalues1[i] + xvalues1[i]*xvalues1[i] + r.Gaus();\n",
    "   yvalues2[i] = 3 + 2*xvalues2[i] + xvalues2[i]*xvalues2[i] + r.Gaus()*10;\n",
    "   evalues1[i] = 1;\n",
    "   evalues2[i] = 10;\n",
    "   evalues3[i] = 20;\n",
    "   yvalues3[i] = 3 + 2*xvalues3[i] + xvalues3[i]*xvalues3[i] + r.Gaus()*20;\n",
    "}"
   ]
  },
  {
   "cell_type": "markdown",
   "metadata": {},
   "source": [
    "Create the graphs and set their drawing options"
   ]
  },
  {
   "cell_type": "code",
   "execution_count": 5,
   "metadata": {
    "collapsed": false
   },
   "outputs": [],
   "source": [
    "TGraphErrors *gr1 = new TGraphErrors(n, xvalues1, yvalues1, 0, evalues1);\n",
    "TGraphErrors *gr2 = new TGraphErrors(n, xvalues2, yvalues2, 0, evalues2);\n",
    "TGraphErrors *gr3 = new TGraphErrors(n, xvalues3, yvalues3, 0, evalues3);\n",
    "gr1->SetLineColor(kRed);\n",
    "gr2->SetLineColor(kBlue);\n",
    "gr2->SetMarkerStyle(24);\n",
    "gr2->SetMarkerSize(0.3);\n",
    "gr3->SetLineColor(kGreen);\n",
    "gr3->SetMarkerStyle(24);\n",
    "gr3->SetMarkerSize(0.3);"
   ]
  },
  {
   "cell_type": "markdown",
   "metadata": {},
   "source": [
    "Add the graphs to the multigraph"
   ]
  },
  {
   "cell_type": "code",
   "execution_count": 6,
   "metadata": {
    "collapsed": false
   },
   "outputs": [],
   "source": [
    "TMultiGraph *mg=new TMultiGraph(\"mg\",\n",
    "   \"TMultiGraph of 3 TGraphErrors\");\n",
    "mg->Add(gr1);\n",
    "mg->Add(gr2);\n",
    "mg->Add(gr3);\n",
    "\n",
    "TCanvas *myc = new TCanvas(\"myc\",\n",
    "   \"Fitting a MultiGraph of 3 TGraphErrors\");\n",
    "myc->SetGrid();\n",
    "\n",
    "mg->Draw(\"ap\");"
   ]
  },
  {
   "cell_type": "markdown",
   "metadata": {},
   "source": [
    "Fit"
   ]
  },
  {
   "cell_type": "code",
   "execution_count": 7,
   "metadata": {
    "collapsed": false
   },
   "outputs": [
    {
     "name": "stdout",
     "output_type": "stream",
     "text": [
      " FCN=95.1374 FROM MIGRAD    STATUS=CONVERGED      54 CALLS          55 TOTAL\n",
      "                     EDM=4.06527e-20    STRATEGY= 1      ERROR MATRIX ACCURATE \n",
      "  EXT PARAMETER                                   STEP         FIRST   \n",
      "  NO.   NAME      VALUE            ERROR          SIZE      DERIVATIVE \n",
      "   1  p0           3.21134e+00   4.28055e-01   8.68677e-04   4.08980e-11\n",
      "   2  p1           1.87952e+00   2.48404e-01   2.95405e-04  -8.41861e-10\n",
      "   3  p2           1.00914e+00   3.49228e-02   6.26446e-05  -1.30438e-08\n"
     ]
    }
   ],
   "source": [
    "mg->Fit(\"pol2\", \"F\");"
   ]
  },
  {
   "cell_type": "markdown",
   "metadata": {},
   "source": [
    "Access to the fit function"
   ]
  },
  {
   "cell_type": "code",
   "execution_count": 8,
   "metadata": {
    "collapsed": false
   },
   "outputs": [],
   "source": [
    "TF1 *fpol = mg->GetFunction(\"pol2\");\n",
    "fpol->SetLineWidth(1);"
   ]
  },
  {
   "cell_type": "markdown",
   "metadata": {},
   "source": [
    "Draw all canvases "
   ]
  },
  {
   "cell_type": "code",
   "execution_count": 9,
   "metadata": {
    "collapsed": false
   },
   "outputs": [
    {
     "data": {
      "text/html": [
       "\n",
       "<div id=\"root_plot_1\"\n",
       "     style=\"width: 696px; height: 472px\">\n",
       "</div>\n",
       "\n",
       "<script>\n",
       " requirejs.config({\n",
       "     paths: {\n",
       "       'JSRootCore' : 'https://root.cern.ch/js/notebook//scripts/JSRootCore',\n",
       "     }\n",
       "   });\n",
       " require(['JSRootCore'],\n",
       "     function(Core) {\n",
       "       var obj = Core.JSONR_unref({\"_typename\":\"TCanvas\",\"fUniqueID\":0,\"fBits\":53673992,\"fLineColor\":1,\"fLineStyle\":1,\"fLineWidth\":1,\"fFillColor\":0,\"fFillStyle\":1001,\"fLeftMargin\":0.1,\"fRightMargin\":0.1,\"fBottomMargin\":0.1,\"fTopMargin\":0.1,\"fXfile\":2,\"fYfile\":2,\"fAfile\":1,\"fXstat\":0.99,\"fYstat\":0.99,\"fAstat\":2,\"fFrameFillColor\":0,\"fFrameLineColor\":1,\"fFrameFillStyle\":1001,\"fFrameLineStyle\":1,\"fFrameLineWidth\":1,\"fFrameBorderSize\":1,\"fFrameBorderMode\":0,\"fX1\":-2.66682156462499,\"fY1\":-66.501020030476,\"fX2\":17.6779236535383,\"fY2\":336.712603425714,\"fXtoAbsPixelk\":91.232837094424,\"fXtoPixelk\":91.232837094424,\"fXtoPixel\":34.2103079953357,\"fYtoAbsPixelk\":394.154263973886,\"fYtoPixelk\":394.154263973886,\"fYtoPixel\":-1.17059536816787,\"fUtoAbsPixelk\":5e-5,\"fUtoPixelk\":5e-5,\"fUtoPixel\":696,\"fVtoAbsPixelk\":472.00005,\"fVtoPixelk\":472,\"fVtoPixel\":-472,\"fAbsPixeltoXk\":-2.66682156462499,\"fPixeltoXk\":-2.66682156462499,\"fPixeltoX\":0.0292309557732231,\"fAbsPixeltoYk\":336.712603425714,\"fPixeltoYk\":-66.501020030476,\"fPixeltoY\":-0.854266151390234,\"fXlowNDC\":0,\"fYlowNDC\":0,\"fXUpNDC\":0,\"fYUpNDC\":0,\"fWNDC\":1,\"fHNDC\":1,\"fAbsXlowNDC\":0,\"fAbsYlowNDC\":0,\"fAbsWNDC\":1,\"fAbsHNDC\":1,\"fUxmin\":-0.632346921544522,\"fUymin\":-26.1796552815164,\"fUxmax\":15.6434490104579,\"fUymax\":296.391238676755,\"fTheta\":30,\"fPhi\":30,\"fAspectRatio\":0,\"fNumber\":0,\"fTickx\":0,\"fTicky\":0,\"fLogx\":0,\"fLogy\":0,\"fLogz\":0,\"fPadPaint\":0,\"fCrosshair\":0,\"fCrosshairPos\":0,\"fBorderSize\":2,\"fBorderMode\":0,\"fModified\":false,\"fGridx\":true,\"fGridy\":true,\"fAbsCoord\":false,\"fEditable\":true,\"fFixedAspectRatio\":false,\"fPrimitives\":{\"_typename\":\"TList\",\"name\":\"TList\",\"arr\":[{\"_typename\":\"TFrame\",\"fUniqueID\":0,\"fBits\":50331656,\"fLineColor\":1,\"fLineStyle\":1,\"fLineWidth\":1,\"fFillColor\":0,\"fFillStyle\":1001,\"fX1\":-0.632346921544522,\"fY1\":-26.1796552815164,\"fX2\":15.6434490104579,\"fY2\":296.391238676755,\"fBorderSize\":1,\"fBorderMode\":0},{\"_typename\":\"TMultiGraph\",\"fUniqueID\":0,\"fBits\":50331656,\"fName\":\"mg\",\"fTitle\":\"TMultiGraph of 3 TGraphErrors\",\"fGraphs\":{\"_typename\":\"TList\",\"name\":\"TList\",\"arr\":[{\"_typename\":\"TGraphErrors\",\"fUniqueID\":0,\"fBits\":50332680,\"fName\":\"Graph\",\"fTitle\":\"Graph\",\"fLineColor\":632,\"fLineStyle\":1,\"fLineWidth\":1,\"fFillColor\":0,\"fFillStyle\":1000,\"fMarkerColor\":1,\"fMarkerStyle\":1,\"fMarkerSize\":1,\"fNpoints\":30,\"fX\":[0.856070750951768,3.03697548066266,4.26568686589599,3.55516069652513,3.91199850374833,3.45568861113862,2.55758531251923,4.74380268435926,1.14771565753035,2.35698199709878,1.00644194367342,1.18134100502357,4.53263423820027,0.107461984455585,4.75248858975247,1.7230065242853,2.3408117142506,2.44389685783536,4.30833981852048,4.18351972717792,3.7832386112772,2.64409752823413,0.930231260647999,0.723989066714422,1.90796819957905,0.471623342949898,1.57609919817187,1.98053172151558,0.384877095976845,3.04154521324672],\"fY\":[4.83241539390717,19.3097182441244,30.7322168622726,22.048437622347,26.5137353589423,23.6635971979183,15.6248781085816,33.8127347318483,7.17859473549447,13.7737309544541,6.35109426864681,7.09140702657385,31.3112713378076,4.93218976208608,33.470175477786,10.9340292451614,13.1740885280522,13.2295001190714,28.7366734234026,29.5763231774923,25.4334120619131,16.033310118762,5.31120872572892,3.78836943241148,10.1239330062754,3.87618743308267,6.6407421675064,8.74529582391026,4.48897624947407,18.7948258043097],\"fFunctions\":{\"_typename\":\"TList\",\"name\":\"TList\",\"arr\":[],\"opt\":[]},\"fHistogram\":{\"_typename\":\"TH1F\",\"fUniqueID\":0,\"fBits\":50332168,\"fName\":\"Graph\",\"fTitle\":\"Graph\",\"fLineColor\":602,\"fLineStyle\":1,\"fLineWidth\":1,\"fFillColor\":0,\"fFillStyle\":1001,\"fMarkerColor\":1,\"fMarkerStyle\":1,\"fMarkerSize\":1,\"fNcells\":102,\"fXaxis\":{\"_typename\":\"TAxis\",\"fUniqueID\":0,\"fBits\":50331648,\"fName\":\"xaxis\",\"fTitle\":\"\",\"fNdivisions\":510,\"fAxisColor\":1,\"fLabelColor\":1,\"fLabelFont\":42,\"fLabelOffset\":0.005,\"fLabelSize\":0.035,\"fTickLength\":0.03,\"fTitleOffset\":1,\"fTitleSize\":0.035,\"fTitleColor\":1,\"fTitleFont\":42,\"fNbins\":100,\"fXmin\":0,\"fXmax\":5.21699125028216,\"fXbins\":[],\"fFirst\":0,\"fLast\":0,\"fBits2\":0,\"fTimeDisplay\":false,\"fTimeFormat\":\"\",\"fLabels\":null,\"fModLabs\":null},\"fYaxis\":{\"_typename\":\"TAxis\",\"fUniqueID\":0,\"fBits\":50331648,\"fName\":\"yaxis\",\"fTitle\":\"\",\"fNdivisions\":510,\"fAxisColor\":1,\"fLabelColor\":1,\"fLabelFont\":42,\"fLabelOffset\":0.005,\"fLabelSize\":0.035,\"fTickLength\":0.03,\"fTitleOffset\":0,\"fTitleSize\":0.035,\"fTitleColor\":1,\"fTitleFont\":42,\"fNbins\":1,\"fXmin\":2.50953248917033,\"fXmax\":38.0151712617919,\"fXbins\":[],\"fFirst\":0,\"fLast\":0,\"fBits2\":0,\"fTimeDisplay\":false,\"fTimeFormat\":\"\",\"fLabels\":null,\"fModLabs\":null},\"fZaxis\":{\"_typename\":\"TAxis\",\"fUniqueID\":0,\"fBits\":50331648,\"fName\":\"zaxis\",\"fTitle\":\"\",\"fNdivisions\":510,\"fAxisColor\":1,\"fLabelColor\":1,\"fLabelFont\":42,\"fLabelOffset\":0.005,\"fLabelSize\":0.035,\"fTickLength\":0.03,\"fTitleOffset\":1,\"fTitleSize\":0.035,\"fTitleColor\":1,\"fTitleFont\":42,\"fNbins\":1,\"fXmin\":0,\"fXmax\":1,\"fXbins\":[],\"fFirst\":0,\"fLast\":0,\"fBits2\":0,\"fTimeDisplay\":false,\"fTimeFormat\":\"\",\"fLabels\":null,\"fModLabs\":null},\"fBarOffset\":0,\"fBarWidth\":1000,\"fEntries\":0,\"fTsumw\":0,\"fTsumw2\":0,\"fTsumwx\":0,\"fTsumwx2\":0,\"fMaximum\":38.0151712617919,\"fMinimum\":2.50953248917033,\"fNormFactor\":0,\"fContour\":[],\"fSumw2\":[],\"fOption\":\"\",\"fFunctions\":{\"_typename\":\"TList\",\"name\":\"TList\",\"arr\":[],\"opt\":[]},\"fBufferSize\":0,\"fBuffer\":[],\"fBinStatErrOpt\":0,\"fStatOverflows\":2,\"fArray\":[0,0,0,0,0,0,0,0,0,0,0,0,0,0,0,0,0,0,0,0,0,0,0,0,0,0,0,0,0,0,0,0,0,0,0,0,0,0,0,0,0,0,0,0,0,0,0,0,0,0,0,0,0,0,0,0,0,0,0,0,0,0,0,0,0,0,0,0,0,0,0,0,0,0,0,0,0,0,0,0,0,0,0,0,0,0,0,0,0,0,0,0,0,0,0,0,0,0,0,0,0,0]},\"fMinimum\":-1111,\"fMaximum\":-1111,\"fEX\":[0,0,0,0,0,0,0,0,0,0,0,0,0,0,0,0,0,0,0,0,0,0,0,0,0,0,0,0,0,0],\"fEY\":[1,1,1,1,1,1,1,1,1,1,1,1,1,1,1,1,1,1,1,1,1,1,1,1,1,1,1,1,1,1]},{\"_typename\":\"TGraphErrors\",\"fUniqueID\":0,\"fBits\":50332680,\"fName\":\"Graph\",\"fTitle\":\"Graph\",\"fLineColor\":600,\"fLineStyle\":1,\"fLineWidth\":1,\"fFillColor\":0,\"fFillStyle\":1000,\"fMarkerColor\":1,\"fMarkerStyle\":24,\"fMarkerSize\":0.3,\"fNpoints\":30,\"fX\":[5.11622579256073,5.45150496717543,4.95155093679205,4.67380000231788,4.02397673530504,4.08608505455777,5.19701994908974,6.63508806796745,3.72446038015187,7.47864360874519,6.11334193684161,4.31342652952299,6.73773352708668,5.861958949361,3.49022919265553,4.61563385277987,7.4389212387614,6.49891557591036,3.58969567529857,6.67255251156167,4.34391773259267,6.44204299384729,6.16394053399563,3.44154460076243,3.01092561520636,7.32969677029178,6.99485882837326,3.40670032612979,3.4712287383154,3.68832396063954],\"fY\":[44.9272362119352,44.4332284740284,41.4076488155115,18.7266536696977,24.2027446905324,35.157031268367,48.615528501516,76.1740769194947,31.814858514901,76.1065578667985,41.2988183155844,30.6554612128052,81.0069316337407,39.3495605923612,22.2158152351254,19.4420699240465,76.2569324537065,43.049558315607,-1.51734191977684,62.9172306501249,31.5581416608121,48.9197345348486,56.5594126463517,39.1982281091505,29.7341274875779,70.9514324475874,56.7521862868697,29.7930283006769,22.982875470921,18.0956140480799],\"fFunctions\":{\"_typename\":\"TList\",\"name\":\"TList\",\"arr\":[],\"opt\":[]},\"fHistogram\":{\"_typename\":\"TH1F\",\"fUniqueID\":0,\"fBits\":50332168,\"fName\":\"Graph\",\"fTitle\":\"Graph\",\"fLineColor\":602,\"fLineStyle\":1,\"fLineWidth\":1,\"fFillColor\":0,\"fFillStyle\":1001,\"fMarkerColor\":1,\"fMarkerStyle\":1,\"fMarkerSize\":1,\"fNcells\":102,\"fXaxis\":{\"_typename\":\"TAxis\",\"fUniqueID\":0,\"fBits\":50331648,\"fName\":\"xaxis\",\"fTitle\":\"\",\"fNdivisions\":510,\"fAxisColor\":1,\"fLabelColor\":1,\"fLabelFont\":42,\"fLabelOffset\":0.005,\"fLabelSize\":0.035,\"fTickLength\":0.03,\"fTitleOffset\":1,\"fTitleSize\":0.035,\"fTitleColor\":1,\"fTitleFont\":42,\"fNbins\":100,\"fXmin\":2.56415381585248,\"fXmax\":7.92541540809908,\"fXbins\":[],\"fFirst\":0,\"fLast\":0,\"fBits2\":0,\"fTimeDisplay\":false,\"fTimeFormat\":\"\",\"fLabels\":null,\"fModLabs\":null},\"fYaxis\":{\"_typename\":\"TAxis\",\"fUniqueID\":0,\"fBits\":50331648,\"fName\":\"yaxis\",\"fTitle\":\"\",\"fNdivisions\":510,\"fAxisColor\":1,\"fLabelColor\":1,\"fLabelFont\":42,\"fLabelOffset\":0.005,\"fLabelSize\":0.035,\"fTickLength\":0.03,\"fTitleOffset\":0,\"fTitleSize\":0.035,\"fTitleColor\":1,\"fTitleFont\":42,\"fNbins\":1,\"fXmin\":-21.7697692751286,\"fXmax\":101.259358989092,\"fXbins\":[],\"fFirst\":0,\"fLast\":0,\"fBits2\":0,\"fTimeDisplay\":false,\"fTimeFormat\":\"\",\"fLabels\":null,\"fModLabs\":null},\"fZaxis\":{\"_typename\":\"TAxis\",\"fUniqueID\":0,\"fBits\":50331648,\"fName\":\"zaxis\",\"fTitle\":\"\",\"fNdivisions\":510,\"fAxisColor\":1,\"fLabelColor\":1,\"fLabelFont\":42,\"fLabelOffset\":0.005,\"fLabelSize\":0.035,\"fTickLength\":0.03,\"fTitleOffset\":1,\"fTitleSize\":0.035,\"fTitleColor\":1,\"fTitleFont\":42,\"fNbins\":1,\"fXmin\":0,\"fXmax\":1,\"fXbins\":[],\"fFirst\":0,\"fLast\":0,\"fBits2\":0,\"fTimeDisplay\":false,\"fTimeFormat\":\"\",\"fLabels\":null,\"fModLabs\":null},\"fBarOffset\":0,\"fBarWidth\":1000,\"fEntries\":0,\"fTsumw\":0,\"fTsumw2\":0,\"fTsumwx\":0,\"fTsumwx2\":0,\"fMaximum\":101.259358989092,\"fMinimum\":-21.7697692751286,\"fNormFactor\":0,\"fContour\":[],\"fSumw2\":[],\"fOption\":\"\",\"fFunctions\":{\"_typename\":\"TList\",\"name\":\"TList\",\"arr\":[],\"opt\":[]},\"fBufferSize\":0,\"fBuffer\":[],\"fBinStatErrOpt\":0,\"fStatOverflows\":2,\"fArray\":[0,0,0,0,0,0,0,0,0,0,0,0,0,0,0,0,0,0,0,0,0,0,0,0,0,0,0,0,0,0,0,0,0,0,0,0,0,0,0,0,0,0,0,0,0,0,0,0,0,0,0,0,0,0,0,0,0,0,0,0,0,0,0,0,0,0,0,0,0,0,0,0,0,0,0,0,0,0,0,0,0,0,0,0,0,0,0,0,0,0,0,0,0,0,0,0,0,0,0,0,0,0]},\"fMinimum\":-1111,\"fMaximum\":-1111,\"fEX\":[0,0,0,0,0,0,0,0,0,0,0,0,0,0,0,0,0,0,0,0,0,0,0,0,0,0,0,0,0,0],\"fEY\":[10,10,10,10,10,10,10,10,10,10,10,10,10,10,10,10,10,10,10,10,10,10,10,10,10,10,10,10,10,10]},{\"_typename\":\"TGraphErrors\",\"fUniqueID\":0,\"fBits\":50332680,\"fName\":\"Graph\",\"fTitle\":\"Graph\",\"fLineColor\":416,\"fLineStyle\":1,\"fLineWidth\":1,\"fFillColor\":0,\"fFillStyle\":1000,\"fMarkerColor\":1,\"fMarkerStyle\":24,\"fMarkerSize\":0.3,\"fNpoints\":30,\"fX\":[13.7435975018889,14.3656005905941,9.17289925552905,14.5666077956557,12.5213655531406,9.08542225509882,11.8676112145186,14.9036401044577,13.6753324186429,14.0065901912749,9.2430831855163,13.2193026132882,13.6653542714194,10.4208856467158,12.1673424616456,11.2568348301575,12.9930159375072,13.7820784058422,12.1230868985876,14.4856337662786,10.1302509494126,12.1871330905706,13.2451744778082,12.9465664783493,12.5295020705089,11.6931192800403,13.4793028319255,9.03687408473343,10.9358304971829,13.8774445066229],\"fY\":[233.853469399555,214.583222173384,85.8180009099501,261.728925315015,211.299488038788,121.901806072266,187.849430552729,238.675324861174,237.111755049807,196.82954702645,120.471370170623,216.141562647419,201.225293562447,170.189156761037,161.503139354846,152.954654341163,203.971823943128,238.211479707308,198.880001253248,222.183745817665,130.72347609915,181.641299204621,187.522936345204,204.101988924281,129.729905496202,185.813181813479,221.573602070068,112.351852350631,153.347211723822,234.797183340191],\"fFunctions\":{\"_typename\":\"TList\",\"name\":\"TList\",\"arr\":[],\"opt\":[]},\"fHistogram\":{\"_typename\":\"TH1F\",\"fUniqueID\":0,\"fBits\":50332168,\"fName\":\"Graph\",\"fTitle\":\"Graph\",\"fLineColor\":602,\"fLineStyle\":1,\"fLineWidth\":1,\"fFillColor\":0,\"fFillStyle\":1001,\"fMarkerColor\":1,\"fMarkerStyle\":1,\"fMarkerSize\":1,\"fNcells\":102,\"fXaxis\":{\"_typename\":\"TAxis\",\"fUniqueID\":0,\"fBits\":50331648,\"fName\":\"xaxis\",\"fTitle\":\"\",\"fNdivisions\":510,\"fAxisColor\":1,\"fLabelColor\":1,\"fLabelFont\":42,\"fLabelOffset\":0.005,\"fLabelSize\":0.035,\"fTickLength\":0.03,\"fTitleOffset\":1,\"fTitleSize\":0.035,\"fTitleColor\":1,\"fTitleFont\":42,\"fNbins\":100,\"fXmin\":8.45019748276099,\"fXmax\":15.4903167064302,\"fXbins\":[],\"fFirst\":0,\"fLast\":0,\"fBits2\":0,\"fTimeDisplay\":false,\"fTimeFormat\":\"\",\"fLabels\":null,\"fModLabs\":null},\"fYaxis\":{\"_typename\":\"TAxis\",\"fUniqueID\":0,\"fBits\":50331648,\"fName\":\"yaxis\",\"fTitle\":\"\",\"fNdivisions\":510,\"fAxisColor\":1,\"fLabelColor\":1,\"fLabelFont\":42,\"fLabelOffset\":0.005,\"fLabelSize\":0.035,\"fTickLength\":0.03,\"fTitleOffset\":0,\"fTitleSize\":0.035,\"fTitleColor\":1,\"fTitleFont\":42,\"fNbins\":1,\"fXmin\":44.2269084694437,\"fXmax\":303.320017755521,\"fXbins\":[],\"fFirst\":0,\"fLast\":0,\"fBits2\":0,\"fTimeDisplay\":false,\"fTimeFormat\":\"\",\"fLabels\":null,\"fModLabs\":null},\"fZaxis\":{\"_typename\":\"TAxis\",\"fUniqueID\":0,\"fBits\":50331648,\"fName\":\"zaxis\",\"fTitle\":\"\",\"fNdivisions\":510,\"fAxisColor\":1,\"fLabelColor\":1,\"fLabelFont\":42,\"fLabelOffset\":0.005,\"fLabelSize\":0.035,\"fTickLength\":0.03,\"fTitleOffset\":1,\"fTitleSize\":0.035,\"fTitleColor\":1,\"fTitleFont\":42,\"fNbins\":1,\"fXmin\":0,\"fXmax\":1,\"fXbins\":[],\"fFirst\":0,\"fLast\":0,\"fBits2\":0,\"fTimeDisplay\":false,\"fTimeFormat\":\"\",\"fLabels\":null,\"fModLabs\":null},\"fBarOffset\":0,\"fBarWidth\":1000,\"fEntries\":0,\"fTsumw\":0,\"fTsumw2\":0,\"fTsumwx\":0,\"fTsumwx2\":0,\"fMaximum\":303.320017755521,\"fMinimum\":44.2269084694437,\"fNormFactor\":0,\"fContour\":[],\"fSumw2\":[],\"fOption\":\"\",\"fFunctions\":{\"_typename\":\"TList\",\"name\":\"TList\",\"arr\":[],\"opt\":[]},\"fBufferSize\":0,\"fBuffer\":[],\"fBinStatErrOpt\":0,\"fStatOverflows\":2,\"fArray\":[0,0,0,0,0,0,0,0,0,0,0,0,0,0,0,0,0,0,0,0,0,0,0,0,0,0,0,0,0,0,0,0,0,0,0,0,0,0,0,0,0,0,0,0,0,0,0,0,0,0,0,0,0,0,0,0,0,0,0,0,0,0,0,0,0,0,0,0,0,0,0,0,0,0,0,0,0,0,0,0,0,0,0,0,0,0,0,0,0,0,0,0,0,0,0,0,0,0,0,0,0,0]},\"fMinimum\":-1111,\"fMaximum\":-1111,\"fEX\":[0,0,0,0,0,0,0,0,0,0,0,0,0,0,0,0,0,0,0,0,0,0,0,0,0,0,0,0,0,0],\"fEY\":[20,20,20,20,20,20,20,20,20,20,20,20,20,20,20,20,20,20,20,20,20,20,20,20,20,20,20,20,20,20]}],\"opt\":[\"\",\"\",\"\"]},\"fFunctions\":{\"_typename\":\"TList\",\"name\":\"TList\",\"arr\":[{\"_typename\":\"TF1\",\"fUniqueID\":0,\"fBits\":50332672,\"fName\":\"pol2\",\"fTitle\":\"pol2\",\"fLineColor\":2,\"fLineStyle\":1,\"fLineWidth\":1,\"fFillColor\":19,\"fFillStyle\":0,\"fMarkerColor\":1,\"fMarkerStyle\":1,\"fMarkerSize\":1,\"fXmin\":-0.632346921544522,\"fXmax\":15.6434490104579,\"fNpar\":3,\"fNdim\":1,\"fNpx\":100,\"fType\":0,\"fNpfits\":90,\"fNDF\":87,\"fChisquare\":95.1374094034032,\"fMinimum\":-1111,\"fMaximum\":-1111,\"fParErrors\":[0.428054916983478,0.248404066419179,0.034922770843182],\"fParMin\":[0,0,0],\"fParMax\":[0,0,0],\"fSave\":[2.42635243696746,2.55127108206556,2.72965435766747,2.96150226377318,3.24681480038271,3.58559196749605,3.97783376511321,4.42354019323417,4.92271125185894,5.47534694098753,6.08144726061993,6.74101221075613,7.45404179139615,8.22053600253998,9.04049484418763,9.91391831633907,10.8408064189943,11.8211591521534,12.8549765158163,13.942258509983,15.0830051346535,16.2772163898278,17.524892275506,18.8260327916879,20.1806379383736,21.5887077155632,23.0502421232566,24.5652411614538,26.1337048301548,27.7556331293596,29.4310260590682,31.1598836192806,32.9422058099969,34.7779926312169,36.6672440829408,38.6099601651685,40.6061408778999,42.6557862211352,44.7588961948744,46.9154707991173,49.125510033864,51.3890138991146,53.7059823948689,56.0764155211271,58.500313277889,60.9776756651548,63.5085026829244,66.0927943311978,68.7305506099751,71.4217715192561,74.1664570590409,76.9646072293296,79.816222030122,82.7213014614183,85.6798455232184,88.6918542155223,91.75732753833,94.8762654916415,98.0486680754568,101.274535289776,104.553867134599,107.886663609926,111.272924715756,114.712650452091,118.205840818929,121.752495816271,125.352615444117,129.006199702466,132.71324859132,136.473762110677,140.287740260538,144.155183040903,148.076090451772,152.050462493144,156.07829916502,160.159600467401,164.294366400285,168.482596963672,172.724292157564,177.019451981959,181.368076436858,185.770165522261,190.225719238168,194.734737584579,199.297220561493,203.913168168911,208.582580406833,213.305457275259,218.081798774189,222.911604903622,227.79487566356,232.731611054001,237.721811074946,242.765475726394,247.862605008347,253.013198920803,258.217257463764,263.474780637227,268.785768441195,274.150220875667,279.568137940642,-0.632346921544522,15.6434490104579],\"fNormalized\":false,\"fNormIntegral\":0,\"fFormula\":{\"_typename\":\"TFormula\",\"fUniqueID\":0,\"fBits\":50398208,\"fName\":\"pol2\",\"fTitle\":\"pol2\",\"fClingParameters\":[3.21134379001498,1.87952106521425,1.00914158279657],\"fAllParametersSetted\":true,\"fParams\":[{\"$pair\":\"pair<TString,int,TFormulaParamOrder>\",\"first\":\"p0\",\"second\":0},{\"$pair\":\"pair<TString,int,TFormulaParamOrder>\",\"first\":\"p1\",\"second\":1},{\"$pair\":\"pair<TString,int,TFormulaParamOrder>\",\"first\":\"p2\",\"second\":2}],\"fFormula\":\"([p0]+[p1]*x+[p2]*pow(x,2))\",\"fNdim\":1,\"fLinearParts\":[],\"fVectorized\":false},\"fParams\":null,\"fComposition_ptr\":null}],\"opt\":[\"\"]},\"fHistogram\":{\"_typename\":\"TH1F\",\"fUniqueID\":0,\"fBits\":50332168,\"fName\":\"mg\",\"fTitle\":\"TMultiGraph of 3 TGraphErrors\",\"fLineColor\":602,\"fLineStyle\":1,\"fLineWidth\":1,\"fFillColor\":0,\"fFillStyle\":1001,\"fMarkerColor\":1,\"fMarkerStyle\":1,\"fMarkerSize\":1,\"fNcells\":102,\"fXaxis\":{\"_typename\":\"TAxis\",\"fUniqueID\":0,\"fBits\":50331648,\"fName\":\"xaxis\",\"fTitle\":\"\",\"fNdivisions\":510,\"fAxisColor\":1,\"fLabelColor\":1,\"fLabelFont\":42,\"fLabelOffset\":0.005,\"fLabelSize\":0.035,\"fTickLength\":0.03,\"fTitleOffset\":1,\"fTitleSize\":0.035,\"fTitleColor\":1,\"fTitleFont\":42,\"fNbins\":100,\"fXmin\":-0.632346921544522,\"fXmax\":15.6434490104579,\"fXbins\":[],\"fFirst\":0,\"fLast\":0,\"fBits2\":0,\"fTimeDisplay\":false,\"fTimeFormat\":\"\",\"fLabels\":null,\"fModLabs\":null},\"fYaxis\":{\"_typename\":\"TAxis\",\"fUniqueID\":0,\"fBits\":50331648,\"fName\":\"yaxis\",\"fTitle\":\"\",\"fNdivisions\":510,\"fAxisColor\":1,\"fLabelColor\":1,\"fLabelFont\":42,\"fLabelOffset\":0.005,\"fLabelSize\":0.035,\"fTickLength\":0.03,\"fTitleOffset\":0,\"fTitleSize\":0.035,\"fTitleColor\":1,\"fTitleFont\":42,\"fNbins\":1,\"fXmin\":-26.1796552815164,\"fXmax\":296.391238676755,\"fXbins\":[],\"fFirst\":0,\"fLast\":0,\"fBits2\":0,\"fTimeDisplay\":false,\"fTimeFormat\":\"\",\"fLabels\":null,\"fModLabs\":null},\"fZaxis\":{\"_typename\":\"TAxis\",\"fUniqueID\":0,\"fBits\":50331648,\"fName\":\"zaxis\",\"fTitle\":\"\",\"fNdivisions\":510,\"fAxisColor\":1,\"fLabelColor\":1,\"fLabelFont\":42,\"fLabelOffset\":0.005,\"fLabelSize\":0.035,\"fTickLength\":0.03,\"fTitleOffset\":1,\"fTitleSize\":0.035,\"fTitleColor\":1,\"fTitleFont\":42,\"fNbins\":1,\"fXmin\":0,\"fXmax\":1,\"fXbins\":[],\"fFirst\":0,\"fLast\":0,\"fBits2\":0,\"fTimeDisplay\":false,\"fTimeFormat\":\"\",\"fLabels\":null,\"fModLabs\":null},\"fBarOffset\":0,\"fBarWidth\":1000,\"fEntries\":0,\"fTsumw\":0,\"fTsumw2\":0,\"fTsumwx\":0,\"fTsumwx2\":0,\"fMaximum\":296.391238676755,\"fMinimum\":-26.1796552815164,\"fNormFactor\":0,\"fContour\":[],\"fSumw2\":[],\"fOption\":\"\",\"fFunctions\":{\"_typename\":\"TList\",\"name\":\"TList\",\"arr\":[],\"opt\":[]},\"fBufferSize\":0,\"fBuffer\":[],\"fBinStatErrOpt\":0,\"fStatOverflows\":2,\"fArray\":[0,0,0,0,0,0,0,0,0,0,0,0,0,0,0,0,0,0,0,0,0,0,0,0,0,0,0,0,0,0,0,0,0,0,0,0,0,0,0,0,0,0,0,0,0,0,0,0,0,0,0,0,0,0,0,0,0,0,0,0,0,0,0,0,0,0,0,0,0,0,0,0,0,0,0,0,0,0,0,0,0,0,0,0,0,0,0,0,0,0,0,0,0,0,0,0,0,0,0,0,0,0]},\"fMaximum\":-1111,\"fMinimum\":-1111},{\"_typename\":\"TPaveText\",\"fUniqueID\":0,\"fBits\":50331657,\"fLineColor\":1,\"fLineStyle\":1,\"fLineWidth\":1,\"fFillColor\":0,\"fFillStyle\":0,\"fX1\":2.12822442041453,\"fY1\":310.093672071067,\"fX2\":12.8828776684988,\"fY2\":334.696537231106,\"fX1NDC\":0.235689655172414,\"fY1NDC\":0.933983055615829,\"fX2NDC\":0.764310344827586,\"fY2NDC\":0.995000004768372,\"fBorderSize\":0,\"fInit\":1,\"fShadowColor\":1,\"fCornerRadius\":0,\"fOption\":\"blNDC\",\"fName\":\"title\",\"fTextAngle\":0,\"fTextSize\":0,\"fTextAlign\":22,\"fTextColor\":1,\"fTextFont\":42,\"fLabel\":\"\",\"fLongest\":29,\"fMargin\":0.05,\"fLines\":{\"_typename\":\"TList\",\"name\":\"TList\",\"arr\":[{\"_typename\":\"TLatex\",\"fUniqueID\":0,\"fBits\":50331648,\"fName\":\"\",\"fTitle\":\"TMultiGraph of 3 TGraphErrors\",\"fTextAngle\":0,\"fTextSize\":0,\"fTextAlign\":0,\"fTextColor\":0,\"fTextFont\":0,\"fX\":0,\"fY\":0,\"fLineColor\":1,\"fLineStyle\":1,\"fLineWidth\":2,\"fLimitFactorSize\":3,\"fOriginSize\":0.0518644079566002}],\"opt\":[\"\"]}}],\"opt\":[\"\",\"ap\",\"blNDC\"]},\"fExecs\":null,\"fName\":\"myc\",\"fTitle\":\"Fitting a MultiGraph of 3 TGraphErrors\",\"fNumPaletteColor\":0,\"fNextPaletteColor\":0,\"fDISPLAY\":\"$DISPLAY\",\"fDoubleBuffer\":0,\"fRetained\":true,\"fXsizeUser\":0,\"fYsizeUser\":0,\"fXsizeReal\":20,\"fYsizeReal\":14.28571,\"fWindowTopX\":0,\"fWindowTopY\":0,\"fWindowWidth\":0,\"fWindowHeight\":0,\"fCw\":696,\"fCh\":472,\"fCatt\":{\"_typename\":\"TAttCanvas\",\"fXBetween\":2,\"fYBetween\":2,\"fTitleFromTop\":1.2,\"fXdate\":0.2,\"fYdate\":0.3,\"fAdate\":1},\"kMoveOpaque\":true,\"kResizeOpaque\":true,\"fHighLightColor\":2,\"fBatch\":true,\"kShowEventStatus\":false,\"kAutoExec\":true,\"kMenuBar\":true});\n",
       "       Core.draw(\"root_plot_1\", obj, \"\");\n",
       "     }\n",
       " );\n",
       "</script>\n"
      ],
      "text/plain": [
       "<IPython.core.display.HTML object>"
      ]
     },
     "metadata": {},
     "output_type": "display_data"
    }
   ],
   "source": [
    "%jsroot on\n",
    "gROOT->GetListOfCanvases()->Draw()"
   ]
  }
 ],
 "metadata": {
  "kernelspec": {
   "display_name": "ROOT C++",
   "language": "c++",
   "name": "root"
  },
  "language_info": {
   "codemirror_mode": "text/x-c++src",
   "file_extension": ".C",
   "mimetype": " text/x-c++src",
   "name": "c++"
  }
 },
 "nbformat": 4,
 "nbformat_minor": 2
}
