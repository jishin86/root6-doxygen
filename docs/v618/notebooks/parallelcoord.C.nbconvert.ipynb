{
 "cells": [
  {
   "cell_type": "markdown",
   "metadata": {},
   "source": [
    "# Parallelcoord\n",
    "Script illustrating the use of the TParalleCoord class\n",
    "\n",
    "\n",
    "\n",
    "\n",
    "**Author:**  Bastien Dallapiazza  \n",
    "<i><small>This notebook tutorial was automatically generated with <a href= \"https://github.com/root-project/root/blob/master/documentation/doxygen/converttonotebook.py\">ROOTBOOK-izer</a> from the macro found in the ROOT repository  on Thursday, August 29, 2019 at 03:55 AM.</small></i>"
   ]
  },
  {
   "cell_type": "code",
   "execution_count": 1,
   "metadata": {
    "collapsed": false
   },
   "outputs": [],
   "source": [
    "%%cpp -d\n",
    "#include \"TFile.h\"\n",
    "#include \"TCanvas.h\"\n",
    "#include \"TStyle.h\"\n",
    "#include \"TRandom.h\"\n",
    "#include \"TNtuple.h\"\n",
    "#include \"TParallelCoord.h\"\n",
    "#include \"TParallelCoordVar.h\"\n",
    "#include \"TParallelCoordRange.h\"\n",
    "\n",
    "Double_t r1,r2,r3,r4,r5,r6,r7,r8,r9;\n",
    "Double_t dr = 3.5;\n",
    "TRandom *r;"
   ]
  },
  {
   "cell_type": "markdown",
   "metadata": {},
   "source": [
    " A helper function is created: "
   ]
  },
  {
   "cell_type": "code",
   "execution_count": 2,
   "metadata": {
    "collapsed": false
   },
   "outputs": [],
   "source": [
    "%%cpp -d\n",
    "void generate_random(Int_t i) {\n",
    "   r1 = (2*dr*r->Rndm(i))-dr;\n",
    "   r2 = (2*dr*r->Rndm(i))-dr;\n",
    "   r7 = (2*dr*r->Rndm(i))-dr;\n",
    "   r9 = (2*dr*r->Rndm(i))-dr;\n",
    "   r4 = (2*dr*r->Rndm(i))-dr;\n",
    "   r3 = (2*dr*r->Rndm(i))-dr;\n",
    "   r5 = (2*dr*r->Rndm(i))-dr;\n",
    "   r6 = (2*dr*r->Rndm(i))-dr;\n",
    "   r8 = (2*dr*r->Rndm(i))-dr;\n",
    "}"
   ]
  },
  {
   "cell_type": "code",
   "execution_count": 3,
   "metadata": {
    "collapsed": false
   },
   "outputs": [],
   "source": [
    "TNtuple *nt = NULL;\n",
    "\n",
    "Double_t s1x, s1y, s1z;\n",
    "Double_t s2x, s2y, s2z;\n",
    "Double_t s3x, s3y, s3z;\n",
    "r = new TRandom();;\n",
    "\n",
    "new TCanvas(\"c1\", \"c1\",0,0,800,700);\n",
    "\n",
    "nt = new TNtuple(\"nt\",\"Demo ntuple\",\"x:y:z:u:v:w\");\n",
    "\n",
    "for (Int_t i=0; i<20000; i++) {\n",
    "   r->Sphere(s1x, s1y, s1z, 0.1);\n",
    "   r->Sphere(s2x, s2y, s2z, 0.2);\n",
    "   r->Sphere(s3x, s3y, s3z, 0.05);\n",
    "\n",
    "   generate_random(i);\n",
    "   nt->Fill(r1, r2, r3, r4, r5, r6);\n",
    "\n",
    "   generate_random(i);\n",
    "   nt->Fill(s1x, s1y, s1z, s2x, s2y, s2z);\n",
    "\n",
    "   generate_random(i);\n",
    "   nt->Fill(r1, r2, r3, r4, r5, r6);\n",
    "\n",
    "   generate_random(i);\n",
    "   nt->Fill(s2x-1, s2y-1, s2z, s1x+.5, s1y+.5, s1z+.5);\n",
    "\n",
    "   generate_random(i);\n",
    "   nt->Fill(r1, r2, r3, r4, r5, r6);\n",
    "\n",
    "   generate_random(i);\n",
    "   nt->Fill(s1x+1, s1y+1, s1z+1, s3x-2, s3y-2, s3z-2);\n",
    "\n",
    "   generate_random(i);\n",
    "   nt->Fill(r1, r2, r3, r4, r5, r6);\n",
    "}\n",
    "nt->Draw(\"x:y:z:u:v:w\",\"\",\"para\",5000);\n",
    "TParallelCoord* para = (TParallelCoord*)gPad->GetListOfPrimitives()->FindObject(\"ParaCoord\");\n",
    "para->SetDotsSpacing(5);\n",
    "TParallelCoordVar* firstaxis = (TParallelCoordVar*)para->GetVarList()->FindObject(\"x\");\n",
    "firstaxis->AddRange(new TParallelCoordRange(firstaxis,0.846018,1.158469));\n",
    "para->AddSelection(\"violet\");\n",
    "para->GetCurrentSelection()->SetLineColor(kViolet);\n",
    "firstaxis->AddRange(new TParallelCoordRange(firstaxis,-0.169447,0.169042));\n",
    "para->AddSelection(\"Orange\");\n",
    "para->GetCurrentSelection()->SetLineColor(kOrange+9);\n",
    "firstaxis->AddRange(new TParallelCoordRange(firstaxis,-1.263024,-0.755292));"
   ]
  }
 ],
 "metadata": {
  "kernelspec": {
   "display_name": "ROOT C++",
   "language": "c++",
   "name": "root"
  },
  "language_info": {
   "codemirror_mode": "text/x-c++src",
   "file_extension": ".C",
   "mimetype": " text/x-c++src",
   "name": "c++"
  }
 },
 "nbformat": 4,
 "nbformat_minor": 2
}
