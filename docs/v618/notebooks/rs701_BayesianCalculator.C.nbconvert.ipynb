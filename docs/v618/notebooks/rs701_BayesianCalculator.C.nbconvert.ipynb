{
 "cells": [
  {
   "cell_type": "markdown",
   "metadata": {},
   "source": [
    "# Rs 7 0 1_ Bayesian Calculator\n",
    "Bayesian calculator: basic exmple\n",
    "\n",
    "\n",
    "\n",
    "\n",
    "**Author:** Gregory Schott  \n",
    "<i><small>This notebook tutorial was automatically generated with <a href= \"https://github.com/root-project/root/blob/master/documentation/doxygen/converttonotebook.py\">ROOTBOOK-izer</a> from the macro found in the ROOT repository  on Thursday, August 29, 2019 at 03:23 AM.</small></i>"
   ]
  },
  {
   "cell_type": "code",
   "execution_count": 1,
   "metadata": {
    "collapsed": false
   },
   "outputs": [],
   "source": [
    "%%cpp -d\n",
    "#include \"RooRealVar.h\"\n",
    "#include \"RooWorkspace.h\"\n",
    "#include \"RooDataSet.h\"\n",
    "#include \"RooPlot.h\"\n",
    "#include \"RooMsgService.h\"\n",
    "\n",
    "#include \"RooStats/BayesianCalculator.h\"\n",
    "#include \"RooStats/SimpleInterval.h\"\n",
    "#include \"TCanvas.h\""
   ]
  },
  {
   "cell_type": "code",
   "execution_count": 2,
   "metadata": {
    "collapsed": false
   },
   "outputs": [],
   "source": [
    "%%cpp -d\n",
    "// This is a workaround to make sure the namespace is used inside functions\n",
    "using namespace RooFit;\n",
    "using namespace RooStats;"
   ]
  },
  {
   "cell_type": "markdown",
   "metadata": {},
   "source": [
    " Arguments are defined. "
   ]
  },
  {
   "cell_type": "code",
   "execution_count": 3,
   "metadata": {
    "collapsed": false
   },
   "outputs": [],
   "source": [
    "bool useBkg = true;\n",
    "double confLevel = 0.90;"
   ]
  },
  {
   "cell_type": "code",
   "execution_count": 4,
   "metadata": {
    "collapsed": false
   },
   "outputs": [
    {
     "name": "stdout",
     "output_type": "stream",
     "text": [
      "\n",
      "\u001b[1mRooFit v3.60 -- Developed by Wouter Verkerke and David Kirkby\u001b[0m \n",
      "                Copyright (C) 2000-2013 NIKHEF, University of California & Stanford University\n",
      "                All rights reserved, please read http://roofit.sourceforge.net/license.txt\n",
      "\n",
      "[#1] INFO:ObjectHandling -- RooWorkspace::exportToCint(w) INFO: references to all objects in this workspace will be created in CINT in 'namespace w'\n"
     ]
    },
    {
     "name": "stderr",
     "output_type": "stream",
     "text": [
      "input_line_38:1:11: error: redefinition of 'w' as different kind of symbol\n",
      "namespace w { RooRealVar& s = *(RooRealVar *)0x7fd37c16b720 ; }\n",
      "          ^\n",
      "input_line_33:2:16: note: previous definition is here\n",
      " RooWorkspace *w = new RooWorkspace(\"w\", true);\n",
      "               ^\n",
      "input_line_39:1:11: error: redefinition of 'w' as different kind of symbol\n",
      "namespace w { RooRealVar& x = *(RooRealVar *)0x7fd37c108b50 ; }\n",
      "          ^\n",
      "input_line_33:2:16: note: previous definition is here\n",
      " RooWorkspace *w = new RooWorkspace(\"w\", true);\n",
      "               ^\n",
      "input_line_40:1:11: error: redefinition of 'w' as different kind of symbol\n",
      "namespace w { RooUniform& pdf_1 = *(RooUniform *)0x7fd37c318b60 ; }\n",
      "          ^\n",
      "input_line_33:2:16: note: previous definition is here\n",
      " RooWorkspace *w = new RooWorkspace(\"w\", true);\n",
      "               ^\n",
      "input_line_41:1:11: error: redefinition of 'w' as different kind of symbol\n",
      "namespace w { RooRealVar& b = *(RooRealVar *)0x7fd37c16af70 ; }\n",
      "          ^\n",
      "input_line_33:2:16: note: previous definition is here\n",
      " RooWorkspace *w = new RooWorkspace(\"w\", true);\n",
      "               ^\n",
      "input_line_42:1:11: error: redefinition of 'w' as different kind of symbol\n",
      "namespace w { RooUniform& pdf_2 = *(RooUniform *)0x7fd37c311e60 ; }\n",
      "          ^\n",
      "input_line_33:2:16: note: previous definition is here\n",
      " RooWorkspace *w = new RooWorkspace(\"w\", true);\n",
      "               ^\n",
      "input_line_43:1:11: error: redefinition of 'w' as different kind of symbol\n",
      "namespace w { RooAddPdf& pdf = *(RooAddPdf *)0x7fd37c3282c0 ; }\n",
      "          ^\n",
      "input_line_33:2:16: note: previous definition is here\n",
      " RooWorkspace *w = new RooWorkspace(\"w\", true);\n",
      "               ^\n",
      "input_line_45:1:11: error: redefinition of 'w' as different kind of symbol\n",
      "namespace w { RooGaussian& prior_b = *(RooGaussian *)0x7fd37c36de40 ; }\n",
      "          ^\n",
      "input_line_33:2:16: note: previous definition is here\n",
      " RooWorkspace *w = new RooWorkspace(\"w\", true);\n",
      "               ^\n",
      "input_line_46:1:11: error: redefinition of 'w' as different kind of symbol\n",
      "namespace w { RooProdPdf& model = *(RooProdPdf *)0x7fd37c36bd00 ; }\n",
      "          ^\n",
      "input_line_33:2:16: note: previous definition is here\n",
      " RooWorkspace *w = new RooWorkspace(\"w\", true);\n",
      "               ^\n",
      "input_line_48:1:11: error: redefinition of 'w' as different kind of symbol\n",
      "namespace w { RooUniform& priorPOI = *(RooUniform *)0x7fd37c311090 ; }\n",
      "          ^\n",
      "input_line_33:2:16: note: previous definition is here\n",
      " RooWorkspace *w = new RooWorkspace(\"w\", true);\n",
      "               ^\n",
      "input_line_50:1:11: error: redefinition of 'w' as different kind of symbol\n",
      "namespace w { RooGenericPdf& priorPOI2 = *(RooGenericPdf *)0x7fd37c41f190 ; }\n",
      "          ^\n",
      "input_line_33:2:16: note: previous definition is here\n",
      " RooWorkspace *w = new RooWorkspace(\"w\", true);\n",
      "               ^\n",
      "input_line_51:1:11: error: redefinition of 'w' as different kind of symbol\n",
      "namespace w { RooRealVar& n = *(RooRealVar *)0x7fd37c31af20 ; }\n",
      "          ^\n",
      "input_line_33:2:16: note: previous definition is here\n",
      " RooWorkspace *w = new RooWorkspace(\"w\", true);\n",
      "               ^\n"
     ]
    }
   ],
   "source": [
    "RooWorkspace *w = new RooWorkspace(\"w\", true);\n",
    "w->factory(\"SUM::pdf(s[0.001,15]*Uniform(x[0,1]),b[1,0,2]*Uniform(x))\");\n",
    "w->factory(\"Gaussian::prior_b(b,1,1)\");\n",
    "w->factory(\"PROD::model(pdf,prior_b)\");\n",
    "RooAbsPdf *model = w->pdf(\"model\"); // pdf*priorNuisance\n",
    "RooArgSet nuisanceParameters(*(w->var(\"b\")));\n",
    "\n",
    "RooAbsRealLValue *POI = w->var(\"s\");\n",
    "RooAbsPdf *priorPOI = (RooAbsPdf *)w->factory(\"Uniform::priorPOI(s)\");\n",
    "RooAbsPdf *priorPOI2 = (RooAbsPdf *)w->factory(\"GenericPdf::priorPOI2('1/sqrt(@0)',s)\");\n",
    "\n",
    "w->factory(\"n[3]\"); // observed number of events"
   ]
  },
  {
   "cell_type": "markdown",
   "metadata": {},
   "source": [
    "Create a data set with n observed events"
   ]
  },
  {
   "cell_type": "code",
   "execution_count": 5,
   "metadata": {
    "collapsed": false
   },
   "outputs": [],
   "source": [
    "RooDataSet data(\"data\", \"\", RooArgSet(*(w->var(\"x\")), *(w->var(\"n\"))), \"n\");\n",
    "data.add(RooArgSet(*(w->var(\"x\"))), w->var(\"n\")->getVal());"
   ]
  },
  {
   "cell_type": "markdown",
   "metadata": {},
   "source": [
    "To suppress messages when pdf goes to zero"
   ]
  },
  {
   "cell_type": "code",
   "execution_count": 6,
   "metadata": {
    "collapsed": false
   },
   "outputs": [],
   "source": [
    "RooMsgService::instance().setGlobalKillBelow(RooFit::FATAL);\n",
    "\n",
    "RooArgSet *nuisPar = 0;\n",
    "if (useBkg)\n",
    "   nuisPar = &nuisanceParameters;"
   ]
  },
  {
   "cell_type": "markdown",
   "metadata": {},
   "source": [
    "If (!usebkg) ((roorealvar *)w->var(\"b\"))->setval(0);"
   ]
  },
  {
   "cell_type": "code",
   "execution_count": 7,
   "metadata": {
    "collapsed": false
   },
   "outputs": [
    {
     "name": "stdout",
     "output_type": "stream",
     "text": [
      "\n",
      "Bayesian Result using a Flat prior \n",
      "0.9% CL central interval: [ 0.50606 - 6.89326 ] or 0.95% CL limits\n",
      "\n",
      "Bayesian Result using a 1/sqrt(s) prior  \n",
      "0.9% CL central interval: [ 0.0746294 - 5.85425 ] or 0.95% CL limits\n"
     ]
    }
   ],
   "source": [
    "double size = 1. - confLevel;\n",
    "std::cout << \"\\nBayesian Result using a Flat prior \" << std::endl;\n",
    "BayesianCalculator bcalc(data, *model, RooArgSet(*POI), *priorPOI, nuisPar);\n",
    "bcalc.SetTestSize(size);\n",
    "SimpleInterval *interval = bcalc.GetInterval();\n",
    "double cl = bcalc.ConfidenceLevel();\n",
    "std::cout << cl << \"% CL central interval: [ \" << interval->LowerLimit() << \" - \" << interval->UpperLimit()\n",
    "          << \" ] or \" << cl + (1. - cl) / 2 << \"% CL limits\\n\";\n",
    "RooPlot *plot = bcalc.GetPosteriorPlot();\n",
    "TCanvas *c1 = new TCanvas(\"c1\", \"Bayesian Calculator Result\");\n",
    "c1->Divide(1, 2);\n",
    "c1->cd(1);\n",
    "plot->Draw();\n",
    "c1->Update();\n",
    "\n",
    "std::cout << \"\\nBayesian Result using a 1/sqrt(s) prior  \" << std::endl;\n",
    "BayesianCalculator bcalc2(data, *model, RooArgSet(*POI), *priorPOI2, nuisPar);\n",
    "bcalc2.SetTestSize(size);\n",
    "SimpleInterval *interval2 = bcalc2.GetInterval();\n",
    "cl = bcalc2.ConfidenceLevel();\n",
    "std::cout << cl << \"% CL central interval: [ \" << interval2->LowerLimit() << \" - \" << interval2->UpperLimit()\n",
    "          << \" ] or \" << cl + (1. - cl) / 2 << \"% CL limits\\n\";\n",
    "\n",
    "RooPlot *plot2 = bcalc2.GetPosteriorPlot();\n",
    "c1->cd(2);\n",
    "plot2->Draw();\n",
    "gPad->SetLogy();\n",
    "c1->Update();"
   ]
  },
  {
   "cell_type": "markdown",
   "metadata": {},
   "source": [
    "Observe one event while expecting one background event -> the 95% cl upper limit on s is 4.10\n",
    " observe one event while expecting zero background event -> the 95% CL upper limit on s is 4.74"
   ]
  },
  {
   "cell_type": "markdown",
   "metadata": {},
   "source": [
    "Draw all canvases "
   ]
  },
  {
   "cell_type": "code",
   "execution_count": 8,
   "metadata": {
    "collapsed": false
   },
   "outputs": [
    {
     "data": {
      "image/png": "[encoded data removed]",
      "text/plain": [
       "<IPython.core.display.Image object>"
      ]
     },
     "metadata": {},
     "output_type": "display_data"
    }
   ],
   "source": [
    "gROOT->GetListOfCanvases()->Draw()"
   ]
  }
 ],
 "metadata": {
  "kernelspec": {
   "display_name": "ROOT C++",
   "language": "c++",
   "name": "root"
  },
  "language_info": {
   "codemirror_mode": "text/x-c++src",
   "file_extension": ".C",
   "mimetype": " text/x-c++src",
   "name": "c++"
  }
 },
 "nbformat": 4,
 "nbformat_minor": 2
}
