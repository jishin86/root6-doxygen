{
 "cells": [
  {
   "cell_type": "markdown",
   "metadata": {},
   "source": [
    "# Rs 4 0 1C_ Feldman Cousins\n",
    "Produces an interval on the mean signal in a number counting experiment with known background using the\n",
    "Feldman-Cousins technique.\n",
    "\n",
    "Using the RooStats FeldmanCousins tool with 200 bins\n",
    "it takes 1 min and the interval is [0.2625, 10.6125]\n",
    "with a step size of 0.075.\n",
    "The interval in Feldman & Cousins's original paper is [.29, 10.81] Phys.Rev.D57:3873-3889,1998.\n",
    "\n",
    "\n",
    "\n",
    "\n",
    "**Author:** Kyle Cranmer  \n",
    "<i><small>This notebook tutorial was automatically generated with <a href= \"https://github.com/root-project/root/blob/master/documentation/doxygen/converttonotebook.py\">ROOTBOOK-izer</a> from the macro found in the ROOT repository  on Thursday, August 29, 2019 at 03:15 AM.</small></i>"
   ]
  },
  {
   "cell_type": "code",
   "execution_count": 1,
   "metadata": {
    "collapsed": false
   },
   "outputs": [],
   "source": [
    "%%cpp -d\n",
    "#include \"RooGlobalFunc.h\"\n",
    "#include \"RooStats/ConfInterval.h\"\n",
    "#include \"RooStats/PointSetInterval.h\"\n",
    "#include \"RooStats/ConfidenceBelt.h\"\n",
    "#include \"RooStats/FeldmanCousins.h\"\n",
    "#include \"RooStats/ModelConfig.h\"\n",
    "\n",
    "#include \"RooWorkspace.h\"\n",
    "#include \"RooDataSet.h\"\n",
    "#include \"RooRealVar.h\"\n",
    "#include \"RooConstVar.h\"\n",
    "#include \"RooAddition.h\"\n",
    "\n",
    "#include \"RooDataHist.h\"\n",
    "\n",
    "#include \"RooPoisson.h\"\n",
    "#include \"RooPlot.h\"\n",
    "\n",
    "#include \"TCanvas.h\"\n",
    "#include \"TTree.h\"\n",
    "#include \"TH1F.h\"\n",
    "#include \"TMarker.h\"\n",
    "#include \"TStopwatch.h\"\n",
    "\n",
    "#include <iostream>"
   ]
  },
  {
   "cell_type": "markdown",
   "metadata": {},
   "source": [
    "Use this order for safety on library loading"
   ]
  },
  {
   "cell_type": "code",
   "execution_count": 2,
   "metadata": {
    "collapsed": false
   },
   "outputs": [],
   "source": [
    "%%cpp -d\n",
    "// This is a workaround to make sure the namespace is used inside functions\n",
    "using namespace RooFit;\n",
    "using namespace RooStats;"
   ]
  },
  {
   "cell_type": "markdown",
   "metadata": {},
   "source": [
    "To time the macro... about 30 s"
   ]
  },
  {
   "cell_type": "code",
   "execution_count": 3,
   "metadata": {
    "collapsed": false
   },
   "outputs": [],
   "source": [
    "TStopwatch t;\n",
    "t.Start();"
   ]
  },
  {
   "cell_type": "markdown",
   "metadata": {},
   "source": [
    "Make a simple model"
   ]
  },
  {
   "cell_type": "code",
   "execution_count": 4,
   "metadata": {
    "collapsed": false
   },
   "outputs": [
    {
     "name": "stdout",
     "output_type": "stream",
     "text": [
      "\n",
      "\u001b[1mRooFit v3.60 -- Developed by Wouter Verkerke and David Kirkby\u001b[0m \n",
      "                Copyright (C) 2000-2013 NIKHEF, University of California & Stanford University\n",
      "                All rights reserved, please read http://roofit.sourceforge.net/license.txt\n",
      "\n"
     ]
    }
   ],
   "source": [
    "RooRealVar x(\"x\", \"\", 1, 0, 50);\n",
    "RooRealVar mu(\"mu\", \"\", 2.5, 0, 15); // with a limit on mu>=0\n",
    "RooConstVar b(\"b\", \"\", 3.);\n",
    "RooAddition mean(\"mean\", \"\", RooArgList(mu, b));\n",
    "RooPoisson pois(\"pois\", \"\", x, mean);\n",
    "RooArgSet parameters(mu);"
   ]
  },
  {
   "cell_type": "markdown",
   "metadata": {},
   "source": [
    "Create a toy dataset"
   ]
  },
  {
   "cell_type": "code",
   "execution_count": 5,
   "metadata": {
    "collapsed": false
   },
   "outputs": [
    {
     "name": "stdout",
     "output_type": "stream",
     "text": [
      "DataStore poisData (Generated From )\n",
      "  Contains 1 entries\n",
      "  Observables: \n",
      "    1)  x = 7  L(0 - 50)  \"\"\n",
      "\n",
      "RooWorkspace()  contents\n",
      "\n",
      "variables\n",
      "---------\n",
      "(mu,x)\n",
      "\n",
      "p.d.f.s\n",
      "-------\n",
      "RooPoisson::pois[ x=x mean=mean ] = 0.0224772\n",
      "\n",
      "functions\n",
      "--------\n",
      "RooAddition::mean[ mu + b ] = 5.5\n",
      "\n",
      "named sets\n",
      "----------\n",
      "poissonProblem_Observables:(x)\n",
      "poissonProblem_POI:(mu)\n",
      "\n"
     ]
    }
   ],
   "source": [
    "RooDataSet *data = pois.generate(RooArgSet(x), 1);\n",
    "data->Print(\"v\");\n",
    "\n",
    "TCanvas *dataCanvas = new TCanvas(\"dataCanvas\");\n",
    "RooPlot *frame = x.frame();\n",
    "data->plotOn(frame);\n",
    "frame->Draw();\n",
    "dataCanvas->Update();\n",
    "\n",
    "RooWorkspace *w = new RooWorkspace();\n",
    "ModelConfig modelConfig(\"poissonProblem\", w);\n",
    "modelConfig.SetPdf(pois);\n",
    "modelConfig.SetParametersOfInterest(parameters);\n",
    "modelConfig.SetObservables(RooArgSet(x));\n",
    "w->Print();"
   ]
  },
  {
   "cell_type": "markdown",
   "metadata": {},
   "source": [
    "////// show use of feldman-cousins"
   ]
  },
  {
   "cell_type": "code",
   "execution_count": 6,
   "metadata": {
    "collapsed": false
   },
   "outputs": [],
   "source": [
    "RooStats::FeldmanCousins fc(*data, modelConfig);\n",
    "fc.SetTestSize(.05); // set size of test\n",
    "fc.UseAdaptiveSampling(true);\n",
    "fc.FluctuateNumDataEntries(false); // number counting analysis: dataset always has 1 entry with N events observed\n",
    "fc.SetNBins(100);                  // number of points to test per parameter"
   ]
  },
  {
   "cell_type": "markdown",
   "metadata": {},
   "source": [
    "Use the feldman-cousins tool"
   ]
  },
  {
   "cell_type": "code",
   "execution_count": 7,
   "metadata": {
    "collapsed": false
   },
   "outputs": [
    {
     "name": "stdout",
     "output_type": "stream",
     "text": [
      "\n",
      "=== Using the following for poissonProblem ===\n",
      "Observables:             RooArgSet:: = (x)\n",
      "Parameters of Interest:  RooArgSet:: = (mu)\n",
      "PDF:                     RooPoisson::pois[ x=x mean=mean ] = 0.0224772\n",
      "\n",
      "FeldmanCousins: ntoys per point: adaptive\n",
      "FeldmanCousins: nEvents per toy will not fluctuate, will always be 1\n",
      "FeldmanCousins: Model has no nuisance parameters\n",
      "FeldmanCousins: # points to test = 100\n",
      "NeymanConstruction: Prog: 1/100 total MC = 240 this test stat = 1.83324\n",
      " mu=0.075 [-1e+30, 1.08573]  in interval = 0\n",
      "\n",
      "NeymanConstruction: Prog: 2/100 total MC = 80 this test stat = 1.64984\n",
      " mu=0.225 [-1e+30, 0.949959]  in interval = 0\n",
      "\n",
      "NeymanConstruction: Prog: 3/100 total MC = 80 this test stat = 1.4816\n",
      " mu=0.375 [-1e+30, 0.827185]  in interval = 0\n",
      "\n",
      "NeymanConstruction: Prog: 4/100 total MC = 240 this test stat = 1.32721\n",
      " mu=0.525 [-1e+30, 1.32721]  in interval = 1\n",
      "\n",
      "NeymanConstruction: Prog: 5/100 total MC = 80 this test stat = 1.1855\n",
      " mu=0.675 [-1e+30, 2.73604]  in interval = 1\n",
      "\n",
      "NeymanConstruction: Prog: 6/100 total MC = 240 this test stat = 1.05546\n",
      " mu=0.825 [-1e+30, 1.72806]  in interval = 1\n",
      "\n",
      "NeymanConstruction: Prog: 7/100 total MC = 80 this test stat = 0.936198\n",
      " mu=0.975 [-1e+30, 2.32979]  in interval = 1\n",
      "\n",
      "NeymanConstruction: Prog: 8/100 total MC = 80 this test stat = 0.826909\n",
      " mu=1.125 [-1e+30, 1.424]  in interval = 1\n",
      "\n",
      "NeymanConstruction: Prog: 9/100 total MC = 80 this test stat = 0.726882\n",
      " mu=1.275 [-1e+30, 1.28826]  in interval = 1\n",
      "\n",
      "NeymanConstruction: Prog: 10/100 total MC = 80 this test stat = 0.635479\n",
      " mu=1.425 [-1e+30, 1.81459]  in interval = 1\n",
      "\n",
      "NeymanConstruction: Prog: 11/100 total MC = 80 this test stat = 0.552124\n",
      " mu=1.575 [-1e+30, 1.66456]  in interval = 1\n",
      "\n",
      "NeymanConstruction: Prog: 12/100 total MC = 80 this test stat = 0.476298\n",
      " mu=1.725 [-1e+30, 1.725]  in interval = 1\n",
      "\n",
      "NeymanConstruction: Prog: 13/100 total MC = 80 this test stat = 0.40753\n",
      " mu=1.875 [-1e+30, 2.05965]  in interval = 1\n",
      "\n",
      "NeymanConstruction: Prog: 14/100 total MC = 80 this test stat = 0.345393\n",
      " mu=2.025 [-1e+30, 1.9066]  in interval = 1\n",
      "\n",
      "NeymanConstruction: Prog: 15/100 total MC = 80 this test stat = 0.289496\n",
      " mu=2.175 [-1e+30, 1.76244]  in interval = 1\n",
      "\n",
      "NeymanConstruction: Prog: 16/100 total MC = 80 this test stat = 0.239482\n",
      " mu=2.325 [-1e+30, 1.7512]  in interval = 1\n",
      "\n",
      "NeymanConstruction: Prog: 17/100 total MC = 80 this test stat = 0.195006\n",
      " mu=2.475 [-1e+30, 1.27184]  in interval = 1\n",
      "\n",
      "NeymanConstruction: Prog: 18/100 total MC = 80 this test stat = 0.155824\n",
      " mu=2.625 [-1e+30, 1.99639]  in interval = 1\n",
      "\n",
      "NeymanConstruction: Prog: 19/100 total MC = 80 this test stat = 0.121603\n",
      " mu=2.775 [-1e+30, 1.86293]  in interval = 1\n",
      "\n",
      "NeymanConstruction: Prog: 20/100 total MC = 80 this test stat = 0.0921062\n",
      " mu=2.925 [-1e+30, 1.73086]  in interval = 1\n",
      "\n",
      "NeymanConstruction: Prog: 21/100 total MC = 80 this test stat = 0.0670922\n",
      " mu=3.075 [-1e+30, 1.60585]  in interval = 1\n",
      "\n",
      "NeymanConstruction: Prog: 22/100 total MC = 80 this test stat = 0.0463567\n",
      " mu=3.225 [-1e+30, 2.10098]  in interval = 1\n",
      "\n",
      "NeymanConstruction: Prog: 23/100 total MC = 80 this test stat = 0.0296823\n",
      " mu=3.375 [-1e+30, 1.96524]  in interval = 1\n",
      "\n",
      "NeymanConstruction: Prog: 24/100 total MC = 80 this test stat = 0.0168841\n",
      " mu=3.525 [-1e+30, 1.97094]  in interval = 1\n",
      "\n",
      "NeymanConstruction: Prog: 25/100 total MC = 80 this test stat = 0.00778646\n",
      " mu=3.675 [-1e+30, 2.07549]  in interval = 1\n",
      "\n",
      "NeymanConstruction: Prog: 26/100 total MC = 80 this test stat = 0.00222463\n",
      " mu=3.825 [-1e+30, 1.59677]  in interval = 1\n",
      "\n",
      "NeymanConstruction: Prog: 27/100 total MC = 80 this test stat = 4.47494e-05\n",
      " mu=3.975 [-1e+30, 2.06902]  in interval = 1\n",
      "\n",
      "NeymanConstruction: Prog: 28/100 total MC = 80 this test stat = 0.00110295\n",
      " mu=4.125 [-1e+30, 2.39501]  in interval = 1\n",
      "\n",
      "NeymanConstruction: Prog: 29/100 total MC = 80 this test stat = 0.00526396\n",
      " mu=4.275 [-1e+30, 1.6175]  in interval = 1\n",
      "\n",
      "NeymanConstruction: Prog: 30/100 total MC = 80 this test stat = 0.0123995\n",
      " mu=4.425 [-1e+30, 1.70627]  in interval = 1\n",
      "\n",
      "NeymanConstruction: Prog: 31/100 total MC = 80 this test stat = 0.0223862\n",
      " mu=4.575 [-1e+30, 1.79627]  in interval = 1\n",
      "\n",
      "NeymanConstruction: Prog: 32/100 total MC = 80 this test stat = 0.0351383\n",
      " mu=4.725 [-1e+30, 2.04934]  in interval = 1\n",
      "\n",
      "NeymanConstruction: Prog: 33/100 total MC = 80 this test stat = 0.0505187\n",
      " mu=4.875 [-1e+30, 2.94484]  in interval = 1\n",
      "\n",
      "NeymanConstruction: Prog: 34/100 total MC = 80 this test stat = 0.0684391\n",
      " mu=5.025 [-1e+30, 3.0571]  in interval = 1\n",
      "\n",
      "NeymanConstruction: Prog: 35/100 total MC = 80 this test stat = 0.0888053\n",
      " mu=5.175 [-1e+30, 2.27954]  in interval = 1\n",
      "\n",
      "NeymanConstruction: Prog: 36/100 total MC = 80 this test stat = 0.11153\n",
      " mu=5.325 [-1e+30, 2.26305]  in interval = 1\n",
      "\n",
      "NeymanConstruction: Prog: 37/100 total MC = 80 this test stat = 0.136526\n",
      " mu=5.475 [-1e+30, 2.03894]  in interval = 1\n",
      "\n",
      "NeymanConstruction: Prog: 38/100 total MC = 80 this test stat = 0.163716\n",
      " mu=5.625 [-1e+30, 1.55152]  in interval = 1\n",
      "\n",
      "NeymanConstruction: Prog: 39/100 total MC = 80 this test stat = 0.193024\n",
      " mu=5.775 [-1e+30, 1.81715]  in interval = 1\n",
      "\n",
      "NeymanConstruction: Prog: 40/100 total MC = 80 this test stat = 0.224377\n",
      " mu=5.925 [-1e+30, 1.71475]  in interval = 1\n",
      "\n",
      "NeymanConstruction: Prog: 41/100 total MC = 80 this test stat = 0.257707\n",
      " mu=6.075 [-1e+30, 2.75427]  in interval = 1\n",
      "\n",
      "NeymanConstruction: Prog: 42/100 total MC = 80 this test stat = 0.292951\n",
      " mu=6.225 [-1e+30, 2.03573]  in interval = 1\n",
      "\n",
      "NeymanConstruction: Prog: 43/100 total MC = 80 this test stat = 0.330045\n",
      " mu=6.375 [-1e+30, 1.92767]  in interval = 1\n",
      "\n",
      "NeymanConstruction: Prog: 44/100 total MC = 80 this test stat = 0.368932\n",
      " mu=6.525 [-1e+30, 2.0545]  in interval = 1\n",
      "\n",
      "NeymanConstruction: Prog: 45/100 total MC = 80 this test stat = 0.409554\n",
      " mu=6.675 [-1e+30, 2.142]  in interval = 1\n",
      "\n",
      "NeymanConstruction: Prog: 46/100 total MC = 80 this test stat = 0.45186\n",
      " mu=6.825 [-1e+30, 2.72294]  in interval = 1\n",
      "\n",
      "NeymanConstruction: Prog: 47/100 total MC = 80 this test stat = 0.495797\n",
      " mu=6.975 [-1e+30, 2.03823]  in interval = 1\n",
      "\n",
      "NeymanConstruction: Prog: 48/100 total MC = 80 this test stat = 0.541318\n",
      " mu=7.125 [-1e+30, 2.41015]  in interval = 1\n",
      "\n",
      "NeymanConstruction: Prog: 49/100 total MC = 80 this test stat = 0.588375\n",
      " mu=7.275 [-1e+30, 1.83449]  in interval = 1\n",
      "\n",
      "NeymanConstruction: Prog: 50/100 total MC = 80 this test stat = 0.636924\n",
      " mu=7.425 [-1e+30, 2.80213]  in interval = 1\n",
      "\n",
      "NeymanConstruction: Prog: 51/100 total MC = 80 this test stat = 0.686922\n",
      " mu=7.575 [-1e+30, 1.82973]  in interval = 1\n",
      "\n",
      "NeymanConstruction: Prog: 52/100 total MC = 80 this test stat = 0.738329\n",
      " mu=7.725 [-1e+30, 1.9093]  in interval = 1\n",
      "\n",
      "NeymanConstruction: Prog: 53/100 total MC = 80 this test stat = 0.791105\n",
      " mu=7.875 [-1e+30, 1.98986]  in interval = 1\n",
      "\n",
      "NeymanConstruction: Prog: 54/100 total MC = 80 this test stat = 0.845213\n",
      " mu=8.025 [-1e+30, 2.81879]  in interval = 1\n",
      "\n",
      "NeymanConstruction: Prog: 55/100 total MC = 80 this test stat = 0.900613\n",
      " mu=8.175 [-1e+30, 2.23216]  in interval = 1\n",
      "\n",
      "NeymanConstruction: Prog: 56/100 total MC = 80 this test stat = 0.957282\n",
      " mu=8.325 [-1e+30, 1.51348]  in interval = 1\n",
      "\n",
      "NeymanConstruction: Prog: 57/100 total MC = 80 this test stat = 1.01518\n",
      " mu=8.475 [-1e+30, 2.32134]  in interval = 1\n",
      "\n",
      "NeymanConstruction: Prog: 58/100 total MC = 80 this test stat = 1.07427\n",
      " mu=8.625 [-1e+30, 4.56136]  in interval = 1\n",
      "\n",
      "NeymanConstruction: Prog: 59/100 total MC = 80 this test stat = 1.13452\n",
      " mu=8.775 [-1e+30, 1.83847]  in interval = 1\n",
      "\n",
      "NeymanConstruction: Prog: 60/100 total MC = 80 this test stat = 1.19591\n",
      " mu=8.925 [-1e+30, 1.80373]  in interval = 1\n",
      "\n",
      "NeymanConstruction: Prog: 61/100 total MC = 80 this test stat = 1.25841\n",
      " mu=9.075 [-1e+30, 2.45893]  in interval = 1\n",
      "\n",
      "NeymanConstruction: Prog: 62/100 total MC = 80 this test stat = 1.32199\n",
      " mu=9.225 [-1e+30, 1.95466]  in interval = 1\n",
      "\n",
      "NeymanConstruction: Prog: 63/100 total MC = 80 this test stat = 1.38662\n",
      " mu=9.375 [-1e+30, 2.24356]  in interval = 1\n",
      "\n",
      "NeymanConstruction: Prog: 64/100 total MC = 80 this test stat = 1.45228\n",
      " mu=9.525 [-1e+30, 2.50319]  in interval = 1\n",
      "\n",
      "NeymanConstruction: Prog: 65/100 total MC = 80 this test stat = 1.51895\n",
      " mu=9.675 [-1e+30, 3.02403]  in interval = 1\n",
      "\n",
      "NeymanConstruction: Prog: 66/100 total MC = 240 this test stat = 1.5866\n",
      " mu=9.825 [-1e+30, 1.60451]  in interval = 1\n",
      "\n",
      "NeymanConstruction: Prog: 67/100 total MC = 80 this test stat = 1.6552\n",
      " mu=9.975 [-1e+30, 3.20706]  in interval = 1\n",
      "\n",
      "NeymanConstruction: Prog: 68/100 total MC = 80 this test stat = 1.72474\n",
      " mu=10.125 [-1e+30, 2.42844]  in interval = 1\n",
      "\n",
      "[#0] PROGRESS:Generation -- generated toys: 500 / 1440\n",
      "[#0] PROGRESS:Generation -- generated toys: 1000 / 1440\n",
      "NeymanConstruction: Prog: 69/100 total MC = 2160 this test stat = 1.79519\n",
      " mu=10.275 [-1e+30, 1.79519]  in interval = 1\n",
      "\n",
      "NeymanConstruction: Prog: 70/100 total MC = 240 this test stat = 1.86654\n",
      " mu=10.425 [-1e+30, 1.86654]  in interval = 1\n",
      "\n",
      "NeymanConstruction: Prog: 71/100 total MC = 80 this test stat = 1.93876\n",
      " mu=10.575 [-1e+30, 2.67618]  in interval = 1\n",
      "\n",
      "NeymanConstruction: Prog: 72/100 total MC = 80 this test stat = 2.01184\n",
      " mu=10.725 [-1e+30, 1.40678]  in interval = 0\n",
      "\n",
      "NeymanConstruction: Prog: 73/100 total MC = 80 this test stat = 2.08575\n",
      " mu=10.875 [-1e+30, 1.86151]  in interval = 0\n",
      "\n",
      "NeymanConstruction: Prog: 74/100 total MC = 240 this test stat = 2.16048\n",
      " mu=11.025 [-1e+30, 1.7642]  in interval = 0\n",
      "\n",
      "NeymanConstruction: Prog: 75/100 total MC = 80 this test stat = 2.23601\n",
      " mu=11.175 [-1e+30, 1.59869]  in interval = 0\n",
      "\n",
      "NeymanConstruction: Prog: 76/100 total MC = 240 this test stat = 2.31232\n",
      " mu=11.325 [-1e+30, 1.66448]  in interval = 0\n",
      "\n",
      "NeymanConstruction: Prog: 77/100 total MC = 80 this test stat = 2.38941\n",
      " mu=11.475 [-1e+30, 1.26987]  in interval = 0\n",
      "\n",
      "NeymanConstruction: Prog: 78/100 total MC = 240 this test stat = 2.46724\n",
      " mu=11.625 [-1e+30, 1.40071]  in interval = 0\n",
      "\n",
      "NeymanConstruction: Prog: 79/100 total MC = 80 this test stat = 2.54582\n",
      " mu=11.775 [-1e+30, 1.86704]  in interval = 0\n",
      "\n",
      "NeymanConstruction: Prog: 80/100 total MC = 80 this test stat = 2.62511\n",
      " mu=11.925 [-1e+30, 1.93623]  in interval = 0\n",
      "\n",
      "NeymanConstruction: Prog: 81/100 total MC = 80 this test stat = 2.70511\n",
      " mu=12.075 [-1e+30, 1.43268]  in interval = 0\n",
      "\n",
      "NeymanConstruction: Prog: 82/100 total MC = 240 this test stat = 2.7858\n",
      " mu=12.225 [-1e+30, 1.49357]  in interval = 0\n",
      "\n",
      "NeymanConstruction: Prog: 83/100 total MC = 80 this test stat = 2.86717\n",
      " mu=12.375 [-1e+30, 1.55534]  in interval = 0\n",
      "\n",
      "NeymanConstruction: Prog: 84/100 total MC = 80 this test stat = 2.94921\n",
      " mu=12.525 [-1e+30, 1.12633]  in interval = 0\n",
      "\n",
      "NeymanConstruction: Prog: 85/100 total MC = 80 this test stat = 3.0319\n",
      " mu=12.675 [-1e+30, 2.29398]  in interval = 0\n",
      "\n",
      "NeymanConstruction: Prog: 86/100 total MC = 80 this test stat = 3.11523\n",
      " mu=12.825 [-1e+30, 1.7457]  in interval = 0\n",
      "\n",
      "NeymanConstruction: Prog: 87/100 total MC = 80 this test stat = 3.1992\n",
      " mu=12.975 [-1e+30, 1.8108]  in interval = 0\n",
      "\n",
      "NeymanConstruction: Prog: 88/100 total MC = 80 this test stat = 3.28378\n",
      " mu=13.125 [-1e+30, 2.51757]  in interval = 0\n",
      "\n",
      "NeymanConstruction: Prog: 89/100 total MC = 240 this test stat = 3.36896\n",
      " mu=13.275 [-1e+30, 1.40455]  in interval = 0\n",
      "\n",
      "NeymanConstruction: Prog: 90/100 total MC = 80 this test stat = 3.45474\n",
      " mu=13.425 [-1e+30, 2.01076]  in interval = 0\n",
      "\n",
      "NeymanConstruction: Prog: 91/100 total MC = 240 this test stat = 3.5411\n",
      " mu=13.575 [-1e+30, 2.07896]  in interval = 0\n",
      "\n",
      "NeymanConstruction: Prog: 92/100 total MC = 80 this test stat = 3.62804\n",
      " mu=13.725 [-1e+30, 2.14788]  in interval = 0\n",
      "\n",
      "NeymanConstruction: Prog: 93/100 total MC = 80 this test stat = 3.71554\n",
      " mu=13.875 [-1e+30, 1.16768]  in interval = 0\n",
      "\n",
      "NeymanConstruction: Prog: 94/100 total MC = 80 this test stat = 3.80359\n",
      " mu=14.025 [-1e+30, 1.70402]  in interval = 0\n",
      "\n",
      "NeymanConstruction: Prog: 95/100 total MC = 240 this test stat = 3.89219\n",
      " mu=14.175 [-1e+30, 1.7663]  in interval = 0\n",
      "\n",
      "NeymanConstruction: Prog: 96/100 total MC = 240 this test stat = 3.98132\n",
      " mu=14.325 [-1e+30, 1.32819]  in interval = 0\n",
      "\n",
      "NeymanConstruction: Prog: 97/100 total MC = 80 this test stat = 4.07097\n",
      " mu=14.475 [-1e+30, 1.38336]  in interval = 0\n",
      "\n",
      "NeymanConstruction: Prog: 98/100 total MC = 80 this test stat = 4.16114\n",
      " mu=14.625 [-1e+30, 1.43935]  in interval = 0\n",
      "\n",
      "NeymanConstruction: Prog: 99/100 total MC = 240 this test stat = 4.25182\n",
      " mu=14.775 [-1e+30, 1.49612]  in interval = 0\n",
      "\n",
      "NeymanConstruction: Prog: 100/100 total MC = 240 this test stat = 4.343\n",
      " mu=14.925 [-1e+30, 2.08888]  in interval = 0\n",
      "\n",
      "[#1] INFO:Eval -- 68 points in interval\n"
     ]
    }
   ],
   "source": [
    "PointSetInterval *interval = (PointSetInterval *)fc.GetInterval();"
   ]
  },
  {
   "cell_type": "markdown",
   "metadata": {},
   "source": [
    "Make a canvas for plots"
   ]
  },
  {
   "cell_type": "code",
   "execution_count": 8,
   "metadata": {
    "collapsed": false
   },
   "outputs": [
    {
     "name": "stdout",
     "output_type": "stream",
     "text": [
      "is this point in the interval? 0\n",
      "interval is [0.525, 10.575]\n"
     ]
    }
   ],
   "source": [
    "TCanvas *intervalCanvas = new TCanvas(\"intervalCanvas\");\n",
    "\n",
    "std::cout << \"is this point in the interval? \" << interval->IsInInterval(parameters) << std::endl;\n",
    "\n",
    "std::cout << \"interval is [\" << interval->LowerLimit(mu) << \", \" << interval->UpperLimit(mu) << \"]\" << endl;"
   ]
  },
  {
   "cell_type": "markdown",
   "metadata": {},
   "source": [
    "Using 200 bins it takes 1 min and the answer is\n",
    " interval is [0.2625, 10.6125] with a step size of .075\n",
    " The interval in Feldman & Cousins's original paper is [.29, 10.81]\n",
    "  Phys.Rev.D57:3873-3889,1998."
   ]
  },
  {
   "cell_type": "markdown",
   "metadata": {},
   "source": [
    "No dedicated plotting class yet, so do it by hand:"
   ]
  },
  {
   "cell_type": "code",
   "execution_count": 9,
   "metadata": {
    "collapsed": false
   },
   "outputs": [],
   "source": [
    "RooDataHist *parameterScan = (RooDataHist *)fc.GetPointsToScan();\n",
    "TH1F *hist = (TH1F *)parameterScan->createHistogram(\"mu\", 30);\n",
    "hist->Draw();\n",
    "\n",
    "RooArgSet *tmpPoint;"
   ]
  },
  {
   "cell_type": "markdown",
   "metadata": {},
   "source": [
    "Loop over points to test"
   ]
  },
  {
   "cell_type": "code",
   "execution_count": 10,
   "metadata": {
    "collapsed": false
   },
   "outputs": [
    {
     "name": "stdout",
     "output_type": "stream",
     "text": [
      "Real time 0:00:04, CP time 3.440\n"
     ]
    }
   ],
   "source": [
    "for (Int_t i = 0; i < parameterScan->numEntries(); ++i) {\n",
    "   //    cout << \"on parameter point \" << i << \" out of \" << parameterScan->numEntries() << endl;\n",
    "   // get a parameter point from the list of points to test.\n",
    "   tmpPoint = (RooArgSet *)parameterScan->get(i)->clone(\"temp\");\n",
    "\n",
    "   TMarker *mark = new TMarker(tmpPoint->getRealValue(\"mu\"), 1, 25);\n",
    "   if (interval->IsInInterval(*tmpPoint))\n",
    "      mark->SetMarkerColor(kBlue);\n",
    "   else\n",
    "      mark->SetMarkerColor(kRed);\n",
    "\n",
    "   mark->Draw(\"s\");\n",
    "   // delete tmpPoint;\n",
    "   //    delete mark;\n",
    "}\n",
    "t.Stop();\n",
    "t.Print();"
   ]
  },
  {
   "cell_type": "markdown",
   "metadata": {},
   "source": [
    "Draw all canvases "
   ]
  },
  {
   "cell_type": "code",
   "execution_count": 11,
   "metadata": {
    "collapsed": false
   },
   "outputs": [
    {
     "data": {
      "image/png": "[encoded data removed]",
      "text/plain": [
       "<IPython.core.display.Image object>"
      ]
     },
     "metadata": {},
     "output_type": "display_data"
    },
    {
     "data": {
      "image/png": "[encoded data removed]",
      "text/plain": [
       "<IPython.core.display.Image object>"
      ]
     },
     "metadata": {},
     "output_type": "display_data"
    }
   ],
   "source": [
    "gROOT->GetListOfCanvases()->Draw()"
   ]
  }
 ],
 "metadata": {
  "kernelspec": {
   "display_name": "ROOT C++",
   "language": "c++",
   "name": "root"
  },
  "language_info": {
   "codemirror_mode": "text/x-c++src",
   "file_extension": ".C",
   "mimetype": " text/x-c++src",
   "name": "c++"
  }
 },
 "nbformat": 4,
 "nbformat_minor": 2
}
