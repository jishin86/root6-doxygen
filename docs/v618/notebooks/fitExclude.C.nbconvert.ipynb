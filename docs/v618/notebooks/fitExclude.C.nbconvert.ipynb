{
 "cells": [
  {
   "cell_type": "markdown",
   "metadata": {},
   "source": [
    "# Fit Exclude\n",
    "Illustrates how to fit excluding points in a given range.\n",
    "\n",
    "\n",
    "\n",
    "\n",
    "**Author:** Rene Brun  \n",
    "<i><small>This notebook tutorial was automatically generated with <a href= \"https://github.com/root-project/root/blob/master/documentation/doxygen/converttonotebook.py\">ROOTBOOK-izer</a> from the macro found in the ROOT repository  on Thursday, August 29, 2019 at 01:29 AM.</small></i>"
   ]
  },
  {
   "cell_type": "code",
   "execution_count": 1,
   "metadata": {
    "collapsed": false
   },
   "outputs": [],
   "source": [
    "%%cpp -d\n",
    "#include \"TH1.h\"\n",
    "#include \"TF1.h\"\n",
    "#include \"TList.h\"\n",
    "\n",
    "Bool_t reject;"
   ]
  },
  {
   "cell_type": "markdown",
   "metadata": {},
   "source": [
    " A helper function is created: "
   ]
  },
  {
   "cell_type": "code",
   "execution_count": 2,
   "metadata": {
    "collapsed": false
   },
   "outputs": [],
   "source": [
    "%%cpp -d\n",
    "Double_t fline(Double_t *x, Double_t *par)\n",
    "{\n",
    "    if (reject && x[0] > 2.5 && x[0] < 3.5) {\n",
    "      TF1::RejectPoint();\n",
    "      return 0;\n",
    "   }\n",
    "   return par[0] + par[1]*x[0];\n",
    "}"
   ]
  },
  {
   "cell_type": "markdown",
   "metadata": {},
   "source": [
    "Create a source function"
   ]
  },
  {
   "cell_type": "code",
   "execution_count": 3,
   "metadata": {
    "collapsed": false
   },
   "outputs": [],
   "source": [
    "TF1 *f1 = new TF1(\"f1\",\"[0] +[1]*x +gaus(2)\",0,5);\n",
    "f1->SetParameters(6,-1,5,3,0.2);"
   ]
  },
  {
   "cell_type": "markdown",
   "metadata": {},
   "source": [
    "Create and fill histogram according to the source function"
   ]
  },
  {
   "cell_type": "code",
   "execution_count": 4,
   "metadata": {
    "collapsed": false
   },
   "outputs": [],
   "source": [
    "TH1F *h = new TH1F(\"h\",\"background + signal\",100,0,5);\n",
    "h->FillRandom(\"f1\",2000);\n",
    "TF1 *fl = new TF1(\"fl\",fline,0,5,2);\n",
    "fl->SetParameters(2,-1);"
   ]
  },
  {
   "cell_type": "markdown",
   "metadata": {},
   "source": [
    "Fit only the linear background excluding the signal area"
   ]
  },
  {
   "cell_type": "code",
   "execution_count": 5,
   "metadata": {
    "collapsed": false
   },
   "outputs": [
    {
     "name": "stdout",
     "output_type": "stream",
     "text": [
      " FCN=84.1529 FROM MIGRAD    STATUS=CONVERGED      31 CALLS          32 TOTAL\n",
      "                     EDM=4.69843e-21    STRATEGY= 1      ERROR MATRIX ACCURATE \n",
      "  EXT PARAMETER                                   STEP         FIRST   \n",
      "  NO.   NAME      VALUE            ERROR          SIZE      DERIVATIVE \n",
      "   1  p0           2.84731e+01   9.46564e-01   1.81058e-03  -2.35464e-10\n",
      "   2  p1          -4.81581e+00   2.65330e-01   5.07521e-04  -8.40016e-10\n"
     ]
    }
   ],
   "source": [
    "reject = kTRUE;\n",
    "h->Fit(fl,\"0\");\n",
    "reject = kFALSE;"
   ]
  },
  {
   "cell_type": "markdown",
   "metadata": {},
   "source": [
    "Store 2 separate functions for visualization"
   ]
  },
  {
   "cell_type": "code",
   "execution_count": 6,
   "metadata": {
    "collapsed": false
   },
   "outputs": [
    {
     "name": "stderr",
     "output_type": "stream",
     "text": [
      "Info in <TCanvas::MakeDefCanvas>:  created default TCanvas with name c1\n"
     ]
    }
   ],
   "source": [
    "TF1 *fleft = new TF1(\"fleft\",fline,0,2.5,2);\n",
    "fleft->SetParameters(fl->GetParameters());\n",
    "h->GetListOfFunctions()->Add(fleft);\n",
    "gROOT->GetListOfFunctions()->Remove(fleft);\n",
    "TF1 *fright = new TF1(\"fright\",fline,3.5,5,2);\n",
    "fright->SetParameters(fl->GetParameters());\n",
    "h->GetListOfFunctions()->Add(fright);\n",
    "gROOT->GetListOfFunctions()->Remove(fright);\n",
    "h->Draw();"
   ]
  },
  {
   "cell_type": "markdown",
   "metadata": {},
   "source": [
    "Draw all canvases "
   ]
  },
  {
   "cell_type": "code",
   "execution_count": 7,
   "metadata": {
    "collapsed": false
   },
   "outputs": [
    {
     "data": {
      "text/html": [
       "\n",
       "<div id=\"root_plot_1\"\n",
       "     style=\"width: 696px; height: 472px\">\n",
       "</div>\n",
       "\n",
       "<script>\n",
       " requirejs.config({\n",
       "     paths: {\n",
       "       'JSRootCore' : 'https://root.cern.ch/js/notebook//scripts/JSRootCore',\n",
       "     }\n",
       "   });\n",
       " require(['JSRootCore'],\n",
       "     function(Core) {\n",
       "       var obj = Core.JSONR_unref({\"_typename\":\"TCanvas\",\"fUniqueID\":0,\"fBits\":53673992,\"fLineColor\":1,\"fLineStyle\":1,\"fLineWidth\":1,\"fFillColor\":0,\"fFillStyle\":1001,\"fLeftMargin\":0.1,\"fRightMargin\":0.1,\"fBottomMargin\":0.1,\"fTopMargin\":0.1,\"fXfile\":2,\"fYfile\":2,\"fAfile\":1,\"fXstat\":0.99,\"fYstat\":0.99,\"fAstat\":2,\"fFrameFillColor\":0,\"fFrameLineColor\":1,\"fFrameFillStyle\":1001,\"fFrameLineStyle\":1,\"fFrameLineWidth\":1,\"fFrameBorderSize\":1,\"fFrameBorderMode\":0,\"fX1\":-0.625000046566132,\"fY1\":-5.07593794151678,\"fX2\":5.62500004656613,\"fY2\":54.1834379415168,\"fXtoAbsPixelk\":69.6000541484835,\"fXtoPixelk\":69.6000541484835,\"fXtoPixel\":111.359998340607,\"fYtoAbsPixelk\":431.570283862658,\"fYtoPixelk\":431.570283862658,\"fYtoPixel\":-7.96498432470224,\"fUtoAbsPixelk\":5e-5,\"fUtoPixelk\":5e-5,\"fUtoPixel\":696,\"fVtoAbsPixelk\":472.00005,\"fVtoPixelk\":472,\"fVtoPixel\":-472,\"fAbsPixeltoXk\":-0.625000046566132,\"fPixeltoXk\":-0.625000046566132,\"fPixeltoX\":0.00897988519128199,\"fAbsPixeltoYk\":54.1834379415168,\"fPixeltoYk\":-5.07593794151678,\"fPixeltoY\":-0.125549525175919,\"fXlowNDC\":0,\"fYlowNDC\":0,\"fXUpNDC\":0,\"fYUpNDC\":0,\"fWNDC\":1,\"fHNDC\":1,\"fAbsXlowNDC\":0,\"fAbsYlowNDC\":0,\"fAbsWNDC\":1,\"fAbsHNDC\":1,\"fUxmin\":0,\"fUymin\":0.85,\"fUxmax\":5,\"fUymax\":48.2575,\"fTheta\":30,\"fPhi\":30,\"fAspectRatio\":0,\"fNumber\":0,\"fTickx\":0,\"fTicky\":0,\"fLogx\":0,\"fLogy\":0,\"fLogz\":0,\"fPadPaint\":0,\"fCrosshair\":0,\"fCrosshairPos\":0,\"fBorderSize\":2,\"fBorderMode\":0,\"fModified\":false,\"fGridx\":false,\"fGridy\":false,\"fAbsCoord\":false,\"fEditable\":true,\"fFixedAspectRatio\":false,\"fPrimitives\":{\"_typename\":\"TList\",\"name\":\"TList\",\"arr\":[{\"_typename\":\"TFrame\",\"fUniqueID\":0,\"fBits\":50331656,\"fLineColor\":1,\"fLineStyle\":1,\"fLineWidth\":1,\"fFillColor\":0,\"fFillStyle\":1001,\"fX1\":0,\"fY1\":0.85,\"fX2\":5,\"fY2\":48.2575,\"fBorderSize\":1,\"fBorderMode\":0},{\"_typename\":\"TH1F\",\"fUniqueID\":0,\"fBits\":50331656,\"fName\":\"h\",\"fTitle\":\"background + signal\",\"fLineColor\":602,\"fLineStyle\":1,\"fLineWidth\":1,\"fFillColor\":0,\"fFillStyle\":1001,\"fMarkerColor\":1,\"fMarkerStyle\":1,\"fMarkerSize\":1,\"fNcells\":102,\"fXaxis\":{\"_typename\":\"TAxis\",\"fUniqueID\":0,\"fBits\":50331648,\"fName\":\"xaxis\",\"fTitle\":\"\",\"fNdivisions\":510,\"fAxisColor\":1,\"fLabelColor\":1,\"fLabelFont\":42,\"fLabelOffset\":0.005,\"fLabelSize\":0.035,\"fTickLength\":0.03,\"fTitleOffset\":1,\"fTitleSize\":0.035,\"fTitleColor\":1,\"fTitleFont\":42,\"fNbins\":100,\"fXmin\":0,\"fXmax\":5,\"fXbins\":[],\"fFirst\":0,\"fLast\":0,\"fBits2\":0,\"fTimeDisplay\":false,\"fTimeFormat\":\"\",\"fLabels\":null,\"fModLabs\":null},\"fYaxis\":{\"_typename\":\"TAxis\",\"fUniqueID\":0,\"fBits\":50331648,\"fName\":\"yaxis\",\"fTitle\":\"\",\"fNdivisions\":510,\"fAxisColor\":1,\"fLabelColor\":1,\"fLabelFont\":42,\"fLabelOffset\":0.005,\"fLabelSize\":0.035,\"fTickLength\":0.03,\"fTitleOffset\":0,\"fTitleSize\":0.035,\"fTitleColor\":1,\"fTitleFont\":42,\"fNbins\":1,\"fXmin\":0,\"fXmax\":1,\"fXbins\":[],\"fFirst\":0,\"fLast\":0,\"fBits2\":0,\"fTimeDisplay\":false,\"fTimeFormat\":\"\",\"fLabels\":null,\"fModLabs\":null},\"fZaxis\":{\"_typename\":\"TAxis\",\"fUniqueID\":0,\"fBits\":50331648,\"fName\":\"zaxis\",\"fTitle\":\"\",\"fNdivisions\":510,\"fAxisColor\":1,\"fLabelColor\":1,\"fLabelFont\":42,\"fLabelOffset\":0.005,\"fLabelSize\":0.035,\"fTickLength\":0.03,\"fTitleOffset\":1,\"fTitleSize\":0.035,\"fTitleColor\":1,\"fTitleFont\":42,\"fNbins\":1,\"fXmin\":0,\"fXmax\":1,\"fXbins\":[],\"fFirst\":0,\"fLast\":0,\"fBits2\":0,\"fTimeDisplay\":false,\"fTimeFormat\":\"\",\"fLabels\":null,\"fModLabs\":null},\"fBarOffset\":0,\"fBarWidth\":1000,\"fEntries\":2000,\"fTsumw\":2000,\"fTsumw2\":2000,\"fTsumwx\":4092.71093557825,\"fTsumwx2\":11693.5877955462,\"fMaximum\":-1111,\"fMinimum\":-1111,\"fNormFactor\":0,\"fContour\":[],\"fSumw2\":[],\"fOption\":\"\",\"fFunctions\":{\"_typename\":\"TList\",\"name\":\"TList\",\"arr\":[{\"_typename\":\"TF1\",\"fUniqueID\":0,\"fBits\":50333184,\"fName\":\"fl\",\"fTitle\":\"fl\",\"fLineColor\":2,\"fLineStyle\":1,\"fLineWidth\":2,\"fFillColor\":19,\"fFillStyle\":0,\"fMarkerColor\":1,\"fMarkerStyle\":1,\"fMarkerSize\":1,\"fXmin\":0,\"fXmax\":5,\"fNpar\":2,\"fNdim\":1,\"fNpx\":100,\"fType\":1,\"fNpfits\":80,\"fNDF\":78,\"fChisquare\":84.1529373781913,\"fMinimum\":-1111,\"fMaximum\":-1111,\"fParErrors\":[0.946564002212084,0.265329994710363],\"fParMin\":[0,0],\"fParMax\":[0,0],\"fSave\":[28.4731292043331,28.2323388691421,27.991548533951,27.7507581987599,27.5099678635689,27.2691775283778,27.0283871931867,26.7875968579957,26.5468065228046,26.3060161876135,26.0652258524225,25.8244355172314,25.5836451820403,25.3428548468493,25.1020645116582,24.8612741764671,24.6204838412761,24.379693506085,24.1389031708939,23.8981128357029,23.6573225005118,23.4165321653207,23.1757418301297,22.9349514949386,22.6941611597475,22.4533708245565,22.2125804893654,21.9717901541743,21.7309998189833,21.4902094837922,21.2494191486011,21.0086288134101,20.767838478219,20.5270481430279,20.2862578078369,20.0454674726458,19.8046771374547,19.5638868022637,19.3230964670726,19.0823061318815,18.8415157966905,18.6007254614994,18.3599351263083,18.1191447911173,17.8783544559262,17.6375641207351,17.3967737855441,17.155983450353,16.9151931151619,16.6744027799709,16.4336124447798,0,0,0,0,0,0,0,0,0,0,0,0,0,0,0,0,0,0,0,11.6178057409585,11.3770154057674,11.1362250705763,10.8954347353853,10.6546444001942,10.4138540650031,10.1730637298121,9.93227339462101,9.69148305942994,9.45069272423887,9.20990238904781,8.96911205385674,8.72832171866567,8.48753138347461,8.24674104828354,8.00595071309247,7.76516037790141,7.52437004271034,7.28357970751927,7.04278937232821,6.80199903713714,6.56120870194608,6.32041836675501,6.07962803156394,5.83883769637287,5.59804736118181,5.35725702599074,5.11646669079967,4.8756763556086,4.63488602041754,4.39409568522647,0,5],\"fNormalized\":false,\"fNormIntegral\":0,\"fFormula\":null,\"fParams\":{\"_typename\":\"TF1Parameters\",\"fParameters\":[28.4731292043331,-4.81580670382133],\"fParNames\":[\"p0\",\"p1\"]},\"fComposition_ptr\":null},{\"_typename\":\"TF1\",\"fUniqueID\":0,\"fBits\":50331648,\"fName\":\"fleft\",\"fTitle\":\"fleft\",\"fLineColor\":2,\"fLineStyle\":1,\"fLineWidth\":2,\"fFillColor\":19,\"fFillStyle\":0,\"fMarkerColor\":1,\"fMarkerStyle\":1,\"fMarkerSize\":1,\"fXmin\":0,\"fXmax\":2.5,\"fNpar\":2,\"fNdim\":1,\"fNpx\":100,\"fType\":1,\"fNpfits\":0,\"fNDF\":0,\"fChisquare\":0,\"fMinimum\":-1111,\"fMaximum\":-1111,\"fParErrors\":[0,0],\"fParMin\":[0,0],\"fParMax\":[0,0],\"fSave\":[28.4731292043331,28.3527340367376,28.2323388691421,28.1119437015465,27.991548533951,27.8711533663555,27.7507581987599,27.6303630311644,27.5099678635689,27.3895726959733,27.2691775283778,27.1487823607823,27.0283871931867,26.9079920255912,26.7875968579957,26.6672016904001,26.5468065228046,26.4264113552091,26.3060161876135,26.185621020018,26.0652258524225,25.9448306848269,25.8244355172314,25.7040403496359,25.5836451820403,25.4632500144448,25.3428548468493,25.2224596792537,25.1020645116582,24.9816693440627,24.8612741764671,24.7408790088716,24.6204838412761,24.5000886736805,24.379693506085,24.2592983384895,24.1389031708939,24.0185080032984,23.8981128357029,23.7777176681073,23.6573225005118,23.5369273329163,23.4165321653207,23.2961369977252,23.1757418301297,23.0553466625341,22.9349514949386,22.8145563273431,22.6941611597475,22.573765992152,22.4533708245565,22.3329756569609,22.2125804893654,22.0921853217699,21.9717901541743,21.8513949865788,21.7309998189833,21.6106046513877,21.4902094837922,21.3698143161967,21.2494191486011,21.1290239810056,21.0086288134101,20.8882336458145,20.767838478219,20.6474433106235,20.5270481430279,20.4066529754324,20.2862578078369,20.1658626402413,20.0454674726458,19.9250723050503,19.8046771374547,19.6842819698592,19.5638868022637,19.4434916346681,19.3230964670726,19.2027012994771,19.0823061318815,18.961910964286,18.8415157966905,18.7211206290949,18.6007254614994,18.4803302939039,18.3599351263083,18.2395399587128,18.1191447911173,17.9987496235217,17.8783544559262,17.7579592883307,17.6375641207351,17.5171689531396,17.3967737855441,17.2763786179485,17.155983450353,17.0355882827575,16.9151931151619,16.7947979475664,16.6744027799709,16.5540076123753,16.4336124447798,0,2.5],\"fNormalized\":false,\"fNormIntegral\":0,\"fFormula\":null,\"fParams\":{\"_typename\":\"TF1Parameters\",\"fParameters\":[28.4731292043331,-4.81580670382133],\"fParNames\":[\"p0\",\"p1\"]},\"fComposition_ptr\":null},{\"_typename\":\"TF1\",\"fUniqueID\":0,\"fBits\":50331648,\"fName\":\"fright\",\"fTitle\":\"fright\",\"fLineColor\":2,\"fLineStyle\":1,\"fLineWidth\":2,\"fFillColor\":19,\"fFillStyle\":0,\"fMarkerColor\":1,\"fMarkerStyle\":1,\"fMarkerSize\":1,\"fXmin\":3.5,\"fXmax\":5,\"fNpar\":2,\"fNdim\":1,\"fNpx\":100,\"fType\":1,\"fNpfits\":0,\"fNDF\":0,\"fChisquare\":0,\"fMinimum\":-1111,\"fMaximum\":-1111,\"fParErrors\":[0,0],\"fParMin\":[0,0],\"fParMax\":[0,0],\"fSave\":[11.6178057409585,11.5455686404012,11.4733315398438,11.4010944392865,11.3288573387292,11.2566202381719,11.1843831376146,11.1121460370572,11.0399089364999,10.9676718359426,10.8954347353853,10.823197634828,10.7509605342706,10.6787234337133,10.606486333156,10.5342492325987,10.4620121320414,10.389775031484,10.3175379309267,10.2453008303694,10.1730637298121,10.1008266292548,10.0285895286974,9.95635242814012,9.8841153275828,9.81187822702547,9.73964112646815,9.66740402591084,9.59516692535352,9.52292982479619,9.45069272423887,9.37845562368156,9.30621852312424,9.23398142256692,9.1617443220096,9.08950722145227,9.01727012089496,8.94503302033764,8.87279591978031,8.800558819223,8.72832171866568,8.65608461810836,8.58384751755104,8.51161041699372,8.4393733164364,8.36713621587907,8.29489911532176,8.22266201476443,8.15042491420711,8.07818781364979,8.00595071309247,7.93371361253516,7.86147651197783,7.78923941142051,7.7170023108632,7.64476521030587,7.57252810974856,7.50029100919123,7.42805390863391,7.3558168080766,7.28357970751927,7.21134260696195,7.13910550640464,7.06686840584731,6.99463130529,6.92239420473268,6.85015710417535,6.77792000361804,6.70568290306072,6.6334458025034,6.56120870194608,6.48897160138876,6.41673450083143,6.34449740027411,6.2722602997168,6.20002319915947,6.12778609860215,6.05554899804483,5.98331189748751,5.91107479693019,5.83883769637287,5.76660059581555,5.69436349525823,5.62212639470091,5.5498892941436,5.47765219358627,5.40541509302895,5.33317799247164,5.26094089191431,5.18870379135699,5.11646669079968,5.04422959024235,4.97199248968504,4.89975538912772,4.82751828857039,4.75528118801308,4.68304408745576,4.61080698689844,4.53856988634112,4.46633278578379,4.39409568522647,3.5,5],\"fNormalized\":false,\"fNormIntegral\":0,\"fFormula\":null,\"fParams\":{\"_typename\":\"TF1Parameters\",\"fParameters\":[28.4731292043331,-4.81580670382133],\"fParNames\":[\"p0\",\"p1\"]},\"fComposition_ptr\":null},{\"_typename\":\"TPaveStats\",\"fUniqueID\":0,\"fBits\":50331657,\"fLineColor\":1,\"fLineStyle\":1,\"fLineWidth\":1,\"fFillColor\":0,\"fFillStyle\":1001,\"fX1\":4.25000012665987,\"fY1\":40.8500787210476,\"fX2\":5.50000016391278,\"fY2\":50.331578650405,\"fX1NDC\":0.780000016093254,\"fY1NDC\":0.775000005960464,\"fX2NDC\":0.980000019073486,\"fY2NDC\":0.935000002384186,\"fBorderSize\":1,\"fInit\":1,\"fShadowColor\":1,\"fCornerRadius\":0,\"fOption\":\"brNDC\",\"fName\":\"stats\",\"fTextAngle\":0,\"fTextSize\":0,\"fTextAlign\":12,\"fTextColor\":1,\"fTextFont\":42,\"fLabel\":\"\",\"fLongest\":18,\"fMargin\":0.05,\"fLines\":{\"_typename\":\"TList\",\"name\":\"TList\",\"arr\":[{\"_typename\":\"TLatex\",\"fUniqueID\":0,\"fBits\":50331648,\"fName\":\"\",\"fTitle\":\"h\",\"fTextAngle\":0,\"fTextSize\":0.0368,\"fTextAlign\":0,\"fTextColor\":0,\"fTextFont\":0,\"fX\":0,\"fY\":0,\"fLineColor\":1,\"fLineStyle\":1,\"fLineWidth\":2,\"fLimitFactorSize\":3,\"fOriginSize\":0.0368000008165836},{\"_typename\":\"TLatex\",\"fUniqueID\":0,\"fBits\":50331648,\"fName\":\"\",\"fTitle\":\"Entries = 2000   \",\"fTextAngle\":0,\"fTextSize\":0,\"fTextAlign\":0,\"fTextColor\":0,\"fTextFont\":0,\"fX\":0,\"fY\":0,\"fLineColor\":1,\"fLineStyle\":1,\"fLineWidth\":2,\"fLimitFactorSize\":3,\"fOriginSize\":0.04},{\"_typename\":\"TLatex\",\"fUniqueID\":0,\"fBits\":50331648,\"fName\":\"\",\"fTitle\":\"Mean  =  2.046\",\"fTextAngle\":0,\"fTextSize\":0,\"fTextAlign\":0,\"fTextColor\":0,\"fTextFont\":0,\"fX\":0,\"fY\":0,\"fLineColor\":1,\"fLineStyle\":1,\"fLineWidth\":2,\"fLimitFactorSize\":3,\"fOriginSize\":0.04},{\"_typename\":\"TLatex\",\"fUniqueID\":0,\"fBits\":50331648,\"fName\":\"\",\"fTitle\":\"Std Dev   =  1.288\",\"fTextAngle\":0,\"fTextSize\":0,\"fTextAlign\":0,\"fTextColor\":0,\"fTextFont\":0,\"fX\":0,\"fY\":0,\"fLineColor\":1,\"fLineStyle\":1,\"fLineWidth\":2,\"fLimitFactorSize\":3,\"fOriginSize\":0.04}],\"opt\":[\"\",\"\",\"\",\"\"]},\"fOptFit\":0,\"fOptStat\":1111,\"fFitFormat\":\"5.4g\",\"fStatFormat\":\"6.4g\",\"fParent\":{\"$ref\":3}}],\"opt\":[\"\",\"\",\"\",\"brNDC\"]},\"fBufferSize\":0,\"fBuffer\":[],\"fBinStatErrOpt\":0,\"fStatOverflows\":2,\"fArray\":[0,25,38,23,28,33,25,38,23,35,29,18,30,29,25,24,30,20,29,19,29,23,24,19,23,19,24,24,27,21,15,34,17,18,21,27,26,22,16,25,24,15,23,18,23,20,24,13,22,16,13,16,18,24,23,33,30,39,43,46,30,42,37,33,32,25,24,15,22,13,8,16,11,13,12,10,8,6,4,11,11,3,12,11,10,9,6,9,9,10,9,7,8,6,6,10,7,7,4,9,7,0]},{\"_typename\":\"TPaveText\",\"fUniqueID\":0,\"fBits\":50331657,\"fLineColor\":1,\"fLineStyle\":1,\"fLineWidth\":1,\"fFillColor\":0,\"fFillStyle\":0,\"fX1\":1.39134337428433,\"fY1\":50.2713150196059,\"fX2\":3.60865662571567,\"fY2\":53.8871413446723,\"fX1NDC\":0.322614942528736,\"fY1NDC\":0.933983055615829,\"fX2NDC\":0.677385057471264,\"fY2NDC\":0.995000004768372,\"fBorderSize\":0,\"fInit\":1,\"fShadowColor\":1,\"fCornerRadius\":0,\"fOption\":\"blNDC\",\"fName\":\"title\",\"fTextAngle\":0,\"fTextSize\":0,\"fTextAlign\":22,\"fTextColor\":1,\"fTextFont\":42,\"fLabel\":\"\",\"fLongest\":19,\"fMargin\":0.05,\"fLines\":{\"_typename\":\"TList\",\"name\":\"TList\",\"arr\":[{\"_typename\":\"TLatex\",\"fUniqueID\":0,\"fBits\":50331648,\"fName\":\"\",\"fTitle\":\"background + signal\",\"fTextAngle\":0,\"fTextSize\":0,\"fTextAlign\":0,\"fTextColor\":0,\"fTextFont\":0,\"fX\":0,\"fY\":0,\"fLineColor\":1,\"fLineStyle\":1,\"fLineWidth\":2,\"fLimitFactorSize\":3,\"fOriginSize\":0.0518644079566002}],\"opt\":[\"\"]}}],\"opt\":[\"\",\"\",\"blNDC\"]},\"fExecs\":null,\"fName\":\"c1\",\"fTitle\":\"c1\",\"fNumPaletteColor\":0,\"fNextPaletteColor\":0,\"fDISPLAY\":\"$DISPLAY\",\"fDoubleBuffer\":0,\"fRetained\":true,\"fXsizeUser\":0,\"fYsizeUser\":0,\"fXsizeReal\":20,\"fYsizeReal\":14.28571,\"fWindowTopX\":0,\"fWindowTopY\":0,\"fWindowWidth\":0,\"fWindowHeight\":0,\"fCw\":696,\"fCh\":472,\"fCatt\":{\"_typename\":\"TAttCanvas\",\"fXBetween\":2,\"fYBetween\":2,\"fTitleFromTop\":1.2,\"fXdate\":0.2,\"fYdate\":0.3,\"fAdate\":1},\"kMoveOpaque\":true,\"kResizeOpaque\":true,\"fHighLightColor\":2,\"fBatch\":true,\"kShowEventStatus\":false,\"kAutoExec\":true,\"kMenuBar\":true});\n",
       "       Core.draw(\"root_plot_1\", obj, \"\");\n",
       "     }\n",
       " );\n",
       "</script>\n"
      ],
      "text/plain": [
       "<IPython.core.display.HTML object>"
      ]
     },
     "metadata": {},
     "output_type": "display_data"
    }
   ],
   "source": [
    "%jsroot on\n",
    "gROOT->GetListOfCanvases()->Draw()"
   ]
  }
 ],
 "metadata": {
  "kernelspec": {
   "display_name": "ROOT C++",
   "language": "c++",
   "name": "root"
  },
  "language_info": {
   "codemirror_mode": "text/x-c++src",
   "file_extension": ".C",
   "mimetype": " text/x-c++src",
   "name": "c++"
  }
 },
 "nbformat": 4,
 "nbformat_minor": 2
}
