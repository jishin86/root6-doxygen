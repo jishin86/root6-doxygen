{
 "cells": [
  {
   "cell_type": "markdown",
   "metadata": {},
   "source": [
    "# Df 0 1 1_ R O O T Data Source\n",
    "This tutorial illustrates how use the RDataFrame in combination with a\n",
    "RDataSource. In this case we use a RRootDS. This data source allows to read\n",
    "a ROOT dataset from a RDataFrame in a different way, not based on the\n",
    "regular RDataFrame code. This allows to perform all sorts of consistency\n",
    "checks and illustrate the usage of the RDataSource in a didactic context.\n",
    "\n",
    "\n",
    "\n",
    "\n",
    "**Author:** Danilo Piparo  \n",
    "<i><small>This notebook tutorial was automatically generated with <a href= \"https://github.com/root-project/root/blob/master/documentation/doxygen/converttonotebook.py\">ROOTBOOK-izer</a> from the macro found in the ROOT repository  on Thursday, August 29, 2019 at 01:03 AM.</small></i>"
   ]
  },
  {
   "cell_type": "code",
   "execution_count": 1,
   "metadata": {
    "collapsed": false
   },
   "outputs": [],
   "source": [
    "using TDS = ROOT::RDF::RDataSource;"
   ]
  },
  {
   "cell_type": "markdown",
   "metadata": {},
   "source": [
    " A helper function is created: "
   ]
  },
  {
   "cell_type": "code",
   "execution_count": 2,
   "metadata": {
    "collapsed": false
   },
   "outputs": [],
   "source": [
    "%%cpp -d\n",
    "void fill_tree(const char *treeName, const char *fileName)\n",
    "{\n",
    "   ROOT::RDataFrame d(10000);\n",
    "   auto i = 0.;\n",
    "   d.Define(\"b1\", [&i]() { return i++; }).Snapshot(treeName, fileName);\n",
    "}"
   ]
  },
  {
   "cell_type": "code",
   "execution_count": 3,
   "metadata": {
    "collapsed": false
   },
   "outputs": [],
   "source": [
    "auto fileName = \"df011_ROOTDataSources.root\";\n",
    "auto treeName = \"myTree\";\n",
    "fill_tree(treeName, fileName);\n",
    "\n",
    "auto d_s = ROOT::RDF::MakeRootDataFrame(treeName, fileName);"
   ]
  },
  {
   "cell_type": "markdown",
   "metadata": {},
   "source": [
    "/ now we have a regular rdataframe: the ingestion of data is delegated to\n",
    "/ the RDataSource. At this point everything works as before."
   ]
  },
  {
   "cell_type": "code",
   "execution_count": 4,
   "metadata": {
    "collapsed": false
   },
   "outputs": [],
   "source": [
    "auto h_s = d_s.Define(\"x\", \"1./(b1 + 1.)\").Histo1D({\"h_s\", \"h_s\", 128, 0, .6}, \"x\");"
   ]
  },
  {
   "cell_type": "markdown",
   "metadata": {},
   "source": [
    "/ now we redo the same with a rdf and we draw the two histograms"
   ]
  },
  {
   "cell_type": "code",
   "execution_count": 5,
   "metadata": {
    "collapsed": false
   },
   "outputs": [],
   "source": [
    "ROOT::RDataFrame d(treeName, fileName);\n",
    "auto h = d.Define(\"x\", \"1./(b1 + 1.)\").Histo1D({\"h\", \"h\", 128, 0, .6}, \"x\");\n",
    "\n",
    "auto c_s = new TCanvas();\n",
    "c_s->SetLogy();\n",
    "h_s->DrawClone();\n",
    "\n",
    "auto c = new TCanvas();\n",
    "c->SetLogy();\n",
    "h->DrawClone();\n",
    "\n",
    "return 0;"
   ]
  },
  {
   "cell_type": "markdown",
   "metadata": {},
   "source": [
    "Draw all canvases "
   ]
  },
  {
   "cell_type": "code",
   "execution_count": 6,
   "metadata": {
    "collapsed": false
   },
   "outputs": [
    {
     "data": {
      "image/png": "[encoded data removed]",
      "text/plain": [
       "<IPython.core.display.Image object>"
      ]
     },
     "metadata": {},
     "output_type": "display_data"
    },
    {
     "data": {
      "image/png": "[encoded data removed]",
      "text/plain": [
       "<IPython.core.display.Image object>"
      ]
     },
     "metadata": {},
     "output_type": "display_data"
    }
   ],
   "source": [
    "gROOT->GetListOfCanvases()->Draw()"
   ]
  }
 ],
 "metadata": {
  "kernelspec": {
   "display_name": "ROOT C++",
   "language": "c++",
   "name": "root"
  },
  "language_info": {
   "codemirror_mode": "text/x-c++src",
   "file_extension": ".C",
   "mimetype": " text/x-c++src",
   "name": "c++"
  }
 },
 "nbformat": 4,
 "nbformat_minor": 2
}
