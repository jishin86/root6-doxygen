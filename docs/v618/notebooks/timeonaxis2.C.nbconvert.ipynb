{
 "cells": [
  {
   "cell_type": "markdown",
   "metadata": {},
   "source": [
    "# Timeonaxis 2\n",
    "Define the time offset as 2003, January 1st.\n",
    "\n",
    "\n",
    "\n",
    "\n",
    "**Author:** Olivier Couet  \n",
    "<i><small>This notebook tutorial was automatically generated with <a href= \"https://github.com/root-project/root/blob/master/documentation/doxygen/converttonotebook.py\">ROOTBOOK-izer</a> from the macro found in the ROOT repository  on Thursday, August 29, 2019 at 01:50 AM.</small></i>"
   ]
  },
  {
   "cell_type": "code",
   "execution_count": 1,
   "metadata": {
    "collapsed": false
   },
   "outputs": [],
   "source": [
    "TCanvas *ct2 = new TCanvas(\"ct2\",\"ct2\",10,10,700,500);\n",
    "\n",
    "TDatime T0(2003, 1, 1, 0, 0, 0);\n",
    "int X0 = T0.Convert();\n",
    "gStyle->SetTimeOffset(X0);"
   ]
  },
  {
   "cell_type": "markdown",
   "metadata": {},
   "source": [
    "Define the lowest histogram limit as 2002, september 23rd"
   ]
  },
  {
   "cell_type": "code",
   "execution_count": 2,
   "metadata": {
    "collapsed": false
   },
   "outputs": [],
   "source": [
    "TDatime T1(2002, 9, 23, 0, 0, 0);\n",
    "int X1 = T1.Convert()-X0;"
   ]
  },
  {
   "cell_type": "markdown",
   "metadata": {},
   "source": [
    "Define the highest histogram limit as 2003, march 7th"
   ]
  },
  {
   "cell_type": "code",
   "execution_count": 3,
   "metadata": {
    "collapsed": false
   },
   "outputs": [],
   "source": [
    "TDatime T2(2003, 3, 7, 0, 0, 0);\n",
    "int X2 = T2.Convert(1)-X0;\n",
    "\n",
    "TH1F * h1 = new TH1F(\"h1\",\"test\",100,X1,X2);\n",
    "\n",
    "TRandom r;\n",
    "for (Int_t i=0;i<30000;i++) {\n",
    "   Double_t noise = r.Gaus(0.5*(X1+X2),0.1*(X2-X1));\n",
    "   h1->Fill(noise);\n",
    "}\n",
    "\n",
    "h1->GetXaxis()->SetTimeDisplay(1);\n",
    "h1->GetXaxis()->SetLabelSize(0.03);\n",
    "h1->GetXaxis()->SetTimeFormat(\"%Y/%m/%d\");\n",
    "h1->Draw();\n",
    "return ct2;"
   ]
  },
  {
   "cell_type": "markdown",
   "metadata": {},
   "source": [
    "Draw all canvases "
   ]
  },
  {
   "cell_type": "code",
   "execution_count": 4,
   "metadata": {
    "collapsed": false
   },
   "outputs": [
    {
     "data": {
      "image/png": "[encoded data removed]",
      "text/plain": [
       "<IPython.core.display.Image object>"
      ]
     },
     "metadata": {},
     "output_type": "display_data"
    }
   ],
   "source": [
    "gROOT->GetListOfCanvases()->Draw()"
   ]
  }
 ],
 "metadata": {
  "kernelspec": {
   "display_name": "ROOT C++",
   "language": "c++",
   "name": "root"
  },
  "language_info": {
   "codemirror_mode": "text/x-c++src",
   "file_extension": ".C",
   "mimetype": " text/x-c++src",
   "name": "c++"
  }
 },
 "nbformat": 4,
 "nbformat_minor": 2
}
