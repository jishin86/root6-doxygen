{
 "cells": [
  {
   "cell_type": "markdown",
   "metadata": {},
   "source": [
    "# Rf 6 0 1_Intminuit\n",
    "Likelihood and minimization: interactive minimization with MINUIT\n",
    "\n",
    "\n",
    "\n",
    "**Author:** 07/2008 - Wouter Verkerke  \n",
    "<i><small>This notebook tutorial was automatically generated with <a href= \"https://github.com/root-project/root/blob/master/documentation/doxygen/converttonotebook.py\">ROOTBOOK-izer</a> from the macro found in the ROOT repository  on Thursday, August 29, 2019 at 02:57 AM.</small></i>"
   ]
  },
  {
   "cell_type": "code",
   "execution_count": 1,
   "metadata": {
    "collapsed": false
   },
   "outputs": [],
   "source": [
    "%%cpp -d\n",
    "#include \"RooRealVar.h\"\n",
    "#include \"RooDataSet.h\"\n",
    "#include \"RooGaussian.h\"\n",
    "#include \"RooConstVar.h\"\n",
    "#include \"RooProdPdf.h\"\n",
    "#include \"RooAddPdf.h\"\n",
    "#include \"RooMinimizer.h\"\n",
    "#include \"RooFitResult.h\"\n",
    "#include \"RooPlot.h\"\n",
    "#include \"TCanvas.h\"\n",
    "#include \"TAxis.h\"\n",
    "#include \"TH1.h\""
   ]
  },
  {
   "cell_type": "code",
   "execution_count": 2,
   "metadata": {
    "collapsed": false
   },
   "outputs": [],
   "source": [
    "%%cpp -d\n",
    "// This is a workaround to make sure the namespace is used inside functions\n",
    "using namespace RooFit;"
   ]
  },
  {
   "cell_type": "markdown",
   "metadata": {},
   "source": [
    "Setup pdf and likelihood\n",
    " -----------------------------------------------"
   ]
  },
  {
   "cell_type": "markdown",
   "metadata": {},
   "source": [
    "Observable"
   ]
  },
  {
   "cell_type": "code",
   "execution_count": 3,
   "metadata": {
    "collapsed": false
   },
   "outputs": [
    {
     "name": "stdout",
     "output_type": "stream",
     "text": [
      "\n",
      "\u001b[1mRooFit v3.60 -- Developed by Wouter Verkerke and David Kirkby\u001b[0m \n",
      "                Copyright (C) 2000-2013 NIKHEF, University of California & Stanford University\n",
      "                All rights reserved, please read http://roofit.sourceforge.net/license.txt\n",
      "\n"
     ]
    }
   ],
   "source": [
    "RooRealVar x(\"x\", \"x\", -20, 20);"
   ]
  },
  {
   "cell_type": "markdown",
   "metadata": {},
   "source": [
    "Model (intentional strong correlations)"
   ]
  },
  {
   "cell_type": "code",
   "execution_count": 4,
   "metadata": {
    "collapsed": false
   },
   "outputs": [],
   "source": [
    "RooRealVar mean(\"mean\", \"mean of g1 and g2\", 0);\n",
    "RooRealVar sigma_g1(\"sigma_g1\", \"width of g1\", 3);\n",
    "RooGaussian g1(\"g1\", \"g1\", x, mean, sigma_g1);\n",
    "\n",
    "RooRealVar sigma_g2(\"sigma_g2\", \"width of g2\", 4, 3.0, 6.0);\n",
    "RooGaussian g2(\"g2\", \"g2\", x, mean, sigma_g2);\n",
    "\n",
    "RooRealVar frac(\"frac\", \"frac\", 0.5, 0.0, 1.0);\n",
    "RooAddPdf model(\"model\", \"model\", RooArgList(g1, g2), frac);"
   ]
  },
  {
   "cell_type": "markdown",
   "metadata": {},
   "source": [
    "Generate 1000 events"
   ]
  },
  {
   "cell_type": "code",
   "execution_count": 5,
   "metadata": {
    "collapsed": false
   },
   "outputs": [],
   "source": [
    "RooDataSet *data = model.generate(x, 1000);"
   ]
  },
  {
   "cell_type": "markdown",
   "metadata": {},
   "source": [
    "Construct unbinned likelihood of model w.r.t. data"
   ]
  },
  {
   "cell_type": "code",
   "execution_count": 6,
   "metadata": {
    "collapsed": false
   },
   "outputs": [],
   "source": [
    "RooAbsReal *nll = model.createNLL(*data);"
   ]
  },
  {
   "cell_type": "markdown",
   "metadata": {},
   "source": [
    "Interactive minimization, error analysis\n",
    " -------------------------------------------------------------------------------"
   ]
  },
  {
   "cell_type": "markdown",
   "metadata": {},
   "source": [
    "Create minuit interface object"
   ]
  },
  {
   "cell_type": "code",
   "execution_count": 7,
   "metadata": {
    "collapsed": false
   },
   "outputs": [],
   "source": [
    "RooMinimizer m(*nll);"
   ]
  },
  {
   "cell_type": "markdown",
   "metadata": {},
   "source": [
    "Activate verbose logging of minuit parameter space stepping"
   ]
  },
  {
   "cell_type": "code",
   "execution_count": 8,
   "metadata": {
    "collapsed": false
   },
   "outputs": [],
   "source": [
    "m.setVerbose(kTRUE);"
   ]
  },
  {
   "cell_type": "markdown",
   "metadata": {},
   "source": [
    "Call migrad to minimize the likelihood"
   ]
  },
  {
   "cell_type": "code",
   "execution_count": 9,
   "metadata": {
    "collapsed": false
   },
   "outputs": [
    {
     "name": "stdout",
     "output_type": "stream",
     "text": [
      "[#0] WARNING:Minization -- RooMinimizerFcn::synchronize: WARNING: no initial error estimate available for frac: using 0.1\n",
      "[#0] WARNING:Minization -- RooMinimizerFcn::synchronize: WARNING: no initial error estimate available for sigma_g2: using 0.3\n",
      " **********\n",
      " **    1 **SET PRINT           1\n",
      " **********\n",
      " **********\n",
      " **    2 **SET NOGRAD\n",
      " **********\n",
      " PARAMETER DEFINITIONS:\n",
      "    NO.   NAME         VALUE      STEP SIZE      LIMITS\n",
      "     1 frac         5.00000e-01  1.00000e-01    0.00000e+00  1.00000e+00\n",
      "     2 sigma_g2     4.00000e+00  3.00000e-01    3.00000e+00  6.00000e+00\n",
      " **********\n",
      " **    3 **SET ERR         0.5\n",
      " **********\n",
      " **********\n",
      " **    4 **SET PRINT           1\n",
      " **********\n",
      " **********\n",
      " **    5 **SET STR           1\n",
      " **********\n",
      " NOW USING STRATEGY  1: TRY TO BALANCE SPEED AGAINST RELIABILITY\n",
      " **********\n",
      " **    6 **MIGRAD        1000           1\n",
      " **********\n",
      " FIRST CALL TO USER FUNCTION AT NEW START POINT, WITH IFLAG=4.\n",
      "\n",
      "prevFCN = 2660.220684   START MIGRAD MINIMIZATION.  STRATEGY  1.  CONVERGENCE WHEN EDM .LT. 1.00e-03\n",
      "frac=0.5025, \n",
      "prevFCN = 2660.192625  frac=0.4975, \n",
      "prevFCN = 2660.249627  frac=0.5, sigma_g2=4.008, \n",
      "prevFCN = 2660.261352  sigma_g2=3.992, \n",
      "prevFCN = 2660.182671  sigma_g2=4.005, \n",
      "prevFCN = 2660.248509  sigma_g2=3.995, \n",
      "prevFCN = 2660.194128   FCN=2660.22 FROM MIGRAD    STATUS=INITIATE        6 CALLS           7 TOTAL\n",
      "                     EDM= unknown      STRATEGY= 1      NO ERROR MATRIX       \n",
      "  EXT PARAMETER               CURRENT GUESS       STEP         FIRST   \n",
      "  NO.   NAME      VALUE            ERROR          SIZE      DERIVATIVE \n",
      "   1  frac         5.00000e-01   1.00000e-01   2.01358e-01  -5.61980e+00\n",
      "   2  sigma_g2     4.00000e+00   3.00000e-01   2.14402e-01   7.28535e+00\n",
      "                               ERR DEF= 0.5\n",
      "frac=0.5812, sigma_g2=3.889, \n",
      "prevFCN = 2660.146981  frac=0.5429, sigma_g2=3.941, \n",
      "prevFCN = 2659.83839  frac=0.5459, \n",
      "prevFCN = 2659.836693  frac=0.5398, \n",
      "prevFCN = 2659.84135  frac=0.5429, sigma_g2=3.946, \n",
      "prevFCN = 2659.835034  sigma_g2=3.936, \n",
      "prevFCN = 2659.842918  frac=0.5497, sigma_g2=3.955, \n",
      "prevFCN = 2659.823248  frac=0.5767, sigma_g2=4.011, \n",
      "prevFCN = 2659.774616  frac=0.6313, sigma_g2=4.128, \n",
      "prevFCN = 2659.739139  frac=0.6266, sigma_g2=4.117, \n",
      "prevFCN = 2659.738319  frac=0.6296, \n",
      "prevFCN = 2659.740342  frac=0.6237, \n",
      "prevFCN = 2659.73797  frac=0.6266, sigma_g2=4.123, \n",
      "prevFCN = 2659.737996  sigma_g2=4.112, \n",
      "prevFCN = 2659.739642  frac=0.6227, sigma_g2=4.114, \n",
      "prevFCN = 2659.737958  frac=0.6236, sigma_g2=4.115, \n",
      "prevFCN = 2659.737923  frac=0.6262, \n",
      "prevFCN = 2659.738617  frac=0.621, \n",
      "prevFCN = 2659.738491  frac=0.6236, sigma_g2=4.121, \n",
      "prevFCN = 2659.738401  sigma_g2=4.108, \n",
      "prevFCN = 2659.738723   MIGRAD MINIMIZATION HAS CONVERGED.\n",
      " MIGRAD WILL VERIFY CONVERGENCE AND ERROR MATRIX.\n",
      "sigma_g2=4.115, \n",
      "prevFCN = 2659.737923  frac=0.6262, \n",
      "prevFCN = 2659.738617  frac=0.621, \n",
      "prevFCN = 2659.738491  frac=0.6236, sigma_g2=4.121, \n",
      "prevFCN = 2659.738401  sigma_g2=4.108, \n",
      "prevFCN = 2659.738723  frac=0.6241, sigma_g2=4.115, \n",
      "prevFCN = 2659.737961  frac=0.6231, \n",
      "prevFCN = 2659.737935  frac=0.6236, sigma_g2=4.116, \n",
      "prevFCN = 2659.737916  sigma_g2=4.113, \n",
      "prevFCN = 2659.73798  frac=0.6262, sigma_g2=4.121, \n",
      "prevFCN = 2659.73795   COVARIANCE MATRIX CALCULATED SUCCESSFULLY\n",
      " FCN=2659.74 FROM MIGRAD    STATUS=CONVERGED      36 CALLS          37 TOTAL\n",
      "                     EDM=4.79486e-05    STRATEGY= 1      ERROR MATRIX ACCURATE \n",
      "  EXT PARAMETER                                   STEP         FIRST   \n",
      "  NO.   NAME      VALUE            ERROR          SIZE      DERIVATIVE \n",
      "   1  frac         6.23602e-01   1.63964e-01   5.29496e-03   1.18897e-02\n",
      "   2  sigma_g2     4.11458e+00   4.05024e-01   4.37113e-03  -3.67164e-02\n",
      "                               ERR DEF= 0.5\n",
      " EXTERNAL ERROR MATRIX.    NDIM=  25    NPAR=  2    ERR DEF=0.5\n",
      "  2.798e-02  6.194e-02 \n",
      "  6.194e-02  1.685e-01 \n",
      " PARAMETER  CORRELATION COEFFICIENTS  \n",
      "       NO.  GLOBAL      1      2\n",
      "        1  0.90205   1.000  0.902\n",
      "        2  0.90205   0.902  1.000\n",
      "frac=0.6236, sigma_g2=4.115, "
     ]
    }
   ],
   "source": [
    "m.migrad();"
   ]
  },
  {
   "cell_type": "markdown",
   "metadata": {},
   "source": [
    "Print values of all parameters, that reflect values (and error estimates)\n",
    " that are back propagated from MINUIT"
   ]
  },
  {
   "cell_type": "code",
   "execution_count": 10,
   "metadata": {
    "collapsed": false
   },
   "outputs": [
    {
     "name": "stdout",
     "output_type": "stream",
     "text": [
      "  1) RooRealVar::     frac = 0.6236 +/- 0.164\n",
      "  2) RooRealVar::     mean = 0\n",
      "  3) RooRealVar:: sigma_g1 = 3\n",
      "  4) RooRealVar:: sigma_g2 = 4.115 +/- 0.405\n"
     ]
    }
   ],
   "source": [
    "model.getParameters(x)->Print(\"s\");"
   ]
  },
  {
   "cell_type": "markdown",
   "metadata": {},
   "source": [
    "Disable verbose logging"
   ]
  },
  {
   "cell_type": "code",
   "execution_count": 11,
   "metadata": {
    "collapsed": false
   },
   "outputs": [],
   "source": [
    "m.setVerbose(kFALSE);"
   ]
  },
  {
   "cell_type": "markdown",
   "metadata": {},
   "source": [
    "Run hesse to calculate errors from d2l/dp2"
   ]
  },
  {
   "cell_type": "code",
   "execution_count": 12,
   "metadata": {
    "collapsed": false
   },
   "outputs": [
    {
     "name": "stdout",
     "output_type": "stream",
     "text": [
      " **********\n",
      " **    7 **SET ERR         0.5\n",
      " **********\n",
      " **********\n",
      " **    8 **SET PRINT           1\n",
      " **********\n",
      " **********\n",
      " **    9 **HESSE        1000\n",
      " **********\n",
      " COVARIANCE MATRIX CALCULATED SUCCESSFULLY\n",
      " FCN=2659.74 FROM HESSE     STATUS=OK             10 CALLS          47 TOTAL\n",
      "                     EDM=4.80672e-05    STRATEGY= 1      ERROR MATRIX ACCURATE \n",
      "  EXT PARAMETER                                INTERNAL      INTERNAL  \n",
      "  NO.   NAME      VALUE            ERROR       STEP SIZE       VALUE   \n",
      "   1  frac         6.23602e-01   1.64221e-01   1.05899e-03   2.49794e-01\n",
      "   2  sigma_g2     4.11458e+00   4.05667e-01   8.74227e-04  -2.59859e-01\n",
      "                               ERR DEF= 0.5\n",
      " EXTERNAL ERROR MATRIX.    NDIM=  25    NPAR=  2    ERR DEF=0.5\n",
      "  2.807e-02  6.216e-02 \n",
      "  6.216e-02  1.691e-01 \n",
      " PARAMETER  CORRELATION COEFFICIENTS  \n",
      "       NO.  GLOBAL      1      2\n",
      "        1  0.90238   1.000  0.902\n",
      "        2  0.90238   0.902  1.000\n",
      "frac=0.6236, sigma_g2=4.115, "
     ]
    }
   ],
   "source": [
    "m.hesse();"
   ]
  },
  {
   "cell_type": "markdown",
   "metadata": {},
   "source": [
    "Print value (and error) of sigma_g2 parameter, that reflects\n",
    " value and error back propagated from MINUIT"
   ]
  },
  {
   "cell_type": "code",
   "execution_count": 13,
   "metadata": {
    "collapsed": false
   },
   "outputs": [
    {
     "name": "stdout",
     "output_type": "stream",
     "text": [
      "RooRealVar::sigma_g2 = 4.115 +/- 0.4057  L(3 - 6) \n"
     ]
    }
   ],
   "source": [
    "sigma_g2.Print();"
   ]
  },
  {
   "cell_type": "markdown",
   "metadata": {},
   "source": [
    "Run minos on sigma_g2 parameter only"
   ]
  },
  {
   "cell_type": "code",
   "execution_count": 14,
   "metadata": {
    "collapsed": false
   },
   "outputs": [
    {
     "name": "stdout",
     "output_type": "stream",
     "text": [
      " **********\n",
      " **   10 **MINOS        1000           2\n",
      " **********\n",
      " FCN=2659.74 FROM MINOS     STATUS=SUCCESSFUL     44 CALLS          91 TOTAL\n",
      "                     EDM=4.80672e-05    STRATEGY= 1      ERROR MATRIX ACCURATE \n",
      "  EXT PARAMETER                  PARABOLIC         MINOS ERRORS        \n",
      "  NO.   NAME      VALUE            ERROR      NEGATIVE      POSITIVE   \n",
      "   1  frac         6.23602e-01   1.64221e-01                            \n",
      "   2  sigma_g2     4.11458e+00   4.05667e-01  -3.79331e-01   4.57363e-01\n",
      "                               ERR DEF= 0.5\n",
      "frac=0.6236, sigma_g2=4.115, "
     ]
    }
   ],
   "source": [
    "m.minos(sigma_g2);"
   ]
  },
  {
   "cell_type": "markdown",
   "metadata": {},
   "source": [
    "Print value (and error) of sigma_g2 parameter, that reflects\n",
    " value and error back propagated from MINUIT"
   ]
  },
  {
   "cell_type": "code",
   "execution_count": 15,
   "metadata": {
    "collapsed": false
   },
   "outputs": [
    {
     "name": "stdout",
     "output_type": "stream",
     "text": [
      "RooRealVar::sigma_g2 = 4.115 +/- (-0.3793,0.4574)  L(3 - 6) \n"
     ]
    }
   ],
   "source": [
    "sigma_g2.Print();"
   ]
  },
  {
   "cell_type": "markdown",
   "metadata": {},
   "source": [
    "Saving results, contour plots\n",
    " ---------------------------------------------------------"
   ]
  },
  {
   "cell_type": "markdown",
   "metadata": {},
   "source": [
    "Save a snapshot of the fit result. this object contains the initial\n",
    " fit parameters, the final fit parameters, the complete correlation\n",
    " matrix, the EDM, the minimized FCN , the last MINUIT status code and\n",
    " the number of times the RooFit function object has indicated evaluation\n",
    " problems (e.g. zero probabilities during likelihood evaluation)"
   ]
  },
  {
   "cell_type": "code",
   "execution_count": 16,
   "metadata": {
    "collapsed": false
   },
   "outputs": [],
   "source": [
    "RooFitResult *r = m.save();"
   ]
  },
  {
   "cell_type": "markdown",
   "metadata": {},
   "source": [
    "Make contour plot of mx vs sx at 1,2,3 sigma"
   ]
  },
  {
   "cell_type": "code",
   "execution_count": 17,
   "metadata": {
    "collapsed": false
   },
   "outputs": [
    {
     "name": "stdout",
     "output_type": "stream",
     "text": [
      " **********\n",
      " **   11 **SET ERR         0.5\n",
      " **********\n",
      " **********\n",
      " **   12 **SET PRINT           1\n",
      " **********\n",
      " START MNCONTOUR CALCULATION OF   50 POINTS ON CONTOUR.\n",
      " Y-AXIS: PARAMETER   2  sigma_g2\n",
      "                         X-AXIS: PARAMETER   1  frac\n",
      "   50 POINTS ON CONTOUR.   FMIN=  2.65974e+03   ERRDEF=        0.5\n",
      "         fracsigma_g2fracsigma_g2\n",
      "     1  3.97200e-01  3.75562e+00             26  7.56837e-01  4.54075e+00\n",
      "     2  4.17255e-01  3.73525e+00             27  7.44618e-01  4.57195e+00\n",
      "     3  4.44729e-01  3.74324e+00             28  7.25403e-01  4.55125e+00\n",
      "     4  4.69531e-01  3.75750e+00             29  7.12749e-01  4.52601e+00\n",
      "     5  4.92331e-01  3.77448e+00             30  7.00694e-01  4.50076e+00\n",
      "     6  5.13625e-01  3.79332e+00             31  6.91094e-01  4.47447e+00\n",
      "     7  5.33410e-01  3.81339e+00             32  6.70260e-01  4.42290e+00\n",
      "     8  5.51977e-01  3.83459e+00             33  6.51349e-01  4.37060e+00\n",
      "     9  5.69394e-01  3.85674e+00             34  6.32335e-01  4.31848e+00\n",
      "    10  5.85723e-01  3.87970e+00             35  6.11687e-01  4.26698e+00\n",
      "    11  6.00831e-01  3.90306e+00             36  5.92569e-01  4.21488e+00\n",
      "    12  6.14979e-01  3.92702e+00             37  5.80876e-01  4.18971e+00\n",
      "    13  6.28214e-01  3.95150e+00             38  5.70321e-01  4.16403e+00\n",
      "    14  6.40585e-01  3.97642e+00             39  5.50231e-01  4.11230e+00\n",
      "    15  6.52134e-01  4.00172e+00             40  5.37769e-01  4.08750e+00\n",
      "    16  6.62913e-01  4.02736e+00             41  5.26588e-01  4.06210e+00\n",
      "    17  6.82330e-01  4.07948e+00             42  5.04883e-01  4.01104e+00\n",
      "    18  6.98845e-01  4.13142e+00             43  4.92177e-01  3.98637e+00\n",
      "    19  7.13135e-01  4.18402e+00             44  4.80441e-01  3.96123e+00\n",
      "    20  7.25412e-01  4.23712e+00             45  4.69120e-01  3.93586e+00\n",
      "    21  7.35830e-01  4.29061e+00             46  4.56476e-01  3.91113e+00\n",
      "    22  7.44473e-01  4.34443e+00             47  4.45053e-01  3.88582e+00\n",
      "    23  7.51318e-01  4.39850e+00             48  4.33191e-01  3.86071e+00\n",
      "    24  7.56144e-01  4.45279e+00             49  4.21076e-01  3.83560e+00\n",
      "    25  7.58180e-01  4.50727e+00             50  4.11104e-01  3.80956e+00\n",
      " **********\n",
      " **   13 **SET ERR           2\n",
      " **********\n",
      " **********\n",
      " **   14 **SET PRINT           1\n",
      " **********\n",
      " START MNCONTOUR CALCULATION OF   50 POINTS ON CONTOUR.\n",
      "    THE NEGATIVE MINOS ERROR OF PARAMETER   1, frac EXCEEDS ITS LIMIT.\n",
      " MINUIT WARNING IN MIGRAD  \n",
      " ============== VARIABLE1 IS AT ITS LOWER ALLOWED LIMIT.\n",
      " MINUIT WARNING IN MNContour \n",
      " ============== Contour squeezed by parameter limits.\n",
      " MINUIT WARNING IN MIGRAD  \n",
      " ============== Negative diagonal element 1 in Error Matrix\n",
      " MINUIT WARNING IN MIGRAD  \n",
      " ============== 1.80381 added to diagonal of error matrix\n",
      " MINUIT WARNING IN MIGRAD  \n",
      " ============== Negative diagonal element 1 in Error Matrix\n",
      " MINUIT WARNING IN MIGRAD  \n",
      " ============== 4.72533 added to diagonal of error matrix\n",
      " MINUIT WARNING IN MIGRAD  \n",
      " ============== VARIABLE1 IS AT ITS LOWER ALLOWED LIMIT.\n",
      " MINUIT WARNING IN MNContour \n",
      " ============== Cannot find midpoint, try closer.\n",
      " Y-AXIS: PARAMETER   2  sigma_g2\n",
      "                         X-AXIS: PARAMETER   1  frac\n",
      "   50 POINTS ON CONTOUR.   FMIN=  2.65974e+03   ERRDEF=          2\n",
      "         fracsigma_g2fracsigma_g2\n",
      "     1  0.00000e+00  3.46424e+00             26  8.47335e-01  4.95150e+00\n",
      "     2  1.79301e-14  3.40406e+00             27  8.45295e-01  5.05026e+00\n",
      "     3  6.29324e-02  3.40944e+00             28  8.26037e-01  5.14714e+00\n",
      "     4  1.21781e-01  3.43238e+00             29  7.97221e-01  5.09475e+00\n",
      "     5  1.81460e-01  3.45107e+00             30  7.79649e-01  5.03760e+00\n",
      "     6  2.40096e-01  3.47281e+00             31  7.48367e-01  4.92284e+00\n",
      "     7  2.97492e-01  3.49786e+00             32  7.20768e-01  4.80734e+00\n",
      "     8  3.53200e-01  3.52646e+00             33  6.85886e-01  4.69384e+00\n",
      "     9  4.06780e-01  3.55890e+00             34  6.60730e-01  4.60846e+00\n",
      "    10  4.57692e-01  3.59539e+00             35  6.34141e-01  4.52352e+00\n",
      "    11  5.05682e-01  3.63627e+00             36  6.05845e-01  4.43913e+00\n",
      "    12  5.49907e-01  3.68120e+00             37  5.75573e-01  4.35542e+00\n",
      "    13  5.90008e-01  3.72984e+00             38  5.43026e-01  4.27253e+00\n",
      "    14  6.25840e-01  3.78170e+00             39  5.07919e-01  4.19069e+00\n",
      "    15  6.57414e-01  3.83611e+00             40  4.69940e-01  4.11013e+00\n",
      "    16  6.85065e-01  3.89261e+00             41  4.28778e-01  4.03116e+00\n",
      "    17  7.09147e-01  3.95070e+00             42  3.84090e-01  3.95408e+00\n",
      "    18  7.30072e-01  4.01000e+00             43  3.35632e-01  3.87932e+00\n",
      "    19  7.62458e-01  4.12460e+00             44  2.83184e-01  3.80729e+00\n",
      "    20  7.87302e-01  4.24107e+00             45  2.26652e-01  3.73842e+00\n",
      "    21  8.06405e-01  4.35858e+00             46  1.65944e-01  3.67292e+00\n",
      "    22  8.21061e-01  4.47672e+00             47  1.36079e-01  3.63954e+00\n",
      "    23  8.32132e-01  4.59513e+00             48  1.01434e-01  3.61116e+00\n",
      "    24  8.40161e-01  4.71378e+00             49  6.82875e-02  3.57888e+00\n",
      "    25  8.45340e-01  4.83259e+00             50  3.12614e-02  3.55113e+00\n",
      " **********\n",
      " **   15 **SET ERR         4.5\n",
      " **********\n",
      " **********\n",
      " **   16 **SET PRINT           1\n",
      " **********\n",
      " START MNCONTOUR CALCULATION OF   50 POINTS ON CONTOUR.\n",
      "    THE NEGATIVE MINOS ERROR OF PARAMETER   1, frac EXCEEDS ITS LIMIT.\n",
      " MINUIT WARNING IN MIGRAD  \n",
      " ============== VARIABLE1 IS AT ITS LOWER ALLOWED LIMIT.\n",
      " MINUIT WARNING IN MNContour \n",
      " ============== Contour squeezed by parameter limits.\n",
      " MINUIT WARNING IN MIGRAD  \n",
      " ============== Negative diagonal element 1 in Error Matrix\n",
      " MINUIT WARNING IN MIGRAD  \n",
      " ============== 7.52056 added to diagonal of error matrix\n",
      " MINUIT WARNING IN MIGRAD  \n",
      " ============== VARIABLE1 IS AT ITS LOWER ALLOWED LIMIT.\n",
      " MINUIT WARNING IN MNContour \n",
      " ============== Cannot find midpoint, try closer.\n",
      " Y-AXIS: PARAMETER   2  sigma_g2\n",
      "                         X-AXIS: PARAMETER   1  frac\n",
      "   50 POINTS ON CONTOUR.   FMIN=  2.65974e+03   ERRDEF=        4.5\n",
      "         fracsigma_g2fracsigma_g2\n",
      "     1  0.00000e+00  3.46425e+00             26  9.09872e-01  5.50347e+00\n",
      "     2  0.00000e+00  3.28838e+00             27  9.07563e-01  5.72284e+00\n",
      "     3  4.28189e-02  3.29497e+00             28  8.85618e-01  5.94113e+00\n",
      "     4  8.37150e-02  3.30927e+00             29  8.44335e-01  5.77983e+00\n",
      "     5  1.26474e-01  3.31676e+00             30  8.16567e-01  5.61566e+00\n",
      "     6  1.66526e-01  3.33350e+00             31  7.91888e-01  5.45109e+00\n",
      "     7  2.48051e-01  3.36183e+00             32  7.59291e-01  5.28791e+00\n",
      "     8  3.27658e-01  3.39517e+00             33  7.35538e-01  5.16556e+00\n",
      "     9  4.04859e-01  3.43479e+00             34  7.09973e-01  5.04357e+00\n",
      "    10  4.77970e-01  3.48153e+00             35  6.82240e-01  4.92205e+00\n",
      "    11  5.45507e-01  3.53612e+00             36  6.51951e-01  4.80115e+00\n",
      "    12  6.05899e-01  3.59851e+00             37  6.18642e-01  4.68097e+00\n",
      "    13  6.57917e-01  3.66753e+00             38  5.81814e-01  4.56183e+00\n",
      "    14  7.01726e-01  3.74204e+00             39  5.40858e-01  4.44403e+00\n",
      "    15  7.37944e-01  3.82043e+00             40  4.95076e-01  4.32802e+00\n",
      "    16  7.67669e-01  3.90151e+00             41  4.43621e-01  4.21428e+00\n",
      "    17  8.11993e-01  4.06758e+00             42  3.85663e-01  4.10372e+00\n",
      "    18  8.42434e-01  4.23675e+00             43  3.20281e-01  3.99727e+00\n",
      "    19  8.62468e-01  4.39420e+00             44  2.84560e-01  3.94597e+00\n",
      "    20  8.77217e-01  4.55223e+00             45  2.44942e-01  3.89762e+00\n",
      "    21  8.88186e-01  4.71055e+00             46  2.05597e-01  3.84681e+00\n",
      "    22  8.96342e-01  4.86904e+00             47  1.62199e-01  3.79941e+00\n",
      "    23  9.02303e-01  5.02758e+00             48  1.16584e-01  3.75419e+00\n",
      "    24  9.06452e-01  5.18618e+00             49  6.88051e-02  3.71126e+00\n",
      "    25  9.08982e-01  5.34482e+00             50  0.00000e+00  3.59734e+00\n"
     ]
    }
   ],
   "source": [
    "RooPlot *frame = m.contour(frac, sigma_g2, 1, 2, 3);\n",
    "frame->SetTitle(\"Minuit contour plot\");"
   ]
  },
  {
   "cell_type": "markdown",
   "metadata": {},
   "source": [
    "Print the fit result snapshot"
   ]
  },
  {
   "cell_type": "code",
   "execution_count": 18,
   "metadata": {
    "collapsed": false
   },
   "outputs": [
    {
     "name": "stdout",
     "output_type": "stream",
     "text": [
      "\n",
      "  RooFitResult: minimized FCN value: 2660, estimated distance to minimum: 4.807e-05\n",
      "                covariance matrix quality: Full, accurate covariance matrix\n",
      "                Status : MIGRAD=0 HESSE=0 MINOS=0 \n",
      "\n",
      "    Constant Parameter    Value     \n",
      "  --------------------  ------------\n",
      "                  mean    0.0000e+00\n",
      "              sigma_g1    3.0000e+00\n",
      "\n",
      "    Floating Parameter  InitialValue    FinalValue (+HiError,-LoError)    GblCorr.\n",
      "  --------------------  ------------  ----------------------------------  --------\n",
      "                  frac    5.0000e-01    6.2360e-01         +/-  1.64e-01  <none>\n",
      "              sigma_g2    4.0000e+00    4.1146e+00 (+4.57e-01,-3.79e-01)  <none>\n",
      "\n"
     ]
    }
   ],
   "source": [
    "r->Print(\"v\");"
   ]
  },
  {
   "cell_type": "markdown",
   "metadata": {},
   "source": [
    "Change parameter values, floating\n",
    " -----------------------------------------------------------------"
   ]
  },
  {
   "cell_type": "markdown",
   "metadata": {},
   "source": [
    "At any moment you can manually change the value of a (constant)\n",
    " parameter"
   ]
  },
  {
   "cell_type": "code",
   "execution_count": 19,
   "metadata": {
    "collapsed": false
   },
   "outputs": [],
   "source": [
    "mean = 0.3;"
   ]
  },
  {
   "cell_type": "markdown",
   "metadata": {},
   "source": [
    "Rerun migrad,hesse"
   ]
  },
  {
   "cell_type": "code",
   "execution_count": 20,
   "metadata": {
    "collapsed": false
   },
   "outputs": [
    {
     "name": "stdout",
     "output_type": "stream",
     "text": [
      " **********\n",
      " **   17 **SET PRINT           1\n",
      " **********\n",
      " **********\n",
      " **   18 **SET NOGRAD\n",
      " **********\n",
      " PARAMETER DEFINITIONS:\n",
      "    NO.   NAME         VALUE      STEP SIZE      LIMITS\n",
      "     1 frac         6.23602e-01  1.64221e-01    0.00000e+00  1.00000e+00\n",
      "     2 sigma_g2     4.11458e+00  4.05667e-01    3.00000e+00  6.00000e+00\n",
      " **********\n",
      " **   19 **SET ERR         0.5\n",
      " **********\n",
      " **********\n",
      " **   20 **SET PRINT           1\n",
      " **********\n",
      " **********\n",
      " **   21 **SET STR           1\n",
      " **********\n",
      " NOW USING STRATEGY  1: TRY TO BALANCE SPEED AGAINST RELIABILITY\n",
      " **********\n",
      " **   22 **MIGRAD        1000           1\n",
      " **********\n",
      " FIRST CALL TO USER FUNCTION AT NEW START POINT, WITH IFLAG=4.\n",
      "\n",
      "prevFCN = 2663.4116   START MIGRAD MINIMIZATION.  STRATEGY  1.  CONVERGENCE WHEN EDM .LT. 1.00e-03\n",
      "frac=0.6256, \n",
      "prevFCN = 2663.416604  frac=0.6216, \n",
      "prevFCN = 2663.407358  frac=0.6236, sigma_g2=4.119, \n",
      "prevFCN = 2663.411098  sigma_g2=4.11, \n",
      "prevFCN = 2663.412871   FCN=2663.41 FROM MIGRAD    STATUS=INITIATE        4 CALLS           5 TOTAL\n",
      "                     EDM= unknown      STRATEGY= 1      NO ERROR MATRIX       \n",
      "  EXT PARAMETER               CURRENT GUESS       STEP         FIRST   \n",
      "  NO.   NAME      VALUE            ERROR          SIZE      DERIVATIVE \n",
      "   1  frac         6.23602e-01   1.64221e-01   3.47361e-01   1.12030e+00\n",
      "   2  sigma_g2     4.11458e+00   4.05667e-01   2.84513e-01  -2.62204e-01\n",
      "                               ERR DEF= 0.5\n",
      "frac=0.6114, sigma_g2=4.12, \n",
      "prevFCN = 2663.40188  frac=0.6145, sigma_g2=4.119, \n",
      "prevFCN = 2663.400668  frac=0.6171, \n",
      "prevFCN = 2663.402019  frac=0.6119, \n",
      "prevFCN = 2663.400585  frac=0.6145, sigma_g2=4.125, \n",
      "prevFCN = 2663.405086  sigma_g2=4.113, \n",
      "prevFCN = 2663.397545  frac=0.6099, sigma_g2=4.107, \n",
      "prevFCN = 2663.392779  frac=0.5917, sigma_g2=4.06, \n",
      "prevFCN = 2663.36935  frac=0.5679, sigma_g2=4, \n",
      "prevFCN = 2663.359581  frac=0.5705, \n",
      "prevFCN = 2663.362149  frac=0.5652, \n",
      "prevFCN = 2663.358084  frac=0.5679, sigma_g2=4.006, \n",
      "prevFCN = 2663.358142  sigma_g2=3.994, \n",
      "prevFCN = 2663.362488  frac=0.5657, sigma_g2=4.005, \n",
      "prevFCN = 2663.357758  frac=0.5655, sigma_g2=4.005, \n",
      "prevFCN = 2663.357745  frac=0.5684, \n",
      "prevFCN = 2663.358486  frac=0.5626, \n",
      "prevFCN = 2663.358279  frac=0.5655, sigma_g2=4.011, \n",
      "prevFCN = 2663.358482  sigma_g2=4, \n",
      "prevFCN = 2663.358285  frac=0.563, sigma_g2=4, \n",
      "prevFCN = 2663.35765  frac=0.5627, sigma_g2=4, \n",
      "prevFCN = 2663.357649  frac=0.5656, \n",
      "prevFCN = 2663.358284  frac=0.5599, \n",
      "prevFCN = 2663.358273  frac=0.5627, sigma_g2=4.006, \n",
      "prevFCN = 2663.358284  sigma_g2=3.994, \n",
      "prevFCN = 2663.358294   MIGRAD MINIMIZATION HAS CONVERGED.\n",
      " MIGRAD WILL VERIFY CONVERGENCE AND ERROR MATRIX.\n",
      "sigma_g2=4, \n",
      "prevFCN = 2663.357649  frac=0.5656, \n",
      "prevFCN = 2663.358284  frac=0.5599, \n",
      "prevFCN = 2663.358273  frac=0.5627, sigma_g2=4.006, \n",
      "prevFCN = 2663.358284  sigma_g2=3.994, \n",
      "prevFCN = 2663.358294  frac=0.5633, sigma_g2=4, \n",
      "prevFCN = 2663.357675  frac=0.5622, \n",
      "prevFCN = 2663.357673  frac=0.5629, \n",
      "prevFCN = 2663.35765  frac=0.5626, \n",
      "prevFCN = 2663.35765  frac=0.5627, sigma_g2=4.001, \n",
      "prevFCN = 2663.357674  sigma_g2=3.999, \n",
      "prevFCN = 2663.357676  sigma_g2=4, \n",
      "prevFCN = 2663.35765  sigma_g2=4, \n",
      "prevFCN = 2663.35765  frac=0.5656, sigma_g2=4.006, \n",
      "prevFCN = 2663.357755   COVARIANCE MATRIX CALCULATED SUCCESSFULLY\n",
      " FCN=2663.36 FROM MIGRAD    STATUS=CONVERGED      43 CALLS          44 TOTAL\n",
      "                     EDM=2.18458e-08    STRATEGY= 1      ERROR MATRIX ACCURATE \n",
      "  EXT PARAMETER                                   STEP         FIRST   \n",
      "  NO.   NAME      VALUE            ERROR          SIZE      DERIVATIVE \n",
      "   1  frac         5.62746e-01   1.97970e-01   5.79755e-03   8.85257e-04\n",
      "   2  sigma_g2     3.99992e+00   3.91591e-01   3.99496e-03  -1.08015e-03\n",
      "                               ERR DEF= 0.5\n",
      " EXTERNAL ERROR MATRIX.    NDIM=  25    NPAR=  2    ERR DEF=0.5\n",
      "  4.147e-02  7.412e-02 \n",
      "  7.412e-02  1.574e-01 \n",
      " PARAMETER  CORRELATION COEFFICIENTS  \n",
      "       NO.  GLOBAL      1      2\n",
      "        1  0.91737   1.000  0.917\n",
      "        2  0.91737   0.917  1.000\n",
      "frac=0.5627, sigma_g2=4,  **********\n",
      " **   23 **SET ERR         0.5\n",
      " **********\n",
      " **********\n",
      " **   24 **SET PRINT           1\n",
      " **********\n",
      " **********\n",
      " **   25 **HESSE        1000\n",
      " **********\n",
      "\n",
      "prevFCN = 2663.357649  frac=0.5629, \n",
      "prevFCN = 2663.35765  frac=0.5626, \n",
      "prevFCN = 2663.35765  frac=0.5627, sigma_g2=4, \n",
      "prevFCN = 2663.35765  sigma_g2=4, \n",
      "prevFCN = 2663.35765  frac=0.5628, sigma_g2=4, \n",
      "prevFCN = 2663.357649  frac=0.5627, \n",
      "prevFCN = 2663.357649  frac=0.5627, sigma_g2=4, \n",
      "prevFCN = 2663.357649  sigma_g2=4, \n",
      "prevFCN = 2663.357649  frac=0.5629, sigma_g2=4, \n",
      "prevFCN = 2663.357649   COVARIANCE MATRIX CALCULATED SUCCESSFULLY\n",
      " FCN=2663.36 FROM HESSE     STATUS=OK             10 CALLS          54 TOTAL\n",
      "                     EDM=2.18358e-08    STRATEGY= 1      ERROR MATRIX ACCURATE \n",
      "  EXT PARAMETER                                INTERNAL      INTERNAL  \n",
      "  NO.   NAME      VALUE            ERROR       STEP SIZE       VALUE   \n",
      "   1  frac         5.62746e-01   1.97958e-01   2.31902e-04   1.25824e-01\n",
      "   2  sigma_g2     3.99992e+00   3.91567e-01   1.59798e-04  -3.39892e-01\n",
      "                               ERR DEF= 0.5\n",
      " EXTERNAL ERROR MATRIX.    NDIM=  25    NPAR=  2    ERR DEF=0.5\n",
      "  4.146e-02  7.411e-02 \n",
      "  7.411e-02  1.574e-01 \n",
      " PARAMETER  CORRELATION COEFFICIENTS  \n",
      "       NO.  GLOBAL      1      2\n",
      "        1  0.91736   1.000  0.917\n",
      "        2  0.91736   0.917  1.000\n",
      "frac=0.5627, sigma_g2=4, RooRealVar::frac = 0.5627 +/- 0.198  L(0 - 1) \n"
     ]
    }
   ],
   "source": [
    "m.migrad();\n",
    "m.hesse();\n",
    "frac.Print();"
   ]
  },
  {
   "cell_type": "markdown",
   "metadata": {},
   "source": [
    "Now fix sigma_g2"
   ]
  },
  {
   "cell_type": "code",
   "execution_count": 21,
   "metadata": {
    "collapsed": false
   },
   "outputs": [],
   "source": [
    "sigma_g2.setConstant(kTRUE);"
   ]
  },
  {
   "cell_type": "markdown",
   "metadata": {},
   "source": [
    "Rerun migrad,hesse"
   ]
  },
  {
   "cell_type": "code",
   "execution_count": 22,
   "metadata": {
    "collapsed": false
   },
   "outputs": [
    {
     "name": "stdout",
     "output_type": "stream",
     "text": [
      " **********\n",
      " **   26 **SET PRINT           1\n",
      " **********\n",
      " **********\n",
      " **   27 **SET NOGRAD\n",
      " **********\n",
      " PARAMETER DEFINITIONS:\n",
      "    NO.   NAME         VALUE      STEP SIZE      LIMITS\n",
      "     1 frac         5.62746e-01  1.97958e-01    0.00000e+00  1.00000e+00\n",
      "     2 sigma_g2     3.99992e+00  3.99992e-01     no limits\n",
      " **********\n",
      " **   28 **FIX           2\n",
      " **********\n",
      " **********\n",
      " **   29 **SET ERR         0.5\n",
      " **********\n",
      " **********\n",
      " **   30 **SET PRINT           1\n",
      " **********\n",
      " **********\n",
      " **   31 **SET STR           1\n",
      " **********\n",
      " NOW USING STRATEGY  1: TRY TO BALANCE SPEED AGAINST RELIABILITY\n",
      " **********\n",
      " **   32 **MIGRAD        1000           1\n",
      " **********\n",
      " FIRST CALL TO USER FUNCTION AT NEW START POINT, WITH IFLAG=4.\n",
      "\n",
      "prevFCN = 2663.357649   START MIGRAD MINIMIZATION.  STRATEGY  1.  CONVERGENCE WHEN EDM .LT. 1.00e-03\n",
      "frac=0.57, \n",
      "prevFCN = 2663.361693  frac=0.5555, \n",
      "prevFCN = 2663.361647  frac=0.5656, \n",
      "prevFCN = 2663.35829  frac=0.5599, \n",
      "prevFCN = 2663.358278   FCN=2663.36 FROM MIGRAD    STATUS=INITIATE        4 CALLS           5 TOTAL\n",
      "                     EDM= unknown      STRATEGY= 1      NO ERROR MATRIX       \n",
      "  EXT PARAMETER               CURRENT GUESS       STEP         FIRST   \n",
      "  NO.   NAME      VALUE            ERROR          SIZE      DERIVATIVE \n",
      "   1  frac         5.62746e-01   1.97958e-01   4.11168e-01   9.90768e-04\n",
      "   2  sigma_g2     3.99992e+00     fixed    \n",
      "                               ERR DEF= 0.5\n",
      "frac=0.5627, \n",
      "prevFCN = 2663.357649  frac=0.5627, \n",
      "prevFCN = 2663.357649  frac=0.5627, \n",
      "prevFCN = 2663.357649  frac=0.5656, \n",
      "prevFCN = 2663.358285  frac=0.5598, \n",
      "prevFCN = 2663.358284   MIGRAD MINIMIZATION HAS CONVERGED.\n",
      " MIGRAD WILL VERIFY CONVERGENCE AND ERROR MATRIX.\n",
      "frac=0.5627, \n",
      "prevFCN = 2663.357649  frac=0.5656, \n",
      "prevFCN = 2663.358285  frac=0.5598, \n",
      "prevFCN = 2663.358284  frac=0.5633, \n",
      "prevFCN = 2663.357675  frac=0.5622, \n",
      "prevFCN = 2663.357674  frac=0.5629, \n",
      "prevFCN = 2663.35765  frac=0.5626, \n",
      "prevFCN = 2663.35765   COVARIANCE MATRIX CALCULATED SUCCESSFULLY\n",
      " FCN=2663.36 FROM MIGRAD    STATUS=CONVERGED      16 CALLS          17 TOTAL\n",
      "                     EDM=4.46423e-13    STRATEGY= 1      ERROR MATRIX ACCURATE \n",
      "  EXT PARAMETER                                   STEP         FIRST   \n",
      "  NO.   NAME      VALUE            ERROR          SIZE      DERIVATIVE \n",
      "   1  frac         5.62735e-01   8.06976e-02   5.82383e-03   4.08886e-06\n",
      "   2  sigma_g2     3.99992e+00     fixed    \n",
      "                               ERR DEF= 0.5\n",
      " EXTERNAL ERROR MATRIX.    NDIM=  25    NPAR=  1    ERR DEF=0.5\n",
      "  6.570e-03 \n",
      "frac=0.5627,  **********\n",
      " **   33 **SET ERR         0.5\n",
      " **********\n",
      " **********\n",
      " **   34 **SET PRINT           1\n",
      " **********\n",
      " **********\n",
      " **   35 **HESSE        1000\n",
      " **********\n",
      "\n",
      "prevFCN = 2663.357649  frac=0.5633, \n",
      "prevFCN = 2663.357675  frac=0.5622, \n",
      "prevFCN = 2663.357674  frac=0.5629, \n",
      "prevFCN = 2663.35765  frac=0.5626, \n",
      "prevFCN = 2663.35765  frac=0.5628, \n",
      "prevFCN = 2663.357649  frac=0.5627, \n",
      "prevFCN = 2663.357649   COVARIANCE MATRIX CALCULATED SUCCESSFULLY\n",
      " FCN=2663.36 FROM HESSE     STATUS=OK              7 CALLS          24 TOTAL\n",
      "                     EDM=4.63606e-16    STRATEGY= 1      ERROR MATRIX ACCURATE \n",
      "  EXT PARAMETER                                INTERNAL      INTERNAL  \n",
      "  NO.   NAME      VALUE            ERROR       STEP SIZE       VALUE   \n",
      "   1  frac         5.62735e-01   8.06973e-02   1.16477e-03   1.25801e-01\n",
      "   2  sigma_g2     3.99992e+00     fixed    \n",
      "                               ERR DEF= 0.5\n",
      " EXTERNAL ERROR MATRIX.    NDIM=  25    NPAR=  1    ERR DEF=0.5\n",
      "  6.570e-03 \n",
      "frac=0.5627, RooRealVar::frac = 0.5627 +/- 0.0807  L(0 - 1) \n"
     ]
    }
   ],
   "source": [
    "m.migrad();\n",
    "m.hesse();\n",
    "frac.Print();\n",
    "\n",
    "new TCanvas(\"rf601_intminuit\", \"rf601_intminuit\", 600, 600);\n",
    "gPad->SetLeftMargin(0.15);\n",
    "frame->GetYaxis()->SetTitleOffset(1.4);\n",
    "frame->Draw();"
   ]
  },
  {
   "cell_type": "markdown",
   "metadata": {},
   "source": [
    "Draw all canvases "
   ]
  },
  {
   "cell_type": "code",
   "execution_count": 23,
   "metadata": {
    "collapsed": false
   },
   "outputs": [
    {
     "data": {
      "text/html": [
       "\n",
       "<div id=\"root_plot_1\"\n",
       "     style=\"width: 596px; height: 572px\">\n",
       "</div>\n",
       "\n",
       "<script>\n",
       " requirejs.config({\n",
       "     paths: {\n",
       "       'JSRootCore' : 'https://root.cern.ch/js/notebook//scripts/JSRootCore',\n",
       "     }\n",
       "   });\n",
       " require(['JSRootCore'],\n",
       "     function(Core) {\n",
       "       var obj = Core.JSONR_unref({\"_typename\":\"TCanvas\",\"fUniqueID\":0,\"fBits\":53673992,\"fLineColor\":1,\"fLineStyle\":1,\"fLineWidth\":1,\"fFillColor\":0,\"fFillStyle\":1001,\"fLeftMargin\":0.15,\"fRightMargin\":0.1,\"fBottomMargin\":0.1,\"fTopMargin\":0.1,\"fXfile\":2,\"fYfile\":2,\"fAfile\":1,\"fXstat\":0.99,\"fYstat\":0.99,\"fAstat\":2,\"fFrameFillColor\":0,\"fFrameLineColor\":1,\"fFrameFillStyle\":1001,\"fFrameLineStyle\":1,\"fFrameLineWidth\":1,\"fFrameBorderSize\":1,\"fFrameBorderMode\":0,\"fX1\":-0.200000007947286,\"fY1\":2.62499997206032,\"fX2\":1.13333333532015,\"fY2\":6.37500002793968,\"fXtoAbsPixelk\":89.4000528863549,\"fXtoPixelk\":89.4000528863549,\"fXtoPixel\":446.99999666959,\"fYtoAbsPixelk\":972.400039771843,\"fYtoPixelk\":972.400039771843,\"fYtoPixel\":-152.533331060409,\"fUtoAbsPixelk\":5e-5,\"fUtoPixelk\":5e-5,\"fUtoPixel\":596,\"fVtoAbsPixelk\":572.00005,\"fVtoPixelk\":572,\"fVtoPixel\":-572,\"fAbsPixeltoXk\":-0.200000007947286,\"fPixeltoXk\":-0.200000007947286,\"fPixeltoX\":0.00223713648199235,\"fAbsPixeltoYk\":6.37500002793968,\"fPixeltoYk\":2.62499997206032,\"fPixeltoY\":-0.00655594415363524,\"fXlowNDC\":0,\"fYlowNDC\":0,\"fXUpNDC\":0,\"fYUpNDC\":0,\"fWNDC\":1,\"fHNDC\":1,\"fAbsXlowNDC\":0,\"fAbsYlowNDC\":0,\"fAbsWNDC\":1,\"fAbsHNDC\":1,\"fUxmin\":0,\"fUymin\":3,\"fUxmax\":1,\"fUymax\":6,\"fTheta\":30,\"fPhi\":30,\"fAspectRatio\":0,\"fNumber\":0,\"fTickx\":0,\"fTicky\":0,\"fLogx\":0,\"fLogy\":0,\"fLogz\":0,\"fPadPaint\":0,\"fCrosshair\":0,\"fCrosshairPos\":0,\"fBorderSize\":2,\"fBorderMode\":0,\"fModified\":false,\"fGridx\":false,\"fGridy\":false,\"fAbsCoord\":false,\"fEditable\":true,\"fFixedAspectRatio\":false,\"fPrimitives\":{\"_typename\":\"TList\",\"name\":\"TList\",\"arr\":[{\"_typename\":\"TFrame\",\"fUniqueID\":0,\"fBits\":50331656,\"fLineColor\":1,\"fLineStyle\":1,\"fLineWidth\":1,\"fFillColor\":0,\"fFillStyle\":1001,\"fX1\":0,\"fY1\":3,\"fX2\":1,\"fY2\":6,\"fBorderSize\":1,\"fBorderMode\":0},{\"_typename\":\"TH1D\",\"fUniqueID\":0,\"fBits\":50332168,\"fName\":\"frame_7f71cc786650\",\"fTitle\":\"Minuit contour plot\",\"fLineColor\":602,\"fLineStyle\":1,\"fLineWidth\":1,\"fFillColor\":0,\"fFillStyle\":1001,\"fMarkerColor\":1,\"fMarkerStyle\":1,\"fMarkerSize\":1,\"fNcells\":102,\"fXaxis\":{\"_typename\":\"TAxis\",\"fUniqueID\":0,\"fBits\":50331648,\"fName\":\"xaxis\",\"fTitle\":\"frac\",\"fNdivisions\":510,\"fAxisColor\":1,\"fLabelColor\":1,\"fLabelFont\":42,\"fLabelOffset\":0.005,\"fLabelSize\":0.035,\"fTickLength\":0.03,\"fTitleOffset\":1,\"fTitleSize\":0.035,\"fTitleColor\":1,\"fTitleFont\":42,\"fNbins\":100,\"fXmin\":0,\"fXmax\":1,\"fXbins\":[],\"fFirst\":0,\"fLast\":0,\"fBits2\":0,\"fTimeDisplay\":false,\"fTimeFormat\":\"\",\"fLabels\":null,\"fModLabs\":null},\"fYaxis\":{\"_typename\":\"TAxis\",\"fUniqueID\":0,\"fBits\":50331648,\"fName\":\"yaxis\",\"fTitle\":\"width of g2\",\"fNdivisions\":510,\"fAxisColor\":1,\"fLabelColor\":1,\"fLabelFont\":42,\"fLabelOffset\":0.005,\"fLabelSize\":0.035,\"fTickLength\":0.03,\"fTitleOffset\":1.4,\"fTitleSize\":0.035,\"fTitleColor\":1,\"fTitleFont\":42,\"fNbins\":1,\"fXmin\":0,\"fXmax\":1,\"fXbins\":[],\"fFirst\":0,\"fLast\":0,\"fBits2\":0,\"fTimeDisplay\":false,\"fTimeFormat\":\"\",\"fLabels\":null,\"fModLabs\":null},\"fZaxis\":{\"_typename\":\"TAxis\",\"fUniqueID\":0,\"fBits\":50331648,\"fName\":\"zaxis\",\"fTitle\":\"\",\"fNdivisions\":510,\"fAxisColor\":1,\"fLabelColor\":1,\"fLabelFont\":42,\"fLabelOffset\":0.005,\"fLabelSize\":0.035,\"fTickLength\":0.03,\"fTitleOffset\":1,\"fTitleSize\":0.035,\"fTitleColor\":1,\"fTitleFont\":42,\"fNbins\":1,\"fXmin\":0,\"fXmax\":1,\"fXbins\":[],\"fFirst\":0,\"fLast\":0,\"fBits2\":0,\"fTimeDisplay\":false,\"fTimeFormat\":\"\",\"fLabels\":null,\"fModLabs\":null},\"fBarOffset\":0,\"fBarWidth\":1000,\"fEntries\":0,\"fTsumw\":0,\"fTsumw2\":0,\"fTsumwx\":0,\"fTsumwx2\":0,\"fMaximum\":6,\"fMinimum\":3,\"fNormFactor\":0,\"fContour\":[],\"fSumw2\":[],\"fOption\":\"\",\"fFunctions\":{\"_typename\":\"TList\",\"name\":\"TList\",\"arr\":[],\"opt\":[]},\"fBufferSize\":0,\"fBuffer\":[],\"fBinStatErrOpt\":0,\"fStatOverflows\":2,\"fArray\":[0,0,0,0,0,0,0,0,0,0,0,0,0,0,0,0,0,0,0,0,0,0,0,0,0,0,0,0,0,0,0,0,0,0,0,0,0,0,0,0,0,0,0,0,0,0,0,0,0,0,0,0,0,0,0,0,0,0,0,0,0,0,0,0,0,0,0,0,0,0,0,0,0,0,0,0,0,0,0,0,0,0,0,0,0,0,0,0,0,0,0,0,0,0,0,0,0,0,0,0,0,0]},{\"_typename\":\"TMarker\",\"fUniqueID\":0,\"fBits\":50331656,\"fMarkerColor\":1,\"fMarkerStyle\":8,\"fMarkerSize\":1,\"fX\":0.623602044150389,\"fY\":4.11458384791394},{\"_typename\":\"TGraph\",\"fUniqueID\":0,\"fBits\":50332680,\"fName\":\"contour_nll_model_modelData_n1.000000\",\"fTitle\":\"Graph\",\"fLineColor\":600,\"fLineStyle\":1,\"fLineWidth\":2,\"fFillColor\":0,\"fFillStyle\":1000,\"fMarkerColor\":1,\"fMarkerStyle\":1,\"fMarkerSize\":1,\"fNpoints\":51,\"fX\":[0.397199708049375,0.417255498980173,0.444728612890501,0.469531304574484,0.49233132925522,0.513625172506562,0.533409614658408,0.551976655703474,0.569394143528367,0.585722982712532,0.6008314052426,0.614979144892358,0.628214002566338,0.640584645387346,0.652134175039627,0.662912758435019,0.682329927088538,0.698844608619585,0.713134969627688,0.725411596754538,0.735830159033333,0.744472680061094,0.751317566771295,0.756143816940127,0.758179548542719,0.756836986830159,0.744618406070634,0.725403097217103,0.712748592844543,0.700693791160543,0.691093999368171,0.670260415173011,0.651349497984744,0.632334869076974,0.611686983880583,0.592568573699182,0.580876266447702,0.570320688760713,0.550231046318584,0.537769059089335,0.526587745968,0.504883034666852,0.492177323384927,0.480441160297874,0.469120012097714,0.456475861287964,0.445052783646152,0.433191019285231,0.421076304467761,0.411103607628399,0.397199708049375],\"fY\":[3.75561923343028,3.73525258351107,3.74323722194755,3.75749740862656,3.77448220432754,3.79332090518596,3.81338843020982,3.83458736175539,3.85673532767371,3.87969769443646,3.90306296601535,3.92702213566091,3.95149573110767,3.9764173186963,4.00171914616767,4.02735888580302,4.07947952905536,4.13142127962609,4.1840184824099,4.23711765855317,4.2906124399879,4.34442500368082,4.39849563070553,4.45279408800256,4.50726858618632,4.54074773422902,4.57194648596431,4.55125491817006,4.52601145186282,4.50075511490794,4.47446738397577,4.42290401889753,4.37060491699599,4.31848234407224,4.26698493095655,4.21488038017351,4.18970550601453,4.16403326190776,4.11230349501512,4.08750247747289,4.06209834722376,4.0110396080244,3.9863742712773,3.96123314138977,3.93586471488429,3.91112909461242,3.88581586816553,3.86070521938441,3.83559697902241,3.8095636279716,3.75561923343028],\"fFunctions\":{\"_typename\":\"TList\",\"name\":\"TList\",\"arr\":[],\"opt\":[]},\"fHistogram\":{\"_typename\":\"TH1F\",\"fUniqueID\":0,\"fBits\":50332168,\"fName\":\"contour_nll_model_modelData_n1.000000\",\"fTitle\":\"Graph\",\"fLineColor\":602,\"fLineStyle\":1,\"fLineWidth\":1,\"fFillColor\":0,\"fFillStyle\":1001,\"fMarkerColor\":1,\"fMarkerStyle\":1,\"fMarkerSize\":1,\"fNcells\":102,\"fXaxis\":{\"_typename\":\"TAxis\",\"fUniqueID\":0,\"fBits\":50331648,\"fName\":\"xaxis\",\"fTitle\":\"\",\"fNdivisions\":510,\"fAxisColor\":1,\"fLabelColor\":1,\"fLabelFont\":42,\"fLabelOffset\":0.005,\"fLabelSize\":0.035,\"fTickLength\":0.03,\"fTitleOffset\":1,\"fTitleSize\":0.035,\"fTitleColor\":1,\"fTitleFont\":42,\"fNbins\":100,\"fXmin\":0.36110172400004,\"fXmax\":0.794277532592054,\"fXbins\":[],\"fFirst\":0,\"fLast\":0,\"fBits2\":0,\"fTimeDisplay\":false,\"fTimeFormat\":\"\",\"fLabels\":null,\"fModLabs\":null},\"fYaxis\":{\"_typename\":\"TAxis\",\"fUniqueID\":0,\"fBits\":50331648,\"fName\":\"yaxis\",\"fTitle\":\"\",\"fNdivisions\":510,\"fAxisColor\":1,\"fLabelColor\":1,\"fLabelFont\":42,\"fLabelOffset\":0.005,\"fLabelSize\":0.035,\"fTickLength\":0.03,\"fTitleOffset\":0,\"fTitleSize\":0.035,\"fTitleColor\":1,\"fTitleFont\":42,\"fNbins\":1,\"fXmin\":3.65158319326575,\"fXmax\":4.65561587620963,\"fXbins\":[],\"fFirst\":0,\"fLast\":0,\"fBits2\":0,\"fTimeDisplay\":false,\"fTimeFormat\":\"\",\"fLabels\":null,\"fModLabs\":null},\"fZaxis\":{\"_typename\":\"TAxis\",\"fUniqueID\":0,\"fBits\":50331648,\"fName\":\"zaxis\",\"fTitle\":\"\",\"fNdivisions\":510,\"fAxisColor\":1,\"fLabelColor\":1,\"fLabelFont\":42,\"fLabelOffset\":0.005,\"fLabelSize\":0.035,\"fTickLength\":0.03,\"fTitleOffset\":1,\"fTitleSize\":0.035,\"fTitleColor\":1,\"fTitleFont\":42,\"fNbins\":1,\"fXmin\":0,\"fXmax\":1,\"fXbins\":[],\"fFirst\":0,\"fLast\":0,\"fBits2\":0,\"fTimeDisplay\":false,\"fTimeFormat\":\"\",\"fLabels\":null,\"fModLabs\":null},\"fBarOffset\":0,\"fBarWidth\":1000,\"fEntries\":0,\"fTsumw\":0,\"fTsumw2\":0,\"fTsumwx\":0,\"fTsumwx2\":0,\"fMaximum\":4.65561587620963,\"fMinimum\":3.65158319326575,\"fNormFactor\":0,\"fContour\":[],\"fSumw2\":[],\"fOption\":\"\",\"fFunctions\":{\"_typename\":\"TList\",\"name\":\"TList\",\"arr\":[],\"opt\":[]},\"fBufferSize\":0,\"fBuffer\":[],\"fBinStatErrOpt\":0,\"fStatOverflows\":2,\"fArray\":[0,0,0,0,0,0,0,0,0,0,0,0,0,0,0,0,0,0,0,0,0,0,0,0,0,0,0,0,0,0,0,0,0,0,0,0,0,0,0,0,0,0,0,0,0,0,0,0,0,0,0,0,0,0,0,0,0,0,0,0,0,0,0,0,0,0,0,0,0,0,0,0,0,0,0,0,0,0,0,0,0,0,0,0,0,0,0,0,0,0,0,0,0,0,0,0,0,0,0,0,0,0]},\"fMinimum\":-1111,\"fMaximum\":-1111},{\"_typename\":\"TGraph\",\"fUniqueID\":0,\"fBits\":50332680,\"fName\":\"contour_nll_model_modelData_n2.000000\",\"fTitle\":\"Graph\",\"fLineColor\":600,\"fLineStyle\":2,\"fLineWidth\":2,\"fFillColor\":0,\"fFillStyle\":1000,\"fMarkerColor\":1,\"fMarkerStyle\":1,\"fMarkerSize\":1,\"fNpoints\":51,\"fX\":[0,1.79301018476963e-14,0.0629323996407862,0.121781302572808,0.181459756638894,0.240096360282621,0.297491552493226,0.353199790493766,0.406779892433412,0.45769154002555,0.505681525508683,0.549907119968892,0.590007792225004,0.62583984488303,0.657414078858293,0.685064694399917,0.709146687667728,0.730072429181809,0.762457951216567,0.787301959613247,0.806404609913293,0.821061326615823,0.832131589801361,0.840161170400087,0.845340039912973,0.847334995227853,0.845295471389953,0.826036769667562,0.797220716014953,0.779648500738246,0.748366503424385,0.72076847428307,0.685885834048267,0.660730346252605,0.634140625930751,0.605845226650022,0.575573096757922,0.543025713109508,0.50791934957303,0.469939696149945,0.428778365132515,0.384089933894597,0.335632198358956,0.283184164893472,0.226651739227267,0.165943567915173,0.13607894932807,0.101434417449971,0.0682875147491527,0.0312614358799889,0],\"fY\":[3.46423707325313,3.40405826752321,3.40944294680805,3.43238392148751,3.45107441400204,3.47281380459337,3.49785887026456,3.52646054193321,3.55890484489864,3.59539407972523,3.63627458805749,3.68120065468719,3.72983924042666,3.78170290728932,3.83610724708556,3.8926068745176,3.95069932096081,4.0100018341925,4.12460404863687,4.24107406555024,4.35857951465094,4.47672189685287,4.5951294750725,4.71378203990886,4.83259405449717,4.95150215200636,5.0502559979634,5.14713522255134,5.09474892440266,5.03760081479174,4.92283542531582,4.80734356362454,4.69383927850873,4.60846102669568,4.52351850953203,4.43912568663002,4.35542158679242,4.27253019311042,4.19068974731407,4.11013478703949,4.03115820489105,3.95408495026557,3.87932406255129,3.80729404723679,3.73842312326376,3.67292161672415,3.6395445257948,3.61115998681305,3.57887797853893,3.55113064172182,3.46423707325313],\"fFunctions\":{\"_typename\":\"TList\",\"name\":\"TList\",\"arr\":[],\"opt\":[]},\"fHistogram\":{\"_typename\":\"TH1F\",\"fUniqueID\":0,\"fBits\":50332168,\"fName\":\"contour_nll_model_modelData_n2.000000\",\"fTitle\":\"Graph\",\"fLineColor\":602,\"fLineStyle\":1,\"fLineWidth\":1,\"fFillColor\":0,\"fFillStyle\":1001,\"fMarkerColor\":1,\"fMarkerStyle\":1,\"fMarkerSize\":1,\"fNcells\":102,\"fXaxis\":{\"_typename\":\"TAxis\",\"fUniqueID\":0,\"fBits\":50331648,\"fName\":\"xaxis\",\"fTitle\":\"\",\"fNdivisions\":510,\"fAxisColor\":1,\"fLabelColor\":1,\"fLabelFont\":42,\"fLabelOffset\":0.005,\"fLabelSize\":0.035,\"fTickLength\":0.03,\"fTitleOffset\":1,\"fTitleSize\":0.035,\"fTitleColor\":1,\"fTitleFont\":42,\"fNbins\":100,\"fXmin\":0,\"fXmax\":0.932068494750639,\"fXbins\":[],\"fFirst\":0,\"fLast\":0,\"fBits2\":0,\"fTimeDisplay\":false,\"fTimeFormat\":\"\",\"fLabels\":null,\"fModLabs\":null},\"fYaxis\":{\"_typename\":\"TAxis\",\"fUniqueID\":0,\"fBits\":50331648,\"fName\":\"yaxis\",\"fTitle\":\"\",\"fNdivisions\":510,\"fAxisColor\":1,\"fLabelColor\":1,\"fLabelFont\":42,\"fLabelOffset\":0.005,\"fLabelSize\":0.035,\"fTickLength\":0.03,\"fTitleOffset\":0,\"fTitleSize\":0.035,\"fTitleColor\":1,\"fTitleFont\":42,\"fNbins\":1,\"fXmin\":3.2297505720204,\"fXmax\":5.32144291805415,\"fXbins\":[],\"fFirst\":0,\"fLast\":0,\"fBits2\":0,\"fTimeDisplay\":false,\"fTimeFormat\":\"\",\"fLabels\":null,\"fModLabs\":null},\"fZaxis\":{\"_typename\":\"TAxis\",\"fUniqueID\":0,\"fBits\":50331648,\"fName\":\"zaxis\",\"fTitle\":\"\",\"fNdivisions\":510,\"fAxisColor\":1,\"fLabelColor\":1,\"fLabelFont\":42,\"fLabelOffset\":0.005,\"fLabelSize\":0.035,\"fTickLength\":0.03,\"fTitleOffset\":1,\"fTitleSize\":0.035,\"fTitleColor\":1,\"fTitleFont\":42,\"fNbins\":1,\"fXmin\":0,\"fXmax\":1,\"fXbins\":[],\"fFirst\":0,\"fLast\":0,\"fBits2\":0,\"fTimeDisplay\":false,\"fTimeFormat\":\"\",\"fLabels\":null,\"fModLabs\":null},\"fBarOffset\":0,\"fBarWidth\":1000,\"fEntries\":0,\"fTsumw\":0,\"fTsumw2\":0,\"fTsumwx\":0,\"fTsumwx2\":0,\"fMaximum\":5.32144291805415,\"fMinimum\":3.2297505720204,\"fNormFactor\":0,\"fContour\":[],\"fSumw2\":[],\"fOption\":\"\",\"fFunctions\":{\"_typename\":\"TList\",\"name\":\"TList\",\"arr\":[],\"opt\":[]},\"fBufferSize\":0,\"fBuffer\":[],\"fBinStatErrOpt\":0,\"fStatOverflows\":2,\"fArray\":[0,0,0,0,0,0,0,0,0,0,0,0,0,0,0,0,0,0,0,0,0,0,0,0,0,0,0,0,0,0,0,0,0,0,0,0,0,0,0,0,0,0,0,0,0,0,0,0,0,0,0,0,0,0,0,0,0,0,0,0,0,0,0,0,0,0,0,0,0,0,0,0,0,0,0,0,0,0,0,0,0,0,0,0,0,0,0,0,0,0,0,0,0,0,0,0,0,0,0,0,0,0]},\"fMinimum\":-1111,\"fMaximum\":-1111},{\"_typename\":\"TGraph\",\"fUniqueID\":0,\"fBits\":50332680,\"fName\":\"contour_nll_model_modelData_n3.000000\",\"fTitle\":\"Graph\",\"fLineColor\":600,\"fLineStyle\":3,\"fLineWidth\":2,\"fFillColor\":0,\"fFillStyle\":1000,\"fMarkerColor\":1,\"fMarkerStyle\":1,\"fMarkerSize\":1,\"fNpoints\":51,\"fX\":[0,0,0.0428188588217649,0.0837149986948391,0.126474175704167,0.166526360249601,0.248051083181052,0.327658289698609,0.404858537762075,0.477969861077411,0.545507103820354,0.60589932503,0.657916726476165,0.701725788738532,0.73794405368406,0.767668877192032,0.811992646455007,0.842434331098667,0.862467605408207,0.877217089918444,0.888185933716251,0.896341625658158,0.902302740067078,0.906451552788051,0.908981569122368,0.909872233198394,0.907563089663497,0.885618088113621,0.844334507467462,0.816567361863006,0.791888351853664,0.759290558528312,0.735538336063555,0.709973283362586,0.682240448029217,0.651950732739377,0.618642487653655,0.581814171394333,0.540857827842069,0.495075960306333,0.443621092445789,0.385663265004094,0.32028116060843,0.284559561205147,0.244941513475297,0.205597398263962,0.162198545169469,0.116583709757846,0.0688050742987293,0,0],\"fY\":[3.46424512547337,3.28837763586629,3.29497276308567,3.3092715783275,3.31675989893257,3.33350040899462,3.3618321352538,3.39517369838971,3.4347935632623,3.48153055499972,3.53611549295768,3.59851400437069,3.66753449438031,3.74203552899105,3.82043110038601,3.90151169730924,4.06758464903416,4.23675357541357,4.39419910881226,4.55222721002671,4.71054661421651,4.86903583771838,5.02757924954669,5.18618043388075,5.3448152262177,5.5034676924448,5.72284261683762,5.94112936976412,5.77982838561386,5.61565979195542,5.45109456401128,5.28791321809923,5.16555926695912,5.04357121216683,4.92205405183517,4.80114886766859,4.68097449441663,4.56183174684593,4.44403040609328,4.32801920592178,4.21428444901951,4.10372184868648,3.99727169557532,3.94597309835863,3.89762034213519,3.84680666605027,3.79940910673433,3.75419038555641,3.71126431016789,3.59733724934567,3.46424512547337],\"fFunctions\":{\"_typename\":\"TList\",\"name\":\"TList\",\"arr\":[],\"opt\":[]},\"fHistogram\":{\"_typename\":\"TH1F\",\"fUniqueID\":0,\"fBits\":50332168,\"fName\":\"contour_nll_model_modelData_n3.000000\",\"fTitle\":\"Graph\",\"fLineColor\":602,\"fLineStyle\":1,\"fLineWidth\":1,\"fFillColor\":0,\"fFillStyle\":1001,\"fMarkerColor\":1,\"fMarkerStyle\":1,\"fMarkerSize\":1,\"fNcells\":102,\"fXaxis\":{\"_typename\":\"TAxis\",\"fUniqueID\":0,\"fBits\":50331648,\"fName\":\"xaxis\",\"fTitle\":\"\",\"fNdivisions\":510,\"fAxisColor\":1,\"fLabelColor\":1,\"fLabelFont\":42,\"fLabelOffset\":0.005,\"fLabelSize\":0.035,\"fTickLength\":0.03,\"fTitleOffset\":1,\"fTitleSize\":0.035,\"fTitleColor\":1,\"fTitleFont\":42,\"fNbins\":100,\"fXmin\":0,\"fXmax\":1.00085945651823,\"fXbins\":[],\"fFirst\":0,\"fLast\":0,\"fBits2\":0,\"fTimeDisplay\":false,\"fTimeFormat\":\"\",\"fLabels\":null,\"fModLabs\":null},\"fYaxis\":{\"_typename\":\"TAxis\",\"fUniqueID\":0,\"fBits\":50331648,\"fName\":\"yaxis\",\"fTitle\":\"\",\"fNdivisions\":510,\"fAxisColor\":1,\"fLabelColor\":1,\"fLabelFont\":42,\"fLabelOffset\":0.005,\"fLabelSize\":0.035,\"fTickLength\":0.03,\"fTitleOffset\":0,\"fTitleSize\":0.035,\"fTitleColor\":1,\"fTitleFont\":42,\"fNbins\":1,\"fXmin\":3.02310246247651,\"fXmax\":6.2064045431539,\"fXbins\":[],\"fFirst\":0,\"fLast\":0,\"fBits2\":0,\"fTimeDisplay\":false,\"fTimeFormat\":\"\",\"fLabels\":null,\"fModLabs\":null},\"fZaxis\":{\"_typename\":\"TAxis\",\"fUniqueID\":0,\"fBits\":50331648,\"fName\":\"zaxis\",\"fTitle\":\"\",\"fNdivisions\":510,\"fAxisColor\":1,\"fLabelColor\":1,\"fLabelFont\":42,\"fLabelOffset\":0.005,\"fLabelSize\":0.035,\"fTickLength\":0.03,\"fTitleOffset\":1,\"fTitleSize\":0.035,\"fTitleColor\":1,\"fTitleFont\":42,\"fNbins\":1,\"fXmin\":0,\"fXmax\":1,\"fXbins\":[],\"fFirst\":0,\"fLast\":0,\"fBits2\":0,\"fTimeDisplay\":false,\"fTimeFormat\":\"\",\"fLabels\":null,\"fModLabs\":null},\"fBarOffset\":0,\"fBarWidth\":1000,\"fEntries\":0,\"fTsumw\":0,\"fTsumw2\":0,\"fTsumwx\":0,\"fTsumwx2\":0,\"fMaximum\":6.2064045431539,\"fMinimum\":3.02310246247651,\"fNormFactor\":0,\"fContour\":[],\"fSumw2\":[],\"fOption\":\"\",\"fFunctions\":{\"_typename\":\"TList\",\"name\":\"TList\",\"arr\":[],\"opt\":[]},\"fBufferSize\":0,\"fBuffer\":[],\"fBinStatErrOpt\":0,\"fStatOverflows\":2,\"fArray\":[0,0,0,0,0,0,0,0,0,0,0,0,0,0,0,0,0,0,0,0,0,0,0,0,0,0,0,0,0,0,0,0,0,0,0,0,0,0,0,0,0,0,0,0,0,0,0,0,0,0,0,0,0,0,0,0,0,0,0,0,0,0,0,0,0,0,0,0,0,0,0,0,0,0,0,0,0,0,0,0,0,0,0,0,0,0,0,0,0,0,0,0,0,0,0,0,0,0,0,0,0,0]},\"fMinimum\":-1111,\"fMaximum\":-1111},{\"$ref\":3},{\"_typename\":\"TPaveText\",\"fUniqueID\":0,\"fBits\":50331657,\"fLineColor\":1,\"fLineStyle\":1,\"fLineWidth\":1,\"fFillColor\":0,\"fFillStyle\":0,\"fX1\":0.160268451112762,\"fY1\":6.12810318899517,\"fX2\":0.773064876260107,\"fY2\":6.35625004554168,\"fX1NDC\":0.270201342281879,\"fY1NDC\":0.934160843929211,\"fX2NDC\":0.729798657718121,\"fY2NDC\":0.995000004768372,\"fBorderSize\":0,\"fInit\":1,\"fShadowColor\":1,\"fCornerRadius\":0,\"fOption\":\"blNDC\",\"fName\":\"title\",\"fTextAngle\":0,\"fTextSize\":0,\"fTextAlign\":22,\"fTextColor\":1,\"fTextFont\":42,\"fLabel\":\"\",\"fLongest\":19,\"fMargin\":0.05,\"fLines\":{\"_typename\":\"TList\",\"name\":\"TList\",\"arr\":[{\"_typename\":\"TLatex\",\"fUniqueID\":0,\"fBits\":50331648,\"fName\":\"\",\"fTitle\":\"Minuit contour plot\",\"fTextAngle\":0,\"fTextSize\":0,\"fTextAlign\":0,\"fTextColor\":0,\"fTextFont\":0,\"fX\":0,\"fY\":0,\"fLineColor\":1,\"fLineStyle\":1,\"fLineWidth\":2,\"fLimitFactorSize\":3,\"fOriginSize\":0.0517132878303528}],\"opt\":[\"\"]}}],\"opt\":[\"\",\"FUNC\",\"\",\"l\",\"l\",\"l\",\"AXISSAME\",\"blNDC\"]},\"fExecs\":null,\"fName\":\"rf601_intminuit\",\"fTitle\":\"rf601_intminuit\",\"fNumPaletteColor\":0,\"fNextPaletteColor\":0,\"fDISPLAY\":\"$DISPLAY\",\"fDoubleBuffer\":0,\"fRetained\":true,\"fXsizeUser\":0,\"fYsizeUser\":0,\"fXsizeReal\":20,\"fYsizeReal\":20,\"fWindowTopX\":0,\"fWindowTopY\":0,\"fWindowWidth\":0,\"fWindowHeight\":0,\"fCw\":596,\"fCh\":572,\"fCatt\":{\"_typename\":\"TAttCanvas\",\"fXBetween\":2,\"fYBetween\":2,\"fTitleFromTop\":1.2,\"fXdate\":0.2,\"fYdate\":0.3,\"fAdate\":1},\"kMoveOpaque\":true,\"kResizeOpaque\":true,\"fHighLightColor\":2,\"fBatch\":true,\"kShowEventStatus\":false,\"kAutoExec\":true,\"kMenuBar\":true});\n",
       "       Core.draw(\"root_plot_1\", obj, \"\");\n",
       "     }\n",
       " );\n",
       "</script>\n"
      ],
      "text/plain": [
       "<IPython.core.display.HTML object>"
      ]
     },
     "metadata": {},
     "output_type": "display_data"
    }
   ],
   "source": [
    "%jsroot on\n",
    "gROOT->GetListOfCanvases()->Draw()"
   ]
  }
 ],
 "metadata": {
  "kernelspec": {
   "display_name": "ROOT C++",
   "language": "c++",
   "name": "root"
  },
  "language_info": {
   "codemirror_mode": "text/x-c++src",
   "file_extension": ".C",
   "mimetype": " text/x-c++src",
   "name": "c++"
  }
 },
 "nbformat": 4,
 "nbformat_minor": 2
}
