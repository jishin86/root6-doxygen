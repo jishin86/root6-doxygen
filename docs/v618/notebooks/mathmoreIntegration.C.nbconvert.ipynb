{
 "cells": [
  {
   "cell_type": "markdown",
   "metadata": {},
   "source": [
    "# Mathmore Integration\n",
    "Example on the  usage of the adaptive 1D integration algorithm of MathMore\n",
    "it calculates the numerically cumulative integral of a distribution (like in this case the BreitWigner)\n",
    "to execute the macro type it (you need to compile with AClic)\n",
    "\n",
    "```cpp\n",
    "root[0] .x mathmoreIntegration.C+\n",
    "```\n",
    "\n",
    "This tutorials require having libMathMore built with ROOT.\n",
    "\n",
    "To build mathmore you need to have a version of GSL >= 1.8 installed in your system\n",
    "The ROOT configure will automatically find GSL if the script gsl-config (from GSL) is in your PATH,.\n",
    "otherwise you need to configure root with the options --gsl-incdir and --gsl-libdir.\n",
    "\n",
    "\n",
    "\n",
    "\n",
    "**Author:**  M. Slawinska, L. Moneta  \n",
    "<i><small>This notebook tutorial was automatically generated with <a href= \"https://github.com/root-project/root/blob/master/documentation/doxygen/converttonotebook.py\">ROOTBOOK-izer</a> from the macro found in the ROOT repository  on Thursday, August 29, 2019 at 02:11 AM.</small></i>"
   ]
  },
  {
   "cell_type": "code",
   "execution_count": 1,
   "metadata": {
    "collapsed": false
   },
   "outputs": [],
   "source": [
    "%%cpp -d\n",
    "#include \"TMath.h\"\n",
    "#include \"TH1.h\"\n",
    "#include \"TCanvas.h\"\n",
    "#include \"TLegend.h\"\n",
    "\n",
    "/*#include \"TLabel.h\"*/\n",
    "#include \"Math/Functor.h\"\n",
    "#include \"Math/WrappedFunction.h\"\n",
    "#include \"Math/IFunction.h\"\n",
    "#include \"Math/Integrator.h\"\n",
    "#include <iostream>\n",
    "\n",
    "#include \"TStopwatch.h\"\n",
    "#include \"TF1.h\"\n",
    "\n",
    "#include <limits>"
   ]
  },
  {
   "cell_type": "markdown",
   "metadata": {},
   "source": [
    "!calculates exact integral of breit wigner distribution\n",
    "!and compares with existing methods"
   ]
  },
  {
   "cell_type": "code",
   "execution_count": 2,
   "metadata": {
    "collapsed": false
   },
   "outputs": [],
   "source": [
    "int nc = 0;"
   ]
  },
  {
   "cell_type": "markdown",
   "metadata": {},
   "source": [
    " A helper function is created: "
   ]
  },
  {
   "cell_type": "code",
   "execution_count": 3,
   "metadata": {
    "collapsed": false
   },
   "outputs": [],
   "source": [
    "%%cpp -d\n",
    "double exactIntegral( double a, double b) {\n",
    "\n",
    "  return (TMath::ATan(2*b)- TMath::ATan(2*a))/ TMath::Pi();\n",
    "}"
   ]
  },
  {
   "cell_type": "markdown",
   "metadata": {},
   "source": [
    " A helper function is created: "
   ]
  },
  {
   "cell_type": "code",
   "execution_count": 4,
   "metadata": {
    "collapsed": false
   },
   "outputs": [],
   "source": [
    "%%cpp -d\n",
    "double func( double x){\n",
    "   nc++;\n",
    "   return TMath::BreitWigner(x);\n",
    "}"
   ]
  },
  {
   "cell_type": "markdown",
   "metadata": {},
   "source": [
    "  TF1 requires the function to have the ( )( double *, double *) signature\n",
    " "
   ]
  },
  {
   "cell_type": "code",
   "execution_count": 5,
   "metadata": {
    "collapsed": false
   },
   "outputs": [],
   "source": [
    "%%cpp -d\n",
    "double func2(const double *x, const double * = 0){\n",
    "   nc++;\n",
    "   return TMath::BreitWigner(x[0]);\n",
    "}"
   ]
  },
  {
   "cell_type": "markdown",
   "metadata": {},
   "source": [
    " A helper function is created: "
   ]
  },
  {
   "cell_type": "code",
   "execution_count": 6,
   "metadata": {
    "collapsed": false
   },
   "outputs": [],
   "source": [
    "%%cpp -d\n",
    "void  testIntegPerf(double x1, double x2, int n = 100000){\n",
    "\n",
    "\n",
    "   std::cout << \"\\n\\n***************************************************************\\n\";\n",
    "   std::cout << \"Test integration performances in interval [ \" << x1 << \" , \" << x2 << \" ]\\n\\n\";\n",
    "\n",
    "  TStopwatch timer;\n",
    "\n",
    "  double dx = (x2-x1)/double(n);\n",
    "\n",
    "  //ROOT::Math::Functor1D<ROOT::Math::IGenFunction> f1(& TMath::BreitWigner);\n",
    "  ROOT::Math::WrappedFunction<> f1(func);\n",
    "\n",
    "  timer.Start();\n",
    "  ROOT::Math::Integrator ig(f1 );\n",
    "  double s1 = 0.0;\n",
    "  nc = 0;\n",
    "  for (int i = 0; i < n; ++i) {\n",
    "     double x = x1 + dx*i;\n",
    "     s1+= ig.Integral(x1,x);\n",
    "  }\n",
    "  timer.Stop();\n",
    "  std::cout << \"Time using ROOT::Math::Integrator        :\\t\" << timer.RealTime() << std::endl;\n",
    "  std::cout << \"Number of function calls = \" << nc/n << std::endl;\n",
    "  int pr = std::cout.precision(18);  std::cout << s1 << std::endl;  std::cout.precision(pr);\n",
    "\n",
    "\n",
    "\n",
    "  //TF1 *fBW = new TF1(\"fBW\",\"TMath::BreitWigner(x)\",x1, x2);  //  this is faster but cannot measure number of function calls\n",
    "  TF1 *fBW = new TF1(\"fBW\",func2,x1, x2,0);\n",
    "\n",
    "  timer.Start();\n",
    "  nc = 0;\n",
    "  double s2 = 0;\n",
    "  for (int i = 0; i < n; ++i) {\n",
    "     double x = x1 + dx*i;\n",
    "     s2+= fBW->Integral(x1,x );\n",
    "  }\n",
    "  timer.Stop();\n",
    "  std::cout << \"Time using TF1::Integral :\\t\\t\\t\" << timer.RealTime() << std::endl;\n",
    "  std::cout << \"Number of function calls = \" << nc/n << std::endl;\n",
    "  pr = std::cout.precision(18);  std::cout << s1 << std::endl;  std::cout.precision(pr);\n",
    "\n",
    "\n",
    "}"
   ]
  },
  {
   "cell_type": "markdown",
   "metadata": {},
   "source": [
    " A helper function is created: "
   ]
  },
  {
   "cell_type": "code",
   "execution_count": 7,
   "metadata": {
    "collapsed": false
   },
   "outputs": [],
   "source": [
    "%%cpp -d\n",
    "void  DrawCumulative(double x1, double x2, int n = 100){\n",
    "\n",
    "   std::cout << \"\\n\\n***************************************************************\\n\";\n",
    "   std::cout << \"Drawing cumulatives of BreitWigner in interval [ \" << x1 << \" , \" << x2 << \" ]\\n\\n\";\n",
    "\n",
    "\n",
    "   double dx = (x2-x1)/double(n);\n",
    "\n",
    "   TH1D *cum0 = new TH1D(\"cum0\", \"\", n, x1, x2); //exact cumulative\n",
    "   for (int i = 1; i <= n; ++i) {\n",
    "      double x = x1 + dx*i;\n",
    "      cum0->SetBinContent(i, exactIntegral(x1, x));\n",
    "\n",
    "   }\n",
    "\n",
    "   // alternative method using ROOT::Math::Functor class\n",
    "   ROOT::Math::Functor1D f1(& func);\n",
    "\n",
    "\n",
    "   ROOT::Math::Integrator ig(f1, ROOT::Math::IntegrationOneDim::kADAPTIVE,1.E-12,1.E-12);\n",
    "\n",
    "   TH1D *cum1 = new TH1D(\"cum1\", \"\", n, x1, x2);\n",
    "   for (int i = 1; i <= n; ++i) {\n",
    "      double x = x1 + dx*i;\n",
    "      cum1->SetBinContent(i, ig.Integral(x1,x));\n",
    "   }\n",
    "\n",
    "\n",
    "   TF1 *fBW = new TF1(\"fBW\",\"TMath::BreitWigner(x, 0, 1)\",x1, x2);\n",
    "\n",
    "\n",
    "   TH1D *cum2 = new TH1D(\"cum2\", \"\", n, x1, x2);\n",
    "   for (int i = 1; i <= n; ++i) {\n",
    "      double x = x1 + dx*i;\n",
    "      cum2->SetBinContent(i, fBW->Integral(x1,x));\n",
    "   }\n",
    "\n",
    "   TH1D *cum10 = new TH1D(\"cum10\", \"\", n, x1, x2); //difference between  1 and exact\n",
    "   TH1D *cum20 = new TH1D(\"cum23\", \"\", n, x1, x2); //difference between 2 and excact\n",
    "   for (int i = 1; i <= n; ++i) {\n",
    "      double delta  =  cum1->GetBinContent(i) - cum0->GetBinContent(i);\n",
    "      double delta2 =  cum2->GetBinContent(i) - cum0->GetBinContent(i);\n",
    "      //std::cout << \" diff for \" << x << \" is \" << delta << \"  \" << cum1->GetBinContent(i) << std::endl;\n",
    "      cum10->SetBinContent(i, delta );\n",
    "      cum10->SetBinError(i, std::numeric_limits<double>::epsilon() * cum1->GetBinContent(i) );\n",
    "      cum20->SetBinContent(i, delta2 );\n",
    "   }\n",
    "\n",
    "\n",
    "   TCanvas *c1 = new TCanvas(\"c1\",\"Integration example\",20,10,800,500);\n",
    "   c1->Divide(2,1);\n",
    "   c1->Draw();\n",
    "\n",
    "   cum0->SetLineColor(kBlack);\n",
    "   cum0->SetTitle(\"BreitWigner - the cumulative\");\n",
    "   cum0->SetStats(0);\n",
    "   cum1->SetLineStyle(2);\n",
    "   cum2->SetLineStyle(3);\n",
    "   cum1->SetLineColor(kBlue);\n",
    "   cum2->SetLineColor(kRed);\n",
    "   c1->cd(1);\n",
    "   cum0->DrawCopy(\"h\");\n",
    "   cum1->DrawCopy(\"same\");\n",
    "   //cum2->DrawCopy(\"same\");\n",
    "   cum2->DrawCopy(\"same\");\n",
    "\n",
    "   c1->cd(2);\n",
    "   cum10->SetTitle(\"Difference\");\n",
    "   cum10->SetStats(0);\n",
    "   cum10->SetLineColor(kBlue);\n",
    "   cum10->Draw(\"e0\");\n",
    "   cum20->SetLineColor(kRed);\n",
    "   cum20->Draw(\"hsame\");\n",
    "\n",
    "   TLegend * l = new TLegend(0.11, 0.8, 0.7 ,0.89);\n",
    "   l->AddEntry(cum10, \"GSL integration - analytical \");\n",
    "   l->AddEntry(cum20, \"TF1::Integral  - analytical \");\n",
    "   l->Draw();\n",
    "\n",
    "\n",
    "   c1->Update();\n",
    "   std::cout << \"\\n***************************************************************\\n\";\n",
    "\n",
    "\n",
    "}"
   ]
  },
  {
   "cell_type": "markdown",
   "metadata": {},
   "source": [
    " Arguments are defined. "
   ]
  },
  {
   "cell_type": "code",
   "execution_count": 8,
   "metadata": {
    "collapsed": false
   },
   "outputs": [],
   "source": [
    "double a = -2;\n",
    "double b = 2;"
   ]
  },
  {
   "cell_type": "code",
   "execution_count": 9,
   "metadata": {
    "collapsed": false
   },
   "outputs": [
    {
     "name": "stdout",
     "output_type": "stream",
     "text": [
      "\n",
      "\n",
      "***************************************************************\n",
      "Drawing cumulatives of BreitWigner in interval [ -2 , 2 ]\n",
      "\n",
      "\n",
      "***************************************************************\n",
      "\n",
      "\n",
      "***************************************************************\n",
      "Test integration performances in interval [ -2 , 2 ]\n",
      "\n",
      "Time using ROOT::Math::Integrator        :\t0.149756\n",
      "Number of function calls = 69\n",
      "42201.6649413923442\n"
     ]
    },
    {
     "data": {
      "image/png": "[encoded data removed]",
      "text/plain": [
       "<IPython.core.display.Image object>"
      ]
     },
     "metadata": {},
     "output_type": "display_data"
    },
    {
     "name": "stdout",
     "output_type": "stream",
     "text": [
      "Time using TF1::Integral :\t\t\t0.468895\n",
      "Number of function calls = 91\n",
      "42201.6649413923442\n"
     ]
    }
   ],
   "source": [
    "DrawCumulative(a, b);\n",
    "testIntegPerf(a, b);"
   ]
  }
 ],
 "metadata": {
  "kernelspec": {
   "display_name": "ROOT C++",
   "language": "c++",
   "name": "root"
  },
  "language_info": {
   "codemirror_mode": "text/x-c++src",
   "file_extension": ".C",
   "mimetype": " text/x-c++src",
   "name": "c++"
  }
 },
 "nbformat": 4,
 "nbformat_minor": 2
}
