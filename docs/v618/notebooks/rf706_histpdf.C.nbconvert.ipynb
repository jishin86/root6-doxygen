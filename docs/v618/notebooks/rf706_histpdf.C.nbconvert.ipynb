{
 "cells": [
  {
   "cell_type": "markdown",
   "metadata": {},
   "source": [
    "# Rf 7 0 6_Histpdf\n",
    "Speecial p.d.f.'s: histogram based p.d.f.s and functions\n",
    "\n",
    "\n",
    "\n",
    "**Author:** 07/2008 - Wouter Verkerke  \n",
    "<i><small>This notebook tutorial was automatically generated with <a href= \"https://github.com/root-project/root/blob/master/documentation/doxygen/converttonotebook.py\">ROOTBOOK-izer</a> from the macro found in the ROOT repository  on Thursday, August 29, 2019 at 03:02 AM.</small></i>"
   ]
  },
  {
   "cell_type": "code",
   "execution_count": 1,
   "metadata": {
    "collapsed": false
   },
   "outputs": [],
   "source": [
    "%%cpp -d\n",
    "#include \"RooRealVar.h\"\n",
    "#include \"RooDataSet.h\"\n",
    "#include \"RooGaussian.h\"\n",
    "#include \"RooConstVar.h\"\n",
    "#include \"RooPolynomial.h\"\n",
    "#include \"RooHistPdf.h\"\n",
    "#include \"TCanvas.h\"\n",
    "#include \"TAxis.h\"\n",
    "#include \"RooPlot.h\""
   ]
  },
  {
   "cell_type": "code",
   "execution_count": 2,
   "metadata": {
    "collapsed": false
   },
   "outputs": [],
   "source": [
    "%%cpp -d\n",
    "// This is a workaround to make sure the namespace is used inside functions\n",
    "using namespace RooFit;"
   ]
  },
  {
   "cell_type": "markdown",
   "metadata": {},
   "source": [
    "Create pdf for sampling\n",
    " ---------------------------------------------"
   ]
  },
  {
   "cell_type": "code",
   "execution_count": 3,
   "metadata": {
    "collapsed": false
   },
   "outputs": [
    {
     "name": "stdout",
     "output_type": "stream",
     "text": [
      "\n",
      "\u001b[1mRooFit v3.60 -- Developed by Wouter Verkerke and David Kirkby\u001b[0m \n",
      "                Copyright (C) 2000-2013 NIKHEF, University of California & Stanford University\n",
      "                All rights reserved, please read http://roofit.sourceforge.net/license.txt\n",
      "\n"
     ]
    }
   ],
   "source": [
    "RooRealVar x(\"x\", \"x\", 0, 20);\n",
    "RooPolynomial p(\"p\", \"p\", x, RooArgList(RooConst(0.01), RooConst(-0.01), RooConst(0.0004)));"
   ]
  },
  {
   "cell_type": "markdown",
   "metadata": {},
   "source": [
    "Create low stats histogram\n",
    " ---------------------------------------------------"
   ]
  },
  {
   "cell_type": "markdown",
   "metadata": {},
   "source": [
    "Sample 500 events from p"
   ]
  },
  {
   "cell_type": "code",
   "execution_count": 4,
   "metadata": {
    "collapsed": false
   },
   "outputs": [],
   "source": [
    "x.setBins(20);\n",
    "RooDataSet *data1 = p.generate(x, 500);"
   ]
  },
  {
   "cell_type": "markdown",
   "metadata": {},
   "source": [
    "Create a binned dataset with 20 bins and 500 events"
   ]
  },
  {
   "cell_type": "code",
   "execution_count": 5,
   "metadata": {
    "collapsed": false
   },
   "outputs": [],
   "source": [
    "RooDataHist *hist1 = data1->binnedClone();"
   ]
  },
  {
   "cell_type": "markdown",
   "metadata": {},
   "source": [
    "Represent data in dh as pdf in x"
   ]
  },
  {
   "cell_type": "code",
   "execution_count": 6,
   "metadata": {
    "collapsed": false
   },
   "outputs": [],
   "source": [
    "RooHistPdf histpdf1(\"histpdf1\", \"histpdf1\", x, *hist1, 0);"
   ]
  },
  {
   "cell_type": "markdown",
   "metadata": {},
   "source": [
    "Plot unbinned data and histogram pdf overlaid"
   ]
  },
  {
   "cell_type": "code",
   "execution_count": 7,
   "metadata": {
    "collapsed": false
   },
   "outputs": [],
   "source": [
    "RooPlot *frame1 = x.frame(Title(\"Low statistics histogram pdf\"), Bins(100));\n",
    "data1->plotOn(frame1);\n",
    "histpdf1.plotOn(frame1);"
   ]
  },
  {
   "cell_type": "markdown",
   "metadata": {},
   "source": [
    "Create high stats histogram\n",
    " -----------------------------------------------------"
   ]
  },
  {
   "cell_type": "markdown",
   "metadata": {},
   "source": [
    "Sample 100000 events from p"
   ]
  },
  {
   "cell_type": "code",
   "execution_count": 8,
   "metadata": {
    "collapsed": false
   },
   "outputs": [],
   "source": [
    "x.setBins(10);\n",
    "RooDataSet *data2 = p.generate(x, 100000);"
   ]
  },
  {
   "cell_type": "markdown",
   "metadata": {},
   "source": [
    "Create a binned dataset with 10 bins and 100k events"
   ]
  },
  {
   "cell_type": "code",
   "execution_count": 9,
   "metadata": {
    "collapsed": false
   },
   "outputs": [],
   "source": [
    "RooDataHist *hist2 = data2->binnedClone();"
   ]
  },
  {
   "cell_type": "markdown",
   "metadata": {},
   "source": [
    "Represent data in dh as pdf in x, apply 2nd order interpolation"
   ]
  },
  {
   "cell_type": "code",
   "execution_count": 10,
   "metadata": {
    "collapsed": false
   },
   "outputs": [],
   "source": [
    "RooHistPdf histpdf2(\"histpdf2\", \"histpdf2\", x, *hist2, 2);"
   ]
  },
  {
   "cell_type": "markdown",
   "metadata": {},
   "source": [
    "Plot unbinned data and histogram pdf overlaid"
   ]
  },
  {
   "cell_type": "code",
   "execution_count": 11,
   "metadata": {
    "collapsed": false
   },
   "outputs": [],
   "source": [
    "RooPlot *frame2 = x.frame(Title(\"High stats histogram pdf with interpolation\"), Bins(100));\n",
    "data2->plotOn(frame2);\n",
    "histpdf2.plotOn(frame2);\n",
    "\n",
    "TCanvas *c = new TCanvas(\"rf706_histpdf\", \"rf706_histpdf\", 800, 400);\n",
    "c->Divide(2);\n",
    "c->cd(1);\n",
    "gPad->SetLeftMargin(0.15);\n",
    "frame1->GetYaxis()->SetTitleOffset(1.4);\n",
    "frame1->Draw();\n",
    "c->cd(2);\n",
    "gPad->SetLeftMargin(0.15);\n",
    "frame2->GetYaxis()->SetTitleOffset(1.8);\n",
    "frame2->Draw();"
   ]
  },
  {
   "cell_type": "markdown",
   "metadata": {},
   "source": [
    "Draw all canvases "
   ]
  },
  {
   "cell_type": "code",
   "execution_count": 12,
   "metadata": {
    "collapsed": false
   },
   "outputs": [
    {
     "data": {
      "text/html": [
       "\n",
       "<div id=\"root_plot_1\"\n",
       "     style=\"width: 796px; height: 372px\">\n",
       "</div>\n",
       "\n",
       "<script>\n",
       " requirejs.config({\n",
       "     paths: {\n",
       "       'JSRootCore' : 'https://root.cern.ch/js/notebook//scripts/JSRootCore',\n",
       "     }\n",
       "   });\n",
       " require(['JSRootCore'],\n",
       "     function(Core) {\n",
       "       var obj = Core.JSONR_unref({\"_typename\":\"TCanvas\",\"fUniqueID\":0,\"fBits\":53673992,\"fLineColor\":1,\"fLineStyle\":1,\"fLineWidth\":1,\"fFillColor\":0,\"fFillStyle\":1001,\"fLeftMargin\":0.1,\"fRightMargin\":0.1,\"fBottomMargin\":0.1,\"fTopMargin\":0.1,\"fXfile\":2,\"fYfile\":2,\"fAfile\":1,\"fXstat\":0.99,\"fYstat\":0.99,\"fAstat\":2,\"fFrameFillColor\":0,\"fFrameLineColor\":1,\"fFrameFillStyle\":1001,\"fFrameLineStyle\":1,\"fFrameLineWidth\":1,\"fFrameBorderSize\":1,\"fFrameBorderMode\":0,\"fX1\":0,\"fY1\":0,\"fX2\":1,\"fY2\":1,\"fXtoAbsPixelk\":5e-5,\"fXtoPixelk\":5e-5,\"fXtoPixel\":796,\"fYtoAbsPixelk\":372.00005,\"fYtoPixelk\":372.00005,\"fYtoPixel\":-372,\"fUtoAbsPixelk\":5e-5,\"fUtoPixelk\":5e-5,\"fUtoPixel\":796,\"fVtoAbsPixelk\":372.00005,\"fVtoPixelk\":372,\"fVtoPixel\":-372,\"fAbsPixeltoXk\":0,\"fPixeltoXk\":0,\"fPixeltoX\":0.00125628140703518,\"fAbsPixeltoYk\":1,\"fPixeltoYk\":0,\"fPixeltoY\":-0.00268817204301075,\"fXlowNDC\":0,\"fYlowNDC\":0,\"fXUpNDC\":0,\"fYUpNDC\":0,\"fWNDC\":1,\"fHNDC\":1,\"fAbsXlowNDC\":0,\"fAbsYlowNDC\":0,\"fAbsWNDC\":1,\"fAbsHNDC\":1,\"fUxmin\":0,\"fUymin\":0,\"fUxmax\":1,\"fUymax\":1,\"fTheta\":30,\"fPhi\":30,\"fAspectRatio\":0,\"fNumber\":0,\"fTickx\":0,\"fTicky\":0,\"fLogx\":0,\"fLogy\":0,\"fLogz\":0,\"fPadPaint\":0,\"fCrosshair\":0,\"fCrosshairPos\":0,\"fBorderSize\":2,\"fBorderMode\":0,\"fModified\":false,\"fGridx\":false,\"fGridy\":false,\"fAbsCoord\":false,\"fEditable\":true,\"fFixedAspectRatio\":false,\"fPrimitives\":{\"_typename\":\"TList\",\"name\":\"TList\",\"arr\":[{\"_typename\":\"TPad\",\"fUniqueID\":0,\"fBits\":50331657,\"fLineColor\":1,\"fLineStyle\":1,\"fLineWidth\":1,\"fFillColor\":0,\"fFillStyle\":1001,\"fLeftMargin\":0.15,\"fRightMargin\":0.1,\"fBottomMargin\":0.1,\"fTopMargin\":0.1,\"fXfile\":2,\"fYfile\":2,\"fAfile\":1,\"fXstat\":0.99,\"fYstat\":0.99,\"fAstat\":2,\"fFrameFillColor\":0,\"fFrameLineColor\":1,\"fFrameFillStyle\":1001,\"fFrameLineStyle\":1,\"fFrameLineWidth\":1,\"fFrameBorderSize\":1,\"fFrameBorderMode\":0,\"fX1\":-4.00000015894572,\"fY1\":-2.32280667821752,\"fX2\":22.6666667064031,\"fY2\":20.905258719457,\"fXtoAbsPixelk\":65.2720517258227,\"fXtoPixelk\":57.3120519037425,\"fXtoPixel\":14.3279999065921,\"fYtoAbsPixelk\":331.824047893572,\"fYtoPixelk\":328.10404797672,\"fYtoPixel\":-15.6948068607898,\"fUtoAbsPixelk\":7.96004982208014,\"fUtoPixelk\":5e-5,\"fUtoPixel\":382.08000035584,\"fVtoAbsPixelk\":368.280050083148,\"fVtoPixelk\":364.560000166297,\"fVtoPixel\":-364.560000166297,\"fAbsPixeltoXk\":-4.55555570570545,\"fPixeltoXk\":-4.00000015894572,\"fPixeltoX\":0.0697934119569555,\"fAbsPixeltoYk\":21.1422797895376,\"fPixeltoYk\":-2.32280667821752,\"fPixeltoY\":-0.0637153428436441,\"fXlowNDC\":0.00999999977648258,\"fYlowNDC\":0.00999999977648258,\"fXUpNDC\":0,\"fYUpNDC\":0,\"fWNDC\":0.480000000447035,\"fHNDC\":0.980000000447035,\"fAbsXlowNDC\":0.00999999977648258,\"fAbsYlowNDC\":0.00999999977648258,\"fAbsWNDC\":0.480000000447035,\"fAbsHNDC\":0.980000000447035,\"fUxmin\":0,\"fUymin\":0,\"fUxmax\":20,\"fUymax\":18.5824520412395,\"fTheta\":30,\"fPhi\":30,\"fAspectRatio\":0,\"fNumber\":1,\"fTickx\":0,\"fTicky\":0,\"fLogx\":0,\"fLogy\":0,\"fLogz\":0,\"fPadPaint\":0,\"fCrosshair\":0,\"fCrosshairPos\":0,\"fBorderSize\":2,\"fBorderMode\":0,\"fModified\":false,\"fGridx\":false,\"fGridy\":false,\"fAbsCoord\":false,\"fEditable\":true,\"fFixedAspectRatio\":false,\"fPrimitives\":{\"_typename\":\"TList\",\"name\":\"TList\",\"arr\":[{\"_typename\":\"TFrame\",\"fUniqueID\":0,\"fBits\":50331656,\"fLineColor\":1,\"fLineStyle\":1,\"fLineWidth\":1,\"fFillColor\":0,\"fFillStyle\":1001,\"fX1\":0,\"fY1\":0,\"fX2\":20,\"fY2\":18.5824520412395,\"fBorderSize\":1,\"fBorderMode\":0},{\"_typename\":\"TH1D\",\"fUniqueID\":0,\"fBits\":50332168,\"fName\":\"frame_7f8354444ec0\",\"fTitle\":\"Low statistics histogram pdf\",\"fLineColor\":602,\"fLineStyle\":1,\"fLineWidth\":1,\"fFillColor\":0,\"fFillStyle\":1001,\"fMarkerColor\":1,\"fMarkerStyle\":1,\"fMarkerSize\":1,\"fNcells\":102,\"fXaxis\":{\"_typename\":\"TAxis\",\"fUniqueID\":0,\"fBits\":50331648,\"fName\":\"xaxis\",\"fTitle\":\"x\",\"fNdivisions\":510,\"fAxisColor\":1,\"fLabelColor\":1,\"fLabelFont\":42,\"fLabelOffset\":0.005,\"fLabelSize\":0.035,\"fTickLength\":0.03,\"fTitleOffset\":1,\"fTitleSize\":0.035,\"fTitleColor\":1,\"fTitleFont\":42,\"fNbins\":100,\"fXmin\":0,\"fXmax\":20,\"fXbins\":[],\"fFirst\":0,\"fLast\":0,\"fBits2\":0,\"fTimeDisplay\":false,\"fTimeFormat\":\"\",\"fLabels\":null,\"fModLabs\":null},\"fYaxis\":{\"_typename\":\"TAxis\",\"fUniqueID\":0,\"fBits\":50331648,\"fName\":\"yaxis\",\"fTitle\":\"Events \\/ ( 0.2 )\",\"fNdivisions\":510,\"fAxisColor\":1,\"fLabelColor\":1,\"fLabelFont\":42,\"fLabelOffset\":0.005,\"fLabelSize\":0.035,\"fTickLength\":0.03,\"fTitleOffset\":1.4,\"fTitleSize\":0.035,\"fTitleColor\":1,\"fTitleFont\":42,\"fNbins\":1,\"fXmin\":0,\"fXmax\":1,\"fXbins\":[],\"fFirst\":0,\"fLast\":0,\"fBits2\":0,\"fTimeDisplay\":false,\"fTimeFormat\":\"\",\"fLabels\":null,\"fModLabs\":null},\"fZaxis\":{\"_typename\":\"TAxis\",\"fUniqueID\":0,\"fBits\":50331648,\"fName\":\"zaxis\",\"fTitle\":\"\",\"fNdivisions\":510,\"fAxisColor\":1,\"fLabelColor\":1,\"fLabelFont\":42,\"fLabelOffset\":0.005,\"fLabelSize\":0.035,\"fTickLength\":0.03,\"fTitleOffset\":1,\"fTitleSize\":0.035,\"fTitleColor\":1,\"fTitleFont\":42,\"fNbins\":1,\"fXmin\":0,\"fXmax\":1,\"fXbins\":[],\"fFirst\":0,\"fLast\":0,\"fBits2\":0,\"fTimeDisplay\":false,\"fTimeFormat\":\"\",\"fLabels\":null,\"fModLabs\":null},\"fBarOffset\":0,\"fBarWidth\":1000,\"fEntries\":1,\"fTsumw\":0,\"fTsumw2\":0,\"fTsumwx\":0,\"fTsumwx2\":0,\"fMaximum\":18.5824520412395,\"fMinimum\":-1111,\"fNormFactor\":0,\"fContour\":[],\"fSumw2\":[],\"fOption\":\"\",\"fFunctions\":{\"_typename\":\"TList\",\"name\":\"TList\",\"arr\":[],\"opt\":[]},\"fBufferSize\":0,\"fBuffer\":[],\"fBinStatErrOpt\":0,\"fStatOverflows\":2,\"fArray\":[0,18.5824520412395,0,0,0,0,0,0,0,0,0,0,0,0,0,0,0,0,0,0,0,0,0,0,0,0,0,0,0,0,0,0,0,0,0,0,0,0,0,0,0,0,0,0,0,0,0,0,0,0,0,0,0,0,0,0,0,0,0,0,0,0,0,0,0,0,0,0,0,0,0,0,0,0,0,0,0,0,0,0,0,0,0,0,0,0,0,0,0,0,0,0,0,0,0,0,0,0,0,0,0,0]},{\"_typename\":\"RooHist\",\"fUniqueID\":0,\"fBits\":50332680,\"fName\":\"h_pData\",\"fTitle\":\"Histogram of pData_plot__x\",\"fLineColor\":1,\"fLineStyle\":1,\"fLineWidth\":1,\"fFillColor\":0,\"fFillStyle\":1000,\"fMarkerColor\":1,\"fMarkerStyle\":8,\"fMarkerSize\":1,\"fNpoints\":100,\"fX\":[0.1,0.3,0.5,0.7,0.9,1.1,1.3,1.5,1.7,1.9,2.1,2.3,2.5,2.7,2.9,3.1,3.3,3.5,3.7,3.9,4.1,4.3,4.5,4.7,4.9,5.1,5.3,5.5,5.7,5.9,6.1,6.3,6.5,6.7,6.9,7.1,7.3,7.5,7.7,7.9,8.1,8.3,8.5,8.7,8.9,9.1,9.3,9.5,9.7,9.9,10.1,10.3,10.5,10.7,10.9,11.1,11.3,11.5,11.7,11.9,12.1,12.3,12.5,12.7,12.9,13.1,13.3,13.5,13.7,13.9,14.1,14.3,14.5,14.7,14.9,15.1,15.3,15.5,15.7,15.9,16.1,16.3,16.5,16.7,16.9,17.1,17.3,17.5,17.7,17.9,18.1,18.3,18.5,18.7,18.9,19.1,19.3,19.5,19.7,19.9],\"fY\":[10,10,11,8,8,9,9,9,7,11,7,5,7,11,8,8,12,6,8,4,10,5,3,7,13,4,9,7,5,3,9,6,6,10,0,4,3,8,4,7,5,5,9,5,4,4,6,8,9,9,4,7,6,5,6,3,3,4,7,3,4,4,3,3,2,0,2,3,2,3,4,6,3,1,0,0,2,5,1,2,1,2,2,2,1,3,1,3,4,6,2,1,2,3,2,2,1,3,1,5],\"fFunctions\":{\"_typename\":\"TList\",\"name\":\"TList\",\"arr\":[],\"opt\":[]},\"fHistogram\":{\"_typename\":\"TH1F\",\"fUniqueID\":0,\"fBits\":50332168,\"fName\":\"h_pData\",\"fTitle\":\"Histogram of pData_plot__x\",\"fLineColor\":602,\"fLineStyle\":1,\"fLineWidth\":1,\"fFillColor\":0,\"fFillStyle\":1001,\"fMarkerColor\":1,\"fMarkerStyle\":1,\"fMarkerSize\":1,\"fNcells\":102,\"fXaxis\":{\"_typename\":\"TAxis\",\"fUniqueID\":0,\"fBits\":50331648,\"fName\":\"xaxis\",\"fTitle\":\"\",\"fNdivisions\":510,\"fAxisColor\":1,\"fLabelColor\":1,\"fLabelFont\":42,\"fLabelOffset\":0.005,\"fLabelSize\":0.035,\"fTickLength\":0.03,\"fTitleOffset\":1,\"fTitleSize\":0.035,\"fTitleColor\":1,\"fTitleFont\":42,\"fNbins\":100,\"fXmin\":0,\"fXmax\":22,\"fXbins\":[],\"fFirst\":0,\"fLast\":0,\"fBits2\":0,\"fTimeDisplay\":false,\"fTimeFormat\":\"\",\"fLabels\":null,\"fModLabs\":null},\"fYaxis\":{\"_typename\":\"TAxis\",\"fUniqueID\":0,\"fBits\":50331648,\"fName\":\"yaxis\",\"fTitle\":\"\",\"fNdivisions\":510,\"fAxisColor\":1,\"fLabelColor\":1,\"fLabelFont\":42,\"fLabelOffset\":0.005,\"fLabelSize\":0.035,\"fTickLength\":0.03,\"fTitleOffset\":0,\"fTitleSize\":0.035,\"fTitleColor\":1,\"fTitleFont\":42,\"fNbins\":1,\"fXmin\":0,\"fXmax\":19.46733070987,\"fXbins\":[],\"fFirst\":0,\"fLast\":0,\"fBits2\":0,\"fTimeDisplay\":false,\"fTimeFormat\":\"\",\"fLabels\":null,\"fModLabs\":null},\"fZaxis\":{\"_typename\":\"TAxis\",\"fUniqueID\":0,\"fBits\":50331648,\"fName\":\"zaxis\",\"fTitle\":\"\",\"fNdivisions\":510,\"fAxisColor\":1,\"fLabelColor\":1,\"fLabelFont\":42,\"fLabelOffset\":0.005,\"fLabelSize\":0.035,\"fTickLength\":0.03,\"fTitleOffset\":1,\"fTitleSize\":0.035,\"fTitleColor\":1,\"fTitleFont\":42,\"fNbins\":1,\"fXmin\":0,\"fXmax\":1,\"fXbins\":[],\"fFirst\":0,\"fLast\":0,\"fBits2\":0,\"fTimeDisplay\":false,\"fTimeFormat\":\"\",\"fLabels\":null,\"fModLabs\":null},\"fBarOffset\":0,\"fBarWidth\":1000,\"fEntries\":0,\"fTsumw\":0,\"fTsumw2\":0,\"fTsumwx\":0,\"fTsumwx2\":0,\"fMaximum\":19.46733070987,\"fMinimum\":0,\"fNormFactor\":0,\"fContour\":[],\"fSumw2\":[],\"fOption\":\"\",\"fFunctions\":{\"_typename\":\"TList\",\"name\":\"TList\",\"arr\":[],\"opt\":[]},\"fBufferSize\":0,\"fBuffer\":[],\"fBinStatErrOpt\":0,\"fStatOverflows\":2,\"fArray\":[0,0,0,0,0,0,0,0,0,0,0,0,0,0,0,0,0,0,0,0,0,0,0,0,0,0,0,0,0,0,0,0,0,0,0,0,0,0,0,0,0,0,0,0,0,0,0,0,0,0,0,0,0,0,0,0,0,0,0,0,0,0,0,0,0,0,0,0,0,0,0,0,0,0,0,0,0,0,0,0,0,0,0,0,0,0,0,0,0,0,0,0,0,0,0,0,0,0,0,0,0,0]},\"fMinimum\":-1111,\"fMaximum\":-1111,\"fEXlow\":[0.1,0.1,0.1,0.1,0.1,0.1,0.1,0.1,0.1,0.1,0.1,0.1,0.1,0.1,0.1,0.1,0.1,0.1,0.1,0.1,0.1,0.1,0.1,0.1,0.1,0.1,0.1,0.1,0.1,0.1,0.1,0.1,0.1,0.1,0.1,0.1,0.1,0.1,0.1,0.1,0.1,0.1,0.1,0.1,0.1,0.1,0.1,0.1,0.1,0.1,0.1,0.1,0.1,0.1,0.1,0.1,0.1,0.1,0.1,0.1,0.1,0.1,0.1,0.1,0.1,0.1,0.1,0.1,0.1,0.1,0.1,0.1,0.1,0.1,0.1,0.1,0.1,0.1,0.1,0.1,0.1,0.1,0.1,0.1,0.1,0.1,0.1,0.1,0.1,0.1,0.1,0.1,0.1,0.1,0.1,0.1,0.1,0.1,0.1,0.1],\"fEXhigh\":[0.1,0.1,0.1,0.1,0.1,0.1,0.1,0.1,0.1,0.1,0.1,0.1,0.1,0.1,0.1,0.1,0.1,0.1,0.1,0.1,0.1,0.1,0.1,0.1,0.1,0.1,0.1,0.1,0.1,0.1,0.1,0.1,0.1,0.1,0.1,0.1,0.1,0.1,0.1,0.1,0.1,0.1,0.1,0.1,0.1,0.1,0.1,0.1,0.1,0.1,0.1,0.1,0.1,0.1,0.1,0.1,0.1,0.1,0.1,0.1,0.1,0.1,0.1,0.1,0.1,0.1,0.1,0.1,0.1,0.1,0.1,0.1,0.1,0.1,0.1,0.1,0.1,0.1,0.1,0.1,0.1,0.1,0.1,0.1,0.1,0.1,0.1,0.1,0.1,0.1,0.1,0.1,0.1,0.1,0.1,0.1,0.1,0.1,0.1,0.1],\"fEYlow\":[3.10869443936164,3.10869443936164,3.26557940095131,2.76838605646272,2.76838605646272,2.94346103725076,2.94346103725076,2.94346103725076,2.58147045606626,3.26557940095131,2.58147045606626,2.15969114440678,2.58147045606626,3.26557940095131,2.76838605646272,2.76838605646272,3.41526599430015,2.37993137929577,2.76838605646272,1.91433918622288,3.10869443936164,2.15969114440678,1.63270468610957,2.58147045606626,3.5586623304375,1.91433918622288,2.94346103725076,2.58147045606626,2.15969114440678,1.63270468610957,2.94346103725076,2.37993137929577,2.37993137929577,3.10869443936164,0,1.91433918622288,1.63270468610957,2.76838605646272,1.91433918622288,2.58147045606626,2.15969114440678,2.15969114440678,2.94346103725076,2.15969114440678,1.91433918622288,1.91433918622288,2.37993137929577,2.76838605646272,2.94346103725076,2.94346103725076,1.91433918622288,2.58147045606626,2.37993137929577,2.15969114440678,2.37993137929577,1.63270468610957,1.63270468610957,1.91433918622288,2.58147045606626,1.63270468610957,1.91433918622288,1.91433918622288,1.63270468610957,1.63270468610957,1.29181456018103,0,1.29181456018103,1.63270468610957,1.29181456018103,1.63270468610957,1.91433918622288,2.37993137929577,1.63270468610957,0.82724622097655,0,0,1.29181456018103,2.15969114440678,0.82724622097655,1.29181456018103,0.82724622097655,1.29181456018103,1.29181456018103,1.29181456018103,0.82724622097655,1.63270468610957,0.82724622097655,1.63270468610957,1.91433918622288,2.37993137929577,1.29181456018103,0.82724622097655,1.29181456018103,1.63270468610957,1.29181456018103,1.29181456018103,0.82724622097655,1.63270468610957,0.82724622097655,2.15969114440678],\"fEYhigh\":[4.26694976100939,4.26694976100939,4.41652052316603,3.94514151986907,3.94514151986907,4.11020413766764,4.11020413766764,4.11020413766764,3.77028072043409,4.41652052316603,3.77028072043409,3.38247265214689,3.77028072043409,4.41652052316603,3.94514151986907,3.94514151986907,4.55981905739127,3.58364154598457,3.94514151986907,3.16275317226094,4.26694976100939,3.38247265214689,2.9181858328834,3.77028072043409,4.69757337260906,3.16275317226094,4.11020413766764,3.77028072043409,3.38247265214689,2.9181858328834,4.11020413766764,3.58364154598457,3.58364154598457,4.26694976100939,1.14787446444932,3.16275317226094,2.9181858328834,3.94514151986907,3.16275317226094,3.77028072043409,3.38247265214689,3.38247265214689,4.11020413766764,3.38247265214689,3.16275317226094,3.16275317226094,3.58364154598457,3.94514151986907,4.11020413766764,4.11020413766764,3.16275317226094,3.77028072043409,3.58364154598457,3.38247265214689,3.58364154598457,2.9181858328834,2.9181858328834,3.16275317226094,3.77028072043409,2.9181858328834,3.16275317226094,3.16275317226094,2.9181858328834,2.9181858328834,2.63785962345524,1.14787446444932,2.63785962345524,2.9181858328834,2.63785962345524,2.9181858328834,3.16275317226094,3.58364154598457,2.9181858328834,2.29952655911586,1.14787446444932,1.14787446444932,2.63785962345524,3.38247265214689,2.29952655911586,2.63785962345524,2.29952655911586,2.63785962345524,2.63785962345524,2.63785962345524,2.29952655911586,2.9181858328834,2.29952655911586,2.9181858328834,3.16275317226094,3.58364154598457,2.63785962345524,2.29952655911586,2.63785962345524,2.9181858328834,2.63785962345524,2.63785962345524,2.29952655911586,2.9181858328834,2.29952655911586,3.38247265214689],\"_yAxisLabel\":\"Events \\/ ( 0.2 )\",\"_ymin\":0,\"_ymax\":17.6975733726091,\"_normValue\":0,\"_nominalBinWidth\":0.2,\"_nSigma\":1,\"_entries\":500,\"_rawEntries\":-1},{\"_typename\":\"RooCurve\",\"fUniqueID\":0,\"fBits\":50332680,\"fName\":\"histpdf1_Norm[x]\",\"fTitle\":\"Projection of histpdf1\",\"fLineColor\":600,\"fLineStyle\":1,\"fLineWidth\":3,\"fFillColor\":0,\"fFillStyle\":1000,\"fMarkerColor\":1,\"fMarkerStyle\":1,\"fMarkerSize\":1,\"fNpoints\":47,\"fX\":[-0.48780487804878,-0.48780487804878,0,2.0402e-7,0.99999979598,1.00000020402,1.99999979598,2.00000020402,2.99999979598,3.00000020402,3.99999979598,4.00000020402,4.99999979598,5.00000020402,5.99999979598,6.00000020402,6.99999979598,7.00000020402,7.99999979598,8.00000020402,8.99999979598,9.00000020402,9.99999979598,10.00000020402,10.99999979598,11.00000020402,11.99999979598,12.00000020402,12.99999979598,13.00000020402,13.99999979598,14.00000020402,14.99999979598,15.00000020402,15.99999979598,16.00000020402,16.99999979598,17.00000020402,17.99999979598,18.00000020402,18.99999979598,19.00000020402,19.99999979598,20.00000020402,20,20.4878048780488,20.4878048780488],\"fY\":[0,0,0,9.4,9.4,9,9,7.6,7.6,7.6,7.6,7.6,7.6,5.6,5.6,6.2,6.2,5.2,5.2,5.6,5.6,7.2,7.2,5.6,5.6,4,4,3.2,3.2,2,2,2.8,2.8,2,2,1.6,1.6,3.4,3.4,2,2,2.4,2.4,0,0,0,0],\"fFunctions\":{\"_typename\":\"TList\",\"name\":\"TList\",\"arr\":[],\"opt\":[]},\"fHistogram\":{\"_typename\":\"TH1F\",\"fUniqueID\":0,\"fBits\":50332168,\"fName\":\"histpdf1_Norm[x]\",\"fTitle\":\"Projection of histpdf1\",\"fLineColor\":602,\"fLineStyle\":1,\"fLineWidth\":1,\"fFillColor\":0,\"fFillStyle\":1001,\"fMarkerColor\":1,\"fMarkerStyle\":1,\"fMarkerSize\":1,\"fNcells\":102,\"fXaxis\":{\"_typename\":\"TAxis\",\"fUniqueID\":0,\"fBits\":50331648,\"fName\":\"xaxis\",\"fTitle\":\"\",\"fNdivisions\":510,\"fAxisColor\":1,\"fLabelColor\":1,\"fLabelFont\":42,\"fLabelOffset\":0.005,\"fLabelSize\":0.035,\"fTickLength\":0.03,\"fTitleOffset\":1,\"fTitleSize\":0.035,\"fTitleColor\":1,\"fTitleFont\":42,\"fNbins\":100,\"fXmin\":-2.58536585365854,\"fXmax\":22.5853658536585,\"fXbins\":[],\"fFirst\":0,\"fLast\":0,\"fBits2\":0,\"fTimeDisplay\":false,\"fTimeFormat\":\"\",\"fLabels\":null,\"fModLabs\":null},\"fYaxis\":{\"_typename\":\"TAxis\",\"fUniqueID\":0,\"fBits\":50331648,\"fName\":\"yaxis\",\"fTitle\":\"\",\"fNdivisions\":510,\"fAxisColor\":1,\"fLabelColor\":1,\"fLabelFont\":42,\"fLabelOffset\":0.005,\"fLabelSize\":0.035,\"fTickLength\":0.03,\"fTitleOffset\":0,\"fTitleSize\":0.035,\"fTitleColor\":1,\"fTitleFont\":42,\"fNbins\":1,\"fXmin\":0,\"fXmax\":10.34,\"fXbins\":[],\"fFirst\":0,\"fLast\":0,\"fBits2\":0,\"fTimeDisplay\":false,\"fTimeFormat\":\"\",\"fLabels\":null,\"fModLabs\":null},\"fZaxis\":{\"_typename\":\"TAxis\",\"fUniqueID\":0,\"fBits\":50331648,\"fName\":\"zaxis\",\"fTitle\":\"\",\"fNdivisions\":510,\"fAxisColor\":1,\"fLabelColor\":1,\"fLabelFont\":42,\"fLabelOffset\":0.005,\"fLabelSize\":0.035,\"fTickLength\":0.03,\"fTitleOffset\":1,\"fTitleSize\":0.035,\"fTitleColor\":1,\"fTitleFont\":42,\"fNbins\":1,\"fXmin\":0,\"fXmax\":1,\"fXbins\":[],\"fFirst\":0,\"fLast\":0,\"fBits2\":0,\"fTimeDisplay\":false,\"fTimeFormat\":\"\",\"fLabels\":null,\"fModLabs\":null},\"fBarOffset\":0,\"fBarWidth\":1000,\"fEntries\":0,\"fTsumw\":0,\"fTsumw2\":0,\"fTsumwx\":0,\"fTsumwx2\":0,\"fMaximum\":10.34,\"fMinimum\":0,\"fNormFactor\":0,\"fContour\":[],\"fSumw2\":[],\"fOption\":\"\",\"fFunctions\":{\"_typename\":\"TList\",\"name\":\"TList\",\"arr\":[],\"opt\":[]},\"fBufferSize\":0,\"fBuffer\":[],\"fBinStatErrOpt\":0,\"fStatOverflows\":2,\"fArray\":[0,0,0,0,0,0,0,0,0,0,0,0,0,0,0,0,0,0,0,0,0,0,0,0,0,0,0,0,0,0,0,0,0,0,0,0,0,0,0,0,0,0,0,0,0,0,0,0,0,0,0,0,0,0,0,0,0,0,0,0,0,0,0,0,0,0,0,0,0,0,0,0,0,0,0,0,0,0,0,0,0,0,0,0,0,0,0,0,0,0,0,0,0,0,0,0,0,0,0,0,0,0]},\"fMinimum\":-1111,\"fMaximum\":-1111,\"_yAxisLabel\":\"Projection of histpdf1\",\"_ymin\":0,\"_ymax\":9.4,\"_normValue\":0},{\"$ref\":5},{\"_typename\":\"TPaveText\",\"fUniqueID\":0,\"fBits\":50331657,\"fLineColor\":1,\"fLineStyle\":1,\"fLineWidth\":1,\"fFillColor\":0,\"fFillStyle\":0,\"fX1\":0.0633164626279425,\"fY1\":19.3364086863936,\"fX2\":18.6033500848294,\"fY2\":20.7891185032287,\"fX1NDC\":0.152374372173735,\"fY1NDC\":0.932458859306446,\"fX2NDC\":0.847625627826265,\"fY2NDC\":0.995000004768372,\"fBorderSize\":0,\"fInit\":1,\"fShadowColor\":1,\"fCornerRadius\":0,\"fOption\":\"blNDC\",\"fName\":\"title\",\"fTextAngle\":0,\"fTextSize\":0,\"fTextAlign\":22,\"fTextColor\":1,\"fTextFont\":42,\"fLabel\":\"\",\"fLongest\":28,\"fMargin\":0.05,\"fLines\":{\"_typename\":\"TList\",\"name\":\"TList\",\"arr\":[{\"_typename\":\"TLatex\",\"fUniqueID\":0,\"fBits\":50331648,\"fName\":\"\",\"fTitle\":\"Low statistics histogram pdf\",\"fTextAngle\":0,\"fTextSize\":0,\"fTextAlign\":0,\"fTextColor\":0,\"fTextFont\":0,\"fX\":0,\"fY\":0,\"fLineColor\":1,\"fLineStyle\":1,\"fLineWidth\":2,\"fLimitFactorSize\":3,\"fOriginSize\":0.0531599745154381}],\"opt\":[\"\"]}}],\"opt\":[\"\",\"FUNC\",\"p\",\"l\",\"AXISSAME\",\"blNDC\"]},\"fExecs\":{\"_typename\":\"TList\",\"name\":\"TList\",\"arr\":[],\"opt\":[]},\"fName\":\"rf706_histpdf_1\",\"fTitle\":\"rf706_histpdf_1\",\"fNumPaletteColor\":0,\"fNextPaletteColor\":0},{\"_typename\":\"TPad\",\"fUniqueID\":0,\"fBits\":50331657,\"fLineColor\":1,\"fLineStyle\":1,\"fLineWidth\":1,\"fFillColor\":0,\"fFillStyle\":1001,\"fLeftMargin\":0.15,\"fRightMargin\":0.1,\"fBottomMargin\":0.1,\"fTopMargin\":0.1,\"fXfile\":2,\"fYfile\":2,\"fAfile\":1,\"fXstat\":0.99,\"fYstat\":0.99,\"fAstat\":2,\"fFrameFillColor\":0,\"fFrameLineColor\":1,\"fFrameFillStyle\":1001,\"fFrameLineStyle\":1,\"fFrameLineWidth\":1,\"fFrameBorderSize\":1,\"fFrameBorderMode\":0,\"fX1\":-4.00000015894572,\"fY1\":-243.7436074537,\"fX2\":22.6666667064031,\"fY2\":2193.69232180079,\"fXtoAbsPixelk\":463.272051725823,\"fXtoPixelk\":57.3120519037425,\"fXtoPixel\":14.3279999065921,\"fYtoAbsPixelk\":331.824047893572,\"fYtoPixelk\":328.10404797672,\"fYtoPixel\":-0.149567008425038,\"fUtoAbsPixelk\":405.96004982208,\"fUtoPixelk\":5e-5,\"fUtoPixel\":382.08000035584,\"fVtoAbsPixelk\":368.280050083148,\"fVtoPixelk\":364.560000166297,\"fVtoPixel\":-364.560000166297,\"fAbsPixeltoXk\":-32.3333336645737,\"fPixeltoXk\":-4.00000015894572,\"fPixeltoX\":0.0697934119569555,\"fAbsPixeltoYk\":2218.56411642999,\"fPixeltoYk\":-243.7436074537,\"fPixeltoY\":-6.6859664476153,\"fXlowNDC\":0.509999999776483,\"fYlowNDC\":0.00999999977648258,\"fXUpNDC\":0,\"fYUpNDC\":0,\"fWNDC\":0.480000000447035,\"fHNDC\":0.980000000447035,\"fAbsXlowNDC\":0.509999999776483,\"fAbsYlowNDC\":0.00999999977648258,\"fAbsWNDC\":0.480000000447035,\"fAbsHNDC\":0.980000000447035,\"fUxmin\":0,\"fUymin\":0,\"fUxmax\":20,\"fUymax\":1949.94871434709,\"fTheta\":30,\"fPhi\":30,\"fAspectRatio\":0,\"fNumber\":2,\"fTickx\":0,\"fTicky\":0,\"fLogx\":0,\"fLogy\":0,\"fLogz\":0,\"fPadPaint\":0,\"fCrosshair\":0,\"fCrosshairPos\":0,\"fBorderSize\":2,\"fBorderMode\":0,\"fModified\":false,\"fGridx\":false,\"fGridy\":false,\"fAbsCoord\":false,\"fEditable\":true,\"fFixedAspectRatio\":false,\"fPrimitives\":{\"_typename\":\"TList\",\"name\":\"TList\",\"arr\":[{\"_typename\":\"TFrame\",\"fUniqueID\":0,\"fBits\":50331656,\"fLineColor\":1,\"fLineStyle\":1,\"fLineWidth\":1,\"fFillColor\":0,\"fFillStyle\":1001,\"fX1\":0,\"fY1\":0,\"fX2\":20,\"fY2\":1949.94871434709,\"fBorderSize\":1,\"fBorderMode\":0},{\"_typename\":\"TH1D\",\"fUniqueID\":0,\"fBits\":50332168,\"fName\":\"frame_7f835442b3b0\",\"fTitle\":\"High stats histogram pdf with interpolation\",\"fLineColor\":602,\"fLineStyle\":1,\"fLineWidth\":1,\"fFillColor\":0,\"fFillStyle\":1001,\"fMarkerColor\":1,\"fMarkerStyle\":1,\"fMarkerSize\":1,\"fNcells\":102,\"fXaxis\":{\"_typename\":\"TAxis\",\"fUniqueID\":0,\"fBits\":50331648,\"fName\":\"xaxis\",\"fTitle\":\"x\",\"fNdivisions\":510,\"fAxisColor\":1,\"fLabelColor\":1,\"fLabelFont\":42,\"fLabelOffset\":0.005,\"fLabelSize\":0.035,\"fTickLength\":0.03,\"fTitleOffset\":1,\"fTitleSize\":0.035,\"fTitleColor\":1,\"fTitleFont\":42,\"fNbins\":100,\"fXmin\":0,\"fXmax\":20,\"fXbins\":[],\"fFirst\":0,\"fLast\":0,\"fBits2\":0,\"fTimeDisplay\":false,\"fTimeFormat\":\"\",\"fLabels\":null,\"fModLabs\":null},\"fYaxis\":{\"_typename\":\"TAxis\",\"fUniqueID\":0,\"fBits\":50331648,\"fName\":\"yaxis\",\"fTitle\":\"Events \\/ ( 0.2 )\",\"fNdivisions\":510,\"fAxisColor\":1,\"fLabelColor\":1,\"fLabelFont\":42,\"fLabelOffset\":0.005,\"fLabelSize\":0.035,\"fTickLength\":0.03,\"fTitleOffset\":1.8,\"fTitleSize\":0.035,\"fTitleColor\":1,\"fTitleFont\":42,\"fNbins\":1,\"fXmin\":0,\"fXmax\":1,\"fXbins\":[],\"fFirst\":0,\"fLast\":0,\"fBits2\":0,\"fTimeDisplay\":false,\"fTimeFormat\":\"\",\"fLabels\":null,\"fModLabs\":null},\"fZaxis\":{\"_typename\":\"TAxis\",\"fUniqueID\":0,\"fBits\":50331648,\"fName\":\"zaxis\",\"fTitle\":\"\",\"fNdivisions\":510,\"fAxisColor\":1,\"fLabelColor\":1,\"fLabelFont\":42,\"fLabelOffset\":0.005,\"fLabelSize\":0.035,\"fTickLength\":0.03,\"fTitleOffset\":1,\"fTitleSize\":0.035,\"fTitleColor\":1,\"fTitleFont\":42,\"fNbins\":1,\"fXmin\":0,\"fXmax\":1,\"fXbins\":[],\"fFirst\":0,\"fLast\":0,\"fBits2\":0,\"fTimeDisplay\":false,\"fTimeFormat\":\"\",\"fLabels\":null,\"fModLabs\":null},\"fBarOffset\":0,\"fBarWidth\":1000,\"fEntries\":1,\"fTsumw\":0,\"fTsumw2\":0,\"fTsumwx\":0,\"fTsumwx2\":0,\"fMaximum\":1949.94871434709,\"fMinimum\":-1111,\"fNormFactor\":0,\"fContour\":[],\"fSumw2\":[],\"fOption\":\"\",\"fFunctions\":{\"_typename\":\"TList\",\"name\":\"TList\",\"arr\":[],\"opt\":[]},\"fBufferSize\":0,\"fBuffer\":[],\"fBinStatErrOpt\":0,\"fStatOverflows\":2,\"fArray\":[0,1949.94871434709,0,0,0,0,0,0,0,0,0,0,0,0,0,0,0,0,0,0,0,0,0,0,0,0,0,0,0,0,0,0,0,0,0,0,0,0,0,0,0,0,0,0,0,0,0,0,0,0,0,0,0,0,0,0,0,0,0,0,0,0,0,0,0,0,0,0,0,0,0,0,0,0,0,0,0,0,0,0,0,0,0,0,0,0,0,0,0,0,0,0,0,0,0,0,0,0,0,0,0,0]},{\"_typename\":\"RooHist\",\"fUniqueID\":0,\"fBits\":50332680,\"fName\":\"h_pData\",\"fTitle\":\"Histogram of pData_plot__x\",\"fLineColor\":1,\"fLineStyle\":1,\"fLineWidth\":1,\"fFillColor\":0,\"fFillStyle\":1000,\"fMarkerColor\":1,\"fMarkerStyle\":8,\"fMarkerSize\":1,\"fNpoints\":100,\"fX\":[0.1,0.3,0.5,0.7,0.9,1.1,1.3,1.5,1.7,1.9,2.1,2.3,2.5,2.7,2.9,3.1,3.3,3.5,3.7,3.9,4.1,4.3,4.5,4.7,4.9,5.1,5.3,5.5,5.7,5.9,6.1,6.3,6.5,6.7,6.9,7.1,7.3,7.5,7.7,7.9,8.1,8.3,8.5,8.7,8.9,9.1,9.3,9.5,9.7,9.9,10.1,10.3,10.5,10.7,10.9,11.1,11.3,11.5,11.7,11.9,12.1,12.3,12.5,12.7,12.9,13.1,13.3,13.5,13.7,13.9,14.1,14.3,14.5,14.7,14.9,15.1,15.3,15.5,15.7,15.9,16.1,16.3,16.5,16.7,16.9,17.1,17.3,17.5,17.7,17.9,18.1,18.3,18.5,18.7,18.9,19.1,19.3,19.5,19.7,19.9],\"fY\":[1789,1683,1794,1789,1706,1814,1800,1750,1731,1774,1796,1708,1681,1635,1668,1660,1690,1648,1671,1638,1607,1500,1579,1527,1496,1468,1515,1352,1363,1406,1356,1400,1354,1240,1326,1249,1217,1199,1194,1161,1074,1108,1064,1095,984,1005,1002,982,888,901,849,828,814,719,810,702,736,710,698,709,641,646,614,562,603,567,503,556,515,479,430,498,421,476,453,443,416,415,413,390,438,425,434,422,438,441,445,470,419,481,484,511,516,535,609,582,609,680,694,714],\"fFunctions\":{\"_typename\":\"TList\",\"name\":\"TList\",\"arr\":[],\"opt\":[]},\"fHistogram\":{\"_typename\":\"TH1F\",\"fUniqueID\":0,\"fBits\":50332168,\"fName\":\"h_pData\",\"fTitle\":\"Histogram of pData_plot__x\",\"fLineColor\":602,\"fLineStyle\":1,\"fLineWidth\":1,\"fFillColor\":0,\"fFillStyle\":1001,\"fMarkerColor\":1,\"fMarkerStyle\":1,\"fMarkerSize\":1,\"fNcells\":102,\"fXaxis\":{\"_typename\":\"TAxis\",\"fUniqueID\":0,\"fBits\":50331648,\"fName\":\"xaxis\",\"fTitle\":\"\",\"fNdivisions\":510,\"fAxisColor\":1,\"fLabelColor\":1,\"fLabelFont\":42,\"fLabelOffset\":0.005,\"fLabelSize\":0.035,\"fTickLength\":0.03,\"fTitleOffset\":1,\"fTitleSize\":0.035,\"fTitleColor\":1,\"fTitleFont\":42,\"fNbins\":100,\"fXmin\":0,\"fXmax\":22,\"fXbins\":[],\"fFirst\":0,\"fLast\":0,\"fBits2\":0,\"fTimeDisplay\":false,\"fTimeFormat\":\"\",\"fLabels\":null,\"fModLabs\":null},\"fYaxis\":{\"_typename\":\"TAxis\",\"fUniqueID\":0,\"fBits\":50331648,\"fName\":\"yaxis\",\"fTitle\":\"\",\"fNdivisions\":510,\"fAxisColor\":1,\"fLabelColor\":1,\"fLabelFont\":42,\"fLabelOffset\":0.005,\"fLabelSize\":0.035,\"fTickLength\":0.03,\"fTitleOffset\":0,\"fTitleSize\":0.035,\"fTitleColor\":1,\"fTitleFont\":42,\"fNbins\":1,\"fXmin\":222.110377741958,\"fXmax\":2005.7288896568,\"fXbins\":[],\"fFirst\":0,\"fLast\":0,\"fBits2\":0,\"fTimeDisplay\":false,\"fTimeFormat\":\"\",\"fLabels\":null,\"fModLabs\":null},\"fZaxis\":{\"_typename\":\"TAxis\",\"fUniqueID\":0,\"fBits\":50331648,\"fName\":\"zaxis\",\"fTitle\":\"\",\"fNdivisions\":510,\"fAxisColor\":1,\"fLabelColor\":1,\"fLabelFont\":42,\"fLabelOffset\":0.005,\"fLabelSize\":0.035,\"fTickLength\":0.03,\"fTitleOffset\":1,\"fTitleSize\":0.035,\"fTitleColor\":1,\"fTitleFont\":42,\"fNbins\":1,\"fXmin\":0,\"fXmax\":1,\"fXbins\":[],\"fFirst\":0,\"fLast\":0,\"fBits2\":0,\"fTimeDisplay\":false,\"fTimeFormat\":\"\",\"fLabels\":null,\"fModLabs\":null},\"fBarOffset\":0,\"fBarWidth\":1000,\"fEntries\":0,\"fTsumw\":0,\"fTsumw2\":0,\"fTsumwx\":0,\"fTsumwx2\":0,\"fMaximum\":2005.7288896568,\"fMinimum\":222.110377741958,\"fNormFactor\":0,\"fContour\":[],\"fSumw2\":[],\"fOption\":\"\",\"fFunctions\":{\"_typename\":\"TList\",\"name\":\"TList\",\"arr\":[],\"opt\":[]},\"fBufferSize\":0,\"fBuffer\":[],\"fBinStatErrOpt\":0,\"fStatOverflows\":2,\"fArray\":[0,0,0,0,0,0,0,0,0,0,0,0,0,0,0,0,0,0,0,0,0,0,0,0,0,0,0,0,0,0,0,0,0,0,0,0,0,0,0,0,0,0,0,0,0,0,0,0,0,0,0,0,0,0,0,0,0,0,0,0,0,0,0,0,0,0,0,0,0,0,0,0,0,0,0,0,0,0,0,0,0,0,0,0,0,0,0,0,0,0,0,0,0,0,0,0,0,0,0,0,0,0]},\"fMinimum\":-1111,\"fMaximum\":-1111,\"fEXlow\":[0.1,0.1,0.1,0.1,0.1,0.1,0.1,0.1,0.1,0.1,0.1,0.1,0.1,0.1,0.1,0.1,0.1,0.1,0.1,0.1,0.1,0.1,0.1,0.1,0.1,0.1,0.1,0.1,0.1,0.1,0.1,0.1,0.1,0.1,0.1,0.1,0.1,0.1,0.1,0.1,0.1,0.1,0.1,0.1,0.1,0.1,0.1,0.1,0.1,0.1,0.1,0.1,0.1,0.1,0.1,0.1,0.1,0.1,0.1,0.1,0.1,0.1,0.1,0.1,0.1,0.1,0.1,0.1,0.1,0.1,0.1,0.1,0.1,0.1,0.1,0.1,0.1,0.1,0.1,0.1,0.1,0.1,0.1,0.1,0.1,0.1,0.1,0.1,0.1,0.1,0.1,0.1,0.1,0.1,0.1,0.1,0.1,0.1,0.1,0.1],\"fEXhigh\":[0.1,0.1,0.1,0.1,0.1,0.1,0.1,0.1,0.1,0.1,0.1,0.1,0.1,0.1,0.1,0.1,0.1,0.1,0.1,0.1,0.1,0.1,0.1,0.1,0.1,0.1,0.1,0.1,0.1,0.1,0.1,0.1,0.1,0.1,0.1,0.1,0.1,0.1,0.1,0.1,0.1,0.1,0.1,0.1,0.1,0.1,0.1,0.1,0.1,0.1,0.1,0.1,0.1,0.1,0.1,0.1,0.1,0.1,0.1,0.1,0.1,0.1,0.1,0.1,0.1,0.1,0.1,0.1,0.1,0.1,0.1,0.1,0.1,0.1,0.1,0.1,0.1,0.1,0.1,0.1,0.1,0.1,0.1,0.1,0.1,0.1,0.1,0.1,0.1,0.1,0.1,0.1,0.1,0.1,0.1,0.1,0.1,0.1,0.1,0.1],\"fEYlow\":[41.7995271841187,40.5274298488218,41.858588267316,41.7995271841187,40.8067791046458,42.0940136638942,41.9293530471537,41.335989291518,41.108292442733,41.6218470630147,41.8821896555617,40.8309811158651,40.5030486671419,39.9382244911915,40.3442162368187,40.2461654637586,40.6126501213434,40.0986452975958,40.3809246470771,39.9753011106773,39.5905225708022,38.2330608137286,39.2397785600272,38.5800460593382,38.1813908746828,37.8177504558919,38.4262122483037,36.2729520163939,36.4222155348241,37,36.3272996566407,36.9199144841352,36.3001358693143,34.7171833058806,35.9177154692602,34.8447308661418,34.389110048839,34.1301891418457,34.057922391255,33.5771184227774,32.2757532331448,32.7903890034347,32.1228447563974,32.5945614867458,30.872758884102,31.2056777249754,31.1583322365534,30.8408678884297,29.3035232816525,29.5208261045561,28.6418942417956,28.2793328623163,28.0350661467605,26.3188366638078,27.9648906549805,26,26.6339271024302,26.1505159424729,25.9244205234477,26.1317479711715,24.8229145242012,24.9214476377723,24.2840674627874,23.2118114027587,24.0611481816303,23.3170107276291,21.9332342741745,23.0849528301416,22.1991189256323,21.3917792789896,20.2424685126915,21.8215142855497,20.0243757517738,21.3231528427952,20.7896688560438,20.5535032714273,19.9022057631032,19.8776838723148,19.8285513502561,19.2547462651384,20.4344214154583,20.1215906273013,20.3386659841747,20.0487225880345,20.4344214154583,20.5059515376,20.6009478460092,21.1852484422014,19.9755952294433,21.4374109684803,21.5056810846654,22.11083810919,22.2211355350036,22.6354706025186,24.182990094395,23.6298570240273,24.182990094395,25.5816027114899,25.8486242525108,26.2254560297855],\"fEYhigh\":[42.7995271841187,41.5274298488218,42.858588267316,42.7995271841187,41.8067791046458,43.0940136638942,42.9293530471537,42.335989291518,42.108292442733,42.6218470630147,42.8821896555617,41.8309811158651,41.5030486671419,40.9382244911915,41.3442162368187,41.2461654637586,41.6126501213434,41.0986452975958,41.3809246470771,40.9753011106773,40.5905225708022,39.2330608137286,40.2397785600272,39.5800460593382,39.1813908746828,38.8177504558919,39.4262122483037,37.2729520163939,37.4222155348241,38,37.3272996566407,37.9199144841352,37.3001358693143,35.7171833058806,36.9177154692602,35.8447308661418,35.389110048839,35.1301891418457,35.057922391255,34.5771184227774,33.2757532331448,33.7903890034347,33.1228447563974,33.5945614867458,31.872758884102,32.2056777249754,32.1583322365534,31.8408678884297,30.3035232816525,30.5208261045561,29.6418942417956,29.2793328623163,29.0350661467605,27.3188366638078,28.9648906549805,27,27.6339271024302,27.1505159424729,26.9244205234477,27.1317479711715,25.8229145242012,25.9214476377723,25.2840674627874,24.2118114027587,25.0611481816303,24.3170107276291,22.9332342741745,24.0849528301416,23.1991189256323,22.3917792789896,21.2424685126915,22.8215142855497,21.0243757517738,22.3231528427952,21.7896688560438,21.5535032714273,20.9022057631032,20.8776838723148,20.8285513502561,20.2547462651384,21.4344214154583,21.1215906273013,21.3386659841747,21.0487225880345,21.4344214154583,21.5059515376,21.6009478460092,22.1852484422014,20.9755952294433,22.4374109684803,22.5056810846654,23.11083810919,23.2211355350036,23.6354706025186,25.182990094395,24.6298570240273,25.182990094395,26.5816027114899,26.8486242525108,27.2254560297855],\"_yAxisLabel\":\"Events \\/ ( 0.2 )\",\"_ymin\":0,\"_ymax\":1857.09401366389,\"_normValue\":0,\"_nominalBinWidth\":0.2,\"_nSigma\":1,\"_entries\":100000,\"_rawEntries\":-1},{\"_typename\":\"RooCurve\",\"fUniqueID\":0,\"fBits\":50332680,\"fName\":\"histpdf2_Norm[x]\",\"fTitle\":\"Projection of histpdf2\",\"fLineColor\":600,\"fLineStyle\":1,\"fLineWidth\":3,\"fFillColor\":0,\"fFillStyle\":1000,\"fMarkerColor\":1,\"fMarkerStyle\":1,\"fMarkerSize\":1,\"fNpoints\":106,\"fX\":[-0.2,-0.2,0,0.2,0.4,0.6,0.8,1,1.2,1.4,1.6,1.8,2,2.2,2.4,2.6,2.8,3,3.2,3.4,3.6,3.8,4,4.2,4.4,4.6,4.8,5,5.2,5.4,5.6,5.8,6,6.2,6.4,6.6,6.8,7,7.2,7.4,7.6,7.8,8,8.2,8.4,8.6,8.8,9,9.2,9.4,9.6,9.8,10,10.2,10.4,10.6,10.8,11,11.2,11.4,11.6,11.8,12,12.2,12.4,12.6,12.8,13,13.2,13.4,13.6,13.8,14,14.2,14.4,14.6,14.8,15,15.2,15.4,15.6,15.8,16,16.2,16.4,16.6,16.8,17,17.2,17.4,17.6,17.8,18,18.2,18.4,18.6,18.8,19,19.2,19.4,19.6,19.8,20,20,20.2,20.2],\"fY\":[0,1773.4375,1773.4375,1773.02,1771.7675,1769.68,1766.7575,1763,1758.4075,1752.98,1746.7175,1739.62,1731.6875,1722.92,1713.3175,1702.88,1691.6075,1679.5,1664.8415,1649.036,1632.0835,1613.984,1594.7375,1574.344,1552.8035,1530.116,1506.2815,1481.3,1460.7375,1440.04,1419.2075,1398.24,1377.1375,1355.9,1334.5275,1313.02,1291.3775,1269.6,1245.812,1221.548,1196.808,1171.592,1145.9,1119.732,1093.088,1065.968,1038.372,1010.3,984.7275,959.22,933.7775,908.4,883.0875,857.84,832.6575,807.54,782.4875,757.5,735.7345,714.608,694.1205,674.272,655.0625,636.492,618.5605,601.268,584.6145,568.6,552.779,537.516,522.811,508.664,495.075,482.044,469.571,457.656,446.299,435.5,429.8295,425.548,422.6555,421.152,421.0375,422.312,424.9755,429.028,434.4695,441.3,449.9265,460.016,471.5685,484.584,499.0625,515.004,532.4085,551.276,571.6065,593.4,600.2445,605.568,609.3705,611.652,612.4125,612.4125,612.4125,0],\"fFunctions\":{\"_typename\":\"TList\",\"name\":\"TList\",\"arr\":[],\"opt\":[]},\"fHistogram\":{\"_typename\":\"TH1F\",\"fUniqueID\":0,\"fBits\":50332168,\"fName\":\"histpdf2_Norm[x]\",\"fTitle\":\"Projection of histpdf2\",\"fLineColor\":602,\"fLineStyle\":1,\"fLineWidth\":1,\"fFillColor\":0,\"fFillStyle\":1001,\"fMarkerColor\":1,\"fMarkerStyle\":1,\"fMarkerSize\":1,\"fNcells\":108,\"fXaxis\":{\"_typename\":\"TAxis\",\"fUniqueID\":0,\"fBits\":50331648,\"fName\":\"xaxis\",\"fTitle\":\"\",\"fNdivisions\":510,\"fAxisColor\":1,\"fLabelColor\":1,\"fLabelFont\":42,\"fLabelOffset\":0.005,\"fLabelSize\":0.035,\"fTickLength\":0.03,\"fTitleOffset\":1,\"fTitleSize\":0.035,\"fTitleColor\":1,\"fTitleFont\":42,\"fNbins\":106,\"fXmin\":-2.24,\"fXmax\":22.24,\"fXbins\":[],\"fFirst\":0,\"fLast\":0,\"fBits2\":0,\"fTimeDisplay\":false,\"fTimeFormat\":\"\",\"fLabels\":null,\"fModLabs\":null},\"fYaxis\":{\"_typename\":\"TAxis\",\"fUniqueID\":0,\"fBits\":50331648,\"fName\":\"yaxis\",\"fTitle\":\"\",\"fNdivisions\":510,\"fAxisColor\":1,\"fLabelColor\":1,\"fLabelFont\":42,\"fLabelOffset\":0.005,\"fLabelSize\":0.035,\"fTickLength\":0.03,\"fTitleOffset\":0,\"fTitleSize\":0.035,\"fTitleColor\":1,\"fTitleFont\":42,\"fNbins\":1,\"fXmin\":0,\"fXmax\":1950.78125,\"fXbins\":[],\"fFirst\":0,\"fLast\":0,\"fBits2\":0,\"fTimeDisplay\":false,\"fTimeFormat\":\"\",\"fLabels\":null,\"fModLabs\":null},\"fZaxis\":{\"_typename\":\"TAxis\",\"fUniqueID\":0,\"fBits\":50331648,\"fName\":\"zaxis\",\"fTitle\":\"\",\"fNdivisions\":510,\"fAxisColor\":1,\"fLabelColor\":1,\"fLabelFont\":42,\"fLabelOffset\":0.005,\"fLabelSize\":0.035,\"fTickLength\":0.03,\"fTitleOffset\":1,\"fTitleSize\":0.035,\"fTitleColor\":1,\"fTitleFont\":42,\"fNbins\":1,\"fXmin\":0,\"fXmax\":1,\"fXbins\":[],\"fFirst\":0,\"fLast\":0,\"fBits2\":0,\"fTimeDisplay\":false,\"fTimeFormat\":\"\",\"fLabels\":null,\"fModLabs\":null},\"fBarOffset\":0,\"fBarWidth\":1000,\"fEntries\":0,\"fTsumw\":0,\"fTsumw2\":0,\"fTsumwx\":0,\"fTsumwx2\":0,\"fMaximum\":1950.78125,\"fMinimum\":0,\"fNormFactor\":0,\"fContour\":[],\"fSumw2\":[],\"fOption\":\"\",\"fFunctions\":{\"_typename\":\"TList\",\"name\":\"TList\",\"arr\":[],\"opt\":[]},\"fBufferSize\":0,\"fBuffer\":[],\"fBinStatErrOpt\":0,\"fStatOverflows\":2,\"fArray\":[0,0,0,0,0,0,0,0,0,0,0,0,0,0,0,0,0,0,0,0,0,0,0,0,0,0,0,0,0,0,0,0,0,0,0,0,0,0,0,0,0,0,0,0,0,0,0,0,0,0,0,0,0,0,0,0,0,0,0,0,0,0,0,0,0,0,0,0,0,0,0,0,0,0,0,0,0,0,0,0,0,0,0,0,0,0,0,0,0,0,0,0,0,0,0,0,0,0,0,0,0,0,0,0,0,0,0,0]},\"fMinimum\":-1111,\"fMaximum\":-1111,\"_yAxisLabel\":\"Projection of histpdf2\",\"_ymin\":0,\"_ymax\":1773.4375,\"_normValue\":0},{\"$ref\":31},{\"_typename\":\"TPaveText\",\"fUniqueID\":0,\"fBits\":50331657,\"fLineColor\":1,\"fLineStyle\":1,\"fLineWidth\":1,\"fFillColor\":0,\"fFillStyle\":0,\"fX1\":-1.29143396421227e-7,\"fY1\":2029.06511877149,\"fX2\":18.6666666766008,\"fY2\":2181.50515377712,\"fX1NDC\":0.15,\"fY1NDC\":0.932458859306446,\"fX2NDC\":0.85,\"fY2NDC\":0.995000004768372,\"fBorderSize\":0,\"fInit\":1,\"fShadowColor\":1,\"fCornerRadius\":0,\"fOption\":\"blNDC\",\"fName\":\"title\",\"fTextAngle\":0,\"fTextSize\":0,\"fTextAlign\":22,\"fTextColor\":1,\"fTextFont\":42,\"fLabel\":\"\",\"fLongest\":43,\"fMargin\":0.05,\"fLines\":{\"_typename\":\"TList\",\"name\":\"TList\",\"arr\":[{\"_typename\":\"TLatex\",\"fUniqueID\":0,\"fBits\":50331648,\"fName\":\"\",\"fTitle\":\"High stats histogram pdf with interpolation\",\"fTextAngle\":0,\"fTextSize\":0,\"fTextAlign\":0,\"fTextColor\":0,\"fTextFont\":0,\"fX\":0,\"fY\":0,\"fLineColor\":1,\"fLineStyle\":1,\"fLineWidth\":2,\"fLimitFactorSize\":3,\"fOriginSize\":0.0531599745154381}],\"opt\":[\"\"]}}],\"opt\":[\"\",\"FUNC\",\"p\",\"l\",\"AXISSAME\",\"blNDC\"]},\"fExecs\":{\"_typename\":\"TList\",\"name\":\"TList\",\"arr\":[],\"opt\":[]},\"fName\":\"rf706_histpdf_2\",\"fTitle\":\"rf706_histpdf_2\",\"fNumPaletteColor\":0,\"fNextPaletteColor\":0}],\"opt\":[\"\",\"\"]},\"fExecs\":null,\"fName\":\"rf706_histpdf\",\"fTitle\":\"rf706_histpdf\",\"fNumPaletteColor\":0,\"fNextPaletteColor\":0,\"fDISPLAY\":\"$DISPLAY\",\"fDoubleBuffer\":0,\"fRetained\":true,\"fXsizeUser\":0,\"fYsizeUser\":0,\"fXsizeReal\":20,\"fYsizeReal\":10,\"fWindowTopX\":0,\"fWindowTopY\":0,\"fWindowWidth\":0,\"fWindowHeight\":0,\"fCw\":796,\"fCh\":372,\"fCatt\":{\"_typename\":\"TAttCanvas\",\"fXBetween\":2,\"fYBetween\":2,\"fTitleFromTop\":1.2,\"fXdate\":0.2,\"fYdate\":0.3,\"fAdate\":1},\"kMoveOpaque\":true,\"kResizeOpaque\":true,\"fHighLightColor\":2,\"fBatch\":true,\"kShowEventStatus\":false,\"kAutoExec\":true,\"kMenuBar\":true});\n",
       "       Core.draw(\"root_plot_1\", obj, \"\");\n",
       "     }\n",
       " );\n",
       "</script>\n"
      ],
      "text/plain": [
       "<IPython.core.display.HTML object>"
      ]
     },
     "metadata": {},
     "output_type": "display_data"
    }
   ],
   "source": [
    "%jsroot on\n",
    "gROOT->GetListOfCanvases()->Draw()"
   ]
  }
 ],
 "metadata": {
  "kernelspec": {
   "display_name": "ROOT C++",
   "language": "c++",
   "name": "root"
  },
  "language_info": {
   "codemirror_mode": "text/x-c++src",
   "file_extension": ".C",
   "mimetype": " text/x-c++src",
   "name": "c++"
  }
 },
 "nbformat": 4,
 "nbformat_minor": 2
}
