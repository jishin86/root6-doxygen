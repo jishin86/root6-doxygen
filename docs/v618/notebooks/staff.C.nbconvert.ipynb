{
 "cells": [
  {
   "cell_type": "markdown",
   "metadata": {},
   "source": [
    "# Staff\n",
    "Create a plot of the data in `cernstaff.root`\n",
    "To create `cernstaff.root`, execute tutorial `$ROOTSYS/tutorials/tree/cernbuild.C`\n",
    "\n",
    "\n",
    "\n",
    "\n",
    "**Author:** Rene Brun  \n",
    "<i><small>This notebook tutorial was automatically generated with <a href= \"https://github.com/root-project/root/blob/master/documentation/doxygen/converttonotebook.py\">ROOTBOOK-izer</a> from the macro found in the ROOT repository  on Thursday, August 29, 2019 at 03:56 AM.</small></i>"
   ]
  },
  {
   "cell_type": "code",
   "execution_count": 1,
   "metadata": {
    "collapsed": false
   },
   "outputs": [
    {
     "name": "stderr",
     "output_type": "stream",
     "text": [
      "Info in <TGL5DDataSet::TGL5DDataSet>: Number of selected rows: 3354\n",
      "Info in <TCanvas::Print>: png file staff.C.png has been created\n"
     ]
    }
   ],
   "source": [
    "auto f = TFile::Open(\"cernstaff.root\");\n",
    "TTree *T = nullptr;\n",
    "f->GetObject(\"T\",T);\n",
    "T->Draw(\"Grade:Age:Cost:Division:Nation\",\"\",\"gl5d\");\n",
    "if (gPad) gPad->Print(\"staff.C.png\");"
   ]
  }
 ],
 "metadata": {
  "kernelspec": {
   "display_name": "ROOT C++",
   "language": "c++",
   "name": "root"
  },
  "language_info": {
   "codemirror_mode": "text/x-c++src",
   "file_extension": ".C",
   "mimetype": " text/x-c++src",
   "name": "c++"
  }
 },
 "nbformat": 4,
 "nbformat_minor": 2
}
