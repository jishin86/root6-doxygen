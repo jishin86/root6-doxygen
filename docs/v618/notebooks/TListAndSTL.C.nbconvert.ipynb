{
 "cells": [
  {
   "cell_type": "markdown",
   "metadata": {},
   "source": [
    "#  T List And S T L\n",
    "This is an example of using TList with STL algoritms in CLING.\n",
    "\n",
    "#### Output produced by `.x TListAndSTL.C`\n",
    "\n",
    "#### `TListAndSTL.C` code\n",
    "\n",
    "\n",
    "\n",
    "**Author:** Anar Manafov  \n",
    "<i><small>This notebook tutorial was automatically generated with <a href= \"https://github.com/root-project/root/blob/master/documentation/doxygen/converttonotebook.py\">ROOTBOOK-izer</a> from the macro found in the ROOT repository  on Thursday, August 29, 2019 at 12:55 AM.</small></i>"
   ]
  },
  {
   "cell_type": "markdown",
   "metadata": {},
   "source": [
    "Std"
   ]
  },
  {
   "cell_type": "code",
   "execution_count": 1,
   "metadata": {
    "collapsed": false
   },
   "outputs": [],
   "source": [
    "%%cpp -d\n",
    "#include <algorithm>\n",
    "#include <iostream>\n",
    "#include <sstream>"
   ]
  },
  {
   "cell_type": "markdown",
   "metadata": {},
   "source": [
    "Root"
   ]
  },
  {
   "cell_type": "code",
   "execution_count": 2,
   "metadata": {
    "collapsed": false
   },
   "outputs": [],
   "source": [
    "%%cpp -d\n",
    "#include \"TList.h\"\n",
    "#include \"TCollection.h\"\n",
    "#include \"TObjString.h\""
   ]
  },
  {
   "cell_type": "markdown",
   "metadata": {},
   "source": [
    "A functor for the for_each algorithm"
   ]
  },
  {
   "cell_type": "code",
   "execution_count": 3,
   "metadata": {
    "collapsed": false
   },
   "outputs": [],
   "source": [
    "struct SEnumFunctor {\n",
    "   bool operator()(TObject *aObj) {\n",
    "      if (!aObj)\n",
    "         return false;\n",
    "\n",
    "      TObjString *str(dynamic_cast<TObjString*>(aObj));\n",
    "      if (!str)\n",
    "         return false;\n",
    "\n",
    "      cout << \"Value: \" << str->String().Data() << endl;\n",
    "      return true;\n",
    "   }\n",
    "};"
   ]
  },
  {
   "cell_type": "markdown",
   "metadata": {},
   "source": [
    "A functor for the find_if algorithm"
   ]
  },
  {
   "cell_type": "code",
   "execution_count": 4,
   "metadata": {
    "collapsed": false
   },
   "outputs": [],
   "source": [
    "struct SFind {\n",
    "   // using this ugly constructor, since there is problems with std::bindX in CINT\n",
    "\n",
    "   SFind(const TString &aStr): fToFind(aStr) {\n",
    "\n",
    "   }\n",
    "   bool operator()(TObject *aObj) {\n",
    "      TObjString *str(dynamic_cast<TObjString*>(aObj));\n",
    "      return !str->String().CompareTo(fToFind);\n",
    "   }\n",
    "private:\n",
    "   const TString fToFind;\n",
    "};"
   ]
  },
  {
   "cell_type": "markdown",
   "metadata": {},
   "source": [
    "The \"main\" function"
   ]
  },
  {
   "cell_type": "code",
   "execution_count": 5,
   "metadata": {
    "collapsed": false
   },
   "outputs": [],
   "source": [
    "const Int_t size(10);"
   ]
  },
  {
   "cell_type": "markdown",
   "metadata": {},
   "source": [
    "Initializing tlist container"
   ]
  },
  {
   "cell_type": "code",
   "execution_count": 6,
   "metadata": {
    "collapsed": false
   },
   "outputs": [],
   "source": [
    "TList stringList;\n",
    "ostringstream ss;\n",
    "for (int i = 0; i < size; ++i) {\n",
    "   ss << \"test string #\" << i;\n",
    "   TObjString *s(new TObjString(ss.str().c_str()));\n",
    "   stringList.Add(s);\n",
    "   ss.str(\"\");\n",
    "}"
   ]
  },
  {
   "cell_type": "markdown",
   "metadata": {},
   "source": [
    " ### Example #1\n",
    " Running the std::for_each algorithm on the list"
   ]
  },
  {
   "cell_type": "code",
   "execution_count": 7,
   "metadata": {
    "collapsed": false
   },
   "outputs": [
    {
     "name": "stdout",
     "output_type": "stream",
     "text": [
      "Value: test string #0\n",
      "Value: test string #1\n",
      "Value: test string #2\n",
      "Value: test string #3\n",
      "Value: test string #4\n",
      "Value: test string #5\n",
      "Value: test string #6\n",
      "Value: test string #7\n",
      "Value: test string #8\n",
      "Value: test string #9\n"
     ]
    }
   ],
   "source": [
    "for_each(stringList.begin(), stringList.end(), SEnumFunctor());"
   ]
  },
  {
   "cell_type": "markdown",
   "metadata": {},
   "source": [
    " ### Example #2\n",
    " We can try to find something in the container\n",
    " using the std::find_if algorithm on the list"
   ]
  },
  {
   "cell_type": "code",
   "execution_count": 8,
   "metadata": {
    "collapsed": false
   },
   "outputs": [],
   "source": [
    "string strToFind(\"test string #4\");\n",
    "SFind func(strToFind.c_str());\n",
    "\n",
    "TIterCategory<TList> iter_cat(&stringList);\n",
    "TIterCategory<TList> found\n",
    "   = find_if(iter_cat.Begin(), TIterCategory<TList>::End(), func);"
   ]
  },
  {
   "cell_type": "markdown",
   "metadata": {},
   "source": [
    "Checking the result"
   ]
  },
  {
   "cell_type": "code",
   "execution_count": 9,
   "metadata": {
    "collapsed": false
   },
   "outputs": [
    {
     "name": "stdout",
     "output_type": "stream",
     "text": [
      "The string has been found: test string #4\n"
     ]
    }
   ],
   "source": [
    "if (!(*found)) {\n",
    "   cerr << \"Can't find the string: \\\"\" << strToFind << \"\\\" in the container\" << endl;\n",
    "   return;\n",
    "}\n",
    "\n",
    "TObjString *str(dynamic_cast<TObjString*>(*found));\n",
    "if (!str) {\n",
    "   cerr << \"Can't find the string: \\\"\" << strToFind << \"\\\" in the container\" << endl;\n",
    "   return;\n",
    "}\n",
    "\n",
    "cout << \"The string has been found: \" << str->String().Data() << endl;"
   ]
  }
 ],
 "metadata": {
  "kernelspec": {
   "display_name": "ROOT C++",
   "language": "c++",
   "name": "root"
  },
  "language_info": {
   "codemirror_mode": "text/x-c++src",
   "file_extension": ".C",
   "mimetype": " text/x-c++src",
   "name": "c++"
  }
 },
 "nbformat": 4,
 "nbformat_minor": 2
}
