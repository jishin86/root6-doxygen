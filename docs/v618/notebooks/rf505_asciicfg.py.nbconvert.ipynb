{
 "cells": [
  {
   "cell_type": "markdown",
   "metadata": {},
   "source": [
    "# Rf 5 0 5_Asciicfg\n",
    "\n",
    "Organization and simultaneous fits: reading and writing ASCII configuration files\n",
    "\n",
    "\n",
    "\n",
    "\n",
    "**Author:** Clemens Lange, Wouter Verkerke (C++ version)  \n",
    "<i><small>This notebook tutorial was automatically generated with <a href= \"https://github.com/root-project/root/blob/master/documentation/doxygen/converttonotebook.py\">ROOTBOOK-izer</a> from the macro found in the ROOT repository  on Thursday, August 29, 2019 at 02:55 AM.</small></i>"
   ]
  },
  {
   "cell_type": "code",
   "execution_count": 1,
   "metadata": {
    "collapsed": false
   },
   "outputs": [
    {
     "name": "stdout",
     "output_type": "stream",
     "text": [
      "Welcome to JupyROOT 6.18/03\n"
     ]
    }
   ],
   "source": [
    "from __future__ import print_function\n",
    "import ROOT"
   ]
  },
  {
   "cell_type": "markdown",
   "metadata": {},
   "source": [
    "Create pdf\n",
    "------------------"
   ]
  },
  {
   "cell_type": "markdown",
   "metadata": {},
   "source": [
    "Construct gauss(x,m,s)"
   ]
  },
  {
   "cell_type": "code",
   "execution_count": 2,
   "metadata": {
    "collapsed": false
   },
   "outputs": [
    {
     "name": "stdout",
     "output_type": "stream",
     "text": [
      "\n",
      "\u001b[1mRooFit v3.60 -- Developed by Wouter Verkerke and David Kirkby\u001b[0m \n",
      "                Copyright (C) 2000-2013 NIKHEF, University of California & Stanford University\n",
      "                All rights reserved, please read http://roofit.sourceforge.net/license.txt\n",
      "\n"
     ]
    }
   ],
   "source": [
    "x = ROOT.RooRealVar(\"x\", \"x\", -10, 10)\n",
    "m = ROOT.RooRealVar(\"m\", \"m\", 0, -10, 10)\n",
    "s = ROOT.RooRealVar(\"s\", \"s\", 1, -10, 10)\n",
    "gauss = ROOT.RooGaussian(\"g\", \"g\", x, m, s)"
   ]
  },
  {
   "cell_type": "markdown",
   "metadata": {},
   "source": [
    "Construct poly(x,p0)"
   ]
  },
  {
   "cell_type": "code",
   "execution_count": 3,
   "metadata": {
    "collapsed": false
   },
   "outputs": [],
   "source": [
    "p0 = ROOT.RooRealVar(\"p0\", \"p0\", 0.01, 0., 1.)\n",
    "poly = ROOT.RooPolynomial(\"p\", \"p\", x, ROOT.RooArgList(p0))"
   ]
  },
  {
   "cell_type": "markdown",
   "metadata": {},
   "source": [
    "model = f*gauss(x) + (1-f)*poly(x)"
   ]
  },
  {
   "cell_type": "code",
   "execution_count": 4,
   "metadata": {
    "collapsed": false
   },
   "outputs": [],
   "source": [
    "f = ROOT.RooRealVar(\"f\", \"f\", 0.5, 0., 1.)\n",
    "model = ROOT.RooAddPdf(\"model\", \"model\", ROOT.RooArgList(\n",
    "    gauss, poly), ROOT.RooArgList(f))"
   ]
  },
  {
   "cell_type": "markdown",
   "metadata": {},
   "source": [
    "Fit model to toy data\n",
    "-----------------------------------------"
   ]
  },
  {
   "cell_type": "code",
   "execution_count": 5,
   "metadata": {
    "collapsed": false
   },
   "outputs": [
    {
     "data": {
      "text/plain": [
       "<ROOT.RooFitResult object at 0x(nil)>"
      ]
     },
     "execution_count": 5,
     "metadata": {},
     "output_type": "execute_result"
    },
    {
     "name": "stdout",
     "output_type": "stream",
     "text": [
      "[#1] INFO:Minization -- RooMinimizer::optimizeConst: activating const optimization\n",
      "[#1] INFO:Minization --  The following expressions will be evaluated in cache-and-track mode: (g,p)\n",
      " **********\n",
      " **    1 **SET PRINT           1\n",
      " **********\n",
      " **********\n",
      " **    2 **SET NOGRAD\n",
      " **********\n",
      " PARAMETER DEFINITIONS:\n",
      "    NO.   NAME         VALUE      STEP SIZE      LIMITS\n",
      "     1 f            5.00000e-01  1.00000e-01    0.00000e+00  1.00000e+00\n",
      "     2 m            0.00000e+00  2.00000e+00   -1.00000e+01  1.00000e+01\n",
      "     3 p0           1.00000e-02  5.00000e-03    0.00000e+00  1.00000e+00\n",
      "     4 s            1.00000e+00  2.00000e+00   -1.00000e+01  1.00000e+01\n",
      " **********\n",
      " **    3 **SET ERR         0.5\n",
      " **********\n",
      " **********\n",
      " **    4 **SET PRINT           1\n",
      " **********\n",
      " **********\n",
      " **    5 **SET STR           1\n",
      " **********\n",
      " NOW USING STRATEGY  1: TRY TO BALANCE SPEED AGAINST RELIABILITY\n",
      " **********\n",
      " **    6 **MIGRAD        2000           1\n",
      " **********\n",
      " FIRST CALL TO USER FUNCTION AT NEW START POINT, WITH IFLAG=4.\n",
      " START MIGRAD MINIMIZATION.  STRATEGY  1.  CONVERGENCE WHEN EDM .LT. 1.00e-03\n",
      " FCN=2578.08 FROM MIGRAD    STATUS=INITIATE       16 CALLS          17 TOTAL\n",
      "                     EDM= unknown      STRATEGY= 1      NO ERROR MATRIX       \n",
      "  EXT PARAMETER               CURRENT GUESS       STEP         FIRST   \n",
      "  NO.   NAME      VALUE            ERROR          SIZE      DERIVATIVE \n",
      "   1  f            5.00000e-01   1.00000e-01   2.01358e-01  -1.53716e+01\n",
      "   2  m            0.00000e+00   2.00000e+00   2.01358e-01  -2.26705e+01\n",
      "   3  p0           1.00000e-02   5.00000e-03   5.20130e-02   4.33944e+00\n",
      "   4  s            1.00000e+00   2.00000e+00   2.02430e-01   1.92608e+02\n",
      "                               ERR DEF= 0.5\n",
      " MIGRAD MINIMIZATION HAS CONVERGED.\n",
      " MIGRAD WILL VERIFY CONVERGENCE AND ERROR MATRIX.\n",
      " COVARIANCE MATRIX CALCULATED SUCCESSFULLY\n",
      " FCN=2577.55 FROM MIGRAD    STATUS=CONVERGED      72 CALLS          73 TOTAL\n",
      "                     EDM=8.24282e-07    STRATEGY= 1      ERROR MATRIX ACCURATE \n",
      "  EXT PARAMETER                                   STEP         FIRST   \n",
      "  NO.   NAME      VALUE            ERROR          SIZE      DERIVATIVE \n",
      "   1  f            5.07346e-01   2.09674e-02   1.38917e-03  -5.25373e-03\n",
      "   2  m            6.23214e-03   5.36796e-02   1.87122e-04  -5.00083e-02\n",
      "   3  p0           7.29872e-03   7.84582e-03   3.20927e-03   6.94096e-03\n",
      "   4  s            9.64897e-01   4.70258e-02   1.56237e-04  -8.82679e-02\n",
      "                               ERR DEF= 0.5\n",
      " EXTERNAL ERROR MATRIX.    NDIM=  25    NPAR=  4    ERR DEF=0.5\n",
      "  4.399e-04  5.188e-05 -1.462e-06  3.236e-04 \n",
      "  5.188e-05  2.882e-03 -3.245e-05  1.903e-04 \n",
      " -1.462e-06 -3.245e-05  6.173e-05 -5.278e-06 \n",
      "  3.236e-04  1.903e-04 -5.278e-06  2.211e-03 \n",
      " PARAMETER  CORRELATION COEFFICIENTS  \n",
      "       NO.  GLOBAL      1      2      3      4\n",
      "        1  0.32882   1.000  0.046 -0.009  0.328\n",
      "        2  0.10924   0.046  1.000 -0.077  0.075\n",
      "        3  0.07746  -0.009 -0.077  1.000 -0.014\n",
      "        4  0.33367   0.328  0.075 -0.014  1.000\n",
      " **********\n",
      " **    7 **SET ERR         0.5\n",
      " **********\n",
      " **********\n",
      " **    8 **SET PRINT           1\n",
      " **********\n",
      " **********\n",
      " **    9 **HESSE        2000\n",
      " **********\n",
      " COVARIANCE MATRIX CALCULATED SUCCESSFULLY\n",
      " FCN=2577.55 FROM HESSE     STATUS=OK             23 CALLS          96 TOTAL\n",
      "                     EDM=8.2344e-07    STRATEGY= 1      ERROR MATRIX ACCURATE \n",
      "  EXT PARAMETER                                INTERNAL      INTERNAL  \n",
      "  NO.   NAME      VALUE            ERROR       STEP SIZE       VALUE   \n",
      "   1  f            5.07346e-01   2.09713e-02   2.77834e-04   1.46934e-02\n",
      "   2  m            6.23214e-03   5.36750e-02   3.74243e-05   6.23214e-04\n",
      "   3  p0           7.29872e-03   7.84576e-03   1.28371e-04  -1.39972e+00\n",
      "   4  s            9.64897e-01   4.70322e-02   6.24947e-06   9.66401e-02\n",
      "                               ERR DEF= 0.5\n",
      " EXTERNAL ERROR MATRIX.    NDIM=  25    NPAR=  4    ERR DEF=0.5\n",
      "  4.401e-04  5.204e-05 -1.457e-06  3.242e-04 \n",
      "  5.204e-05  2.881e-03 -3.217e-05  1.889e-04 \n",
      " -1.457e-06 -3.217e-05  6.173e-05 -5.241e-06 \n",
      "  3.242e-04  1.889e-04 -5.241e-06  2.212e-03 \n",
      " PARAMETER  CORRELATION COEFFICIENTS  \n",
      "       NO.  GLOBAL      1      2      3      4\n",
      "        1  0.32931   1.000  0.046 -0.009  0.329\n",
      "        2  0.10847   0.046  1.000 -0.076  0.075\n",
      "        3  0.07679  -0.009 -0.076  1.000 -0.014\n",
      "        4  0.33403   0.329  0.075 -0.014  1.000\n",
      "[#1] INFO:Minization -- RooMinimizer::optimizeConst: deactivating const optimization\n"
     ]
    }
   ],
   "source": [
    "d = model.generate(ROOT.RooArgSet(x), 1000)\n",
    "model.fitTo(d)"
   ]
  },
  {
   "cell_type": "markdown",
   "metadata": {},
   "source": [
    "Write parameters to ASCII file\n",
    "-----------------------------------------------------------"
   ]
  },
  {
   "cell_type": "markdown",
   "metadata": {},
   "source": [
    "Obtain set of parameters"
   ]
  },
  {
   "cell_type": "code",
   "execution_count": 6,
   "metadata": {
    "collapsed": false
   },
   "outputs": [],
   "source": [
    "params = model.getParameters(ROOT.RooArgSet(x))"
   ]
  },
  {
   "cell_type": "markdown",
   "metadata": {},
   "source": [
    "Write parameters to file"
   ]
  },
  {
   "cell_type": "code",
   "execution_count": 7,
   "metadata": {
    "collapsed": false
   },
   "outputs": [],
   "source": [
    "params.writeToFile(\"rf505_asciicfg_example.txt\")"
   ]
  },
  {
   "cell_type": "markdown",
   "metadata": {},
   "source": [
    "Read parameters from ASCII file\n",
    "----------------------------------------------------------------"
   ]
  },
  {
   "cell_type": "markdown",
   "metadata": {},
   "source": [
    "Read parameters from file"
   ]
  },
  {
   "cell_type": "code",
   "execution_count": 8,
   "metadata": {
    "collapsed": false
   },
   "outputs": [
    {
     "name": "stdout",
     "output_type": "stream",
     "text": [
      "  1) 0x56520ec4d740 RooRealVar::  f = 0.50735 +/- 0.020971  L(0 - 1)  \"f\"\n",
      "  2) 0x56520f47e780 RooRealVar::  m = 0.0062321 +/- 0.053675  L(-10 - 10)  \"m\"\n",
      "  3) 0x56520ec680d0 RooRealVar:: p0 = 0.0072987 +/- 0.0078458  L(0 - 1)  \"p0\"\n",
      "  4) 0x56520ec8f300 RooRealVar::  s = 0.9649 +/- 0.047032  L(-10 - 10)  \"s\"\n"
     ]
    }
   ],
   "source": [
    "params.readFromFile(\"rf505_asciicfg_example.txt\")\n",
    "params.Print(\"v\")\n",
    "\n",
    "configFile = ROOT.gROOT.GetTutorialDir().Data() + \"/roofit/rf505_asciicfg.txt\""
   ]
  },
  {
   "cell_type": "markdown",
   "metadata": {},
   "source": [
    "Read parameters from section 'Section2' of file"
   ]
  },
  {
   "cell_type": "code",
   "execution_count": 9,
   "metadata": {
    "collapsed": false
   },
   "outputs": [
    {
     "name": "stdout",
     "output_type": "stream",
     "text": [
      "[#1] INFO:InputArguments -- RooArgSet::readFromStream(parameters): processing include file rf505_asciicfg_example.txt\n",
      "  1) 0x56520ec4d740 RooRealVar::  f = 0.45 +/- 0.03  L(0 - 1)  \"f\"\n",
      "  2) 0x56520f47e780 RooRealVar::  m = 0.025 +/- 0.02  L(-10 - 10)  \"m\"\n",
      "  3) 0x56520ec680d0 RooRealVar:: p0 = 0.0022 +/- 0.0001  L(0 - 1)  \"p0\"\n",
      "  4) 0x56520ec8f300 RooRealVar::  s = 0.98 +/- 0.03  L(-10 - 10)  \"s\"\n"
     ]
    }
   ],
   "source": [
    "params.readFromFile(configFile, \"\", \"Section2\")\n",
    "params.Print(\"v\")"
   ]
  },
  {
   "cell_type": "markdown",
   "metadata": {},
   "source": [
    "Read parameters from section 'Section3' of file. Mark all\n",
    "variables that were processed with the \"READ\" attribute"
   ]
  },
  {
   "cell_type": "code",
   "execution_count": 10,
   "metadata": {
    "collapsed": false
   },
   "outputs": [
    {
     "data": {
      "text/plain": [
       "False"
      ]
     },
     "execution_count": 10,
     "metadata": {},
     "output_type": "execute_result"
    },
    {
     "name": "stdout",
     "output_type": "stream",
     "text": [
      "[#1] INFO:InputArguments -- RooArgSet::readFromStream(parameters): processing include file rf505_asciicfg_example.txt\n"
     ]
    }
   ],
   "source": [
    "params.readFromFile(configFile, \"READ\", \"Section3\")"
   ]
  },
  {
   "cell_type": "markdown",
   "metadata": {},
   "source": [
    "Print the list of parameters that were not read from Section3"
   ]
  },
  {
   "cell_type": "code",
   "execution_count": 11,
   "metadata": {
    "collapsed": false
   },
   "outputs": [
    {
     "name": "stdout",
     "output_type": "stream",
     "text": [
      "The following parameters of the were _not_ read from Section3:  { @0x5652109cfd00, @0x5652109cfd08 }\n"
     ]
    }
   ],
   "source": [
    "print(\"The following parameters of the were _not_ read from Section3: \",\n",
    "      params.selectByAttrib(\"READ\", ROOT.kFALSE))"
   ]
  },
  {
   "cell_type": "markdown",
   "metadata": {},
   "source": [
    "Read parameters from section 'Section4' of file, contains\n",
    "'include file' statement of rf505_asciicfg_example.txt\n",
    "so that we effective read the same"
   ]
  },
  {
   "cell_type": "code",
   "execution_count": 12,
   "metadata": {
    "collapsed": false
   },
   "outputs": [
    {
     "name": "stdout",
     "output_type": "stream",
     "text": [
      "[#1] INFO:InputArguments -- RooArgSet::readFromStream(parameters): processing include file rf505_asciicfg_example.txt\n",
      "  1) 0x56520ec4d740 RooRealVar::  f = 0.372 C  L(0 - 1)  \"f\"\n",
      "  2) 0x56520f47e780 RooRealVar::  m = 0.195 C  L(-10 - 10)  \"m\"\n",
      "  3) 0x56520ec680d0 RooRealVar:: p0 = 0.0022 +/- 0.0001  L(0 - 1)  \"p0\"\n",
      "  4) 0x56520ec8f300 RooRealVar::  s = 0.98 +/- 0.03  L(-10 - 10)  \"s\"\n"
     ]
    }
   ],
   "source": [
    "params.readFromFile(configFile, \"\", \"Section4\")\n",
    "params.Print(\"v\")"
   ]
  }
 ],
 "metadata": {
  "kernelspec": {
   "display_name": "Python 2",
   "language": "python",
   "name": "python2"
  },
  "language_info": {
   "codemirror_mode": {
    "name": "ipython",
    "version": 2
   },
   "file_extension": ".py",
   "mimetype": "text/x-python",
   "name": "python",
   "nbconvert_exporter": "python",
   "pygments_lexer": "ipython2",
   "version": "2.7.10"
  }
 },
 "nbformat": 4,
 "nbformat_minor": 2
}
