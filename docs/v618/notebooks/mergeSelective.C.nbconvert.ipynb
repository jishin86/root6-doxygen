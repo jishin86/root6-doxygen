{
 "cells": [
  {
   "cell_type": "markdown",
   "metadata": {},
   "source": [
    "# Merge Selective\n",
    "Merge only part of the content of a set of files.\n",
    "This macro demonstrates how to merge only a part of the content of a set\n",
    "of input files, specified via the interface.\n",
    "```cpp\n",
    "    TFileMerger::AddObjectNames(const char *names)\n",
    "```\n",
    "The method can be called several times to add object names, or using a single\n",
    "string with names separated by a blank. Directory names contained in the files\n",
    "to be merged are accepted.\n",
    "\n",
    "Two modes are supported:\n",
    "1. kOnlyListed: via <tt>TFileMerger::PartialMerge(kOnlyListed)</tt>\n",
    "   This will merge only the objects in the files having the names in the\n",
    "   specified list. If a folder is specified, its whole content will be merged\n",
    "\n",
    "2. kSkipListed: via <tt>TFileMerger::PartialMerge(kSkipListed)</tt>\n",
    "   This will skip merging of specified objects. If a folder is specified, its\n",
    "   whole content will be skipped. \n",
    "\n",
    "Important note: the kOnlyListed and kSkipListed flags have to be bitwise OR-ed\n",
    "on top of the merging defaults: kAll | kIncremental (as in the example)\n",
    "\n",
    "The files to be merged have the following structure:\n",
    "- hpx          (TH1F)\n",
    "- hpxpy        (TH2F)\n",
    "- hprof        (TProfile)\n",
    "- ntuple       (TNtuple)\n",
    "- folder       (TDirectory)\n",
    "     - hpx1    (TH1F)\n",
    "\n",
    "The example first merges exclusively hprof and the content of \"folder\",\n",
    "producing the file exclusive.root, then merges all content but skipping\n",
    "hprof and the content of \"folder\". The result can be inspected in the\n",
    "browser.\n",
    "\n",
    "\n",
    "\n",
    "\n",
    "**Author:** The Root Team  \n",
    "<i><small>This notebook tutorial was automatically generated with <a href= \"https://github.com/root-project/root/blob/master/documentation/doxygen/converttonotebook.py\">ROOTBOOK-izer</a> from the macro found in the ROOT repository  on Thursday, August 29, 2019 at 02:04 AM.</small></i>"
   ]
  },
  {
   "cell_type": "code",
   "execution_count": 1,
   "metadata": {
    "collapsed": false
   },
   "outputs": [],
   "source": [
    "void CreateFile(const char *);"
   ]
  },
  {
   "cell_type": "markdown",
   "metadata": {},
   "source": [
    " A helper function is created: "
   ]
  },
  {
   "cell_type": "code",
   "execution_count": 2,
   "metadata": {
    "collapsed": false
   },
   "outputs": [],
   "source": [
    "%%cpp -d\n",
    "void CreateFile(const char *fname)\n",
    "{\n",
    "   TFile *example = (TFile*)gROOT->ProcessLineFast(\"hsimple(1)\");\n",
    "   if (!example) return;\n",
    "   TH1F *hpx = (TH1F*)example->Get(\"hpx\");\n",
    "   hpx->SetName(\"hpx1\");\n",
    "   TFile::Cp(example->GetName(), fname);\n",
    "   TFile *file = TFile::Open(fname, \"UPDATE\");\n",
    "   file->mkdir(\"folder\")->cd();\n",
    "   hpx->Write();\n",
    "   file->Close();\n",
    "   example->Close();\n",
    "   TString sname(fname);\n",
    "   if (sname.Contains(\"000\")) {\n",
    "      TFile::Cp(fname, \"original.root\");\n",
    "      TFile::Open(\"original.root\");\n",
    "   }\n",
    "}"
   ]
  },
  {
   "cell_type": "markdown",
   "metadata": {},
   "source": [
    " Arguments are defined. "
   ]
  },
  {
   "cell_type": "code",
   "execution_count": 3,
   "metadata": {
    "collapsed": false
   },
   "outputs": [],
   "source": [
    "Int_t nfiles=5;"
   ]
  },
  {
   "cell_type": "markdown",
   "metadata": {},
   "source": [
    "Create the files to be merged"
   ]
  },
  {
   "cell_type": "code",
   "execution_count": 4,
   "metadata": {
    "collapsed": false
   },
   "outputs": [
    {
     "name": "stderr",
     "output_type": "stream",
     "text": [
      "[TFile::Cp] Total 0.40 MB\t|====================| 100.00 % [578.2 MB/s]\r\n",
      "[TFile::Cp] Total 0.40 MB\t|====================| 100.00 % [756.5 MB/s]\r\n",
      "[TFile::Cp] Total 0.40 MB\t|====================| 100.00 % [643.0 MB/s]\r\n",
      "[TFile::Cp] Total 0.40 MB\t|====================| 100.00 % [905.0 MB/s]\r\n",
      "[TFile::Cp] Total 0.40 MB\t|====================| 100.00 % [824.1 MB/s]\r\n",
      "[TFile::Cp] Total 0.40 MB\t|====================| 100.00 % [802.1 MB/s]\r\n"
     ]
    }
   ],
   "source": [
    "TStopwatch timer;\n",
    "timer.Start();\n",
    "TString tutdir = gROOT->GetTutorialDir();\n",
    "if (gROOT->LoadMacro(tutdir + \"/hsimple.C\")) return;\n",
    "Int_t i;\n",
    "for (i=0; i<nfiles; i++) CreateFile(Form(\"tomerge%03d.root\",i));"
   ]
  },
  {
   "cell_type": "markdown",
   "metadata": {},
   "source": [
    "------------------------------------\n",
    " Merge only the listed objects\n",
    "------------------------------------"
   ]
  },
  {
   "cell_type": "code",
   "execution_count": 5,
   "metadata": {
    "collapsed": false
   },
   "outputs": [],
   "source": [
    "TFileMerger *fm;\n",
    "fm = new TFileMerger(kFALSE);\n",
    "fm->OutputFile(\"exclusive.root\");\n",
    "fm->AddObjectNames(\"hprof folder\");\n",
    "for (i=0; i<nfiles; i++) fm->AddFile(Form(\"tomerge%03d.root\",i));"
   ]
  },
  {
   "cell_type": "markdown",
   "metadata": {},
   "source": [
    "Must add new merging flag on top of the the default ones"
   ]
  },
  {
   "cell_type": "code",
   "execution_count": 6,
   "metadata": {
    "collapsed": false
   },
   "outputs": [],
   "source": [
    "Int_t default_mode = TFileMerger::kAll | TFileMerger::kIncremental;\n",
    "Int_t mode = default_mode | TFileMerger::kOnlyListed;\n",
    "fm->PartialMerge(mode);\n",
    "fm->Reset();"
   ]
  },
  {
   "cell_type": "markdown",
   "metadata": {},
   "source": [
    "------------------------------------\n",
    " Skip merging of the listed objects\n",
    "------------------------------------"
   ]
  },
  {
   "cell_type": "code",
   "execution_count": 7,
   "metadata": {
    "collapsed": false
   },
   "outputs": [],
   "source": [
    "fm->OutputFile(\"skipped.root\");\n",
    "fm->AddObjectNames(\"hprof folder\");\n",
    "for (i=0; i<nfiles; i++) fm->AddFile(Form(\"tomerge%03d.root\",i));"
   ]
  },
  {
   "cell_type": "markdown",
   "metadata": {},
   "source": [
    "Must add new merging flag on top of the the default ones"
   ]
  },
  {
   "cell_type": "code",
   "execution_count": 8,
   "metadata": {
    "collapsed": false
   },
   "outputs": [],
   "source": [
    "mode = default_mode | TFileMerger::kSkipListed;\n",
    "fm->PartialMerge(mode);\n",
    "delete fm;"
   ]
  },
  {
   "cell_type": "markdown",
   "metadata": {},
   "source": [
    "Cleanup initial files"
   ]
  },
  {
   "cell_type": "code",
   "execution_count": 9,
   "metadata": {
    "collapsed": false
   },
   "outputs": [],
   "source": [
    "for (i=0; i<nfiles; i++) gSystem->Unlink(Form(\"tomerge%03d.root\",i));"
   ]
  },
  {
   "cell_type": "markdown",
   "metadata": {},
   "source": [
    "Open files to inspect in the browser"
   ]
  },
  {
   "cell_type": "code",
   "execution_count": 10,
   "metadata": {
    "collapsed": false
   },
   "outputs": [
    {
     "name": "stdout",
     "output_type": "stream",
     "text": [
      "Real time 0:00:01, CP time 0.260\n"
     ]
    }
   ],
   "source": [
    "TFile::Open(\"exclusive.root\");\n",
    "TFile::Open(\"skipped.root\");\n",
    "new TBrowser();\n",
    "timer.Stop();\n",
    "timer.Print();"
   ]
  }
 ],
 "metadata": {
  "kernelspec": {
   "display_name": "ROOT C++",
   "language": "c++",
   "name": "root"
  },
  "language_info": {
   "codemirror_mode": "text/x-c++src",
   "file_extension": ".C",
   "mimetype": " text/x-c++src",
   "name": "c++"
  }
 },
 "nbformat": 4,
 "nbformat_minor": 2
}
