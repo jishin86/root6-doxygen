{
 "cells": [
  {
   "cell_type": "markdown",
   "metadata": {},
   "source": [
    "# Hsimple Proxy\n",
    "\n",
    "To use this file, generate hsimple.root:\n",
    "``` cpp\n",
    "   root.exe -b -l -q hsimple.C\n",
    "```\n",
    "and do\n",
    "``` cpp\n",
    "   TFile *file = TFile::Open(\"hsimple.root\");\n",
    "   TTree *ntuple ;  file->GetObject(\"ntuple\",ntuple);\n",
    "   ntuple->Draw(\"hsimpleProxy.C+\");\n",
    "```\n",
    "\n",
    "\n",
    "\n",
    "\n",
    "**Author:** Rene Brun  \n",
    "<i><small>This notebook tutorial was automatically generated with <a href= \"https://github.com/root-project/root/blob/master/documentation/doxygen/converttonotebook.py\">ROOTBOOK-izer</a> from the macro found in the ROOT repository  on Thursday, August 29, 2019 at 03:54 AM.</small></i>"
   ]
  },
  {
   "cell_type": "code",
   "execution_count": 1,
   "metadata": {
    "collapsed": false
   },
   "outputs": [
    {
     "name": "stderr",
     "output_type": "stream",
     "text": [
      "input_line_27:2:3: error: use of undeclared identifier 'px'\n",
      " (px)\n",
      "  ^\n",
      "Error in <HandleInterpreterException>: Error evaluating expression (px).\n",
      "Execution of your code was aborted.\n"
     ]
    }
   ],
   "source": [
    "return px;"
   ]
  }
 ],
 "metadata": {
  "kernelspec": {
   "display_name": "ROOT C++",
   "language": "c++",
   "name": "root"
  },
  "language_info": {
   "codemirror_mode": "text/x-c++src",
   "file_extension": ".C",
   "mimetype": " text/x-c++src",
   "name": "c++"
  }
 },
 "nbformat": 4,
 "nbformat_minor": 2
}
