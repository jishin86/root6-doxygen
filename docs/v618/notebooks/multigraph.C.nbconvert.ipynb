{
 "cells": [
  {
   "cell_type": "markdown",
   "metadata": {},
   "source": [
    "# Multigraph\n",
    "Create and Draw a TMultiGraph.\n",
    "\n",
    "\n",
    "\n",
    "\n",
    "**Author:** Rene Brun  \n",
    "<i><small>This notebook tutorial was automatically generated with <a href= \"https://github.com/root-project/root/blob/master/documentation/doxygen/converttonotebook.py\">ROOTBOOK-izer</a> from the macro found in the ROOT repository  on Thursday, August 29, 2019 at 01:48 AM.</small></i>"
   ]
  },
  {
   "cell_type": "code",
   "execution_count": 1,
   "metadata": {
    "collapsed": false
   },
   "outputs": [],
   "source": [
    "gStyle->SetOptFit();\n",
    "auto c1 = new TCanvas(\"c1\",\"multigraph\",700,500);\n",
    "c1->SetGrid();"
   ]
  },
  {
   "cell_type": "markdown",
   "metadata": {},
   "source": [
    "Draw a frame to define the range"
   ]
  },
  {
   "cell_type": "code",
   "execution_count": 2,
   "metadata": {
    "collapsed": false
   },
   "outputs": [],
   "source": [
    "auto mg = new TMultiGraph();"
   ]
  },
  {
   "cell_type": "markdown",
   "metadata": {},
   "source": [
    "Create first graph"
   ]
  },
  {
   "cell_type": "code",
   "execution_count": 3,
   "metadata": {
    "collapsed": false
   },
   "outputs": [],
   "source": [
    "const Int_t n1 = 10;\n",
    "Double_t px1[] = {-0.1, 0.05, 0.25, 0.35, 0.5, 0.61,0.7,0.85,0.89,0.95};\n",
    "Double_t py1[] = {-1,2.9,5.6,7.4,9,9.6,8.7,6.3,4.5,1};\n",
    "Double_t ex1[] = {.05,.1,.07,.07,.04,.05,.06,.07,.08,.05};\n",
    "Double_t ey1[] = {.8,.7,.6,.5,.4,.4,.5,.6,.7,.8};\n",
    "auto gr1 = new TGraphErrors(n1,px1,py1,ex1,ey1);\n",
    "gr1->SetMarkerColor(kBlue);\n",
    "gr1->SetMarkerStyle(21);\n",
    "gr1->Fit(\"pol6\",\"q\");\n",
    "mg->Add(gr1);"
   ]
  },
  {
   "cell_type": "markdown",
   "metadata": {},
   "source": [
    "Create second graph"
   ]
  },
  {
   "cell_type": "code",
   "execution_count": 4,
   "metadata": {
    "collapsed": false
   },
   "outputs": [],
   "source": [
    "const Int_t n2 = 10;\n",
    "Float_t x2[]  = {-0.28, 0.005, 0.19, 0.29, 0.45, 0.56,0.65,0.80,0.90,1.01};\n",
    "Float_t y2[]  = {2.1,3.86,7,9,10,10.55,9.64,7.26,5.42,2};\n",
    "Float_t ex2[] = {.04,.12,.08,.06,.05,.04,.07,.06,.08,.04};\n",
    "Float_t ey2[] = {.6,.8,.7,.4,.3,.3,.4,.5,.6,.7};\n",
    "auto gr2 = new TGraphErrors(n2,x2,y2,ex2,ey2);\n",
    "gr2->SetMarkerColor(kRed);\n",
    "gr2->SetMarkerStyle(20);\n",
    "gr2->Fit(\"pol5\",\"q\");\n",
    "\n",
    "mg->Add(gr2);\n",
    "\n",
    "mg->Draw(\"ap\");"
   ]
  },
  {
   "cell_type": "markdown",
   "metadata": {},
   "source": [
    "Force drawing of canvas to generate the fit tpavestats"
   ]
  },
  {
   "cell_type": "code",
   "execution_count": 5,
   "metadata": {
    "collapsed": false
   },
   "outputs": [],
   "source": [
    "c1->Update();\n",
    "auto stats1 = (TPaveStats*)gr1->GetListOfFunctions()->FindObject(\"stats\");\n",
    "auto stats2 = (TPaveStats*)gr2->GetListOfFunctions()->FindObject(\"stats\");\n",
    "stats1->SetTextColor(kBlue);\n",
    "stats2->SetTextColor(kRed);\n",
    "stats1->SetX1NDC(0.12); stats1->SetX2NDC(0.32); stats1->SetY1NDC(0.75);\n",
    "stats2->SetX1NDC(0.72); stats2->SetX2NDC(0.92); stats2->SetY1NDC(0.78);\n",
    "c1->Modified();"
   ]
  },
  {
   "cell_type": "markdown",
   "metadata": {},
   "source": [
    "Draw all canvases "
   ]
  },
  {
   "cell_type": "code",
   "execution_count": 6,
   "metadata": {
    "collapsed": false
   },
   "outputs": [
    {
     "data": {
      "image/png": "[encoded data removed]",
      "text/plain": [
       "<IPython.core.display.Image object>"
      ]
     },
     "metadata": {},
     "output_type": "display_data"
    }
   ],
   "source": [
    "gROOT->GetListOfCanvases()->Draw()"
   ]
  }
 ],
 "metadata": {
  "kernelspec": {
   "display_name": "ROOT C++",
   "language": "c++",
   "name": "root"
  },
  "language_info": {
   "codemirror_mode": "text/x-c++src",
   "file_extension": ".C",
   "mimetype": " text/x-c++src",
   "name": "c++"
  }
 },
 "nbformat": 4,
 "nbformat_minor": 2
}
