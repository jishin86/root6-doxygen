{
 "cells": [
  {
   "cell_type": "markdown",
   "metadata": {},
   "source": [
    "#  T M V A Classification Category Application\n",
    "This macro provides a simple example on how to use the trained classifiers\n",
    "(with categories) within an analysis module\n",
    "- Project   : TMVA - a Root-integrated toolkit for multivariate data analysis\n",
    "- Package   : TMVA\n",
    "- Exectuable: TMVAClassificationCategoryApplication\n",
    "\n",
    "\n",
    "\n",
    "**Author:** Andreas Hoecker  \n",
    "<i><small>This notebook tutorial was automatically generated with <a href= \"https://github.com/root-project/root/blob/master/documentation/doxygen/converttonotebook.py\">ROOTBOOK-izer</a> from the macro found in the ROOT repository  on Thursday, August 29, 2019 at 03:46 AM.</small></i>"
   ]
  },
  {
   "cell_type": "code",
   "execution_count": 1,
   "metadata": {
    "collapsed": false
   },
   "outputs": [],
   "source": [
    "%%cpp -d\n",
    "#include <cstdlib>\n",
    "#include <vector>\n",
    "#include <iostream>\n",
    "#include <map>\n",
    "#include <string>\n",
    "\n",
    "#include \"TFile.h\"\n",
    "#include \"TTree.h\"\n",
    "#include \"TString.h\"\n",
    "#include \"TSystem.h\"\n",
    "#include \"TROOT.h\"\n",
    "#include \"TH1F.h\"\n",
    "#include \"TStopwatch.h\"\n",
    "\n",
    "#if not defined(__CINT__) || defined(__MAKECINT__)\n",
    "#include \"TMVA/Tools.h\"\n",
    "#include \"TMVA/Reader.h\"\n",
    "#include \"TMVA/MethodCuts.h\"\n",
    "#endif"
   ]
  },
  {
   "cell_type": "markdown",
   "metadata": {},
   "source": [
    "Two types of category methods are implemented"
   ]
  },
  {
   "cell_type": "code",
   "execution_count": 2,
   "metadata": {
    "collapsed": false
   },
   "outputs": [],
   "source": [
    "Bool_t UseOffsetMethod = kTRUE;"
   ]
  },
  {
   "cell_type": "markdown",
   "metadata": {},
   "source": [
    "---------------------------------------------------------------\n",
    " default MVA methods to be trained + tested"
   ]
  },
  {
   "cell_type": "code",
   "execution_count": 3,
   "metadata": {
    "collapsed": false
   },
   "outputs": [],
   "source": [
    "std::map<std::string,int> Use;"
   ]
  },
  {
   "cell_type": "code",
   "execution_count": 4,
   "metadata": {
    "collapsed": false
   },
   "outputs": [],
   "source": [
    "Use[\"LikelihoodCat\"] = 1;\n",
    "Use[\"FisherCat\"]     = 1;"
   ]
  },
  {
   "cell_type": "markdown",
   "metadata": {},
   "source": [
    "---------------------------------------------------------------"
   ]
  },
  {
   "cell_type": "code",
   "execution_count": 5,
   "metadata": {
    "collapsed": false
   },
   "outputs": [
    {
     "name": "stdout",
     "output_type": "stream",
     "text": [
      "\n",
      "==> Start TMVAClassificationCategoryApplication\n"
     ]
    }
   ],
   "source": [
    "std::cout << std::endl\n",
    "          << \"==> Start TMVAClassificationCategoryApplication\" << std::endl;"
   ]
  },
  {
   "cell_type": "markdown",
   "metadata": {},
   "source": [
    "Create the reader object"
   ]
  },
  {
   "cell_type": "code",
   "execution_count": 6,
   "metadata": {
    "collapsed": false
   },
   "outputs": [],
   "source": [
    "TMVA::Reader *reader = new TMVA::Reader( \"!Color:!Silent\" );"
   ]
  },
  {
   "cell_type": "markdown",
   "metadata": {},
   "source": [
    "Create a set of variables and spectators and declare them to the reader\n",
    " - the variable names MUST corresponds in name and type to those given in the weight file(s) used"
   ]
  },
  {
   "cell_type": "code",
   "execution_count": 7,
   "metadata": {
    "collapsed": false
   },
   "outputs": [],
   "source": [
    "Float_t var1, var2, var3, var4, eta;\n",
    "reader->AddVariable( \"var1\", &var1 );\n",
    "reader->AddVariable( \"var2\", &var2 );\n",
    "reader->AddVariable( \"var3\", &var3 );\n",
    "reader->AddVariable( \"var4\", &var4 );\n",
    "\n",
    "reader->AddSpectator( \"eta\", &eta );"
   ]
  },
  {
   "cell_type": "markdown",
   "metadata": {},
   "source": [
    "Book the mva methods"
   ]
  },
  {
   "cell_type": "code",
   "execution_count": 8,
   "metadata": {
    "collapsed": false
   },
   "outputs": [
    {
     "name": "stdout",
     "output_type": "stream",
     "text": [
      "                         : Booking \"FisherCat method\" of type \"Category\" from dataset/weights/TMVAClassificationCategory_FisherCat.weights.xml.\n",
      "                         : Reading weight file: dataset/weights/TMVAClassificationCategory_FisherCat.weights.xml\n",
      "<HEADER> DataSetInfo              : [Default] : Added class \"Signal\"\n",
      "<HEADER> DataSetInfo              : [Default] : Added class \"Background\"\n",
      "                         : Recreating sub-classifiers from XML-file \n",
      "<HEADER> DataSetInfo              : [Category_Fisher_1_dsi] : Added class \"Signal\"\n",
      "<HEADER> DataSetInfo              : [Category_Fisher_1_dsi] : Added class \"Background\"\n",
      "<HEADER> DataSetInfo              : [Category_Fisher_2_dsi] : Added class \"Signal\"\n",
      "<HEADER> DataSetInfo              : [Category_Fisher_2_dsi] : Added class \"Background\"\n",
      "                         : Booked classifier \"FisherCat\" of type: \"Category\"\n",
      "                         : Booking \"LikelihoodCat method\" of type \"Category\" from dataset/weights/TMVAClassificationCategory_LikelihoodCat.weights.xml.\n",
      "                         : Reading weight file: dataset/weights/TMVAClassificationCategory_LikelihoodCat.weights.xml\n",
      "                         : Recreating sub-classifiers from XML-file \n",
      "<HEADER> DataSetInfo              : [Category_Likelihood_1_dsi] : Added class \"Signal\"\n",
      "<HEADER> DataSetInfo              : [Category_Likelihood_1_dsi] : Added class \"Background\"\n",
      "<HEADER> DataSetInfo              : [Category_Likelihood_2_dsi] : Added class \"Signal\"\n",
      "<HEADER> DataSetInfo              : [Category_Likelihood_2_dsi] : Added class \"Background\"\n",
      "                         : Booked classifier \"LikelihoodCat\" of type: \"Category\"\n"
     ]
    }
   ],
   "source": [
    "for (std::map<std::string,int>::iterator it = Use.begin(); it != Use.end(); it++) {\n",
    "   if (it->second) {\n",
    "      TString methodName = it->first + \" method\";\n",
    "      TString weightfile = \"dataset/weights/TMVAClassificationCategory_\" + TString(it->first) + \".weights.xml\";\n",
    "      reader->BookMVA( methodName, weightfile );\n",
    "   }\n",
    "}"
   ]
  },
  {
   "cell_type": "markdown",
   "metadata": {},
   "source": [
    "Book output histograms"
   ]
  },
  {
   "cell_type": "code",
   "execution_count": 9,
   "metadata": {
    "collapsed": false
   },
   "outputs": [],
   "source": [
    "UInt_t nbin = 100;\n",
    "std::map<std::string,TH1*> hist;\n",
    "hist[\"LikelihoodCat\"] = new TH1F( \"MVA_LikelihoodCat\",   \"MVA_LikelihoodCat\", nbin, -1, 0.9999 );\n",
    "hist[\"FisherCat\"]     = new TH1F( \"MVA_FisherCat\",       \"MVA_FisherCat\",     nbin, -4, 4 );"
   ]
  },
  {
   "cell_type": "markdown",
   "metadata": {},
   "source": [
    "Prepare input tree (this must be replaced by your data source)\n",
    " in this example, there is a toy tree with signal and one with background events\n",
    " we'll later on use only the \"signal\" events for the test in this example."
   ]
  },
  {
   "cell_type": "code",
   "execution_count": 10,
   "metadata": {
    "collapsed": false
   },
   "outputs": [],
   "source": [
    "TString fname = TString(gSystem->DirName(__FILE__) ) + \"/data/\";"
   ]
  },
  {
   "cell_type": "markdown",
   "metadata": {},
   "source": [
    "If directory data not found try using tutorials dir"
   ]
  },
  {
   "cell_type": "code",
   "execution_count": 11,
   "metadata": {
    "collapsed": false
   },
   "outputs": [
    {
     "name": "stdout",
     "output_type": "stream",
     "text": [
      "--- TMVAClassificationApp    : Accessing /mnt/build/workspace/root-makedoc-v618/rootspi/rdoc/src/v6-18-00-patches.build/tutorials/tmva/data/toy_sigbkg_categ_offset.root!\n"
     ]
    }
   ],
   "source": [
    "if (gSystem->AccessPathName( fname + \"toy_sigbkg_categ_offset.root\"  )) {\n",
    "   fname = gROOT->GetTutorialDir() + \"/tmva/data/\";\n",
    "}\n",
    "if (UseOffsetMethod) fname += \"toy_sigbkg_categ_offset.root\";\n",
    "else                 fname += \"toy_sigbkg_categ_varoff.root\";\n",
    "std::cout << \"--- TMVAClassificationApp    : Accessing \" << fname << \"!\" << std::endl;\n",
    "TFile *input = TFile::Open(fname);\n",
    "if (!input) {\n",
    "   std::cout << \"ERROR: could not open data file: \" << fname << std::endl;\n",
    "   exit(1);\n",
    "}"
   ]
  },
  {
   "cell_type": "markdown",
   "metadata": {},
   "source": [
    "Event loop"
   ]
  },
  {
   "cell_type": "markdown",
   "metadata": {},
   "source": [
    "Prepare the tree\n",
    " - here the variable names have to corresponds to your tree\n",
    " - you can use the same variables as above which is slightly faster,\n",
    "   but of course you can use different ones and copy the values inside the event loop"
   ]
  },
  {
   "cell_type": "code",
   "execution_count": 12,
   "metadata": {
    "collapsed": false
   },
   "outputs": [
    {
     "name": "stdout",
     "output_type": "stream",
     "text": [
      "--- Use signal sample for evalution\n",
      "--- Processing: 10000 events\n",
      "--- ... Processing event: 0\n",
      "--- ... Processing event: 1000\n",
      "--- ... Processing event: 2000\n",
      "--- ... Processing event: 3000\n",
      "--- ... Processing event: 4000\n",
      "--- ... Processing event: 5000\n",
      "--- ... Processing event: 6000\n",
      "--- ... Processing event: 7000\n",
      "--- ... Processing event: 8000\n",
      "--- ... Processing event: 9000\n",
      "--- End of event loop: Real time 0:00:00, CP time 0.030\n"
     ]
    }
   ],
   "source": [
    "TTree* theTree = (TTree*)input->Get(\"TreeS\");\n",
    "std::cout << \"--- Use signal sample for evalution\" << std::endl;\n",
    "theTree->SetBranchAddress( \"var1\", &var1 );\n",
    "theTree->SetBranchAddress( \"var2\", &var2 );\n",
    "theTree->SetBranchAddress( \"var3\", &var3 );\n",
    "theTree->SetBranchAddress( \"var4\", &var4 );\n",
    "\n",
    "theTree->SetBranchAddress( \"eta\",  &eta ); // spectator\n",
    "\n",
    "std::cout << \"--- Processing: \" << theTree->GetEntries() << \" events\" << std::endl;\n",
    "TStopwatch sw;\n",
    "sw.Start();\n",
    "for (Long64_t ievt=0; ievt<theTree->GetEntries();ievt++) {\n",
    "\n",
    "   if (ievt%1000 == 0) std::cout << \"--- ... Processing event: \" << ievt << std::endl;\n",
    "\n",
    "   theTree->GetEntry(ievt);\n",
    "\n",
    "   // Return the MVA outputs and fill into histograms\n",
    "\n",
    "   for (std::map<std::string,int>::iterator it = Use.begin(); it != Use.end(); it++) {\n",
    "      if (!it->second) continue;\n",
    "      TString methodName = it->first + \" method\";\n",
    "      hist[it->first]->Fill( reader->EvaluateMVA( methodName ) );\n",
    "   }\n",
    "\n",
    "}\n",
    "sw.Stop();\n",
    "std::cout << \"--- End of event loop: \"; sw.Print();"
   ]
  },
  {
   "cell_type": "markdown",
   "metadata": {},
   "source": [
    "Write histograms"
   ]
  },
  {
   "cell_type": "code",
   "execution_count": 13,
   "metadata": {
    "collapsed": false
   },
   "outputs": [
    {
     "name": "stdout",
     "output_type": "stream",
     "text": [
      "--- Created root file: \"TMVApp.root\" containing the MVA output histograms\n",
      "==> TMVAClassificationApplication is done!\n",
      "\n"
     ]
    }
   ],
   "source": [
    "TFile *target  = new TFile( \"TMVApp.root\",\"RECREATE\" );\n",
    "for (std::map<std::string,int>::iterator it = Use.begin(); it != Use.end(); it++)\n",
    "   if (it->second) hist[it->first]->Write();\n",
    "\n",
    "target->Close();\n",
    "std::cout << \"--- Created root file: \\\"TMVApp.root\\\" containing the MVA output histograms\" << std::endl;\n",
    "\n",
    "delete reader;\n",
    "std::cout << \"==> TMVAClassificationApplication is done!\" << std::endl << std::endl;"
   ]
  }
 ],
 "metadata": {
  "kernelspec": {
   "display_name": "ROOT C++",
   "language": "c++",
   "name": "root"
  },
  "language_info": {
   "codemirror_mode": "text/x-c++src",
   "file_extension": ".C",
   "mimetype": " text/x-c++src",
   "name": "c++"
  }
 },
 "nbformat": 4,
 "nbformat_minor": 2
}
