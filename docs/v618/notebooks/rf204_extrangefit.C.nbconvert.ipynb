{
 "cells": [
  {
   "cell_type": "markdown",
   "metadata": {},
   "source": [
    "# Rf 2 0 4_Extrangefit\n",
    " 'ADDITION AND CONVOLUTION' RooFit tutorial macro #204\n",
    "\n",
    " Extended maximum likelihood fit with alternate range definition\n",
    " for observed number of events.\n",
    " If multiple ranges are used, or only a part of the data is fitted,\n",
    " it is advisable to use a RooAddPdf to extend the model. See tutorial\n",
    " 204a.\n",
    "\n",
    "\n",
    "\n",
    "**Author:** 07/2008 - Wouter Verkerke  \n",
    "<i><small>This notebook tutorial was automatically generated with <a href= \"https://github.com/root-project/root/blob/master/documentation/doxygen/converttonotebook.py\">ROOTBOOK-izer</a> from the macro found in the ROOT repository  on Thursday, August 29, 2019 at 02:43 AM.</small></i>"
   ]
  },
  {
   "cell_type": "code",
   "execution_count": 1,
   "metadata": {
    "collapsed": false
   },
   "outputs": [],
   "source": [
    "%%cpp -d\n",
    "#include \"RooRealVar.h\"\n",
    "#include \"RooDataSet.h\"\n",
    "#include \"RooGaussian.h\"\n",
    "#include \"RooChebychev.h\"\n",
    "#include \"RooAddPdf.h\"\n",
    "#include \"RooExtendPdf.h\"\n",
    "#include \"RooFitResult.h\"\n",
    "#include \"TCanvas.h\"\n",
    "#include \"TAxis.h\"\n",
    "#include \"RooPlot.h\""
   ]
  },
  {
   "cell_type": "code",
   "execution_count": 2,
   "metadata": {
    "collapsed": false
   },
   "outputs": [],
   "source": [
    "%%cpp -d\n",
    "// This is a workaround to make sure the namespace is used inside functions\n",
    "using namespace RooFit;"
   ]
  },
  {
   "cell_type": "markdown",
   "metadata": {},
   "source": [
    "Setup component pdfs\n",
    " ---------------------------------------"
   ]
  },
  {
   "cell_type": "markdown",
   "metadata": {},
   "source": [
    "Declare observable x"
   ]
  },
  {
   "cell_type": "code",
   "execution_count": 3,
   "metadata": {
    "collapsed": false
   },
   "outputs": [
    {
     "name": "stdout",
     "output_type": "stream",
     "text": [
      "\n",
      "\u001b[1mRooFit v3.60 -- Developed by Wouter Verkerke and David Kirkby\u001b[0m \n",
      "                Copyright (C) 2000-2013 NIKHEF, University of California & Stanford University\n",
      "                All rights reserved, please read http://roofit.sourceforge.net/license.txt\n",
      "\n"
     ]
    }
   ],
   "source": [
    "RooRealVar x(\"x\", \"x\", 0, 10);"
   ]
  },
  {
   "cell_type": "markdown",
   "metadata": {},
   "source": [
    "Create two gaussian pdfs g1(x,mean1,sigma) anf g2(x,mean2,sigma) and their parameters"
   ]
  },
  {
   "cell_type": "code",
   "execution_count": 4,
   "metadata": {
    "collapsed": false
   },
   "outputs": [],
   "source": [
    "RooRealVar mean(\"mean\", \"mean of gaussians\", 5);\n",
    "RooRealVar sigma1(\"sigma1\", \"width of gaussians\", 0.5);\n",
    "RooRealVar sigma2(\"sigma2\", \"width of gaussians\", 1);\n",
    "\n",
    "RooGaussian sig1(\"sig1\", \"Signal component 1\", x, mean, sigma1);\n",
    "RooGaussian sig2(\"sig2\", \"Signal component 2\", x, mean, sigma2);"
   ]
  },
  {
   "cell_type": "markdown",
   "metadata": {},
   "source": [
    "Build chebychev polynomial p.d.f."
   ]
  },
  {
   "cell_type": "code",
   "execution_count": 5,
   "metadata": {
    "collapsed": false
   },
   "outputs": [],
   "source": [
    "RooRealVar a0(\"a0\", \"a0\", 0.5, 0., 1.);\n",
    "RooRealVar a1(\"a1\", \"a1\", 0.2, 0., 1.);\n",
    "RooChebychev bkg(\"bkg\", \"Background\", x, RooArgSet(a0, a1));"
   ]
  },
  {
   "cell_type": "markdown",
   "metadata": {},
   "source": [
    "Sum the signal components into a composite signal p.d.f."
   ]
  },
  {
   "cell_type": "code",
   "execution_count": 6,
   "metadata": {
    "collapsed": false
   },
   "outputs": [],
   "source": [
    "RooRealVar sig1frac(\"sig1frac\", \"fraction of component 1 in signal\", 0.8, 0., 1.);\n",
    "RooAddPdf sig(\"sig\", \"Signal\", RooArgList(sig1, sig2), sig1frac);"
   ]
  },
  {
   "cell_type": "markdown",
   "metadata": {},
   "source": [
    "Construct extended comps with range spec\n",
    " ------------------------------------------------------------------------------"
   ]
  },
  {
   "cell_type": "markdown",
   "metadata": {},
   "source": [
    "Define signal range in which events counts are to be defined"
   ]
  },
  {
   "cell_type": "code",
   "execution_count": 7,
   "metadata": {
    "collapsed": false
   },
   "outputs": [
    {
     "name": "stdout",
     "output_type": "stream",
     "text": [
      "[#1] INFO:Eval -- RooRealVar::setRange(x) new range named 'signalRange' created with bounds [4,6]\n"
     ]
    }
   ],
   "source": [
    "x.setRange(\"signalRange\", 4, 6);"
   ]
  },
  {
   "cell_type": "markdown",
   "metadata": {},
   "source": [
    "Associated nsig/nbkg as expected number of events with sig/bkg _in_the_range_ \"signalrange\""
   ]
  },
  {
   "cell_type": "code",
   "execution_count": 8,
   "metadata": {
    "collapsed": false
   },
   "outputs": [],
   "source": [
    "RooRealVar nsig(\"nsig\", \"number of signal events in signalRange\", 500, 0., 10000) ;\n",
    "RooRealVar nbkg(\"nbkg\", \"number of background events in signalRange\", 500, 0, 10000) ;"
   ]
  },
  {
   "cell_type": "markdown",
   "metadata": {},
   "source": [
    "Use addpdf to extend the model:"
   ]
  },
  {
   "cell_type": "code",
   "execution_count": 9,
   "metadata": {
    "collapsed": false
   },
   "outputs": [],
   "source": [
    "RooAddPdf  model(\"model\",\"(g1+g2)+a\", RooArgList(bkg,sig), RooArgList(nbkg,nsig)) ;"
   ]
  },
  {
   "cell_type": "markdown",
   "metadata": {},
   "source": [
    "Clone these models here because the interpretation of normalisation coefficients changes\n",
    " when different ranges are used:"
   ]
  },
  {
   "cell_type": "code",
   "execution_count": 10,
   "metadata": {
    "collapsed": false
   },
   "outputs": [],
   "source": [
    "RooAddPdf model2(model);\n",
    "RooAddPdf model3(model);"
   ]
  },
  {
   "cell_type": "markdown",
   "metadata": {},
   "source": [
    "Sample data, fit model\n",
    " -------------------------------------------"
   ]
  },
  {
   "cell_type": "markdown",
   "metadata": {},
   "source": [
    "Generate 1000 events from model so that nsig,nbkg come out to numbers <<500 in fit"
   ]
  },
  {
   "cell_type": "code",
   "execution_count": 11,
   "metadata": {
    "collapsed": false
   },
   "outputs": [],
   "source": [
    "RooDataSet *data = model.generate(x, 1000);\n",
    "\n",
    "\n",
    "auto canv = new TCanvas(\"Canvas\", \"Canvas\", 1500, 600);\n",
    "canv->Divide(3,1);"
   ]
  },
  {
   "cell_type": "markdown",
   "metadata": {},
   "source": [
    "Fit full range\n",
    " -------------------------------------------"
   ]
  },
  {
   "cell_type": "code",
   "execution_count": 12,
   "metadata": {
    "collapsed": false
   },
   "outputs": [],
   "source": [
    "canv->cd(1);"
   ]
  },
  {
   "cell_type": "markdown",
   "metadata": {},
   "source": [
    "Perform unbinned ml fit to data, full range"
   ]
  },
  {
   "cell_type": "code",
   "execution_count": 13,
   "metadata": {
    "collapsed": false
   },
   "outputs": [
    {
     "name": "stdout",
     "output_type": "stream",
     "text": [
      "[#1] INFO:Minization -- p.d.f. provides expected number of events, including extended term in likelihood.\n",
      "[#1] INFO:Minization -- RooMinimizer::optimizeConst: activating const optimization\n",
      "[#1] INFO:Minization --  The following expressions have been identified as constant and will be precalculated and cached: (sig1,sig2)\n",
      "[#1] INFO:Minization --  The following expressions will be evaluated in cache-and-track mode: (bkg)\n",
      " **********\n",
      " **    1 **SET PRINT           1\n",
      " **********\n",
      " **********\n",
      " **    2 **SET NOGRAD\n",
      " **********\n",
      " PARAMETER DEFINITIONS:\n",
      "    NO.   NAME         VALUE      STEP SIZE      LIMITS\n",
      "     1 a0           5.00000e-01  1.00000e-01    0.00000e+00  1.00000e+00\n",
      "     2 a1           2.00000e-01  1.00000e-01    0.00000e+00  1.00000e+00\n",
      "     3 nbkg         5.00000e+02  2.50000e+02    0.00000e+00  1.00000e+04\n",
      "     4 nsig         5.00000e+02  2.50000e+02    0.00000e+00  1.00000e+04\n",
      "     5 sig1frac     8.00000e-01  1.00000e-01    0.00000e+00  1.00000e+00\n",
      " **********\n",
      " **    3 **SET ERR         0.5\n",
      " **********\n",
      " **********\n",
      " **    4 **SET PRINT           1\n",
      " **********\n",
      " **********\n",
      " **    5 **SET STR           1\n",
      " **********\n",
      " NOW USING STRATEGY  1: TRY TO BALANCE SPEED AGAINST RELIABILITY\n",
      " **********\n",
      " **    6 **MIGRAD        2500           1\n",
      " **********\n",
      " FIRST CALL TO USER FUNCTION AT NEW START POINT, WITH IFLAG=4.\n",
      " START MIGRAD MINIMIZATION.  STRATEGY  1.  CONVERGENCE WHEN EDM .LT. 1.00e-03\n",
      " FCN=-3945.08 FROM MIGRAD    STATUS=INITIATE       14 CALLS          15 TOTAL\n",
      "                     EDM= unknown      STRATEGY= 1      NO ERROR MATRIX       \n",
      "  EXT PARAMETER               CURRENT GUESS       STEP         FIRST   \n",
      "  NO.   NAME      VALUE            ERROR          SIZE      DERIVATIVE \n",
      "   1  a0           5.00000e-01   1.00000e-01   2.01358e-01   5.55992e+00\n",
      "   2  a1           2.00000e-01   1.00000e-01   2.57889e-01  -1.57427e+00\n",
      "   3  nbkg         5.00000e+02   2.50000e+02   1.18625e-01   2.53685e+00\n",
      "   4  nsig         5.00000e+02   2.50000e+02   1.18625e-01  -2.53775e+00\n",
      "   5  sig1frac     8.00000e-01   1.00000e-01   2.57889e-01  -2.02142e+00\n",
      "                               ERR DEF= 0.5\n",
      " MIGRAD MINIMIZATION HAS CONVERGED.\n",
      " MIGRAD WILL VERIFY CONVERGENCE AND ERROR MATRIX.\n",
      " COVARIANCE MATRIX CALCULATED SUCCESSFULLY\n",
      " FCN=-3945.49 FROM MIGRAD    STATUS=CONVERGED      98 CALLS          99 TOTAL\n",
      "                     EDM=1.34919e-05    STRATEGY= 1      ERROR MATRIX ACCURATE \n",
      "  EXT PARAMETER                                   STEP         FIRST   \n",
      "  NO.   NAME      VALUE            ERROR          SIZE      DERIVATIVE \n",
      "   1  a0           4.41701e-01   7.31971e-02   6.37371e-03  -2.20459e-02\n",
      "   2  a1           2.01081e-01   1.18245e-01   8.18002e-03   7.34208e-03\n",
      "   3  nbkg         5.04206e+02   3.94549e+01   4.96630e-04   1.70657e-02\n",
      "   4  nsig         4.95799e+02   3.93537e+01   4.96929e-04   6.32308e-03\n",
      "   5  sig1frac     8.37341e-01   1.17266e-01   8.52165e-03  -5.56324e-04\n",
      "                               ERR DEF= 0.5\n",
      " EXTERNAL ERROR MATRIX.    NDIM=  25    NPAR=  5    ERR DEF=0.5\n",
      "  5.397e-03  1.216e-03 -3.098e-01  3.099e-01 -1.021e-03 \n",
      "  1.216e-03  1.441e-02 -3.254e+00  3.254e+00 -9.763e-03 \n",
      " -3.098e-01 -3.254e+00  1.557e+03 -1.053e+03  3.292e+00 \n",
      "  3.099e-01  3.254e+00 -1.053e+03  1.549e+03 -3.293e+00 \n",
      " -1.021e-03 -9.763e-03  3.292e+00 -3.293e+00  1.424e-02 \n",
      " PARAMETER  CORRELATION COEFFICIENTS  \n",
      "       NO.  GLOBAL      1      2      3      4      5\n",
      "        1  0.14135   1.000  0.138 -0.107  0.107 -0.116\n",
      "        2  0.77063   0.138  1.000 -0.687  0.689 -0.682\n",
      "        3  0.77292  -0.107 -0.687  1.000 -0.678  0.699\n",
      "        4  0.77488   0.107  0.689 -0.678  1.000 -0.701\n",
      "        5  0.78168  -0.116 -0.682  0.699 -0.701  1.000\n",
      " **********\n",
      " **    7 **SET ERR         0.5\n",
      " **********\n",
      " **********\n",
      " **    8 **SET PRINT           1\n",
      " **********\n",
      " **********\n",
      " **    9 **HESSE        2500\n",
      " **********\n",
      " COVARIANCE MATRIX CALCULATED SUCCESSFULLY\n",
      " FCN=-3945.49 FROM HESSE     STATUS=OK             31 CALLS         130 TOTAL\n",
      "                     EDM=1.34689e-05    STRATEGY= 1      ERROR MATRIX ACCURATE \n",
      "  EXT PARAMETER                                INTERNAL      INTERNAL  \n",
      "  NO.   NAME      VALUE            ERROR       STEP SIZE       VALUE   \n",
      "   1  a0           4.41701e-01   7.31850e-02   1.27474e-03  -1.16864e-01\n",
      "   2  a1           2.01081e-01   1.17613e-01   3.27201e-04  -6.40802e-01\n",
      "   3  nbkg         5.04206e+02   3.93107e+01   9.93261e-05  -1.11784e+00\n",
      "   4  nsig         4.95799e+02   3.92054e+01   1.98772e-05  -1.12170e+00\n",
      "   5  sig1frac     8.37341e-01   1.16841e-01   3.40866e-04   7.40533e-01\n",
      "                               ERR DEF= 0.5\n",
      " EXTERNAL ERROR MATRIX.    NDIM=  25    NPAR=  5    ERR DEF=0.5\n",
      "  5.395e-03  1.200e-03 -3.051e-01  3.051e-01 -1.005e-03 \n",
      "  1.200e-03  1.425e-02 -3.209e+00  3.209e+00 -9.625e-03 \n",
      " -3.051e-01 -3.209e+00  1.545e+03 -1.041e+03  3.258e+00 \n",
      "  3.051e-01  3.209e+00 -1.041e+03  1.537e+03 -3.258e+00 \n",
      " -1.005e-03 -9.625e-03  3.258e+00 -3.258e+00  1.413e-02 \n",
      " PARAMETER  CORRELATION COEFFICIENTS  \n",
      "       NO.  GLOBAL      1      2      3      4      5\n",
      "        1  0.14023   1.000  0.137 -0.106  0.106 -0.115\n",
      "        2  0.76770   0.137  1.000 -0.684  0.686 -0.678\n",
      "        3  0.77101  -0.106 -0.684  1.000 -0.676  0.697\n",
      "        4  0.77292   0.106  0.686 -0.676  1.000 -0.699\n",
      "        5  0.77980  -0.115 -0.678  0.697 -0.699  1.000\n",
      "[#1] INFO:Minization -- RooMinimizer::optimizeConst: deactivating const optimization\n",
      "\n",
      "  RooFitResult: minimized FCN value: -3945.49, estimated distance to minimum: 1.34689e-05\n",
      "                covariance matrix quality: Full, accurate covariance matrix\n",
      "                Status : MINIMIZE=0 HESSE=0 \n",
      "\n",
      "    Floating Parameter    FinalValue +/-  Error   \n",
      "  --------------------  --------------------------\n",
      "                    a0    4.4170e-01 +/-  7.32e-02\n",
      "                    a1    2.0108e-01 +/-  1.18e-01\n",
      "                  nbkg    5.0421e+02 +/-  3.93e+01\n",
      "                  nsig    4.9580e+02 +/-  3.92e+01\n",
      "              sig1frac    8.3734e-01 +/-  1.17e-01\n",
      "\n"
     ]
    }
   ],
   "source": [
    "RooFitResult* r = model.fitTo(*data,Save()) ;\n",
    "r->Print() ;"
   ]
  }
 ],
 "metadata": {
  "kernelspec": {
   "display_name": "ROOT C++",
   "language": "c++",
   "name": "root"
  },
  "language_info": {
   "codemirror_mode": "text/x-c++src",
   "file_extension": ".C",
   "mimetype": " text/x-c++src",
   "name": "c++"
  }
 },
 "nbformat": 4,
 "nbformat_minor": 2
}
