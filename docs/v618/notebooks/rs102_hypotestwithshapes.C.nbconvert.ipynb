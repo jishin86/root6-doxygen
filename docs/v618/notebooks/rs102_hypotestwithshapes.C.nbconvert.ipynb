{
 "cells": [
  {
   "cell_type": "markdown",
   "metadata": {},
   "source": [
    "# Rs 1 0 2_Hypotestwithshapes\n",
    "A typical search for a new particle by studying an invariant mass distribution\n",
    "\n",
    "The macro creates a simple signal model and two background models,\n",
    "which are added to a RooWorkspace.\n",
    "The macro creates a toy dataset, and then uses a RooStats\n",
    "ProfileLikleihoodCalculator to do a hypothesis test of the\n",
    "background-only and signal+background hypotheses.\n",
    "In this example, shape uncertainties are not taken into account, but\n",
    "normalization uncertainties are.\n",
    "\n",
    "\n",
    "\n",
    "\n",
    "**Author:** Kyle Cranmer  \n",
    "<i><small>This notebook tutorial was automatically generated with <a href= \"https://github.com/root-project/root/blob/master/documentation/doxygen/converttonotebook.py\">ROOTBOOK-izer</a> from the macro found in the ROOT repository  on Thursday, August 29, 2019 at 03:14 AM.</small></i>"
   ]
  },
  {
   "cell_type": "code",
   "execution_count": 1,
   "metadata": {
    "collapsed": false
   },
   "outputs": [],
   "source": [
    "%%cpp -d\n",
    "#include \"RooDataSet.h\"\n",
    "#include \"RooRealVar.h\"\n",
    "#include \"RooGaussian.h\"\n",
    "#include \"RooAddPdf.h\"\n",
    "#include \"RooProdPdf.h\"\n",
    "#include \"RooAddition.h\"\n",
    "#include \"RooProduct.h\"\n",
    "#include \"TCanvas.h\"\n",
    "#include \"RooChebychev.h\"\n",
    "#include \"RooAbsPdf.h\"\n",
    "#include \"RooFit.h\"\n",
    "#include \"RooFitResult.h\"\n",
    "#include \"RooPlot.h\"\n",
    "#include \"RooAbsArg.h\"\n",
    "#include \"RooWorkspace.h\"\n",
    "#include \"RooStats/ProfileLikelihoodCalculator.h\"\n",
    "#include \"RooStats/HypoTestResult.h\"\n",
    "#include <string>"
   ]
  },
  {
   "cell_type": "markdown",
   "metadata": {},
   "source": [
    "Use this order for safety on library loading"
   ]
  },
  {
   "cell_type": "code",
   "execution_count": 2,
   "metadata": {
    "collapsed": false
   },
   "outputs": [],
   "source": [
    "%%cpp -d\n",
    "// This is a workaround to make sure the namespace is used inside functions\n",
    "using namespace RooFit;\n",
    "using namespace RooStats;"
   ]
  },
  {
   "cell_type": "markdown",
   "metadata": {},
   "source": [
    "See below for implementation"
   ]
  },
  {
   "cell_type": "code",
   "execution_count": 3,
   "metadata": {
    "collapsed": false
   },
   "outputs": [],
   "source": [
    "void AddModel(RooWorkspace *);\n",
    "void AddData(RooWorkspace *);\n",
    "void DoHypothesisTest(RooWorkspace *);\n",
    "void MakePlots(RooWorkspace *);"
   ]
  },
  {
   "cell_type": "markdown",
   "metadata": {},
   "source": [
    " ____________________________________\n",
    " "
   ]
  },
  {
   "cell_type": "code",
   "execution_count": 4,
   "metadata": {
    "collapsed": false
   },
   "outputs": [],
   "source": [
    "%%cpp -d\n",
    "void AddModel(RooWorkspace *wks)\n",
    "{\n",
    "\n",
    "   // Make models for signal (Higgs) and background (Z+jets and QCD)\n",
    "   // In real life, this part requires an intelligent modeling\n",
    "   // of signal and background -- this is only an example.\n",
    "\n",
    "   // set range of observable\n",
    "   Double_t lowRange = 60, highRange = 200;\n",
    "\n",
    "   // make a RooRealVar for the observable\n",
    "   RooRealVar invMass(\"invMass\", \"M_{inv}\", lowRange, highRange, \"GeV\");\n",
    "\n",
    "   // --------------------------------------\n",
    "   // make a simple signal model.\n",
    "   RooRealVar mH(\"mH\", \"Higgs Mass\", 130, 90, 160);\n",
    "   RooRealVar sigma1(\"sigma1\", \"Width of Gaussian\", 12., 2, 100);\n",
    "   RooGaussian sigModel(\"sigModel\", \"Signal Model\", invMass, mH, sigma1);\n",
    "   // we will test this specific mass point for the signal\n",
    "   mH.setConstant();\n",
    "   // and we assume we know the mass resolution\n",
    "   sigma1.setConstant();\n",
    "\n",
    "   // --------------------------------------\n",
    "   // make zjj model.  Just like signal model\n",
    "   RooRealVar mZ(\"mZ\", \"Z Mass\", 91.2, 0, 100);\n",
    "   RooRealVar sigma1_z(\"sigma1_z\", \"Width of Gaussian\", 10., 6, 100);\n",
    "   RooGaussian zjjModel(\"zjjModel\", \"Z+jets Model\", invMass, mZ, sigma1_z);\n",
    "   // we know Z mass\n",
    "   mZ.setConstant();\n",
    "   // assume we know resolution too\n",
    "   sigma1_z.setConstant();\n",
    "\n",
    "   // --------------------------------------\n",
    "   // make QCD model\n",
    "   RooRealVar a0(\"a0\", \"a0\", 0.26, -1, 1);\n",
    "   RooRealVar a1(\"a1\", \"a1\", -0.17596, -1, 1);\n",
    "   RooRealVar a2(\"a2\", \"a2\", 0.018437, -1, 1);\n",
    "   RooRealVar a3(\"a3\", \"a3\", 0.02, -1, 1);\n",
    "   RooChebychev qcdModel(\"qcdModel\", \"A  Polynomial for QCD\", invMass, RooArgList(a0, a1, a2));\n",
    "\n",
    "   // let's assume this shape is known, but the normalization is not\n",
    "   a0.setConstant();\n",
    "   a1.setConstant();\n",
    "   a2.setConstant();\n",
    "\n",
    "   // --------------------------------------\n",
    "   // combined model\n",
    "\n",
    "   // Setting the fraction of Zjj to be 40% for initial guess.\n",
    "   RooRealVar fzjj(\"fzjj\", \"fraction of zjj background events\", .4, 0., 1);\n",
    "\n",
    "   // Set the expected fraction of signal to 20%.\n",
    "   RooRealVar fsigExpected(\"fsigExpected\", \"expected fraction of signal events\", .2, 0., 1);\n",
    "   fsigExpected.setConstant(); // use mu as main parameter, so fix this.\n",
    "\n",
    "   // Introduce mu: the signal strength in units of the expectation.\n",
    "   // eg. mu = 1 is the SM, mu = 0 is no signal, mu=2 is 2x the SM\n",
    "   RooRealVar mu(\"mu\", \"signal strength in units of SM expectation\", 1, 0., 2);\n",
    "\n",
    "   // Introduce ratio of signal efficiency to nominal signal efficiency.\n",
    "   // This is useful if you want to do limits on cross section.\n",
    "   RooRealVar ratioSigEff(\"ratioSigEff\", \"ratio of signal efficiency to nominal signal efficiency\", 1., 0., 2);\n",
    "   ratioSigEff.setConstant(kTRUE);\n",
    "\n",
    "   // finally the signal fraction is the product of the terms above.\n",
    "   RooProduct fsig(\"fsig\", \"fraction of signal events\", RooArgSet(mu, ratioSigEff, fsigExpected));\n",
    "\n",
    "   // full model\n",
    "   RooAddPdf model(\"model\", \"sig+zjj+qcd background shapes\", RooArgList(sigModel, zjjModel, qcdModel),\n",
    "                   RooArgList(fsig, fzjj));\n",
    "\n",
    "   // interesting for debugging and visualizing the model\n",
    "   //  model.printCompactTree(\"\",\"fullModel.txt\");\n",
    "   //  model.graphVizTree(\"fullModel.dot\");\n",
    "\n",
    "   wks->import(model);\n",
    "}"
   ]
  },
  {
   "cell_type": "markdown",
   "metadata": {},
   "source": [
    " ____________________________________\n",
    " "
   ]
  },
  {
   "cell_type": "code",
   "execution_count": 5,
   "metadata": {
    "collapsed": false
   },
   "outputs": [],
   "source": [
    "%%cpp -d\n",
    "void AddData(RooWorkspace *wks)\n",
    "{\n",
    "   // Add a toy dataset\n",
    "\n",
    "   Int_t nEvents = 150;\n",
    "   RooAbsPdf *model = wks->pdf(\"model\");\n",
    "   RooRealVar *invMass = wks->var(\"invMass\");\n",
    "\n",
    "   RooDataSet *data = model->generate(*invMass, nEvents);\n",
    "\n",
    "   wks->import(*data, Rename(\"data\"));\n",
    "}"
   ]
  },
  {
   "cell_type": "markdown",
   "metadata": {},
   "source": [
    " ____________________________________\n",
    " "
   ]
  },
  {
   "cell_type": "code",
   "execution_count": 6,
   "metadata": {
    "collapsed": false
   },
   "outputs": [],
   "source": [
    "%%cpp -d\n",
    "void DoHypothesisTest(RooWorkspace *wks)\n",
    "{\n",
    "\n",
    "   // Use a RooStats ProfileLikleihoodCalculator to do the hypothesis test.\n",
    "   ModelConfig model;\n",
    "   model.SetWorkspace(*wks);\n",
    "   model.SetPdf(\"model\");\n",
    "\n",
    "   // plc.SetData(\"data\");\n",
    "\n",
    "   ProfileLikelihoodCalculator plc;\n",
    "   plc.SetData(*(wks->data(\"data\")));\n",
    "\n",
    "   // here we explicitly set the value of the parameters for the null.\n",
    "   // We want no signal contribution, eg. mu = 0\n",
    "   RooRealVar *mu = wks->var(\"mu\");\n",
    "   //   RooArgSet* nullParams = new RooArgSet(\"nullParams\");\n",
    "   //   nullParams->addClone(*mu);\n",
    "   RooArgSet poi(*mu);\n",
    "   RooArgSet *nullParams = (RooArgSet *)poi.snapshot();\n",
    "   nullParams->setRealValue(\"mu\", 0);\n",
    "\n",
    "   // plc.SetNullParameters(*nullParams);\n",
    "   plc.SetModel(model);\n",
    "   // NOTE: using snapshot will import nullparams\n",
    "   // in the WS and merge with existing \"mu\"\n",
    "   // model.SetSnapshot(*nullParams);\n",
    "\n",
    "   // use instead setNuisanceParameters\n",
    "   plc.SetNullParameters(*nullParams);\n",
    "\n",
    "   // We get a HypoTestResult out of the calculator, and we can query it.\n",
    "   HypoTestResult *htr = plc.GetHypoTest();\n",
    "   cout << \"-------------------------------------------------\" << endl;\n",
    "   cout << \"The p-value for the null is \" << htr->NullPValue() << endl;\n",
    "   cout << \"Corresponding to a significance of \" << htr->Significance() << endl;\n",
    "   cout << \"-------------------------------------------------\\n\\n\" << endl;\n",
    "}"
   ]
  },
  {
   "cell_type": "markdown",
   "metadata": {},
   "source": [
    " ____________________________________\n",
    " "
   ]
  },
  {
   "cell_type": "code",
   "execution_count": 7,
   "metadata": {
    "collapsed": false
   },
   "outputs": [],
   "source": [
    "%%cpp -d\n",
    "void MakePlots(RooWorkspace *wks)\n",
    "{\n",
    "\n",
    "   // Make plots of the data and the best fit model in two cases:\n",
    "   // first the signal+background case\n",
    "   // second the background-only case.\n",
    "\n",
    "   // get some things out of workspace\n",
    "   RooAbsPdf *model = wks->pdf(\"model\");\n",
    "   RooAbsPdf *sigModel = wks->pdf(\"sigModel\");\n",
    "   RooAbsPdf *zjjModel = wks->pdf(\"zjjModel\");\n",
    "   RooAbsPdf *qcdModel = wks->pdf(\"qcdModel\");\n",
    "\n",
    "   RooRealVar *mu = wks->var(\"mu\");\n",
    "   RooRealVar *invMass = wks->var(\"invMass\");\n",
    "   RooAbsData *data = wks->data(\"data\");\n",
    "\n",
    "   // --------------------------------------\n",
    "   // Make plots for the Alternate hypothesis, eg. let mu float\n",
    "\n",
    "   mu->setConstant(kFALSE);\n",
    "\n",
    "   model->fitTo(*data, Save(kTRUE), Minos(kFALSE), Hesse(kFALSE), PrintLevel(-1));\n",
    "\n",
    "   // plot sig candidates, full model, and individual components\n",
    "   new TCanvas();\n",
    "   RooPlot *frame = invMass->frame();\n",
    "   data->plotOn(frame);\n",
    "   model->plotOn(frame);\n",
    "   model->plotOn(frame, Components(*sigModel), LineStyle(kDashed), LineColor(kRed));\n",
    "   model->plotOn(frame, Components(*zjjModel), LineStyle(kDashed), LineColor(kBlack));\n",
    "   model->plotOn(frame, Components(*qcdModel), LineStyle(kDashed), LineColor(kGreen));\n",
    "\n",
    "   frame->SetTitle(\"An example fit to the signal + background model\");\n",
    "   frame->Draw();\n",
    "   //  cdata->SaveAs(\"alternateFit.gif\");\n",
    "\n",
    "   // --------------------------------------\n",
    "   // Do Fit to the Null hypothesis.  Eg. fix mu=0\n",
    "\n",
    "   mu->setVal(0);          // set signal fraction to 0\n",
    "   mu->setConstant(kTRUE); // set constant\n",
    "\n",
    "   model->fitTo(*data, Save(kTRUE), Minos(kFALSE), Hesse(kFALSE), PrintLevel(-1));\n",
    "\n",
    "   // plot signal candidates with background model and components\n",
    "   new TCanvas();\n",
    "   RooPlot *xframe2 = invMass->frame();\n",
    "   data->plotOn(xframe2, DataError(RooAbsData::SumW2));\n",
    "   model->plotOn(xframe2);\n",
    "   model->plotOn(xframe2, Components(*zjjModel), LineStyle(kDashed), LineColor(kBlack));\n",
    "   model->plotOn(xframe2, Components(*qcdModel), LineStyle(kDashed), LineColor(kGreen));\n",
    "\n",
    "   xframe2->SetTitle(\"An example fit to the background-only model\");\n",
    "   xframe2->Draw();\n",
    "   //  cbkgonly->SaveAs(\"nullFit.gif\");\n",
    "}"
   ]
  },
  {
   "cell_type": "markdown",
   "metadata": {},
   "source": [
    "The main macro."
   ]
  },
  {
   "cell_type": "markdown",
   "metadata": {},
   "source": [
    "Create a workspace to manage the project."
   ]
  },
  {
   "cell_type": "code",
   "execution_count": 8,
   "metadata": {
    "collapsed": false
   },
   "outputs": [
    {
     "name": "stdout",
     "output_type": "stream",
     "text": [
      "\n",
      "\u001b[1mRooFit v3.60 -- Developed by Wouter Verkerke and David Kirkby\u001b[0m \n",
      "                Copyright (C) 2000-2013 NIKHEF, University of California & Stanford University\n",
      "                All rights reserved, please read http://roofit.sourceforge.net/license.txt\n",
      "\n"
     ]
    }
   ],
   "source": [
    "RooWorkspace *wspace = new RooWorkspace(\"myWS\");"
   ]
  },
  {
   "cell_type": "markdown",
   "metadata": {},
   "source": [
    "Add the signal and background models to the workspace"
   ]
  },
  {
   "cell_type": "code",
   "execution_count": 9,
   "metadata": {
    "collapsed": false
   },
   "outputs": [
    {
     "name": "stdout",
     "output_type": "stream",
     "text": [
      "[#1] INFO:ObjectHandling -- RooWorkspace::import(myWS) importing RooAddPdf::model\n",
      "[#1] INFO:ObjectHandling -- RooWorkspace::import(myWS) importing RooGaussian::sigModel\n",
      "[#1] INFO:ObjectHandling -- RooWorkspace::import(myWS) importing RooRealVar::invMass\n",
      "[#1] INFO:ObjectHandling -- RooWorkspace::import(myWS) importing RooRealVar::mH\n",
      "[#1] INFO:ObjectHandling -- RooWorkspace::import(myWS) importing RooRealVar::sigma1\n",
      "[#1] INFO:ObjectHandling -- RooWorkspace::import(myWS) importing RooProduct::fsig\n",
      "[#1] INFO:ObjectHandling -- RooWorkspace::import(myWS) importing RooRealVar::mu\n",
      "[#1] INFO:ObjectHandling -- RooWorkspace::import(myWS) importing RooRealVar::ratioSigEff\n",
      "[#1] INFO:ObjectHandling -- RooWorkspace::import(myWS) importing RooRealVar::fsigExpected\n",
      "[#1] INFO:ObjectHandling -- RooWorkspace::import(myWS) importing RooGaussian::zjjModel\n",
      "[#1] INFO:ObjectHandling -- RooWorkspace::import(myWS) importing RooRealVar::mZ\n",
      "[#1] INFO:ObjectHandling -- RooWorkspace::import(myWS) importing RooRealVar::sigma1_z\n",
      "[#1] INFO:ObjectHandling -- RooWorkspace::import(myWS) importing RooRealVar::fzjj\n",
      "[#1] INFO:ObjectHandling -- RooWorkspace::import(myWS) importing RooChebychev::qcdModel\n",
      "[#1] INFO:ObjectHandling -- RooWorkspace::import(myWS) importing RooRealVar::a0\n",
      "[#1] INFO:ObjectHandling -- RooWorkspace::import(myWS) importing RooRealVar::a1\n",
      "[#1] INFO:ObjectHandling -- RooWorkspace::import(myWS) importing RooRealVar::a2\n"
     ]
    }
   ],
   "source": [
    "AddModel(wspace);"
   ]
  },
  {
   "cell_type": "markdown",
   "metadata": {},
   "source": [
    "Add some toy data to the workspace"
   ]
  },
  {
   "cell_type": "code",
   "execution_count": 10,
   "metadata": {
    "collapsed": false
   },
   "outputs": [
    {
     "name": "stdout",
     "output_type": "stream",
     "text": [
      "[#1] INFO:ObjectHandling -- RooWorkspace::import(myWS) importing dataset modelData\n",
      "[#1] INFO:ObjectHandling -- RooWorkSpace::import(myWS) changing name of dataset from  modelData to data\n"
     ]
    }
   ],
   "source": [
    "AddData(wspace);"
   ]
  },
  {
   "cell_type": "markdown",
   "metadata": {},
   "source": [
    "Inspect the workspace if you wish\n",
    "  wspace->Print();"
   ]
  },
  {
   "cell_type": "markdown",
   "metadata": {},
   "source": [
    "Do the hypothesis test"
   ]
  },
  {
   "cell_type": "code",
   "execution_count": 11,
   "metadata": {
    "collapsed": false
   },
   "outputs": [
    {
     "name": "stdout",
     "output_type": "stream",
     "text": [
      "[#1] INFO:Minization -- createNLL: caching constraint set under name CONSTR_OF_PDF_model_FOR_OBS_invMass with 0 entries\n",
      "[#0] PROGRESS:Minization -- ProfileLikelihoodCalcultor::DoGLobalFit - find MLE \n",
      "[#0] PROGRESS:Minization -- ProfileLikelihoodCalcultor::DoMinimizeNLL - using Minuit / Migrad with strategy 1\n",
      "[#1] INFO:Minization -- RooMinimizer::optimizeConst: activating const optimization\n",
      "[#1] INFO:Minization --  The following expressions have been identified as constant and will be precalculated and cached: (sigModel,zjjModel,qcdModel)\n",
      "[#1] INFO:Minization -- \n",
      "  RooFitResult: minimized FCN value: 717.039, estimated distance to minimum: 8.90226e-10\n",
      "                covariance matrix quality: Full, accurate covariance matrix\n",
      "                Status : MINIMIZE=0 \n",
      "\n",
      "    Floating Parameter    FinalValue +/-  Error   \n",
      "  --------------------  --------------------------\n",
      "                  fzjj    3.1152e-01 +/-  5.03e-02\n",
      "                    mu    1.0968e+00 +/-  3.03e-01\n",
      "\n",
      "[#0] PROGRESS:Minization -- ProfileLikelihoodCalcultor::GetHypoTest - do conditional fit \n",
      "[#0] PROGRESS:Minization -- ProfileLikelihoodCalcultor::DoMinimizeNLL - using Minuit / Migrad with strategy 1\n",
      "[#1] INFO:Minization -- RooMinimizer::optimizeConst: activating const optimization\n",
      "[#1] INFO:Minization -- \n",
      "  RooFitResult: minimized FCN value: 723.97, estimated distance to minimum: 2.09862e-09\n",
      "                covariance matrix quality: Full, accurate covariance matrix\n",
      "                Status : MINIMIZE=0 \n",
      "\n",
      "    Floating Parameter    FinalValue +/-  Error   \n",
      "  --------------------  --------------------------\n",
      "                  fzjj    2.6213e-01 +/-  5.18e-02\n",
      "\n",
      "-------------------------------------------------\n",
      "The p-value for the null is 9.83108e-05\n",
      "Corresponding to a significance of 3.72332\n",
      "-------------------------------------------------\n",
      "\n",
      "\n"
     ]
    }
   ],
   "source": [
    "DoHypothesisTest(wspace);"
   ]
  },
  {
   "cell_type": "markdown",
   "metadata": {},
   "source": [
    "Make some plots"
   ]
  },
  {
   "cell_type": "code",
   "execution_count": 12,
   "metadata": {
    "collapsed": false
   },
   "outputs": [
    {
     "name": "stdout",
     "output_type": "stream",
     "text": [
      "[#1] INFO:Minization -- createNLL picked up cached consraints from workspace with 0 entries\n",
      "[#1] INFO:Minization -- RooMinimizer::optimizeConst: activating const optimization\n",
      "[#1] INFO:Minization --  The following expressions have been identified as constant and will be precalculated and cached: (sigModel,zjjModel,qcdModel)\n",
      "[#1] INFO:Minization -- RooMinimizer::optimizeConst: deactivating const optimization\n",
      "[#1] INFO:Plotting -- RooAbsPdf::plotOn(model) directly selected PDF components: (sigModel)\n",
      "[#1] INFO:Plotting -- RooAbsPdf::plotOn(model) indirectly selected PDF components: ()\n",
      "[#1] INFO:Plotting -- RooAbsPdf::plotOn(model) directly selected PDF components: (zjjModel)\n",
      "[#1] INFO:Plotting -- RooAbsPdf::plotOn(model) indirectly selected PDF components: ()\n",
      "[#1] INFO:Plotting -- RooAbsPdf::plotOn(model) directly selected PDF components: (qcdModel)\n",
      "[#1] INFO:Plotting -- RooAbsPdf::plotOn(model) indirectly selected PDF components: ()\n",
      "[#1] INFO:Minization -- createNLL picked up cached consraints from workspace with 0 entries\n",
      "[#1] INFO:Minization -- RooMinimizer::optimizeConst: activating const optimization\n",
      "[#1] INFO:Minization --  The following expressions have been identified as constant and will be precalculated and cached: (sigModel,zjjModel,qcdModel)\n",
      "[#1] INFO:Minization -- RooMinimizer::optimizeConst: deactivating const optimization\n",
      "[#1] INFO:Plotting -- RooAbsPdf::plotOn(model) directly selected PDF components: (zjjModel)\n",
      "[#1] INFO:Plotting -- RooAbsPdf::plotOn(model) indirectly selected PDF components: ()\n",
      "[#1] INFO:Plotting -- RooAbsPdf::plotOn(model) directly selected PDF components: (qcdModel)\n",
      "[#1] INFO:Plotting -- RooAbsPdf::plotOn(model) indirectly selected PDF components: ()\n"
     ]
    }
   ],
   "source": [
    "MakePlots(wspace);"
   ]
  },
  {
   "cell_type": "markdown",
   "metadata": {},
   "source": [
    "Cleanup"
   ]
  },
  {
   "cell_type": "code",
   "execution_count": 13,
   "metadata": {
    "collapsed": false
   },
   "outputs": [],
   "source": [
    "delete wspace;"
   ]
  },
  {
   "cell_type": "markdown",
   "metadata": {},
   "source": [
    "Draw all canvases "
   ]
  },
  {
   "cell_type": "code",
   "execution_count": 14,
   "metadata": {
    "collapsed": false
   },
   "outputs": [
    {
     "data": {
      "text/html": [
       "\n",
       "<div id=\"root_plot_1\"\n",
       "     style=\"width: 696px; height: 472px\">\n",
       "</div>\n",
       "\n",
       "<script>\n",
       " requirejs.config({\n",
       "     paths: {\n",
       "       'JSRootCore' : 'https://root.cern.ch/js/notebook//scripts/JSRootCore',\n",
       "     }\n",
       "   });\n",
       " require(['JSRootCore'],\n",
       "     function(Core) {\n",
       "       var obj = Core.JSONR_unref({\"_typename\":\"TCanvas\",\"fUniqueID\":0,\"fBits\":53673992,\"fLineColor\":1,\"fLineStyle\":1,\"fLineWidth\":1,\"fFillColor\":0,\"fFillStyle\":1001,\"fLeftMargin\":0.1,\"fRightMargin\":0.1,\"fBottomMargin\":0.1,\"fTopMargin\":0.1,\"fXfile\":2,\"fYfile\":2,\"fAfile\":1,\"fXstat\":0.99,\"fYstat\":0.99,\"fAstat\":2,\"fFrameFillColor\":0,\"fFrameLineColor\":1,\"fFrameFillStyle\":1001,\"fFrameLineStyle\":1,\"fFrameLineWidth\":1,\"fFrameBorderSize\":1,\"fFrameBorderMode\":0,\"fX1\":42.4999986961483,\"fY1\":-1.25785304662783,\"fX2\":217.500001303852,\"fY2\":11.3206766699116,\"fXtoAbsPixelk\":-169.028513724245,\"fXtoPixelk\":-169.028513724245,\"fXtoPixel\":3.97714279787881,\"fYtoAbsPixelk\":424.800047186661,\"fYtoPixelk\":424.800047186661,\"fYtoPixel\":-37.5242584496477,\"fUtoAbsPixelk\":5e-5,\"fUtoPixelk\":5e-5,\"fUtoPixel\":696,\"fVtoAbsPixelk\":472.00005,\"fVtoPixelk\":472,\"fVtoPixel\":-472,\"fAbsPixeltoXk\":42.4999986961483,\"fPixeltoXk\":42.4999986961483,\"fPixeltoX\":0.251436785355896,\"fAbsPixeltoYk\":11.3206766699116,\"fPixeltoYk\":-1.25785304662783,\"fPixeltoY\":-0.0266494273655497,\"fXlowNDC\":0,\"fYlowNDC\":0,\"fXUpNDC\":0,\"fYUpNDC\":0,\"fWNDC\":1,\"fHNDC\":1,\"fAbsXlowNDC\":0,\"fAbsYlowNDC\":0,\"fAbsWNDC\":1,\"fAbsHNDC\":1,\"fUxmin\":60,\"fUymin\":0,\"fUxmax\":200,\"fUymax\":10.0628236232838,\"fTheta\":30,\"fPhi\":30,\"fAspectRatio\":0,\"fNumber\":0,\"fTickx\":0,\"fTicky\":0,\"fLogx\":0,\"fLogy\":0,\"fLogz\":0,\"fPadPaint\":0,\"fCrosshair\":0,\"fCrosshairPos\":0,\"fBorderSize\":2,\"fBorderMode\":0,\"fModified\":false,\"fGridx\":false,\"fGridy\":false,\"fAbsCoord\":false,\"fEditable\":true,\"fFixedAspectRatio\":false,\"fPrimitives\":{\"_typename\":\"TList\",\"name\":\"TList\",\"arr\":[{\"_typename\":\"TFrame\",\"fUniqueID\":0,\"fBits\":50331656,\"fLineColor\":1,\"fLineStyle\":1,\"fLineWidth\":1,\"fFillColor\":0,\"fFillStyle\":1001,\"fX1\":60,\"fY1\":0,\"fX2\":200,\"fY2\":10.0628236232838,\"fBorderSize\":1,\"fBorderMode\":0},{\"_typename\":\"TH1D\",\"fUniqueID\":0,\"fBits\":50332168,\"fName\":\"frame_7f7028367f10\",\"fTitle\":\"An example fit to the signal + background model\",\"fLineColor\":602,\"fLineStyle\":1,\"fLineWidth\":1,\"fFillColor\":0,\"fFillStyle\":1001,\"fMarkerColor\":1,\"fMarkerStyle\":1,\"fMarkerSize\":1,\"fNcells\":102,\"fXaxis\":{\"_typename\":\"TAxis\",\"fUniqueID\":0,\"fBits\":50331648,\"fName\":\"xaxis\",\"fTitle\":\"M_{inv} (GeV)\",\"fNdivisions\":510,\"fAxisColor\":1,\"fLabelColor\":1,\"fLabelFont\":42,\"fLabelOffset\":0.005,\"fLabelSize\":0.035,\"fTickLength\":0.03,\"fTitleOffset\":1,\"fTitleSize\":0.035,\"fTitleColor\":1,\"fTitleFont\":42,\"fNbins\":100,\"fXmin\":60,\"fXmax\":200,\"fXbins\":[],\"fFirst\":0,\"fLast\":0,\"fBits2\":0,\"fTimeDisplay\":false,\"fTimeFormat\":\"\",\"fLabels\":null,\"fModLabs\":null},\"fYaxis\":{\"_typename\":\"TAxis\",\"fUniqueID\":0,\"fBits\":50331648,\"fName\":\"yaxis\",\"fTitle\":\"Events \\/ ( 1.4 GeV )\",\"fNdivisions\":510,\"fAxisColor\":1,\"fLabelColor\":1,\"fLabelFont\":42,\"fLabelOffset\":0.005,\"fLabelSize\":0.035,\"fTickLength\":0.03,\"fTitleOffset\":0,\"fTitleSize\":0.035,\"fTitleColor\":1,\"fTitleFont\":42,\"fNbins\":1,\"fXmin\":0,\"fXmax\":1,\"fXbins\":[],\"fFirst\":0,\"fLast\":0,\"fBits2\":0,\"fTimeDisplay\":false,\"fTimeFormat\":\"\",\"fLabels\":null,\"fModLabs\":null},\"fZaxis\":{\"_typename\":\"TAxis\",\"fUniqueID\":0,\"fBits\":50331648,\"fName\":\"zaxis\",\"fTitle\":\"\",\"fNdivisions\":510,\"fAxisColor\":1,\"fLabelColor\":1,\"fLabelFont\":42,\"fLabelOffset\":0.005,\"fLabelSize\":0.035,\"fTickLength\":0.03,\"fTitleOffset\":1,\"fTitleSize\":0.035,\"fTitleColor\":1,\"fTitleFont\":42,\"fNbins\":1,\"fXmin\":0,\"fXmax\":1,\"fXbins\":[],\"fFirst\":0,\"fLast\":0,\"fBits2\":0,\"fTimeDisplay\":false,\"fTimeFormat\":\"\",\"fLabels\":null,\"fModLabs\":null},\"fBarOffset\":0,\"fBarWidth\":1000,\"fEntries\":1,\"fTsumw\":0,\"fTsumw2\":0,\"fTsumwx\":0,\"fTsumwx2\":0,\"fMaximum\":10.0628236232838,\"fMinimum\":-1111,\"fNormFactor\":0,\"fContour\":[],\"fSumw2\":[],\"fOption\":\"\",\"fFunctions\":{\"_typename\":\"TList\",\"name\":\"TList\",\"arr\":[],\"opt\":[]},\"fBufferSize\":0,\"fBuffer\":[],\"fBinStatErrOpt\":0,\"fStatOverflows\":2,\"fArray\":[0,10.0628236232838,0,0,0,0,0,0,0,0,0,0,0,0,0,0,0,0,0,0,0,0,0,0,0,0,0,0,0,0,0,0,0,0,0,0,0,0,0,0,0,0,0,0,0,0,0,0,0,0,0,0,0,0,0,0,0,0,0,0,0,0,0,0,0,0,0,0,0,0,0,0,0,0,0,0,0,0,0,0,0,0,0,0,0,0,0,0,0,0,0,0,0,0,0,0,0,0,0,0,0,0]},{\"_typename\":\"RooHist\",\"fUniqueID\":0,\"fBits\":50332680,\"fName\":\"h_data\",\"fTitle\":\"Histogram of data_plot__invMass\",\"fLineColor\":1,\"fLineStyle\":1,\"fLineWidth\":1,\"fFillColor\":0,\"fFillStyle\":1000,\"fMarkerColor\":1,\"fMarkerStyle\":8,\"fMarkerSize\":1,\"fNpoints\":100,\"fX\":[60.7,62.1,63.5,64.9,66.3,67.7,69.1,70.5,71.9,73.3,74.7,76.1,77.5,78.9,80.3,81.7,83.1,84.5,85.9,87.3,88.7,90.1,91.5,92.9,94.3,95.7,97.1,98.5,99.9,101.3,102.7,104.1,105.5,106.9,108.3,109.7,111.1,112.5,113.9,115.3,116.7,118.1,119.5,120.9,122.3,123.7,125.1,126.5,127.9,129.3,130.7,132.1,133.5,134.9,136.3,137.7,139.1,140.5,141.9,143.3,144.7,146.1,147.5,148.9,150.3,151.7,153.1,154.5,155.9,157.3,158.7,160.1,161.5,162.9,164.3,165.7,167.1,168.5,169.9,171.3,172.7,174.1,175.5,176.9,178.3,179.7,181.1,182.5,183.9,185.3,186.7,188.1,189.5,190.9,192.3,193.7,195.1,196.5,197.9,199.3],\"fY\":[0,0,1,0,0,0,0,0,1,1,0,1,1,1,3,1,4,0,4,6,4,6,4,6,1,2,5,2,2,0,0,1,2,2,2,1,0,1,3,2,1,1,1,1,1,2,0,1,2,2,1,1,5,1,3,3,3,2,2,5,1,1,3,4,2,2,2,3,0,3,0,0,0,2,1,1,1,1,1,2,0,1,0,0,1,1,1,2,1,1,1,1,0,0,0,0,1,0,1,0],\"fFunctions\":{\"_typename\":\"TList\",\"name\":\"TList\",\"arr\":[],\"opt\":[]},\"fHistogram\":{\"_typename\":\"TH1F\",\"fUniqueID\":0,\"fBits\":50332168,\"fName\":\"h_data\",\"fTitle\":\"Histogram of data_plot__invMass\",\"fLineColor\":602,\"fLineStyle\":1,\"fLineWidth\":1,\"fFillColor\":0,\"fFillStyle\":1001,\"fMarkerColor\":1,\"fMarkerStyle\":1,\"fMarkerSize\":1,\"fNcells\":102,\"fXaxis\":{\"_typename\":\"TAxis\",\"fUniqueID\":0,\"fBits\":50331648,\"fName\":\"xaxis\",\"fTitle\":\"\",\"fNdivisions\":510,\"fAxisColor\":1,\"fLabelColor\":1,\"fLabelFont\":42,\"fLabelOffset\":0.005,\"fLabelSize\":0.035,\"fTickLength\":0.03,\"fTitleOffset\":1,\"fTitleSize\":0.035,\"fTitleColor\":1,\"fTitleFont\":42,\"fNbins\":100,\"fXmin\":46,\"fXmax\":214,\"fXbins\":[],\"fFirst\":0,\"fLast\":0,\"fBits2\":0,\"fTimeDisplay\":false,\"fTimeFormat\":\"\",\"fLabels\":null,\"fModLabs\":null},\"fYaxis\":{\"_typename\":\"TAxis\",\"fUniqueID\":0,\"fBits\":50331648,\"fName\":\"yaxis\",\"fTitle\":\"\",\"fNdivisions\":510,\"fAxisColor\":1,\"fLabelColor\":1,\"fLabelFont\":42,\"fLabelOffset\":0.005,\"fLabelSize\":0.035,\"fTickLength\":0.03,\"fTitleOffset\":0,\"fTitleSize\":0.035,\"fTitleColor\":1,\"fTitleFont\":42,\"fNbins\":1,\"fXmin\":0,\"fXmax\":10.542005700583,\"fXbins\":[],\"fFirst\":0,\"fLast\":0,\"fBits2\":0,\"fTimeDisplay\":false,\"fTimeFormat\":\"\",\"fLabels\":null,\"fModLabs\":null},\"fZaxis\":{\"_typename\":\"TAxis\",\"fUniqueID\":0,\"fBits\":50331648,\"fName\":\"zaxis\",\"fTitle\":\"\",\"fNdivisions\":510,\"fAxisColor\":1,\"fLabelColor\":1,\"fLabelFont\":42,\"fLabelOffset\":0.005,\"fLabelSize\":0.035,\"fTickLength\":0.03,\"fTitleOffset\":1,\"fTitleSize\":0.035,\"fTitleColor\":1,\"fTitleFont\":42,\"fNbins\":1,\"fXmin\":0,\"fXmax\":1,\"fXbins\":[],\"fFirst\":0,\"fLast\":0,\"fBits2\":0,\"fTimeDisplay\":false,\"fTimeFormat\":\"\",\"fLabels\":null,\"fModLabs\":null},\"fBarOffset\":0,\"fBarWidth\":1000,\"fEntries\":0,\"fTsumw\":0,\"fTsumw2\":0,\"fTsumwx\":0,\"fTsumwx2\":0,\"fMaximum\":10.542005700583,\"fMinimum\":0,\"fNormFactor\":0,\"fContour\":[],\"fSumw2\":[],\"fOption\":\"\",\"fFunctions\":{\"_typename\":\"TList\",\"name\":\"TList\",\"arr\":[],\"opt\":[]},\"fBufferSize\":0,\"fBuffer\":[],\"fBinStatErrOpt\":0,\"fStatOverflows\":2,\"fArray\":[0,0,0,0,0,0,0,0,0,0,0,0,0,0,0,0,0,0,0,0,0,0,0,0,0,0,0,0,0,0,0,0,0,0,0,0,0,0,0,0,0,0,0,0,0,0,0,0,0,0,0,0,0,0,0,0,0,0,0,0,0,0,0,0,0,0,0,0,0,0,0,0,0,0,0,0,0,0,0,0,0,0,0,0,0,0,0,0,0,0,0,0,0,0,0,0,0,0,0,0,0,0]},\"fMinimum\":-1111,\"fMaximum\":-1111,\"fEXlow\":[0.7,0.7,0.7,0.7,0.7,0.7,0.7,0.7,0.7,0.7,0.7,0.7,0.7,0.7,0.7,0.7,0.7,0.7,0.7,0.7,0.7,0.7,0.7,0.7,0.7,0.7,0.7,0.7,0.7,0.7,0.7,0.7,0.7,0.7,0.7,0.7,0.7,0.7,0.7,0.7,0.7,0.7,0.7,0.7,0.7,0.7,0.7,0.7,0.7,0.7,0.7,0.7,0.7,0.7,0.7,0.7,0.7,0.7,0.7,0.7,0.7,0.7,0.7,0.7,0.7,0.7,0.7,0.7,0.7,0.7,0.7,0.7,0.7,0.7,0.7,0.7,0.7,0.7,0.7,0.7,0.7,0.7,0.7,0.7,0.7,0.7,0.7,0.7,0.7,0.7,0.7,0.7,0.7,0.7,0.7,0.7,0.7,0.7,0.7,0.7],\"fEXhigh\":[0.7,0.7,0.7,0.7,0.7,0.7,0.7,0.7,0.7,0.7,0.7,0.7,0.7,0.7,0.7,0.7,0.7,0.7,0.7,0.7,0.7,0.7,0.7,0.7,0.7,0.7,0.7,0.7,0.7,0.7,0.7,0.7,0.7,0.7,0.7,0.7,0.7,0.7,0.7,0.7,0.7,0.7,0.7,0.7,0.7,0.7,0.7,0.7,0.7,0.7,0.7,0.7,0.7,0.7,0.7,0.7,0.7,0.7,0.7,0.7,0.7,0.7,0.7,0.7,0.7,0.7,0.7,0.7,0.7,0.7,0.7,0.7,0.7,0.7,0.7,0.7,0.7,0.7,0.7,0.7,0.7,0.7,0.7,0.7,0.7,0.7,0.7,0.7,0.7,0.7,0.7,0.7,0.7,0.7,0.7,0.7,0.7,0.7,0.7,0.7],\"fEYlow\":[0,0,0.82724622097655,0,0,0,0,0,0.82724622097655,0.82724622097655,0,0.82724622097655,0.82724622097655,0.82724622097655,1.63270468610957,0.82724622097655,1.91433918622288,0,1.91433918622288,2.37993137929577,1.91433918622288,2.37993137929577,1.91433918622288,2.37993137929577,0.82724622097655,1.29181456018103,2.15969114440678,1.29181456018103,1.29181456018103,0,0,0.82724622097655,1.29181456018103,1.29181456018103,1.29181456018103,0.82724622097655,0,0.82724622097655,1.63270468610957,1.29181456018103,0.82724622097655,0.82724622097655,0.82724622097655,0.82724622097655,0.82724622097655,1.29181456018103,0,0.82724622097655,1.29181456018103,1.29181456018103,0.82724622097655,0.82724622097655,2.15969114440678,0.82724622097655,1.63270468610957,1.63270468610957,1.63270468610957,1.29181456018103,1.29181456018103,2.15969114440678,0.82724622097655,0.82724622097655,1.63270468610957,1.91433918622288,1.29181456018103,1.29181456018103,1.29181456018103,1.63270468610957,0,1.63270468610957,0,0,0,1.29181456018103,0.82724622097655,0.82724622097655,0.82724622097655,0.82724622097655,0.82724622097655,1.29181456018103,0,0.82724622097655,0,0,0.82724622097655,0.82724622097655,0.82724622097655,1.29181456018103,0.82724622097655,0.82724622097655,0.82724622097655,0.82724622097655,0,0,0,0,0.82724622097655,0,0.82724622097655,0],\"fEYhigh\":[1.14787446444932,1.14787446444932,2.29952655911586,1.14787446444932,1.14787446444932,1.14787446444932,1.14787446444932,1.14787446444932,2.29952655911586,2.29952655911586,1.14787446444932,2.29952655911586,2.29952655911586,2.29952655911586,2.9181858328834,2.29952655911586,3.16275317226094,1.14787446444932,3.16275317226094,3.58364154598457,3.16275317226094,3.58364154598457,3.16275317226094,3.58364154598457,2.29952655911586,2.63785962345524,3.38247265214689,2.63785962345524,2.63785962345524,1.14787446444932,1.14787446444932,2.29952655911586,2.63785962345524,2.63785962345524,2.63785962345524,2.29952655911586,1.14787446444932,2.29952655911586,2.9181858328834,2.63785962345524,2.29952655911586,2.29952655911586,2.29952655911586,2.29952655911586,2.29952655911586,2.63785962345524,1.14787446444932,2.29952655911586,2.63785962345524,2.63785962345524,2.29952655911586,2.29952655911586,3.38247265214689,2.29952655911586,2.9181858328834,2.9181858328834,2.9181858328834,2.63785962345524,2.63785962345524,3.38247265214689,2.29952655911586,2.29952655911586,2.9181858328834,3.16275317226094,2.63785962345524,2.63785962345524,2.63785962345524,2.9181858328834,1.14787446444932,2.9181858328834,1.14787446444932,1.14787446444932,1.14787446444932,2.63785962345524,2.29952655911586,2.29952655911586,2.29952655911586,2.29952655911586,2.29952655911586,2.63785962345524,1.14787446444932,2.29952655911586,1.14787446444932,1.14787446444932,2.29952655911586,2.29952655911586,2.29952655911586,2.63785962345524,2.29952655911586,2.29952655911586,2.29952655911586,2.29952655911586,1.14787446444932,1.14787446444932,1.14787446444932,1.14787446444932,2.29952655911586,1.14787446444932,2.29952655911586,1.14787446444932],\"_yAxisLabel\":\"Events \\/ ( 1.4 GeV )\",\"_ymin\":0,\"_ymax\":9.58364154598457,\"_normValue\":0,\"_nominalBinWidth\":1.4,\"_nSigma\":1,\"_entries\":150,\"_rawEntries\":-1},{\"_typename\":\"RooCurve\",\"fUniqueID\":0,\"fBits\":50332680,\"fName\":\"model_Norm[invMass]\",\"fTitle\":\"Projection of sig+zjj+qcd background shapes\",\"fLineColor\":600,\"fLineStyle\":1,\"fLineWidth\":3,\"fFillColor\":0,\"fFillStyle\":1000,\"fMarkerColor\":1,\"fMarkerStyle\":1,\"fMarkerSize\":1,\"fNpoints\":121,\"fX\":[58.6,58.6,60,61.4,62.8,64.2,65.6,67,68.4,69.8,71.2,72.6,74,75.4,76.8,78.2,79.6,81,82.4,83.8,85.2,85.9,86.6,87.3,88,88.7,89.4,90.1,90.8,91.5,92.2,92.9,93.6,94.3,95,95.7,96.4,97.1,97.8,99.2,100.6,102,103.4,104.8,105.5,106.2,106.9,107.6,108.3,109,109.7,110.4,111.1,111.8,112.5,113.2,114.6,116,117.4,118.8,120.2,121.6,123,124.4,125.8,127.2,128.6,130,131.4,132.8,134.2,135.6,137,138.4,139.8,141.2,142.6,144,145.4,146.8,148.2,149.6,151,152.4,153.8,155.2,156.6,158,159.4,160.8,162.2,163.6,165,166.4,167.8,169.2,170.6,172,173.4,174.8,176.2,177.6,179,180.4,181.8,183.2,184.6,186,187.4,188.8,190.2,191.6,193,194.4,195.8,197.2,198.6,200,200,201.4,201.4],\"fY\":[0,0.382516964347436,0.382516964347436,0.408081779654089,0.438131388886969,0.474322858163022,0.518657017895231,0.573451686092048,0.641265701077798,0.724762685925299,0.826508447041908,0.948704048019617,1.09286749740883,1.25948947628886,1.44770067150857,1.65499757384731,1.87707740457268,2.10782894682717,2.33951335132709,2.56314792548082,2.76907880391623,2.86237983046007,2.9476992098584,3.0239740465343,3.09024378744901,3.14567293108471,3.18957135057363,3.22141157550892,3.2408424665258,3.24769883007755,3.24200665332925,3.2239837851221,3.19403604217973,3.15274887341381,3.10087486259967,3.03931748443937,2.96911164539984,2.89140163397884,2.80741717170398,2.62581979918212,2.43490632187738,2.24503888514531,2.06566736647266,1.90479517009154,1.83331183611321,1.76862929400083,1.71121618494776,1.6614180295257,1.61946082118702,1.58545635654713,1.55940894813472,1.54122317093929,1.53071231360558,1.52760723596497,1.53156537390238,1.54217967736422,1.581478023781,1.64127753167813,1.71683702254934,1.80311635377525,1.89496941388755,1.98731959040419,2.07532427270388,2.15453202088735,2.22103178409493,2.27158925796712,2.30376220159352,2.31598500475627,2.30761329930728,2.27892182770608,2.23105266728331,2.16591559309461,2.08604709220063,1.99443860705929,1.89434742286429,1.78910488034166,1.68193619958095,1.57580429029546,1.47328684311691,1.37649221434833,1.28701564704777,1.20593369527203,1.13383172022523,1.07085725443894,1.01679097902686,0.971126984165943,0.933154726655487,0.902036431409976,0.876875348724528,0.856772030145865,0.84086741805987,0.828372911926751,0.818588596216723,0.810911469998477,0.804835832065157,0.79994800694247,0.795917420933745,0.792485730836493,0.789455340638049,0.786678268831268,0.784045989887495,0.781480590687059,0.778927365484296,0.776348820199145,0.773719960794584,0.77102469014471,0.768253121178853,0.765399620108175,0.762461412929172,0.759437614075188,0.756328563122856,0.753135380778073,0.749859677334523,0.746503364814411,0.743068538123728,0.739557401210062,0.735972221986241,0.732315305288344,0.732315305288344,0.732315305288344,0],\"fFunctions\":{\"_typename\":\"TList\",\"name\":\"TList\",\"arr\":[],\"opt\":[]},\"fHistogram\":{\"_typename\":\"TH1F\",\"fUniqueID\":0,\"fBits\":50332168,\"fName\":\"model_Norm[invMass]\",\"fTitle\":\"Projection of sig+zjj+qcd background shapes\",\"fLineColor\":602,\"fLineStyle\":1,\"fLineWidth\":1,\"fFillColor\":0,\"fFillStyle\":1001,\"fMarkerColor\":1,\"fMarkerStyle\":1,\"fMarkerSize\":1,\"fNcells\":123,\"fXaxis\":{\"_typename\":\"TAxis\",\"fUniqueID\":0,\"fBits\":50331648,\"fName\":\"xaxis\",\"fTitle\":\"\",\"fNdivisions\":510,\"fAxisColor\":1,\"fLabelColor\":1,\"fLabelFont\":42,\"fLabelOffset\":0.005,\"fLabelSize\":0.035,\"fTickLength\":0.03,\"fTitleOffset\":1,\"fTitleSize\":0.035,\"fTitleColor\":1,\"fTitleFont\":42,\"fNbins\":121,\"fXmin\":44.32,\"fXmax\":215.68,\"fXbins\":[],\"fFirst\":0,\"fLast\":0,\"fBits2\":0,\"fTimeDisplay\":false,\"fTimeFormat\":\"\",\"fLabels\":null,\"fModLabs\":null},\"fYaxis\":{\"_typename\":\"TAxis\",\"fUniqueID\":0,\"fBits\":50331648,\"fName\":\"yaxis\",\"fTitle\":\"\",\"fNdivisions\":510,\"fAxisColor\":1,\"fLabelColor\":1,\"fLabelFont\":42,\"fLabelOffset\":0.005,\"fLabelSize\":0.035,\"fTickLength\":0.03,\"fTitleOffset\":0,\"fTitleSize\":0.035,\"fTitleColor\":1,\"fTitleFont\":42,\"fNbins\":1,\"fXmin\":0,\"fXmax\":3.5724687130853,\"fXbins\":[],\"fFirst\":0,\"fLast\":0,\"fBits2\":0,\"fTimeDisplay\":false,\"fTimeFormat\":\"\",\"fLabels\":null,\"fModLabs\":null},\"fZaxis\":{\"_typename\":\"TAxis\",\"fUniqueID\":0,\"fBits\":50331648,\"fName\":\"zaxis\",\"fTitle\":\"\",\"fNdivisions\":510,\"fAxisColor\":1,\"fLabelColor\":1,\"fLabelFont\":42,\"fLabelOffset\":0.005,\"fLabelSize\":0.035,\"fTickLength\":0.03,\"fTitleOffset\":1,\"fTitleSize\":0.035,\"fTitleColor\":1,\"fTitleFont\":42,\"fNbins\":1,\"fXmin\":0,\"fXmax\":1,\"fXbins\":[],\"fFirst\":0,\"fLast\":0,\"fBits2\":0,\"fTimeDisplay\":false,\"fTimeFormat\":\"\",\"fLabels\":null,\"fModLabs\":null},\"fBarOffset\":0,\"fBarWidth\":1000,\"fEntries\":0,\"fTsumw\":0,\"fTsumw2\":0,\"fTsumwx\":0,\"fTsumwx2\":0,\"fMaximum\":3.5724687130853,\"fMinimum\":0,\"fNormFactor\":0,\"fContour\":[],\"fSumw2\":[],\"fOption\":\"\",\"fFunctions\":{\"_typename\":\"TList\",\"name\":\"TList\",\"arr\":[],\"opt\":[]},\"fBufferSize\":0,\"fBuffer\":[],\"fBinStatErrOpt\":0,\"fStatOverflows\":2,\"fArray\":[0,0,0,0,0,0,0,0,0,0,0,0,0,0,0,0,0,0,0,0,0,0,0,0,0,0,0,0,0,0,0,0,0,0,0,0,0,0,0,0,0,0,0,0,0,0,0,0,0,0,0,0,0,0,0,0,0,0,0,0,0,0,0,0,0,0,0,0,0,0,0,0,0,0,0,0,0,0,0,0,0,0,0,0,0,0,0,0,0,0,0,0,0,0,0,0,0,0,0,0,0,0,0,0,0,0,0,0,0,0,0,0,0,0,0,0,0,0,0,0,0,0,0]},\"fMinimum\":-1111,\"fMaximum\":-1111,\"_yAxisLabel\":\"Projection of sig+zjj+qcd background shapes ( \\/ GeV )\",\"_ymin\":0,\"_ymax\":3.24769883007755,\"_normValue\":0},{\"_typename\":\"RooCurve\",\"fUniqueID\":0,\"fBits\":50332680,\"fName\":\"model_Norm[invMass]_Comp[sigModel]\",\"fTitle\":\"Projection of sig+zjj+qcd background shapes\",\"fLineColor\":632,\"fLineStyle\":2,\"fLineWidth\":3,\"fFillColor\":0,\"fFillStyle\":1000,\"fMarkerColor\":1,\"fMarkerStyle\":1,\"fMarkerSize\":1,\"fNpoints\":116,\"fX\":[58.6,58.6,60,61.4,62.8,64.2,65.6,67,68.4,69.8,71.2,72.6,74,75.4,76.8,78.2,79.6,81,82.4,83.8,85.2,86.6,88,89.4,90.8,92.2,93.6,95,96.4,97.8,99.2,100.6,102,103.4,104.8,106.2,107.6,109,110.4,111.8,113.2,114.6,116,117.4,118.8,120.2,121.6,123,123.7,124.4,125.1,125.8,126.5,127.2,127.9,128.6,129.3,130,130.7,131.4,132.1,132.8,133.5,134.2,134.9,135.6,136.3,137,138.4,139.8,141.2,142.6,144,145.4,146.8,148.2,149.6,151,152.4,153.8,155.2,156.6,158,159.4,160.8,162.2,163.6,165,166.4,167.8,169.2,170.6,172,173.4,174.8,176.2,177.6,179,180.4,181.8,183.2,184.6,186,187.4,188.8,190.2,191.6,193,194.4,195.8,197.2,198.6,200,200,201.4,201.4],\"fY\":[0,6.26083666942862e-8,6.26083666942862e-8,1.22811286664552e-7,2.3764734029965e-7,4.53645288184045e-7,8.54257145640244e-7,1.58690016624159e-6,2.90803320117023e-6,5.25699888701871e-6,9.37486838050726e-6,1.64923006290061e-5,2.86210838406942e-5,4.89981495124448e-5,8.27488659906789e-5,1.37858386955388e-4,2.26565147918556e-4,3.67317639625604e-4,5.87461263938648e-4,9.26841465762299e-4,0.00144251535560129,0.00221474741796695,0.0033544145463496,0.00501184961272146,0.0073869999945415,0.0107405602590067,0.015405455467251,0.0217977124573698,0.0304253837982678,0.0418938217787266,0.0569052932743577,0.0762507501417122,0.100791601240692,0.131429646100723,0.169063985106032,0.214534743113205,0.268554811059823,0.33163244204873,0.403989288693325,0.485480132165236,0.575521883919407,0.673040180306392,0.776441807558134,0.883620130243034,0.991998601799598,1.09861440299582,1.20024052520649,1.29354056848038,1.33603927799759,1.3752466343806,1.41079576682444,1.44234747087479,1.46959558715066,1.49227194234297,1.51015074109055,1.5230523082,1.53084609449457,1.53345287597604,1.53084609449457,1.5230523082,1.51015074109055,1.49227194234297,1.46959558715066,1.44234747087479,1.41079576682445,1.3752466343806,1.33603927799759,1.29354056848038,1.2002405252065,1.09861440299582,0.9919986017996,0.883620130243034,0.776441807558134,0.673040180306394,0.575521883919407,0.485480132165236,0.403989288693325,0.33163244204873,0.268554811059825,0.214534743113205,0.169063985106033,0.131429646100723,0.100791601240692,0.0762507501417126,0.0569052932743577,0.0418938217787267,0.0304253837982678,0.0217977124573698,0.0154054554672511,0.0107405602590067,0.00738699999454153,0.00501184961272146,0.0033544145463496,0.00221474741796697,0.00144251535560128,9.26841465762301e-4,5.87461263938648e-4,3.67317639625604e-4,2.26565147918559e-4,1.37858386955387e-4,8.27488659906794e-5,4.89981495124448e-5,2.86210838406942e-5,1.64923006290063e-5,9.37486838050732e-6,5.25699888701874e-6,2.90803320117023e-6,1.58690016624159e-6,8.54257145640255e-7,4.53645288184048e-7,2.37647340299651e-7,1.22811286664552e-7,6.26083666942862e-8,6.26083666942862e-8,6.26083666942862e-8,0],\"fFunctions\":{\"_typename\":\"TList\",\"name\":\"TList\",\"arr\":[],\"opt\":[]},\"fHistogram\":{\"_typename\":\"TH1F\",\"fUniqueID\":0,\"fBits\":50332168,\"fName\":\"model_Norm[invMass]_Comp[sigModel]\",\"fTitle\":\"Projection of sig+zjj+qcd background shapes\",\"fLineColor\":602,\"fLineStyle\":1,\"fLineWidth\":1,\"fFillColor\":0,\"fFillStyle\":1001,\"fMarkerColor\":1,\"fMarkerStyle\":1,\"fMarkerSize\":1,\"fNcells\":118,\"fXaxis\":{\"_typename\":\"TAxis\",\"fUniqueID\":0,\"fBits\":50331648,\"fName\":\"xaxis\",\"fTitle\":\"\",\"fNdivisions\":510,\"fAxisColor\":1,\"fLabelColor\":1,\"fLabelFont\":42,\"fLabelOffset\":0.005,\"fLabelSize\":0.035,\"fTickLength\":0.03,\"fTitleOffset\":1,\"fTitleSize\":0.035,\"fTitleColor\":1,\"fTitleFont\":42,\"fNbins\":116,\"fXmin\":44.32,\"fXmax\":215.68,\"fXbins\":[],\"fFirst\":0,\"fLast\":0,\"fBits2\":0,\"fTimeDisplay\":false,\"fTimeFormat\":\"\",\"fLabels\":null,\"fModLabs\":null},\"fYaxis\":{\"_typename\":\"TAxis\",\"fUniqueID\":0,\"fBits\":50331648,\"fName\":\"yaxis\",\"fTitle\":\"\",\"fNdivisions\":510,\"fAxisColor\":1,\"fLabelColor\":1,\"fLabelFont\":42,\"fLabelOffset\":0.005,\"fLabelSize\":0.035,\"fTickLength\":0.03,\"fTitleOffset\":0,\"fTitleSize\":0.035,\"fTitleColor\":1,\"fTitleFont\":42,\"fNbins\":1,\"fXmin\":0,\"fXmax\":1.68679816357365,\"fXbins\":[],\"fFirst\":0,\"fLast\":0,\"fBits2\":0,\"fTimeDisplay\":false,\"fTimeFormat\":\"\",\"fLabels\":null,\"fModLabs\":null},\"fZaxis\":{\"_typename\":\"TAxis\",\"fUniqueID\":0,\"fBits\":50331648,\"fName\":\"zaxis\",\"fTitle\":\"\",\"fNdivisions\":510,\"fAxisColor\":1,\"fLabelColor\":1,\"fLabelFont\":42,\"fLabelOffset\":0.005,\"fLabelSize\":0.035,\"fTickLength\":0.03,\"fTitleOffset\":1,\"fTitleSize\":0.035,\"fTitleColor\":1,\"fTitleFont\":42,\"fNbins\":1,\"fXmin\":0,\"fXmax\":1,\"fXbins\":[],\"fFirst\":0,\"fLast\":0,\"fBits2\":0,\"fTimeDisplay\":false,\"fTimeFormat\":\"\",\"fLabels\":null,\"fModLabs\":null},\"fBarOffset\":0,\"fBarWidth\":1000,\"fEntries\":0,\"fTsumw\":0,\"fTsumw2\":0,\"fTsumwx\":0,\"fTsumwx2\":0,\"fMaximum\":1.68679816357365,\"fMinimum\":0,\"fNormFactor\":0,\"fContour\":[],\"fSumw2\":[],\"fOption\":\"\",\"fFunctions\":{\"_typename\":\"TList\",\"name\":\"TList\",\"arr\":[],\"opt\":[]},\"fBufferSize\":0,\"fBuffer\":[],\"fBinStatErrOpt\":0,\"fStatOverflows\":2,\"fArray\":[0,0,0,0,0,0,0,0,0,0,0,0,0,0,0,0,0,0,0,0,0,0,0,0,0,0,0,0,0,0,0,0,0,0,0,0,0,0,0,0,0,0,0,0,0,0,0,0,0,0,0,0,0,0,0,0,0,0,0,0,0,0,0,0,0,0,0,0,0,0,0,0,0,0,0,0,0,0,0,0,0,0,0,0,0,0,0,0,0,0,0,0,0,0,0,0,0,0,0,0,0,0,0,0,0,0,0,0,0,0,0,0,0,0,0,0,0,0]},\"fMinimum\":-1111,\"fMaximum\":-1111,\"_yAxisLabel\":\"Projection of sig+zjj+qcd background shapes ( \\/ GeV )\",\"_ymin\":0,\"_ymax\":1.53345287597604,\"_normValue\":0},{\"_typename\":\"RooCurve\",\"fUniqueID\":0,\"fBits\":50332680,\"fName\":\"model_Norm[invMass]_Comp[zjjModel]\",\"fTitle\":\"Projection of sig+zjj+qcd background shapes\",\"fLineColor\":1,\"fLineStyle\":2,\"fLineWidth\":3,\"fFillColor\":0,\"fFillStyle\":1000,\"fMarkerColor\":1,\"fMarkerStyle\":1,\"fMarkerSize\":1,\"fNpoints\":124,\"fX\":[58.6,58.6,60,61.4,62.8,64.2,65.6,67,68.4,69.8,71.2,71.9,72.6,73.3,74,74.7,75.4,76.1,76.8,78.2,79.6,81,82.4,83.8,84.5,85.2,85.9,86.6,87.3,88,88.7,89.4,90.1,90.8,91.5,92.2,92.9,93.6,94.3,95,95.7,96.4,97.1,97.8,99.2,100.6,102,103.4,104.8,106.2,106.9,107.6,108.3,109,109.7,110.4,111.1,111.8,113.2,114.6,116,117.4,118.8,120.2,121.6,123,124.4,125.8,127.2,128.6,130,131.4,132.8,134.2,135.6,137,138.4,139.8,141.2,142.6,144,145.4,146.8,148.2,149.6,151,152.4,153.8,155.2,156.6,158,159.4,160.8,162.2,163.6,165,166.4,167.8,169.2,170.6,172,173.4,174.8,176.2,177.6,179,180.4,181.8,183.2,184.6,186,187.4,188.8,190.2,191.6,193,194.4,195.8,197.2,198.6,200,200,201.4,201.4],\"fY\":[0,0.0201026351811971,0.0201026351811971,0.0308103573181286,0.0463050446098705,0.0682413652797661,0.0986177149239402,0.13974941276875,0.194192689314827,0.26460837692751,0.35355918957816,0.40569470151205,0.463242608834978,0.526368169555849,0.595172280095319,0.66968061855829,0.749833296142155,0.835475404894975,0.926348867091162,1.12220514720316,1.33308476794541,1.55285571260481,1.77374943513096,1.98674104612249,2.08724628665979,2.18211727173195,2.27014936986636,2.35018871933503,2.42115725650359,2.4820768048151,2.53209147458279,2.57048765782091,2.59671096570312,2.6103795469037,2.61129333964952,2.59943894415516,2.57498994957836,2.53830270434507,2.48990767389391,2.43049667879291,2.36090644233754,2.28209899437572,2.19513957242484,2.1011727285636,1.89704162078614,1.67949916186506,1.45804373693117,1.24122107257695,1.03613312128543,0.848144404834079,0.761736663510515,0.680787972245644,0.605467513992533,0.535848198933398,0.471915955813488,0.413579976793299,0.360683524359333,0.313014936551648,0.232304941128719,0.16905953145307,0.120644826390729,0.0844239315021988,0.0579308993647467,0.0389800863772204,0.0257195373179367,0.0166406901520018,0.0105576520521937,0.00656827282635525,0.00400703237011868,0.00239707899338577,0.00140614358330629,8.08844098021273e-4,4.56234161145232e-4,2.52347268631306e-4,1.36866526115522e-4,7.27920094587098e-5,3.79627793527967e-5,1.94142277995038e-5,9.73576471595672e-6,4.78748963262842e-6,2.30851898987087e-6,1.09155816975504e-6,5.06113760923648e-7,2.3011092332183e-7,1.02592155015711e-7,4.48516989265557e-8,1.92278830546296e-8,8.08298688313177e-9,3.33196249413134e-9,1.34684048497655e-9,5.3385098566736e-10,2.07496972034671e-10,7.90844878111999e-11,2.955688604405e-11,1.0832130318305e-11,3.89275349655086e-12,1.37179039863695e-12,4.74030670805486e-13,1.60624930978316e-13,5.33712400981953e-14,1.73895947755717e-14,5.55596444754938e-15,1.74067335838283e-15,5.34764950194431e-16,1.61100324575202e-16,4.75902212840931e-17,1.37856377150371e-17,3.91582997197486e-18,1.09070830350015e-18,2.97907365426494e-19,7.97887553325043e-20,2.09551111148037e-20,5.39667262936741e-21,1.36285611731e-21,3.37490669123469e-22,8.19523403368481e-23,1.95141113511647e-23,4.55642289526225e-24,1.04324689362271e-24,2.34227564785687e-25,5.15675780103597e-26,5.15675780103597e-26,5.15675780103597e-26,0],\"fFunctions\":{\"_typename\":\"TList\",\"name\":\"TList\",\"arr\":[],\"opt\":[]},\"fHistogram\":{\"_typename\":\"TH1F\",\"fUniqueID\":0,\"fBits\":50332168,\"fName\":\"model_Norm[invMass]_Comp[zjjModel]\",\"fTitle\":\"Projection of sig+zjj+qcd background shapes\",\"fLineColor\":602,\"fLineStyle\":1,\"fLineWidth\":1,\"fFillColor\":0,\"fFillStyle\":1001,\"fMarkerColor\":1,\"fMarkerStyle\":1,\"fMarkerSize\":1,\"fNcells\":126,\"fXaxis\":{\"_typename\":\"TAxis\",\"fUniqueID\":0,\"fBits\":50331648,\"fName\":\"xaxis\",\"fTitle\":\"\",\"fNdivisions\":510,\"fAxisColor\":1,\"fLabelColor\":1,\"fLabelFont\":42,\"fLabelOffset\":0.005,\"fLabelSize\":0.035,\"fTickLength\":0.03,\"fTitleOffset\":1,\"fTitleSize\":0.035,\"fTitleColor\":1,\"fTitleFont\":42,\"fNbins\":124,\"fXmin\":44.32,\"fXmax\":215.68,\"fXbins\":[],\"fFirst\":0,\"fLast\":0,\"fBits2\":0,\"fTimeDisplay\":false,\"fTimeFormat\":\"\",\"fLabels\":null,\"fModLabs\":null},\"fYaxis\":{\"_typename\":\"TAxis\",\"fUniqueID\":0,\"fBits\":50331648,\"fName\":\"yaxis\",\"fTitle\":\"\",\"fNdivisions\":510,\"fAxisColor\":1,\"fLabelColor\":1,\"fLabelFont\":42,\"fLabelOffset\":0.005,\"fLabelSize\":0.035,\"fTickLength\":0.03,\"fTitleOffset\":0,\"fTitleSize\":0.035,\"fTitleColor\":1,\"fTitleFont\":42,\"fNbins\":1,\"fXmin\":0,\"fXmax\":2.87242267361447,\"fXbins\":[],\"fFirst\":0,\"fLast\":0,\"fBits2\":0,\"fTimeDisplay\":false,\"fTimeFormat\":\"\",\"fLabels\":null,\"fModLabs\":null},\"fZaxis\":{\"_typename\":\"TAxis\",\"fUniqueID\":0,\"fBits\":50331648,\"fName\":\"zaxis\",\"fTitle\":\"\",\"fNdivisions\":510,\"fAxisColor\":1,\"fLabelColor\":1,\"fLabelFont\":42,\"fLabelOffset\":0.005,\"fLabelSize\":0.035,\"fTickLength\":0.03,\"fTitleOffset\":1,\"fTitleSize\":0.035,\"fTitleColor\":1,\"fTitleFont\":42,\"fNbins\":1,\"fXmin\":0,\"fXmax\":1,\"fXbins\":[],\"fFirst\":0,\"fLast\":0,\"fBits2\":0,\"fTimeDisplay\":false,\"fTimeFormat\":\"\",\"fLabels\":null,\"fModLabs\":null},\"fBarOffset\":0,\"fBarWidth\":1000,\"fEntries\":0,\"fTsumw\":0,\"fTsumw2\":0,\"fTsumwx\":0,\"fTsumwx2\":0,\"fMaximum\":2.87242267361447,\"fMinimum\":0,\"fNormFactor\":0,\"fContour\":[],\"fSumw2\":[],\"fOption\":\"\",\"fFunctions\":{\"_typename\":\"TList\",\"name\":\"TList\",\"arr\":[],\"opt\":[]},\"fBufferSize\":0,\"fBuffer\":[],\"fBinStatErrOpt\":0,\"fStatOverflows\":2,\"fArray\":[0,0,0,0,0,0,0,0,0,0,0,0,0,0,0,0,0,0,0,0,0,0,0,0,0,0,0,0,0,0,0,0,0,0,0,0,0,0,0,0,0,0,0,0,0,0,0,0,0,0,0,0,0,0,0,0,0,0,0,0,0,0,0,0,0,0,0,0,0,0,0,0,0,0,0,0,0,0,0,0,0,0,0,0,0,0,0,0,0,0,0,0,0,0,0,0,0,0,0,0,0,0,0,0,0,0,0,0,0,0,0,0,0,0,0,0,0,0,0,0,0,0,0,0,0,0]},\"fMinimum\":-1111,\"fMaximum\":-1111,\"_yAxisLabel\":\"Projection of sig+zjj+qcd background shapes ( \\/ GeV )\",\"_ymin\":0,\"_ymax\":2.61129333964952,\"_normValue\":0},{\"_typename\":\"RooCurve\",\"fUniqueID\":0,\"fBits\":50332680,\"fName\":\"model_Norm[invMass]_Comp[qcdModel]\",\"fTitle\":\"Projection of sig+zjj+qcd background shapes\",\"fLineColor\":416,\"fLineStyle\":2,\"fLineWidth\":3,\"fFillColor\":0,\"fFillStyle\":1000,\"fMarkerColor\":1,\"fMarkerStyle\":1,\"fMarkerSize\":1,\"fNpoints\":106,\"fX\":[58.6,58.6,60,61.4,62.8,64.2,65.6,67,68.4,69.8,71.2,72.6,74,75.4,76.8,78.2,79.6,81,82.4,83.8,85.2,86.6,88,89.4,90.8,92.2,93.6,95,96.4,97.8,99.2,100.6,102,103.4,104.8,106.2,107.6,109,110.4,111.8,113.2,114.6,116,117.4,118.8,120.2,121.6,123,124.4,125.8,127.2,128.6,130,131.4,132.8,134.2,135.6,137,138.4,139.8,141.2,142.6,144,145.4,146.8,148.2,149.6,151,152.4,153.8,155.2,156.6,158,159.4,160.8,162.2,163.6,165,166.4,167.8,169.2,170.6,172,173.4,174.8,176.2,177.6,179,180.4,181.8,183.2,184.6,186,187.4,188.8,190.2,191.6,193,194.4,195.8,197.2,198.6,200,200,201.4,201.4],\"fY\":[0,0.362414266557873,0.362414266557873,0.377271299524674,0.391826106629758,0.406081039237968,0.420038448714145,0.433700686423132,0.44707010372977,0.460149051998901,0.472939882595367,0.485444946884011,0.497666596229673,0.509607181997196,0.521269055551422,0.532654568257193,0.54376607147935,0.554605916582736,0.565176454932192,0.57548003789256,0.585519016828683,0.595295743105402,0.604812568087559,0.614071843139997,0.623075919627556,0.631827148915079,0.640327882367408,0.648580471349385,0.656587267225851,0.664350621361649,0.67187288512162,0.679156409870607,0.686203546973451,0.693016647794994,0.699598063700078,0.705950146053546,0.712075246220238,0.717975715564998,0.723653905452666,0.729112167248085,0.734352852316096,0.739378312021542,0.744190897729265,0.748792960804106,0.753186852610908,0.757374924514511,0.761359527879759,0.765143014071493,0.768727734454555,0.772116040393787,0.775310283254031,0.778312814400128,0.781125985196921,0.783752147009252,0.786193651201962,0.788452849139894,0.790532092187889,0.792433731710789,0.794160119073437,0.795713605640674,0.797096542777342,0.798311281848282,0.799360174218338,0.80024557125235,0.800969824315161,0.801535284771613,0.801944303986547,0.802199233324806,0.802302424151231,0.802256227830664,0.802062995727948,0.801725079207924,0.801244829635433,0.800624598375319,0.799866736792423,0.798973596251586,0.797947528117651,0.79679088375546,0.795506014529854,0.794095271805676,0.792561006947767,0.79090557132097,0.789131316290126,0.787240593220077,0.785235753475665,0.783119148421732,0.78089312942312,0.778560047844671,0.776122255051226,0.773582102407628,0.770941941278719,0.768204123029341,0.765370999024334,0.762444920628543,0.759428239206807,0.756323306123969,0.753132472744872,0.749858090434357,0.746502510557265,0.74306808447844,0.739557163562722,0.735972099174954,0.732315242679977,0.732315242679977,0.732315242679977,0],\"fFunctions\":{\"_typename\":\"TList\",\"name\":\"TList\",\"arr\":[],\"opt\":[]},\"fHistogram\":{\"_typename\":\"TH1F\",\"fUniqueID\":0,\"fBits\":50332168,\"fName\":\"model_Norm[invMass]_Comp[qcdModel]\",\"fTitle\":\"Projection of sig+zjj+qcd background shapes\",\"fLineColor\":602,\"fLineStyle\":1,\"fLineWidth\":1,\"fFillColor\":0,\"fFillStyle\":1001,\"fMarkerColor\":1,\"fMarkerStyle\":1,\"fMarkerSize\":1,\"fNcells\":108,\"fXaxis\":{\"_typename\":\"TAxis\",\"fUniqueID\":0,\"fBits\":50331648,\"fName\":\"xaxis\",\"fTitle\":\"\",\"fNdivisions\":510,\"fAxisColor\":1,\"fLabelColor\":1,\"fLabelFont\":42,\"fLabelOffset\":0.005,\"fLabelSize\":0.035,\"fTickLength\":0.03,\"fTitleOffset\":1,\"fTitleSize\":0.035,\"fTitleColor\":1,\"fTitleFont\":42,\"fNbins\":106,\"fXmin\":44.32,\"fXmax\":215.68,\"fXbins\":[],\"fFirst\":0,\"fLast\":0,\"fBits2\":0,\"fTimeDisplay\":false,\"fTimeFormat\":\"\",\"fLabels\":null,\"fModLabs\":null},\"fYaxis\":{\"_typename\":\"TAxis\",\"fUniqueID\":0,\"fBits\":50331648,\"fName\":\"yaxis\",\"fTitle\":\"\",\"fNdivisions\":510,\"fAxisColor\":1,\"fLabelColor\":1,\"fLabelFont\":42,\"fLabelOffset\":0.005,\"fLabelSize\":0.035,\"fTickLength\":0.03,\"fTitleOffset\":0,\"fTitleSize\":0.035,\"fTitleColor\":1,\"fTitleFont\":42,\"fNbins\":1,\"fXmin\":0,\"fXmax\":0.882532666566354,\"fXbins\":[],\"fFirst\":0,\"fLast\":0,\"fBits2\":0,\"fTimeDisplay\":false,\"fTimeFormat\":\"\",\"fLabels\":null,\"fModLabs\":null},\"fZaxis\":{\"_typename\":\"TAxis\",\"fUniqueID\":0,\"fBits\":50331648,\"fName\":\"zaxis\",\"fTitle\":\"\",\"fNdivisions\":510,\"fAxisColor\":1,\"fLabelColor\":1,\"fLabelFont\":42,\"fLabelOffset\":0.005,\"fLabelSize\":0.035,\"fTickLength\":0.03,\"fTitleOffset\":1,\"fTitleSize\":0.035,\"fTitleColor\":1,\"fTitleFont\":42,\"fNbins\":1,\"fXmin\":0,\"fXmax\":1,\"fXbins\":[],\"fFirst\":0,\"fLast\":0,\"fBits2\":0,\"fTimeDisplay\":false,\"fTimeFormat\":\"\",\"fLabels\":null,\"fModLabs\":null},\"fBarOffset\":0,\"fBarWidth\":1000,\"fEntries\":0,\"fTsumw\":0,\"fTsumw2\":0,\"fTsumwx\":0,\"fTsumwx2\":0,\"fMaximum\":0.882532666566354,\"fMinimum\":0,\"fNormFactor\":0,\"fContour\":[],\"fSumw2\":[],\"fOption\":\"\",\"fFunctions\":{\"_typename\":\"TList\",\"name\":\"TList\",\"arr\":[],\"opt\":[]},\"fBufferSize\":0,\"fBuffer\":[],\"fBinStatErrOpt\":0,\"fStatOverflows\":2,\"fArray\":[0,0,0,0,0,0,0,0,0,0,0,0,0,0,0,0,0,0,0,0,0,0,0,0,0,0,0,0,0,0,0,0,0,0,0,0,0,0,0,0,0,0,0,0,0,0,0,0,0,0,0,0,0,0,0,0,0,0,0,0,0,0,0,0,0,0,0,0,0,0,0,0,0,0,0,0,0,0,0,0,0,0,0,0,0,0,0,0,0,0,0,0,0,0,0,0,0,0,0,0,0,0,0,0,0,0,0,0]},\"fMinimum\":-1111,\"fMaximum\":-1111,\"_yAxisLabel\":\"Projection of sig+zjj+qcd background shapes ( \\/ GeV )\",\"_ymin\":0,\"_ymax\":0.802302424151231,\"_normValue\":0},{\"$ref\":3},{\"_typename\":\"TPaveText\",\"fUniqueID\":0,\"fBits\":50331657,\"fLineColor\":1,\"fLineStyle\":1,\"fLineWidth\":1,\"fFillColor\":0,\"fFillStyle\":0,\"fX1\":68.7499990873038,\"fY1\":10.4902805731802,\"fX2\":191.250000912696,\"fY2\":11.257784081308,\"fX1NDC\":0.15,\"fY1NDC\":0.933983055615829,\"fX2NDC\":0.85,\"fY2NDC\":0.995000004768372,\"fBorderSize\":0,\"fInit\":1,\"fShadowColor\":1,\"fCornerRadius\":0,\"fOption\":\"blNDC\",\"fName\":\"title\",\"fTextAngle\":0,\"fTextSize\":0,\"fTextAlign\":22,\"fTextColor\":1,\"fTextFont\":42,\"fLabel\":\"\",\"fLongest\":47,\"fMargin\":0.05,\"fLines\":{\"_typename\":\"TList\",\"name\":\"TList\",\"arr\":[{\"_typename\":\"TLatex\",\"fUniqueID\":0,\"fBits\":50331648,\"fName\":\"\",\"fTitle\":\"An example fit to the signal + background model\",\"fTextAngle\":0,\"fTextSize\":0,\"fTextAlign\":0,\"fTextColor\":0,\"fTextFont\":0,\"fX\":0,\"fY\":0,\"fLineColor\":1,\"fLineStyle\":1,\"fLineWidth\":2,\"fLimitFactorSize\":3,\"fOriginSize\":0.0518644079566002}],\"opt\":[\"\"]}}],\"opt\":[\"\",\"FUNC\",\"p\",\"l\",\"l\",\"l\",\"l\",\"AXISSAME\",\"blNDC\"]},\"fExecs\":null,\"fName\":\"c1\",\"fTitle\":\"c1\",\"fNumPaletteColor\":0,\"fNextPaletteColor\":0,\"fDISPLAY\":\"$DISPLAY\",\"fDoubleBuffer\":0,\"fRetained\":true,\"fXsizeUser\":0,\"fYsizeUser\":0,\"fXsizeReal\":20,\"fYsizeReal\":14.28571,\"fWindowTopX\":0,\"fWindowTopY\":0,\"fWindowWidth\":0,\"fWindowHeight\":0,\"fCw\":696,\"fCh\":472,\"fCatt\":{\"_typename\":\"TAttCanvas\",\"fXBetween\":2,\"fYBetween\":2,\"fTitleFromTop\":1.2,\"fXdate\":0.2,\"fYdate\":0.3,\"fAdate\":1},\"kMoveOpaque\":true,\"kResizeOpaque\":true,\"fHighLightColor\":2,\"fBatch\":true,\"kShowEventStatus\":false,\"kAutoExec\":true,\"kMenuBar\":true});\n",
       "       Core.draw(\"root_plot_1\", obj, \"\");\n",
       "     }\n",
       " );\n",
       "</script>\n"
      ],
      "text/plain": [
       "<IPython.core.display.HTML object>"
      ]
     },
     "metadata": {},
     "output_type": "display_data"
    },
    {
     "data": {
      "text/html": [
       "\n",
       "<div id=\"root_plot_2\"\n",
       "     style=\"width: 696px; height: 472px\">\n",
       "</div>\n",
       "\n",
       "<script>\n",
       " requirejs.config({\n",
       "     paths: {\n",
       "       'JSRootCore' : 'https://root.cern.ch/js/notebook//scripts/JSRootCore',\n",
       "     }\n",
       "   });\n",
       " require(['JSRootCore'],\n",
       "     function(Core) {\n",
       "       var obj = Core.JSONR_unref({\"_typename\":\"TCanvas\",\"fUniqueID\":0,\"fBits\":53673992,\"fLineColor\":1,\"fLineStyle\":1,\"fLineWidth\":1,\"fFillColor\":0,\"fFillStyle\":1001,\"fLeftMargin\":0.1,\"fRightMargin\":0.1,\"fBottomMargin\":0.1,\"fTopMargin\":0.1,\"fXfile\":2,\"fYfile\":2,\"fAfile\":1,\"fXstat\":0.99,\"fYstat\":0.99,\"fAstat\":2,\"fFrameFillColor\":0,\"fFrameLineColor\":1,\"fFrameFillStyle\":1001,\"fFrameLineStyle\":1,\"fFrameLineWidth\":1,\"fFrameBorderSize\":1,\"fFrameBorderMode\":0,\"fX1\":42.4999986961483,\"fY1\":-1.1089956113669,\"fX2\":217.500001303852,\"fY2\":9.98095984128924,\"fXtoAbsPixelk\":-169.028513724245,\"fXtoPixelk\":-169.028513724245,\"fXtoPixel\":3.97714279787881,\"fYtoAbsPixelk\":424.800047186661,\"fYtoPixelk\":424.800047186661,\"fYtoPixel\":-42.5610366078569,\"fUtoAbsPixelk\":5e-5,\"fUtoPixelk\":5e-5,\"fUtoPixel\":696,\"fVtoAbsPixelk\":472.00005,\"fVtoPixelk\":472,\"fVtoPixel\":-472,\"fAbsPixeltoXk\":42.4999986961483,\"fPixeltoXk\":42.4999986961483,\"fPixeltoX\":0.251436785355896,\"fAbsPixeltoYk\":9.98095984128924,\"fPixeltoYk\":-1.1089956113669,\"fPixeltoY\":-0.0234956683318986,\"fXlowNDC\":0,\"fYlowNDC\":0,\"fXUpNDC\":0,\"fYUpNDC\":0,\"fWNDC\":1,\"fHNDC\":1,\"fAbsXlowNDC\":0,\"fAbsYlowNDC\":0,\"fAbsWNDC\":1,\"fAbsHNDC\":1,\"fUxmin\":60,\"fUymin\":0,\"fUxmax\":200,\"fUymax\":8.87196422992234,\"fTheta\":30,\"fPhi\":30,\"fAspectRatio\":0,\"fNumber\":0,\"fTickx\":0,\"fTicky\":0,\"fLogx\":0,\"fLogy\":0,\"fLogz\":0,\"fPadPaint\":0,\"fCrosshair\":0,\"fCrosshairPos\":0,\"fBorderSize\":2,\"fBorderMode\":0,\"fModified\":false,\"fGridx\":false,\"fGridy\":false,\"fAbsCoord\":false,\"fEditable\":true,\"fFixedAspectRatio\":false,\"fPrimitives\":{\"_typename\":\"TList\",\"name\":\"TList\",\"arr\":[{\"_typename\":\"TFrame\",\"fUniqueID\":0,\"fBits\":50331656,\"fLineColor\":1,\"fLineStyle\":1,\"fLineWidth\":1,\"fFillColor\":0,\"fFillStyle\":1001,\"fX1\":60,\"fY1\":0,\"fX2\":200,\"fY2\":8.87196422992234,\"fBorderSize\":1,\"fBorderMode\":0},{\"_typename\":\"TH1D\",\"fUniqueID\":0,\"fBits\":50332168,\"fName\":\"frame_7f7028181f20\",\"fTitle\":\"An example fit to the background-only model\",\"fLineColor\":602,\"fLineStyle\":1,\"fLineWidth\":1,\"fFillColor\":0,\"fFillStyle\":1001,\"fMarkerColor\":1,\"fMarkerStyle\":1,\"fMarkerSize\":1,\"fNcells\":102,\"fXaxis\":{\"_typename\":\"TAxis\",\"fUniqueID\":0,\"fBits\":50331648,\"fName\":\"xaxis\",\"fTitle\":\"M_{inv} (GeV)\",\"fNdivisions\":510,\"fAxisColor\":1,\"fLabelColor\":1,\"fLabelFont\":42,\"fLabelOffset\":0.005,\"fLabelSize\":0.035,\"fTickLength\":0.03,\"fTitleOffset\":1,\"fTitleSize\":0.035,\"fTitleColor\":1,\"fTitleFont\":42,\"fNbins\":100,\"fXmin\":60,\"fXmax\":200,\"fXbins\":[],\"fFirst\":0,\"fLast\":0,\"fBits2\":0,\"fTimeDisplay\":false,\"fTimeFormat\":\"\",\"fLabels\":null,\"fModLabs\":null},\"fYaxis\":{\"_typename\":\"TAxis\",\"fUniqueID\":0,\"fBits\":50331648,\"fName\":\"yaxis\",\"fTitle\":\"Events \\/ ( 1.4 GeV )\",\"fNdivisions\":510,\"fAxisColor\":1,\"fLabelColor\":1,\"fLabelFont\":42,\"fLabelOffset\":0.005,\"fLabelSize\":0.035,\"fTickLength\":0.03,\"fTitleOffset\":0,\"fTitleSize\":0.035,\"fTitleColor\":1,\"fTitleFont\":42,\"fNbins\":1,\"fXmin\":0,\"fXmax\":1,\"fXbins\":[],\"fFirst\":0,\"fLast\":0,\"fBits2\":0,\"fTimeDisplay\":false,\"fTimeFormat\":\"\",\"fLabels\":null,\"fModLabs\":null},\"fZaxis\":{\"_typename\":\"TAxis\",\"fUniqueID\":0,\"fBits\":50331648,\"fName\":\"zaxis\",\"fTitle\":\"\",\"fNdivisions\":510,\"fAxisColor\":1,\"fLabelColor\":1,\"fLabelFont\":42,\"fLabelOffset\":0.005,\"fLabelSize\":0.035,\"fTickLength\":0.03,\"fTitleOffset\":1,\"fTitleSize\":0.035,\"fTitleColor\":1,\"fTitleFont\":42,\"fNbins\":1,\"fXmin\":0,\"fXmax\":1,\"fXbins\":[],\"fFirst\":0,\"fLast\":0,\"fBits2\":0,\"fTimeDisplay\":false,\"fTimeFormat\":\"\",\"fLabels\":null,\"fModLabs\":null},\"fBarOffset\":0,\"fBarWidth\":1000,\"fEntries\":1,\"fTsumw\":0,\"fTsumw2\":0,\"fTsumwx\":0,\"fTsumwx2\":0,\"fMaximum\":8.87196422992234,\"fMinimum\":-1111,\"fNormFactor\":0,\"fContour\":[],\"fSumw2\":[],\"fOption\":\"\",\"fFunctions\":{\"_typename\":\"TList\",\"name\":\"TList\",\"arr\":[],\"opt\":[]},\"fBufferSize\":0,\"fBuffer\":[],\"fBinStatErrOpt\":0,\"fStatOverflows\":2,\"fArray\":[0,8.87196422992234,0,0,0,0,0,0,0,0,0,0,0,0,0,0,0,0,0,0,0,0,0,0,0,0,0,0,0,0,0,0,0,0,0,0,0,0,0,0,0,0,0,0,0,0,0,0,0,0,0,0,0,0,0,0,0,0,0,0,0,0,0,0,0,0,0,0,0,0,0,0,0,0,0,0,0,0,0,0,0,0,0,0,0,0,0,0,0,0,0,0,0,0,0,0,0,0,0,0,0,0]},{\"_typename\":\"RooHist\",\"fUniqueID\":0,\"fBits\":50332680,\"fName\":\"h_data\",\"fTitle\":\"Histogram of data_plot__invMass\",\"fLineColor\":1,\"fLineStyle\":1,\"fLineWidth\":1,\"fFillColor\":0,\"fFillStyle\":1000,\"fMarkerColor\":1,\"fMarkerStyle\":8,\"fMarkerSize\":1,\"fNpoints\":100,\"fX\":[60.7,62.1,63.5,64.9,66.3,67.7,69.1,70.5,71.9,73.3,74.7,76.1,77.5,78.9,80.3,81.7,83.1,84.5,85.9,87.3,88.7,90.1,91.5,92.9,94.3,95.7,97.1,98.5,99.9,101.3,102.7,104.1,105.5,106.9,108.3,109.7,111.1,112.5,113.9,115.3,116.7,118.1,119.5,120.9,122.3,123.7,125.1,126.5,127.9,129.3,130.7,132.1,133.5,134.9,136.3,137.7,139.1,140.5,141.9,143.3,144.7,146.1,147.5,148.9,150.3,151.7,153.1,154.5,155.9,157.3,158.7,160.1,161.5,162.9,164.3,165.7,167.1,168.5,169.9,171.3,172.7,174.1,175.5,176.9,178.3,179.7,181.1,182.5,183.9,185.3,186.7,188.1,189.5,190.9,192.3,193.7,195.1,196.5,197.9,199.3],\"fY\":[0,0,1,0,0,0,0,0,1,1,0,1,1,1,3,1,4,0,4,6,4,6,4,6,1,2,5,2,2,0,0,1,2,2,2,1,0,1,3,2,1,1,1,1,1,2,0,1,2,2,1,1,5,1,3,3,3,2,2,5,1,1,3,4,2,2,2,3,0,3,0,0,0,2,1,1,1,1,1,2,0,1,0,0,1,1,1,2,1,1,1,1,0,0,0,0,1,0,1,0],\"fFunctions\":{\"_typename\":\"TList\",\"name\":\"TList\",\"arr\":[],\"opt\":[]},\"fHistogram\":{\"_typename\":\"TH1F\",\"fUniqueID\":0,\"fBits\":50332168,\"fName\":\"h_data\",\"fTitle\":\"Histogram of data_plot__invMass\",\"fLineColor\":602,\"fLineStyle\":1,\"fLineWidth\":1,\"fFillColor\":0,\"fFillStyle\":1001,\"fMarkerColor\":1,\"fMarkerStyle\":1,\"fMarkerSize\":1,\"fNcells\":102,\"fXaxis\":{\"_typename\":\"TAxis\",\"fUniqueID\":0,\"fBits\":50331648,\"fName\":\"xaxis\",\"fTitle\":\"\",\"fNdivisions\":510,\"fAxisColor\":1,\"fLabelColor\":1,\"fLabelFont\":42,\"fLabelOffset\":0.005,\"fLabelSize\":0.035,\"fTickLength\":0.03,\"fTitleOffset\":1,\"fTitleSize\":0.035,\"fTitleColor\":1,\"fTitleFont\":42,\"fNbins\":100,\"fXmin\":46,\"fXmax\":214,\"fXbins\":[],\"fFirst\":0,\"fLast\":0,\"fBits2\":0,\"fTimeDisplay\":false,\"fTimeFormat\":\"\",\"fLabels\":null,\"fModLabs\":null},\"fYaxis\":{\"_typename\":\"TAxis\",\"fUniqueID\":0,\"fBits\":50331648,\"fName\":\"yaxis\",\"fTitle\":\"\",\"fNdivisions\":510,\"fAxisColor\":1,\"fLabelColor\":1,\"fLabelFont\":42,\"fLabelOffset\":0.005,\"fLabelSize\":0.035,\"fTickLength\":0.03,\"fTitleOffset\":0,\"fTitleSize\":0.035,\"fTitleColor\":1,\"fTitleFont\":42,\"fNbins\":1,\"fXmin\":0,\"fXmax\":9.2944387170615,\"fXbins\":[],\"fFirst\":0,\"fLast\":0,\"fBits2\":0,\"fTimeDisplay\":false,\"fTimeFormat\":\"\",\"fLabels\":null,\"fModLabs\":null},\"fZaxis\":{\"_typename\":\"TAxis\",\"fUniqueID\":0,\"fBits\":50331648,\"fName\":\"zaxis\",\"fTitle\":\"\",\"fNdivisions\":510,\"fAxisColor\":1,\"fLabelColor\":1,\"fLabelFont\":42,\"fLabelOffset\":0.005,\"fLabelSize\":0.035,\"fTickLength\":0.03,\"fTitleOffset\":1,\"fTitleSize\":0.035,\"fTitleColor\":1,\"fTitleFont\":42,\"fNbins\":1,\"fXmin\":0,\"fXmax\":1,\"fXbins\":[],\"fFirst\":0,\"fLast\":0,\"fBits2\":0,\"fTimeDisplay\":false,\"fTimeFormat\":\"\",\"fLabels\":null,\"fModLabs\":null},\"fBarOffset\":0,\"fBarWidth\":1000,\"fEntries\":0,\"fTsumw\":0,\"fTsumw2\":0,\"fTsumwx\":0,\"fTsumwx2\":0,\"fMaximum\":9.2944387170615,\"fMinimum\":0,\"fNormFactor\":0,\"fContour\":[],\"fSumw2\":[],\"fOption\":\"\",\"fFunctions\":{\"_typename\":\"TList\",\"name\":\"TList\",\"arr\":[],\"opt\":[]},\"fBufferSize\":0,\"fBuffer\":[],\"fBinStatErrOpt\":0,\"fStatOverflows\":2,\"fArray\":[0,0,0,0,0,0,0,0,0,0,0,0,0,0,0,0,0,0,0,0,0,0,0,0,0,0,0,0,0,0,0,0,0,0,0,0,0,0,0,0,0,0,0,0,0,0,0,0,0,0,0,0,0,0,0,0,0,0,0,0,0,0,0,0,0,0,0,0,0,0,0,0,0,0,0,0,0,0,0,0,0,0,0,0,0,0,0,0,0,0,0,0,0,0,0,0,0,0,0,0,0,0]},\"fMinimum\":-1111,\"fMaximum\":-1111,\"fEXlow\":[0.7,0.7,0.7,0.7,0.7,0.7,0.7,0.7,0.7,0.7,0.7,0.7,0.7,0.7,0.7,0.7,0.7,0.7,0.7,0.7,0.7,0.7,0.7,0.7,0.7,0.7,0.7,0.7,0.7,0.7,0.7,0.7,0.7,0.7,0.7,0.7,0.7,0.7,0.7,0.7,0.7,0.7,0.7,0.7,0.7,0.7,0.7,0.7,0.7,0.7,0.7,0.7,0.7,0.7,0.7,0.7,0.7,0.7,0.7,0.7,0.7,0.7,0.7,0.7,0.7,0.7,0.7,0.7,0.7,0.7,0.7,0.7,0.7,0.7,0.7,0.7,0.7,0.7,0.7,0.7,0.7,0.7,0.7,0.7,0.7,0.7,0.7,0.7,0.7,0.7,0.7,0.7,0.7,0.7,0.7,0.7,0.7,0.7,0.7,0.7],\"fEXhigh\":[0.7,0.7,0.7,0.7,0.7,0.7,0.7,0.7,0.7,0.7,0.7,0.7,0.7,0.7,0.7,0.7,0.7,0.7,0.7,0.7,0.7,0.7,0.7,0.7,0.7,0.7,0.7,0.7,0.7,0.7,0.7,0.7,0.7,0.7,0.7,0.7,0.7,0.7,0.7,0.7,0.7,0.7,0.7,0.7,0.7,0.7,0.7,0.7,0.7,0.7,0.7,0.7,0.7,0.7,0.7,0.7,0.7,0.7,0.7,0.7,0.7,0.7,0.7,0.7,0.7,0.7,0.7,0.7,0.7,0.7,0.7,0.7,0.7,0.7,0.7,0.7,0.7,0.7,0.7,0.7,0.7,0.7,0.7,0.7,0.7,0.7,0.7,0.7,0.7,0.7,0.7,0.7,0.7,0.7,0.7,0.7,0.7,0.7,0.7,0.7],\"fEYlow\":[0,0,1,0,0,0,0,0,1,1,0,1,1,1,1.73205080756888,1,2,0,2,2.44948974278318,2,2.44948974278318,2,2.44948974278318,1,1.4142135623731,2.23606797749979,1.4142135623731,1.4142135623731,0,0,1,1.4142135623731,1.4142135623731,1.4142135623731,1,0,1,1.73205080756888,1.4142135623731,1,1,1,1,1,1.4142135623731,0,1,1.4142135623731,1.4142135623731,1,1,2.23606797749979,1,1.73205080756888,1.73205080756888,1.73205080756888,1.4142135623731,1.4142135623731,2.23606797749979,1,1,1.73205080756888,2,1.4142135623731,1.4142135623731,1.4142135623731,1.73205080756888,0,1.73205080756888,0,0,0,1.4142135623731,1,1,1,1,1,1.4142135623731,0,1,0,0,1,1,1,1.4142135623731,1,1,1,1,0,0,0,0,1,0,1,0],\"fEYhigh\":[0,0,1,0,0,0,0,0,1,1,0,1,1,1,1.73205080756888,1,2,0,2,2.44948974278318,2,2.44948974278318,2,2.44948974278318,1,1.4142135623731,2.23606797749979,1.4142135623731,1.4142135623731,0,0,1,1.4142135623731,1.4142135623731,1.4142135623731,1,0,1,1.73205080756888,1.4142135623731,1,1,1,1,1,1.4142135623731,0,1,1.4142135623731,1.4142135623731,1,1,2.23606797749979,1,1.73205080756888,1.73205080756888,1.73205080756888,1.4142135623731,1.4142135623731,2.23606797749979,1,1,1.73205080756888,2,1.4142135623731,1.4142135623731,1.4142135623731,1.73205080756888,0,1.73205080756888,0,0,0,1.4142135623731,1,1,1,1,1,1.4142135623731,0,1,0,0,1,1,1,1.4142135623731,1,1,1,1,0,0,0,0,1,0,1,0],\"_yAxisLabel\":\"Events \\/ ( 1.4 GeV )\",\"_ymin\":0,\"_ymax\":8.44948974278318,\"_normValue\":0,\"_nominalBinWidth\":1.4,\"_nSigma\":1,\"_entries\":150,\"_rawEntries\":-1},{\"_typename\":\"RooCurve\",\"fUniqueID\":0,\"fBits\":50332680,\"fName\":\"model_Norm[invMass]\",\"fTitle\":\"Projection of sig+zjj+qcd background shapes\",\"fLineColor\":600,\"fLineStyle\":1,\"fLineWidth\":3,\"fFillColor\":0,\"fFillStyle\":1000,\"fMarkerColor\":1,\"fMarkerStyle\":1,\"fMarkerSize\":1,\"fNpoints\":115,\"fX\":[58.6,58.6,60,61.4,62.8,64.2,65.6,67,68.4,69.8,71.2,72.6,74,75.4,76.8,78.2,79.6,81,82.4,83.8,85.2,85.9,86.6,87.3,88,88.7,89.4,90.1,90.8,91.5,92.2,92.9,93.6,94.3,95,95.7,96.4,97.1,97.8,99.2,100.6,102,103.4,104.8,106.2,107.6,109,110.4,111.8,113.2,114.6,116,117.4,118.8,120.2,121.6,123,124.4,125.8,127.2,128.6,130,131.4,132.8,134.2,135.6,137,138.4,139.8,141.2,142.6,144,145.4,146.8,148.2,149.6,151,152.4,153.8,155.2,156.6,158,159.4,160.8,162.2,163.6,165,166.4,167.8,169.2,170.6,172,173.4,174.8,176.2,177.6,179,180.4,181.8,183.2,184.6,186,187.4,188.8,190.2,191.6,193,194.4,195.8,197.2,198.6,200,200,201.4,201.4],\"fY\":[0,0.587331989535749,0.587331989535749,0.619725279801093,0.655670522164257,0.696563615563422,0.74408966287824,0.800200418905746,0.867050335392893,0.946881873578905,1.04185494024701,1.15382214442383,1.2840607318347,1.43298254878195,1.59985358625815,1.78256245584668,1.97748032844472,2.17945157363038,2.38194362457184,2.57736685736902,2.75755245801127,2.83936589992453,2.91435170557452,2.98160328077045,3.04029807390519,3.08971642260203,3.12925837688417,3.15845794994484,3.17699432387904,3.18469963413753,3.1815630690765,3.16773114504999,3.14350414766321,3.10932886038659,3.06578782701429,3.01358550900904,2.95353179775196,2.88652342107408,2.81352384017008,2.65361242520403,2.48204126130846,2.30680576210984,2.13509979726119,1.97290247961666,1.82473108963681,1.69356195067112,1.58090009416665,1.48696368093797,1.41094164928278,1.35128272203378,1.30597932534796,1.27281907591556,1.24958705510406,1.23421217498788,1.22485918853291,1.21997360607907,1.21828986073171,1.21881387170416,1.22079029243614,1.22366287122998,1.22703409745246,1.23062810877226,1.2342589750679,1.23780507734781,1.24118937261033,1.24436481257767,1.24730396730977,1.24999189203141,1.25242137953926,1.25458989564703,1.25649765804799,1.25814646539502,1.2595390028054,1.26067844070305,1.26156820900788,1.26221187320002,1.26261306796425,1.26277546251888,1.26270274292987,1.26239860330056,1.26186674148438,1.26111085704629,1.26013465031545,1.25894182195487,1.2575360727703,1.25592110362719,1.25410061541546,1.25207830903483,1.24985788538886,1.2474430453826,1.24483748992164,1.24204491991178,1.2390690362589,1.2359135398689,1.2325821316477,1.22907851250121,1.22540638333533,1.221569445056,1.21757139856912,1.21341594478061,1.20910678459638,1.20464761892236,1.20004214866445,1.19529407472858,1.19040709802065,1.18538491944659,1.18023123991231,1.17494976032373,1.16954418158675,1.16401820460731,1.1583755302913,1.15261985954466,1.15261985954466,1.15261985954466,0],\"fFunctions\":{\"_typename\":\"TList\",\"name\":\"TList\",\"arr\":[],\"opt\":[]},\"fHistogram\":{\"_typename\":\"TH1F\",\"fUniqueID\":0,\"fBits\":50332168,\"fName\":\"model_Norm[invMass]\",\"fTitle\":\"Projection of sig+zjj+qcd background shapes\",\"fLineColor\":602,\"fLineStyle\":1,\"fLineWidth\":1,\"fFillColor\":0,\"fFillStyle\":1001,\"fMarkerColor\":1,\"fMarkerStyle\":1,\"fMarkerSize\":1,\"fNcells\":117,\"fXaxis\":{\"_typename\":\"TAxis\",\"fUniqueID\":0,\"fBits\":50331648,\"fName\":\"xaxis\",\"fTitle\":\"\",\"fNdivisions\":510,\"fAxisColor\":1,\"fLabelColor\":1,\"fLabelFont\":42,\"fLabelOffset\":0.005,\"fLabelSize\":0.035,\"fTickLength\":0.03,\"fTitleOffset\":1,\"fTitleSize\":0.035,\"fTitleColor\":1,\"fTitleFont\":42,\"fNbins\":115,\"fXmin\":44.32,\"fXmax\":215.68,\"fXbins\":[],\"fFirst\":0,\"fLast\":0,\"fBits2\":0,\"fTimeDisplay\":false,\"fTimeFormat\":\"\",\"fLabels\":null,\"fModLabs\":null},\"fYaxis\":{\"_typename\":\"TAxis\",\"fUniqueID\":0,\"fBits\":50331648,\"fName\":\"yaxis\",\"fTitle\":\"\",\"fNdivisions\":510,\"fAxisColor\":1,\"fLabelColor\":1,\"fLabelFont\":42,\"fLabelOffset\":0.005,\"fLabelSize\":0.035,\"fTickLength\":0.03,\"fTitleOffset\":0,\"fTitleSize\":0.035,\"fTitleColor\":1,\"fTitleFont\":42,\"fNbins\":1,\"fXmin\":0,\"fXmax\":3.50316959755129,\"fXbins\":[],\"fFirst\":0,\"fLast\":0,\"fBits2\":0,\"fTimeDisplay\":false,\"fTimeFormat\":\"\",\"fLabels\":null,\"fModLabs\":null},\"fZaxis\":{\"_typename\":\"TAxis\",\"fUniqueID\":0,\"fBits\":50331648,\"fName\":\"zaxis\",\"fTitle\":\"\",\"fNdivisions\":510,\"fAxisColor\":1,\"fLabelColor\":1,\"fLabelFont\":42,\"fLabelOffset\":0.005,\"fLabelSize\":0.035,\"fTickLength\":0.03,\"fTitleOffset\":1,\"fTitleSize\":0.035,\"fTitleColor\":1,\"fTitleFont\":42,\"fNbins\":1,\"fXmin\":0,\"fXmax\":1,\"fXbins\":[],\"fFirst\":0,\"fLast\":0,\"fBits2\":0,\"fTimeDisplay\":false,\"fTimeFormat\":\"\",\"fLabels\":null,\"fModLabs\":null},\"fBarOffset\":0,\"fBarWidth\":1000,\"fEntries\":0,\"fTsumw\":0,\"fTsumw2\":0,\"fTsumwx\":0,\"fTsumwx2\":0,\"fMaximum\":3.50316959755129,\"fMinimum\":0,\"fNormFactor\":0,\"fContour\":[],\"fSumw2\":[],\"fOption\":\"\",\"fFunctions\":{\"_typename\":\"TList\",\"name\":\"TList\",\"arr\":[],\"opt\":[]},\"fBufferSize\":0,\"fBuffer\":[],\"fBinStatErrOpt\":0,\"fStatOverflows\":2,\"fArray\":[0,0,0,0,0,0,0,0,0,0,0,0,0,0,0,0,0,0,0,0,0,0,0,0,0,0,0,0,0,0,0,0,0,0,0,0,0,0,0,0,0,0,0,0,0,0,0,0,0,0,0,0,0,0,0,0,0,0,0,0,0,0,0,0,0,0,0,0,0,0,0,0,0,0,0,0,0,0,0,0,0,0,0,0,0,0,0,0,0,0,0,0,0,0,0,0,0,0,0,0,0,0,0,0,0,0,0,0,0,0,0,0,0,0,0,0,0]},\"fMinimum\":-1111,\"fMaximum\":-1111,\"_yAxisLabel\":\"Projection of sig+zjj+qcd background shapes ( \\/ GeV )\",\"_ymin\":0,\"_ymax\":3.18469963413753,\"_normValue\":0},{\"_typename\":\"RooCurve\",\"fUniqueID\":0,\"fBits\":50332680,\"fName\":\"model_Norm[invMass]_Comp[zjjModel]\",\"fTitle\":\"Projection of sig+zjj+qcd background shapes\",\"fLineColor\":1,\"fLineStyle\":2,\"fLineWidth\":3,\"fFillColor\":0,\"fFillStyle\":1000,\"fMarkerColor\":1,\"fMarkerStyle\":1,\"fMarkerSize\":1,\"fNpoints\":124,\"fX\":[58.6,58.6,60,61.4,62.8,64.2,65.6,67,68.4,69.8,71.2,71.9,72.6,73.3,74,74.7,75.4,76.1,76.8,78.2,79.6,81,82.4,83.8,84.5,85.2,85.9,86.6,87.3,88,88.7,89.4,90.1,90.8,91.5,92.2,92.9,93.6,94.3,95,95.7,96.4,97.1,97.8,99.2,100.6,102,103.4,104.8,106.2,106.9,107.6,108.3,109,109.7,110.4,111.1,111.8,113.2,114.6,116,117.4,118.8,120.2,121.6,123,124.4,125.8,127.2,128.6,130,131.4,132.8,134.2,135.6,137,138.4,139.8,141.2,142.6,144,145.4,146.8,148.2,149.6,151,152.4,153.8,155.2,156.6,158,159.4,160.8,162.2,163.6,165,166.4,167.8,169.2,170.6,172,173.4,174.8,176.2,177.6,179,180.4,181.8,183.2,184.6,186,187.4,188.8,190.2,191.6,193,194.4,195.8,197.2,198.6,200,200,201.4,201.4],\"fY\":[0,0.0169138735776436,0.0169138735776436,0.025923093358839,0.0389599504482407,0.057416642878112,0.0829745726221898,0.117581793571593,0.16338905656736,0.222635121942798,0.297476195575223,0.34134176095047,0.389761185585325,0.442873513592419,0.500763636792551,0.563453160125379,0.630891694593295,0.702948904372584,0.77940764907421,0.944196410912777,1.12162545010024,1.3065354353088,1.49239009880074,1.67159611577005,1.75615880702997,1.83598097130015,1.91004906064263,1.97739224356106,2.03710346325141,2.08835970549331,2.1304408452968,2.16274647007185,2.18481013039844,2.19631054575835,2.19707938898908,2.18710538583359,2.16653459003268,2.13566682457832,2.09494841032769,2.04496142846174,1.98640987782994,1.92010318720016,1.84693762179021,1.76787618018152,1.59612517743529,1.41309018651019,1.22676292012679,1.04433354703219,0.871777479174626,0.713608296108728,0.640906901505323,0.572798620278075,0.5094257988932,0.450849782223816,0.397058731054725,0.347976241854581,0.303470439450587,0.263363236562176,0.195455788273383,0.142242622239271,0.101507654244166,0.071032264749621,0.0487416649241591,0.0327969068277482,0.0216397998943919,0.014001076323514,0.00888295442254152,0.00552638672527654,0.00337142062813265,0.0020168445919804,0.00118309537957009,6.80541963510892e-4,3.83864446320476e-4,2.1231892042123e-4,1.15156202103019e-4,6.1245445403041e-5,3.19409691735224e-5,1.63346641695772e-5,8.19143819221265e-6,4.02807859122352e-6,1.94233233575203e-6,9.18410781445687e-7,4.25831941484727e-7,1.93609794478125e-7,8.63185708914814e-8,3.77371403573928e-8,1.61778781846428e-8,6.80083068904906e-9,2.80343307647051e-9,1.13319917945151e-9,4.49169375034168e-10,1.74582959950492e-10,6.65397852935458e-11,2.48684527869999e-11,9.11389383177683e-12,3.27526913343063e-12,1.15419143651738e-12,3.98838001369537e-13,1.35145952333957e-13,4.49052773214175e-14,1.46311866553486e-14,4.67465481120754e-15,1.46456068362607e-15,4.49938362797513e-16,1.35545937068539e-16,4.0041267180938e-17,1.15989038948201e-17,3.2946851246388e-18,9.17695724426373e-19,2.50652089701433e-19,6.71323390414905e-20,1.76311263178462e-20,4.54063050790611e-21,1.14667434716521e-21,2.83956529068782e-22,6.89527274088914e-23,1.64187037867742e-23,3.83366459780511e-24,8.77762836063821e-25,1.97073437560564e-25,4.33877194363212e-26,4.33877194363212e-26,4.33877194363212e-26,0],\"fFunctions\":{\"_typename\":\"TList\",\"name\":\"TList\",\"arr\":[],\"opt\":[]},\"fHistogram\":{\"_typename\":\"TH1F\",\"fUniqueID\":0,\"fBits\":50332168,\"fName\":\"model_Norm[invMass]_Comp[zjjModel]\",\"fTitle\":\"Projection of sig+zjj+qcd background shapes\",\"fLineColor\":602,\"fLineStyle\":1,\"fLineWidth\":1,\"fFillColor\":0,\"fFillStyle\":1001,\"fMarkerColor\":1,\"fMarkerStyle\":1,\"fMarkerSize\":1,\"fNcells\":126,\"fXaxis\":{\"_typename\":\"TAxis\",\"fUniqueID\":0,\"fBits\":50331648,\"fName\":\"xaxis\",\"fTitle\":\"\",\"fNdivisions\":510,\"fAxisColor\":1,\"fLabelColor\":1,\"fLabelFont\":42,\"fLabelOffset\":0.005,\"fLabelSize\":0.035,\"fTickLength\":0.03,\"fTitleOffset\":1,\"fTitleSize\":0.035,\"fTitleColor\":1,\"fTitleFont\":42,\"fNbins\":124,\"fXmin\":44.32,\"fXmax\":215.68,\"fXbins\":[],\"fFirst\":0,\"fLast\":0,\"fBits2\":0,\"fTimeDisplay\":false,\"fTimeFormat\":\"\",\"fLabels\":null,\"fModLabs\":null},\"fYaxis\":{\"_typename\":\"TAxis\",\"fUniqueID\":0,\"fBits\":50331648,\"fName\":\"yaxis\",\"fTitle\":\"\",\"fNdivisions\":510,\"fAxisColor\":1,\"fLabelColor\":1,\"fLabelFont\":42,\"fLabelOffset\":0.005,\"fLabelSize\":0.035,\"fTickLength\":0.03,\"fTitleOffset\":0,\"fTitleSize\":0.035,\"fTitleColor\":1,\"fTitleFont\":42,\"fNbins\":1,\"fXmin\":0,\"fXmax\":2.41678732788799,\"fXbins\":[],\"fFirst\":0,\"fLast\":0,\"fBits2\":0,\"fTimeDisplay\":false,\"fTimeFormat\":\"\",\"fLabels\":null,\"fModLabs\":null},\"fZaxis\":{\"_typename\":\"TAxis\",\"fUniqueID\":0,\"fBits\":50331648,\"fName\":\"zaxis\",\"fTitle\":\"\",\"fNdivisions\":510,\"fAxisColor\":1,\"fLabelColor\":1,\"fLabelFont\":42,\"fLabelOffset\":0.005,\"fLabelSize\":0.035,\"fTickLength\":0.03,\"fTitleOffset\":1,\"fTitleSize\":0.035,\"fTitleColor\":1,\"fTitleFont\":42,\"fNbins\":1,\"fXmin\":0,\"fXmax\":1,\"fXbins\":[],\"fFirst\":0,\"fLast\":0,\"fBits2\":0,\"fTimeDisplay\":false,\"fTimeFormat\":\"\",\"fLabels\":null,\"fModLabs\":null},\"fBarOffset\":0,\"fBarWidth\":1000,\"fEntries\":0,\"fTsumw\":0,\"fTsumw2\":0,\"fTsumwx\":0,\"fTsumwx2\":0,\"fMaximum\":2.41678732788799,\"fMinimum\":0,\"fNormFactor\":0,\"fContour\":[],\"fSumw2\":[],\"fOption\":\"\",\"fFunctions\":{\"_typename\":\"TList\",\"name\":\"TList\",\"arr\":[],\"opt\":[]},\"fBufferSize\":0,\"fBuffer\":[],\"fBinStatErrOpt\":0,\"fStatOverflows\":2,\"fArray\":[0,0,0,0,0,0,0,0,0,0,0,0,0,0,0,0,0,0,0,0,0,0,0,0,0,0,0,0,0,0,0,0,0,0,0,0,0,0,0,0,0,0,0,0,0,0,0,0,0,0,0,0,0,0,0,0,0,0,0,0,0,0,0,0,0,0,0,0,0,0,0,0,0,0,0,0,0,0,0,0,0,0,0,0,0,0,0,0,0,0,0,0,0,0,0,0,0,0,0,0,0,0,0,0,0,0,0,0,0,0,0,0,0,0,0,0,0,0,0,0,0,0,0,0,0,0]},\"fMinimum\":-1111,\"fMaximum\":-1111,\"_yAxisLabel\":\"Projection of sig+zjj+qcd background shapes ( \\/ GeV )\",\"_ymin\":0,\"_ymax\":2.19707938898908,\"_normValue\":0},{\"_typename\":\"RooCurve\",\"fUniqueID\":0,\"fBits\":50332680,\"fName\":\"model_Norm[invMass]_Comp[qcdModel]\",\"fTitle\":\"Projection of sig+zjj+qcd background shapes\",\"fLineColor\":416,\"fLineStyle\":2,\"fLineWidth\":3,\"fFillColor\":0,\"fFillStyle\":1000,\"fMarkerColor\":1,\"fMarkerStyle\":1,\"fMarkerSize\":1,\"fNpoints\":106,\"fX\":[58.6,58.6,60,61.4,62.8,64.2,65.6,67,68.4,69.8,71.2,72.6,74,75.4,76.8,78.2,79.6,81,82.4,83.8,85.2,86.6,88,89.4,90.8,92.2,93.6,95,96.4,97.8,99.2,100.6,102,103.4,104.8,106.2,107.6,109,110.4,111.8,113.2,114.6,116,117.4,118.8,120.2,121.6,123,124.4,125.8,127.2,128.6,130,131.4,132.8,134.2,135.6,137,138.4,139.8,141.2,142.6,144,145.4,146.8,148.2,149.6,151,152.4,153.8,155.2,156.6,158,159.4,160.8,162.2,163.6,165,166.4,167.8,169.2,170.6,172,173.4,174.8,176.2,177.6,179,180.4,181.8,183.2,184.6,186,187.4,188.8,190.2,191.6,193,194.4,195.8,197.2,198.6,200,200,201.4,201.4],\"fY\":[0,0.570418115958106,0.570418115958106,0.593802186442254,0.616710571716016,0.63914697268531,0.66111509025605,0.682618625334153,0.703661278825533,0.724246751636108,0.744378744671792,0.764060958838501,0.783297095042151,0.802090854188659,0.820445937183938,0.838366044933906,0.855854878344478,0.872916138321571,0.889553525771098,0.905770741598977,0.921571486711123,0.936959462013452,0.95193836841188,0.966511906812322,0.980683778120694,0.994457683242912,1.00783732308489,1.02082639855255,1.0334286105518,1.04564765998856,1.05748724776874,1.06895107479826,1.08004284198304,1.090766250229,1.10112500044204,1.11112279352808,1.12076333039304,1.13005031194284,1.13898743908339,1.1475784127206,1.1558269337604,1.16373670310869,1.1713114216714,1.17855479035444,1.18547051006372,1.19206228170516,1.19833380618468,1.20428878440819,1.20993091728161,1.21526390571086,1.22029145060184,1.22501725286048,1.22944501339269,1.23357843310439,1.23742121290149,1.24097705368991,1.24424965637557,1.24724272186437,1.24995995106224,1.25240504487509,1.25458170420884,1.2564936299694,1.25814452306269,1.25953808439462,1.26067801487111,1.26156801539808,1.26221178688145,1.26261303022711,1.26277544634101,1.26270273612904,1.26239860049712,1.26186674035118,1.26111085659712,1.26013465014087,1.25894182188833,1.25753607274543,1.25592110361807,1.25410061541218,1.25207830903368,1.24985788538846,1.24744304538246,1.24483748992159,1.24204491991176,1.2390690362589,1.2359135398689,1.2325821316477,1.22907851250121,1.22540638333533,1.221569445056,1.21757139856912,1.21341594478061,1.20910678459638,1.20464761892236,1.20004214866445,1.19529407472858,1.19040709802065,1.18538491944659,1.18023123991231,1.17494976032373,1.16954418158675,1.16401820460731,1.1583755302913,1.15261985954466,1.15261985954466,1.15261985954466,0],\"fFunctions\":{\"_typename\":\"TList\",\"name\":\"TList\",\"arr\":[],\"opt\":[]},\"fHistogram\":{\"_typename\":\"TH1F\",\"fUniqueID\":0,\"fBits\":50332168,\"fName\":\"model_Norm[invMass]_Comp[qcdModel]\",\"fTitle\":\"Projection of sig+zjj+qcd background shapes\",\"fLineColor\":602,\"fLineStyle\":1,\"fLineWidth\":1,\"fFillColor\":0,\"fFillStyle\":1001,\"fMarkerColor\":1,\"fMarkerStyle\":1,\"fMarkerSize\":1,\"fNcells\":108,\"fXaxis\":{\"_typename\":\"TAxis\",\"fUniqueID\":0,\"fBits\":50331648,\"fName\":\"xaxis\",\"fTitle\":\"\",\"fNdivisions\":510,\"fAxisColor\":1,\"fLabelColor\":1,\"fLabelFont\":42,\"fLabelOffset\":0.005,\"fLabelSize\":0.035,\"fTickLength\":0.03,\"fTitleOffset\":1,\"fTitleSize\":0.035,\"fTitleColor\":1,\"fTitleFont\":42,\"fNbins\":106,\"fXmin\":44.32,\"fXmax\":215.68,\"fXbins\":[],\"fFirst\":0,\"fLast\":0,\"fBits2\":0,\"fTimeDisplay\":false,\"fTimeFormat\":\"\",\"fLabels\":null,\"fModLabs\":null},\"fYaxis\":{\"_typename\":\"TAxis\",\"fUniqueID\":0,\"fBits\":50331648,\"fName\":\"yaxis\",\"fTitle\":\"\",\"fNdivisions\":510,\"fAxisColor\":1,\"fLabelColor\":1,\"fLabelFont\":42,\"fLabelOffset\":0.005,\"fLabelSize\":0.035,\"fTickLength\":0.03,\"fTitleOffset\":0,\"fTitleSize\":0.035,\"fTitleColor\":1,\"fTitleFont\":42,\"fNbins\":1,\"fXmin\":0,\"fXmax\":1.38905299097511,\"fXbins\":[],\"fFirst\":0,\"fLast\":0,\"fBits2\":0,\"fTimeDisplay\":false,\"fTimeFormat\":\"\",\"fLabels\":null,\"fModLabs\":null},\"fZaxis\":{\"_typename\":\"TAxis\",\"fUniqueID\":0,\"fBits\":50331648,\"fName\":\"zaxis\",\"fTitle\":\"\",\"fNdivisions\":510,\"fAxisColor\":1,\"fLabelColor\":1,\"fLabelFont\":42,\"fLabelOffset\":0.005,\"fLabelSize\":0.035,\"fTickLength\":0.03,\"fTitleOffset\":1,\"fTitleSize\":0.035,\"fTitleColor\":1,\"fTitleFont\":42,\"fNbins\":1,\"fXmin\":0,\"fXmax\":1,\"fXbins\":[],\"fFirst\":0,\"fLast\":0,\"fBits2\":0,\"fTimeDisplay\":false,\"fTimeFormat\":\"\",\"fLabels\":null,\"fModLabs\":null},\"fBarOffset\":0,\"fBarWidth\":1000,\"fEntries\":0,\"fTsumw\":0,\"fTsumw2\":0,\"fTsumwx\":0,\"fTsumwx2\":0,\"fMaximum\":1.38905299097511,\"fMinimum\":0,\"fNormFactor\":0,\"fContour\":[],\"fSumw2\":[],\"fOption\":\"\",\"fFunctions\":{\"_typename\":\"TList\",\"name\":\"TList\",\"arr\":[],\"opt\":[]},\"fBufferSize\":0,\"fBuffer\":[],\"fBinStatErrOpt\":0,\"fStatOverflows\":2,\"fArray\":[0,0,0,0,0,0,0,0,0,0,0,0,0,0,0,0,0,0,0,0,0,0,0,0,0,0,0,0,0,0,0,0,0,0,0,0,0,0,0,0,0,0,0,0,0,0,0,0,0,0,0,0,0,0,0,0,0,0,0,0,0,0,0,0,0,0,0,0,0,0,0,0,0,0,0,0,0,0,0,0,0,0,0,0,0,0,0,0,0,0,0,0,0,0,0,0,0,0,0,0,0,0,0,0,0,0,0,0]},\"fMinimum\":-1111,\"fMaximum\":-1111,\"_yAxisLabel\":\"Projection of sig+zjj+qcd background shapes ( \\/ GeV )\",\"_ymin\":0,\"_ymax\":1.26277544634101,\"_normValue\":0},{\"$ref\":3},{\"_typename\":\"TPaveText\",\"fUniqueID\":0,\"fBits\":50331657,\"fLineColor\":1,\"fLineStyle\":1,\"fLineWidth\":1,\"fFillColor\":0,\"fFillStyle\":0,\"fX1\":68.7499990873038,\"fY1\":9.24883486894831,\"fX2\":191.250000912696,\"fY2\":9.92551011690699,\"fX1NDC\":0.15,\"fY1NDC\":0.933983055615829,\"fX2NDC\":0.85,\"fY2NDC\":0.995000004768372,\"fBorderSize\":0,\"fInit\":1,\"fShadowColor\":1,\"fCornerRadius\":0,\"fOption\":\"blNDC\",\"fName\":\"title\",\"fTextAngle\":0,\"fTextSize\":0,\"fTextAlign\":22,\"fTextColor\":1,\"fTextFont\":42,\"fLabel\":\"\",\"fLongest\":43,\"fMargin\":0.05,\"fLines\":{\"_typename\":\"TList\",\"name\":\"TList\",\"arr\":[{\"_typename\":\"TLatex\",\"fUniqueID\":0,\"fBits\":50331648,\"fName\":\"\",\"fTitle\":\"An example fit to the background-only model\",\"fTextAngle\":0,\"fTextSize\":0,\"fTextAlign\":0,\"fTextColor\":0,\"fTextFont\":0,\"fX\":0,\"fY\":0,\"fLineColor\":1,\"fLineStyle\":1,\"fLineWidth\":2,\"fLimitFactorSize\":3,\"fOriginSize\":0.0518644079566002}],\"opt\":[\"\"]}}],\"opt\":[\"\",\"FUNC\",\"p\",\"l\",\"l\",\"l\",\"AXISSAME\",\"blNDC\"]},\"fExecs\":null,\"fName\":\"c1_n2\",\"fTitle\":\"c1_n2\",\"fNumPaletteColor\":0,\"fNextPaletteColor\":0,\"fDISPLAY\":\"$DISPLAY\",\"fDoubleBuffer\":0,\"fRetained\":true,\"fXsizeUser\":0,\"fYsizeUser\":0,\"fXsizeReal\":20,\"fYsizeReal\":14.28571,\"fWindowTopX\":0,\"fWindowTopY\":0,\"fWindowWidth\":0,\"fWindowHeight\":0,\"fCw\":696,\"fCh\":472,\"fCatt\":{\"_typename\":\"TAttCanvas\",\"fXBetween\":2,\"fYBetween\":2,\"fTitleFromTop\":1.2,\"fXdate\":0.2,\"fYdate\":0.3,\"fAdate\":1},\"kMoveOpaque\":true,\"kResizeOpaque\":true,\"fHighLightColor\":2,\"fBatch\":true,\"kShowEventStatus\":false,\"kAutoExec\":true,\"kMenuBar\":true});\n",
       "       Core.draw(\"root_plot_2\", obj, \"\");\n",
       "     }\n",
       " );\n",
       "</script>\n"
      ],
      "text/plain": [
       "<IPython.core.display.HTML object>"
      ]
     },
     "metadata": {},
     "output_type": "display_data"
    }
   ],
   "source": [
    "%jsroot on\n",
    "gROOT->GetListOfCanvases()->Draw()"
   ]
  }
 ],
 "metadata": {
  "kernelspec": {
   "display_name": "ROOT C++",
   "language": "c++",
   "name": "root"
  },
  "language_info": {
   "codemirror_mode": "text/x-c++src",
   "file_extension": ".C",
   "mimetype": " text/x-c++src",
   "name": "c++"
  }
 },
 "nbformat": 4,
 "nbformat_minor": 2
}
