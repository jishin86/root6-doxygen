{
 "cells": [
  {
   "cell_type": "markdown",
   "metadata": {},
   "source": [
    "# Rf 7 0 7_Kernelestimation\n",
    "\n",
    "Special p.d.f.'s: using non-parametric (multi-dimensional) kernel estimation p.d.f.s\n",
    "\n",
    "\n",
    "\n",
    "\n",
    "**Author:** Clemens Lange, Wouter Verkerke (C++ version)  \n",
    "<i><small>This notebook tutorial was automatically generated with <a href= \"https://github.com/root-project/root/blob/master/documentation/doxygen/converttonotebook.py\">ROOTBOOK-izer</a> from the macro found in the ROOT repository  on Thursday, August 29, 2019 at 03:03 AM.</small></i>"
   ]
  },
  {
   "cell_type": "code",
   "execution_count": 1,
   "metadata": {
    "collapsed": false
   },
   "outputs": [
    {
     "name": "stdout",
     "output_type": "stream",
     "text": [
      "Welcome to JupyROOT 6.18/03\n"
     ]
    }
   ],
   "source": [
    "import ROOT"
   ]
  },
  {
   "cell_type": "markdown",
   "metadata": {},
   "source": [
    "Create low stats 1D dataset\n",
    "-------------------------------------------------------"
   ]
  },
  {
   "cell_type": "markdown",
   "metadata": {},
   "source": [
    "Create a toy pdf for sampling"
   ]
  },
  {
   "cell_type": "code",
   "execution_count": 2,
   "metadata": {
    "collapsed": false
   },
   "outputs": [
    {
     "name": "stdout",
     "output_type": "stream",
     "text": [
      "\n",
      "\u001b[1mRooFit v3.60 -- Developed by Wouter Verkerke and David Kirkby\u001b[0m \n",
      "                Copyright (C) 2000-2013 NIKHEF, University of California & Stanford University\n",
      "                All rights reserved, please read http://roofit.sourceforge.net/license.txt\n",
      "\n"
     ]
    }
   ],
   "source": [
    "x = ROOT.RooRealVar(\"x\", \"x\", 0, 20)\n",
    "p = ROOT.RooPolynomial(\"p\", \"p\", x, ROOT.RooArgList(ROOT.RooFit.RooConst(\n",
    "    0.01), ROOT.RooFit.RooConst(-0.01), ROOT.RooFit.RooConst(0.0004)))"
   ]
  },
  {
   "cell_type": "markdown",
   "metadata": {},
   "source": [
    "Sample 500 events from p"
   ]
  },
  {
   "cell_type": "code",
   "execution_count": 3,
   "metadata": {
    "collapsed": false
   },
   "outputs": [],
   "source": [
    "data1 = p.generate(ROOT.RooArgSet(x), 200)"
   ]
  },
  {
   "cell_type": "markdown",
   "metadata": {},
   "source": [
    "Create 1D kernel estimation pdf\n",
    "---------------------------------------------------------------"
   ]
  },
  {
   "cell_type": "markdown",
   "metadata": {},
   "source": [
    "Create adaptive kernel estimation pdf. In self configuration the input data\n",
    "is mirrored over the boundaries to minimize edge effects in distribution\n",
    "that do not fall to zero towards the edges"
   ]
  },
  {
   "cell_type": "code",
   "execution_count": 4,
   "metadata": {
    "collapsed": false
   },
   "outputs": [],
   "source": [
    "kest1 = ROOT.RooKeysPdf(\"kest1\", \"kest1\", x, data1,\n",
    "                        ROOT.RooKeysPdf.MirrorBoth)"
   ]
  },
  {
   "cell_type": "markdown",
   "metadata": {},
   "source": [
    "An adaptive kernel estimation pdf on the same data without mirroring option\n",
    "for comparison"
   ]
  },
  {
   "cell_type": "code",
   "execution_count": 5,
   "metadata": {
    "collapsed": false
   },
   "outputs": [],
   "source": [
    "kest2 = ROOT.RooKeysPdf(\"kest2\", \"kest2\", x, data1,\n",
    "                        ROOT.RooKeysPdf.NoMirror)"
   ]
  },
  {
   "cell_type": "markdown",
   "metadata": {},
   "source": [
    "Adaptive kernel estimation pdf with increased bandwidth scale factor\n",
    "(promotes smoothness over detail preservation)"
   ]
  },
  {
   "cell_type": "code",
   "execution_count": 6,
   "metadata": {
    "collapsed": false
   },
   "outputs": [],
   "source": [
    "kest3 = ROOT.RooKeysPdf(\"kest1\", \"kest1\", x, data1,\n",
    "                        ROOT.RooKeysPdf.MirrorBoth, 2)"
   ]
  },
  {
   "cell_type": "markdown",
   "metadata": {},
   "source": [
    "Plot kernel estimation pdfs with and without mirroring over data"
   ]
  },
  {
   "cell_type": "code",
   "execution_count": 7,
   "metadata": {
    "collapsed": false
   },
   "outputs": [
    {
     "data": {
      "text/plain": [
       "<ROOT.RooPlot object (\"frame_x_5598b8362a90\") at 0x5598b8362a90>"
      ]
     },
     "execution_count": 7,
     "metadata": {},
     "output_type": "execute_result"
    }
   ],
   "source": [
    "frame = x.frame(\n",
    "    ROOT.RooFit.Title(\"Adaptive kernel estimation pdf with and w/o mirroring\"),\n",
    "    ROOT.RooFit.Bins(20))\n",
    "data1.plotOn(frame)\n",
    "kest1.plotOn(frame)\n",
    "kest2.plotOn(frame, ROOT.RooFit.LineStyle(\n",
    "    ROOT.kDashed), ROOT.RooFit.LineColor(ROOT.kRed))"
   ]
  },
  {
   "cell_type": "markdown",
   "metadata": {},
   "source": [
    "Plot kernel estimation pdfs with regular and increased bandwidth"
   ]
  },
  {
   "cell_type": "code",
   "execution_count": 8,
   "metadata": {
    "collapsed": false
   },
   "outputs": [
    {
     "data": {
      "text/plain": [
       "<ROOT.RooPlot object (\"frame_x_5598b8a76060\") at 0x5598b8a76060>"
      ]
     },
     "execution_count": 8,
     "metadata": {},
     "output_type": "execute_result"
    }
   ],
   "source": [
    "frame2 = x.frame(ROOT.RooFit.Title(\n",
    "    \"Adaptive kernel estimation pdf with regular, bandwidth\"))\n",
    "kest1.plotOn(frame2)\n",
    "kest3.plotOn(frame2, ROOT.RooFit.LineColor(ROOT.kMagenta))"
   ]
  },
  {
   "cell_type": "markdown",
   "metadata": {},
   "source": [
    "Create low status 2D dataset\n",
    "-------------------------------------------------------"
   ]
  },
  {
   "cell_type": "markdown",
   "metadata": {},
   "source": [
    "Construct a 2D toy pdf for sampleing"
   ]
  },
  {
   "cell_type": "code",
   "execution_count": 9,
   "metadata": {
    "collapsed": false
   },
   "outputs": [],
   "source": [
    "y = ROOT.RooRealVar(\"y\", \"y\", 0, 20)\n",
    "py = ROOT.RooPolynomial(\"py\", \"py\", y, ROOT.RooArgList(ROOT.RooFit.RooConst(\n",
    "    0.01), ROOT.RooFit.RooConst(0.01), ROOT.RooFit.RooConst(-0.0004)))\n",
    "pxy = ROOT.RooProdPdf(\"pxy\", \"pxy\", ROOT.RooArgList(p, py))\n",
    "data2 = pxy.generate(ROOT.RooArgSet(x, y), 1000)"
   ]
  },
  {
   "cell_type": "markdown",
   "metadata": {},
   "source": [
    "Create 2D kernel estimation pdf\n",
    "---------------------------------------------------------------"
   ]
  },
  {
   "cell_type": "markdown",
   "metadata": {},
   "source": [
    "Create 2D adaptive kernel estimation pdf with mirroring"
   ]
  },
  {
   "cell_type": "code",
   "execution_count": 10,
   "metadata": {
    "collapsed": false
   },
   "outputs": [],
   "source": [
    "kest4 = ROOT.RooNDKeysPdf(\"kest4\", \"kest4\", ROOT.RooArgList(x, y), data2, \"am\")"
   ]
  },
  {
   "cell_type": "markdown",
   "metadata": {},
   "source": [
    "Create 2D adaptive kernel estimation pdf with mirroring and double\n",
    "bandwidth"
   ]
  },
  {
   "cell_type": "code",
   "execution_count": 11,
   "metadata": {
    "collapsed": false
   },
   "outputs": [],
   "source": [
    "kest5 = ROOT.RooNDKeysPdf(\n",
    "    \"kest5\", \"kest5\", ROOT.RooArgList(\n",
    "        x, y), data2, \"am\", 2)"
   ]
  },
  {
   "cell_type": "markdown",
   "metadata": {},
   "source": [
    "Create a histogram of the data"
   ]
  },
  {
   "cell_type": "code",
   "execution_count": 12,
   "metadata": {
    "collapsed": false
   },
   "outputs": [],
   "source": [
    "hh_data = ROOT.RooAbsData.createHistogram(\n",
    "    data2, \"hh_data\", x, ROOT.RooFit.Binning(10), ROOT.RooFit.YVar(\n",
    "        y, ROOT.RooFit.Binning(10)))"
   ]
  },
  {
   "cell_type": "markdown",
   "metadata": {},
   "source": [
    "Create histogram of the 2d kernel estimation pdfs"
   ]
  },
  {
   "cell_type": "code",
   "execution_count": 13,
   "metadata": {
    "collapsed": false
   },
   "outputs": [
    {
     "name": "stderr",
     "output_type": "stream",
     "text": [
      "Info in <TCanvas::Print>: png file rf707_kernelestimation.png has been created\n"
     ]
    }
   ],
   "source": [
    "hh_pdf = kest4.createHistogram(\"hh_pdf\", x, ROOT.RooFit.Binning(\n",
    "    25), ROOT.RooFit.YVar(y, ROOT.RooFit.Binning(25)))\n",
    "hh_pdf2 = kest5.createHistogram(\"hh_pdf2\", x, ROOT.RooFit.Binning(\n",
    "    25), ROOT.RooFit.YVar(y, ROOT.RooFit.Binning(25)))\n",
    "hh_pdf.SetLineColor(ROOT.kBlue)\n",
    "hh_pdf2.SetLineColor(ROOT.kMagenta)\n",
    "\n",
    "c = ROOT.TCanvas(\"rf707_kernelestimation\",\n",
    "                 \"rf707_kernelestimation\", 800, 800)\n",
    "c.Divide(2, 2)\n",
    "c.cd(1)\n",
    "ROOT.gPad.SetLeftMargin(0.15)\n",
    "frame.GetYaxis().SetTitleOffset(1.4)\n",
    "frame.Draw()\n",
    "c.cd(2)\n",
    "ROOT.gPad.SetLeftMargin(0.15)\n",
    "frame2.GetYaxis().SetTitleOffset(1.8)\n",
    "frame2.Draw()\n",
    "c.cd(3)\n",
    "ROOT.gPad.SetLeftMargin(0.15)\n",
    "hh_data.GetZaxis().SetTitleOffset(1.4)\n",
    "hh_data.Draw(\"lego\")\n",
    "c.cd(4)\n",
    "ROOT.gPad.SetLeftMargin(0.20)\n",
    "hh_pdf.GetZaxis().SetTitleOffset(2.4)\n",
    "hh_pdf.Draw(\"surf\")\n",
    "hh_pdf2.Draw(\"surfsame\")\n",
    "\n",
    "c.SaveAs(\"rf707_kernelestimation.png\")"
   ]
  },
  {
   "cell_type": "markdown",
   "metadata": {},
   "source": [
    "Draw all canvases "
   ]
  },
  {
   "cell_type": "code",
   "execution_count": 14,
   "metadata": {
    "collapsed": false
   },
   "outputs": [
    {
     "data": {
      "image/png": "[encoded data removed]",
      "text/plain": [
       "<IPython.core.display.Image object>"
      ]
     },
     "metadata": {},
     "output_type": "display_data"
    }
   ],
   "source": [
    "from ROOT import gROOT \n",
    "gROOT.GetListOfCanvases().Draw()"
   ]
  }
 ],
 "metadata": {
  "kernelspec": {
   "display_name": "Python 2",
   "language": "python",
   "name": "python2"
  },
  "language_info": {
   "codemirror_mode": {
    "name": "ipython",
    "version": 2
   },
   "file_extension": ".py",
   "mimetype": "text/x-python",
   "name": "python",
   "nbconvert_exporter": "python",
   "pygments_lexer": "ipython2",
   "version": "2.7.10"
  }
 },
 "nbformat": 4,
 "nbformat_minor": 2
}
