{
 "cells": [
  {
   "cell_type": "markdown",
   "metadata": {},
   "source": [
    "# Df 0 1 2_ Defines And Filters As Strings\n",
    "\n",
    "This tutorial illustrates how to use jit-compiling features of RDataFrame\n",
    "to define data using C++ code in a Python script\n",
    "\n",
    "\n",
    "\n",
    "\n",
    "**Author:** Guilherme Amadio  \n",
    "<i><small>This notebook tutorial was automatically generated with <a href= \"https://github.com/root-project/root/blob/master/documentation/doxygen/converttonotebook.py\">ROOTBOOK-izer</a> from the macro found in the ROOT repository  on Thursday, August 29, 2019 at 01:04 AM.</small></i>"
   ]
  },
  {
   "cell_type": "code",
   "execution_count": 1,
   "metadata": {
    "collapsed": false
   },
   "outputs": [
    {
     "name": "stdout",
     "output_type": "stream",
     "text": [
      "Welcome to JupyROOT 6.18/03\n"
     ]
    }
   ],
   "source": [
    "import ROOT"
   ]
  },
  {
   "cell_type": "markdown",
   "metadata": {},
   "source": [
    " We will inefficiently calculate an approximation of pi by generating\n",
    " some data and doing very simple filtering and analysis on it."
   ]
  },
  {
   "cell_type": "markdown",
   "metadata": {},
   "source": [
    " We start by creating an empty dataframe where we will insert 10 million\n",
    " random points in a square of side 2.0 (that is, with an inscribed unit\n",
    " circle)."
   ]
  },
  {
   "cell_type": "code",
   "execution_count": 2,
   "metadata": {
    "collapsed": false
   },
   "outputs": [],
   "source": [
    "npoints = 10000000\n",
    "tdf = ROOT.ROOT.RDataFrame(npoints)"
   ]
  },
  {
   "cell_type": "markdown",
   "metadata": {},
   "source": [
    " Define what data we want inside the dataframe. We do not need to define p\n",
    " as an array, but we do it here to demonstrate how to use jitting with RDataFrame"
   ]
  },
  {
   "cell_type": "code",
   "execution_count": 3,
   "metadata": {
    "collapsed": false
   },
   "outputs": [],
   "source": [
    "pidf = tdf.Define(\"x\", \"gRandom->Uniform(-1.0, 1.0)\") \\\n",
    "          .Define(\"y\", \"gRandom->Uniform(-1.0, 1.0)\") \\\n",
    "          .Define(\"p\", \"std::array<double, 2> v{x, y}; return v;\") \\\n",
    "          .Define(\"r\", \"double r2 = 0.0; for (auto&& w : p) r2 += w*w; return sqrt(r2);\")"
   ]
  },
  {
   "cell_type": "markdown",
   "metadata": {},
   "source": [
    " Now we have a dataframe with columns x, y, p (which is a point based on x\n",
    " and y), and the radius r = sqrt(x*x + y*y). In order to approximate pi, we\n",
    " need to know how many of our data points fall inside the circle of radius\n",
    " one compared with the total number of points. The ratio of the areas is\n",
    "\n",
    "     A_circle / A_square = pi r*r / l * l, where r = 1.0, and l = 2.0\n",
    "\n",
    " Therefore, we can approximate pi with 4 times the number of points inside\n",
    " the unit circle over the total number of points:"
   ]
  },
  {
   "cell_type": "code",
   "execution_count": 4,
   "metadata": {
    "collapsed": false
   },
   "outputs": [
    {
     "name": "stdout",
     "output_type": "stream",
     "text": [
      "pi is approximately equal to 3.14146\n"
     ]
    }
   ],
   "source": [
    "incircle = pidf.Filter(\"r <= 1.0\").Count().GetValue()\n",
    "\n",
    "pi_approx = 4.0 * incircle / npoints\n",
    "\n",
    "print(\"pi is approximately equal to %g\" % (pi_approx))"
   ]
  }
 ],
 "metadata": {
  "kernelspec": {
   "display_name": "Python 2",
   "language": "python",
   "name": "python2"
  },
  "language_info": {
   "codemirror_mode": {
    "name": "ipython",
    "version": 2
   },
   "file_extension": ".py",
   "mimetype": "text/x-python",
   "name": "python",
   "nbconvert_exporter": "python",
   "pygments_lexer": "ipython2",
   "version": "2.7.10"
  }
 },
 "nbformat": 4,
 "nbformat_minor": 2
}
