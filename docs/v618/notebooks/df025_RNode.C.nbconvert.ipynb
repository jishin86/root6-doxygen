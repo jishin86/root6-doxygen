{
 "cells": [
  {
   "cell_type": "markdown",
   "metadata": {},
   "source": [
    "# Df 0 2 5_ R Node\n",
    "RNode is a generic type which represents any transformation node in the computation graph.\n",
    "This tutorial shows how to take advantage of the RNode class.\n",
    "\n",
    "\n",
    "\n",
    "\n",
    "**Author:** Danilo Piparo  \n",
    "<i><small>This notebook tutorial was automatically generated with <a href= \"https://github.com/root-project/root/blob/master/documentation/doxygen/converttonotebook.py\">ROOTBOOK-izer</a> from the macro found in the ROOT repository  on Thursday, August 29, 2019 at 01:13 AM.</small></i>"
   ]
  },
  {
   "cell_type": "markdown",
   "metadata": {},
   "source": [
    "/ this function does not need to be a template: the rnode type accommodates all\n",
    "/ possible nodes."
   ]
  },
  {
   "cell_type": "code",
   "execution_count": 1,
   "metadata": {
    "collapsed": false
   },
   "outputs": [],
   "source": [
    "ROOT::RDF::RNode AddFilter(ROOT::RDF::RNode node, string_view filterStr)\n",
    "{\n",
    "   return node.Filter(filterStr);\n",
    "}"
   ]
  },
  {
   "cell_type": "markdown",
   "metadata": {},
   "source": [
    "/ trivial helper function which returns the demangled typename from a typeid"
   ]
  },
  {
   "cell_type": "code",
   "execution_count": 2,
   "metadata": {
    "collapsed": false
   },
   "outputs": [],
   "source": [
    "template<typename T>\n",
    "std::string GetName(T&)\n",
    "{\n",
    "   int dummy;\n",
    "   return TClassEdit::DemangleName(typeid(T).name(), dummy);\n",
    "}"
   ]
  },
  {
   "cell_type": "code",
   "execution_count": 3,
   "metadata": {
    "collapsed": false
   },
   "outputs": [
    {
     "name": "stdout",
     "output_type": "stream",
     "text": [
      "Type name of input node: ROOT::RDataFrame\n",
      "Type name of input node: ROOT::RDF::RInterface<ROOT::Detail::RDF::RFilter<__cling_Un1Qu32(void*)::$_0, ROOT::Detail::RDF::RNodeBase>, void>\n",
      "Entries passing the selection: 5\n"
     ]
    }
   ],
   "source": [
    "ROOT::RDataFrame df(8);\n",
    "std::cout << \"Type name of input node: \" << GetName(df) << std::endl;\n",
    "auto f1 = AddFilter(df, \"rdfentry_ > 0\");\n",
    "auto f2 = f1.Filter([](ULong64_t e) { return e > 1; }, {\"rdfentry_\"});\n",
    "std::cout << \"Type name of input node: \" << GetName(f2) << std::endl;\n",
    "auto f3 = AddFilter(f2, \"rdfentry_ > 2\");\n",
    "\n",
    "std::cout << \"Entries passing the selection: \" << *f3.Count() << std::endl;"
   ]
  },
  {
   "cell_type": "markdown",
   "metadata": {},
   "source": [
    "Draw all canvases "
   ]
  },
  {
   "cell_type": "code",
   "execution_count": 4,
   "metadata": {
    "collapsed": false
   },
   "outputs": [],
   "source": [
    "gROOT->GetListOfCanvases()->Draw()"
   ]
  }
 ],
 "metadata": {
  "kernelspec": {
   "display_name": "ROOT C++",
   "language": "c++",
   "name": "root"
  },
  "language_info": {
   "codemirror_mode": "text/x-c++src",
   "file_extension": ".C",
   "mimetype": " text/x-c++src",
   "name": "c++"
  }
 },
 "nbformat": 4,
 "nbformat_minor": 2
}
