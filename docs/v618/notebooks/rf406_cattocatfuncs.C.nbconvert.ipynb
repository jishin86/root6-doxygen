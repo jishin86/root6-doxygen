{
 "cells": [
  {
   "cell_type": "markdown",
   "metadata": {},
   "source": [
    "# Rf 4 0 6_Cattocatfuncs\n",
    "Data and categories: demonstration of discrete-->discrete (invertable) functions\n",
    "\n",
    "\n",
    "\n",
    "**Author:** 07/2008 - Wouter Verkerke  \n",
    "<i><small>This notebook tutorial was automatically generated with <a href= \"https://github.com/root-project/root/blob/master/documentation/doxygen/converttonotebook.py\">ROOTBOOK-izer</a> from the macro found in the ROOT repository  on Thursday, August 29, 2019 at 02:53 AM.</small></i>"
   ]
  },
  {
   "cell_type": "code",
   "execution_count": 1,
   "metadata": {
    "collapsed": false
   },
   "outputs": [],
   "source": [
    "%%cpp -d\n",
    "#include \"RooRealVar.h\"\n",
    "#include \"RooDataSet.h\"\n",
    "#include \"RooPolynomial.h\"\n",
    "#include \"RooCategory.h\"\n",
    "#include \"RooMappedCategory.h\"\n",
    "#include \"RooMultiCategory.h\"\n",
    "#include \"RooSuperCategory.h\"\n",
    "#include \"Roo1DTable.h\"\n",
    "#include \"TCanvas.h\"\n",
    "#include \"TAxis.h\"\n",
    "#include \"RooPlot.h\""
   ]
  },
  {
   "cell_type": "code",
   "execution_count": 2,
   "metadata": {
    "collapsed": false
   },
   "outputs": [],
   "source": [
    "%%cpp -d\n",
    "// This is a workaround to make sure the namespace is used inside functions\n",
    "using namespace RooFit;"
   ]
  },
  {
   "cell_type": "markdown",
   "metadata": {},
   "source": [
    "Construct two categories\n",
    " ----------------------------------------------"
   ]
  },
  {
   "cell_type": "markdown",
   "metadata": {},
   "source": [
    "Define a category with labels only"
   ]
  },
  {
   "cell_type": "code",
   "execution_count": 3,
   "metadata": {
    "collapsed": false
   },
   "outputs": [
    {
     "name": "stdout",
     "output_type": "stream",
     "text": [
      "\n",
      "\u001b[1mRooFit v3.60 -- Developed by Wouter Verkerke and David Kirkby\u001b[0m \n",
      "                Copyright (C) 2000-2013 NIKHEF, University of California & Stanford University\n",
      "                All rights reserved, please read http://roofit.sourceforge.net/license.txt\n",
      "\n",
      "RooCategory::tagCat = Lepton(idx = 0)\n",
      "\n"
     ]
    }
   ],
   "source": [
    "RooCategory tagCat(\"tagCat\", \"Tagging category\");\n",
    "tagCat.defineType(\"Lepton\");\n",
    "tagCat.defineType(\"Kaon\");\n",
    "tagCat.defineType(\"NetTagger-1\");\n",
    "tagCat.defineType(\"NetTagger-2\");\n",
    "tagCat.Print();"
   ]
  },
  {
   "cell_type": "markdown",
   "metadata": {},
   "source": [
    "Define a category with explicitly numbered states"
   ]
  },
  {
   "cell_type": "code",
   "execution_count": 4,
   "metadata": {
    "collapsed": false
   },
   "outputs": [
    {
     "name": "stdout",
     "output_type": "stream",
     "text": [
      "RooCategory::b0flav = B0(idx = -1)\n",
      "\n"
     ]
    }
   ],
   "source": [
    "RooCategory b0flav(\"b0flav\", \"B0 flavour eigenstate\");\n",
    "b0flav.defineType(\"B0\", -1);\n",
    "b0flav.defineType(\"B0bar\", 1);\n",
    "b0flav.Print();"
   ]
  },
  {
   "cell_type": "markdown",
   "metadata": {},
   "source": [
    "Construct a dummy dataset with random values of tagcat and b0flav"
   ]
  },
  {
   "cell_type": "code",
   "execution_count": 5,
   "metadata": {
    "collapsed": false
   },
   "outputs": [],
   "source": [
    "RooRealVar x(\"x\", \"x\", 0, 10);\n",
    "RooPolynomial p(\"p\", \"p\", x);\n",
    "RooDataSet *data = p.generate(RooArgSet(x, b0flav, tagCat), 10000);"
   ]
  },
  {
   "cell_type": "markdown",
   "metadata": {},
   "source": [
    "Create a cat->cat m apping category\n",
    " ---------------------------------------------------------------------"
   ]
  },
  {
   "cell_type": "markdown",
   "metadata": {},
   "source": [
    "A roomappedcategory is category->category mapping function based on string expression\n",
    " The constructor takes an input category an a default state name to which unassigned\n",
    " states are mapped"
   ]
  },
  {
   "cell_type": "code",
   "execution_count": 6,
   "metadata": {
    "collapsed": false
   },
   "outputs": [],
   "source": [
    "RooMappedCategory tcatType(\"tcatType\", \"tagCat type\", tagCat, \"Cut based\");"
   ]
  },
  {
   "cell_type": "markdown",
   "metadata": {},
   "source": [
    "Enter fully specified state mappings"
   ]
  },
  {
   "cell_type": "code",
   "execution_count": 7,
   "metadata": {
    "collapsed": false
   },
   "outputs": [],
   "source": [
    "tcatType.map(\"Lepton\", \"Cut based\");\n",
    "tcatType.map(\"Kaon\", \"Cut based\");"
   ]
  },
  {
   "cell_type": "markdown",
   "metadata": {},
   "source": [
    "Enter a wilcard expression mapping"
   ]
  },
  {
   "cell_type": "code",
   "execution_count": 8,
   "metadata": {
    "collapsed": false
   },
   "outputs": [],
   "source": [
    "tcatType.map(\"NetTagger*\", \"Neural Network\");"
   ]
  },
  {
   "cell_type": "markdown",
   "metadata": {},
   "source": [
    "Make a table of the mapped category state multiplicity in data"
   ]
  },
  {
   "cell_type": "code",
   "execution_count": 9,
   "metadata": {
    "collapsed": false
   },
   "outputs": [
    {
     "name": "stdout",
     "output_type": "stream",
     "text": [
      "\n",
      "  Table tcatType : pData\n",
      "  +----------------+------+\n",
      "  |      Cut based | 5040 |\n",
      "  | Neural Network | 4960 |\n",
      "  +----------------+------+\n",
      "\n"
     ]
    }
   ],
   "source": [
    "Roo1DTable *mtable = data->table(tcatType);\n",
    "mtable->Print(\"v\");"
   ]
  },
  {
   "cell_type": "markdown",
   "metadata": {},
   "source": [
    "Create a cat x cat product category\n",
    " ----------------------------------------------------------------------"
   ]
  },
  {
   "cell_type": "markdown",
   "metadata": {},
   "source": [
    "A super-category is 'product' of _lvalue_ categories. the state names of a super\n",
    " category is a composite of the state labels of the input categories"
   ]
  },
  {
   "cell_type": "code",
   "execution_count": 10,
   "metadata": {
    "collapsed": false
   },
   "outputs": [],
   "source": [
    "RooSuperCategory b0Xtcat(\"b0Xtcat\", \"b0flav X tagCat\", RooArgSet(b0flav, tagCat));"
   ]
  },
  {
   "cell_type": "markdown",
   "metadata": {},
   "source": [
    "Make a table of the product category state multiplicity in data"
   ]
  },
  {
   "cell_type": "code",
   "execution_count": 11,
   "metadata": {
    "collapsed": false
   },
   "outputs": [
    {
     "name": "stdout",
     "output_type": "stream",
     "text": [
      "\n",
      "  Table b0Xtcat : pData\n",
      "  +---------------------+------+\n",
      "  |         {B0;Lepton} | 1302 |\n",
      "  |      {B0bar;Lepton} | 1192 |\n",
      "  |           {B0;Kaon} | 1232 |\n",
      "  |        {B0bar;Kaon} | 1314 |\n",
      "  |    {B0;NetTagger-1} | 1242 |\n",
      "  | {B0bar;NetTagger-1} | 1208 |\n",
      "  |    {B0;NetTagger-2} | 1282 |\n",
      "  | {B0bar;NetTagger-2} | 1228 |\n",
      "  +---------------------+------+\n",
      "\n"
     ]
    }
   ],
   "source": [
    "Roo1DTable *stable = data->table(b0Xtcat);\n",
    "stable->Print(\"v\");"
   ]
  },
  {
   "cell_type": "markdown",
   "metadata": {},
   "source": [
    "Since the super category is an lvalue, assignment is explicitly possible"
   ]
  },
  {
   "cell_type": "code",
   "execution_count": 12,
   "metadata": {
    "collapsed": false
   },
   "outputs": [],
   "source": [
    "b0Xtcat.setLabel(\"{B0bar;Lepton}\");"
   ]
  },
  {
   "cell_type": "markdown",
   "metadata": {},
   "source": [
    "A multi-category is a 'product' of any category (function). the state names of a super\n",
    " category is a composite of the state labels of the input categories"
   ]
  },
  {
   "cell_type": "code",
   "execution_count": 13,
   "metadata": {
    "collapsed": false
   },
   "outputs": [],
   "source": [
    "RooMultiCategory b0Xttype(\"b0Xttype\", \"b0flav X tagType\", RooArgSet(b0flav, tcatType));"
   ]
  },
  {
   "cell_type": "markdown",
   "metadata": {},
   "source": [
    "Make a table of the product category state multiplicity in data"
   ]
  },
  {
   "cell_type": "code",
   "execution_count": 14,
   "metadata": {
    "collapsed": false
   },
   "outputs": [
    {
     "name": "stdout",
     "output_type": "stream",
     "text": [
      "\n",
      "  Table b0Xttype : pData\n",
      "  +------------------------+------+\n",
      "  |         {B0;Cut based} | 2534 |\n",
      "  |      {B0bar;Cut based} | 2506 |\n",
      "  |    {B0;Neural Network} | 2524 |\n",
      "  | {B0bar;Neural Network} | 2436 |\n",
      "  +------------------------+------+\n",
      "\n"
     ]
    }
   ],
   "source": [
    "Roo1DTable *xtable = data->table(b0Xttype);\n",
    "xtable->Print(\"v\");"
   ]
  }
 ],
 "metadata": {
  "kernelspec": {
   "display_name": "ROOT C++",
   "language": "c++",
   "name": "root"
  },
  "language_info": {
   "codemirror_mode": "text/x-c++src",
   "file_extension": ".C",
   "mimetype": " text/x-c++src",
   "name": "c++"
  }
 },
 "nbformat": 4,
 "nbformat_minor": 2
}
