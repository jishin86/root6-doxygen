{
 "cells": [
  {
   "cell_type": "markdown",
   "metadata": {},
   "source": [
    "#  T M V A Regression Application\n",
    "This macro provides a simple example on how to use the trained regression MVAs\n",
    "within an analysis module\n",
    "\n",
    " - Project   : TMVA - a Root-integrated toolkit for multivariate data analysis\n",
    " - Package   : TMVA\n",
    " - Exectuable: TMVARegressionApplication\n",
    "\n",
    "\n",
    "\n",
    "**Author:** Andreas Hoecker  \n",
    "<i><small>This notebook tutorial was automatically generated with <a href= \"https://github.com/root-project/root/blob/master/documentation/doxygen/converttonotebook.py\">ROOTBOOK-izer</a> from the macro found in the ROOT repository  on Thursday, August 29, 2019 at 03:52 AM.</small></i>"
   ]
  },
  {
   "cell_type": "code",
   "execution_count": 1,
   "metadata": {
    "collapsed": false
   },
   "outputs": [],
   "source": [
    "%%cpp -d\n",
    "#include <cstdlib>\n",
    "#include <vector>\n",
    "#include <iostream>\n",
    "#include <map>\n",
    "#include <string>\n",
    "\n",
    "#include \"TFile.h\"\n",
    "#include \"TTree.h\"\n",
    "#include \"TString.h\"\n",
    "#include \"TSystem.h\"\n",
    "#include \"TROOT.h\"\n",
    "#include \"TStopwatch.h\"\n",
    "\n",
    "#include \"TMVA/Tools.h\"\n",
    "#include \"TMVA/Reader.h\"\n",
    "\n",
    "using namespace TMVA;"
   ]
  },
  {
   "cell_type": "markdown",
   "metadata": {},
   "source": [
    " Arguments are defined. "
   ]
  },
  {
   "cell_type": "code",
   "execution_count": 2,
   "metadata": {
    "collapsed": false
   },
   "outputs": [],
   "source": [
    "TString myMethodList = \"\";"
   ]
  },
  {
   "cell_type": "markdown",
   "metadata": {},
   "source": [
    "---------------------------------------------------------------\n",
    " This loads the library"
   ]
  },
  {
   "cell_type": "code",
   "execution_count": 3,
   "metadata": {
    "collapsed": false
   },
   "outputs": [],
   "source": [
    "TMVA::Tools::Instance();"
   ]
  },
  {
   "cell_type": "markdown",
   "metadata": {},
   "source": [
    "Default mva methods to be trained + tested"
   ]
  },
  {
   "cell_type": "code",
   "execution_count": 4,
   "metadata": {
    "collapsed": false
   },
   "outputs": [],
   "source": [
    "std::map<std::string,int> Use;"
   ]
  },
  {
   "cell_type": "markdown",
   "metadata": {},
   "source": [
    "--- mutidimensional likelihood and nearest-neighbour methods"
   ]
  },
  {
   "cell_type": "code",
   "execution_count": 5,
   "metadata": {
    "collapsed": false
   },
   "outputs": [],
   "source": [
    "Use[\"PDERS\"]           = 0;\n",
    "Use[\"PDEFoam\"]         = 1; \n",
    "Use[\"KNN\"]             = 1;"
   ]
  },
  {
   "cell_type": "markdown",
   "metadata": {},
   "source": [
    " --- Linear Discriminant Analysis"
   ]
  },
  {
   "cell_type": "code",
   "execution_count": 6,
   "metadata": {
    "collapsed": false
   },
   "outputs": [],
   "source": [
    "Use[\"LD\"]\t\t        = 1;"
   ]
  },
  {
   "cell_type": "markdown",
   "metadata": {},
   "source": [
    " --- Function Discriminant analysis"
   ]
  },
  {
   "cell_type": "code",
   "execution_count": 7,
   "metadata": {
    "collapsed": false
   },
   "outputs": [],
   "source": [
    "Use[\"FDA_GA\"]          = 0;\n",
    "Use[\"FDA_MC\"]          = 0;\n",
    "Use[\"FDA_MT\"]          = 0;\n",
    "Use[\"FDA_GAMT\"]        = 0;"
   ]
  },
  {
   "cell_type": "markdown",
   "metadata": {},
   "source": [
    " --- Neural Network"
   ]
  },
  {
   "cell_type": "code",
   "execution_count": 8,
   "metadata": {
    "collapsed": false
   },
   "outputs": [],
   "source": [
    "Use[\"MLP\"] = 0;\n",
    "#ifdef R__HAS_TMVACPU\n",
    "Use[\"DNN_CPU\"] = 1;\n",
    "#else\n",
    "Use[\"DNN_CPU\"] = 0;\n",
    "#endif"
   ]
  },
  {
   "cell_type": "markdown",
   "metadata": {},
   "source": [
    " --- Support Vector Machine "
   ]
  },
  {
   "cell_type": "code",
   "execution_count": 9,
   "metadata": {
    "collapsed": false
   },
   "outputs": [],
   "source": [
    "Use[\"SVM\"]             = 0;"
   ]
  },
  {
   "cell_type": "markdown",
   "metadata": {},
   "source": [
    " --- Boosted Decision Trees"
   ]
  },
  {
   "cell_type": "code",
   "execution_count": 10,
   "metadata": {
    "collapsed": false
   },
   "outputs": [],
   "source": [
    "Use[\"BDT\"]             = 0;\n",
    "Use[\"BDTG\"]            = 1;"
   ]
  },
  {
   "cell_type": "markdown",
   "metadata": {},
   "source": [
    "---------------------------------------------------------------"
   ]
  },
  {
   "cell_type": "code",
   "execution_count": 11,
   "metadata": {
    "collapsed": false
   },
   "outputs": [
    {
     "name": "stdout",
     "output_type": "stream",
     "text": [
      "\n",
      "==> Start TMVARegressionApplication\n"
     ]
    }
   ],
   "source": [
    "std::cout << std::endl;\n",
    "std::cout << \"==> Start TMVARegressionApplication\" << std::endl;"
   ]
  },
  {
   "cell_type": "markdown",
   "metadata": {},
   "source": [
    "Select methods (don't look at this code - not of interest)"
   ]
  },
  {
   "cell_type": "code",
   "execution_count": 12,
   "metadata": {
    "collapsed": false
   },
   "outputs": [],
   "source": [
    "if (myMethodList != \"\") {\n",
    "   for (std::map<std::string,int>::iterator it = Use.begin(); it != Use.end(); it++) it->second = 0;\n",
    "\n",
    "   std::vector<TString> mlist = gTools().SplitString( myMethodList, ',' );\n",
    "   for (UInt_t i=0; i<mlist.size(); i++) {\n",
    "      std::string regMethod(mlist[i]);\n",
    "\n",
    "      if (Use.find(regMethod) == Use.end()) {\n",
    "         std::cout << \"Method \\\"\" << regMethod << \"\\\" not known in TMVA under this name. Choose among the following:\" << std::endl;\n",
    "         for (std::map<std::string,int>::iterator it = Use.begin(); it != Use.end(); it++) std::cout << it->first << \" \";\n",
    "         std::cout << std::endl;\n",
    "         return;\n",
    "      }\n",
    "      Use[regMethod] = 1;\n",
    "   }\n",
    "}"
   ]
  },
  {
   "cell_type": "markdown",
   "metadata": {},
   "source": [
    "--------------------------------------------------------------------------------------------------"
   ]
  },
  {
   "cell_type": "markdown",
   "metadata": {},
   "source": [
    "--- create the reader object"
   ]
  },
  {
   "cell_type": "code",
   "execution_count": 13,
   "metadata": {
    "collapsed": false
   },
   "outputs": [],
   "source": [
    "TMVA::Reader *reader = new TMVA::Reader( \"!Color:!Silent\" );    "
   ]
  },
  {
   "cell_type": "markdown",
   "metadata": {},
   "source": [
    "Create a set of variables and declare them to the reader\n",
    " - the variable names MUST corresponds in name and type to those given in the weight file(s) used"
   ]
  },
  {
   "cell_type": "code",
   "execution_count": 14,
   "metadata": {
    "collapsed": false
   },
   "outputs": [],
   "source": [
    "Float_t var1, var2;\n",
    "reader->AddVariable( \"var1\", &var1 );\n",
    "reader->AddVariable( \"var2\", &var2 );"
   ]
  },
  {
   "cell_type": "markdown",
   "metadata": {},
   "source": [
    "Spectator variables declared in the training have to be added to the reader, too"
   ]
  },
  {
   "cell_type": "code",
   "execution_count": 15,
   "metadata": {
    "collapsed": false
   },
   "outputs": [],
   "source": [
    "Float_t spec1,spec2;\n",
    "reader->AddSpectator( \"spec1:=var1*2\",  &spec1 );\n",
    "reader->AddSpectator( \"spec2:=var1*3\",  &spec2 );"
   ]
  },
  {
   "cell_type": "markdown",
   "metadata": {},
   "source": [
    "--- book the mva methods"
   ]
  },
  {
   "cell_type": "code",
   "execution_count": 16,
   "metadata": {
    "collapsed": false
   },
   "outputs": [],
   "source": [
    "TString dir    = \"dataset/weights/\";\n",
    "TString prefix = \"TMVARegression\";"
   ]
  },
  {
   "cell_type": "markdown",
   "metadata": {},
   "source": [
    "Book method(s)"
   ]
  },
  {
   "cell_type": "code",
   "execution_count": 17,
   "metadata": {
    "collapsed": false
   },
   "outputs": [
    {
     "name": "stdout",
     "output_type": "stream",
     "text": [
      "                         : Booking \"BDTG method\" of type \"BDT\" from dataset/weights/TMVARegression_BDTG.weights.xml.\n",
      "                         : Reading weight file: dataset/weights/TMVARegression_BDTG.weights.xml\n",
      "<HEADER> DataSetInfo              : [Default] : Added class \"Regression\"\n",
      "                         : Booked classifier \"BDTG\" of type: \"BDT\"\n",
      "                         : Booking \"DNN_CPU method\" of type \"DNN\" from dataset/weights/TMVARegression_DNN_CPU.weights.xml.\n",
      "                         : Reading weight file: dataset/weights/TMVARegression_DNN_CPU.weights.xml\n",
      "                         : Booked classifier \"DNN_CPU\" of type: \"DNN\"\n",
      "                         : Booking \"KNN method\" of type \"KNN\" from dataset/weights/TMVARegression_KNN.weights.xml.\n",
      "                         : Reading weight file: dataset/weights/TMVARegression_KNN.weights.xml\n",
      "                         : Creating kd-tree with 1000 events\n",
      "                         : Computing scale factor for 1d distributions: (ifrac, bottom, top) = (80%, 10%, 90%)\n",
      "<HEADER> ModulekNN                : Optimizing tree for 2 variables with 1000 values\n",
      "                         : <Fill> Class 1 has     1000 events\n",
      "                         : Booked classifier \"KNN\" of type: \"KNN\"\n",
      "                         : Booking \"LD method\" of type \"LD\" from dataset/weights/TMVARegression_LD.weights.xml.\n",
      "                         : Reading weight file: dataset/weights/TMVARegression_LD.weights.xml\n",
      "                         : Booked classifier \"LD\" of type: \"LD\"\n",
      "                         : Booking \"PDEFoam method\" of type \"PDEFoam\" from dataset/weights/TMVARegression_PDEFoam.weights.xml.\n",
      "                         : Reading weight file: dataset/weights/TMVARegression_PDEFoam.weights.xml\n",
      "                         : Read foams from file: dataset/weights/TMVARegression_PDEFoam.weights_foams.root\n",
      "                         : Booked classifier \"PDEFoam\" of type: \"PDEFoam\"\n"
     ]
    }
   ],
   "source": [
    "for (std::map<std::string,int>::iterator it = Use.begin(); it != Use.end(); it++) {\n",
    "   if (it->second) {\n",
    "      TString methodName = it->first + \" method\";\n",
    "      TString weightfile = dir + prefix + \"_\" + TString(it->first) + \".weights.xml\";\n",
    "      reader->BookMVA( methodName, weightfile ); \n",
    "   }\n",
    "}"
   ]
  },
  {
   "cell_type": "markdown",
   "metadata": {},
   "source": [
    "Book output histograms"
   ]
  },
  {
   "cell_type": "code",
   "execution_count": 18,
   "metadata": {
    "collapsed": false
   },
   "outputs": [],
   "source": [
    "TH1* hists[100];\n",
    "Int_t nhists = -1;\n",
    "for (std::map<std::string,int>::iterator it = Use.begin(); it != Use.end(); it++) {\n",
    "   TH1* h = new TH1F( it->first.c_str(), TString(it->first) + \" method\", 100, -100, 600 );\n",
    "   if (it->second) hists[++nhists] = h;\n",
    "}\n",
    "nhists++;"
   ]
  },
  {
   "cell_type": "markdown",
   "metadata": {},
   "source": [
    "Prepare input tree (this must be replaced by your data source)\n",
    " in this example, there is a toy tree with signal and one with background events\n",
    " we'll later on use only the \"signal\" events for the test in this example."
   ]
  },
  {
   "cell_type": "code",
   "execution_count": 19,
   "metadata": {
    "collapsed": false
   },
   "outputs": [
    {
     "name": "stdout",
     "output_type": "stream",
     "text": [
      "--- TMVARegressionApp        : Using input file: ./files/tmva_reg_example.root\n"
     ]
    },
    {
     "name": "stderr",
     "output_type": "stream",
     "text": [
      "Info in <TFile::OpenFromCache>: using local cache copy of http://root.cern.ch/files/tmva_reg_example.root [./files/tmva_reg_example.root]\n"
     ]
    }
   ],
   "source": [
    "TFile *input(0);\n",
    "TString fname = \"./tmva_reg_example.root\";\n",
    "if (!gSystem->AccessPathName( fname )) {\n",
    "   input = TFile::Open( fname ); // check if file in local directory exists\n",
    "}\n",
    "else {\n",
    "   TFile::SetCacheFileDir(\".\");\n",
    "   input = TFile::Open(\"http://root.cern.ch/files/tmva_reg_example.root\", \"CACHEREAD\"); // if not: download from ROOT server\n",
    "}\n",
    "if (!input) {\n",
    "   std::cout << \"ERROR: could not open data file\" << std::endl;\n",
    "   exit(1);\n",
    "}\n",
    "std::cout << \"--- TMVARegressionApp        : Using input file: \" << input->GetName() << std::endl;"
   ]
  },
  {
   "cell_type": "markdown",
   "metadata": {},
   "source": [
    "--- event loop"
   ]
  },
  {
   "cell_type": "markdown",
   "metadata": {},
   "source": [
    "Prepare the tree\n",
    " - here the variable names have to corresponds to your tree\n",
    " - you can use the same variables as above which is slightly faster,\n",
    "   but of course you can use different ones and copy the values inside the event loop"
   ]
  },
  {
   "cell_type": "code",
   "execution_count": 20,
   "metadata": {
    "collapsed": false
   },
   "outputs": [
    {
     "name": "stdout",
     "output_type": "stream",
     "text": [
      "--- Select signal sample\n",
      "--- Processing: 10000 events\n",
      "--- ... Processing event: 0\n",
      "--- ... Processing event: 1000\n",
      "--- ... Processing event: 2000\n",
      "--- ... Processing event: 3000\n",
      "--- ... Processing event: 4000\n",
      "--- ... Processing event: 5000\n",
      "--- ... Processing event: 6000\n",
      "--- ... Processing event: 7000\n",
      "--- ... Processing event: 8000\n",
      "--- ... Processing event: 9000\n",
      "--- End of event loop: Real time 0:00:02, CP time 2.640\n"
     ]
    }
   ],
   "source": [
    "TTree* theTree = (TTree*)input->Get(\"TreeR\");\n",
    "std::cout << \"--- Select signal sample\" << std::endl;\n",
    "theTree->SetBranchAddress( \"var1\", &var1 );\n",
    "theTree->SetBranchAddress( \"var2\", &var2 );\n",
    "\n",
    "std::cout << \"--- Processing: \" << theTree->GetEntries() << \" events\" << std::endl;\n",
    "TStopwatch sw;\n",
    "sw.Start();\n",
    "for (Long64_t ievt=0; ievt<theTree->GetEntries();ievt++) {\n",
    "\n",
    "   if (ievt%1000 == 0) {\n",
    "      std::cout << \"--- ... Processing event: \" << ievt << std::endl;\n",
    "   }\n",
    "\n",
    "   theTree->GetEntry(ievt);\n",
    "\n",
    "   // Retrieve the MVA target values (regression outputs) and fill into histograms\n",
    "   // NOTE: EvaluateRegression(..) returns a vector for multi-target regression\n",
    "\n",
    "   for (Int_t ih=0; ih<nhists; ih++) {\n",
    "      TString title = hists[ih]->GetTitle();\n",
    "      Float_t val = (reader->EvaluateRegression( title ))[0];\n",
    "      hists[ih]->Fill( val );    \n",
    "   }\n",
    "}\n",
    "sw.Stop();\n",
    "std::cout << \"--- End of event loop: \"; sw.Print();"
   ]
  },
  {
   "cell_type": "markdown",
   "metadata": {},
   "source": [
    "--- write histograms"
   ]
  },
  {
   "cell_type": "code",
   "execution_count": 21,
   "metadata": {
    "collapsed": false
   },
   "outputs": [
    {
     "name": "stdout",
     "output_type": "stream",
     "text": [
      "--- Created root file: \"TMVARegApp.root\" containing the MVA output histograms\n",
      "==> TMVARegressionApplication is done!\n",
      "\n"
     ]
    }
   ],
   "source": [
    "TFile *target  = new TFile( \"TMVARegApp.root\",\"RECREATE\" );\n",
    "for (Int_t ih=0; ih<nhists; ih++) hists[ih]->Write();\n",
    "target->Close();\n",
    "\n",
    "std::cout << \"--- Created root file: \\\"\" << target->GetName() \n",
    "          << \"\\\" containing the MVA output histograms\" << std::endl;\n",
    "  \n",
    "delete reader;\n",
    " \n",
    "std::cout << \"==> TMVARegressionApplication is done!\" << std::endl << std::endl;"
   ]
  }
 ],
 "metadata": {
  "kernelspec": {
   "display_name": "ROOT C++",
   "language": "c++",
   "name": "root"
  },
  "language_info": {
   "codemirror_mode": "text/x-c++src",
   "file_extension": ".C",
   "mimetype": " text/x-c++src",
   "name": "c++"
  }
 },
 "nbformat": 4,
 "nbformat_minor": 2
}
