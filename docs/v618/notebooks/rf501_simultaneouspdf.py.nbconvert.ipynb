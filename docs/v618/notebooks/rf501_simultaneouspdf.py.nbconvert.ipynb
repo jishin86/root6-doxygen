{
 "cells": [
  {
   "cell_type": "markdown",
   "metadata": {},
   "source": [
    "# Rf 5 0 1_Simultaneouspdf\n",
    "\n",
    "Organization and simultaneous fits: using simultaneous p.d.f.s to describe simultaneous fits to multiple datasets\n",
    "\n",
    "\n",
    "\n",
    "\n",
    "**Author:** Clemens Lange, Wouter Verkerke (C++ version)  \n",
    "<i><small>This notebook tutorial was automatically generated with <a href= \"https://github.com/root-project/root/blob/master/documentation/doxygen/converttonotebook.py\">ROOTBOOK-izer</a> from the macro found in the ROOT repository  on Thursday, August 29, 2019 at 02:54 AM.</small></i>"
   ]
  },
  {
   "cell_type": "code",
   "execution_count": 1,
   "metadata": {
    "collapsed": false
   },
   "outputs": [
    {
     "name": "stdout",
     "output_type": "stream",
     "text": [
      "Welcome to JupyROOT 6.18/03\n"
     ]
    }
   ],
   "source": [
    "import ROOT"
   ]
  },
  {
   "cell_type": "markdown",
   "metadata": {},
   "source": [
    "Create model for physics sample\n",
    "-------------------------------------------------------------"
   ]
  },
  {
   "cell_type": "markdown",
   "metadata": {},
   "source": [
    "Create observables"
   ]
  },
  {
   "cell_type": "code",
   "execution_count": 2,
   "metadata": {
    "collapsed": false
   },
   "outputs": [
    {
     "name": "stdout",
     "output_type": "stream",
     "text": [
      "\n",
      "\u001b[1mRooFit v3.60 -- Developed by Wouter Verkerke and David Kirkby\u001b[0m \n",
      "                Copyright (C) 2000-2013 NIKHEF, University of California & Stanford University\n",
      "                All rights reserved, please read http://roofit.sourceforge.net/license.txt\n",
      "\n"
     ]
    }
   ],
   "source": [
    "x = ROOT.RooRealVar(\"x\", \"x\", -8, 8)"
   ]
  },
  {
   "cell_type": "markdown",
   "metadata": {},
   "source": [
    "Construct signal pdf"
   ]
  },
  {
   "cell_type": "code",
   "execution_count": 3,
   "metadata": {
    "collapsed": false
   },
   "outputs": [],
   "source": [
    "mean = ROOT.RooRealVar(\"mean\", \"mean\", 0, -8, 8)\n",
    "sigma = ROOT.RooRealVar(\"sigma\", \"sigma\", 0.3, 0.1, 10)\n",
    "gx = ROOT.RooGaussian(\"gx\", \"gx\", x, mean, sigma)"
   ]
  },
  {
   "cell_type": "markdown",
   "metadata": {},
   "source": [
    "Construct background pdf"
   ]
  },
  {
   "cell_type": "code",
   "execution_count": 4,
   "metadata": {
    "collapsed": false
   },
   "outputs": [],
   "source": [
    "a0 = ROOT.RooRealVar(\"a0\", \"a0\", -0.1, -1, 1)\n",
    "a1 = ROOT.RooRealVar(\"a1\", \"a1\", 0.004, -1, 1)\n",
    "px = ROOT.RooChebychev(\"px\", \"px\", x, ROOT.RooArgList(a0, a1))"
   ]
  },
  {
   "cell_type": "markdown",
   "metadata": {},
   "source": [
    "Construct composite pdf"
   ]
  },
  {
   "cell_type": "code",
   "execution_count": 5,
   "metadata": {
    "collapsed": false
   },
   "outputs": [],
   "source": [
    "f = ROOT.RooRealVar(\"f\", \"f\", 0.2, 0., 1.)\n",
    "model = ROOT.RooAddPdf(\n",
    "    \"model\", \"model\", ROOT.RooArgList(gx, px), ROOT.RooArgList(f))"
   ]
  },
  {
   "cell_type": "markdown",
   "metadata": {},
   "source": [
    "Create model for control sample\n",
    "--------------------------------------------------------------"
   ]
  },
  {
   "cell_type": "markdown",
   "metadata": {},
   "source": [
    "Construct signal pdf.\n",
    "NOTE that sigma is shared with the signal sample model"
   ]
  },
  {
   "cell_type": "code",
   "execution_count": 6,
   "metadata": {
    "collapsed": false
   },
   "outputs": [],
   "source": [
    "mean_ctl = ROOT.RooRealVar(\"mean_ctl\", \"mean_ctl\", -3, -8, 8)\n",
    "gx_ctl = ROOT.RooGaussian(\"gx_ctl\", \"gx_ctl\", x, mean_ctl, sigma)"
   ]
  },
  {
   "cell_type": "markdown",
   "metadata": {},
   "source": [
    "Construct the background pdf"
   ]
  },
  {
   "cell_type": "code",
   "execution_count": 7,
   "metadata": {
    "collapsed": false
   },
   "outputs": [],
   "source": [
    "a0_ctl = ROOT.RooRealVar(\"a0_ctl\", \"a0_ctl\", -0.1, -1, 1)\n",
    "a1_ctl = ROOT.RooRealVar(\"a1_ctl\", \"a1_ctl\", 0.5, -0.1, 1)\n",
    "px_ctl = ROOT.RooChebychev(\n",
    "    \"px_ctl\", \"px_ctl\", x, ROOT.RooArgList(a0_ctl, a1_ctl))"
   ]
  },
  {
   "cell_type": "markdown",
   "metadata": {},
   "source": [
    "Construct the composite model"
   ]
  },
  {
   "cell_type": "code",
   "execution_count": 8,
   "metadata": {
    "collapsed": false
   },
   "outputs": [],
   "source": [
    "f_ctl = ROOT.RooRealVar(\"f_ctl\", \"f_ctl\", 0.5, 0., 1.)\n",
    "model_ctl = ROOT.RooAddPdf(\n",
    "    \"model_ctl\",\n",
    "    \"model_ctl\",\n",
    "    ROOT.RooArgList(\n",
    "        gx_ctl,\n",
    "        px_ctl),\n",
    "    ROOT.RooArgList(f_ctl))"
   ]
  },
  {
   "cell_type": "markdown",
   "metadata": {},
   "source": [
    "Generate events for both samples\n",
    "---------------------------------------------------------------"
   ]
  },
  {
   "cell_type": "markdown",
   "metadata": {},
   "source": [
    "Generate 1000 events in x and y from model"
   ]
  },
  {
   "cell_type": "code",
   "execution_count": 9,
   "metadata": {
    "collapsed": false
   },
   "outputs": [],
   "source": [
    "data = model.generate(ROOT.RooArgSet(x), 100)\n",
    "data_ctl = model_ctl.generate(ROOT.RooArgSet(x), 2000)"
   ]
  },
  {
   "cell_type": "markdown",
   "metadata": {},
   "source": [
    "Create index category and join samples\n",
    "---------------------------------------------------------------------------"
   ]
  },
  {
   "cell_type": "markdown",
   "metadata": {},
   "source": [
    "Define category to distinguish physics and control samples events"
   ]
  },
  {
   "cell_type": "code",
   "execution_count": 10,
   "metadata": {
    "collapsed": false
   },
   "outputs": [
    {
     "data": {
      "text/plain": [
       "False"
      ]
     },
     "execution_count": 10,
     "metadata": {},
     "output_type": "execute_result"
    }
   ],
   "source": [
    "sample = ROOT.RooCategory(\"sample\", \"sample\")\n",
    "sample.defineType(\"physics\")\n",
    "sample.defineType(\"control\")"
   ]
  },
  {
   "cell_type": "markdown",
   "metadata": {},
   "source": [
    "Construct combined dataset in (x,sample)"
   ]
  },
  {
   "cell_type": "code",
   "execution_count": 11,
   "metadata": {
    "collapsed": false
   },
   "outputs": [],
   "source": [
    "combData = ROOT.RooDataSet(\n",
    "    \"combData\",\n",
    "    \"combined data\",\n",
    "    ROOT.RooArgSet(x),\n",
    "    ROOT.RooFit.Index(sample),\n",
    "    ROOT.RooFit.Import(\n",
    "        \"physics\",\n",
    "        data),\n",
    "    ROOT.RooFit.Import(\n",
    "        \"control\",\n",
    "        data_ctl))"
   ]
  },
  {
   "cell_type": "markdown",
   "metadata": {},
   "source": [
    "Construct a simultaneous pdf in (x, sample)\n",
    "-----------------------------------------------------------------------------------"
   ]
  },
  {
   "cell_type": "markdown",
   "metadata": {},
   "source": [
    "Construct a simultaneous pdf using category sample as index"
   ]
  },
  {
   "cell_type": "code",
   "execution_count": 12,
   "metadata": {
    "collapsed": false
   },
   "outputs": [],
   "source": [
    "simPdf = ROOT.RooSimultaneous(\"simPdf\", \"simultaneous pdf\", sample)"
   ]
  },
  {
   "cell_type": "markdown",
   "metadata": {},
   "source": [
    "Associate model with the physics state and model_ctl with the control\n",
    "state"
   ]
  },
  {
   "cell_type": "code",
   "execution_count": 13,
   "metadata": {
    "collapsed": false
   },
   "outputs": [
    {
     "data": {
      "text/plain": [
       "False"
      ]
     },
     "execution_count": 13,
     "metadata": {},
     "output_type": "execute_result"
    }
   ],
   "source": [
    "simPdf.addPdf(model, \"physics\")\n",
    "simPdf.addPdf(model_ctl, \"control\")"
   ]
  },
  {
   "cell_type": "markdown",
   "metadata": {},
   "source": [
    "Perform a simultaneous fit\n",
    "---------------------------------------------------"
   ]
  },
  {
   "cell_type": "markdown",
   "metadata": {},
   "source": [
    "Perform simultaneous fit of model to data and model_ctl to data_ctl"
   ]
  },
  {
   "cell_type": "code",
   "execution_count": 14,
   "metadata": {
    "collapsed": false
   },
   "outputs": [
    {
     "data": {
      "text/plain": [
       "<ROOT.RooFitResult object at 0x(nil)>"
      ]
     },
     "execution_count": 14,
     "metadata": {},
     "output_type": "execute_result"
    },
    {
     "name": "stdout",
     "output_type": "stream",
     "text": [
      "[#1] INFO:Minization -- RooMinimizer::optimizeConst: activating const optimization\n",
      "RooAbsTestStatistic::initSimMode: creating slave calculator #0 for state physics (100 dataset entries)\n",
      "RooAbsTestStatistic::initSimMode: creating slave calculator #1 for state control (2000 dataset entries)\n",
      "[#1] INFO:Fitting -- RooAbsTestStatistic::initSimMode: created 2 slave calculators.\n",
      "[#1] INFO:Minization --  The following expressions will be evaluated in cache-and-track mode: (gx,px)\n",
      "[#1] INFO:Minization --  The following expressions will be evaluated in cache-and-track mode: (gx_ctl,px_ctl)\n",
      " **********\n",
      " **    1 **SET PRINT           1\n",
      " **********\n",
      " **********\n",
      " **    2 **SET NOGRAD\n",
      " **********\n",
      " PARAMETER DEFINITIONS:\n",
      "    NO.   NAME         VALUE      STEP SIZE      LIMITS\n",
      "     1 a0          -1.00000e-01  2.00000e-01   -1.00000e+00  1.00000e+00\n",
      "     2 a0_ctl      -1.00000e-01  2.00000e-01   -1.00000e+00  1.00000e+00\n",
      "     3 a1           4.00000e-03  2.00000e-01   -1.00000e+00  1.00000e+00\n",
      "     4 a1_ctl       5.00000e-01  1.10000e-01   -1.00000e-01  1.00000e+00\n",
      "     5 f            2.00000e-01  1.00000e-01    0.00000e+00  1.00000e+00\n",
      "     6 f_ctl        5.00000e-01  1.00000e-01    0.00000e+00  1.00000e+00\n",
      "     7 mean         0.00000e+00  1.60000e+00   -8.00000e+00  8.00000e+00\n",
      "     8 mean_ctl    -3.00000e+00  1.60000e+00   -8.00000e+00  8.00000e+00\n",
      "     9 sigma        3.00000e-01  1.00000e-01    1.00000e-01  1.00000e+01\n",
      " **********\n",
      " **    3 **SET ERR         0.5\n",
      " **********\n",
      " **********\n",
      " **    4 **SET PRINT           1\n",
      " **********\n",
      " **********\n",
      " **    5 **SET STR           1\n",
      " **********\n",
      " NOW USING STRATEGY  1: TRY TO BALANCE SPEED AGAINST RELIABILITY\n",
      " **********\n",
      " **    6 **MIGRAD        4500           1\n",
      " **********\n",
      " FIRST CALL TO USER FUNCTION AT NEW START POINT, WITH IFLAG=4.\n",
      " START MIGRAD MINIMIZATION.  STRATEGY  1.  CONVERGENCE WHEN EDM .LT. 1.00e-03\n",
      " FCN=5785.6 FROM MIGRAD    STATUS=INITIATE       59 CALLS          60 TOTAL\n",
      "                     EDM= unknown      STRATEGY= 1      NO ERROR MATRIX       \n",
      "  EXT PARAMETER               CURRENT GUESS       STEP         FIRST   \n",
      "  NO.   NAME      VALUE            ERROR          SIZE      DERIVATIVE \n",
      "   1  a0          -1.00000e-01   2.00000e-01   0.00000e+00  -1.10268e+01\n",
      "   2  a0_ctl      -1.00000e-01   2.00000e-01   0.00000e+00  -3.03978e+01\n",
      "   3  a1           4.00000e-03   2.00000e-01   0.00000e+00  -4.60041e+00\n",
      "   4  a1_ctl       5.00000e-01   1.10000e-01   0.00000e+00  -1.47265e+01\n",
      "   5  f            2.00000e-01   1.00000e-01   0.00000e+00   2.26641e+01\n",
      "   6  f_ctl        5.00000e-01   1.00000e-01   0.00000e+00   1.20766e+01\n",
      "   7  mean        -3.77080e-01   1.60000e+00  -4.71524e-02   2.02184e+00\n",
      "   8  mean_ctl    -3.00000e+00   1.60000e+00   0.00000e+00   1.67852e+03\n",
      "   9  sigma        3.00000e-01   1.00000e-01   0.00000e+00  -1.23150e+02\n",
      "                               ERR DEF= 0.5\n",
      " MIGRAD MINIMIZATION HAS CONVERGED.\n",
      " MIGRAD WILL VERIFY CONVERGENCE AND ERROR MATRIX.\n",
      " COVARIANCE MATRIX CALCULATED SUCCESSFULLY\n",
      " FCN=5773.95 FROM MIGRAD    STATUS=CONVERGED     215 CALLS         216 TOTAL\n",
      "                     EDM=9.09231e-05    STRATEGY= 1      ERROR MATRIX ACCURATE \n",
      "  EXT PARAMETER                                   STEP         FIRST   \n",
      "  NO.   NAME      VALUE            ERROR          SIZE      DERIVATIVE \n",
      "   1  a0           2.43686e-01   1.75097e-01   9.50931e-03  -7.77735e-03\n",
      "   2  a0_ctl      -4.39571e-03   5.28744e-02   2.72797e-03   6.60274e-02\n",
      "   3  a1           5.26925e-02   1.77733e-01   9.06411e-03   2.03859e-03\n",
      "   4  a1_ctl       5.44744e-01   3.69884e-02   3.54360e-03   8.08507e-02\n",
      "   5  f            6.83909e-02   3.85769e-02   7.72754e-03   1.99892e-02\n",
      "   6  f_ctl        5.02785e-01   1.23886e-02   1.26625e-03  -9.15907e-02\n",
      "   7  mean        -4.64804e-01   2.34303e-01   1.53296e-03   8.01574e-02\n",
      "   8  mean_ctl    -3.02635e+00   1.07683e-02   7.60384e-05  -2.92641e-01\n",
      "   9  sigma        3.07857e-01   8.77009e-03   3.15225e-04   6.75178e-01\n",
      "                               ERR DEF= 0.5\n",
      " EXTERNAL ERROR MATRIX.    NDIM=  25    NPAR=  9    ERR DEF=0.5\n",
      "  3.100e-02 -8.236e-08  1.691e-03 -4.475e-08  2.119e-04 -2.634e-08 -8.743e-04  9.753e-09 -1.074e-07 \n",
      " -8.236e-08  2.798e-03  1.939e-05  1.721e-04  9.709e-06  8.897e-05  9.896e-05 -2.017e-05  5.899e-05 \n",
      "  1.691e-03  1.939e-05  3.193e-02  1.054e-05  1.763e-03  6.202e-06  2.141e-03 -2.297e-06  2.529e-05 \n",
      " -4.475e-08  1.721e-04  1.054e-05  1.370e-03  5.276e-06  5.210e-05  5.377e-05  4.385e-06  3.206e-05 \n",
      "  2.119e-04  9.709e-06  1.763e-03  5.276e-06  1.500e-03  3.105e-06  1.103e-03 -1.150e-06  1.266e-05 \n",
      " -2.634e-08  8.897e-05  6.202e-06  5.210e-05  3.105e-06  1.535e-04  3.165e-05 -4.850e-06  1.887e-05 \n",
      " -8.743e-04  9.896e-05  2.141e-03  5.377e-05  1.103e-03  3.165e-05  5.491e-02 -1.172e-05  1.290e-04 \n",
      "  9.753e-09 -2.017e-05 -2.297e-06  4.385e-06 -1.150e-06 -4.850e-06 -1.172e-05  1.160e-04 -6.986e-06 \n",
      " -1.074e-07  5.899e-05  2.529e-05  3.206e-05  1.266e-05  1.887e-05  1.290e-04 -6.986e-06  7.692e-05 \n",
      " PARAMETER  CORRELATION COEFFICIENTS  \n",
      "       NO.  GLOBAL      1      2      3      4      5      6      7      8      9\n",
      "        1  0.06243   1.000 -0.000  0.054 -0.000  0.031 -0.000 -0.021  0.000 -0.000\n",
      "        2  0.18516  -0.000  1.000  0.002  0.088  0.005  0.136  0.008 -0.035  0.127\n",
      "        3  0.25986   0.054  0.002  1.000  0.002  0.255  0.003  0.051 -0.001  0.016\n",
      "        4  0.15513  -0.000  0.088  0.002  1.000  0.004  0.114  0.006  0.011  0.099\n",
      "        5  0.27900   0.031  0.005  0.255  0.004  1.000  0.006  0.122 -0.003  0.037\n",
      "        6  0.22716  -0.000  0.136  0.003  0.114  0.006  1.000  0.011 -0.036  0.174\n",
      "        7  0.13877  -0.021  0.008  0.051  0.006  0.122  0.011  1.000 -0.005  0.063\n",
      "        8  0.08428   0.000 -0.035 -0.001  0.011 -0.003 -0.036 -0.005  1.000 -0.074\n",
      "        9  0.23447  -0.000  0.127  0.016  0.099  0.037  0.174  0.063 -0.074  1.000\n",
      " **********\n",
      " **    7 **SET ERR         0.5\n",
      " **********\n",
      " **********\n",
      " **    8 **SET PRINT           1\n",
      " **********\n",
      " **********\n",
      " **    9 **HESSE        4500\n",
      " **********\n",
      " COVARIANCE MATRIX CALCULATED SUCCESSFULLY\n",
      " FCN=5773.95 FROM HESSE     STATUS=OK             73 CALLS         289 TOTAL\n",
      "                     EDM=9.09933e-05    STRATEGY= 1      ERROR MATRIX ACCURATE \n",
      "  EXT PARAMETER                                INTERNAL      INTERNAL  \n",
      "  NO.   NAME      VALUE            ERROR       STEP SIZE       VALUE   \n",
      "   1  a0           2.43686e-01   1.75089e-01   1.90186e-03   2.46164e-01\n",
      "   2  a0_ctl      -4.39571e-03   5.28750e-02   5.45594e-04  -4.39572e-03\n",
      "   3  a1           5.26925e-02   1.77738e-01   3.62564e-04   5.27169e-02\n",
      "   4  a1_ctl       5.44744e-01   3.69886e-02   7.08720e-04   1.73125e-01\n",
      "   5  f            6.83909e-02   3.86045e-02   1.54551e-03  -1.04161e+00\n",
      "   6  f_ctl        5.02785e-01   1.23892e-02   2.53250e-04   5.57046e-03\n",
      "   7  mean        -4.64804e-01   2.34476e-01   6.13182e-05  -5.81332e-02\n",
      "   8  mean_ctl    -3.02635e+00   1.07691e-02   1.52077e-05  -3.87952e-01\n",
      "   9  sigma        3.07857e-01   8.77063e-03   6.30449e-05  -1.27998e+00\n",
      "                               ERR DEF= 0.5\n",
      " EXTERNAL ERROR MATRIX.    NDIM=  25    NPAR=  9    ERR DEF=0.5\n",
      "  3.100e-02 -3.186e-08  1.673e-03 -1.730e-08  2.112e-04 -1.019e-08 -8.472e-04  3.826e-09 -4.152e-08 \n",
      " -3.186e-08  2.798e-03  1.944e-05  1.721e-04  9.725e-06  8.903e-05  9.780e-05 -2.018e-05  5.905e-05 \n",
      "  1.673e-03  1.944e-05  3.193e-02  1.056e-05  1.765e-03  6.219e-06  2.280e-03 -2.333e-06  2.532e-05 \n",
      " -1.730e-08  1.721e-04  1.056e-05  1.370e-03  5.282e-06  5.212e-05  5.312e-05  4.372e-06  3.207e-05 \n",
      "  2.112e-04  9.725e-06  1.765e-03  5.282e-06  1.502e-03  3.111e-06  1.167e-03 -1.167e-06  1.267e-05 \n",
      " -1.019e-08  8.903e-05  6.219e-06  5.212e-05  3.111e-06  1.535e-04  3.129e-05 -4.856e-06  1.889e-05 \n",
      " -8.472e-04  9.780e-05  2.280e-03  5.312e-05  1.167e-03  3.129e-05  5.499e-02 -1.174e-05  1.274e-04 \n",
      "  3.826e-09 -2.018e-05 -2.333e-06  4.372e-06 -1.167e-06 -4.856e-06 -1.174e-05  1.160e-04 -7.086e-06 \n",
      " -4.152e-08  5.905e-05  2.532e-05  3.207e-05  1.267e-05  1.889e-05  1.274e-04 -7.086e-06  7.692e-05 \n",
      " PARAMETER  CORRELATION COEFFICIENTS  \n",
      "       NO.  GLOBAL      1      2      3      4      5      6      7      8      9\n",
      "        1  0.06177   1.000 -0.000  0.053 -0.000  0.031 -0.000 -0.021  0.000 -0.000\n",
      "        2  0.18523  -0.000  1.000  0.002  0.088  0.005  0.136  0.008 -0.035  0.127\n",
      "        3  0.25994   0.053  0.002  1.000  0.002  0.255  0.003  0.054 -0.001  0.016\n",
      "        4  0.15515  -0.000  0.088  0.002  1.000  0.004  0.114  0.006  0.011  0.099\n",
      "        5  0.28144   0.031  0.005  0.255  0.004  1.000  0.006  0.128 -0.003  0.037\n",
      "        6  0.22733  -0.000  0.136  0.003  0.114  0.006  1.000  0.011 -0.036  0.174\n",
      "        7  0.14455  -0.021  0.008  0.054  0.006  0.128  0.011  1.000 -0.005  0.062\n",
      "        8  0.08514   0.000 -0.035 -0.001  0.011 -0.003 -0.036 -0.005  1.000 -0.075\n",
      "        9  0.23472  -0.000  0.127  0.016  0.099  0.037  0.174  0.062 -0.075  1.000\n",
      "[#1] INFO:Minization -- RooMinimizer::optimizeConst: deactivating const optimization\n"
     ]
    }
   ],
   "source": [
    "simPdf.fitTo(combData)"
   ]
  },
  {
   "cell_type": "markdown",
   "metadata": {},
   "source": [
    "Plot model slices on data slices\n",
    "----------------------------------------------------------------"
   ]
  },
  {
   "cell_type": "markdown",
   "metadata": {},
   "source": [
    "Make a frame for the physics sample"
   ]
  },
  {
   "cell_type": "code",
   "execution_count": 15,
   "metadata": {
    "collapsed": false
   },
   "outputs": [],
   "source": [
    "frame1 = x.frame(ROOT.RooFit.Bins(30), ROOT.RooFit.Title(\"Physics sample\"))"
   ]
  },
  {
   "cell_type": "markdown",
   "metadata": {},
   "source": [
    "Plot all data tagged as physics sample"
   ]
  },
  {
   "cell_type": "code",
   "execution_count": 16,
   "metadata": {
    "collapsed": false
   },
   "outputs": [
    {
     "data": {
      "text/plain": [
       "<ROOT.RooPlot object (\"frame_x_55dc9540d360\") at 0x55dc9540d360>"
      ]
     },
     "execution_count": 16,
     "metadata": {},
     "output_type": "execute_result"
    },
    {
     "name": "stdout",
     "output_type": "stream",
     "text": [
      "[#1] INFO:Plotting -- RooTreeData::plotOn: plotting 100 events out of 2100 total events\n"
     ]
    }
   ],
   "source": [
    "combData.plotOn(frame1, ROOT.RooFit.Cut(\"sample==sample::physics\"))"
   ]
  },
  {
   "cell_type": "markdown",
   "metadata": {},
   "source": [
    "Plot \"physics\" slice of simultaneous pdf.\n",
    "NB: You *must* project the sample index category with data using ProjWData\n",
    "as a RooSimultaneous makes no prediction on the shape in the index category\n",
    "and can thus not be integrated\n",
    "NB2: The sampleSet *must* be named. It will not work to pass this as a temporary\n",
    "because python will delete it. The same holds for fitTo() and plotOn() below."
   ]
  },
  {
   "cell_type": "code",
   "execution_count": 17,
   "metadata": {
    "collapsed": false
   },
   "outputs": [
    {
     "data": {
      "text/plain": [
       "<ROOT.RooPlot object (\"frame_x_55dc9540d360\") at 0x55dc9540d360>"
      ]
     },
     "execution_count": 17,
     "metadata": {},
     "output_type": "execute_result"
    },
    {
     "name": "stdout",
     "output_type": "stream",
     "text": [
      "[#1] INFO:Plotting -- RooSimultaneous::plotOn(simPdf) plot on x represents a slice in the index category (sample)\n",
      "[#1] INFO:Plotting -- RooAbsPdf::plotOn(model) directly selected PDF components: (px)\n",
      "[#1] INFO:Plotting -- RooAbsPdf::plotOn(model) indirectly selected PDF components: ()\n",
      "[#1] INFO:Plotting -- RooAbsReal::plotOn(model) slice variable sample was not projected anyway\n"
     ]
    }
   ],
   "source": [
    "sampleSet = ROOT.RooArgSet(sample)\n",
    "simPdf.plotOn(frame1, ROOT.RooFit.Slice(sample, \"physics\"), ROOT.RooFit.Components(\n",
    "    \"px\"), ROOT.RooFit.ProjWData(sampleSet, combData), ROOT.RooFit.LineStyle(ROOT.kDashed))"
   ]
  },
  {
   "cell_type": "markdown",
   "metadata": {},
   "source": [
    "The same plot for the control sample slice"
   ]
  },
  {
   "cell_type": "code",
   "execution_count": 18,
   "metadata": {
    "collapsed": false
   },
   "outputs": [
    {
     "name": "stdout",
     "output_type": "stream",
     "text": [
      "[#1] INFO:Plotting -- RooTreeData::plotOn: plotting 2000 events out of 2100 total events\n",
      "[#1] INFO:Plotting -- RooSimultaneous::plotOn(simPdf) plot on x represents a slice in the index category (sample)\n",
      "[#1] INFO:Plotting -- RooAbsReal::plotOn(model_ctl) slice variable sample was not projected anyway\n",
      "[#1] INFO:Plotting -- RooSimultaneous::plotOn(simPdf) plot on x represents a slice in the index category (sample)\n",
      "[#1] INFO:Plotting -- RooAbsPdf::plotOn(model_ctl) directly selected PDF components: (px_ctl)\n",
      "[#1] INFO:Plotting -- RooAbsPdf::plotOn(model_ctl) indirectly selected PDF components: ()\n",
      "[#1] INFO:Plotting -- RooAbsReal::plotOn(model_ctl) slice variable sample was not projected anyway\n"
     ]
    },
    {
     "name": "stderr",
     "output_type": "stream",
     "text": [
      "Info in <TCanvas::Print>: png file rf501_simultaneouspdf.png has been created\n"
     ]
    }
   ],
   "source": [
    "frame2 = x.frame(ROOT.RooFit.Bins(30), ROOT.RooFit.Title(\"Control sample\"))\n",
    "combData.plotOn(frame2, ROOT.RooFit.Cut(\"sample==sample::control\"))\n",
    "simPdf.plotOn(frame2, ROOT.RooFit.Slice(sample, \"control\"),\n",
    "                ROOT.RooFit.ProjWData(sampleSet, combData))\n",
    "simPdf.plotOn(frame2, ROOT.RooFit.Slice(sample, \"control\"), ROOT.RooFit.Components(\n",
    "    \"px_ctl\"), ROOT.RooFit.ProjWData(sampleSet, combData), ROOT.RooFit.LineStyle(ROOT.kDashed))\n",
    "\n",
    "c = ROOT.TCanvas(\"rf501_simultaneouspdf\",\n",
    "                 \"rf501_simultaneouspdf\", 800, 400)\n",
    "c.Divide(2)\n",
    "c.cd(1)\n",
    "ROOT.gPad.SetLeftMargin(0.15)\n",
    "frame1.GetYaxis().SetTitleOffset(1.4)\n",
    "frame1.Draw()\n",
    "c.cd(2)\n",
    "ROOT.gPad.SetLeftMargin(0.15)\n",
    "frame2.GetYaxis().SetTitleOffset(1.4)\n",
    "frame2.Draw()\n",
    "\n",
    "c.SaveAs(\"rf501_simultaneouspdf.png\")"
   ]
  },
  {
   "cell_type": "markdown",
   "metadata": {},
   "source": [
    "Draw all canvases "
   ]
  },
  {
   "cell_type": "code",
   "execution_count": 19,
   "metadata": {
    "collapsed": false
   },
   "outputs": [
    {
     "data": {
      "image/png": "[encoded data removed]",
      "text/plain": [
       "<IPython.core.display.Image object>"
      ]
     },
     "metadata": {},
     "output_type": "display_data"
    }
   ],
   "source": [
    "from ROOT import gROOT \n",
    "gROOT.GetListOfCanvases().Draw()"
   ]
  }
 ],
 "metadata": {
  "kernelspec": {
   "display_name": "Python 2",
   "language": "python",
   "name": "python2"
  },
  "language_info": {
   "codemirror_mode": {
    "name": "ipython",
    "version": 2
   },
   "file_extension": ".py",
   "mimetype": "text/x-python",
   "name": "python",
   "nbconvert_exporter": "python",
   "pygments_lexer": "ipython2",
   "version": "2.7.10"
  }
 },
 "nbformat": 4,
 "nbformat_minor": 2
}
