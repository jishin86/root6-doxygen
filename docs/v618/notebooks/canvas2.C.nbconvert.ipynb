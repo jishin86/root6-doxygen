{
 "cells": [
  {
   "cell_type": "markdown",
   "metadata": {},
   "source": [
    "# Canvas 2\n",
    "Example of canvas partitioning.\n",
    "Sometimes the Divide() method is not appropriate to divide a Canvas.\n",
    "Because of the left and right margins, all the pads do not have the\n",
    "same width and height. CanvasPartition does that properly. This\n",
    "example also ensure that the axis labels and titles have the same\n",
    "sizes and that the tick marks length is uniform.\n",
    "\n",
    "\n",
    "\n",
    "\n",
    "**Author:** Olivier Couet  \n",
    "<i><small>This notebook tutorial was automatically generated with <a href= \"https://github.com/root-project/root/blob/master/documentation/doxygen/converttonotebook.py\">ROOTBOOK-izer</a> from the macro found in the ROOT repository  on Thursday, August 29, 2019 at 01:38 AM.</small></i>"
   ]
  },
  {
   "cell_type": "code",
   "execution_count": 1,
   "metadata": {
    "collapsed": false
   },
   "outputs": [],
   "source": [
    "void CanvasPartition(TCanvas *C,const Int_t Nx = 2,const Int_t Ny = 2,\n",
    "                     Float_t lMargin = 0.15, Float_t rMargin = 0.05,\n",
    "                     Float_t bMargin = 0.15, Float_t tMargin = 0.05);"
   ]
  },
  {
   "cell_type": "markdown",
   "metadata": {},
   "source": [
    " A helper function is created: "
   ]
  },
  {
   "cell_type": "code",
   "execution_count": 2,
   "metadata": {
    "collapsed": false
   },
   "outputs": [],
   "source": [
    "%%cpp -d\n",
    "void CanvasPartition(TCanvas *C,const Int_t Nx,const Int_t Ny,\n",
    "                     Float_t lMargin, Float_t rMargin,\n",
    "                     Float_t bMargin, Float_t tMargin)\n",
    "{\n",
    "   if (!C) return;\n",
    "\n",
    "   // Setup Pad layout:\n",
    "   Float_t vSpacing = 0.0;\n",
    "   Float_t vStep  = (1.- bMargin - tMargin - (Ny-1) * vSpacing) / Ny;\n",
    "\n",
    "   Float_t hSpacing = 0.0;\n",
    "   Float_t hStep  = (1.- lMargin - rMargin - (Nx-1) * hSpacing) / Nx;\n",
    "\n",
    "   Float_t vposd,vposu,vmard,vmaru,vfactor;\n",
    "   Float_t hposl,hposr,hmarl,hmarr,hfactor;\n",
    "\n",
    "   for (Int_t i=0;i<Nx;i++) {\n",
    "\n",
    "      if (i==0) {\n",
    "         hposl = 0.0;\n",
    "         hposr = lMargin + hStep;\n",
    "         hfactor = hposr-hposl;\n",
    "         hmarl = lMargin / hfactor;\n",
    "         hmarr = 0.0;\n",
    "      } else if (i == Nx-1) {\n",
    "         hposl = hposr + hSpacing;\n",
    "         hposr = hposl + hStep + rMargin;\n",
    "         hfactor = hposr-hposl;\n",
    "         hmarl = 0.0;\n",
    "         hmarr = rMargin / (hposr-hposl);\n",
    "      } else {\n",
    "         hposl = hposr + hSpacing;\n",
    "         hposr = hposl + hStep;\n",
    "         hfactor = hposr-hposl;\n",
    "         hmarl = 0.0;\n",
    "         hmarr = 0.0;\n",
    "      }\n",
    "\n",
    "      for (Int_t j=0;j<Ny;j++) {\n",
    "\n",
    "         if (j==0) {\n",
    "            vposd = 0.0;\n",
    "            vposu = bMargin + vStep;\n",
    "            vfactor = vposu-vposd;\n",
    "            vmard = bMargin / vfactor;\n",
    "            vmaru = 0.0;\n",
    "         } else if (j == Ny-1) {\n",
    "            vposd = vposu + vSpacing;\n",
    "            vposu = vposd + vStep + tMargin;\n",
    "            vfactor = vposu-vposd;\n",
    "            vmard = 0.0;\n",
    "            vmaru = tMargin / (vposu-vposd);\n",
    "         } else {\n",
    "            vposd = vposu + vSpacing;\n",
    "            vposu = vposd + vStep;\n",
    "            vfactor = vposu-vposd;\n",
    "            vmard = 0.0;\n",
    "            vmaru = 0.0;\n",
    "         }\n",
    "\n",
    "         C->cd(0);\n",
    "\n",
    "         char name[16];\n",
    "         sprintf(name,\"pad_%i_%i\",i,j);\n",
    "         TPad *pad = (TPad*) gROOT->FindObject(name);\n",
    "         if (pad) delete pad;\n",
    "         pad = new TPad(name,\"\",hposl,vposd,hposr,vposu);\n",
    "         pad->SetLeftMargin(hmarl);\n",
    "         pad->SetRightMargin(hmarr);\n",
    "         pad->SetBottomMargin(vmard);\n",
    "         pad->SetTopMargin(vmaru);\n",
    "\n",
    "         pad->SetFrameBorderMode(0);\n",
    "         pad->SetBorderMode(0);\n",
    "         pad->SetBorderSize(0);\n",
    "\n",
    "         pad->Draw();\n",
    "      }\n",
    "   }\n",
    "}"
   ]
  },
  {
   "cell_type": "code",
   "execution_count": 3,
   "metadata": {
    "collapsed": false
   },
   "outputs": [],
   "source": [
    "gStyle->SetOptStat(0);\n",
    "\n",
    "TCanvas *C = (TCanvas*) gROOT->FindObject(\"C\");\n",
    "if (C) delete C;\n",
    "C = new TCanvas(\"C\",\"canvas\",1024,640);\n",
    "C->SetFillStyle(4000);"
   ]
  },
  {
   "cell_type": "markdown",
   "metadata": {},
   "source": [
    "Number of pads"
   ]
  },
  {
   "cell_type": "code",
   "execution_count": 4,
   "metadata": {
    "collapsed": false
   },
   "outputs": [],
   "source": [
    "const Int_t Nx = 5;\n",
    "const Int_t Ny = 5;"
   ]
  },
  {
   "cell_type": "markdown",
   "metadata": {},
   "source": [
    "Margins"
   ]
  },
  {
   "cell_type": "code",
   "execution_count": 5,
   "metadata": {
    "collapsed": false
   },
   "outputs": [],
   "source": [
    "Float_t lMargin = 0.12;\n",
    "Float_t rMargin = 0.05;\n",
    "Float_t bMargin = 0.15;\n",
    "Float_t tMargin = 0.05;"
   ]
  },
  {
   "cell_type": "markdown",
   "metadata": {},
   "source": [
    "Canvas setup"
   ]
  },
  {
   "cell_type": "code",
   "execution_count": 6,
   "metadata": {
    "collapsed": false
   },
   "outputs": [],
   "source": [
    "CanvasPartition(C,Nx,Ny,lMargin,rMargin,bMargin,tMargin);"
   ]
  },
  {
   "cell_type": "markdown",
   "metadata": {},
   "source": [
    "Dummy histogram."
   ]
  },
  {
   "cell_type": "code",
   "execution_count": 7,
   "metadata": {
    "collapsed": false
   },
   "outputs": [],
   "source": [
    "TH1F *h = (TH1F*) gROOT->FindObject(\"histo\");\n",
    "if (h) delete h;\n",
    "h = new TH1F(\"histo\",\"\",100,-5.0,5.0);\n",
    "h->FillRandom(\"gaus\",10000);\n",
    "h->GetXaxis()->SetTitle(\"x axis\");\n",
    "h->GetYaxis()->SetTitle(\"y axis\");\n",
    "\n",
    "TPad *pad[Nx][Ny];\n",
    "\n",
    "for (Int_t i=0;i<Nx;i++) {\n",
    "   for (Int_t j=0;j<Ny;j++) {\n",
    "      C->cd(0);\n",
    "\n",
    "      // Get the pads previously created.\n",
    "      char pname[16];\n",
    "      sprintf(pname,\"pad_%i_%i\",i,j);\n",
    "      pad[i][j] = (TPad*) gROOT->FindObject(pname);\n",
    "      pad[i][j]->Draw();\n",
    "      pad[i][j]->SetFillStyle(4000);\n",
    "      pad[i][j]->SetFrameFillStyle(4000);\n",
    "      pad[i][j]->cd();\n",
    "\n",
    "      // Size factors\n",
    "      Float_t xFactor = pad[0][0]->GetAbsWNDC()/pad[i][j]->GetAbsWNDC();\n",
    "      Float_t yFactor = pad[0][0]->GetAbsHNDC()/pad[i][j]->GetAbsHNDC();\n",
    "\n",
    "      char hname[16];\n",
    "      sprintf(hname,\"h_%i_%i\",i,j);\n",
    "      TH1F *hFrame = (TH1F*) h->Clone(hname);\n",
    "      hFrame->Reset();\n",
    "      hFrame->Draw();\n",
    "\n",
    "      // y axis range\n",
    "      hFrame->GetYaxis()->SetRangeUser(0.0001,1.2*h->GetMaximum());\n",
    "\n",
    "      // Format for y axis\n",
    "      hFrame->GetYaxis()->SetLabelFont(43);\n",
    "      hFrame->GetYaxis()->SetLabelSize(16);\n",
    "      hFrame->GetYaxis()->SetLabelOffset(0.02);\n",
    "      hFrame->GetYaxis()->SetTitleFont(43);\n",
    "      hFrame->GetYaxis()->SetTitleSize(16);\n",
    "      hFrame->GetYaxis()->SetTitleOffset(5);\n",
    "\n",
    "      hFrame->GetYaxis()->CenterTitle();\n",
    "      hFrame->GetYaxis()->SetNdivisions(505);\n",
    "\n",
    "      // TICKS Y Axis\n",
    "      hFrame->GetYaxis()->SetTickLength(xFactor*0.04/yFactor);\n",
    "\n",
    "      // Format for x axis\n",
    "      hFrame->GetXaxis()->SetLabelFont(43);\n",
    "      hFrame->GetXaxis()->SetLabelSize(16);\n",
    "      hFrame->GetXaxis()->SetLabelOffset(0.02);\n",
    "      hFrame->GetXaxis()->SetTitleFont(43);\n",
    "      hFrame->GetXaxis()->SetTitleSize(16);\n",
    "      hFrame->GetXaxis()->SetTitleOffset(5);\n",
    "      hFrame->GetXaxis()->CenterTitle();\n",
    "      hFrame->GetXaxis()->SetNdivisions(505);\n",
    "\n",
    "      // TICKS X Axis\n",
    "      hFrame->GetXaxis()->SetTickLength(yFactor*0.06/xFactor);\n",
    "\n",
    "      h->Draw(\"same\");\n",
    "   }\n",
    "}\n",
    "C->cd();"
   ]
  },
  {
   "cell_type": "markdown",
   "metadata": {},
   "source": [
    "Draw all canvases "
   ]
  },
  {
   "cell_type": "code",
   "execution_count": 8,
   "metadata": {
    "collapsed": false
   },
   "outputs": [
    {
     "data": {
      "image/png": "[encoded data removed]",
      "text/plain": [
       "<IPython.core.display.Image object>"
      ]
     },
     "metadata": {},
     "output_type": "display_data"
    }
   ],
   "source": [
    "gROOT->GetListOfCanvases()->Draw()"
   ]
  }
 ],
 "metadata": {
  "kernelspec": {
   "display_name": "ROOT C++",
   "language": "c++",
   "name": "root"
  },
  "language_info": {
   "codemirror_mode": "text/x-c++src",
   "file_extension": ".C",
   "mimetype": " text/x-c++src",
   "name": "c++"
  }
 },
 "nbformat": 4,
 "nbformat_minor": 2
}
