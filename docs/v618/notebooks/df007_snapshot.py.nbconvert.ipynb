{
 "cells": [
  {
   "cell_type": "markdown",
   "metadata": {},
   "source": [
    "# Df 0 0 7_Snapshot\n",
    "This tutorial shows how to write out datasets in ROOT formatusing the RDataFrame\n",
    "\n",
    "\n",
    "\n",
    "**Author:** Danilo Piparo  \n",
    "<i><small>This notebook tutorial was automatically generated with <a href= \"https://github.com/root-project/root/blob/master/documentation/doxygen/converttonotebook.py\">ROOTBOOK-izer</a> from the macro found in the ROOT repository  on Thursday, August 29, 2019 at 01:02 AM.</small></i>"
   ]
  },
  {
   "cell_type": "code",
   "execution_count": 1,
   "metadata": {
    "collapsed": false
   },
   "outputs": [
    {
     "name": "stdout",
     "output_type": "stream",
     "text": [
      "Welcome to JupyROOT 6.18/03\n"
     ]
    }
   ],
   "source": [
    "import ROOT"
   ]
  },
  {
   "cell_type": "markdown",
   "metadata": {},
   "source": [
    "A simple helper function to fill a test tree: this makes the example stand-alone."
   ]
  },
  {
   "cell_type": "code",
   "execution_count": 2,
   "metadata": {
    "collapsed": false
   },
   "outputs": [],
   "source": [
    "def fill_tree(treeName, fileName):\n",
    "    tdf = ROOT.ROOT.RDataFrame(10000)\n",
    "    tdf.Define(\"b1\", \"(int) tdfentry_\")\\\n",
    "       .Define(\"b2\", \"(float) tdfentry_ * tdfentry_\").Snapshot(treeName, fileName)"
   ]
  },
  {
   "cell_type": "markdown",
   "metadata": {},
   "source": [
    "We prepare an input tree to run on"
   ]
  },
  {
   "cell_type": "code",
   "execution_count": 3,
   "metadata": {
    "collapsed": false
   },
   "outputs": [],
   "source": [
    "fileName = \"df007_snapshot_py.root\"\n",
    "outFileName = \"df007_snapshot_output_py.root\"\n",
    "outFileNameAllColumns = \"df007_snapshot_output_allColumns_py.root\"\n",
    "treeName = \"myTree\"\n",
    "fill_tree(treeName, fileName)"
   ]
  },
  {
   "cell_type": "markdown",
   "metadata": {},
   "source": [
    "We read the tree from the file and create a RDataFrame."
   ]
  },
  {
   "cell_type": "code",
   "execution_count": 4,
   "metadata": {
    "collapsed": false
   },
   "outputs": [],
   "source": [
    "RDF = ROOT.ROOT.RDataFrame\n",
    "d = RDF(treeName, fileName)"
   ]
  },
  {
   "cell_type": "markdown",
   "metadata": {},
   "source": [
    "## Select entries\n",
    "We now select some entries in the dataset"
   ]
  },
  {
   "cell_type": "code",
   "execution_count": 5,
   "metadata": {
    "collapsed": false
   },
   "outputs": [],
   "source": [
    "d_cut = d.Filter(\"b1 % 2 == 0\")"
   ]
  },
  {
   "cell_type": "markdown",
   "metadata": {},
   "source": [
    "## Enrich the dataset\n",
    "Build some temporary columns: we'll write them out"
   ]
  },
  {
   "cell_type": "code",
   "execution_count": 6,
   "metadata": {
    "collapsed": false
   },
   "outputs": [],
   "source": [
    "getVector_code ='''\n",
    "std::vector<float> getVector (float b2)\n",
    "{\n",
    "   std::vector<float> v;\n",
    "   for (int i = 0; i < 3; i++) v.push_back(b2*i);\n",
    "   return v;\n",
    "}\n",
    "'''\n",
    "ROOT.gInterpreter.Declare(getVector_code)\n",
    "\n",
    "d2 = d_cut.Define(\"b1_square\", \"b1 * b1\") \\\n",
    "          .Define(\"b2_vector\", \"getVector( b2 )\")"
   ]
  },
  {
   "cell_type": "markdown",
   "metadata": {},
   "source": [
    "## Write it to disk in ROOT format\n",
    "We now write to disk a new dataset with one of the variables originally\n",
    "present in the tree and the new variables.\n",
    "The user can explicitly specify the types of the columns as template\n",
    "arguments of the Snapshot method, otherwise they will be automatically\n",
    "inferred."
   ]
  },
  {
   "cell_type": "code",
   "execution_count": 7,
   "metadata": {
    "collapsed": false
   },
   "outputs": [
    {
     "data": {
      "text/plain": [
       "<ROOT.ROOT::RDF::RResultPtr<ROOT::RDF::RInterface<ROOT::Detail::RDF::RLoopManager,void> > object at 0x560bed844e00>"
      ]
     },
     "execution_count": 7,
     "metadata": {},
     "output_type": "execute_result"
    }
   ],
   "source": [
    "branchList = ROOT.vector('string')()\n",
    "for branchName in [\"b1\", \"b1_square\", \"b2_vector\"]:\n",
    "    branchList.push_back(branchName)\n",
    "d2.Snapshot(treeName, outFileName, branchList)"
   ]
  },
  {
   "cell_type": "markdown",
   "metadata": {},
   "source": [
    "Open the new file and list the columns of the tree"
   ]
  },
  {
   "cell_type": "code",
   "execution_count": 8,
   "metadata": {
    "collapsed": false
   },
   "outputs": [
    {
     "name": "stdout",
     "output_type": "stream",
     "text": [
      "These are the columns b1, b1_square and b2_vector:\n",
      "Branch: b1\n",
      "Branch: b1_square\n",
      "Branch: b2_vector\n"
     ]
    }
   ],
   "source": [
    "f1 = ROOT.TFile(outFileName)\n",
    "t = f1.myTree\n",
    "print(\"These are the columns b1, b1_square and b2_vector:\")\n",
    "for branch in t.GetListOfBranches():\n",
    "    print(\"Branch: %s\" %branch.GetName())\n",
    "\n",
    "f1.Close()"
   ]
  },
  {
   "cell_type": "markdown",
   "metadata": {},
   "source": [
    "We are not forced to write the full set of column names. We can also\n",
    "specify a regular expression for that. In case nothing is specified, all\n",
    "columns are persistified."
   ]
  },
  {
   "cell_type": "code",
   "execution_count": 9,
   "metadata": {
    "collapsed": false
   },
   "outputs": [
    {
     "data": {
      "text/plain": [
       "<ROOT.ROOT::RDF::RResultPtr<ROOT::RDF::RInterface<ROOT::Detail::RDF::RLoopManager,void> > object at 0x560be9eb3370>"
      ]
     },
     "execution_count": 9,
     "metadata": {},
     "output_type": "execute_result"
    }
   ],
   "source": [
    "d2.Snapshot(treeName, outFileNameAllColumns)"
   ]
  },
  {
   "cell_type": "markdown",
   "metadata": {},
   "source": [
    "Open the new file and list the columns of the tree"
   ]
  },
  {
   "cell_type": "code",
   "execution_count": 10,
   "metadata": {
    "collapsed": false
   },
   "outputs": [
    {
     "name": "stdout",
     "output_type": "stream",
     "text": [
      "These are all the columns available to this tdf:\n",
      "Branch: b1_square\n",
      "Branch: b2_vector\n",
      "Branch: b1\n",
      "Branch: b2\n"
     ]
    }
   ],
   "source": [
    "f2 = ROOT.TFile(outFileNameAllColumns)\n",
    "t = f2.myTree\n",
    "print(\"These are all the columns available to this tdf:\")\n",
    "for branch in t.GetListOfBranches():\n",
    "    print(\"Branch: %s\" %branch.GetName())\n",
    "\n",
    "f2.Close()"
   ]
  },
  {
   "cell_type": "markdown",
   "metadata": {},
   "source": [
    "We can also get a fresh RDataFrame out of the snapshot and restart the\n",
    "analysis chain from it."
   ]
  },
  {
   "cell_type": "code",
   "execution_count": 11,
   "metadata": {
    "collapsed": false
   },
   "outputs": [],
   "source": [
    "branchList.clear()\n",
    "branchList.push_back(\"b1_square\")\n",
    "snapshot_tdf = d2.Snapshot(treeName, outFileName, branchList);\n",
    "h = snapshot_tdf.Histo1D(\"b1_square\")\n",
    "c = ROOT.TCanvas()\n",
    "h.Draw()"
   ]
  },
  {
   "cell_type": "markdown",
   "metadata": {},
   "source": [
    "Draw all canvases "
   ]
  },
  {
   "cell_type": "code",
   "execution_count": 12,
   "metadata": {
    "collapsed": false
   },
   "outputs": [
    {
     "data": {
      "image/png": "[encoded data removed]",
      "text/plain": [
       "<IPython.core.display.Image object>"
      ]
     },
     "metadata": {},
     "output_type": "display_data"
    }
   ],
   "source": [
    "from ROOT import gROOT \n",
    "gROOT.GetListOfCanvases().Draw()"
   ]
  }
 ],
 "metadata": {
  "kernelspec": {
   "display_name": "Python 2",
   "language": "python",
   "name": "python2"
  },
  "language_info": {
   "codemirror_mode": {
    "name": "ipython",
    "version": 2
   },
   "file_extension": ".py",
   "mimetype": "text/x-python",
   "name": "python",
   "nbconvert_exporter": "python",
   "pygments_lexer": "ipython2",
   "version": "2.7.10"
  }
 },
 "nbformat": 4,
 "nbformat_minor": 2
}
