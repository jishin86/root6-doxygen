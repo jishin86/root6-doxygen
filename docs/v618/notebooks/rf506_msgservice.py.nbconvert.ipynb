{
 "cells": [
  {
   "cell_type": "markdown",
   "metadata": {},
   "source": [
    "# Rf 5 0 6_Msgservice\n",
    "\n",
    "Organization and simultaneous fits: tuning and customizing the ROOT.RooFit message logging facility\n",
    "\n",
    "\n",
    "\n",
    "\n",
    "**Author:** Clemens Lange, Wouter Verkerke (C++ version)  \n",
    "<i><small>This notebook tutorial was automatically generated with <a href= \"https://github.com/root-project/root/blob/master/documentation/doxygen/converttonotebook.py\">ROOTBOOK-izer</a> from the macro found in the ROOT repository  on Thursday, August 29, 2019 at 02:55 AM.</small></i>"
   ]
  },
  {
   "cell_type": "code",
   "execution_count": 1,
   "metadata": {
    "collapsed": false
   },
   "outputs": [
    {
     "name": "stdout",
     "output_type": "stream",
     "text": [
      "Welcome to JupyROOT 6.18/03\n"
     ]
    }
   ],
   "source": [
    "import ROOT"
   ]
  },
  {
   "cell_type": "markdown",
   "metadata": {},
   "source": [
    "Create pdf\n",
    "--------------------"
   ]
  },
  {
   "cell_type": "markdown",
   "metadata": {},
   "source": [
    "Construct gauss(x,m,s)"
   ]
  },
  {
   "cell_type": "code",
   "execution_count": 2,
   "metadata": {
    "collapsed": false
   },
   "outputs": [
    {
     "name": "stdout",
     "output_type": "stream",
     "text": [
      "\n",
      "\u001b[1mRooFit v3.60 -- Developed by Wouter Verkerke and David Kirkby\u001b[0m \n",
      "                Copyright (C) 2000-2013 NIKHEF, University of California & Stanford University\n",
      "                All rights reserved, please read http://roofit.sourceforge.net/license.txt\n",
      "\n"
     ]
    }
   ],
   "source": [
    "x = ROOT.RooRealVar(\"x\", \"x\", -10, 10)\n",
    "m = ROOT.RooRealVar(\"m\", \"m\", 0, -10, 10)\n",
    "s = ROOT.RooRealVar(\"s\", \"s\", 1, -10, 10)\n",
    "gauss = ROOT.RooGaussian(\"g\", \"g\", x, m, s)"
   ]
  },
  {
   "cell_type": "markdown",
   "metadata": {},
   "source": [
    "Construct poly(x,p0)"
   ]
  },
  {
   "cell_type": "code",
   "execution_count": 3,
   "metadata": {
    "collapsed": false
   },
   "outputs": [],
   "source": [
    "p0 = ROOT.RooRealVar(\"p0\", \"p0\", 0.01, 0., 1.)\n",
    "poly = ROOT.RooPolynomial(\"p\", \"p\", x, ROOT.RooArgList(p0))"
   ]
  },
  {
   "cell_type": "markdown",
   "metadata": {},
   "source": [
    "model = f*gauss(x) + (1-f)*poly(x)"
   ]
  },
  {
   "cell_type": "code",
   "execution_count": 4,
   "metadata": {
    "collapsed": false
   },
   "outputs": [],
   "source": [
    "f = ROOT.RooRealVar(\"f\", \"f\", 0.5, 0., 1.)\n",
    "model = ROOT.RooAddPdf(\"model\", \"model\", ROOT.RooArgList(\n",
    "    gauss, poly), ROOT.RooArgList(f))\n",
    "\n",
    "data = model.generate(ROOT.RooArgSet(x), 10)"
   ]
  },
  {
   "cell_type": "markdown",
   "metadata": {},
   "source": [
    "Print configuration of message service\n",
    "------------------------------------------"
   ]
  },
  {
   "cell_type": "markdown",
   "metadata": {},
   "source": [
    "Print streams configuration"
   ]
  },
  {
   "cell_type": "code",
   "execution_count": 5,
   "metadata": {
    "collapsed": false
   },
   "outputs": [
    {
     "name": "stdout",
     "output_type": "stream",
     "text": [
      "Active Message streams\n",
      "[0] MinLevel = PROGRESS Topic =  Any \n",
      "[1] MinLevel = INFO Topic = Minization Plotting Fitting Eval Caching ObjectHandling InputArguments DataHandling NumericIntegration \n"
     ]
    }
   ],
   "source": [
    "ROOT.RooMsgService.instance().Print()"
   ]
  },
  {
   "cell_type": "markdown",
   "metadata": {},
   "source": [
    "Adding integration topic to existing INFO stream\n",
    "---------------------------------------------------"
   ]
  },
  {
   "cell_type": "markdown",
   "metadata": {},
   "source": [
    "Print streams configuration"
   ]
  },
  {
   "cell_type": "code",
   "execution_count": 6,
   "metadata": {
    "collapsed": false
   },
   "outputs": [
    {
     "name": "stdout",
     "output_type": "stream",
     "text": [
      "Active Message streams\n",
      "[0] MinLevel = PROGRESS Topic =  Any \n",
      "[1] MinLevel = INFO Topic = Minization Plotting Fitting Eval Caching ObjectHandling InputArguments DataHandling NumericIntegration \n"
     ]
    }
   ],
   "source": [
    "ROOT.RooMsgService.instance().Print()"
   ]
  },
  {
   "cell_type": "markdown",
   "metadata": {},
   "source": [
    "Add Integration topic to existing INFO stream"
   ]
  },
  {
   "cell_type": "code",
   "execution_count": 7,
   "metadata": {
    "collapsed": false
   },
   "outputs": [],
   "source": [
    "ROOT.RooMsgService.instance().getStream(1).addTopic(ROOT.RooFit.Integration)"
   ]
  },
  {
   "cell_type": "markdown",
   "metadata": {},
   "source": [
    "Construct integral over gauss to demonstrate message stream"
   ]
  },
  {
   "cell_type": "code",
   "execution_count": 8,
   "metadata": {
    "collapsed": false
   },
   "outputs": [
    {
     "name": "stdout",
     "output_type": "stream",
     "text": [
      "[#1] INFO:Integration -- RooRealIntegral::ctor(g_Int[x]) Constructing integral of function g over observables(x) with normalization () with range identifier <none>\n",
      "[#1] INFO:Integration -- g: Observable x is suitable for analytical integration (if supported by p.d.f)\n",
      "[#1] INFO:Integration -- g: Function integrated observables (x) internally with code 1\n",
      "[#1] INFO:Integration -- g: Observables (x) are analytically integrated with code 1\n",
      "RooRealIntegral::g_Int[x][ Int gd[Ana](x) ] = 2.50663\n"
     ]
    }
   ],
   "source": [
    "igauss = gauss.createIntegral(ROOT.RooArgSet(x))\n",
    "igauss.Print()"
   ]
  },
  {
   "cell_type": "markdown",
   "metadata": {},
   "source": [
    "Print streams configuration in verbose, also shows inactive streams"
   ]
  },
  {
   "cell_type": "code",
   "execution_count": 9,
   "metadata": {
    "collapsed": false
   },
   "outputs": [
    {
     "name": "stdout",
     "output_type": "stream",
     "text": [
      "Active Message streams\n",
      "[0] MinLevel = PROGRESS Topic =  Any \n",
      "[1] MinLevel = INFO Topic = Minization Plotting Fitting Integration Eval Caching ObjectHandling InputArguments DataHandling NumericIntegration \n"
     ]
    }
   ],
   "source": [
    "ROOT.RooMsgService.instance().Print()"
   ]
  },
  {
   "cell_type": "markdown",
   "metadata": {},
   "source": [
    "Remove stream"
   ]
  },
  {
   "cell_type": "code",
   "execution_count": 10,
   "metadata": {
    "collapsed": false
   },
   "outputs": [],
   "source": [
    "ROOT.RooMsgService.instance().getStream(1).removeTopic(ROOT.RooFit.Integration)"
   ]
  },
  {
   "cell_type": "markdown",
   "metadata": {},
   "source": [
    "Examples of pdf value tracing\n",
    "-----------------------------------------------------------------------"
   ]
  },
  {
   "cell_type": "markdown",
   "metadata": {},
   "source": [
    "Show DEBUG level message on function tracing, ROOT.RooGaussian only"
   ]
  },
  {
   "cell_type": "code",
   "execution_count": 11,
   "metadata": {
    "collapsed": false
   },
   "outputs": [
    {
     "data": {
      "text/plain": [
       "2"
      ]
     },
     "execution_count": 11,
     "metadata": {},
     "output_type": "execute_result"
    }
   ],
   "source": [
    "ROOT.RooMsgService.instance().addStream(\n",
    "    ROOT.RooFit.DEBUG,\n",
    "    ROOT.RooFit.Topic(\n",
    "        ROOT.RooFit.Tracing),\n",
    "    ROOT.RooFit.ClassName(\"RooGaussian\"))"
   ]
  },
  {
   "cell_type": "markdown",
   "metadata": {},
   "source": [
    "Perform a fit to generate some tracing messages"
   ]
  },
  {
   "cell_type": "code",
   "execution_count": 12,
   "metadata": {
    "collapsed": false
   },
   "outputs": [
    {
     "data": {
      "text/plain": [
       "<ROOT.RooFitResult object at 0x(nil)>"
      ]
     },
     "execution_count": 12,
     "metadata": {},
     "output_type": "execute_result"
    },
    {
     "name": "stdout",
     "output_type": "stream",
     "text": [
      "[#1] INFO:Minization -- RooMinimizer::optimizeConst: activating const optimization\n",
      "[#1] INFO:Minization --  The following expressions will be evaluated in cache-and-track mode: (g,p)\n",
      "[#0] WARNING:Minization -- RooMinimizerFcn::synchronize: WARNING: no initial error estimate available for f: using 0.1\n",
      "[#0] WARNING:Minization -- RooMinimizerFcn::synchronize: WARNING: no initial error estimate available for m: using 2\n",
      "[#0] WARNING:Minization -- RooMinimizerFcn::synchronize: WARNING: no initial error estimate available for p0: using 0.005\n",
      "[#0] WARNING:Minization -- RooMinimizerFcn::synchronize: WARNING: no initial error estimate available for s: using 2\n",
      " **********\n",
      " **    1 **SET PRINT           1\n",
      " **********\n",
      " **********\n",
      " **    2 **SET NOGRAD\n",
      " **********\n",
      " PARAMETER DEFINITIONS:\n",
      "    NO.   NAME         VALUE      STEP SIZE      LIMITS\n",
      "     1 f            5.00000e-01  1.00000e-01    0.00000e+00  1.00000e+00\n",
      "     2 m            0.00000e+00  2.00000e+00   -1.00000e+01  1.00000e+01\n",
      "     3 p0           1.00000e-02  5.00000e-03    0.00000e+00  1.00000e+00\n",
      "     4 s            1.00000e+00  2.00000e+00   -1.00000e+01  1.00000e+01\n",
      " **********\n",
      " **    3 **SET ERR         0.5\n",
      " **********\n",
      " **********\n",
      " **    4 **SET PRINT           1\n",
      " **********\n",
      " **********\n",
      " **    5 **SET STR           1\n",
      " **********\n",
      " NOW USING STRATEGY  1: TRY TO BALANCE SPEED AGAINST RELIABILITY\n",
      " **********\n",
      " **    6 **MIGRAD        2000           1\n",
      " **********\n",
      " FIRST CALL TO USER FUNCTION AT NEW START POINT, WITH IFLAG=4.\n",
      "\n",
      "prevFCN = 31.75882326   START MIGRAD MINIMIZATION.  STRATEGY  1.  CONVERGENCE WHEN EDM .LT. 1.00e-03\n",
      "f=0.501, p0=0.01, \n",
      "prevFCN = 31.76758673  f=0.499, \n",
      "prevFCN = 31.75008506  f=0.5, m=0.02014, \n",
      "prevFCN = 31.72980141  m=-0.02014, \n",
      "prevFCN = 31.78749743  m=0.004235, \n",
      "prevFCN = 31.75274724  m=-0.004235, \n",
      "prevFCN = 31.76488389  m=0, p0=0.01005, \n",
      "prevFCN = 31.75954549  p0=0.009948, \n",
      "prevFCN = 31.75810351  p0=0.01013, \n",
      "prevFCN = 31.76062402  p0=0.009872, \n",
      "prevFCN = 31.75703788  p0=0.01, s=1.02, \n",
      "prevFCN = 31.67915486  s=0.9799, \n",
      "prevFCN = 31.84068856  s=1.002, \n",
      "prevFCN = 31.75075447  s=0.998, \n",
      "prevFCN = 31.76691405  m=0.004235, s=1, \n",
      "prevFCN = 31.75274724  m=0.02118, \n",
      "prevFCN = 31.72829189  m=0.06353, \n",
      "prevFCN = 31.66614321  m=0.1906, \n",
      "prevFCN = 31.47244052  m=0.5715, \n",
      "prevFCN = 30.87227362  m=1.707, \n",
      "prevFCN = 29.88047134  m=2.064, \n",
      "prevFCN = 29.97604268  f=0.5008, m=1.707, \n",
      "prevFCN = 29.88564172  f=0.4992, \n",
      "prevFCN = 29.87531802  f=0.5, m=1.711, \n",
      "prevFCN = 29.8803659  m=1.703, \n",
      "prevFCN = 29.88060433  m=1.71, \n",
      "prevFCN = 29.88039214  m=1.704, \n",
      "prevFCN = 29.88056503  m=1.707, p0=0.01013, \n",
      "prevFCN = 29.88274199  p0=0.009875, \n",
      "prevFCN = 29.87821833  p0=0.01, s=1.002, \n",
      "prevFCN = 29.87987611  s=0.9984, \n",
      "prevFCN = 29.88107011  s=1.003, \n",
      "prevFCN = 29.87926952  s=0.9967, \n",
      "prevFCN = 29.88168765   FCN=29.8805 FROM MIGRAD    STATUS=INITIATE       33 CALLS          34 TOTAL\n",
      "                     EDM= unknown      STRATEGY= 1      NO ERROR MATRIX       \n",
      "  EXT PARAMETER               CURRENT GUESS       STEP         FIRST   \n",
      "  NO.   NAME      VALUE            ERROR          SIZE      DERIVATIVE \n",
      "   1  f            5.00000e-01   1.00000e-01   0.00000e+00   3.38641e+00\n",
      "   2  m            1.70692e+00   2.00000e+00   1.71532e-01  -2.90086e-01\n",
      "   3  p0           1.00000e-02   5.00000e-03   0.00000e+00   1.80182e+00\n",
      "   4  s            1.00000e+00   2.00000e+00   0.00000e+00  -3.63523e+00\n",
      "                               ERR DEF= 0.5\n",
      "f=0.2774, m=1.724, p0=0.000388, s=1.276, \n",
      "prevFCN = 28.97288883  f=0.2912, m=1.723, p0=0.0006269, s=1.257, \n",
      "prevFCN = 28.97893369  f=0.278, m=1.724, p0=0.000388, s=1.276, \n",
      "prevFCN = 28.97325909  f=0.2768, \n",
      "prevFCN = 28.97252778  f=0.2774, m=1.727, \n",
      "prevFCN = 28.97321652  m=1.722, \n",
      "prevFCN = 28.97256819  m=1.724, p0=0.0004103, \n",
      "prevFCN = 28.97321664  p0=0.0003662, \n",
      "prevFCN = 28.97257031  p0=0.000388, s=1.279, \n",
      "prevFCN = 28.97432524  s=1.273, \n",
      "prevFCN = 28.97145596  s=1.282, \n",
      "prevFCN = 28.97575564  s=1.269, \n",
      "prevFCN = 28.97003607  f=0.2452, m=1.663, p0=5.498e-07, s=0.9876, \n",
      "prevFCN = 28.86089971  f=0.2274, m=1.628, p0=0.0001029, s=0.8218, \n",
      "prevFCN = 28.87647974  f=0.241, m=1.655, p0=3.204e-06, s=0.9491, \n",
      "prevFCN = 28.85685477  f=0.2418, \n",
      "prevFCN = 28.85692699  f=0.2403, \n",
      "prevFCN = 28.85679737  f=0.241, m=1.659, \n",
      "prevFCN = 28.85436009  m=1.651, \n",
      "prevFCN = 28.8593705  m=1.655, p0=1.215e-06, \n",
      "prevFCN = 28.85682558  p0=6.138e-06, \n",
      "prevFCN = 28.85689784  p0=3.204e-06, s=0.9556, \n",
      "prevFCN = 28.85804685  s=0.9426, \n",
      "prevFCN = 28.85571545  s=0.9524, \n",
      "prevFCN = 28.85746237  s=0.9458, \n",
      "prevFCN = 28.85626117  f=0.2171, m=1.753, p0=0.0002379, s=0.6877, \n",
      "prevFCN = 28.6750677  f=0.1311, m=2.143, p0=0.004887, s=-0.3611, [#0] WARNING:Minization -- RooMinimizerFcn: Minimized function has error status.\n",
      "Returning maximum FCN so far (31.84) to force MIGRAD to back out of this region. Error log follows\n",
      "Parameter values: f=0.1311, m=2.143, p0=0.004887, s=-0.3611\n",
      "RooGaussian::g[ x=x mean=m sigma=s ]\n",
      "     p.d.f normalization integral is zero or negative: -0.905133 @ x=x=-4.01476, mean=m=2.14309, sigma=s=-0.361096\n",
      "     p.d.f normalization integral is zero or negative: -0.905133 @ x=x=7.84746, mean=m=2.14309, sigma=s=-0.361096\n",
      "     p.d.f normalization integral is zero or negative: -0.905133 @ x=x=2.44579, mean=m=2.14309, sigma=s=-0.361096\n",
      "     p.d.f normalization integral is zero or negative: -0.905133 @ x=x=2.35102, mean=m=2.14309, sigma=s=-0.361096\n",
      "     p.d.f normalization integral is zero or negative: -0.905133 @ x=x=-0.0953319, mean=m=2.14309, sigma=s=-0.361096\n",
      "     p.d.f normalization integral is zero or negative: -0.905133 @ x=x=-4.77917, mean=m=2.14309, sigma=s=-0.361096\n",
      "     p.d.f normalization integral is zero or negative: -0.905133 @ x=x=-9.35254, mean=m=2.14309, sigma=s=-0.361096\n",
      "     p.d.f normalization integral is zero or negative: -0.905133 @ x=x=-1.25126, mean=m=2.14309, sigma=s=-0.361096\n",
      "     p.d.f normalization integral is zero or negative: -0.905133 @ x=x=-5.2665, mean=m=2.14309, sigma=s=-0.361096\n",
      "     p.d.f normalization integral is zero or negative: -0.905133 @ x=x=1.9514, mean=m=2.14309, sigma=s=-0.361096\n",
      "\n",
      "\n",
      "prevFCN = 32.84068856  f=0.2201, m=1.741, p0=0.000187, s=0.7213, \n",
      "prevFCN = 28.71142148  f=0.1125, m=2.24, p0=0.006973, s=-0.6231, [#0] WARNING:Minization -- RooMinimizerFcn: Minimized function has error status.\n",
      "Returning maximum FCN so far (31.84) to force MIGRAD to back out of this region. Error log follows\n",
      "Parameter values: f=0.1125, m=2.24, p0=0.006973, s=-0.6231\n",
      "RooGaussian::g[ x=x mean=m sigma=s ]\n",
      "     p.d.f normalization integral is zero or negative: -1.56191 @ x=x=-4.01476, mean=m=2.24008, sigma=s=-0.623113\n",
      "     p.d.f normalization integral is zero or negative: -1.56191 @ x=x=7.84746, mean=m=2.24008, sigma=s=-0.623113\n",
      "     p.d.f normalization integral is zero or negative: -1.56191 @ x=x=2.44579, mean=m=2.24008, sigma=s=-0.623113\n",
      "     p.d.f normalization integral is zero or negative: -1.56191 @ x=x=2.35102, mean=m=2.24008, sigma=s=-0.623113\n",
      "     p.d.f normalization integral is zero or negative: -1.56191 @ x=x=-0.0953319, mean=m=2.24008, sigma=s=-0.623113\n",
      "     p.d.f normalization integral is zero or negative: -1.56191 @ x=x=-4.77917, mean=m=2.24008, sigma=s=-0.623113\n",
      "     p.d.f normalization integral is zero or negative: -1.56191 @ x=x=-9.35254, mean=m=2.24008, sigma=s=-0.623113\n",
      "     p.d.f normalization integral is zero or negative: -1.56191 @ x=x=-1.25126, mean=m=2.24008, sigma=s=-0.623113\n",
      "     p.d.f normalization integral is zero or negative: -1.56191 @ x=x=-5.2665, mean=m=2.24008, sigma=s=-0.623113\n",
      "     p.d.f normalization integral is zero or negative: -1.56191 @ x=x=1.9514, mean=m=2.24008, sigma=s=-0.623113\n",
      "\n",
      "\n",
      "prevFCN = 32.84068856  f=0.1613, m=1.997, p0=0.00245, s=0.03234, \n",
      "prevFCN = 28.83468394  f=0.1938, m=1.852, p0=0.0008507, s=0.4236, \n",
      "prevFCN = 28.26434762  f=0.1624, m=1.992, p0=0.002383, s=0.04546, \n",
      "prevFCN = 28.59402569  f=0.1876, m=1.879, p0=0.001088, s=0.35, \n",
      "prevFCN = 28.2126014  f=0.1882, \n",
      "prevFCN = 28.21165858  f=0.1869, \n",
      "prevFCN = 28.21356181  f=0.1876, m=1.882, \n",
      "prevFCN = 28.19358068  m=1.876, \n",
      "prevFCN = 28.2317166  m=1.88, \n",
      "prevFCN = 28.20534928  m=1.878, \n",
      "prevFCN = 28.21986721  m=1.879, p0=0.001044, \n",
      "prevFCN = 28.21193003  p0=0.001134, \n",
      "prevFCN = 28.21328724  p0=0.001088, s=0.3534, \n",
      "prevFCN = 28.206172  s=0.3467, \n",
      "prevFCN = 28.21951673  s=0.3506, \n",
      "prevFCN = 28.21148868  s=0.3495, \n",
      "prevFCN = 28.21372781  f=0.1703, m=1.973, p0=0.001955, s=0.1496, \n",
      "prevFCN = 28.93554603  f=0.1864, m=1.885, p0=0.001137, s=0.3371, \n",
      "prevFCN = 28.20753031  f=0.187, \n",
      "prevFCN = 28.20668894  f=0.1859, \n",
      "prevFCN = 28.20838534  f=0.1864, m=1.886, \n",
      "prevFCN = 28.19992882  m=1.884, \n",
      "prevFCN = 28.21514558  m=1.885, p0=0.001093, \n",
      "prevFCN = 28.2068632  p0=0.001182, \n",
      "prevFCN = 28.20821111  p0=0.001137, s=0.3376, \n",
      "prevFCN = 28.20617884  s=0.3365, \n",
      "prevFCN = 28.20889703  f=0.182, m=1.911, p0=0.00132, s=0.3132, \n",
      "prevFCN = 28.11733803  f=0.1648, m=2.015, p0=0.002187, s=0.2178, \n",
      "prevFCN = 27.85086763  f=0.1441, m=2.147, p0=0.003597, s=0.09704, \n",
      "prevFCN = 29.48965483  f=0.1543, m=2.081, p0=0.002849, s=0.1574, \n",
      "prevFCN = 28.01931853  f=0.1664, m=2.006, p0=0.002099, s=0.2266, \n",
      "prevFCN = 27.86137046  f=0.1654, m=2.015, p0=0.002187, s=0.2178, \n",
      "prevFCN = 27.84925936  f=0.1643, \n",
      "prevFCN = 27.85249004  f=0.1648, m=2.017, \n",
      "prevFCN = 27.84069464  m=2.014, \n",
      "prevFCN = 27.86105907  m=2.015, p0=0.002126, \n",
      "prevFCN = 27.84993699  p0=0.002249, \n",
      "prevFCN = 27.85181231  p0=0.002187, s=0.2184, \n",
      "prevFCN = 27.84700049  s=0.2173, \n",
      "prevFCN = 27.85477166  s=0.2182, \n",
      "prevFCN = 27.84852213  s=0.2175, \n",
      "prevFCN = 27.85322665  f=0.1588, m=2.072, p0=0.002636, s=0.1735, \n",
      "prevFCN = 27.83088244  f=0.1612, m=2.05, p0=0.002452, s=0.1912, \n",
      "prevFCN = 27.80916138  f=0.1617, \n",
      "prevFCN = 27.80747667  f=0.1607, \n",
      "prevFCN = 27.8108597  f=0.1612, m=2.051, \n",
      "prevFCN = 27.80008654  m=2.049, \n",
      "prevFCN = 27.81824943  m=2.05, p0=0.002389, \n",
      "prevFCN = 27.80819254  p0=0.002517, \n",
      "prevFCN = 27.81014384  p0=0.002452, s=0.1915, \n",
      "prevFCN = 27.80588557  s=0.1909, \n",
      "prevFCN = 27.81245596  f=0.1586, m=2.063, p0=0.002494, s=0.1885, \n",
      "prevFCN = 27.73587725  f=0.1482, m=2.115, p0=0.002664, s=0.1776, \n",
      "prevFCN = 27.48375843  f=0.1238, m=2.245, p0=0.003113, s=0.1503, \n",
      "prevFCN = 27.25126657  f=0.1259, m=2.233, p0=0.00307, s=0.1528, \n",
      "prevFCN = 27.25191362  f=0.1242, m=2.245, p0=0.003113, s=0.1503, \n",
      "prevFCN = 27.24751198  f=0.1233, \n",
      "prevFCN = 27.25503638  f=0.1238, m=2.246, \n",
      "prevFCN = 27.24721761  m=2.244, \n",
      "prevFCN = 27.25535396  m=2.245, \n",
      "prevFCN = 27.24888606  m=2.244, \n",
      "prevFCN = 27.25366031  m=2.245, p0=0.003042, \n",
      "prevFCN = 27.25015528  p0=0.003184, \n",
      "prevFCN = 27.25239171  p0=0.003113, s=0.1506, \n",
      "prevFCN = 27.24836407  s=0.1501, \n",
      "prevFCN = 27.25419131  f=0.1278, m=2.25, p0=0.002902, s=0.1516, \n",
      "prevFCN = 27.18258674  f=0.1444, m=2.271, p0=0.002135, s=0.1568, \n",
      "prevFCN = 26.94988199  f=0.1894, m=2.324, p0=0.0007304, s=0.1696, \n",
      "prevFCN = 26.65912753  f=0.199, m=2.334, p0=0.0005382, s=0.1722, \n",
      "prevFCN = 26.64749182  f=0.1995, \n",
      "prevFCN = 26.64645535  f=0.1985, \n",
      "prevFCN = 26.6485414  f=0.199, m=2.335, \n",
      "prevFCN = 26.64898097  m=2.334, \n",
      "prevFCN = 26.64601564  m=2.334, p0=0.00051, \n",
      "prevFCN = 26.64705112  p0=0.0005672, \n",
      "prevFCN = 26.64794455  p0=0.0005382, s=0.1724, \n",
      "prevFCN = 26.64689316  s=0.172, \n",
      "prevFCN = 26.64809351  s=0.1726, \n",
      "prevFCN = 26.64625829  s=0.1718, \n",
      "prevFCN = 26.64873829  f=0.2449, m=2.238, p0=2.003e-05, s=0.2236, \n",
      "prevFCN = 26.40406371  f=0.2455, \n",
      "prevFCN = 26.40354201  f=0.2444, \n",
      "prevFCN = 26.40459898  f=0.2449, m=2.238, \n",
      "prevFCN = 26.40349194  m=2.237, \n",
      "prevFCN = 26.40465231  m=2.238, p0=2.613e-05, \n",
      "prevFCN = 26.40416194  p0=1.474e-05, \n",
      "prevFCN = 26.40397852  p0=2.003e-05, s=0.224, \n",
      "prevFCN = 26.40455654  s=0.2232, \n",
      "prevFCN = 26.40358616  f=0.2634, m=2.259, p0=9.919e-06, s=0.2106, \n",
      "prevFCN = 26.37517394  f=0.265, m=2.261, p0=9.192e-06, s=0.2095, \n",
      "prevFCN = 26.37518567  f=0.2639, m=2.259, p0=9.919e-06, s=0.2106, \n",
      "prevFCN = 26.37513594  f=0.2628, \n",
      "prevFCN = 26.37522468  f=0.2634, m=2.259, \n",
      "prevFCN = 26.37517461  m=2.258, \n",
      "prevFCN = 26.37518745  m=2.259, p0=1.429e-05, \n",
      "prevFCN = 26.37524454  p0=6.344e-06, \n",
      "prevFCN = 26.3751162  p0=9.919e-06, s=0.211, \n",
      "prevFCN = 26.37519658  s=0.2102, \n",
      "prevFCN = 26.37516793  f=0.2653, m=2.259, p0=6.952e-07, s=0.2102, \n",
      "prevFCN = 26.37494234  f=0.2656, m=2.259, p0=2.431e-07, s=0.2102, \n",
      "prevFCN = 26.37493848  f=0.2661, \n",
      "prevFCN = 26.37495342  f=0.2651, \n",
      "prevFCN = 26.37493635  f=0.2656, m=2.26, \n",
      "prevFCN = 26.37494708  m=2.259, \n",
      "prevFCN = 26.37494277  m=2.259, p0=1.261e-06, \n",
      "prevFCN = 26.37495492  p0=1.87e-08, \n",
      "prevFCN = 26.37493485  p0=2.431e-07, s=0.2105, \n",
      "prevFCN = 26.37493985  s=0.2099, \n",
      "prevFCN = 26.37495007   MIGRAD MINIMIZATION HAS CONVERGED.\n",
      " MIGRAD WILL VERIFY CONVERGENCE AND ERROR MATRIX.\n",
      "s=0.2102, \n",
      "prevFCN = 26.37493848  f=0.2661, \n",
      "prevFCN = 26.37495342  f=0.2651, \n",
      "prevFCN = 26.37493635  f=0.2656, m=2.26, \n",
      "prevFCN = 26.37494708  m=2.259, \n",
      "prevFCN = 26.37494277  m=2.259, p0=1.261e-06, \n",
      "prevFCN = 26.37495492  p0=1.87e-08, \n",
      "prevFCN = 26.37493485  p0=2.431e-07, s=0.2105, \n",
      "prevFCN = 26.37493985  s=0.2099, \n",
      "prevFCN = 26.37495007  f=0.2657, s=0.2102, \n",
      "prevFCN = 26.37494044  f=0.2655, \n",
      "prevFCN = 26.37493703  f=0.2656, m=2.259, \n",
      "prevFCN = 26.37493917  m=2.259, \n",
      "prevFCN = 26.37493831  m=2.259, p0=3.831e-07, \n",
      "prevFCN = 26.37494074  p0=1.347e-07, \n",
      "prevFCN = 26.37493673  p0=2.431e-07, s=0.2103, \n",
      "prevFCN = 26.37493772  s=0.2101, \n",
      "prevFCN = 26.37493976  f=0.2661, m=2.26, s=0.2102, \n",
      "prevFCN = 26.37496271  m=2.259, p0=1.261e-06, \n",
      "prevFCN = 26.37496986  f=0.2656, m=2.26, \n",
      "prevFCN = 26.37496352  f=0.2661, m=2.259, p0=2.431e-07, s=0.2105, \n",
      "prevFCN = 26.37495439  f=0.2656, m=2.26, \n",
      "prevFCN = 26.3749495  m=2.259, p0=1.261e-06, \n",
      "prevFCN = 26.37495629   COVARIANCE MATRIX CALCULATED SUCCESSFULLY\n",
      " FCN=26.3749 FROM MIGRAD    STATUS=CONVERGED     193 CALLS         194 TOTAL\n",
      "                     EDM=1.56794e-05    STRATEGY= 1      ERROR MATRIX ACCURATE \n",
      "  EXT PARAMETER                                   STEP         FIRST   \n",
      "  NO.   NAME      VALUE            ERROR          SIZE      DERIVATIVE \n",
      "   1  f            2.65594e-01   1.49241e-01   1.23121e-03   6.93190e-03\n",
      "   2  m            2.25912e+00   1.40492e-01   5.15225e-05   4.18157e-02\n",
      "   3  p0           2.43070e-07   3.06283e-02   1.25952e-03** at limit **\n",
      "   4  s            2.10193e-01   9.36489e-02   3.35911e-05  -1.51623e-01\n",
      "                               ERR DEF= 0.5\n",
      " EXTERNAL ERROR MATRIX.    NDIM=  25    NPAR=  4    ERR DEF=0.5\n",
      "  2.318e-02 -1.212e-03 -3.916e-09  5.097e-04 \n",
      " -1.212e-03  1.974e-02  9.465e-10 -1.093e-03 \n",
      " -3.916e-09  9.465e-10  3.009e-08 -4.220e-10 \n",
      "  5.097e-04 -1.093e-03 -4.220e-10  8.770e-03 \n",
      " PARAMETER  CORRELATION COEFFICIENTS  \n",
      "       NO.  GLOBAL      1      2      3      4\n",
      "        1  0.06468   1.000 -0.057 -0.000  0.036\n",
      "        2  0.09892  -0.057  1.000  0.000 -0.083\n",
      "        3  0.00015  -0.000  0.000  1.000 -0.000\n",
      "        4  0.08868   0.036 -0.083 -0.000  1.000\n",
      "p0=2.431e-07, s=0.2102,  **********\n",
      " **    7 **SET ERR         0.5\n",
      " **********\n",
      " **********\n",
      " **    8 **SET PRINT           1\n",
      " **********\n",
      " **********\n",
      " **    9 **HESSE        2000\n",
      " **********\n",
      "\n",
      "prevFCN = 26.37493848  f=0.2657, \n",
      "prevFCN = 26.37494044  f=0.2655, \n",
      "prevFCN = 26.37493703  f=0.2656, m=2.259, \n",
      "prevFCN = 26.37493917  m=2.259, \n",
      "prevFCN = 26.37493831  m=2.259, p0=3.831e-07, \n",
      "prevFCN = 26.37494074  p0=1.347e-07, \n",
      "prevFCN = 26.37493673  p0=2.431e-07, s=0.2103, \n",
      "prevFCN = 26.37493772  s=0.2101, \n",
      "prevFCN = 26.37493976  f=0.2656, s=0.2102, \n",
      "prevFCN = 26.37493883  f=0.2656, \n",
      "prevFCN = 26.37493815  f=0.2656, m=2.259, \n",
      "prevFCN = 26.37493858  m=2.259, \n",
      "prevFCN = 26.3749384  m=2.259, p0=2.685e-07, \n",
      "prevFCN = 26.37493889  p0=2.189e-07, \n",
      "prevFCN = 26.37493809  p0=2.431e-07, s=0.2102, \n",
      "prevFCN = 26.37493829  s=0.2102, \n",
      "prevFCN = 26.37493869  f=0.2657, m=2.259, s=0.2102, \n",
      "prevFCN = 26.37494116  m=2.259, p0=3.831e-07, \n",
      "prevFCN = 26.37494271  f=0.2656, m=2.259, \n",
      "prevFCN = 26.37494143  f=0.2657, m=2.259, p0=2.431e-07, s=0.2103, \n",
      "prevFCN = 26.37493967  f=0.2656, m=2.259, \n",
      "prevFCN = 26.37493845  m=2.259, p0=3.831e-07, \n",
      "prevFCN = 26.37493998   COVARIANCE MATRIX CALCULATED SUCCESSFULLY\n",
      " FCN=26.3749 FROM HESSE     STATUS=OK             23 CALLS         217 TOTAL\n",
      "                     EDM=1.56808e-05    STRATEGY= 1      ERROR MATRIX ACCURATE \n",
      "  EXT PARAMETER                                INTERNAL      INTERNAL  \n",
      "  NO.   NAME      VALUE            ERROR       STEP SIZE       VALUE   \n",
      "   1  f            2.65594e-01   1.49241e-01   2.46242e-04  -4.87946e-01\n",
      "   2  m            2.25912e+00   1.40507e-01   1.03045e-05   2.27879e-01\n",
      "   3  p0           2.43070e-07   3.06284e-02   2.51905e-04  -1.56981e+00\n",
      "                                 WARNING -   - ABOVE PARAMETER IS AT LIMIT.\n",
      "   4  s            2.10193e-01   9.36610e-02   6.71822e-06   2.10208e-02\n",
      "                               ERR DEF= 0.5\n",
      " EXTERNAL ERROR MATRIX.    NDIM=  25    NPAR=  4    ERR DEF=0.5\n",
      "  2.318e-02 -1.209e-03 -2.698e-09  5.142e-04 \n",
      " -1.209e-03  1.974e-02  6.483e-10 -1.112e-03 \n",
      " -2.698e-09  6.483e-10  3.009e-08 -2.932e-10 \n",
      "  5.142e-04 -1.112e-03 -2.932e-10  8.773e-03 \n",
      " PARAMETER  CORRELATION COEFFICIENTS  \n",
      "       NO.  GLOBAL      1      2      3      4\n",
      "        1  0.06466   1.000 -0.057 -0.000  0.036\n",
      "        2  0.09998  -0.057  1.000  0.000 -0.084\n",
      "        3  0.00011  -0.000  0.000  1.000 -0.000\n",
      "        4  0.09009   0.036 -0.084 -0.000  1.000\n",
      "p0=2.431e-07, s=0.2102, [#1] INFO:Minization -- RooMinimizer::optimizeConst: deactivating const optimization\n"
     ]
    }
   ],
   "source": [
    "model.fitTo(data, ROOT.RooFit.Verbose(ROOT.kTRUE))"
   ]
  },
  {
   "cell_type": "markdown",
   "metadata": {},
   "source": [
    "Reset message service to default stream configuration"
   ]
  },
  {
   "cell_type": "code",
   "execution_count": 13,
   "metadata": {
    "collapsed": false
   },
   "outputs": [],
   "source": [
    "ROOT.RooMsgService.instance().reset()"
   ]
  },
  {
   "cell_type": "markdown",
   "metadata": {},
   "source": [
    "Show DEBUG level message on function tracing on all objects, output to\n",
    "file"
   ]
  },
  {
   "cell_type": "code",
   "execution_count": 14,
   "metadata": {
    "collapsed": false
   },
   "outputs": [
    {
     "data": {
      "text/plain": [
       "2"
      ]
     },
     "execution_count": 14,
     "metadata": {},
     "output_type": "execute_result"
    }
   ],
   "source": [
    "ROOT.RooMsgService.instance().addStream(\n",
    "    ROOT.RooFit.DEBUG,\n",
    "    ROOT.RooFit.Topic(\n",
    "        ROOT.RooFit.Tracing),\n",
    "    ROOT.RooFit.OutputFile(\"rf506_debug.log\"))"
   ]
  },
  {
   "cell_type": "markdown",
   "metadata": {},
   "source": [
    "Perform a fit to generate some tracing messages"
   ]
  },
  {
   "cell_type": "code",
   "execution_count": 15,
   "metadata": {
    "collapsed": false
   },
   "outputs": [
    {
     "data": {
      "text/plain": [
       "<ROOT.RooFitResult object at 0x(nil)>"
      ]
     },
     "execution_count": 15,
     "metadata": {},
     "output_type": "execute_result"
    },
    {
     "name": "stdout",
     "output_type": "stream",
     "text": [
      "[#1] INFO:Minization -- RooMinimizer::optimizeConst: activating const optimization\n",
      "[#1] INFO:Minization --  The following expressions will be evaluated in cache-and-track mode: (g,p)\n",
      " **********\n",
      " **   10 **SET PRINT           1\n",
      " **********\n",
      " **********\n",
      " **   11 **SET NOGRAD\n",
      " **********\n",
      " PARAMETER DEFINITIONS:\n",
      "    NO.   NAME         VALUE      STEP SIZE      LIMITS\n",
      "     1 f            2.65594e-01  1.49241e-01    0.00000e+00  1.00000e+00\n",
      "     2 m            2.25912e+00  1.40507e-01   -1.00000e+01  1.00000e+01\n",
      "     3 p0           2.43070e-07  3.06284e-02    0.00000e+00  1.00000e+00\n",
      " MINUIT WARNING IN PARAMETR\n",
      " ============== VARIABLE3 BROUGHT BACK INSIDE LIMITS.\n",
      "     4 s            2.10193e-01  9.36610e-02   -1.00000e+01  1.00000e+01\n",
      " **********\n",
      " **   12 **SET ERR         0.5\n",
      " **********\n",
      " **********\n",
      " **   13 **SET PRINT           1\n",
      " **********\n",
      " **********\n",
      " **   14 **SET STR           1\n",
      " **********\n",
      " NOW USING STRATEGY  1: TRY TO BALANCE SPEED AGAINST RELIABILITY\n",
      " **********\n",
      " **   15 **MIGRAD        2000           1\n",
      " **********\n",
      " FIRST CALL TO USER FUNCTION AT NEW START POINT, WITH IFLAG=4.\n",
      "\n",
      "prevFCN = 26.37493848   START MIGRAD MINIMIZATION.  STRATEGY  1.  CONVERGENCE WHEN EDM .LT. 1.00e-03\n",
      "f=0.2671, \n",
      "prevFCN = 26.37501513  f=0.264, \n",
      "prevFCN = 26.37496638  f=0.2661, \n",
      "prevFCN = 26.37495342  f=0.2651, \n",
      "prevFCN = 26.37493635  f=0.2656, m=2.261, \n",
      "prevFCN = 26.37499499  m=2.258, \n",
      "prevFCN = 26.37498298  m=2.26, \n",
      "prevFCN = 26.37494703  m=2.259, \n",
      "prevFCN = 26.37494274  m=2.259, p0=1.884e-06, \n",
      "prevFCN = 26.37496499  p0=1.494e-07, \n",
      "prevFCN = 26.37493697  p0=1.261e-06, \n",
      "prevFCN = 26.37495492  p0=1.869e-08, \n",
      "prevFCN = 26.37493485  p0=2.431e-07, s=0.2111, \n",
      "prevFCN = 26.37497434  s=0.2093, \n",
      "prevFCN = 26.37500344  s=0.2105, \n",
      "prevFCN = 26.37493981  s=0.2099, \n",
      "prevFCN = 26.37494997   FCN=26.3749 FROM MIGRAD    STATUS=INITIATE       16 CALLS          17 TOTAL\n",
      "                     EDM= unknown      STRATEGY= 1      NO ERROR MATRIX       \n",
      "  EXT PARAMETER               CURRENT GUESS       STEP         FIRST   \n",
      "  NO.   NAME      VALUE            ERROR          SIZE      DERIVATIVE \n",
      "   1  f            2.65594e-01   1.49241e-01   3.51723e-01   6.93184e-03\n",
      "   2  m            2.25912e+00   1.40507e-01   1.44241e-02   4.17912e-02\n",
      "   3  p0           2.43070e-07   3.06284e-02   1.75907e-01** at limit **\n",
      "   4  s            2.10193e-01   9.36610e-02   9.36831e-03  -1.52079e-01\n",
      "                               ERR DEF= 0.5\n",
      "f=0.2652, m=2.259, p0=0, s=0.2103, \n",
      "prevFCN = 26.37493064  f=0.2658, \n",
      "prevFCN = 26.37493677  f=0.2647, \n",
      "prevFCN = 26.37493732  f=0.2652, m=2.26, \n",
      "prevFCN = 26.37493701  m=2.259, \n",
      "prevFCN = 26.37493707  m=2.259, p0=3.966e-07, \n",
      "prevFCN = 26.37493705  p0=3.966e-07, \n",
      "prevFCN = 26.37493705  p0=0, s=0.2107, \n",
      "prevFCN = 26.37493711  s=0.21, \n",
      "prevFCN = 26.37493695   MIGRAD MINIMIZATION HAS CONVERGED.\n",
      " MIGRAD WILL VERIFY CONVERGENCE AND ERROR MATRIX.\n",
      "s=0.2103, \n",
      "prevFCN = 26.37493064  f=0.2658, \n",
      "prevFCN = 26.37493677  f=0.2647, \n",
      "prevFCN = 26.37493732  f=0.2652, m=2.26, \n",
      "prevFCN = 26.37493701  m=2.259, \n",
      "prevFCN = 26.37493707  m=2.259, p0=3.966e-07, \n",
      "prevFCN = 26.37493705  p0=3.966e-07, \n",
      "prevFCN = 26.37493705  p0=0, s=0.2107, \n",
      "prevFCN = 26.37493711  s=0.21, \n",
      "prevFCN = 26.37493695  f=0.2653, s=0.2103, \n",
      "prevFCN = 26.37493084  f=0.2651, \n",
      "prevFCN = 26.37493095  f=0.2652, m=2.259, \n",
      "prevFCN = 26.37493089  m=2.259, \n",
      "prevFCN = 26.3749309  m=2.259, p0=1.586e-08, \n",
      "prevFCN = 26.3749309  p0=1.586e-08, \n",
      "prevFCN = 26.3749309  p0=0, s=0.2104, \n",
      "prevFCN = 26.37493092  s=0.2103, \n",
      "prevFCN = 26.37493088  s=0.2103, \n",
      "prevFCN = 26.37493065  s=0.2103, \n",
      "prevFCN = 26.37493065  f=0.2658, m=2.26, s=0.2103, \n",
      "prevFCN = 26.37494383  m=2.259, p0=3.966e-07, \n",
      "prevFCN = 26.37494318  f=0.2652, m=2.26, \n",
      "prevFCN = 26.37494341  f=0.2658, m=2.259, p0=0, s=0.2107, \n",
      "prevFCN = 26.37494285  f=0.2652, m=2.26, \n",
      "prevFCN = 26.37494452  m=2.259, p0=3.966e-07, \n",
      "prevFCN = 26.37494352   COVARIANCE MATRIX CALCULATED SUCCESSFULLY\n",
      " FCN=26.3749 FROM MIGRAD    STATUS=CONVERGED      50 CALLS          51 TOTAL\n",
      "                     EDM=6.57572e-09    STRATEGY= 1      ERROR MATRIX ACCURATE \n",
      "  EXT PARAMETER                                   STEP         FIRST   \n",
      "  NO.   NAME      VALUE            ERROR          SIZE      DERIVATIVE \n",
      "   1  f            2.65232e-01   1.49169e-01   1.23139e-03  -2.23422e-04\n",
      "   2  m            2.25903e+00   1.40588e-01   5.13765e-05  -6.31229e-04\n",
      "   3  p0           0.00000e+00   3.06306e-02   1.25948e-03** at limit **\n",
      "   4  s            2.10325e-01   9.37986e-02   3.34002e-05   2.91861e-03\n",
      "                               ERR DEF= 0.5\n",
      " EXTERNAL ERROR MATRIX.    NDIM=  25    NPAR=  4    ERR DEF=0.5\n",
      "  2.315e-02 -1.210e-03 -5.628e-15  5.077e-04 \n",
      " -1.210e-03  1.977e-02  1.354e-15 -1.100e-03 \n",
      " -5.628e-15  1.354e-15  4.082e-19 -6.027e-16 \n",
      "  5.077e-04 -1.100e-03 -6.027e-16  8.798e-03 \n",
      " PARAMETER  CORRELATION COEFFICIENTS  \n",
      "       NO.  GLOBAL      1      2      3      4\n",
      "        1  0.06446   1.000 -0.057 -0.000  0.036\n",
      "        2  0.09915  -0.057  1.000  0.000 -0.083\n",
      "        3  0.00006  -0.000  0.000  1.000 -0.000\n",
      "        4  0.08895   0.036 -0.083 -0.000  1.000\n",
      "p0=0, s=0.2103,  **********\n",
      " **   16 **SET ERR         0.5\n",
      " **********\n",
      " **********\n",
      " **   17 **SET PRINT           1\n",
      " **********\n",
      " **********\n",
      " **   18 **HESSE        2000\n",
      " **********\n",
      "\n",
      "prevFCN = 26.37493064  f=0.2653, \n",
      "prevFCN = 26.37493084  f=0.2651, \n",
      "prevFCN = 26.37493095  f=0.2652, m=2.259, \n",
      "prevFCN = 26.37493089  m=2.259, \n",
      "prevFCN = 26.3749309  m=2.259, p0=1.586e-08, \n",
      "prevFCN = 26.3749309  p0=1.586e-08, \n",
      "prevFCN = 26.3749309  p0=0, s=0.2103, \n",
      "prevFCN = 26.37493065  s=0.2103, \n",
      "prevFCN = 26.37493065  f=0.2653, s=0.2103, \n",
      "prevFCN = 26.37493064  f=0.2652, \n",
      "prevFCN = 26.37493066  f=0.2652, m=2.259, \n",
      "prevFCN = 26.37493065  m=2.259, \n",
      "prevFCN = 26.37493065  m=2.259, p0=6.346e-10, \n",
      "prevFCN = 26.37493065  p0=6.344e-10, \n",
      "prevFCN = 26.37493065  p0=0, s=0.2103, \n",
      "prevFCN = 26.37493064  s=0.2103, \n",
      "prevFCN = 26.37493064  f=0.2653, m=2.259, s=0.2103, \n",
      "prevFCN = 26.37493112  m=2.259, p0=1.586e-08, \n",
      "prevFCN = 26.3749311  f=0.2652, m=2.259, \n",
      "prevFCN = 26.37493115  f=0.2653, m=2.259, p0=0, s=0.2103, \n",
      "prevFCN = 26.37493085  f=0.2652, m=2.259, \n",
      "prevFCN = 26.37493091  m=2.259, p0=1.586e-08, \n",
      "prevFCN = 26.37493091   COVARIANCE MATRIX CALCULATED SUCCESSFULLY\n",
      " FCN=26.3749 FROM HESSE     STATUS=OK             23 CALLS          74 TOTAL\n",
      "                     EDM=6.57539e-09    STRATEGY= 1      ERROR MATRIX ACCURATE \n",
      "  EXT PARAMETER                                INTERNAL      INTERNAL  \n",
      "  NO.   NAME      VALUE            ERROR       STEP SIZE       VALUE   \n",
      "   1  f            2.65232e-01   1.49169e-01   2.46277e-04  -4.88766e-01\n",
      "   2  m            2.25903e+00   1.40604e-01   1.02753e-05   2.27870e-01\n",
      "   3  p0           0.00000e+00   3.06307e-02   2.51897e-04  -1.57080e+00\n",
      "                                 WARNING -   - ABOVE PARAMETER IS AT LIMIT.\n",
      "   4  s            2.10325e-01   9.38116e-02   1.33601e-06   2.10341e-02\n",
      "                               ERR DEF= 0.5\n",
      " EXTERNAL ERROR MATRIX.    NDIM=  25    NPAR=  4    ERR DEF=0.5\n",
      "  2.315e-02 -1.206e-03 -1.126e-15  5.130e-04 \n",
      " -1.206e-03  1.977e-02  2.706e-16 -1.120e-03 \n",
      " -1.126e-15  2.706e-16  4.082e-19 -1.237e-16 \n",
      "  5.130e-04 -1.120e-03 -1.237e-16  8.801e-03 \n",
      " PARAMETER  CORRELATION COEFFICIENTS  \n",
      "       NO.  GLOBAL      1      2      3      4\n",
      "        1  0.06446   1.000 -0.056 -0.000  0.036\n",
      "        2  0.10029  -0.056  1.000  0.000 -0.085\n",
      "        3  0.00001  -0.000  0.000  1.000 -0.000\n",
      "        4  0.09046   0.036 -0.085 -0.000  1.000\n",
      "p0=0, s=0.2103, [#1] INFO:Minization -- RooMinimizer::optimizeConst: deactivating const optimization\n"
     ]
    }
   ],
   "source": [
    "model.fitTo(data, ROOT.RooFit.Verbose(ROOT.kTRUE))"
   ]
  },
  {
   "cell_type": "markdown",
   "metadata": {},
   "source": [
    "Reset message service to default stream configuration"
   ]
  },
  {
   "cell_type": "code",
   "execution_count": 16,
   "metadata": {
    "collapsed": false
   },
   "outputs": [],
   "source": [
    "ROOT.RooMsgService.instance().reset()"
   ]
  },
  {
   "cell_type": "markdown",
   "metadata": {},
   "source": [
    "Example of another debugging stream\n",
    "---------------------------------------------------------------------"
   ]
  },
  {
   "cell_type": "markdown",
   "metadata": {},
   "source": [
    "Show DEBUG level messages on client/server link state management"
   ]
  },
  {
   "cell_type": "code",
   "execution_count": 17,
   "metadata": {
    "collapsed": false
   },
   "outputs": [
    {
     "name": "stdout",
     "output_type": "stream",
     "text": [
      "All Message streams\n",
      "[0] MinLevel = PROGRESS Topic =  Any \n",
      "[1] MinLevel = INFO Topic = Minization Plotting Fitting Eval Caching ObjectHandling InputArguments DataHandling NumericIntegration \n",
      "[2] MinLevel = DEBUG Topic = LinkStateMgmt \n"
     ]
    }
   ],
   "source": [
    "ROOT.RooMsgService.instance().addStream(\n",
    "    ROOT.RooFit.DEBUG, ROOT.RooFit.Topic(ROOT.RooFit.LinkStateMgmt))\n",
    "ROOT.RooMsgService.instance().Print(\"v\")"
   ]
  },
  {
   "cell_type": "markdown",
   "metadata": {},
   "source": [
    "Clone composite pdf g to trigger some link state management activity"
   ]
  },
  {
   "cell_type": "code",
   "execution_count": 18,
   "metadata": {
    "collapsed": false
   },
   "outputs": [
    {
     "name": "stdout",
     "output_type": "stream",
     "text": [
      "[#2] DEBUG:LinkStateMgmt -- RooAbsArg::addServer(0x556ef16fe860,g): adding server x(0x556eef400290) for value \n",
      "[#2] DEBUG:LinkStateMgmt -- RooAbsArg::addServer(0x556ef16fe860,g): adding server m(0x556eeffa33f0) for value \n",
      "[#2] DEBUG:LinkStateMgmt -- RooAbsArg::addServer(0x556ef16fe860,g): adding server s(0x556eef400640) for value \n",
      "[#2] DEBUG:LinkStateMgmt -- RooAbsArg::addServer(0x556ef16fe860,g): adding server x(0x556eef400290) for value \n",
      "[#2] DEBUG:LinkStateMgmt -- RooAbsArg::addServer(0x556ef16fe860,g): adding server m(0x556eeffa33f0) for value \n",
      "[#2] DEBUG:LinkStateMgmt -- RooAbsArg::addServer(0x556ef16fe860,g): adding server s(0x556eef400640) for value \n",
      "[#2] DEBUG:LinkStateMgmt -- RooAbsArg::addServer(0x556ef16fe860,g): adding server x(0x556ef176a990) for value \n",
      "[#2] DEBUG:LinkStateMgmt -- RooAbsArg::addServer(0x556ef16fe860,g): adding server m(0x556ef16ada20) for value \n",
      "[#2] DEBUG:LinkStateMgmt -- RooAbsArg::addServer(0x556ef16fe860,g): adding server s(0x556ef1680bf0) for value \n",
      "RooGaussian::g[ x=x mean=m sigma=s ] = 8.902e-26\n"
     ]
    }
   ],
   "source": [
    "gprime = gauss.cloneTree()\n",
    "gprime.Print()"
   ]
  },
  {
   "cell_type": "markdown",
   "metadata": {},
   "source": [
    "Reset message service to default stream configuration"
   ]
  },
  {
   "cell_type": "code",
   "execution_count": 19,
   "metadata": {
    "collapsed": false
   },
   "outputs": [],
   "source": [
    "ROOT.RooMsgService.instance().reset()"
   ]
  }
 ],
 "metadata": {
  "kernelspec": {
   "display_name": "Python 2",
   "language": "python",
   "name": "python2"
  },
  "language_info": {
   "codemirror_mode": {
    "name": "ipython",
    "version": 2
   },
   "file_extension": ".py",
   "mimetype": "text/x-python",
   "name": "python",
   "nbconvert_exporter": "python",
   "pygments_lexer": "ipython2",
   "version": "2.7.10"
  }
 },
 "nbformat": 4,
 "nbformat_minor": 2
}
