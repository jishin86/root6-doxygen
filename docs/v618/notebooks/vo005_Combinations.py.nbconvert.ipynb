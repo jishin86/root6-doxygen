{
 "cells": [
  {
   "cell_type": "markdown",
   "metadata": {},
   "source": [
    "# Vo 0 0 5_ Combinations\n",
    "In this tutorial we learn how combinations of RVecs can be build.\n",
    "\n",
    "\n",
    "\n",
    "\n",
    "**Author:** Stefan Wunsch  \n",
    "<i><small>This notebook tutorial was automatically generated with <a href= \"https://github.com/root-project/root/blob/master/documentation/doxygen/converttonotebook.py\">ROOTBOOK-izer</a> from the macro found in the ROOT repository  on Thursday, August 29, 2019 at 04:07 AM.</small></i>"
   ]
  },
  {
   "cell_type": "code",
   "execution_count": 1,
   "metadata": {
    "collapsed": false
   },
   "outputs": [
    {
     "name": "stdout",
     "output_type": "stream",
     "text": [
      "Welcome to JupyROOT 6.18/03\n"
     ]
    }
   ],
   "source": [
    "import ROOT\n",
    "from ROOT.VecOps import RVec, Take, Combinations"
   ]
  },
  {
   "cell_type": "markdown",
   "metadata": {},
   "source": [
    "RVec can be sorted in Python with the inbuilt sorting function because\n",
    "PyROOT implements a Python iterator"
   ]
  },
  {
   "cell_type": "code",
   "execution_count": 2,
   "metadata": {
    "collapsed": false
   },
   "outputs": [],
   "source": [
    "v1 = RVec(\"double\")(3)\n",
    "v1[0], v1[1], v1[2] = 1, 2, 3\n",
    "v2 = RVec(\"double\")(2)\n",
    "v2[0], v2[1] = -4, -5"
   ]
  },
  {
   "cell_type": "markdown",
   "metadata": {},
   "source": [
    "To get the indices, which result in all combinations, you can call the\n",
    "following helper.\n",
    "Note that you can also pass the size of the vectors directly."
   ]
  },
  {
   "cell_type": "code",
   "execution_count": 3,
   "metadata": {
    "collapsed": false
   },
   "outputs": [],
   "source": [
    "idx = Combinations(v1, v2)"
   ]
  },
  {
   "cell_type": "markdown",
   "metadata": {},
   "source": [
    "Next, the respective elements can be taken via the computed indices."
   ]
  },
  {
   "cell_type": "code",
   "execution_count": 4,
   "metadata": {
    "collapsed": false
   },
   "outputs": [],
   "source": [
    "c1 = Take(v1, idx[0])\n",
    "c2 = Take(v2, idx[1])"
   ]
  },
  {
   "cell_type": "markdown",
   "metadata": {},
   "source": [
    "Finally, you can perform any set of operations conveniently."
   ]
  },
  {
   "cell_type": "code",
   "execution_count": 5,
   "metadata": {
    "collapsed": false
   },
   "outputs": [
    {
     "name": "stdout",
     "output_type": "stream",
     "text": [
      "Combinations of { 1.0000000, 2.0000000, 3.0000000 } and { -4.0000000, -5.0000000 }:\n",
      "1.0 * -4.0 = -4.0\n",
      "1.0 * -5.0 = -5.0\n",
      "2.0 * -4.0 = -8.0\n",
      "2.0 * -5.0 = -10.0\n",
      "3.0 * -4.0 = -12.0\n",
      "3.0 * -5.0 = -15.0\n",
      "\n"
     ]
    }
   ],
   "source": [
    "v3 = c1 * c2\n",
    "\n",
    "print(\"Combinations of {} and {}:\".format(v1, v2))\n",
    "for i in range(len(v3)):\n",
    "    print(\"{} * {} = {}\".format(c1[i], c2[i], v3[i]))\n",
    "print"
   ]
  },
  {
   "cell_type": "markdown",
   "metadata": {},
   "source": [
    "However, if you want to compute operations on unique combinations of a\n",
    "single RVec, you can perform this as follows."
   ]
  },
  {
   "cell_type": "markdown",
   "metadata": {},
   "source": [
    "Get the indices of unique triples for the given vector."
   ]
  },
  {
   "cell_type": "code",
   "execution_count": 6,
   "metadata": {
    "collapsed": false
   },
   "outputs": [],
   "source": [
    "v4 = RVec(\"double\")(4)\n",
    "v4[0], v4[1], v4[2], v4[3] = 1, 2, 3, 4\n",
    "idx2 = Combinations(v4, 3)"
   ]
  },
  {
   "cell_type": "markdown",
   "metadata": {},
   "source": [
    "Take the elements and compute any operation on the returned collections."
   ]
  },
  {
   "cell_type": "code",
   "execution_count": 7,
   "metadata": {
    "collapsed": false
   },
   "outputs": [
    {
     "name": "stdout",
     "output_type": "stream",
     "text": [
      "Unique triples of { 1.0000000, 2.0000000, 3.0000000, 4.0000000 }:\n",
      "1.0 * 2.0 * 3.0 = 6.0\n",
      "1.0 * 2.0 * 4.0 = 8.0\n",
      "1.0 * 3.0 * 4.0 = 12.0\n",
      "2.0 * 3.0 * 4.0 = 24.0\n"
     ]
    }
   ],
   "source": [
    "c3 = Take(v4, idx2[0])\n",
    "c4 = Take(v4, idx2[1])\n",
    "c5 = Take(v4, idx2[2])\n",
    "\n",
    "v5 = c3 * c4 * c5\n",
    "\n",
    "print(\"Unique triples of {}:\".format(v4))\n",
    "for i in range(len(v5)):\n",
    "    print(\"{} * {} * {} = {}\".format(c3[i], c4[i], c5[i], v5[i]))"
   ]
  }
 ],
 "metadata": {
  "kernelspec": {
   "display_name": "Python 2",
   "language": "python",
   "name": "python2"
  },
  "language_info": {
   "codemirror_mode": {
    "name": "ipython",
    "version": 2
   },
   "file_extension": ".py",
   "mimetype": "text/x-python",
   "name": "python",
   "nbconvert_exporter": "python",
   "pygments_lexer": "ipython2",
   "version": "2.7.10"
  }
 },
 "nbformat": 4,
 "nbformat_minor": 2
}
