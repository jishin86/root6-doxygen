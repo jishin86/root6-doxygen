{
 "cells": [
  {
   "cell_type": "markdown",
   "metadata": {},
   "source": [
    "# Rf 6 1 0_Visualerror\n",
    "\n",
    "Likelihood and minimization: visualization of errors from a covariance matrix\n",
    "\n",
    "\n",
    "\n",
    "\n",
    "**Author:** Clemens Lange, Wouter Verkerke (C++ version)  \n",
    "<i><small>This notebook tutorial was automatically generated with <a href= \"https://github.com/root-project/root/blob/master/documentation/doxygen/converttonotebook.py\">ROOTBOOK-izer</a> from the macro found in the ROOT repository  on Thursday, August 29, 2019 at 03:00 AM.</small></i>"
   ]
  },
  {
   "cell_type": "code",
   "execution_count": 1,
   "metadata": {
    "collapsed": false
   },
   "outputs": [
    {
     "name": "stdout",
     "output_type": "stream",
     "text": [
      "Welcome to JupyROOT 6.18/03\n"
     ]
    }
   ],
   "source": [
    "import ROOT"
   ]
  },
  {
   "cell_type": "markdown",
   "metadata": {},
   "source": [
    "Setup example fit\n",
    "---------------------------------------"
   ]
  },
  {
   "cell_type": "markdown",
   "metadata": {},
   "source": [
    "Create sum of two Gaussians p.d.f. with factory"
   ]
  },
  {
   "cell_type": "code",
   "execution_count": 2,
   "metadata": {
    "collapsed": false
   },
   "outputs": [
    {
     "name": "stdout",
     "output_type": "stream",
     "text": [
      "\n",
      "\u001b[1mRooFit v3.60 -- Developed by Wouter Verkerke and David Kirkby\u001b[0m \n",
      "                Copyright (C) 2000-2013 NIKHEF, University of California & Stanford University\n",
      "                All rights reserved, please read http://roofit.sourceforge.net/license.txt\n",
      "\n"
     ]
    }
   ],
   "source": [
    "x = ROOT.RooRealVar(\"x\", \"x\", -10, 10)\n",
    "\n",
    "m = ROOT.RooRealVar(\"m\", \"m\", 0, -10, 10)\n",
    "s = ROOT.RooRealVar(\"s\", \"s\", 2, 1, 50)\n",
    "sig = ROOT.RooGaussian(\"sig\", \"sig\", x, m, s)\n",
    "\n",
    "m2 = ROOT.RooRealVar(\"m2\", \"m2\", -1, -10, 10)\n",
    "s2 = ROOT.RooRealVar(\"s2\", \"s2\", 6, 1, 50)\n",
    "bkg = ROOT.RooGaussian(\"bkg\", \"bkg\", x, m2, s2)\n",
    "\n",
    "fsig = ROOT.RooRealVar(\"fsig\", \"fsig\", 0.33, 0, 1)\n",
    "model = ROOT.RooAddPdf(\"model\", \"model\", ROOT.RooArgList(\n",
    "    sig, bkg), ROOT.RooArgList(fsig))"
   ]
  },
  {
   "cell_type": "markdown",
   "metadata": {},
   "source": [
    "Create binned dataset"
   ]
  },
  {
   "cell_type": "code",
   "execution_count": 3,
   "metadata": {
    "collapsed": false
   },
   "outputs": [],
   "source": [
    "x.setBins(25)\n",
    "d = model.generateBinned(ROOT.RooArgSet(x), 1000)"
   ]
  },
  {
   "cell_type": "markdown",
   "metadata": {},
   "source": [
    "Perform fit and save fit result"
   ]
  },
  {
   "cell_type": "code",
   "execution_count": 4,
   "metadata": {
    "collapsed": false
   },
   "outputs": [
    {
     "name": "stdout",
     "output_type": "stream",
     "text": [
      "[#1] INFO:Minization -- RooMinimizer::optimizeConst: activating const optimization\n",
      "[#1] INFO:Minization --  The following expressions will be evaluated in cache-and-track mode: (sig,bkg)\n",
      " **********\n",
      " **    1 **SET PRINT           1\n",
      " **********\n",
      " **********\n",
      " **    2 **SET NOGRAD\n",
      " **********\n",
      " PARAMETER DEFINITIONS:\n",
      "    NO.   NAME         VALUE      STEP SIZE      LIMITS\n",
      "     1 fsig         3.30000e-01  1.00000e-01    0.00000e+00  1.00000e+00\n",
      "     2 m            0.00000e+00  2.00000e+00   -1.00000e+01  1.00000e+01\n",
      "     3 m2          -1.00000e+00  2.00000e+00   -1.00000e+01  1.00000e+01\n",
      "     4 s            2.00000e+00  5.00000e-01    1.00000e+00  5.00000e+01\n",
      "     5 s2           6.00000e+00  2.50000e+00    1.00000e+00  5.00000e+01\n",
      " **********\n",
      " **    3 **SET ERR         0.5\n",
      " **********\n",
      " **********\n",
      " **    4 **SET PRINT           1\n",
      " **********\n",
      " **********\n",
      " **    5 **SET STR           1\n",
      " **********\n",
      " NOW USING STRATEGY  1: TRY TO BALANCE SPEED AGAINST RELIABILITY\n",
      " **********\n",
      " **    6 **MIGRAD        2500           1\n",
      " **********\n",
      " FIRST CALL TO USER FUNCTION AT NEW START POINT, WITH IFLAG=4.\n",
      " START MIGRAD MINIMIZATION.  STRATEGY  1.  CONVERGENCE WHEN EDM .LT. 1.00e-03\n",
      " FCN=2770.05 FROM MIGRAD    STATUS=INITIATE       20 CALLS          21 TOTAL\n",
      "                     EDM= unknown      STRATEGY= 1      NO ERROR MATRIX       \n",
      "  EXT PARAMETER               CURRENT GUESS       STEP         FIRST   \n",
      "  NO.   NAME      VALUE            ERROR          SIZE      DERIVATIVE \n",
      "   1  fsig         3.30000e-01   1.00000e-01   2.14988e-01  -9.80006e+00\n",
      "   2  m            0.00000e+00   2.00000e+00   2.01358e-01  -3.95919e+01\n",
      "   3  m2          -1.00000e+00   2.00000e+00   2.02430e-01   3.98515e+01\n",
      "   4  s            2.00000e+00   5.00000e-01   7.46809e-02   2.95415e+01\n",
      "   5  s2           6.00000e+00   2.50000e+00   1.74125e-01   4.56667e+01\n",
      "                               ERR DEF= 0.5\n",
      " MIGRAD MINIMIZATION HAS CONVERGED.\n",
      " MIGRAD WILL VERIFY CONVERGENCE AND ERROR MATRIX.\n",
      " COVARIANCE MATRIX CALCULATED SUCCESSFULLY\n",
      " FCN=2767.65 FROM MIGRAD    STATUS=CONVERGED     125 CALLS         126 TOTAL\n",
      "                     EDM=1.56678e-05    STRATEGY= 1      ERROR MATRIX ACCURATE \n",
      "  EXT PARAMETER                                   STEP         FIRST   \n",
      "  NO.   NAME      VALUE            ERROR          SIZE      DERIVATIVE \n",
      "   1  fsig         2.98883e-01   6.74303e-02   2.39863e-03   7.00359e-03\n",
      "   2  m            3.08816e-01   2.09098e-01   6.83546e-04  -2.93512e-02\n",
      "   3  m2          -1.31219e+00   3.64277e-01   9.46152e-04   8.97852e-02\n",
      "   4  s            1.78229e+00   2.51997e-01   9.25951e-04  -2.49363e-02\n",
      "   5  s2           5.51197e+00   4.85498e-01   6.94615e-04   1.27501e-01\n",
      "                               ERR DEF= 0.5\n",
      " EXTERNAL ERROR MATRIX.    NDIM=  25    NPAR=  5    ERR DEF=0.5\n",
      "  4.580e-03 -3.800e-03 -1.557e-02  1.331e-02  2.642e-02 \n",
      " -3.800e-03  4.373e-02 -3.141e-03 -1.195e-02 -2.959e-02 \n",
      " -1.557e-02 -3.141e-03  1.328e-01 -4.509e-02 -1.100e-01 \n",
      "  1.331e-02 -1.195e-02 -4.509e-02  6.354e-02  7.253e-02 \n",
      "  2.642e-02 -2.959e-02 -1.100e-01  7.253e-02  2.358e-01 \n",
      " PARAMETER  CORRELATION COEFFICIENTS  \n",
      "       NO.  GLOBAL      1      2      3      4      5\n",
      "        1  0.89430   1.000 -0.269 -0.632  0.780  0.804\n",
      "        2  0.43384  -0.269  1.000 -0.041 -0.227 -0.291\n",
      "        3  0.70478  -0.632 -0.041  1.000 -0.491 -0.621\n",
      "        4  0.78303   0.780 -0.227 -0.491  1.000  0.593\n",
      "        5  0.82883   0.804 -0.291 -0.621  0.593  1.000\n",
      " **********\n",
      " **    7 **SET ERR         0.5\n",
      " **********\n",
      " **********\n",
      " **    8 **SET PRINT           1\n",
      " **********\n",
      " **********\n",
      " **    9 **HESSE        2500\n",
      " **********\n",
      " COVARIANCE MATRIX CALCULATED SUCCESSFULLY\n",
      " FCN=2767.65 FROM HESSE     STATUS=OK             31 CALLS         157 TOTAL\n",
      "                     EDM=1.56685e-05    STRATEGY= 1      ERROR MATRIX ACCURATE \n",
      "  EXT PARAMETER                                INTERNAL      INTERNAL  \n",
      "  NO.   NAME      VALUE            ERROR       STEP SIZE       VALUE   \n",
      "   1  fsig         2.98883e-01   6.78952e-02   4.79727e-04  -4.13956e-01\n",
      "   2  m            3.08816e-01   2.09026e-01   1.36709e-04   3.08865e-02\n",
      "   3  m2          -1.31219e+00   3.67042e-01   1.89230e-04  -1.31599e-01\n",
      "   4  s            1.78229e+00   2.53102e-01   1.85190e-04  -1.31741e+00\n",
      "   5  s2           5.51197e+00   4.89300e-01   1.38923e-04  -9.54177e-01\n",
      "                               ERR DEF= 0.5\n",
      " EXTERNAL ERROR MATRIX.    NDIM=  25    NPAR=  5    ERR DEF=0.5\n",
      "  4.644e-03 -3.811e-03 -1.596e-02  1.350e-02  2.692e-02 \n",
      " -3.811e-03  4.370e-02 -2.970e-03 -1.206e-02 -2.967e-02 \n",
      " -1.596e-02 -2.970e-03  1.348e-01 -4.619e-02 -1.129e-01 \n",
      "  1.350e-02 -1.206e-02 -4.619e-02  6.410e-02  7.402e-02 \n",
      "  2.692e-02 -2.967e-02 -1.129e-01  7.402e-02  2.395e-01 \n",
      " PARAMETER  CORRELATION COEFFICIENTS  \n",
      "       NO.  GLOBAL      1      2      3      4      5\n",
      "        1  0.89584   1.000 -0.268 -0.638  0.782  0.807\n",
      "        2  0.43319  -0.268  1.000 -0.039 -0.228 -0.290\n",
      "        3  0.71012  -0.638 -0.039  1.000 -0.497 -0.628\n",
      "        4  0.78518   0.782 -0.228 -0.497  1.000  0.597\n",
      "        5  0.83175   0.807 -0.290 -0.628  0.597  1.000\n",
      "[#1] INFO:Minization -- RooMinimizer::optimizeConst: deactivating const optimization\n"
     ]
    }
   ],
   "source": [
    "r = model.fitTo(d, ROOT.RooFit.Save())"
   ]
  },
  {
   "cell_type": "markdown",
   "metadata": {},
   "source": [
    "Visualize fit error\n",
    "-------------------------------------"
   ]
  },
  {
   "cell_type": "markdown",
   "metadata": {},
   "source": [
    "Make plot frame"
   ]
  },
  {
   "cell_type": "code",
   "execution_count": 5,
   "metadata": {
    "collapsed": false
   },
   "outputs": [
    {
     "data": {
      "text/plain": [
       "<ROOT.RooPlot object (\"frame_x_55dd302f75f0\") at 0x55dd302f75f0>"
      ]
     },
     "execution_count": 5,
     "metadata": {},
     "output_type": "execute_result"
    }
   ],
   "source": [
    "frame = x.frame(ROOT.RooFit.Bins(40), ROOT.RooFit.Title(\n",
    "    \"P.d.f with visualized 1-sigma error band\"))\n",
    "d.plotOn(frame)"
   ]
  },
  {
   "cell_type": "markdown",
   "metadata": {},
   "source": [
    "Visualize 1-sigma error encoded in fit result 'r' as orange band using linear error propagation\n",
    "ROOT.This results in an error band that is by construction symmetric\n",
    "\n",
    "The linear error is calculated as\n",
    "error(x) = Z* F_a(x) * Corr(a,a') F_a'(x)\n",
    "\n",
    "where     F_a(x) = [ f(x,a+da) - f(x,a-da) ] / 2,\n",
    "\n",
    "        with f(x) = the plotted curve\n",
    "             'da' = error taken from the fit result\n",
    "       Corr(a,a') = the correlation matrix from the fit result\n",
    "               Z = requested significance 'Z sigma band'\n",
    "\n",
    "The linear method is fast (required 2*N evaluations of the curve, N is the number of parameters),\n",
    "but may not be accurate in the presence of strong correlations (~>0.9) and at Z>2 due to linear and\n",
    "Gaussian approximations made"
   ]
  },
  {
   "cell_type": "code",
   "execution_count": 6,
   "metadata": {
    "collapsed": false
   },
   "outputs": [
    {
     "data": {
      "text/plain": [
       "<ROOT.RooPlot object (\"frame_x_55dd302f75f0\") at 0x55dd302f75f0>"
      ]
     },
     "execution_count": 6,
     "metadata": {},
     "output_type": "execute_result"
    }
   ],
   "source": [
    "model.plotOn(frame, ROOT.RooFit.VisualizeError(\n",
    "    r, 1), ROOT.RooFit.FillColor(ROOT.kOrange))"
   ]
  },
  {
   "cell_type": "markdown",
   "metadata": {},
   "source": [
    "Calculate error using sampling method and visualize as dashed red line.\n",
    "\n",
    "In self method a number of curves is calculated with variations of the parameter values, sampled\n",
    "from a multi-variate Gaussian p.d.f. that is constructed from the fit results covariance matrix.\n",
    "The error(x) is determined by calculating a central interval that capture N% of the variations\n",
    "for each valye of x, N% is controlled by Z (i.e. Z=1 gives N=68%). The number of sampling curves\n",
    "is chosen to be such that at least 100 curves are expected to be outside the N% interval, is minimally\n",
    "100 (e.g. Z=1.Ncurve=356, Z=2.Ncurve=2156)) Intervals from the sampling method can be asymmetric,\n",
    "and may perform better in the presence of strong correlations, may take\n",
    "(much) longer to calculate"
   ]
  },
  {
   "cell_type": "code",
   "execution_count": 7,
   "metadata": {
    "collapsed": false
   },
   "outputs": [
    {
     "data": {
      "text/plain": [
       "<ROOT.RooPlot object (\"frame_x_55dd302f75f0\") at 0x55dd302f75f0>"
      ]
     },
     "execution_count": 7,
     "metadata": {},
     "output_type": "execute_result"
    },
    {
     "name": "stdout",
     "output_type": "stream",
     "text": [
      "[#1] INFO:Plotting -- RooAbsReal::plotOn(model) INFO: visualizing 1-sigma uncertainties in parameters (m,s,fsig,m2,s2) from fit result fitresult_model_genData using 315 samplings.\n"
     ]
    }
   ],
   "source": [
    "model.plotOn(\n",
    "    frame,\n",
    "    ROOT.RooFit.VisualizeError(\n",
    "        r,\n",
    "        1,\n",
    "        ROOT.kFALSE),\n",
    "    ROOT.RooFit.DrawOption(\"L\"),\n",
    "    ROOT.RooFit.LineWidth(2),\n",
    "    ROOT.RooFit.LineColor(\n",
    "        ROOT.kRed))"
   ]
  },
  {
   "cell_type": "markdown",
   "metadata": {},
   "source": [
    "Perform the same type of error visualization on the background component only.\n",
    "The VisualizeError() option can generally applied to _any_ kind of\n",
    "plot (components, asymmetries, etc..)"
   ]
  },
  {
   "cell_type": "code",
   "execution_count": 8,
   "metadata": {
    "collapsed": false
   },
   "outputs": [
    {
     "data": {
      "text/plain": [
       "<ROOT.RooPlot object (\"frame_x_55dd302f75f0\") at 0x55dd302f75f0>"
      ]
     },
     "execution_count": 8,
     "metadata": {},
     "output_type": "execute_result"
    },
    {
     "name": "stdout",
     "output_type": "stream",
     "text": [
      "[#1] INFO:Plotting -- RooAbsPdf::plotOn(model) directly selected PDF components: (bkg)\n",
      "[#1] INFO:Plotting -- RooAbsPdf::plotOn(model) indirectly selected PDF components: ()\n",
      "[#1] INFO:Plotting -- RooAbsPdf::plotOn(model) directly selected PDF components: (bkg)\n",
      "[#1] INFO:Plotting -- RooAbsPdf::plotOn(model) indirectly selected PDF components: ()\n",
      "[#1] INFO:Plotting -- RooAbsReal::plotOn(model) INFO: visualizing 1-sigma uncertainties in parameters (m,s,fsig,m2,s2) from fit result fitresult_model_genData using 315 samplings.\n"
     ]
    }
   ],
   "source": [
    "model.plotOn(\n",
    "    frame, ROOT.RooFit.VisualizeError(\n",
    "        r, 1), ROOT.RooFit.FillColor(\n",
    "            ROOT.kOrange), ROOT.RooFit.Components(\"bkg\"))\n",
    "model.plotOn(\n",
    "    frame,\n",
    "    ROOT.RooFit.VisualizeError(\n",
    "        r,\n",
    "        1,\n",
    "        ROOT.kFALSE),\n",
    "    ROOT.RooFit.DrawOption(\"L\"),\n",
    "    ROOT.RooFit.LineWidth(2),\n",
    "    ROOT.RooFit.LineColor(\n",
    "        ROOT.kRed),\n",
    "    ROOT.RooFit.Components(\"bkg\"),\n",
    "    ROOT.RooFit.LineStyle(\n",
    "        ROOT.kDashed))"
   ]
  },
  {
   "cell_type": "markdown",
   "metadata": {},
   "source": [
    "Overlay central value"
   ]
  },
  {
   "cell_type": "code",
   "execution_count": 9,
   "metadata": {
    "collapsed": false
   },
   "outputs": [
    {
     "name": "stdout",
     "output_type": "stream",
     "text": [
      "[#1] INFO:Plotting -- RooAbsPdf::plotOn(model) directly selected PDF components: (bkg)\n",
      "[#1] INFO:Plotting -- RooAbsPdf::plotOn(model) indirectly selected PDF components: ()\n"
     ]
    }
   ],
   "source": [
    "model.plotOn(frame)\n",
    "model.plotOn(frame, ROOT.RooFit.Components(\"bkg\"),\n",
    "             ROOT.RooFit.LineStyle(ROOT.kDashed))\n",
    "d.plotOn(frame)\n",
    "frame.SetMinimum(0)"
   ]
  },
  {
   "cell_type": "markdown",
   "metadata": {},
   "source": [
    "Visualize partial fit error\n",
    "------------------------------------------------------"
   ]
  },
  {
   "cell_type": "markdown",
   "metadata": {},
   "source": [
    "Make plot frame"
   ]
  },
  {
   "cell_type": "code",
   "execution_count": 10,
   "metadata": {
    "collapsed": false
   },
   "outputs": [],
   "source": [
    "frame2 = x.frame(ROOT.RooFit.Bins(40), ROOT.RooFit.Title(\n",
    "    \"Visualization of 2-sigma partial error from (m,m2)\"))"
   ]
  },
  {
   "cell_type": "markdown",
   "metadata": {},
   "source": [
    "Visualize partial error. For partial error visualization the covariance matrix is first reduced as follows\n",
    "       ___                   -1\n",
    "Vred = V22  = V11 - V12 * V22   * V21\n",
    "\n",
    "Where V11,V12,V21, represent a block decomposition of the covariance matrix into observables that\n",
    "are propagated (labeled by index '1') and that are not propagated (labeled by index '2'), V22bar\n",
    "is the Shur complement of V22, as shown above\n",
    "\n",
    "(Note that Vred is _not_ a simple sub-matrix of V)"
   ]
  },
  {
   "cell_type": "markdown",
   "metadata": {},
   "source": [
    "Propagate partial error due to shape parameters (m,m2) using linear and\n",
    "sampling method"
   ]
  },
  {
   "cell_type": "code",
   "execution_count": 11,
   "metadata": {
    "collapsed": false
   },
   "outputs": [
    {
     "name": "stdout",
     "output_type": "stream",
     "text": [
      "[#1] INFO:Plotting -- RooAbsPdf::plotOn(model) directly selected PDF components: (bkg)\n",
      "[#1] INFO:Plotting -- RooAbsPdf::plotOn(model) indirectly selected PDF components: ()\n",
      "[#1] INFO:Plotting -- RooAbsPdf::plotOn(model) directly selected PDF components: (bkg)\n",
      "[#1] INFO:Plotting -- RooAbsPdf::plotOn(model) indirectly selected PDF components: ()\n"
     ]
    }
   ],
   "source": [
    "model.plotOn(frame2, ROOT.RooFit.VisualizeError(\n",
    "    r, ROOT.RooArgSet(m, m2), 2), ROOT.RooFit.FillColor(ROOT.kCyan))\n",
    "model.plotOn(frame2, ROOT.RooFit.Components(\"bkg\"), ROOT.RooFit.VisualizeError(\n",
    "    r, ROOT.RooArgSet(m, m2), 2), ROOT.RooFit.FillColor(ROOT.kCyan))\n",
    "\n",
    "model.plotOn(frame2)\n",
    "model.plotOn(frame2, ROOT.RooFit.Components(\"bkg\"),\n",
    "             ROOT.RooFit.LineStyle(ROOT.kDashed))\n",
    "frame2.SetMinimum(0)"
   ]
  },
  {
   "cell_type": "markdown",
   "metadata": {},
   "source": [
    "Make plot frame"
   ]
  },
  {
   "cell_type": "code",
   "execution_count": 12,
   "metadata": {
    "collapsed": false
   },
   "outputs": [],
   "source": [
    "frame3 = x.frame(ROOT.RooFit.Bins(40), ROOT.RooFit.Title(\n",
    "    \"Visualization of 2-sigma partial error from (s,s2)\"))"
   ]
  },
  {
   "cell_type": "markdown",
   "metadata": {},
   "source": [
    "Propagate partial error due to yield parameter using linear and sampling\n",
    "method"
   ]
  },
  {
   "cell_type": "code",
   "execution_count": 13,
   "metadata": {
    "collapsed": false
   },
   "outputs": [
    {
     "name": "stdout",
     "output_type": "stream",
     "text": [
      "[#1] INFO:Plotting -- RooAbsPdf::plotOn(model) directly selected PDF components: (bkg)\n",
      "[#1] INFO:Plotting -- RooAbsPdf::plotOn(model) indirectly selected PDF components: ()\n",
      "[#1] INFO:Plotting -- RooAbsPdf::plotOn(model) directly selected PDF components: (bkg)\n",
      "[#1] INFO:Plotting -- RooAbsPdf::plotOn(model) indirectly selected PDF components: ()\n"
     ]
    }
   ],
   "source": [
    "model.plotOn(frame3, ROOT.RooFit.VisualizeError(\n",
    "    r, ROOT.RooArgSet(s, s2), 2), ROOT.RooFit.FillColor(ROOT.kGreen))\n",
    "model.plotOn(frame3, ROOT.RooFit.Components(\"bkg\"), ROOT.RooFit.VisualizeError(\n",
    "    r, ROOT.RooArgSet(s, s2), 2), ROOT.RooFit.FillColor(ROOT.kGreen))\n",
    "\n",
    "model.plotOn(frame3)\n",
    "model.plotOn(frame3, ROOT.RooFit.Components(\"bkg\"),\n",
    "             ROOT.RooFit.LineStyle(ROOT.kDashed))\n",
    "frame3.SetMinimum(0)"
   ]
  },
  {
   "cell_type": "markdown",
   "metadata": {},
   "source": [
    "Make plot frame"
   ]
  },
  {
   "cell_type": "code",
   "execution_count": 14,
   "metadata": {
    "collapsed": false
   },
   "outputs": [],
   "source": [
    "frame4 = x.frame(ROOT.RooFit.Bins(40), ROOT.RooFit.Title(\n",
    "    \"Visualization of 2-sigma partial error from fsig\"))"
   ]
  },
  {
   "cell_type": "markdown",
   "metadata": {},
   "source": [
    "Propagate partial error due to yield parameter using linear and sampling\n",
    "method"
   ]
  },
  {
   "cell_type": "code",
   "execution_count": 15,
   "metadata": {
    "collapsed": false
   },
   "outputs": [
    {
     "name": "stdout",
     "output_type": "stream",
     "text": [
      "[#1] INFO:Plotting -- RooAbsPdf::plotOn(model) directly selected PDF components: (bkg)\n",
      "[#1] INFO:Plotting -- RooAbsPdf::plotOn(model) indirectly selected PDF components: ()\n",
      "[#1] INFO:Plotting -- RooAbsPdf::plotOn(model) directly selected PDF components: (bkg)\n",
      "[#1] INFO:Plotting -- RooAbsPdf::plotOn(model) indirectly selected PDF components: ()\n"
     ]
    },
    {
     "name": "stderr",
     "output_type": "stream",
     "text": [
      "Info in <TCanvas::Print>: png file rf610_visualerror.png has been created\n"
     ]
    }
   ],
   "source": [
    "model.plotOn(frame4, ROOT.RooFit.VisualizeError(\n",
    "    r, ROOT.RooArgSet(fsig), 2), ROOT.RooFit.FillColor(ROOT.kMagenta))\n",
    "model.plotOn(frame4, ROOT.RooFit.Components(\"bkg\"), ROOT.RooFit.VisualizeError(\n",
    "    r, ROOT.RooArgSet(fsig), 2), ROOT.RooFit.FillColor(ROOT.kMagenta))\n",
    "\n",
    "model.plotOn(frame4)\n",
    "model.plotOn(frame4, ROOT.RooFit.Components(\"bkg\"),\n",
    "             ROOT.RooFit.LineStyle(ROOT.kDashed))\n",
    "frame4.SetMinimum(0)\n",
    "\n",
    "c = ROOT.TCanvas(\"rf610_visualerror\", \"rf610_visualerror\", 800, 800)\n",
    "c.Divide(2, 2)\n",
    "c.cd(1)\n",
    "ROOT.gPad.SetLeftMargin(0.15)\n",
    "frame.GetYaxis().SetTitleOffset(1.4)\n",
    "frame.Draw()\n",
    "c.cd(2)\n",
    "ROOT.gPad.SetLeftMargin(0.15)\n",
    "frame2.GetYaxis().SetTitleOffset(1.6)\n",
    "frame2.Draw()\n",
    "c.cd(3)\n",
    "ROOT.gPad.SetLeftMargin(0.15)\n",
    "frame3.GetYaxis().SetTitleOffset(1.6)\n",
    "frame3.Draw()\n",
    "c.cd(4)\n",
    "ROOT.gPad.SetLeftMargin(0.15)\n",
    "frame4.GetYaxis().SetTitleOffset(1.6)\n",
    "frame4.Draw()\n",
    "\n",
    "c.SaveAs(\"rf610_visualerror.png\")"
   ]
  },
  {
   "cell_type": "markdown",
   "metadata": {},
   "source": [
    "Draw all canvases "
   ]
  },
  {
   "cell_type": "code",
   "execution_count": 16,
   "metadata": {
    "collapsed": false
   },
   "outputs": [
    {
     "data": {
      "image/png": "[encoded data removed]",
      "text/plain": [
       "<IPython.core.display.Image object>"
      ]
     },
     "metadata": {},
     "output_type": "display_data"
    }
   ],
   "source": [
    "from ROOT import gROOT \n",
    "gROOT.GetListOfCanvases().Draw()"
   ]
  }
 ],
 "metadata": {
  "kernelspec": {
   "display_name": "Python 2",
   "language": "python",
   "name": "python2"
  },
  "language_info": {
   "codemirror_mode": {
    "name": "ipython",
    "version": 2
   },
   "file_extension": ".py",
   "mimetype": "text/x-python",
   "name": "python",
   "nbconvert_exporter": "python",
   "pygments_lexer": "ipython2",
   "version": "2.7.10"
  }
 },
 "nbformat": 4,
 "nbformat_minor": 2
}
