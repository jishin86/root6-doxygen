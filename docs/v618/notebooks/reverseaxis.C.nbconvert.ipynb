{
 "cells": [
  {
   "cell_type": "markdown",
   "metadata": {},
   "source": [
    "# Reverseaxis\n",
    "Example showing an histogram with reverse axis.\n",
    "\n",
    "\n",
    "\n",
    "\n",
    "**Author:** Olivier Couet  \n",
    "<i><small>This notebook tutorial was automatically generated with <a href= \"https://github.com/root-project/root/blob/master/documentation/doxygen/converttonotebook.py\">ROOTBOOK-izer</a> from the macro found in the ROOT repository  on Thursday, August 29, 2019 at 01:57 AM.</small></i>"
   ]
  },
  {
   "cell_type": "code",
   "execution_count": 1,
   "metadata": {
    "collapsed": false
   },
   "outputs": [],
   "source": [
    "void ReverseXAxis (TH1 *h);\n",
    "void ReverseYAxis (TH1 *h);"
   ]
  },
  {
   "cell_type": "markdown",
   "metadata": {},
   "source": [
    " A helper function is created: "
   ]
  },
  {
   "cell_type": "code",
   "execution_count": 2,
   "metadata": {
    "collapsed": false
   },
   "outputs": [],
   "source": [
    "%%cpp -d\n",
    "void ReverseXAxis(TH1 *h)\n",
    "{\n",
    "   // Remove the current axis\n",
    "   h->GetXaxis()->SetLabelOffset(999);\n",
    "   h->GetXaxis()->SetTickLength(0);\n",
    "\n",
    "   // Redraw the new axis\n",
    "   gPad->Update();\n",
    "   TGaxis *newaxis = new TGaxis(gPad->GetUxmax(),\n",
    "                                gPad->GetUymin(),\n",
    "                                gPad->GetUxmin(),\n",
    "                                gPad->GetUymin(),\n",
    "                                h->GetXaxis()->GetXmin(),\n",
    "                                h->GetXaxis()->GetXmax(),\n",
    "                                510,\"-\");\n",
    "   newaxis->SetLabelOffset(-0.03);\n",
    "   newaxis->Draw();\n",
    "}"
   ]
  },
  {
   "cell_type": "markdown",
   "metadata": {},
   "source": [
    " A helper function is created: "
   ]
  },
  {
   "cell_type": "code",
   "execution_count": 3,
   "metadata": {
    "collapsed": false
   },
   "outputs": [],
   "source": [
    "%%cpp -d\n",
    "void ReverseYAxis(TH1 *h)\n",
    "{\n",
    "   // Remove the current axis\n",
    "   h->GetYaxis()->SetLabelOffset(999);\n",
    "   h->GetYaxis()->SetTickLength(0);\n",
    "\n",
    "   // Redraw the new axis\n",
    "   gPad->Update();\n",
    "   TGaxis *newaxis = new TGaxis(gPad->GetUxmin(),\n",
    "                                gPad->GetUymax(),\n",
    "                                gPad->GetUxmin()-0.001,\n",
    "                                gPad->GetUymin(),\n",
    "                                h->GetYaxis()->GetXmin(),\n",
    "                                h->GetYaxis()->GetXmax(),\n",
    "                                510,\"+\");\n",
    "   newaxis->SetLabelOffset(-0.03);\n",
    "   newaxis->Draw();\n",
    "}"
   ]
  },
  {
   "cell_type": "code",
   "execution_count": 4,
   "metadata": {
    "collapsed": false
   },
   "outputs": [],
   "source": [
    "TH2F *hpxpy  = new TH2F(\"hpxpy\",\"py vs px\",40,-4,4,40,-4,4);\n",
    "Float_t px, py;\n",
    "TRandom r;\n",
    "for (Int_t i = 0; i < 25000; i++) {\n",
    "   r.Rannor(px,py);\n",
    "   hpxpy->Fill(px,py);\n",
    "}\n",
    "TCanvas *c1 = new TCanvas(\"c1\");\n",
    "hpxpy->Draw(\"colz\");\n",
    "ReverseXAxis(hpxpy);\n",
    "ReverseYAxis(hpxpy);"
   ]
  },
  {
   "cell_type": "markdown",
   "metadata": {},
   "source": [
    "Draw all canvases "
   ]
  },
  {
   "cell_type": "code",
   "execution_count": 5,
   "metadata": {
    "collapsed": false
   },
   "outputs": [
    {
     "data": {
      "image/png": "[encoded data removed]",
      "text/plain": [
       "<IPython.core.display.Image object>"
      ]
     },
     "metadata": {},
     "output_type": "display_data"
    }
   ],
   "source": [
    "gROOT->GetListOfCanvases()->Draw()"
   ]
  }
 ],
 "metadata": {
  "kernelspec": {
   "display_name": "ROOT C++",
   "language": "c++",
   "name": "root"
  },
  "language_info": {
   "codemirror_mode": "text/x-c++src",
   "file_extension": ".C",
   "mimetype": " text/x-c++src",
   "name": "c++"
  }
 },
 "nbformat": 4,
 "nbformat_minor": 2
}
