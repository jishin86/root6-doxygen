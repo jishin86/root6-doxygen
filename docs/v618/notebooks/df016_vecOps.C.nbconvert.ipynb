{
 "cells": [
  {
   "cell_type": "markdown",
   "metadata": {},
   "source": [
    "# Df 0 1 6_Vec Ops\n",
    "This tutorial shows the potential of the VecOps approach for treating collections\n",
    "stored in datasets, a situation very common in HEP data analysis.\n",
    "\n",
    "\n",
    "\n",
    "\n",
    "**Author:** Danilo Piparo  \n",
    "<i><small>This notebook tutorial was automatically generated with <a href= \"https://github.com/root-project/root/blob/master/documentation/doxygen/converttonotebook.py\">ROOTBOOK-izer</a> from the macro found in the ROOT repository  on Thursday, August 29, 2019 at 01:07 AM.</small></i>"
   ]
  },
  {
   "cell_type": "code",
   "execution_count": null,
   "metadata": {
    "collapsed": false
   },
   "outputs": [],
   "source": [
    "using ROOT::RDataFrame;\n",
    "using namespace ROOT::VecOps;"
   ]
  },
  {
   "cell_type": "markdown",
   "metadata": {},
   "source": [
    "We re-create a set of points in a square.\n",
    " This is a technical detail, just to create a dataset to play with!"
   ]
  },
  {
   "cell_type": "code",
   "execution_count": null,
   "metadata": {
    "collapsed": false
   },
   "outputs": [],
   "source": [
    "auto unifGen = [](double) { return gRandom->Uniform(-1.0, 1.0); };\n",
    "auto vGen = [&](int len) {\n",
    "   RVec<double> v(len);\n",
    "   std::transform(v.begin(), v.end(), v.begin(), unifGen);\n",
    "   return v;\n",
    "};\n",
    "RDataFrame d(1024);\n",
    "auto d0 = d.Define(\"len\", []() { return (int)gRandom->Uniform(0, 16); })\n",
    "   .Define(\"x\", vGen, {\"len\"})\n",
    "   .Define(\"y\", vGen, {\"len\"});"
   ]
  },
  {
   "cell_type": "markdown",
   "metadata": {},
   "source": [
    "Now we have in hands d, a rdataframe with two columns, x and y, which\n",
    " hold collections of coordinates. The size of these collections vary.\n",
    " Let's now define radii out of x and y. We'll do it treating the collections\n",
    " stored in the columns without looping on the individual elements."
   ]
  },
  {
   "cell_type": "code",
   "execution_count": null,
   "metadata": {
    "collapsed": false
   },
   "outputs": [],
   "source": [
    "auto d1 = d0.Define(\"r\", \"sqrt(x*x + y*y)\");"
   ]
  },
  {
   "cell_type": "markdown",
   "metadata": {},
   "source": [
    "Now we want to plot 2 quarters of a ring with radii .5 and 1\n",
    " Note how the cuts are performed on RVecs, comparing them with integers and\n",
    " among themselves"
   ]
  },
  {
   "cell_type": "code",
   "execution_count": null,
   "metadata": {
    "collapsed": false
   },
   "outputs": [],
   "source": [
    "auto ring_h = d1.Define(\"rInFig\", \"r > .4 && r < .8 && x*y < 0\")\n",
    "                 .Define(\"yFig\", \"y[rInFig]\")\n",
    "                 .Define(\"xFig\", \"x[rInFig]\")\n",
    "                 .Histo2D({\"fig\", \"Two quarters of a ring\", 64, -1, 1, 64, -1, 1}, \"xFig\", \"yFig\");\n",
    "\n",
    "auto cring = new TCanvas();\n",
    "ring_h->DrawCopy(\"Colz\");\n",
    "\n",
    "return 0;"
   ]
  },
  {
   "cell_type": "markdown",
   "metadata": {},
   "source": [
    "Draw all canvases "
   ]
  },
  {
   "cell_type": "code",
   "execution_count": null,
   "metadata": {
    "collapsed": false
   },
   "outputs": [],
   "source": [
    "gROOT->GetListOfCanvases()->Draw()"
   ]
  }
 ],
 "metadata": {
  "kernelspec": {
   "display_name": "ROOT C++",
   "language": "c++",
   "name": "root"
  },
  "language_info": {
   "codemirror_mode": "text/x-c++src",
   "file_extension": ".C",
   "mimetype": " text/x-c++src",
   "name": "c++"
  }
 },
 "nbformat": 4,
 "nbformat_minor": 2
}
