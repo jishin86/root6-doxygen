{
 "cells": [
  {
   "cell_type": "markdown",
   "metadata": {},
   "source": [
    "# Df 0 1 8_Custom Actions\n",
    "This tutorial shows how to implement a custom action.\n",
    "As an example, we build a helper for filling THns.\n",
    "\n",
    "\n",
    "\n",
    "\n",
    "**Author:** Enrico Guiraud, Danilo Piparo  \n",
    "<i><small>This notebook tutorial was automatically generated with <a href= \"https://github.com/root-project/root/blob/master/documentation/doxygen/converttonotebook.py\">ROOTBOOK-izer</a> from the macro found in the ROOT repository  on Thursday, August 29, 2019 at 01:09 AM.</small></i>"
   ]
  },
  {
   "cell_type": "markdown",
   "metadata": {},
   "source": [
    "This is a custom action which respects a well defined interface. it supports parallelism,\n",
    " in the sense that it behaves correctly if implicit multi threading is enabled.\n",
    " We template it on:\n",
    " - The type of the internal THnT(s)\n",
    " - The dimension of the internal THnT(s)\n",
    " Note the plural: in presence of a MT execution, internally more than a single THnT is created."
   ]
  },
  {
   "cell_type": "code",
   "execution_count": 1,
   "metadata": {
    "collapsed": false
   },
   "outputs": [],
   "source": [
    "template <typename T, unsigned int NDIM>\n",
    "class THnHelper : public ROOT::Detail::RDF::RActionImpl<THnHelper<T, NDIM>> {\n",
    "public:\n",
    "   /// This is a handy, expressive shortcut.\n",
    "   using THn_t = THnT<T>;\n",
    "   /// This type is a requirement for every helper.\n",
    "   using Result_t = THn_t;\n",
    "\n",
    "private:\n",
    "   std::vector<std::shared_ptr<THn_t>> fHistos; // one per data processing slot\n",
    "\n",
    "public:\n",
    "   /// This constructor takes all the parameters necessary to build the THnTs. In addition, it requires the names of\n",
    "   /// the columns which will be used.\n",
    "   THnHelper(std::string_view name, std::string_view title, std::array<int, NDIM> nbins, std::array<double, NDIM> xmins,\n",
    "             std::array<double, NDIM> xmax)\n",
    "   {\n",
    "      const auto nSlots = ROOT::IsImplicitMTEnabled() ? ROOT::GetImplicitMTPoolSize() : 1;\n",
    "      for (auto i : ROOT::TSeqU(nSlots)) {\n",
    "         fHistos.emplace_back(std::make_shared<THn_t>(std::string(name).c_str(), std::string(title).c_str(),\n",
    "                                                      NDIM, nbins.data(), xmins.data(), xmax.data()));\n",
    "         (void)i;\n",
    "      }\n",
    "   }\n",
    "   THnHelper(THnHelper &&) = default;\n",
    "   THnHelper(const THnHelper &) = delete;\n",
    "   std::shared_ptr<THn_t> GetResultPtr() const { return fHistos[0]; }\n",
    "   void Initialize() {}\n",
    "   void InitTask(TTreeReader *, unsigned int) {}\n",
    "   /// This is a method executed at every entry\n",
    "   template <typename... ColumnTypes>\n",
    "   void Exec(unsigned int slot, ColumnTypes... values)\n",
    "   {\n",
    "      // Since THnT<T>::Fill expects a double*, we build it passing through a std::array.\n",
    "      std::array<double, sizeof...(ColumnTypes)> valuesArr{static_cast<double>(values)...};\n",
    "      fHistos[slot]->Fill(valuesArr.data());\n",
    "   }\n",
    "   /// This method is called at the end of the event loop. It is used to merge all the internal THnTs which\n",
    "   /// were used in each of the data processing slots.\n",
    "   void Finalize()\n",
    "   {\n",
    "      auto &res = fHistos[0];\n",
    "      for (auto slot : ROOT::TSeqU(1, fHistos.size())) {\n",
    "         res->Add(fHistos[slot].get());\n",
    "      }\n",
    "   }\n",
    "\n",
    "   std::string GetActionName(){\n",
    "      return \"THnHelper\";\n",
    "   }\n",
    "};"
   ]
  },
  {
   "cell_type": "markdown",
   "metadata": {},
   "source": [
    "We enable implicit parallelism"
   ]
  },
  {
   "cell_type": "code",
   "execution_count": 2,
   "metadata": {
    "collapsed": false
   },
   "outputs": [],
   "source": [
    "ROOT::EnableImplicitMT();"
   ]
  },
  {
   "cell_type": "markdown",
   "metadata": {},
   "source": [
    "We create an empty rdataframe which contains 4 columns filled with random numbers.\n",
    " The type of the numbers held by the columns are: double, double, float, int."
   ]
  },
  {
   "cell_type": "code",
   "execution_count": 3,
   "metadata": {
    "collapsed": false
   },
   "outputs": [],
   "source": [
    "ROOT::RDataFrame d(128);\n",
    "auto genD = []() { return gRandom->Uniform(-5, 5); };\n",
    "auto genF = [&genD]() { return (float)genD(); };\n",
    "auto genI = [&genD]() { return (int)genD(); };\n",
    "auto dd = d.Define(\"x0\", genD).Define(\"x1\", genD).Define(\"x2\", genF).Define(\"x3\", genI);"
   ]
  },
  {
   "cell_type": "markdown",
   "metadata": {},
   "source": [
    "Our helper type: templated on the internal thnt type, the size, the types of the columns\n",
    " we'll use to fill."
   ]
  },
  {
   "cell_type": "code",
   "execution_count": 4,
   "metadata": {
    "collapsed": false
   },
   "outputs": [],
   "source": [
    "using Helper_t = THnHelper<float, 4>;\n",
    "\n",
    "Helper_t helper{\"myThN\",                          // Name\n",
    "                \"A THn with 4 dimensions\",        // Title\n",
    "                {4, 4, 8, 2},                     // NBins\n",
    "                {-10., -10, -4., -6.},            // Axes min values\n",
    "                {10., 10, 5., 7.}};               // Axes max values"
   ]
  },
  {
   "cell_type": "markdown",
   "metadata": {},
   "source": [
    "We book the action: it will be treated during the event loop."
   ]
  },
  {
   "cell_type": "code",
   "execution_count": 5,
   "metadata": {
    "collapsed": false
   },
   "outputs": [
    {
     "name": "stdout",
     "output_type": "stream",
     "text": [
      "THnT<float> (*0x7f7658ce25e0): \"myThN\" \"A THn with 4 dimensions\"\n",
      "  4 dimensions, 128 entries in 1440 filled bins\n"
     ]
    }
   ],
   "source": [
    "auto myTHnT = dd.Book<double, double, float, int>(std::move(helper), {\"x0\", \"x1\", \"x2\", \"x3\"});\n",
    "\n",
    "myTHnT->Print();"
   ]
  },
  {
   "cell_type": "markdown",
   "metadata": {},
   "source": [
    "Draw all canvases "
   ]
  },
  {
   "cell_type": "code",
   "execution_count": 6,
   "metadata": {
    "collapsed": false
   },
   "outputs": [],
   "source": [
    "gROOT->GetListOfCanvases()->Draw()"
   ]
  }
 ],
 "metadata": {
  "kernelspec": {
   "display_name": "ROOT C++",
   "language": "c++",
   "name": "root"
  },
  "language_info": {
   "codemirror_mode": "text/x-c++src",
   "file_extension": ".C",
   "mimetype": " text/x-c++src",
   "name": "c++"
  }
 },
 "nbformat": 4,
 "nbformat_minor": 2
}
