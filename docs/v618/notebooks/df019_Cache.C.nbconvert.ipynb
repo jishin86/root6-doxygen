{
 "cells": [
  {
   "cell_type": "markdown",
   "metadata": {},
   "source": [
    "# Df 0 1 9_ Cache\n",
    "This tutorial shows how the content of a data frame can be cached in memory\n",
    "in form of a data frame. The content of the columns is stored in memory in\n",
    "contiguous slabs of memory and is \"ready to use\", i.e. no ROOT IO operation\n",
    "is performed.\n",
    "\n",
    "Creating a cached data frame storing all of its content deserialised and uncompressed\n",
    "in memory is particularly useful when dealing with datasets of a moderate size\n",
    "(small enough to fit the RAM) over which several explorative loops need to be\n",
    "performed at as fast as possible. In addition, caching can be useful when no file\n",
    "on disk needs to be created as a side effect of checkpointing part of the analysis.\n",
    "\n",
    "All steps in the caching are lazy, i.e. the cached data frame is actually filled\n",
    "only when the event loop is triggered on it.\n",
    "\n",
    "\n",
    "\n",
    "\n",
    "**Author:** Danilo Piparo  \n",
    "<i><small>This notebook tutorial was automatically generated with <a href= \"https://github.com/root-project/root/blob/master/documentation/doxygen/converttonotebook.py\">ROOTBOOK-izer</a> from the macro found in the ROOT repository  on Thursday, August 29, 2019 at 01:09 AM.</small></i>"
   ]
  },
  {
   "cell_type": "markdown",
   "metadata": {},
   "source": [
    "We create a data frame on top of the hsimple example"
   ]
  },
  {
   "cell_type": "code",
   "execution_count": 1,
   "metadata": {
    "collapsed": false
   },
   "outputs": [],
   "source": [
    "auto hsimplePath = gROOT->GetTutorialDir();\n",
    "hsimplePath += \"/hsimple.root\";\n",
    "ROOT::RDataFrame df(\"ntuple\", hsimplePath.Data());"
   ]
  },
  {
   "cell_type": "markdown",
   "metadata": {},
   "source": [
    "We apply a simple cut and define a new column"
   ]
  },
  {
   "cell_type": "code",
   "execution_count": 2,
   "metadata": {
    "collapsed": false
   },
   "outputs": [],
   "source": [
    "auto df_cut = df.Filter([](float py) { return py > 0.f; }, {\"py\"})\n",
    "                 .Define(\"px_plus_py\", [](float px, float py) { return px + py; }, {\"px\", \"py\"});"
   ]
  },
  {
   "cell_type": "markdown",
   "metadata": {},
   "source": [
    "We cache the content of the dataset. nothing has happened yet: the work to accomplish\n",
    " has been described. As for `Snapshot`, the types and columns can be written out explicitly\n",
    " or left for the jitting to handle (`df_cached` is intentionally unused - it shows how to\n",
    " to create a *cached* data frame specifying column types explicitly):"
   ]
  },
  {
   "cell_type": "code",
   "execution_count": 3,
   "metadata": {
    "collapsed": false
   },
   "outputs": [],
   "source": [
    "auto df_cached = df_cut.Cache<float, float>({\"px_plus_py\", \"py\"});\n",
    "auto df_cached_implicit = df_cut.Cache();\n",
    "auto h = df_cached_implicit.Histo1D<float>(\"px_plus_py\");"
   ]
  },
  {
   "cell_type": "markdown",
   "metadata": {},
   "source": [
    "Now the event loop on the cached dataset is triggered. this event triggers the loop\n",
    " on the `df` data frame lazily."
   ]
  },
  {
   "cell_type": "code",
   "execution_count": 4,
   "metadata": {
    "collapsed": false
   },
   "outputs": [],
   "source": [
    "h->DrawCopy();"
   ]
  },
  {
   "cell_type": "markdown",
   "metadata": {},
   "source": [
    "Draw all canvases "
   ]
  },
  {
   "cell_type": "code",
   "execution_count": 5,
   "metadata": {
    "collapsed": false
   },
   "outputs": [
    {
     "data": {
      "image/png": "[encoded data removed]",
      "text/plain": [
       "<IPython.core.display.Image object>"
      ]
     },
     "metadata": {},
     "output_type": "display_data"
    }
   ],
   "source": [
    "gROOT->GetListOfCanvases()->Draw()"
   ]
  }
 ],
 "metadata": {
  "kernelspec": {
   "display_name": "ROOT C++",
   "language": "c++",
   "name": "root"
  },
  "language_info": {
   "codemirror_mode": "text/x-c++src",
   "file_extension": ".C",
   "mimetype": " text/x-c++src",
   "name": "c++"
  }
 },
 "nbformat": 4,
 "nbformat_minor": 2
}
