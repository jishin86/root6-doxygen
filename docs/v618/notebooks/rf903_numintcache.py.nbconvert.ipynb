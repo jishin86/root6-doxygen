{
 "cells": [
  {
   "cell_type": "markdown",
   "metadata": {},
   "source": [
    "# Rf 9 0 3_Numintcache\n",
    "\n",
    "Numeric algorithm tuning: caching of slow numeric integrals and parameterizations of slow numeric integrals\n",
    "\n",
    "\n",
    "\n",
    "\n",
    "**Author:** Clemens Lange, Wouter Verkerke (C++ version)  \n",
    "<i><small>This notebook tutorial was automatically generated with <a href= \"https://github.com/root-project/root/blob/master/documentation/doxygen/converttonotebook.py\">ROOTBOOK-izer</a> from the macro found in the ROOT repository  on Thursday, August 29, 2019 at 03:07 AM.</small></i>"
   ]
  },
  {
   "cell_type": "code",
   "execution_count": 1,
   "metadata": {
    "collapsed": false
   },
   "outputs": [
    {
     "name": "stdout",
     "output_type": "stream",
     "text": [
      "Welcome to JupyROOT 6.18/03\n"
     ]
    }
   ],
   "source": [
    "import sys\n",
    "import ROOT\n",
    "\n",
    "\n",
    "def getWorkspace(mode):\n",
    "    # Create, save or load workspace with pdf\n",
    "    # -----------------------------------------------------------------------------------\n",
    "    #\n",
    "    # Mode = 0 : Create workspace for plain running (no integral caching)\n",
    "    # Mode = 1 : Generate workspace with precalculated integral and store it on file\n",
    "    # Mode = 2 : Load previously stored workspace from file\n",
    "\n",
    "    w = ROOT.RooWorkspace()\n",
    "\n",
    "    if mode != 2:\n",
    "        # Create empty workspace workspace\n",
    "        w = ROOT.RooWorkspace(\"w\", 1)\n",
    "\n",
    "        # Make a difficult to normalize  p.d.f. in 3 dimensions that is\n",
    "        # integrated numerically.\n",
    "        w.factory(\n",
    "            \"EXPR::model('1/((x-a)*(x-a)+0.01)+1/((y-a)*(y-a)+0.01)+1/((z-a)*(z-a)+0.01)',x[-1,1],y[-1,1],z[-1,1],a[-5,5])\")\n",
    "\n",
    "    if mode == 1:\n",
    "        # Instruct model to precalculate normalization integral that integrate at least\n",
    "        # two dimensions numerically. In self specific case the integral value for\n",
    "        # all values of parameter 'a' are stored in a histogram and available for use\n",
    "        # in subsequent fitting and plotting operations (interpolation is\n",
    "        # applied)\n",
    "\n",
    "        # w.pdf(\"model\").setNormValueCaching(3)\n",
    "        w.pdf(\"model\").setStringAttribute(\"CACHEPARMINT\", \"x:y:z\")\n",
    "\n",
    "        # Evaluate p.d.f. once to trigger filling of cache\n",
    "        normSet = ROOT.RooArgSet(w.var(\"x\"), w.var(\"y\"), w.var(\"z\"))\n",
    "        w.pdf(\"model\").getVal(normSet)\n",
    "        w.writeToFile(\"rf903_numintcache.root\")\n",
    "\n",
    "    if (mode == 2):\n",
    "        # Load preexisting workspace from file in mode==2\n",
    "        f = ROOT.TFile(\"rf903_numintcache.root\")\n",
    "        w = f.Get(\"w\")\n",
    "\n",
    "    # Return created or loaded workspace\n",
    "    return w\n",
    "\n",
    "\n",
    "mode = 0"
   ]
  },
  {
   "cell_type": "markdown",
   "metadata": {},
   "source": [
    "Mode = 0 : Run plain fit (slow)\n",
    "Mode = 1 : Generate workspace with precalculated integral and store it on file (prepare for accelerated running)\n",
    "Mode = 2 : Run fit from previously stored workspace including cached\n",
    "integrals (fast, run in mode=1 first)"
   ]
  },
  {
   "cell_type": "markdown",
   "metadata": {},
   "source": [
    "Create, save or load workspace with pdf\n",
    "-----------------------------------------------------------------------------------"
   ]
  },
  {
   "cell_type": "markdown",
   "metadata": {},
   "source": [
    "Make/load workspace, here in mode 1"
   ]
  },
  {
   "cell_type": "code",
   "execution_count": 2,
   "metadata": {
    "collapsed": false
   },
   "outputs": [
    {
     "name": "stdout",
     "output_type": "stream",
     "text": [
      "\n",
      "\u001b[1mRooFit v3.60 -- Developed by Wouter Verkerke and David Kirkby\u001b[0m \n",
      "                Copyright (C) 2000-2013 NIKHEF, University of California & Stanford University\n",
      "                All rights reserved, please read http://roofit.sourceforge.net/license.txt\n",
      "\n",
      "[#1] INFO:ObjectHandling -- RooWorkspace::exportToCint(w) INFO: references to all objects in this workspace will be created in CINT in 'namespace w'\n"
     ]
    }
   ],
   "source": [
    "w = getWorkspace(mode)\n",
    "if mode == 1:\n",
    "    # Show workspace that was created\n",
    "    w.Print()\n",
    "\n",
    "    # Show plot of cached integral values\n",
    "    hhcache = w.expensiveObjectCache().getObj(1)\n",
    "    if (hhcache):\n",
    "        ROOT.TCanvas(\"rf903_numintcache\", \"rf903_numintcache\", 600, 600)\n",
    "        hhcache.createHistogram(\"a\").Draw()\n",
    "    else:\n",
    "        ROOT.RooFit.Error(\"rf903_numintcache\",\n",
    "                          \"Cached histogram is not existing in workspace\")\n",
    "        sys.exit()"
   ]
  },
  {
   "cell_type": "markdown",
   "metadata": {},
   "source": [
    "Use pdf from workspace for generation and fitting\n",
    "-----------------------------------------------------------------------------------"
   ]
  },
  {
   "cell_type": "markdown",
   "metadata": {},
   "source": [
    "ROOT.This is always slow (need to find maximum function value\n",
    "empirically in 3D space)"
   ]
  },
  {
   "cell_type": "code",
   "execution_count": 3,
   "metadata": {
    "collapsed": false
   },
   "outputs": [
    {
     "name": "stdout",
     "output_type": "stream",
     "text": [
      "[#1] INFO:NumericIntegration -- RooRealIntegral::init(model_Int[x,y,z]) using numeric integrator RooAdaptiveIntegratorND to calculate Int(x,y,z)\n"
     ]
    }
   ],
   "source": [
    "d = w.pdf(\"model\").generate(\n",
    "    ROOT.RooArgSet(\n",
    "        w.var(\"x\"),\n",
    "        w.var(\"y\"),\n",
    "        w.var(\"z\")),\n",
    "    1000)"
   ]
  },
  {
   "cell_type": "markdown",
   "metadata": {},
   "source": [
    "ROOT.This is slow in mode 0, fast in mode 1"
   ]
  },
  {
   "cell_type": "code",
   "execution_count": 4,
   "metadata": {
    "collapsed": false
   },
   "outputs": [
    {
     "data": {
      "text/plain": [
       "<ROOT.RooFitResult object at 0x(nil)>"
      ]
     },
     "execution_count": 4,
     "metadata": {},
     "output_type": "execute_result"
    },
    {
     "name": "stdout",
     "output_type": "stream",
     "text": [
      "[#1] INFO:Minization -- createNLL: caching constraint set under name CONSTR_OF_PDF_model_FOR_OBS_x:y:z with 0 entries\n",
      "[#1] INFO:Minization -- RooMinimizer::optimizeConst: activating const optimization\n",
      "[#0] WARNING:Minization -- RooMinimizerFcn::synchronize: WARNING: no initial error estimate available for a: using 1\n",
      " **********\n",
      " **    1 **SET PRINT           1\n",
      " **********\n",
      " **********\n",
      " **    2 **SET NOGRAD\n",
      " **********\n",
      " PARAMETER DEFINITIONS:\n",
      "    NO.   NAME         VALUE      STEP SIZE      LIMITS\n",
      "     1 a            0.00000e+00  1.00000e+00   -5.00000e+00  5.00000e+00\n",
      " **********\n",
      " **    3 **SET ERR         0.5\n",
      " **********\n",
      " **********\n",
      " **    4 **SET PRINT           1\n",
      " **********\n",
      " **********\n",
      " **    5 **SET STR           1\n",
      " **********\n",
      " NOW USING STRATEGY  1: TRY TO BALANCE SPEED AGAINST RELIABILITY\n",
      " **********\n",
      " **    6 **MIGRAD         500           1\n",
      " **********\n",
      " FIRST CALL TO USER FUNCTION AT NEW START POINT, WITH IFLAG=4.\n",
      "\n",
      "prevFCN = 1659.930708   START MIGRAD MINIMIZATION.  STRATEGY  1.  CONVERGENCE WHEN EDM .LT. 1.00e-03\n",
      "a=0.02003, [#1] INFO:NumericIntegration -- RooRealIntegral::init(model_Int[x,y,z]) using numeric integrator RooAdaptiveIntegratorND to calculate Int(x,y,z)\n",
      "\n",
      "prevFCN = 1668.090831  a=-0.02003, \n",
      "prevFCN = 1666.341378  a=0.002003, \n",
      "prevFCN = 1660.094465  a=-0.002003, \n",
      "prevFCN = 1659.913535   FCN=1659.93 FROM MIGRAD    STATUS=INITIATE        4 CALLS           5 TOTAL\n",
      "                     EDM= unknown      STRATEGY= 1      NO ERROR MATRIX       \n",
      "  EXT PARAMETER               CURRENT GUESS       STEP         FIRST   \n",
      "  NO.   NAME      VALUE            ERROR          SIZE      DERIVATIVE \n",
      "   1  a            0.00000e+00   1.00000e+00   2.01358e-01   2.25805e+02\n",
      "                               ERR DEF= 0.5\n",
      "a=-0.001236, \n",
      "prevFCN = 1659.902781  a=-0.001036, \n",
      "prevFCN = 1659.903514  a=-0.001437, \n",
      "prevFCN = 1659.903515  a=-0.001089, \n",
      "prevFCN = 1659.903177  a=-0.001383, \n",
      "prevFCN = 1659.903178   MIGRAD MINIMIZATION HAS CONVERGED.\n",
      " MIGRAD WILL VERIFY CONVERGENCE AND ERROR MATRIX.\n",
      "a=-0.001236, \n",
      "prevFCN = 1659.902781  a=-0.001089, \n",
      "prevFCN = 1659.903177  a=-0.001383, \n",
      "prevFCN = 1659.903178  a=-0.001207, \n",
      "prevFCN = 1659.902797  a=-0.001266, \n",
      "prevFCN = 1659.902797   COVARIANCE MATRIX CALCULATED SUCCESSFULLY\n",
      " FCN=1659.9 FROM MIGRAD    STATUS=CONVERGED      14 CALLS          15 TOTAL\n",
      "                     EDM=2.26676e-10    STRATEGY= 1      ERROR MATRIX ACCURATE \n",
      "  EXT PARAMETER                                   STEP         FIRST   \n",
      "  NO.   NAME      VALUE            ERROR          SIZE      DERIVATIVE \n",
      "   1  a           -1.23627e-03   5.23021e-03   2.94345e-05  -1.43931e-02\n",
      "                               ERR DEF= 0.5\n",
      " EXTERNAL ERROR MATRIX.    NDIM=  25    NPAR=  1    ERR DEF=0.5\n",
      "  2.736e-05 \n",
      "[#1] INFO:Minization -- Command timer: Real time 0:00:06, CP time 6.330\n",
      "[#1] INFO:Minization -- Session timer: Real time 0:00:06, CP time 6.330\n",
      "a=-0.001236,  **********\n",
      " **    7 **SET ERR         0.5\n",
      " **********\n",
      " **********\n",
      " **    8 **SET PRINT           1\n",
      " **********\n",
      " **********\n",
      " **    9 **HESSE         500\n",
      " **********\n",
      "\n",
      "prevFCN = 1659.902781  a=-0.001207, \n",
      "prevFCN = 1659.902797  a=-0.001266, \n",
      "prevFCN = 1659.902797  a=-0.00123, \n",
      "prevFCN = 1659.902782  a=-0.001242, \n",
      "prevFCN = 1659.902782   COVARIANCE MATRIX CALCULATED SUCCESSFULLY\n",
      " FCN=1659.9 FROM HESSE     STATUS=OK              5 CALLS          20 TOTAL\n",
      "                     EDM=2.26062e-10    STRATEGY= 1      ERROR MATRIX ACCURATE \n",
      "  EXT PARAMETER                                INTERNAL      INTERNAL  \n",
      "  NO.   NAME      VALUE            ERROR       STEP SIZE       VALUE   \n",
      "   1  a           -1.23627e-03   5.23023e-03   5.88690e-06  -2.47254e-04\n",
      "                               ERR DEF= 0.5\n",
      " EXTERNAL ERROR MATRIX.    NDIM=  25    NPAR=  1    ERR DEF=0.5\n",
      "  2.736e-05 \n",
      "[#1] INFO:Minization -- Command timer: Real time 0:00:02, CP time 1.990\n",
      "[#1] INFO:Minization -- Session timer: Real time 0:00:08, CP time 8.320, 2 slices\n",
      "a=-0.001236, [#1] INFO:Minization -- RooMinimizer::optimizeConst: deactivating const optimization\n",
      "[#0] WARNING:NumericIntegration -- RooAdaptiveIntegratorND::dtor(model) WARNING: Number of suppressed warningings about integral evaluations where target precision was not reached is 20\n"
     ]
    }
   ],
   "source": [
    "w.pdf(\"model\").fitTo(\n",
    "    d, ROOT.RooFit.Verbose(\n",
    "        ROOT.kTRUE), ROOT.RooFit.Timer(\n",
    "            ROOT.kTRUE))"
   ]
  },
  {
   "cell_type": "markdown",
   "metadata": {},
   "source": [
    "Projection on x (always slow as 2D integral over Y, at fitted value of a\n",
    "is not cached)"
   ]
  },
  {
   "cell_type": "code",
   "execution_count": 5,
   "metadata": {
    "collapsed": false
   },
   "outputs": [
    {
     "data": {
      "text/plain": [
       "<ROOT.RooPlot object (\"frame_x_55f8a3015f90\") at 0x55f8a3015f90>"
      ]
     },
     "execution_count": 5,
     "metadata": {},
     "output_type": "execute_result"
    },
    {
     "name": "stdout",
     "output_type": "stream",
     "text": [
      "[#1] INFO:Plotting -- RooAbsReal::plotOn(model) plot on x integrates over variables (y,z)\n",
      "[#1] INFO:NumericIntegration -- RooRealIntegral::init(model_Int[y,z]_Norm[x,y,z]) using numeric integrator RooAdaptiveIntegratorND to calculate Int(y,z)\n"
     ]
    }
   ],
   "source": [
    "framex = w.var(\"x\").frame(ROOT.RooFit.Title(\"Projection of 3D model on X\"))\n",
    "d.plotOn(framex)\n",
    "w.pdf(\"model\").plotOn(framex)"
   ]
  },
  {
   "cell_type": "markdown",
   "metadata": {},
   "source": [
    "Draw x projection on canvas"
   ]
  },
  {
   "cell_type": "code",
   "execution_count": 6,
   "metadata": {
    "collapsed": false
   },
   "outputs": [
    {
     "name": "stderr",
     "output_type": "stream",
     "text": [
      "Info in <TCanvas::Print>: png file rf903_numintcache.png has been created\n"
     ]
    }
   ],
   "source": [
    "c = ROOT.TCanvas(\"rf903_numintcache\", \"rf903_numintcache\", 600, 600)\n",
    "framex.Draw()\n",
    "\n",
    "c.SaveAs(\"rf903_numintcache.png\")"
   ]
  },
  {
   "cell_type": "markdown",
   "metadata": {},
   "source": [
    "Make workspace available on command line after macro finishes"
   ]
  },
  {
   "cell_type": "code",
   "execution_count": 7,
   "metadata": {
    "collapsed": false
   },
   "outputs": [],
   "source": [
    "ROOT.gDirectory.Add(w)"
   ]
  },
  {
   "cell_type": "markdown",
   "metadata": {},
   "source": [
    "Draw all canvases "
   ]
  },
  {
   "cell_type": "code",
   "execution_count": 8,
   "metadata": {
    "collapsed": false
   },
   "outputs": [
    {
     "data": {
      "image/png": "[encoded data removed]",
      "text/plain": [
       "<IPython.core.display.Image object>"
      ]
     },
     "metadata": {},
     "output_type": "display_data"
    }
   ],
   "source": [
    "from ROOT import gROOT \n",
    "gROOT.GetListOfCanvases().Draw()"
   ]
  }
 ],
 "metadata": {
  "kernelspec": {
   "display_name": "Python 2",
   "language": "python",
   "name": "python2"
  },
  "language_info": {
   "codemirror_mode": {
    "name": "ipython",
    "version": 2
   },
   "file_extension": ".py",
   "mimetype": "text/x-python",
   "name": "python",
   "nbconvert_exporter": "python",
   "pygments_lexer": "ipython2",
   "version": "2.7.10"
  }
 },
 "nbformat": 4,
 "nbformat_minor": 2
}
