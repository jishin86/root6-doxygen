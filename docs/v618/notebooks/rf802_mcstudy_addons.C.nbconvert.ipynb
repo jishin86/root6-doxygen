{
 "cells": [
  {
   "cell_type": "markdown",
   "metadata": {},
   "source": [
    "# Rf 8 0 2_Mcstudy_Addons\n",
    "Validation and MC studies:\n",
    "RooMCStudy - using separate fit and generator models, using the chi^2 calculator model\n",
    "Running a biased fit model against an optimal fit.\n",
    "\n",
    "\n",
    "\n",
    "**Author:** 07/2008 - Wouter Verkerke  \n",
    "<i><small>This notebook tutorial was automatically generated with <a href= \"https://github.com/root-project/root/blob/master/documentation/doxygen/converttonotebook.py\">ROOTBOOK-izer</a> from the macro found in the ROOT repository  on Thursday, August 29, 2019 at 03:04 AM.</small></i>"
   ]
  },
  {
   "cell_type": "code",
   "execution_count": 1,
   "metadata": {
    "collapsed": false
   },
   "outputs": [],
   "source": [
    "%%cpp -d\n",
    "#include \"RooRealVar.h\"\n",
    "#include \"RooDataSet.h\"\n",
    "#include \"RooGaussian.h\"\n",
    "#include \"RooConstVar.h\"\n",
    "#include \"RooChebychev.h\"\n",
    "#include \"RooAddPdf.h\"\n",
    "#include \"RooMCStudy.h\"\n",
    "#include \"RooChi2MCSModule.h\"\n",
    "#include \"RooPlot.h\"\n",
    "#include \"TCanvas.h\"\n",
    "#include \"TAxis.h\"\n",
    "#include \"TH1.h\"\n",
    "#include \"TDirectory.h\"\n",
    "#include \"TLegend.h\""
   ]
  },
  {
   "cell_type": "code",
   "execution_count": 2,
   "metadata": {
    "collapsed": false
   },
   "outputs": [],
   "source": [
    "%%cpp -d\n",
    "// This is a workaround to make sure the namespace is used inside functions\n",
    "using namespace RooFit;"
   ]
  },
  {
   "cell_type": "markdown",
   "metadata": {},
   "source": [
    "Create model\n",
    " -----------------------"
   ]
  },
  {
   "cell_type": "markdown",
   "metadata": {},
   "source": [
    "Observables, parameters"
   ]
  },
  {
   "cell_type": "code",
   "execution_count": 3,
   "metadata": {
    "collapsed": false
   },
   "outputs": [
    {
     "name": "stdout",
     "output_type": "stream",
     "text": [
      "\n",
      "\u001b[1mRooFit v3.60 -- Developed by Wouter Verkerke and David Kirkby\u001b[0m \n",
      "                Copyright (C) 2000-2013 NIKHEF, University of California & Stanford University\n",
      "                All rights reserved, please read http://roofit.sourceforge.net/license.txt\n",
      "\n"
     ]
    }
   ],
   "source": [
    "RooRealVar x(\"x\", \"x\", -10, 10);\n",
    "x.setBins(10);\n",
    "RooRealVar mean(\"mean\", \"mean of gaussian\", 0, -2., 1.8);\n",
    "RooRealVar sigma(\"sigma\", \"width of gaussian\", 5, 1, 10);"
   ]
  },
  {
   "cell_type": "markdown",
   "metadata": {},
   "source": [
    "Create gaussian pdf"
   ]
  },
  {
   "cell_type": "code",
   "execution_count": 4,
   "metadata": {
    "collapsed": false
   },
   "outputs": [],
   "source": [
    "RooGaussian gauss(\"gauss\", \"gaussian PDF\", x, mean, sigma);"
   ]
  },
  {
   "cell_type": "markdown",
   "metadata": {},
   "source": [
    "Create manager with chi^2 add-on module\n",
    " ----------------------------------------------------------------------------"
   ]
  },
  {
   "cell_type": "markdown",
   "metadata": {},
   "source": [
    "Create study manager for binned likelihood fits of a gaussian pdf in 10 bins"
   ]
  },
  {
   "cell_type": "code",
   "execution_count": 5,
   "metadata": {
    "collapsed": false
   },
   "outputs": [],
   "source": [
    "RooMCStudy *mcs = new RooMCStudy(gauss, x, Silence(), Binned());"
   ]
  },
  {
   "cell_type": "markdown",
   "metadata": {},
   "source": [
    "Add chi^2 calculator module to mcs"
   ]
  },
  {
   "cell_type": "code",
   "execution_count": 6,
   "metadata": {
    "collapsed": false
   },
   "outputs": [],
   "source": [
    "RooChi2MCSModule chi2mod;\n",
    "mcs->addModule(chi2mod);"
   ]
  },
  {
   "cell_type": "markdown",
   "metadata": {},
   "source": [
    "Generate 1000 samples of 1000 events"
   ]
  },
  {
   "cell_type": "code",
   "execution_count": 7,
   "metadata": {
    "collapsed": false
   },
   "outputs": [
    {
     "name": "stdout",
     "output_type": "stream",
     "text": [
      "[#0] PROGRESS:Generation -- RooMCStudy::run: sample 1980\n",
      "[#0] PROGRESS:Generation -- RooMCStudy::run: sample 1960\n",
      "[#0] PROGRESS:Generation -- RooMCStudy::run: sample 1940\n",
      "[#0] PROGRESS:Generation -- RooMCStudy::run: sample 1920\n",
      "[#0] PROGRESS:Generation -- RooMCStudy::run: sample 1900\n",
      "[#0] PROGRESS:Generation -- RooMCStudy::run: sample 1880\n",
      "[#0] PROGRESS:Generation -- RooMCStudy::run: sample 1860\n",
      "[#0] PROGRESS:Generation -- RooMCStudy::run: sample 1840\n",
      "[#0] PROGRESS:Generation -- RooMCStudy::run: sample 1820\n",
      "[#0] PROGRESS:Generation -- RooMCStudy::run: sample 1800\n",
      "[#0] PROGRESS:Generation -- RooMCStudy::run: sample 1780\n",
      "[#0] PROGRESS:Generation -- RooMCStudy::run: sample 1760\n",
      "[#0] PROGRESS:Generation -- RooMCStudy::run: sample 1740\n",
      "[#0] PROGRESS:Generation -- RooMCStudy::run: sample 1720\n",
      "[#0] PROGRESS:Generation -- RooMCStudy::run: sample 1700\n",
      "[#0] PROGRESS:Generation -- RooMCStudy::run: sample 1680\n",
      "[#0] PROGRESS:Generation -- RooMCStudy::run: sample 1660\n",
      "[#0] PROGRESS:Generation -- RooMCStudy::run: sample 1640\n",
      "[#0] PROGRESS:Generation -- RooMCStudy::run: sample 1620\n",
      "[#0] PROGRESS:Generation -- RooMCStudy::run: sample 1600\n",
      "[#0] PROGRESS:Generation -- RooMCStudy::run: sample 1580\n",
      "[#0] PROGRESS:Generation -- RooMCStudy::run: sample 1560\n",
      "[#0] PROGRESS:Generation -- RooMCStudy::run: sample 1540\n",
      "[#0] PROGRESS:Generation -- RooMCStudy::run: sample 1520\n",
      "[#0] PROGRESS:Generation -- RooMCStudy::run: sample 1500\n",
      "[#0] PROGRESS:Generation -- RooMCStudy::run: sample 1480\n",
      "[#0] PROGRESS:Generation -- RooMCStudy::run: sample 1460\n",
      "[#0] PROGRESS:Generation -- RooMCStudy::run: sample 1440\n",
      "[#0] PROGRESS:Generation -- RooMCStudy::run: sample 1420\n",
      "[#0] PROGRESS:Generation -- RooMCStudy::run: sample 1400\n",
      "[#0] PROGRESS:Generation -- RooMCStudy::run: sample 1380\n",
      "[#0] PROGRESS:Generation -- RooMCStudy::run: sample 1360\n",
      "[#0] PROGRESS:Generation -- RooMCStudy::run: sample 1340\n",
      "[#0] PROGRESS:Generation -- RooMCStudy::run: sample 1320\n",
      "[#0] PROGRESS:Generation -- RooMCStudy::run: sample 1300\n",
      "[#0] PROGRESS:Generation -- RooMCStudy::run: sample 1280\n",
      "[#0] PROGRESS:Generation -- RooMCStudy::run: sample 1260\n",
      "[#0] PROGRESS:Generation -- RooMCStudy::run: sample 1240\n",
      "[#0] PROGRESS:Generation -- RooMCStudy::run: sample 1220\n",
      "[#0] PROGRESS:Generation -- RooMCStudy::run: sample 1200\n",
      "[#0] PROGRESS:Generation -- RooMCStudy::run: sample 1180\n",
      "[#0] PROGRESS:Generation -- RooMCStudy::run: sample 1160\n",
      "[#0] PROGRESS:Generation -- RooMCStudy::run: sample 1140\n",
      "[#0] PROGRESS:Generation -- RooMCStudy::run: sample 1120\n",
      "[#0] PROGRESS:Generation -- RooMCStudy::run: sample 1100\n",
      "[#0] PROGRESS:Generation -- RooMCStudy::run: sample 1080\n",
      "[#0] PROGRESS:Generation -- RooMCStudy::run: sample 1060\n",
      "[#0] PROGRESS:Generation -- RooMCStudy::run: sample 1040\n",
      "[#0] PROGRESS:Generation -- RooMCStudy::run: sample 1020\n",
      "[#0] PROGRESS:Generation -- RooMCStudy::run: sample 1000\n",
      "[#0] PROGRESS:Generation -- RooMCStudy::run: sample 980\n",
      "[#0] PROGRESS:Generation -- RooMCStudy::run: sample 960\n",
      "[#0] PROGRESS:Generation -- RooMCStudy::run: sample 940\n",
      "[#0] PROGRESS:Generation -- RooMCStudy::run: sample 920\n",
      "[#0] PROGRESS:Generation -- RooMCStudy::run: sample 900\n",
      "[#0] PROGRESS:Generation -- RooMCStudy::run: sample 880\n",
      "[#0] PROGRESS:Generation -- RooMCStudy::run: sample 860\n",
      "[#0] PROGRESS:Generation -- RooMCStudy::run: sample 840\n",
      "[#0] PROGRESS:Generation -- RooMCStudy::run: sample 820\n",
      "[#0] PROGRESS:Generation -- RooMCStudy::run: sample 800\n",
      "[#0] PROGRESS:Generation -- RooMCStudy::run: sample 780\n",
      "[#0] PROGRESS:Generation -- RooMCStudy::run: sample 760\n",
      "[#0] PROGRESS:Generation -- RooMCStudy::run: sample 740\n",
      "[#0] PROGRESS:Generation -- RooMCStudy::run: sample 720\n",
      "[#0] PROGRESS:Generation -- RooMCStudy::run: sample 700\n",
      "[#0] PROGRESS:Generation -- RooMCStudy::run: sample 680\n",
      "[#0] PROGRESS:Generation -- RooMCStudy::run: sample 660\n",
      "[#0] PROGRESS:Generation -- RooMCStudy::run: sample 640\n",
      "[#0] PROGRESS:Generation -- RooMCStudy::run: sample 620\n",
      "[#0] PROGRESS:Generation -- RooMCStudy::run: sample 600\n",
      "[#0] PROGRESS:Generation -- RooMCStudy::run: sample 580\n",
      "[#0] PROGRESS:Generation -- RooMCStudy::run: sample 560\n",
      "[#0] PROGRESS:Generation -- RooMCStudy::run: sample 540\n",
      "[#0] PROGRESS:Generation -- RooMCStudy::run: sample 520\n",
      "[#0] PROGRESS:Generation -- RooMCStudy::run: sample 500\n",
      "[#0] PROGRESS:Generation -- RooMCStudy::run: sample 480\n",
      "[#0] PROGRESS:Generation -- RooMCStudy::run: sample 460\n",
      "[#0] PROGRESS:Generation -- RooMCStudy::run: sample 440\n",
      "[#0] PROGRESS:Generation -- RooMCStudy::run: sample 420\n",
      "[#0] PROGRESS:Generation -- RooMCStudy::run: sample 400\n",
      "[#0] PROGRESS:Generation -- RooMCStudy::run: sample 380\n",
      "[#0] PROGRESS:Generation -- RooMCStudy::run: sample 360\n",
      "[#0] PROGRESS:Generation -- RooMCStudy::run: sample 340\n",
      "[#0] PROGRESS:Generation -- RooMCStudy::run: sample 320\n",
      "[#0] PROGRESS:Generation -- RooMCStudy::run: sample 300\n",
      "[#0] PROGRESS:Generation -- RooMCStudy::run: sample 280\n",
      "[#0] PROGRESS:Generation -- RooMCStudy::run: sample 260\n",
      "[#0] PROGRESS:Generation -- RooMCStudy::run: sample 240\n",
      "[#0] PROGRESS:Generation -- RooMCStudy::run: sample 220\n",
      "[#0] PROGRESS:Generation -- RooMCStudy::run: sample 200\n",
      "[#0] PROGRESS:Generation -- RooMCStudy::run: sample 180\n",
      "[#0] PROGRESS:Generation -- RooMCStudy::run: sample 160\n",
      "[#0] PROGRESS:Generation -- RooMCStudy::run: sample 140\n",
      "[#0] PROGRESS:Generation -- RooMCStudy::run: sample 120\n",
      "[#0] PROGRESS:Generation -- RooMCStudy::run: sample 100\n",
      "[#0] PROGRESS:Generation -- RooMCStudy::run: sample 80\n",
      "[#0] PROGRESS:Generation -- RooMCStudy::run: sample 60\n",
      "[#0] PROGRESS:Generation -- RooMCStudy::run: sample 40\n",
      "[#0] PROGRESS:Generation -- RooMCStudy::run: sample 20\n",
      "[#0] PROGRESS:Generation -- RooMCStudy::run: sample 0\n"
     ]
    }
   ],
   "source": [
    "mcs->generateAndFit(2000, 1000);"
   ]
  },
  {
   "cell_type": "markdown",
   "metadata": {},
   "source": [
    "Fill histograms with distributions chi2 and prob(chi2,ndf) that\n",
    " are calculated by RooChiMCSModule"
   ]
  },
  {
   "cell_type": "code",
   "execution_count": 8,
   "metadata": {
    "collapsed": false
   },
   "outputs": [],
   "source": [
    "TH1 *hist_chi2 = mcs->fitParDataSet().createHistogram(\"chi2\");\n",
    "hist_chi2->SetTitle(\"#chi^{2} values of all toy runs;#chi^{2}\");\n",
    "TH1 *hist_prob = mcs->fitParDataSet().createHistogram(\"prob\");\n",
    "hist_prob->SetTitle(\"Corresponding #chi^{2} probability;Prob(#chi^{2},ndof)\");"
   ]
  },
  {
   "cell_type": "markdown",
   "metadata": {},
   "source": [
    "Create manager with separate fit model\n",
    " ----------------------------------------------------------------------------"
   ]
  },
  {
   "cell_type": "markdown",
   "metadata": {},
   "source": [
    "Create alternate pdf with shifted mean"
   ]
  },
  {
   "cell_type": "code",
   "execution_count": 9,
   "metadata": {
    "collapsed": false
   },
   "outputs": [],
   "source": [
    "RooRealVar mean2(\"mean2\", \"mean of gaussian 2\", 2.);\n",
    "RooGaussian gauss2(\"gauss2\", \"gaussian PDF2\", x, mean2, sigma);"
   ]
  },
  {
   "cell_type": "markdown",
   "metadata": {},
   "source": [
    "Create study manager with separate generation and fit model. this configuration\n",
    " is set up to generate biased fits as the fit and generator model have different means,\n",
    " and the mean parameter is limited to [-2., 1.8], so it just misses the optimal\n",
    " mean value of 2 in the data."
   ]
  },
  {
   "cell_type": "code",
   "execution_count": 10,
   "metadata": {
    "collapsed": false
   },
   "outputs": [],
   "source": [
    "RooMCStudy *mcs2 = new RooMCStudy(gauss2, x, FitModel(gauss), Silence(), Binned());"
   ]
  },
  {
   "cell_type": "markdown",
   "metadata": {},
   "source": [
    "Add chi^2 calculator module to mcs"
   ]
  },
  {
   "cell_type": "code",
   "execution_count": 11,
   "metadata": {
    "collapsed": false
   },
   "outputs": [],
   "source": [
    "RooChi2MCSModule chi2mod2;\n",
    "mcs2->addModule(chi2mod2);"
   ]
  },
  {
   "cell_type": "markdown",
   "metadata": {},
   "source": [
    "Generate 1000 samples of 1000 events"
   ]
  },
  {
   "cell_type": "code",
   "execution_count": 12,
   "metadata": {
    "collapsed": false
   },
   "outputs": [
    {
     "name": "stdout",
     "output_type": "stream",
     "text": [
      "[#0] PROGRESS:Generation -- RooMCStudy::run: sample 1980\n",
      "[#0] PROGRESS:Generation -- RooMCStudy::run: sample 1960\n",
      "[#0] PROGRESS:Generation -- RooMCStudy::run: sample 1940\n",
      "[#0] PROGRESS:Generation -- RooMCStudy::run: sample 1920\n",
      "[#0] PROGRESS:Generation -- RooMCStudy::run: sample 1900\n",
      "[#0] PROGRESS:Generation -- RooMCStudy::run: sample 1880\n",
      "[#0] PROGRESS:Generation -- RooMCStudy::run: sample 1860\n",
      "[#0] PROGRESS:Generation -- RooMCStudy::run: sample 1840\n",
      "[#0] PROGRESS:Generation -- RooMCStudy::run: sample 1820\n",
      "[#0] PROGRESS:Generation -- RooMCStudy::run: sample 1800\n",
      "[#0] PROGRESS:Generation -- RooMCStudy::run: sample 1780\n",
      "[#0] PROGRESS:Generation -- RooMCStudy::run: sample 1760\n",
      "[#0] PROGRESS:Generation -- RooMCStudy::run: sample 1740\n",
      "[#0] PROGRESS:Generation -- RooMCStudy::run: sample 1720\n",
      "[#0] PROGRESS:Generation -- RooMCStudy::run: sample 1700\n",
      "[#0] PROGRESS:Generation -- RooMCStudy::run: sample 1680\n",
      "[#0] PROGRESS:Generation -- RooMCStudy::run: sample 1660\n",
      "[#0] PROGRESS:Generation -- RooMCStudy::run: sample 1640\n",
      "[#0] PROGRESS:Generation -- RooMCStudy::run: sample 1620\n",
      "[#0] PROGRESS:Generation -- RooMCStudy::run: sample 1600\n",
      "[#0] PROGRESS:Generation -- RooMCStudy::run: sample 1580\n",
      "[#0] PROGRESS:Generation -- RooMCStudy::run: sample 1560\n",
      "[#0] PROGRESS:Generation -- RooMCStudy::run: sample 1540\n",
      "[#0] PROGRESS:Generation -- RooMCStudy::run: sample 1520\n",
      "[#0] PROGRESS:Generation -- RooMCStudy::run: sample 1500\n",
      "[#0] PROGRESS:Generation -- RooMCStudy::run: sample 1480\n",
      "[#0] PROGRESS:Generation -- RooMCStudy::run: sample 1460\n",
      "[#0] PROGRESS:Generation -- RooMCStudy::run: sample 1440\n",
      "[#0] PROGRESS:Generation -- RooMCStudy::run: sample 1420\n",
      "[#0] PROGRESS:Generation -- RooMCStudy::run: sample 1400\n",
      "[#0] PROGRESS:Generation -- RooMCStudy::run: sample 1380\n",
      "[#0] PROGRESS:Generation -- RooMCStudy::run: sample 1360\n",
      "[#0] PROGRESS:Generation -- RooMCStudy::run: sample 1340\n",
      "[#0] PROGRESS:Generation -- RooMCStudy::run: sample 1320\n",
      "[#0] PROGRESS:Generation -- RooMCStudy::run: sample 1300\n",
      "[#0] PROGRESS:Generation -- RooMCStudy::run: sample 1280\n",
      "[#0] PROGRESS:Generation -- RooMCStudy::run: sample 1260\n",
      "[#0] PROGRESS:Generation -- RooMCStudy::run: sample 1240\n",
      "[#0] PROGRESS:Generation -- RooMCStudy::run: sample 1220\n",
      "[#0] PROGRESS:Generation -- RooMCStudy::run: sample 1200\n",
      "[#0] PROGRESS:Generation -- RooMCStudy::run: sample 1180\n",
      "[#0] PROGRESS:Generation -- RooMCStudy::run: sample 1160\n",
      "[#0] PROGRESS:Generation -- RooMCStudy::run: sample 1140\n",
      "[#0] PROGRESS:Generation -- RooMCStudy::run: sample 1120\n",
      "[#0] PROGRESS:Generation -- RooMCStudy::run: sample 1100\n",
      "[#0] PROGRESS:Generation -- RooMCStudy::run: sample 1080\n",
      "[#0] PROGRESS:Generation -- RooMCStudy::run: sample 1060\n",
      "[#0] PROGRESS:Generation -- RooMCStudy::run: sample 1040\n",
      "[#0] PROGRESS:Generation -- RooMCStudy::run: sample 1020\n",
      "[#0] PROGRESS:Generation -- RooMCStudy::run: sample 1000\n",
      "[#0] PROGRESS:Generation -- RooMCStudy::run: sample 980\n",
      "[#0] PROGRESS:Generation -- RooMCStudy::run: sample 960\n",
      "[#0] PROGRESS:Generation -- RooMCStudy::run: sample 940\n",
      "[#0] PROGRESS:Generation -- RooMCStudy::run: sample 920\n",
      "[#0] PROGRESS:Generation -- RooMCStudy::run: sample 900\n",
      "[#0] PROGRESS:Generation -- RooMCStudy::run: sample 880\n",
      "[#0] PROGRESS:Generation -- RooMCStudy::run: sample 860\n",
      "[#0] PROGRESS:Generation -- RooMCStudy::run: sample 840\n",
      "[#0] PROGRESS:Generation -- RooMCStudy::run: sample 820\n",
      "[#0] PROGRESS:Generation -- RooMCStudy::run: sample 800\n",
      "[#0] PROGRESS:Generation -- RooMCStudy::run: sample 780\n",
      "[#0] PROGRESS:Generation -- RooMCStudy::run: sample 760\n",
      "[#0] PROGRESS:Generation -- RooMCStudy::run: sample 740\n",
      "[#0] PROGRESS:Generation -- RooMCStudy::run: sample 720\n",
      "[#0] PROGRESS:Generation -- RooMCStudy::run: sample 700\n",
      "[#0] PROGRESS:Generation -- RooMCStudy::run: sample 680\n",
      "[#0] PROGRESS:Generation -- RooMCStudy::run: sample 660\n",
      "[#0] PROGRESS:Generation -- RooMCStudy::run: sample 640\n",
      "[#0] PROGRESS:Generation -- RooMCStudy::run: sample 620\n",
      "[#0] PROGRESS:Generation -- RooMCStudy::run: sample 600\n",
      "[#0] PROGRESS:Generation -- RooMCStudy::run: sample 580\n",
      "[#0] PROGRESS:Generation -- RooMCStudy::run: sample 560\n",
      "[#0] PROGRESS:Generation -- RooMCStudy::run: sample 540\n",
      "[#0] PROGRESS:Generation -- RooMCStudy::run: sample 520\n",
      "[#0] PROGRESS:Generation -- RooMCStudy::run: sample 500\n",
      "[#0] PROGRESS:Generation -- RooMCStudy::run: sample 480\n",
      "[#0] PROGRESS:Generation -- RooMCStudy::run: sample 460\n",
      "[#0] PROGRESS:Generation -- RooMCStudy::run: sample 440\n",
      "[#0] PROGRESS:Generation -- RooMCStudy::run: sample 420\n",
      "[#0] PROGRESS:Generation -- RooMCStudy::run: sample 400\n",
      "[#0] PROGRESS:Generation -- RooMCStudy::run: sample 380\n",
      "[#0] PROGRESS:Generation -- RooMCStudy::run: sample 360\n",
      "[#0] PROGRESS:Generation -- RooMCStudy::run: sample 340\n",
      "[#0] PROGRESS:Generation -- RooMCStudy::run: sample 320\n",
      "[#0] PROGRESS:Generation -- RooMCStudy::run: sample 300\n",
      "[#0] PROGRESS:Generation -- RooMCStudy::run: sample 280\n",
      "[#0] PROGRESS:Generation -- RooMCStudy::run: sample 260\n",
      "[#0] PROGRESS:Generation -- RooMCStudy::run: sample 240\n",
      "[#0] PROGRESS:Generation -- RooMCStudy::run: sample 220\n",
      "[#0] PROGRESS:Generation -- RooMCStudy::run: sample 200\n",
      "[#0] PROGRESS:Generation -- RooMCStudy::run: sample 180\n",
      "[#0] PROGRESS:Generation -- RooMCStudy::run: sample 160\n",
      "[#0] PROGRESS:Generation -- RooMCStudy::run: sample 140\n",
      "[#0] PROGRESS:Generation -- RooMCStudy::run: sample 120\n",
      "[#0] PROGRESS:Generation -- RooMCStudy::run: sample 100\n",
      "[#0] PROGRESS:Generation -- RooMCStudy::run: sample 80\n",
      "[#0] PROGRESS:Generation -- RooMCStudy::run: sample 60\n",
      "[#0] PROGRESS:Generation -- RooMCStudy::run: sample 40\n",
      "[#0] PROGRESS:Generation -- RooMCStudy::run: sample 20\n",
      "[#0] PROGRESS:Generation -- RooMCStudy::run: sample 0\n",
      "[#0] WARNING:Generation -- The fit parameter 'mean' is not in the model that was used to generate toy data. The parameter 'mean2'=2 was found at the same position in the generator model. It will be used to compute pulls.\n",
      "If this is not desired, the parameters of the generator model need to be renamed or reordered.\n"
     ]
    }
   ],
   "source": [
    "mcs2->generateAndFit(2000, 1000);"
   ]
  },
  {
   "cell_type": "markdown",
   "metadata": {},
   "source": [
    "Request a the pull plot of mean. the pulls will be one-sided because\n",
    " `mean` is limited to 1.8.\n",
    " Note that RooFit will have trouble to compute the pulls because the parameters\n",
    " are called `mean` in the fit, but `mean2` in the generator model. It is not obvious\n",
    " that these are related. RooFit will nevertheless compute pulls, but complain that\n",
    " this is risky."
   ]
  },
  {
   "cell_type": "code",
   "execution_count": 13,
   "metadata": {
    "collapsed": false
   },
   "outputs": [],
   "source": [
    "auto pullMeanFrame = mcs2->plotPull(mean);"
   ]
  },
  {
   "cell_type": "markdown",
   "metadata": {},
   "source": [
    "Fill histograms with distributions chi2 and prob(chi2,ndf) that\n",
    " are calculated by RooChiMCSModule"
   ]
  },
  {
   "cell_type": "code",
   "execution_count": 14,
   "metadata": {
    "collapsed": false
   },
   "outputs": [],
   "source": [
    "TH1 *hist2_chi2 = mcs2->fitParDataSet().createHistogram(\"chi2\");\n",
    "TH1 *hist2_prob = mcs2->fitParDataSet().createHistogram(\"prob\");\n",
    "hist2_chi2->SetLineColor(kRed);\n",
    "hist2_prob->SetLineColor(kRed);\n",
    "\n",
    "TLegend leg;\n",
    "leg.AddEntry(hist_chi2, \"Optimal fit\", \"L\");\n",
    "leg.AddEntry(hist2_chi2, \"Biased fit\", \"L\");\n",
    "leg.SetBorderSize(0);\n",
    "leg.SetFillStyle(0);\n",
    "\n",
    "TCanvas *c = new TCanvas(\"rf802_mcstudy_addons\", \"rf802_mcstudy_addons\", 800, 400);\n",
    "c->Divide(3);\n",
    "c->cd(1);\n",
    "gPad->SetLeftMargin(0.15);\n",
    "hist_chi2->GetYaxis()->SetTitleOffset(1.4);\n",
    "hist_chi2->Draw();\n",
    "hist2_chi2->Draw(\"esame\");\n",
    "leg.DrawClone();\n",
    "c->cd(2);\n",
    "gPad->SetLeftMargin(0.15);\n",
    "hist_prob->GetYaxis()->SetTitleOffset(1.4);\n",
    "hist_prob->Draw();\n",
    "hist2_prob->Draw(\"esame\");\n",
    "c->cd(3);\n",
    "pullMeanFrame->Draw();"
   ]
  },
  {
   "cell_type": "markdown",
   "metadata": {},
   "source": [
    "Make roomcstudy object available on command line after\n",
    " macro finishes"
   ]
  },
  {
   "cell_type": "code",
   "execution_count": 15,
   "metadata": {
    "collapsed": false
   },
   "outputs": [],
   "source": [
    "gDirectory->Add(mcs);"
   ]
  },
  {
   "cell_type": "markdown",
   "metadata": {},
   "source": [
    "Draw all canvases "
   ]
  },
  {
   "cell_type": "code",
   "execution_count": 16,
   "metadata": {
    "collapsed": false
   },
   "outputs": [
    {
     "data": {
      "text/html": [
       "\n",
       "<div id=\"root_plot_1\"\n",
       "     style=\"width: 796px; height: 372px\">\n",
       "</div>\n",
       "\n",
       "<script>\n",
       " requirejs.config({\n",
       "     paths: {\n",
       "       'JSRootCore' : 'https://root.cern.ch/js/notebook//scripts/JSRootCore',\n",
       "     }\n",
       "   });\n",
       " require(['JSRootCore'],\n",
       "     function(Core) {\n",
       "       var obj = Core.JSONR_unref({\"_typename\":\"TCanvas\",\"fUniqueID\":0,\"fBits\":53673992,\"fLineColor\":1,\"fLineStyle\":1,\"fLineWidth\":1,\"fFillColor\":0,\"fFillStyle\":1001,\"fLeftMargin\":0.1,\"fRightMargin\":0.1,\"fBottomMargin\":0.1,\"fTopMargin\":0.1,\"fXfile\":2,\"fYfile\":2,\"fAfile\":1,\"fXstat\":0.99,\"fYstat\":0.99,\"fAstat\":2,\"fFrameFillColor\":0,\"fFrameLineColor\":1,\"fFrameFillStyle\":1001,\"fFrameLineStyle\":1,\"fFrameLineWidth\":1,\"fFrameBorderSize\":1,\"fFrameBorderMode\":0,\"fX1\":0,\"fY1\":0,\"fX2\":1,\"fY2\":1,\"fXtoAbsPixelk\":5e-5,\"fXtoPixelk\":5e-5,\"fXtoPixel\":796,\"fYtoAbsPixelk\":372.00005,\"fYtoPixelk\":372.00005,\"fYtoPixel\":-372,\"fUtoAbsPixelk\":5e-5,\"fUtoPixelk\":5e-5,\"fUtoPixel\":796,\"fVtoAbsPixelk\":372.00005,\"fVtoPixelk\":372,\"fVtoPixel\":-372,\"fAbsPixeltoXk\":0,\"fPixeltoXk\":0,\"fPixeltoX\":0.00125628140703518,\"fAbsPixeltoYk\":1,\"fPixeltoYk\":0,\"fPixeltoY\":-0.00268817204301075,\"fXlowNDC\":0,\"fYlowNDC\":0,\"fXUpNDC\":0,\"fYUpNDC\":0,\"fWNDC\":1,\"fHNDC\":1,\"fAbsXlowNDC\":0,\"fAbsYlowNDC\":0,\"fAbsWNDC\":1,\"fAbsHNDC\":1,\"fUxmin\":0,\"fUymin\":0,\"fUxmax\":1,\"fUymax\":1,\"fTheta\":30,\"fPhi\":30,\"fAspectRatio\":0,\"fNumber\":0,\"fTickx\":0,\"fTicky\":0,\"fLogx\":0,\"fLogy\":0,\"fLogz\":0,\"fPadPaint\":0,\"fCrosshair\":0,\"fCrosshairPos\":0,\"fBorderSize\":2,\"fBorderMode\":0,\"fModified\":false,\"fGridx\":false,\"fGridy\":false,\"fAbsCoord\":false,\"fEditable\":true,\"fFixedAspectRatio\":false,\"fPrimitives\":{\"_typename\":\"TList\",\"name\":\"TList\",\"arr\":[{\"_typename\":\"TPad\",\"fUniqueID\":0,\"fBits\":50331657,\"fLineColor\":1,\"fLineStyle\":1,\"fLineWidth\":1,\"fFillColor\":0,\"fFillStyle\":1001,\"fLeftMargin\":0.15,\"fRightMargin\":0.1,\"fBottomMargin\":0.1,\"fTopMargin\":0.1,\"fXfile\":2,\"fYfile\":2,\"fAfile\":1,\"fXstat\":0.99,\"fYstat\":0.99,\"fAstat\":2,\"fFrameFillColor\":0,\"fFrameLineColor\":1,\"fFrameFillStyle\":1001,\"fFrameLineStyle\":1,\"fFrameLineWidth\":1,\"fFrameBorderSize\":1,\"fFrameBorderMode\":0,\"fX1\":-8.43203321990672,\"fY1\":-11.6739365579634,\"fX2\":33.1640487277587,\"fY2\":105.065422063463,\"fXtoAbsPixelk\":58.519175025285,\"fXtoPixelk\":50.5591752032048,\"fXtoPixel\":5.99607756333818,\"fYtoAbsPixelk\":331.824047893572,\"fYtoPixelk\":328.10404797672,\"fYtoPixel\":-3.12285423246609,\"fUtoAbsPixelk\":7.96004982208014,\"fUtoPixelk\":5e-5,\"fUtoPixel\":249.413333689173,\"fVtoAbsPixelk\":368.280050083148,\"fVtoPixelk\":364.560000166297,\"fVtoPixel\":-364.560000166297,\"fAbsPixeltoXk\":-9.75956771858465,\"fPixeltoXk\":-8.43203321990672,\"fPixeltoX\":0.166775694516412,\"fAbsPixeltoYk\":106.25663998141,\"fPixeltoYk\":-11.6739365579634,\"fPixeltoY\":-0.320219877573443,\"fXlowNDC\":0.00999999977648258,\"fYlowNDC\":0.00999999977648258,\"fXUpNDC\":0,\"fYUpNDC\":0,\"fWNDC\":0.313333333780368,\"fHNDC\":0.980000000447035,\"fAbsXlowNDC\":0.00999999977648258,\"fAbsYlowNDC\":0.00999999977648258,\"fAbsWNDC\":0.313333333780368,\"fAbsHNDC\":0.980000000447035,\"fUxmin\":-2.19262072631218,\"fUymin\":0,\"fUxmax\":29.0044405020007,\"fUymax\":93.3914855054991,\"fTheta\":30,\"fPhi\":30,\"fAspectRatio\":0,\"fNumber\":1,\"fTickx\":0,\"fTicky\":0,\"fLogx\":0,\"fLogy\":0,\"fLogz\":0,\"fPadPaint\":0,\"fCrosshair\":0,\"fCrosshairPos\":0,\"fBorderSize\":2,\"fBorderMode\":0,\"fModified\":false,\"fGridx\":false,\"fGridy\":false,\"fAbsCoord\":false,\"fEditable\":true,\"fFixedAspectRatio\":false,\"fPrimitives\":{\"_typename\":\"TList\",\"name\":\"TList\",\"arr\":[{\"_typename\":\"TFrame\",\"fUniqueID\":0,\"fBits\":50331656,\"fLineColor\":1,\"fLineStyle\":1,\"fLineWidth\":1,\"fFillColor\":0,\"fFillStyle\":1001,\"fX1\":-2.19262072631218,\"fY1\":0,\"fX2\":29.0044405020007,\"fY2\":93.3914855054991,\"fBorderSize\":1,\"fBorderMode\":0},{\"_typename\":\"TH1F\",\"fUniqueID\":0,\"fBits\":50331656,\"fName\":\"fitParData_gauss__chi2\",\"fTitle\":\"#chi^{2} values of all toy runs\",\"fLineColor\":602,\"fLineStyle\":1,\"fLineWidth\":1,\"fFillColor\":0,\"fFillStyle\":1001,\"fMarkerColor\":1,\"fMarkerStyle\":1,\"fMarkerSize\":1,\"fNcells\":102,\"fXaxis\":{\"_typename\":\"TAxis\",\"fUniqueID\":0,\"fBits\":50331648,\"fName\":\"xaxis\",\"fTitle\":\"#chi^{2}\",\"fNdivisions\":510,\"fAxisColor\":1,\"fLabelColor\":1,\"fLabelFont\":42,\"fLabelOffset\":0.005,\"fLabelSize\":0.035,\"fTickLength\":0.03,\"fTitleOffset\":1,\"fTitleSize\":0.035,\"fTitleColor\":1,\"fTitleFont\":42,\"fNbins\":100,\"fXmin\":-2.19262072631218,\"fXmax\":29.0044405020007,\"fXbins\":[],\"fFirst\":0,\"fLast\":0,\"fBits2\":0,\"fTimeDisplay\":false,\"fTimeFormat\":\"\",\"fLabels\":null,\"fModLabs\":null},\"fYaxis\":{\"_typename\":\"TAxis\",\"fUniqueID\":0,\"fBits\":50331648,\"fName\":\"yaxis\",\"fTitle\":\"Events \\/ ( 0.311971 )\",\"fNdivisions\":510,\"fAxisColor\":1,\"fLabelColor\":1,\"fLabelFont\":42,\"fLabelOffset\":0.005,\"fLabelSize\":0.035,\"fTickLength\":0.03,\"fTitleOffset\":1.4,\"fTitleSize\":0.035,\"fTitleColor\":1,\"fTitleFont\":42,\"fNbins\":1,\"fXmin\":0,\"fXmax\":1,\"fXbins\":[],\"fFirst\":0,\"fLast\":0,\"fBits2\":0,\"fTimeDisplay\":false,\"fTimeFormat\":\"\",\"fLabels\":null,\"fModLabs\":null},\"fZaxis\":{\"_typename\":\"TAxis\",\"fUniqueID\":0,\"fBits\":50331648,\"fName\":\"zaxis\",\"fTitle\":\"\",\"fNdivisions\":510,\"fAxisColor\":1,\"fLabelColor\":1,\"fLabelFont\":42,\"fLabelOffset\":0.005,\"fLabelSize\":0.035,\"fTickLength\":0.03,\"fTitleOffset\":1,\"fTitleSize\":0.035,\"fTitleColor\":1,\"fTitleFont\":42,\"fNbins\":1,\"fXmin\":0,\"fXmax\":1,\"fXbins\":[],\"fFirst\":0,\"fLast\":0,\"fBits2\":0,\"fTimeDisplay\":false,\"fTimeFormat\":\"\",\"fLabels\":null,\"fModLabs\":null},\"fBarOffset\":0,\"fBarWidth\":1000,\"fEntries\":2000,\"fTsumw\":2000,\"fTsumw2\":2000,\"fTsumwx\":14934.4637956792,\"fTsumwx2\":142493.59339618,\"fMaximum\":-1111,\"fMinimum\":-1111,\"fNormFactor\":0,\"fContour\":[],\"fSumw2\":[0,0,0,0,0,0,0,0,0,3,3,11,17,24,28,25,48,41,56,56,80,79,54,66,65,76,74,68,74,67,74,52,62,63,44,52,34,40,54,51,39,39,28,29,25,29,25,27,22,16,14,26,16,12,6,13,12,9,11,6,7,5,3,1,4,2,6,4,2,1,0,2,1,1,1,1,0,3,1,0,0,0,2,1,0,2,0,1,1,1,1,0,1,0,0,0,0,0,0,0,0,0],\"fOption\":\"\",\"fFunctions\":{\"_typename\":\"TList\",\"name\":\"TList\",\"arr\":[{\"_typename\":\"TPaveStats\",\"fUniqueID\":0,\"fBits\":50331657,\"fLineColor\":1,\"fLineStyle\":1,\"fLineWidth\":1,\"fFillColor\":0,\"fFillStyle\":1001,\"fX1\":24.0129113686887,\"fY1\":78.7990670694625,\"fX2\":32.3321278821877,\"fY2\":97.4773640313982,\"fX1NDC\":0.780000016093254,\"fY1NDC\":0.775000005960464,\"fX2NDC\":0.980000019073486,\"fY2NDC\":0.935000002384186,\"fBorderSize\":1,\"fInit\":1,\"fShadowColor\":1,\"fCornerRadius\":0,\"fOption\":\"brNDC\",\"fName\":\"stats\",\"fTextAngle\":0,\"fTextSize\":0,\"fTextAlign\":12,\"fTextColor\":1,\"fTextFont\":42,\"fLabel\":\"\",\"fLongest\":22,\"fMargin\":0.05,\"fLines\":{\"_typename\":\"TList\",\"name\":\"TList\",\"arr\":[{\"_typename\":\"TLatex\",\"fUniqueID\":0,\"fBits\":50331648,\"fName\":\"\",\"fTitle\":\"fitParData_gauss__chi2\",\"fTextAngle\":0,\"fTextSize\":0.0368,\"fTextAlign\":0,\"fTextColor\":0,\"fTextFont\":0,\"fX\":0,\"fY\":0,\"fLineColor\":1,\"fLineStyle\":1,\"fLineWidth\":2,\"fLimitFactorSize\":3,\"fOriginSize\":0.0368000008165836},{\"_typename\":\"TLatex\",\"fUniqueID\":0,\"fBits\":50331648,\"fName\":\"\",\"fTitle\":\"Entries = 2000   \",\"fTextAngle\":0,\"fTextSize\":0,\"fTextAlign\":0,\"fTextColor\":0,\"fTextFont\":0,\"fX\":0,\"fY\":0,\"fLineColor\":1,\"fLineStyle\":1,\"fLineWidth\":2,\"fLimitFactorSize\":3,\"fOriginSize\":0.04},{\"_typename\":\"TLatex\",\"fUniqueID\":0,\"fBits\":50331648,\"fName\":\"\",\"fTitle\":\"Mean  =  7.467\",\"fTextAngle\":0,\"fTextSize\":0,\"fTextAlign\":0,\"fTextColor\":0,\"fTextFont\":0,\"fX\":0,\"fY\":0,\"fLineColor\":1,\"fLineStyle\":1,\"fLineWidth\":2,\"fLimitFactorSize\":3,\"fOriginSize\":0.04},{\"_typename\":\"TLatex\",\"fUniqueID\":0,\"fBits\":50331648,\"fName\":\"\",\"fTitle\":\"Std Dev   =  3.935\",\"fTextAngle\":0,\"fTextSize\":0,\"fTextAlign\":0,\"fTextColor\":0,\"fTextFont\":0,\"fX\":0,\"fY\":0,\"fLineColor\":1,\"fLineStyle\":1,\"fLineWidth\":2,\"fLimitFactorSize\":3,\"fOriginSize\":0.04}],\"opt\":[\"\",\"\",\"\",\"\"]},\"fOptFit\":0,\"fOptStat\":1111,\"fFitFormat\":\"5.4g\",\"fStatFormat\":\"6.4g\",\"fParent\":{\"$ref\":5}}],\"opt\":[\"brNDC\"]},\"fBufferSize\":0,\"fBuffer\":[],\"fBinStatErrOpt\":0,\"fStatOverflows\":2,\"fArray\":[0,0,0,0,0,0,0,0,0,3,3,11,17,24,28,25,48,41,56,56,80,79,54,66,65,76,74,68,74,67,74,52,62,63,44,52,34,40,54,51,39,39,28,29,25,29,25,27,22,16,14,26,16,12,6,13,12,9,11,6,7,5,3,1,4,2,6,4,2,1,0,2,1,1,1,1,0,3,1,0,0,0,2,1,0,2,0,1,1,1,1,0,1,0,0,0,0,0,0,0,0,0]},{\"_typename\":\"TH1F\",\"fUniqueID\":0,\"fBits\":50331656,\"fName\":\"fitParData_gauss_gauss2__chi2\",\"fTitle\":\"Histogram of fitParData_gauss_gauss2__chi2\",\"fLineColor\":632,\"fLineStyle\":1,\"fLineWidth\":1,\"fFillColor\":0,\"fFillStyle\":1001,\"fMarkerColor\":1,\"fMarkerStyle\":1,\"fMarkerSize\":1,\"fNcells\":102,\"fXaxis\":{\"_typename\":\"TAxis\",\"fUniqueID\":0,\"fBits\":50331648,\"fName\":\"xaxis\",\"fTitle\":\"chi^2\",\"fNdivisions\":510,\"fAxisColor\":1,\"fLabelColor\":1,\"fLabelFont\":42,\"fLabelOffset\":0.005,\"fLabelSize\":0.035,\"fTickLength\":0.03,\"fTitleOffset\":1,\"fTitleSize\":0.035,\"fTitleColor\":1,\"fTitleFont\":42,\"fNbins\":100,\"fXmin\":-2.97655187611957,\"fXmax\":42.860371114611,\"fXbins\":[],\"fFirst\":0,\"fLast\":0,\"fBits2\":0,\"fTimeDisplay\":false,\"fTimeFormat\":\"\",\"fLabels\":null,\"fModLabs\":null},\"fYaxis\":{\"_typename\":\"TAxis\",\"fUniqueID\":0,\"fBits\":50331648,\"fName\":\"yaxis\",\"fTitle\":\"Events \\/ ( 0.458369 )\",\"fNdivisions\":510,\"fAxisColor\":1,\"fLabelColor\":1,\"fLabelFont\":42,\"fLabelOffset\":0.005,\"fLabelSize\":0.035,\"fTickLength\":0.03,\"fTitleOffset\":0,\"fTitleSize\":0.035,\"fTitleColor\":1,\"fTitleFont\":42,\"fNbins\":1,\"fXmin\":0,\"fXmax\":1,\"fXbins\":[],\"fFirst\":0,\"fLast\":0,\"fBits2\":0,\"fTimeDisplay\":false,\"fTimeFormat\":\"\",\"fLabels\":null,\"fModLabs\":null},\"fZaxis\":{\"_typename\":\"TAxis\",\"fUniqueID\":0,\"fBits\":50331648,\"fName\":\"zaxis\",\"fTitle\":\"\",\"fNdivisions\":510,\"fAxisColor\":1,\"fLabelColor\":1,\"fLabelFont\":42,\"fLabelOffset\":0.005,\"fLabelSize\":0.035,\"fTickLength\":0.03,\"fTitleOffset\":1,\"fTitleSize\":0.035,\"fTitleColor\":1,\"fTitleFont\":42,\"fNbins\":1,\"fXmin\":0,\"fXmax\":1,\"fXbins\":[],\"fFirst\":0,\"fLast\":0,\"fBits2\":0,\"fTimeDisplay\":false,\"fTimeFormat\":\"\",\"fLabels\":null,\"fModLabs\":null},\"fBarOffset\":0,\"fBarWidth\":1000,\"fEntries\":2000,\"fTsumw\":2000,\"fTsumw2\":2000,\"fTsumwx\":18859.6892081064,\"fTsumwx2\":229162.8181276,\"fMaximum\":-1111,\"fMinimum\":-1111,\"fNormFactor\":0,\"fContour\":[],\"fSumw2\":[0,0,0,0,0,0,0,0,0,1,13,16,31,36,47,47,64,86,82,84,95,94,72,70,69,72,85,65,76,55,69,75,53,45,53,44,49,31,37,25,23,21,21,23,18,20,9,12,8,13,7,10,9,7,4,6,6,3,4,12,3,1,3,1,0,0,3,1,2,1,0,0,3,1,0,0,1,0,0,0,0,0,0,0,1,0,0,1,0,0,0,0,1,0,0,0,0,0,0,0,0,0],\"fOption\":\"\",\"fFunctions\":{\"_typename\":\"TList\",\"name\":\"TList\",\"arr\":[],\"opt\":[]},\"fBufferSize\":0,\"fBuffer\":[],\"fBinStatErrOpt\":0,\"fStatOverflows\":2,\"fArray\":[0,0,0,0,0,0,0,0,0,1,13,16,31,36,47,47,64,86,82,84,95,94,72,70,69,72,85,65,76,55,69,75,53,45,53,44,49,31,37,25,23,21,21,23,18,20,9,12,8,13,7,10,9,7,4,6,6,3,4,12,3,1,3,1,0,0,3,1,2,1,0,0,3,1,0,0,1,0,0,0,0,0,0,0,1,0,0,1,0,0,0,0,1,0,0,0,0,0,0,0,0,0]},{\"_typename\":\"TLegend\",\"fUniqueID\":0,\"fBits\":50331656,\"fLineColor\":1,\"fLineStyle\":1,\"fLineWidth\":1,\"fFillColor\":0,\"fFillStyle\":0,\"fX1\":11.0496760467214,\"fY1\":76.6693618582508,\"fX2\":23.5285006310211,\"fY2\":94.1802656514647,\"fX1NDC\":0.468354430379747,\"fY1NDC\":0.756756756756757,\"fX2NDC\":0.768354430379747,\"fY2NDC\":0.906756756756757,\"fBorderSize\":0,\"fInit\":1,\"fShadowColor\":1,\"fCornerRadius\":0,\"fOption\":\"brNDC\",\"fName\":\"TPave\",\"fTextAngle\":0,\"fTextSize\":0,\"fTextAlign\":12,\"fTextColor\":1,\"fTextFont\":42,\"fPrimitives\":{\"_typename\":\"TList\",\"name\":\"TList\",\"arr\":[{\"_typename\":\"TLegendEntry\",\"fUniqueID\":0,\"fBits\":50331648,\"fTextAngle\":0,\"fTextSize\":0,\"fTextAlign\":0,\"fTextColor\":0,\"fTextFont\":42,\"fLineColor\":602,\"fLineStyle\":1,\"fLineWidth\":1,\"fFillColor\":0,\"fFillStyle\":0,\"fMarkerColor\":1,\"fMarkerStyle\":21,\"fMarkerSize\":1,\"fObject\":{\"_typename\":\"TH1F\",\"fUniqueID\":0,\"fBits\":50331648,\"fName\":\"fitParData_gauss__chi2\",\"fTitle\":\"#chi^{2} values of all toy runs\",\"fLineColor\":602,\"fLineStyle\":1,\"fLineWidth\":1,\"fFillColor\":0,\"fFillStyle\":1001,\"fMarkerColor\":1,\"fMarkerStyle\":1,\"fMarkerSize\":1,\"fNcells\":102,\"fXaxis\":{\"_typename\":\"TAxis\",\"fUniqueID\":0,\"fBits\":50331648,\"fName\":\"xaxis\",\"fTitle\":\"#chi^{2}\",\"fNdivisions\":510,\"fAxisColor\":1,\"fLabelColor\":1,\"fLabelFont\":42,\"fLabelOffset\":0.005,\"fLabelSize\":0.035,\"fTickLength\":0.03,\"fTitleOffset\":1,\"fTitleSize\":0.035,\"fTitleColor\":1,\"fTitleFont\":42,\"fNbins\":100,\"fXmin\":-2.19262072631218,\"fXmax\":29.0044405020007,\"fXbins\":[],\"fFirst\":0,\"fLast\":0,\"fBits2\":0,\"fTimeDisplay\":false,\"fTimeFormat\":\"\",\"fLabels\":null,\"fModLabs\":null},\"fYaxis\":{\"_typename\":\"TAxis\",\"fUniqueID\":0,\"fBits\":50331648,\"fName\":\"yaxis\",\"fTitle\":\"Events \\/ ( 0.311971 )\",\"fNdivisions\":510,\"fAxisColor\":1,\"fLabelColor\":1,\"fLabelFont\":42,\"fLabelOffset\":0.005,\"fLabelSize\":0.035,\"fTickLength\":0.03,\"fTitleOffset\":1.4,\"fTitleSize\":0.035,\"fTitleColor\":1,\"fTitleFont\":42,\"fNbins\":1,\"fXmin\":0,\"fXmax\":1,\"fXbins\":[],\"fFirst\":0,\"fLast\":0,\"fBits2\":0,\"fTimeDisplay\":false,\"fTimeFormat\":\"\",\"fLabels\":null,\"fModLabs\":null},\"fZaxis\":{\"_typename\":\"TAxis\",\"fUniqueID\":0,\"fBits\":50331648,\"fName\":\"zaxis\",\"fTitle\":\"\",\"fNdivisions\":510,\"fAxisColor\":1,\"fLabelColor\":1,\"fLabelFont\":42,\"fLabelOffset\":0.005,\"fLabelSize\":0.035,\"fTickLength\":0.03,\"fTitleOffset\":1,\"fTitleSize\":0.035,\"fTitleColor\":1,\"fTitleFont\":42,\"fNbins\":1,\"fXmin\":0,\"fXmax\":1,\"fXbins\":[],\"fFirst\":0,\"fLast\":0,\"fBits2\":0,\"fTimeDisplay\":false,\"fTimeFormat\":\"\",\"fLabels\":null,\"fModLabs\":null},\"fBarOffset\":0,\"fBarWidth\":1000,\"fEntries\":2000,\"fTsumw\":2000,\"fTsumw2\":2000,\"fTsumwx\":14934.4637956792,\"fTsumwx2\":142493.59339618,\"fMaximum\":-1111,\"fMinimum\":-1111,\"fNormFactor\":0,\"fContour\":[],\"fSumw2\":[0,0,0,0,0,0,0,0,0,3,3,11,17,24,28,25,48,41,56,56,80,79,54,66,65,76,74,68,74,67,74,52,62,63,44,52,34,40,54,51,39,39,28,29,25,29,25,27,22,16,14,26,16,12,6,13,12,9,11,6,7,5,3,1,4,2,6,4,2,1,0,2,1,1,1,1,0,3,1,0,0,0,2,1,0,2,0,1,1,1,1,0,1,0,0,0,0,0,0,0,0,0],\"fOption\":\"\",\"fFunctions\":{\"_typename\":\"TList\",\"name\":\"TList\",\"arr\":[],\"opt\":[]},\"fBufferSize\":0,\"fBuffer\":[],\"fBinStatErrOpt\":0,\"fStatOverflows\":2,\"fArray\":[0,0,0,0,0,0,0,0,0,3,3,11,17,24,28,25,48,41,56,56,80,79,54,66,65,76,74,68,74,67,74,52,62,63,44,52,34,40,54,51,39,39,28,29,25,29,25,27,22,16,14,26,16,12,6,13,12,9,11,6,7,5,3,1,4,2,6,4,2,1,0,2,1,1,1,1,0,3,1,0,0,0,2,1,0,2,0,1,1,1,1,0,1,0,0,0,0,0,0,0,0,0]},\"fLabel\":\"Optimal fit\",\"fOption\":\"L\"},{\"_typename\":\"TLegendEntry\",\"fUniqueID\":0,\"fBits\":50331648,\"fTextAngle\":0,\"fTextSize\":0,\"fTextAlign\":0,\"fTextColor\":0,\"fTextFont\":42,\"fLineColor\":632,\"fLineStyle\":1,\"fLineWidth\":1,\"fFillColor\":0,\"fFillStyle\":0,\"fMarkerColor\":1,\"fMarkerStyle\":21,\"fMarkerSize\":1,\"fObject\":{\"_typename\":\"TH1F\",\"fUniqueID\":0,\"fBits\":50331648,\"fName\":\"fitParData_gauss_gauss2__chi2\",\"fTitle\":\"Histogram of fitParData_gauss_gauss2__chi2\",\"fLineColor\":632,\"fLineStyle\":1,\"fLineWidth\":1,\"fFillColor\":0,\"fFillStyle\":1001,\"fMarkerColor\":1,\"fMarkerStyle\":1,\"fMarkerSize\":1,\"fNcells\":102,\"fXaxis\":{\"_typename\":\"TAxis\",\"fUniqueID\":0,\"fBits\":50331648,\"fName\":\"xaxis\",\"fTitle\":\"chi^2\",\"fNdivisions\":510,\"fAxisColor\":1,\"fLabelColor\":1,\"fLabelFont\":42,\"fLabelOffset\":0.005,\"fLabelSize\":0.035,\"fTickLength\":0.03,\"fTitleOffset\":1,\"fTitleSize\":0.035,\"fTitleColor\":1,\"fTitleFont\":42,\"fNbins\":100,\"fXmin\":-2.97655187611957,\"fXmax\":42.860371114611,\"fXbins\":[],\"fFirst\":0,\"fLast\":0,\"fBits2\":0,\"fTimeDisplay\":false,\"fTimeFormat\":\"\",\"fLabels\":null,\"fModLabs\":null},\"fYaxis\":{\"_typename\":\"TAxis\",\"fUniqueID\":0,\"fBits\":50331648,\"fName\":\"yaxis\",\"fTitle\":\"Events \\/ ( 0.458369 )\",\"fNdivisions\":510,\"fAxisColor\":1,\"fLabelColor\":1,\"fLabelFont\":42,\"fLabelOffset\":0.005,\"fLabelSize\":0.035,\"fTickLength\":0.03,\"fTitleOffset\":0,\"fTitleSize\":0.035,\"fTitleColor\":1,\"fTitleFont\":42,\"fNbins\":1,\"fXmin\":0,\"fXmax\":1,\"fXbins\":[],\"fFirst\":0,\"fLast\":0,\"fBits2\":0,\"fTimeDisplay\":false,\"fTimeFormat\":\"\",\"fLabels\":null,\"fModLabs\":null},\"fZaxis\":{\"_typename\":\"TAxis\",\"fUniqueID\":0,\"fBits\":50331648,\"fName\":\"zaxis\",\"fTitle\":\"\",\"fNdivisions\":510,\"fAxisColor\":1,\"fLabelColor\":1,\"fLabelFont\":42,\"fLabelOffset\":0.005,\"fLabelSize\":0.035,\"fTickLength\":0.03,\"fTitleOffset\":1,\"fTitleSize\":0.035,\"fTitleColor\":1,\"fTitleFont\":42,\"fNbins\":1,\"fXmin\":0,\"fXmax\":1,\"fXbins\":[],\"fFirst\":0,\"fLast\":0,\"fBits2\":0,\"fTimeDisplay\":false,\"fTimeFormat\":\"\",\"fLabels\":null,\"fModLabs\":null},\"fBarOffset\":0,\"fBarWidth\":1000,\"fEntries\":2000,\"fTsumw\":2000,\"fTsumw2\":2000,\"fTsumwx\":18859.6892081064,\"fTsumwx2\":229162.8181276,\"fMaximum\":-1111,\"fMinimum\":-1111,\"fNormFactor\":0,\"fContour\":[],\"fSumw2\":[0,0,0,0,0,0,0,0,0,1,13,16,31,36,47,47,64,86,82,84,95,94,72,70,69,72,85,65,76,55,69,75,53,45,53,44,49,31,37,25,23,21,21,23,18,20,9,12,8,13,7,10,9,7,4,6,6,3,4,12,3,1,3,1,0,0,3,1,2,1,0,0,3,1,0,0,1,0,0,0,0,0,0,0,1,0,0,1,0,0,0,0,1,0,0,0,0,0,0,0,0,0],\"fOption\":\"\",\"fFunctions\":{\"_typename\":\"TList\",\"name\":\"TList\",\"arr\":[],\"opt\":[]},\"fBufferSize\":0,\"fBuffer\":[],\"fBinStatErrOpt\":0,\"fStatOverflows\":2,\"fArray\":[0,0,0,0,0,0,0,0,0,1,13,16,31,36,47,47,64,86,82,84,95,94,72,70,69,72,85,65,76,55,69,75,53,45,53,44,49,31,37,25,23,21,21,23,18,20,9,12,8,13,7,10,9,7,4,6,6,3,4,12,3,1,3,1,0,0,3,1,2,1,0,0,3,1,0,0,1,0,0,0,0,0,0,0,1,0,0,1,0,0,0,0,1,0,0,0,0,0,0,0,0,0]},\"fLabel\":\"Biased fit\",\"fOption\":\"L\"}],\"opt\":[\"L\",\"L\"]},\"fEntrySeparation\":0.1,\"fMargin\":0.25,\"fNColumns\":1,\"fColumnSeparation\":0},{\"_typename\":\"TPaveText\",\"fUniqueID\":0,\"fBits\":50331657,\"fLineColor\":1,\"fLineStyle\":1,\"fLineWidth\":1,\"fFillColor\":0,\"fFillStyle\":0,\"fX1\":-0.141190917990516,\"fY1\":98.0610610071583,\"fX2\":24.8732064258425,\"fY2\":104.481725827012,\"fX1NDC\":0.19931786634009,\"fY1NDC\":0.940000003948808,\"fX2NDC\":0.80068213365991,\"fY2NDC\":0.995000004768372,\"fBorderSize\":0,\"fInit\":1,\"fShadowColor\":1,\"fCornerRadius\":0,\"fOption\":\"blNDC\",\"fName\":\"title\",\"fTextAngle\":0,\"fTextSize\":0,\"fTextAlign\":22,\"fTextColor\":1,\"fTextFont\":42,\"fLabel\":\"\",\"fLongest\":31,\"fMargin\":0.05,\"fLines\":{\"_typename\":\"TList\",\"name\":\"TList\",\"arr\":[{\"_typename\":\"TLatex\",\"fUniqueID\":0,\"fBits\":50331648,\"fName\":\"\",\"fTitle\":\"#chi^{2} values of all toy runs\",\"fTextAngle\":0,\"fTextSize\":0,\"fTextAlign\":0,\"fTextColor\":0,\"fTextFont\":0,\"fX\":0,\"fY\":0,\"fLineColor\":1,\"fLineStyle\":1,\"fLineWidth\":2,\"fLimitFactorSize\":3,\"fOriginSize\":0.0467500016093254}],\"opt\":[\"\"]}}],\"opt\":[\"\",\"\",\"esame\",\"\",\"blNDC\"]},\"fExecs\":{\"_typename\":\"TList\",\"name\":\"TList\",\"arr\":[],\"opt\":[]},\"fName\":\"rf802_mcstudy_addons_1\",\"fTitle\":\"rf802_mcstudy_addons_1\",\"fNumPaletteColor\":0,\"fNextPaletteColor\":0},{\"_typename\":\"TPad\",\"fUniqueID\":0,\"fBits\":50331657,\"fLineColor\":1,\"fLineStyle\":1,\"fLineWidth\":1,\"fFillColor\":0,\"fFillStyle\":1001,\"fLeftMargin\":0.15,\"fRightMargin\":0.1,\"fBottomMargin\":0.1,\"fTopMargin\":0.1,\"fXfile\":2,\"fYfile\":2,\"fAfile\":1,\"fXstat\":0.99,\"fYstat\":0.99,\"fAstat\":2,\"fFrameFillColor\":0,\"fFrameLineColor\":1,\"fFrameFillStyle\":1001,\"fFrameLineStyle\":1,\"fFrameLineWidth\":1,\"fFrameBorderSize\":1,\"fFrameBorderMode\":0,\"fX1\":-0.339333726160118,\"fY1\":-5.65461300340313,\"fX2\":1.25953701110346,\"fY2\":50.8915136602163,\"fXtoAbsPixelk\":326.227215705012,\"fXtoPixelk\":52.9338825495991,\"fXtoPixel\":155.993432036937,\"fYtoAbsPixelk\":331.824047893572,\"fYtoPixelk\":328.10404797672,\"fYtoPixel\":-6.44712594259524,\"fUtoAbsPixelk\":273.293383155413,\"fUtoPixelk\":5e-5,\"fUtoPixel\":249.413333689173,\"fVtoAbsPixelk\":368.280050083148,\"fVtoPixelk\":364.560000166297,\"fVtoPixel\":-364.560000166297,\"fAbsPixeltoXk\":-2.09128782824501,\"fPixeltoXk\":-0.339333726160118,\"fPixeltoX\":0.00641052630833337,\"fAbsPixeltoYk\":51.468514939542,\"fPixeltoYk\":-5.65461300340313,\"fPixeltoY\":-0.155107874253416,\"fXlowNDC\":0.343333333109816,\"fYlowNDC\":0.00999999977648258,\"fXUpNDC\":0,\"fYUpNDC\":0,\"fWNDC\":0.313333333780368,\"fHNDC\":0.980000000447035,\"fAbsXlowNDC\":0.343333333109816,\"fAbsYlowNDC\":0.00999999977648258,\"fAbsWNDC\":0.313333333780368,\"fAbsHNDC\":0.980000000447035,\"fUxmin\":-0.0995031078274473,\"fUymin\":0,\"fUxmax\":1.09964993618585,\"fUymax\":45.2369006568131,\"fTheta\":30,\"fPhi\":30,\"fAspectRatio\":0,\"fNumber\":2,\"fTickx\":0,\"fTicky\":0,\"fLogx\":0,\"fLogy\":0,\"fLogz\":0,\"fPadPaint\":0,\"fCrosshair\":0,\"fCrosshairPos\":0,\"fBorderSize\":2,\"fBorderMode\":0,\"fModified\":false,\"fGridx\":false,\"fGridy\":false,\"fAbsCoord\":false,\"fEditable\":true,\"fFixedAspectRatio\":false,\"fPrimitives\":{\"_typename\":\"TList\",\"name\":\"TList\",\"arr\":[{\"_typename\":\"TFrame\",\"fUniqueID\":0,\"fBits\":50331656,\"fLineColor\":1,\"fLineStyle\":1,\"fLineWidth\":1,\"fFillColor\":0,\"fFillStyle\":1001,\"fX1\":-0.0995031078274473,\"fY1\":0,\"fX2\":1.09964993618585,\"fY2\":45.2369006568131,\"fBorderSize\":1,\"fBorderMode\":0},{\"_typename\":\"TH1F\",\"fUniqueID\":0,\"fBits\":50331656,\"fName\":\"fitParData_gauss__prob\",\"fTitle\":\"Corresponding #chi^{2} probability\",\"fLineColor\":602,\"fLineStyle\":1,\"fLineWidth\":1,\"fFillColor\":0,\"fFillStyle\":1001,\"fMarkerColor\":1,\"fMarkerStyle\":1,\"fMarkerSize\":1,\"fNcells\":102,\"fXaxis\":{\"_typename\":\"TAxis\",\"fUniqueID\":0,\"fBits\":50331648,\"fName\":\"xaxis\",\"fTitle\":\"Prob(#chi^{2},ndof)\",\"fNdivisions\":510,\"fAxisColor\":1,\"fLabelColor\":1,\"fLabelFont\":42,\"fLabelOffset\":0.005,\"fLabelSize\":0.035,\"fTickLength\":0.03,\"fTitleOffset\":1,\"fTitleSize\":0.035,\"fTitleColor\":1,\"fTitleFont\":42,\"fNbins\":100,\"fXmin\":-0.0995031078274473,\"fXmax\":1.09964993618585,\"fXbins\":[],\"fFirst\":0,\"fLast\":0,\"fBits2\":0,\"fTimeDisplay\":false,\"fTimeFormat\":\"\",\"fLabels\":null,\"fModLabs\":null},\"fYaxis\":{\"_typename\":\"TAxis\",\"fUniqueID\":0,\"fBits\":50331648,\"fName\":\"yaxis\",\"fTitle\":\"Events \\/ ( 0.0119915 )\",\"fNdivisions\":510,\"fAxisColor\":1,\"fLabelColor\":1,\"fLabelFont\":42,\"fLabelOffset\":0.005,\"fLabelSize\":0.035,\"fTickLength\":0.03,\"fTitleOffset\":1.4,\"fTitleSize\":0.035,\"fTitleColor\":1,\"fTitleFont\":42,\"fNbins\":1,\"fXmin\":0,\"fXmax\":1,\"fXbins\":[],\"fFirst\":0,\"fLast\":0,\"fBits2\":0,\"fTimeDisplay\":false,\"fTimeFormat\":\"\",\"fLabels\":null,\"fModLabs\":null},\"fZaxis\":{\"_typename\":\"TAxis\",\"fUniqueID\":0,\"fBits\":50331648,\"fName\":\"zaxis\",\"fTitle\":\"\",\"fNdivisions\":510,\"fAxisColor\":1,\"fLabelColor\":1,\"fLabelFont\":42,\"fLabelOffset\":0.005,\"fLabelSize\":0.035,\"fTickLength\":0.03,\"fTitleOffset\":1,\"fTitleSize\":0.035,\"fTitleColor\":1,\"fTitleFont\":42,\"fNbins\":1,\"fXmin\":0,\"fXmax\":1,\"fXbins\":[],\"fFirst\":0,\"fLast\":0,\"fBits2\":0,\"fTimeDisplay\":false,\"fTimeFormat\":\"\",\"fLabels\":null,\"fModLabs\":null},\"fBarOffset\":0,\"fBarWidth\":1000,\"fEntries\":2000,\"fTsumw\":2000,\"fTsumw2\":2000,\"fTsumwx\":930.254981262675,\"fTsumwx2\":600.749142025149,\"fMaximum\":-1111,\"fMinimum\":-1111,\"fNormFactor\":0,\"fContour\":[],\"fSumw2\":[0,0,0,0,0,0,0,0,0,22,26,33,30,29,37,27,29,35,29,26,24,24,33,23,26,29,33,35,32,22,15,19,18,31,16,26,27,25,26,27,24,20,23,21,31,20,33,22,20,25,25,27,22,25,19,24,20,28,24,20,27,21,15,23,24,35,12,18,18,18,17,28,22,25,21,29,33,18,20,18,23,21,24,15,18,21,25,7,22,17,22,22,14,0,0,0,0,0,0,0,0,0],\"fOption\":\"\",\"fFunctions\":{\"_typename\":\"TList\",\"name\":\"TList\",\"arr\":[{\"_typename\":\"TPaveStats\",\"fUniqueID\":0,\"fBits\":50331657,\"fLineColor\":1,\"fLineStyle\":1,\"fLineWidth\":1,\"fFillColor\":0,\"fFillStyle\":1001,\"fX1\":0.907785474636502,\"fY1\":38.1686354979431,\"fX2\":1.22755962685422,\"fY2\":47.2160155618975,\"fX1NDC\":0.780000016093254,\"fY1NDC\":0.775000005960464,\"fX2NDC\":0.980000019073486,\"fY2NDC\":0.935000002384186,\"fBorderSize\":1,\"fInit\":1,\"fShadowColor\":1,\"fCornerRadius\":0,\"fOption\":\"brNDC\",\"fName\":\"stats\",\"fTextAngle\":0,\"fTextSize\":0,\"fTextAlign\":12,\"fTextColor\":1,\"fTextFont\":42,\"fLabel\":\"\",\"fLongest\":22,\"fMargin\":0.05,\"fLines\":{\"_typename\":\"TList\",\"name\":\"TList\",\"arr\":[{\"_typename\":\"TLatex\",\"fUniqueID\":0,\"fBits\":50331648,\"fName\":\"\",\"fTitle\":\"fitParData_gauss__prob\",\"fTextAngle\":0,\"fTextSize\":0.0368,\"fTextAlign\":0,\"fTextColor\":0,\"fTextFont\":0,\"fX\":0,\"fY\":0,\"fLineColor\":1,\"fLineStyle\":1,\"fLineWidth\":2,\"fLimitFactorSize\":3,\"fOriginSize\":0.0368000008165836},{\"_typename\":\"TLatex\",\"fUniqueID\":0,\"fBits\":50331648,\"fName\":\"\",\"fTitle\":\"Entries = 2000   \",\"fTextAngle\":0,\"fTextSize\":0,\"fTextAlign\":0,\"fTextColor\":0,\"fTextFont\":0,\"fX\":0,\"fY\":0,\"fLineColor\":1,\"fLineStyle\":1,\"fLineWidth\":2,\"fLimitFactorSize\":3,\"fOriginSize\":0.04},{\"_typename\":\"TLatex\",\"fUniqueID\":0,\"fBits\":50331648,\"fName\":\"\",\"fTitle\":\"Mean  = 0.4651\",\"fTextAngle\":0,\"fTextSize\":0,\"fTextAlign\":0,\"fTextColor\":0,\"fTextFont\":0,\"fX\":0,\"fY\":0,\"fLineColor\":1,\"fLineStyle\":1,\"fLineWidth\":2,\"fLimitFactorSize\":3,\"fOriginSize\":0.04},{\"_typename\":\"TLatex\",\"fUniqueID\":0,\"fBits\":50331648,\"fName\":\"\",\"fTitle\":\"Std Dev   = 0.2899\",\"fTextAngle\":0,\"fTextSize\":0,\"fTextAlign\":0,\"fTextColor\":0,\"fTextFont\":0,\"fX\":0,\"fY\":0,\"fLineColor\":1,\"fLineStyle\":1,\"fLineWidth\":2,\"fLimitFactorSize\":3,\"fOriginSize\":0.04}],\"opt\":[\"\",\"\",\"\",\"\"]},\"fOptFit\":0,\"fOptStat\":1111,\"fFitFormat\":\"5.4g\",\"fStatFormat\":\"6.4g\",\"fParent\":{\"$ref\":42}}],\"opt\":[\"brNDC\"]},\"fBufferSize\":0,\"fBuffer\":[],\"fBinStatErrOpt\":0,\"fStatOverflows\":2,\"fArray\":[0,0,0,0,0,0,0,0,0,22,26,33,30,29,37,27,29,35,29,26,24,24,33,23,26,29,33,35,32,22,15,19,18,31,16,26,27,25,26,27,24,20,23,21,31,20,33,22,20,25,25,27,22,25,19,24,20,28,24,20,27,21,15,23,24,35,12,18,18,18,17,28,22,25,21,29,33,18,20,18,23,21,24,15,18,21,25,7,22,17,22,22,14,0,0,0,0,0,0,0,0,0]},{\"_typename\":\"TH1F\",\"fUniqueID\":0,\"fBits\":50331656,\"fName\":\"fitParData_gauss_gauss2__prob\",\"fTitle\":\"Histogram of fitParData_gauss_gauss2__prob\",\"fLineColor\":632,\"fLineStyle\":1,\"fLineWidth\":1,\"fFillColor\":0,\"fFillStyle\":1001,\"fMarkerColor\":1,\"fMarkerStyle\":1,\"fMarkerSize\":1,\"fNcells\":102,\"fXaxis\":{\"_typename\":\"TAxis\",\"fUniqueID\":0,\"fBits\":50331648,\"fName\":\"xaxis\",\"fTitle\":\"prob(chi2,ndof)\",\"fNdivisions\":510,\"fAxisColor\":1,\"fLabelColor\":1,\"fLabelFont\":42,\"fLabelOffset\":0.005,\"fLabelSize\":0.035,\"fTickLength\":0.03,\"fTitleOffset\":1,\"fTitleSize\":0.035,\"fTitleColor\":1,\"fTitleFont\":42,\"fNbins\":100,\"fXmin\":-0.0996956657596426,\"fXmax\":1.09667536218931,\"fXbins\":[],\"fFirst\":0,\"fLast\":0,\"fBits2\":0,\"fTimeDisplay\":false,\"fTimeFormat\":\"\",\"fLabels\":null,\"fModLabs\":null},\"fYaxis\":{\"_typename\":\"TAxis\",\"fUniqueID\":0,\"fBits\":50331648,\"fName\":\"yaxis\",\"fTitle\":\"Events \\/ ( 0.0119637 )\",\"fNdivisions\":510,\"fAxisColor\":1,\"fLabelColor\":1,\"fLabelFont\":42,\"fLabelOffset\":0.005,\"fLabelSize\":0.035,\"fTickLength\":0.03,\"fTitleOffset\":0,\"fTitleSize\":0.035,\"fTitleColor\":1,\"fTitleFont\":42,\"fNbins\":1,\"fXmin\":0,\"fXmax\":1,\"fXbins\":[],\"fFirst\":0,\"fLast\":0,\"fBits2\":0,\"fTimeDisplay\":false,\"fTimeFormat\":\"\",\"fLabels\":null,\"fModLabs\":null},\"fZaxis\":{\"_typename\":\"TAxis\",\"fUniqueID\":0,\"fBits\":50331648,\"fName\":\"zaxis\",\"fTitle\":\"\",\"fNdivisions\":510,\"fAxisColor\":1,\"fLabelColor\":1,\"fLabelFont\":42,\"fLabelOffset\":0.005,\"fLabelSize\":0.035,\"fTickLength\":0.03,\"fTitleOffset\":1,\"fTitleSize\":0.035,\"fTitleColor\":1,\"fTitleFont\":42,\"fNbins\":1,\"fXmin\":0,\"fXmax\":1,\"fXbins\":[],\"fFirst\":0,\"fLast\":0,\"fBits2\":0,\"fTimeDisplay\":false,\"fTimeFormat\":\"\",\"fLabels\":null,\"fModLabs\":null},\"fBarOffset\":0,\"fBarWidth\":1000,\"fEntries\":2000,\"fTsumw\":2000,\"fTsumw2\":2000,\"fTsumwx\":704.588131964512,\"fTsumwx2\":410.282793417195,\"fMaximum\":-1111,\"fMinimum\":-1111,\"fNormFactor\":0,\"fContour\":[],\"fSumw2\":[0,0,0,0,0,0,0,0,0,104,72,60,48,52,57,40,52,34,41,33,42,44,29,40,23,32,31,33,26,29,20,31,34,20,19,22,25,20,23,15,28,21,17,14,19,21,19,12,21,24,19,22,15,23,26,21,18,23,19,10,13,25,12,14,20,21,22,22,17,15,21,12,22,14,11,12,13,12,10,9,9,14,14,16,6,14,9,9,16,11,8,8,6,0,0,0,0,0,0,0,0,0],\"fOption\":\"\",\"fFunctions\":{\"_typename\":\"TList\",\"name\":\"TList\",\"arr\":[],\"opt\":[]},\"fBufferSize\":0,\"fBuffer\":[],\"fBinStatErrOpt\":0,\"fStatOverflows\":2,\"fArray\":[0,0,0,0,0,0,0,0,0,104,72,60,48,52,57,40,52,34,41,33,42,44,29,40,23,32,31,33,26,29,20,31,34,20,19,22,25,20,23,15,28,21,17,14,19,21,19,12,21,24,19,22,15,23,26,21,18,23,19,10,13,25,12,14,20,21,22,22,17,15,21,12,22,14,11,12,13,12,10,9,9,14,14,16,6,14,9,9,16,11,8,8,6,0,0,0,0,0,0,0,0,0]},{\"_typename\":\"TPaveText\",\"fUniqueID\":0,\"fBits\":50331657,\"fLineColor\":1,\"fLineStyle\":1,\"fLineWidth\":1,\"fFillColor\":0,\"fFillStyle\":0,\"fX1\":-0.0995031155705821,\"fY1\":47.4987462836889,\"fX2\":1.01970640051392,\"fY2\":50.6087832965311,\"fX1NDC\":0.15,\"fY1NDC\":0.940000003948808,\"fX2NDC\":0.85,\"fY2NDC\":0.995000004768372,\"fBorderSize\":0,\"fInit\":1,\"fShadowColor\":1,\"fCornerRadius\":0,\"fOption\":\"blNDC\",\"fName\":\"title\",\"fTextAngle\":0,\"fTextSize\":0,\"fTextAlign\":22,\"fTextColor\":1,\"fTextFont\":42,\"fLabel\":\"\",\"fLongest\":34,\"fMargin\":0.05,\"fLines\":{\"_typename\":\"TList\",\"name\":\"TList\",\"arr\":[{\"_typename\":\"TLatex\",\"fUniqueID\":0,\"fBits\":50331648,\"fName\":\"\",\"fTitle\":\"Corresponding #chi^{2} probability\",\"fTextAngle\":0,\"fTextSize\":0,\"fTextAlign\":0,\"fTextColor\":0,\"fTextFont\":0,\"fX\":0,\"fY\":0,\"fLineColor\":1,\"fLineStyle\":1,\"fLineWidth\":2,\"fLimitFactorSize\":3,\"fOriginSize\":0.0467500016093254}],\"opt\":[\"\"]}}],\"opt\":[\"\",\"\",\"esame\",\"blNDC\"]},\"fExecs\":{\"_typename\":\"TList\",\"name\":\"TList\",\"arr\":[],\"opt\":[]},\"fName\":\"rf802_mcstudy_addons_2\",\"fTitle\":\"rf802_mcstudy_addons_2\",\"fNumPaletteColor\":0,\"fNextPaletteColor\":0},{\"_typename\":\"TPad\",\"fUniqueID\":0,\"fBits\":50331657,\"fLineColor\":1,\"fLineStyle\":1,\"fLineWidth\":1,\"fFillColor\":0,\"fFillStyle\":1001,\"fLeftMargin\":0.1,\"fRightMargin\":0.1,\"fBottomMargin\":0.1,\"fTopMargin\":0.1,\"fXfile\":2,\"fYfile\":2,\"fAfile\":1,\"fXstat\":0.99,\"fYstat\":0.99,\"fAstat\":2,\"fFrameFillColor\":0,\"fFrameLineColor\":1,\"fFrameFillStyle\":1001,\"fFrameLineStyle\":1,\"fFrameLineWidth\":1,\"fFrameBorderSize\":1,\"fFrameBorderMode\":0,\"fX1\":-3.75000005587936,\"fY1\":-24.3632049384286,\"fX2\":3.75000005587936,\"fY2\":219.268829924256,\"fXtoAbsPixelk\":663.333383333333,\"fXtoPixelk\":124.706716844587,\"fXtoPixel\":33.2551106630166,\"fYtoAbsPixelk\":331.824047893572,\"fYtoPixelk\":328.10404797672,\"fYtoPixel\":-1.49635494516052,\"fUtoAbsPixelk\":538.626716488747,\"fUtoPixelk\":5e-5,\"fUtoPixel\":249.413333689173,\"fVtoAbsPixelk\":368.280050083148,\"fVtoPixelk\":364.560000166297,\"fVtoPixel\":-364.560000166297,\"fAbsPixeltoXk\":-19.9468087794107,\"fPixeltoXk\":-3.75000005587936,\"fPixeltoX\":0.0300705659991116,\"fAbsPixeltoYk\":221.754871039622,\"fPixeltoYk\":-24.3632049384286,\"fPixeltoY\":-0.668290637347897,\"fXlowNDC\":0.676666666443149,\"fYlowNDC\":0.00999999977648258,\"fXUpNDC\":0,\"fYUpNDC\":0,\"fWNDC\":0.313333333780368,\"fHNDC\":0.980000000447035,\"fAbsXlowNDC\":0.676666666443149,\"fAbsYlowNDC\":0.00999999977648258,\"fAbsWNDC\":0.313333333780368,\"fAbsHNDC\":0.980000000447035,\"fUxmin\":-3,\"fUymin\":0,\"fUxmax\":3,\"fUymax\":194.905624985827,\"fTheta\":30,\"fPhi\":30,\"fAspectRatio\":0,\"fNumber\":3,\"fTickx\":0,\"fTicky\":0,\"fLogx\":0,\"fLogy\":0,\"fLogz\":0,\"fPadPaint\":0,\"fCrosshair\":0,\"fCrosshairPos\":0,\"fBorderSize\":2,\"fBorderMode\":0,\"fModified\":false,\"fGridx\":false,\"fGridy\":false,\"fAbsCoord\":false,\"fEditable\":true,\"fFixedAspectRatio\":false,\"fPrimitives\":{\"_typename\":\"TList\",\"name\":\"TList\",\"arr\":[{\"_typename\":\"TFrame\",\"fUniqueID\":0,\"fBits\":50331656,\"fLineColor\":1,\"fLineStyle\":1,\"fLineWidth\":1,\"fFillColor\":0,\"fFillStyle\":1001,\"fX1\":-3,\"fY1\":0,\"fX2\":3,\"fY2\":194.905624985827,\"fBorderSize\":1,\"fBorderMode\":0},{\"_typename\":\"TH1D\",\"fUniqueID\":0,\"fBits\":50332168,\"fName\":\"frame_7ff5a05d4420\",\"fTitle\":\"A RooPlot of \\\"mean of gaussian Pull\\\"\",\"fLineColor\":602,\"fLineStyle\":1,\"fLineWidth\":1,\"fFillColor\":0,\"fFillStyle\":1001,\"fMarkerColor\":1,\"fMarkerStyle\":1,\"fMarkerSize\":1,\"fNcells\":27,\"fXaxis\":{\"_typename\":\"TAxis\",\"fUniqueID\":0,\"fBits\":50331648,\"fName\":\"xaxis\",\"fTitle\":\"mean of gaussian Pull\",\"fNdivisions\":510,\"fAxisColor\":1,\"fLabelColor\":1,\"fLabelFont\":42,\"fLabelOffset\":0.005,\"fLabelSize\":0.035,\"fTickLength\":0.03,\"fTitleOffset\":1,\"fTitleSize\":0.035,\"fTitleColor\":1,\"fTitleFont\":42,\"fNbins\":25,\"fXmin\":-3,\"fXmax\":3,\"fXbins\":[],\"fFirst\":0,\"fLast\":0,\"fBits2\":0,\"fTimeDisplay\":false,\"fTimeFormat\":\"\",\"fLabels\":null,\"fModLabs\":null},\"fYaxis\":{\"_typename\":\"TAxis\",\"fUniqueID\":0,\"fBits\":50331648,\"fName\":\"yaxis\",\"fTitle\":\"Events \\/ ( 0.24 )\",\"fNdivisions\":510,\"fAxisColor\":1,\"fLabelColor\":1,\"fLabelFont\":42,\"fLabelOffset\":0.005,\"fLabelSize\":0.035,\"fTickLength\":0.03,\"fTitleOffset\":0,\"fTitleSize\":0.035,\"fTitleColor\":1,\"fTitleFont\":42,\"fNbins\":1,\"fXmin\":0,\"fXmax\":1,\"fXbins\":[],\"fFirst\":0,\"fLast\":0,\"fBits2\":0,\"fTimeDisplay\":false,\"fTimeFormat\":\"\",\"fLabels\":null,\"fModLabs\":null},\"fZaxis\":{\"_typename\":\"TAxis\",\"fUniqueID\":0,\"fBits\":50331648,\"fName\":\"zaxis\",\"fTitle\":\"\",\"fNdivisions\":510,\"fAxisColor\":1,\"fLabelColor\":1,\"fLabelFont\":42,\"fLabelOffset\":0.005,\"fLabelSize\":0.035,\"fTickLength\":0.03,\"fTitleOffset\":1,\"fTitleSize\":0.035,\"fTitleColor\":1,\"fTitleFont\":42,\"fNbins\":1,\"fXmin\":0,\"fXmax\":1,\"fXbins\":[],\"fFirst\":0,\"fLast\":0,\"fBits2\":0,\"fTimeDisplay\":false,\"fTimeFormat\":\"\",\"fLabels\":null,\"fModLabs\":null},\"fBarOffset\":0,\"fBarWidth\":1000,\"fEntries\":1,\"fTsumw\":0,\"fTsumw2\":0,\"fTsumwx\":0,\"fTsumwx2\":0,\"fMaximum\":194.905624985827,\"fMinimum\":-1111,\"fNormFactor\":0,\"fContour\":[],\"fSumw2\":[],\"fOption\":\"\",\"fFunctions\":{\"_typename\":\"TList\",\"name\":\"TList\",\"arr\":[],\"opt\":[]},\"fBufferSize\":0,\"fBuffer\":[],\"fBinStatErrOpt\":0,\"fStatOverflows\":2,\"fArray\":[0,194.905624985827,0,0,0,0,0,0,0,0,0,0,0,0,0,0,0,0,0,0,0,0,0,0,0,0,0]},{\"_typename\":\"RooHist\",\"fUniqueID\":0,\"fBits\":50332680,\"fName\":\"h_fitParData_gauss_gauss2\",\"fTitle\":\"Histogram of fitParData_gauss_gauss2_plot__meanpull\",\"fLineColor\":1,\"fLineStyle\":1,\"fLineWidth\":1,\"fFillColor\":0,\"fFillStyle\":1000,\"fMarkerColor\":1,\"fMarkerStyle\":8,\"fMarkerSize\":1,\"fNpoints\":25,\"fX\":[-2.88,-2.64,-2.4,-2.16,-1.92,-1.68,-1.44,-1.2,-0.96,-0.72,-0.48,-0.24,-1.11022302462516e-16,0.24,0.48,0.72,0.96,1.2,1.44,1.68,1.92,2.16,2.4,2.64,2.88],\"fY\":[79,98,114,103,133,134,172,135,98,93,113,49,34,0,0,0,0,0,0,0,0,0,0,0,0],\"fFunctions\":{\"_typename\":\"TList\",\"name\":\"TList\",\"arr\":[],\"opt\":[]},\"fHistogram\":{\"_typename\":\"TH1F\",\"fUniqueID\":0,\"fBits\":50332168,\"fName\":\"h_fitParData_gauss_gauss2\",\"fTitle\":\"Histogram of fitParData_gauss_gauss2_plot__meanpull\",\"fLineColor\":602,\"fLineStyle\":1,\"fLineWidth\":1,\"fFillColor\":0,\"fFillStyle\":1001,\"fMarkerColor\":1,\"fMarkerStyle\":1,\"fMarkerSize\":1,\"fNcells\":102,\"fXaxis\":{\"_typename\":\"TAxis\",\"fUniqueID\":0,\"fBits\":50331648,\"fName\":\"xaxis\",\"fTitle\":\"\",\"fNdivisions\":510,\"fAxisColor\":1,\"fLabelColor\":1,\"fLabelFont\":42,\"fLabelOffset\":0.005,\"fLabelSize\":0.035,\"fTickLength\":0.03,\"fTitleOffset\":1,\"fTitleSize\":0.035,\"fTitleColor\":1,\"fTitleFont\":42,\"fNbins\":100,\"fXmin\":-3.6,\"fXmax\":3.6,\"fXbins\":[],\"fFirst\":0,\"fLast\":0,\"fBits2\":0,\"fTimeDisplay\":false,\"fTimeFormat\":\"\",\"fLabels\":null,\"fModLabs\":null},\"fYaxis\":{\"_typename\":\"TAxis\",\"fUniqueID\":0,\"fBits\":50331648,\"fName\":\"yaxis\",\"fTitle\":\"\",\"fNdivisions\":510,\"fAxisColor\":1,\"fLabelColor\":1,\"fLabelFont\":42,\"fLabelOffset\":0.005,\"fLabelSize\":0.035,\"fTickLength\":0.03,\"fTitleOffset\":0,\"fTitleSize\":0.035,\"fTitleColor\":1,\"fTitleFont\":42,\"fNbins\":1,\"fXmin\":0,\"fXmax\":204.186845223247,\"fXbins\":[],\"fFirst\":0,\"fLast\":0,\"fBits2\":0,\"fTimeDisplay\":false,\"fTimeFormat\":\"\",\"fLabels\":null,\"fModLabs\":null},\"fZaxis\":{\"_typename\":\"TAxis\",\"fUniqueID\":0,\"fBits\":50331648,\"fName\":\"zaxis\",\"fTitle\":\"\",\"fNdivisions\":510,\"fAxisColor\":1,\"fLabelColor\":1,\"fLabelFont\":42,\"fLabelOffset\":0.005,\"fLabelSize\":0.035,\"fTickLength\":0.03,\"fTitleOffset\":1,\"fTitleSize\":0.035,\"fTitleColor\":1,\"fTitleFont\":42,\"fNbins\":1,\"fXmin\":0,\"fXmax\":1,\"fXbins\":[],\"fFirst\":0,\"fLast\":0,\"fBits2\":0,\"fTimeDisplay\":false,\"fTimeFormat\":\"\",\"fLabels\":null,\"fModLabs\":null},\"fBarOffset\":0,\"fBarWidth\":1000,\"fEntries\":0,\"fTsumw\":0,\"fTsumw2\":0,\"fTsumwx\":0,\"fTsumwx2\":0,\"fMaximum\":204.186845223247,\"fMinimum\":0,\"fNormFactor\":0,\"fContour\":[],\"fSumw2\":[],\"fOption\":\"\",\"fFunctions\":{\"_typename\":\"TList\",\"name\":\"TList\",\"arr\":[],\"opt\":[]},\"fBufferSize\":0,\"fBuffer\":[],\"fBinStatErrOpt\":0,\"fStatOverflows\":2,\"fArray\":[0,0,0,0,0,0,0,0,0,0,0,0,0,0,0,0,0,0,0,0,0,0,0,0,0,0,0,0,0,0,0,0,0,0,0,0,0,0,0,0,0,0,0,0,0,0,0,0,0,0,0,0,0,0,0,0,0,0,0,0,0,0,0,0,0,0,0,0,0,0,0,0,0,0,0,0,0,0,0,0,0,0,0,0,0,0,0,0,0,0,0,0,0,0,0,0,0,0,0,0,0,0]},\"fMinimum\":-1111,\"fMaximum\":-1111,\"fEXlow\":[0.12,0.12,0.12,0.12,0.12,0.12,0.12,0.12,0.12,0.12,0.12,0.12,0.12,0.12,0.12,0.12,0.12,0.12,0.12,0.12,0.12,0.12,0.12,0.12,0.12],\"fEXhigh\":[0.12,0.12,0.12,0.12,0.12,0.12,0.12,0.12,0.12,0.12,0.12,0.12,0.12,0.12,0.12,0.12,0.12,0.12,0.12,0.12,0.12,0.12,0.12,0.12,0.12],\"fEYlow\":[8.86934285748457,9.88257890144722,10.188779163216,9.66120071645079,11.0433963806152,11.0866302262565,12.6244047484067,11.129703349613,9.88257890144722,9.62628363369272,10.1418983268964,6.97602630329686,5.80212840935486,0,0,0,0,0,0,0,0,0,0,0,0],\"fEYhigh\":[9.92572487310768,10.9331943741007,11.188779163216,10.6612007164508,12.0433963806152,12.0866302262565,13.6244047484067,12.129703349613,10.9331943741007,10.6782436419937,11.1418983268964,8.04763434666193,6.88810053038505,1.14787446444932,1.14787446444932,1.14787446444932,1.14787446444932,1.14787446444932,1.14787446444932,1.14787446444932,1.14787446444932,1.14787446444932,1.14787446444932,1.14787446444932,1.14787446444932],\"_yAxisLabel\":\"Events \\/ ( 0.24 )\",\"_ymin\":0,\"_ymax\":185.624404748407,\"_normValue\":0,\"_nominalBinWidth\":0.24,\"_nSigma\":1,\"_entries\":2000,\"_rawEntries\":-1},{\"$ref\":65},{\"_typename\":\"TPaveText\",\"fUniqueID\":0,\"fBits\":50331657,\"fLineColor\":1,\"fLineStyle\":1,\"fLineWidth\":1,\"fFillColor\":0,\"fFillStyle\":0,\"fX1\":-2.62500003911555,\"fY1\":204.650908794551,\"fX2\":2.62500003911555,\"fY2\":218.05067091167,\"fX1NDC\":0.15,\"fY1NDC\":0.940000003948808,\"fX2NDC\":0.85,\"fY2NDC\":0.995000004768372,\"fBorderSize\":0,\"fInit\":1,\"fShadowColor\":1,\"fCornerRadius\":0,\"fOption\":\"blNDC\",\"fName\":\"title\",\"fTextAngle\":0,\"fTextSize\":0,\"fTextAlign\":22,\"fTextColor\":1,\"fTextFont\":42,\"fLabel\":\"\",\"fLongest\":36,\"fMargin\":0.05,\"fLines\":{\"_typename\":\"TList\",\"name\":\"TList\",\"arr\":[{\"_typename\":\"TLatex\",\"fUniqueID\":0,\"fBits\":50331648,\"fName\":\"\",\"fTitle\":\"A RooPlot of \\\"mean of gaussian Pull\\\"\",\"fTextAngle\":0,\"fTextSize\":0,\"fTextAlign\":0,\"fTextColor\":0,\"fTextFont\":0,\"fX\":0,\"fY\":0,\"fLineColor\":1,\"fLineStyle\":1,\"fLineWidth\":2,\"fLimitFactorSize\":3,\"fOriginSize\":0.0467500016093254}],\"opt\":[\"\"]}}],\"opt\":[\"\",\"FUNC\",\"p\",\"AXISSAME\",\"blNDC\"]},\"fExecs\":{\"_typename\":\"TList\",\"name\":\"TList\",\"arr\":[],\"opt\":[]},\"fName\":\"rf802_mcstudy_addons_3\",\"fTitle\":\"rf802_mcstudy_addons_3\",\"fNumPaletteColor\":0,\"fNextPaletteColor\":0}],\"opt\":[\"\",\"\",\"\"]},\"fExecs\":null,\"fName\":\"rf802_mcstudy_addons\",\"fTitle\":\"rf802_mcstudy_addons\",\"fNumPaletteColor\":0,\"fNextPaletteColor\":0,\"fDISPLAY\":\"$DISPLAY\",\"fDoubleBuffer\":0,\"fRetained\":true,\"fXsizeUser\":0,\"fYsizeUser\":0,\"fXsizeReal\":20,\"fYsizeReal\":10,\"fWindowTopX\":0,\"fWindowTopY\":0,\"fWindowWidth\":0,\"fWindowHeight\":0,\"fCw\":796,\"fCh\":372,\"fCatt\":{\"_typename\":\"TAttCanvas\",\"fXBetween\":2,\"fYBetween\":2,\"fTitleFromTop\":1.2,\"fXdate\":0.2,\"fYdate\":0.3,\"fAdate\":1},\"kMoveOpaque\":true,\"kResizeOpaque\":true,\"fHighLightColor\":2,\"fBatch\":true,\"kShowEventStatus\":false,\"kAutoExec\":true,\"kMenuBar\":true});\n",
       "       Core.draw(\"root_plot_1\", obj, \"\");\n",
       "     }\n",
       " );\n",
       "</script>\n"
      ],
      "text/plain": [
       "<IPython.core.display.HTML object>"
      ]
     },
     "metadata": {},
     "output_type": "display_data"
    }
   ],
   "source": [
    "%jsroot on\n",
    "gROOT->GetListOfCanvases()->Draw()"
   ]
  }
 ],
 "metadata": {
  "kernelspec": {
   "display_name": "ROOT C++",
   "language": "c++",
   "name": "root"
  },
  "language_info": {
   "codemirror_mode": "text/x-c++src",
   "file_extension": ".C",
   "mimetype": " text/x-c++src",
   "name": "c++"
  }
 },
 "nbformat": 4,
 "nbformat_minor": 2
}
