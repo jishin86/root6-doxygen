{
 "cells": [
  {
   "cell_type": "markdown",
   "metadata": {},
   "source": [
    "# Gaxis 3\n",
    "Example illustrating how to modify individual labels of a TGaxis. The method\n",
    "`ChangeLabel` allows to do that.\n",
    "\n",
    "The first parameter of this method is the label number to be modified. If\n",
    "this number is negative labels are numbered from the last one. The other\n",
    "parameters are (in order):\n",
    " - the new angle value,\n",
    " - the new size (0 erase the label),\n",
    " - the new text alignment,\n",
    " - the new label color,\n",
    " = the new label text.\n",
    "\n",
    "\n",
    "\n",
    "\n",
    "**Author:**  Olivier Couet  \n",
    "<i><small>This notebook tutorial was automatically generated with <a href= \"https://github.com/root-project/root/blob/master/documentation/doxygen/converttonotebook.py\">ROOTBOOK-izer</a> from the macro found in the ROOT repository  on Thursday, August 29, 2019 at 01:41 AM.</small></i>"
   ]
  },
  {
   "cell_type": "code",
   "execution_count": 1,
   "metadata": {
    "collapsed": false
   },
   "outputs": [],
   "source": [
    "TCanvas* c1 = new TCanvas(\"c1\",\"Examples of Gaxis\",10,10,800,400);\n",
    "c1->Range(-6,-0.1,6,0.1);\n",
    "\n",
    "TGaxis *axis = new TGaxis(-5.5,0.,5.5,0.,0.0,100,510,\"\");\n",
    "axis->SetName(\"axis\");\n",
    "axis->SetTitle(\"Axis Title\");\n",
    "axis->SetTitleSize(0.05);\n",
    "axis->SetTitleColor(kBlue);\n",
    "axis->SetTitleFont(42);"
   ]
  },
  {
   "cell_type": "markdown",
   "metadata": {},
   "source": [
    "Change the  1st label color to red."
   ]
  },
  {
   "cell_type": "code",
   "execution_count": 2,
   "metadata": {
    "collapsed": false
   },
   "outputs": [],
   "source": [
    "axis->ChangeLabel(1,-1,-1,-1,2);"
   ]
  },
  {
   "cell_type": "markdown",
   "metadata": {},
   "source": [
    "Erase the 3rd label"
   ]
  },
  {
   "cell_type": "code",
   "execution_count": 3,
   "metadata": {
    "collapsed": false
   },
   "outputs": [],
   "source": [
    "axis->ChangeLabel(3,-1,0.);"
   ]
  },
  {
   "cell_type": "markdown",
   "metadata": {},
   "source": [
    "5th label is drawn with an angle of 30 degrees"
   ]
  },
  {
   "cell_type": "code",
   "execution_count": 4,
   "metadata": {
    "collapsed": false
   },
   "outputs": [],
   "source": [
    "axis->ChangeLabel(5,30.,-1,0);"
   ]
  },
  {
   "cell_type": "markdown",
   "metadata": {},
   "source": [
    "Change the text of the 6th label."
   ]
  },
  {
   "cell_type": "code",
   "execution_count": 5,
   "metadata": {
    "collapsed": false
   },
   "outputs": [],
   "source": [
    "axis->ChangeLabel(6,-1,-1,-1,3,-1,\"6th label\");"
   ]
  },
  {
   "cell_type": "markdown",
   "metadata": {},
   "source": [
    "Change the text of the 2nd label to the end."
   ]
  },
  {
   "cell_type": "code",
   "execution_count": 6,
   "metadata": {
    "collapsed": false
   },
   "outputs": [],
   "source": [
    "axis->ChangeLabel(-2,-1,-1,-1,3,-1,\"2nd to last label\");\n",
    "\n",
    "axis->Draw();"
   ]
  },
  {
   "cell_type": "markdown",
   "metadata": {},
   "source": [
    "Draw all canvases "
   ]
  },
  {
   "cell_type": "code",
   "execution_count": 7,
   "metadata": {
    "collapsed": false
   },
   "outputs": [
    {
     "data": {
      "image/png": "[encoded data removed]",
      "text/plain": [
       "<IPython.core.display.Image object>"
      ]
     },
     "metadata": {},
     "output_type": "display_data"
    }
   ],
   "source": [
    "gROOT->GetListOfCanvases()->Draw()"
   ]
  }
 ],
 "metadata": {
  "kernelspec": {
   "display_name": "ROOT C++",
   "language": "c++",
   "name": "root"
  },
  "language_info": {
   "codemirror_mode": "text/x-c++src",
   "file_extension": ".C",
   "mimetype": " text/x-c++src",
   "name": "c++"
  }
 },
 "nbformat": 4,
 "nbformat_minor": 2
}
