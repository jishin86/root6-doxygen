{
 "cells": [
  {
   "cell_type": "markdown",
   "metadata": {},
   "source": [
    "# Df 0 0 4_Cut Flow Report\n",
    "This tutorial shows how to get information about the efficiency of the filters\n",
    "applied\n",
    "\n",
    "\n",
    "\n",
    "\n",
    "**Author:** Danilo Piparo  \n",
    "<i><small>This notebook tutorial was automatically generated with <a href= \"https://github.com/root-project/root/blob/master/documentation/doxygen/converttonotebook.py\">ROOTBOOK-izer</a> from the macro found in the ROOT repository  on Thursday, August 29, 2019 at 01:00 AM.</small></i>"
   ]
  },
  {
   "cell_type": "code",
   "execution_count": 1,
   "metadata": {
    "collapsed": false
   },
   "outputs": [
    {
     "name": "stdout",
     "output_type": "stream",
     "text": [
      "Welcome to JupyROOT 6.18/03\n"
     ]
    }
   ],
   "source": [
    "import ROOT\n",
    "\n",
    "def fill_tree(treeName, fileName):\n",
    "    tdf = ROOT.ROOT.RDataFrame(50)\n",
    "    tdf.Define(\"b1\", \"(double) tdfentry_\")\\\n",
    "       .Define(\"b2\", \"(int) tdfentry_ * tdfentry_\").Snapshot(treeName, fileName)"
   ]
  },
  {
   "cell_type": "markdown",
   "metadata": {},
   "source": [
    "We prepare an input tree to run on"
   ]
  },
  {
   "cell_type": "code",
   "execution_count": 2,
   "metadata": {
    "collapsed": false
   },
   "outputs": [],
   "source": [
    "fileName = 'df004_cutFlowReport_py.root'\n",
    "treeName = 'myTree'\n",
    "fill_tree(treeName, fileName)"
   ]
  },
  {
   "cell_type": "markdown",
   "metadata": {},
   "source": [
    "We read the tree from the file and create a RDataFrame, a class that\n",
    "allows us to interact with the data contained in the tree."
   ]
  },
  {
   "cell_type": "code",
   "execution_count": 3,
   "metadata": {
    "collapsed": false
   },
   "outputs": [],
   "source": [
    "RDF = ROOT.ROOT.RDataFrame\n",
    "d = RDF(treeName, fileName)"
   ]
  },
  {
   "cell_type": "markdown",
   "metadata": {},
   "source": [
    "## Define cuts and create the report\n",
    "An optional string parameter name can be passed to the Filter method to create a named filter.\n",
    "Named filters work as usual, but also keep track of how many entries they accept and reject."
   ]
  },
  {
   "cell_type": "code",
   "execution_count": 4,
   "metadata": {
    "collapsed": false
   },
   "outputs": [],
   "source": [
    "filtered1 = d.Filter('b1 > 25', 'Cut1')\n",
    "filtered2 = d.Filter('0 == b2 % 2', 'Cut2')\n",
    "\n",
    "augmented1 = filtered2.Define('b3', 'b1 / b2')\n",
    "filtered3 = augmented1.Filter('b3 < .5','Cut3')"
   ]
  },
  {
   "cell_type": "markdown",
   "metadata": {},
   "source": [
    "Statistics are retrieved through a call to the Report method:\n",
    "when Report is called on the main RDataFrame object, it retrieves stats for\n",
    "all named filters declared up to that point. When called on a stored chain\n",
    "state (i.e. a chain/graph node), it retrieves stats for all named filters in\n",
    "the section of the chain between the main RDataFrame and that node (included).\n",
    "Stats are printed in the same order as named filters have been added to the\n",
    "graph, and refer to the latest event-loop that has been run using the relevant\n",
    "RDataFrame."
   ]
  },
  {
   "cell_type": "code",
   "execution_count": 5,
   "metadata": {
    "collapsed": false
   },
   "outputs": [
    {
     "name": "stdout",
     "output_type": "stream",
     "text": [
      "Cut3 stats:\n",
      "All stats:\n",
      "Cut1      : pass=24         all=50         -- eff=48.00 % cumulative eff=48.00 %\n",
      "Cut2      : pass=25         all=50         -- eff=50.00 % cumulative eff=50.00 %\n",
      "Cut3      : pass=23         all=25         -- eff=92.00 % cumulative eff=46.00 %\n"
     ]
    }
   ],
   "source": [
    "print('Cut3 stats:')\n",
    "filtered3.Report()\n",
    "print('All stats:')\n",
    "allCutsReport = d.Report()\n",
    "allCutsReport.Print()"
   ]
  },
  {
   "cell_type": "markdown",
   "metadata": {},
   "source": [
    "Draw all canvases "
   ]
  },
  {
   "cell_type": "code",
   "execution_count": 6,
   "metadata": {
    "collapsed": false
   },
   "outputs": [],
   "source": [
    "from ROOT import gROOT \n",
    "gROOT.GetListOfCanvases().Draw()"
   ]
  }
 ],
 "metadata": {
  "kernelspec": {
   "display_name": "Python 2",
   "language": "python",
   "name": "python2"
  },
  "language_info": {
   "codemirror_mode": {
    "name": "ipython",
    "version": 2
   },
   "file_extension": ".py",
   "mimetype": "text/x-python",
   "name": "python",
   "nbconvert_exporter": "python",
   "pygments_lexer": "ipython2",
   "version": "2.7.10"
  }
 },
 "nbformat": 4,
 "nbformat_minor": 2
}
