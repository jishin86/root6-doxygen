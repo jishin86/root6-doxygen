{
 "cells": [
  {
   "cell_type": "markdown",
   "metadata": {},
   "source": [
    "# Rs_Numbercountingutils\n",
    "'Number Counting Utils' RooStats tutorial\n",
    "\n",
    "This tutorial shows an example of the RooStats standalone\n",
    "utilities that calculate the p-value or Z value (eg. significance in\n",
    "1-sided Gaussian standard deviations) for a number counting experiment.\n",
    "This is a hypothesis test between background only and signal-plus-background.\n",
    "The background estimate has uncertainty derived from an auxiliary or sideband\n",
    "measurement.\n",
    "\n",
    "Documentation for these utilities can be found here:\n",
    "http://root.cern.ch/root/html/RooStats__NumberCountingUtils.html\n",
    "\n",
    "\n",
    "This problem is often called a proto-type problem for high energy physics.\n",
    "In some references it is referred to as the on/off problem.\n",
    "\n",
    "The problem is treated in a fully frequentist fashion by\n",
    "interpreting the relative background uncertainty as\n",
    "being due to an auxiliary or sideband observation\n",
    "that is also Poisson distributed with only background.\n",
    "Finally, one considers the test as a ratio of Poisson means\n",
    "where an interval is well known based on the conditioning on the total\n",
    "number of events and the binomial distribution.\n",
    "For more on this, see\n",
    " - http://arxiv.org/abs/0905.3831\n",
    " - http://arxiv.org/abs/physics/physics/0702156\n",
    " - http://arxiv.org/abs/physics/0511028\n",
    "\n",
    "\n",
    "\n",
    "\n",
    "\n",
    "**Author:** Kyle Cranmer  \n",
    "<i><small>This notebook tutorial was automatically generated with <a href= \"https://github.com/root-project/root/blob/master/documentation/doxygen/converttonotebook.py\">ROOTBOOK-izer</a> from the macro found in the ROOT repository  on Thursday, August 29, 2019 at 03:24 AM.</small></i>"
   ]
  },
  {
   "cell_type": "code",
   "execution_count": 1,
   "metadata": {
    "collapsed": false
   },
   "outputs": [],
   "source": [
    "%%cpp -d\n",
    "#include \"RooStats/RooStatsUtils.h\"\n",
    "#include <iostream>"
   ]
  },
  {
   "cell_type": "code",
   "execution_count": 2,
   "metadata": {
    "collapsed": false
   },
   "outputs": [],
   "source": [
    "%%cpp -d\n",
    "// This is a workaround to make sure the namespace is used inside functions\n",
    "using namespace RooFit;\n",
    "using namespace RooStats;"
   ]
  },
  {
   "cell_type": "code",
   "execution_count": 3,
   "metadata": {
    "collapsed": false
   },
   "outputs": [],
   "source": [
    " // the utilities are in the RooStats namespace\n",
    "using namespace std;"
   ]
  },
  {
   "cell_type": "markdown",
   "metadata": {},
   "source": [
    "From the root prompt, you can see the full list of functions by using tab-completion\n",
    " ~~~{.bash}\n",
    " root [0] RooStats::NumberCountingUtils::  <tab>\n",
    " BinomialExpZ\n",
    " BinomialWithTauExpZ\n",
    " BinomialObsZ\n",
    " BinomialWithTauObsZ\n",
    " BinomialExpP\n",
    " BinomialWithTauExpP\n",
    " BinomialObsP\n",
    " BinomialWithTauObsP\n",
    " ~~~"
   ]
  },
  {
   "cell_type": "markdown",
   "metadata": {},
   "source": [
    "For each of the utilities you can inspect the arguments by tab completion\n",
    " ~~~{.bash}\n",
    " root [1] NumberCountingUtils::BinomialExpZ( <tab>\n",
    " Double_t BinomialExpZ(Double_t sExp, Double_t bExp, Double_t fractionalBUncertainty)\n",
    " ~~~"
   ]
  },
  {
   "cell_type": "markdown",
   "metadata": {},
   "source": [
    "-------------------------------------------------\n",
    " Here we see common usages where the experimenter\n",
    " has a relative background uncertainty, without\n",
    " explicit reference to the auxiliary or sideband\n",
    " measurement"
   ]
  },
  {
   "cell_type": "markdown",
   "metadata": {},
   "source": [
    "-------------------------------------------------------------\n",
    " Expected p-values and significance with background uncertainty"
   ]
  },
  {
   "cell_type": "code",
   "execution_count": 4,
   "metadata": {
    "collapsed": false
   },
   "outputs": [
    {
     "name": "stdout",
     "output_type": "stream",
     "text": [
      "\n",
      "\u001b[1mRooFit v3.60 -- Developed by Wouter Verkerke and David Kirkby\u001b[0m \n",
      "                Copyright (C) 2000-2013 NIKHEF, University of California & Stanford University\n",
      "                All rights reserved, please read http://roofit.sourceforge.net/license.txt\n",
      "\n",
      "expected p-value =0.00094165  Z value (Gaussian sigma) = 3.10804\n"
     ]
    }
   ],
   "source": [
    "double sExpected = 50;\n",
    "double bExpected = 100;\n",
    "double relativeBkgUncert = 0.1;\n",
    "\n",
    "double pExp = NumberCountingUtils::BinomialExpP(sExpected, bExpected, relativeBkgUncert);\n",
    "double zExp = NumberCountingUtils::BinomialExpZ(sExpected, bExpected, relativeBkgUncert);\n",
    "cout << \"expected p-value =\" << pExp << \"  Z value (Gaussian sigma) = \" << zExp << endl;"
   ]
  },
  {
   "cell_type": "markdown",
   "metadata": {},
   "source": [
    "-------------------------------------------------\n",
    " Expected p-values and significance with background uncertainty"
   ]
  },
  {
   "cell_type": "code",
   "execution_count": 5,
   "metadata": {
    "collapsed": false
   },
   "outputs": [
    {
     "name": "stdout",
     "output_type": "stream",
     "text": [
      "observed p-value =0.00094165  Z value (Gaussian sigma) = 3.10804\n"
     ]
    }
   ],
   "source": [
    "double observed = 150;\n",
    "double pObs = NumberCountingUtils::BinomialObsP(observed, bExpected, relativeBkgUncert);\n",
    "double zObs = NumberCountingUtils::BinomialObsZ(observed, bExpected, relativeBkgUncert);\n",
    "cout << \"observed p-value =\" << pObs << \"  Z value (Gaussian sigma) = \" << zObs << endl;"
   ]
  },
  {
   "cell_type": "markdown",
   "metadata": {},
   "source": [
    "---------------------------------------------------------\n",
    " Here we see usages where the experimenter has knowledge\n",
    " about the properties of the auxiliary or sideband\n",
    " measurement.  In particular, the ratio tau of background\n",
    " in the auxiliary measurement to the main measurement.\n",
    " Large values of tau mean small background uncertainty\n",
    " because the sideband is very constraining."
   ]
  },
  {
   "cell_type": "markdown",
   "metadata": {},
   "source": [
    "Usage:\n",
    " ~~~{.bash}\n",
    " root [0] RooStats::NumberCountingUtils::BinomialWithTauExpP(\n",
    " Double_t BinomialWithTauExpP(Double_t sExp, Double_t bExp, Double_t tau)\n",
    " ~~~"
   ]
  },
  {
   "cell_type": "markdown",
   "metadata": {},
   "source": [
    "--------------------------------------------------------------\n",
    " Expected p-values and significance with background uncertainty"
   ]
  },
  {
   "cell_type": "code",
   "execution_count": 6,
   "metadata": {
    "collapsed": false
   },
   "outputs": [
    {
     "name": "stdout",
     "output_type": "stream",
     "text": [
      "expected p-value =0.00094165  Z value (Gaussian sigma) = 3.10804\n"
     ]
    }
   ],
   "source": [
    "double tau = 1;\n",
    "\n",
    "double pExpWithTau = NumberCountingUtils::BinomialWithTauExpP(sExpected, bExpected, tau);\n",
    "double zExpWithTau = NumberCountingUtils::BinomialWithTauExpZ(sExpected, bExpected, tau);\n",
    "cout << \"expected p-value =\" << pExpWithTau << \"  Z value (Gaussian sigma) = \" << zExpWithTau << endl;"
   ]
  },
  {
   "cell_type": "markdown",
   "metadata": {},
   "source": [
    "---------------------------------------------------------------\n",
    " Expected p-values and significance with background uncertainty"
   ]
  },
  {
   "cell_type": "code",
   "execution_count": 7,
   "metadata": {
    "collapsed": false
   },
   "outputs": [
    {
     "name": "stdout",
     "output_type": "stream",
     "text": [
      "observed p-value =0.00094165  Z value (Gaussian sigma) = 3.10804\n"
     ]
    }
   ],
   "source": [
    "double pObsWithTau = NumberCountingUtils::BinomialWithTauObsP(observed, bExpected, tau);\n",
    "double zObsWithTau = NumberCountingUtils::BinomialWithTauObsZ(observed, bExpected, tau);\n",
    "cout << \"observed p-value =\" << pObsWithTau << \"  Z value (Gaussian sigma) = \" << zObsWithTau << endl;"
   ]
  }
 ],
 "metadata": {
  "kernelspec": {
   "display_name": "ROOT C++",
   "language": "c++",
   "name": "root"
  },
  "language_info": {
   "codemirror_mode": "text/x-c++src",
   "file_extension": ".C",
   "mimetype": " text/x-c++src",
   "name": "c++"
  }
 },
 "nbformat": 4,
 "nbformat_minor": 2
}
