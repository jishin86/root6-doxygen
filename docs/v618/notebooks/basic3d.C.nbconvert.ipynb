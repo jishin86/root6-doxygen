{
 "cells": [
  {
   "cell_type": "markdown",
   "metadata": {},
   "source": [
    "# Basic 3D\n",
    "Show 3-D polylines and markers.\n",
    "\n",
    "\n",
    "\n",
    "\n",
    "**Author:** Rene Brun  \n",
    "<i><small>This notebook tutorial was automatically generated with <a href= \"https://github.com/root-project/root/blob/master/documentation/doxygen/converttonotebook.py\">ROOTBOOK-izer</a> from the macro found in the ROOT repository  on Thursday, August 29, 2019 at 01:38 AM.</small></i>"
   ]
  },
  {
   "cell_type": "code",
   "execution_count": 1,
   "metadata": {
    "collapsed": false
   },
   "outputs": [],
   "source": [
    "TCanvas *c1 = new TCanvas(\"c1\",\"PolyLine3D & PolyMarker3D Window\",200,10,700,500);"
   ]
  },
  {
   "cell_type": "markdown",
   "metadata": {},
   "source": [
    "Create a pad"
   ]
  },
  {
   "cell_type": "code",
   "execution_count": 2,
   "metadata": {
    "collapsed": false
   },
   "outputs": [],
   "source": [
    "TPad *p1 = new TPad(\"p1\",\"p1\",0.05,0.02,0.95,0.82,46,3,1);\n",
    "p1->Draw();\n",
    "p1->cd();"
   ]
  },
  {
   "cell_type": "markdown",
   "metadata": {},
   "source": [
    "Creating a view"
   ]
  },
  {
   "cell_type": "code",
   "execution_count": 3,
   "metadata": {
    "collapsed": false
   },
   "outputs": [],
   "source": [
    "TView *view = TView::CreateView(1);\n",
    "view->SetRange(5,5,5,25,25,25);"
   ]
  },
  {
   "cell_type": "markdown",
   "metadata": {},
   "source": [
    "Create a first polyline3d"
   ]
  },
  {
   "cell_type": "code",
   "execution_count": 4,
   "metadata": {
    "collapsed": false
   },
   "outputs": [],
   "source": [
    "TPolyLine3D *pl3d1 = new TPolyLine3D(5);"
   ]
  },
  {
   "cell_type": "markdown",
   "metadata": {},
   "source": [
    "Set points"
   ]
  },
  {
   "cell_type": "code",
   "execution_count": 5,
   "metadata": {
    "collapsed": false
   },
   "outputs": [],
   "source": [
    "pl3d1->SetPoint(0, 10, 10, 10);\n",
    "pl3d1->SetPoint(1, 15, 15, 10);\n",
    "pl3d1->SetPoint(2, 20, 15, 15);\n",
    "pl3d1->SetPoint(3, 20, 20, 20);\n",
    "pl3d1->SetPoint(4, 10, 10, 20);"
   ]
  },
  {
   "cell_type": "markdown",
   "metadata": {},
   "source": [
    "Set attributes"
   ]
  },
  {
   "cell_type": "code",
   "execution_count": 6,
   "metadata": {
    "collapsed": false
   },
   "outputs": [],
   "source": [
    "pl3d1->SetLineWidth(3);\n",
    "pl3d1->SetLineColor(5);"
   ]
  },
  {
   "cell_type": "markdown",
   "metadata": {},
   "source": [
    "Create a second polyline3d"
   ]
  },
  {
   "cell_type": "code",
   "execution_count": 7,
   "metadata": {
    "collapsed": false
   },
   "outputs": [],
   "source": [
    "TPolyLine3D *pl3d2 = new TPolyLine3D(4);"
   ]
  },
  {
   "cell_type": "markdown",
   "metadata": {},
   "source": [
    "Set points"
   ]
  },
  {
   "cell_type": "code",
   "execution_count": 8,
   "metadata": {
    "collapsed": false
   },
   "outputs": [],
   "source": [
    "pl3d2->SetPoint(0, 5, 10, 5);\n",
    "pl3d2->SetPoint(1, 10, 15, 8);\n",
    "pl3d2->SetPoint(2, 15, 15, 18);\n",
    "pl3d2->SetPoint(3, 5, 20, 20);\n",
    "pl3d2->SetPoint(4, 10, 10, 5);"
   ]
  },
  {
   "cell_type": "markdown",
   "metadata": {},
   "source": [
    "Set attributes"
   ]
  },
  {
   "cell_type": "code",
   "execution_count": 9,
   "metadata": {
    "collapsed": false
   },
   "outputs": [],
   "source": [
    "pl3d2->SetLineWidth(5);\n",
    "pl3d2->SetLineColor(2);"
   ]
  },
  {
   "cell_type": "markdown",
   "metadata": {},
   "source": [
    "Create a first polymarker3d"
   ]
  },
  {
   "cell_type": "code",
   "execution_count": 10,
   "metadata": {
    "collapsed": false
   },
   "outputs": [],
   "source": [
    "TPolyMarker3D *pm3d1 = new TPolyMarker3D(12);"
   ]
  },
  {
   "cell_type": "markdown",
   "metadata": {},
   "source": [
    "Set points"
   ]
  },
  {
   "cell_type": "code",
   "execution_count": 11,
   "metadata": {
    "collapsed": false
   },
   "outputs": [],
   "source": [
    "pm3d1->SetPoint(0, 10, 10, 10);\n",
    "pm3d1->SetPoint(1, 11, 15, 11);\n",
    "pm3d1->SetPoint(2, 12, 15, 9);\n",
    "pm3d1->SetPoint(3, 13, 17, 20);\n",
    "pm3d1->SetPoint(4, 14, 16, 15);\n",
    "pm3d1->SetPoint(5, 15, 20, 15);\n",
    "pm3d1->SetPoint(6, 16, 18, 10);\n",
    "pm3d1->SetPoint(7, 17, 15, 10);\n",
    "pm3d1->SetPoint(8, 18, 22, 15);\n",
    "pm3d1->SetPoint(9, 19, 28, 25);\n",
    "pm3d1->SetPoint(10, 20, 12, 15);\n",
    "pm3d1->SetPoint(11, 21, 12, 15);"
   ]
  },
  {
   "cell_type": "markdown",
   "metadata": {},
   "source": [
    "Set marker size, color & style"
   ]
  },
  {
   "cell_type": "code",
   "execution_count": 12,
   "metadata": {
    "collapsed": false
   },
   "outputs": [],
   "source": [
    "pm3d1->SetMarkerSize(2);\n",
    "pm3d1->SetMarkerColor(4);\n",
    "pm3d1->SetMarkerStyle(2);"
   ]
  },
  {
   "cell_type": "markdown",
   "metadata": {},
   "source": [
    "Create a second polymarker3d"
   ]
  },
  {
   "cell_type": "code",
   "execution_count": 13,
   "metadata": {
    "collapsed": false
   },
   "outputs": [],
   "source": [
    "TPolyMarker3D *pm3d2 = new TPolyMarker3D(8);\n",
    "\n",
    "pm3d2->SetPoint(0, 22, 15, 15);\n",
    "pm3d2->SetPoint(1, 23, 18, 21);\n",
    "pm3d2->SetPoint(2, 24, 26, 13);\n",
    "pm3d2->SetPoint(3, 25, 17, 15);\n",
    "pm3d2->SetPoint(4, 26, 20, 15);\n",
    "pm3d2->SetPoint(5, 27, 15, 18);\n",
    "pm3d2->SetPoint(6, 28, 20, 10);\n",
    "pm3d2->SetPoint(7, 29, 20, 20);"
   ]
  },
  {
   "cell_type": "markdown",
   "metadata": {},
   "source": [
    "Set marker size, color & style"
   ]
  },
  {
   "cell_type": "code",
   "execution_count": 14,
   "metadata": {
    "collapsed": false
   },
   "outputs": [],
   "source": [
    "pm3d2->SetMarkerSize(2);\n",
    "pm3d2->SetMarkerColor(1);\n",
    "pm3d2->SetMarkerStyle(8);"
   ]
  },
  {
   "cell_type": "markdown",
   "metadata": {},
   "source": [
    "Draw"
   ]
  },
  {
   "cell_type": "code",
   "execution_count": 15,
   "metadata": {
    "collapsed": false
   },
   "outputs": [],
   "source": [
    "pl3d1->Draw();\n",
    "pl3d2->Draw();\n",
    "pm3d1->Draw();\n",
    "pm3d2->Draw();"
   ]
  },
  {
   "cell_type": "markdown",
   "metadata": {},
   "source": [
    " draw a title/explanation in the canvas pad"
   ]
  },
  {
   "cell_type": "code",
   "execution_count": 16,
   "metadata": {
    "collapsed": false
   },
   "outputs": [],
   "source": [
    "c1->cd();\n",
    "TPaveText *title = new TPaveText(0.1,0.85,0.9,0.97);\n",
    "title->SetFillColor(24);\n",
    "title->AddText(\"Examples of 3-D primitives\");\n",
    "TText *click=title->AddText(\"Click anywhere on the picture to rotate\");\n",
    "click->SetTextColor(4);\n",
    "title->Draw();"
   ]
  },
  {
   "cell_type": "markdown",
   "metadata": {},
   "source": [
    "Draw all canvases "
   ]
  },
  {
   "cell_type": "code",
   "execution_count": 17,
   "metadata": {
    "collapsed": false
   },
   "outputs": [
    {
     "data": {
      "image/png": "[encoded data removed]",
      "text/plain": [
       "<IPython.core.display.Image object>"
      ]
     },
     "metadata": {},
     "output_type": "display_data"
    }
   ],
   "source": [
    "gROOT->GetListOfCanvases()->Draw()"
   ]
  }
 ],
 "metadata": {
  "kernelspec": {
   "display_name": "ROOT C++",
   "language": "c++",
   "name": "root"
  },
  "language_info": {
   "codemirror_mode": "text/x-c++src",
   "file_extension": ".C",
   "mimetype": " text/x-c++src",
   "name": "c++"
  }
 },
 "nbformat": 4,
 "nbformat_minor": 2
}
