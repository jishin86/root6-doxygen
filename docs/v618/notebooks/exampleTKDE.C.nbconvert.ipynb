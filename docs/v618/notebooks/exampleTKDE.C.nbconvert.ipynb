{
 "cells": [
  {
   "cell_type": "markdown",
   "metadata": {},
   "source": [
    "# Example T K D E\n",
    "Example of using the TKDE class (kernel density estimator)\n",
    "\n",
    "\n",
    "\n",
    "\n",
    "**Author:**  Lorenzo Moneta, Bartolomeu Rabacal (Dec 2010)  \n",
    "<i><small>This notebook tutorial was automatically generated with <a href= \"https://github.com/root-project/root/blob/master/documentation/doxygen/converttonotebook.py\">ROOTBOOK-izer</a> from the macro found in the ROOT repository  on Thursday, August 29, 2019 at 02:06 AM.</small></i>"
   ]
  },
  {
   "cell_type": "code",
   "execution_count": 1,
   "metadata": {
    "collapsed": false
   },
   "outputs": [],
   "source": [
    "%%cpp -d\n",
    "#include \"TH1.h\"\n",
    "#include \"TF1.h\"\n",
    "#include \"TKDE.h\"\n",
    "#include \"TCanvas.h\"\n",
    "/*#include \"TStopwatch.h\"*/\n",
    "#include \"TRandom.h\"\n",
    "#include \"Math/DistFunc.h\"\n",
    "#include \"TLegend.h\""
   ]
  },
  {
   "cell_type": "markdown",
   "metadata": {},
   "source": [
    "Test tkde"
   ]
  },
  {
   "cell_type": "markdown",
   "metadata": {},
   "source": [
    " Arguments are defined. "
   ]
  },
  {
   "cell_type": "code",
   "execution_count": 2,
   "metadata": {
    "collapsed": false
   },
   "outputs": [],
   "source": [
    "int n = 1000;"
   ]
  },
  {
   "cell_type": "markdown",
   "metadata": {},
   "source": [
    "Generate some gaussian points"
   ]
  },
  {
   "cell_type": "code",
   "execution_count": 3,
   "metadata": {
    "collapsed": false
   },
   "outputs": [],
   "source": [
    "int nbin = 100;\n",
    "double xmin = 0;\n",
    "double xmax = 10;\n",
    "\n",
    "TH1D * h1 = new TH1D(\"h1\",\"h1\",nbin,xmin,xmax);"
   ]
  },
  {
   "cell_type": "markdown",
   "metadata": {},
   "source": [
    "Generate some points with bi- gaussian distribution"
   ]
  },
  {
   "cell_type": "code",
   "execution_count": 4,
   "metadata": {
    "collapsed": false
   },
   "outputs": [],
   "source": [
    "std::vector<double> data(n);\n",
    "for (int i = 0; i < n; ++i) {\n",
    "   if (i < 0.4*n) {\n",
    "      data[i] = gRandom->Gaus(2,1);\n",
    "      h1->Fill(data[i]);\n",
    "   }\n",
    "   else {\n",
    "      data[i] = gRandom->Gaus(7,1.5);\n",
    "      h1->Fill(data[i]);\n",
    "   }\n",
    "}"
   ]
  },
  {
   "cell_type": "markdown",
   "metadata": {},
   "source": [
    "Scale histogram"
   ]
  },
  {
   "cell_type": "code",
   "execution_count": 5,
   "metadata": {
    "collapsed": false
   },
   "outputs": [
    {
     "name": "stderr",
     "output_type": "stream",
     "text": [
      "Info in <TCanvas::MakeDefCanvas>:  created default TCanvas with name c1\n"
     ]
    }
   ],
   "source": [
    "h1->Scale(1./h1->Integral(),\"width\" );\n",
    "h1->SetStats(false);\n",
    "h1->SetTitle(\"Bi-Gaussian\");\n",
    "h1->Draw();"
   ]
  },
  {
   "cell_type": "markdown",
   "metadata": {},
   "source": [
    "Drawn true normalized density"
   ]
  },
  {
   "cell_type": "code",
   "execution_count": 6,
   "metadata": {
    "collapsed": false
   },
   "outputs": [],
   "source": [
    "TF1 * f1 = new TF1(\"f1\",\"0.4*ROOT::Math::normal_pdf(x,1,2)+0.6*ROOT::Math::normal_pdf(x,1.5,7)\",xmin,xmax);\n",
    "f1->SetLineColor(kGreen+2);\n",
    "f1->Draw(\"SAME\");"
   ]
  },
  {
   "cell_type": "markdown",
   "metadata": {},
   "source": [
    "Create tkde class"
   ]
  },
  {
   "cell_type": "code",
   "execution_count": 7,
   "metadata": {
    "collapsed": false
   },
   "outputs": [],
   "source": [
    "double rho = 1.0; //default value\n",
    "TKDE * kde = new TKDE(n, &data[0], xmin,xmax, \"\", rho);"
   ]
  },
  {
   "cell_type": "markdown",
   "metadata": {},
   "source": [
    "Kde->draw(\"confidenceinterval@0.95 same\");"
   ]
  },
  {
   "cell_type": "code",
   "execution_count": 8,
   "metadata": {
    "collapsed": false
   },
   "outputs": [],
   "source": [
    "kde->Draw(\"SAME\");\n",
    "\n",
    "TLegend * legend = new TLegend(0.6,0.7,0.9,0.95);\n",
    "legend->AddEntry(f1,\"True function\");\n",
    "legend->AddEntry(kde->GetDrawnFunction(),\"TKDE\");\n",
    "legend->AddEntry(kde->GetDrawnLowerFunction(),\"TKDE - #sigma\");\n",
    "legend->AddEntry(kde->GetDrawnUpperFunction(),\"TKDE + #sigma\");\n",
    "legend->Draw();"
   ]
  },
  {
   "cell_type": "markdown",
   "metadata": {},
   "source": [
    "Draw all canvases "
   ]
  },
  {
   "cell_type": "code",
   "execution_count": 9,
   "metadata": {
    "collapsed": false
   },
   "outputs": [
    {
     "data": {
      "image/png": "[encoded data removed]",
      "text/plain": [
       "<IPython.core.display.Image object>"
      ]
     },
     "metadata": {},
     "output_type": "display_data"
    }
   ],
   "source": [
    "gROOT->GetListOfCanvases()->Draw()"
   ]
  }
 ],
 "metadata": {
  "kernelspec": {
   "display_name": "ROOT C++",
   "language": "c++",
   "name": "root"
  },
  "language_info": {
   "codemirror_mode": "text/x-c++src",
   "file_extension": ".C",
   "mimetype": " text/x-c++src",
   "name": "c++"
  }
 },
 "nbformat": 4,
 "nbformat_minor": 2
}
