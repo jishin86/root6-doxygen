{
 "cells": [
  {
   "cell_type": "markdown",
   "metadata": {},
   "source": [
    "# Df 1 0 3_ Nano A O D Higgs Analysis\n",
    "This tutorial is a simplified but yet complex example of an analysis reconstructing\n",
    "the Higgs boson decaying to two Z bosons from events with four leptons. The data\n",
    "and simulated events are taken from CERN OpenData representing a subset of the data\n",
    "recorded in 2012 with the CMS detector at the LHC. The tutorials follows the Higgs\n",
    "to four leptons analysis published on CERN Open Data portal\n",
    "([10.7483/OPENDATA.CMS.JKB8.RR42](http://opendata.cern.ch/record/5500)).\n",
    "The resulting plots show the invariant mass of the selected four lepton systems\n",
    "in different decay modes (four muons, four electrons and two of each kind)\n",
    "and in a combined plot indicating the decay of the Higgs boson with a mass\n",
    "of about 125 GeV.\n",
    "\n",
    "The following steps are performed for each sample with data and simulated events\n",
    "in order to reconstruct the Higgs boson from the selected muons and electrons:\n",
    "1. Select interesting events with multiple cuts on event properties, e.g.,\n",
    "   number of leptons, kinematics of the leptons and quality of the tracks.\n",
    "2. Reconstruct two Z bosons of which only one on the mass shell from the selected events and apply additional cuts\n",
    "   on the reconstructed objects.\n",
    "3. Reconstruct the Higgs boson from the remaining Z boson candidates and calculate\n",
    "   its invariant mass.\n",
    "\n",
    "\n",
    "\n",
    "\n",
    "**Author:** Stefan Wunsch (KIT, CERN)  \n",
    "<i><small>This notebook tutorial was automatically generated with <a href= \"https://github.com/root-project/root/blob/master/documentation/doxygen/converttonotebook.py\">ROOTBOOK-izer</a> from the macro found in the ROOT repository  on Thursday, August 29, 2019 at 01:23 AM.</small></i>"
   ]
  },
  {
   "cell_type": "code",
   "execution_count": 1,
   "metadata": {
    "collapsed": false
   },
   "outputs": [],
   "source": [
    "%%cpp -d\n",
    "#include \"ROOT/RDataFrame.hxx\"\n",
    "#include \"ROOT/RVec.hxx\"\n",
    "#include \"ROOT/RDF/RInterface.hxx\"\n",
    "#include \"TCanvas.h\"\n",
    "#include \"TH1D.h\"\n",
    "#include \"TLatex.h\"\n",
    "#include \"TLegend.h\"\n",
    "#include \"Math/Vector4Dfwd.h\"\n",
    "#include \"TStyle.h\"\n",
    "\n",
    "using namespace ROOT::VecOps;\n",
    "using RNode = ROOT::RDF::RNode;\n",
    "using rvec_f = const RVec<float> &;\n",
    "using rvec_i = const RVec<int> &;\n",
    "\n",
    "const auto z_mass = 91.2;"
   ]
  },
  {
   "cell_type": "markdown",
   "metadata": {},
   "source": [
    "Select interesting events with four muons"
   ]
  },
  {
   "cell_type": "code",
   "execution_count": 2,
   "metadata": {
    "collapsed": false
   },
   "outputs": [],
   "source": [
    "RNode selection_4mu(RNode df)\n",
    "{\n",
    "   auto df_ge4m = df.Filter(\"nMuon>=4\", \"At least four muons\");\n",
    "   auto df_iso = df_ge4m.Filter(\"All(abs(Muon_pfRelIso04_all)<0.40)\", \"Require good isolation\");\n",
    "   auto df_kin = df_iso.Filter(\"All(Muon_pt>5) && All(abs(Muon_eta)<2.4)\", \"Good muon kinematics\");\n",
    "   auto df_ip3d = df_kin.Define(\"Muon_ip3d\", \"sqrt(Muon_dxy*Muon_dxy + Muon_dz*Muon_dz)\");\n",
    "   auto df_sip3d = df_ip3d.Define(\"Muon_sip3d\", \"Muon_ip3d/sqrt(Muon_dxyErr*Muon_dxyErr + Muon_dzErr*Muon_dzErr)\");\n",
    "   auto df_pv = df_sip3d.Filter(\"All(Muon_sip3d<4) && All(abs(Muon_dxy)<0.5) && All(abs(Muon_dz)<1.0)\",\n",
    "                                \"Track close to primary vertex with small uncertainty\");\n",
    "   auto df_2p2n = df_pv.Filter(\"nMuon==4 && Sum(Muon_charge==1)==2 && Sum(Muon_charge==-1)==2\",\n",
    "                               \"Two positive and two negative muons\");\n",
    "   return df_2p2n;\n",
    "}"
   ]
  },
  {
   "cell_type": "markdown",
   "metadata": {},
   "source": [
    "Select interesting events with four electrons"
   ]
  },
  {
   "cell_type": "code",
   "execution_count": 3,
   "metadata": {
    "collapsed": false
   },
   "outputs": [],
   "source": [
    "RNode selection_4el(RNode df)\n",
    "{\n",
    "   auto df_ge4el = df.Filter(\"nElectron>=4\", \"At least our electrons\");\n",
    "   auto df_iso = df_ge4el.Filter(\"All(abs(Electron_pfRelIso03_all)<0.40)\", \"Require good isolation\");\n",
    "   auto df_kin = df_iso.Filter(\"All(Electron_pt>7) && All(abs(Electron_eta)<2.5)\", \"Good Electron kinematics\");\n",
    "   auto df_ip3d = df_kin.Define(\"Electron_ip3d\", \"sqrt(Electron_dxy*Electron_dxy + Electron_dz*Electron_dz)\");\n",
    "   auto df_sip3d = df_ip3d.Define(\"Electron_sip3d\",\n",
    "                                  \"Electron_ip3d/sqrt(Electron_dxyErr*Electron_dxyErr + Electron_dzErr*Electron_dzErr)\");\n",
    "   auto df_pv = df_sip3d.Filter(\"All(Electron_sip3d<4) && All(abs(Electron_dxy)<0.5) && \"\n",
    "                                \"All(abs(Electron_dz)<1.0)\",\n",
    "                                \"Track close to primary vertex with small uncertainty\");\n",
    "   auto df_2p2n = df_pv.Filter(\"nElectron==4 && Sum(Electron_charge==1)==2 && Sum(Electron_charge==-1)==2\",\n",
    "                               \"Two positive and two negative electrons\");\n",
    "   return df_2p2n;\n",
    "}"
   ]
  },
  {
   "cell_type": "markdown",
   "metadata": {},
   "source": [
    "Select interesting events with two electrons and two muons"
   ]
  },
  {
   "cell_type": "code",
   "execution_count": 4,
   "metadata": {
    "collapsed": false
   },
   "outputs": [],
   "source": [
    "RNode selection_2el2mu(RNode df)\n",
    "{\n",
    "   auto df_ge2el2mu = df.Filter(\"nElectron>=2 && nMuon>=2\", \"At least two electrons and two muons\");\n",
    "   auto df_eta = df_ge2el2mu.Filter(\"All(abs(Electron_eta)<2.5) && All(abs(Muon_eta)<2.4)\", \"Eta cuts\");\n",
    "   auto pt_cuts = [](rvec_f mu_pt, rvec_f el_pt) {\n",
    "      auto mu_pt_sorted = Reverse(Sort(mu_pt));\n",
    "      if (mu_pt_sorted[0] > 20 && mu_pt_sorted[1] > 10) {\n",
    "         return true;\n",
    "      }\n",
    "      auto el_pt_sorted = Reverse(Sort(el_pt));\n",
    "      if (el_pt_sorted[0] > 20 && el_pt_sorted[1] > 10) {\n",
    "         return true;\n",
    "      }\n",
    "      return false;\n",
    "   };\n",
    "   auto df_pt = df_eta.Filter(pt_cuts, {\"Muon_pt\", \"Electron_pt\"}, \"Pt cuts\");\n",
    "   auto dr_cuts = [](rvec_f mu_eta, rvec_f mu_phi, rvec_f el_eta, rvec_f el_phi) {\n",
    "      auto mu_dr = sqrt(pow(mu_eta[0] - mu_eta[1], 2) + pow(mu_phi[0] - mu_phi[1], 2));\n",
    "      auto el_dr = sqrt(pow(el_eta[0] - el_eta[1], 2) + pow(el_phi[0] - el_phi[1], 2));\n",
    "      if (mu_dr < 0.02 || el_dr < 0.02) {\n",
    "         return false;\n",
    "      }\n",
    "      return true;\n",
    "   };\n",
    "   auto df_dr = df_pt.Filter(dr_cuts, {\"Muon_eta\", \"Muon_phi\", \"Electron_eta\", \"Electron_phi\"}, \"Dr cuts\");\n",
    "   auto df_iso = df_dr.Filter(\"All(abs(Electron_pfRelIso03_all)<0.40) && All(abs(Muon_pfRelIso04_all)<0.40)\",\n",
    "                              \"Require good isolation\");\n",
    "   auto df_el_ip3d = df_iso.Define(\"Electron_ip3d_el\", \"sqrt(Electron_dxy*Electron_dxy + Electron_dz*Electron_dz)\");\n",
    "   auto df_el_sip3d = df_el_ip3d.Define(\"Electron_sip3d_el\",\n",
    "                                        \"Electron_ip3d_el/sqrt(Electron_dxyErr*Electron_dxyErr + \"\n",
    "                                        \"Electron_dzErr*Electron_dzErr)\");\n",
    "   auto df_el_track = df_el_sip3d.Filter(\"All(Electron_sip3d_el<4) && All(abs(Electron_dxy)<0.5) && All(abs(Electron_dz)<1.0)\",\n",
    "                                         \"Electron track close to primary vertex with small uncertainty\");\n",
    "   auto df_mu_ip3d = df_el_track.Define(\"Muon_ip3d_mu\", \"sqrt(Muon_dxy*Muon_dxy + Muon_dz*Muon_dz)\");\n",
    "   auto df_mu_sip3d = df_mu_ip3d.Define(\"Muon_sip3d_mu\",\n",
    "                                        \"Muon_ip3d_mu/sqrt(Muon_dxyErr*Muon_dxyErr + Muon_dzErr*Muon_dzErr)\");\n",
    "   auto df_mu_track = df_mu_sip3d.Filter(\"All(Muon_sip3d_mu<4) && All(abs(Muon_dxy)<0.5) && All(abs(Muon_dz)<1.0)\",\n",
    "                                         \"Muon track close to primary vertex with small uncertainty\");\n",
    "   auto df_2p2n = df_mu_track.Filter(\"Sum(Electron_charge)==0 && Sum(Muon_charge)==0\",\n",
    "                                     \"Two opposite charged electron and muon pairs\");\n",
    "   return df_2p2n;\n",
    "}"
   ]
  },
  {
   "cell_type": "markdown",
   "metadata": {},
   "source": [
    "Reconstruct two z candidates from four leptons of the same kind"
   ]
  },
  {
   "cell_type": "code",
   "execution_count": 5,
   "metadata": {
    "collapsed": false
   },
   "outputs": [
    {
     "name": "stderr",
     "output_type": "stream",
     "text": [
      "input_line_34:3:1: error: function definition is not allowed here\n",
      "{\n",
      "^\n"
     ]
    }
   ],
   "source": [
    "RVec<RVec<size_t>> reco_zz_to_4l(rvec_f pt, rvec_f eta, rvec_f phi, rvec_f mass, rvec_i charge)\n",
    "{\n",
    "   RVec<RVec<size_t>> idx(2);\n",
    "   idx[0].reserve(2); idx[1].reserve(2);\n",
    "\n",
    "   // Find first lepton pair with invariant mass closest to Z mass\n",
    "   auto idx_cmb = Combinations(pt, 2);\n",
    "   auto best_mass = -1;\n",
    "   size_t best_i1 = 0; size_t best_i2 = 0;\n",
    "   for (size_t i = 0; i < idx_cmb[0].size(); i++) {\n",
    "      const auto i1 = idx_cmb[0][i];\n",
    "      const auto i2 = idx_cmb[1][i];\n",
    "      if (charge[i1] != charge[i2]) {\n",
    "         ROOT::Math::PtEtaPhiMVector p1(pt[i1], eta[i1], phi[i1], mass[i1]);\n",
    "         ROOT::Math::PtEtaPhiMVector p2(pt[i2], eta[i2], phi[i2], mass[i2]);\n",
    "         const auto this_mass = (p1 + p2).M();\n",
    "         if (std::abs(z_mass - this_mass) < std::abs(z_mass - best_mass)) {\n",
    "            best_mass = this_mass;\n",
    "            best_i1 = i1;\n",
    "            best_i2 = i2;\n",
    "         }\n",
    "      }\n",
    "   }\n",
    "   idx[0].emplace_back(best_i1);\n",
    "   idx[0].emplace_back(best_i2);\n",
    "\n",
    "   // Reconstruct second Z from remaining lepton pair\n",
    "   for (size_t i = 0; i < 4; i++) {\n",
    "      if (i != best_i1 && i != best_i2) {\n",
    "         idx[1].emplace_back(i);\n",
    "      }\n",
    "   }\n",
    "\n",
    "   // Return indices of the pairs building two Z bosons\n",
    "   return idx;\n",
    "}"
   ]
  },
  {
   "cell_type": "markdown",
   "metadata": {},
   "source": [
    "Compute z masses from four leptons of the same kind and sort ascending in distance to z mass"
   ]
  },
  {
   "cell_type": "code",
   "execution_count": 6,
   "metadata": {
    "collapsed": false
   },
   "outputs": [
    {
     "name": "stderr",
     "output_type": "stream",
     "text": [
      "input_line_35:3:1: error: function definition is not allowed here\n",
      "{\n",
      "^\n"
     ]
    }
   ],
   "source": [
    "RVec<float> compute_z_masses_4l(const RVec<RVec<size_t>> &idx, rvec_f pt, rvec_f eta, rvec_f phi, rvec_f mass)\n",
    "{\n",
    "   RVec<float> z_masses(2);\n",
    "   for (size_t i = 0; i < 2; i++) {\n",
    "      const auto i1 = idx[i][0]; const auto i2 = idx[i][1];\n",
    "      ROOT::Math::PtEtaPhiMVector p1(pt[i1], eta[i1], phi[i1], mass[i1]);\n",
    "      ROOT::Math::PtEtaPhiMVector p2(pt[i2], eta[i2], phi[i2], mass[i2]);\n",
    "      z_masses[i] = (p1 + p2).M();\n",
    "   }\n",
    "   if (std::abs(z_masses[0] - z_mass) < std::abs(z_masses[1] - z_mass)) {\n",
    "      return z_masses;\n",
    "   } else {\n",
    "      return Reverse(z_masses);\n",
    "   }\n",
    "}"
   ]
  },
  {
   "cell_type": "markdown",
   "metadata": {},
   "source": [
    "Apply selection on reconstructed z candidates"
   ]
  },
  {
   "cell_type": "code",
   "execution_count": 7,
   "metadata": {
    "collapsed": false
   },
   "outputs": [],
   "source": [
    "RNode filter_z_candidates(RNode df)\n",
    "{\n",
    "   auto df_z1_cut = df.Filter(\"Z_mass[0] > 40 && Z_mass[0] < 120\", \"Mass of first Z candidate in [40, 120]\");\n",
    "   auto df_z2_cut = df_z1_cut.Filter(\"Z_mass[1] > 12 && Z_mass[1] < 120\", \"Mass of second Z candidate in [12, 120]\");\n",
    "   return df_z2_cut;\n",
    "}"
   ]
  },
  {
   "cell_type": "markdown",
   "metadata": {},
   "source": [
    "Reconstruct higgs from four muons"
   ]
  },
  {
   "cell_type": "code",
   "execution_count": 8,
   "metadata": {
    "collapsed": false
   },
   "outputs": [
    {
     "name": "stderr",
     "output_type": "stream",
     "text": [
      "input_line_37:8:31: error: use of undeclared identifier 'reco_zz_to_4l'\n",
      "      df_base.Define(\"Z_idx\", reco_zz_to_4l, {\"Muon_pt\", \"Muon_eta\", \"Muon_phi\", \"Muon_mass\", \"Muon_charge\"});\n",
      "                              ^\n",
      "input_line_37:27:32: error: use of undeclared identifier 'compute_z_masses_4l'\n",
      "      df_z_dr.Define(\"Z_mass\", compute_z_masses_4l, {\"Z_idx\", \"Muon_pt\", \"Muon_eta\", \"Muon_phi\", \"Muon_mass\"});\n",
      "                               ^\n",
      "input_line_37:34:33: error: use of undeclared identifier 'compute_higgs_mass_4l'\n",
      "      df_z_cut.Define(\"H_mass\", compute_higgs_mass_4l, {\"Z_idx\", \"Muon_pt\", \"Muon_eta\", \"Muon_phi\", \"Muon_mass\"});\n",
      "                                ^\n"
     ]
    }
   ],
   "source": [
    "RNode reco_higgs_to_4mu(RNode df)\n",
    "{\n",
    "   // Filter interesting events\n",
    "   auto df_base = selection_4mu(df);\n",
    "\n",
    "   // Reconstruct Z systems\n",
    "   auto df_z_idx =\n",
    "      df_base.Define(\"Z_idx\", reco_zz_to_4l, {\"Muon_pt\", \"Muon_eta\", \"Muon_phi\", \"Muon_mass\", \"Muon_charge\"});\n",
    "\n",
    "   // Cut on distance between muons building Z systems\n",
    "   auto filter_z_dr = [](const RVec<RVec<size_t>> &idx, rvec_f eta, rvec_f phi) {\n",
    "      for (size_t i = 0; i < 2; i++) {\n",
    "         const auto i1 = idx[i][0];\n",
    "         const auto i2 = idx[i][1];\n",
    "         const auto dr = sqrt(pow(eta[i1] - eta[i2], 2) + pow(phi[i1] - phi[i2], 2));\n",
    "         if (dr < 0.02) {\n",
    "            return false;\n",
    "         }\n",
    "      }\n",
    "      return true;\n",
    "   };\n",
    "   auto df_z_dr =\n",
    "      df_z_idx.Filter(filter_z_dr, {\"Z_idx\", \"Muon_eta\", \"Muon_phi\"}, \"Delta R separation of muons building Z system\");\n",
    "\n",
    "   // Compute masses of Z systems\n",
    "   auto df_z_mass =\n",
    "      df_z_dr.Define(\"Z_mass\", compute_z_masses_4l, {\"Z_idx\", \"Muon_pt\", \"Muon_eta\", \"Muon_phi\", \"Muon_mass\"});\n",
    "\n",
    "   // Cut on mass of Z candidates\n",
    "   auto df_z_cut = filter_z_candidates(df_z_mass);\n",
    "\n",
    "   // Reconstruct H mass\n",
    "   auto df_h_mass =\n",
    "      df_z_cut.Define(\"H_mass\", compute_higgs_mass_4l, {\"Z_idx\", \"Muon_pt\", \"Muon_eta\", \"Muon_phi\", \"Muon_mass\"});\n",
    "\n",
    "   return df_h_mass;\n",
    "}"
   ]
  },
  {
   "cell_type": "markdown",
   "metadata": {},
   "source": [
    "Reconstruct higgs from four electrons"
   ]
  },
  {
   "cell_type": "code",
   "execution_count": 9,
   "metadata": {
    "collapsed": false
   },
   "outputs": [
    {
     "name": "stderr",
     "output_type": "stream",
     "text": [
      "input_line_38:7:44: error: use of undeclared identifier 'reco_zz_to_4l'\n",
      "   auto df_z_idx = df_base.Define(\"Z_idx\", reco_zz_to_4l,\n",
      "                                           ^\n",
      "input_line_38:26:46: error: use of undeclared identifier 'compute_z_masses_4l'\n",
      "   auto df_z_mass = df_z_dr.Define(\"Z_mass\", compute_z_masses_4l,\n",
      "                                             ^\n",
      "input_line_38:33:47: error: use of undeclared identifier 'compute_higgs_mass_4l'\n",
      "   auto df_h_mass = df_z_cut.Define(\"H_mass\", compute_higgs_mass_4l,\n",
      "                                              ^\n"
     ]
    }
   ],
   "source": [
    "RNode reco_higgs_to_4el(RNode df)\n",
    "{\n",
    "   // Filter interesting events\n",
    "   auto df_base = selection_4el(df);\n",
    "\n",
    "   // Reconstruct Z systems\n",
    "   auto df_z_idx = df_base.Define(\"Z_idx\", reco_zz_to_4l,\n",
    "                                  {\"Electron_pt\", \"Electron_eta\", \"Electron_phi\", \"Electron_mass\", \"Electron_charge\"});\n",
    "\n",
    "   // Cut on distance between Electrons building Z systems\n",
    "   auto filter_z_dr = [](const RVec<RVec<size_t>> &idx, rvec_f eta, rvec_f phi) {\n",
    "      for (size_t i = 0; i < 2; i++) {\n",
    "         const auto i1 = idx[i][0];\n",
    "         const auto i2 = idx[i][1];\n",
    "         const auto dr = sqrt(pow(eta[i1] - eta[i2], 2) + pow(phi[i1] - phi[i2], 2));\n",
    "         if (dr < 0.02) {\n",
    "            return false;\n",
    "         }\n",
    "      }\n",
    "      return true;\n",
    "   };\n",
    "   auto df_z_dr = df_z_idx.Filter(filter_z_dr, {\"Z_idx\", \"Electron_eta\", \"Electron_phi\"},\n",
    "                                  \"Delta R separation of Electrons building Z system\");\n",
    "\n",
    "   // Compute masses of Z systems\n",
    "   auto df_z_mass = df_z_dr.Define(\"Z_mass\", compute_z_masses_4l,\n",
    "                                   {\"Z_idx\", \"Electron_pt\", \"Electron_eta\", \"Electron_phi\", \"Electron_mass\"});\n",
    "\n",
    "   // Cut on mass of Z candidates\n",
    "   auto df_z_cut = filter_z_candidates(df_z_mass);\n",
    "\n",
    "   // Reconstruct H mass\n",
    "   auto df_h_mass = df_z_cut.Define(\"H_mass\", compute_higgs_mass_4l,\n",
    "                                    {\"Z_idx\", \"Electron_pt\", \"Electron_eta\", \"Electron_phi\", \"Electron_mass\"});\n",
    "\n",
    "   return df_h_mass;\n",
    "}"
   ]
  },
  {
   "cell_type": "markdown",
   "metadata": {},
   "source": [
    "Compute mass of two z candidates from two electrons and two muons and sort ascending in distance to z mass"
   ]
  },
  {
   "cell_type": "code",
   "execution_count": 10,
   "metadata": {
    "collapsed": false
   },
   "outputs": [
    {
     "name": "stderr",
     "output_type": "stream",
     "text": [
      "input_line_39:4:1: error: function definition is not allowed here\n",
      "{\n",
      "^\n"
     ]
    }
   ],
   "source": [
    "RVec<float> compute_z_masses_2el2mu(rvec_f el_pt, rvec_f el_eta, rvec_f el_phi, rvec_f el_mass, rvec_f mu_pt,\n",
    "                                  rvec_f mu_eta, rvec_f mu_phi, rvec_f mu_mass)\n",
    "{\n",
    "   ROOT::Math::PtEtaPhiMVector p1(mu_pt[0], mu_eta[0], mu_phi[0], mu_mass[0]);\n",
    "   ROOT::Math::PtEtaPhiMVector p2(mu_pt[1], mu_eta[1], mu_phi[1], mu_mass[1]);\n",
    "   ROOT::Math::PtEtaPhiMVector p3(el_pt[0], el_eta[0], el_phi[0], el_mass[0]);\n",
    "   ROOT::Math::PtEtaPhiMVector p4(el_pt[1], el_eta[1], el_phi[1], el_mass[1]);\n",
    "   auto mu_z = (p1 + p2).M();\n",
    "   auto el_z = (p3 + p4).M();\n",
    "   RVec<float> z_masses(2);\n",
    "   if (std::abs(mu_z - z_mass) < std::abs(el_z - z_mass)) {\n",
    "      z_masses[0] = mu_z;\n",
    "      z_masses[1] = el_z;\n",
    "   } else {\n",
    "      z_masses[0] = el_z;\n",
    "      z_masses[1] = mu_z;\n",
    "   }\n",
    "   return z_masses;\n",
    "}"
   ]
  },
  {
   "cell_type": "markdown",
   "metadata": {},
   "source": [
    "Reconstruct higgs from two electrons and two muons"
   ]
  },
  {
   "cell_type": "code",
   "execution_count": 11,
   "metadata": {
    "collapsed": false
   },
   "outputs": [
    {
     "name": "stderr",
     "output_type": "stream",
     "text": [
      "input_line_40:8:32: error: use of undeclared identifier 'compute_z_masses_2el2mu'\n",
      "      df_base.Define(\"Z_mass\", compute_z_masses_2el2mu, {\"Electron_pt\", \"Electron_eta\", \"Electron_phi\", \"Electron_mass\",\n",
      "                               ^\n",
      "input_line_40:16:17: error: use of undeclared identifier 'compute_higgs_mass_2el2mu'\n",
      "      \"H_mass\", compute_higgs_mass_2el2mu,\n",
      "                ^\n"
     ]
    }
   ],
   "source": [
    "RNode reco_higgs_to_2el2mu(RNode df)\n",
    "{\n",
    "   // Filter interesting events\n",
    "   auto df_base = selection_2el2mu(df);\n",
    "\n",
    "   // Compute masses of Z systems\n",
    "   auto df_z_mass =\n",
    "      df_base.Define(\"Z_mass\", compute_z_masses_2el2mu, {\"Electron_pt\", \"Electron_eta\", \"Electron_phi\", \"Electron_mass\",\n",
    "                                                       \"Muon_pt\", \"Muon_eta\", \"Muon_phi\", \"Muon_mass\"});\n",
    "\n",
    "   // Cut on mass of Z candidates\n",
    "   auto df_z_cut = filter_z_candidates(df_z_mass);\n",
    "\n",
    "   // Reconstruct H mass\n",
    "   auto df_h_mass = df_z_cut.Define(\n",
    "      \"H_mass\", compute_higgs_mass_2el2mu,\n",
    "      {\"Electron_pt\", \"Electron_eta\", \"Electron_phi\", \"Electron_mass\", \"Muon_pt\", \"Muon_eta\", \"Muon_phi\", \"Muon_mass\"});\n",
    "\n",
    "   return df_h_mass;\n",
    "}"
   ]
  },
  {
   "cell_type": "markdown",
   "metadata": {},
   "source": [
    "Plot invariant mass for signal and background processes from simulated events\n",
    " overlay the measured data."
   ]
  },
  {
   "cell_type": "code",
   "execution_count": 12,
   "metadata": {
    "collapsed": false
   },
   "outputs": [
    {
     "name": "stderr",
     "output_type": "stream",
     "text": [
      "Unbalanced braces. This cell was not processed.\n"
     ]
    }
   ],
   "source": [
    "template <typename T>"
   ]
  },
  {
   "cell_type": "markdown",
   "metadata": {},
   "source": [
    "  Compute mass of Higgs from four leptons of the same kind\n",
    " "
   ]
  },
  {
   "cell_type": "code",
   "execution_count": 13,
   "metadata": {
    "collapsed": false
   },
   "outputs": [],
   "source": [
    "%%cpp -d\n",
    "float compute_higgs_mass_4l(const RVec<RVec<size_t>> &idx, rvec_f pt, rvec_f eta, rvec_f phi, rvec_f mass)\n",
    "{\n",
    "   const auto i1 = idx[0][0]; const auto i2 = idx[0][1];\n",
    "   const auto i3 = idx[1][0]; const auto i4 = idx[1][1];\n",
    "   ROOT::Math::PtEtaPhiMVector p1(pt[i1], eta[i1], phi[i1], mass[i1]);\n",
    "   ROOT::Math::PtEtaPhiMVector p2(pt[i2], eta[i2], phi[i2], mass[i2]);\n",
    "   ROOT::Math::PtEtaPhiMVector p3(pt[i3], eta[i3], phi[i3], mass[i3]);\n",
    "   ROOT::Math::PtEtaPhiMVector p4(pt[i4], eta[i4], phi[i4], mass[i4]);\n",
    "   return (p1 + p2 + p3 + p4).M();\n",
    "}"
   ]
  },
  {
   "cell_type": "markdown",
   "metadata": {},
   "source": [
    "  Compute Higgs mass from two electrons and two muons\n",
    " "
   ]
  },
  {
   "cell_type": "code",
   "execution_count": 14,
   "metadata": {
    "collapsed": false
   },
   "outputs": [],
   "source": [
    "%%cpp -d\n",
    "float compute_higgs_mass_2el2mu(rvec_f el_pt, rvec_f el_eta, rvec_f el_phi, rvec_f el_mass, rvec_f mu_pt, rvec_f mu_eta,\n",
    "                                rvec_f mu_phi, rvec_f mu_mass)\n",
    "{\n",
    "   ROOT::Math::PtEtaPhiMVector p1(mu_pt[0], mu_eta[0], mu_phi[0], mu_mass[0]);\n",
    "   ROOT::Math::PtEtaPhiMVector p2(mu_pt[1], mu_eta[1], mu_phi[1], mu_mass[1]);\n",
    "   ROOT::Math::PtEtaPhiMVector p3(el_pt[0], el_eta[0], el_phi[0], el_mass[0]);\n",
    "   ROOT::Math::PtEtaPhiMVector p4(el_pt[1], el_eta[1], el_phi[1], el_mass[1]);\n",
    "   return (p1 + p2 + p3 + p4).M();\n",
    "}"
   ]
  },
  {
   "cell_type": "markdown",
   "metadata": {},
   "source": [
    " A helper function is created: "
   ]
  },
  {
   "cell_type": "code",
   "execution_count": 15,
   "metadata": {
    "collapsed": false
   },
   "outputs": [
    {
     "name": "stderr",
     "output_type": "stream",
     "text": [
      "input_line_44:1:11: error: unknown type name 'T'\n",
      "void plot(T sig, T bkg, T data, const std::string &x_label, const std::string &filename)\n",
      "          ^\n",
      "input_line_44:1:18: error: unknown type name 'T'\n",
      "void plot(T sig, T bkg, T data, const std::string &x_label, const std::string &filename)\n",
      "                 ^\n",
      "input_line_44:1:25: error: unknown type name 'T'\n",
      "void plot(T sig, T bkg, T data, const std::string &x_label, const std::string &filename)\n",
      "                        ^\n"
     ]
    }
   ],
   "source": [
    "%%cpp -d\n",
    "void plot(T sig, T bkg, T data, const std::string &x_label, const std::string &filename)\n",
    "{\n",
    "   // Canvas and general style options\n",
    "   gStyle->SetOptStat(0);\n",
    "   gStyle->SetTextFont(42);\n",
    "   auto c = new TCanvas(\"c\", \"\", 800, 700);\n",
    "   c->SetLeftMargin(0.15);\n",
    "\n",
    "   // Get signal and background histograms and stack them to show Higgs signal\n",
    "   // on top of the background process\n",
    "   auto h_sig = *sig;\n",
    "   auto h_bkg = *bkg;\n",
    "   auto h_cmb = *(TH1D*)(sig->Clone());\n",
    "   h_cmb.Add(&h_bkg);\n",
    "   h_cmb.SetTitle(\"\");\n",
    "   h_cmb.GetXaxis()->SetTitle(x_label.c_str());\n",
    "   h_cmb.GetXaxis()->SetTitleSize(0.04);\n",
    "   h_cmb.GetYaxis()->SetTitle(\"N_{Events}\");\n",
    "   h_cmb.GetYaxis()->SetTitleSize(0.04);\n",
    "   h_cmb.SetLineColor(kRed);\n",
    "   h_cmb.SetLineWidth(2);\n",
    "   h_cmb.SetMaximum(18);\n",
    "\n",
    "   h_bkg.SetLineWidth(2);\n",
    "   h_bkg.SetFillStyle(1001);\n",
    "   h_bkg.SetLineColor(kBlack);\n",
    "   h_bkg.SetFillColor(kAzure - 9);\n",
    "\n",
    "   // Get histogram of data points\n",
    "   auto h_data = *data;\n",
    "   h_data.SetLineWidth(1);\n",
    "   h_data.SetMarkerStyle(20);\n",
    "   h_data.SetMarkerSize(1.0);\n",
    "   h_data.SetMarkerColor(kBlack);\n",
    "   h_data.SetLineColor(kBlack);\n",
    "\n",
    "   // Draw histograms\n",
    "   h_cmb.DrawClone(\"HIST\");\n",
    "   h_bkg.DrawClone(\"HIST SAME\");\n",
    "   h_data.DrawClone(\"PE1 SAME\");\n",
    "\n",
    "   // Add legend\n",
    "   TLegend legend(0.62, 0.70, 0.82, 0.88);\n",
    "   legend.SetFillColor(0);\n",
    "   legend.SetBorderSize(0);\n",
    "   legend.SetTextSize(0.03);\n",
    "   legend.AddEntry(&h_data, \"Data\", \"PE1\");\n",
    "   legend.AddEntry(&h_bkg, \"ZZ\", \"f\");\n",
    "   legend.AddEntry(&h_cmb, \"m_{H} = 125 GeV\", \"f\");\n",
    "   legend.Draw();\n",
    "\n",
    "   // Add header\n",
    "   TLatex cms_label;\n",
    "   cms_label.SetTextSize(0.04);\n",
    "   cms_label.DrawLatexNDC(0.16, 0.92, \"#bf{CMS Open Data}\");\n",
    "   TLatex header;\n",
    "   header.SetTextSize(0.03);\n",
    "   header.DrawLatexNDC(0.63, 0.92, \"#sqrt{s} = 8 TeV, L_{int} = 11.6 fb^{-1}\");\n",
    "\n",
    "   // Save plot\n",
    "   c->SaveAs(filename.c_str());\n",
    "}"
   ]
  },
  {
   "cell_type": "markdown",
   "metadata": {},
   "source": [
    "Enable multi-threading"
   ]
  },
  {
   "cell_type": "code",
   "execution_count": 16,
   "metadata": {
    "collapsed": false
   },
   "outputs": [],
   "source": [
    "ROOT::EnableImplicitMT();"
   ]
  },
  {
   "cell_type": "markdown",
   "metadata": {},
   "source": [
    "Create dataframes for signal, background and data samples"
   ]
  },
  {
   "cell_type": "markdown",
   "metadata": {},
   "source": [
    "Signal: higgs -> 4 leptons"
   ]
  },
  {
   "cell_type": "code",
   "execution_count": 17,
   "metadata": {
    "collapsed": false
   },
   "outputs": [],
   "source": [
    "ROOT::RDataFrame df_sig_4l(\"Events\",\n",
    "                           \"root://eospublic.cern.ch//eos/root-eos/cms_opendata_2012_nanoaod/SMHiggsToZZTo4L.root\");"
   ]
  },
  {
   "cell_type": "markdown",
   "metadata": {},
   "source": [
    "Background: zz -> 4 leptons\n",
    " Note that additional background processes from the original paper with minor contribution were left out for this\n",
    " tutorial."
   ]
  },
  {
   "cell_type": "code",
   "execution_count": 18,
   "metadata": {
    "collapsed": false
   },
   "outputs": [],
   "source": [
    "ROOT::RDataFrame df_bkg_4mu(\"Events\",\n",
    "                            \"root://eospublic.cern.ch//eos/root-eos/cms_opendata_2012_nanoaod/ZZTo4mu.root\");\n",
    "ROOT::RDataFrame df_bkg_4el(\"Events\",\n",
    "                            \"root://eospublic.cern.ch//eos/root-eos/cms_opendata_2012_nanoaod/ZZTo4e.root\");\n",
    "ROOT::RDataFrame df_bkg_2el2mu(\"Events\",\n",
    "                               \"root://eospublic.cern.ch//eos/root-eos/cms_opendata_2012_nanoaod/ZZTo2e2mu.root\");"
   ]
  },
  {
   "cell_type": "markdown",
   "metadata": {},
   "source": [
    "Cms data taken in 2012 (11.6 fb^-1 integrated luminosity)"
   ]
  },
  {
   "cell_type": "code",
   "execution_count": 19,
   "metadata": {
    "collapsed": false
   },
   "outputs": [],
   "source": [
    "ROOT::RDataFrame df_data_doublemu(\n",
    "   \"Events\", {\"root://eospublic.cern.ch//eos/root-eos/cms_opendata_2012_nanoaod/Run2012B_DoubleMuParked.root\",\n",
    "              \"root://eospublic.cern.ch//eos/root-eos/cms_opendata_2012_nanoaod/Run2012C_DoubleMuParked.root\"});\n",
    "ROOT::RDataFrame df_data_doubleel(\n",
    "   \"Events\", {\"root://eospublic.cern.ch//eos/root-eos/cms_opendata_2012_nanoaod/Run2012B_DoubleElectron.root\",\n",
    "              \"root://eospublic.cern.ch//eos/root-eos/cms_opendata_2012_nanoaod/Run2012C_DoubleElectron.root\"});"
   ]
  },
  {
   "cell_type": "markdown",
   "metadata": {},
   "source": [
    "Reconstruct higgs to 4 muons"
   ]
  },
  {
   "cell_type": "code",
   "execution_count": 20,
   "metadata": {
    "collapsed": false
   },
   "outputs": [
    {
     "name": "stderr",
     "output_type": "stream",
     "text": [
      "input_line_51:2:2: error: Syntax error\n",
      " auto df_sig_4mu_reco = reco_higgs_to_4mu(df_sig_4l);\n",
      " ^\n",
      "FunctionDecl 0x7f0b99cc7ae8 <input_line_51:1:1, line:24:1> line:1:6 __cling_Un1Qu310 'void (void *)'\n",
      "|-ParmVarDecl 0x7f0b99cc7a40 <col:23, col:29> col:29 vpClingValue 'void *'\n",
      "|-CompoundStmt 0x7f0b99ccadb8 <col:43, line:24:1>\n",
      "| |-DeclStmt 0x7f0b99cc7e10 <line:2:2, col:53>\n",
      "| | `-VarDecl 0x7f0b99cc7bb8 <col:2, col:52> col:7 used df_sig_4mu_reco 'auto' cinit\n",
      "| |   `-CallExpr 0x7f0b99cc7de0 <col:25, col:52> '<dependent type>'\n",
      "| |     |-DeclRefExpr 0x7f0b99cc7d70 <col:25> '<dependent type>' lvalue Var 0x7f0b99cc7ce0 'reco_higgs_to_4mu' '<dependent type>'\n",
      "| |     `-DeclRefExpr 0x7f0b99cc7db8 <col:43> 'ROOT::RDataFrame':'class ROOT::RDataFrame' lvalue Var 0x55e034182438 'df_sig_4l' 'ROOT::RDataFrame':'class ROOT::RDataFrame'\n",
      "| |-DeclStmt 0x7f0b99cc7f28 <line:3:1, col:32>\n",
      "| | `-VarDecl 0x7f0b99cc7e38 <col:1, col:25> col:12 used luminosity 'const double':'const double' cinit\n",
      "| |   `-FloatingLiteral 0x7f0b99cc7e98 <col:25> 'double' 1.158000e+04\n",
      "| |-DeclStmt 0x7f0b99cc8038 <line:4:1, col:41>\n",
      "| | `-VarDecl 0x7f0b99cc7f50 <col:1, col:35> col:12 used xsec_SMHiggsToZZTo4L 'const double':'const double' cinit\n",
      "| |   `-FloatingLiteral 0x7f0b99cc7fb0 <col:35> 'double' 6.500000e-03\n",
      "| |-DeclStmt 0x7f0b99cc8148 <line:5:1, col:43>\n",
      "| | `-VarDecl 0x7f0b99cc8060 <col:1, col:35> col:12 used nevt_SMHiggsToZZTo4L 'const double':'const double' cinit\n",
      "| |   `-FloatingLiteral 0x7f0b99cc80c0 <col:35> 'double' 2.999730e+05\n",
      "| |-DeclStmt 0x7f0b99cc82d8 <line:6:1, col:22>\n",
      "| | `-VarDecl 0x7f0b99cc8170 <col:1, col:20> col:12 used nbins 'const int':'const int' cinit\n",
      "| |   `-IntegerLiteral 0x7f0b99cc81d0 <col:20> 'int' 36\n",
      "| |-DeclStmt 0x7f0b99cc8f10 <line:7:1, line:9:70>\n",
      "| | `-VarDecl 0x7f0b99cc8300 <line:7:1, line:9:69> line:7:6 df_h_sig_4mu 'auto' cinit\n",
      "| |   `-CallExpr 0x7f0b99cc8eb0 <col:21, line:9:69> '<dependent type>'\n",
      "| |     |-CXXDependentScopeMemberExpr 0x7f0b99cc8cc8 <line:7:21, line:9:8> '<dependent type>' lvalue .Histo1D\n",
      "| |     | `-CallExpr 0x7f0b99cc8c88 <line:7:21, line:8:103> '<dependent type>'\n",
      "| |     |   |-CXXDependentScopeMemberExpr 0x7f0b99cc83a8 <line:7:21, line:8:8> '<dependent type>' lvalue .Define\n",
      "| |     |   | `-DeclRefExpr 0x7f0b99cc8360 <line:7:21> 'auto' lvalue Var 0x7f0b99cc7bb8 'df_sig_4mu_reco' 'auto'\n",
      "| |     |   |-StringLiteral 0x7f0b99cc8400 <line:8:15> 'const char [7]' lvalue \"weight\"\n",
      "| |     |   |-LambdaExpr 0x7f0b99cc8ad8 <col:25, col:98> 'class (lambda at input_line_51:8:25)'\n",
      "| |     |   | |-CXXRecordDecl 0x7f0b99cc8450 <col:25> col:25 implicit class definition\n",
      "| |     |   | | |-FieldDecl 0x7f0b99cc86c0 <col:40> col:40 implicit 'const double &'\n",
      "| |     |   | | |-FieldDecl 0x7f0b99cc8760 <col:53> col:53 implicit 'const double &'\n",
      "| |     |   | | |-FieldDecl 0x7f0b99cc8908 <col:76> col:76 implicit 'const double &'\n",
      "| |     |   | | |-CXXMethodDecl 0x7f0b99cc85b0 <col:29, col:98> col:25 operator() 'double (void) const' inline\n",
      "| |     |   | | | `-CompoundStmt 0x7f0b99cc8a20 <col:31, col:98>\n",
      "| |     |   | | |   `-ReturnStmt 0x7f0b99cc8a08 <col:33, col:76>\n",
      "| |     |   | | |     `-BinaryOperator 0x7f0b99cc89e0 <col:40, col:76> 'double' '/'\n",
      "| |     |   | | |       |-BinaryOperator 0x7f0b99cc88a8 <col:40, col:53> 'double' '*'\n",
      "| |     |   | | |       | |-ImplicitCastExpr 0x7f0b99cc8820 <col:40> 'double':'double' <LValueToRValue>\n",
      "| |     |   | | |       | | `-DeclRefExpr 0x7f0b99cc8688 <col:40> 'const double':'const double' lvalue Var 0x7f0b99cc7e38 'luminosity' 'const double':'const double'\n",
      "| |     |   | | |       | `-ImplicitCastExpr 0x7f0b99cc8890 <col:53> 'double':'double' <LValueToRValue>\n",
      "| |     |   | | |       |   `-DeclRefExpr 0x7f0b99cc8728 <col:53> 'const double':'const double' lvalue Var 0x7f0b99cc7f50 'xsec_SMHiggsToZZTo4L' 'const double':'const double'\n",
      "| |     |   | | |       `-ImplicitCastExpr 0x7f0b99cc89c8 <col:76> 'double':'double' <LValueToRValue>\n",
      "| |     |   | | |         `-DeclRefExpr 0x7f0b99cc88d0 <col:76> 'const double':'const double' lvalue Var 0x7f0b99cc8060 'nevt_SMHiggsToZZTo4L' 'const double':'const double'\n",
      "| |     |   | | `-CXXDestructorDecl 0x7f0b99cc8b50 <col:25> col:25 implicit referenced ~ 'void (void) noexcept' inline default trivial\n",
      "| |     |   | |-DeclRefExpr 0x7f0b99cc8a40 <col:40> 'const double':'const double' lvalue Var 0x7f0b99cc7e38 'luminosity' 'const double':'const double'\n",
      "| |     |   | |-DeclRefExpr 0x7f0b99cc8a68 <col:53> 'const double':'const double' lvalue Var 0x7f0b99cc7f50 'xsec_SMHiggsToZZTo4L' 'const double':'const double'\n",
      "| |     |   | |-DeclRefExpr 0x7f0b99cc8a90 <col:76> 'const double':'const double' lvalue Var 0x7f0b99cc8060 'nevt_SMHiggsToZZTo4L' 'const double':'const double'\n",
      "| |     |   | `-CompoundStmt 0x7f0b99cc8a20 <col:31, col:98>\n",
      "| |     |   |   `-ReturnStmt 0x7f0b99cc8a08 <col:33, col:76>\n",
      "| |     |   |     `-BinaryOperator 0x7f0b99cc89e0 <col:40, col:76> 'double' '/'\n",
      "| |     |   |       |-BinaryOperator 0x7f0b99cc88a8 <col:40, col:53> 'double' '*'\n",
      "| |     |   |       | |-ImplicitCastExpr 0x7f0b99cc8820 <col:40> 'double':'double' <LValueToRValue>\n",
      "| |     |   |       | | `-DeclRefExpr 0x7f0b99cc8688 <col:40> 'const double':'const double' lvalue Var 0x7f0b99cc7e38 'luminosity' 'const double':'const double'\n",
      "| |     |   |       | `-ImplicitCastExpr 0x7f0b99cc8890 <col:53> 'double':'double' <LValueToRValue>\n",
      "| |     |   |       |   `-DeclRefExpr 0x7f0b99cc8728 <col:53> 'const double':'const double' lvalue Var 0x7f0b99cc7f50 'xsec_SMHiggsToZZTo4L' 'const double':'const double'\n",
      "| |     |   |       `-ImplicitCastExpr 0x7f0b99cc89c8 <col:76> 'double':'double' <LValueToRValue>\n",
      "| |     |   |         `-DeclRefExpr 0x7f0b99cc88d0 <col:76> 'const double':'const double' lvalue Var 0x7f0b99cc8060 'nevt_SMHiggsToZZTo4L' 'const double':'const double'\n",
      "| |     |   `-InitListExpr 0x7f0b99cc8c48 <col:101, col:102> 'void'\n",
      "| |     |-InitListExpr 0x7f0b99cc8de8 <line:9:16, col:48> 'void'\n",
      "| |     | |-StringLiteral 0x7f0b99cc8d20 <col:17> 'const char [10]' lvalue \"h_sig_4mu\"\n",
      "| |     | |-StringLiteral 0x7f0b99cc8d58 <col:30> 'const char [1]' lvalue \"\"\n",
      "| |     | |-DeclRefExpr 0x7f0b99cc8d80 <col:34> 'const int':'const int' lvalue Var 0x7f0b99cc8170 'nbins' 'const int':'const int'\n",
      "| |     | |-IntegerLiteral 0x7f0b99cc8da8 <col:41> 'int' 70\n",
      "| |     | `-IntegerLiteral 0x7f0b99cc8dc8 <col:45> 'int' 180\n",
      "| |     |-StringLiteral 0x7f0b99cc8e50 <col:51> 'const char [7]' lvalue \"H_mass\"\n",
      "| |     `-StringLiteral 0x7f0b99cc8e80 <col:61> 'const char [7]' lvalue \"weight\"\n",
      "| |-DeclStmt 0x7f0b99cc9028 <line:11:1, col:32>\n",
      "| | `-VarDecl 0x7f0b99cc8f38 <col:1, col:27> col:12 used scale_ZZTo4l 'const double':'const double' cinit\n",
      "| |   `-FloatingLiteral 0x7f0b99cc8f98 <col:27> 'double' 1.386000e+00\n",
      "| |-DeclStmt 0x7f0b99cc9138 <line:12:1, col:32>\n",
      "| | `-VarDecl 0x7f0b99cc9050 <col:1, col:27> col:12 used xsec_ZZTo4mu 'const double':'const double' cinit\n",
      "| |   `-FloatingLiteral 0x7f0b99cc90b0 <col:27> 'double' 7.700000e-02\n",
      "| |-DeclStmt 0x7f0b99cc9248 <line:13:1, col:36>\n",
      "| | `-VarDecl 0x7f0b99cc9160 <col:1, col:27> col:12 used nevt_ZZTo4mu 'const double':'const double' cinit\n",
      "| |   `-FloatingLiteral 0x7f0b99cc91c0 <col:27> 'double' 1.499064e+06\n",
      "| |-DeclStmt 0x7f0b99cc9490 <line:14:1, col:53>\n",
      "| | `-VarDecl 0x7f0b99cc9270 <col:1, col:52> col:6 used df_bkg_4mu_reco 'auto' cinit\n",
      "| |   `-CallExpr 0x7f0b99cc9460 <col:24, col:52> '<dependent type>'\n",
      "| |     |-DeclRefExpr 0x7f0b99cc93f0 <col:24> '<dependent type>' lvalue Var 0x7f0b99cc9360 'reco_higgs_to_4mu' '<dependent type>'\n",
      "| |     `-DeclRefExpr 0x7f0b99cc9438 <col:42> 'ROOT::RDataFrame':'class ROOT::RDataFrame' lvalue Var 0x7f0b99cc2088 'df_bkg_4mu' 'ROOT::RDataFrame':'class ROOT::RDataFrame'\n",
      "| |-DeclStmt 0x7f0b99cca180 <line:15:1, line:17:70>\n",
      "| | `-VarDecl 0x7f0b99cc94b8 <line:15:1, line:17:69> line:15:6 df_h_bkg_4mu 'auto' cinit\n",
      "| |   `-CallExpr 0x7f0b99cca140 <col:21, line:17:69> '<dependent type>'\n",
      "| |     |-CXXDependentScopeMemberExpr 0x7f0b99cc9f58 <line:15:21, line:17:8> '<dependent type>' lvalue .Histo1D\n",
      "| |     | `-CallExpr 0x7f0b99cc9f18 <line:15:21, line:16:102> '<dependent type>'\n",
      "| |     |   |-CXXDependentScopeMemberExpr 0x7f0b99cc9560 <line:15:21, line:16:8> '<dependent type>' lvalue .Define\n",
      "| |     |   | `-DeclRefExpr 0x7f0b99cc9518 <line:15:21> 'auto' lvalue Var 0x7f0b99cc9270 'df_bkg_4mu_reco' 'auto'\n",
      "| |     |   |-StringLiteral 0x7f0b99cc95b8 <line:16:15> 'const char [7]' lvalue \"weight\"\n",
      "| |     |   |-LambdaExpr 0x7f0b99cc9d50 <col:25, col:97> 'class (lambda at input_line_51:16:25)'\n",
      "| |     |   | |-CXXRecordDecl 0x7f0b99cc9608 <col:25> col:25 implicit class definition\n",
      "| |     |   | | |-FieldDecl 0x7f0b99cc9850 <col:40> col:40 implicit 'const double &'\n",
      "| |     |   | | |-FieldDecl 0x7f0b99cc98d0 <col:53> col:53 implicit 'const double &'\n",
      "| |     |   | | |-FieldDecl 0x7f0b99cc9a20 <col:68> col:68 implicit 'const double &'\n",
      "| |     |   | | |-FieldDecl 0x7f0b99cc9b58 <col:83> col:83 implicit 'const double &'\n",
      "| |     |   | | |-CXXMethodDecl 0x7f0b99cc9770 <col:29, col:97> col:25 operator() 'double (void) const' inline\n",
      "| |     |   | | | `-CompoundStmt 0x7f0b99cc9c70 <col:31, col:97>\n",
      "| |     |   | | |   `-ReturnStmt 0x7f0b99cc9c58 <col:33, col:83>\n",
      "| |     |   | | |     `-BinaryOperator 0x7f0b99cc9c30 <col:40, col:83> 'double' '/'\n",
      "| |     |   | | |       |-BinaryOperator 0x7f0b99cc9af8 <col:40, col:68> 'double' '*'\n",
      "| |     |   | | |       | |-BinaryOperator 0x7f0b99cc99c0 <col:40, col:53> 'double' '*'\n",
      "| |     |   | | |       | | |-ImplicitCastExpr 0x7f0b99cc9938 <col:40> 'double':'double' <LValueToRValue>\n",
      "| |     |   | | |       | | | `-DeclRefExpr 0x7f0b99cc9818 <col:40> 'const double':'const double' lvalue Var 0x7f0b99cc7e38 'luminosity' 'const double':'const double'\n",
      "| |     |   | | |       | | `-ImplicitCastExpr 0x7f0b99cc99a8 <col:53> 'double':'double' <LValueToRValue>\n",
      "| |     |   | | |       | |   `-DeclRefExpr 0x7f0b99cc9898 <col:53> 'const double':'const double' lvalue Var 0x7f0b99cc9050 'xsec_ZZTo4mu' 'const double':'const double'\n",
      "| |     |   | | |       | `-ImplicitCastExpr 0x7f0b99cc9ae0 <col:68> 'double':'double' <LValueToRValue>\n",
      "| |     |   | | |       |   `-DeclRefExpr 0x7f0b99cc99e8 <col:68> 'const double':'const double' lvalue Var 0x7f0b99cc8f38 'scale_ZZTo4l' 'const double':'const double'\n",
      "| |     |   | | |       `-ImplicitCastExpr 0x7f0b99cc9c18 <col:83> 'double':'double' <LValueToRValue>\n",
      "| |     |   | | |         `-DeclRefExpr 0x7f0b99cc9b20 <col:83> 'const double':'const double' lvalue Var 0x7f0b99cc9160 'nevt_ZZTo4mu' 'const double':'const double'\n",
      "| |     |   | | `-CXXDestructorDecl 0x7f0b99cc9de0 <col:25> col:25 implicit referenced ~ 'void (void) noexcept' inline default trivial\n",
      "| |     |   | |-DeclRefExpr 0x7f0b99cc9c90 <col:40> 'const double':'const double' lvalue Var 0x7f0b99cc7e38 'luminosity' 'const double':'const double'\n",
      "| |     |   | |-DeclRefExpr 0x7f0b99cc9cb8 <col:53> 'const double':'const double' lvalue Var 0x7f0b99cc9050 'xsec_ZZTo4mu' 'const double':'const double'\n",
      "| |     |   | |-DeclRefExpr 0x7f0b99cc9ce0 <col:68> 'const double':'const double' lvalue Var 0x7f0b99cc8f38 'scale_ZZTo4l' 'const double':'const double'\n",
      "| |     |   | |-DeclRefExpr 0x7f0b99cc9d08 <col:83> 'const double':'const double' lvalue Var 0x7f0b99cc9160 'nevt_ZZTo4mu' 'const double':'const double'\n",
      "| |     |   | `-CompoundStmt 0x7f0b99cc9c70 <col:31, col:97>\n",
      "| |     |   |   `-ReturnStmt 0x7f0b99cc9c58 <col:33, col:83>\n",
      "| |     |   |     `-BinaryOperator 0x7f0b99cc9c30 <col:40, col:83> 'double' '/'\n",
      "| |     |   |       |-BinaryOperator 0x7f0b99cc9af8 <col:40, col:68> 'double' '*'\n",
      "| |     |   |       | |-BinaryOperator 0x7f0b99cc99c0 <col:40, col:53> 'double' '*'\n",
      "| |     |   |       | | |-ImplicitCastExpr 0x7f0b99cc9938 <col:40> 'double':'double' <LValueToRValue>\n",
      "| |     |   |       | | | `-DeclRefExpr 0x7f0b99cc9818 <col:40> 'const double':'const double' lvalue Var 0x7f0b99cc7e38 'luminosity' 'const double':'const double'\n",
      "| |     |   |       | | `-ImplicitCastExpr 0x7f0b99cc99a8 <col:53> 'double':'double' <LValueToRValue>\n",
      "| |     |   |       | |   `-DeclRefExpr 0x7f0b99cc9898 <col:53> 'const double':'const double' lvalue Var 0x7f0b99cc9050 'xsec_ZZTo4mu' 'const double':'const double'\n",
      "| |     |   |       | `-ImplicitCastExpr 0x7f0b99cc9ae0 <col:68> 'double':'double' <LValueToRValue>\n",
      "| |     |   |       |   `-DeclRefExpr 0x7f0b99cc99e8 <col:68> 'const double':'const double' lvalue Var 0x7f0b99cc8f38 'scale_ZZTo4l' 'const double':'const double'\n",
      "| |     |   |       `-ImplicitCastExpr 0x7f0b99cc9c18 <col:83> 'double':'double' <LValueToRValue>\n",
      "| |     |   |         `-DeclRefExpr 0x7f0b99cc9b20 <col:83> 'const double':'const double' lvalue Var 0x7f0b99cc9160 'nevt_ZZTo4mu' 'const double':'const double'\n",
      "| |     |   `-InitListExpr 0x7f0b99cc9ed8 <col:100, col:101> 'void'\n",
      "| |     |-InitListExpr 0x7f0b99cca078 <line:17:16, col:48> 'void'\n",
      "| |     | |-StringLiteral 0x7f0b99cc9fb0 <col:17> 'const char [10]' lvalue \"h_bkg_4mu\"\n",
      "| |     | |-StringLiteral 0x7f0b99cc9fe8 <col:30> 'const char [1]' lvalue \"\"\n",
      "| |     | |-DeclRefExpr 0x7f0b99cca010 <col:34> 'const int':'const int' lvalue Var 0x7f0b99cc8170 'nbins' 'const int':'const int'\n",
      "| |     | |-IntegerLiteral 0x7f0b99cca038 <col:41> 'int' 70\n",
      "| |     | `-IntegerLiteral 0x7f0b99cca058 <col:45> 'int' 180\n",
      "| |     |-StringLiteral 0x7f0b99cca0e0 <col:51> 'const char [7]' lvalue \"H_mass\"\n",
      "| |     `-StringLiteral 0x7f0b99cca110 <col:61> 'const char [7]' lvalue \"weight\"\n",
      "| |-DeclStmt 0x7f0b99cca3c8 <line:19:1, col:60>\n",
      "| | `-VarDecl 0x7f0b99cca1a8 <col:1, col:59> col:6 used df_data_4mu_reco 'auto' cinit\n",
      "| |   `-CallExpr 0x7f0b99cca398 <col:25, col:59> '<dependent type>'\n",
      "| |     |-DeclRefExpr 0x7f0b99cca328 <col:25> '<dependent type>' lvalue Var 0x7f0b99cca298 'reco_higgs_to_4mu' '<dependent type>'\n",
      "| |     `-DeclRefExpr 0x7f0b99cca370 <col:43> 'ROOT::RDataFrame':'class ROOT::RDataFrame' lvalue Var 0x7f0b99cc4ce8 'df_data_doublemu' 'ROOT::RDataFrame':'class ROOT::RDataFrame'\n",
      "| |-DeclStmt 0x7f0b99ccad90 <line:20:1, line:22:71>\n",
      "| | `-VarDecl 0x7f0b99cca3f0 <line:20:1, line:22:70> line:20:6 df_h_data_4mu 'auto' cinit\n",
      "| |   `-CallExpr 0x7f0b99ccad50 <col:22, line:22:70> '<dependent type>'\n",
      "| |     |-CXXDependentScopeMemberExpr 0x7f0b99ccab68 <line:20:22, line:22:8> '<dependent type>' lvalue .Histo1D\n",
      "| |     | `-CallExpr 0x7f0b99ccab28 <line:20:22, line:21:49> '<dependent type>'\n",
      "| |     |   |-CXXDependentScopeMemberExpr 0x7f0b99cca498 <line:20:22, line:21:8> '<dependent type>' lvalue .Define\n",
      "| |     |   | `-DeclRefExpr 0x7f0b99cca450 <line:20:22> 'auto' lvalue Var 0x7f0b99cca1a8 'df_data_4mu_reco' 'auto'\n",
      "| |     |   |-StringLiteral 0x7f0b99cca4f0 <line:21:15> 'const char [7]' lvalue \"weight\"\n",
      "| |     |   |-LambdaExpr 0x7f0b99cca9b8 <col:25, col:44> 'class (lambda at input_line_51:21:25)'\n",
      "| |     |   | |-CXXRecordDecl 0x7f0b99cca540 <col:25> col:25 implicit class definition\n",
      "| |     |   | | |-CXXMethodDecl 0x7f0b99cca6a0 <col:28, col:44> col:25 operator() 'double (void) const' inline\n",
      "| |     |   | | | `-CompoundStmt 0x7f0b99cca780 <col:30, col:44>\n",
      "| |     |   | | |   `-ReturnStmt 0x7f0b99cca768 <col:32, col:39>\n",
      "| |     |   | | |     `-FloatingLiteral 0x7f0b99cca748 <col:39> 'double' 1.000000e+00\n",
      "| |     |   | | |-CXXConversionDecl 0x7f0b99cca860 <col:25, col:44> col:25 implicit operator double (*)() 'double (*(void) const)(void)' inline\n",
      "| |     |   | | |-CXXMethodDecl 0x7f0b99cca900 <col:25, col:44> col:25 implicit __invoke 'double (void)' static inline\n",
      "| |     |   | | `-CXXDestructorDecl 0x7f0b99cca9e8 <col:25> col:25 implicit referenced ~ 'void (void) noexcept' inline default trivial\n",
      "| |     |   | `-CompoundStmt 0x7f0b99cca780 <col:30, col:44>\n",
      "| |     |   |   `-ReturnStmt 0x7f0b99cca768 <col:32, col:39>\n",
      "| |     |   |     `-FloatingLiteral 0x7f0b99cca748 <col:39> 'double' 1.000000e+00\n",
      "| |     |   `-InitListExpr 0x7f0b99ccaae8 <col:47, col:48> 'void'\n",
      "| |     |-InitListExpr 0x7f0b99ccac88 <line:22:16, col:49> 'void'\n",
      "| |     | |-StringLiteral 0x7f0b99ccabc0 <col:17> 'const char [11]' lvalue \"h_data_4mu\"\n",
      "| |     | |-StringLiteral 0x7f0b99ccabf8 <col:31> 'const char [1]' lvalue \"\"\n",
      "| |     | |-DeclRefExpr 0x7f0b99ccac20 <col:35> 'const int':'const int' lvalue Var 0x7f0b99cc8170 'nbins' 'const int':'const int'\n",
      "| |     | |-IntegerLiteral 0x7f0b99ccac48 <col:42> 'int' 70\n",
      "| |     | `-IntegerLiteral 0x7f0b99ccac68 <col:46> 'int' 180\n",
      "| |     |-StringLiteral 0x7f0b99ccacf0 <col:52> 'const char [7]' lvalue \"H_mass\"\n",
      "| |     `-StringLiteral 0x7f0b99ccad20 <col:62> 'const char [7]' lvalue \"weight\"\n",
      "| `-NullStmt 0x7f0b99ccada8 <line:23:1>\n",
      "|-AnnotateAttr 0x7f0b99cc7c78 <<invalid sloc>> R\"ATTRDUMP(__ResolveAtRuntime)ATTRDUMP\"\n",
      "|-AnnotateAttr 0x7f0b99cc7d40 <<invalid sloc>> R\"ATTRDUMP(__ResolveAtRuntime)ATTRDUMP\"\n",
      "|-AnnotateAttr 0x7f0b99cc9330 <<invalid sloc>> R\"ATTRDUMP(__ResolveAtRuntime)ATTRDUMP\"\n",
      "|-AnnotateAttr 0x7f0b99cc93c0 <<invalid sloc>> R\"ATTRDUMP(__ResolveAtRuntime)ATTRDUMP\"\n",
      "|-AnnotateAttr 0x7f0b99cca268 <<invalid sloc>> R\"ATTRDUMP(__ResolveAtRuntime)ATTRDUMP\"\n",
      "`-AnnotateAttr 0x7f0b99cca2f8 <<invalid sloc>> R\"ATTRDUMP(__ResolveAtRuntime)ATTRDUMP\"\n",
      "<<<NULL>>>\n"
     ]
    }
   ],
   "source": [
    "auto df_sig_4mu_reco = reco_higgs_to_4mu(df_sig_4l);\n",
    "const auto luminosity = 11580.0;            // Integrated luminosity of the data samples\n",
    "const auto xsec_SMHiggsToZZTo4L = 0.0065;   // H->4l: Standard Model cross-section\n",
    "const auto nevt_SMHiggsToZZTo4L = 299973.0; // H->4l: Number of simulated events\n",
    "const auto nbins = 36;                      // Number of bins for the invariant mass spectrum\n",
    "auto df_h_sig_4mu = df_sig_4mu_reco\n",
    "      .Define(\"weight\", [&]() { return luminosity * xsec_SMHiggsToZZTo4L / nevt_SMHiggsToZZTo4L; }, {})\n",
    "      .Histo1D({\"h_sig_4mu\", \"\", nbins, 70, 180}, \"H_mass\", \"weight\");\n",
    "\n",
    "const auto scale_ZZTo4l = 1.386;     // ZZ->4mu: Scale factor for ZZ to four leptons\n",
    "const auto xsec_ZZTo4mu = 0.077;     // ZZ->4mu: Standard Model cross-section\n",
    "const auto nevt_ZZTo4mu = 1499064.0; // ZZ->4mu: Number of simulated events\n",
    "auto df_bkg_4mu_reco = reco_higgs_to_4mu(df_bkg_4mu);\n",
    "auto df_h_bkg_4mu = df_bkg_4mu_reco\n",
    "      .Define(\"weight\", [&]() { return luminosity * xsec_ZZTo4mu * scale_ZZTo4l / nevt_ZZTo4mu; }, {})\n",
    "      .Histo1D({\"h_bkg_4mu\", \"\", nbins, 70, 180}, \"H_mass\", \"weight\");\n",
    "\n",
    "auto df_data_4mu_reco = reco_higgs_to_4mu(df_data_doublemu);\n",
    "auto df_h_data_4mu = df_data_4mu_reco\n",
    "      .Define(\"weight\", []() { return 1.0; }, {})\n",
    "      .Histo1D({\"h_data_4mu\", \"\", nbins, 70, 180}, \"H_mass\", \"weight\");"
   ]
  },
  {
   "cell_type": "markdown",
   "metadata": {},
   "source": [
    "Reconstruct higgs to 4 electrons"
   ]
  },
  {
   "cell_type": "code",
   "execution_count": 21,
   "metadata": {
    "collapsed": false
   },
   "outputs": [
    {
     "name": "stderr",
     "output_type": "stream",
     "text": [
      "input_line_52:4:40: error: use of undeclared identifier 'luminosity'\n",
      "      .Define(\"weight\", [&]() { return luminosity * xsec_SMHiggsToZZTo4L / nevt_SMHiggsToZZTo4L; }, {})\n",
      "                                       ^\n",
      "input_line_52:4:53: error: use of undeclared identifier 'xsec_SMHiggsToZZTo4L'\n",
      "      .Define(\"weight\", [&]() { return luminosity * xsec_SMHiggsToZZTo4L / nevt_SMHiggsToZZTo4L; }, {})\n",
      "                                                    ^\n",
      "input_line_52:4:76: error: use of undeclared identifier 'nevt_SMHiggsToZZTo4L'\n",
      "      .Define(\"weight\", [&]() { return luminosity * xsec_SMHiggsToZZTo4L / nevt_SMHiggsToZZTo4L; }, {})\n",
      "                                                                           ^\n",
      "input_line_52:5:34: error: use of undeclared identifier 'nbins'\n",
      "      .Histo1D({\"h_sig_4el\", \"\", nbins, 70, 180}, \"H_mass\", \"weight\");\n",
      "                                 ^\n",
      "input_line_52:7:27: error: use of undeclared identifier 'xsec_ZZTo4mu'\n",
      "const auto xsec_ZZTo4el = xsec_ZZTo4mu; // ZZ->4el: Standard Model cross-section\n",
      "                          ^\n",
      "input_line_52:9:24: error: use of undeclared identifier 'reco_higgs_to_4el'\n",
      "auto df_bkg_4el_reco = reco_higgs_to_4el(df_bkg_4el);\n",
      "                       ^\n",
      "input_line_52:11:40: error: use of undeclared identifier 'luminosity'\n",
      "      .Define(\"weight\", [&]() { return luminosity * xsec_ZZTo4el * scale_ZZTo4l / nevt_ZZTo4el; }, {})\n",
      "                                       ^\n",
      "input_line_52:11:68: error: use of undeclared identifier 'scale_ZZTo4l'\n",
      "      .Define(\"weight\", [&]() { return luminosity * xsec_ZZTo4el * scale_ZZTo4l / nevt_ZZTo4el; }, {})\n",
      "                                                                   ^\n",
      "input_line_52:12:34: error: use of undeclared identifier 'nbins'\n",
      "      .Histo1D({\"h_bkg_4el\", \"\", nbins, 70, 180}, \"H_mass\", \"weight\");\n",
      "                                 ^\n",
      "input_line_52:14:25: error: use of undeclared identifier 'reco_higgs_to_4el'\n",
      "auto df_data_4el_reco = reco_higgs_to_4el(df_data_doubleel);\n",
      "                        ^\n",
      "input_line_52:16:53: error: use of undeclared identifier 'nbins'\n",
      "                        .Histo1D({\"h_data_4el\", \"\", nbins, 70, 180}, \"H_mass\", \"weight\");\n",
      "                                                    ^\n",
      "input_line_52:2:2: error: Syntax error\n",
      " auto df_sig_4el_reco = reco_higgs_to_4el(df_sig_4l);\n",
      " ^\n",
      "FunctionDecl 0x7f0b9a085bd0 <input_line_52:1:1, line:18:1> line:1:6 __cling_Un1Qu311 'void (void *)'\n",
      "|-ParmVarDecl 0x7f0b9a085b28 <col:23, col:29> col:29 vpClingValue 'void *'\n",
      "|-CompoundStmt 0x7f0b9a087740 <col:43, line:18:1>\n",
      "| |-DeclStmt 0x7f0b9a085ef8 <line:2:2, col:53>\n",
      "| | `-VarDecl 0x7f0b9a085ca0 <col:2, col:52> col:7 used df_sig_4el_reco 'auto' cinit\n",
      "| |   `-CallExpr 0x7f0b9a085ec8 <col:25, col:52> '<dependent type>'\n",
      "| |     |-DeclRefExpr 0x7f0b9a085e58 <col:25> '<dependent type>' lvalue Var 0x7f0b9a085dc8 'reco_higgs_to_4el' '<dependent type>'\n",
      "| |     `-DeclRefExpr 0x7f0b9a085ea0 <col:43> 'ROOT::RDataFrame':'class ROOT::RDataFrame' lvalue Var 0x55e034182438 'df_sig_4l' 'ROOT::RDataFrame':'class ROOT::RDataFrame'\n",
      "| |-DeclStmt 0x7f0b9a0865b0 <line:3:1, line:5:70>\n",
      "| | `-VarDecl 0x7f0b9a085f20 <line:3:1, col:6> col:6 invalid df_h_sig_4el 'auto'\n",
      "| |-DeclStmt 0x7f0b9a086638 <line:7:1, col:39>\n",
      "| | `-VarDecl 0x7f0b9a0865d8 <col:1, col:12> col:12 invalid xsec_ZZTo4el 'const auto'\n",
      "| |-DeclStmt 0x7f0b9a086748 <line:8:1, col:36>\n",
      "| | `-VarDecl 0x7f0b9a086660 <col:1, col:27> col:12 used nevt_ZZTo4el 'const double':'const double' cinit\n",
      "| |   `-FloatingLiteral 0x7f0b9a0866c0 <col:27> 'double' 1.499093e+06\n",
      "| |-DeclStmt 0x7f0b9a086848 <line:9:1, col:53>\n",
      "| | `-VarDecl 0x7f0b9a086770 <col:1, col:6> col:6 invalid df_bkg_4el_reco 'auto'\n",
      "| |-DeclStmt 0x7f0b9a086ea8 <line:10:1, line:12:70>\n",
      "| | `-VarDecl 0x7f0b9a086870 <line:10:1, col:6> col:6 invalid df_h_bkg_4el 'auto'\n",
      "| |-DeclStmt 0x7f0b9a086fa8 <line:14:1, col:60>\n",
      "| | `-VarDecl 0x7f0b9a086ed0 <col:1, col:6> col:6 invalid df_data_4el_reco 'auto'\n",
      "| |-DeclStmt 0x7f0b9a087718 <line:15:1, line:16:89>\n",
      "| | `-VarDecl 0x7f0b9a086fd0 <line:15:1, col:6> col:6 invalid df_h_data_4el 'auto'\n",
      "| `-NullStmt 0x7f0b9a087730 <line:17:1>\n",
      "|-AnnotateAttr 0x7f0b9a085d60 <<invalid sloc>> R\"ATTRDUMP(__ResolveAtRuntime)ATTRDUMP\"\n",
      "`-AnnotateAttr 0x7f0b9a085e28 <<invalid sloc>> R\"ATTRDUMP(__ResolveAtRuntime)ATTRDUMP\"\n",
      "<<<NULL>>>\n"
     ]
    }
   ],
   "source": [
    "auto df_sig_4el_reco = reco_higgs_to_4el(df_sig_4l);\n",
    "auto df_h_sig_4el = df_sig_4el_reco\n",
    "      .Define(\"weight\", [&]() { return luminosity * xsec_SMHiggsToZZTo4L / nevt_SMHiggsToZZTo4L; }, {})\n",
    "      .Histo1D({\"h_sig_4el\", \"\", nbins, 70, 180}, \"H_mass\", \"weight\");\n",
    "\n",
    "const auto xsec_ZZTo4el = xsec_ZZTo4mu; // ZZ->4el: Standard Model cross-section\n",
    "const auto nevt_ZZTo4el = 1499093.0;    // ZZ->4el: Number of simulated events\n",
    "auto df_bkg_4el_reco = reco_higgs_to_4el(df_bkg_4el);\n",
    "auto df_h_bkg_4el = df_bkg_4el_reco\n",
    "      .Define(\"weight\", [&]() { return luminosity * xsec_ZZTo4el * scale_ZZTo4l / nevt_ZZTo4el; }, {})\n",
    "      .Histo1D({\"h_bkg_4el\", \"\", nbins, 70, 180}, \"H_mass\", \"weight\");\n",
    "\n",
    "auto df_data_4el_reco = reco_higgs_to_4el(df_data_doubleel);\n",
    "auto df_h_data_4el = df_data_4el_reco.Define(\"weight\", []() { return 1.0; }, {})\n",
    "                        .Histo1D({\"h_data_4el\", \"\", nbins, 70, 180}, \"H_mass\", \"weight\");"
   ]
  },
  {
   "cell_type": "markdown",
   "metadata": {},
   "source": [
    "Reconstruct higgs to 2 electrons and 2 muons"
   ]
  },
  {
   "cell_type": "code",
   "execution_count": 22,
   "metadata": {
    "collapsed": false
   },
   "outputs": [
    {
     "name": "stderr",
     "output_type": "stream",
     "text": [
      "input_line_53:4:40: error: use of undeclared identifier 'luminosity'\n",
      "      .Define(\"weight\", [&]() { return luminosity * xsec_SMHiggsToZZTo4L / nevt_SMHiggsToZZTo4L; }, {})\n",
      "                                       ^\n",
      "input_line_53:4:53: error: use of undeclared identifier 'xsec_SMHiggsToZZTo4L'\n",
      "      .Define(\"weight\", [&]() { return luminosity * xsec_SMHiggsToZZTo4L / nevt_SMHiggsToZZTo4L; }, {})\n",
      "                                                    ^\n",
      "input_line_53:4:76: error: use of undeclared identifier 'nevt_SMHiggsToZZTo4L'\n",
      "      .Define(\"weight\", [&]() { return luminosity * xsec_SMHiggsToZZTo4L / nevt_SMHiggsToZZTo4L; }, {})\n",
      "                                                                           ^\n",
      "input_line_53:5:37: error: use of undeclared identifier 'nbins'\n",
      "      .Histo1D({\"h_sig_2el2mu\", \"\", nbins, 70, 180}, \"H_mass\", \"weight\");\n",
      "                                    ^\n",
      "input_line_53:9:27: error: use of undeclared identifier 'reco_higgs_to_2el2mu'\n",
      "auto df_bkg_2el2mu_reco = reco_higgs_to_2el2mu(df_bkg_2el2mu);\n",
      "                          ^\n",
      "input_line_53:11:40: error: use of undeclared identifier 'luminosity'\n",
      "      .Define(\"weight\", [&]() { return luminosity * xsec_ZZTo2el2mu * scale_ZZTo4l / nevt_ZZTo2el2mu; }, {})\n",
      "                                       ^\n",
      "input_line_53:11:71: error: use of undeclared identifier 'scale_ZZTo4l'\n",
      "      .Define(\"weight\", [&]() { return luminosity * xsec_ZZTo2el2mu * scale_ZZTo4l / nevt_ZZTo2el2mu; }, {})\n",
      "                                                                      ^\n",
      "input_line_53:12:37: error: use of undeclared identifier 'nbins'\n",
      "      .Histo1D({\"h_bkg_2el2mu\", \"\", nbins, 70, 180}, \"H_mass\", \"weight\");\n",
      "                                    ^\n",
      "input_line_53:14:28: error: use of undeclared identifier 'reco_higgs_to_2el2mu'\n",
      "auto df_data_2el2mu_reco = reco_higgs_to_2el2mu(df_data_doublemu);\n",
      "                           ^\n",
      "input_line_53:16:68: error: use of undeclared identifier 'nbins'\n",
      "                           .Histo1D({\"h_data_2el2mu_doublemu\", \"\", nbins, 70, 180}, \"H_mass\", \"weight\");\n",
      "                                                                   ^\n",
      "input_line_53:2:2: error: Syntax error\n",
      " auto df_sig_2el2mu_reco = reco_higgs_to_2el2mu(df_sig_4l);\n",
      " ^\n",
      "FunctionDecl 0x7f0b9a087968 <input_line_53:1:1, line:18:1> line:1:6 __cling_Un1Qu312 'void (void *)'\n",
      "|-ParmVarDecl 0x7f0b9a0878c0 <col:23, col:29> col:29 vpClingValue 'void *'\n",
      "|-CompoundStmt 0x7f0b9a089658 <col:43, line:18:1>\n",
      "| |-DeclStmt 0x7f0b9a087c90 <line:2:2, col:59>\n",
      "| | `-VarDecl 0x7f0b9a087a38 <col:2, col:58> col:7 used df_sig_2el2mu_reco 'auto' cinit\n",
      "| |   `-CallExpr 0x7f0b9a087c60 <col:28, col:58> '<dependent type>'\n",
      "| |     |-DeclRefExpr 0x7f0b9a087bf0 <col:28> '<dependent type>' lvalue Var 0x7f0b9a087b60 'reco_higgs_to_2el2mu' '<dependent type>'\n",
      "| |     `-DeclRefExpr 0x7f0b9a087c38 <col:49> 'ROOT::RDataFrame':'class ROOT::RDataFrame' lvalue Var 0x55e034182438 'df_sig_4l' 'ROOT::RDataFrame':'class ROOT::RDataFrame'\n",
      "| |-DeclStmt 0x7f0b9a088350 <line:3:1, line:5:73>\n",
      "| | `-VarDecl 0x7f0b9a087cb8 <line:3:1, col:6> col:6 invalid df_h_sig_2el2mu 'auto'\n",
      "| |-DeclStmt 0x7f0b9a088468 <line:7:1, col:34>\n",
      "| | `-VarDecl 0x7f0b9a088378 <col:1, col:30> col:12 used xsec_ZZTo2el2mu 'const double':'const double' cinit\n",
      "| |   `-FloatingLiteral 0x7f0b9a0883d8 <col:30> 'double' 1.800000e-01\n",
      "| |-DeclStmt 0x7f0b9a088578 <line:8:1, col:39>\n",
      "| | `-VarDecl 0x7f0b9a088490 <col:1, col:30> col:12 used nevt_ZZTo2el2mu 'const double':'const double' cinit\n",
      "| |   `-FloatingLiteral 0x7f0b9a0884f0 <col:30> 'double' 1.497445e+06\n",
      "| |-DeclStmt 0x7f0b9a088678 <line:9:1, col:62>\n",
      "| | `-VarDecl 0x7f0b9a0885a0 <col:1, col:6> col:6 invalid df_bkg_2el2mu_reco 'auto'\n",
      "| |-DeclStmt 0x7f0b9a088db8 <line:10:1, line:12:73>\n",
      "| | `-VarDecl 0x7f0b9a0886a0 <line:10:1, col:6> col:6 invalid df_h_bkg_2el2mu 'auto'\n",
      "| |-DeclStmt 0x7f0b9a088eb8 <line:14:1, col:66>\n",
      "| | `-VarDecl 0x7f0b9a088de0 <col:1, col:6> col:6 invalid df_data_2el2mu_reco 'auto'\n",
      "| |-DeclStmt 0x7f0b9a089630 <line:15:1, line:16:104>\n",
      "| | `-VarDecl 0x7f0b9a088ee0 <line:15:1, col:6> col:6 invalid df_h_data_2el2mu 'auto'\n",
      "| `-NullStmt 0x7f0b9a089648 <line:17:1>\n",
      "|-AnnotateAttr 0x7f0b9a087af8 <<invalid sloc>> R\"ATTRDUMP(__ResolveAtRuntime)ATTRDUMP\"\n",
      "`-AnnotateAttr 0x7f0b9a087bc0 <<invalid sloc>> R\"ATTRDUMP(__ResolveAtRuntime)ATTRDUMP\"\n",
      "<<<NULL>>>\n"
     ]
    }
   ],
   "source": [
    "auto df_sig_2el2mu_reco = reco_higgs_to_2el2mu(df_sig_4l);\n",
    "auto df_h_sig_2el2mu = df_sig_2el2mu_reco\n",
    "      .Define(\"weight\", [&]() { return luminosity * xsec_SMHiggsToZZTo4L / nevt_SMHiggsToZZTo4L; }, {})\n",
    "      .Histo1D({\"h_sig_2el2mu\", \"\", nbins, 70, 180}, \"H_mass\", \"weight\");\n",
    "\n",
    "const auto xsec_ZZTo2el2mu = 0.18;      // ZZ->2el2mu: Standard Model cross-section\n",
    "const auto nevt_ZZTo2el2mu = 1497445.0; // ZZ->2el2mu: Number of simulated events\n",
    "auto df_bkg_2el2mu_reco = reco_higgs_to_2el2mu(df_bkg_2el2mu);\n",
    "auto df_h_bkg_2el2mu = df_bkg_2el2mu_reco\n",
    "      .Define(\"weight\", [&]() { return luminosity * xsec_ZZTo2el2mu * scale_ZZTo4l / nevt_ZZTo2el2mu; }, {})\n",
    "      .Histo1D({\"h_bkg_2el2mu\", \"\", nbins, 70, 180}, \"H_mass\", \"weight\");\n",
    "\n",
    "auto df_data_2el2mu_reco = reco_higgs_to_2el2mu(df_data_doublemu);\n",
    "auto df_h_data_2el2mu = df_data_2el2mu_reco.Define(\"weight\", []() { return 1.0; }, {})\n",
    "                           .Histo1D({\"h_data_2el2mu_doublemu\", \"\", nbins, 70, 180}, \"H_mass\", \"weight\");"
   ]
  },
  {
   "cell_type": "markdown",
   "metadata": {},
   "source": [
    "Produce histograms for different channels and make plots"
   ]
  },
  {
   "cell_type": "code",
   "execution_count": 23,
   "metadata": {
    "collapsed": false
   },
   "outputs": [
    {
     "name": "stderr",
     "output_type": "stream",
     "text": [
      "input_line_55:2:8: error: use of undeclared identifier 'df_h_sig_4mu'\n",
      " (plot(df_h_sig_4mu, df_h_bkg_4mu, df_h_data_4mu, \"m_{4#mu} (GeV)\", \"higgs_4mu.pdf\"))\n",
      "       ^\n",
      "input_line_55:2:22: error: use of undeclared identifier 'df_h_bkg_4mu'\n",
      " (plot(df_h_sig_4mu, df_h_bkg_4mu, df_h_data_4mu, \"m_{4#mu} (GeV)\", \"higgs_4mu.pdf\"))\n",
      "                     ^\n",
      "input_line_55:2:36: error: use of undeclared identifier 'df_h_data_4mu'\n",
      " (plot(df_h_sig_4mu, df_h_bkg_4mu, df_h_data_4mu, \"m_{4#mu} (GeV)\", \"higgs_4mu.pdf\"))\n",
      "                                   ^\n",
      "Error in <HandleInterpreterException>: Error evaluating expression (plot(df_h_sig_4mu, df_h_bkg_4mu, df_h_data_4mu, \"m_{4#mu} (GeV)\", \"higgs_4mu.pdf\")).\n",
      "Execution of your code was aborted.\n",
      "Error in <TReentrantRWLock::WriteUnLock>: Write lock already released for 0x7f0b99afd918\n"
     ]
    }
   ],
   "source": [
    "plot(df_h_sig_4mu, df_h_bkg_4mu, df_h_data_4mu, \"m_{4#mu} (GeV)\", \"higgs_4mu.pdf\");\n",
    "plot(df_h_sig_4el, df_h_bkg_4el, df_h_data_4el, \"m_{4e} (GeV)\", \"higgs_4el.pdf\");\n",
    "plot(df_h_sig_2el2mu, df_h_bkg_2el2mu, df_h_data_2el2mu, \"m_{2e2#mu} (GeV)\", \"higgs_2el2mu.pdf\");"
   ]
  },
  {
   "cell_type": "markdown",
   "metadata": {},
   "source": [
    "Combine channels for final plot"
   ]
  },
  {
   "cell_type": "code",
   "execution_count": 24,
   "metadata": {
    "collapsed": false
   },
   "outputs": [
    {
     "name": "stderr",
     "output_type": "stream",
     "text": [
      "input_line_56:2:2: error: Syntax error\n",
      " auto h_data_4l = df_h_data_4mu.GetPtr();\n",
      " ^\n",
      "FunctionDecl 0x7f0b9a08dad8 <input_line_56:1:1, line:13:1> line:1:6 __cling_Un1Qu315 'void (void *)'\n",
      "|-ParmVarDecl 0x7f0b9a08da30 <col:23, col:29> col:29 vpClingValue 'void *'\n",
      "|-CompoundStmt 0x7f0b9a08f020 <col:43, line:13:1>\n",
      "| |-DeclStmt 0x7f0b9a08dd98 <line:2:2, col:41>\n",
      "| | `-VarDecl 0x7f0b9a08dba8 <col:2, col:40> col:7 used h_data_4l 'auto' cinit\n",
      "| |   `-CallExpr 0x7f0b9a08dd70 <col:19, col:40> '<dependent type>'\n",
      "| |     `-CXXDependentScopeMemberExpr 0x7f0b9a08dd18 <col:19, col:33> '<dependent type>' lvalue .GetPtr\n",
      "| |       `-DeclRefExpr 0x7f0b9a08dcd0 <col:19> '<dependent type>' lvalue Var 0x7f0b9a08dc08 'df_h_data_4mu' '<dependent type>'\n",
      "| |-CallExpr 0x7f0b9a08dfa8 <line:3:1, col:38> '<dependent type>'\n",
      "| | |-CXXDependentScopeMemberExpr 0x7f0b9a08ddf8 <col:1, col:12> '<dependent type>' lvalue ->Add\n",
      "| | | `-DeclRefExpr 0x7f0b9a08ddb0 <col:1> 'auto' lvalue Var 0x7f0b9a08dba8 'h_data_4l' 'auto'\n",
      "| | `-CallExpr 0x7f0b9a08df80 <col:16, col:37> '<dependent type>'\n",
      "| |   `-CXXDependentScopeMemberExpr 0x7f0b9a08df28 <col:16, col:30> '<dependent type>' lvalue .GetPtr\n",
      "| |     `-DeclRefExpr 0x7f0b9a08dee0 <col:16> '<dependent type>' lvalue Var 0x7f0b9a08de50 'df_h_data_4el' '<dependent type>'\n",
      "| |-CallExpr 0x7f0b9a08e1b0 <line:4:1, col:41> '<dependent type>'\n",
      "| | |-CXXDependentScopeMemberExpr 0x7f0b9a08e000 <col:1, col:12> '<dependent type>' lvalue ->Add\n",
      "| | | `-DeclRefExpr 0x7f0b9a08dfd8 <col:1> 'auto' lvalue Var 0x7f0b9a08dba8 'h_data_4l' 'auto'\n",
      "| | `-CallExpr 0x7f0b9a08e188 <col:16, col:40> '<dependent type>'\n",
      "| |   `-CXXDependentScopeMemberExpr 0x7f0b9a08e130 <col:16, col:33> '<dependent type>' lvalue .GetPtr\n",
      "| |     `-DeclRefExpr 0x7f0b9a08e0e8 <col:16> '<dependent type>' lvalue Var 0x7f0b9a08e058 'df_h_data_2el2mu' '<dependent type>'\n",
      "| |-DeclStmt 0x7f0b9a08e3a8 <line:5:1, col:38>\n",
      "| | `-VarDecl 0x7f0b9a08e1f0 <col:1, col:37> col:6 used h_sig_4l 'auto' cinit\n",
      "| |   `-CallExpr 0x7f0b9a08e380 <col:17, col:37> '<dependent type>'\n",
      "| |     `-CXXDependentScopeMemberExpr 0x7f0b9a08e328 <col:17, col:30> '<dependent type>' lvalue .GetPtr\n",
      "| |       `-DeclRefExpr 0x7f0b9a08e2e0 <col:17> '<dependent type>' lvalue Var 0x7f0b9a08e250 'df_h_sig_4mu' '<dependent type>'\n",
      "| |-CallExpr 0x7f0b9a08e5b8 <line:6:1, col:36> '<dependent type>'\n",
      "| | |-CXXDependentScopeMemberExpr 0x7f0b9a08e408 <col:1, col:11> '<dependent type>' lvalue ->Add\n",
      "| | | `-DeclRefExpr 0x7f0b9a08e3c0 <col:1> 'auto' lvalue Var 0x7f0b9a08e1f0 'h_sig_4l' 'auto'\n",
      "| | `-CallExpr 0x7f0b9a08e590 <col:15, col:35> '<dependent type>'\n",
      "| |   `-CXXDependentScopeMemberExpr 0x7f0b9a08e538 <col:15, col:28> '<dependent type>' lvalue .GetPtr\n",
      "| |     `-DeclRefExpr 0x7f0b9a08e4f0 <col:15> '<dependent type>' lvalue Var 0x7f0b9a08e460 'df_h_sig_4el' '<dependent type>'\n",
      "| |-CallExpr 0x7f0b9a08e7c0 <line:7:1, col:39> '<dependent type>'\n",
      "| | |-CXXDependentScopeMemberExpr 0x7f0b9a08e610 <col:1, col:11> '<dependent type>' lvalue ->Add\n",
      "| | | `-DeclRefExpr 0x7f0b9a08e5e8 <col:1> 'auto' lvalue Var 0x7f0b9a08e1f0 'h_sig_4l' 'auto'\n",
      "| | `-CallExpr 0x7f0b9a08e798 <col:15, col:38> '<dependent type>'\n",
      "| |   `-CXXDependentScopeMemberExpr 0x7f0b9a08e740 <col:15, col:31> '<dependent type>' lvalue .GetPtr\n",
      "| |     `-DeclRefExpr 0x7f0b9a08e6f8 <col:15> '<dependent type>' lvalue Var 0x7f0b9a08e668 'df_h_sig_2el2mu' '<dependent type>'\n",
      "| |-DeclStmt 0x7f0b9a08e9b8 <line:8:1, col:38>\n",
      "| | `-VarDecl 0x7f0b9a08e800 <col:1, col:37> col:6 used h_bkg_4l 'auto' cinit\n",
      "| |   `-CallExpr 0x7f0b9a08e990 <col:17, col:37> '<dependent type>'\n",
      "| |     `-CXXDependentScopeMemberExpr 0x7f0b9a08e938 <col:17, col:30> '<dependent type>' lvalue .GetPtr\n",
      "| |       `-DeclRefExpr 0x7f0b9a08e8f0 <col:17> '<dependent type>' lvalue Var 0x7f0b9a08e860 'df_h_bkg_4mu' '<dependent type>'\n",
      "| |-CallExpr 0x7f0b9a08ebc8 <line:9:1, col:36> '<dependent type>'\n",
      "| | |-CXXDependentScopeMemberExpr 0x7f0b9a08ea18 <col:1, col:11> '<dependent type>' lvalue ->Add\n",
      "| | | `-DeclRefExpr 0x7f0b9a08e9d0 <col:1> 'auto' lvalue Var 0x7f0b9a08e800 'h_bkg_4l' 'auto'\n",
      "| | `-CallExpr 0x7f0b9a08eba0 <col:15, col:35> '<dependent type>'\n",
      "| |   `-CXXDependentScopeMemberExpr 0x7f0b9a08eb48 <col:15, col:28> '<dependent type>' lvalue .GetPtr\n",
      "| |     `-DeclRefExpr 0x7f0b9a08eb00 <col:15> '<dependent type>' lvalue Var 0x7f0b9a08ea70 'df_h_bkg_4el' '<dependent type>'\n",
      "| |-CallExpr 0x7f0b9a08edd0 <line:10:1, col:39> '<dependent type>'\n",
      "| | |-CXXDependentScopeMemberExpr 0x7f0b9a08ec20 <col:1, col:11> '<dependent type>' lvalue ->Add\n",
      "| | | `-DeclRefExpr 0x7f0b9a08ebf8 <col:1> 'auto' lvalue Var 0x7f0b9a08e800 'h_bkg_4l' 'auto'\n",
      "| | `-CallExpr 0x7f0b9a08eda8 <col:15, col:38> '<dependent type>'\n",
      "| |   `-CXXDependentScopeMemberExpr 0x7f0b9a08ed50 <col:15, col:31> '<dependent type>' lvalue .GetPtr\n",
      "| |     `-DeclRefExpr 0x7f0b9a08ed08 <col:15> '<dependent type>' lvalue Var 0x7f0b9a08ec78 'df_h_bkg_2el2mu' '<dependent type>'\n",
      "| |-CallExpr 0x7f0b9a08efc0 <line:11:1, col:67> '<dependent type>'\n",
      "| | |-DeclRefExpr 0x7f0b9a08ee90 <col:1> '<dependent type>' lvalue Var 0x7f0b9a08ee00 'plot' '<dependent type>'\n",
      "| | |-DeclRefExpr 0x7f0b9a08eed8 <col:6> 'auto' lvalue Var 0x7f0b9a08e1f0 'h_sig_4l' 'auto'\n",
      "| | |-DeclRefExpr 0x7f0b9a08ef00 <col:16> 'auto' lvalue Var 0x7f0b9a08e800 'h_bkg_4l' 'auto'\n",
      "| | |-DeclRefExpr 0x7f0b9a08ef28 <col:26> 'auto' lvalue Var 0x7f0b9a08dba8 'h_data_4l' 'auto'\n",
      "| | |-StringLiteral 0x7f0b9a08ef50 <col:37> 'const char [13]' lvalue \"m_{4l} (GeV)\"\n",
      "| | `-StringLiteral 0x7f0b9a08ef88 <col:53> 'const char [13]' lvalue \"higgs_4l.pdf\"\n",
      "| `-NullStmt 0x7f0b9a08f010 <line:12:1>\n",
      "|-AnnotateAttr 0x7f0b9a08dc68 <<invalid sloc>> R\"ATTRDUMP(__ResolveAtRuntime)ATTRDUMP\"\n",
      "|-AnnotateAttr 0x7f0b9a08deb0 <<invalid sloc>> R\"ATTRDUMP(__ResolveAtRuntime)ATTRDUMP\"\n",
      "|-AnnotateAttr 0x7f0b9a08e0b8 <<invalid sloc>> R\"ATTRDUMP(__ResolveAtRuntime)ATTRDUMP\"\n",
      "|-AnnotateAttr 0x7f0b9a08e2b0 <<invalid sloc>> R\"ATTRDUMP(__ResolveAtRuntime)ATTRDUMP\"\n",
      "|-AnnotateAttr 0x7f0b9a08e4c0 <<invalid sloc>> R\"ATTRDUMP(__ResolveAtRuntime)ATTRDUMP\"\n",
      "|-AnnotateAttr 0x7f0b9a08e6c8 <<invalid sloc>> R\"ATTRDUMP(__ResolveAtRuntime)ATTRDUMP\"\n",
      "|-AnnotateAttr 0x7f0b9a08e8c0 <<invalid sloc>> R\"ATTRDUMP(__ResolveAtRuntime)ATTRDUMP\"\n",
      "|-AnnotateAttr 0x7f0b9a08ead0 <<invalid sloc>> R\"ATTRDUMP(__ResolveAtRuntime)ATTRDUMP\"\n",
      "|-AnnotateAttr 0x7f0b9a08ecd8 <<invalid sloc>> R\"ATTRDUMP(__ResolveAtRuntime)ATTRDUMP\"\n",
      "`-AnnotateAttr 0x7f0b9a08ee60 <<invalid sloc>> R\"ATTRDUMP(__ResolveAtRuntime)ATTRDUMP\"\n",
      "<<<NULL>>>\n"
     ]
    }
   ],
   "source": [
    "auto h_data_4l = df_h_data_4mu.GetPtr();\n",
    "h_data_4l->Add(df_h_data_4el.GetPtr());\n",
    "h_data_4l->Add(df_h_data_2el2mu.GetPtr());\n",
    "auto h_sig_4l = df_h_sig_4mu.GetPtr();\n",
    "h_sig_4l->Add(df_h_sig_4el.GetPtr());\n",
    "h_sig_4l->Add(df_h_sig_2el2mu.GetPtr());\n",
    "auto h_bkg_4l = df_h_bkg_4mu.GetPtr();\n",
    "h_bkg_4l->Add(df_h_bkg_4el.GetPtr());\n",
    "h_bkg_4l->Add(df_h_bkg_2el2mu.GetPtr());\n",
    "plot(h_sig_4l, h_bkg_4l, h_data_4l, \"m_{4l} (GeV)\", \"higgs_4l.pdf\");"
   ]
  },
  {
   "cell_type": "markdown",
   "metadata": {},
   "source": [
    "Draw all canvases "
   ]
  },
  {
   "cell_type": "code",
   "execution_count": 25,
   "metadata": {
    "collapsed": false
   },
   "outputs": [],
   "source": [
    "gROOT->GetListOfCanvases()->Draw()"
   ]
  }
 ],
 "metadata": {
  "kernelspec": {
   "display_name": "ROOT C++",
   "language": "c++",
   "name": "root"
  },
  "language_info": {
   "codemirror_mode": "text/x-c++src",
   "file_extension": ".C",
   "mimetype": " text/x-c++src",
   "name": "c++"
  }
 },
 "nbformat": 4,
 "nbformat_minor": 2
}
