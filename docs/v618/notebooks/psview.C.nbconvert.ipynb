{
 "cells": [
  {
   "cell_type": "markdown",
   "metadata": {},
   "source": [
    "# Psview\n",
    "An example how to display PS, EPS, PDF files in canvas.\n",
    "To load a PS file in a TCanvas, the ghostscript program needs to be install.\n",
    "- On most unix systems it is installed by default.\n",
    "- On Windows it has to be installed from http://pages.cs.wisc.edu/~ghost/\n",
    "  also the place where gswin32c.exe sits should be added in the PATH. One\n",
    "  way to do it is:\n",
    "    1. Start the Control Panel\n",
    "    2. Double click on System\n",
    "    3, Open the \"Advanced\" tab\n",
    "    4. Click on the \"Environment Variables\" button\n",
    "    5. Find \"Path\" in \"System variable list\", click on it.\n",
    "    6. Click on the \"Edit\" button.\n",
    "    7. In the \"Variable value\" field add the path of gswin32c\n",
    "       (after a \";\") it should be something like:\n",
    "       \"C:\\Program Files\\gs\\gs8.13\\bin\"\n",
    "    8. click \"OK\" as much as needed.\n",
    "\n",
    "\n",
    "\n",
    "\n",
    "**Author:** Valeriy Onoutchin  \n",
    "<i><small>This notebook tutorial was automatically generated with <a href= \"https://github.com/root-project/root/blob/master/documentation/doxygen/converttonotebook.py\">ROOTBOOK-izer</a> from the macro found in the ROOT repository  on Thursday, August 29, 2019 at 01:44 AM.</small></i>"
   ]
  },
  {
   "cell_type": "code",
   "execution_count": 1,
   "metadata": {
    "collapsed": false
   },
   "outputs": [],
   "source": [
    "%%cpp -d\n",
    "#include \"TROOT.h\"\n",
    "#include \"TCanvas.h\"\n",
    "#include \"TImage.h\""
   ]
  },
  {
   "cell_type": "markdown",
   "metadata": {},
   "source": [
    "Set to batch mode -> do not display graphics"
   ]
  },
  {
   "cell_type": "code",
   "execution_count": 2,
   "metadata": {
    "collapsed": false
   },
   "outputs": [],
   "source": [
    "gROOT->SetBatch(1);"
   ]
  },
  {
   "cell_type": "markdown",
   "metadata": {},
   "source": [
    "Create a postscript file"
   ]
  },
  {
   "cell_type": "code",
   "execution_count": 3,
   "metadata": {
    "collapsed": false
   },
   "outputs": [
    {
     "name": "stderr",
     "output_type": "stream",
     "text": [
      "Info in <TCanvas::Print>: eps file feynman.eps has been created\n"
     ]
    }
   ],
   "source": [
    "TString dir = gROOT->GetTutorialDir();\n",
    "dir.Append(\"/graphics/feynman.C\");\n",
    "gROOT->Macro(dir);\n",
    "gPad->Print(\"feynman.eps\");"
   ]
  },
  {
   "cell_type": "markdown",
   "metadata": {},
   "source": [
    "Back to graphics mode"
   ]
  },
  {
   "cell_type": "code",
   "execution_count": 4,
   "metadata": {
    "collapsed": false
   },
   "outputs": [],
   "source": [
    "gROOT->SetBatch(0);"
   ]
  },
  {
   "cell_type": "markdown",
   "metadata": {},
   "source": [
    "Create an image from ps file"
   ]
  },
  {
   "cell_type": "code",
   "execution_count": 5,
   "metadata": {
    "collapsed": false
   },
   "outputs": [
    {
     "name": "stderr",
     "output_type": "stream",
     "text": [
      "Error in <ROOT::Internal::TCheckHashRecursiveRemoveConsistency::CheckRecursiveRemove>: The class TImagePlugin overrides TObject::Hash but does not call TROOT::RecursiveRemove in its destructor (seen while checking TASPluginGS).\n",
      "libpng error: invalid screen gamma in png_set_gamma\n",
      "Error in <TUnixSystem::SetDisplay>: Can't figure out DISPLAY, set it manually\n",
      "In case you run a remote ssh session, restart your ssh session with:\n",
      "=========>  ssh -Y\n",
      "Error in <TUnixSystem::SetDisplay>: Can't figure out DISPLAY, set it manually\n",
      "In case you run a remote ssh session, restart your ssh session with:\n",
      "=========>  ssh -Y\n",
      "Error in <TGClient::TGClient>: can't open display \"\", switching to batch mode...\n",
      " In case you run from a remote ssh session, reconnect with ssh -Y\n",
      "Error in <TASImage::Draw>: no image set\n"
     ]
    }
   ],
   "source": [
    "TImage *ps = TImage::Open(\"feynman.eps\");\n",
    "\n",
    "if (!ps) {\n",
    "   printf(\"GhostScript (gs) program must be installed\\n\");\n",
    "   return;\n",
    "}\n",
    "\n",
    "new TCanvas(\"psexam\", \"Example how to display PS file in canvas\", 600, 400);\n",
    "TLatex *tex = new TLatex(0.06,0.9,\"The picture below has been loaded from a PS file:\");\n",
    "tex->Draw();\n",
    "\n",
    "TPad *eps = new TPad(\"eps\", \"eps\", 0., 0., 1., 0.75);\n",
    "eps->Draw();\n",
    "eps->cd();\n",
    "ps->Draw(\"xxx\");"
   ]
  },
  {
   "cell_type": "markdown",
   "metadata": {},
   "source": [
    "Draw all canvases "
   ]
  },
  {
   "cell_type": "code",
   "execution_count": 6,
   "metadata": {
    "collapsed": false
   },
   "outputs": [
    {
     "data": {
      "image/png": "[encoded data removed]",
      "text/plain": [
       "<IPython.core.display.Image object>"
      ]
     },
     "metadata": {},
     "output_type": "display_data"
    },
    {
     "data": {
      "image/png": "[encoded data removed]",
      "text/plain": [
       "<IPython.core.display.Image object>"
      ]
     },
     "metadata": {},
     "output_type": "display_data"
    }
   ],
   "source": [
    "gROOT->GetListOfCanvases()->Draw()"
   ]
  }
 ],
 "metadata": {
  "kernelspec": {
   "display_name": "ROOT C++",
   "language": "c++",
   "name": "root"
  },
  "language_info": {
   "codemirror_mode": "text/x-c++src",
   "file_extension": ".C",
   "mimetype": " text/x-c++src",
   "name": "c++"
  }
 },
 "nbformat": 4,
 "nbformat_minor": 2
}
