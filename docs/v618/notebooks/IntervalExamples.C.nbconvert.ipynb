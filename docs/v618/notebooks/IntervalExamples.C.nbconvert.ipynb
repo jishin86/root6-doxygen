{
 "cells": [
  {
   "cell_type": "markdown",
   "metadata": {},
   "source": [
    "#  Interval Examples\n",
    "Example showing confidence intervals with four techniques.\n",
    "\n",
    "An example that shows confidence intervals with four techniques.\n",
    "The model is a Normal Gaussian G(x|mu,sigma) with 100 samples of x.\n",
    "The answer is known analytically, so this is a good example to validate\n",
    "the RooStats tools.\n",
    "\n",
    " - expected interval is [-0.162917, 0.229075]\n",
    " - plc  interval is     [-0.162917, 0.229075]\n",
    " - fc   interval is     [-0.17    , 0.23]        // stepsize is 0.01\n",
    " - bc   interval is     [-0.162918, 0.229076]\n",
    " - mcmc interval is     [-0.166999, 0.230224]\n",
    "\n",
    "\n",
    "\n",
    "\n",
    "**Author:** Kyle Cranmer  \n",
    "<i><small>This notebook tutorial was automatically generated with <a href= \"https://github.com/root-project/root/blob/master/documentation/doxygen/converttonotebook.py\">ROOTBOOK-izer</a> from the macro found in the ROOT repository  on Thursday, August 29, 2019 at 03:11 AM.</small></i>"
   ]
  },
  {
   "cell_type": "code",
   "execution_count": 1,
   "metadata": {
    "collapsed": false
   },
   "outputs": [],
   "source": [
    "%%cpp -d\n",
    "#include \"RooStats/ConfInterval.h\"\n",
    "#include \"RooStats/PointSetInterval.h\"\n",
    "#include \"RooStats/ConfidenceBelt.h\"\n",
    "#include \"RooStats/FeldmanCousins.h\"\n",
    "#include \"RooStats/ProfileLikelihoodCalculator.h\"\n",
    "#include \"RooStats/MCMCCalculator.h\"\n",
    "#include \"RooStats/BayesianCalculator.h\"\n",
    "#include \"RooStats/MCMCIntervalPlot.h\"\n",
    "#include \"RooStats/LikelihoodIntervalPlot.h\"\n",
    "\n",
    "#include \"RooStats/ProofConfig.h\"\n",
    "#include \"RooStats/ToyMCSampler.h\"\n",
    "\n",
    "#include \"RooRandom.h\"\n",
    "#include \"RooDataSet.h\"\n",
    "#include \"RooRealVar.h\"\n",
    "#include \"RooConstVar.h\"\n",
    "#include \"RooAddition.h\"\n",
    "#include \"RooDataHist.h\"\n",
    "#include \"RooPoisson.h\"\n",
    "#include \"RooPlot.h\"\n",
    "\n",
    "#include \"TCanvas.h\"\n",
    "#include \"TTree.h\"\n",
    "#include \"TStyle.h\"\n",
    "#include \"TMath.h\"\n",
    "#include \"Math/DistFunc.h\"\n",
    "#include \"TH1F.h\"\n",
    "#include \"TMarker.h\"\n",
    "#include \"TStopwatch.h\"\n",
    "\n",
    "#include <iostream>"
   ]
  },
  {
   "cell_type": "markdown",
   "metadata": {},
   "source": [
    "Use this order for safety on library loading"
   ]
  },
  {
   "cell_type": "code",
   "execution_count": 2,
   "metadata": {
    "collapsed": false
   },
   "outputs": [],
   "source": [
    "%%cpp -d\n",
    "// This is a workaround to make sure the namespace is used inside functions\n",
    "using namespace RooFit;\n",
    "using namespace RooStats;"
   ]
  },
  {
   "cell_type": "markdown",
   "metadata": {},
   "source": [
    "Time this macro"
   ]
  },
  {
   "cell_type": "code",
   "execution_count": 3,
   "metadata": {
    "collapsed": false
   },
   "outputs": [],
   "source": [
    "TStopwatch t;\n",
    "t.Start();"
   ]
  },
  {
   "cell_type": "markdown",
   "metadata": {},
   "source": [
    "Set roofit random seed for reproducible results"
   ]
  },
  {
   "cell_type": "code",
   "execution_count": 4,
   "metadata": {
    "collapsed": false
   },
   "outputs": [
    {
     "name": "stdout",
     "output_type": "stream",
     "text": [
      "\n",
      "\u001b[1mRooFit v3.60 -- Developed by Wouter Verkerke and David Kirkby\u001b[0m \n",
      "                Copyright (C) 2000-2013 NIKHEF, University of California & Stanford University\n",
      "                All rights reserved, please read http://roofit.sourceforge.net/license.txt\n",
      "\n"
     ]
    }
   ],
   "source": [
    "RooRandom::randomGenerator()->SetSeed(3001);"
   ]
  },
  {
   "cell_type": "markdown",
   "metadata": {},
   "source": [
    "Make a simple model via the workspace factory"
   ]
  },
  {
   "cell_type": "code",
   "execution_count": 5,
   "metadata": {
    "collapsed": false
   },
   "outputs": [],
   "source": [
    "RooWorkspace *wspace = new RooWorkspace();\n",
    "wspace->factory(\"Gaussian::normal(x[-10,10],mu[-1,1],sigma[1])\");\n",
    "wspace->defineSet(\"poi\", \"mu\");\n",
    "wspace->defineSet(\"obs\", \"x\");"
   ]
  },
  {
   "cell_type": "markdown",
   "metadata": {},
   "source": [
    "Specify components of model for statistical tools"
   ]
  },
  {
   "cell_type": "code",
   "execution_count": 6,
   "metadata": {
    "collapsed": false
   },
   "outputs": [],
   "source": [
    "ModelConfig *modelConfig = new ModelConfig(\"Example G(x|mu,1)\");\n",
    "modelConfig->SetWorkspace(*wspace);\n",
    "modelConfig->SetPdf(*wspace->pdf(\"normal\"));\n",
    "modelConfig->SetParametersOfInterest(*wspace->set(\"poi\"));\n",
    "modelConfig->SetObservables(*wspace->set(\"obs\"));"
   ]
  },
  {
   "cell_type": "markdown",
   "metadata": {},
   "source": [
    "Create a toy dataset"
   ]
  },
  {
   "cell_type": "code",
   "execution_count": 7,
   "metadata": {
    "collapsed": false
   },
   "outputs": [
    {
     "name": "stdout",
     "output_type": "stream",
     "text": [
      "RooDataSet::normalData[x] = 100 entries\n"
     ]
    }
   ],
   "source": [
    "RooDataSet *data = wspace->pdf(\"normal\")->generate(*wspace->set(\"obs\"), 100);\n",
    "data->Print();"
   ]
  },
  {
   "cell_type": "markdown",
   "metadata": {},
   "source": [
    "For convenience later on"
   ]
  },
  {
   "cell_type": "code",
   "execution_count": 8,
   "metadata": {
    "collapsed": false
   },
   "outputs": [],
   "source": [
    "RooRealVar *x = wspace->var(\"x\");\n",
    "RooRealVar *mu = wspace->var(\"mu\");"
   ]
  },
  {
   "cell_type": "markdown",
   "metadata": {},
   "source": [
    "Set confidence level"
   ]
  },
  {
   "cell_type": "code",
   "execution_count": 9,
   "metadata": {
    "collapsed": false
   },
   "outputs": [],
   "source": [
    "double confidenceLevel = 0.95;"
   ]
  },
  {
   "cell_type": "markdown",
   "metadata": {},
   "source": [
    "Example use profile likelihood calculator"
   ]
  },
  {
   "cell_type": "code",
   "execution_count": 10,
   "metadata": {
    "collapsed": false
   },
   "outputs": [
    {
     "name": "stdout",
     "output_type": "stream",
     "text": [
      "[#1] INFO:Minization -- createNLL: caching constraint set under name CONSTR_OF_PDF_normal_FOR_OBS_x with 0 entries\n",
      "[#0] PROGRESS:Minization -- ProfileLikelihoodCalcultor::DoGLobalFit - find MLE \n",
      "[#0] PROGRESS:Minization -- ProfileLikelihoodCalcultor::DoMinimizeNLL - using Minuit / Migrad with strategy 1\n",
      "[#1] INFO:Minization -- RooMinimizer::optimizeConst: activating const optimization\n",
      "[#1] INFO:Minization -- \n",
      "  RooFitResult: minimized FCN value: 144.292, estimated distance to minimum: 3.63481e-09\n",
      "                covariance matrix quality: Full, accurate covariance matrix\n",
      "                Status : MINIMIZE=0 \n",
      "\n",
      "    Floating Parameter    FinalValue +/-  Error   \n",
      "  --------------------  --------------------------\n",
      "                    mu    3.3073e-02 +/-  9.98e-02\n",
      "\n"
     ]
    }
   ],
   "source": [
    "ProfileLikelihoodCalculator plc(*data, *modelConfig);\n",
    "plc.SetConfidenceLevel(confidenceLevel);\n",
    "LikelihoodInterval *plInt = plc.GetInterval();"
   ]
  },
  {
   "cell_type": "markdown",
   "metadata": {},
   "source": [
    "Example use of feldman-cousins"
   ]
  },
  {
   "cell_type": "code",
   "execution_count": 11,
   "metadata": {
    "collapsed": false
   },
   "outputs": [],
   "source": [
    "FeldmanCousins fc(*data, *modelConfig);\n",
    "fc.SetConfidenceLevel(confidenceLevel);\n",
    "fc.SetNBins(100);             // number of points to test per parameter\n",
    "fc.UseAdaptiveSampling(true); // make it go faster"
   ]
  },
  {
   "cell_type": "markdown",
   "metadata": {},
   "source": [
    "Here, we consider only ensembles with 100 events\n",
    " The PDF could be extended and this could be removed"
   ]
  },
  {
   "cell_type": "code",
   "execution_count": 12,
   "metadata": {
    "collapsed": false
   },
   "outputs": [],
   "source": [
    "fc.FluctuateNumDataEntries(false);"
   ]
  },
  {
   "cell_type": "markdown",
   "metadata": {},
   "source": [
    "Proof\n",
    "  ProofConfig pc(*wspace, 4, \"workers=4\", kFALSE);    // proof-lite\n",
    " ProofConfig pc(w, 8, \"localhost\");    // proof cluster at \"localhost\"\n",
    "  ToyMCSampler* toymcsampler = (ToyMCSampler*) fc.GetTestStatSampler();\n",
    "  toymcsampler->SetProofConfig(&pc);     // enable proof"
   ]
  },
  {
   "cell_type": "code",
   "execution_count": 13,
   "metadata": {
    "collapsed": false
   },
   "outputs": [
    {
     "name": "stdout",
     "output_type": "stream",
     "text": [
      "\n",
      "=== Using the following for Example G(x|mu,1) ===\n",
      "Observables:             RooArgSet:: = (x)\n",
      "Parameters of Interest:  RooArgSet:: = (mu)\n",
      "PDF:                     RooGaussian::normal[ x=x mean=mu sigma=sigma ] = 0.999453\n",
      "\n",
      "FeldmanCousins: ntoys per point: adaptive\n",
      "FeldmanCousins: nEvents per toy will not fluctuate, will always be 100\n",
      "FeldmanCousins: Model has no nuisance parameters\n",
      "FeldmanCousins: # points to test = 100\n",
      "NeymanConstruction: Prog: 1/100 total MC = 78 this test stat = 52.3345\n",
      " mu=-0.99 [-1e+30, 1.44394]  in interval = 0\n",
      "\n",
      "NeymanConstruction: Prog: 2/100 total MC = 78 this test stat = 50.3084\n",
      " mu=-0.97 [-1e+30, 1.79333]  in interval = 0\n",
      "\n",
      "NeymanConstruction: Prog: 3/100 total MC = 78 this test stat = 48.3222\n",
      " mu=-0.95 [-1e+30, 2.15157]  in interval = 0\n",
      "\n",
      "NeymanConstruction: Prog: 4/100 total MC = 78 this test stat = 46.3761\n",
      " mu=-0.93 [-1e+30, 1.35751]  in interval = 0\n",
      "\n",
      "NeymanConstruction: Prog: 5/100 total MC = 78 this test stat = 44.4699\n",
      " mu=-0.91 [-1e+30, 3.34994]  in interval = 0\n",
      "\n",
      "NeymanConstruction: Prog: 6/100 total MC = 78 this test stat = 42.6037\n",
      " mu=-0.89 [-1e+30, 2.51372]  in interval = 0\n",
      "\n",
      "NeymanConstruction: Prog: 7/100 total MC = 78 this test stat = 40.7776\n",
      " mu=-0.87 [-1e+30, 2.23515]  in interval = 0\n",
      "\n",
      "NeymanConstruction: Prog: 8/100 total MC = 78 this test stat = 38.9914\n",
      " mu=-0.85 [-1e+30, 1.58856]  in interval = 0\n",
      "\n",
      "NeymanConstruction: Prog: 9/100 total MC = 78 this test stat = 37.2453\n",
      " mu=-0.83 [-1e+30, 1.81502]  in interval = 0\n",
      "\n",
      "NeymanConstruction: Prog: 10/100 total MC = 78 this test stat = 35.5391\n",
      " mu=-0.81 [-1e+30, 2.60219]  in interval = 0\n",
      "\n",
      "NeymanConstruction: Prog: 11/100 total MC = 78 this test stat = 33.873\n",
      " mu=-0.79 [-1e+30, 1.83579]  in interval = 0\n",
      "\n",
      "NeymanConstruction: Prog: 12/100 total MC = 78 this test stat = 32.2468\n",
      " mu=-0.77 [-1e+30, 1.80677]  in interval = 0\n",
      "\n",
      "NeymanConstruction: Prog: 13/100 total MC = 78 this test stat = 30.6606\n",
      " mu=-0.75 [-1e+30, 2.46798]  in interval = 0\n",
      "\n",
      "NeymanConstruction: Prog: 14/100 total MC = 78 this test stat = 29.1145\n",
      " mu=-0.73 [-1e+30, 1.76469]  in interval = 0\n",
      "\n",
      "NeymanConstruction: Prog: 15/100 total MC = 78 this test stat = 27.6083\n",
      " mu=-0.71 [-1e+30, 2.10923]  in interval = 0\n",
      "\n",
      "NeymanConstruction: Prog: 16/100 total MC = 78 this test stat = 26.1422\n",
      " mu=-0.69 [-1e+30, 1.96368]  in interval = 0\n",
      "\n",
      "NeymanConstruction: Prog: 17/100 total MC = 78 this test stat = 24.716\n",
      " mu=-0.67 [-1e+30, 2.46737]  in interval = 0\n",
      "\n",
      "NeymanConstruction: Prog: 18/100 total MC = 78 this test stat = 23.3298\n",
      " mu=-0.65 [-1e+30, 2.22208]  in interval = 0\n",
      "\n",
      "NeymanConstruction: Prog: 19/100 total MC = 78 this test stat = 21.9837\n",
      " mu=-0.63 [-1e+30, 1.92004]  in interval = 0\n",
      "\n",
      "NeymanConstruction: Prog: 20/100 total MC = 78 this test stat = 20.6775\n",
      " mu=-0.61 [-1e+30, 2.09449]  in interval = 0\n",
      "\n",
      "NeymanConstruction: Prog: 21/100 total MC = 78 this test stat = 19.4114\n",
      " mu=-0.59 [-1e+30, 2.82615]  in interval = 0\n",
      "\n",
      "NeymanConstruction: Prog: 22/100 total MC = 78 this test stat = 18.1852\n",
      " mu=-0.57 [-1e+30, 2.44483]  in interval = 0\n",
      "\n",
      "NeymanConstruction: Prog: 23/100 total MC = 78 this test stat = 16.9991\n",
      " mu=-0.55 [-1e+30, 1.47648]  in interval = 0\n",
      "\n",
      "NeymanConstruction: Prog: 24/100 total MC = 78 this test stat = 15.8529\n",
      " mu=-0.53 [-1e+30, 1.64253]  in interval = 0\n",
      "\n",
      "NeymanConstruction: Prog: 25/100 total MC = 78 this test stat = 14.7467\n",
      " mu=-0.51 [-1e+30, 3.23375]  in interval = 0\n",
      "\n",
      "NeymanConstruction: Prog: 26/100 total MC = 78 this test stat = 13.6806\n",
      " mu=-0.49 [-1e+30, 1.36352]  in interval = 0\n",
      "\n",
      "NeymanConstruction: Prog: 27/100 total MC = 78 this test stat = 12.6544\n",
      " mu=-0.47 [-1e+30, 2.24046]  in interval = 0\n",
      "\n",
      "NeymanConstruction: Prog: 28/100 total MC = 78 this test stat = 11.6683\n",
      " mu=-0.45 [-1e+30, 1.99249]  in interval = 0\n",
      "\n",
      "NeymanConstruction: Prog: 29/100 total MC = 78 this test stat = 10.7221\n",
      " mu=-0.43 [-1e+30, 2.54633]  in interval = 0\n",
      "\n",
      "NeymanConstruction: Prog: 30/100 total MC = 78 this test stat = 9.81595\n",
      " mu=-0.41 [-1e+30, 2.19145]  in interval = 0\n",
      "\n",
      "NeymanConstruction: Prog: 31/100 total MC = 78 this test stat = 8.94979\n",
      " mu=-0.39 [-1e+30, 2.25133]  in interval = 0\n",
      "\n",
      "NeymanConstruction: Prog: 32/100 total MC = 78 this test stat = 8.12363\n",
      " mu=-0.37 [-1e+30, 2.63436]  in interval = 0\n",
      "\n",
      "NeymanConstruction: Prog: 33/100 total MC = 78 this test stat = 7.33748\n",
      " mu=-0.35 [-1e+30, 1.7752]  in interval = 0\n",
      "\n",
      "NeymanConstruction: Prog: 34/100 total MC = 78 this test stat = 6.59132\n",
      " mu=-0.33 [-1e+30, 2.63173]  in interval = 0\n",
      "\n",
      "NeymanConstruction: Prog: 35/100 total MC = 78 this test stat = 5.88516\n",
      " mu=-0.31 [-1e+30, 2.2561]  in interval = 0\n",
      "\n",
      "NeymanConstruction: Prog: 36/100 total MC = 78 this test stat = 5.219\n",
      " mu=-0.29 [-1e+30, 2.0388]  in interval = 0\n",
      "\n",
      "NeymanConstruction: Prog: 37/100 total MC = 234 this test stat = 4.59284\n",
      " mu=-0.27 [-1e+30, 1.92574]  in interval = 0\n",
      "\n",
      "NeymanConstruction: Prog: 38/100 total MC = 78 this test stat = 4.00668\n",
      " mu=-0.25 [-1e+30, 2.51905]  in interval = 0\n",
      "\n",
      "NeymanConstruction: Prog: 39/100 total MC = 234 this test stat = 3.46053\n",
      " mu=-0.23 [-1e+30, 2.20004]  in interval = 0\n",
      "\n",
      "NeymanConstruction: Prog: 40/100 total MC = 234 this test stat = 2.95437\n",
      " mu=-0.21 [-1e+30, 1.49924]  in interval = 0\n",
      "\n",
      "NeymanConstruction: Prog: 41/100 total MC = 234 this test stat = 2.48821\n",
      " mu=-0.19 [-1e+30, 1.88454]  in interval = 0\n",
      "\n",
      "NeymanConstruction: Prog: 42/100 total MC = 78 this test stat = 2.06205\n",
      " mu=-0.17 [-1e+30, 2.92073]  in interval = 1\n",
      "\n",
      "NeymanConstruction: Prog: 43/100 total MC = 234 this test stat = 1.6759\n",
      " mu=-0.15 [-1e+30, 2.19199]  in interval = 1\n",
      "\n",
      "NeymanConstruction: Prog: 44/100 total MC = 78 this test stat = 1.32974\n",
      " mu=-0.13 [-1e+30, 1.94832]  in interval = 1\n",
      "\n",
      "NeymanConstruction: Prog: 45/100 total MC = 78 this test stat = 1.02358\n",
      " mu=-0.11 [-1e+30, 2.16863]  in interval = 1\n",
      "\n",
      "NeymanConstruction: Prog: 46/100 total MC = 78 this test stat = 0.757422\n",
      " mu=-0.09 [-1e+30, 1.46141]  in interval = 1\n",
      "\n",
      "NeymanConstruction: Prog: 47/100 total MC = 78 this test stat = 0.531264\n",
      " mu=-0.07 [-1e+30, 4.11006]  in interval = 1\n",
      "\n",
      "NeymanConstruction: Prog: 48/100 total MC = 78 this test stat = 0.345097\n",
      " mu=-0.05 [-1e+30, 2.11353]  in interval = 1\n",
      "\n",
      "NeymanConstruction: Prog: 49/100 total MC = 78 this test stat = 0.198947\n",
      " mu=-0.03 [-1e+30, 2.38127]  in interval = 1\n",
      "\n",
      "NeymanConstruction: Prog: 50/100 total MC = 78 this test stat = 0.09279\n",
      " mu=-0.01 [-1e+30, 3.0189]  in interval = 1\n",
      "\n",
      "NeymanConstruction: Prog: 51/100 total MC = 78 this test stat = 0.026632\n",
      " mu=0.01 [-1e+30, 2.23448]  in interval = 1\n",
      "\n",
      "NeymanConstruction: Prog: 52/100 total MC = 78 this test stat = 0.000474009\n",
      " mu=0.03 [-1e+30, 2.54313]  in interval = 1\n",
      "\n",
      "NeymanConstruction: Prog: 53/100 total MC = 78 this test stat = 0.014316\n",
      " mu=0.05 [-1e+30, 1.52484]  in interval = 1\n",
      "\n",
      "NeymanConstruction: Prog: 54/100 total MC = 78 this test stat = 0.0681571\n",
      " mu=0.07 [-1e+30, 2.72021]  in interval = 1\n",
      "\n",
      "NeymanConstruction: Prog: 55/100 total MC = 78 this test stat = 0.161992\n",
      " mu=0.09 [-1e+30, 3.26474]  in interval = 1\n",
      "\n",
      "NeymanConstruction: Prog: 56/100 total MC = 78 this test stat = 0.295842\n",
      " mu=0.11 [-1e+30, 2.81134]  in interval = 1\n",
      "\n",
      "NeymanConstruction: Prog: 57/100 total MC = 78 this test stat = 0.469684\n",
      " mu=0.13 [-1e+30, 2.59127]  in interval = 1\n",
      "\n",
      "NeymanConstruction: Prog: 58/100 total MC = 78 this test stat = 0.683526\n",
      " mu=0.15 [-1e+30, 2.60194]  in interval = 1\n",
      "\n",
      "NeymanConstruction: Prog: 59/100 total MC = 78 this test stat = 0.937368\n",
      " mu=0.17 [-1e+30, 1.94974]  in interval = 1\n",
      "\n",
      "NeymanConstruction: Prog: 60/100 total MC = 78 this test stat = 1.23121\n",
      " mu=0.19 [-1e+30, 1.73838]  in interval = 1\n",
      "\n",
      "NeymanConstruction: Prog: 61/100 total MC = 702 this test stat = 1.56505\n",
      " mu=0.21 [-1e+30, 1.73023]  in interval = 1\n",
      "\n",
      "NeymanConstruction: Prog: 62/100 total MC = 78 this test stat = 1.93888\n",
      " mu=0.23 [-1e+30, 3.06401]  in interval = 1\n",
      "\n",
      "NeymanConstruction: Prog: 63/100 total MC = 234 this test stat = 2.35273\n",
      " mu=0.25 [-1e+30, 1.63166]  in interval = 0\n",
      "\n",
      "NeymanConstruction: Prog: 64/100 total MC = 234 this test stat = 2.80658\n",
      " mu=0.27 [-1e+30, 1.83441]  in interval = 0\n",
      "\n",
      "NeymanConstruction: Prog: 65/100 total MC = 234 this test stat = 3.30042\n",
      " mu=0.29 [-1e+30, 2.06725]  in interval = 0\n",
      "\n",
      "NeymanConstruction: Prog: 66/100 total MC = 78 this test stat = 3.83426\n",
      " mu=0.31 [-1e+30, 2.10484]  in interval = 0\n",
      "\n",
      "NeymanConstruction: Prog: 67/100 total MC = 78 this test stat = 4.4081\n",
      " mu=0.33 [-1e+30, 2.1714]  in interval = 0\n",
      "\n",
      "NeymanConstruction: Prog: 68/100 total MC = 78 this test stat = 5.02195\n",
      " mu=0.35 [-1e+30, 2.77418]  in interval = 0\n",
      "\n",
      "NeymanConstruction: Prog: 69/100 total MC = 78 this test stat = 5.67579\n",
      " mu=0.37 [-1e+30, 2.39844]  in interval = 0\n",
      "\n",
      "NeymanConstruction: Prog: 70/100 total MC = 78 this test stat = 6.36963\n",
      " mu=0.39 [-1e+30, 1.83585]  in interval = 0\n",
      "\n",
      "NeymanConstruction: Prog: 71/100 total MC = 78 this test stat = 7.10347\n",
      " mu=0.41 [-1e+30, 1.92776]  in interval = 0\n",
      "\n",
      "NeymanConstruction: Prog: 72/100 total MC = 78 this test stat = 7.87731\n",
      " mu=0.43 [-1e+30, 1.62539]  in interval = 0\n",
      "\n",
      "NeymanConstruction: Prog: 73/100 total MC = 78 this test stat = 8.69116\n",
      " mu=0.45 [-1e+30, 1.57241]  in interval = 0\n",
      "\n",
      "NeymanConstruction: Prog: 74/100 total MC = 78 this test stat = 9.545\n",
      " mu=0.47 [-1e+30, 1.9811]  in interval = 0\n",
      "\n",
      "NeymanConstruction: Prog: 75/100 total MC = 78 this test stat = 10.4388\n",
      " mu=0.49 [-1e+30, 3.71619]  in interval = 0\n",
      "\n",
      "NeymanConstruction: Prog: 76/100 total MC = 78 this test stat = 11.3727\n",
      " mu=0.51 [-1e+30, 2.09734]  in interval = 0\n",
      "\n",
      "NeymanConstruction: Prog: 77/100 total MC = 78 this test stat = 12.3465\n",
      " mu=0.53 [-1e+30, 1.61789]  in interval = 0\n",
      "\n",
      "NeymanConstruction: Prog: 78/100 total MC = 78 this test stat = 13.3604\n",
      " mu=0.55 [-1e+30, 1.75937]  in interval = 0\n",
      "\n",
      "NeymanConstruction: Prog: 79/100 total MC = 78 this test stat = 14.4142\n",
      " mu=0.57 [-1e+30, 2.16051]  in interval = 0\n",
      "\n",
      "NeymanConstruction: Prog: 80/100 total MC = 78 this test stat = 15.5081\n",
      " mu=0.59 [-1e+30, 2.49006]  in interval = 0\n",
      "\n",
      "NeymanConstruction: Prog: 81/100 total MC = 78 this test stat = 16.6419\n",
      " mu=0.61 [-1e+30, 2.15141]  in interval = 0\n",
      "\n",
      "NeymanConstruction: Prog: 82/100 total MC = 78 this test stat = 17.8157\n",
      " mu=0.63 [-1e+30, 2.63832]  in interval = 0\n",
      "\n",
      "NeymanConstruction: Prog: 83/100 total MC = 78 this test stat = 19.0296\n",
      " mu=0.65 [-1e+30, 2.12006]  in interval = 0\n",
      "\n",
      "NeymanConstruction: Prog: 84/100 total MC = 78 this test stat = 20.2834\n",
      " mu=0.67 [-1e+30, 1.70414]  in interval = 0\n",
      "\n",
      "NeymanConstruction: Prog: 85/100 total MC = 78 this test stat = 21.5773\n",
      " mu=0.69 [-1e+30, 2.54958]  in interval = 0\n",
      "\n",
      "NeymanConstruction: Prog: 86/100 total MC = 78 this test stat = 22.9111\n",
      " mu=0.71 [-1e+30, 2.27992]  in interval = 0\n",
      "\n",
      "NeymanConstruction: Prog: 87/100 total MC = 78 this test stat = 24.2849\n",
      " mu=0.73 [-1e+30, 2.99068]  in interval = 0\n",
      "\n",
      "NeymanConstruction: Prog: 88/100 total MC = 78 this test stat = 25.6988\n",
      " mu=0.75 [-1e+30, 1.60655]  in interval = 0\n",
      "\n",
      "NeymanConstruction: Prog: 89/100 total MC = 78 this test stat = 27.1526\n",
      " mu=0.77 [-1e+30, 1.61728]  in interval = 0\n",
      "\n",
      "NeymanConstruction: Prog: 90/100 total MC = 78 this test stat = 28.6465\n",
      " mu=0.79 [-1e+30, 1.92571]  in interval = 0\n",
      "\n",
      "NeymanConstruction: Prog: 91/100 total MC = 78 this test stat = 30.1803\n",
      " mu=0.81 [-1e+30, 1.69221]  in interval = 0\n",
      "\n",
      "NeymanConstruction: Prog: 92/100 total MC = 78 this test stat = 31.7542\n",
      " mu=0.83 [-1e+30, 3.26227]  in interval = 0\n",
      "\n",
      "NeymanConstruction: Prog: 93/100 total MC = 78 this test stat = 33.368\n",
      " mu=0.85 [-1e+30, 1.75583]  in interval = 0\n",
      "\n",
      "NeymanConstruction: Prog: 94/100 total MC = 78 this test stat = 35.0218\n",
      " mu=0.87 [-1e+30, 2.54103]  in interval = 0\n",
      "\n",
      "NeymanConstruction: Prog: 95/100 total MC = 78 this test stat = 36.7157\n",
      " mu=0.89 [-1e+30, 2.267]  in interval = 0\n",
      "\n",
      "NeymanConstruction: Prog: 96/100 total MC = 78 this test stat = 38.4495\n",
      " mu=0.91 [-1e+30, 2.31167]  in interval = 0\n",
      "\n",
      "NeymanConstruction: Prog: 97/100 total MC = 78 this test stat = 40.2234\n",
      " mu=0.93 [-1e+30, 2.24794]  in interval = 0\n",
      "\n",
      "NeymanConstruction: Prog: 98/100 total MC = 78 this test stat = 42.0372\n",
      " mu=0.95 [-1e+30, 1.29779]  in interval = 0\n",
      "\n",
      "NeymanConstruction: Prog: 99/100 total MC = 78 this test stat = 43.891\n",
      " mu=0.97 [-1e+30, 2.00008]  in interval = 0\n",
      "\n",
      "NeymanConstruction: Prog: 100/100 total MC = 78 this test stat = 45.7849\n",
      " mu=0.99 [-1e+30, 1.56062]  in interval = 0\n",
      "\n",
      "[#1] INFO:Eval -- 21 points in interval\n"
     ]
    }
   ],
   "source": [
    "PointSetInterval *interval = (PointSetInterval *)fc.GetInterval();"
   ]
  },
  {
   "cell_type": "markdown",
   "metadata": {},
   "source": [
    "Example use of bayesiancalculator\n",
    " now we also need to specify a prior in the ModelConfig"
   ]
  },
  {
   "cell_type": "code",
   "execution_count": 14,
   "metadata": {
    "collapsed": false
   },
   "outputs": [],
   "source": [
    "wspace->factory(\"Uniform::prior(mu)\");\n",
    "modelConfig->SetPriorPdf(*wspace->pdf(\"prior\"));"
   ]
  },
  {
   "cell_type": "markdown",
   "metadata": {},
   "source": [
    "Example usage of bayesiancalculator"
   ]
  },
  {
   "cell_type": "code",
   "execution_count": 15,
   "metadata": {
    "collapsed": false
   },
   "outputs": [
    {
     "name": "stdout",
     "output_type": "stream",
     "text": [
      "[#1] INFO:Minization -- createNLL picked up cached consraints from workspace with 0 entries\n",
      "[#1] INFO:Eval -- BayesianCalculator::GetPosteriorFunction :  nll value 190.077 poi value = 0.99\n",
      "[#1] INFO:Eval -- BayesianCalculator::GetPosteriorFunction : minimum of NLL vs POI for POI =  0.033079 min NLL = 144.292\n",
      "[#1] INFO:Minization --  Including the following contraint terms in minimization: (prior)\n",
      "[#1] INFO:Minization -- The following global observables have been defined: ()\n",
      "[#1] INFO:Eval -- BayesianCalculator: Compute interval using RooFit:  posteriorPdf + createCdf + RooBrentRootFinder \n",
      "[#1] INFO:Eval -- BayesianCalculator::GetInterval - found a valid interval : [-0.162918 , 0.229076 ]\n"
     ]
    }
   ],
   "source": [
    "BayesianCalculator bc(*data, *modelConfig);\n",
    "bc.SetConfidenceLevel(confidenceLevel);\n",
    "SimpleInterval *bcInt = bc.GetInterval();"
   ]
  },
  {
   "cell_type": "markdown",
   "metadata": {},
   "source": [
    "Example use of mcmcinterval"
   ]
  },
  {
   "cell_type": "code",
   "execution_count": 16,
   "metadata": {
    "collapsed": false
   },
   "outputs": [],
   "source": [
    "MCMCCalculator mc(*data, *modelConfig);\n",
    "mc.SetConfidenceLevel(confidenceLevel);"
   ]
  },
  {
   "cell_type": "markdown",
   "metadata": {},
   "source": [
    "Special options"
   ]
  },
  {
   "cell_type": "code",
   "execution_count": 17,
   "metadata": {
    "collapsed": false
   },
   "outputs": [
    {
     "name": "stdout",
     "output_type": "stream",
     "text": [
      "[#1] INFO:Minization --  Including the following contraint terms in minimization: (prior)\n",
      "[#1] INFO:Minization -- The following global observables have been defined: ()\n",
      "Metropolis-Hastings progress: ....................................................................................................\n",
      "[#1] INFO:Eval -- Proposal acceptance rate: 16.013%\n",
      "[#1] INFO:Eval -- Number of steps in chain: 16013\n"
     ]
    }
   ],
   "source": [
    "mc.SetNumBins(200);              // bins used internally for representing posterior\n",
    "mc.SetNumBurnInSteps(500);       // first N steps to be ignored as burn-in\n",
    "mc.SetNumIters(100000);          // how long to run chain\n",
    "mc.SetLeftSideTailFraction(0.5); // for central interval\n",
    "MCMCInterval *mcInt = mc.GetInterval();"
   ]
  },
  {
   "cell_type": "markdown",
   "metadata": {},
   "source": [
    "For this example we know the expected intervals"
   ]
  },
  {
   "cell_type": "code",
   "execution_count": 18,
   "metadata": {
    "collapsed": false
   },
   "outputs": [],
   "source": [
    "double expectedLL =\n",
    "   data->mean(*x) + ROOT::Math::normal_quantile((1 - confidenceLevel) / 2, 1) / sqrt(data->numEntries());\n",
    "double expectedUL =\n",
    "   data->mean(*x) + ROOT::Math::normal_quantile_c((1 - confidenceLevel) / 2, 1) / sqrt(data->numEntries());"
   ]
  },
  {
   "cell_type": "markdown",
   "metadata": {},
   "source": [
    "Use the intervals"
   ]
  },
  {
   "cell_type": "code",
   "execution_count": 19,
   "metadata": {
    "collapsed": false
   },
   "outputs": [
    {
     "name": "stdout",
     "output_type": "stream",
     "text": [
      "expected interval is [-1.42571, -1.03372]\n",
      "plc interval is [-0.162917, 0.229075]\n",
      "fc interval is [-0.17 , 0.23]\n",
      "bc interval is [-0.162918, 0.229076]\n",
      "mc interval is [-0.166999, 0.230224]\n",
      "is mu=0 in the interval? 1\n"
     ]
    }
   ],
   "source": [
    "std::cout << \"expected interval is [\" << expectedLL << \", \" << expectedUL << \"]\" << endl;\n",
    "\n",
    "cout << \"plc interval is [\" << plInt->LowerLimit(*mu) << \", \" << plInt->UpperLimit(*mu) << \"]\" << endl;\n",
    "\n",
    "std::cout << \"fc interval is [\" << interval->LowerLimit(*mu) << \" , \" << interval->UpperLimit(*mu) << \"]\" << endl;\n",
    "\n",
    "cout << \"bc interval is [\" << bcInt->LowerLimit() << \", \" << bcInt->UpperLimit() << \"]\" << endl;\n",
    "\n",
    "cout << \"mc interval is [\" << mcInt->LowerLimit(*mu) << \", \" << mcInt->UpperLimit(*mu) << \"]\" << endl;\n",
    "\n",
    "mu->setVal(0);\n",
    "cout << \"is mu=0 in the interval? \" << plInt->IsInInterval(RooArgSet(*mu)) << endl;"
   ]
  },
  {
   "cell_type": "markdown",
   "metadata": {},
   "source": [
    "Make a reasonable style"
   ]
  },
  {
   "cell_type": "code",
   "execution_count": 20,
   "metadata": {
    "collapsed": false
   },
   "outputs": [],
   "source": [
    "gStyle->SetCanvasColor(0);\n",
    "gStyle->SetCanvasBorderMode(0);\n",
    "gStyle->SetPadBorderMode(0);\n",
    "gStyle->SetPadColor(0);\n",
    "gStyle->SetCanvasColor(0);\n",
    "gStyle->SetTitleFillColor(0);\n",
    "gStyle->SetFillColor(0);\n",
    "gStyle->SetFrameFillColor(0);\n",
    "gStyle->SetStatColor(0);"
   ]
  },
  {
   "cell_type": "markdown",
   "metadata": {},
   "source": [
    "Some plots"
   ]
  },
  {
   "cell_type": "code",
   "execution_count": 21,
   "metadata": {
    "collapsed": false
   },
   "outputs": [],
   "source": [
    "TCanvas *canvas = new TCanvas(\"canvas\");\n",
    "canvas->Divide(2, 2);"
   ]
  },
  {
   "cell_type": "markdown",
   "metadata": {},
   "source": [
    "Plot the data"
   ]
  },
  {
   "cell_type": "code",
   "execution_count": 22,
   "metadata": {
    "collapsed": false
   },
   "outputs": [],
   "source": [
    "canvas->cd(1);\n",
    "RooPlot *frame = x->frame();\n",
    "data->plotOn(frame);\n",
    "data->statOn(frame);\n",
    "frame->Draw();"
   ]
  },
  {
   "cell_type": "markdown",
   "metadata": {},
   "source": [
    "Plot the profile likelihood"
   ]
  },
  {
   "cell_type": "code",
   "execution_count": 23,
   "metadata": {
    "collapsed": false
   },
   "outputs": [
    {
     "name": "stdout",
     "output_type": "stream",
     "text": [
      ".\n",
      "[#1] INFO:Minization -- RooProfileLL::evaluate(nll_normal_normalData_Profile[mu]) Creating instance of MINUIT\n",
      "[#1] INFO:Minization -- RooProfileLL::evaluate(nll_normal_normalData_Profile[mu]) determining minimum likelihood for current configurations w.r.t all observable\n",
      "[#0] ERROR:InputArguments -- RooArgSet::checkForDup: ERROR argument with name mu is already in this set\n",
      "[#1] INFO:Minization -- RooProfileLL::evaluate(nll_normal_normalData_Profile[mu]) minimum found at (mu=0.033079)\n",
      ".........................................................................................................................................................................................................."
     ]
    }
   ],
   "source": [
    "canvas->cd(2);\n",
    "LikelihoodIntervalPlot plot(plInt);\n",
    "plot.Draw();"
   ]
  },
  {
   "cell_type": "markdown",
   "metadata": {},
   "source": [
    "Plot the mcmc interval"
   ]
  },
  {
   "cell_type": "code",
   "execution_count": 24,
   "metadata": {
    "collapsed": false
   },
   "outputs": [
    {
     "name": "stdout",
     "output_type": "stream",
     "text": [
      "Real time 0:00:20, CP time 18.430\n"
     ]
    }
   ],
   "source": [
    "canvas->cd(3);\n",
    "MCMCIntervalPlot *mcPlot = new MCMCIntervalPlot(*mcInt);\n",
    "mcPlot->SetLineColor(kGreen);\n",
    "mcPlot->SetLineWidth(2);\n",
    "mcPlot->Draw();\n",
    "\n",
    "canvas->cd(4);\n",
    "RooPlot *bcPlot = bc.GetPosteriorPlot();\n",
    "bcPlot->Draw();\n",
    "\n",
    "canvas->Update();\n",
    "\n",
    "t.Stop();\n",
    "t.Print();"
   ]
  },
  {
   "cell_type": "markdown",
   "metadata": {},
   "source": [
    "Draw all canvases "
   ]
  },
  {
   "cell_type": "code",
   "execution_count": 25,
   "metadata": {
    "collapsed": false
   },
   "outputs": [
    {
     "data": {
      "image/png": "[encoded data removed]",
      "text/plain": [
       "<IPython.core.display.Image object>"
      ]
     },
     "metadata": {},
     "output_type": "display_data"
    }
   ],
   "source": [
    "gROOT->GetListOfCanvases()->Draw()"
   ]
  }
 ],
 "metadata": {
  "kernelspec": {
   "display_name": "ROOT C++",
   "language": "c++",
   "name": "root"
  },
  "language_info": {
   "codemirror_mode": "text/x-c++src",
   "file_extension": ".C",
   "mimetype": " text/x-c++src",
   "name": "c++"
  }
 },
 "nbformat": 4,
 "nbformat_minor": 2
}
