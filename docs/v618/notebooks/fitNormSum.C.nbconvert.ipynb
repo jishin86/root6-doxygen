{
 "cells": [
  {
   "cell_type": "markdown",
   "metadata": {},
   "source": [
    "# Fit Norm Sum\n",
    "Tutorial for normalized sum of two functions\n",
    "Here: a background exponential and a crystalball function\n",
    "Parameters can be set:\n",
    " 1.   with the TF1 object before adding the function (for 3) and 4))\n",
    " 2.  with the TF1NormSum object (first two are the coefficients, then the non constant parameters)\n",
    " 3. with the TF1 object after adding the function\n",
    "\n",
    "Sum can be constructed by:\n",
    " 1. by a string containing the names of the functions and/or the coefficient in front\n",
    " 2. by a string containg formulas like expo, gaus...\n",
    " 3. by the list of functions and coefficients (which are 1 by default)\n",
    " 4. by a std::vector for functions and coefficients\n",
    "\n",
    "\n",
    "\n",
    "\n",
    "**Author:** Lorenzo Moneta  \n",
    "<i><small>This notebook tutorial was automatically generated with <a href= \"https://github.com/root-project/root/blob/master/documentation/doxygen/converttonotebook.py\">ROOTBOOK-izer</a> from the macro found in the ROOT repository  on Thursday, August 29, 2019 at 01:30 AM.</small></i>"
   ]
  },
  {
   "cell_type": "code",
   "execution_count": 1,
   "metadata": {
    "collapsed": false
   },
   "outputs": [],
   "source": [
    "%%cpp -d\n",
    "#include <TMath.h>\n",
    "#include <TCanvas.h>\n",
    "#include <TF1NormSum.h>\n",
    "#include <TF1.h>\n",
    "#include <TH1.h>\n",
    "\n",
    "\n",
    "using namespace std;"
   ]
  },
  {
   "cell_type": "code",
   "execution_count": 2,
   "metadata": {
    "collapsed": false
   },
   "outputs": [],
   "source": [
    "const int nsig = 5.E4;\n",
    "const int nbkg = 1.e6;\n",
    "Int_t NEvents = nsig+nbkg;\n",
    "Int_t NBins   = 1e3;\n",
    "\n",
    "double signal_mean = 3;\n",
    "TF1 *f_cb    = new TF1(\"MyCrystalBall\",\"crystalball\",-5.,5.);\n",
    "TF1 *f_exp   = new TF1(\"MyExponential\",\"expo\",-5.,5.);"
   ]
  },
  {
   "cell_type": "markdown",
   "metadata": {},
   "source": [
    "I.:"
   ]
  },
  {
   "cell_type": "code",
   "execution_count": 3,
   "metadata": {
    "collapsed": false
   },
   "outputs": [],
   "source": [
    "f_exp-> SetParameters(1.,-0.3);\n",
    "f_cb -> SetParameters(1,signal_mean,0.3,2,1.5);"
   ]
  },
  {
   "cell_type": "markdown",
   "metadata": {},
   "source": [
    "Construction of the tf1normsum object ........................................\n",
    " 1) :"
   ]
  },
  {
   "cell_type": "code",
   "execution_count": 4,
   "metadata": {
    "collapsed": false
   },
   "outputs": [],
   "source": [
    "TF1NormSum *fnorm_exp_cb = new TF1NormSum(f_cb,f_exp,nsig,nbkg);"
   ]
  },
  {
   "cell_type": "markdown",
   "metadata": {},
   "source": [
    "4) :"
   ]
  },
  {
   "cell_type": "code",
   "execution_count": 5,
   "metadata": {
    "collapsed": false
   },
   "outputs": [
    {
     "name": "stderr",
     "output_type": "stream",
     "text": [
      "Info in <TCanvas::MakeDefCanvas>:  created default TCanvas with name c1\n"
     ]
    }
   ],
   "source": [
    "TF1   * f_sum = new TF1(\"fsum\", *fnorm_exp_cb, -5., 5., fnorm_exp_cb->GetNpar());\n",
    "f_sum->Draw();"
   ]
  },
  {
   "cell_type": "markdown",
   "metadata": {},
   "source": [
    "Iii.:"
   ]
  },
  {
   "cell_type": "code",
   "execution_count": 6,
   "metadata": {
    "collapsed": false
   },
   "outputs": [],
   "source": [
    "f_sum->SetParameters( fnorm_exp_cb->GetParameters().data() );\n",
    "f_sum->SetParName(1,\"NBackground\");\n",
    "f_sum->SetParName(0,\"NSignal\");\n",
    "for (int i = 2; i < f_sum->GetNpar(); ++i)\n",
    "   f_sum->SetParName(i,fnorm_exp_cb->GetParName(i) );"
   ]
  },
  {
   "cell_type": "markdown",
   "metadata": {},
   "source": [
    "Generate histogram to fit .............................................................."
   ]
  },
  {
   "cell_type": "code",
   "execution_count": 7,
   "metadata": {
    "collapsed": false
   },
   "outputs": [
    {
     "name": "stdout",
     "output_type": "stream",
     "text": [
      "Time to generate 1050000 events:  Real time 0:00:00, CP time 0.150\n"
     ]
    }
   ],
   "source": [
    "TStopwatch w;\n",
    "w.Start();\n",
    "TH1D *h_sum = new TH1D(\"h_ExpCB\", \"Exponential Bkg + CrystalBall function\", NBins, -5., 5.);\n",
    "for (int i=0; i<NEvents; i++)\n",
    "{\n",
    "   h_sum -> Fill(f_sum -> GetRandom());\n",
    "}\n",
    "printf(\"Time to generate %d events:  \",NEvents);\n",
    "w.Print();"
   ]
  },
  {
   "cell_type": "markdown",
   "metadata": {},
   "source": [
    "Th1f *h_orig = new th1f(*h_sum);"
   ]
  },
  {
   "cell_type": "markdown",
   "metadata": {},
   "source": [
    "Need to scale histogram with width since we are fitting a density"
   ]
  },
  {
   "cell_type": "code",
   "execution_count": 8,
   "metadata": {
    "collapsed": false
   },
   "outputs": [],
   "source": [
    "h_sum -> Sumw2();\n",
    "h_sum -> Scale(1., \"width\");"
   ]
  },
  {
   "cell_type": "markdown",
   "metadata": {},
   "source": [
    "Fit - use minuit2 if available"
   ]
  },
  {
   "cell_type": "code",
   "execution_count": 9,
   "metadata": {
    "collapsed": false
   },
   "outputs": [],
   "source": [
    "ROOT::Math::MinimizerOptions::SetDefaultMinimizer(\"Minuit2\");\n",
    "new TCanvas(\"Fit\",\"Fit\",800,1000);"
   ]
  },
  {
   "cell_type": "markdown",
   "metadata": {},
   "source": [
    "Do a least-square fit of the spectrum"
   ]
  },
  {
   "cell_type": "code",
   "execution_count": 10,
   "metadata": {
    "collapsed": false
   },
   "outputs": [
    {
     "name": "stdout",
     "output_type": "stream",
     "text": [
      "\n",
      "****************************************\n",
      "Minimizer is Minuit2 / Migrad\n",
      "Chi2                      =      1021.04\n",
      "NDf                       =          993\n",
      "Edm                       =  8.20994e-06\n",
      "NCalls                    =          233\n",
      "NSignal                   =        50083   +/-   1235.87     \n",
      "NBackground               =       998896   +/-   1573.51     \n",
      "Mean                      =      2.99897   +/-   0.00224467  \n",
      "Sigma                     =     0.297886   +/-   0.00230899  \n",
      "Alpha                     =      2.12449   +/-   0.140023    \n",
      "N                         =      1.15624   +/-   0.474844    \n",
      "Slope                     =    -0.300343   +/-   0.000644416 \n",
      "Time to fit using ROOT TF1Normsum: Real time 0:00:00, CP time 0.150\n"
     ]
    }
   ],
   "source": [
    "auto result = h_sum -> Fit(\"fsum\",\"SQ\");\n",
    "result->Print();\n",
    "h_sum -> Draw();\n",
    "printf(\"Time to fit using ROOT TF1Normsum: \");\n",
    "w.Print();"
   ]
  },
  {
   "cell_type": "markdown",
   "metadata": {},
   "source": [
    "Test if parameters are fine"
   ]
  },
  {
   "cell_type": "code",
   "execution_count": 11,
   "metadata": {
    "collapsed": false
   },
   "outputs": [],
   "source": [
    "std::vector<double>  pref = {nsig, nbkg, signal_mean};\n",
    "for (unsigned int i = 0; i< pref.size(); ++i)  {\n",
    "   if (!TMath::AreEqualAbs(pref[i], f_sum->GetParameter(i), f_sum->GetParError(i)*10.) )\n",
    "      Error(\"testFitNormSum\",\"Difference found in fitted %s - difference is %g sigma\",f_sum->GetParName(i), (f_sum->GetParameter(i)-pref[i])/f_sum->GetParError(i));\n",
    "}\n",
    "\n",
    "gStyle->SetOptStat(0);"
   ]
  },
  {
   "cell_type": "markdown",
   "metadata": {},
   "source": [
    "Add parameters"
   ]
  },
  {
   "cell_type": "code",
   "execution_count": 12,
   "metadata": {
    "collapsed": false
   },
   "outputs": [],
   "source": [
    "auto t1 = new TLatex(-2.5, 300000, TString::Format(\"%s = %8.0f #pm %4.0f\", \"NSignal\",f_sum->GetParameter(0), f_sum->GetParError(0) ) );\n",
    "auto t2 = new TLatex(-2.5, 270000, TString::Format(\"%s = %8.0f #pm %4.0f\", \"Nbackgr\",f_sum->GetParameter(1), f_sum->GetParError(1) ) );\n",
    "t1->Draw();\n",
    "t2->Draw();"
   ]
  },
  {
   "cell_type": "markdown",
   "metadata": {},
   "source": [
    "Draw all canvases "
   ]
  },
  {
   "cell_type": "code",
   "execution_count": 13,
   "metadata": {
    "collapsed": false
   },
   "outputs": [
    {
     "data": {
      "image/png": "[encoded data removed]",
      "text/plain": [
       "<IPython.core.display.Image object>"
      ]
     },
     "metadata": {},
     "output_type": "display_data"
    },
    {
     "data": {
      "image/png": "[encoded data removed]",
      "text/plain": [
       "<IPython.core.display.Image object>"
      ]
     },
     "metadata": {},
     "output_type": "display_data"
    }
   ],
   "source": [
    "gROOT->GetListOfCanvases()->Draw()"
   ]
  }
 ],
 "metadata": {
  "kernelspec": {
   "display_name": "ROOT C++",
   "language": "c++",
   "name": "root"
  },
  "language_info": {
   "codemirror_mode": "text/x-c++src",
   "file_extension": ".C",
   "mimetype": " text/x-c++src",
   "name": "c++"
  }
 },
 "nbformat": 4,
 "nbformat_minor": 2
}
