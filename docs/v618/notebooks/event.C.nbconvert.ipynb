{
 "cells": [
  {
   "cell_type": "markdown",
   "metadata": {},
   "source": [
    "# Event\n",
    "Illustrate some basic primitives.\n",
    "\n",
    "\n",
    "\n",
    "\n",
    "**Author:** Rene Brun  \n",
    "<i><small>This notebook tutorial was automatically generated with <a href= \"https://github.com/root-project/root/blob/master/documentation/doxygen/converttonotebook.py\">ROOTBOOK-izer</a> from the macro found in the ROOT repository  on Thursday, August 29, 2019 at 01:39 AM.</small></i>"
   ]
  },
  {
   "cell_type": "code",
   "execution_count": 1,
   "metadata": {
    "collapsed": false
   },
   "outputs": [],
   "source": [
    "TCanvas *c1 = new TCanvas(\"c1\",\"ROOT Event description\",700,500);\n",
    "c1->Range(0,0,14,15.5);\n",
    "TPaveText *event = new TPaveText(1,13,3,15);\n",
    "event->SetFillColor(11);\n",
    "event->Draw();\n",
    "event->AddText(\"Event\");\n",
    "TLine *line = new TLine(1.1,13,1.1,1.5);\n",
    "line->SetLineWidth(2);\n",
    "line->Draw();\n",
    "line->DrawLine(1.3,13,1.3,3.5);\n",
    "line->DrawLine(1.5,13,1.5,5.5);\n",
    "line->DrawLine(1.7,13,1.7,7.5);\n",
    "line->DrawLine(1.9,13,1.9,9.5);\n",
    "line->DrawLine(2.1,13,2.1,11.5);\n",
    "TArrow *arrow = new TArrow(1.1,1.5,3.9,1.5,0.02,\"|>\");\n",
    "arrow->SetFillStyle(1001);\n",
    "arrow->SetFillColor(1);\n",
    "arrow->Draw();\n",
    "arrow->DrawArrow(1.3,3.5,3.9,3.5,0.02,\"|>\");\n",
    "arrow->DrawArrow(1.5,5.5,3.9,5.5,0.02,\"|>\");\n",
    "arrow->DrawArrow(1.7,7.5,3.9,7.5,0.02,\"|>\");\n",
    "arrow->DrawArrow(1.9,9.5,3.9,9.5,0.02,\"|>\");\n",
    "arrow->DrawArrow(2.1,11.5,3.9,11.5,0.02,\"|>\");\n",
    "TPaveText *p1 = new TPaveText(4,1,11,2);\n",
    "p1->SetTextAlign(12);\n",
    "p1->SetFillColor(42);\n",
    "p1->AddText(\"1 Mbyte\");\n",
    "p1->Draw();\n",
    "TPaveText *p2 = new TPaveText(4,3,10,4);\n",
    "p2->SetTextAlign(12);\n",
    "p2->SetFillColor(42);\n",
    "p2->AddText(\"100 Kbytes\");\n",
    "p2->Draw();\n",
    "TPaveText *p3 = new TPaveText(4,5,9,6);\n",
    "p3->SetTextAlign(12);\n",
    "p3->SetFillColor(42);\n",
    "p3->AddText(\"10 Kbytes\");\n",
    "p3->Draw();\n",
    "TPaveText *p4 = new TPaveText(4,7,8,8);\n",
    "p4->SetTextAlign(12);\n",
    "p4->SetFillColor(42);\n",
    "p4->AddText(\"1 Kbytes\");\n",
    "p4->Draw();\n",
    "TPaveText *p5 = new TPaveText(4,9,7,10);\n",
    "p5->SetTextAlign(12);\n",
    "p5->SetFillColor(42);\n",
    "p5->AddText(\"100 bytes\");\n",
    "p5->Draw();\n",
    "TPaveText *p6 = new TPaveText(4,11,6,12);\n",
    "p6->SetTextAlign(12);\n",
    "p6->SetFillColor(42);\n",
    "p6->AddText(\"10 bytes\");\n",
    "p6->Draw();\n",
    "TText *text = new TText();\n",
    "text->SetTextAlign(12);\n",
    "text->SetTextSize(0.04);\n",
    "text->SetTextFont(72);\n",
    "text->DrawText(6.2,11.5,\"Header:Event_flag\");\n",
    "text->DrawText(7.2,9.5,\"Trigger_Info\");\n",
    "text->DrawText(8.2,7.5,\"Muon_Detector: TOF\");\n",
    "text->DrawText(9.2,5.5,\"Calorimeters\");\n",
    "text->DrawText(10.2,3.5,\"Forward_Detectors\");\n",
    "text->DrawText(11.2,1.5,\"TPCs\");"
   ]
  },
  {
   "cell_type": "markdown",
   "metadata": {},
   "source": [
    "Draw all canvases "
   ]
  },
  {
   "cell_type": "code",
   "execution_count": 2,
   "metadata": {
    "collapsed": false
   },
   "outputs": [
    {
     "data": {
      "text/html": [
       "\n",
       "<div id=\"root_plot_1\"\n",
       "     style=\"width: 696px; height: 472px\">\n",
       "</div>\n",
       "\n",
       "<script>\n",
       " requirejs.config({\n",
       "     paths: {\n",
       "       'JSRootCore' : 'https://root.cern.ch/js/notebook//scripts/JSRootCore',\n",
       "     }\n",
       "   });\n",
       " require(['JSRootCore'],\n",
       "     function(Core) {\n",
       "       var obj = Core.JSONR_unref({\"_typename\":\"TCanvas\",\"fUniqueID\":0,\"fBits\":53673992,\"fLineColor\":1,\"fLineStyle\":1,\"fLineWidth\":1,\"fFillColor\":0,\"fFillStyle\":1001,\"fLeftMargin\":0.1,\"fRightMargin\":0.1,\"fBottomMargin\":0.1,\"fTopMargin\":0.1,\"fXfile\":2,\"fYfile\":2,\"fAfile\":1,\"fXstat\":0.99,\"fYstat\":0.99,\"fAstat\":2,\"fFrameFillColor\":0,\"fFrameLineColor\":1,\"fFrameFillStyle\":1001,\"fFrameLineStyle\":1,\"fFrameLineWidth\":1,\"fFrameBorderSize\":1,\"fFrameBorderMode\":0,\"fX1\":0,\"fY1\":0,\"fX2\":14,\"fY2\":15.5,\"fXtoAbsPixelk\":5e-5,\"fXtoPixelk\":5e-5,\"fXtoPixel\":49.7142857142857,\"fYtoAbsPixelk\":472.00005,\"fYtoPixelk\":472.00005,\"fYtoPixel\":-30.4516129032258,\"fUtoAbsPixelk\":5e-5,\"fUtoPixelk\":5e-5,\"fUtoPixel\":696,\"fVtoAbsPixelk\":472.00005,\"fVtoPixelk\":472,\"fVtoPixel\":-472,\"fAbsPixeltoXk\":0,\"fPixeltoXk\":0,\"fPixeltoX\":0.0201149425287356,\"fAbsPixeltoYk\":15.5,\"fPixeltoYk\":0,\"fPixeltoY\":-0.0328389830508475,\"fXlowNDC\":0,\"fYlowNDC\":0,\"fXUpNDC\":0,\"fYUpNDC\":0,\"fWNDC\":1,\"fHNDC\":1,\"fAbsXlowNDC\":0,\"fAbsYlowNDC\":0,\"fAbsWNDC\":1,\"fAbsHNDC\":1,\"fUxmin\":0,\"fUymin\":0,\"fUxmax\":14,\"fUymax\":15.5,\"fTheta\":30,\"fPhi\":30,\"fAspectRatio\":0,\"fNumber\":0,\"fTickx\":0,\"fTicky\":0,\"fLogx\":0,\"fLogy\":0,\"fLogz\":0,\"fPadPaint\":0,\"fCrosshair\":0,\"fCrosshairPos\":0,\"fBorderSize\":2,\"fBorderMode\":0,\"fModified\":false,\"fGridx\":false,\"fGridy\":false,\"fAbsCoord\":false,\"fEditable\":true,\"fFixedAspectRatio\":false,\"fPrimitives\":{\"_typename\":\"TList\",\"name\":\"TList\",\"arr\":[{\"_typename\":\"TPaveText\",\"fUniqueID\":0,\"fBits\":50331656,\"fLineColor\":1,\"fLineStyle\":1,\"fLineWidth\":1,\"fFillColor\":11,\"fFillStyle\":1001,\"fX1\":1,\"fY1\":13,\"fX2\":3,\"fY2\":15,\"fX1NDC\":0.0714285714285714,\"fY1NDC\":0.838709677419355,\"fX2NDC\":0.214285714285714,\"fY2NDC\":0.967741935483871,\"fBorderSize\":4,\"fInit\":1,\"fShadowColor\":1,\"fCornerRadius\":0,\"fOption\":\"br\",\"fName\":\"TPave\",\"fTextAngle\":0,\"fTextSize\":0,\"fTextAlign\":22,\"fTextColor\":1,\"fTextFont\":62,\"fLabel\":\"\",\"fLongest\":5,\"fMargin\":0.05,\"fLines\":{\"_typename\":\"TList\",\"name\":\"TList\",\"arr\":[{\"_typename\":\"TLatex\",\"fUniqueID\":0,\"fBits\":50331648,\"fName\":\"\",\"fTitle\":\"Event\",\"fTextAngle\":0,\"fTextSize\":0,\"fTextAlign\":0,\"fTextColor\":0,\"fTextFont\":0,\"fX\":0,\"fY\":0,\"fLineColor\":1,\"fLineStyle\":1,\"fLineWidth\":2,\"fLimitFactorSize\":3,\"fOriginSize\":0.109677419066429}],\"opt\":[\"\"]}},{\"_typename\":\"TLine\",\"fUniqueID\":0,\"fBits\":50331656,\"fLineColor\":1,\"fLineStyle\":1,\"fLineWidth\":2,\"fX1\":1.1,\"fY1\":13,\"fX2\":1.1,\"fY2\":1.5},{\"_typename\":\"TLine\",\"fUniqueID\":0,\"fBits\":50331657,\"fLineColor\":1,\"fLineStyle\":1,\"fLineWidth\":2,\"fX1\":1.3,\"fY1\":13,\"fX2\":1.3,\"fY2\":3.5},{\"_typename\":\"TLine\",\"fUniqueID\":0,\"fBits\":50331657,\"fLineColor\":1,\"fLineStyle\":1,\"fLineWidth\":2,\"fX1\":1.5,\"fY1\":13,\"fX2\":1.5,\"fY2\":5.5},{\"_typename\":\"TLine\",\"fUniqueID\":0,\"fBits\":50331657,\"fLineColor\":1,\"fLineStyle\":1,\"fLineWidth\":2,\"fX1\":1.7,\"fY1\":13,\"fX2\":1.7,\"fY2\":7.5},{\"_typename\":\"TLine\",\"fUniqueID\":0,\"fBits\":50331657,\"fLineColor\":1,\"fLineStyle\":1,\"fLineWidth\":2,\"fX1\":1.9,\"fY1\":13,\"fX2\":1.9,\"fY2\":9.5},{\"_typename\":\"TLine\",\"fUniqueID\":0,\"fBits\":50331657,\"fLineColor\":1,\"fLineStyle\":1,\"fLineWidth\":2,\"fX1\":2.1,\"fY1\":13,\"fX2\":2.1,\"fY2\":11.5},{\"_typename\":\"TArrow\",\"fUniqueID\":0,\"fBits\":50331656,\"fLineColor\":1,\"fLineStyle\":1,\"fLineWidth\":1,\"fX1\":1.1,\"fY1\":1.5,\"fX2\":3.9,\"fY2\":1.5,\"fFillColor\":1,\"fFillStyle\":1001,\"fAngle\":60,\"fArrowSize\":0.02,\"fOption\":\"|>\"},{\"_typename\":\"TArrow\",\"fUniqueID\":0,\"fBits\":50331657,\"fLineColor\":1,\"fLineStyle\":1,\"fLineWidth\":1,\"fX1\":1.3,\"fY1\":3.5,\"fX2\":3.9,\"fY2\":3.5,\"fFillColor\":1,\"fFillStyle\":1001,\"fAngle\":60,\"fArrowSize\":0.02,\"fOption\":\"|>\"},{\"_typename\":\"TArrow\",\"fUniqueID\":0,\"fBits\":50331657,\"fLineColor\":1,\"fLineStyle\":1,\"fLineWidth\":1,\"fX1\":1.5,\"fY1\":5.5,\"fX2\":3.9,\"fY2\":5.5,\"fFillColor\":1,\"fFillStyle\":1001,\"fAngle\":60,\"fArrowSize\":0.02,\"fOption\":\"|>\"},{\"_typename\":\"TArrow\",\"fUniqueID\":0,\"fBits\":50331657,\"fLineColor\":1,\"fLineStyle\":1,\"fLineWidth\":1,\"fX1\":1.7,\"fY1\":7.5,\"fX2\":3.9,\"fY2\":7.5,\"fFillColor\":1,\"fFillStyle\":1001,\"fAngle\":60,\"fArrowSize\":0.02,\"fOption\":\"|>\"},{\"_typename\":\"TArrow\",\"fUniqueID\":0,\"fBits\":50331657,\"fLineColor\":1,\"fLineStyle\":1,\"fLineWidth\":1,\"fX1\":1.9,\"fY1\":9.5,\"fX2\":3.9,\"fY2\":9.5,\"fFillColor\":1,\"fFillStyle\":1001,\"fAngle\":60,\"fArrowSize\":0.02,\"fOption\":\"|>\"},{\"_typename\":\"TArrow\",\"fUniqueID\":0,\"fBits\":50331657,\"fLineColor\":1,\"fLineStyle\":1,\"fLineWidth\":1,\"fX1\":2.1,\"fY1\":11.5,\"fX2\":3.9,\"fY2\":11.5,\"fFillColor\":1,\"fFillStyle\":1001,\"fAngle\":60,\"fArrowSize\":0.02,\"fOption\":\"|>\"},{\"_typename\":\"TPaveText\",\"fUniqueID\":0,\"fBits\":50331656,\"fLineColor\":1,\"fLineStyle\":1,\"fLineWidth\":1,\"fFillColor\":42,\"fFillStyle\":1001,\"fX1\":4,\"fY1\":1,\"fX2\":11,\"fY2\":2,\"fX1NDC\":0.285714285714286,\"fY1NDC\":0.0645161290322581,\"fX2NDC\":0.785714285714286,\"fY2NDC\":0.129032258064516,\"fBorderSize\":4,\"fInit\":1,\"fShadowColor\":1,\"fCornerRadius\":0,\"fOption\":\"br\",\"fName\":\"TPave\",\"fTextAngle\":0,\"fTextSize\":0,\"fTextAlign\":12,\"fTextColor\":1,\"fTextFont\":62,\"fLabel\":\"\",\"fLongest\":7,\"fMargin\":0.05,\"fLines\":{\"_typename\":\"TList\",\"name\":\"TList\",\"arr\":[{\"_typename\":\"TLatex\",\"fUniqueID\":0,\"fBits\":50331648,\"fName\":\"\",\"fTitle\":\"1 Mbyte\",\"fTextAngle\":0,\"fTextSize\":0,\"fTextAlign\":0,\"fTextColor\":0,\"fTextFont\":0,\"fX\":0,\"fY\":0,\"fLineColor\":1,\"fLineStyle\":1,\"fLineWidth\":2,\"fLimitFactorSize\":3,\"fOriginSize\":0.0548387095332146}],\"opt\":[\"\"]}},{\"_typename\":\"TPaveText\",\"fUniqueID\":0,\"fBits\":50331656,\"fLineColor\":1,\"fLineStyle\":1,\"fLineWidth\":1,\"fFillColor\":42,\"fFillStyle\":1001,\"fX1\":4,\"fY1\":3,\"fX2\":10,\"fY2\":4,\"fX1NDC\":0.285714285714286,\"fY1NDC\":0.193548387096774,\"fX2NDC\":0.714285714285714,\"fY2NDC\":0.258064516129032,\"fBorderSize\":4,\"fInit\":1,\"fShadowColor\":1,\"fCornerRadius\":0,\"fOption\":\"br\",\"fName\":\"TPave\",\"fTextAngle\":0,\"fTextSize\":0,\"fTextAlign\":12,\"fTextColor\":1,\"fTextFont\":62,\"fLabel\":\"\",\"fLongest\":10,\"fMargin\":0.05,\"fLines\":{\"_typename\":\"TList\",\"name\":\"TList\",\"arr\":[{\"_typename\":\"TLatex\",\"fUniqueID\":0,\"fBits\":50331648,\"fName\":\"\",\"fTitle\":\"100 Kbytes\",\"fTextAngle\":0,\"fTextSize\":0,\"fTextAlign\":0,\"fTextColor\":0,\"fTextFont\":0,\"fX\":0,\"fY\":0,\"fLineColor\":1,\"fLineStyle\":1,\"fLineWidth\":2,\"fLimitFactorSize\":3,\"fOriginSize\":0.0548387095332146}],\"opt\":[\"\"]}},{\"_typename\":\"TPaveText\",\"fUniqueID\":0,\"fBits\":50331656,\"fLineColor\":1,\"fLineStyle\":1,\"fLineWidth\":1,\"fFillColor\":42,\"fFillStyle\":1001,\"fX1\":4,\"fY1\":5,\"fX2\":9,\"fY2\":6,\"fX1NDC\":0.285714285714286,\"fY1NDC\":0.32258064516129,\"fX2NDC\":0.642857142857143,\"fY2NDC\":0.387096774193548,\"fBorderSize\":4,\"fInit\":1,\"fShadowColor\":1,\"fCornerRadius\":0,\"fOption\":\"br\",\"fName\":\"TPave\",\"fTextAngle\":0,\"fTextSize\":0,\"fTextAlign\":12,\"fTextColor\":1,\"fTextFont\":62,\"fLabel\":\"\",\"fLongest\":9,\"fMargin\":0.05,\"fLines\":{\"_typename\":\"TList\",\"name\":\"TList\",\"arr\":[{\"_typename\":\"TLatex\",\"fUniqueID\":0,\"fBits\":50331648,\"fName\":\"\",\"fTitle\":\"10 Kbytes\",\"fTextAngle\":0,\"fTextSize\":0,\"fTextAlign\":0,\"fTextColor\":0,\"fTextFont\":0,\"fX\":0,\"fY\":0,\"fLineColor\":1,\"fLineStyle\":1,\"fLineWidth\":2,\"fLimitFactorSize\":3,\"fOriginSize\":0.0548387095332146}],\"opt\":[\"\"]}},{\"_typename\":\"TPaveText\",\"fUniqueID\":0,\"fBits\":50331656,\"fLineColor\":1,\"fLineStyle\":1,\"fLineWidth\":1,\"fFillColor\":42,\"fFillStyle\":1001,\"fX1\":4,\"fY1\":7,\"fX2\":8,\"fY2\":8,\"fX1NDC\":0.285714285714286,\"fY1NDC\":0.451612903225806,\"fX2NDC\":0.571428571428571,\"fY2NDC\":0.516129032258065,\"fBorderSize\":4,\"fInit\":1,\"fShadowColor\":1,\"fCornerRadius\":0,\"fOption\":\"br\",\"fName\":\"TPave\",\"fTextAngle\":0,\"fTextSize\":0,\"fTextAlign\":12,\"fTextColor\":1,\"fTextFont\":62,\"fLabel\":\"\",\"fLongest\":8,\"fMargin\":0.05,\"fLines\":{\"_typename\":\"TList\",\"name\":\"TList\",\"arr\":[{\"_typename\":\"TLatex\",\"fUniqueID\":0,\"fBits\":50331648,\"fName\":\"\",\"fTitle\":\"1 Kbytes\",\"fTextAngle\":0,\"fTextSize\":0,\"fTextAlign\":0,\"fTextColor\":0,\"fTextFont\":0,\"fX\":0,\"fY\":0,\"fLineColor\":1,\"fLineStyle\":1,\"fLineWidth\":2,\"fLimitFactorSize\":3,\"fOriginSize\":0.0548387095332146}],\"opt\":[\"\"]}},{\"_typename\":\"TPaveText\",\"fUniqueID\":0,\"fBits\":50331656,\"fLineColor\":1,\"fLineStyle\":1,\"fLineWidth\":1,\"fFillColor\":42,\"fFillStyle\":1001,\"fX1\":4,\"fY1\":9,\"fX2\":7,\"fY2\":10,\"fX1NDC\":0.285714285714286,\"fY1NDC\":0.580645161290323,\"fX2NDC\":0.5,\"fY2NDC\":0.645161290322581,\"fBorderSize\":4,\"fInit\":1,\"fShadowColor\":1,\"fCornerRadius\":0,\"fOption\":\"br\",\"fName\":\"TPave\",\"fTextAngle\":0,\"fTextSize\":0,\"fTextAlign\":12,\"fTextColor\":1,\"fTextFont\":62,\"fLabel\":\"\",\"fLongest\":9,\"fMargin\":0.05,\"fLines\":{\"_typename\":\"TList\",\"name\":\"TList\",\"arr\":[{\"_typename\":\"TLatex\",\"fUniqueID\":0,\"fBits\":50331648,\"fName\":\"\",\"fTitle\":\"100 bytes\",\"fTextAngle\":0,\"fTextSize\":0,\"fTextAlign\":0,\"fTextColor\":0,\"fTextFont\":0,\"fX\":0,\"fY\":0,\"fLineColor\":1,\"fLineStyle\":1,\"fLineWidth\":2,\"fLimitFactorSize\":3,\"fOriginSize\":0.0548387095332146}],\"opt\":[\"\"]}},{\"_typename\":\"TPaveText\",\"fUniqueID\":0,\"fBits\":50331656,\"fLineColor\":1,\"fLineStyle\":1,\"fLineWidth\":1,\"fFillColor\":42,\"fFillStyle\":1001,\"fX1\":4,\"fY1\":11,\"fX2\":6,\"fY2\":12,\"fX1NDC\":0.285714285714286,\"fY1NDC\":0.709677419354839,\"fX2NDC\":0.428571428571429,\"fY2NDC\":0.774193548387097,\"fBorderSize\":4,\"fInit\":1,\"fShadowColor\":1,\"fCornerRadius\":0,\"fOption\":\"br\",\"fName\":\"TPave\",\"fTextAngle\":0,\"fTextSize\":0,\"fTextAlign\":12,\"fTextColor\":1,\"fTextFont\":62,\"fLabel\":\"\",\"fLongest\":8,\"fMargin\":0.05,\"fLines\":{\"_typename\":\"TList\",\"name\":\"TList\",\"arr\":[{\"_typename\":\"TLatex\",\"fUniqueID\":0,\"fBits\":50331648,\"fName\":\"\",\"fTitle\":\"10 bytes\",\"fTextAngle\":0,\"fTextSize\":0,\"fTextAlign\":0,\"fTextColor\":0,\"fTextFont\":0,\"fX\":0,\"fY\":0,\"fLineColor\":1,\"fLineStyle\":1,\"fLineWidth\":2,\"fLimitFactorSize\":3,\"fOriginSize\":0.0548387095332146}],\"opt\":[\"\"]}},{\"_typename\":\"TText\",\"fUniqueID\":0,\"fBits\":50331657,\"fName\":\"\",\"fTitle\":\"Header:Event_flag\",\"fTextAngle\":0,\"fTextSize\":0.04,\"fTextAlign\":12,\"fTextColor\":1,\"fTextFont\":72,\"fX\":6.2,\"fY\":11.5},{\"_typename\":\"TText\",\"fUniqueID\":0,\"fBits\":50331657,\"fName\":\"\",\"fTitle\":\"Trigger_Info\",\"fTextAngle\":0,\"fTextSize\":0.04,\"fTextAlign\":12,\"fTextColor\":1,\"fTextFont\":72,\"fX\":7.2,\"fY\":9.5},{\"_typename\":\"TText\",\"fUniqueID\":0,\"fBits\":50331657,\"fName\":\"\",\"fTitle\":\"Muon_Detector: TOF\",\"fTextAngle\":0,\"fTextSize\":0.04,\"fTextAlign\":12,\"fTextColor\":1,\"fTextFont\":72,\"fX\":8.2,\"fY\":7.5},{\"_typename\":\"TText\",\"fUniqueID\":0,\"fBits\":50331657,\"fName\":\"\",\"fTitle\":\"Calorimeters\",\"fTextAngle\":0,\"fTextSize\":0.04,\"fTextAlign\":12,\"fTextColor\":1,\"fTextFont\":72,\"fX\":9.2,\"fY\":5.5},{\"_typename\":\"TText\",\"fUniqueID\":0,\"fBits\":50331657,\"fName\":\"\",\"fTitle\":\"Forward_Detectors\",\"fTextAngle\":0,\"fTextSize\":0.04,\"fTextAlign\":12,\"fTextColor\":1,\"fTextFont\":72,\"fX\":10.2,\"fY\":3.5},{\"_typename\":\"TText\",\"fUniqueID\":0,\"fBits\":50331657,\"fName\":\"\",\"fTitle\":\"TPCs\",\"fTextAngle\":0,\"fTextSize\":0.04,\"fTextAlign\":12,\"fTextColor\":1,\"fTextFont\":72,\"fX\":11.2,\"fY\":1.5}],\"opt\":[\"br\",\"\",\"\",\"\",\"\",\"\",\"\",\"|>\",\"|>\",\"|>\",\"|>\",\"|>\",\"|>\",\"br\",\"br\",\"br\",\"br\",\"br\",\"br\",\"\",\"\",\"\",\"\",\"\",\"\"]},\"fExecs\":null,\"fName\":\"c1\",\"fTitle\":\"ROOT Event description\",\"fNumPaletteColor\":0,\"fNextPaletteColor\":0,\"fDISPLAY\":\"$DISPLAY\",\"fDoubleBuffer\":0,\"fRetained\":true,\"fXsizeUser\":0,\"fYsizeUser\":0,\"fXsizeReal\":20,\"fYsizeReal\":14.28571,\"fWindowTopX\":0,\"fWindowTopY\":0,\"fWindowWidth\":0,\"fWindowHeight\":0,\"fCw\":696,\"fCh\":472,\"fCatt\":{\"_typename\":\"TAttCanvas\",\"fXBetween\":2,\"fYBetween\":2,\"fTitleFromTop\":1.2,\"fXdate\":0.2,\"fYdate\":0.3,\"fAdate\":1},\"kMoveOpaque\":true,\"kResizeOpaque\":true,\"fHighLightColor\":2,\"fBatch\":true,\"kShowEventStatus\":false,\"kAutoExec\":true,\"kMenuBar\":true});\n",
       "       Core.draw(\"root_plot_1\", obj, \"\");\n",
       "     }\n",
       " );\n",
       "</script>\n"
      ],
      "text/plain": [
       "<IPython.core.display.HTML object>"
      ]
     },
     "metadata": {},
     "output_type": "display_data"
    }
   ],
   "source": [
    "%jsroot on\n",
    "gROOT->GetListOfCanvases()->Draw()"
   ]
  }
 ],
 "metadata": {
  "kernelspec": {
   "display_name": "ROOT C++",
   "language": "c++",
   "name": "root"
  },
  "language_info": {
   "codemirror_mode": "text/x-c++src",
   "file_extension": ".C",
   "mimetype": " text/x-c++src",
   "name": "c++"
  }
 },
 "nbformat": 4,
 "nbformat_minor": 2
}
