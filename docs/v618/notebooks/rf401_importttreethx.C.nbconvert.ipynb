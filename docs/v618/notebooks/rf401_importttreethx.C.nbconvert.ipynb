{
 "cells": [
  {
   "cell_type": "markdown",
   "metadata": {},
   "source": [
    "# Rf 4 0 1_Importttreethx\n",
    "Data and categories: advanced options for importing data from ROOT TTree and THx histograms\n",
    "\n",
    "Basic import options are demonstrated in rf102_dataimport.C\n",
    "\n",
    "\n",
    "\n",
    "**Author:** 07/2008 - Wouter Verkerke  \n",
    "<i><small>This notebook tutorial was automatically generated with <a href= \"https://github.com/root-project/root/blob/master/documentation/doxygen/converttonotebook.py\">ROOTBOOK-izer</a> from the macro found in the ROOT repository  on Thursday, August 29, 2019 at 02:51 AM.</small></i>"
   ]
  },
  {
   "cell_type": "code",
   "execution_count": 1,
   "metadata": {
    "collapsed": false
   },
   "outputs": [],
   "source": [
    "%%cpp -d\n",
    "#include \"RooRealVar.h\"\n",
    "#include \"RooDataSet.h\"\n",
    "#include \"RooDataHist.h\"\n",
    "#include \"RooCategory.h\"\n",
    "#include \"RooGaussian.h\"\n",
    "#include \"RooConstVar.h\"\n",
    "#include \"TCanvas.h\"\n",
    "#include \"TAxis.h\"\n",
    "#include \"RooPlot.h\"\n",
    "#include \"TH1.h\"\n",
    "#include \"TTree.h\"\n",
    "#include \"TRandom.h\"\n",
    "#include <map>"
   ]
  },
  {
   "cell_type": "code",
   "execution_count": 2,
   "metadata": {
    "collapsed": false
   },
   "outputs": [],
   "source": [
    "%%cpp -d\n",
    "// This is a workaround to make sure the namespace is used inside functions\n",
    "using namespace RooFit;"
   ]
  },
  {
   "cell_type": "code",
   "execution_count": 3,
   "metadata": {
    "collapsed": false
   },
   "outputs": [
    {
     "name": "stderr",
     "output_type": "stream",
     "text": [
      "input_line_28:3:17: warning: empty parentheses interpreted as a function declaration [-Wvexing-parse]\n",
      "TTree *makeTTree();\n",
      "                ^~\n",
      "input_line_28:3:17: note: replace parentheses with an initializer to declare a variable\n",
      "TTree *makeTTree();\n",
      "                ^~\n",
      "                 = nullptr\n"
     ]
    }
   ],
   "source": [
    "TH1 *makeTH1(const char *name, Double_t mean, Double_t sigma);\n",
    "TTree *makeTTree();"
   ]
  },
  {
   "cell_type": "markdown",
   "metadata": {},
   "source": [
    " A helper function is created: "
   ]
  },
  {
   "cell_type": "code",
   "execution_count": 4,
   "metadata": {
    "collapsed": false
   },
   "outputs": [],
   "source": [
    "%%cpp -d\n",
    "TH1 *makeTH1(const char *name, Double_t mean, Double_t sigma)\n",
    "{\n",
    "   // Create ROOT TH1 filled with a Gaussian distribution\n",
    "\n",
    "   TH1D *hh = new TH1D(name, name, 100, -10, 10);\n",
    "   for (int i = 0; i < 1000; i++) {\n",
    "      hh->Fill(gRandom->Gaus(mean, sigma));\n",
    "   }\n",
    "   return hh;\n",
    "}"
   ]
  },
  {
   "cell_type": "markdown",
   "metadata": {},
   "source": [
    " A helper function is created: "
   ]
  },
  {
   "cell_type": "code",
   "execution_count": 5,
   "metadata": {
    "collapsed": false
   },
   "outputs": [],
   "source": [
    "%%cpp -d\n",
    "TTree *makeTTree()\n",
    "{\n",
    "   // Create ROOT TTree filled with a Gaussian distribution in x and a uniform distribution in y\n",
    "\n",
    "   TTree *tree = new TTree(\"tree\", \"tree\");\n",
    "   Double_t *px = new Double_t;\n",
    "   Double_t *py = new Double_t;\n",
    "   Double_t *pz = new Double_t;\n",
    "   Int_t *pi = new Int_t;\n",
    "   tree->Branch(\"x\", px, \"x/D\");\n",
    "   tree->Branch(\"y\", py, \"y/D\");\n",
    "   tree->Branch(\"z\", pz, \"z/D\");\n",
    "   tree->Branch(\"i\", pi, \"i/I\");\n",
    "   for (int i = 0; i < 100; i++) {\n",
    "      *px = gRandom->Gaus(0, 3);\n",
    "      *py = gRandom->Uniform() * 30 - 15;\n",
    "      *pz = gRandom->Gaus(0, 5);\n",
    "      *pi = i % 3;\n",
    "      tree->Fill();\n",
    "   }\n",
    "   return tree;\n",
    "}"
   ]
  },
  {
   "cell_type": "markdown",
   "metadata": {},
   "source": [
    "Import multiple th1 into a roodatahist\n",
    " --------------------------------------------------------------------------"
   ]
  },
  {
   "cell_type": "markdown",
   "metadata": {},
   "source": [
    "Create thee root th1 histograms"
   ]
  },
  {
   "cell_type": "code",
   "execution_count": 6,
   "metadata": {
    "collapsed": false
   },
   "outputs": [],
   "source": [
    "TH1 *hh_1 = makeTH1(\"hh1\", 0, 3);\n",
    "TH1 *hh_2 = makeTH1(\"hh2\", -3, 1);\n",
    "TH1 *hh_3 = makeTH1(\"hh3\", +3, 4);"
   ]
  },
  {
   "cell_type": "markdown",
   "metadata": {},
   "source": [
    "Declare observable x"
   ]
  },
  {
   "cell_type": "code",
   "execution_count": 7,
   "metadata": {
    "collapsed": false
   },
   "outputs": [
    {
     "name": "stdout",
     "output_type": "stream",
     "text": [
      "\n",
      "\u001b[1mRooFit v3.60 -- Developed by Wouter Verkerke and David Kirkby\u001b[0m \n",
      "                Copyright (C) 2000-2013 NIKHEF, University of California & Stanford University\n",
      "                All rights reserved, please read http://roofit.sourceforge.net/license.txt\n",
      "\n"
     ]
    }
   ],
   "source": [
    "RooRealVar x(\"x\", \"x\", -10, 10);"
   ]
  },
  {
   "cell_type": "markdown",
   "metadata": {},
   "source": [
    "Create category observable c that serves as index for the root histograms"
   ]
  },
  {
   "cell_type": "code",
   "execution_count": 8,
   "metadata": {
    "collapsed": false
   },
   "outputs": [],
   "source": [
    "RooCategory c(\"c\", \"c\");\n",
    "c.defineType(\"SampleA\");\n",
    "c.defineType(\"SampleB\");\n",
    "c.defineType(\"SampleC\");"
   ]
  },
  {
   "cell_type": "markdown",
   "metadata": {},
   "source": [
    "Create a binned dataset that imports contents of all th1 mapped by index category c"
   ]
  },
  {
   "cell_type": "code",
   "execution_count": 9,
   "metadata": {
    "collapsed": false
   },
   "outputs": [
    {
     "name": "stdout",
     "output_type": "stream",
     "text": [
      "RooDataHist::dh[c,x] = 300 bins (2964 weights)\n"
     ]
    }
   ],
   "source": [
    "RooDataHist *dh = new RooDataHist(\"dh\", \"dh\", x, Index(c), Import(\"SampleA\", *hh_1), Import(\"SampleB\", *hh_2),\n",
    "                                  Import(\"SampleC\", *hh_3));\n",
    "dh->Print();"
   ]
  },
  {
   "cell_type": "markdown",
   "metadata": {},
   "source": [
    "Alternative constructor form for importing multiple histograms"
   ]
  },
  {
   "cell_type": "code",
   "execution_count": 10,
   "metadata": {
    "collapsed": false
   },
   "outputs": [
    {
     "name": "stdout",
     "output_type": "stream",
     "text": [
      "RooDataHist::dh[c,x] = 300 bins (2964 weights)\n"
     ]
    }
   ],
   "source": [
    "map<string, TH1 *> hmap;\n",
    "hmap[\"SampleA\"] = hh_1;\n",
    "hmap[\"SampleB\"] = hh_2;\n",
    "hmap[\"SampleC\"] = hh_3;\n",
    "RooDataHist *dh2 = new RooDataHist(\"dh\", \"dh\", x, c, hmap);\n",
    "dh2->Print();"
   ]
  },
  {
   "cell_type": "markdown",
   "metadata": {},
   "source": [
    "Importing a ttree into a roodataset with cuts\n",
    " -----------------------------------------------------------------------------------------"
   ]
  },
  {
   "cell_type": "code",
   "execution_count": 11,
   "metadata": {
    "collapsed": false
   },
   "outputs": [],
   "source": [
    "TTree *tree = makeTTree();"
   ]
  },
  {
   "cell_type": "markdown",
   "metadata": {},
   "source": [
    "Define observables y,z"
   ]
  },
  {
   "cell_type": "code",
   "execution_count": 12,
   "metadata": {
    "collapsed": false
   },
   "outputs": [],
   "source": [
    "RooRealVar y(\"y\", \"y\", -10, 10);\n",
    "RooRealVar z(\"z\", \"z\", -10, 10);"
   ]
  },
  {
   "cell_type": "markdown",
   "metadata": {},
   "source": [
    "Import only observables (y,z)"
   ]
  },
  {
   "cell_type": "code",
   "execution_count": 13,
   "metadata": {
    "collapsed": false
   },
   "outputs": [
    {
     "name": "stdout",
     "output_type": "stream",
     "text": [
      "[#1] INFO:Eval -- RooTreeDataStore::loadValues(ds) Ignored 35 out of range events\n",
      "RooDataSet::ds[x,y] = 65 entries\n"
     ]
    }
   ],
   "source": [
    "RooDataSet ds(\"ds\", \"ds\", RooArgSet(x, y), Import(*tree));\n",
    "ds.Print();"
   ]
  },
  {
   "cell_type": "markdown",
   "metadata": {},
   "source": [
    "Import observables (x,y,z) but only event for which (y+z<0) is true"
   ]
  },
  {
   "cell_type": "code",
   "execution_count": 14,
   "metadata": {
    "collapsed": false
   },
   "outputs": [
    {
     "name": "stdout",
     "output_type": "stream",
     "text": [
      "[#1] INFO:Eval -- RooTreeDataStore::loadValues(ds2) Ignored 36 out of range events\n",
      "RooDataSet::ds2[x,y,z] = 26 entries\n"
     ]
    }
   ],
   "source": [
    "RooDataSet ds2(\"ds2\", \"ds2\", RooArgSet(x, y, z), Import(*tree), Cut(\"y+z<0\"));\n",
    "ds2.Print();"
   ]
  },
  {
   "cell_type": "markdown",
   "metadata": {},
   "source": [
    "Importing integer ttree branches\n",
    " ---------------------------------------------------------------"
   ]
  },
  {
   "cell_type": "markdown",
   "metadata": {},
   "source": [
    "Import integer tree branch as roorealvar"
   ]
  },
  {
   "cell_type": "code",
   "execution_count": 15,
   "metadata": {
    "collapsed": false
   },
   "outputs": [
    {
     "name": "stdout",
     "output_type": "stream",
     "text": [
      "[#1] INFO:Eval -- RooAbsReal::attachToTree(i) TTree Int_t branch i will be converted to double precision\n",
      "RooDataSet::ds3[i,x] = 100 entries\n"
     ]
    }
   ],
   "source": [
    "RooRealVar i(\"i\", \"i\", 0, 5);\n",
    "RooDataSet ds3(\"ds3\", \"ds3\", RooArgSet(i, x), Import(*tree));\n",
    "ds3.Print();"
   ]
  },
  {
   "cell_type": "markdown",
   "metadata": {},
   "source": [
    "Define category i"
   ]
  },
  {
   "cell_type": "code",
   "execution_count": 16,
   "metadata": {
    "collapsed": false
   },
   "outputs": [],
   "source": [
    "RooCategory icat(\"i\", \"i\");\n",
    "icat.defineType(\"State0\", 0);\n",
    "icat.defineType(\"State1\", 1);"
   ]
  },
  {
   "cell_type": "markdown",
   "metadata": {},
   "source": [
    "Import integer tree branch as roocategory (only events with i==0 and i==1\n",
    " will be imported as those are the only defined states)"
   ]
  },
  {
   "cell_type": "code",
   "execution_count": 17,
   "metadata": {
    "collapsed": false
   },
   "outputs": [
    {
     "name": "stdout",
     "output_type": "stream",
     "text": [
      "[#1] INFO:DataHandling -- RooAbsCategory::attachToTree(i) TTree branch i will be interpreted as category index\n",
      "[#1] INFO:Eval -- RooTreeDataStore::loadValues(ds4) Ignored 33 out of range events\n",
      "RooDataSet::ds4[i,x] = 67 entries\n"
     ]
    }
   ],
   "source": [
    "RooDataSet ds4(\"ds4\", \"ds4\", RooArgSet(icat, x), Import(*tree));\n",
    "ds4.Print();"
   ]
  },
  {
   "cell_type": "markdown",
   "metadata": {},
   "source": [
    "Import multiple roodatasets into a roodataset\n",
    " ----------------------------------------------------------------------------------------"
   ]
  },
  {
   "cell_type": "markdown",
   "metadata": {},
   "source": [
    "Create three roodatasets in (y,z)"
   ]
  },
  {
   "cell_type": "code",
   "execution_count": 18,
   "metadata": {
    "collapsed": false
   },
   "outputs": [],
   "source": [
    "RooDataSet *dsA = (RooDataSet *)ds2.reduce(RooArgSet(x, y), \"z<-5\");\n",
    "RooDataSet *dsB = (RooDataSet *)ds2.reduce(RooArgSet(x, y), \"abs(z)<5\");\n",
    "RooDataSet *dsC = (RooDataSet *)ds2.reduce(RooArgSet(x, y), \"z>5\");"
   ]
  },
  {
   "cell_type": "markdown",
   "metadata": {},
   "source": [
    "Create a dataset that imports contents of all the above datasets mapped by index category c"
   ]
  },
  {
   "cell_type": "code",
   "execution_count": 19,
   "metadata": {
    "collapsed": false
   },
   "outputs": [
    {
     "name": "stdout",
     "output_type": "stream",
     "text": [
      "RooDataSet::dsABC[c,x,y] = 26 entries\n"
     ]
    }
   ],
   "source": [
    "RooDataSet *dsABC = new RooDataSet(\"dsABC\", \"dsABC\", RooArgSet(x, y), Index(c), Import(\"SampleA\", *dsA),\n",
    "                                   Import(\"SampleB\", *dsB), Import(\"SampleC\", *dsC));\n",
    "\n",
    "dsABC->Print();"
   ]
  }
 ],
 "metadata": {
  "kernelspec": {
   "display_name": "ROOT C++",
   "language": "c++",
   "name": "root"
  },
  "language_info": {
   "codemirror_mode": "text/x-c++src",
   "file_extension": ".C",
   "mimetype": " text/x-c++src",
   "name": "c++"
  }
 },
 "nbformat": 4,
 "nbformat_minor": 2
}
