{
 "cells": [
  {
   "cell_type": "markdown",
   "metadata": {},
   "source": [
    "# Mt 2 0 1_Parallel Histo Fill\n",
    "Parallel fill of a histogram.\n",
    "This tutorial shows how a histogram can be filled in parallel\n",
    "with a multithreaded approach. The difference with the multiprocess case,\n",
    "see mp201, is that here we cannot count on the copy-on-write mechanism, but\n",
    "we rather need to protect the histogram resource with a TThreadedObject\n",
    "class. The result of the filling is monitored with the *SnapshotMerge*\n",
    "method. This method is not thread safe: in presence of ROOT histograms, the\n",
    "system will not crash but the result is not uniquely defined.\n",
    "\n",
    "\n",
    "\n",
    "\n",
    "**Author:** Danilo Piparo  \n",
    "<i><small>This notebook tutorial was automatically generated with <a href= \"https://github.com/root-project/root/blob/master/documentation/doxygen/converttonotebook.py\">ROOTBOOK-izer</a> from the macro found in the ROOT repository  on Thursday, August 29, 2019 at 02:21 AM.</small></i>"
   ]
  },
  {
   "cell_type": "code",
   "execution_count": null,
   "metadata": {
    "collapsed": false
   },
   "outputs": [],
   "source": [
    "const UInt_t poolSize = 4U;"
   ]
  },
  {
   "cell_type": "code",
   "execution_count": null,
   "metadata": {
    "collapsed": false
   },
   "outputs": [],
   "source": [
    "ROOT::EnableThreadSafety();"
   ]
  },
  {
   "cell_type": "markdown",
   "metadata": {},
   "source": [
    "The concrete histogram instances are created in each thread\n",
    " lazily, i.e. only if a method is invoked."
   ]
  },
  {
   "cell_type": "code",
   "execution_count": null,
   "metadata": {
    "collapsed": false
   },
   "outputs": [],
   "source": [
    "ROOT::TThreadedObject<TH1F> ts_h(\"myHist\", \"Filled in parallel\", 128, -8, 8);"
   ]
  },
  {
   "cell_type": "markdown",
   "metadata": {},
   "source": [
    "The function used to fill the histograms in each thread."
   ]
  },
  {
   "cell_type": "code",
   "execution_count": null,
   "metadata": {
    "collapsed": false
   },
   "outputs": [],
   "source": [
    "auto fillRandomHisto = [&](int seed = 0) {\n",
    "   TRandom3 rndm(seed);\n",
    "   // IMPORTANT!\n",
    "   // It is important to realise that a copy on the stack of the object we\n",
    "   // would like to perform operations on is the most efficient way of\n",
    "   // accessing it, in particular in presence of a tight loop like the one\n",
    "   // below where any overhead put on top of the Fill function call would\n",
    "   // have an impact.\n",
    "   auto histogram = ts_h.Get();\n",
    "   for (auto i : ROOT::TSeqI(1000000)) {\n",
    "      histogram->Fill(rndm.Gaus(0, 1));\n",
    "   }\n",
    "};"
   ]
  },
  {
   "cell_type": "markdown",
   "metadata": {},
   "source": [
    "The seeds for the random number generators."
   ]
  },
  {
   "cell_type": "code",
   "execution_count": null,
   "metadata": {
    "collapsed": false
   },
   "outputs": [],
   "source": [
    "auto seeds = ROOT::TSeqI(1, poolSize + 1);\n",
    "\n",
    "std::vector<std::thread> pool;"
   ]
  },
  {
   "cell_type": "markdown",
   "metadata": {},
   "source": [
    "A monitoring thread. this is here only to illustrate the functionality of\n",
    " the SnapshotMerge method.\n",
    " It allows \"to spy\" the multithreaded calculation without the need\n",
    " of interrupting it."
   ]
  },
  {
   "cell_type": "code",
   "execution_count": null,
   "metadata": {
    "collapsed": false
   },
   "outputs": [],
   "source": [
    "auto monitor = [&]() {\n",
    "   for (auto i : ROOT::TSeqI(5)) {\n",
    "      std::this_thread::sleep_for(std::chrono::duration<double, std::nano>(500));\n",
    "      auto h = ts_h.SnapshotMerge();\n",
    "      std::cout << \"Entries for the snapshot \" << h->GetEntries() << std::endl;\n",
    "   }\n",
    "};\n",
    "pool.emplace_back(monitor);"
   ]
  },
  {
   "cell_type": "markdown",
   "metadata": {},
   "source": [
    "The threads filling the histograms"
   ]
  },
  {
   "cell_type": "code",
   "execution_count": null,
   "metadata": {
    "collapsed": false
   },
   "outputs": [],
   "source": [
    "for (auto seed : ROOT::TSeqI(seeds)) {\n",
    "   pool.emplace_back(fillRandomHisto, seed);\n",
    "}"
   ]
  },
  {
   "cell_type": "markdown",
   "metadata": {},
   "source": [
    "Wait for the threads to finish"
   ]
  },
  {
   "cell_type": "code",
   "execution_count": null,
   "metadata": {
    "collapsed": false
   },
   "outputs": [],
   "source": [
    "for (auto &&t : pool)\n",
    "   t.join();"
   ]
  },
  {
   "cell_type": "markdown",
   "metadata": {},
   "source": [
    "Merge the final result"
   ]
  },
  {
   "cell_type": "code",
   "execution_count": null,
   "metadata": {
    "collapsed": false
   },
   "outputs": [],
   "source": [
    "auto sumRandomHisto = ts_h.Merge();\n",
    "\n",
    "std::cout << \"Entries for the total sum \" << sumRandomHisto->GetEntries() << std::endl;\n",
    "\n",
    "auto c = new TCanvas();\n",
    "sumRandomHisto->DrawClone();\n",
    "return 0;"
   ]
  },
  {
   "cell_type": "markdown",
   "metadata": {},
   "source": [
    "Draw all canvases "
   ]
  },
  {
   "cell_type": "code",
   "execution_count": null,
   "metadata": {
    "collapsed": false
   },
   "outputs": [],
   "source": [
    "gROOT->GetListOfCanvases()->Draw()"
   ]
  }
 ],
 "metadata": {
  "kernelspec": {
   "display_name": "ROOT C++",
   "language": "c++",
   "name": "root"
  },
  "language_info": {
   "codemirror_mode": "text/x-c++src",
   "file_extension": ".C",
   "mimetype": " text/x-c++src",
   "name": "c++"
  }
 },
 "nbformat": 4,
 "nbformat_minor": 2
}
