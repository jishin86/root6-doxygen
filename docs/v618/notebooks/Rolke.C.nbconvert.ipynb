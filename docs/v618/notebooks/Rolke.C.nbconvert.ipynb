{
 "cells": [
  {
   "cell_type": "markdown",
   "metadata": {},
   "source": [
    "#  Rolke\n",
    "Example of the usage of the TRolke class\n",
    "The TRolke class computes the profile likelihood\n",
    "confidence limits for 7 different model assumptions\n",
    "on systematic/statistical uncertainties\n",
    "\n",
    "Please read TRolke.cxx and TRolke.h for more docs.\n",
    "\n",
    "\n",
    "\n",
    "\n",
    "**Author:**  Jan Conrad. Johan Lundberg  \n",
    "<i><small>This notebook tutorial was automatically generated with <a href= \"https://github.com/root-project/root/blob/master/documentation/doxygen/converttonotebook.py\">ROOTBOOK-izer</a> from the macro found in the ROOT repository  on Thursday, August 29, 2019 at 02:12 AM.</small></i>"
   ]
  },
  {
   "cell_type": "code",
   "execution_count": 1,
   "metadata": {
    "collapsed": false
   },
   "outputs": [],
   "source": [
    "%%cpp -d\n",
    "#include \"TROOT.h\"\n",
    "#include \"TSystem.h\"\n",
    "#include \"TRolke.h\"\n",
    "#include \"Riostream.h\""
   ]
  },
  {
   "cell_type": "markdown",
   "metadata": {},
   "source": [
    "Variables used throughout the example"
   ]
  },
  {
   "cell_type": "code",
   "execution_count": 2,
   "metadata": {
    "collapsed": false
   },
   "outputs": [],
   "source": [
    "Double_t bm;\n",
    "Double_t tau;\n",
    "Int_t mid;\n",
    "Int_t m;\n",
    "Int_t z;\n",
    "Int_t y;\n",
    "Int_t x;\n",
    "Double_t e;\n",
    "Double_t em;\n",
    "Double_t sde;\n",
    "Double_t sdb;\n",
    "Double_t b;\n",
    "\n",
    "Double_t alpha; //Confidence Level"
   ]
  },
  {
   "cell_type": "markdown",
   "metadata": {},
   "source": [
    "Make trolke objects"
   ]
  },
  {
   "cell_type": "code",
   "execution_count": 3,
   "metadata": {
    "collapsed": false
   },
   "outputs": [],
   "source": [
    "TRolke tr;   //\n",
    "\n",
    "Double_t ul ; // upper limit\n",
    "Double_t ll ; // lower limit"
   ]
  },
  {
   "cell_type": "markdown",
   "metadata": {},
   "source": [
    "-----------------------------------------------\n",
    " Model 1 assumes:\n",
    "\n",
    " Poisson uncertainty in the background estimate\n",
    " Binomial uncertainty in the efficiency estimate"
   ]
  },
  {
   "cell_type": "code",
   "execution_count": 4,
   "metadata": {
    "collapsed": false
   },
   "outputs": [
    {
     "name": "stdout",
     "output_type": "stream",
     "text": [
      "\n",
      " ======================================================== \n",
      "For model 1: Poisson / Binomial\n",
      "the Profile Likelihood interval is :\n",
      "[0,11.5943]\n"
     ]
    }
   ],
   "source": [
    "cout << endl<<\" ======================================================== \" <<endl;\n",
    "mid =1;\n",
    "x = 5;     // events in the signal region\n",
    "y = 10;    // events observed in the background region\n",
    "tau = 2.5; // ratio between size of signal/background region\n",
    "m = 100;   // MC events have been produced  (signal)\n",
    "z = 50;    // MC events have been observed (signal)\n",
    "\n",
    "alpha=0.9; //Confidence Level\n",
    "\n",
    "tr.SetCL(alpha);\n",
    "\n",
    "tr.SetPoissonBkgBinomEff(x,y,z,tau,m);\n",
    "tr.GetLimits(ll,ul);\n",
    "\n",
    "cout << \"For model 1: Poisson / Binomial\" << endl;\n",
    "cout << \"the Profile Likelihood interval is :\" << endl;\n",
    "cout << \"[\" << ll << \",\" << ul << \"]\" << endl;"
   ]
  },
  {
   "cell_type": "markdown",
   "metadata": {},
   "source": [
    "-----------------------------------------------\n",
    " Model 2 assumes:\n",
    "\n",
    " Poisson uncertainty in the background estimate\n",
    " Gaussian  uncertainty in the efficiency estimate"
   ]
  },
  {
   "cell_type": "code",
   "execution_count": 5,
   "metadata": {
    "collapsed": false
   },
   "outputs": [
    {
     "name": "stdout",
     "output_type": "stream",
     "text": [
      "\n",
      " ======================================================== \n",
      "For model 2 : Poisson / Gaussian\n",
      "the Profile Likelihood interval is :\n",
      "[3.88417,18.4584]\n"
     ]
    }
   ],
   "source": [
    "cout << endl<<\" ======================================================== \" <<endl;\n",
    "mid =2;\n",
    "y = 3 ;      // events observed in the background region\n",
    "x = 10 ;     // events in the signal region\n",
    "tau = 2.5;   // ratio between size of signal/background region\n",
    "em = 0.9;    // measured efficiency\n",
    "sde = 0.05;  // standard deviation of efficiency\n",
    "alpha =0.95; // Confidence L evel\n",
    "\n",
    "tr.SetCL(alpha);\n",
    "\n",
    "tr.SetPoissonBkgGaussEff(x,y,em,tau,sde);\n",
    "tr.GetLimits(ll,ul);\n",
    "\n",
    "cout << \"For model 2 : Poisson / Gaussian\" << endl;\n",
    "cout << \"the Profile Likelihood interval is :\" << endl;\n",
    "cout << \"[\" << ll << \",\" << ul << \"]\" << endl;"
   ]
  },
  {
   "cell_type": "markdown",
   "metadata": {},
   "source": [
    "-----------------------------------------------\n",
    " Model 3 assumes:\n",
    "\n",
    " Gaussian uncertainty in the background estimate\n",
    " Gaussian  uncertainty in the efficiency estimate"
   ]
  },
  {
   "cell_type": "code",
   "execution_count": 6,
   "metadata": {
    "collapsed": false
   },
   "outputs": [
    {
     "name": "stdout",
     "output_type": "stream",
     "text": [
      "\n",
      " ======================================================== \n",
      "For model 3 : Gaussian / Gaussian\n",
      "the Profile Likelihood interval is :\n",
      "[0,17.5005]\n",
      "***************************************\n",
      "* some more example's for gauss/gauss *\n",
      "*                                     *\n",
      "sensitivity:\n",
      "[0.00213408,9.0817]\n",
      "median limit:\n",
      "[0,9.21861] @ x =5\n",
      "ML limit:\n",
      "[0,9.21861] @ x =5\n",
      "sensitivity:\n",
      "[0.00213408,18.3004]\n",
      "the Profile Likelihood interval is :\n",
      "[0,17.5005]\n",
      "critical number: 13\n",
      "critical number for 5 sigma: 21\n",
      "***************************************\n"
     ]
    }
   ],
   "source": [
    "cout << endl<<\" ======================================================== \" <<endl;\n",
    "mid =3;\n",
    "bm = 5;      // expected background\n",
    "x = 10;      // events in the signal region\n",
    "sdb = 0.5;   // standard deviation in background estimate\n",
    "em = 0.9;    //  measured efficiency\n",
    "sde = 0.05;  // standard deviation of efficiency\n",
    "alpha =0.99; // Confidence Level\n",
    "\n",
    "tr.SetCL(alpha);\n",
    "\n",
    "tr.SetGaussBkgGaussEff(x,bm,em,sde,sdb);\n",
    "tr.GetLimits(ll,ul);\n",
    "cout << \"For model 3 : Gaussian / Gaussian\" << endl;\n",
    "cout << \"the Profile Likelihood interval is :\" << endl;\n",
    "cout << \"[\" << ll << \",\" << ul << \"]\" << endl;\n",
    "\n",
    "cout << \"***************************************\" << endl;\n",
    "cout << \"* some more example's for gauss/gauss *\" << endl;\n",
    "cout << \"*                                     *\" << endl;\n",
    "Double_t slow,shigh;\n",
    "tr.GetSensitivity(slow,shigh);\n",
    "cout << \"sensitivity:\" << endl;\n",
    "cout << \"[\" << slow << \",\" << shigh << \"]\" << endl;\n",
    "\n",
    "int outx;\n",
    "tr.GetLimitsQuantile(slow,shigh,outx,0.5);\n",
    "cout << \"median limit:\" << endl;\n",
    "cout << \"[\" << slow << \",\" << shigh << \"] @ x =\" << outx <<endl;\n",
    "\n",
    "tr.GetLimitsML(slow,shigh,outx);\n",
    "cout << \"ML limit:\" << endl;\n",
    "cout << \"[\" << slow << \",\" << shigh << \"] @ x =\" << outx <<endl;\n",
    "\n",
    "tr.GetSensitivity(slow,shigh);\n",
    "cout << \"sensitivity:\" << endl;\n",
    "cout << \"[\" << slow << \",\" << shigh << \"]\" << endl;\n",
    "\n",
    "tr.GetLimits(ll,ul);\n",
    "cout << \"the Profile Likelihood interval is :\" << endl;\n",
    "cout << \"[\" << ll << \",\" << ul << \"]\" << endl;\n",
    "\n",
    "Int_t ncrt;\n",
    "\n",
    "tr.GetCriticalNumber(ncrt);\n",
    "cout << \"critical number: \" << ncrt << endl;\n",
    "\n",
    "tr.SetCLSigmas(5);\n",
    "tr.GetCriticalNumber(ncrt);\n",
    "cout << \"critical number for 5 sigma: \" << ncrt << endl;\n",
    "\n",
    "cout << \"***************************************\" << endl;"
   ]
  },
  {
   "cell_type": "markdown",
   "metadata": {},
   "source": [
    "-----------------------------------------------\n",
    " Model 4 assumes:\n",
    "\n",
    " Poisson uncertainty in the background estimate\n",
    " known efficiency"
   ]
  },
  {
   "cell_type": "code",
   "execution_count": 7,
   "metadata": {
    "collapsed": false
   },
   "outputs": [
    {
     "name": "stdout",
     "output_type": "stream",
     "text": [
      "\n",
      " ======================================================== \n",
      "For model 4 : Poissonian / Known\n",
      "the Profile Likelihood interval is :\n",
      "[0,4.08807]\n"
     ]
    }
   ],
   "source": [
    "cout << endl<<\" ======================================================== \" <<endl;\n",
    "mid =4;\n",
    "y = 7;       // events observed in the background region\n",
    "x = 1;       // events in the signal region\n",
    "tau = 5;     // ratio between size of signal/background region\n",
    "e = 0.25;    // efficiency\n",
    "\n",
    "alpha =0.68; // Confidence L evel\n",
    "\n",
    "tr.SetCL(alpha);\n",
    "\n",
    "tr.SetPoissonBkgKnownEff(x,y,tau,e);\n",
    "tr.GetLimits(ll,ul);\n",
    "\n",
    "cout << \"For model 4 : Poissonian / Known\" << endl;\n",
    "cout <<  \"the Profile Likelihood interval is :\" << endl;\n",
    "cout << \"[\" << ll << \",\" << ul << \"]\" << endl;"
   ]
  },
  {
   "cell_type": "markdown",
   "metadata": {},
   "source": [
    "-----------------------------------------------\n",
    " Model 5 assumes:\n",
    "\n",
    " Gaussian uncertainty in the background estimate\n",
    " Known efficiency"
   ]
  },
  {
   "cell_type": "code",
   "execution_count": 8,
   "metadata": {
    "collapsed": false
   },
   "outputs": [
    {
     "name": "stdout",
     "output_type": "stream",
     "text": [
      "\n",
      " ======================================================== \n",
      "For model 5 : Gaussian / Known\n",
      "the Profile Likelihood interval is :\n",
      "[0,4.91504]\n"
     ]
    }
   ],
   "source": [
    "cout << endl<<\" ======================================================== \" <<endl;\n",
    "mid =5;\n",
    "bm = 0;          // measured background expectation\n",
    "x = 1 ;          // events in the signal region\n",
    "e = 0.65;        // known eff\n",
    "sdb = 1.0;       // standard deviation of background estimate\n",
    "alpha =0.799999; // Confidence Level\n",
    "\n",
    "tr.SetCL(alpha);\n",
    "\n",
    "tr.SetGaussBkgKnownEff(x,bm,sdb,e);\n",
    "tr.GetLimits(ll,ul);\n",
    "\n",
    "cout << \"For model 5 : Gaussian / Known\" << endl;\n",
    "cout <<  \"the Profile Likelihood interval is :\" << endl;\n",
    "cout << \"[\" << ll << \",\" << ul << \"]\" << endl;"
   ]
  },
  {
   "cell_type": "markdown",
   "metadata": {},
   "source": [
    "-----------------------------------------------\n",
    " Model 6 assumes:\n",
    "\n",
    " Known background\n",
    " Binomial uncertainty in the efficiency estimate"
   ]
  },
  {
   "cell_type": "code",
   "execution_count": 9,
   "metadata": {
    "collapsed": false
   },
   "outputs": [
    {
     "name": "stdout",
     "output_type": "stream",
     "text": [
      "\n",
      " ======================================================== \n",
      "For model 6 : Known / Binomial\n",
      "the Profile Likelihood interval is :\n",
      "[11.4655,36.3035]\n"
     ]
    }
   ],
   "source": [
    "cout << endl<<\" ======================================================== \" <<endl;\n",
    "mid =6;\n",
    "b = 10;      // known background\n",
    "x = 25;      // events in the signal region\n",
    "z = 500;     // Number of observed signal MC events\n",
    "m = 750;     // Number of produced MC signal events\n",
    "alpha =0.9;  // Confidence L evel\n",
    "\n",
    "tr.SetCL(alpha);\n",
    "\n",
    "tr.SetKnownBkgBinomEff(x, z,m,b);\n",
    "tr.GetLimits(ll,ul);\n",
    "\n",
    "cout << \"For model 6 : Known / Binomial\" << endl;\n",
    "cout <<  \"the Profile Likelihood interval is :\" << endl;\n",
    "cout << \"[\" << ll << \",\" << ul << \"]\" << endl;"
   ]
  },
  {
   "cell_type": "markdown",
   "metadata": {},
   "source": [
    "-----------------------------------------------\n",
    " Model 7 assumes:\n",
    "\n",
    " Known Background\n",
    " Gaussian  uncertainty in the efficiency estimate"
   ]
  },
  {
   "cell_type": "code",
   "execution_count": 10,
   "metadata": {
    "collapsed": false
   },
   "outputs": [
    {
     "name": "stdout",
     "output_type": "stream",
     "text": [
      "\n",
      " ======================================================== \n",
      "For model 7 : Known / Gaussian \n",
      "the Profile Likelihood interval is :\n",
      "[0,20.1747]\n"
     ]
    }
   ],
   "source": [
    "cout << endl<<\" ======================================================== \" <<endl;\n",
    "mid =7;\n",
    "x = 15;      // events in the signal region\n",
    "em = 0.77;   // measured efficiency\n",
    "sde = 0.15;  // standard deviation of efficiency estimate\n",
    "b = 10;      // known background\n",
    "alpha =0.95; // Confidence L evel\n",
    "\n",
    "y = 1;\n",
    "\n",
    "tr.SetCL(alpha);\n",
    "\n",
    "tr.SetKnownBkgGaussEff(x,em,sde,b);\n",
    "tr.GetLimits(ll,ul);\n",
    "\n",
    "cout << \"For model 7 : Known / Gaussian \" << endl;\n",
    "cout <<  \"the Profile Likelihood interval is :\" << endl;\n",
    "cout << \"[\" << ll << \",\" << ul << \"]\" << endl;"
   ]
  },
  {
   "cell_type": "markdown",
   "metadata": {},
   "source": [
    "-----------------------------------------------\n",
    " Example of bounded and unbounded likelihood\n",
    " Example for Model 1"
   ]
  },
  {
   "cell_type": "code",
   "execution_count": 11,
   "metadata": {
    "collapsed": false
   },
   "outputs": [
    {
     "name": "stdout",
     "output_type": "stream",
     "text": [
      "Example of the effect of bounded vs unbounded, For model 1\n",
      "the BOUNDED Profile Likelihood interval is :\n",
      "[0,1.1729]\n",
      "the UNBOUNDED Profile Likelihood interval is :\n",
      "[0,0.936334]\n"
     ]
    }
   ],
   "source": [
    "bm = 0.0;\n",
    "tau = 5;\n",
    "mid = 1;\n",
    "m = 100;\n",
    "z = 90;\n",
    "y = 15;\n",
    "x = 0;\n",
    "alpha = 0.90;\n",
    "\n",
    "tr.SetCL(alpha);\n",
    "tr.SetPoissonBkgBinomEff(x,y,z,tau,m);\n",
    "tr.SetBounding(true); //bounded\n",
    "tr.GetLimits(ll,ul);\n",
    "\n",
    "cout << \"Example of the effect of bounded vs unbounded, For model 1\" << endl;\n",
    "cout <<  \"the BOUNDED Profile Likelihood interval is :\" << endl;\n",
    "cout << \"[\" << ll << \",\" << ul << \"]\" << endl;\n",
    "\n",
    "\n",
    "tr.SetBounding(false); //unbounded\n",
    "tr.GetLimits(ll,ul);\n",
    "\n",
    "cout <<  \"the UNBOUNDED Profile Likelihood interval is :\" << endl;\n",
    "cout << \"[\" << ll << \",\" << ul << \"]\" << endl;"
   ]
  }
 ],
 "metadata": {
  "kernelspec": {
   "display_name": "ROOT C++",
   "language": "c++",
   "name": "root"
  },
  "language_info": {
   "codemirror_mode": "text/x-c++src",
   "file_extension": ".C",
   "mimetype": " text/x-c++src",
   "name": "c++"
  }
 },
 "nbformat": 4,
 "nbformat_minor": 2
}
