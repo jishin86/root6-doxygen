{
 "cells": [
  {
   "cell_type": "markdown",
   "metadata": {},
   "source": [
    "# Rf 5 0 4_Simwstool\n",
    "\n",
    "Organization and simultaneous fits: using RooSimWSTool to construct a simultaneous p.d.f that is built of variations of an input p.d.f\n",
    "\n",
    "\n",
    "\n",
    "\n",
    "**Author:** Clemens Lange, Wouter Verkerke (C++ version)  \n",
    "<i><small>This notebook tutorial was automatically generated with <a href= \"https://github.com/root-project/root/blob/master/documentation/doxygen/converttonotebook.py\">ROOTBOOK-izer</a> from the macro found in the ROOT repository  on Thursday, August 29, 2019 at 02:55 AM.</small></i>"
   ]
  },
  {
   "cell_type": "code",
   "execution_count": 1,
   "metadata": {
    "collapsed": false
   },
   "outputs": [
    {
     "name": "stdout",
     "output_type": "stream",
     "text": [
      "Welcome to JupyROOT 6.18/03\n"
     ]
    }
   ],
   "source": [
    "import ROOT"
   ]
  },
  {
   "cell_type": "markdown",
   "metadata": {},
   "source": [
    "Create master pdf\n",
    "---------------------------------"
   ]
  },
  {
   "cell_type": "markdown",
   "metadata": {},
   "source": [
    "Construct gauss(x,m,s)"
   ]
  },
  {
   "cell_type": "code",
   "execution_count": 2,
   "metadata": {
    "collapsed": false
   },
   "outputs": [
    {
     "name": "stdout",
     "output_type": "stream",
     "text": [
      "\n",
      "\u001b[1mRooFit v3.60 -- Developed by Wouter Verkerke and David Kirkby\u001b[0m \n",
      "                Copyright (C) 2000-2013 NIKHEF, University of California & Stanford University\n",
      "                All rights reserved, please read http://roofit.sourceforge.net/license.txt\n",
      "\n"
     ]
    }
   ],
   "source": [
    "x = ROOT.RooRealVar(\"x\", \"x\", -10, 10)\n",
    "m = ROOT.RooRealVar(\"m\", \"m\", 0, -10, 10)\n",
    "s = ROOT.RooRealVar(\"s\", \"s\", 1, -10, 10)\n",
    "gauss = ROOT.RooGaussian(\"g\", \"g\", x, m, s)"
   ]
  },
  {
   "cell_type": "markdown",
   "metadata": {},
   "source": [
    "Construct poly(x,p0)"
   ]
  },
  {
   "cell_type": "code",
   "execution_count": 3,
   "metadata": {
    "collapsed": false
   },
   "outputs": [],
   "source": [
    "p0 = ROOT.RooRealVar(\"p0\", \"p0\", 0.01, 0., 1.)\n",
    "poly = ROOT.RooPolynomial(\"p\", \"p\", x, ROOT.RooArgList(p0))"
   ]
  },
  {
   "cell_type": "markdown",
   "metadata": {},
   "source": [
    "model = f*gauss(x) + (1-f)*poly(x)"
   ]
  },
  {
   "cell_type": "code",
   "execution_count": 4,
   "metadata": {
    "collapsed": false
   },
   "outputs": [],
   "source": [
    "f = ROOT.RooRealVar(\"f\", \"f\", 0.5, 0., 1.)\n",
    "model = ROOT.RooAddPdf(\"model\", \"model\", ROOT.RooArgList(\n",
    "    gauss, poly), ROOT.RooArgList(f))"
   ]
  },
  {
   "cell_type": "markdown",
   "metadata": {},
   "source": [
    "Create category observables for splitting\n",
    "----------------------------------------------------------------------------------"
   ]
  },
  {
   "cell_type": "markdown",
   "metadata": {},
   "source": [
    "Define two categories that can be used for splitting"
   ]
  },
  {
   "cell_type": "code",
   "execution_count": 5,
   "metadata": {
    "collapsed": false
   },
   "outputs": [
    {
     "data": {
      "text/plain": [
       "False"
      ]
     },
     "execution_count": 5,
     "metadata": {},
     "output_type": "execute_result"
    }
   ],
   "source": [
    "c = ROOT.RooCategory(\"c\", \"c\")\n",
    "c.defineType(\"run1\")\n",
    "c.defineType(\"run2\")\n",
    "\n",
    "d = ROOT.RooCategory(\"d\", \"d\")\n",
    "d.defineType(\"foo\")\n",
    "d.defineType(\"bar\")"
   ]
  },
  {
   "cell_type": "markdown",
   "metadata": {},
   "source": [
    "Set up SimWSTool\n",
    "-----------------------------"
   ]
  },
  {
   "cell_type": "markdown",
   "metadata": {},
   "source": [
    "Import ingredients in a workspace"
   ]
  },
  {
   "cell_type": "code",
   "execution_count": 6,
   "metadata": {
    "collapsed": false
   },
   "outputs": [
    {
     "data": {
      "text/plain": [
       "False"
      ]
     },
     "execution_count": 6,
     "metadata": {},
     "output_type": "execute_result"
    },
    {
     "name": "stdout",
     "output_type": "stream",
     "text": [
      "[#1] INFO:ObjectHandling -- RooWorkspace::import(w) importing RooAddPdf::model\n",
      "[#1] INFO:ObjectHandling -- RooWorkspace::import(w) importing RooGaussian::g\n",
      "[#1] INFO:ObjectHandling -- RooWorkspace::import(w) importing RooRealVar::x\n",
      "[#1] INFO:ObjectHandling -- RooWorkspace::import(w) importing RooRealVar::m\n",
      "[#1] INFO:ObjectHandling -- RooWorkspace::import(w) importing RooRealVar::s\n",
      "[#1] INFO:ObjectHandling -- RooWorkspace::import(w) importing RooRealVar::f\n",
      "[#1] INFO:ObjectHandling -- RooWorkspace::import(w) importing RooPolynomial::p\n",
      "[#1] INFO:ObjectHandling -- RooWorkspace::import(w) importing RooRealVar::p0\n",
      "[#1] INFO:ObjectHandling -- RooWorkspace::import(w) importing RooCategory::c\n",
      "[#1] INFO:ObjectHandling -- RooWorkspace::import(w) importing RooCategory::d\n"
     ]
    }
   ],
   "source": [
    "w = ROOT.RooWorkspace(\"w\", \"w\")\n",
    "getattr(w, 'import')(ROOT.RooArgSet(model, c, d))"
   ]
  },
  {
   "cell_type": "markdown",
   "metadata": {},
   "source": [
    "Make Sim builder tool"
   ]
  },
  {
   "cell_type": "code",
   "execution_count": 7,
   "metadata": {
    "collapsed": false
   },
   "outputs": [],
   "source": [
    "sct = ROOT.RooSimWSTool(w)"
   ]
  },
  {
   "cell_type": "markdown",
   "metadata": {},
   "source": [
    "Build a simultaneous model with one split\n",
    "---------------------------------------------------------------------------------"
   ]
  },
  {
   "cell_type": "markdown",
   "metadata": {},
   "source": [
    "Construct a simultaneous p.d.f with the following form\n",
    "\n",
    "model_run1(x) = f*gauss_run1(x,m_run1,s) + (1-f)*poly\n",
    "model_run2(x) = f*gauss_run2(x,m_run2,s) + (1-f)*poly\n",
    "simpdf(x,c) = model_run1(x) if c==\"run1\"\n",
    "            = model_run2(x) if c==\"run2\"\n",
    "\n",
    "Returned p.d.f is owned by the workspace"
   ]
  },
  {
   "cell_type": "code",
   "execution_count": 8,
   "metadata": {
    "collapsed": false
   },
   "outputs": [
    {
     "name": "stdout",
     "output_type": "stream",
     "text": [
      "Splitrule for p.d.f model with state list \n",
      " parameter m is split with constraint in categories (c)\n",
      "[#1] INFO:ObjectHandling -- RooSimWSTool::executeBuild: list of prototype pdfs (model)\n",
      "[#1] INFO:ObjectHandling -- RooSimWSTool::executeBuild: list of splitting categories (c)\n",
      "[#1] INFO:ObjectHandling -- RooSimPdfBuilder::executeBuild: processing prototype pdf model\n",
      "[#1] INFO:ObjectHandling -- RooSimWSTool::executeBuild: configured customizers for all prototype pdfs\n",
      "[#1] INFO:ObjectHandling -- RooSimWSTool::executeBuild: Customizing prototype pdf model for mode run1\n",
      "[#1] INFO:ObjectHandling -- RooSimWSTool::executeBuild: Customizing prototype pdf model for mode run2\n",
      "[#1] INFO:ObjectHandling -- RooWorkspace::import(w) importing RooSimultaneous::model_sim\n",
      "[#1] INFO:ObjectHandling -- RooWorkspace::import(w) importing RooAddPdf::model_run1\n",
      "[#1] INFO:ObjectHandling -- RooWorkspace::import(w) importing RooGaussian::g_run1\n",
      "[#1] INFO:ObjectHandling -- RooWorkspace::import(w) importing RooRealVar::m_run1\n",
      "[#1] INFO:ObjectHandling -- RooWorkspace::import(w) importing RooAddPdf::model_run2\n",
      "[#1] INFO:ObjectHandling -- RooWorkspace::import(w) importing RooGaussian::g_run2\n",
      "[#1] INFO:ObjectHandling -- RooWorkspace::import(w) importing RooRealVar::m_run2\n"
     ]
    }
   ],
   "source": [
    "model_sim = sct.build(\"model_sim\", \"model\",\n",
    "                      ROOT.RooFit.SplitParam(\"m\", \"c\"))"
   ]
  },
  {
   "cell_type": "markdown",
   "metadata": {},
   "source": [
    "Print tree structure of model"
   ]
  },
  {
   "cell_type": "code",
   "execution_count": 9,
   "metadata": {
    "collapsed": false
   },
   "outputs": [
    {
     "name": "stdout",
     "output_type": "stream",
     "text": [
      "0x5642b87d5560 RooSimultaneous::model_sim = 1 [Auto,Dirty] \n",
      "  0x5642b87e92d0/V- RooAddPdf::model_run1 = 1 [Auto,Dirty] \n",
      "    0x5642b87283b0/V- RooGaussian::g_run1 = 1 [Auto,Dirty] \n",
      "      0x5642b865ef10/V- RooRealVar::m_run1 = 0\n",
      "      0x5642b855ece0/V- RooRealVar::x = 0\n",
      "      0x5642b8540180/V- RooRealVar::s = 1\n",
      "    0x5642b84e6cf0/V- RooRealVar::f = 0.5\n",
      "    0x5642b861b9d0/V- RooPolynomial::p = 1 [Auto,Dirty] \n",
      "      0x5642b855ece0/V- RooRealVar::x = 0\n",
      "      0x5642b855c100/V- RooRealVar::p0 = 0.01\n",
      "  0x5642b87e9930/V- RooAddPdf::model_run2 = 1 [Auto,Dirty] \n",
      "    0x5642b867b480/V- RooGaussian::g_run2 = 1 [Auto,Dirty] \n",
      "      0x5642b8726190/V- RooRealVar::m_run2 = 0\n",
      "      0x5642b855ece0/V- RooRealVar::x = 0\n",
      "      0x5642b8540180/V- RooRealVar::s = 1\n",
      "    0x5642b84e6cf0/V- RooRealVar::f = 0.5\n",
      "    0x5642b861b9d0/V- RooPolynomial::p = 1 [Auto,Dirty] \n",
      "      0x5642b855ece0/V- RooRealVar::x = 0\n",
      "      0x5642b855c100/V- RooRealVar::p0 = 0.01\n",
      "  0x5642b86a0170/V- RooCategory::c = run2(idx = 1)\n",
      "\n"
     ]
    }
   ],
   "source": [
    "model_sim.Print(\"t\")"
   ]
  },
  {
   "cell_type": "markdown",
   "metadata": {},
   "source": [
    "Adjust model_sim parameters in workspace"
   ]
  },
  {
   "cell_type": "code",
   "execution_count": 10,
   "metadata": {
    "collapsed": false
   },
   "outputs": [],
   "source": [
    "w.var(\"m_run1\").setVal(-3)\n",
    "w.var(\"m_run2\").setVal(+3)"
   ]
  },
  {
   "cell_type": "markdown",
   "metadata": {},
   "source": [
    "Print contents of workspace"
   ]
  },
  {
   "cell_type": "code",
   "execution_count": 11,
   "metadata": {
    "collapsed": false
   },
   "outputs": [
    {
     "name": "stdout",
     "output_type": "stream",
     "text": [
      "\n",
      "RooWorkspace(w) w contents\n",
      "\n",
      "variables\n",
      "---------\n",
      "(c,d,f,m,m_run1,m_run2,p0,s,x)\n",
      "\n",
      "p.d.f.s\n",
      "-------\n",
      "RooGaussian::g[ x=x mean=m sigma=s ] = 1\n",
      "RooGaussian::g_run1[ x=x mean=m_run1 sigma=s ] = 0.011109\n",
      "RooGaussian::g_run2[ x=x mean=m_run2 sigma=s ] = 0.011109\n",
      "RooAddPdf::model[ f * g + [%] * p ] = 1\n",
      "RooAddPdf::model_run1[ f * g_run1 + [%] * p ] = 0.505554\n",
      "RooAddPdf::model_run2[ f * g_run2 + [%] * p ] = 0.505554\n",
      "RooSimultaneous::model_sim[ indexCat=c run1=model_run1 run2=model_run2 ] = 0.505554\n",
      "RooPolynomial::p[ x=x coefList=(p0) ] = 1\n",
      "\n"
     ]
    }
   ],
   "source": [
    "w.Print(\"v\")"
   ]
  },
  {
   "cell_type": "markdown",
   "metadata": {},
   "source": [
    "Build a simultaneous model with product split\n",
    "-----------------------------------------------------------------------------------------"
   ]
  },
  {
   "cell_type": "markdown",
   "metadata": {},
   "source": [
    "Build another simultaneous p.d.f using a composite split in states c X d"
   ]
  },
  {
   "cell_type": "code",
   "execution_count": 12,
   "metadata": {
    "collapsed": false
   },
   "outputs": [
    {
     "name": "stdout",
     "output_type": "stream",
     "text": [
      "Splitrule for p.d.f model with state list \n",
      " parameter p0 is split with constraint in categories (c,d)\n",
      "[#1] INFO:ObjectHandling -- RooSimWSTool::executeBuild: list of prototype pdfs (model)\n",
      "[#1] INFO:ObjectHandling -- RooSimWSTool::executeBuild: list of splitting categories (c,d)\n",
      "[#1] INFO:ObjectHandling -- RooSimPdfBuilder::executeBuild: processing prototype pdf model\n",
      "[#1] INFO:ObjectHandling -- RooWorkspace::import(w) importing RooMultiCategory::c,d\n",
      "[#1] INFO:ObjectHandling -- RooSimWSTool::executeBuild: configured customizers for all prototype pdfs\n",
      "[#1] INFO:ObjectHandling -- RooSimWSTool::executeBuild: Customizing prototype pdf model for mode {run1;foo}\n",
      "[#1] INFO:ObjectHandling -- RooSimWSTool::executeBuild: Customizing prototype pdf model for mode {run2;foo}\n",
      "[#1] INFO:ObjectHandling -- RooSimWSTool::executeBuild: Customizing prototype pdf model for mode {run1;bar}\n",
      "[#1] INFO:ObjectHandling -- RooSimWSTool::executeBuild: Customizing prototype pdf model for mode {run2;bar}\n",
      "[#1] INFO:ObjectHandling -- RooWorkspace::import(w) importing RooSimultaneous::model_sim2\n",
      "[#1] INFO:ObjectHandling -- RooWorkspace::import(w) importing RooSuperCategory::model_sim2_index\n",
      "[#1] INFO:ObjectHandling -- RooWorkspace::import(w) importing RooAddPdf::model_{run1;foo}\n",
      "[#1] INFO:ObjectHandling -- RooWorkspace::import(w) importing RooPolynomial::p_{run1;foo}\n",
      "[#1] INFO:ObjectHandling -- RooWorkspace::import(w) importing RooRealVar::p0_{run1;foo}\n",
      "[#1] INFO:ObjectHandling -- RooWorkspace::import(w) importing RooAddPdf::model_{run2;foo}\n",
      "[#1] INFO:ObjectHandling -- RooWorkspace::import(w) importing RooPolynomial::p_{run2;foo}\n",
      "[#1] INFO:ObjectHandling -- RooWorkspace::import(w) importing RooRealVar::p0_{run2;foo}\n",
      "[#1] INFO:ObjectHandling -- RooWorkspace::import(w) importing RooAddPdf::model_{run1;bar}\n",
      "[#1] INFO:ObjectHandling -- RooWorkspace::import(w) importing RooPolynomial::p_{run1;bar}\n",
      "[#1] INFO:ObjectHandling -- RooWorkspace::import(w) importing RooRealVar::p0_{run1;bar}\n",
      "[#1] INFO:ObjectHandling -- RooWorkspace::import(w) importing RooAddPdf::model_{run2;bar}\n",
      "[#1] INFO:ObjectHandling -- RooWorkspace::import(w) importing RooPolynomial::p_{run2;bar}\n",
      "[#1] INFO:ObjectHandling -- RooWorkspace::import(w) importing RooRealVar::p0_{run2;bar}\n"
     ]
    }
   ],
   "source": [
    "model_sim2 = sct.build(\"model_sim2\", \"model\",\n",
    "                       ROOT.RooFit.SplitParam(\"p0\", \"c,d\"))"
   ]
  },
  {
   "cell_type": "markdown",
   "metadata": {},
   "source": [
    "Print tree structure of self model"
   ]
  },
  {
   "cell_type": "code",
   "execution_count": 13,
   "metadata": {
    "collapsed": false
   },
   "outputs": [
    {
     "name": "stdout",
     "output_type": "stream",
     "text": [
      "0x5642b874c3e0 RooSimultaneous::model_sim2 = 1 [Auto,Dirty] \n",
      "  0x5642b876f910/V- RooSuperCategory::model_sim2_index = {run2;bar}(idx = 3)\n",
      " [Auto,Clean] \n",
      "    0x5642b86a0170/VS RooCategory::c = run2(idx = 1)\n",
      "\n",
      "    0x5642b84bbd70/VS RooCategory::d = bar(idx = 1)\n",
      "\n",
      "  0x5642b878a070/V- RooAddPdf::model_{run1;foo} = 1 [Auto,Dirty] \n",
      "    0x5642b8790200/V- RooPolynomial::p_{run1;foo} = 1 [Auto,Dirty] \n",
      "      0x5642b8791250/V- RooRealVar::p0_{run1;foo} = 0.01\n",
      "      0x5642b855ece0/V- RooRealVar::x = 0\n",
      "    0x5642b8525670/V- RooGaussian::g = 1 [Auto,Dirty] \n",
      "      0x5642b855ece0/V- RooRealVar::x = 0\n",
      "      0x5642b855ff30/V- RooRealVar::m = 0\n",
      "      0x5642b8540180/V- RooRealVar::s = 1\n",
      "    0x5642b84e6cf0/V- RooRealVar::f = 0.5\n",
      "  0x5642b877ad70/V- RooAddPdf::model_{run2;foo} = 1 [Auto,Dirty] \n",
      "    0x5642b877c640/V- RooPolynomial::p_{run2;foo} = 1 [Auto,Dirty] \n",
      "      0x5642b877d730/V- RooRealVar::p0_{run2;foo} = 0.01\n",
      "      0x5642b855ece0/V- RooRealVar::x = 0\n",
      "    0x5642b8525670/V- RooGaussian::g = 1 [Auto,Dirty] \n",
      "      0x5642b855ece0/V- RooRealVar::x = 0\n",
      "      0x5642b855ff30/V- RooRealVar::m = 0\n",
      "      0x5642b8540180/V- RooRealVar::s = 1\n",
      "    0x5642b84e6cf0/V- RooRealVar::f = 0.5\n",
      "  0x5642b877dfc0/V- RooAddPdf::model_{run1;bar} = 1 [Auto,Dirty] \n",
      "    0x5642b877fa50/V- RooPolynomial::p_{run1;bar} = 1 [Auto,Dirty] \n",
      "      0x5642b8780d80/V- RooRealVar::p0_{run1;bar} = 0.01\n",
      "      0x5642b855ece0/V- RooRealVar::x = 0\n",
      "    0x5642b8525670/V- RooGaussian::g = 1 [Auto,Dirty] \n",
      "      0x5642b855ece0/V- RooRealVar::x = 0\n",
      "      0x5642b855ff30/V- RooRealVar::m = 0\n",
      "      0x5642b8540180/V- RooRealVar::s = 1\n",
      "    0x5642b84e6cf0/V- RooRealVar::f = 0.5\n",
      "  0x5642b87814c0/V- RooAddPdf::model_{run2;bar} = 1 [Auto,Dirty] \n",
      "    0x5642b8782f30/V- RooPolynomial::p_{run2;bar} = 1 [Auto,Dirty] \n",
      "      0x5642b8784020/V- RooRealVar::p0_{run2;bar} = 0.01\n",
      "      0x5642b855ece0/V- RooRealVar::x = 0\n",
      "    0x5642b8525670/V- RooGaussian::g = 1 [Auto,Dirty] \n",
      "      0x5642b855ece0/V- RooRealVar::x = 0\n",
      "      0x5642b855ff30/V- RooRealVar::m = 0\n",
      "      0x5642b8540180/V- RooRealVar::s = 1\n",
      "    0x5642b84e6cf0/V- RooRealVar::f = 0.5\n"
     ]
    }
   ],
   "source": [
    "model_sim2.Print(\"t\")"
   ]
  }
 ],
 "metadata": {
  "kernelspec": {
   "display_name": "Python 2",
   "language": "python",
   "name": "python2"
  },
  "language_info": {
   "codemirror_mode": {
    "name": "ipython",
    "version": 2
   },
   "file_extension": ".py",
   "mimetype": "text/x-python",
   "name": "python",
   "nbconvert_exporter": "python",
   "pygments_lexer": "ipython2",
   "version": "2.7.10"
  }
 },
 "nbformat": 4,
 "nbformat_minor": 2
}
