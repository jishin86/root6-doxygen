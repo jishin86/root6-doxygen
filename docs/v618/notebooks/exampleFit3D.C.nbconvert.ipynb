{
 "cells": [
  {
   "cell_type": "markdown",
   "metadata": {},
   "source": [
    "# Example Fit 3 D\n",
    "example of fitting a 3D function\n",
    "Typical multidimensional parametric regression where the predictor\n",
    "depends on 3 variables\n",
    "\n",
    "In the case of 1 or 2D one can use the TGraph classes\n",
    "but since no TGraph3D class exists this tutorial provide\n",
    "an example of fitting 3D points\n",
    "\n",
    "\n",
    "\n",
    "\n",
    "**Author:** Lorenzo Moneta  \n",
    "<i><small>This notebook tutorial was automatically generated with <a href= \"https://github.com/root-project/root/blob/master/documentation/doxygen/converttonotebook.py\">ROOTBOOK-izer</a> from the macro found in the ROOT repository  on Thursday, August 29, 2019 at 01:27 AM.</small></i>"
   ]
  },
  {
   "cell_type": "code",
   "execution_count": 1,
   "metadata": {
    "collapsed": false
   },
   "outputs": [],
   "source": [
    "%%cpp -d\n",
    "#include \"TRandom2.h\"\n",
    "#include \"TF3.h\"\n",
    "#include \"TError.h\"\n",
    "#include \"Fit/BinData.h\"\n",
    "#include \"Fit/Fitter.h\"\n",
    "#include \"Math/WrappedMultiTF1.h\""
   ]
  },
  {
   "cell_type": "code",
   "execution_count": 2,
   "metadata": {
    "collapsed": false
   },
   "outputs": [],
   "source": [
    "const int n = 1000;\n",
    "double x[n], y[n], z[n], v[n];\n",
    "double ev = 0.1;"
   ]
  },
  {
   "cell_type": "markdown",
   "metadata": {},
   "source": [
    "Generate the data"
   ]
  },
  {
   "cell_type": "code",
   "execution_count": 3,
   "metadata": {
    "collapsed": false
   },
   "outputs": [],
   "source": [
    "TRandom2 r;\n",
    "for (int i = 0; i < n; ++i) {\n",
    "   x[i] = r.Uniform(0,10);\n",
    "   y[i] = r.Uniform(0,10);\n",
    "   z[i] = r.Uniform(0,10);\n",
    "   v[i] = sin(x[i] ) + cos(y[i]) + z[i] + r.Gaus(0,ev);\n",
    "}"
   ]
  },
  {
   "cell_type": "markdown",
   "metadata": {},
   "source": [
    "Create a 3d binned data structure"
   ]
  },
  {
   "cell_type": "code",
   "execution_count": 4,
   "metadata": {
    "collapsed": false
   },
   "outputs": [],
   "source": [
    "ROOT::Fit::BinData data(n,3);\n",
    "double xx[3];\n",
    "for(int i = 0; i < n; ++i) {\n",
    "   xx[0] = x[i];\n",
    "   xx[1] = y[i];\n",
    "   xx[2] = z[i];\n",
    "   // add the 3d-data coordinate, the predictor value (v[i])  and its errors\n",
    "   data.Add(xx, v[i], ev);\n",
    "}\n",
    "\n",
    "TF3 * f3 = new TF3(\"f3\",\"[0] * sin(x) + [1] * cos(y) + [2] * z\",0,10,0,10,0,10);\n",
    "f3->SetParameters(2,2,2);\n",
    "ROOT::Fit::Fitter fitter;"
   ]
  },
  {
   "cell_type": "markdown",
   "metadata": {},
   "source": [
    "Wrapped the tf1 in a iparammultifunction interface for the fitter class"
   ]
  },
  {
   "cell_type": "code",
   "execution_count": 5,
   "metadata": {
    "collapsed": false
   },
   "outputs": [],
   "source": [
    "ROOT::Math::WrappedMultiTF1 wf(*f3,3);\n",
    "fitter.SetFunction(wf);"
   ]
  },
  {
   "cell_type": "code",
   "execution_count": 6,
   "metadata": {
    "collapsed": false
   },
   "outputs": [
    {
     "name": "stdout",
     "output_type": "stream",
     "text": [
      "\n",
      "****************************************\n",
      "Minimizer is Minuit / Migrad\n",
      "Chi2                      =      993.065\n",
      "NDf                       =          997\n",
      "Edm                       =   1.2693e-19\n",
      "NCalls                    =           43\n",
      "p0                        =     0.993546   +/-   0.00475134  \n",
      "p1                        =      0.99397   +/-   0.00434249  \n",
      "p2                        =     0.997895   +/-   0.000545663 \n",
      "Good fit : p-value  = 0.529221\n"
     ]
    }
   ],
   "source": [
    "bool ret = fitter.Fit(data);\n",
    "if (ret) {\n",
    "   const ROOT::Fit::FitResult & res = fitter.Result();\n",
    "   // print result (should be around 1)\n",
    "   res.Print(std::cout);\n",
    "   // copy all fit result info (values, chi2, etc..) in TF3\n",
    "   f3->SetFitResult(res);\n",
    "   // test fit p-value (chi2 probability)\n",
    "   double prob = res.Prob();\n",
    "   if (prob < 1.E-2)\n",
    "      Error(\"exampleFit3D\",\"Bad data fit - fit p-value is %f\",prob);\n",
    "   else\n",
    "      std::cout << \"Good fit : p-value  = \" << prob << std::endl;\n",
    "\n",
    "}\n",
    "else\n",
    "   Error(\"exampleFit3D\",\"3D fit failed\");"
   ]
  }
 ],
 "metadata": {
  "kernelspec": {
   "display_name": "ROOT C++",
   "language": "c++",
   "name": "root"
  },
  "language_info": {
   "codemirror_mode": "text/x-c++src",
   "file_extension": ".C",
   "mimetype": " text/x-c++src",
   "name": "c++"
  }
 },
 "nbformat": 4,
 "nbformat_minor": 2
}
