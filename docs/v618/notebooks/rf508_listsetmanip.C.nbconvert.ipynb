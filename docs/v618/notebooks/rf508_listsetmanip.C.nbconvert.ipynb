{
 "cells": [
  {
   "cell_type": "markdown",
   "metadata": {},
   "source": [
    "# Rf 5 0 8_Listsetmanip\n",
    "Organization and simultaneous fits: RooArgSet and RooArgList tools and tricks\n",
    "\n",
    "\n",
    "\n",
    "**Author:** 07/2008 - Wouter Verkerke  \n",
    "<i><small>This notebook tutorial was automatically generated with <a href= \"https://github.com/root-project/root/blob/master/documentation/doxygen/converttonotebook.py\">ROOTBOOK-izer</a> from the macro found in the ROOT repository  on Thursday, August 29, 2019 at 02:56 AM.</small></i>"
   ]
  },
  {
   "cell_type": "code",
   "execution_count": 1,
   "metadata": {
    "collapsed": false
   },
   "outputs": [],
   "source": [
    "%%cpp -d\n",
    "#include \"RooRealVar.h\"\n",
    "#include \"RooDataSet.h\"\n",
    "#include \"RooGaussian.h\"\n",
    "#include \"RooConstVar.h\"\n",
    "#include \"TCanvas.h\"\n",
    "#include \"TAxis.h\"\n",
    "#include \"RooPlot.h\"\n",
    "#include \"RooArgSet.h\"\n",
    "#include \"RooArgList.h\"\n",
    "#include \"RooCategory.h\""
   ]
  },
  {
   "cell_type": "code",
   "execution_count": 2,
   "metadata": {
    "collapsed": false
   },
   "outputs": [],
   "source": [
    "%%cpp -d\n",
    "// This is a workaround to make sure the namespace is used inside functions\n",
    "using namespace RooFit;"
   ]
  },
  {
   "cell_type": "markdown",
   "metadata": {},
   "source": [
    "Create dummy objects\n",
    " ---------------------------------------"
   ]
  },
  {
   "cell_type": "markdown",
   "metadata": {},
   "source": [
    "Create some variables"
   ]
  },
  {
   "cell_type": "code",
   "execution_count": 3,
   "metadata": {
    "collapsed": false
   },
   "outputs": [
    {
     "name": "stdout",
     "output_type": "stream",
     "text": [
      "\n",
      "\u001b[1mRooFit v3.60 -- Developed by Wouter Verkerke and David Kirkby\u001b[0m \n",
      "                Copyright (C) 2000-2013 NIKHEF, University of California & Stanford University\n",
      "                All rights reserved, please read http://roofit.sourceforge.net/license.txt\n",
      "\n"
     ]
    }
   ],
   "source": [
    "RooRealVar a(\"a\", \"a\", 1, -10, 10);\n",
    "RooRealVar b(\"b\", \"b\", 2, -10, 10);\n",
    "RooRealVar c(\"c\", \"c\", 3, -10, 10);\n",
    "RooRealVar d(\"d\", \"d\", 4, -10, 10);\n",
    "RooRealVar x(\"x\", \"x\", 0, -10, 10);\n",
    "c.setError(0.5);\n",
    "a.setConstant();\n",
    "b.setConstant();"
   ]
  },
  {
   "cell_type": "markdown",
   "metadata": {},
   "source": [
    "Create a category"
   ]
  },
  {
   "cell_type": "code",
   "execution_count": 4,
   "metadata": {
    "collapsed": false
   },
   "outputs": [],
   "source": [
    "RooCategory e(\"e\", \"e\");\n",
    "e.defineType(\"sig\");\n",
    "e.defineType(\"bkg\");"
   ]
  },
  {
   "cell_type": "markdown",
   "metadata": {},
   "source": [
    "Create a pdf"
   ]
  },
  {
   "cell_type": "code",
   "execution_count": 5,
   "metadata": {
    "collapsed": false
   },
   "outputs": [],
   "source": [
    "RooGaussian g(\"g\", \"g\", x, a, b);"
   ]
  },
  {
   "cell_type": "markdown",
   "metadata": {},
   "source": [
    "Creating, filling rooargsets\n",
    " -------------------------------------------------------"
   ]
  },
  {
   "cell_type": "markdown",
   "metadata": {},
   "source": [
    "A rooargset is a set of rooabsarg objects. each object in the set must have\n",
    " a unique name"
   ]
  },
  {
   "cell_type": "markdown",
   "metadata": {},
   "source": [
    "Set constructors exists with up to 9 initial arguments"
   ]
  },
  {
   "cell_type": "code",
   "execution_count": 6,
   "metadata": {
    "collapsed": false
   },
   "outputs": [],
   "source": [
    "RooArgSet s(a, b);"
   ]
  },
  {
   "cell_type": "markdown",
   "metadata": {},
   "source": [
    "At any time objects can be added with add()"
   ]
  },
  {
   "cell_type": "code",
   "execution_count": 7,
   "metadata": {
    "collapsed": false
   },
   "outputs": [],
   "source": [
    "s.add(e);"
   ]
  },
  {
   "cell_type": "markdown",
   "metadata": {},
   "source": [
    "Add up to 9 additional arguments in one call"
   ]
  },
  {
   "cell_type": "code",
   "execution_count": 8,
   "metadata": {
    "collapsed": false
   },
   "outputs": [],
   "source": [
    "s.add(RooArgSet(c, d));"
   ]
  },
  {
   "cell_type": "markdown",
   "metadata": {},
   "source": [
    "Sets can contain any type of rooabsarg, also pdf and functions"
   ]
  },
  {
   "cell_type": "code",
   "execution_count": 9,
   "metadata": {
    "collapsed": false
   },
   "outputs": [],
   "source": [
    "s.add(g);"
   ]
  },
  {
   "cell_type": "markdown",
   "metadata": {},
   "source": [
    "Remove element d"
   ]
  },
  {
   "cell_type": "code",
   "execution_count": 10,
   "metadata": {
    "collapsed": false
   },
   "outputs": [],
   "source": [
    "s.remove(d);"
   ]
  },
  {
   "cell_type": "markdown",
   "metadata": {},
   "source": [
    "Accessing rooargset contents\n",
    " -------------------------------------------------------"
   ]
  },
  {
   "cell_type": "markdown",
   "metadata": {},
   "source": [
    "You can look up objects by name"
   ]
  },
  {
   "cell_type": "code",
   "execution_count": 11,
   "metadata": {
    "collapsed": false
   },
   "outputs": [],
   "source": [
    "RooAbsArg *aptr = s.find(\"a\");"
   ]
  },
  {
   "cell_type": "markdown",
   "metadata": {},
   "source": [
    "Construct a subset by name"
   ]
  },
  {
   "cell_type": "code",
   "execution_count": 12,
   "metadata": {
    "collapsed": false
   },
   "outputs": [],
   "source": [
    "RooArgSet *subset1 = (RooArgSet *)s.selectByName(\"a,b,c\");"
   ]
  },
  {
   "cell_type": "markdown",
   "metadata": {},
   "source": [
    "Construct asubset by attribute"
   ]
  },
  {
   "cell_type": "code",
   "execution_count": 13,
   "metadata": {
    "collapsed": false
   },
   "outputs": [],
   "source": [
    "RooArgSet *subset2 = (RooArgSet *)s.selectByAttrib(\"Constant\", kTRUE);"
   ]
  },
  {
   "cell_type": "markdown",
   "metadata": {},
   "source": [
    "Construct the subset of overlapping contents with another set"
   ]
  },
  {
   "cell_type": "code",
   "execution_count": 14,
   "metadata": {
    "collapsed": false
   },
   "outputs": [],
   "source": [
    "RooArgSet s1(a, b, c);\n",
    "RooArgSet s2(c, d, e);\n",
    "RooArgSet *subset3 = (RooArgSet *)s1.selectCommon(s2);"
   ]
  },
  {
   "cell_type": "markdown",
   "metadata": {},
   "source": [
    "Owning rooargsets\n",
    " ---------------------------------"
   ]
  },
  {
   "cell_type": "markdown",
   "metadata": {},
   "source": [
    "Create a rooargset that owns its components\n",
    " A set either owns all of its components or none,\n",
    " so once addOwned() is used, add() can no longer be\n",
    " used and will result in an error message"
   ]
  },
  {
   "cell_type": "code",
   "execution_count": 15,
   "metadata": {
    "collapsed": false
   },
   "outputs": [],
   "source": [
    "RooRealVar *ac = (RooRealVar *)a.clone(\"a\");\n",
    "RooRealVar *bc = (RooRealVar *)b.clone(\"b\");\n",
    "RooRealVar *cc = (RooRealVar *)c.clone(\"c\");\n",
    "\n",
    "RooArgSet s3;\n",
    "s3.addOwned(RooArgSet(*ac, *bc, *cc));"
   ]
  },
  {
   "cell_type": "markdown",
   "metadata": {},
   "source": [
    "Another possibility is to add an owned clone\n",
    " of an object instead of the original"
   ]
  },
  {
   "cell_type": "code",
   "execution_count": 16,
   "metadata": {
    "collapsed": false
   },
   "outputs": [],
   "source": [
    "s3.addClone(RooArgSet(d, e, g));"
   ]
  },
  {
   "cell_type": "markdown",
   "metadata": {},
   "source": [
    "A clone of a owning set is non-owning and its\n",
    " contents is owned by the originating owning set"
   ]
  },
  {
   "cell_type": "code",
   "execution_count": 17,
   "metadata": {
    "collapsed": false
   },
   "outputs": [],
   "source": [
    "RooArgSet *sclone = (RooArgSet *)s3.Clone(\"sclone\");"
   ]
  },
  {
   "cell_type": "markdown",
   "metadata": {},
   "source": [
    "To make a clone of a set and its contents use\n",
    " the snapshot method"
   ]
  },
  {
   "cell_type": "code",
   "execution_count": 18,
   "metadata": {
    "collapsed": false
   },
   "outputs": [],
   "source": [
    "RooArgSet *sclone2 = (RooArgSet *)s3.snapshot();"
   ]
  },
  {
   "cell_type": "markdown",
   "metadata": {},
   "source": [
    "If a set contains function objects, only the head node\n",
    " is cloned in a snapshot. To make a snapshot of all\n",
    " servers of a function object do as follows. The result\n",
    " of a RooArgSet snapshot with deepCloning option is a set\n",
    " of cloned objects, and all their clone (recursive) server\n",
    " dependencies, that together form a self-consistent\n",
    " set that is free of external dependencies"
   ]
  },
  {
   "cell_type": "code",
   "execution_count": 19,
   "metadata": {
    "collapsed": false
   },
   "outputs": [],
   "source": [
    "RooArgSet *sclone3 = (RooArgSet *)s3.snapshot(kTRUE);"
   ]
  },
  {
   "cell_type": "markdown",
   "metadata": {},
   "source": [
    "Set printing\n",
    " ------------------------"
   ]
  },
  {
   "cell_type": "markdown",
   "metadata": {},
   "source": [
    "Inline printing only show list of names of contained objects"
   ]
  },
  {
   "cell_type": "code",
   "execution_count": 20,
   "metadata": {
    "collapsed": false
   },
   "outputs": [
    {
     "name": "stdout",
     "output_type": "stream",
     "text": [
      "sclone = (a,b,c,d,e,g)\n"
     ]
    }
   ],
   "source": [
    "cout << \"sclone = \" << (*sclone) << endl;"
   ]
  },
  {
   "cell_type": "markdown",
   "metadata": {},
   "source": [
    "Plain print shows the same, prefixed by name of the set"
   ]
  },
  {
   "cell_type": "code",
   "execution_count": 21,
   "metadata": {
    "collapsed": false
   },
   "outputs": [
    {
     "name": "stdout",
     "output_type": "stream",
     "text": [
      "RooArgSet::sclone = (a,b,c,d,e,g)\n"
     ]
    }
   ],
   "source": [
    "sclone->Print();"
   ]
  },
  {
   "cell_type": "markdown",
   "metadata": {},
   "source": [
    "Standard printing shows one line for each item with the items name, class name and value"
   ]
  },
  {
   "cell_type": "code",
   "execution_count": 22,
   "metadata": {
    "collapsed": false
   },
   "outputs": [
    {
     "name": "stdout",
     "output_type": "stream",
     "text": [
      "  1) RooRealVar:: a = 1\n",
      "  2) RooRealVar:: b = 2\n",
      "  3) RooRealVar:: c = 3 +/- 0.5\n",
      "  4) RooRealVar:: d = 4\n",
      "  5) RooCategory:: e = sig(idx = 0)\n",
      "\n",
      "  6) RooGaussian:: g = 0.882497\n"
     ]
    }
   ],
   "source": [
    "sclone->Print(\"s\");"
   ]
  },
  {
   "cell_type": "markdown",
   "metadata": {},
   "source": [
    "Verbose printing adds each items arguments, address and 'extras' as defined by the object"
   ]
  },
  {
   "cell_type": "code",
   "execution_count": 23,
   "metadata": {
    "collapsed": false
   },
   "outputs": [
    {
     "name": "stdout",
     "output_type": "stream",
     "text": [
      "  1) 0x7f2ee459ecb0 RooRealVar:: a = 1 C  L(-10 - 10)  \"a\"\n",
      "  2) 0x7f2ee4470d50 RooRealVar:: b = 2 C  L(-10 - 10)  \"b\"\n",
      "  3) 0x7f2ee446fd60 RooRealVar:: c = 3 +/- 0.5  L(-10 - 10)  \"c\"\n",
      "  4) 0x7f2ee45cdd30 RooRealVar:: d = 4  L(-10 - 10)  \"d\"\n",
      "  5) 0x7f2ee45ae060 RooCategory:: e = sig(idx = 0)\n",
      "  \"e\"\n",
      "  6) 0x7f2ee44dca90 RooGaussian:: g[ x=x mean=a sigma=b ] = 0.882497  \"g\"\n"
     ]
    }
   ],
   "source": [
    "sclone->Print(\"v\");"
   ]
  },
  {
   "cell_type": "markdown",
   "metadata": {},
   "source": [
    "Using rooarglists\n",
    " ---------------------------------"
   ]
  },
  {
   "cell_type": "markdown",
   "metadata": {},
   "source": [
    "List constructors exists with up to 9 initial arguments"
   ]
  },
  {
   "cell_type": "code",
   "execution_count": 24,
   "metadata": {
    "collapsed": false
   },
   "outputs": [],
   "source": [
    "RooArgList l(a, b, c, d);"
   ]
  },
  {
   "cell_type": "markdown",
   "metadata": {},
   "source": [
    "Lists have an explicit order and allow multiple arguments with the same name"
   ]
  },
  {
   "cell_type": "code",
   "execution_count": 25,
   "metadata": {
    "collapsed": false
   },
   "outputs": [],
   "source": [
    "l.add(RooArgList(a, b, c, d));"
   ]
  },
  {
   "cell_type": "markdown",
   "metadata": {},
   "source": [
    "Access by index is provided"
   ]
  },
  {
   "cell_type": "code",
   "execution_count": 26,
   "metadata": {
    "collapsed": false
   },
   "outputs": [],
   "source": [
    "RooAbsArg *arg4 = l.at(4);"
   ]
  }
 ],
 "metadata": {
  "kernelspec": {
   "display_name": "ROOT C++",
   "language": "c++",
   "name": "root"
  },
  "language_info": {
   "codemirror_mode": "text/x-c++src",
   "file_extension": ".C",
   "mimetype": " text/x-c++src",
   "name": "c++"
  }
 },
 "nbformat": 4,
 "nbformat_minor": 2
}
