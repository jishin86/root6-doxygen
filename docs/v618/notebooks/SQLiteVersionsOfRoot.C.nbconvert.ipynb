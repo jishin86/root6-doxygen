{
 "cells": [
  {
   "cell_type": "markdown",
   "metadata": {},
   "source": [
    "#  S Q Lite Versions Of Root\n",
    "\n",
    "This tutorial demonstrates how TSQLServer can be used to create a\n",
    "connection with a SQlite3 database. It accesses the Sqlite data base.\n",
    "Download from https://root.cern/download/root_download_stats.sqlite\n",
    "Then a TH1F histogram is created and filled\n",
    "using a expression which receives the recorded\n",
    "values in the \"version\" column of the sqlite3 database.\n",
    "The histogram shows the usage of the ROOT development version.\n",
    "This product includes GeoLite2 data created by MaxMind, available from\n",
    "<a href=\"http://www.maxmind.com\">http://www.maxmind.com</a>.\n",
    "\n",
    "\n",
    "\n",
    "\n",
    "**Author:** Alexandra-Maria Dobrescu 08/2018  \n",
    "<i><small>This notebook tutorial was automatically generated with <a href= \"https://github.com/root-project/root/blob/master/documentation/doxygen/converttonotebook.py\">ROOTBOOK-izer</a> from the macro found in the ROOT repository  on Thursday, August 29, 2019 at 03:39 AM.</small></i>"
   ]
  },
  {
   "cell_type": "code",
   "execution_count": 1,
   "metadata": {
    "collapsed": false
   },
   "outputs": [],
   "source": [
    "%%cpp -d\n",
    "#include <TSQLiteServer.h>\n",
    "#include <TSQLiteResult.h>\n",
    "#include <TSQLRow.h>\n",
    "#include <TString.h>"
   ]
  },
  {
   "cell_type": "code",
   "execution_count": 2,
   "metadata": {
    "collapsed": false
   },
   "outputs": [
    {
     "name": "stderr",
     "output_type": "stream",
     "text": [
      "Error in <TSQLiteServer::Query>: SQL Error: 1 no such table: accesslog\n",
      " Generating stack trace...\n",
      " 0x00007f17e7617234 in <unknown function>\n",
      " 0x00007f17e21afc55 in cling::IncrementalExecutor::runStaticInitializersOnce(cling::Transaction const&) const + 0x535 from /mnt/build/workspace/root-makedoc-v618/rootspi/rdoc/src/v6-18-00-patches.build/lib/libCling.so\n",
      " 0x00007f17e214c80f in cling::Interpreter::executeTransaction(cling::Transaction&) + 0x9f from /mnt/build/workspace/root-makedoc-v618/rootspi/rdoc/src/v6-18-00-patches.build/lib/libCling.so\n",
      " 0x00007f17e21c0d42 in cling::IncrementalParser::commitTransaction(llvm::PointerIntPair<cling::Transaction*, 2u, cling::IncrementalParser::EParseResult, llvm::PointerLikeTypeTraits<cling::Transaction*>, llvm::PointerIntPairInfo<cling::Transaction*, 2u, llvm::PointerLikeTypeTraits<cling::Transaction*> > >&, bool) at IncrementalParser.cpp:? from /mnt/build/workspace/root-makedoc-v618/rootspi/rdoc/src/v6-18-00-patches.build/lib/libCling.so\n",
      " 0x00007f17e21c0f7b in cling::IncrementalParser::Compile(llvm::StringRef, cling::CompilationOptions const&) + 0x5b from /mnt/build/workspace/root-makedoc-v618/rootspi/rdoc/src/v6-18-00-patches.build/lib/libCling.so\n",
      " 0x00007f17e214ac0b in cling::Interpreter::EvaluateInternal(std::__cxx11::basic_string<char, std::char_traits<char>, std::allocator<char> > const&, cling::CompilationOptions, cling::Value*, cling::Transaction**, unsigned long) + 0x7b from /mnt/build/workspace/root-makedoc-v618/rootspi/rdoc/src/v6-18-00-patches.build/lib/libCling.so\n",
      " 0x00007f17e214af61 in cling::Interpreter::process(std::__cxx11::basic_string<char, std::char_traits<char>, std::allocator<char> > const&, cling::Value*, cling::Transaction**, bool) + 0x161 from /mnt/build/workspace/root-makedoc-v618/rootspi/rdoc/src/v6-18-00-patches.build/lib/libCling.so\n",
      " 0x00007f17e2206a7d in cling::MetaProcessor::process(llvm::StringRef, cling::Interpreter::CompilationResult&, cling::Value*, bool) + 0x1bd from /mnt/build/workspace/root-makedoc-v618/rootspi/rdoc/src/v6-18-00-patches.build/lib/libCling.so\n",
      " 0x00007f17e20d1c0c in <unknown> from /mnt/build/workspace/root-makedoc-v618/rootspi/rdoc/src/v6-18-00-patches.build/lib/libCling.so\n",
      " 0x00007f17e20e77e6 in <unknown> from /mnt/build/workspace/root-makedoc-v618/rootspi/rdoc/src/v6-18-00-patches.build/lib/libCling.so\n",
      " 0x00007f17e5b53699 in JupyROOTExecutorImpl(char const*) at /mnt/build/workspace/root-makedoc-v618/rootspi/rdoc/src/v6-18-00-patches/bindings/pyroot/JupyROOT/src/IOHandler.cxx:139 (discriminator 1) from /mnt/build/workspace/root-makedoc-v618/rootspi/rdoc/src/v6-18-00-patches.build/lib/libJupyROOT.so\n",
      " 0x00007f17e5b53729 in JupyROOTExecutor at /mnt/build/workspace/root-makedoc-v618/rootspi/rdoc/src/v6-18-00-patches/bindings/pyroot/JupyROOT/src/IOHandler.cxx:172 from /mnt/build/workspace/root-makedoc-v618/rootspi/rdoc/src/v6-18-00-patches.build/lib/libJupyROOT.so\n",
      " 0x00007f17e7325ace in ffi_call_unix64 + 0x4c from /lib64/libffi.so.6\n",
      " 0x00007f17e732548f in ffi_call + 0x35f from /lib64/libffi.so.6\n",
      " 0x00007f17e7358387 in _ctypes_callproc + 0x537 from /usr/lib64/python2.7/lib-dynload/_ctypes.so\n",
      " 0x00007f17e7351d22 in <unknown> from /usr/lib64/python2.7/lib-dynload/_ctypes.so\n",
      " 0x00007f17e86f8aa7 in PyObject_Call + 0x47 from /lib64/libpython2.7.so.1.0\n",
      " 0x00007f17e87d0ac8 in PyEval_EvalFrameEx + 0x38b8 from /lib64/libpython2.7.so.1.0\n",
      " 0x00007f17e87d51ac in PyEval_EvalFrameEx + 0x7f9c from /lib64/libpython2.7.so.1.0\n",
      " 0x00007f17e87d51ac in PyEval_EvalFrameEx + 0x7f9c from /lib64/libpython2.7.so.1.0\n",
      " 0x00007f17e87d51ac in PyEval_EvalFrameEx + 0x7f9c from /lib64/libpython2.7.so.1.0\n",
      " 0x00007f17e87d6902 in PyEval_EvalCodeEx + 0x712 from /lib64/libpython2.7.so.1.0\n",
      " 0x00007f17e8711972 in <unknown> from /lib64/libpython2.7.so.1.0\n",
      " 0x00007f17e86f8aa7 in PyObject_Call + 0x47 from /lib64/libpython2.7.so.1.0\n",
      " 0x00007f17e870447e in <unknown> from /lib64/libpython2.7.so.1.0\n",
      " 0x00007f17e86f8aa7 in PyObject_Call + 0x47 from /lib64/libpython2.7.so.1.0\n",
      " 0x00007f17e87cccc7 in PyEval_CallObjectWithKeywords + 0x47 from /lib64/libpython2.7.so.1.0\n",
      " 0x00007f17e87e31c6 in <unknown> from /lib64/libpython2.7.so.1.0\n",
      " 0x00007f17e864c58e in <unknown> from /lib64/libpthread.so.0\n",
      " 0x00007f17e83ec6f3 in clone at :? from /lib64/libc.so.6\n",
      "Error in <HandleInterpreterException>: Trying to dereference null pointer or trying to call routine taking non-null arguments.\n",
      "Execution of your code was aborted.\n",
      "input_line_27:10:23: warning: null passed to a callee that requires a non-null argument [-Wnonnull]\n",
      "while (TSQLRow *row = rootSourceVersionRes->Next()) {\n",
      "                      ^~~~~~~~~~~~~~~~~~~~\n"
     ]
    }
   ],
   "source": [
    "TSQLServer *db = TSQLServer::Connect(\"sqlite://root_download_stats.sqlite\", \"\", \"\");\n",
    "\n",
    "const char *rootSourceVersion = \"SELECT Version FROM accesslog;\";\n",
    "\n",
    "TSQLResult *rootSourceVersionRes = db->Query(rootSourceVersion);\n",
    "\n",
    "TH1F *hVersionOfRoot= new TH1F(\"hVersionOfRoot\", \"Development Versions of ROOT\", 7, 0, -1);\n",
    "\n",
    "while (TSQLRow *row = rootSourceVersionRes->Next()) {\n",
    "   TString rowVersion(row->GetField(0));\n",
    "   TString shortVersion(rowVersion(0,4));\n",
    "   hVersionOfRoot->Fill(shortVersion,1);\n",
    "   delete row;\n",
    "}\n",
    "\n",
    "TCanvas *VersionOfRootHistogram = new TCanvas();\n",
    "\n",
    "hVersionOfRoot->GetXaxis()->LabelsOption(\"a\");\n",
    "hVersionOfRoot->LabelsDeflate(\"X\");\n",
    "hVersionOfRoot->Draw();"
   ]
  },
  {
   "cell_type": "markdown",
   "metadata": {},
   "source": [
    "Draw all canvases "
   ]
  },
  {
   "cell_type": "code",
   "execution_count": 3,
   "metadata": {
    "collapsed": false
   },
   "outputs": [],
   "source": [
    "%jsroot on\n",
    "gROOT->GetListOfCanvases()->Draw()"
   ]
  }
 ],
 "metadata": {
  "kernelspec": {
   "display_name": "ROOT C++",
   "language": "c++",
   "name": "root"
  },
  "language_info": {
   "codemirror_mode": "text/x-c++src",
   "file_extension": ".C",
   "mimetype": " text/x-c++src",
   "name": "c++"
  }
 },
 "nbformat": 4,
 "nbformat_minor": 2
}
