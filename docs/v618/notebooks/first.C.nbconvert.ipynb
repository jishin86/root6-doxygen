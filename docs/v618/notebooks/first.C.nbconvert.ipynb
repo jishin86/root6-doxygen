{
 "cells": [
  {
   "cell_type": "markdown",
   "metadata": {},
   "source": [
    "# First\n",
    "Show some basic primitives.\n",
    "\n",
    "\n",
    "\n",
    "\n",
    "**Author:** Rene Brun  \n",
    "<i><small>This notebook tutorial was automatically generated with <a href= \"https://github.com/root-project/root/blob/master/documentation/doxygen/converttonotebook.py\">ROOTBOOK-izer</a> from the macro found in the ROOT repository  on Thursday, August 29, 2019 at 01:40 AM.</small></i>"
   ]
  },
  {
   "cell_type": "code",
   "execution_count": 1,
   "metadata": {
    "collapsed": false
   },
   "outputs": [],
   "source": [
    "TCanvas *nut = new TCanvas(\"nut\", \"FirstSession\",100,10,700,900);\n",
    "nut->Range(0,0,20,24);\n",
    "nut->SetFillColor(10);\n",
    "nut->SetBorderSize(2);\n",
    "\n",
    "TPaveLabel *pl = new TPaveLabel(3,22,17,23.7,\n",
    "   \"My first ROOT interactive session\",\"br\");\n",
    "pl->SetFillColor(18);\n",
    "pl->Draw();\n",
    "\n",
    "TText t(0,0,\"a\");\n",
    "t.SetTextFont(62);\n",
    "t.SetTextSize(0.025);\n",
    "t.SetTextAlign(12);\n",
    "t.DrawText(2,20.3,\"ROOT is based on CINT, a powerful C/C++ interpreter.\");\n",
    "t.DrawText(2,19.3,\"Blocks of lines can be entered within {...}.\");\n",
    "t.DrawText(2,18.3,\"Previous typed lines can be recalled.\");\n",
    "\n",
    "t.SetTextFont(72);\n",
    "t.SetTextSize(0.026);\n",
    "t.DrawText(3,17,\"Root >  float x=5; float y=7;\");\n",
    "t.DrawText(3,16,\"Root >  x*sqrt(y)\");\n",
    "t.DrawText(3,14,\n",
    "   \"Root >  for (int i=2;i<7;i++) printf(\\\"sqrt(%d) = %f\\\\n\\\",i,sqrt(i));\");\n",
    "t.DrawText(3,10,\"Root >  TF1 f1(\\\"f1\\\",\\\"sin(x)/x\\\",0,10)\");\n",
    "t.DrawText(3, 9,\"Root >  f1.Draw()\");\n",
    "t.SetTextFont(81);\n",
    "t.SetTextSize(0.018);\n",
    "t.DrawText(4,15,\"(float) 13.2288f\");\n",
    "t.DrawText(4,13.3,\"sqrt(2) = 1.414214\");\n",
    "t.DrawText(4,12.7,\"sqrt(3) = 1.732051\");\n",
    "t.DrawText(4,12.1,\"sqrt(4) = 2.000000\");\n",
    "t.DrawText(4,11.5,\"sqrt(5) = 2.236068\");\n",
    "t.DrawText(4,10.9,\"sqrt(6) = 2.449490\");\n",
    "\n",
    "TPad *pad = new TPad(\"pad\",\"pad\",.2,.05,.8,.35);\n",
    "pad->Draw();\n",
    "pad->cd();\n",
    "pad->SetGrid();\n",
    "TF1 *f1 = new TF1(\"f1\",\"sin(x)/x\",0,10);\n",
    "f1->Draw();"
   ]
  },
  {
   "cell_type": "markdown",
   "metadata": {},
   "source": [
    "Draw all canvases "
   ]
  },
  {
   "cell_type": "code",
   "execution_count": 2,
   "metadata": {
    "collapsed": false
   },
   "outputs": [
    {
     "data": {
      "text/html": [
       "\n",
       "<div id=\"root_plot_1\"\n",
       "     style=\"width: 696px; height: 872px\">\n",
       "</div>\n",
       "\n",
       "<script>\n",
       " requirejs.config({\n",
       "     paths: {\n",
       "       'JSRootCore' : 'https://root.cern.ch/js/notebook//scripts/JSRootCore',\n",
       "     }\n",
       "   });\n",
       " require(['JSRootCore'],\n",
       "     function(Core) {\n",
       "       var obj = Core.JSONR_unref({\"_typename\":\"TCanvas\",\"fUniqueID\":0,\"fBits\":53673992,\"fLineColor\":1,\"fLineStyle\":1,\"fLineWidth\":1,\"fFillColor\":10,\"fFillStyle\":1001,\"fLeftMargin\":0.1,\"fRightMargin\":0.1,\"fBottomMargin\":0.1,\"fTopMargin\":0.1,\"fXfile\":2,\"fYfile\":2,\"fAfile\":1,\"fXstat\":0.99,\"fYstat\":0.99,\"fAstat\":2,\"fFrameFillColor\":0,\"fFrameLineColor\":1,\"fFrameFillStyle\":1001,\"fFrameLineStyle\":1,\"fFrameLineWidth\":1,\"fFrameBorderSize\":1,\"fFrameBorderMode\":0,\"fX1\":0,\"fY1\":0,\"fX2\":20,\"fY2\":24,\"fXtoAbsPixelk\":5e-5,\"fXtoPixelk\":5e-5,\"fXtoPixel\":34.8,\"fYtoAbsPixelk\":872.00005,\"fYtoPixelk\":872.00005,\"fYtoPixel\":-36.3333333333333,\"fUtoAbsPixelk\":5e-5,\"fUtoPixelk\":5e-5,\"fUtoPixel\":696,\"fVtoAbsPixelk\":872.00005,\"fVtoPixelk\":872,\"fVtoPixel\":-872,\"fAbsPixeltoXk\":0,\"fPixeltoXk\":0,\"fPixeltoX\":0.028735632183908,\"fAbsPixeltoYk\":24,\"fPixeltoYk\":0,\"fPixeltoY\":-0.0275229357798165,\"fXlowNDC\":0,\"fYlowNDC\":0,\"fXUpNDC\":0,\"fYUpNDC\":0,\"fWNDC\":1,\"fHNDC\":1,\"fAbsXlowNDC\":0,\"fAbsYlowNDC\":0,\"fAbsWNDC\":1,\"fAbsHNDC\":1,\"fUxmin\":0,\"fUymin\":0,\"fUxmax\":20,\"fUymax\":24,\"fTheta\":30,\"fPhi\":30,\"fAspectRatio\":0,\"fNumber\":0,\"fTickx\":0,\"fTicky\":0,\"fLogx\":0,\"fLogy\":0,\"fLogz\":0,\"fPadPaint\":0,\"fCrosshair\":0,\"fCrosshairPos\":0,\"fBorderSize\":2,\"fBorderMode\":0,\"fModified\":false,\"fGridx\":false,\"fGridy\":false,\"fAbsCoord\":false,\"fEditable\":true,\"fFixedAspectRatio\":false,\"fPrimitives\":{\"_typename\":\"TList\",\"name\":\"TList\",\"arr\":[{\"_typename\":\"TPaveLabel\",\"fUniqueID\":0,\"fBits\":50331656,\"fLineColor\":1,\"fLineStyle\":1,\"fLineWidth\":1,\"fFillColor\":18,\"fFillStyle\":1001,\"fX1\":3,\"fY1\":22,\"fX2\":17,\"fY2\":23.7,\"fX1NDC\":0.15,\"fY1NDC\":0.916666666666667,\"fX2NDC\":0.85,\"fY2NDC\":0.9875,\"fBorderSize\":3,\"fInit\":1,\"fShadowColor\":1,\"fCornerRadius\":0,\"fOption\":\"br\",\"fName\":\"TPave\",\"fTextAngle\":0,\"fTextSize\":0.99,\"fTextAlign\":22,\"fTextColor\":1,\"fTextFont\":62,\"fLabel\":\"My first ROOT interactive session\"},{\"_typename\":\"TText\",\"fUniqueID\":0,\"fBits\":50331657,\"fName\":\"\",\"fTitle\":\"ROOT is based on CINT, a powerful C\\/C++ interpreter.\",\"fTextAngle\":0,\"fTextSize\":0.025,\"fTextAlign\":12,\"fTextColor\":1,\"fTextFont\":62,\"fX\":2,\"fY\":20.3},{\"_typename\":\"TText\",\"fUniqueID\":0,\"fBits\":50331657,\"fName\":\"\",\"fTitle\":\"Blocks of lines can be entered within {...}.\",\"fTextAngle\":0,\"fTextSize\":0.025,\"fTextAlign\":12,\"fTextColor\":1,\"fTextFont\":62,\"fX\":2,\"fY\":19.3},{\"_typename\":\"TText\",\"fUniqueID\":0,\"fBits\":50331657,\"fName\":\"\",\"fTitle\":\"Previous typed lines can be recalled.\",\"fTextAngle\":0,\"fTextSize\":0.025,\"fTextAlign\":12,\"fTextColor\":1,\"fTextFont\":62,\"fX\":2,\"fY\":18.3},{\"_typename\":\"TText\",\"fUniqueID\":0,\"fBits\":50331657,\"fName\":\"\",\"fTitle\":\"Root >  float x=5; float y=7;\",\"fTextAngle\":0,\"fTextSize\":0.026,\"fTextAlign\":12,\"fTextColor\":1,\"fTextFont\":72,\"fX\":3,\"fY\":17},{\"_typename\":\"TText\",\"fUniqueID\":0,\"fBits\":50331657,\"fName\":\"\",\"fTitle\":\"Root >  x*sqrt(y)\",\"fTextAngle\":0,\"fTextSize\":0.026,\"fTextAlign\":12,\"fTextColor\":1,\"fTextFont\":72,\"fX\":3,\"fY\":16},{\"_typename\":\"TText\",\"fUniqueID\":0,\"fBits\":50331657,\"fName\":\"\",\"fTitle\":\"Root >  for (int i=2;i<7;i++) printf(\\\"sqrt(%d) = %f\\\\n\\\",i,sqrt(i));\",\"fTextAngle\":0,\"fTextSize\":0.026,\"fTextAlign\":12,\"fTextColor\":1,\"fTextFont\":72,\"fX\":3,\"fY\":14},{\"_typename\":\"TText\",\"fUniqueID\":0,\"fBits\":50331657,\"fName\":\"\",\"fTitle\":\"Root >  TF1 f1(\\\"f1\\\",\\\"sin(x)\\/x\\\",0,10)\",\"fTextAngle\":0,\"fTextSize\":0.026,\"fTextAlign\":12,\"fTextColor\":1,\"fTextFont\":72,\"fX\":3,\"fY\":10},{\"_typename\":\"TText\",\"fUniqueID\":0,\"fBits\":50331657,\"fName\":\"\",\"fTitle\":\"Root >  f1.Draw()\",\"fTextAngle\":0,\"fTextSize\":0.026,\"fTextAlign\":12,\"fTextColor\":1,\"fTextFont\":72,\"fX\":3,\"fY\":9},{\"_typename\":\"TText\",\"fUniqueID\":0,\"fBits\":50331657,\"fName\":\"\",\"fTitle\":\"(float) 13.2288f\",\"fTextAngle\":0,\"fTextSize\":0.018,\"fTextAlign\":12,\"fTextColor\":1,\"fTextFont\":81,\"fX\":4,\"fY\":15},{\"_typename\":\"TText\",\"fUniqueID\":0,\"fBits\":50331657,\"fName\":\"\",\"fTitle\":\"sqrt(2) = 1.414214\",\"fTextAngle\":0,\"fTextSize\":0.018,\"fTextAlign\":12,\"fTextColor\":1,\"fTextFont\":81,\"fX\":4,\"fY\":13.3},{\"_typename\":\"TText\",\"fUniqueID\":0,\"fBits\":50331657,\"fName\":\"\",\"fTitle\":\"sqrt(3) = 1.732051\",\"fTextAngle\":0,\"fTextSize\":0.018,\"fTextAlign\":12,\"fTextColor\":1,\"fTextFont\":81,\"fX\":4,\"fY\":12.7},{\"_typename\":\"TText\",\"fUniqueID\":0,\"fBits\":50331657,\"fName\":\"\",\"fTitle\":\"sqrt(4) = 2.000000\",\"fTextAngle\":0,\"fTextSize\":0.018,\"fTextAlign\":12,\"fTextColor\":1,\"fTextFont\":81,\"fX\":4,\"fY\":12.1},{\"_typename\":\"TText\",\"fUniqueID\":0,\"fBits\":50331657,\"fName\":\"\",\"fTitle\":\"sqrt(5) = 2.236068\",\"fTextAngle\":0,\"fTextSize\":0.018,\"fTextAlign\":12,\"fTextColor\":1,\"fTextFont\":81,\"fX\":4,\"fY\":11.5},{\"_typename\":\"TText\",\"fUniqueID\":0,\"fBits\":50331657,\"fName\":\"\",\"fTitle\":\"sqrt(6) = 2.449490\",\"fTextAngle\":0,\"fTextSize\":0.018,\"fTextAlign\":12,\"fTextColor\":1,\"fTextFont\":81,\"fX\":4,\"fY\":10.9},{\"_typename\":\"TPad\",\"fUniqueID\":0,\"fBits\":50331657,\"fLineColor\":1,\"fLineStyle\":1,\"fLineWidth\":1,\"fFillColor\":0,\"fFillStyle\":1001,\"fLeftMargin\":0.1,\"fRightMargin\":0.1,\"fBottomMargin\":0.1,\"fTopMargin\":0.1,\"fXfile\":2,\"fYfile\":2,\"fAfile\":1,\"fXstat\":0.99,\"fYstat\":0.99,\"fAstat\":2,\"fFrameFillColor\":0,\"fFrameLineColor\":1,\"fFrameFillStyle\":1001,\"fFrameLineStyle\":1,\"fFrameLineWidth\":1,\"fFrameBorderSize\":1,\"fFrameBorderMode\":0,\"fX1\":-1.25000009313226,\"fY1\":-0.445522427417404,\"fX2\":11.2500000931323,\"fY2\":1.23111968635763,\"fXtoAbsPixelk\":180.96005248909,\"fXtoPixelk\":41.7600524890901,\"fXtoPixel\":33.407999502182,\"fYtoAbsPixelk\":758.886904615635,\"fYtoPixelk\":192.086904615635,\"fYtoPixel\":-156.026141685655,\"fUtoAbsPixelk\":139.20005,\"fUtoPixelk\":5e-5,\"fUtoPixel\":417.6,\"fVtoAbsPixelk\":828.40005,\"fVtoPixelk\":261.6,\"fVtoPixel\":-261.6,\"fAbsPixeltoXk\":-5.4166668218871,\"fPixeltoXk\":-1.25000009313226,\"fPixeltoX\":0.0299329506376066,\"fAbsPixeltoYk\":4.86384426620354,\"fPixeltoYk\":-0.445522427417404,\"fPixeltoY\":-0.00640918239210641,\"fXlowNDC\":0.2,\"fYlowNDC\":0.05,\"fXUpNDC\":0,\"fYUpNDC\":0,\"fWNDC\":0.6,\"fHNDC\":0.3,\"fAbsXlowNDC\":0.2,\"fAbsYlowNDC\":0.05,\"fAbsWNDC\":0.6,\"fAbsHNDC\":0.3,\"fUxmin\":0,\"fUymin\":-0.277858206046335,\"fUxmax\":10,\"fUymax\":1.06345546498656,\"fTheta\":30,\"fPhi\":30,\"fAspectRatio\":0,\"fNumber\":0,\"fTickx\":0,\"fTicky\":0,\"fLogx\":0,\"fLogy\":0,\"fLogz\":0,\"fPadPaint\":0,\"fCrosshair\":0,\"fCrosshairPos\":0,\"fBorderSize\":2,\"fBorderMode\":0,\"fModified\":false,\"fGridx\":true,\"fGridy\":true,\"fAbsCoord\":false,\"fEditable\":true,\"fFixedAspectRatio\":false,\"fPrimitives\":{\"_typename\":\"TList\",\"name\":\"TList\",\"arr\":[{\"_typename\":\"TFrame\",\"fUniqueID\":0,\"fBits\":50331656,\"fLineColor\":1,\"fLineStyle\":1,\"fLineWidth\":1,\"fFillColor\":0,\"fFillStyle\":1001,\"fX1\":0,\"fY1\":-0.277858206046335,\"fX2\":10,\"fY2\":1.06345546498656,\"fBorderSize\":1,\"fBorderMode\":0},{\"_typename\":\"TF1\",\"fUniqueID\":0,\"fBits\":50331656,\"fName\":\"f1\",\"fTitle\":\"sin(x)\\/x\",\"fLineColor\":2,\"fLineStyle\":1,\"fLineWidth\":2,\"fFillColor\":19,\"fFillStyle\":0,\"fMarkerColor\":1,\"fMarkerStyle\":1,\"fMarkerSize\":1,\"fXmin\":0,\"fXmax\":10,\"fNpar\":0,\"fNdim\":1,\"fNpx\":100,\"fType\":0,\"fNpfits\":0,\"fNDF\":0,\"fChisquare\":0,\"fMinimum\":-1111,\"fMaximum\":-1111,\"fParErrors\":[],\"fParMin\":[],\"fParMax\":[],\"fSave\":[],\"fNormalized\":false,\"fNormIntegral\":0,\"fFormula\":{\"_typename\":\"TFormula\",\"fUniqueID\":0,\"fBits\":50332672,\"fName\":\"f1\",\"fTitle\":\"sin(x)\\/x\",\"fClingParameters\":[],\"fAllParametersSetted\":true,\"fParams\":[],\"fFormula\":\"sin(x)\\/x\",\"fNdim\":1,\"fLinearParts\":[],\"fVectorized\":false},\"fParams\":null,\"fComposition_ptr\":null},{\"_typename\":\"TPaveText\",\"fUniqueID\":0,\"fBits\":50331657,\"fLineColor\":1,\"fLineStyle\":1,\"fLineWidth\":1,\"fFillColor\":0,\"fFillStyle\":0,\"fX1\":4.1865421334724,\"fY1\":1.12275323846675,\"fX2\":5.8134578665276,\"fY2\":1.22273648378361,\"fX1NDC\":0.43492337164751,\"fY1NDC\":0.935366977245436,\"fX2NDC\":0.56507662835249,\"fY2NDC\":0.995000004768372,\"fBorderSize\":0,\"fInit\":1,\"fShadowColor\":1,\"fCornerRadius\":0,\"fOption\":\"blNDC\",\"fName\":\"title\",\"fTextAngle\":0,\"fTextSize\":0,\"fTextAlign\":22,\"fTextColor\":1,\"fTextFont\":42,\"fLabel\":\"\",\"fLongest\":8,\"fMargin\":0.05,\"fLines\":{\"_typename\":\"TList\",\"name\":\"TList\",\"arr\":[{\"_typename\":\"TLatex\",\"fUniqueID\":0,\"fBits\":50331648,\"fName\":\"\",\"fTitle\":\"sin(x)\\/x\",\"fTextAngle\":0,\"fTextSize\":0,\"fTextAlign\":0,\"fTextColor\":0,\"fTextFont\":0,\"fX\":0,\"fY\":0,\"fLineColor\":1,\"fLineStyle\":1,\"fLineWidth\":2,\"fLimitFactorSize\":3,\"fOriginSize\":0.0506880730390549}],\"opt\":[\"\"]}}],\"opt\":[\"\",\"\",\"blNDC\"]},\"fExecs\":{\"_typename\":\"TList\",\"name\":\"TList\",\"arr\":[],\"opt\":[]},\"fName\":\"pad\",\"fTitle\":\"pad\",\"fNumPaletteColor\":0,\"fNextPaletteColor\":0}],\"opt\":[\"br\",\"\",\"\",\"\",\"\",\"\",\"\",\"\",\"\",\"\",\"\",\"\",\"\",\"\",\"\",\"\"]},\"fExecs\":null,\"fName\":\"nut\",\"fTitle\":\"FirstSession\",\"fNumPaletteColor\":0,\"fNextPaletteColor\":0,\"fDISPLAY\":\"$DISPLAY\",\"fDoubleBuffer\":0,\"fRetained\":true,\"fXsizeUser\":0,\"fYsizeUser\":0,\"fXsizeReal\":15.55556,\"fYsizeReal\":20,\"fWindowTopX\":0,\"fWindowTopY\":0,\"fWindowWidth\":0,\"fWindowHeight\":0,\"fCw\":696,\"fCh\":872,\"fCatt\":{\"_typename\":\"TAttCanvas\",\"fXBetween\":2,\"fYBetween\":2,\"fTitleFromTop\":1.2,\"fXdate\":0.2,\"fYdate\":0.3,\"fAdate\":1},\"kMoveOpaque\":true,\"kResizeOpaque\":true,\"fHighLightColor\":2,\"fBatch\":true,\"kShowEventStatus\":false,\"kAutoExec\":true,\"kMenuBar\":true});\n",
       "       Core.draw(\"root_plot_1\", obj, \"\");\n",
       "     }\n",
       " );\n",
       "</script>\n"
      ],
      "text/plain": [
       "<IPython.core.display.HTML object>"
      ]
     },
     "metadata": {},
     "output_type": "display_data"
    }
   ],
   "source": [
    "%jsroot on\n",
    "gROOT->GetListOfCanvases()->Draw()"
   ]
  }
 ],
 "metadata": {
  "kernelspec": {
   "display_name": "ROOT C++",
   "language": "c++",
   "name": "root"
  },
  "language_info": {
   "codemirror_mode": "text/x-c++src",
   "file_extension": ".C",
   "mimetype": " text/x-c++src",
   "name": "c++"
  }
 },
 "nbformat": 4,
 "nbformat_minor": 2
}
