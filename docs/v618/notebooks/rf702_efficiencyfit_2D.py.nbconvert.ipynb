{
 "cells": [
  {
   "cell_type": "markdown",
   "metadata": {},
   "source": [
    "# Rf 7 0 2_Efficiencyfit_ 2 D\n",
    "\n",
    "Special p.d.f.'s: unbinned maximum likelihood fit of an efficiency eff(x) function\n",
    "to a dataset D(x,cut), cut is a category encoding a selection whose efficiency as function of x should be described by eff(x)\n",
    "\n",
    "\n",
    "\n",
    "\n",
    "**Author:** Clemens Lange, Wouter Verkerke (C++ version)  \n",
    "<i><small>This notebook tutorial was automatically generated with <a href= \"https://github.com/root-project/root/blob/master/documentation/doxygen/converttonotebook.py\">ROOTBOOK-izer</a> from the macro found in the ROOT repository  on Thursday, August 29, 2019 at 03:01 AM.</small></i>"
   ]
  },
  {
   "cell_type": "code",
   "execution_count": 1,
   "metadata": {
    "collapsed": false
   },
   "outputs": [
    {
     "name": "stdout",
     "output_type": "stream",
     "text": [
      "Welcome to JupyROOT 6.18/03\n"
     ]
    }
   ],
   "source": [
    "import ROOT\n",
    "\n",
    "\n",
    "flat = ROOT.kFALSE"
   ]
  },
  {
   "cell_type": "markdown",
   "metadata": {},
   "source": [
    "Construct efficiency function e(x,y)\n",
    "-----------------------------------------------------------------------"
   ]
  },
  {
   "cell_type": "markdown",
   "metadata": {},
   "source": [
    "Declare variables x,mean, with associated name, title, value and allowed\n",
    "range"
   ]
  },
  {
   "cell_type": "code",
   "execution_count": 2,
   "metadata": {
    "collapsed": false
   },
   "outputs": [
    {
     "name": "stdout",
     "output_type": "stream",
     "text": [
      "\n",
      "\u001b[1mRooFit v3.60 -- Developed by Wouter Verkerke and David Kirkby\u001b[0m \n",
      "                Copyright (C) 2000-2013 NIKHEF, University of California & Stanford University\n",
      "                All rights reserved, please read http://roofit.sourceforge.net/license.txt\n",
      "\n"
     ]
    }
   ],
   "source": [
    "x = ROOT.RooRealVar(\"x\", \"x\", -10, 10)\n",
    "y = ROOT.RooRealVar(\"y\", \"y\", -10, 10)"
   ]
  },
  {
   "cell_type": "markdown",
   "metadata": {},
   "source": [
    "Efficiency function eff(x;a,b)"
   ]
  },
  {
   "cell_type": "code",
   "execution_count": 3,
   "metadata": {
    "collapsed": false
   },
   "outputs": [],
   "source": [
    "ax = ROOT.RooRealVar(\"ax\", \"ay\", 0.6, 0, 1)\n",
    "bx = ROOT.RooRealVar(\"bx\", \"by\", 5)\n",
    "cx = ROOT.RooRealVar(\"cx\", \"cy\", -1, -10, 10)\n",
    "\n",
    "ay = ROOT.RooRealVar(\"ay\", \"ay\", 0.2, 0, 1)\n",
    "by = ROOT.RooRealVar(\"by\", \"by\", 5)\n",
    "cy = ROOT.RooRealVar(\"cy\", \"cy\", -1, -10, 10)\n",
    "\n",
    "effFunc = ROOT.RooFormulaVar(\n",
    "    \"effFunc\",\n",
    "    \"((1-ax)+ax*cos((x-cx)/bx))*((1-ay)+ay*cos((y-cy)/by))\",\n",
    "    ROOT.RooArgList(\n",
    "        ax,\n",
    "        bx,\n",
    "        cx,\n",
    "        x,\n",
    "        ay,\n",
    "        by,\n",
    "        cy,\n",
    "        y))"
   ]
  },
  {
   "cell_type": "markdown",
   "metadata": {},
   "source": [
    "Acceptance state cut (1 or 0)"
   ]
  },
  {
   "cell_type": "code",
   "execution_count": 4,
   "metadata": {
    "collapsed": false
   },
   "outputs": [
    {
     "data": {
      "text/plain": [
       "False"
      ]
     },
     "execution_count": 4,
     "metadata": {},
     "output_type": "execute_result"
    }
   ],
   "source": [
    "cut = ROOT.RooCategory(\"cut\", \"cutr\")\n",
    "cut.defineType(\"accept\", 1)\n",
    "cut.defineType(\"reject\", 0)"
   ]
  },
  {
   "cell_type": "markdown",
   "metadata": {},
   "source": [
    "Construct conditional efficiency pdf E(cut|x,y)\n",
    "---------------------------------------------------------------------------------------------"
   ]
  },
  {
   "cell_type": "markdown",
   "metadata": {},
   "source": [
    "Construct efficiency p.d.f eff(cut|x)"
   ]
  },
  {
   "cell_type": "code",
   "execution_count": 5,
   "metadata": {
    "collapsed": false
   },
   "outputs": [],
   "source": [
    "effPdf = ROOT.RooEfficiency(\"effPdf\", \"effPdf\", effFunc, cut, \"accept\")"
   ]
  },
  {
   "cell_type": "markdown",
   "metadata": {},
   "source": [
    "Generate data(x,y,cut) from a toy model\n",
    "-------------------------------------------------------------------------------"
   ]
  },
  {
   "cell_type": "markdown",
   "metadata": {},
   "source": [
    "Construct global shape p.d.f shape(x) and product model(x,cut) = eff(cut|x)*shape(x)\n",
    "(These are _only_ needed to generate some toy MC here to be used later)"
   ]
  },
  {
   "cell_type": "code",
   "execution_count": 6,
   "metadata": {
    "collapsed": false
   },
   "outputs": [],
   "source": [
    "shapePdfX = ROOT.RooPolynomial(\n",
    "    \"shapePdfX\", \"shapePdfX\", x, ROOT.RooArgList(\n",
    "        ROOT.RooFit.RooConst(\n",
    "            0 if flat else -0.095)))\n",
    "shapePdfY = ROOT.RooPolynomial(\n",
    "    \"shapePdfY\", \"shapePdfY\", y, ROOT.RooArgList(\n",
    "        ROOT.RooFit.RooConst(\n",
    "            0 if flat else +0.095)))\n",
    "shapePdf = ROOT.RooProdPdf(\n",
    "    \"shapePdf\",\n",
    "    \"shapePdf\",\n",
    "    ROOT.RooArgList(\n",
    "        shapePdfX,\n",
    "        shapePdfY))\n",
    "model = ROOT.RooProdPdf(\n",
    "    \"model\",\n",
    "    \"model\",\n",
    "    ROOT.RooArgSet(shapePdf),\n",
    "    ROOT.RooFit.Conditional(\n",
    "        ROOT.RooArgSet(effPdf),\n",
    "        ROOT.RooArgSet(cut)))"
   ]
  },
  {
   "cell_type": "markdown",
   "metadata": {},
   "source": [
    "Generate some toy data from model"
   ]
  },
  {
   "cell_type": "code",
   "execution_count": 7,
   "metadata": {
    "collapsed": false
   },
   "outputs": [
    {
     "name": "stdout",
     "output_type": "stream",
     "text": [
      "[#0] WARNING:Generation -- RooAcceptReject::ctor(effPdf_Int[]_Norm[cut]) WARNING: performing accept/reject sampling on a p.d.f in 2 dimensions without prior knowledge on maximum value of p.d.f. Determining maximum value by taking 200000 trial samples. If p.d.f contains sharp peaks smaller than average distance between trial sampling points these may be missed and p.d.f. may be sampled incorrectly.\n",
      "[#0] WARNING:Generation -- RooAcceptReject::ctor(effPdf_Int[]_Norm[cut]): WARNING: 200000 trial samples requested by p.d.f for 2-dimensional accept/reject sampling, this may take some time\n"
     ]
    }
   ],
   "source": [
    "data = model.generate(ROOT.RooArgSet(x, y, cut), 10000)"
   ]
  },
  {
   "cell_type": "markdown",
   "metadata": {},
   "source": [
    "Fit conditional efficiency pdf to data\n",
    "--------------------------------------------------------------------------"
   ]
  },
  {
   "cell_type": "markdown",
   "metadata": {},
   "source": [
    "Fit conditional efficiency p.d.f to data"
   ]
  },
  {
   "cell_type": "code",
   "execution_count": 8,
   "metadata": {
    "collapsed": false
   },
   "outputs": [
    {
     "data": {
      "text/plain": [
       "<ROOT.RooFitResult object at 0x(nil)>"
      ]
     },
     "execution_count": 8,
     "metadata": {},
     "output_type": "execute_result"
    },
    {
     "name": "stdout",
     "output_type": "stream",
     "text": [
      "[#1] INFO:Minization -- RooMinimizer::optimizeConst: activating const optimization\n",
      " **********\n",
      " **    1 **SET PRINT           1\n",
      " **********\n",
      " **********\n",
      " **    2 **SET NOGRAD\n",
      " **********\n",
      " PARAMETER DEFINITIONS:\n",
      "    NO.   NAME         VALUE      STEP SIZE      LIMITS\n",
      "     1 ax           6.00000e-01  1.00000e-01    0.00000e+00  1.00000e+00\n",
      "     2 ay           2.00000e-01  1.00000e-01    0.00000e+00  1.00000e+00\n",
      "     3 cx          -1.00000e+00  2.00000e+00   -1.00000e+01  1.00000e+01\n",
      "     4 cy          -1.00000e+00  2.00000e+00   -1.00000e+01  1.00000e+01\n",
      " **********\n",
      " **    3 **SET ERR         0.5\n",
      " **********\n",
      " **********\n",
      " **    4 **SET PRINT           1\n",
      " **********\n",
      " **********\n",
      " **    5 **SET STR           1\n",
      " **********\n",
      " NOW USING STRATEGY  1: TRY TO BALANCE SPEED AGAINST RELIABILITY\n",
      " **********\n",
      " **    6 **MIGRAD        2000           1\n",
      " **********\n",
      " FIRST CALL TO USER FUNCTION AT NEW START POINT, WITH IFLAG=4.\n",
      " START MIGRAD MINIMIZATION.  STRATEGY  1.  CONVERGENCE WHEN EDM .LT. 1.00e-03\n",
      " FCN=5447.45 FROM MIGRAD    STATUS=INITIATE       16 CALLS          17 TOTAL\n",
      "                     EDM= unknown      STRATEGY= 1      NO ERROR MATRIX       \n",
      "  EXT PARAMETER               CURRENT GUESS       STEP         FIRST   \n",
      "  NO.   NAME      VALUE            ERROR          SIZE      DERIVATIVE \n",
      "   1  ax           6.00000e-01   1.00000e-01   2.05758e-01   2.07611e+01\n",
      "   2  ay           2.00000e-01   1.00000e-01   2.57889e-01   6.35766e+01\n",
      "   3  cx          -1.00000e+00   2.00000e+00   2.02430e-01   3.98906e+02\n",
      "   4  cy          -1.00000e+00   2.00000e+00   2.02430e-01  -1.37299e+02\n",
      "                               ERR DEF= 0.5\n",
      " MIGRAD MINIMIZATION HAS CONVERGED.\n",
      " MIGRAD WILL VERIFY CONVERGENCE AND ERROR MATRIX.\n",
      " COVARIANCE MATRIX CALCULATED SUCCESSFULLY\n",
      " FCN=5441.98 FROM MIGRAD    STATUS=CONVERGED      79 CALLS          80 TOTAL\n",
      "                     EDM=2.10777e-05    STRATEGY= 1      ERROR MATRIX ACCURATE \n",
      "  EXT PARAMETER                                   STEP         FIRST   \n",
      "  NO.   NAME      VALUE            ERROR          SIZE      DERIVATIVE \n",
      "   1  ax           6.10442e-01   9.85749e-03   8.90018e-04   1.06907e-01\n",
      "   2  ay           2.06325e-01   1.06819e-02   9.76478e-04   2.34590e-01\n",
      "   3  cx          -1.13975e+00   5.97322e-02   2.77681e-04   6.58278e-02\n",
      "   4  cy          -5.30427e-01   2.15761e-01   8.34515e-04  -2.03235e-01\n",
      "                               ERR DEF= 0.5\n",
      " EXTERNAL ERROR MATRIX.    NDIM=  25    NPAR=  4    ERR DEF=0.5\n",
      "  9.718e-05 -2.419e-05 -2.246e-04  2.779e-05 \n",
      " -2.419e-05  1.141e-04 -2.514e-05  1.447e-03 \n",
      " -2.246e-04 -2.514e-05  3.568e-03  1.894e-05 \n",
      "  2.779e-05  1.447e-03  1.894e-05  4.656e-02 \n",
      " PARAMETER  CORRELATION COEFFICIENTS  \n",
      "       NO.  GLOBAL      1      2      3      4\n",
      "        1  0.50176   1.000 -0.230 -0.381  0.013\n",
      "        2  0.68607  -0.230  1.000 -0.039  0.628\n",
      "        3  0.42040  -0.381 -0.039  1.000  0.001\n",
      "        4  0.65573   0.013  0.628  0.001  1.000\n",
      " **********\n",
      " **    7 **SET ERR         0.5\n",
      " **********\n",
      " **********\n",
      " **    8 **SET PRINT           1\n",
      " **********\n",
      " **********\n",
      " **    9 **HESSE        2000\n",
      " **********\n",
      " COVARIANCE MATRIX CALCULATED SUCCESSFULLY\n",
      " FCN=5441.98 FROM HESSE     STATUS=OK             23 CALLS         103 TOTAL\n",
      "                     EDM=2.1074e-05    STRATEGY= 1      ERROR MATRIX ACCURATE \n",
      "  EXT PARAMETER                                INTERNAL      INTERNAL  \n",
      "  NO.   NAME      VALUE            ERROR       STEP SIZE       VALUE   \n",
      "   1  ax           6.10442e-01   9.85365e-03   1.78004e-04   2.22720e-01\n",
      "   2  ay           2.06325e-01   1.06842e-02   1.95296e-04  -6.27781e-01\n",
      "   3  cx          -1.13975e+00   5.97056e-02   5.55362e-05  -1.14223e-01\n",
      "   4  cy          -5.30427e-01   2.15797e-01   1.66903e-04  -5.30676e-02\n",
      "                               ERR DEF= 0.5\n",
      " EXTERNAL ERROR MATRIX.    NDIM=  25    NPAR=  4    ERR DEF=0.5\n",
      "  9.711e-05 -2.421e-05 -2.238e-04  2.765e-05 \n",
      " -2.421e-05  1.142e-04 -2.530e-05  1.448e-03 \n",
      " -2.238e-04 -2.530e-05  3.565e-03  1.965e-05 \n",
      "  2.765e-05  1.448e-03  1.965e-05  4.658e-02 \n",
      " PARAMETER  CORRELATION COEFFICIENTS  \n",
      "       NO.  GLOBAL      1      2      3      4\n",
      "        1  0.50117   1.000 -0.230 -0.380  0.013\n",
      "        2  0.68624  -0.230  1.000 -0.040  0.628\n",
      "        3  0.41953  -0.380 -0.040  1.000  0.002\n",
      "        4  0.65587   0.013  0.628  0.002  1.000\n",
      "[#1] INFO:Minization -- RooMinimizer::optimizeConst: deactivating const optimization\n"
     ]
    }
   ],
   "source": [
    "effPdf.fitTo(data, ROOT.RooFit.ConditionalObservables(ROOT.RooArgSet(x, y)))"
   ]
  },
  {
   "cell_type": "markdown",
   "metadata": {},
   "source": [
    "Plot fitted, data efficiency\n",
    "--------------------------------------------------------"
   ]
  },
  {
   "cell_type": "markdown",
   "metadata": {},
   "source": [
    "Make 2D histograms of all data, data and efficiency function"
   ]
  },
  {
   "cell_type": "code",
   "execution_count": 9,
   "metadata": {
    "collapsed": false
   },
   "outputs": [
    {
     "name": "stdout",
     "output_type": "stream",
     "text": [
      "[#0] WARNING:InputArguments -- RooAbsReal::createHistogram(effFunc) WARNING extended mode requested for a non-pdf object, ignored\n"
     ]
    }
   ],
   "source": [
    "hh_data_all = ROOT.RooAbsData.createHistogram(\n",
    "    data, \"hh_data_all\", x, ROOT.RooFit.Binning(8), ROOT.RooFit.YVar(\n",
    "        y, ROOT.RooFit.Binning(8)))\n",
    "hh_data_sel = ROOT.RooAbsData.createHistogram(\n",
    "    data, \"hh_data_sel\", x, ROOT.RooFit.Binning(8), ROOT.RooFit.YVar(\n",
    "        y, ROOT.RooFit.Binning(8)), ROOT.RooFit.Cut(\"cut==cut::accept\"))\n",
    "hh_eff = effFunc.createHistogram(\n",
    "    \"hh_eff\", x, ROOT.RooFit.Binning(\n",
    "        50), ROOT.RooFit.YVar(y, ROOT.RooFit.Binning(50)))"
   ]
  },
  {
   "cell_type": "markdown",
   "metadata": {},
   "source": [
    "Some adjustsment for good visualization"
   ]
  },
  {
   "cell_type": "code",
   "execution_count": 10,
   "metadata": {
    "collapsed": false
   },
   "outputs": [],
   "source": [
    "hh_data_all.SetMinimum(0)\n",
    "hh_data_sel.SetMinimum(0)\n",
    "hh_eff.SetMinimum(0)\n",
    "hh_eff.SetLineColor(ROOT.kBlue)"
   ]
  },
  {
   "cell_type": "markdown",
   "metadata": {},
   "source": [
    "Draw all frames on a canvas"
   ]
  },
  {
   "cell_type": "code",
   "execution_count": 11,
   "metadata": {
    "collapsed": false
   },
   "outputs": [
    {
     "name": "stderr",
     "output_type": "stream",
     "text": [
      "Info in <TCanvas::Print>: png file rf702_efficiency_2D.png has been created\n"
     ]
    }
   ],
   "source": [
    "ca = ROOT.TCanvas(\"rf702_efficiency_2D\", \"rf702_efficiency_2D\", 1200, 400)\n",
    "ca.Divide(3)\n",
    "ca.cd(1)\n",
    "ROOT.gPad.SetLeftMargin(0.15)\n",
    "hh_data_all.GetZaxis().SetTitleOffset(1.8)\n",
    "hh_data_all.Draw(\"lego\")\n",
    "ca.cd(2)\n",
    "ROOT.gPad.SetLeftMargin(0.15)\n",
    "hh_data_sel.GetZaxis().SetTitleOffset(1.8)\n",
    "hh_data_sel.Draw(\"lego\")\n",
    "ca.cd(3)\n",
    "ROOT.gPad.SetLeftMargin(0.15)\n",
    "hh_eff.GetZaxis().SetTitleOffset(1.8)\n",
    "hh_eff.Draw(\"surf\")\n",
    "\n",
    "ca.SaveAs(\"rf702_efficiency_2D.png\")"
   ]
  },
  {
   "cell_type": "markdown",
   "metadata": {},
   "source": [
    "Draw all canvases "
   ]
  },
  {
   "cell_type": "code",
   "execution_count": 12,
   "metadata": {
    "collapsed": false
   },
   "outputs": [
    {
     "data": {
      "image/png": "[encoded data removed]",
      "text/plain": [
       "<IPython.core.display.Image object>"
      ]
     },
     "metadata": {},
     "output_type": "display_data"
    }
   ],
   "source": [
    "from ROOT import gROOT \n",
    "gROOT.GetListOfCanvases().Draw()"
   ]
  }
 ],
 "metadata": {
  "kernelspec": {
   "display_name": "Python 2",
   "language": "python",
   "name": "python2"
  },
  "language_info": {
   "codemirror_mode": {
    "name": "ipython",
    "version": 2
   },
   "file_extension": ".py",
   "mimetype": "text/x-python",
   "name": "python",
   "nbconvert_exporter": "python",
   "pygments_lexer": "ipython2",
   "version": "2.7.10"
  }
 },
 "nbformat": 4,
 "nbformat_minor": 2
}
