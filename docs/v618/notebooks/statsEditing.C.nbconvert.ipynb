{
 "cells": [
  {
   "cell_type": "markdown",
   "metadata": {},
   "source": [
    "# Stats Editing\n",
    "Edit statistics box.\n",
    "\n",
    "This example shows:\n",
    " - how to remove a stat element from the stat box\n",
    " - how to add a new one\n",
    "\n",
    "\n",
    "\n",
    "\n",
    "**Author:**  Olivier Couet  \n",
    "<i><small>This notebook tutorial was automatically generated with <a href= \"https://github.com/root-project/root/blob/master/documentation/doxygen/converttonotebook.py\">ROOTBOOK-izer</a> from the macro found in the ROOT repository  on Thursday, August 29, 2019 at 01:58 AM.</small></i>"
   ]
  },
  {
   "cell_type": "markdown",
   "metadata": {},
   "source": [
    "Create and plot a test histogram with stats"
   ]
  },
  {
   "cell_type": "code",
   "execution_count": 1,
   "metadata": {
    "collapsed": false
   },
   "outputs": [],
   "source": [
    "TCanvas *se = new TCanvas;\n",
    "TH1F *h = new TH1F(\"h\",\"test\",100,-3,3);\n",
    "h->FillRandom(\"gaus\",3000);\n",
    "gStyle->SetOptStat();\n",
    "h->Draw();\n",
    "se->Update();"
   ]
  },
  {
   "cell_type": "markdown",
   "metadata": {},
   "source": [
    "Retrieve the stat box"
   ]
  },
  {
   "cell_type": "code",
   "execution_count": 2,
   "metadata": {
    "collapsed": false
   },
   "outputs": [],
   "source": [
    "TPaveStats *ps = (TPaveStats*)se->GetPrimitive(\"stats\");\n",
    "ps->SetName(\"mystats\");\n",
    "TList *listOfLines = ps->GetListOfLines();"
   ]
  },
  {
   "cell_type": "markdown",
   "metadata": {},
   "source": [
    "Remove the rms line"
   ]
  },
  {
   "cell_type": "code",
   "execution_count": 3,
   "metadata": {
    "collapsed": false
   },
   "outputs": [],
   "source": [
    "TText *tconst = ps->GetLineWith(\"RMS\");\n",
    "listOfLines->Remove(tconst);"
   ]
  },
  {
   "cell_type": "markdown",
   "metadata": {},
   "source": [
    "Add a new line in the stat box.\n",
    " Note that \"=\" is a control character"
   ]
  },
  {
   "cell_type": "code",
   "execution_count": 4,
   "metadata": {
    "collapsed": false
   },
   "outputs": [],
   "source": [
    "TLatex *myt = new TLatex(0,0,\"Test = 10\");\n",
    "myt ->SetTextFont(42);\n",
    "myt ->SetTextSize(0.04);\n",
    "myt ->SetTextColor(kRed);\n",
    "listOfLines->Add(myt);"
   ]
  },
  {
   "cell_type": "markdown",
   "metadata": {},
   "source": [
    "The following line is needed to avoid that the automatic redrawing of stats"
   ]
  },
  {
   "cell_type": "code",
   "execution_count": 5,
   "metadata": {
    "collapsed": false
   },
   "outputs": [],
   "source": [
    "h->SetStats(0);\n",
    "\n",
    "se->Modified();\n",
    "return se;"
   ]
  },
  {
   "cell_type": "markdown",
   "metadata": {},
   "source": [
    "Draw all canvases "
   ]
  },
  {
   "cell_type": "code",
   "execution_count": 6,
   "metadata": {
    "collapsed": false
   },
   "outputs": [
    {
     "data": {
      "image/png": "[encoded data removed]",
      "text/plain": [
       "<IPython.core.display.Image object>"
      ]
     },
     "metadata": {},
     "output_type": "display_data"
    }
   ],
   "source": [
    "gROOT->GetListOfCanvases()->Draw()"
   ]
  }
 ],
 "metadata": {
  "kernelspec": {
   "display_name": "ROOT C++",
   "language": "c++",
   "name": "root"
  },
  "language_info": {
   "codemirror_mode": "text/x-c++src",
   "file_extension": ".C",
   "mimetype": " text/x-c++src",
   "name": "c++"
  }
 },
 "nbformat": 4,
 "nbformat_minor": 2
}
