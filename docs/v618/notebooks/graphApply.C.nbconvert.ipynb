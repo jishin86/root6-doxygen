{
 "cells": [
  {
   "cell_type": "markdown",
   "metadata": {},
   "source": [
    "# Graph Apply\n",
    "A macro to demonstrate the functionality of TGraph::Apply() method.\n",
    "TGraph::Apply applies a function `f` to all the data TGraph points.\n",
    "`f` may be a 1-D function TF1 or 2-d function TF2.\n",
    "The Y values of the graph are replaced by the new values computed using\n",
    "the function.\n",
    "\n",
    "\n",
    "\n",
    "\n",
    "**Author:** Miro Helbich  \n",
    "<i><small>This notebook tutorial was automatically generated with <a href= \"https://github.com/root-project/root/blob/master/documentation/doxygen/converttonotebook.py\">ROOTBOOK-izer</a> from the macro found in the ROOT repository  on Thursday, August 29, 2019 at 01:46 AM.</small></i>"
   ]
  },
  {
   "cell_type": "code",
   "execution_count": 1,
   "metadata": {
    "collapsed": false
   },
   "outputs": [],
   "source": [
    "const Int_t npoints=3;\n",
    "Double_t xaxis[npoints] = {1.,2.,3.};\n",
    "Double_t yaxis[npoints] = {10.,20.,30.};\n",
    "Double_t errorx[npoints] = {0.5,0.5,0.5};\n",
    "Double_t errory[npoints] = {5.,5.,5.};\n",
    "\n",
    "Double_t exl[npoints] = {0.5,0.5,0.5};\n",
    "Double_t exh[npoints] = {0.5,0.5,0.5};\n",
    "Double_t eyl[npoints] = {5.,5.,5.};\n",
    "Double_t eyh[npoints] = {5.,5.,5.};\n",
    "\n",
    "TGraph *gr1 = new TGraph(npoints,xaxis,yaxis);\n",
    "TGraphErrors *gr2 = new TGraphErrors(npoints,xaxis,yaxis,errorx,errory);\n",
    "TGraphAsymmErrors *gr3 = new TGraphAsymmErrors(npoints,xaxis,yaxis,exl,exh,eyl,eyh);\n",
    "TF2 *ff = new TF2(\"ff\",\"-1./y\");\n",
    "\n",
    "TCanvas *c1 = new TCanvas(\"c1\",\"c1\");\n",
    "c1->Divide(2,3);"
   ]
  },
  {
   "cell_type": "markdown",
   "metadata": {},
   "source": [
    "Tgraph"
   ]
  },
  {
   "cell_type": "code",
   "execution_count": 2,
   "metadata": {
    "collapsed": false
   },
   "outputs": [],
   "source": [
    "c1->cd(1);\n",
    "gr1->DrawClone(\"A*\");\n",
    "c1->cd(2);\n",
    "gr1->Apply(ff);\n",
    "gr1->Draw(\"A*\");"
   ]
  },
  {
   "cell_type": "markdown",
   "metadata": {},
   "source": [
    "Tgrapherrors"
   ]
  },
  {
   "cell_type": "code",
   "execution_count": 3,
   "metadata": {
    "collapsed": false
   },
   "outputs": [],
   "source": [
    "c1->cd(3);\n",
    "gr2->DrawClone(\"A*\");\n",
    "c1->cd(4);\n",
    "gr2->Apply(ff);\n",
    "gr2->Draw(\"A*\");"
   ]
  },
  {
   "cell_type": "markdown",
   "metadata": {},
   "source": [
    "Tgraphasymmerrors"
   ]
  },
  {
   "cell_type": "code",
   "execution_count": 4,
   "metadata": {
    "collapsed": false
   },
   "outputs": [],
   "source": [
    "c1->cd(5);\n",
    "gr3->DrawClone(\"A*\");\n",
    "c1->cd(6);\n",
    "gr3->Apply(ff);\n",
    "gr3->Draw(\"A*\");"
   ]
  },
  {
   "cell_type": "markdown",
   "metadata": {},
   "source": [
    "Draw all canvases "
   ]
  },
  {
   "cell_type": "code",
   "execution_count": 5,
   "metadata": {
    "collapsed": false
   },
   "outputs": [
    {
     "data": {
      "image/png": "[encoded data removed]",
      "text/plain": [
       "<IPython.core.display.Image object>"
      ]
     },
     "metadata": {},
     "output_type": "display_data"
    }
   ],
   "source": [
    "gROOT->GetListOfCanvases()->Draw()"
   ]
  }
 ],
 "metadata": {
  "kernelspec": {
   "display_name": "ROOT C++",
   "language": "c++",
   "name": "root"
  },
  "language_info": {
   "codemirror_mode": "text/x-c++src",
   "file_extension": ".C",
   "mimetype": " text/x-c++src",
   "name": "c++"
  }
 },
 "nbformat": 4,
 "nbformat_minor": 2
}
