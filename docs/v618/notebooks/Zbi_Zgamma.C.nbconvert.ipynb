{
 "cells": [
  {
   "cell_type": "markdown",
   "metadata": {},
   "source": [
    "#  Zbi_ Zgamma\n",
    "Demonstrate Z_Bi = Z_Gamma\n",
    "\n",
    "\n",
    "\n",
    "\n",
    "**Author:** Kyle Cranmer & Wouter Verkerke  \n",
    "<i><small>This notebook tutorial was automatically generated with <a href= \"https://github.com/root-project/root/blob/master/documentation/doxygen/converttonotebook.py\">ROOTBOOK-izer</a> from the macro found in the ROOT repository  on Thursday, August 29, 2019 at 03:34 AM.</small></i>"
   ]
  },
  {
   "cell_type": "code",
   "execution_count": 1,
   "metadata": {
    "collapsed": false
   },
   "outputs": [],
   "source": [
    "%%cpp -d\n",
    "#include \"RooRealVar.h\"\n",
    "#include \"RooProdPdf.h\"\n",
    "#include \"RooWorkspace.h\"\n",
    "#include \"RooDataSet.h\"\n",
    "#include \"TCanvas.h\"\n",
    "#include \"TH1.h\""
   ]
  },
  {
   "cell_type": "code",
   "execution_count": 2,
   "metadata": {
    "collapsed": false
   },
   "outputs": [],
   "source": [
    "%%cpp -d\n",
    "// This is a workaround to make sure the namespace is used inside functions\n",
    "using namespace RooFit;\n",
    "using namespace RooStats;"
   ]
  },
  {
   "cell_type": "markdown",
   "metadata": {},
   "source": [
    "Make model for prototype on/off problem\n",
    " Pois(x | s+b) * Pois(y | tau b )\n",
    " for Z_Gamma, use uniform prior on b."
   ]
  },
  {
   "cell_type": "code",
   "execution_count": 3,
   "metadata": {
    "collapsed": false
   },
   "outputs": [
    {
     "name": "stdout",
     "output_type": "stream",
     "text": [
      "\n",
      "\u001b[1mRooFit v3.60 -- Developed by Wouter Verkerke and David Kirkby\u001b[0m \n",
      "                Copyright (C) 2000-2013 NIKHEF, University of California & Stanford University\n",
      "                All rights reserved, please read http://roofit.sourceforge.net/license.txt\n",
      "\n",
      "[#1] INFO:ObjectHandling -- RooWorkspace::exportToCint(w) INFO: references to all objects in this workspace will be created in CINT in 'namespace w'\n"
     ]
    }
   ],
   "source": [
    "RooWorkspace *w1 = new RooWorkspace(\"w\", true);\n",
    "w1->factory(\"Poisson::px(x[150,0,500],sum::splusb(s[0,0,100],b[100,0,300]))\");\n",
    "w1->factory(\"Poisson::py(y[100,0,500],prod::taub(tau[1.],b))\");\n",
    "w1->factory(\"Uniform::prior_b(b)\");"
   ]
  },
  {
   "cell_type": "markdown",
   "metadata": {},
   "source": [
    "Construct the bayesian-averaged model (eg. a projection pdf)\n",
    " p'(x|s) = \\int db p(x|s+b) * [ p(y|b) * prior(b) ]"
   ]
  },
  {
   "cell_type": "code",
   "execution_count": 4,
   "metadata": {
    "collapsed": false
   },
   "outputs": [],
   "source": [
    "w1->factory(\"PROJ::averagedModel(PROD::foo(px|b,py,prior_b),b)\");"
   ]
  },
  {
   "cell_type": "markdown",
   "metadata": {},
   "source": [
    "Plot it, blue is averaged model, red is b known exactly"
   ]
  },
  {
   "cell_type": "code",
   "execution_count": 5,
   "metadata": {
    "collapsed": false
   },
   "outputs": [
    {
     "name": "stdout",
     "output_type": "stream",
     "text": [
      "[#1] INFO:NumericIntegration -- RooRealIntegral::init([py_X_prior_b]_Norm[b]_denominator_Int[b]) using numeric integrator RooIntegrator1D to calculate Int(b)\n",
      "[#1] INFO:NumericIntegration -- RooRealIntegral::init([py_X_prior_b]_Int[b]) using numeric integrator RooIntegrator1D to calculate Int(b)\n",
      "[#1] INFO:NumericIntegration -- RooRealIntegral::init([py_X_prior_b]_Norm[b]_denominator_Int[b]) using numeric integrator RooIntegrator1D to calculate Int(b)\n",
      "[#1] INFO:NumericIntegration -- RooRealIntegral::init([[py_X_prior_b]_Norm[b]_X_px_NORM[x]]_Int[b]) using numeric integrator RooIntegrator1D to calculate Int(b)\n"
     ]
    },
    {
     "name": "stderr",
     "output_type": "stream",
     "text": [
      "Info in <TCanvas::MakeDefCanvas>:  created default TCanvas with name c1\n"
     ]
    }
   ],
   "source": [
    "RooPlot *frame = w1->var(\"x\")->frame();\n",
    "w1->pdf(\"averagedModel\")->plotOn(frame);\n",
    "w1->pdf(\"px\")->plotOn(frame, LineColor(kRed));\n",
    "frame->Draw();"
   ]
  },
  {
   "cell_type": "markdown",
   "metadata": {},
   "source": [
    "Compare analytic calculation of z_bi\n",
    " with the numerical RooFit implementation of Z_Gamma\n",
    " for an example with x = 150, y = 100"
   ]
  },
  {
   "cell_type": "markdown",
   "metadata": {},
   "source": [
    "Numeric roofit z_gamma"
   ]
  },
  {
   "cell_type": "code",
   "execution_count": 6,
   "metadata": {
    "collapsed": false
   },
   "outputs": [
    {
     "name": "stdout",
     "output_type": "stream",
     "text": [
      "[#1] INFO:NumericIntegration -- RooRealIntegral::init([py_X_prior_b]_Norm[b]_denominator_Int[b]) using numeric integrator RooIntegrator1D to calculate Int(b)\n",
      "[#1] INFO:NumericIntegration -- RooRealIntegral::init([py_X_prior_b]_Int[b]) using numeric integrator RooIntegrator1D to calculate Int(b)\n",
      "[#1] INFO:NumericIntegration -- RooRealIntegral::init([py_X_prior_b]_Norm[b]_denominator_Int[b]) using numeric integrator RooIntegrator1D to calculate Int(b)\n",
      "[#1] INFO:NumericIntegration -- RooRealIntegral::init([py_X_prior_b_X_px]_Norm[b]_denominator_Int[b]) using numeric integrator RooIntegrator1D to calculate Int(b)\n",
      "[#1] INFO:NumericIntegration -- RooRealIntegral::init([py_X_prior_b]_Norm[b]_denominator_Int[b]) using numeric integrator RooIntegrator1D to calculate Int(b)\n",
      "[#1] INFO:NumericIntegration -- RooRealIntegral::init([py_X_prior_b]_Int[b]) using numeric integrator RooIntegrator1D to calculate Int(b)\n",
      "[#1] INFO:NumericIntegration -- RooRealIntegral::init([py_X_prior_b]_Norm[b]_denominator_Int[b]) using numeric integrator RooIntegrator1D to calculate Int(b)\n",
      "[#1] INFO:NumericIntegration -- RooRealIntegral::init([py_X_prior_b]_Norm[b]_denominator_Int[b]) using numeric integrator RooIntegrator1D to calculate Int(b)\n",
      "[#1] INFO:NumericIntegration -- RooRealIntegral::init([py_X_prior_b]_Int[b]) using numeric integrator RooIntegrator1D to calculate Int(b)\n",
      "[#1] INFO:NumericIntegration -- RooRealIntegral::init([[py_X_prior_b]_Norm[b]_X_px_cdf_NORM[x_prime]]_Int[b]) using numeric integrator RooIntegrator1D to calculate Int(b)\n",
      "[#1] INFO:NumericIntegration -- RooRealIntegral::init([[py_X_prior_b]_Norm[b]_X_px_cdf_Int[x_prime|CDF]_Norm[x_prime]]_Int[b|CDF]) using numeric integrator RooIntegrator1D to calculate Int(b)\n",
      "Hybrid p-value = 0.999226\n",
      "Z_Gamma Significance  = 3.1655\n"
     ]
    }
   ],
   "source": [
    "w1->var(\"y\")->setVal(100);\n",
    "w1->var(\"x\")->setVal(150);\n",
    "RooAbsReal *cdf = w1->pdf(\"averagedModel\")->createCdf(*w1->var(\"x\"));\n",
    "cdf->getVal(); // get ugly print messages out of the way\n",
    "\n",
    "cout << \"Hybrid p-value = \" << cdf->getVal() << endl;\n",
    "cout << \"Z_Gamma Significance  = \" << PValueToSignificance(1 - cdf->getVal()) << endl;"
   ]
  },
  {
   "cell_type": "markdown",
   "metadata": {},
   "source": [
    "Analytic z_bi"
   ]
  },
  {
   "cell_type": "code",
   "execution_count": 7,
   "metadata": {
    "collapsed": false
   },
   "outputs": [
    {
     "name": "stdout",
     "output_type": "stream",
     "text": [
      "Z_Bi significance estimation: 3.10804\n"
     ]
    }
   ],
   "source": [
    "double Z_Bi = NumberCountingUtils::BinomialWithTauObsZ(150, 100, 1);\n",
    "std::cout << \"Z_Bi significance estimation: \" << Z_Bi << std::endl;"
   ]
  },
  {
   "cell_type": "markdown",
   "metadata": {},
   "source": [
    "Output\n",
    " Hybrid p-value = 0.999058\n",
    " Z_Gamma Significance  = 3.10804\n",
    " Z_Bi significance estimation: 3.10804"
   ]
  },
  {
   "cell_type": "markdown",
   "metadata": {},
   "source": [
    "Draw all canvases "
   ]
  },
  {
   "cell_type": "code",
   "execution_count": 8,
   "metadata": {
    "collapsed": false
   },
   "outputs": [
    {
     "data": {
      "text/html": [
       "\n",
       "<div id=\"root_plot_1\"\n",
       "     style=\"width: 696px; height: 472px\">\n",
       "</div>\n",
       "\n",
       "<script>\n",
       " requirejs.config({\n",
       "     paths: {\n",
       "       'JSRootCore' : 'https://root.cern.ch/js/notebook//scripts/JSRootCore',\n",
       "     }\n",
       "   });\n",
       " require(['JSRootCore'],\n",
       "     function(Core) {\n",
       "       var obj = Core.JSONR_unref({\"_typename\":\"TCanvas\",\"fUniqueID\":0,\"fBits\":53673992,\"fLineColor\":1,\"fLineStyle\":1,\"fLineWidth\":1,\"fFillColor\":0,\"fFillStyle\":1001,\"fLeftMargin\":0.1,\"fRightMargin\":0.1,\"fBottomMargin\":0.1,\"fTopMargin\":0.1,\"fXfile\":2,\"fYfile\":2,\"fAfile\":1,\"fXstat\":0.99,\"fYstat\":0.99,\"fAstat\":2,\"fFrameFillColor\":0,\"fFrameLineColor\":1,\"fFrameFillStyle\":1001,\"fFrameLineStyle\":1,\"fFrameLineWidth\":1,\"fFrameBorderSize\":1,\"fFrameBorderMode\":0,\"fX1\":-62.5000046566132,\"fY1\":-0.026158781104985,\"fX2\":562.500004656613,\"fY2\":0.235429014353016,\"fXtoAbsPixelk\":69.6000541484835,\"fXtoPixelk\":69.6000541484835,\"fXtoPixel\":1.11359998340607,\"fYtoAbsPixelk\":424.800047186661,\"fYtoPixelk\":424.800047186661,\"fYtoPixel\":-1804.36552543898,\"fUtoAbsPixelk\":5e-5,\"fUtoPixelk\":5e-5,\"fUtoPixel\":696,\"fVtoAbsPixelk\":472.00005,\"fVtoPixelk\":472,\"fVtoPixel\":-472,\"fAbsPixeltoXk\":-62.5000046566132,\"fPixeltoXk\":-62.5000046566132,\"fPixeltoX\":0.897988519128199,\"fAbsPixeltoYk\":0.235429014353016,\"fPixeltoYk\":-0.026158781104985,\"fPixeltoY\":-5.54211431055087e-4,\"fXlowNDC\":0,\"fYlowNDC\":0,\"fXUpNDC\":0,\"fYUpNDC\":0,\"fWNDC\":1,\"fHNDC\":1,\"fAbsXlowNDC\":0,\"fAbsYlowNDC\":0,\"fAbsWNDC\":1,\"fAbsHNDC\":1,\"fUxmin\":0,\"fUymin\":0,\"fUxmax\":500,\"fUymax\":0.209270233248031,\"fTheta\":30,\"fPhi\":30,\"fAspectRatio\":0,\"fNumber\":0,\"fTickx\":0,\"fTicky\":0,\"fLogx\":0,\"fLogy\":0,\"fLogz\":0,\"fPadPaint\":0,\"fCrosshair\":0,\"fCrosshairPos\":0,\"fBorderSize\":2,\"fBorderMode\":0,\"fModified\":false,\"fGridx\":false,\"fGridy\":false,\"fAbsCoord\":false,\"fEditable\":true,\"fFixedAspectRatio\":false,\"fPrimitives\":{\"_typename\":\"TList\",\"name\":\"TList\",\"arr\":[{\"_typename\":\"TFrame\",\"fUniqueID\":0,\"fBits\":50331656,\"fLineColor\":1,\"fLineStyle\":1,\"fLineWidth\":1,\"fFillColor\":0,\"fFillStyle\":1001,\"fX1\":0,\"fY1\":0,\"fX2\":500,\"fY2\":0.209270233248031,\"fBorderSize\":1,\"fBorderMode\":0},{\"_typename\":\"TH1D\",\"fUniqueID\":0,\"fBits\":50332168,\"fName\":\"frame_7f6fdc5f4470\",\"fTitle\":\"A RooPlot of \\\"x\\\"\",\"fLineColor\":602,\"fLineStyle\":1,\"fLineWidth\":1,\"fFillColor\":0,\"fFillStyle\":1001,\"fMarkerColor\":1,\"fMarkerStyle\":1,\"fMarkerSize\":1,\"fNcells\":102,\"fXaxis\":{\"_typename\":\"TAxis\",\"fUniqueID\":0,\"fBits\":50331648,\"fName\":\"xaxis\",\"fTitle\":\"x\",\"fNdivisions\":510,\"fAxisColor\":1,\"fLabelColor\":1,\"fLabelFont\":42,\"fLabelOffset\":0.005,\"fLabelSize\":0.035,\"fTickLength\":0.03,\"fTitleOffset\":1,\"fTitleSize\":0.035,\"fTitleColor\":1,\"fTitleFont\":42,\"fNbins\":100,\"fXmin\":0,\"fXmax\":500,\"fXbins\":[],\"fFirst\":0,\"fLast\":0,\"fBits2\":0,\"fTimeDisplay\":false,\"fTimeFormat\":\"\",\"fLabels\":null,\"fModLabs\":null},\"fYaxis\":{\"_typename\":\"TAxis\",\"fUniqueID\":0,\"fBits\":50331648,\"fName\":\"yaxis\",\"fTitle\":\"Projection of foo_Proj[b]\",\"fNdivisions\":510,\"fAxisColor\":1,\"fLabelColor\":1,\"fLabelFont\":42,\"fLabelOffset\":0.005,\"fLabelSize\":0.035,\"fTickLength\":0.03,\"fTitleOffset\":0,\"fTitleSize\":0.035,\"fTitleColor\":1,\"fTitleFont\":42,\"fNbins\":1,\"fXmin\":0,\"fXmax\":1,\"fXbins\":[],\"fFirst\":0,\"fLast\":0,\"fBits2\":0,\"fTimeDisplay\":false,\"fTimeFormat\":\"\",\"fLabels\":null,\"fModLabs\":null},\"fZaxis\":{\"_typename\":\"TAxis\",\"fUniqueID\":0,\"fBits\":50331648,\"fName\":\"zaxis\",\"fTitle\":\"\",\"fNdivisions\":510,\"fAxisColor\":1,\"fLabelColor\":1,\"fLabelFont\":42,\"fLabelOffset\":0.005,\"fLabelSize\":0.035,\"fTickLength\":0.03,\"fTitleOffset\":1,\"fTitleSize\":0.035,\"fTitleColor\":1,\"fTitleFont\":42,\"fNbins\":1,\"fXmin\":0,\"fXmax\":1,\"fXbins\":[],\"fFirst\":0,\"fLast\":0,\"fBits2\":0,\"fTimeDisplay\":false,\"fTimeFormat\":\"\",\"fLabels\":null,\"fModLabs\":null},\"fBarOffset\":0,\"fBarWidth\":1000,\"fEntries\":2,\"fTsumw\":0,\"fTsumw2\":0,\"fTsumwx\":0,\"fTsumwx2\":0,\"fMaximum\":0.209270233248031,\"fMinimum\":-1111,\"fNormFactor\":0,\"fContour\":[],\"fSumw2\":[],\"fOption\":\"\",\"fFunctions\":{\"_typename\":\"TList\",\"name\":\"TList\",\"arr\":[],\"opt\":[]},\"fBufferSize\":0,\"fBuffer\":[],\"fBinStatErrOpt\":0,\"fStatOverflows\":2,\"fArray\":[0,0.209270233248031,0,0,0,0,0,0,0,0,0,0,0,0,0,0,0,0,0,0,0,0,0,0,0,0,0,0,0,0,0,0,0,0,0,0,0,0,0,0,0,0,0,0,0,0,0,0,0,0,0,0,0,0,0,0,0,0,0,0,0,0,0,0,0,0,0,0,0,0,0,0,0,0,0,0,0,0,0,0,0,0,0,0,0,0,0,0,0,0,0,0,0,0,0,0,0,0,0,0,0,0]},{\"_typename\":\"RooCurve\",\"fUniqueID\":0,\"fBits\":50332680,\"fName\":\"averagedModel_Norm[x]\",\"fTitle\":\"Projection of foo_Proj[b]\",\"fLineColor\":600,\"fLineStyle\":1,\"fLineWidth\":3,\"fFillColor\":0,\"fFillStyle\":1000,\"fMarkerColor\":1,\"fMarkerStyle\":1,\"fMarkerSize\":1,\"fNpoints\":175,\"fX\":[-5,-5,0,5,10,15,20,25,30,35,40,45,50,55,57.5,60,62.5,63.125,63.75,65,67.5,68.125,68.75,70,70.625,71.25,71.875,72.5,73.125,73.75,74.375,75,75.625,76.25,76.875,77.5,78.125,78.75,79.375,80,82.5,83.125,83.75,85,87.5,88.125,88.75,90,90.625,91.25,91.875,92.5,93.125,93.75,94.375,95,95.625,96.25,96.875,97.5,98.125,98.75,99.375,100,100.625,101.25,101.875,102.5,103.125,103.75,104.375,105,105.625,106.25,106.875,107.5,108.125,108.75,110,112.5,113.125,113.75,115,117.5,118.125,118.75,120,122.5,123.125,123.75,125,127.5,128.125,128.75,130,132.5,133.125,133.75,135,140,145,150,155,160,165,170,175,180,185,190,195,200,205,210,215,220,225,230,235,240,245,250,255,260,265,270,275,280,285,290,295,300,305,310,315,320,325,330,335,340,345,350,355,360,365,370,375,380,385,390,395,400,405,410,415,420,425,430,435,440,445,450,455,460,465,470,475,480,485,490,495,500,500,505,505],\"fY\":[0,2.11108534667869e-30,2.11108534667869e-30,9.77385576101368e-24,1.81847067343563e-19,2.8521021105303e-16,8.77358956394842e-14,8.27441675518317e-12,3.45367565094549e-10,9.43789402559867e-9,2.01397209735069e-7,2.96810953578089e-6,2.77458133587017e-5,1.69737550299113e-4,3.18000177799503e-4,7.57035312694803e-4,0.00130405452381839,0.00231639195211887,0.00231639195211887,0.00376700811096018,0.00590404903083788,0.00729327796064567,0.00729327796064567,0.0108455807436938,0.0108455807436938,0.0130604926284574,0.0130604926284574,0.0155999535130297,0.0194643967706656,0.0194643967706656,0.0217318368445311,0.0253535089862242,0.0253535089862242,0.0293563040261718,0.0293563040261718,0.0336973992587964,0.0384978773381269,0.0384978773381269,0.0436140508547871,0.0490651256231786,0.0608375904129554,0.0670679481472928,0.0670679481472928,0.0799367306913272,0.0929016091055269,0.0992358085387446,0.0992358085387446,0.111222152094498,0.111222152094498,0.116722146036046,0.116722146036046,0.121797019121393,0.12638077493379,0.12638077493379,0.130414200879223,0.133846150469424,0.133846150469424,0.136634608876423,0.136634608876423,0.138746489437096,0.140163609089837,0.140163609089837,0.140872809200272,0.140871189628388,0.140871189628388,0.140173804693543,0.140173804693543,0.138799549069406,0.136778194022257,0.136778194022257,0.134147842073986,0.130953844177113,0.130953844177113,0.127247602119649,0.127247602119649,0.123085296710736,0.118526581887167,0.118526581887167,0.108468134675881,0.097570719542792,0.0919582463668212,0.0919582463668212,0.0806837987123834,0.0696609165234284,0.0643473126987097,0.0643473126987097,0.0542754234822758,0.0450960955673683,0.0408796536052707,0.0408796536052707,0.0332310874880898,0.0266345317955631,0.0237214304561351,0.0237214304561351,0.0186569499785189,0.0144467379910663,0.0126500535362197,0.0126500535362197,0.00960682792545732,0.00458148156048677,0.0020248480568313,8.42306239472255e-4,3.16218742879999e-4,1.1230881195141e-4,5.61851358080863e-5,1.70080668334035e-5,4.63553184993428e-6,1.16985396896532e-6,2.83055080412762e-7,6.77223929018101e-8,1.62640602190245e-8,3.9162278207685e-9,9.39607490375302e-10,2.23715687547873e-10,5.2597286695225e-11,1.20737832401205e-11,2.66016433367565e-12,5.52851438707097e-13,1.07011198581315e-13,1.91766211454814e-14,3.18442934102138e-15,4.93781753902043e-16,7.25358083704519e-17,1.03056194458114e-17,1.45106688389615e-18,2.07069564668156e-19,3.0353054633529e-20,4.57334395352276e-21,7.0090199999046e-22,1.0745984550764e-22,1.6190907387091e-23,2.3604316161536e-24,3.29175884823536e-25,4.36128325828629e-26,5.47738077485456e-27,6.53463506099392e-28,7.45233340390321e-29,8.20761540797786e-30,8.84683865369241e-31,9.47048387344419e-32,1.02003501153246e-32,1.11431759307021e-33,1.23601877724894e-34,1.38445315903378e-35,1.55067261132083e-36,1.71733668875696e-37,1.86087063096703e-38,1.9563855575561e-39,1.98439216933403e-40,1.93690381970935e-41,1.82027135444865e-42,1.65339886206311e-43,1.46210323853917e-44,1.27200871352589e-45,1.10264036038946e-46,9.64382838926111e-48,8.58506380256944e-49,7.79376855419691e-50,7.17619507866318e-51,6.63224128604722e-52,6.07979798942568e-53,5.46949473097022e-54,4.78904175906263e-55,4.05812399833941e-56,3.31662082231583e-57,2.61030608411433e-58,1.97834121890048e-59,1.44558055678526e-60,1.02055965954044e-61,6.98043567754245e-63,4.6394585502819e-64,3.00457613014645e-65,3.00457613014645e-65,3.00457613014645e-65,0],\"fFunctions\":{\"_typename\":\"TList\",\"name\":\"TList\",\"arr\":[],\"opt\":[]},\"fHistogram\":{\"_typename\":\"TH1F\",\"fUniqueID\":0,\"fBits\":50332168,\"fName\":\"averagedModel_Norm[x]\",\"fTitle\":\"Projection of foo_Proj[b]\",\"fLineColor\":602,\"fLineStyle\":1,\"fLineWidth\":1,\"fFillColor\":0,\"fFillStyle\":1001,\"fMarkerColor\":1,\"fMarkerStyle\":1,\"fMarkerSize\":1,\"fNcells\":177,\"fXaxis\":{\"_typename\":\"TAxis\",\"fUniqueID\":0,\"fBits\":50331648,\"fName\":\"xaxis\",\"fTitle\":\"\",\"fNdivisions\":510,\"fAxisColor\":1,\"fLabelColor\":1,\"fLabelFont\":42,\"fLabelOffset\":0.005,\"fLabelSize\":0.035,\"fTickLength\":0.03,\"fTitleOffset\":1,\"fTitleSize\":0.035,\"fTitleColor\":1,\"fTitleFont\":42,\"fNbins\":175,\"fXmin\":-56,\"fXmax\":556,\"fXbins\":[],\"fFirst\":0,\"fLast\":0,\"fBits2\":0,\"fTimeDisplay\":false,\"fTimeFormat\":\"\",\"fLabels\":null,\"fModLabs\":null},\"fYaxis\":{\"_typename\":\"TAxis\",\"fUniqueID\":0,\"fBits\":50331648,\"fName\":\"yaxis\",\"fTitle\":\"\",\"fNdivisions\":510,\"fAxisColor\":1,\"fLabelColor\":1,\"fLabelFont\":42,\"fLabelOffset\":0.005,\"fLabelSize\":0.035,\"fTickLength\":0.03,\"fTitleOffset\":0,\"fTitleSize\":0.035,\"fTitleColor\":1,\"fTitleFont\":42,\"fNbins\":1,\"fXmin\":0,\"fXmax\":0.154960090120299,\"fXbins\":[],\"fFirst\":0,\"fLast\":0,\"fBits2\":0,\"fTimeDisplay\":false,\"fTimeFormat\":\"\",\"fLabels\":null,\"fModLabs\":null},\"fZaxis\":{\"_typename\":\"TAxis\",\"fUniqueID\":0,\"fBits\":50331648,\"fName\":\"zaxis\",\"fTitle\":\"\",\"fNdivisions\":510,\"fAxisColor\":1,\"fLabelColor\":1,\"fLabelFont\":42,\"fLabelOffset\":0.005,\"fLabelSize\":0.035,\"fTickLength\":0.03,\"fTitleOffset\":1,\"fTitleSize\":0.035,\"fTitleColor\":1,\"fTitleFont\":42,\"fNbins\":1,\"fXmin\":0,\"fXmax\":1,\"fXbins\":[],\"fFirst\":0,\"fLast\":0,\"fBits2\":0,\"fTimeDisplay\":false,\"fTimeFormat\":\"\",\"fLabels\":null,\"fModLabs\":null},\"fBarOffset\":0,\"fBarWidth\":1000,\"fEntries\":0,\"fTsumw\":0,\"fTsumw2\":0,\"fTsumwx\":0,\"fTsumwx2\":0,\"fMaximum\":0.154960090120299,\"fMinimum\":0,\"fNormFactor\":0,\"fContour\":[],\"fSumw2\":[],\"fOption\":\"\",\"fFunctions\":{\"_typename\":\"TList\",\"name\":\"TList\",\"arr\":[],\"opt\":[]},\"fBufferSize\":0,\"fBuffer\":[],\"fBinStatErrOpt\":0,\"fStatOverflows\":2,\"fArray\":[0,0,0,0,0,0,0,0,0,0,0,0,0,0,0,0,0,0,0,0,0,0,0,0,0,0,0,0,0,0,0,0,0,0,0,0,0,0,0,0,0,0,0,0,0,0,0,0,0,0,0,0,0,0,0,0,0,0,0,0,0,0,0,0,0,0,0,0,0,0,0,0,0,0,0,0,0,0,0,0,0,0,0,0,0,0,0,0,0,0,0,0,0,0,0,0,0,0,0,0,0,0,0,0,0,0,0,0,0,0,0,0,0,0,0,0,0,0,0,0,0,0,0,0,0,0,0,0,0,0,0,0,0,0,0,0,0,0,0,0,0,0,0,0,0,0,0,0,0,0,0,0,0,0,0,0,0,0,0,0,0,0,0,0,0,0,0,0,0,0,0,0,0,0,0,0,0]},\"fMinimum\":-1111,\"fMaximum\":-1111,\"_yAxisLabel\":\"Projection of foo_Proj[b]\",\"_ymin\":0,\"_ymax\":0.140872809200272,\"_normValue\":0},{\"_typename\":\"RooCurve\",\"fUniqueID\":0,\"fBits\":50332680,\"fName\":\"px_Norm[x]\",\"fTitle\":\"Projection of px\",\"fLineColor\":632,\"fLineStyle\":1,\"fLineWidth\":3,\"fFillColor\":0,\"fFillStyle\":1000,\"fMarkerColor\":1,\"fMarkerStyle\":1,\"fMarkerSize\":1,\"fNpoints\":173,\"fX\":[-5,-5,0,5,10,15,20,25,30,35,40,45,50,55,60,65,67.5,68.75,70,72.5,73.125,73.75,74.375,75,75.625,76.25,76.875,77.5,78.125,78.75,79.375,80,80.625,81.25,81.875,82.5,83.125,83.75,84.375,85,85.625,86.25,86.875,87.5,88.125,88.75,90,90.625,91.25,91.875,92.5,93.125,93.75,94.375,95,95.625,96.25,96.875,97.5,98.125,98.75,99.375,100,100.625,101.25,101.875,102.5,103.125,103.75,104.375,105,105.625,106.25,106.875,107.5,108.125,108.75,110,112.5,113.125,113.75,114.375,115,115.625,116.25,116.875,117.5,118.125,118.75,119.375,120,125,127.5,128.125,128.75,130,135,140,145,150,155,160,165,170,175,180,185,190,195,200,205,210,215,220,225,230,235,240,245,250,255,260,265,270,275,280,285,290,295,300,305,310,315,320,325,330,335,340,345,350,355,360,365,370,375,380,385,390,395,400,405,410,415,420,425,430,435,440,445,450,455,460,465,470,475,480,485,490,495,500,500,505,505],\"fY\":[0,1.86003798801042e-43,1.86003798801042e-43,1.55003165667535e-35,5.12576606043436e-30,1.42240150417205e-25,7.64534692214944e-22,1.19915724357698e-18,7.01232020392711e-16,1.80006905355579e-13,2.27969499554693e-11,1.55492681422634e-9,6.11571081759451e-8,1.46501173300742e-6,2.23535737143768e-5,2.25523373867954e-4,5.10003106892694e-4,7.50004568959825e-4,0.00155280449060016,0.00303756746987503,0.00416105132859587,0.00416105132859587,0.00562304233594056,0.00749738978125413,0.00749738978125413,0.00986498655428144,0.00986498655428144,0.0128116708497159,0.0164252190380985,0.0164252190380985,0.0207914165039227,0.0259892706299015,0.0259892706299015,0.0320855192961743,0.0320855192961743,0.0391286820685036,0.0471429904439848,0.0471429904439848,0.0561226076714104,0.0660265972604821,0.0660265972604821,0.0767751130935872,0.0767751130935872,0.0882472564294053,0.100280973215234,0.100280973215234,0.125194723115152,0.125194723115152,0.137576618807848,0.137576618807848,0.149539803052013,0.160795487152706,0.160795487152706,0.171059028885858,0.180062135669337,0.180062135669337,0.187564724655544,0.187564724655544,0.193365695521174,0.197311934205294,0.197311934205294,0.199304984045744,0.199304984045744,0.199304984045744,0.19733166737204,0.19733166737204,0.193462418992181,0.187827591254548,0.187827591254548,0.180603453129386,0.172003288694646,0.172003288694646,0.162267253485514,0.162267253485514,0.15165163877151,0.140418184047692,0.140418184047692,0.117112747329185,0.0942026603355635,0.0833651861376672,0.0833651861376672,0.07312735626112,0.0635890054444549,0.0635890054444549,0.0548181081417678,0.0548181081417678,0.0468530838818512,0.0397060032897033,0.0397060032897033,0.0333663893190783,0.0278053244325665,0.00987975002216863,0.00617407200485575,0.00482349375379313,0.00482349375379313,0.00287626341907748,6.91342448095105e-4,1.38169385250938e-4,2.31120163720141e-5,3.25558023439318e-6,3.8838640363858e-7,3.94516864957086e-8,3.42933005815331e-9,2.56294814380883e-10,1.65417655729e-11,9.25870803475009e-13,4.51190332108609e-14,1.92146279665363e-15,7.17635201859102e-17,2.35848530139652e-18,6.84235622724852e-20,1.75767752310288e-21,4.00948918292914e-23,8.14427204133613e-25,1.47696983054864e-26,2.39739261152246e-28,3.49139959387713e-30,4.57249362195223e-32,5.39707577374796e-34,5.75354373314232e-36,5.55094261995731e-38,4.85624771053837e-40,3.85969940936215e-42,2.79196357010331e-44,1.84130464464814e-46,1.1089954568195e-48,6.10976777008243e-51,3.08381591138964e-53,1.4281559636627e-55,6.07741327615505e-58,2.37973873805204e-60,8.58615231665204e-63,2.85824245705495e-65,8.78992035268568e-68,2.50030588011892e-70,6.58633942175789e-73,1.60857947576379e-75,3.64651520969195e-78,7.68114363958691e-81,1.50503845887109e-83,2.74594286982229e-86,4.66974652174828e-89,7.40929116501028e-92,1.0978767882852e-94,1.52063524383379e-97,1.97052182958996e-100,2.3911244702038e-103,2.71930536991536e-106,2.9007432349326e-109,2.90474248159234e-112,2.73272403231201e-115,2.41717450827852e-118,2.01173363949747e-121,1.57652730627766e-124,1.16415765046019e-127,8.10596651980106e-131,5.32570253997075e-134,3.30382984751359e-137,1.93646702590293e-140,1.0730769238405e-143,5.6253613814834e-147,2.79147272916709e-150,1.31201428631841e-153,5.8441211858885e-157,2.46844363704024e-160,9.8922079212581e-164,3.76328310271255e-167,1.35980583005538e-170,4.66929418138019e-174,1.52445033080583e-177,1.52445033080583e-177,1.52445033080583e-177,0],\"fFunctions\":{\"_typename\":\"TList\",\"name\":\"TList\",\"arr\":[],\"opt\":[]},\"fHistogram\":{\"_typename\":\"TH1F\",\"fUniqueID\":0,\"fBits\":50332168,\"fName\":\"px_Norm[x]\",\"fTitle\":\"Projection of px\",\"fLineColor\":602,\"fLineStyle\":1,\"fLineWidth\":1,\"fFillColor\":0,\"fFillStyle\":1001,\"fMarkerColor\":1,\"fMarkerStyle\":1,\"fMarkerSize\":1,\"fNcells\":175,\"fXaxis\":{\"_typename\":\"TAxis\",\"fUniqueID\":0,\"fBits\":50331648,\"fName\":\"xaxis\",\"fTitle\":\"\",\"fNdivisions\":510,\"fAxisColor\":1,\"fLabelColor\":1,\"fLabelFont\":42,\"fLabelOffset\":0.005,\"fLabelSize\":0.035,\"fTickLength\":0.03,\"fTitleOffset\":1,\"fTitleSize\":0.035,\"fTitleColor\":1,\"fTitleFont\":42,\"fNbins\":173,\"fXmin\":-56,\"fXmax\":556,\"fXbins\":[],\"fFirst\":0,\"fLast\":0,\"fBits2\":0,\"fTimeDisplay\":false,\"fTimeFormat\":\"\",\"fLabels\":null,\"fModLabs\":null},\"fYaxis\":{\"_typename\":\"TAxis\",\"fUniqueID\":0,\"fBits\":50331648,\"fName\":\"yaxis\",\"fTitle\":\"\",\"fNdivisions\":510,\"fAxisColor\":1,\"fLabelColor\":1,\"fLabelFont\":42,\"fLabelOffset\":0.005,\"fLabelSize\":0.035,\"fTickLength\":0.03,\"fTitleOffset\":0,\"fTitleSize\":0.035,\"fTitleColor\":1,\"fTitleFont\":42,\"fNbins\":1,\"fXmin\":0,\"fXmax\":0.219235482450319,\"fXbins\":[],\"fFirst\":0,\"fLast\":0,\"fBits2\":0,\"fTimeDisplay\":false,\"fTimeFormat\":\"\",\"fLabels\":null,\"fModLabs\":null},\"fZaxis\":{\"_typename\":\"TAxis\",\"fUniqueID\":0,\"fBits\":50331648,\"fName\":\"zaxis\",\"fTitle\":\"\",\"fNdivisions\":510,\"fAxisColor\":1,\"fLabelColor\":1,\"fLabelFont\":42,\"fLabelOffset\":0.005,\"fLabelSize\":0.035,\"fTickLength\":0.03,\"fTitleOffset\":1,\"fTitleSize\":0.035,\"fTitleColor\":1,\"fTitleFont\":42,\"fNbins\":1,\"fXmin\":0,\"fXmax\":1,\"fXbins\":[],\"fFirst\":0,\"fLast\":0,\"fBits2\":0,\"fTimeDisplay\":false,\"fTimeFormat\":\"\",\"fLabels\":null,\"fModLabs\":null},\"fBarOffset\":0,\"fBarWidth\":1000,\"fEntries\":0,\"fTsumw\":0,\"fTsumw2\":0,\"fTsumwx\":0,\"fTsumwx2\":0,\"fMaximum\":0.219235482450319,\"fMinimum\":0,\"fNormFactor\":0,\"fContour\":[],\"fSumw2\":[],\"fOption\":\"\",\"fFunctions\":{\"_typename\":\"TList\",\"name\":\"TList\",\"arr\":[],\"opt\":[]},\"fBufferSize\":0,\"fBuffer\":[],\"fBinStatErrOpt\":0,\"fStatOverflows\":2,\"fArray\":[0,0,0,0,0,0,0,0,0,0,0,0,0,0,0,0,0,0,0,0,0,0,0,0,0,0,0,0,0,0,0,0,0,0,0,0,0,0,0,0,0,0,0,0,0,0,0,0,0,0,0,0,0,0,0,0,0,0,0,0,0,0,0,0,0,0,0,0,0,0,0,0,0,0,0,0,0,0,0,0,0,0,0,0,0,0,0,0,0,0,0,0,0,0,0,0,0,0,0,0,0,0,0,0,0,0,0,0,0,0,0,0,0,0,0,0,0,0,0,0,0,0,0,0,0,0,0,0,0,0,0,0,0,0,0,0,0,0,0,0,0,0,0,0,0,0,0,0,0,0,0,0,0,0,0,0,0,0,0,0,0,0,0,0,0,0,0,0,0,0,0,0,0,0,0]},\"fMinimum\":-1111,\"fMaximum\":-1111,\"_yAxisLabel\":\"Projection of px\",\"_ymin\":0,\"_ymax\":0.199304984045744,\"_normValue\":0},{\"$ref\":3},{\"_typename\":\"TPaveText\",\"fUniqueID\":0,\"fBits\":50331657,\"fLineColor\":1,\"fLineStyle\":1,\"fLineWidth\":1,\"fFillColor\":0,\"fFillStyle\":0,\"fX1\":159.788073368381,\"fY1\":0.219733747658496,\"fX2\":340.211926631619,\"fY2\":0.234121076623074,\"fX1NDC\":0.35566091954023,\"fY1NDC\":0.940000003948808,\"fX2NDC\":0.64433908045977,\"fY2NDC\":0.995000004768372,\"fBorderSize\":0,\"fInit\":1,\"fShadowColor\":1,\"fCornerRadius\":0,\"fOption\":\"blNDC\",\"fName\":\"title\",\"fTextAngle\":0,\"fTextSize\":0,\"fTextAlign\":22,\"fTextColor\":1,\"fTextFont\":42,\"fLabel\":\"\",\"fLongest\":16,\"fMargin\":0.05,\"fLines\":{\"_typename\":\"TList\",\"name\":\"TList\",\"arr\":[{\"_typename\":\"TLatex\",\"fUniqueID\":0,\"fBits\":50331648,\"fName\":\"\",\"fTitle\":\"A RooPlot of \\\"x\\\"\",\"fTextAngle\":0,\"fTextSize\":0,\"fTextAlign\":0,\"fTextColor\":0,\"fTextFont\":0,\"fX\":0,\"fY\":0,\"fLineColor\":1,\"fLineStyle\":1,\"fLineWidth\":2,\"fLimitFactorSize\":3,\"fOriginSize\":0.0467500016093254}],\"opt\":[\"\"]}}],\"opt\":[\"\",\"FUNC\",\"l\",\"l\",\"AXISSAME\",\"blNDC\"]},\"fExecs\":null,\"fName\":\"c1\",\"fTitle\":\"c1\",\"fNumPaletteColor\":0,\"fNextPaletteColor\":0,\"fDISPLAY\":\"$DISPLAY\",\"fDoubleBuffer\":0,\"fRetained\":true,\"fXsizeUser\":0,\"fYsizeUser\":0,\"fXsizeReal\":20,\"fYsizeReal\":14.28571,\"fWindowTopX\":0,\"fWindowTopY\":0,\"fWindowWidth\":0,\"fWindowHeight\":0,\"fCw\":696,\"fCh\":472,\"fCatt\":{\"_typename\":\"TAttCanvas\",\"fXBetween\":2,\"fYBetween\":2,\"fTitleFromTop\":1.2,\"fXdate\":0.2,\"fYdate\":0.3,\"fAdate\":1},\"kMoveOpaque\":true,\"kResizeOpaque\":true,\"fHighLightColor\":2,\"fBatch\":true,\"kShowEventStatus\":false,\"kAutoExec\":true,\"kMenuBar\":true});\n",
       "       Core.draw(\"root_plot_1\", obj, \"\");\n",
       "     }\n",
       " );\n",
       "</script>\n"
      ],
      "text/plain": [
       "<IPython.core.display.HTML object>"
      ]
     },
     "metadata": {},
     "output_type": "display_data"
    }
   ],
   "source": [
    "%jsroot on\n",
    "gROOT->GetListOfCanvases()->Draw()"
   ]
  }
 ],
 "metadata": {
  "kernelspec": {
   "display_name": "ROOT C++",
   "language": "c++",
   "name": "root"
  },
  "language_info": {
   "codemirror_mode": "text/x-c++src",
   "file_extension": ".C",
   "mimetype": " text/x-c++src",
   "name": "c++"
  }
 },
 "nbformat": 4,
 "nbformat_minor": 2
}
