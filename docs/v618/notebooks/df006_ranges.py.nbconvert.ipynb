{
 "cells": [
  {
   "cell_type": "markdown",
   "metadata": {},
   "source": [
    "# Df 0 0 6_Ranges\n",
    "This tutorial shows how to express the concept of ranges when working with the RDataFrame.\n",
    "\n",
    "\n",
    "\n",
    "\n",
    "**Author:** Danilo Piparo  \n",
    "<i><small>This notebook tutorial was automatically generated with <a href= \"https://github.com/root-project/root/blob/master/documentation/doxygen/converttonotebook.py\">ROOTBOOK-izer</a> from the macro found in the ROOT repository  on Thursday, August 29, 2019 at 01:01 AM.</small></i>"
   ]
  },
  {
   "cell_type": "code",
   "execution_count": 1,
   "metadata": {
    "collapsed": false
   },
   "outputs": [
    {
     "name": "stdout",
     "output_type": "stream",
     "text": [
      "Welcome to JupyROOT 6.18/03\n"
     ]
    }
   ],
   "source": [
    "import ROOT\n",
    "\n",
    "def fill_tree(treeName, fileName):\n",
    "    tdf = ROOT.ROOT.RDataFrame(100)\n",
    "    tdf.Define(\"b1\", \"(int) tdfentry_\")\\\n",
    "       .Define(\"b2\", \"(float) tdfentry_ * tdfentry_\").Snapshot(treeName, fileName)"
   ]
  },
  {
   "cell_type": "markdown",
   "metadata": {},
   "source": [
    "We prepare an input tree to run on"
   ]
  },
  {
   "cell_type": "code",
   "execution_count": 2,
   "metadata": {
    "collapsed": false
   },
   "outputs": [],
   "source": [
    "fileName = \"df006_ranges_py.root\"\n",
    "treeName = \"myTree\"\n",
    "\n",
    "fill_tree(treeName, fileName)"
   ]
  },
  {
   "cell_type": "markdown",
   "metadata": {},
   "source": [
    "We read the tree from the file and create a RDataFrame."
   ]
  },
  {
   "cell_type": "code",
   "execution_count": 3,
   "metadata": {
    "collapsed": false
   },
   "outputs": [],
   "source": [
    "RDF = ROOT.ROOT.RDataFrame\n",
    "d = RDF(treeName, fileName)"
   ]
  },
  {
   "cell_type": "markdown",
   "metadata": {},
   "source": [
    "## Usage of ranges\n",
    "Now we'll count some entries using ranges"
   ]
  },
  {
   "cell_type": "code",
   "execution_count": 4,
   "metadata": {
    "collapsed": false
   },
   "outputs": [],
   "source": [
    "c_all = d.Count()"
   ]
  },
  {
   "cell_type": "markdown",
   "metadata": {},
   "source": [
    "This is how you can express a range of the first 30 entries"
   ]
  },
  {
   "cell_type": "code",
   "execution_count": 5,
   "metadata": {
    "collapsed": false
   },
   "outputs": [],
   "source": [
    "d_0_30 = d.Range(0, 30)\n",
    "c_0_30 = d_0_30.Count()"
   ]
  },
  {
   "cell_type": "markdown",
   "metadata": {},
   "source": [
    "This is how you pick all entries from 15 onwards"
   ]
  },
  {
   "cell_type": "code",
   "execution_count": 6,
   "metadata": {
    "collapsed": false
   },
   "outputs": [],
   "source": [
    "d_15_end = d.Range(15, 0)\n",
    "c_15_end = d_15_end.Count()"
   ]
  },
  {
   "cell_type": "markdown",
   "metadata": {},
   "source": [
    "We can use a stride too, in this case we pick an event every 3"
   ]
  },
  {
   "cell_type": "code",
   "execution_count": 7,
   "metadata": {
    "collapsed": false
   },
   "outputs": [],
   "source": [
    "d_15_end_3 = d.Range(15, 0, 3)\n",
    "c_15_end_3 = d_15_end_3.Count()"
   ]
  },
  {
   "cell_type": "markdown",
   "metadata": {},
   "source": [
    "The Range is a 1st class citizen in the RDataFrame graph:\n",
    "not only actions (like Count) but also filters and new columns can be added to it."
   ]
  },
  {
   "cell_type": "code",
   "execution_count": 8,
   "metadata": {
    "collapsed": false
   },
   "outputs": [],
   "source": [
    "d_0_50 = d.Range(0, 50)\n",
    "c_0_50_odd_b1 = d_0_50.Filter(\"1 == b1 % 2\").Count()"
   ]
  },
  {
   "cell_type": "markdown",
   "metadata": {},
   "source": [
    "An important thing to notice is that the counts of a filter are relative to the\n",
    "number of entries a filter \"sees\". Therefore, if a Range depends on a filter,\n",
    "the Range will act on the entries passing the filter only."
   ]
  },
  {
   "cell_type": "code",
   "execution_count": 9,
   "metadata": {
    "collapsed": false
   },
   "outputs": [],
   "source": [
    "c_0_3_after_even_b1 = d.Filter(\"0 == b1 % 2\").Range(0, 3).Count()"
   ]
  },
  {
   "cell_type": "markdown",
   "metadata": {},
   "source": [
    "Ok, time to wrap up: let's print all counts!"
   ]
  },
  {
   "cell_type": "code",
   "execution_count": 10,
   "metadata": {
    "collapsed": false
   },
   "outputs": [
    {
     "name": "stdout",
     "output_type": "stream",
     "text": [
      "Usage of ranges:\n",
      "(' - All entries:', 100L)\n",
      "(' - Entries from 0 to 30:', 30L)\n",
      "(' - Entries from 15 onwards:', 85L)\n",
      "(' - Entries from 15 onwards in steps of 3:', 28L)\n",
      "(' - Entries from 0 to 50, odd only:', 25L)\n",
      "(' - First three entries of all even entries:', 3L)\n"
     ]
    }
   ],
   "source": [
    "print(\"Usage of ranges:\")\n",
    "print(\" - All entries:\", c_all.GetValue())\n",
    "print(\" - Entries from 0 to 30:\", c_0_30.GetValue())\n",
    "print(\" - Entries from 15 onwards:\", c_15_end.GetValue())\n",
    "print(\" - Entries from 15 onwards in steps of 3:\", c_15_end_3.GetValue())\n",
    "print(\" - Entries from 0 to 50, odd only:\", c_0_50_odd_b1.GetValue())\n",
    "print(\" - First three entries of all even entries:\", c_0_3_after_even_b1.GetValue())"
   ]
  }
 ],
 "metadata": {
  "kernelspec": {
   "display_name": "Python 2",
   "language": "python",
   "name": "python2"
  },
  "language_info": {
   "codemirror_mode": {
    "name": "ipython",
    "version": 2
   },
   "file_extension": ".py",
   "mimetype": "text/x-python",
   "name": "python",
   "nbconvert_exporter": "python",
   "pygments_lexer": "ipython2",
   "version": "2.7.10"
  }
 },
 "nbformat": 4,
 "nbformat_minor": 2
}
