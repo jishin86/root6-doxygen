{
 "cells": [
  {
   "cell_type": "markdown",
   "metadata": {},
   "source": [
    "# Fit 1\n",
    "Simple fitting example (1-d histogram with an interpreted function)\n",
    "\n",
    "\n",
    "\n",
    "\n",
    "**Author:** Rene Brun  \n",
    "<i><small>This notebook tutorial was automatically generated with <a href= \"https://github.com/root-project/root/blob/master/documentation/doxygen/converttonotebook.py\">ROOTBOOK-izer</a> from the macro found in the ROOT repository  on Thursday, August 29, 2019 at 01:27 AM.</small></i>"
   ]
  },
  {
   "cell_type": "code",
   "execution_count": 1,
   "metadata": {
    "collapsed": false
   },
   "outputs": [],
   "source": [
    "%%cpp -d\n",
    "#include \"TCanvas.h\"\n",
    "#include \"TFrame.h\"\n",
    "#include \"TBenchmark.h\"\n",
    "#include \"TString.h\"\n",
    "#include \"TF1.h\"\n",
    "#include \"TH1.h\"\n",
    "#include \"TFile.h\"\n",
    "#include \"TROOT.h\"\n",
    "#include \"TError.h\"\n",
    "#include \"TInterpreter.h\"\n",
    "#include \"TSystem.h\"\n",
    "#include \"TPaveText.h\""
   ]
  },
  {
   "cell_type": "code",
   "execution_count": 2,
   "metadata": {
    "collapsed": false
   },
   "outputs": [],
   "source": [
    "TCanvas *c1 = new TCanvas(\"c1_fit1\",\"The Fit Canvas\",200,10,700,500);\n",
    "c1->SetGridx();\n",
    "c1->SetGridy();\n",
    "c1->GetFrame()->SetFillColor(21);\n",
    "c1->GetFrame()->SetBorderMode(-1);\n",
    "c1->GetFrame()->SetBorderSize(5);\n",
    "\n",
    "gBenchmark->Start(\"fit1\");"
   ]
  },
  {
   "cell_type": "markdown",
   "metadata": {},
   "source": [
    " We connect the ROOT file generated in a previous tutorial\n",
    " (see <a href=\"fillrandom.C.nbconvert.ipynb\">Filling histograms with random numbers from a function</a>) "
   ]
  },
  {
   "cell_type": "code",
   "execution_count": 3,
   "metadata": {
    "collapsed": false
   },
   "outputs": [
    {
     "name": "stderr",
     "output_type": "stream",
     "text": [
      "Error in <TFile::TFile>: file fillrandom.root does not exist\n"
     ]
    },
    {
     "name": "stdout",
     "output_type": "stream",
     "text": [
      "fillrandom: Real Time =   0.08 seconds Cpu Time =   0.07 seconds\n"
     ]
    }
   ],
   "source": [
    "TString dir = gROOT->GetTutorialDir();\n",
    "dir.Append(\"/fit/\");\n",
    "TFile *file = TFile::Open(\"fillrandom.root\");\n",
    "if (!file) {\n",
    "   gROOT->ProcessLine(Form(\".x %s../hist/fillrandom.C\",dir.Data()));\n",
    "   file = TFile::Open(\"fillrandom.root\");\n",
    "   if (!file) return;\n",
    "}"
   ]
  },
  {
   "cell_type": "markdown",
   "metadata": {},
   "source": [
    " The function \"ls()\" lists the directory contents of this file"
   ]
  },
  {
   "cell_type": "code",
   "execution_count": 4,
   "metadata": {
    "collapsed": false
   },
   "outputs": [
    {
     "name": "stdout",
     "output_type": "stream",
     "text": [
      "TFile**\t\tfillrandom.root\t\n",
      " TFile*\t\tfillrandom.root\t\n",
      "  KEY: TFormula\tform1;1\tabs(sin(x)/x)\n",
      "  KEY: TF1\tsqroot;1\tx*gaus(0) + [3]*form1\n",
      "  KEY: TH1F\th1f;1\tTest random numbers\n"
     ]
    }
   ],
   "source": [
    "file->ls();"
   ]
  },
  {
   "cell_type": "markdown",
   "metadata": {},
   "source": [
    " Get object \"sqroot\" from the file. Undefined objects are searched\n",
    " for using gROOT->FindObject(\"xxx\"), e.g.:\n",
    " TF1 *sqroot = (TF1*) gROOT.FindObject(\"sqroot\")"
   ]
  },
  {
   "cell_type": "code",
   "execution_count": 5,
   "metadata": {
    "collapsed": false
   },
   "outputs": [
    {
     "name": "stdout",
     "output_type": "stream",
     "text": [
      "Formula based function:     sqroot \n",
      "               sqroot : x*gaus(0) + [3]*form1 Ndim= 1, Npar= 4, Number= 0 \n",
      " Formula expression: \n",
      "\tx*[p0]*exp(-0.5*((x-[p1])/[p2])*((x-[p1])/[p2]))+[p3]*(abs(sin(x)/x)) \n"
     ]
    }
   ],
   "source": [
    "TF1 * sqroot = 0;\n",
    "file->GetObject(\"sqroot\",sqroot);\n",
    "if (!sqroot){\n",
    "   Error(\"fit1.C\",\"Cannot find object sqroot of type TF1\\n\");\n",
    "   return;\n",
    "}\n",
    "sqroot->Print();"
   ]
  },
  {
   "cell_type": "markdown",
   "metadata": {},
   "source": [
    " Now get and fit histogram h1f with the function sqroot"
   ]
  },
  {
   "cell_type": "code",
   "execution_count": 6,
   "metadata": {
    "collapsed": false
   },
   "outputs": [
    {
     "name": "stdout",
     "output_type": "stream",
     "text": [
      " FCN=198.935 FROM MIGRAD    STATUS=CONVERGED     148 CALLS         149 TOTAL\n",
      "                     EDM=2.98567e-07    STRATEGY= 1      ERROR MATRIX ACCURATE \n",
      "  EXT PARAMETER                                   STEP         FIRST   \n",
      "  NO.   NAME      VALUE            ERROR          SIZE      DERIVATIVE \n",
      "   1  p0           3.31658e+01   5.45703e-01   3.00376e-03  -1.11540e-03\n",
      "   2  p1           4.00667e+00   1.65304e-02   9.48491e-05  -3.06425e-02\n",
      "   3  p2           9.84663e-01   1.28238e-02   6.05976e-05  -3.04244e-02\n",
      "   4  p3           6.34464e+01   1.33233e+00   8.77483e-03  -3.96109e-04\n"
     ]
    }
   ],
   "source": [
    "TH1F* h1f = 0;\n",
    "file->GetObject(\"h1f\",h1f);\n",
    "if (!h1f){\n",
    "   Error(\"fit1.C\",\"Cannot find object h1f of type TH1F\\n\");\n",
    "   return;\n",
    "}\n",
    "h1f->SetFillColor(45);\n",
    "h1f->Fit(\"sqroot\");"
   ]
  },
  {
   "cell_type": "markdown",
   "metadata": {},
   "source": [
    "We now annotate the picture by creating a pavetext object\n",
    " and displaying the list of commands in this macro"
   ]
  },
  {
   "cell_type": "code",
   "execution_count": 7,
   "metadata": {
    "collapsed": false
   },
   "outputs": [
    {
     "name": "stdout",
     "output_type": "stream",
     "text": [
      "fit1      : Real Time =   1.05 seconds Cpu Time =   0.65 seconds\n"
     ]
    }
   ],
   "source": [
    "TPaveText * fitlabel = new TPaveText(0.6,0.4,0.9,0.75,\"NDC\");\n",
    "fitlabel->SetTextAlign(12);\n",
    "fitlabel->SetFillColor(42);\n",
    "fitlabel->ReadFile(Form(\"%sfit1_C.txt\",dir.Data()));\n",
    "fitlabel->Draw();\n",
    "c1->Update();\n",
    "gBenchmark->Show(\"fit1\");"
   ]
  },
  {
   "cell_type": "markdown",
   "metadata": {},
   "source": [
    "Draw all canvases "
   ]
  },
  {
   "cell_type": "code",
   "execution_count": 8,
   "metadata": {
    "collapsed": false
   },
   "outputs": [
    {
     "data": {
      "image/png": "[encoded data removed]",
      "text/plain": [
       "<IPython.core.display.Image object>"
      ]
     },
     "metadata": {},
     "output_type": "display_data"
    },
    {
     "data": {
      "image/png": "[encoded data removed]",
      "text/plain": [
       "<IPython.core.display.Image object>"
      ]
     },
     "metadata": {},
     "output_type": "display_data"
    }
   ],
   "source": [
    "gROOT->GetListOfCanvases()->Draw()"
   ]
  }
 ],
 "metadata": {
  "kernelspec": {
   "display_name": "ROOT C++",
   "language": "c++",
   "name": "root"
  },
  "language_info": {
   "codemirror_mode": "text/x-c++src",
   "file_extension": ".C",
   "mimetype": " text/x-c++src",
   "name": "c++"
  }
 },
 "nbformat": 4,
 "nbformat_minor": 2
}
