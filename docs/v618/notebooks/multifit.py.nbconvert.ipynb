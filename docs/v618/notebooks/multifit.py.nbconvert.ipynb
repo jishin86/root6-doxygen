{
 "cells": [
  {
   "cell_type": "markdown",
   "metadata": {},
   "source": [
    "# Multifit\n",
    "Example showing how to fit in a sub-range of an histogram\n",
    "An histogram is created and filled with the bin contents and errors\n",
    "defined in the table below.\n",
    "3 gaussians are fitted in sub-ranges of this histogram.\n",
    "A new function (a sum of 3 gaussians) is fitted on another subrange\n",
    "Note that when fitting simple functions, such as gaussians, the initial\n",
    "values of parameters are automatically computed by ROOT.\n",
    "In the more complicated case of the sum of 3 gaussians, the initial values\n",
    "of parameters must be given. In this particular case, the initial values\n",
    "are taken from the result of the individual fits.\n",
    "\n",
    "\n",
    "\n",
    "\n",
    "**Author:** Wim Lavrijsen  \n",
    "<i><small>This notebook tutorial was automatically generated with <a href= \"https://github.com/root-project/root/blob/master/documentation/doxygen/converttonotebook.py\">ROOTBOOK-izer</a> from the macro found in the ROOT repository  on Thursday, August 29, 2019 at 02:29 AM.</small></i>"
   ]
  },
  {
   "cell_type": "code",
   "execution_count": 1,
   "metadata": {
    "collapsed": false
   },
   "outputs": [
    {
     "name": "stdout",
     "output_type": "stream",
     "text": [
      "Welcome to JupyROOT 6.18/03\n"
     ]
    },
    {
     "data": {
      "text/plain": [
       "<ROOT.TFitResultPtr object at 0x5636a62e1d30>"
      ]
     },
     "execution_count": 1,
     "metadata": {},
     "output_type": "execute_result"
    }
   ],
   "source": [
    "from ROOT import TH1F, TF1\n",
    "from ROOT import gROOT\n",
    "from array import array\n",
    "\n",
    "x = ( 1.913521, 1.953769, 2.347435, 2.883654, 3.493567,\n",
    "      4.047560, 4.337210, 4.364347, 4.563004, 5.054247,\n",
    "      5.194183, 5.380521, 5.303213, 5.384578, 5.563983,\n",
    "      5.728500, 5.685752, 5.080029, 4.251809, 3.372246,\n",
    "      2.207432, 1.227541, 0.8597788,0.8220503,0.8046592,\n",
    "      0.7684097,0.7469761,0.8019787,0.8362375,0.8744895,\n",
    "      0.9143721,0.9462768,0.9285364,0.8954604,0.8410891,\n",
    "      0.7853871,0.7100883,0.6938808,0.7363682,0.7032954,\n",
    "      0.6029015,0.5600163,0.7477068,1.188785, 1.938228,\n",
    "      2.602717, 3.472962, 4.465014, 5.177035 )\n",
    "\n",
    "np = len(x)\n",
    "h = TH1F( 'h', 'Example of several fits in subranges', np, 85, 134 )\n",
    "h.SetMaximum( 7 )\n",
    "\n",
    "for i in range(np):\n",
    "   h.SetBinContent( i+1, x[i] )\n",
    "\n",
    "par = array( 'd', 9*[0.] )\n",
    "g1 = TF1( 'g1', 'gaus',  85,  95 )\n",
    "g2 = TF1( 'g2', 'gaus',  98, 108 )\n",
    "g3 = TF1( 'g3', 'gaus', 110, 121 )\n",
    "\n",
    "total = TF1( 'total', 'gaus(0)+gaus(3)+gaus(6)', 85, 125 )\n",
    "total.SetLineColor( 2 )\n",
    "h.Fit( g1, 'R' )\n",
    "h.Fit( g2, 'R+' )\n",
    "h.Fit( g3, 'R+' )\n",
    "\n",
    "par1 = g1.GetParameters()\n",
    "par2 = g2.GetParameters()\n",
    "par3 = g3.GetParameters()\n",
    "\n",
    "par[0], par[1], par[2] = par1[0], par1[1], par1[2]\n",
    "par[3], par[4], par[5] = par2[0], par2[1], par2[2]\n",
    "par[6], par[7], par[8] = par3[0], par3[1], par3[2]\n",
    "\n",
    "total.SetParameters( par )\n",
    "h.Fit( total, 'R+' )"
   ]
  },
  {
   "cell_type": "markdown",
   "metadata": {},
   "source": [
    "Draw all canvases "
   ]
  },
  {
   "cell_type": "code",
   "execution_count": 2,
   "metadata": {
    "collapsed": false
   },
   "outputs": [
    {
     "data": {
      "image/png": "[encoded data removed]",
      "text/plain": [
       "<IPython.core.display.Image object>"
      ]
     },
     "metadata": {},
     "output_type": "display_data"
    }
   ],
   "source": [
    "from ROOT import gROOT \n",
    "gROOT.GetListOfCanvases().Draw()"
   ]
  }
 ],
 "metadata": {
  "kernelspec": {
   "display_name": "Python 2",
   "language": "python",
   "name": "python2"
  },
  "language_info": {
   "codemirror_mode": {
    "name": "ipython",
    "version": 2
   },
   "file_extension": ".py",
   "mimetype": "text/x-python",
   "name": "python",
   "nbconvert_exporter": "python",
   "pygments_lexer": "ipython2",
   "version": "2.7.10"
  }
 },
 "nbformat": 4,
 "nbformat_minor": 2
}
