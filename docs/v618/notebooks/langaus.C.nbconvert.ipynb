{
 "cells": [
  {
   "cell_type": "markdown",
   "metadata": {},
   "source": [
    "# Langaus\n",
    "Convoluted Landau and Gaussian Fitting Function\n",
    "        (using ROOT's Landau and Gauss functions)\n",
    "\n",
    " Based on a Fortran code by R.Fruehwirth (fruhwirth@hephy.oeaw.ac.at)\n",
    "\n",
    " to execute this example, do:\n",
    "\n",
    "```cpp\n",
    " root > .x langaus.C\n",
    "```\n",
    "\n",
    "or\n",
    "\n",
    "```cpp\n",
    " root > .x langaus.C++\n",
    "```\n",
    "\n",
    "\n",
    "\n",
    "\n",
    "**Author:**  H.Pernegger, Markus Friedl  \n",
    "<i><small>This notebook tutorial was automatically generated with <a href= \"https://github.com/root-project/root/blob/master/documentation/doxygen/converttonotebook.py\">ROOTBOOK-izer</a> from the macro found in the ROOT repository  on Thursday, August 29, 2019 at 01:30 AM.</small></i>"
   ]
  },
  {
   "cell_type": "code",
   "execution_count": 1,
   "metadata": {
    "collapsed": false
   },
   "outputs": [],
   "source": [
    "%%cpp -d\n",
    "#include \"TH1.h\"\n",
    "#include \"TF1.h\"\n",
    "#include \"TROOT.h\"\n",
    "#include \"TStyle.h\"\n",
    "#include \"TMath.h\""
   ]
  },
  {
   "cell_type": "markdown",
   "metadata": {},
   "source": [
    " A helper function is created: "
   ]
  },
  {
   "cell_type": "code",
   "execution_count": 2,
   "metadata": {
    "collapsed": false
   },
   "outputs": [],
   "source": [
    "%%cpp -d\n",
    "Double_t langaufun(Double_t *x, Double_t *par) {\n",
    "\n",
    "   //Fit parameters:\n",
    "   //par[0]=Width (scale) parameter of Landau density\n",
    "   //par[1]=Most Probable (MP, location) parameter of Landau density\n",
    "   //par[2]=Total area (integral -inf to inf, normalization constant)\n",
    "   //par[3]=Width (sigma) of convoluted Gaussian function\n",
    "   //\n",
    "   //In the Landau distribution (represented by the CERNLIB approximation),\n",
    "   //the maximum is located at x=-0.22278298 with the location parameter=0.\n",
    "   //This shift is corrected within this function, so that the actual\n",
    "   //maximum is identical to the MP parameter.\n",
    "\n",
    "      // Numeric constants\n",
    "      Double_t invsq2pi = 0.3989422804014;   // (2 pi)^(-1/2)\n",
    "      Double_t mpshift  = -0.22278298;       // Landau maximum location\n",
    "\n",
    "      // Control constants\n",
    "      Double_t np = 100.0;      // number of convolution steps\n",
    "      Double_t sc =   5.0;      // convolution extends to +-sc Gaussian sigmas\n",
    "\n",
    "      // Variables\n",
    "      Double_t xx;\n",
    "      Double_t mpc;\n",
    "      Double_t fland;\n",
    "      Double_t sum = 0.0;\n",
    "      Double_t xlow,xupp;\n",
    "      Double_t step;\n",
    "      Double_t i;\n",
    "\n",
    "\n",
    "      // MP shift correction\n",
    "      mpc = par[1] - mpshift * par[0];\n",
    "\n",
    "      // Range of convolution integral\n",
    "      xlow = x[0] - sc * par[3];\n",
    "      xupp = x[0] + sc * par[3];\n",
    "\n",
    "      step = (xupp-xlow) / np;\n",
    "\n",
    "      // Convolution integral of Landau and Gaussian by sum\n",
    "      for(i=1.0; i<=np/2; i++) {\n",
    "         xx = xlow + (i-.5) * step;\n",
    "         fland = TMath::Landau(xx,mpc,par[0]) / par[0];\n",
    "         sum += fland * TMath::Gaus(x[0],xx,par[3]);\n",
    "\n",
    "         xx = xupp - (i-.5) * step;\n",
    "         fland = TMath::Landau(xx,mpc,par[0]) / par[0];\n",
    "         sum += fland * TMath::Gaus(x[0],xx,par[3]);\n",
    "      }\n",
    "\n",
    "      return (par[2] * step * sum * invsq2pi / par[3]);\n",
    "}"
   ]
  },
  {
   "cell_type": "markdown",
   "metadata": {},
   "source": [
    " A helper function is created: "
   ]
  },
  {
   "cell_type": "code",
   "execution_count": 3,
   "metadata": {
    "collapsed": false
   },
   "outputs": [],
   "source": [
    "%%cpp -d\n",
    "TF1 *langaufit(TH1F *his, Double_t *fitrange, Double_t *startvalues, Double_t *parlimitslo, Double_t *parlimitshi, Double_t *fitparams, Double_t *fiterrors, Double_t *ChiSqr, Int_t *NDF)\n",
    "{\n",
    "   // Once again, here are the Landau * Gaussian parameters:\n",
    "   //   par[0]=Width (scale) parameter of Landau density\n",
    "   //   par[1]=Most Probable (MP, location) parameter of Landau density\n",
    "   //   par[2]=Total area (integral -inf to inf, normalization constant)\n",
    "   //   par[3]=Width (sigma) of convoluted Gaussian function\n",
    "   //\n",
    "   // Variables for langaufit call:\n",
    "   //   his             histogram to fit\n",
    "   //   fitrange[2]     lo and hi boundaries of fit range\n",
    "   //   startvalues[4]  reasonable start values for the fit\n",
    "   //   parlimitslo[4]  lower parameter limits\n",
    "   //   parlimitshi[4]  upper parameter limits\n",
    "   //   fitparams[4]    returns the final fit parameters\n",
    "   //   fiterrors[4]    returns the final fit errors\n",
    "   //   ChiSqr          returns the chi square\n",
    "   //   NDF             returns ndf\n",
    "\n",
    "   Int_t i;\n",
    "   Char_t FunName[100];\n",
    "\n",
    "   sprintf(FunName,\"Fitfcn_%s\",his->GetName());\n",
    "\n",
    "   TF1 *ffitold = (TF1*)gROOT->GetListOfFunctions()->FindObject(FunName);\n",
    "   if (ffitold) delete ffitold;\n",
    "\n",
    "   TF1 *ffit = new TF1(FunName,langaufun,fitrange[0],fitrange[1],4);\n",
    "   ffit->SetParameters(startvalues);\n",
    "   ffit->SetParNames(\"Width\",\"MP\",\"Area\",\"GSigma\");\n",
    "\n",
    "   for (i=0; i<4; i++) {\n",
    "      ffit->SetParLimits(i, parlimitslo[i], parlimitshi[i]);\n",
    "   }\n",
    "\n",
    "   his->Fit(FunName,\"RB0\");   // fit within specified range, use ParLimits, do not plot\n",
    "\n",
    "   ffit->GetParameters(fitparams);    // obtain fit parameters\n",
    "   for (i=0; i<4; i++) {\n",
    "      fiterrors[i] = ffit->GetParError(i);     // obtain fit parameter errors\n",
    "   }\n",
    "   ChiSqr[0] = ffit->GetChisquare();  // obtain chi^2\n",
    "   NDF[0] = ffit->GetNDF();           // obtain ndf\n",
    "\n",
    "   return (ffit);              // return fit function\n",
    "\n",
    "}"
   ]
  },
  {
   "cell_type": "markdown",
   "metadata": {},
   "source": [
    " A helper function is created: "
   ]
  },
  {
   "cell_type": "code",
   "execution_count": 4,
   "metadata": {
    "collapsed": false
   },
   "outputs": [],
   "source": [
    "%%cpp -d\n",
    "Int_t langaupro(Double_t *params, Double_t &maxx, Double_t &FWHM) {\n",
    "\n",
    "   // Seaches for the location (x value) at the maximum of the\n",
    "   // Landau-Gaussian convolute and its full width at half-maximum.\n",
    "   //\n",
    "   // The search is probably not very efficient, but it's a first try.\n",
    "\n",
    "   Double_t p,x,fy,fxr,fxl;\n",
    "   Double_t step;\n",
    "   Double_t l,lold;\n",
    "   Int_t i = 0;\n",
    "   Int_t MAXCALLS = 10000;\n",
    "\n",
    "\n",
    "   // Search for maximum\n",
    "\n",
    "   p = params[1] - 0.1 * params[0];\n",
    "   step = 0.05 * params[0];\n",
    "   lold = -2.0;\n",
    "   l    = -1.0;\n",
    "\n",
    "\n",
    "   while ( (l != lold) && (i < MAXCALLS) ) {\n",
    "      i++;\n",
    "\n",
    "      lold = l;\n",
    "      x = p + step;\n",
    "      l = langaufun(&x,params);\n",
    "\n",
    "      if (l < lold)\n",
    "         step = -step/10;\n",
    "\n",
    "      p += step;\n",
    "   }\n",
    "\n",
    "   if (i == MAXCALLS)\n",
    "      return (-1);\n",
    "\n",
    "   maxx = x;\n",
    "\n",
    "   fy = l/2;\n",
    "\n",
    "\n",
    "   // Search for right x location of fy\n",
    "\n",
    "   p = maxx + params[0];\n",
    "   step = params[0];\n",
    "   lold = -2.0;\n",
    "   l    = -1e300;\n",
    "   i    = 0;\n",
    "\n",
    "\n",
    "   while ( (l != lold) && (i < MAXCALLS) ) {\n",
    "      i++;\n",
    "\n",
    "      lold = l;\n",
    "      x = p + step;\n",
    "      l = TMath::Abs(langaufun(&x,params) - fy);\n",
    "\n",
    "      if (l > lold)\n",
    "         step = -step/10;\n",
    "\n",
    "      p += step;\n",
    "   }\n",
    "\n",
    "   if (i == MAXCALLS)\n",
    "      return (-2);\n",
    "\n",
    "   fxr = x;\n",
    "\n",
    "\n",
    "   // Search for left x location of fy\n",
    "\n",
    "   p = maxx - 0.5 * params[0];\n",
    "   step = -params[0];\n",
    "   lold = -2.0;\n",
    "   l    = -1e300;\n",
    "   i    = 0;\n",
    "\n",
    "   while ( (l != lold) && (i < MAXCALLS) ) {\n",
    "      i++;\n",
    "\n",
    "      lold = l;\n",
    "      x = p + step;\n",
    "      l = TMath::Abs(langaufun(&x,params) - fy);\n",
    "\n",
    "      if (l > lold)\n",
    "         step = -step/10;\n",
    "\n",
    "      p += step;\n",
    "   }\n",
    "\n",
    "   if (i == MAXCALLS)\n",
    "      return (-3);\n",
    "\n",
    "\n",
    "   fxl = x;\n",
    "\n",
    "   FWHM = fxr - fxl;\n",
    "   return (0);\n",
    "}"
   ]
  },
  {
   "cell_type": "markdown",
   "metadata": {},
   "source": [
    "Fill histogram"
   ]
  },
  {
   "cell_type": "code",
   "execution_count": 5,
   "metadata": {
    "collapsed": false
   },
   "outputs": [],
   "source": [
    "Int_t data[100] = {0,0,0,0,0,0,2,6,11,18,18,55,90,141,255,323,454,563,681,\n",
    "                 737,821,796,832,720,637,558,519,460,357,291,279,241,212,\n",
    "                 153,164,139,106,95,91,76,80,80,59,58,51,30,49,23,35,28,23,\n",
    "                 22,27,27,24,20,16,17,14,20,12,12,13,10,17,7,6,12,6,12,4,\n",
    "                 9,9,10,3,4,5,2,4,1,5,5,1,7,1,6,3,3,3,4,5,4,4,2,2,7,2,4};\n",
    "TH1F *hSNR = new TH1F(\"snr\",\"Signal-to-noise\",400,0,400);\n",
    "\n",
    "for (Int_t i=0; i<100; i++) hSNR->Fill(i,data[i]);"
   ]
  },
  {
   "cell_type": "markdown",
   "metadata": {},
   "source": [
    "Fitting snr histo"
   ]
  },
  {
   "cell_type": "code",
   "execution_count": 6,
   "metadata": {
    "collapsed": false
   },
   "outputs": [
    {
     "name": "stdout",
     "output_type": "stream",
     "text": [
      "Fitting...\n"
     ]
    }
   ],
   "source": [
    "printf(\"Fitting...\\n\");"
   ]
  },
  {
   "cell_type": "markdown",
   "metadata": {},
   "source": [
    "Setting fit range and start values"
   ]
  },
  {
   "cell_type": "code",
   "execution_count": 7,
   "metadata": {
    "collapsed": false
   },
   "outputs": [
    {
     "name": "stdout",
     "output_type": "stream",
     "text": [
      " FCN=5.25252 FROM MIGRAD    STATUS=CONVERGED     193 CALLS         194 TOTAL\n",
      "                     EDM=3.227e-09    STRATEGY= 1      ERROR MATRIX ACCURATE \n",
      "  EXT PARAMETER                                   STEP         FIRST   \n",
      "  NO.   NAME      VALUE            ERROR          SIZE      DERIVATIVE \n",
      "   1  Width        1.25740e+00   3.04846e-01   1.37307e-04   1.57021e-04\n",
      "   2  MP           2.08890e+01   1.28244e+00   3.40886e-05   8.22843e-04\n",
      "   3  Area         1.15515e+04   2.42312e+03   1.66644e-05  -1.66635e-03\n",
      "   4  GSigma       4.06350e+00   7.58845e-01   2.30703e-04  -2.48397e-04\n",
      "Fitting done\n",
      "Plotting results...\n"
     ]
    }
   ],
   "source": [
    "Double_t fr[2];\n",
    "Double_t sv[4], pllo[4], plhi[4], fp[4], fpe[4];\n",
    "fr[0]=0.3*hSNR->GetMean();\n",
    "fr[1]=3.0*hSNR->GetMean();\n",
    "\n",
    "pllo[0]=0.5; pllo[1]=5.0; pllo[2]=1.0; pllo[3]=0.4;\n",
    "plhi[0]=5.0; plhi[1]=50.0; plhi[2]=1000000.0; plhi[3]=5.0;\n",
    "sv[0]=1.8; sv[1]=20.0; sv[2]=50000.0; sv[3]=3.0;\n",
    "\n",
    "Double_t chisqr;\n",
    "Int_t    ndf;\n",
    "TF1 *fitsnr = langaufit(hSNR,fr,sv,pllo,plhi,fp,fpe,&chisqr,&ndf);\n",
    "\n",
    "Double_t SNRPeak, SNRFWHM;\n",
    "langaupro(fp,SNRPeak,SNRFWHM);\n",
    "\n",
    "printf(\"Fitting done\\nPlotting results...\\n\");"
   ]
  },
  {
   "cell_type": "markdown",
   "metadata": {},
   "source": [
    "Global style settings"
   ]
  },
  {
   "cell_type": "code",
   "execution_count": 8,
   "metadata": {
    "collapsed": false
   },
   "outputs": [
    {
     "name": "stderr",
     "output_type": "stream",
     "text": [
      "Info in <TCanvas::MakeDefCanvas>:  created default TCanvas with name c1\n"
     ]
    }
   ],
   "source": [
    "gStyle->SetOptStat(1111);\n",
    "gStyle->SetOptFit(111);\n",
    "gStyle->SetLabelSize(0.03,\"x\");\n",
    "gStyle->SetLabelSize(0.03,\"y\");\n",
    "\n",
    "hSNR->GetXaxis()->SetRange(0,70);\n",
    "hSNR->Draw();\n",
    "fitsnr->Draw(\"lsame\");"
   ]
  },
  {
   "cell_type": "markdown",
   "metadata": {},
   "source": [
    "Draw all canvases "
   ]
  },
  {
   "cell_type": "code",
   "execution_count": 9,
   "metadata": {
    "collapsed": false
   },
   "outputs": [
    {
     "data": {
      "image/png": "[encoded data removed]",
      "text/plain": [
       "<IPython.core.display.Image object>"
      ]
     },
     "metadata": {},
     "output_type": "display_data"
    }
   ],
   "source": [
    "gROOT->GetListOfCanvases()->Draw()"
   ]
  }
 ],
 "metadata": {
  "kernelspec": {
   "display_name": "ROOT C++",
   "language": "c++",
   "name": "root"
  },
  "language_info": {
   "codemirror_mode": "text/x-c++src",
   "file_extension": ".C",
   "mimetype": " text/x-c++src",
   "name": "c++"
  }
 },
 "nbformat": 4,
 "nbformat_minor": 2
}
