{
 "cells": [
  {
   "cell_type": "markdown",
   "metadata": {},
   "source": [
    "# Vo 0 0 5_ Combinations\n",
    "In this tutorial we learn how combinations of RVecs can be build.\n",
    "\n",
    "\n",
    "\n",
    "\n",
    "**Author:** Stefan Wunsch  \n",
    "<i><small>This notebook tutorial was automatically generated with <a href= \"https://github.com/root-project/root/blob/master/documentation/doxygen/converttonotebook.py\">ROOTBOOK-izer</a> from the macro found in the ROOT repository  on Thursday, August 29, 2019 at 04:06 AM.</small></i>"
   ]
  },
  {
   "cell_type": "code",
   "execution_count": 1,
   "metadata": {
    "collapsed": false
   },
   "outputs": [],
   "source": [
    "using namespace ROOT::VecOps;"
   ]
  },
  {
   "cell_type": "markdown",
   "metadata": {},
   "source": [
    "The starting point are two collections and we want to calculate the result\n",
    " of combinations of the elements."
   ]
  },
  {
   "cell_type": "code",
   "execution_count": 2,
   "metadata": {
    "collapsed": false
   },
   "outputs": [],
   "source": [
    "RVec<double> v1{1., 2., 3.};\n",
    "RVec<double> v2{-4., -5.};"
   ]
  },
  {
   "cell_type": "markdown",
   "metadata": {},
   "source": [
    "To get the indices, which result in all combinations, you can call the\n",
    " following helper.\n",
    " Note that you can also pass the size of the vectors directly."
   ]
  },
  {
   "cell_type": "code",
   "execution_count": 3,
   "metadata": {
    "collapsed": false
   },
   "outputs": [],
   "source": [
    "auto idx = Combinations(v1, v2);"
   ]
  },
  {
   "cell_type": "markdown",
   "metadata": {},
   "source": [
    "Next, the respective elements can be taken via the computed indices."
   ]
  },
  {
   "cell_type": "code",
   "execution_count": 4,
   "metadata": {
    "collapsed": false
   },
   "outputs": [],
   "source": [
    "auto c1 = Take(v1, idx[0]);\n",
    "auto c2 = Take(v2, idx[1]);"
   ]
  },
  {
   "cell_type": "markdown",
   "metadata": {},
   "source": [
    "Finally, you can perform any set of operations conveniently."
   ]
  },
  {
   "cell_type": "code",
   "execution_count": 5,
   "metadata": {
    "collapsed": false
   },
   "outputs": [
    {
     "name": "stdout",
     "output_type": "stream",
     "text": [
      "Combinations of { 1, 2, 3 } and { -4, -5 }:\n",
      "1 * -4 = -4\n",
      "1 * -5 = -5\n",
      "2 * -4 = -8\n",
      "2 * -5 = -10\n",
      "3 * -4 = -12\n",
      "3 * -5 = -15\n",
      "\n"
     ]
    }
   ],
   "source": [
    "auto v3 = c1 * c2;\n",
    "\n",
    "std::cout << \"Combinations of \" << v1 << \" and \" << v2 << \":\" << std::endl;\n",
    "for(size_t i=0; i<v3.size(); i++) {\n",
    "    std::cout << c1[i] << \" * \" << c2[i] << \" = \" << v3[i] << std::endl;\n",
    "}\n",
    "std::cout << std::endl;"
   ]
  },
  {
   "cell_type": "markdown",
   "metadata": {},
   "source": [
    "However, if you want to compute operations on unique combinations of a\n",
    " single RVec, you can perform this as follows."
   ]
  },
  {
   "cell_type": "markdown",
   "metadata": {},
   "source": [
    "Get the indices of unique triples for the given vector."
   ]
  },
  {
   "cell_type": "code",
   "execution_count": 6,
   "metadata": {
    "collapsed": false
   },
   "outputs": [],
   "source": [
    "RVec<double> v4{1., 2., 3., 4.};\n",
    "auto idx2 = Combinations(v4, 3);"
   ]
  },
  {
   "cell_type": "markdown",
   "metadata": {},
   "source": [
    "Take the elements and compute any operation on the returned collections."
   ]
  },
  {
   "cell_type": "code",
   "execution_count": 7,
   "metadata": {
    "collapsed": false
   },
   "outputs": [
    {
     "name": "stdout",
     "output_type": "stream",
     "text": [
      "Unique triples of { 1, 2, 3, 4 }:\n",
      "1 * 2 * 3 = 6\n",
      "1 * 2 * 4 = 8\n",
      "1 * 3 * 4 = 12\n",
      "2 * 3 * 4 = 24\n",
      "\n"
     ]
    }
   ],
   "source": [
    "auto c3 = Take(v4, idx2[0]);\n",
    "auto c4 = Take(v4, idx2[1]);\n",
    "auto c5 = Take(v4, idx2[2]);\n",
    "\n",
    "auto v5 = c3 * c4 * c5;\n",
    "\n",
    "std::cout << \"Unique triples of \" << v4 << \":\" << std::endl;\n",
    "for(size_t i=0; i<v4.size(); i++) {\n",
    "    std::cout << c3[i] << \" * \" << c4[i] << \" * \" << c5[i] << \" = \" << v5[i] << std::endl;\n",
    "}\n",
    "std::cout << std::endl;"
   ]
  }
 ],
 "metadata": {
  "kernelspec": {
   "display_name": "ROOT C++",
   "language": "c++",
   "name": "root"
  },
  "language_info": {
   "codemirror_mode": "text/x-c++src",
   "file_extension": ".C",
   "mimetype": " text/x-c++src",
   "name": "c++"
  }
 },
 "nbformat": 4,
 "nbformat_minor": 2
}
