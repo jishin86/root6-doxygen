{
 "cells": [
  {
   "cell_type": "markdown",
   "metadata": {},
   "source": [
    "# Xyplot\n",
    "Example showing how to produce a plot with an orthogonal axis system\n",
    "centered at (0,0).\n",
    "\n",
    "\n",
    "\n",
    "\n",
    "**Author:** Olivier Couet  \n",
    "<i><small>This notebook tutorial was automatically generated with <a href= \"https://github.com/root-project/root/blob/master/documentation/doxygen/converttonotebook.py\">ROOTBOOK-izer</a> from the macro found in the ROOT repository  on Thursday, August 29, 2019 at 02:00 AM.</small></i>"
   ]
  },
  {
   "cell_type": "code",
   "execution_count": 1,
   "metadata": {
    "collapsed": false
   },
   "outputs": [],
   "source": [
    "TCanvas *c = new TCanvas(\"c\",\"XY plot\",200,10,700,500);"
   ]
  },
  {
   "cell_type": "markdown",
   "metadata": {},
   "source": [
    "Remove the frame"
   ]
  },
  {
   "cell_type": "code",
   "execution_count": 2,
   "metadata": {
    "collapsed": false
   },
   "outputs": [],
   "source": [
    "c->SetFillColor(kWhite);\n",
    "c->SetFrameLineColor(kWhite);\n",
    "c->SetFrameBorderMode(0);"
   ]
  },
  {
   "cell_type": "markdown",
   "metadata": {},
   "source": [
    "Define and draw a curve the frame"
   ]
  },
  {
   "cell_type": "code",
   "execution_count": 3,
   "metadata": {
    "collapsed": false
   },
   "outputs": [],
   "source": [
    "const Int_t n = 4;\n",
    "Double_t x[n] = {-1, -3, -9, 3};\n",
    "Double_t y[n] = {-1000,  900,  300, 300};\n",
    "TGraph* gr = new TGraph(n,x,y);\n",
    "gr->SetTitle(\"XY plot\");\n",
    "gr->SetMinimum(-1080);\n",
    "gr->SetMaximum(1080);\n",
    "gr->SetLineColor(kRed);\n",
    "gr->Draw(\"AC*\");"
   ]
  },
  {
   "cell_type": "markdown",
   "metadata": {},
   "source": [
    "Remove the frame's axis"
   ]
  },
  {
   "cell_type": "code",
   "execution_count": 4,
   "metadata": {
    "collapsed": false
   },
   "outputs": [],
   "source": [
    "gr->GetHistogram()->GetYaxis()->SetTickLength(0);\n",
    "gr->GetHistogram()->GetXaxis()->SetTickLength(0);\n",
    "gr->GetHistogram()->GetYaxis()->SetLabelSize(0);\n",
    "gr->GetHistogram()->GetXaxis()->SetLabelSize(0);\n",
    "gr->GetHistogram()->GetXaxis()->SetAxisColor(0);\n",
    "gr->GetHistogram()->GetYaxis()->SetAxisColor(0);\n",
    "\n",
    "gPad->Update();"
   ]
  },
  {
   "cell_type": "markdown",
   "metadata": {},
   "source": [
    "Draw orthogonal axis system centered at (0,0).\n",
    " Draw the Y axis. Note the 4th label is erased with SetLabelAttributes"
   ]
  },
  {
   "cell_type": "code",
   "execution_count": 5,
   "metadata": {
    "collapsed": false
   },
   "outputs": [],
   "source": [
    "TGaxis *yaxis = new TGaxis(0, gPad->GetUymin(),\n",
    "                           0, gPad->GetUymax(),\n",
    "                           gPad->GetUymin(),gPad->GetUymax(),6,\"+LN\");\n",
    "yaxis->ChangeLabel(4,-1,0.);\n",
    "yaxis->Draw();"
   ]
  },
  {
   "cell_type": "markdown",
   "metadata": {},
   "source": [
    "Draw the y-axis title."
   ]
  },
  {
   "cell_type": "code",
   "execution_count": 6,
   "metadata": {
    "collapsed": false
   },
   "outputs": [],
   "source": [
    "TLatex *ytitle = new TLatex(-0.5,gPad->GetUymax(),\"Y axis\");\n",
    "ytitle->Draw();\n",
    "ytitle->SetTextSize(0.03);\n",
    "ytitle->SetTextAngle(90.);\n",
    "ytitle->SetTextAlign(31);"
   ]
  },
  {
   "cell_type": "markdown",
   "metadata": {},
   "source": [
    "Draw the x axis"
   ]
  },
  {
   "cell_type": "code",
   "execution_count": 7,
   "metadata": {
    "collapsed": false
   },
   "outputs": [],
   "source": [
    "TGaxis *xaxis = new TGaxis(gPad->GetUxmin(), 0,\n",
    "                           gPad->GetUxmax(), 0,\n",
    "                           gPad->GetUxmin(),gPad->GetUxmax(),510,\"+L\");\n",
    "xaxis->Draw();"
   ]
  },
  {
   "cell_type": "markdown",
   "metadata": {},
   "source": [
    "Draw the x axis title."
   ]
  },
  {
   "cell_type": "code",
   "execution_count": 8,
   "metadata": {
    "collapsed": false
   },
   "outputs": [],
   "source": [
    "TLatex *xtitle = new TLatex(gPad->GetUxmax(),-200.,\"X axis\");\n",
    "xtitle->Draw();\n",
    "xtitle->SetTextAlign(31);\n",
    "xtitle->SetTextSize(0.03);"
   ]
  },
  {
   "cell_type": "markdown",
   "metadata": {},
   "source": [
    "Draw all canvases "
   ]
  },
  {
   "cell_type": "code",
   "execution_count": 9,
   "metadata": {
    "collapsed": false
   },
   "outputs": [
    {
     "data": {
      "image/png": "[encoded data removed]",
      "text/plain": [
       "<IPython.core.display.Image object>"
      ]
     },
     "metadata": {},
     "output_type": "display_data"
    }
   ],
   "source": [
    "gROOT->GetListOfCanvases()->Draw()"
   ]
  }
 ],
 "metadata": {
  "kernelspec": {
   "display_name": "ROOT C++",
   "language": "c++",
   "name": "root"
  },
  "language_info": {
   "codemirror_mode": "text/x-c++src",
   "file_extension": ".C",
   "mimetype": " text/x-c++src",
   "name": "c++"
  }
 },
 "nbformat": 4,
 "nbformat_minor": 2
}
