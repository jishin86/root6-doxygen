{
 "cells": [
  {
   "cell_type": "markdown",
   "metadata": {},
   "source": [
    "# Example Functor\n",
    "Tutorial illustrating how creating a TF1 class using functor or class member functions\n",
    "\n",
    "can be run with:\n",
    "\n",
    "```cpp\n",
    " root > .x exampleFunctor.C\n",
    " root > .x exampleFunctor.C+ with ACLIC\n",
    "```\n",
    "\n",
    "\n",
    "\n",
    "\n",
    "**Author:** Lorenzo Moneta  \n",
    "<i><small>This notebook tutorial was automatically generated with <a href= \"https://github.com/root-project/root/blob/master/documentation/doxygen/converttonotebook.py\">ROOTBOOK-izer</a> from the macro found in the ROOT repository  on Thursday, August 29, 2019 at 02:06 AM.</small></i>"
   ]
  },
  {
   "cell_type": "code",
   "execution_count": 1,
   "metadata": {
    "collapsed": false
   },
   "outputs": [],
   "source": [
    "%%cpp -d\n",
    "#include \"TF1.h\"\n",
    "#include \"TMath.h\"\n",
    "#include \"TLegend.h\""
   ]
  },
  {
   "cell_type": "markdown",
   "metadata": {},
   "source": [
    "Function object (functor)"
   ]
  },
  {
   "cell_type": "code",
   "execution_count": 2,
   "metadata": {
    "collapsed": false
   },
   "outputs": [],
   "source": [
    "struct MyDerivFunc {\n",
    "   MyDerivFunc(TF1 * f): fFunc(f) {}\n",
    "   double operator() (double *x, double * )  const {\n",
    "      return fFunc->Derivative(*x);\n",
    "   }\n",
    "   TF1 * fFunc;\n",
    "};"
   ]
  },
  {
   "cell_type": "markdown",
   "metadata": {},
   "source": [
    "Function class with a member function"
   ]
  },
  {
   "cell_type": "code",
   "execution_count": 3,
   "metadata": {
    "collapsed": false
   },
   "outputs": [],
   "source": [
    "struct MyIntegFunc {\n",
    "   MyIntegFunc(TF1 * f): fFunc(f) {}\n",
    "   double Integral (double *x, double * ) const {\n",
    "      double a = fFunc->GetXmin();\n",
    "      return fFunc->Integral(a, *x);\n",
    "   }\n",
    "   TF1 * fFunc;\n",
    "};"
   ]
  },
  {
   "cell_type": "markdown",
   "metadata": {},
   "source": [
    " A helper function is created: "
   ]
  },
  {
   "cell_type": "code",
   "execution_count": 4,
   "metadata": {
    "collapsed": false
   },
   "outputs": [],
   "source": [
    "%%cpp -d\n",
    "double MyFunc (double *x, double *p ) {\n",
    "   return TMath::Gaus(x[0],p[0],p[1] );\n",
    "}"
   ]
  },
  {
   "cell_type": "code",
   "execution_count": 5,
   "metadata": {
    "collapsed": false
   },
   "outputs": [],
   "source": [
    "double xmin = -10;  double xmax = 10;"
   ]
  },
  {
   "cell_type": "markdown",
   "metadata": {},
   "source": [
    "Create tf1 using a free c function"
   ]
  },
  {
   "cell_type": "code",
   "execution_count": 6,
   "metadata": {
    "collapsed": false
   },
   "outputs": [
    {
     "name": "stderr",
     "output_type": "stream",
     "text": [
      "Info in <TCanvas::MakeDefCanvas>:  created default TCanvas with name c1\n"
     ]
    }
   ],
   "source": [
    "TF1 * f1 = new TF1(\"f1\",MyFunc,xmin,xmax,2);\n",
    "f1->SetParameters(0.,1.);\n",
    "f1->SetMaximum(3);   f1->SetMinimum(-1);\n",
    "f1->Draw();"
   ]
  },
  {
   "cell_type": "markdown",
   "metadata": {},
   "source": [
    "Derivative function\n",
    " example to create TF1 using a functor"
   ]
  },
  {
   "cell_type": "markdown",
   "metadata": {},
   "source": [
    "In order to work with interpreter the function object must be created and lived all time for all time\n",
    " of the TF1. In compiled mode, the function object can be passed by value (recommended) and there\n",
    " is also no need to specify the type of the function class. Example is as follows:\n",
    "\n",
    " `TF1 * f2 = new TF1(\"f2\",MyDerivFunc(f1), xmin, xmax,0); // only for C++ compiled mode`"
   ]
  },
  {
   "cell_type": "code",
   "execution_count": 7,
   "metadata": {
    "collapsed": false
   },
   "outputs": [],
   "source": [
    "MyDerivFunc * deriv = new MyDerivFunc(f1);\n",
    "TF1 * f2 = new TF1(\"f2\",deriv, xmin, xmax, 0);\n",
    "\n",
    "f2->SetLineColor(kBlue);\n",
    "f2->Draw(\"same\");"
   ]
  },
  {
   "cell_type": "markdown",
   "metadata": {},
   "source": [
    "Integral function\n",
    " example to create a TF1 using a member function of a user class"
   ]
  },
  {
   "cell_type": "markdown",
   "metadata": {},
   "source": [
    "In order to work with interpreter the function object must be created and lived all time for all time\n",
    " of the TF1. In compiled mode there is no need to specify the type of the function class and the name\n",
    " of the member function\n",
    "\n",
    " `TF1 * f3 = new TF1(\"f3\",intg,&MyIntegFunc::Integral,xmin,xmax, 0); // only for C++ compiled mode`"
   ]
  },
  {
   "cell_type": "code",
   "execution_count": 8,
   "metadata": {
    "collapsed": false
   },
   "outputs": [],
   "source": [
    "MyIntegFunc * intg = new MyIntegFunc(f1);\n",
    "TF1 * f3 = new TF1(\"f3\",intg,&MyIntegFunc::Integral, xmin, xmax, 0);\n",
    "\n",
    "f3->SetLineColor(kRed);\n",
    "f3->Draw(\"same\");\n",
    "\n",
    "TLegend * l = new TLegend(0.78, 0.25, 0.97 ,0.45);\n",
    "l->AddEntry(f1, \"Func\");\n",
    "l->AddEntry(f2, \"Deriv.\");\n",
    "l->AddEntry(f3, \"Integral\");\n",
    "l->Draw();"
   ]
  },
  {
   "cell_type": "markdown",
   "metadata": {},
   "source": [
    "Draw all canvases "
   ]
  },
  {
   "cell_type": "code",
   "execution_count": 9,
   "metadata": {
    "collapsed": false
   },
   "outputs": [
    {
     "data": {
      "image/png": "[encoded data removed]",
      "text/plain": [
       "<IPython.core.display.Image object>"
      ]
     },
     "metadata": {},
     "output_type": "display_data"
    }
   ],
   "source": [
    "gROOT->GetListOfCanvases()->Draw()"
   ]
  }
 ],
 "metadata": {
  "kernelspec": {
   "display_name": "ROOT C++",
   "language": "c++",
   "name": "root"
  },
  "language_info": {
   "codemirror_mode": "text/x-c++src",
   "file_extension": ".C",
   "mimetype": " text/x-c++src",
   "name": "c++"
  }
 },
 "nbformat": 4,
 "nbformat_minor": 2
}
