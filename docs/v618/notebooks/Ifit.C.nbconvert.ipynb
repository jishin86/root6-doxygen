{
 "cells": [
  {
   "cell_type": "markdown",
   "metadata": {},
   "source": [
    "#  Ifit\n",
    "  Example of a program to fit non-equidistant data points\n",
    "\n",
    "  The fitting function fcn is a simple chisquare function\n",
    "  The data consists of 5 data points (arrays x,y,z) + the errors in errorsz\n",
    "  More details on the various functions or parameters for these functions\n",
    "  can be obtained in an interactive ROOT session with:\n",
    "\n",
    "```cpp\n",
    "   Root > TMinuit *minuit = new TMinuit(10);\n",
    "```\n",
    "\n",
    "```cpp\n",
    "   Root > minuit->mnhelp(\"*\")  to see the list of possible keywords\n",
    "   Root > minuit->mnhelp(\"SET\") explains most parameters\n",
    "```\n",
    "\n",
    "\n",
    "\n",
    "\n",
    "**Author:** Rene Brun  \n",
    "<i><small>This notebook tutorial was automatically generated with <a href= \"https://github.com/root-project/root/blob/master/documentation/doxygen/converttonotebook.py\">ROOTBOOK-izer</a> from the macro found in the ROOT repository  on Thursday, August 29, 2019 at 01:30 AM.</small></i>"
   ]
  },
  {
   "cell_type": "code",
   "execution_count": 1,
   "metadata": {
    "collapsed": false
   },
   "outputs": [],
   "source": [
    "%%cpp -d\n",
    "#include \"TMinuit.h\"\n",
    "\n",
    "Float_t z[5],x[5],y[5],errorz[5];"
   ]
  },
  {
   "cell_type": "markdown",
   "metadata": {},
   "source": [
    " ______________________________________________________________________________\n",
    " "
   ]
  },
  {
   "cell_type": "code",
   "execution_count": 2,
   "metadata": {
    "collapsed": false
   },
   "outputs": [],
   "source": [
    "%%cpp -d\n",
    "Double_t func(float x,float y,Double_t *par)\n",
    "{\n",
    " Double_t value=( (par[0]*par[0])/(x*x)-1)/ ( par[1]+par[2]*y-par[3]*y*y);\n",
    " return value;\n",
    "}"
   ]
  },
  {
   "cell_type": "markdown",
   "metadata": {},
   "source": [
    " ______________________________________________________________________________\n",
    " "
   ]
  },
  {
   "cell_type": "code",
   "execution_count": 3,
   "metadata": {
    "collapsed": false
   },
   "outputs": [],
   "source": [
    "%%cpp -d\n",
    "void fcn(Int_t &npar, Double_t *gin, Double_t &f, Double_t *par, Int_t iflag)\n",
    "{\n",
    "   const Int_t nbins = 5;\n",
    "   Int_t i;\n",
    "\n",
    "//calculate chisquare\n",
    "   Double_t chisq = 0;\n",
    "   Double_t delta;\n",
    "   for (i=0;i<nbins; i++) {\n",
    "     delta  = (z[i]-func(x[i],y[i],par))/errorz[i];\n",
    "     chisq += delta*delta;\n",
    "   }\n",
    "   f = chisq;\n",
    "}"
   ]
  },
  {
   "cell_type": "markdown",
   "metadata": {},
   "source": [
    "The z values"
   ]
  },
  {
   "cell_type": "code",
   "execution_count": 4,
   "metadata": {
    "collapsed": false
   },
   "outputs": [],
   "source": [
    "z[0]=1;\n",
    "z[1]=0.96;\n",
    "z[2]=0.89;\n",
    "z[3]=0.85;\n",
    "z[4]=0.78;"
   ]
  },
  {
   "cell_type": "markdown",
   "metadata": {},
   "source": [
    "The errors on z values"
   ]
  },
  {
   "cell_type": "code",
   "execution_count": 5,
   "metadata": {
    "collapsed": false
   },
   "outputs": [],
   "source": [
    "     Float_t error = 0.01;\n",
    "errorz[0]=error;\n",
    "errorz[1]=error;\n",
    "errorz[2]=error;\n",
    "errorz[3]=error;\n",
    "errorz[4]=error;"
   ]
  },
  {
   "cell_type": "markdown",
   "metadata": {},
   "source": [
    "The x values"
   ]
  },
  {
   "cell_type": "code",
   "execution_count": 6,
   "metadata": {
    "collapsed": false
   },
   "outputs": [],
   "source": [
    "x[0]=1.5751;\n",
    "x[1]=1.5825;\n",
    "x[2]=1.6069;\n",
    "x[3]=1.6339;\n",
    "x[4]=1.6706;"
   ]
  },
  {
   "cell_type": "markdown",
   "metadata": {},
   "source": [
    "The y values"
   ]
  },
  {
   "cell_type": "code",
   "execution_count": 7,
   "metadata": {
    "collapsed": false
   },
   "outputs": [
    {
     "name": "stdout",
     "output_type": "stream",
     "text": [
      " **********\n",
      " **    1 **SET ERR           1\n",
      " **********\n"
     ]
    }
   ],
   "source": [
    "y[0]=1.0642;\n",
    "y[1]=0.97685;\n",
    "y[2]=1.13168;\n",
    "y[3]=1.128654;\n",
    "y[4]=1.44016;\n",
    "\n",
    "TMinuit *gMinuit = new TMinuit(5);  //initialize TMinuit with a maximum of 5 params\n",
    "gMinuit->SetFCN(fcn);\n",
    "\n",
    "Double_t arglist[10];\n",
    "Int_t ierflg = 0;\n",
    "\n",
    "arglist[0] = 1;\n",
    "gMinuit->mnexcm(\"SET ERR\", arglist ,1,ierflg);"
   ]
  },
  {
   "cell_type": "markdown",
   "metadata": {},
   "source": [
    "Set starting values and step sizes for parameters"
   ]
  },
  {
   "cell_type": "code",
   "execution_count": 8,
   "metadata": {
    "collapsed": false
   },
   "outputs": [
    {
     "name": "stdout",
     "output_type": "stream",
     "text": [
      " PARAMETER DEFINITIONS:\n",
      "    NO.   NAME         VALUE      STEP SIZE      LIMITS\n",
      "     1 a1           3.00000e+00  1.00000e-01     no limits\n",
      "     2 a2           1.00000e+00  1.00000e-01     no limits\n",
      "     3 a3           1.00000e-01  1.00000e-02     no limits\n",
      "     4 a4           1.00000e-02  1.00000e-03     no limits\n"
     ]
    }
   ],
   "source": [
    "static Double_t vstart[4] = {3, 1 , 0.1 , 0.01};\n",
    "static Double_t step[4] = {0.1 , 0.1 , 0.01 , 0.001};\n",
    "gMinuit->mnparm(0, \"a1\", vstart[0], step[0], 0,0,ierflg);\n",
    "gMinuit->mnparm(1, \"a2\", vstart[1], step[1], 0,0,ierflg);\n",
    "gMinuit->mnparm(2, \"a3\", vstart[2], step[2], 0,0,ierflg);\n",
    "gMinuit->mnparm(3, \"a4\", vstart[3], step[3], 0,0,ierflg);"
   ]
  },
  {
   "cell_type": "markdown",
   "metadata": {},
   "source": [
    "Now ready for minimization step"
   ]
  },
  {
   "cell_type": "code",
   "execution_count": 9,
   "metadata": {
    "collapsed": false
   },
   "outputs": [
    {
     "name": "stdout",
     "output_type": "stream",
     "text": [
      " **********\n",
      " **    2 **MIGRAD         500           1\n",
      " **********\n",
      " FIRST CALL TO USER FUNCTION AT NEW START POINT, WITH IFLAG=4.\n",
      " START MIGRAD MINIMIZATION.  STRATEGY  1.  CONVERGENCE WHEN EDM .LT. 1.00e-03\n",
      " FCN=90047.1 FROM MIGRAD    STATUS=INITIATE       14 CALLS          15 TOTAL\n",
      "                     EDM= unknown      STRATEGY= 1      NO ERROR MATRIX       \n",
      "  EXT PARAMETER               CURRENT GUESS       STEP         FIRST   \n",
      "  NO.   NAME      VALUE            ERROR          SIZE      DERIVATIVE \n",
      "   1  a1           3.00000e+00   1.00000e-01   1.00000e-01   2.81614e+05\n",
      "   2  a2           1.00000e+00   1.00000e-01   1.00000e-01  -2.73395e+05\n",
      "   3  a3           1.00000e-01   1.00000e-02   1.00000e-02  -3.08505e+05\n",
      "   4  a4           1.00000e-02   1.00000e-03   1.00000e-03   3.53925e+05\n",
      " MIGRAD MINIMIZATION HAS CONVERGED.\n",
      " MIGRAD WILL VERIFY CONVERGENCE AND ERROR MATRIX.\n",
      " EIGENVALUES OF SECOND-DERIVATIVE MATRIX:\n",
      "        -6.7573e-05  7.2964e-05  4.1376e-02  3.9586e+00\n",
      " MINUIT WARNING IN HESSE   \n",
      " ============== MATRIX FORCED POS-DEF BY ADDING 0.004026 TO DIAGONAL.\n",
      " FCN=10.3986 FROM HESSE     STATUS=NOT POSDEF     23 CALLS         112 TOTAL\n",
      "                     EDM=0.11462    STRATEGY= 1      ERR MATRIX NOT POS-DEF\n",
      "  EXT PARAMETER                APPROXIMATE        STEP         FIRST   \n",
      "  NO.   NAME      VALUE            ERROR          SIZE      DERIVATIVE \n",
      "   1  a1           2.51776e+00   4.70562e-02   6.10330e-06   1.74962e+00\n",
      "   2  a2           1.39551e+00   8.92750e-02   1.31410e-05   6.70438e+00\n",
      "   3  a3           2.53639e-01   9.47120e-02   1.16109e-05   4.39325e+00\n",
      "   4  a4           6.07417e-02   4.27988e-02   9.90333e-06  -3.17219e+00\n",
      " MIGRAD MINIMIZATION HAS CONVERGED.\n",
      " MIGRAD WILL VERIFY CONVERGENCE AND ERROR MATRIX.\n",
      " COVARIANCE MATRIX CALCULATED SUCCESSFULLY\n",
      " FCN=5.83333 FROM MIGRAD    STATUS=CONVERGED     232 CALLS         233 TOTAL\n",
      "                     EDM=0.000805786    STRATEGY= 1      ERROR MATRIX ACCURATE \n",
      "  EXT PARAMETER                                   STEP         FIRST   \n",
      "  NO.   NAME      VALUE            ERROR          SIZE      DERIVATIVE \n",
      "   1  a1           2.15261e+00   1.03157e-01   3.03942e-06   4.51168e+00\n",
      "   2  a2           8.11244e-01   2.53808e-01   5.62214e-06  -2.40912e+00\n",
      "   3  a3           1.71311e-01   4.00479e-01   4.93858e-06  -2.98641e+00\n",
      "   4  a4           1.01582e-01   1.60309e-01   4.18094e-06   3.54102e+00\n",
      " EXTERNAL ERROR MATRIX.    NDIM=  25    NPAR=  4    ERR DEF=1\n",
      "  1.064e-02  1.057e-02  1.068e-02  2.336e-03 \n",
      "  1.057e-02  6.442e-02 -7.900e-02 -3.414e-02 \n",
      "  1.068e-02 -7.900e-02  1.604e-01  6.356e-02 \n",
      "  2.336e-03 -3.414e-02  6.356e-02  2.570e-02 \n",
      " PARAMETER  CORRELATION COEFFICIENTS  \n",
      "       NO.  GLOBAL      1      2      3      4\n",
      "        1  0.99974   1.000  0.404  0.259  0.141\n",
      "        2  0.99985   0.404  1.000 -0.777 -0.839\n",
      "        3  0.99995   0.259 -0.777  1.000  0.990\n",
      "        4  0.99980   0.141 -0.839  0.990  1.000\n"
     ]
    }
   ],
   "source": [
    "arglist[0] = 500;\n",
    "arglist[1] = 1.;\n",
    "gMinuit->mnexcm(\"MIGRAD\", arglist ,2,ierflg);"
   ]
  },
  {
   "cell_type": "markdown",
   "metadata": {},
   "source": [
    "Print results"
   ]
  },
  {
   "cell_type": "code",
   "execution_count": 10,
   "metadata": {
    "collapsed": false
   },
   "outputs": [],
   "source": [
    "Double_t amin,edm,errdef;\n",
    "Int_t nvpar,nparx,icstat;\n",
    "gMinuit->mnstat(amin,edm,errdef,nvpar,nparx,icstat);"
   ]
  },
  {
   "cell_type": "markdown",
   "metadata": {},
   "source": [
    "Gminuit->mnprin(3,amin);"
   ]
  }
 ],
 "metadata": {
  "kernelspec": {
   "display_name": "ROOT C++",
   "language": "c++",
   "name": "root"
  },
  "language_info": {
   "codemirror_mode": "text/x-c++src",
   "file_extension": ".C",
   "mimetype": " text/x-c++src",
   "name": "c++"
  }
 },
 "nbformat": 4,
 "nbformat_minor": 2
}
