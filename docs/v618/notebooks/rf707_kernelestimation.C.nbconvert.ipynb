{
 "cells": [
  {
   "cell_type": "markdown",
   "metadata": {},
   "source": [
    "# Rf 7 0 7_Kernelestimation\n",
    "Speecial p.d.f.'s: using non-parametric (multi-dimensional) kernel estimation p.d.f.s\n",
    "\n",
    "\n",
    "\n",
    "**Author:** 07/2008 - Wouter Verkerke  \n",
    "<i><small>This notebook tutorial was automatically generated with <a href= \"https://github.com/root-project/root/blob/master/documentation/doxygen/converttonotebook.py\">ROOTBOOK-izer</a> from the macro found in the ROOT repository  on Thursday, August 29, 2019 at 03:03 AM.</small></i>"
   ]
  },
  {
   "cell_type": "code",
   "execution_count": 1,
   "metadata": {
    "collapsed": false
   },
   "outputs": [],
   "source": [
    "%%cpp -d\n",
    "#include \"RooRealVar.h\"\n",
    "#include \"RooDataSet.h\"\n",
    "#include \"RooGaussian.h\"\n",
    "#include \"RooConstVar.h\"\n",
    "#include \"RooPolynomial.h\"\n",
    "#include \"RooKeysPdf.h\"\n",
    "#include \"RooNDKeysPdf.h\"\n",
    "#include \"RooProdPdf.h\"\n",
    "#include \"TCanvas.h\"\n",
    "#include \"TAxis.h\"\n",
    "#include \"TH1.h\"\n",
    "#include \"RooPlot.h\""
   ]
  },
  {
   "cell_type": "code",
   "execution_count": 2,
   "metadata": {
    "collapsed": false
   },
   "outputs": [],
   "source": [
    "%%cpp -d\n",
    "// This is a workaround to make sure the namespace is used inside functions\n",
    "using namespace RooFit;"
   ]
  },
  {
   "cell_type": "markdown",
   "metadata": {},
   "source": [
    "Create low stats 1-d dataset\n",
    " -------------------------------------------------------"
   ]
  },
  {
   "cell_type": "markdown",
   "metadata": {},
   "source": [
    "Create a toy pdf for sampling"
   ]
  },
  {
   "cell_type": "code",
   "execution_count": 3,
   "metadata": {
    "collapsed": false
   },
   "outputs": [
    {
     "name": "stdout",
     "output_type": "stream",
     "text": [
      "\n",
      "\u001b[1mRooFit v3.60 -- Developed by Wouter Verkerke and David Kirkby\u001b[0m \n",
      "                Copyright (C) 2000-2013 NIKHEF, University of California & Stanford University\n",
      "                All rights reserved, please read http://roofit.sourceforge.net/license.txt\n",
      "\n"
     ]
    }
   ],
   "source": [
    "RooRealVar x(\"x\", \"x\", 0, 20);\n",
    "RooPolynomial p(\"p\", \"p\", x, RooArgList(RooConst(0.01), RooConst(-0.01), RooConst(0.0004)));"
   ]
  },
  {
   "cell_type": "markdown",
   "metadata": {},
   "source": [
    "Sample 500 events from p"
   ]
  },
  {
   "cell_type": "code",
   "execution_count": 4,
   "metadata": {
    "collapsed": false
   },
   "outputs": [],
   "source": [
    "RooDataSet *data1 = p.generate(x, 200);"
   ]
  },
  {
   "cell_type": "markdown",
   "metadata": {},
   "source": [
    "Create 1-d kernel estimation pdf\n",
    " ---------------------------------------------------------------"
   ]
  },
  {
   "cell_type": "markdown",
   "metadata": {},
   "source": [
    "Create adaptive kernel estimation pdf. in this configuration the input data\n",
    " is mirrored over the boundaries to minimize edge effects in distribution\n",
    " that do not fall to zero towards the edges"
   ]
  },
  {
   "cell_type": "code",
   "execution_count": 5,
   "metadata": {
    "collapsed": false
   },
   "outputs": [],
   "source": [
    "RooKeysPdf kest1(\"kest1\", \"kest1\", x, *data1, RooKeysPdf::MirrorBoth);"
   ]
  },
  {
   "cell_type": "markdown",
   "metadata": {},
   "source": [
    "An adaptive kernel estimation pdf on the same data without mirroring option\n",
    " for comparison"
   ]
  },
  {
   "cell_type": "code",
   "execution_count": 6,
   "metadata": {
    "collapsed": false
   },
   "outputs": [],
   "source": [
    "RooKeysPdf kest2(\"kest2\", \"kest2\", x, *data1, RooKeysPdf::NoMirror);"
   ]
  },
  {
   "cell_type": "markdown",
   "metadata": {},
   "source": [
    "Adaptive kernel estimation pdf with increased bandwidth scale factor\n",
    " (promotes smoothness over detail preservation)"
   ]
  },
  {
   "cell_type": "code",
   "execution_count": 7,
   "metadata": {
    "collapsed": false
   },
   "outputs": [],
   "source": [
    "RooKeysPdf kest3(\"kest1\", \"kest1\", x, *data1, RooKeysPdf::MirrorBoth, 2);"
   ]
  },
  {
   "cell_type": "markdown",
   "metadata": {},
   "source": [
    "Plot kernel estimation pdfs with and without mirroring over data"
   ]
  },
  {
   "cell_type": "code",
   "execution_count": 8,
   "metadata": {
    "collapsed": false
   },
   "outputs": [],
   "source": [
    "RooPlot *frame = x.frame(Title(\"Adaptive kernel estimation pdf with and w/o mirroring\"), Bins(20));\n",
    "data1->plotOn(frame);\n",
    "kest1.plotOn(frame);\n",
    "kest2.plotOn(frame, LineStyle(kDashed), LineColor(kRed));"
   ]
  },
  {
   "cell_type": "markdown",
   "metadata": {},
   "source": [
    "Plot kernel estimation pdfs with regular and increased bandwidth"
   ]
  },
  {
   "cell_type": "code",
   "execution_count": 9,
   "metadata": {
    "collapsed": false
   },
   "outputs": [],
   "source": [
    "RooPlot *frame2 = x.frame(Title(\"Adaptive kernel estimation pdf with regular, increased bandwidth\"));\n",
    "kest1.plotOn(frame2);\n",
    "kest3.plotOn(frame2, LineColor(kMagenta));"
   ]
  },
  {
   "cell_type": "markdown",
   "metadata": {},
   "source": [
    "Create low stats 2-d dataset\n",
    " -------------------------------------------------------"
   ]
  },
  {
   "cell_type": "markdown",
   "metadata": {},
   "source": [
    "Construct a 2d toy pdf for sampling"
   ]
  },
  {
   "cell_type": "code",
   "execution_count": 10,
   "metadata": {
    "collapsed": false
   },
   "outputs": [],
   "source": [
    "RooRealVar y(\"y\", \"y\", 0, 20);\n",
    "RooPolynomial py(\"py\", \"py\", y, RooArgList(RooConst(0.01), RooConst(0.01), RooConst(-0.0004)));\n",
    "RooProdPdf pxy(\"pxy\", \"pxy\", RooArgSet(p, py));\n",
    "RooDataSet *data2 = pxy.generate(RooArgSet(x, y), 1000);"
   ]
  },
  {
   "cell_type": "markdown",
   "metadata": {},
   "source": [
    "Create 2-d kernel estimation pdf\n",
    " ---------------------------------------------------------------"
   ]
  },
  {
   "cell_type": "markdown",
   "metadata": {},
   "source": [
    "Create 2d adaptive kernel estimation pdf with mirroring"
   ]
  },
  {
   "cell_type": "code",
   "execution_count": 11,
   "metadata": {
    "collapsed": false
   },
   "outputs": [],
   "source": [
    "RooNDKeysPdf kest4(\"kest4\", \"kest4\", RooArgSet(x, y), *data2, \"am\");"
   ]
  },
  {
   "cell_type": "markdown",
   "metadata": {},
   "source": [
    "Create 2d adaptive kernel estimation pdf with mirroring and double bandwidth"
   ]
  },
  {
   "cell_type": "code",
   "execution_count": 12,
   "metadata": {
    "collapsed": false
   },
   "outputs": [],
   "source": [
    "RooNDKeysPdf kest5(\"kest5\", \"kest5\", RooArgSet(x, y), *data2, \"am\", 2);"
   ]
  },
  {
   "cell_type": "markdown",
   "metadata": {},
   "source": [
    "Create a histogram of the data"
   ]
  },
  {
   "cell_type": "code",
   "execution_count": 13,
   "metadata": {
    "collapsed": false
   },
   "outputs": [],
   "source": [
    "TH1 *hh_data = data2->createHistogram(\"hh_data\", x, Binning(10), YVar(y, Binning(10)));"
   ]
  },
  {
   "cell_type": "markdown",
   "metadata": {},
   "source": [
    "Create histogram of the 2d kernel estimation pdfs"
   ]
  },
  {
   "cell_type": "code",
   "execution_count": 14,
   "metadata": {
    "collapsed": false
   },
   "outputs": [],
   "source": [
    "TH1 *hh_pdf = kest4.createHistogram(\"hh_pdf\", x, Binning(25), YVar(y, Binning(25)));\n",
    "TH1 *hh_pdf2 = kest5.createHistogram(\"hh_pdf2\", x, Binning(25), YVar(y, Binning(25)));\n",
    "hh_pdf->SetLineColor(kBlue);\n",
    "hh_pdf2->SetLineColor(kMagenta);\n",
    "\n",
    "TCanvas *c = new TCanvas(\"rf707_kernelestimation\", \"rf707_kernelestimation\", 800, 800);\n",
    "c->Divide(2, 2);\n",
    "c->cd(1);\n",
    "gPad->SetLeftMargin(0.15);\n",
    "frame->GetYaxis()->SetTitleOffset(1.4);\n",
    "frame->Draw();\n",
    "c->cd(2);\n",
    "gPad->SetLeftMargin(0.15);\n",
    "frame2->GetYaxis()->SetTitleOffset(1.8);\n",
    "frame2->Draw();\n",
    "c->cd(3);\n",
    "gPad->SetLeftMargin(0.15);\n",
    "hh_data->GetZaxis()->SetTitleOffset(1.4);\n",
    "hh_data->Draw(\"lego\");\n",
    "c->cd(4);\n",
    "gPad->SetLeftMargin(0.20);\n",
    "hh_pdf->GetZaxis()->SetTitleOffset(2.4);\n",
    "hh_pdf->Draw(\"surf\");\n",
    "hh_pdf2->Draw(\"surfsame\");"
   ]
  },
  {
   "cell_type": "markdown",
   "metadata": {},
   "source": [
    "Draw all canvases "
   ]
  },
  {
   "cell_type": "code",
   "execution_count": 15,
   "metadata": {
    "collapsed": false
   },
   "outputs": [
    {
     "data": {
      "image/png": "[encoded data removed]",
      "text/plain": [
       "<IPython.core.display.Image object>"
      ]
     },
     "metadata": {},
     "output_type": "display_data"
    }
   ],
   "source": [
    "gROOT->GetListOfCanvases()->Draw()"
   ]
  }
 ],
 "metadata": {
  "kernelspec": {
   "display_name": "ROOT C++",
   "language": "c++",
   "name": "root"
  },
  "language_info": {
   "codemirror_mode": "text/x-c++src",
   "file_extension": ".C",
   "mimetype": " text/x-c++src",
   "name": "c++"
  }
 },
 "nbformat": 4,
 "nbformat_minor": 2
}
