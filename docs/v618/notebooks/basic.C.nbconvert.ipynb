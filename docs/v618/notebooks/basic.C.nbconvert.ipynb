{
 "cells": [
  {
   "cell_type": "markdown",
   "metadata": {},
   "source": [
    "# Basic\n",
    " Read data from an ascii file and create a root file with an histogram and an ntuple.\n",
    " See a variant of this macro in basic2.C.\n",
    "\n",
    "\n",
    "\n",
    "\n",
    "**Author:** Rene Brun  \n",
    "<i><small>This notebook tutorial was automatically generated with <a href= \"https://github.com/root-project/root/blob/master/documentation/doxygen/converttonotebook.py\">ROOTBOOK-izer</a> from the macro found in the ROOT repository  on Thursday, August 29, 2019 at 03:52 AM.</small></i>"
   ]
  },
  {
   "cell_type": "code",
   "execution_count": 1,
   "metadata": {
    "collapsed": false
   },
   "outputs": [],
   "source": [
    "%%cpp -d\n",
    "#include \"Riostream.h\""
   ]
  },
  {
   "cell_type": "markdown",
   "metadata": {},
   "source": [
    "Read file $rootsys/tutorials/tree/basic.dat\n",
    " this file has 3 columns of float data"
   ]
  },
  {
   "cell_type": "code",
   "execution_count": 2,
   "metadata": {
    "collapsed": false
   },
   "outputs": [
    {
     "name": "stdout",
     "output_type": "stream",
     "text": [
      "x=-1.102279, y=-1.799389, z=4.452822\n",
      "x=1.867178, y=-0.596622, z=3.842313\n",
      "x=-0.524181, y=1.868521, z=3.766139\n",
      "x=-0.380611, y=0.969128, z=1.084074\n",
      "x=0.552454, y=-0.212309, z=0.350281\n",
      " found 1000 points\n"
     ]
    }
   ],
   "source": [
    "TString dir = gROOT->GetTutorialDir();\n",
    "dir.Append(\"/tree/\");\n",
    "dir.ReplaceAll(\"/./\",\"/\");\n",
    "ifstream in;\n",
    "in.open(Form(\"%sbasic.dat\",dir.Data()));\n",
    "\n",
    "Float_t x,y,z;\n",
    "Int_t nlines = 0;\n",
    "auto f = TFile::Open(\"basic.root\",\"RECREATE\");\n",
    "TH1F h1(\"h1\",\"x distribution\",100,-4,4);\n",
    "TNtuple ntuple(\"ntuple\",\"data from ascii file\",\"x:y:z\");\n",
    "\n",
    "while (1) {\n",
    "   in >> x >> y >> z;\n",
    "   if (!in.good()) break;\n",
    "   if (nlines < 5) printf(\"x=%8f, y=%8f, z=%8f\\n\",x,y,z);\n",
    "   h1.Fill(x);\n",
    "   ntuple.Fill(x,y,z);\n",
    "   nlines++;\n",
    "}\n",
    "printf(\" found %d points\\n\",nlines);\n",
    "\n",
    "in.close();\n",
    "\n",
    "f->Write();"
   ]
  }
 ],
 "metadata": {
  "kernelspec": {
   "display_name": "ROOT C++",
   "language": "c++",
   "name": "root"
  },
  "language_info": {
   "codemirror_mode": "text/x-c++src",
   "file_extension": ".C",
   "mimetype": " text/x-c++src",
   "name": "c++"
  }
 },
 "nbformat": 4,
 "nbformat_minor": 2
}
