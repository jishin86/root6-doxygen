{
 "cells": [
  {
   "cell_type": "markdown",
   "metadata": {},
   "source": [
    "# Principal\n",
    "Principal Components Analysis (PCA) example\n",
    "\n",
    "Example of using TPrincipal as a stand alone class.\n",
    "\n",
    "I create n-dimensional data points, where c = trunc(n / 5) + 1\n",
    "are  correlated with the rest n - c randomly distributed variables.\n",
    "\n",
    "Based on principal.C by Rene Brun and Christian Holm Christensen\n",
    "\n",
    "\n",
    "\n",
    "\n",
    "**Author:**  Juan Fernando Jaramillo Botero  \n",
    "<i><small>This notebook tutorial was automatically generated with <a href= \"https://github.com/root-project/root/blob/master/documentation/doxygen/converttonotebook.py\">ROOTBOOK-izer</a> from the macro found in the ROOT repository  on Thursday, August 29, 2019 at 02:12 AM.</small></i>"
   ]
  },
  {
   "cell_type": "code",
   "execution_count": 1,
   "metadata": {
    "collapsed": false
   },
   "outputs": [
    {
     "name": "stdout",
     "output_type": "stream",
     "text": [
      "Welcome to JupyROOT 6.18/03\n",
      "*************************************************\n",
      "*         Principal Component Analysis          *\n",
      "*                                               *\n",
      "*  Number of variables:             10          *\n",
      "*  Number of data points:            10000      *\n",
      "*  Number of dependent variables:    3          *\n",
      "*                                               *\n",
      "*************************************************\n"
     ]
    }
   ],
   "source": [
    "from ROOT import TPrincipal, gRandom, TBrowser, vector\n",
    "\n",
    "\n",
    "n = 10\n",
    "m = 10000\n",
    "\n",
    "c = int(n / 5) + 1\n",
    "\n",
    "print (\"\"\"*************************************************\n",
    "*         Principal Component Analysis          *\n",
    "*                                               *\n",
    "*  Number of variables:           {0:4d}          *\n",
    "*  Number of data points:         {1:8d}      *\n",
    "*  Number of dependent variables: {2:4d}          *\n",
    "*                                               *\n",
    "*************************************************\"\"\".format(n, m, c))"
   ]
  },
  {
   "cell_type": "markdown",
   "metadata": {},
   "source": [
    "Initilase the TPrincipal object. Use the empty string for the\n",
    "final argument, if you don't wan't the covariance\n",
    "matrix. Normalising the covariance matrix is a good idea if your\n",
    "variables have different orders of magnitude."
   ]
  },
  {
   "cell_type": "code",
   "execution_count": 2,
   "metadata": {
    "collapsed": false
   },
   "outputs": [],
   "source": [
    "principal = TPrincipal(n, \"ND\")"
   ]
  },
  {
   "cell_type": "markdown",
   "metadata": {},
   "source": [
    "Use a pseudo-random number generator"
   ]
  },
  {
   "cell_type": "code",
   "execution_count": 3,
   "metadata": {
    "collapsed": false
   },
   "outputs": [],
   "source": [
    "randumNum = gRandom"
   ]
  },
  {
   "cell_type": "markdown",
   "metadata": {},
   "source": [
    "Make the m data-points\n",
    "Make a variable to hold our data\n",
    "Allocate memory for the data point"
   ]
  },
  {
   "cell_type": "code",
   "execution_count": 4,
   "metadata": {
    "collapsed": false
   },
   "outputs": [],
   "source": [
    "data = vector('double')()\n",
    "for i in range(m):\n",
    "    # First we create the un-correlated, random variables, according\n",
    "    # to one of three distributions\n",
    "    for j in range(n - c):\n",
    "        if j % 3 == 0:\n",
    "            data.push_back(randumNum.Gaus(5, 1))\n",
    "        elif j % 3 == 1:\n",
    "            data.push_back(randumNum.Poisson(8))\n",
    "        else:\n",
    "            data.push_back(randumNum.Exp(2))\n",
    "\n",
    "    # Then we create the correlated variables\n",
    "    for j in range(c):\n",
    "        data.push_back(0)\n",
    "        for k in range(n - c - j):\n",
    "            data[n - c + j] += data[k]\n",
    "\n",
    "    # Finally we're ready to add this datapoint to the PCA\n",
    "    principal.AddRow(data.data())\n",
    "    data.clear()"
   ]
  },
  {
   "cell_type": "markdown",
   "metadata": {},
   "source": [
    "Do the actual analysis"
   ]
  },
  {
   "cell_type": "code",
   "execution_count": 5,
   "metadata": {
    "collapsed": false
   },
   "outputs": [],
   "source": [
    "principal.MakePrincipals()"
   ]
  },
  {
   "cell_type": "markdown",
   "metadata": {},
   "source": [
    "Print out the result on"
   ]
  },
  {
   "cell_type": "code",
   "execution_count": 6,
   "metadata": {
    "collapsed": false
   },
   "outputs": [
    {
     "name": "stdout",
     "output_type": "stream",
     "text": [
      " Variable #  | Mean Value |   Sigma    | Eigenvalue\n",
      "-------------+------------+------------+------------\n",
      "           0 |      4.994 |     0.9926 |     0.3856 \n",
      "           1 |      8.011 |      2.824 |      0.112 \n",
      "           2 |      2.017 |      1.992 |     0.1031 \n",
      "           3 |      4.998 |     0.9952 |     0.1022 \n",
      "           4 |      8.019 |      2.794 |    0.09998 \n",
      "           5 |      1.976 |      2.009 |     0.0992 \n",
      "           6 |      4.996 |     0.9996 |    0.09794 \n",
      "           7 |      35.01 |      5.147 |  1.391e-16 \n",
      "           8 |      30.01 |      5.041 |  2.707e-16 \n",
      "           9 |      28.04 |      4.644 |  5.388e-16 \n",
      "\n"
     ]
    }
   ],
   "source": [
    "principal.Print()"
   ]
  },
  {
   "cell_type": "markdown",
   "metadata": {},
   "source": [
    "Test the PCA"
   ]
  },
  {
   "cell_type": "code",
   "execution_count": 7,
   "metadata": {
    "collapsed": false
   },
   "outputs": [
    {
     "name": "stderr",
     "output_type": "stream",
     "text": [
      "Info in <TCanvas::MakeDefCanvas>:  created default TCanvas with name c1\n"
     ]
    }
   ],
   "source": [
    "principal.Test()"
   ]
  },
  {
   "cell_type": "markdown",
   "metadata": {},
   "source": [
    "Make some histograms of the orginal, principal, residue, etc data"
   ]
  },
  {
   "cell_type": "code",
   "execution_count": 8,
   "metadata": {
    "collapsed": false
   },
   "outputs": [],
   "source": [
    "principal.MakeHistograms()"
   ]
  },
  {
   "cell_type": "markdown",
   "metadata": {},
   "source": [
    "Make two functions to map between feature and pattern space\n",
    "Start a browser, so that we may browse the histograms generated\n",
    "above"
   ]
  },
  {
   "cell_type": "code",
   "execution_count": 9,
   "metadata": {
    "collapsed": false
   },
   "outputs": [
    {
     "name": "stdout",
     "output_type": "stream",
     "text": [
      "Writing on file \"pca.C\" ... done\n"
     ]
    }
   ],
   "source": [
    "principal.MakeCode()\n",
    "b = TBrowser(\"principalBrowser\", principal)"
   ]
  },
  {
   "cell_type": "markdown",
   "metadata": {},
   "source": [
    "Draw all canvases "
   ]
  },
  {
   "cell_type": "code",
   "execution_count": 10,
   "metadata": {
    "collapsed": false
   },
   "outputs": [
    {
     "data": {
      "image/png": "[encoded data removed]",
      "text/plain": [
       "<IPython.core.display.Image object>"
      ]
     },
     "metadata": {},
     "output_type": "display_data"
    }
   ],
   "source": [
    "from ROOT import gROOT \n",
    "gROOT.GetListOfCanvases().Draw()"
   ]
  }
 ],
 "metadata": {
  "kernelspec": {
   "display_name": "Python 2",
   "language": "python",
   "name": "python2"
  },
  "language_info": {
   "codemirror_mode": {
    "name": "ipython",
    "version": 2
   },
   "file_extension": ".py",
   "mimetype": "text/x-python",
   "name": "python",
   "nbconvert_exporter": "python",
   "pygments_lexer": "ipython2",
   "version": "2.7.10"
  }
 },
 "nbformat": 4,
 "nbformat_minor": 2
}
