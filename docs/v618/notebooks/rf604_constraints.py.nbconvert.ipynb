{
 "cells": [
  {
   "cell_type": "markdown",
   "metadata": {},
   "source": [
    "# Rf 6 0 4_Constraints\n",
    "\n",
    "Likelihood and minimization: fitting with constraints\n",
    "\n",
    "\n",
    "\n",
    "\n",
    "**Author:** Clemens Lange, Wouter Verkerke (C++ version)  \n",
    "<i><small>This notebook tutorial was automatically generated with <a href= \"https://github.com/root-project/root/blob/master/documentation/doxygen/converttonotebook.py\">ROOTBOOK-izer</a> from the macro found in the ROOT repository  on Thursday, August 29, 2019 at 02:58 AM.</small></i>"
   ]
  },
  {
   "cell_type": "code",
   "execution_count": 1,
   "metadata": {
    "collapsed": false
   },
   "outputs": [
    {
     "name": "stdout",
     "output_type": "stream",
     "text": [
      "Welcome to JupyROOT 6.18/03\n"
     ]
    }
   ],
   "source": [
    "from __future__ import print_function\n",
    "import ROOT"
   ]
  },
  {
   "cell_type": "markdown",
   "metadata": {},
   "source": [
    "Create model and dataset\n",
    "----------------------------------------------"
   ]
  },
  {
   "cell_type": "markdown",
   "metadata": {},
   "source": [
    "Construct a Gaussian p.d.f"
   ]
  },
  {
   "cell_type": "code",
   "execution_count": 2,
   "metadata": {
    "collapsed": false
   },
   "outputs": [
    {
     "name": "stdout",
     "output_type": "stream",
     "text": [
      "\n",
      "\u001b[1mRooFit v3.60 -- Developed by Wouter Verkerke and David Kirkby\u001b[0m \n",
      "                Copyright (C) 2000-2013 NIKHEF, University of California & Stanford University\n",
      "                All rights reserved, please read http://roofit.sourceforge.net/license.txt\n",
      "\n"
     ]
    }
   ],
   "source": [
    "x = ROOT.RooRealVar(\"x\", \"x\", -10, 10)\n",
    "\n",
    "m = ROOT.RooRealVar(\"m\", \"m\", 0, -10, 10)\n",
    "s = ROOT.RooRealVar(\"s\", \"s\", 2, 0.1, 10)\n",
    "gauss = ROOT.RooGaussian(\"gauss\", \"gauss(x,m,s)\", x, m, s)"
   ]
  },
  {
   "cell_type": "markdown",
   "metadata": {},
   "source": [
    "Construct a flat p.d.f (polynomial of 0th order)"
   ]
  },
  {
   "cell_type": "code",
   "execution_count": 3,
   "metadata": {
    "collapsed": false
   },
   "outputs": [],
   "source": [
    "poly = ROOT.RooPolynomial(\"poly\", \"poly(x)\", x)"
   ]
  },
  {
   "cell_type": "markdown",
   "metadata": {},
   "source": [
    "model = f*gauss + (1-f)*poly"
   ]
  },
  {
   "cell_type": "code",
   "execution_count": 4,
   "metadata": {
    "collapsed": false
   },
   "outputs": [],
   "source": [
    "f = ROOT.RooRealVar(\"f\", \"f\", 0.5, 0., 1.)\n",
    "model = ROOT.RooAddPdf(\n",
    "    \"model\",\n",
    "    \"model\",\n",
    "    ROOT.RooArgList(\n",
    "        gauss,\n",
    "        poly),\n",
    "    ROOT.RooArgList(f))"
   ]
  },
  {
   "cell_type": "markdown",
   "metadata": {},
   "source": [
    "Generate small dataset for use in fitting below"
   ]
  },
  {
   "cell_type": "code",
   "execution_count": 5,
   "metadata": {
    "collapsed": false
   },
   "outputs": [],
   "source": [
    "d = model.generate(ROOT.RooArgSet(x), 50)"
   ]
  },
  {
   "cell_type": "markdown",
   "metadata": {},
   "source": [
    "Create constraint pdf\n",
    "-----------------------------------------"
   ]
  },
  {
   "cell_type": "markdown",
   "metadata": {},
   "source": [
    "Construct Gaussian constraint p.d.f on parameter f at 0.8 with\n",
    "resolution of 0.1"
   ]
  },
  {
   "cell_type": "code",
   "execution_count": 6,
   "metadata": {
    "collapsed": false
   },
   "outputs": [],
   "source": [
    "fconstraint = ROOT.RooGaussian(\n",
    "    \"fconstraint\",\n",
    "    \"fconstraint\",\n",
    "    f,\n",
    "    ROOT.RooFit.RooConst(0.8),\n",
    "    ROOT.RooFit.RooConst(0.1))"
   ]
  },
  {
   "cell_type": "markdown",
   "metadata": {},
   "source": [
    "Method 1 - add internal constraint to model\n",
    "-------------------------------------------------------------------------------------"
   ]
  },
  {
   "cell_type": "markdown",
   "metadata": {},
   "source": [
    "Multiply constraint term with regular p.d.f using ROOT.RooProdPdf\n",
    "Specify in fitTo() that internal constraints on parameter f should be\n",
    "used"
   ]
  },
  {
   "cell_type": "markdown",
   "metadata": {},
   "source": [
    "Multiply constraint with p.d.f"
   ]
  },
  {
   "cell_type": "code",
   "execution_count": 7,
   "metadata": {
    "collapsed": false
   },
   "outputs": [],
   "source": [
    "modelc = ROOT.RooProdPdf(\n",
    "    \"modelc\", \"model with constraint\", ROOT.RooArgList(model, fconstraint))"
   ]
  },
  {
   "cell_type": "markdown",
   "metadata": {},
   "source": [
    "Fit model (without use of constraint term)"
   ]
  },
  {
   "cell_type": "code",
   "execution_count": 8,
   "metadata": {
    "collapsed": false
   },
   "outputs": [
    {
     "name": "stdout",
     "output_type": "stream",
     "text": [
      "[#1] INFO:Minization -- RooMinimizer::optimizeConst: activating const optimization\n",
      "[#1] INFO:Minization --  The following expressions have been identified as constant and will be precalculated and cached: (poly)\n",
      "[#1] INFO:Minization --  The following expressions will be evaluated in cache-and-track mode: (gauss)\n",
      " **********\n",
      " **    1 **SET PRINT           1\n",
      " **********\n",
      " **********\n",
      " **    2 **SET NOGRAD\n",
      " **********\n",
      " PARAMETER DEFINITIONS:\n",
      "    NO.   NAME         VALUE      STEP SIZE      LIMITS\n",
      "     1 f            5.00000e-01  1.00000e-01    0.00000e+00  1.00000e+00\n",
      "     2 m            0.00000e+00  2.00000e+00   -1.00000e+01  1.00000e+01\n",
      "     3 s            2.00000e+00  9.50000e-01    1.00000e-01  1.00000e+01\n",
      " **********\n",
      " **    3 **SET ERR         0.5\n",
      " **********\n",
      " **********\n",
      " **    4 **SET PRINT           1\n",
      " **********\n",
      " **********\n",
      " **    5 **SET STR           1\n",
      " **********\n",
      " NOW USING STRATEGY  1: TRY TO BALANCE SPEED AGAINST RELIABILITY\n",
      " **********\n",
      " **    6 **MIGRAD        1500           1\n",
      " **********\n",
      " FIRST CALL TO USER FUNCTION AT NEW START POINT, WITH IFLAG=4.\n",
      " START MIGRAD MINIMIZATION.  STRATEGY  1.  CONVERGENCE WHEN EDM .LT. 1.00e-03\n",
      " FCN=136.523 FROM MIGRAD    STATUS=INITIATE       10 CALLS          11 TOTAL\n",
      "                     EDM= unknown      STRATEGY= 1      NO ERROR MATRIX       \n",
      "  EXT PARAMETER               CURRENT GUESS       STEP         FIRST   \n",
      "  NO.   NAME      VALUE            ERROR          SIZE      DERIVATIVE \n",
      "   1  f            5.00000e-01   1.00000e-01   2.01358e-01  -3.71768e+00\n",
      "   2  m            0.00000e+00   2.00000e+00   2.01358e-01  -2.53753e+01\n",
      "   3  s            2.00000e+00   9.50000e-01   2.51381e-01  -1.22085e+00\n",
      "                               ERR DEF= 0.5\n",
      " MIGRAD MINIMIZATION HAS CONVERGED.\n",
      " MIGRAD WILL VERIFY CONVERGENCE AND ERROR MATRIX.\n",
      " COVARIANCE MATRIX CALCULATED SUCCESSFULLY\n",
      " FCN=134.849 FROM MIGRAD    STATUS=CONVERGED      50 CALLS          51 TOTAL\n",
      "                     EDM=4.23315e-05    STRATEGY= 1      ERROR MATRIX ACCURATE \n",
      "  EXT PARAMETER                                   STEP         FIRST   \n",
      "  NO.   NAME      VALUE            ERROR          SIZE      DERIVATIVE \n",
      "   1  f            6.49867e-01   1.21447e-01   1.78337e-03  -1.77163e-02\n",
      "   2  m            7.18243e-01   4.96576e-01   3.89020e-04   8.83234e-02\n",
      "   3  s            2.18801e+00   4.61197e-01   7.70631e-04   3.46910e-03\n",
      "                               ERR DEF= 0.5\n",
      " EXTERNAL ERROR MATRIX.    NDIM=  25    NPAR=  3    ERR DEF=0.5\n",
      "  1.508e-02 -6.689e-03  2.798e-02 \n",
      " -6.689e-03  2.468e-01 -3.900e-02 \n",
      "  2.798e-02 -3.900e-02  2.136e-01 \n",
      " PARAMETER  CORRELATION COEFFICIENTS  \n",
      "       NO.  GLOBAL      1      2      3\n",
      "        1  0.49373   1.000 -0.110  0.493\n",
      "        2  0.17244  -0.110  1.000 -0.170\n",
      "        3  0.50660   0.493 -0.170  1.000\n",
      " **********\n",
      " **    7 **SET ERR         0.5\n",
      " **********\n",
      " **********\n",
      " **    8 **SET PRINT           1\n",
      " **********\n",
      " **********\n",
      " **    9 **HESSE        1500\n",
      " **********\n",
      " COVARIANCE MATRIX CALCULATED SUCCESSFULLY\n",
      " FCN=134.849 FROM HESSE     STATUS=OK             16 CALLS          67 TOTAL\n",
      "                     EDM=4.23315e-05    STRATEGY= 1      ERROR MATRIX ACCURATE \n",
      "  EXT PARAMETER                                INTERNAL      INTERNAL  \n",
      "  NO.   NAME      VALUE            ERROR       STEP SIZE       VALUE   \n",
      "   1  f            6.49867e-01   1.21452e-01   3.56674e-04   3.04414e-01\n",
      "   2  m            7.18243e-01   4.96642e-01   7.78041e-05   7.18862e-02\n",
      "   3  s            2.18801e+00   4.61289e-01   1.54126e-04  -6.16495e-01\n",
      "                               ERR DEF= 0.5\n",
      " EXTERNAL ERROR MATRIX.    NDIM=  25    NPAR=  3    ERR DEF=0.5\n",
      "  1.508e-02 -6.686e-03  2.800e-02 \n",
      " -6.686e-03  2.469e-01 -3.921e-02 \n",
      "  2.800e-02 -3.921e-02  2.137e-01 \n",
      " PARAMETER  CORRELATION COEFFICIENTS  \n",
      "       NO.  GLOBAL      1      2      3\n",
      "        1  0.49379   1.000 -0.110  0.493\n",
      "        2  0.17319  -0.110  1.000 -0.171\n",
      "        3  0.50690   0.493 -0.171  1.000\n",
      "[#1] INFO:Minization -- RooMinimizer::optimizeConst: deactivating const optimization\n"
     ]
    }
   ],
   "source": [
    "r1 = model.fitTo(d, ROOT.RooFit.Save())"
   ]
  },
  {
   "cell_type": "markdown",
   "metadata": {},
   "source": [
    "Fit modelc with constraint term on parameter f"
   ]
  },
  {
   "cell_type": "code",
   "execution_count": 9,
   "metadata": {
    "collapsed": false
   },
   "outputs": [
    {
     "name": "stdout",
     "output_type": "stream",
     "text": [
      "[#1] INFO:Minization --  Including the following contraint terms in minimization: (fconstraint)\n",
      "[#1] INFO:Fitting -- RooAddition::defaultErrorLevel(nll_modelc_modelData_with_constr) Summation contains a RooNLLVar, using its error level\n",
      "[#1] INFO:Minization -- RooMinimizer::optimizeConst: activating const optimization\n",
      "[#1] INFO:Minization --  The following expressions have been identified as constant and will be precalculated and cached: (poly)\n",
      "[#1] INFO:Minization --  The following expressions will be evaluated in cache-and-track mode: (gauss)\n",
      " **********\n",
      " **   10 **SET PRINT           1\n",
      " **********\n",
      " **********\n",
      " **   11 **SET NOGRAD\n",
      " **********\n",
      " PARAMETER DEFINITIONS:\n",
      "    NO.   NAME         VALUE      STEP SIZE      LIMITS\n",
      "     1 f            6.49867e-01  1.21452e-01    0.00000e+00  1.00000e+00\n",
      "     2 m            7.18243e-01  4.96642e-01   -1.00000e+01  1.00000e+01\n",
      "     3 s            2.18801e+00  4.61289e-01    1.00000e-01  1.00000e+01\n",
      " **********\n",
      " **   12 **SET ERR         0.5\n",
      " **********\n",
      " **********\n",
      " **   13 **SET PRINT           1\n",
      " **********\n",
      " **********\n",
      " **   14 **SET STR           1\n",
      " **********\n",
      " NOW USING STRATEGY  1: TRY TO BALANCE SPEED AGAINST RELIABILITY\n",
      " **********\n",
      " **   15 **MIGRAD        1500           1\n",
      " **********\n",
      " FIRST CALL TO USER FUNCTION AT NEW START POINT, WITH IFLAG=4.\n",
      " START MIGRAD MINIMIZATION.  STRATEGY  1.  CONVERGENCE WHEN EDM .LT. 1.00e-03\n",
      " FCN=134.57 FROM MIGRAD    STATUS=INITIATE       10 CALLS          11 TOTAL\n",
      "                     EDM= unknown      STRATEGY= 1      NO ERROR MATRIX       \n",
      "  EXT PARAMETER               CURRENT GUESS       STEP         FIRST   \n",
      "  NO.   NAME      VALUE            ERROR          SIZE      DERIVATIVE \n",
      "   1  f            6.49867e-01   1.21452e-01   2.58356e-01  -7.17922e+00\n",
      "   2  m            7.18243e-01   4.96642e-01   4.98137e-02   8.83296e-02\n",
      "   3  s            2.18801e+00   4.61289e-01   1.14852e-01   3.40490e-03\n",
      "                               ERR DEF= 0.5\n",
      " MIGRAD MINIMIZATION HAS CONVERGED.\n",
      " MIGRAD WILL VERIFY CONVERGENCE AND ERROR MATRIX.\n",
      " COVARIANCE MATRIX CALCULATED SUCCESSFULLY\n",
      " FCN=133.901 FROM MIGRAD    STATUS=CONVERGED      49 CALLS          50 TOTAL\n",
      "                     EDM=1.19281e-05    STRATEGY= 1      ERROR MATRIX ACCURATE \n",
      "  EXT PARAMETER                                   STEP         FIRST   \n",
      "  NO.   NAME      VALUE            ERROR          SIZE      DERIVATIVE \n",
      "   1  f            7.37845e-01   7.53250e-02   1.23810e-03  -1.57311e-02\n",
      "   2  m            6.63502e-01   5.03905e-01   3.96948e-04   3.86989e-02\n",
      "   3  s            2.38847e+00   4.94425e-01   8.49681e-04   1.29931e-03\n",
      "                               ERR DEF= 0.5\n",
      " EXTERNAL ERROR MATRIX.    NDIM=  25    NPAR=  3    ERR DEF=0.5\n",
      "  5.730e-03 -4.407e-03  1.626e-02 \n",
      " -4.407e-03  2.541e-01 -4.564e-02 \n",
      "  1.626e-02 -4.564e-02  2.456e-01 \n",
      " PARAMETER  CORRELATION COEFFICIENTS  \n",
      "       NO.  GLOBAL      1      2      3\n",
      "        1  0.43507   1.000 -0.115  0.434\n",
      "        2  0.18708  -0.115  1.000 -0.183\n",
      "        3  0.45360   0.434 -0.183  1.000\n",
      " **********\n",
      " **   16 **SET ERR         0.5\n",
      " **********\n",
      " **********\n",
      " **   17 **SET PRINT           1\n",
      " **********\n",
      " **********\n",
      " **   18 **HESSE        1500\n",
      " **********\n",
      " COVARIANCE MATRIX CALCULATED SUCCESSFULLY\n",
      " FCN=133.901 FROM HESSE     STATUS=OK             16 CALLS          66 TOTAL\n",
      "                     EDM=1.19334e-05    STRATEGY= 1      ERROR MATRIX ACCURATE \n",
      "  EXT PARAMETER                                INTERNAL      INTERNAL  \n",
      "  NO.   NAME      VALUE            ERROR       STEP SIZE       VALUE   \n",
      "   1  f            7.37845e-01   7.53286e-02   2.47620e-04   4.95747e-01\n",
      "   2  m            6.63502e-01   5.04046e-01   7.93895e-05   6.63990e-02\n",
      "   3  s            2.38847e+00   4.94571e-01   1.69936e-04  -5.67687e-01\n",
      "                               ERR DEF= 0.5\n",
      " EXTERNAL ERROR MATRIX.    NDIM=  25    NPAR=  3    ERR DEF=0.5\n",
      "  5.731e-03 -4.424e-03  1.627e-02 \n",
      " -4.424e-03  2.543e-01 -4.605e-02 \n",
      "  1.627e-02 -4.605e-02  2.458e-01 \n",
      " PARAMETER  CORRELATION COEFFICIENTS  \n",
      "       NO.  GLOBAL      1      2      3\n",
      "        1  0.43517   1.000 -0.116  0.434\n",
      "        2  0.18852  -0.116  1.000 -0.184\n",
      "        3  0.45412   0.434 -0.184  1.000\n",
      "[#1] INFO:Minization -- RooMinimizer::optimizeConst: deactivating const optimization\n"
     ]
    }
   ],
   "source": [
    "r2 = modelc.fitTo(\n",
    "    d,\n",
    "    ROOT.RooFit.Constrain(\n",
    "        ROOT.RooArgSet(f)),\n",
    "    ROOT.RooFit.Save())"
   ]
  },
  {
   "cell_type": "markdown",
   "metadata": {},
   "source": [
    "Method 2 - specify external constraint when fitting\n",
    "------------------------------------------------------------------------------------------"
   ]
  },
  {
   "cell_type": "markdown",
   "metadata": {},
   "source": [
    "Construct another Gaussian constraint p.d.f on parameter f at 0.8 with\n",
    "resolution of 0.1"
   ]
  },
  {
   "cell_type": "code",
   "execution_count": 10,
   "metadata": {
    "collapsed": false
   },
   "outputs": [],
   "source": [
    "fconstext = ROOT.RooGaussian(\"fconstext\", \"fconstext\", f, ROOT.RooFit.RooConst(\n",
    "    0.2), ROOT.RooFit.RooConst(0.1))"
   ]
  },
  {
   "cell_type": "markdown",
   "metadata": {},
   "source": [
    "Fit with external constraint"
   ]
  },
  {
   "cell_type": "code",
   "execution_count": 11,
   "metadata": {
    "collapsed": false
   },
   "outputs": [
    {
     "name": "stdout",
     "output_type": "stream",
     "text": [
      "[#1] INFO:Minization --  Including the following contraint terms in minimization: (fconstext)\n",
      "[#1] INFO:Fitting -- RooAddition::defaultErrorLevel(nll_model_modelData_with_constr) Summation contains a RooNLLVar, using its error level\n",
      "[#1] INFO:Minization -- RooMinimizer::optimizeConst: activating const optimization\n",
      "[#1] INFO:Minization --  The following expressions have been identified as constant and will be precalculated and cached: (poly)\n",
      "[#1] INFO:Minization --  The following expressions will be evaluated in cache-and-track mode: (gauss)\n",
      " **********\n",
      " **   19 **SET PRINT           1\n",
      " **********\n",
      " **********\n",
      " **   20 **SET NOGRAD\n",
      " **********\n",
      " PARAMETER DEFINITIONS:\n",
      "    NO.   NAME         VALUE      STEP SIZE      LIMITS\n",
      "     1 f            7.37845e-01  7.53286e-02    0.00000e+00  1.00000e+00\n",
      "     2 m            6.63502e-01  5.04046e-01   -1.00000e+01  1.00000e+01\n",
      "     3 s            2.38847e+00  4.94571e-01    1.00000e-01  1.00000e+01\n",
      " **********\n",
      " **   21 **SET ERR         0.5\n",
      " **********\n",
      " **********\n",
      " **   22 **SET PRINT           1\n",
      " **********\n",
      " **********\n",
      " **   23 **SET STR           1\n",
      " **********\n",
      " NOW USING STRATEGY  1: TRY TO BALANCE SPEED AGAINST RELIABILITY\n",
      " **********\n",
      " **   24 **MIGRAD        1500           1\n",
      " **********\n",
      " FIRST CALL TO USER FUNCTION AT NEW START POINT, WITH IFLAG=4.\n",
      " START MIGRAD MINIMIZATION.  STRATEGY  1.  CONVERGENCE WHEN EDM .LT. 1.00e-03\n",
      " FCN=148.171 FROM MIGRAD    STATUS=INITIATE        8 CALLS           9 TOTAL\n",
      "                     EDM= unknown      STRATEGY= 1      NO ERROR MATRIX       \n",
      "  EXT PARAMETER               CURRENT GUESS       STEP         FIRST   \n",
      "  NO.   NAME      VALUE            ERROR          SIZE      DERIVATIVE \n",
      "   1  f            7.37845e-01   7.53286e-02   1.72906e-01   2.63727e+01\n",
      "   2  m            6.63502e-01   5.04046e-01   5.05377e-02   3.86969e-02\n",
      "   3  s            2.38847e+00   4.94571e-01   1.19129e-01   1.23471e-03\n",
      "                               ERR DEF= 0.5\n",
      " MIGRAD MINIMIZATION HAS CONVERGED.\n",
      " MIGRAD WILL VERIFY CONVERGENCE AND ERROR MATRIX.\n",
      " COVARIANCE MATRIX CALCULATED SUCCESSFULLY\n",
      " FCN=137.195 FROM MIGRAD    STATUS=CONVERGED      53 CALLS          54 TOTAL\n",
      "                     EDM=1.42978e-05    STRATEGY= 1      ERROR MATRIX ACCURATE \n",
      "  EXT PARAMETER                                   STEP         FIRST   \n",
      "  NO.   NAME      VALUE            ERROR          SIZE      DERIVATIVE \n",
      "   1  f            3.61760e-01   8.15392e-02   1.26267e-03  -9.51465e-03\n",
      "   2  m            7.01307e-01   5.88303e-01   4.68744e-04  -5.20060e-02\n",
      "   3  s            1.70500e+00   4.76397e-01   9.62001e-04  -2.74993e-03\n",
      "                               ERR DEF= 0.5\n",
      " EXTERNAL ERROR MATRIX.    NDIM=  25    NPAR=  3    ERR DEF=0.5\n",
      "  6.713e-03  6.048e-03  1.567e-02 \n",
      "  6.048e-03  3.465e-01  5.113e-02 \n",
      "  1.567e-02  5.113e-02  2.283e-01 \n",
      " PARAMETER  CORRELATION COEFFICIENTS  \n",
      "       NO.  GLOBAL      1      2      3\n",
      "        1  0.40375   1.000  0.125  0.400\n",
      "        2  0.19067   0.125  1.000  0.182\n",
      "        3  0.42161   0.400  0.182  1.000\n",
      " **********\n",
      " **   25 **SET ERR         0.5\n",
      " **********\n",
      " **********\n",
      " **   26 **SET PRINT           1\n",
      " **********\n",
      " **********\n",
      " **   27 **HESSE        1500\n",
      " **********\n",
      " COVARIANCE MATRIX CALCULATED SUCCESSFULLY\n",
      " FCN=137.195 FROM HESSE     STATUS=OK             16 CALLS          70 TOTAL\n",
      "                     EDM=1.4321e-05    STRATEGY= 1      ERROR MATRIX ACCURATE \n",
      "  EXT PARAMETER                                INTERNAL      INTERNAL  \n",
      "  NO.   NAME      VALUE            ERROR       STEP SIZE       VALUE   \n",
      "   1  f            3.61760e-01   8.15756e-02   2.52534e-04  -2.80129e-01\n",
      "   2  m            7.01307e-01   5.88447e-01   9.37488e-05   7.01883e-02\n",
      "   3  s            1.70500e+00   4.76649e-01   1.92400e-04  -7.41992e-01\n",
      "                               ERR DEF= 0.5\n",
      " EXTERNAL ERROR MATRIX.    NDIM=  25    NPAR=  3    ERR DEF=0.5\n",
      "  6.720e-03  6.102e-03  1.572e-02 \n",
      "  6.102e-03  3.467e-01  5.150e-02 \n",
      "  1.572e-02  5.150e-02  2.285e-01 \n",
      " PARAMETER  CORRELATION COEFFICIENTS  \n",
      "       NO.  GLOBAL      1      2      3\n",
      "        1  0.40469   1.000  0.126  0.401\n",
      "        2  0.19191   0.126  1.000  0.183\n",
      "        3  0.42266   0.401  0.183  1.000\n",
      "[#1] INFO:Minization -- RooMinimizer::optimizeConst: deactivating const optimization\n"
     ]
    }
   ],
   "source": [
    "r3 = model.fitTo(d, ROOT.RooFit.ExternalConstraints(\n",
    "    ROOT.RooArgSet(fconstext)), ROOT.RooFit.Save())"
   ]
  },
  {
   "cell_type": "markdown",
   "metadata": {},
   "source": [
    "Print the fit results"
   ]
  },
  {
   "cell_type": "code",
   "execution_count": 12,
   "metadata": {
    "collapsed": false
   },
   "outputs": [
    {
     "name": "stdout",
     "output_type": "stream",
     "text": [
      "fit result without constraint (data generated at f=0.5)\n",
      "fit result with internal constraint (data generated at f=0.5, is f=0.8+/-0.2)\n",
      "fit result with (another) external constraint (data generated at f=0.5, is f=0.2+/-0.1)\n",
      "\n",
      "  RooFitResult: minimized FCN value: 134.849, estimated distance to minimum: 4.23315e-05\n",
      "                covariance matrix quality: Full, accurate covariance matrix\n",
      "                Status : MINIMIZE=0 HESSE=0 \n",
      "\n",
      "    Floating Parameter  InitialValue    FinalValue +/-  Error     GblCorr.\n",
      "  --------------------  ------------  --------------------------  --------\n",
      "                     f    5.0000e-01    6.4987e-01 +/-  1.21e-01  <none>\n",
      "                     m    0.0000e+00    7.1824e-01 +/-  4.97e-01  <none>\n",
      "                     s    2.0000e+00    2.1880e+00 +/-  4.61e-01  <none>\n",
      "\n",
      "\n",
      "  RooFitResult: minimized FCN value: 133.901, estimated distance to minimum: 1.19334e-05\n",
      "                covariance matrix quality: Full, accurate covariance matrix\n",
      "                Status : MINIMIZE=0 HESSE=0 \n",
      "\n",
      "    Floating Parameter  InitialValue    FinalValue +/-  Error     GblCorr.\n",
      "  --------------------  ------------  --------------------------  --------\n",
      "                     f    6.4987e-01    7.3784e-01 +/-  7.53e-02  <none>\n",
      "                     m    7.1824e-01    6.6350e-01 +/-  5.04e-01  <none>\n",
      "                     s    2.1880e+00    2.3885e+00 +/-  4.95e-01  <none>\n",
      "\n",
      "\n",
      "  RooFitResult: minimized FCN value: 137.195, estimated distance to minimum: 1.4321e-05\n",
      "                covariance matrix quality: Full, accurate covariance matrix\n",
      "                Status : MINIMIZE=0 HESSE=0 \n",
      "\n",
      "    Floating Parameter  InitialValue    FinalValue +/-  Error     GblCorr.\n",
      "  --------------------  ------------  --------------------------  --------\n",
      "                     f    7.3784e-01    3.6176e-01 +/-  8.16e-02  <none>\n",
      "                     m    6.6350e-01    7.0131e-01 +/-  5.88e-01  <none>\n",
      "                     s    2.3885e+00    1.7050e+00 +/-  4.77e-01  <none>\n",
      "\n"
     ]
    }
   ],
   "source": [
    "print(\"fit result without constraint (data generated at f=0.5)\")\n",
    "r1.Print(\"v\")\n",
    "print(\"fit result with internal constraint (data generated at f=0.5, is f=0.8+/-0.2)\")\n",
    "r2.Print(\"v\")\n",
    "print(\"fit result with (another) external constraint (data generated at f=0.5, is f=0.2+/-0.1)\")\n",
    "r3.Print(\"v\")"
   ]
  }
 ],
 "metadata": {
  "kernelspec": {
   "display_name": "Python 2",
   "language": "python",
   "name": "python2"
  },
  "language_info": {
   "codemirror_mode": {
    "name": "ipython",
    "version": 2
   },
   "file_extension": ".py",
   "mimetype": "text/x-python",
   "name": "python",
   "nbconvert_exporter": "python",
   "pygments_lexer": "ipython2",
   "version": "2.7.10"
  }
 },
 "nbformat": 4,
 "nbformat_minor": 2
}
