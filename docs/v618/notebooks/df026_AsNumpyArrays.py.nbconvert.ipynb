{
 "cells": [
  {
   "cell_type": "markdown",
   "metadata": {},
   "source": [
    "# Df 0 2 6_ As Numpy Arrays\n",
    "This tutorial shows how read data of a RDataFrame into Numpy arrays.\n",
    "\n",
    "\n",
    "\n",
    "\n",
    "**Author:** Stefan Wunsch  \n",
    "<i><small>This notebook tutorial was automatically generated with <a href= \"https://github.com/root-project/root/blob/master/documentation/doxygen/converttonotebook.py\">ROOTBOOK-izer</a> from the macro found in the ROOT repository  on Thursday, August 29, 2019 at 01:13 AM.</small></i>"
   ]
  },
  {
   "cell_type": "code",
   "execution_count": 1,
   "metadata": {
    "collapsed": false
   },
   "outputs": [
    {
     "name": "stdout",
     "output_type": "stream",
     "text": [
      "Welcome to JupyROOT 6.18/03\n"
     ]
    }
   ],
   "source": [
    "import ROOT\n",
    "from sys import exit"
   ]
  },
  {
   "cell_type": "markdown",
   "metadata": {},
   "source": [
    "Let's create a simple dataframe with ten rows and two columns"
   ]
  },
  {
   "cell_type": "code",
   "execution_count": 2,
   "metadata": {
    "collapsed": false
   },
   "outputs": [],
   "source": [
    "df = ROOT.RDataFrame(10) \\\n",
    "         .Define(\"x\", \"(int)rdfentry_\") \\\n",
    "         .Define(\"y\", \"1.f/(1.f+rdfentry_)\")"
   ]
  },
  {
   "cell_type": "markdown",
   "metadata": {},
   "source": [
    "Next, we want to access the data from Python as Numpy arrays. To do so, the\n",
    "content of the dataframe is converted using the AsNumpy method. The returned\n",
    "object is a dictionary with the column names as keys and 1D numpy arrays with\n",
    "the content as values."
   ]
  },
  {
   "cell_type": "code",
   "execution_count": 3,
   "metadata": {
    "collapsed": false
   },
   "outputs": [
    {
     "name": "stdout",
     "output_type": "stream",
     "text": [
      "Read-out of the full RDataFrame:\n",
      "{'y': numpy.array([1.        , 0.5       , 0.33333334, 0.25      , 0.2       ,\n",
      "             0.16666667, 0.14285715, 0.125     , 0.11111111, 0.1       ],\n",
      "            dtype=float32), 'x': numpy.array([0, 1, 2, 3, 4, 5, 6, 7, 8, 9], dtype=int32)}\n",
      "\n"
     ]
    }
   ],
   "source": [
    "npy = df.AsNumpy()\n",
    "print(\"Read-out of the full RDataFrame:\\n{}\\n\".format(npy))"
   ]
  },
  {
   "cell_type": "markdown",
   "metadata": {},
   "source": [
    "Since reading out data to memory is expensive, always try to read-out only what\n",
    "is needed for your analysis. You can use all RDataFrame features to reduce your\n",
    "dataset, e.g., the Filter transformation. Furthermore, you can can pass to the\n",
    "AsNumpy method a whitelist of column names with the option `columns` or a blacklist\n",
    "with column names with the option `exclude`."
   ]
  },
  {
   "cell_type": "code",
   "execution_count": 4,
   "metadata": {
    "collapsed": false
   },
   "outputs": [
    {
     "name": "stdout",
     "output_type": "stream",
     "text": [
      "Read-out of the filtered RDataFrame:\n",
      "{'y': numpy.array([0.14285715, 0.125     , 0.11111111, 0.1       ],\n",
      "            dtype=float32), 'x': numpy.array([6, 7, 8, 9], dtype=int32)}\n",
      "\n",
      "Read-out of the filtered RDataFrame with the columns option:\n",
      "{'x': numpy.array([6, 7, 8, 9], dtype=int32)}\n",
      "\n",
      "Read-out of the filtered RDataFrame with the exclude option:\n",
      "{'y': numpy.array([0.14285715, 0.125     , 0.11111111, 0.1       ],\n",
      "            dtype=float32)}\n",
      "\n"
     ]
    }
   ],
   "source": [
    "df2 = df.Filter(\"x>5\")\n",
    "npy2 = df2.AsNumpy()\n",
    "print(\"Read-out of the filtered RDataFrame:\\n{}\\n\".format(npy2))\n",
    "\n",
    "npy3 = df2.AsNumpy(columns=[\"x\"])\n",
    "print(\"Read-out of the filtered RDataFrame with the columns option:\\n{}\\n\".format(npy3))\n",
    "\n",
    "npy4 = df2.AsNumpy(exclude=[\"x\"])\n",
    "print(\"Read-out of the filtered RDataFrame with the exclude option:\\n{}\\n\".format(npy4))"
   ]
  },
  {
   "cell_type": "markdown",
   "metadata": {},
   "source": [
    "You can read-out all objects from ROOT files since these are wrapped by PyROOT\n",
    "in the Python world. However, be aware that objects other than fundamental types,\n",
    "such as complex C++ objects and not int or float, are costly to read-out."
   ]
  },
  {
   "cell_type": "code",
   "execution_count": 5,
   "metadata": {
    "collapsed": false
   },
   "outputs": [
    {
     "name": "stdout",
     "output_type": "stream",
     "text": [
      "Read-out of C++ objects:\n",
      "[<ROOT.CustomObject object at 0x55e31eff6c10>\n",
      " <ROOT.CustomObject object at 0x55e31eff6c14>\n",
      " <ROOT.CustomObject object at 0x55e31eff6c18>\n",
      " <ROOT.CustomObject object at 0x55e31eff6c1c>\n",
      " <ROOT.CustomObject object at 0x55e31eff6c20>\n",
      " <ROOT.CustomObject object at 0x55e31eff6c24>\n",
      " <ROOT.CustomObject object at 0x55e31eff6c28>\n",
      " <ROOT.CustomObject object at 0x55e31eff6c2c>\n",
      " <ROOT.CustomObject object at 0x55e31eff6c30>\n",
      " <ROOT.CustomObject object at 0x55e31eff6c34>]\n",
      "\n",
      "Access to all methods and data members of the C++ object:\n",
      "Object: <ROOT.CustomObject object at 0x55e31eff6c10>\n",
      "Access data member: custom_object.x = 42\n",
      "\n"
     ]
    }
   ],
   "source": [
    "ROOT.gInterpreter.Declare(\"\"\"\n",
    "// Inject the C++ class CustomObject in the C++ runtime.\n",
    "class CustomObject {\n",
    "public:\n",
    "    int x = 42;\n",
    "};\n",
    "// Create a function that returns such an object. This is called to fill the dataframe.\n",
    "CustomObject fill_object() { return CustomObject(); }\n",
    "\"\"\")\n",
    "\n",
    "df3 = df.Define(\"custom_object\", \"fill_object()\")\n",
    "npy5 = df3.AsNumpy()\n",
    "print(\"Read-out of C++ objects:\\n{}\\n\".format(npy5[\"custom_object\"]))\n",
    "print(\"Access to all methods and data members of the C++ object:\\nObject: {}\\nAccess data member: custom_object.x = {}\\n\".format(\n",
    "    repr(npy5[\"custom_object\"][0]), npy5[\"custom_object\"][0].x))"
   ]
  },
  {
   "cell_type": "markdown",
   "metadata": {},
   "source": [
    "Note that you can pass the object returned by AsNumpy directly to pandas.DataFrame\n",
    "including any complex C++ object that may be read-out."
   ]
  },
  {
   "cell_type": "code",
   "execution_count": 6,
   "metadata": {
    "collapsed": false
   },
   "outputs": [
    {
     "name": "stdout",
     "output_type": "stream",
     "text": [
      "Content of the ROOT.RDataFrame as pandas.DataFrame:\n",
      "                                  custom_object  x         y\n",
      "0  <ROOT.CustomObject object at 0x55e31eff6c10>  0  1.000000\n",
      "1  <ROOT.CustomObject object at 0x55e31eff6c14>  1  0.500000\n",
      "2  <ROOT.CustomObject object at 0x55e31eff6c18>  2  0.333333\n",
      "3  <ROOT.CustomObject object at 0x55e31eff6c1c>  3  0.250000\n",
      "4  <ROOT.CustomObject object at 0x55e31eff6c20>  4  0.200000\n",
      "5  <ROOT.CustomObject object at 0x55e31eff6c24>  5  0.166667\n",
      "6  <ROOT.CustomObject object at 0x55e31eff6c28>  6  0.142857\n",
      "7  <ROOT.CustomObject object at 0x55e31eff6c2c>  7  0.125000\n",
      "8  <ROOT.CustomObject object at 0x55e31eff6c30>  8  0.111111\n",
      "9  <ROOT.CustomObject object at 0x55e31eff6c34>  9  0.100000\n",
      "\n"
     ]
    }
   ],
   "source": [
    "try:\n",
    "    import pandas\n",
    "except:\n",
    "    print(\"Failed to import pandas.\")\n",
    "    exit()\n",
    "\n",
    "df = pandas.DataFrame(npy5)\n",
    "print(\"Content of the ROOT.RDataFrame as pandas.DataFrame:\\n{}\\n\".format(df))"
   ]
  },
  {
   "cell_type": "markdown",
   "metadata": {},
   "source": [
    "Draw all canvases "
   ]
  },
  {
   "cell_type": "code",
   "execution_count": 7,
   "metadata": {
    "collapsed": false
   },
   "outputs": [],
   "source": [
    "from ROOT import gROOT \n",
    "gROOT.GetListOfCanvases().Draw()"
   ]
  }
 ],
 "metadata": {
  "kernelspec": {
   "display_name": "Python 2",
   "language": "python",
   "name": "python2"
  },
  "language_info": {
   "codemirror_mode": {
    "name": "ipython",
    "version": 2
   },
   "file_extension": ".py",
   "mimetype": "text/x-python",
   "name": "python",
   "nbconvert_exporter": "python",
   "pygments_lexer": "ipython2",
   "version": "2.7.10"
  }
 },
 "nbformat": 4,
 "nbformat_minor": 2
}
