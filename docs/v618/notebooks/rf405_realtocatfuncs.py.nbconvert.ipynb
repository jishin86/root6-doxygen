{
 "cells": [
  {
   "cell_type": "markdown",
   "metadata": {},
   "source": [
    "# Rf 4 0 5_Realtocatfuncs\n",
    "\n",
    "Data and categories: demonstration of real-discrete mapping functions\n",
    "\n",
    "\n",
    "\n",
    "\n",
    "**Author:** Clemens Lange, Wouter Verkerke (C++ version)  \n",
    "<i><small>This notebook tutorial was automatically generated with <a href= \"https://github.com/root-project/root/blob/master/documentation/doxygen/converttonotebook.py\">ROOTBOOK-izer</a> from the macro found in the ROOT repository  on Thursday, August 29, 2019 at 02:53 AM.</small></i>"
   ]
  },
  {
   "cell_type": "code",
   "execution_count": 1,
   "metadata": {
    "collapsed": false
   },
   "outputs": [
    {
     "name": "stdout",
     "output_type": "stream",
     "text": [
      "Welcome to JupyROOT 6.18/03\n"
     ]
    }
   ],
   "source": [
    "import ROOT"
   ]
  },
  {
   "cell_type": "markdown",
   "metadata": {},
   "source": [
    "Define pdf in x, sample dataset in x\n",
    "------------------------------------------------------------------------"
   ]
  },
  {
   "cell_type": "markdown",
   "metadata": {},
   "source": [
    "Define a dummy PDF in x"
   ]
  },
  {
   "cell_type": "code",
   "execution_count": 2,
   "metadata": {
    "collapsed": false
   },
   "outputs": [
    {
     "name": "stdout",
     "output_type": "stream",
     "text": [
      "\n",
      "\u001b[1mRooFit v3.60 -- Developed by Wouter Verkerke and David Kirkby\u001b[0m \n",
      "                Copyright (C) 2000-2013 NIKHEF, University of California & Stanford University\n",
      "                All rights reserved, please read http://roofit.sourceforge.net/license.txt\n",
      "\n"
     ]
    }
   ],
   "source": [
    "x = ROOT.RooRealVar(\"x\", \"x\", 0, 10)\n",
    "a = ROOT.RooArgusBG(\"a\", \"argus(x)\", x, ROOT.RooFit.RooConst(\n",
    "    10), ROOT.RooFit.RooConst(-1))"
   ]
  },
  {
   "cell_type": "markdown",
   "metadata": {},
   "source": [
    "Generate a dummy dataset"
   ]
  },
  {
   "cell_type": "code",
   "execution_count": 3,
   "metadata": {
    "collapsed": false
   },
   "outputs": [],
   "source": [
    "data = a.generate(ROOT.RooArgSet(x), 10000)"
   ]
  },
  {
   "cell_type": "markdown",
   "metadata": {},
   "source": [
    "Create a threshold real -> cat function\n",
    "--------------------------------------------------------------------------"
   ]
  },
  {
   "cell_type": "markdown",
   "metadata": {},
   "source": [
    "A RooThresholdCategory is a category function that maps regions in a real-valued\n",
    "input observable observables to state names. At construction time a 'default'\n",
    "state name must be specified to which all values of x are mapped that are not\n",
    "otherwise assigned"
   ]
  },
  {
   "cell_type": "code",
   "execution_count": 4,
   "metadata": {
    "collapsed": false
   },
   "outputs": [],
   "source": [
    "xRegion = ROOT.RooThresholdCategory(\n",
    "    \"xRegion\", \"region of x\", x, \"Background\")"
   ]
  },
  {
   "cell_type": "markdown",
   "metadata": {},
   "source": [
    "Specify thresholds and state assignments one-by-one.\n",
    "Each statement specifies that all values _below_ the given value\n",
    "(and above any lower specified threshold) are mapped to the\n",
    "category state with the given name\n",
    "\n",
    "Background | SideBand | Signal | SideBand | Background\n",
    "          4.23       5.23     8.23       9.23"
   ]
  },
  {
   "cell_type": "code",
   "execution_count": 5,
   "metadata": {
    "collapsed": false
   },
   "outputs": [
    {
     "data": {
      "text/plain": [
       "False"
      ]
     },
     "execution_count": 5,
     "metadata": {},
     "output_type": "execute_result"
    }
   ],
   "source": [
    "xRegion.addThreshold(4.23, \"Background\")\n",
    "xRegion.addThreshold(5.23, \"SideBand\")\n",
    "xRegion.addThreshold(8.23, \"Signal\")\n",
    "xRegion.addThreshold(9.23, \"SideBand\")"
   ]
  },
  {
   "cell_type": "markdown",
   "metadata": {},
   "source": [
    "Use threshold function to plot data regions\n",
    "----------------------------------------------"
   ]
  },
  {
   "cell_type": "markdown",
   "metadata": {},
   "source": [
    "Add values of threshold function to dataset so that it can be used as\n",
    "observable"
   ]
  },
  {
   "cell_type": "code",
   "execution_count": 6,
   "metadata": {
    "collapsed": false
   },
   "outputs": [
    {
     "data": {
      "text/plain": [
       "<ROOT.RooCategory object (\"xRegion\") at 0x5561e1dd70f0>"
      ]
     },
     "execution_count": 6,
     "metadata": {},
     "output_type": "execute_result"
    }
   ],
   "source": [
    "data.addColumn(xRegion)"
   ]
  },
  {
   "cell_type": "markdown",
   "metadata": {},
   "source": [
    "Make plot of data in x"
   ]
  },
  {
   "cell_type": "code",
   "execution_count": 7,
   "metadata": {
    "collapsed": false
   },
   "outputs": [
    {
     "data": {
      "text/plain": [
       "<ROOT.RooPlot object (\"frame_x_5561e1e14aa0\") at 0x5561e1e14aa0>"
      ]
     },
     "execution_count": 7,
     "metadata": {},
     "output_type": "execute_result"
    }
   ],
   "source": [
    "xframe = x.frame(ROOT.RooFit.Title(\n",
    "    \"Demo of threshold and binning mapping functions\"))\n",
    "data.plotOn(xframe)"
   ]
  },
  {
   "cell_type": "markdown",
   "metadata": {},
   "source": [
    "Use calculated category to select sideband data"
   ]
  },
  {
   "cell_type": "code",
   "execution_count": 8,
   "metadata": {
    "collapsed": false
   },
   "outputs": [
    {
     "data": {
      "text/plain": [
       "<ROOT.RooPlot object (\"frame_x_5561e1e14aa0\") at 0x5561e1e14aa0>"
      ]
     },
     "execution_count": 8,
     "metadata": {},
     "output_type": "execute_result"
    },
    {
     "name": "stdout",
     "output_type": "stream",
     "text": [
      "[#1] INFO:Plotting -- RooTreeData::plotOn: plotting 2748 events out of 10000 total events\n"
     ]
    }
   ],
   "source": [
    "data.plotOn(\n",
    "    xframe,\n",
    "    ROOT.RooFit.Cut(\"xRegion==xRegion::SideBand\"),\n",
    "    ROOT.RooFit.MarkerColor(\n",
    "        ROOT.kRed),\n",
    "    ROOT.RooFit.LineColor(\n",
    "        ROOT.kRed))"
   ]
  },
  {
   "cell_type": "markdown",
   "metadata": {},
   "source": [
    "Create a binning real -> cat function\n",
    "----------------------------------------------------------------------"
   ]
  },
  {
   "cell_type": "markdown",
   "metadata": {},
   "source": [
    "A RooBinningCategory is a category function that maps bins of a (named) binning definition\n",
    "in a real-valued input observable observables to state names. The state names are automatically\n",
    "constructed from the variable name, binning name and the bin number. If no binning name\n",
    "is specified the default binning is mapped"
   ]
  },
  {
   "cell_type": "code",
   "execution_count": 9,
   "metadata": {
    "collapsed": false
   },
   "outputs": [],
   "source": [
    "x.setBins(10, \"coarse\")\n",
    "xBins = ROOT.RooBinningCategory(\"xBins\", \"coarse bins in x\", x, \"coarse\")"
   ]
  },
  {
   "cell_type": "markdown",
   "metadata": {},
   "source": [
    "Use binning function for tabulation and plotting\n",
    "-----------------------------------------------------------------------------------------------"
   ]
  },
  {
   "cell_type": "markdown",
   "metadata": {},
   "source": [
    "Print table of xBins state multiplicity. Note that xBins does not need to be an observable in data\n",
    "it can be a function of observables in data as well"
   ]
  },
  {
   "cell_type": "code",
   "execution_count": 10,
   "metadata": {
    "collapsed": false
   },
   "outputs": [
    {
     "name": "stdout",
     "output_type": "stream",
     "text": [
      "\n",
      "  Table xBins : aData\n",
      "  +---------------+------+\n",
      "  | x_coarse_bin0 |  105 |\n",
      "  | x_coarse_bin1 |  329 |\n",
      "  | x_coarse_bin2 |  499 |\n",
      "  | x_coarse_bin3 |  739 |\n",
      "  | x_coarse_bin4 |  934 |\n",
      "  | x_coarse_bin5 | 1218 |\n",
      "  | x_coarse_bin6 | 1450 |\n",
      "  | x_coarse_bin7 | 1675 |\n",
      "  | x_coarse_bin8 | 1767 |\n",
      "  | x_coarse_bin9 | 1284 |\n",
      "  +---------------+------+\n",
      "\n"
     ]
    }
   ],
   "source": [
    "xbtable = data.table(xBins)\n",
    "xbtable.Print(\"v\")"
   ]
  },
  {
   "cell_type": "markdown",
   "metadata": {},
   "source": [
    "Add values of xBins function to dataset so that it can be used as\n",
    "observable"
   ]
  },
  {
   "cell_type": "code",
   "execution_count": 11,
   "metadata": {
    "collapsed": false
   },
   "outputs": [],
   "source": [
    "xb = data.addColumn(xBins)"
   ]
  },
  {
   "cell_type": "markdown",
   "metadata": {},
   "source": [
    "Define range \"alt\" as including bins 1,3,5,7,9"
   ]
  },
  {
   "cell_type": "code",
   "execution_count": 12,
   "metadata": {
    "collapsed": false
   },
   "outputs": [],
   "source": [
    "xb.setRange(\n",
    "    \"alt\",\n",
    "    \"x_coarse_bin1,x_coarse_bin3,x_coarse_bin5,x_coarse_bin7,x_coarse_bin9\")"
   ]
  },
  {
   "cell_type": "markdown",
   "metadata": {},
   "source": [
    "Construct subset of data matching range \"alt\" but only for the first\n",
    "5000 events and plot it on the frame"
   ]
  },
  {
   "cell_type": "code",
   "execution_count": 13,
   "metadata": {
    "collapsed": false
   },
   "outputs": [
    {
     "name": "stdout",
     "output_type": "stream",
     "text": [
      "[#1] INFO:Plotting -- RooPlot::updateFitRangeNorm: New event count of 2627 will supercede previous event count of 10000 for normalization of PDF projections\n"
     ]
    },
    {
     "name": "stderr",
     "output_type": "stream",
     "text": [
      "Info in <TCanvas::Print>: png file rf405_realtocatfuncs.png has been created\n"
     ]
    }
   ],
   "source": [
    "dataSel = data.reduce(ROOT.RooFit.CutRange(\n",
    "    \"alt\"), ROOT.RooFit.EventRange(0, 5000))\n",
    "dataSel.plotOn(xframe, ROOT.RooFit.MarkerColor(ROOT.kGreen),\n",
    "               ROOT.RooFit.LineColor(ROOT.kGreen))\n",
    "\n",
    "c = ROOT.TCanvas(\"rf405_realtocatfuncs\", \"rf405_realtocatfuncs\", 600, 600)\n",
    "xframe.SetMinimum(0.01)\n",
    "ROOT.gPad.SetLeftMargin(0.15)\n",
    "xframe.GetYaxis().SetTitleOffset(1.4)\n",
    "xframe.Draw()\n",
    "\n",
    "c.SaveAs(\"rf405_realtocatfuncs.png\")"
   ]
  },
  {
   "cell_type": "markdown",
   "metadata": {},
   "source": [
    "Draw all canvases "
   ]
  },
  {
   "cell_type": "code",
   "execution_count": 14,
   "metadata": {
    "collapsed": false
   },
   "outputs": [
    {
     "data": {
      "image/png": "[encoded data removed]",
      "text/plain": [
       "<IPython.core.display.Image object>"
      ]
     },
     "metadata": {},
     "output_type": "display_data"
    }
   ],
   "source": [
    "from ROOT import gROOT \n",
    "gROOT.GetListOfCanvases().Draw()"
   ]
  }
 ],
 "metadata": {
  "kernelspec": {
   "display_name": "Python 2",
   "language": "python",
   "name": "python2"
  },
  "language_info": {
   "codemirror_mode": {
    "name": "ipython",
    "version": 2
   },
   "file_extension": ".py",
   "mimetype": "text/x-python",
   "name": "python",
   "nbconvert_exporter": "python",
   "pygments_lexer": "ipython2",
   "version": "2.7.10"
  }
 },
 "nbformat": 4,
 "nbformat_minor": 2
}
