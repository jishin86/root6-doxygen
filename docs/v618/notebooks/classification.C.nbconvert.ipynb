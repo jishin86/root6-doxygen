{
 "cells": [
  {
   "cell_type": "markdown",
   "metadata": {},
   "source": [
    "# Classification\n",
    "\n",
    "\n",
    "**Author:**   \n",
    "<i><small>This notebook tutorial was automatically generated with <a href= \"https://github.com/root-project/root/blob/master/documentation/doxygen/converttonotebook.py\">ROOTBOOK-izer</a> from the macro found in the ROOT repository  on Thursday, August 29, 2019 at 03:39 AM.</small></i>"
   ]
  },
  {
   "cell_type": "markdown",
   "metadata": {},
   "source": [
    "/ \\macro_output\n",
    "/ \\macro_code"
   ]
  },
  {
   "cell_type": "code",
   "execution_count": 1,
   "metadata": {
    "collapsed": false
   },
   "outputs": [],
   "source": [
    "%%cpp -d\n",
    "#include \"TMVA/Factory.h\"\n",
    "#include \"TMVA/DataLoader.h\"\n",
    "#include \"TMVA/Tools.h\"\n",
    "#include \"TMVA/Classification.h\""
   ]
  },
  {
   "cell_type": "markdown",
   "metadata": {},
   "source": [
    " Arguments are defined. "
   ]
  },
  {
   "cell_type": "code",
   "execution_count": 2,
   "metadata": {
    "collapsed": false
   },
   "outputs": [],
   "source": [
    "UInt_t jobs = 4;"
   ]
  },
  {
   "cell_type": "code",
   "execution_count": 3,
   "metadata": {
    "collapsed": false
   },
   "outputs": [
    {
     "name": "stderr",
     "output_type": "stream",
     "text": [
      "[TFile::Cp] Total 0.20 MB\t|====================| 100.00 % [54.9 MB/s]\r\n",
      "Info in <TFile::OpenFromCache>: using local cache copy of http://root.cern.ch/files/tmva_class_example.root [./files/tmva_class_example.root]\n"
     ]
    }
   ],
   "source": [
    "TMVA::Tools::Instance();\n",
    "\n",
    "TFile *input(0);\n",
    "TString fname = \"./tmva_class_example.root\";\n",
    "if (!gSystem->AccessPathName(fname)) {\n",
    "   input = TFile::Open(fname); // check if file in local directory exists\n",
    "} else {\n",
    "   TFile::SetCacheFileDir(\".\");\n",
    "   input = TFile::Open(\"http://root.cern.ch/files/tmva_class_example.root\", \"CACHEREAD\");\n",
    "}\n",
    "if (!input) {\n",
    "   std::cout << \"ERROR: could not open data file\" << std::endl;\n",
    "   exit(1);\n",
    "}"
   ]
  },
  {
   "cell_type": "markdown",
   "metadata": {},
   "source": [
    "Register the training and test trees"
   ]
  },
  {
   "cell_type": "code",
   "execution_count": 4,
   "metadata": {
    "collapsed": false
   },
   "outputs": [],
   "source": [
    "TTree *signalTree = (TTree *)input->Get(\"TreeS\");\n",
    "TTree *background = (TTree *)input->Get(\"TreeB\");\n",
    "\n",
    "TMVA::DataLoader *dataloader = new TMVA::DataLoader(\"dataset\");"
   ]
  },
  {
   "cell_type": "markdown",
   "metadata": {},
   "source": [
    "If you wish to modify default settings\n",
    " (please check \"src/Config.h\" to see all available global options)\n",
    "\n",
    "    (TMVA::gConfig().GetVariablePlotting()).fTimesRMS = 8.0;\n",
    "    (TMVA::gConfig().GetIONames()).fWeightFileDir = \"myWeightDirectory\";"
   ]
  },
  {
   "cell_type": "markdown",
   "metadata": {},
   "source": [
    "Define the input variables that shall be used for the mva training\n",
    " note that you may also use variable expressions, such as: \"3*var1/var2*abs(var3)\"\n",
    " [all types of expressions that can also be parsed by TTree::Draw( \"expression\" )]"
   ]
  },
  {
   "cell_type": "code",
   "execution_count": 5,
   "metadata": {
    "collapsed": false
   },
   "outputs": [],
   "source": [
    "dataloader->AddVariable(\"myvar1 := var1+var2\", 'F');\n",
    "dataloader->AddVariable(\"myvar2 := var1-var2\", \"Expression 2\", \"\", 'F');\n",
    "dataloader->AddVariable(\"var3\", \"Variable 3\", \"units\", 'F');\n",
    "dataloader->AddVariable(\"var4\", \"Variable 4\", \"units\", 'F');"
   ]
  },
  {
   "cell_type": "markdown",
   "metadata": {},
   "source": [
    "You can add so-called \"spectator variables\", which are not used in the mva training,\n",
    " but will appear in the final \"TestTree\" produced by TMVA. This TestTree will contain the\n",
    " input variables, the response values of all trained MVAs, and the spectator variables"
   ]
  },
  {
   "cell_type": "code",
   "execution_count": 6,
   "metadata": {
    "collapsed": false
   },
   "outputs": [],
   "source": [
    "dataloader->AddSpectator(\"spec1 := var1*2\", \"Spectator 1\", \"units\", 'F');\n",
    "dataloader->AddSpectator(\"spec2 := var1*3\", \"Spectator 2\", \"units\", 'F');"
   ]
  },
  {
   "cell_type": "markdown",
   "metadata": {},
   "source": [
    "Global event weights per tree (see below for setting event-wise weights)"
   ]
  },
  {
   "cell_type": "code",
   "execution_count": 7,
   "metadata": {
    "collapsed": false
   },
   "outputs": [],
   "source": [
    "Double_t signalWeight = 1.0;\n",
    "Double_t backgroundWeight = 1.0;"
   ]
  },
  {
   "cell_type": "markdown",
   "metadata": {},
   "source": [
    "You can add an arbitrary number of signal or background trees"
   ]
  },
  {
   "cell_type": "code",
   "execution_count": 8,
   "metadata": {
    "collapsed": false
   },
   "outputs": [
    {
     "name": "stdout",
     "output_type": "stream",
     "text": [
      "DataSetInfo              : [dataset] : Added class \"Signal\"\n",
      "                         : Add Tree TreeS of type Signal with 6000 events\n",
      "DataSetInfo              : [dataset] : Added class \"Background\"\n",
      "                         : Add Tree TreeB of type Background with 6000 events\n"
     ]
    }
   ],
   "source": [
    "dataloader->AddSignalTree(signalTree, signalWeight);\n",
    "dataloader->AddBackgroundTree(background, backgroundWeight);"
   ]
  },
  {
   "cell_type": "markdown",
   "metadata": {},
   "source": [
    "Set individual event weights (the variables must exist in the original ttree)\n",
    " -  for signal    : `dataloader->SetSignalWeightExpression    (\"weight1*weight2\");`\n",
    " -  for background: `dataloader->SetBackgroundWeightExpression(\"weight1*weight2\");`"
   ]
  },
  {
   "cell_type": "code",
   "execution_count": 9,
   "metadata": {
    "collapsed": false
   },
   "outputs": [
    {
     "name": "stdout",
     "output_type": "stream",
     "text": [
      "<HEADER>                          : Loading booked method: BDT BDTG\n",
      "                         : \n",
      "                         : the option NegWeightTreatment=InverseBoostNegWeights does not exist for BoostType=Grad\n",
      "                         : --> change to new default NegWeightTreatment=Pray\n",
      "<HEADER> DataSetFactory           : [dataset] : Number of events in input trees\n",
      "                         : \n",
      "                         : \n",
      "                         : Number of training and testing events\n",
      "                         : ---------------------------------------------------------------------------\n",
      "                         : Signal     -- training events            : 1000\n",
      "                         : Signal     -- testing events             : 5000\n",
      "                         : Signal     -- training and testing events: 6000\n",
      "                         : Background -- training events            : 1000\n",
      "                         : Background -- testing events             : 5000\n",
      "                         : Background -- training and testing events: 6000\n",
      "                         : \n",
      "<HEADER> DataSetInfo              : Correlation matrix (Signal):\n",
      "                         : ----------------------------------------------\n",
      "                         :            var1+var2 var1-var2    var3    var4\n",
      "                         : var1+var2:    +1.000    +0.038  +0.748  +0.922\n",
      "                         : var1-var2:    +0.038    +1.000  -0.058  +0.128\n",
      "                         :      var3:    +0.748    -0.058  +1.000  +0.831\n",
      "                         :      var4:    +0.922    +0.128  +0.831  +1.000\n",
      "                         : ----------------------------------------------\n",
      "<HEADER> DataSetInfo              : Correlation matrix (Background):\n",
      "                         : ----------------------------------------------\n",
      "                         :            var1+var2 var1-var2    var3    var4\n",
      "                         : var1+var2:    +1.000    -0.021  +0.783  +0.931\n",
      "                         : var1-var2:    -0.021    +1.000  -0.162  +0.057\n",
      "                         :      var3:    +0.783    -0.162  +1.000  +0.841\n",
      "                         :      var4:    +0.931    +0.057  +0.841  +1.000\n",
      "                         : ----------------------------------------------\n",
      "<HEADER> DataSetFactory           : [dataset] :  \n",
      "                         : \n",
      "<HEADER>                          : Loading booked method: SVM SVM\n",
      "                         : \n",
      "<HEADER> SVM                      : [dataset] : Create Transformation \"Norm\" with events from all classes.\n",
      "                         : \n",
      "<HEADER>                          : Transformation, Variable selection : \n",
      "                         : Input : variable 'myvar1' <---> Output : variable 'myvar1'\n",
      "                         : Input : variable 'myvar2' <---> Output : variable 'myvar2'\n",
      "                         : Input : variable 'var3' <---> Output : variable 'var3'\n",
      "                         : Input : variable 'var4' <---> Output : variable 'var4'\n",
      "<HEADER>                          : Loading booked method: BDT BDTB\n",
      "                         : \n",
      "<HEADER>                          : Loading booked method: Cuts Cuts\n",
      "                         : \n",
      "                         : Use optimization method: \"Monte Carlo\"\n",
      "                         : Use efficiency computation method: \"Event Selection\"\n",
      "                         : Use \"FSmart\" cuts for variable: 'myvar1'\n",
      "                         : Use \"FSmart\" cuts for variable: 'myvar2'\n",
      "                         : Use \"FSmart\" cuts for variable: 'var3'\n",
      "                         : Use \"FSmart\" cuts for variable: 'var4'\n",
      "                         : --------------------------------------------------- :\n",
      "                         : DataSet              MVA                            :\n",
      "                         : Name:                Method/Title:    ROC-integ     :\n",
      "                         : --------------------------------------------------- :\n",
      "                         : dataset              SVM/SVM          0.898         :\n",
      "                         : dataset              Cuts/Cuts        0.792         :\n",
      "                         : dataset              BDT/BDTG         0.886         :\n",
      "                         : dataset              BDT/BDTB         0.852         :\n",
      "                         : --------------------------------------------------- :\n",
      "                         : -----------------------------------------------------\n",
      "<HEADER>                          : Evaluation done.\n",
      "                         : \n",
      "                         : Jobs = 4 Real Time = 5.056714 \n",
      "                         : -----------------------------------------------------\n",
      "                         : Evaluation done.\n"
     ]
    },
    {
     "data": {
      "image/png": "[encoded data removed]",
      "text/plain": [
       "<IPython.core.display.Image object>"
      ]
     },
     "metadata": {},
     "output_type": "display_data"
    }
   ],
   "source": [
    "dataloader->SetBackgroundWeightExpression(\"weight\");\n",
    "dataloader->PrepareTrainingAndTestTree(\n",
    "   \"\", \"\", \"nTrain_Signal=1000:nTrain_Background=1000:SplitMode=Random:NormMode=NumEvents:!V\");\n",
    "\n",
    "TFile *outputFile = TFile::Open(\"TMVAClass.root\", \"RECREATE\");\n",
    "\n",
    "TMVA::Experimental::Classification *cl = new TMVA::Experimental::Classification(dataloader, Form(\"Jobs=%d\", jobs));\n",
    "\n",
    "cl->BookMethod(TMVA::Types::kBDT, \"BDTG\", \"!H:!V:NTrees=2000:MinNodeSize=2.5%:BoostType=Grad:Shrinkage=0.10:\"\n",
    "                                          \"UseBaggedBoost:BaggedSampleFraction=0.5:nCuts=20:MaxDepth=2\");\n",
    "cl->BookMethod(TMVA::Types::kSVM, \"SVM\", \"Gamma=0.25:Tol=0.001:VarTransform=Norm\");\n",
    "\n",
    "cl->BookMethod(TMVA::Types::kBDT, \"BDTB\", \"!H:!V:NTrees=2000:BoostType=Bagging:SeparationType=GiniIndex:nCuts=20\");\n",
    "\n",
    "cl->BookMethod(TMVA::Types::kCuts, \"Cuts\", \"!H:!V:FitMethod=MC:EffSel:SampleSize=200000:VarProp=FSmart\");\n",
    "\n",
    "cl->Evaluate(); // Train and Test all methods\n",
    "\n",
    "auto &results = cl->GetResults();\n",
    "\n",
    "TCanvas *c = new TCanvas(Form(\"ROC\"));\n",
    "c->SetTitle(\"ROC-Integral Curve\");\n",
    "\n",
    "auto mg = new TMultiGraph();\n",
    "for (UInt_t i = 0; i < results.size(); i++) {\n",
    "   if (!results[i].IsCutsMethod()) {\n",
    "      auto roc = results[i].GetROCGraph();\n",
    "      roc->SetLineColorAlpha(i + 1, 0.1);\n",
    "      mg->Add(roc);\n",
    "   }\n",
    "}\n",
    "mg->Draw(\"AL\");\n",
    "mg->GetXaxis()->SetTitle(\" Signal Efficiency \");\n",
    "mg->GetYaxis()->SetTitle(\" Background Rejection \");\n",
    "c->BuildLegend(0.15, 0.15, 0.3, 0.3);\n",
    "c->Draw();\n",
    "\n",
    "outputFile->Close();\n",
    "delete cl;"
   ]
  }
 ],
 "metadata": {
  "kernelspec": {
   "display_name": "ROOT C++",
   "language": "c++",
   "name": "root"
  },
  "language_info": {
   "codemirror_mode": "text/x-c++src",
   "file_extension": ".C",
   "mimetype": " text/x-c++src",
   "name": "c++"
  }
 },
 "nbformat": 4,
 "nbformat_minor": 2
}
