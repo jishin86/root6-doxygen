{
 "cells": [
  {
   "cell_type": "markdown",
   "metadata": {},
   "source": [
    "# Hsumanim\n",
    "This script is a slightly modified version of hsum.C.\n",
    "When run in batch mode, it produces an animated gif file.\n",
    "\n",
    "\n",
    "\n",
    "\n",
    "**Author:**  Rene Brun, Valeriy Onuchin  \n",
    "<i><small>This notebook tutorial was automatically generated with <a href= \"https://github.com/root-project/root/blob/master/documentation/doxygen/converttonotebook.py\">ROOTBOOK-izer</a> from the macro found in the ROOT repository  on Thursday, August 29, 2019 at 02:01 AM.</small></i>"
   ]
  },
  {
   "cell_type": "code",
   "execution_count": 1,
   "metadata": {
    "collapsed": false
   },
   "outputs": [],
   "source": [
    "auto c1 = new TCanvas(\"c1\",\"The HSUM example\",200,10,600,400);\n",
    "c1->SetGrid();\n",
    "\n",
    "gBenchmark->Start(\"hsum\");"
   ]
  },
  {
   "cell_type": "markdown",
   "metadata": {},
   "source": [
    "Create some histograms."
   ]
  },
  {
   "cell_type": "code",
   "execution_count": 2,
   "metadata": {
    "collapsed": false
   },
   "outputs": [],
   "source": [
    "auto total  = new TH1F(\"total\",\"This is the total distribution\",100,-4,4);\n",
    "auto main   = new TH1F(\"main\",\"Main contributor\",100,-4,4);\n",
    "auto s1     = new TH1F(\"s1\",\"This is the first signal\",100,-4,4);\n",
    "auto s2     = new TH1F(\"s2\",\"This is the second signal\",100,-4,4);\n",
    "total->Sumw2();   // this makes sure that the sum of squares of weights will be stored\n",
    "total->SetMarkerStyle(21);\n",
    "total->SetMarkerSize(0.7);\n",
    "main->SetFillColor(16);\n",
    "s1->SetFillColor(42);\n",
    "s2->SetFillColor(46);\n",
    "TSlider *slider = 0;\n",
    "gSystem->Unlink(\"hsumanim.gif\"); // delete old file"
   ]
  },
  {
   "cell_type": "markdown",
   "metadata": {},
   "source": [
    "Fill histograms randomly"
   ]
  },
  {
   "cell_type": "code",
   "execution_count": 3,
   "metadata": {
    "collapsed": false
   },
   "outputs": [
    {
     "name": "stdout",
     "output_type": "stream",
     "text": [
      "i = 500\n",
      "i = 1000\n",
      "i = 1500\n",
      "i = 2000\n",
      "i = 2500\n",
      "i = 3000\n",
      "i = 3500\n",
      "i = 4000\n",
      "i = 4500\n",
      "i = 5000\n",
      "i = 5500\n",
      "i = 6000\n",
      "i = 6500\n",
      "i = 7000\n",
      "i = 7500\n",
      "i = 8000\n",
      "i = 8500\n",
      "i = 9000\n",
      "i = 9500\n"
     ]
    }
   ],
   "source": [
    "gRandom->SetSeed();\n",
    "const Int_t kUPDATE = 500;\n",
    "Float_t xs1, xs2, xmain;\n",
    "Int_t gifcnt = 0;\n",
    "for ( Int_t i=0; i<10000; i++) {\n",
    "   xmain = gRandom->Gaus(-1,1.5);\n",
    "   xs1   = gRandom->Gaus(-0.5,0.5);\n",
    "   xs2   = gRandom->Landau(1,0.15);\n",
    "   main->Fill(xmain);\n",
    "   s1->Fill(xs1,0.3);\n",
    "   s2->Fill(xs2,0.2);\n",
    "   total->Fill(xmain);\n",
    "   total->Fill(xs1,0.3);\n",
    "   total->Fill(xs2,0.2);\n",
    "   if (i && (i%kUPDATE) == 0) {\n",
    "      if (i == kUPDATE) {\n",
    "         total->Draw(\"e1p\");\n",
    "         main->Draw(\"same\");\n",
    "         s1->Draw(\"same\");\n",
    "         s2->Draw(\"same\");\n",
    "         c1->Update();\n",
    "         slider = new TSlider(\"slider\",\"test\",4.2,0,4.6,total->GetMaximum(),38);\n",
    "         slider->SetFillColor(46);\n",
    "      }\n",
    "      if (slider) slider->SetRange(0,Float_t(i)/10000.);\n",
    "      c1->Modified();\n",
    "      c1->Update();\n",
    "      if (gROOT->IsBatch()) {\n",
    "         c1->Print(\"hsumanim.gif+\");\n",
    "         printf(\"i = %d\\n\", i);\n",
    "      } else {\n",
    "         if (gSystem->ProcessEvents())\n",
    "            break;\n",
    "      }\n",
    "   }\n",
    "}\n",
    "slider->SetRange(0,1);\n",
    "total->Draw(\"sameaxis\"); // to redraw axis hidden by the fill area\n",
    "c1->Modified();"
   ]
  },
  {
   "cell_type": "markdown",
   "metadata": {},
   "source": [
    "Make infinite animation by adding \"++\" to the file name"
   ]
  },
  {
   "cell_type": "code",
   "execution_count": 4,
   "metadata": {
    "collapsed": false
   },
   "outputs": [],
   "source": [
    "if (gROOT->IsBatch()) c1->Print(\"hsumanim.gif++\");"
   ]
  },
  {
   "cell_type": "markdown",
   "metadata": {},
   "source": [
    "You can view the animated file hsumanim.gif with netscape/ie or mozilla"
   ]
  },
  {
   "cell_type": "code",
   "execution_count": 5,
   "metadata": {
    "collapsed": false
   },
   "outputs": [
    {
     "name": "stdout",
     "output_type": "stream",
     "text": [
      "hsum      : Real Time =   1.77 seconds Cpu Time =   1.53 seconds\n"
     ]
    }
   ],
   "source": [
    "gBenchmark->Show(\"hsum\");"
   ]
  },
  {
   "cell_type": "markdown",
   "metadata": {},
   "source": [
    "Draw all canvases "
   ]
  },
  {
   "cell_type": "code",
   "execution_count": 6,
   "metadata": {
    "collapsed": false
   },
   "outputs": [
    {
     "data": {
      "image/png": "[encoded data removed]",
      "text/plain": [
       "<IPython.core.display.Image object>"
      ]
     },
     "metadata": {},
     "output_type": "display_data"
    }
   ],
   "source": [
    "gROOT->GetListOfCanvases()->Draw()"
   ]
  }
 ],
 "metadata": {
  "kernelspec": {
   "display_name": "ROOT C++",
   "language": "c++",
   "name": "root"
  },
  "language_info": {
   "codemirror_mode": "text/x-c++src",
   "file_extension": ".C",
   "mimetype": " text/x-c++src",
   "name": "c++"
  }
 },
 "nbformat": 4,
 "nbformat_minor": 2
}
