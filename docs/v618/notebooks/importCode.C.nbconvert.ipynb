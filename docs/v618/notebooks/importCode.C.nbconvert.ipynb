{
 "cells": [
  {
   "cell_type": "markdown",
   "metadata": {},
   "source": [
    "# Import Code\n",
    "Example of script showing how to create a ROOT file with subdirectories.\n",
    "The script scans a given directory tree and recreates the same structure in the ROOT file.\n",
    "All source files of type .h,cxx,c,dat,py are imported as TMacro objects.\n",
    "See also the other tutorial readCode.C\n",
    "\n",
    "\n",
    "\n",
    "**Author:** Rene Brun  \n",
    "<i><small>This notebook tutorial was automatically generated with <a href= \"https://github.com/root-project/root/blob/master/documentation/doxygen/converttonotebook.py\">ROOTBOOK-izer</a> from the macro found in the ROOT repository  on Thursday, August 29, 2019 at 02:04 AM.</small></i>"
   ]
  },
  {
   "cell_type": "code",
   "execution_count": 1,
   "metadata": {
    "collapsed": false
   },
   "outputs": [],
   "source": [
    "%%cpp -d\n",
    "#include \"TFile.h\"\n",
    "#include \"TSystem.h\"\n",
    "#include \"TMacro.h\""
   ]
  },
  {
   "cell_type": "markdown",
   "metadata": {},
   "source": [
    " A helper function is created: "
   ]
  },
  {
   "cell_type": "code",
   "execution_count": 2,
   "metadata": {
    "collapsed": false
   },
   "outputs": [],
   "source": [
    "%%cpp -d\n",
    "void importdir(const char *dirname) {\n",
    "   char *slash = (char*)strrchr(dirname,'/');\n",
    "   char *locdir;\n",
    "   if (slash) locdir = slash+1;\n",
    "   else       locdir = (char*)dirname;\n",
    "   printf(\"processing dir %s\\n\",dirname);\n",
    "   TDirectory *savdir = gDirectory;\n",
    "   TDirectory *adir = savdir->mkdir(locdir);\n",
    "   adir->cd();\n",
    "   void *dirp = gSystem->OpenDirectory(dirname);\n",
    "   if (!dirp) return;\n",
    "   char *direntry;\n",
    "   Long_t id, size,flags,modtime;\n",
    "   //loop on all entries of this directory\n",
    "   while ((direntry=(char*)gSystem->GetDirEntry(dirp))) {\n",
    "      TString afile = Form(\"%s/%s\",dirname,direntry);\n",
    "      gSystem->GetPathInfo(afile,&id,&size,&flags,&modtime);\n",
    "      if (direntry[0] == '.')             continue; //forget the \".\" and \"..\" special cases\n",
    "      if (!strcmp(direntry,\"CVS\"))        continue; //forget some special directories\n",
    "      if (!strcmp(direntry,\"htmldoc\"))    continue;\n",
    "      if (strstr(dirname,\"root/include\")) continue;\n",
    "      if (strstr(direntry,\"G__\"))         continue;\n",
    "      if (strstr(direntry,\".c\")    ||\n",
    "          strstr(direntry,\".h\")    ||\n",
    "          strstr(direntry,\".dat\")  ||\n",
    "          strstr(direntry,\".py\")   ||\n",
    "          strstr(direntry,\".C\")) {\n",
    "         TMacro *m = new TMacro(afile);\n",
    "         m->Write(direntry);\n",
    "         delete m;\n",
    "      } else {\n",
    "         if (flags != 3)                     continue; //must be a directory\n",
    "         //we have found a valid sub-directory. Process it\n",
    "         importdir(afile);\n",
    "     }\n",
    "  }\n",
    "  gSystem->FreeDirectory(dirp);\n",
    "  savdir->cd();\n",
    "}"
   ]
  },
  {
   "cell_type": "code",
   "execution_count": 3,
   "metadata": {
    "collapsed": false
   },
   "outputs": [
    {
     "name": "stdout",
     "output_type": "stream",
     "text": [
      "processing dir /mnt/build/workspace/root-makedoc-v618/rootspi/rdoc/src/v6-18-00-patches.build/tutorials\n",
      "processing dir /mnt/build/workspace/root-makedoc-v618/rootspi/rdoc/src/v6-18-00-patches.build/tutorials/pythia\n",
      "processing dir /mnt/build/workspace/root-makedoc-v618/rootspi/rdoc/src/v6-18-00-patches.build/tutorials/spectrum\n",
      "processing dir /mnt/build/workspace/root-makedoc-v618/rootspi/rdoc/src/v6-18-00-patches.build/tutorials/thread\n",
      "processing dir /mnt/build/workspace/root-makedoc-v618/rootspi/rdoc/src/v6-18-00-patches.build/tutorials/math\n",
      "processing dir /mnt/build/workspace/root-makedoc-v618/rootspi/rdoc/src/v6-18-00-patches.build/tutorials/dataframe\n",
      "processing dir /mnt/build/workspace/root-makedoc-v618/rootspi/rdoc/src/v6-18-00-patches.build/tutorials/doc\n",
      "processing dir /mnt/build/workspace/root-makedoc-v618/rootspi/rdoc/src/v6-18-00-patches.build/tutorials/doc/v532\n",
      "processing dir /mnt/build/workspace/root-makedoc-v618/rootspi/rdoc/src/v6-18-00-patches.build/tutorials/doc/v528\n",
      "processing dir /mnt/build/workspace/root-makedoc-v618/rootspi/rdoc/src/v6-18-00-patches.build/tutorials/doc/v534\n",
      "processing dir /mnt/build/workspace/root-makedoc-v618/rootspi/rdoc/src/v6-18-00-patches.build/tutorials/doc/v600\n",
      "processing dir /mnt/build/workspace/root-makedoc-v618/rootspi/rdoc/src/v6-18-00-patches.build/tutorials/doc/v530\n",
      "processing dir /mnt/build/workspace/root-makedoc-v618/rootspi/rdoc/src/v6-18-00-patches.build/tutorials/doc/v602\n",
      "processing dir /mnt/build/workspace/root-makedoc-v618/rootspi/rdoc/src/v6-18-00-patches.build/tutorials/multicore\n",
      "processing dir /mnt/build/workspace/root-makedoc-v618/rootspi/rdoc/src/v6-18-00-patches.build/tutorials/cont\n",
      "processing dir /mnt/build/workspace/root-makedoc-v618/rootspi/rdoc/src/v6-18-00-patches.build/tutorials/gl\n",
      "processing dir /mnt/build/workspace/root-makedoc-v618/rootspi/rdoc/src/v6-18-00-patches.build/tutorials/http\n",
      "processing dir /mnt/build/workspace/root-makedoc-v618/rootspi/rdoc/src/v6-18-00-patches.build/tutorials/memstat\n",
      "processing dir /mnt/build/workspace/root-makedoc-v618/rootspi/rdoc/src/v6-18-00-patches.build/tutorials/xml\n",
      "processing dir /mnt/build/workspace/root-makedoc-v618/rootspi/rdoc/src/v6-18-00-patches.build/tutorials/proof\n",
      "processing dir /mnt/build/workspace/root-makedoc-v618/rootspi/rdoc/src/v6-18-00-patches.build/tutorials/hist\n",
      "processing dir /mnt/build/workspace/root-makedoc-v618/rootspi/rdoc/src/v6-18-00-patches.build/tutorials/hist/data\n",
      "processing dir /mnt/build/workspace/root-makedoc-v618/rootspi/rdoc/src/v6-18-00-patches.build/tutorials/eve\n",
      "processing dir /mnt/build/workspace/root-makedoc-v618/rootspi/rdoc/src/v6-18-00-patches.build/tutorials/splot\n",
      "processing dir /mnt/build/workspace/root-makedoc-v618/rootspi/rdoc/src/v6-18-00-patches.build/tutorials/net\n",
      "processing dir /mnt/build/workspace/root-makedoc-v618/rootspi/rdoc/src/v6-18-00-patches.build/tutorials/geom\n",
      "processing dir /mnt/build/workspace/root-makedoc-v618/rootspi/rdoc/src/v6-18-00-patches.build/tutorials/geom/gdml\n",
      "processing dir /mnt/build/workspace/root-makedoc-v618/rootspi/rdoc/src/v6-18-00-patches.build/tutorials/quadp\n",
      "processing dir /mnt/build/workspace/root-makedoc-v618/rootspi/rdoc/src/v6-18-00-patches.build/tutorials/image\n",
      "processing dir /mnt/build/workspace/root-makedoc-v618/rootspi/rdoc/src/v6-18-00-patches.build/tutorials/fitsio\n",
      "processing dir /mnt/build/workspace/root-makedoc-v618/rootspi/rdoc/src/v6-18-00-patches.build/tutorials/tree\n",
      "processing dir /mnt/build/workspace/root-makedoc-v618/rootspi/rdoc/src/v6-18-00-patches.build/tutorials/mlp\n",
      "processing dir /mnt/build/workspace/root-makedoc-v618/rootspi/rdoc/src/v6-18-00-patches.build/tutorials/vecops\n",
      "processing dir /mnt/build/workspace/root-makedoc-v618/rootspi/rdoc/src/v6-18-00-patches.build/tutorials/fft\n",
      "processing dir /mnt/build/workspace/root-makedoc-v618/rootspi/rdoc/src/v6-18-00-patches.build/tutorials/gui\n",
      "processing dir /mnt/build/workspace/root-makedoc-v618/rootspi/rdoc/src/v6-18-00-patches.build/tutorials/sql\n",
      "processing dir /mnt/build/workspace/root-makedoc-v618/rootspi/rdoc/src/v6-18-00-patches.build/tutorials/roostats\n",
      "processing dir /mnt/build/workspace/root-makedoc-v618/rootspi/rdoc/src/v6-18-00-patches.build/tutorials/foam\n",
      "processing dir /mnt/build/workspace/root-makedoc-v618/rootspi/rdoc/src/v6-18-00-patches.build/tutorials/cocoa\n",
      "processing dir /mnt/build/workspace/root-makedoc-v618/rootspi/rdoc/src/v6-18-00-patches.build/tutorials/eve7\n",
      "processing dir /mnt/build/workspace/root-makedoc-v618/rootspi/rdoc/src/v6-18-00-patches.build/tutorials/unuran\n",
      "processing dir /mnt/build/workspace/root-makedoc-v618/rootspi/rdoc/src/v6-18-00-patches.build/tutorials/unfold\n",
      "processing dir /mnt/build/workspace/root-makedoc-v618/rootspi/rdoc/src/v6-18-00-patches.build/tutorials/graphs\n",
      "processing dir /mnt/build/workspace/root-makedoc-v618/rootspi/rdoc/src/v6-18-00-patches.build/tutorials/fit\n",
      "processing dir /mnt/build/workspace/root-makedoc-v618/rootspi/rdoc/src/v6-18-00-patches.build/tutorials/histfactory\n",
      "processing dir /mnt/build/workspace/root-makedoc-v618/rootspi/rdoc/src/v6-18-00-patches.build/tutorials/v7\n",
      "processing dir /mnt/build/workspace/root-makedoc-v618/rootspi/rdoc/src/v6-18-00-patches.build/tutorials/v7/ntuple\n",
      "processing dir /mnt/build/workspace/root-makedoc-v618/rootspi/rdoc/src/v6-18-00-patches.build/tutorials/mc\n",
      "processing dir /mnt/build/workspace/root-makedoc-v618/rootspi/rdoc/src/v6-18-00-patches.build/tutorials/physics\n",
      "processing dir /mnt/build/workspace/root-makedoc-v618/rootspi/rdoc/src/v6-18-00-patches.build/tutorials/roofit\n",
      "processing dir /mnt/build/workspace/root-makedoc-v618/rootspi/rdoc/src/v6-18-00-patches.build/tutorials/pyroot\n",
      "processing dir /mnt/build/workspace/root-makedoc-v618/rootspi/rdoc/src/v6-18-00-patches.build/tutorials/io\n",
      "processing dir /mnt/build/workspace/root-makedoc-v618/rootspi/rdoc/src/v6-18-00-patches.build/tutorials/html\n",
      "processing dir /mnt/build/workspace/root-makedoc-v618/rootspi/rdoc/src/v6-18-00-patches.build/tutorials/tmva\n",
      "processing dir /mnt/build/workspace/root-makedoc-v618/rootspi/rdoc/src/v6-18-00-patches.build/tutorials/tmva/envelope\n",
      "processing dir /mnt/build/workspace/root-makedoc-v618/rootspi/rdoc/src/v6-18-00-patches.build/tutorials/tmva/data\n",
      "processing dir /mnt/build/workspace/root-makedoc-v618/rootspi/rdoc/src/v6-18-00-patches.build/tutorials/tmva/keras\n",
      "processing dir /mnt/build/workspace/root-makedoc-v618/rootspi/rdoc/src/v6-18-00-patches.build/tutorials/r\n",
      "processing dir /mnt/build/workspace/root-makedoc-v618/rootspi/rdoc/src/v6-18-00-patches.build/tutorials/graphics\n",
      "processing dir /mnt/build/workspace/root-makedoc-v618/rootspi/rdoc/src/v6-18-00-patches.build/tutorials/matrix\n"
     ]
    }
   ],
   "source": [
    "TFile *f = new TFile(\"code.root\",\"recreate\");\n",
    "TString dir = gROOT->GetTutorialDir();\n",
    "importdir(gSystem->UnixPathName(dir.Data())); //change the directory as you like\n",
    "delete f;"
   ]
  }
 ],
 "metadata": {
  "kernelspec": {
   "display_name": "ROOT C++",
   "language": "c++",
   "name": "root"
  },
  "language_info": {
   "codemirror_mode": "text/x-c++src",
   "file_extension": ".C",
   "mimetype": " text/x-c++src",
   "name": "c++"
  }
 },
 "nbformat": 4,
 "nbformat_minor": 2
}
