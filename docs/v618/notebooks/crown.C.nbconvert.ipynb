{
 "cells": [
  {
   "cell_type": "markdown",
   "metadata": {},
   "source": [
    "# Crown\n",
    "Draw crowns.\n",
    "\n",
    "\n",
    "\n",
    "\n",
    "**Author:** Olivier Couet  \n",
    "<i><small>This notebook tutorial was automatically generated with <a href= \"https://github.com/root-project/root/blob/master/documentation/doxygen/converttonotebook.py\">ROOTBOOK-izer</a> from the macro found in the ROOT repository  on Thursday, August 29, 2019 at 01:39 AM.</small></i>"
   ]
  },
  {
   "cell_type": "code",
   "execution_count": 1,
   "metadata": {
    "collapsed": false
   },
   "outputs": [],
   "source": [
    "TCanvas *c1 = new TCanvas(\"c1\",\"c1\",400,400);\n",
    "TCrown *cr1 = new TCrown(.5,.5,.3,.4);\n",
    "cr1->SetLineStyle(2);\n",
    "cr1->SetLineWidth(4);\n",
    "cr1->Draw();\n",
    "TCrown *cr2 = new TCrown(.5,.5,.2,.3,45,315);\n",
    "cr2->SetFillColor(38);\n",
    "cr2->SetFillStyle(3010);\n",
    "cr2->Draw();\n",
    "TCrown *cr3 = new TCrown(.5,.5,.2,.3,-45,45);\n",
    "cr3->SetFillColor(50);\n",
    "cr3->SetFillStyle(3025);\n",
    "cr3->Draw();\n",
    "TCrown *cr4 = new TCrown(.5,.5,.0,.2);\n",
    "cr4->SetFillColor(4);\n",
    "cr4->SetFillStyle(3008);\n",
    "cr4->Draw();\n",
    "return c1;"
   ]
  },
  {
   "cell_type": "markdown",
   "metadata": {},
   "source": [
    "Draw all canvases "
   ]
  },
  {
   "cell_type": "code",
   "execution_count": 2,
   "metadata": {
    "collapsed": false
   },
   "outputs": [
    {
     "data": {
      "image/png": "[encoded data removed]",
      "text/plain": [
       "<IPython.core.display.Image object>"
      ]
     },
     "metadata": {},
     "output_type": "display_data"
    }
   ],
   "source": [
    "gROOT->GetListOfCanvases()->Draw()"
   ]
  }
 ],
 "metadata": {
  "kernelspec": {
   "display_name": "ROOT C++",
   "language": "c++",
   "name": "root"
  },
  "language_info": {
   "codemirror_mode": "text/x-c++src",
   "file_extension": ".C",
   "mimetype": " text/x-c++src",
   "name": "c++"
  }
 },
 "nbformat": 4,
 "nbformat_minor": 2
}
