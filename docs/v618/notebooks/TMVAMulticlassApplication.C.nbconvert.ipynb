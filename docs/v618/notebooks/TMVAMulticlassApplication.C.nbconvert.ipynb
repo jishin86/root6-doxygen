{
 "cells": [
  {
   "cell_type": "markdown",
   "metadata": {},
   "source": [
    "#  T M V A Multiclass Application\n",
    "This macro provides a simple example on how to use the trained multiclass\n",
    "classifiers within an analysis module\n",
    "- Project   : TMVA - a Root-integrated toolkit for multivariate data analysis\n",
    "- Package   : TMVA\n",
    "- Root Macro: TMVAMulticlassApplication\n",
    "\n",
    "\n",
    "\n",
    "**Author:** Andreas Hoecker  \n",
    "<i><small>This notebook tutorial was automatically generated with <a href= \"https://github.com/root-project/root/blob/master/documentation/doxygen/converttonotebook.py\">ROOTBOOK-izer</a> from the macro found in the ROOT repository  on Thursday, August 29, 2019 at 03:50 AM.</small></i>"
   ]
  },
  {
   "cell_type": "code",
   "execution_count": 1,
   "metadata": {
    "collapsed": false
   },
   "outputs": [],
   "source": [
    "%%cpp -d\n",
    "#include <cstdlib>\n",
    "#include <iostream>\n",
    "#include <map>\n",
    "#include <string>\n",
    "#include <vector>\n",
    "\n",
    "#include \"TFile.h\"\n",
    "#include \"TTree.h\"\n",
    "#include \"TString.h\"\n",
    "#include \"TSystem.h\"\n",
    "#include \"TROOT.h\"\n",
    "#include \"TStopwatch.h\"\n",
    "#include \"TH1F.h\"\n",
    "\n",
    "#include \"TMVA/Tools.h\"\n",
    "#include \"TMVA/Reader.h\"\n",
    "\n",
    "using namespace TMVA;"
   ]
  },
  {
   "cell_type": "markdown",
   "metadata": {},
   "source": [
    " Arguments are defined. "
   ]
  },
  {
   "cell_type": "code",
   "execution_count": 2,
   "metadata": {
    "collapsed": false
   },
   "outputs": [],
   "source": [
    "TString myMethodList = \"\";"
   ]
  },
  {
   "cell_type": "code",
   "execution_count": 3,
   "metadata": {
    "collapsed": false
   },
   "outputs": [],
   "source": [
    "TMVA::Tools::Instance();"
   ]
  },
  {
   "cell_type": "markdown",
   "metadata": {},
   "source": [
    "---------------------------------------------------------------\n",
    " Default MVA methods to be trained + tested"
   ]
  },
  {
   "cell_type": "code",
   "execution_count": 4,
   "metadata": {
    "collapsed": false
   },
   "outputs": [],
   "source": [
    "std::map<std::string,int> Use;\n",
    "Use[\"MLP\"]             = 1;\n",
    "Use[\"BDTG\"]            = 1;\n",
    "Use[\"DNN_CPU\"] = 0;\n",
    "Use[\"FDA_GA\"]          = 0;\n",
    "Use[\"PDEFoam\"]         = 0;"
   ]
  },
  {
   "cell_type": "markdown",
   "metadata": {},
   "source": [
    "---------------------------------------------------------------"
   ]
  },
  {
   "cell_type": "code",
   "execution_count": 5,
   "metadata": {
    "collapsed": false
   },
   "outputs": [
    {
     "name": "stdout",
     "output_type": "stream",
     "text": [
      "\n",
      "==> Start TMVAMulticlassApp\n"
     ]
    }
   ],
   "source": [
    "std::cout << std::endl;\n",
    "std::cout << \"==> Start TMVAMulticlassApp\" << std::endl;\n",
    "if (myMethodList != \"\") {\n",
    "   for (std::map<std::string,int>::iterator it = Use.begin(); it != Use.end(); it++) it->second = 0;\n",
    "\n",
    "   std::vector<TString> mlist = gTools().SplitString( myMethodList, ',' );\n",
    "   for (UInt_t i=0; i<mlist.size(); i++) {\n",
    "      std::string regMethod(mlist[i]);\n",
    "\n",
    "      if (Use.find(regMethod) == Use.end()) {\n",
    "         std::cout << \"Method \\\"\" << regMethod << \"\\\" not known in TMVA under this name. Choose among the following:\" << std::endl;\n",
    "         for (std::map<std::string,int>::iterator it = Use.begin(); it != Use.end(); it++) std::cout << it->first << \" \" << std::endl;\n",
    "         std::cout << std::endl;\n",
    "         return;\n",
    "      }\n",
    "      Use[regMethod] = 1;\n",
    "   }\n",
    "}"
   ]
  },
  {
   "cell_type": "markdown",
   "metadata": {},
   "source": [
    "Create the reader object"
   ]
  },
  {
   "cell_type": "code",
   "execution_count": 6,
   "metadata": {
    "collapsed": false
   },
   "outputs": [],
   "source": [
    "TMVA::Reader *reader = new TMVA::Reader( \"!Color:!Silent\" );"
   ]
  },
  {
   "cell_type": "markdown",
   "metadata": {},
   "source": [
    "Create a set of variables and declare them to the reader\n",
    " - the variable names must corresponds in name and type to\n",
    " those given in the weight file(s) that you use"
   ]
  },
  {
   "cell_type": "code",
   "execution_count": 7,
   "metadata": {
    "collapsed": false
   },
   "outputs": [],
   "source": [
    "Float_t var1, var2, var3, var4;\n",
    "reader->AddVariable( \"var1\", &var1 );\n",
    "reader->AddVariable( \"var2\", &var2 );\n",
    "reader->AddVariable( \"var3\", &var3 );\n",
    "reader->AddVariable( \"var4\", &var4 );"
   ]
  },
  {
   "cell_type": "markdown",
   "metadata": {},
   "source": [
    "Book the mva methods"
   ]
  },
  {
   "cell_type": "code",
   "execution_count": 8,
   "metadata": {
    "collapsed": false
   },
   "outputs": [
    {
     "name": "stdout",
     "output_type": "stream",
     "text": [
      "                         : Booking \"BDTG method\" of type \"BDT\" from dataset/weights/TMVAMulticlass_BDTG.weights.xml.\n",
      "                         : Reading weight file: dataset/weights/TMVAMulticlass_BDTG.weights.xml\n",
      "<HEADER> DataSetInfo              : [Default] : Added class \"Signal\"\n",
      "<HEADER> DataSetInfo              : [Default] : Added class \"bg0\"\n",
      "<HEADER> DataSetInfo              : [Default] : Added class \"bg1\"\n",
      "<HEADER> DataSetInfo              : [Default] : Added class \"bg2\"\n",
      "                         : Booked classifier \"BDTG\" of type: \"BDT\"\n",
      "                         : Booking \"MLP method\" of type \"MLP\" from dataset/weights/TMVAMulticlass_MLP.weights.xml.\n",
      "                         : Reading weight file: dataset/weights/TMVAMulticlass_MLP.weights.xml\n",
      "<HEADER> MLP                      : Building Network. \n",
      "                         : Initializing weights\n",
      "                         : Booked classifier \"MLP\" of type: \"MLP\"\n"
     ]
    }
   ],
   "source": [
    "TString dir    = \"dataset/weights/\";\n",
    "TString prefix = \"TMVAMulticlass\";\n",
    "\n",
    "for (std::map<std::string,int>::iterator it = Use.begin(); it != Use.end(); it++) {\n",
    "   if (it->second) {\n",
    "     TString methodName = TString(it->first) + TString(\" method\");\n",
    "     TString weightfile = dir + prefix + TString(\"_\") + TString(it->first) + TString(\".weights.xml\");\n",
    "     reader->BookMVA( methodName, weightfile );\n",
    "   }\n",
    "}"
   ]
  },
  {
   "cell_type": "markdown",
   "metadata": {},
   "source": [
    "Book output histograms"
   ]
  },
  {
   "cell_type": "code",
   "execution_count": 9,
   "metadata": {
    "collapsed": false
   },
   "outputs": [
    {
     "name": "stdout",
     "output_type": "stream",
     "text": [
      "--- TMVAMulticlassApp : Using input file: ./tmva_example_multiple_background.root\n"
     ]
    }
   ],
   "source": [
    "UInt_t nbin = 100;\n",
    "TH1F *histMLP_signal(0), *histBDTG_signal(0), *histFDAGA_signal(0), *histPDEFoam_signal(0), *histDNNCPU_signal(0);\n",
    "if (Use[\"MLP\"])\n",
    "   histMLP_signal    = new TH1F( \"MVA_MLP_signal\",    \"MVA_MLP_signal\",    nbin, 0., 1.1 );\n",
    "if (Use[\"BDTG\"])\n",
    "   histBDTG_signal  = new TH1F( \"MVA_BDTG_signal\",   \"MVA_BDTG_signal\",   nbin, 0., 1.1 );\n",
    "if (Use[\"DNN_CPU\"]) histDNNCPU_signal = new TH1F(\"MVA_DNNCPU_signal\", \"MVA_DNNCPU_signal\", nbin, 0., 1.1);\n",
    "if (Use[\"FDA_GA\"])\n",
    "   histFDAGA_signal = new TH1F( \"MVA_FDA_GA_signal\", \"MVA_FDA_GA_signal\", nbin, 0., 1.1 );\n",
    "if (Use[\"PDEFoam\"])\n",
    "   histPDEFoam_signal = new TH1F( \"MVA_PDEFoam_signal\", \"MVA_PDEFoam_signal\", nbin, 0., 1.1 );\n",
    "\n",
    "\n",
    "TFile *input(0);\n",
    "TString fname = \"./tmva_example_multiple_background.root\";\n",
    "if (!gSystem->AccessPathName( fname )) {\n",
    "   input = TFile::Open( fname ); // check if file in local directory exists\n",
    "}\n",
    "if (!input) {\n",
    "   std::cout << \"ERROR: could not open data file, please generate example data first!\" << std::endl;\n",
    "   exit(1);\n",
    "}\n",
    "std::cout << \"--- TMVAMulticlassApp : Using input file: \" << input->GetName() << std::endl;"
   ]
  },
  {
   "cell_type": "markdown",
   "metadata": {},
   "source": [
    "Prepare the tree\n",
    " - here the variable names have to corresponds to your tree\n",
    " - you can use the same variables as above which is slightly faster,\n",
    "   but of course you can use different ones and copy the values inside the event loop"
   ]
  },
  {
   "cell_type": "code",
   "execution_count": 10,
   "metadata": {
    "collapsed": false
   },
   "outputs": [
    {
     "name": "stdout",
     "output_type": "stream",
     "text": [
      "--- Select signal sample\n",
      "--- Processing: 2000 events\n",
      "--- ... Processing event: 0\n",
      "--- ... Processing event: 1000\n"
     ]
    }
   ],
   "source": [
    "TTree* theTree = (TTree*)input->Get(\"TreeS\");\n",
    "std::cout << \"--- Select signal sample\" << std::endl;\n",
    "theTree->SetBranchAddress( \"var1\", &var1 );\n",
    "theTree->SetBranchAddress( \"var2\", &var2 );\n",
    "theTree->SetBranchAddress( \"var3\", &var3 );\n",
    "theTree->SetBranchAddress( \"var4\", &var4 );\n",
    "\n",
    "std::cout << \"--- Processing: \" << theTree->GetEntries() << \" events\" << std::endl;\n",
    "TStopwatch sw;\n",
    "sw.Start();\n",
    "\n",
    "for (Long64_t ievt=0; ievt<theTree->GetEntries();ievt++) {\n",
    "   if (ievt%1000 == 0){\n",
    "      std::cout << \"--- ... Processing event: \" << ievt << std::endl;\n",
    "   }\n",
    "   theTree->GetEntry(ievt);\n",
    "\n",
    "   if (Use[\"MLP\"])\n",
    "      histMLP_signal->Fill((reader->EvaluateMulticlass( \"MLP method\" ))[0]);\n",
    "   if (Use[\"BDTG\"])\n",
    "      histBDTG_signal->Fill((reader->EvaluateMulticlass( \"BDTG method\" ))[0]);\n",
    "   if (Use[\"DNN_CPU\"]) histDNNCPU_signal->Fill((reader->EvaluateMulticlass(\"DNN_CPU method\"))[0]);\n",
    "   if (Use[\"FDA_GA\"])\n",
    "      histFDAGA_signal->Fill((reader->EvaluateMulticlass( \"FDA_GA method\" ))[0]);\n",
    "   if (Use[\"PDEFoam\"])\n",
    "      histPDEFoam_signal->Fill((reader->EvaluateMulticlass( \"PDEFoam method\" ))[0]);\n",
    "\n",
    "}"
   ]
  },
  {
   "cell_type": "markdown",
   "metadata": {},
   "source": [
    "Get elapsed time"
   ]
  },
  {
   "cell_type": "code",
   "execution_count": 11,
   "metadata": {
    "collapsed": false
   },
   "outputs": [
    {
     "name": "stdout",
     "output_type": "stream",
     "text": [
      "--- End of event loop: Real time 0:00:00, CP time 0.640\n",
      "--- Created root file: \"TMVMulticlassApp.root\" containing the MVA output histograms\n",
      "==> TMVAMulticlassApp is done!\n",
      "\n"
     ]
    }
   ],
   "source": [
    "sw.Stop();\n",
    "std::cout << \"--- End of event loop: \"; sw.Print();\n",
    "\n",
    "TFile *target  = new TFile( \"TMVAMulticlassApp.root\",\"RECREATE\" );\n",
    "if (Use[\"MLP\"])\n",
    "   histMLP_signal->Write();\n",
    "if (Use[\"BDTG\"])\n",
    "   histBDTG_signal->Write();\n",
    "if (Use[\"DNN_CPU\"]) histDNNCPU_signal->Write();\n",
    "if (Use[\"FDA_GA\"])\n",
    "   histFDAGA_signal->Write();\n",
    "if (Use[\"PDEFoam\"])\n",
    "   histPDEFoam_signal->Write();\n",
    "\n",
    "target->Close();\n",
    "std::cout << \"--- Created root file: \\\"TMVMulticlassApp.root\\\" containing the MVA output histograms\" << std::endl;\n",
    "\n",
    "delete reader;\n",
    "\n",
    "std::cout << \"==> TMVAMulticlassApp is done!\" << std::endl << std::endl;"
   ]
  }
 ],
 "metadata": {
  "kernelspec": {
   "display_name": "ROOT C++",
   "language": "c++",
   "name": "root"
  },
  "language_info": {
   "codemirror_mode": "text/x-c++src",
   "file_extension": ".C",
   "mimetype": " text/x-c++src",
   "name": "c++"
  }
 },
 "nbformat": 4,
 "nbformat_minor": 2
}
