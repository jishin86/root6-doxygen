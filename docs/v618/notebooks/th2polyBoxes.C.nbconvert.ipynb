{
 "cells": [
  {
   "cell_type": "markdown",
   "metadata": {},
   "source": [
    "# Th 2Poly Boxes\n",
    "This tutorial illustrates how to create an histogram with polygonal\n",
    "bins (TH2Poly). The bins are boxes.\n",
    "\n",
    "\n",
    "\n",
    "\n",
    "**Author:** Olivier Couet  \n",
    "<i><small>This notebook tutorial was automatically generated with <a href= \"https://github.com/root-project/root/blob/master/documentation/doxygen/converttonotebook.py\">ROOTBOOK-izer</a> from the macro found in the ROOT repository  on Thursday, August 29, 2019 at 01:58 AM.</small></i>"
   ]
  },
  {
   "cell_type": "code",
   "execution_count": 1,
   "metadata": {
    "collapsed": false
   },
   "outputs": [],
   "source": [
    "TCanvas *ch2p2 = new TCanvas(\"ch2p2\",\"ch2p2\",600,400);\n",
    "gStyle->SetPalette(57);\n",
    "TH2Poly *h2p = new TH2Poly();\n",
    "h2p->SetName(\"Boxes\");\n",
    "h2p->SetTitle(\"Boxes\");\n",
    "\n",
    "Int_t i,j;\n",
    "Int_t nx = 40;\n",
    "Int_t ny = 40;\n",
    "Double_t xval1,yval1,xval2,yval2;\n",
    "Double_t dx=0.2, dy=0.1;\n",
    "xval1 = 0.;\n",
    "xval2 = dx;\n",
    "\n",
    "for (i = 0; i<nx; i++) {\n",
    "   yval1 = 0.;\n",
    "   yval2 = dy;\n",
    "   for (j = 0; j<ny; j++) {\n",
    "      h2p->AddBin(xval1, yval1, xval2, yval2);\n",
    "      yval1 = yval2;\n",
    "      yval2 = yval2+yval2*dy;\n",
    "   }\n",
    "   xval1 = xval2;\n",
    "   xval2 = xval2+xval2*dx;\n",
    "}\n",
    "\n",
    "TRandom ran;\n",
    "for (i = 0; i<300000; i++) {\n",
    "   h2p->Fill(50*ran.Gaus(2.,1), ran.Gaus(2.,1));\n",
    "}\n",
    "\n",
    "h2p->Draw(\"COLZ\");\n",
    "return ch2p2;"
   ]
  },
  {
   "cell_type": "markdown",
   "metadata": {},
   "source": [
    "Draw all canvases "
   ]
  },
  {
   "cell_type": "code",
   "execution_count": 2,
   "metadata": {
    "collapsed": false
   },
   "outputs": [
    {
     "data": {
      "image/png": "[encoded data removed]",
      "text/plain": [
       "<IPython.core.display.Image object>"
      ]
     },
     "metadata": {},
     "output_type": "display_data"
    }
   ],
   "source": [
    "gROOT->GetListOfCanvases()->Draw()"
   ]
  }
 ],
 "metadata": {
  "kernelspec": {
   "display_name": "ROOT C++",
   "language": "c++",
   "name": "root"
  },
  "language_info": {
   "codemirror_mode": "text/x-c++src",
   "file_extension": ".C",
   "mimetype": " text/x-c++src",
   "name": "c++"
  }
 },
 "nbformat": 4,
 "nbformat_minor": 2
}
