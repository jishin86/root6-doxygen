{
 "cells": [
  {
   "cell_type": "markdown",
   "metadata": {},
   "source": [
    "#  F I T S_Tutorial 5\n",
    "\n",
    "Open a FITS file whose primary array represents\n",
    "a spectrum (flux vs wavelength)\n",
    "\n",
    "\n",
    "\n",
    "\n",
    "**Author:** Claudi Martinez  \n",
    "<i><small>This notebook tutorial was automatically generated with <a href= \"https://github.com/root-project/root/blob/master/documentation/doxygen/converttonotebook.py\">ROOTBOOK-izer</a> from the macro found in the ROOT repository  on Thursday, August 29, 2019 at 01:36 AM.</small></i>"
   ]
  },
  {
   "cell_type": "code",
   "execution_count": 1,
   "metadata": {
    "collapsed": false
   },
   "outputs": [],
   "source": [
    "using Upvd_t = std::unique_ptr<TVectorD>;"
   ]
  },
  {
   "cell_type": "markdown",
   "metadata": {},
   "source": [
    "We open a fits file that contains a table with 9 rows and 8 columns. column 4 has name\n",
    " 'mag' and contains a vector of 6 numeric components. The values of vectors in rows 1 and 2 (column 4) are:\n",
    " Row1: (99.0, 24.768, 23.215, 21.68, 21.076, 20.857)\n",
    " Row2: (99.0, 21.689, 20.206, 18.86, 18.32 , 18.128 )\n",
    " WARNING: when coding, row and column indices start from 0"
   ]
  },
  {
   "cell_type": "code",
   "execution_count": 2,
   "metadata": {
    "collapsed": false
   },
   "outputs": [],
   "source": [
    "TString dir = gROOT->GetTutorialDir();"
   ]
  },
  {
   "cell_type": "markdown",
   "metadata": {},
   "source": [
    "Open the table"
   ]
  },
  {
   "cell_type": "code",
   "execution_count": 3,
   "metadata": {
    "collapsed": false
   },
   "outputs": [],
   "source": [
    "TFITSHDU hdu(dir + \"/fitsio/sample4.fits[1]\");"
   ]
  },
  {
   "cell_type": "markdown",
   "metadata": {},
   "source": [
    "Read vectors at rows 1 and 2 (indices 0 and 1)"
   ]
  },
  {
   "cell_type": "code",
   "execution_count": 4,
   "metadata": {
    "collapsed": false
   },
   "outputs": [
    {
     "name": "stdout",
     "output_type": "stream",
     "text": [
      "99, 24.768, 23.215, 21.68, 21.076, 20.857)\n",
      "99, 21.689, 20.206, 18.86, 18.32, 18.128)\n"
     ]
    }
   ],
   "source": [
    "std::array<Upvd_t, 2> vs{Upvd_t(hdu.GetTabRealVectorCell(0, \"mag\")), Upvd_t(hdu.GetTabRealVectorCell(1, \"mag\"))};\n",
    "for (auto &&v : vs) {\n",
    "   for(auto i : ROOT::TSeqI(v->GetNoElements())) {\n",
    "      if (i > 0)\n",
    "         printf(\", \");\n",
    "      printf(\"%lg\", (*v)[i]); // NOTE: the asterisk is for using the overloaded [] operator of the TVectorD object\n",
    "   }\n",
    "   printf(\")\\n\");\n",
    "}"
   ]
  },
  {
   "cell_type": "markdown",
   "metadata": {},
   "source": [
    "We now dump all rows using the function gettabrealvectorcells()"
   ]
  },
  {
   "cell_type": "code",
   "execution_count": 5,
   "metadata": {
    "collapsed": false
   },
   "outputs": [
    {
     "name": "stdout",
     "output_type": "stream",
     "text": [
      "99, 24.768, 23.215, 21.68, 21.076, 20.857)\n",
      "99, 21.689, 20.206, 18.86, 18.32, 18.128)\n",
      "99, 23.993, 22.575, 21.51, 21.07, 20.915)\n",
      "99, 22.26, 20.717, 19.404, 18.888, 18.706)\n",
      "99, 21.957, 20.41, 18.874, 18.271, 18.054)\n",
      "99, 22.113, 20.535, 18.872, 18.229, 17.995)\n",
      "99, 22.177, 20.678, 19.275, 18.714, 18.513)\n",
      "99, 23.394, 21.846, 20.27, 19.649, 19.424)\n",
      "99, 23.094, 21.452, 19.482, 18.723, 18.434)\n"
     ]
    }
   ],
   "source": [
    "std::unique_ptr<TObjArray> vectorCollection(hdu.GetTabRealVectorCells(\"mag\"));\n",
    "for (auto vObj : *vectorCollection) {\n",
    "   auto &v = *static_cast<TVectorD*>(vObj);\n",
    "   for (auto i : ROOT::TSeqI(v.GetNoElements())) {\n",
    "      if (i > 0) printf(\", \");\n",
    "      printf(\"%lg\", (v[i]));\n",
    "   }\n",
    "   printf(\")\\n\");\n",
    "}"
   ]
  },
  {
   "cell_type": "markdown",
   "metadata": {},
   "source": [
    "Draw all canvases "
   ]
  },
  {
   "cell_type": "code",
   "execution_count": 6,
   "metadata": {
    "collapsed": false
   },
   "outputs": [],
   "source": [
    "gROOT->GetListOfCanvases()->Draw()"
   ]
  }
 ],
 "metadata": {
  "kernelspec": {
   "display_name": "ROOT C++",
   "language": "c++",
   "name": "root"
  },
  "language_info": {
   "codemirror_mode": "text/x-c++src",
   "file_extension": ".C",
   "mimetype": " text/x-c++src",
   "name": "c++"
  }
 },
 "nbformat": 4,
 "nbformat_minor": 2
}
