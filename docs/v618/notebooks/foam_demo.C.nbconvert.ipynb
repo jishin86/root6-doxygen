{
 "cells": [
  {
   "cell_type": "markdown",
   "metadata": {},
   "source": [
    "# Foam_Demo\n",
    "Demonstrate the TFoam class.\n",
    "\n",
    " To run this macro type from CINT command line\n",
    "\n",
    "```cpp\n",
    " root [0] gSystem->Load(\"libFoam.so\")\n",
    " root [1] .x foam_demo.C+\n",
    "```\n",
    "\n",
    "\n",
    "\n",
    "\n",
    "**Author:** Stascek Jadach  \n",
    "<i><small>This notebook tutorial was automatically generated with <a href= \"https://github.com/root-project/root/blob/master/documentation/doxygen/converttonotebook.py\">ROOTBOOK-izer</a> from the macro found in the ROOT repository  on Thursday, August 29, 2019 at 01:36 AM.</small></i>"
   ]
  },
  {
   "cell_type": "code",
   "execution_count": 1,
   "metadata": {
    "collapsed": false
   },
   "outputs": [],
   "source": [
    "%%cpp -d\n",
    "#include \"Riostream.h\"\n",
    "#include \"TFile.h\"\n",
    "#include \"TFoam.h\"\n",
    "#include \"TH1.h\"\n",
    "#include \"TMath.h\"\n",
    "#include \"TFoamIntegrand.h\"\n",
    "#include \"TRandom3.h\"\n",
    "\n",
    "class TFDISTR: public TFoamIntegrand {\n",
    "public:\n",
    "   TFDISTR(){};\n",
    "   Double_t Density(int nDim, Double_t *Xarg){\n",
    "   // Integrand for mFOAM\n",
    "   Double_t Fun1,Fun2,R1,R2;\n",
    "   Double_t pos1=1e0/3e0;\n",
    "   Double_t pos2=2e0/3e0;\n",
    "   Double_t Gam1= 0.100e0;  // as in JPC\n",
    "   Double_t Gam2= 0.100e0;  // as in JPC\n",
    "   Double_t sPi = sqrt(TMath::Pi());\n",
    "   Double_t xn1=1e0;\n",
    "   Double_t xn2=1e0;\n",
    "   int i;\n",
    "   R1=0;\n",
    "   R2=0;\n",
    "   for(i = 0 ; i<nDim ; i++){\n",
    "      R1=R1+(Xarg[i] -pos1)*(Xarg[i] -pos1);\n",
    "      R2=R2+(Xarg[i] -pos2)*(Xarg[i] -pos2);\n",
    "      xn1=xn1*Gam1*sPi;\n",
    "      xn2=xn2*Gam2*sPi;\n",
    "   }\n",
    "   R1   = sqrt(R1);\n",
    "   R2   = sqrt(R2);\n",
    "   Fun1 = exp(-(R1*R1)/(Gam1*Gam1))/xn1;  // Gaussian delta-like profile\n",
    "   Fun2 = exp(-(R2*R2)/(Gam2*Gam2))/xn2;  // Gaussian delta-like profile\n",
    "   return 0.5e0*(Fun1+ Fun2);\n",
    "}\n",
    "  ClassDef(TFDISTR,1) //Class of testing functions for FOAM\n",
    "};\n",
    "ClassImp(TFDISTR)"
   ]
  },
  {
   "cell_type": "code",
   "execution_count": 2,
   "metadata": {
    "collapsed": false
   },
   "outputs": [],
   "source": [
    "TFile RootFile(\"foam_demo.root\",\"RECREATE\",\"histograms\");\n",
    "long   loop;\n",
    "Double_t MCresult,MCerror,MCwt;"
   ]
  },
  {
   "cell_type": "markdown",
   "metadata": {},
   "source": [
    "-----------------------------------------"
   ]
  },
  {
   "cell_type": "code",
   "execution_count": 3,
   "metadata": {
    "collapsed": false
   },
   "outputs": [],
   "source": [
    "long NevTot   =     50000;   // Total MC statistics\n",
    "Int_t  kDim   =         2;   // total dimension\n",
    "Int_t  nCells   =     500;   // Number of Cells\n",
    "Int_t  nSampl   =     200;   // Number of MC events per cell in build-up\n",
    "Int_t  nBin     =       8;   // Number of bins in build-up\n",
    "Int_t  OptRej   =       1;   // Wted events for OptRej=0; wt=1 for OptRej=1 (default)\n",
    "Int_t  OptDrive =       2;   // (D=2) Option, type of Drive =0,1,2 for TrueVol,Sigma,WtMax\n",
    "Int_t  EvPerBin =      25;   // Maximum events (equiv.) per bin in buid-up\n",
    "Int_t  Chat     =       1;   // Chat level"
   ]
  },
  {
   "cell_type": "markdown",
   "metadata": {},
   "source": [
    "-----------------------------------------"
   ]
  },
  {
   "cell_type": "code",
   "execution_count": 4,
   "metadata": {
    "collapsed": false
   },
   "outputs": [],
   "source": [
    "TRandom *PseRan   = new TRandom3();  // Create random number generator\n",
    "TFoam   *FoamX    = new TFoam(\"FoamX\");   // Create Simulator\n",
    "TFoamIntegrand    *rho= new TFDISTR();\n",
    "PseRan->SetSeed(4357);"
   ]
  },
  {
   "cell_type": "markdown",
   "metadata": {},
   "source": [
    "-----------------------------------------"
   ]
  },
  {
   "cell_type": "code",
   "execution_count": 5,
   "metadata": {
    "collapsed": false
   },
   "outputs": [
    {
     "name": "stdout",
     "output_type": "stream",
     "text": [
      "*****   Demonstration Program for Foam version 1.02M    *****\n"
     ]
    }
   ],
   "source": [
    "cout<<\"*****   Demonstration Program for Foam version \"<<FoamX->GetVersion()<<\"    *****\"<<endl;\n",
    "FoamX->SetkDim(        kDim);      // Mandatory!!!\n",
    "FoamX->SetnCells(      nCells);    // optional\n",
    "FoamX->SetnSampl(      nSampl);    // optional\n",
    "FoamX->SetnBin(        nBin);      // optional\n",
    "FoamX->SetOptRej(      OptRej);    // optional\n",
    "FoamX->SetOptDrive(    OptDrive);  // optional\n",
    "FoamX->SetEvPerBin(    EvPerBin);  // optional\n",
    "FoamX->SetChat(        Chat);      // optional"
   ]
  },
  {
   "cell_type": "markdown",
   "metadata": {},
   "source": [
    "-----------------------------------------"
   ]
  },
  {
   "cell_type": "code",
   "execution_count": 6,
   "metadata": {
    "collapsed": false
   },
   "outputs": [
    {
     "name": "stdout",
     "output_type": "stream",
     "text": [
      "FFFFFFFFFFFFFFFFFFFFFFFFFFFFFFFFFFFFFFFFFFFFFFFFFFFFFFFFFFFFFFFFFFFFFFFFFFFFFFFF\n",
      "F                                                                              F\n",
      "F                   ****************************************                   F\n",
      "F                    ******      TFoam::Initialize    ******                   F\n",
      "F                   ****************************************                   F\n",
      "F                                                      FoamX                   F\n",
      "F    Version =           1.02M   =                   Release date:  2005.04.10 F\n",
      "F       kDim =          2 =  Dimension of the hyper-cubical space              F\n",
      "F     nCells =        500 =  Requested number of Cells (half of them active)   F\n",
      "F     nSampl =        200 =  No of MC events in exploration of a cell          F\n",
      "F       nBin =          8 =  No of bins in histograms, MC exploration of cell  F\n",
      "F   EvPerBin =         25 =  Maximum No effective_events/bin, MC exploration   F\n",
      "F   OptDrive =          2 =  Type of Driver   =1,2 for Sigma,WtMax             F\n",
      "F     OptRej =          1 =  MC rejection on/off for OptRej=0,1                F\n",
      "F   MaxWtRej =             1.1   =       Maximum wt in rejection for wt=1 evts F\n",
      "F                                                                              F\n",
      "FFFFFFFFFFFFFFFFFFFFFFFFFFFFFFFFFFFFFFFFFFFFFFFFFFFFFFFFFFFFFFFFFFFFFFFFFFFFFFFF\n",
      "2222222222222222222222222222222222222222222222222\n",
      "FFFFFFFFFFFFFFFFFFFFFFFFFFFFFFFFFFFFFFFFFFFFFFFFFFFFFFFFFFFFFFFFFFFFFFFFFFFFFFFF\n",
      "F                                                                              F\n",
      "F                    ***  TFoam::Initialize FINISHED!!!  ***                   F\n",
      "F     nCalls =      99800 =            Total number of function calls          F\n",
      "F     XPrime =       1.3929609   =     Primary total integral                  F\n",
      "F     XDiver =      0.39362177   =     Driver  total integral                  F\n",
      "F   mcResult =      0.99933914   =     Estimate of the true MC Integral        F\n",
      "F                                                                              F\n",
      "FFFFFFFFFFFFFFFFFFFFFFFFFFFFFFFFFFFFFFFFFFFFFFFFFFFFFFFFFFFFFFFFFFFFFFFFFFFFFFFF\n"
     ]
    }
   ],
   "source": [
    "FoamX->SetRho(rho);\n",
    "FoamX->SetPseRan(PseRan);\n",
    "FoamX->Initialize(); // Initialize simulator\n",
    "FoamX->Write(\"FoamX\");     // Writing Foam on the disk, TESTING PERSISTENCY!!!"
   ]
  },
  {
   "cell_type": "markdown",
   "metadata": {},
   "source": [
    "-----------------------------------------"
   ]
  },
  {
   "cell_type": "code",
   "execution_count": 7,
   "metadata": {
    "collapsed": false
   },
   "outputs": [
    {
     "name": "stdout",
     "output_type": "stream",
     "text": [
      "====== Initialization done, entering MC loop\n"
     ]
    }
   ],
   "source": [
    "long nCalls=FoamX->GetnCalls();\n",
    "cout << \"====== Initialization done, entering MC loop\" << endl;"
   ]
  },
  {
   "cell_type": "markdown",
   "metadata": {},
   "source": [
    "-----------------------------------------"
   ]
  },
  {
   "cell_type": "code",
   "execution_count": 8,
   "metadata": {
    "collapsed": false
   },
   "outputs": [],
   "source": [
    "/*cout<<\" About to start MC loop: \";  cin.getline(question,20);*/\n",
    "Double_t *MCvect =new Double_t[kDim]; // vector generated in the MC run"
   ]
  },
  {
   "cell_type": "markdown",
   "metadata": {},
   "source": [
    "-----------------------------------------"
   ]
  },
  {
   "cell_type": "code",
   "execution_count": 9,
   "metadata": {
    "collapsed": false
   },
   "outputs": [],
   "source": [
    "TH1D  *hst_Wt = new TH1D(\"hst_Wt\" ,  \"Main weight of Foam\",25,0,1.25);\n",
    "hst_Wt->Sumw2();"
   ]
  },
  {
   "cell_type": "markdown",
   "metadata": {},
   "source": [
    "-----------------------------------------"
   ]
  },
  {
   "cell_type": "code",
   "execution_count": 10,
   "metadata": {
    "collapsed": false
   },
   "outputs": [
    {
     "name": "stdout",
     "output_type": "stream",
     "text": [
      "MCwt= 1,  MCvect= 0.68053985 0.69250597 \n",
      "   loop= 0\n",
      "MCwt= 1,  MCvect= 0.39743987 0.22347379 \n",
      "MCwt= 1,  MCvect= 0.41862392 0.37268423 \n",
      "MCwt= 1,  MCvect= 0.33221191 0.37801703 \n",
      "MCwt= 1,  MCvect= 0.32221499 0.25437954 \n",
      "MCwt= 1,  MCvect= 0.61444622 0.60520452 \n",
      "MCwt= 1,  MCvect= 0.30018061 0.38244034 \n",
      "MCwt= 1,  MCvect= 0.76521983 0.777539 \n",
      "MCwt= 1,  MCvect= 0.78407102 0.69301713 \n",
      "MCwt= 1,  MCvect= 0.72028183 0.66087924 \n",
      "MCwt= 1,  MCvect= 0.73255425 0.64108329 \n",
      "MCwt= 1,  MCvect= 0.24614236 0.23288176 \n",
      "MCwt= 1,  MCvect= 0.34828797 0.51862775 \n",
      "MCwt= 1,  MCvect= 0.44052705 0.39626735 \n",
      "MCwt= 1,  MCvect= 0.65947295 0.59166751 \n"
     ]
    }
   ],
   "source": [
    "for(loop=0; loop<NevTot; loop++){\n",
    "/*===============================*/\n",
    "   FoamX->MakeEvent();           // generate MC event\n",
    "/*===============================*/\n",
    "   FoamX->GetMCvect( MCvect);\n",
    "   MCwt=FoamX->GetMCwt();\n",
    "   hst_Wt->Fill(MCwt,1.0);\n",
    "   if(loop<15){\n",
    "      cout<<\"MCwt= \"<<MCwt<<\",  \";\n",
    "      cout<<\"MCvect= \";\n",
    "      for ( Int_t k=0 ; k<kDim ; k++) cout<<MCvect[k]<<\" \"; cout<< endl;\n",
    "   }\n",
    "   if( ((loop)%100000)==0 ){\n",
    "      cout<<\"   loop= \"<<loop<<endl;\n",
    "   }\n",
    "}"
   ]
  },
  {
   "cell_type": "markdown",
   "metadata": {},
   "source": [
    "-----------------------------------------"
   ]
  },
  {
   "cell_type": "code",
   "execution_count": 11,
   "metadata": {
    "collapsed": false
   },
   "outputs": [
    {
     "name": "stdout",
     "output_type": "stream",
     "text": [
      "====== Events generated, entering Finalize\n",
      "TH1.Print Name  = hst_Wt, Entries= 50000, Total sum= 49993\n",
      " fSumw[0]=0, x=-0.025, error=0\n",
      " fSumw[1]=0, x=0.025, error=0\n",
      " fSumw[2]=0, x=0.075, error=0\n",
      " fSumw[3]=0, x=0.125, error=0\n",
      " fSumw[4]=0, x=0.175, error=0\n",
      " fSumw[5]=0, x=0.225, error=0\n",
      " fSumw[6]=0, x=0.275, error=0\n",
      " fSumw[7]=0, x=0.325, error=0\n",
      " fSumw[8]=0, x=0.375, error=0\n",
      " fSumw[9]=0, x=0.425, error=0\n",
      " fSumw[10]=0, x=0.475, error=0\n",
      " fSumw[11]=0, x=0.525, error=0\n",
      " fSumw[12]=0, x=0.575, error=0\n",
      " fSumw[13]=0, x=0.625, error=0\n",
      " fSumw[14]=0, x=0.675, error=0\n",
      " fSumw[15]=0, x=0.725, error=0\n",
      " fSumw[16]=0, x=0.775, error=0\n",
      " fSumw[17]=0, x=0.825, error=0\n",
      " fSumw[18]=0, x=0.875, error=0\n",
      " fSumw[19]=0, x=0.925, error=0\n",
      " fSumw[20]=0, x=0.975, error=0\n",
      " fSumw[21]=49991, x=1.025, error=223.587\n",
      " fSumw[22]=1, x=1.075, error=1\n",
      " fSumw[23]=1, x=1.125, error=1\n",
      " fSumw[24]=0, x=1.175, error=0\n",
      " fSumw[25]=0, x=1.225, error=0\n",
      " fSumw[26]=7, x=1.275, error=2.64575\n",
      "TH1.Print Name  = TFoamMaxwt_hst_Wt1, Entries= 76619, Total sum= 76619\n",
      "TH1.Print Name  = TFoamMaxwt_hst_Wt2, Entries= 76619, Total sum= 54981.3\n",
      "FFFFFFFFFFFFFFFFFFFFFFFFFFFFFFFFFFFFFFFFFFFFFFFFFFFFFFFFFFFFFFFFFFFFFFFFFFFFFFFF\n",
      "F                                                                              F\n",
      "F                   ****************************************                   F\n",
      "F                    ******     TFoam::Finalize       ******                   F\n",
      "F                   ****************************************                   F\n",
      "F     NevGen =      76619 = Number of generated events in the MC generation    F\n",
      "F     nCalls =     176419 = Total number of function calls                     F\n",
      "F                   ----------------------------------------                   F\n",
      "F      AveWt =      0.71759331   =     Average MC weight                       F\n",
      "F      WtMin =    1.472245e-19   =     Minimum MC weight (absolute)            F\n",
      "F      WtMax =       4.1676265   =     Maximum MC weight (absolute)            F\n",
      "F                   ----------------------------------------                   F\n",
      "F     XPrime =       1.3929609   =     Primary total integral, R_prime         F\n",
      "F     XDiver =      0.39362177   =     Driver  total integral, R_loss          F\n",
      "F                   ----------------------------------------                   F\n",
      "F      IntMC =      0.99957943 +-      0.00115528  = Result of the MC Integral F\n",
      "F   mCerelat =    0.0011557661   =     Relative error of the MC integral       F\n",
      "F  <w>/WtMax =       0.7211993   =              MC efficiency, acceptance rate F\n",
      "F  Sigma/<w> =      0.31991763   =              MC efficiency, variance/ave_wt F\n",
      "F      WtMax =           0.995   =              WtMax(esp= 0.0005)             F\n",
      "F      Sigma =      0.22957075   =              variance of MC weight          F\n",
      "F <OveW>/<W> =   0.00018763091   =              Contrib. of events wt>MaxWtRej F\n",
      "F                                                                              F\n",
      "FFFFFFFFFFFFFFFFFFFFFFFFFFFFFFFFFFFFFFFFFFFFFFFFFFFFFFFFFFFFFFFFFFFFFFFFFFFFFFFF\n",
      "TH1.Print Name  = TFoamMaxwt_hst_Wt1, Entries= 76619, Total sum= 76619\n",
      "TH1.Print Name  = TFoamMaxwt_hst_Wt2, Entries= 76619, Total sum= 54981.3\n",
      "================================================================\n",
      " MCresult= 0.99957943 +- 0.00115528 RelErr= 0.0011557661\n",
      " Dispersion/<wt>= 0.31991763\n",
      "      <wt>/WtMax= 0.7211993,    for epsilon = 0.0005\n",
      " nCalls (initialization only) =   99800\n",
      "================================================================\n"
     ]
    }
   ],
   "source": [
    "cout << \"====== Events generated, entering Finalize\" << endl;\n",
    "\n",
    "hst_Wt->Print(\"all\");\n",
    "Double_t eps = 0.0005;\n",
    "Double_t Effic, WtMax, AveWt, Sigma;\n",
    "Double_t IntNorm, Errel;\n",
    "FoamX->Finalize(   IntNorm, Errel);     // final printout\n",
    "FoamX->GetIntegMC( MCresult, MCerror);  // get MC intnegral\n",
    "FoamX->GetWtParams(eps, AveWt, WtMax, Sigma); // get MC wt parameters\n",
    "Effic=0; if(WtMax>0) Effic=AveWt/WtMax;\n",
    "cout << \"================================================================\" << endl;\n",
    "cout << \" MCresult= \" << MCresult << \" +- \" << MCerror << \" RelErr= \"<< MCerror/MCresult << endl;\n",
    "cout << \" Dispersion/<wt>= \" << Sigma/AveWt << endl;\n",
    "cout << \"      <wt>/WtMax= \" << Effic <<\",    for epsilon = \"<<eps << endl;\n",
    "cout << \" nCalls (initialization only) =   \" << nCalls << endl;\n",
    "cout << \"================================================================\" << endl;\n",
    "\n",
    "delete [] MCvect;"
   ]
  },
  {
   "cell_type": "code",
   "execution_count": 12,
   "metadata": {
    "collapsed": false
   },
   "outputs": [
    {
     "name": "stdout",
     "output_type": "stream",
     "text": [
      "TFile**\t\tfoam_demo.root\thistograms\n",
      " TFile*\t\tfoam_demo.root\thistograms\n",
      "  OBJ: TH1D\thst_Wt\tMain weight of Foam : 0 at: 0x7f6f5c2ed390\n",
      "  KEY: TFoam\tFoamX;1\tGeneral purpose self-adapting Monte Carlo event generator\n",
      "  KEY: TProcessID\tProcessID0;1\t7abd26ee-c9fd-11e9-90f8-8b68b8bcbeef\n",
      "***** End of Demonstration Program  *****\n"
     ]
    }
   ],
   "source": [
    "RootFile.ls();\n",
    "RootFile.Write();\n",
    "RootFile.Close();\n",
    "cout << \"***** End of Demonstration Program  *****\" << endl;\n",
    "\n",
    "return 0;"
   ]
  }
 ],
 "metadata": {
  "kernelspec": {
   "display_name": "ROOT C++",
   "language": "c++",
   "name": "root"
  },
  "language_info": {
   "codemirror_mode": "text/x-c++src",
   "file_extension": ".C",
   "mimetype": " text/x-c++src",
   "name": "c++"
  }
 },
 "nbformat": 4,
 "nbformat_minor": 2
}
