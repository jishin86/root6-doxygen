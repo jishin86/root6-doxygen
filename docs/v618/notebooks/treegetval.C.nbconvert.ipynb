{
 "cells": [
  {
   "cell_type": "markdown",
   "metadata": {},
   "source": [
    "# Treegetval\n",
    "Illustrates how to retrieve  TTree variables in arrays.\n",
    "\n",
    "This example:\n",
    "  - creates a simple TTree,\n",
    "  - generates TTree variables thanks to the `Draw` method with `goff` option,\n",
    "  - retrieves some of them in arrays thanks to `GetVal`,\n",
    "  - generates and draw graphs with these arrays.\n",
    "\n",
    "The option `goff` in `TTree::Draw` behaves like any other drawing option except\n",
    "that, at the end, no graphics is produced ( `goff`= graphics off). This allows\n",
    "to generate as many TTree variables as needed. All the graphics options\n",
    "(except `para` and `candle`) are limited to four variables only. And `para`\n",
    "and `candle` need at least two variables.\n",
    "\n",
    "Note that by default TTree::Draw creates the arrays obtained\n",
    "with GetVal with a length corresponding to the parameter `fEstimate`.\n",
    "By default fEstimate=1000000 and can be modified\n",
    "via TTree::SetEstimate. To keep in memory all the results use:\n",
    "```cpp\n",
    "  tree->SetEstimate(-1);\n",
    "```\n",
    "SetEstimate should be called if the expected number of selected rows\n",
    "is greater than 1000000.\n",
    "\n",
    "\n",
    "\n",
    "\n",
    "**Author:** Olivier Couet  \n",
    "<i><small>This notebook tutorial was automatically generated with <a href= \"https://github.com/root-project/root/blob/master/documentation/doxygen/converttonotebook.py\">ROOTBOOK-izer</a> from the macro found in the ROOT repository  on Thursday, August 29, 2019 at 03:58 AM.</small></i>"
   ]
  },
  {
   "cell_type": "markdown",
   "metadata": {},
   "source": [
    "Create a simple ttree with 5 branches"
   ]
  },
  {
   "cell_type": "code",
   "execution_count": 1,
   "metadata": {
    "collapsed": false
   },
   "outputs": [],
   "source": [
    "Int_t run, evt;\n",
    "Float_t x,y,z;\n",
    "TTree *T = new TTree(\"T\",\"test friend trees\");\n",
    "T->Branch(\"Run\",&run,\"Run/I\");\n",
    "T->Branch(\"Event\",&evt,\"Event/I\");\n",
    "T->Branch(\"x\",&x,\"x/F\");\n",
    "T->Branch(\"y\",&y,\"y/F\");\n",
    "T->Branch(\"z\",&z,\"z/F\");\n",
    "TRandom r;\n",
    "for (Int_t i=0;i<10000;i++) {\n",
    "   if (i < 5000) run = 1;\n",
    "   else          run = 2;\n",
    "   evt = i;\n",
    "   x = r.Gaus(10,1);\n",
    "   y = r.Gaus(20,2);\n",
    "   z = r.Landau(2,1);\n",
    "   T->Fill();\n",
    "}"
   ]
  },
  {
   "cell_type": "markdown",
   "metadata": {},
   "source": [
    "Draw with option goff and generate seven variables"
   ]
  },
  {
   "cell_type": "code",
   "execution_count": 2,
   "metadata": {
    "collapsed": false
   },
   "outputs": [
    {
     "name": "stdout",
     "output_type": "stream",
     "text": [
      "The arrays' dimension is 5000\n"
     ]
    }
   ],
   "source": [
    "Int_t n = T->Draw(\"x:y:z:Run:Event:sin(x):cos(x)\",\"Run==1\",\"goff\");\n",
    "printf(\"The arrays' dimension is %d\\n\",n);"
   ]
  },
  {
   "cell_type": "markdown",
   "metadata": {},
   "source": [
    "Retrieve variables 0, 5 et 6"
   ]
  },
  {
   "cell_type": "code",
   "execution_count": 3,
   "metadata": {
    "collapsed": false
   },
   "outputs": [],
   "source": [
    "Double_t *vx  = T->GetVal(0);\n",
    "Double_t *vxs = T->GetVal(5);\n",
    "Double_t *vxc = T->GetVal(6);"
   ]
  },
  {
   "cell_type": "markdown",
   "metadata": {},
   "source": [
    "Create and draw graphs"
   ]
  },
  {
   "cell_type": "code",
   "execution_count": 4,
   "metadata": {
    "collapsed": false
   },
   "outputs": [
    {
     "name": "stderr",
     "output_type": "stream",
     "text": [
      "Info in <TCanvas::MakeDefCanvas>:  created default TCanvas with name c1\n"
     ]
    }
   ],
   "source": [
    "TGraph *gs = new TGraph(n,vx,vxs);\n",
    "TGraph *gc = new TGraph(n,vx,vxc);\n",
    "gs->Draw(\"ap\");\n",
    "gc->Draw(\"p\");"
   ]
  },
  {
   "cell_type": "markdown",
   "metadata": {},
   "source": [
    "Draw all canvases "
   ]
  },
  {
   "cell_type": "code",
   "execution_count": 5,
   "metadata": {
    "collapsed": false
   },
   "outputs": [
    {
     "data": {
      "image/png": "[encoded data removed]",
      "text/plain": [
       "<IPython.core.display.Image object>"
      ]
     },
     "metadata": {},
     "output_type": "display_data"
    }
   ],
   "source": [
    "gROOT->GetListOfCanvases()->Draw()"
   ]
  }
 ],
 "metadata": {
  "kernelspec": {
   "display_name": "ROOT C++",
   "language": "c++",
   "name": "root"
  },
  "language_info": {
   "codemirror_mode": "text/x-c++src",
   "file_extension": ".C",
   "mimetype": " text/x-c++src",
   "name": "c++"
  }
 },
 "nbformat": 4,
 "nbformat_minor": 2
}
