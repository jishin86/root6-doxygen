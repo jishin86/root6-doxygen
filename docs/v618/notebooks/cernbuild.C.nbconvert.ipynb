{
 "cells": [
  {
   "cell_type": "markdown",
   "metadata": {},
   "source": [
    "# Cernbuild\n",
    "Read data (CERN staff) from an ascii file and create a root file with a Tree.\n",
    "See also a variant in staff.C\n",
    "\n",
    "\n",
    "\n",
    "\n",
    "**Author:** Rene Brun  \n",
    "<i><small>This notebook tutorial was automatically generated with <a href= \"https://github.com/root-project/root/blob/master/documentation/doxygen/converttonotebook.py\">ROOTBOOK-izer</a> from the macro found in the ROOT repository  on Thursday, August 29, 2019 at 03:52 AM.</small></i>"
   ]
  },
  {
   "cell_type": "markdown",
   "metadata": {},
   "source": [
    " Arguments are defined. "
   ]
  },
  {
   "cell_type": "code",
   "execution_count": 1,
   "metadata": {
    "collapsed": false
   },
   "outputs": [],
   "source": [
    "Int_t getFile=0;\n",
    "Int_t print=1;"
   ]
  },
  {
   "cell_type": "code",
   "execution_count": 2,
   "metadata": {
    "collapsed": false
   },
   "outputs": [],
   "source": [
    "Int_t           Category;\n",
    "UInt_t          Flag;\n",
    "Int_t           Age;\n",
    "Int_t           Service;\n",
    "Int_t           Children;\n",
    "Int_t           Grade;\n",
    "Int_t           Step;\n",
    "Int_t           Hrweek;\n",
    "Int_t           Cost;\n",
    "Char_t          Division[4];\n",
    "Char_t          Nation[3];"
   ]
  },
  {
   "cell_type": "markdown",
   "metadata": {},
   "source": [
    "The input file cern.dat is a copy of the cern staff data base\n",
    "from 1988"
   ]
  },
  {
   "cell_type": "code",
   "execution_count": 3,
   "metadata": {
    "collapsed": false
   },
   "outputs": [],
   "source": [
    "TString filename = \"cernstaff.root\";\n",
    "TString dir = gROOT->GetTutorialDir();\n",
    "dir.Append(\"/tree/\");\n",
    "dir.ReplaceAll(\"/./\",\"/\");\n",
    "FILE *fp = fopen(Form(\"%scernstaff.dat\",dir.Data()),\"r\");\n",
    "\n",
    "TFile *hfile = 0;\n",
    "if (getFile) {\n",
    "   // if the argument getFile =1 return the file \"cernstaff.root\"\n",
    "   // if the file does not exist, it is created\n",
    "   if (!gSystem->AccessPathName(dir+\"cernstaff.root\",kFileExists)) {\n",
    "      hfile = TFile::Open(dir+\"cernstaff.root\"); //in $ROOTSYS/tutorials/tree\n",
    "      if (hfile) return hfile;\n",
    "   }\n",
    "   //otherwise try $PWD/cernstaff.root\n",
    "   if (!gSystem->AccessPathName(\"cernstaff.root\",kFileExists)) {\n",
    "      hfile = TFile::Open(\"cernstaff.root\"); //in current dir\n",
    "      if (hfile) return hfile;\n",
    "   }\n",
    "}"
   ]
  },
  {
   "cell_type": "markdown",
   "metadata": {},
   "source": [
    "No cernstaff.root file found. must generate it !\n",
    "generate cernstaff.root in $ROOTSYS/tutorials/tree if we have write access"
   ]
  },
  {
   "cell_type": "code",
   "execution_count": 4,
   "metadata": {
    "collapsed": false
   },
   "outputs": [
    {
     "name": "stdout",
     "output_type": "stream",
     "text": [
      "******************************************************************************\n",
      "*Tree    :T         : CERN 1988 staff data                                   *\n",
      "*Entries :     3354 : Total =          176339 bytes  File  Size =      15005 *\n",
      "*        :          : Tree compression factor =   2.74                       *\n",
      "******************************************************************************\n",
      "*Br    0 :Category  : Category/I                                             *\n",
      "*Entries :     3354 : Total  Size=      14073 bytes  One basket in memory    *\n",
      "*Baskets :        0 : Basket Size=      32000 bytes  Compression=   1.00     *\n",
      "*............................................................................*\n",
      "*Br    1 :Flag      : Flag/i                                                 *\n",
      "*Entries :     3354 : Total  Size=      14049 bytes  One basket in memory    *\n",
      "*Baskets :        0 : Basket Size=      32000 bytes  Compression=   1.00     *\n",
      "*............................................................................*\n",
      "*Br    2 :Age       : Age/I                                                  *\n",
      "*Entries :     3354 : Total  Size=      14043 bytes  One basket in memory    *\n",
      "*Baskets :        0 : Basket Size=      32000 bytes  Compression=   1.00     *\n",
      "*............................................................................*\n",
      "*Br    3 :Service   : Service/I                                              *\n",
      "*Entries :     3354 : Total  Size=      14067 bytes  One basket in memory    *\n",
      "*Baskets :        0 : Basket Size=      32000 bytes  Compression=   1.00     *\n",
      "*............................................................................*\n",
      "*Br    4 :Children  : Children/I                                             *\n",
      "*Entries :     3354 : Total  Size=      14073 bytes  One basket in memory    *\n",
      "*Baskets :        0 : Basket Size=      32000 bytes  Compression=   1.00     *\n",
      "*............................................................................*\n",
      "*Br    5 :Grade     : Grade/I                                                *\n",
      "*Entries :     3354 : Total  Size=      14055 bytes  One basket in memory    *\n",
      "*Baskets :        0 : Basket Size=      32000 bytes  Compression=   1.00     *\n",
      "*............................................................................*\n",
      "*Br    6 :Step      : Step/I                                                 *\n",
      "*Entries :     3354 : Total  Size=      14049 bytes  One basket in memory    *\n",
      "*Baskets :        0 : Basket Size=      32000 bytes  Compression=   1.00     *\n",
      "*............................................................................*\n",
      "*Br    7 :Hrweek    : Hrweek/I                                               *\n",
      "*Entries :     3354 : Total  Size=      14061 bytes  One basket in memory    *\n",
      "*Baskets :        0 : Basket Size=      32000 bytes  Compression=   1.00     *\n",
      "*............................................................................*\n",
      "*Br    8 :Cost      : Cost/I                                                 *\n",
      "*Entries :     3354 : Total  Size=      14049 bytes  One basket in memory    *\n",
      "*Baskets :        0 : Basket Size=      32000 bytes  Compression=   1.00     *\n",
      "*............................................................................*\n",
      "*Br    9 :Division  : Division/C                                             *\n",
      "*Entries :     3354 : Total  Size=      25326 bytes  File Size  =       8325 *\n",
      "*Baskets :        1 : Basket Size=      32000 bytes  Compression=   2.49     *\n",
      "*............................................................................*\n",
      "*Br   10 :Nation    : Nation/C                                               *\n",
      "*Entries :     3354 : Total  Size=      24209 bytes  File Size  =       6680 *\n",
      "*Baskets :        1 : Basket Size=      32000 bytes  Compression=   3.05     *\n",
      "*............................................................................*\n"
     ]
    }
   ],
   "source": [
    "if (gSystem->AccessPathName(\".\",kWritePermission)) {\n",
    "   printf(\"you must run the script in a directory with write access\\n\");\n",
    "   return 0;\n",
    "}\n",
    "hfile = TFile::Open(filename,\"RECREATE\");\n",
    "TTree *tree = new TTree(\"T\",\"CERN 1988 staff data\");\n",
    "tree->Branch(\"Category\",&Category,\"Category/I\");\n",
    "tree->Branch(\"Flag\",&Flag,\"Flag/i\");\n",
    "tree->Branch(\"Age\",&Age,\"Age/I\");\n",
    "tree->Branch(\"Service\",&Service,\"Service/I\");\n",
    "tree->Branch(\"Children\",&Children,\"Children/I\");\n",
    "tree->Branch(\"Grade\",&Grade,\"Grade/I\");\n",
    "tree->Branch(\"Step\",&Step,\"Step/I\");\n",
    "tree->Branch(\"Hrweek\",&Hrweek,\"Hrweek/I\");\n",
    "tree->Branch(\"Cost\",&Cost,\"Cost/I\");\n",
    "tree->Branch(\"Division\",Division,\"Division/C\");\n",
    "tree->Branch(\"Nation\",Nation,\"Nation/C\");\n",
    "char line[80];\n",
    "while (fgets(line,80,fp)) {\n",
    "   sscanf(&line[0],\"%d %d %d %d %d %d %d  %d %d %s %s\",\n",
    "   &Category,&Flag,&Age,&Service,&Children,&Grade,&Step,&Hrweek,&Cost,Division,Nation);\n",
    "   tree->Fill();\n",
    "}\n",
    "if (print) tree->Print();\n",
    "tree->Write();\n",
    "\n",
    "fclose(fp);\n",
    "delete hfile;\n",
    "if (getFile) {\n",
    "   //we come here when the script is executed outside $ROOTSYS/tutorials/tree\n",
    "   hfile = TFile::Open(filename);\n",
    "   return hfile;\n",
    "}\n",
    "return 0;"
   ]
  }
 ],
 "metadata": {
  "kernelspec": {
   "display_name": "ROOT C++",
   "language": "c++",
   "name": "root"
  },
  "language_info": {
   "codemirror_mode": "text/x-c++src",
   "file_extension": ".C",
   "mimetype": " text/x-c++src",
   "name": "c++"
  }
 },
 "nbformat": 4,
 "nbformat_minor": 2
}
