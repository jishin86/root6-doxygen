{
 "cells": [
  {
   "cell_type": "markdown",
   "metadata": {},
   "source": [
    "# Feynman\n",
    "Draw Feynman diagrams.\n",
    "\n",
    "\n",
    "\n",
    "\n",
    "**Author:** Otto Schaile  \n",
    "<i><small>This notebook tutorial was automatically generated with <a href= \"https://github.com/root-project/root/blob/master/documentation/doxygen/converttonotebook.py\">ROOTBOOK-izer</a> from the macro found in the ROOT repository  on Thursday, August 29, 2019 at 01:40 AM.</small></i>"
   ]
  },
  {
   "cell_type": "code",
   "execution_count": 1,
   "metadata": {
    "collapsed": false
   },
   "outputs": [],
   "source": [
    "TCanvas *c1 = new TCanvas(\"c1\", \"A canvas\", 10,10, 600, 300);\n",
    "c1->Range(0, 0, 140, 60);\n",
    "Int_t linsav = gStyle->GetLineWidth();\n",
    "gStyle->SetLineWidth(3);\n",
    "TLatex t;\n",
    "t.SetTextAlign(22);\n",
    "t.SetTextSize(0.1);\n",
    "TLine * l;\n",
    "l = new TLine(10, 10, 30, 30); l->Draw();\n",
    "l = new TLine(10, 50, 30, 30); l->Draw();\n",
    "TCurlyArc *ginit = new TCurlyArc(30, 30, 12.5*sqrt(2), 135, 225);\n",
    "ginit->SetWavy();\n",
    "ginit->Draw();\n",
    "t.DrawLatex(7,6,\"e^{-}\");\n",
    "t.DrawLatex(7,55,\"e^{+}\");\n",
    "t.DrawLatex(7,30,\"#gamma\");\n",
    "\n",
    "TCurlyLine *Gamma = new TCurlyLine(30, 30, 55, 30);\n",
    "Gamma->SetWavy();\n",
    "Gamma->Draw();\n",
    "t.DrawLatex(42.5,37.7,\"#gamma\");\n",
    "\n",
    "TArc *a = new TArc(70, 30, 15);\n",
    "a->Draw();\n",
    "t.DrawLatex(55, 45,\"#bar{q}\");\n",
    "t.DrawLatex(85, 15,\"q\");\n",
    "TCurlyLine *gluon = new TCurlyLine(70, 45, 70, 15);\n",
    "gluon->Draw();\n",
    "t.DrawLatex(77.5,30,\"g\");\n",
    "\n",
    "TCurlyLine *z0 = new TCurlyLine(85, 30, 110, 30);\n",
    "z0->SetWavy();\n",
    "z0->Draw();\n",
    "t.DrawLatex(100, 37.5,\"Z^{0}\");\n",
    "\n",
    "l = new TLine(110, 30, 130, 10); l->Draw();\n",
    "l = new TLine(110, 30, 130, 50); l->Draw();\n",
    "\n",
    "TCurlyArc *gluon1 = new TCurlyArc(110, 30, 12.5*sqrt(2), 315, 45);\n",
    "gluon1->Draw();\n",
    "\n",
    "t.DrawLatex(135,6,\"#bar{q}\");\n",
    "t.DrawLatex(135,55,\"q\");\n",
    "t.DrawLatex(135,30,\"g\");\n",
    "c1->Update();\n",
    "gStyle->SetLineWidth(linsav);"
   ]
  },
  {
   "cell_type": "markdown",
   "metadata": {},
   "source": [
    "Draw all canvases "
   ]
  },
  {
   "cell_type": "code",
   "execution_count": 2,
   "metadata": {
    "collapsed": false
   },
   "outputs": [
    {
     "data": {
      "image/png": "[encoded data removed]",
      "text/plain": [
       "<IPython.core.display.Image object>"
      ]
     },
     "metadata": {},
     "output_type": "display_data"
    }
   ],
   "source": [
    "gROOT->GetListOfCanvases()->Draw()"
   ]
  }
 ],
 "metadata": {
  "kernelspec": {
   "display_name": "ROOT C++",
   "language": "c++",
   "name": "root"
  },
  "language_info": {
   "codemirror_mode": "text/x-c++src",
   "file_extension": ".C",
   "mimetype": " text/x-c++src",
   "name": "c++"
  }
 },
 "nbformat": 4,
 "nbformat_minor": 2
}
