{
 "cells": [
  {
   "cell_type": "markdown",
   "metadata": {},
   "source": [
    "#  Contour List\n",
    "Getting Contours From TH2D.\n",
    "\n",
    "#### Image produced by `.x ContourList.C`\n",
    "The contours values are drawn next to each contour.\n",
    "\n",
    "#### Output produced by `.x ContourList.C`\n",
    "It shows that 6 contours and 12 graphs were found.\n",
    "\n",
    "#### `ContourList.C`\n",
    "\n",
    "\n",
    "\n",
    "**Author:**  Josh de Bever (CSI Medical Physics Group, The University of Western Ontario, London, Ontario, Canada), Olivier Couet  \n",
    "<i><small>This notebook tutorial was automatically generated with <a href= \"https://github.com/root-project/root/blob/master/documentation/doxygen/converttonotebook.py\">ROOTBOOK-izer</a> from the macro found in the ROOT repository  on Thursday, August 29, 2019 at 01:52 AM.</small></i>"
   ]
  },
  {
   "cell_type": "code",
   "execution_count": 1,
   "metadata": {
    "collapsed": false
   },
   "outputs": [],
   "source": [
    "Double_t SawTooth(Double_t x, Double_t WaveLen);"
   ]
  },
  {
   "cell_type": "markdown",
   "metadata": {},
   "source": [
    " A helper function is created: "
   ]
  },
  {
   "cell_type": "code",
   "execution_count": 2,
   "metadata": {
    "collapsed": false
   },
   "outputs": [],
   "source": [
    "%%cpp -d\n",
    "Double_t SawTooth(Double_t x, Double_t WaveLen){\n",
    "\n",
    "// This function is specific to a sawtooth function with period\n",
    "// WaveLen, symmetric about x = 0, and with amplitude = 1. Each segment\n",
    "// is 1/4 of the wavelength.\n",
    "//\n",
    "//           |\n",
    "//      /\\   |\n",
    "//     /  \\  |\n",
    "//    /    \\ |\n",
    "//   /      \\\n",
    "//  /--------\\--------/------------\n",
    "//           |\\      /\n",
    "//           | \\    /\n",
    "//           |  \\  /\n",
    "//           |   \\/\n",
    "//\n",
    "\n",
    "   Double_t y;\n",
    "   if ( (x < -WaveLen/2) || (x > WaveLen/2)) y = -99999999; // Error X out of bounds\n",
    "   if (x <= -WaveLen/4) {\n",
    "      y = x + 2.0;\n",
    "   } else if ((x > -WaveLen/4) && (x <= WaveLen/4)) {\n",
    "      y = -x ;\n",
    "   } else if (( x > WaveLen/4) && (x <= WaveLen/2)) {\n",
    "      y = x - 2.0;\n",
    "   }\n",
    "   return y;\n",
    "}"
   ]
  },
  {
   "cell_type": "code",
   "execution_count": 3,
   "metadata": {
    "collapsed": false
   },
   "outputs": [],
   "source": [
    "const Double_t PI = TMath::Pi();\n",
    "\n",
    "TCanvas* c = new TCanvas(\"c\",\"Contour List\",0,0,600,600);\n",
    "c->SetRightMargin(0.15);\n",
    "c->SetTopMargin(0.15);\n",
    "\n",
    "Int_t i, j;\n",
    "\n",
    "Int_t nZsamples   = 80;\n",
    "Int_t nPhiSamples = 80;\n",
    "\n",
    "Double_t HofZwavelength = 4.0;       // 4 meters\n",
    "Double_t dZ             =  HofZwavelength/(Double_t)(nZsamples - 1);\n",
    "Double_t dPhi           = 2*PI/(Double_t)(nPhiSamples - 1);\n",
    "\n",
    "TArrayD z(nZsamples);\n",
    "TArrayD HofZ(nZsamples);\n",
    "TArrayD phi(nPhiSamples);\n",
    "TArrayD FofPhi(nPhiSamples);"
   ]
  },
  {
   "cell_type": "markdown",
   "metadata": {},
   "source": [
    "Discretized z and phi values"
   ]
  },
  {
   "cell_type": "code",
   "execution_count": 4,
   "metadata": {
    "collapsed": false
   },
   "outputs": [],
   "source": [
    "for ( i = 0; i < nZsamples; i++) {\n",
    "   z[i] = (i)*dZ - HofZwavelength/2.0;\n",
    "   HofZ[i] = SawTooth(z[i], HofZwavelength);\n",
    "}\n",
    "\n",
    "for(Int_t i=0; i < nPhiSamples; i++){\n",
    "   phi[i] = (i)*dPhi;\n",
    "   FofPhi[i] = sin(phi[i]);\n",
    "}"
   ]
  },
  {
   "cell_type": "markdown",
   "metadata": {},
   "source": [
    "Create histogram"
   ]
  },
  {
   "cell_type": "code",
   "execution_count": 5,
   "metadata": {
    "collapsed": false
   },
   "outputs": [],
   "source": [
    "TH2D *HistStreamFn = new TH2D(\"HstreamFn\",\n",
    "\"#splitline{Histogram with negative and positive contents. Six contours are defined.}{It is plotted with options CONT LIST to retrieve the contours points in TGraphs}\",\n",
    "nZsamples, z[0], z[nZsamples-1], nPhiSamples, phi[0], phi[nPhiSamples-1]);"
   ]
  },
  {
   "cell_type": "markdown",
   "metadata": {},
   "source": [
    "Load histogram data"
   ]
  },
  {
   "cell_type": "code",
   "execution_count": 6,
   "metadata": {
    "collapsed": false
   },
   "outputs": [],
   "source": [
    "for (Int_t i = 0; i < nZsamples; i++) {\n",
    "   for(Int_t j = 0; j < nPhiSamples; j++){\n",
    "      HistStreamFn->SetBinContent(i,j, HofZ[i]*FofPhi[j]);\n",
    "   }\n",
    "}\n",
    "\n",
    "gStyle->SetOptStat(0);\n",
    "gStyle->SetTitleW(0.99);\n",
    "gStyle->SetTitleH(0.08);\n",
    "\n",
    "Double_t contours[6];\n",
    "contours[0] = -0.7;\n",
    "contours[1] = -0.5;\n",
    "contours[2] = -0.1;\n",
    "contours[3] =  0.1;\n",
    "contours[4] =  0.4;\n",
    "contours[5] =  0.8;\n",
    "\n",
    "HistStreamFn->SetContour(6, contours);"
   ]
  },
  {
   "cell_type": "markdown",
   "metadata": {},
   "source": [
    "Draw contours as filled regions, and save points"
   ]
  },
  {
   "cell_type": "code",
   "execution_count": 7,
   "metadata": {
    "collapsed": false
   },
   "outputs": [],
   "source": [
    "HistStreamFn->Draw(\"CONT Z LIST\");\n",
    "c->Update(); // Needed to force the plotting and retrieve the contours in TGraphs"
   ]
  },
  {
   "cell_type": "markdown",
   "metadata": {},
   "source": [
    "Get contours"
   ]
  },
  {
   "cell_type": "code",
   "execution_count": 8,
   "metadata": {
    "collapsed": false
   },
   "outputs": [
    {
     "name": "stdout",
     "output_type": "stream",
     "text": [
      "TotalConts = 6\n",
      "Contour 0 has 2 Graphs\n",
      "Contour 1 has 2 Graphs\n",
      "Contour 2 has 2 Graphs\n",
      "Contour 3 has 2 Graphs\n",
      "Contour 4 has 2 Graphs\n",
      "Contour 5 has 2 Graphs\n",
      "Z-Level Passed in as:  Z = -0.100000\n",
      "\tGraph: 1  -- 147 Elements\n",
      "\tGraph: 2  -- 147 Elements\n",
      "Z-Level Passed in as:  Z = -0.500000\n",
      "\tGraph: 3  -- 93 Elements\n",
      "\tGraph: 4  -- 93 Elements\n",
      "Z-Level Passed in as:  Z = -0.700000\n",
      "\tGraph: 5  -- 65 Elements\n",
      "\tGraph: 6  -- 65 Elements\n",
      "Z-Level Passed in as:  Z = 0.100000\n",
      "\tGraph: 7  -- 147 Elements\n",
      "\tGraph: 8  -- 147 Elements\n",
      "Z-Level Passed in as:  Z = 0.400000\n",
      "\tGraph: 9  -- 107 Elements\n",
      "\tGraph: 10  -- 107 Elements\n",
      "Z-Level Passed in as:  Z = 0.800000\n",
      "\tGraph: 11  -- 49 Elements\n",
      "\tGraph: 12  -- 49 Elements\n",
      "\n",
      "\n",
      "\tExtracted 6 Contours and 12 Graphs \n"
     ]
    }
   ],
   "source": [
    "TObjArray *conts = (TObjArray*)gROOT->GetListOfSpecials()->FindObject(\"contours\");\n",
    "TList* contLevel = NULL;\n",
    "TGraph* curv     = NULL;\n",
    "TGraph* gc       = NULL;\n",
    "\n",
    "Int_t nGraphs    = 0;\n",
    "Int_t TotalConts = 0;\n",
    "\n",
    "if (conts == NULL){\n",
    "   printf(\"*** No Contours Were Extracted!\\n\");\n",
    "   TotalConts = 0;\n",
    "   return 0;\n",
    "} else {\n",
    "   TotalConts = conts->GetSize();\n",
    "}\n",
    "\n",
    "printf(\"TotalConts = %d\\n\", TotalConts);\n",
    "\n",
    "for(i = 0; i < TotalConts; i++){\n",
    "   contLevel = (TList*)conts->At(i);\n",
    "   printf(\"Contour %d has %d Graphs\\n\", i, contLevel->GetSize());\n",
    "   nGraphs += contLevel->GetSize();\n",
    "}\n",
    "\n",
    "nGraphs = 0;\n",
    "\n",
    "TCanvas* c1 = new TCanvas(\"c1\",\"Contour List\",610,0,600,600);\n",
    "c1->SetTopMargin(0.15);\n",
    "TH2F *hr = new TH2F(\"hr\",\n",
    "\"#splitline{Negative contours are returned first (highest to lowest). Positive contours are returned from}{lowest to highest. On this plot Negative contours are drawn in red and positive contours in blue.}\",\n",
    "2, -2, 2, 2, 0, 6.5);\n",
    "\n",
    "hr->Draw();\n",
    "Double_t xval0, yval0, zval0;\n",
    "TLatex l;\n",
    "l.SetTextSize(0.03);\n",
    "char val[20];\n",
    "\n",
    "for(i = 0; i < TotalConts; i++){\n",
    "   contLevel = (TList*)conts->At(i);\n",
    "   if (i<3) zval0 = contours[2-i];\n",
    "   else     zval0 = contours[i];\n",
    "   printf(\"Z-Level Passed in as:  Z = %f\\n\", zval0);\n",
    "\n",
    "   // Get first graph from list on curves on this level\n",
    "   curv = (TGraph*)contLevel->First();\n",
    "   for(j = 0; j < contLevel->GetSize(); j++){\n",
    "      curv->GetPoint(0, xval0, yval0);\n",
    "      if (zval0<0) curv->SetLineColor(kRed);\n",
    "      if (zval0>0) curv->SetLineColor(kBlue);\n",
    "      nGraphs ++;\n",
    "      printf(\"\\tGraph: %d  -- %d Elements\\n\", nGraphs,curv->GetN());\n",
    "\n",
    "      // Draw clones of the graphs to avoid deletions in case the 1st\n",
    "      // pad is redrawn.\n",
    "      gc = (TGraph*)curv->Clone();\n",
    "      gc->Draw(\"C\");\n",
    "\n",
    "      sprintf(val,\"%g\",zval0);\n",
    "      l.DrawLatex(xval0,yval0,val);\n",
    "      curv = (TGraph*)contLevel->After(curv); // Get Next graph\n",
    "   }\n",
    "}\n",
    "c1->Update();\n",
    "printf(\"\\n\\n\\tExtracted %d Contours and %d Graphs \\n\", TotalConts, nGraphs );\n",
    "gStyle->SetTitleW(0.);\n",
    "gStyle->SetTitleH(0.);\n",
    "return c1;"
   ]
  },
  {
   "cell_type": "markdown",
   "metadata": {},
   "source": [
    "Draw all canvases "
   ]
  },
  {
   "cell_type": "code",
   "execution_count": 9,
   "metadata": {
    "collapsed": false
   },
   "outputs": [
    {
     "data": {
      "image/png": "[encoded data removed]",
      "text/plain": [
       "<IPython.core.display.Image object>"
      ]
     },
     "metadata": {},
     "output_type": "display_data"
    },
    {
     "data": {
      "image/png": "[encoded data removed]",
      "text/plain": [
       "<IPython.core.display.Image object>"
      ]
     },
     "metadata": {},
     "output_type": "display_data"
    }
   ],
   "source": [
    "gROOT->GetListOfCanvases()->Draw()"
   ]
  }
 ],
 "metadata": {
  "kernelspec": {
   "display_name": "ROOT C++",
   "language": "c++",
   "name": "root"
  },
  "language_info": {
   "codemirror_mode": "text/x-c++src",
   "file_extension": ".C",
   "mimetype": " text/x-c++src",
   "name": "c++"
  }
 },
 "nbformat": 4,
 "nbformat_minor": 2
}
