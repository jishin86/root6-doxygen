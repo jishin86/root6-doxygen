{
 "cells": [
  {
   "cell_type": "markdown",
   "metadata": {},
   "source": [
    "# Rf 1 0 9_Chi 2Residpull\n",
    "Basic functionality: Calculating chi^2 from histograms and curves in RooPlots, making histogram of residual and pull\n",
    "distributions\n",
    "\n",
    "\n",
    "\n",
    "**Author:** 07/2008 - Wouter Verkerke  \n",
    "<i><small>This notebook tutorial was automatically generated with <a href= \"https://github.com/root-project/root/blob/master/documentation/doxygen/converttonotebook.py\">ROOTBOOK-izer</a> from the macro found in the ROOT repository  on Thursday, August 29, 2019 at 02:41 AM.</small></i>"
   ]
  },
  {
   "cell_type": "code",
   "execution_count": 1,
   "metadata": {
    "collapsed": false
   },
   "outputs": [],
   "source": [
    "%%cpp -d\n",
    "#include \"RooRealVar.h\"\n",
    "#include \"RooDataSet.h\"\n",
    "#include \"RooGaussian.h\"\n",
    "#include \"RooConstVar.h\"\n",
    "#include \"TCanvas.h\"\n",
    "#include \"TAxis.h\"\n",
    "#include \"RooPlot.h\"\n",
    "#include \"RooHist.h\""
   ]
  },
  {
   "cell_type": "code",
   "execution_count": 2,
   "metadata": {
    "collapsed": false
   },
   "outputs": [],
   "source": [
    "%%cpp -d\n",
    "// This is a workaround to make sure the namespace is used inside functions\n",
    "using namespace RooFit;"
   ]
  },
  {
   "cell_type": "markdown",
   "metadata": {},
   "source": [
    "Setup model\n",
    " ---------------------"
   ]
  },
  {
   "cell_type": "markdown",
   "metadata": {},
   "source": [
    "Create observables"
   ]
  },
  {
   "cell_type": "code",
   "execution_count": 3,
   "metadata": {
    "collapsed": false
   },
   "outputs": [
    {
     "name": "stdout",
     "output_type": "stream",
     "text": [
      "\n",
      "\u001b[1mRooFit v3.60 -- Developed by Wouter Verkerke and David Kirkby\u001b[0m \n",
      "                Copyright (C) 2000-2013 NIKHEF, University of California & Stanford University\n",
      "                All rights reserved, please read http://roofit.sourceforge.net/license.txt\n",
      "\n"
     ]
    }
   ],
   "source": [
    "RooRealVar x(\"x\", \"x\", -10, 10);"
   ]
  },
  {
   "cell_type": "markdown",
   "metadata": {},
   "source": [
    "Create gaussian"
   ]
  },
  {
   "cell_type": "code",
   "execution_count": 4,
   "metadata": {
    "collapsed": false
   },
   "outputs": [],
   "source": [
    "RooRealVar sigma(\"sigma\", \"sigma\", 3, 0.1, 10);\n",
    "RooRealVar mean(\"mean\", \"mean\", 0, -10, 10);\n",
    "RooGaussian gauss(\"gauss\", \"gauss\", x, RooConst(0), sigma);"
   ]
  },
  {
   "cell_type": "markdown",
   "metadata": {},
   "source": [
    "Generate a sample of 1000 events with sigma=3"
   ]
  },
  {
   "cell_type": "code",
   "execution_count": 5,
   "metadata": {
    "collapsed": false
   },
   "outputs": [],
   "source": [
    "RooDataSet *data = gauss.generate(x, 10000);"
   ]
  },
  {
   "cell_type": "markdown",
   "metadata": {},
   "source": [
    "Change sigma to 3.15"
   ]
  },
  {
   "cell_type": "code",
   "execution_count": 6,
   "metadata": {
    "collapsed": false
   },
   "outputs": [],
   "source": [
    "sigma = 3.15;"
   ]
  },
  {
   "cell_type": "markdown",
   "metadata": {},
   "source": [
    "Plot data and slightly distorted model\n",
    " ---------------------------------------------------------------------------"
   ]
  },
  {
   "cell_type": "markdown",
   "metadata": {},
   "source": [
    "Overlay projection of gauss with sigma=3.15 on data with sigma=3.0"
   ]
  },
  {
   "cell_type": "code",
   "execution_count": 7,
   "metadata": {
    "collapsed": false
   },
   "outputs": [],
   "source": [
    "RooPlot *frame1 = x.frame(Title(\"Data with distorted Gaussian pdf\"), Bins(40));\n",
    "data->plotOn(frame1, DataError(RooAbsData::SumW2));\n",
    "gauss.plotOn(frame1);"
   ]
  },
  {
   "cell_type": "markdown",
   "metadata": {},
   "source": [
    "Calculate chi^2\n",
    " ------------------------------"
   ]
  },
  {
   "cell_type": "markdown",
   "metadata": {},
   "source": [
    "Show the chi^2 of the curve w.r.t. the histogram\n",
    " If multiple curves or datasets live in the frame you can specify\n",
    " the name of the relevant curve and/or dataset in chiSquare()"
   ]
  },
  {
   "cell_type": "code",
   "execution_count": 8,
   "metadata": {
    "collapsed": false
   },
   "outputs": [
    {
     "name": "stdout",
     "output_type": "stream",
     "text": [
      "chi^2 = 2.63198\n"
     ]
    }
   ],
   "source": [
    "cout << \"chi^2 = \" << frame1->chiSquare() << endl;"
   ]
  },
  {
   "cell_type": "markdown",
   "metadata": {},
   "source": [
    "Show residual and pull dists\n",
    " -------------------------------------------------------"
   ]
  },
  {
   "cell_type": "markdown",
   "metadata": {},
   "source": [
    "Construct a histogram with the residuals of the data w.r.t. the curve"
   ]
  },
  {
   "cell_type": "code",
   "execution_count": 9,
   "metadata": {
    "collapsed": false
   },
   "outputs": [],
   "source": [
    "RooHist *hresid = frame1->residHist();"
   ]
  },
  {
   "cell_type": "markdown",
   "metadata": {},
   "source": [
    "Construct a histogram with the pulls of the data w.r.t the curve"
   ]
  },
  {
   "cell_type": "code",
   "execution_count": 10,
   "metadata": {
    "collapsed": false
   },
   "outputs": [],
   "source": [
    "RooHist *hpull = frame1->pullHist();"
   ]
  },
  {
   "cell_type": "markdown",
   "metadata": {},
   "source": [
    "Create a new frame to draw the residual distribution and add the distribution to the frame"
   ]
  },
  {
   "cell_type": "code",
   "execution_count": 11,
   "metadata": {
    "collapsed": false
   },
   "outputs": [],
   "source": [
    "RooPlot *frame2 = x.frame(Title(\"Residual Distribution\"));\n",
    "frame2->addPlotable(hresid, \"P\");"
   ]
  },
  {
   "cell_type": "markdown",
   "metadata": {},
   "source": [
    "Create a new frame to draw the pull distribution and add the distribution to the frame"
   ]
  },
  {
   "cell_type": "code",
   "execution_count": 12,
   "metadata": {
    "collapsed": false
   },
   "outputs": [],
   "source": [
    "RooPlot *frame3 = x.frame(Title(\"Pull Distribution\"));\n",
    "frame3->addPlotable(hpull, \"P\");\n",
    "\n",
    "TCanvas *c = new TCanvas(\"rf109_chi2residpull\", \"rf109_chi2residpull\", 900, 300);\n",
    "c->Divide(3);\n",
    "c->cd(1);\n",
    "gPad->SetLeftMargin(0.15);\n",
    "frame1->GetYaxis()->SetTitleOffset(1.6);\n",
    "frame1->Draw();\n",
    "c->cd(2);\n",
    "gPad->SetLeftMargin(0.15);\n",
    "frame2->GetYaxis()->SetTitleOffset(1.6);\n",
    "frame2->Draw();\n",
    "c->cd(3);\n",
    "gPad->SetLeftMargin(0.15);\n",
    "frame3->GetYaxis()->SetTitleOffset(1.6);\n",
    "frame3->Draw();"
   ]
  },
  {
   "cell_type": "markdown",
   "metadata": {},
   "source": [
    "Draw all canvases "
   ]
  },
  {
   "cell_type": "code",
   "execution_count": 13,
   "metadata": {
    "collapsed": false
   },
   "outputs": [
    {
     "data": {
      "text/html": [
       "\n",
       "<div id=\"root_plot_1\"\n",
       "     style=\"width: 896px; height: 272px\">\n",
       "</div>\n",
       "\n",
       "<script>\n",
       " requirejs.config({\n",
       "     paths: {\n",
       "       'JSRootCore' : 'https://root.cern.ch/js/notebook//scripts/JSRootCore',\n",
       "     }\n",
       "   });\n",
       " require(['JSRootCore'],\n",
       "     function(Core) {\n",
       "       var obj = Core.JSONR_unref({\"_typename\":\"TCanvas\",\"fUniqueID\":0,\"fBits\":53673992,\"fLineColor\":1,\"fLineStyle\":1,\"fLineWidth\":1,\"fFillColor\":0,\"fFillStyle\":1001,\"fLeftMargin\":0.1,\"fRightMargin\":0.1,\"fBottomMargin\":0.1,\"fTopMargin\":0.1,\"fXfile\":2,\"fYfile\":2,\"fAfile\":1,\"fXstat\":0.99,\"fYstat\":0.99,\"fAstat\":2,\"fFrameFillColor\":0,\"fFrameLineColor\":1,\"fFrameFillStyle\":1001,\"fFrameLineStyle\":1,\"fFrameLineWidth\":1,\"fFrameBorderSize\":1,\"fFrameBorderMode\":0,\"fX1\":0,\"fY1\":0,\"fX2\":1,\"fY2\":1,\"fXtoAbsPixelk\":5e-5,\"fXtoPixelk\":5e-5,\"fXtoPixel\":896,\"fYtoAbsPixelk\":272.00005,\"fYtoPixelk\":272.00005,\"fYtoPixel\":-272,\"fUtoAbsPixelk\":5e-5,\"fUtoPixelk\":5e-5,\"fUtoPixel\":896,\"fVtoAbsPixelk\":272.00005,\"fVtoPixelk\":272,\"fVtoPixel\":-272,\"fAbsPixeltoXk\":0,\"fPixeltoXk\":0,\"fPixeltoX\":0.00111607142857143,\"fAbsPixeltoYk\":1,\"fPixeltoYk\":0,\"fPixeltoY\":-0.00367647058823529,\"fXlowNDC\":0,\"fYlowNDC\":0,\"fXUpNDC\":0,\"fYUpNDC\":0,\"fWNDC\":1,\"fHNDC\":1,\"fAbsXlowNDC\":0,\"fAbsYlowNDC\":0,\"fAbsWNDC\":1,\"fAbsHNDC\":1,\"fUxmin\":0,\"fUymin\":0,\"fUxmax\":1,\"fUymax\":1,\"fTheta\":30,\"fPhi\":30,\"fAspectRatio\":0,\"fNumber\":0,\"fTickx\":0,\"fTicky\":0,\"fLogx\":0,\"fLogy\":0,\"fLogz\":0,\"fPadPaint\":0,\"fCrosshair\":0,\"fCrosshairPos\":0,\"fBorderSize\":2,\"fBorderMode\":0,\"fModified\":false,\"fGridx\":false,\"fGridy\":false,\"fAbsCoord\":false,\"fEditable\":true,\"fFixedAspectRatio\":false,\"fPrimitives\":{\"_typename\":\"TList\",\"name\":\"TList\",\"arr\":[{\"_typename\":\"TPad\",\"fUniqueID\":0,\"fBits\":50331657,\"fLineColor\":1,\"fLineStyle\":1,\"fLineWidth\":1,\"fFillColor\":0,\"fFillStyle\":1001,\"fLeftMargin\":0.15,\"fRightMargin\":0.1,\"fBottomMargin\":0.1,\"fTopMargin\":0.1,\"fXfile\":2,\"fYfile\":2,\"fAfile\":1,\"fXstat\":0.99,\"fYstat\":0.99,\"fAstat\":2,\"fFrameFillColor\":0,\"fFrameLineColor\":1,\"fFrameFillStyle\":1001,\"fFrameLineStyle\":1,\"fFrameLineWidth\":1,\"fFrameBorderSize\":1,\"fFrameBorderMode\":0,\"fX1\":-14.0000001589457,\"fY1\":-92.4050512333642,\"fX2\":12.6666667064031,\"fY2\":831.645406022576,\"fXtoAbsPixelk\":156.352050585238,\"fXtoPixelk\":147.39205078551,\"fXtoPixel\":10.5279999365807,\"fYtoAbsPixelk\":242.624048459816,\"fYtoPixelk\":239.904048520613,\"fYtoPixel\":-0.288469096063401,\"fUtoAbsPixelk\":8.96004979972839,\"fUtoPixelk\":5e-5,\"fUtoPixel\":280.74666706721,\"fVtoAbsPixelk\":269.280050060797,\"fVtoPixelk\":266.560000121593,\"fVtoPixel\":-266.560000121593,\"fAbsPixeltoXk\":-14.8510639748369,\"fPixeltoXk\":-14.0000001589457,\"fPixeltoX\":0.0949848030037874,\"fAbsPixeltoYk\":841.074492106049,\"fPixeltoYk\":-92.4050512333642,\"fPixeltoY\":-3.46657584346649,\"fXlowNDC\":0.00999999977648258,\"fYlowNDC\":0.00999999977648258,\"fXUpNDC\":0,\"fYUpNDC\":0,\"fWNDC\":0.313333333780368,\"fHNDC\":0.980000000447035,\"fAbsXlowNDC\":0.00999999977648258,\"fAbsYlowNDC\":0.00999999977648258,\"fAbsWNDC\":0.313333333780368,\"fAbsHNDC\":0.980000000447035,\"fUxmin\":-10,\"fUymin\":0,\"fUxmax\":10,\"fUymax\":739.240354789212,\"fTheta\":30,\"fPhi\":30,\"fAspectRatio\":0,\"fNumber\":1,\"fTickx\":0,\"fTicky\":0,\"fLogx\":0,\"fLogy\":0,\"fLogz\":0,\"fPadPaint\":0,\"fCrosshair\":0,\"fCrosshairPos\":0,\"fBorderSize\":2,\"fBorderMode\":0,\"fModified\":false,\"fGridx\":false,\"fGridy\":false,\"fAbsCoord\":false,\"fEditable\":true,\"fFixedAspectRatio\":false,\"fPrimitives\":{\"_typename\":\"TList\",\"name\":\"TList\",\"arr\":[{\"_typename\":\"TFrame\",\"fUniqueID\":0,\"fBits\":50331656,\"fLineColor\":1,\"fLineStyle\":1,\"fLineWidth\":1,\"fFillColor\":0,\"fFillStyle\":1001,\"fX1\":-10,\"fY1\":0,\"fX2\":10,\"fY2\":739.240354789212,\"fBorderSize\":1,\"fBorderMode\":0},{\"_typename\":\"TH1D\",\"fUniqueID\":0,\"fBits\":50332168,\"fName\":\"frame_7f0bdc3318d0\",\"fTitle\":\"Data with distorted Gaussian pdf\",\"fLineColor\":602,\"fLineStyle\":1,\"fLineWidth\":1,\"fFillColor\":0,\"fFillStyle\":1001,\"fMarkerColor\":1,\"fMarkerStyle\":1,\"fMarkerSize\":1,\"fNcells\":42,\"fXaxis\":{\"_typename\":\"TAxis\",\"fUniqueID\":0,\"fBits\":50331648,\"fName\":\"xaxis\",\"fTitle\":\"x\",\"fNdivisions\":510,\"fAxisColor\":1,\"fLabelColor\":1,\"fLabelFont\":42,\"fLabelOffset\":0.005,\"fLabelSize\":0.035,\"fTickLength\":0.03,\"fTitleOffset\":1,\"fTitleSize\":0.035,\"fTitleColor\":1,\"fTitleFont\":42,\"fNbins\":40,\"fXmin\":-10,\"fXmax\":10,\"fXbins\":[],\"fFirst\":0,\"fLast\":0,\"fBits2\":0,\"fTimeDisplay\":false,\"fTimeFormat\":\"\",\"fLabels\":null,\"fModLabs\":null},\"fYaxis\":{\"_typename\":\"TAxis\",\"fUniqueID\":0,\"fBits\":50331648,\"fName\":\"yaxis\",\"fTitle\":\"Events \\/ ( 0.5 )\",\"fNdivisions\":510,\"fAxisColor\":1,\"fLabelColor\":1,\"fLabelFont\":42,\"fLabelOffset\":0.005,\"fLabelSize\":0.035,\"fTickLength\":0.03,\"fTitleOffset\":1.6,\"fTitleSize\":0.035,\"fTitleColor\":1,\"fTitleFont\":42,\"fNbins\":1,\"fXmin\":0,\"fXmax\":1,\"fXbins\":[],\"fFirst\":0,\"fLast\":0,\"fBits2\":0,\"fTimeDisplay\":false,\"fTimeFormat\":\"\",\"fLabels\":null,\"fModLabs\":null},\"fZaxis\":{\"_typename\":\"TAxis\",\"fUniqueID\":0,\"fBits\":50331648,\"fName\":\"zaxis\",\"fTitle\":\"\",\"fNdivisions\":510,\"fAxisColor\":1,\"fLabelColor\":1,\"fLabelFont\":42,\"fLabelOffset\":0.005,\"fLabelSize\":0.035,\"fTickLength\":0.03,\"fTitleOffset\":1,\"fTitleSize\":0.035,\"fTitleColor\":1,\"fTitleFont\":42,\"fNbins\":1,\"fXmin\":0,\"fXmax\":1,\"fXbins\":[],\"fFirst\":0,\"fLast\":0,\"fBits2\":0,\"fTimeDisplay\":false,\"fTimeFormat\":\"\",\"fLabels\":null,\"fModLabs\":null},\"fBarOffset\":0,\"fBarWidth\":1000,\"fEntries\":1,\"fTsumw\":0,\"fTsumw2\":0,\"fTsumwx\":0,\"fTsumwx2\":0,\"fMaximum\":739.240354789212,\"fMinimum\":-1111,\"fNormFactor\":0,\"fContour\":[],\"fSumw2\":[],\"fOption\":\"\",\"fFunctions\":{\"_typename\":\"TList\",\"name\":\"TList\",\"arr\":[],\"opt\":[]},\"fBufferSize\":0,\"fBuffer\":[],\"fBinStatErrOpt\":0,\"fStatOverflows\":2,\"fArray\":[0,739.240354789212,0,0,0,0,0,0,0,0,0,0,0,0,0,0,0,0,0,0,0,0,0,0,0,0,0,0,0,0,0,0,0,0,0,0,0,0,0,0,0,0]},{\"_typename\":\"RooHist\",\"fUniqueID\":0,\"fBits\":50332680,\"fName\":\"h_gaussData\",\"fTitle\":\"Histogram of gaussData_plot__x\",\"fLineColor\":1,\"fLineStyle\":1,\"fLineWidth\":1,\"fFillColor\":0,\"fFillStyle\":1000,\"fMarkerColor\":1,\"fMarkerStyle\":8,\"fMarkerSize\":1,\"fNpoints\":40,\"fX\":[-9.75,-9.25,-8.75,-8.25,-7.75,-7.25,-6.75,-6.25,-5.75,-5.25,-4.75,-4.25,-3.75,-3.25,-2.75,-2.25,-1.75,-1.25,-0.75,-0.25,0.25,0.75,1.25,1.75,2.25,2.75,3.25,3.75,4.25,4.75,5.25,5.75,6.25,6.75,7.25,7.75,8.25,8.75,9.25,9.75],\"fY\":[3,5,6,13,24,32,52,83,98,142,201,239,291,363,433,520,537,646,624,656,678,661,588,562,507,467,369,331,235,166,119,108,87,59,34,31,11,10,4,5],\"fFunctions\":{\"_typename\":\"TList\",\"name\":\"TList\",\"arr\":[],\"opt\":[]},\"fHistogram\":{\"_typename\":\"TH1F\",\"fUniqueID\":0,\"fBits\":50332168,\"fName\":\"h_gaussData\",\"fTitle\":\"Histogram of gaussData_plot__x\",\"fLineColor\":602,\"fLineStyle\":1,\"fLineWidth\":1,\"fFillColor\":0,\"fFillStyle\":1001,\"fMarkerColor\":1,\"fMarkerStyle\":1,\"fMarkerSize\":1,\"fNcells\":102,\"fXaxis\":{\"_typename\":\"TAxis\",\"fUniqueID\":0,\"fBits\":50331648,\"fName\":\"xaxis\",\"fTitle\":\"\",\"fNdivisions\":510,\"fAxisColor\":1,\"fLabelColor\":1,\"fLabelFont\":42,\"fLabelOffset\":0.005,\"fLabelSize\":0.035,\"fTickLength\":0.03,\"fTitleOffset\":1,\"fTitleSize\":0.035,\"fTitleColor\":1,\"fTitleFont\":42,\"fNbins\":100,\"fXmin\":-12,\"fXmax\":12,\"fXbins\":[],\"fFirst\":0,\"fLast\":0,\"fBits2\":0,\"fTimeDisplay\":false,\"fTimeFormat\":\"\",\"fLabels\":null,\"fModLabs\":null},\"fYaxis\":{\"_typename\":\"TAxis\",\"fUniqueID\":0,\"fBits\":50331648,\"fName\":\"yaxis\",\"fTitle\":\"\",\"fNdivisions\":510,\"fAxisColor\":1,\"fLabelColor\":1,\"fLabelFont\":42,\"fLabelOffset\":0.005,\"fLabelSize\":0.035,\"fTickLength\":0.03,\"fTitleOffset\":0,\"fTitleSize\":0.035,\"fTitleColor\":1,\"fTitleFont\":42,\"fNbins\":1,\"fXmin\":1.14115427318801,\"fXmax\":774.315481526598,\"fXbins\":[],\"fFirst\":0,\"fLast\":0,\"fBits2\":0,\"fTimeDisplay\":false,\"fTimeFormat\":\"\",\"fLabels\":null,\"fModLabs\":null},\"fZaxis\":{\"_typename\":\"TAxis\",\"fUniqueID\":0,\"fBits\":50331648,\"fName\":\"zaxis\",\"fTitle\":\"\",\"fNdivisions\":510,\"fAxisColor\":1,\"fLabelColor\":1,\"fLabelFont\":42,\"fLabelOffset\":0.005,\"fLabelSize\":0.035,\"fTickLength\":0.03,\"fTitleOffset\":1,\"fTitleSize\":0.035,\"fTitleColor\":1,\"fTitleFont\":42,\"fNbins\":1,\"fXmin\":0,\"fXmax\":1,\"fXbins\":[],\"fFirst\":0,\"fLast\":0,\"fBits2\":0,\"fTimeDisplay\":false,\"fTimeFormat\":\"\",\"fLabels\":null,\"fModLabs\":null},\"fBarOffset\":0,\"fBarWidth\":1000,\"fEntries\":0,\"fTsumw\":0,\"fTsumw2\":0,\"fTsumwx\":0,\"fTsumwx2\":0,\"fMaximum\":774.315481526598,\"fMinimum\":1.14115427318801,\"fNormFactor\":0,\"fContour\":[],\"fSumw2\":[],\"fOption\":\"\",\"fFunctions\":{\"_typename\":\"TList\",\"name\":\"TList\",\"arr\":[],\"opt\":[]},\"fBufferSize\":0,\"fBuffer\":[],\"fBinStatErrOpt\":0,\"fStatOverflows\":2,\"fArray\":[0,0,0,0,0,0,0,0,0,0,0,0,0,0,0,0,0,0,0,0,0,0,0,0,0,0,0,0,0,0,0,0,0,0,0,0,0,0,0,0,0,0,0,0,0,0,0,0,0,0,0,0,0,0,0,0,0,0,0,0,0,0,0,0,0,0,0,0,0,0,0,0,0,0,0,0,0,0,0,0,0,0,0,0,0,0,0,0,0,0,0,0,0,0,0,0,0,0,0,0,0,0]},\"fMinimum\":-1111,\"fMaximum\":-1111,\"fEXlow\":[0.25,0.25,0.25,0.25,0.25,0.25,0.25,0.25,0.25,0.25,0.25,0.25,0.25,0.25,0.25,0.25,0.25,0.25,0.25,0.25,0.25,0.25,0.25,0.25,0.25,0.25,0.25,0.25,0.25,0.25,0.25,0.25,0.25,0.25,0.25,0.25,0.25,0.25,0.25,0.25],\"fEXhigh\":[0.25,0.25,0.25,0.25,0.25,0.25,0.25,0.25,0.25,0.25,0.25,0.25,0.25,0.25,0.25,0.25,0.25,0.25,0.25,0.25,0.25,0.25,0.25,0.25,0.25,0.25,0.25,0.25,0.25,0.25,0.25,0.25,0.25,0.25,0.25,0.25,0.25,0.25,0.25,0.25],\"fEYlow\":[1.73205080756888,2.23606797749979,2.44948974278318,3.60555127546399,4.89897948556636,5.65685424949238,7.21110255092798,9.1104335791443,9.89949493661167,11.916375287813,14.1774468787578,15.4596248337403,17.058722109232,19.0525588832577,20.8086520466848,22.8035085019828,23.1732604525129,25.4165300542777,24.9799919935936,25.6124969497314,26.0384331325831,25.7099202643649,24.2487113059643,23.7065391822594,22.5166604983954,21.6101827849743,19.2093727122985,18.1934053986603,15.3297097167559,12.8840987267251,10.9087121146357,10.3923048454133,9.32737905308882,7.68114574786861,5.8309518948453,5.56776436283002,3.3166247903554,3.16227766016838,2,2.23606797749979],\"fEYhigh\":[1.73205080756888,2.23606797749979,2.44948974278318,3.60555127546399,4.89897948556636,5.65685424949238,7.21110255092798,9.1104335791443,9.89949493661167,11.916375287813,14.1774468787578,15.4596248337403,17.058722109232,19.0525588832577,20.8086520466848,22.8035085019828,23.1732604525129,25.4165300542777,24.9799919935936,25.6124969497314,26.0384331325831,25.7099202643649,24.2487113059643,23.7065391822594,22.5166604983954,21.6101827849743,19.2093727122985,18.1934053986603,15.3297097167559,12.8840987267251,10.9087121146357,10.3923048454133,9.32737905308882,7.68114574786861,5.8309518948453,5.56776436283002,3.3166247903554,3.16227766016838,2,2.23606797749979],\"_yAxisLabel\":\"Events \\/ ( 0.5 )\",\"_ymin\":0,\"_ymax\":704.038433132583,\"_normValue\":0,\"_nominalBinWidth\":0.5,\"_nSigma\":1,\"_entries\":10000,\"_rawEntries\":-1},{\"_typename\":\"RooCurve\",\"fUniqueID\":0,\"fBits\":50332680,\"fName\":\"gauss_Norm[x]\",\"fTitle\":\"Projection of gauss\",\"fLineColor\":600,\"fLineStyle\":1,\"fLineWidth\":3,\"fFillColor\":0,\"fFillStyle\":1000,\"fMarkerColor\":1,\"fMarkerStyle\":1,\"fMarkerSize\":1,\"fNpoints\":68,\"fX\":[-10.5,-10.5,-10,-9.5,-9,-8.5,-8,-7.5,-7,-6.75,-6.5,-6.25,-6,-5.75,-5.5,-5.25,-5,-4.75,-4.5,-4.25,-4,-3.5,-3,-2.5,-2.25,-2,-1.75,-1.5,-1.25,-1,-0.75,-0.5,-0.25,0,0.25,0.5,0.75,1,1.25,1.5,1.75,2,2.25,2.5,3,3.5,4,4.25,4.5,4.75,5,5.25,5.5,5.75,6,6.25,6.5,6.75,7,7.5,8,8.5,9,9.5,10,10,10.5,10.5],\"fY\":[0,4.10949886086725,4.10949886086725,6.71677899614253,10.7051088961902,16.6371509208447,25.2130078616918,37.2587429491688,53.6895264889352,63.8435385592254,75.4412342944319,88.5859974628704,103.367933242452,119.859109131544,138.108598100362,158.137492232603,179.934083849575,203.449433815736,228.593561088346,255.232491496411,283.186395510948,342.088609939616,402.960687790954,462.854595598996,491.396681394513,518.423067317155,543.501659468962,566.215678310141,586.175099604076,603.027753233362,616.469640406977,626.254047759514,632.199076874152,634.193268261123,632.199076874152,626.254047759514,616.469640406977,603.027753233362,586.175099604076,566.215678310141,543.501659468962,518.423067317155,491.396681394513,462.854595598996,402.960687790954,342.088609939616,283.186395510948,255.232491496411,228.593561088346,203.449433815736,179.934083849575,158.137492232603,138.108598100362,119.859109131544,103.367933242452,88.5859974628704,75.4412342944319,63.8435385592254,53.6895264889352,37.2587429491688,25.2130078616918,16.6371509208447,10.7051088961902,6.71677899614253,4.10949886086726,4.10949886086726,4.10949886086726,0],\"fFunctions\":{\"_typename\":\"TList\",\"name\":\"TList\",\"arr\":[],\"opt\":[]},\"fHistogram\":{\"_typename\":\"TH1F\",\"fUniqueID\":0,\"fBits\":50332168,\"fName\":\"gauss_Norm[x]\",\"fTitle\":\"Projection of gauss\",\"fLineColor\":602,\"fLineStyle\":1,\"fLineWidth\":1,\"fFillColor\":0,\"fFillStyle\":1001,\"fMarkerColor\":1,\"fMarkerStyle\":1,\"fMarkerSize\":1,\"fNcells\":102,\"fXaxis\":{\"_typename\":\"TAxis\",\"fUniqueID\":0,\"fBits\":50331648,\"fName\":\"xaxis\",\"fTitle\":\"\",\"fNdivisions\":510,\"fAxisColor\":1,\"fLabelColor\":1,\"fLabelFont\":42,\"fLabelOffset\":0.005,\"fLabelSize\":0.035,\"fTickLength\":0.03,\"fTitleOffset\":1,\"fTitleSize\":0.035,\"fTitleColor\":1,\"fTitleFont\":42,\"fNbins\":100,\"fXmin\":-12.6,\"fXmax\":12.6,\"fXbins\":[],\"fFirst\":0,\"fLast\":0,\"fBits2\":0,\"fTimeDisplay\":false,\"fTimeFormat\":\"\",\"fLabels\":null,\"fModLabs\":null},\"fYaxis\":{\"_typename\":\"TAxis\",\"fUniqueID\":0,\"fBits\":50331648,\"fName\":\"yaxis\",\"fTitle\":\"\",\"fNdivisions\":510,\"fAxisColor\":1,\"fLabelColor\":1,\"fLabelFont\":42,\"fLabelOffset\":0.005,\"fLabelSize\":0.035,\"fTickLength\":0.03,\"fTitleOffset\":0,\"fTitleSize\":0.035,\"fTitleColor\":1,\"fTitleFont\":42,\"fNbins\":1,\"fXmin\":0,\"fXmax\":697.612595087235,\"fXbins\":[],\"fFirst\":0,\"fLast\":0,\"fBits2\":0,\"fTimeDisplay\":false,\"fTimeFormat\":\"\",\"fLabels\":null,\"fModLabs\":null},\"fZaxis\":{\"_typename\":\"TAxis\",\"fUniqueID\":0,\"fBits\":50331648,\"fName\":\"zaxis\",\"fTitle\":\"\",\"fNdivisions\":510,\"fAxisColor\":1,\"fLabelColor\":1,\"fLabelFont\":42,\"fLabelOffset\":0.005,\"fLabelSize\":0.035,\"fTickLength\":0.03,\"fTitleOffset\":1,\"fTitleSize\":0.035,\"fTitleColor\":1,\"fTitleFont\":42,\"fNbins\":1,\"fXmin\":0,\"fXmax\":1,\"fXbins\":[],\"fFirst\":0,\"fLast\":0,\"fBits2\":0,\"fTimeDisplay\":false,\"fTimeFormat\":\"\",\"fLabels\":null,\"fModLabs\":null},\"fBarOffset\":0,\"fBarWidth\":1000,\"fEntries\":0,\"fTsumw\":0,\"fTsumw2\":0,\"fTsumwx\":0,\"fTsumwx2\":0,\"fMaximum\":697.612595087235,\"fMinimum\":0,\"fNormFactor\":0,\"fContour\":[],\"fSumw2\":[],\"fOption\":\"\",\"fFunctions\":{\"_typename\":\"TList\",\"name\":\"TList\",\"arr\":[],\"opt\":[]},\"fBufferSize\":0,\"fBuffer\":[],\"fBinStatErrOpt\":0,\"fStatOverflows\":2,\"fArray\":[0,0,0,0,0,0,0,0,0,0,0,0,0,0,0,0,0,0,0,0,0,0,0,0,0,0,0,0,0,0,0,0,0,0,0,0,0,0,0,0,0,0,0,0,0,0,0,0,0,0,0,0,0,0,0,0,0,0,0,0,0,0,0,0,0,0,0,0,0,0,0,0,0,0,0,0,0,0,0,0,0,0,0,0,0,0,0,0,0,0,0,0,0,0,0,0,0,0,0,0,0,0]},\"fMinimum\":-1111,\"fMaximum\":-1111,\"_yAxisLabel\":\"Projection of gauss\",\"_ymin\":0,\"_ymax\":634.193268261123,\"_normValue\":0},{\"$ref\":5},{\"_typename\":\"TPaveText\",\"fUniqueID\":0,\"fBits\":50331657,\"fLineColor\":1,\"fLineStyle\":1,\"fLineWidth\":1,\"fFillColor\":0,\"fFillStyle\":0,\"fX1\":-10.0000001291434,\"fY1\":764.626792960116,\"fX2\":8.66666667660077,\"fY2\":827.025158142513,\"fX1NDC\":0.15,\"fY1NDC\":0.927472993994853,\"fX2NDC\":0.85,\"fY2NDC\":0.995000004768372,\"fBorderSize\":0,\"fInit\":1,\"fShadowColor\":1,\"fCornerRadius\":0,\"fOption\":\"blNDC\",\"fName\":\"title\",\"fTextAngle\":0,\"fTextSize\":0,\"fTextAlign\":22,\"fTextColor\":1,\"fTextFont\":42,\"fLabel\":\"\",\"fLongest\":32,\"fMargin\":0.05,\"fLines\":{\"_typename\":\"TList\",\"name\":\"TList\",\"arr\":[{\"_typename\":\"TLatex\",\"fUniqueID\":0,\"fBits\":50331648,\"fName\":\"\",\"fTitle\":\"Data with distorted Gaussian pdf\",\"fTextAngle\":0,\"fTextSize\":0,\"fTextAlign\":0,\"fTextColor\":0,\"fTextFont\":0,\"fX\":0,\"fY\":0,\"fLineColor\":1,\"fLineStyle\":1,\"fLineWidth\":2,\"fLimitFactorSize\":3,\"fOriginSize\":0.0573979578912258}],\"opt\":[\"\"]}}],\"opt\":[\"\",\"FUNC\",\"p\",\"l\",\"AXISSAME\",\"blNDC\"]},\"fExecs\":{\"_typename\":\"TList\",\"name\":\"TList\",\"arr\":[],\"opt\":[]},\"fName\":\"rf109_chi2residpull_1\",\"fTitle\":\"rf109_chi2residpull_1\",\"fNumPaletteColor\":0,\"fNextPaletteColor\":0},{\"_typename\":\"TPad\",\"fUniqueID\":0,\"fBits\":50331657,\"fLineColor\":1,\"fLineStyle\":1,\"fLineWidth\":1,\"fFillColor\":0,\"fFillStyle\":1001,\"fLeftMargin\":0.15,\"fRightMargin\":0.1,\"fBottomMargin\":0.1,\"fTopMargin\":0.1,\"fXfile\":2,\"fYfile\":2,\"fAfile\":1,\"fXstat\":0.99,\"fYstat\":0.99,\"fAstat\":2,\"fFrameFillColor\":0,\"fFrameLineColor\":1,\"fFrameFillStyle\":1001,\"fFrameLineStyle\":1,\"fFrameLineWidth\":1,\"fFrameBorderSize\":1,\"fFrameBorderMode\":0,\"fX1\":-14.0000001589457,\"fY1\":-75.7538394924896,\"fX2\":12.6666667064031,\"fY2\":110.661737400231,\"fXtoAbsPixelk\":455.018717251905,\"fXtoPixelk\":147.39205078551,\"fXtoPixel\":10.5279999365807,\"fYtoAbsPixelk\":160.95786046207,\"fYtoPixelk\":158.237860522867,\"fYtoPixel\":-1.42992342466636,\"fUtoAbsPixelk\":307.626716466395,\"fUtoPixelk\":5e-5,\"fUtoPixel\":280.74666706721,\"fVtoAbsPixelk\":269.280050060797,\"fVtoPixelk\":266.560000121593,\"fVtoPixel\":-266.560000121593,\"fAbsPixeltoXk\":-43.2198584719681,\"fPixeltoXk\":-14.0000001589457,\"fPixeltoX\":0.0949848030037874,\"fAbsPixeltoYk\":112.563937121057,\"fPixeltoYk\":-75.7538394924896,\"fPixeltoY\":-0.699338148288135,\"fXlowNDC\":0.343333333109816,\"fYlowNDC\":0.00999999977648258,\"fXUpNDC\":0,\"fYUpNDC\":0,\"fWNDC\":0.313333333780368,\"fHNDC\":0.980000000447035,\"fAbsXlowNDC\":0.343333333109816,\"fAbsYlowNDC\":0.00999999977648258,\"fAbsWNDC\":0.313333333780368,\"fAbsHNDC\":0.980000000447035,\"fUxmin\":-10,\"fUymin\":-57.1122806920941,\"fUxmax\":10,\"fUymax\":92.0201785998352,\"fTheta\":30,\"fPhi\":30,\"fAspectRatio\":0,\"fNumber\":2,\"fTickx\":0,\"fTicky\":0,\"fLogx\":0,\"fLogy\":0,\"fLogz\":0,\"fPadPaint\":0,\"fCrosshair\":0,\"fCrosshairPos\":0,\"fBorderSize\":2,\"fBorderMode\":0,\"fModified\":false,\"fGridx\":false,\"fGridy\":false,\"fAbsCoord\":false,\"fEditable\":true,\"fFixedAspectRatio\":false,\"fPrimitives\":{\"_typename\":\"TList\",\"name\":\"TList\",\"arr\":[{\"_typename\":\"TFrame\",\"fUniqueID\":0,\"fBits\":50331656,\"fLineColor\":1,\"fLineStyle\":1,\"fLineWidth\":1,\"fFillColor\":0,\"fFillStyle\":1001,\"fX1\":-10,\"fY1\":-57.1122806920941,\"fX2\":10,\"fY2\":92.0201785998352,\"fBorderSize\":1,\"fBorderMode\":0},{\"_typename\":\"TH1D\",\"fUniqueID\":0,\"fBits\":50332168,\"fName\":\"frame_7f0bdc087760\",\"fTitle\":\"Residual Distribution\",\"fLineColor\":602,\"fLineStyle\":1,\"fLineWidth\":1,\"fFillColor\":0,\"fFillStyle\":1001,\"fMarkerColor\":1,\"fMarkerStyle\":1,\"fMarkerSize\":1,\"fNcells\":102,\"fXaxis\":{\"_typename\":\"TAxis\",\"fUniqueID\":0,\"fBits\":50331648,\"fName\":\"xaxis\",\"fTitle\":\"x\",\"fNdivisions\":510,\"fAxisColor\":1,\"fLabelColor\":1,\"fLabelFont\":42,\"fLabelOffset\":0.005,\"fLabelSize\":0.035,\"fTickLength\":0.03,\"fTitleOffset\":1,\"fTitleSize\":0.035,\"fTitleColor\":1,\"fTitleFont\":42,\"fNbins\":100,\"fXmin\":-10,\"fXmax\":10,\"fXbins\":[],\"fFirst\":0,\"fLast\":0,\"fBits2\":0,\"fTimeDisplay\":false,\"fTimeFormat\":\"\",\"fLabels\":null,\"fModLabs\":null},\"fYaxis\":{\"_typename\":\"TAxis\",\"fUniqueID\":0,\"fBits\":50331648,\"fName\":\"yaxis\",\"fTitle\":\"\",\"fNdivisions\":510,\"fAxisColor\":1,\"fLabelColor\":1,\"fLabelFont\":42,\"fLabelOffset\":0.005,\"fLabelSize\":0.035,\"fTickLength\":0.03,\"fTitleOffset\":1.6,\"fTitleSize\":0.035,\"fTitleColor\":1,\"fTitleFont\":42,\"fNbins\":1,\"fXmin\":0,\"fXmax\":1,\"fXbins\":[],\"fFirst\":0,\"fLast\":0,\"fBits2\":0,\"fTimeDisplay\":false,\"fTimeFormat\":\"\",\"fLabels\":null,\"fModLabs\":null},\"fZaxis\":{\"_typename\":\"TAxis\",\"fUniqueID\":0,\"fBits\":50331648,\"fName\":\"zaxis\",\"fTitle\":\"\",\"fNdivisions\":510,\"fAxisColor\":1,\"fLabelColor\":1,\"fLabelFont\":42,\"fLabelOffset\":0.005,\"fLabelSize\":0.035,\"fTickLength\":0.03,\"fTitleOffset\":1,\"fTitleSize\":0.035,\"fTitleColor\":1,\"fTitleFont\":42,\"fNbins\":1,\"fXmin\":0,\"fXmax\":1,\"fXbins\":[],\"fFirst\":0,\"fLast\":0,\"fBits2\":0,\"fTimeDisplay\":false,\"fTimeFormat\":\"\",\"fLabels\":null,\"fModLabs\":null},\"fBarOffset\":0,\"fBarWidth\":1000,\"fEntries\":1,\"fTsumw\":0,\"fTsumw2\":0,\"fTsumwx\":0,\"fTsumwx2\":0,\"fMaximum\":92.0201785998352,\"fMinimum\":-57.1122806920941,\"fNormFactor\":0,\"fContour\":[],\"fSumw2\":[],\"fOption\":\"\",\"fFunctions\":{\"_typename\":\"TList\",\"name\":\"TList\",\"arr\":[],\"opt\":[]},\"fBufferSize\":0,\"fBuffer\":[],\"fBinStatErrOpt\":0,\"fStatOverflows\":2,\"fArray\":[0,92.0201785998352,0,0,0,0,0,0,0,0,0,0,0,0,0,0,0,0,0,0,0,0,0,0,0,0,0,0,0,0,0,0,0,0,0,0,0,0,0,0,0,0,0,0,0,0,0,0,0,0,0,0,0,0,0,0,0,0,0,0,0,0,0,0,0,0,0,0,0,0,0,0,0,0,0,0,0,0,0,0,0,0,0,0,0,0,0,0,0,0,0,0,0,0,0,0,0,0,0,0,0,0]},{\"_typename\":\"RooHist\",\"fUniqueID\":0,\"fBits\":50332680,\"fName\":\"resid_h_gaussData_gauss_Norm[x]\",\"fTitle\":\"Residual of Histogram of gaussData_plot__x and Projection of gauss\",\"fLineColor\":1,\"fLineStyle\":1,\"fLineWidth\":1,\"fFillColor\":0,\"fFillStyle\":1000,\"fMarkerColor\":1,\"fMarkerStyle\":8,\"fMarkerSize\":1,\"fNpoints\":40,\"fX\":[-9.75,-9.25,-8.75,-8.25,-7.75,-7.25,-6.75,-6.25,-5.75,-5.25,-4.75,-4.25,-3.75,-3.25,-2.75,-2.25,-1.75,-1.25,-0.75,-0.25,0.25,0.75,1.25,1.75,2.25,2.75,3.25,3.75,4.25,4.75,5.25,5.75,6.25,6.75,7.25,7.75,8.25,8.75,9.25,9.75],\"fY\":[-2.41313892850489,-3.71094394616636,-7.67112990851746,-7.92507939126827,-7.23587540543033,-13.474134719052,-11.8435385592254,-5.58599746287037,-21.8591091315438,-16.1374922326033,-2.44943381573583,-16.232491496411,-21.6375027252817,-9.5246488652848,0.0923583050253001,28.6033186054867,-6.50165946896232,59.8249003959244,7.53035959302326,23.8009231258476,45.8009231258476,44.5303595930233,1.82490039592437,18.4983405310377,15.6033186054867,34.0923583050253,-3.5246488652848,18.3624972747183,-20.232491496411,-37.4494338157358,-39.1374922326033,-11.8591091315438,-1.58599746287037,-4.84353855922544,-11.474134719052,-0.235875405430328,-9.92507939126827,-3.67112990851746,-4.71094394616636,-0.413138928504894],\"fFunctions\":{\"_typename\":\"TList\",\"name\":\"TList\",\"arr\":[],\"opt\":[]},\"fHistogram\":{\"_typename\":\"TH1F\",\"fUniqueID\":0,\"fBits\":50332168,\"fName\":\"resid_h_gaussData_gauss_Norm[x]\",\"fTitle\":\"Residual of Histogram of gaussData_plot__x and Projection of gauss\",\"fLineColor\":602,\"fLineStyle\":1,\"fLineWidth\":1,\"fFillColor\":0,\"fFillStyle\":1001,\"fMarkerColor\":1,\"fMarkerStyle\":1,\"fMarkerSize\":1,\"fNcells\":102,\"fXaxis\":{\"_typename\":\"TAxis\",\"fUniqueID\":0,\"fBits\":50331648,\"fName\":\"xaxis\",\"fTitle\":\"\",\"fNdivisions\":510,\"fAxisColor\":1,\"fLabelColor\":1,\"fLabelFont\":42,\"fLabelOffset\":0.005,\"fLabelSize\":0.035,\"fTickLength\":0.03,\"fTitleOffset\":1,\"fTitleSize\":0.035,\"fTitleColor\":1,\"fTitleFont\":42,\"fNbins\":100,\"fXmin\":-11.7,\"fXmax\":11.7,\"fXbins\":[],\"fFirst\":0,\"fLast\":0,\"fBits2\":0,\"fTimeDisplay\":false,\"fTimeFormat\":\"\",\"fLabels\":null,\"fModLabs\":null},\"fYaxis\":{\"_typename\":\"TAxis\",\"fUniqueID\":0,\"fBits\":50331648,\"fName\":\"yaxis\",\"fTitle\":\"\",\"fNdivisions\":510,\"fAxisColor\":1,\"fLabelColor\":1,\"fLabelFont\":42,\"fLabelOffset\":0.005,\"fLabelSize\":0.035,\"fTickLength\":0.03,\"fTitleOffset\":0,\"fTitleSize\":0.035,\"fTitleColor\":1,\"fTitleFont\":42,\"fNbins\":1,\"fXmin\":-63.8910288417273,\"fXmax\":98.7989267494684,\"fXbins\":[],\"fFirst\":0,\"fLast\":0,\"fBits2\":0,\"fTimeDisplay\":false,\"fTimeFormat\":\"\",\"fLabels\":null,\"fModLabs\":null},\"fZaxis\":{\"_typename\":\"TAxis\",\"fUniqueID\":0,\"fBits\":50331648,\"fName\":\"zaxis\",\"fTitle\":\"\",\"fNdivisions\":510,\"fAxisColor\":1,\"fLabelColor\":1,\"fLabelFont\":42,\"fLabelOffset\":0.005,\"fLabelSize\":0.035,\"fTickLength\":0.03,\"fTitleOffset\":1,\"fTitleSize\":0.035,\"fTitleColor\":1,\"fTitleFont\":42,\"fNbins\":1,\"fXmin\":0,\"fXmax\":1,\"fXbins\":[],\"fFirst\":0,\"fLast\":0,\"fBits2\":0,\"fTimeDisplay\":false,\"fTimeFormat\":\"\",\"fLabels\":null,\"fModLabs\":null},\"fBarOffset\":0,\"fBarWidth\":1000,\"fEntries\":0,\"fTsumw\":0,\"fTsumw2\":0,\"fTsumwx\":0,\"fTsumwx2\":0,\"fMaximum\":98.7989267494684,\"fMinimum\":-63.8910288417273,\"fNormFactor\":0,\"fContour\":[],\"fSumw2\":[],\"fOption\":\"\",\"fFunctions\":{\"_typename\":\"TList\",\"name\":\"TList\",\"arr\":[],\"opt\":[]},\"fBufferSize\":0,\"fBuffer\":[],\"fBinStatErrOpt\":0,\"fStatOverflows\":2,\"fArray\":[0,0,0,0,0,0,0,0,0,0,0,0,0,0,0,0,0,0,0,0,0,0,0,0,0,0,0,0,0,0,0,0,0,0,0,0,0,0,0,0,0,0,0,0,0,0,0,0,0,0,0,0,0,0,0,0,0,0,0,0,0,0,0,0,0,0,0,0,0,0,0,0,0,0,0,0,0,0,0,0,0,0,0,0,0,0,0,0,0,0,0,0,0,0,0,0,0,0,0,0,0,0]},\"fMinimum\":-1111,\"fMaximum\":-1111,\"fEXlow\":[0,0,0,0,0,0,0,0,0,0,0,0,0,0,0,0,0,0,0,0,0,0,0,0,0,0,0,0,0,0,0,0,0,0,0,0,0,0,0,0],\"fEXhigh\":[0,0,0,0,0,0,0,0,0,0,0,0,0,0,0,0,0,0,0,0,0,0,0,0,0,0,0,0,0,0,0,0,0,0,0,0,0,0,0,0],\"fEYlow\":[1.73205080756888,2.23606797749979,2.44948974278318,3.60555127546399,4.89897948556636,5.65685424949238,7.21110255092798,9.1104335791443,9.89949493661167,11.916375287813,14.1774468787578,15.4596248337403,17.058722109232,19.0525588832577,20.8086520466848,22.8035085019828,23.1732604525129,25.4165300542777,24.9799919935936,25.6124969497314,26.0384331325831,25.7099202643649,24.2487113059643,23.7065391822594,22.5166604983954,21.6101827849743,19.2093727122985,18.1934053986603,15.3297097167559,12.8840987267251,10.9087121146357,10.3923048454133,9.32737905308882,7.68114574786861,5.8309518948453,5.56776436283002,3.3166247903554,3.16227766016838,2,2.23606797749979],\"fEYhigh\":[1.73205080756888,2.23606797749979,2.44948974278318,3.60555127546399,4.89897948556636,5.65685424949238,7.21110255092798,9.1104335791443,9.89949493661167,11.916375287813,14.1774468787578,15.4596248337403,17.058722109232,19.0525588832577,20.8086520466848,22.8035085019828,23.1732604525129,25.4165300542777,24.9799919935936,25.6124969497314,26.0384331325831,25.7099202643649,24.2487113059643,23.7065391822594,22.5166604983954,21.6101827849743,19.2093727122985,18.1934053986603,15.3297097167559,12.8840987267251,10.9087121146357,10.3923048454133,9.32737905308882,7.68114574786861,5.8309518948453,5.56776436283002,3.3166247903554,3.16227766016838,2,2.23606797749979],\"_yAxisLabel\":\"\",\"_ymin\":-50.333532542461,\"_ymax\":85.241430450202,\"_normValue\":0,\"_nominalBinWidth\":0.5,\"_nSigma\":1,\"_entries\":-4.70063206310131,\"_rawEntries\":-1},{\"$ref\":31},{\"_typename\":\"TPaveText\",\"fUniqueID\":0,\"fBits\":50331657,\"fLineColor\":1,\"fLineStyle\":1,\"fLineWidth\":1,\"fFillColor\":0,\"fFillStyle\":0,\"fX1\":-7.58226960518992,\"fY1\":99.4768035227867,\"fX2\":6.24893615264729,\"fY2\":109.729660404666,\"fX1NDC\":0.240664893972749,\"fY1NDC\":0.940000003948808,\"fX2NDC\":0.759335106027251,\"fY2NDC\":0.995000004768372,\"fBorderSize\":0,\"fInit\":1,\"fShadowColor\":1,\"fCornerRadius\":0,\"fOption\":\"blNDC\",\"fName\":\"title\",\"fTextAngle\":0,\"fTextSize\":0,\"fTextAlign\":22,\"fTextColor\":1,\"fTextFont\":42,\"fLabel\":\"\",\"fLongest\":21,\"fMargin\":0.05,\"fLines\":{\"_typename\":\"TList\",\"name\":\"TList\",\"arr\":[{\"_typename\":\"TLatex\",\"fUniqueID\":0,\"fBits\":50331648,\"fName\":\"\",\"fTitle\":\"Residual Distribution\",\"fTextAngle\":0,\"fTextSize\":0,\"fTextAlign\":0,\"fTextColor\":0,\"fTextFont\":0,\"fX\":0,\"fY\":0,\"fLineColor\":1,\"fLineStyle\":1,\"fLineWidth\":2,\"fLimitFactorSize\":3,\"fOriginSize\":0.0467500016093254}],\"opt\":[\"\"]}}],\"opt\":[\"\",\"FUNC\",\"p\",\"AXISSAME\",\"blNDC\"]},\"fExecs\":{\"_typename\":\"TList\",\"name\":\"TList\",\"arr\":[],\"opt\":[]},\"fName\":\"rf109_chi2residpull_2\",\"fTitle\":\"rf109_chi2residpull_2\",\"fNumPaletteColor\":0,\"fNextPaletteColor\":0},{\"_typename\":\"TPad\",\"fUniqueID\":0,\"fBits\":50331657,\"fLineColor\":1,\"fLineStyle\":1,\"fLineWidth\":1,\"fFillColor\":0,\"fFillStyle\":1001,\"fLeftMargin\":0.15,\"fRightMargin\":0.1,\"fBottomMargin\":0.1,\"fTopMargin\":0.1,\"fXfile\":2,\"fYfile\":2,\"fAfile\":1,\"fXstat\":0.99,\"fYstat\":0.99,\"fAstat\":2,\"fFrameFillColor\":0,\"fFrameLineColor\":1,\"fFrameFillStyle\":1001,\"fFrameLineStyle\":1,\"fFrameLineWidth\":1,\"fFrameBorderSize\":1,\"fFrameBorderMode\":0,\"fX1\":-14.0000001589457,\"fY1\":-6.07676072238197,\"fX2\":12.6666667064031,\"fY2\":4.84281191598842,\"fXtoAbsPixelk\":753.685383918571,\"fXtoPixelk\":147.39205078551,\"fXtoPixel\":10.5279999365807,\"fYtoAbsPixelk\":120.938957186417,\"fYtoPixelk\":118.218957247214,\"fYtoPixel\":-24.4112117707726,\"fUtoAbsPixelk\":606.293383133062,\"fUtoPixelk\":5e-5,\"fUtoPixel\":280.74666706721,\"fVtoAbsPixelk\":269.280050060797,\"fVtoPixelk\":266.560000121593,\"fVtoPixel\":-266.560000121593,\"fAbsPixeltoXk\":-71.5886529690992,\"fPixeltoXk\":-14.0000001589457,\"fPixeltoX\":0.0949848030037874,\"fAbsPixeltoYk\":4.95423612404268,\"fPixeltoYk\":-6.07676072238197,\"fPixeltoY\":-0.0409647832885254,\"fXlowNDC\":0.676666666443149,\"fYlowNDC\":0.00999999977648258,\"fXUpNDC\":0,\"fYUpNDC\":0,\"fWNDC\":0.313333333780368,\"fHNDC\":0.980000000447035,\"fAbsXlowNDC\":0.676666666443149,\"fAbsYlowNDC\":0.00999999977648258,\"fAbsWNDC\":0.313333333780368,\"fAbsHNDC\":0.980000000447035,\"fUxmin\":-10,\"fUymin\":-4.98480339345921,\"fUxmax\":10,\"fUymax\":3.75085458706565,\"fTheta\":30,\"fPhi\":30,\"fAspectRatio\":0,\"fNumber\":3,\"fTickx\":0,\"fTicky\":0,\"fLogx\":0,\"fLogy\":0,\"fLogz\":0,\"fPadPaint\":0,\"fCrosshair\":0,\"fCrosshairPos\":0,\"fBorderSize\":2,\"fBorderMode\":0,\"fModified\":false,\"fGridx\":false,\"fGridy\":false,\"fAbsCoord\":false,\"fEditable\":true,\"fFixedAspectRatio\":false,\"fPrimitives\":{\"_typename\":\"TList\",\"name\":\"TList\",\"arr\":[{\"_typename\":\"TFrame\",\"fUniqueID\":0,\"fBits\":50331656,\"fLineColor\":1,\"fLineStyle\":1,\"fLineWidth\":1,\"fFillColor\":0,\"fFillStyle\":1001,\"fX1\":-10,\"fY1\":-4.98480339345921,\"fX2\":10,\"fY2\":3.75085458706565,\"fBorderSize\":1,\"fBorderMode\":0},{\"_typename\":\"TH1D\",\"fUniqueID\":0,\"fBits\":50332168,\"fName\":\"frame_7f0bdc3c1930\",\"fTitle\":\"Pull Distribution\",\"fLineColor\":602,\"fLineStyle\":1,\"fLineWidth\":1,\"fFillColor\":0,\"fFillStyle\":1001,\"fMarkerColor\":1,\"fMarkerStyle\":1,\"fMarkerSize\":1,\"fNcells\":102,\"fXaxis\":{\"_typename\":\"TAxis\",\"fUniqueID\":0,\"fBits\":50331648,\"fName\":\"xaxis\",\"fTitle\":\"x\",\"fNdivisions\":510,\"fAxisColor\":1,\"fLabelColor\":1,\"fLabelFont\":42,\"fLabelOffset\":0.005,\"fLabelSize\":0.035,\"fTickLength\":0.03,\"fTitleOffset\":1,\"fTitleSize\":0.035,\"fTitleColor\":1,\"fTitleFont\":42,\"fNbins\":100,\"fXmin\":-10,\"fXmax\":10,\"fXbins\":[],\"fFirst\":0,\"fLast\":0,\"fBits2\":0,\"fTimeDisplay\":false,\"fTimeFormat\":\"\",\"fLabels\":null,\"fModLabs\":null},\"fYaxis\":{\"_typename\":\"TAxis\",\"fUniqueID\":0,\"fBits\":50331648,\"fName\":\"yaxis\",\"fTitle\":\"\",\"fNdivisions\":510,\"fAxisColor\":1,\"fLabelColor\":1,\"fLabelFont\":42,\"fLabelOffset\":0.005,\"fLabelSize\":0.035,\"fTickLength\":0.03,\"fTitleOffset\":1.6,\"fTitleSize\":0.035,\"fTitleColor\":1,\"fTitleFont\":42,\"fNbins\":1,\"fXmin\":0,\"fXmax\":1,\"fXbins\":[],\"fFirst\":0,\"fLast\":0,\"fBits2\":0,\"fTimeDisplay\":false,\"fTimeFormat\":\"\",\"fLabels\":null,\"fModLabs\":null},\"fZaxis\":{\"_typename\":\"TAxis\",\"fUniqueID\":0,\"fBits\":50331648,\"fName\":\"zaxis\",\"fTitle\":\"\",\"fNdivisions\":510,\"fAxisColor\":1,\"fLabelColor\":1,\"fLabelFont\":42,\"fLabelOffset\":0.005,\"fLabelSize\":0.035,\"fTickLength\":0.03,\"fTitleOffset\":1,\"fTitleSize\":0.035,\"fTitleColor\":1,\"fTitleFont\":42,\"fNbins\":1,\"fXmin\":0,\"fXmax\":1,\"fXbins\":[],\"fFirst\":0,\"fLast\":0,\"fBits2\":0,\"fTimeDisplay\":false,\"fTimeFormat\":\"\",\"fLabels\":null,\"fModLabs\":null},\"fBarOffset\":0,\"fBarWidth\":1000,\"fEntries\":1,\"fTsumw\":0,\"fTsumw2\":0,\"fTsumwx\":0,\"fTsumwx2\":0,\"fMaximum\":3.75085458706565,\"fMinimum\":-4.98480339345921,\"fNormFactor\":0,\"fContour\":[],\"fSumw2\":[],\"fOption\":\"\",\"fFunctions\":{\"_typename\":\"TList\",\"name\":\"TList\",\"arr\":[],\"opt\":[]},\"fBufferSize\":0,\"fBuffer\":[],\"fBinStatErrOpt\":0,\"fStatOverflows\":2,\"fArray\":[0,3.75085458706565,0,0,0,0,0,0,0,0,0,0,0,0,0,0,0,0,0,0,0,0,0,0,0,0,0,0,0,0,0,0,0,0,0,0,0,0,0,0,0,0,0,0,0,0,0,0,0,0,0,0,0,0,0,0,0,0,0,0,0,0,0,0,0,0,0,0,0,0,0,0,0,0,0,0,0,0,0,0,0,0,0,0,0,0,0,0,0,0,0,0,0,0,0,0,0,0,0,0,0,0]},{\"_typename\":\"RooHist\",\"fUniqueID\":0,\"fBits\":50332680,\"fName\":\"pull_h_gaussData_gauss_Norm[x]\",\"fTitle\":\"Pull of Histogram of gaussData_plot__x and Projection of gauss\",\"fLineColor\":1,\"fLineStyle\":1,\"fLineWidth\":1,\"fFillColor\":0,\"fFillStyle\":1000,\"fMarkerColor\":1,\"fMarkerStyle\":8,\"fMarkerSize\":1,\"fNpoints\":40,\"fX\":[-9.75,-9.25,-8.75,-8.25,-7.75,-7.25,-6.75,-6.25,-5.75,-5.25,-4.75,-4.25,-3.75,-3.25,-2.75,-2.25,-1.75,-1.25,-0.75,-0.25,0.25,0.75,1.25,1.75,2.25,2.75,3.25,3.75,4.25,4.75,5.25,5.75,6.25,6.75,7.25,7.75,8.25,8.75,9.25,9.75],\"fY\":[-1.39322640996426,-1.65958458486386,-3.13172567107846,-2.19802154671851,-1.47701688213822,-2.3819130076157,-1.64240329070086,-0.613142877816254,-2.20810347108734,-1.35422826512583,-0.172769740326507,-1.04999258849955,-1.26841287329323,-0.499914416937168,0.0044384568888985,1.2543384980868,-0.280567315172832,2.35377922431452,0.30145564477981,0.929269925246284,1.75897385578608,1.73203024883529,0.0752576239165137,0.780305399654487,0.692967707471481,1.57760619816367,-0.183485890875978,1.00929413006267,-1.31982221909239,-2.90663977434879,-3.58772803070808,-1.14114330824099,-0.170036776016426,-0.630575010319189,-1.96779787005196,-0.042364473433002,-2.99252403230235,-1.16091320972807,-2.35547197308318,-0.184761345657674],\"fFunctions\":{\"_typename\":\"TList\",\"name\":\"TList\",\"arr\":[],\"opt\":[]},\"fHistogram\":{\"_typename\":\"TH1F\",\"fUniqueID\":0,\"fBits\":50332168,\"fName\":\"pull_h_gaussData_gauss_Norm[x]\",\"fTitle\":\"Pull of Histogram of gaussData_plot__x and Projection of gauss\",\"fLineColor\":602,\"fLineStyle\":1,\"fLineWidth\":1,\"fFillColor\":0,\"fFillStyle\":1001,\"fMarkerColor\":1,\"fMarkerStyle\":1,\"fMarkerSize\":1,\"fNcells\":102,\"fXaxis\":{\"_typename\":\"TAxis\",\"fUniqueID\":0,\"fBits\":50331648,\"fName\":\"xaxis\",\"fTitle\":\"\",\"fNdivisions\":510,\"fAxisColor\":1,\"fLabelColor\":1,\"fLabelFont\":42,\"fLabelOffset\":0.005,\"fLabelSize\":0.035,\"fTickLength\":0.03,\"fTitleOffset\":1,\"fTitleSize\":0.035,\"fTitleColor\":1,\"fTitleFont\":42,\"fNbins\":100,\"fXmin\":-11.7,\"fXmax\":11.7,\"fXbins\":[],\"fFirst\":0,\"fLast\":0,\"fBits2\":0,\"fTimeDisplay\":false,\"fTimeFormat\":\"\",\"fLabels\":null,\"fModLabs\":null},\"fYaxis\":{\"_typename\":\"TAxis\",\"fUniqueID\":0,\"fBits\":50331648,\"fName\":\"yaxis\",\"fTitle\":\"\",\"fNdivisions\":510,\"fAxisColor\":1,\"fLabelColor\":1,\"fLabelFont\":42,\"fLabelOffset\":0.005,\"fLabelSize\":0.035,\"fTickLength\":0.03,\"fTitleOffset\":0,\"fTitleSize\":0.035,\"fTitleColor\":1,\"fTitleFont\":42,\"fNbins\":1,\"fXmin\":-5.38187875621034,\"fXmax\":4.14792994981678,\"fXbins\":[],\"fFirst\":0,\"fLast\":0,\"fBits2\":0,\"fTimeDisplay\":false,\"fTimeFormat\":\"\",\"fLabels\":null,\"fModLabs\":null},\"fZaxis\":{\"_typename\":\"TAxis\",\"fUniqueID\":0,\"fBits\":50331648,\"fName\":\"zaxis\",\"fTitle\":\"\",\"fNdivisions\":510,\"fAxisColor\":1,\"fLabelColor\":1,\"fLabelFont\":42,\"fLabelOffset\":0.005,\"fLabelSize\":0.035,\"fTickLength\":0.03,\"fTitleOffset\":1,\"fTitleSize\":0.035,\"fTitleColor\":1,\"fTitleFont\":42,\"fNbins\":1,\"fXmin\":0,\"fXmax\":1,\"fXbins\":[],\"fFirst\":0,\"fLast\":0,\"fBits2\":0,\"fTimeDisplay\":false,\"fTimeFormat\":\"\",\"fLabels\":null,\"fModLabs\":null},\"fBarOffset\":0,\"fBarWidth\":1000,\"fEntries\":0,\"fTsumw\":0,\"fTsumw2\":0,\"fTsumwx\":0,\"fTsumwx2\":0,\"fMaximum\":4.14792994981678,\"fMinimum\":-5.38187875621034,\"fNormFactor\":0,\"fContour\":[],\"fSumw2\":[],\"fOption\":\"\",\"fFunctions\":{\"_typename\":\"TList\",\"name\":\"TList\",\"arr\":[],\"opt\":[]},\"fBufferSize\":0,\"fBuffer\":[],\"fBinStatErrOpt\":0,\"fStatOverflows\":2,\"fArray\":[0,0,0,0,0,0,0,0,0,0,0,0,0,0,0,0,0,0,0,0,0,0,0,0,0,0,0,0,0,0,0,0,0,0,0,0,0,0,0,0,0,0,0,0,0,0,0,0,0,0,0,0,0,0,0,0,0,0,0,0,0,0,0,0,0,0,0,0,0,0,0,0,0,0,0,0,0,0,0,0,0,0,0,0,0,0,0,0,0,0,0,0,0,0,0,0,0,0,0,0,0,0]},\"fMinimum\":-1111,\"fMaximum\":-1111,\"fEXlow\":[0,0,0,0,0,0,0,0,0,0,0,0,0,0,0,0,0,0,0,0,0,0,0,0,0,0,0,0,0,0,0,0,0,0,0,0,0,0,0,0],\"fEXhigh\":[0,0,0,0,0,0,0,0,0,0,0,0,0,0,0,0,0,0,0,0,0,0,0,0,0,0,0,0,0,0,0,0,0,0,0,0,0,0,0,0],\"fEYlow\":[1,1,1,1,1,1,1,1,1,1,1,1,1,1,1,1,1,1,1,1,1,1,1,1,1,1,1,1,1,1,1,1,1,1,1,1,1,1,1,1],\"fEYhigh\":[1,1,1,1,1,1,1,1,1,1,1,1,1,1,1,1,1,1,1,1,1,1,1,1,1,1,1,1,1,1,1,1,1,1,1,1,1,1,1,1],\"_yAxisLabel\":\"\",\"_ymin\":-4.58772803070808,\"_ymax\":3.35377922431452,\"_normValue\":0,\"_nominalBinWidth\":0.5,\"_nSigma\":1,\"_entries\":-27.5045699419902,\"_rawEntries\":-1},{\"$ref\":50},{\"_typename\":\"TPaveText\",\"fUniqueID\":0,\"fBits\":50331657,\"fLineColor\":1,\"fLineStyle\":1,\"fLineWidth\":1,\"fFillColor\":0,\"fFillStyle\":0,\"fX1\":-6.06251275712932,\"fY1\":4.18763760080548,\"fX2\":4.72917930458669,\"fY2\":4.78821410486514,\"fX1NDC\":0.297655775350407,\"fY1NDC\":0.940000003948808,\"fX2NDC\":0.702344224649593,\"fY2NDC\":0.995000004768372,\"fBorderSize\":0,\"fInit\":1,\"fShadowColor\":1,\"fCornerRadius\":0,\"fOption\":\"blNDC\",\"fName\":\"title\",\"fTextAngle\":0,\"fTextSize\":0,\"fTextAlign\":22,\"fTextColor\":1,\"fTextFont\":42,\"fLabel\":\"\",\"fLongest\":17,\"fMargin\":0.05,\"fLines\":{\"_typename\":\"TList\",\"name\":\"TList\",\"arr\":[{\"_typename\":\"TLatex\",\"fUniqueID\":0,\"fBits\":50331648,\"fName\":\"\",\"fTitle\":\"Pull Distribution\",\"fTextAngle\":0,\"fTextSize\":0,\"fTextAlign\":0,\"fTextColor\":0,\"fTextFont\":0,\"fX\":0,\"fY\":0,\"fLineColor\":1,\"fLineStyle\":1,\"fLineWidth\":2,\"fLimitFactorSize\":3,\"fOriginSize\":0.0467500016093254}],\"opt\":[\"\"]}}],\"opt\":[\"\",\"FUNC\",\"p\",\"AXISSAME\",\"blNDC\"]},\"fExecs\":{\"_typename\":\"TList\",\"name\":\"TList\",\"arr\":[],\"opt\":[]},\"fName\":\"rf109_chi2residpull_3\",\"fTitle\":\"rf109_chi2residpull_3\",\"fNumPaletteColor\":0,\"fNextPaletteColor\":0}],\"opt\":[\"\",\"\",\"\"]},\"fExecs\":null,\"fName\":\"rf109_chi2residpull\",\"fTitle\":\"rf109_chi2residpull\",\"fNumPaletteColor\":0,\"fNextPaletteColor\":0,\"fDISPLAY\":\"$DISPLAY\",\"fDoubleBuffer\":0,\"fRetained\":true,\"fXsizeUser\":0,\"fYsizeUser\":0,\"fXsizeReal\":20,\"fYsizeReal\":6.666667,\"fWindowTopX\":0,\"fWindowTopY\":0,\"fWindowWidth\":0,\"fWindowHeight\":0,\"fCw\":896,\"fCh\":272,\"fCatt\":{\"_typename\":\"TAttCanvas\",\"fXBetween\":2,\"fYBetween\":2,\"fTitleFromTop\":1.2,\"fXdate\":0.2,\"fYdate\":0.3,\"fAdate\":1},\"kMoveOpaque\":true,\"kResizeOpaque\":true,\"fHighLightColor\":2,\"fBatch\":true,\"kShowEventStatus\":false,\"kAutoExec\":true,\"kMenuBar\":true});\n",
       "       Core.draw(\"root_plot_1\", obj, \"\");\n",
       "     }\n",
       " );\n",
       "</script>\n"
      ],
      "text/plain": [
       "<IPython.core.display.HTML object>"
      ]
     },
     "metadata": {},
     "output_type": "display_data"
    }
   ],
   "source": [
    "%jsroot on\n",
    "gROOT->GetListOfCanvases()->Draw()"
   ]
  }
 ],
 "metadata": {
  "kernelspec": {
   "display_name": "ROOT C++",
   "language": "c++",
   "name": "root"
  },
  "language_info": {
   "codemirror_mode": "text/x-c++src",
   "file_extension": ".C",
   "mimetype": " text/x-c++src",
   "name": "c++"
  }
 },
 "nbformat": 4,
 "nbformat_minor": 2
}
