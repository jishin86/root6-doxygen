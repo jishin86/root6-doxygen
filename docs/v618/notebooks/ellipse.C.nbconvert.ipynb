{
 "cells": [
  {
   "cell_type": "markdown",
   "metadata": {},
   "source": [
    "# Ellipse\n",
    "Draw ellipses.\n",
    "\n",
    "\n",
    "\n",
    "\n",
    "**Author:** Rene Brun  \n",
    "<i><small>This notebook tutorial was automatically generated with <a href= \"https://github.com/root-project/root/blob/master/documentation/doxygen/converttonotebook.py\">ROOTBOOK-izer</a> from the macro found in the ROOT repository  on Thursday, August 29, 2019 at 01:39 AM.</small></i>"
   ]
  },
  {
   "cell_type": "code",
   "execution_count": 1,
   "metadata": {
    "collapsed": false
   },
   "outputs": [],
   "source": [
    "TCanvas *c1 = new TCanvas(\"c1\");\n",
    "c1->Range(0,0,1,1);\n",
    "TPaveLabel *pel = new TPaveLabel(0.1,0.8,0.9,0.95,\"Examples of Ellipses\");\n",
    "pel->SetFillColor(42);\n",
    "pel->Draw();\n",
    "TEllipse *el1 = new TEllipse(0.25,0.25,.1,.2);\n",
    "el1->Draw();\n",
    "TEllipse *el2 = new TEllipse(0.25,0.6,.2,.1);\n",
    "el2->SetFillColor(6);\n",
    "el2->SetFillStyle(3008);\n",
    "el2->Draw();\n",
    "TEllipse *el3 = new TEllipse(0.75,0.6,.2,.1,45,315);\n",
    "el3->SetFillColor(2);\n",
    "el3->SetFillStyle(1001);\n",
    "el3->SetLineColor(4);\n",
    "el3->Draw();\n",
    "TEllipse *el4 = new TEllipse(0.75,0.25,.2,.15,45,315,62);\n",
    "el4->SetFillColor(5);\n",
    "el4->SetFillStyle(1001);\n",
    "el4->SetLineColor(4);\n",
    "el4->SetLineWidth(6);\n",
    "el4->Draw();\n",
    "return c1;"
   ]
  },
  {
   "cell_type": "markdown",
   "metadata": {},
   "source": [
    "Draw all canvases "
   ]
  },
  {
   "cell_type": "code",
   "execution_count": 2,
   "metadata": {
    "collapsed": false
   },
   "outputs": [
    {
     "data": {
      "text/html": [
       "\n",
       "<div id=\"root_plot_1\"\n",
       "     style=\"width: 696px; height: 472px\">\n",
       "</div>\n",
       "\n",
       "<script>\n",
       " requirejs.config({\n",
       "     paths: {\n",
       "       'JSRootCore' : 'https://root.cern.ch/js/notebook//scripts/JSRootCore',\n",
       "     }\n",
       "   });\n",
       " require(['JSRootCore'],\n",
       "     function(Core) {\n",
       "       var obj = Core.JSONR_unref({\"_typename\":\"TCanvas\",\"fUniqueID\":0,\"fBits\":53673992,\"fLineColor\":1,\"fLineStyle\":1,\"fLineWidth\":1,\"fFillColor\":0,\"fFillStyle\":1001,\"fLeftMargin\":0.1,\"fRightMargin\":0.1,\"fBottomMargin\":0.1,\"fTopMargin\":0.1,\"fXfile\":2,\"fYfile\":2,\"fAfile\":1,\"fXstat\":0.99,\"fYstat\":0.99,\"fAstat\":2,\"fFrameFillColor\":0,\"fFrameLineColor\":1,\"fFrameFillStyle\":1001,\"fFrameLineStyle\":1,\"fFrameLineWidth\":1,\"fFrameBorderSize\":1,\"fFrameBorderMode\":0,\"fX1\":0,\"fY1\":0,\"fX2\":1,\"fY2\":1,\"fXtoAbsPixelk\":5e-5,\"fXtoPixelk\":5e-5,\"fXtoPixel\":696,\"fYtoAbsPixelk\":472.00005,\"fYtoPixelk\":472.00005,\"fYtoPixel\":-472,\"fUtoAbsPixelk\":5e-5,\"fUtoPixelk\":5e-5,\"fUtoPixel\":696,\"fVtoAbsPixelk\":472.00005,\"fVtoPixelk\":472,\"fVtoPixel\":-472,\"fAbsPixeltoXk\":0,\"fPixeltoXk\":0,\"fPixeltoX\":0.0014367816091954,\"fAbsPixeltoYk\":1,\"fPixeltoYk\":0,\"fPixeltoY\":-0.00211864406779661,\"fXlowNDC\":0,\"fYlowNDC\":0,\"fXUpNDC\":0,\"fYUpNDC\":0,\"fWNDC\":1,\"fHNDC\":1,\"fAbsXlowNDC\":0,\"fAbsYlowNDC\":0,\"fAbsWNDC\":1,\"fAbsHNDC\":1,\"fUxmin\":0,\"fUymin\":0,\"fUxmax\":1,\"fUymax\":1,\"fTheta\":30,\"fPhi\":30,\"fAspectRatio\":0,\"fNumber\":0,\"fTickx\":0,\"fTicky\":0,\"fLogx\":0,\"fLogy\":0,\"fLogz\":0,\"fPadPaint\":0,\"fCrosshair\":0,\"fCrosshairPos\":0,\"fBorderSize\":2,\"fBorderMode\":0,\"fModified\":false,\"fGridx\":false,\"fGridy\":false,\"fAbsCoord\":false,\"fEditable\":true,\"fFixedAspectRatio\":false,\"fPrimitives\":{\"_typename\":\"TList\",\"name\":\"TList\",\"arr\":[{\"_typename\":\"TPaveLabel\",\"fUniqueID\":0,\"fBits\":50331656,\"fLineColor\":1,\"fLineStyle\":1,\"fLineWidth\":1,\"fFillColor\":42,\"fFillStyle\":1001,\"fX1\":0.1,\"fY1\":0.8,\"fX2\":0.9,\"fY2\":0.95,\"fX1NDC\":0.1,\"fY1NDC\":0.8,\"fX2NDC\":0.9,\"fY2NDC\":0.95,\"fBorderSize\":3,\"fInit\":1,\"fShadowColor\":1,\"fCornerRadius\":0,\"fOption\":\"br\",\"fName\":\"TPave\",\"fTextAngle\":0,\"fTextSize\":0.99,\"fTextAlign\":22,\"fTextColor\":1,\"fTextFont\":62,\"fLabel\":\"Examples of Ellipses\"},{\"_typename\":\"TEllipse\",\"fUniqueID\":0,\"fBits\":50331656,\"fLineColor\":1,\"fLineStyle\":1,\"fLineWidth\":1,\"fFillColor\":0,\"fFillStyle\":1001,\"fX1\":0.25,\"fY1\":0.25,\"fR1\":0.1,\"fR2\":0.2,\"fPhimin\":0,\"fPhimax\":360,\"fTheta\":0},{\"_typename\":\"TEllipse\",\"fUniqueID\":0,\"fBits\":50331656,\"fLineColor\":1,\"fLineStyle\":1,\"fLineWidth\":1,\"fFillColor\":6,\"fFillStyle\":3008,\"fX1\":0.25,\"fY1\":0.6,\"fR1\":0.2,\"fR2\":0.1,\"fPhimin\":0,\"fPhimax\":360,\"fTheta\":0},{\"_typename\":\"TEllipse\",\"fUniqueID\":0,\"fBits\":50331656,\"fLineColor\":4,\"fLineStyle\":1,\"fLineWidth\":1,\"fFillColor\":2,\"fFillStyle\":1001,\"fX1\":0.75,\"fY1\":0.6,\"fR1\":0.2,\"fR2\":0.1,\"fPhimin\":45,\"fPhimax\":315,\"fTheta\":0},{\"_typename\":\"TEllipse\",\"fUniqueID\":0,\"fBits\":50331656,\"fLineColor\":4,\"fLineStyle\":1,\"fLineWidth\":6,\"fFillColor\":5,\"fFillStyle\":1001,\"fX1\":0.75,\"fY1\":0.25,\"fR1\":0.2,\"fR2\":0.15,\"fPhimin\":45,\"fPhimax\":315,\"fTheta\":62}],\"opt\":[\"br\",\"\",\"\",\"\",\"\"]},\"fExecs\":null,\"fName\":\"c1\",\"fTitle\":\"\",\"fNumPaletteColor\":0,\"fNextPaletteColor\":0,\"fDISPLAY\":\"$DISPLAY\",\"fDoubleBuffer\":0,\"fRetained\":true,\"fXsizeUser\":0,\"fYsizeUser\":0,\"fXsizeReal\":20,\"fYsizeReal\":14.28571,\"fWindowTopX\":0,\"fWindowTopY\":0,\"fWindowWidth\":0,\"fWindowHeight\":0,\"fCw\":696,\"fCh\":472,\"fCatt\":{\"_typename\":\"TAttCanvas\",\"fXBetween\":2,\"fYBetween\":2,\"fTitleFromTop\":1.2,\"fXdate\":0.2,\"fYdate\":0.3,\"fAdate\":1},\"kMoveOpaque\":true,\"kResizeOpaque\":true,\"fHighLightColor\":2,\"fBatch\":true,\"kShowEventStatus\":false,\"kAutoExec\":true,\"kMenuBar\":true});\n",
       "       Core.draw(\"root_plot_1\", obj, \"\");\n",
       "     }\n",
       " );\n",
       "</script>\n"
      ],
      "text/plain": [
       "<IPython.core.display.HTML object>"
      ]
     },
     "metadata": {},
     "output_type": "display_data"
    }
   ],
   "source": [
    "%jsroot on\n",
    "gROOT->GetListOfCanvases()->Draw()"
   ]
  }
 ],
 "metadata": {
  "kernelspec": {
   "display_name": "ROOT C++",
   "language": "c++",
   "name": "root"
  },
  "language_info": {
   "codemirror_mode": "text/x-c++src",
   "file_extension": ".C",
   "mimetype": " text/x-c++src",
   "name": "c++"
  }
 },
 "nbformat": 4,
 "nbformat_minor": 2
}
