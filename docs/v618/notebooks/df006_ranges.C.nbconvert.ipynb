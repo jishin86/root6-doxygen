{
 "cells": [
  {
   "cell_type": "markdown",
   "metadata": {},
   "source": [
    "# Df 0 0 6_Ranges\n",
    "This tutorial shows how to express the concept of ranges when working with the RDataFrame.\n",
    "\n",
    "\n",
    "\n",
    "\n",
    "**Author:** Danilo Piparo  \n",
    "<i><small>This notebook tutorial was automatically generated with <a href= \"https://github.com/root-project/root/blob/master/documentation/doxygen/converttonotebook.py\">ROOTBOOK-izer</a> from the macro found in the ROOT repository  on Thursday, August 29, 2019 at 01:01 AM.</small></i>"
   ]
  },
  {
   "cell_type": "markdown",
   "metadata": {},
   "source": [
    "  A simple helper function to fill a test tree: this makes the example\n",
    " stand-alone.\n",
    " "
   ]
  },
  {
   "cell_type": "code",
   "execution_count": 1,
   "metadata": {
    "collapsed": false
   },
   "outputs": [],
   "source": [
    "%%cpp -d\n",
    "void fill_tree(const char *treeName, const char *fileName)\n",
    "{\n",
    "   ROOT::RDataFrame d(100);\n",
    "   int i(0);\n",
    "   d.Define(\"b1\", [&i]() { return i; })\n",
    "      .Define(\"b2\",\n",
    "              [&i]() {\n",
    "                 float j = i * i;\n",
    "                 ++i;\n",
    "                 return j;\n",
    "              })\n",
    "      .Snapshot(treeName, fileName);\n",
    "}"
   ]
  },
  {
   "cell_type": "markdown",
   "metadata": {},
   "source": [
    "We prepare an input tree to run on"
   ]
  },
  {
   "cell_type": "code",
   "execution_count": 2,
   "metadata": {
    "collapsed": false
   },
   "outputs": [],
   "source": [
    "auto fileName = \"df006_ranges.root\";\n",
    "auto treeName = \"myTree\";\n",
    "fill_tree(treeName, fileName);"
   ]
  },
  {
   "cell_type": "markdown",
   "metadata": {},
   "source": [
    "We read the tree from the file and create a rdataframe."
   ]
  },
  {
   "cell_type": "code",
   "execution_count": 3,
   "metadata": {
    "collapsed": false
   },
   "outputs": [],
   "source": [
    "ROOT::RDataFrame d(treeName, fileName);"
   ]
  },
  {
   "cell_type": "markdown",
   "metadata": {},
   "source": [
    " ## Usage of ranges\n",
    " Now we'll count some entries using ranges"
   ]
  },
  {
   "cell_type": "code",
   "execution_count": 4,
   "metadata": {
    "collapsed": false
   },
   "outputs": [],
   "source": [
    "auto c_all = d.Count();"
   ]
  },
  {
   "cell_type": "markdown",
   "metadata": {},
   "source": [
    "This is how you can express a range of the first 30 entries"
   ]
  },
  {
   "cell_type": "code",
   "execution_count": 5,
   "metadata": {
    "collapsed": false
   },
   "outputs": [],
   "source": [
    "auto d_0_30 = d.Range(0, 30);\n",
    "auto c_0_30 = d_0_30.Count();"
   ]
  },
  {
   "cell_type": "markdown",
   "metadata": {},
   "source": [
    "This is how you pick all entries from 15 onwards"
   ]
  },
  {
   "cell_type": "code",
   "execution_count": 6,
   "metadata": {
    "collapsed": false
   },
   "outputs": [],
   "source": [
    "auto d_15_end = d.Range(15, 0);\n",
    "auto c_15_end = d_15_end.Count();"
   ]
  },
  {
   "cell_type": "markdown",
   "metadata": {},
   "source": [
    "We can use a stride too, in this case we pick an event every 3"
   ]
  },
  {
   "cell_type": "code",
   "execution_count": 7,
   "metadata": {
    "collapsed": false
   },
   "outputs": [],
   "source": [
    "auto d_15_end_3 = d.Range(15, 0, 3);\n",
    "auto c_15_end_3 = d_15_end_3.Count();"
   ]
  },
  {
   "cell_type": "markdown",
   "metadata": {},
   "source": [
    "The range is a 1st class citizen in the rdataframe graph:\n",
    " not only actions (like Count) but also filters and new columns can be added to it."
   ]
  },
  {
   "cell_type": "code",
   "execution_count": 8,
   "metadata": {
    "collapsed": false
   },
   "outputs": [],
   "source": [
    "auto d_0_50 = d.Range(0, 50);\n",
    "auto c_0_50_odd_b1 = d_0_50.Filter(\"1 == b1 % 2\").Count();"
   ]
  },
  {
   "cell_type": "markdown",
   "metadata": {},
   "source": [
    "An important thing to notice is that the counts of a filter are relative to the\n",
    " number of entries a filter \"sees\". Therefore, if a Range depends on a filter,\n",
    " the Range will act on the entries passing the filter only."
   ]
  },
  {
   "cell_type": "code",
   "execution_count": 9,
   "metadata": {
    "collapsed": false
   },
   "outputs": [],
   "source": [
    "auto c_0_3_after_even_b1 = d.Filter(\"0 == b1 % 2\").Range(0, 3).Count();"
   ]
  },
  {
   "cell_type": "markdown",
   "metadata": {},
   "source": [
    "Ok, time to wrap up: let's print all counts!"
   ]
  },
  {
   "cell_type": "code",
   "execution_count": 10,
   "metadata": {
    "collapsed": false
   },
   "outputs": [
    {
     "name": "stdout",
     "output_type": "stream",
     "text": [
      "Usage of ranges:\n",
      " - All entries: 100\n",
      " - Entries from 0 to 30: 30\n",
      " - Entries from 15 onwards: 85\n",
      " - Entries from 15 onwards in steps of 3: 28\n",
      " - Entries from 0 to 50, odd only: 25\n",
      " - First three entries of all even entries: 3\n"
     ]
    }
   ],
   "source": [
    "cout << \"Usage of ranges:\\n\"\n",
    "     << \" - All entries: \" << *c_all << endl\n",
    "     << \" - Entries from 0 to 30: \" << *c_0_30 << endl\n",
    "     << \" - Entries from 15 onwards: \" << *c_15_end << endl\n",
    "     << \" - Entries from 15 onwards in steps of 3: \" << *c_15_end_3 << endl\n",
    "     << \" - Entries from 0 to 50, odd only: \" << *c_0_50_odd_b1 << endl\n",
    "     << \" - First three entries of all even entries: \" << *c_0_3_after_even_b1 << endl;\n",
    "\n",
    "return 0;"
   ]
  },
  {
   "cell_type": "markdown",
   "metadata": {},
   "source": [
    "Draw all canvases "
   ]
  },
  {
   "cell_type": "code",
   "execution_count": 11,
   "metadata": {
    "collapsed": false
   },
   "outputs": [],
   "source": [
    "gROOT->GetListOfCanvases()->Draw()"
   ]
  }
 ],
 "metadata": {
  "kernelspec": {
   "display_name": "ROOT C++",
   "language": "c++",
   "name": "root"
  },
  "language_info": {
   "codemirror_mode": "text/x-c++src",
   "file_extension": ".C",
   "mimetype": " text/x-c++src",
   "name": "c++"
  }
 },
 "nbformat": 4,
 "nbformat_minor": 2
}
