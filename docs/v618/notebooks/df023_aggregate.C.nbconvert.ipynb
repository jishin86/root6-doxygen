{
 "cells": [
  {
   "cell_type": "markdown",
   "metadata": {},
   "source": [
    "# Df 0 2 3_Aggregate\n",
    "This tutorial shows how to use the Aggregate action to evaluate the product of all the elements of a column.\n",
    "This operation may be performed using a Reduce action, however aggregate is used for the sake of the tutorial\n",
    "\n",
    "\n",
    "\n",
    "\n",
    "**Author:** Enrico Guiraud, Danilo Piparo CERN, Massimo Tumolo Politecnico di Torino  \n",
    "<i><small>This notebook tutorial was automatically generated with <a href= \"https://github.com/root-project/root/blob/master/documentation/doxygen/converttonotebook.py\">ROOTBOOK-izer</a> from the macro found in the ROOT repository  on Thursday, August 29, 2019 at 01:12 AM.</small></i>"
   ]
  },
  {
   "cell_type": "markdown",
   "metadata": {},
   "source": [
    "Column to be aggregated"
   ]
  },
  {
   "cell_type": "code",
   "execution_count": 1,
   "metadata": {
    "collapsed": false
   },
   "outputs": [],
   "source": [
    "const std::string columnName = \"x\";\n",
    "\n",
    "ROOT::EnableImplicitMT(2);\n",
    "auto rdf = ROOT::RDataFrame(5);\n",
    "auto d = rdf.Define(columnName, \"rdfentry_ + 1.\");"
   ]
  },
  {
   "cell_type": "markdown",
   "metadata": {},
   "source": [
    "Aggregator function. it receives an accumulator (acc) and a column value (x). the variable acc is shared among the\n",
    " calls, so the function has to specify how the value has to be aggregated in the accumulator."
   ]
  },
  {
   "cell_type": "code",
   "execution_count": 2,
   "metadata": {
    "collapsed": false
   },
   "outputs": [],
   "source": [
    "auto aggregator = [](double acc, double x) { return acc * x; };"
   ]
  },
  {
   "cell_type": "markdown",
   "metadata": {},
   "source": [
    "If multithread is enabled, the aggregator function will be called by more threads and will produce a vector of\n",
    " partial accumulators. The merger function performs the final aggregation of these partial results."
   ]
  },
  {
   "cell_type": "code",
   "execution_count": 3,
   "metadata": {
    "collapsed": false
   },
   "outputs": [],
   "source": [
    "auto merger = [](std::vector<double> &accumulators) {\n",
    "   auto size = accumulators.size();\n",
    "   for (int i = 1; i < size; ++i) {\n",
    "      accumulators[0] *= accumulators[i];\n",
    "   }\n",
    "};"
   ]
  },
  {
   "cell_type": "markdown",
   "metadata": {},
   "source": [
    "The accumulator is initialized at this value by every thread."
   ]
  },
  {
   "cell_type": "code",
   "execution_count": 4,
   "metadata": {
    "collapsed": false
   },
   "outputs": [],
   "source": [
    "double initValue = 1.;"
   ]
  },
  {
   "cell_type": "markdown",
   "metadata": {},
   "source": [
    "Multiplies all elements of the column \"x\""
   ]
  },
  {
   "cell_type": "code",
   "execution_count": 5,
   "metadata": {
    "collapsed": false
   },
   "outputs": [
    {
     "name": "stdout",
     "output_type": "stream",
     "text": [
      "120\n"
     ]
    }
   ],
   "source": [
    "auto result = d.Aggregate(aggregator, merger, columnName, initValue);\n",
    "\n",
    "std::cout << *result << std::endl;"
   ]
  },
  {
   "cell_type": "markdown",
   "metadata": {},
   "source": [
    "Draw all canvases "
   ]
  },
  {
   "cell_type": "code",
   "execution_count": 6,
   "metadata": {
    "collapsed": false
   },
   "outputs": [],
   "source": [
    "gROOT->GetListOfCanvases()->Draw()"
   ]
  }
 ],
 "metadata": {
  "kernelspec": {
   "display_name": "ROOT C++",
   "language": "c++",
   "name": "root"
  },
  "language_info": {
   "codemirror_mode": "text/x-c++src",
   "file_extension": ".C",
   "mimetype": " text/x-c++src",
   "name": "c++"
  }
 },
 "nbformat": 4,
 "nbformat_minor": 2
}
