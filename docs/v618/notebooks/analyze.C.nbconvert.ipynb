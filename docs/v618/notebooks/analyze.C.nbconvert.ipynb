{
 "cells": [
  {
   "cell_type": "markdown",
   "metadata": {},
   "source": [
    "# Analyze\n",
    "This macro produces the flowchart of TFormula::Analyze.\n",
    "\n",
    "\n",
    "\n",
    "\n",
    "**Author:** Rene Brun  \n",
    "<i><small>This notebook tutorial was automatically generated with <a href= \"https://github.com/root-project/root/blob/master/documentation/doxygen/converttonotebook.py\">ROOTBOOK-izer</a> from the macro found in the ROOT repository  on Thursday, August 29, 2019 at 01:37 AM.</small></i>"
   ]
  },
  {
   "cell_type": "code",
   "execution_count": 1,
   "metadata": {
    "collapsed": false
   },
   "outputs": [],
   "source": [
    "TCanvas *c1 = new TCanvas(\"c1\",\"Analyze.mac\",620,790);\n",
    "c1->Range(-1,0,19,30);\n",
    "TPaveLabel *pl1 = new TPaveLabel(0,27,3.5,29,\"Analyze\");\n",
    "pl1->SetFillColor(42);\n",
    "pl1->Draw();\n",
    "TPaveText *pt1 = new TPaveText(0,22.8,4,25.2);\n",
    "TText *t1  = pt1->AddText(\"Parenthesis matching\");\n",
    "TText *t2  = pt1->AddText(\"Remove unnecessary\");\n",
    "TText *t2a = pt1->AddText(\"parenthesis\");\n",
    "pt1->Draw();\n",
    "TPaveText *pt2 = new TPaveText(6,23,10,25);\n",
    "TText *t3 = pt2->AddText(\"break of\");\n",
    "TText *t4 = pt2->AddText(\"Analyze\");\n",
    "pt2->Draw();\n",
    "TPaveText *pt3 = new TPaveText(0,19,4,21);\n",
    "t4=pt3->AddText(\"look for simple\");\n",
    "TText *t5 = pt3->AddText(\"operators\");\n",
    "pt3->Draw();\n",
    "TPaveText *pt4 = new TPaveText(0,15,4,17);\n",
    "TText *t6 = pt4->AddText(\"look for an already\");\n",
    "TText *t7 = pt4->AddText(\"defined expression\");\n",
    "pt4->Draw();\n",
    "TPaveText *pt5 = new TPaveText(0,11,4,13);\n",
    "TText *t8 = pt5->AddText(\"look for usual\");\n",
    "TText *t9 = pt5->AddText(\"functions :cos sin ..\");\n",
    "pt5->Draw();\n",
    "TPaveText *pt6 = new TPaveText(0,7,4,9);\n",
    "TText *t10 = pt6->AddText(\"look for a\");\n",
    "TText *t11 = pt6->AddText(\"numeric value\");\n",
    "pt6->Draw();\n",
    "TPaveText *pt7 = new TPaveText(6,18.5,10,21.5);\n",
    "TText *t12 = pt7->AddText(\"Analyze left and\");\n",
    "TText *t13 = pt7->AddText(\"right part of\");\n",
    "TText *t14 = pt7->AddText(\"the expression\");\n",
    "pt7->Draw();\n",
    "TPaveText *pt8 = new TPaveText(6,15,10,17);\n",
    "TText *t15 = pt8->AddText(\"Replace expression\");\n",
    "pt8->Draw();\n",
    "TPaveText *pt9 = new TPaveText(6,11,10,13);\n",
    "TText *t16 = pt9->AddText(\"Analyze\");\n",
    "pt9->SetFillColor(42);\n",
    "pt9->Draw();\n",
    "TPaveText *pt10 = new TPaveText(6,7,10,9);\n",
    "TText *t17 = pt10->AddText(\"Error\");\n",
    "TText *t18 = pt10->AddText(\"Break of Analyze\");\n",
    "pt10->Draw();\n",
    "TPaveText *pt11 = new TPaveText(14,22,17,24);\n",
    "pt11->SetFillColor(42);\n",
    "TText *t19  = pt11->AddText(\"Analyze\");\n",
    "TText *t19a = pt11->AddText(\"Left\");\n",
    "pt11->Draw();\n",
    "TPaveText *pt12 = new TPaveText(14,19,17,21);\n",
    "pt12->SetFillColor(42);\n",
    "TText *t20  = pt12->AddText(\"Analyze\");\n",
    "TText *t20a = pt12->AddText(\"Right\");\n",
    "pt12->Draw();\n",
    "TPaveText *pt13 = new TPaveText(14,15,18,18);\n",
    "TText *t21 = pt13->AddText(\"StackNumber++\");\n",
    "TText *t22 = pt13->AddText(\"operator[StackNumber]\");\n",
    "TText *t23 = pt13->AddText(\"= operator found\");\n",
    "pt13->Draw();\n",
    "TPaveText *pt14 = new TPaveText(12,10.8,17,13.2);\n",
    "TText *t24 = pt14->AddText(\"StackNumber++\");\n",
    "TText *t25 = pt14->AddText(\"operator[StackNumber]\");\n",
    "TText *t26 = pt14->AddText(\"= function found\");\n",
    "pt14->Draw();\n",
    "TPaveText *pt15 = new TPaveText(6,7,10,9);\n",
    "TText *t27 = pt15->AddText(\"Error\");\n",
    "TText *t28 = pt15->AddText(\"break of Analyze\");\n",
    "pt15->Draw();\n",
    "TPaveText *pt16 = new TPaveText(0,2,7,5);\n",
    "TText *t29 = pt16->AddText(\"StackNumber++\");\n",
    "TText *t30 = pt16->AddText(\"operator[StackNumber] = 0\");\n",
    "TText *t31 = pt16->AddText(\"value[StackNumber] = value found\");\n",
    "pt16->Draw();\n",
    "TArrow *ar = new TArrow(2,27,2,25.4,0.012,\"|>\");\n",
    "ar->SetFillColor(1);\n",
    "ar->Draw();\n",
    "ar->DrawArrow(2,22.8,2,21.2,0.012,\"|>\");\n",
    "ar->DrawArrow(2,19,2,17.2,0.012,\"|>\");\n",
    "ar->DrawArrow(2,15,2,13.2,0.012,\"|>\");\n",
    "ar->DrawArrow(2,11,2, 9.2,0.012,\"|>\");\n",
    "ar->DrawArrow(2, 7,2, 5.2,0.012,\"|>\");\n",
    "ar->DrawArrow(4,24,6,24,0.012,\"|>\");\n",
    "ar->DrawArrow(4,20,6,20,0.012,\"|>\");\n",
    "ar->DrawArrow(4,16,6,16,0.012,\"|>\");\n",
    "ar->DrawArrow(4,12,6,12,0.012,\"|>\");\n",
    "ar->DrawArrow(4, 8,6, 8,0.012,\"|>\");\n",
    "ar->DrawArrow(10,20,14,20,0.012,\"|>\");\n",
    "ar->DrawArrow(12,23,14,23,0.012,\"|>\");\n",
    "ar->DrawArrow(12,16.5,14,16.5,0.012,\"|>\");\n",
    "ar->DrawArrow(10,12,12,12,0.012,\"|>\");\n",
    "TText *ta = new TText(2.2,22.2,\"err = 0\");\n",
    "ta->SetTextFont(71);\n",
    "ta->SetTextSize(0.015);\n",
    "ta->SetTextColor(4);\n",
    "ta->SetTextAlign(12);\n",
    "ta->Draw();\n",
    "ta->DrawText(2.2,18.2,\"not found\");\n",
    "ta->DrawText(2.2,6.2,\"found\");\n",
    "TText *tb = new TText(4.2,24.1,\"err != 0\");\n",
    "tb->SetTextFont(71);\n",
    "tb->SetTextSize(0.015);\n",
    "tb->SetTextColor(4);\n",
    "tb->SetTextAlign(11);\n",
    "tb->Draw();\n",
    "tb->DrawText(4.2,20.1,\"found\");\n",
    "tb->DrawText(4.2,16.1,\"found\");\n",
    "tb->DrawText(4.2,12.1,\"found\");\n",
    "tb->DrawText(4.2, 8.1,\"not found\");\n",
    "TLine *l1 = new TLine(12,16.5,12,23);\n",
    "l1->Draw();"
   ]
  },
  {
   "cell_type": "markdown",
   "metadata": {},
   "source": [
    "Draw all canvases "
   ]
  },
  {
   "cell_type": "code",
   "execution_count": 2,
   "metadata": {
    "collapsed": false
   },
   "outputs": [
    {
     "data": {
      "text/html": [
       "\n",
       "<div id=\"root_plot_1\"\n",
       "     style=\"width: 616px; height: 762px\">\n",
       "</div>\n",
       "\n",
       "<script>\n",
       " requirejs.config({\n",
       "     paths: {\n",
       "       'JSRootCore' : 'https://root.cern.ch/js/notebook//scripts/JSRootCore',\n",
       "     }\n",
       "   });\n",
       " require(['JSRootCore'],\n",
       "     function(Core) {\n",
       "       var obj = Core.JSONR_unref({\"_typename\":\"TCanvas\",\"fUniqueID\":0,\"fBits\":53673992,\"fLineColor\":1,\"fLineStyle\":1,\"fLineWidth\":1,\"fFillColor\":0,\"fFillStyle\":1001,\"fLeftMargin\":0.1,\"fRightMargin\":0.1,\"fBottomMargin\":0.1,\"fTopMargin\":0.1,\"fXfile\":2,\"fYfile\":2,\"fAfile\":1,\"fXstat\":0.99,\"fYstat\":0.99,\"fAstat\":2,\"fFrameFillColor\":0,\"fFrameLineColor\":1,\"fFrameFillStyle\":1001,\"fFrameLineStyle\":1,\"fFrameLineWidth\":1,\"fFrameBorderSize\":1,\"fFrameBorderMode\":0,\"fX1\":-1,\"fY1\":0,\"fX2\":19,\"fY2\":30,\"fXtoAbsPixelk\":30.80005,\"fXtoPixelk\":30.80005,\"fXtoPixel\":30.8,\"fYtoAbsPixelk\":762.00005,\"fYtoPixelk\":762.00005,\"fYtoPixel\":-25.4,\"fUtoAbsPixelk\":5e-5,\"fUtoPixelk\":5e-5,\"fUtoPixel\":616,\"fVtoAbsPixelk\":762.00005,\"fVtoPixelk\":762,\"fVtoPixel\":-762,\"fAbsPixeltoXk\":-1,\"fPixeltoXk\":-1,\"fPixeltoX\":0.0324675324675325,\"fAbsPixeltoYk\":30,\"fPixeltoYk\":0,\"fPixeltoY\":-0.0393700787401575,\"fXlowNDC\":0,\"fYlowNDC\":0,\"fXUpNDC\":0,\"fYUpNDC\":0,\"fWNDC\":1,\"fHNDC\":1,\"fAbsXlowNDC\":0,\"fAbsYlowNDC\":0,\"fAbsWNDC\":1,\"fAbsHNDC\":1,\"fUxmin\":-1,\"fUymin\":0,\"fUxmax\":19,\"fUymax\":30,\"fTheta\":30,\"fPhi\":30,\"fAspectRatio\":0,\"fNumber\":0,\"fTickx\":0,\"fTicky\":0,\"fLogx\":0,\"fLogy\":0,\"fLogz\":0,\"fPadPaint\":0,\"fCrosshair\":0,\"fCrosshairPos\":0,\"fBorderSize\":2,\"fBorderMode\":0,\"fModified\":false,\"fGridx\":false,\"fGridy\":false,\"fAbsCoord\":false,\"fEditable\":true,\"fFixedAspectRatio\":false,\"fPrimitives\":{\"_typename\":\"TList\",\"name\":\"TList\",\"arr\":[{\"_typename\":\"TPaveLabel\",\"fUniqueID\":0,\"fBits\":50331656,\"fLineColor\":1,\"fLineStyle\":1,\"fLineWidth\":1,\"fFillColor\":42,\"fFillStyle\":1001,\"fX1\":0,\"fY1\":27,\"fX2\":3.5,\"fY2\":29,\"fX1NDC\":0.05,\"fY1NDC\":0.9,\"fX2NDC\":0.225,\"fY2NDC\":0.966666666666667,\"fBorderSize\":3,\"fInit\":1,\"fShadowColor\":1,\"fCornerRadius\":0,\"fOption\":\"br\",\"fName\":\"TPave\",\"fTextAngle\":0,\"fTextSize\":0.99,\"fTextAlign\":22,\"fTextColor\":1,\"fTextFont\":62,\"fLabel\":\"Analyze\"},{\"_typename\":\"TPaveText\",\"fUniqueID\":0,\"fBits\":50331656,\"fLineColor\":1,\"fLineStyle\":1,\"fLineWidth\":1,\"fFillColor\":19,\"fFillStyle\":1001,\"fX1\":0,\"fY1\":22.8,\"fX2\":4,\"fY2\":25.2,\"fX1NDC\":0.05,\"fY1NDC\":0.76,\"fX2NDC\":0.25,\"fY2NDC\":0.84,\"fBorderSize\":4,\"fInit\":1,\"fShadowColor\":1,\"fCornerRadius\":0,\"fOption\":\"br\",\"fName\":\"TPave\",\"fTextAngle\":0,\"fTextSize\":0,\"fTextAlign\":22,\"fTextColor\":1,\"fTextFont\":62,\"fLabel\":\"\",\"fLongest\":20,\"fMargin\":0.05,\"fLines\":{\"_typename\":\"TList\",\"name\":\"TList\",\"arr\":[{\"_typename\":\"TLatex\",\"fUniqueID\":0,\"fBits\":50331648,\"fName\":\"\",\"fTitle\":\"Parenthesis matching\",\"fTextAngle\":0,\"fTextSize\":0,\"fTextAlign\":0,\"fTextColor\":0,\"fTextFont\":0,\"fX\":0,\"fY\":0,\"fLineColor\":1,\"fLineStyle\":1,\"fLineWidth\":2,\"fLimitFactorSize\":3,\"fOriginSize\":0.0226666666567326},{\"_typename\":\"TLatex\",\"fUniqueID\":0,\"fBits\":50331648,\"fName\":\"\",\"fTitle\":\"Remove unnecessary\",\"fTextAngle\":0,\"fTextSize\":0,\"fTextAlign\":0,\"fTextColor\":0,\"fTextFont\":0,\"fX\":0,\"fY\":0,\"fLineColor\":1,\"fLineStyle\":1,\"fLineWidth\":2,\"fLimitFactorSize\":3,\"fOriginSize\":0.0226666666567326},{\"_typename\":\"TLatex\",\"fUniqueID\":0,\"fBits\":50331648,\"fName\":\"\",\"fTitle\":\"parenthesis\",\"fTextAngle\":0,\"fTextSize\":0,\"fTextAlign\":0,\"fTextColor\":0,\"fTextFont\":0,\"fX\":0,\"fY\":0,\"fLineColor\":1,\"fLineStyle\":1,\"fLineWidth\":2,\"fLimitFactorSize\":3,\"fOriginSize\":0.0226666666567326}],\"opt\":[\"\",\"\",\"\"]}},{\"_typename\":\"TPaveText\",\"fUniqueID\":0,\"fBits\":50331656,\"fLineColor\":1,\"fLineStyle\":1,\"fLineWidth\":1,\"fFillColor\":19,\"fFillStyle\":1001,\"fX1\":6,\"fY1\":23,\"fX2\":10,\"fY2\":25,\"fX1NDC\":0.35,\"fY1NDC\":0.766666666666667,\"fX2NDC\":0.55,\"fY2NDC\":0.833333333333333,\"fBorderSize\":4,\"fInit\":1,\"fShadowColor\":1,\"fCornerRadius\":0,\"fOption\":\"br\",\"fName\":\"TPave\",\"fTextAngle\":0,\"fTextSize\":0,\"fTextAlign\":22,\"fTextColor\":1,\"fTextFont\":62,\"fLabel\":\"\",\"fLongest\":8,\"fMargin\":0.05,\"fLines\":{\"_typename\":\"TList\",\"name\":\"TList\",\"arr\":[{\"_typename\":\"TLatex\",\"fUniqueID\":0,\"fBits\":50331648,\"fName\":\"\",\"fTitle\":\"break of\",\"fTextAngle\":0,\"fTextSize\":0,\"fTextAlign\":0,\"fTextColor\":0,\"fTextFont\":0,\"fX\":0,\"fY\":0,\"fLineColor\":1,\"fLineStyle\":1,\"fLineWidth\":2,\"fLimitFactorSize\":3,\"fOriginSize\":0.0283333342522383},{\"_typename\":\"TLatex\",\"fUniqueID\":0,\"fBits\":50331648,\"fName\":\"\",\"fTitle\":\"Analyze\",\"fTextAngle\":0,\"fTextSize\":0,\"fTextAlign\":0,\"fTextColor\":0,\"fTextFont\":0,\"fX\":0,\"fY\":0,\"fLineColor\":1,\"fLineStyle\":1,\"fLineWidth\":2,\"fLimitFactorSize\":3,\"fOriginSize\":0.0283333342522383}],\"opt\":[\"\",\"\"]}},{\"_typename\":\"TPaveText\",\"fUniqueID\":0,\"fBits\":50331656,\"fLineColor\":1,\"fLineStyle\":1,\"fLineWidth\":1,\"fFillColor\":19,\"fFillStyle\":1001,\"fX1\":0,\"fY1\":19,\"fX2\":4,\"fY2\":21,\"fX1NDC\":0.05,\"fY1NDC\":0.633333333333333,\"fX2NDC\":0.25,\"fY2NDC\":0.7,\"fBorderSize\":4,\"fInit\":1,\"fShadowColor\":1,\"fCornerRadius\":0,\"fOption\":\"br\",\"fName\":\"TPave\",\"fTextAngle\":0,\"fTextSize\":0,\"fTextAlign\":22,\"fTextColor\":1,\"fTextFont\":62,\"fLabel\":\"\",\"fLongest\":15,\"fMargin\":0.05,\"fLines\":{\"_typename\":\"TList\",\"name\":\"TList\",\"arr\":[{\"_typename\":\"TLatex\",\"fUniqueID\":0,\"fBits\":50331648,\"fName\":\"\",\"fTitle\":\"look for simple\",\"fTextAngle\":0,\"fTextSize\":0,\"fTextAlign\":0,\"fTextColor\":0,\"fTextFont\":0,\"fX\":0,\"fY\":0,\"fLineColor\":1,\"fLineStyle\":1,\"fLineWidth\":2,\"fLimitFactorSize\":3,\"fOriginSize\":0.0283333342522383},{\"_typename\":\"TLatex\",\"fUniqueID\":0,\"fBits\":50331648,\"fName\":\"\",\"fTitle\":\"operators\",\"fTextAngle\":0,\"fTextSize\":0,\"fTextAlign\":0,\"fTextColor\":0,\"fTextFont\":0,\"fX\":0,\"fY\":0,\"fLineColor\":1,\"fLineStyle\":1,\"fLineWidth\":2,\"fLimitFactorSize\":3,\"fOriginSize\":0.0283333342522383}],\"opt\":[\"\",\"\"]}},{\"_typename\":\"TPaveText\",\"fUniqueID\":0,\"fBits\":50331656,\"fLineColor\":1,\"fLineStyle\":1,\"fLineWidth\":1,\"fFillColor\":19,\"fFillStyle\":1001,\"fX1\":0,\"fY1\":15,\"fX2\":4,\"fY2\":17,\"fX1NDC\":0.05,\"fY1NDC\":0.5,\"fX2NDC\":0.25,\"fY2NDC\":0.566666666666667,\"fBorderSize\":4,\"fInit\":1,\"fShadowColor\":1,\"fCornerRadius\":0,\"fOption\":\"br\",\"fName\":\"TPave\",\"fTextAngle\":0,\"fTextSize\":0,\"fTextAlign\":22,\"fTextColor\":1,\"fTextFont\":62,\"fLabel\":\"\",\"fLongest\":19,\"fMargin\":0.05,\"fLines\":{\"_typename\":\"TList\",\"name\":\"TList\",\"arr\":[{\"_typename\":\"TLatex\",\"fUniqueID\":0,\"fBits\":50331648,\"fName\":\"\",\"fTitle\":\"look for an already\",\"fTextAngle\":0,\"fTextSize\":0,\"fTextAlign\":0,\"fTextColor\":0,\"fTextFont\":0,\"fX\":0,\"fY\":0,\"fLineColor\":1,\"fLineStyle\":1,\"fLineWidth\":2,\"fLimitFactorSize\":3,\"fOriginSize\":0.0283333342522383},{\"_typename\":\"TLatex\",\"fUniqueID\":0,\"fBits\":50331648,\"fName\":\"\",\"fTitle\":\"defined expression\",\"fTextAngle\":0,\"fTextSize\":0,\"fTextAlign\":0,\"fTextColor\":0,\"fTextFont\":0,\"fX\":0,\"fY\":0,\"fLineColor\":1,\"fLineStyle\":1,\"fLineWidth\":2,\"fLimitFactorSize\":3,\"fOriginSize\":0.0283333342522383}],\"opt\":[\"\",\"\"]}},{\"_typename\":\"TPaveText\",\"fUniqueID\":0,\"fBits\":50331656,\"fLineColor\":1,\"fLineStyle\":1,\"fLineWidth\":1,\"fFillColor\":19,\"fFillStyle\":1001,\"fX1\":0,\"fY1\":11,\"fX2\":4,\"fY2\":13,\"fX1NDC\":0.05,\"fY1NDC\":0.366666666666667,\"fX2NDC\":0.25,\"fY2NDC\":0.433333333333333,\"fBorderSize\":4,\"fInit\":1,\"fShadowColor\":1,\"fCornerRadius\":0,\"fOption\":\"br\",\"fName\":\"TPave\",\"fTextAngle\":0,\"fTextSize\":0,\"fTextAlign\":22,\"fTextColor\":1,\"fTextFont\":62,\"fLabel\":\"\",\"fLongest\":21,\"fMargin\":0.05,\"fLines\":{\"_typename\":\"TList\",\"name\":\"TList\",\"arr\":[{\"_typename\":\"TLatex\",\"fUniqueID\":0,\"fBits\":50331648,\"fName\":\"\",\"fTitle\":\"look for usual\",\"fTextAngle\":0,\"fTextSize\":0,\"fTextAlign\":0,\"fTextColor\":0,\"fTextFont\":0,\"fX\":0,\"fY\":0,\"fLineColor\":1,\"fLineStyle\":1,\"fLineWidth\":2,\"fLimitFactorSize\":3,\"fOriginSize\":0.0283333342522383},{\"_typename\":\"TLatex\",\"fUniqueID\":0,\"fBits\":50331648,\"fName\":\"\",\"fTitle\":\"functions :cos sin ..\",\"fTextAngle\":0,\"fTextSize\":0,\"fTextAlign\":0,\"fTextColor\":0,\"fTextFont\":0,\"fX\":0,\"fY\":0,\"fLineColor\":1,\"fLineStyle\":1,\"fLineWidth\":2,\"fLimitFactorSize\":3,\"fOriginSize\":0.0283333342522383}],\"opt\":[\"\",\"\"]}},{\"_typename\":\"TPaveText\",\"fUniqueID\":0,\"fBits\":50331656,\"fLineColor\":1,\"fLineStyle\":1,\"fLineWidth\":1,\"fFillColor\":19,\"fFillStyle\":1001,\"fX1\":0,\"fY1\":7,\"fX2\":4,\"fY2\":9,\"fX1NDC\":0.05,\"fY1NDC\":0.233333333333333,\"fX2NDC\":0.25,\"fY2NDC\":0.3,\"fBorderSize\":4,\"fInit\":1,\"fShadowColor\":1,\"fCornerRadius\":0,\"fOption\":\"br\",\"fName\":\"TPave\",\"fTextAngle\":0,\"fTextSize\":0,\"fTextAlign\":22,\"fTextColor\":1,\"fTextFont\":62,\"fLabel\":\"\",\"fLongest\":13,\"fMargin\":0.05,\"fLines\":{\"_typename\":\"TList\",\"name\":\"TList\",\"arr\":[{\"_typename\":\"TLatex\",\"fUniqueID\":0,\"fBits\":50331648,\"fName\":\"\",\"fTitle\":\"look for a\",\"fTextAngle\":0,\"fTextSize\":0,\"fTextAlign\":0,\"fTextColor\":0,\"fTextFont\":0,\"fX\":0,\"fY\":0,\"fLineColor\":1,\"fLineStyle\":1,\"fLineWidth\":2,\"fLimitFactorSize\":3,\"fOriginSize\":0.0283333342522383},{\"_typename\":\"TLatex\",\"fUniqueID\":0,\"fBits\":50331648,\"fName\":\"\",\"fTitle\":\"numeric value\",\"fTextAngle\":0,\"fTextSize\":0,\"fTextAlign\":0,\"fTextColor\":0,\"fTextFont\":0,\"fX\":0,\"fY\":0,\"fLineColor\":1,\"fLineStyle\":1,\"fLineWidth\":2,\"fLimitFactorSize\":3,\"fOriginSize\":0.0283333342522383}],\"opt\":[\"\",\"\"]}},{\"_typename\":\"TPaveText\",\"fUniqueID\":0,\"fBits\":50331656,\"fLineColor\":1,\"fLineStyle\":1,\"fLineWidth\":1,\"fFillColor\":19,\"fFillStyle\":1001,\"fX1\":6,\"fY1\":18.5,\"fX2\":10,\"fY2\":21.5,\"fX1NDC\":0.35,\"fY1NDC\":0.616666666666667,\"fX2NDC\":0.55,\"fY2NDC\":0.716666666666667,\"fBorderSize\":4,\"fInit\":1,\"fShadowColor\":1,\"fCornerRadius\":0,\"fOption\":\"br\",\"fName\":\"TPave\",\"fTextAngle\":0,\"fTextSize\":0,\"fTextAlign\":22,\"fTextColor\":1,\"fTextFont\":62,\"fLabel\":\"\",\"fLongest\":16,\"fMargin\":0.05,\"fLines\":{\"_typename\":\"TList\",\"name\":\"TList\",\"arr\":[{\"_typename\":\"TLatex\",\"fUniqueID\":0,\"fBits\":50331648,\"fName\":\"\",\"fTitle\":\"Analyze left and\",\"fTextAngle\":0,\"fTextSize\":0,\"fTextAlign\":0,\"fTextColor\":0,\"fTextFont\":0,\"fX\":0,\"fY\":0,\"fLineColor\":1,\"fLineStyle\":1,\"fLineWidth\":2,\"fLimitFactorSize\":3,\"fOriginSize\":0.0283333342522383},{\"_typename\":\"TLatex\",\"fUniqueID\":0,\"fBits\":50331648,\"fName\":\"\",\"fTitle\":\"right part of\",\"fTextAngle\":0,\"fTextSize\":0,\"fTextAlign\":0,\"fTextColor\":0,\"fTextFont\":0,\"fX\":0,\"fY\":0,\"fLineColor\":1,\"fLineStyle\":1,\"fLineWidth\":2,\"fLimitFactorSize\":3,\"fOriginSize\":0.0283333342522383},{\"_typename\":\"TLatex\",\"fUniqueID\":0,\"fBits\":50331648,\"fName\":\"\",\"fTitle\":\"the expression\",\"fTextAngle\":0,\"fTextSize\":0,\"fTextAlign\":0,\"fTextColor\":0,\"fTextFont\":0,\"fX\":0,\"fY\":0,\"fLineColor\":1,\"fLineStyle\":1,\"fLineWidth\":2,\"fLimitFactorSize\":3,\"fOriginSize\":0.0283333342522383}],\"opt\":[\"\",\"\",\"\"]}},{\"_typename\":\"TPaveText\",\"fUniqueID\":0,\"fBits\":50331656,\"fLineColor\":1,\"fLineStyle\":1,\"fLineWidth\":1,\"fFillColor\":19,\"fFillStyle\":1001,\"fX1\":6,\"fY1\":15,\"fX2\":10,\"fY2\":17,\"fX1NDC\":0.35,\"fY1NDC\":0.5,\"fX2NDC\":0.55,\"fY2NDC\":0.566666666666667,\"fBorderSize\":4,\"fInit\":1,\"fShadowColor\":1,\"fCornerRadius\":0,\"fOption\":\"br\",\"fName\":\"TPave\",\"fTextAngle\":0,\"fTextSize\":0,\"fTextAlign\":22,\"fTextColor\":1,\"fTextFont\":62,\"fLabel\":\"\",\"fLongest\":18,\"fMargin\":0.05,\"fLines\":{\"_typename\":\"TList\",\"name\":\"TList\",\"arr\":[{\"_typename\":\"TLatex\",\"fUniqueID\":0,\"fBits\":50331648,\"fName\":\"\",\"fTitle\":\"Replace expression\",\"fTextAngle\":0,\"fTextSize\":0,\"fTextAlign\":0,\"fTextColor\":0,\"fTextFont\":0,\"fX\":0,\"fY\":0,\"fLineColor\":1,\"fLineStyle\":1,\"fLineWidth\":2,\"fLimitFactorSize\":3,\"fOriginSize\":0.0566666685044765}],\"opt\":[\"\"]}},{\"_typename\":\"TPaveText\",\"fUniqueID\":0,\"fBits\":50331656,\"fLineColor\":1,\"fLineStyle\":1,\"fLineWidth\":1,\"fFillColor\":42,\"fFillStyle\":1001,\"fX1\":6,\"fY1\":11,\"fX2\":10,\"fY2\":13,\"fX1NDC\":0.35,\"fY1NDC\":0.366666666666667,\"fX2NDC\":0.55,\"fY2NDC\":0.433333333333333,\"fBorderSize\":4,\"fInit\":1,\"fShadowColor\":1,\"fCornerRadius\":0,\"fOption\":\"br\",\"fName\":\"TPave\",\"fTextAngle\":0,\"fTextSize\":0,\"fTextAlign\":22,\"fTextColor\":1,\"fTextFont\":62,\"fLabel\":\"\",\"fLongest\":7,\"fMargin\":0.05,\"fLines\":{\"_typename\":\"TList\",\"name\":\"TList\",\"arr\":[{\"_typename\":\"TLatex\",\"fUniqueID\":0,\"fBits\":50331648,\"fName\":\"\",\"fTitle\":\"Analyze\",\"fTextAngle\":0,\"fTextSize\":0,\"fTextAlign\":0,\"fTextColor\":0,\"fTextFont\":0,\"fX\":0,\"fY\":0,\"fLineColor\":1,\"fLineStyle\":1,\"fLineWidth\":2,\"fLimitFactorSize\":3,\"fOriginSize\":0.0566666685044765}],\"opt\":[\"\"]}},{\"_typename\":\"TPaveText\",\"fUniqueID\":0,\"fBits\":50331656,\"fLineColor\":1,\"fLineStyle\":1,\"fLineWidth\":1,\"fFillColor\":19,\"fFillStyle\":1001,\"fX1\":6,\"fY1\":7,\"fX2\":10,\"fY2\":9,\"fX1NDC\":0.35,\"fY1NDC\":0.233333333333333,\"fX2NDC\":0.55,\"fY2NDC\":0.3,\"fBorderSize\":4,\"fInit\":1,\"fShadowColor\":1,\"fCornerRadius\":0,\"fOption\":\"br\",\"fName\":\"TPave\",\"fTextAngle\":0,\"fTextSize\":0,\"fTextAlign\":22,\"fTextColor\":1,\"fTextFont\":62,\"fLabel\":\"\",\"fLongest\":16,\"fMargin\":0.05,\"fLines\":{\"_typename\":\"TList\",\"name\":\"TList\",\"arr\":[{\"_typename\":\"TLatex\",\"fUniqueID\":0,\"fBits\":50331648,\"fName\":\"\",\"fTitle\":\"Error\",\"fTextAngle\":0,\"fTextSize\":0,\"fTextAlign\":0,\"fTextColor\":0,\"fTextFont\":0,\"fX\":0,\"fY\":0,\"fLineColor\":1,\"fLineStyle\":1,\"fLineWidth\":2,\"fLimitFactorSize\":3,\"fOriginSize\":0.0283333342522383},{\"_typename\":\"TLatex\",\"fUniqueID\":0,\"fBits\":50331648,\"fName\":\"\",\"fTitle\":\"Break of Analyze\",\"fTextAngle\":0,\"fTextSize\":0,\"fTextAlign\":0,\"fTextColor\":0,\"fTextFont\":0,\"fX\":0,\"fY\":0,\"fLineColor\":1,\"fLineStyle\":1,\"fLineWidth\":2,\"fLimitFactorSize\":3,\"fOriginSize\":0.0283333342522383}],\"opt\":[\"\",\"\"]}},{\"_typename\":\"TPaveText\",\"fUniqueID\":0,\"fBits\":50331656,\"fLineColor\":1,\"fLineStyle\":1,\"fLineWidth\":1,\"fFillColor\":42,\"fFillStyle\":1001,\"fX1\":14,\"fY1\":22,\"fX2\":17,\"fY2\":24,\"fX1NDC\":0.75,\"fY1NDC\":0.733333333333333,\"fX2NDC\":0.9,\"fY2NDC\":0.8,\"fBorderSize\":4,\"fInit\":1,\"fShadowColor\":1,\"fCornerRadius\":0,\"fOption\":\"br\",\"fName\":\"TPave\",\"fTextAngle\":0,\"fTextSize\":0,\"fTextAlign\":22,\"fTextColor\":1,\"fTextFont\":62,\"fLabel\":\"\",\"fLongest\":7,\"fMargin\":0.05,\"fLines\":{\"_typename\":\"TList\",\"name\":\"TList\",\"arr\":[{\"_typename\":\"TLatex\",\"fUniqueID\":0,\"fBits\":50331648,\"fName\":\"\",\"fTitle\":\"Analyze\",\"fTextAngle\":0,\"fTextSize\":0,\"fTextAlign\":0,\"fTextColor\":0,\"fTextFont\":0,\"fX\":0,\"fY\":0,\"fLineColor\":1,\"fLineStyle\":1,\"fLineWidth\":2,\"fLimitFactorSize\":3,\"fOriginSize\":0.0283333342522383},{\"_typename\":\"TLatex\",\"fUniqueID\":0,\"fBits\":50331648,\"fName\":\"\",\"fTitle\":\"Left\",\"fTextAngle\":0,\"fTextSize\":0,\"fTextAlign\":0,\"fTextColor\":0,\"fTextFont\":0,\"fX\":0,\"fY\":0,\"fLineColor\":1,\"fLineStyle\":1,\"fLineWidth\":2,\"fLimitFactorSize\":3,\"fOriginSize\":0.0283333342522383}],\"opt\":[\"\",\"\"]}},{\"_typename\":\"TPaveText\",\"fUniqueID\":0,\"fBits\":50331656,\"fLineColor\":1,\"fLineStyle\":1,\"fLineWidth\":1,\"fFillColor\":42,\"fFillStyle\":1001,\"fX1\":14,\"fY1\":19,\"fX2\":17,\"fY2\":21,\"fX1NDC\":0.75,\"fY1NDC\":0.633333333333333,\"fX2NDC\":0.9,\"fY2NDC\":0.7,\"fBorderSize\":4,\"fInit\":1,\"fShadowColor\":1,\"fCornerRadius\":0,\"fOption\":\"br\",\"fName\":\"TPave\",\"fTextAngle\":0,\"fTextSize\":0,\"fTextAlign\":22,\"fTextColor\":1,\"fTextFont\":62,\"fLabel\":\"\",\"fLongest\":7,\"fMargin\":0.05,\"fLines\":{\"_typename\":\"TList\",\"name\":\"TList\",\"arr\":[{\"_typename\":\"TLatex\",\"fUniqueID\":0,\"fBits\":50331648,\"fName\":\"\",\"fTitle\":\"Analyze\",\"fTextAngle\":0,\"fTextSize\":0,\"fTextAlign\":0,\"fTextColor\":0,\"fTextFont\":0,\"fX\":0,\"fY\":0,\"fLineColor\":1,\"fLineStyle\":1,\"fLineWidth\":2,\"fLimitFactorSize\":3,\"fOriginSize\":0.0283333342522383},{\"_typename\":\"TLatex\",\"fUniqueID\":0,\"fBits\":50331648,\"fName\":\"\",\"fTitle\":\"Right\",\"fTextAngle\":0,\"fTextSize\":0,\"fTextAlign\":0,\"fTextColor\":0,\"fTextFont\":0,\"fX\":0,\"fY\":0,\"fLineColor\":1,\"fLineStyle\":1,\"fLineWidth\":2,\"fLimitFactorSize\":3,\"fOriginSize\":0.0283333342522383}],\"opt\":[\"\",\"\"]}},{\"_typename\":\"TPaveText\",\"fUniqueID\":0,\"fBits\":50331656,\"fLineColor\":1,\"fLineStyle\":1,\"fLineWidth\":1,\"fFillColor\":19,\"fFillStyle\":1001,\"fX1\":14,\"fY1\":15,\"fX2\":18,\"fY2\":18,\"fX1NDC\":0.75,\"fY1NDC\":0.5,\"fX2NDC\":0.95,\"fY2NDC\":0.6,\"fBorderSize\":4,\"fInit\":1,\"fShadowColor\":1,\"fCornerRadius\":0,\"fOption\":\"br\",\"fName\":\"TPave\",\"fTextAngle\":0,\"fTextSize\":0,\"fTextAlign\":22,\"fTextColor\":1,\"fTextFont\":62,\"fLabel\":\"\",\"fLongest\":21,\"fMargin\":0.05,\"fLines\":{\"_typename\":\"TList\",\"name\":\"TList\",\"arr\":[{\"_typename\":\"TLatex\",\"fUniqueID\":0,\"fBits\":50331648,\"fName\":\"\",\"fTitle\":\"StackNumber++\",\"fTextAngle\":0,\"fTextSize\":0,\"fTextAlign\":0,\"fTextColor\":0,\"fTextFont\":0,\"fX\":0,\"fY\":0,\"fLineColor\":1,\"fLineStyle\":1,\"fLineWidth\":2,\"fLimitFactorSize\":3,\"fOriginSize\":0.0283333342522383},{\"_typename\":\"TLatex\",\"fUniqueID\":0,\"fBits\":50331648,\"fName\":\"\",\"fTitle\":\"operator[StackNumber]\",\"fTextAngle\":0,\"fTextSize\":0,\"fTextAlign\":0,\"fTextColor\":0,\"fTextFont\":0,\"fX\":0,\"fY\":0,\"fLineColor\":1,\"fLineStyle\":1,\"fLineWidth\":2,\"fLimitFactorSize\":3,\"fOriginSize\":0.0283333342522383},{\"_typename\":\"TLatex\",\"fUniqueID\":0,\"fBits\":50331648,\"fName\":\"\",\"fTitle\":\"= operator found\",\"fTextAngle\":0,\"fTextSize\":0,\"fTextAlign\":0,\"fTextColor\":0,\"fTextFont\":0,\"fX\":0,\"fY\":0,\"fLineColor\":1,\"fLineStyle\":1,\"fLineWidth\":2,\"fLimitFactorSize\":3,\"fOriginSize\":0.0283333342522383}],\"opt\":[\"\",\"\",\"\"]}},{\"_typename\":\"TPaveText\",\"fUniqueID\":0,\"fBits\":50331656,\"fLineColor\":1,\"fLineStyle\":1,\"fLineWidth\":1,\"fFillColor\":19,\"fFillStyle\":1001,\"fX1\":12,\"fY1\":10.8,\"fX2\":17,\"fY2\":13.2,\"fX1NDC\":0.65,\"fY1NDC\":0.36,\"fX2NDC\":0.9,\"fY2NDC\":0.44,\"fBorderSize\":4,\"fInit\":1,\"fShadowColor\":1,\"fCornerRadius\":0,\"fOption\":\"br\",\"fName\":\"TPave\",\"fTextAngle\":0,\"fTextSize\":0,\"fTextAlign\":22,\"fTextColor\":1,\"fTextFont\":62,\"fLabel\":\"\",\"fLongest\":21,\"fMargin\":0.05,\"fLines\":{\"_typename\":\"TList\",\"name\":\"TList\",\"arr\":[{\"_typename\":\"TLatex\",\"fUniqueID\":0,\"fBits\":50331648,\"fName\":\"\",\"fTitle\":\"StackNumber++\",\"fTextAngle\":0,\"fTextSize\":0,\"fTextAlign\":0,\"fTextColor\":0,\"fTextFont\":0,\"fX\":0,\"fY\":0,\"fLineColor\":1,\"fLineStyle\":1,\"fLineWidth\":2,\"fLimitFactorSize\":3,\"fOriginSize\":0.0226666666567326},{\"_typename\":\"TLatex\",\"fUniqueID\":0,\"fBits\":50331648,\"fName\":\"\",\"fTitle\":\"operator[StackNumber]\",\"fTextAngle\":0,\"fTextSize\":0,\"fTextAlign\":0,\"fTextColor\":0,\"fTextFont\":0,\"fX\":0,\"fY\":0,\"fLineColor\":1,\"fLineStyle\":1,\"fLineWidth\":2,\"fLimitFactorSize\":3,\"fOriginSize\":0.0226666666567326},{\"_typename\":\"TLatex\",\"fUniqueID\":0,\"fBits\":50331648,\"fName\":\"\",\"fTitle\":\"= function found\",\"fTextAngle\":0,\"fTextSize\":0,\"fTextAlign\":0,\"fTextColor\":0,\"fTextFont\":0,\"fX\":0,\"fY\":0,\"fLineColor\":1,\"fLineStyle\":1,\"fLineWidth\":2,\"fLimitFactorSize\":3,\"fOriginSize\":0.0226666666567326}],\"opt\":[\"\",\"\",\"\"]}},{\"_typename\":\"TPaveText\",\"fUniqueID\":0,\"fBits\":50331656,\"fLineColor\":1,\"fLineStyle\":1,\"fLineWidth\":1,\"fFillColor\":19,\"fFillStyle\":1001,\"fX1\":6,\"fY1\":7,\"fX2\":10,\"fY2\":9,\"fX1NDC\":0.35,\"fY1NDC\":0.233333333333333,\"fX2NDC\":0.55,\"fY2NDC\":0.3,\"fBorderSize\":4,\"fInit\":1,\"fShadowColor\":1,\"fCornerRadius\":0,\"fOption\":\"br\",\"fName\":\"TPave\",\"fTextAngle\":0,\"fTextSize\":0,\"fTextAlign\":22,\"fTextColor\":1,\"fTextFont\":62,\"fLabel\":\"\",\"fLongest\":16,\"fMargin\":0.05,\"fLines\":{\"_typename\":\"TList\",\"name\":\"TList\",\"arr\":[{\"_typename\":\"TLatex\",\"fUniqueID\":0,\"fBits\":50331648,\"fName\":\"\",\"fTitle\":\"Error\",\"fTextAngle\":0,\"fTextSize\":0,\"fTextAlign\":0,\"fTextColor\":0,\"fTextFont\":0,\"fX\":0,\"fY\":0,\"fLineColor\":1,\"fLineStyle\":1,\"fLineWidth\":2,\"fLimitFactorSize\":3,\"fOriginSize\":0.0283333342522383},{\"_typename\":\"TLatex\",\"fUniqueID\":0,\"fBits\":50331648,\"fName\":\"\",\"fTitle\":\"break of Analyze\",\"fTextAngle\":0,\"fTextSize\":0,\"fTextAlign\":0,\"fTextColor\":0,\"fTextFont\":0,\"fX\":0,\"fY\":0,\"fLineColor\":1,\"fLineStyle\":1,\"fLineWidth\":2,\"fLimitFactorSize\":3,\"fOriginSize\":0.0283333342522383}],\"opt\":[\"\",\"\"]}},{\"_typename\":\"TPaveText\",\"fUniqueID\":0,\"fBits\":50331656,\"fLineColor\":1,\"fLineStyle\":1,\"fLineWidth\":1,\"fFillColor\":19,\"fFillStyle\":1001,\"fX1\":0,\"fY1\":2,\"fX2\":7,\"fY2\":5,\"fX1NDC\":0.05,\"fY1NDC\":0.0666666666666667,\"fX2NDC\":0.4,\"fY2NDC\":0.166666666666667,\"fBorderSize\":4,\"fInit\":1,\"fShadowColor\":1,\"fCornerRadius\":0,\"fOption\":\"br\",\"fName\":\"TPave\",\"fTextAngle\":0,\"fTextSize\":0,\"fTextAlign\":22,\"fTextColor\":1,\"fTextFont\":62,\"fLabel\":\"\",\"fLongest\":32,\"fMargin\":0.05,\"fLines\":{\"_typename\":\"TList\",\"name\":\"TList\",\"arr\":[{\"_typename\":\"TLatex\",\"fUniqueID\":0,\"fBits\":50331648,\"fName\":\"\",\"fTitle\":\"StackNumber++\",\"fTextAngle\":0,\"fTextSize\":0,\"fTextAlign\":0,\"fTextColor\":0,\"fTextFont\":0,\"fX\":0,\"fY\":0,\"fLineColor\":1,\"fLineStyle\":1,\"fLineWidth\":2,\"fLimitFactorSize\":3,\"fOriginSize\":0.0283333342522383},{\"_typename\":\"TLatex\",\"fUniqueID\":0,\"fBits\":50331648,\"fName\":\"\",\"fTitle\":\"operator[StackNumber] = 0\",\"fTextAngle\":0,\"fTextSize\":0,\"fTextAlign\":0,\"fTextColor\":0,\"fTextFont\":0,\"fX\":0,\"fY\":0,\"fLineColor\":1,\"fLineStyle\":1,\"fLineWidth\":2,\"fLimitFactorSize\":3,\"fOriginSize\":0.0283333342522383},{\"_typename\":\"TLatex\",\"fUniqueID\":0,\"fBits\":50331648,\"fName\":\"\",\"fTitle\":\"value[StackNumber] = value found\",\"fTextAngle\":0,\"fTextSize\":0,\"fTextAlign\":0,\"fTextColor\":0,\"fTextFont\":0,\"fX\":0,\"fY\":0,\"fLineColor\":1,\"fLineStyle\":1,\"fLineWidth\":2,\"fLimitFactorSize\":3,\"fOriginSize\":0.0283333342522383}],\"opt\":[\"\",\"\",\"\"]}},{\"_typename\":\"TArrow\",\"fUniqueID\":0,\"fBits\":50331656,\"fLineColor\":1,\"fLineStyle\":1,\"fLineWidth\":1,\"fX1\":2,\"fY1\":27,\"fX2\":2,\"fY2\":25.4,\"fFillColor\":1,\"fFillStyle\":1001,\"fAngle\":60,\"fArrowSize\":0.012,\"fOption\":\"|>\"},{\"_typename\":\"TArrow\",\"fUniqueID\":0,\"fBits\":50331657,\"fLineColor\":1,\"fLineStyle\":1,\"fLineWidth\":1,\"fX1\":2,\"fY1\":22.8,\"fX2\":2,\"fY2\":21.2,\"fFillColor\":1,\"fFillStyle\":1001,\"fAngle\":60,\"fArrowSize\":0.012,\"fOption\":\"|>\"},{\"_typename\":\"TArrow\",\"fUniqueID\":0,\"fBits\":50331657,\"fLineColor\":1,\"fLineStyle\":1,\"fLineWidth\":1,\"fX1\":2,\"fY1\":19,\"fX2\":2,\"fY2\":17.2,\"fFillColor\":1,\"fFillStyle\":1001,\"fAngle\":60,\"fArrowSize\":0.012,\"fOption\":\"|>\"},{\"_typename\":\"TArrow\",\"fUniqueID\":0,\"fBits\":50331657,\"fLineColor\":1,\"fLineStyle\":1,\"fLineWidth\":1,\"fX1\":2,\"fY1\":15,\"fX2\":2,\"fY2\":13.2,\"fFillColor\":1,\"fFillStyle\":1001,\"fAngle\":60,\"fArrowSize\":0.012,\"fOption\":\"|>\"},{\"_typename\":\"TArrow\",\"fUniqueID\":0,\"fBits\":50331657,\"fLineColor\":1,\"fLineStyle\":1,\"fLineWidth\":1,\"fX1\":2,\"fY1\":11,\"fX2\":2,\"fY2\":9.2,\"fFillColor\":1,\"fFillStyle\":1001,\"fAngle\":60,\"fArrowSize\":0.012,\"fOption\":\"|>\"},{\"_typename\":\"TArrow\",\"fUniqueID\":0,\"fBits\":50331657,\"fLineColor\":1,\"fLineStyle\":1,\"fLineWidth\":1,\"fX1\":2,\"fY1\":7,\"fX2\":2,\"fY2\":5.2,\"fFillColor\":1,\"fFillStyle\":1001,\"fAngle\":60,\"fArrowSize\":0.012,\"fOption\":\"|>\"},{\"_typename\":\"TArrow\",\"fUniqueID\":0,\"fBits\":50331657,\"fLineColor\":1,\"fLineStyle\":1,\"fLineWidth\":1,\"fX1\":4,\"fY1\":24,\"fX2\":6,\"fY2\":24,\"fFillColor\":1,\"fFillStyle\":1001,\"fAngle\":60,\"fArrowSize\":0.012,\"fOption\":\"|>\"},{\"_typename\":\"TArrow\",\"fUniqueID\":0,\"fBits\":50331657,\"fLineColor\":1,\"fLineStyle\":1,\"fLineWidth\":1,\"fX1\":4,\"fY1\":20,\"fX2\":6,\"fY2\":20,\"fFillColor\":1,\"fFillStyle\":1001,\"fAngle\":60,\"fArrowSize\":0.012,\"fOption\":\"|>\"},{\"_typename\":\"TArrow\",\"fUniqueID\":0,\"fBits\":50331657,\"fLineColor\":1,\"fLineStyle\":1,\"fLineWidth\":1,\"fX1\":4,\"fY1\":16,\"fX2\":6,\"fY2\":16,\"fFillColor\":1,\"fFillStyle\":1001,\"fAngle\":60,\"fArrowSize\":0.012,\"fOption\":\"|>\"},{\"_typename\":\"TArrow\",\"fUniqueID\":0,\"fBits\":50331657,\"fLineColor\":1,\"fLineStyle\":1,\"fLineWidth\":1,\"fX1\":4,\"fY1\":12,\"fX2\":6,\"fY2\":12,\"fFillColor\":1,\"fFillStyle\":1001,\"fAngle\":60,\"fArrowSize\":0.012,\"fOption\":\"|>\"},{\"_typename\":\"TArrow\",\"fUniqueID\":0,\"fBits\":50331657,\"fLineColor\":1,\"fLineStyle\":1,\"fLineWidth\":1,\"fX1\":4,\"fY1\":8,\"fX2\":6,\"fY2\":8,\"fFillColor\":1,\"fFillStyle\":1001,\"fAngle\":60,\"fArrowSize\":0.012,\"fOption\":\"|>\"},{\"_typename\":\"TArrow\",\"fUniqueID\":0,\"fBits\":50331657,\"fLineColor\":1,\"fLineStyle\":1,\"fLineWidth\":1,\"fX1\":10,\"fY1\":20,\"fX2\":14,\"fY2\":20,\"fFillColor\":1,\"fFillStyle\":1001,\"fAngle\":60,\"fArrowSize\":0.012,\"fOption\":\"|>\"},{\"_typename\":\"TArrow\",\"fUniqueID\":0,\"fBits\":50331657,\"fLineColor\":1,\"fLineStyle\":1,\"fLineWidth\":1,\"fX1\":12,\"fY1\":23,\"fX2\":14,\"fY2\":23,\"fFillColor\":1,\"fFillStyle\":1001,\"fAngle\":60,\"fArrowSize\":0.012,\"fOption\":\"|>\"},{\"_typename\":\"TArrow\",\"fUniqueID\":0,\"fBits\":50331657,\"fLineColor\":1,\"fLineStyle\":1,\"fLineWidth\":1,\"fX1\":12,\"fY1\":16.5,\"fX2\":14,\"fY2\":16.5,\"fFillColor\":1,\"fFillStyle\":1001,\"fAngle\":60,\"fArrowSize\":0.012,\"fOption\":\"|>\"},{\"_typename\":\"TArrow\",\"fUniqueID\":0,\"fBits\":50331657,\"fLineColor\":1,\"fLineStyle\":1,\"fLineWidth\":1,\"fX1\":10,\"fY1\":12,\"fX2\":12,\"fY2\":12,\"fFillColor\":1,\"fFillStyle\":1001,\"fAngle\":60,\"fArrowSize\":0.012,\"fOption\":\"|>\"},{\"_typename\":\"TText\",\"fUniqueID\":0,\"fBits\":50331656,\"fName\":\"\",\"fTitle\":\"err = 0\",\"fTextAngle\":0,\"fTextSize\":0.015,\"fTextAlign\":12,\"fTextColor\":4,\"fTextFont\":71,\"fX\":2.2,\"fY\":22.2},{\"_typename\":\"TText\",\"fUniqueID\":0,\"fBits\":50331657,\"fName\":\"\",\"fTitle\":\"not found\",\"fTextAngle\":0,\"fTextSize\":0.015,\"fTextAlign\":12,\"fTextColor\":4,\"fTextFont\":71,\"fX\":2.2,\"fY\":18.2},{\"_typename\":\"TText\",\"fUniqueID\":0,\"fBits\":50331657,\"fName\":\"\",\"fTitle\":\"found\",\"fTextAngle\":0,\"fTextSize\":0.015,\"fTextAlign\":12,\"fTextColor\":4,\"fTextFont\":71,\"fX\":2.2,\"fY\":6.2},{\"_typename\":\"TText\",\"fUniqueID\":0,\"fBits\":50331656,\"fName\":\"\",\"fTitle\":\"err != 0\",\"fTextAngle\":0,\"fTextSize\":0.015,\"fTextAlign\":11,\"fTextColor\":4,\"fTextFont\":71,\"fX\":4.2,\"fY\":24.1},{\"_typename\":\"TText\",\"fUniqueID\":0,\"fBits\":50331657,\"fName\":\"\",\"fTitle\":\"found\",\"fTextAngle\":0,\"fTextSize\":0.015,\"fTextAlign\":11,\"fTextColor\":4,\"fTextFont\":71,\"fX\":4.2,\"fY\":20.1},{\"_typename\":\"TText\",\"fUniqueID\":0,\"fBits\":50331657,\"fName\":\"\",\"fTitle\":\"found\",\"fTextAngle\":0,\"fTextSize\":0.015,\"fTextAlign\":11,\"fTextColor\":4,\"fTextFont\":71,\"fX\":4.2,\"fY\":16.1},{\"_typename\":\"TText\",\"fUniqueID\":0,\"fBits\":50331657,\"fName\":\"\",\"fTitle\":\"found\",\"fTextAngle\":0,\"fTextSize\":0.015,\"fTextAlign\":11,\"fTextColor\":4,\"fTextFont\":71,\"fX\":4.2,\"fY\":12.1},{\"_typename\":\"TText\",\"fUniqueID\":0,\"fBits\":50331657,\"fName\":\"\",\"fTitle\":\"not found\",\"fTextAngle\":0,\"fTextSize\":0.015,\"fTextAlign\":11,\"fTextColor\":4,\"fTextFont\":71,\"fX\":4.2,\"fY\":8.1},{\"_typename\":\"TLine\",\"fUniqueID\":0,\"fBits\":50331656,\"fLineColor\":1,\"fLineStyle\":1,\"fLineWidth\":1,\"fX1\":12,\"fY1\":16.5,\"fX2\":12,\"fY2\":23}],\"opt\":[\"br\",\"br\",\"br\",\"br\",\"br\",\"br\",\"br\",\"br\",\"br\",\"br\",\"br\",\"br\",\"br\",\"br\",\"br\",\"br\",\"br\",\"|>\",\"|>\",\"|>\",\"|>\",\"|>\",\"|>\",\"|>\",\"|>\",\"|>\",\"|>\",\"|>\",\"|>\",\"|>\",\"|>\",\"|>\",\"\",\"\",\"\",\"\",\"\",\"\",\"\",\"\",\"\"]},\"fExecs\":null,\"fName\":\"c1\",\"fTitle\":\"Analyze.mac\",\"fNumPaletteColor\":0,\"fNextPaletteColor\":0,\"fDISPLAY\":\"$DISPLAY\",\"fDoubleBuffer\":0,\"fRetained\":true,\"fXsizeUser\":0,\"fYsizeUser\":0,\"fXsizeReal\":15.6962,\"fYsizeReal\":20,\"fWindowTopX\":0,\"fWindowTopY\":0,\"fWindowWidth\":0,\"fWindowHeight\":0,\"fCw\":616,\"fCh\":762,\"fCatt\":{\"_typename\":\"TAttCanvas\",\"fXBetween\":2,\"fYBetween\":2,\"fTitleFromTop\":1.2,\"fXdate\":0.2,\"fYdate\":0.3,\"fAdate\":1},\"kMoveOpaque\":true,\"kResizeOpaque\":true,\"fHighLightColor\":2,\"fBatch\":true,\"kShowEventStatus\":false,\"kAutoExec\":true,\"kMenuBar\":true});\n",
       "       Core.draw(\"root_plot_1\", obj, \"\");\n",
       "     }\n",
       " );\n",
       "</script>\n"
      ],
      "text/plain": [
       "<IPython.core.display.HTML object>"
      ]
     },
     "metadata": {},
     "output_type": "display_data"
    }
   ],
   "source": [
    "%jsroot on\n",
    "gROOT->GetListOfCanvases()->Draw()"
   ]
  }
 ],
 "metadata": {
  "kernelspec": {
   "display_name": "ROOT C++",
   "language": "c++",
   "name": "root"
  },
  "language_info": {
   "codemirror_mode": "text/x-c++src",
   "file_extension": ".C",
   "mimetype": " text/x-c++src",
   "name": "c++"
  }
 },
 "nbformat": 4,
 "nbformat_minor": 2
}
