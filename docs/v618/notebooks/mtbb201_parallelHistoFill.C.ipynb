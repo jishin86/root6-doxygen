{
 "cells": [
  {
   "cell_type": "markdown", 
   "metadata": {}, 
   "source": [
    "# Mtbb 2 0 1_Parallel Histo Fill\n", 
    "Parallel fill of a histogram.\n", 
    "This tutorial shows how a histogram can be filled in parallel\n", 
    "with a multiprocess approach.\n", 
    "\n", 
    "\n", 
    "\n", 
    "\n", 
    "**Author:** Danilo Piparo.  \n", 
    "<i><small>This notebook tutorial was automatically generated with <a href= \"https://github.com/root-project/root/blob/master/documentation/doxygen/converttonotebook.py\">ROOTBOOK-izer</a> from the macro found in the ROOT repository  on Thursday, August 29, 2019 at 02:25 AM.</small></i>"
   ]
  }, 
  {
   "cell_type": "code", 
   "execution_count": null, 
   "metadata": {
    "collapsed": false
   }, 
   "outputs": [], 
   "source": [
    "const UInt_t poolSize = 4U;"
   ]
  }, 
  {
   "cell_type": "code", 
   "execution_count": null, 
   "metadata": {
    "collapsed": false
   }, 
   "outputs": [], 
   "source": [
    "ROOT::EnableThreadSafety();\n", 
    "TH1::AddDirectory(false);\n", 
    "ROOT::TThreadExecutor pool(poolSize);\n", 
    "auto fillRandomHisto = [](int seed = 0) {\n", 
    "   TRandom3 rndm(seed);\n", 
    "   auto h = new TH1F(\"myHist\", \"Filled in parallel\", 128, -8, 8);\n", 
    "   for (auto i : ROOT::TSeqI(1000000)) {\n", 
    "      h->Fill(rndm.Gaus(0, 1));\n", 
    "   }\n", 
    "   return h;\n", 
    "};\n", 
    "\n", 
    "auto seeds = ROOT::TSeqI(23);\n", 
    "ROOT::ExecutorUtils::ReduceObjects<TH1F *> redfunc;\n", 
    "auto sumRandomHisto = pool.MapReduce(fillRandomHisto, seeds, redfunc);\n", 
    "\n", 
    "auto c = new TCanvas();\n", 
    "sumRandomHisto->Draw();\n", 
    "return 0;"
   ]
  }, 
  {
   "cell_type": "markdown", 
   "metadata": {}, 
   "source": [
    "Draw all canvases "
   ]
  }, 
  {
   "cell_type": "code", 
   "execution_count": null, 
   "metadata": {
    "collapsed": false
   }, 
   "outputs": [], 
   "source": [
    "gROOT->GetListOfCanvases()->Draw()"
   ]
  }
 ], 
 "metadata": {
  "kernelspec": {
   "display_name": "ROOT C++", 
   "language": "c++", 
   "name": "root"
  }, 
  "language_info": {
   "codemirror_mode": "text/x-c++src", 
   "file_extension": ".C", 
   "mimetype": " text/x-c++src", 
   "name": "c++"
  }
 }, 
 "nbformat": 4, 
 "nbformat_minor": 2
}