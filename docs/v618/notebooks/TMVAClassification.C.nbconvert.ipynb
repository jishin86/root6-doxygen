{
 "cells": [
  {
   "cell_type": "markdown",
   "metadata": {},
   "source": [
    "#  T M V A Classification\n",
    "This macro provides examples for the training and testing of the\n",
    "TMVA classifiers.\n",
    "\n",
    "As input data is used a toy-MC sample consisting of four Gaussian-distributed\n",
    "and linearly correlated input variables.\n",
    "The methods to be used can be switched on and off by means of booleans, or\n",
    "via the prompt command, for example:\n",
    "\n",
    "    root -l ./TMVAClassification.C\\(\\\"Fisher,Likelihood\\\"\\)\n",
    "\n",
    "(note that the backslashes are mandatory)\n",
    "If no method given, a default set of classifiers is used.\n",
    "The output file \"TMVA.root\" can be analysed with the use of dedicated\n",
    "macros (simply say: root -l <macro.C>), which can be conveniently\n",
    "invoked through a GUI that will appear at the end of the run of this macro.\n",
    "Launch the GUI via the command:\n",
    "\n",
    "    root -l ./TMVAGui.C\n",
    "\n",
    "You can also compile and run the example with the following commands\n",
    "\n",
    "    make\n",
    "    ./TMVAClassification <Methods>\n",
    "\n",
    "where: `<Methods> = \"method1 method2\"` are the TMVA classifier names\n",
    "example:\n",
    "\n",
    "    ./TMVAClassification Fisher LikelihoodPCA BDT\n",
    "\n",
    "If no method given, a default set is of classifiers is used\n",
    "\n",
    "- Project   : TMVA - a ROOT-integrated toolkit for multivariate data analysis\n",
    "- Package   : TMVA\n",
    "- Root Macro: TMVAClassification\n",
    "\n",
    "\n",
    "\n",
    "**Author:** Andreas Hoecker  \n",
    "<i><small>This notebook tutorial was automatically generated with <a href= \"https://github.com/root-project/root/blob/master/documentation/doxygen/converttonotebook.py\">ROOTBOOK-izer</a> from the macro found in the ROOT repository  on Thursday, August 29, 2019 at 03:40 AM.</small></i>"
   ]
  },
  {
   "cell_type": "code",
   "execution_count": null,
   "metadata": {
    "collapsed": false
   },
   "outputs": [],
   "source": [
    "%%cpp -d\n",
    "#include <cstdlib>\n",
    "#include <iostream>\n",
    "#include <map>\n",
    "#include <string>\n",
    "\n",
    "#include \"TChain.h\"\n",
    "#include \"TFile.h\"\n",
    "#include \"TTree.h\"\n",
    "#include \"TString.h\"\n",
    "#include \"TObjString.h\"\n",
    "#include \"TSystem.h\"\n",
    "#include \"TROOT.h\"\n",
    "\n",
    "#include \"TMVA/Factory.h\"\n",
    "#include \"TMVA/DataLoader.h\"\n",
    "#include \"TMVA/Tools.h\"\n",
    "#include \"TMVA/TMVAGui.h\""
   ]
  },
  {
   "cell_type": "markdown",
   "metadata": {},
   "source": [
    " Arguments are defined. "
   ]
  },
  {
   "cell_type": "code",
   "execution_count": null,
   "metadata": {
    "collapsed": false
   },
   "outputs": [],
   "source": [
    "TString myMethodList = \"\";"
   ]
  },
  {
   "cell_type": "markdown",
   "metadata": {},
   "source": [
    "The explicit loading of the shared libtmva is done in tmvalogon.c, defined in .rootrc\n",
    " if you use your private .rootrc, or run from a different directory, please copy the\n",
    " corresponding lines from .rootrc"
   ]
  },
  {
   "cell_type": "markdown",
   "metadata": {},
   "source": [
    "Methods to be processed can be given as an argument; use format:\n",
    "\n",
    "     mylinux~> root -l TMVAClassification.C\\(\\\"myMethod1,myMethod2,myMethod3\\\"\\)"
   ]
  },
  {
   "cell_type": "markdown",
   "metadata": {},
   "source": [
    "---------------------------------------------------------------\n",
    " This loads the library"
   ]
  },
  {
   "cell_type": "code",
   "execution_count": null,
   "metadata": {
    "collapsed": false
   },
   "outputs": [],
   "source": [
    "TMVA::Tools::Instance();"
   ]
  },
  {
   "cell_type": "markdown",
   "metadata": {},
   "source": [
    "Default mva methods to be trained + tested"
   ]
  },
  {
   "cell_type": "code",
   "execution_count": null,
   "metadata": {
    "collapsed": false
   },
   "outputs": [],
   "source": [
    "std::map<std::string,int> Use;"
   ]
  },
  {
   "cell_type": "markdown",
   "metadata": {},
   "source": [
    "Cut optimisation"
   ]
  },
  {
   "cell_type": "code",
   "execution_count": null,
   "metadata": {
    "collapsed": false
   },
   "outputs": [],
   "source": [
    "Use[\"Cuts\"]            = 1;\n",
    "Use[\"CutsD\"]           = 1;\n",
    "Use[\"CutsPCA\"]         = 0;\n",
    "Use[\"CutsGA\"]          = 0;\n",
    "Use[\"CutsSA\"]          = 0;"
   ]
  },
  {
   "cell_type": "markdown",
   "metadata": {},
   "source": [
    " 1-dimensional likelihood (\"naive Bayes estimator\")"
   ]
  },
  {
   "cell_type": "code",
   "execution_count": null,
   "metadata": {
    "collapsed": false
   },
   "outputs": [],
   "source": [
    "Use[\"Likelihood\"]      = 1;\n",
    "Use[\"LikelihoodD\"]     = 0; // the \"D\" extension indicates decorrelated input variables (see option strings)\n",
    "Use[\"LikelihoodPCA\"]   = 1; // the \"PCA\" extension indicates PCA-transformed input variables (see option strings)\n",
    "Use[\"LikelihoodKDE\"]   = 0;\n",
    "Use[\"LikelihoodMIX\"]   = 0;"
   ]
  },
  {
   "cell_type": "markdown",
   "metadata": {},
   "source": [
    " Mutidimensional likelihood and Nearest-Neighbour methods"
   ]
  },
  {
   "cell_type": "code",
   "execution_count": null,
   "metadata": {
    "collapsed": false
   },
   "outputs": [],
   "source": [
    "Use[\"PDERS\"]           = 1;\n",
    "Use[\"PDERSD\"]          = 0;\n",
    "Use[\"PDERSPCA\"]        = 0;\n",
    "Use[\"PDEFoam\"]         = 1;\n",
    "Use[\"PDEFoamBoost\"]    = 0; // uses generalised MVA method boosting\n",
    "Use[\"KNN\"]             = 1; // k-nearest neighbour method"
   ]
  },
  {
   "cell_type": "markdown",
   "metadata": {},
   "source": [
    " Linear Discriminant Analysis"
   ]
  },
  {
   "cell_type": "code",
   "execution_count": null,
   "metadata": {
    "collapsed": false
   },
   "outputs": [],
   "source": [
    "Use[\"LD\"]              = 1; // Linear Discriminant identical to Fisher\n",
    "Use[\"Fisher\"]          = 0;\n",
    "Use[\"FisherG\"]         = 0;\n",
    "Use[\"BoostedFisher\"]   = 0; // uses generalised MVA method boosting\n",
    "Use[\"HMatrix\"]         = 0;"
   ]
  },
  {
   "cell_type": "markdown",
   "metadata": {},
   "source": [
    " Function Discriminant analysis"
   ]
  },
  {
   "cell_type": "code",
   "execution_count": null,
   "metadata": {
    "collapsed": false
   },
   "outputs": [],
   "source": [
    "Use[\"FDA_GA\"]          = 1; // minimisation of user-defined function using Genetics Algorithm\n",
    "Use[\"FDA_SA\"]          = 0;\n",
    "Use[\"FDA_MC\"]          = 0;\n",
    "Use[\"FDA_MT\"]          = 0;\n",
    "Use[\"FDA_GAMT\"]        = 0;\n",
    "Use[\"FDA_MCMT\"]        = 0;"
   ]
  },
  {
   "cell_type": "markdown",
   "metadata": {},
   "source": [
    " Neural Networks (all are feed-forward Multilayer Perceptrons)"
   ]
  },
  {
   "cell_type": "code",
   "execution_count": null,
   "metadata": {
    "collapsed": false
   },
   "outputs": [],
   "source": [
    "Use[\"MLP\"]             = 0; // Recommended ANN\n",
    "Use[\"MLPBFGS\"]         = 0; // Recommended ANN with optional training method\n",
    "Use[\"MLPBNN\"]          = 1; // Recommended ANN with BFGS training method and bayesian regulator\n",
    "Use[\"CFMlpANN\"]        = 0; // Depreciated ANN from ALEPH\n",
    "Use[\"TMlpANN\"]         = 0; // ROOT's own ANN\n",
    "#ifdef R__HAS_TMVAGPU\n",
    "Use[\"DNN_GPU\"]         = 1; // CUDA-accelerated DNN training.\n",
    "#else\n",
    "Use[\"DNN_GPU\"]         = 0;\n",
    "#endif\n",
    "\n",
    "#ifdef R__HAS_TMVACPU\n",
    "Use[\"DNN_CPU\"]         = 1; // Multi-core accelerated DNN.\n",
    "#else\n",
    "Use[\"DNN_CPU\"]         = 0;\n",
    "#endif"
   ]
  },
  {
   "cell_type": "markdown",
   "metadata": {},
   "source": [
    " Support Vector Machine"
   ]
  },
  {
   "cell_type": "code",
   "execution_count": null,
   "metadata": {
    "collapsed": false
   },
   "outputs": [],
   "source": [
    "Use[\"SVM\"]             = 1;"
   ]
  },
  {
   "cell_type": "markdown",
   "metadata": {},
   "source": [
    " Boosted Decision Trees"
   ]
  },
  {
   "cell_type": "code",
   "execution_count": null,
   "metadata": {
    "collapsed": false
   },
   "outputs": [],
   "source": [
    "Use[\"BDT\"]             = 1; // uses Adaptive Boost\n",
    "Use[\"BDTG\"]            = 0; // uses Gradient Boost\n",
    "Use[\"BDTB\"]            = 0; // uses Bagging\n",
    "Use[\"BDTD\"]            = 0; // decorrelation + Adaptive Boost\n",
    "Use[\"BDTF\"]            = 0; // allow usage of fisher discriminant for node splitting"
   ]
  },
  {
   "cell_type": "markdown",
   "metadata": {},
   "source": [
    " Friedman's RuleFit method, ie, an optimised series of cuts (\"rules\")"
   ]
  },
  {
   "cell_type": "code",
   "execution_count": null,
   "metadata": {
    "collapsed": false
   },
   "outputs": [],
   "source": [
    "Use[\"RuleFit\"]         = 1;"
   ]
  },
  {
   "cell_type": "markdown",
   "metadata": {},
   "source": [
    "---------------------------------------------------------------"
   ]
  },
  {
   "cell_type": "code",
   "execution_count": null,
   "metadata": {
    "collapsed": false
   },
   "outputs": [],
   "source": [
    "std::cout << std::endl;\n",
    "std::cout << \"==> Start TMVAClassification\" << std::endl;"
   ]
  },
  {
   "cell_type": "markdown",
   "metadata": {},
   "source": [
    "Select methods (don't look at this code - not of interest)"
   ]
  },
  {
   "cell_type": "code",
   "execution_count": null,
   "metadata": {
    "collapsed": false
   },
   "outputs": [],
   "source": [
    "if (myMethodList != \"\") {\n",
    "   for (std::map<std::string,int>::iterator it = Use.begin(); it != Use.end(); it++) it->second = 0;\n",
    "\n",
    "   std::vector<TString> mlist = TMVA::gTools().SplitString( myMethodList, ',' );\n",
    "   for (UInt_t i=0; i<mlist.size(); i++) {\n",
    "      std::string regMethod(mlist[i]);\n",
    "\n",
    "      if (Use.find(regMethod) == Use.end()) {\n",
    "         std::cout << \"Method \\\"\" << regMethod << \"\\\" not known in TMVA under this name. Choose among the following:\" << std::endl;\n",
    "         for (std::map<std::string,int>::iterator it = Use.begin(); it != Use.end(); it++) std::cout << it->first << \" \";\n",
    "         std::cout << std::endl;\n",
    "         return 1;\n",
    "      }\n",
    "      Use[regMethod] = 1;\n",
    "   }\n",
    "}"
   ]
  },
  {
   "cell_type": "markdown",
   "metadata": {},
   "source": [
    "--------------------------------------------------------------------------------------------------"
   ]
  },
  {
   "cell_type": "markdown",
   "metadata": {},
   "source": [
    "Here the preparation phase begins"
   ]
  },
  {
   "cell_type": "markdown",
   "metadata": {},
   "source": [
    "Read training and test data\n",
    " (it is also possible to use ASCII format as input -> see TMVA Users Guide)"
   ]
  },
  {
   "cell_type": "code",
   "execution_count": null,
   "metadata": {
    "collapsed": false
   },
   "outputs": [],
   "source": [
    "TFile *input(0);\n",
    "TString fname = \"./tmva_class_example.root\";\n",
    "if (!gSystem->AccessPathName( fname )) {\n",
    "   input = TFile::Open( fname ); // check if file in local directory exists\n",
    "}\n",
    "else {\n",
    "   TFile::SetCacheFileDir(\".\");\n",
    "   input = TFile::Open(\"http://root.cern.ch/files/tmva_class_example.root\", \"CACHEREAD\");\n",
    "}\n",
    "if (!input) {\n",
    "   std::cout << \"ERROR: could not open data file\" << std::endl;\n",
    "   exit(1);\n",
    "}\n",
    "std::cout << \"--- TMVAClassification       : Using input file: \" << input->GetName() << std::endl;"
   ]
  },
  {
   "cell_type": "markdown",
   "metadata": {},
   "source": [
    "Register the training and test trees"
   ]
  },
  {
   "cell_type": "code",
   "execution_count": null,
   "metadata": {
    "collapsed": false
   },
   "outputs": [],
   "source": [
    "TTree *signalTree     = (TTree*)input->Get(\"TreeS\");\n",
    "TTree *background     = (TTree*)input->Get(\"TreeB\");"
   ]
  },
  {
   "cell_type": "markdown",
   "metadata": {},
   "source": [
    "Create a root output file where tmva will store ntuples, histograms, etc."
   ]
  },
  {
   "cell_type": "code",
   "execution_count": null,
   "metadata": {
    "collapsed": false
   },
   "outputs": [],
   "source": [
    "TString outfileName( \"TMVA.root\" );\n",
    "TFile* outputFile = TFile::Open( outfileName, \"RECREATE\" );"
   ]
  },
  {
   "cell_type": "markdown",
   "metadata": {},
   "source": [
    "Create the factory object. later you can choose the methods\n",
    " whose performance you'd like to investigate. The factory is\n",
    " the only TMVA object you have to interact with\n",
    "\n",
    " The first argument is the base of the name of all the\n",
    " weightfiles in the directory weight/\n",
    "\n",
    " The second argument is the output file for the training results\n",
    " All TMVA output can be suppressed by removing the \"!\" (not) in\n",
    " front of the \"Silent\" argument in the option string"
   ]
  },
  {
   "cell_type": "code",
   "execution_count": null,
   "metadata": {
    "collapsed": false
   },
   "outputs": [],
   "source": [
    "TMVA::Factory *factory = new TMVA::Factory( \"TMVAClassification\", outputFile,\n",
    "                                            \"!V:!Silent:Color:!DrawProgressBar:Transformations=I;D;P;G,D:AnalysisType=Classification\" );\n",
    "\n",
    "TMVA::DataLoader *dataloader=new TMVA::DataLoader(\"dataset\");"
   ]
  },
  {
   "cell_type": "markdown",
   "metadata": {},
   "source": [
    "If you wish to modify default settings\n",
    " (please check \"src/Config.h\" to see all available global options)\n",
    "\n",
    "    (TMVA::gConfig().GetVariablePlotting()).fTimesRMS = 8.0;\n",
    "    (TMVA::gConfig().GetIONames()).fWeightFileDir = \"myWeightDirectory\";"
   ]
  },
  {
   "cell_type": "markdown",
   "metadata": {},
   "source": [
    "Define the input variables that shall be used for the mva training\n",
    " note that you may also use variable expressions, such as: \"3*var1/var2*abs(var3)\"\n",
    " [all types of expressions that can also be parsed by TTree::Draw( \"expression\" )]"
   ]
  },
  {
   "cell_type": "code",
   "execution_count": null,
   "metadata": {
    "collapsed": false
   },
   "outputs": [],
   "source": [
    "dataloader->AddVariable( \"myvar1 := var1+var2\", 'F' );\n",
    "dataloader->AddVariable( \"myvar2 := var1-var2\", \"Expression 2\", \"\", 'F' );\n",
    "dataloader->AddVariable( \"var3\",                \"Variable 3\", \"units\", 'F' );\n",
    "dataloader->AddVariable( \"var4\",                \"Variable 4\", \"units\", 'F' );"
   ]
  },
  {
   "cell_type": "markdown",
   "metadata": {},
   "source": [
    "You can add so-called \"spectator variables\", which are not used in the mva training,\n",
    " but will appear in the final \"TestTree\" produced by TMVA. This TestTree will contain the\n",
    " input variables, the response values of all trained MVAs, and the spectator variables"
   ]
  },
  {
   "cell_type": "code",
   "execution_count": null,
   "metadata": {
    "collapsed": false
   },
   "outputs": [],
   "source": [
    "dataloader->AddSpectator( \"spec1 := var1*2\",  \"Spectator 1\", \"units\", 'F' );\n",
    "dataloader->AddSpectator( \"spec2 := var1*3\",  \"Spectator 2\", \"units\", 'F' );"
   ]
  },
  {
   "cell_type": "markdown",
   "metadata": {},
   "source": [
    "Global event weights per tree (see below for setting event-wise weights)"
   ]
  },
  {
   "cell_type": "code",
   "execution_count": null,
   "metadata": {
    "collapsed": false
   },
   "outputs": [],
   "source": [
    "Double_t signalWeight     = 1.0;\n",
    "Double_t backgroundWeight = 1.0;"
   ]
  },
  {
   "cell_type": "markdown",
   "metadata": {},
   "source": [
    "You can add an arbitrary number of signal or background trees"
   ]
  },
  {
   "cell_type": "code",
   "execution_count": null,
   "metadata": {
    "collapsed": false
   },
   "outputs": [],
   "source": [
    "dataloader->AddSignalTree    ( signalTree,     signalWeight );\n",
    "dataloader->AddBackgroundTree( background, backgroundWeight );"
   ]
  },
  {
   "cell_type": "markdown",
   "metadata": {},
   "source": [
    "To give different trees for training and testing, do as follows:\n",
    "\n",
    "     dataloader->AddSignalTree( signalTrainingTree, signalTrainWeight, \"Training\" );\n",
    "     dataloader->AddSignalTree( signalTestTree,     signalTestWeight,  \"Test\" );"
   ]
  },
  {
   "cell_type": "markdown",
   "metadata": {},
   "source": [
    "Use the following code instead of the above two or four lines to add signal and background\n",
    " training and test events \"by hand\"\n",
    " NOTE that in this case one should not give expressions (such as \"var1+var2\") in the input\n",
    "      variable definition, but simply compute the expression before adding the event\n",
    " ```cpp\n",
    " // --- begin ----------------------------------------------------------\n",
    " std::vector<Double_t> vars( 4 ); // vector has size of number of input variables\n",
    " Float_t  treevars[4], weight;\n",
    "\n",
    " // Signal\n",
    " for (UInt_t ivar=0; ivar<4; ivar++) signalTree->SetBranchAddress( Form( \"var%i\", ivar+1 ), &(treevars[ivar]) );\n",
    " for (UInt_t i=0; i<signalTree->GetEntries(); i++) {\n",
    "    signalTree->GetEntry(i);\n",
    "    for (UInt_t ivar=0; ivar<4; ivar++) vars[ivar] = treevars[ivar];\n",
    "    // add training and test events; here: first half is training, second is testing\n",
    "    // note that the weight can also be event-wise\n",
    "    if (i < signalTree->GetEntries()/2.0) dataloader->AddSignalTrainingEvent( vars, signalWeight );\n",
    "    else                              dataloader->AddSignalTestEvent    ( vars, signalWeight );\n",
    " }\n",
    "\n",
    " // Background (has event weights)\n",
    " background->SetBranchAddress( \"weight\", &weight );\n",
    " for (UInt_t ivar=0; ivar<4; ivar++) background->SetBranchAddress( Form( \"var%i\", ivar+1 ), &(treevars[ivar]) );\n",
    " for (UInt_t i=0; i<background->GetEntries(); i++) {\n",
    "    background->GetEntry(i);\n",
    "    for (UInt_t ivar=0; ivar<4; ivar++) vars[ivar] = treevars[ivar];\n",
    "    // add training and test events; here: first half is training, second is testing\n",
    "    // note that the weight can also be event-wise\n",
    "    if (i < background->GetEntries()/2) dataloader->AddBackgroundTrainingEvent( vars, backgroundWeight*weight );\n",
    "    else                                dataloader->AddBackgroundTestEvent    ( vars, backgroundWeight*weight );\n",
    " }\n",
    " // --- end ------------------------------------------------------------\n",
    " ```\n",
    " End of tree registration"
   ]
  },
  {
   "cell_type": "markdown",
   "metadata": {},
   "source": [
    "Set individual event weights (the variables must exist in the original ttree)\n",
    " -  for signal    : `dataloader->SetSignalWeightExpression    (\"weight1*weight2\");`\n",
    " -  for background: `dataloader->SetBackgroundWeightExpression(\"weight1*weight2\");`"
   ]
  },
  {
   "cell_type": "code",
   "execution_count": null,
   "metadata": {
    "collapsed": false
   },
   "outputs": [],
   "source": [
    "dataloader->SetBackgroundWeightExpression( \"weight\" );"
   ]
  },
  {
   "cell_type": "markdown",
   "metadata": {},
   "source": [
    "Apply additional cuts on the signal and background samples (can be different)"
   ]
  },
  {
   "cell_type": "code",
   "execution_count": null,
   "metadata": {
    "collapsed": false
   },
   "outputs": [],
   "source": [
    "TCut mycuts = \"\"; // for example: TCut mycuts = \"abs(var1)<0.5 && abs(var2-0.5)<1\";\n",
    "TCut mycutb = \"\"; // for example: TCut mycutb = \"abs(var1)<0.5\";"
   ]
  },
  {
   "cell_type": "markdown",
   "metadata": {},
   "source": [
    "Tell the dataloader how to use the training and testing events\n",
    "\n",
    " If no numbers of events are given, half of the events in the tree are used\n",
    " for training, and the other half for testing:\n",
    "\n",
    "    dataloader->PrepareTrainingAndTestTree( mycut, \"SplitMode=random:!V\" );\n",
    "\n",
    " To also specify the number of testing events, use:\n",
    "\n",
    "    dataloader->PrepareTrainingAndTestTree( mycut,\n",
    "         \"NSigTrain=3000:NBkgTrain=3000:NSigTest=3000:NBkgTest=3000:SplitMode=Random:!V\" );"
   ]
  },
  {
   "cell_type": "code",
   "execution_count": null,
   "metadata": {
    "collapsed": false
   },
   "outputs": [],
   "source": [
    "dataloader->PrepareTrainingAndTestTree( mycuts, mycutb,\n",
    "                                     \"nTrain_Signal=1000:nTrain_Background=1000:SplitMode=Random:NormMode=NumEvents:!V\" );"
   ]
  },
  {
   "cell_type": "markdown",
   "metadata": {},
   "source": [
    " ### Book MVA methods\n",
    "\n",
    " Please lookup the various method configuration options in the corresponding cxx files, eg:\n",
    " src/MethoCuts.cxx, etc, or here: http://tmva.sourceforge.net/optionRef.html\n",
    " it is possible to preset ranges in the option string in which the cut optimisation should be done:\n",
    " \"...:CutRangeMin[2]=-1:CutRangeMax[2]=1\"...\", where [2] is the third input variable"
   ]
  },
  {
   "cell_type": "markdown",
   "metadata": {},
   "source": [
    "Cut optimisation"
   ]
  },
  {
   "cell_type": "code",
   "execution_count": null,
   "metadata": {
    "collapsed": false
   },
   "outputs": [],
   "source": [
    "if (Use[\"Cuts\"])\n",
    "   factory->BookMethod( dataloader, TMVA::Types::kCuts, \"Cuts\",\n",
    "                        \"!H:!V:FitMethod=MC:EffSel:SampleSize=200000:VarProp=FSmart\" );\n",
    "\n",
    "if (Use[\"CutsD\"])\n",
    "   factory->BookMethod( dataloader, TMVA::Types::kCuts, \"CutsD\",\n",
    "                        \"!H:!V:FitMethod=MC:EffSel:SampleSize=200000:VarProp=FSmart:VarTransform=Decorrelate\" );\n",
    "\n",
    "if (Use[\"CutsPCA\"])\n",
    "   factory->BookMethod( dataloader, TMVA::Types::kCuts, \"CutsPCA\",\n",
    "                        \"!H:!V:FitMethod=MC:EffSel:SampleSize=200000:VarProp=FSmart:VarTransform=PCA\" );\n",
    "\n",
    "if (Use[\"CutsGA\"])\n",
    "   factory->BookMethod( dataloader, TMVA::Types::kCuts, \"CutsGA\",\n",
    "                        \"H:!V:FitMethod=GA:CutRangeMin[0]=-10:CutRangeMax[0]=10:VarProp[1]=FMax:EffSel:Steps=30:Cycles=3:PopSize=400:SC_steps=10:SC_rate=5:SC_factor=0.95\" );\n",
    "\n",
    "if (Use[\"CutsSA\"])\n",
    "   factory->BookMethod( dataloader, TMVA::Types::kCuts, \"CutsSA\",\n",
    "                        \"!H:!V:FitMethod=SA:EffSel:MaxCalls=150000:KernelTemp=IncAdaptive:InitialTemp=1e+6:MinTemp=1e-6:Eps=1e-10:UseDefaultScale\" );"
   ]
  },
  {
   "cell_type": "markdown",
   "metadata": {},
   "source": [
    "Likelihood (\"naive bayes estimator\")"
   ]
  },
  {
   "cell_type": "code",
   "execution_count": null,
   "metadata": {
    "collapsed": false
   },
   "outputs": [],
   "source": [
    "if (Use[\"Likelihood\"])\n",
    "   factory->BookMethod( dataloader, TMVA::Types::kLikelihood, \"Likelihood\",\n",
    "                        \"H:!V:TransformOutput:PDFInterpol=Spline2:NSmoothSig[0]=20:NSmoothBkg[0]=20:NSmoothBkg[1]=10:NSmooth=1:NAvEvtPerBin=50\" );"
   ]
  },
  {
   "cell_type": "markdown",
   "metadata": {},
   "source": [
    "Decorrelated likelihood"
   ]
  },
  {
   "cell_type": "code",
   "execution_count": null,
   "metadata": {
    "collapsed": false
   },
   "outputs": [],
   "source": [
    "if (Use[\"LikelihoodD\"])\n",
    "   factory->BookMethod( dataloader, TMVA::Types::kLikelihood, \"LikelihoodD\",\n",
    "                        \"!H:!V:TransformOutput:PDFInterpol=Spline2:NSmoothSig[0]=20:NSmoothBkg[0]=20:NSmooth=5:NAvEvtPerBin=50:VarTransform=Decorrelate\" );"
   ]
  },
  {
   "cell_type": "markdown",
   "metadata": {},
   "source": [
    "Pca-transformed likelihood"
   ]
  },
  {
   "cell_type": "code",
   "execution_count": null,
   "metadata": {
    "collapsed": false
   },
   "outputs": [],
   "source": [
    "if (Use[\"LikelihoodPCA\"])\n",
    "   factory->BookMethod( dataloader, TMVA::Types::kLikelihood, \"LikelihoodPCA\",\n",
    "                        \"!H:!V:!TransformOutput:PDFInterpol=Spline2:NSmoothSig[0]=20:NSmoothBkg[0]=20:NSmooth=5:NAvEvtPerBin=50:VarTransform=PCA\" );"
   ]
  },
  {
   "cell_type": "markdown",
   "metadata": {},
   "source": [
    "Use a kernel density estimator to approximate the pdfs"
   ]
  },
  {
   "cell_type": "code",
   "execution_count": null,
   "metadata": {
    "collapsed": false
   },
   "outputs": [],
   "source": [
    "if (Use[\"LikelihoodKDE\"])\n",
    "   factory->BookMethod( dataloader, TMVA::Types::kLikelihood, \"LikelihoodKDE\",\n",
    "                        \"!H:!V:!TransformOutput:PDFInterpol=KDE:KDEtype=Gauss:KDEiter=Adaptive:KDEFineFactor=0.3:KDEborder=None:NAvEvtPerBin=50\" );"
   ]
  },
  {
   "cell_type": "markdown",
   "metadata": {},
   "source": [
    "Use a variable-dependent mix of splines and kernel density estimator"
   ]
  },
  {
   "cell_type": "code",
   "execution_count": null,
   "metadata": {
    "collapsed": false
   },
   "outputs": [],
   "source": [
    "if (Use[\"LikelihoodMIX\"])\n",
    "   factory->BookMethod( dataloader, TMVA::Types::kLikelihood, \"LikelihoodMIX\",\n",
    "                        \"!H:!V:!TransformOutput:PDFInterpolSig[0]=KDE:PDFInterpolBkg[0]=KDE:PDFInterpolSig[1]=KDE:PDFInterpolBkg[1]=KDE:PDFInterpolSig[2]=Spline2:PDFInterpolBkg[2]=Spline2:PDFInterpolSig[3]=Spline2:PDFInterpolBkg[3]=Spline2:KDEtype=Gauss:KDEiter=Nonadaptive:KDEborder=None:NAvEvtPerBin=50\" );"
   ]
  },
  {
   "cell_type": "markdown",
   "metadata": {},
   "source": [
    "Test the multi-dimensional probability density estimator\n",
    " here are the options strings for the MinMax and RMS methods, respectively:\n",
    "\n",
    "      \"!H:!V:VolumeRangeMode=MinMax:DeltaFrac=0.2:KernelEstimator=Gauss:GaussSigma=0.3\" );\n",
    "      \"!H:!V:VolumeRangeMode=RMS:DeltaFrac=3:KernelEstimator=Gauss:GaussSigma=0.3\" );"
   ]
  },
  {
   "cell_type": "code",
   "execution_count": null,
   "metadata": {
    "collapsed": false
   },
   "outputs": [],
   "source": [
    "if (Use[\"PDERS\"])\n",
    "   factory->BookMethod( dataloader, TMVA::Types::kPDERS, \"PDERS\",\n",
    "                        \"!H:!V:NormTree=T:VolumeRangeMode=Adaptive:KernelEstimator=Gauss:GaussSigma=0.3:NEventsMin=400:NEventsMax=600\" );\n",
    "\n",
    "if (Use[\"PDERSD\"])\n",
    "   factory->BookMethod( dataloader, TMVA::Types::kPDERS, \"PDERSD\",\n",
    "                        \"!H:!V:VolumeRangeMode=Adaptive:KernelEstimator=Gauss:GaussSigma=0.3:NEventsMin=400:NEventsMax=600:VarTransform=Decorrelate\" );\n",
    "\n",
    "if (Use[\"PDERSPCA\"])\n",
    "   factory->BookMethod( dataloader, TMVA::Types::kPDERS, \"PDERSPCA\",\n",
    "                        \"!H:!V:VolumeRangeMode=Adaptive:KernelEstimator=Gauss:GaussSigma=0.3:NEventsMin=400:NEventsMax=600:VarTransform=PCA\" );"
   ]
  },
  {
   "cell_type": "markdown",
   "metadata": {},
   "source": [
    "Multi-dimensional likelihood estimator using self-adapting phase-space binning"
   ]
  },
  {
   "cell_type": "code",
   "execution_count": null,
   "metadata": {
    "collapsed": false
   },
   "outputs": [],
   "source": [
    "if (Use[\"PDEFoam\"])\n",
    "   factory->BookMethod( dataloader, TMVA::Types::kPDEFoam, \"PDEFoam\",\n",
    "                        \"!H:!V:SigBgSeparate=F:TailCut=0.001:VolFrac=0.0666:nActiveCells=500:nSampl=2000:nBin=5:Nmin=100:Kernel=None:Compress=T\" );\n",
    "\n",
    "if (Use[\"PDEFoamBoost\"])\n",
    "   factory->BookMethod( dataloader, TMVA::Types::kPDEFoam, \"PDEFoamBoost\",\n",
    "                        \"!H:!V:Boost_Num=30:Boost_Transform=linear:SigBgSeparate=F:MaxDepth=4:UseYesNoCell=T:DTLogic=MisClassificationError:FillFoamWithOrigWeights=F:TailCut=0:nActiveCells=500:nBin=20:Nmin=400:Kernel=None:Compress=T\" );"
   ]
  },
  {
   "cell_type": "markdown",
   "metadata": {},
   "source": [
    "K-nearest neighbour classifier (knn)"
   ]
  },
  {
   "cell_type": "code",
   "execution_count": null,
   "metadata": {
    "collapsed": false
   },
   "outputs": [],
   "source": [
    "if (Use[\"KNN\"])\n",
    "   factory->BookMethod( dataloader, TMVA::Types::kKNN, \"KNN\",\n",
    "                        \"H:nkNN=20:ScaleFrac=0.8:SigmaFact=1.0:Kernel=Gaus:UseKernel=F:UseWeight=T:!Trim\" );"
   ]
  },
  {
   "cell_type": "markdown",
   "metadata": {},
   "source": [
    "H-matrix (chi2-squared) method"
   ]
  },
  {
   "cell_type": "code",
   "execution_count": null,
   "metadata": {
    "collapsed": false
   },
   "outputs": [],
   "source": [
    "if (Use[\"HMatrix\"])\n",
    "   factory->BookMethod( dataloader, TMVA::Types::kHMatrix, \"HMatrix\", \"!H:!V:VarTransform=None\" );"
   ]
  },
  {
   "cell_type": "markdown",
   "metadata": {},
   "source": [
    "Linear discriminant (same as fisher discriminant)"
   ]
  },
  {
   "cell_type": "code",
   "execution_count": null,
   "metadata": {
    "collapsed": false
   },
   "outputs": [],
   "source": [
    "if (Use[\"LD\"])\n",
    "   factory->BookMethod( dataloader, TMVA::Types::kLD, \"LD\", \"H:!V:VarTransform=None:CreateMVAPdfs:PDFInterpolMVAPdf=Spline2:NbinsMVAPdf=50:NsmoothMVAPdf=10\" );"
   ]
  },
  {
   "cell_type": "markdown",
   "metadata": {},
   "source": [
    "Fisher discriminant (same as ld)"
   ]
  },
  {
   "cell_type": "code",
   "execution_count": null,
   "metadata": {
    "collapsed": false
   },
   "outputs": [],
   "source": [
    "if (Use[\"Fisher\"])\n",
    "   factory->BookMethod( dataloader, TMVA::Types::kFisher, \"Fisher\", \"H:!V:Fisher:VarTransform=None:CreateMVAPdfs:PDFInterpolMVAPdf=Spline2:NbinsMVAPdf=50:NsmoothMVAPdf=10\" );"
   ]
  },
  {
   "cell_type": "markdown",
   "metadata": {},
   "source": [
    "Fisher with gauss-transformed input variables"
   ]
  },
  {
   "cell_type": "code",
   "execution_count": null,
   "metadata": {
    "collapsed": false
   },
   "outputs": [],
   "source": [
    "if (Use[\"FisherG\"])\n",
    "   factory->BookMethod( dataloader, TMVA::Types::kFisher, \"FisherG\", \"H:!V:VarTransform=Gauss\" );"
   ]
  },
  {
   "cell_type": "markdown",
   "metadata": {},
   "source": [
    "Composite classifier: ensemble (tree) of boosted fisher classifiers"
   ]
  },
  {
   "cell_type": "code",
   "execution_count": null,
   "metadata": {
    "collapsed": false
   },
   "outputs": [],
   "source": [
    "if (Use[\"BoostedFisher\"])\n",
    "   factory->BookMethod( dataloader, TMVA::Types::kFisher, \"BoostedFisher\",\n",
    "                        \"H:!V:Boost_Num=20:Boost_Transform=log:Boost_Type=AdaBoost:Boost_AdaBoostBeta=0.2:!Boost_DetailedMonitoring\" );"
   ]
  },
  {
   "cell_type": "markdown",
   "metadata": {},
   "source": [
    "Function discrimination analysis (fda) -- test of various fitters - the recommended one is minuit (or ga or sa)"
   ]
  },
  {
   "cell_type": "code",
   "execution_count": null,
   "metadata": {
    "collapsed": false
   },
   "outputs": [],
   "source": [
    "if (Use[\"FDA_MC\"])\n",
    "   factory->BookMethod( dataloader, TMVA::Types::kFDA, \"FDA_MC\",\n",
    "                        \"H:!V:Formula=(0)+(1)*x0+(2)*x1+(3)*x2+(4)*x3:ParRanges=(-1,1);(-10,10);(-10,10);(-10,10);(-10,10):FitMethod=MC:SampleSize=100000:Sigma=0.1\" );\n",
    "\n",
    "if (Use[\"FDA_GA\"]) // can also use Simulated Annealing (SA) algorithm (see Cuts_SA options])\n",
    "   factory->BookMethod( dataloader, TMVA::Types::kFDA, \"FDA_GA\",\n",
    "                        \"H:!V:Formula=(0)+(1)*x0+(2)*x1+(3)*x2+(4)*x3:ParRanges=(-1,1);(-10,10);(-10,10);(-10,10);(-10,10):FitMethod=GA:PopSize=100:Cycles=2:Steps=5:Trim=True:SaveBestGen=1\" );\n",
    "\n",
    "if (Use[\"FDA_SA\"]) // can also use Simulated Annealing (SA) algorithm (see Cuts_SA options])\n",
    "   factory->BookMethod( dataloader, TMVA::Types::kFDA, \"FDA_SA\",\n",
    "                        \"H:!V:Formula=(0)+(1)*x0+(2)*x1+(3)*x2+(4)*x3:ParRanges=(-1,1);(-10,10);(-10,10);(-10,10);(-10,10):FitMethod=SA:MaxCalls=15000:KernelTemp=IncAdaptive:InitialTemp=1e+6:MinTemp=1e-6:Eps=1e-10:UseDefaultScale\" );\n",
    "\n",
    "if (Use[\"FDA_MT\"])\n",
    "   factory->BookMethod( dataloader, TMVA::Types::kFDA, \"FDA_MT\",\n",
    "                        \"H:!V:Formula=(0)+(1)*x0+(2)*x1+(3)*x2+(4)*x3:ParRanges=(-1,1);(-10,10);(-10,10);(-10,10);(-10,10):FitMethod=MINUIT:ErrorLevel=1:PrintLevel=-1:FitStrategy=2:UseImprove:UseMinos:SetBatch\" );\n",
    "\n",
    "if (Use[\"FDA_GAMT\"])\n",
    "   factory->BookMethod( dataloader, TMVA::Types::kFDA, \"FDA_GAMT\",\n",
    "                        \"H:!V:Formula=(0)+(1)*x0+(2)*x1+(3)*x2+(4)*x3:ParRanges=(-1,1);(-10,10);(-10,10);(-10,10);(-10,10):FitMethod=GA:Converger=MINUIT:ErrorLevel=1:PrintLevel=-1:FitStrategy=0:!UseImprove:!UseMinos:SetBatch:Cycles=1:PopSize=5:Steps=5:Trim\" );\n",
    "\n",
    "if (Use[\"FDA_MCMT\"])\n",
    "   factory->BookMethod( dataloader, TMVA::Types::kFDA, \"FDA_MCMT\",\n",
    "                        \"H:!V:Formula=(0)+(1)*x0+(2)*x1+(3)*x2+(4)*x3:ParRanges=(-1,1);(-10,10);(-10,10);(-10,10);(-10,10):FitMethod=MC:Converger=MINUIT:ErrorLevel=1:PrintLevel=-1:FitStrategy=0:!UseImprove:!UseMinos:SetBatch:SampleSize=20\" );"
   ]
  },
  {
   "cell_type": "markdown",
   "metadata": {},
   "source": [
    "Tmva ann: mlp (recommended ann) -- all anns in tmva are multilayer perceptrons"
   ]
  },
  {
   "cell_type": "code",
   "execution_count": null,
   "metadata": {
    "collapsed": false
   },
   "outputs": [],
   "source": [
    "if (Use[\"MLP\"])\n",
    "   factory->BookMethod( dataloader, TMVA::Types::kMLP, \"MLP\", \"H:!V:NeuronType=tanh:VarTransform=N:NCycles=600:HiddenLayers=N+5:TestRate=5:!UseRegulator\" );\n",
    "\n",
    "if (Use[\"MLPBFGS\"])\n",
    "   factory->BookMethod( dataloader, TMVA::Types::kMLP, \"MLPBFGS\", \"H:!V:NeuronType=tanh:VarTransform=N:NCycles=600:HiddenLayers=N+5:TestRate=5:TrainingMethod=BFGS:!UseRegulator\" );\n",
    "\n",
    "if (Use[\"MLPBNN\"])\n",
    "   factory->BookMethod( dataloader, TMVA::Types::kMLP, \"MLPBNN\", \"H:!V:NeuronType=tanh:VarTransform=N:NCycles=60:HiddenLayers=N+5:TestRate=5:TrainingMethod=BFGS:UseRegulator\" ); // BFGS training with bayesian regulators"
   ]
  },
  {
   "cell_type": "markdown",
   "metadata": {},
   "source": [
    "Multi-architecture dnn implementation."
   ]
  },
  {
   "cell_type": "code",
   "execution_count": null,
   "metadata": {
    "collapsed": false
   },
   "outputs": [],
   "source": [
    "if (Use[\"DNN_CPU\"] or Use[\"DNN_GPU\"]) {\n",
    "   // General layout.\n",
    "   TString layoutString (\"Layout=TANH|128,TANH|128,TANH|128,LINEAR\");\n",
    "\n",
    "   // Training strategies.\n",
    "   TString training0(\"LearningRate=1e-2,Momentum=0.9,Repetitions=1,\"\n",
    "                     \"ConvergenceSteps=30,BatchSize=256,TestRepetitions=10,\"\n",
    "                     \"WeightDecay=1e-4,Regularization=None,\"\n",
    "                     \"DropConfig=0.0+0.5+0.5+0.5, Multithreading=True\");\n",
    "   TString training1(\"LearningRate=1e-2,Momentum=0.9,Repetitions=1,\"\n",
    "                     \"ConvergenceSteps=20,BatchSize=256,TestRepetitions=10,\"\n",
    "                     \"WeightDecay=1e-4,Regularization=L2,\"\n",
    "                     \"DropConfig=0.0+0.0+0.0+0.0, Multithreading=True\");\n",
    "   TString training2(\"LearningRate=1e-3,Momentum=0.0,Repetitions=1,\"\n",
    "                     \"ConvergenceSteps=20,BatchSize=256,TestRepetitions=10,\"\n",
    "                     \"WeightDecay=1e-4,Regularization=L2,\"\n",
    "                     \"DropConfig=0.0+0.0+0.0+0.0, Multithreading=True\");\n",
    "   TString trainingStrategyString (\"TrainingStrategy=\");\n",
    "   trainingStrategyString += training0 + \"|\" + training1 + \"|\" + training2;\n",
    "\n",
    "   // General Options.\n",
    "   TString dnnOptions (\"!H:V:ErrorStrategy=CROSSENTROPY:VarTransform=N:\"\n",
    "                       \"WeightInitialization=XAVIERUNIFORM\");\n",
    "   dnnOptions.Append (\":\"); dnnOptions.Append (layoutString);\n",
    "   dnnOptions.Append (\":\"); dnnOptions.Append (trainingStrategyString);\n",
    "\n",
    "   // Cuda implementation.\n",
    "   if (Use[\"DNN_GPU\"]) {\n",
    "      TString gpuOptions = dnnOptions + \":Architecture=GPU\";\n",
    "      factory->BookMethod(dataloader, TMVA::Types::kDL, \"DNN_GPU\", gpuOptions);\n",
    "   }\n",
    "   // Multi-core CPU implementation.\n",
    "   if (Use[\"DNN_CPU\"]) {\n",
    "      TString cpuOptions = dnnOptions + \":Architecture=CPU\";\n",
    "      factory->BookMethod(dataloader, TMVA::Types::kDL, \"DNN_CPU\", cpuOptions);\n",
    "   }\n",
    "}"
   ]
  },
  {
   "cell_type": "markdown",
   "metadata": {},
   "source": [
    "Cf(clermont-ferrand)ann"
   ]
  },
  {
   "cell_type": "code",
   "execution_count": null,
   "metadata": {
    "collapsed": false
   },
   "outputs": [],
   "source": [
    "if (Use[\"CFMlpANN\"])\n",
    "   factory->BookMethod( dataloader, TMVA::Types::kCFMlpANN, \"CFMlpANN\", \"!H:!V:NCycles=200:HiddenLayers=N+1,N\"  ); // n_cycles:#nodes:#nodes:..."
   ]
  },
  {
   "cell_type": "markdown",
   "metadata": {},
   "source": [
    "Tmlp(root)ann"
   ]
  },
  {
   "cell_type": "code",
   "execution_count": null,
   "metadata": {
    "collapsed": false
   },
   "outputs": [],
   "source": [
    "if (Use[\"TMlpANN\"])\n",
    "   factory->BookMethod( dataloader, TMVA::Types::kTMlpANN, \"TMlpANN\", \"!H:!V:NCycles=200:HiddenLayers=N+1,N:LearningMethod=BFGS:ValidationFraction=0.3\"  ); // n_cycles:#nodes:#nodes:..."
   ]
  },
  {
   "cell_type": "markdown",
   "metadata": {},
   "source": [
    "Support vector machine"
   ]
  },
  {
   "cell_type": "code",
   "execution_count": null,
   "metadata": {
    "collapsed": false
   },
   "outputs": [],
   "source": [
    "if (Use[\"SVM\"])\n",
    "   factory->BookMethod( dataloader, TMVA::Types::kSVM, \"SVM\", \"Gamma=0.25:Tol=0.001:VarTransform=Norm\" );"
   ]
  },
  {
   "cell_type": "markdown",
   "metadata": {},
   "source": [
    "Boosted decision trees"
   ]
  },
  {
   "cell_type": "code",
   "execution_count": null,
   "metadata": {
    "collapsed": false
   },
   "outputs": [],
   "source": [
    "if (Use[\"BDTG\"]) // Gradient Boost\n",
    "   factory->BookMethod( dataloader, TMVA::Types::kBDT, \"BDTG\",\n",
    "                        \"!H:!V:NTrees=1000:MinNodeSize=2.5%:BoostType=Grad:Shrinkage=0.10:UseBaggedBoost:BaggedSampleFraction=0.5:nCuts=20:MaxDepth=2\" );\n",
    "\n",
    "if (Use[\"BDT\"])  // Adaptive Boost\n",
    "   factory->BookMethod( dataloader, TMVA::Types::kBDT, \"BDT\",\n",
    "                        \"!H:!V:NTrees=850:MinNodeSize=2.5%:MaxDepth=3:BoostType=AdaBoost:AdaBoostBeta=0.5:UseBaggedBoost:BaggedSampleFraction=0.5:SeparationType=GiniIndex:nCuts=20\" );\n",
    "\n",
    "if (Use[\"BDTB\"]) // Bagging\n",
    "   factory->BookMethod( dataloader, TMVA::Types::kBDT, \"BDTB\",\n",
    "                        \"!H:!V:NTrees=400:BoostType=Bagging:SeparationType=GiniIndex:nCuts=20\" );\n",
    "\n",
    "if (Use[\"BDTD\"]) // Decorrelation + Adaptive Boost\n",
    "   factory->BookMethod( dataloader, TMVA::Types::kBDT, \"BDTD\",\n",
    "                        \"!H:!V:NTrees=400:MinNodeSize=5%:MaxDepth=3:BoostType=AdaBoost:SeparationType=GiniIndex:nCuts=20:VarTransform=Decorrelate\" );\n",
    "\n",
    "if (Use[\"BDTF\"])  // Allow Using Fisher discriminant in node splitting for (strong) linearly correlated variables\n",
    "   factory->BookMethod( dataloader, TMVA::Types::kBDT, \"BDTF\",\n",
    "                        \"!H:!V:NTrees=50:MinNodeSize=2.5%:UseFisherCuts:MaxDepth=3:BoostType=AdaBoost:AdaBoostBeta=0.5:SeparationType=GiniIndex:nCuts=20\" );"
   ]
  },
  {
   "cell_type": "markdown",
   "metadata": {},
   "source": [
    "Rulefit -- tmva implementation of friedman's method"
   ]
  },
  {
   "cell_type": "code",
   "execution_count": null,
   "metadata": {
    "collapsed": false
   },
   "outputs": [],
   "source": [
    "if (Use[\"RuleFit\"])\n",
    "   factory->BookMethod( dataloader, TMVA::Types::kRuleFit, \"RuleFit\",\n",
    "                        \"H:!V:RuleFitModule=RFTMVA:Model=ModRuleLinear:MinImp=0.001:RuleMinDist=0.001:NTrees=20:fEventsMin=0.01:fEventsMax=0.5:GDTau=-1.0:GDTauPrec=0.01:GDStep=0.01:GDNSteps=10000:GDErrScale=1.02\" );"
   ]
  },
  {
   "cell_type": "markdown",
   "metadata": {},
   "source": [
    "For an example of the category classifier usage, see: tmvaclassificationcategory\n",
    "\n",
    " --------------------------------------------------------------------------------------------------\n",
    "  Now you can optimize the setting (configuration) of the MVAs using the set of training events\n",
    " STILL EXPERIMENTAL and only implemented for BDT's !\n",
    "\n",
    "     factory->OptimizeAllMethods(\"SigEffAt001\",\"Scan\");\n",
    "     factory->OptimizeAllMethods(\"ROCIntegral\",\"FitGA\");\n",
    "\n",
    " --------------------------------------------------------------------------------------------------"
   ]
  },
  {
   "cell_type": "markdown",
   "metadata": {},
   "source": [
    "Now you can tell the factory to train, test, and evaluate the mvas\n",
    "\n",
    " Train MVAs using the set of training events"
   ]
  },
  {
   "cell_type": "code",
   "execution_count": null,
   "metadata": {
    "collapsed": false
   },
   "outputs": [],
   "source": [
    "factory->TrainAllMethods();"
   ]
  },
  {
   "cell_type": "markdown",
   "metadata": {},
   "source": [
    "Evaluate all mvas using the set of test events"
   ]
  },
  {
   "cell_type": "code",
   "execution_count": null,
   "metadata": {
    "collapsed": false
   },
   "outputs": [],
   "source": [
    "factory->TestAllMethods();"
   ]
  },
  {
   "cell_type": "markdown",
   "metadata": {},
   "source": [
    "Evaluate and compare performance of all configured mvas"
   ]
  },
  {
   "cell_type": "code",
   "execution_count": null,
   "metadata": {
    "collapsed": false
   },
   "outputs": [],
   "source": [
    "factory->EvaluateAllMethods();"
   ]
  },
  {
   "cell_type": "markdown",
   "metadata": {},
   "source": [
    "--------------------------------------------------------------"
   ]
  },
  {
   "cell_type": "markdown",
   "metadata": {},
   "source": [
    "Save the output"
   ]
  },
  {
   "cell_type": "code",
   "execution_count": null,
   "metadata": {
    "collapsed": false
   },
   "outputs": [],
   "source": [
    "outputFile->Close();\n",
    "\n",
    "std::cout << \"==> Wrote root file: \" << outputFile->GetName() << std::endl;\n",
    "std::cout << \"==> TMVAClassification is done!\" << std::endl;\n",
    "\n",
    "delete factory;\n",
    "delete dataloader;"
   ]
  },
  {
   "cell_type": "markdown",
   "metadata": {},
   "source": [
    "Launch the gui for the root macros"
   ]
  },
  {
   "cell_type": "code",
   "execution_count": null,
   "metadata": {
    "collapsed": false
   },
   "outputs": [],
   "source": [
    "if (!gROOT->IsBatch()) TMVA::TMVAGui( outfileName );\n",
    "\n",
    "return 0;"
   ]
  }
 ],
 "metadata": {
  "kernelspec": {
   "display_name": "ROOT C++",
   "language": "c++",
   "name": "root"
  },
  "language_info": {
   "codemirror_mode": "text/x-c++src",
   "file_extension": ".C",
   "mimetype": " text/x-c++src",
   "name": "c++"
  }
 },
 "nbformat": 4,
 "nbformat_minor": 2
}
