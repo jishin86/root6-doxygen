{
 "cells": [
  {
   "cell_type": "markdown",
   "metadata": {},
   "source": [
    "# Trans_Graph\n",
    "Demonstrates how to access and manipulate ARGB pixel values of an image +...\n",
    " - how to make a part of an image to be transparent.\n",
    " - how to merge/alphablend an image with transparent colors\n",
    "   with some background image.\n",
    "\n",
    "\n",
    "\n",
    "\n",
    "**Author:** Valeriy Onuchin  \n",
    "<i><small>This notebook tutorial was automatically generated with <a href= \"https://github.com/root-project/root/blob/master/documentation/doxygen/converttonotebook.py\">ROOTBOOK-izer</a> from the macro found in the ROOT repository  on Thursday, August 29, 2019 at 02:02 AM.</small></i>"
   ]
  },
  {
   "cell_type": "code",
   "execution_count": 1,
   "metadata": {
    "collapsed": false
   },
   "outputs": [],
   "source": [
    "%%cpp -d\n",
    "#include \"TColor.h\"\n",
    "#include \"TImage.h\"\n",
    "#include \"TImageDump.h\"\n",
    "#include \"TVirtualPad.h\"\n",
    "#include \"TROOT.h\"\n",
    "#include \"TFrame.h\""
   ]
  },
  {
   "cell_type": "markdown",
   "metadata": {},
   "source": [
    " A helper function is created: "
   ]
  },
  {
   "cell_type": "code",
   "execution_count": 2,
   "metadata": {
    "collapsed": false
   },
   "outputs": [],
   "source": [
    "%%cpp -d\n",
    "UInt_t color2rgb(TColor *col)\n",
    "{\n",
    "   // returns RGB value of color\n",
    "\n",
    "   return ((UInt_t(col->GetRed()*255) << 16) +\n",
    "           (UInt_t(col->GetGreen()*255) << 8) +\n",
    "            UInt_t(col->GetBlue()*255));\n",
    "}"
   ]
  },
  {
   "cell_type": "markdown",
   "metadata": {},
   "source": [
    "Remember if  we are in batch mode"
   ]
  },
  {
   "cell_type": "code",
   "execution_count": 3,
   "metadata": {
    "collapsed": false
   },
   "outputs": [],
   "source": [
    "Bool_t batch = gROOT->IsBatch();"
   ]
  },
  {
   "cell_type": "markdown",
   "metadata": {},
   "source": [
    "Switch to batch mode"
   ]
  },
  {
   "cell_type": "code",
   "execution_count": 4,
   "metadata": {
    "collapsed": false
   },
   "outputs": [],
   "source": [
    "gROOT->SetBatch(kTRUE);"
   ]
  },
  {
   "cell_type": "markdown",
   "metadata": {},
   "source": [
    "Execute graph.c macro"
   ]
  },
  {
   "cell_type": "code",
   "execution_count": 5,
   "metadata": {
    "collapsed": false
   },
   "outputs": [
    {
     "name": "stdout",
     "output_type": "stream",
     "text": [
      " i 0 0.000000 1.986693 \n",
      " i 1 0.100000 2.955202 \n",
      " i 2 0.200000 3.894183 \n",
      " i 3 0.300000 4.794255 \n",
      " i 4 0.400000 5.646425 \n",
      " i 5 0.500000 6.442177 \n",
      " i 6 0.600000 7.173561 \n",
      " i 7 0.700000 7.833269 \n",
      " i 8 0.800000 8.414710 \n",
      " i 9 0.900000 8.912074 \n",
      " i 10 1.000000 9.320391 \n",
      " i 11 1.100000 9.635582 \n",
      " i 12 1.200000 9.854497 \n",
      " i 13 1.300000 9.974950 \n",
      " i 14 1.400000 9.995736 \n",
      " i 15 1.500000 9.916648 \n",
      " i 16 1.600000 9.738476 \n",
      " i 17 1.700000 9.463001 \n",
      " i 18 1.800000 9.092974 \n",
      " i 19 1.900000 8.632094 \n"
     ]
    }
   ],
   "source": [
    "gROOT->Macro(\"$ROOTSYS/tutorials/graphs/graph.C\");"
   ]
  },
  {
   "cell_type": "markdown",
   "metadata": {},
   "source": [
    "Create gvirtualps object"
   ]
  },
  {
   "cell_type": "code",
   "execution_count": 6,
   "metadata": {
    "collapsed": false
   },
   "outputs": [],
   "source": [
    "TImageDump dmp(\"dummy.png\");\n",
    "TImage *fore = dmp.GetImage();  // image associated with image_dump"
   ]
  },
  {
   "cell_type": "markdown",
   "metadata": {},
   "source": [
    "Resize canvas"
   ]
  },
  {
   "cell_type": "code",
   "execution_count": 7,
   "metadata": {
    "collapsed": false
   },
   "outputs": [],
   "source": [
    "gPad->SetCanvasSize(400, 300);\n",
    "gPad->Paint(); // paint gPad on fore image associated with TImageDump"
   ]
  },
  {
   "cell_type": "markdown",
   "metadata": {},
   "source": [
    "Open background image"
   ]
  },
  {
   "cell_type": "code",
   "execution_count": 8,
   "metadata": {
    "collapsed": false
   },
   "outputs": [],
   "source": [
    "TImage *back = TImage::Open(\"$ROOTSYS/tutorials/image/rose512.jpg\");"
   ]
  },
  {
   "cell_type": "markdown",
   "metadata": {},
   "source": [
    "Choose colors to be transparent"
   ]
  },
  {
   "cell_type": "code",
   "execution_count": 9,
   "metadata": {
    "collapsed": false
   },
   "outputs": [],
   "source": [
    "TColor *bk1 = gROOT->GetColor(gPad->GetFillColor());\n",
    "TColor *bk2 = gROOT->GetColor(gPad->GetFrame()->GetFillColor());\n",
    "UInt_t rgb1 = color2rgb(bk1);\n",
    "UInt_t rgb2 = color2rgb(bk2);"
   ]
  },
  {
   "cell_type": "markdown",
   "metadata": {},
   "source": [
    "Get directly accessible argb array"
   ]
  },
  {
   "cell_type": "code",
   "execution_count": 10,
   "metadata": {
    "collapsed": false
   },
   "outputs": [],
   "source": [
    "UInt_t *argb = fore->GetArgbArray();\n",
    "UInt_t w = fore->GetWidth();\n",
    "UInt_t h = fore->GetHeight();"
   ]
  },
  {
   "cell_type": "markdown",
   "metadata": {},
   "source": [
    "Scan all pixels in fore image and\n",
    " make rgb1, rgb2 colors transparent."
   ]
  },
  {
   "cell_type": "code",
   "execution_count": 11,
   "metadata": {
    "collapsed": false
   },
   "outputs": [],
   "source": [
    "for (UInt_t i = 0; i < h; i++) {\n",
    "   for (UInt_t j = 0; j < w; j++) {\n",
    "      Int_t idx = i*w + j;\n",
    "\n",
    "      // RGB part of ARGB color\n",
    "      UInt_t col = argb[idx] & 0xffffff;\n",
    "\n",
    "      // 24..31 bits define transparency of the color in the range 0 - 0xff\n",
    "      // for example, 0x00000000 - black color with 100% transparency\n",
    "      //              0xff000000 - non-transparent black color\n",
    "\n",
    "      if ((col == rgb1) || (col == rgb2)) { //\n",
    "         argb[idx] = 0; // 100% transparent\n",
    "      } else {\n",
    "         argb[idx] = 0xff000000 + col;  // make other pixels non-transparent\n",
    "      }\n",
    "   }\n",
    "}"
   ]
  },
  {
   "cell_type": "markdown",
   "metadata": {},
   "source": [
    "Alphablend back and fore images"
   ]
  },
  {
   "cell_type": "code",
   "execution_count": 12,
   "metadata": {
    "collapsed": false
   },
   "outputs": [],
   "source": [
    "back->Merge(fore, \"alphablend\", 20, 20);"
   ]
  },
  {
   "cell_type": "markdown",
   "metadata": {},
   "source": [
    "Write result image in png format"
   ]
  },
  {
   "cell_type": "code",
   "execution_count": 13,
   "metadata": {
    "collapsed": false
   },
   "outputs": [
    {
     "name": "stdout",
     "output_type": "stream",
     "text": [
      "*************** File trans_graph.png created ***************\n"
     ]
    }
   ],
   "source": [
    "back->WriteImage(\"trans_graph.png\");\n",
    "printf(\"*************** File trans_graph.png created ***************\\n\");\n",
    "\n",
    "delete back;"
   ]
  },
  {
   "cell_type": "markdown",
   "metadata": {},
   "source": [
    "Switch back to gui mode"
   ]
  },
  {
   "cell_type": "code",
   "execution_count": 14,
   "metadata": {
    "collapsed": false
   },
   "outputs": [],
   "source": [
    "if (!batch) gROOT->SetBatch(kFALSE);"
   ]
  },
  {
   "cell_type": "markdown",
   "metadata": {},
   "source": [
    "Draw all canvases "
   ]
  },
  {
   "cell_type": "code",
   "execution_count": 15,
   "metadata": {
    "collapsed": false
   },
   "outputs": [
    {
     "data": {
      "image/png": "[encoded data removed]",
      "text/plain": [
       "<IPython.core.display.Image object>"
      ]
     },
     "metadata": {},
     "output_type": "display_data"
    }
   ],
   "source": [
    "gROOT->GetListOfCanvases()->Draw()"
   ]
  }
 ],
 "metadata": {
  "kernelspec": {
   "display_name": "ROOT C++",
   "language": "c++",
   "name": "root"
  },
  "language_info": {
   "codemirror_mode": "text/x-c++src",
   "file_extension": ".C",
   "mimetype": " text/x-c++src",
   "name": "c++"
  }
 },
 "nbformat": 4,
 "nbformat_minor": 2
}
