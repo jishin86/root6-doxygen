{
 "cells": [
  {
   "cell_type": "markdown",
   "metadata": {},
   "source": [
    "# Mathcore Vector Float I O\n",
    "Macro illustrating  I/O with Lorentz Vectors of floats\n",
    "The dictionary for LorentzVector of float is not in the libMathCore, therefore\n",
    "is generated when parsed the file with CINT.\n",
    "\n",
    " To run  this macro you must do\n",
    "\n",
    "```cpp\n",
    "root[0] .L  mathcoreVectorFloatIO.C+\n",
    "root[1] runIt();\n",
    "```\n",
    "\n",
    "\n",
    "\n",
    "\n",
    "**Author:** Lorenzo Moneta  \n",
    "<i><small>This notebook tutorial was automatically generated with <a href= \"https://github.com/root-project/root/blob/master/documentation/doxygen/converttonotebook.py\">ROOTBOOK-izer</a> from the macro found in the ROOT repository  on Thursday, August 29, 2019 at 02:10 AM.</small></i>"
   ]
  },
  {
   "cell_type": "code",
   "execution_count": 1,
   "metadata": {
    "collapsed": false
   },
   "outputs": [],
   "source": [
    "%%cpp -d\n",
    "#include \"TRandom.h\"\n",
    "#include \"TStopwatch.h\"\n",
    "#include \"TSystem.h\"\n",
    "#include \"TFile.h\"\n",
    "#include \"TTree.h\"\n",
    "#include \"TH1D.h\"\n",
    "#include \"TCanvas.h\"\n",
    "\n",
    "#include <iostream>\n",
    "\n",
    "#include \"TLorentzVector.h\"\n",
    "\n",
    "#include \"Math/Vector4D.h\""
   ]
  },
  {
   "cell_type": "markdown",
   "metadata": {},
   "source": [
    "Now the dictionary contains the vector's with float types\n",
    " No need to force dictionary generation\n",
    " You need to run ACLIC with old ROOT version\n",
    " and uncomment these lines below \n",
    " #ifdef __MAKECINT__\n",
    " #pragma link C++ class ROOT::Math::PxPyPzE4D<float>+;\n",
    " #pragma link C++ class ROOT::Math::LorentzVector<ROOT::Math::PxPyPzE4D<float> >+;\n",
    " #pragma link C++ typedef ROOT::Math::XYZTVectorF;\n",
    " #endif"
   ]
  },
  {
   "cell_type": "code",
   "execution_count": 2,
   "metadata": {
    "collapsed": false
   },
   "outputs": [],
   "source": [
    "%%cpp -d\n",
    "// This is a workaround to make sure the namespace is used inside functions\n",
    "using namespace ROOT::Math;"
   ]
  },
  {
   "cell_type": "markdown",
   "metadata": {},
   "source": [
    " A helper function is created: "
   ]
  },
  {
   "cell_type": "code",
   "execution_count": 3,
   "metadata": {
    "collapsed": false
   },
   "outputs": [],
   "source": [
    "%%cpp -d\n",
    "void write(int n) {\n",
    "\n",
    "   TRandom R;\n",
    "   TStopwatch timer;\n",
    "\n",
    "   TFile f1(\"mathcoreVectorIO_F.root\",\"RECREATE\");\n",
    "\n",
    "   // create tree\n",
    "   TTree t1(\"t1\",\"Tree with new Float LorentzVector\");\n",
    "\n",
    "   XYZTVectorF *v1 = new XYZTVectorF();\n",
    "   t1.Branch(\"LV branch\",\"ROOT::Math::XYZTVectorF\",&v1);\n",
    "\n",
    "   timer.Start();\n",
    "   for (int i = 0; i < n; ++i) {\n",
    "      double Px = R.Gaus(0,10);\n",
    "      double Py = R.Gaus(0,10);\n",
    "      double Pz = R.Gaus(0,10);\n",
    "      double E  = R.Gaus(100,10);\n",
    "      v1->SetCoordinates(Px,Py,Pz,E);\n",
    "      t1.Fill();\n",
    "   }\n",
    "\n",
    "   f1.Write();\n",
    "   timer.Stop();\n",
    "   std::cout << \" Time for new Float Vector \" << timer.RealTime() << \"  \" << timer.CpuTime() << std::endl;\n",
    "   t1.Print();\n",
    "}"
   ]
  },
  {
   "cell_type": "markdown",
   "metadata": {},
   "source": [
    " A helper function is created: "
   ]
  },
  {
   "cell_type": "code",
   "execution_count": 4,
   "metadata": {
    "collapsed": false
   },
   "outputs": [],
   "source": [
    "%%cpp -d\n",
    "void read() {\n",
    "\n",
    "   TRandom R;\n",
    "   TStopwatch timer;\n",
    "\n",
    "   TFile f1(\"mathcoreVectorIO_F.root\");\n",
    "\n",
    "   // create tree\n",
    "   TTree *t1 = (TTree*)f1.Get(\"t1\");\n",
    "\n",
    "   XYZTVectorF *v1 = 0;\n",
    "   t1->SetBranchAddress(\"LV branch\",&v1);\n",
    "\n",
    "   timer.Start();\n",
    "   int n = (int) t1->GetEntries();\n",
    "   std::cout << \" Tree Entries \" << n << std::endl;\n",
    "   double etot=0;\n",
    "   for (int i = 0; i < n; ++i) {\n",
    "      t1->GetEntry(i);\n",
    "      etot += v1->E();\n",
    "   }\n",
    "\n",
    "   timer.Stop();\n",
    "   std::cout << \" Time for new Float Vector \" << timer.RealTime() << \"  \" << timer.CpuTime() << std::endl;\n",
    "   std::cout << \" E average\" << n<< \"  \" << etot << \"  \" << etot/double(n) << endl;\n",
    "}"
   ]
  },
  {
   "cell_type": "markdown",
   "metadata": {},
   "source": [
    " A helper function is created: "
   ]
  },
  {
   "cell_type": "code",
   "execution_count": 5,
   "metadata": {
    "collapsed": false
   },
   "outputs": [],
   "source": [
    "%%cpp -d\n",
    "void runIt() {\n",
    "\n",
    "#if defined(__CINT__) && !defined(__MAKECINT__)\n",
    "   gSystem->Load(\"libMathCore\");\n",
    "   gSystem->Load(\"libPhysics\");\n",
    "   using namespace ROOT::Math ;\n",
    "\n",
    "   cout << \"This tutorial can run only using ACliC, you must run it by doing: \" << endl;\n",
    "   cout << \"\\t  .L tutorials/math/mathcoreVectorFloatIO.C+\" << endl;\n",
    "   cout << \"\\t  runIt()\" << endl;\n",
    "#endif\n",
    "   int nEvents = 100000;\n",
    "   write(nEvents);\n",
    "   read();\n",
    "}"
   ]
  },
  {
   "cell_type": "code",
   "execution_count": 6,
   "metadata": {
    "collapsed": false
   },
   "outputs": [],
   "source": [
    "#if defined(__CINT__) && !defined(__MAKECINT__)\n",
    "gSystem->Load(\"libMathCore\");\n",
    "gSystem->Load(\"libPhysics\");\n",
    "using namespace ROOT::Math ;\n",
    "\n",
    "cout << \"This tutorial can run only using ACliC, you must run it by doing: \" << endl;\n",
    "cout << \"\\t  .L tutorials/math/mathcoreVectorFloatIO.C+\" << endl;\n",
    "cout << \"\\t  runIt()\" << endl;\n",
    "\n",
    "#endif"
   ]
  }
 ],
 "metadata": {
  "kernelspec": {
   "display_name": "ROOT C++",
   "language": "c++",
   "name": "root"
  },
  "language_info": {
   "codemirror_mode": "text/x-c++src",
   "file_extension": ".C",
   "mimetype": " text/x-c++src",
   "name": "c++"
  }
 },
 "nbformat": 4,
 "nbformat_minor": 2
}
