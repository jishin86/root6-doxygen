{
 "cells": [
  {
   "cell_type": "markdown",
   "metadata": {},
   "source": [
    "# Rf 9 0 3_Numintcache\n",
    "Numeric algorithm tuning: caching of slow numeric integrals and parameterization of slow numeric integrals\n",
    "\n",
    "\n",
    "\n",
    "**Author:** 07/2008 - Wouter Verkerke  \n",
    "<i><small>This notebook tutorial was automatically generated with <a href= \"https://github.com/root-project/root/blob/master/documentation/doxygen/converttonotebook.py\">ROOTBOOK-izer</a> from the macro found in the ROOT repository  on Thursday, August 29, 2019 at 03:06 AM.</small></i>"
   ]
  },
  {
   "cell_type": "code",
   "execution_count": 1,
   "metadata": {
    "collapsed": false
   },
   "outputs": [],
   "source": [
    "%%cpp -d\n",
    "#include \"RooRealVar.h\"\n",
    "#include \"RooDataSet.h\"\n",
    "#include \"RooDataHist.h\"\n",
    "#include \"RooGaussian.h\"\n",
    "#include \"RooConstVar.h\"\n",
    "#include \"TCanvas.h\"\n",
    "#include \"TAxis.h\"\n",
    "#include \"RooPlot.h\"\n",
    "#include \"RooWorkspace.h\"\n",
    "#include \"RooExpensiveObjectCache.h\"\n",
    "#include \"TFile.h\"\n",
    "#include \"TH1.h\""
   ]
  },
  {
   "cell_type": "code",
   "execution_count": 2,
   "metadata": {
    "collapsed": false
   },
   "outputs": [],
   "source": [
    "%%cpp -d\n",
    "// This is a workaround to make sure the namespace is used inside functions\n",
    "using namespace RooFit;"
   ]
  },
  {
   "cell_type": "code",
   "execution_count": 3,
   "metadata": {
    "collapsed": false
   },
   "outputs": [],
   "source": [
    "RooWorkspace *getWorkspace(Int_t mode);"
   ]
  },
  {
   "cell_type": "markdown",
   "metadata": {},
   "source": [
    " A helper function is created: "
   ]
  },
  {
   "cell_type": "code",
   "execution_count": 4,
   "metadata": {
    "collapsed": false
   },
   "outputs": [],
   "source": [
    "%%cpp -d\n",
    "RooWorkspace *getWorkspace(Int_t mode)\n",
    "{\n",
    "   // C r e a t e ,   s a v e   o r   l o a d   w o r k s p a c e   w i t h   p . d . f .\n",
    "   // -----------------------------------------------------------------------------------\n",
    "   //\n",
    "   // Mode = 0 : Create workspace for plain running (no integral caching)\n",
    "   // Mode = 1 : Generate workspace with pre-calculated integral and store it on file\n",
    "   // Mode = 2 : Load previously stored workspace from file\n",
    "\n",
    "   RooWorkspace *w(0);\n",
    "\n",
    "   if (mode != 2) {\n",
    "\n",
    "      // Create empty workspace workspace\n",
    "      w = new RooWorkspace(\"w\", 1);\n",
    "\n",
    "      // Make a difficult to normalize  p.d.f. in 3 dimensions that is integrated numerically.\n",
    "      w->factory(\"EXPR::model('1/((x-a)*(x-a)+0.01)+1/((y-a)*(y-a)+0.01)+1/\"\n",
    "                 \"((z-a)*(z-a)+0.01)',x[-1,1],y[-1,1],z[-1,1],a[-5,5])\");\n",
    "   }\n",
    "\n",
    "   if (mode == 1) {\n",
    "\n",
    "      // Instruct model to pre-calculate normalization integral that integrate at least\n",
    "      // two dimensions numerically. In this specific case the integral value for\n",
    "      // all values of parameter 'a' are stored in a histogram and available for use\n",
    "      // in subsequent fitting and plotting operations (interpolation is applied)\n",
    "\n",
    "      // w->pdf(\"model\")->setNormValueCaching(3) ;\n",
    "      w->pdf(\"model\")->setStringAttribute(\"CACHEPARMINT\", \"x:y:z\");\n",
    "\n",
    "      // Evaluate p.d.f. once to trigger filling of cache\n",
    "      RooArgSet normSet(*w->var(\"x\"), *w->var(\"y\"), *w->var(\"z\"));\n",
    "      w->pdf(\"model\")->getVal(&normSet);\n",
    "      w->writeToFile(\"rf903_numintcache.root\");\n",
    "   }\n",
    "\n",
    "   if (mode == 2) {\n",
    "      // Load preexisting workspace from file in mode==2\n",
    "      TFile *f = new TFile(\"rf903_numintcache.root\");\n",
    "      w = (RooWorkspace *)f->Get(\"w\");\n",
    "   }\n",
    "\n",
    "   // Return created or loaded workspace\n",
    "   return w;\n",
    "}"
   ]
  },
  {
   "cell_type": "markdown",
   "metadata": {},
   "source": [
    " Arguments are defined. "
   ]
  },
  {
   "cell_type": "code",
   "execution_count": 5,
   "metadata": {
    "collapsed": false
   },
   "outputs": [],
   "source": [
    "Int_t mode = 0;"
   ]
  },
  {
   "cell_type": "markdown",
   "metadata": {},
   "source": [
    "Mode = 0 : run plain fit (slow)\n",
    " Mode = 1 : Generate workspace with pre-calculated integral and store it on file (prepare for accelerated running)\n",
    " Mode = 2 : Run fit from previously stored workspace including cached integrals (fast, requires run in mode=1\n",
    " first)"
   ]
  },
  {
   "cell_type": "markdown",
   "metadata": {},
   "source": [
    "Create, save or load workspace with p.d.f.\n",
    " -----------------------------------------------------------------------------------"
   ]
  },
  {
   "cell_type": "markdown",
   "metadata": {},
   "source": [
    "Make/load workspace, exit here in mode 1"
   ]
  },
  {
   "cell_type": "code",
   "execution_count": 6,
   "metadata": {
    "collapsed": false
   },
   "outputs": [
    {
     "name": "stdout",
     "output_type": "stream",
     "text": [
      "\n",
      "\u001b[1mRooFit v3.60 -- Developed by Wouter Verkerke and David Kirkby\u001b[0m \n",
      "                Copyright (C) 2000-2013 NIKHEF, University of California & Stanford University\n",
      "                All rights reserved, please read http://roofit.sourceforge.net/license.txt\n",
      "\n",
      "[#1] INFO:ObjectHandling -- RooWorkspace::exportToCint(w) INFO: references to all objects in this workspace will be created in CINT in 'namespace w'\n"
     ]
    }
   ],
   "source": [
    "RooWorkspace *w1 = getWorkspace(mode);\n",
    "if (mode == 1) {\n",
    "\n",
    "   // Show workspace that was created\n",
    "   w1->Print();\n",
    "\n",
    "   // Show plot of cached integral values\n",
    "   RooDataHist *hhcache = (RooDataHist *)w1->expensiveObjectCache().getObj(1);\n",
    "   if (hhcache) {\n",
    "\n",
    "      new TCanvas(\"rf903_numintcache\", \"rf903_numintcache\", 600, 600);\n",
    "      hhcache->createHistogram(\"a\")->Draw();\n",
    "\n",
    "   } else {\n",
    "      Error(\"rf903_numintcache\", \"Cached histogram is not existing in workspace\");\n",
    "   }\n",
    "   return;\n",
    "}"
   ]
  },
  {
   "cell_type": "markdown",
   "metadata": {},
   "source": [
    "Use p.d.f. from workspace for generation and fitting\n",
    " -----------------------------------------------------------------------------------"
   ]
  },
  {
   "cell_type": "markdown",
   "metadata": {},
   "source": [
    "This is always slow (need to find maximum function value empirically in 3d space)"
   ]
  },
  {
   "cell_type": "code",
   "execution_count": 7,
   "metadata": {
    "collapsed": false
   },
   "outputs": [
    {
     "name": "stdout",
     "output_type": "stream",
     "text": [
      "[#1] INFO:NumericIntegration -- RooRealIntegral::init(model_Int[x,y,z]) using numeric integrator RooAdaptiveIntegratorND to calculate Int(x,y,z)\n"
     ]
    }
   ],
   "source": [
    "RooDataSet *d = w1->pdf(\"model\")->generate(RooArgSet(*w1->var(\"x\"), *w1->var(\"y\"), *w1->var(\"z\")), 1000);"
   ]
  },
  {
   "cell_type": "markdown",
   "metadata": {},
   "source": [
    "This is slow in mode 0, but fast in mode 1"
   ]
  },
  {
   "cell_type": "code",
   "execution_count": 8,
   "metadata": {
    "collapsed": false
   },
   "outputs": [
    {
     "name": "stdout",
     "output_type": "stream",
     "text": [
      "[#1] INFO:Minization -- createNLL: caching constraint set under name CONSTR_OF_PDF_model_FOR_OBS_x:y:z with 0 entries\n",
      "[#1] INFO:Minization -- RooMinimizer::optimizeConst: activating const optimization\n",
      "[#0] WARNING:Minization -- RooMinimizerFcn::synchronize: WARNING: no initial error estimate available for a: using 1\n",
      " **********\n",
      " **    1 **SET PRINT           1\n",
      " **********\n",
      " **********\n",
      " **    2 **SET NOGRAD\n",
      " **********\n",
      " PARAMETER DEFINITIONS:\n",
      "    NO.   NAME         VALUE      STEP SIZE      LIMITS\n",
      "     1 a            0.00000e+00  1.00000e+00   -5.00000e+00  5.00000e+00\n",
      " **********\n",
      " **    3 **SET ERR         0.5\n",
      " **********\n",
      " **********\n",
      " **    4 **SET PRINT           1\n",
      " **********\n",
      " **********\n",
      " **    5 **SET STR           1\n",
      " **********\n",
      " NOW USING STRATEGY  1: TRY TO BALANCE SPEED AGAINST RELIABILITY\n",
      " **********\n",
      " **    6 **MIGRAD         500           1\n",
      " **********\n",
      " FIRST CALL TO USER FUNCTION AT NEW START POINT, WITH IFLAG=4.\n",
      "\n",
      "prevFCN = 1659.930708   START MIGRAD MINIMIZATION.  STRATEGY  1.  CONVERGENCE WHEN EDM .LT. 1.00e-03\n",
      "a=0.02003, [#1] INFO:NumericIntegration -- RooRealIntegral::init(model_Int[x,y,z]) using numeric integrator RooAdaptiveIntegratorND to calculate Int(x,y,z)\n",
      "\n",
      "prevFCN = 1668.090831  a=-0.02003, \n",
      "prevFCN = 1666.341378  a=0.002003, \n",
      "prevFCN = 1660.094465  a=-0.002003, \n",
      "prevFCN = 1659.913535   FCN=1659.93 FROM MIGRAD    STATUS=INITIATE        4 CALLS           5 TOTAL\n",
      "                     EDM= unknown      STRATEGY= 1      NO ERROR MATRIX       \n",
      "  EXT PARAMETER               CURRENT GUESS       STEP         FIRST   \n",
      "  NO.   NAME      VALUE            ERROR          SIZE      DERIVATIVE \n",
      "   1  a            0.00000e+00   1.00000e+00   2.01358e-01   2.25805e+02\n",
      "                               ERR DEF= 0.5\n",
      "a=-0.001236, \n",
      "prevFCN = 1659.902781  a=-0.001036, \n",
      "prevFCN = 1659.903514  a=-0.001437, \n",
      "prevFCN = 1659.903515  a=-0.001089, \n",
      "prevFCN = 1659.903177  a=-0.001383, \n",
      "prevFCN = 1659.903178   MIGRAD MINIMIZATION HAS CONVERGED.\n",
      " MIGRAD WILL VERIFY CONVERGENCE AND ERROR MATRIX.\n",
      "a=-0.001236, \n",
      "prevFCN = 1659.902781  a=-0.001089, \n",
      "prevFCN = 1659.903177  a=-0.001383, \n",
      "prevFCN = 1659.903178  a=-0.001207, \n",
      "prevFCN = 1659.902797  a=-0.001266, \n",
      "prevFCN = 1659.902797   COVARIANCE MATRIX CALCULATED SUCCESSFULLY\n",
      " FCN=1659.9 FROM MIGRAD    STATUS=CONVERGED      14 CALLS          15 TOTAL\n",
      "                     EDM=2.26676e-10    STRATEGY= 1      ERROR MATRIX ACCURATE \n",
      "  EXT PARAMETER                                   STEP         FIRST   \n",
      "  NO.   NAME      VALUE            ERROR          SIZE      DERIVATIVE \n",
      "   1  a           -1.23627e-03   5.23021e-03   2.94345e-05  -1.43931e-02\n",
      "                               ERR DEF= 0.5\n",
      " EXTERNAL ERROR MATRIX.    NDIM=  25    NPAR=  1    ERR DEF=0.5\n",
      "  2.736e-05 \n",
      "[#1] INFO:Minization -- Command timer: Real time 0:00:06, CP time 6.450\n",
      "[#1] INFO:Minization -- Session timer: Real time 0:00:06, CP time 6.450\n",
      "a=-0.001236,  **********\n",
      " **    7 **SET ERR         0.5\n",
      " **********\n",
      " **********\n",
      " **    8 **SET PRINT           1\n",
      " **********\n",
      " **********\n",
      " **    9 **HESSE         500\n",
      " **********\n",
      "\n",
      "prevFCN = 1659.902781  a=-0.001207, \n",
      "prevFCN = 1659.902797  a=-0.001266, \n",
      "prevFCN = 1659.902797  a=-0.00123, \n",
      "prevFCN = 1659.902782  a=-0.001242, \n",
      "prevFCN = 1659.902782   COVARIANCE MATRIX CALCULATED SUCCESSFULLY\n",
      " FCN=1659.9 FROM HESSE     STATUS=OK              5 CALLS          20 TOTAL\n",
      "                     EDM=2.26062e-10    STRATEGY= 1      ERROR MATRIX ACCURATE \n",
      "  EXT PARAMETER                                INTERNAL      INTERNAL  \n",
      "  NO.   NAME      VALUE            ERROR       STEP SIZE       VALUE   \n",
      "   1  a           -1.23627e-03   5.23023e-03   5.88690e-06  -2.47254e-04\n",
      "                               ERR DEF= 0.5\n",
      " EXTERNAL ERROR MATRIX.    NDIM=  25    NPAR=  1    ERR DEF=0.5\n",
      "  2.736e-05 \n",
      "[#1] INFO:Minization -- Command timer: Real time 0:00:02, CP time 2.150\n",
      "[#1] INFO:Minization -- Session timer: Real time 0:00:08, CP time 8.600, 2 slices\n",
      "a=-0.001236, [#1] INFO:Minization -- RooMinimizer::optimizeConst: deactivating const optimization\n",
      "[#0] WARNING:NumericIntegration -- RooAdaptiveIntegratorND::dtor(model) WARNING: Number of suppressed warningings about integral evaluations where target precision was not reached is 20\n"
     ]
    }
   ],
   "source": [
    "w1->pdf(\"model\")->fitTo(*d, Verbose(kTRUE), Timer(kTRUE));"
   ]
  },
  {
   "cell_type": "markdown",
   "metadata": {},
   "source": [
    "Projection on x (always slow as 2d integral over y,z at fitted value of a is not cached)"
   ]
  },
  {
   "cell_type": "code",
   "execution_count": 9,
   "metadata": {
    "collapsed": false
   },
   "outputs": [
    {
     "name": "stdout",
     "output_type": "stream",
     "text": [
      "[#1] INFO:Plotting -- RooAbsReal::plotOn(model) plot on x integrates over variables (y,z)\n",
      "[#1] INFO:NumericIntegration -- RooRealIntegral::init(model_Int[y,z]_Norm[x,y,z]) using numeric integrator RooAdaptiveIntegratorND to calculate Int(y,z)\n"
     ]
    }
   ],
   "source": [
    "RooPlot *framex = w1->var(\"x\")->frame(Title(\"Projection of 3D model on X\"));\n",
    "d->plotOn(framex);\n",
    "w1->pdf(\"model\")->plotOn(framex);"
   ]
  },
  {
   "cell_type": "markdown",
   "metadata": {},
   "source": [
    "Draw x projection on canvas"
   ]
  },
  {
   "cell_type": "code",
   "execution_count": 10,
   "metadata": {
    "collapsed": false
   },
   "outputs": [],
   "source": [
    "new TCanvas(\"rf903_numintcache\", \"rf903_numintcache\", 600, 600);\n",
    "framex->Draw();"
   ]
  },
  {
   "cell_type": "markdown",
   "metadata": {},
   "source": [
    "Make workspace available on command line after macro finishes"
   ]
  },
  {
   "cell_type": "code",
   "execution_count": 11,
   "metadata": {
    "collapsed": false
   },
   "outputs": [],
   "source": [
    "gDirectory->Add(w1);\n",
    "\n",
    "return;"
   ]
  },
  {
   "cell_type": "markdown",
   "metadata": {},
   "source": [
    "Draw all canvases "
   ]
  },
  {
   "cell_type": "code",
   "execution_count": 12,
   "metadata": {
    "collapsed": false
   },
   "outputs": [
    {
     "data": {
      "text/html": [
       "\n",
       "<div id=\"root_plot_1\"\n",
       "     style=\"width: 596px; height: 572px\">\n",
       "</div>\n",
       "\n",
       "<script>\n",
       " requirejs.config({\n",
       "     paths: {\n",
       "       'JSRootCore' : 'https://root.cern.ch/js/notebook//scripts/JSRootCore',\n",
       "     }\n",
       "   });\n",
       " require(['JSRootCore'],\n",
       "     function(Core) {\n",
       "       var obj = Core.JSONR_unref({\"_typename\":\"TCanvas\",\"fUniqueID\":0,\"fBits\":53673992,\"fLineColor\":1,\"fLineStyle\":1,\"fLineWidth\":1,\"fFillColor\":0,\"fFillStyle\":1001,\"fLeftMargin\":0.1,\"fRightMargin\":0.1,\"fBottomMargin\":0.1,\"fTopMargin\":0.1,\"fXfile\":2,\"fYfile\":2,\"fAfile\":1,\"fXstat\":0.99,\"fYstat\":0.99,\"fAstat\":2,\"fFrameFillColor\":0,\"fFrameLineColor\":1,\"fFrameFillStyle\":1001,\"fFrameLineStyle\":1,\"fFrameLineWidth\":1,\"fFrameBorderSize\":1,\"fFrameBorderMode\":0,\"fX1\":-1.25000001862645,\"fY1\":-5.22408727706704,\"fX2\":1.25000001862645,\"fY2\":47.0167823798048,\"fXtoAbsPixelk\":298.00005,\"fXtoPixelk\":298.00005,\"fXtoPixel\":238.399996447563,\"fYtoAbsPixelk\":514.800046590614,\"fYtoPixelk\":514.800046590614,\"fYtoPixel\":-10.9492817358709,\"fUtoAbsPixelk\":5e-5,\"fUtoPixelk\":5e-5,\"fUtoPixel\":596,\"fVtoAbsPixelk\":572.00005,\"fVtoPixelk\":572,\"fVtoPixel\":-572,\"fAbsPixeltoXk\":-1.25000001862645,\"fPixeltoXk\":-1.25000001862645,\"fPixeltoX\":0.0041946309349881,\"fAbsPixeltoYk\":47.0167823798048,\"fPixeltoYk\":-5.22408727706704,\"fPixeltoY\":-0.0913301917078179,\"fXlowNDC\":0,\"fYlowNDC\":0,\"fXUpNDC\":0,\"fYUpNDC\":0,\"fWNDC\":1,\"fHNDC\":1,\"fAbsXlowNDC\":0,\"fAbsYlowNDC\":0,\"fAbsWNDC\":1,\"fAbsHNDC\":1,\"fUxmin\":-1,\"fUymin\":0,\"fUxmax\":1,\"fUymax\":41.7926951027377,\"fTheta\":30,\"fPhi\":30,\"fAspectRatio\":0,\"fNumber\":0,\"fTickx\":0,\"fTicky\":0,\"fLogx\":0,\"fLogy\":0,\"fLogz\":0,\"fPadPaint\":0,\"fCrosshair\":0,\"fCrosshairPos\":0,\"fBorderSize\":2,\"fBorderMode\":0,\"fModified\":false,\"fGridx\":false,\"fGridy\":false,\"fAbsCoord\":false,\"fEditable\":true,\"fFixedAspectRatio\":false,\"fPrimitives\":{\"_typename\":\"TList\",\"name\":\"TList\",\"arr\":[{\"_typename\":\"TFrame\",\"fUniqueID\":0,\"fBits\":50331656,\"fLineColor\":1,\"fLineStyle\":1,\"fLineWidth\":1,\"fFillColor\":0,\"fFillStyle\":1001,\"fX1\":-1,\"fY1\":0,\"fX2\":1,\"fY2\":41.7926951027377,\"fBorderSize\":1,\"fBorderMode\":0},{\"_typename\":\"TH1D\",\"fUniqueID\":0,\"fBits\":50332168,\"fName\":\"frame_7f3f90458160\",\"fTitle\":\"Projection of 3D model on X\",\"fLineColor\":602,\"fLineStyle\":1,\"fLineWidth\":1,\"fFillColor\":0,\"fFillStyle\":1001,\"fMarkerColor\":1,\"fMarkerStyle\":1,\"fMarkerSize\":1,\"fNcells\":102,\"fXaxis\":{\"_typename\":\"TAxis\",\"fUniqueID\":0,\"fBits\":50331648,\"fName\":\"xaxis\",\"fTitle\":\"x\",\"fNdivisions\":510,\"fAxisColor\":1,\"fLabelColor\":1,\"fLabelFont\":42,\"fLabelOffset\":0.005,\"fLabelSize\":0.035,\"fTickLength\":0.03,\"fTitleOffset\":1,\"fTitleSize\":0.035,\"fTitleColor\":1,\"fTitleFont\":42,\"fNbins\":100,\"fXmin\":-1,\"fXmax\":1,\"fXbins\":[],\"fFirst\":0,\"fLast\":0,\"fBits2\":0,\"fTimeDisplay\":false,\"fTimeFormat\":\"\",\"fLabels\":null,\"fModLabs\":null},\"fYaxis\":{\"_typename\":\"TAxis\",\"fUniqueID\":0,\"fBits\":50331648,\"fName\":\"yaxis\",\"fTitle\":\"Events \\/ ( 0.02 )\",\"fNdivisions\":510,\"fAxisColor\":1,\"fLabelColor\":1,\"fLabelFont\":42,\"fLabelOffset\":0.005,\"fLabelSize\":0.035,\"fTickLength\":0.03,\"fTitleOffset\":0,\"fTitleSize\":0.035,\"fTitleColor\":1,\"fTitleFont\":42,\"fNbins\":1,\"fXmin\":0,\"fXmax\":1,\"fXbins\":[],\"fFirst\":0,\"fLast\":0,\"fBits2\":0,\"fTimeDisplay\":false,\"fTimeFormat\":\"\",\"fLabels\":null,\"fModLabs\":null},\"fZaxis\":{\"_typename\":\"TAxis\",\"fUniqueID\":0,\"fBits\":50331648,\"fName\":\"zaxis\",\"fTitle\":\"\",\"fNdivisions\":510,\"fAxisColor\":1,\"fLabelColor\":1,\"fLabelFont\":42,\"fLabelOffset\":0.005,\"fLabelSize\":0.035,\"fTickLength\":0.03,\"fTitleOffset\":1,\"fTitleSize\":0.035,\"fTitleColor\":1,\"fTitleFont\":42,\"fNbins\":1,\"fXmin\":0,\"fXmax\":1,\"fXbins\":[],\"fFirst\":0,\"fLast\":0,\"fBits2\":0,\"fTimeDisplay\":false,\"fTimeFormat\":\"\",\"fLabels\":null,\"fModLabs\":null},\"fBarOffset\":0,\"fBarWidth\":1000,\"fEntries\":1,\"fTsumw\":0,\"fTsumw2\":0,\"fTsumwx\":0,\"fTsumwx2\":0,\"fMaximum\":41.7926951027377,\"fMinimum\":-1111,\"fNormFactor\":0,\"fContour\":[],\"fSumw2\":[],\"fOption\":\"\",\"fFunctions\":{\"_typename\":\"TList\",\"name\":\"TList\",\"arr\":[],\"opt\":[]},\"fBufferSize\":0,\"fBuffer\":[],\"fBinStatErrOpt\":0,\"fStatOverflows\":2,\"fArray\":[0,41.7926951027377,0,0,0,0,0,0,0,0,0,0,0,0,0,0,0,0,0,0,0,0,0,0,0,0,0,0,0,0,0,0,0,0,0,0,0,0,0,0,0,0,0,0,0,0,0,0,0,0,0,0,0,0,0,0,0,0,0,0,0,0,0,0,0,0,0,0,0,0,0,0,0,0,0,0,0,0,0,0,0,0,0,0,0,0,0,0,0,0,0,0,0,0,0,0,0,0,0,0,0,0]},{\"_typename\":\"RooHist\",\"fUniqueID\":0,\"fBits\":50332680,\"fName\":\"h_modelData\",\"fTitle\":\"Histogram of modelData_plot__x\",\"fLineColor\":1,\"fLineStyle\":1,\"fLineWidth\":1,\"fFillColor\":0,\"fFillStyle\":1000,\"fMarkerColor\":1,\"fMarkerStyle\":8,\"fMarkerSize\":1,\"fNpoints\":100,\"fX\":[-0.99,-0.97,-0.95,-0.93,-0.91,-0.89,-0.87,-0.85,-0.83,-0.81,-0.79,-0.77,-0.75,-0.73,-0.71,-0.69,-0.67,-0.65,-0.63,-0.61,-0.59,-0.57,-0.55,-0.53,-0.51,-0.49,-0.47,-0.45,-0.43,-0.41,-0.39,-0.37,-0.35,-0.33,-0.31,-0.29,-0.27,-0.25,-0.23,-0.21,-0.19,-0.17,-0.15,-0.13,-0.11,-0.09,-0.07,-0.0499999999999999,-0.03,-0.01,0.01,0.03,0.05,0.07,0.0900000000000001,0.11,0.13,0.15,0.17,0.19,0.21,0.23,0.25,0.27,0.29,0.31,0.33,0.35,0.37,0.39,0.41,0.43,0.45,0.47,0.49,0.51,0.53,0.55,0.57,0.59,0.61,0.63,0.65,0.67,0.69,0.71,0.73,0.75,0.77,0.79,0.81,0.83,0.85,0.87,0.89,0.91,0.93,0.95,0.97,0.99],\"fY\":[9,2,9,9,6,4,8,9,6,2,8,5,9,7,3,8,9,3,9,9,5,9,6,6,5,4,6,6,6,8,9,10,7,9,10,10,11,13,14,12,10,13,14,19,12,21,17,24,32,29,33,27,26,26,19,21,15,11,15,6,18,7,9,10,9,11,5,7,9,8,2,8,5,5,8,5,7,8,9,6,10,6,9,8,8,9,14,4,9,8,3,16,9,5,6,1,7,7,6,9],\"fFunctions\":{\"_typename\":\"TList\",\"name\":\"TList\",\"arr\":[],\"opt\":[]},\"fHistogram\":{\"_typename\":\"TH1F\",\"fUniqueID\":0,\"fBits\":50332168,\"fName\":\"h_modelData\",\"fTitle\":\"Histogram of modelData_plot__x\",\"fLineColor\":602,\"fLineStyle\":1,\"fLineWidth\":1,\"fFillColor\":0,\"fFillStyle\":1001,\"fMarkerColor\":1,\"fMarkerStyle\":1,\"fMarkerSize\":1,\"fNcells\":102,\"fXaxis\":{\"_typename\":\"TAxis\",\"fUniqueID\":0,\"fBits\":50331648,\"fName\":\"xaxis\",\"fTitle\":\"\",\"fNdivisions\":510,\"fAxisColor\":1,\"fLabelColor\":1,\"fLabelFont\":42,\"fLabelOffset\":0.005,\"fLabelSize\":0.035,\"fTickLength\":0.03,\"fTitleOffset\":1,\"fTitleSize\":0.035,\"fTitleColor\":1,\"fTitleFont\":42,\"fNbins\":100,\"fXmin\":-1.2,\"fXmax\":1.2,\"fXbins\":[],\"fFirst\":0,\"fLast\":0,\"fBits2\":0,\"fTimeDisplay\":false,\"fTimeFormat\":\"\",\"fLabels\":null,\"fModLabs\":null},\"fYaxis\":{\"_typename\":\"TAxis\",\"fUniqueID\":0,\"fBits\":50331648,\"fName\":\"yaxis\",\"fTitle\":\"\",\"fNdivisions\":510,\"fAxisColor\":1,\"fLabelColor\":1,\"fLabelFont\":42,\"fLabelOffset\":0.005,\"fLabelSize\":0.035,\"fTickLength\":0.03,\"fTitleOffset\":0,\"fTitleSize\":0.035,\"fTitleColor\":1,\"fTitleFont\":42,\"fNbins\":1,\"fXmin\":0.155478401121105,\"fXmax\":43.765548063061,\"fXbins\":[],\"fFirst\":0,\"fLast\":0,\"fBits2\":0,\"fTimeDisplay\":false,\"fTimeFormat\":\"\",\"fLabels\":null,\"fModLabs\":null},\"fZaxis\":{\"_typename\":\"TAxis\",\"fUniqueID\":0,\"fBits\":50331648,\"fName\":\"zaxis\",\"fTitle\":\"\",\"fNdivisions\":510,\"fAxisColor\":1,\"fLabelColor\":1,\"fLabelFont\":42,\"fLabelOffset\":0.005,\"fLabelSize\":0.035,\"fTickLength\":0.03,\"fTitleOffset\":1,\"fTitleSize\":0.035,\"fTitleColor\":1,\"fTitleFont\":42,\"fNbins\":1,\"fXmin\":0,\"fXmax\":1,\"fXbins\":[],\"fFirst\":0,\"fLast\":0,\"fBits2\":0,\"fTimeDisplay\":false,\"fTimeFormat\":\"\",\"fLabels\":null,\"fModLabs\":null},\"fBarOffset\":0,\"fBarWidth\":1000,\"fEntries\":0,\"fTsumw\":0,\"fTsumw2\":0,\"fTsumwx\":0,\"fTsumwx2\":0,\"fMaximum\":43.765548063061,\"fMinimum\":0.155478401121105,\"fNormFactor\":0,\"fContour\":[],\"fSumw2\":[],\"fOption\":\"\",\"fFunctions\":{\"_typename\":\"TList\",\"name\":\"TList\",\"arr\":[],\"opt\":[]},\"fBufferSize\":0,\"fBuffer\":[],\"fBinStatErrOpt\":0,\"fStatOverflows\":2,\"fArray\":[0,0,0,0,0,0,0,0,0,0,0,0,0,0,0,0,0,0,0,0,0,0,0,0,0,0,0,0,0,0,0,0,0,0,0,0,0,0,0,0,0,0,0,0,0,0,0,0,0,0,0,0,0,0,0,0,0,0,0,0,0,0,0,0,0,0,0,0,0,0,0,0,0,0,0,0,0,0,0,0,0,0,0,0,0,0,0,0,0,0,0,0,0,0,0,0,0,0,0,0,0,0]},\"fMinimum\":-1111,\"fMaximum\":-1111,\"fEXlow\":[0.01,0.01,0.01,0.01,0.01,0.01,0.01,0.01,0.01,0.01,0.01,0.01,0.01,0.01,0.01,0.01,0.01,0.01,0.01,0.01,0.01,0.01,0.01,0.01,0.01,0.01,0.01,0.01,0.01,0.01,0.01,0.01,0.01,0.01,0.01,0.01,0.01,0.01,0.01,0.01,0.01,0.01,0.01,0.01,0.01,0.01,0.01,0.01,0.01,0.01,0.01,0.01,0.01,0.01,0.01,0.01,0.01,0.01,0.01,0.01,0.01,0.01,0.01,0.01,0.01,0.01,0.01,0.01,0.01,0.01,0.01,0.01,0.01,0.01,0.01,0.01,0.01,0.01,0.01,0.01,0.01,0.01,0.01,0.01,0.01,0.01,0.01,0.01,0.01,0.01,0.01,0.01,0.01,0.01,0.01,0.01,0.01,0.01,0.01,0.01],\"fEXhigh\":[0.01,0.01,0.01,0.01,0.01,0.01,0.01,0.01,0.01,0.01,0.01,0.01,0.01,0.01,0.01,0.01,0.01,0.01,0.01,0.01,0.01,0.01,0.01,0.01,0.01,0.01,0.01,0.01,0.01,0.01,0.01,0.01,0.01,0.01,0.01,0.01,0.01,0.01,0.01,0.01,0.01,0.01,0.01,0.01,0.01,0.01,0.01,0.01,0.01,0.01,0.01,0.01,0.01,0.01,0.01,0.01,0.01,0.01,0.01,0.01,0.01,0.01,0.01,0.01,0.01,0.01,0.01,0.01,0.01,0.01,0.01,0.01,0.01,0.01,0.01,0.01,0.01,0.01,0.01,0.01,0.01,0.01,0.01,0.01,0.01,0.01,0.01,0.01,0.01,0.01,0.01,0.01,0.01,0.01,0.01,0.01,0.01,0.01,0.01,0.01],\"fEYlow\":[2.94346103725076,1.29181456018103,2.94346103725076,2.94346103725076,2.37993137929577,1.91433918622288,2.76838605646272,2.94346103725076,2.37993137929577,1.29181456018103,2.76838605646272,2.15969114440678,2.94346103725076,2.58147045606626,1.63270468610957,2.76838605646272,2.94346103725076,1.63270468610957,2.94346103725076,2.94346103725076,2.15969114440678,2.94346103725076,2.37993137929577,2.37993137929577,2.15969114440678,1.91433918622288,2.37993137929577,2.37993137929577,2.37993137929577,2.76838605646272,2.94346103725076,3.10869443936164,2.58147045606626,2.94346103725076,3.10869443936164,3.10869443936164,3.26557940095131,3.5586623304375,3.69650031882412,3.41526599430015,3.10869443936164,3.5586623304375,3.69650031882412,4.32021937465496,3.41526599430015,4.54580699932335,4.08218389934171,4.86461220384528,5.62713531718605,5.35393156485154,5.71530168178358,5.16377123855587,5.06601492135562,5.06601492135562,4.32021937465496,4.54580699932335,3.82938009857506,3.26557940095131,3.82938009857506,2.37993137929577,4.20288721196007,2.58147045606626,2.94346103725076,3.10869443936164,2.94346103725076,3.26557940095131,2.15969114440678,2.58147045606626,2.94346103725076,2.76838605646272,1.29181456018103,2.76838605646272,2.15969114440678,2.15969114440678,2.76838605646272,2.15969114440678,2.58147045606626,2.76838605646272,2.94346103725076,2.37993137929577,3.10869443936164,2.37993137929577,2.94346103725076,2.76838605646272,2.76838605646272,2.94346103725076,3.69650031882412,1.91433918622288,2.94346103725076,2.76838605646272,1.63270468610957,3.95780102940381,2.94346103725076,2.15969114440678,2.37993137929577,0.82724622097655,2.58147045606626,2.58147045606626,2.37993137929577,2.94346103725076],\"fEYhigh\":[4.11020413766764,2.63785962345524,4.11020413766764,4.11020413766764,3.58364154598457,3.16275317226094,3.94514151986907,4.11020413766764,3.58364154598457,2.63785962345524,3.94514151986907,3.38247265214689,4.11020413766764,3.77028072043409,2.9181858328834,3.94514151986907,4.11020413766764,2.9181858328834,4.11020413766764,4.11020413766764,3.38247265214689,4.11020413766764,3.58364154598457,3.58364154598457,3.38247265214689,3.16275317226094,3.58364154598457,3.58364154598457,3.58364154598457,3.94514151986907,4.11020413766764,4.26694976100939,3.77028072043409,4.11020413766764,4.26694976100939,4.26694976100939,4.41652052316603,4.69757337260906,4.83038075568817,4.55981905739127,4.26694976100939,4.69757337260906,4.83038075568817,5.4351961614818,4.55981905739127,5.65518197118255,5.20371938988384,5.96693206711369,6.71575340007623,6.44701964227479,6.80256676451212,6.2602438465527,6.16432406860527,6.16432406860527,5.4351961614818,5.65518197118255,4.95873843272062,4.41652052316603,4.95873843272062,3.58364154598457,5.32100732238368,3.77028072043409,4.11020413766764,4.26694976100939,4.11020413766764,4.41652052316603,3.38247265214689,3.77028072043409,4.11020413766764,3.94514151986907,2.63785962345524,3.94514151986907,3.38247265214689,3.38247265214689,3.94514151986907,3.38247265214689,3.77028072043409,3.94514151986907,4.11020413766764,3.58364154598457,4.26694976100939,3.58364154598457,4.11020413766764,3.94514151986907,3.94514151986907,4.11020413766764,4.83038075568817,3.16275317226094,4.11020413766764,3.94514151986907,2.9181858328834,5.08306556401624,4.11020413766764,3.38247265214689,3.58364154598457,2.29952655911586,3.77028072043409,3.77028072043409,3.58364154598457,4.11020413766764],\"_yAxisLabel\":\"Events \\/ ( 0.02 )\",\"_ymin\":0,\"_ymax\":39.8025667645121,\"_normValue\":0,\"_nominalBinWidth\":0.02,\"_nSigma\":1,\"_entries\":1000,\"_rawEntries\":-1},{\"_typename\":\"RooCurve\",\"fUniqueID\":0,\"fBits\":50332680,\"fName\":\"model_Int[y,z]_Norm[x,y,z]\",\"fTitle\":\"Projection of model\",\"fLineColor\":600,\"fLineStyle\":1,\"fLineWidth\":3,\"fFillColor\":0,\"fFillStyle\":1000,\"fMarkerColor\":1,\"fMarkerStyle\":1,\"fMarkerSize\":1,\"fNpoints\":133,\"fX\":[-1.02,-1.02,-1,-0.98,-0.96,-0.94,-0.92,-0.9,-0.88,-0.86,-0.84,-0.82,-0.8,-0.78,-0.76,-0.74,-0.72,-0.7,-0.68,-0.66,-0.64,-0.62,-0.6,-0.58,-0.56,-0.54,-0.52,-0.5,-0.48,-0.46,-0.44,-0.42,-0.4,-0.38,-0.36,-0.34,-0.32,-0.3,-0.28,-0.26,-0.24,-0.22,-0.2,-0.19,-0.18,-0.17,-0.16,-0.15,-0.14,-0.13,-0.12,-0.11,-0.1,-0.09,-0.08,-0.07,-0.0599999999999999,-0.05,-0.04,-0.035,-0.03,-0.025,-0.02,-0.015,-0.01,-0.005,0,0.005,0.01,0.015,0.02,0.025,0.03,0.035,0.04,0.05,0.0600000000000001,0.0700000000000001,0.0800000000000001,0.0900000000000001,0.1,0.11,0.12,0.13,0.14,0.15,0.16,0.17,0.18,0.2,0.22,0.24,0.26,0.28,0.3,0.32,0.34,0.36,0.38,0.4,0.42,0.44,0.46,0.48,0.5,0.52,0.54,0.56,0.58,0.6,0.62,0.64,0.66,0.68,0.7,0.72,0.74,0.76,0.78,0.8,0.82,0.84,0.86,0.88,0.9,0.92,0.94,0.96,0.98,1,1,1.02,1.02],\"fY\":[0,6.89155704465821,6.89155704465821,6.90074582161233,6.9105073622669,6.92089008816735,6.9319476265281,6.94373949342114,6.95633188364943,6.96979858614971,6.98422204857018,6.99969461898384,7.01631999944542,7.03421495290073,7.05351131533827,7.07435837646188,7.09692570762472,7.12140653480444,7.14802177906295,7.17702491831118,7.20870786498432,7.24340810690152,7.28151742768523,7.32349261378473,7.36986867531671,7.42127526805826,7.47845721887577,7.54230034724828,7.61386417144835,7.69442363045634,7.785522702342,7.88904384279179,8.00729862719975,8.14314703477355,8.30015571741223,8.48280970493063,8.69679779671213,8.94939998791834,9.25001632525691,9.61089091455959,10.0481013432673,10.5828971307897,11.2434635521914,11.632147887696,12.0671107567253,12.5548301601868,13.1026173311193,13.7186122545556,14.4116911037475,15.1912242370718,16.0665934682647,17.046339534368,18.1367704490441,19.3398351926582,20.6500917584804,22.0507409089407,23.5090522425817,24.9721588454026,26.3650869483787,27.0063246988324,27.593627623455,28.113868860287,28.5544060306753,28.9037640444306,29.1523276402385,29.2929724931256,29.321561641201,29.2372447303689,29.0425205094425,28.7430541433213,28.3472738327441,27.8657989957373,27.3107694707224,26.6951494737865,26.0320723598668,24.6136594951531,23.1456148460393,21.6974787479181,20.3168291140221,19.0320272834114,17.8566517353648,16.7939821827899,15.8407468873211,14.9899196982706,14.2326464838355,13.5594858082287,12.961155770781,12.428946774057,11.9549193870994,11.1538222752574,10.5106178120498,9.9892530604104,9.56251104189587,9.20986801807677,8.91578492006641,8.66841669943041,8.45866006598324,8.27945707181861,8.12528632941456,7.99179007857198,7.87549925010919,7.77362932696575,7.68392758055443,7.60455781911319,7.53401272135041,7.47104661090808,7.4146234967051,7.36387660408822,7.31807662251971,7.27660661562762,7.23894206092689,7.20463486746838,7.17330049930735,7.14460753987086,7.11826918678199,7.0940362827112,7.07169157550532,7.05104496755158,7.03192956546508,7.01419838057017,6.99772156112125,6.98238406111515,6.96808366902748,6.95472933482952,6.9422397446961,6.93054210290877,6.91957108723353,6.9092679500148,6.89957974265824,6.89045864431657,6.89045864431657,6.89045864431657,0],\"fFunctions\":{\"_typename\":\"TList\",\"name\":\"TList\",\"arr\":[],\"opt\":[]},\"fHistogram\":{\"_typename\":\"TH1F\",\"fUniqueID\":0,\"fBits\":50332168,\"fName\":\"model_Int[y,z]_Norm[x,y,z]\",\"fTitle\":\"Projection of model\",\"fLineColor\":602,\"fLineStyle\":1,\"fLineWidth\":1,\"fFillColor\":0,\"fFillStyle\":1001,\"fMarkerColor\":1,\"fMarkerStyle\":1,\"fMarkerSize\":1,\"fNcells\":135,\"fXaxis\":{\"_typename\":\"TAxis\",\"fUniqueID\":0,\"fBits\":50331648,\"fName\":\"xaxis\",\"fTitle\":\"\",\"fNdivisions\":510,\"fAxisColor\":1,\"fLabelColor\":1,\"fLabelFont\":42,\"fLabelOffset\":0.005,\"fLabelSize\":0.035,\"fTickLength\":0.03,\"fTitleOffset\":1,\"fTitleSize\":0.035,\"fTitleColor\":1,\"fTitleFont\":42,\"fNbins\":133,\"fXmin\":-1.224,\"fXmax\":1.224,\"fXbins\":[],\"fFirst\":0,\"fLast\":0,\"fBits2\":0,\"fTimeDisplay\":false,\"fTimeFormat\":\"\",\"fLabels\":null,\"fModLabs\":null},\"fYaxis\":{\"_typename\":\"TAxis\",\"fUniqueID\":0,\"fBits\":50331648,\"fName\":\"yaxis\",\"fTitle\":\"\",\"fNdivisions\":510,\"fAxisColor\":1,\"fLabelColor\":1,\"fLabelFont\":42,\"fLabelOffset\":0.005,\"fLabelSize\":0.035,\"fTickLength\":0.03,\"fTitleOffset\":0,\"fTitleSize\":0.035,\"fTitleColor\":1,\"fTitleFont\":42,\"fNbins\":1,\"fXmin\":0,\"fXmax\":32.2537178053211,\"fXbins\":[],\"fFirst\":0,\"fLast\":0,\"fBits2\":0,\"fTimeDisplay\":false,\"fTimeFormat\":\"\",\"fLabels\":null,\"fModLabs\":null},\"fZaxis\":{\"_typename\":\"TAxis\",\"fUniqueID\":0,\"fBits\":50331648,\"fName\":\"zaxis\",\"fTitle\":\"\",\"fNdivisions\":510,\"fAxisColor\":1,\"fLabelColor\":1,\"fLabelFont\":42,\"fLabelOffset\":0.005,\"fLabelSize\":0.035,\"fTickLength\":0.03,\"fTitleOffset\":1,\"fTitleSize\":0.035,\"fTitleColor\":1,\"fTitleFont\":42,\"fNbins\":1,\"fXmin\":0,\"fXmax\":1,\"fXbins\":[],\"fFirst\":0,\"fLast\":0,\"fBits2\":0,\"fTimeDisplay\":false,\"fTimeFormat\":\"\",\"fLabels\":null,\"fModLabs\":null},\"fBarOffset\":0,\"fBarWidth\":1000,\"fEntries\":0,\"fTsumw\":0,\"fTsumw2\":0,\"fTsumwx\":0,\"fTsumwx2\":0,\"fMaximum\":32.2537178053211,\"fMinimum\":0,\"fNormFactor\":0,\"fContour\":[],\"fSumw2\":[],\"fOption\":\"\",\"fFunctions\":{\"_typename\":\"TList\",\"name\":\"TList\",\"arr\":[],\"opt\":[]},\"fBufferSize\":0,\"fBuffer\":[],\"fBinStatErrOpt\":0,\"fStatOverflows\":2,\"fArray\":[0,0,0,0,0,0,0,0,0,0,0,0,0,0,0,0,0,0,0,0,0,0,0,0,0,0,0,0,0,0,0,0,0,0,0,0,0,0,0,0,0,0,0,0,0,0,0,0,0,0,0,0,0,0,0,0,0,0,0,0,0,0,0,0,0,0,0,0,0,0,0,0,0,0,0,0,0,0,0,0,0,0,0,0,0,0,0,0,0,0,0,0,0,0,0,0,0,0,0,0,0,0,0,0,0,0,0,0,0,0,0,0,0,0,0,0,0,0,0,0,0,0,0,0,0,0,0,0,0,0,0,0,0,0,0]},\"fMinimum\":-1111,\"fMaximum\":-1111,\"_yAxisLabel\":\"Projection of model\",\"_ymin\":0,\"_ymax\":29.321561641201,\"_normValue\":0},{\"$ref\":3},{\"_typename\":\"TPaveText\",\"fUniqueID\":0,\"fBits\":50331657,\"fLineColor\":1,\"fLineStyle\":1,\"fLineWidth\":1,\"fFillColor\":0,\"fFillStyle\":0,\"fX1\":-0.836661086292726,\"fY1\":43.5772876091922,\"fX2\":0.836661086292726,\"fY2\":46.7555782806243,\"fX1NDC\":0.165335570469799,\"fY1NDC\":0.934160843929211,\"fX2NDC\":0.834664429530201,\"fY2NDC\":0.995000004768372,\"fBorderSize\":0,\"fInit\":1,\"fShadowColor\":1,\"fCornerRadius\":0,\"fOption\":\"blNDC\",\"fName\":\"title\",\"fTextAngle\":0,\"fTextSize\":0,\"fTextAlign\":22,\"fTextColor\":1,\"fTextFont\":42,\"fLabel\":\"\",\"fLongest\":27,\"fMargin\":0.05,\"fLines\":{\"_typename\":\"TList\",\"name\":\"TList\",\"arr\":[{\"_typename\":\"TLatex\",\"fUniqueID\":0,\"fBits\":50331648,\"fName\":\"\",\"fTitle\":\"Projection of 3D model on X\",\"fTextAngle\":0,\"fTextSize\":0,\"fTextAlign\":0,\"fTextColor\":0,\"fTextFont\":0,\"fX\":0,\"fY\":0,\"fLineColor\":1,\"fLineStyle\":1,\"fLineWidth\":2,\"fLimitFactorSize\":3,\"fOriginSize\":0.0517132878303528}],\"opt\":[\"\"]}}],\"opt\":[\"\",\"FUNC\",\"p\",\"l\",\"AXISSAME\",\"blNDC\"]},\"fExecs\":null,\"fName\":\"rf903_numintcache\",\"fTitle\":\"rf903_numintcache\",\"fNumPaletteColor\":0,\"fNextPaletteColor\":0,\"fDISPLAY\":\"$DISPLAY\",\"fDoubleBuffer\":0,\"fRetained\":true,\"fXsizeUser\":0,\"fYsizeUser\":0,\"fXsizeReal\":20,\"fYsizeReal\":20,\"fWindowTopX\":0,\"fWindowTopY\":0,\"fWindowWidth\":0,\"fWindowHeight\":0,\"fCw\":596,\"fCh\":572,\"fCatt\":{\"_typename\":\"TAttCanvas\",\"fXBetween\":2,\"fYBetween\":2,\"fTitleFromTop\":1.2,\"fXdate\":0.2,\"fYdate\":0.3,\"fAdate\":1},\"kMoveOpaque\":true,\"kResizeOpaque\":true,\"fHighLightColor\":2,\"fBatch\":true,\"kShowEventStatus\":false,\"kAutoExec\":true,\"kMenuBar\":true});\n",
       "       Core.draw(\"root_plot_1\", obj, \"\");\n",
       "     }\n",
       " );\n",
       "</script>\n"
      ],
      "text/plain": [
       "<IPython.core.display.HTML object>"
      ]
     },
     "metadata": {},
     "output_type": "display_data"
    }
   ],
   "source": [
    "%jsroot on\n",
    "gROOT->GetListOfCanvases()->Draw()"
   ]
  }
 ],
 "metadata": {
  "kernelspec": {
   "display_name": "ROOT C++",
   "language": "c++",
   "name": "root"
  },
  "language_info": {
   "codemirror_mode": "text/x-c++src",
   "file_extension": ".C",
   "mimetype": " text/x-c++src",
   "name": "c++"
  }
 },
 "nbformat": 4,
 "nbformat_minor": 2
}
