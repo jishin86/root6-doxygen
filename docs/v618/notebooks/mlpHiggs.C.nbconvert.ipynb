{
 "cells": [
  {
   "cell_type": "markdown",
   "metadata": {},
   "source": [
    "# Mlp Higgs\n",
    "Example of a Multi Layer Perceptron\n",
    "For a LEP search for invisible Higgs boson, a neural network\n",
    "was used to separate the signal from the background passing\n",
    "some selection cuts. Here is a simplified version of this network,\n",
    "taking into account only WW events.\n",
    "\n",
    "\n",
    "\n",
    "\n",
    "**Author:** Christophe Delaere  \n",
    "<i><small>This notebook tutorial was automatically generated with <a href= \"https://github.com/root-project/root/blob/master/documentation/doxygen/converttonotebook.py\">ROOTBOOK-izer</a> from the macro found in the ROOT repository  on Thursday, August 29, 2019 at 02:14 AM.</small></i>"
   ]
  },
  {
   "cell_type": "markdown",
   "metadata": {},
   "source": [
    " Arguments are defined. "
   ]
  },
  {
   "cell_type": "code",
   "execution_count": 1,
   "metadata": {
    "collapsed": false
   },
   "outputs": [],
   "source": [
    "Int_t ntrain=100;"
   ]
  },
  {
   "cell_type": "code",
   "execution_count": 2,
   "metadata": {
    "collapsed": false
   },
   "outputs": [],
   "source": [
    "const char *fname = \"mlpHiggs.root\";\n",
    "TFile *input = 0;\n",
    "if (!gSystem->AccessPathName(fname)) {\n",
    "   input = TFile::Open(fname);\n",
    "} else if (!gSystem->AccessPathName(Form(\"%s/mlp/%s\", TROOT::GetTutorialDir().Data(), fname))) {\n",
    "   input = TFile::Open(Form(\"%s/mlp/%s\", TROOT::GetTutorialDir().Data(), fname));\n",
    "} else {\n",
    "   printf(\"accessing %s file from http://root.cern.ch/files\\n\",fname);\n",
    "   input = TFile::Open(Form(\"http://root.cern.ch/files/%s\",fname));\n",
    "}\n",
    "if (!input) return;\n",
    "\n",
    "TTree *sig_filtered = (TTree *) input->Get(\"sig_filtered\");\n",
    "TTree *bg_filtered = (TTree *) input->Get(\"bg_filtered\");\n",
    "TTree *simu = new TTree(\"MonteCarlo\", \"Filtered Monte Carlo Events\");\n",
    "Float_t ptsumf, qelep, nch, msumf, minvis, acopl, acolin;\n",
    "Int_t type;\n",
    "sig_filtered->SetBranchAddress(\"ptsumf\", &ptsumf);\n",
    "sig_filtered->SetBranchAddress(\"qelep\",  &qelep);\n",
    "sig_filtered->SetBranchAddress(\"nch\",    &nch);\n",
    "sig_filtered->SetBranchAddress(\"msumf\",  &msumf);\n",
    "sig_filtered->SetBranchAddress(\"minvis\", &minvis);\n",
    "sig_filtered->SetBranchAddress(\"acopl\",  &acopl);\n",
    "sig_filtered->SetBranchAddress(\"acolin\", &acolin);\n",
    "bg_filtered->SetBranchAddress(\"ptsumf\", &ptsumf);\n",
    "bg_filtered->SetBranchAddress(\"qelep\",  &qelep);\n",
    "bg_filtered->SetBranchAddress(\"nch\",    &nch);\n",
    "bg_filtered->SetBranchAddress(\"msumf\",  &msumf);\n",
    "bg_filtered->SetBranchAddress(\"minvis\", &minvis);\n",
    "bg_filtered->SetBranchAddress(\"acopl\",  &acopl);\n",
    "bg_filtered->SetBranchAddress(\"acolin\", &acolin);\n",
    "simu->Branch(\"ptsumf\", &ptsumf, \"ptsumf/F\");\n",
    "simu->Branch(\"qelep\",  &qelep,  \"qelep/F\");\n",
    "simu->Branch(\"nch\",    &nch,    \"nch/F\");\n",
    "simu->Branch(\"msumf\",  &msumf,  \"msumf/F\");\n",
    "simu->Branch(\"minvis\", &minvis, \"minvis/F\");\n",
    "simu->Branch(\"acopl\",  &acopl,  \"acopl/F\");\n",
    "simu->Branch(\"acolin\", &acolin, \"acolin/F\");\n",
    "simu->Branch(\"type\",   &type,   \"type/I\");\n",
    "type = 1;\n",
    "Int_t i;\n",
    "for (i = 0; i < sig_filtered->GetEntries(); i++) {\n",
    "   sig_filtered->GetEntry(i);\n",
    "   simu->Fill();\n",
    "}\n",
    "type = 0;\n",
    "for (i = 0; i < bg_filtered->GetEntries(); i++) {\n",
    "   bg_filtered->GetEntry(i);\n",
    "   simu->Fill();\n",
    "}"
   ]
  },
  {
   "cell_type": "markdown",
   "metadata": {},
   "source": [
    "Build and train the nn ptsumf is used as a weight since we are primarily\n",
    " interested  by high pt events.\n",
    " The datasets used here are the same as the default ones."
   ]
  },
  {
   "cell_type": "code",
   "execution_count": 3,
   "metadata": {
    "collapsed": false
   },
   "outputs": [
    {
     "name": "stdout",
     "output_type": "stream",
     "text": [
      "Training the Neural Network\n",
      "Epoch: 0 learn=0.126634 test=0.125692\n"
     ]
    },
    {
     "name": "stderr",
     "output_type": "stream",
     "text": [
      "Info in <TMultiLayerPerceptron::Train>: Using 979 train and 979 test entries.\n"
     ]
    },
    {
     "name": "stdout",
     "output_type": "stream",
     "text": [
      "Epoch: 10 learn=0.0969641 test=0.0915638\n",
      "Epoch: 20 learn=0.0930031 test=0.0888199\n",
      "Epoch: 30 learn=0.0917136 test=0.088847\n",
      "Epoch: 40 learn=0.0911658 test=0.0883143\n",
      "Epoch: 50 learn=0.0907057 test=0.0875496\n",
      "Epoch: 60 learn=0.0903087 test=0.0876758\n",
      "Epoch: 70 learn=0.0900667 test=0.0869323\n",
      "Epoch: 80 learn=0.0898808 test=0.0865657\n",
      "Epoch: 90 learn=0.0894948 test=0.0864274\n",
      "Epoch: 99 learn=0.0893715 test=0.0860583\n",
      "Training done.\n",
      "test.py created.\n"
     ]
    }
   ],
   "source": [
    "TMultiLayerPerceptron *mlp =\n",
    "   new TMultiLayerPerceptron(\"@msumf,@ptsumf,@acolin:5:3:type\",\n",
    "                             \"ptsumf\",simu,\"Entry$%2\",\"(Entry$+1)%2\");\n",
    "mlp->Train(ntrain, \"text,graph,update=10\");\n",
    "mlp->Export(\"test\",\"python\");"
   ]
  },
  {
   "cell_type": "markdown",
   "metadata": {},
   "source": [
    "Use tmlpanalyzer to see what it looks for"
   ]
  },
  {
   "cell_type": "code",
   "execution_count": 4,
   "metadata": {
    "collapsed": false
   },
   "outputs": [],
   "source": [
    "TCanvas* mlpa_canvas = new TCanvas(\"mlpa_canvas\",\"Network analysis\");\n",
    "mlpa_canvas->Divide(2,2);\n",
    "TMLPAnalyzer ana(mlp);"
   ]
  },
  {
   "cell_type": "markdown",
   "metadata": {},
   "source": [
    "Initialisation"
   ]
  },
  {
   "cell_type": "code",
   "execution_count": 5,
   "metadata": {
    "collapsed": false
   },
   "outputs": [],
   "source": [
    "ana.GatherInformations();"
   ]
  },
  {
   "cell_type": "markdown",
   "metadata": {},
   "source": [
    "Output to the console"
   ]
  },
  {
   "cell_type": "code",
   "execution_count": 6,
   "metadata": {
    "collapsed": false
   },
   "outputs": [
    {
     "name": "stdout",
     "output_type": "stream",
     "text": [
      "Network with structure: @msumf,@ptsumf,@acolin:5:3:type\n",
      "inputs with low values in the differences plot may not be needed\n",
      "@msumf -> 0.018108 +/- 0.0120525\n",
      "@ptsumf -> 0.0298452 +/- 0.0375788\n",
      "@acolin -> 0.0275104 +/- 0.0305884\n"
     ]
    }
   ],
   "source": [
    "ana.CheckNetwork();\n",
    "mlpa_canvas->cd(1);"
   ]
  },
  {
   "cell_type": "markdown",
   "metadata": {},
   "source": [
    "Shows how each variable influences the network"
   ]
  },
  {
   "cell_type": "code",
   "execution_count": 7,
   "metadata": {
    "collapsed": false
   },
   "outputs": [],
   "source": [
    "ana.DrawDInputs();\n",
    "mlpa_canvas->cd(2);"
   ]
  },
  {
   "cell_type": "markdown",
   "metadata": {},
   "source": [
    "Shows the network structure"
   ]
  },
  {
   "cell_type": "code",
   "execution_count": 8,
   "metadata": {
    "collapsed": false
   },
   "outputs": [],
   "source": [
    "mlp->Draw();\n",
    "mlpa_canvas->cd(3);"
   ]
  },
  {
   "cell_type": "markdown",
   "metadata": {},
   "source": [
    "Draws the resulting network"
   ]
  },
  {
   "cell_type": "code",
   "execution_count": 9,
   "metadata": {
    "collapsed": false
   },
   "outputs": [],
   "source": [
    "ana.DrawNetwork(0,\"type==1\",\"type==0\");\n",
    "mlpa_canvas->cd(4);"
   ]
  },
  {
   "cell_type": "markdown",
   "metadata": {},
   "source": [
    "Use the nn to plot the results for each sample\n",
    " This will give approx. the same result as DrawNetwork.\n",
    " All entries are used, while DrawNetwork focuses on\n",
    " the test sample. Also the xaxis range is manually set."
   ]
  },
  {
   "cell_type": "code",
   "execution_count": 10,
   "metadata": {
    "collapsed": false
   },
   "outputs": [],
   "source": [
    "TH1F *bg = new TH1F(\"bgh\", \"NN output\", 50, -.5, 1.5);\n",
    "TH1F *sig = new TH1F(\"sigh\", \"NN output\", 50, -.5, 1.5);\n",
    "bg->SetDirectory(0);\n",
    "sig->SetDirectory(0);\n",
    "Double_t params[3];\n",
    "for (i = 0; i < bg_filtered->GetEntries(); i++) {\n",
    "   bg_filtered->GetEntry(i);\n",
    "   params[0] = msumf;\n",
    "   params[1] = ptsumf;\n",
    "   params[2] = acolin;\n",
    "   bg->Fill(mlp->Evaluate(0, params));\n",
    "}\n",
    "for (i = 0; i < sig_filtered->GetEntries(); i++) {\n",
    "   sig_filtered->GetEntry(i);\n",
    "   params[0] = msumf;\n",
    "   params[1] = ptsumf;\n",
    "   params[2] = acolin;\n",
    "   sig->Fill(mlp->Evaluate(0,params));\n",
    "}\n",
    "bg->SetLineColor(kBlue);\n",
    "bg->SetFillStyle(3008);   bg->SetFillColor(kBlue);\n",
    "sig->SetLineColor(kRed);\n",
    "sig->SetFillStyle(3003); sig->SetFillColor(kRed);\n",
    "bg->SetStats(0);\n",
    "sig->SetStats(0);\n",
    "bg->Draw();\n",
    "sig->Draw(\"same\");\n",
    "TLegend *legend = new TLegend(.75, .80, .95, .95);\n",
    "legend->AddEntry(bg, \"Background (WW)\");\n",
    "legend->AddEntry(sig, \"Signal (Higgs)\");\n",
    "legend->Draw();\n",
    "mlpa_canvas->cd(0);\n",
    "delete input;"
   ]
  },
  {
   "cell_type": "markdown",
   "metadata": {},
   "source": [
    "Draw all canvases "
   ]
  },
  {
   "cell_type": "code",
   "execution_count": 11,
   "metadata": {
    "collapsed": false
   },
   "outputs": [
    {
     "data": {
      "image/png": "[encoded data removed]",
      "text/plain": [
       "<IPython.core.display.Image object>"
      ]
     },
     "metadata": {},
     "output_type": "display_data"
    },
    {
     "data": {
      "image/png": "[encoded data removed]",
      "text/plain": [
       "<IPython.core.display.Image object>"
      ]
     },
     "metadata": {},
     "output_type": "display_data"
    }
   ],
   "source": [
    "gROOT->GetListOfCanvases()->Draw()"
   ]
  }
 ],
 "metadata": {
  "kernelspec": {
   "display_name": "ROOT C++",
   "language": "c++",
   "name": "root"
  },
  "language_info": {
   "codemirror_mode": "text/x-c++src",
   "file_extension": ".C",
   "mimetype": " text/x-c++src",
   "name": "c++"
  }
 },
 "nbformat": 4,
 "nbformat_minor": 2
}
