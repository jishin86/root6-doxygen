{
 "cells": [
  {
   "cell_type": "markdown",
   "metadata": {},
   "source": [
    "# Rf 4 0 7_Latextables\n",
    "\n",
    "Data and categories: latex printing of lists and sets of RooArgSets\n",
    "\n",
    "\n",
    "\n",
    "\n",
    "**Author:** Clemens Lange, Wouter Verkerke (C++ version)  \n",
    "<i><small>This notebook tutorial was automatically generated with <a href= \"https://github.com/root-project/root/blob/master/documentation/doxygen/converttonotebook.py\">ROOTBOOK-izer</a> from the macro found in the ROOT repository  on Thursday, August 29, 2019 at 02:54 AM.</small></i>"
   ]
  },
  {
   "cell_type": "code",
   "execution_count": 1,
   "metadata": {
    "collapsed": false
   },
   "outputs": [
    {
     "name": "stdout",
     "output_type": "stream",
     "text": [
      "Welcome to JupyROOT 6.18/03\n"
     ]
    }
   ],
   "source": [
    "import ROOT"
   ]
  },
  {
   "cell_type": "markdown",
   "metadata": {},
   "source": [
    "Setup composite pdf\n",
    "--------------------------------------"
   ]
  },
  {
   "cell_type": "markdown",
   "metadata": {},
   "source": [
    "Declare observable x"
   ]
  },
  {
   "cell_type": "code",
   "execution_count": 2,
   "metadata": {
    "collapsed": false
   },
   "outputs": [
    {
     "name": "stdout",
     "output_type": "stream",
     "text": [
      "\n",
      "\u001b[1mRooFit v3.60 -- Developed by Wouter Verkerke and David Kirkby\u001b[0m \n",
      "                Copyright (C) 2000-2013 NIKHEF, University of California & Stanford University\n",
      "                All rights reserved, please read http://roofit.sourceforge.net/license.txt\n",
      "\n"
     ]
    }
   ],
   "source": [
    "x = ROOT.RooRealVar(\"x\", \"x\", 0, 10)"
   ]
  },
  {
   "cell_type": "markdown",
   "metadata": {},
   "source": [
    "Create two Gaussian PDFs g1(x,mean1,sigma) anf g2(x,mean2,sigma) and\n",
    "their parameters"
   ]
  },
  {
   "cell_type": "code",
   "execution_count": 3,
   "metadata": {
    "collapsed": false
   },
   "outputs": [],
   "source": [
    "mean = ROOT.RooRealVar(\"mean\", \"mean of gaussians\", 5)\n",
    "sigma1 = ROOT.RooRealVar(\"sigma1\", \"width of gaussians\", 0.5)\n",
    "sigma2 = ROOT.RooRealVar(\"sigma2\", \"width of gaussians\", 1)\n",
    "sig1 = ROOT.RooGaussian(\"sig1\", \"Signal component 1\", x, mean, sigma1)\n",
    "sig2 = ROOT.RooGaussian(\"sig2\", \"Signal component 2\", x, mean, sigma2)"
   ]
  },
  {
   "cell_type": "markdown",
   "metadata": {},
   "source": [
    "Sum the signal components into a composite signal p.d.f."
   ]
  },
  {
   "cell_type": "code",
   "execution_count": 4,
   "metadata": {
    "collapsed": false
   },
   "outputs": [],
   "source": [
    "sig1frac = ROOT.RooRealVar(\n",
    "    \"sig1frac\", \"fraction of component 1 in signal\", 0.8, 0., 1.)\n",
    "sig = ROOT.RooAddPdf(\n",
    "    \"sig\", \"Signal\", ROOT.RooArgList(sig1, sig2), ROOT.RooArgList(sig1frac))"
   ]
  },
  {
   "cell_type": "markdown",
   "metadata": {},
   "source": [
    "Build Chebychev polynomial p.d.f."
   ]
  },
  {
   "cell_type": "code",
   "execution_count": 5,
   "metadata": {
    "collapsed": false
   },
   "outputs": [],
   "source": [
    "a0 = ROOT.RooRealVar(\"a0\", \"a0\", 0.5, 0., 1.)\n",
    "a1 = ROOT.RooRealVar(\"a1\", \"a1\", -0.2, 0., 1.)\n",
    "bkg1 = ROOT.RooChebychev(\"bkg1\", \"Background 1\",\n",
    "                         x, ROOT.RooArgList(a0, a1))"
   ]
  },
  {
   "cell_type": "markdown",
   "metadata": {},
   "source": [
    "Build expontential pdf"
   ]
  },
  {
   "cell_type": "code",
   "execution_count": 6,
   "metadata": {
    "collapsed": false
   },
   "outputs": [],
   "source": [
    "alpha = ROOT.RooRealVar(\"alpha\", \"alpha\", -1)\n",
    "bkg2 = ROOT.RooExponential(\"bkg2\", \"Background 2\", x, alpha)"
   ]
  },
  {
   "cell_type": "markdown",
   "metadata": {},
   "source": [
    "Sum the background components into a composite background p.d.f."
   ]
  },
  {
   "cell_type": "code",
   "execution_count": 7,
   "metadata": {
    "collapsed": false
   },
   "outputs": [],
   "source": [
    "bkg1frac = ROOT.RooRealVar(\n",
    "    \"sig1frac\", \"fraction of component 1 in background\", 0.2, 0., 1.)\n",
    "bkg = ROOT.RooAddPdf(\n",
    "    \"bkg\", \"Signal\", ROOT.RooArgList(bkg1, bkg2), ROOT.RooArgList(sig1frac))"
   ]
  },
  {
   "cell_type": "markdown",
   "metadata": {},
   "source": [
    "Sum the composite signal and background"
   ]
  },
  {
   "cell_type": "code",
   "execution_count": 8,
   "metadata": {
    "collapsed": false
   },
   "outputs": [],
   "source": [
    "bkgfrac = ROOT.RooRealVar(\"bkgfrac\", \"fraction of background\", 0.5, 0., 1.)\n",
    "model = ROOT.RooAddPdf(\n",
    "    \"model\", \"g1+g2+a\", ROOT.RooArgList(bkg, sig), ROOT.RooArgList(bkgfrac))"
   ]
  },
  {
   "cell_type": "markdown",
   "metadata": {},
   "source": [
    "Make list of parameters before and after fit\n",
    "----------------------------------------------------------------------------------------"
   ]
  },
  {
   "cell_type": "markdown",
   "metadata": {},
   "source": [
    "Make list of model parameters"
   ]
  },
  {
   "cell_type": "code",
   "execution_count": 9,
   "metadata": {
    "collapsed": false
   },
   "outputs": [],
   "source": [
    "params = model.getParameters(ROOT.RooArgSet(x))"
   ]
  },
  {
   "cell_type": "markdown",
   "metadata": {},
   "source": [
    "Save snapshot of prefit parameters"
   ]
  },
  {
   "cell_type": "code",
   "execution_count": 10,
   "metadata": {
    "collapsed": false
   },
   "outputs": [],
   "source": [
    "initParams = params.snapshot()"
   ]
  },
  {
   "cell_type": "markdown",
   "metadata": {},
   "source": [
    "Do fit to data, obtain error estimates on parameters"
   ]
  },
  {
   "cell_type": "code",
   "execution_count": 11,
   "metadata": {
    "collapsed": false
   },
   "outputs": [
    {
     "data": {
      "text/plain": [
       "<ROOT.RooFitResult object at 0x(nil)>"
      ]
     },
     "execution_count": 11,
     "metadata": {},
     "output_type": "execute_result"
    },
    {
     "name": "stdout",
     "output_type": "stream",
     "text": [
      "[#1] INFO:Minization -- RooMinimizer::optimizeConst: activating const optimization\n",
      "[#1] INFO:Minization --  The following expressions have been identified as constant and will be precalculated and cached: (bkg2,sig1,sig2)\n",
      "[#1] INFO:Minization --  The following expressions will be evaluated in cache-and-track mode: (bkg1)\n",
      " **********\n",
      " **    1 **SET PRINT           1\n",
      " **********\n",
      " **********\n",
      " **    2 **SET NOGRAD\n",
      " **********\n",
      " PARAMETER DEFINITIONS:\n",
      "    NO.   NAME         VALUE      STEP SIZE      LIMITS\n",
      "     1 a0           5.00000e-01  1.00000e-01    0.00000e+00  1.00000e+00\n",
      "     2 a1           0.00000e+00  1.00000e-01    0.00000e+00  1.00000e+00\n",
      " MINUIT WARNING IN PARAM DEF\n",
      " ============== STARTING VALUE IS AT LIMIT.\n",
      " MINUIT WARNING IN PARAMETR\n",
      " ============== VARIABLE2 IS AT ITS LOWER ALLOWED LIMIT.\n",
      " MINUIT WARNING IN PARAMETR\n",
      " ============== VARIABLE2 BROUGHT BACK INSIDE LIMITS.\n",
      "     3 bkgfrac      5.00000e-01  1.00000e-01    0.00000e+00  1.00000e+00\n",
      "     4 sig1frac     8.00000e-01  1.00000e-01    0.00000e+00  1.00000e+00\n",
      " **********\n",
      " **    3 **SET ERR         0.5\n",
      " **********\n",
      " **********\n",
      " **    4 **SET PRINT           1\n",
      " **********\n",
      " **********\n",
      " **    5 **SET STR           1\n",
      " **********\n",
      " NOW USING STRATEGY  1: TRY TO BALANCE SPEED AGAINST RELIABILITY\n",
      " **********\n",
      " **    6 **MIGRAD        2000           1\n",
      " **********\n",
      " FIRST CALL TO USER FUNCTION AT NEW START POINT, WITH IFLAG=4.\n",
      " MINUIT WARNING IN MIGrad    \n",
      " ============== VARIABLE2 IS AT ITS LOWER ALLOWED LIMIT.\n",
      " START MIGRAD MINIMIZATION.  STRATEGY  1.  CONVERGENCE WHEN EDM .LT. 1.00e-03\n",
      " FCN=1951.38 FROM MIGRAD    STATUS=INITIATE       36 CALLS          37 TOTAL\n",
      "                     EDM= unknown      STRATEGY= 1      NO ERROR MATRIX       \n",
      "  EXT PARAMETER               CURRENT GUESS       STEP         FIRST   \n",
      "  NO.   NAME      VALUE            ERROR          SIZE      DERIVATIVE \n",
      "   1  a0           5.00000e-01   1.00000e-01   0.00000e+00   7.50773e-01\n",
      "   2  a1           1.51202e-01   1.00000e-01   7.96807e-01  -2.24543e-02\n",
      "   3  bkgfrac      5.00000e-01   1.00000e-01   0.00000e+00   3.17611e+01\n",
      "   4  sig1frac     8.00000e-01   1.00000e-01   0.00000e+00  -1.99597e+00\n",
      "                               ERR DEF= 0.5\n",
      " MIGRAD MINIMIZATION HAS CONVERGED.\n",
      " MIGRAD WILL VERIFY CONVERGENCE AND ERROR MATRIX.\n",
      " COVARIANCE MATRIX CALCULATED SUCCESSFULLY\n",
      " FCN=1950.14 FROM MIGRAD    STATUS=CONVERGED     128 CALLS         129 TOTAL\n",
      "                     EDM=7.1077e-08    STRATEGY= 1      ERROR MATRIX ACCURATE \n",
      "  EXT PARAMETER                                   STEP         FIRST   \n",
      "  NO.   NAME      VALUE            ERROR          SIZE      DERIVATIVE \n",
      "   1  a0           4.75556e-01   1.89453e-01   6.32546e-03  -6.37818e-04\n",
      "   2  a1           2.74695e-01   1.35637e-01   7.26942e-03  -1.06943e-04\n",
      "   3  bkgfrac      4.61270e-01   2.63715e-02   1.17680e-03   7.97710e-04\n",
      "   4  sig1frac     7.92476e-01   5.50659e-02   2.13939e-03   7.46653e-05\n",
      "                               ERR DEF= 0.5\n",
      " EXTERNAL ERROR MATRIX.    NDIM=  25    NPAR=  4    ERR DEF=0.5\n",
      "  3.776e-02 -8.088e-03 -1.409e-03 -8.885e-03 \n",
      " -8.088e-03  1.899e-02 -1.627e-03  1.195e-03 \n",
      " -1.409e-03 -1.627e-03  6.961e-04  6.425e-04 \n",
      " -8.885e-03  1.195e-03  6.425e-04  3.051e-03 \n",
      " PARAMETER  CORRELATION COEFFICIENTS  \n",
      "       NO.  GLOBAL      1      2      3      4\n",
      "        1  0.84589   1.000 -0.302 -0.275 -0.828\n",
      "        2  0.63162  -0.302  1.000 -0.448  0.157\n",
      "        3  0.68422  -0.275 -0.448  1.000  0.441\n",
      "        4  0.85784  -0.828  0.157  0.441  1.000\n",
      " **********\n",
      " **    7 **SET ERR         0.5\n",
      " **********\n",
      " **********\n",
      " **    8 **SET PRINT           1\n",
      " **********\n",
      " **********\n",
      " **    9 **HESSE        2000\n",
      " **********\n",
      " COVARIANCE MATRIX CALCULATED SUCCESSFULLY\n",
      " FCN=1950.14 FROM HESSE     STATUS=OK             23 CALLS         152 TOTAL\n",
      "                     EDM=7.04448e-08    STRATEGY= 1      ERROR MATRIX ACCURATE \n",
      "  EXT PARAMETER                                INTERNAL      INTERNAL  \n",
      "  NO.   NAME      VALUE            ERROR       STEP SIZE       VALUE   \n",
      "   1  a0           4.75556e-01   1.88347e-01   1.26509e-03  -4.89085e-02\n",
      "   2  a1           2.74695e-01   1.35262e-01   2.90777e-04  -4.67449e-01\n",
      "   3  bkgfrac      4.61270e-01   2.63173e-02   4.70719e-05  -7.75387e-02\n",
      "   4  sig1frac     7.92476e-01   5.47555e-02   8.55758e-05   6.24820e-01\n",
      "                               ERR DEF= 0.5\n",
      " EXTERNAL ERROR MATRIX.    NDIM=  25    NPAR=  4    ERR DEF=0.5\n",
      "  3.730e-02 -7.950e-03 -1.395e-03 -8.757e-03 \n",
      " -7.950e-03  1.889e-02 -1.616e-03  1.165e-03 \n",
      " -1.395e-03 -1.616e-03  6.932e-04  6.378e-04 \n",
      " -8.757e-03  1.165e-03  6.378e-04  3.017e-03 \n",
      " PARAMETER  CORRELATION COEFFICIENTS  \n",
      "       NO.  GLOBAL      1      2      3      4\n",
      "        1  0.84381   1.000 -0.300 -0.274 -0.826\n",
      "        2  0.62889  -0.300  1.000 -0.447  0.154\n",
      "        3  0.68261  -0.274 -0.447  1.000  0.441\n",
      "        4  0.85607  -0.826  0.154  0.441  1.000\n",
      "[#1] INFO:Minization -- RooMinimizer::optimizeConst: deactivating const optimization\n"
     ]
    }
   ],
   "source": [
    "data = model.generate(ROOT.RooArgSet(x), 1000)\n",
    "model.fitTo(data)"
   ]
  },
  {
   "cell_type": "markdown",
   "metadata": {},
   "source": [
    "Print LateX table of parameters of pdf\n",
    "--------------------------------------------------------------------------"
   ]
  },
  {
   "cell_type": "markdown",
   "metadata": {},
   "source": [
    "Print parameter list in LaTeX for (one column with names, column with\n",
    "values)"
   ]
  },
  {
   "cell_type": "code",
   "execution_count": 12,
   "metadata": {
    "collapsed": false
   },
   "outputs": [
    {
     "name": "stdout",
     "output_type": "stream",
     "text": [
      "\\begin{tabular}{lc}\n",
      "$\\verb+a0+ $ & $  0.5\\pm 0.2$\\\\\n",
      "$\\verb+a1+ $ & $  0.3\\pm 0.1$\\\\\n",
      "$\\verb+alpha+ $ & $ -1.00$\\\\\n",
      "$\\verb+bkgfrac+ $ & $  0.46\\pm 0.03$\\\\\n",
      "$\\verb+mean+ $ & $  5$\\\\\n",
      "$\\verb+sig1frac+ $ & $  0.79\\pm 0.05$\\\\\n",
      "$\\verb+sigma1+ $ & $  0.5$\\\\\n",
      "$\\verb+sigma2+ $ & $  1$\\\\\n",
      "\\end{tabular}\n"
     ]
    }
   ],
   "source": [
    "params.printLatex()"
   ]
  },
  {
   "cell_type": "markdown",
   "metadata": {},
   "source": [
    "Print parameter list in LaTeX for (names values|names values)"
   ]
  },
  {
   "cell_type": "code",
   "execution_count": 13,
   "metadata": {
    "collapsed": false
   },
   "outputs": [
    {
     "name": "stdout",
     "output_type": "stream",
     "text": [
      "\\begin{tabular}{lc|lc}\n",
      "$\\verb+a0+ $ & $  0.5\\pm 0.2$ & $\\verb+mean+ $ & $  5$\\\\\n",
      "$\\verb+a1+ $ & $  0.3\\pm 0.1$ & $\\verb+sig1frac+ $ & $  0.79\\pm 0.05$\\\\\n",
      "$\\verb+alpha+ $ & $ -1.00$ & $\\verb+sigma1+ $ & $  0.5$\\\\\n",
      "$\\verb+bkgfrac+ $ & $  0.46\\pm 0.03$ & $\\verb+sigma2+ $ & $  1$\\\\\n",
      "\\end{tabular}\n"
     ]
    }
   ],
   "source": [
    "params.printLatex(ROOT.RooFit.Columns(2))"
   ]
  },
  {
   "cell_type": "markdown",
   "metadata": {},
   "source": [
    "Print two parameter lists side by side (name values initvalues)"
   ]
  },
  {
   "cell_type": "code",
   "execution_count": 14,
   "metadata": {
    "collapsed": false
   },
   "outputs": [
    {
     "name": "stdout",
     "output_type": "stream",
     "text": [
      "\\begin{tabular}{lcc}\n",
      "$\\verb+a0+ $ & $  0.5\\pm 0.2$ & $ 0.5$\\\\\n",
      "$\\verb+a1+ $ & $  0.3\\pm 0.1$ & $ 0$\\\\\n",
      "$\\verb+alpha+ $ & $ -1.00$ & $-1.00$\\\\\n",
      "$\\verb+bkgfrac+ $ & $  0.46\\pm 0.03$ & $ 0.5$\\\\\n",
      "$\\verb+mean+ $ & $  5$ & $ 5$\\\\\n",
      "$\\verb+sig1frac+ $ & $  0.79\\pm 0.05$ & $ 0.8$\\\\\n",
      "$\\verb+sigma1+ $ & $  0.5$ & $ 0.5$\\\\\n",
      "$\\verb+sigma2+ $ & $  1$ & $ 1$\\\\\n",
      "\\end{tabular}\n"
     ]
    }
   ],
   "source": [
    "params.printLatex(ROOT.RooFit.Sibling(initParams))"
   ]
  },
  {
   "cell_type": "markdown",
   "metadata": {},
   "source": [
    "Print two parameter lists side by side (name values initvalues|name\n",
    "values initvalues)"
   ]
  },
  {
   "cell_type": "code",
   "execution_count": 15,
   "metadata": {
    "collapsed": false
   },
   "outputs": [
    {
     "name": "stdout",
     "output_type": "stream",
     "text": [
      "\\begin{tabular}{lcc|lcc}\n",
      "$\\verb+a0+ $ & $  0.5\\pm 0.2$ & $ 0.5$ & $\\verb+mean+ $ & $  5$ & $ 5$\\\\\n",
      "$\\verb+a1+ $ & $  0.3\\pm 0.1$ & $ 0$ & $\\verb+sig1frac+ $ & $  0.79\\pm 0.05$ & $ 0.8$\\\\\n",
      "$\\verb+alpha+ $ & $ -1.00$ & $-1.00$ & $\\verb+sigma1+ $ & $  0.5$ & $ 0.5$\\\\\n",
      "$\\verb+bkgfrac+ $ & $  0.46\\pm 0.03$ & $ 0.5$ & $\\verb+sigma2+ $ & $  1$ & $ 1$\\\\\n",
      "\\end{tabular}\n"
     ]
    }
   ],
   "source": [
    "params.printLatex(ROOT.RooFit.Sibling(initParams), ROOT.RooFit.Columns(2))"
   ]
  },
  {
   "cell_type": "markdown",
   "metadata": {},
   "source": [
    "Write LaTex table to file"
   ]
  },
  {
   "cell_type": "code",
   "execution_count": 16,
   "metadata": {
    "collapsed": false
   },
   "outputs": [],
   "source": [
    "params.printLatex(ROOT.RooFit.Sibling(initParams),\n",
    "                  ROOT.RooFit.OutputFile(\"rf407_latextables.tex\"))"
   ]
  }
 ],
 "metadata": {
  "kernelspec": {
   "display_name": "Python 2",
   "language": "python",
   "name": "python2"
  },
  "language_info": {
   "codemirror_mode": {
    "name": "ipython",
    "version": 2
   },
   "file_extension": ".py",
   "mimetype": "text/x-python",
   "name": "python",
   "nbconvert_exporter": "python",
   "pygments_lexer": "ipython2",
   "version": "2.7.10"
  }
 },
 "nbformat": 4,
 "nbformat_minor": 2
}
