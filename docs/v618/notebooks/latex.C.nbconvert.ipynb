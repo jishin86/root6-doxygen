{
 "cells": [
  {
   "cell_type": "markdown",
   "metadata": {},
   "source": [
    "# Latex\n",
    "This macro draws 5 Latex-style formula in a canvas and prints the canvas as a Postscript file.\n",
    "\n",
    "\n",
    "\n",
    "\n",
    "**Author:** Rene Brun  \n",
    "<i><small>This notebook tutorial was automatically generated with <a href= \"https://github.com/root-project/root/blob/master/documentation/doxygen/converttonotebook.py\">ROOTBOOK-izer</a> from the macro found in the ROOT repository  on Thursday, August 29, 2019 at 01:41 AM.</small></i>"
   ]
  },
  {
   "cell_type": "code",
   "execution_count": 1,
   "metadata": {
    "collapsed": false
   },
   "outputs": [],
   "source": [
    "TCanvas *c1 = new TCanvas(\"c1\",\"test\",600,700);"
   ]
  },
  {
   "cell_type": "markdown",
   "metadata": {},
   "source": [
    "Write formulas"
   ]
  },
  {
   "cell_type": "code",
   "execution_count": 2,
   "metadata": {
    "collapsed": false
   },
   "outputs": [
    {
     "name": "stderr",
     "output_type": "stream",
     "text": [
      "Info in <TCanvas::Print>: ps file latex.ps has been created\n"
     ]
    }
   ],
   "source": [
    "TLatex l;\n",
    "l.SetTextAlign(12);\n",
    "l.SetTextSize(0.04);\n",
    "l.DrawLatex(0.1,0.9,\"1)   C(x) = d #sqrt{#frac{2}{#lambdaD}}\\\n",
    "#int^{x}_{0}cos(#frac{#pi}{2}t^{2})dt\");\n",
    "l.DrawLatex(0.1,0.7,\"2)   C(x) = d #sqrt{#frac{2}{#lambdaD}}\\\n",
    "#int^{x}cos(#frac{#pi}{2}t^{2})dt\");\n",
    "l.DrawLatex(0.1,0.5,\"3)   R = |A|^{2} = #frac{1}{2}#left(#[]{#frac{1}{2}+\\\n",
    "C(V)}^{2}+#[]{#frac{1}{2}+S(V)}^{2}#right)\");\n",
    "l.DrawLatex(0.1,0.3,\n",
    "\"4)   F(t) = #sum_{i=-#infty}^{#infty}A(i)cos#[]{#frac{i}{t+i}}\");\n",
    "l.DrawLatex(0.1,0.1,\"5)   {}_{3}^{7}Li\");\n",
    "c1->Print(\"latex.ps\");"
   ]
  },
  {
   "cell_type": "markdown",
   "metadata": {},
   "source": [
    "Draw all canvases "
   ]
  },
  {
   "cell_type": "code",
   "execution_count": 3,
   "metadata": {
    "collapsed": false
   },
   "outputs": [
    {
     "data": {
      "image/png": "[encoded data removed]",
      "text/plain": [
       "<IPython.core.display.Image object>"
      ]
     },
     "metadata": {},
     "output_type": "display_data"
    }
   ],
   "source": [
    "gROOT->GetListOfCanvases()->Draw()"
   ]
  }
 ],
 "metadata": {
  "kernelspec": {
   "display_name": "ROOT C++",
   "language": "c++",
   "name": "root"
  },
  "language_info": {
   "codemirror_mode": "text/x-c++src",
   "file_extension": ".C",
   "mimetype": " text/x-c++src",
   "name": "c++"
  }
 },
 "nbformat": 4,
 "nbformat_minor": 2
}
