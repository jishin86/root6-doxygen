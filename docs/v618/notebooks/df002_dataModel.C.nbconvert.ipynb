{
 "cells": [
  {
   "cell_type": "markdown",
   "metadata": {},
   "source": [
    "# Df 0 0 2_Data Model\n",
    "This tutorial shows the possibility to use data models which are more\n",
    "complex than flat ntuples with RDataFrame\n",
    "\n",
    "\n",
    "\n",
    "\n",
    "**Author:** Danilo Piparo  \n",
    "<i><small>This notebook tutorial was automatically generated with <a href= \"https://github.com/root-project/root/blob/master/documentation/doxygen/converttonotebook.py\">ROOTBOOK-izer</a> from the macro found in the ROOT repository  on Thursday, August 29, 2019 at 12:57 AM.</small></i>"
   ]
  },
  {
   "cell_type": "code",
   "execution_count": null,
   "metadata": {
    "collapsed": false
   },
   "outputs": [],
   "source": [
    "using FourVector = ROOT::Math::XYZTVector;\n",
    "using FourVectorVec = std::vector<FourVector>;\n",
    "using FourVectorRVec = ROOT::VecOps::RVec<FourVector>;\n",
    "using CylFourVector = ROOT::Math::RhoEtaPhiVector;"
   ]
  },
  {
   "cell_type": "markdown",
   "metadata": {},
   "source": [
    "  A simple helper function to fill a test tree: this makes the example\n",
    " stand-alone.\n",
    " "
   ]
  },
  {
   "cell_type": "code",
   "execution_count": null,
   "metadata": {
    "collapsed": false
   },
   "outputs": [],
   "source": [
    "%%cpp -d\n",
    "void fill_tree(const char *filename, const char *treeName)\n",
    "{\n",
    "   const double M = 0.13957; // set pi+ mass\n",
    "   TRandom3 R(1);\n",
    "\n",
    "   auto genTracks = [&](){\n",
    "      FourVectorVec tracks;\n",
    "      const auto nPart = R.Poisson(15);\n",
    "      tracks.reserve(nPart);\n",
    "      for (int j = 0; j < nPart; ++j) {\n",
    "         const auto px = R.Gaus(0, 10);\n",
    "         const auto py = R.Gaus(0, 10);\n",
    "         const auto pt = sqrt(px * px + py * py);\n",
    "         const auto eta = R.Uniform(-3, 3);\n",
    "         const auto phi = R.Uniform(0.0, 2 * TMath::Pi());\n",
    "         CylFourVector vcyl(pt, eta, phi);\n",
    "         // set energy\n",
    "         auto E = sqrt(vcyl.R() * vcyl.R() + M * M);\n",
    "         // fill track vector\n",
    "         tracks.emplace_back(vcyl.X(), vcyl.Y(), vcyl.Z(), E);\n",
    "      }\n",
    "      return tracks;\n",
    "   };\n",
    "\n",
    "   ROOT::RDataFrame d(64);\n",
    "   d.Define(\"tracks\", genTracks).Snapshot<FourVectorVec>(treeName, filename, {\"tracks\"});\n",
    "}"
   ]
  },
  {
   "cell_type": "markdown",
   "metadata": {},
   "source": [
    "We prepare an input tree to run on"
   ]
  },
  {
   "cell_type": "code",
   "execution_count": null,
   "metadata": {
    "collapsed": false
   },
   "outputs": [],
   "source": [
    "auto fileName = \"df002_dataModel.root\";\n",
    "auto treeName = \"myTree\";\n",
    "fill_tree(fileName, treeName);"
   ]
  },
  {
   "cell_type": "markdown",
   "metadata": {},
   "source": [
    "We read the tree from the file and create a rdataframe, a class that\n",
    " allows us to interact with the data contained in the tree."
   ]
  },
  {
   "cell_type": "code",
   "execution_count": null,
   "metadata": {
    "collapsed": false
   },
   "outputs": [],
   "source": [
    "ROOT::RDataFrame d(treeName, fileName, {\"tracks\"});"
   ]
  },
  {
   "cell_type": "markdown",
   "metadata": {},
   "source": [
    " ## Operating on branches which are collection of objects\n",
    " Here we deal with the simplest of the cuts: we decide to accept the event\n",
    " only if the number of tracks is greater than 5."
   ]
  },
  {
   "cell_type": "code",
   "execution_count": null,
   "metadata": {
    "collapsed": false
   },
   "outputs": [],
   "source": [
    "auto n_cut = [](const FourVectorRVec &tracks) { return tracks.size() > 8; };\n",
    "auto nentries = d.Filter(n_cut, {\"tracks\"}).Count();\n",
    "\n",
    "std::cout << *nentries << \" passed all filters\" << std::endl;"
   ]
  },
  {
   "cell_type": "markdown",
   "metadata": {},
   "source": [
    "Another possibility consists in creating a new column containing the\n",
    " quantity we are interested in.\n",
    " In this example, we will cut on the number of tracks and plot their\n",
    " transverse momentum."
   ]
  },
  {
   "cell_type": "code",
   "execution_count": null,
   "metadata": {
    "collapsed": false
   },
   "outputs": [],
   "source": [
    "auto getPt = [](const FourVectorRVec &tracks) {\n",
    "   return ROOT::VecOps::Map(tracks, [](const FourVector& v){return v.Pt();});\n",
    "};"
   ]
  },
  {
   "cell_type": "markdown",
   "metadata": {},
   "source": [
    "We do the same for the weights."
   ]
  },
  {
   "cell_type": "code",
   "execution_count": null,
   "metadata": {
    "collapsed": false
   },
   "outputs": [],
   "source": [
    "auto getPtWeights = [](const FourVectorRVec &tracks) {\n",
    "   return ROOT::VecOps::Map(tracks, [](const FourVector& v){ return 1. / v.Pt();});\n",
    "};\n",
    "\n",
    "auto augmented_d = d.Define(\"tracks_n\", [](const FourVectorRVec &tracks) { return (int)tracks.size(); })\n",
    "                      .Filter([](int tracks_n) { return tracks_n > 2; }, {\"tracks_n\"})\n",
    "                      .Define(\"tracks_pts\", getPt)\n",
    "                      .Define(\"tracks_pts_weights\", getPtWeights);\n",
    "\n",
    "auto trN = augmented_d.Histo1D({\"\", \"\", 40, -.5, 39.5}, \"tracks_n\");\n",
    "auto trPts = augmented_d.Histo1D(\"tracks_pts\");\n",
    "auto trWPts = augmented_d.Histo1D(\"tracks_pts\", \"tracks_pts_weights\");\n",
    "\n",
    "auto c1 = new TCanvas();\n",
    "trN->DrawCopy();\n",
    "\n",
    "auto c2 = new TCanvas();\n",
    "trPts->DrawCopy();\n",
    "\n",
    "auto c3 = new TCanvas();\n",
    "trWPts->DrawCopy();\n",
    "\n",
    "return 0;"
   ]
  },
  {
   "cell_type": "markdown",
   "metadata": {},
   "source": [
    "Draw all canvases "
   ]
  },
  {
   "cell_type": "code",
   "execution_count": null,
   "metadata": {
    "collapsed": false
   },
   "outputs": [],
   "source": [
    "gROOT->GetListOfCanvases()->Draw()"
   ]
  }
 ],
 "metadata": {
  "kernelspec": {
   "display_name": "ROOT C++",
   "language": "c++",
   "name": "root"
  },
  "language_info": {
   "codemirror_mode": "text/x-c++src",
   "file_extension": ".C",
   "mimetype": " text/x-c++src",
   "name": "c++"
  }
 },
 "nbformat": 4,
 "nbformat_minor": 2
}
