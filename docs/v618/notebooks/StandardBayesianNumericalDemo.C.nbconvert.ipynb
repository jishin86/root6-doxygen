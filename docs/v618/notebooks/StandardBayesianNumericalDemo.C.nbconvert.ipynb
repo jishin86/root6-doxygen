{
 "cells": [
  {
   "cell_type": "markdown",
   "metadata": {},
   "source": [
    "#  Standard Bayesian Numerical Demo\n",
    "Standard demo of the numerical Bayesian calculator\n",
    "\n",
    "This is a standard demo that can be used with any ROOT file\n",
    "prepared in the standard way.  You specify:\n",
    " - name for input ROOT file\n",
    " - name of workspace inside ROOT file that holds model and data\n",
    " - name of ModelConfig that specifies details for calculator tools\n",
    " - name of dataset\n",
    "\n",
    "With default parameters the macro will attempt to run the\n",
    "standard hist2workspace example and read the ROOT file\n",
    "that it produces.\n",
    "\n",
    "The actual heart of the demo is only about 10 lines long.\n",
    "\n",
    "The BayesianCalculator is based on Bayes's theorem\n",
    "and performs the integration using ROOT's numeric integration utilities\n",
    "\n",
    "\n",
    "\n",
    "\n",
    "**Author:** Kyle Cranmer  \n",
    "<i><small>This notebook tutorial was automatically generated with <a href= \"https://github.com/root-project/root/blob/master/documentation/doxygen/converttonotebook.py\">ROOTBOOK-izer</a> from the macro found in the ROOT repository  on Thursday, August 29, 2019 at 03:25 AM.</small></i>"
   ]
  },
  {
   "cell_type": "code",
   "execution_count": 1,
   "metadata": {
    "collapsed": false
   },
   "outputs": [],
   "source": [
    "%%cpp -d\n",
    "#include \"TFile.h\"\n",
    "#include \"TROOT.h\"\n",
    "#include \"RooWorkspace.h\"\n",
    "#include \"RooAbsData.h\"\n",
    "#include \"RooRealVar.h\"\n",
    "\n",
    "#include \"RooUniform.h\"\n",
    "#include \"RooStats/ModelConfig.h\"\n",
    "#include \"RooStats/BayesianCalculator.h\"\n",
    "#include \"RooStats/SimpleInterval.h\"\n",
    "#include \"RooStats/RooStatsUtils.h\"\n",
    "#include \"RooPlot.h\"\n",
    "#include \"TSystem.h\"\n",
    "\n",
    "#include <cassert>"
   ]
  },
  {
   "cell_type": "code",
   "execution_count": 2,
   "metadata": {
    "collapsed": false
   },
   "outputs": [],
   "source": [
    "%%cpp -d\n",
    "// This is a workaround to make sure the namespace is used inside functions\n",
    "using namespace RooFit;\n",
    "using namespace RooStats;"
   ]
  },
  {
   "cell_type": "code",
   "execution_count": 3,
   "metadata": {
    "collapsed": false
   },
   "outputs": [],
   "source": [
    "struct BayesianNumericalOptions {\n",
    "\n",
    "   double confLevel = 0.95;      // interval CL\n",
    "   TString integrationType = \"\"; // integration Type (default is adaptive (numerical integration)\n",
    "   // possible values are \"TOYMC\" (toy MC integration, work when nuisances have a constraints pdf)\n",
    "   //  \"VEGAS\" , \"MISER\", or \"PLAIN\"  (these are all possible MC integration)\n",
    "   int nToys =\n",
    "      10000; // number of toys used for the MC integrations - for Vegas should be probably set to an higher value\n",
    "   bool scanPosterior =\n",
    "      false; // flag to compute interval by scanning posterior (it is more robust but maybe less precise)\n",
    "   bool plotPosterior = false; // plot posterior function after having computed the interval\n",
    "   int nScanPoints = 50; // number of points for scanning the posterior (if scanPosterior = false it is used only for\n",
    "                         // plotting). Use by default a low value to speed-up tutorial\n",
    "   int intervalType = 1; // type of interval (0 is shortest, 1 central, 2 upper limit)\n",
    "   double maxPOI = -999; // force a different value of POI for doing the scan (default is given value)\n",
    "   double nSigmaNuisance = -1; // force integration of nuisance parameters to be within nSigma of their error (do first\n",
    "                               // a model fit to find nuisance error)\n",
    "};\n",
    "\n",
    "BayesianNumericalOptions optBayes;"
   ]
  },
  {
   "cell_type": "markdown",
   "metadata": {},
   "source": [
    " Arguments are defined. "
   ]
  },
  {
   "cell_type": "code",
   "execution_count": 4,
   "metadata": {
    "collapsed": false
   },
   "outputs": [],
   "source": [
    "const char *infile = \"\";\n",
    "const char *workspaceName = \"combined\";\n",
    "const char *modelConfigName = \"ModelConfig\";\n",
    "const char *dataName = \"obsData\";"
   ]
  },
  {
   "cell_type": "markdown",
   "metadata": {},
   "source": [
    "Option definitions"
   ]
  },
  {
   "cell_type": "code",
   "execution_count": 5,
   "metadata": {
    "collapsed": false
   },
   "outputs": [],
   "source": [
    "double confLevel = optBayes.confLevel;\n",
    "TString integrationType = optBayes.integrationType;\n",
    "int nToys = optBayes.nToys;\n",
    "bool scanPosterior = optBayes.scanPosterior;\n",
    "bool plotPosterior = optBayes.plotPosterior;\n",
    "int nScanPoints = optBayes.nScanPoints;\n",
    "int intervalType = optBayes.intervalType;\n",
    "int maxPOI = optBayes.maxPOI;\n",
    "double nSigmaNuisance = optBayes.nSigmaNuisance;"
   ]
  },
  {
   "cell_type": "markdown",
   "metadata": {},
   "source": [
    "-------------------------------------------------------\n",
    " First part is just to access a user-defined file\n",
    " or create the standard example file if it doesn't exist"
   ]
  },
  {
   "cell_type": "code",
   "execution_count": 6,
   "metadata": {
    "collapsed": false
   },
   "outputs": [],
   "source": [
    "const char *filename = \"\";\n",
    "if (!strcmp(infile, \"\")) {\n",
    "   filename = \"results/example_combined_GaussExample_model.root\";\n",
    "   bool fileExist = !gSystem->AccessPathName(filename); // note opposite return code\n",
    "   // if file does not exists generate with histfactory\n",
    "   if (!fileExist) {\n",
    "#ifdef _WIN32\n",
    "      cout << \"HistFactory file cannot be generated on Windows - exit\" << endl;\n",
    "      return;\n",
    "#endif\n",
    "      // Normally this would be run on the command line\n",
    "      cout << \"will run standard hist2workspace example\" << endl;\n",
    "      gROOT->ProcessLine(\".! prepareHistFactory .\");\n",
    "      gROOT->ProcessLine(\".! hist2workspace config/example.xml\");\n",
    "      cout << \"\\n\\n---------------------\" << endl;\n",
    "      cout << \"Done creating example input\" << endl;\n",
    "      cout << \"---------------------\\n\\n\" << endl;\n",
    "   }\n",
    "\n",
    "} else\n",
    "   filename = infile;"
   ]
  },
  {
   "cell_type": "markdown",
   "metadata": {},
   "source": [
    "Try to open the file"
   ]
  },
  {
   "cell_type": "code",
   "execution_count": 7,
   "metadata": {
    "collapsed": false
   },
   "outputs": [
    {
     "name": "stdout",
     "output_type": "stream",
     "text": [
      "\n",
      "\u001b[1mRooFit v3.60 -- Developed by Wouter Verkerke and David Kirkby\u001b[0m \n",
      "                Copyright (C) 2000-2013 NIKHEF, University of California & Stanford University\n",
      "                All rights reserved, please read http://roofit.sourceforge.net/license.txt\n",
      "\n"
     ]
    }
   ],
   "source": [
    "TFile *file = TFile::Open(filename);"
   ]
  },
  {
   "cell_type": "markdown",
   "metadata": {},
   "source": [
    "If input file was specified byt not found, quit"
   ]
  },
  {
   "cell_type": "code",
   "execution_count": 8,
   "metadata": {
    "collapsed": false
   },
   "outputs": [],
   "source": [
    "if (!file) {\n",
    "   cout << \"StandardRooStatsDemoMacro: Input file \" << filename << \" is not found\" << endl;\n",
    "   return;\n",
    "}"
   ]
  },
  {
   "cell_type": "markdown",
   "metadata": {},
   "source": [
    "-------------------------------------------------------\n",
    " Tutorial starts here\n",
    " -------------------------------------------------------"
   ]
  },
  {
   "cell_type": "markdown",
   "metadata": {},
   "source": [
    "Get the workspace out of the file"
   ]
  },
  {
   "cell_type": "code",
   "execution_count": 9,
   "metadata": {
    "collapsed": false
   },
   "outputs": [],
   "source": [
    "RooWorkspace *w = (RooWorkspace *)file->Get(workspaceName);\n",
    "if (!w) {\n",
    "   cout << \"workspace not found\" << endl;\n",
    "   return;\n",
    "}"
   ]
  },
  {
   "cell_type": "markdown",
   "metadata": {},
   "source": [
    "Get the modelconfig out of the file"
   ]
  },
  {
   "cell_type": "code",
   "execution_count": 10,
   "metadata": {
    "collapsed": false
   },
   "outputs": [],
   "source": [
    "ModelConfig *mc = (ModelConfig *)w->obj(modelConfigName);"
   ]
  },
  {
   "cell_type": "markdown",
   "metadata": {},
   "source": [
    "Get the modelconfig out of the file"
   ]
  },
  {
   "cell_type": "code",
   "execution_count": 11,
   "metadata": {
    "collapsed": false
   },
   "outputs": [],
   "source": [
    "RooAbsData *data = w->data(dataName);"
   ]
  },
  {
   "cell_type": "markdown",
   "metadata": {},
   "source": [
    "Make sure ingredients are found"
   ]
  },
  {
   "cell_type": "code",
   "execution_count": 12,
   "metadata": {
    "collapsed": false
   },
   "outputs": [],
   "source": [
    "if (!data || !mc) {\n",
    "   w->Print();\n",
    "   cout << \"data or ModelConfig was not found\" << endl;\n",
    "   return;\n",
    "}"
   ]
  },
  {
   "cell_type": "markdown",
   "metadata": {},
   "source": [
    "------------------------------------------\n",
    " create and use the BayesianCalculator\n",
    " to find and plot the 95% credible interval\n",
    " on the parameter of interest as specified\n",
    " in the model config"
   ]
  },
  {
   "cell_type": "markdown",
   "metadata": {},
   "source": [
    "Before we do that, we must specify our prior\n",
    " it belongs in the model config, but it may not have\n",
    " been specified"
   ]
  },
  {
   "cell_type": "code",
   "execution_count": 13,
   "metadata": {
    "collapsed": false
   },
   "outputs": [
    {
     "name": "stdout",
     "output_type": "stream",
     "text": [
      "[#1] INFO:ObjectHandling -- RooWorkspace::import(combined) importing RooUniform::prior\n"
     ]
    }
   ],
   "source": [
    "RooUniform prior(\"prior\", \"\", *mc->GetParametersOfInterest());\n",
    "w->import(prior);\n",
    "mc->SetPriorPdf(*w->pdf(\"prior\"));"
   ]
  },
  {
   "cell_type": "markdown",
   "metadata": {},
   "source": [
    "Do without systematics\n",
    " mc->SetNuisanceParameters(RooArgSet() );"
   ]
  },
  {
   "cell_type": "code",
   "execution_count": 14,
   "metadata": {
    "collapsed": false
   },
   "outputs": [],
   "source": [
    "if (nSigmaNuisance > 0) {\n",
    "   RooAbsPdf *pdf = mc->GetPdf();\n",
    "   assert(pdf);\n",
    "   RooFitResult *res =\n",
    "      pdf->fitTo(*data, Save(true), Minimizer(ROOT::Math::MinimizerOptions::DefaultMinimizerType().c_str()),\n",
    "                 Hesse(true), PrintLevel(ROOT::Math::MinimizerOptions::DefaultPrintLevel() - 1));\n",
    "\n",
    "   res->Print();\n",
    "   RooArgList nuisPar(*mc->GetNuisanceParameters());\n",
    "   for (int i = 0; i < nuisPar.getSize(); ++i) {\n",
    "      RooRealVar *v = dynamic_cast<RooRealVar *>(&nuisPar[i]);\n",
    "      assert(v);\n",
    "      v->setMin(TMath::Max(v->getMin(), v->getVal() - nSigmaNuisance * v->getError()));\n",
    "      v->setMax(TMath::Min(v->getMax(), v->getVal() + nSigmaNuisance * v->getError()));\n",
    "      std::cout << \"setting interval for nuisance  \" << v->GetName() << \" : [ \" << v->getMin() << \" , \"\n",
    "                << v->getMax() << \" ]\" << std::endl;\n",
    "   }\n",
    "}\n",
    "\n",
    "BayesianCalculator bayesianCalc(*data, *mc);\n",
    "bayesianCalc.SetConfidenceLevel(confLevel); // 95% interval"
   ]
  },
  {
   "cell_type": "markdown",
   "metadata": {},
   "source": [
    "Default of the calculator is central interval.  here use shortest , central or upper limit depending on input\n",
    " doing a shortest interval might require a longer time since it requires a scan of the posterior function"
   ]
  },
  {
   "cell_type": "code",
   "execution_count": 15,
   "metadata": {
    "collapsed": false
   },
   "outputs": [],
   "source": [
    "if (intervalType == 0)\n",
    "   bayesianCalc.SetShortestInterval(); // for shortest interval\n",
    "if (intervalType == 1)\n",
    "   bayesianCalc.SetLeftSideTailFraction(0.5); // for central interval\n",
    "if (intervalType == 2)\n",
    "   bayesianCalc.SetLeftSideTailFraction(0.); // for upper limit\n",
    "\n",
    "if (!integrationType.IsNull()) {\n",
    "   bayesianCalc.SetIntegrationType(integrationType); // set integrationType\n",
    "   bayesianCalc.SetNumIters(nToys); // set number of iterations (i.e. number of toys for MC integrations)\n",
    "}"
   ]
  },
  {
   "cell_type": "markdown",
   "metadata": {},
   "source": [
    "In case of toymc make a nuisance pdf"
   ]
  },
  {
   "cell_type": "code",
   "execution_count": 16,
   "metadata": {
    "collapsed": false
   },
   "outputs": [],
   "source": [
    "if (integrationType.Contains(\"TOYMC\")) {\n",
    "   RooAbsPdf *nuisPdf = RooStats::MakeNuisancePdf(*mc, \"nuisance_pdf\");\n",
    "   cout << \"using TOYMC integration: make nuisance pdf from the model \" << std::endl;\n",
    "   nuisPdf->Print();\n",
    "   bayesianCalc.ForceNuisancePdf(*nuisPdf);\n",
    "   scanPosterior = true; // for ToyMC the posterior is scanned anyway so used given points\n",
    "}"
   ]
  },
  {
   "cell_type": "markdown",
   "metadata": {},
   "source": [
    "Compute interval by scanning the posterior function"
   ]
  },
  {
   "cell_type": "code",
   "execution_count": 17,
   "metadata": {
    "collapsed": false
   },
   "outputs": [
    {
     "name": "stdout",
     "output_type": "stream",
     "text": [
      "[#1] INFO:Minization -- p.d.f. provides expected number of events, including extended term in likelihood.\n",
      "[#1] INFO:Minization -- createNLL: caching constraint set under name CONSTR_OF_PDF_simPdf_FOR_OBS_channelCat:obs_x_channel1 with 4 entries\n",
      "[#1] INFO:Minization --  Including the following contraint terms in minimization: (alpha_syst2Constraint,alpha_syst3Constraint,gamma_stat_channel1_bin_0_constraint,gamma_stat_channel1_bin_1_constraint)\n",
      "[#1] INFO:Minization -- The following global observables have been defined: (nom_alpha_syst2,nom_alpha_syst3,nom_gamma_stat_channel1_bin_0,nom_gamma_stat_channel1_bin_1)\n",
      "RooAbsTestStatistic::initSimMode: creating slave calculator #0 for state channel1 (2 dataset entries)\n",
      "[#1] INFO:NumericIntegration -- RooRealIntegral::init(channel1_model_Int[obs_x_channel1]) using numeric integrator RooBinIntegrator to calculate Int(obs_x_channel1)\n",
      "[#1] INFO:Fitting -- RooAbsTestStatistic::initSimMode: created 1 slave calculators.\n",
      "[#1] INFO:NumericIntegration -- RooRealIntegral::init(channel1_model_Int[obs_x_channel1]) using numeric integrator RooBinIntegrator to calculate Int(obs_x_channel1)\n",
      "[#1] INFO:Eval -- BayesianCalculator::GetPosteriorFunction :  nll value -1033.75 poi value = 1\n",
      "[#1] INFO:Eval -- BayesianCalculator::GetPosteriorFunction : minimum of NLL vs POI for POI =  1.12121 min NLL = -1033.78\n",
      "[#1] INFO:InputArguments -- BayesianCalculator:GetInterval Compute the interval from the posterior cdf \n",
      "[#1] INFO:NumericIntegration -- PosteriorCdfFunction - integral of posterior = 0.0560849 +/- 0.000423427\n",
      "[#0] WARNING:Eval -- BayesianCalculator::GetInterval : 315 errors reported in evaluating log-likelihood function \n",
      "[#1] INFO:Eval -- BayesianCalculator::GetInterval - found a valid interval : [0.170773 , 2.33979 ]\n"
     ]
    }
   ],
   "source": [
    "if (scanPosterior)\n",
    "   bayesianCalc.SetScanOfPosterior(nScanPoints);\n",
    "\n",
    "RooRealVar *poi = (RooRealVar *)mc->GetParametersOfInterest()->first();\n",
    "if (maxPOI != -999 && maxPOI > poi->getMin())\n",
    "   poi->setMax(maxPOI);\n",
    "\n",
    "SimpleInterval *interval = bayesianCalc.GetInterval();"
   ]
  },
  {
   "cell_type": "markdown",
   "metadata": {},
   "source": [
    "Print out the interval on the first parameter of interest"
   ]
  },
  {
   "cell_type": "code",
   "execution_count": 18,
   "metadata": {
    "collapsed": false
   },
   "outputs": [
    {
     "name": "stdout",
     "output_type": "stream",
     "text": [
      "\n",
      ">>>> RESULT : 95% interval on SigXsecOverSM is : [0.170773, 2.33979] \n"
     ]
    }
   ],
   "source": [
    "cout << \"\\n>>>> RESULT : \" << confLevel * 100 << \"% interval on \" << poi->GetName() << \" is : [\"\n",
    "     << interval->LowerLimit() << \", \" << interval->UpperLimit() << \"] \" << endl;"
   ]
  },
  {
   "cell_type": "markdown",
   "metadata": {},
   "source": [
    "End in case plotting is not requested"
   ]
  },
  {
   "cell_type": "code",
   "execution_count": 19,
   "metadata": {
    "collapsed": false
   },
   "outputs": [],
   "source": [
    "if (!plotPosterior)\n",
    "   return;"
   ]
  },
  {
   "cell_type": "markdown",
   "metadata": {},
   "source": [
    "Make a plot\n",
    " since plotting may take a long time (it requires evaluating\n",
    " the posterior in many points) this command will speed up\n",
    " by reducing the number of points to plot - do 50"
   ]
  },
  {
   "cell_type": "markdown",
   "metadata": {},
   "source": [
    "Ignore errors of pdf if is zero"
   ]
  },
  {
   "cell_type": "code",
   "execution_count": 20,
   "metadata": {
    "collapsed": false
   },
   "outputs": [
    {
     "name": "stdout",
     "output_type": "stream",
     "text": [
      "\n",
      "Drawing plot of posterior function.....\n"
     ]
    }
   ],
   "source": [
    "RooAbsReal::setEvalErrorLoggingMode(RooAbsReal::Ignore);\n",
    "\n",
    "cout << \"\\nDrawing plot of posterior function.....\" << endl;"
   ]
  },
  {
   "cell_type": "markdown",
   "metadata": {},
   "source": [
    "Always plot using numer of scan points"
   ]
  },
  {
   "cell_type": "code",
   "execution_count": 21,
   "metadata": {
    "collapsed": false
   },
   "outputs": [
    {
     "name": "stdout",
     "output_type": "stream",
     "text": [
      "[#1] INFO:Eval -- BayesianCalculator - scan posterior function in nbins = 50\n"
     ]
    },
    {
     "name": "stderr",
     "output_type": "stream",
     "text": [
      "Info in <TCanvas::MakeDefCanvas>:  created default TCanvas with name c1\n"
     ]
    }
   ],
   "source": [
    "bayesianCalc.SetScanOfPosterior(nScanPoints);\n",
    "\n",
    "RooPlot *plot = bayesianCalc.GetPosteriorPlot();\n",
    "plot->Draw();"
   ]
  },
  {
   "cell_type": "markdown",
   "metadata": {},
   "source": [
    "Draw all canvases "
   ]
  },
  {
   "cell_type": "code",
   "execution_count": 22,
   "metadata": {
    "collapsed": false
   },
   "outputs": [
    {
     "data": {
      "text/html": [
       "\n",
       "<div id=\"root_plot_1\"\n",
       "     style=\"width: 696px; height: 472px\">\n",
       "</div>\n",
       "\n",
       "<script>\n",
       " requirejs.config({\n",
       "     paths: {\n",
       "       'JSRootCore' : 'https://root.cern.ch/js/notebook//scripts/JSRootCore',\n",
       "     }\n",
       "   });\n",
       " require(['JSRootCore'],\n",
       "     function(Core) {\n",
       "       var obj = Core.JSONR_unref({\"_typename\":\"TCanvas\",\"fUniqueID\":0,\"fBits\":53673992,\"fLineColor\":1,\"fLineStyle\":1,\"fLineWidth\":1,\"fFillColor\":0,\"fFillStyle\":1001,\"fLeftMargin\":0.1,\"fRightMargin\":0.1,\"fBottomMargin\":0.1,\"fTopMargin\":0.1,\"fXfile\":2,\"fYfile\":2,\"fAfile\":1,\"fXstat\":0.99,\"fYstat\":0.99,\"fAstat\":2,\"fFrameFillColor\":0,\"fFrameLineColor\":1,\"fFrameFillStyle\":1001,\"fFrameLineStyle\":1,\"fFrameLineWidth\":1,\"fFrameBorderSize\":1,\"fFrameBorderMode\":0,\"fX1\":-0.375000027939679,\"fY1\":-0.0150275470084252,\"fX2\":3.37500002793968,\"fY2\":0.135247914118711,\"fXtoAbsPixelk\":69.6000541484835,\"fXtoPixelk\":69.6000541484835,\"fXtoPixel\":185.599997234344,\"fYtoAbsPixelk\":424.800047186661,\"fYtoPixelk\":424.800047186661,\"fYtoPixel\":-3140.89869669859,\"fUtoAbsPixelk\":5e-5,\"fUtoPixelk\":5e-5,\"fUtoPixel\":696,\"fVtoAbsPixelk\":472.00005,\"fVtoPixelk\":472,\"fVtoPixel\":-472,\"fAbsPixeltoXk\":-0.375000027939679,\"fPixeltoXk\":-0.375000027939679,\"fPixeltoX\":0.00538793111476919,\"fAbsPixeltoYk\":0.135247914118711,\"fPixeltoYk\":-0.0150275470084252,\"fPixeltoY\":-3.18380214252406e-4,\"fXlowNDC\":0,\"fYlowNDC\":0,\"fXUpNDC\":0,\"fYUpNDC\":0,\"fWNDC\":1,\"fHNDC\":1,\"fAbsXlowNDC\":0,\"fAbsYlowNDC\":0,\"fAbsWNDC\":1,\"fAbsHNDC\":1,\"fUxmin\":0,\"fUymin\":0,\"fUxmax\":3,\"fUymax\":0.120220367110285,\"fTheta\":30,\"fPhi\":30,\"fAspectRatio\":0,\"fNumber\":0,\"fTickx\":0,\"fTicky\":0,\"fLogx\":0,\"fLogy\":0,\"fLogz\":0,\"fPadPaint\":0,\"fCrosshair\":0,\"fCrosshairPos\":0,\"fBorderSize\":2,\"fBorderMode\":0,\"fModified\":false,\"fGridx\":false,\"fGridy\":false,\"fAbsCoord\":false,\"fEditable\":true,\"fFixedAspectRatio\":false,\"fPrimitives\":{\"_typename\":\"TList\",\"name\":\"TList\",\"arr\":[{\"_typename\":\"TFrame\",\"fUniqueID\":0,\"fBits\":50331656,\"fLineColor\":1,\"fLineStyle\":1,\"fLineWidth\":1,\"fFillColor\":0,\"fFillStyle\":1001,\"fX1\":0,\"fY1\":0,\"fX2\":3,\"fY2\":0.120220367110285,\"fBorderSize\":1,\"fBorderMode\":0},{\"_typename\":\"TH1D\",\"fUniqueID\":0,\"fBits\":50332168,\"fName\":\"frame_7f047909bdc0\",\"fTitle\":\"Posterior probability of parameter \\\"SigXsecOverSM\\\"\",\"fLineColor\":602,\"fLineStyle\":1,\"fLineWidth\":1,\"fFillColor\":0,\"fFillStyle\":1001,\"fMarkerColor\":1,\"fMarkerStyle\":1,\"fMarkerSize\":1,\"fNcells\":102,\"fXaxis\":{\"_typename\":\"TAxis\",\"fUniqueID\":0,\"fBits\":50331648,\"fName\":\"xaxis\",\"fTitle\":\"SigXsecOverSM\",\"fNdivisions\":510,\"fAxisColor\":1,\"fLabelColor\":1,\"fLabelFont\":42,\"fLabelOffset\":0.005,\"fLabelSize\":0.035,\"fTickLength\":0.03,\"fTitleOffset\":1,\"fTitleSize\":0.035,\"fTitleColor\":1,\"fTitleFont\":42,\"fNbins\":100,\"fXmin\":0,\"fXmax\":3,\"fXbins\":[],\"fFirst\":0,\"fLast\":0,\"fBits2\":0,\"fTimeDisplay\":false,\"fTimeFormat\":\"\",\"fLabels\":null,\"fModLabs\":null},\"fYaxis\":{\"_typename\":\"TAxis\",\"fUniqueID\":0,\"fBits\":50331648,\"fName\":\"yaxis\",\"fTitle\":\"posterior function\",\"fNdivisions\":510,\"fAxisColor\":1,\"fLabelColor\":1,\"fLabelFont\":42,\"fLabelOffset\":0.005,\"fLabelSize\":0.035,\"fTickLength\":0.03,\"fTitleOffset\":0,\"fTitleSize\":0.035,\"fTitleColor\":1,\"fTitleFont\":42,\"fNbins\":1,\"fXmin\":0,\"fXmax\":1,\"fXbins\":[],\"fFirst\":0,\"fLast\":0,\"fBits2\":0,\"fTimeDisplay\":false,\"fTimeFormat\":\"\",\"fLabels\":null,\"fModLabs\":null},\"fZaxis\":{\"_typename\":\"TAxis\",\"fUniqueID\":0,\"fBits\":50331648,\"fName\":\"zaxis\",\"fTitle\":\"\",\"fNdivisions\":510,\"fAxisColor\":1,\"fLabelColor\":1,\"fLabelFont\":42,\"fLabelOffset\":0.005,\"fLabelSize\":0.035,\"fTickLength\":0.03,\"fTitleOffset\":1,\"fTitleSize\":0.035,\"fTitleColor\":1,\"fTitleFont\":42,\"fNbins\":1,\"fXmin\":0,\"fXmax\":1,\"fXbins\":[],\"fFirst\":0,\"fLast\":0,\"fBits2\":0,\"fTimeDisplay\":false,\"fTimeFormat\":\"\",\"fLabels\":null,\"fModLabs\":null},\"fBarOffset\":0,\"fBarWidth\":1000,\"fEntries\":2,\"fTsumw\":0,\"fTsumw2\":0,\"fTsumwx\":0,\"fTsumwx2\":0,\"fMaximum\":0.120220367110285,\"fMinimum\":-1111,\"fNormFactor\":0,\"fContour\":[],\"fSumw2\":[],\"fOption\":\"\",\"fFunctions\":{\"_typename\":\"TList\",\"name\":\"TList\",\"arr\":[],\"opt\":[]},\"fBufferSize\":0,\"fBuffer\":[],\"fBinStatErrOpt\":0,\"fStatOverflows\":2,\"fArray\":[0,0.120220367110285,0,0,0,0,0,0,0,0,0,0,0,0,0,0,0,0,0,0,0,0,0,0,0,0,0,0,0,0,0,0,0,0,0,0,0,0,0,0,0,0,0,0,0,0,0,0,0,0,0,0,0,0,0,0,0,0,0,0,0,0,0,0,0,0,0,0,0,0,0,0,0,0,0,0,0,0,0,0,0,0,0,0,0,0,0,0,0,0,0,0,0,0,0,0,0,0,0,0,0,0]},{\"_typename\":\"RooCurve\",\"fUniqueID\":0,\"fBits\":50332680,\"fName\":\"posteriorfunction_from_nll_simPdf_obsData_with_constr_approx_Norm[SigXsecOverSM]\",\"fTitle\":\"Projection of posteriorfunction_from_nll_simPdf_obsData_with_constr_approx\",\"fLineColor\":600,\"fLineStyle\":1,\"fLineWidth\":3,\"fFillColor\":920,\"fFillStyle\":1000,\"fMarkerColor\":1,\"fMarkerStyle\":1,\"fMarkerSize\":1,\"fNpoints\":104,\"fX\":[0.170772942482456,0.170772942482456,0.192463135050807,0.214153327619157,0.235843520187508,0.257533712755859,0.279223905324209,0.30091409789256,0.322604290460911,0.344294483029262,0.365984675597612,0.387674868165963,0.409365060734314,0.431055253302665,0.452745445871016,0.474435638439366,0.496125831007717,0.517816023576068,0.539506216144419,0.561196408712769,0.58288660128112,0.604576793849471,0.626266986417822,0.647957178986172,0.669647371554523,0.691337564122874,0.713027756691225,0.734717949259575,0.756408141827926,0.778098334396277,0.799788526964628,0.821478719532978,0.843168912101329,0.86485910466968,0.88654929723803,0.908239489806381,0.929929682374732,0.951619874943083,0.973310067511433,0.995000260079784,1.01669045264813,1.03838064521649,1.06007083778484,1.08176103035319,1.10345122292154,1.12514141548989,1.14683160805824,1.16852180062659,1.19021199319494,1.21190218576329,1.23359237833164,1.25528257089999,1.27697276346834,1.29866295603669,1.32035314860505,1.3420433411734,1.36373353374175,1.3854237263101,1.40711391887845,1.4288041114468,1.45049430401515,1.4721844965835,1.49387468915185,1.5155648817202,1.53725507428855,1.5589452668569,1.58063545942525,1.60232565199361,1.62401584456196,1.64570603713031,1.66739622969866,1.68908642226701,1.71077661483536,1.73246680740371,1.75415699997206,1.77584719254041,1.79753738510876,1.81922757767711,1.84091777024546,1.86260796281381,1.88429815538216,1.90598834795052,1.92767854051887,1.94936873308722,1.97105892565557,1.99274911822392,2.01443931079227,2.03612950336062,2.05781969592897,2.07950988849732,2.10120008106567,2.12289027363402,2.14458046620237,2.16627065877072,2.18796085133908,2.20965104390743,2.23134123647578,2.25303142904413,2.27472162161248,2.29641181418083,2.31810200674918,2.33979219931753,2.33979219931753,2.33979219931753],\"fY\":[0,0.0313038349252761,0.0332114630990835,0.0351978119606105,0.0371841608221375,0.0393103407188222,0.0414696684651886,0.0436350070785103,0.0459369638177058,0.0482389205569012,0.0505754844343183,0.0530028674359772,0.0554302504376362,0.0578999229777182,0.0604102772335776,0.062920631489437,0.0654541202814047,0.0679955918510276,0.0705370634206505,0.0730683696361146,0.0755994390431723,0.0781163395531636,0.0805802601840357,0.0830441808149077,0.0854516946865862,0.087788795959237,0.0901258972318878,0.0923390057142939,0.09449337585708,0.096647745999866,0.0985791945835168,0.100489220538687,0.10235715542163,0.103979081412887,0.105601007404144,0.107096441593152,0.108385381973214,0.109674322353277,0.110737033089756,0.11165730783159,0.112577582573423,0.113162813566641,0.113687717888083,0.114179561153645,0.114297260302704,0.114414959451762,0.114403643776865,0.11411172393843,0.113819804099994,0.113309957267306,0.112620893697023,0.11193183012674,0.110948136291768,0.109882552587361,0.108811449445701,0.107406864949052,0.106002280452403,0.10452181485333,0.102813771880023,0.101105728906715,0.0992752645918817,0.0973141945985491,0.0953531246052166,0.0932484744427556,0.0910873205956955,0.0889261667486353,0.0866262387160761,0.0843192175662842,0.0819947527079906,0.0795935154124621,0.0771922781169336,0.0747744509269541,0.0723336119053824,0.0698927728838106,0.0674576816785729,0.06502564898909,0.062593616299607,0.0602048165315196,0.0578215539162555,0.0554490626294061,0.0531553841854706,0.0508617057415352,0.0486100743339597,0.0464351695441236,0.0442602647542875,0.0421680996372256,0.0401339606167541,0.0380998215962825,0.0361959701108428,0.0343204175070739,0.0324541686912866,0.0307467721885579,0.0290393756858292,0.0273817524847646,0.0258465217045427,0.0243112909243207,0.0228658576287806,0.0215023651540833,0.0201388726793859,0.0189013571822437,0.017704358482838,0.0165073597834323,0.0165073597834323,0],\"fFunctions\":{\"_typename\":\"TList\",\"name\":\"TList\",\"arr\":[],\"opt\":[]},\"fHistogram\":{\"_typename\":\"TH1F\",\"fUniqueID\":0,\"fBits\":50332168,\"fName\":\"posteriorfunction_from_nll_simPdf_obsData_with_constr_approx_Norm[SigXsecOverSM]\",\"fTitle\":\"Projection of posteriorfunction_from_nll_simPdf_obsData_with_constr_approx\",\"fLineColor\":602,\"fLineStyle\":1,\"fLineWidth\":1,\"fFillColor\":0,\"fFillStyle\":1001,\"fMarkerColor\":1,\"fMarkerStyle\":1,\"fMarkerSize\":1,\"fNcells\":106,\"fXaxis\":{\"_typename\":\"TAxis\",\"fUniqueID\":0,\"fBits\":50331648,\"fName\":\"xaxis\",\"fTitle\":\"\",\"fNdivisions\":510,\"fAxisColor\":1,\"fLabelColor\":1,\"fLabelFont\":42,\"fLabelOffset\":0.005,\"fLabelSize\":0.035,\"fTickLength\":0.03,\"fTitleOffset\":1,\"fTitleSize\":0.035,\"fTitleColor\":1,\"fTitleFont\":42,\"fNbins\":104,\"fXmin\":0,\"fXmax\":2.55669412500104,\"fXbins\":[],\"fFirst\":0,\"fLast\":0,\"fBits2\":0,\"fTimeDisplay\":false,\"fTimeFormat\":\"\",\"fLabels\":null,\"fModLabs\":null},\"fYaxis\":{\"_typename\":\"TAxis\",\"fUniqueID\":0,\"fBits\":50331648,\"fName\":\"yaxis\",\"fTitle\":\"\",\"fNdivisions\":510,\"fAxisColor\":1,\"fLabelColor\":1,\"fLabelFont\":42,\"fLabelOffset\":0.005,\"fLabelSize\":0.035,\"fTickLength\":0.03,\"fTitleOffset\":0,\"fTitleSize\":0.035,\"fTitleColor\":1,\"fTitleFont\":42,\"fNbins\":1,\"fXmin\":0,\"fXmax\":0.125856455396939,\"fXbins\":[],\"fFirst\":0,\"fLast\":0,\"fBits2\":0,\"fTimeDisplay\":false,\"fTimeFormat\":\"\",\"fLabels\":null,\"fModLabs\":null},\"fZaxis\":{\"_typename\":\"TAxis\",\"fUniqueID\":0,\"fBits\":50331648,\"fName\":\"zaxis\",\"fTitle\":\"\",\"fNdivisions\":510,\"fAxisColor\":1,\"fLabelColor\":1,\"fLabelFont\":42,\"fLabelOffset\":0.005,\"fLabelSize\":0.035,\"fTickLength\":0.03,\"fTitleOffset\":1,\"fTitleSize\":0.035,\"fTitleColor\":1,\"fTitleFont\":42,\"fNbins\":1,\"fXmin\":0,\"fXmax\":1,\"fXbins\":[],\"fFirst\":0,\"fLast\":0,\"fBits2\":0,\"fTimeDisplay\":false,\"fTimeFormat\":\"\",\"fLabels\":null,\"fModLabs\":null},\"fBarOffset\":0,\"fBarWidth\":1000,\"fEntries\":0,\"fTsumw\":0,\"fTsumw2\":0,\"fTsumwx\":0,\"fTsumwx2\":0,\"fMaximum\":0.125856455396939,\"fMinimum\":0,\"fNormFactor\":0,\"fContour\":[],\"fSumw2\":[],\"fOption\":\"\",\"fFunctions\":{\"_typename\":\"TList\",\"name\":\"TList\",\"arr\":[],\"opt\":[]},\"fBufferSize\":0,\"fBuffer\":[],\"fBinStatErrOpt\":0,\"fStatOverflows\":2,\"fArray\":[0,0,0,0,0,0,0,0,0,0,0,0,0,0,0,0,0,0,0,0,0,0,0,0,0,0,0,0,0,0,0,0,0,0,0,0,0,0,0,0,0,0,0,0,0,0,0,0,0,0,0,0,0,0,0,0,0,0,0,0,0,0,0,0,0,0,0,0,0,0,0,0,0,0,0,0,0,0,0,0,0,0,0,0,0,0,0,0,0,0,0,0,0,0,0,0,0,0,0,0,0,0,0,0,0,0]},\"fMinimum\":-1111,\"fMaximum\":-1111,\"_yAxisLabel\":\"Projection of posteriorfunction_from_nll_simPdf_obsData_with_constr_approx\",\"_ymin\":0,\"_ymax\":0.114414959451762,\"_normValue\":0},{\"_typename\":\"RooCurve\",\"fUniqueID\":0,\"fBits\":50332680,\"fName\":\"posteriorfunction_from_nll_simPdf_obsData_with_constr_approx_Norm[SigXsecOverSM]\",\"fTitle\":\"Projection of posteriorfunction_from_nll_simPdf_obsData_with_constr_approx\",\"fLineColor\":600,\"fLineStyle\":1,\"fLineWidth\":3,\"fFillColor\":0,\"fFillStyle\":1000,\"fMarkerColor\":1,\"fMarkerStyle\":1,\"fMarkerSize\":1,\"fNpoints\":106,\"fX\":[-0.03,-0.03,0,0.03,0.06,0.09,0.12,0.15,0.18,0.21,0.24,0.27,0.3,0.33,0.36,0.39,0.42,0.45,0.48,0.51,0.54,0.57,0.6,0.63,0.66,0.69,0.72,0.75,0.78,0.81,0.84,0.87,0.9,0.93,0.96,0.99,1.02,1.05,1.08,1.11,1.14,1.17,1.2,1.23,1.26,1.29,1.32,1.35,1.38,1.41,1.44,1.47,1.5,1.53,1.56,1.59,1.62,1.65,1.68,1.71,1.74,1.77,1.8,1.83,1.86,1.89,1.92,1.95,1.98,2.01,2.04,2.07,2.1,2.13,2.16,2.19,2.22,2.25,2.28,2.31,2.34,2.37,2.4,2.43,2.46,2.49,2.52,2.55,2.58,2.61,2.64,2.67,2.7,2.73,2.76,2.79,2.82,2.85,2.88,2.91,2.94,2.97,3,3,3.03,3.03],\"fY\":[0,0.0187062640659051,0.0187062640659051,0.0206696869170323,0.0226331097681595,0.0248602097333175,0.0270873096984754,0.0295787106419549,0.0320701115854344,0.034817457680128,0.0375648037748216,0.0405513993150344,0.0435379948552471,0.0467218624930398,0.0499057301308325,0.0532630765361395,0.0566204229414464,0.0600925280155927,0.0635646330897392,0.0670797769432769,0.0705949207968146,0.0740956772779962,0.0775964337591776,0.0810043158558086,0.0844121979524396,0.0876446744718888,0.0908771509913379,0.0938568896026902,0.0968366282140424,0.0994784110601167,0.102120193906191,0.104363501778373,0.106606809650554,0.108389560600322,0.110172311550089,0.111445156047343,0.112718000544597,0.113444002842347,0.114170005140098,0.114332796432089,0.114495587724081,0.114091829429845,0.113688071135608,0.112735017950702,0.111781964765795,0.1103081414684,0.108834318171006,0.106891618272576,0.104948918374145,0.102586500934201,0.100224083494257,0.097511700945574,0.0947993183968906,0.091810197152001,0.0888210759071115,0.0856302036142234,0.0824393313213352,0.0791181473973636,0.0757969634733919,0.0724210058641452,0.0690450482548982,0.0656812708031965,0.0623174933514947,0.0590211704519806,0.0557248475524666,0.0525524297373077,0.0493800119221488,0.0463718715615008,0.0433637312008531,0.0405502858880996,0.0377368405753458,0.0351427382899115,0.0325486360044773,0.0301871127067726,0.027825589409068,0.0257021908610135,0.023578792312959,0.0216929273483202,0.0198070623836814,0.0181514772214468,0.0164958920592123,0.0150600949926054,0.0136242979259984,0.0123870575672688,0.011149817208539,0.0101002436955237,0.00905067018250849,0.00816792068822042,0.00728517119393238,0.00655012497505288,0.00581507875617338,0.00520940164219697,0.00460372452822062,0.00410923491533207,0.0036147453024435,0.00321495907264842,0.00281517284285336,0.00249498506997457,0.00217479729709579,0.00192072397011427,0.00166665064313274,0.00146687386450883,0.00126709708588492,0.00126709708588492,0.00126709708588492,0],\"fFunctions\":{\"_typename\":\"TList\",\"name\":\"TList\",\"arr\":[],\"opt\":[]},\"fHistogram\":{\"_typename\":\"TH1F\",\"fUniqueID\":0,\"fBits\":50332168,\"fName\":\"posteriorfunction_from_nll_simPdf_obsData_with_constr_approx_Norm[SigXsecOverSM]\",\"fTitle\":\"Projection of posteriorfunction_from_nll_simPdf_obsData_with_constr_approx\",\"fLineColor\":602,\"fLineStyle\":1,\"fLineWidth\":1,\"fFillColor\":0,\"fFillStyle\":1001,\"fMarkerColor\":1,\"fMarkerStyle\":1,\"fMarkerSize\":1,\"fNcells\":108,\"fXaxis\":{\"_typename\":\"TAxis\",\"fUniqueID\":0,\"fBits\":50331648,\"fName\":\"xaxis\",\"fTitle\":\"\",\"fNdivisions\":510,\"fAxisColor\":1,\"fLabelColor\":1,\"fLabelFont\":42,\"fLabelOffset\":0.005,\"fLabelSize\":0.035,\"fTickLength\":0.03,\"fTitleOffset\":1,\"fTitleSize\":0.035,\"fTitleColor\":1,\"fTitleFont\":42,\"fNbins\":106,\"fXmin\":-0.336,\"fXmax\":3.336,\"fXbins\":[],\"fFirst\":0,\"fLast\":0,\"fBits2\":0,\"fTimeDisplay\":false,\"fTimeFormat\":\"\",\"fLabels\":null,\"fModLabs\":null},\"fYaxis\":{\"_typename\":\"TAxis\",\"fUniqueID\":0,\"fBits\":50331648,\"fName\":\"yaxis\",\"fTitle\":\"\",\"fNdivisions\":510,\"fAxisColor\":1,\"fLabelColor\":1,\"fLabelFont\":42,\"fLabelOffset\":0.005,\"fLabelSize\":0.035,\"fTickLength\":0.03,\"fTitleOffset\":0,\"fTitleSize\":0.035,\"fTitleColor\":1,\"fTitleFont\":42,\"fNbins\":1,\"fXmin\":0,\"fXmax\":0.12594514649649,\"fXbins\":[],\"fFirst\":0,\"fLast\":0,\"fBits2\":0,\"fTimeDisplay\":false,\"fTimeFormat\":\"\",\"fLabels\":null,\"fModLabs\":null},\"fZaxis\":{\"_typename\":\"TAxis\",\"fUniqueID\":0,\"fBits\":50331648,\"fName\":\"zaxis\",\"fTitle\":\"\",\"fNdivisions\":510,\"fAxisColor\":1,\"fLabelColor\":1,\"fLabelFont\":42,\"fLabelOffset\":0.005,\"fLabelSize\":0.035,\"fTickLength\":0.03,\"fTitleOffset\":1,\"fTitleSize\":0.035,\"fTitleColor\":1,\"fTitleFont\":42,\"fNbins\":1,\"fXmin\":0,\"fXmax\":1,\"fXbins\":[],\"fFirst\":0,\"fLast\":0,\"fBits2\":0,\"fTimeDisplay\":false,\"fTimeFormat\":\"\",\"fLabels\":null,\"fModLabs\":null},\"fBarOffset\":0,\"fBarWidth\":1000,\"fEntries\":0,\"fTsumw\":0,\"fTsumw2\":0,\"fTsumwx\":0,\"fTsumwx2\":0,\"fMaximum\":0.12594514649649,\"fMinimum\":0,\"fNormFactor\":0,\"fContour\":[],\"fSumw2\":[],\"fOption\":\"\",\"fFunctions\":{\"_typename\":\"TList\",\"name\":\"TList\",\"arr\":[],\"opt\":[]},\"fBufferSize\":0,\"fBuffer\":[],\"fBinStatErrOpt\":0,\"fStatOverflows\":2,\"fArray\":[0,0,0,0,0,0,0,0,0,0,0,0,0,0,0,0,0,0,0,0,0,0,0,0,0,0,0,0,0,0,0,0,0,0,0,0,0,0,0,0,0,0,0,0,0,0,0,0,0,0,0,0,0,0,0,0,0,0,0,0,0,0,0,0,0,0,0,0,0,0,0,0,0,0,0,0,0,0,0,0,0,0,0,0,0,0,0,0,0,0,0,0,0,0,0,0,0,0,0,0,0,0,0,0,0,0,0,0]},\"fMinimum\":-1111,\"fMaximum\":-1111,\"_yAxisLabel\":\"Projection of posteriorfunction_from_nll_simPdf_obsData_with_constr_approx\",\"_ymin\":0,\"_ymax\":0.114495587724081,\"_normValue\":0},{\"$ref\":3},{\"_typename\":\"TPaveText\",\"fUniqueID\":0,\"fBits\":50331657,\"fLineColor\":1,\"fLineStyle\":1,\"fLineWidth\":1,\"fFillColor\":0,\"fFillStyle\":0,\"fX1\":0.187499980442225,\"fY1\":0.125327187359175,\"fX2\":2.81250001955777,\"fY2\":0.134496537529644,\"fX1NDC\":0.15,\"fY1NDC\":0.933983055615829,\"fX2NDC\":0.85,\"fY2NDC\":0.995000004768372,\"fBorderSize\":0,\"fInit\":1,\"fShadowColor\":1,\"fCornerRadius\":0,\"fOption\":\"blNDC\",\"fName\":\"title\",\"fTextAngle\":0,\"fTextSize\":0,\"fTextAlign\":22,\"fTextColor\":1,\"fTextFont\":42,\"fLabel\":\"\",\"fLongest\":50,\"fMargin\":0.05,\"fLines\":{\"_typename\":\"TList\",\"name\":\"TList\",\"arr\":[{\"_typename\":\"TLatex\",\"fUniqueID\":0,\"fBits\":50331648,\"fName\":\"\",\"fTitle\":\"Posterior probability of parameter \\\"SigXsecOverSM\\\"\",\"fTextAngle\":0,\"fTextSize\":0,\"fTextAlign\":0,\"fTextColor\":0,\"fTextFont\":0,\"fX\":0,\"fY\":0,\"fLineColor\":1,\"fLineStyle\":1,\"fLineWidth\":2,\"fLimitFactorSize\":3,\"fOriginSize\":0.0518644079566002}],\"opt\":[\"\"]}}],\"opt\":[\"\",\"FUNC\",\"f\",\"l\",\"AXISSAME\",\"blNDC\"]},\"fExecs\":null,\"fName\":\"c1\",\"fTitle\":\"c1\",\"fNumPaletteColor\":0,\"fNextPaletteColor\":0,\"fDISPLAY\":\"$DISPLAY\",\"fDoubleBuffer\":0,\"fRetained\":true,\"fXsizeUser\":0,\"fYsizeUser\":0,\"fXsizeReal\":20,\"fYsizeReal\":14.28571,\"fWindowTopX\":0,\"fWindowTopY\":0,\"fWindowWidth\":0,\"fWindowHeight\":0,\"fCw\":696,\"fCh\":472,\"fCatt\":{\"_typename\":\"TAttCanvas\",\"fXBetween\":2,\"fYBetween\":2,\"fTitleFromTop\":1.2,\"fXdate\":0.2,\"fYdate\":0.3,\"fAdate\":1},\"kMoveOpaque\":true,\"kResizeOpaque\":true,\"fHighLightColor\":2,\"fBatch\":true,\"kShowEventStatus\":false,\"kAutoExec\":true,\"kMenuBar\":true});\n",
       "       Core.draw(\"root_plot_1\", obj, \"\");\n",
       "     }\n",
       " );\n",
       "</script>\n"
      ],
      "text/plain": [
       "<IPython.core.display.HTML object>"
      ]
     },
     "metadata": {},
     "output_type": "display_data"
    }
   ],
   "source": [
    "%jsroot on\n",
    "gROOT->GetListOfCanvases()->Draw()"
   ]
  }
 ],
 "metadata": {
  "kernelspec": {
   "display_name": "ROOT C++",
   "language": "c++",
   "name": "root"
  },
  "language_info": {
   "codemirror_mode": "text/x-c++src",
   "file_extension": ".C",
   "mimetype": " text/x-c++src",
   "name": "c++"
  }
 },
 "nbformat": 4,
 "nbformat_minor": 2
}
