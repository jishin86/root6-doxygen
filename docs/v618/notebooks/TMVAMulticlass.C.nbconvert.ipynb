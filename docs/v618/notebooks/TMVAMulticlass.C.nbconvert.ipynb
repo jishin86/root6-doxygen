{
 "cells": [
  {
   "cell_type": "markdown",
   "metadata": {},
   "source": [
    "#  T M V A Multiclass\n",
    "This macro provides a simple example for the training and testing of the TMVA\n",
    "multiclass classification\n",
    "- Project   : TMVA - a Root-integrated toolkit for multivariate data analysis\n",
    "- Package   : TMVA\n",
    "- Root Macro: TMVAMulticlass\n",
    "\n",
    "\n",
    "\n",
    "**Author:** Andreas Hoecker  \n",
    "<i><small>This notebook tutorial was automatically generated with <a href= \"https://github.com/root-project/root/blob/master/documentation/doxygen/converttonotebook.py\">ROOTBOOK-izer</a> from the macro found in the ROOT repository  on Thursday, August 29, 2019 at 03:49 AM.</small></i>"
   ]
  },
  {
   "cell_type": "code",
   "execution_count": 1,
   "metadata": {
    "collapsed": false
   },
   "outputs": [],
   "source": [
    "%%cpp -d\n",
    "#include <cstdlib>\n",
    "#include <iostream>\n",
    "#include <map>\n",
    "#include <string>\n",
    "\n",
    "#include \"TFile.h\"\n",
    "#include \"TTree.h\"\n",
    "#include \"TString.h\"\n",
    "#include \"TSystem.h\"\n",
    "#include \"TROOT.h\"\n",
    "\n",
    "\n",
    "#include \"TMVA/Tools.h\"\n",
    "#include \"TMVA/Factory.h\"\n",
    "#include \"TMVA/DataLoader.h\"\n",
    "#include \"TMVA/TMVAMultiClassGui.h\"\n",
    "\n",
    "\n",
    "using namespace TMVA;"
   ]
  },
  {
   "cell_type": "markdown",
   "metadata": {},
   "source": [
    " Arguments are defined. "
   ]
  },
  {
   "cell_type": "code",
   "execution_count": 2,
   "metadata": {
    "collapsed": false
   },
   "outputs": [],
   "source": [
    "TString myMethodList = \"\";"
   ]
  },
  {
   "cell_type": "markdown",
   "metadata": {},
   "source": [
    "This loads the library"
   ]
  },
  {
   "cell_type": "code",
   "execution_count": 3,
   "metadata": {
    "collapsed": false
   },
   "outputs": [],
   "source": [
    "TMVA::Tools::Instance();"
   ]
  },
  {
   "cell_type": "markdown",
   "metadata": {},
   "source": [
    "To get access to the gui and all tmva macros\n",
    "\n",
    "     TString tmva_dir(TString(gRootDir) + \"/tmva\");\n",
    "     if(gSystem->Getenv(\"TMVASYS\"))\n",
    "        tmva_dir = TString(gSystem->Getenv(\"TMVASYS\"));\n",
    "     gROOT->SetMacroPath(tmva_dir + \"/test/:\" + gROOT->GetMacroPath() );\n",
    "     gROOT->ProcessLine(\".L TMVAMultiClassGui.C\");"
   ]
  },
  {
   "cell_type": "markdown",
   "metadata": {},
   "source": [
    "---------------------------------------------------------------\n",
    " Default MVA methods to be trained + tested"
   ]
  },
  {
   "cell_type": "code",
   "execution_count": 4,
   "metadata": {
    "collapsed": false
   },
   "outputs": [],
   "source": [
    "std::map<std::string,int> Use;\n",
    "Use[\"MLP\"]             = 1;\n",
    "Use[\"BDTG\"]            = 1;\n",
    "Use[\"DNN_CPU\"] = 0;\n",
    "Use[\"FDA_GA\"]          = 0;\n",
    "Use[\"PDEFoam\"]         = 0;"
   ]
  },
  {
   "cell_type": "markdown",
   "metadata": {},
   "source": [
    "---------------------------------------------------------------"
   ]
  },
  {
   "cell_type": "code",
   "execution_count": 5,
   "metadata": {
    "collapsed": false
   },
   "outputs": [
    {
     "name": "stdout",
     "output_type": "stream",
     "text": [
      "\n",
      "==> Start TMVAMulticlass\n"
     ]
    }
   ],
   "source": [
    "std::cout << std::endl;\n",
    "std::cout << \"==> Start TMVAMulticlass\" << std::endl;\n",
    "\n",
    "if (myMethodList != \"\") {\n",
    "   for (std::map<std::string,int>::iterator it = Use.begin(); it != Use.end(); it++) it->second = 0;\n",
    "\n",
    "   std::vector<TString> mlist = TMVA::gTools().SplitString( myMethodList, ',' );\n",
    "   for (UInt_t i=0; i<mlist.size(); i++) {\n",
    "      std::string regMethod(mlist[i]);\n",
    "\n",
    "      if (Use.find(regMethod) == Use.end()) {\n",
    "         std::cout << \"Method \\\"\" << regMethod << \"\\\" not known in TMVA under this name. Choose among the following:\" << std::endl;\n",
    "         for (std::map<std::string,int>::iterator it = Use.begin(); it != Use.end(); it++) std::cout << it->first << \" \";\n",
    "         std::cout << std::endl;\n",
    "         return;\n",
    "      }\n",
    "      Use[regMethod] = 1;\n",
    "   }\n",
    "}"
   ]
  },
  {
   "cell_type": "markdown",
   "metadata": {},
   "source": [
    "Create a new root output file."
   ]
  },
  {
   "cell_type": "code",
   "execution_count": 6,
   "metadata": {
    "collapsed": false
   },
   "outputs": [
    {
     "name": "stdout",
     "output_type": "stream",
     "text": [
      "Creating testdata....\n",
      "... event: 0 (2000)\n",
      "... event: 1000 (2000)\n",
      "======> EVENT:0\n",
      " var1            = -1.14361\n",
      " var2            = -0.822373\n",
      " var3            = -0.395426\n",
      " var4            = -0.529427\n",
      "created tree: TreeS\n",
      "... event: 0 (2000)\n",
      "... event: 1000 (2000)\n",
      "======> EVENT:0\n",
      " var1            = -1.54361\n",
      " var2            = -1.42237\n",
      " var3            = -1.39543\n",
      " var4            = -2.02943\n",
      "created tree: TreeB0\n",
      "... event: 0 (2000)\n",
      "... event: 1000 (2000)\n",
      "======> EVENT:0\n",
      " var1            = -1.54361\n",
      " var2            = -0.822373\n",
      " var3            = -0.395426\n",
      " var4            = -2.02943\n",
      "created tree: TreeB1\n",
      "======> EVENT:0\n",
      " var1            = 0.463304\n",
      " var2            = 1.37192\n",
      " var3            = -1.16769\n",
      " var4            = -1.77551\n",
      "created tree: TreeB2\n",
      "created data file: tmva_example_multiple_background.root\n",
      " created tmva_example_multiple_background.root for tests of the multiclass features\n",
      "DataSetInfo              : [dataset] : Added class \"Signal\"\n",
      "                         : Add Tree TreeS of type Signal with 2000 events\n",
      "DataSetInfo              : [dataset] : Added class \"bg0\"\n",
      "                         : Add Tree TreeB0 of type bg0 with 2000 events\n",
      "DataSetInfo              : [dataset] : Added class \"bg1\"\n",
      "                         : Add Tree TreeB1 of type bg1 with 2000 events\n",
      "DataSetInfo              : [dataset] : Added class \"bg2\"\n",
      "                         : Add Tree TreeB2 of type bg2 with 2000 events\n",
      "                         : Dataset[dataset] : Class index : 0  name : Signal\n",
      "                         : Dataset[dataset] : Class index : 1  name : bg0\n",
      "                         : Dataset[dataset] : Class index : 2  name : bg1\n",
      "                         : Dataset[dataset] : Class index : 3  name : bg2\n",
      "Factory                  : Booking method: \u001b[1mBDTG\u001b[0m\n",
      "                         : \n",
      "                         : the option NegWeightTreatment=InverseBoostNegWeights does not exist for BoostType=Grad\n",
      "                         : --> change to new default NegWeightTreatment=Pray\n",
      "DataSetFactory           : [dataset] : Number of events in input trees\n",
      "                         : \n",
      "                         : \n",
      "                         : \n",
      "                         : \n",
      "                         : Number of training and testing events\n",
      "                         : ---------------------------------------------------------------------------\n",
      "                         : Signal -- training events            : 1000\n",
      "                         : Signal -- testing events             : 1000\n",
      "                         : Signal -- training and testing events: 2000\n",
      "                         : bg0    -- training events            : 1000\n",
      "                         : bg0    -- testing events             : 1000\n",
      "                         : bg0    -- training and testing events: 2000\n",
      "                         : bg1    -- training events            : 1000\n",
      "                         : bg1    -- testing events             : 1000\n",
      "                         : bg1    -- training and testing events: 2000\n",
      "                         : bg2    -- training events            : 1000\n",
      "                         : bg2    -- testing events             : 1000\n",
      "                         : bg2    -- training and testing events: 2000\n",
      "                         : \n",
      "DataSetInfo              : Correlation matrix (Signal):\n",
      "                         : ----------------------------------------\n",
      "                         :             var1    var2    var3    var4\n",
      "                         :    var1:  +1.000  +0.397  +0.623  +0.832\n",
      "                         :    var2:  +0.397  +1.000  +0.716  +0.737\n",
      "                         :    var3:  +0.623  +0.716  +1.000  +0.859\n",
      "                         :    var4:  +0.832  +0.737  +0.859  +1.000\n",
      "                         : ----------------------------------------\n",
      "DataSetInfo              : Correlation matrix (bg0):\n",
      "                         : ----------------------------------------\n",
      "                         :             var1    var2    var3    var4\n",
      "                         :    var1:  +1.000  +0.365  +0.592  +0.811\n",
      "                         :    var2:  +0.365  +1.000  +0.708  +0.740\n",
      "                         :    var3:  +0.592  +0.708  +1.000  +0.859\n",
      "                         :    var4:  +0.811  +0.740  +0.859  +1.000\n",
      "                         : ----------------------------------------\n",
      "DataSetInfo              : Correlation matrix (bg1):\n",
      "                         : ----------------------------------------\n",
      "                         :             var1    var2    var3    var4\n",
      "                         :    var1:  +1.000  +0.407  +0.610  +0.834\n",
      "                         :    var2:  +0.407  +1.000  +0.710  +0.741\n",
      "                         :    var3:  +0.610  +0.710  +1.000  +0.851\n",
      "                         :    var4:  +0.834  +0.741  +0.851  +1.000\n",
      "                         : ----------------------------------------\n",
      "DataSetInfo              : Correlation matrix (bg2):\n",
      "                         : ----------------------------------------\n",
      "                         :             var1    var2    var3    var4\n",
      "                         :    var1:  +1.000  -0.647  -0.016  -0.013\n",
      "                         :    var2:  -0.647  +1.000  +0.015  +0.002\n",
      "                         :    var3:  -0.016  +0.015  +1.000  -0.024\n",
      "                         :    var4:  -0.013  +0.002  -0.024  +1.000\n",
      "                         : ----------------------------------------\n",
      "DataSetFactory           : [dataset] :  \n",
      "                         : \n",
      "Factory                  : Booking method: \u001b[1mMLP\u001b[0m\n",
      "                         : \n",
      "MLP                      : Building Network. \n",
      "                         : Initializing weights\n"
     ]
    }
   ],
   "source": [
    "TString outfileName = \"TMVAMulticlass.root\";\n",
    "TFile* outputFile = TFile::Open( outfileName, \"RECREATE\" );\n",
    "\n",
    "TMVA::Factory *factory = new TMVA::Factory( \"TMVAMulticlass\", outputFile,\n",
    "                                            \"!V:!Silent:Color:!DrawProgressBar:Transformations=I;D;P;G,D:AnalysisType=multiclass\" );\n",
    "TMVA::DataLoader *dataloader=new TMVA::DataLoader(\"dataset\");\n",
    "\n",
    "dataloader->AddVariable( \"var1\", 'F' );\n",
    "dataloader->AddVariable( \"var2\", \"Variable 2\", \"\", 'F' );\n",
    "dataloader->AddVariable( \"var3\", \"Variable 3\", \"units\", 'F' );\n",
    "dataloader->AddVariable( \"var4\", \"Variable 4\", \"units\", 'F' );\n",
    "\n",
    "TFile *input(0);\n",
    "TString fname = \"./tmva_example_multiple_background.root\";\n",
    "if (!gSystem->AccessPathName( fname )) {\n",
    "   // first we try to find the file in the local directory\n",
    "   std::cout << \"--- TMVAMulticlass   : Accessing \" << fname << std::endl;\n",
    "   input = TFile::Open( fname );\n",
    "}\n",
    "else {\n",
    "   std::cout << \"Creating testdata....\" << std::endl;\n",
    "   TString createDataMacro = gROOT->GetTutorialDir() + \"/tmva/createData.C\";\n",
    "   gROOT->ProcessLine(TString::Format(\".L %s\",createDataMacro.Data()));\n",
    "   gROOT->ProcessLine(\"create_MultipleBackground(2000)\");\n",
    "   std::cout << \" created tmva_example_multiple_background.root for tests of the multiclass features\"<<std::endl;\n",
    "   input = TFile::Open( fname );\n",
    "}\n",
    "if (!input) {\n",
    "   std::cout << \"ERROR: could not open data file\" << std::endl;\n",
    "   exit(1);\n",
    "}\n",
    "\n",
    "TTree *signalTree  = (TTree*)input->Get(\"TreeS\");\n",
    "TTree *background0 = (TTree*)input->Get(\"TreeB0\");\n",
    "TTree *background1 = (TTree*)input->Get(\"TreeB1\");\n",
    "TTree *background2 = (TTree*)input->Get(\"TreeB2\");\n",
    "\n",
    "gROOT->cd( outfileName+TString(\":/\") );\n",
    "dataloader->AddTree    (signalTree,\"Signal\");\n",
    "dataloader->AddTree    (background0,\"bg0\");\n",
    "dataloader->AddTree    (background1,\"bg1\");\n",
    "dataloader->AddTree    (background2,\"bg2\");\n",
    "\n",
    "dataloader->PrepareTrainingAndTestTree( \"\", \"SplitMode=Random:NormMode=NumEvents:!V\" );\n",
    "\n",
    "if (Use[\"BDTG\"]) // gradient boosted decision trees\n",
    "   factory->BookMethod( dataloader,  TMVA::Types::kBDT, \"BDTG\", \"!H:!V:NTrees=1000:BoostType=Grad:Shrinkage=0.10:UseBaggedBoost:BaggedSampleFraction=0.50:nCuts=20:MaxDepth=2\");\n",
    "if (Use[\"MLP\"]) // neural network\n",
    "   factory->BookMethod( dataloader,  TMVA::Types::kMLP, \"MLP\", \"!H:!V:NeuronType=tanh:NCycles=1000:HiddenLayers=N+5,5:TestRate=5:EstimatorType=MSE\");\n",
    "if (Use[\"FDA_GA\"]) // functional discriminant with GA minimizer\n",
    "   factory->BookMethod( dataloader,  TMVA::Types::kFDA, \"FDA_GA\", \"H:!V:Formula=(0)+(1)*x0+(2)*x1+(3)*x2+(4)*x3:ParRanges=(-1,1);(-10,10);(-10,10);(-10,10);(-10,10):FitMethod=GA:PopSize=300:Cycles=3:Steps=20:Trim=True:SaveBestGen=1\" );\n",
    "if (Use[\"PDEFoam\"]) // PDE-Foam approach\n",
    "   factory->BookMethod( dataloader,  TMVA::Types::kPDEFoam, \"PDEFoam\", \"!H:!V:TailCut=0.001:VolFrac=0.0666:nActiveCells=500:nSampl=2000:nBin=5:Nmin=100:Kernel=None:Compress=T\" );\n",
    "\n",
    "if (Use[\"DNN_CPU\"]) {\n",
    "   TString layoutString(\"Layout=TANH|100,TANH|50,TANH|10,LINEAR\");\n",
    "   TString training0(\"LearningRate=1e-1, Momentum=0.5, Repetitions=1, ConvergenceSteps=10,\"\n",
    "                     \" BatchSize=256, TestRepetitions=10, Multithreading=True\");\n",
    "   TString training1(\"LearningRate=1e-2, Momentum=0.0, Repetitions=1, ConvergenceSteps=10,\"\n",
    "                     \" BatchSize=256, TestRepetitions=7, Multithreading=True\");\n",
    "   TString trainingStrategyString(\"TrainingStrategy=\");\n",
    "   trainingStrategyString += training0 + \"|\" + training1;\n",
    "   TString nnOptions(\"!H:V:ErrorStrategy=CROSSENTROPY:VarTransform=N:\"\n",
    "                     \"WeightInitialization=XAVIERUNIFORM:Architecture=CPU\");\n",
    "   nnOptions.Append(\":\");\n",
    "   nnOptions.Append(layoutString);\n",
    "   nnOptions.Append(\":\");\n",
    "   nnOptions.Append(trainingStrategyString);\n",
    "   factory->BookMethod(dataloader, TMVA::Types::kDNN, \"DNN_CPU\", nnOptions);\n",
    "}"
   ]
  },
  {
   "cell_type": "markdown",
   "metadata": {},
   "source": [
    "Train mvas using the set of training events"
   ]
  },
  {
   "cell_type": "code",
   "execution_count": 7,
   "metadata": {
    "collapsed": false
   },
   "outputs": [
    {
     "name": "stdout",
     "output_type": "stream",
     "text": [
      "Factory                  : \u001b[1mTrain all methods\u001b[0m\n",
      "Factory                  : [dataset] : Create Transformation \"I\" with events from all classes.\n",
      "                         : \n",
      "                         : Transformation, Variable selection : \n",
      "                         : Input : variable 'var1' <---> Output : variable 'var1'\n",
      "                         : Input : variable 'var2' <---> Output : variable 'var2'\n",
      "                         : Input : variable 'var3' <---> Output : variable 'var3'\n",
      "                         : Input : variable 'var4' <---> Output : variable 'var4'\n",
      "Factory                  : [dataset] : Create Transformation \"D\" with events from all classes.\n",
      "                         : \n",
      "                         : Transformation, Variable selection : \n",
      "                         : Input : variable 'var1' <---> Output : variable 'var1'\n",
      "                         : Input : variable 'var2' <---> Output : variable 'var2'\n",
      "                         : Input : variable 'var3' <---> Output : variable 'var3'\n",
      "                         : Input : variable 'var4' <---> Output : variable 'var4'\n",
      "Factory                  : [dataset] : Create Transformation \"P\" with events from all classes.\n",
      "                         : \n",
      "                         : Transformation, Variable selection : \n",
      "                         : Input : variable 'var1' <---> Output : variable 'var1'\n",
      "                         : Input : variable 'var2' <---> Output : variable 'var2'\n",
      "                         : Input : variable 'var3' <---> Output : variable 'var3'\n",
      "                         : Input : variable 'var4' <---> Output : variable 'var4'\n",
      "Factory                  : [dataset] : Create Transformation \"G\" with events from all classes.\n",
      "                         : \n",
      "                         : Transformation, Variable selection : \n",
      "                         : Input : variable 'var1' <---> Output : variable 'var1'\n",
      "                         : Input : variable 'var2' <---> Output : variable 'var2'\n",
      "                         : Input : variable 'var3' <---> Output : variable 'var3'\n",
      "                         : Input : variable 'var4' <---> Output : variable 'var4'\n",
      "Factory                  : [dataset] : Create Transformation \"D\" with events from all classes.\n",
      "                         : \n",
      "                         : Transformation, Variable selection : \n",
      "                         : Input : variable 'var1' <---> Output : variable 'var1'\n",
      "                         : Input : variable 'var2' <---> Output : variable 'var2'\n",
      "                         : Input : variable 'var3' <---> Output : variable 'var3'\n",
      "                         : Input : variable 'var4' <---> Output : variable 'var4'\n",
      "TFHandler_Factory        : Variable        Mean        RMS   [        Min        Max ]\n",
      "                         : -----------------------------------------------------------\n",
      "                         :     var1:   0.047647     1.0025   [    -3.6592     3.2645 ]\n",
      "                         :     var2:    0.32647     1.0646   [    -3.6891     3.7877 ]\n",
      "                         :     var3:    0.11493     1.1230   [    -4.5727     4.5640 ]\n",
      "                         :     var4:  -0.076531     1.2652   [    -4.8486     5.0412 ]\n",
      "                         : -----------------------------------------------------------\n",
      "                         : Preparing the Decorrelation transformation...\n",
      "TFHandler_Factory        : Variable        Mean        RMS   [        Min        Max ]\n",
      "                         : -----------------------------------------------------------\n",
      "                         :     var1:   0.082544     1.0000   [    -3.6274     3.1017 ]\n",
      "                         :     var2:    0.36715     1.0000   [    -3.3020     3.4950 ]\n",
      "                         :     var3:   0.066865     1.0000   [    -2.9882     3.3086 ]\n",
      "                         :     var4:   -0.20593     1.0000   [    -3.3088     2.8423 ]\n",
      "                         : -----------------------------------------------------------\n",
      "                         : Preparing the Principle Component (PCA) transformation...\n",
      "TFHandler_Factory        : Variable        Mean        RMS   [        Min        Max ]\n",
      "                         : -----------------------------------------------------------\n",
      "                         :     var1: 5.7502e-10     1.8064   [    -8.0344     7.8312 ]\n",
      "                         :     var2:-1.6078e-11    0.90130   [    -2.6765     2.7523 ]\n",
      "                         :     var3: 3.0841e-10    0.73386   [    -2.6572     2.2255 ]\n",
      "                         :     var4:-2.6886e-10    0.62168   [    -1.7384     2.2297 ]\n",
      "                         : -----------------------------------------------------------\n",
      "                         : Preparing the Gaussian transformation...\n",
      "                         : Preparing the Decorrelation transformation...\n",
      "TFHandler_Factory        : Variable        Mean        RMS   [        Min        Max ]\n",
      "                         : -----------------------------------------------------------\n",
      "                         :     var1:   0.013510     1.0000   [    -2.6520     6.2074 ]\n",
      "                         :     var2:  0.0096839     1.0000   [    -2.8402     6.3073 ]\n",
      "                         :     var3:   0.010397     1.0000   [    -3.0251     5.8860 ]\n",
      "                         :     var4:  0.0053980     1.0000   [    -3.0998     5.7078 ]\n",
      "                         : -----------------------------------------------------------\n",
      "                         : Ranking input variables (method unspecific)...\n",
      "Factory                  : Train method: BDTG for Multiclass classification\n",
      "                         : \n",
      "                         : Training 1000 Decision Trees ... patience please\n",
      "                         : Elapsed time for training with 4000 events: 6.58 sec         \n",
      "                         : Dataset[dataset] : Create results for training\n",
      "                         : Dataset[dataset] : Multiclass evaluation of BDTG on training sample\n",
      "                         : Dataset[dataset] : Elapsed time for evaluation of 4000 events: 1.48 sec       \n",
      "                         : Creating multiclass response histograms...\n",
      "                         : Creating multiclass performance histograms...\n",
      "                         : Creating xml weight file: \u001b[0;36mdataset/weights/TMVAMulticlass_BDTG.weights.xml\u001b[0m\n",
      "                         : Creating standalone class: \u001b[0;36mdataset/weights/TMVAMulticlass_BDTG.class.C\u001b[0m\n",
      "                         : TMVAMulticlass.root:/dataset/Method_BDT/BDTG\n",
      "Factory                  : Training finished\n",
      "                         : \n",
      "Factory                  : Train method: MLP for Multiclass classification\n",
      "                         : \n",
      "                         : Training Network\n",
      "                         : \n",
      "                         : Elapsed time for training with 4000 events: 22.9 sec         \n",
      "                         : Dataset[dataset] : Create results for training\n",
      "                         : Dataset[dataset] : Multiclass evaluation of MLP on training sample\n",
      "                         : Dataset[dataset] : Elapsed time for evaluation of 4000 events: 0.00987 sec       \n",
      "                         : Creating multiclass response histograms...\n",
      "                         : Creating multiclass performance histograms...\n",
      "                         : Creating xml weight file: \u001b[0;36mdataset/weights/TMVAMulticlass_MLP.weights.xml\u001b[0m\n",
      "                         : Creating standalone class: \u001b[0;36mdataset/weights/TMVAMulticlass_MLP.class.C\u001b[0m\n",
      "                         : Write special histos to file: TMVAMulticlass.root:/dataset/Method_MLP/MLP\n",
      "Factory                  : Training finished\n",
      "                         : \n",
      "                         : Ranking input variables (method specific)...\n",
      "BDTG                     : Ranking result (top variable is best ranked)\n",
      "                         : --------------------------------------\n",
      "                         : Rank : Variable  : Variable Importance\n",
      "                         : --------------------------------------\n",
      "                         :    1 : var4      : 3.117e-01\n",
      "                         :    2 : var1      : 2.504e-01\n",
      "                         :    3 : var2      : 2.430e-01\n",
      "                         :    4 : var3      : 1.949e-01\n",
      "                         : --------------------------------------\n",
      "MLP                      : Ranking result (top variable is best ranked)\n",
      "                         : -----------------------------\n",
      "                         : Rank : Variable  : Importance\n",
      "                         : -----------------------------\n",
      "                         :    1 : var4      : 6.076e+01\n",
      "                         :    2 : var2      : 4.824e+01\n",
      "                         :    3 : var1      : 2.116e+01\n",
      "                         :    4 : var3      : 1.692e+01\n",
      "                         : -----------------------------\n",
      "Factory                  : === Destroy and recreate all methods via weight files for testing ===\n",
      "                         : \n",
      "                         : Reading weight file: \u001b[0;36mdataset/weights/TMVAMulticlass_BDTG.weights.xml\u001b[0m\n",
      "                         : Reading weight file: \u001b[0;36mdataset/weights/TMVAMulticlass_MLP.weights.xml\u001b[0m\n",
      "MLP                      : Building Network. \n",
      "                         : Initializing weights\n"
     ]
    }
   ],
   "source": [
    "factory->TrainAllMethods();"
   ]
  },
  {
   "cell_type": "markdown",
   "metadata": {},
   "source": [
    "Evaluate all mvas using the set of test events"
   ]
  },
  {
   "cell_type": "code",
   "execution_count": 8,
   "metadata": {
    "collapsed": false
   },
   "outputs": [
    {
     "name": "stdout",
     "output_type": "stream",
     "text": [
      "Factory                  : \u001b[1mTest all methods\u001b[0m\n",
      "Factory                  : Test method: BDTG for Multiclass classification performance\n",
      "                         : \n",
      "                         : Dataset[dataset] : Create results for testing\n",
      "                         : Dataset[dataset] : Multiclass evaluation of BDTG on testing sample\n",
      "                         : Dataset[dataset] : Elapsed time for evaluation of 4000 events: 1.03 sec       \n",
      "                         : Creating multiclass response histograms...\n",
      "                         : Creating multiclass performance histograms...\n",
      "Factory                  : Test method: MLP for Multiclass classification performance\n",
      "                         : \n",
      "                         : Dataset[dataset] : Create results for testing\n",
      "                         : Dataset[dataset] : Multiclass evaluation of MLP on testing sample\n",
      "                         : Dataset[dataset] : Elapsed time for evaluation of 4000 events: 0.00966 sec       \n",
      "                         : Creating multiclass response histograms...\n",
      "                         : Creating multiclass performance histograms...\n"
     ]
    }
   ],
   "source": [
    "factory->TestAllMethods();"
   ]
  },
  {
   "cell_type": "markdown",
   "metadata": {},
   "source": [
    "Evaluate and compare performance of all configured mvas"
   ]
  },
  {
   "cell_type": "code",
   "execution_count": 9,
   "metadata": {
    "collapsed": false
   },
   "outputs": [
    {
     "name": "stdout",
     "output_type": "stream",
     "text": [
      "Factory                  : \u001b[1mEvaluate all methods\u001b[0m\n",
      "                         : Evaluate multiclass classification method: BDTG\n",
      "                         : Creating multiclass response histograms...\n",
      "                         : Creating multiclass performance histograms...\n",
      "                         : Creating multiclass response histograms...\n",
      "                         : Creating multiclass performance histograms...\n",
      "TFHandler_BDTG           : Variable        Mean        RMS   [        Min        Max ]\n",
      "                         : -----------------------------------------------------------\n",
      "                         :     var1:   0.070153     1.0224   [    -4.0592     3.5808 ]\n",
      "                         :     var2:    0.30372     1.0460   [    -3.6952     3.7877 ]\n",
      "                         :     var3:    0.12152     1.1222   [    -3.6800     3.9200 ]\n",
      "                         :     var4:  -0.072602     1.2766   [    -4.8486     4.2221 ]\n",
      "                         : -----------------------------------------------------------\n",
      "                         : Evaluate multiclass classification method: MLP\n",
      "                         : Creating multiclass response histograms...\n",
      "                         : Creating multiclass performance histograms...\n",
      "                         : Creating multiclass response histograms...\n",
      "                         : Creating multiclass performance histograms...\n",
      "TFHandler_MLP            : Variable        Mean        RMS   [        Min        Max ]\n",
      "                         : -----------------------------------------------------------\n",
      "                         :     var1:   0.070153     1.0224   [    -4.0592     3.5808 ]\n",
      "                         :     var2:    0.30372     1.0460   [    -3.6952     3.7877 ]\n",
      "                         :     var3:    0.12152     1.1222   [    -3.6800     3.9200 ]\n",
      "                         :     var4:  -0.072602     1.2766   [    -4.8486     4.2221 ]\n",
      "                         : -----------------------------------------------------------\n",
      "                         : \n",
      "                         : 1-vs-rest performance metrics per class\n",
      "                         : -------------------------------------------------------------------------------------------------------\n",
      "                         : \n",
      "                         : Considers the listed class as signal and the other classes\n",
      "                         : as background, reporting the resulting binary performance.\n",
      "                         : A score of 0.820 (0.850) means 0.820 was acheived on the\n",
      "                         : test set and 0.850 on the training set.\n",
      "                         : \n",
      "                         : Dataset        MVA Method     ROC AUC        Sig eff@B=0.01 Sig eff@B=0.10 Sig eff@B=0.30 \n",
      "                         : Name:          / Class:       test  (train)  test  (train)  test  (train)  test  (train)  \n",
      "                         : \n",
      "                         : dataset        BDTG           \n",
      "                         : ------------------------------\n",
      "                         :                Signal         0.968 (0.978)  0.508 (0.605)  0.914 (0.945)  0.990 (0.996)  \n",
      "                         :                bg0            0.910 (0.931)  0.256 (0.288)  0.737 (0.791)  0.922 (0.956)  \n",
      "                         :                bg1            0.947 (0.954)  0.437 (0.511)  0.833 (0.856)  0.971 (0.971)  \n",
      "                         :                bg2            0.978 (0.982)  0.585 (0.678)  0.951 (0.956)  0.999 (0.996)  \n",
      "                         : \n",
      "                         : dataset        MLP            \n",
      "                         : ------------------------------\n",
      "                         :                Signal         0.970 (0.975)  0.596 (0.632)  0.933 (0.938)  0.988 (0.993)  \n",
      "                         :                bg0            0.929 (0.934)  0.303 (0.298)  0.787 (0.793)  0.949 (0.961)  \n",
      "                         :                bg1            0.962 (0.967)  0.467 (0.553)  0.881 (0.906)  0.985 (0.992)  \n",
      "                         :                bg2            0.975 (0.979)  0.629 (0.699)  0.929 (0.940)  0.998 (0.998)  \n",
      "                         : \n",
      "                         : -------------------------------------------------------------------------------------------------------\n",
      "                         : \n",
      "                         : \n",
      "                         : Confusion matrices for all methods\n",
      "                         : -------------------------------------------------------------------------------------------------------\n",
      "                         : \n",
      "                         : Does a binary comparison between the two classes given by a \n",
      "                         : particular row-column combination. In each case, the class \n",
      "                         : given by the row is considered signal while the class given \n",
      "                         : by the column index is considered background.\n",
      "                         : \n",
      "                         : === Showing confusion matrix for method : BDTG           \n",
      "                         : (Signal Efficiency for Background Efficiency 0.01%)\n",
      "                         : ---------------------------------------------------\n",
      "                         :                 Signal         bg0            bg1            bg2           \n",
      "                         :                  test (train)   test (train)   test (train)   test (train) \n",
      "                         :  Signal         -              0.497 (0.373)  0.710 (0.693)  0.680 (0.574) \n",
      "                         :  bg0            0.271 (0.184)  -              0.239 (0.145)  0.705 (0.667) \n",
      "                         :  bg1            0.855 (0.766)  0.369 (0.222)  -              0.587 (0.578) \n",
      "                         :  bg2            0.714 (0.585)  0.705 (0.581)  0.648 (0.601)  -             \n",
      "                         : \n",
      "                         : (Signal Efficiency for Background Efficiency 0.10%)\n",
      "                         : ---------------------------------------------------\n",
      "                         :                 Signal         bg0            bg1            bg2           \n",
      "                         :                  test (train)   test (train)   test (train)   test (train) \n",
      "                         :  Signal         -              0.911 (0.853)  0.991 (0.981)  0.945 (0.913) \n",
      "                         :  bg0            0.833 (0.774)  -              0.654 (0.582)  0.930 (0.901) \n",
      "                         :  bg1            0.971 (0.980)  0.716 (0.681)  -              0.871 (0.862) \n",
      "                         :  bg2            0.976 (0.951)  0.971 (0.973)  0.936 (0.941)  -             \n",
      "                         : \n",
      "                         : (Signal Efficiency for Background Efficiency 0.30%)\n",
      "                         : ---------------------------------------------------\n",
      "                         :                 Signal         bg0            bg1            bg2           \n",
      "                         :                  test (train)   test (train)   test (train)   test (train) \n",
      "                         :  Signal         -              0.978 (0.957)  0.999 (1.000)  0.998 (0.997) \n",
      "                         :  bg0            0.965 (0.926)  -              0.874 (0.835)  0.991 (0.976) \n",
      "                         :  bg1            1.000 (0.999)  0.916 (0.894)  -              0.988 (0.985) \n",
      "                         :  bg2            0.999 (0.999)  0.997 (0.999)  0.996 (0.997)  -             \n",
      "                         : \n",
      "                         : === Showing confusion matrix for method : MLP            \n",
      "                         : (Signal Efficiency for Background Efficiency 0.01%)\n",
      "                         : ---------------------------------------------------\n",
      "                         :                 Signal         bg0            bg1            bg2           \n",
      "                         :                  test (train)   test (train)   test (train)   test (train) \n",
      "                         :  Signal         -              0.465 (0.490)  0.974 (0.953)  0.632 (0.498) \n",
      "                         :  bg0            0.320 (0.269)  -              0.224 (0.250)  0.655 (0.627) \n",
      "                         :  bg1            0.943 (0.920)  0.341 (0.275)  -              0.632 (0.687) \n",
      "                         :  bg2            0.665 (0.642)  0.697 (0.680)  0.706 (0.598)  -             \n",
      "                         : \n",
      "                         : (Signal Efficiency for Background Efficiency 0.10%)\n",
      "                         : ---------------------------------------------------\n",
      "                         :                 Signal         bg0            bg1            bg2           \n",
      "                         :                  test (train)   test (train)   test (train)   test (train) \n",
      "                         :  Signal         -              0.865 (0.854)  0.996 (0.994)  0.908 (0.907) \n",
      "                         :  bg0            0.784 (0.776)  -              0.666 (0.655)  0.919 (0.895) \n",
      "                         :  bg1            0.998 (0.998)  0.791 (0.785)  -              0.912 (0.902) \n",
      "                         :  bg2            0.943 (0.903)  0.946 (0.939)  0.924 (0.928)  -             \n",
      "                         : \n",
      "                         : (Signal Efficiency for Background Efficiency 0.30%)\n",
      "                         : ---------------------------------------------------\n",
      "                         :                 Signal         bg0            bg1            bg2           \n",
      "                         :                  test (train)   test (train)   test (train)   test (train) \n",
      "                         :  Signal         -              0.978 (0.964)  0.997 (0.997)  0.993 (0.986) \n",
      "                         :  bg0            0.952 (0.924)  -              0.936 (0.928)  0.992 (0.990) \n",
      "                         :  bg1            1.000 (1.000)  0.945 (0.936)  -              0.998 (0.995) \n",
      "                         :  bg2            0.994 (0.985)  0.998 (0.998)  0.998 (0.998)  -             \n",
      "                         : \n",
      "                         : -------------------------------------------------------------------------------------------------------\n",
      "                         : \n",
      "Dataset:dataset          : Created tree 'TestTree' with 4000 events\n",
      "                         : \n",
      "Dataset:dataset          : Created tree 'TrainTree' with 4000 events\n",
      "                         : \n",
      "Factory                  : \u001b[1mThank you for using TMVA!\u001b[0m\n",
      "                         : \u001b[1mFor citation information, please visit: http://tmva.sf.net/citeTMVA.html\u001b[0m\n"
     ]
    }
   ],
   "source": [
    "factory->EvaluateAllMethods();"
   ]
  },
  {
   "cell_type": "markdown",
   "metadata": {},
   "source": [
    "--------------------------------------------------------------"
   ]
  },
  {
   "cell_type": "markdown",
   "metadata": {},
   "source": [
    "Save the output"
   ]
  },
  {
   "cell_type": "code",
   "execution_count": 10,
   "metadata": {
    "collapsed": false
   },
   "outputs": [
    {
     "name": "stdout",
     "output_type": "stream",
     "text": [
      "==> Wrote root file: TMVAMulticlass.root\n",
      "==> TMVAMulticlass is done!\n"
     ]
    }
   ],
   "source": [
    "outputFile->Close();\n",
    "\n",
    "std::cout << \"==> Wrote root file: \" << outputFile->GetName() << std::endl;\n",
    "std::cout << \"==> TMVAMulticlass is done!\" << std::endl;\n",
    "\n",
    "delete factory;\n",
    "delete dataloader;"
   ]
  },
  {
   "cell_type": "markdown",
   "metadata": {},
   "source": [
    "Launch the gui for the root macros"
   ]
  },
  {
   "cell_type": "code",
   "execution_count": 11,
   "metadata": {
    "collapsed": false
   },
   "outputs": [],
   "source": [
    "if (!gROOT->IsBatch()) TMVAMultiClassGui( outfileName );"
   ]
  }
 ],
 "metadata": {
  "kernelspec": {
   "display_name": "ROOT C++",
   "language": "c++",
   "name": "root"
  },
  "language_info": {
   "codemirror_mode": "text/x-c++src",
   "file_extension": ".C",
   "mimetype": " text/x-c++src",
   "name": "c++"
  }
 },
 "nbformat": 4,
 "nbformat_minor": 2
}
