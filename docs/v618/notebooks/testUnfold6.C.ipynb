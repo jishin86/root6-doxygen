{
 "cells": [
  {
   "cell_type": "markdown", 
   "metadata": {}, 
   "source": [
    "# Test Unfold 6\n", 
    "Test program for the class TUnfoldBinning.\n", 
    "\n", 
    "read a simple binning scheme and create/test bin maps\n", 
    "\n", 
    "\n", 
    " **Version 17.6, in parallel to changes in TUnfold**\n", 
    "\n", 
    "#### History:\n", 
    " - Version 17.5, in parallel to changes in TUnfold\n", 
    " - Version 17.4, in parallel to changes in TUnfold\n", 
    " - Version 17.3, test bin map functionality in TUnfoldBinning\n", 
    "\n", 
    " This file is part of TUnfold.\n", 
    "\n", 
    " TUnfold is free software: you can redistribute it and/or modify\n", 
    " it under the terms of the GNU General Public License as published by\n", 
    " the Free Software Foundation, either version 3 of the License, or\n", 
    " (at your option) any later version.\n", 
    "\n", 
    " TUnfold is distributed in the hope that it will be useful,\n", 
    " but WITHOUT ANY WARRANTY; without even the implied warranty of\n", 
    " MERCHANTABILITY or FITNESS FOR A PARTICULAR PURPOSE.  See the\n", 
    " GNU General Public License for more details.\n", 
    "\n", 
    " You should have received a copy of the GNU General Public License\n", 
    " along with TUnfold.  If not, see <http://www.gnu.org/licenses/>.\n", 
    "\n", 
    "\n", 
    "\n", 
    "**Author:** Stefan Schmitt DESY, 14.10.2008  \n", 
    "<i><small>This notebook tutorial was automatically generated with <a href= \"https://github.com/root-project/root/blob/master/documentation/doxygen/converttonotebook.py\">ROOTBOOK-izer</a> from the macro found in the ROOT repository  on Thursday, August 29, 2019 at 04:01 AM.</small></i>"
   ]
  }, 
  {
   "cell_type": "code", 
   "execution_count": null, 
   "metadata": {
    "collapsed": false
   }, 
   "outputs": [], 
   "source": [
    "%%cpp -d\n", 
    "#include <iostream>\n", 
    "#include <fstream>\n", 
    "#include <iomanip>\n", 
    "#include <map>\n", 
    "#include <TDOMParser.h>\n", 
    "#include <TXMLDocument.h>\n", 
    "#include \"TUnfoldBinningXML.h\"\n", 
    "\n", 
    "using namespace std;\n", 
    "\n", 
    "void PrintBinMap(TUnfoldBinning *binning,const char * where,\n", 
    "                 const Int_t *binMap);"
   ]
  }, 
  {
   "cell_type": "markdown", 
   "metadata": {}, 
   "source": [
    " A helper function is created: "
   ]
  }, 
  {
   "cell_type": "code", 
   "execution_count": null, 
   "metadata": {
    "collapsed": false
   }, 
   "outputs": [], 
   "source": [
    "%%cpp -d\n", 
    "void PrintBinMap(TUnfoldBinning *binning,const char * where,\n", 
    "                 const Int_t *binMap) {\n", 
    "\n", 
    "   cout<<\"\\n\"<<where<<\"\\n=======================\\n\";\n", 
    "   cout<<\"global bin:\";\n", 
    "   for(int i=0;i<binning->GetEndBin()+1;i++) {\n", 
    "      cout<<setw(3)<<i;\n", 
    "   }\n", 
    "   cout<<\"\\n\";\n", 
    "   cout<<\"mapped to: \";\n", 
    "   for(int i=0;i<binning->GetEndBin()+1;i++) {\n", 
    "      cout<<setw(3)<<binMap[i];\n", 
    "   }\n", 
    "   cout<<\"\\n\";\n", 
    "   map<int,vector<int> > destBin;\n", 
    "   for(int i=0;i<binning->GetEndBin()+1;i++) {\n", 
    "      destBin[binMap[i]].push_back(i);\n", 
    "   }\n", 
    "   bool printed=false;\n", 
    "   for(map<int,vector<int> >::const_iterator i=destBin.begin();i!=destBin.end();i++) {\n", 
    "      if((*i).first>=0) {\n", 
    "         if(!printed) {\n", 
    "            cout<<\"\\ndest |contributing bins\\n\"\n", 
    "                <<\"=====+======================================\\n\";\n", 
    "            printed=true;\n", 
    "         }\n", 
    "         for(size_t j=0;j<(*i).second.size();j++) {\n", 
    "            cout<<setw(4)<<(*i).first<<\" |\";\n", 
    "            cout<<setw(3)<<binning->GetBinName((*i).second[j])<<\"\\n\";\n", 
    "         }\n", 
    "         cout<<\"=====+======================================\\n\";\n", 
    "      }\n", 
    "   }\n", 
    "}"
   ]
  }, 
  {
   "cell_type": "code", 
   "execution_count": null, 
   "metadata": {
    "collapsed": false
   }, 
   "outputs": [], 
   "source": [
    "  TDOMParser parser;\n", 
    "  ofstream dtdFile(\"tunfoldbinning.dtd\");\n", 
    "  TUnfoldBinningXML::WriteDTD(dtdFile);\n", 
    "  dtdFile.close();\n", 
    "  TString dir = gSystem->UnixPathName(gSystem->DirName(__FILE__));\n", 
    "  Int_t error=parser.ParseFile(dir+\"/testUnfold6binning.xml\");\n", 
    "  if(error) cout<<\"error=\"<<error<<\" from TDOMParser\\n\";\n", 
    "  TXMLDocument const *XMLdocument=parser.GetXMLDocument();\n", 
    "  TUnfoldBinningXML *binning=\n", 
    "  TUnfoldBinningXML::ImportXML(XMLdocument,\"binning\");\n", 
    "  if(!binning) {\n", 
    "  cout<<\"error: can not read binning (document empty?)\\n\";\n", 
    "  } else {\n", 
    "  cout<<\"Binning scheme:\\n =================================\\n\";\n", 
    "  binning->PrintStream(cout);\n", 
    "  Int_t *binMap=binning->CreateEmptyBinMap();\n", 
    "  PrintBinMap(binning,\"CreateEmptyBinMap\",binMap);\n", 
    "\n", 
    "  TUnfoldBinning const *branch1=binning->FindNode(\"branch1\");\n", 
    "  branch1->FillBinMap1D(binMap,\"y[C]\",2);\n", 
    "  PrintBinMap(binning,\"branch1->FillBinMap1D(...,\\\"y[C]\\\",...,2)\",binMap);\n", 
    "\n", 
    "  delete binMap; binMap=binning->CreateEmptyBinMap();\n", 
    "  TUnfoldBinning const *branch2=binning->FindNode(\"branch2\");\n", 
    "  branch2->FillBinMap1D(binMap,\"x[C]\",7);\n", 
    "  PrintBinMap(binning,\"branch2->FillBinMap1D(...,\\\"x[C]\\\",...,7)\",binMap);\n", 
    "\n", 
    "  delete binMap; binMap=binning->CreateEmptyBinMap();\n", 
    "  binning->FillBinMap1D(binMap,\"y[C]\",1);\n", 
    "  PrintBinMap(binning,\"binning->FillBinMap1D(...,\\\"y[C]\\\",...,1)\",binMap);\n", 
    "\n", 
    "  binning->ExportXML(\"testUnfold6.out.xml\");\n", 
    "  }"
   ]
  }, 
  {
   "cell_type": "markdown", 
   "metadata": {}, 
   "source": [
    "Draw all canvases "
   ]
  }, 
  {
   "cell_type": "code", 
   "execution_count": null, 
   "metadata": {
    "collapsed": false
   }, 
   "outputs": [], 
   "source": [
    "gROOT->GetListOfCanvases()->Draw()"
   ]
  }
 ], 
 "metadata": {
  "kernelspec": {
   "display_name": "ROOT C++", 
   "language": "c++", 
   "name": "root"
  }, 
  "language_info": {
   "codemirror_mode": "text/x-c++src", 
   "file_extension": ".C", 
   "mimetype": " text/x-c++src", 
   "name": "c++"
  }
 }, 
 "nbformat": 4, 
 "nbformat_minor": 2
}