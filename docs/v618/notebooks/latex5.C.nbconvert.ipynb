{
 "cells": [
  {
   "cell_type": "markdown",
   "metadata": {},
   "source": [
    "# Latex 5\n",
    "This draws the Mathematical Symbols letters as a table and save the result\n",
    "as GIF, PS, PDF and SVG files.\n",
    "\n",
    "### png output:\n",
    "\n",
    "### pdf output:\n",
    "\n",
    "### svg output:\n",
    "\n",
    "\n",
    "\n",
    "**Author:** Rene Brun  \n",
    "<i><small>This notebook tutorial was automatically generated with <a href= \"https://github.com/root-project/root/blob/master/documentation/doxygen/converttonotebook.py\">ROOTBOOK-izer</a> from the macro found in the ROOT repository  on Thursday, August 29, 2019 at 01:41 AM.</small></i>"
   ]
  },
  {
   "cell_type": "code",
   "execution_count": 1,
   "metadata": {
    "collapsed": false
   },
   "outputs": [],
   "source": [
    "TCanvas *c1 = new TCanvas(\"mathsymb\",\"Mathematical Symbols\",600,600);\n",
    "\n",
    "TLatex l;\n",
    "l.SetTextSize(0.03);"
   ]
  },
  {
   "cell_type": "markdown",
   "metadata": {},
   "source": [
    "Draw first column"
   ]
  },
  {
   "cell_type": "code",
   "execution_count": 2,
   "metadata": {
    "collapsed": false
   },
   "outputs": [],
   "source": [
    "l.SetTextAlign(12);\n",
    "float y, step, x1, x2;\n",
    "y = 0.96; step = 0.0465; x1 = 0.02; x2 = x1+0.04;\n",
    "            l.DrawLatex(x1, y, \"#club\")           ; l.DrawText(x2, y, \"#club\");\n",
    "y -= step ; l.DrawLatex(x1, y, \"#voidn\")          ; l.DrawText(x2, y, \"#voidn\");\n",
    "y -= step ; l.DrawLatex(x1, y, \"#leq\")            ; l.DrawText(x2, y, \"#leq\");\n",
    "y -= step ; l.DrawLatex(x1, y, \"#approx\")         ; l.DrawText(x2, y, \"#approx\");\n",
    "y -= step ; l.DrawLatex(x1, y, \"#in\")             ; l.DrawText(x2, y, \"#in\");\n",
    "y -= step ; l.DrawLatex(x1, y, \"#supset\")         ; l.DrawText(x2, y, \"#supset\");\n",
    "y -= step ; l.DrawLatex(x1, y, \"#cap\")            ; l.DrawText(x2, y, \"#cap\");\n",
    "y -= step ; l.DrawLatex(x1, y, \"#ocopyright\")     ; l.DrawText(x2, y, \"#ocopyright\");\n",
    "y -= step ; l.DrawLatex(x1, y, \"#trademark\")      ; l.DrawText(x2, y, \"#trademark\");\n",
    "y -= step ; l.DrawLatex(x1, y, \"#times\")          ; l.DrawText(x2, y, \"#times\");\n",
    "y -= step ; l.DrawLatex(x1, y, \"#bullet\")         ; l.DrawText(x2, y, \"#bullet\");\n",
    "y -= step ; l.DrawLatex(x1, y, \"#voidb\")          ; l.DrawText(x2, y, \"#voidb\");\n",
    "y -= step ; l.DrawLatex(x1, y, \"#doublequote\")    ; l.DrawText(x2, y, \"#doublequote\");\n",
    "y -= step ; l.DrawLatex(x1, y, \"#lbar\")           ; l.DrawText(x2, y, \"#lbar\");\n",
    "y -= step ; l.DrawLatex(x1, y, \"#arcbottom\")      ; l.DrawText(x2, y, \"#arcbottom\");\n",
    "y -= step ; l.DrawLatex(x1, y, \"#downarrow\")      ; l.DrawText(x2, y, \"#downarrow\");\n",
    "y -= step ; l.DrawLatex(x1, y, \"#leftrightarrow\") ; l.DrawText(x2, y, \"#leftrightarrow\");\n",
    "y -= step ; l.DrawLatex(x1, y, \"#Downarrow\")      ; l.DrawText(x2, y, \"#Downarrow\");\n",
    "y -= step ; l.DrawLatex(x1, y, \"#Leftrightarrow\") ; l.DrawText(x2, y, \"#Leftrightarrow\");\n",
    "y -= step ; l.DrawLatex(x1, y, \"#void8\")          ; l.DrawText(x2, y, \"#void8\");\n",
    "y -= step ; l.DrawLatex(x1, y, \"#hbar\")           ; l.DrawText(x2, y, \"#hbar\");"
   ]
  },
  {
   "cell_type": "markdown",
   "metadata": {},
   "source": [
    "Draw second column"
   ]
  },
  {
   "cell_type": "code",
   "execution_count": 3,
   "metadata": {
    "collapsed": false
   },
   "outputs": [],
   "source": [
    "y = 0.96; step = 0.0465; x1 = 0.27; x2 = x1+0.04;\n",
    "            l.DrawLatex(x1, y, \"#diamond\")        ; l.DrawText(x2, y, \"#diamond\");\n",
    "y -= step ; l.DrawLatex(x1, y, \"#aleph\")          ; l.DrawText(x2, y, \"#aleph\");\n",
    "y -= step ; l.DrawLatex(x1, y, \"#geq\")            ; l.DrawText(x2, y, \"#geq\");\n",
    "y -= step ; l.DrawLatex(x1, y, \"#neq\")            ; l.DrawText(x2, y, \"#neq\");\n",
    "y -= step ; l.DrawLatex(x1, y, \"#notin\")          ; l.DrawText(x2, y, \"#notin\");\n",
    "y -= step ; l.DrawLatex(x1, y, \"#subseteq\")       ; l.DrawText(x2, y, \"#subseteq\");\n",
    "y -= step ; l.DrawLatex(x1, y, \"#cup\")            ; l.DrawText(x2, y, \"#cup\");\n",
    "y -= step ; l.DrawLatex(x1, y, \"#copyright\")      ; l.DrawText(x2, y, \"#copyright\");\n",
    "y -= step ; l.DrawLatex(x1, y, \"#void3\")          ; l.DrawText(x2, y, \"#void3\");\n",
    "y -= step ; l.DrawLatex(x1, y, \"#divide\")         ; l.DrawText(x2, y, \"#divide\");\n",
    "y -= step ; l.DrawLatex(x1, y, \"#circ\")           ; l.DrawText(x2, y, \"#circ\");\n",
    "y -= step ; l.DrawLatex(x1, y, \"#infty\")          ; l.DrawText(x2, y, \"#infty\");\n",
    "y -= step ; l.DrawLatex(x1, y, \"#angle\")          ; l.DrawText(x2, y, \"#angle\");\n",
    "y -= step ; l.DrawLatex(x1, y, \"#cbar\")           ; l.DrawText(x2, y, \"#cbar\");\n",
    "y -= step ; l.DrawLatex(x1, y, \"#arctop\")         ; l.DrawText(x2, y, \"#arctop\");\n",
    "y -= step ; l.DrawLatex(x1, y, \"#leftarrow\")      ; l.DrawText(x2, y, \"#leftarrow\");\n",
    "y -= step ; l.DrawLatex(x1, y, \"#otimes\")         ; l.DrawText(x2, y, \"#otimes\");\n",
    "y -= step ; l.DrawLatex(x1, y, \"#Leftarrow\")      ; l.DrawText(x2, y, \"#Leftarrow\");\n",
    "y -= step ; l.DrawLatex(x1, y, \"#prod\")           ; l.DrawText(x2, y, \"#prod\");\n",
    "y -= step ; l.DrawLatex(x1, y, \"#Box\")            ; l.DrawText(x2, y, \"#Box\");\n",
    "y -= step ; l.DrawLatex(x1, y, \"#parallel\")       ; l.DrawText(x2, y, \"#parallel\");"
   ]
  },
  {
   "cell_type": "markdown",
   "metadata": {},
   "source": [
    "Draw third column"
   ]
  },
  {
   "cell_type": "code",
   "execution_count": 4,
   "metadata": {
    "collapsed": false
   },
   "outputs": [],
   "source": [
    "y = 0.96; step = 0.0465; x1 = 0.52; x2 = x1+0.04;\n",
    "            l.DrawLatex(x1, y, \"#heart\")          ; l.DrawText(x2, y, \"#heart\");\n",
    "y -= step ; l.DrawLatex(x1, y, \"#Jgothic\")        ; l.DrawText(x2, y, \"#Jgothic\");\n",
    "y -= step ; l.DrawLatex(x1, y, \"#LT\")             ; l.DrawText(x2, y, \"#LT\");\n",
    "y -= step ; l.DrawLatex(x1, y, \"#equiv\")          ; l.DrawText(x2, y, \"#equiv\");\n",
    "y -= step ; l.DrawLatex(x1, y, \"#subset\")         ; l.DrawText(x2, y, \"#subset\");\n",
    "y -= step ; l.DrawLatex(x1, y, \"#supseteq\")       ; l.DrawText(x2, y, \"#supseteq\");\n",
    "y -= step ; l.DrawLatex(x1, y, \"#wedge\")          ; l.DrawText(x2, y, \"#wedge\");\n",
    "y -= step ; l.DrawLatex(x1, y, \"#oright\")         ; l.DrawText(x2, y, \"#oright\");\n",
    "y -= step ; l.DrawLatex(x1, y, \"#AA\")             ; l.DrawText(x2, y, \"#AA\");\n",
    "y -= step ; l.DrawLatex(x1, y, \"#pm\")             ; l.DrawText(x2, y, \"#pm\");\n",
    "y -= step ; l.DrawLatex(x1, y, \"#3dots\")          ; l.DrawText(x2, y, \"#3dots\");\n",
    "y -= step ; l.DrawLatex(x1, y, \"#nabla\")          ; l.DrawText(x2, y, \"#nabla\");\n",
    "y -= step ; l.DrawLatex(x1, y, \"#downleftarrow\")  ; l.DrawText(x2, y, \"#downleftarrow\");\n",
    "y -= step ; l.DrawLatex(x1, y, \"#topbar\")         ; l.DrawText(x2, y, \"#topbar\");\n",
    "y -= step ; l.DrawLatex(x1, y, \"#arcbar\")         ; l.DrawText(x2, y, \"#arcbar\");\n",
    "y -= step ; l.DrawLatex(x1, y, \"#uparrow\")        ; l.DrawText(x2, y, \"#uparrow\");\n",
    "y -= step ; l.DrawLatex(x1, y, \"#oplus\")          ; l.DrawText(x2, y, \"#oplus\");\n",
    "y -= step ; l.DrawLatex(x1, y, \"#Uparrow\")        ; l.DrawText(x2, y, \"#Uparrow\");\n",
    "y -= step ; l.DrawLatex(x1, y-0.01, \"#sum\")       ; l.DrawText(x2, y, \"#sum\");\n",
    "y -= step ; l.DrawLatex(x1, y, \"#perp\")           ; l.DrawText(x2, y, \"#perp\");"
   ]
  },
  {
   "cell_type": "markdown",
   "metadata": {},
   "source": [
    "Draw fourth column"
   ]
  },
  {
   "cell_type": "code",
   "execution_count": 5,
   "metadata": {
    "collapsed": false
   },
   "outputs": [],
   "source": [
    "y = 0.96; step = 0.0465; x1 = 0.77; x2 = x1+0.04;\n",
    "            l.DrawLatex(x1, y, \"#spade\")          ; l.DrawText(x2, y, \"#spade\");\n",
    "y -= step ; l.DrawLatex(x1, y, \"#Rgothic\")        ; l.DrawText(x2, y, \"#Rgothic\");\n",
    "y -= step ; l.DrawLatex(x1, y, \"#GT\")             ; l.DrawText(x2, y, \"#GT\");\n",
    "y -= step ; l.DrawLatex(x1, y, \"#propto\")         ; l.DrawText(x2, y, \"#propto\");\n",
    "y -= step ; l.DrawLatex(x1, y, \"#notsubset\")      ; l.DrawText(x2, y, \"#notsubset\");\n",
    "y -= step ; l.DrawLatex(x1, y, \"#oslash\")         ; l.DrawText(x2, y, \"#oslash\");\n",
    "y -= step ; l.DrawLatex(x1, y, \"#vee\")            ; l.DrawText(x2, y, \"#vee\");\n",
    "y -= step ; l.DrawLatex(x1, y, \"#void1\")          ; l.DrawText(x2, y, \"#void1\");\n",
    "y -= step ; l.DrawLatex(x1, y, \"#aa\")             ; l.DrawText(x2, y, \"#aa\");\n",
    "y -= step ; l.DrawLatex(x1, y, \"#/\")              ; l.DrawText(x2, y, \"#/\");\n",
    "y -= step ; l.DrawLatex(x1, y, \"#upoint\")         ; l.DrawText(x2, y, \"#upoint\");\n",
    "y -= step ; l.DrawLatex(x1, y, \"#partial\")        ; l.DrawText(x2, y, \"#partial\");\n",
    "y -= step ; l.DrawLatex(x1, y, \"#corner\")         ; l.DrawText(x2, y, \"#corner\");\n",
    "y -= step ; l.DrawLatex(x1, y, \"#ltbar\")          ; l.DrawText(x2, y, \"#ltbar\");\n",
    "y -= step ; l.DrawLatex(x1, y, \"#bottombar\")      ; l.DrawText(x2, y, \"#bottombar\");\n",
    "y -= step ; l.DrawLatex(x1, y, \"#rightarrow\")     ; l.DrawText(x2, y, \"#rightarrow\");\n",
    "y -= step ; l.DrawLatex(x1, y, \"#surd\")           ; l.DrawText(x2, y, \"#surd\");\n",
    "y -= step ; l.DrawLatex(x1, y, \"#Rightarrow\")     ; l.DrawText(x2, y, \"#Rightarrow\");\n",
    "y -= step ; l.DrawLatex(x1, y-0.015, \"#int\")      ; l.DrawText(x2, y, \"#int\");\n",
    "y -= step ; l.DrawLatex(x1, y, \"#odot\")           ; l.DrawText(x2, y, \"#odot\");"
   ]
  },
  {
   "cell_type": "markdown",
   "metadata": {},
   "source": [
    "Save the picture in various formats"
   ]
  },
  {
   "cell_type": "code",
   "execution_count": 6,
   "metadata": {
    "collapsed": false
   },
   "outputs": [
    {
     "name": "stderr",
     "output_type": "stream",
     "text": [
      "Info in <TCanvas::Print>: ps file mathsymb.ps has been created\n",
      "Info in <TCanvas::Print>: gif file mathsymb.gif has been created\n",
      "Info in <TCanvas::Print>: pdf file mathsymb.pdf has been created\n",
      "Info in <TCanvas::Print>: SVG file mathsymb.svg has been created\n"
     ]
    }
   ],
   "source": [
    "c1->Print(\"mathsymb.ps\");\n",
    "c1->Print(\"mathsymb.gif\");\n",
    "c1->Print(\"mathsymb.pdf\");\n",
    "c1->Print(\"mathsymb.svg\");"
   ]
  },
  {
   "cell_type": "markdown",
   "metadata": {},
   "source": [
    "Draw all canvases "
   ]
  },
  {
   "cell_type": "code",
   "execution_count": 7,
   "metadata": {
    "collapsed": false
   },
   "outputs": [
    {
     "data": {
      "image/png": "[encoded data removed]",
      "text/plain": [
       "<IPython.core.display.Image object>"
      ]
     },
     "metadata": {},
     "output_type": "display_data"
    }
   ],
   "source": [
    "gROOT->GetListOfCanvases()->Draw()"
   ]
  }
 ],
 "metadata": {
  "kernelspec": {
   "display_name": "ROOT C++",
   "language": "c++",
   "name": "root"
  },
  "language_info": {
   "codemirror_mode": "text/x-c++src",
   "file_extension": ".C",
   "mimetype": " text/x-c++src",
   "name": "c++"
  }
 },
 "nbformat": 4,
 "nbformat_minor": 2
}
