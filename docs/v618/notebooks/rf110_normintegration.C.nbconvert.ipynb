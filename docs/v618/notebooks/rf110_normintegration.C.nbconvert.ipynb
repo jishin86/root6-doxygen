{
 "cells": [
  {
   "cell_type": "markdown",
   "metadata": {},
   "source": [
    "# Rf 1 1 0_Normintegration\n",
    "Basic functionality: normalization and integration of p.d.fs, construction of cumulative distribution\n",
    "monodimensional functions\n",
    "\n",
    "\n",
    "\n",
    "**Author:** 07/2008 - Wouter Verkerke  \n",
    "<i><small>This notebook tutorial was automatically generated with <a href= \"https://github.com/root-project/root/blob/master/documentation/doxygen/converttonotebook.py\">ROOTBOOK-izer</a> from the macro found in the ROOT repository  on Thursday, August 29, 2019 at 02:42 AM.</small></i>"
   ]
  },
  {
   "cell_type": "code",
   "execution_count": 1,
   "metadata": {
    "collapsed": false
   },
   "outputs": [],
   "source": [
    "%%cpp -d\n",
    "#include \"RooRealVar.h\"\n",
    "#include \"RooGaussian.h\"\n",
    "#include \"RooConstVar.h\"\n",
    "#include \"RooAbsReal.h\"\n",
    "#include \"RooPlot.h\"\n",
    "#include \"TCanvas.h\"\n",
    "#include \"TAxis.h\""
   ]
  },
  {
   "cell_type": "code",
   "execution_count": 2,
   "metadata": {
    "collapsed": false
   },
   "outputs": [],
   "source": [
    "%%cpp -d\n",
    "// This is a workaround to make sure the namespace is used inside functions\n",
    "using namespace RooFit;"
   ]
  },
  {
   "cell_type": "markdown",
   "metadata": {},
   "source": [
    "Setup model\n",
    " ---------------------"
   ]
  },
  {
   "cell_type": "markdown",
   "metadata": {},
   "source": [
    "Create observables x,y"
   ]
  },
  {
   "cell_type": "code",
   "execution_count": 3,
   "metadata": {
    "collapsed": false
   },
   "outputs": [
    {
     "name": "stdout",
     "output_type": "stream",
     "text": [
      "\n",
      "\u001b[1mRooFit v3.60 -- Developed by Wouter Verkerke and David Kirkby\u001b[0m \n",
      "                Copyright (C) 2000-2013 NIKHEF, University of California & Stanford University\n",
      "                All rights reserved, please read http://roofit.sourceforge.net/license.txt\n",
      "\n"
     ]
    }
   ],
   "source": [
    "RooRealVar x(\"x\", \"x\", -10, 10);"
   ]
  },
  {
   "cell_type": "markdown",
   "metadata": {},
   "source": [
    "Create p.d.f. gaussx(x,-2,3)"
   ]
  },
  {
   "cell_type": "code",
   "execution_count": 4,
   "metadata": {
    "collapsed": false
   },
   "outputs": [],
   "source": [
    "RooGaussian gx(\"gx\", \"gx\", x, RooConst(-2), RooConst(3));"
   ]
  },
  {
   "cell_type": "markdown",
   "metadata": {},
   "source": [
    "Retrieve raw & normalized values of roofit p.d.f.s\n",
    " --------------------------------------------------------------------------------------------------"
   ]
  },
  {
   "cell_type": "markdown",
   "metadata": {},
   "source": [
    "Return 'raw' unnormalized value of gx"
   ]
  },
  {
   "cell_type": "code",
   "execution_count": 5,
   "metadata": {
    "collapsed": false
   },
   "outputs": [
    {
     "name": "stdout",
     "output_type": "stream",
     "text": [
      "gx = 0.800737\n"
     ]
    }
   ],
   "source": [
    "cout << \"gx = \" << gx.getVal() << endl;"
   ]
  },
  {
   "cell_type": "markdown",
   "metadata": {},
   "source": [
    "Return value of gx normalized over x in range [-10,10]"
   ]
  },
  {
   "cell_type": "code",
   "execution_count": 6,
   "metadata": {
    "collapsed": false
   },
   "outputs": [
    {
     "name": "stdout",
     "output_type": "stream",
     "text": [
      "gx_Norm[x] = 0.106896\n"
     ]
    }
   ],
   "source": [
    "RooArgSet nset(x);\n",
    "cout << \"gx_Norm[x] = \" << gx.getVal(&nset) << endl;"
   ]
  },
  {
   "cell_type": "markdown",
   "metadata": {},
   "source": [
    "Create object representing integral over gx\n",
    " which is used to calculate  gx_Norm[x] == gx / gx_Int[x]"
   ]
  },
  {
   "cell_type": "code",
   "execution_count": 7,
   "metadata": {
    "collapsed": false
   },
   "outputs": [
    {
     "name": "stdout",
     "output_type": "stream",
     "text": [
      "gx_Int[x] = 7.49084\n"
     ]
    }
   ],
   "source": [
    "RooAbsReal *igx = gx.createIntegral(x);\n",
    "cout << \"gx_Int[x] = \" << igx->getVal() << endl;"
   ]
  },
  {
   "cell_type": "markdown",
   "metadata": {},
   "source": [
    "Integrate normalized pdf over subrange\n",
    " ----------------------------------------------------------------------------"
   ]
  },
  {
   "cell_type": "markdown",
   "metadata": {},
   "source": [
    "Define a range named \"signal\" in x from -5,5"
   ]
  },
  {
   "cell_type": "code",
   "execution_count": 8,
   "metadata": {
    "collapsed": false
   },
   "outputs": [
    {
     "name": "stdout",
     "output_type": "stream",
     "text": [
      "[#1] INFO:Eval -- RooRealVar::setRange(x) new range named 'signal' created with bounds [-5,5]\n"
     ]
    }
   ],
   "source": [
    "x.setRange(\"signal\", -5, 5);"
   ]
  },
  {
   "cell_type": "markdown",
   "metadata": {},
   "source": [
    "Create an integral of gx_norm[x] over x in range \"signal\"\n",
    " This is the fraction of of p.d.f. gx_Norm[x] which is in the\n",
    " range named \"signal\""
   ]
  },
  {
   "cell_type": "code",
   "execution_count": 9,
   "metadata": {
    "collapsed": false
   },
   "outputs": [
    {
     "name": "stdout",
     "output_type": "stream",
     "text": [
      "gx_Int[x|signal]_Norm[x] = 0.834753\n"
     ]
    }
   ],
   "source": [
    "RooAbsReal *igx_sig = gx.createIntegral(x, NormSet(x), Range(\"signal\"));\n",
    "cout << \"gx_Int[x|signal]_Norm[x] = \" << igx_sig->getVal() << endl;"
   ]
  },
  {
   "cell_type": "markdown",
   "metadata": {},
   "source": [
    "Construct cumulative distribution function from pdf\n",
    " -----------------------------------------------------------------------------------------------------"
   ]
  },
  {
   "cell_type": "markdown",
   "metadata": {},
   "source": [
    "Create the cumulative distribution function of gx\n",
    " i.e. calculate Int[-10,x] gx(x') dx'"
   ]
  },
  {
   "cell_type": "code",
   "execution_count": 10,
   "metadata": {
    "collapsed": false
   },
   "outputs": [],
   "source": [
    "RooAbsReal *gx_cdf = gx.createCdf(x);"
   ]
  },
  {
   "cell_type": "markdown",
   "metadata": {},
   "source": [
    "Plot cdf of gx versus x"
   ]
  },
  {
   "cell_type": "code",
   "execution_count": 11,
   "metadata": {
    "collapsed": false
   },
   "outputs": [],
   "source": [
    "RooPlot *frame = x.frame(Title(\"c.d.f of Gaussian p.d.f\"));\n",
    "gx_cdf->plotOn(frame);"
   ]
  },
  {
   "cell_type": "markdown",
   "metadata": {},
   "source": [
    "Draw plot on canvas"
   ]
  },
  {
   "cell_type": "code",
   "execution_count": 12,
   "metadata": {
    "collapsed": false
   },
   "outputs": [],
   "source": [
    "new TCanvas(\"rf110_normintegration\", \"rf110_normintegration\", 600, 600);\n",
    "gPad->SetLeftMargin(0.15);\n",
    "frame->GetYaxis()->SetTitleOffset(1.6);\n",
    "frame->Draw();"
   ]
  },
  {
   "cell_type": "markdown",
   "metadata": {},
   "source": [
    "Draw all canvases "
   ]
  },
  {
   "cell_type": "code",
   "execution_count": 13,
   "metadata": {
    "collapsed": false
   },
   "outputs": [
    {
     "data": {
      "text/html": [
       "\n",
       "<div id=\"root_plot_1\"\n",
       "     style=\"width: 596px; height: 572px\">\n",
       "</div>\n",
       "\n",
       "<script>\n",
       " requirejs.config({\n",
       "     paths: {\n",
       "       'JSRootCore' : 'https://root.cern.ch/js/notebook//scripts/JSRootCore',\n",
       "     }\n",
       "   });\n",
       " require(['JSRootCore'],\n",
       "     function(Core) {\n",
       "       var obj = Core.JSONR_unref({\"_typename\":\"TCanvas\",\"fUniqueID\":0,\"fBits\":53673992,\"fLineColor\":1,\"fLineStyle\":1,\"fLineWidth\":1,\"fFillColor\":0,\"fFillStyle\":1001,\"fLeftMargin\":0.15,\"fRightMargin\":0.1,\"fBottomMargin\":0.1,\"fTopMargin\":0.1,\"fXfile\":2,\"fYfile\":2,\"fAfile\":1,\"fXstat\":0.99,\"fYstat\":0.99,\"fAstat\":2,\"fFrameFillColor\":0,\"fFrameLineColor\":1,\"fFrameFillStyle\":1001,\"fFrameLineStyle\":1,\"fFrameLineWidth\":1,\"fFrameBorderSize\":1,\"fFrameBorderMode\":0,\"fX1\":-14.0000001589457,\"fY1\":-0.131250009778888,\"fX2\":12.6666667064031,\"fY2\":1.18125000977889,\"fXtoAbsPixelk\":312.90005122115,\"fXtoPixelk\":312.90005122115,\"fXtoPixel\":22.3499998334795,\"fYtoAbsPixelk\":514.800046590614,\"fYtoPixelk\":514.800046590614,\"fYtoPixel\":-435.809517315456,\"fUtoAbsPixelk\":5e-5,\"fUtoPixelk\":5e-5,\"fUtoPixel\":596,\"fVtoAbsPixelk\":572.00005,\"fVtoPixelk\":572,\"fVtoPixel\":-572,\"fAbsPixeltoXk\":-14.0000001589457,\"fPixeltoXk\":-14.0000001589457,\"fPixeltoX\":0.044742729639847,\"fAbsPixeltoYk\":1.18125000977889,\"fPixeltoYk\":-0.131250009778888,\"fPixeltoY\":-0.00229458045377233,\"fXlowNDC\":0,\"fYlowNDC\":0,\"fXUpNDC\":0,\"fYUpNDC\":0,\"fWNDC\":1,\"fHNDC\":1,\"fAbsXlowNDC\":0,\"fAbsYlowNDC\":0,\"fAbsWNDC\":1,\"fAbsHNDC\":1,\"fUxmin\":-10,\"fUymin\":0,\"fUxmax\":10,\"fUymax\":1.05,\"fTheta\":30,\"fPhi\":30,\"fAspectRatio\":0,\"fNumber\":0,\"fTickx\":0,\"fTicky\":0,\"fLogx\":0,\"fLogy\":0,\"fLogz\":0,\"fPadPaint\":0,\"fCrosshair\":0,\"fCrosshairPos\":0,\"fBorderSize\":2,\"fBorderMode\":0,\"fModified\":false,\"fGridx\":false,\"fGridy\":false,\"fAbsCoord\":false,\"fEditable\":true,\"fFixedAspectRatio\":false,\"fPrimitives\":{\"_typename\":\"TList\",\"name\":\"TList\",\"arr\":[{\"_typename\":\"TFrame\",\"fUniqueID\":0,\"fBits\":50331656,\"fLineColor\":1,\"fLineStyle\":1,\"fLineWidth\":1,\"fFillColor\":0,\"fFillStyle\":1001,\"fX1\":-10,\"fY1\":0,\"fX2\":10,\"fY2\":1.05,\"fBorderSize\":1,\"fBorderMode\":0},{\"_typename\":\"TH1D\",\"fUniqueID\":0,\"fBits\":50332168,\"fName\":\"frame_7fa0784b9d60\",\"fTitle\":\"c.d.f of Gaussian p.d.f\",\"fLineColor\":602,\"fLineStyle\":1,\"fLineWidth\":1,\"fFillColor\":0,\"fFillStyle\":1001,\"fMarkerColor\":1,\"fMarkerStyle\":1,\"fMarkerSize\":1,\"fNcells\":102,\"fXaxis\":{\"_typename\":\"TAxis\",\"fUniqueID\":0,\"fBits\":50331648,\"fName\":\"xaxis\",\"fTitle\":\"x\",\"fNdivisions\":510,\"fAxisColor\":1,\"fLabelColor\":1,\"fLabelFont\":42,\"fLabelOffset\":0.005,\"fLabelSize\":0.035,\"fTickLength\":0.03,\"fTitleOffset\":1,\"fTitleSize\":0.035,\"fTitleColor\":1,\"fTitleFont\":42,\"fNbins\":100,\"fXmin\":-10,\"fXmax\":10,\"fXbins\":[],\"fFirst\":0,\"fLast\":0,\"fBits2\":0,\"fTimeDisplay\":false,\"fTimeFormat\":\"\",\"fLabels\":null,\"fModLabs\":null},\"fYaxis\":{\"_typename\":\"TAxis\",\"fUniqueID\":0,\"fBits\":50331648,\"fName\":\"yaxis\",\"fTitle\":\"Projection of Integral of gx\",\"fNdivisions\":510,\"fAxisColor\":1,\"fLabelColor\":1,\"fLabelFont\":42,\"fLabelOffset\":0.005,\"fLabelSize\":0.035,\"fTickLength\":0.03,\"fTitleOffset\":1.6,\"fTitleSize\":0.035,\"fTitleColor\":1,\"fTitleFont\":42,\"fNbins\":1,\"fXmin\":0,\"fXmax\":1,\"fXbins\":[],\"fFirst\":0,\"fLast\":0,\"fBits2\":0,\"fTimeDisplay\":false,\"fTimeFormat\":\"\",\"fLabels\":null,\"fModLabs\":null},\"fZaxis\":{\"_typename\":\"TAxis\",\"fUniqueID\":0,\"fBits\":50331648,\"fName\":\"zaxis\",\"fTitle\":\"\",\"fNdivisions\":510,\"fAxisColor\":1,\"fLabelColor\":1,\"fLabelFont\":42,\"fLabelOffset\":0.005,\"fLabelSize\":0.035,\"fTickLength\":0.03,\"fTitleOffset\":1,\"fTitleSize\":0.035,\"fTitleColor\":1,\"fTitleFont\":42,\"fNbins\":1,\"fXmin\":0,\"fXmax\":1,\"fXbins\":[],\"fFirst\":0,\"fLast\":0,\"fBits2\":0,\"fTimeDisplay\":false,\"fTimeFormat\":\"\",\"fLabels\":null,\"fModLabs\":null},\"fBarOffset\":0,\"fBarWidth\":1000,\"fEntries\":1,\"fTsumw\":0,\"fTsumw2\":0,\"fTsumwx\":0,\"fTsumwx2\":0,\"fMaximum\":1.05,\"fMinimum\":-1111,\"fNormFactor\":0,\"fContour\":[],\"fSumw2\":[],\"fOption\":\"\",\"fFunctions\":{\"_typename\":\"TList\",\"name\":\"TList\",\"arr\":[],\"opt\":[]},\"fBufferSize\":0,\"fBuffer\":[],\"fBinStatErrOpt\":0,\"fStatOverflows\":2,\"fArray\":[0,1.05,0,0,0,0,0,0,0,0,0,0,0,0,0,0,0,0,0,0,0,0,0,0,0,0,0,0,0,0,0,0,0,0,0,0,0,0,0,0,0,0,0,0,0,0,0,0,0,0,0,0,0,0,0,0,0,0,0,0,0,0,0,0,0,0,0,0,0,0,0,0,0,0,0,0,0,0,0,0,0,0,0,0,0,0,0,0,0,0,0,0,0,0,0,0,0,0,0,0,0,0]},{\"_typename\":\"RooCurve\",\"fUniqueID\":0,\"fBits\":50332680,\"fName\":\"gx_cdf_Int[x_prime|CDF]_Norm[x_prime]_Norm[x]\",\"fTitle\":\"Projection of Integral of gx\",\"fLineColor\":600,\"fLineStyle\":1,\"fLineWidth\":3,\"fFillColor\":0,\"fFillStyle\":1000,\"fMarkerColor\":1,\"fMarkerStyle\":1,\"fMarkerSize\":1,\"fNpoints\":106,\"fX\":[-10.2,-10.2,-10,-9.8,-9.6,-9.4,-9.2,-9,-8.8,-8.6,-8.4,-8.2,-8,-7.8,-7.6,-7.4,-7.2,-7,-6.8,-6.6,-6.4,-6.2,-6,-5.8,-5.6,-5.4,-5.2,-5,-4.8,-4.6,-4.4,-4.2,-4,-3.8,-3.6,-3.4,-3.2,-3,-2.8,-2.6,-2.4,-2.2,-2,-1.8,-1.6,-1.4,-1.2,-1,-0.799999999999999,-0.6,-0.399999999999999,-0.199999999999999,0,0.200000000000001,0.4,0.600000000000001,0.800000000000001,1,1.2,1.4,1.6,1.8,2,2.2,2.4,2.6,2.8,3,3.2,3.4,3.6,3.8,4,4.2,4.4,4.6,4.8,5,5.2,5.4,5.6,5.8,6,6.2,6.4,6.6,6.8,7,7.2,7.4,7.6,7.8,8,8.2,8.4,8.6,8.8,9,9.2,9.4,9.6,9.8,10,10,10.2,10.2],\"fY\":[0,0,0,8.34028517474032e-4,0.00182584369090108,0.00300006812110186,0.00438408692785881,0.00600815185479772,0.0079054487656784,0.0101121204791023,0.0126672367798817,0.015612703591384,0.0189931037312212,0.0228554624334663,0.0272489319260005,0.0322243908121798,0.0378339558187167,0.0441304056180929,0.051166518878786,0.0589943313875983,0.0676643199557147,0.0772245237779699,0.087719616863307,0.099189947982629,0.111670567170117,0.125190260045155,0.13977061297667,0.155425133281085,0.172158449134628,0.189965613616112,0.208831536228162,0.228730563353277,0.249626226398676,0.271471172917054,0.294207291840058,0.317766039240503,0.342068965890752,0.367028442474542,0.392548572822391,0.418526280170932,0.44485254639051,0.47141377957243,0.498093281491456,0.524772783410482,0.551334016592401,0.577660282811979,0.603637990160521,0.629158120508369,0.65411759709216,0.678420523742409,0.701979271142854,0.724715390065857,0.746560336584236,0.767455999629634,0.78735502675475,0.8062209493668,0.824028113848284,0.840761429701826,0.856415950006242,0.870996302937757,0.884515995812794,0.896996615000282,0.908466946119604,0.918962039204942,0.928522243027197,0.937192231595313,0.945020044104125,0.952056157364819,0.958352607164195,0.963962172170732,0.968937631056911,0.973331100549445,0.97719345925169,0.980573859391528,0.98351932620303,0.986074442503809,0.988281114217233,0.990178411128114,0.991802476055053,0.99318649486181,0.99436071929201,0.995352534465437,0.996186562982912,0.996884797909256,0.997466757397228,0.997949654337062,0.998348575125937,0.998676662411876,0.998945297444527,0.999164278432744,0.999341992043097,0.999485575856672,0.999601070221162,0.999693558483142,0.999767295057694,0.999825821188534,0.99987206857388,0.999908451285991,0.999936946601537,0.999959165492926,0.999976413614965,0.999989743664444,1,1,1,0],\"fFunctions\":{\"_typename\":\"TList\",\"name\":\"TList\",\"arr\":[],\"opt\":[]},\"fHistogram\":{\"_typename\":\"TH1F\",\"fUniqueID\":0,\"fBits\":50332168,\"fName\":\"gx_cdf_Int[x_prime|CDF]_Norm[x_prime]_Norm[x]\",\"fTitle\":\"Projection of Integral of gx\",\"fLineColor\":602,\"fLineStyle\":1,\"fLineWidth\":1,\"fFillColor\":0,\"fFillStyle\":1001,\"fMarkerColor\":1,\"fMarkerStyle\":1,\"fMarkerSize\":1,\"fNcells\":108,\"fXaxis\":{\"_typename\":\"TAxis\",\"fUniqueID\":0,\"fBits\":50331648,\"fName\":\"xaxis\",\"fTitle\":\"\",\"fNdivisions\":510,\"fAxisColor\":1,\"fLabelColor\":1,\"fLabelFont\":42,\"fLabelOffset\":0.005,\"fLabelSize\":0.035,\"fTickLength\":0.03,\"fTitleOffset\":1,\"fTitleSize\":0.035,\"fTitleColor\":1,\"fTitleFont\":42,\"fNbins\":106,\"fXmin\":-12.24,\"fXmax\":12.24,\"fXbins\":[],\"fFirst\":0,\"fLast\":0,\"fBits2\":0,\"fTimeDisplay\":false,\"fTimeFormat\":\"\",\"fLabels\":null,\"fModLabs\":null},\"fYaxis\":{\"_typename\":\"TAxis\",\"fUniqueID\":0,\"fBits\":50331648,\"fName\":\"yaxis\",\"fTitle\":\"\",\"fNdivisions\":510,\"fAxisColor\":1,\"fLabelColor\":1,\"fLabelFont\":42,\"fLabelOffset\":0.005,\"fLabelSize\":0.035,\"fTickLength\":0.03,\"fTitleOffset\":0,\"fTitleSize\":0.035,\"fTitleColor\":1,\"fTitleFont\":42,\"fNbins\":1,\"fXmin\":0,\"fXmax\":1.1,\"fXbins\":[],\"fFirst\":0,\"fLast\":0,\"fBits2\":0,\"fTimeDisplay\":false,\"fTimeFormat\":\"\",\"fLabels\":null,\"fModLabs\":null},\"fZaxis\":{\"_typename\":\"TAxis\",\"fUniqueID\":0,\"fBits\":50331648,\"fName\":\"zaxis\",\"fTitle\":\"\",\"fNdivisions\":510,\"fAxisColor\":1,\"fLabelColor\":1,\"fLabelFont\":42,\"fLabelOffset\":0.005,\"fLabelSize\":0.035,\"fTickLength\":0.03,\"fTitleOffset\":1,\"fTitleSize\":0.035,\"fTitleColor\":1,\"fTitleFont\":42,\"fNbins\":1,\"fXmin\":0,\"fXmax\":1,\"fXbins\":[],\"fFirst\":0,\"fLast\":0,\"fBits2\":0,\"fTimeDisplay\":false,\"fTimeFormat\":\"\",\"fLabels\":null,\"fModLabs\":null},\"fBarOffset\":0,\"fBarWidth\":1000,\"fEntries\":0,\"fTsumw\":0,\"fTsumw2\":0,\"fTsumwx\":0,\"fTsumwx2\":0,\"fMaximum\":1.1,\"fMinimum\":0,\"fNormFactor\":0,\"fContour\":[],\"fSumw2\":[],\"fOption\":\"\",\"fFunctions\":{\"_typename\":\"TList\",\"name\":\"TList\",\"arr\":[],\"opt\":[]},\"fBufferSize\":0,\"fBuffer\":[],\"fBinStatErrOpt\":0,\"fStatOverflows\":2,\"fArray\":[0,0,0,0,0,0,0,0,0,0,0,0,0,0,0,0,0,0,0,0,0,0,0,0,0,0,0,0,0,0,0,0,0,0,0,0,0,0,0,0,0,0,0,0,0,0,0,0,0,0,0,0,0,0,0,0,0,0,0,0,0,0,0,0,0,0,0,0,0,0,0,0,0,0,0,0,0,0,0,0,0,0,0,0,0,0,0,0,0,0,0,0,0,0,0,0,0,0,0,0,0,0,0,0,0,0,0,0]},\"fMinimum\":-1111,\"fMaximum\":-1111,\"_yAxisLabel\":\"Projection of Integral of gx\",\"_ymin\":0,\"_ymax\":1,\"_normValue\":0},{\"$ref\":3},{\"_typename\":\"TPaveText\",\"fUniqueID\":0,\"fBits\":50331657,\"fLineColor\":1,\"fLineStyle\":1,\"fLineWidth\":1,\"fFillColor\":0,\"fFillStyle\":0,\"fX1\":-7.71185693536162,\"fY1\":1.09483611614831,\"fX2\":6.37852348281899,\"fY2\":1.17468751593959,\"fX1NDC\":0.235805369127517,\"fY1NDC\":0.934160843929211,\"fX2NDC\":0.764194630872483,\"fY2NDC\":0.995000004768372,\"fBorderSize\":0,\"fInit\":1,\"fShadowColor\":1,\"fCornerRadius\":0,\"fOption\":\"blNDC\",\"fName\":\"title\",\"fTextAngle\":0,\"fTextSize\":0,\"fTextAlign\":22,\"fTextColor\":1,\"fTextFont\":42,\"fLabel\":\"\",\"fLongest\":23,\"fMargin\":0.05,\"fLines\":{\"_typename\":\"TList\",\"name\":\"TList\",\"arr\":[{\"_typename\":\"TLatex\",\"fUniqueID\":0,\"fBits\":50331648,\"fName\":\"\",\"fTitle\":\"c.d.f of Gaussian p.d.f\",\"fTextAngle\":0,\"fTextSize\":0,\"fTextAlign\":0,\"fTextColor\":0,\"fTextFont\":0,\"fX\":0,\"fY\":0,\"fLineColor\":1,\"fLineStyle\":1,\"fLineWidth\":2,\"fLimitFactorSize\":3,\"fOriginSize\":0.0517132878303528}],\"opt\":[\"\"]}}],\"opt\":[\"\",\"FUNC\",\"l\",\"AXISSAME\",\"blNDC\"]},\"fExecs\":null,\"fName\":\"rf110_normintegration\",\"fTitle\":\"rf110_normintegration\",\"fNumPaletteColor\":0,\"fNextPaletteColor\":0,\"fDISPLAY\":\"$DISPLAY\",\"fDoubleBuffer\":0,\"fRetained\":true,\"fXsizeUser\":0,\"fYsizeUser\":0,\"fXsizeReal\":20,\"fYsizeReal\":20,\"fWindowTopX\":0,\"fWindowTopY\":0,\"fWindowWidth\":0,\"fWindowHeight\":0,\"fCw\":596,\"fCh\":572,\"fCatt\":{\"_typename\":\"TAttCanvas\",\"fXBetween\":2,\"fYBetween\":2,\"fTitleFromTop\":1.2,\"fXdate\":0.2,\"fYdate\":0.3,\"fAdate\":1},\"kMoveOpaque\":true,\"kResizeOpaque\":true,\"fHighLightColor\":2,\"fBatch\":true,\"kShowEventStatus\":false,\"kAutoExec\":true,\"kMenuBar\":true});\n",
       "       Core.draw(\"root_plot_1\", obj, \"\");\n",
       "     }\n",
       " );\n",
       "</script>\n"
      ],
      "text/plain": [
       "<IPython.core.display.HTML object>"
      ]
     },
     "metadata": {},
     "output_type": "display_data"
    }
   ],
   "source": [
    "%jsroot on\n",
    "gROOT->GetListOfCanvases()->Draw()"
   ]
  }
 ],
 "metadata": {
  "kernelspec": {
   "display_name": "ROOT C++",
   "language": "c++",
   "name": "root"
  },
  "language_info": {
   "codemirror_mode": "text/x-c++src",
   "file_extension": ".C",
   "mimetype": " text/x-c++src",
   "name": "c++"
  }
 },
 "nbformat": 4,
 "nbformat_minor": 2
}
