{
 "cells": [
  {
   "cell_type": "markdown",
   "metadata": {},
   "source": [
    "# Hsimple\n",
    " This program creates :\n",
    "   - a one dimensional histogram\n",
    "   - a two dimensional histogram\n",
    "   - a profile histogram\n",
    "   - a memory-resident ntuple\n",
    "\n",
    " These objects are filled with some random numbers and saved on a file.\n",
    " If get=1 the macro returns a pointer to the TFile of \"hsimple.root\"\n",
    "         if this file exists, otherwise it is created.\n",
    " The file \"hsimple.root\" is created in $ROOTSYS/tutorials if the caller has\n",
    " write access to this directory, otherwise the file is created in $PWD\n",
    "\n",
    "\n",
    "\n",
    "\n",
    "**Author:** Rene Brun  \n",
    "<i><small>This notebook tutorial was automatically generated with <a href= \"https://github.com/root-project/root/blob/master/documentation/doxygen/converttonotebook.py\">ROOTBOOK-izer</a> from the macro found in the ROOT repository  on Thursday, August 29, 2019 at 02:00 AM.</small></i>"
   ]
  },
  {
   "cell_type": "code",
   "execution_count": 1,
   "metadata": {
    "collapsed": false
   },
   "outputs": [],
   "source": [
    "%%cpp -d\n",
    "#include <TFile.h>\n",
    "#include <TNtuple.h>\n",
    "#include <TH2.h>\n",
    "#include <TProfile.h>\n",
    "#include <TCanvas.h>\n",
    "#include <TFrame.h>\n",
    "#include <TROOT.h>\n",
    "#include <TSystem.h>\n",
    "#include <TRandom3.h>\n",
    "#include <TBenchmark.h>\n",
    "#include <TInterpreter.h>"
   ]
  },
  {
   "cell_type": "markdown",
   "metadata": {},
   "source": [
    " Arguments are defined. "
   ]
  },
  {
   "cell_type": "code",
   "execution_count": 2,
   "metadata": {
    "collapsed": false
   },
   "outputs": [],
   "source": [
    "Int_t getFile=0;"
   ]
  },
  {
   "cell_type": "code",
   "execution_count": 3,
   "metadata": {
    "collapsed": false
   },
   "outputs": [],
   "source": [
    "TString filename = \"hsimple.root\";\n",
    "TString dir = gROOT->GetTutorialDir();\n",
    "dir.ReplaceAll(\"/./\",\"/\");\n",
    "TFile *hfile = 0;\n",
    "if (getFile) {\n",
    "   // if the argument getFile =1 return the file \"hsimple.root\"\n",
    "   // if the file does not exist, it is created\n",
    "   TString fullPath = dir+\"hsimple.root\";\n",
    "   if (!gSystem->AccessPathName(fullPath,kFileExists)) {\n",
    "      hfile = TFile::Open(fullPath); //in $ROOTSYS/tutorials\n",
    "      if (hfile) return hfile;\n",
    "   }\n",
    "   //otherwise try $PWD/hsimple.root\n",
    "   if (!gSystem->AccessPathName(\"hsimple.root\",kFileExists)) {\n",
    "      hfile = TFile::Open(\"hsimple.root\"); //in current dir\n",
    "      if (hfile) return hfile;\n",
    "   }\n",
    "}"
   ]
  },
  {
   "cell_type": "markdown",
   "metadata": {},
   "source": [
    "No hsimple.root file found. must generate it !\n",
    "generate hsimple.root in current directory if we have write access"
   ]
  },
  {
   "cell_type": "code",
   "execution_count": 4,
   "metadata": {
    "collapsed": false
   },
   "outputs": [],
   "source": [
    "if (gSystem->AccessPathName(\".\",kWritePermission)) {\n",
    "   printf(\"you must run the script in a directory with write access\\n\");\n",
    "   return 0;\n",
    "}\n",
    "hfile = (TFile*)gROOT->FindObject(filename); if (hfile) hfile->Close();\n",
    "hfile = new TFile(filename,\"RECREATE\",\"Demo ROOT file with histograms\");"
   ]
  },
  {
   "cell_type": "markdown",
   "metadata": {},
   "source": [
    "Create some histograms, a profile histogram and an ntuple"
   ]
  },
  {
   "cell_type": "code",
   "execution_count": 5,
   "metadata": {
    "collapsed": false
   },
   "outputs": [],
   "source": [
    "TH1F *hpx = new TH1F(\"hpx\",\"This is the px distribution\",100,-4,4);\n",
    "hpx->SetFillColor(48);\n",
    "TH2F *hpxpy = new TH2F(\"hpxpy\",\"py vs px\",40,-4,4,40,-4,4);\n",
    "TProfile *hprof = new TProfile(\"hprof\",\"Profile of pz versus px\",100,-4,4,0,20);\n",
    "TNtuple *ntuple = new TNtuple(\"ntuple\",\"Demo ntuple\",\"px:py:pz:random:i\");\n",
    "\n",
    "gBenchmark->Start(\"hsimple\");"
   ]
  },
  {
   "cell_type": "markdown",
   "metadata": {},
   "source": [
    "Create a new canvas."
   ]
  },
  {
   "cell_type": "code",
   "execution_count": 6,
   "metadata": {
    "collapsed": false
   },
   "outputs": [],
   "source": [
    "TCanvas *c1 = new TCanvas(\"c1\",\"Dynamic Filling Example\",200,10,700,500);\n",
    "c1->SetFillColor(42);\n",
    "c1->GetFrame()->SetFillColor(21);\n",
    "c1->GetFrame()->SetBorderSize(6);\n",
    "c1->GetFrame()->SetBorderMode(-1);"
   ]
  },
  {
   "cell_type": "markdown",
   "metadata": {},
   "source": [
    "Fill histograms randomly"
   ]
  },
  {
   "cell_type": "code",
   "execution_count": 7,
   "metadata": {
    "collapsed": false
   },
   "outputs": [
    {
     "name": "stdout",
     "output_type": "stream",
     "text": [
      "hsimple   : Real Time =   0.31 seconds Cpu Time =   0.15 seconds\n"
     ]
    }
   ],
   "source": [
    "TRandom3 randomNum;\n",
    "Float_t px, py, pz;\n",
    "const Int_t kUPDATE = 1000;\n",
    "for (Int_t i = 0; i < 25000; i++) {\n",
    "   randomNum.Rannor(px,py);\n",
    "   pz = px*px + py*py;\n",
    "   Float_t rnd = randomNum.Rndm();\n",
    "   hpx->Fill(px);\n",
    "   hpxpy->Fill(px,py);\n",
    "   hprof->Fill(px,pz);\n",
    "   ntuple->Fill(px,py,pz,rnd,i);\n",
    "   if (i && (i%kUPDATE) == 0) {\n",
    "      if (i == kUPDATE) hpx->Draw();\n",
    "      c1->Modified();\n",
    "      c1->Update();\n",
    "      if (gSystem->ProcessEvents())\n",
    "         break;\n",
    "   }\n",
    "}\n",
    "gBenchmark->Show(\"hsimple\");"
   ]
  },
  {
   "cell_type": "markdown",
   "metadata": {},
   "source": [
    "Save all objects in this file"
   ]
  },
  {
   "cell_type": "code",
   "execution_count": 8,
   "metadata": {
    "collapsed": false
   },
   "outputs": [],
   "source": [
    "hpx->SetFillColor(0);\n",
    "hfile->Write();\n",
    "hpx->SetFillColor(48);\n",
    "c1->Modified();\n",
    "return hfile;"
   ]
  },
  {
   "cell_type": "markdown",
   "metadata": {},
   "source": [
    "Note that the file is automatically close when application terminates\n",
    " or when the file destructor is called."
   ]
  },
  {
   "cell_type": "markdown",
   "metadata": {},
   "source": [
    "Draw all canvases "
   ]
  },
  {
   "cell_type": "code",
   "execution_count": 9,
   "metadata": {
    "collapsed": false
   },
   "outputs": [
    {
     "data": {
      "image/png": "[encoded data removed]",
      "text/plain": [
       "<IPython.core.display.Image object>"
      ]
     },
     "metadata": {},
     "output_type": "display_data"
    }
   ],
   "source": [
    "gROOT->GetListOfCanvases()->Draw()"
   ]
  }
 ],
 "metadata": {
  "kernelspec": {
   "display_name": "ROOT C++",
   "language": "c++",
   "name": "root"
  },
  "language_info": {
   "codemirror_mode": "text/x-c++src",
   "file_extension": ".C",
   "mimetype": " text/x-c++src",
   "name": "c++"
  }
 },
 "nbformat": 4,
 "nbformat_minor": 2
}
