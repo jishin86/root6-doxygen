{
 "cells": [
  {
   "cell_type": "markdown",
   "metadata": {},
   "source": [
    "# Graph\n",
    "Draw a simple graph.\n",
    "\n",
    "\n",
    "\n",
    "\n",
    "**Author:** Rene Brun  \n",
    "<i><small>This notebook tutorial was automatically generated with <a href= \"https://github.com/root-project/root/blob/master/documentation/doxygen/converttonotebook.py\">ROOTBOOK-izer</a> from the macro found in the ROOT repository  on Thursday, August 29, 2019 at 01:46 AM.</small></i>"
   ]
  },
  {
   "cell_type": "code",
   "execution_count": 1,
   "metadata": {
    "collapsed": false
   },
   "outputs": [
    {
     "name": "stdout",
     "output_type": "stream",
     "text": [
      " i 0 0.000000 1.986693 \n",
      " i 1 0.100000 2.955202 \n",
      " i 2 0.200000 3.894183 \n",
      " i 3 0.300000 4.794255 \n",
      " i 4 0.400000 5.646425 \n",
      " i 5 0.500000 6.442177 \n",
      " i 6 0.600000 7.173561 \n",
      " i 7 0.700000 7.833269 \n",
      " i 8 0.800000 8.414710 \n",
      " i 9 0.900000 8.912074 \n",
      " i 10 1.000000 9.320391 \n",
      " i 11 1.100000 9.635582 \n",
      " i 12 1.200000 9.854497 \n",
      " i 13 1.300000 9.974950 \n",
      " i 14 1.400000 9.995736 \n",
      " i 15 1.500000 9.916648 \n",
      " i 16 1.600000 9.738476 \n",
      " i 17 1.700000 9.463001 \n",
      " i 18 1.800000 9.092974 \n",
      " i 19 1.900000 8.632094 \n"
     ]
    }
   ],
   "source": [
    "TCanvas *c1 = new TCanvas(\"c1\",\"A Simple Graph Example\",200,10,700,500);\n",
    "\n",
    "c1->SetGrid();\n",
    "\n",
    "const Int_t n = 20;\n",
    "Double_t x[n], y[n];\n",
    "for (Int_t i=0;i<n;i++) {\n",
    "  x[i] = i*0.1;\n",
    "  y[i] = 10*sin(x[i]+0.2);\n",
    "  printf(\" i %i %f %f \\n\",i,x[i],y[i]);\n",
    "}\n",
    "TGraph *gr = new TGraph(n,x,y);\n",
    "gr->SetLineColor(2);\n",
    "gr->SetLineWidth(4);\n",
    "gr->SetMarkerColor(4);\n",
    "gr->SetMarkerStyle(21);\n",
    "gr->SetTitle(\"a simple graph\");\n",
    "gr->GetXaxis()->SetTitle(\"X title\");\n",
    "gr->GetYaxis()->SetTitle(\"Y title\");\n",
    "gr->Draw(\"ACP\");"
   ]
  },
  {
   "cell_type": "markdown",
   "metadata": {},
   "source": [
    "Tcanvas::update() draws the frame, after which one can change it"
   ]
  },
  {
   "cell_type": "code",
   "execution_count": 2,
   "metadata": {
    "collapsed": false
   },
   "outputs": [],
   "source": [
    "c1->Update();\n",
    "c1->GetFrame()->SetBorderSize(12);\n",
    "c1->Modified();"
   ]
  },
  {
   "cell_type": "markdown",
   "metadata": {},
   "source": [
    "Draw all canvases "
   ]
  },
  {
   "cell_type": "code",
   "execution_count": 3,
   "metadata": {
    "collapsed": false
   },
   "outputs": [
    {
     "data": {
      "image/png": "[encoded data removed]",
      "text/plain": [
       "<IPython.core.display.Image object>"
      ]
     },
     "metadata": {},
     "output_type": "display_data"
    }
   ],
   "source": [
    "gROOT->GetListOfCanvases()->Draw()"
   ]
  }
 ],
 "metadata": {
  "kernelspec": {
   "display_name": "ROOT C++",
   "language": "c++",
   "name": "root"
  },
  "language_info": {
   "codemirror_mode": "text/x-c++src",
   "file_extension": ".C",
   "mimetype": " text/x-c++src",
   "name": "c++"
  }
 },
 "nbformat": 4,
 "nbformat_minor": 2
}
