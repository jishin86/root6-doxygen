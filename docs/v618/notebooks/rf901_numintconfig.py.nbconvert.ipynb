{
 "cells": [
  {
   "cell_type": "markdown",
   "metadata": {},
   "source": [
    "# Rf 9 0 1_Numintconfig\n",
    "\n",
    "Numeric algorithm tuning: configuration and customization of how numeric (partial) integrals are executed\n",
    "\n",
    "\n",
    "\n",
    "\n",
    "**Author:** Clemens Lange, Wouter Verkerke (C++ version)  \n",
    "<i><small>This notebook tutorial was automatically generated with <a href= \"https://github.com/root-project/root/blob/master/documentation/doxygen/converttonotebook.py\">ROOTBOOK-izer</a> from the macro found in the ROOT repository  on Thursday, August 29, 2019 at 03:05 AM.</small></i>"
   ]
  },
  {
   "cell_type": "code",
   "execution_count": 1,
   "metadata": {
    "collapsed": false
   },
   "outputs": [
    {
     "name": "stdout",
     "output_type": "stream",
     "text": [
      "Welcome to JupyROOT 6.18/03\n"
     ]
    }
   ],
   "source": [
    "from __future__ import print_function\n",
    "import ROOT"
   ]
  },
  {
   "cell_type": "markdown",
   "metadata": {},
   "source": [
    "Adjust global 1D integration precision\n",
    "----------------------------------------------------------------------------"
   ]
  },
  {
   "cell_type": "markdown",
   "metadata": {},
   "source": [
    "Print current global default configuration for numeric integration\n",
    "strategies"
   ]
  },
  {
   "cell_type": "code",
   "execution_count": 2,
   "metadata": {
    "collapsed": false
   },
   "outputs": [
    {
     "name": "stdout",
     "output_type": "stream",
     "text": [
      "\n",
      "\u001b[1mRooFit v3.60 -- Developed by Wouter Verkerke and David Kirkby\u001b[0m \n",
      "                Copyright (C) 2000-2013 NIKHEF, University of California & Stanford University\n",
      "                All rights reserved, please read http://roofit.sourceforge.net/license.txt\n",
      "\n",
      "Requested precision: 1e-07 absolute, 1e-07 relative\n",
      "\n",
      "1-D integration method: RooIntegrator1D (RooImproperIntegrator1D if open-ended)\n",
      "2-D integration method: RooAdaptiveIntegratorND (N/A if open-ended)\n",
      "N-D integration method: RooAdaptiveIntegratorND (N/A if open-ended)\n",
      "\n",
      "Available integration methods:\n",
      "\n",
      "*** RooBinIntegrator ***\n",
      "Capabilities: [1-D] [2-D] [N-D] \n",
      "Configuration: \n",
      "  1)  numBins = 100\n",
      "\n",
      "*** RooIntegrator1D ***\n",
      "Capabilities: [1-D] \n",
      "Configuration: \n",
      "  1)        sumRule = Trapezoid(idx = 0)\n",
      "\n",
      "  2)  extrapolation = Wynn-Epsilon(idx = 1)\n",
      "\n",
      "  3)       maxSteps = 20\n",
      "  4)       minSteps = 999\n",
      "  5)       fixSteps = 0\n",
      "\n",
      "*** RooIntegrator2D ***\n",
      "Capabilities: [2-D] \n",
      "Configuration: \n",
      "(Depends on 'RooIntegrator1D')\n",
      "\n",
      "*** RooSegmentedIntegrator1D ***\n",
      "Capabilities: [1-D] \n",
      "Configuration: \n",
      "  1)  numSeg = 3\n",
      "(Depends on 'RooIntegrator1D')\n",
      "\n",
      "*** RooSegmentedIntegrator2D ***\n",
      "Capabilities: [2-D] \n",
      "Configuration: \n",
      "(Depends on 'RooSegmentedIntegrator1D')\n",
      "\n",
      "*** RooImproperIntegrator1D ***\n",
      "Capabilities: [1-D] [OpenEnded] \n",
      "Configuration: \n",
      "(Depends on 'RooIntegrator1D')\n",
      "\n",
      "*** RooMCIntegrator ***\n",
      "Capabilities: [1-D] [2-D] [N-D] \n",
      "Configuration: \n",
      "  1)   samplingMode = Importance(idx = 0)\n",
      "\n",
      "  2)        genType = QuasiRandom(idx = 0)\n",
      "\n",
      "  3)        verbose = false(idx = 0)\n",
      "\n",
      "  4)          alpha = 1.5\n",
      "  5)    nRefineIter = 5\n",
      "  6)  nRefinePerDim = 1000\n",
      "  7)     nIntPerDim = 5000\n",
      "\n",
      "*** RooAdaptiveGaussKronrodIntegrator1D ***\n",
      "Capabilities: [1-D] [OpenEnded] \n",
      "Configuration: \n",
      "  1)  maxSeg = 100\n",
      "  2)  method = 21Points(idx = 2)\n",
      "\n",
      "\n",
      "*** RooGaussKronrodIntegrator1D ***\n",
      "Capabilities: [1-D] [OpenEnded] \n",
      "Configuration: \n",
      "\n",
      "*** RooAdaptiveIntegratorND ***\n",
      "Capabilities: [2-D] [N-D] \n",
      "Configuration: \n",
      "  1)  maxEval2D = 100000\n",
      "  2)  maxEval3D = 1e+06\n",
      "  3)  maxEvalND = 1e+07\n",
      "  4)    maxWarn = 5\n",
      "\n"
     ]
    }
   ],
   "source": [
    "ROOT.RooAbsReal.defaultIntegratorConfig().Print(\"v\")"
   ]
  },
  {
   "cell_type": "markdown",
   "metadata": {},
   "source": [
    "Example: Change global precision for 1D integrals from 1e-7 to 1e-6\n",
    "\n",
    "The relative epsilon (change as fraction of current best integral estimate) and\n",
    "absolute epsilon (absolute change w.r.t last best integral estimate) can be specified\n",
    "separately. For most p.d.f integrals the relative change criterium is the most important,\n",
    "however for certain non-p.d.f functions that integrate out to zero a separate absolute\n",
    "change criterium is necessary to declare convergence of the integral\n",
    "\n",
    "NB: ROOT.This change is for illustration only. In general the precision should be at least 1e-7\n",
    "for normalization integrals for MINUIT to succeed."
   ]
  },
  {
   "cell_type": "code",
   "execution_count": 3,
   "metadata": {
    "collapsed": false
   },
   "outputs": [],
   "source": [
    "ROOT.RooAbsReal.defaultIntegratorConfig().setEpsAbs(1e-6)\n",
    "ROOT.RooAbsReal.defaultIntegratorConfig().setEpsRel(1e-6)"
   ]
  },
  {
   "cell_type": "markdown",
   "metadata": {},
   "source": [
    "Numeric integration of landau pdf\n",
    "------------------------------------------------------------------"
   ]
  },
  {
   "cell_type": "markdown",
   "metadata": {},
   "source": [
    "Construct p.d.f without support for analytical integrator for\n",
    "demonstration purposes"
   ]
  },
  {
   "cell_type": "code",
   "execution_count": 4,
   "metadata": {
    "collapsed": false
   },
   "outputs": [],
   "source": [
    "x = ROOT.RooRealVar(\"x\", \"x\", -10, 10)\n",
    "landau = ROOT.RooLandau(\"landau\", \"landau\", x,\n",
    "                        ROOT.RooFit.RooConst(0), ROOT.RooFit.RooConst(0.1))"
   ]
  },
  {
   "cell_type": "markdown",
   "metadata": {},
   "source": [
    "Activate debug-level messages for topic integration to be able to follow\n",
    "actions below"
   ]
  },
  {
   "cell_type": "code",
   "execution_count": 5,
   "metadata": {
    "collapsed": false
   },
   "outputs": [
    {
     "data": {
      "text/plain": [
       "2"
      ]
     },
     "execution_count": 5,
     "metadata": {},
     "output_type": "execute_result"
    }
   ],
   "source": [
    "ROOT.RooMsgService.instance().addStream(\n",
    "    ROOT.RooFit.DEBUG, ROOT.RooFit.Topic(ROOT.RooFit.Integration))"
   ]
  },
  {
   "cell_type": "markdown",
   "metadata": {},
   "source": [
    "Calculate integral over landau with default choice of numeric integrator"
   ]
  },
  {
   "cell_type": "code",
   "execution_count": 6,
   "metadata": {
    "collapsed": false
   },
   "outputs": [
    {
     "name": "stdout",
     "output_type": "stream",
     "text": [
      " [1] int_dx landau(x) =  0.0989653362054\n",
      "[#2] INFO:Integration -- RooRealIntegral::ctor(landau_Int[x]) Constructing integral of function landau over observables(x) with normalization () with range identifier <none>\n",
      "[#2] DEBUG:Integration -- landau: Adding observable x of server x as shape dependent\n",
      "[#2] INFO:Integration -- landau: Observable x is suitable for analytical integration (if supported by p.d.f)\n",
      "[#2] INFO:Integration -- landau: Observables (x) are numerically integrated\n",
      "[#1] INFO:NumericIntegration -- RooRealIntegral::init(landau_Int[x]) using numeric integrator RooIntegrator1D to calculate Int(x)\n"
     ]
    }
   ],
   "source": [
    "intLandau = landau.createIntegral(ROOT.RooArgSet(x))\n",
    "val = intLandau.getVal()\n",
    "print(\" [1] int_dx landau(x) = \", val)  # setprecision(15)"
   ]
  },
  {
   "cell_type": "markdown",
   "metadata": {},
   "source": [
    "Same with custom configuration\n",
    "-----------------------------------------------------------"
   ]
  },
  {
   "cell_type": "markdown",
   "metadata": {},
   "source": [
    "Construct a custom configuration which uses the adaptive Gauss-Kronrod technique\n",
    "for closed 1D integrals"
   ]
  },
  {
   "cell_type": "code",
   "execution_count": 7,
   "metadata": {
    "collapsed": false
   },
   "outputs": [
    {
     "data": {
      "text/plain": [
       "False"
      ]
     },
     "execution_count": 7,
     "metadata": {},
     "output_type": "execute_result"
    }
   ],
   "source": [
    "customConfig = ROOT.RooNumIntConfig(\n",
    "    ROOT.RooAbsReal.defaultIntegratorConfig())\n",
    "customConfig.method1D().setLabel(\"RooAdaptiveGaussKronrodIntegrator1D\")"
   ]
  },
  {
   "cell_type": "markdown",
   "metadata": {},
   "source": [
    "Calculate integral over landau with custom integral specification"
   ]
  },
  {
   "cell_type": "code",
   "execution_count": 8,
   "metadata": {
    "collapsed": false
   },
   "outputs": [
    {
     "name": "stdout",
     "output_type": "stream",
     "text": [
      " [2] int_dx landau(x) =  0.0989571029219\n",
      "[#2] INFO:Integration -- RooRealIntegral::ctor(landau_Int[x]) Constructing integral of function landau over observables(x) with normalization () with range identifier <none>\n",
      "[#2] DEBUG:Integration -- landau: Adding observable x of server x as shape dependent\n",
      "[#2] INFO:Integration -- landau: Observable x is suitable for analytical integration (if supported by p.d.f)\n",
      "[#2] INFO:Integration -- landau: Observables (x) are numerically integrated\n",
      "[#1] INFO:NumericIntegration -- RooRealIntegral::init(landau_Int[x]) using numeric integrator RooAdaptiveGaussKronrodIntegrator1D to calculate Int(x)\n"
     ]
    }
   ],
   "source": [
    "intLandau2 = landau.createIntegral(\n",
    "    ROOT.RooArgSet(x), ROOT.RooFit.NumIntConfig(customConfig))\n",
    "val2 = intLandau2.getVal()\n",
    "print(\" [2] int_dx landau(x) = \", val2)"
   ]
  },
  {
   "cell_type": "markdown",
   "metadata": {},
   "source": [
    "Adjusting default config for a specific pdf\n",
    "-------------------------------------------------------------------------------------"
   ]
  },
  {
   "cell_type": "markdown",
   "metadata": {},
   "source": [
    "Another possibility: associate custom numeric integration configuration\n",
    "as default for object 'landau'"
   ]
  },
  {
   "cell_type": "code",
   "execution_count": 9,
   "metadata": {
    "collapsed": false
   },
   "outputs": [],
   "source": [
    "landau.setIntegratorConfig(customConfig)"
   ]
  },
  {
   "cell_type": "markdown",
   "metadata": {},
   "source": [
    "Calculate integral over landau custom numeric integrator specified as\n",
    "object default"
   ]
  },
  {
   "cell_type": "code",
   "execution_count": 10,
   "metadata": {
    "collapsed": false
   },
   "outputs": [
    {
     "name": "stdout",
     "output_type": "stream",
     "text": [
      " [3] int_dx landau(x) =  0.0989571029219\n",
      "[#2] INFO:Integration -- RooRealIntegral::ctor(landau_Int[x]) Constructing integral of function landau over observables(x) with normalization () with range identifier <none>\n",
      "[#2] DEBUG:Integration -- landau: Adding observable x of server x as shape dependent\n",
      "[#2] INFO:Integration -- landau: Observable x is suitable for analytical integration (if supported by p.d.f)\n",
      "[#2] INFO:Integration -- landau: Observables (x) are numerically integrated\n",
      "[#1] INFO:NumericIntegration -- RooRealIntegral::init(landau_Int[x]) using numeric integrator RooAdaptiveGaussKronrodIntegrator1D to calculate Int(x)\n"
     ]
    }
   ],
   "source": [
    "intLandau3 = landau.createIntegral(ROOT.RooArgSet(x))\n",
    "val3 = intLandau3.getVal()\n",
    "print(\" [3] int_dx landau(x) = \", val3)"
   ]
  },
  {
   "cell_type": "markdown",
   "metadata": {},
   "source": [
    "Another possibility: Change global default for 1D numeric integration\n",
    "strategy on finite domains"
   ]
  },
  {
   "cell_type": "code",
   "execution_count": 11,
   "metadata": {
    "collapsed": false
   },
   "outputs": [
    {
     "data": {
      "text/plain": [
       "False"
      ]
     },
     "execution_count": 11,
     "metadata": {},
     "output_type": "execute_result"
    }
   ],
   "source": [
    "ROOT.RooAbsReal.defaultIntegratorConfig().method1D().setLabel(\n",
    "    \"RooAdaptiveGaussKronrodIntegrator1D\")"
   ]
  },
  {
   "cell_type": "markdown",
   "metadata": {},
   "source": [
    "Adjusting parameters of a speficic technique\n",
    "---------------------------------------------------------------------------------------"
   ]
  },
  {
   "cell_type": "markdown",
   "metadata": {},
   "source": [
    "Adjust maximum number of steps of ROOT.RooIntegrator1D in the global\n",
    "default configuration"
   ]
  },
  {
   "cell_type": "code",
   "execution_count": 12,
   "metadata": {
    "collapsed": false
   },
   "outputs": [
    {
     "data": {
      "text/plain": [
       "False"
      ]
     },
     "execution_count": 12,
     "metadata": {},
     "output_type": "execute_result"
    }
   ],
   "source": [
    "ROOT.RooAbsReal.defaultIntegratorConfig().getConfigSection(\n",
    "    \"RooIntegrator1D\").setRealValue(\"maxSteps\", 30)"
   ]
  },
  {
   "cell_type": "markdown",
   "metadata": {},
   "source": [
    "Example of how to change the parameters of a numeric integrator\n",
    "(Each config section is a ROOT.RooArgSet with ROOT.RooRealVars holding real-valued parameters\n",
    " and ROOT.RooCategories holding parameters with a finite set of options)"
   ]
  },
  {
   "cell_type": "code",
   "execution_count": 13,
   "metadata": {
    "collapsed": false
   },
   "outputs": [
    {
     "data": {
      "text/plain": [
       "False"
      ]
     },
     "execution_count": 13,
     "metadata": {},
     "output_type": "execute_result"
    }
   ],
   "source": [
    "customConfig.getConfigSection(\n",
    "    \"RooAdaptiveGaussKronrodIntegrator1D\").setRealValue(\"maxSeg\", 50)\n",
    "customConfig.getConfigSection(\n",
    "    \"RooAdaptiveGaussKronrodIntegrator1D\").setCatLabel(\"method\", \"15Points\")"
   ]
  },
  {
   "cell_type": "markdown",
   "metadata": {},
   "source": [
    "Example of how to print set of possible values for \"method\" category"
   ]
  },
  {
   "cell_type": "code",
   "execution_count": 14,
   "metadata": {
    "collapsed": false
   },
   "outputs": [
    {
     "name": "stdout",
     "output_type": "stream",
     "text": [
      "--- RooAbsArg ---\n",
      "  Value State: clean\n",
      "  Shape State: clean\n",
      "  Attributes: \n",
      "  Address: 0x563e8bcf1b80\n",
      "  Clients: \n",
      "  Servers: \n",
      "  Proxies: \n",
      "--- RooAbsCategory ---\n",
      "  Value is \"15Points\" (1)\n",
      "  Has the following possible values:\n",
      "        WynnEpsilon = 0\n",
      "        15Points = 1\n",
      "        21Points = 2\n",
      "        31Points = 3\n",
      "        41Points = 4\n",
      "        51Points = 5\n",
      "        61Points = 6\n"
     ]
    }
   ],
   "source": [
    "customConfig.getConfigSection(\n",
    "    \"RooAdaptiveGaussKronrodIntegrator1D\").find(\"method\").Print(\"v\")"
   ]
  }
 ],
 "metadata": {
  "kernelspec": {
   "display_name": "Python 2",
   "language": "python",
   "name": "python2"
  },
  "language_info": {
   "codemirror_mode": {
    "name": "ipython",
    "version": 2
   },
   "file_extension": ".py",
   "mimetype": "text/x-python",
   "name": "python",
   "nbconvert_exporter": "python",
   "pygments_lexer": "ipython2",
   "version": "2.7.10"
  }
 },
 "nbformat": 4,
 "nbformat_minor": 2
}
