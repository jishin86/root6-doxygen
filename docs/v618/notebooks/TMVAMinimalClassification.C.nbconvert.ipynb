{
 "cells": [
  {
   "cell_type": "markdown",
   "metadata": {},
   "source": [
    "#  T M V A Minimal Classification\n",
    "Minimal self-contained example for setting up TMVA with binary\n",
    "classification.\n",
    "\n",
    "This is intended as a simple foundation to build on. It assumes you are\n",
    "familiar with TMVA already. As such concepts like the Factory, the DataLoader\n",
    "and others are not explained. For descriptions and tutuorials use the TMVA\n",
    "User's Guide (https://root.cern.ch/root-user-guides-and-manuals under TMVA)\n",
    "or the more detailed examples provided with TMVA e.g. TMVAClassification.C.\n",
    "\n",
    "Sets up a minimal binary classification example with two slighly overlapping\n",
    "2-D gaussian distributions and trains a BDT classifier to discriminate the\n",
    "data.\n",
    "\n",
    "- Project   : TMVA - a ROOT-integrated toolkit for multivariate data analysis\n",
    "- Package   : TMVA\n",
    "- Root Macro: TMVAMinimalClassification.C\n",
    "\n",
    "\n",
    "\n",
    "**Author:** Kim Albertsson  \n",
    "<i><small>This notebook tutorial was automatically generated with <a href= \"https://github.com/root-project/root/blob/master/documentation/doxygen/converttonotebook.py\">ROOTBOOK-izer</a> from the macro found in the ROOT repository  on Thursday, August 29, 2019 at 03:49 AM.</small></i>"
   ]
  },
  {
   "cell_type": "code",
   "execution_count": 1,
   "metadata": {
    "collapsed": false
   },
   "outputs": [],
   "source": [
    "%%cpp -d\n",
    "#include \"TMVA/DataLoader.h\"\n",
    "#include \"TMVA/Factory.h\"\n",
    "\n",
    "#include \"TFile.h\"\n",
    "#include \"TString.h\"\n",
    "#include \"TTree.h\""
   ]
  },
  {
   "cell_type": "markdown",
   "metadata": {},
   "source": [
    " Minimal setup for perfroming binary classification in TMVA.\n",
    "\n",
    " Modify the setup to your liking and run with\n",
    "    `root -l -b -q TMVAMinimalClassification.C`.\n",
    " This will generate an output file \"out.root\" that can be viewed with\n",
    "    `root -l -e 'TMVA::TMVAGui(\"out.root\")'`."
   ]
  },
  {
   "cell_type": "markdown",
   "metadata": {},
   "source": [
    " \n",
    "\n",
    " Helper function to generate 2-D gaussian data points and fill to a ROOT\n",
    " TTree.\n",
    "\n",
    "\n",
    " Arguments:\n",
    "    nPoints Number of points to generate.\n",
    "    offset  Mean of the generated numbers\n",
    "    scale   Standard deviation of the generated numbers.\n",
    "    seed    Seed for random number generator. Use `seed=0` for random\n",
    "            seed.\n",
    " Returns a TTree ready to be used as input to TMVA.\n",
    "\n",
    "\n",
    " "
   ]
  },
  {
   "cell_type": "code",
   "execution_count": 2,
   "metadata": {
    "collapsed": false
   },
   "outputs": [],
   "source": [
    "%%cpp -d\n",
    "TTree *genTree(Int_t nPoints, Double_t offset, Double_t scale, UInt_t seed = 100)\n",
    "{\n",
    "   TRandom rng(seed);\n",
    "   Double_t x = 0;\n",
    "   Double_t y = 0;\n",
    "\n",
    "   TTree *data = new TTree();\n",
    "   data->Branch(\"x\", &x, \"x/D\");\n",
    "   data->Branch(\"y\", &y, \"y/D\");\n",
    "\n",
    "   for (Int_t n = 0; n < nPoints; ++n) {\n",
    "      x = rng.Rndm() * scale;\n",
    "      y = offset + rng.Rndm() * scale;\n",
    "      data->Fill();\n",
    "   }\n",
    "\n",
    "   // Important: Disconnects the tree from the memory locations of x and y.\n",
    "   data->ResetBranchAddresses();\n",
    "   return data;\n",
    "}"
   ]
  },
  {
   "cell_type": "code",
   "execution_count": 3,
   "metadata": {
    "collapsed": false
   },
   "outputs": [],
   "source": [
    "TString outputFilename = \"out.root\";\n",
    "TFile *outFile = new TFile(outputFilename, \"RECREATE\");"
   ]
  },
  {
   "cell_type": "markdown",
   "metadata": {},
   "source": [
    "Data generatration"
   ]
  },
  {
   "cell_type": "code",
   "execution_count": 4,
   "metadata": {
    "collapsed": false
   },
   "outputs": [],
   "source": [
    "TTree *signalTree = genTree(1000, 0.0, 2.0, 100);\n",
    "TTree *backgroundTree = genTree(1000, 1.0, 2.0, 101);\n",
    "\n",
    "TString factoryOptions = \"AnalysisType=Classification\";\n",
    "TMVA::Factory factory{\"\", outFile, factoryOptions};\n",
    "\n",
    "TMVA::DataLoader dataloader{\"dataset\"};"
   ]
  },
  {
   "cell_type": "markdown",
   "metadata": {},
   "source": [
    "Data specification"
   ]
  },
  {
   "cell_type": "code",
   "execution_count": 5,
   "metadata": {
    "collapsed": false
   },
   "outputs": [
    {
     "name": "stdout",
     "output_type": "stream",
     "text": [
      "<HEADER> DataSetInfo              : [dataset] : Added class \"Signal\"\n",
      "                         : Add Tree  of type Signal with 1000 events\n",
      "<HEADER> DataSetInfo              : [dataset] : Added class \"Background\"\n",
      "                         : Add Tree  of type Background with 1000 events\n"
     ]
    }
   ],
   "source": [
    "dataloader.AddVariable(\"x\", 'D');\n",
    "dataloader.AddVariable(\"y\", 'D');\n",
    "\n",
    "dataloader.AddSignalTree(signalTree, 1.0);\n",
    "dataloader.AddBackgroundTree(backgroundTree, 1.0);\n",
    "\n",
    "TCut signalCut = \"\";\n",
    "TCut backgroundCut = \"\";\n",
    "TString datasetOptions = \"SplitMode=Random\";\n",
    "dataloader.PrepareTrainingAndTestTree(signalCut, backgroundCut, datasetOptions);"
   ]
  },
  {
   "cell_type": "markdown",
   "metadata": {},
   "source": [
    "Method specification"
   ]
  },
  {
   "cell_type": "code",
   "execution_count": 6,
   "metadata": {
    "collapsed": false
   },
   "outputs": [
    {
     "name": "stdout",
     "output_type": "stream",
     "text": [
      "<HEADER> Factory                  : Booking method: BDT\n",
      "                         : \n",
      "<HEADER> DataSetFactory           : [dataset] : Number of events in input trees\n",
      "                         : \n",
      "                         : \n",
      "                         : Dataset[dataset] : Weight renormalisation mode: \"EqualNumEvents\": renormalises all event classes ...\n",
      "                         : Dataset[dataset] :  such that the effective (weighted) number of events in each class is the same \n",
      "                         : Dataset[dataset] :  (and equals the number of events (entries) given for class=0 )\n",
      "                         : Dataset[dataset] : ... i.e. such that Sum[i=1..N_j]{w_i} = N_classA, j=classA, classB, ...\n",
      "                         : Dataset[dataset] : ... (note that N_j is the sum of TRAINING events\n",
      "                         : Dataset[dataset] :  ..... Testing events are not renormalised nor included in the renormalisation factor!)\n",
      "                         : Number of training and testing events\n",
      "                         : ---------------------------------------------------------------------------\n",
      "                         : Signal     -- training events            : 500\n",
      "                         : Signal     -- testing events             : 500\n",
      "                         : Signal     -- training and testing events: 1000\n",
      "                         : Background -- training events            : 500\n",
      "                         : Background -- testing events             : 500\n",
      "                         : Background -- training and testing events: 1000\n",
      "                         : \n",
      "<HEADER> DataSetInfo              : Correlation matrix (Signal):\n",
      "                         : ------------------------\n",
      "                         :                x       y\n",
      "                         :       x:  +1.000  +0.030\n",
      "                         :       y:  +0.030  +1.000\n",
      "                         : ------------------------\n",
      "<HEADER> DataSetInfo              : Correlation matrix (Background):\n",
      "                         : ------------------------\n",
      "                         :                x       y\n",
      "                         :       x:  +1.000  -0.022\n",
      "                         :       y:  -0.022  +1.000\n",
      "                         : ------------------------\n",
      "<HEADER> DataSetFactory           : [dataset] :  \n",
      "                         : \n"
     ]
    }
   ],
   "source": [
    "TString methodOptions = \"\";\n",
    "factory.BookMethod(&dataloader, TMVA::Types::kBDT, \"BDT\", methodOptions);"
   ]
  },
  {
   "cell_type": "markdown",
   "metadata": {},
   "source": [
    "Training and evaluation"
   ]
  },
  {
   "cell_type": "code",
   "execution_count": 7,
   "metadata": {
    "collapsed": false
   },
   "outputs": [
    {
     "name": "stdout",
     "output_type": "stream",
     "text": [
      "<HEADER> Factory                  : Train all methods\n",
      "<HEADER> Factory                  : [dataset] : Create Transformation \"I\" with events from all classes.\n",
      "                         : \n",
      "<HEADER>                          : Transformation, Variable selection : \n",
      "                         : Input : variable 'x' <---> Output : variable 'x'\n",
      "                         : Input : variable 'y' <---> Output : variable 'y'\n",
      "<HEADER> TFHandler_Factory        : Variable        Mean        RMS   [        Min        Max ]\n",
      "                         : -----------------------------------------------------------\n",
      "                         :        x:     1.0229    0.57835   [ 0.00044777     1.9988 ]\n",
      "                         :        y:     1.4942    0.76640   [   0.014777     2.9933 ]\n",
      "                         : -----------------------------------------------------------\n",
      "                         : Ranking input variables (method unspecific)...\n",
      "<HEADER> IdTransformation         : Ranking result (top variable is best ranked)\n",
      "                         : --------------------------\n",
      "                         : Rank : Variable  : Separation\n",
      "                         : --------------------------\n",
      "                         :    1 : y         : 5.413e-01\n",
      "                         :    2 : x         : 4.319e-02\n",
      "                         : --------------------------\n",
      "<HEADER> Factory                  : Train method: BDT for Classification\n",
      "                         : \n",
      "<HEADER> BDT                      : #events: (reweighted) sig: 500 bkg: 500\n",
      "                         : #events: (unweighted) sig: 500 bkg: 500\n",
      "                         : Training 800 Decision Trees ... patience please\n"
     ]
    },
    {
     "name": "stderr",
     "output_type": "stream",
     "text": [
      "0%, time left: unknown\n",
      "6%, time left: 0 sec\n",
      "12%, time left: 0 sec\n",
      "18%, time left: 0 sec\n",
      "25%, time left: 0 sec\n",
      "31%, time left: 0 sec\n",
      "37%, time left: 0 sec\n",
      "43%, time left: 0 sec\n",
      "50%, time left: 0 sec\n",
      "56%, time left: 0 sec\n",
      "62%, time left: 0 sec\n",
      "68%, time left: 0 sec\n",
      "75%, time left: 0 sec\n",
      "81%, time left: 0 sec\n",
      "87%, time left: 0 sec\n",
      "93%, time left: 0 sec\n"
     ]
    },
    {
     "name": "stdout",
     "output_type": "stream",
     "text": [
      "                         : Elapsed time for training with 1000 events: 0.481 sec         \n",
      "<HEADER> BDT                      : [dataset] : Evaluation of BDT on training sample (1000 events)\n",
      "                         : Elapsed time for evaluation of 1000 events: 0.0732 sec       \n",
      "                         : Creating xml weight file: dataset/weights/_BDT.weights.xml\n"
     ]
    },
    {
     "name": "stderr",
     "output_type": "stream",
     "text": [
      "0%, time left: unknown\n",
      "7%, time left: 0 sec\n",
      "13%, time left: 0 sec\n",
      "19%, time left: 0 sec\n",
      "25%, time left: 0 sec\n",
      "32%, time left: 0 sec\n",
      "38%, time left: 0 sec\n",
      "44%, time left: 0 sec\n",
      "50%, time left: 0 sec\n",
      "57%, time left: 0 sec\n",
      "63%, time left: 0 sec\n",
      "69%, time left: 0 sec\n",
      "75%, time left: 0 sec\n",
      "82%, time left: 0 sec\n",
      "88%, time left: 0 sec\n",
      "94%, time left: 0 sec\n"
     ]
    },
    {
     "name": "stdout",
     "output_type": "stream",
     "text": [
      "                         : Creating standalone class: dataset/weights/_BDT.class.C\n",
      "                         : out.root:/dataset/Method_BDT/BDT\n",
      "<HEADER> Factory                  : Training finished\n",
      "                         : \n",
      "                         : Ranking input variables (method specific)...\n",
      "<HEADER> BDT                      : Ranking result (top variable is best ranked)\n",
      "                         : -----------------------------------\n",
      "                         : Rank : Variable  : Variable Importance\n",
      "                         : -----------------------------------\n",
      "                         :    1 : y         : 5.011e-01\n",
      "                         :    2 : x         : 4.989e-01\n",
      "                         : -----------------------------------\n",
      "<HEADER> Factory                  : === Destroy and recreate all methods via weight files for testing ===\n",
      "                         : \n",
      "                         : Reading weight file: dataset/weights/_BDT.weights.xml\n",
      "<HEADER> Factory                  : Test all methods\n",
      "<HEADER> Factory                  : Test method: BDT for Classification performance\n",
      "                         : \n",
      "<HEADER> BDT                      : [dataset] : Evaluation of BDT on testing sample (1000 events)\n",
      "                         : Elapsed time for evaluation of 1000 events: 0.0519 sec       \n",
      "<HEADER> Factory                  : Evaluate all methods\n",
      "<HEADER> Factory                  : Evaluate classifier: BDT\n",
      "                         : \n",
      "<HEADER> BDT                      : [dataset] : Loop over test events and fill histograms with classifier response...\n",
      "                         : \n"
     ]
    },
    {
     "name": "stderr",
     "output_type": "stream",
     "text": [
      "0%, time left: unknown\n",
      "7%, time left: 0 sec\n",
      "13%, time left: 0 sec\n",
      "19%, time left: 0 sec\n",
      "25%, time left: 0 sec\n",
      "32%, time left: 0 sec\n",
      "38%, time left: 0 sec\n",
      "44%, time left: 0 sec\n",
      "50%, time left: 0 sec\n",
      "57%, time left: 0 sec\n",
      "63%, time left: 0 sec\n",
      "69%, time left: 0 sec\n",
      "75%, time left: 0 sec\n",
      "82%, time left: 0 sec\n",
      "88%, time left: 0 sec\n",
      "94%, time left: 0 sec\n"
     ]
    },
    {
     "name": "stdout",
     "output_type": "stream",
     "text": [
      "<HEADER> TFHandler_BDT            : Variable        Mean        RMS   [        Min        Max ]\n",
      "                         : -----------------------------------------------------------\n",
      "                         :        x:     1.0136    0.57754   [  0.0011208     1.9999 ]\n",
      "                         :        y:     1.4938    0.75135   [  0.0054384     2.9981 ]\n",
      "                         : -----------------------------------------------------------\n",
      "                         : \n",
      "                         : Evaluation results ranked by best signal efficiency and purity (area)\n",
      "                         : -------------------------------------------------------------------------------------------------------------------\n",
      "                         : DataSet       MVA                       \n",
      "                         : Name:         Method:          ROC-integ\n",
      "                         : dataset       BDT            : 0.870\n",
      "                         : -------------------------------------------------------------------------------------------------------------------\n",
      "                         : \n",
      "                         : Testing efficiency compared to training efficiency (overtraining check)\n",
      "                         : -------------------------------------------------------------------------------------------------------------------\n",
      "                         : DataSet              MVA              Signal efficiency: from test sample (from training sample) \n",
      "                         : Name:                Method:          @B=0.01             @B=0.10            @B=0.30   \n",
      "                         : -------------------------------------------------------------------------------------------------------------------\n",
      "                         : dataset              BDT            : 0.495 (0.675)       0.622 (0.754)      0.794 (0.908)\n",
      "                         : -------------------------------------------------------------------------------------------------------------------\n",
      "                         : \n",
      "<HEADER> Dataset:dataset          : Created tree 'TestTree' with 1000 events\n",
      "                         : \n",
      "<HEADER> Dataset:dataset          : Created tree 'TrainTree' with 1000 events\n",
      "                         : \n",
      "<HEADER> Factory                  : Thank you for using TMVA!\n",
      "                         : For citation information, please visit: http://tmva.sf.net/citeTMVA.html\n"
     ]
    }
   ],
   "source": [
    "factory.TrainAllMethods();\n",
    "factory.TestAllMethods();\n",
    "factory.EvaluateAllMethods();"
   ]
  },
  {
   "cell_type": "markdown",
   "metadata": {},
   "source": [
    "Clean up"
   ]
  },
  {
   "cell_type": "code",
   "execution_count": 8,
   "metadata": {
    "collapsed": false
   },
   "outputs": [],
   "source": [
    "outFile->Close();\n",
    "\n",
    "delete outFile;\n",
    "delete signalTree;\n",
    "delete backgroundTree;"
   ]
  }
 ],
 "metadata": {
  "kernelspec": {
   "display_name": "ROOT C++",
   "language": "c++",
   "name": "root"
  },
  "language_info": {
   "codemirror_mode": "text/x-c++src",
   "file_extension": ".C",
   "mimetype": " text/x-c++src",
   "name": "c++"
  }
 },
 "nbformat": 4,
 "nbformat_minor": 2
}
