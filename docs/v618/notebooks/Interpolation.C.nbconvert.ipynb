{
 "cells": [
  {
   "cell_type": "markdown",
   "metadata": {},
   "source": [
    "#  Interpolation\n",
    "More Information for R interpolation in\n",
    "http://stat.ethz.ch/R-manual/R-patched/library/stats/html/approxfun.html\n",
    "NOTE: this example illustrates an interpolation with random points given from ROOT\n",
    "and procedures made in R's environment.\n",
    "\n",
    "\n",
    "\n",
    "\n",
    "**Author:** Omar Zapata  \n",
    "<i><small>This notebook tutorial was automatically generated with <a href= \"https://github.com/root-project/root/blob/master/documentation/doxygen/converttonotebook.py\">ROOTBOOK-izer</a> from the macro found in the ROOT repository  on Thursday, August 29, 2019 at 02:36 AM.</small></i>"
   ]
  },
  {
   "cell_type": "code",
   "execution_count": 1,
   "metadata": {
    "collapsed": false
   },
   "outputs": [
    {
     "name": "stderr",
     "output_type": "stream",
     "text": [
      "In file included from input_line_26:1:\n",
      "In file included from /mnt/build/workspace/root-makedoc-v618/rootspi/rdoc/src/v6-18-00-patches.build/include/TRInterface.h:15:\n",
      "In file included from /mnt/build/workspace/root-makedoc-v618/rootspi/rdoc/src/v6-18-00-patches.build/include/TRObject.h:14:\n",
      "/mnt/build/workspace/root-makedoc-v618/rootspi/rdoc/src/v6-18-00-patches.build/include/RExports.h:54:9: fatal error: 'RcppCommon.h' file not found\n",
      "#include<RcppCommon.h>\n",
      "        ^~~~~~~~~~~~~~\n"
     ]
    }
   ],
   "source": [
    "%%cpp -d\n",
    "#include<TRInterface.h>\n",
    "#include<TRandom.h>\n",
    "#include<vector>"
   ]
  },
  {
   "cell_type": "code",
   "execution_count": 2,
   "metadata": {
    "collapsed": false
   },
   "outputs": [
    {
     "name": "stderr",
     "output_type": "stream",
     "text": [
      "In file included from libRInterface dictionary payload:5:\n",
      "/mnt/build/workspace/root-makedoc-v618/rootspi/rdoc/src/v6-18-00-patches.build/include/RExports.h:54:9: fatal error: 'RcppCommon.h' file not found\n",
      "#include<RcppCommon.h>\n",
      "        ^~~~~~~~~~~~~~\n",
      "Error in <TInterpreter::AutoParse>: Error parsing payload code for class ROOT::R::TRInterface with content:\n",
      "\n",
      "#line 1 \"libRInterface dictionary payload\"\n",
      "\n",
      "\n",
      "#define _BACKWARD_BACKWARD_WARNING_H\n",
      "// Inline headers\n",
      "#include \"RExports.h\"\n",
      "#include \"TRDataFrame.h\"\n",
      "#include \"TRFunctionExport.h\"\n",
      "#include \"TRFunctionImport.h\"\n",
      "#include \"TRInterface.h\"\n",
      "#include \"TRInternalFunction.h\"\n",
      "#include \"TRObject.h\"\n",
      "\n",
      "#undef  _BACKWARD_BACKWARD_WARNING_H\n",
      "\n",
      "input_line_27:2:35: error: incomplete type 'ROOT::R::TRInterface' named in nested name specifier\n",
      " ROOT::R::TRInterface &r=ROOT::R::TRInterface::Instance();\n",
      "                         ~~~~~~~~~^~~~~~~~~~~~~\n",
      "libRInterface dictionary forward declarations' payload:9:93: note: forward declaration of 'ROOT::R::TRInterface'\n",
      "namespace ROOT{namespace R{class __attribute__((annotate(\"$clingAutoload$TRInterface.h\")))  TRInterface;}}\n",
      "                                                                                            ^\n"
     ]
    }
   ],
   "source": [
    "ROOT::R::TRInterface &r=ROOT::R::TRInterface::Instance();"
   ]
  },
  {
   "cell_type": "markdown",
   "metadata": {},
   "source": [
    "Creating points"
   ]
  },
  {
   "cell_type": "code",
   "execution_count": 3,
   "metadata": {
    "collapsed": false
   },
   "outputs": [
    {
     "name": "stderr",
     "output_type": "stream",
     "text": [
      "input_line_35:2:3: error: use of undeclared identifier 'r'\n",
      " (r[\"x\"] = ((*(std::vector<Double_t>*)0x7ff068a3b060)))\n",
      "  ^\n",
      "Error in <HandleInterpreterException>: Error evaluating expression (r[\"x\"] = ((*(std::vector<Double_t>*)0x7ff068a3b060))).\n",
      "Execution of your code was aborted.\n"
     ]
    }
   ],
   "source": [
    "TRandom rg;\n",
    "std::vector<Double_t> x(10),y(10);\n",
    "for(int i=0;i<10;i++)\n",
    "{\n",
    "   x[i]=i;\n",
    "   y[i]=rg.Gaus();\n",
    "}\n",
    "\n",
    "r[\"x\"]=x;\n",
    "r[\"y\"]=y;"
   ]
  },
  {
   "cell_type": "markdown",
   "metadata": {},
   "source": [
    "Do plotting only in non-batch mode"
   ]
  },
  {
   "cell_type": "code",
   "execution_count": 4,
   "metadata": {
    "collapsed": false
   },
   "outputs": [
    {
     "name": "stderr",
     "output_type": "stream",
     "text": [
      "input_line_37:2:3: error: use of undeclared identifier 'r'\n",
      " (r << \"print('Interpolated points')\")\n",
      "  ^\n",
      "Error in <HandleInterpreterException>: Error evaluating expression (r << \"print('Interpolated points')\").\n",
      "Execution of your code was aborted.\n"
     ]
    }
   ],
   "source": [
    "if (!gROOT->IsBatch() )  {\n",
    "\n",
    "   r<<\"dev.new()\";//Required to activate new window for plot\n",
    "   //Plot parameter. Plotting using two rows and one column\n",
    "   r<<\"par(mfrow = c(2,1))\";\n",
    "\n",
    "   //plotting the points\n",
    "   r<<\"plot(x, y, main = 'approx(.) and approxfun(.)')\";\n",
    "\n",
    "   //The function \"approx\" returns a list with components x and y\n",
    "   //containing n coordinates which interpolate the given data points according to the method (and rule) desired.\n",
    "   r<<\"points(approx(x, y), col = 2, pch = '*')\";\n",
    "   r<<\"points(approx(x, y, method = 'constant'), col = 4, pch = '*')\";\n",
    "}\n",
    "else {\n",
    "   r << \"print('Interpolated points')\";\n",
    "   r << \"print(approx(x,y,n=20))\";\n",
    "}"
   ]
  },
  {
   "cell_type": "markdown",
   "metadata": {},
   "source": [
    "The function \"approxfun\" returns a function performing (linear or constant)\n",
    "interpolation of the given data.\n",
    "For a given set of x values, this function will return the corresponding interpolated values."
   ]
  },
  {
   "cell_type": "code",
   "execution_count": 5,
   "metadata": {
    "collapsed": false
   },
   "outputs": [
    {
     "name": "stderr",
     "output_type": "stream",
     "text": [
      "input_line_39:2:3: error: use of undeclared identifier 'r'\n",
      " (r << \"f <- approxfun(x, y)\")\n",
      "  ^\n",
      "Error in <HandleInterpreterException>: Error evaluating expression (r << \"f <- approxfun(x, y)\").\n",
      "Execution of your code was aborted.\n"
     ]
    }
   ],
   "source": [
    "r<<\"f <- approxfun(x, y)\";"
   ]
  },
  {
   "cell_type": "markdown",
   "metadata": {},
   "source": [
    "Using approxfun with const method"
   ]
  },
  {
   "cell_type": "code",
   "execution_count": 6,
   "metadata": {
    "collapsed": false
   },
   "outputs": [
    {
     "name": "stderr",
     "output_type": "stream",
     "text": [
      "input_line_41:2:3: error: use of undeclared identifier 'r'\n",
      " (r << \"fc <- approxfun(x, y, method = 'const')\")\n",
      "  ^\n",
      "Error in <HandleInterpreterException>: Error evaluating expression (r << \"fc <- approxfun(x, y, method = 'const')\").\n",
      "Execution of your code was aborted.\n"
     ]
    }
   ],
   "source": [
    "r<<\"fc <- approxfun(x, y, method = 'const')\";\n",
    "\n",
    "if (!gROOT->IsBatch() ) {\n",
    "   r<<\"curve(f(x), 0, 11, col = 'green2')\";\n",
    "   r<<\"points(x, y)\";\n",
    "\n",
    "   r<<\"curve(fc(x), 0, 10, col = 'darkblue', add = TRUE)\";\n",
    "   // different interpolation on left and right side :\n",
    "   r<<\"plot(approxfun(x, y, rule = 2:1), 0, 11,col = 'tomato', add = TRUE, lty = 3, lwd = 2)\";\n",
    "   r<<\"dev.off()\";//Required to close new window for plot\n",
    "}\n",
    "else {\n",
    "   r << \"x2=x+0.5\";\n",
    "   r << \"print('Result of approxfun with default method')\";\n",
    "   r << \"print(paste('x = ',x,'  f(x) = ',f(x2)))\";\n",
    "   r << \"print('Result of approxfun with const method')\";\n",
    "   r << \"print(paste('x = ',x,'  f(x) = ',fc(x2)))\";\n",
    "}"
   ]
  }
 ],
 "metadata": {
  "kernelspec": {
   "display_name": "ROOT C++",
   "language": "c++",
   "name": "root"
  },
  "language_info": {
   "codemirror_mode": "text/x-c++src",
   "file_extension": ".C",
   "mimetype": " text/x-c++src",
   "name": "c++"
  }
 },
 "nbformat": 4,
 "nbformat_minor": 2
}
