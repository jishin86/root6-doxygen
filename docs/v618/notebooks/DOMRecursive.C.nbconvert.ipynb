{
 "cells": [
  {
   "cell_type": "markdown",
   "metadata": {},
   "source": [
    "#  D O M Recursive\n",
    "ROOT implementation of a XML DOM Parser\n",
    "\n",
    "This is an example of how Dom Parser walks the DOM tree recursively.\n",
    "This example will parse any xml file.\n",
    "\n",
    "To run this program\n",
    "```cpp\n",
    ".x DOMRecursive.C+\n",
    "```\n",
    "\n",
    "Requires: `person.xml`\n",
    "\n",
    "\n",
    "\n",
    "\n",
    "**Author:** Sergey Linev  \n",
    "<i><small>This notebook tutorial was automatically generated with <a href= \"https://github.com/root-project/root/blob/master/documentation/doxygen/converttonotebook.py\">ROOTBOOK-izer</a> from the macro found in the ROOT repository  on Thursday, August 29, 2019 at 04:07 AM.</small></i>"
   ]
  },
  {
   "cell_type": "code",
   "execution_count": 1,
   "metadata": {
    "collapsed": false
   },
   "outputs": [],
   "source": [
    "%%cpp -d\n",
    "#include <Riostream.h>\n",
    "#include <TDOMParser.h>\n",
    "#include <TXMLNode.h>\n",
    "#include <TXMLAttr.h>\n",
    "#include <TList.h>"
   ]
  },
  {
   "cell_type": "markdown",
   "metadata": {},
   "source": [
    " A helper function is created: "
   ]
  },
  {
   "cell_type": "code",
   "execution_count": 2,
   "metadata": {
    "collapsed": false
   },
   "outputs": [],
   "source": [
    "%%cpp -d\n",
    "void ParseContext(TXMLNode *node)\n",
    "{\n",
    "   for ( ; node; node = node->GetNextNode()) {\n",
    "      if (node->GetNodeType() == TXMLNode::kXMLElementNode) { // Element Node\n",
    "         cout << node->GetNodeName() << \": \";\n",
    "         if (node->HasAttributes()) {\n",
    "            TList* attrList = node->GetAttributes();\n",
    "            TIter next(attrList);\n",
    "            TXMLAttr *attr;\n",
    "            while ((attr =(TXMLAttr*)next())) {\n",
    "               cout << attr->GetName() << \":\" << attr->GetValue();\n",
    "            }\n",
    "         }\n",
    "     }\n",
    "     if (node->GetNodeType() == TXMLNode::kXMLTextNode) { // Text node\n",
    "        cout << node->GetContent();\n",
    "     }\n",
    "     if (node->GetNodeType() == TXMLNode::kXMLCommentNode) { //Comment node\n",
    "        cout << \"Comment: \" << node->GetContent();\n",
    "     }\n",
    "\n",
    "     ParseContext(node->GetChildren());\n",
    "   }\n",
    "}"
   ]
  },
  {
   "cell_type": "code",
   "execution_count": 3,
   "metadata": {
    "collapsed": false
   },
   "outputs": [
    {
     "name": "stdout",
     "output_type": "stream",
     "text": [
      "PersonList: \n",
      "Comment: \n",
      "  This is an example...\n",
      "\n",
      "Person: ID:1\n",
      "    FirstName: Alicia\n",
      "    LastName: Smith\n",
      "    Gender: F\n",
      "    DateOfBirth: \n",
      "        Day: 13\n",
      "        Month: 10\n",
      "        Year: 1978\n",
      "    \n",
      "    Address: \n",
      "        Street: Grand Avenue, 143\n",
      "        PostalCode: Toronto 2283\n",
      "        Country: Canada\n",
      "    \n",
      "  \n",
      "  Person: ID:2\n",
      "    FirstName: Maria\n",
      "    LastName: White\n",
      "    Gender: F\n",
      "    DateOfBirth: \n",
      "        Day: 29\n",
      "        Month: 5\n",
      "        Year: 1980\n",
      "    \n",
      "    Address: \n",
      "        Street: Green Land Park, 143\n",
      "        PostalCode: Vancouver BC V6C 2C2\n",
      "        Country: Canada\n",
      "    \n",
      "  \n"
     ]
    }
   ],
   "source": [
    "  TDOMParser *domParser = new TDOMParser();\n",
    "  TString dir = gROOT->GetTutorialDir();\n",
    "  domParser->SetValidate(false); // do not validate with DTD\n",
    "  domParser->ParseFile(dir+\"/xml/person.xml\");\n",
    "\n",
    "  TXMLNode *node = domParser->GetXMLDocument()->GetRootNode();\n",
    "\n",
    "  ParseContext(node);"
   ]
  }
 ],
 "metadata": {
  "kernelspec": {
   "display_name": "ROOT C++",
   "language": "c++",
   "name": "root"
  },
  "language_info": {
   "codemirror_mode": "text/x-c++src",
   "file_extension": ".C",
   "mimetype": " text/x-c++src",
   "name": "c++"
  }
 },
 "nbformat": 4,
 "nbformat_minor": 2
}
