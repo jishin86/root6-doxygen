{
 "cells": [
  {
   "cell_type": "markdown",
   "metadata": {},
   "source": [
    "# Rf 2 0 6_Treevistools\n",
    "Addition and convolution: tools for visualization of ROOT.RooAbsArg expression trees\n",
    "\n",
    "\n",
    "\n",
    "\n",
    "**Author:** Clemens Lange, Wouter Verkerke (C++ version)  \n",
    "<i><small>This notebook tutorial was automatically generated with <a href= \"https://github.com/root-project/root/blob/master/documentation/doxygen/converttonotebook.py\">ROOTBOOK-izer</a> from the macro found in the ROOT repository  on Thursday, August 29, 2019 at 02:44 AM.</small></i>"
   ]
  },
  {
   "cell_type": "code",
   "execution_count": 1,
   "metadata": {
    "collapsed": false
   },
   "outputs": [
    {
     "name": "stdout",
     "output_type": "stream",
     "text": [
      "Welcome to JupyROOT 6.18/03\n"
     ]
    }
   ],
   "source": [
    "import ROOT"
   ]
  },
  {
   "cell_type": "markdown",
   "metadata": {},
   "source": [
    "Set up composite pdf\n",
    "--------------------------------------"
   ]
  },
  {
   "cell_type": "markdown",
   "metadata": {},
   "source": [
    "Declare observable x"
   ]
  },
  {
   "cell_type": "code",
   "execution_count": 2,
   "metadata": {
    "collapsed": false
   },
   "outputs": [
    {
     "name": "stdout",
     "output_type": "stream",
     "text": [
      "\n",
      "\u001b[1mRooFit v3.60 -- Developed by Wouter Verkerke and David Kirkby\u001b[0m \n",
      "                Copyright (C) 2000-2013 NIKHEF, University of California & Stanford University\n",
      "                All rights reserved, please read http://roofit.sourceforge.net/license.txt\n",
      "\n"
     ]
    }
   ],
   "source": [
    "x = ROOT.RooRealVar(\"x\", \"x\", 0, 10)"
   ]
  },
  {
   "cell_type": "markdown",
   "metadata": {},
   "source": [
    "Create two Gaussian PDFs g1(x,mean1,sigma) anf g2(x,mean2,sigma) and\n",
    "their parameters"
   ]
  },
  {
   "cell_type": "code",
   "execution_count": 3,
   "metadata": {
    "collapsed": false
   },
   "outputs": [],
   "source": [
    "mean = ROOT.RooRealVar(\"mean\", \"mean of gaussians\", 5)\n",
    "sigma1 = ROOT.RooRealVar(\"sigma1\", \"width of gaussians\", 0.5)\n",
    "sigma2 = ROOT.RooRealVar(\"sigma2\", \"width of gaussians\", 1)\n",
    "sig1 = ROOT.RooGaussian(\"sig1\", \"Signal component 1\", x, mean, sigma1)\n",
    "sig2 = ROOT.RooGaussian(\"sig2\", \"Signal component 2\", x, mean, sigma2)"
   ]
  },
  {
   "cell_type": "markdown",
   "metadata": {},
   "source": [
    "Sum the signal components into a composite signal p.d.f."
   ]
  },
  {
   "cell_type": "code",
   "execution_count": 4,
   "metadata": {
    "collapsed": false
   },
   "outputs": [],
   "source": [
    "sig1frac = ROOT.RooRealVar(\n",
    "    \"sig1frac\", \"fraction of component 1 in signal\", 0.8, 0., 1.)\n",
    "sig = ROOT.RooAddPdf(\n",
    "    \"sig\", \"Signal\", ROOT.RooArgList(sig1, sig2), ROOT.RooArgList(sig1frac))"
   ]
  },
  {
   "cell_type": "markdown",
   "metadata": {},
   "source": [
    "Build Chebychev polynomial p.d.f."
   ]
  },
  {
   "cell_type": "code",
   "execution_count": 5,
   "metadata": {
    "collapsed": false
   },
   "outputs": [],
   "source": [
    "a0 = ROOT.RooRealVar(\"a0\", \"a0\", 0.5, 0., 1.)\n",
    "a1 = ROOT.RooRealVar(\"a1\", \"a1\", -0.2, 0., 1.)\n",
    "bkg1 = ROOT.RooChebychev(\"bkg1\", \"Background 1\",\n",
    "                         x, ROOT.RooArgList(a0, a1))"
   ]
  },
  {
   "cell_type": "markdown",
   "metadata": {},
   "source": [
    "Build expontential pdf"
   ]
  },
  {
   "cell_type": "code",
   "execution_count": 6,
   "metadata": {
    "collapsed": false
   },
   "outputs": [],
   "source": [
    "alpha = ROOT.RooRealVar(\"alpha\", \"alpha\", -1)\n",
    "bkg2 = ROOT.RooExponential(\"bkg2\", \"Background 2\", x, alpha)"
   ]
  },
  {
   "cell_type": "markdown",
   "metadata": {},
   "source": [
    "Sum the background components into a composite background p.d.f."
   ]
  },
  {
   "cell_type": "code",
   "execution_count": 7,
   "metadata": {
    "collapsed": false
   },
   "outputs": [],
   "source": [
    "bkg1frac = ROOT.RooRealVar(\n",
    "    \"bkg1frac\", \"fraction of component 1 in background\", 0.2, 0., 1.)\n",
    "bkg = ROOT.RooAddPdf(\n",
    "    \"bkg\", \"Signal\", ROOT.RooArgList(bkg1, bkg2), ROOT.RooArgList(bkg1frac))"
   ]
  },
  {
   "cell_type": "markdown",
   "metadata": {},
   "source": [
    "Sum the composite signal and background"
   ]
  },
  {
   "cell_type": "code",
   "execution_count": 8,
   "metadata": {
    "collapsed": false
   },
   "outputs": [],
   "source": [
    "bkgfrac = ROOT.RooRealVar(\"bkgfrac\", \"fraction of background\", 0.5, 0., 1.)\n",
    "model = ROOT.RooAddPdf(\n",
    "    \"model\", \"g1+g2+a\", ROOT.RooArgList(bkg, sig), ROOT.RooArgList(bkgfrac))"
   ]
  },
  {
   "cell_type": "markdown",
   "metadata": {},
   "source": [
    "Print composite tree in ASCII\n",
    "-----------------------------------------------------------"
   ]
  },
  {
   "cell_type": "markdown",
   "metadata": {},
   "source": [
    "Print tree to stdout"
   ]
  },
  {
   "cell_type": "code",
   "execution_count": 9,
   "metadata": {
    "collapsed": false
   },
   "outputs": [
    {
     "name": "stdout",
     "output_type": "stream",
     "text": [
      "0x56363ea60860 RooAddPdf::model = 0.602695 [Auto,Dirty] \n",
      "  0x56363eab6b70/V- RooAddPdf::bkg = 0.20539 [Auto,Dirty] \n",
      "    0x56363eab9d30/V- RooChebychev::bkg1 = 1 [Auto,Dirty] \n",
      "      0x56363dc0e1f0/V- RooRealVar::x = 5\n",
      "      0x56363cf730a0/V- RooRealVar::a0 = 0.5\n",
      "      0x56363ea451e0/V- RooRealVar::a1 = 0\n",
      "    0x56363ea6e040/V- RooRealVar::bkg1frac = 0.2\n",
      "    0x56363ea97e20/V- RooExponential::bkg2 = 0.00673795 [Auto,Dirty] \n",
      "      0x56363dc0e1f0/V- RooRealVar::x = 5\n",
      "      0x56363ea96110/V- RooRealVar::alpha = -1\n",
      "  0x56363eabcca0/V- RooRealVar::bkgfrac = 0.5\n",
      "  0x56363ea75610/V- RooAddPdf::sig = 1 [Auto,Dirty] \n",
      "    0x56363e96fc00/V- RooGaussian::sig1 = 1 [Auto,Dirty] \n",
      "      0x56363dc0e1f0/V- RooRealVar::x = 5\n",
      "      0x56363d80fec0/V- RooRealVar::mean = 5\n",
      "      0x56363cfaf980/V- RooRealVar::sigma1 = 0.5\n",
      "    0x56363cfd0040/V- RooRealVar::sig1frac = 0.8\n",
      "    0x56363d898ae0/V- RooGaussian::sig2 = 1 [Auto,Dirty] \n",
      "      0x56363dc0e1f0/V- RooRealVar::x = 5\n",
      "      0x56363d80fec0/V- RooRealVar::mean = 5\n",
      "      0x56363d3b5f10/V- RooRealVar::sigma2 = 1\n"
     ]
    }
   ],
   "source": [
    "model.Print(\"t\")"
   ]
  },
  {
   "cell_type": "markdown",
   "metadata": {},
   "source": [
    "Print tree to file"
   ]
  },
  {
   "cell_type": "code",
   "execution_count": 10,
   "metadata": {
    "collapsed": false
   },
   "outputs": [],
   "source": [
    "model.printCompactTree(\"\", \"rf206_asciitree.txt\")"
   ]
  },
  {
   "cell_type": "markdown",
   "metadata": {},
   "source": [
    "Draw composite tree graphically\n",
    "-------------------------------------------------------------"
   ]
  },
  {
   "cell_type": "markdown",
   "metadata": {},
   "source": [
    "Print GraphViz DOT file with representation of tree"
   ]
  },
  {
   "cell_type": "code",
   "execution_count": 11,
   "metadata": {
    "collapsed": false
   },
   "outputs": [],
   "source": [
    "model.graphVizTree(\"rf206_model.dot\")"
   ]
  }
 ],
 "metadata": {
  "kernelspec": {
   "display_name": "Python 2",
   "language": "python",
   "name": "python2"
  },
  "language_info": {
   "codemirror_mode": {
    "name": "ipython",
    "version": 2
   },
   "file_extension": ".py",
   "mimetype": "text/x-python",
   "name": "python",
   "nbconvert_exporter": "python",
   "pygments_lexer": "ipython2",
   "version": "2.7.10"
  }
 },
 "nbformat": 4,
 "nbformat_minor": 2
}
