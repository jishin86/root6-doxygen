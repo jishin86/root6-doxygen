{
 "cells": [
  {
   "cell_type": "markdown",
   "metadata": {},
   "source": [
    "# Hsum Timer\n",
    "Demo of Timers.\n",
    "\n",
    "Simple example illustrating how to use the C++ interpreter\n",
    "to fill histograms in a loop and show the graphics results\n",
    "This program is a variant of the tutorial \"hsum\".\n",
    "It illustrates the use of Timers.\n",
    "\n",
    "\n",
    "\n",
    "\n",
    "**Author:** Rene Brun  \n",
    "<i><small>This notebook tutorial was automatically generated with <a href= \"https://github.com/root-project/root/blob/master/documentation/doxygen/converttonotebook.py\">ROOTBOOK-izer</a> from the macro found in the ROOT repository  on Thursday, August 29, 2019 at 01:55 AM.</small></i>"
   ]
  },
  {
   "cell_type": "code",
   "execution_count": 1,
   "metadata": {
    "collapsed": false
   },
   "outputs": [],
   "source": [
    "Float_t progressRatio;\n",
    "TSlider *slider;\n",
    "TCanvas *c1;"
   ]
  },
  {
   "cell_type": "markdown",
   "metadata": {},
   "source": [
    " A helper function is created: "
   ]
  },
  {
   "cell_type": "code",
   "execution_count": 2,
   "metadata": {
    "collapsed": false
   },
   "outputs": [],
   "source": [
    "%%cpp -d\n",
    "void hsumUpdate()\n",
    "{\n",
    "// called when Timer times out\n",
    "   if (slider) slider->SetRange(0, ::progressRatio);\n",
    "   c1->Modified();\n",
    "   c1->Update();\n",
    "}"
   ]
  },
  {
   "cell_type": "markdown",
   "metadata": {},
   "source": [
    " Arguments are defined. "
   ]
  },
  {
   "cell_type": "code",
   "execution_count": 3,
   "metadata": {
    "collapsed": false
   },
   "outputs": [],
   "source": [
    "Int_t nfill=100000;"
   ]
  },
  {
   "cell_type": "code",
   "execution_count": 4,
   "metadata": {
    "collapsed": false
   },
   "outputs": [],
   "source": [
    "c1 = new TCanvas(\"c1\",\"The HSUM example\",200,10,600,400);\n",
    "c1->SetGrid();"
   ]
  },
  {
   "cell_type": "markdown",
   "metadata": {},
   "source": [
    "Create some histograms."
   ]
  },
  {
   "cell_type": "code",
   "execution_count": 5,
   "metadata": {
    "collapsed": false
   },
   "outputs": [],
   "source": [
    "auto total  = new TH1F(\"total\",\"This is the total distribution\",100,-4,4);\n",
    "auto main   = new TH1F(\"main\",\"Main contributor\",100,-4,4);\n",
    "auto s1     = new TH1F(\"s1\",\"This is the first signal\",100,-4,4);\n",
    "auto s2     = new TH1F(\"s2\",\"This is the second signal\",100,-4,4);\n",
    "total->Sumw2();   // store the sum of squares of weights\n",
    "total->SetMarkerStyle(21);\n",
    "total->SetMarkerSize(0.7);\n",
    "main->SetFillColor(16);\n",
    "s1->SetFillColor(42);\n",
    "s2->SetFillColor(46);\n",
    "total->SetMaximum(nfill/20.);\n",
    "total->Draw(\"e1p\");\n",
    "main->Draw(\"same\");\n",
    "s1->Draw(\"same\");\n",
    "s2->Draw(\"same\");\n",
    "c1->Update();slider = new TSlider(\"slider\",\n",
    "   \"test\",4.2,0,4.6,0.8*total->GetMaximum(),38);\n",
    "slider->SetFillColor(46);"
   ]
  },
  {
   "cell_type": "markdown",
   "metadata": {},
   "source": [
    "Create a ttimer (hsumupdate called every 300 msec)"
   ]
  },
  {
   "cell_type": "code",
   "execution_count": 6,
   "metadata": {
    "collapsed": false
   },
   "outputs": [],
   "source": [
    "TTimer timer(\"hsumUpdate()\",300);\n",
    "timer.TurnOn();"
   ]
  },
  {
   "cell_type": "markdown",
   "metadata": {},
   "source": [
    "Fill histograms randomly"
   ]
  },
  {
   "cell_type": "code",
   "execution_count": 7,
   "metadata": {
    "collapsed": false
   },
   "outputs": [],
   "source": [
    "Float_t xs1, xs2, xmain;\n",
    "gRandom->SetSeed();\n",
    "for (Int_t i=0; i<nfill; i++) {\n",
    "   ::progressRatio = Float_t(i)/Float_t(nfill);\n",
    "   if (gSystem->ProcessEvents()) break;\n",
    "   xmain = gRandom->Gaus(-1,1.5);\n",
    "   xs1   = gRandom->Gaus(-0.5,0.5);\n",
    "   xs2   = gRandom->Landau(1,0.15);\n",
    "   main->Fill(xmain);\n",
    "   s1->Fill(xs1,0.3);\n",
    "   s2->Fill(xs2,0.2);\n",
    "   total->Fill(xmain);\n",
    "   total->Fill(xs1,0.3);\n",
    "   total->Fill(xs2,0.2);\n",
    "}\n",
    "timer.TurnOff();\n",
    "hsumUpdate();"
   ]
  },
  {
   "cell_type": "markdown",
   "metadata": {},
   "source": [
    "Draw all canvases "
   ]
  },
  {
   "cell_type": "code",
   "execution_count": 8,
   "metadata": {
    "collapsed": false
   },
   "outputs": [
    {
     "data": {
      "text/html": [
       "\n",
       "<div id=\"root_plot_1\"\n",
       "     style=\"width: 596px; height: 372px\">\n",
       "</div>\n",
       "\n",
       "<script>\n",
       " requirejs.config({\n",
       "     paths: {\n",
       "       'JSRootCore' : 'https://root.cern.ch/js/notebook//scripts/JSRootCore',\n",
       "     }\n",
       "   });\n",
       " require(['JSRootCore'],\n",
       "     function(Core) {\n",
       "       var obj = Core.JSONR_unref({\"_typename\":\"TCanvas\",\"fUniqueID\":0,\"fBits\":53673992,\"fLineColor\":1,\"fLineStyle\":1,\"fLineWidth\":1,\"fFillColor\":0,\"fFillStyle\":1001,\"fLeftMargin\":0.1,\"fRightMargin\":0.1,\"fBottomMargin\":0.1,\"fTopMargin\":0.1,\"fXfile\":2,\"fYfile\":2,\"fAfile\":1,\"fXstat\":0.99,\"fYstat\":0.99,\"fAstat\":2,\"fFrameFillColor\":0,\"fFrameLineColor\":1,\"fFrameFillStyle\":1001,\"fFrameLineStyle\":1,\"fFrameLineWidth\":1,\"fFrameBorderSize\":1,\"fFrameBorderMode\":0,\"fX1\":-5.00000007450581,\"fY1\":-625.000046566131,\"fX2\":5.00000007450581,\"fY2\":5625.00004656613,\"fXtoAbsPixelk\":298.00005,\"fXtoPixelk\":298.00005,\"fXtoPixel\":59.5999991118908,\"fYtoAbsPixelk\":334.800047782707,\"fYtoPixelk\":334.800047782707,\"fYtoPixel\":-0.0595199991130828,\"fUtoAbsPixelk\":5e-5,\"fUtoPixelk\":5e-5,\"fUtoPixel\":596,\"fVtoAbsPixelk\":372.00005,\"fVtoPixelk\":372,\"fVtoPixel\":-372,\"fAbsPixeltoXk\":-5.00000007450581,\"fPixeltoXk\":-5.00000007450581,\"fPixeltoX\":0.0167785237399524,\"fAbsPixeltoYk\":5625.00004656613,\"fPixeltoYk\":-625.000046566131,\"fPixeltoY\":-16.8010755191727,\"fXlowNDC\":0,\"fYlowNDC\":0,\"fXUpNDC\":0,\"fYUpNDC\":0,\"fWNDC\":1,\"fHNDC\":1,\"fAbsXlowNDC\":0,\"fAbsYlowNDC\":0,\"fAbsWNDC\":1,\"fAbsHNDC\":1,\"fUxmin\":-4,\"fUymin\":0,\"fUxmax\":4,\"fUymax\":5000,\"fTheta\":30,\"fPhi\":30,\"fAspectRatio\":0,\"fNumber\":0,\"fTickx\":0,\"fTicky\":0,\"fLogx\":0,\"fLogy\":0,\"fLogz\":0,\"fPadPaint\":0,\"fCrosshair\":0,\"fCrosshairPos\":0,\"fBorderSize\":2,\"fBorderMode\":0,\"fModified\":false,\"fGridx\":true,\"fGridy\":true,\"fAbsCoord\":false,\"fEditable\":true,\"fFixedAspectRatio\":false,\"fPrimitives\":{\"_typename\":\"TList\",\"name\":\"TList\",\"arr\":[{\"_typename\":\"TFrame\",\"fUniqueID\":0,\"fBits\":50331656,\"fLineColor\":1,\"fLineStyle\":1,\"fLineWidth\":1,\"fFillColor\":0,\"fFillStyle\":1001,\"fX1\":-4,\"fY1\":0,\"fX2\":4,\"fY2\":5000,\"fBorderSize\":1,\"fBorderMode\":0},{\"_typename\":\"TH1F\",\"fUniqueID\":0,\"fBits\":50331656,\"fName\":\"total\",\"fTitle\":\"This is the total distribution\",\"fLineColor\":602,\"fLineStyle\":1,\"fLineWidth\":1,\"fFillColor\":0,\"fFillStyle\":1001,\"fMarkerColor\":1,\"fMarkerStyle\":21,\"fMarkerSize\":0.7,\"fNcells\":102,\"fXaxis\":{\"_typename\":\"TAxis\",\"fUniqueID\":0,\"fBits\":50331648,\"fName\":\"xaxis\",\"fTitle\":\"\",\"fNdivisions\":510,\"fAxisColor\":1,\"fLabelColor\":1,\"fLabelFont\":42,\"fLabelOffset\":0.005,\"fLabelSize\":0.035,\"fTickLength\":0.03,\"fTitleOffset\":1,\"fTitleSize\":0.035,\"fTitleColor\":1,\"fTitleFont\":42,\"fNbins\":100,\"fXmin\":-4,\"fXmax\":4,\"fXbins\":[],\"fFirst\":0,\"fLast\":0,\"fBits2\":0,\"fTimeDisplay\":false,\"fTimeFormat\":\"\",\"fLabels\":null,\"fModLabs\":null},\"fYaxis\":{\"_typename\":\"TAxis\",\"fUniqueID\":0,\"fBits\":50331648,\"fName\":\"yaxis\",\"fTitle\":\"\",\"fNdivisions\":510,\"fAxisColor\":1,\"fLabelColor\":1,\"fLabelFont\":42,\"fLabelOffset\":0.005,\"fLabelSize\":0.035,\"fTickLength\":0.03,\"fTitleOffset\":0,\"fTitleSize\":0.035,\"fTitleColor\":1,\"fTitleFont\":42,\"fNbins\":1,\"fXmin\":0,\"fXmax\":1,\"fXbins\":[],\"fFirst\":0,\"fLast\":0,\"fBits2\":0,\"fTimeDisplay\":false,\"fTimeFormat\":\"\",\"fLabels\":null,\"fModLabs\":null},\"fZaxis\":{\"_typename\":\"TAxis\",\"fUniqueID\":0,\"fBits\":50331648,\"fName\":\"zaxis\",\"fTitle\":\"\",\"fNdivisions\":510,\"fAxisColor\":1,\"fLabelColor\":1,\"fLabelFont\":42,\"fLabelOffset\":0.005,\"fLabelSize\":0.035,\"fTickLength\":0.03,\"fTitleOffset\":1,\"fTitleSize\":0.035,\"fTitleColor\":1,\"fTitleFont\":42,\"fNbins\":1,\"fXmin\":0,\"fXmax\":1,\"fXbins\":[],\"fFirst\":0,\"fLast\":0,\"fBits2\":0,\"fTimeDisplay\":false,\"fTimeFormat\":\"\",\"fLabels\":null,\"fModLabs\":null},\"fBarOffset\":0,\"fBarWidth\":1000,\"fEntries\":300000,\"fTsumw\":146612.000000003,\"fTsumw2\":110505.599999555,\"fTsumwx\":-78472.0336350595,\"fTsumwx2\":331596.14582723,\"fMaximum\":5000,\"fMinimum\":-1111,\"fNormFactor\":0,\"fContour\":[],\"fSumw2\":[2233,317,302,376,421,475,475,534,570,654,712,781,783,872,940,1019,1036,1183,1141.27,1259.27,1285.18,1387.54,1460.53,1600.71,1596.96,1631.67,1760.56,1740.42,1809.79999999999,1933.14999999999,2016.74999999998,2014.30999999998,2012.43999999997,2190.80999999997,2157.47999999996,2355.26999999997,2372.99999999997,2455.82999999998,2484.00999999998,2477.40999999998,2625.72,2648.74000000003,2699.68000000004,2622.85,2596.47000000002,2537.88,2497.05999999997,2403.46999999995,2353.76999999993,2281.20999999991,2104.07999999987,2040.74999999987,1859.7699999999,1804.45999999993,1689.04999999995,1533.74999999997,1471.78999999998,1406.60999999999,1238.78999999999,1288.68999999996,1276.00999999991,1283.11999999985,1331.18999999982,1233.70999999982,1125.15999999986,1096.83999999988,948.229999999926,849.45999999995,760.239999999976,699.859999999987,624.289999999999,545.920000000016,510.280000000024,455.640000000014,417.760000000011,332.880000000004,323.090000000001,283.879999999999,251.279999999997,218.399999999998,200.759999999999,176.68,152,154.36,126.400000000001,118.760000000001,77.24,96.6000000000007,87.7200000000001,78.8800000000002,44.9199999999998,56.9999999999998,46.7199999999998,42.9199999999999,39.3999999999998,27.7999999999998,25.5999999999999,32.5199999999999,21.4799999999999,17.1599999999999,14.4799999999999,261.399999999988],\"fOption\":\"\",\"fFunctions\":{\"_typename\":\"TList\",\"name\":\"TList\",\"arr\":[{\"_typename\":\"TPaveStats\",\"fUniqueID\":0,\"fBits\":50331657,\"fLineColor\":1,\"fLineStyle\":1,\"fLineWidth\":1,\"fFillColor\":0,\"fFillStyle\":1001,\"fX1\":2.8000002026558,\"fY1\":4218.75006286428,\"fX2\":4.80000026226044,\"fY2\":5218.7500554137,\"fX1NDC\":0.780000016093254,\"fY1NDC\":0.775000005960464,\"fX2NDC\":0.980000019073486,\"fY2NDC\":0.935000002384186,\"fBorderSize\":1,\"fInit\":1,\"fShadowColor\":1,\"fCornerRadius\":0,\"fOption\":\"brNDC\",\"fName\":\"stats\",\"fTextAngle\":0,\"fTextSize\":0,\"fTextAlign\":12,\"fTextColor\":1,\"fTextFont\":42,\"fLabel\":\"\",\"fLongest\":18,\"fMargin\":0.05,\"fLines\":{\"_typename\":\"TList\",\"name\":\"TList\",\"arr\":[{\"_typename\":\"TLatex\",\"fUniqueID\":0,\"fBits\":50331648,\"fName\":\"\",\"fTitle\":\"total\",\"fTextAngle\":0,\"fTextSize\":0.0368,\"fTextAlign\":0,\"fTextColor\":0,\"fTextFont\":0,\"fX\":0,\"fY\":0,\"fLineColor\":1,\"fLineStyle\":1,\"fLineWidth\":2,\"fLimitFactorSize\":3,\"fOriginSize\":0.0368000008165836},{\"_typename\":\"TLatex\",\"fUniqueID\":0,\"fBits\":50331648,\"fName\":\"\",\"fTitle\":\"Entries = 300000 \",\"fTextAngle\":0,\"fTextSize\":0,\"fTextAlign\":0,\"fTextColor\":0,\"fTextFont\":0,\"fX\":0,\"fY\":0,\"fLineColor\":1,\"fLineStyle\":1,\"fLineWidth\":2,\"fLimitFactorSize\":3,\"fOriginSize\":0.04},{\"_typename\":\"TLatex\",\"fUniqueID\":0,\"fBits\":50331648,\"fName\":\"\",\"fTitle\":\"Mean  = -0.5352\",\"fTextAngle\":0,\"fTextSize\":0,\"fTextAlign\":0,\"fTextColor\":0,\"fTextFont\":0,\"fX\":0,\"fY\":0,\"fLineColor\":1,\"fLineStyle\":1,\"fLineWidth\":2,\"fLimitFactorSize\":3,\"fOriginSize\":0.04},{\"_typename\":\"TLatex\",\"fUniqueID\":0,\"fBits\":50331648,\"fName\":\"\",\"fTitle\":\"Std Dev   =  1.405\",\"fTextAngle\":0,\"fTextSize\":0,\"fTextAlign\":0,\"fTextColor\":0,\"fTextFont\":0,\"fX\":0,\"fY\":0,\"fLineColor\":1,\"fLineStyle\":1,\"fLineWidth\":2,\"fLimitFactorSize\":3,\"fOriginSize\":0.04}],\"opt\":[\"\",\"\",\"\",\"\"]},\"fOptFit\":0,\"fOptStat\":1111,\"fFitFormat\":\"5.4g\",\"fStatFormat\":\"6.4g\",\"fParent\":{\"$ref\":3}}],\"opt\":[\"brNDC\"]},\"fBufferSize\":0,\"fBuffer\":[],\"fBinStatErrOpt\":0,\"fStatOverflows\":2,\"fArray\":[2233,317,302,376,421,475,475,534,570,654,712,781,783,872,940,1019,1036,1183,1141.9,1259.9,1285.6,1388.8,1464.1,1604.7,1606.201,1644.901,1778.202,1769.402,1856.004,2003.507,2116.51,2152.713,2204.82,2444.732,2487.641,2796.961,2919.073,3146.201,3279.813,3432.843,3677.564,3821.987,3949.805,3917.708,3937.114,3846.806,3806.409,3618.09,3478.07,3303.851,2988.723,2791.597,2500.977,2307.256,2097.54,1843.527,1709.316,1581.31,1406.103,1666.48,2092.608,2581,2863.638,2757.635,2536.179,2303.224,1975.378,1721.721,1460.563,1282.988,1125.31,945.6205,875.4191,762.2141,676.811,564.4083,527.3063,455.4048,416.4039,360.0021,319.8007,283.3994,243.9988,243.7989,203.9991,193.7991,150.1993,158.9994,142.5995,130.3996,92.59982,104.9996,89.5999,82.59996,77.00002,67.00012,60.00012,62.6001,51.40008,45.80008,40.40007,1155.011]},{\"_typename\":\"TH1F\",\"fUniqueID\":0,\"fBits\":50331656,\"fName\":\"main\",\"fTitle\":\"Main contributor\",\"fLineColor\":602,\"fLineStyle\":1,\"fLineWidth\":1,\"fFillColor\":16,\"fFillStyle\":1001,\"fMarkerColor\":1,\"fMarkerStyle\":1,\"fMarkerSize\":1,\"fNcells\":102,\"fXaxis\":{\"_typename\":\"TAxis\",\"fUniqueID\":0,\"fBits\":50331648,\"fName\":\"xaxis\",\"fTitle\":\"\",\"fNdivisions\":510,\"fAxisColor\":1,\"fLabelColor\":1,\"fLabelFont\":42,\"fLabelOffset\":0.005,\"fLabelSize\":0.035,\"fTickLength\":0.03,\"fTitleOffset\":1,\"fTitleSize\":0.035,\"fTitleColor\":1,\"fTitleFont\":42,\"fNbins\":100,\"fXmin\":-4,\"fXmax\":4,\"fXbins\":[],\"fFirst\":0,\"fLast\":0,\"fBits2\":0,\"fTimeDisplay\":false,\"fTimeFormat\":\"\",\"fLabels\":null,\"fModLabs\":null},\"fYaxis\":{\"_typename\":\"TAxis\",\"fUniqueID\":0,\"fBits\":50331648,\"fName\":\"yaxis\",\"fTitle\":\"\",\"fNdivisions\":510,\"fAxisColor\":1,\"fLabelColor\":1,\"fLabelFont\":42,\"fLabelOffset\":0.005,\"fLabelSize\":0.035,\"fTickLength\":0.03,\"fTitleOffset\":0,\"fTitleSize\":0.035,\"fTitleColor\":1,\"fTitleFont\":42,\"fNbins\":1,\"fXmin\":0,\"fXmax\":1,\"fXbins\":[],\"fFirst\":0,\"fLast\":0,\"fBits2\":0,\"fTimeDisplay\":false,\"fTimeFormat\":\"\",\"fLabels\":null,\"fModLabs\":null},\"fZaxis\":{\"_typename\":\"TAxis\",\"fUniqueID\":0,\"fBits\":50331648,\"fName\":\"zaxis\",\"fTitle\":\"\",\"fNdivisions\":510,\"fAxisColor\":1,\"fLabelColor\":1,\"fLabelFont\":42,\"fLabelOffset\":0.005,\"fLabelSize\":0.035,\"fTickLength\":0.03,\"fTitleOffset\":1,\"fTitleSize\":0.035,\"fTitleColor\":1,\"fTitleFont\":42,\"fNbins\":1,\"fXmin\":0,\"fXmax\":1,\"fXbins\":[],\"fFirst\":0,\"fLast\":0,\"fBits2\":0,\"fTimeDisplay\":false,\"fTimeFormat\":\"\",\"fLabels\":null,\"fModLabs\":null},\"fBarOffset\":0,\"fBarWidth\":1000,\"fEntries\":100000,\"fTsumw\":97729,\"fTsumw2\":97729,\"fTsumwx\":-89254.506396198,\"fTsumwx2\":275110.624386181,\"fMaximum\":-1111,\"fMinimum\":-1111,\"fNormFactor\":0,\"fContour\":[],\"fSumw2\":[],\"fOption\":\"\",\"fFunctions\":{\"_typename\":\"TList\",\"name\":\"TList\",\"arr\":[],\"opt\":[]},\"fBufferSize\":0,\"fBuffer\":[],\"fBinStatErrOpt\":0,\"fStatOverflows\":2,\"fArray\":[2233,317,302,376,421,475,475,534,570,654,712,781,783,872,940,1019,1036,1183,1141,1259,1285,1387,1459,1599,1593,1626,1753,1728,1790,1903,1974,1955,1930,2082,2016,2166,2139,2160,2143,2068,2175,2146,2164,2068,2022,1977,1936,1883,1872,1843,1725,1719,1585,1589,1514,1401,1370,1332,1176,1178,1061,952,944,850,771,794,691,631,585,554,499,446,419,379,353,275,272,241,210,183,171,150,129,132,107,100,59,81,74,66,33,45,36,33,30,18,17,25,14,10,8,38]},{\"_typename\":\"TH1F\",\"fUniqueID\":0,\"fBits\":50331656,\"fName\":\"s1\",\"fTitle\":\"This is the first signal\",\"fLineColor\":602,\"fLineStyle\":1,\"fLineWidth\":1,\"fFillColor\":42,\"fFillStyle\":1001,\"fMarkerColor\":1,\"fMarkerStyle\":1,\"fMarkerSize\":1,\"fNcells\":102,\"fXaxis\":{\"_typename\":\"TAxis\",\"fUniqueID\":0,\"fBits\":50331648,\"fName\":\"xaxis\",\"fTitle\":\"\",\"fNdivisions\":510,\"fAxisColor\":1,\"fLabelColor\":1,\"fLabelFont\":42,\"fLabelOffset\":0.005,\"fLabelSize\":0.035,\"fTickLength\":0.03,\"fTitleOffset\":1,\"fTitleSize\":0.035,\"fTitleColor\":1,\"fTitleFont\":42,\"fNbins\":100,\"fXmin\":-4,\"fXmax\":4,\"fXbins\":[],\"fFirst\":0,\"fLast\":0,\"fBits2\":0,\"fTimeDisplay\":false,\"fTimeFormat\":\"\",\"fLabels\":null,\"fModLabs\":null},\"fYaxis\":{\"_typename\":\"TAxis\",\"fUniqueID\":0,\"fBits\":50331648,\"fName\":\"yaxis\",\"fTitle\":\"\",\"fNdivisions\":510,\"fAxisColor\":1,\"fLabelColor\":1,\"fLabelFont\":42,\"fLabelOffset\":0.005,\"fLabelSize\":0.035,\"fTickLength\":0.03,\"fTitleOffset\":0,\"fTitleSize\":0.035,\"fTitleColor\":1,\"fTitleFont\":42,\"fNbins\":1,\"fXmin\":0,\"fXmax\":1,\"fXbins\":[],\"fFirst\":0,\"fLast\":0,\"fBits2\":0,\"fTimeDisplay\":false,\"fTimeFormat\":\"\",\"fLabels\":null,\"fModLabs\":null},\"fZaxis\":{\"_typename\":\"TAxis\",\"fUniqueID\":0,\"fBits\":50331648,\"fName\":\"zaxis\",\"fTitle\":\"\",\"fNdivisions\":510,\"fAxisColor\":1,\"fLabelColor\":1,\"fLabelFont\":42,\"fLabelOffset\":0.005,\"fLabelSize\":0.035,\"fTickLength\":0.03,\"fTitleOffset\":1,\"fTitleSize\":0.035,\"fTitleColor\":1,\"fTitleFont\":42,\"fNbins\":1,\"fXmin\":0,\"fXmax\":1,\"fXbins\":[],\"fFirst\":0,\"fLast\":0,\"fBits2\":0,\"fTimeDisplay\":false,\"fTimeFormat\":\"\",\"fLabels\":null,\"fModLabs\":null},\"fBarOffset\":0,\"fBarWidth\":1000,\"fEntries\":100000,\"fTsumw\":29999.9999999506,\"fTsumw2\":9000.00000001043,\"fTsumwx\":-14846.2051137355,\"fTsumwx2\":14859.0311229899,\"fMaximum\":-1111,\"fMinimum\":-1111,\"fNormFactor\":0,\"fContour\":[],\"fSumw2\":[0,0,0,0,0,0,0,0,0,0,0,0,0,0,0,0,0,0,0.27,0.27,0.18,0.54,1.53,1.71,3.96,5.67,7.55999999999999,12.42,19.8,30.15,42.7500000000004,59.310000000001,82.4400000000019,108.810000000003,141.480000000004,189.270000000006,234.000000000008,295.829999999997,341.009999999985,409.409999999966,450.719999999954,502.73999999994,535.679999999946,554.849999999953,574.469999999959,560.879999999955,561.059999999955,520.46999999994,481.769999999946,438.209999999958,379.079999999974,321.74999999999,274.770000000003,215.460000000007,175.050000000005,132.750000000004,101.790000000003,74.2500000000015,50.3100000000006,38.9700000000002,26.01,15.84,9.62999999999999,6.38999999999999,3.24,2.88,0.99,0.9,0.36,0.18,0.09,0,0,0,0,0,0.09,0,0,0,0,0,0,0,0,0,0,0,0,0,0,0,0,0,0,0,0,0,0,0,0,0],\"fOption\":\"\",\"fFunctions\":{\"_typename\":\"TList\",\"name\":\"TList\",\"arr\":[],\"opt\":[]},\"fBufferSize\":0,\"fBuffer\":[],\"fBinStatErrOpt\":0,\"fStatOverflows\":2,\"fArray\":[0,0,0,0,0,0,0,0,0,0,0,0,0,0,0,0,0,0,0.9,0.9,0.6,1.8,5.1,5.700001,13.20001,18.9,25.19998,41.39994,65.99991,100.5003,142.5007,197.7012,274.8011,362.6975,471.5931,630.8866,779.9805,986.0721,1136.689,1364.726,1502.448,1675.877,1785.695,1849.605,1915.016,1869.708,1870.308,1734.986,1605.965,1460.742,1263.61,1072.479,915.875,718.183,583.4885,442.4943,339.2985,247.5018,167.7009,129.9006,86.70012,52.79992,32.09997,21.29999,10.8,9.600003,3.3,3,1.2,0.6,0.3,0,0,0,0,0,0.3,0,0,0,0,0,0,0,0,0,0,0,0,0,0,0,0,0,0,0,0,0,0,0,0,0]},{\"_typename\":\"TH1F\",\"fUniqueID\":0,\"fBits\":50331656,\"fName\":\"s2\",\"fTitle\":\"This is the second signal\",\"fLineColor\":602,\"fLineStyle\":1,\"fLineWidth\":1,\"fFillColor\":46,\"fFillStyle\":1001,\"fMarkerColor\":1,\"fMarkerStyle\":1,\"fMarkerSize\":1,\"fNcells\":102,\"fXaxis\":{\"_typename\":\"TAxis\",\"fUniqueID\":0,\"fBits\":50331648,\"fName\":\"xaxis\",\"fTitle\":\"\",\"fNdivisions\":510,\"fAxisColor\":1,\"fLabelColor\":1,\"fLabelFont\":42,\"fLabelOffset\":0.005,\"fLabelSize\":0.035,\"fTickLength\":0.03,\"fTitleOffset\":1,\"fTitleSize\":0.035,\"fTitleColor\":1,\"fTitleFont\":42,\"fNbins\":100,\"fXmin\":-4,\"fXmax\":4,\"fXbins\":[],\"fFirst\":0,\"fLast\":0,\"fBits2\":0,\"fTimeDisplay\":false,\"fTimeFormat\":\"\",\"fLabels\":null,\"fModLabs\":null},\"fYaxis\":{\"_typename\":\"TAxis\",\"fUniqueID\":0,\"fBits\":50331648,\"fName\":\"yaxis\",\"fTitle\":\"\",\"fNdivisions\":510,\"fAxisColor\":1,\"fLabelColor\":1,\"fLabelFont\":42,\"fLabelOffset\":0.005,\"fLabelSize\":0.035,\"fTickLength\":0.03,\"fTitleOffset\":0,\"fTitleSize\":0.035,\"fTitleColor\":1,\"fTitleFont\":42,\"fNbins\":1,\"fXmin\":0,\"fXmax\":1,\"fXbins\":[],\"fFirst\":0,\"fLast\":0,\"fBits2\":0,\"fTimeDisplay\":false,\"fTimeFormat\":\"\",\"fLabels\":null,\"fModLabs\":null},\"fZaxis\":{\"_typename\":\"TAxis\",\"fUniqueID\":0,\"fBits\":50331648,\"fName\":\"zaxis\",\"fTitle\":\"\",\"fNdivisions\":510,\"fAxisColor\":1,\"fLabelColor\":1,\"fLabelFont\":42,\"fLabelOffset\":0.005,\"fLabelSize\":0.035,\"fTickLength\":0.03,\"fTitleOffset\":1,\"fTitleSize\":0.035,\"fTitleColor\":1,\"fTitleFont\":42,\"fNbins\":1,\"fXmin\":0,\"fXmax\":1,\"fXbins\":[],\"fFirst\":0,\"fLast\":0,\"fBits2\":0,\"fTimeDisplay\":false,\"fTimeFormat\":\"\",\"fLabels\":null,\"fModLabs\":null},\"fBarOffset\":0,\"fBarWidth\":1000,\"fEntries\":100000,\"fTsumw\":18883.0000000336,\"fTsumw2\":3776.59999999715,\"fTsumwx\":25628.6778748752,\"fTsumwx2\":41626.4903180468,\"fMaximum\":-1111,\"fMinimum\":-1111,\"fNormFactor\":0,\"fContour\":[],\"fSumw2\":[0,0,0,0,0,0,0,0,0,0,0,0,0,0,0,0,0,0,0,0,0,0,0,0,0,0,0,0,0,0,0,0,0,0,0,0,0,0,0,0,0,0,0,0,0,0,0,0,0,0,0,0,0,0,0,0,0,0.36,12.4799999999999,71.72,188.999999999997,315.280000000014,377.560000000046,377.320000000045,350.920000000032,299.960000000006,256.239999999983,217.559999999991,174.879999999999,145.680000000005,125.200000000008,99.9200000000044,91.2800000000031,76.6400000000008,64.7599999999989,57.8799999999989,50.9999999999991,42.8799999999993,41.2799999999993,35.3999999999994,29.7599999999995,26.6799999999996,22.9999999999997,22.3599999999997,19.3999999999998,18.7599999999998,18.2399999999998,15.5999999999998,13.7199999999999,12.8799999999999,11.9199999999999,11.9999999999999,10.7199999999999,9.91999999999996,9.39999999999998,9.79999999999997,8.59999999999999,7.52000000000001,7.48000000000001,7.16000000000001,6.48,223.39999999999],\"fOption\":\"\",\"fFunctions\":{\"_typename\":\"TList\",\"name\":\"TList\",\"arr\":[],\"opt\":[]},\"fBufferSize\":0,\"fBuffer\":[],\"fBinStatErrOpt\":0,\"fStatOverflows\":2,\"fArray\":[0,0,0,0,0,0,0,0,0,0,0,0,0,0,0,0,0,0,0,0,0,0,0,0,0,0,0,0,0,0,0,0,0,0,0,0,0,0,0,0,0,0,0,0,0,0,0,0,0,0,0,0,0,0,0,0,0,1.8,62.40017,358.6035,945.0392,1576.309,1887.633,1886.433,1754.466,1499.728,1281.181,1087.828,874.4349,728.426,626.0198,499.6121,456.4095,383.205,323.8014,289.3993,254.9973,214.3979,206.398,176.9984,148.7989,133.3991,114.9994,111.7994,96.99966,93.79971,91.19975,77.99995,68.6001,64.40016,59.60015,60.00016,53.60013,49.60012,47.00011,49.00011,43.00009,37.60007,37.40007,35.80006,32.40005,1117.021]},{\"_typename\":\"TPaveText\",\"fUniqueID\":0,\"fBits\":50331657,\"fLineColor\":1,\"fLineStyle\":1,\"fLineWidth\":1,\"fFillColor\":0,\"fFillStyle\":0,\"fX1\":-2.18053694524421,\"fY1\":5250.00006565824,\"fX2\":2.18053694524421,\"fY2\":5593.75007590279,\"fX1NDC\":0.281946308724832,\"fY1NDC\":0.940000003948808,\"fX2NDC\":0.718053691275168,\"fY2NDC\":0.995000004768372,\"fBorderSize\":0,\"fInit\":1,\"fShadowColor\":1,\"fCornerRadius\":0,\"fOption\":\"blNDC\",\"fName\":\"title\",\"fTextAngle\":0,\"fTextSize\":0,\"fTextAlign\":22,\"fTextColor\":1,\"fTextFont\":42,\"fLabel\":\"\",\"fLongest\":30,\"fMargin\":0.05,\"fLines\":{\"_typename\":\"TList\",\"name\":\"TList\",\"arr\":[{\"_typename\":\"TLatex\",\"fUniqueID\":0,\"fBits\":50331648,\"fName\":\"\",\"fTitle\":\"This is the total distribution\",\"fTextAngle\":0,\"fTextSize\":0,\"fTextAlign\":0,\"fTextColor\":0,\"fTextFont\":0,\"fX\":0,\"fY\":0,\"fLineColor\":1,\"fLineStyle\":1,\"fLineWidth\":2,\"fLimitFactorSize\":3,\"fOriginSize\":0.0467500016093254}],\"opt\":[\"\"]}},{\"_typename\":\"TSlider\",\"fUniqueID\":0,\"fBits\":50331657,\"fLineColor\":1,\"fLineStyle\":1,\"fLineWidth\":1,\"fFillColor\":46,\"fFillStyle\":1001,\"fLeftMargin\":0.1,\"fRightMargin\":0.1,\"fBottomMargin\":0.1,\"fTopMargin\":0.1,\"fXfile\":2,\"fYfile\":2,\"fAfile\":1,\"fXstat\":0.99,\"fYstat\":0.99,\"fAstat\":2,\"fFrameFillColor\":0,\"fFrameLineColor\":1,\"fFrameFillStyle\":1001,\"fFrameLineStyle\":1,\"fFrameLineWidth\":1,\"fFrameBorderSize\":1,\"fFrameBorderMode\":0,\"fX1\":0,\"fY1\":0,\"fX2\":1,\"fY2\":1,\"fXtoAbsPixelk\":548.320046269941,\"fXtoPixelk\":5e-5,\"fXtoPixel\":23.8399996447563,\"fYtoAbsPixelk\":334.800047782707,\"fYtoPixelk\":238.080046452331,\"fYtoPixel\":-238.079996452331,\"fUtoAbsPixelk\":548.320046269941,\"fUtoPixelk\":5e-5,\"fUtoPixel\":23.8399996447563,\"fVtoAbsPixelk\":334.800047782707,\"fVtoPixelk\":238.079996452331,\"fVtoPixel\":-238.079996452331,\"fAbsPixeltoXk\":-23.0000001862645,\"fPixeltoXk\":0,\"fPixeltoX\":0.041946309349881,\"fAbsPixeltoYk\":1.40625001164153,\"fPixeltoYk\":0,\"fPixeltoY\":-0.00420026887979319,\"fXlowNDC\":0.919999993741512,\"fYlowNDC\":0.100000005960465,\"fXUpNDC\":0,\"fYUpNDC\":0,\"fWNDC\":0.0399999994039535,\"fHNDC\":0.639999990463256,\"fAbsXlowNDC\":0.919999993741512,\"fAbsYlowNDC\":0.100000005960465,\"fAbsWNDC\":0.0399999994039535,\"fAbsHNDC\":0.639999990463256,\"fUxmin\":0,\"fUymin\":0,\"fUxmax\":1,\"fUymax\":1,\"fTheta\":30,\"fPhi\":30,\"fAspectRatio\":0,\"fNumber\":0,\"fTickx\":0,\"fTicky\":0,\"fLogx\":0,\"fLogy\":0,\"fLogz\":0,\"fPadPaint\":0,\"fCrosshair\":0,\"fCrosshairPos\":0,\"fBorderSize\":2,\"fBorderMode\":-1,\"fModified\":false,\"fGridx\":false,\"fGridy\":false,\"fAbsCoord\":false,\"fEditable\":true,\"fFixedAspectRatio\":false,\"fPrimitives\":{\"_typename\":\"TList\",\"name\":\"TList\",\"arr\":[{\"_typename\":\"TSliderBox\",\"fUniqueID\":0,\"fBits\":50331648,\"fLineColor\":1,\"fLineStyle\":1,\"fLineWidth\":1,\"fFillColor\":38,\"fFillStyle\":1001,\"fX1\":0.083892618699762,\"fY1\":0,\"fX2\":0.916107381300238,\"fY2\":0.999989986419678,\"fBorderSize\":2,\"fBorderMode\":1,\"fSlider\":{\"$ref\":32}}],\"opt\":[\"\"]},\"fExecs\":{\"_typename\":\"TList\",\"name\":\"TList\",\"arr\":[],\"opt\":[]},\"fName\":\"slider\",\"fTitle\":\"test\",\"fNumPaletteColor\":0,\"fNextPaletteColor\":0,\"fMinimum\":0,\"fMaximum\":0.999989986419678,\"fMethod\":\"\"}],\"opt\":[\"\",\"e1p\",\"same\",\"same\",\"same\",\"blNDC\",\"\"]},\"fExecs\":null,\"fName\":\"c1\",\"fTitle\":\"The HSUM example\",\"fNumPaletteColor\":0,\"fNextPaletteColor\":0,\"fDISPLAY\":\"$DISPLAY\",\"fDoubleBuffer\":0,\"fRetained\":true,\"fXsizeUser\":0,\"fYsizeUser\":0,\"fXsizeReal\":20,\"fYsizeReal\":13.33333,\"fWindowTopX\":0,\"fWindowTopY\":0,\"fWindowWidth\":0,\"fWindowHeight\":0,\"fCw\":596,\"fCh\":372,\"fCatt\":{\"_typename\":\"TAttCanvas\",\"fXBetween\":2,\"fYBetween\":2,\"fTitleFromTop\":1.2,\"fXdate\":0.2,\"fYdate\":0.3,\"fAdate\":1},\"kMoveOpaque\":true,\"kResizeOpaque\":true,\"fHighLightColor\":2,\"fBatch\":true,\"kShowEventStatus\":false,\"kAutoExec\":true,\"kMenuBar\":true});\n",
       "       Core.draw(\"root_plot_1\", obj, \"\");\n",
       "     }\n",
       " );\n",
       "</script>\n"
      ],
      "text/plain": [
       "<IPython.core.display.HTML object>"
      ]
     },
     "metadata": {},
     "output_type": "display_data"
    }
   ],
   "source": [
    "%jsroot on\n",
    "gROOT->GetListOfCanvases()->Draw()"
   ]
  }
 ],
 "metadata": {
  "kernelspec": {
   "display_name": "ROOT C++",
   "language": "c++",
   "name": "root"
  },
  "language_info": {
   "codemirror_mode": "text/x-c++src",
   "file_extension": ".C",
   "mimetype": " text/x-c++src",
   "name": "c++"
  }
 },
 "nbformat": 4,
 "nbformat_minor": 2
}
