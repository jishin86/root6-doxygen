{
 "cells": [
  {
   "cell_type": "markdown",
   "metadata": {},
   "source": [
    "# Quarks\n",
    "Example illustrating divided pads and Latex.\n",
    "\n",
    "\n",
    "\n",
    "\n",
    "**Author:** Rene Brun  \n",
    "<i><small>This notebook tutorial was automatically generated with <a href= \"https://github.com/root-project/root/blob/master/documentation/doxygen/converttonotebook.py\">ROOTBOOK-izer</a> from the macro found in the ROOT repository  on Thursday, August 29, 2019 at 01:44 AM.</small></i>"
   ]
  },
  {
   "cell_type": "code",
   "execution_count": 1,
   "metadata": {
    "collapsed": false
   },
   "outputs": [],
   "source": [
    "TCanvas *c1 = new TCanvas(\"c1\", \"c1\",10,10,630,760);\n",
    "c1->SetFillColor(kBlack);\n",
    "Int_t quarkColor  = 50;\n",
    "Int_t leptonColor = 16;\n",
    "Int_t forceColor  = 38;\n",
    "Int_t titleColor  = kYellow;\n",
    "Int_t border = 8;\n",
    "\n",
    "TLatex *texf = new TLatex(0.90,0.455,\"Force Carriers\");\n",
    "texf->SetTextColor(forceColor);\n",
    "texf->SetTextAlign(22); texf->SetTextSize(0.07);\n",
    "texf->SetTextAngle(90);\n",
    "texf->Draw();\n",
    "\n",
    "TLatex *texl = new TLatex(0.11,0.288,\"Leptons\");\n",
    "texl->SetTextColor(leptonColor);\n",
    "texl->SetTextAlign(22); texl->SetTextSize(0.07);\n",
    "texl->SetTextAngle(90);\n",
    "texl->Draw();\n",
    "\n",
    "TLatex *texq = new TLatex(0.11,0.624,\"Quarks\");\n",
    "texq->SetTextColor(quarkColor);\n",
    "texq->SetTextAlign(22); texq->SetTextSize(0.07);\n",
    "texq->SetTextAngle(90);\n",
    "texq->Draw();\n",
    "\n",
    "TLatex tex(0.5,0.5,\"u\");\n",
    "tex.SetTextColor(titleColor); tex.SetTextFont(32);\n",
    "tex.SetTextAlign(22);\n",
    "tex.SetTextSize(0.14);\n",
    "tex.DrawLatex(0.5,0.93,\"Elementary\");\n",
    "tex.SetTextSize(0.12);\n",
    "tex.DrawLatex(0.5,0.84,\"Particles\");\n",
    "tex.SetTextSize(0.05);\n",
    "tex.DrawLatex(0.5,0.067,\"Three Generations of Matter\");\n",
    "\n",
    "tex.SetTextColor(kBlack); tex.SetTextSize(0.8);"
   ]
  },
  {
   "cell_type": "markdown",
   "metadata": {},
   "source": [
    "Create main pad and its subdivisions"
   ]
  },
  {
   "cell_type": "code",
   "execution_count": 2,
   "metadata": {
    "collapsed": false
   },
   "outputs": [],
   "source": [
    "TPad *pad = new TPad(\"pad\", \"pad\",0.15,0.11,0.85,0.79);\n",
    "pad->Draw();\n",
    "pad->cd();\n",
    "pad->Divide(4,4,0.0003,0.0003);\n",
    "\n",
    "pad->cd(1); gPad->SetFillColor(quarkColor);\n",
    "gPad->SetBorderSize(border);\n",
    "tex.DrawLatex(.5,.5,\"u\");\n",
    "\n",
    "pad->cd(2); gPad->SetFillColor(quarkColor);\n",
    "gPad->SetBorderSize(border);\n",
    "tex.DrawLatex(.5,.5,\"c\");\n",
    "\n",
    "pad->cd(3); gPad->SetFillColor(quarkColor);\n",
    "gPad->SetBorderSize(border);\n",
    "tex.DrawLatex(.5,.5,\"t\");\n",
    "\n",
    "pad->cd(4); gPad->SetFillColor(forceColor);\n",
    "gPad->SetBorderSize(border);\n",
    "tex.DrawLatex(.5,.55,\"#gamma\");\n",
    "\n",
    "pad->cd(5); gPad->SetFillColor(quarkColor);\n",
    "gPad->SetBorderSize(border);\n",
    "tex.DrawLatex(.5,.5,\"d\");\n",
    "\n",
    "pad->cd(6); gPad->SetFillColor(quarkColor);\n",
    "gPad->SetBorderSize(border);\n",
    "tex.DrawLatex(.5,.5,\"s\");\n",
    "\n",
    "pad->cd(7); gPad->SetFillColor(quarkColor);\n",
    "gPad->SetBorderSize(border);\n",
    "tex.DrawLatex(.5,.5,\"b\");\n",
    "\n",
    "pad->cd(8); gPad->SetFillColor(forceColor);\n",
    "gPad->SetBorderSize(border);\n",
    "tex.DrawLatex(.5,.55,\"g\");\n",
    "\n",
    "pad->cd(9); gPad->SetFillColor(leptonColor);\n",
    "gPad->SetBorderSize(border);\n",
    "tex.DrawLatex(.5,.5,\"#nu_{e}\");\n",
    "\n",
    "pad->cd(10); gPad->SetFillColor(leptonColor);\n",
    "gPad->SetBorderSize(border);\n",
    "tex.DrawLatex(.5,.5,\"#nu_{#mu}\");\n",
    "\n",
    "pad->cd(11); gPad->SetFillColor(leptonColor);\n",
    "gPad->SetBorderSize(border);\n",
    "tex.DrawLatex(.5,.5,\"#nu_{#tau}\");\n",
    "\n",
    "pad->cd(12); gPad->SetFillColor(forceColor);\n",
    "gPad->SetBorderSize(border);\n",
    "tex.DrawLatex(.5,.5,\"Z\");\n",
    "\n",
    "pad->cd(13); gPad->SetFillColor(leptonColor);\n",
    "gPad->SetBorderSize(border);\n",
    "tex.DrawLatex(.5,.5,\"e\");\n",
    "\n",
    "pad->cd(14); gPad->SetFillColor(leptonColor);\n",
    "gPad->SetBorderSize(border);\n",
    "tex.DrawLatex(.5,.56,\"#mu\");\n",
    "\n",
    "pad->cd(15); gPad->SetFillColor(leptonColor);\n",
    "gPad->SetBorderSize(border);\n",
    "tex.DrawLatex(.5,.5,\"#tau\");\n",
    "\n",
    "pad->cd(16); gPad->SetFillColor(forceColor);\n",
    "gPad->SetBorderSize(border);\n",
    "tex.DrawLatex(.5,.5,\"W\");\n",
    "\n",
    "c1->cd();"
   ]
  },
  {
   "cell_type": "markdown",
   "metadata": {},
   "source": [
    "Draw all canvases "
   ]
  },
  {
   "cell_type": "code",
   "execution_count": 3,
   "metadata": {
    "collapsed": false
   },
   "outputs": [
    {
     "data": {
      "image/png": "[encoded data removed]",
      "text/plain": [
       "<IPython.core.display.Image object>"
      ]
     },
     "metadata": {},
     "output_type": "display_data"
    }
   ],
   "source": [
    "gROOT->GetListOfCanvases()->Draw()"
   ]
  }
 ],
 "metadata": {
  "kernelspec": {
   "display_name": "ROOT C++",
   "language": "c++",
   "name": "root"
  },
  "language_info": {
   "codemirror_mode": "text/x-c++src",
   "file_extension": ".C",
   "mimetype": " text/x-c++src",
   "name": "c++"
  }
 },
 "nbformat": 4,
 "nbformat_minor": 2
}
