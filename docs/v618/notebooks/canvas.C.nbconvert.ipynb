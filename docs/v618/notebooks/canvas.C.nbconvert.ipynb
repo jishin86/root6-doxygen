{
 "cells": [
  {
   "cell_type": "markdown",
   "metadata": {},
   "source": [
    "# Canvas\n",
    "Example of primitives in a canvas.\n",
    "One of the first actions in a ROOT session is the creation of a Canvas.\n",
    "Here we create a Canvas named \"c1\".\n",
    "\n",
    "After having executed this macro, try now to point on any object on the\n",
    "screen: pad, text, lines, etc.\n",
    "\n",
    "When the cursor points to sensitive areas in an object, the cursor\n",
    "shape changes and suggests the type of action that can be applied.\n",
    "\n",
    "For example:\n",
    " - One can move, grow,shrink a pad.\n",
    " - A text can be moved.\n",
    " - A line can be moved or its end points can be modified.\n",
    " - One can move, grow and shrink PaveLabels and PavesText.\n",
    "\n",
    "Point to an object and click the right mouse button to change attributes.\n",
    "Try to change the canvas size.\n",
    "\n",
    "In the canvas \"File\" menu, select the option \"Print\" to produce\n",
    "a PostScript file with a copy of the canvas.\n",
    "\n",
    "\n",
    "\n",
    "\n",
    "**Author:** Rene Brun  \n",
    "<i><small>This notebook tutorial was automatically generated with <a href= \"https://github.com/root-project/root/blob/master/documentation/doxygen/converttonotebook.py\">ROOTBOOK-izer</a> from the macro found in the ROOT repository  on Thursday, August 29, 2019 at 01:38 AM.</small></i>"
   ]
  },
  {
   "cell_type": "code",
   "execution_count": 1,
   "metadata": {
    "collapsed": false
   },
   "outputs": [],
   "source": [
    "TCanvas *c1 = new TCanvas(\"c1\",\"Canvas Example\",200,10,600,480);\n",
    "\n",
    "gBenchmark->Start(\"canvas\");"
   ]
  },
  {
   "cell_type": "markdown",
   "metadata": {},
   "source": [
    "Inside this canvas, we create two pads"
   ]
  },
  {
   "cell_type": "code",
   "execution_count": 2,
   "metadata": {
    "collapsed": false
   },
   "outputs": [],
   "source": [
    "TPad *pad1 = new TPad(\"pad1\",\"This is pad1\",0.05,0.52,0.95,0.97);\n",
    "TPad *pad2 = new TPad(\"pad2\",\"This is pad2\",0.05,0.02,0.95,0.47);\n",
    "pad1->SetFillColor(11);\n",
    "pad2->SetFillColor(11);\n",
    "pad1->Draw();\n",
    "pad2->Draw();"
   ]
  },
  {
   "cell_type": "markdown",
   "metadata": {},
   "source": [
    "A pad may contain other pads and graphics objects.\n",
    " We set the current pad to pad2.\n",
    " Note that the current pad is always highlighted."
   ]
  },
  {
   "cell_type": "code",
   "execution_count": 3,
   "metadata": {
    "collapsed": false
   },
   "outputs": [],
   "source": [
    "pad2->cd();\n",
    "TPad *pad21 = new TPad(\"pad21\",\"First subpad of pad2\",0.02,0.05,0.48,0.95,17,3);\n",
    "TPad *pad22 = new TPad(\"pad22\",\"Second subpad of pad2\",0.52,0.05,0.98,0.95,17,3);\n",
    "pad21->Draw();\n",
    "pad22->Draw();"
   ]
  },
  {
   "cell_type": "markdown",
   "metadata": {},
   "source": [
    "We enter some primitives in the created pads and set some attributes"
   ]
  },
  {
   "cell_type": "code",
   "execution_count": 4,
   "metadata": {
    "collapsed": false
   },
   "outputs": [],
   "source": [
    "pad1->cd();\n",
    "float xt1 = 0.5;\n",
    "float yt1 = 0.1;\n",
    "TText *t1 = new TText(0.5,yt1,\"ROOT\");\n",
    "t1->SetTextAlign(22);\n",
    "t1->SetTextSize(0.05);\n",
    "t1->Draw();\n",
    "TLine *line1 = new TLine(0.05,0.05,0.80,0.70);\n",
    "line1->SetLineWidth(8);\n",
    "line1->SetLineColor(2);\n",
    "line1->Draw();\n",
    "line1->DrawLine(0.6,0.1,0.9,0.9);\n",
    "TLine *line2 = new TLine(0.05,0.70,0.50,0.10);\n",
    "line2->SetLineWidth(4);\n",
    "line2->SetLineColor(5);\n",
    "line2->Draw();\n",
    "\n",
    "pad21->cd();\n",
    "TText *t21 = new TText(0.05,0.8,\"This is pad21\");\n",
    "t21->SetTextSize(0.1);\n",
    "t21->Draw();\n",
    "float xp2 = 0.5;\n",
    "float yp2 = 0.4;\n",
    "TPavesText *paves = new TPavesText(0.1,0.1,xp2,yp2);\n",
    "paves->AddText(\"This is a PavesText\");\n",
    "paves->AddText(\"You can add new lines\");\n",
    "paves->AddText(\"Text formatting is automatic\");\n",
    "paves->SetFillColor(43);\n",
    "paves->Draw();\n",
    "pad22->cd();\n",
    "TText *t22 = new TText(0.05,0.8,\"This is pad22\");\n",
    "t22->SetTextSize(0.1);\n",
    "t22->Draw();\n",
    "float xlc = 0.01;\n",
    "float ylc = 0.01;\n",
    "TPaveLabel *label = new TPaveLabel(xlc, ylc, xlc+0.8, ylc+0.1,\"This is a PaveLabel\");\n",
    "label->SetFillColor(24);\n",
    "label->Draw();"
   ]
  },
  {
   "cell_type": "markdown",
   "metadata": {},
   "source": [
    "Modify object attributes in a loop"
   ]
  },
  {
   "cell_type": "code",
   "execution_count": 5,
   "metadata": {
    "collapsed": false
   },
   "outputs": [
    {
     "name": "stdout",
     "output_type": "stream",
     "text": [
      "canvas    : Real Time =   0.91 seconds Cpu Time =   0.55 seconds\n"
     ]
    }
   ],
   "source": [
    "Int_t nloops = 50;\n",
    "float dxp2   = (0.9-xp2)/nloops;\n",
    "float dyp2   = (0.7-yp2)/nloops;\n",
    "float dxlc   = (0.1-xlc)/nloops;\n",
    "float dylc   = (0.4-xlc)/nloops;\n",
    "float dxt1   = (0.5-xt1)/nloops;\n",
    "float dyt1   = (0.8-yt1)/nloops;\n",
    "float t10    = t1->GetTextSize();\n",
    "float t1end  = 0.3;\n",
    "float t1ds   = (t1end - t10)/nloops;\n",
    "Int_t color  = 0;\n",
    "for (int i=0;i<nloops;i++) {\n",
    "   color++;\n",
    "   color %= 8;\n",
    "   line1->SetLineColor(color);\n",
    "   t1->SetTextSize(t10 + t1ds*i);\n",
    "   t1->SetTextColor(color);\n",
    "   t1->SetX(xt1+dxt1*i);\n",
    "   t1->SetY(yt1+dyt1*i);\n",
    "   pad1->Modified();\n",
    "   paves->SetX2NDC(xp2+dxp2*i);\n",
    "   paves->SetY2NDC(yp2+dyp2*i);\n",
    "   pad21->Modified();\n",
    "   label->SetX1NDC(xlc+dxlc*i);\n",
    "   label->SetY1NDC(ylc+dylc*i);\n",
    "   label->SetX2NDC(xlc+dxlc*i+0.8);\n",
    "   label->SetY2NDC(ylc+dylc*i+0.2);\n",
    "   pad22->Modified();\n",
    "   c1->Update();\n",
    "}\n",
    "  gBenchmark->Show(\"canvas\");"
   ]
  },
  {
   "cell_type": "markdown",
   "metadata": {},
   "source": [
    "Draw all canvases "
   ]
  },
  {
   "cell_type": "code",
   "execution_count": 6,
   "metadata": {
    "collapsed": false
   },
   "outputs": [
    {
     "data": {
      "text/html": [
       "\n",
       "<div id=\"root_plot_1\"\n",
       "     style=\"width: 596px; height: 452px\">\n",
       "</div>\n",
       "\n",
       "<script>\n",
       " requirejs.config({\n",
       "     paths: {\n",
       "       'JSRootCore' : 'https://root.cern.ch/js/notebook//scripts/JSRootCore',\n",
       "     }\n",
       "   });\n",
       " require(['JSRootCore'],\n",
       "     function(Core) {\n",
       "       var obj = Core.JSONR_unref({\"_typename\":\"TCanvas\",\"fUniqueID\":0,\"fBits\":53673992,\"fLineColor\":1,\"fLineStyle\":1,\"fLineWidth\":1,\"fFillColor\":0,\"fFillStyle\":1001,\"fLeftMargin\":0.1,\"fRightMargin\":0.1,\"fBottomMargin\":0.1,\"fTopMargin\":0.1,\"fXfile\":2,\"fYfile\":2,\"fAfile\":1,\"fXstat\":0.99,\"fYstat\":0.99,\"fAstat\":2,\"fFrameFillColor\":0,\"fFrameLineColor\":1,\"fFrameFillStyle\":1001,\"fFrameLineStyle\":1,\"fFrameLineWidth\":1,\"fFrameBorderSize\":1,\"fFrameBorderMode\":0,\"fX1\":0,\"fY1\":0,\"fX2\":1,\"fY2\":1,\"fXtoAbsPixelk\":5e-5,\"fXtoPixelk\":5e-5,\"fXtoPixel\":596,\"fYtoAbsPixelk\":452.00005,\"fYtoPixelk\":452.00005,\"fYtoPixel\":-452,\"fUtoAbsPixelk\":5e-5,\"fUtoPixelk\":5e-5,\"fUtoPixel\":596,\"fVtoAbsPixelk\":452.00005,\"fVtoPixelk\":452,\"fVtoPixel\":-452,\"fAbsPixeltoXk\":0,\"fPixeltoXk\":0,\"fPixeltoX\":0.00167785234899329,\"fAbsPixeltoYk\":1,\"fPixeltoYk\":0,\"fPixeltoY\":-0.00221238938053097,\"fXlowNDC\":0,\"fYlowNDC\":0,\"fXUpNDC\":0,\"fYUpNDC\":0,\"fWNDC\":1,\"fHNDC\":1,\"fAbsXlowNDC\":0,\"fAbsYlowNDC\":0,\"fAbsWNDC\":1,\"fAbsHNDC\":1,\"fUxmin\":0,\"fUymin\":0,\"fUxmax\":1,\"fUymax\":1,\"fTheta\":30,\"fPhi\":30,\"fAspectRatio\":0,\"fNumber\":0,\"fTickx\":0,\"fTicky\":0,\"fLogx\":0,\"fLogy\":0,\"fLogz\":0,\"fPadPaint\":0,\"fCrosshair\":0,\"fCrosshairPos\":0,\"fBorderSize\":2,\"fBorderMode\":0,\"fModified\":false,\"fGridx\":false,\"fGridy\":false,\"fAbsCoord\":false,\"fEditable\":true,\"fFixedAspectRatio\":false,\"fPrimitives\":{\"_typename\":\"TList\",\"name\":\"TList\",\"arr\":[{\"_typename\":\"TPad\",\"fUniqueID\":0,\"fBits\":50331657,\"fLineColor\":1,\"fLineStyle\":1,\"fLineWidth\":1,\"fFillColor\":11,\"fFillStyle\":1001,\"fLeftMargin\":0.1,\"fRightMargin\":0.1,\"fBottomMargin\":0.1,\"fTopMargin\":0.1,\"fXfile\":2,\"fYfile\":2,\"fAfile\":1,\"fXstat\":0.99,\"fYstat\":0.99,\"fAstat\":2,\"fFrameFillColor\":0,\"fFrameLineColor\":1,\"fFrameFillStyle\":1001,\"fFrameLineStyle\":1,\"fFrameLineWidth\":1,\"fFrameBorderSize\":1,\"fFrameBorderMode\":0,\"fX1\":0,\"fY1\":0,\"fX2\":1,\"fY2\":1,\"fXtoAbsPixelk\":29.80005,\"fXtoPixelk\":5e-5,\"fXtoPixel\":536.4,\"fYtoAbsPixelk\":216.96005,\"fYtoPixelk\":203.40005,\"fYtoPixel\":-203.4,\"fUtoAbsPixelk\":29.80005,\"fUtoPixelk\":5e-5,\"fUtoPixel\":536.4,\"fVtoAbsPixelk\":216.96005,\"fVtoPixelk\":203.4,\"fVtoPixel\":-203.4,\"fAbsPixeltoXk\":-0.0555555555555556,\"fPixeltoXk\":0,\"fPixeltoX\":0.00186428038777032,\"fAbsPixeltoYk\":1.06666666666667,\"fPixeltoYk\":0,\"fPixeltoY\":-0.00491642084562439,\"fXlowNDC\":0.05,\"fYlowNDC\":0.52,\"fXUpNDC\":0,\"fYUpNDC\":0,\"fWNDC\":0.9,\"fHNDC\":0.45,\"fAbsXlowNDC\":0.05,\"fAbsYlowNDC\":0.52,\"fAbsWNDC\":0.9,\"fAbsHNDC\":0.45,\"fUxmin\":0,\"fUymin\":0,\"fUxmax\":1,\"fUymax\":1,\"fTheta\":30,\"fPhi\":30,\"fAspectRatio\":0,\"fNumber\":0,\"fTickx\":0,\"fTicky\":0,\"fLogx\":0,\"fLogy\":0,\"fLogz\":0,\"fPadPaint\":0,\"fCrosshair\":0,\"fCrosshairPos\":0,\"fBorderSize\":2,\"fBorderMode\":0,\"fModified\":false,\"fGridx\":false,\"fGridy\":false,\"fAbsCoord\":false,\"fEditable\":true,\"fFixedAspectRatio\":false,\"fPrimitives\":{\"_typename\":\"TList\",\"name\":\"TList\",\"arr\":[{\"_typename\":\"TText\",\"fUniqueID\":0,\"fBits\":50331656,\"fName\":\"\",\"fTitle\":\"ROOT\",\"fTextAngle\":0,\"fTextSize\":0.295,\"fTextAlign\":22,\"fTextColor\":2,\"fTextFont\":62,\"fX\":0.5,\"fY\":0.786000072956085},{\"_typename\":\"TLine\",\"fUniqueID\":0,\"fBits\":50331656,\"fLineColor\":2,\"fLineStyle\":1,\"fLineWidth\":8,\"fX1\":0.05,\"fY1\":0.05,\"fX2\":0.8,\"fY2\":0.7},{\"_typename\":\"TLine\",\"fUniqueID\":0,\"fBits\":50331657,\"fLineColor\":2,\"fLineStyle\":1,\"fLineWidth\":8,\"fX1\":0.6,\"fY1\":0.1,\"fX2\":0.9,\"fY2\":0.9},{\"_typename\":\"TLine\",\"fUniqueID\":0,\"fBits\":50331656,\"fLineColor\":5,\"fLineStyle\":1,\"fLineWidth\":4,\"fX1\":0.05,\"fY1\":0.7,\"fX2\":0.5,\"fY2\":0.1}],\"opt\":[\"\",\"\",\"\",\"\"]},\"fExecs\":{\"_typename\":\"TList\",\"name\":\"TList\",\"arr\":[],\"opt\":[]},\"fName\":\"pad1\",\"fTitle\":\"This is pad1\",\"fNumPaletteColor\":0,\"fNextPaletteColor\":0},{\"_typename\":\"TPad\",\"fUniqueID\":0,\"fBits\":50331657,\"fLineColor\":1,\"fLineStyle\":1,\"fLineWidth\":1,\"fFillColor\":11,\"fFillStyle\":1001,\"fLeftMargin\":0.1,\"fRightMargin\":0.1,\"fBottomMargin\":0.1,\"fTopMargin\":0.1,\"fXfile\":2,\"fYfile\":2,\"fAfile\":1,\"fXstat\":0.99,\"fYstat\":0.99,\"fAstat\":2,\"fFrameFillColor\":0,\"fFrameLineColor\":1,\"fFrameFillStyle\":1001,\"fFrameLineStyle\":1,\"fFrameLineWidth\":1,\"fFrameBorderSize\":1,\"fFrameBorderMode\":0,\"fX1\":0,\"fY1\":0,\"fX2\":1,\"fY2\":1,\"fXtoAbsPixelk\":29.80005,\"fXtoPixelk\":5e-5,\"fXtoPixel\":536.4,\"fYtoAbsPixelk\":442.96005,\"fYtoPixelk\":203.40005,\"fYtoPixel\":-203.4,\"fUtoAbsPixelk\":29.80005,\"fUtoPixelk\":5e-5,\"fUtoPixel\":536.4,\"fVtoAbsPixelk\":442.96005,\"fVtoPixelk\":203.4,\"fVtoPixel\":-203.4,\"fAbsPixeltoXk\":-0.0555555555555556,\"fPixeltoXk\":0,\"fPixeltoX\":0.00186428038777032,\"fAbsPixeltoYk\":2.17777777777778,\"fPixeltoYk\":0,\"fPixeltoY\":-0.00491642084562439,\"fXlowNDC\":0.05,\"fYlowNDC\":0.02,\"fXUpNDC\":0,\"fYUpNDC\":0,\"fWNDC\":0.9,\"fHNDC\":0.45,\"fAbsXlowNDC\":0.05,\"fAbsYlowNDC\":0.02,\"fAbsWNDC\":0.9,\"fAbsHNDC\":0.45,\"fUxmin\":0,\"fUymin\":0,\"fUxmax\":1,\"fUymax\":1,\"fTheta\":30,\"fPhi\":30,\"fAspectRatio\":0,\"fNumber\":0,\"fTickx\":0,\"fTicky\":0,\"fLogx\":0,\"fLogy\":0,\"fLogz\":0,\"fPadPaint\":0,\"fCrosshair\":0,\"fCrosshairPos\":0,\"fBorderSize\":2,\"fBorderMode\":0,\"fModified\":false,\"fGridx\":false,\"fGridy\":false,\"fAbsCoord\":false,\"fEditable\":true,\"fFixedAspectRatio\":false,\"fPrimitives\":{\"_typename\":\"TList\",\"name\":\"TList\",\"arr\":[{\"_typename\":\"TPad\",\"fUniqueID\":0,\"fBits\":50331657,\"fLineColor\":1,\"fLineStyle\":1,\"fLineWidth\":1,\"fFillColor\":17,\"fFillStyle\":1001,\"fLeftMargin\":0.1,\"fRightMargin\":0.1,\"fBottomMargin\":0.1,\"fTopMargin\":0.1,\"fXfile\":2,\"fYfile\":2,\"fAfile\":1,\"fXstat\":0.99,\"fYstat\":0.99,\"fAstat\":2,\"fFrameFillColor\":0,\"fFrameLineColor\":1,\"fFrameFillStyle\":1001,\"fFrameLineStyle\":1,\"fFrameLineWidth\":1,\"fFrameBorderSize\":1,\"fFrameBorderMode\":0,\"fX1\":0,\"fY1\":0,\"fX2\":1,\"fY2\":1,\"fXtoAbsPixelk\":40.52805,\"fXtoPixelk\":5e-5,\"fXtoPixel\":246.744,\"fYtoAbsPixelk\":432.79005,\"fYtoPixelk\":183.06005,\"fYtoPixel\":-183.06,\"fUtoAbsPixelk\":40.52805,\"fUtoPixelk\":5e-5,\"fUtoPixel\":246.744,\"fVtoAbsPixelk\":432.79005,\"fVtoPixelk\":183.06,\"fVtoPixel\":-183.06,\"fAbsPixeltoXk\":-0.164251207729469,\"fPixeltoXk\":0,\"fPixeltoX\":0.00405278345167461,\"fAbsPixeltoYk\":2.3641975308642,\"fPixeltoYk\":0,\"fPixeltoY\":-0.00546268982847154,\"fXlowNDC\":0.02,\"fYlowNDC\":0.05,\"fXUpNDC\":0,\"fYUpNDC\":0,\"fWNDC\":0.46,\"fHNDC\":0.9,\"fAbsXlowNDC\":0.068,\"fAbsYlowNDC\":0.0425,\"fAbsWNDC\":0.414,\"fAbsHNDC\":0.405,\"fUxmin\":0,\"fUymin\":0,\"fUxmax\":1,\"fUymax\":1,\"fTheta\":30,\"fPhi\":30,\"fAspectRatio\":0,\"fNumber\":0,\"fTickx\":0,\"fTicky\":0,\"fLogx\":0,\"fLogy\":0,\"fLogz\":0,\"fPadPaint\":0,\"fCrosshair\":0,\"fCrosshairPos\":0,\"fBorderSize\":3,\"fBorderMode\":0,\"fModified\":false,\"fGridx\":false,\"fGridy\":false,\"fAbsCoord\":false,\"fEditable\":true,\"fFixedAspectRatio\":false,\"fPrimitives\":{\"_typename\":\"TList\",\"name\":\"TList\",\"arr\":[{\"_typename\":\"TText\",\"fUniqueID\":0,\"fBits\":50331656,\"fName\":\"\",\"fTitle\":\"This is pad21\",\"fTextAngle\":0,\"fTextSize\":0.1,\"fTextAlign\":11,\"fTextColor\":1,\"fTextFont\":62,\"fX\":0.05,\"fY\":0.8},{\"_typename\":\"TPavesText\",\"fUniqueID\":0,\"fBits\":50331656,\"fLineColor\":1,\"fLineStyle\":1,\"fLineWidth\":1,\"fFillColor\":43,\"fFillStyle\":1001,\"fX1\":0.1,\"fY1\":0.1,\"fX2\":0.892000019550323,\"fY2\":0.694000005722046,\"fX1NDC\":0.1,\"fY1NDC\":0.1,\"fX2NDC\":0.892000019550323,\"fY2NDC\":0.694000005722046,\"fBorderSize\":1,\"fInit\":1,\"fShadowColor\":1,\"fCornerRadius\":0,\"fOption\":\"br\",\"fName\":\"TPave\",\"fTextAngle\":0,\"fTextSize\":0,\"fTextAlign\":22,\"fTextColor\":1,\"fTextFont\":62,\"fLabel\":\"\",\"fLongest\":28,\"fMargin\":0.05,\"fLines\":{\"_typename\":\"TList\",\"name\":\"TList\",\"arr\":[{\"_typename\":\"TLatex\",\"fUniqueID\":0,\"fBits\":50331648,\"fName\":\"\",\"fTitle\":\"This is a PavesText\",\"fTextAngle\":0,\"fTextSize\":0,\"fTextAlign\":0,\"fTextColor\":0,\"fTextFont\":0,\"fX\":0,\"fY\":0,\"fLineColor\":1,\"fLineStyle\":1,\"fLineWidth\":2,\"fLimitFactorSize\":3,\"fOriginSize\":0.168300002813339},{\"_typename\":\"TLatex\",\"fUniqueID\":0,\"fBits\":50331648,\"fName\":\"\",\"fTitle\":\"You can add new lines\",\"fTextAngle\":0,\"fTextSize\":0,\"fTextAlign\":0,\"fTextColor\":0,\"fTextFont\":0,\"fX\":0,\"fY\":0,\"fLineColor\":1,\"fLineStyle\":1,\"fLineWidth\":2,\"fLimitFactorSize\":3,\"fOriginSize\":0.168300002813339},{\"_typename\":\"TLatex\",\"fUniqueID\":0,\"fBits\":50331648,\"fName\":\"\",\"fTitle\":\"Text formatting is automatic\",\"fTextAngle\":0,\"fTextSize\":0,\"fTextAlign\":0,\"fTextColor\":0,\"fTextFont\":0,\"fX\":0,\"fY\":0,\"fLineColor\":1,\"fLineStyle\":1,\"fLineWidth\":2,\"fLimitFactorSize\":3,\"fOriginSize\":0.168300002813339}],\"opt\":[\"\",\"\",\"\"]},\"fNpaves\":5}],\"opt\":[\"\",\"\"]},\"fExecs\":{\"_typename\":\"TList\",\"name\":\"TList\",\"arr\":[],\"opt\":[]},\"fName\":\"pad21\",\"fTitle\":\"First subpad of pad2\",\"fNumPaletteColor\":0,\"fNextPaletteColor\":0},{\"_typename\":\"TPad\",\"fUniqueID\":0,\"fBits\":50331657,\"fLineColor\":1,\"fLineStyle\":1,\"fLineWidth\":1,\"fFillColor\":17,\"fFillStyle\":1001,\"fLeftMargin\":0.1,\"fRightMargin\":0.1,\"fBottomMargin\":0.1,\"fTopMargin\":0.1,\"fXfile\":2,\"fYfile\":2,\"fAfile\":1,\"fXstat\":0.99,\"fYstat\":0.99,\"fAstat\":2,\"fFrameFillColor\":0,\"fFrameLineColor\":1,\"fFrameFillStyle\":1001,\"fFrameLineStyle\":1,\"fFrameLineWidth\":1,\"fFrameBorderSize\":1,\"fFrameBorderMode\":0,\"fX1\":0,\"fY1\":0,\"fX2\":1,\"fY2\":1,\"fXtoAbsPixelk\":308.72805,\"fXtoPixelk\":5e-5,\"fXtoPixel\":246.744,\"fYtoAbsPixelk\":432.79005,\"fYtoPixelk\":183.06005,\"fYtoPixel\":-183.06,\"fUtoAbsPixelk\":308.72805,\"fUtoPixelk\":5e-5,\"fUtoPixel\":246.744,\"fVtoAbsPixelk\":432.79005,\"fVtoPixelk\":183.06,\"fVtoPixel\":-183.06,\"fAbsPixeltoXk\":-1.2512077294686,\"fPixeltoXk\":0,\"fPixeltoX\":0.00405278345167461,\"fAbsPixeltoYk\":2.3641975308642,\"fPixeltoYk\":0,\"fPixeltoY\":-0.00546268982847154,\"fXlowNDC\":0.52,\"fYlowNDC\":0.05,\"fXUpNDC\":0,\"fYUpNDC\":0,\"fWNDC\":0.46,\"fHNDC\":0.9,\"fAbsXlowNDC\":0.518,\"fAbsYlowNDC\":0.0425,\"fAbsWNDC\":0.414,\"fAbsHNDC\":0.405,\"fUxmin\":0,\"fUymin\":0,\"fUxmax\":1,\"fUymax\":1,\"fTheta\":30,\"fPhi\":30,\"fAspectRatio\":0,\"fNumber\":0,\"fTickx\":0,\"fTicky\":0,\"fLogx\":0,\"fLogy\":0,\"fLogz\":0,\"fPadPaint\":0,\"fCrosshair\":0,\"fCrosshairPos\":0,\"fBorderSize\":3,\"fBorderMode\":0,\"fModified\":false,\"fGridx\":false,\"fGridy\":false,\"fAbsCoord\":false,\"fEditable\":true,\"fFixedAspectRatio\":false,\"fPrimitives\":{\"_typename\":\"TList\",\"name\":\"TList\",\"arr\":[{\"_typename\":\"TText\",\"fUniqueID\":0,\"fBits\":50331656,\"fName\":\"\",\"fTitle\":\"This is pad22\",\"fTextAngle\":0,\"fTextSize\":0.1,\"fTextAlign\":11,\"fTextColor\":1,\"fTextFont\":62,\"fX\":0.05,\"fY\":0.8},{\"_typename\":\"TPaveLabel\",\"fUniqueID\":0,\"fBits\":50331656,\"fLineColor\":1,\"fLineStyle\":1,\"fLineWidth\":1,\"fFillColor\":24,\"fFillStyle\":1001,\"fX1\":0.0981999933719635,\"fY1\":0.392199993133545,\"fX2\":0.898199993371964,\"fY2\":0.592199993133545,\"fX1NDC\":0.0981999933719635,\"fY1NDC\":0.392199993133545,\"fX2NDC\":0.898199993371964,\"fY2NDC\":0.592199993133545,\"fBorderSize\":3,\"fInit\":1,\"fShadowColor\":1,\"fCornerRadius\":0,\"fOption\":\"br\",\"fName\":\"TPave\",\"fTextAngle\":0,\"fTextSize\":0.99,\"fTextAlign\":22,\"fTextColor\":1,\"fTextFont\":62,\"fLabel\":\"This is a PaveLabel\"}],\"opt\":[\"\",\"br\"]},\"fExecs\":{\"_typename\":\"TList\",\"name\":\"TList\",\"arr\":[],\"opt\":[]},\"fName\":\"pad22\",\"fTitle\":\"Second subpad of pad2\",\"fNumPaletteColor\":0,\"fNextPaletteColor\":0}],\"opt\":[\"\",\"\"]},\"fExecs\":{\"_typename\":\"TList\",\"name\":\"TList\",\"arr\":[],\"opt\":[]},\"fName\":\"pad2\",\"fTitle\":\"This is pad2\",\"fNumPaletteColor\":0,\"fNextPaletteColor\":0}],\"opt\":[\"\",\"\"]},\"fExecs\":null,\"fName\":\"c1\",\"fTitle\":\"Canvas Example\",\"fNumPaletteColor\":0,\"fNextPaletteColor\":0,\"fDISPLAY\":\"$DISPLAY\",\"fDoubleBuffer\":0,\"fRetained\":true,\"fXsizeUser\":0,\"fYsizeUser\":0,\"fXsizeReal\":20,\"fYsizeReal\":16,\"fWindowTopX\":0,\"fWindowTopY\":0,\"fWindowWidth\":0,\"fWindowHeight\":0,\"fCw\":596,\"fCh\":452,\"fCatt\":{\"_typename\":\"TAttCanvas\",\"fXBetween\":2,\"fYBetween\":2,\"fTitleFromTop\":1.2,\"fXdate\":0.2,\"fYdate\":0.3,\"fAdate\":1},\"kMoveOpaque\":true,\"kResizeOpaque\":true,\"fHighLightColor\":2,\"fBatch\":true,\"kShowEventStatus\":false,\"kAutoExec\":true,\"kMenuBar\":true});\n",
       "       Core.draw(\"root_plot_1\", obj, \"\");\n",
       "     }\n",
       " );\n",
       "</script>\n"
      ],
      "text/plain": [
       "<IPython.core.display.HTML object>"
      ]
     },
     "metadata": {},
     "output_type": "display_data"
    }
   ],
   "source": [
    "%jsroot on\n",
    "gROOT->GetListOfCanvases()->Draw()"
   ]
  }
 ],
 "metadata": {
  "kernelspec": {
   "display_name": "ROOT C++",
   "language": "c++",
   "name": "root"
  },
  "language_info": {
   "codemirror_mode": "text/x-c++src",
   "file_extension": ".C",
   "mimetype": " text/x-c++src",
   "name": "c++"
  }
 },
 "nbformat": 4,
 "nbformat_minor": 2
}
