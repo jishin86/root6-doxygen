{
 "cells": [
  {
   "cell_type": "markdown",
   "metadata": {},
   "source": [
    "# Fit Linear 2\n",
    "Fit a 5d hyperplane by n points, using the linear fitter directly\n",
    "\n",
    "This macro shows some features of the TLinearFitter class\n",
    "A 5-d hyperplane is fit, a constant term is assumed in the hyperplane\n",
    "equation `(y = a0 + a1*x0 + a2*x1 + a3*x2 + a4*x3 + a5*x4)`\n",
    "\n",
    "\n",
    "\n",
    "\n",
    "**Author:** Anna Kreshuk  \n",
    "<i><small>This notebook tutorial was automatically generated with <a href= \"https://github.com/root-project/root/blob/master/documentation/doxygen/converttonotebook.py\">ROOTBOOK-izer</a> from the macro found in the ROOT repository  on Thursday, August 29, 2019 at 01:29 AM.</small></i>"
   ]
  },
  {
   "cell_type": "code",
   "execution_count": 1,
   "metadata": {
    "collapsed": false
   },
   "outputs": [],
   "source": [
    "%%cpp -d\n",
    "#include \"TLinearFitter.h\"\n",
    "#include \"TF1.h\"\n",
    "#include \"TRandom.h\""
   ]
  },
  {
   "cell_type": "code",
   "execution_count": 2,
   "metadata": {
    "collapsed": false
   },
   "outputs": [],
   "source": [
    "Int_t n=100;\n",
    "Int_t i;\n",
    "TRandom randNum;\n",
    "TLinearFitter *lf=new TLinearFitter(5);"
   ]
  },
  {
   "cell_type": "markdown",
   "metadata": {},
   "source": [
    "The predefined \"hypn\" functions are the fastest to fit"
   ]
  },
  {
   "cell_type": "code",
   "execution_count": 3,
   "metadata": {
    "collapsed": false
   },
   "outputs": [],
   "source": [
    "lf->SetFormula(\"hyp5\");\n",
    "\n",
    "Double_t *x=new Double_t[n*10*5];\n",
    "Double_t *y=new Double_t[n*10];\n",
    "Double_t *e=new Double_t[n*10];"
   ]
  },
  {
   "cell_type": "markdown",
   "metadata": {},
   "source": [
    "Create the points and put them into the fitter"
   ]
  },
  {
   "cell_type": "code",
   "execution_count": 4,
   "metadata": {
    "collapsed": false
   },
   "outputs": [],
   "source": [
    "for (i=0; i<n; i++){\n",
    "   x[0 + i*5] = randNum.Uniform(-10, 10);\n",
    "   x[1 + i*5] = randNum.Uniform(-10, 10);\n",
    "   x[2 + i*5] = randNum.Uniform(-10, 10);\n",
    "   x[3 + i*5] = randNum.Uniform(-10, 10);\n",
    "   x[4 + i*5] = randNum.Uniform(-10, 10);\n",
    "   e[i] = 0.01;\n",
    "   y[i] = 4*x[0+i*5] + x[1+i*5] + 2*x[2+i*5] + 3*x[3+i*5] + 0.2*x[4+i*5]  + randNum.Gaus()*e[i];\n",
    "}"
   ]
  },
  {
   "cell_type": "markdown",
   "metadata": {},
   "source": [
    "To avoid copying the data into the fitter, the following function can be used:"
   ]
  },
  {
   "cell_type": "code",
   "execution_count": 5,
   "metadata": {
    "collapsed": false
   },
   "outputs": [],
   "source": [
    "lf->AssignData(n, 5, x, y, e);"
   ]
  },
  {
   "cell_type": "markdown",
   "metadata": {},
   "source": [
    "A different way to put the points into the fitter would be to use\n",
    "the AddPoint function for each point. This way the points are copied and stored\n",
    "inside the fitter"
   ]
  },
  {
   "cell_type": "markdown",
   "metadata": {},
   "source": [
    "Perform the fitting and look at the results"
   ]
  },
  {
   "cell_type": "code",
   "execution_count": 6,
   "metadata": {
    "collapsed": false
   },
   "outputs": [
    {
     "name": "stdout",
     "output_type": "stream",
     "text": [
      "par[0]=0.000069+-0.001011\n",
      "par[1]=3.999934+-0.000164\n",
      "par[2]=0.999835+-0.000172\n",
      "par[3]=1.999892+-0.000178\n",
      "par[4]=2.999967+-0.000185\n",
      "par[5]=0.199823+-0.000174\n",
      "chisquare=70.148012\n"
     ]
    }
   ],
   "source": [
    "lf->Eval();\n",
    "TVectorD params;\n",
    "TVectorD errors;\n",
    "lf->GetParameters(params);\n",
    "lf->GetErrors(errors);\n",
    "for (Int_t i=0; i<6; i++)\n",
    "   printf(\"par[%d]=%f+-%f\\n\", i, params(i), errors(i));\n",
    "Double_t chisquare=lf->GetChisquare();\n",
    "printf(\"chisquare=%f\\n\", chisquare);"
   ]
  },
  {
   "cell_type": "markdown",
   "metadata": {},
   "source": [
    "Now suppose you want to add some more points and see if the parameters will change"
   ]
  },
  {
   "cell_type": "code",
   "execution_count": 7,
   "metadata": {
    "collapsed": false
   },
   "outputs": [],
   "source": [
    "for (i=n; i<n*2; i++) {\n",
    "   x[0+i*5] = randNum.Uniform(-10, 10);\n",
    "   x[1+i*5] = randNum.Uniform(-10, 10);\n",
    "   x[2+i*5] = randNum.Uniform(-10, 10);\n",
    "   x[3+i*5] = randNum.Uniform(-10, 10);\n",
    "   x[4+i*5] = randNum.Uniform(-10, 10);\n",
    "   e[i] = 0.01;\n",
    "   y[i] = 4*x[0+i*5] + x[1+i*5] + 2*x[2+i*5] + 3*x[3+i*5] + 0.2*x[4+i*5]  + randNum.Gaus()*e[i];\n",
    "}"
   ]
  },
  {
   "cell_type": "markdown",
   "metadata": {},
   "source": [
    "Assign the data the same way as before"
   ]
  },
  {
   "cell_type": "code",
   "execution_count": 8,
   "metadata": {
    "collapsed": false
   },
   "outputs": [
    {
     "name": "stdout",
     "output_type": "stream",
     "text": [
      "\n",
      "More Points:\n",
      "par[0]=0.000551+-0.000712\n",
      "par[1]=3.999910+-0.000121\n",
      "par[2]=0.999886+-0.000125\n",
      "par[3]=2.000067+-0.000123\n",
      "par[4]=2.999915+-0.000127\n",
      "par[5]=0.199918+-0.000130\n",
      "chisquare=145.050322490891915\n"
     ]
    }
   ],
   "source": [
    "lf->AssignData(n*2, 5, x, y, e);\n",
    "lf->Eval();\n",
    "lf->GetParameters(params);\n",
    "lf->GetErrors(errors);\n",
    "printf(\"\\nMore Points:\\n\");\n",
    "for (Int_t i=0; i<6; i++)\n",
    "   printf(\"par[%d]=%f+-%f\\n\", i, params(i), errors(i));\n",
    "chisquare=lf->GetChisquare();\n",
    "printf(\"chisquare=%.15f\\n\", chisquare);"
   ]
  },
  {
   "cell_type": "markdown",
   "metadata": {},
   "source": [
    "Suppose, you are not satisfied with the result and want to try a different formula\n",
    "Without a constant:\n",
    "Since the AssignData() function was used, you don't have to add all points to the fitter again"
   ]
  },
  {
   "cell_type": "code",
   "execution_count": 9,
   "metadata": {
    "collapsed": false
   },
   "outputs": [
    {
     "name": "stdout",
     "output_type": "stream",
     "text": [
      "\n",
      "Without Constant\n",
      "par[0]=3.999913+-0.000121\n",
      "par[1]=0.999890+-0.000125\n",
      "par[2]=2.000057+-0.000123\n",
      "par[3]=2.999919+-0.000127\n",
      "par[4]=0.199918+-0.000130\n",
      "chisquare=145.649621\n"
     ]
    }
   ],
   "source": [
    "lf->SetFormula(\"x0++x1++x2++x3++x4\");\n",
    "\n",
    "lf->Eval();\n",
    "lf->GetParameters(params);\n",
    "lf->GetErrors(errors);\n",
    "printf(\"\\nWithout Constant\\n\");\n",
    "for (Int_t i=0; i<5; i++)\n",
    "  printf(\"par[%d]=%f+-%f\\n\", i, params(i), errors(i));\n",
    "chisquare=lf->GetChisquare();\n",
    "printf(\"chisquare=%f\\n\", chisquare);"
   ]
  },
  {
   "cell_type": "markdown",
   "metadata": {},
   "source": [
    "Now suppose that you want to fix the value of one of the parameters\n",
    "Let's fix the first parameter at 4:"
   ]
  },
  {
   "cell_type": "code",
   "execution_count": 10,
   "metadata": {
    "collapsed": false
   },
   "outputs": [
    {
     "name": "stdout",
     "output_type": "stream",
     "text": [
      "\n",
      "Fixed Constant:\n",
      "par[0]=0.000536+-0.000712\n",
      "par[1]=4.000000+-1.000000\n",
      "par[2]=0.999884+-0.000125\n",
      "par[3]=2.000070+-0.000123\n",
      "par[4]=2.999910+-0.000127\n",
      "par[5]=0.199920+-0.000130\n",
      "chisquare=145.602523231222818\n"
     ]
    }
   ],
   "source": [
    "lf->SetFormula(\"hyp5\");\n",
    "lf->FixParameter(1, 4);\n",
    "lf->Eval();\n",
    "lf->GetParameters(params);\n",
    "lf->GetErrors(errors);\n",
    "printf(\"\\nFixed Constant:\\n\");\n",
    "for (i=0; i<6; i++)\n",
    "   printf(\"par[%d]=%f+-%f\\n\", i, params(i), errors(i));\n",
    "chisquare=lf->GetChisquare();\n",
    "printf(\"chisquare=%.15f\\n\", chisquare);"
   ]
  },
  {
   "cell_type": "markdown",
   "metadata": {},
   "source": [
    "The fixed parameters can then be released by the releaseparameter method"
   ]
  },
  {
   "cell_type": "code",
   "execution_count": 11,
   "metadata": {
    "collapsed": false
   },
   "outputs": [],
   "source": [
    "delete lf;"
   ]
  }
 ],
 "metadata": {
  "kernelspec": {
   "display_name": "ROOT C++",
   "language": "c++",
   "name": "root"
  },
  "language_info": {
   "codemirror_mode": "text/x-c++src",
   "file_extension": ".C",
   "mimetype": " text/x-c++src",
   "name": "c++"
  }
 },
 "nbformat": 4,
 "nbformat_minor": 2
}
