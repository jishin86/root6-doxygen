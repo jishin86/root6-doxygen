{
 "cells": [
  {
   "cell_type": "markdown",
   "metadata": {},
   "source": [
    "#  T M V A Cross Validation\n",
    "This macro provides an example of how to use TMVA for k-folds cross\n",
    "evaluation.\n",
    "\n",
    "As input data is used a toy-MC sample consisting of two guassian\n",
    "distributions.\n",
    "\n",
    "The output file \"TMVA.root\" can be analysed with the use of dedicated\n",
    "macros (simply say: root -l <macro.C>), which can be conveniently\n",
    "invoked through a GUI that will appear at the end of the run of this macro.\n",
    "Launch the GUI via the command:\n",
    "\n",
    "```\n",
    "root -l -e 'TMVA::TMVAGui(\"TMVA.root\")'\n",
    "```\n",
    "\n",
    "## Cross Evaluation\n",
    "Cross evaluation is a special case of k-folds cross validation where the\n",
    "splitting into k folds is computed deterministically. This ensures that the\n",
    "a given event will always end up in the same fold.\n",
    "\n",
    "In addition all resulting classifiers are saved and can be applied to new\n",
    "data using `MethodCrossValidation`. One requirement for this to work is a\n",
    "splitting function that is evaluated for each event to determine into what\n",
    "fold it goes (for training/evaluation) or to what classifier (for\n",
    "application).\n",
    "\n",
    "## Split Expression\n",
    "Cross evaluation uses a deterministic split to partition the data into\n",
    "folds called the split expression. The expression can be any valid\n",
    "`TFormula` as long as all parts used are defined.\n",
    "\n",
    "For each event the split expression is evaluated to a number and the event\n",
    "is put in the fold corresponding to that number.\n",
    "\n",
    "It is recommended to always use `%int([NumFolds])` at the end of the\n",
    "expression.\n",
    "\n",
    "The split expression has access to all spectators and variables defined in\n",
    "the dataloader. Additionally, the number of folds in the split can be\n",
    "accessed with `NumFolds` (or `numFolds`).\n",
    "\n",
    "### Example\n",
    " ```\n",
    " \"int(fabs([eventID]))%int([NumFolds])\"\n",
    " ```\n",
    "\n",
    "- Project   : TMVA - a ROOT-integrated toolkit for multivariate data analysis\n",
    "- Package   : TMVA\n",
    "- Root Macro: TMVACrossValidation\n",
    "\n",
    "\n",
    "\n",
    "**Author:** Kim Albertsson (adapted from code originally by Andreas Hoecker)  \n",
    "<i><small>This notebook tutorial was automatically generated with <a href= \"https://github.com/root-project/root/blob/master/documentation/doxygen/converttonotebook.py\">ROOTBOOK-izer</a> from the macro found in the ROOT repository  on Thursday, August 29, 2019 at 03:46 AM.</small></i>"
   ]
  },
  {
   "cell_type": "code",
   "execution_count": 1,
   "metadata": {
    "collapsed": false
   },
   "outputs": [],
   "source": [
    "%%cpp -d\n",
    "#include <cstdlib>\n",
    "#include <iostream>\n",
    "#include <map>\n",
    "#include <string>\n",
    "\n",
    "#include \"TChain.h\"\n",
    "#include \"TFile.h\"\n",
    "#include \"TTree.h\"\n",
    "#include \"TString.h\"\n",
    "#include \"TObjString.h\"\n",
    "#include \"TSystem.h\"\n",
    "#include \"TROOT.h\"\n",
    "\n",
    "#include \"TMVA/CrossValidation.h\"\n",
    "#include \"TMVA/DataLoader.h\"\n",
    "#include \"TMVA/Factory.h\"\n",
    "#include \"TMVA/Tools.h\"\n",
    "#include \"TMVA/TMVAGui.h\""
   ]
  },
  {
   "cell_type": "markdown",
   "metadata": {},
   "source": [
    "  Helper function to load data into TTrees.\n",
    " "
   ]
  },
  {
   "cell_type": "code",
   "execution_count": 2,
   "metadata": {
    "collapsed": false
   },
   "outputs": [],
   "source": [
    "%%cpp -d\n",
    "TTree *genTree(Int_t nPoints, Double_t offset, Double_t scale, UInt_t seed = 100)\n",
    "{\n",
    "   TRandom3 rng(seed);\n",
    "   Float_t x = 0;\n",
    "   Float_t y = 0;\n",
    "   UInt_t eventID = 0;\n",
    "\n",
    "   TTree *data = new TTree();\n",
    "   data->Branch(\"x\", &x, \"x/F\");\n",
    "   data->Branch(\"y\", &y, \"y/F\");\n",
    "   data->Branch(\"eventID\", &eventID, \"eventID/I\");\n",
    "\n",
    "   for (Int_t n = 0; n < nPoints; ++n) {\n",
    "      x = rng.Gaus(offset, scale);\n",
    "      y = rng.Gaus(offset, scale);\n",
    "\n",
    "      // For our simple example it is enough that the id's are uniformly\n",
    "      // distributed and independent of the data.\n",
    "      ++eventID;\n",
    "\n",
    "      data->Fill();\n",
    "   }\n",
    "\n",
    "   // Important: Disconnects the tree from the memory locations of x and y.\n",
    "   data->ResetBranchAddresses();\n",
    "   return data;\n",
    "}"
   ]
  },
  {
   "cell_type": "markdown",
   "metadata": {},
   "source": [
    "This loads the library"
   ]
  },
  {
   "cell_type": "code",
   "execution_count": 3,
   "metadata": {
    "collapsed": false
   },
   "outputs": [],
   "source": [
    "TMVA::Tools::Instance();"
   ]
  },
  {
   "cell_type": "markdown",
   "metadata": {},
   "source": [
    "--------------------------------------------------------------------------"
   ]
  },
  {
   "cell_type": "markdown",
   "metadata": {},
   "source": [
    "Load the data into ttrees. if you load data from file you can use a\n",
    " variant of\n",
    " ```\n",
    " TString filename = \"/path/to/file\";\n",
    " TFile * input = TFile::Open( filename );\n",
    " TTree * signalTree = (TTree*)input->Get(\"TreeName\");\n",
    " ```"
   ]
  },
  {
   "cell_type": "code",
   "execution_count": 4,
   "metadata": {
    "collapsed": false
   },
   "outputs": [],
   "source": [
    "TTree *sigTree = genTree(1000, 1.0, 1.0, 100);\n",
    "TTree *bkgTree = genTree(1000, -1.0, 1.0, 101);"
   ]
  },
  {
   "cell_type": "markdown",
   "metadata": {},
   "source": [
    "Create a root output file where tmva will store ntuples, histograms, etc."
   ]
  },
  {
   "cell_type": "code",
   "execution_count": 5,
   "metadata": {
    "collapsed": false
   },
   "outputs": [],
   "source": [
    "TString outfileName(\"TMVA.root\");\n",
    "TFile *outputFile = TFile::Open(outfileName, \"RECREATE\");"
   ]
  },
  {
   "cell_type": "markdown",
   "metadata": {},
   "source": [
    "Dataloader definitions; we declare variables in the tree so that tmva can\n",
    " find them. For more information see TMVAClassification tutorial."
   ]
  },
  {
   "cell_type": "code",
   "execution_count": 6,
   "metadata": {
    "collapsed": false
   },
   "outputs": [],
   "source": [
    "TMVA::DataLoader *dataloader = new TMVA::DataLoader(\"dataset\");"
   ]
  },
  {
   "cell_type": "markdown",
   "metadata": {},
   "source": [
    "Data variables"
   ]
  },
  {
   "cell_type": "code",
   "execution_count": 7,
   "metadata": {
    "collapsed": false
   },
   "outputs": [],
   "source": [
    "dataloader->AddVariable(\"x\", 'F');\n",
    "dataloader->AddVariable(\"y\", 'F');"
   ]
  },
  {
   "cell_type": "markdown",
   "metadata": {},
   "source": [
    "Spectator used for split"
   ]
  },
  {
   "cell_type": "code",
   "execution_count": 8,
   "metadata": {
    "collapsed": false
   },
   "outputs": [],
   "source": [
    "dataloader->AddSpectator(\"eventID\", 'I');"
   ]
  },
  {
   "cell_type": "markdown",
   "metadata": {},
   "source": [
    "Note: currently tmva treats all input variables, spectators etc as\n",
    "       floats. Thus, if the absolute value of the input is too large\n",
    "       there can be precision loss. This can especially be a problem for\n",
    "       cross validation with large event numbers.\n",
    "       A workaround is to define your splitting variable as:\n",
    "           `dataloader->AddSpectator(\"eventID := eventID % 4096\", 'I');`\n",
    "       where 4096 should be a number much larger than the number of folds\n",
    "       you intend to run with."
   ]
  },
  {
   "cell_type": "markdown",
   "metadata": {},
   "source": [
    "Attaches the trees so they can be read from"
   ]
  },
  {
   "cell_type": "code",
   "execution_count": 9,
   "metadata": {
    "collapsed": false
   },
   "outputs": [
    {
     "name": "stdout",
     "output_type": "stream",
     "text": [
      "DataSetInfo              : [dataset] : Added class \"Signal\"\n",
      "                         : Add Tree  of type Signal with 1000 events\n",
      "DataSetInfo              : [dataset] : Added class \"Background\"\n",
      "                         : Add Tree  of type Background with 1000 events\n"
     ]
    }
   ],
   "source": [
    "dataloader->AddSignalTree(sigTree, 1.0);\n",
    "dataloader->AddBackgroundTree(bkgTree, 1.0);"
   ]
  },
  {
   "cell_type": "markdown",
   "metadata": {},
   "source": [
    "The cv mechanism of tmva splits up the training set into several folds.\n",
    " The test set is currently left unused. The `nTest_ClassName=1` assigns\n",
    " one event to the the test set for each class and puts the rest in the\n",
    " training set. A value of 0 is a special value and would split the\n",
    " datasets 50 / 50."
   ]
  },
  {
   "cell_type": "code",
   "execution_count": 10,
   "metadata": {
    "collapsed": false
   },
   "outputs": [],
   "source": [
    "dataloader->PrepareTrainingAndTestTree(\"\", \"\",\n",
    "                                       \"nTest_Signal=1\"\n",
    "                                       \":nTest_Background=1\"\n",
    "                                       \":SplitMode=Random\"\n",
    "                                       \":NormMode=NumEvents\"\n",
    "                                       \":!V\");"
   ]
  },
  {
   "cell_type": "markdown",
   "metadata": {},
   "source": [
    "--------------------------------------------------------------------------"
   ]
  },
  {
   "cell_type": "markdown",
   "metadata": {},
   "source": [
    " This sets up a CrossValidation class (which wraps a TMVA::Factory\n",
    " internally) for 2-fold cross validation.\n",
    "\n",
    " The split type can be \"Random\", \"RandomStratified\" or \"Deterministic\".\n",
    " For the last option, check the comment below. Random splitting randomises\n",
    " the order of events and distributes events as evenly as possible.\n",
    " RandomStratified applies the same logic but distributes events within a\n",
    " class as evenly as possible over the folds."
   ]
  },
  {
   "cell_type": "code",
   "execution_count": 11,
   "metadata": {
    "collapsed": false
   },
   "outputs": [],
   "source": [
    "UInt_t numFolds = 2;\n",
    "TString analysisType = \"Classification\";\n",
    "TString splitType = \"Random\";\n",
    "TString splitExpr = \"\";"
   ]
  },
  {
   "cell_type": "markdown",
   "metadata": {},
   "source": [
    " One can also use a custom splitting function for producing the folds.\n",
    " The example uses a dataset spectator `eventID`.\n",
    "\n",
    " The idea here is that eventID should be an event number that is integral,\n",
    " random and independent of the data, generated only once. This last\n",
    " property ensures that if a calibration is changed the same event will\n",
    " still be assigned the same fold.\n",
    " \n",
    " This can be used to use the cross validated classifiers in application,\n",
    " a technique that can simplify statistical analysis.\n",
    " \n",
    " If you want to run TMVACrossValidationApplication, make sure you have \n",
    " run this tutorial with the below line uncommented first.\n",
    " "
   ]
  },
  {
   "cell_type": "markdown",
   "metadata": {},
   "source": [
    "Tstring splitexpr = \"int(fabs([eventid]))%int([numfolds])\";"
   ]
  },
  {
   "cell_type": "code",
   "execution_count": 12,
   "metadata": {
    "collapsed": false
   },
   "outputs": [],
   "source": [
    "TString cvOptions = Form(\"!V\"\n",
    "                         \":!Silent\"\n",
    "                         \":ModelPersistence\"\n",
    "                         \":AnalysisType=%s\"\n",
    "                         \":SplitType=%s\"\n",
    "                         \":NumFolds=%i\"\n",
    "                         \":SplitExpr=%s\",\n",
    "                         analysisType.Data(), splitType.Data(), numFolds,\n",
    "                         splitExpr.Data());\n",
    "\n",
    "TMVA::CrossValidation cv{\"TMVACrossValidation\", dataloader, outputFile, cvOptions};"
   ]
  },
  {
   "cell_type": "markdown",
   "metadata": {},
   "source": [
    "--------------------------------------------------------------------------"
   ]
  },
  {
   "cell_type": "markdown",
   "metadata": {},
   "source": [
    " Books a method to use for evaluation"
   ]
  },
  {
   "cell_type": "code",
   "execution_count": 13,
   "metadata": {
    "collapsed": false
   },
   "outputs": [],
   "source": [
    "cv.BookMethod(TMVA::Types::kBDT, \"BDTG\",\n",
    "              \"!H:!V:NTrees=100:MinNodeSize=2.5%:BoostType=Grad\"\n",
    "              \":NegWeightTreatment=Pray:Shrinkage=0.10:nCuts=20\"\n",
    "              \":MaxDepth=2\");\n",
    "\n",
    "cv.BookMethod(TMVA::Types::kFisher, \"Fisher\",\n",
    "              \"!H:!V:Fisher:VarTransform=None\");"
   ]
  },
  {
   "cell_type": "markdown",
   "metadata": {},
   "source": [
    "--------------------------------------------------------------------------"
   ]
  },
  {
   "cell_type": "markdown",
   "metadata": {},
   "source": [
    " Train, test and evaluate the booked methods.\n",
    " Evaluates the booked methods once for each fold and aggregates the result\n",
    " in the specified output file."
   ]
  },
  {
   "cell_type": "code",
   "execution_count": 14,
   "metadata": {
    "collapsed": false
   },
   "outputs": [
    {
     "name": "stdout",
     "output_type": "stream",
     "text": [
      "                         : Evaluate method: BDTG\n",
      "<HEADER> Factory                  : Booking method: BDTG_fold1\n",
      "                         : \n",
      "<HEADER> BDTG_fold1               : #events: (reweighted) sig: 499.5 bkg: 499.5\n",
      "                         : #events: (unweighted) sig: 493 bkg: 506\n",
      "                         : Training 100 Decision Trees ... patience please\n",
      "                         : Elapsed time for training with 999 events: 0.056 sec         \n",
      "<HEADER> BDTG_fold1               : [dataset] : Evaluation of BDTG_fold1 on training sample (999 events)\n",
      "                         : Elapsed time for evaluation of 999 events: 0.00331 sec       \n",
      "                         : Creating xml weight file: dataset/weights/TMVACrossValidation_BDTG_fold1.weights.xml\n",
      "                         : Creating standalone class: dataset/weights/TMVACrossValidation_BDTG_fold1.class.C\n",
      "<HEADER> Factory                  : Test all methods\n",
      "<HEADER> Factory                  : Test method: BDTG_fold1 for Classification performance\n",
      "                         : \n",
      "<HEADER> BDTG_fold1               : [dataset] : Evaluation of BDTG_fold1 on testing sample (999 events)\n",
      "                         : Elapsed time for evaluation of 999 events: 0.00345 sec       \n",
      "<HEADER> Factory                  : Evaluate all methods\n",
      "<HEADER> Factory                  : Evaluate classifier: BDTG_fold1\n",
      "                         : \n",
      "<HEADER> BDTG_fold1               : [dataset] : Loop over test events and fill histograms with classifier response...\n",
      "                         : \n",
      "<HEADER> Factory                  : Thank you for using TMVA!\n",
      "                         : For citation information, please visit: http://tmva.sf.net/citeTMVA.html\n",
      "<HEADER> Factory                  : Booking method: BDTG_fold2\n",
      "                         : \n",
      "<HEADER> BDTG_fold2               : #events: (reweighted) sig: 499.5 bkg: 499.5\n",
      "                         : #events: (unweighted) sig: 506 bkg: 493\n",
      "                         : Training 100 Decision Trees ... patience please\n",
      "                         : Elapsed time for training with 999 events: 0.055 sec         \n",
      "<HEADER> BDTG_fold2               : [dataset] : Evaluation of BDTG_fold2 on training sample (999 events)\n",
      "                         : Elapsed time for evaluation of 999 events: 0.00351 sec       \n",
      "                         : Creating xml weight file: dataset/weights/TMVACrossValidation_BDTG_fold2.weights.xml\n",
      "                         : Creating standalone class: dataset/weights/TMVACrossValidation_BDTG_fold2.class.C\n",
      "<HEADER> Factory                  : Test all methods\n",
      "<HEADER> Factory                  : Test method: BDTG_fold2 for Classification performance\n",
      "                         : \n",
      "<HEADER> BDTG_fold2               : [dataset] : Evaluation of BDTG_fold2 on testing sample (999 events)\n",
      "                         : Elapsed time for evaluation of 999 events: 0.00312 sec       \n",
      "<HEADER> Factory                  : Evaluate all methods\n",
      "<HEADER> Factory                  : Evaluate classifier: BDTG_fold2\n",
      "                         : \n",
      "<HEADER> BDTG_fold2               : [dataset] : Loop over test events and fill histograms with classifier response...\n",
      "                         : \n",
      "<HEADER> Factory                  : Thank you for using TMVA!\n",
      "                         : For citation information, please visit: http://tmva.sf.net/citeTMVA.html\n",
      "<HEADER> Factory                  : Booking method: BDTG\n",
      "                         : \n",
      "                         : Reading weightfile: dataset/weights/TMVACrossValidation_BDTG_fold1.weights.xml\n",
      "                         : Reading weight file: dataset/weights/TMVACrossValidation_BDTG_fold1.weights.xml\n",
      "                         : Reading weightfile: dataset/weights/TMVACrossValidation_BDTG_fold2.weights.xml\n",
      "                         : Reading weight file: dataset/weights/TMVACrossValidation_BDTG_fold2.weights.xml\n",
      "                         : Evaluate method: Fisher\n",
      "<HEADER> Factory                  : Booking method: Fisher_fold1\n",
      "                         : \n",
      "<HEADER> Fisher_fold1             : Results for Fisher coefficients:\n",
      "                         : -----------------------\n",
      "                         : Variable:  Coefficient:\n",
      "                         : -----------------------\n",
      "                         :        x:       +0.471\n",
      "                         :        y:       +0.440\n",
      "                         : (offset):       +0.000\n",
      "                         : -----------------------\n",
      "                         : Elapsed time for training with 999 events: 0.000399 sec         \n",
      "<HEADER> Fisher_fold1             : [dataset] : Evaluation of Fisher_fold1 on training sample (999 events)\n",
      "                         : Elapsed time for evaluation of 999 events: 5.41e-05 sec       \n",
      "                         : Creating xml weight file: dataset/weights/TMVACrossValidation_Fisher_fold1.weights.xml\n",
      "                         : Creating standalone class: dataset/weights/TMVACrossValidation_Fisher_fold1.class.C\n",
      "<HEADER> Factory                  : Test all methods\n",
      "<HEADER> Factory                  : Test method: Fisher_fold1 for Classification performance\n",
      "                         : \n",
      "<HEADER> Fisher_fold1             : [dataset] : Evaluation of Fisher_fold1 on testing sample (999 events)\n",
      "                         : Elapsed time for evaluation of 999 events: 5.82e-05 sec       \n",
      "<HEADER> Factory                  : Evaluate all methods\n",
      "<HEADER> Factory                  : Evaluate classifier: Fisher_fold1\n",
      "                         : \n",
      "<HEADER> Fisher_fold1             : [dataset] : Loop over test events and fill histograms with classifier response...\n",
      "                         : \n",
      "<HEADER> Factory                  : Thank you for using TMVA!\n",
      "                         : For citation information, please visit: http://tmva.sf.net/citeTMVA.html\n",
      "<HEADER> Factory                  : Booking method: Fisher_fold2\n",
      "                         : \n",
      "<HEADER> Fisher_fold2             : Results for Fisher coefficients:\n",
      "                         : -----------------------\n",
      "                         : Variable:  Coefficient:\n",
      "                         : -----------------------\n",
      "                         :        x:       +0.475\n",
      "                         :        y:       +0.463\n",
      "                         : (offset):       +0.020\n",
      "                         : -----------------------\n",
      "                         : Elapsed time for training with 999 events: 0.000265 sec         \n",
      "<HEADER> Fisher_fold2             : [dataset] : Evaluation of Fisher_fold2 on training sample (999 events)\n",
      "                         : Elapsed time for evaluation of 999 events: 9.3e-05 sec       \n",
      "                         : Creating xml weight file: dataset/weights/TMVACrossValidation_Fisher_fold2.weights.xml\n",
      "                         : Creating standalone class: dataset/weights/TMVACrossValidation_Fisher_fold2.class.C\n",
      "<HEADER> Factory                  : Test all methods\n",
      "<HEADER> Factory                  : Test method: Fisher_fold2 for Classification performance\n",
      "                         : \n",
      "<HEADER> Fisher_fold2             : [dataset] : Evaluation of Fisher_fold2 on testing sample (999 events)\n",
      "                         : Elapsed time for evaluation of 999 events: 8.68e-05 sec       \n",
      "<HEADER> Factory                  : Evaluate all methods\n",
      "<HEADER> Factory                  : Evaluate classifier: Fisher_fold2\n",
      "                         : \n",
      "<HEADER> Fisher_fold2             : [dataset] : Loop over test events and fill histograms with classifier response...\n",
      "                         : \n",
      "<HEADER> Factory                  : Thank you for using TMVA!\n",
      "                         : For citation information, please visit: http://tmva.sf.net/citeTMVA.html\n",
      "<HEADER> Factory                  : Booking method: Fisher\n",
      "                         : \n",
      "                         : Reading weightfile: dataset/weights/TMVACrossValidation_Fisher_fold1.weights.xml\n",
      "                         : Reading weight file: dataset/weights/TMVACrossValidation_Fisher_fold1.weights.xml\n",
      "                         : Reading weightfile: dataset/weights/TMVACrossValidation_Fisher_fold2.weights.xml\n",
      "                         : Reading weight file: dataset/weights/TMVACrossValidation_Fisher_fold2.weights.xml\n",
      "<HEADER> Factory                  : [dataset] : Create Transformation \"I\" with events from all classes.\n",
      "                         : \n",
      "<HEADER>                          : Transformation, Variable selection : \n",
      "                         : Input : variable 'x' <---> Output : variable 'x'\n",
      "                         : Input : variable 'y' <---> Output : variable 'y'\n",
      "<HEADER> TFHandler_Factory        : Variable        Mean        RMS   [        Min        Max ]\n",
      "                         : -----------------------------------------------------------\n",
      "                         :        x:  -0.014284     1.4061   [    -4.1075     4.0969 ]\n",
      "                         :        y: -0.0066370     1.4204   [    -4.8520     4.0761 ]\n",
      "                         : -----------------------------------------------------------\n",
      "                         : Ranking input variables (method unspecific)...\n",
      "<HEADER> IdTransformation         : Ranking result (top variable is best ranked)\n",
      "                         : --------------------------\n",
      "                         : Rank : Variable  : Separation\n",
      "                         : --------------------------\n",
      "                         :    1 : x         : 5.429e-01\n",
      "                         :    2 : y         : 5.230e-01\n",
      "                         : --------------------------\n",
      "                         : Elapsed time for training with 1998 events: 2e-05 sec         \n",
      "<HEADER> BDTG                     : [dataset] : Evaluation of BDTG on training sample (1998 events)\n",
      "                         : Elapsed time for evaluation of 1998 events: 0.00623 sec       \n",
      "                         : Creating xml weight file: dataset/weights/TMVACrossValidation_BDTG.weights.xml\n",
      "                         : Creating standalone class: dataset/weights/TMVACrossValidation_BDTG.class.C\n",
      "<WARNING> <WARNING>                : MakeClassSpecificHeader not implemented for CrossValidation\n",
      "<WARNING> <WARNING>                : MakeClassSpecific not implemented for CrossValidation\n",
      "                         : Elapsed time for training with 1998 events: 3.1e-06 sec         \n",
      "<HEADER> Fisher                   : [dataset] : Evaluation of Fisher on training sample (1998 events)\n",
      "                         : Elapsed time for evaluation of 1998 events: 0.000388 sec       \n",
      "                         : Creating xml weight file: dataset/weights/TMVACrossValidation_Fisher.weights.xml\n",
      "                         : Creating standalone class: dataset/weights/TMVACrossValidation_Fisher.class.C\n",
      "<WARNING> <WARNING>                : MakeClassSpecificHeader not implemented for CrossValidation\n",
      "<WARNING> <WARNING>                : MakeClassSpecific not implemented for CrossValidation\n",
      "<HEADER> Factory                  : Test all methods\n",
      "<HEADER> Factory                  : Test method: BDTG for Classification performance\n",
      "                         : \n",
      "<HEADER> BDTG                     : [dataset] : Evaluation of BDTG on testing sample (1998 events)\n",
      "                         : Elapsed time for evaluation of 1998 events: 0.00561 sec       \n",
      "<HEADER> Factory                  : Test method: Fisher for Classification performance\n",
      "                         : \n",
      "<HEADER> Fisher                   : [dataset] : Evaluation of Fisher on testing sample (1998 events)\n",
      "                         : Elapsed time for evaluation of 1998 events: 0.000434 sec       \n",
      "<HEADER> Factory                  : Evaluate all methods\n",
      "<HEADER> Factory                  : Evaluate classifier: BDTG\n",
      "                         : \n",
      "<HEADER> BDTG                     : [dataset] : Loop over test events and fill histograms with classifier response...\n",
      "                         : \n",
      "<HEADER> TFHandler_BDTG           : Variable        Mean        RMS   [        Min        Max ]\n",
      "                         : -----------------------------------------------------------\n",
      "                         :        x:  -0.014284     1.4061   [    -4.1075     4.0969 ]\n",
      "                         :        y: -0.0066370     1.4204   [    -4.8520     4.0761 ]\n",
      "                         : -----------------------------------------------------------\n",
      "<HEADER> Factory                  : Evaluate classifier: Fisher\n",
      "                         : \n",
      "<HEADER> Fisher                   : [dataset] : Loop over test events and fill histograms with classifier response...\n",
      "                         : \n",
      "<HEADER> TFHandler_Fisher         : Variable        Mean        RMS   [        Min        Max ]\n",
      "                         : -----------------------------------------------------------\n",
      "                         :        x:  -0.014284     1.4061   [    -4.1075     4.0969 ]\n",
      "                         :        y: -0.0066370     1.4204   [    -4.8520     4.0761 ]\n",
      "                         : -----------------------------------------------------------\n",
      "                         : \n",
      "                         : Evaluation results ranked by best signal efficiency and purity (area)\n",
      "                         : -------------------------------------------------------------------------------------------------------------------\n",
      "                         : DataSet       MVA                       \n",
      "                         : Name:         Method:          ROC-integ\n",
      "                         : dataset       Fisher         : 0.971\n",
      "                         : dataset       BDTG           : 0.967\n",
      "                         : -------------------------------------------------------------------------------------------------------------------\n",
      "                         : \n",
      "                         : Testing efficiency compared to training efficiency (overtraining check)\n",
      "                         : -------------------------------------------------------------------------------------------------------------------\n",
      "                         : DataSet              MVA              Signal efficiency: from test sample (from training sample) \n",
      "                         : Name:                Method:          @B=0.01             @B=0.10            @B=0.30   \n",
      "                         : -------------------------------------------------------------------------------------------------------------------\n",
      "                         : dataset              Fisher         : 0.654 (0.654)       0.923 (0.923)      0.980 (0.980)\n",
      "                         : dataset              BDTG           : 0.630 (0.630)       0.920 (0.920)      0.976 (0.976)\n",
      "                         : -------------------------------------------------------------------------------------------------------------------\n",
      "                         : \n",
      "<HEADER> Dataset:dataset          : Created tree 'TestTree' with 1998 events\n",
      "                         : \n",
      "<HEADER> Dataset:dataset          : Created tree 'TrainTree' with 1998 events\n",
      "                         : \n",
      "<HEADER> Factory                  : Thank you for using TMVA!\n",
      "                         : For citation information, please visit: http://tmva.sf.net/citeTMVA.html\n",
      "                         : Evaluation done.\n"
     ]
    }
   ],
   "source": [
    "cv.Evaluate();"
   ]
  },
  {
   "cell_type": "markdown",
   "metadata": {},
   "source": [
    "--------------------------------------------------------------------------"
   ]
  },
  {
   "cell_type": "markdown",
   "metadata": {},
   "source": [
    " Process some output programatically, printing the ROC score for each\n",
    " booked method."
   ]
  },
  {
   "cell_type": "code",
   "execution_count": 15,
   "metadata": {
    "collapsed": false
   },
   "outputs": [
    {
     "name": "stdout",
     "output_type": "stream",
     "text": [
      "Summary for method BDT\n",
      "\tFold 0: ROC int: 0.96956, BkgEff@SigEff=0.3: 0.982\n",
      "\tFold 1: ROC int: 0.966535, BkgEff@SigEff=0.3: 0.97\n",
      "Summary for method Fisher\n",
      "\tFold 0: ROC int: 0.971244, BkgEff@SigEff=0.3: 0.981\n",
      "\tFold 1: ROC int: 0.970957, BkgEff@SigEff=0.3: 0.981\n"
     ]
    }
   ],
   "source": [
    "size_t iMethod = 0;\n",
    "for (auto && result : cv.GetResults()) {\n",
    "   std::cout << \"Summary for method \" << cv.GetMethods()[iMethod++].GetValue<TString>(\"MethodName\")\n",
    "             << std::endl;\n",
    "   for (UInt_t iFold = 0; iFold<cv.GetNumFolds(); ++iFold) {\n",
    "      std::cout << \"\\tFold \" << iFold << \": \"\n",
    "                << \"ROC int: \" << result.GetROCValues()[iFold]\n",
    "                << \", \"\n",
    "                << \"BkgEff@SigEff=0.3: \" << result.GetEff30Values()[iFold]\n",
    "                << std::endl;\n",
    "   }\n",
    "}"
   ]
  },
  {
   "cell_type": "markdown",
   "metadata": {},
   "source": [
    "--------------------------------------------------------------------------"
   ]
  },
  {
   "cell_type": "markdown",
   "metadata": {},
   "source": [
    " Save the output"
   ]
  },
  {
   "cell_type": "code",
   "execution_count": 16,
   "metadata": {
    "collapsed": false
   },
   "outputs": [
    {
     "name": "stdout",
     "output_type": "stream",
     "text": [
      "==> Wrote root file: TMVA.root\n",
      "==> TMVACrossValidation is done!\n"
     ]
    }
   ],
   "source": [
    "outputFile->Close();\n",
    "\n",
    "std::cout << \"==> Wrote root file: \" << outputFile->GetName() << std::endl;\n",
    "std::cout << \"==> TMVACrossValidation is done!\" << std::endl;"
   ]
  },
  {
   "cell_type": "markdown",
   "metadata": {},
   "source": [
    "--------------------------------------------------------------------------"
   ]
  },
  {
   "cell_type": "markdown",
   "metadata": {},
   "source": [
    " Launch the GUI for the root macros"
   ]
  },
  {
   "cell_type": "code",
   "execution_count": 17,
   "metadata": {
    "collapsed": false
   },
   "outputs": [],
   "source": [
    "if (!gROOT->IsBatch()) {\n",
    "   // Draw cv-specific graphs\n",
    "   cv.GetResults()[0].DrawAvgROCCurve(kTRUE, \"Avg ROC for BDTG\");\n",
    "   cv.GetResults()[0].DrawAvgROCCurve(kTRUE, \"Avg ROC for Fisher\");\n",
    "\n",
    "   // You can also use the classical gui\n",
    "   TMVA::TMVAGui(outfileName);\n",
    "}\n",
    "\n",
    "return 0;"
   ]
  }
 ],
 "metadata": {
  "kernelspec": {
   "display_name": "ROOT C++",
   "language": "c++",
   "name": "root"
  },
  "language_info": {
   "codemirror_mode": "text/x-c++src",
   "file_extension": ".C",
   "mimetype": " text/x-c++src",
   "name": "c++"
  }
 },
 "nbformat": 4,
 "nbformat_minor": 2
}
