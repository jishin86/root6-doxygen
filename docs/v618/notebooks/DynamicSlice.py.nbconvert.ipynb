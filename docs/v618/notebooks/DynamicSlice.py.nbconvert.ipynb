{
 "cells": [
  {
   "cell_type": "markdown",
   "metadata": {},
   "source": [
    "#  Dynamic Slice\n",
    "Example of function called when a mouse event occurs in a pad.\n",
    "When moving the mouse in the canvas, a second canvas shows the\n",
    "projection along X of the bin corresponding to the Y position\n",
    "of the mouse. The resulting histogram is fitted with a gaussian.\n",
    "A \"dynamic\" line shows the current bin position in Y.\n",
    "This more elaborated example can be used as a starting point\n",
    "to develop more powerful interactive applications exploiting CINT\n",
    "as a development engine.\n",
    "\n",
    "Note that a class is used to hold on to the canvas that display\n",
    "the selected slice.\n",
    "\n",
    "\n",
    "\n",
    "\n",
    "**Author:** Rene Brun, Johann Cohen-Tanugi, Wim Lavrijsen  \n",
    "<i><small>This notebook tutorial was automatically generated with <a href= \"https://github.com/root-project/root/blob/master/documentation/doxygen/converttonotebook.py\">ROOTBOOK-izer</a> from the macro found in the ROOT repository  on Thursday, August 29, 2019 at 02:27 AM.</small></i>"
   ]
  },
  {
   "cell_type": "code",
   "execution_count": 1,
   "metadata": {
    "collapsed": false
   },
   "outputs": [
    {
     "name": "stdout",
     "output_type": "stream",
     "text": [
      "Welcome to JupyROOT 6.18/03\n"
     ]
    }
   ],
   "source": [
    "import sys\n",
    "\n",
    "from ROOT import gRandom, gPad, gROOT, gVirtualX\n",
    "from ROOT import kTRUE, kRed\n",
    "from ROOT import TCanvas, TH2, TH2F, Double\n",
    "\n",
    "\n",
    "class DynamicExec:\n",
    "\n",
    "   def __init__( self ):\n",
    "      self._cX   = None\n",
    "      self._cY   = None\n",
    "      self._old  = None\n",
    "\n",
    "   def __call__( self ):\n",
    "\n",
    "      h = gPad.GetSelected();\n",
    "      if not h:\n",
    "         return\n",
    "\n",
    "      if not isinstance( h, TH2 ):\n",
    "         return\n",
    "\n",
    "      gPad.GetCanvas().FeedbackMode( kTRUE )\n",
    "\n",
    "    # erase old position and draw a line at current position\n",
    "      px = gPad.GetEventX()\n",
    "      py = gPad.GetEventY()\n",
    "\n",
    "      uxmin, uxmax = gPad.GetUxmin(), gPad.GetUxmax()\n",
    "      uymin, uymax = gPad.GetUymin(), gPad.GetUymax()\n",
    "      pxmin, pxmax = gPad.XtoAbsPixel( uxmin ), gPad.XtoAbsPixel( uxmax )\n",
    "      pymin, pymax = gPad.YtoAbsPixel( uymin ), gPad.YtoAbsPixel( uymax )\n",
    "\n",
    "      if self._old != None:\n",
    "         gVirtualX.DrawLine( pxmin, self._old[1], pxmax, self._old[1] )\n",
    "         gVirtualX.DrawLine( self._old[0], pymin, self._old[0], pymax )\n",
    "      gVirtualX.DrawLine( pxmin, py, pxmax, py )\n",
    "      gVirtualX.DrawLine( px, pymin, px, pymax )\n",
    "\n",
    "      self._old = px, py\n",
    "\n",
    "      upx = gPad.AbsPixeltoX( px )\n",
    "      x = gPad.PadtoX( upx )\n",
    "      upy = gPad.AbsPixeltoY( py )\n",
    "      y = gPad.PadtoY( upy )\n",
    "\n",
    "      padsav = gPad\n",
    "\n",
    "    # create or set the display canvases\n",
    "      if not self._cX:\n",
    "         self._cX = TCanvas( 'c2', 'Projection Canvas in X', 730, 10, 700, 500 )\n",
    "      else:\n",
    "         self._DestroyPrimitive( 'X' )\n",
    "\n",
    "      if not self._cY:\n",
    "         self._cY = TCanvas( 'c3', 'Projection Canvas in Y', 10, 550, 700, 500 )\n",
    "      else:\n",
    "         self._DestroyPrimitive( 'Y' )\n",
    "\n",
    "      self.DrawSlice( h, y, 'Y' )\n",
    "      self.DrawSlice( h, x, 'X' )\n",
    "\n",
    "      padsav.cd()\n",
    "\n",
    "   def _DestroyPrimitive( self, xy ):\n",
    "      proj = getattr( self, '_c'+xy ).GetPrimitive( 'Projection '+xy )\n",
    "      if proj:\n",
    "         proj.IsA().Destructor( proj )\n",
    "\n",
    "   def DrawSlice( self, histo, value, xy ):\n",
    "      yx = xy == 'X' and 'Y' or 'X'\n",
    "\n",
    "    # draw slice corresponding to mouse position\n",
    "      canvas = getattr( self, '_c'+xy )\n",
    "      canvas.SetGrid()\n",
    "      canvas.cd()\n",
    "\n",
    "      bin = getattr( histo, 'Get%saxis' % xy )().FindBin( value )\n",
    "      hp = getattr( histo, 'Projection' + yx )( '', bin, bin )\n",
    "      hp.SetFillColor( 38 )\n",
    "      hp.SetName( 'Projection ' + xy )\n",
    "      hp.SetTitle( xy + 'Projection of bin=%d' % bin )\n",
    "      hp.Fit( 'gaus', 'ql' )\n",
    "      hp.GetFunction( 'gaus' ).SetLineColor( kRed )\n",
    "      hp.GetFunction( 'gaus' ).SetLineWidth( 6 )\n",
    "      canvas.Update()\n",
    "\n",
    "\n",
    "if __name__ == '__main__':\n",
    " # create a new canvas.\n",
    "   c1 = TCanvas('c1', 'Dynamic Slice Example', 10, 10, 700, 500 )\n",
    "   c1.SetFillColor( 42 )\n",
    "   c1.SetFrameFillColor( 33 )\n",
    "\n",
    " # create a 2-d histogram, fill and draw it\n",
    "   hpxpy  = TH2F( 'hpxpy', 'py vs px', 40, -4, 4, 40, -4, 4 )\n",
    "   hpxpy.SetStats( 0 )\n",
    "   x, y = Double( 0.1 ), Double( 0.101 )\n",
    "   for i in range( 50000 ):\n",
    "     gRandom.Rannor( x, y )\n",
    "     hpxpy.Fill( x, y )\n",
    "   hpxpy.Draw( 'COL' )\n",
    "\n",
    " # Add a TExec object to the canvas (explicit use of __main__ is for IPython)\n",
    "   import __main__\n",
    "   __main__.slicer = DynamicExec()\n",
    "   c1.AddExec( 'dynamic', 'TPython::Exec( \"slicer()\" );' )\n",
    "   c1.Update()"
   ]
  },
  {
   "cell_type": "markdown",
   "metadata": {},
   "source": [
    "Draw all canvases "
   ]
  },
  {
   "cell_type": "code",
   "execution_count": 2,
   "metadata": {
    "collapsed": false
   },
   "outputs": [
    {
     "data": {
      "image/png": "[encoded data removed]",
      "text/plain": [
       "<IPython.core.display.Image object>"
      ]
     },
     "metadata": {},
     "output_type": "display_data"
    }
   ],
   "source": [
    "from ROOT import gROOT \n",
    "gROOT.GetListOfCanvases().Draw()"
   ]
  }
 ],
 "metadata": {
  "kernelspec": {
   "display_name": "Python 2",
   "language": "python",
   "name": "python2"
  },
  "language_info": {
   "codemirror_mode": {
    "name": "ipython",
    "version": 2
   },
   "file_extension": ".py",
   "mimetype": "text/x-python",
   "name": "python",
   "nbconvert_exporter": "python",
   "pygments_lexer": "ipython2",
   "version": "2.7.10"
  }
 },
 "nbformat": 4,
 "nbformat_minor": 2
}
