{
 "cells": [
  {
   "cell_type": "markdown",
   "metadata": {},
   "source": [
    "# Graphstruct\n",
    "Draw a simple graph structure.\n",
    "The graph layout is made using graphviz. This macro creates some\n",
    "nodes and edges and change a few graphical attributes on some of them.\n",
    "\n",
    "\n",
    "\n",
    "\n",
    "**Author:** Olivier Couet  \n",
    "<i><small>This notebook tutorial was automatically generated with <a href= \"https://github.com/root-project/root/blob/master/documentation/doxygen/converttonotebook.py\">ROOTBOOK-izer</a> from the macro found in the ROOT repository  on Thursday, August 29, 2019 at 01:47 AM.</small></i>"
   ]
  },
  {
   "cell_type": "code",
   "execution_count": 1,
   "metadata": {
    "collapsed": false
   },
   "outputs": [],
   "source": [
    "TGraphStruct *gs = new TGraphStruct();"
   ]
  },
  {
   "cell_type": "markdown",
   "metadata": {},
   "source": [
    "Create some nodes and put them in the graph in one go ..."
   ]
  },
  {
   "cell_type": "code",
   "execution_count": 2,
   "metadata": {
    "collapsed": false
   },
   "outputs": [],
   "source": [
    "TGraphNode *n0 = gs->AddNode(\"n0\",\"Node 0\");\n",
    "TGraphNode *n1 = gs->AddNode(\"n1\",\"First node\");\n",
    "TGraphNode *n2 = gs->AddNode(\"n2\",\"Second node\");\n",
    "TGraphNode *n3 = gs->AddNode(\"n3\",\"Third node\");\n",
    "TGraphNode *n4 = gs->AddNode(\"n4\",\"Fourth node\");\n",
    "TGraphNode *n5 = gs->AddNode(\"n5\",\"5th node\");\n",
    "TGraphNode *n6 = gs->AddNode(\"n6\",\"Node number six\");\n",
    "TGraphNode *n7 = gs->AddNode(\"n7\",\"Node 7\");\n",
    "TGraphNode *n8 = gs->AddNode(\"n8\",\"Node 8\");\n",
    "TGraphNode *n9 = gs->AddNode(\"n9\",\"Node 9\");\n",
    "\n",
    "n4->SetTextSize(0.03);\n",
    "n6->SetTextSize(0.03);\n",
    "n2->SetTextSize(0.04);\n",
    "\n",
    "n3->SetTextFont(132);\n",
    "\n",
    "n0->SetTextColor(kRed);\n",
    "\n",
    "n9->SetFillColor(kRed-10);\n",
    "n0->SetFillColor(kYellow-9);\n",
    "n7->SetFillColor(kViolet-9);"
   ]
  },
  {
   "cell_type": "markdown",
   "metadata": {},
   "source": [
    "Some edges ..."
   ]
  },
  {
   "cell_type": "code",
   "execution_count": 3,
   "metadata": {
    "collapsed": false
   },
   "outputs": [],
   "source": [
    "gs->AddEdge(n0,n1)->SetLineColor(kRed);\n",
    "TGraphEdge *e06 = gs->AddEdge(n0,n6);\n",
    "e06->SetLineColor(kRed-3);\n",
    "e06->SetLineWidth(4);\n",
    "gs->AddEdge(n1,n7);\n",
    "gs->AddEdge(n4,n6);\n",
    "gs->AddEdge(n3,n9);\n",
    "gs->AddEdge(n6,n8);\n",
    "gs->AddEdge(n7,n2);\n",
    "gs->AddEdge(n8,n3);\n",
    "gs->AddEdge(n2,n3);\n",
    "gs->AddEdge(n9,n0);\n",
    "gs->AddEdge(n1,n4);\n",
    "gs->AddEdge(n1,n6);\n",
    "gs->AddEdge(n2,n5);\n",
    "gs->AddEdge(n3,n6);\n",
    "gs->AddEdge(n4,n5);\n",
    "\n",
    "TCanvas *c = new TCanvas(\"c\",\"c\",800,600);\n",
    "c->SetFillColor(38);\n",
    "gs->Draw();\n",
    "return c;"
   ]
  },
  {
   "cell_type": "markdown",
   "metadata": {},
   "source": [
    "Draw all canvases "
   ]
  },
  {
   "cell_type": "code",
   "execution_count": 4,
   "metadata": {
    "collapsed": false
   },
   "outputs": [
    {
     "data": {
      "image/png": "[encoded data removed]",
      "text/plain": [
       "<IPython.core.display.Image object>"
      ]
     },
     "metadata": {},
     "output_type": "display_data"
    }
   ],
   "source": [
    "gROOT->GetListOfCanvases()->Draw()"
   ]
  }
 ],
 "metadata": {
  "kernelspec": {
   "display_name": "ROOT C++",
   "language": "c++",
   "name": "root"
  },
  "language_info": {
   "codemirror_mode": "text/x-c++src",
   "file_extension": ".C",
   "mimetype": " text/x-c++src",
   "name": "c++"
  }
 },
 "nbformat": 4,
 "nbformat_minor": 2
}
