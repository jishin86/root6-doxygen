{
 "cells": [
  {
   "cell_type": "markdown",
   "metadata": {},
   "source": [
    "# Hksimple\n",
    "Illustrates the advantages of a TH1K histogram\n",
    "\n",
    "\n",
    "\n",
    "\n",
    "**Author:** Victor Perevovchikov  \n",
    "<i><small>This notebook tutorial was automatically generated with <a href= \"https://github.com/root-project/root/blob/master/documentation/doxygen/converttonotebook.py\">ROOTBOOK-izer</a> from the macro found in the ROOT repository  on Thursday, August 29, 2019 at 01:54 AM.</small></i>"
   ]
  },
  {
   "cell_type": "markdown",
   "metadata": {},
   "source": [
    " A helper function is created: "
   ]
  },
  {
   "cell_type": "code",
   "execution_count": 1,
   "metadata": {
    "collapsed": false
   },
   "outputs": [],
   "source": [
    "%%cpp -d\n",
    "void padRefresh(TPad *pad,int flag=0)\n",
    "{\n",
    "   if (!pad) return;\n",
    "   pad->Modified();\n",
    "   pad->Update();\n",
    "   TList *tl = pad->GetListOfPrimitives();\n",
    "   if (!tl) return;\n",
    "   TListIter next(tl);\n",
    "   TObject *to;\n",
    "   while ((to=next())) {\n",
    "     if (to->InheritsFrom(TPad::Class())) padRefresh((TPad*)to,1);}\n",
    "   if (flag) return;\n",
    "   gSystem->ProcessEvents();\n",
    "}"
   ]
  },
  {
   "cell_type": "markdown",
   "metadata": {},
   "source": [
    "Create a new canvas."
   ]
  },
  {
   "cell_type": "code",
   "execution_count": 2,
   "metadata": {
    "collapsed": false
   },
   "outputs": [],
   "source": [
    "TCanvas* c1 = new TCanvas(\"c1\",\"Dynamic Filling Example\",200,10,600,900);"
   ]
  },
  {
   "cell_type": "markdown",
   "metadata": {},
   "source": [
    "Create a normal histogram and two th1k histograms"
   ]
  },
  {
   "cell_type": "code",
   "execution_count": 3,
   "metadata": {
    "collapsed": false
   },
   "outputs": [],
   "source": [
    "TH1 *hpx[3];\n",
    "hpx[0]    = new TH1F(\"hp0\",\"Normal histogram\",1000,-4,4);\n",
    "hpx[1]    = new TH1K(\"hk1\",\"Nearest Neighbour of order 3\",1000,-4,4);\n",
    "hpx[2]    = new TH1K(\"hk2\",\"Nearest Neighbour of order 16\",1000,-4,4,16);\n",
    "c1->Divide(1,3);\n",
    "Int_t j;\n",
    "for (j=0;j<3;j++) {\n",
    "   c1->cd(j+1);\n",
    "   hpx[j]->SetFillColor(48);\n",
    "   hpx[j]->Draw();\n",
    "}"
   ]
  },
  {
   "cell_type": "markdown",
   "metadata": {},
   "source": [
    "Fill histograms randomly"
   ]
  },
  {
   "cell_type": "code",
   "execution_count": 4,
   "metadata": {
    "collapsed": false
   },
   "outputs": [
    {
     "name": "stdout",
     "output_type": "stream",
     "text": [
      " FCN=40.1833 FROM MIGRAD    STATUS=CONVERGED     147 CALLS         148 TOTAL\n",
      "                     EDM=3.42691e-09    STRATEGY= 1      ERROR MATRIX ACCURATE \n",
      "  EXT PARAMETER                                   STEP         FIRST   \n",
      "  NO.   NAME      VALUE            ERROR          SIZE      DERIVATIVE \n",
      "   1  Constant     1.23915e+00   9.97589e-02   2.40883e-04  -1.98952e-04\n",
      "   2  Mean         1.90114e-02   6.28226e-01   1.93515e-03   2.94208e-05\n",
      "   3  Sigma        3.15609e+00   1.57989e+00   8.49821e-04  -2.68419e-04\n",
      " FCN=611.108 FROM MIGRAD    STATUS=CONVERGED     124 CALLS         125 TOTAL\n",
      "                     EDM=1.50678e-07    STRATEGY= 1      ERROR MATRIX ACCURATE \n",
      "  EXT PARAMETER                                   STEP         FIRST   \n",
      "  NO.   NAME      VALUE            ERROR          SIZE      DERIVATIVE \n",
      "   1  Constant     4.30426e-01   2.66128e-02   1.33443e-04  -1.87827e-02\n",
      "   2  Mean        -2.11539e-01   1.55663e-02   1.87762e-04   3.15312e-02\n",
      "   3  Sigma        1.17550e+00   1.75562e-02   2.69310e-05  -6.04820e-02\n",
      " FCN=2585.5 FROM MIGRAD    STATUS=CONVERGED      99 CALLS         100 TOTAL\n",
      "                     EDM=8.12742e-08    STRATEGY= 1      ERROR MATRIX ACCURATE \n",
      "  EXT PARAMETER                                   STEP         FIRST   \n",
      "  NO.   NAME      VALUE            ERROR          SIZE      DERIVATIVE \n",
      "   1  Constant     5.42117e-01   1.25602e-02   1.16884e-04  -1.49660e-02\n",
      "   2  Mean        -4.37936e-02   6.86771e-03   1.69306e-04  -1.96744e-03\n",
      "   3  Sigma        1.32702e+00   9.96912e-03   2.50278e-05  -2.12772e-01\n"
     ]
    }
   ],
   "source": [
    "gRandom->SetSeed(12345);\n",
    "Float_t px, py, pz;\n",
    "const Int_t kUPDATE = 10;\n",
    "for (Int_t i = 0; i <= 300; i++) {\n",
    "   gRandom->Rannor(px,py);\n",
    "   for (j=0;j<3;j++) {hpx[j]->Fill(px);}\n",
    "   if (i && (i%kUPDATE) == 0) {\n",
    "         padRefresh(c1);\n",
    "   }\n",
    "}\n",
    "\n",
    "for (j=0;j<3;j++) hpx[j]->Fit(\"gaus\");\n",
    "padRefresh(c1);"
   ]
  },
  {
   "cell_type": "markdown",
   "metadata": {},
   "source": [
    "Draw all canvases "
   ]
  },
  {
   "cell_type": "code",
   "execution_count": 5,
   "metadata": {
    "collapsed": false
   },
   "outputs": [
    {
     "data": {
      "image/png": "[encoded data removed]",
      "text/plain": [
       "<IPython.core.display.Image object>"
      ]
     },
     "metadata": {},
     "output_type": "display_data"
    }
   ],
   "source": [
    "gROOT->GetListOfCanvases()->Draw()"
   ]
  }
 ],
 "metadata": {
  "kernelspec": {
   "display_name": "ROOT C++",
   "language": "c++",
   "name": "root"
  },
  "language_info": {
   "codemirror_mode": "text/x-c++src",
   "file_extension": ".C",
   "mimetype": " text/x-c++src",
   "name": "c++"
  }
 },
 "nbformat": 4,
 "nbformat_minor": 2
}
