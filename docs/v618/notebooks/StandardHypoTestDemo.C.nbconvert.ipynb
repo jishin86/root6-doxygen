{
 "cells": [
  {
   "cell_type": "markdown",
   "metadata": {},
   "source": [
    "#  Standard Hypo Test Demo\n",
    "Standard tutorial macro for hypothesis test (for computing the discovery significance) using all\n",
    "RooStats hypotheiss tests calculators and test statistics.\n",
    "\n",
    "Usage:\n",
    "\n",
    "```cpp\n",
    "root>.L StandardHypoTestDemo.C\n",
    "root> StandardHypoTestDemo(\"fileName\",\"workspace name\",\"S+B modelconfig name\",\"B model name\",\"data set\n",
    "name\",calculator type, test statistic type, number of toys)\n",
    "\n",
    " type = 0 Freq calculator\n",
    " type = 1 Hybrid calculator\n",
    " type = 2 Asymptotic calculator\n",
    " type = 3 Asymptotic calculator using nominal Asimov data sets (not using fitted parameter values but nominal ones)\n",
    "\n",
    "testStatType = 0 LEP\n",
    "             = 1 Tevatron\n",
    "             = 2 Profile Likelihood\n",
    "             = 3 Profile Likelihood one sided (i.e. = 0 if mu_hat < 0)\n",
    "```\n",
    "\n",
    "\n",
    "\n",
    "\n",
    "**Author:** Lorenzo Moneta  \n",
    "<i><small>This notebook tutorial was automatically generated with <a href= \"https://github.com/root-project/root/blob/master/documentation/doxygen/converttonotebook.py\">ROOTBOOK-izer</a> from the macro found in the ROOT repository  on Thursday, August 29, 2019 at 03:28 AM.</small></i>"
   ]
  },
  {
   "cell_type": "code",
   "execution_count": 1,
   "metadata": {
    "collapsed": false
   },
   "outputs": [],
   "source": [
    "%%cpp -d\n",
    "#include \"TFile.h\"\n",
    "#include \"RooWorkspace.h\"\n",
    "#include \"RooAbsPdf.h\"\n",
    "#include \"RooRealVar.h\"\n",
    "#include \"RooDataSet.h\"\n",
    "#include \"RooStats/ModelConfig.h\"\n",
    "#include \"RooRandom.h\"\n",
    "#include \"TGraphErrors.h\"\n",
    "#include \"TGraphAsymmErrors.h\"\n",
    "#include \"TCanvas.h\"\n",
    "#include \"TLine.h\"\n",
    "#include \"TSystem.h\"\n",
    "#include \"TROOT.h\"\n",
    "\n",
    "#include \"RooStats/AsymptoticCalculator.h\"\n",
    "#include \"RooStats/HybridCalculator.h\"\n",
    "#include \"RooStats/FrequentistCalculator.h\"\n",
    "#include \"RooStats/ToyMCSampler.h\"\n",
    "#include \"RooStats/HypoTestPlot.h\"\n",
    "\n",
    "#include \"RooStats/NumEventsTestStat.h\"\n",
    "#include \"RooStats/ProfileLikelihoodTestStat.h\"\n",
    "#include \"RooStats/SimpleLikelihoodRatioTestStat.h\"\n",
    "#include \"RooStats/RatioOfProfiledLikelihoodsTestStat.h\"\n",
    "#include \"RooStats/MaxLikelihoodEstimateTestStat.h\"\n",
    "\n",
    "#include \"RooStats/HypoTestInverter.h\"\n",
    "#include \"RooStats/HypoTestInverterResult.h\"\n",
    "#include \"RooStats/HypoTestInverterPlot.h\"\n",
    "\n",
    "#include <cassert>"
   ]
  },
  {
   "cell_type": "code",
   "execution_count": 2,
   "metadata": {
    "collapsed": false
   },
   "outputs": [],
   "source": [
    "%%cpp -d\n",
    "// This is a workaround to make sure the namespace is used inside functions\n",
    "using namespace RooFit;\n",
    "using namespace RooStats;"
   ]
  },
  {
   "cell_type": "code",
   "execution_count": 3,
   "metadata": {
    "collapsed": false
   },
   "outputs": [],
   "source": [
    "struct HypoTestOptions {\n",
    "\n",
    "   bool noSystematics = false; // force all systematics to be off (i.e. set all nuisance parameters as constat\n",
    "   double nToysRatio = 4;      // ratio Ntoys Null/ntoys ALT\n",
    "   double poiValue = -1;       // change poi snapshot value for S+B model (needed for expected p0 values)\n",
    "   int printLevel = 0;\n",
    "   bool generateBinned = false;       // for binned generation\n",
    "   bool useProof = false;             // use Proof\n",
    "   bool enableDetailedOutput = false; // for detailed output\n",
    "};\n",
    "\n",
    "HypoTestOptions optHT;"
   ]
  },
  {
   "cell_type": "markdown",
   "metadata": {},
   "source": [
    " Arguments are defined. "
   ]
  },
  {
   "cell_type": "code",
   "execution_count": 4,
   "metadata": {
    "collapsed": false
   },
   "outputs": [],
   "source": [
    "const char *infile = \"\";\n",
    "const char *workspaceName = \"combined\";\n",
    "const char *modelSBName = \"ModelConfig\";\n",
    "const char *modelBName = \"\";\n",
    "const char *dataName = \"obsData\";\n",
    "int calcType = 0;\n",
    "int testStatType = 3;\n",
    "int ntoys = 5000;\n",
    "bool useNC = false;\n",
    "const char *nuisPriorName = 0;"
   ]
  },
  {
   "cell_type": "code",
   "execution_count": 5,
   "metadata": {
    "collapsed": false
   },
   "outputs": [],
   "source": [
    "bool noSystematics = optHT.noSystematics;\n",
    "double nToysRatio = optHT.nToysRatio; // ratio Ntoys Null/ntoys ALT\n",
    "double poiValue = optHT.poiValue;     // change poi snapshot value for S+B model (needed for expected p0 values)\n",
    "int printLevel = optHT.printLevel;\n",
    "bool generateBinned = optHT.generateBinned; // for binned generation\n",
    "bool useProof = optHT.useProof;             // use Proof\n",
    "bool enableDetOutput = optHT.enableDetailedOutput;"
   ]
  },
  {
   "cell_type": "markdown",
   "metadata": {},
   "source": [
    "Other parameter to pass in tutorial\n",
    " apart from standard for filename, ws, modelconfig and data"
   ]
  },
  {
   "cell_type": "markdown",
   "metadata": {},
   "source": [
    "Type = 0 freq calculator\n",
    " type = 1 Hybrid calculator\n",
    " type = 2 Asymptotic calculator"
   ]
  },
  {
   "cell_type": "markdown",
   "metadata": {},
   "source": [
    "Teststattype = 0 lep\n",
    " = 1 Tevatron\n",
    " = 2 Profile Likelihood\n",
    " = 3 Profile Likelihood one sided (i.e. = 0 if mu < mu_hat)"
   ]
  },
  {
   "cell_type": "markdown",
   "metadata": {},
   "source": [
    "Ntoys:         number of toys to use"
   ]
  },
  {
   "cell_type": "markdown",
   "metadata": {},
   "source": [
    "Usenumbercounting:  set to true when using number counting events"
   ]
  },
  {
   "cell_type": "markdown",
   "metadata": {},
   "source": [
    "Nuispriorname:   name of prior for the nuisance. this is often expressed as constraint term in the global model\n",
    " It is needed only when using the HybridCalculator (type=1)\n",
    " If not given by default the prior pdf from ModelConfig is used."
   ]
  },
  {
   "cell_type": "markdown",
   "metadata": {},
   "source": [
    "Extra options are available as global parameters of the macro. they major ones are:"
   ]
  },
  {
   "cell_type": "markdown",
   "metadata": {},
   "source": [
    "Generatebinned       generate binned data sets for toys (default is false) - be careful not to activate with\n",
    " a too large (>=3) number of observables\n",
    " nToyRatio            ratio of S+B/B toys (default is 2)\n",
    " printLevel"
   ]
  },
  {
   "cell_type": "markdown",
   "metadata": {},
   "source": [
    "Disable - can cause some problems\n",
    " ToyMCSampler::SetAlwaysUseMultiGen(true);"
   ]
  },
  {
   "cell_type": "code",
   "execution_count": 6,
   "metadata": {
    "collapsed": false
   },
   "outputs": [
    {
     "name": "stdout",
     "output_type": "stream",
     "text": [
      "\n",
      "\u001b[1mRooFit v3.60 -- Developed by Wouter Verkerke and David Kirkby\u001b[0m \n",
      "                Copyright (C) 2000-2013 NIKHEF, University of California & Stanford University\n",
      "                All rights reserved, please read http://roofit.sourceforge.net/license.txt\n",
      "\n"
     ]
    }
   ],
   "source": [
    "SimpleLikelihoodRatioTestStat::SetAlwaysReuseNLL(true);\n",
    "ProfileLikelihoodTestStat::SetAlwaysReuseNLL(true);\n",
    "RatioOfProfiledLikelihoodsTestStat::SetAlwaysReuseNLL(true);"
   ]
  },
  {
   "cell_type": "markdown",
   "metadata": {},
   "source": [
    "Roorandom::randomgenerator()->setseed(0);"
   ]
  },
  {
   "cell_type": "markdown",
   "metadata": {},
   "source": [
    "To change minimizers\n",
    " ~~~{.bash}\n",
    " ROOT::Math::MinimizerOptions::SetDefaultStrategy(0);\n",
    " ROOT::Math::MinimizerOptions::SetDefaultMinimizer(\"Minuit2\");\n",
    " ROOT::Math::MinimizerOptions::SetDefaultTolerance(1);\n",
    " ~~~"
   ]
  },
  {
   "cell_type": "markdown",
   "metadata": {},
   "source": [
    "-------------------------------------------------------\n",
    " First part is just to access a user-defined file\n",
    " or create the standard example file if it doesn't exist"
   ]
  },
  {
   "cell_type": "code",
   "execution_count": 7,
   "metadata": {
    "collapsed": false
   },
   "outputs": [],
   "source": [
    "const char *filename = \"\";\n",
    "if (!strcmp(infile, \"\")) {\n",
    "   filename = \"results/example_combined_GaussExample_model.root\";\n",
    "   bool fileExist = !gSystem->AccessPathName(filename); // note opposite return code\n",
    "   // if file does not exists generate with histfactory\n",
    "   if (!fileExist) {\n",
    "#ifdef _WIN32\n",
    "      cout << \"HistFactory file cannot be generated on Windows - exit\" << endl;\n",
    "      return;\n",
    "#endif\n",
    "      // Normally this would be run on the command line\n",
    "      cout << \"will run standard hist2workspace example\" << endl;\n",
    "      gROOT->ProcessLine(\".! prepareHistFactory .\");\n",
    "      gROOT->ProcessLine(\".! hist2workspace config/example.xml\");\n",
    "      cout << \"\\n\\n---------------------\" << endl;\n",
    "      cout << \"Done creating example input\" << endl;\n",
    "      cout << \"---------------------\\n\\n\" << endl;\n",
    "   }\n",
    "\n",
    "} else\n",
    "   filename = infile;"
   ]
  },
  {
   "cell_type": "markdown",
   "metadata": {},
   "source": [
    "Try to open the file"
   ]
  },
  {
   "cell_type": "code",
   "execution_count": 8,
   "metadata": {
    "collapsed": false
   },
   "outputs": [],
   "source": [
    "TFile *file = TFile::Open(filename);"
   ]
  },
  {
   "cell_type": "markdown",
   "metadata": {},
   "source": [
    "If input file was specified byt not found, quit"
   ]
  },
  {
   "cell_type": "code",
   "execution_count": 9,
   "metadata": {
    "collapsed": false
   },
   "outputs": [],
   "source": [
    "if (!file) {\n",
    "   cout << \"StandardRooStatsDemoMacro: Input file \" << filename << \" is not found\" << endl;\n",
    "   return;\n",
    "}"
   ]
  },
  {
   "cell_type": "markdown",
   "metadata": {},
   "source": [
    "-------------------------------------------------------\n",
    " Tutorial starts here\n",
    " -------------------------------------------------------"
   ]
  },
  {
   "cell_type": "markdown",
   "metadata": {},
   "source": [
    "Get the workspace out of the file"
   ]
  },
  {
   "cell_type": "code",
   "execution_count": 10,
   "metadata": {
    "collapsed": false
   },
   "outputs": [
    {
     "name": "stdout",
     "output_type": "stream",
     "text": [
      "\n",
      "RooWorkspace(combined) combined contents\n",
      "\n",
      "variables\n",
      "---------\n",
      "(Lumi,SigXsecOverSM,alpha_syst1,alpha_syst2,alpha_syst3,binWidth_obs_x_channel1_0,binWidth_obs_x_channel1_1,binWidth_obs_x_channel1_2,channelCat,gamma_stat_channel1_bin_0,gamma_stat_channel1_bin_1,nom_alpha_syst1,nom_alpha_syst2,nom_alpha_syst3,nom_gamma_stat_channel1_bin_0,nom_gamma_stat_channel1_bin_1,nominalLumi,obs_x_channel1,weightVar)\n",
      "\n",
      "p.d.f.s\n",
      "-------\n",
      "RooGaussian::alpha_syst1Constraint[ x=alpha_syst1 mean=nom_alpha_syst1 sigma=1 ] = 1\n",
      "RooGaussian::alpha_syst2Constraint[ x=alpha_syst2 mean=nom_alpha_syst2 sigma=1 ] = 1\n",
      "RooGaussian::alpha_syst3Constraint[ x=alpha_syst3 mean=nom_alpha_syst3 sigma=1 ] = 1\n",
      "RooRealSumPdf::channel1_model[ binWidth_obs_x_channel1_0 * L_x_signal_channel1_overallSyst_x_Exp + binWidth_obs_x_channel1_1 * L_x_background1_channel1_overallSyst_x_StatUncert + binWidth_obs_x_channel1_2 * L_x_background2_channel1_overallSyst_x_StatUncert ] = 220\n",
      "RooPoisson::gamma_stat_channel1_bin_0_constraint[ x=nom_gamma_stat_channel1_bin_0 mean=gamma_stat_channel1_bin_0_poisMean ] = 0.019943\n",
      "RooPoisson::gamma_stat_channel1_bin_1_constraint[ x=nom_gamma_stat_channel1_bin_1 mean=gamma_stat_channel1_bin_1_poisMean ] = 0.039861\n",
      "RooGaussian::lumiConstraint[ x=Lumi mean=nominalLumi sigma=0.1 ] = 1\n",
      "RooProdPdf::model_channel1[ lumiConstraint * alpha_syst1Constraint * alpha_syst2Constraint * alpha_syst3Constraint * gamma_stat_channel1_bin_0_constraint * gamma_stat_channel1_bin_1_constraint * channel1_model(obs_x_channel1) ] = 0.174888\n",
      "RooSimultaneous::simPdf[ indexCat=channelCat channel1=model_channel1 ] = 0.174888\n",
      "\n",
      "functions\n",
      "--------\n",
      "RooProduct::L_x_background1_channel1_overallSyst_x_StatUncert[ Lumi * background1_channel1_overallSyst_x_StatUncert ] = 0\n",
      "RooProduct::L_x_background2_channel1_overallSyst_x_StatUncert[ Lumi * background2_channel1_overallSyst_x_StatUncert ] = 100\n",
      "RooProduct::L_x_signal_channel1_overallSyst_x_Exp[ Lumi * signal_channel1_overallSyst_x_Exp ] = 10\n",
      "RooStats::HistFactory::FlexibleInterpVar::background1_channel1_epsilon[ paramList=(alpha_syst2) ] = 1\n",
      "RooHistFunc::background1_channel1_nominal[ depList=(obs_x_channel1) depList=(obs_x_channel1) ] = 0\n",
      "RooProduct::background1_channel1_overallSyst_x_Exp[ background1_channel1_nominal * background1_channel1_epsilon ] = 0\n",
      "RooProduct::background1_channel1_overallSyst_x_StatUncert[ mc_stat_channel1 * background1_channel1_overallSyst_x_Exp ] = 0\n",
      "RooStats::HistFactory::FlexibleInterpVar::background2_channel1_epsilon[ paramList=(alpha_syst3) ] = 1\n",
      "RooHistFunc::background2_channel1_nominal[ depList=(obs_x_channel1) depList=(obs_x_channel1) ] = 100\n",
      "RooProduct::background2_channel1_overallSyst_x_Exp[ background2_channel1_nominal * background2_channel1_epsilon ] = 100\n",
      "RooProduct::background2_channel1_overallSyst_x_StatUncert[ mc_stat_channel1 * background2_channel1_overallSyst_x_Exp ] = 100\n",
      "RooProduct::gamma_stat_channel1_bin_0_poisMean[ gamma_stat_channel1_bin_0 * gamma_stat_channel1_bin_0_tau ] = 400\n",
      "RooProduct::gamma_stat_channel1_bin_1_poisMean[ gamma_stat_channel1_bin_1 * gamma_stat_channel1_bin_1_tau ] = 100\n",
      "ParamHistFunc::mc_stat_channel1[ ] = 1\n",
      "RooStats::HistFactory::FlexibleInterpVar::signal_channel1_epsilon[ paramList=(alpha_syst1) ] = 1\n",
      "RooHistFunc::signal_channel1_nominal[ depList=(obs_x_channel1) depList=(obs_x_channel1) ] = 10\n",
      "RooProduct::signal_channel1_overallNorm_x_sigma_epsilon[ SigXsecOverSM * signal_channel1_epsilon ] = 1\n",
      "RooProduct::signal_channel1_overallSyst_x_Exp[ signal_channel1_nominal * signal_channel1_overallNorm_x_sigma_epsilon ] = 10\n",
      "\n",
      "datasets\n",
      "--------\n",
      "RooDataSet::asimovData(obs_x_channel1,weightVar,channelCat)\n",
      "RooDataSet::obsData(channelCat,obs_x_channel1)\n",
      "\n",
      "embedded datasets (in pdfs and functions)\n",
      "-----------------------------------------\n",
      "RooDataHist::signal_channel1nominalDHist(obs_x_channel1)\n",
      "RooDataHist::background1_channel1nominalDHist(obs_x_channel1)\n",
      "RooDataHist::background2_channel1nominalDHist(obs_x_channel1)\n",
      "\n",
      "parameter snapshots\n",
      "-------------------\n",
      "NominalParamValues = (nom_alpha_syst2=0[C],nom_alpha_syst3=0[C],nom_gamma_stat_channel1_bin_0=400[C],nom_gamma_stat_channel1_bin_1=100[C],weightVar=0,obs_x_channel1=1.75,Lumi=1[C],nominalLumi=1[C],alpha_syst1=0[C],nom_alpha_syst1=0[C],alpha_syst2=0,alpha_syst3=0,gamma_stat_channel1_bin_0=1,gamma_stat_channel1_bin_1=1,SigXsecOverSM=1,binWidth_obs_x_channel1_0=2[C],binWidth_obs_x_channel1_1=2[C],binWidth_obs_x_channel1_2=2[C])\n",
      "\n",
      "named sets\n",
      "----------\n",
      "ModelConfig_GlobalObservables:(nom_alpha_syst2,nom_alpha_syst3,nom_gamma_stat_channel1_bin_0,nom_gamma_stat_channel1_bin_1)\n",
      "ModelConfig_NuisParams:(alpha_syst2,alpha_syst3,gamma_stat_channel1_bin_0,gamma_stat_channel1_bin_1)\n",
      "ModelConfig_Observables:(obs_x_channel1,weightVar,channelCat)\n",
      "ModelConfig_POI:(SigXsecOverSM)\n",
      "globalObservables:(nom_alpha_syst2,nom_alpha_syst3,nom_gamma_stat_channel1_bin_0,nom_gamma_stat_channel1_bin_1)\n",
      "observables:(obs_x_channel1,weightVar,channelCat)\n",
      "\n",
      "generic objects\n",
      "---------------\n",
      "RooStats::ModelConfig::ModelConfig\n",
      "\n"
     ]
    }
   ],
   "source": [
    "RooWorkspace *w = (RooWorkspace *)file->Get(workspaceName);\n",
    "if (!w) {\n",
    "   cout << \"workspace not found\" << endl;\n",
    "   return;\n",
    "}\n",
    "w->Print();"
   ]
  },
  {
   "cell_type": "markdown",
   "metadata": {},
   "source": [
    "Get the modelconfig out of the file"
   ]
  },
  {
   "cell_type": "code",
   "execution_count": 11,
   "metadata": {
    "collapsed": false
   },
   "outputs": [],
   "source": [
    "ModelConfig *sbModel = (ModelConfig *)w->obj(modelSBName);"
   ]
  },
  {
   "cell_type": "markdown",
   "metadata": {},
   "source": [
    "Get the modelconfig out of the file"
   ]
  },
  {
   "cell_type": "code",
   "execution_count": 12,
   "metadata": {
    "collapsed": false
   },
   "outputs": [],
   "source": [
    "RooAbsData *data = w->data(dataName);"
   ]
  },
  {
   "cell_type": "markdown",
   "metadata": {},
   "source": [
    "Make sure ingredients are found"
   ]
  },
  {
   "cell_type": "code",
   "execution_count": 13,
   "metadata": {
    "collapsed": false
   },
   "outputs": [],
   "source": [
    "if (!data || !sbModel) {\n",
    "   w->Print();\n",
    "   cout << \"data or ModelConfig was not found\" << endl;\n",
    "   return;\n",
    "}"
   ]
  },
  {
   "cell_type": "markdown",
   "metadata": {},
   "source": [
    "Make b model"
   ]
  },
  {
   "cell_type": "code",
   "execution_count": 14,
   "metadata": {
    "collapsed": false
   },
   "outputs": [],
   "source": [
    "ModelConfig *bModel = (ModelConfig *)w->obj(modelBName);"
   ]
  },
  {
   "cell_type": "markdown",
   "metadata": {},
   "source": [
    "Case of no systematics\n",
    " remove nuisance parameters from model"
   ]
  },
  {
   "cell_type": "code",
   "execution_count": 15,
   "metadata": {
    "collapsed": false
   },
   "outputs": [
    {
     "name": "stderr",
     "output_type": "stream",
     "text": [
      "Info in <StandardHypoTestInvDemo>: The background model  does not exist\n",
      "Info in <StandardHypoTestInvDemo>: Copy it from ModelConfig ModelConfig and set POI to zero\n",
      "Info in <StandardHypoTestDemo>: Model ModelConfig has no snapshot  - make one using model poi\n"
     ]
    }
   ],
   "source": [
    "if (noSystematics) {\n",
    "   const RooArgSet *nuisPar = sbModel->GetNuisanceParameters();\n",
    "   if (nuisPar && nuisPar->getSize() > 0) {\n",
    "      std::cout << \"StandardHypoTestInvDemo\"\n",
    "                << \"  -  Switch off all systematics by setting them constant to their initial values\" << std::endl;\n",
    "      RooStats::SetAllConstant(*nuisPar);\n",
    "   }\n",
    "   if (bModel) {\n",
    "      const RooArgSet *bnuisPar = bModel->GetNuisanceParameters();\n",
    "      if (bnuisPar)\n",
    "         RooStats::SetAllConstant(*bnuisPar);\n",
    "   }\n",
    "}\n",
    "\n",
    "if (!bModel) {\n",
    "   Info(\"StandardHypoTestInvDemo\", \"The background model %s does not exist\", modelBName);\n",
    "   Info(\"StandardHypoTestInvDemo\", \"Copy it from ModelConfig %s and set POI to zero\", modelSBName);\n",
    "   bModel = (ModelConfig *)sbModel->Clone();\n",
    "   bModel->SetName(TString(modelSBName) + TString(\"B_only\"));\n",
    "   RooRealVar *var = dynamic_cast<RooRealVar *>(bModel->GetParametersOfInterest()->first());\n",
    "   if (!var)\n",
    "      return;\n",
    "   double oldval = var->getVal();\n",
    "   var->setVal(0);\n",
    "   // bModel->SetSnapshot( RooArgSet(*var, *w->var(\"lumi\"))  );\n",
    "   bModel->SetSnapshot(RooArgSet(*var));\n",
    "   var->setVal(oldval);\n",
    "}\n",
    "\n",
    "if (!sbModel->GetSnapshot() || poiValue > 0) {\n",
    "   Info(\"StandardHypoTestDemo\", \"Model %s has no snapshot  - make one using model poi\", modelSBName);\n",
    "   RooRealVar *var = dynamic_cast<RooRealVar *>(sbModel->GetParametersOfInterest()->first());\n",
    "   if (!var)\n",
    "      return;\n",
    "   double oldval = var->getVal();\n",
    "   if (poiValue > 0)\n",
    "      var->setVal(poiValue);\n",
    "   // sbModel->SetSnapshot( RooArgSet(*var, *w->var(\"lumi\") ) );\n",
    "   sbModel->SetSnapshot(RooArgSet(*var));\n",
    "   if (poiValue > 0)\n",
    "      var->setVal(oldval);\n",
    "   // sbModel->SetSnapshot( *sbModel->GetParametersOfInterest() );\n",
    "}"
   ]
  },
  {
   "cell_type": "markdown",
   "metadata": {},
   "source": [
    "Part 1, hypothesis testing"
   ]
  },
  {
   "cell_type": "code",
   "execution_count": 16,
   "metadata": {
    "collapsed": false
   },
   "outputs": [],
   "source": [
    "SimpleLikelihoodRatioTestStat *slrts = new SimpleLikelihoodRatioTestStat(*bModel->GetPdf(), *sbModel->GetPdf());"
   ]
  },
  {
   "cell_type": "markdown",
   "metadata": {},
   "source": [
    "Null parameters must includes snapshot of poi plus the nuisance values"
   ]
  },
  {
   "cell_type": "code",
   "execution_count": 17,
   "metadata": {
    "collapsed": false
   },
   "outputs": [],
   "source": [
    "RooArgSet nullParams(*bModel->GetSnapshot());\n",
    "if (bModel->GetNuisanceParameters())\n",
    "   nullParams.add(*bModel->GetNuisanceParameters());\n",
    "\n",
    "slrts->SetNullParameters(nullParams);\n",
    "RooArgSet altParams(*sbModel->GetSnapshot());\n",
    "if (sbModel->GetNuisanceParameters())\n",
    "   altParams.add(*sbModel->GetNuisanceParameters());\n",
    "slrts->SetAltParameters(altParams);\n",
    "\n",
    "ProfileLikelihoodTestStat *profll = new ProfileLikelihoodTestStat(*bModel->GetPdf());\n",
    "\n",
    "RatioOfProfiledLikelihoodsTestStat *ropl =\n",
    "   new RatioOfProfiledLikelihoodsTestStat(*bModel->GetPdf(), *sbModel->GetPdf(), sbModel->GetSnapshot());\n",
    "ropl->SetSubtractMLE(false);\n",
    "\n",
    "if (testStatType == 3)\n",
    "   profll->SetOneSidedDiscovery(1);\n",
    "profll->SetPrintLevel(printLevel);\n",
    "\n",
    "if (enableDetOutput) {\n",
    "   slrts->EnableDetailedOutput();\n",
    "   profll->EnableDetailedOutput();\n",
    "   ropl->EnableDetailedOutput();\n",
    "}\n",
    "\n",
    "/* profll.SetReuseNLL(mOptimize);*/\n",
    "/* slrts.SetReuseNLL(mOptimize);*/\n",
    "/* ropl.SetReuseNLL(mOptimize);*/\n",
    "\n",
    "AsymptoticCalculator::SetPrintLevel(printLevel);\n",
    "\n",
    "HypoTestCalculatorGeneric *hypoCalc = 0;"
   ]
  },
  {
   "cell_type": "markdown",
   "metadata": {},
   "source": [
    "Note here null is b and alt is s+b"
   ]
  },
  {
   "cell_type": "code",
   "execution_count": 18,
   "metadata": {
    "collapsed": false
   },
   "outputs": [],
   "source": [
    "if (calcType == 0)\n",
    "   hypoCalc = new FrequentistCalculator(*data, *sbModel, *bModel);\n",
    "else if (calcType == 1)\n",
    "   hypoCalc = new HybridCalculator(*data, *sbModel, *bModel);\n",
    "else if (calcType == 2)\n",
    "   hypoCalc = new AsymptoticCalculator(*data, *sbModel, *bModel);\n",
    "\n",
    "if (calcType == 0) {\n",
    "   ((FrequentistCalculator *)hypoCalc)->SetToys(ntoys, ntoys / nToysRatio);\n",
    "   if (enableDetOutput)\n",
    "      ((FrequentistCalculator *)hypoCalc)->StoreFitInfo(true);\n",
    "}\n",
    "if (calcType == 1) {\n",
    "   ((HybridCalculator *)hypoCalc)->SetToys(ntoys, ntoys / nToysRatio);\n",
    "   // n. a. yetif (enableDetOutput) ((HybridCalculator*) hypoCalc)->StoreFitInfo(true);\n",
    "}\n",
    "if (calcType == 2) {\n",
    "   if (testStatType == 3)\n",
    "      ((AsymptoticCalculator *)hypoCalc)->SetOneSidedDiscovery(true);\n",
    "   if (testStatType != 2 && testStatType != 3)\n",
    "      Warning(\"StandardHypoTestDemo\",\n",
    "              \"Only the PL test statistic can be used with AsymptoticCalculator - use by default a two-sided PL\");\n",
    "}"
   ]
  },
  {
   "cell_type": "markdown",
   "metadata": {},
   "source": [
    "Check for nuisance prior pdf in case of nuisance parameters"
   ]
  },
  {
   "cell_type": "code",
   "execution_count": 19,
   "metadata": {
    "collapsed": false
   },
   "outputs": [
    {
     "name": "stdout",
     "output_type": "stream",
     "text": [
      "\n",
      "=== Using the following for ModelConfigB_only ===\n",
      "Observables:             RooArgSet:: = (obs_x_channel1,weightVar,channelCat)\n",
      "Parameters of Interest:  RooArgSet:: = (SigXsecOverSM)\n",
      "Nuisance Parameters:     RooArgSet:: = (alpha_syst2,alpha_syst3,gamma_stat_channel1_bin_0,gamma_stat_channel1_bin_1)\n",
      "Global Observables:      RooArgSet:: = (nom_alpha_syst2,nom_alpha_syst3,nom_gamma_stat_channel1_bin_0,nom_gamma_stat_channel1_bin_1)\n",
      "PDF:                     RooSimultaneous::simPdf[ indexCat=channelCat channel1=model_channel1 ] = 0.174888\n",
      "Snapshot:                \n",
      "  1) 0x7f332d2361e0 RooRealVar:: SigXsecOverSM = 0  L(0 - 3)  \"SigXsecOverSM\"\n",
      "\n",
      "\n",
      "=== Using the following for ModelConfig ===\n",
      "Observables:             RooArgSet:: = (obs_x_channel1,weightVar,channelCat)\n",
      "Parameters of Interest:  RooArgSet:: = (SigXsecOverSM)\n",
      "Nuisance Parameters:     RooArgSet:: = (alpha_syst2,alpha_syst3,gamma_stat_channel1_bin_0,gamma_stat_channel1_bin_1)\n",
      "Global Observables:      RooArgSet:: = (nom_alpha_syst2,nom_alpha_syst3,nom_gamma_stat_channel1_bin_0,nom_gamma_stat_channel1_bin_1)\n",
      "PDF:                     RooSimultaneous::simPdf[ indexCat=channelCat channel1=model_channel1 ] = 0.174888\n",
      "Snapshot:                \n",
      "  1) 0x7f332ce83f80 RooRealVar:: SigXsecOverSM = 1  L(0 - 3)  \"SigXsecOverSM\"\n",
      "\n",
      "[#0] PROGRESS:Generation -- Test Statistic on data: 1.77404\n",
      "[#1] INFO:InputArguments -- Profiling conditional MLEs for Null.\n",
      "[#1] INFO:InputArguments -- Using a ToyMCSampler. Now configuring for Null.\n"
     ]
    },
    {
     "name": "stderr",
     "output_type": "stream",
     "text": [
      "Info in <StandardHypoTestDemo>: Data set is weighted, nentries = 2 and sum of weights =    234.0 but toy generation is unbinned - it would be faster to set generateBinned to true\n",
      "\n"
     ]
    },
    {
     "name": "stdout",
     "output_type": "stream",
     "text": [
      "[#0] PROGRESS:Generation -- generated toys: 500 / 5000\n",
      "[#0] PROGRESS:Generation -- generated toys: 1000 / 5000\n",
      "[#0] PROGRESS:Generation -- generated toys: 1500 / 5000\n",
      "[#0] PROGRESS:Generation -- generated toys: 2000 / 5000\n",
      "[#0] PROGRESS:Generation -- generated toys: 2500 / 5000\n",
      "[#0] PROGRESS:Generation -- generated toys: 3000 / 5000\n",
      "[#0] PROGRESS:Generation -- generated toys: 3500 / 5000\n",
      "[#0] PROGRESS:Generation -- generated toys: 4000 / 5000\n",
      "[#0] PROGRESS:Generation -- generated toys: 4500 / 5000\n",
      "[#1] INFO:InputArguments -- Profiling conditional MLEs for Alt.\n",
      "[#1] INFO:InputArguments -- Using a ToyMCSampler. Now configuring for Alt.\n",
      "[#0] PROGRESS:Generation -- generated toys: 500 / 1250\n",
      "[#0] PROGRESS:Generation -- generated toys: 1000 / 1250\n",
      "\n",
      "Results HypoTestCalculator_result: \n",
      " - Null p-value = 0.0304 +/- 0.002428\n",
      " - Significance = 1.87495 +/- 0.0352942 sigma\n",
      " - Number of Alt toys: 1250\n",
      " - Number of Null toys: 5000\n",
      " - Test statistic evaluated on data: 1.77404\n",
      " - CL_b: 0.0304 +/- 0.002428\n",
      " - CL_s+b: 0.4328 +/- 0.0140138\n",
      " - CL_s: 14.2368 +/- 1.22696\n"
     ]
    },
    {
     "name": "stderr",
     "output_type": "stream",
     "text": [
      "Info in <TCanvas::MakeDefCanvas>:  created default TCanvas with name c1\n"
     ]
    }
   ],
   "source": [
    "if (calcType == 1 && (bModel->GetNuisanceParameters() || sbModel->GetNuisanceParameters())) {\n",
    "   RooAbsPdf *nuisPdf = 0;\n",
    "   if (nuisPriorName)\n",
    "      nuisPdf = w->pdf(nuisPriorName);\n",
    "   // use prior defined first in bModel (then in SbModel)\n",
    "   if (!nuisPdf) {\n",
    "      Info(\"StandardHypoTestDemo\",\n",
    "           \"No nuisance pdf given for the HybridCalculator - try to deduce  pdf from the   model\");\n",
    "      if (bModel->GetPdf() && bModel->GetObservables())\n",
    "         nuisPdf = RooStats::MakeNuisancePdf(*bModel, \"nuisancePdf_bmodel\");\n",
    "      else\n",
    "         nuisPdf = RooStats::MakeNuisancePdf(*sbModel, \"nuisancePdf_sbmodel\");\n",
    "   }\n",
    "   if (!nuisPdf) {\n",
    "      if (bModel->GetPriorPdf()) {\n",
    "         nuisPdf = bModel->GetPriorPdf();\n",
    "         Info(\"StandardHypoTestDemo\",\n",
    "              \"No nuisance pdf given - try to use %s that is defined as a prior pdf in the B model\",\n",
    "              nuisPdf->GetName());\n",
    "      } else {\n",
    "         Error(\"StandardHypoTestDemo\", \"Cannot run Hybrid calculator because no prior on the nuisance parameter is \"\n",
    "                                       \"specified or can be derived\");\n",
    "         return;\n",
    "      }\n",
    "   }\n",
    "   assert(nuisPdf);\n",
    "   Info(\"StandardHypoTestDemo\", \"Using as nuisance Pdf ... \");\n",
    "   nuisPdf->Print();\n",
    "\n",
    "   const RooArgSet *nuisParams =\n",
    "      (bModel->GetNuisanceParameters()) ? bModel->GetNuisanceParameters() : sbModel->GetNuisanceParameters();\n",
    "   RooArgSet *np = nuisPdf->getObservables(*nuisParams);\n",
    "   if (np->getSize() == 0) {\n",
    "      Warning(\"StandardHypoTestDemo\",\n",
    "              \"Prior nuisance does not depend on nuisance parameters. They will be smeared in their full range\");\n",
    "   }\n",
    "   delete np;\n",
    "\n",
    "   ((HybridCalculator *)hypoCalc)->ForcePriorNuisanceAlt(*nuisPdf);\n",
    "   ((HybridCalculator *)hypoCalc)->ForcePriorNuisanceNull(*nuisPdf);\n",
    "}\n",
    "\n",
    "/* hypoCalc->ForcePriorNuisanceAlt(*sbModel->GetPriorPdf());*/\n",
    "/* hypoCalc->ForcePriorNuisanceNull(*bModel->GetPriorPdf());*/\n",
    "\n",
    "ToyMCSampler *sampler = (ToyMCSampler *)hypoCalc->GetTestStatSampler();\n",
    "\n",
    "if (sampler && (calcType == 0 || calcType == 1)) {\n",
    "\n",
    "   // look if pdf is number counting or extended\n",
    "   if (sbModel->GetPdf()->canBeExtended()) {\n",
    "      if (useNC)\n",
    "         Warning(\"StandardHypoTestDemo\", \"Pdf is extended: but number counting flag is set: ignore it \");\n",
    "   } else {\n",
    "      // for not extended pdf\n",
    "      if (!useNC) {\n",
    "         int nEvents = data->numEntries();\n",
    "         Info(\"StandardHypoTestDemo\",\n",
    "              \"Pdf is not extended: number of events to generate taken  from observed data set is %d\", nEvents);\n",
    "         sampler->SetNEventsPerToy(nEvents);\n",
    "      } else {\n",
    "         Info(\"StandardHypoTestDemo\", \"using a number counting pdf\");\n",
    "         sampler->SetNEventsPerToy(1);\n",
    "      }\n",
    "   }\n",
    "\n",
    "   if (data->isWeighted() && !generateBinned) {\n",
    "      Info(\"StandardHypoTestDemo\", \"Data set is weighted, nentries = %d and sum of weights = %8.1f but toy \"\n",
    "                                   \"generation is unbinned - it would be faster to set generateBinned to true\\n\",\n",
    "           data->numEntries(), data->sumEntries());\n",
    "   }\n",
    "   if (generateBinned)\n",
    "      sampler->SetGenerateBinned(generateBinned);\n",
    "\n",
    "   // use PROOF\n",
    "   if (useProof) {\n",
    "      ProofConfig pc(*w, 0, \"\", kFALSE);\n",
    "      sampler->SetProofConfig(&pc); // enable proof\n",
    "   }\n",
    "\n",
    "   // set the test statistic\n",
    "   if (testStatType == 0)\n",
    "      sampler->SetTestStatistic(slrts);\n",
    "   if (testStatType == 1)\n",
    "      sampler->SetTestStatistic(ropl);\n",
    "   if (testStatType == 2 || testStatType == 3)\n",
    "      sampler->SetTestStatistic(profll);\n",
    "}\n",
    "\n",
    "HypoTestResult *htr = hypoCalc->GetHypoTest();\n",
    "htr->SetPValueIsRightTail(true);\n",
    "htr->SetBackgroundAsAlt(false);\n",
    "htr->Print(); // how to get meaningful CLs at this point?\n",
    "\n",
    "delete sampler;\n",
    "delete slrts;\n",
    "delete ropl;\n",
    "delete profll;\n",
    "\n",
    "if (calcType != 2) {\n",
    "   HypoTestPlot *plot = new HypoTestPlot(*htr, 100);\n",
    "   plot->SetLogYaxis(true);\n",
    "   plot->Draw();\n",
    "} else {\n",
    "   std::cout << \"Asymptotic results \" << std::endl;\n",
    "}"
   ]
  },
  {
   "cell_type": "markdown",
   "metadata": {},
   "source": [
    "Look at expected significances\n",
    " found median of S+B distribution"
   ]
  },
  {
   "cell_type": "code",
   "execution_count": 20,
   "metadata": {
    "collapsed": false
   },
   "outputs": [
    {
     "name": "stdout",
     "output_type": "stream",
     "text": [
      " Expected p -value and significance at -2 sigma = 0.839 significance -0.990356 sigma \n",
      " Expected p -value and significance at -1 sigma = 0.2238 significance 0.759422 sigma \n",
      " Expected p -value and significance at 0 sigma = 0.0434 significance 1.71252 sigma \n",
      " Expected p -value and significance at 1 sigma = 0.0028 significance 2.77033 sigma \n",
      " Expected p -value and significance at 2 sigma = 0.0002 significance 3.54008 sigma \n"
     ]
    }
   ],
   "source": [
    "if (calcType != 2) {\n",
    "\n",
    "   SamplingDistribution *altDist = htr->GetAltDistribution();\n",
    "   HypoTestResult htExp(\"Expected Result\");\n",
    "   htExp.Append(htr);\n",
    "   // find quantiles in alt (S+B) distribution\n",
    "   double p[5];\n",
    "   double q[5];\n",
    "   for (int i = 0; i < 5; ++i) {\n",
    "      double sig = -2 + i;\n",
    "      p[i] = ROOT::Math::normal_cdf(sig, 1);\n",
    "   }\n",
    "   std::vector<double> values = altDist->GetSamplingDistribution();\n",
    "   TMath::Quantiles(values.size(), 5, &values[0], q, p, false);\n",
    "\n",
    "   for (int i = 0; i < 5; ++i) {\n",
    "      htExp.SetTestStatisticData(q[i]);\n",
    "      double sig = -2 + i;\n",
    "      std::cout << \" Expected p -value and significance at \" << sig << \" sigma = \" << htExp.NullPValue()\n",
    "                << \" significance \" << htExp.Significance() << \" sigma \" << std::endl;\n",
    "   }\n",
    "} else {\n",
    "   // case of asymptotic calculator\n",
    "   for (int i = 0; i < 5; ++i) {\n",
    "      double sig = -2 + i;\n",
    "      // sigma is inverted here\n",
    "      double pval = AsymptoticCalculator::GetExpectedPValues(htr->NullPValue(), htr->AlternatePValue(), -sig, false);\n",
    "      std::cout << \" Expected p -value and significance at \" << sig << \" sigma = \" << pval << \" significance \"\n",
    "                << ROOT::Math::normal_quantile_c(pval, 1) << \" sigma \" << std::endl;\n",
    "   }\n",
    "}"
   ]
  },
  {
   "cell_type": "markdown",
   "metadata": {},
   "source": [
    "Write result in a file in case of toys"
   ]
  },
  {
   "cell_type": "code",
   "execution_count": 21,
   "metadata": {
    "collapsed": false
   },
   "outputs": [
    {
     "name": "stderr",
     "output_type": "stream",
     "text": [
      "Info in <StandardHypoTestDemo>: HypoTestResult has been written in the file Freq_HypoTest_ts3_\n"
     ]
    }
   ],
   "source": [
    "bool writeResult = (calcType != 2);\n",
    "\n",
    "if (enableDetOutput) {\n",
    "   writeResult = true;\n",
    "   Info(\"StandardHypoTestDemo\", \"Detailed output will be written in output result file\");\n",
    "}\n",
    "\n",
    "if (htr != NULL && writeResult) {\n",
    "\n",
    "   // write to a file the results\n",
    "   const char *calcTypeName = (calcType == 0) ? \"Freq\" : (calcType == 1) ? \"Hybr\" : \"Asym\";\n",
    "   TString resultFileName = TString::Format(\"%s_HypoTest_ts%d_\", calcTypeName, testStatType);\n",
    "   // strip the / from the filename\n",
    "\n",
    "   TString name = infile;\n",
    "   name.Replace(0, name.Last('/') + 1, \"\");\n",
    "   resultFileName += name;\n",
    "\n",
    "   TFile *fileOut = new TFile(resultFileName, \"RECREATE\");\n",
    "   htr->Write();\n",
    "   Info(\"StandardHypoTestDemo\", \"HypoTestResult has been written in the file %s\", resultFileName.Data());\n",
    "\n",
    "   fileOut->Close();\n",
    "}"
   ]
  },
  {
   "cell_type": "markdown",
   "metadata": {},
   "source": [
    "Draw all canvases "
   ]
  },
  {
   "cell_type": "code",
   "execution_count": 22,
   "metadata": {
    "collapsed": false
   },
   "outputs": [
    {
     "data": {
      "image/png": "[encoded data removed]",
      "text/plain": [
       "<IPython.core.display.Image object>"
      ]
     },
     "metadata": {},
     "output_type": "display_data"
    }
   ],
   "source": [
    "gROOT->GetListOfCanvases()->Draw()"
   ]
  }
 ],
 "metadata": {
  "kernelspec": {
   "display_name": "ROOT C++",
   "language": "c++",
   "name": "root"
  },
  "language_info": {
   "codemirror_mode": "text/x-c++src",
   "file_extension": ".C",
   "mimetype": " text/x-c++src",
   "name": "c++"
  }
 },
 "nbformat": 4,
 "nbformat_minor": 2
}
