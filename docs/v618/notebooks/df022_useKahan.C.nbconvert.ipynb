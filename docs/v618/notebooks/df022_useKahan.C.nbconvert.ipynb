{
 "cells": [
  {
   "cell_type": "markdown",
   "metadata": {},
   "source": [
    "# Df 0 2 2_Use Kahan\n",
    "This tutorial shows how to implement a Kahan summation custom action.\n",
    "\n",
    "\n",
    "\n",
    "\n",
    "**Author:** Enrico Guiraud, Danilo Piparo, Massimo Tumolo  \n",
    "<i><small>This notebook tutorial was automatically generated with <a href= \"https://github.com/root-project/root/blob/master/documentation/doxygen/converttonotebook.py\">ROOTBOOK-izer</a> from the macro found in the ROOT repository  on Thursday, August 29, 2019 at 01:12 AM.</small></i>"
   ]
  },
  {
   "cell_type": "code",
   "execution_count": 1,
   "metadata": {
    "collapsed": false
   },
   "outputs": [],
   "source": [
    "template <typename T>\n",
    "class KahanSum final : public ROOT::Detail::RDF::RActionImpl<class KahanSum<T>>  {\n",
    "public:\n",
    "   /// This type is a requirement for every helper.\n",
    "   using Result_t = T;\n",
    "\n",
    "private:\n",
    "   std::vector<T> fPartialSums;\n",
    "   std::vector<T> fCompensations;\n",
    "   int fNSlots;\n",
    "\n",
    "   std::shared_ptr<T> fResultSum;\n",
    "\n",
    "   void KahanAlgorithm(const T &x, T &sum, T &compensation){\n",
    "      T y = x - compensation;\n",
    "      T t = sum + y;\n",
    "      compensation = (t - sum) - y;\n",
    "      sum = t;\n",
    "   }\n",
    "\n",
    "public:\n",
    "   KahanSum(KahanSum &&) = default;\n",
    "   KahanSum(const KahanSum &) = delete;\n",
    "\n",
    "   KahanSum(const std::shared_ptr<T> &r) : fResultSum(r)\n",
    "   {\n",
    "      static_assert(std::is_floating_point<T>::value, \"Kahan sum makes sense only on floating point numbers\");\n",
    "\n",
    "      fNSlots = ROOT::IsImplicitMTEnabled() ? ROOT::GetImplicitMTPoolSize() : 1;\n",
    "      fPartialSums.resize(fNSlots, 0.);\n",
    "      fCompensations.resize(fNSlots, 0.);\n",
    "   }\n",
    "\n",
    "   std::shared_ptr<Result_t> GetResultPtr() const { return fResultSum; }\n",
    "\n",
    "   void Initialize() {}\n",
    "   void InitTask(TTreeReader *, unsigned int) {}\n",
    "\n",
    "   void Exec(unsigned int slot, T x)\n",
    "   {\n",
    "      KahanAlgorithm(x, fPartialSums[slot], fCompensations[slot]);\n",
    "   }\n",
    "\n",
    "   template <typename V=T, typename std::enable_if<ROOT::TypeTraits::IsContainer<V>::value, int>::type = 0>\n",
    "   void Exec(unsigned int slot, const T &vs)\n",
    "   {\n",
    "      for (auto &&v : vs) {\n",
    "         Exec(slot, v);\n",
    "      }\n",
    "   }\n",
    "\n",
    "   void Finalize()\n",
    "   {\n",
    "      T sum(0) ;\n",
    "      T compensation(0);\n",
    "      for (int i = 0; i < fNSlots; ++i) {\n",
    "         KahanAlgorithm(fPartialSums[i], sum, compensation);\n",
    "      }\n",
    "      *fResultSum = sum;\n",
    "   }\n",
    "\n",
    "   std::string GetActionName(){\n",
    "      return \"THnHelper\";\n",
    "   }\n",
    "\n",
    "};"
   ]
  },
  {
   "cell_type": "markdown",
   "metadata": {},
   "source": [
    "We enable implicit parallelism"
   ]
  },
  {
   "cell_type": "code",
   "execution_count": 2,
   "metadata": {
    "collapsed": false
   },
   "outputs": [
    {
     "name": "stdout",
     "output_type": "stream",
     "text": [
      "Kahan: 1000000000.00000011920929 Classical: 1000000000\n"
     ]
    }
   ],
   "source": [
    "ROOT::EnableImplicitMT(2);\n",
    "\n",
    "ROOT::RDataFrame d(20);\n",
    "auto dd = d.Define(\"x\", \"(rdfentry_ %2 == 0) ? 0.00000001 : 100000000.\");\n",
    "\n",
    "auto ptr = std::make_shared<double>();\n",
    "KahanSum<double> helper(ptr);\n",
    "\n",
    "auto kahanResult = dd.Book<double>(std::move(helper), {\"x\"});\n",
    "auto plainResult = dd.Sum<double>({\"x\"});\n",
    "\n",
    "std::cout << std::setprecision(24) << \"Kahan: \" << *kahanResult << \" Classical: \" << *plainResult << std::endl;"
   ]
  },
  {
   "cell_type": "markdown",
   "metadata": {},
   "source": [
    "Outputs: kahan: 1000000000.00000011920929 classical: 1000000000"
   ]
  },
  {
   "cell_type": "markdown",
   "metadata": {},
   "source": [
    "Draw all canvases "
   ]
  },
  {
   "cell_type": "code",
   "execution_count": 3,
   "metadata": {
    "collapsed": false
   },
   "outputs": [],
   "source": [
    "gROOT->GetListOfCanvases()->Draw()"
   ]
  }
 ],
 "metadata": {
  "kernelspec": {
   "display_name": "ROOT C++",
   "language": "c++",
   "name": "root"
  },
  "language_info": {
   "codemirror_mode": "text/x-c++src",
   "file_extension": ".C",
   "mimetype": " text/x-c++src",
   "name": "c++"
  }
 },
 "nbformat": 4,
 "nbformat_minor": 2
}
