{
 "cells": [
  {
   "cell_type": "markdown",
   "metadata": {},
   "source": [
    "# Combined Fit\n",
    "Combined (simultaneous) fit of two histogram with separate functions\n",
    "and some common parameters\n",
    "\n",
    "See http://root.cern.ch/phpBB3//viewtopic.php?f=3&t=11740#p50908\n",
    "for a modified version working with Fumili or GSLMultiFit\n",
    "\n",
    "N.B. this macro must be compiled with ACliC\n",
    "\n",
    "\n",
    "\n",
    "\n",
    "**Author:** Lorenzo Moneta  \n",
    "<i><small>This notebook tutorial was automatically generated with <a href= \"https://github.com/root-project/root/blob/master/documentation/doxygen/converttonotebook.py\">ROOTBOOK-izer</a> from the macro found in the ROOT repository  on Thursday, August 29, 2019 at 01:26 AM.</small></i>"
   ]
  },
  {
   "cell_type": "code",
   "execution_count": 1,
   "metadata": {
    "collapsed": false
   },
   "outputs": [],
   "source": [
    "%%cpp -d\n",
    "#include \"Fit/Fitter.h\"\n",
    "#include \"Fit/BinData.h\"\n",
    "#include \"Fit/Chi2FCN.h\"\n",
    "#include \"TH1.h\"\n",
    "#include \"TList.h\"\n",
    "#include \"Math/WrappedMultiTF1.h\"\n",
    "#include \"HFitInterface.h\"\n",
    "#include \"TCanvas.h\"\n",
    "#include \"TStyle.h\""
   ]
  },
  {
   "cell_type": "markdown",
   "metadata": {},
   "source": [
    "Definition of shared parameter\n",
    " background function"
   ]
  },
  {
   "cell_type": "code",
   "execution_count": 2,
   "metadata": {
    "collapsed": false
   },
   "outputs": [],
   "source": [
    "int iparB[2] = { 0,      // exp amplitude in B histo\n",
    "                 2    // exp common parameter\n",
    "};"
   ]
  },
  {
   "cell_type": "markdown",
   "metadata": {},
   "source": [
    "Signal + background function"
   ]
  },
  {
   "cell_type": "code",
   "execution_count": 3,
   "metadata": {
    "collapsed": false
   },
   "outputs": [],
   "source": [
    "int iparSB[5] = { 1, // exp amplitude in S+B histo\n",
    "                  2, // exp common parameter\n",
    "                  3, // gaussian amplitude\n",
    "                  4, // gaussian mean\n",
    "                  5  // gaussian sigma\n",
    "};"
   ]
  },
  {
   "cell_type": "markdown",
   "metadata": {},
   "source": [
    "Create the globalchi2 structure"
   ]
  },
  {
   "cell_type": "code",
   "execution_count": 4,
   "metadata": {
    "collapsed": false
   },
   "outputs": [],
   "source": [
    "struct GlobalChi2 {\n",
    "   GlobalChi2(  ROOT::Math::IMultiGenFunction & f1,\n",
    "                ROOT::Math::IMultiGenFunction & f2) :\n",
    "      fChi2_1(&f1), fChi2_2(&f2) {}\n",
    "\n",
    "   // parameter vector is first background (in common 1 and 2)\n",
    "   // and then is signal (only in 2)\n",
    "   double operator() (const double *par) const {\n",
    "      double p1[2];\n",
    "      for (int i = 0; i < 2; ++i) p1[i] = par[iparB[i] ];\n",
    "\n",
    "      double p2[5];\n",
    "      for (int i = 0; i < 5; ++i) p2[i] = par[iparSB[i] ];\n",
    "\n",
    "      return (*fChi2_1)(p1) + (*fChi2_2)(p2);\n",
    "   }\n",
    "\n",
    "   const  ROOT::Math::IMultiGenFunction * fChi2_1;\n",
    "   const  ROOT::Math::IMultiGenFunction * fChi2_2;\n",
    "};"
   ]
  },
  {
   "cell_type": "code",
   "execution_count": 5,
   "metadata": {
    "collapsed": false
   },
   "outputs": [],
   "source": [
    "TH1D * hB = new TH1D(\"hB\",\"histo B\",100,0,100);\n",
    "TH1D * hSB = new TH1D(\"hSB\",\"histo S+B\",100, 0,100);\n",
    "\n",
    "TF1 * fB = new TF1(\"fB\",\"expo\",0,100);\n",
    "fB->SetParameters(1,-0.05);\n",
    "hB->FillRandom(\"fB\");\n",
    "\n",
    "TF1 * fS = new TF1(\"fS\",\"gaus\",0,100);\n",
    "fS->SetParameters(1,30,5);\n",
    "\n",
    "hSB->FillRandom(\"fB\",2000);\n",
    "hSB->FillRandom(\"fS\",1000);"
   ]
  },
  {
   "cell_type": "markdown",
   "metadata": {},
   "source": [
    "Perform now global fit"
   ]
  },
  {
   "cell_type": "code",
   "execution_count": 6,
   "metadata": {
    "collapsed": false
   },
   "outputs": [],
   "source": [
    "TF1 * fSB = new TF1(\"fSB\",\"expo + gaus(2)\",0,100);\n",
    "\n",
    "ROOT::Math::WrappedMultiTF1 wfB(*fB,1);\n",
    "ROOT::Math::WrappedMultiTF1 wfSB(*fSB,1);\n",
    "\n",
    "ROOT::Fit::DataOptions opt;\n",
    "ROOT::Fit::DataRange rangeB;"
   ]
  },
  {
   "cell_type": "markdown",
   "metadata": {},
   "source": [
    "Set the data range"
   ]
  },
  {
   "cell_type": "code",
   "execution_count": 7,
   "metadata": {
    "collapsed": false
   },
   "outputs": [],
   "source": [
    "rangeB.SetRange(10,90);\n",
    "ROOT::Fit::BinData dataB(opt,rangeB);\n",
    "ROOT::Fit::FillData(dataB, hB);\n",
    "\n",
    "ROOT::Fit::DataRange rangeSB;\n",
    "rangeSB.SetRange(10,50);\n",
    "ROOT::Fit::BinData dataSB(opt,rangeSB);\n",
    "ROOT::Fit::FillData(dataSB, hSB);\n",
    "\n",
    "ROOT::Fit::Chi2Function chi2_B(dataB, wfB);\n",
    "ROOT::Fit::Chi2Function chi2_SB(dataSB, wfSB);\n",
    "\n",
    "GlobalChi2 globalChi2(chi2_B, chi2_SB);\n",
    "\n",
    "ROOT::Fit::Fitter fitter;\n",
    "\n",
    "const int Npar = 6;\n",
    "double par0[Npar] = { 5,5,-0.1,100, 30,10};"
   ]
  },
  {
   "cell_type": "markdown",
   "metadata": {},
   "source": [
    "Create before the parameter settings in order to fix or set range on them"
   ]
  },
  {
   "cell_type": "code",
   "execution_count": 8,
   "metadata": {
    "collapsed": false
   },
   "outputs": [],
   "source": [
    "fitter.Config().SetParamsSettings(6,par0);"
   ]
  },
  {
   "cell_type": "markdown",
   "metadata": {},
   "source": [
    "Fix 5-th parameter"
   ]
  },
  {
   "cell_type": "code",
   "execution_count": 9,
   "metadata": {
    "collapsed": false
   },
   "outputs": [],
   "source": [
    "fitter.Config().ParSettings(4).Fix();"
   ]
  },
  {
   "cell_type": "markdown",
   "metadata": {},
   "source": [
    "Set limits on the third and 4-th parameter"
   ]
  },
  {
   "cell_type": "code",
   "execution_count": 10,
   "metadata": {
    "collapsed": false
   },
   "outputs": [],
   "source": [
    "fitter.Config().ParSettings(2).SetLimits(-10,-1.E-4);\n",
    "fitter.Config().ParSettings(3).SetLimits(0,10000);\n",
    "fitter.Config().ParSettings(3).SetStepSize(5);\n",
    "\n",
    "fitter.Config().MinimizerOptions().SetPrintLevel(0);\n",
    "fitter.Config().SetMinimizer(\"Minuit2\",\"Migrad\");"
   ]
  },
  {
   "cell_type": "markdown",
   "metadata": {},
   "source": [
    "Fit fcn function directly\n",
    " (specify optionally data size and flag to indicate that is a chi2 fit)"
   ]
  },
  {
   "cell_type": "code",
   "execution_count": 11,
   "metadata": {
    "collapsed": false
   },
   "outputs": [
    {
     "name": "stdout",
     "output_type": "stream",
     "text": [
      "\n",
      "****************************************\n",
      "Minimizer is Minuit2 / Migrad\n",
      "Chi2                      =      131.104\n",
      "NDf                       =          115\n",
      "Edm                       =  2.11602e-08\n",
      "NCalls                    =          225\n",
      "Par_0                     =       5.5396   +/-   0.0354094   \n",
      "Par_1                     =      4.66089   +/-   0.050106    \n",
      "Par_2                     =   -0.0514037   +/-   0.00108539   \t (limited)\n",
      "Par_3                     =      77.2733   +/-   3.93105      \t (limited)\n",
      "Par_4                     =           30                      \t (fixed)\n",
      "Par_5                     =        4.864   +/-   0.243005    \n"
     ]
    }
   ],
   "source": [
    "fitter.FitFCN(6,globalChi2,0,dataB.Size()+dataSB.Size(),true);\n",
    "ROOT::Fit::FitResult result = fitter.Result();\n",
    "result.Print(std::cout);\n",
    "\n",
    "TCanvas * c1 = new TCanvas(\"Simfit\",\"Simultaneous fit of two histograms\",\n",
    "                           10,10,700,700);\n",
    "c1->Divide(1,2);\n",
    "c1->cd(1);\n",
    "gStyle->SetOptFit(1111);\n",
    "\n",
    "fB->SetFitResult( result, iparB);\n",
    "fB->SetRange(rangeB().first, rangeB().second);\n",
    "fB->SetLineColor(kBlue);\n",
    "hB->GetListOfFunctions()->Add(fB);\n",
    "hB->Draw();\n",
    "\n",
    "c1->cd(2);\n",
    "fSB->SetFitResult( result, iparSB);\n",
    "fSB->SetRange(rangeSB().first, rangeSB().second);\n",
    "fSB->SetLineColor(kRed);\n",
    "hSB->GetListOfFunctions()->Add(fSB);\n",
    "hSB->Draw();"
   ]
  },
  {
   "cell_type": "markdown",
   "metadata": {},
   "source": [
    "Draw all canvases "
   ]
  },
  {
   "cell_type": "code",
   "execution_count": 12,
   "metadata": {
    "collapsed": false
   },
   "outputs": [
    {
     "data": {
      "image/png": "[encoded data removed]",
      "text/plain": [
       "<IPython.core.display.Image object>"
      ]
     },
     "metadata": {},
     "output_type": "display_data"
    }
   ],
   "source": [
    "gROOT->GetListOfCanvases()->Draw()"
   ]
  }
 ],
 "metadata": {
  "kernelspec": {
   "display_name": "ROOT C++",
   "language": "c++",
   "name": "root"
  },
  "language_info": {
   "codemirror_mode": "text/x-c++src",
   "file_extension": ".C",
   "mimetype": " text/x-c++src",
   "name": "c++"
  }
 },
 "nbformat": 4,
 "nbformat_minor": 2
}
