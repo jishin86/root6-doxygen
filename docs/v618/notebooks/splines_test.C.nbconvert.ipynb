{
 "cells": [
  {
   "cell_type": "markdown",
   "metadata": {},
   "source": [
    "# Splines_Test\n",
    "Examples of use of the spline classes.\n",
    "\n",
    "\n",
    "\n",
    "\n",
    "**Author:** Federico Carminati  \n",
    "<i><small>This notebook tutorial was automatically generated with <a href= \"https://github.com/root-project/root/blob/master/documentation/doxygen/converttonotebook.py\">ROOTBOOK-izer</a> from the macro found in the ROOT repository  on Thursday, August 29, 2019 at 01:49 AM.</small></i>"
   ]
  },
  {
   "cell_type": "markdown",
   "metadata": {},
   "source": [
    " Arguments are defined. "
   ]
  },
  {
   "cell_type": "code",
   "execution_count": 1,
   "metadata": {
    "collapsed": false
   },
   "outputs": [],
   "source": [
    "Int_t np=23;\n",
    "Double_t a=-0.5;\n",
    "Double_t b=31;"
   ]
  },
  {
   "cell_type": "markdown",
   "metadata": {},
   "source": [
    "Array of points"
   ]
  },
  {
   "cell_type": "code",
   "execution_count": 2,
   "metadata": {
    "collapsed": false
   },
   "outputs": [],
   "source": [
    "Double_t *xx=0, *yy=0;\n",
    "TSpline3 *spline3=0;\n",
    "TSpline5 *spline5=0;\n",
    "TLine *line5, *line3;\n",
    "TText *text5, *text3, *textn;\n",
    "char text[20];\n",
    "const Double_t power=0.75;"
   ]
  },
  {
   "cell_type": "markdown",
   "metadata": {},
   "source": [
    "Define the original function"
   ]
  },
  {
   "cell_type": "code",
   "execution_count": 3,
   "metadata": {
    "collapsed": false
   },
   "outputs": [],
   "source": [
    "TF1 *f=new TF1(\"f\",\"sin(x)*sin(x/10)\",\n",
    "               a-0.05*(b-a),b+0.05*(b-a));"
   ]
  },
  {
   "cell_type": "markdown",
   "metadata": {},
   "source": [
    "Draw function"
   ]
  },
  {
   "cell_type": "code",
   "execution_count": 4,
   "metadata": {
    "collapsed": false
   },
   "outputs": [
    {
     "name": "stderr",
     "output_type": "stream",
     "text": [
      "Info in <TCanvas::MakeDefCanvas>:  created default TCanvas with name c1\n"
     ]
    }
   ],
   "source": [
    "f->Draw(\"lc\");\n",
    "\n",
    "   // Create text and legend\n",
    "Double_t xx1, yy1, xx2, yy2, dx, dy;\n",
    "gPad->Update();\n",
    "gPad->GetRangeAxis(xx1,yy1,xx2,yy2);\n",
    "dx = xx2-xx1;\n",
    "dy = yy2-yy1;\n",
    "line5=new TLine(xx1+dx*0.3,yy1+dy*1.02,\n",
    "                  xx1+dx*0.38,yy1+dy*1.02);\n",
    "line5->SetLineColor(kRed);\n",
    "line5->SetLineWidth(2);\n",
    "text5 = new TText(xx1+dx*0.4,\n",
    "                  yy1+dy*1.03,\"quintic spline\");\n",
    "text5->SetTextAlign(12);\n",
    "text5->SetTextSize(0.04);\n",
    "line3=new TLine(xx1+dx*0.67,yy1+dy*1.02,\n",
    "                  xx1+dx*0.75,yy1+dy*1.02);\n",
    "line3->SetLineColor(kGreen);\n",
    "line3->SetLineWidth(2);\n",
    "text3 = new TText(xx1+dx*0.77,\n",
    "                  yy1+dy*1.03,\"third spline\");\n",
    "text3->SetTextAlign(12);\n",
    "text3->SetTextSize(0.04);\n",
    "textn = new TText(xx1+dx*0.8,yy1+dy*0.91,\" \");\n",
    "textn->SetTextAlign(12);\n",
    "textn->SetTextSize(0.04);\n",
    "textn->Draw();"
   ]
  },
  {
   "cell_type": "markdown",
   "metadata": {},
   "source": [
    "Draw legenda"
   ]
  },
  {
   "cell_type": "code",
   "execution_count": 5,
   "metadata": {
    "collapsed": false
   },
   "outputs": [],
   "source": [
    "line5->Draw();\n",
    "text5->Draw();\n",
    "line3->Draw();\n",
    "text3->Draw();\n",
    "\n",
    "for(Int_t nnp=2; nnp<=np; ++nnp) {\n",
    "\n",
    "   // Calculate the knots\n",
    "   if(xx) delete[] xx;\n",
    "   xx = new Double_t[nnp];\n",
    "   if(yy) delete[] yy;\n",
    "   yy = new Double_t[nnp];\n",
    "   for (Int_t i=0; i<nnp; ++i) {\n",
    "      xx[i]=a+(b-a)*TMath::Power(i/Double_t (nnp-1),power);\n",
    "      yy[i]=f->Eval(xx[i]);\n",
    "   }\n",
    "\n",
    "   // Evaluate fifth spline coefficients\n",
    "   Double_t eps=(b-a)*1.e-5;\n",
    "   if(spline5) delete spline5;\n",
    "   spline5 = new TSpline5(\"Test\",xx,f,nnp,\"b1e1b2e2\",\n",
    "                           f->Derivative(a),f->Derivative(b),\n",
    "                           (f->Derivative(a+eps)-f->Derivative(a))/eps,\n",
    "                           (f->Derivative(b)-f->Derivative(b-eps))/eps);\n",
    "\n",
    "   spline5->SetLineColor(kRed);\n",
    "   spline5->SetLineWidth(3);\n",
    "\n",
    "   // Draw the quintic spline\n",
    "   spline5->Draw(\"lcsame\");\n",
    "\n",
    "   // Evaluate third spline coefficients\n",
    "   if(spline3) delete spline3;\n",
    "   spline3 = new TSpline3(\"Test\",xx,yy,nnp,\"b1e1\",\n",
    "                           f->Derivative(a),f->Derivative(b));\n",
    "\n",
    "   spline3->SetLineColor(kGreen);\n",
    "   spline3->SetLineWidth(3);\n",
    "   spline3->SetMarkerColor(kBlue);\n",
    "   spline3->SetMarkerStyle(20);\n",
    "   spline3->SetMarkerSize(1.5);\n",
    "\n",
    "   // Draw the third spline\n",
    "   spline3->Draw(\"lcpsame\");\n",
    "\n",
    "   sprintf(text,\"%3d knots\",nnp);\n",
    "   textn->SetTitle(text);\n",
    "   gPad->Update();\n",
    "\n",
    "   //\n",
    "   gSystem->Sleep(500);\n",
    "}"
   ]
  },
  {
   "cell_type": "markdown",
   "metadata": {},
   "source": [
    "Draw all canvases "
   ]
  },
  {
   "cell_type": "code",
   "execution_count": 6,
   "metadata": {
    "collapsed": false
   },
   "outputs": [
    {
     "data": {
      "image/png": "[encoded data removed]",
      "text/plain": [
       "<IPython.core.display.Image object>"
      ]
     },
     "metadata": {},
     "output_type": "display_data"
    }
   ],
   "source": [
    "gROOT->GetListOfCanvases()->Draw()"
   ]
  }
 ],
 "metadata": {
  "kernelspec": {
   "display_name": "ROOT C++",
   "language": "c++",
   "name": "root"
  },
  "language_info": {
   "codemirror_mode": "text/x-c++src",
   "file_extension": ".C",
   "mimetype": " text/x-c++src",
   "name": "c++"
  }
 },
 "nbformat": 4,
 "nbformat_minor": 2
}
