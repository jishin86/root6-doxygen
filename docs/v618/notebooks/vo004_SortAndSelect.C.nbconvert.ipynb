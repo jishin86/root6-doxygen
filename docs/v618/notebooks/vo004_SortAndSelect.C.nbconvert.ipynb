{
 "cells": [
  {
   "cell_type": "markdown",
   "metadata": {},
   "source": [
    "# Vo 0 0 4_ Sort And Select\n",
    "In this tutorial we learn how elements of an RVec can be easily sorted and\n",
    "selected.\n",
    "\n",
    "\n",
    "\n",
    "\n",
    "**Author:** Stefan Wunsch  \n",
    "<i><small>This notebook tutorial was automatically generated with <a href= \"https://github.com/root-project/root/blob/master/documentation/doxygen/converttonotebook.py\">ROOTBOOK-izer</a> from the macro found in the ROOT repository  on Thursday, August 29, 2019 at 04:06 AM.</small></i>"
   ]
  },
  {
   "cell_type": "code",
   "execution_count": 1,
   "metadata": {
    "collapsed": false
   },
   "outputs": [],
   "source": [
    "using namespace ROOT::VecOps;"
   ]
  },
  {
   "cell_type": "markdown",
   "metadata": {},
   "source": [
    "Because rvec implements an iterator, the class is fully compatible with\n",
    " the sorting algorithms in the standard library."
   ]
  },
  {
   "cell_type": "code",
   "execution_count": 2,
   "metadata": {
    "collapsed": false
   },
   "outputs": [
    {
     "name": "stdout",
     "output_type": "stream",
     "text": [
      "Sort vector { 6, 4, 5 }: { 4, 5, 6 }\n"
     ]
    }
   ],
   "source": [
    "RVec<double> v1{6., 4., 5.};\n",
    "RVec<double> v2(v1);\n",
    "std::sort(v2.begin(), v2.end());\n",
    "std::cout << \"Sort vector \" << v1 << \": \" << v2 << std::endl;"
   ]
  },
  {
   "cell_type": "markdown",
   "metadata": {},
   "source": [
    "For convenience, root implements helpers, e.g., to get a sorted copy of\n",
    " an RVec ..."
   ]
  },
  {
   "cell_type": "code",
   "execution_count": 3,
   "metadata": {
    "collapsed": false
   },
   "outputs": [
    {
     "name": "stdout",
     "output_type": "stream",
     "text": [
      "Sort vector { 6, 4, 5 }: { 4, 5, 6 }\n"
     ]
    }
   ],
   "source": [
    "auto v3 = Sort(v1);\n",
    "std::cout << \"Sort vector \" << v1 << \": \" << v3 << std::endl;"
   ]
  },
  {
   "cell_type": "markdown",
   "metadata": {},
   "source": [
    "... or a reversed copy of an rvec."
   ]
  },
  {
   "cell_type": "code",
   "execution_count": 4,
   "metadata": {
    "collapsed": false
   },
   "outputs": [
    {
     "name": "stdout",
     "output_type": "stream",
     "text": [
      "Reverse vector { 6, 4, 5 }: { 5, 4, 6 }\n"
     ]
    }
   ],
   "source": [
    "auto v4 = Reverse(v1);\n",
    "std::cout << \"Reverse vector \" << v1 << \": \" << v4 << std::endl;"
   ]
  },
  {
   "cell_type": "markdown",
   "metadata": {},
   "source": [
    "Helpers are provided to get the indices that sort the vector and to\n",
    " select these indices from an RVec."
   ]
  },
  {
   "cell_type": "code",
   "execution_count": 5,
   "metadata": {
    "collapsed": false
   },
   "outputs": [
    {
     "name": "stdout",
     "output_type": "stream",
     "text": [
      "Indices that sort the vector { 6, 4, 5 }: { 1, 2, 0 }\n",
      "Sort vector { 9, 7, 8 } respective to the previously determined indices: { 7, 8, 9 }\n"
     ]
    }
   ],
   "source": [
    "auto i = Argsort(v1);\n",
    "std::cout << \"Indices that sort the vector \" << v1 << \": \" << i << std::endl;\n",
    "\n",
    "RVec<double> v5{9., 7., 8.};\n",
    "auto v6 = Take(v5, i);\n",
    "std::cout << \"Sort vector \" << v5 << \" respective to the previously\"\n",
    "          << \" determined indices: \" << v6 << std::endl;"
   ]
  },
  {
   "cell_type": "markdown",
   "metadata": {},
   "source": [
    "Take can also be used to get the first or last elements of an rvec."
   ]
  },
  {
   "cell_type": "code",
   "execution_count": 6,
   "metadata": {
    "collapsed": false
   },
   "outputs": [
    {
     "name": "stdout",
     "output_type": "stream",
     "text": [
      "Take the two first and last elements of vector { 6, 4, 5 }: { 6, 4 }, { 4, 5 }\n"
     ]
    }
   ],
   "source": [
    "auto v7 = Take(v1, 2);\n",
    "auto v8 = Take(v1, -2);\n",
    "std::cout << \"Take the two first and last elements of vector \" << v1\n",
    "          << \": \" << v7 << \", \" << v8 << std::endl;"
   ]
  },
  {
   "cell_type": "markdown",
   "metadata": {},
   "source": [
    "Because the helpers return a copy of the input, you can chain the operations\n",
    " conveniently."
   ]
  },
  {
   "cell_type": "code",
   "execution_count": 7,
   "metadata": {
    "collapsed": false
   },
   "outputs": [
    {
     "name": "stdout",
     "output_type": "stream",
     "text": [
      "Sort the vector { 6, 4, 5 }, take the two last elements and reverse the selection: { 6, 5 }\n"
     ]
    }
   ],
   "source": [
    "auto v9 = Reverse(Take(Sort(v1), -2));\n",
    "std::cout << \"Sort the vector \" << v1 << \", take the two last elements and \"\n",
    "          << \"reverse the selection: \" << v9 << std::endl;"
   ]
  }
 ],
 "metadata": {
  "kernelspec": {
   "display_name": "ROOT C++",
   "language": "c++",
   "name": "root"
  },
  "language_info": {
   "codemirror_mode": "text/x-c++src",
   "file_extension": ".C",
   "mimetype": " text/x-c++src",
   "name": "c++"
  }
 },
 "nbformat": 4,
 "nbformat_minor": 2
}
