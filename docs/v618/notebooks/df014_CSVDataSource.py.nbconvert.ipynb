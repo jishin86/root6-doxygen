{
 "cells": [
  {
   "cell_type": "markdown",
   "metadata": {},
   "source": [
    "# Df 0 1 4_ C S V Data Source\n",
    "This tutorial illustrates how use the RDataFrame in combination with a\n",
    "RDataSource. In this case we use a TCsvDS. This data source allows to read\n",
    "a CSV file from a RDataFrame.\n",
    "As a result of running this tutorial, we will produce plots of the dimuon\n",
    "spectrum starting from a subset of the CMS collision events of Run2010B.\n",
    "Dataset Reference:\n",
    "McCauley, T. (2014). Dimuon event information derived from the Run2010B\n",
    "public Mu dataset. CERN Open Data Portal.\n",
    "DOI: [10.7483/OPENDATA.CMS.CB8H.MFFA](http://opendata.cern.ch/record/700).\n",
    "\n",
    "\n",
    "\n",
    "\n",
    "**Author:** Enric Tejedor  \n",
    "<i><small>This notebook tutorial was automatically generated with <a href= \"https://github.com/root-project/root/blob/master/documentation/doxygen/converttonotebook.py\">ROOTBOOK-izer</a> from the macro found in the ROOT repository  on Thursday, August 29, 2019 at 01:06 AM.</small></i>"
   ]
  },
  {
   "cell_type": "code",
   "execution_count": 1,
   "metadata": {
    "collapsed": false
   },
   "outputs": [
    {
     "name": "stdout",
     "output_type": "stream",
     "text": [
      "Welcome to JupyROOT 6.18/03\n"
     ]
    }
   ],
   "source": [
    "import ROOT"
   ]
  },
  {
   "cell_type": "markdown",
   "metadata": {},
   "source": [
    "Let's first create a RDF that will read from the CSV file.\n",
    "The types of the columns will be automatically inferred."
   ]
  },
  {
   "cell_type": "code",
   "execution_count": 2,
   "metadata": {
    "collapsed": false
   },
   "outputs": [
    {
     "name": "stderr",
     "output_type": "stream",
     "text": [
      "[TFile::Cp] Total 14.46 MB\t|====================| 100.00 % [90.6 MB/s]\r\n"
     ]
    }
   ],
   "source": [
    "fileNameUrl = \"http://root.cern.ch/files/tutorials/df014_CsvDataSource_MuRun2010B.csv\"\n",
    "fileName = \"df014_CsvDataSource_MuRun2010B_py.csv\"\n",
    "ROOT.TFile.Cp(fileNameUrl, fileName)\n",
    "\n",
    "MakeCsvDataFrame = ROOT.ROOT.RDF.MakeCsvDataFrame\n",
    "tdf = MakeCsvDataFrame(fileName)"
   ]
  },
  {
   "cell_type": "markdown",
   "metadata": {},
   "source": [
    "Now we will apply a first filter based on two columns of the CSV,\n",
    "and we will define a new column that will contain the invariant mass.\n",
    "Note how the new invariant mass column is defined from several other\n",
    "columns that already existed in the CSV file."
   ]
  },
  {
   "cell_type": "code",
   "execution_count": 3,
   "metadata": {
    "collapsed": false
   },
   "outputs": [],
   "source": [
    "filteredEvents = tdf.Filter(\"Q1 * Q2 == -1\") \\\n",
    "                    .Define(\"m\", \"sqrt(pow(E1 + E2, 2) - (pow(px1 + px2, 2) + pow(py1 + py2, 2) + pow(pz1 + pz2, 2)))\")"
   ]
  },
  {
   "cell_type": "markdown",
   "metadata": {},
   "source": [
    "Next we create a histogram to hold the invariant mass values and we draw it."
   ]
  },
  {
   "cell_type": "code",
   "execution_count": 4,
   "metadata": {
    "collapsed": false
   },
   "outputs": [],
   "source": [
    "invMass = filteredEvents.Histo1D((\"invMass\", \"CMS Opendata: #mu#mu mass;#mu#mu mass [GeV];Events\", 512, 2, 110), \"m\")\n",
    "\n",
    "c = ROOT.TCanvas()\n",
    "c.SetLogx()\n",
    "c.SetLogy()\n",
    "invMass.Draw()"
   ]
  },
  {
   "cell_type": "markdown",
   "metadata": {},
   "source": [
    "We will now produce a plot also for the J/Psi particle. We will plot\n",
    "on the same canvas the full spectrum and the zoom in the J/psi particle.\n",
    "First we will create the full spectrum histogram from the invariant mass\n",
    "column, using a different histogram model than before."
   ]
  },
  {
   "cell_type": "code",
   "execution_count": 5,
   "metadata": {
    "collapsed": false
   },
   "outputs": [],
   "source": [
    "fullSpectrum = filteredEvents.Histo1D((\"Spectrum\", \"Subset of CMS Run 2010B;#mu#mu mass [GeV];Events\", 1024, 2, 110), \"m\")"
   ]
  },
  {
   "cell_type": "markdown",
   "metadata": {},
   "source": [
    "Next we will create the histogram for the J/psi particle, applying first\n",
    "the corresponding cut."
   ]
  },
  {
   "cell_type": "code",
   "execution_count": 6,
   "metadata": {
    "collapsed": false
   },
   "outputs": [],
   "source": [
    "jpsiLow = 2.95\n",
    "jpsiHigh = 3.25\n",
    "jpsiCut = 'm < %s && m > %s' % (jpsiHigh, jpsiLow)\n",
    "jpsi = filteredEvents.Filter(jpsiCut) \\\n",
    "                     .Histo1D((\"jpsi\", \"Subset of CMS Run 2010B: J/#psi window;#mu#mu mass [GeV];Events\", 128, jpsiLow, jpsiHigh), \"m\")"
   ]
  },
  {
   "cell_type": "markdown",
   "metadata": {},
   "source": [
    "Finally we draw the two histograms side by side."
   ]
  },
  {
   "cell_type": "code",
   "execution_count": 7,
   "metadata": {
    "collapsed": false
   },
   "outputs": [],
   "source": [
    "dualCanvas = ROOT.TCanvas(\"DualCanvas\", \"DualCanvas\", 800, 512)\n",
    "dualCanvas.Divide(2, 1)\n",
    "leftPad = dualCanvas.cd(1)\n",
    "leftPad.SetLogx()\n",
    "leftPad.SetLogy()\n",
    "fullSpectrum.Draw(\"Hist\")\n",
    "dualCanvas.cd(2)\n",
    "jpsi.Draw(\"HistP\")"
   ]
  },
  {
   "cell_type": "markdown",
   "metadata": {},
   "source": [
    "Draw all canvases "
   ]
  },
  {
   "cell_type": "code",
   "execution_count": 8,
   "metadata": {
    "collapsed": false
   },
   "outputs": [
    {
     "data": {
      "image/png": "[encoded data removed]",
      "text/plain": [
       "<IPython.core.display.Image object>"
      ]
     },
     "metadata": {},
     "output_type": "display_data"
    },
    {
     "data": {
      "image/png": "[encoded data removed]",
      "text/plain": [
       "<IPython.core.display.Image object>"
      ]
     },
     "metadata": {},
     "output_type": "display_data"
    }
   ],
   "source": [
    "from ROOT import gROOT \n",
    "gROOT.GetListOfCanvases().Draw()"
   ]
  }
 ],
 "metadata": {
  "kernelspec": {
   "display_name": "Python 2",
   "language": "python",
   "name": "python2"
  },
  "language_info": {
   "codemirror_mode": {
    "name": "ipython",
    "version": 2
   },
   "file_extension": ".py",
   "mimetype": "text/x-python",
   "name": "python",
   "nbconvert_exporter": "python",
   "pygments_lexer": "ipython2",
   "version": "2.7.10"
  }
 },
 "nbformat": 4,
 "nbformat_minor": 2
}
