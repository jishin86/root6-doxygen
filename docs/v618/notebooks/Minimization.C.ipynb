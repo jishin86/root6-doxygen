{
 "cells": [
  {
   "cell_type": "markdown", 
   "metadata": {}, 
   "source": [
    "#  Minimization\n", 
    "Example based  in\n", 
    "http://root.cern.ch/root/html/tutorials/fit/NumericalMinimization.C.html\n", 
    "http://stat.ethz.ch/R-manual/R-devel/library/stats/html/optim.html\n", 
    "\n", 
    "\n", 
    "\n", 
    "\n", 
    "**Author:** Omar Zapata  \n", 
    "<i><small>This notebook tutorial was automatically generated with <a href= \"https://github.com/root-project/root/blob/master/documentation/doxygen/converttonotebook.py\">ROOTBOOK-izer</a> from the macro found in the ROOT repository  on Thursday, August 29, 2019 at 02:37 AM.</small></i>"
   ]
  }, 
  {
   "cell_type": "code", 
   "execution_count": null, 
   "metadata": {
    "collapsed": false
   }, 
   "outputs": [], 
   "source": [
    "%%cpp -d\n", 
    "#include<TRInterface.h>"
   ]
  }, 
  {
   "cell_type": "markdown", 
   "metadata": {}, 
   "source": [
    " in the next function the *double pointer must be changed by a TVectorD,\n", 
    "because the pointer has no meaning in R enviroment.\n", 
    " "
   ]
  }, 
  {
   "cell_type": "code", 
   "execution_count": null, 
   "metadata": {
    "collapsed": false
   }, 
   "outputs": [], 
   "source": [
    "%%cpp -d\n", 
    "Double_t RosenBrock(const TVectorD xx )\n", 
    "{\n", 
    "   const Double_t x = xx[0];\n", 
    "   const Double_t y = xx[1];\n", 
    "   const Double_t tmp1 = y-x*x;\n", 
    "   const Double_t tmp2 = 1-x;\n", 
    "   return 100*tmp1*tmp1+tmp2*tmp2;\n", 
    "}"
   ]
  }, 
  {
   "cell_type": "markdown", 
   "metadata": {}, 
   "source": [
    " A helper function is created: "
   ]
  }, 
  {
   "cell_type": "code", 
   "execution_count": null, 
   "metadata": {
    "collapsed": false
   }, 
   "outputs": [], 
   "source": [
    "%%cpp -d\n", 
    "TVectorD RosenBrockGrad(const TVectorD xx )\n", 
    "{\n", 
    "   const Double_t x = xx[0];\n", 
    "   const Double_t y = xx[1];\n", 
    "   TVectorD grad(2);\n", 
    "   grad[0]=-400 * x * (y - x * x) - 2 * (1 - x);\n", 
    "   grad[1]=200 * (y - x * x);\n", 
    "   return grad;\n", 
    "}"
   ]
  }, 
  {
   "cell_type": "code", 
   "execution_count": null, 
   "metadata": {
    "collapsed": false
   }, 
   "outputs": [], 
   "source": [
    "ROOT::R::TRInterface &r=ROOT::R::TRInterface::Instance();"
   ]
  }, 
  {
   "cell_type": "markdown", 
   "metadata": {}, 
   "source": [
    "Passsing rosenbrock function to r"
   ]
  }, 
  {
   "cell_type": "code", 
   "execution_count": null, 
   "metadata": {
    "collapsed": false
   }, 
   "outputs": [], 
   "source": [
    "r[\"RosenBrock\"]=ROOT::R::TRFunctionExport(RosenBrock);"
   ]
  }, 
  {
   "cell_type": "markdown", 
   "metadata": {}, 
   "source": [
    "Passsing rosenbrockgrad function to r"
   ]
  }, 
  {
   "cell_type": "code", 
   "execution_count": null, 
   "metadata": {
    "collapsed": false
   }, 
   "outputs": [], 
   "source": [
    "r[\"RosenBrockGrad\"]=ROOT::R::TRFunctionExport(RosenBrockGrad);"
   ]
  }, 
  {
   "cell_type": "markdown", 
   "metadata": {}, 
   "source": [
    "The option \"method\" could be \"nelder-mead\", \"bfgs\", \"cg\", \"l-bfgs-b\", \"sann\",\"brent\""
   ]
  }, 
  {
   "cell_type": "markdown", 
   "metadata": {}, 
   "source": [
    "The option \"control\" lets you put some constraints like\n", 
    "\"maxit\" The maximum number of iterations.\n", 
    "\"abstol\" The absolute convergence tolerance."
   ]
  }, 
  {
   "cell_type": "code", 
   "execution_count": null, 
   "metadata": {
    "collapsed": false
   }, 
   "outputs": [], 
   "source": [
    "r.Execute(\"result <- optim( c(0.01,0.01), RosenBrock,method='BFGS',control = list(maxit = 1000000) )\");"
   ]
  }, 
  {
   "cell_type": "markdown", 
   "metadata": {}, 
   "source": [
    "\"reltol\" relative convergence tolerance."
   ]
  }, 
  {
   "cell_type": "markdown", 
   "metadata": {}, 
   "source": [
    "Getting results from r"
   ]
  }, 
  {
   "cell_type": "code", 
   "execution_count": null, 
   "metadata": {
    "collapsed": false
   }, 
   "outputs": [], 
   "source": [
    "TVectorD  min=r.Eval(\"result$par\");\n", 
    "\n", 
    "std::cout.precision(8);"
   ]
  }, 
  {
   "cell_type": "markdown", 
   "metadata": {}, 
   "source": [
    "Printing results"
   ]
  }, 
  {
   "cell_type": "code", 
   "execution_count": null, 
   "metadata": {
    "collapsed": false
   }, 
   "outputs": [], 
   "source": [
    "std::cout<<\"-----------------------------------------\"<<std::endl;\n", 
    "std::cout<<\"Minimum x=\"<<min[0]<<\" y=\"<<min[1]<<std::endl;\n", 
    "std::cout<<\"Value at minimum =\"<<RosenBrock(min)<<std::endl;"
   ]
  }, 
  {
   "cell_type": "markdown", 
   "metadata": {}, 
   "source": [
    "Using the gradient"
   ]
  }, 
  {
   "cell_type": "code", 
   "execution_count": null, 
   "metadata": {
    "collapsed": false
   }, 
   "outputs": [], 
   "source": [
    "r.Execute(\"optimHess(result$par, RosenBrock, RosenBrockGrad)\");\n", 
    "r.Execute(\"hresult <- optim(c(-1.2,1), RosenBrock, NULL, method = 'BFGS', hessian = TRUE)\");"
   ]
  }, 
  {
   "cell_type": "markdown", 
   "metadata": {}, 
   "source": [
    "Getting the min calculated with the gradient"
   ]
  }, 
  {
   "cell_type": "code", 
   "execution_count": null, 
   "metadata": {
    "collapsed": false
   }, 
   "outputs": [], 
   "source": [
    "TVectorD  hmin=r.Eval(\"hresult$par\");"
   ]
  }, 
  {
   "cell_type": "markdown", 
   "metadata": {}, 
   "source": [
    "Printing results"
   ]
  }, 
  {
   "cell_type": "code", 
   "execution_count": null, 
   "metadata": {
    "collapsed": false
   }, 
   "outputs": [], 
   "source": [
    "std::cout<<\"-----------------------------------------\"<<std::endl;\n", 
    "std::cout<<\"Minimization with the Gradient\"<<std::endl;\n", 
    "std::cout<<\"Minimum x=\"<<hmin[0]<<\" y=\"<<hmin[1]<<std::endl;\n", 
    "std::cout<<\"Value at minimum =\"<<RosenBrock(hmin)<<std::endl;"
   ]
  }
 ], 
 "metadata": {
  "kernelspec": {
   "display_name": "ROOT C++", 
   "language": "c++", 
   "name": "root"
  }, 
  "language_info": {
   "codemirror_mode": "text/x-c++src", 
   "file_extension": ".C", 
   "mimetype": " text/x-c++src", 
   "name": "c++"
  }
 }, 
 "nbformat": 4, 
 "nbformat_minor": 2
}