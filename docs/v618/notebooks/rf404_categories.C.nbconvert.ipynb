{
 "cells": [
  {
   "cell_type": "markdown",
   "metadata": {},
   "source": [
    "# Rf 4 0 4_Categories\n",
    "Data and categories: working with RooCategory objects to describe discrete variables\n",
    "\n",
    "\n",
    "\n",
    "**Author:** 07/2008 - Wouter Verkerke  \n",
    "<i><small>This notebook tutorial was automatically generated with <a href= \"https://github.com/root-project/root/blob/master/documentation/doxygen/converttonotebook.py\">ROOTBOOK-izer</a> from the macro found in the ROOT repository  on Thursday, August 29, 2019 at 02:52 AM.</small></i>"
   ]
  },
  {
   "cell_type": "code",
   "execution_count": 1,
   "metadata": {
    "collapsed": false
   },
   "outputs": [],
   "source": [
    "%%cpp -d\n",
    "#include \"RooRealVar.h\"\n",
    "#include \"RooDataSet.h\"\n",
    "#include \"RooPolynomial.h\"\n",
    "#include \"RooCategory.h\"\n",
    "#include \"Roo1DTable.h\"\n",
    "#include \"RooGaussian.h\"\n",
    "#include \"RooConstVar.h\"\n",
    "#include \"TCanvas.h\"\n",
    "#include \"TAxis.h\"\n",
    "#include \"RooPlot.h\""
   ]
  },
  {
   "cell_type": "code",
   "execution_count": 2,
   "metadata": {
    "collapsed": false
   },
   "outputs": [],
   "source": [
    "%%cpp -d\n",
    "// This is a workaround to make sure the namespace is used inside functions\n",
    "using namespace RooFit;"
   ]
  },
  {
   "cell_type": "markdown",
   "metadata": {},
   "source": [
    "Construct  a category with labels\n",
    " ----------------------------------------------------------------"
   ]
  },
  {
   "cell_type": "markdown",
   "metadata": {},
   "source": [
    "Define a category with labels only"
   ]
  },
  {
   "cell_type": "code",
   "execution_count": 3,
   "metadata": {
    "collapsed": false
   },
   "outputs": [
    {
     "name": "stdout",
     "output_type": "stream",
     "text": [
      "\n",
      "\u001b[1mRooFit v3.60 -- Developed by Wouter Verkerke and David Kirkby\u001b[0m \n",
      "                Copyright (C) 2000-2013 NIKHEF, University of California & Stanford University\n",
      "                All rights reserved, please read http://roofit.sourceforge.net/license.txt\n",
      "\n",
      "RooCategory::tagCat = Lepton(idx = 0)\n",
      "\n"
     ]
    }
   ],
   "source": [
    "RooCategory tagCat(\"tagCat\", \"Tagging category\");\n",
    "tagCat.defineType(\"Lepton\");\n",
    "tagCat.defineType(\"Kaon\");\n",
    "tagCat.defineType(\"NetTagger-1\");\n",
    "tagCat.defineType(\"NetTagger-2\");\n",
    "tagCat.Print();"
   ]
  },
  {
   "cell_type": "markdown",
   "metadata": {},
   "source": [
    "Construct  a category with labels and indeces\n",
    " ----------------------------------------------------------------------------------------"
   ]
  },
  {
   "cell_type": "markdown",
   "metadata": {},
   "source": [
    "Define a category with explicitly numbered states"
   ]
  },
  {
   "cell_type": "code",
   "execution_count": 4,
   "metadata": {
    "collapsed": false
   },
   "outputs": [
    {
     "name": "stdout",
     "output_type": "stream",
     "text": [
      "RooCategory::b0flav = B0(idx = -1)\n",
      "\n"
     ]
    }
   ],
   "source": [
    "RooCategory b0flav(\"b0flav\", \"B0 flavour eigenstate\");\n",
    "b0flav.defineType(\"B0\", -1);\n",
    "b0flav.defineType(\"B0bar\", 1);\n",
    "b0flav.Print();"
   ]
  },
  {
   "cell_type": "markdown",
   "metadata": {},
   "source": [
    "Generate dummy data for tabulation demo\n",
    " ----------------------------------------------------------------------------"
   ]
  },
  {
   "cell_type": "markdown",
   "metadata": {},
   "source": [
    "Generate a dummy dataset"
   ]
  },
  {
   "cell_type": "code",
   "execution_count": 5,
   "metadata": {
    "collapsed": false
   },
   "outputs": [],
   "source": [
    "RooRealVar x(\"x\", \"x\", 0, 10);\n",
    "RooDataSet *data = RooPolynomial(\"p\", \"p\", x).generate(RooArgSet(x, b0flav, tagCat), 10000);"
   ]
  },
  {
   "cell_type": "markdown",
   "metadata": {},
   "source": [
    "Print tables of category contents of datasets\n",
    " ------------------------------------------------------------------------------------------"
   ]
  },
  {
   "cell_type": "markdown",
   "metadata": {},
   "source": [
    "Tables are equivalent of plots for categories"
   ]
  },
  {
   "cell_type": "code",
   "execution_count": 6,
   "metadata": {
    "collapsed": false
   },
   "outputs": [
    {
     "name": "stdout",
     "output_type": "stream",
     "text": [
      "Roo1DTable::b0flav = (B0=5058,B0bar=4942)\n",
      "\n",
      "  Table b0flav : pData\n",
      "  +-------+------+\n",
      "  |    B0 | 5058 |\n",
      "  | B0bar | 4942 |\n",
      "  +-------+------+\n",
      "\n"
     ]
    }
   ],
   "source": [
    "Roo1DTable *btable = data->table(b0flav);\n",
    "btable->Print();\n",
    "btable->Print(\"v\");"
   ]
  },
  {
   "cell_type": "markdown",
   "metadata": {},
   "source": [
    "Create table for subset of events matching cut expression"
   ]
  },
  {
   "cell_type": "code",
   "execution_count": 7,
   "metadata": {
    "collapsed": false
   },
   "outputs": [
    {
     "name": "stdout",
     "output_type": "stream",
     "text": [
      "Roo1DTable::tagCat = (Lepton=454,Kaon=450,NetTagger-1=432,NetTagger-2=429)\n",
      "\n",
      "  Table tagCat : pData(x>8.23)\n",
      "  +-------------+-----+\n",
      "  |      Lepton | 454 |\n",
      "  |        Kaon | 450 |\n",
      "  | NetTagger-1 | 432 |\n",
      "  | NetTagger-2 | 429 |\n",
      "  +-------------+-----+\n",
      "\n"
     ]
    }
   ],
   "source": [
    "Roo1DTable *ttable = data->table(tagCat, \"x>8.23\");\n",
    "ttable->Print();\n",
    "ttable->Print(\"v\");"
   ]
  },
  {
   "cell_type": "markdown",
   "metadata": {},
   "source": [
    "Create table for all (tagcat x b0flav) state combinations"
   ]
  },
  {
   "cell_type": "code",
   "execution_count": 8,
   "metadata": {
    "collapsed": false
   },
   "outputs": [
    {
     "name": "stdout",
     "output_type": "stream",
     "text": [
      "\n",
      "  Table (tagCat x b0flav) : pData\n",
      "  +---------------------+------+\n",
      "  |         {Lepton;B0} | 1302 |\n",
      "  |           {Kaon;B0} | 1232 |\n",
      "  |    {NetTagger-1;B0} | 1242 |\n",
      "  |    {NetTagger-2;B0} | 1282 |\n",
      "  |      {Lepton;B0bar} | 1192 |\n",
      "  |        {Kaon;B0bar} | 1314 |\n",
      "  | {NetTagger-1;B0bar} | 1208 |\n",
      "  | {NetTagger-2;B0bar} | 1228 |\n",
      "  +---------------------+------+\n",
      "\n"
     ]
    }
   ],
   "source": [
    "Roo1DTable *bttable = data->table(RooArgSet(tagCat, b0flav));\n",
    "bttable->Print(\"v\");"
   ]
  },
  {
   "cell_type": "markdown",
   "metadata": {},
   "source": [
    "Retrieve number of events from table\n",
    " Number can be non-integer if source dataset has weighed events"
   ]
  },
  {
   "cell_type": "code",
   "execution_count": 9,
   "metadata": {
    "collapsed": false
   },
   "outputs": [
    {
     "name": "stdout",
     "output_type": "stream",
     "text": [
      "Number of events with B0 flavor is 5058\n"
     ]
    }
   ],
   "source": [
    "Double_t nb0 = btable->get(\"B0\");\n",
    "cout << \"Number of events with B0 flavor is \" << nb0 << endl;"
   ]
  },
  {
   "cell_type": "markdown",
   "metadata": {},
   "source": [
    "Retrieve fraction of events with \"lepton\" tag"
   ]
  },
  {
   "cell_type": "code",
   "execution_count": 10,
   "metadata": {
    "collapsed": false
   },
   "outputs": [
    {
     "name": "stdout",
     "output_type": "stream",
     "text": [
      "Fraction of events tagged with Lepton tag is 0.257224\n"
     ]
    }
   ],
   "source": [
    "Double_t fracLep = ttable->getFrac(\"Lepton\");\n",
    "cout << \"Fraction of events tagged with Lepton tag is \" << fracLep << endl;"
   ]
  },
  {
   "cell_type": "markdown",
   "metadata": {},
   "source": [
    "Defining ranges for plotting, fitting on categories\n",
    " ------------------------------------------------------------------------------------------------------"
   ]
  },
  {
   "cell_type": "markdown",
   "metadata": {},
   "source": [
    "Define named range as comma separated list of labels"
   ]
  },
  {
   "cell_type": "code",
   "execution_count": 11,
   "metadata": {
    "collapsed": false
   },
   "outputs": [],
   "source": [
    "tagCat.setRange(\"good\", \"Lepton,Kaon\");"
   ]
  },
  {
   "cell_type": "markdown",
   "metadata": {},
   "source": [
    "Or add state names one by one"
   ]
  },
  {
   "cell_type": "code",
   "execution_count": 12,
   "metadata": {
    "collapsed": false
   },
   "outputs": [],
   "source": [
    "tagCat.addToRange(\"soso\", \"NetTagger-1\");\n",
    "tagCat.addToRange(\"soso\", \"NetTagger-2\");"
   ]
  },
  {
   "cell_type": "markdown",
   "metadata": {},
   "source": [
    "Use category range in dataset reduction specification"
   ]
  },
  {
   "cell_type": "code",
   "execution_count": 13,
   "metadata": {
    "collapsed": false
   },
   "outputs": [
    {
     "name": "stdout",
     "output_type": "stream",
     "text": [
      "\n",
      "  Table tagCat : pData\n",
      "  +-------------+------+\n",
      "  |      Lepton | 2494 |\n",
      "  |        Kaon | 2546 |\n",
      "  | NetTagger-1 |    0 |\n",
      "  | NetTagger-2 |    0 |\n",
      "  +-------------+------+\n",
      "\n"
     ]
    }
   ],
   "source": [
    "RooDataSet *goodData = (RooDataSet *)data->reduce(CutRange(\"good\"));\n",
    "goodData->table(tagCat)->Print(\"v\");"
   ]
  }
 ],
 "metadata": {
  "kernelspec": {
   "display_name": "ROOT C++",
   "language": "c++",
   "name": "root"
  },
  "language_info": {
   "codemirror_mode": "text/x-c++src",
   "file_extension": ".C",
   "mimetype": " text/x-c++src",
   "name": "c++"
  }
 },
 "nbformat": 4,
 "nbformat_minor": 2
}
