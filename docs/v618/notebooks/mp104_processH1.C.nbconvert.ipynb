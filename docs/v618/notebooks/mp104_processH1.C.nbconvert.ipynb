{
 "cells": [
  {
   "cell_type": "markdown",
   "metadata": {},
   "source": [
    "# Mp 1 0 4_Process H 1\n",
    "Illustrate the usage of the multiproc to process the H1 analysis\n",
    "example.\n",
    "\n",
    "\n",
    "\n",
    "\n",
    "**Author:** Gerardo Ganis  \n",
    "<i><small>This notebook tutorial was automatically generated with <a href= \"https://github.com/root-project/root/blob/master/documentation/doxygen/converttonotebook.py\">ROOTBOOK-izer</a> from the macro found in the ROOT repository  on Thursday, August 29, 2019 at 02:18 AM.</small></i>"
   ]
  },
  {
   "cell_type": "code",
   "execution_count": 1,
   "metadata": {
    "collapsed": false
   },
   "outputs": [],
   "source": [
    "%%cpp -d\n",
    "#include \"TString.h\"\n",
    "#include \"TROOT.h\"\n",
    "#include \"TTree.h\"\n",
    "#include \"TH1F.h\"\n",
    "#include \"TH2F.h\"\n",
    "#include \"TEntryList.h\"\n",
    "#include \"TTreeReader.h\"\n",
    "#include \"TTreeReaderArray.h\"\n",
    "#include \"TTreeReaderValue.h\"\n",
    "#include \"TSystem.h\"\n",
    "#include \"TMath.h\"\n",
    "#include \"TCanvas.h\"\n",
    "#include \"TStyle.h\"\n",
    "#include \"TF1.h\"\n",
    "#include \"TLine.h\"\n",
    "#include \"TPaveStats.h\"\n",
    "#include \"TStopwatch.h\"\n",
    "#include \"ROOT/TTreeProcessorMP.hxx\"\n",
    "\n",
    "static std::string tutname = \"mp104_processH1: \";\n",
    "static std::string logfile = \"mp104_processH1.log\";\n",
    "static RedirectHandle_t gRH;\n",
    "\n",
    "std::vector<std::string> files {\"http://root.cern.ch/files/h1/dstarmb.root\",\n",
    "                                \"http://root.cern.ch/files/h1/dstarp1a.root\",\n",
    "                                \"http://root.cern.ch/files/h1/dstarp1b.root\",\n",
    "                                \"http://root.cern.ch/files/h1/dstarp2.root\"};"
   ]
  },
  {
   "cell_type": "markdown",
   "metadata": {},
   "source": [
    "Macosx may generate connection to windowserver errors"
   ]
  },
  {
   "cell_type": "code",
   "execution_count": 2,
   "metadata": {
    "collapsed": false
   },
   "outputs": [],
   "source": [
    "gROOT->SetBatch(kTRUE);\n",
    "\n",
    "TStopwatch stp;"
   ]
  },
  {
   "cell_type": "markdown",
   "metadata": {},
   "source": [
    "Check and fit lambdas"
   ]
  },
  {
   "cell_type": "code",
   "execution_count": 3,
   "metadata": {
    "collapsed": false
   },
   "outputs": [
    {
     "name": "stderr",
     "output_type": "stream",
     "text": [
      "input_line_32:1:10: fatal error: 'mp_H1_lambdas.C' file not found\n",
      "#include \"mp_H1_lambdas.C\"\n",
      "         ^~~~~~~~~~~~~~~~~\n"
     ]
    }
   ],
   "source": [
    "%%cpp -d\n",
    "#include \"mp_H1_lambdas.C\"\n",
    "\n",
    "ROOT::TTreeProcessorMP pool(3);\n",
    "\n",
    "std::cout << tutname << \"processing the H1 dataset with a lambda \\n\";\n",
    "\n",
    "auto hListFun = pool.Process(files, doH1, \"h42\");"
   ]
  },
  {
   "cell_type": "markdown",
   "metadata": {},
   "source": [
    "Check the output"
   ]
  },
  {
   "cell_type": "code",
   "execution_count": 4,
   "metadata": {
    "collapsed": false
   },
   "outputs": [
    {
     "name": "stderr",
     "output_type": "stream",
     "text": [
      "input_line_34:2:11: error: use of undeclared identifier 'hListFun'\n",
      " (checkH1(hListFun) < 0)\n",
      "          ^\n",
      "Error in <HandleInterpreterException>: Error evaluating expression (checkH1(hListFun) < 0).\n",
      "Execution of your code was aborted.\n"
     ]
    }
   ],
   "source": [
    "if (checkH1(hListFun) < 0)\n",
    "   return -1;"
   ]
  },
  {
   "cell_type": "markdown",
   "metadata": {},
   "source": [
    "Do the fit"
   ]
  },
  {
   "cell_type": "code",
   "execution_count": 5,
   "metadata": {
    "collapsed": false
   },
   "outputs": [
    {
     "name": "stderr",
     "output_type": "stream",
     "text": [
      "input_line_36:2:9: error: use of undeclared identifier 'hListFun'\n",
      " (doFit(hListFun, ((*(std::string*)0x7f3f727c9030)).c_str()) < 0)\n",
      "        ^\n",
      "Error in <HandleInterpreterException>: Error evaluating expression (doFit(hListFun, ((*(std::string*)0x7f3f727c9030)).c_str()) < 0).\n",
      "Execution of your code was aborted.\n"
     ]
    }
   ],
   "source": [
    "if (doFit(hListFun, logfile.c_str()) < 0)\n",
    "   return -1;\n",
    "\n",
    "stp.Print();\n",
    "stp.Start();"
   ]
  },
  {
   "cell_type": "markdown",
   "metadata": {},
   "source": [
    "Run the analysis with a selector"
   ]
  },
  {
   "cell_type": "code",
   "execution_count": 6,
   "metadata": {
    "collapsed": false
   },
   "outputs": [
    {
     "name": "stdout",
     "output_type": "stream",
     "text": [
      "mp104_processH1: processing the H1 dataset with selector '/mnt/build/workspace/root-makedoc-v618/rootspi/rdoc/src/v6-18-00-patches.build/tutorials/tree/h1analysisTreeReader.C+'\n"
     ]
    },
    {
     "name": "stderr",
     "output_type": "stream",
     "text": [
      "Info in <TUnixSystem::ACLiC>: creating shared library /mnt/build/workspace/root-makedoc-v618/rootspi/rdoc/src/v6-18-00-patches.build/tutorials/tree/h1analysisTreeReader_C.so\n"
     ]
    }
   ],
   "source": [
    "TString selectorPath = gROOT->GetTutorialDir();\n",
    "selectorPath += \"/tree/h1analysisTreeReader.C+\";\n",
    "std::cout << tutname << \"processing the H1 dataset with selector '\" << selectorPath << \"'\\n\";\n",
    "auto sel = TSelector::GetSelector(selectorPath);"
   ]
  },
  {
   "cell_type": "markdown",
   "metadata": {},
   "source": [
    "In a second run we use sel"
   ]
  },
  {
   "cell_type": "code",
   "execution_count": 7,
   "metadata": {
    "collapsed": false
   },
   "outputs": [
    {
     "name": "stderr",
     "output_type": "stream",
     "text": [
      "input_line_43:3:1: error: Syntax error\n",
      "auto hListSel = pool.Process(files, *sel, \"h42\");\n",
      "^\n",
      "FunctionDecl 0x7f3f51201ac0 <input_line_43:1:1, line:6:1> line:1:6 __cling_Un1Qu38 'void (void *)'\n",
      "|-ParmVarDecl 0x7f3f51201a18 <col:22, col:28> col:28 vpClingValue 'void *'\n",
      "|-CompoundStmt 0x7f3f512021f8 <col:42, line:6:1>\n",
      "| |-CXXMemberCallExpr 0x7f3f51201d10 <line:2:2, col:52> 'Int_t':'int'\n",
      "| | |-MemberExpr 0x7f3f51201bc0 <col:2, col:11> '<bound member function type>' ->RedirectOutput 0x55587f54cb00\n",
      "| | | `-ImplicitCastExpr 0x7f3f51201ba8 <col:2> 'class TSystem *' <LValueToRValue>\n",
      "| | |   `-DeclRefExpr 0x7f3f51201b80 <col:2> 'class TSystem *' lvalue Var 0x555880312318 'gSystem' 'class TSystem *'\n",
      "| | |-CXXMemberCallExpr 0x7f3f51201c58 <col:26, col:40> 'const char *'\n",
      "| | | `-MemberExpr 0x7f3f51201c20 <col:26, col:34> '<bound member function type>' .c_str 0x55587ee7bf50\n",
      "| | |   `-ImplicitCastExpr 0x7f3f51201c80 <col:26> 'const class std::__cxx11::basic_string<char>' lvalue <NoOp>\n",
      "| | |     `-DeclRefExpr 0x7f3f51201bf8 <col:26> 'std::string':'class std::__cxx11::basic_string<char>' lvalue Var 0x5558812aa240 'logfile' 'std::string':'class std::__cxx11::basic_string<char>'\n",
      "| | |-ImplicitCastExpr 0x7f3f51201d50 <col:43> 'const char *' <ArrayToPointerDecay>\n",
      "| | | `-StringLiteral 0x7f3f51201c98 <col:43> 'const char [2]' lvalue \"w\"\n",
      "| | `-UnaryOperator 0x7f3f51201cf0 <col:48, col:49> 'struct RedirectHandle_t *' prefix '&'\n",
      "| |   `-DeclRefExpr 0x7f3f51201cc8 <col:49> 'struct RedirectHandle_t' lvalue Var 0x5558812aa488 'gRH' 'struct RedirectHandle_t'\n",
      "| |-DeclStmt 0x7f3f51202060 <line:3:1, col:49>\n",
      "| | `-VarDecl 0x7f3f51201d78 <col:1, col:48> col:6 hListSel 'auto' cinit\n",
      "| |   `-CallExpr 0x7f3f51201ff8 <col:17, col:48> '<dependent type>'\n",
      "| |     |-CXXDependentScopeMemberExpr 0x7f3f51201ee8 <col:17, col:22> '<dependent type>' lvalue .Process\n",
      "| |     | `-DeclRefExpr 0x7f3f51201ea0 <col:17> '<dependent type>' lvalue Var 0x7f3f51201dd8 'pool' '<dependent type>'\n",
      "| |     |-DeclRefExpr 0x7f3f51201f40 <col:30> 'std::vector<std::string>':'class std::vector<class std::__cxx11::basic_string<char>, class std::allocator<class std::__cxx11::basic_string<char> > >' lvalue Var 0x5558812ab578 'files' 'std::vector<std::string>':'class std::vector<class std::__cxx11::basic_string<char>, class std::allocator<class std::__cxx11::basic_string<char> > >'\n",
      "| |     |-UnaryOperator 0x7f3f51201fa8 <col:37, col:38> 'class TSelector' lvalue prefix '*'\n",
      "| |     | `-ImplicitCastExpr 0x7f3f51201f90 <col:38> 'class TSelector *':'class TSelector *' <LValueToRValue>\n",
      "| |     |   `-DeclRefExpr 0x7f3f51201f68 <col:38> 'class TSelector *':'class TSelector *' lvalue Var 0x7f3f5010f800 'sel' 'class TSelector *':'class TSelector *'\n",
      "| |     `-StringLiteral 0x7f3f51201fc8 <col:43> 'const char [4]' lvalue \"h42\"\n",
      "| |-CXXMemberCallExpr 0x7f3f51202178 <line:4:1, col:35> 'Int_t':'int'\n",
      "| | |-MemberExpr 0x7f3f512020b8 <col:1, col:10> '<bound member function type>' ->RedirectOutput 0x55587f54cb00\n",
      "| | | `-ImplicitCastExpr 0x7f3f512020a0 <col:1> 'class TSystem *' <LValueToRValue>\n",
      "| | |   `-DeclRefExpr 0x7f3f51202078 <col:1> 'class TSystem *' lvalue Var 0x555880312318 'gSystem' 'class TSystem *'\n",
      "| | |-ImplicitCastExpr 0x7f3f512021b8 <col:25> 'const char *' <NullToPointer>\n",
      "| | | `-IntegerLiteral 0x7f3f512020f0 <col:25> 'int' 0\n",
      "| | |-ImplicitCastExpr 0x7f3f512021d0 <col:28> 'const char *' <NullToPointer>\n",
      "| | | `-IntegerLiteral 0x7f3f51202110 <col:28> 'int' 0\n",
      "| | `-UnaryOperator 0x7f3f51202158 <col:31, col:32> 'struct RedirectHandle_t *' prefix '&'\n",
      "| |   `-DeclRefExpr 0x7f3f51202130 <col:32> 'struct RedirectHandle_t' lvalue Var 0x5558812aa488 'gRH' 'struct RedirectHandle_t'\n",
      "| `-NullStmt 0x7f3f512021e8 <line:5:1>\n",
      "`-AnnotateAttr 0x7f3f51201e38 <<invalid sloc>> R\"ATTRDUMP(__ResolveAtRuntime)ATTRDUMP\"\n",
      "<<<NULL>>>\n"
     ]
    }
   ],
   "source": [
    "gSystem->RedirectOutput(logfile.c_str(), \"w\", &gRH);\n",
    "auto hListSel = pool.Process(files, *sel, \"h42\");\n",
    "gSystem->RedirectOutput(0, 0, &gRH);"
   ]
  },
  {
   "cell_type": "markdown",
   "metadata": {},
   "source": [
    "Check the output"
   ]
  },
  {
   "cell_type": "code",
   "execution_count": 8,
   "metadata": {
    "collapsed": false
   },
   "outputs": [
    {
     "name": "stderr",
     "output_type": "stream",
     "text": [
      "input_line_45:2:11: error: use of undeclared identifier 'hListSel'\n",
      " (checkH1(hListSel) < 0)\n",
      "          ^\n",
      "Error in <HandleInterpreterException>: Error evaluating expression (checkH1(hListSel) < 0).\n",
      "Execution of your code was aborted.\n"
     ]
    }
   ],
   "source": [
    "if (checkH1(hListSel) < 0)\n",
    "   return -1;"
   ]
  },
  {
   "cell_type": "markdown",
   "metadata": {},
   "source": [
    "Do the fit"
   ]
  },
  {
   "cell_type": "code",
   "execution_count": 9,
   "metadata": {
    "collapsed": false
   },
   "outputs": [
    {
     "name": "stderr",
     "output_type": "stream",
     "text": [
      "input_line_47:2:9: error: use of undeclared identifier 'hListSel'\n",
      " (doFit(hListSel, ((*(std::string*)0x7f3f727c9030)).c_str()) < 0)\n",
      "        ^\n",
      "Error in <HandleInterpreterException>: Error evaluating expression (doFit(hListSel, ((*(std::string*)0x7f3f727c9030)).c_str()) < 0).\n",
      "Execution of your code was aborted.\n"
     ]
    }
   ],
   "source": [
    "if (doFit(hListSel, logfile.c_str()) < 0)\n",
    "   return -1;\n",
    "\n",
    "stp.Print();\n",
    "stp.Start();\n",
    "\n",
    "return 0;"
   ]
  }
 ],
 "metadata": {
  "kernelspec": {
   "display_name": "ROOT C++",
   "language": "c++",
   "name": "root"
  },
  "language_info": {
   "codemirror_mode": "text/x-c++src",
   "file_extension": ".C",
   "mimetype": " text/x-c++src",
   "name": "c++"
  }
 },
 "nbformat": 4,
 "nbformat_minor": 2
}
