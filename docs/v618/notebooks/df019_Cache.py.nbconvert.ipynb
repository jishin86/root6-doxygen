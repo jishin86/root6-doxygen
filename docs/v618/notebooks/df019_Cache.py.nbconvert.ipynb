{
 "cells": [
  {
   "cell_type": "markdown",
   "metadata": {},
   "source": [
    "# Df 0 1 9_ Cache\n",
    "This tutorial shows how the content of a data frame can be cached in memory\n",
    "in form of a data frame. The content of the columns is stored in memory in\n",
    "contiguous slabs of memory and is \"ready to use\", i.e. no ROOT IO operation\n",
    "is performed.\n",
    "\n",
    "Creating a cached data frame storing all of its content deserialised and uncompressed\n",
    "in memory is particularly useful when dealing with datasets of a moderate size\n",
    "(small enough to fit the RAM) over which several explorative loops need to be\n",
    "performed at as fast as possible. In addition, caching can be useful when no file\n",
    "on disk needs to be created as a side effect of checkpointing part of the analysis.\n",
    "\n",
    "All steps in the caching are lazy, i.e. the cached data frame is actually filled\n",
    "only when the event loop is triggered on it.\n",
    "\n",
    "\n",
    "\n",
    "\n",
    "**Author:** Danilo Piparo  \n",
    "<i><small>This notebook tutorial was automatically generated with <a href= \"https://github.com/root-project/root/blob/master/documentation/doxygen/converttonotebook.py\">ROOTBOOK-izer</a> from the macro found in the ROOT repository  on Thursday, August 29, 2019 at 01:10 AM.</small></i>"
   ]
  },
  {
   "cell_type": "code",
   "execution_count": 1,
   "metadata": {
    "collapsed": false
   },
   "outputs": [
    {
     "name": "stdout",
     "output_type": "stream",
     "text": [
      "Welcome to JupyROOT 6.18/03\n"
     ]
    }
   ],
   "source": [
    "import ROOT\n",
    "RDataFrame = ROOT.ROOT.RDataFrame\n",
    "import os"
   ]
  },
  {
   "cell_type": "markdown",
   "metadata": {},
   "source": [
    "We create a data frame on top of the hsimple example"
   ]
  },
  {
   "cell_type": "code",
   "execution_count": 2,
   "metadata": {
    "collapsed": false
   },
   "outputs": [],
   "source": [
    "hsimplePath = os.path.join(str(ROOT.gROOT.GetTutorialDir().Data()), \"hsimple.root\")\n",
    "df = RDataFrame(\"ntuple\", hsimplePath)"
   ]
  },
  {
   "cell_type": "markdown",
   "metadata": {},
   "source": [
    "e apply a simple cut and define a new column"
   ]
  },
  {
   "cell_type": "code",
   "execution_count": 3,
   "metadata": {
    "collapsed": false
   },
   "outputs": [],
   "source": [
    "df_cut = df.Filter(\"py > 0.f\")\\\n",
    "           .Define(\"px_plus_py\", \"px + py\")"
   ]
  },
  {
   "cell_type": "markdown",
   "metadata": {},
   "source": [
    "We cache the content of the dataset. Nothing has happened yet: the work to accomplish\n",
    "has been described."
   ]
  },
  {
   "cell_type": "code",
   "execution_count": 4,
   "metadata": {
    "collapsed": false
   },
   "outputs": [],
   "source": [
    "df_cached = df_cut.Cache()\n",
    "\n",
    "h = df_cached.Histo1D(\"px_plus_py\")"
   ]
  },
  {
   "cell_type": "markdown",
   "metadata": {},
   "source": [
    "Now the event loop on the cached dataset is triggered. This event triggers the loop\n",
    "on the `df` data frame lazily."
   ]
  },
  {
   "cell_type": "code",
   "execution_count": 5,
   "metadata": {
    "collapsed": false
   },
   "outputs": [],
   "source": [
    "h.Draw()"
   ]
  },
  {
   "cell_type": "markdown",
   "metadata": {},
   "source": [
    "Draw all canvases "
   ]
  },
  {
   "cell_type": "code",
   "execution_count": 6,
   "metadata": {
    "collapsed": false
   },
   "outputs": [
    {
     "data": {
      "image/png": "[encoded data removed]",
      "text/plain": [
       "<IPython.core.display.Image object>"
      ]
     },
     "metadata": {},
     "output_type": "display_data"
    }
   ],
   "source": [
    "from ROOT import gROOT \n",
    "gROOT.GetListOfCanvases().Draw()"
   ]
  }
 ],
 "metadata": {
  "kernelspec": {
   "display_name": "Python 2",
   "language": "python",
   "name": "python2"
  },
  "language_info": {
   "codemirror_mode": {
    "name": "ipython",
    "version": 2
   },
   "file_extension": ".py",
   "mimetype": "text/x-python",
   "name": "python",
   "nbconvert_exporter": "python",
   "pygments_lexer": "ipython2",
   "version": "2.7.10"
  }
 },
 "nbformat": 4,
 "nbformat_minor": 2
}
