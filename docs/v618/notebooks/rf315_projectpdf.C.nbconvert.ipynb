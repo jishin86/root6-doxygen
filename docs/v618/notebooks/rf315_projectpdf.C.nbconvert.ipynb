{
 "cells": [
  {
   "cell_type": "markdown",
   "metadata": {},
   "source": [
    "# Rf 3 1 5_Projectpdf\n",
    "Multidimensional models: marginizalization of multi-dimensional p.d.f.s through integration\n",
    "\n",
    "\n",
    "\n",
    "**Author:** 07/2008 - Wouter Verkerke  \n",
    "<i><small>This notebook tutorial was automatically generated with <a href= \"https://github.com/root-project/root/blob/master/documentation/doxygen/converttonotebook.py\">ROOTBOOK-izer</a> from the macro found in the ROOT repository  on Thursday, August 29, 2019 at 02:51 AM.</small></i>"
   ]
  },
  {
   "cell_type": "code",
   "execution_count": 1,
   "metadata": {
    "collapsed": false
   },
   "outputs": [],
   "source": [
    "%%cpp -d\n",
    "#include \"RooRealVar.h\"\n",
    "#include \"RooDataHist.h\"\n",
    "#include \"RooGaussian.h\"\n",
    "#include \"RooProdPdf.h\"\n",
    "#include \"RooPolyVar.h\"\n",
    "#include \"TH1.h\"\n",
    "#include \"TCanvas.h\"\n",
    "#include \"TAxis.h\"\n",
    "#include \"RooPlot.h\"\n",
    "#include \"RooNumIntConfig.h\"\n",
    "#include \"RooConstVar.h\""
   ]
  },
  {
   "cell_type": "code",
   "execution_count": 2,
   "metadata": {
    "collapsed": false
   },
   "outputs": [],
   "source": [
    "%%cpp -d\n",
    "// This is a workaround to make sure the namespace is used inside functions\n",
    "using namespace RooFit;"
   ]
  },
  {
   "cell_type": "markdown",
   "metadata": {},
   "source": [
    "Create pdf m(x,y) = gx(x|y)*g(y)\n",
    " --------------------------------------------------------------"
   ]
  },
  {
   "cell_type": "markdown",
   "metadata": {},
   "source": [
    "Increase default precision of numeric integration\n",
    " as this exercise has high sensitivity to numeric integration precision"
   ]
  },
  {
   "cell_type": "code",
   "execution_count": 3,
   "metadata": {
    "collapsed": false
   },
   "outputs": [
    {
     "name": "stdout",
     "output_type": "stream",
     "text": [
      "\n",
      "\u001b[1mRooFit v3.60 -- Developed by Wouter Verkerke and David Kirkby\u001b[0m \n",
      "                Copyright (C) 2000-2013 NIKHEF, University of California & Stanford University\n",
      "                All rights reserved, please read http://roofit.sourceforge.net/license.txt\n",
      "\n"
     ]
    }
   ],
   "source": [
    "RooAbsPdf::defaultIntegratorConfig()->setEpsRel(1e-8);\n",
    "RooAbsPdf::defaultIntegratorConfig()->setEpsAbs(1e-8);"
   ]
  },
  {
   "cell_type": "markdown",
   "metadata": {},
   "source": [
    "Create observables"
   ]
  },
  {
   "cell_type": "code",
   "execution_count": 4,
   "metadata": {
    "collapsed": false
   },
   "outputs": [],
   "source": [
    "RooRealVar x(\"x\", \"x\", -5, 5);\n",
    "RooRealVar y(\"y\", \"y\", -2, 2);"
   ]
  },
  {
   "cell_type": "markdown",
   "metadata": {},
   "source": [
    "Create function f(y) = a0 + a1*y"
   ]
  },
  {
   "cell_type": "code",
   "execution_count": 5,
   "metadata": {
    "collapsed": false
   },
   "outputs": [],
   "source": [
    "RooRealVar a0(\"a0\", \"a0\", 0);\n",
    "RooRealVar a1(\"a1\", \"a1\", -1.5, -3, 1);\n",
    "RooPolyVar fy(\"fy\", \"fy\", y, RooArgSet(a0, a1));"
   ]
  },
  {
   "cell_type": "markdown",
   "metadata": {},
   "source": [
    "Create gaussx(x,f(y),sx)"
   ]
  },
  {
   "cell_type": "code",
   "execution_count": 6,
   "metadata": {
    "collapsed": false
   },
   "outputs": [],
   "source": [
    "RooRealVar sigmax(\"sigmax\", \"width of gaussian\", 0.5);\n",
    "RooGaussian gaussx(\"gaussx\", \"Gaussian in x with shifting mean in y\", x, fy, sigmax);"
   ]
  },
  {
   "cell_type": "markdown",
   "metadata": {},
   "source": [
    "Create gaussy(y,0,2)"
   ]
  },
  {
   "cell_type": "code",
   "execution_count": 7,
   "metadata": {
    "collapsed": false
   },
   "outputs": [],
   "source": [
    "RooGaussian gaussy(\"gaussy\", \"Gaussian in y\", y, RooConst(0), RooConst(2));"
   ]
  },
  {
   "cell_type": "markdown",
   "metadata": {},
   "source": [
    "Create gaussx(x,sx|y) * gaussy(y)"
   ]
  },
  {
   "cell_type": "code",
   "execution_count": 8,
   "metadata": {
    "collapsed": false
   },
   "outputs": [],
   "source": [
    "RooProdPdf model(\"model\", \"gaussx(x|y)*gaussy(y)\", gaussy, Conditional(gaussx, x));"
   ]
  },
  {
   "cell_type": "markdown",
   "metadata": {},
   "source": [
    "Marginalize m(x,y) to m(x)\n",
    " ----------------------------------------------------"
   ]
  },
  {
   "cell_type": "markdown",
   "metadata": {},
   "source": [
    "Modelx(x) = int model(x,y) dy"
   ]
  },
  {
   "cell_type": "code",
   "execution_count": 9,
   "metadata": {
    "collapsed": false
   },
   "outputs": [],
   "source": [
    "RooAbsPdf *modelx = model.createProjection(y);"
   ]
  },
  {
   "cell_type": "markdown",
   "metadata": {},
   "source": [
    "Use marginalized p.d.f. as regular 1-d p.d.f.\n",
    " ------------------------------------------------------------------------------------------"
   ]
  },
  {
   "cell_type": "markdown",
   "metadata": {},
   "source": [
    "Sample 1000 events from modelx"
   ]
  },
  {
   "cell_type": "code",
   "execution_count": 10,
   "metadata": {
    "collapsed": false
   },
   "outputs": [
    {
     "name": "stdout",
     "output_type": "stream",
     "text": [
      "[#1] INFO:NumericIntegration -- RooRealIntegral::init([gaussy_NORM[y]_X_gaussx_NORM[x]]_Int[y]) using numeric integrator RooIntegrator1D to calculate Int(y)\n"
     ]
    }
   ],
   "source": [
    "RooAbsData *data = modelx->generateBinned(x, 1000);"
   ]
  },
  {
   "cell_type": "markdown",
   "metadata": {},
   "source": [
    "Fit modelx to toy data"
   ]
  },
  {
   "cell_type": "code",
   "execution_count": 11,
   "metadata": {
    "collapsed": false
   },
   "outputs": [
    {
     "name": "stdout",
     "output_type": "stream",
     "text": [
      "[#1] INFO:NumericIntegration -- RooRealIntegral::init([gaussy_NORM[y]_X_gaussx_NORM[x]]_Int[y]) using numeric integrator RooIntegrator1D to calculate Int(y)\n",
      "[#1] INFO:Minization -- RooMinimizer::optimizeConst: activating const optimization\n",
      "[#1] INFO:Minization --  The following expressions will be evaluated in cache-and-track mode: (gaussx)\n",
      "[#0] WARNING:Minization -- RooMinimizerFcn::synchronize: WARNING: no initial error estimate available for a1: using 0.4\n",
      " **********\n",
      " **    1 **SET PRINT           1\n",
      " **********\n",
      " **********\n",
      " **    2 **SET NOGRAD\n",
      " **********\n",
      " PARAMETER DEFINITIONS:\n",
      "    NO.   NAME         VALUE      STEP SIZE      LIMITS\n",
      "     1 a1          -1.50000e+00  4.00000e-01   -3.00000e+00  1.00000e+00\n",
      " **********\n",
      " **    3 **SET ERR         0.5\n",
      " **********\n",
      " **********\n",
      " **    4 **SET PRINT           1\n",
      " **********\n",
      " **********\n",
      " **    5 **SET STR           1\n",
      " **********\n",
      " NOW USING STRATEGY  1: TRY TO BALANCE SPEED AGAINST RELIABILITY\n",
      " **********\n",
      " **    6 **MIGRAD         500           1\n",
      " **********\n",
      " FIRST CALL TO USER FUNCTION AT NEW START POINT, WITH IFLAG=4.\n",
      "\n",
      "prevFCN = 1900.156536   START MIGRAD MINIMIZATION.  STRATEGY  1.  CONVERGENCE WHEN EDM .LT. 1.00e-03\n",
      "a1=-1.491, \n",
      "prevFCN = 1900.000822  a1=-1.509, \n",
      "prevFCN = 1900.423606  a1=-1.499, \n",
      "prevFCN = 1900.135899  a1=-1.501, \n",
      "prevFCN = 1900.178287   FCN=1900.16 FROM MIGRAD    STATUS=INITIATE        4 CALLS           5 TOTAL\n",
      "                     EDM= unknown      STRATEGY= 1      NO ERROR MATRIX       \n",
      "  EXT PARAMETER               CURRENT GUESS       STEP         FIRST   \n",
      "  NO.   NAME      VALUE            ERROR          SIZE      DERIVATIVE \n",
      "   1  a1          -1.50000e+00   4.00000e-01   2.08372e-01  -4.77802e+01\n",
      "                               ERR DEF= 0.5\n",
      "a1=-1.484, \n",
      "prevFCN = 1899.958651  a1=-1.483, \n",
      "prevFCN = 1899.959675  a1=-1.484, \n",
      "prevFCN = 1899.958586  a1=-1.484, \n",
      "prevFCN = 1899.958497  a1=-1.483, \n",
      "prevFCN = 1899.958935  a1=-1.485, \n",
      "prevFCN = 1899.958964   MIGRAD MINIMIZATION HAS CONVERGED.\n",
      " MIGRAD WILL VERIFY CONVERGENCE AND ERROR MATRIX.\n",
      "a1=-1.484, \n",
      "prevFCN = 1899.958497  a1=-1.483, \n",
      "prevFCN = 1899.958935  a1=-1.485, \n",
      "prevFCN = 1899.958964  a1=-1.484, \n",
      "prevFCN = 1899.958512  a1=-1.484, \n",
      "prevFCN = 1899.958518   COVARIANCE MATRIX CALCULATED SUCCESSFULLY\n",
      " FCN=1899.96 FROM MIGRAD    STATUS=CONVERGED      15 CALLS          16 TOTAL\n",
      "                     EDM=2.41873e-07    STRATEGY= 1      ERROR MATRIX ACCURATE \n",
      "  EXT PARAMETER                                   STEP         FIRST   \n",
      "  NO.   NAME      VALUE            ERROR          SIZE      DERIVATIVE \n",
      "   1  a1          -1.48409e+00   2.51054e-02   3.89173e-04  -3.80132e-02\n",
      "                               ERR DEF= 0.5\n",
      " EXTERNAL ERROR MATRIX.    NDIM=  25    NPAR=  1    ERR DEF=0.5\n",
      "  6.303e-04 \n",
      "a1=-1.484,  **********\n",
      " **    7 **SET ERR         0.5\n",
      " **********\n",
      " **********\n",
      " **    8 **SET PRINT           1\n",
      " **********\n",
      " **********\n",
      " **    9 **HESSE         500\n",
      " **********\n",
      "\n",
      "prevFCN = 1899.958497  a1=-1.484, \n",
      "prevFCN = 1899.958512  a1=-1.484, \n",
      "prevFCN = 1899.958518  a1=-1.484, \n",
      "prevFCN = 1899.958497  a1=-1.484, \n",
      "prevFCN = 1899.958498   COVARIANCE MATRIX CALCULATED SUCCESSFULLY\n",
      " FCN=1899.96 FROM HESSE     STATUS=OK              5 CALLS          21 TOTAL\n",
      "                     EDM=2.42353e-07    STRATEGY= 1      ERROR MATRIX ACCURATE \n",
      "  EXT PARAMETER                                INTERNAL      INTERNAL  \n",
      "  NO.   NAME      VALUE            ERROR       STEP SIZE       VALUE   \n",
      "   1  a1          -1.48409e+00   2.51054e-02   7.78346e-05  -2.44471e-01\n",
      "                               ERR DEF= 0.5\n",
      " EXTERNAL ERROR MATRIX.    NDIM=  25    NPAR=  1    ERR DEF=0.5\n",
      "  6.303e-04 \n",
      "a1=-1.484, [#1] INFO:Minization -- RooMinimizer::optimizeConst: deactivating const optimization\n"
     ]
    }
   ],
   "source": [
    "modelx->fitTo(*data, Verbose());"
   ]
  },
  {
   "cell_type": "markdown",
   "metadata": {},
   "source": [
    "Plot modelx over data"
   ]
  },
  {
   "cell_type": "code",
   "execution_count": 12,
   "metadata": {
    "collapsed": false
   },
   "outputs": [
    {
     "name": "stdout",
     "output_type": "stream",
     "text": [
      "[#1] INFO:NumericIntegration -- RooRealIntegral::init([gaussy_NORM[y]_X_gaussx_NORM[x]]_Int[y]) using numeric integrator RooIntegrator1D to calculate Int(y)\n"
     ]
    }
   ],
   "source": [
    "RooPlot *frame = x.frame(40);\n",
    "data->plotOn(frame);\n",
    "modelx->plotOn(frame);"
   ]
  },
  {
   "cell_type": "markdown",
   "metadata": {},
   "source": [
    "Make 2d histogram of model(x,y)"
   ]
  },
  {
   "cell_type": "code",
   "execution_count": 13,
   "metadata": {
    "collapsed": false
   },
   "outputs": [],
   "source": [
    "TH1 *hh = model.createHistogram(\"x,y\");\n",
    "hh->SetLineColor(kBlue);\n",
    "\n",
    "TCanvas *c = new TCanvas(\"rf315_projectpdf\", \"rf315_projectpdf\", 800, 400);\n",
    "c->Divide(2);\n",
    "c->cd(1);\n",
    "gPad->SetLeftMargin(0.15);\n",
    "frame->GetYaxis()->SetTitleOffset(1.4);\n",
    "frame->Draw();\n",
    "c->cd(2);\n",
    "gPad->SetLeftMargin(0.20);\n",
    "hh->GetZaxis()->SetTitleOffset(2.5);\n",
    "hh->Draw(\"surf\");"
   ]
  },
  {
   "cell_type": "markdown",
   "metadata": {},
   "source": [
    "Draw all canvases "
   ]
  },
  {
   "cell_type": "code",
   "execution_count": 14,
   "metadata": {
    "collapsed": false
   },
   "outputs": [
    {
     "data": {
      "image/png": "[encoded data removed]",
      "text/plain": [
       "<IPython.core.display.Image object>"
      ]
     },
     "metadata": {},
     "output_type": "display_data"
    }
   ],
   "source": [
    "gROOT->GetListOfCanvases()->Draw()"
   ]
  }
 ],
 "metadata": {
  "kernelspec": {
   "display_name": "ROOT C++",
   "language": "c++",
   "name": "root"
  },
  "language_info": {
   "codemirror_mode": "text/x-c++src",
   "file_extension": ".C",
   "mimetype": " text/x-c++src",
   "name": "c++"
  }
 },
 "nbformat": 4,
 "nbformat_minor": 2
}
