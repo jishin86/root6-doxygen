{
 "cells": [
  {
   "cell_type": "markdown",
   "metadata": {},
   "source": [
    "# Rf 5 0 4_Simwstool\n",
    "Organisation and simultaneous fits: using RooSimWSTool to construct a simultaneous p.d.f that is built of variations\n",
    "of an input p.d.f\n",
    "\n",
    "\n",
    "\n",
    "**Author:** 07/2008 - Wouter Verkerke  \n",
    "<i><small>This notebook tutorial was automatically generated with <a href= \"https://github.com/root-project/root/blob/master/documentation/doxygen/converttonotebook.py\">ROOTBOOK-izer</a> from the macro found in the ROOT repository  on Thursday, August 29, 2019 at 02:55 AM.</small></i>"
   ]
  },
  {
   "cell_type": "code",
   "execution_count": 1,
   "metadata": {
    "collapsed": false
   },
   "outputs": [],
   "source": [
    "%%cpp -d\n",
    "#include \"RooRealVar.h\"\n",
    "#include \"RooCategory.h\"\n",
    "#include \"RooDataSet.h\"\n",
    "#include \"RooGaussian.h\"\n",
    "#include \"RooConstVar.h\"\n",
    "#include \"RooPolynomial.h\"\n",
    "#include \"RooSimultaneous.h\"\n",
    "#include \"RooAddPdf.h\"\n",
    "#include \"RooWorkspace.h\"\n",
    "#include \"RooSimWSTool.h\"\n",
    "#include \"RooPlot.h\"\n",
    "#include \"TCanvas.h\"\n",
    "#include \"TAxis.h\"\n",
    "#include \"TFile.h\"\n",
    "#include \"TH1.h\""
   ]
  },
  {
   "cell_type": "code",
   "execution_count": 2,
   "metadata": {
    "collapsed": false
   },
   "outputs": [],
   "source": [
    "%%cpp -d\n",
    "// This is a workaround to make sure the namespace is used inside functions\n",
    "using namespace RooFit;"
   ]
  },
  {
   "cell_type": "markdown",
   "metadata": {},
   "source": [
    "Create master pdf\n",
    " ---------------------------------"
   ]
  },
  {
   "cell_type": "markdown",
   "metadata": {},
   "source": [
    "Construct gauss(x,m,s)"
   ]
  },
  {
   "cell_type": "code",
   "execution_count": 3,
   "metadata": {
    "collapsed": false
   },
   "outputs": [
    {
     "name": "stdout",
     "output_type": "stream",
     "text": [
      "\n",
      "\u001b[1mRooFit v3.60 -- Developed by Wouter Verkerke and David Kirkby\u001b[0m \n",
      "                Copyright (C) 2000-2013 NIKHEF, University of California & Stanford University\n",
      "                All rights reserved, please read http://roofit.sourceforge.net/license.txt\n",
      "\n"
     ]
    }
   ],
   "source": [
    "RooRealVar x(\"x\", \"x\", -10, 10);\n",
    "RooRealVar m(\"m\", \"m\", 0, -10, 10);\n",
    "RooRealVar s(\"s\", \"s\", 1, -10, 10);\n",
    "RooGaussian gauss(\"g\", \"g\", x, m, s);"
   ]
  },
  {
   "cell_type": "markdown",
   "metadata": {},
   "source": [
    "Construct poly(x,p0)"
   ]
  },
  {
   "cell_type": "code",
   "execution_count": 4,
   "metadata": {
    "collapsed": false
   },
   "outputs": [],
   "source": [
    "RooRealVar p0(\"p0\", \"p0\", 0.01, 0., 1.);\n",
    "RooPolynomial poly(\"p\", \"p\", x, p0);"
   ]
  },
  {
   "cell_type": "markdown",
   "metadata": {},
   "source": [
    "Construct model = f*gauss(x) + (1-f)*poly(x)"
   ]
  },
  {
   "cell_type": "code",
   "execution_count": 5,
   "metadata": {
    "collapsed": false
   },
   "outputs": [],
   "source": [
    "RooRealVar f(\"f\", \"f\", 0.5, 0., 1.);\n",
    "RooAddPdf model(\"model\", \"model\", RooArgSet(gauss, poly), f);"
   ]
  },
  {
   "cell_type": "markdown",
   "metadata": {},
   "source": [
    "Create category observables for splitting\n",
    " ----------------------------------------------------------------------------------"
   ]
  },
  {
   "cell_type": "markdown",
   "metadata": {},
   "source": [
    "Define two categories that can be used for splitting"
   ]
  },
  {
   "cell_type": "code",
   "execution_count": 6,
   "metadata": {
    "collapsed": false
   },
   "outputs": [],
   "source": [
    "RooCategory c(\"c\", \"c\");\n",
    "c.defineType(\"run1\");\n",
    "c.defineType(\"run2\");\n",
    "\n",
    "RooCategory d(\"d\", \"d\");\n",
    "d.defineType(\"foo\");\n",
    "d.defineType(\"bar\");"
   ]
  },
  {
   "cell_type": "markdown",
   "metadata": {},
   "source": [
    "Setup simwstool\n",
    " -----------------------------"
   ]
  },
  {
   "cell_type": "markdown",
   "metadata": {},
   "source": [
    "Import ingredients in a workspace"
   ]
  },
  {
   "cell_type": "code",
   "execution_count": 7,
   "metadata": {
    "collapsed": false
   },
   "outputs": [
    {
     "name": "stdout",
     "output_type": "stream",
     "text": [
      "[#1] INFO:ObjectHandling -- RooWorkspace::import(w) importing RooAddPdf::model\n",
      "[#1] INFO:ObjectHandling -- RooWorkspace::import(w) importing RooGaussian::g\n",
      "[#1] INFO:ObjectHandling -- RooWorkspace::import(w) importing RooRealVar::x\n",
      "[#1] INFO:ObjectHandling -- RooWorkspace::import(w) importing RooRealVar::m\n",
      "[#1] INFO:ObjectHandling -- RooWorkspace::import(w) importing RooRealVar::s\n",
      "[#1] INFO:ObjectHandling -- RooWorkspace::import(w) importing RooRealVar::f\n",
      "[#1] INFO:ObjectHandling -- RooWorkspace::import(w) importing RooPolynomial::p\n",
      "[#1] INFO:ObjectHandling -- RooWorkspace::import(w) importing RooRealVar::p0\n",
      "[#1] INFO:ObjectHandling -- RooWorkspace::import(w) importing RooCategory::c\n",
      "[#1] INFO:ObjectHandling -- RooWorkspace::import(w) importing RooCategory::d\n"
     ]
    }
   ],
   "source": [
    "RooWorkspace w(\"w\", \"w\");\n",
    "w.import(RooArgSet(model, c, d));"
   ]
  },
  {
   "cell_type": "markdown",
   "metadata": {},
   "source": [
    "Make sim builder tool"
   ]
  },
  {
   "cell_type": "code",
   "execution_count": 8,
   "metadata": {
    "collapsed": false
   },
   "outputs": [],
   "source": [
    "RooSimWSTool sct(w);"
   ]
  },
  {
   "cell_type": "markdown",
   "metadata": {},
   "source": [
    "Build a simultaneous model with one split\n",
    " ---------------------------------------------------------------------------------"
   ]
  },
  {
   "cell_type": "markdown",
   "metadata": {},
   "source": [
    "Construct a simultaneous p.d.f with the following form\n",
    "\n",
    " model_run1(x) = f*gauss_run1(x,m_run1,s) + (1-f)*poly\n",
    " model_run2(x) = f*gauss_run2(x,m_run2,s) + (1-f)*poly\n",
    " simpdf(x,c) = model_run1(x) if c==\"run1\"\n",
    "             = model_run2(x) if c==\"run2\"\n",
    "\n",
    " Returned p.d.f is owned by the workspace"
   ]
  },
  {
   "cell_type": "code",
   "execution_count": 9,
   "metadata": {
    "collapsed": false
   },
   "outputs": [
    {
     "name": "stdout",
     "output_type": "stream",
     "text": [
      "Splitrule for p.d.f model with state list \n",
      " parameter m is split with constraint in categories (c)\n",
      "[#1] INFO:ObjectHandling -- RooSimWSTool::executeBuild: list of prototype pdfs (model)\n",
      "[#1] INFO:ObjectHandling -- RooSimWSTool::executeBuild: list of splitting categories (c)\n",
      "[#1] INFO:ObjectHandling -- RooSimPdfBuilder::executeBuild: processing prototype pdf model\n",
      "[#1] INFO:ObjectHandling -- RooSimWSTool::executeBuild: configured customizers for all prototype pdfs\n",
      "[#1] INFO:ObjectHandling -- RooSimWSTool::executeBuild: Customizing prototype pdf model for mode run1\n",
      "[#1] INFO:ObjectHandling -- RooSimWSTool::executeBuild: Customizing prototype pdf model for mode run2\n",
      "[#1] INFO:ObjectHandling -- RooWorkspace::import(w) importing RooSimultaneous::model_sim\n",
      "[#1] INFO:ObjectHandling -- RooWorkspace::import(w) importing RooAddPdf::model_run1\n",
      "[#1] INFO:ObjectHandling -- RooWorkspace::import(w) importing RooGaussian::g_run1\n",
      "[#1] INFO:ObjectHandling -- RooWorkspace::import(w) importing RooRealVar::m_run1\n",
      "[#1] INFO:ObjectHandling -- RooWorkspace::import(w) importing RooAddPdf::model_run2\n",
      "[#1] INFO:ObjectHandling -- RooWorkspace::import(w) importing RooGaussian::g_run2\n",
      "[#1] INFO:ObjectHandling -- RooWorkspace::import(w) importing RooRealVar::m_run2\n"
     ]
    }
   ],
   "source": [
    "RooSimultaneous *model_sim = sct.build(\"model_sim\", \"model\", SplitParam(\"m\", \"c\"));"
   ]
  },
  {
   "cell_type": "markdown",
   "metadata": {},
   "source": [
    "Print tree structure of model"
   ]
  },
  {
   "cell_type": "code",
   "execution_count": 10,
   "metadata": {
    "collapsed": false
   },
   "outputs": [
    {
     "name": "stdout",
     "output_type": "stream",
     "text": [
      "0x7f0af852e7f0 RooSimultaneous::model_sim = 1 [Auto,Dirty] \n",
      "  0x7f0af853b2e0/V- RooAddPdf::model_run1 = 1 [Auto,Dirty] \n",
      "    0x7f0af859ada0/V- RooGaussian::g_run1 = 1 [Auto,Dirty] \n",
      "      0x7f0af859c750/V- RooRealVar::m_run1 = 0\n",
      "      0x7f0af851c8e0/V- RooRealVar::x = 0\n",
      "      0x7f0af8470960/V- RooRealVar::s = 1\n",
      "    0x7f0af8512cb0/V- RooRealVar::f = 0.5\n",
      "    0x7f0af8504aa0/V- RooPolynomial::p = 1 [Auto,Dirty] \n",
      "      0x7f0af851c8e0/V- RooRealVar::x = 0\n",
      "      0x7f0af8504f70/V- RooRealVar::p0 = 0.01\n",
      "  0x7f0af859cf30/V- RooAddPdf::model_run2 = 1 [Auto,Dirty] \n",
      "    0x7f0af8544e40/V- RooGaussian::g_run2 = 1 [Auto,Dirty] \n",
      "      0x7f0af8545e50/V- RooRealVar::m_run2 = 0\n",
      "      0x7f0af851c8e0/V- RooRealVar::x = 0\n",
      "      0x7f0af8470960/V- RooRealVar::s = 1\n",
      "    0x7f0af8512cb0/V- RooRealVar::f = 0.5\n",
      "    0x7f0af8504aa0/V- RooPolynomial::p = 1 [Auto,Dirty] \n",
      "      0x7f0af851c8e0/V- RooRealVar::x = 0\n",
      "      0x7f0af8504f70/V- RooRealVar::p0 = 0.01\n",
      "  0x7f0af846b1d0/V- RooCategory::c = run2(idx = 1)\n",
      "\n"
     ]
    }
   ],
   "source": [
    "model_sim->Print(\"t\");"
   ]
  },
  {
   "cell_type": "markdown",
   "metadata": {},
   "source": [
    "Adjust model_sim parameters in workspace"
   ]
  },
  {
   "cell_type": "code",
   "execution_count": 11,
   "metadata": {
    "collapsed": false
   },
   "outputs": [],
   "source": [
    "w.var(\"m_run1\")->setVal(-3);\n",
    "w.var(\"m_run2\")->setVal(+3);"
   ]
  },
  {
   "cell_type": "markdown",
   "metadata": {},
   "source": [
    "Print contents of workspace"
   ]
  },
  {
   "cell_type": "code",
   "execution_count": 12,
   "metadata": {
    "collapsed": false
   },
   "outputs": [
    {
     "name": "stdout",
     "output_type": "stream",
     "text": [
      "\n",
      "RooWorkspace(w) w contents\n",
      "\n",
      "variables\n",
      "---------\n",
      "(c,d,f,m,m_run1,m_run2,p0,s,x)\n",
      "\n",
      "p.d.f.s\n",
      "-------\n",
      "RooGaussian::g[ x=x mean=m sigma=s ] = 1\n",
      "RooGaussian::g_run1[ x=x mean=m_run1 sigma=s ] = 0.011109\n",
      "RooGaussian::g_run2[ x=x mean=m_run2 sigma=s ] = 0.011109\n",
      "RooAddPdf::model[ f * g + [%] * p ] = 1\n",
      "RooAddPdf::model_run1[ f * g_run1 + [%] * p ] = 0.505554\n",
      "RooAddPdf::model_run2[ f * g_run2 + [%] * p ] = 0.505554\n",
      "RooSimultaneous::model_sim[ indexCat=c run1=model_run1 run2=model_run2 ] = 0.505554\n",
      "RooPolynomial::p[ x=x coefList=(p0) ] = 1\n",
      "\n"
     ]
    }
   ],
   "source": [
    "w.Print(\"v\");"
   ]
  },
  {
   "cell_type": "markdown",
   "metadata": {},
   "source": [
    "Build a simultaneous model with product split\n",
    " -----------------------------------------------------------------------------------------"
   ]
  },
  {
   "cell_type": "markdown",
   "metadata": {},
   "source": [
    "Build another simultaneous p.d.f using a composite split in states c x d"
   ]
  },
  {
   "cell_type": "code",
   "execution_count": 13,
   "metadata": {
    "collapsed": false
   },
   "outputs": [
    {
     "name": "stdout",
     "output_type": "stream",
     "text": [
      "Splitrule for p.d.f model with state list \n",
      " parameter p0 is split with constraint in categories (c,d)\n",
      "[#1] INFO:ObjectHandling -- RooSimWSTool::executeBuild: list of prototype pdfs (model)\n",
      "[#1] INFO:ObjectHandling -- RooSimWSTool::executeBuild: list of splitting categories (c,d)\n",
      "[#1] INFO:ObjectHandling -- RooSimPdfBuilder::executeBuild: processing prototype pdf model\n",
      "[#1] INFO:ObjectHandling -- RooWorkspace::import(w) importing RooMultiCategory::c,d\n",
      "[#1] INFO:ObjectHandling -- RooSimWSTool::executeBuild: configured customizers for all prototype pdfs\n",
      "[#1] INFO:ObjectHandling -- RooSimWSTool::executeBuild: Customizing prototype pdf model for mode {run1;foo}\n",
      "[#1] INFO:ObjectHandling -- RooSimWSTool::executeBuild: Customizing prototype pdf model for mode {run2;foo}\n",
      "[#1] INFO:ObjectHandling -- RooSimWSTool::executeBuild: Customizing prototype pdf model for mode {run1;bar}\n",
      "[#1] INFO:ObjectHandling -- RooSimWSTool::executeBuild: Customizing prototype pdf model for mode {run2;bar}\n",
      "[#1] INFO:ObjectHandling -- RooWorkspace::import(w) importing RooSimultaneous::model_sim2\n",
      "[#1] INFO:ObjectHandling -- RooWorkspace::import(w) importing RooSuperCategory::model_sim2_index\n",
      "[#1] INFO:ObjectHandling -- RooWorkspace::import(w) importing RooAddPdf::model_{run1;foo}\n",
      "[#1] INFO:ObjectHandling -- RooWorkspace::import(w) importing RooPolynomial::p_{run1;foo}\n",
      "[#1] INFO:ObjectHandling -- RooWorkspace::import(w) importing RooRealVar::p0_{run1;foo}\n",
      "[#1] INFO:ObjectHandling -- RooWorkspace::import(w) importing RooAddPdf::model_{run2;foo}\n",
      "[#1] INFO:ObjectHandling -- RooWorkspace::import(w) importing RooPolynomial::p_{run2;foo}\n",
      "[#1] INFO:ObjectHandling -- RooWorkspace::import(w) importing RooRealVar::p0_{run2;foo}\n",
      "[#1] INFO:ObjectHandling -- RooWorkspace::import(w) importing RooAddPdf::model_{run1;bar}\n",
      "[#1] INFO:ObjectHandling -- RooWorkspace::import(w) importing RooPolynomial::p_{run1;bar}\n",
      "[#1] INFO:ObjectHandling -- RooWorkspace::import(w) importing RooRealVar::p0_{run1;bar}\n",
      "[#1] INFO:ObjectHandling -- RooWorkspace::import(w) importing RooAddPdf::model_{run2;bar}\n",
      "[#1] INFO:ObjectHandling -- RooWorkspace::import(w) importing RooPolynomial::p_{run2;bar}\n",
      "[#1] INFO:ObjectHandling -- RooWorkspace::import(w) importing RooRealVar::p0_{run2;bar}\n"
     ]
    }
   ],
   "source": [
    "RooSimultaneous *model_sim2 = sct.build(\"model_sim2\", \"model\", SplitParam(\"p0\", \"c,d\"));"
   ]
  },
  {
   "cell_type": "markdown",
   "metadata": {},
   "source": [
    "Print tree structure of this model"
   ]
  },
  {
   "cell_type": "code",
   "execution_count": 14,
   "metadata": {
    "collapsed": false
   },
   "outputs": [
    {
     "name": "stdout",
     "output_type": "stream",
     "text": [
      "0x7f0af8598400 RooSimultaneous::model_sim2 = 1 [Auto,Dirty] \n",
      "  0x7f0af858d860/V- RooSuperCategory::model_sim2_index = {run2;bar}(idx = 3)\n",
      " [Auto,Clean] \n",
      "    0x7f0af846b1d0/VS RooCategory::c = run2(idx = 1)\n",
      "\n",
      "    0x7f0af8468ae0/VS RooCategory::d = bar(idx = 1)\n",
      "\n",
      "  0x7f0af857d300/V- RooAddPdf::model_{run1;foo} = 1 [Auto,Dirty] \n",
      "    0x7f0af85841d0/V- RooPolynomial::p_{run1;foo} = 1 [Auto,Dirty] \n",
      "      0x7f0af8585140/V- RooRealVar::p0_{run1;foo} = 0.01\n",
      "      0x7f0af851c8e0/V- RooRealVar::x = 0\n",
      "    0x7f0af8077dc0/V- RooGaussian::g = 1 [Auto,Dirty] \n",
      "      0x7f0af851c8e0/V- RooRealVar::x = 0\n",
      "      0x7f0af8079d40/V- RooRealVar::m = 0\n",
      "      0x7f0af8470960/V- RooRealVar::s = 1\n",
      "    0x7f0af8512cb0/V- RooRealVar::f = 0.5\n",
      "  0x7f0af858b890/V- RooAddPdf::model_{run2;foo} = 1 [Auto,Dirty] \n",
      "    0x7f0af858c990/V- RooPolynomial::p_{run2;foo} = 1 [Auto,Dirty] \n",
      "      0x7f0af8567040/V- RooRealVar::p0_{run2;foo} = 0.01\n",
      "      0x7f0af851c8e0/V- RooRealVar::x = 0\n",
      "    0x7f0af8077dc0/V- RooGaussian::g = 1 [Auto,Dirty] \n",
      "      0x7f0af851c8e0/V- RooRealVar::x = 0\n",
      "      0x7f0af8079d40/V- RooRealVar::m = 0\n",
      "      0x7f0af8470960/V- RooRealVar::s = 1\n",
      "    0x7f0af8512cb0/V- RooRealVar::f = 0.5\n",
      "  0x7f0af85678d0/V- RooAddPdf::model_{run1;bar} = 1 [Auto,Dirty] \n",
      "    0x7f0af8658e00/V- RooPolynomial::p_{run1;bar} = 1 [Auto,Dirty] \n",
      "      0x7f0af84c7e00/V- RooRealVar::p0_{run1;bar} = 0.01\n",
      "      0x7f0af851c8e0/V- RooRealVar::x = 0\n",
      "    0x7f0af8077dc0/V- RooGaussian::g = 1 [Auto,Dirty] \n",
      "      0x7f0af851c8e0/V- RooRealVar::x = 0\n",
      "      0x7f0af8079d40/V- RooRealVar::m = 0\n",
      "      0x7f0af8470960/V- RooRealVar::s = 1\n",
      "    0x7f0af8512cb0/V- RooRealVar::f = 0.5\n",
      "  0x7f0af84c8540/V- RooAddPdf::model_{run2;bar} = 1 [Auto,Dirty] \n",
      "    0x7f0af84c9e60/V- RooPolynomial::p_{run2;bar} = 1 [Auto,Dirty] \n",
      "      0x7f0af867d550/V- RooRealVar::p0_{run2;bar} = 0.01\n",
      "      0x7f0af851c8e0/V- RooRealVar::x = 0\n",
      "    0x7f0af8077dc0/V- RooGaussian::g = 1 [Auto,Dirty] \n",
      "      0x7f0af851c8e0/V- RooRealVar::x = 0\n",
      "      0x7f0af8079d40/V- RooRealVar::m = 0\n",
      "      0x7f0af8470960/V- RooRealVar::s = 1\n",
      "    0x7f0af8512cb0/V- RooRealVar::f = 0.5\n"
     ]
    }
   ],
   "source": [
    "model_sim2->Print(\"t\");"
   ]
  }
 ],
 "metadata": {
  "kernelspec": {
   "display_name": "ROOT C++",
   "language": "c++",
   "name": "root"
  },
  "language_info": {
   "codemirror_mode": "text/x-c++src",
   "file_extension": ".C",
   "mimetype": " text/x-c++src",
   "name": "c++"
  }
 },
 "nbformat": 4,
 "nbformat_minor": 2
}
