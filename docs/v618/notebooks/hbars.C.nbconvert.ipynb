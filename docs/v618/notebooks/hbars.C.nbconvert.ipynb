{
 "cells": [
  {
   "cell_type": "markdown",
   "metadata": {},
   "source": [
    "# Hbars\n",
    "Example of bar charts with 1-d histograms.\n",
    "\n",
    "\n",
    "\n",
    "\n",
    "**Author:** Rene Brun  \n",
    "<i><small>This notebook tutorial was automatically generated with <a href= \"https://github.com/root-project/root/blob/master/documentation/doxygen/converttonotebook.py\">ROOTBOOK-izer</a> from the macro found in the ROOT repository  on Thursday, August 29, 2019 at 01:54 AM.</small></i>"
   ]
  },
  {
   "cell_type": "code",
   "execution_count": 1,
   "metadata": {
    "collapsed": false
   },
   "outputs": [],
   "source": [
    "  // Try to open first the file cernstaff.root in tutorials/tree directory\n",
    "TString filedir = gROOT->GetTutorialDir();\n",
    "filedir += TString(\"/tree/\");\n",
    "TString filename = \"cernstaff.root\";\n",
    "bool fileNotFound = gSystem->AccessPathName(filename); // note opposite return code"
   ]
  },
  {
   "cell_type": "markdown",
   "metadata": {},
   "source": [
    "If file is not found try to generate it uing the macro tree/cernbuild.c"
   ]
  },
  {
   "cell_type": "code",
   "execution_count": 2,
   "metadata": {
    "collapsed": false
   },
   "outputs": [
    {
     "name": "stdout",
     "output_type": "stream",
     "text": [
      "******************************************************************************\n",
      "*Tree    :T         : CERN 1988 staff data                                   *\n",
      "*Entries :     3354 : Total =          176339 bytes  File  Size =      15005 *\n",
      "*        :          : Tree compression factor =   2.74                       *\n",
      "******************************************************************************\n",
      "*Br    0 :Category  : Category/I                                             *\n",
      "*Entries :     3354 : Total  Size=      14073 bytes  One basket in memory    *\n",
      "*Baskets :        0 : Basket Size=      32000 bytes  Compression=   1.00     *\n",
      "*............................................................................*\n",
      "*Br    1 :Flag      : Flag/i                                                 *\n",
      "*Entries :     3354 : Total  Size=      14049 bytes  One basket in memory    *\n",
      "*Baskets :        0 : Basket Size=      32000 bytes  Compression=   1.00     *\n",
      "*............................................................................*\n",
      "*Br    2 :Age       : Age/I                                                  *\n",
      "*Entries :     3354 : Total  Size=      14043 bytes  One basket in memory    *\n",
      "*Baskets :        0 : Basket Size=      32000 bytes  Compression=   1.00     *\n",
      "*............................................................................*\n",
      "*Br    3 :Service   : Service/I                                              *\n",
      "*Entries :     3354 : Total  Size=      14067 bytes  One basket in memory    *\n",
      "*Baskets :        0 : Basket Size=      32000 bytes  Compression=   1.00     *\n",
      "*............................................................................*\n",
      "*Br    4 :Children  : Children/I                                             *\n",
      "*Entries :     3354 : Total  Size=      14073 bytes  One basket in memory    *\n",
      "*Baskets :        0 : Basket Size=      32000 bytes  Compression=   1.00     *\n",
      "*............................................................................*\n",
      "*Br    5 :Grade     : Grade/I                                                *\n",
      "*Entries :     3354 : Total  Size=      14055 bytes  One basket in memory    *\n",
      "*Baskets :        0 : Basket Size=      32000 bytes  Compression=   1.00     *\n",
      "*............................................................................*\n",
      "*Br    6 :Step      : Step/I                                                 *\n",
      "*Entries :     3354 : Total  Size=      14049 bytes  One basket in memory    *\n",
      "*Baskets :        0 : Basket Size=      32000 bytes  Compression=   1.00     *\n",
      "*............................................................................*\n",
      "*Br    7 :Hrweek    : Hrweek/I                                               *\n",
      "*Entries :     3354 : Total  Size=      14061 bytes  One basket in memory    *\n",
      "*Baskets :        0 : Basket Size=      32000 bytes  Compression=   1.00     *\n",
      "*............................................................................*\n",
      "*Br    8 :Cost      : Cost/I                                                 *\n",
      "*Entries :     3354 : Total  Size=      14049 bytes  One basket in memory    *\n",
      "*Baskets :        0 : Basket Size=      32000 bytes  Compression=   1.00     *\n",
      "*............................................................................*\n",
      "*Br    9 :Division  : Division/C                                             *\n",
      "*Entries :     3354 : Total  Size=      25326 bytes  File Size  =       8325 *\n",
      "*Baskets :        1 : Basket Size=      32000 bytes  Compression=   2.49     *\n",
      "*............................................................................*\n",
      "*Br   10 :Nation    : Nation/C                                               *\n",
      "*Entries :     3354 : Total  Size=      24209 bytes  File Size  =       6680 *\n",
      "*Baskets :        1 : Basket Size=      32000 bytes  Compression=   3.05     *\n",
      "*............................................................................*\n"
     ]
    }
   ],
   "source": [
    "if (fileNotFound) {\n",
    "   TString macroName = filedir + \"cernbuild.C\";\n",
    "   if (!gInterpreter->IsLoaded(macroName)) gInterpreter->LoadMacro(macroName);\n",
    "   gROOT->ProcessLineFast(\"cernbuild()\");\n",
    "}\n",
    "TFile * f = TFile::Open(filename);\n",
    "if (!f) {\n",
    "   Error(\"hbars\",\"file cernstaff.root not found\");\n",
    "   return 0;\n",
    "}\n",
    "TTree *T = (TTree*)f->Get(\"T\");\n",
    "if (!T) {\n",
    "   Error(\"hbars\",\"Tree T is not present in file %s\",f->GetName() );\n",
    "   return 0;\n",
    "}\n",
    "T->SetFillColor(45);\n",
    "TCanvas *c1 = new TCanvas(\"c1\",\"histograms with bars\",700,800);\n",
    "c1->SetFillColor(42);\n",
    "c1->Divide(1,2);"
   ]
  },
  {
   "cell_type": "markdown",
   "metadata": {},
   "source": [
    "Horizontal bar chart"
   ]
  },
  {
   "cell_type": "code",
   "execution_count": 3,
   "metadata": {
    "collapsed": false
   },
   "outputs": [],
   "source": [
    "c1->cd(1); gPad->SetGrid(); gPad->SetLogx(); gPad->SetFrameFillColor(33);\n",
    "T->Draw(\"Nation\",\"\",\"hbar2\");"
   ]
  },
  {
   "cell_type": "markdown",
   "metadata": {},
   "source": [
    "Vertical bar chart"
   ]
  },
  {
   "cell_type": "code",
   "execution_count": 4,
   "metadata": {
    "collapsed": false
   },
   "outputs": [],
   "source": [
    "c1->cd(2); gPad->SetGrid(); gPad->SetFrameFillColor(33);\n",
    "T->Draw(\"Division>>hDiv\",\"\",\"goff\");\n",
    "TH1F *hDiv   = (TH1F*)gDirectory->Get(\"hDiv\");\n",
    "hDiv->SetStats(0);\n",
    "TH1F *hDivFR = (TH1F*)hDiv->Clone(\"hDivFR\");\n",
    "T->Draw(\"Division>>hDivFR\",\"Nation==\\\"FR\\\"\",\"goff\");\n",
    "hDiv->SetBarWidth(0.45);\n",
    "hDiv->SetBarOffset(0.1);\n",
    "hDiv->SetFillColor(49);\n",
    "TH1 *h1 = hDiv->DrawCopy(\"bar2\");\n",
    "hDivFR->SetBarWidth(0.4);\n",
    "hDivFR->SetBarOffset(0.55);\n",
    "hDivFR->SetFillColor(50);\n",
    "TH1 *h2 = hDivFR->DrawCopy(\"bar2,same\");\n",
    "\n",
    "TLegend *legend = new TLegend(0.55,0.65,0.76,0.82);\n",
    "legend->AddEntry(h1,\"All nations\",\"f\");\n",
    "legend->AddEntry(h2,\"French only\",\"f\");\n",
    "legend->Draw();\n",
    "\n",
    "c1->cd();\n",
    "delete f;\n",
    "return c1;"
   ]
  },
  {
   "cell_type": "markdown",
   "metadata": {},
   "source": [
    "Draw all canvases "
   ]
  },
  {
   "cell_type": "code",
   "execution_count": 5,
   "metadata": {
    "collapsed": false
   },
   "outputs": [
    {
     "data": {
      "image/png": "[encoded data removed]",
      "text/plain": [
       "<IPython.core.display.Image object>"
      ]
     },
     "metadata": {},
     "output_type": "display_data"
    }
   ],
   "source": [
    "gROOT->GetListOfCanvases()->Draw()"
   ]
  }
 ],
 "metadata": {
  "kernelspec": {
   "display_name": "ROOT C++",
   "language": "c++",
   "name": "root"
  },
  "language_info": {
   "codemirror_mode": "text/x-c++src",
   "file_extension": ".C",
   "mimetype": " text/x-c++src",
   "name": "c++"
  }
 },
 "nbformat": 4,
 "nbformat_minor": 2
}
