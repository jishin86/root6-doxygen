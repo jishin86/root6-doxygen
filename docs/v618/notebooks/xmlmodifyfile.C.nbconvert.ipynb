{
 "cells": [
  {
   "cell_type": "markdown",
   "metadata": {},
   "source": [
    "# Xmlmodifyfile\n",
    "Example to read, modify and store xml file, using TXMLEngine class\n",
    "The input file, produced by xmlnewfile.C macro is used\n",
    "If you need full xml syntax support, use TXMLParser instead\n",
    "\n",
    "\n",
    "\n",
    "\n",
    "**Author:** Sergey Linev  \n",
    "<i><small>This notebook tutorial was automatically generated with <a href= \"https://github.com/root-project/root/blob/master/documentation/doxygen/converttonotebook.py\">ROOTBOOK-izer</a> from the macro found in the ROOT repository  on Thursday, August 29, 2019 at 04:08 AM.</small></i>"
   ]
  },
  {
   "cell_type": "code",
   "execution_count": 1,
   "metadata": {
    "collapsed": false
   },
   "outputs": [],
   "source": [
    "%%cpp -d\n",
    "#include \"TXMLEngine.h\""
   ]
  },
  {
   "cell_type": "markdown",
   "metadata": {},
   "source": [
    "  scan node and returns number of childs\n",
    " for each child create info node with name and number of childs\n",
    " "
   ]
  },
  {
   "cell_type": "code",
   "execution_count": 2,
   "metadata": {
    "collapsed": false
   },
   "outputs": [],
   "source": [
    "%%cpp -d\n",
    "int ScanNode(TXMLEngine &xml, XMLNodePointer_t node)\n",
    "{\n",
    "   int cnt = 0;\n",
    "   XMLNodePointer_t child = xml.GetChild(node);\n",
    "   while (child) {\n",
    "      cnt++;\n",
    "\n",
    "      int numsub = ScanNode(xml, child);\n",
    "\n",
    "      // create new <info> node\n",
    "      XMLNodePointer_t info = xml.NewChild(node, xml.GetNS(child), \"info\");\n",
    "\n",
    "      // set name and num attributes of info node\n",
    "      xml.NewAttr(info, 0, \"name\", xml.GetNodeName(child));\n",
    "      if (numsub > 0) xml.NewIntAttr(info, \"num\", numsub);\n",
    "\n",
    "      // move it after current node\n",
    "      xml.AddChildAfter(node, info, child);\n",
    "\n",
    "      // set pointer to new node\n",
    "      child = info;\n",
    "\n",
    "      xml.ShiftToNext(child);\n",
    "   }\n",
    "   return cnt;\n",
    "}"
   ]
  },
  {
   "cell_type": "markdown",
   "metadata": {},
   "source": [
    " Arguments are defined. "
   ]
  },
  {
   "cell_type": "code",
   "execution_count": 3,
   "metadata": {
    "collapsed": false
   },
   "outputs": [],
   "source": [
    "const char* filename = \"example.xml\";"
   ]
  },
  {
   "cell_type": "markdown",
   "metadata": {},
   "source": [
    "First create engine"
   ]
  },
  {
   "cell_type": "code",
   "execution_count": 4,
   "metadata": {
    "collapsed": false
   },
   "outputs": [],
   "source": [
    "TXMLEngine xml;"
   ]
  },
  {
   "cell_type": "markdown",
   "metadata": {},
   "source": [
    "Now try to parse xml file"
   ]
  },
  {
   "cell_type": "code",
   "execution_count": 5,
   "metadata": {
    "collapsed": false
   },
   "outputs": [
    {
     "name": "stderr",
     "output_type": "stream",
     "text": [
      "Error in <TXMLEngine::ParseFile>: Unexpected end of xml file\n"
     ]
    }
   ],
   "source": [
    "XMLDocPointer_t xmldoc = xml.ParseFile(filename);\n",
    "if (xmldoc) {\n",
    "   // recursively scan all nodes, insert new when required\n",
    "   ScanNode(xml, xml.DocGetRootElement(xmldoc));\n",
    "\n",
    "   // Save document to file\n",
    "   xml.SaveDoc(xmldoc, \"modify.xml\");\n",
    "\n",
    "   // Release memory before exit\n",
    "   xml.FreeDoc(xmldoc);\n",
    "}"
   ]
  }
 ],
 "metadata": {
  "kernelspec": {
   "display_name": "ROOT C++",
   "language": "c++",
   "name": "root"
  },
  "language_info": {
   "codemirror_mode": "text/x-c++src",
   "file_extension": ".C",
   "mimetype": " text/x-c++src",
   "name": "c++"
  }
 },
 "nbformat": 4,
 "nbformat_minor": 2
}
