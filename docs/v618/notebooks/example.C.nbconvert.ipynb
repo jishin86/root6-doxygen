{
 "cells": [
  {
   "cell_type": "markdown",
   "metadata": {},
   "source": [
    "# Example\n",
    "Simple example on how to use ROOT-R interface.\n",
    "\n",
    "\n",
    "\n",
    "\n",
    "**Author:**   \n",
    "<i><small>This notebook tutorial was automatically generated with <a href= \"https://github.com/root-project/root/blob/master/documentation/doxygen/converttonotebook.py\">ROOTBOOK-izer</a> from the macro found in the ROOT repository  on Thursday, August 29, 2019 at 02:33 AM.</small></i>"
   ]
  },
  {
   "cell_type": "code",
   "execution_count": 1,
   "metadata": {
    "collapsed": false
   },
   "outputs": [
    {
     "name": "stderr",
     "output_type": "stream",
     "text": [
      "In file included from input_line_26:7:\n",
      "In file included from /mnt/build/workspace/root-makedoc-v618/rootspi/rdoc/src/v6-18-00-patches.build/include/TRInterface.h:15:\n",
      "In file included from /mnt/build/workspace/root-makedoc-v618/rootspi/rdoc/src/v6-18-00-patches.build/include/TRObject.h:14:\n",
      "/mnt/build/workspace/root-makedoc-v618/rootspi/rdoc/src/v6-18-00-patches.build/include/RExports.h:54:9: fatal error: 'RcppCommon.h' file not found\n",
      "#include<RcppCommon.h>\n",
      "        ^~~~~~~~~~~~~~\n"
     ]
    }
   ],
   "source": [
    "%%cpp -d\n",
    "#include \"TMath.h\"\n",
    "#include \"Math/PdfFunc.h\"\n",
    "#include \"TMatrixD.h\"\n",
    "#include \"TError.h\"\n",
    "#include <array>\n",
    "#include <vector>\n",
    "#include \"TRInterface.h\""
   ]
  },
  {
   "cell_type": "code",
   "execution_count": 2,
   "metadata": {
    "collapsed": false
   },
   "outputs": [
    {
     "name": "stderr",
     "output_type": "stream",
     "text": [
      "In file included from libRInterface dictionary payload:5:\n",
      "/mnt/build/workspace/root-makedoc-v618/rootspi/rdoc/src/v6-18-00-patches.build/include/RExports.h:54:9: fatal error: 'RcppCommon.h' file not found\n",
      "#include<RcppCommon.h>\n",
      "        ^~~~~~~~~~~~~~\n",
      "Error in <TInterpreter::AutoParse>: Error parsing payload code for class ROOT::R::TRInterface with content:\n",
      "\n",
      "#line 1 \"libRInterface dictionary payload\"\n",
      "\n",
      "\n",
      "#define _BACKWARD_BACKWARD_WARNING_H\n",
      "// Inline headers\n",
      "#include \"RExports.h\"\n",
      "#include \"TRDataFrame.h\"\n",
      "#include \"TRFunctionExport.h\"\n",
      "#include \"TRFunctionImport.h\"\n",
      "#include \"TRInterface.h\"\n",
      "#include \"TRInternalFunction.h\"\n",
      "#include \"TRObject.h\"\n",
      "\n",
      "#undef  _BACKWARD_BACKWARD_WARNING_H\n",
      "\n",
      "input_line_27:2:37: error: incomplete type 'ROOT::R::TRInterface' named in nested name specifier\n",
      " ROOT::R::TRInterface &r = ROOT::R::TRInterface::Instance();\n",
      "                           ~~~~~~~~~^~~~~~~~~~~~~\n",
      "libRInterface dictionary forward declarations' payload:9:93: note: forward declaration of 'ROOT::R::TRInterface'\n",
      "namespace ROOT{namespace R{class __attribute__((annotate(\"$clingAutoload$TRInterface.h\")))  TRInterface;}}\n",
      "                                                                                            ^\n"
     ]
    }
   ],
   "source": [
    "ROOT::R::TRInterface &r = ROOT::R::TRInterface::Instance();"
   ]
  },
  {
   "cell_type": "markdown",
   "metadata": {},
   "source": [
    "Print r version"
   ]
  },
  {
   "cell_type": "code",
   "execution_count": 3,
   "metadata": {
    "collapsed": false
   },
   "outputs": [
    {
     "name": "stderr",
     "output_type": "stream",
     "text": [
      "input_line_35:2:3: error: use of undeclared identifier 'r'\n",
      " (r.Execute(\"print(version$version.string)\"))\n",
      "  ^\n",
      "Error in <HandleInterpreterException>: Error evaluating expression (r.Execute(\"print(version$version.string)\")).\n",
      "Execution of your code was aborted.\n"
     ]
    }
   ],
   "source": [
    "r.Execute(\"print(version$version.string)\");"
   ]
  },
  {
   "cell_type": "markdown",
   "metadata": {},
   "source": [
    "Compute standard deviation of 1000 vector normal numbers"
   ]
  },
  {
   "cell_type": "code",
   "execution_count": 4,
   "metadata": {
    "collapsed": false
   },
   "outputs": [
    {
     "name": "stderr",
     "output_type": "stream",
     "text": [
      "input_line_37:2:3: error: use of undeclared identifier 'r'\n",
      " (r.Eval(\"sd(rnorm(10000))\"))\n",
      "  ^\n",
      "Error in <HandleInterpreterException>: Error evaluating expression (r.Eval(\"sd(rnorm(10000))\")).\n",
      "Execution of your code was aborted.\n"
     ]
    }
   ],
   "source": [
    "double std_dev_r  = r.Eval(\"sd(rnorm(10000))\");\n",
    "std::vector<double> v = r.Eval(\"rnorm(10000)\");\n",
    "double std_dev_root = TMath::StdDev(v.begin(),v.end());\n",
    "std::cout << \"standard deviation from R    = \" << std_dev_r << std::endl;\n",
    "std::cout << \"standard deviation from ROOT = \" <<  std_dev_root << std::endl;\n",
    "if (!TMath::AreEqualAbs(std_dev_r,std_dev_root,0.1))\n",
    "   Error(\"ROOT-R-Example\",\"Different std-dev found\");"
   ]
  },
  {
   "cell_type": "markdown",
   "metadata": {},
   "source": [
    "Use << to execute the r command instead of execute"
   ]
  },
  {
   "cell_type": "code",
   "execution_count": 5,
   "metadata": {
    "collapsed": false
   },
   "outputs": [
    {
     "name": "stderr",
     "output_type": "stream",
     "text": [
      "input_line_39:2:3: error: use of undeclared identifier 'r'\n",
      " (r << \"mat<-matrix(c(1,2,3,4,5,6),2,3,byrow=TRUE)\")\n",
      "  ^\n",
      "Error in <HandleInterpreterException>: Error evaluating expression (r << \"mat<-matrix(c(1,2,3,4,5,6),2,3,byrow=TRUE)\").\n",
      "Execution of your code was aborted.\n"
     ]
    }
   ],
   "source": [
    "r << \"mat<-matrix(c(1,2,3,4,5,6),2,3,byrow=TRUE)\";\n",
    "TMatrixD m = r[\"mat\"];\n",
    "std::array<double,6> a = r.Eval(\"seq(1:6)\");\n",
    "TMatrixD m2(2,3,a.data());\n",
    "\n",
    "if  (!(m==m2)) {\n",
    "   Error(\"ROOT-R-Example\",\"Different matrix  found\");\n",
    "   m.Print();\n",
    "   m2.Print();\n",
    "}"
   ]
  },
  {
   "cell_type": "markdown",
   "metadata": {},
   "source": [
    "Example on how to pass root objects to r"
   ]
  },
  {
   "cell_type": "code",
   "execution_count": 6,
   "metadata": {
    "collapsed": false
   },
   "outputs": [
    {
     "name": "stderr",
     "output_type": "stream",
     "text": [
      "input_line_41:2:3: error: use of undeclared identifier 'r'\n",
      " (r[\"v\"] = ((*(std::vector<double>*)0x7fcc2fa6a1e8)))\n",
      "  ^\n",
      "Error in <HandleInterpreterException>: Error evaluating expression (r[\"v\"] = ((*(std::vector<double>*)0x7fcc2fa6a1e8))).\n",
      "Execution of your code was aborted.\n"
     ]
    }
   ],
   "source": [
    "std::vector<double> v_root{1,2,3,4,5,6,7,8};\n",
    "r[\"v\"] = v_root;\n",
    "r << \"v2<-seq(1:8)\";\n",
    "bool isEqual = r.Eval(\"prod(v==v2)\");\n",
    "if (!isEqual) {\n",
    "   Error(\"ROOT-R-Example\",\"Different vector created\");\n",
    "   r << \"print(v)\";\n",
    "   r << \"print(v2)\";\n",
    "}"
   ]
  },
  {
   "cell_type": "markdown",
   "metadata": {},
   "source": [
    "Example on how to pass functions to r"
   ]
  },
  {
   "cell_type": "code",
   "execution_count": 7,
   "metadata": {
    "collapsed": false
   },
   "outputs": [
    {
     "name": "stderr",
     "output_type": "stream",
     "text": [
      "input_line_42:2:18: error: cannot initialize an array element of type 'void *' with an rvalue of type 'double (*)(double, double, double)'\n",
      " r[\"gaus_pdf\"] = ROOT::Math::normal_pdf;\n",
      "                 ^~~~~~~~~~~~~~~~~~~~~~\n"
     ]
    }
   ],
   "source": [
    "r[\"gaus_pdf\"] = ROOT::Math::normal_pdf;\n",
    "\n",
    "r << \"y<-gaus_pdf(0,1,1)\";\n",
    "double value_r = r[\"y\"];\n",
    "double value_root = ROOT::Math::normal_pdf(0,1,1);\n",
    "std::cout << \"Function gaussian(0,1,1) evaluated in  R    = \" << value_r << std::endl;\n",
    "std::cout << \"Function gaussian(0,1,1) evaluated in ROOT  = \" <<  value_root << std::endl;\n",
    "if (value_r != value_root)\n",
    "   Error(\"ROOT-R-Example\",\"Different function value found in r = %f and ROOT = %f\", value_r, value_root);"
   ]
  }
 ],
 "metadata": {
  "kernelspec": {
   "display_name": "ROOT C++",
   "language": "c++",
   "name": "root"
  },
  "language_info": {
   "codemirror_mode": "text/x-c++src",
   "file_extension": ".C",
   "mimetype": " text/x-c++src",
   "name": "c++"
  }
 },
 "nbformat": 4,
 "nbformat_minor": 2
}
