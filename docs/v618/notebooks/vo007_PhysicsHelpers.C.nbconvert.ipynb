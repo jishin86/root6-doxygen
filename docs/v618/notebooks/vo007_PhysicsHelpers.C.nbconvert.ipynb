{
 "cells": [
  {
   "cell_type": "markdown",
   "metadata": {},
   "source": [
    "# Vo 0 0 7_ Physics Helpers\n",
    "In this tutorial we demonstrate RVec helpers for physics computations such\n",
    "as angle differences $\\Delta \\phi$, the distance in the $\\eta$-$\\phi$\n",
    "plane $\\Delta R$ and the invariant mass.\n",
    "\n",
    "\n",
    "\n",
    "\n",
    "**Author:** Stefan Wunsch  \n",
    "<i><small>This notebook tutorial was automatically generated with <a href= \"https://github.com/root-project/root/blob/master/documentation/doxygen/converttonotebook.py\">ROOTBOOK-izer</a> from the macro found in the ROOT repository  on Thursday, August 29, 2019 at 04:07 AM.</small></i>"
   ]
  },
  {
   "cell_type": "code",
   "execution_count": 1,
   "metadata": {
    "collapsed": false
   },
   "outputs": [],
   "source": [
    "using namespace ROOT::VecOps;"
   ]
  },
  {
   "cell_type": "markdown",
   "metadata": {},
   "source": [
    "The deltaphi helper computes the closest angle between angles.\n",
    " This means that the resulting value is in the range [-pi, pi]."
   ]
  },
  {
   "cell_type": "markdown",
   "metadata": {},
   "source": [
    "Note that the helper also supports to compute the angle difference of an\n",
    " RVec and a scalar and two scalars. In addition, the computation of the\n",
    " difference and the behaviour at the boundary can be adjusted to radian and\n",
    " degrees."
   ]
  },
  {
   "cell_type": "code",
   "execution_count": 2,
   "metadata": {
    "collapsed": false
   },
   "outputs": [
    {
     "name": "stdout",
     "output_type": "stream",
     "text": [
      "DeltaPhi(phi1 = { 0, 0, 0, 1, 1, -0.5 },\n",
      "         phi2 = { 1, -0.5, 4.14159, -0.5, 4.14159, 4.14159 })\n",
      " = { 1, -0.5, -2.14159, -1.5, 3.14159, -1.64159 }\n"
     ]
    }
   ],
   "source": [
    "RVec<float> phis = {0.0, 1.0, -0.5, M_PI + 1.0};\n",
    "auto idx = Combinations(phis, 2);\n",
    "\n",
    "auto phi1 = Take(phis, idx[0]);\n",
    "auto phi2 = Take(phis, idx[1]);\n",
    "auto dphi = DeltaPhi(phi1, phi2);\n",
    "\n",
    "std::cout << \"DeltaPhi(phi1 = \" << phi1 << \",\\n\"\n",
    "          << \"         phi2 = \" << phi2 << \")\\n\"\n",
    "          << \" = \" << dphi << \"\\n\";"
   ]
  },
  {
   "cell_type": "markdown",
   "metadata": {},
   "source": [
    "The deltar helper is similar to the deltaphi helper and computes the distance\n",
    " in the \\f$\\eta\\f$-\\f$\\phi\\f$ plane."
   ]
  },
  {
   "cell_type": "code",
   "execution_count": 3,
   "metadata": {
    "collapsed": false
   },
   "outputs": [
    {
     "name": "stdout",
     "output_type": "stream",
     "text": [
      "\n",
      "DeltaR(eta1 = { 2.4, 2.4, 2.4, -1.5, -1.5, 1 },\n",
      "       eta2 = { -1.5, 1, 0, 1, 0, 0 },\n",
      "       phi1 = { 0, 0, 0, 1, 1, -0.5 },\n",
      "       phi2 = { 1, -0.5, 4.14159, -0.5, 4.14159, 4.14159 })\n",
      " = { 4.02616, 1.48661, 3.21659, 2.91548, 3.48132, 1.92219 }\n"
     ]
    }
   ],
   "source": [
    "RVec<float> etas = {2.4, -1.5, 1.0, 0.0};\n",
    "\n",
    "auto eta1 = Take(etas, idx[0]);\n",
    "auto eta2 = Take(etas, idx[1]);\n",
    "auto dr = DeltaR(eta1, eta2, phi1, phi2);\n",
    "\n",
    "std::cout << \"\\nDeltaR(eta1 = \" << eta1 << \",\\n\"\n",
    "          << \"       eta2 = \" << eta2 << \",\\n\"\n",
    "          << \"       phi1 = \" << phi1 << \",\\n\"\n",
    "          << \"       phi2 = \" << phi2 << \")\\n\"\n",
    "          << \" = \" << dr << \"\\n\";"
   ]
  },
  {
   "cell_type": "markdown",
   "metadata": {},
   "source": [
    "The invariantmasses helper computes the invariant mass of a two particle system\n",
    " given the properties transverse momentum (pt), rapidity (eta), azimuth (phi)\n",
    " and mass."
   ]
  },
  {
   "cell_type": "code",
   "execution_count": 4,
   "metadata": {
    "collapsed": false
   },
   "outputs": [
    {
     "name": "stdout",
     "output_type": "stream",
     "text": [
      "\n",
      "InvariantMass(pt1 = { 40, 20, 30 },\n",
      "              eta1 = { 2.5, 0.5, -1 },\n",
      "              phi1 = { -0.5, 0, 1 },\n",
      "              mass1 = { 10, 10, 10 },\n",
      "              pt2 = { 20, 10, 40 },\n",
      "              eta2 = { 0.5, -0.5, 1 },\n",
      "              phi2 = { 0, 1, -1 },\n",
      "              mass2 = { 2, 2, 2 })\n",
      " = { 69.0799, 23.6971, 101.326 }\n"
     ]
    }
   ],
   "source": [
    "RVec<float> pt3 = {40, 20, 30};\n",
    "RVec<float> eta3 = {2.5, 0.5, -1.0};\n",
    "RVec<float> phi3 = {-0.5, 0.0, 1.0};\n",
    "RVec<float> mass3 = {10, 10, 10};\n",
    "\n",
    "RVec<float> pt4 = {20, 10, 40};\n",
    "RVec<float> eta4 = {0.5, -0.5, 1.0};\n",
    "RVec<float> phi4 = {0.0, 1.0, -1.0};\n",
    "RVec<float> mass4 = {2, 2, 2};\n",
    "\n",
    "auto invMass = InvariantMasses(pt3, eta3, phi3, mass3, pt4, eta4, phi4, mass4);\n",
    "\n",
    "std::cout << \"\\nInvariantMass(pt1 = \" << pt3 << \",\\n\"\n",
    "          << \"              eta1 = \" << eta3 << \",\\n\"\n",
    "          << \"              phi1 = \" << phi3 << \",\\n\"\n",
    "          << \"              mass1 = \" << mass3 << \",\\n\"\n",
    "          << \"              pt2 = \" << pt4 << \",\\n\"\n",
    "          << \"              eta2 = \" << eta4 << \",\\n\"\n",
    "          << \"              phi2 = \" << phi4 << \",\\n\"\n",
    "          << \"              mass2 = \" << mass4 << \")\\n\"\n",
    "          << \" = \" << invMass << \"\\n\";"
   ]
  },
  {
   "cell_type": "markdown",
   "metadata": {},
   "source": [
    "The invariantmass helper also accepts a single set of (pt, eta, phi, mass) vectors. then,\n",
    " the invariant mass of all particles in the collection is computed."
   ]
  },
  {
   "cell_type": "code",
   "execution_count": 5,
   "metadata": {
    "collapsed": false
   },
   "outputs": [
    {
     "name": "stdout",
     "output_type": "stream",
     "text": [
      "\n",
      "InvariantMass(pt = { 40, 20, 30 },\n",
      "              eta = { 2.5, 0.5, -1 },\n",
      "              phi = { -0.5, 0, 1 },\n",
      "              mass = { 10, 10, 10 })\n",
      " = 220.308\n"
     ]
    }
   ],
   "source": [
    "auto invMass2 = InvariantMass(pt3, eta3, phi3, mass3);\n",
    "\n",
    "std::cout << \"\\nInvariantMass(pt = \" << pt3 << \",\\n\"\n",
    "          << \"              eta = \" << eta3 << \",\\n\"\n",
    "          << \"              phi = \" << phi3 << \",\\n\"\n",
    "          << \"              mass = \" << mass3 << \")\\n\"\n",
    "          << \" = \" << invMass2 << \"\\n\";"
   ]
  }
 ],
 "metadata": {
  "kernelspec": {
   "display_name": "ROOT C++",
   "language": "c++",
   "name": "root"
  },
  "language_info": {
   "codemirror_mode": "text/x-c++src",
   "file_extension": ".C",
   "mimetype": " text/x-c++src",
   "name": "c++"
  }
 },
 "nbformat": 4,
 "nbformat_minor": 2
}
