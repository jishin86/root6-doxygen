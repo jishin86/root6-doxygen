{
 "cells": [
  {
   "cell_type": "markdown",
   "metadata": {},
   "source": [
    "# Rf 5 1 1_Wsfactory_Basic\n",
    "\n",
    "Organization and simultaneous fits: basic use of the 'object factory' associated with a workspace to rapidly build p.d.f.s functions and their parameter components\n",
    "\n",
    "\n",
    "\n",
    "\n",
    "**Author:** Clemens Lange, Wouter Verkerke (C++ version)  \n",
    "<i><small>This notebook tutorial was automatically generated with <a href= \"https://github.com/root-project/root/blob/master/documentation/doxygen/converttonotebook.py\">ROOTBOOK-izer</a> from the macro found in the ROOT repository  on Thursday, August 29, 2019 at 02:57 AM.</small></i>"
   ]
  },
  {
   "cell_type": "code",
   "execution_count": 1,
   "metadata": {
    "collapsed": false
   },
   "outputs": [
    {
     "name": "stdout",
     "output_type": "stream",
     "text": [
      "Welcome to JupyROOT 6.18/03\n"
     ]
    }
   ],
   "source": [
    "import ROOT\n",
    "\n",
    "\n",
    "compact = ROOT.kFALSE\n",
    "w = ROOT.RooWorkspace(\"w\")"
   ]
  },
  {
   "cell_type": "markdown",
   "metadata": {},
   "source": [
    "Creating and adding basic pdfs\n",
    "----------------------------------------------------------------"
   ]
  },
  {
   "cell_type": "markdown",
   "metadata": {},
   "source": [
    "Remake example p.d.f. of tutorial rs502_wspacewrite.C:\n",
    "\n",
    "Basic p.d.f. construction: ClassName.ObjectName(constructor arguments)\n",
    "Variable construction    : VarName[x,xlo,xhi], VarName[xlo,xhi], VarName[x]\n",
    "P.d.f. addition          : SUM.ObjectName(coef1*pdf1,...coefM*pdfM,pdfN)"
   ]
  },
  {
   "cell_type": "code",
   "execution_count": 2,
   "metadata": {
    "collapsed": false
   },
   "outputs": [],
   "source": [
    "if not compact:\n",
    "    # Use object factory to build p.d.f. of tutorial rs502_wspacewrite\n",
    "    w.factory(\"Gaussian::sig1(x[-10,10],mean[5,0,10],0.5)\")\n",
    "    w.factory(\"Gaussian::sig2(x,mean,1)\")\n",
    "    w.factory(\"Chebychev::bkg(x,{a0[0.5,0.,1],a1[-0.2,0.,1.]})\")\n",
    "    w.factory(\"SUM::sig(sig1frac[0.8,0.,1.]*sig1,sig2)\")\n",
    "    w.factory(\"SUM::model(bkgfrac[0.5,0.,1.]*bkg,sig)\")\n",
    "\n",
    "else:\n",
    "\n",
    "    # Use object factory to build p.d.f. of tutorial rs502_wspacewrite but\n",
    "    #  - Contracted to a single line recursive expression,\n",
    "    #  - Omitting explicit names for components that are not referred to explicitly later\n",
    "\n",
    "    w.factory(\n",
    "        \"SUM::model(bkgfrac[0.5,0.,1.]*Chebychev::bkg(x[-10,10],{a0[0.5,0.,1],a1[-0.2,0.,1.]}), \"\n",
    "        \"SUM(sig1frac[0.8,0.,1.]*Gaussian(x,mean[5,0,10],0.5), Gaussian(x,mean,1)))\")"
   ]
  },
  {
   "cell_type": "markdown",
   "metadata": {},
   "source": [
    "Advanced pdf constructor arguments\n",
    "----------------------------------------------------------------\n",
    "\n",
    "P.d.f. constructor arguments may by any type of ROOT.RooAbsArg, also\n",
    "\n",
    "Double_t -. converted to ROOT.RooConst(...)\n",
    "{a,b,c} -. converted to ROOT.RooArgSet() or ROOT.RooArgList() depending on required ctor arg\n",
    "dataset name -. convered to ROOT.RooAbsData reference for any dataset residing in the workspace\n",
    "enum -. Any enum label that belongs to an enum defined in the (base)\n",
    "class"
   ]
  },
  {
   "cell_type": "markdown",
   "metadata": {},
   "source": [
    "Make a dummy dataset p.d.f. 'model' and import it in the workspace"
   ]
  },
  {
   "cell_type": "code",
   "execution_count": 3,
   "metadata": {
    "collapsed": false
   },
   "outputs": [],
   "source": [
    "data = w.pdf(\"model\").generate(ROOT.RooArgSet(w.var(\"x\")), 1000)"
   ]
  },
  {
   "cell_type": "markdown",
   "metadata": {},
   "source": [
    "Cannot call 'import' directly because this is a python keyword:"
   ]
  },
  {
   "cell_type": "code",
   "execution_count": 4,
   "metadata": {
    "collapsed": false
   },
   "outputs": [
    {
     "data": {
      "text/plain": [
       "False"
      ]
     },
     "execution_count": 4,
     "metadata": {},
     "output_type": "execute_result"
    },
    {
     "name": "stdout",
     "output_type": "stream",
     "text": [
      "[#1] INFO:ObjectHandling -- RooWorkspace::import(w) importing dataset modelData\n",
      "[#1] INFO:ObjectHandling -- RooWorkSpace::import(w) changing name of dataset from  modelData to data\n"
     ]
    }
   ],
   "source": [
    "getattr(w, 'import')(data, ROOT.RooFit.Rename(\"data\"))"
   ]
  },
  {
   "cell_type": "markdown",
   "metadata": {},
   "source": [
    "Construct a KEYS p.d.f. passing a dataset name and an enum type defining the\n",
    "mirroring strategy\n",
    "w.factory(\"KeysPdf::k(x,data,NoMirror,0.2)\")\n",
    "Workaround for pyROOT"
   ]
  },
  {
   "cell_type": "code",
   "execution_count": 5,
   "metadata": {
    "collapsed": false
   },
   "outputs": [
    {
     "data": {
      "text/plain": [
       "False"
      ]
     },
     "execution_count": 5,
     "metadata": {},
     "output_type": "execute_result"
    },
    {
     "name": "stdout",
     "output_type": "stream",
     "text": [
      "[#1] INFO:ObjectHandling -- RooWorkspace::import(w) Resolving name conflict in workspace by changing name of imported node  k to k_workspace\n",
      "[#1] INFO:ObjectHandling -- RooWorkspace::import(w) importing RooKeysPdf::k_workspace\n"
     ]
    }
   ],
   "source": [
    "x = w.var(\"x\")\n",
    "k = ROOT.RooKeysPdf(\"k\", \"k\", x, data, ROOT.RooKeysPdf.NoMirror, 0.2)\n",
    "getattr(w, 'import')(k, ROOT.RooFit.RenameAllNodes(\"workspace\"))"
   ]
  },
  {
   "cell_type": "markdown",
   "metadata": {},
   "source": [
    "Print workspace contents"
   ]
  },
  {
   "cell_type": "code",
   "execution_count": 6,
   "metadata": {
    "collapsed": false
   },
   "outputs": [
    {
     "name": "stdout",
     "output_type": "stream",
     "text": [
      "\n",
      "RooWorkspace(w) w contents\n",
      "\n",
      "variables\n",
      "---------\n",
      "(a0,a1,bkgfrac,mean,sig1frac,x)\n",
      "\n",
      "p.d.f.s\n",
      "-------\n",
      "RooChebychev::bkg[ x=x coefList=(a0,a1) ] = 1\n",
      "RooKeysPdf::k_workspace[ x=x ] = 0.0139016\n",
      "RooAddPdf::model[ bkgfrac * bkg + [%] * sig ] = 0.5\n",
      "RooAddPdf::sig[ sig1frac * sig1 + [%] * sig2 ] = 7.45331e-07\n",
      "RooGaussian::sig1[ x=x mean=mean sigma=0.5 ] = 1.92875e-22\n",
      "RooGaussian::sig2[ x=x mean=mean sigma=1 ] = 3.72665e-06\n",
      "\n",
      "datasets\n",
      "--------\n",
      "RooDataSet::data(x)\n",
      "\n"
     ]
    }
   ],
   "source": [
    "w.Print()"
   ]
  }
 ],
 "metadata": {
  "kernelspec": {
   "display_name": "Python 2",
   "language": "python",
   "name": "python2"
  },
  "language_info": {
   "codemirror_mode": {
    "name": "ipython",
    "version": 2
   },
   "file_extension": ".py",
   "mimetype": "text/x-python",
   "name": "python",
   "nbconvert_exporter": "python",
   "pygments_lexer": "ipython2",
   "version": "2.7.10"
  }
 },
 "nbformat": 4,
 "nbformat_minor": 2
}
