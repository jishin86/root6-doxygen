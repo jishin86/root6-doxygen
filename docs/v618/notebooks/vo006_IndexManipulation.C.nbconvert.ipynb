{
 "cells": [
  {
   "cell_type": "markdown",
   "metadata": {},
   "source": [
    "# Vo 0 0 6_ Index Manipulation\n",
    "In this tutorial we demonstrate RVec helpers for index manipulation.\n",
    "\n",
    "\n",
    "\n",
    "\n",
    "**Author:** Stefan Wunsch  \n",
    "<i><small>This notebook tutorial was automatically generated with <a href= \"https://github.com/root-project/root/blob/master/documentation/doxygen/converttonotebook.py\">ROOTBOOK-izer</a> from the macro found in the ROOT repository  on Thursday, August 29, 2019 at 04:07 AM.</small></i>"
   ]
  },
  {
   "cell_type": "code",
   "execution_count": 1,
   "metadata": {
    "collapsed": false
   },
   "outputs": [],
   "source": [
    "using namespace ROOT::VecOps;"
   ]
  },
  {
   "cell_type": "markdown",
   "metadata": {},
   "source": [
    "We assume that we have multiple linked collections, the elements of which\n",
    " represent different objects."
   ]
  },
  {
   "cell_type": "code",
   "execution_count": 2,
   "metadata": {
    "collapsed": false
   },
   "outputs": [
    {
     "name": "stdout",
     "output_type": "stream",
     "text": [
      "Muon 1 (pt, eta): 20, 1\n",
      "Muon 2 (pt, eta): 30, -2\n",
      "Muon 3 (pt, eta): 10, 0.5\n",
      "Muon 4 (pt, eta): 25, 2.5\n"
     ]
    }
   ],
   "source": [
    "RVec<float> muon_pt = {20.0, 30.0, 10.0, 25.0};\n",
    "RVec<float> muon_eta = {1.0, -2.0, 0.5, 2.5};\n",
    "\n",
    "for (size_t i = 0; i < muon_pt.size(); i++) {\n",
    "   std::cout << \"Muon \" << i + 1 << \" (pt, eta): \" << muon_pt[i] << \", \"\n",
    "             << muon_eta[i] << std::endl;\n",
    "}"
   ]
  },
  {
   "cell_type": "markdown",
   "metadata": {},
   "source": [
    "First, let's make a selection and write out all indices, which pass."
   ]
  },
  {
   "cell_type": "code",
   "execution_count": 3,
   "metadata": {
    "collapsed": false
   },
   "outputs": [],
   "source": [
    "auto idx_select = Nonzero(muon_pt > 15 && abs(muon_eta) < 2.5);"
   ]
  },
  {
   "cell_type": "markdown",
   "metadata": {},
   "source": [
    "Second, get indices that sort one of the collections in descending order."
   ]
  },
  {
   "cell_type": "code",
   "execution_count": 4,
   "metadata": {
    "collapsed": false
   },
   "outputs": [],
   "source": [
    "auto idx_sort = Reverse(Argsort(muon_pt));"
   ]
  },
  {
   "cell_type": "markdown",
   "metadata": {},
   "source": [
    "Finally, we find all indices present in both collections of indices retrieved\n",
    " from sorting and selecting.\n",
    " Note, that the order of the first list passed to the Intersect helper is\n",
    " contained."
   ]
  },
  {
   "cell_type": "code",
   "execution_count": 5,
   "metadata": {
    "collapsed": false
   },
   "outputs": [],
   "source": [
    "auto idx = Intersect(idx_sort, idx_select);"
   ]
  },
  {
   "cell_type": "markdown",
   "metadata": {},
   "source": [
    "Take from all lists the elements of the passing objects."
   ]
  },
  {
   "cell_type": "code",
   "execution_count": 6,
   "metadata": {
    "collapsed": false
   },
   "outputs": [
    {
     "name": "stdout",
     "output_type": "stream",
     "text": [
      "Selected muon 1 (pt, eta): 30, -2\n",
      "Selected muon 2 (pt, eta): 20, 1\n"
     ]
    }
   ],
   "source": [
    "auto good_muon_pt = Take(muon_pt, idx);\n",
    "auto good_muon_eta = Take(muon_eta, idx);\n",
    "\n",
    "for (size_t i = 0; i < idx.size(); i++) {\n",
    "   std::cout << \"Selected muon \" << i + 1 << \" (pt, eta): \" << good_muon_pt[i]\n",
    "             << \", \" << good_muon_eta[i] << std::endl;\n",
    "}"
   ]
  }
 ],
 "metadata": {
  "kernelspec": {
   "display_name": "ROOT C++",
   "language": "c++",
   "name": "root"
  },
  "language_info": {
   "codemirror_mode": "text/x-c++src",
   "file_extension": ".C",
   "mimetype": " text/x-c++src",
   "name": "c++"
  }
 },
 "nbformat": 4,
 "nbformat_minor": 2
}
