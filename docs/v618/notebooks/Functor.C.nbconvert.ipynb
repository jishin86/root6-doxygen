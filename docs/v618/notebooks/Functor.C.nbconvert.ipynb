{
 "cells": [
  {
   "cell_type": "markdown",
   "metadata": {},
   "source": [
    "#  Functor\n",
    "Example to create class Functor\n",
    "\n",
    "\n",
    "\n",
    "\n",
    "**Author:** Omar Zapata  \n",
    "<i><small>This notebook tutorial was automatically generated with <a href= \"https://github.com/root-project/root/blob/master/documentation/doxygen/converttonotebook.py\">ROOTBOOK-izer</a> from the macro found in the ROOT repository  on Thursday, August 29, 2019 at 02:35 AM.</small></i>"
   ]
  },
  {
   "cell_type": "code",
   "execution_count": 1,
   "metadata": {
    "collapsed": false
   },
   "outputs": [
    {
     "name": "stderr",
     "output_type": "stream",
     "text": [
      "In file included from input_line_26:1:\n",
      "In file included from /mnt/build/workspace/root-makedoc-v618/rootspi/rdoc/src/v6-18-00-patches.build/include/TRInterface.h:15:\n",
      "In file included from /mnt/build/workspace/root-makedoc-v618/rootspi/rdoc/src/v6-18-00-patches.build/include/TRObject.h:14:\n",
      "/mnt/build/workspace/root-makedoc-v618/rootspi/rdoc/src/v6-18-00-patches.build/include/RExports.h:54:9: fatal error: 'RcppCommon.h' file not found\n",
      "#include<RcppCommon.h>\n",
      "        ^~~~~~~~~~~~~~\n"
     ]
    }
   ],
   "source": [
    "%%cpp -d\n",
    "#include<TRInterface.h>\n",
    "#include<TMath.h>\n",
    "\n",
    "typedef Double_t (*Function)(Double_t);"
   ]
  },
  {
   "cell_type": "markdown",
   "metadata": {},
   "source": [
    "Functor class with the function inside"
   ]
  },
  {
   "cell_type": "code",
   "execution_count": 2,
   "metadata": {
    "collapsed": false
   },
   "outputs": [
    {
     "name": "stderr",
     "output_type": "stream",
     "text": [
      "input_line_27:8:21: error: unknown type name 'Function'\n",
      "   void setFunction(Function fun) {\n",
      "                    ^\n",
      "input_line_27:20:4: error: unknown type name 'Function'\n",
      "   Function f;\n",
      "   ^\n"
     ]
    }
   ],
   "source": [
    "class MyFunctor{\n",
    "public:\n",
    "   MyFunctor() {\n",
    "      status=false;\n",
    "      f=TMath::BesselY1;\n",
    "   }\n",
    "\n",
    "   void setFunction(Function fun) {\n",
    "    f=fun;\n",
    "    status=true;\n",
    "   }\n",
    "\n",
    "   Bool_t getStatus(){return status;}\n",
    "\n",
    "   Double_t doEval(Double_t x) {\n",
    "      return f(x);\n",
    "   }\n",
    "\n",
    "private:\n",
    "   Function f;\n",
    "   Bool_t status;\n",
    "};"
   ]
  },
  {
   "cell_type": "markdown",
   "metadata": {},
   "source": [
    "This macro exposes the class into r's enviornment\n",
    " and lets you pass objects directly."
   ]
  },
  {
   "cell_type": "code",
   "execution_count": 3,
   "metadata": {
    "collapsed": false
   },
   "outputs": [
    {
     "name": "stderr",
     "output_type": "stream",
     "text": [
      "input_line_33:2:23: error: use of undeclared identifier 'MyFunctor'\n",
      " (ROOTR_EXPOSED_CLASS(MyFunctor))\n",
      "                      ^\n",
      "Error in <HandleInterpreterException>: Error evaluating expression (ROOTR_EXPOSED_CLASS(MyFunctor)).\n",
      "Execution of your code was aborted.\n"
     ]
    }
   ],
   "source": [
    "ROOTR_EXPOSED_CLASS(MyFunctor)"
   ]
  },
  {
   "cell_type": "markdown",
   "metadata": {},
   "source": [
    "Macro to create a module"
   ]
  },
  {
   "cell_type": "code",
   "execution_count": 4,
   "metadata": {
    "collapsed": false
   },
   "outputs": [
    {
     "name": "stderr",
     "output_type": "stream",
     "text": [
      "input_line_34:2:31: error: expected ';' after expression\n",
      " ROOTR_MODULE(MyFunctorModule) {\n",
      "                              ^\n",
      "                              ;\n",
      "input_line_34:3:13: error: no member named 'class_' in namespace 'ROOT::R'\n",
      "   ROOT::R::class_<MyFunctor>( \"MyFunctor\" )\n",
      "   ~~~~~~~~~^\n",
      "input_line_34:3:20: error: use of undeclared identifier 'MyFunctor'\n",
      "   ROOT::R::class_<MyFunctor>( \"MyFunctor\" )\n",
      "                   ^\n",
      "input_line_34:5:4: error: member reference base type 'const char [10]' is not a structure or union\n",
      "   .constructor()\n",
      "   ^~~~~~~~~~~~\n",
      "input_line_34:7:24: error: use of undeclared identifier 'MyFunctor'\n",
      "   .method( \"doEval\", &MyFunctor::doEval )\n",
      "                       ^\n",
      "input_line_34:8:27: error: use of undeclared identifier 'MyFunctor'\n",
      "   .method( \"getStatus\", &MyFunctor::getStatus)\n",
      "                          ^\n"
     ]
    }
   ],
   "source": [
    "ROOTR_MODULE(MyFunctorModule) {\n",
    "   ROOT::R::class_<MyFunctor>( \"MyFunctor\" )\n",
    "   //creating a default constructor\n",
    "   .constructor()\n",
    "   //adding the method doEval to evaluate the internal function\n",
    "   .method( \"doEval\", &MyFunctor::doEval )\n",
    "   .method( \"getStatus\", &MyFunctor::getStatus)\n",
    "   ;\n",
    "}"
   ]
  },
  {
   "cell_type": "code",
   "execution_count": 5,
   "metadata": {
    "collapsed": false
   },
   "outputs": [
    {
     "name": "stderr",
     "output_type": "stream",
     "text": [
      "In file included from libRInterface dictionary payload:5:\n",
      "/mnt/build/workspace/root-makedoc-v618/rootspi/rdoc/src/v6-18-00-patches.build/include/RExports.h:54:9: fatal error: 'RcppCommon.h' file not found\n",
      "#include<RcppCommon.h>\n",
      "        ^~~~~~~~~~~~~~\n",
      "Error in <TInterpreter::AutoParse>: Error parsing payload code for class ROOT::R::TRInterface with content:\n",
      "\n",
      "#line 1 \"libRInterface dictionary payload\"\n",
      "\n",
      "\n",
      "#define _BACKWARD_BACKWARD_WARNING_H\n",
      "// Inline headers\n",
      "#include \"RExports.h\"\n",
      "#include \"TRDataFrame.h\"\n",
      "#include \"TRFunctionExport.h\"\n",
      "#include \"TRFunctionImport.h\"\n",
      "#include \"TRInterface.h\"\n",
      "#include \"TRInternalFunction.h\"\n",
      "#include \"TRObject.h\"\n",
      "\n",
      "#undef  _BACKWARD_BACKWARD_WARNING_H\n",
      "\n",
      "input_line_35:2:35: error: incomplete type 'ROOT::R::TRInterface' named in nested name specifier\n",
      " ROOT::R::TRInterface &r=ROOT::R::TRInterface::Instance();\n",
      "                         ~~~~~~~~~^~~~~~~~~~~~~\n",
      "libRInterface dictionary forward declarations' payload:9:93: note: forward declaration of 'ROOT::R::TRInterface'\n",
      "namespace ROOT{namespace R{class __attribute__((annotate(\"$clingAutoload$TRInterface.h\")))  TRInterface;}}\n",
      "                                                                                            ^\n"
     ]
    }
   ],
   "source": [
    "ROOT::R::TRInterface &r=ROOT::R::TRInterface::Instance();"
   ]
  },
  {
   "cell_type": "markdown",
   "metadata": {},
   "source": [
    "Creating functor with deafult function tmath::bessely1\n",
    " and status false from R's environment\n",
    " Loading module into R's enviornment"
   ]
  },
  {
   "cell_type": "code",
   "execution_count": 6,
   "metadata": {
    "collapsed": false
   },
   "outputs": [
    {
     "name": "stderr",
     "output_type": "stream",
     "text": [
      "input_line_39:2:3: error: use of undeclared identifier 'r'\n",
      " (r[\"MyFunctorModule\"] << LOAD_ROOTR_MODULE(MyFunctorModule))\n",
      "  ^\n",
      "input_line_39:2:45: error: use of undeclared identifier 'MyFunctorModule'\n",
      " (r[\"MyFunctorModule\"] << LOAD_ROOTR_MODULE(MyFunctorModule))\n",
      "                                            ^\n",
      "Error in <HandleInterpreterException>: Error evaluating expression (r[\"MyFunctorModule\"] << LOAD_ROOTR_MODULE(MyFunctorModule)).\n",
      "Execution of your code was aborted.\n"
     ]
    }
   ],
   "source": [
    "r[\"MyFunctorModule\"]<<LOAD_ROOTR_MODULE(MyFunctorModule);"
   ]
  },
  {
   "cell_type": "markdown",
   "metadata": {},
   "source": [
    "Creating a class variable from module"
   ]
  },
  {
   "cell_type": "code",
   "execution_count": 7,
   "metadata": {
    "collapsed": false
   },
   "outputs": [
    {
     "name": "stderr",
     "output_type": "stream",
     "text": [
      "input_line_41:2:3: error: use of undeclared identifier 'r'\n",
      " (r << \"MyFunctor <- MyFunctorModule$MyFunctor\")\n",
      "  ^\n",
      "Error in <HandleInterpreterException>: Error evaluating expression (r << \"MyFunctor <- MyFunctorModule$MyFunctor\").\n",
      "Execution of your code was aborted.\n"
     ]
    }
   ],
   "source": [
    "r<<\"MyFunctor <- MyFunctorModule$MyFunctor\";"
   ]
  },
  {
   "cell_type": "markdown",
   "metadata": {},
   "source": [
    "Creating a myfunctor's object"
   ]
  },
  {
   "cell_type": "code",
   "execution_count": 8,
   "metadata": {
    "collapsed": false
   },
   "outputs": [
    {
     "name": "stderr",
     "output_type": "stream",
     "text": [
      "input_line_43:2:3: error: use of undeclared identifier 'r'\n",
      " (r << \"u <- new(MyFunctor)\")\n",
      "  ^\n",
      "Error in <HandleInterpreterException>: Error evaluating expression (r << \"u <- new(MyFunctor)\").\n",
      "Execution of your code was aborted.\n"
     ]
    }
   ],
   "source": [
    "r<<\"u <- new(MyFunctor)\";"
   ]
  },
  {
   "cell_type": "markdown",
   "metadata": {},
   "source": [
    "Printing status"
   ]
  },
  {
   "cell_type": "code",
   "execution_count": 9,
   "metadata": {
    "collapsed": false
   },
   "outputs": [
    {
     "name": "stderr",
     "output_type": "stream",
     "text": [
      "input_line_45:2:3: error: use of undeclared identifier 'r'\n",
      " (r << \"print(u$getStatus())\")\n",
      "  ^\n",
      "Error in <HandleInterpreterException>: Error evaluating expression (r << \"print(u$getStatus())\").\n",
      "Execution of your code was aborted.\n"
     ]
    }
   ],
   "source": [
    "r<<\"print(u$getStatus())\";"
   ]
  },
  {
   "cell_type": "markdown",
   "metadata": {},
   "source": [
    "Printing values from functor and function"
   ]
  },
  {
   "cell_type": "code",
   "execution_count": 10,
   "metadata": {
    "collapsed": false
   },
   "outputs": [
    {
     "name": "stderr",
     "output_type": "stream",
     "text": [
      "input_line_47:2:3: error: use of undeclared identifier 'r'\n",
      " (r << \"print(sprintf('value in R = %f',u$doEval( 1 )))\")\n",
      "  ^\n",
      "Error in <HandleInterpreterException>: Error evaluating expression (r << \"print(sprintf('value in R = %f',u$doEval( 1 )))\").\n",
      "Execution of your code was aborted.\n"
     ]
    }
   ],
   "source": [
    "r<<\"print(sprintf('value in R = %f',u$doEval( 1 )))\";\n",
    "std::cout<<\"value in ROOT = \"<<TMath::BesselY1(1)<<std::endl;"
   ]
  },
  {
   "cell_type": "markdown",
   "metadata": {},
   "source": [
    "Creating a myfunctor's object and passing objects to r's\n",
    " enviornment, the status should be true because it is not\n",
    " using the default function"
   ]
  },
  {
   "cell_type": "code",
   "execution_count": 11,
   "metadata": {
    "collapsed": false
   },
   "outputs": [
    {
     "name": "stderr",
     "output_type": "stream",
     "text": [
      "input_line_48:2:11: error: expected ';' after expression\n",
      " MyFunctor functor;\n",
      "          ^\n",
      "          ;\n",
      "input_line_48:2:12: error: use of undeclared identifier 'functor'\n",
      " MyFunctor functor;\n",
      "           ^\n",
      "input_line_48:3:1: error: use of undeclared identifier 'functor'\n",
      "functor.setFunction(TMath::Erf);\n",
      "^\n",
      "input_line_48:4:1: error: use of undeclared identifier 'r'\n",
      "r[\"functor\"]<<functor;\n",
      "^\n",
      "input_line_48:4:15: error: use of undeclared identifier 'functor'\n",
      "r[\"functor\"]<<functor;\n",
      "              ^\n"
     ]
    }
   ],
   "source": [
    "MyFunctor functor;\n",
    "functor.setFunction(TMath::Erf);\n",
    "r[\"functor\"]<<functor;"
   ]
  },
  {
   "cell_type": "markdown",
   "metadata": {},
   "source": [
    "Printing the status that should be true"
   ]
  },
  {
   "cell_type": "code",
   "execution_count": 12,
   "metadata": {
    "collapsed": false
   },
   "outputs": [
    {
     "name": "stderr",
     "output_type": "stream",
     "text": [
      "input_line_50:2:3: error: use of undeclared identifier 'r'\n",
      " (r << \"print(functor$getStatus())\")\n",
      "  ^\n",
      "Error in <HandleInterpreterException>: Error evaluating expression (r << \"print(functor$getStatus())\").\n",
      "Execution of your code was aborted.\n"
     ]
    }
   ],
   "source": [
    "r<<\"print(functor$getStatus())\";\n",
    "r<<\"print(sprintf('value in R = %f',functor$doEval( 1 )))\";\n",
    "std::cout<<\"value in ROOT = \"<<TMath::Erf(1)<<std::endl;"
   ]
  }
 ],
 "metadata": {
  "kernelspec": {
   "display_name": "ROOT C++",
   "language": "c++",
   "name": "root"
  },
  "language_info": {
   "codemirror_mode": "text/x-c++src",
   "file_extension": ".C",
   "mimetype": " text/x-c++src",
   "name": "c++"
  }
 },
 "nbformat": 4,
 "nbformat_minor": 2
}
