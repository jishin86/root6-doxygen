{
 "cells": [
  {
   "cell_type": "markdown",
   "metadata": {},
   "source": [
    "# Rf 1 0 5_Funcbinding\n",
    "Basic functionality: binding ROOT math functions as RooFit functions and pdfs\n",
    "\n",
    "\n",
    "\n",
    "**Author:** 07/2008 - Wouter Verkerke  \n",
    "<i><small>This notebook tutorial was automatically generated with <a href= \"https://github.com/root-project/root/blob/master/documentation/doxygen/converttonotebook.py\">ROOTBOOK-izer</a> from the macro found in the ROOT repository  on Thursday, August 29, 2019 at 02:40 AM.</small></i>"
   ]
  },
  {
   "cell_type": "code",
   "execution_count": 1,
   "metadata": {
    "collapsed": false
   },
   "outputs": [],
   "source": [
    "%%cpp -d\n",
    "#include \"RooRealVar.h\"\n",
    "#include \"RooDataSet.h\"\n",
    "#include \"RooGaussian.h\"\n",
    "#include \"TCanvas.h\"\n",
    "#include \"TAxis.h\"\n",
    "#include \"RooPlot.h\"\n",
    "#include \"TMath.h\"\n",
    "#include \"TF1.h\"\n",
    "#include \"Math/DistFunc.h\"\n",
    "#include \"RooTFnBinding.h\""
   ]
  },
  {
   "cell_type": "code",
   "execution_count": 2,
   "metadata": {
    "collapsed": false
   },
   "outputs": [],
   "source": [
    "%%cpp -d\n",
    "// This is a workaround to make sure the namespace is used inside functions\n",
    "using namespace RooFit;"
   ]
  },
  {
   "cell_type": "markdown",
   "metadata": {},
   "source": [
    "Bind tmath::erf c function\n",
    " ---------------------------------------------------"
   ]
  },
  {
   "cell_type": "markdown",
   "metadata": {},
   "source": [
    "Bind one-dimensional tmath::erf function as rooabsreal function"
   ]
  },
  {
   "cell_type": "code",
   "execution_count": 3,
   "metadata": {
    "collapsed": false
   },
   "outputs": [
    {
     "name": "stdout",
     "output_type": "stream",
     "text": [
      "\n",
      "\u001b[1mRooFit v3.60 -- Developed by Wouter Verkerke and David Kirkby\u001b[0m \n",
      "                Copyright (C) 2000-2013 NIKHEF, University of California & Stanford University\n",
      "                All rights reserved, please read http://roofit.sourceforge.net/license.txt\n",
      "\n"
     ]
    }
   ],
   "source": [
    "RooRealVar x(\"x\", \"x\", -3, 3);\n",
    "RooAbsReal *errorFunc = bindFunction(\"erf\", TMath::Erf, x);"
   ]
  },
  {
   "cell_type": "markdown",
   "metadata": {},
   "source": [
    "Print erf definition"
   ]
  },
  {
   "cell_type": "code",
   "execution_count": 4,
   "metadata": {
    "collapsed": false
   },
   "outputs": [
    {
     "name": "stdout",
     "output_type": "stream",
     "text": [
      "RooCFunction1Binding<double,double>::erf[ function=TMath::Erf x=x ] = 0\n"
     ]
    }
   ],
   "source": [
    "errorFunc->Print();"
   ]
  },
  {
   "cell_type": "markdown",
   "metadata": {},
   "source": [
    "Plot erf on frame"
   ]
  },
  {
   "cell_type": "code",
   "execution_count": 5,
   "metadata": {
    "collapsed": false
   },
   "outputs": [],
   "source": [
    "RooPlot *frame1 = x.frame(Title(\"TMath::Erf bound as RooFit function\"));\n",
    "errorFunc->plotOn(frame1);"
   ]
  },
  {
   "cell_type": "markdown",
   "metadata": {},
   "source": [
    "Bind root::math::beta_pdf c function\n",
    " -----------------------------------------------------------------------"
   ]
  },
  {
   "cell_type": "markdown",
   "metadata": {},
   "source": [
    "Bind pdf root::math::beta with three variables as rooabspdf function"
   ]
  },
  {
   "cell_type": "code",
   "execution_count": 6,
   "metadata": {
    "collapsed": false
   },
   "outputs": [],
   "source": [
    "RooRealVar x2(\"x2\", \"x2\", 0, 0.999);\n",
    "RooRealVar a(\"a\", \"a\", 5, 0, 10);\n",
    "RooRealVar b(\"b\", \"b\", 2, 0, 10);\n",
    "RooAbsPdf *beta = bindPdf(\"beta\", ROOT::Math::beta_pdf, x2, a, b);"
   ]
  },
  {
   "cell_type": "markdown",
   "metadata": {},
   "source": [
    "Perf beta definition"
   ]
  },
  {
   "cell_type": "code",
   "execution_count": 7,
   "metadata": {
    "collapsed": false
   },
   "outputs": [
    {
     "name": "stdout",
     "output_type": "stream",
     "text": [
      "RooCFunction3PdfBinding<double,double,double,double>::beta[ function=ROOT::Math::beta_pdf x=x2 a=a b=b ] = 0.934689\n"
     ]
    }
   ],
   "source": [
    "beta->Print();"
   ]
  },
  {
   "cell_type": "markdown",
   "metadata": {},
   "source": [
    "Generate some events and fit"
   ]
  },
  {
   "cell_type": "code",
   "execution_count": 8,
   "metadata": {
    "collapsed": false
   },
   "outputs": [
    {
     "name": "stdout",
     "output_type": "stream",
     "text": [
      "[#1] INFO:NumericIntegration -- RooRealIntegral::init(beta_Int[x2]) using numeric integrator RooIntegrator1D to calculate Int(x2)\n",
      "[#1] INFO:NumericIntegration -- RooRealIntegral::init(beta_Int[x2]) using numeric integrator RooIntegrator1D to calculate Int(x2)\n",
      "[#1] INFO:NumericIntegration -- RooRealIntegral::init(beta_Int[x2]) using numeric integrator RooIntegrator1D to calculate Int(x2)\n",
      "[#1] INFO:Minization -- RooMinimizer::optimizeConst: activating const optimization\n",
      " **********\n",
      " **    1 **SET PRINT           1\n",
      " **********\n",
      " **********\n",
      " **    2 **SET NOGRAD\n",
      " **********\n",
      " PARAMETER DEFINITIONS:\n",
      "    NO.   NAME         VALUE      STEP SIZE      LIMITS\n",
      "     1 a            5.00000e+00  1.00000e+00    0.00000e+00  1.00000e+01\n",
      "     2 b            2.00000e+00  1.00000e+00    0.00000e+00  1.00000e+01\n",
      " **********\n",
      " **    3 **SET ERR         0.5\n",
      " **********\n",
      " **********\n",
      " **    4 **SET PRINT           1\n",
      " **********\n",
      " **********\n",
      " **    5 **SET STR           1\n",
      " **********\n",
      " NOW USING STRATEGY  1: TRY TO BALANCE SPEED AGAINST RELIABILITY\n",
      " **********\n",
      " **    6 **MIGRAD        1000           1\n",
      " **********\n",
      " FIRST CALL TO USER FUNCTION AT NEW START POINT, WITH IFLAG=4.\n",
      " START MIGRAD MINIMIZATION.  STRATEGY  1.  CONVERGENCE WHEN EDM .LT. 1.00e-03\n",
      " FCN=-4851.7 FROM MIGRAD    STATUS=INITIATE       10 CALLS          11 TOTAL\n",
      "                     EDM= unknown      STRATEGY= 1      NO ERROR MATRIX       \n",
      "  EXT PARAMETER               CURRENT GUESS       STEP         FIRST   \n",
      "  NO.   NAME      VALUE            ERROR          SIZE      DERIVATIVE \n",
      "   1  a            5.00000e+00   1.00000e+00   2.01358e-01  -5.86406e+01\n",
      "   2  b            2.00000e+00   1.00000e+00   2.57889e-01   3.98974e+02\n",
      "                               ERR DEF= 0.5\n",
      " MIGRAD MINIMIZATION HAS CONVERGED.\n",
      " MIGRAD WILL VERIFY CONVERGENCE AND ERROR MATRIX.\n",
      " COVARIANCE MATRIX CALCULATED SUCCESSFULLY\n",
      " FCN=-4851.9 FROM MIGRAD    STATUS=CONVERGED      39 CALLS          40 TOTAL\n",
      "                     EDM=4.45664e-07    STRATEGY= 1      ERROR MATRIX ACCURATE \n",
      "  EXT PARAMETER                                   STEP         FIRST   \n",
      "  NO.   NAME      VALUE            ERROR          SIZE      DERIVATIVE \n",
      "   1  a            4.99036e+00   7.12139e-02   3.69873e-04   8.65175e-02\n",
      "   2  b            1.98812e+00   2.63908e-02   1.71677e-04  -1.47761e-01\n",
      "                               ERR DEF= 0.5\n",
      " EXTERNAL ERROR MATRIX.    NDIM=  25    NPAR=  2    ERR DEF=0.5\n",
      "  5.072e-03  1.582e-03 \n",
      "  1.582e-03  6.965e-04 \n",
      " PARAMETER  CORRELATION COEFFICIENTS  \n",
      "       NO.  GLOBAL      1      2\n",
      "        1  0.84198   1.000  0.842\n",
      "        2  0.84198   0.842  1.000\n",
      " **********\n",
      " **    7 **SET ERR         0.5\n",
      " **********\n",
      " **********\n",
      " **    8 **SET PRINT           1\n",
      " **********\n",
      " **********\n",
      " **    9 **HESSE        1000\n",
      " **********\n",
      " COVARIANCE MATRIX CALCULATED SUCCESSFULLY\n",
      " FCN=-4851.9 FROM HESSE     STATUS=OK             10 CALLS          50 TOTAL\n",
      "                     EDM=4.46009e-07    STRATEGY= 1      ERROR MATRIX ACCURATE \n",
      "  EXT PARAMETER                                INTERNAL      INTERNAL  \n",
      "  NO.   NAME      VALUE            ERROR       STEP SIZE       VALUE   \n",
      "   1  a            4.99036e+00   7.12317e-02   7.39745e-05  -1.92762e-03\n",
      "   2  b            1.98812e+00   2.63974e-02   3.43355e-05  -6.46475e-01\n",
      "                               ERR DEF= 0.5\n",
      " EXTERNAL ERROR MATRIX.    NDIM=  25    NPAR=  2    ERR DEF=0.5\n",
      "  5.074e-03  1.583e-03 \n",
      "  1.583e-03  6.968e-04 \n",
      " PARAMETER  CORRELATION COEFFICIENTS  \n",
      "       NO.  GLOBAL      1      2\n",
      "        1  0.84207   1.000  0.842\n",
      "        2  0.84207   0.842  1.000\n",
      "[#1] INFO:Minization -- RooMinimizer::optimizeConst: deactivating const optimization\n"
     ]
    }
   ],
   "source": [
    "RooDataSet *data = beta->generate(x2, 10000);\n",
    "beta->fitTo(*data);"
   ]
  },
  {
   "cell_type": "markdown",
   "metadata": {},
   "source": [
    "Plot data and pdf on frame"
   ]
  },
  {
   "cell_type": "code",
   "execution_count": 9,
   "metadata": {
    "collapsed": false
   },
   "outputs": [
    {
     "name": "stdout",
     "output_type": "stream",
     "text": [
      "[#1] INFO:NumericIntegration -- RooRealIntegral::init(beta_Int[x2]) using numeric integrator RooIntegrator1D to calculate Int(x2)\n"
     ]
    }
   ],
   "source": [
    "RooPlot *frame2 = x2.frame(Title(\"ROOT::Math::Beta bound as RooFit pdf\"));\n",
    "data->plotOn(frame2);\n",
    "beta->plotOn(frame2);"
   ]
  },
  {
   "cell_type": "markdown",
   "metadata": {},
   "source": [
    "Bind root tf1 as roofit function\n",
    " ---------------------------------------------------------------"
   ]
  },
  {
   "cell_type": "markdown",
   "metadata": {},
   "source": [
    "Create a root tf1 function"
   ]
  },
  {
   "cell_type": "code",
   "execution_count": 10,
   "metadata": {
    "collapsed": false
   },
   "outputs": [],
   "source": [
    "TF1 *fa1 = new TF1(\"fa1\", \"sin(x)/x\", 0, 10);"
   ]
  },
  {
   "cell_type": "markdown",
   "metadata": {},
   "source": [
    "Create an observable"
   ]
  },
  {
   "cell_type": "code",
   "execution_count": 11,
   "metadata": {
    "collapsed": false
   },
   "outputs": [],
   "source": [
    "RooRealVar x3(\"x3\", \"x3\", 0.01, 20);"
   ]
  },
  {
   "cell_type": "markdown",
   "metadata": {},
   "source": [
    "Create binding of tf1 object to above observable"
   ]
  },
  {
   "cell_type": "code",
   "execution_count": 12,
   "metadata": {
    "collapsed": false
   },
   "outputs": [],
   "source": [
    "RooAbsReal *rfa1 = bindFunction(fa1, x3);"
   ]
  },
  {
   "cell_type": "markdown",
   "metadata": {},
   "source": [
    "Print rfa1 definition"
   ]
  },
  {
   "cell_type": "code",
   "execution_count": 13,
   "metadata": {
    "collapsed": false
   },
   "outputs": [
    {
     "name": "stdout",
     "output_type": "stream",
     "text": [
      "RooTFnBinding::fa1[ TFn={fa1=sin(x)/x} obs=(x3) ] = -0.0547936\n"
     ]
    }
   ],
   "source": [
    "rfa1->Print();"
   ]
  },
  {
   "cell_type": "markdown",
   "metadata": {},
   "source": [
    "Make plot frame in observable, plot tf1 binding function"
   ]
  },
  {
   "cell_type": "code",
   "execution_count": 14,
   "metadata": {
    "collapsed": false
   },
   "outputs": [],
   "source": [
    "RooPlot *frame3 = x3.frame(Title(\"TF1 bound as RooFit function\"));\n",
    "rfa1->plotOn(frame3);\n",
    "\n",
    "TCanvas *c = new TCanvas(\"rf105_funcbinding\", \"rf105_funcbinding\", 1200, 400);\n",
    "c->Divide(3);\n",
    "c->cd(1);\n",
    "gPad->SetLeftMargin(0.15);\n",
    "frame1->GetYaxis()->SetTitleOffset(1.6);\n",
    "frame1->Draw();\n",
    "c->cd(2);\n",
    "gPad->SetLeftMargin(0.15);\n",
    "frame2->GetYaxis()->SetTitleOffset(1.6);\n",
    "frame2->Draw();\n",
    "c->cd(3);\n",
    "gPad->SetLeftMargin(0.15);\n",
    "frame3->GetYaxis()->SetTitleOffset(1.6);\n",
    "frame3->Draw();"
   ]
  },
  {
   "cell_type": "markdown",
   "metadata": {},
   "source": [
    "Draw all canvases "
   ]
  },
  {
   "cell_type": "code",
   "execution_count": 15,
   "metadata": {
    "collapsed": false
   },
   "outputs": [
    {
     "data": {
      "text/html": [
       "\n",
       "<div id=\"root_plot_1\"\n",
       "     style=\"width: 1196px; height: 372px\">\n",
       "</div>\n",
       "\n",
       "<script>\n",
       " requirejs.config({\n",
       "     paths: {\n",
       "       'JSRootCore' : 'https://root.cern.ch/js/notebook//scripts/JSRootCore',\n",
       "     }\n",
       "   });\n",
       " require(['JSRootCore'],\n",
       "     function(Core) {\n",
       "       var obj = Core.JSONR_unref({\"_typename\":\"TCanvas\",\"fUniqueID\":0,\"fBits\":53673992,\"fLineColor\":1,\"fLineStyle\":1,\"fLineWidth\":1,\"fFillColor\":0,\"fFillStyle\":1001,\"fLeftMargin\":0.1,\"fRightMargin\":0.1,\"fBottomMargin\":0.1,\"fTopMargin\":0.1,\"fXfile\":2,\"fYfile\":2,\"fAfile\":1,\"fXstat\":0.99,\"fYstat\":0.99,\"fAstat\":2,\"fFrameFillColor\":0,\"fFrameLineColor\":1,\"fFrameFillStyle\":1001,\"fFrameLineStyle\":1,\"fFrameLineWidth\":1,\"fFrameBorderSize\":1,\"fFrameBorderMode\":0,\"fX1\":0,\"fY1\":0,\"fX2\":1,\"fY2\":1,\"fXtoAbsPixelk\":5e-5,\"fXtoPixelk\":5e-5,\"fXtoPixel\":1196,\"fYtoAbsPixelk\":372.00005,\"fYtoPixelk\":372.00005,\"fYtoPixel\":-372,\"fUtoAbsPixelk\":5e-5,\"fUtoPixelk\":5e-5,\"fUtoPixel\":1196,\"fVtoAbsPixelk\":372.00005,\"fVtoPixelk\":372,\"fVtoPixel\":-372,\"fAbsPixeltoXk\":0,\"fPixeltoXk\":0,\"fPixeltoX\":8.36120401337793e-4,\"fAbsPixeltoYk\":1,\"fPixeltoYk\":0,\"fPixeltoY\":-0.00268817204301075,\"fXlowNDC\":0,\"fYlowNDC\":0,\"fXUpNDC\":0,\"fYUpNDC\":0,\"fWNDC\":1,\"fHNDC\":1,\"fAbsXlowNDC\":0,\"fAbsYlowNDC\":0,\"fAbsWNDC\":1,\"fAbsHNDC\":1,\"fUxmin\":0,\"fUymin\":0,\"fUxmax\":1,\"fUymax\":1,\"fTheta\":30,\"fPhi\":30,\"fAspectRatio\":0,\"fNumber\":0,\"fTickx\":0,\"fTicky\":0,\"fLogx\":0,\"fLogy\":0,\"fLogz\":0,\"fPadPaint\":0,\"fCrosshair\":0,\"fCrosshairPos\":0,\"fBorderSize\":2,\"fBorderMode\":0,\"fModified\":false,\"fGridx\":false,\"fGridy\":false,\"fAbsCoord\":false,\"fEditable\":true,\"fFixedAspectRatio\":false,\"fPrimitives\":{\"_typename\":\"TList\",\"name\":\"TList\",\"arr\":[{\"_typename\":\"TPad\",\"fUniqueID\":0,\"fBits\":50331657,\"fLineColor\":1,\"fLineStyle\":1,\"fLineWidth\":1,\"fFillColor\":0,\"fFillStyle\":1001,\"fLeftMargin\":0.15,\"fRightMargin\":0.1,\"fBottomMargin\":0.1,\"fTopMargin\":0.1,\"fXfile\":2,\"fYfile\":2,\"fAfile\":1,\"fXstat\":0.99,\"fYstat\":0.99,\"fAstat\":2,\"fFrameFillColor\":0,\"fFrameLineColor\":1,\"fFrameFillStyle\":1001,\"fFrameLineStyle\":1,\"fFrameLineWidth\":1,\"fFrameBorderSize\":1,\"fFrameBorderMode\":0,\"fX1\":-4.20000004768372,\"fY1\":-1.37496964605527,\"fX2\":3.80000001192093,\"fY2\":1.37496964605527,\"fXtoAbsPixelk\":208.702050781188,\"fXtoPixelk\":196.742051048515,\"fXtoPixel\":46.843333051155,\"fYtoAbsPixelk\":186.00005,\"fYtoPixelk\":182.280050083148,\"fYtoPixel\":-132.570199353929,\"fUtoAbsPixelk\":11.9600497326732,\"fUtoPixelk\":5e-5,\"fUtoPixel\":374.74666720132,\"fVtoAbsPixelk\":368.280050083148,\"fVtoPixelk\":364.560000166297,\"fVtoPixel\":-364.560000166297,\"fAbsPixeltoXk\":-4.45531919245107,\"fPixeltoXk\":-4.20000004768372,\"fPixeltoX\":0.0213477550563696,\"fAbsPixeltoYk\":1.4030302504368,\"fPixeltoYk\":-1.37496964605527,\"fPixeltoY\":-0.00754317338944519,\"fXlowNDC\":0.00999999977648258,\"fYlowNDC\":0.00999999977648258,\"fXUpNDC\":0,\"fYUpNDC\":0,\"fWNDC\":0.313333333780368,\"fHNDC\":0.980000000447035,\"fAbsXlowNDC\":0.00999999977648258,\"fAbsYlowNDC\":0.00999999977648258,\"fAbsWNDC\":0.313333333780368,\"fAbsHNDC\":0.980000000447035,\"fUxmin\":-3,\"fUymin\":-1.0999757004533,\"fUxmax\":3,\"fUymax\":1.0999757004533,\"fTheta\":30,\"fPhi\":30,\"fAspectRatio\":0,\"fNumber\":1,\"fTickx\":0,\"fTicky\":0,\"fLogx\":0,\"fLogy\":0,\"fLogz\":0,\"fPadPaint\":0,\"fCrosshair\":0,\"fCrosshairPos\":0,\"fBorderSize\":2,\"fBorderMode\":0,\"fModified\":false,\"fGridx\":false,\"fGridy\":false,\"fAbsCoord\":false,\"fEditable\":true,\"fFixedAspectRatio\":false,\"fPrimitives\":{\"_typename\":\"TList\",\"name\":\"TList\",\"arr\":[{\"_typename\":\"TFrame\",\"fUniqueID\":0,\"fBits\":50331656,\"fLineColor\":1,\"fLineStyle\":1,\"fLineWidth\":1,\"fFillColor\":0,\"fFillStyle\":1001,\"fX1\":-3,\"fY1\":-1.0999757004533,\"fX2\":3,\"fY2\":1.0999757004533,\"fBorderSize\":1,\"fBorderMode\":0},{\"_typename\":\"TH1D\",\"fUniqueID\":0,\"fBits\":50332168,\"fName\":\"frame_7f5080439560\",\"fTitle\":\"TMath::Erf bound as RooFit function\",\"fLineColor\":602,\"fLineStyle\":1,\"fLineWidth\":1,\"fFillColor\":0,\"fFillStyle\":1001,\"fMarkerColor\":1,\"fMarkerStyle\":1,\"fMarkerSize\":1,\"fNcells\":102,\"fXaxis\":{\"_typename\":\"TAxis\",\"fUniqueID\":0,\"fBits\":50331648,\"fName\":\"xaxis\",\"fTitle\":\"x\",\"fNdivisions\":510,\"fAxisColor\":1,\"fLabelColor\":1,\"fLabelFont\":42,\"fLabelOffset\":0.005,\"fLabelSize\":0.035,\"fTickLength\":0.03,\"fTitleOffset\":1,\"fTitleSize\":0.035,\"fTitleColor\":1,\"fTitleFont\":42,\"fNbins\":100,\"fXmin\":-3,\"fXmax\":3,\"fXbins\":[],\"fFirst\":0,\"fLast\":0,\"fBits2\":0,\"fTimeDisplay\":false,\"fTimeFormat\":\"\",\"fLabels\":null,\"fModLabs\":null},\"fYaxis\":{\"_typename\":\"TAxis\",\"fUniqueID\":0,\"fBits\":50331648,\"fName\":\"yaxis\",\"fTitle\":\"Projection of erf\",\"fNdivisions\":510,\"fAxisColor\":1,\"fLabelColor\":1,\"fLabelFont\":42,\"fLabelOffset\":0.005,\"fLabelSize\":0.035,\"fTickLength\":0.03,\"fTitleOffset\":1.6,\"fTitleSize\":0.035,\"fTitleColor\":1,\"fTitleFont\":42,\"fNbins\":1,\"fXmin\":0,\"fXmax\":1,\"fXbins\":[],\"fFirst\":0,\"fLast\":0,\"fBits2\":0,\"fTimeDisplay\":false,\"fTimeFormat\":\"\",\"fLabels\":null,\"fModLabs\":null},\"fZaxis\":{\"_typename\":\"TAxis\",\"fUniqueID\":0,\"fBits\":50331648,\"fName\":\"zaxis\",\"fTitle\":\"\",\"fNdivisions\":510,\"fAxisColor\":1,\"fLabelColor\":1,\"fLabelFont\":42,\"fLabelOffset\":0.005,\"fLabelSize\":0.035,\"fTickLength\":0.03,\"fTitleOffset\":1,\"fTitleSize\":0.035,\"fTitleColor\":1,\"fTitleFont\":42,\"fNbins\":1,\"fXmin\":0,\"fXmax\":1,\"fXbins\":[],\"fFirst\":0,\"fLast\":0,\"fBits2\":0,\"fTimeDisplay\":false,\"fTimeFormat\":\"\",\"fLabels\":null,\"fModLabs\":null},\"fBarOffset\":0,\"fBarWidth\":1000,\"fEntries\":1,\"fTsumw\":0,\"fTsumw2\":0,\"fTsumwx\":0,\"fTsumwx2\":0,\"fMaximum\":1.0999757004533,\"fMinimum\":-1.0999757004533,\"fNormFactor\":0,\"fContour\":[],\"fSumw2\":[],\"fOption\":\"\",\"fFunctions\":{\"_typename\":\"TList\",\"name\":\"TList\",\"arr\":[],\"opt\":[]},\"fBufferSize\":0,\"fBuffer\":[],\"fBinStatErrOpt\":0,\"fStatOverflows\":2,\"fArray\":[0,1.0999757004533,0,0,0,0,0,0,0,0,0,0,0,0,0,0,0,0,0,0,0,0,0,0,0,0,0,0,0,0,0,0,0,0,0,0,0,0,0,0,0,0,0,0,0,0,0,0,0,0,0,0,0,0,0,0,0,0,0,0,0,0,0,0,0,0,0,0,0,0,0,0,0,0,0,0,0,0,0,0,0,0,0,0,0,0,0,0,0,0,0,0,0,0,0,0,0,0,0,0,0,0]},{\"_typename\":\"RooCurve\",\"fUniqueID\":0,\"fBits\":50332680,\"fName\":\"erf_Norm[x]\",\"fTitle\":\"Projection of erf\",\"fLineColor\":600,\"fLineStyle\":1,\"fLineWidth\":3,\"fFillColor\":0,\"fFillStyle\":1000,\"fMarkerColor\":1,\"fMarkerStyle\":1,\"fMarkerSize\":1,\"fNpoints\":106,\"fX\":[-3.06,-3.06,-3,-2.94,-2.88,-2.82,-2.76,-2.7,-2.64,-2.58,-2.52,-2.46,-2.4,-2.34,-2.28,-2.22,-2.16,-2.1,-2.04,-1.98,-1.92,-1.86,-1.8,-1.74,-1.68,-1.62,-1.56,-1.5,-1.44,-1.38,-1.32,-1.26,-1.2,-1.14,-1.08,-1.02,-0.96,-0.9,-0.84,-0.78,-0.72,-0.66,-0.6,-0.54,-0.48,-0.42,-0.36,-0.3,-0.24,-0.18,-0.12,-0.0600000000000001,0,0.0600000000000001,0.12,0.18,0.24,0.3,0.36,0.42,0.48,0.54,0.6,0.66,0.72,0.78,0.84,0.9,0.96,1.02,1.08,1.14,1.2,1.26,1.32,1.38,1.44,1.5,1.56,1.62,1.68,1.74,1.8,1.86,1.92,1.98,2.04,2.1,2.16,2.22,2.28,2.34,2.4,2.46,2.52,2.58,2.64,2.7,2.76,2.82,2.88,2.94,3,3,3.06,3.06],\"fY\":[0,-0.999977909503001,-0.999977909503001,-0.999967865579774,-0.999953575628159,-0.99993339042726,-0.99990508235219,-0.999865667260059,-0.999811180661268,-0.999736399570163,-0.999634500823465,-0.999496646359442,-0.999311486103355,-0.999064569861092,-0.998737661150219,-0.998307948365065,-0.997747152237208,-0.997020533343667,-0.99608580951232,-0.994892000386814,-0.993378225056985,-0.99147248833564,-0.989090501635731,-0.986134594996633,-0.982492787002465,-0.978038088373203,-0.9726281220266,-0.966105146475311,-0.958296569600565,-0.949016035256363,-0.938065155078711,-0.925235941810129,-0.910313978229635,-0.893082327629857,-0.87332615838789,-0.850838017700942,-0.825423649643818,-0.796908212422832,-0.765142711454994,-0.730010431298579,-0.691433123138751,-0.649376687962954,-0.603856090847926,-0.55493925045639,-0.502749670694765,-0.447467618426025,-0.389329701128664,-0.328626759459128,-0.265700058953792,-0.200935839018696,-0.13475835181992,-0.0676215943933085,0,0.0676215943933085,0.13475835181992,0.200935839018695,0.265700058953792,0.328626759459127,0.389329701128664,0.447467618426025,0.502749670694765,0.55493925045639,0.603856090847926,0.649376687962954,0.691433123138751,0.730010431298579,0.765142711454994,0.796908212422832,0.825423649643818,0.850838017700942,0.87332615838789,0.893082327629857,0.910313978229635,0.925235941810129,0.938065155078711,0.949016035256363,0.958296569600565,0.966105146475311,0.9726281220266,0.978038088373203,0.982492787002465,0.986134594996633,0.989090501635731,0.99147248833564,0.993378225056985,0.994892000386814,0.99608580951232,0.997020533343667,0.997747152237208,0.998307948365065,0.998737661150219,0.999064569861092,0.999311486103355,0.999496646359442,0.999634500823465,0.999736399570163,0.999811180661269,0.999865667260059,0.99990508235219,0.99993339042726,0.999953575628159,0.999967865579774,0.999977909503001,0.999977909503001,0.999977909503001,0],\"fFunctions\":{\"_typename\":\"TList\",\"name\":\"TList\",\"arr\":[],\"opt\":[]},\"fHistogram\":{\"_typename\":\"TH1F\",\"fUniqueID\":0,\"fBits\":50332168,\"fName\":\"erf_Norm[x]\",\"fTitle\":\"Projection of erf\",\"fLineColor\":602,\"fLineStyle\":1,\"fLineWidth\":1,\"fFillColor\":0,\"fFillStyle\":1001,\"fMarkerColor\":1,\"fMarkerStyle\":1,\"fMarkerSize\":1,\"fNcells\":108,\"fXaxis\":{\"_typename\":\"TAxis\",\"fUniqueID\":0,\"fBits\":50331648,\"fName\":\"xaxis\",\"fTitle\":\"\",\"fNdivisions\":510,\"fAxisColor\":1,\"fLabelColor\":1,\"fLabelFont\":42,\"fLabelOffset\":0.005,\"fLabelSize\":0.035,\"fTickLength\":0.03,\"fTitleOffset\":1,\"fTitleSize\":0.035,\"fTitleColor\":1,\"fTitleFont\":42,\"fNbins\":106,\"fXmin\":-3.672,\"fXmax\":3.672,\"fXbins\":[],\"fFirst\":0,\"fLast\":0,\"fBits2\":0,\"fTimeDisplay\":false,\"fTimeFormat\":\"\",\"fLabels\":null,\"fModLabs\":null},\"fYaxis\":{\"_typename\":\"TAxis\",\"fUniqueID\":0,\"fBits\":50331648,\"fName\":\"yaxis\",\"fTitle\":\"\",\"fNdivisions\":510,\"fAxisColor\":1,\"fLabelColor\":1,\"fLabelFont\":42,\"fLabelOffset\":0.005,\"fLabelSize\":0.035,\"fTickLength\":0.03,\"fTitleOffset\":0,\"fTitleSize\":0.035,\"fTitleColor\":1,\"fTitleFont\":42,\"fNbins\":1,\"fXmin\":-1.1999734914036,\"fXmax\":1.1999734914036,\"fXbins\":[],\"fFirst\":0,\"fLast\":0,\"fBits2\":0,\"fTimeDisplay\":false,\"fTimeFormat\":\"\",\"fLabels\":null,\"fModLabs\":null},\"fZaxis\":{\"_typename\":\"TAxis\",\"fUniqueID\":0,\"fBits\":50331648,\"fName\":\"zaxis\",\"fTitle\":\"\",\"fNdivisions\":510,\"fAxisColor\":1,\"fLabelColor\":1,\"fLabelFont\":42,\"fLabelOffset\":0.005,\"fLabelSize\":0.035,\"fTickLength\":0.03,\"fTitleOffset\":1,\"fTitleSize\":0.035,\"fTitleColor\":1,\"fTitleFont\":42,\"fNbins\":1,\"fXmin\":0,\"fXmax\":1,\"fXbins\":[],\"fFirst\":0,\"fLast\":0,\"fBits2\":0,\"fTimeDisplay\":false,\"fTimeFormat\":\"\",\"fLabels\":null,\"fModLabs\":null},\"fBarOffset\":0,\"fBarWidth\":1000,\"fEntries\":0,\"fTsumw\":0,\"fTsumw2\":0,\"fTsumwx\":0,\"fTsumwx2\":0,\"fMaximum\":1.1999734914036,\"fMinimum\":-1.1999734914036,\"fNormFactor\":0,\"fContour\":[],\"fSumw2\":[],\"fOption\":\"\",\"fFunctions\":{\"_typename\":\"TList\",\"name\":\"TList\",\"arr\":[],\"opt\":[]},\"fBufferSize\":0,\"fBuffer\":[],\"fBinStatErrOpt\":0,\"fStatOverflows\":2,\"fArray\":[0,0,0,0,0,0,0,0,0,0,0,0,0,0,0,0,0,0,0,0,0,0,0,0,0,0,0,0,0,0,0,0,0,0,0,0,0,0,0,0,0,0,0,0,0,0,0,0,0,0,0,0,0,0,0,0,0,0,0,0,0,0,0,0,0,0,0,0,0,0,0,0,0,0,0,0,0,0,0,0,0,0,0,0,0,0,0,0,0,0,0,0,0,0,0,0,0,0,0,0,0,0,0,0,0,0,0,0]},\"fMinimum\":-1111,\"fMaximum\":-1111,\"_yAxisLabel\":\"Projection of erf\",\"_ymin\":-0.999977909503001,\"_ymax\":0.999977909503001,\"_normValue\":0},{\"$ref\":5},{\"_typename\":\"TPaveText\",\"fUniqueID\":0,\"fBits\":50331657,\"fLineColor\":1,\"fLineStyle\":1,\"fLineWidth\":1,\"fFillColor\":0,\"fFillStyle\":0,\"fX1\":-3.00000003874302,\"fY1\":1.20997329938762,\"fX2\":2.60000000298023,\"fY2\":1.36121996270745,\"fX1NDC\":0.15,\"fY1NDC\":0.940000003948808,\"fX2NDC\":0.85,\"fY2NDC\":0.995000004768372,\"fBorderSize\":0,\"fInit\":1,\"fShadowColor\":1,\"fCornerRadius\":0,\"fOption\":\"blNDC\",\"fName\":\"title\",\"fTextAngle\":0,\"fTextSize\":0,\"fTextAlign\":22,\"fTextColor\":1,\"fTextFont\":42,\"fLabel\":\"\",\"fLongest\":35,\"fMargin\":0.05,\"fLines\":{\"_typename\":\"TList\",\"name\":\"TList\",\"arr\":[{\"_typename\":\"TLatex\",\"fUniqueID\":0,\"fBits\":50331648,\"fName\":\"\",\"fTitle\":\"TMath::Erf bound as RooFit function\",\"fTextAngle\":0,\"fTextSize\":0,\"fTextAlign\":0,\"fTextColor\":0,\"fTextFont\":0,\"fX\":0,\"fY\":0,\"fLineColor\":1,\"fLineStyle\":1,\"fLineWidth\":2,\"fLimitFactorSize\":3,\"fOriginSize\":0.0467500016093254}],\"opt\":[\"\"]}}],\"opt\":[\"\",\"FUNC\",\"l\",\"AXISSAME\",\"blNDC\"]},\"fExecs\":{\"_typename\":\"TList\",\"name\":\"TList\",\"arr\":[],\"opt\":[]},\"fName\":\"rf105_funcbinding_1\",\"fTitle\":\"rf105_funcbinding_1\",\"fNumPaletteColor\":0,\"fNextPaletteColor\":0},{\"_typename\":\"TPad\",\"fUniqueID\":0,\"fBits\":50331657,\"fLineColor\":1,\"fLineStyle\":1,\"fLineWidth\":1,\"fFillColor\":0,\"fFillStyle\":1001,\"fLeftMargin\":0.15,\"fRightMargin\":0.1,\"fBottomMargin\":0.1,\"fTopMargin\":0.1,\"fXfile\":2,\"fYfile\":2,\"fAfile\":1,\"fXstat\":0.99,\"fYstat\":0.99,\"fAstat\":2,\"fFrameFillColor\":0,\"fFrameLineColor\":1,\"fFrameFillStyle\":1001,\"fFrameLineStyle\":1,\"fFrameLineWidth\":1,\"fFrameBorderSize\":1,\"fFrameBorderMode\":0,\"fX1\":-0.199800007939339,\"fY1\":-37.525537925307,\"fX2\":1.13220000198483,\"fY2\":337.7298189608,\"fXtoAbsPixelk\":466.83871829439,\"fXtoPixelk\":56.2120518950502,\"fXtoPixel\":281.341339646577,\"fYtoAbsPixelk\":331.824047893572,\"fYtoPixelk\":328.10404797672,\"fYtoPixel\":-0.971498456921279,\"fUtoAbsPixelk\":410.62671639934,\"fUtoPixelk\":5e-5,\"fUtoPixel\":374.74666720132,\"fVtoAbsPixelk\":368.280050083148,\"fVtoPixelk\":364.560000166297,\"fVtoPixel\":-364.560000166297,\"fAbsPixeltoXk\":-1.6593319306748,\"fPixeltoXk\":-0.199800007939339,\"fPixeltoX\":0.00355440121688554,\"fAbsPixeltoYk\":341.558955168222,\"fPixeltoYk\":-37.525537925307,\"fPixeltoY\":-1.0293377131746,\"fXlowNDC\":0.343333333109816,\"fYlowNDC\":0.00999999977648258,\"fXUpNDC\":0,\"fYUpNDC\":0,\"fWNDC\":0.313333333780368,\"fHNDC\":0.980000000447035,\"fAbsXlowNDC\":0.343333333109816,\"fAbsYlowNDC\":0.00999999977648258,\"fAbsWNDC\":0.313333333780368,\"fAbsHNDC\":0.980000000447035,\"fUxmin\":0,\"fUymin\":0,\"fUxmax\":0.999,\"fUymax\":300.204281035493,\"fTheta\":30,\"fPhi\":30,\"fAspectRatio\":0,\"fNumber\":2,\"fTickx\":0,\"fTicky\":0,\"fLogx\":0,\"fLogy\":0,\"fLogz\":0,\"fPadPaint\":0,\"fCrosshair\":0,\"fCrosshairPos\":0,\"fBorderSize\":2,\"fBorderMode\":0,\"fModified\":false,\"fGridx\":false,\"fGridy\":false,\"fAbsCoord\":false,\"fEditable\":true,\"fFixedAspectRatio\":false,\"fPrimitives\":{\"_typename\":\"TList\",\"name\":\"TList\",\"arr\":[{\"_typename\":\"TFrame\",\"fUniqueID\":0,\"fBits\":50331656,\"fLineColor\":1,\"fLineStyle\":1,\"fLineWidth\":1,\"fFillColor\":0,\"fFillStyle\":1001,\"fX1\":0,\"fY1\":0,\"fX2\":0.999,\"fY2\":300.204281035493,\"fBorderSize\":1,\"fBorderMode\":0},{\"_typename\":\"TH1D\",\"fUniqueID\":0,\"fBits\":50332168,\"fName\":\"frame_7f5080765530\",\"fTitle\":\"ROOT::Math::Beta bound as RooFit pdf\",\"fLineColor\":602,\"fLineStyle\":1,\"fLineWidth\":1,\"fFillColor\":0,\"fFillStyle\":1001,\"fMarkerColor\":1,\"fMarkerStyle\":1,\"fMarkerSize\":1,\"fNcells\":102,\"fXaxis\":{\"_typename\":\"TAxis\",\"fUniqueID\":0,\"fBits\":50331648,\"fName\":\"xaxis\",\"fTitle\":\"x2\",\"fNdivisions\":510,\"fAxisColor\":1,\"fLabelColor\":1,\"fLabelFont\":42,\"fLabelOffset\":0.005,\"fLabelSize\":0.035,\"fTickLength\":0.03,\"fTitleOffset\":1,\"fTitleSize\":0.035,\"fTitleColor\":1,\"fTitleFont\":42,\"fNbins\":100,\"fXmin\":0,\"fXmax\":0.999,\"fXbins\":[],\"fFirst\":0,\"fLast\":0,\"fBits2\":0,\"fTimeDisplay\":false,\"fTimeFormat\":\"\",\"fLabels\":null,\"fModLabs\":null},\"fYaxis\":{\"_typename\":\"TAxis\",\"fUniqueID\":0,\"fBits\":50331648,\"fName\":\"yaxis\",\"fTitle\":\"Events \\/ ( 0.00999 )\",\"fNdivisions\":510,\"fAxisColor\":1,\"fLabelColor\":1,\"fLabelFont\":42,\"fLabelOffset\":0.005,\"fLabelSize\":0.035,\"fTickLength\":0.03,\"fTitleOffset\":1.6,\"fTitleSize\":0.035,\"fTitleColor\":1,\"fTitleFont\":42,\"fNbins\":1,\"fXmin\":0,\"fXmax\":1,\"fXbins\":[],\"fFirst\":0,\"fLast\":0,\"fBits2\":0,\"fTimeDisplay\":false,\"fTimeFormat\":\"\",\"fLabels\":null,\"fModLabs\":null},\"fZaxis\":{\"_typename\":\"TAxis\",\"fUniqueID\":0,\"fBits\":50331648,\"fName\":\"zaxis\",\"fTitle\":\"\",\"fNdivisions\":510,\"fAxisColor\":1,\"fLabelColor\":1,\"fLabelFont\":42,\"fLabelOffset\":0.005,\"fLabelSize\":0.035,\"fTickLength\":0.03,\"fTitleOffset\":1,\"fTitleSize\":0.035,\"fTitleColor\":1,\"fTitleFont\":42,\"fNbins\":1,\"fXmin\":0,\"fXmax\":1,\"fXbins\":[],\"fFirst\":0,\"fLast\":0,\"fBits2\":0,\"fTimeDisplay\":false,\"fTimeFormat\":\"\",\"fLabels\":null,\"fModLabs\":null},\"fBarOffset\":0,\"fBarWidth\":1000,\"fEntries\":1,\"fTsumw\":0,\"fTsumw2\":0,\"fTsumwx\":0,\"fTsumwx2\":0,\"fMaximum\":300.204281035493,\"fMinimum\":-1111,\"fNormFactor\":0,\"fContour\":[],\"fSumw2\":[],\"fOption\":\"\",\"fFunctions\":{\"_typename\":\"TList\",\"name\":\"TList\",\"arr\":[],\"opt\":[]},\"fBufferSize\":0,\"fBuffer\":[],\"fBinStatErrOpt\":0,\"fStatOverflows\":2,\"fArray\":[0,300.204281035493,0,0,0,0,0,0,0,0,0,0,0,0,0,0,0,0,0,0,0,0,0,0,0,0,0,0,0,0,0,0,0,0,0,0,0,0,0,0,0,0,0,0,0,0,0,0,0,0,0,0,0,0,0,0,0,0,0,0,0,0,0,0,0,0,0,0,0,0,0,0,0,0,0,0,0,0,0,0,0,0,0,0,0,0,0,0,0,0,0,0,0,0,0,0,0,0,0,0,0,0]},{\"_typename\":\"RooHist\",\"fUniqueID\":0,\"fBits\":50332680,\"fName\":\"h_betaData\",\"fTitle\":\"Histogram of betaData_plot__x2\",\"fLineColor\":1,\"fLineStyle\":1,\"fLineWidth\":1,\"fFillColor\":0,\"fFillStyle\":1000,\"fMarkerColor\":1,\"fMarkerStyle\":8,\"fMarkerSize\":1,\"fNpoints\":100,\"fX\":[0.004995,0.014985,0.024975,0.034965,0.044955,0.054945,0.064935,0.074925,0.084915,0.094905,0.104895,0.114885,0.124875,0.134865,0.144855,0.154845,0.164835,0.174825,0.184815,0.194805,0.204795,0.214785,0.224775,0.234765,0.244755,0.254745,0.264735,0.274725,0.284715,0.294705,0.304695,0.314685,0.324675,0.334665,0.344655,0.354645,0.364635,0.374625,0.384615,0.394605,0.404595,0.414585,0.424575,0.434565,0.444555,0.454545,0.464535,0.474525,0.484515,0.494505,0.504495,0.514485,0.524475,0.534465,0.544455,0.554445,0.564435,0.574425,0.584415,0.594405,0.604395,0.614385,0.624375,0.634365,0.644355,0.654345,0.664335,0.674325,0.684315,0.694305,0.704295,0.714285,0.724275,0.734265,0.744255,0.754245,0.764235,0.774225,0.784215,0.794205,0.804195,0.814185,0.824175,0.834165,0.844155,0.854145,0.864135,0.874125,0.884115,0.894105,0.904095,0.914085,0.924075,0.934065,0.944055,0.954045,0.964035,0.974025,0.984015,0.994005],\"fY\":[0,0,0,0,0,0,0,0,0,0,0,0,0,0,1,2,2,3,1,2,7,6,3,9,5,10,7,10,16,17,15,27,21,19,29,38,38,37,36,42,43,53,57,60,81,68,67,92,86,88,92,122,119,96,119,127,116,132,146,177,147,153,166,177,177,188,204,199,201,222,229,208,231,228,225,243,208,254,230,269,249,254,232,261,231,199,233,231,212,212,171,191,167,141,169,129,94,65,41,15],\"fFunctions\":{\"_typename\":\"TList\",\"name\":\"TList\",\"arr\":[],\"opt\":[]},\"fHistogram\":{\"_typename\":\"TH1F\",\"fUniqueID\":0,\"fBits\":50332168,\"fName\":\"h_betaData\",\"fTitle\":\"Histogram of betaData_plot__x2\",\"fLineColor\":602,\"fLineStyle\":1,\"fLineWidth\":1,\"fFillColor\":0,\"fFillStyle\":1001,\"fMarkerColor\":1,\"fMarkerStyle\":1,\"fMarkerSize\":1,\"fNcells\":102,\"fXaxis\":{\"_typename\":\"TAxis\",\"fUniqueID\":0,\"fBits\":50331648,\"fName\":\"xaxis\",\"fTitle\":\"\",\"fNdivisions\":510,\"fAxisColor\":1,\"fLabelColor\":1,\"fLabelFont\":42,\"fLabelOffset\":0.005,\"fLabelSize\":0.035,\"fTickLength\":0.03,\"fTitleOffset\":1,\"fTitleSize\":0.035,\"fTitleColor\":1,\"fTitleFont\":42,\"fNbins\":100,\"fXmin\":0,\"fXmax\":1.0989,\"fXbins\":[],\"fFirst\":0,\"fLast\":0,\"fBits2\":0,\"fTimeDisplay\":false,\"fTimeFormat\":\"\",\"fLabels\":null,\"fModLabs\":null},\"fYaxis\":{\"_typename\":\"TAxis\",\"fUniqueID\":0,\"fBits\":50331648,\"fName\":\"yaxis\",\"fTitle\":\"\",\"fNdivisions\":510,\"fAxisColor\":1,\"fLabelColor\":1,\"fLabelFont\":42,\"fLabelOffset\":0.005,\"fLabelSize\":0.035,\"fTickLength\":0.03,\"fTitleOffset\":0,\"fTitleSize\":0.035,\"fTitleColor\":1,\"fTitleFont\":42,\"fNbins\":1,\"fXmin\":0,\"fXmax\":314.499722989564,\"fXbins\":[],\"fFirst\":0,\"fLast\":0,\"fBits2\":0,\"fTimeDisplay\":false,\"fTimeFormat\":\"\",\"fLabels\":null,\"fModLabs\":null},\"fZaxis\":{\"_typename\":\"TAxis\",\"fUniqueID\":0,\"fBits\":50331648,\"fName\":\"zaxis\",\"fTitle\":\"\",\"fNdivisions\":510,\"fAxisColor\":1,\"fLabelColor\":1,\"fLabelFont\":42,\"fLabelOffset\":0.005,\"fLabelSize\":0.035,\"fTickLength\":0.03,\"fTitleOffset\":1,\"fTitleSize\":0.035,\"fTitleColor\":1,\"fTitleFont\":42,\"fNbins\":1,\"fXmin\":0,\"fXmax\":1,\"fXbins\":[],\"fFirst\":0,\"fLast\":0,\"fBits2\":0,\"fTimeDisplay\":false,\"fTimeFormat\":\"\",\"fLabels\":null,\"fModLabs\":null},\"fBarOffset\":0,\"fBarWidth\":1000,\"fEntries\":0,\"fTsumw\":0,\"fTsumw2\":0,\"fTsumwx\":0,\"fTsumwx2\":0,\"fMaximum\":314.499722989564,\"fMinimum\":0,\"fNormFactor\":0,\"fContour\":[],\"fSumw2\":[],\"fOption\":\"\",\"fFunctions\":{\"_typename\":\"TList\",\"name\":\"TList\",\"arr\":[],\"opt\":[]},\"fBufferSize\":0,\"fBuffer\":[],\"fBinStatErrOpt\":0,\"fStatOverflows\":2,\"fArray\":[0,0,0,0,0,0,0,0,0,0,0,0,0,0,0,0,0,0,0,0,0,0,0,0,0,0,0,0,0,0,0,0,0,0,0,0,0,0,0,0,0,0,0,0,0,0,0,0,0,0,0,0,0,0,0,0,0,0,0,0,0,0,0,0,0,0,0,0,0,0,0,0,0,0,0,0,0,0,0,0,0,0,0,0,0,0,0,0,0,0,0,0,0,0,0,0,0,0,0,0,0,0]},\"fMinimum\":-1111,\"fMaximum\":-1111,\"fEXlow\":[0.004995,0.004995,0.004995,0.004995,0.004995,0.004995,0.004995,0.004995,0.004995,0.004995,0.004995,0.004995,0.004995,0.004995,0.004995,0.004995,0.004995,0.004995,0.004995,0.004995,0.004995,0.004995,0.004995,0.004995,0.004995,0.004995,0.004995,0.004995,0.004995,0.004995,0.004995,0.004995,0.004995,0.004995,0.004995,0.004995,0.004995,0.004995,0.004995,0.004995,0.004995,0.004995,0.004995,0.004995,0.004995,0.004995,0.004995,0.004995,0.004995,0.004995,0.004995,0.004995,0.004995,0.004995,0.004995,0.004995,0.004995,0.004995,0.004995,0.004995,0.004995,0.004995,0.004995,0.004995,0.004995,0.004995,0.004995,0.004995,0.004995,0.004995,0.004995,0.004995,0.004995,0.004995,0.004995,0.004995,0.004995,0.004995,0.004995,0.004995,0.004995,0.004995,0.004995,0.004995,0.004995,0.004995,0.004995,0.004995,0.004995,0.004995,0.004995,0.004995,0.004995,0.004995,0.004995,0.004995,0.004995,0.004995,0.004995,0.004995],\"fEXhigh\":[0.004995,0.004995,0.004995,0.004995,0.004995,0.004995,0.004995,0.004995,0.004995,0.004995,0.004995,0.004995,0.004995,0.004995,0.004995,0.004995,0.004995,0.004995,0.004995,0.004995,0.004995,0.004995,0.004995,0.004995,0.004995,0.004995,0.004995,0.004995,0.004995,0.004995,0.004995,0.004995,0.004995,0.004995,0.004995,0.004995,0.004995,0.004995,0.004995,0.004995,0.004995,0.004995,0.004995,0.004995,0.004995,0.004995,0.004995,0.004995,0.004995,0.004995,0.004995,0.004995,0.004995,0.004995,0.004995,0.004995,0.004995,0.004995,0.004995,0.004995,0.004995,0.004995,0.004995,0.004995,0.004995,0.004995,0.004995,0.004995,0.004995,0.004995,0.004995,0.004995,0.004995,0.004995,0.004995,0.004995,0.004995,0.004995,0.004995,0.004995,0.004995,0.004995,0.004995,0.004995,0.004995,0.004995,0.004995,0.004995,0.004995,0.004995,0.004995,0.004995,0.004995,0.004995,0.004995,0.004995,0.004995,0.004995,0.004995,0.004995],\"fEYlow\":[0,0,0,0,0,0,0,0,0,0,0,0,0,0,0.82724622097655,1.29181456018103,1.29181456018103,1.63270468610957,0.82724622097655,1.29181456018103,2.58147045606626,2.37993137929577,1.63270468610957,2.94346103725076,2.15969114440678,3.10869443936164,2.58147045606626,3.10869443936164,3.95780102940381,4.08218389934171,3.82938009857506,5.16377123855587,4.54580699932335,4.32021937465496,5.35393156485154,6.13716310988257,6.13716310988257,6.05514266189532,5.97199579039322,6.45483071102782,6.53183400521367,7.2570651471718,7.52761858827319,7.72431707825595,8.98138393604158,8.22588308091542,8.16487252451125,9.57420129928205,9.2555546645027,9.36297523850129,9.57420129928205,10.556672193748,10.4201648339208,9.78086674710336,10.4201648339208,10.7805141726785,10.2819293264239,11,11.5933866224478,12.8135269556944,11.6346610995116,11.8794184031399,12.3937969582276,12.8135269556944,12.8135269556944,13.2204227340122,13.7916059279565,13.6155942134931,13.6862609591111,14.4080515158756,14.6410039297267,13.9308696896618,14.7069063257455,14.6079449297381,14.5083310198036,15.0964739604822,13.9308696896618,15.445218719102,14.6739909054935,15.9088390814219,15.2876534038469,15.445218719102,14.7397506541282,15.6632298752446,14.7069063257455,13.6155942134931,14.7725243493012,14.7069063257455,14.0688022843335,14.0688022843335,12.5862523283024,13.3293166859393,12.4325171563776,11.3848643240047,12.5096118312577,10.8688170009021,9.67808568820622,8.04146283816711,6.37689760804177,3.82938009857506],\"fEYhigh\":[1.14787446444932,1.14787446444932,1.14787446444932,1.14787446444932,1.14787446444932,1.14787446444932,1.14787446444932,1.14787446444932,1.14787446444932,1.14787446444932,1.14787446444932,1.14787446444932,1.14787446444932,1.14787446444932,2.29952655911586,2.63785962345524,2.63785962345524,2.9181858328834,2.29952655911586,2.63785962345524,3.77028072043409,3.58364154598457,2.9181858328834,4.11020413766764,3.38247265214689,4.26694976100939,3.77028072043409,4.26694976100939,5.08306556401624,5.20371938988384,4.95873843272062,6.2602438465527,5.65518197118255,5.4351961614818,6.44701964227479,7.21848358047952,7.21848358047952,7.13755508118677,7.0555452840609,7.53218018651548,7.60827827535264,8.32591576152109,8.5940072411441,8.78902310673288,10.0370646922952,9.28665979094794,9.22610161104724,10.626443289669,10.309590587781,10.4163928307457,10.626443289669,11.556672193748,11.4201648339208,10.8320074139966,11.4201648339208,11.7805141726785,11.2819293264239,12,12.5933866224478,13.8135269556944,12.6346610995116,12.8794184031399,13.3937969582276,13.8135269556944,13.8135269556944,14.2204227340122,14.7916059279565,14.6155942134931,14.6862609591111,15.4080515158756,15.6410039297267,14.9308696896618,15.7069063257455,15.6079449297381,15.5083310198036,16.0964739604822,14.9308696896618,16.445218719102,15.6739909054935,16.9088390814219,16.2876534038469,16.445218719102,15.7397506541282,16.6632298752446,15.7069063257455,14.6155942134931,15.7725243493012,15.7069063257455,15.0688022843335,15.0688022843335,13.5862523283024,14.3293166859393,13.4325171563776,12.3848643240047,13.5096118312577,11.8688170009021,10.7297682272058,9.1036277944182,7.45518517410131,4.95873843272062],\"_yAxisLabel\":\"Events \\/ ( 0.00999 )\",\"_ymin\":0,\"_ymax\":285.908839081422,\"_normValue\":0,\"_nominalBinWidth\":0.00999,\"_nSigma\":1,\"_entries\":10000,\"_rawEntries\":-1},{\"_typename\":\"RooCurve\",\"fUniqueID\":0,\"fBits\":50332680,\"fName\":\"beta_Norm[x2]\",\"fTitle\":\"Projection of beta\",\"fLineColor\":600,\"fLineStyle\":1,\"fLineWidth\":3,\"fFillColor\":0,\"fFillStyle\":1000,\"fMarkerColor\":1,\"fMarkerStyle\":1,\"fMarkerSize\":1,\"fNpoints\":111,\"fX\":[-0.00999,-0.00999,0,0.00999,0.01998,0.02997,0.03996,0.04995,0.05994,0.06993,0.07992,0.08991,0.0999,0.10989,0.11988,0.12987,0.13986,0.14985,0.15984,0.16983,0.17982,0.18981,0.1998,0.20979,0.21978,0.22977,0.23976,0.24975,0.25974,0.26973,0.27972,0.28971,0.2997,0.30969,0.31968,0.32967,0.33966,0.34965,0.35964,0.36963,0.37962,0.38961,0.3996,0.40959,0.41958,0.42957,0.43956,0.44955,0.45954,0.46953,0.47952,0.48951,0.4995,0.50949,0.51948,0.52947,0.53946,0.54945,0.55944,0.56943,0.57942,0.58941,0.5994,0.60939,0.61938,0.62937,0.63936,0.64935,0.65934,0.66933,0.67932,0.68931,0.6993,0.70929,0.71928,0.72927,0.73926,0.74925,0.75924,0.76923,0.77922,0.78921,0.7992,0.80919,0.81918,0.82917,0.83916,0.84915,0.85914,0.86913,0.87912,0.88911,0.8991,0.90909,0.91908,0.92907,0.93906,0.94905,0.954045,0.95904,0.964035,0.96903,0.974025,0.97902,0.984015,0.98901,0.994005,0.999,0.999,1.00899,1.00899],\"fY\":[0,0,0,3.02622680250347e-5,4.7617632621089e-4,0.00237705241573425,0.00741561412059174,0.0178798662967429,0.0366260229168476,0.0670419880106513,0.113011185196818,0.178876629152347,0.269405175354356,0.389751906608426,0.54542462758255,0.742248446407031,0.986330427520177,1.28402430343203,1.64189523554608,2.06668461597308,2.56527490360699,3.14465448874617,3.81188258132557,4.57405411843538,5.43826468728414,6.4115754601466,7.50097813814276,8.71335990093805,10.0554683596497,11.5338765103976,13.1549476860571,14.9248005038641,16.8492738065832,18.9338915950002,21.1838279495159,23.6038719386297,26.1983925120849,28.9713033764214,31.9260278506367,35.0654636995946,38.3919479427447,41.9072216356239,45.6123946214967,49.507910250366,53.5935100624335,57.8681984329197,62.3302071749582,66.9769600970597,71.8050375113915,76.8101406888356,81.9870562564742,87.3296205327901,92.8306837954663,98.4820744762133,104.274563276533,110.197827197744,116.240413477928,122.3897034277,128.631876155834,134.951872174805,141.333356875158,147.758683856312,154.208858099929,160.663498970191,167.100803023345,173.497506606487,179.828848222801,186.068530637198,192.188682692467,198.159820801442,203.950810075266,209.52882504123,214.859309895775,219.905938228591,224.630572142004,228.993220675312,232.951997425775,236.463077235445,239.480651784699,241.956883897189,243.841860314601,245.083542639295,245.627716063808,245.417935400839,244.395467785365,242.499231226147,239.66572791345,235.828970806578,230.920401470889,224.868796314698,217.60015713393,209.037579932172,199.101092852321,187.707448803248,174.769849146343,160.197557730239,143.895330779159,125.762515587784,115.976345612371,105.691497736798,94.8929484729397,83.5646990539863,71.6894024717484,59.247706072626,46.2169631645371,32.5682775498226,18.257640794062,3.17384162966865,3.17384162966865,3.17384162966865,0],\"fFunctions\":{\"_typename\":\"TList\",\"name\":\"TList\",\"arr\":[],\"opt\":[]},\"fHistogram\":{\"_typename\":\"TH1F\",\"fUniqueID\":0,\"fBits\":50332168,\"fName\":\"beta_Norm[x2]\",\"fTitle\":\"Projection of beta\",\"fLineColor\":602,\"fLineStyle\":1,\"fLineWidth\":1,\"fFillColor\":0,\"fFillStyle\":1001,\"fMarkerColor\":1,\"fMarkerStyle\":1,\"fMarkerSize\":1,\"fNcells\":113,\"fXaxis\":{\"_typename\":\"TAxis\",\"fUniqueID\":0,\"fBits\":50331648,\"fName\":\"xaxis\",\"fTitle\":\"\",\"fNdivisions\":510,\"fAxisColor\":1,\"fLabelColor\":1,\"fLabelFont\":42,\"fLabelOffset\":0.005,\"fLabelSize\":0.035,\"fTickLength\":0.03,\"fTitleOffset\":1,\"fTitleSize\":0.035,\"fTitleColor\":1,\"fTitleFont\":42,\"fNbins\":111,\"fXmin\":-0.111888,\"fXmax\":1.110888,\"fXbins\":[],\"fFirst\":0,\"fLast\":0,\"fBits2\":0,\"fTimeDisplay\":false,\"fTimeFormat\":\"\",\"fLabels\":null,\"fModLabs\":null},\"fYaxis\":{\"_typename\":\"TAxis\",\"fUniqueID\":0,\"fBits\":50331648,\"fName\":\"yaxis\",\"fTitle\":\"\",\"fNdivisions\":510,\"fAxisColor\":1,\"fLabelColor\":1,\"fLabelFont\":42,\"fLabelOffset\":0.005,\"fLabelSize\":0.035,\"fTickLength\":0.03,\"fTitleOffset\":0,\"fTitleSize\":0.035,\"fTitleColor\":1,\"fTitleFont\":42,\"fNbins\":1,\"fXmin\":0,\"fXmax\":270.190487670189,\"fXbins\":[],\"fFirst\":0,\"fLast\":0,\"fBits2\":0,\"fTimeDisplay\":false,\"fTimeFormat\":\"\",\"fLabels\":null,\"fModLabs\":null},\"fZaxis\":{\"_typename\":\"TAxis\",\"fUniqueID\":0,\"fBits\":50331648,\"fName\":\"zaxis\",\"fTitle\":\"\",\"fNdivisions\":510,\"fAxisColor\":1,\"fLabelColor\":1,\"fLabelFont\":42,\"fLabelOffset\":0.005,\"fLabelSize\":0.035,\"fTickLength\":0.03,\"fTitleOffset\":1,\"fTitleSize\":0.035,\"fTitleColor\":1,\"fTitleFont\":42,\"fNbins\":1,\"fXmin\":0,\"fXmax\":1,\"fXbins\":[],\"fFirst\":0,\"fLast\":0,\"fBits2\":0,\"fTimeDisplay\":false,\"fTimeFormat\":\"\",\"fLabels\":null,\"fModLabs\":null},\"fBarOffset\":0,\"fBarWidth\":1000,\"fEntries\":0,\"fTsumw\":0,\"fTsumw2\":0,\"fTsumwx\":0,\"fTsumwx2\":0,\"fMaximum\":270.190487670189,\"fMinimum\":0,\"fNormFactor\":0,\"fContour\":[],\"fSumw2\":[],\"fOption\":\"\",\"fFunctions\":{\"_typename\":\"TList\",\"name\":\"TList\",\"arr\":[],\"opt\":[]},\"fBufferSize\":0,\"fBuffer\":[],\"fBinStatErrOpt\":0,\"fStatOverflows\":2,\"fArray\":[0,0,0,0,0,0,0,0,0,0,0,0,0,0,0,0,0,0,0,0,0,0,0,0,0,0,0,0,0,0,0,0,0,0,0,0,0,0,0,0,0,0,0,0,0,0,0,0,0,0,0,0,0,0,0,0,0,0,0,0,0,0,0,0,0,0,0,0,0,0,0,0,0,0,0,0,0,0,0,0,0,0,0,0,0,0,0,0,0,0,0,0,0,0,0,0,0,0,0,0,0,0,0,0,0,0,0,0,0,0,0,0,0]},\"fMinimum\":-1111,\"fMaximum\":-1111,\"_yAxisLabel\":\"Projection of beta\",\"_ymin\":0,\"_ymax\":245.627716063808,\"_normValue\":0},{\"$ref\":24},{\"_typename\":\"TPaveText\",\"fUniqueID\":0,\"fBits\":50331657,\"fLineColor\":1,\"fLineStyle\":1,\"fLineWidth\":1,\"fFillColor\":0,\"fFillStyle\":0,\"fX1\":-6.45071263072339e-9,\"fY1\":311.149438849536,\"fX2\":0.932400000496209,\"fY2\":335.853543965727,\"fX1NDC\":0.15,\"fY1NDC\":0.929167220071608,\"fX2NDC\":0.85,\"fY2NDC\":0.995000004768372,\"fBorderSize\":0,\"fInit\":1,\"fShadowColor\":1,\"fCornerRadius\":0,\"fOption\":\"blNDC\",\"fName\":\"title\",\"fTextAngle\":0,\"fTextSize\":0,\"fTextAlign\":22,\"fTextColor\":1,\"fTextFont\":42,\"fLabel\":\"\",\"fLongest\":36,\"fMargin\":0.05,\"fLines\":{\"_typename\":\"TList\",\"name\":\"TList\",\"arr\":[{\"_typename\":\"TLatex\",\"fUniqueID\":0,\"fBits\":50331648,\"fName\":\"\",\"fTitle\":\"ROOT::Math::Beta bound as RooFit pdf\",\"fTextAngle\":0,\"fTextSize\":0,\"fTextAlign\":0,\"fTextColor\":0,\"fTextFont\":0,\"fX\":0,\"fY\":0,\"fLineColor\":1,\"fLineStyle\":1,\"fLineWidth\":2,\"fLimitFactorSize\":3,\"fOriginSize\":0.0559578686952591}],\"opt\":[\"\"]}}],\"opt\":[\"\",\"FUNC\",\"p\",\"l\",\"AXISSAME\",\"blNDC\"]},\"fExecs\":{\"_typename\":\"TList\",\"name\":\"TList\",\"arr\":[],\"opt\":[]},\"fName\":\"rf105_funcbinding_2\",\"fTitle\":\"rf105_funcbinding_2\",\"fNumPaletteColor\":0,\"fNextPaletteColor\":0},{\"_typename\":\"TPad\",\"fUniqueID\":0,\"fBits\":50331657,\"fLineColor\":1,\"fLineStyle\":1,\"fLineWidth\":1,\"fFillColor\":0,\"fFillStyle\":1001,\"fLeftMargin\":0.15,\"fRightMargin\":0.1,\"fBottomMargin\":0.1,\"fTopMargin\":0.1,\"fXfile\":2,\"fYfile\":2,\"fAfile\":1,\"fXstat\":0.99,\"fYstat\":0.99,\"fAstat\":2,\"fFrameFillColor\":0,\"fFrameLineColor\":1,\"fFrameFillStyle\":1001,\"fFrameLineStyle\":1,\"fFrameLineWidth\":1,\"fFrameBorderSize\":1,\"fFrameBorderMode\":0,\"fX1\":-3.98800015886625,\"fY1\":-0.444504857286566,\"fX2\":22.6653333730499,\"fY2\":1.22806042665325,\"fXtoAbsPixelk\":865.364784661753,\"fXtoPixelk\":56.0714515957471,\"fXtoPixel\":14.0600299303117,\"fYtoAbsPixelk\":271.393732758305,\"fYtoPixelk\":267.673732841453,\"fYtoPixel\":-217.964586295584,\"fUtoAbsPixelk\":809.293383066006,\"fUtoPixelk\":5e-5,\"fUtoPixel\":374.74666720132,\"fVtoAbsPixelk\":368.280050083148,\"fVtoPixelk\":364.560000166297,\"fVtoPixel\":-364.560000166297,\"fAbsPixeltoXk\":-61.5478586426147,\"fPixeltoXk\":-3.98800015886625,\"fPixeltoX\":0.0711236039294714,\"fAbsPixeltoYk\":1.24512741895725,\"fPixeltoYk\":-0.444504857286566,\"fPixeltoY\":-0.00458790125953714,\"fXlowNDC\":0.676666666443149,\"fYlowNDC\":0.00999999977648258,\"fXUpNDC\":0,\"fYUpNDC\":0,\"fWNDC\":0.313333333780368,\"fHNDC\":0.980000000447035,\"fAbsXlowNDC\":0.676666666443149,\"fAbsYlowNDC\":0.00999999977648258,\"fAbsWNDC\":0.313333333780368,\"fAbsHNDC\":0.980000000447035,\"fUxmin\":0.01,\"fUymin\":-0.277248318923318,\"fUxmax\":20,\"fUymax\":1.06080388829,\"fTheta\":30,\"fPhi\":30,\"fAspectRatio\":0,\"fNumber\":3,\"fTickx\":0,\"fTicky\":0,\"fLogx\":0,\"fLogy\":0,\"fLogz\":0,\"fPadPaint\":0,\"fCrosshair\":0,\"fCrosshairPos\":0,\"fBorderSize\":2,\"fBorderMode\":0,\"fModified\":false,\"fGridx\":false,\"fGridy\":false,\"fAbsCoord\":false,\"fEditable\":true,\"fFixedAspectRatio\":false,\"fPrimitives\":{\"_typename\":\"TList\",\"name\":\"TList\",\"arr\":[{\"_typename\":\"TFrame\",\"fUniqueID\":0,\"fBits\":50331656,\"fLineColor\":1,\"fLineStyle\":1,\"fLineWidth\":1,\"fFillColor\":0,\"fFillStyle\":1001,\"fX1\":0.01,\"fY1\":-0.277248318923318,\"fX2\":20,\"fY2\":1.06080388829,\"fBorderSize\":1,\"fBorderMode\":0},{\"_typename\":\"TH1D\",\"fUniqueID\":0,\"fBits\":50332168,\"fName\":\"frame_7f5080862090\",\"fTitle\":\"TF1 bound as RooFit function\",\"fLineColor\":602,\"fLineStyle\":1,\"fLineWidth\":1,\"fFillColor\":0,\"fFillStyle\":1001,\"fMarkerColor\":1,\"fMarkerStyle\":1,\"fMarkerSize\":1,\"fNcells\":102,\"fXaxis\":{\"_typename\":\"TAxis\",\"fUniqueID\":0,\"fBits\":50331648,\"fName\":\"xaxis\",\"fTitle\":\"x3\",\"fNdivisions\":510,\"fAxisColor\":1,\"fLabelColor\":1,\"fLabelFont\":42,\"fLabelOffset\":0.005,\"fLabelSize\":0.035,\"fTickLength\":0.03,\"fTitleOffset\":1,\"fTitleSize\":0.035,\"fTitleColor\":1,\"fTitleFont\":42,\"fNbins\":100,\"fXmin\":0.01,\"fXmax\":20,\"fXbins\":[],\"fFirst\":0,\"fLast\":0,\"fBits2\":0,\"fTimeDisplay\":false,\"fTimeFormat\":\"\",\"fLabels\":null,\"fModLabs\":null},\"fYaxis\":{\"_typename\":\"TAxis\",\"fUniqueID\":0,\"fBits\":50331648,\"fName\":\"yaxis\",\"fTitle\":\"Projection of sin(x)\\/x\",\"fNdivisions\":510,\"fAxisColor\":1,\"fLabelColor\":1,\"fLabelFont\":42,\"fLabelOffset\":0.005,\"fLabelSize\":0.035,\"fTickLength\":0.03,\"fTitleOffset\":1.6,\"fTitleSize\":0.035,\"fTitleColor\":1,\"fTitleFont\":42,\"fNbins\":1,\"fXmin\":0,\"fXmax\":1,\"fXbins\":[],\"fFirst\":0,\"fLast\":0,\"fBits2\":0,\"fTimeDisplay\":false,\"fTimeFormat\":\"\",\"fLabels\":null,\"fModLabs\":null},\"fZaxis\":{\"_typename\":\"TAxis\",\"fUniqueID\":0,\"fBits\":50331648,\"fName\":\"zaxis\",\"fTitle\":\"\",\"fNdivisions\":510,\"fAxisColor\":1,\"fLabelColor\":1,\"fLabelFont\":42,\"fLabelOffset\":0.005,\"fLabelSize\":0.035,\"fTickLength\":0.03,\"fTitleOffset\":1,\"fTitleSize\":0.035,\"fTitleColor\":1,\"fTitleFont\":42,\"fNbins\":1,\"fXmin\":0,\"fXmax\":1,\"fXbins\":[],\"fFirst\":0,\"fLast\":0,\"fBits2\":0,\"fTimeDisplay\":false,\"fTimeFormat\":\"\",\"fLabels\":null,\"fModLabs\":null},\"fBarOffset\":0,\"fBarWidth\":1000,\"fEntries\":1,\"fTsumw\":0,\"fTsumw2\":0,\"fTsumwx\":0,\"fTsumwx2\":0,\"fMaximum\":1.06080388829,\"fMinimum\":-0.277248318923318,\"fNormFactor\":0,\"fContour\":[],\"fSumw2\":[],\"fOption\":\"\",\"fFunctions\":{\"_typename\":\"TList\",\"name\":\"TList\",\"arr\":[],\"opt\":[]},\"fBufferSize\":0,\"fBuffer\":[],\"fBinStatErrOpt\":0,\"fStatOverflows\":2,\"fArray\":[0,1.06080388829,0,0,0,0,0,0,0,0,0,0,0,0,0,0,0,0,0,0,0,0,0,0,0,0,0,0,0,0,0,0,0,0,0,0,0,0,0,0,0,0,0,0,0,0,0,0,0,0,0,0,0,0,0,0,0,0,0,0,0,0,0,0,0,0,0,0,0,0,0,0,0,0,0,0,0,0,0,0,0,0,0,0,0,0,0,0,0,0,0,0,0,0,0,0,0,0,0,0,0,0]},{\"_typename\":\"RooCurve\",\"fUniqueID\":0,\"fBits\":50332680,\"fName\":\"fa1_Norm[x3]\",\"fTitle\":\"Projection of sin(x)\\/x\",\"fLineColor\":600,\"fLineStyle\":1,\"fLineWidth\":3,\"fFillColor\":0,\"fFillStyle\":1000,\"fMarkerColor\":1,\"fMarkerStyle\":1,\"fMarkerSize\":1,\"fNpoints\":114,\"fX\":[-0.1899,-0.1899,0.01,0.10995,0.2099,0.30985,0.4098,0.50975,0.6097,0.70965,0.8096,0.90955,1.0095,1.2094,1.4093,1.6092,1.8091,2.009,2.2089,2.4088,2.6087,2.8086,3.0085,3.2084,3.4083,3.6082,3.70815,3.8081,3.90805,4.008,4.10795,4.2079,4.4078,4.6077,4.8076,5.0075,5.2074,5.4073,5.6072,5.8071,6.007,6.2069,6.4068,6.6067,6.8066,7.0065,7.2064,7.4063,7.6062,7.8061,8.006,8.2059,8.4058,8.6057,8.8056,9.0055,9.2054,9.4053,9.6052,9.8051,10.005,10.2049,10.4048,10.6047,10.8046,11.0045,11.2044,11.4043,11.6042,11.8041,12.004,12.2039,12.4038,12.6037,12.8036,13.0035,13.2034,13.4033,13.6032,13.8031,14.003,14.2029,14.4028,14.6027,14.8026,15.0025,15.2024,15.4023,15.6022,15.8021,16.002,16.2019,16.4018,16.6017,16.8016,17.0015,17.2014,17.4013,17.6012,17.8011,18.001,18.2009,18.4008,18.6007,18.8006,19.0005,19.2004,19.4003,19.6002,19.8001,20,20,20.1999,20.1999],\"fY\":[0,0.999983333416666,0.999983333416666,0.997986383766028,0.99267315727723,0.984075465472282,0.972244743408726,0.957251683183384,0.939185730555651,0.91815444859514,0.894282753287232,0.86771202701858,0.838599116804785,0.77344470110343,0.700339023746115,0.62096859903639,0.537139902973276,0.450729382559077,0.363632030754164,0.277710082132467,0.194743368223408,0.116382806424804,0.0441083846563594,-0.0208071504492525,-0.0773278856993389,-0.124676820145173,-0.144743465939933,-0.162349882477432,-0.177476635855497,-0.190121599537609,-0.200299676203089,-0.208042395312506,-0.216427764049986,-0.215839814166087,-0.207061913193259,-0.191067370663665,-0.168983269024219,-0.142050687125593,-0.111582652559701,-0.0789212056650419,-0.0453949584535078,-0.0122784866800972,0.0192451950494396,0.04811795324858,0.0734346915004899,0.094465574833701,0.110671768347659,0.121714363568309,0.12745640000508,0.127958121668639,0.123465831034662,0.114394908692687,0.101307748990889,0.0848875145897296,0.0659087312932129,0.0452058254166742,0.0236407472137412,0.00207082487169138,-0.0186820449448775,-0.0378598399423375,-0.0547935682962916,-0.068924357250364,-0.0798198568582424,-0.0871855226838896,-0.0908705334946806,-0.0908682962509171,-0.0873116839998138,-0.080463335844766,-0.0707015156756501,-0.0585021721959802,-0.0444179622283394,-0.0290550886130714,-0.0130488606764052,0.00296109210792128,0.0183550340991019,0.0325558903800348,0.045049766931435,0.0554035268746513,0.0632788510007221,0.0684423542152948,0.0707714853248889,0.0702560998300337,0.0669957580141676,0.0611929576644418,0.0531426565894991,0.0432185695853945,0.0318568332158154,0.0195377161347067,0.00676611006939018,-0.00594843457608906,-0.0181113647383071,-0.0292617372284221,-0.0389891081586161,-0.0469480993489611,-0.0528701423031921,-0.0565720174784507,-0.0579609356515361,-0.057036044148308,-0.0538863783341589,-0.0486854128742444,-0.0416824928992774,-0.0331915377988177,-0.0235775059209301,-0.0132411837053668,-0.00260291525717037,0.00791408348289777,0.0179001786152041,0.0269749142700404,0.0348011695618931,0.0410973614082667,0.0456472625363814,0.0456472625363814,0.0456472625363814,0],\"fFunctions\":{\"_typename\":\"TList\",\"name\":\"TList\",\"arr\":[],\"opt\":[]},\"fHistogram\":{\"_typename\":\"TH1F\",\"fUniqueID\":0,\"fBits\":50332168,\"fName\":\"fa1_Norm[x3]\",\"fTitle\":\"Projection of sin(x)\\/x\",\"fLineColor\":602,\"fLineStyle\":1,\"fLineWidth\":1,\"fFillColor\":0,\"fFillStyle\":1001,\"fMarkerColor\":1,\"fMarkerStyle\":1,\"fMarkerSize\":1,\"fNcells\":116,\"fXaxis\":{\"_typename\":\"TAxis\",\"fUniqueID\":0,\"fBits\":50331648,\"fName\":\"xaxis\",\"fTitle\":\"\",\"fNdivisions\":510,\"fAxisColor\":1,\"fLabelColor\":1,\"fLabelFont\":42,\"fLabelOffset\":0.005,\"fLabelSize\":0.035,\"fTickLength\":0.03,\"fTitleOffset\":1,\"fTitleSize\":0.035,\"fTitleColor\":1,\"fTitleFont\":42,\"fNbins\":114,\"fXmin\":-2.22888,\"fXmax\":22.23888,\"fXbins\":[],\"fFirst\":0,\"fLast\":0,\"fBits2\":0,\"fTimeDisplay\":false,\"fTimeFormat\":\"\",\"fLabels\":null,\"fModLabs\":null},\"fYaxis\":{\"_typename\":\"TAxis\",\"fUniqueID\":0,\"fBits\":50331648,\"fName\":\"yaxis\",\"fTitle\":\"\",\"fNdivisions\":510,\"fAxisColor\":1,\"fLabelColor\":1,\"fLabelFont\":42,\"fLabelOffset\":0.005,\"fLabelSize\":0.035,\"fTickLength\":0.03,\"fTitleOffset\":0,\"fTitleSize\":0.035,\"fTitleColor\":1,\"fTitleFont\":42,\"fNbins\":1,\"fXmin\":-0.338068873796651,\"fXmax\":1.12162444316333,\"fXbins\":[],\"fFirst\":0,\"fLast\":0,\"fBits2\":0,\"fTimeDisplay\":false,\"fTimeFormat\":\"\",\"fLabels\":null,\"fModLabs\":null},\"fZaxis\":{\"_typename\":\"TAxis\",\"fUniqueID\":0,\"fBits\":50331648,\"fName\":\"zaxis\",\"fTitle\":\"\",\"fNdivisions\":510,\"fAxisColor\":1,\"fLabelColor\":1,\"fLabelFont\":42,\"fLabelOffset\":0.005,\"fLabelSize\":0.035,\"fTickLength\":0.03,\"fTitleOffset\":1,\"fTitleSize\":0.035,\"fTitleColor\":1,\"fTitleFont\":42,\"fNbins\":1,\"fXmin\":0,\"fXmax\":1,\"fXbins\":[],\"fFirst\":0,\"fLast\":0,\"fBits2\":0,\"fTimeDisplay\":false,\"fTimeFormat\":\"\",\"fLabels\":null,\"fModLabs\":null},\"fBarOffset\":0,\"fBarWidth\":1000,\"fEntries\":0,\"fTsumw\":0,\"fTsumw2\":0,\"fTsumwx\":0,\"fTsumwx2\":0,\"fMaximum\":1.12162444316333,\"fMinimum\":-0.338068873796651,\"fNormFactor\":0,\"fContour\":[],\"fSumw2\":[],\"fOption\":\"\",\"fFunctions\":{\"_typename\":\"TList\",\"name\":\"TList\",\"arr\":[],\"opt\":[]},\"fBufferSize\":0,\"fBuffer\":[],\"fBinStatErrOpt\":0,\"fStatOverflows\":2,\"fArray\":[0,0,0,0,0,0,0,0,0,0,0,0,0,0,0,0,0,0,0,0,0,0,0,0,0,0,0,0,0,0,0,0,0,0,0,0,0,0,0,0,0,0,0,0,0,0,0,0,0,0,0,0,0,0,0,0,0,0,0,0,0,0,0,0,0,0,0,0,0,0,0,0,0,0,0,0,0,0,0,0,0,0,0,0,0,0,0,0,0,0,0,0,0,0,0,0,0,0,0,0,0,0,0,0,0,0,0,0,0,0,0,0,0,0,0,0]},\"fMinimum\":-1111,\"fMaximum\":-1111,\"_yAxisLabel\":\"Projection of sin(x)\\/x\",\"_ymin\":-0.216427764049986,\"_ymax\":0.999983333416666,\"_normValue\":0},{\"$ref\":50},{\"_typename\":\"TPaveText\",\"fUniqueID\":0,\"fBits\":50331657,\"fLineColor\":1,\"fLineStyle\":1,\"fLineWidth\":1,\"fFillColor\":0,\"fFillStyle\":0,\"fX1\":0.00999987092117482,\"fY1\":1.1277065162215,\"fX2\":18.6673333432625,\"fY2\":1.21969760820896,\"fX1NDC\":0.15,\"fY1NDC\":0.940000003948808,\"fX2NDC\":0.85,\"fY2NDC\":0.995000004768372,\"fBorderSize\":0,\"fInit\":1,\"fShadowColor\":1,\"fCornerRadius\":0,\"fOption\":\"blNDC\",\"fName\":\"title\",\"fTextAngle\":0,\"fTextSize\":0,\"fTextAlign\":22,\"fTextColor\":1,\"fTextFont\":42,\"fLabel\":\"\",\"fLongest\":28,\"fMargin\":0.05,\"fLines\":{\"_typename\":\"TList\",\"name\":\"TList\",\"arr\":[{\"_typename\":\"TLatex\",\"fUniqueID\":0,\"fBits\":50331648,\"fName\":\"\",\"fTitle\":\"TF1 bound as RooFit function\",\"fTextAngle\":0,\"fTextSize\":0,\"fTextAlign\":0,\"fTextColor\":0,\"fTextFont\":0,\"fX\":0,\"fY\":0,\"fLineColor\":1,\"fLineStyle\":1,\"fLineWidth\":2,\"fLimitFactorSize\":3,\"fOriginSize\":0.0467500016093254}],\"opt\":[\"\"]}}],\"opt\":[\"\",\"FUNC\",\"l\",\"AXISSAME\",\"blNDC\"]},\"fExecs\":{\"_typename\":\"TList\",\"name\":\"TList\",\"arr\":[],\"opt\":[]},\"fName\":\"rf105_funcbinding_3\",\"fTitle\":\"rf105_funcbinding_3\",\"fNumPaletteColor\":0,\"fNextPaletteColor\":0}],\"opt\":[\"\",\"\",\"\"]},\"fExecs\":null,\"fName\":\"rf105_funcbinding\",\"fTitle\":\"rf105_funcbinding\",\"fNumPaletteColor\":0,\"fNextPaletteColor\":0,\"fDISPLAY\":\"$DISPLAY\",\"fDoubleBuffer\":0,\"fRetained\":true,\"fXsizeUser\":0,\"fYsizeUser\":0,\"fXsizeReal\":20,\"fYsizeReal\":6.666667,\"fWindowTopX\":0,\"fWindowTopY\":0,\"fWindowWidth\":0,\"fWindowHeight\":0,\"fCw\":1196,\"fCh\":372,\"fCatt\":{\"_typename\":\"TAttCanvas\",\"fXBetween\":2,\"fYBetween\":2,\"fTitleFromTop\":1.2,\"fXdate\":0.2,\"fYdate\":0.3,\"fAdate\":1},\"kMoveOpaque\":true,\"kResizeOpaque\":true,\"fHighLightColor\":2,\"fBatch\":true,\"kShowEventStatus\":false,\"kAutoExec\":true,\"kMenuBar\":true});\n",
       "       Core.draw(\"root_plot_1\", obj, \"\");\n",
       "     }\n",
       " );\n",
       "</script>\n"
      ],
      "text/plain": [
       "<IPython.core.display.HTML object>"
      ]
     },
     "metadata": {},
     "output_type": "display_data"
    }
   ],
   "source": [
    "%jsroot on\n",
    "gROOT->GetListOfCanvases()->Draw()"
   ]
  }
 ],
 "metadata": {
  "kernelspec": {
   "display_name": "ROOT C++",
   "language": "c++",
   "name": "root"
  },
  "language_info": {
   "codemirror_mode": "text/x-c++src",
   "file_extension": ".C",
   "mimetype": " text/x-c++src",
   "name": "c++"
  }
 },
 "nbformat": 4,
 "nbformat_minor": 2
}
