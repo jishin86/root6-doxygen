{
 "cells": [
  {
   "cell_type": "markdown",
   "metadata": {},
   "source": [
    "# Rf 2 0 2_Extendedmlfit\n",
    "Addition and convolution: setting up an extended maximum likelihood fit\n",
    "\n",
    "\n",
    "\n",
    "**Author:** 07/2008 - Wouter Verkerke  \n",
    "<i><small>This notebook tutorial was automatically generated with <a href= \"https://github.com/root-project/root/blob/master/documentation/doxygen/converttonotebook.py\">ROOTBOOK-izer</a> from the macro found in the ROOT repository  on Thursday, August 29, 2019 at 02:43 AM.</small></i>"
   ]
  },
  {
   "cell_type": "code",
   "execution_count": 1,
   "metadata": {
    "collapsed": false
   },
   "outputs": [],
   "source": [
    "%%cpp -d\n",
    "#include \"RooRealVar.h\"\n",
    "#include \"RooDataSet.h\"\n",
    "#include \"RooGaussian.h\"\n",
    "#include \"RooChebychev.h\"\n",
    "#include \"RooAddPdf.h\"\n",
    "#include \"RooExtendPdf.h\"\n",
    "#include \"TCanvas.h\"\n",
    "#include \"TAxis.h\"\n",
    "#include \"RooPlot.h\""
   ]
  },
  {
   "cell_type": "code",
   "execution_count": 2,
   "metadata": {
    "collapsed": false
   },
   "outputs": [],
   "source": [
    "%%cpp -d\n",
    "// This is a workaround to make sure the namespace is used inside functions\n",
    "using namespace RooFit;"
   ]
  },
  {
   "cell_type": "markdown",
   "metadata": {},
   "source": [
    "Setup component pdfs\n",
    " ---------------------------------------"
   ]
  },
  {
   "cell_type": "markdown",
   "metadata": {},
   "source": [
    "Declare observable x"
   ]
  },
  {
   "cell_type": "code",
   "execution_count": 3,
   "metadata": {
    "collapsed": false
   },
   "outputs": [
    {
     "name": "stdout",
     "output_type": "stream",
     "text": [
      "\n",
      "\u001b[1mRooFit v3.60 -- Developed by Wouter Verkerke and David Kirkby\u001b[0m \n",
      "                Copyright (C) 2000-2013 NIKHEF, University of California & Stanford University\n",
      "                All rights reserved, please read http://roofit.sourceforge.net/license.txt\n",
      "\n"
     ]
    }
   ],
   "source": [
    "RooRealVar x(\"x\", \"x\", 0, 10);"
   ]
  },
  {
   "cell_type": "markdown",
   "metadata": {},
   "source": [
    "Create two gaussian pdfs g1(x,mean1,sigma) anf g2(x,mean2,sigma) and their parameters"
   ]
  },
  {
   "cell_type": "code",
   "execution_count": 4,
   "metadata": {
    "collapsed": false
   },
   "outputs": [],
   "source": [
    "RooRealVar mean(\"mean\", \"mean of gaussians\", 5);\n",
    "RooRealVar sigma1(\"sigma1\", \"width of gaussians\", 0.5);\n",
    "RooRealVar sigma2(\"sigma2\", \"width of gaussians\", 1);\n",
    "\n",
    "RooGaussian sig1(\"sig1\", \"Signal component 1\", x, mean, sigma1);\n",
    "RooGaussian sig2(\"sig2\", \"Signal component 2\", x, mean, sigma2);"
   ]
  },
  {
   "cell_type": "markdown",
   "metadata": {},
   "source": [
    "Build chebychev polynomial p.d.f."
   ]
  },
  {
   "cell_type": "code",
   "execution_count": 5,
   "metadata": {
    "collapsed": false
   },
   "outputs": [],
   "source": [
    "RooRealVar a0(\"a0\", \"a0\", 0.5, 0., 1.);\n",
    "RooRealVar a1(\"a1\", \"a1\", 0.2, 0., 1.);\n",
    "RooChebychev bkg(\"bkg\", \"Background\", x, RooArgSet(a0, a1));"
   ]
  },
  {
   "cell_type": "markdown",
   "metadata": {},
   "source": [
    "Sum the signal components into a composite signal p.d.f."
   ]
  },
  {
   "cell_type": "code",
   "execution_count": 6,
   "metadata": {
    "collapsed": false
   },
   "outputs": [],
   "source": [
    "RooRealVar sig1frac(\"sig1frac\", \"fraction of component 1 in signal\", 0.8, 0., 1.);\n",
    "RooAddPdf sig(\"sig\", \"Signal\", RooArgList(sig1, sig2), sig1frac);"
   ]
  },
  {
   "cell_type": "markdown",
   "metadata": {},
   "source": [
    "----------------\n",
    "METHOD 1\n",
    "================"
   ]
  },
  {
   "cell_type": "markdown",
   "metadata": {},
   "source": [
    "Construct extended composite model\n",
    " -------------------------------------------------------------------"
   ]
  },
  {
   "cell_type": "markdown",
   "metadata": {},
   "source": [
    "Sum the composite signal and background into an extended pdf nsig*sig+nbkg*bkg"
   ]
  },
  {
   "cell_type": "code",
   "execution_count": 7,
   "metadata": {
    "collapsed": false
   },
   "outputs": [],
   "source": [
    "RooRealVar nsig(\"nsig\", \"number of signal events\", 500, 0., 10000);\n",
    "RooRealVar nbkg(\"nbkg\", \"number of background events\", 500, 0, 10000);\n",
    "RooAddPdf model(\"model\", \"(g1+g2)+a\", RooArgList(bkg, sig), RooArgList(nbkg, nsig));"
   ]
  },
  {
   "cell_type": "markdown",
   "metadata": {},
   "source": [
    "Sample, fit and plot extended model\n",
    " ---------------------------------------------------------------------"
   ]
  },
  {
   "cell_type": "markdown",
   "metadata": {},
   "source": [
    "Generate a data sample of expected number events in x from model\n",
    " = model.expectedEvents() = nsig+nbkg"
   ]
  },
  {
   "cell_type": "code",
   "execution_count": 8,
   "metadata": {
    "collapsed": false
   },
   "outputs": [],
   "source": [
    "RooDataSet *data = model.generate(x);"
   ]
  },
  {
   "cell_type": "markdown",
   "metadata": {},
   "source": [
    "Fit model to data, extended ml term automatically included"
   ]
  },
  {
   "cell_type": "code",
   "execution_count": 9,
   "metadata": {
    "collapsed": false
   },
   "outputs": [
    {
     "name": "stdout",
     "output_type": "stream",
     "text": [
      "[#1] INFO:Minization -- p.d.f. provides expected number of events, including extended term in likelihood.\n",
      "[#1] INFO:Minization -- RooMinimizer::optimizeConst: activating const optimization\n",
      "[#1] INFO:Minization --  The following expressions have been identified as constant and will be precalculated and cached: (sig1,sig2)\n",
      "[#1] INFO:Minization --  The following expressions will be evaluated in cache-and-track mode: (bkg)\n",
      " **********\n",
      " **    1 **SET PRINT           1\n",
      " **********\n",
      " **********\n",
      " **    2 **SET NOGRAD\n",
      " **********\n",
      " PARAMETER DEFINITIONS:\n",
      "    NO.   NAME         VALUE      STEP SIZE      LIMITS\n",
      "     1 a0           5.00000e-01  1.00000e-01    0.00000e+00  1.00000e+00\n",
      "     2 a1           2.00000e-01  1.00000e-01    0.00000e+00  1.00000e+00\n",
      "     3 nbkg         5.00000e+02  2.50000e+02    0.00000e+00  1.00000e+04\n",
      "     4 nsig         5.00000e+02  2.50000e+02    0.00000e+00  1.00000e+04\n",
      "     5 sig1frac     8.00000e-01  1.00000e-01    0.00000e+00  1.00000e+00\n",
      " **********\n",
      " **    3 **SET ERR         0.5\n",
      " **********\n",
      " **********\n",
      " **    4 **SET PRINT           1\n",
      " **********\n",
      " **********\n",
      " **    5 **SET STR           1\n",
      " **********\n",
      " NOW USING STRATEGY  1: TRY TO BALANCE SPEED AGAINST RELIABILITY\n",
      " **********\n",
      " **    6 **MIGRAD        2500           1\n",
      " **********\n",
      " FIRST CALL TO USER FUNCTION AT NEW START POINT, WITH IFLAG=4.\n",
      " START MIGRAD MINIMIZATION.  STRATEGY  1.  CONVERGENCE WHEN EDM .LT. 1.00e-03\n",
      " FCN=-3945.08 FROM MIGRAD    STATUS=INITIATE       14 CALLS          15 TOTAL\n",
      "                     EDM= unknown      STRATEGY= 1      NO ERROR MATRIX       \n",
      "  EXT PARAMETER               CURRENT GUESS       STEP         FIRST   \n",
      "  NO.   NAME      VALUE            ERROR          SIZE      DERIVATIVE \n",
      "   1  a0           5.00000e-01   1.00000e-01   2.01358e-01   5.55992e+00\n",
      "   2  a1           2.00000e-01   1.00000e-01   2.57889e-01  -1.57427e+00\n",
      "   3  nbkg         5.00000e+02   2.50000e+02   1.18625e-01   2.53685e+00\n",
      "   4  nsig         5.00000e+02   2.50000e+02   1.18625e-01  -2.53775e+00\n",
      "   5  sig1frac     8.00000e-01   1.00000e-01   2.57889e-01  -2.02142e+00\n",
      "                               ERR DEF= 0.5\n",
      " MIGRAD MINIMIZATION HAS CONVERGED.\n",
      " MIGRAD WILL VERIFY CONVERGENCE AND ERROR MATRIX.\n",
      " COVARIANCE MATRIX CALCULATED SUCCESSFULLY\n",
      " FCN=-3945.49 FROM MIGRAD    STATUS=CONVERGED      98 CALLS          99 TOTAL\n",
      "                     EDM=1.34919e-05    STRATEGY= 1      ERROR MATRIX ACCURATE \n",
      "  EXT PARAMETER                                   STEP         FIRST   \n",
      "  NO.   NAME      VALUE            ERROR          SIZE      DERIVATIVE \n",
      "   1  a0           4.41701e-01   7.31971e-02   6.37371e-03  -2.20459e-02\n",
      "   2  a1           2.01081e-01   1.18245e-01   8.18002e-03   7.34208e-03\n",
      "   3  nbkg         5.04206e+02   3.94549e+01   4.96630e-04   1.70657e-02\n",
      "   4  nsig         4.95799e+02   3.93537e+01   4.96929e-04   6.32308e-03\n",
      "   5  sig1frac     8.37341e-01   1.17266e-01   8.52165e-03  -5.56324e-04\n",
      "                               ERR DEF= 0.5\n",
      " EXTERNAL ERROR MATRIX.    NDIM=  25    NPAR=  5    ERR DEF=0.5\n",
      "  5.397e-03  1.216e-03 -3.098e-01  3.099e-01 -1.021e-03 \n",
      "  1.216e-03  1.441e-02 -3.254e+00  3.254e+00 -9.763e-03 \n",
      " -3.098e-01 -3.254e+00  1.557e+03 -1.053e+03  3.292e+00 \n",
      "  3.099e-01  3.254e+00 -1.053e+03  1.549e+03 -3.293e+00 \n",
      " -1.021e-03 -9.763e-03  3.292e+00 -3.293e+00  1.424e-02 \n",
      " PARAMETER  CORRELATION COEFFICIENTS  \n",
      "       NO.  GLOBAL      1      2      3      4      5\n",
      "        1  0.14135   1.000  0.138 -0.107  0.107 -0.116\n",
      "        2  0.77063   0.138  1.000 -0.687  0.689 -0.682\n",
      "        3  0.77292  -0.107 -0.687  1.000 -0.678  0.699\n",
      "        4  0.77488   0.107  0.689 -0.678  1.000 -0.701\n",
      "        5  0.78168  -0.116 -0.682  0.699 -0.701  1.000\n",
      " **********\n",
      " **    7 **SET ERR         0.5\n",
      " **********\n",
      " **********\n",
      " **    8 **SET PRINT           1\n",
      " **********\n",
      " **********\n",
      " **    9 **HESSE        2500\n",
      " **********\n",
      " COVARIANCE MATRIX CALCULATED SUCCESSFULLY\n",
      " FCN=-3945.49 FROM HESSE     STATUS=OK             31 CALLS         130 TOTAL\n",
      "                     EDM=1.34689e-05    STRATEGY= 1      ERROR MATRIX ACCURATE \n",
      "  EXT PARAMETER                                INTERNAL      INTERNAL  \n",
      "  NO.   NAME      VALUE            ERROR       STEP SIZE       VALUE   \n",
      "   1  a0           4.41701e-01   7.31850e-02   1.27474e-03  -1.16864e-01\n",
      "   2  a1           2.01081e-01   1.17613e-01   3.27201e-04  -6.40802e-01\n",
      "   3  nbkg         5.04206e+02   3.93107e+01   9.93261e-05  -1.11784e+00\n",
      "   4  nsig         4.95799e+02   3.92054e+01   1.98772e-05  -1.12170e+00\n",
      "   5  sig1frac     8.37341e-01   1.16841e-01   3.40866e-04   7.40533e-01\n",
      "                               ERR DEF= 0.5\n",
      " EXTERNAL ERROR MATRIX.    NDIM=  25    NPAR=  5    ERR DEF=0.5\n",
      "  5.395e-03  1.200e-03 -3.051e-01  3.051e-01 -1.005e-03 \n",
      "  1.200e-03  1.425e-02 -3.209e+00  3.209e+00 -9.625e-03 \n",
      " -3.051e-01 -3.209e+00  1.545e+03 -1.041e+03  3.258e+00 \n",
      "  3.051e-01  3.209e+00 -1.041e+03  1.537e+03 -3.258e+00 \n",
      " -1.005e-03 -9.625e-03  3.258e+00 -3.258e+00  1.413e-02 \n",
      " PARAMETER  CORRELATION COEFFICIENTS  \n",
      "       NO.  GLOBAL      1      2      3      4      5\n",
      "        1  0.14023   1.000  0.137 -0.106  0.106 -0.115\n",
      "        2  0.76770   0.137  1.000 -0.684  0.686 -0.678\n",
      "        3  0.77101  -0.106 -0.684  1.000 -0.676  0.697\n",
      "        4  0.77292   0.106  0.686 -0.676  1.000 -0.699\n",
      "        5  0.77980  -0.115 -0.678  0.697 -0.699  1.000\n",
      "[#1] INFO:Minization -- RooMinimizer::optimizeConst: deactivating const optimization\n"
     ]
    }
   ],
   "source": [
    "model.fitTo(*data);"
   ]
  },
  {
   "cell_type": "markdown",
   "metadata": {},
   "source": [
    "Plot data and pdf overlaid, use expected number of events for p.d.f projection normalization\n",
    " rather than observed number of events (==data->numEntries())"
   ]
  },
  {
   "cell_type": "code",
   "execution_count": 10,
   "metadata": {
    "collapsed": false
   },
   "outputs": [],
   "source": [
    "RooPlot *xframe = x.frame(Title(\"extended ML fit example\"));\n",
    "data->plotOn(xframe);\n",
    "model.plotOn(xframe, Normalization(1.0, RooAbsReal::RelativeExpected));"
   ]
  },
  {
   "cell_type": "markdown",
   "metadata": {},
   "source": [
    "Overlay the background component of model with a dashed line"
   ]
  },
  {
   "cell_type": "code",
   "execution_count": 11,
   "metadata": {
    "collapsed": false
   },
   "outputs": [
    {
     "name": "stdout",
     "output_type": "stream",
     "text": [
      "[#1] INFO:Plotting -- RooAbsPdf::plotOn(model) directly selected PDF components: (bkg)\n",
      "[#1] INFO:Plotting -- RooAbsPdf::plotOn(model) indirectly selected PDF components: ()\n"
     ]
    }
   ],
   "source": [
    "model.plotOn(xframe, Components(bkg), LineStyle(kDashed), Normalization(1.0, RooAbsReal::RelativeExpected));"
   ]
  },
  {
   "cell_type": "markdown",
   "metadata": {},
   "source": [
    "Overlay the background+sig2 components of model with a dotted line"
   ]
  },
  {
   "cell_type": "code",
   "execution_count": 12,
   "metadata": {
    "collapsed": false
   },
   "outputs": [
    {
     "name": "stdout",
     "output_type": "stream",
     "text": [
      "[#1] INFO:Plotting -- RooAbsPdf::plotOn(model) directly selected PDF components: (bkg,sig2)\n",
      "[#1] INFO:Plotting -- RooAbsPdf::plotOn(model) indirectly selected PDF components: (sig)\n"
     ]
    }
   ],
   "source": [
    "model.plotOn(xframe, Components(RooArgSet(bkg, sig2)), LineStyle(kDotted),\n",
    "             Normalization(1.0, RooAbsReal::RelativeExpected));"
   ]
  },
  {
   "cell_type": "markdown",
   "metadata": {},
   "source": [
    "Print structure of composite p.d.f."
   ]
  },
  {
   "cell_type": "code",
   "execution_count": 13,
   "metadata": {
    "collapsed": false
   },
   "outputs": [
    {
     "name": "stdout",
     "output_type": "stream",
     "text": [
      "0x7f39b5d82750 RooAddPdf::model = 0.898614 [Auto,Dirty] \n",
      "  0x7f39b702cb08/V- RooChebychev::bkg = 0.798919 [Auto,Dirty] \n",
      "    0x7f39b702c010/V- RooRealVar::x = 5\n",
      "    0x7f39b702c3b8/V- RooRealVar::a0 = 0.441701 +/- 0.073185\n",
      "    0x7f39b702c760/V- RooRealVar::a1 = 0.201081 +/- 0.117613\n",
      "  0x7f39b5d823a8/V- RooRealVar::nbkg = 504.206 +/- 39.3107\n",
      "  0x7f39b5d8a870/V- RooAddPdf::sig = 1 [Auto,Dirty] \n",
      "    0x7f39b5d89af8/V- RooGaussian::sig1 = 1 [Auto,Dirty] \n",
      "      0x7f39b702c010/V- RooRealVar::x = 5\n",
      "      0x7f39b5d89000/V- RooRealVar::mean = 5\n",
      "      0x7f39b5d893a8/V- RooRealVar::sigma1 = 0.5\n",
      "    0x7f39b5d8a4c8/V- RooRealVar::sig1frac = 0.837341 +/- 0.116841\n",
      "    0x7f39b5d89fe0/V- RooGaussian::sig2 = 1 [Auto,Dirty] \n",
      "      0x7f39b702c010/V- RooRealVar::x = 5\n",
      "      0x7f39b5d89000/V- RooRealVar::mean = 5\n",
      "      0x7f39b5d89750/V- RooRealVar::sigma2 = 1\n",
      "  0x7f39b5d82000/V- RooRealVar::nsig = 495.799 +/- 39.2054\n"
     ]
    }
   ],
   "source": [
    "model.Print(\"t\");"
   ]
  },
  {
   "cell_type": "markdown",
   "metadata": {},
   "source": [
    "----------------\n",
    "METHOD 2\n",
    "================"
   ]
  },
  {
   "cell_type": "markdown",
   "metadata": {},
   "source": [
    "Construct extended components first\n",
    " ---------------------------------------------------------------------"
   ]
  },
  {
   "cell_type": "markdown",
   "metadata": {},
   "source": [
    "Associated nsig/nbkg as expected number of events with sig/bkg"
   ]
  },
  {
   "cell_type": "code",
   "execution_count": 14,
   "metadata": {
    "collapsed": false
   },
   "outputs": [],
   "source": [
    "RooExtendPdf esig(\"esig\", \"extended signal p.d.f\", sig, nsig);\n",
    "RooExtendPdf ebkg(\"ebkg\", \"extended background p.d.f\", bkg, nbkg);"
   ]
  },
  {
   "cell_type": "markdown",
   "metadata": {},
   "source": [
    "Sum extended components without coefs\n",
    " -------------------------------------------------------------------------"
   ]
  },
  {
   "cell_type": "markdown",
   "metadata": {},
   "source": [
    "Construct sum of two extended p.d.f. (no coefficients required)"
   ]
  },
  {
   "cell_type": "code",
   "execution_count": 15,
   "metadata": {
    "collapsed": false
   },
   "outputs": [],
   "source": [
    "RooAddPdf model2(\"model2\", \"(g1+g2)+a\", RooArgList(ebkg, esig));"
   ]
  },
  {
   "cell_type": "markdown",
   "metadata": {},
   "source": [
    "Draw the frame on the canvas"
   ]
  },
  {
   "cell_type": "code",
   "execution_count": 16,
   "metadata": {
    "collapsed": false
   },
   "outputs": [],
   "source": [
    "new TCanvas(\"rf202_composite\", \"rf202_composite\", 600, 600);\n",
    "gPad->SetLeftMargin(0.15);\n",
    "xframe->GetYaxis()->SetTitleOffset(1.4);\n",
    "xframe->Draw();"
   ]
  },
  {
   "cell_type": "markdown",
   "metadata": {},
   "source": [
    "Draw all canvases "
   ]
  },
  {
   "cell_type": "code",
   "execution_count": 17,
   "metadata": {
    "collapsed": false
   },
   "outputs": [
    {
     "data": {
      "text/html": [
       "\n",
       "<div id=\"root_plot_1\"\n",
       "     style=\"width: 596px; height: 572px\">\n",
       "</div>\n",
       "\n",
       "<script>\n",
       " requirejs.config({\n",
       "     paths: {\n",
       "       'JSRootCore' : 'https://root.cern.ch/js/notebook//scripts/JSRootCore',\n",
       "     }\n",
       "   });\n",
       " require(['JSRootCore'],\n",
       "     function(Core) {\n",
       "       var obj = Core.JSONR_unref({\"_typename\":\"TCanvas\",\"fUniqueID\":0,\"fBits\":53673992,\"fLineColor\":1,\"fLineStyle\":1,\"fLineWidth\":1,\"fFillColor\":0,\"fFillStyle\":1001,\"fLeftMargin\":0.15,\"fRightMargin\":0.1,\"fBottomMargin\":0.1,\"fTopMargin\":0.1,\"fXfile\":2,\"fYfile\":2,\"fAfile\":1,\"fXstat\":0.99,\"fYstat\":0.99,\"fAstat\":2,\"fFrameFillColor\":0,\"fFrameLineColor\":1,\"fFrameFillStyle\":1001,\"fFrameLineStyle\":1,\"fFrameLineWidth\":1,\"fFrameBorderSize\":1,\"fFrameBorderMode\":0,\"fX1\":-2.00000007947286,\"fY1\":-7.06538344638929,\"fX2\":11.3333333532015,\"fY2\":63.588446806207,\"fXtoAbsPixelk\":89.4000528863549,\"fXtoPixelk\":89.4000528863549,\"fXtoPixel\":44.6999996669591,\"fYtoAbsPixelk\":514.800046590614,\"fYtoPixelk\":514.800046590614,\"fYtoPixel\":-8.09581020526458,\"fUtoAbsPixelk\":5e-5,\"fUtoPixelk\":5e-5,\"fUtoPixel\":596,\"fVtoAbsPixelk\":572.00005,\"fVtoPixelk\":572,\"fVtoPixel\":-572,\"fAbsPixeltoXk\":-2.00000007947286,\"fPixeltoXk\":-2.00000007947286,\"fPixeltoX\":0.0223713648199235,\"fAbsPixeltoYk\":63.588446806207,\"fPixeltoYk\":-7.06538344638929,\"fPixeltoY\":-0.123520682259784,\"fXlowNDC\":0,\"fYlowNDC\":0,\"fXUpNDC\":0,\"fYUpNDC\":0,\"fWNDC\":1,\"fHNDC\":1,\"fAbsXlowNDC\":0,\"fAbsYlowNDC\":0,\"fAbsWNDC\":1,\"fAbsHNDC\":1,\"fUxmin\":0,\"fUymin\":0,\"fUxmax\":10,\"fUymax\":56.5230633598177,\"fTheta\":30,\"fPhi\":30,\"fAspectRatio\":0,\"fNumber\":0,\"fTickx\":0,\"fTicky\":0,\"fLogx\":0,\"fLogy\":0,\"fLogz\":0,\"fPadPaint\":0,\"fCrosshair\":0,\"fCrosshairPos\":0,\"fBorderSize\":2,\"fBorderMode\":0,\"fModified\":false,\"fGridx\":false,\"fGridy\":false,\"fAbsCoord\":false,\"fEditable\":true,\"fFixedAspectRatio\":false,\"fPrimitives\":{\"_typename\":\"TList\",\"name\":\"TList\",\"arr\":[{\"_typename\":\"TFrame\",\"fUniqueID\":0,\"fBits\":50331656,\"fLineColor\":1,\"fLineStyle\":1,\"fLineWidth\":1,\"fFillColor\":0,\"fFillStyle\":1001,\"fX1\":0,\"fY1\":0,\"fX2\":10,\"fY2\":56.5230633598177,\"fBorderSize\":1,\"fBorderMode\":0},{\"_typename\":\"TH1D\",\"fUniqueID\":0,\"fBits\":50332168,\"fName\":\"frame_7f3994424e60\",\"fTitle\":\"extended ML fit example\",\"fLineColor\":602,\"fLineStyle\":1,\"fLineWidth\":1,\"fFillColor\":0,\"fFillStyle\":1001,\"fMarkerColor\":1,\"fMarkerStyle\":1,\"fMarkerSize\":1,\"fNcells\":102,\"fXaxis\":{\"_typename\":\"TAxis\",\"fUniqueID\":0,\"fBits\":50331648,\"fName\":\"xaxis\",\"fTitle\":\"x\",\"fNdivisions\":510,\"fAxisColor\":1,\"fLabelColor\":1,\"fLabelFont\":42,\"fLabelOffset\":0.005,\"fLabelSize\":0.035,\"fTickLength\":0.03,\"fTitleOffset\":1,\"fTitleSize\":0.035,\"fTitleColor\":1,\"fTitleFont\":42,\"fNbins\":100,\"fXmin\":0,\"fXmax\":10,\"fXbins\":[],\"fFirst\":0,\"fLast\":0,\"fBits2\":0,\"fTimeDisplay\":false,\"fTimeFormat\":\"\",\"fLabels\":null,\"fModLabs\":null},\"fYaxis\":{\"_typename\":\"TAxis\",\"fUniqueID\":0,\"fBits\":50331648,\"fName\":\"yaxis\",\"fTitle\":\"Events \\/ ( 0.1 )\",\"fNdivisions\":510,\"fAxisColor\":1,\"fLabelColor\":1,\"fLabelFont\":42,\"fLabelOffset\":0.005,\"fLabelSize\":0.035,\"fTickLength\":0.03,\"fTitleOffset\":1.4,\"fTitleSize\":0.035,\"fTitleColor\":1,\"fTitleFont\":42,\"fNbins\":1,\"fXmin\":0,\"fXmax\":1,\"fXbins\":[],\"fFirst\":0,\"fLast\":0,\"fBits2\":0,\"fTimeDisplay\":false,\"fTimeFormat\":\"\",\"fLabels\":null,\"fModLabs\":null},\"fZaxis\":{\"_typename\":\"TAxis\",\"fUniqueID\":0,\"fBits\":50331648,\"fName\":\"zaxis\",\"fTitle\":\"\",\"fNdivisions\":510,\"fAxisColor\":1,\"fLabelColor\":1,\"fLabelFont\":42,\"fLabelOffset\":0.005,\"fLabelSize\":0.035,\"fTickLength\":0.03,\"fTitleOffset\":1,\"fTitleSize\":0.035,\"fTitleColor\":1,\"fTitleFont\":42,\"fNbins\":1,\"fXmin\":0,\"fXmax\":1,\"fXbins\":[],\"fFirst\":0,\"fLast\":0,\"fBits2\":0,\"fTimeDisplay\":false,\"fTimeFormat\":\"\",\"fLabels\":null,\"fModLabs\":null},\"fBarOffset\":0,\"fBarWidth\":1000,\"fEntries\":1,\"fTsumw\":0,\"fTsumw2\":0,\"fTsumwx\":0,\"fTsumwx2\":0,\"fMaximum\":56.5230633598177,\"fMinimum\":-1111,\"fNormFactor\":0,\"fContour\":[],\"fSumw2\":[],\"fOption\":\"\",\"fFunctions\":{\"_typename\":\"TList\",\"name\":\"TList\",\"arr\":[],\"opt\":[]},\"fBufferSize\":0,\"fBuffer\":[],\"fBinStatErrOpt\":0,\"fStatOverflows\":2,\"fArray\":[0,56.5230633598177,0,0,0,0,0,0,0,0,0,0,0,0,0,0,0,0,0,0,0,0,0,0,0,0,0,0,0,0,0,0,0,0,0,0,0,0,0,0,0,0,0,0,0,0,0,0,0,0,0,0,0,0,0,0,0,0,0,0,0,0,0,0,0,0,0,0,0,0,0,0,0,0,0,0,0,0,0,0,0,0,0,0,0,0,0,0,0,0,0,0,0,0,0,0,0,0,0,0,0,0]},{\"_typename\":\"RooHist\",\"fUniqueID\":0,\"fBits\":50332680,\"fName\":\"h_modelData\",\"fTitle\":\"Histogram of modelData_plot__x\",\"fLineColor\":1,\"fLineStyle\":1,\"fLineWidth\":1,\"fFillColor\":0,\"fFillStyle\":1000,\"fMarkerColor\":1,\"fMarkerStyle\":8,\"fMarkerSize\":1,\"fNpoints\":100,\"fX\":[0.05,0.15,0.25,0.35,0.45,0.55,0.65,0.75,0.85,0.95,1.05,1.15,1.25,1.35,1.45,1.55,1.65,1.75,1.85,1.95,2.05,2.15,2.25,2.35,2.45,2.55,2.65,2.75,2.85,2.95,3.05,3.15,3.25,3.35,3.45,3.55,3.65,3.75,3.85,3.95,4.05,4.15,4.25,4.35,4.45,4.55,4.65,4.75,4.85,4.95,5.05,5.15,5.25,5.35,5.45,5.55,5.65,5.75,5.85,5.95,6.05,6.15,6.25,6.35,6.45,6.55,6.65,6.75,6.85,6.95,7.05,7.15,7.25,7.35,7.45,7.55,7.65,7.75,7.85,7.95,8.05,8.15,8.25,8.35,8.45,8.55,8.65,8.75,8.85,8.95,9.05,9.15,9.25,9.35,9.45,9.55,9.65,9.75,9.85,9.95],\"fY\":[3,6,5,4,2,3,3,5,7,2,3,3,2,4,3,2,4,10,3,6,4,1,6,4,2,1,7,5,2,3,4,4,7,5,4,2,4,9,9,6,19,8,18,16,22,24,45,40,46,29,43,35,37,28,33,29,20,23,16,8,12,11,6,9,8,6,9,4,7,3,9,6,8,6,3,9,7,9,7,4,6,6,6,10,6,5,5,4,7,4,7,13,12,9,5,10,3,10,11,10],\"fFunctions\":{\"_typename\":\"TList\",\"name\":\"TList\",\"arr\":[],\"opt\":[]},\"fHistogram\":{\"_typename\":\"TH1F\",\"fUniqueID\":0,\"fBits\":50332168,\"fName\":\"h_modelData\",\"fTitle\":\"Histogram of modelData_plot__x\",\"fLineColor\":602,\"fLineStyle\":1,\"fLineWidth\":1,\"fFillColor\":0,\"fFillStyle\":1001,\"fMarkerColor\":1,\"fMarkerStyle\":1,\"fMarkerSize\":1,\"fNcells\":102,\"fXaxis\":{\"_typename\":\"TAxis\",\"fUniqueID\":0,\"fBits\":50331648,\"fName\":\"xaxis\",\"fTitle\":\"\",\"fNdivisions\":510,\"fAxisColor\":1,\"fLabelColor\":1,\"fLabelFont\":42,\"fLabelOffset\":0.005,\"fLabelSize\":0.035,\"fTickLength\":0.03,\"fTitleOffset\":1,\"fTitleSize\":0.035,\"fTitleColor\":1,\"fTitleFont\":42,\"fNbins\":100,\"fXmin\":0,\"fXmax\":11,\"fXbins\":[],\"fFirst\":0,\"fLast\":0,\"fBits2\":0,\"fTimeDisplay\":false,\"fTimeFormat\":\"\",\"fLabels\":null,\"fModLabs\":null},\"fYaxis\":{\"_typename\":\"TAxis\",\"fUniqueID\":0,\"fBits\":50331648,\"fName\":\"yaxis\",\"fTitle\":\"\",\"fNdivisions\":510,\"fAxisColor\":1,\"fLabelColor\":1,\"fLabelFont\":42,\"fLabelOffset\":0.005,\"fLabelSize\":0.035,\"fTickLength\":0.03,\"fTitleOffset\":0,\"fTitleSize\":0.035,\"fTitleColor\":1,\"fTitleFont\":42,\"fNbins\":1,\"fXmin\":0.155478401121105,\"fXmax\":59.197362427621,\"fXbins\":[],\"fFirst\":0,\"fLast\":0,\"fBits2\":0,\"fTimeDisplay\":false,\"fTimeFormat\":\"\",\"fLabels\":null,\"fModLabs\":null},\"fZaxis\":{\"_typename\":\"TAxis\",\"fUniqueID\":0,\"fBits\":50331648,\"fName\":\"zaxis\",\"fTitle\":\"\",\"fNdivisions\":510,\"fAxisColor\":1,\"fLabelColor\":1,\"fLabelFont\":42,\"fLabelOffset\":0.005,\"fLabelSize\":0.035,\"fTickLength\":0.03,\"fTitleOffset\":1,\"fTitleSize\":0.035,\"fTitleColor\":1,\"fTitleFont\":42,\"fNbins\":1,\"fXmin\":0,\"fXmax\":1,\"fXbins\":[],\"fFirst\":0,\"fLast\":0,\"fBits2\":0,\"fTimeDisplay\":false,\"fTimeFormat\":\"\",\"fLabels\":null,\"fModLabs\":null},\"fBarOffset\":0,\"fBarWidth\":1000,\"fEntries\":0,\"fTsumw\":0,\"fTsumw2\":0,\"fTsumwx\":0,\"fTsumwx2\":0,\"fMaximum\":59.197362427621,\"fMinimum\":0.155478401121105,\"fNormFactor\":0,\"fContour\":[],\"fSumw2\":[],\"fOption\":\"\",\"fFunctions\":{\"_typename\":\"TList\",\"name\":\"TList\",\"arr\":[],\"opt\":[]},\"fBufferSize\":0,\"fBuffer\":[],\"fBinStatErrOpt\":0,\"fStatOverflows\":2,\"fArray\":[0,0,0,0,0,0,0,0,0,0,0,0,0,0,0,0,0,0,0,0,0,0,0,0,0,0,0,0,0,0,0,0,0,0,0,0,0,0,0,0,0,0,0,0,0,0,0,0,0,0,0,0,0,0,0,0,0,0,0,0,0,0,0,0,0,0,0,0,0,0,0,0,0,0,0,0,0,0,0,0,0,0,0,0,0,0,0,0,0,0,0,0,0,0,0,0,0,0,0,0,0,0]},\"fMinimum\":-1111,\"fMaximum\":-1111,\"fEXlow\":[0.05,0.05,0.05,0.05,0.05,0.05,0.05,0.05,0.05,0.05,0.05,0.05,0.05,0.05,0.05,0.05,0.05,0.05,0.05,0.05,0.05,0.05,0.05,0.05,0.05,0.05,0.05,0.05,0.05,0.05,0.05,0.05,0.05,0.05,0.05,0.05,0.05,0.05,0.05,0.05,0.05,0.05,0.05,0.05,0.05,0.05,0.05,0.05,0.05,0.05,0.05,0.05,0.05,0.05,0.05,0.05,0.05,0.05,0.05,0.05,0.05,0.05,0.05,0.05,0.05,0.05,0.05,0.05,0.05,0.05,0.05,0.05,0.05,0.05,0.05,0.05,0.05,0.05,0.05,0.05,0.05,0.05,0.05,0.05,0.05,0.05,0.05,0.05,0.05,0.05,0.05,0.05,0.05,0.05,0.05,0.05,0.05,0.05,0.05,0.05],\"fEXhigh\":[0.05,0.05,0.05,0.05,0.05,0.05,0.05,0.05,0.05,0.05,0.05,0.05,0.05,0.05,0.05,0.05,0.05,0.05,0.05,0.05,0.05,0.05,0.05,0.05,0.05,0.05,0.05,0.05,0.05,0.05,0.05,0.05,0.05,0.05,0.05,0.05,0.05,0.05,0.05,0.05,0.05,0.05,0.05,0.05,0.05,0.05,0.05,0.05,0.05,0.05,0.05,0.05,0.05,0.05,0.05,0.05,0.05,0.05,0.05,0.05,0.05,0.05,0.05,0.05,0.05,0.05,0.05,0.05,0.05,0.05,0.05,0.05,0.05,0.05,0.05,0.05,0.05,0.05,0.05,0.05,0.05,0.05,0.05,0.05,0.05,0.05,0.05,0.05,0.05,0.05,0.05,0.05,0.05,0.05,0.05,0.05,0.05,0.05,0.05,0.05],\"fEYlow\":[1.63270468610957,2.37993137929577,2.15969114440678,1.91433918622288,1.29181456018103,1.63270468610957,1.63270468610957,2.15969114440678,2.58147045606626,1.29181456018103,1.63270468610957,1.63270468610957,1.29181456018103,1.91433918622288,1.63270468610957,1.29181456018103,1.91433918622288,3.10869443936164,1.63270468610957,2.37993137929577,1.91433918622288,0.82724622097655,2.37993137929577,1.91433918622288,1.29181456018103,0.82724622097655,2.58147045606626,2.15969114440678,1.29181456018103,1.63270468610957,1.91433918622288,1.91433918622288,2.58147045606626,2.15969114440678,1.91433918622288,1.29181456018103,1.91433918622288,2.94346103725076,2.94346103725076,2.37993137929577,4.32021937465496,2.76838605646272,4.20288721196007,3.95780102940381,4.65450239544497,4.86461220384528,6.68317934450653,6.29800017766426,6.75758099479102,5.35393156485154,6.53183400521367,5.88767477058538,6.05514266189532,5.25971089793461,5.71530168178358,5.35393156485154,4.43444798221412,4.76071662107231,3.95780102940381,2.76838605646272,3.41526599430015,3.26557940095131,2.37993137929577,2.94346103725076,2.76838605646272,2.37993137929577,2.94346103725076,1.91433918622288,2.58147045606626,1.63270468610957,2.94346103725076,2.37993137929577,2.76838605646272,2.37993137929577,1.63270468610957,2.94346103725076,2.58147045606626,2.94346103725076,2.58147045606626,1.91433918622288,2.37993137929577,2.37993137929577,2.37993137929577,3.10869443936164,2.37993137929577,2.15969114440678,2.15969114440678,1.91433918622288,2.58147045606626,1.91433918622288,2.58147045606626,3.5586623304375,3.41526599430015,2.94346103725076,2.15969114440678,3.10869443936164,1.63270468610957,3.10869443936164,3.26557940095131,3.10869443936164],\"fEYhigh\":[2.9181858328834,3.58364154598457,3.38247265214689,3.16275317226094,2.63785962345524,2.9181858328834,2.9181858328834,3.38247265214689,3.77028072043409,2.63785962345524,2.9181858328834,2.9181858328834,2.63785962345524,3.16275317226094,2.9181858328834,2.63785962345524,3.16275317226094,4.26694976100939,2.9181858328834,3.58364154598457,3.16275317226094,2.29952655911586,3.58364154598457,3.16275317226094,2.63785962345524,2.29952655911586,3.77028072043409,3.38247265214689,2.63785962345524,2.9181858328834,3.16275317226094,3.16275317226094,3.77028072043409,3.38247265214689,3.16275317226094,2.63785962345524,3.16275317226094,4.11020413766764,4.11020413766764,3.58364154598457,5.4351961614818,3.94514151986907,5.32100732238368,5.08306556401624,5.76136640411342,5.96693206711369,7.75790450041968,7.37726075879658,7.83148891411209,6.44701964227479,7.60827827535264,6.97240965830357,7.13755508118677,6.35444601200602,6.80256676451212,6.44701964227479,5.54651922951146,5.8652346956897,5.08306556401624,3.94514151986907,4.55981905739127,4.41652052316603,3.58364154598457,4.11020413766764,3.94514151986907,3.58364154598457,4.11020413766764,3.16275317226094,3.77028072043409,2.9181858328834,4.11020413766764,3.58364154598457,3.94514151986907,3.58364154598457,2.9181858328834,4.11020413766764,3.77028072043409,4.11020413766764,3.77028072043409,3.16275317226094,3.58364154598457,3.58364154598457,3.58364154598457,4.26694976100939,3.58364154598457,3.38247265214689,3.38247265214689,3.16275317226094,3.77028072043409,3.16275317226094,3.77028072043409,4.69757337260906,4.55981905739127,4.11020413766764,3.38247265214689,4.26694976100939,2.9181858328834,4.26694976100939,4.41652052316603,4.26694976100939],\"_yAxisLabel\":\"Events \\/ ( 0.1 )\",\"_ymin\":0,\"_ymax\":53.8314889141121,\"_normValue\":0,\"_nominalBinWidth\":0.1,\"_nSigma\":1,\"_entries\":1000,\"_rawEntries\":-1},{\"_typename\":\"RooCurve\",\"fUniqueID\":0,\"fBits\":50332680,\"fName\":\"model_Norm[x]\",\"fTitle\":\"Projection of (g1+g2)+a\",\"fLineColor\":600,\"fLineStyle\":1,\"fLineWidth\":3,\"fFillColor\":0,\"fFillStyle\":1000,\"fMarkerColor\":1,\"fMarkerStyle\":1,\"fMarkerSize\":1,\"fNpoints\":134,\"fX\":[-0.1,-0.1,0,0.1,0.2,0.3,0.4,0.5,0.6,0.7,0.8,0.9,1,1.1,1.2,1.3,1.4,1.5,1.6,1.7,1.8,1.9,2,2.1,2.2,2.3,2.4,2.5,2.6,2.7,2.8,2.9,3,3.1,3.2,3.3,3.4,3.5,3.6,3.7,3.75,3.8,3.85,3.9,3.95,4,4.05,4.1,4.15,4.2,4.25,4.3,4.35,4.4,4.5,4.6,4.65,4.7,4.75,4.8,4.85,4.875,4.9,4.925,4.95,4.975,5,5.025,5.05,5.075,5.1,5.125,5.15,5.2,5.25,5.3,5.35,5.4,5.5,5.6,5.65,5.7,5.75,5.8,5.85,5.9,5.95,6,6.05,6.1,6.15,6.2,6.25,6.3,6.4,6.5,6.6,6.7,6.8,6.9,7,7.1,7.2,7.3,7.4,7.5,7.6,7.7,7.8,7.9,8,8.1,8.2,8.3,8.4,8.5,8.6,8.7,8.8,8.9,9,9.1,9.2,9.3,9.4,9.5,9.6,9.7,9.8,9.9,10,10,10.1,10.1],\"fY\":[0,4.10392414018426,4.10392414018426,4.06560690437654,4.0290329849656,3.99420493110899,3.96112658410074,3.92980366468579,3.90024459218033,3.87246160995299,3.84647230819878,3.82230165160268,3.79998463474694,3.77956969949699,3.76112305278696,3.74473401603705,3.73052151395455,3.71864176534594,3.70929716656295,3.70274625512395,3.69931450525979,3.69940554229025,3.70351218312371,3.71222655171128,3.72624846140345,3.74639147114574,3.77358685243279,3.80888779959595,3.85348071756412,3.90871912710712,3.97621107391346,4.05801543113826,4.15703713627905,4.27775253206582,4.42743063508628,4.61801736508698,4.86877515216845,5.20956952441169,5.68433058051148,6.35370452879318,6.78504715605806,7.29535555725995,7.89635198677319,8.60000542918928,9.41805513482632,10.3614225284809,11.4395226233336,12.6594965917693,14.0253982661927,15.5373781089118,17.1909174669971,18.9761725014279,20.8774898826121,22.8731542035204,27.0308636180267,31.1637533024431,33.1139429492631,34.9257715541923,36.5541909038323,37.9568795282491,39.0961119068613,39.5568305761739,39.9404914425534,40.2444028065118,40.4664359326195,40.6050512107308,40.6593171738053,40.6289220425924,40.5141775963426,40.3160153020965,40.0359747699996,39.6761847354816,39.2393368980306,38.1478461831414,36.7928992224478,35.2122215365309,33.4481345953247,31.5456866122278,27.5082802552576,23.4460541681975,21.4981315110124,19.6445557935512,17.9070424228435,16.3012447284813,14.8370065494853,13.518846538785,12.3466142340724,11.3162558029428,10.4206300730113,9.65032203109737,8.99441025240438,8.44115548661425,7.97858874913545,7.59498778559366,7.02109716475815,6.64181943610456,6.39650839130751,6.24123393167223,6.14613052911773,6.09193575354345,6.06670368520288,6.06316530750828,6.07684427772967,6.10483565836952,6.14508057627271,6.19597098575073,6.25615336603376,6.32444131219291,6.39978162989681,6.48124304765083,6.56801200650945,6.65938869312218,6.75478098353792,6.85369606084826,6.95573029973346,7.06055822596264,7.16792130201743,7.27761713154613,7.38948949574224,7.50341946989845,7.61931773259459,7.73711807689652,7.85677206093882,7.97824469013922,8.10151099981275,8.2265533997644,8.35335964662554,8.48192132107999,8.61223270238278,8.74428994923992,8.87809051249383,8.87809051249383,8.87809051249383,0],\"fFunctions\":{\"_typename\":\"TList\",\"name\":\"TList\",\"arr\":[],\"opt\":[]},\"fHistogram\":{\"_typename\":\"TH1F\",\"fUniqueID\":0,\"fBits\":50332168,\"fName\":\"model_Norm[x]\",\"fTitle\":\"Projection of (g1+g2)+a\",\"fLineColor\":602,\"fLineStyle\":1,\"fLineWidth\":1,\"fFillColor\":0,\"fFillStyle\":1001,\"fMarkerColor\":1,\"fMarkerStyle\":1,\"fMarkerSize\":1,\"fNcells\":136,\"fXaxis\":{\"_typename\":\"TAxis\",\"fUniqueID\":0,\"fBits\":50331648,\"fName\":\"xaxis\",\"fTitle\":\"\",\"fNdivisions\":510,\"fAxisColor\":1,\"fLabelColor\":1,\"fLabelFont\":42,\"fLabelOffset\":0.005,\"fLabelSize\":0.035,\"fTickLength\":0.03,\"fTitleOffset\":1,\"fTitleSize\":0.035,\"fTitleColor\":1,\"fTitleFont\":42,\"fNbins\":134,\"fXmin\":-1.12,\"fXmax\":11.12,\"fXbins\":[],\"fFirst\":0,\"fLast\":0,\"fBits2\":0,\"fTimeDisplay\":false,\"fTimeFormat\":\"\",\"fLabels\":null,\"fModLabs\":null},\"fYaxis\":{\"_typename\":\"TAxis\",\"fUniqueID\":0,\"fBits\":50331648,\"fName\":\"yaxis\",\"fTitle\":\"\",\"fNdivisions\":510,\"fAxisColor\":1,\"fLabelColor\":1,\"fLabelFont\":42,\"fLabelOffset\":0.005,\"fLabelSize\":0.035,\"fTickLength\":0.03,\"fTitleOffset\":0,\"fTitleSize\":0.035,\"fTitleColor\":1,\"fTitleFont\":42,\"fNbins\":1,\"fXmin\":0,\"fXmax\":44.7252488911858,\"fXbins\":[],\"fFirst\":0,\"fLast\":0,\"fBits2\":0,\"fTimeDisplay\":false,\"fTimeFormat\":\"\",\"fLabels\":null,\"fModLabs\":null},\"fZaxis\":{\"_typename\":\"TAxis\",\"fUniqueID\":0,\"fBits\":50331648,\"fName\":\"zaxis\",\"fTitle\":\"\",\"fNdivisions\":510,\"fAxisColor\":1,\"fLabelColor\":1,\"fLabelFont\":42,\"fLabelOffset\":0.005,\"fLabelSize\":0.035,\"fTickLength\":0.03,\"fTitleOffset\":1,\"fTitleSize\":0.035,\"fTitleColor\":1,\"fTitleFont\":42,\"fNbins\":1,\"fXmin\":0,\"fXmax\":1,\"fXbins\":[],\"fFirst\":0,\"fLast\":0,\"fBits2\":0,\"fTimeDisplay\":false,\"fTimeFormat\":\"\",\"fLabels\":null,\"fModLabs\":null},\"fBarOffset\":0,\"fBarWidth\":1000,\"fEntries\":0,\"fTsumw\":0,\"fTsumw2\":0,\"fTsumwx\":0,\"fTsumwx2\":0,\"fMaximum\":44.7252488911858,\"fMinimum\":0,\"fNormFactor\":0,\"fContour\":[],\"fSumw2\":[],\"fOption\":\"\",\"fFunctions\":{\"_typename\":\"TList\",\"name\":\"TList\",\"arr\":[],\"opt\":[]},\"fBufferSize\":0,\"fBuffer\":[],\"fBinStatErrOpt\":0,\"fStatOverflows\":2,\"fArray\":[0,0,0,0,0,0,0,0,0,0,0,0,0,0,0,0,0,0,0,0,0,0,0,0,0,0,0,0,0,0,0,0,0,0,0,0,0,0,0,0,0,0,0,0,0,0,0,0,0,0,0,0,0,0,0,0,0,0,0,0,0,0,0,0,0,0,0,0,0,0,0,0,0,0,0,0,0,0,0,0,0,0,0,0,0,0,0,0,0,0,0,0,0,0,0,0,0,0,0,0,0,0,0,0,0,0,0,0,0,0,0,0,0,0,0,0,0,0,0,0,0,0,0,0,0,0,0,0,0,0,0,0,0,0,0,0]},\"fMinimum\":-1111,\"fMaximum\":-1111,\"_yAxisLabel\":\"Projection of (g1+g2)+a\",\"_ymin\":0,\"_ymax\":40.6593171738053,\"_normValue\":0},{\"_typename\":\"RooCurve\",\"fUniqueID\":0,\"fBits\":50332680,\"fName\":\"model_Norm[x]_Comp[bkg]\",\"fTitle\":\"Projection of (g1+g2)+a\",\"fLineColor\":600,\"fLineStyle\":2,\"fLineWidth\":3,\"fFillColor\":0,\"fFillStyle\":1000,\"fMarkerColor\":1,\"fMarkerStyle\":1,\"fMarkerSize\":1,\"fNpoints\":106,\"fX\":[-0.1,-0.1,0,0.1,0.2,0.3,0.4,0.5,0.6,0.7,0.8,0.9,1,1.1,1.2,1.3,1.4,1.5,1.6,1.7,1.8,1.9,2,2.1,2.2,2.3,2.4,2.5,2.6,2.7,2.8,2.9,3,3.1,3.2,3.3,3.4,3.5,3.6,3.7,3.8,3.9,4,4.1,4.2,4.3,4.4,4.5,4.6,4.7,4.8,4.9,5,5.1,5.2,5.3,5.4,5.5,5.6,5.7,5.8,5.9,6,6.1,6.2,6.3,6.4,6.5,6.6,6.7,6.8,6.9,7,7.1,7.2,7.3,7.4,7.5,7.6,7.7,7.8,7.9,8,8.1,8.2,8.3,8.4,8.5,8.6,8.7,8.8,8.9,9,9.1,9.2,9.3,9.4,9.5,9.6,9.7,9.8,9.9,10,10,10.1,10.1],\"fY\":[0,4.10391215032449,4.10391215032449,4.06558723503271,4.0290010385089,3.99415356075307,3.96104480176521,3.92967476154534,3.90004344009344,3.87215083740952,3.84599695349357,3.82158178834561,3.79890534196561,3.7779676143536,3.75876860550957,3.74130831543351,3.72558674412543,3.71160389158533,3.6993597578132,3.68885434280906,3.68008764657289,3.67305966910469,3.66777041040448,3.66421987047224,3.66240804930798,3.6623349469117,3.66400056328339,3.66740489842306,3.67254795233071,3.67942972500634,3.68805021644994,3.69840942666152,3.71050735564108,3.72434400338862,3.73991936990413,3.75723345518762,3.77628625923909,3.79707778205854,3.81960802364596,3.84387698400136,3.86988466312474,3.89763106101609,3.92711617767543,3.95834001310274,3.99130256729802,4.02600384026129,4.06244383199253,4.10062254249175,4.14053997175895,4.18219611979412,4.22559098659728,4.2707245721684,4.31759687650751,4.3662078996146,4.41655764148966,4.4686461021327,4.52247328154372,4.57803917972271,4.63534379666968,4.69438713238463,4.75516918686755,4.81768996011846,4.88194945213734,4.9479476629242,5.01568459247903,5.08516024080185,5.15637460789264,5.22932769375141,5.30401949837815,5.38045002177287,5.45861926393558,5.53852722486625,5.62017390456491,5.70355930303154,5.78868342026615,5.87554625626874,5.9641478110393,6.05448808457785,6.14656707688437,6.24038478795886,6.33594121780134,6.43323636641179,6.53227023379022,6.63304281993662,6.73555412485101,6.83980414853337,6.94579289098371,7.05352035220203,7.16298653218832,7.27419143094259,7.38713504846484,7.50181738475507,7.61823843981327,7.73639821363945,7.85629670623361,7.97793391759575,8.10130984772586,8.22642449662395,8.35327786429002,8.48186995072406,8.61220075592609,8.74427027989609,8.87807852263406,8.87807852263406,8.87807852263406,0],\"fFunctions\":{\"_typename\":\"TList\",\"name\":\"TList\",\"arr\":[],\"opt\":[]},\"fHistogram\":{\"_typename\":\"TH1F\",\"fUniqueID\":0,\"fBits\":50332168,\"fName\":\"model_Norm[x]_Comp[bkg]\",\"fTitle\":\"Projection of (g1+g2)+a\",\"fLineColor\":602,\"fLineStyle\":1,\"fLineWidth\":1,\"fFillColor\":0,\"fFillStyle\":1001,\"fMarkerColor\":1,\"fMarkerStyle\":1,\"fMarkerSize\":1,\"fNcells\":108,\"fXaxis\":{\"_typename\":\"TAxis\",\"fUniqueID\":0,\"fBits\":50331648,\"fName\":\"xaxis\",\"fTitle\":\"\",\"fNdivisions\":510,\"fAxisColor\":1,\"fLabelColor\":1,\"fLabelFont\":42,\"fLabelOffset\":0.005,\"fLabelSize\":0.035,\"fTickLength\":0.03,\"fTitleOffset\":1,\"fTitleSize\":0.035,\"fTitleColor\":1,\"fTitleFont\":42,\"fNbins\":106,\"fXmin\":-1.12,\"fXmax\":11.12,\"fXbins\":[],\"fFirst\":0,\"fLast\":0,\"fBits2\":0,\"fTimeDisplay\":false,\"fTimeFormat\":\"\",\"fLabels\":null,\"fModLabs\":null},\"fYaxis\":{\"_typename\":\"TAxis\",\"fUniqueID\":0,\"fBits\":50331648,\"fName\":\"yaxis\",\"fTitle\":\"\",\"fNdivisions\":510,\"fAxisColor\":1,\"fLabelColor\":1,\"fLabelFont\":42,\"fLabelOffset\":0.005,\"fLabelSize\":0.035,\"fTickLength\":0.03,\"fTitleOffset\":0,\"fTitleSize\":0.035,\"fTitleColor\":1,\"fTitleFont\":42,\"fNbins\":1,\"fXmin\":0,\"fXmax\":9.76588637489747,\"fXbins\":[],\"fFirst\":0,\"fLast\":0,\"fBits2\":0,\"fTimeDisplay\":false,\"fTimeFormat\":\"\",\"fLabels\":null,\"fModLabs\":null},\"fZaxis\":{\"_typename\":\"TAxis\",\"fUniqueID\":0,\"fBits\":50331648,\"fName\":\"zaxis\",\"fTitle\":\"\",\"fNdivisions\":510,\"fAxisColor\":1,\"fLabelColor\":1,\"fLabelFont\":42,\"fLabelOffset\":0.005,\"fLabelSize\":0.035,\"fTickLength\":0.03,\"fTitleOffset\":1,\"fTitleSize\":0.035,\"fTitleColor\":1,\"fTitleFont\":42,\"fNbins\":1,\"fXmin\":0,\"fXmax\":1,\"fXbins\":[],\"fFirst\":0,\"fLast\":0,\"fBits2\":0,\"fTimeDisplay\":false,\"fTimeFormat\":\"\",\"fLabels\":null,\"fModLabs\":null},\"fBarOffset\":0,\"fBarWidth\":1000,\"fEntries\":0,\"fTsumw\":0,\"fTsumw2\":0,\"fTsumwx\":0,\"fTsumwx2\":0,\"fMaximum\":9.76588637489747,\"fMinimum\":0,\"fNormFactor\":0,\"fContour\":[],\"fSumw2\":[],\"fOption\":\"\",\"fFunctions\":{\"_typename\":\"TList\",\"name\":\"TList\",\"arr\":[],\"opt\":[]},\"fBufferSize\":0,\"fBuffer\":[],\"fBinStatErrOpt\":0,\"fStatOverflows\":2,\"fArray\":[0,0,0,0,0,0,0,0,0,0,0,0,0,0,0,0,0,0,0,0,0,0,0,0,0,0,0,0,0,0,0,0,0,0,0,0,0,0,0,0,0,0,0,0,0,0,0,0,0,0,0,0,0,0,0,0,0,0,0,0,0,0,0,0,0,0,0,0,0,0,0,0,0,0,0,0,0,0,0,0,0,0,0,0,0,0,0,0,0,0,0,0,0,0,0,0,0,0,0,0,0,0,0,0,0,0,0,0]},\"fMinimum\":-1111,\"fMaximum\":-1111,\"_yAxisLabel\":\"Projection of (g1+g2)+a\",\"_ymin\":0,\"_ymax\":8.87807852263406,\"_normValue\":0},{\"_typename\":\"RooCurve\",\"fUniqueID\":0,\"fBits\":50332680,\"fName\":\"model_Norm[x]_Comp[bkg,sig2]\",\"fTitle\":\"Projection of (g1+g2)+a\",\"fLineColor\":600,\"fLineStyle\":3,\"fLineWidth\":3,\"fFillColor\":0,\"fFillStyle\":1000,\"fMarkerColor\":1,\"fMarkerStyle\":1,\"fMarkerSize\":1,\"fNpoints\":106,\"fX\":[-0.1,-0.1,0,0.1,0.2,0.3,0.4,0.5,0.6,0.7,0.8,0.9,1,1.1,1.2,1.3,1.4,1.5,1.6,1.7,1.8,1.9,2,2.1,2.2,2.3,2.4,2.5,2.6,2.7,2.8,2.9,3,3.1,3.2,3.3,3.4,3.5,3.6,3.7,3.8,3.9,4,4.1,4.2,4.3,4.4,4.5,4.6,4.7,4.8,4.9,5,5.1,5.2,5.3,5.4,5.5,5.6,5.7,5.8,5.9,6,6.1,6.2,6.3,6.4,6.5,6.6,6.7,6.8,6.9,7,7.1,7.2,7.3,7.4,7.5,7.6,7.7,7.8,7.9,8,8.1,8.2,8.3,8.4,8.5,8.6,8.7,8.8,8.9,9,9.1,9.2,9.3,9.4,9.5,9.6,9.7,9.8,9.9,10,10,10.1,10.1],\"fY\":[0,4.10392414018426,4.10392414018426,4.06560690437654,4.0290329849656,3.99420493110899,3.96112658410074,3.92980366468579,3.90024459218033,3.87246160995299,3.84647230819876,3.82230165160259,3.79998463474652,3.77956969949495,3.76112305277746,3.74473401599447,3.73052151377122,3.71864176458748,3.70929716354814,3.70274624361027,3.69931446301269,3.6994053933514,3.70351167863986,3.71222490993206,3.72624332794012,3.74637604936963,3.77354233946563,3.80876435646849,3.85315180875264,3.90787712666141,3.9741400869976,4.05312135626151,4.14592514006652,4.25351202051387,4.37662408603505,4.51570553937782,4.6708230160677,4.84159074767062,5.02710634355153,5.2259032281757,5.43592556380865,5.6545307496446,5.87852330316574,6.10422213860434,6.32756106045465,6.54421984240443,6.74978076402827,6.93990315650495,7.11050659611548,7.25795209045483,7.379210090359,7.47200452521864,7.53492331209919,7.56748785266483,7.57017674525138,7.54440207279341,7.49243990590025,7.41731979373591,7.32268072870542,7.21260313452777,7.09142768002418,6.96357208562006,6.83335657762766,6.70484735155271,6.58172549316294,6.46718648497618,6.36387292779821,6.27384065936349,6.19855625520676,6.13892210596307,6.09532398006649,6.06769524199151,6.05559168899035,6.05827123263153,6.07477329081381,6.10399365792381,6.14475166746123,6.19584754262327,6.2561088530666,6.3244258904168,6.39977649643348,6.48124140587161,6.5680115020256,6.65938854418333,6.75478094129082,6.85369604933459,6.95573029671865,7.06055822520418,7.1679213018341,7.27761713150355,7.38948949573274,7.50341946989642,7.61931773259417,7.73711807689644,7.8567720609388,7.97824469013922,8.10151099981275,8.2265533997644,8.35335964662554,8.48192132107999,8.61223270238278,8.74428994923992,8.87809051249383,8.87809051249383,8.87809051249383,0],\"fFunctions\":{\"_typename\":\"TList\",\"name\":\"TList\",\"arr\":[],\"opt\":[]},\"fHistogram\":{\"_typename\":\"TH1F\",\"fUniqueID\":0,\"fBits\":50332168,\"fName\":\"model_Norm[x]_Comp[bkg,sig2]\",\"fTitle\":\"Projection of (g1+g2)+a\",\"fLineColor\":602,\"fLineStyle\":1,\"fLineWidth\":1,\"fFillColor\":0,\"fFillStyle\":1001,\"fMarkerColor\":1,\"fMarkerStyle\":1,\"fMarkerSize\":1,\"fNcells\":108,\"fXaxis\":{\"_typename\":\"TAxis\",\"fUniqueID\":0,\"fBits\":50331648,\"fName\":\"xaxis\",\"fTitle\":\"\",\"fNdivisions\":510,\"fAxisColor\":1,\"fLabelColor\":1,\"fLabelFont\":42,\"fLabelOffset\":0.005,\"fLabelSize\":0.035,\"fTickLength\":0.03,\"fTitleOffset\":1,\"fTitleSize\":0.035,\"fTitleColor\":1,\"fTitleFont\":42,\"fNbins\":106,\"fXmin\":-1.12,\"fXmax\":11.12,\"fXbins\":[],\"fFirst\":0,\"fLast\":0,\"fBits2\":0,\"fTimeDisplay\":false,\"fTimeFormat\":\"\",\"fLabels\":null,\"fModLabs\":null},\"fYaxis\":{\"_typename\":\"TAxis\",\"fUniqueID\":0,\"fBits\":50331648,\"fName\":\"yaxis\",\"fTitle\":\"\",\"fNdivisions\":510,\"fAxisColor\":1,\"fLabelColor\":1,\"fLabelFont\":42,\"fLabelOffset\":0.005,\"fLabelSize\":0.035,\"fTickLength\":0.03,\"fTitleOffset\":0,\"fTitleSize\":0.035,\"fTitleColor\":1,\"fTitleFont\":42,\"fNbins\":1,\"fXmin\":0,\"fXmax\":9.76589956374321,\"fXbins\":[],\"fFirst\":0,\"fLast\":0,\"fBits2\":0,\"fTimeDisplay\":false,\"fTimeFormat\":\"\",\"fLabels\":null,\"fModLabs\":null},\"fZaxis\":{\"_typename\":\"TAxis\",\"fUniqueID\":0,\"fBits\":50331648,\"fName\":\"zaxis\",\"fTitle\":\"\",\"fNdivisions\":510,\"fAxisColor\":1,\"fLabelColor\":1,\"fLabelFont\":42,\"fLabelOffset\":0.005,\"fLabelSize\":0.035,\"fTickLength\":0.03,\"fTitleOffset\":1,\"fTitleSize\":0.035,\"fTitleColor\":1,\"fTitleFont\":42,\"fNbins\":1,\"fXmin\":0,\"fXmax\":1,\"fXbins\":[],\"fFirst\":0,\"fLast\":0,\"fBits2\":0,\"fTimeDisplay\":false,\"fTimeFormat\":\"\",\"fLabels\":null,\"fModLabs\":null},\"fBarOffset\":0,\"fBarWidth\":1000,\"fEntries\":0,\"fTsumw\":0,\"fTsumw2\":0,\"fTsumwx\":0,\"fTsumwx2\":0,\"fMaximum\":9.76589956374321,\"fMinimum\":0,\"fNormFactor\":0,\"fContour\":[],\"fSumw2\":[],\"fOption\":\"\",\"fFunctions\":{\"_typename\":\"TList\",\"name\":\"TList\",\"arr\":[],\"opt\":[]},\"fBufferSize\":0,\"fBuffer\":[],\"fBinStatErrOpt\":0,\"fStatOverflows\":2,\"fArray\":[0,0,0,0,0,0,0,0,0,0,0,0,0,0,0,0,0,0,0,0,0,0,0,0,0,0,0,0,0,0,0,0,0,0,0,0,0,0,0,0,0,0,0,0,0,0,0,0,0,0,0,0,0,0,0,0,0,0,0,0,0,0,0,0,0,0,0,0,0,0,0,0,0,0,0,0,0,0,0,0,0,0,0,0,0,0,0,0,0,0,0,0,0,0,0,0,0,0,0,0,0,0,0,0,0,0,0,0]},\"fMinimum\":-1111,\"fMaximum\":-1111,\"_yAxisLabel\":\"Projection of (g1+g2)+a\",\"_ymin\":0,\"_ymax\":8.87809051249383,\"_normValue\":0},{\"$ref\":3},{\"_typename\":\"TPaveText\",\"fUniqueID\":0,\"fBits\":50331657,\"fLineColor\":1,\"fLineStyle\":1,\"fLineWidth\":1,\"fFillColor\":0,\"fFillStyle\":0,\"fX1\":0.76375833038049,\"fY1\":58.9366582492073,\"fX2\":8.5695749433482,\"fY2\":63.2351779918477,\"fX1NDC\":0.207281879194631,\"fY1NDC\":0.934160843929211,\"fX2NDC\":0.792718120805369,\"fY2NDC\":0.995000004768372,\"fBorderSize\":0,\"fInit\":1,\"fShadowColor\":1,\"fCornerRadius\":0,\"fOption\":\"blNDC\",\"fName\":\"title\",\"fTextAngle\":0,\"fTextSize\":0,\"fTextAlign\":22,\"fTextColor\":1,\"fTextFont\":42,\"fLabel\":\"\",\"fLongest\":23,\"fMargin\":0.05,\"fLines\":{\"_typename\":\"TList\",\"name\":\"TList\",\"arr\":[{\"_typename\":\"TLatex\",\"fUniqueID\":0,\"fBits\":50331648,\"fName\":\"\",\"fTitle\":\"extended ML fit example\",\"fTextAngle\":0,\"fTextSize\":0,\"fTextAlign\":0,\"fTextColor\":0,\"fTextFont\":0,\"fX\":0,\"fY\":0,\"fLineColor\":1,\"fLineStyle\":1,\"fLineWidth\":2,\"fLimitFactorSize\":3,\"fOriginSize\":0.0517132878303528}],\"opt\":[\"\"]}}],\"opt\":[\"\",\"FUNC\",\"p\",\"l\",\"l\",\"l\",\"AXISSAME\",\"blNDC\"]},\"fExecs\":null,\"fName\":\"rf202_composite\",\"fTitle\":\"rf202_composite\",\"fNumPaletteColor\":0,\"fNextPaletteColor\":0,\"fDISPLAY\":\"$DISPLAY\",\"fDoubleBuffer\":0,\"fRetained\":true,\"fXsizeUser\":0,\"fYsizeUser\":0,\"fXsizeReal\":20,\"fYsizeReal\":20,\"fWindowTopX\":0,\"fWindowTopY\":0,\"fWindowWidth\":0,\"fWindowHeight\":0,\"fCw\":596,\"fCh\":572,\"fCatt\":{\"_typename\":\"TAttCanvas\",\"fXBetween\":2,\"fYBetween\":2,\"fTitleFromTop\":1.2,\"fXdate\":0.2,\"fYdate\":0.3,\"fAdate\":1},\"kMoveOpaque\":true,\"kResizeOpaque\":true,\"fHighLightColor\":2,\"fBatch\":true,\"kShowEventStatus\":false,\"kAutoExec\":true,\"kMenuBar\":true});\n",
       "       Core.draw(\"root_plot_1\", obj, \"\");\n",
       "     }\n",
       " );\n",
       "</script>\n"
      ],
      "text/plain": [
       "<IPython.core.display.HTML object>"
      ]
     },
     "metadata": {},
     "output_type": "display_data"
    }
   ],
   "source": [
    "%jsroot on\n",
    "gROOT->GetListOfCanvases()->Draw()"
   ]
  }
 ],
 "metadata": {
  "kernelspec": {
   "display_name": "ROOT C++",
   "language": "c++",
   "name": "root"
  },
  "language_info": {
   "codemirror_mode": "text/x-c++src",
   "file_extension": ".C",
   "mimetype": " text/x-c++src",
   "name": "c++"
  }
 },
 "nbformat": 4,
 "nbformat_minor": 2
}
