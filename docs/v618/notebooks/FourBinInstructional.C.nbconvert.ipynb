{
 "cells": [
  {
   "cell_type": "markdown",
   "metadata": {},
   "source": [
    "#  Four Bin Instructional\n",
    " This example is a generalization of the on/off problem.\n",
    "\n",
    " This example is a generalization of the on/off problem.\n",
    "It's a common setup for SUSY searches.  Imagine that one has two\n",
    "variables \"x\" and \"y\" (eg. missing ET and SumET), see figure.\n",
    "The signal region has high values of both of these variables (top right).\n",
    "One can see low values of \"x\" or \"y\" acting as side-bands.  If we\n",
    "just used \"y\" as a sideband, we would have the on/off problem.\n",
    " - In the signal region we observe non events and expect s+b events.\n",
    " - In the region with low values of \"y\" (bottom right)\n",
    "   we observe noff events and expect tau*b events.\n",
    "Note the significance of tau.  In the background only case:\n",
    "\n",
    "```cpp\n",
    "   tau ~ <expectation off> / <expectation on>\n",
    "```\n",
    "\n",
    "If tau is known, this model is sufficient, but often tau is not known exactly.\n",
    "So one can use low values of \"x\" as an additional constraint for tau.\n",
    "Note that this technique critically depends on the notion that the\n",
    "joint distribution for \"x\" and \"y\" can be factorized.\n",
    "Generally, these regions have many events, so it the ratio can be\n",
    "measured very precisely there.  So we extend the model to describe the\n",
    "left two boxes... denoted with \"bar\".\n",
    "  - In the upper left we observe nonbar events and expect bbar events\n",
    "  - In the bottom left we observe noffbar events and expect tau bbar events\n",
    "Note again we have:\n",
    "\n",
    "```cpp\n",
    "   tau ~ <expectation off bar> / <expectation on bar>\n",
    "```\n",
    "\n",
    "One can further expand the model to account for the systematic associated\n",
    "to assuming the distribution of \"x\" and \"y\" factorizes (eg. that\n",
    "tau is the same for off/on and offbar/onbar). This can be done in several\n",
    "ways, but here we introduce an additional parameter rho, which so that\n",
    "one set of models will use tau and the other tau*rho. The choice is arbitrary,\n",
    "but it has consequences on the numerical stability of the algorithms.\n",
    "The \"bar\" measurements typically have more events (& smaller relative errors).\n",
    "If we choose\n",
    "\n",
    "```cpp\n",
    "<expectation noffbar> = tau * rho * <expectation noonbar>\n",
    "```\n",
    "\n",
    "the product tau*rho will be known very precisely (~1/sqrt(bbar)) and the contour\n",
    "in those parameters will be narrow and have a non-trivial tau~1/rho shape.\n",
    "However, if we choose to put rho on the non/noff measurements (where the\n",
    "product will have an error `~1/sqrt(b))`, the contours will be more amenable\n",
    "to numerical techniques.  Thus, here we choose to define:\n",
    "\n",
    "```cpp\n",
    "   tau := <expectation off bar> / (<expectation on bar>)\n",
    "   rho := <expectation off> / (<expectation on> * tau)\n",
    "\n",
    "^ y\n",
    "|\n",
    "|---------------------------+\n",
    "|               |           |\n",
    "|     nonbar    |    non    |\n",
    "|      bbar     |    s+b    |\n",
    "|               |           |\n",
    "|---------------+-----------|\n",
    "|               |           |\n",
    "|    noffbar    |    noff   |\n",
    "|    tau bbar   | tau b rho |\n",
    "|               |           |\n",
    "+-----------------------------> x\n",
    "```\n",
    "\n",
    "Left in this way, the problem is under-constrained.  However, one may\n",
    "have some auxiliary measurement (usually based on Monte Carlo) to\n",
    "constrain rho.  Let us call this auxiliary measurement that gives\n",
    "the nominal value of rho \"rhonom\".  Thus, there is a 'constraint' term in\n",
    "the full model: P(rhonom | rho).  In this case, we consider a Gaussian\n",
    "constraint with standard deviation sigma.\n",
    "\n",
    "In the example, the initial values of the parameters are:\n",
    "\n",
    "```cpp\n",
    "  - s    = 40\n",
    "  - b    = 100\n",
    "  - tau  = 5\n",
    "  - bbar = 1000\n",
    "  - rho  = 1\n",
    "  (sigma for rho = 20%)\n",
    "```\n",
    "\n",
    "and in the toy dataset:\n",
    "\n",
    "```cpp\n",
    "   - non = 139\n",
    "   - noff = 528\n",
    "   - nonbar = 993\n",
    "   - noffbar = 4906\n",
    "   - rhonom = 1.27824\n",
    "```\n",
    "\n",
    "Note, the covariance matrix of the parameters has large off-diagonal terms.\n",
    "Clearly s,b are anti-correlated.  Similarly, since noffbar >> nonbar, one would\n",
    "expect bbar,tau to be anti-correlated.\n",
    "\n",
    "This can be seen below.\n",
    "\n",
    "```cpp\n",
    "            GLOBAL      b    bbar   rho      s     tau\n",
    "        b  0.96820   1.000  0.191 -0.942 -0.762 -0.209\n",
    "     bbar  0.91191   0.191  1.000  0.000 -0.146 -0.912\n",
    "      rho  0.96348  -0.942  0.000  1.000  0.718 -0.000\n",
    "        s  0.76250  -0.762 -0.146  0.718  1.000  0.160\n",
    "      tau  0.92084  -0.209 -0.912 -0.000  0.160  1.000\n",
    "```\n",
    "\n",
    "Similarly, since tau*rho appears as a product, we expect rho,tau\n",
    "to be anti-correlated. When the error on rho is significantly\n",
    "larger than 1/sqrt(bbar), tau is essentially known and the\n",
    "correlation is minimal (tau mainly cares about bbar, and rho about b,s).\n",
    "In the alternate parametrization (bbar* tau * rho) the correlation coefficient\n",
    "for rho,tau is large (and negative).\n",
    "\n",
    "The code below uses best-practices for RooFit & RooStats as of June 2010.\n",
    "\n",
    "It proceeds as follows:\n",
    " - create a workspace to hold the model\n",
    " - use workspace factory to quickly create the terms of the model\n",
    " - use workspace factory to define total model (a prod pdf)\n",
    " - create a RooStats ModelConfig to specify observables, parameters of interest\n",
    " - add to the ModelConfig a prior on the parameters for Bayesian techniques\n",
    "   note, the pdf it is factorized for parameters of interest & nuisance params\n",
    " - visualize the model\n",
    " - write the workspace to a file\n",
    " - use several of RooStats IntervalCalculators & compare results\n",
    "\n",
    "\n",
    "\n",
    "\n",
    "**Author:**   authors: Kyle Cranmer, Tanja Rommerskirchen  \n",
    "<i><small>This notebook tutorial was automatically generated with <a href= \"https://github.com/root-project/root/blob/master/documentation/doxygen/converttonotebook.py\">ROOTBOOK-izer</a> from the macro found in the ROOT repository  on Thursday, August 29, 2019 at 03:07 AM.</small></i>"
   ]
  },
  {
   "cell_type": "code",
   "execution_count": 1,
   "metadata": {
    "collapsed": false
   },
   "outputs": [],
   "source": [
    "%%cpp -d\n",
    "#include \"TStopwatch.h\"\n",
    "#include \"TCanvas.h\"\n",
    "#include \"TROOT.h\"\n",
    "#include \"RooPlot.h\"\n",
    "#include \"RooAbsPdf.h\"\n",
    "#include \"RooWorkspace.h\"\n",
    "#include \"RooDataSet.h\"\n",
    "#include \"RooGlobalFunc.h\"\n",
    "#include \"RooFitResult.h\"\n",
    "#include \"RooRandom.h\"\n",
    "#include \"RooStats/ProfileLikelihoodCalculator.h\"\n",
    "#include \"RooStats/LikelihoodInterval.h\"\n",
    "#include \"RooStats/LikelihoodIntervalPlot.h\"\n",
    "#include \"RooStats/BayesianCalculator.h\"\n",
    "#include \"RooStats/MCMCCalculator.h\"\n",
    "#include \"RooStats/MCMCInterval.h\"\n",
    "#include \"RooStats/MCMCIntervalPlot.h\"\n",
    "#include \"RooStats/ProposalHelper.h\"\n",
    "#include \"RooStats/SimpleInterval.h\"\n",
    "#include \"RooStats/FeldmanCousins.h\"\n",
    "#include \"RooStats/PointSetInterval.h\""
   ]
  },
  {
   "cell_type": "code",
   "execution_count": 2,
   "metadata": {
    "collapsed": false
   },
   "outputs": [],
   "source": [
    "%%cpp -d\n",
    "// This is a workaround to make sure the namespace is used inside functions\n",
    "using namespace RooFit;\n",
    "using namespace RooStats;"
   ]
  },
  {
   "cell_type": "markdown",
   "metadata": {},
   "source": [
    " Arguments are defined. "
   ]
  },
  {
   "cell_type": "code",
   "execution_count": 3,
   "metadata": {
    "collapsed": false
   },
   "outputs": [],
   "source": [
    "bool doBayesian = false;\n",
    "bool doFeldmanCousins = false;\n",
    "bool doMCMC = false;"
   ]
  },
  {
   "cell_type": "markdown",
   "metadata": {},
   "source": [
    "Let's time this challenging example"
   ]
  },
  {
   "cell_type": "code",
   "execution_count": 4,
   "metadata": {
    "collapsed": false
   },
   "outputs": [],
   "source": [
    "TStopwatch t;\n",
    "t.Start();"
   ]
  },
  {
   "cell_type": "markdown",
   "metadata": {},
   "source": [
    "Set roofit random seed for reproducible results"
   ]
  },
  {
   "cell_type": "code",
   "execution_count": 5,
   "metadata": {
    "collapsed": false
   },
   "outputs": [
    {
     "name": "stdout",
     "output_type": "stream",
     "text": [
      "\n",
      "\u001b[1mRooFit v3.60 -- Developed by Wouter Verkerke and David Kirkby\u001b[0m \n",
      "                Copyright (C) 2000-2013 NIKHEF, University of California & Stanford University\n",
      "                All rights reserved, please read http://roofit.sourceforge.net/license.txt\n",
      "\n"
     ]
    }
   ],
   "source": [
    "RooRandom::randomGenerator()->SetSeed(4357);"
   ]
  },
  {
   "cell_type": "markdown",
   "metadata": {},
   "source": [
    "Make model"
   ]
  },
  {
   "cell_type": "code",
   "execution_count": 6,
   "metadata": {
    "collapsed": false
   },
   "outputs": [],
   "source": [
    "RooWorkspace *wspace = new RooWorkspace(\"wspace\");\n",
    "wspace->factory(\"Poisson::on(non[0,1000], sum::splusb(s[40,0,100],b[100,0,300]))\");\n",
    "wspace->factory(\"Poisson::off(noff[0,5000], prod::taub(b,tau[5,3,7],rho[1,0,2]))\");\n",
    "wspace->factory(\"Poisson::onbar(nonbar[0,10000], bbar[1000,500,2000])\");\n",
    "wspace->factory(\"Poisson::offbar(noffbar[0,1000000], prod::lambdaoffbar(bbar, tau))\");\n",
    "wspace->factory(\"Gaussian::mcCons(rhonom[1.,0,2], rho, sigma[.2])\");\n",
    "wspace->factory(\"PROD::model(on,off,onbar,offbar,mcCons)\");\n",
    "wspace->defineSet(\"obs\", \"non,noff,nonbar,noffbar,rhonom\");\n",
    "\n",
    "wspace->factory(\"Uniform::prior_poi({s})\");\n",
    "wspace->factory(\"Uniform::prior_nuis({b,bbar,tau, rho})\");\n",
    "wspace->factory(\"PROD::prior(prior_poi,prior_nuis)\");"
   ]
  },
  {
   "cell_type": "markdown",
   "metadata": {},
   "source": [
    "----------------------------------\n",
    " Control some interesting variations\n",
    " define parameers of interest\n",
    " for 1-d plots"
   ]
  },
  {
   "cell_type": "code",
   "execution_count": 7,
   "metadata": {
    "collapsed": false
   },
   "outputs": [],
   "source": [
    "wspace->defineSet(\"poi\", \"s\");\n",
    "wspace->defineSet(\"nuis\", \"b,tau,rho,bbar\");"
   ]
  },
  {
   "cell_type": "markdown",
   "metadata": {},
   "source": [
    "For 2-d plots to inspect correlations:\n",
    "  wspace->defineSet(\"poi\",\"s,rho\");"
   ]
  },
  {
   "cell_type": "markdown",
   "metadata": {},
   "source": [
    "Test simpler cases where parameters are known.\n",
    "  wspace->var(\"tau\")->setConstant();\n",
    "  wspace->var(\"rho\")->setConstant();\n",
    "  wspace->var(\"b\")->setConstant();\n",
    "  wspace->var(\"bbar\")->setConstant();"
   ]
  },
  {
   "cell_type": "markdown",
   "metadata": {},
   "source": [
    "Inspect workspace\n",
    "  wspace->Print();"
   ]
  },
  {
   "cell_type": "markdown",
   "metadata": {},
   "source": [
    "----------------------------------------------------------\n",
    " Generate toy data\n",
    " generate toy data assuming current value of the parameters\n",
    " import into workspace.\n",
    " add Verbose() to see how it's being generated"
   ]
  },
  {
   "cell_type": "code",
   "execution_count": 8,
   "metadata": {
    "collapsed": false
   },
   "outputs": [],
   "source": [
    "RooDataSet *data = wspace->pdf(\"model\")->generate(*wspace->set(\"obs\"), 1);"
   ]
  },
  {
   "cell_type": "markdown",
   "metadata": {},
   "source": [
    "Data->print(\"v\");"
   ]
  },
  {
   "cell_type": "code",
   "execution_count": 9,
   "metadata": {
    "collapsed": false
   },
   "outputs": [
    {
     "name": "stdout",
     "output_type": "stream",
     "text": [
      "[#1] INFO:ObjectHandling -- RooWorkspace::import(wspace) importing dataset modelData\n"
     ]
    }
   ],
   "source": [
    "wspace->import(*data);"
   ]
  },
  {
   "cell_type": "markdown",
   "metadata": {},
   "source": [
    "----------------------------------\n",
    " Now the statistical tests\n",
    " model config"
   ]
  },
  {
   "cell_type": "code",
   "execution_count": 10,
   "metadata": {
    "collapsed": false
   },
   "outputs": [],
   "source": [
    "ModelConfig *modelConfig = new ModelConfig(\"FourBins\");\n",
    "modelConfig->SetWorkspace(*wspace);\n",
    "modelConfig->SetPdf(*wspace->pdf(\"model\"));\n",
    "modelConfig->SetPriorPdf(*wspace->pdf(\"prior\"));\n",
    "modelConfig->SetParametersOfInterest(*wspace->set(\"poi\"));\n",
    "modelConfig->SetNuisanceParameters(*wspace->set(\"nuis\"));\n",
    "wspace->import(*modelConfig);\n",
    "wspace->writeToFile(\"FourBin.root\");"
   ]
  },
  {
   "cell_type": "markdown",
   "metadata": {},
   "source": [
    "-------------------------------------------------\n",
    " If you want to see the covariance matrix uncomment\n",
    "  wspace->pdf(\"model\")->fitTo(*data);"
   ]
  },
  {
   "cell_type": "markdown",
   "metadata": {},
   "source": [
    "Use profilelikelihood"
   ]
  },
  {
   "cell_type": "code",
   "execution_count": 11,
   "metadata": {
    "collapsed": false
   },
   "outputs": [
    {
     "name": "stdout",
     "output_type": "stream",
     "text": [
      "[#1] INFO:Minization -- createNLL: caching constraint set under name CONSTR_OF_PDF_model_FOR_OBS_noff:noffbar:non:nonbar:rhonom with 0 entries\n",
      "[#0] PROGRESS:Minization -- ProfileLikelihoodCalcultor::DoGLobalFit - find MLE \n",
      "[#0] PROGRESS:Minization -- ProfileLikelihoodCalcultor::DoMinimizeNLL - using Minuit / Migrad with strategy 1\n",
      "[#1] INFO:Minization -- RooMinimizer::optimizeConst: activating const optimization\n",
      "[#1] INFO:Minization --  The following expressions will be evaluated in cache-and-track mode: (on,off,onbar,offbar,mcCons)\n",
      "[#1] INFO:Minization -- \n",
      "  RooFitResult: minimized FCN value: 16.2872, estimated distance to minimum: 1.21263e-07\n",
      "                covariance matrix quality: Full, accurate covariance matrix\n",
      "                Status : MINIMIZE=0 \n",
      "\n",
      "    Floating Parameter    FinalValue +/-  Error   \n",
      "  --------------------  --------------------------\n",
      "                     b    8.3602e+01 +/-  1.39e+01\n",
      "                  bbar    9.9301e+02 +/-  3.15e+01\n",
      "                   rho    1.2783e+00 +/-  1.99e-01\n",
      "                     s    5.5397e+01 +/-  1.78e+01\n",
      "                   tau    4.9405e+00 +/-  1.72e-01\n",
      "\n"
     ]
    }
   ],
   "source": [
    "ProfileLikelihoodCalculator plc(*data, *modelConfig);\n",
    "plc.SetConfidenceLevel(0.95);\n",
    "LikelihoodInterval *plInt = plc.GetInterval();\n",
    "RooFit::MsgLevel msglevel = RooMsgService::instance().globalKillBelow();\n",
    "RooMsgService::instance().setGlobalKillBelow(RooFit::FATAL);\n",
    "plInt->LowerLimit(*wspace->var(\"s\")); // get ugly print out of the way. Fix.\n",
    "RooMsgService::instance().setGlobalKillBelow(msglevel);"
   ]
  },
  {
   "cell_type": "markdown",
   "metadata": {},
   "source": [
    "Use feldmacousins (takes ~20 min)"
   ]
  },
  {
   "cell_type": "code",
   "execution_count": 12,
   "metadata": {
    "collapsed": false
   },
   "outputs": [],
   "source": [
    "FeldmanCousins fc(*data, *modelConfig);\n",
    "fc.SetConfidenceLevel(0.95);"
   ]
  },
  {
   "cell_type": "markdown",
   "metadata": {},
   "source": [
    "Number counting: dataset always has 1 entry with n events observed"
   ]
  },
  {
   "cell_type": "code",
   "execution_count": 13,
   "metadata": {
    "collapsed": false
   },
   "outputs": [],
   "source": [
    "fc.FluctuateNumDataEntries(false);\n",
    "fc.UseAdaptiveSampling(true);\n",
    "fc.SetNBins(40);\n",
    "PointSetInterval *fcInt = NULL;\n",
    "if (doFeldmanCousins) {                          // takes 7 minutes\n",
    "   fcInt = (PointSetInterval *)fc.GetInterval(); // fix cast\n",
    "}"
   ]
  },
  {
   "cell_type": "markdown",
   "metadata": {},
   "source": [
    "Use bayesiancalculator (only 1-d parameter of interest, slow for this problem)"
   ]
  },
  {
   "cell_type": "code",
   "execution_count": 14,
   "metadata": {
    "collapsed": false
   },
   "outputs": [
    {
     "name": "stdout",
     "output_type": "stream",
     "text": [
      "Bayesian Calc. only supports on parameter of interest\n"
     ]
    }
   ],
   "source": [
    "BayesianCalculator bc(*data, *modelConfig);\n",
    "bc.SetConfidenceLevel(0.95);\n",
    "SimpleInterval *bInt = NULL;\n",
    "if (doBayesian && wspace->set(\"poi\")->getSize() == 1) {\n",
    "   bInt = bc.GetInterval();\n",
    "} else {\n",
    "   cout << \"Bayesian Calc. only supports on parameter of interest\" << endl;\n",
    "}"
   ]
  },
  {
   "cell_type": "markdown",
   "metadata": {},
   "source": [
    "Use mcmccalculator  (takes about 1 min)\n",
    " Want an efficient proposal function, so derive it from covariance\n",
    " matrix of fit"
   ]
  },
  {
   "cell_type": "code",
   "execution_count": 15,
   "metadata": {
    "collapsed": false
   },
   "outputs": [
    {
     "name": "stdout",
     "output_type": "stream",
     "text": [
      "[#1] INFO:Minization -- createNLL picked up cached consraints from workspace with 0 entries\n",
      "[#1] INFO:Minization -- RooMinimizer::optimizeConst: activating const optimization\n",
      "[#1] INFO:Minization --  The following expressions will be evaluated in cache-and-track mode: (on,off,onbar,offbar,mcCons)\n",
      " **********\n",
      " **    1 **SET PRINT           1\n",
      " **********\n",
      " **********\n",
      " **    2 **SET NOGRAD\n",
      " **********\n",
      " PARAMETER DEFINITIONS:\n",
      "    NO.   NAME         VALUE      STEP SIZE      LIMITS\n",
      "     1 b            1.17958e+02  1.38657e+01    0.00000e+00  3.00000e+02\n",
      "     2 bbar         1.00111e+03  3.15028e+01    5.00000e+02  2.00000e+03\n",
      "     3 rho          9.28979e-01  1.98664e-01    0.00000e+00  2.00000e+00\n",
      "     4 s            1.20959e+01  1.78108e+01    0.00000e+00  1.00000e+02\n",
      " MINUIT WARNING IN PARAMETR\n",
      " ============== VARIABLE4 BROUGHT BACK INSIDE LIMITS.\n",
      "     5 tau          4.89226e+00  1.71714e-01    3.00000e+00  7.00000e+00\n",
      " **********\n",
      " **    3 **SET ERR         0.5\n",
      " **********\n",
      " **********\n",
      " **    4 **SET PRINT           1\n",
      " **********\n",
      " **********\n",
      " **    5 **SET STR           1\n",
      " **********\n",
      " NOW USING STRATEGY  1: TRY TO BALANCE SPEED AGAINST RELIABILITY\n",
      " **********\n",
      " **    6 **MIGRAD        2500           1\n",
      " **********\n",
      " FIRST CALL TO USER FUNCTION AT NEW START POINT, WITH IFLAG=4.\n",
      " START MIGRAD MINIMIZATION.  STRATEGY  1.  CONVERGENCE WHEN EDM .LT. 1.00e-03\n",
      " FCN=18.2144 FROM MIGRAD    STATUS=INITIATE       20 CALLS          21 TOTAL\n",
      "                     EDM= unknown      STRATEGY= 1      NO ERROR MATRIX       \n",
      "  EXT PARAMETER               CURRENT GUESS       STEP         FIRST   \n",
      "  NO.   NAME      VALUE            ERROR          SIZE      DERIVATIVE \n",
      "   1  b            1.17958e+02   1.38657e+01   9.47846e-02  -1.99668e-02\n",
      "   2  bbar         1.00111e+03   3.15028e+01   4.45472e-02  -1.41126e-01\n",
      "   3  rho          9.28979e-01   1.98664e-01   2.00529e-01  -1.44934e-02\n",
      "   4  s            1.20959e+01   1.78108e+01   5.77645e-01  -2.24297e+00\n",
      "   5  tau          4.89226e+00   1.71714e-01   8.60889e-02  -8.62116e-02\n",
      "                               ERR DEF= 0.5\n",
      " MIGRAD MINIMIZATION HAS CONVERGED.\n",
      " MIGRAD WILL VERIFY CONVERGENCE AND ERROR MATRIX.\n",
      " COVARIANCE MATRIX CALCULATED SUCCESSFULLY\n",
      " FCN=16.2872 FROM MIGRAD    STATUS=CONVERGED     190 CALLS         191 TOTAL\n",
      "                     EDM=3.60952e-06    STRATEGY= 1      ERROR MATRIX ACCURATE \n",
      "  EXT PARAMETER                                   STEP         FIRST   \n",
      "  NO.   NAME      VALUE            ERROR          SIZE      DERIVATIVE \n",
      "   1  b            8.35905e+01   1.38674e+01   7.30675e-05   2.40054e-02\n",
      "   2  bbar         9.93029e+02   3.15029e+01   5.19045e-05  -3.02691e-02\n",
      "   3  rho          1.27859e+00   1.98756e-01   1.58308e-04   1.62267e-02\n",
      "   4  s            5.54105e+01   1.78121e+01   6.70504e-04   3.43694e-04\n",
      "   5  tau          4.94037e+00   1.71705e-01   9.49080e-05  -2.33170e-02\n",
      "                               ERR DEF= 0.5\n",
      " EXTERNAL ERROR MATRIX.    NDIM=  25    NPAR=  5    ERR DEF=0.5\n",
      "  1.930e+02  8.359e+01 -2.620e+00 -1.929e+02 -5.000e-01 \n",
      "  8.359e+01  9.931e+02  1.215e-04 -8.356e+01 -4.941e+00 \n",
      " -2.620e+00  1.215e-04  4.008e-02  2.619e+00 -7.270e-07 \n",
      " -1.929e+02 -8.356e+01  2.619e+00  3.319e+02  4.999e-01 \n",
      " -5.000e-01 -4.941e+00 -7.270e-07  4.999e-01  2.956e-02 \n",
      " PARAMETER  CORRELATION COEFFICIENTS  \n",
      "       NO.  GLOBAL      1      2      3      4      5\n",
      "        1  0.96819   1.000  0.191 -0.942 -0.762 -0.209\n",
      "        2  0.91196   0.191  1.000  0.000 -0.146 -0.912\n",
      "        3  0.96348  -0.942  0.000  1.000  0.718 -0.000\n",
      "        4  0.76233  -0.762 -0.146  0.718  1.000  0.160\n",
      "        5  0.92088  -0.209 -0.912 -0.000  0.160  1.000\n",
      " **********\n",
      " **    7 **SET ERR         0.5\n",
      " **********\n",
      " **********\n",
      " **    8 **SET PRINT           1\n",
      " **********\n",
      " **********\n",
      " **    9 **HESSE        2500\n",
      " **********\n",
      " COVARIANCE MATRIX CALCULATED SUCCESSFULLY\n",
      " FCN=16.2872 FROM HESSE     STATUS=OK             31 CALLS         222 TOTAL\n",
      "                     EDM=3.61105e-06    STRATEGY= 1      ERROR MATRIX ACCURATE \n",
      "  EXT PARAMETER                                INTERNAL      INTERNAL  \n",
      "  NO.   NAME      VALUE            ERROR       STEP SIZE       VALUE   \n",
      "   1  b            8.35905e+01   1.38730e+01   1.46135e-05  -4.58641e-01\n",
      "   2  bbar         9.93029e+02   3.15087e+01   1.03809e-05  -3.49712e-01\n",
      "   3  rho          1.27859e+00   1.98830e-01   3.16616e-05   2.82321e-01\n",
      "   4  s            5.54105e+01   1.78187e+01   1.34101e-04   1.08422e-01\n",
      "   5  tau          4.94037e+00   1.71739e-01   1.89816e-05  -2.98215e-02\n",
      "                               ERR DEF= 0.5\n",
      " EXTERNAL ERROR MATRIX.    NDIM=  25    NPAR=  5    ERR DEF=0.5\n",
      "  1.931e+02  8.364e+01 -2.622e+00 -1.931e+02 -5.003e-01 \n",
      "  8.364e+01  9.935e+02 -1.760e-04 -8.364e+01 -4.943e+00 \n",
      " -2.622e+00 -1.760e-04  4.011e-02  2.622e+00  1.053e-06 \n",
      " -1.931e+02 -8.364e+01  2.622e+00  3.321e+02  5.003e-01 \n",
      " -5.003e-01 -4.943e+00  1.053e-06  5.003e-01  2.957e-02 \n",
      " PARAMETER  CORRELATION COEFFICIENTS  \n",
      "       NO.  GLOBAL      1      2      3      4      5\n",
      "        1  0.96821   1.000  0.191 -0.942 -0.763 -0.209\n",
      "        2  0.91199   0.191  1.000 -0.000 -0.146 -0.912\n",
      "        3  0.96351  -0.942 -0.000  1.000  0.718  0.000\n",
      "        4  0.76255  -0.763 -0.146  0.718  1.000  0.160\n",
      "        5  0.92091  -0.209 -0.912  0.000  0.160  1.000\n",
      "[#1] INFO:Minization -- RooMinimizer::optimizeConst: deactivating const optimization\n"
     ]
    }
   ],
   "source": [
    "RooFitResult *fit = wspace->pdf(\"model\")->fitTo(*data, Save());\n",
    "ProposalHelper ph;\n",
    "ph.SetVariables((RooArgSet &)fit->floatParsFinal());\n",
    "ph.SetCovMatrix(fit->covarianceMatrix());\n",
    "ph.SetUpdateProposalParameters(kTRUE); // auto-create mean vars and add mappings\n",
    "ph.SetCacheSize(100);\n",
    "ProposalFunction *pf = ph.GetProposalFunction();\n",
    "\n",
    "MCMCCalculator mc(*data, *modelConfig);\n",
    "mc.SetConfidenceLevel(0.95);\n",
    "mc.SetProposalFunction(*pf);\n",
    "mc.SetNumBurnInSteps(500); // first N steps to be ignored as burn-in\n",
    "mc.SetNumIters(50000);\n",
    "mc.SetLeftSideTailFraction(0.5); // make a central interval\n",
    "MCMCInterval *mcInt = NULL;\n",
    "if (doMCMC)\n",
    "   mcInt = mc.GetInterval();"
   ]
  },
  {
   "cell_type": "markdown",
   "metadata": {},
   "source": [
    "----------------------------------\n",
    " Make some  plots"
   ]
  },
  {
   "cell_type": "code",
   "execution_count": 16,
   "metadata": {
    "collapsed": false
   },
   "outputs": [
    {
     "name": "stdout",
     "output_type": "stream",
     "text": [
      "[#1] INFO:Minization -- RooProfileLL::evaluate(nll_model_modelData_Profile[s]) Creating instance of MINUIT\n",
      "[#1] INFO:Minization -- RooProfileLL::evaluate(nll_model_modelData_Profile[s]) determining minimum likelihood for current configurations w.r.t all observable\n",
      "[#1] INFO:Minization -- RooProfileLL::evaluate(nll_model_modelData_Profile[s]) minimum found at (s=55.4077)\n",
      ".\n",
      "[#1] INFO:Minization -- RooProfileLL::evaluate(nll_model_modelData_Profile[s]) Creating instance of MINUIT\n",
      "[#1] INFO:Minization -- RooProfileLL::evaluate(nll_model_modelData_Profile[s]) determining minimum likelihood for current configurations w.r.t all observable\n",
      "[#0] ERROR:InputArguments -- RooArgSet::checkForDup: ERROR argument with name s is already in this set\n",
      "[#1] INFO:Minization -- RooProfileLL::evaluate(nll_model_modelData_Profile[s]) minimum found at (s=55.4105)\n",
      ".........................................................................................................................................................................................................."
     ]
    }
   ],
   "source": [
    "TCanvas *c1 = (TCanvas *)gROOT->Get(\"c1\");\n",
    "if (!c1)\n",
    "   c1 = new TCanvas(\"c1\");\n",
    "\n",
    "if (doBayesian && doMCMC) {\n",
    "   c1->Divide(3);\n",
    "   c1->cd(1);\n",
    "} else if (doBayesian || doMCMC) {\n",
    "   c1->Divide(2);\n",
    "   c1->cd(1);\n",
    "}\n",
    "\n",
    "LikelihoodIntervalPlot *lrplot = new LikelihoodIntervalPlot(plInt);\n",
    "lrplot->Draw();\n",
    "\n",
    "if (doBayesian && wspace->set(\"poi\")->getSize() == 1) {\n",
    "   c1->cd(2);\n",
    "   // the plot takes a long time and print lots of error\n",
    "   // using a scan it is better\n",
    "   bc.SetScanOfPosterior(20);\n",
    "   RooPlot *bplot = bc.GetPosteriorPlot();\n",
    "   bplot->Draw();\n",
    "}\n",
    "\n",
    "if (doMCMC) {\n",
    "   if (doBayesian && wspace->set(\"poi\")->getSize() == 1)\n",
    "      c1->cd(3);\n",
    "   else\n",
    "      c1->cd(2);\n",
    "   MCMCIntervalPlot mcPlot(*mcInt);\n",
    "   mcPlot.Draw();\n",
    "}"
   ]
  },
  {
   "cell_type": "markdown",
   "metadata": {},
   "source": [
    "----------------------------------\n",
    " querry intervals"
   ]
  },
  {
   "cell_type": "code",
   "execution_count": 17,
   "metadata": {
    "collapsed": false
   },
   "outputs": [
    {
     "name": "stdout",
     "output_type": "stream",
     "text": [
      "Profile Likelihood interval on s = [12.1902, 88.6871]\n"
     ]
    }
   ],
   "source": [
    "cout << \"Profile Likelihood interval on s = [\" << plInt->LowerLimit(*wspace->var(\"s\")) << \", \"\n",
    "     << plInt->UpperLimit(*wspace->var(\"s\")) << \"]\" << endl;"
   ]
  },
  {
   "cell_type": "markdown",
   "metadata": {},
   "source": [
    "Profile likelihood interval on s = [12.1902, 88.6871]"
   ]
  },
  {
   "cell_type": "code",
   "execution_count": 18,
   "metadata": {
    "collapsed": false
   },
   "outputs": [
    {
     "name": "stdout",
     "output_type": "stream",
     "text": [
      "Real time 0:00:02, CP time 0.670\n"
     ]
    }
   ],
   "source": [
    "if (doBayesian && wspace->set(\"poi\")->getSize() == 1) {\n",
    "   cout << \"Bayesian interval on s = [\" << bInt->LowerLimit() << \", \" << bInt->UpperLimit() << \"]\" << endl;\n",
    "}\n",
    "\n",
    "if (doFeldmanCousins) {\n",
    "   cout << \"Feldman Cousins interval on s = [\" << fcInt->LowerLimit(*wspace->var(\"s\")) << \", \"\n",
    "        << fcInt->UpperLimit(*wspace->var(\"s\")) << \"]\" << endl;\n",
    "   // Feldman Cousins interval on s = [18.75 +/- 2.45, 83.75 +/- 2.45]\n",
    "}\n",
    "\n",
    "if (doMCMC) {\n",
    "   cout << \"MCMC interval on s = [\" << mcInt->LowerLimit(*wspace->var(\"s\")) << \", \"\n",
    "        << mcInt->UpperLimit(*wspace->var(\"s\")) << \"]\" << endl;\n",
    "   // MCMC interval on s = [15.7628, 84.7266]\n",
    "}\n",
    "\n",
    "t.Print();"
   ]
  },
  {
   "cell_type": "markdown",
   "metadata": {},
   "source": [
    "Draw all canvases "
   ]
  },
  {
   "cell_type": "code",
   "execution_count": 19,
   "metadata": {
    "collapsed": false
   },
   "outputs": [
    {
     "data": {
      "image/png": "[encoded data removed]",
      "text/plain": [
       "<IPython.core.display.Image object>"
      ]
     },
     "metadata": {},
     "output_type": "display_data"
    }
   ],
   "source": [
    "gROOT->GetListOfCanvases()->Draw()"
   ]
  }
 ],
 "metadata": {
  "kernelspec": {
   "display_name": "ROOT C++",
   "language": "c++",
   "name": "root"
  },
  "language_info": {
   "codemirror_mode": "text/x-c++src",
   "file_extension": ".C",
   "mimetype": " text/x-c++src",
   "name": "c++"
  }
 },
 "nbformat": 4,
 "nbformat_minor": 2
}
