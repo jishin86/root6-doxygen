{
 "cells": [
  {
   "cell_type": "markdown",
   "metadata": {},
   "source": [
    "# Latex 4\n",
    "Draw the Greek letters as a table and save the result as GIF, PS, PDF\n",
    "and SVG files.\n",
    "Lowercase Greek letters are obtained by adding a # to the name of the letter.\n",
    "For an uppercase Greek letter, just capitalize the first letter of the\n",
    "command name. Some letter have two representations. The name of the\n",
    "second one (the \"variation\") starts with \"var\".\n",
    "\n",
    "### png output:\n",
    "\n",
    "### pdf output:\n",
    "\n",
    "### svg output:\n",
    "\n",
    "\n",
    "\n",
    "**Author:** Rene Brun  \n",
    "<i><small>This notebook tutorial was automatically generated with <a href= \"https://github.com/root-project/root/blob/master/documentation/doxygen/converttonotebook.py\">ROOTBOOK-izer</a> from the macro found in the ROOT repository  on Thursday, August 29, 2019 at 01:41 AM.</small></i>"
   ]
  },
  {
   "cell_type": "code",
   "execution_count": 1,
   "metadata": {
    "collapsed": false
   },
   "outputs": [],
   "source": [
    "TCanvas *c1 = new TCanvas(\"greek\",\"greek\",600,700);\n",
    "\n",
    "TLatex l;\n",
    "l.SetTextSize(0.03);"
   ]
  },
  {
   "cell_type": "markdown",
   "metadata": {},
   "source": [
    "Draw the columns titles"
   ]
  },
  {
   "cell_type": "code",
   "execution_count": 2,
   "metadata": {
    "collapsed": false
   },
   "outputs": [],
   "source": [
    "l.SetTextAlign(22);\n",
    "l.DrawLatex(0.165, 0.95, \"Lower case\");\n",
    "l.DrawLatex(0.495, 0.95, \"Upper case\");\n",
    "l.DrawLatex(0.825, 0.95, \"Variations\");"
   ]
  },
  {
   "cell_type": "markdown",
   "metadata": {},
   "source": [
    "Draw the lower case letters"
   ]
  },
  {
   "cell_type": "code",
   "execution_count": 3,
   "metadata": {
    "collapsed": false
   },
   "outputs": [],
   "source": [
    "l.SetTextAlign(12);\n",
    "float y, x1, x2;\n",
    "y = 0.90; x1 = 0.07; x2 = x1+0.2;\n",
    "              l.DrawLatex(x1, y, \"alpha : \")   ; l.DrawLatex(x2, y, \"#alpha\");\n",
    "y -= 0.0375 ; l.DrawLatex(x1, y, \"beta : \")    ; l.DrawLatex(x2, y, \"#beta\");\n",
    "y -= 0.0375 ; l.DrawLatex(x1, y, \"gamma : \")   ; l.DrawLatex(x2, y, \"#gamma\");\n",
    "y -= 0.0375 ; l.DrawLatex(x1, y, \"delta : \")   ; l.DrawLatex(x2, y, \"#delta\");\n",
    "y -= 0.0375 ; l.DrawLatex(x1, y, \"epsilon : \") ; l.DrawLatex(x2, y, \"#epsilon\");\n",
    "y -= 0.0375 ; l.DrawLatex(x1, y, \"zeta : \")    ; l.DrawLatex(x2, y, \"#zeta\");\n",
    "y -= 0.0375 ; l.DrawLatex(x1, y, \"eta : \")     ; l.DrawLatex(x2, y, \"#eta\");\n",
    "y -= 0.0375 ; l.DrawLatex(x1, y, \"theta : \")   ; l.DrawLatex(x2, y, \"#theta\");\n",
    "y -= 0.0375 ; l.DrawLatex(x1, y, \"iota : \")    ; l.DrawLatex(x2, y, \"#iota\");\n",
    "y -= 0.0375 ; l.DrawLatex(x1, y, \"kappa : \")   ; l.DrawLatex(x2, y, \"#kappa\");\n",
    "y -= 0.0375 ; l.DrawLatex(x1, y, \"lambda : \")  ; l.DrawLatex(x2, y, \"#lambda\");\n",
    "y -= 0.0375 ; l.DrawLatex(x1, y, \"mu : \")      ; l.DrawLatex(x2, y, \"#mu\");\n",
    "y -= 0.0375 ; l.DrawLatex(x1, y, \"nu : \")      ; l.DrawLatex(x2, y, \"#nu\");\n",
    "y -= 0.0375 ; l.DrawLatex(x1, y, \"xi : \")      ; l.DrawLatex(x2, y, \"#xi\");\n",
    "y -= 0.0375 ; l.DrawLatex(x1, y, \"omicron : \") ; l.DrawLatex(x2, y, \"#omicron\");\n",
    "y -= 0.0375 ; l.DrawLatex(x1, y, \"pi : \")      ; l.DrawLatex(x2, y, \"#pi\");\n",
    "y -= 0.0375 ; l.DrawLatex(x1, y, \"rho : \")     ; l.DrawLatex(x2, y, \"#rho\");\n",
    "y -= 0.0375 ; l.DrawLatex(x1, y, \"sigma : \")   ; l.DrawLatex(x2, y, \"#sigma\");\n",
    "y -= 0.0375 ; l.DrawLatex(x1, y, \"tau : \")     ; l.DrawLatex(x2, y, \"#tau\");\n",
    "y -= 0.0375 ; l.DrawLatex(x1, y, \"upsilon : \") ; l.DrawLatex(x2, y, \"#upsilon\");\n",
    "y -= 0.0375 ; l.DrawLatex(x1, y, \"phi : \")     ; l.DrawLatex(x2, y, \"#phi\");\n",
    "y -= 0.0375 ; l.DrawLatex(x1, y, \"chi : \")     ; l.DrawLatex(x2, y, \"#chi\");\n",
    "y -= 0.0375 ; l.DrawLatex(x1, y, \"psi : \")     ; l.DrawLatex(x2, y, \"#psi\");\n",
    "y -= 0.0375 ; l.DrawLatex(x1, y, \"omega : \")   ; l.DrawLatex(x2, y, \"#omega\");"
   ]
  },
  {
   "cell_type": "markdown",
   "metadata": {},
   "source": [
    "Draw the upper case letters"
   ]
  },
  {
   "cell_type": "code",
   "execution_count": 4,
   "metadata": {
    "collapsed": false
   },
   "outputs": [],
   "source": [
    "y = 0.90; x1 = 0.40; x2 = x1+0.2;\n",
    "              l.DrawLatex(x1, y, \"Alpha : \")   ; l.DrawLatex(x2, y, \"#Alpha\");\n",
    "y -= 0.0375 ; l.DrawLatex(x1, y, \"Beta : \")    ; l.DrawLatex(x2, y, \"#Beta\");\n",
    "y -= 0.0375 ; l.DrawLatex(x1, y, \"Gamma : \")   ; l.DrawLatex(x2, y, \"#Gamma\");\n",
    "y -= 0.0375 ; l.DrawLatex(x1, y, \"Delta : \")   ; l.DrawLatex(x2, y, \"#Delta\");\n",
    "y -= 0.0375 ; l.DrawLatex(x1, y, \"Epsilon : \") ; l.DrawLatex(x2, y, \"#Epsilon\");\n",
    "y -= 0.0375 ; l.DrawLatex(x1, y, \"Zeta : \")    ; l.DrawLatex(x2, y, \"#Zeta\");\n",
    "y -= 0.0375 ; l.DrawLatex(x1, y, \"Eta : \")     ; l.DrawLatex(x2, y, \"#Eta\");\n",
    "y -= 0.0375 ; l.DrawLatex(x1, y, \"Theta : \")   ; l.DrawLatex(x2, y, \"#Theta\");\n",
    "y -= 0.0375 ; l.DrawLatex(x1, y, \"Iota : \")    ; l.DrawLatex(x2, y, \"#Iota\");\n",
    "y -= 0.0375 ; l.DrawLatex(x1, y, \"Kappa : \")   ; l.DrawLatex(x2, y, \"#Kappa\");\n",
    "y -= 0.0375 ; l.DrawLatex(x1, y, \"Lambda : \")  ; l.DrawLatex(x2, y, \"#Lambda\");\n",
    "y -= 0.0375 ; l.DrawLatex(x1, y, \"Mu : \")      ; l.DrawLatex(x2, y, \"#Mu\");\n",
    "y -= 0.0375 ; l.DrawLatex(x1, y, \"Nu : \")      ; l.DrawLatex(x2, y, \"#Nu\");\n",
    "y -= 0.0375 ; l.DrawLatex(x1, y, \"Xi : \")      ; l.DrawLatex(x2, y, \"#Xi\");\n",
    "y -= 0.0375 ; l.DrawLatex(x1, y, \"Omicron : \") ; l.DrawLatex(x2, y, \"#Omicron\");\n",
    "y -= 0.0375 ; l.DrawLatex(x1, y, \"Pi : \")      ; l.DrawLatex(x2, y, \"#Pi\");\n",
    "y -= 0.0375 ; l.DrawLatex(x1, y, \"Rho : \")     ; l.DrawLatex(x2, y, \"#Rho\");\n",
    "y -= 0.0375 ; l.DrawLatex(x1, y, \"Sigma : \")   ; l.DrawLatex(x2, y, \"#Sigma\");\n",
    "y -= 0.0375 ; l.DrawLatex(x1, y, \"Tau : \")     ; l.DrawLatex(x2, y, \"#Tau\");\n",
    "y -= 0.0375 ; l.DrawLatex(x1, y, \"Upsilon : \") ; l.DrawLatex(x2, y, \"#Upsilon\");\n",
    "y -= 0.0375 ; l.DrawLatex(x1, y, \"Phi : \")     ; l.DrawLatex(x2, y, \"#Phi\");\n",
    "y -= 0.0375 ; l.DrawLatex(x1, y, \"Chi : \")     ; l.DrawLatex(x2, y, \"#Chi\");\n",
    "y -= 0.0375 ; l.DrawLatex(x1, y, \"Psi : \")     ; l.DrawLatex(x2, y, \"#Psi\");\n",
    "y -= 0.0375 ; l.DrawLatex(x1, y, \"Omega : \")   ; l.DrawLatex(x2, y, \"#Omega\");"
   ]
  },
  {
   "cell_type": "markdown",
   "metadata": {},
   "source": [
    "Draw the variations"
   ]
  },
  {
   "cell_type": "code",
   "execution_count": 5,
   "metadata": {
    "collapsed": false
   },
   "outputs": [],
   "source": [
    "x1 = 0.73; x2 = x1+0.2;\n",
    "y = 0.7500 ; l.DrawLatex(x1, y, \"varepsilon : \") ; l.DrawLatex(x2, y, \"#varepsilon\");\n",
    "y = 0.6375 ; l.DrawLatex(x1, y, \"vartheta : \")   ; l.DrawLatex(x2, y, \"#vartheta\");\n",
    "y = 0.2625 ; l.DrawLatex(x1, y, \"varsigma : \")   ; l.DrawLatex(x2, y, \"#varsigma\");\n",
    "y = 0.1875 ; l.DrawLatex(x1, y, \"varUpsilon : \") ; l.DrawLatex(x2, y, \"#varUpsilon\");\n",
    "y = 0.1500 ; l.DrawLatex(x1, y, \"varphi : \")     ; l.DrawLatex(x2, y, \"#varphi\");\n",
    "y = 0.0375 ; l.DrawLatex(x1, y, \"varomega : \")   ; l.DrawLatex(x2, y, \"#varomega\");"
   ]
  },
  {
   "cell_type": "markdown",
   "metadata": {},
   "source": [
    "Save the picture in various formats"
   ]
  },
  {
   "cell_type": "code",
   "execution_count": 6,
   "metadata": {
    "collapsed": false
   },
   "outputs": [
    {
     "name": "stderr",
     "output_type": "stream",
     "text": [
      "Info in <TCanvas::Print>: ps file greek.ps has been created\n",
      "Info in <TCanvas::Print>: gif file greek.gif has been created\n",
      "Info in <TCanvas::Print>: pdf file greek.pdf has been created\n",
      "Info in <TCanvas::Print>: SVG file greek.svg has been created\n"
     ]
    }
   ],
   "source": [
    "c1->Print(\"greek.ps\");\n",
    "c1->Print(\"greek.gif\");\n",
    "c1->Print(\"greek.pdf\");\n",
    "c1->Print(\"greek.svg\");"
   ]
  },
  {
   "cell_type": "markdown",
   "metadata": {},
   "source": [
    "Draw all canvases "
   ]
  },
  {
   "cell_type": "code",
   "execution_count": 7,
   "metadata": {
    "collapsed": false
   },
   "outputs": [
    {
     "data": {
      "image/png": "[encoded data removed]",
      "text/plain": [
       "<IPython.core.display.Image object>"
      ]
     },
     "metadata": {},
     "output_type": "display_data"
    }
   ],
   "source": [
    "gROOT->GetListOfCanvases()->Draw()"
   ]
  }
 ],
 "metadata": {
  "kernelspec": {
   "display_name": "ROOT C++",
   "language": "c++",
   "name": "root"
  },
  "language_info": {
   "codemirror_mode": "text/x-c++src",
   "file_extension": ".C",
   "mimetype": " text/x-c++src",
   "name": "c++"
  }
 },
 "nbformat": 4,
 "nbformat_minor": 2
}
