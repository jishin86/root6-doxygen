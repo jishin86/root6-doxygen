{
 "cells": [
  {
   "cell_type": "markdown",
   "metadata": {},
   "source": [
    "# Df 0 1 7_Vec Ops H E P\n",
    "This tutorial shows how VecOps can be used to slim down the programming\n",
    "model typically adopted in HEP for analysis.\n",
    "\n",
    "\n",
    "\n",
    "\n",
    "**Author:** Danilo Piparo, Andre Vieira Silva  \n",
    "<i><small>This notebook tutorial was automatically generated with <a href= \"https://github.com/root-project/root/blob/master/documentation/doxygen/converttonotebook.py\">ROOTBOOK-izer</a> from the macro found in the ROOT repository  on Thursday, August 29, 2019 at 01:09 AM.</small></i>"
   ]
  },
  {
   "cell_type": "code",
   "execution_count": 1,
   "metadata": {
    "collapsed": false
   },
   "outputs": [
    {
     "name": "stdout",
     "output_type": "stream",
     "text": [
      "Welcome to JupyROOT 6.18/03\n"
     ]
    }
   ],
   "source": [
    "import ROOT\n",
    "\n",
    "filename = ROOT.gROOT.GetTutorialDir().Data() + \"/dataframe/df017_vecOpsHEP.root\"\n",
    "treename = \"myDataset\"\n",
    "\n",
    "def WithPyROOT(filename):\n",
    "    from math import sqrt\n",
    "    f = ROOT.TFile(filename)\n",
    "    h = ROOT.TH1F(\"pt\", \"pt\", 16, 0, 4)\n",
    "    for event in f.myDataset:\n",
    "        for E, px, py in zip(event.E, event.px, event.py):\n",
    "            if (E > 100):\n",
    "               h.Fill(sqrt(px*px + py*py))\n",
    "    h.DrawCopy()\n",
    "\n",
    "def WithRDataFrameVecOpsJit(treename, filename):\n",
    "    f = ROOT.ROOT.RDataFrame(treename, filename)\n",
    "    h = f.Define(\"good_pt\", \"sqrt(px*px + py*py)[E>100]\")\\\n",
    "         .Histo1D((\"pt\", \"pt\", 16, 0, 4), \"good_pt\")\n",
    "    h.DrawCopy()"
   ]
  },
  {
   "cell_type": "markdown",
   "metadata": {},
   "source": [
    " We plot twice the same quantity, the key is to look into the implementation\n",
    " of the functions above"
   ]
  },
  {
   "cell_type": "code",
   "execution_count": 2,
   "metadata": {
    "collapsed": false
   },
   "outputs": [],
   "source": [
    "c = ROOT.TCanvas()\n",
    "c.Divide(2,1)\n",
    "c.cd(1)\n",
    "WithPyROOT(filename)\n",
    "c.cd(2)\n",
    "WithRDataFrameVecOpsJit(treename, filename)"
   ]
  },
  {
   "cell_type": "markdown",
   "metadata": {},
   "source": [
    "Draw all canvases "
   ]
  },
  {
   "cell_type": "code",
   "execution_count": 3,
   "metadata": {
    "collapsed": false
   },
   "outputs": [
    {
     "data": {
      "image/png": "[encoded data removed]",
      "text/plain": [
       "<IPython.core.display.Image object>"
      ]
     },
     "metadata": {},
     "output_type": "display_data"
    }
   ],
   "source": [
    "from ROOT import gROOT \n",
    "gROOT.GetListOfCanvases().Draw()"
   ]
  }
 ],
 "metadata": {
  "kernelspec": {
   "display_name": "Python 2",
   "language": "python",
   "name": "python2"
  },
  "language_info": {
   "codemirror_mode": {
    "name": "ipython",
    "version": 2
   },
   "file_extension": ".py",
   "mimetype": "text/x-python",
   "name": "python",
   "nbconvert_exporter": "python",
   "pygments_lexer": "ipython2",
   "version": "2.7.10"
  }
 },
 "nbformat": 4,
 "nbformat_minor": 2
}
