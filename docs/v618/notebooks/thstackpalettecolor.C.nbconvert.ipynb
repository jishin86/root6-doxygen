{
 "cells": [
  {
   "cell_type": "markdown",
   "metadata": {},
   "source": [
    "# Thstackpalettecolor\n",
    "Palette coloring for histograms' stack is activated thanks to the options `PFC`\n",
    "(Palette Fill Color), `PLC` (Palette Line Color) and `AMC` (Palette Marker Color).\n",
    "When one of these options is given to `THStack::Draw` the histograms  in the\n",
    "`THStack` get their color from the current color palette defined by\n",
    "`gStyle->SetPalette(...)`. The color is determined according to the number of\n",
    "histograms.\n",
    "\n",
    "In this example four histograms are displayed with palette coloring.\n",
    "The color of each histogram is picked inside the palette `kOcean`.\n",
    "\n",
    "\n",
    "\n",
    "\n",
    "**Author:** Olivier Couet  \n",
    "<i><small>This notebook tutorial was automatically generated with <a href= \"https://github.com/root-project/root/blob/master/documentation/doxygen/converttonotebook.py\">ROOTBOOK-izer</a> from the macro found in the ROOT repository  on Thursday, August 29, 2019 at 01:59 AM.</small></i>"
   ]
  },
  {
   "cell_type": "code",
   "execution_count": 1,
   "metadata": {
    "collapsed": false
   },
   "outputs": [],
   "source": [
    "auto hs = new THStack(\"hs\",\"Stacked 1D histograms colored using kOcean palette\");\n",
    "\n",
    "gStyle->SetPalette(kOcean);"
   ]
  },
  {
   "cell_type": "markdown",
   "metadata": {},
   "source": [
    "Create three 1-d histograms  and add them in the stack"
   ]
  },
  {
   "cell_type": "code",
   "execution_count": 2,
   "metadata": {
    "collapsed": false
   },
   "outputs": [],
   "source": [
    "auto h1st = new TH1F(\"h1st\",\"test hstack\",100,-4,4);\n",
    "h1st->FillRandom(\"gaus\",20000);\n",
    "hs->Add(h1st);\n",
    "\n",
    "auto h2st = new TH1F(\"h2st\",\"test hstack\",100,-4,4);\n",
    "h2st->FillRandom(\"gaus\",15000);\n",
    "hs->Add(h2st);\n",
    "\n",
    "auto h3st = new TH1F(\"h3st\",\"test hstack\",100,-4,4);\n",
    "h3st->FillRandom(\"gaus\",10000);\n",
    "hs->Add(h3st);"
   ]
  },
  {
   "cell_type": "markdown",
   "metadata": {},
   "source": [
    "Draw the stack"
   ]
  },
  {
   "cell_type": "code",
   "execution_count": 3,
   "metadata": {
    "collapsed": false
   },
   "outputs": [
    {
     "name": "stderr",
     "output_type": "stream",
     "text": [
      "Info in <TCanvas::MakeDefCanvas>:  created default TCanvas with name c1\n"
     ]
    }
   ],
   "source": [
    "hs->Draw(\"pfc nostack\");"
   ]
  },
  {
   "cell_type": "markdown",
   "metadata": {},
   "source": [
    "Draw all canvases "
   ]
  },
  {
   "cell_type": "code",
   "execution_count": 4,
   "metadata": {
    "collapsed": false
   },
   "outputs": [
    {
     "data": {
      "image/png": "[encoded data removed]",
      "text/plain": [
       "<IPython.core.display.Image object>"
      ]
     },
     "metadata": {},
     "output_type": "display_data"
    }
   ],
   "source": [
    "gROOT->GetListOfCanvases()->Draw()"
   ]
  }
 ],
 "metadata": {
  "kernelspec": {
   "display_name": "ROOT C++",
   "language": "c++",
   "name": "root"
  },
  "language_info": {
   "codemirror_mode": "text/x-c++src",
   "file_extension": ".C",
   "mimetype": " text/x-c++src",
   "name": "c++"
  }
 },
 "nbformat": 4,
 "nbformat_minor": 2
}
