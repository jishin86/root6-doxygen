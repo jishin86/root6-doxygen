{
 "cells": [
  {
   "cell_type": "markdown",
   "metadata": {},
   "source": [
    "# Rf 7 0 5_Linearmorph\n",
    "Speecial p.d.f.'s: linear interpolation between p.d.f shapes using the 'Alex Read' algorithm\n",
    "\n",
    "\n",
    "\n",
    "**Author:** 07/2008 - Wouter Verkerke  \n",
    "<i><small>This notebook tutorial was automatically generated with <a href= \"https://github.com/root-project/root/blob/master/documentation/doxygen/converttonotebook.py\">ROOTBOOK-izer</a> from the macro found in the ROOT repository  on Thursday, August 29, 2019 at 03:02 AM.</small></i>"
   ]
  },
  {
   "cell_type": "code",
   "execution_count": 1,
   "metadata": {
    "collapsed": false
   },
   "outputs": [],
   "source": [
    "%%cpp -d\n",
    "#include \"RooRealVar.h\"\n",
    "#include \"RooDataSet.h\"\n",
    "#include \"RooGaussian.h\"\n",
    "#include \"RooConstVar.h\"\n",
    "#include \"RooPolynomial.h\"\n",
    "#include \"RooIntegralMorph.h\"\n",
    "#include \"RooNLLVar.h\"\n",
    "#include \"TCanvas.h\"\n",
    "#include \"TAxis.h\"\n",
    "#include \"RooPlot.h\"\n",
    "#include \"TH1.h\""
   ]
  },
  {
   "cell_type": "code",
   "execution_count": 2,
   "metadata": {
    "collapsed": false
   },
   "outputs": [],
   "source": [
    "%%cpp -d\n",
    "// This is a workaround to make sure the namespace is used inside functions\n",
    "using namespace RooFit;"
   ]
  },
  {
   "cell_type": "markdown",
   "metadata": {},
   "source": [
    "Create end point pdf shapes\n",
    " ------------------------------------------------------"
   ]
  },
  {
   "cell_type": "markdown",
   "metadata": {},
   "source": [
    "Observable"
   ]
  },
  {
   "cell_type": "code",
   "execution_count": 3,
   "metadata": {
    "collapsed": false
   },
   "outputs": [
    {
     "name": "stdout",
     "output_type": "stream",
     "text": [
      "\n",
      "\u001b[1mRooFit v3.60 -- Developed by Wouter Verkerke and David Kirkby\u001b[0m \n",
      "                Copyright (C) 2000-2013 NIKHEF, University of California & Stanford University\n",
      "                All rights reserved, please read http://roofit.sourceforge.net/license.txt\n",
      "\n"
     ]
    }
   ],
   "source": [
    "RooRealVar x(\"x\", \"x\", -20, 20);"
   ]
  },
  {
   "cell_type": "markdown",
   "metadata": {},
   "source": [
    "Lower end point shape: a gaussian"
   ]
  },
  {
   "cell_type": "code",
   "execution_count": 4,
   "metadata": {
    "collapsed": false
   },
   "outputs": [],
   "source": [
    "RooRealVar g1mean(\"g1mean\", \"g1mean\", -10);\n",
    "RooGaussian g1(\"g1\", \"g1\", x, g1mean, RooConst(2));"
   ]
  },
  {
   "cell_type": "markdown",
   "metadata": {},
   "source": [
    "Upper end point shape: a polynomial"
   ]
  },
  {
   "cell_type": "code",
   "execution_count": 5,
   "metadata": {
    "collapsed": false
   },
   "outputs": [],
   "source": [
    "RooPolynomial g2(\"g2\", \"g2\", x, RooArgSet(RooConst(-0.03), RooConst(-0.001)));"
   ]
  },
  {
   "cell_type": "markdown",
   "metadata": {},
   "source": [
    "Create interpolating pdf\n",
    " -----------------------------------------------"
   ]
  },
  {
   "cell_type": "markdown",
   "metadata": {},
   "source": [
    "Create interpolation variable"
   ]
  },
  {
   "cell_type": "code",
   "execution_count": 6,
   "metadata": {
    "collapsed": false
   },
   "outputs": [],
   "source": [
    "RooRealVar alpha(\"alpha\", \"alpha\", 0, 1.0);"
   ]
  },
  {
   "cell_type": "markdown",
   "metadata": {},
   "source": [
    "Specify sampling density on observable and interpolation variable"
   ]
  },
  {
   "cell_type": "code",
   "execution_count": 7,
   "metadata": {
    "collapsed": false
   },
   "outputs": [],
   "source": [
    "x.setBins(1000, \"cache\");\n",
    "alpha.setBins(50, \"cache\");"
   ]
  },
  {
   "cell_type": "markdown",
   "metadata": {},
   "source": [
    "Construct interpolating pdf in (x,a) represent g1(x) at a=a_min\n",
    " and g2(x) at a=a_max"
   ]
  },
  {
   "cell_type": "code",
   "execution_count": 8,
   "metadata": {
    "collapsed": false
   },
   "outputs": [],
   "source": [
    "RooIntegralMorph lmorph(\"lmorph\", \"lmorph\", g1, g2, x, alpha);"
   ]
  },
  {
   "cell_type": "markdown",
   "metadata": {},
   "source": [
    "Plot interpolating pdf at various alpha\n",
    " -----------------------------------------------------------------------------"
   ]
  },
  {
   "cell_type": "markdown",
   "metadata": {},
   "source": [
    "Show end points as blue curves"
   ]
  },
  {
   "cell_type": "code",
   "execution_count": 9,
   "metadata": {
    "collapsed": false
   },
   "outputs": [],
   "source": [
    "RooPlot *frame1 = x.frame();\n",
    "g1.plotOn(frame1);\n",
    "g2.plotOn(frame1);"
   ]
  },
  {
   "cell_type": "markdown",
   "metadata": {},
   "source": [
    "Show interpolated shapes in red"
   ]
  },
  {
   "cell_type": "code",
   "execution_count": 10,
   "metadata": {
    "collapsed": false
   },
   "outputs": [
    {
     "name": "stdout",
     "output_type": "stream",
     "text": [
      "[#1] INFO:Caching -- RooAbsCachedPdf::getCache(lmorph) creating new cache 0x7fd95c6715b0 with pdf g1_MORPH_g2_CACHE_Obs[x] for nset (x) with code 0\n",
      "[#1] INFO:Caching -- RooAbsCachedPdf::getCache(lmorph) creating new cache 0x7fd95c6715b0 with pdf g1_MORPH_g2_CACHE_Obs[x] for nset (x) with code 0\n",
      "[#1] INFO:Caching -- RooAbsCachedPdf::getCache(lmorph) creating new cache 0x7fd95c6715b0 with pdf g1_MORPH_g2_CACHE_Obs[x] for nset (x) with code 0\n",
      "[#1] INFO:Caching -- RooAbsCachedPdf::getCache(lmorph) creating new cache 0x7fd95c6715b0 with pdf g1_MORPH_g2_CACHE_Obs[x] for nset (x) with code 0\n",
      "[#1] INFO:Caching -- RooAbsCachedPdf::getCache(lmorph) creating new cache 0x7fd95c6715b0 with pdf g1_MORPH_g2_CACHE_Obs[x] for nset (x) with code 0\n",
      "[#1] INFO:Caching -- RooAbsCachedPdf::getCache(lmorph) creating new cache 0x7fd95c6715b0 with pdf g1_MORPH_g2_CACHE_Obs[x] for nset (x) with code 0\n",
      "[#1] INFO:Caching -- RooAbsCachedPdf::getCache(lmorph) creating new cache 0x7fd95c6715b0 with pdf g1_MORPH_g2_CACHE_Obs[x] for nset (x) with code 0\n",
      "[#1] INFO:Caching -- RooAbsCachedPdf::getCache(lmorph) creating new cache 0x7fd95c6715b0 with pdf g1_MORPH_g2_CACHE_Obs[x] for nset (x) with code 0\n"
     ]
    }
   ],
   "source": [
    "alpha.setVal(0.125);\n",
    "lmorph.plotOn(frame1, LineColor(kRed));\n",
    "alpha.setVal(0.25);\n",
    "lmorph.plotOn(frame1, LineColor(kRed));\n",
    "alpha.setVal(0.375);\n",
    "lmorph.plotOn(frame1, LineColor(kRed));\n",
    "alpha.setVal(0.50);\n",
    "lmorph.plotOn(frame1, LineColor(kRed));\n",
    "alpha.setVal(0.625);\n",
    "lmorph.plotOn(frame1, LineColor(kRed));\n",
    "alpha.setVal(0.75);\n",
    "lmorph.plotOn(frame1, LineColor(kRed));\n",
    "alpha.setVal(0.875);\n",
    "lmorph.plotOn(frame1, LineColor(kRed));\n",
    "alpha.setVal(0.95);\n",
    "lmorph.plotOn(frame1, LineColor(kRed));"
   ]
  },
  {
   "cell_type": "markdown",
   "metadata": {},
   "source": [
    "Show 2d distribution of pdf(x,alpha)\n",
    " -----------------------------------------------------------------------"
   ]
  },
  {
   "cell_type": "markdown",
   "metadata": {},
   "source": [
    "Create 2d histogram"
   ]
  },
  {
   "cell_type": "code",
   "execution_count": 11,
   "metadata": {
    "collapsed": false
   },
   "outputs": [
    {
     "name": "stdout",
     "output_type": "stream",
     "text": [
      "[#1] INFO:Caching -- RooAbsCachedPdf::getCache(lmorph) creating new cache 0x7fd95c572210 with pdf g1_MORPH_g2_CACHE_Obs[x] for nset (x,alpha) with code 0 from preexisting content.\n"
     ]
    }
   ],
   "source": [
    "TH1 *hh = lmorph.createHistogram(\"hh\", x, Binning(40), YVar(alpha, Binning(40)));\n",
    "hh->SetLineColor(kBlue);"
   ]
  },
  {
   "cell_type": "markdown",
   "metadata": {},
   "source": [
    "Fit pdf to dataset with alpha=0.8\n",
    " -----------------------------------------------------------------"
   ]
  },
  {
   "cell_type": "markdown",
   "metadata": {},
   "source": [
    "Generate a toy dataset at alpha = 0.8"
   ]
  },
  {
   "cell_type": "code",
   "execution_count": 12,
   "metadata": {
    "collapsed": false
   },
   "outputs": [
    {
     "name": "stdout",
     "output_type": "stream",
     "text": [
      "[#1] INFO:Caching -- RooAbsCachedPdf::getCache(lmorph) creating new cache 0x7fd95c5689c0 with pdf g1_MORPH_g2_CACHE_Obs[x] for nset (x) with code 0\n",
      "[#1] INFO:Caching -- RooAbsCachedPdf::getCache(lmorph) creating new cache 0x7fd95c65ee30 with pdf g1_MORPH_g2_CACHE_Obs[x] for nset (x) with code 0 from preexisting content.\n"
     ]
    }
   ],
   "source": [
    "alpha = 0.8;\n",
    "RooDataSet *data = lmorph.generate(x, 1000);"
   ]
  },
  {
   "cell_type": "markdown",
   "metadata": {},
   "source": [
    "Fit pdf to toy data"
   ]
  },
  {
   "cell_type": "code",
   "execution_count": 13,
   "metadata": {
    "collapsed": false
   },
   "outputs": [
    {
     "name": "stdout",
     "output_type": "stream",
     "text": [
      "[#0] PROGRESS:Eval -- RooIntegralMorph::fillCacheObject(lmorph) filling multi-dimensional cache..................................................\n",
      "\n",
      "[#1] INFO:Caching -- RooAbsCachedPdf::getCache(lmorph) creating new cache 0x7fd95c703690 with pdf g1_MORPH_g2_CACHE_Obs[alpha,x] for nset (x) with code 0\n",
      "[#1] INFO:Minization -- RooMinimizer::optimizeConst: activating const optimization\n",
      "[#1] INFO:Minization --  The following expressions have been identified as constant and will be precalculated and cached: (g1,g2)\n",
      "[#0] WARNING:Minization -- RooMinimizerFcn::synchronize: WARNING: no initial error estimate available for alpha: using 0.1\n",
      " **********\n",
      " **    1 **SET PRINT           1\n",
      " **********\n",
      " **********\n",
      " **    2 **SET NOGRAD\n",
      " **********\n",
      " PARAMETER DEFINITIONS:\n",
      "    NO.   NAME         VALUE      STEP SIZE      LIMITS\n",
      "     1 alpha        8.00000e-01  1.00000e-01    0.00000e+00  1.00000e+00\n",
      " **********\n",
      " **    3 **SET ERR         0.5\n",
      " **********\n",
      " **********\n",
      " **    4 **SET PRINT           1\n",
      " **********\n",
      " **********\n",
      " **    5 **SET STR           1\n",
      " **********\n",
      " NOW USING STRATEGY  1: TRY TO BALANCE SPEED AGAINST RELIABILITY\n",
      " **********\n",
      " **    6 **MIGRAD         500           1\n",
      " **********\n",
      " FIRST CALL TO USER FUNCTION AT NEW START POINT, WITH IFLAG=4.\n",
      "\n",
      "prevFCN = 2639.71348   START MIGRAD MINIMIZATION.  STRATEGY  1.  CONVERGENCE WHEN EDM .LT. 1.00e-03\n",
      "alpha=0.8026, \n",
      "prevFCN = 2639.370838  alpha=0.7974, \n",
      "prevFCN = 2640.13986  alpha=0.8003, \n",
      "prevFCN = 2639.666981  alpha=0.7997, \n",
      "prevFCN = 2639.761239   FCN=2639.71 FROM MIGRAD    STATUS=INITIATE        4 CALLS           5 TOTAL\n",
      "                     EDM= unknown      STRATEGY= 1      NO ERROR MATRIX       \n",
      "  EXT PARAMETER               CURRENT GUESS       STEP         FIRST   \n",
      "  NO.   NAME      VALUE            ERROR          SIZE      DERIVATIVE \n",
      "   1  alpha        8.00000e-01   1.00000e-01   2.57889e-01  -5.94047e+01\n",
      "                               ERR DEF= 0.5\n",
      "alpha=0.8117, \n",
      "prevFCN = 2638.871739  alpha=0.812, \n",
      "prevFCN = 2638.883686  alpha=0.8114, \n",
      "prevFCN = 2638.861418  alpha=0.8095, \n",
      "prevFCN = 2638.85007  alpha=0.8102, \n",
      "prevFCN = 2638.83663  alpha=0.8104, \n",
      "prevFCN = 2638.838462  alpha=0.8105, \n",
      "prevFCN = 2638.840038  alpha=0.8099, \n",
      "prevFCN = 2638.836678  alpha=0.8104, \n",
      "prevFCN = 2638.838537  alpha=0.81, \n",
      "prevFCN = 2638.835179  alpha=0.8105, \n",
      "prevFCN = 2638.840049  alpha=0.8099, \n",
      "prevFCN = 2638.836701  alpha=0.8099, \n",
      "prevFCN = 2638.837868  alpha=0.8101, \n",
      "prevFCN = 2638.835736  alpha=0.8101, \n",
      "prevFCN = 2638.835493  alpha=0.8096, \n",
      "prevFCN = 2638.847089  alpha=0.8098, \n",
      "prevFCN = 2638.839436  alpha=0.81, \n",
      "prevFCN = 2638.835865  alpha=0.81, \n",
      "prevFCN = 2638.835182  alpha=0.81, \n",
      "prevFCN = 2638.835414  alpha=0.81, \n",
      "prevFCN = 2638.835066  alpha=0.8102, \n",
      "prevFCN = 2638.83647  alpha=0.8099, \n",
      "prevFCN = 2638.838806  alpha=0.8101, \n",
      "prevFCN = 2638.835704  alpha=0.8099, \n",
      "prevFCN = 2638.836348  alpha=0.8101, \n",
      "prevFCN = 2638.835616  alpha=0.81, \n",
      "prevFCN = 2638.835153  alpha=0.81, \n",
      "prevFCN = 2638.835081  alpha=0.81, \n",
      "prevFCN = 2638.835068  alpha=0.81, \n",
      "prevFCN = 2638.835066   MIGRAD FAILS TO FIND IMPROVEMENT\n",
      " MIGRAD MINIMIZATION HAS CONVERGED.\n",
      " MIGRAD WILL VERIFY CONVERGENCE AND ERROR MATRIX.\n",
      "alpha=0.81, \n",
      "prevFCN = 2638.835066  alpha=0.8101, \n",
      "prevFCN = 2638.835704  alpha=0.8099, \n",
      "prevFCN = 2638.836348  alpha=0.81, \n",
      "prevFCN = 2638.835184  alpha=0.81, \n",
      "prevFCN = 2638.834951  alpha=0.81, \n",
      "prevFCN = 2638.835089  alpha=0.81, \n",
      "prevFCN = 2638.835043   COVARIANCE MATRIX CALCULATED SUCCESSFULLY\n",
      " FCN=2638.84 FROM MIGRAD    STATUS=CONVERGED      41 CALLS          42 TOTAL\n",
      "                     EDM=0.00017663    STRATEGY= 1      ERROR MATRIX ACCURATE \n",
      "  EXT PARAMETER                                   STEP         FIRST   \n",
      "  NO.   NAME      VALUE            ERROR          SIZE      DERIVATIVE \n",
      "   1  alpha        8.10030e-01   1.85998e-03   2.07772e-04   2.80295e+00\n",
      "                               ERR DEF= 0.5\n",
      " EXTERNAL ERROR MATRIX.    NDIM=  25    NPAR=  1    ERR DEF=0.5\n",
      "  3.460e-06 \n",
      "alpha=0.81,  **********\n",
      " **    7 **SET ERR         0.5\n",
      " **********\n",
      " **********\n",
      " **    8 **SET PRINT           1\n",
      " **********\n",
      " **********\n",
      " **    9 **HESSE         500\n",
      " **********\n",
      "\n",
      "prevFCN = 2638.835066  alpha=0.81, \n",
      "prevFCN = 2638.835089  alpha=0.81, \n",
      "prevFCN = 2638.835043  alpha=0.8104, \n",
      "prevFCN = 2638.838366  alpha=0.8097, \n",
      "prevFCN = 2638.844002  alpha=0.8134, \n",
      "prevFCN = 2638.957145  alpha=0.8066, \n",
      "prevFCN = 2638.998648  alpha=0.8172, \n",
      "prevFCN = 2639.32881  alpha=0.8027, \n",
      "prevFCN = 2639.353813  alpha=0.8102, \n",
      "prevFCN = 2638.83663  alpha=0.8098, \n",
      "prevFCN = 2638.839285  alpha=0.8101, \n",
      "prevFCN = 2638.835335  alpha=0.81, \n",
      "prevFCN = 2638.835043   COVARIANCE MATRIX CALCULATED SUCCESSFULLY\n",
      " FCN=2638.84 FROM HESSE     STATUS=OK             13 CALLS          55 TOTAL\n",
      "                     EDM=0.0028007    STRATEGY= 1      ERROR MATRIX ACCURATE \n",
      "  EXT PARAMETER                                INTERNAL      INTERNAL  \n",
      "  NO.   NAME      VALUE            ERROR       STEP SIZE       VALUE   \n",
      "   1  alpha        8.10030e-01   7.20341e-03   1.84784e-02   6.68818e-01\n",
      "                               ERR DEF= 0.5\n",
      " EXTERNAL ERROR MATRIX.    NDIM=  25    NPAR=  1    ERR DEF=0.5\n",
      "  5.190e-05 \n",
      "alpha=0.81, [#1] INFO:Minization -- RooMinimizer::optimizeConst: deactivating const optimization\n"
     ]
    }
   ],
   "source": [
    "lmorph.setCacheAlpha(kTRUE);\n",
    "lmorph.fitTo(*data, Verbose(kTRUE));"
   ]
  },
  {
   "cell_type": "markdown",
   "metadata": {},
   "source": [
    "Plot fitted pdf and data overlaid"
   ]
  },
  {
   "cell_type": "code",
   "execution_count": 14,
   "metadata": {
    "collapsed": false
   },
   "outputs": [
    {
     "name": "stdout",
     "output_type": "stream",
     "text": [
      "[#1] INFO:Caching -- RooAbsCachedPdf::getCache(lmorph) creating new cache 0x7fd95c7ff260 with pdf g1_MORPH_g2_CACHE_Obs[alpha,x] for nset (x) with code 0 from preexisting content.\n"
     ]
    }
   ],
   "source": [
    "RooPlot *frame2 = x.frame(Bins(100));\n",
    "data->plotOn(frame2);\n",
    "lmorph.plotOn(frame2);"
   ]
  },
  {
   "cell_type": "markdown",
   "metadata": {},
   "source": [
    "Scan -log(l) vs alpha\n",
    " -----------------------------------------"
   ]
  },
  {
   "cell_type": "markdown",
   "metadata": {},
   "source": [
    "Show scan -log(l) of dataset w.r.t alpha"
   ]
  },
  {
   "cell_type": "code",
   "execution_count": 15,
   "metadata": {
    "collapsed": false
   },
   "outputs": [],
   "source": [
    "RooPlot *frame3 = alpha.frame(Bins(100), Range(0.1, 0.9));"
   ]
  },
  {
   "cell_type": "markdown",
   "metadata": {},
   "source": [
    "Make 2d pdf of histogram"
   ]
  },
  {
   "cell_type": "code",
   "execution_count": 16,
   "metadata": {
    "collapsed": false
   },
   "outputs": [
    {
     "name": "stdout",
     "output_type": "stream",
     "text": [
      "[#1] INFO:Caching -- RooAbsCachedPdf::getCache(lmorph) creating new cache 0x7fd95c853960 with pdf g1_MORPH_g2_CACHE_Obs[alpha,x] for nset (x) with code 0 from preexisting content.\n",
      "[#1] INFO:Caching -- RooAbsCachedPdf::getCache(lmorph) creating new cache 0x7fd95cade740 with pdf g1_MORPH_g2_CACHE_Obs[alpha,x] for nset (x) with code 0 from preexisting content.\n",
      "[#1] INFO:Caching -- RooAbsCachedPdf::getCache(lmorph) creating new cache 0x7fd95cade740 with pdf g1_MORPH_g2_CACHE_Obs[alpha,x] for nset (x) with code 0 from preexisting content.\n"
     ]
    }
   ],
   "source": [
    "RooNLLVar nll(\"nll\", \"nll\", lmorph, *data);\n",
    "nll.plotOn(frame3, ShiftToZero());\n",
    "\n",
    "lmorph.setCacheAlpha(kFALSE);\n",
    "\n",
    "TCanvas *c = new TCanvas(\"rf705_linearmorph\", \"rf705_linearmorph\", 800, 800);\n",
    "c->Divide(2, 2);\n",
    "c->cd(1);\n",
    "gPad->SetLeftMargin(0.15);\n",
    "frame1->GetYaxis()->SetTitleOffset(1.6);\n",
    "frame1->Draw();\n",
    "c->cd(2);\n",
    "gPad->SetLeftMargin(0.20);\n",
    "hh->GetZaxis()->SetTitleOffset(2.5);\n",
    "hh->Draw(\"surf\");\n",
    "c->cd(3);\n",
    "gPad->SetLeftMargin(0.15);\n",
    "frame3->GetYaxis()->SetTitleOffset(1.4);\n",
    "frame3->Draw();\n",
    "c->cd(4);\n",
    "gPad->SetLeftMargin(0.15);\n",
    "frame2->GetYaxis()->SetTitleOffset(1.4);\n",
    "frame2->Draw();\n",
    "\n",
    "return;"
   ]
  },
  {
   "cell_type": "markdown",
   "metadata": {},
   "source": [
    "Draw all canvases "
   ]
  },
  {
   "cell_type": "code",
   "execution_count": 17,
   "metadata": {
    "collapsed": false
   },
   "outputs": [
    {
     "data": {
      "image/png": "[encoded data removed]",
      "text/plain": [
       "<IPython.core.display.Image object>"
      ]
     },
     "metadata": {},
     "output_type": "display_data"
    }
   ],
   "source": [
    "gROOT->GetListOfCanvases()->Draw()"
   ]
  }
 ],
 "metadata": {
  "kernelspec": {
   "display_name": "ROOT C++",
   "language": "c++",
   "name": "root"
  },
  "language_info": {
   "codemirror_mode": "text/x-c++src",
   "file_extension": ".C",
   "mimetype": " text/x-c++src",
   "name": "c++"
  }
 },
 "nbformat": 4,
 "nbformat_minor": 2
}
