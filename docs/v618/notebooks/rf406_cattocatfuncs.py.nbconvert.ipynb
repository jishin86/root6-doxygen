{
 "cells": [
  {
   "cell_type": "markdown",
   "metadata": {},
   "source": [
    "# Rf 4 0 6_Cattocatfuncs\n",
    "\n",
    "Data and categories: demonstration of discrete-discrete (invertable) functions\n",
    "\n",
    "\n",
    "\n",
    "\n",
    "**Author:** Clemens Lange, Wouter Verkerke (C++ version)  \n",
    "<i><small>This notebook tutorial was automatically generated with <a href= \"https://github.com/root-project/root/blob/master/documentation/doxygen/converttonotebook.py\">ROOTBOOK-izer</a> from the macro found in the ROOT repository  on Thursday, August 29, 2019 at 02:53 AM.</small></i>"
   ]
  },
  {
   "cell_type": "code",
   "execution_count": 1,
   "metadata": {
    "collapsed": false
   },
   "outputs": [
    {
     "name": "stdout",
     "output_type": "stream",
     "text": [
      "Welcome to JupyROOT 6.18/03\n"
     ]
    }
   ],
   "source": [
    "import ROOT"
   ]
  },
  {
   "cell_type": "markdown",
   "metadata": {},
   "source": [
    "Construct two categories\n",
    "----------------------------------------------"
   ]
  },
  {
   "cell_type": "markdown",
   "metadata": {},
   "source": [
    "Define a category with labels only"
   ]
  },
  {
   "cell_type": "code",
   "execution_count": 2,
   "metadata": {
    "collapsed": false
   },
   "outputs": [
    {
     "name": "stdout",
     "output_type": "stream",
     "text": [
      "\n",
      "\u001b[1mRooFit v3.60 -- Developed by Wouter Verkerke and David Kirkby\u001b[0m \n",
      "                Copyright (C) 2000-2013 NIKHEF, University of California & Stanford University\n",
      "                All rights reserved, please read http://roofit.sourceforge.net/license.txt\n",
      "\n",
      "RooCategory::tagCat = Lepton(idx = 0)\n",
      "\n"
     ]
    }
   ],
   "source": [
    "tagCat = ROOT.RooCategory(\"tagCat\", \"Tagging category\")\n",
    "tagCat.defineType(\"Lepton\")\n",
    "tagCat.defineType(\"Kaon\")\n",
    "tagCat.defineType(\"NetTagger-1\")\n",
    "tagCat.defineType(\"NetTagger-2\")\n",
    "tagCat.Print()"
   ]
  },
  {
   "cell_type": "markdown",
   "metadata": {},
   "source": [
    "Define a category with explicitly numbered states"
   ]
  },
  {
   "cell_type": "code",
   "execution_count": 3,
   "metadata": {
    "collapsed": false
   },
   "outputs": [
    {
     "name": "stdout",
     "output_type": "stream",
     "text": [
      "RooCategory::b0flav = B0(idx = -1)\n",
      "\n"
     ]
    }
   ],
   "source": [
    "b0flav = ROOT.RooCategory(\"b0flav\", \"B0 flavour eigenstate\")\n",
    "b0flav.defineType(\"B0\", -1)\n",
    "b0flav.defineType(\"B0bar\", 1)\n",
    "b0flav.Print()"
   ]
  },
  {
   "cell_type": "markdown",
   "metadata": {},
   "source": [
    "Construct a dummy dataset with random values of tagCat and b0flav"
   ]
  },
  {
   "cell_type": "code",
   "execution_count": 4,
   "metadata": {
    "collapsed": false
   },
   "outputs": [],
   "source": [
    "x = ROOT.RooRealVar(\"x\", \"x\", 0, 10)\n",
    "p = ROOT.RooPolynomial(\"p\", \"p\", x)\n",
    "data = p.generate(ROOT.RooArgSet(x, b0flav, tagCat), 10000)"
   ]
  },
  {
   "cell_type": "markdown",
   "metadata": {},
   "source": [
    "Create a cat -> cat mapping category\n",
    "---------------------------------------------------------------------"
   ]
  },
  {
   "cell_type": "markdown",
   "metadata": {},
   "source": [
    "A RooMappedCategory is category.category mapping function based on string expression\n",
    "The constructor takes an input category an a default state name to which unassigned\n",
    "states are mapped"
   ]
  },
  {
   "cell_type": "code",
   "execution_count": 5,
   "metadata": {
    "collapsed": false
   },
   "outputs": [],
   "source": [
    "tcatType = ROOT.RooMappedCategory(\n",
    "    \"tcatType\", \"tagCat type\", tagCat, \"Cut based\")"
   ]
  },
  {
   "cell_type": "markdown",
   "metadata": {},
   "source": [
    "Enter fully specified state mappings"
   ]
  },
  {
   "cell_type": "code",
   "execution_count": 6,
   "metadata": {
    "collapsed": false
   },
   "outputs": [
    {
     "data": {
      "text/plain": [
       "False"
      ]
     },
     "execution_count": 6,
     "metadata": {},
     "output_type": "execute_result"
    }
   ],
   "source": [
    "tcatType.map(\"Lepton\", \"Cut based\")\n",
    "tcatType.map(\"Kaon\", \"Cut based\")"
   ]
  },
  {
   "cell_type": "markdown",
   "metadata": {},
   "source": [
    "Enter a wilcard expression mapping"
   ]
  },
  {
   "cell_type": "code",
   "execution_count": 7,
   "metadata": {
    "collapsed": false
   },
   "outputs": [
    {
     "data": {
      "text/plain": [
       "False"
      ]
     },
     "execution_count": 7,
     "metadata": {},
     "output_type": "execute_result"
    }
   ],
   "source": [
    "tcatType.map(\"NetTagger*\", \"Neural Network\")"
   ]
  },
  {
   "cell_type": "markdown",
   "metadata": {},
   "source": [
    "Make a table of the mapped category state multiplicit in data"
   ]
  },
  {
   "cell_type": "code",
   "execution_count": 8,
   "metadata": {
    "collapsed": false
   },
   "outputs": [
    {
     "name": "stdout",
     "output_type": "stream",
     "text": [
      "\n",
      "  Table tcatType : pData\n",
      "  +----------------+------+\n",
      "  |      Cut based | 5040 |\n",
      "  | Neural Network | 4960 |\n",
      "  +----------------+------+\n",
      "\n"
     ]
    }
   ],
   "source": [
    "mtable = data.table(tcatType)\n",
    "mtable.Print(\"v\")"
   ]
  },
  {
   "cell_type": "markdown",
   "metadata": {},
   "source": [
    "Create a cat X cat product category\n",
    "----------------------------------------------------------------------"
   ]
  },
  {
   "cell_type": "markdown",
   "metadata": {},
   "source": [
    "A SUPER-category is 'product' of _lvalue_ categories. The state names of a super\n",
    "category is a composite of the state labels of the input categories"
   ]
  },
  {
   "cell_type": "code",
   "execution_count": 9,
   "metadata": {
    "collapsed": false
   },
   "outputs": [],
   "source": [
    "b0Xtcat = ROOT.RooSuperCategory(\n",
    "    \"b0Xtcat\", \"b0flav X tagCat\", ROOT.RooArgSet(b0flav, tagCat))"
   ]
  },
  {
   "cell_type": "markdown",
   "metadata": {},
   "source": [
    "Make a table of the product category state multiplicity in data"
   ]
  },
  {
   "cell_type": "code",
   "execution_count": 10,
   "metadata": {
    "collapsed": false
   },
   "outputs": [
    {
     "name": "stdout",
     "output_type": "stream",
     "text": [
      "\n",
      "  Table b0Xtcat : pData\n",
      "  +---------------------+------+\n",
      "  |         {B0;Lepton} | 1302 |\n",
      "  |      {B0bar;Lepton} | 1192 |\n",
      "  |           {B0;Kaon} | 1232 |\n",
      "  |        {B0bar;Kaon} | 1314 |\n",
      "  |    {B0;NetTagger-1} | 1242 |\n",
      "  | {B0bar;NetTagger-1} | 1208 |\n",
      "  |    {B0;NetTagger-2} | 1282 |\n",
      "  | {B0bar;NetTagger-2} | 1228 |\n",
      "  +---------------------+------+\n",
      "\n"
     ]
    }
   ],
   "source": [
    "stable = data.table(b0Xtcat)\n",
    "stable.Print(\"v\")"
   ]
  },
  {
   "cell_type": "markdown",
   "metadata": {},
   "source": [
    "Since the super category is an lvalue, is explicitly possible"
   ]
  },
  {
   "cell_type": "code",
   "execution_count": 11,
   "metadata": {
    "collapsed": false
   },
   "outputs": [
    {
     "data": {
      "text/plain": [
       "False"
      ]
     },
     "execution_count": 11,
     "metadata": {},
     "output_type": "execute_result"
    }
   ],
   "source": [
    "b0Xtcat.setLabel(\"{B0bar;Lepton}\")"
   ]
  },
  {
   "cell_type": "markdown",
   "metadata": {},
   "source": [
    "A MULTI-category is a 'product' of any category (function). The state names of a super\n",
    "category is a composite of the state labels of the input categories"
   ]
  },
  {
   "cell_type": "code",
   "execution_count": 12,
   "metadata": {
    "collapsed": false
   },
   "outputs": [],
   "source": [
    "b0Xttype = ROOT.RooMultiCategory(\n",
    "    \"b0Xttype\", \"b0flav X tagType\", ROOT.RooArgSet(b0flav, tcatType))"
   ]
  },
  {
   "cell_type": "markdown",
   "metadata": {},
   "source": [
    "Make a table of the product category state multiplicity in data"
   ]
  },
  {
   "cell_type": "code",
   "execution_count": 13,
   "metadata": {
    "collapsed": false
   },
   "outputs": [
    {
     "name": "stdout",
     "output_type": "stream",
     "text": [
      "\n",
      "  Table b0Xttype : pData\n",
      "  +------------------------+------+\n",
      "  |         {B0;Cut based} | 2534 |\n",
      "  |      {B0bar;Cut based} | 2506 |\n",
      "  |    {B0;Neural Network} | 2524 |\n",
      "  | {B0bar;Neural Network} | 2436 |\n",
      "  +------------------------+------+\n",
      "\n"
     ]
    }
   ],
   "source": [
    "xtable = data.table(b0Xttype)\n",
    "xtable.Print(\"v\")"
   ]
  }
 ],
 "metadata": {
  "kernelspec": {
   "display_name": "Python 2",
   "language": "python",
   "name": "python2"
  },
  "language_info": {
   "codemirror_mode": {
    "name": "ipython",
    "version": 2
   },
   "file_extension": ".py",
   "mimetype": "text/x-python",
   "name": "python",
   "nbconvert_exporter": "python",
   "pygments_lexer": "ipython2",
   "version": "2.7.10"
  }
 },
 "nbformat": 4,
 "nbformat_minor": 2
}
