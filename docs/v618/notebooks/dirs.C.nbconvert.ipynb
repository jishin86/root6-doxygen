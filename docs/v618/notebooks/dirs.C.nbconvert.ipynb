{
 "cells": [
  {
   "cell_type": "markdown",
   "metadata": {},
   "source": [
    "# Dirs\n",
    "This macro illustrates how to create a hierarchy of directories\n",
    "in a Root file.\n",
    "Ten directories called plane0, plane1, ..., plane9 are created.\n",
    "Each plane directory contains 200 histograms.\n",
    "Note that the macro deletes the TFile object at the end!\n",
    "Connect the file again in read mode:\n",
    "```bash\n",
    "  Root [0] TFile top(\"top.root\");\n",
    "```\n",
    "The hierarchy can be browsed by the Root browser as shown below\n",
    "```bash\n",
    "  Root  TBrowser b;\n",
    "```\n",
    "Click on the left pane on one of the plane directories.\n",
    "This shows the list of all histograms in this directory.\n",
    "Double click on one histogram to draw it (left mouse button).\n",
    "Select different options with the right mouse button.\n",
    "Instead of using the browser, you can also do:\n",
    "```bash\n",
    "  Root > tof->cd();\n",
    "  Root > plane3->cd();\n",
    "  Root > h3_90N->Draw();\n",
    "```\n",
    "\n",
    "\n",
    "\n",
    "**Author:** Rene Brun  \n",
    "<i><small>This notebook tutorial was automatically generated with <a href= \"https://github.com/root-project/root/blob/master/documentation/doxygen/converttonotebook.py\">ROOTBOOK-izer</a> from the macro found in the ROOT repository  on Thursday, August 29, 2019 at 02:02 AM.</small></i>"
   ]
  },
  {
   "cell_type": "markdown",
   "metadata": {},
   "source": [
    "Create a new root file"
   ]
  },
  {
   "cell_type": "code",
   "execution_count": 1,
   "metadata": {
    "collapsed": false
   },
   "outputs": [],
   "source": [
    "TFile *top = new TFile(\"top.root\",\"recreate\");"
   ]
  },
  {
   "cell_type": "markdown",
   "metadata": {},
   "source": [
    "Create a subdirectory \"tof\" in this file"
   ]
  },
  {
   "cell_type": "code",
   "execution_count": 2,
   "metadata": {
    "collapsed": false
   },
   "outputs": [],
   "source": [
    "TDirectory *cdtof = top->mkdir(\"tof\");\n",
    "cdtof->cd();    // make the \"tof\" directory the current directory"
   ]
  },
  {
   "cell_type": "markdown",
   "metadata": {},
   "source": [
    "Create a new subdirectory for each plane"
   ]
  },
  {
   "cell_type": "code",
   "execution_count": 3,
   "metadata": {
    "collapsed": false
   },
   "outputs": [],
   "source": [
    "const Int_t nplanes = 10;\n",
    "const Int_t ncounters = 100;\n",
    "char dirname[50];\n",
    "char hname[20];\n",
    "char htitle[80];\n",
    "Int_t i,j,k;\n",
    "TDirectory *cdplane[nplanes];\n",
    "TH1F *hn[nplanes][ncounters];\n",
    "TH1F *hs[nplanes][ncounters];\n",
    "for (i=0;i<nplanes;i++) {\n",
    "   sprintf(dirname,\"plane%d\",i);\n",
    "   cdplane[i] = cdtof->mkdir(dirname);\n",
    "   cdplane[i]->cd();\n",
    "   // create counter histograms\n",
    "   for (j=0;j<ncounters;j++) {\n",
    "      sprintf(hname,\"h%d_%dN\",i,j);\n",
    "      sprintf(htitle,\"hist for counter:%d in plane:%d North\",j,i);\n",
    "      hn[i][j] = new TH1F(hname,htitle,100,0,100);\n",
    "      sprintf(hname,\"h%d_%dS\",i,j);\n",
    "      sprintf(htitle,\"hist for counter:%d in plane:%d South\",j,i);\n",
    "      hs[i][j] = new TH1F(hname,htitle,100,0,100);\n",
    "   }\n",
    "   cdtof->cd();    // change current directory to top\n",
    "}"
   ]
  },
  {
   "cell_type": "markdown",
   "metadata": {},
   "source": [
    "Fill histograms"
   ]
  },
  {
   "cell_type": "code",
   "execution_count": 4,
   "metadata": {
    "collapsed": false
   },
   "outputs": [],
   "source": [
    "TRandom r;\n",
    "for (i=0;i<nplanes;i++) {\n",
    "   cdplane[i]->cd();\n",
    "   for (j=0;j<ncounters;j++) {\n",
    "      for (k=0;k<100;k++) {\n",
    "         hn[i][j]->Fill(100*r.Rndm(),i+j);\n",
    "         hs[i][j]->Fill(100*r.Rndm(),i+j+k);\n",
    "      }\n",
    "   }\n",
    "}"
   ]
  },
  {
   "cell_type": "markdown",
   "metadata": {},
   "source": [
    "Save histogram hierarchy in the file"
   ]
  },
  {
   "cell_type": "code",
   "execution_count": 5,
   "metadata": {
    "collapsed": false
   },
   "outputs": [],
   "source": [
    "top->Write();\n",
    "delete top;"
   ]
  }
 ],
 "metadata": {
  "kernelspec": {
   "display_name": "ROOT C++",
   "language": "c++",
   "name": "root"
  },
  "language_info": {
   "codemirror_mode": "text/x-c++src",
   "file_extension": ".C",
   "mimetype": " text/x-c++src",
   "name": "c++"
  }
 },
 "nbformat": 4,
 "nbformat_minor": 2
}
