{
 "cells": [
  {
   "cell_type": "markdown",
   "metadata": {},
   "source": [
    "# Rf 2 1 1_Paramconv\n",
    "Addition and convolution: working with a p.d.f. with a convolution operator in terms of a parameter\n",
    "\n",
    "This tutorial requires FFT3 to be enabled.\n",
    "\n",
    "\n",
    "\n",
    "**Author:** 04/2009 - Wouter Verkerke  \n",
    "<i><small>This notebook tutorial was automatically generated with <a href= \"https://github.com/root-project/root/blob/master/documentation/doxygen/converttonotebook.py\">ROOTBOOK-izer</a> from the macro found in the ROOT repository  on Thursday, August 29, 2019 at 02:45 AM.</small></i>"
   ]
  },
  {
   "cell_type": "code",
   "execution_count": 1,
   "metadata": {
    "collapsed": false
   },
   "outputs": [],
   "source": [
    "%%cpp -d\n",
    "#include \"RooRealVar.h\"\n",
    "#include \"RooDataHist.h\"\n",
    "#include \"RooGaussian.h\"\n",
    "#include \"RooGenericPdf.h\"\n",
    "#include \"RooFormulaVar.h\"\n",
    "#include \"RooFFTConvPdf.h\"\n",
    "#include \"RooPlot.h\"\n",
    "#include \"TCanvas.h\"\n",
    "#include \"TAxis.h\"\n",
    "#include \"TH2.h\""
   ]
  },
  {
   "cell_type": "code",
   "execution_count": 2,
   "metadata": {
    "collapsed": false
   },
   "outputs": [],
   "source": [
    "%%cpp -d\n",
    "// This is a workaround to make sure the namespace is used inside functions\n",
    "using namespace RooFit;"
   ]
  },
  {
   "cell_type": "markdown",
   "metadata": {},
   "source": [
    "Setup component pdfs\n",
    " ---------------------------------------"
   ]
  },
  {
   "cell_type": "markdown",
   "metadata": {},
   "source": [
    "Gaussian g(x ; mean,sigma)"
   ]
  },
  {
   "cell_type": "code",
   "execution_count": 3,
   "metadata": {
    "collapsed": false
   },
   "outputs": [
    {
     "name": "stdout",
     "output_type": "stream",
     "text": [
      "\n",
      "\u001b[1mRooFit v3.60 -- Developed by Wouter Verkerke and David Kirkby\u001b[0m \n",
      "                Copyright (C) 2000-2013 NIKHEF, University of California & Stanford University\n",
      "                All rights reserved, please read http://roofit.sourceforge.net/license.txt\n",
      "\n"
     ]
    }
   ],
   "source": [
    "RooRealVar x(\"x\", \"x\", -10, 10);\n",
    "RooRealVar mean(\"mean\", \"mean\", -3, 3);\n",
    "RooRealVar sigma(\"sigma\", \"sigma\", 0.5, 0.1, 10);\n",
    "RooGaussian modelx(\"gx\", \"gx\", x, mean, sigma);"
   ]
  },
  {
   "cell_type": "markdown",
   "metadata": {},
   "source": [
    "Block function in mean"
   ]
  },
  {
   "cell_type": "code",
   "execution_count": 4,
   "metadata": {
    "collapsed": false
   },
   "outputs": [],
   "source": [
    "RooRealVar a(\"a\", \"a\", 2, 1, 10);\n",
    "RooGenericPdf model_mean(\"model_mean\", \"abs(mean)<a\", RooArgList(mean, a));"
   ]
  },
  {
   "cell_type": "markdown",
   "metadata": {},
   "source": [
    "Convolution in mean parameter model = g(x,mean,sigma) (x) block(mean)"
   ]
  },
  {
   "cell_type": "code",
   "execution_count": 5,
   "metadata": {
    "collapsed": false
   },
   "outputs": [],
   "source": [
    "x.setBins(1000, \"cache\");\n",
    "mean.setBins(50, \"cache\");\n",
    "RooFFTConvPdf model(\"model\", \"model\", mean, modelx, model_mean);"
   ]
  },
  {
   "cell_type": "markdown",
   "metadata": {},
   "source": [
    "Configure convolution to construct a 2-d cache in (x,mean)\n",
    " rather than a 1-d cache in mean that needs to be recalculated\n",
    " for each value of x"
   ]
  },
  {
   "cell_type": "code",
   "execution_count": 6,
   "metadata": {
    "collapsed": false
   },
   "outputs": [],
   "source": [
    "model.setCacheObservables(x);\n",
    "model.setBufferFraction(1.0);"
   ]
  },
  {
   "cell_type": "markdown",
   "metadata": {},
   "source": [
    "Integrate model over mean projmodel = int model dmean"
   ]
  },
  {
   "cell_type": "code",
   "execution_count": 7,
   "metadata": {
    "collapsed": false
   },
   "outputs": [],
   "source": [
    "RooAbsPdf *projModel = model.createProjection(mean);"
   ]
  },
  {
   "cell_type": "markdown",
   "metadata": {},
   "source": [
    "Generate 1000 toy events"
   ]
  },
  {
   "cell_type": "code",
   "execution_count": 8,
   "metadata": {
    "collapsed": false
   },
   "outputs": [
    {
     "name": "stdout",
     "output_type": "stream",
     "text": [
      "[#1] INFO:Eval -- RooRealVar::setRange(mean) new range named 'refrange_fft_model' created with bounds [-3,3]\n",
      "[#0] WARNING:Eval -- The FFT convolution 'model' will run with 50 bins. A decent accuracy for difficult convolutions is typically only reached with n >= 1000. Suggest to increase the number of bins of the observable 'mean'.\n",
      "[#1] INFO:NumericIntegration -- RooRealIntegral::init(gx_Int[mean,x]) using numeric integrator RooIntegrator1D to calculate Int(mean)\n",
      "[#1] INFO:NumericIntegration -- RooRealIntegral::init(model_mean_Int[mean]) using numeric integrator RooIntegrator1D to calculate Int(mean)\n",
      "[#1] INFO:Caching -- RooAbsCachedPdf::getCache(model) creating new cache 0x7f6ed04720c0 with pdf gx_CONV_model_mean_CACHE_Obs[x,mean] for nset (x,mean) with code 0\n"
     ]
    }
   ],
   "source": [
    "RooDataHist *d = projModel->generateBinned(x, 1000);"
   ]
  },
  {
   "cell_type": "markdown",
   "metadata": {},
   "source": [
    "Fit p.d.f. to toy data"
   ]
  },
  {
   "cell_type": "code",
   "execution_count": 9,
   "metadata": {
    "collapsed": false
   },
   "outputs": [
    {
     "name": "stdout",
     "output_type": "stream",
     "text": [
      "[#0] WARNING:Eval -- The FFT convolution 'model' will run with 50 bins. A decent accuracy for difficult convolutions is typically only reached with n >= 1000. Suggest to increase the number of bins of the observable 'mean'.\n",
      "[#1] INFO:Caching -- RooAbsCachedPdf::getCache(model) creating new cache 0x7f6ed0a9c440 with pdf gx_CONV_model_mean_CACHE_Obs[x,mean] for nset (x,mean) with code 0 from preexisting content.\n",
      "[#1] INFO:Minization -- RooMinimizer::optimizeConst: activating const optimization\n",
      "[#0] WARNING:Minization -- RooMinimizerFcn::synchronize: WARNING: no initial error estimate available for a: using 0.5\n",
      "[#0] WARNING:Minization -- RooMinimizerFcn::synchronize: WARNING: no initial error estimate available for sigma: using 0.2\n",
      " **********\n",
      " **    1 **SET PRINT           1\n",
      " **********\n",
      " **********\n",
      " **    2 **SET NOGRAD\n",
      " **********\n",
      " PARAMETER DEFINITIONS:\n",
      "    NO.   NAME         VALUE      STEP SIZE      LIMITS\n",
      "     1 a            2.00000e+00  5.00000e-01    1.00000e+00  1.00000e+01\n",
      "     2 sigma        5.00000e-01  2.00000e-01    1.00000e-01  1.00000e+01\n",
      " **********\n",
      " **    3 **SET ERR         0.5\n",
      " **********\n",
      " **********\n",
      " **    4 **SET PRINT           1\n",
      " **********\n",
      " **********\n",
      " **    5 **SET STR           1\n",
      " **********\n",
      " NOW USING STRATEGY  1: TRY TO BALANCE SPEED AGAINST RELIABILITY\n",
      " **********\n",
      " **    6 **MIGRAD        1000           1\n",
      " **********\n",
      " FIRST CALL TO USER FUNCTION AT NEW START POINT, WITH IFLAG=4.\n",
      "\n",
      "prevFCN = 2171.275755   START MIGRAD MINIMIZATION.  STRATEGY  1.  CONVERGENCE WHEN EDM .LT. 1.00e-03\n",
      "a=2.012, sigma=0.5, [#1] INFO:NumericIntegration -- RooRealIntegral::init(gx_Int[mean,x]) using numeric integrator RooIntegrator1D to calculate Int(mean)\n",
      "[#1] INFO:NumericIntegration -- RooRealIntegral::init(model_mean_Int[mean]) using numeric integrator RooIntegrator1D to calculate Int(mean)\n",
      "\n",
      "prevFCN = 2171.275755  a=1.988, \n",
      "prevFCN = 2171.275755  a=2.121, \n",
      "prevFCN = 2171.861215  a=1.886, \n",
      "prevFCN = 2172.184717  a=2.012, \n",
      "prevFCN = 2171.275755  a=1.988, \n",
      "prevFCN = 2171.275755  a=2, sigma=0.5047, \n",
      "prevFCN = 2171.286528  sigma=0.4953, \n",
      "prevFCN = 2171.267762  sigma=0.5029, \n",
      "prevFCN = 2171.281998  sigma=0.4971, \n",
      "prevFCN = 2171.270547  a=2.012, sigma=0.5, \n",
      "prevFCN = 2171.275755  a=2.012, \n",
      "prevFCN = 2171.275755  a=2.012, \n",
      "prevFCN = 2171.275755  a=2.012, \n",
      "prevFCN = 2171.275755  a=2.012, \n",
      "prevFCN = 2171.275755  a=2.012, \n",
      "prevFCN = 2171.275755  a=2.012, \n",
      "prevFCN = 2171.275755  a=2.012, \n",
      "prevFCN = 2171.275755  a=2.012, \n",
      "prevFCN = 2171.275755  a=2.012, \n",
      "prevFCN = 2171.275755  a=2.012, \n",
      "prevFCN = 2171.275755  a=2.121, \n",
      "prevFCN = 2171.861215  a=1.886, \n",
      "prevFCN = 2172.184717  a=2.012, \n",
      "prevFCN = 2171.275755  a=1.988, \n",
      "prevFCN = 2171.275755  a=2.121, \n",
      "prevFCN = 2171.861215  a=1.886, \n",
      "prevFCN = 2172.184717  a=2, sigma=0.5029, \n",
      "prevFCN = 2171.281998  sigma=0.4971, \n",
      "prevFCN = 2171.270547   FCN=2171.28 FROM MIGRAD    STATUS=INITIATE       29 CALLS          30 TOTAL\n",
      "                     EDM= unknown      STRATEGY= 1      NO ERROR MATRIX       \n",
      "  EXT PARAMETER               CURRENT GUESS       STEP         FIRST   \n",
      "  NO.   NAME      VALUE            ERROR          SIZE      DERIVATIVE \n",
      "   1  a            2.00000e+00   5.00000e-01   0.00000e+00  -3.89301e+00\n",
      "   2  sigma        5.00000e-01   2.00000e-01   0.00000e+00   3.88521e+00\n",
      "                               ERR DEF= 0.5\n",
      "a=2.013, sigma=0.4843, \n",
      "prevFCN = 2171.259881  a=2.009, sigma=0.4884, \n",
      "prevFCN = 2171.260992  a=2.025, sigma=0.4843, \n",
      "prevFCN = 2171.259881  a=2.001, \n",
      "prevFCN = 2171.259881  a=2.134, \n",
      "prevFCN = 2171.692149  a=1.898, \n",
      "prevFCN = 2172.378568  a=2.025, \n",
      "prevFCN = 2171.259881  a=2.001, \n",
      "prevFCN = 2171.259881  a=2.013, sigma=0.4871, \n",
      "prevFCN = 2171.26042  sigma=0.4815, \n",
      "prevFCN = 2171.260367   MIGRAD MINIMIZATION HAS CONVERGED.\n",
      " MIGRAD WILL VERIFY CONVERGENCE AND ERROR MATRIX.\n",
      "sigma=0.4843, \n",
      "prevFCN = 2171.259881   MINUIT WARNING IN HESSE\n",
      " ============== Second derivative enters zero, param 1\n",
      "a=2.025, \n",
      "prevFCN = 2171.259881  a=2.001, \n",
      "prevFCN = 2171.259881  a=2.134, \n",
      "prevFCN = 2171.692149  a=1.898, \n",
      "prevFCN = 2172.378568  a=2.013, sigma=0.4871, \n",
      "prevFCN = 2171.26042  sigma=0.4815, \n",
      "prevFCN = 2171.260367  a=2.015, sigma=0.4843, \n",
      "prevFCN = 2171.259881  a=2.011, \n",
      "prevFCN = 2171.259881  a=2.013, sigma=0.4848, \n",
      "prevFCN = 2171.259907  sigma=0.4837, \n",
      "prevFCN = 2171.259896  a=2.134, sigma=0.4871, \n",
      "prevFCN = 2171.720718   COVARIANCE MATRIX CALCULATED SUCCESSFULLY\n",
      " FCN=2171.26 FROM HESSE     STATUS=OK             12 CALLS          52 TOTAL\n",
      "                     EDM=0.0753125    STRATEGY= 1      ERROR MATRIX ACCURATE \n",
      "  EXT PARAMETER                                   STEP         FIRST   \n",
      "  NO.   NAME      VALUE            ERROR          SIZE      DERIVATIVE \n",
      "   1  a            2.01276e+00   1.33301e-01   4.15492e-02  -8.26033e+00\n",
      "   2  sigma        4.84270e-01   1.23533e-01   1.47360e-03   1.78734e-02\n",
      "                               ERR DEF= 0.5\n",
      "a=2.065, sigma=0.4512, \n",
      "prevFCN = 2171.332894  a=2.03, sigma=0.473, \n",
      "prevFCN = 2171.26812  a=2.02, sigma=0.4794, \n",
      "prevFCN = 2171.261381  a=2.016, sigma=0.482, \n",
      "prevFCN = 2171.260198  a=2.014, sigma=0.4832, \n",
      "prevFCN = 2171.25995  a=2.014, sigma=0.4837, \n",
      "prevFCN = 2171.259895  a=2.013, sigma=0.484, \n",
      "prevFCN = 2171.259883  a=2.013, sigma=0.4841, \n",
      "prevFCN = 2171.259881  a=2.013, sigma=0.4842, \n",
      "prevFCN = 2171.25988  a=2.025, \n",
      "prevFCN = 2171.25988  a=2.001, \n",
      "prevFCN = 2171.25988  a=2.134, \n",
      "prevFCN = 2171.691427  a=1.898, \n",
      "prevFCN = 2172.379556  a=2.025, \n",
      "prevFCN = 2171.25988  a=2.001, \n",
      "prevFCN = 2171.25988  a=2.013, sigma=0.487, \n",
      "prevFCN = 2171.260398  sigma=0.4814, \n",
      "prevFCN = 2171.260398   MIGRAD MINIMIZATION HAS CONVERGED.\n",
      " FCN=2171.26 FROM MIGRAD    STATUS=CONVERGED      68 CALLS          69 TOTAL\n",
      "                     EDM=6.7408e-11    STRATEGY= 1  ERROR MATRIX UNCERTAINTY  75.5 per cent\n",
      "  EXT PARAMETER                                   STEP         FIRST   \n",
      "  NO.   NAME      VALUE            ERROR          SIZE      DERIVATIVE \n",
      "   1  a            2.01287e+00   6.17567e-03   3.89434e-05   0.00000e+00\n",
      "   2  sigma        4.84198e-01   8.78354e-02  -3.78079e-05   1.79608e-04\n",
      "                               ERR DEF= 0.5\n",
      " EXTERNAL ERROR MATRIX.    NDIM=  25    NPAR=  2    ERR DEF=0.5\n",
      "  3.814e-05 -2.915e-07 \n",
      " -2.915e-07  7.720e-03 \n",
      " PARAMETER  CORRELATION COEFFICIENTS  \n",
      "       NO.  GLOBAL      1      2\n",
      "        1  0.00054   1.000 -0.001\n",
      "        2  0.00054  -0.001  1.000\n",
      "sigma=0.4842,  **********\n",
      " **    7 **SET ERR         0.5\n",
      " **********\n",
      " **********\n",
      " **    8 **SET PRINT           1\n",
      " **********\n",
      " **********\n",
      " **    9 **HESSE        1000\n",
      " **********\n",
      "\n",
      "prevFCN = 2171.25988   MINUIT WARNING IN HESSE\n",
      " ============== Second derivative enters zero, param 1\n",
      "a=2.025, \n",
      "prevFCN = 2171.25988  a=2.001, \n",
      "prevFCN = 2171.25988  a=2.134, \n",
      "prevFCN = 2171.691427  a=1.898, \n",
      "prevFCN = 2172.379556  a=2.013, sigma=0.487, \n",
      "prevFCN = 2171.260398  sigma=0.4814, \n",
      "prevFCN = 2171.260398  a=2.015, sigma=0.4842, \n",
      "prevFCN = 2171.25988  a=2.011, \n",
      "prevFCN = 2171.25988  a=2.013, sigma=0.4848, \n",
      "prevFCN = 2171.259901  sigma=0.4836, \n",
      "prevFCN = 2171.259901  sigma=0.4843, \n",
      "prevFCN = 2171.259881  sigma=0.4841, \n",
      "prevFCN = 2171.259881  a=2.134, sigma=0.487, \n",
      "prevFCN = 2171.720107   COVARIANCE MATRIX CALCULATED SUCCESSFULLY\n",
      " FCN=2171.26 FROM HESSE     STATUS=OK             14 CALLS          83 TOTAL\n",
      "                     EDM=0.150733    STRATEGY= 1      ERROR MATRIX ACCURATE \n",
      "  EXT PARAMETER                                INTERNAL      INTERNAL  \n",
      "  NO.   NAME      VALUE            ERROR       STEP SIZE       VALUE   \n",
      "   1  a            2.01287e+00   1.33303e-01   4.15492e-02  -8.86586e-01\n",
      "   2  sigma        4.84198e-01   1.23531e-01   1.48033e-03  -1.17421e+00\n",
      "                               ERR DEF= 0.5\n",
      " EXTERNAL ERROR MATRIX.    NDIM=  25    NPAR=  2    ERR DEF=0.5\n",
      "  1.778e-02 -1.158e-02 \n",
      " -1.158e-02  1.528e-02 \n",
      " PARAMETER  CORRELATION COEFFICIENTS  \n",
      "       NO.  GLOBAL      1      2\n",
      "        1  0.70265   1.000 -0.703\n",
      "        2  0.70265  -0.703  1.000\n",
      "a=2.013, sigma=0.4842, [#1] INFO:Minization -- RooMinimizer::optimizeConst: deactivating const optimization\n"
     ]
    }
   ],
   "source": [
    "projModel->fitTo(*d, Verbose());"
   ]
  },
  {
   "cell_type": "markdown",
   "metadata": {},
   "source": [
    "Plot data and fitted p.d.f."
   ]
  },
  {
   "cell_type": "code",
   "execution_count": 10,
   "metadata": {
    "collapsed": false
   },
   "outputs": [
    {
     "name": "stdout",
     "output_type": "stream",
     "text": [
      "[#0] WARNING:Eval -- The FFT convolution 'model' will run with 50 bins. A decent accuracy for difficult convolutions is typically only reached with n >= 1000. Suggest to increase the number of bins of the observable 'mean'.\n",
      "[#1] INFO:NumericIntegration -- RooRealIntegral::init(gx_Int[mean,x]) using numeric integrator RooIntegrator1D to calculate Int(mean)\n",
      "[#1] INFO:NumericIntegration -- RooRealIntegral::init(model_mean_Int[mean]) using numeric integrator RooIntegrator1D to calculate Int(mean)\n",
      "[#1] INFO:Caching -- RooAbsCachedPdf::getCache(model) creating new cache 0x7f6ed09ac3d0 with pdf gx_CONV_model_mean_CACHE_Obs[x,mean] for nset (x,mean) with code 0\n"
     ]
    }
   ],
   "source": [
    "RooPlot *frame = x.frame(Bins(25));\n",
    "d->plotOn(frame);\n",
    "projModel->plotOn(frame);"
   ]
  },
  {
   "cell_type": "markdown",
   "metadata": {},
   "source": [
    "Make 2d histogram of model(x;mean)"
   ]
  },
  {
   "cell_type": "code",
   "execution_count": 11,
   "metadata": {
    "collapsed": false
   },
   "outputs": [
    {
     "name": "stdout",
     "output_type": "stream",
     "text": [
      "[#0] WARNING:Eval -- The FFT convolution 'model' will run with 50 bins. A decent accuracy for difficult convolutions is typically only reached with n >= 1000. Suggest to increase the number of bins of the observable 'mean'.\n",
      "[#1] INFO:Caching -- RooAbsCachedPdf::getCache(model) creating new cache 0x7f6ed08c3210 with pdf gx_CONV_model_mean_CACHE_Obs[x,mean] for nset (x) with code 0 from preexisting content.\n"
     ]
    }
   ],
   "source": [
    "TH1 *hh = model.createHistogram(\"hh\", x, Binning(50), YVar(mean, Binning(50)), ConditionalObservables(mean));\n",
    "hh->SetTitle(\"histogram of model(x|mean)\");\n",
    "hh->SetLineColor(kBlue);"
   ]
  },
  {
   "cell_type": "markdown",
   "metadata": {},
   "source": [
    "Draw frame on canvas"
   ]
  },
  {
   "cell_type": "code",
   "execution_count": 12,
   "metadata": {
    "collapsed": false
   },
   "outputs": [],
   "source": [
    "TCanvas *c = new TCanvas(\"rf211_paramconv\", \"rf211_paramconv\", 800, 400);\n",
    "c->Divide(2);\n",
    "c->cd(1);\n",
    "gPad->SetLeftMargin(0.15);\n",
    "frame->GetYaxis()->SetTitleOffset(1.4);\n",
    "frame->Draw();\n",
    "c->cd(2);\n",
    "gPad->SetLeftMargin(0.20);\n",
    "hh->GetZaxis()->SetTitleOffset(2.5);\n",
    "hh->Draw(\"surf\");"
   ]
  },
  {
   "cell_type": "markdown",
   "metadata": {},
   "source": [
    "Draw all canvases "
   ]
  },
  {
   "cell_type": "code",
   "execution_count": 13,
   "metadata": {
    "collapsed": false
   },
   "outputs": [
    {
     "data": {
      "image/png": "[encoded data removed]",
      "text/plain": [
       "<IPython.core.display.Image object>"
      ]
     },
     "metadata": {},
     "output_type": "display_data"
    }
   ],
   "source": [
    "gROOT->GetListOfCanvases()->Draw()"
   ]
  }
 ],
 "metadata": {
  "kernelspec": {
   "display_name": "ROOT C++",
   "language": "c++",
   "name": "root"
  },
  "language_info": {
   "codemirror_mode": "text/x-c++src",
   "file_extension": ".C",
   "mimetype": " text/x-c++src",
   "name": "c++"
  }
 },
 "nbformat": 4,
 "nbformat_minor": 2
}
