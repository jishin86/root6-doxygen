{
 "cells": [
  {
   "cell_type": "markdown",
   "metadata": {},
   "source": [
    "# Rs 3 0 1_Splot\n",
    "SPlot tutorial\n",
    "\n",
    "This tutorial shows an example of using SPlot to unfold two distributions.\n",
    "The physics context for the example is that we want to know\n",
    "the isolation distribution for real electrons from Z events\n",
    "and fake electrons from QCD.  Isolation is our 'control' variable\n",
    "To unfold them, we need a model for an uncorrelated variable that\n",
    "discriminates between Z and QCD.  To do this, we use the invariant\n",
    "mass of two electrons.  We model the Z with a Gaussian and the QCD\n",
    "with a falling exponential.\n",
    "\n",
    "Note, since we don't have real data in this tutorial, we need to generate\n",
    "toy data.  To do that we need a model for the isolation variable for\n",
    "both Z and QCD.  This is only used to generate the toy data, and would\n",
    "not be needed if we had real data.\n",
    "\n",
    "\n",
    "\n",
    "\n",
    "**Author:** Kyle Cranmer  \n",
    "<i><small>This notebook tutorial was automatically generated with <a href= \"https://github.com/root-project/root/blob/master/documentation/doxygen/converttonotebook.py\">ROOTBOOK-izer</a> from the macro found in the ROOT repository  on Thursday, August 29, 2019 at 03:15 AM.</small></i>"
   ]
  },
  {
   "cell_type": "code",
   "execution_count": 1,
   "metadata": {
    "collapsed": false
   },
   "outputs": [],
   "source": [
    "%%cpp -d\n",
    "#include \"RooRealVar.h\"\n",
    "#include \"RooStats/SPlot.h\"\n",
    "#include \"RooDataSet.h\"\n",
    "#include \"RooRealVar.h\"\n",
    "#include \"RooGaussian.h\"\n",
    "#include \"RooExponential.h\"\n",
    "#include \"RooChebychev.h\"\n",
    "#include \"RooAddPdf.h\"\n",
    "#include \"RooProdPdf.h\"\n",
    "#include \"RooAddition.h\"\n",
    "#include \"RooProduct.h\"\n",
    "#include \"TCanvas.h\"\n",
    "#include \"RooAbsPdf.h\"\n",
    "#include \"RooFit.h\"\n",
    "#include \"RooFitResult.h\"\n",
    "#include \"RooWorkspace.h\"\n",
    "#include \"RooConstVar.h\""
   ]
  },
  {
   "cell_type": "markdown",
   "metadata": {},
   "source": [
    "Use this order for safety on library loading"
   ]
  },
  {
   "cell_type": "code",
   "execution_count": 2,
   "metadata": {
    "collapsed": false
   },
   "outputs": [],
   "source": [
    "%%cpp -d\n",
    "// This is a workaround to make sure the namespace is used inside functions\n",
    "using namespace RooFit;\n",
    "using namespace RooStats;"
   ]
  },
  {
   "cell_type": "markdown",
   "metadata": {},
   "source": [
    "See below for implementation"
   ]
  },
  {
   "cell_type": "code",
   "execution_count": 3,
   "metadata": {
    "collapsed": false
   },
   "outputs": [],
   "source": [
    "void AddModel(RooWorkspace *);\n",
    "void AddData(RooWorkspace *);\n",
    "void DoSPlot(RooWorkspace *);\n",
    "void MakePlots(RooWorkspace *);"
   ]
  },
  {
   "cell_type": "markdown",
   "metadata": {},
   "source": [
    " ____________________________________\n",
    " "
   ]
  },
  {
   "cell_type": "code",
   "execution_count": 4,
   "metadata": {
    "collapsed": false
   },
   "outputs": [],
   "source": [
    "%%cpp -d\n",
    "void AddModel(RooWorkspace *ws)\n",
    "{\n",
    "\n",
    "   // Make models for signal (Higgs) and background (Z+jets and QCD)\n",
    "   // In real life, this part requires an intelligent modeling\n",
    "   // of signal and background -- this is only an example.\n",
    "\n",
    "   // set range of observable\n",
    "   Double_t lowRange = 00, highRange = 200;\n",
    "\n",
    "   // make a RooRealVar for the observables\n",
    "   RooRealVar invMass(\"invMass\", \"M_{inv}\", lowRange, highRange, \"GeV\");\n",
    "   RooRealVar isolation(\"isolation\", \"isolation\", 0., 20., \"GeV\");\n",
    "\n",
    "   // --------------------------------------\n",
    "   // make 2-d model for Z including the invariant mass\n",
    "   // distribution  and an isolation distribution which we want to\n",
    "   // unfold from QCD.\n",
    "   std::cout << \"make z model\" << std::endl;\n",
    "   // mass model for Z\n",
    "   RooRealVar mZ(\"mZ\", \"Z Mass\", 91.2, lowRange, highRange);\n",
    "   RooRealVar sigmaZ(\"sigmaZ\", \"Width of Gaussian\", 2, 0, 10, \"GeV\");\n",
    "   RooGaussian mZModel(\"mZModel\", \"Z+jets Model\", invMass, mZ, sigmaZ);\n",
    "   // we know Z mass\n",
    "   mZ.setConstant();\n",
    "   // we leave the width of the Z free during the fit in this example.\n",
    "\n",
    "   // isolation model for Z.  Only used to generate toy MC.\n",
    "   // the exponential is of the form exp(c*x).  If we want\n",
    "   // the isolation to decay an e-fold every R GeV, we use\n",
    "   // c = -1/R.\n",
    "   RooConstVar zIsolDecayConst(\"zIsolDecayConst\", \"z isolation decay  constant\", -1);\n",
    "   RooExponential zIsolationModel(\"zIsolationModel\", \"z isolation model\", isolation, zIsolDecayConst);\n",
    "\n",
    "   // make the combined Z model\n",
    "   RooProdPdf zModel(\"zModel\", \"4-d model for Z\", RooArgSet(mZModel, zIsolationModel));\n",
    "\n",
    "   // --------------------------------------\n",
    "   // make QCD model\n",
    "\n",
    "   std::cout << \"make qcd model\" << std::endl;\n",
    "   // mass model for QCD.\n",
    "   // the exponential is of the form exp(c*x).  If we want\n",
    "   // the mass to decay an e-fold every R GeV, we use\n",
    "   // c = -1/R.\n",
    "   // We can leave this parameter free during the fit.\n",
    "   RooRealVar qcdMassDecayConst(\"qcdMassDecayConst\", \"Decay const for QCD mass spectrum\", -0.01, -100, 100, \"1/GeV\");\n",
    "   RooExponential qcdMassModel(\"qcdMassModel\", \"qcd Mass Model\", invMass, qcdMassDecayConst);\n",
    "\n",
    "   // isolation model for QCD.  Only used to generate toy MC\n",
    "   // the exponential is of the form exp(c*x).  If we want\n",
    "   // the isolation to decay an e-fold every R GeV, we use\n",
    "   // c = -1/R.\n",
    "   RooConstVar qcdIsolDecayConst(\"qcdIsolDecayConst\", \"Et resolution constant\", -.1);\n",
    "   RooExponential qcdIsolationModel(\"qcdIsolationModel\", \"QCD isolation model\", isolation, qcdIsolDecayConst);\n",
    "\n",
    "   // make the 2-d model\n",
    "   RooProdPdf qcdModel(\"qcdModel\", \"2-d model for QCD\", RooArgSet(qcdMassModel, qcdIsolationModel));\n",
    "\n",
    "   // --------------------------------------\n",
    "   // combined model\n",
    "\n",
    "   // These variables represent the number of Z or QCD events\n",
    "   // They will be fitted.\n",
    "   RooRealVar zYield(\"zYield\", \"fitted yield for Z\", 50, 0., 1000);\n",
    "   RooRealVar qcdYield(\"qcdYield\", \"fitted yield for QCD\", 100, 0., 1000);\n",
    "\n",
    "   // now make the combined model\n",
    "   std::cout << \"make full model\" << std::endl;\n",
    "   RooAddPdf model(\"model\", \"z+qcd background models\", RooArgList(zModel, qcdModel), RooArgList(zYield, qcdYield));\n",
    "\n",
    "   // interesting for debugging and visualizing the model\n",
    "   model.graphVizTree(\"fullModel.dot\");\n",
    "\n",
    "   std::cout << \"import model\" << std::endl;\n",
    "\n",
    "   ws->import(model);\n",
    "}"
   ]
  },
  {
   "cell_type": "markdown",
   "metadata": {},
   "source": [
    " ____________________________________\n",
    " "
   ]
  },
  {
   "cell_type": "code",
   "execution_count": 5,
   "metadata": {
    "collapsed": false
   },
   "outputs": [],
   "source": [
    "%%cpp -d\n",
    "void AddData(RooWorkspace *ws)\n",
    "{\n",
    "   // Add a toy dataset\n",
    "\n",
    "   // how many events do we want?\n",
    "   Int_t nEvents = 1000;\n",
    "\n",
    "   // get what we need out of the workspace to make toy data\n",
    "   RooAbsPdf *model = ws->pdf(\"model\");\n",
    "   RooRealVar *invMass = ws->var(\"invMass\");\n",
    "   RooRealVar *isolation = ws->var(\"isolation\");\n",
    "\n",
    "   // make the toy data\n",
    "   std::cout << \"make data set and import to workspace\" << std::endl;\n",
    "   RooDataSet *data = model->generate(RooArgSet(*invMass, *isolation), nEvents);\n",
    "\n",
    "   // import data into workspace\n",
    "   ws->import(*data, Rename(\"data\"));\n",
    "}"
   ]
  },
  {
   "cell_type": "markdown",
   "metadata": {},
   "source": [
    " ____________________________________\n",
    " "
   ]
  },
  {
   "cell_type": "code",
   "execution_count": 6,
   "metadata": {
    "collapsed": false
   },
   "outputs": [],
   "source": [
    "%%cpp -d\n",
    "void DoSPlot(RooWorkspace *ws)\n",
    "{\n",
    "   std::cout << \"Calculate sWeights\" << std::endl;\n",
    "\n",
    "   // get what we need out of the workspace to do the fit\n",
    "   RooAbsPdf *model = ws->pdf(\"model\");\n",
    "   RooRealVar *zYield = ws->var(\"zYield\");\n",
    "   RooRealVar *qcdYield = ws->var(\"qcdYield\");\n",
    "   RooDataSet *data = (RooDataSet *)ws->data(\"data\");\n",
    "\n",
    "   // fit the model to the data.\n",
    "   model->fitTo(*data, Extended());\n",
    "\n",
    "   // The sPlot technique requires that we fix the parameters\n",
    "   // of the model that are not yields after doing the fit.\n",
    "   //\n",
    "   // This *could* be done with the lines below, however this is taken care of\n",
    "   // by the RooStats::SPlot constructor (or more precisely the AddSWeight\n",
    "   // method).\n",
    "   //\n",
    "   // RooRealVar* sigmaZ = ws->var(\"sigmaZ\");\n",
    "   // RooRealVar* qcdMassDecayConst = ws->var(\"qcdMassDecayConst\");\n",
    "   // sigmaZ->setConstant();\n",
    "   // qcdMassDecayConst->setConstant();\n",
    "\n",
    "   RooMsgService::instance().setSilentMode(true);\n",
    "\n",
    "   // Now we use the SPlot class to add SWeights to our data set\n",
    "   // based on our model and our yield variables\n",
    "   RooStats::SPlot *sData = new RooStats::SPlot(\"sData\", \"An SPlot\", *data, model, RooArgList(*zYield, *qcdYield));\n",
    "\n",
    "   // Check that our weights have the desired properties\n",
    "\n",
    "   std::cout << \"Check SWeights:\" << std::endl;\n",
    "\n",
    "   std::cout << std::endl\n",
    "             << \"Yield of Z is \" << zYield->getVal() << \".  From sWeights it is \"\n",
    "             << sData->GetYieldFromSWeight(\"zYield\") << std::endl;\n",
    "\n",
    "   std::cout << \"Yield of QCD is \" << qcdYield->getVal() << \".  From sWeights it is \"\n",
    "             << sData->GetYieldFromSWeight(\"qcdYield\") << std::endl\n",
    "             << std::endl;\n",
    "\n",
    "   for (Int_t i = 0; i < 10; i++) {\n",
    "      std::cout << \"z Weight   \" << sData->GetSWeight(i, \"zYield\") << \"   qcd Weight   \"\n",
    "                << sData->GetSWeight(i, \"qcdYield\") << \"  Total Weight   \" << sData->GetSumOfEventSWeight(i)\n",
    "                << std::endl;\n",
    "   }\n",
    "\n",
    "   std::cout << std::endl;\n",
    "\n",
    "   // import this new dataset with sWeights\n",
    "   std::cout << \"import new dataset with sWeights\" << std::endl;\n",
    "   ws->import(*data, Rename(\"dataWithSWeights\"));\n",
    "}"
   ]
  },
  {
   "cell_type": "markdown",
   "metadata": {},
   "source": [
    " A helper function is created: "
   ]
  },
  {
   "cell_type": "code",
   "execution_count": 7,
   "metadata": {
    "collapsed": false
   },
   "outputs": [],
   "source": [
    "%%cpp -d\n",
    "void MakePlots(RooWorkspace *ws)\n",
    "{\n",
    "\n",
    "   // Here we make plots of the discriminating variable (invMass) after the fit\n",
    "   // and of the control variable (isolation) after unfolding with sPlot.\n",
    "   std::cout << \"make plots\" << std::endl;\n",
    "\n",
    "   // make our canvas\n",
    "   TCanvas *cdata = new TCanvas(\"sPlot\", \"sPlot demo\", 400, 600);\n",
    "   cdata->Divide(1, 3);\n",
    "\n",
    "   // get what we need out of the workspace\n",
    "   RooAbsPdf *model = ws->pdf(\"model\");\n",
    "   RooAbsPdf *zModel = ws->pdf(\"zModel\");\n",
    "   RooAbsPdf *qcdModel = ws->pdf(\"qcdModel\");\n",
    "\n",
    "   RooRealVar *isolation = ws->var(\"isolation\");\n",
    "   RooRealVar *invMass = ws->var(\"invMass\");\n",
    "\n",
    "   // note, we get the dataset with sWeights\n",
    "   RooDataSet *data = (RooDataSet *)ws->data(\"dataWithSWeights\");\n",
    "\n",
    "   // this shouldn't be necessary, need to fix something with workspace\n",
    "   // do this to set parameters back to their fitted values.\n",
    "   model->fitTo(*data, Extended());\n",
    "\n",
    "   // plot invMass for data with full model and individual components overlaid\n",
    "   //  TCanvas* cdata = new TCanvas();\n",
    "   cdata->cd(1);\n",
    "   RooPlot *frame = invMass->frame();\n",
    "   data->plotOn(frame);\n",
    "   model->plotOn(frame);\n",
    "   model->plotOn(frame, Components(*zModel), LineStyle(kDashed), LineColor(kRed));\n",
    "   model->plotOn(frame, Components(*qcdModel), LineStyle(kDashed), LineColor(kGreen));\n",
    "\n",
    "   frame->SetTitle(\"Fit of model to discriminating variable\");\n",
    "   frame->Draw();\n",
    "\n",
    "   // Now use the sWeights to show isolation distribution for Z and QCD.\n",
    "   // The SPlot class can make this easier, but here we demonstrate in more\n",
    "   // detail how the sWeights are used.  The SPlot class should make this\n",
    "   // very easy and needs some more development.\n",
    "\n",
    "   // Plot isolation for Z component.\n",
    "   // Do this by plotting all events weighted by the sWeight for the Z component.\n",
    "   // The SPlot class adds a new variable that has the name of the corresponding\n",
    "   // yield + \"_sw\".\n",
    "   cdata->cd(2);\n",
    "\n",
    "   // create weighted data set\n",
    "   RooDataSet *dataw_z = new RooDataSet(data->GetName(), data->GetTitle(), data, *data->get(), 0, \"zYield_sw\");\n",
    "\n",
    "   RooPlot *frame2 = isolation->frame();\n",
    "   dataw_z->plotOn(frame2, DataError(RooAbsData::SumW2));\n",
    "\n",
    "   frame2->SetTitle(\"isolation distribution for Z\");\n",
    "   frame2->Draw();\n",
    "\n",
    "   // Plot isolation for QCD component.\n",
    "   // Eg. plot all events weighted by the sWeight for the QCD component.\n",
    "   // The SPlot class adds a new variable that has the name of the corresponding\n",
    "   // yield + \"_sw\".\n",
    "   cdata->cd(3);\n",
    "   RooDataSet *dataw_qcd = new RooDataSet(data->GetName(), data->GetTitle(), data, *data->get(), 0, \"qcdYield_sw\");\n",
    "   RooPlot *frame3 = isolation->frame();\n",
    "   dataw_qcd->plotOn(frame3, DataError(RooAbsData::SumW2));\n",
    "\n",
    "   frame3->SetTitle(\"isolation distribution for QCD\");\n",
    "   frame3->Draw();\n",
    "\n",
    "   //  cdata->SaveAs(\"SPlot.gif\");\n",
    "}"
   ]
  },
  {
   "cell_type": "markdown",
   "metadata": {},
   "source": [
    "Create a new workspace to manage the project."
   ]
  },
  {
   "cell_type": "code",
   "execution_count": 8,
   "metadata": {
    "collapsed": false
   },
   "outputs": [
    {
     "name": "stdout",
     "output_type": "stream",
     "text": [
      "\n",
      "\u001b[1mRooFit v3.60 -- Developed by Wouter Verkerke and David Kirkby\u001b[0m \n",
      "                Copyright (C) 2000-2013 NIKHEF, University of California & Stanford University\n",
      "                All rights reserved, please read http://roofit.sourceforge.net/license.txt\n",
      "\n"
     ]
    }
   ],
   "source": [
    "RooWorkspace *wspace = new RooWorkspace(\"myWS\");"
   ]
  },
  {
   "cell_type": "markdown",
   "metadata": {},
   "source": [
    "Add the signal and background models to the workspace.\n",
    " Inside this function you will find a description our model."
   ]
  },
  {
   "cell_type": "code",
   "execution_count": 9,
   "metadata": {
    "collapsed": false
   },
   "outputs": [
    {
     "name": "stdout",
     "output_type": "stream",
     "text": [
      "make z model\n",
      "make qcd model\n",
      "make full model\n",
      "import model\n",
      "[#1] INFO:ObjectHandling -- RooWorkspace::import(myWS) importing RooAddPdf::model\n",
      "[#1] INFO:ObjectHandling -- RooWorkspace::import(myWS) importing RooProdPdf::zModel\n",
      "[#1] INFO:ObjectHandling -- RooWorkspace::import(myWS) importing RooGaussian::mZModel\n",
      "[#1] INFO:ObjectHandling -- RooWorkspace::import(myWS) importing RooRealVar::invMass\n",
      "[#1] INFO:ObjectHandling -- RooWorkspace::import(myWS) importing RooRealVar::mZ\n",
      "[#1] INFO:ObjectHandling -- RooWorkspace::import(myWS) importing RooRealVar::sigmaZ\n",
      "[#1] INFO:ObjectHandling -- RooWorkspace::import(myWS) importing RooExponential::zIsolationModel\n",
      "[#1] INFO:ObjectHandling -- RooWorkspace::import(myWS) importing RooRealVar::isolation\n",
      "[#1] INFO:ObjectHandling -- RooWorkspace::import(myWS) importing RooConstVar::zIsolDecayConst\n",
      "[#1] INFO:ObjectHandling -- RooWorkspace::import(myWS) importing RooRealVar::zYield\n",
      "[#1] INFO:ObjectHandling -- RooWorkspace::import(myWS) importing RooProdPdf::qcdModel\n",
      "[#1] INFO:ObjectHandling -- RooWorkspace::import(myWS) importing RooExponential::qcdMassModel\n",
      "[#1] INFO:ObjectHandling -- RooWorkspace::import(myWS) importing RooRealVar::qcdMassDecayConst\n",
      "[#1] INFO:ObjectHandling -- RooWorkspace::import(myWS) importing RooExponential::qcdIsolationModel\n",
      "[#1] INFO:ObjectHandling -- RooWorkspace::import(myWS) importing RooConstVar::qcdIsolDecayConst\n",
      "[#1] INFO:ObjectHandling -- RooWorkspace::import(myWS) importing RooRealVar::qcdYield\n"
     ]
    }
   ],
   "source": [
    "AddModel(wspace);"
   ]
  },
  {
   "cell_type": "markdown",
   "metadata": {},
   "source": [
    "Add some toy data to the workspace"
   ]
  },
  {
   "cell_type": "code",
   "execution_count": 10,
   "metadata": {
    "collapsed": false
   },
   "outputs": [
    {
     "name": "stdout",
     "output_type": "stream",
     "text": [
      "make data set and import to workspace\n",
      "[#1] INFO:ObjectHandling -- RooWorkspace::import(myWS) importing dataset modelData\n",
      "[#1] INFO:ObjectHandling -- RooWorkSpace::import(myWS) changing name of dataset from  modelData to data\n"
     ]
    }
   ],
   "source": [
    "AddData(wspace);"
   ]
  },
  {
   "cell_type": "markdown",
   "metadata": {},
   "source": [
    "Inspect the workspace if you wish\n",
    "  wspace->Print();"
   ]
  },
  {
   "cell_type": "markdown",
   "metadata": {},
   "source": [
    "Do splot.\n",
    " This wil make a new dataset with sWeights added for every event."
   ]
  },
  {
   "cell_type": "code",
   "execution_count": 11,
   "metadata": {
    "collapsed": false
   },
   "outputs": [
    {
     "name": "stdout",
     "output_type": "stream",
     "text": [
      "Calculate sWeights\n",
      "[#1] INFO:Minization -- createNLL: caching constraint set under name CONSTR_OF_PDF_model_FOR_OBS_invMass:isolation with 0 entries\n",
      "[#1] INFO:Minization -- RooMinimizer::optimizeConst: activating const optimization\n",
      "[#1] INFO:Minization --  The following expressions have been identified as constant and will be precalculated and cached: (zIsolationModel,qcdIsolationModel)\n",
      "[#1] INFO:Minization --  The following expressions will be evaluated in cache-and-track mode: (mZModel,qcdMassModel)\n",
      " **********\n",
      " **    1 **SET PRINT           1\n",
      " **********\n",
      " **********\n",
      " **    2 **SET NOGRAD\n",
      " **********\n",
      " PARAMETER DEFINITIONS:\n",
      "    NO.   NAME         VALUE      STEP SIZE      LIMITS\n",
      "     1 qcdMassDecayConst  -1.00000e-02  2.00000e+01   -1.00000e+02  1.00000e+02\n",
      "     2 qcdYield     1.00000e+02  5.00000e+01    0.00000e+00  1.00000e+03\n",
      "     3 sigmaZ       2.00000e+00  1.00000e+00    0.00000e+00  1.00000e+01\n",
      "     4 zYield       5.00000e+01  2.50000e+01    0.00000e+00  1.00000e+03\n",
      " **********\n",
      " **    3 **SET ERR         0.5\n",
      " **********\n",
      " **********\n",
      " **    4 **SET PRINT           1\n",
      " **********\n",
      " **********\n",
      " **    5 **SET STR           1\n",
      " **********\n",
      " NOW USING STRATEGY  1: TRY TO BALANCE SPEED AGAINST RELIABILITY\n",
      " **********\n",
      " **    6 **MIGRAD        2000           1\n",
      " **********\n",
      " FIRST CALL TO USER FUNCTION AT NEW START POINT, WITH IFLAG=4.\n",
      " START MIGRAD MINIMIZATION.  STRATEGY  1.  CONVERGENCE WHEN EDM .LT. 1.00e-03\n",
      " FCN=1901.86 FROM MIGRAD    STATUS=INITIATE       18 CALLS          19 TOTAL\n",
      "                     EDM= unknown      STRATEGY= 1      NO ERROR MATRIX       \n",
      "  EXT PARAMETER               CURRENT GUESS       STEP         FIRST   \n",
      "  NO.   NAME      VALUE            ERROR          SIZE      DERIVATIVE \n",
      "   1  qcdMassDecayConst  -1.00000e-02   2.00000e+01   2.01358e-01  -1.06814e+05\n",
      "   2  qcdYield     1.00000e+02   5.00000e+01   1.72186e-01  -1.57317e+03\n",
      "   3  sigmaZ       2.00000e+00   1.00000e+00   2.57889e-01   3.62916e+01\n",
      "   4  zYield       5.00000e+01   2.50000e+01   1.18625e-01  -1.41930e+03\n",
      "                               ERR DEF= 0.5\n",
      " MIGRAD MINIMIZATION HAS CONVERGED.\n",
      " MIGRAD WILL VERIFY CONVERGENCE AND ERROR MATRIX.\n",
      " COVARIANCE MATRIX CALCULATED SUCCESSFULLY\n",
      " FCN=849.923 FROM MIGRAD    STATUS=CONVERGED     110 CALLS         111 TOTAL\n",
      "                     EDM=3.1409e-06    STRATEGY= 1      ERROR MATRIX ACCURATE \n",
      "  EXT PARAMETER                                   STEP         FIRST   \n",
      "  NO.   NAME      VALUE            ERROR          SIZE      DERIVATIVE \n",
      "   1  qcdMassDecayConst  -9.30176e-03   7.55562e-04   1.52115e-07   2.51004e+01\n",
      "   2  qcdYield     6.22140e+02   2.52789e+01   1.04861e-03  -1.45735e-02\n",
      "   3  sigmaZ       1.95257e+00   8.09927e-02   4.09416e-04  -7.77193e-02\n",
      "   4  zYield       3.77836e+02   1.98770e+01   8.24140e-04  -6.51095e-03\n",
      "                               ERR DEF= 0.5\n",
      " EXTERNAL ERROR MATRIX.    NDIM=  25    NPAR=  4    ERR DEF=0.5\n",
      "  5.709e-07  1.999e-04 -1.007e-06 -1.999e-04 \n",
      "  1.999e-04  6.396e+02 -9.256e-02 -1.747e+01 \n",
      " -1.007e-06 -9.256e-02  6.561e-03  9.257e-02 \n",
      " -1.999e-04 -1.747e+01  9.257e-02  3.953e+02 \n",
      " PARAMETER  CORRELATION COEFFICIENTS  \n",
      "       NO.  GLOBAL      1      2      3      4\n",
      "        1  0.02260   1.000  0.010 -0.016 -0.013\n",
      "        2  0.05626   0.010  1.000 -0.045 -0.035\n",
      "        3  0.07351  -0.016 -0.045  1.000  0.057\n",
      "        4  0.06697  -0.013 -0.035  0.057  1.000\n",
      " **********\n",
      " **    7 **SET ERR         0.5\n",
      " **********\n",
      " **********\n",
      " **    8 **SET PRINT           1\n",
      " **********\n",
      " **********\n",
      " **    9 **HESSE        2000\n",
      " **********\n",
      " COVARIANCE MATRIX CALCULATED SUCCESSFULLY\n",
      " FCN=849.923 FROM HESSE     STATUS=OK             23 CALLS         134 TOTAL\n",
      "                     EDM=3.13931e-06    STRATEGY= 1      ERROR MATRIX ACCURATE \n",
      "  EXT PARAMETER                                INTERNAL      INTERNAL  \n",
      "  NO.   NAME      VALUE            ERROR       STEP SIZE       VALUE   \n",
      "   1  qcdMassDecayConst  -9.30176e-03   7.55563e-04   3.04229e-08  -9.30176e-05\n",
      "   2  qcdYield     6.22140e+02   2.52790e+01   2.09721e-04   2.46778e-01\n",
      "   3  sigmaZ       1.95257e+00   8.09935e-02   8.18832e-05  -6.55413e-01\n",
      "   4  zYield       3.77836e+02   1.98772e+01   1.64828e-04  -2.46827e-01\n",
      "                               ERR DEF= 0.5\n",
      " EXTERNAL ERROR MATRIX.    NDIM=  25    NPAR=  4    ERR DEF=0.5\n",
      "  5.709e-07  2.002e-04 -1.009e-06 -2.002e-04 \n",
      "  2.002e-04  6.396e+02 -9.273e-02 -1.749e+01 \n",
      " -1.009e-06 -9.273e-02  6.561e-03  9.273e-02 \n",
      " -2.002e-04 -1.749e+01  9.273e-02  3.953e+02 \n",
      " PARAMETER  CORRELATION COEFFICIENTS  \n",
      "       NO.  GLOBAL      1      2      3      4\n",
      "        1  0.02264   1.000  0.010 -0.016 -0.013\n",
      "        2  0.05634   0.010  1.000 -0.045 -0.035\n",
      "        3  0.07364  -0.016 -0.045  1.000  0.058\n",
      "        4  0.06707  -0.013 -0.035  0.058  1.000\n",
      "[#1] INFO:Minization -- RooMinimizer::optimizeConst: deactivating const optimization\n",
      "[#1] INFO:Minization -- createNLL picked up cached consraints from workspace with 0 entries\n",
      "[#1] INFO:Minization -- RooMinimizer::optimizeConst: activating const optimization\n",
      "[#1] INFO:Minization --  The following expressions have been identified as constant and will be precalculated and cached: (zModel,qcdModel)\n",
      "[#1] INFO:Fitting -- RooAbsPdf::fitTo(model) Calculating sum-of-weights-squared correction matrix for covariance matrix\n",
      "[#1] INFO:Minization -- RooMinimizer::optimizeConst: deactivating const optimization\n",
      "[#1] INFO:InputArguments -- Printing Yields\n",
      "RooArgList:: = (zYield,qcdYield)\n",
      "[#1] INFO:InputArguments -- yield in pdf: zYield 377.841\n",
      "[#1] INFO:InputArguments -- yield in pdf: qcdYield 622.16\n",
      "[#1] INFO:Eval -- Checking Likelihood normalization:  \n",
      "[#1] INFO:Eval -- Yield of specie  Sum of Row in Matrix   Norm\n",
      "[#1] INFO:Eval -- 377.841 377.842 0.999999\n",
      "[#1] INFO:Eval -- 622.16 622.16 0.999999\n",
      "[#1] INFO:Eval -- Calculating sWeight\n",
      "Check SWeights:\n",
      "\n",
      "Yield of Z is 377.841.  From sWeights it is 377.841\n",
      "Yield of QCD is 622.16.  From sWeights it is 622.16\n",
      "\n",
      "z Weight   -0.0259121   qcd Weight   1.02591  Total Weight   1\n",
      "z Weight   -0.0259121   qcd Weight   1.02591  Total Weight   1\n",
      "z Weight   1.02602   qcd Weight   -0.0260232  Total Weight   1\n",
      "z Weight   1.01358   qcd Weight   -0.0135828  Total Weight   1\n",
      "z Weight   -0.0259121   qcd Weight   1.02591  Total Weight   1\n",
      "z Weight   1.02684   qcd Weight   -0.0268354  Total Weight   1\n",
      "z Weight   -0.0259121   qcd Weight   1.02591  Total Weight   1\n",
      "z Weight   -0.0259121   qcd Weight   1.02591  Total Weight   1\n",
      "z Weight   1.03438   qcd Weight   -0.0343802  Total Weight   1\n",
      "z Weight   0.910182   qcd Weight   0.0898196  Total Weight   1\n",
      "\n",
      "import new dataset with sWeights\n",
      "[#1] INFO:ObjectHandling -- RooWorkspace::import(myWS) importing dataset data\n",
      "[#1] INFO:ObjectHandling -- RooWorkSpace::import(myWS) changing name of dataset from  data to dataWithSWeights\n",
      "[#1] INFO:ObjectHandling -- RooWorkspace::import(myWS) importing RooRealVar::zYield_sw\n",
      "[#1] INFO:ObjectHandling -- RooWorkspace::import(myWS) importing RooRealVar::L_zYield\n",
      "[#1] INFO:ObjectHandling -- RooWorkspace::import(myWS) importing RooRealVar::qcdYield_sw\n",
      "[#1] INFO:ObjectHandling -- RooWorkspace::import(myWS) importing RooRealVar::L_qcdYield\n"
     ]
    }
   ],
   "source": [
    "DoSPlot(wspace);"
   ]
  },
  {
   "cell_type": "markdown",
   "metadata": {},
   "source": [
    "Make some plots showing the discriminating variable and\n",
    " the control variable after unfolding."
   ]
  },
  {
   "cell_type": "code",
   "execution_count": 12,
   "metadata": {
    "collapsed": false
   },
   "outputs": [
    {
     "name": "stdout",
     "output_type": "stream",
     "text": [
      "make plots\n",
      "[#1] INFO:Minization -- createNLL: caching constraint set under name CONSTR_OF_PDF_model_FOR_OBS_L_qcdYield:L_zYield:invMass:isolation:qcdYield_sw:zYield_sw with 0 entries\n",
      "[#1] INFO:Minization -- RooMinimizer::optimizeConst: activating const optimization\n",
      "[#1] INFO:Minization --  The following expressions have been identified as constant and will be precalculated and cached: (zIsolationModel,qcdIsolationModel)\n",
      "[#1] INFO:Minization --  The following expressions will be evaluated in cache-and-track mode: (mZModel,qcdMassModel)\n",
      "[#1] INFO:Minization -- RooMinimizer::optimizeConst: deactivating const optimization\n",
      "[#1] INFO:Plotting -- RooAbsReal::plotOn(model) plot on invMass integrates over variables (isolation)\n",
      "[#1] INFO:Plotting -- RooAbsPdf::plotOn(model) directly selected PDF components: (zModel)\n",
      "[#1] INFO:Plotting -- RooAbsPdf::plotOn(model) indirectly selected PDF components: (mZModel,zIsolationModel)\n",
      "[#1] INFO:Plotting -- RooAbsReal::plotOn(model) plot on invMass integrates over variables (isolation)\n",
      "[#1] INFO:Plotting -- RooAbsPdf::plotOn(model) directly selected PDF components: (qcdModel)\n",
      "[#1] INFO:Plotting -- RooAbsPdf::plotOn(model) indirectly selected PDF components: (qcdMassModel,qcdIsolationModel)\n",
      "[#1] INFO:Plotting -- RooAbsReal::plotOn(model) plot on invMass integrates over variables (isolation)\n"
     ]
    }
   ],
   "source": [
    "MakePlots(wspace);"
   ]
  },
  {
   "cell_type": "markdown",
   "metadata": {},
   "source": [
    "Cleanup"
   ]
  },
  {
   "cell_type": "code",
   "execution_count": 13,
   "metadata": {
    "collapsed": false
   },
   "outputs": [],
   "source": [
    "delete wspace;"
   ]
  },
  {
   "cell_type": "markdown",
   "metadata": {},
   "source": [
    "Draw all canvases "
   ]
  },
  {
   "cell_type": "code",
   "execution_count": 14,
   "metadata": {
    "collapsed": false
   },
   "outputs": [
    {
     "data": {
      "text/html": [
       "\n",
       "<div id=\"root_plot_1\"\n",
       "     style=\"width: 396px; height: 572px\">\n",
       "</div>\n",
       "\n",
       "<script>\n",
       " requirejs.config({\n",
       "     paths: {\n",
       "       'JSRootCore' : 'https://root.cern.ch/js/notebook//scripts/JSRootCore',\n",
       "     }\n",
       "   });\n",
       " require(['JSRootCore'],\n",
       "     function(Core) {\n",
       "       var obj = Core.JSONR_unref({\"_typename\":\"TCanvas\",\"fUniqueID\":0,\"fBits\":53673992,\"fLineColor\":1,\"fLineStyle\":1,\"fLineWidth\":1,\"fFillColor\":0,\"fFillStyle\":1001,\"fLeftMargin\":0.1,\"fRightMargin\":0.1,\"fBottomMargin\":0.1,\"fTopMargin\":0.1,\"fXfile\":2,\"fYfile\":2,\"fAfile\":1,\"fXstat\":0.99,\"fYstat\":0.99,\"fAstat\":2,\"fFrameFillColor\":0,\"fFrameLineColor\":1,\"fFrameFillStyle\":1001,\"fFrameLineStyle\":1,\"fFrameLineWidth\":1,\"fFrameBorderSize\":1,\"fFrameBorderMode\":0,\"fX1\":0,\"fY1\":0,\"fX2\":1,\"fY2\":1,\"fXtoAbsPixelk\":5e-5,\"fXtoPixelk\":5e-5,\"fXtoPixel\":396,\"fYtoAbsPixelk\":572.00005,\"fYtoPixelk\":572.00005,\"fYtoPixel\":-572,\"fUtoAbsPixelk\":5e-5,\"fUtoPixelk\":5e-5,\"fUtoPixel\":396,\"fVtoAbsPixelk\":572.00005,\"fVtoPixelk\":572,\"fVtoPixel\":-572,\"fAbsPixeltoXk\":0,\"fPixeltoXk\":0,\"fPixeltoX\":0.00252525252525253,\"fAbsPixeltoYk\":1,\"fPixeltoYk\":0,\"fPixeltoY\":-0.00174825174825175,\"fXlowNDC\":0,\"fYlowNDC\":0,\"fXUpNDC\":0,\"fYUpNDC\":0,\"fWNDC\":1,\"fHNDC\":1,\"fAbsXlowNDC\":0,\"fAbsYlowNDC\":0,\"fAbsWNDC\":1,\"fAbsHNDC\":1,\"fUxmin\":0,\"fUymin\":0,\"fUxmax\":1,\"fUymax\":1,\"fTheta\":30,\"fPhi\":30,\"fAspectRatio\":0,\"fNumber\":0,\"fTickx\":0,\"fTicky\":0,\"fLogx\":0,\"fLogy\":0,\"fLogz\":0,\"fPadPaint\":0,\"fCrosshair\":0,\"fCrosshairPos\":0,\"fBorderSize\":2,\"fBorderMode\":0,\"fModified\":false,\"fGridx\":false,\"fGridy\":false,\"fAbsCoord\":false,\"fEditable\":true,\"fFixedAspectRatio\":false,\"fPrimitives\":{\"_typename\":\"TList\",\"name\":\"TList\",\"arr\":[{\"_typename\":\"TPad\",\"fUniqueID\":0,\"fBits\":50331657,\"fLineColor\":1,\"fLineStyle\":1,\"fLineWidth\":1,\"fFillColor\":0,\"fFillStyle\":1001,\"fLeftMargin\":0.1,\"fRightMargin\":0.1,\"fBottomMargin\":0.1,\"fTopMargin\":0.1,\"fXfile\":2,\"fYfile\":2,\"fAfile\":1,\"fXstat\":0.99,\"fYstat\":0.99,\"fAstat\":2,\"fFrameFillColor\":0,\"fFrameLineColor\":1,\"fFrameFillStyle\":1001,\"fFrameLineStyle\":1,\"fFrameLineWidth\":1,\"fFrameBorderSize\":1,\"fFrameBorderMode\":0,\"fX1\":-25.0000018626453,\"fY1\":-22.9999549840051,\"fX2\":225.000001862645,\"fY2\":206.999581147005,\"fXtoAbsPixelk\":42.7680522423268,\"fXtoPixelk\":38.8080523308397,\"fXtoPixel\":1.55231997757673,\"fYtoAbsPixelk\":167.024049034007,\"fYtoPixelk\":161.304049161859,\"fYtoPixel\":-0.779247949527521,\"fUtoAbsPixelk\":3.9600499114871,\"fUtoPixelk\":5e-5,\"fUtoPixel\":388.080000177026,\"fVtoAbsPixelk\":184.946716794519,\"fVtoPixelk\":179.226666922371,\"fVtoPixel\":-179.226666922371,\"fAbsPixeltoXk\":-27.5510222506383,\"fPixeltoXk\":-25.0000018626453,\"fPixeltoX\":0.644197082073931,\"fAbsPixeltoYk\":214.339991700047,\"fPixeltoYk\":-22.9999549840051,\"fPixeltoY\":-1.28328858690783,\"fXlowNDC\":0.00999999977648258,\"fYlowNDC\":0.676666666443149,\"fXUpNDC\":0,\"fYUpNDC\":0,\"fWNDC\":0.980000000447035,\"fHNDC\":0.313333333780368,\"fAbsXlowNDC\":0.00999999977648258,\"fAbsYlowNDC\":0.676666666443149,\"fAbsWNDC\":0.980000000447035,\"fAbsHNDC\":0.313333333780368,\"fUxmin\":0,\"fUymin\":0,\"fUxmax\":200,\"fUymax\":183.999626163,\"fTheta\":30,\"fPhi\":30,\"fAspectRatio\":0,\"fNumber\":1,\"fTickx\":0,\"fTicky\":0,\"fLogx\":0,\"fLogy\":0,\"fLogz\":0,\"fPadPaint\":0,\"fCrosshair\":0,\"fCrosshairPos\":0,\"fBorderSize\":2,\"fBorderMode\":0,\"fModified\":false,\"fGridx\":false,\"fGridy\":false,\"fAbsCoord\":false,\"fEditable\":true,\"fFixedAspectRatio\":false,\"fPrimitives\":{\"_typename\":\"TList\",\"name\":\"TList\",\"arr\":[{\"_typename\":\"TFrame\",\"fUniqueID\":0,\"fBits\":50331656,\"fLineColor\":1,\"fLineStyle\":1,\"fLineWidth\":1,\"fFillColor\":0,\"fFillStyle\":1001,\"fX1\":0,\"fY1\":0,\"fX2\":200,\"fY2\":183.999626163,\"fBorderSize\":1,\"fBorderMode\":0},{\"_typename\":\"TH1D\",\"fUniqueID\":0,\"fBits\":50332168,\"fName\":\"frame_7f83882f5ee0\",\"fTitle\":\"Fit of model to discriminating variable\",\"fLineColor\":602,\"fLineStyle\":1,\"fLineWidth\":1,\"fFillColor\":0,\"fFillStyle\":1001,\"fMarkerColor\":1,\"fMarkerStyle\":1,\"fMarkerSize\":1,\"fNcells\":102,\"fXaxis\":{\"_typename\":\"TAxis\",\"fUniqueID\":0,\"fBits\":50331648,\"fName\":\"xaxis\",\"fTitle\":\"M_{inv} (GeV)\",\"fNdivisions\":510,\"fAxisColor\":1,\"fLabelColor\":1,\"fLabelFont\":42,\"fLabelOffset\":0.005,\"fLabelSize\":0.035,\"fTickLength\":0.03,\"fTitleOffset\":1,\"fTitleSize\":0.035,\"fTitleColor\":1,\"fTitleFont\":42,\"fNbins\":100,\"fXmin\":0,\"fXmax\":200,\"fXbins\":[],\"fFirst\":0,\"fLast\":0,\"fBits2\":0,\"fTimeDisplay\":false,\"fTimeFormat\":\"\",\"fLabels\":null,\"fModLabs\":null},\"fYaxis\":{\"_typename\":\"TAxis\",\"fUniqueID\":0,\"fBits\":50331648,\"fName\":\"yaxis\",\"fTitle\":\"Events \\/ ( 2 GeV )\",\"fNdivisions\":510,\"fAxisColor\":1,\"fLabelColor\":1,\"fLabelFont\":42,\"fLabelOffset\":0.005,\"fLabelSize\":0.035,\"fTickLength\":0.03,\"fTitleOffset\":0,\"fTitleSize\":0.035,\"fTitleColor\":1,\"fTitleFont\":42,\"fNbins\":1,\"fXmin\":0,\"fXmax\":1,\"fXbins\":[],\"fFirst\":0,\"fLast\":0,\"fBits2\":0,\"fTimeDisplay\":false,\"fTimeFormat\":\"\",\"fLabels\":null,\"fModLabs\":null},\"fZaxis\":{\"_typename\":\"TAxis\",\"fUniqueID\":0,\"fBits\":50331648,\"fName\":\"zaxis\",\"fTitle\":\"\",\"fNdivisions\":510,\"fAxisColor\":1,\"fLabelColor\":1,\"fLabelFont\":42,\"fLabelOffset\":0.005,\"fLabelSize\":0.035,\"fTickLength\":0.03,\"fTitleOffset\":1,\"fTitleSize\":0.035,\"fTitleColor\":1,\"fTitleFont\":42,\"fNbins\":1,\"fXmin\":0,\"fXmax\":1,\"fXbins\":[],\"fFirst\":0,\"fLast\":0,\"fBits2\":0,\"fTimeDisplay\":false,\"fTimeFormat\":\"\",\"fLabels\":null,\"fModLabs\":null},\"fBarOffset\":0,\"fBarWidth\":1000,\"fEntries\":1,\"fTsumw\":0,\"fTsumw2\":0,\"fTsumwx\":0,\"fTsumwx2\":0,\"fMaximum\":183.999626163,\"fMinimum\":-1111,\"fNormFactor\":0,\"fContour\":[],\"fSumw2\":[],\"fOption\":\"\",\"fFunctions\":{\"_typename\":\"TList\",\"name\":\"TList\",\"arr\":[],\"opt\":[]},\"fBufferSize\":0,\"fBuffer\":[],\"fBinStatErrOpt\":0,\"fStatOverflows\":2,\"fArray\":[0,183.999626163,0,0,0,0,0,0,0,0,0,0,0,0,0,0,0,0,0,0,0,0,0,0,0,0,0,0,0,0,0,0,0,0,0,0,0,0,0,0,0,0,0,0,0,0,0,0,0,0,0,0,0,0,0,0,0,0,0,0,0,0,0,0,0,0,0,0,0,0,0,0,0,0,0,0,0,0,0,0,0,0,0,0,0,0,0,0,0,0,0,0,0,0,0,0,0,0,0,0,0,0]},{\"_typename\":\"RooHist\",\"fUniqueID\":0,\"fBits\":50332680,\"fName\":\"h_dataWithSWeights\",\"fTitle\":\"Histogram of dataWithSWeights_plot__invMass\",\"fLineColor\":1,\"fLineStyle\":1,\"fLineWidth\":1,\"fFillColor\":0,\"fFillStyle\":1000,\"fMarkerColor\":1,\"fMarkerStyle\":8,\"fMarkerSize\":1,\"fNpoints\":100,\"fX\":[1,3,5,7,9,11,13,15,17,19,21,23,25,27,29,31,33,35,37,39,41,43,45,47,49,51,53,55,57,59,61,63,65,67,69,71,73,75,77,79,81,83,85,87,89,91,93,95,97,99,101,103,105,107,109,111,113,115,117,119,121,123,125,127,129,131,133,135,137,139,141,143,145,147,149,151,153,155,157,159,161,163,165,167,169,171,173,175,177,179,181,183,185,187,189,191,193,195,197,199],\"fY\":[12,19,13,14,12,13,8,13,13,5,10,11,14,11,14,11,12,7,11,8,9,14,10,9,10,8,9,12,5,12,7,6,4,8,6,8,8,7,5,4,2,2,8,22,78,162,107,31,3,8,9,0,7,5,4,7,4,9,5,5,4,5,2,5,3,6,4,6,2,2,0,5,3,4,5,4,3,6,3,5,5,2,5,2,3,2,7,2,1,3,0,4,6,1,0,3,3,2,2,0],\"fFunctions\":{\"_typename\":\"TList\",\"name\":\"TList\",\"arr\":[],\"opt\":[]},\"fHistogram\":{\"_typename\":\"TH1F\",\"fUniqueID\":0,\"fBits\":50332168,\"fName\":\"h_dataWithSWeights\",\"fTitle\":\"Histogram of dataWithSWeights_plot__invMass\",\"fLineColor\":602,\"fLineStyle\":1,\"fLineWidth\":1,\"fFillColor\":0,\"fFillStyle\":1001,\"fMarkerColor\":1,\"fMarkerStyle\":1,\"fMarkerSize\":1,\"fNcells\":102,\"fXaxis\":{\"_typename\":\"TAxis\",\"fUniqueID\":0,\"fBits\":50331648,\"fName\":\"xaxis\",\"fTitle\":\"\",\"fNdivisions\":510,\"fAxisColor\":1,\"fLabelColor\":1,\"fLabelFont\":42,\"fLabelOffset\":0.005,\"fLabelSize\":0.035,\"fTickLength\":0.03,\"fTitleOffset\":1,\"fTitleSize\":0.035,\"fTitleColor\":1,\"fTitleFont\":42,\"fNbins\":100,\"fXmin\":0,\"fXmax\":220,\"fXbins\":[],\"fFirst\":0,\"fLast\":0,\"fBits2\":0,\"fTimeDisplay\":false,\"fTimeFormat\":\"\",\"fLabels\":null,\"fModLabs\":null},\"fYaxis\":{\"_typename\":\"TAxis\",\"fUniqueID\":0,\"fBits\":50331648,\"fName\":\"yaxis\",\"fTitle\":\"\",\"fNdivisions\":510,\"fAxisColor\":1,\"fLabelColor\":1,\"fLabelFont\":42,\"fLabelOffset\":0.005,\"fLabelSize\":0.035,\"fTickLength\":0.03,\"fTitleOffset\":0,\"fTitleSize\":0.035,\"fTitleColor\":1,\"fTitleFont\":42,\"fNbins\":1,\"fXmin\":0,\"fXmax\":192.761513123143,\"fXbins\":[],\"fFirst\":0,\"fLast\":0,\"fBits2\":0,\"fTimeDisplay\":false,\"fTimeFormat\":\"\",\"fLabels\":null,\"fModLabs\":null},\"fZaxis\":{\"_typename\":\"TAxis\",\"fUniqueID\":0,\"fBits\":50331648,\"fName\":\"zaxis\",\"fTitle\":\"\",\"fNdivisions\":510,\"fAxisColor\":1,\"fLabelColor\":1,\"fLabelFont\":42,\"fLabelOffset\":0.005,\"fLabelSize\":0.035,\"fTickLength\":0.03,\"fTitleOffset\":1,\"fTitleSize\":0.035,\"fTitleColor\":1,\"fTitleFont\":42,\"fNbins\":1,\"fXmin\":0,\"fXmax\":1,\"fXbins\":[],\"fFirst\":0,\"fLast\":0,\"fBits2\":0,\"fTimeDisplay\":false,\"fTimeFormat\":\"\",\"fLabels\":null,\"fModLabs\":null},\"fBarOffset\":0,\"fBarWidth\":1000,\"fEntries\":0,\"fTsumw\":0,\"fTsumw2\":0,\"fTsumwx\":0,\"fTsumwx2\":0,\"fMaximum\":192.761513123143,\"fMinimum\":0,\"fNormFactor\":0,\"fContour\":[],\"fSumw2\":[],\"fOption\":\"\",\"fFunctions\":{\"_typename\":\"TList\",\"name\":\"TList\",\"arr\":[],\"opt\":[]},\"fBufferSize\":0,\"fBuffer\":[],\"fBinStatErrOpt\":0,\"fStatOverflows\":2,\"fArray\":[0,0,0,0,0,0,0,0,0,0,0,0,0,0,0,0,0,0,0,0,0,0,0,0,0,0,0,0,0,0,0,0,0,0,0,0,0,0,0,0,0,0,0,0,0,0,0,0,0,0,0,0,0,0,0,0,0,0,0,0,0,0,0,0,0,0,0,0,0,0,0,0,0,0,0,0,0,0,0,0,0,0,0,0,0,0,0,0,0,0,0,0,0,0,0,0,0,0,0,0,0,0]},\"fMinimum\":-1111,\"fMaximum\":-1111,\"fEXlow\":[1,1,1,1,1,1,1,1,1,1,1,1,1,1,1,1,1,1,1,1,1,1,1,1,1,1,1,1,1,1,1,1,1,1,1,1,1,1,1,1,1,1,1,1,1,1,1,1,1,1,1,1,1,1,1,1,1,1,1,1,1,1,1,1,1,1,1,1,1,1,1,1,1,1,1,1,1,1,1,1,1,1,1,1,1,1,1,1,1,1,1,1,1,1,1,1,1,1,1,1],\"fEXhigh\":[1,1,1,1,1,1,1,1,1,1,1,1,1,1,1,1,1,1,1,1,1,1,1,1,1,1,1,1,1,1,1,1,1,1,1,1,1,1,1,1,1,1,1,1,1,1,1,1,1,1,1,1,1,1,1,1,1,1,1,1,1,1,1,1,1,1,1,1,1,1,1,1,1,1,1,1,1,1,1,1,1,1,1,1,1,1,1,1,1,1,1,1,1,1,1,1,1,1,1,1],\"fEYlow\":[3.41526599430015,4.32021937465496,3.5586623304375,3.69650031882412,3.41526599430015,3.5586623304375,2.76838605646272,3.5586623304375,3.5586623304375,2.15969114440678,3.10869443936164,3.26557940095131,3.69650031882412,3.26557940095131,3.69650031882412,3.26557940095131,3.41526599430015,2.58147045606626,3.26557940095131,2.76838605646272,2.94346103725076,3.69650031882412,3.10869443936164,2.94346103725076,3.10869443936164,2.76838605646272,2.94346103725076,3.41526599430015,2.15969114440678,3.41526599430015,2.58147045606626,2.37993137929577,1.91433918622288,2.76838605646272,2.37993137929577,2.76838605646272,2.76838605646272,2.58147045606626,2.15969114440678,1.91433918622288,1.29181456018103,1.29181456018103,2.76838605646272,4.65450239544497,8.81278816273145,12.237739202857,9.85615758860399,5.53756532580577,1.63270468610957,2.76838605646272,2.94346103725076,0,2.58147045606626,2.15969114440678,1.91433918622288,2.58147045606626,1.91433918622288,2.94346103725076,2.15969114440678,2.15969114440678,1.91433918622288,2.15969114440678,1.29181456018103,2.15969114440678,1.63270468610957,2.37993137929577,1.91433918622288,2.37993137929577,1.29181456018103,1.29181456018103,0,2.15969114440678,1.63270468610957,1.91433918622288,2.15969114440678,1.91433918622288,1.63270468610957,2.37993137929577,1.63270468610957,2.15969114440678,2.15969114440678,1.29181456018103,2.15969114440678,1.29181456018103,1.63270468610957,1.29181456018103,2.58147045606626,1.29181456018103,0.82724622097655,1.63270468610957,0,1.91433918622288,2.37993137929577,0.82724622097655,0,1.63270468610957,1.63270468610957,1.29181456018103,1.29181456018103,0],\"fEYhigh\":[4.55981905739127,5.4351961614818,4.69757337260906,4.83038075568817,4.55981905739127,4.69757337260906,3.94514151986907,4.69757337260906,4.69757337260906,3.38247265214689,4.26694976100939,4.41652052316603,4.83038075568817,4.41652052316603,4.83038075568817,4.41652052316603,4.55981905739127,3.77028072043409,4.41652052316603,3.94514151986907,4.11020413766764,4.83038075568817,4.26694976100939,4.11020413766764,4.26694976100939,3.94514151986907,4.11020413766764,4.55981905739127,3.38247265214689,4.55981905739127,3.77028072043409,3.58364154598457,3.16275317226094,3.94514151986907,3.58364154598457,3.94514151986907,3.94514151986907,3.77028072043409,3.38247265214689,3.16275317226094,2.63785962345524,2.63785962345524,3.94514151986907,5.76136640411342,9.86953088054457,13.237739202857,10.856157588604,6.62760123878468,2.9181858328834,3.94514151986907,4.11020413766764,1.14787446444932,3.77028072043409,3.38247265214689,3.16275317226094,3.77028072043409,3.16275317226094,4.11020413766764,3.38247265214689,3.38247265214689,3.16275317226094,3.38247265214689,2.63785962345524,3.38247265214689,2.9181858328834,3.58364154598457,3.16275317226094,3.58364154598457,2.63785962345524,2.63785962345524,1.14787446444932,3.38247265214689,2.9181858328834,3.16275317226094,3.38247265214689,3.16275317226094,2.9181858328834,3.58364154598457,2.9181858328834,3.38247265214689,3.38247265214689,2.63785962345524,3.38247265214689,2.63785962345524,2.9181858328834,2.63785962345524,3.77028072043409,2.63785962345524,2.29952655911586,2.9181858328834,1.14787446444932,3.16275317226094,3.58364154598457,2.29952655911586,1.14787446444932,2.9181858328834,2.9181858328834,2.63785962345524,2.63785962345524,1.14787446444932],\"_yAxisLabel\":\"Events \\/ ( 2 GeV )\",\"_ymin\":0,\"_ymax\":175.237739202857,\"_normValue\":0,\"_nominalBinWidth\":2,\"_nSigma\":1,\"_entries\":1000,\"_rawEntries\":-1},{\"_typename\":\"RooCurve\",\"fUniqueID\":0,\"fBits\":50332680,\"fName\":\"model_Int[isolation]_Norm[invMass,isolation]\",\"fTitle\":\"Projection of z+qcd background models\",\"fLineColor\":600,\"fLineStyle\":1,\"fLineWidth\":3,\"fFillColor\":0,\"fFillStyle\":1000,\"fMarkerColor\":1,\"fMarkerStyle\":1,\"fMarkerSize\":1,\"fNpoints\":148,\"fX\":[-2,-2,0,2,4,6,8,10,12,14,16,18,20,22,24,26,28,30,32,34,36,38,40,42,44,46,48,50,52,54,56,58,60,62,64,66,68,70,72,74,76,78,80,82,84,84.5,85,85.5,85.75,86,86.25,86.5,86.75,87,87.25,87.5,87.75,88,88.25,88.5,88.75,89,89.5,89.75,90,90.25,90.5,90.75,91,91.25,91.5,91.75,92,92.25,92.5,92.75,93,93.5,93.75,94,94.25,94.5,94.75,95,95.25,95.5,95.75,96,96.25,96.5,96.75,97,97.5,98,100,102,104,106,108,110,112,114,116,118,120,122,124,126,128,130,132,134,136,138,140,142,144,146,148,150,152,154,156,158,160,162,164,166,168,170,172,174,176,178,180,182,184,186,188,190,192,194,196,198,200,200,202,202],\"fY\":[0,13.7076237783621,13.7076237783621,13.454967246122,13.2069676350459,12.9635391095748,12.7245974162556,12.49005985458,12.2598452483612,12.0338739176378,11.8120676510954,11.5943496789971,11.3806446466121,11.1708785881352,10.9649789010859,10.7628743211799,10.5644948976639,10.3697719691045,10.1786381396241,9.99102725557394,9.80687438263799,9.6261157833581,9.44868889507387,9.27453230826893,9.10358574531644,8.93579003961626,8.77108711511671,8.60941996621376,8.45073263802077,8.29497020700179,8.14207876196191,7.99200538538799,7.84469813513325,7.70010602643951,7.55817901429077,7.41886797609203,7.28212469466743,7.14790184157165,7.01615296070905,6.88683245225465,6.75989555688222,6.63529835866132,6.51300876771839,6.39528711786611,6.44745418495185,6.67471966229697,7.21585444163056,8.36759095452082,9.31493065724459,10.6130771517662,12.3570052912855,14.6542365635685,17.6215060977682,21.3792841491382,26.0439831090066,31.7179250744235,38.477462082414,46.3600028450712,55.3510604070591,65.3727351754763,76.2752221033058,87.8329198866855,111.651683655161,123.135271949403,133.757202573635,143.077751975913,150.687293168199,156.235963154731,159.460245971553,160.20366261715,158.429306346046,154.22282503967,147.785515075048,139.418302105132,129.498383821392,118.451057900259,106.719658077121,82.8976621097379,71.5428325899778,60.9425631410393,51.2920242648194,42.7115003725906,35.2523009154348,28.90665756178,23.619999773696,19.3040705635529,15.849576566177,13.1373985308338,11.047755881637,9.46706742583236,8.29254052841714,7.43473182874092,6.38241358221487,5.868066760172,5.41336864505156,5.30773162992136,5.20986600323157,5.11383859039688,5.0195812087913,4.92706116286523,4.83624643029941,4.74710557905521,4.65960775644387,4.573722678448,4.48942061923997,4.40667240089338,4.32544938328432,4.24572345417864,4.16746701950198,4.09065299378916,4.01525479080958,3.94124631436539,3.86860194925932,3.79729655242895,3.72730544424441,3.65860439996646,3.59116964136203,3.52497782847429,3.46000605154446,3.39623182308239,3.33363307008348,3.27218812638886,3.21187572518655,3.15267499165073,3.09456543571673,3.03752694498921,2.98153977778095,2.92658455628009,2.87264225984322,2.81969421841213,2.76772210605183,2.7167079346078,2.66663404748005,2.61748311351194,2.56923812099172,2.52188237176451,2.47539947545293,2.42977334378419,2.38498818502172,2.34102849849949,2.29787906925706,2.25552496277347,2.21395151979824,2.17314435127768,2.13308933337459,2.13308933337459,2.13308933337459,0],\"fFunctions\":{\"_typename\":\"TList\",\"name\":\"TList\",\"arr\":[],\"opt\":[]},\"fHistogram\":{\"_typename\":\"TH1F\",\"fUniqueID\":0,\"fBits\":50332168,\"fName\":\"model_Int[isolation]_Norm[invMass,isolation]\",\"fTitle\":\"Projection of z+qcd background models\",\"fLineColor\":602,\"fLineStyle\":1,\"fLineWidth\":1,\"fFillColor\":0,\"fFillStyle\":1001,\"fMarkerColor\":1,\"fMarkerStyle\":1,\"fMarkerSize\":1,\"fNcells\":150,\"fXaxis\":{\"_typename\":\"TAxis\",\"fUniqueID\":0,\"fBits\":50331648,\"fName\":\"xaxis\",\"fTitle\":\"\",\"fNdivisions\":510,\"fAxisColor\":1,\"fLabelColor\":1,\"fLabelFont\":42,\"fLabelOffset\":0.005,\"fLabelSize\":0.035,\"fTickLength\":0.03,\"fTitleOffset\":1,\"fTitleSize\":0.035,\"fTitleColor\":1,\"fTitleFont\":42,\"fNbins\":148,\"fXmin\":-22.4,\"fXmax\":222.4,\"fXbins\":[],\"fFirst\":0,\"fLast\":0,\"fBits2\":0,\"fTimeDisplay\":false,\"fTimeFormat\":\"\",\"fLabels\":null,\"fModLabs\":null},\"fYaxis\":{\"_typename\":\"TAxis\",\"fUniqueID\":0,\"fBits\":50331648,\"fName\":\"yaxis\",\"fTitle\":\"\",\"fNdivisions\":510,\"fAxisColor\":1,\"fLabelColor\":1,\"fLabelFont\":42,\"fLabelOffset\":0.005,\"fLabelSize\":0.035,\"fTickLength\":0.03,\"fTitleOffset\":0,\"fTitleSize\":0.035,\"fTitleColor\":1,\"fTitleFont\":42,\"fNbins\":1,\"fXmin\":0,\"fXmax\":176.224028878865,\"fXbins\":[],\"fFirst\":0,\"fLast\":0,\"fBits2\":0,\"fTimeDisplay\":false,\"fTimeFormat\":\"\",\"fLabels\":null,\"fModLabs\":null},\"fZaxis\":{\"_typename\":\"TAxis\",\"fUniqueID\":0,\"fBits\":50331648,\"fName\":\"zaxis\",\"fTitle\":\"\",\"fNdivisions\":510,\"fAxisColor\":1,\"fLabelColor\":1,\"fLabelFont\":42,\"fLabelOffset\":0.005,\"fLabelSize\":0.035,\"fTickLength\":0.03,\"fTitleOffset\":1,\"fTitleSize\":0.035,\"fTitleColor\":1,\"fTitleFont\":42,\"fNbins\":1,\"fXmin\":0,\"fXmax\":1,\"fXbins\":[],\"fFirst\":0,\"fLast\":0,\"fBits2\":0,\"fTimeDisplay\":false,\"fTimeFormat\":\"\",\"fLabels\":null,\"fModLabs\":null},\"fBarOffset\":0,\"fBarWidth\":1000,\"fEntries\":0,\"fTsumw\":0,\"fTsumw2\":0,\"fTsumwx\":0,\"fTsumwx2\":0,\"fMaximum\":176.224028878865,\"fMinimum\":0,\"fNormFactor\":0,\"fContour\":[],\"fSumw2\":[],\"fOption\":\"\",\"fFunctions\":{\"_typename\":\"TList\",\"name\":\"TList\",\"arr\":[],\"opt\":[]},\"fBufferSize\":0,\"fBuffer\":[],\"fBinStatErrOpt\":0,\"fStatOverflows\":2,\"fArray\":[0,0,0,0,0,0,0,0,0,0,0,0,0,0,0,0,0,0,0,0,0,0,0,0,0,0,0,0,0,0,0,0,0,0,0,0,0,0,0,0,0,0,0,0,0,0,0,0,0,0,0,0,0,0,0,0,0,0,0,0,0,0,0,0,0,0,0,0,0,0,0,0,0,0,0,0,0,0,0,0,0,0,0,0,0,0,0,0,0,0,0,0,0,0,0,0,0,0,0,0,0,0,0,0,0,0,0,0,0,0,0,0,0,0,0,0,0,0,0,0,0,0,0,0,0,0,0,0,0,0,0,0,0,0,0,0,0,0,0,0,0,0,0,0,0,0,0,0,0,0]},\"fMinimum\":-1111,\"fMaximum\":-1111,\"_yAxisLabel\":\"Projection of z+qcd background models ( \\/ GeV )\",\"_ymin\":0,\"_ymax\":160.20366261715,\"_normValue\":0},{\"_typename\":\"RooCurve\",\"fUniqueID\":0,\"fBits\":50332680,\"fName\":\"model_Int[isolation]_Norm[invMass,isolation]_Comp[zModel]\",\"fTitle\":\"Projection of z+qcd background models\",\"fLineColor\":632,\"fLineStyle\":2,\"fLineWidth\":3,\"fFillColor\":0,\"fFillStyle\":1000,\"fMarkerColor\":1,\"fMarkerStyle\":1,\"fMarkerSize\":1,\"fNpoints\":148,\"fX\":[-2,-2,0,2,4,6,8,10,12,14,16,18,20,22,24,26,28,30,32,34,36,38,40,42,44,46,48,50,52,54,56,58,60,62,64,66,68,70,72,74,76,78,80,82,84,84.5,85,85.5,85.75,86,86.25,86.5,86.75,87,87.25,87.5,87.75,88,88.25,88.5,88.75,89,89.5,89.75,90,90.25,90.5,90.75,91,91.25,91.5,91.75,92,92.25,92.5,92.75,93,93.5,93.75,94,94.25,94.5,94.75,95,95.25,95.5,95.75,96,96.25,96.5,96.75,97,97.5,98,100,102,104,106,108,110,112,114,116,118,120,122,124,126,128,130,132,134,136,138,140,142,144,146,148,150,152,154,156,158,160,162,164,166,168,170,172,174,176,178,180,182,184,186,188,190,192,194,196,198,200,200,202,202],\"fY\":[0,0,0,0,0,0,0,0,0,0,1.97626258336499e-320,1.10188560948561e-303,3.08326884668172e-287,3.02199802635677e-271,1.03749223715134e-255,1.24762317501785e-240,5.25520798499632e-226,7.75361588362288e-212,4.00706653293257e-198,7.2536521115264e-185,4.59933231835295e-172,1.02150560813665e-159,7.94684273309143e-148,2.16549098270728e-136,2.06693128486608e-125,6.91040650986222e-115,8.09261819034523e-105,3.31957437818988e-95,4.76961862779494e-86,2.40045077086366e-77,4.23165107820463e-69,2.61297223792956e-61,5.65155083411739e-54,4.28162255031428e-47,1.13620584167293e-40,1.05612069909917e-34,3.43857094496837e-29,3.92148286601117e-24,1.56650055248454e-19,2.19188962472152e-15,1.07427311580575e-11,1.84424507309085e-8,1.10899721200688e-5,0.00233587809878157,0.172336708142751,0.428719691712983,0.998836867582991,2.17942129425063,3.14113471794815,4.45362154653495,6.21185671076109,8.52336177576283,11.5048719478834,15.2768575593876,19.9557310784358,25.6438146787318,32.4174604737764,40.3140772519608,49.3191781340699,59.3548636031462,70.2713286879407,81.8429721601826,105.689530203563,117.186967234156,127.82271442725,137.157048305621,144.780341955774,150.342732456318,153.580703917495,154.337777411818,152.577046267663,148.384158440143,141.960410379795,133.60672781291,123.700308504131,112.666450202887,100.948486717398,77.1532698690695,65.8117832755322,55.2248257602114,45.587567896993,37.0202941689709,29.5743140988821,23.2418594266427,17.9683596856449,13.6655579594154,10.2241609537718,7.52504948880617,5.44844305929406,3.88076054297904,2.71920937519247,1.8743462654546,0.847829059602498,0.359163557453019,0.00600458596175645,3.51626636633682e-5,7.21254215630054e-8,5.18206505185365e-11,1.30414311940151e-14,1.14962327082264e-18,3.54971704602111e-23,3.83919192852e-28,1.45443330076481e-33,1.92999281993797e-39,8.97068227411116e-46,1.46050535822671e-52,8.32892079696609e-60,1.66372754824044e-67,1.16408201993185e-75,2.8529414100552e-84,2.44911975959148e-93,7.3643613428376e-103,7.75654033100214e-113,2.86159994191357e-123,3.69792143153872e-134,1.67384152942095e-145,2.65386542291142e-157,1.47384343493434e-169,2.86702648177021e-182,1.95352941751859e-195,4.66247058125516e-209,3.89780538784342e-223,1.14138483124531e-237,1.17071703969074e-252,4.20610083880809e-268,5.29316362463665e-284,2.33323700736737e-300,3.60272668947437e-317,0,0,0,0,0,0,0,0,0,0,0,0,0,0,0,0,0,0,0,0],\"fFunctions\":{\"_typename\":\"TList\",\"name\":\"TList\",\"arr\":[],\"opt\":[]},\"fHistogram\":{\"_typename\":\"TH1F\",\"fUniqueID\":0,\"fBits\":50332168,\"fName\":\"model_Int[isolation]_Norm[invMass,isolation]_Comp[zModel]\",\"fTitle\":\"Projection of z+qcd background models\",\"fLineColor\":602,\"fLineStyle\":1,\"fLineWidth\":1,\"fFillColor\":0,\"fFillStyle\":1001,\"fMarkerColor\":1,\"fMarkerStyle\":1,\"fMarkerSize\":1,\"fNcells\":150,\"fXaxis\":{\"_typename\":\"TAxis\",\"fUniqueID\":0,\"fBits\":50331648,\"fName\":\"xaxis\",\"fTitle\":\"\",\"fNdivisions\":510,\"fAxisColor\":1,\"fLabelColor\":1,\"fLabelFont\":42,\"fLabelOffset\":0.005,\"fLabelSize\":0.035,\"fTickLength\":0.03,\"fTitleOffset\":1,\"fTitleSize\":0.035,\"fTitleColor\":1,\"fTitleFont\":42,\"fNbins\":148,\"fXmin\":-22.4,\"fXmax\":222.4,\"fXbins\":[],\"fFirst\":0,\"fLast\":0,\"fBits2\":0,\"fTimeDisplay\":false,\"fTimeFormat\":\"\",\"fLabels\":null,\"fModLabs\":null},\"fYaxis\":{\"_typename\":\"TAxis\",\"fUniqueID\":0,\"fBits\":50331648,\"fName\":\"yaxis\",\"fTitle\":\"\",\"fNdivisions\":510,\"fAxisColor\":1,\"fLabelColor\":1,\"fLabelFont\":42,\"fLabelOffset\":0.005,\"fLabelSize\":0.035,\"fTickLength\":0.03,\"fTitleOffset\":0,\"fTitleSize\":0.035,\"fTitleColor\":1,\"fTitleFont\":42,\"fNbins\":1,\"fXmin\":0,\"fXmax\":169.771555153,\"fXbins\":[],\"fFirst\":0,\"fLast\":0,\"fBits2\":0,\"fTimeDisplay\":false,\"fTimeFormat\":\"\",\"fLabels\":null,\"fModLabs\":null},\"fZaxis\":{\"_typename\":\"TAxis\",\"fUniqueID\":0,\"fBits\":50331648,\"fName\":\"zaxis\",\"fTitle\":\"\",\"fNdivisions\":510,\"fAxisColor\":1,\"fLabelColor\":1,\"fLabelFont\":42,\"fLabelOffset\":0.005,\"fLabelSize\":0.035,\"fTickLength\":0.03,\"fTitleOffset\":1,\"fTitleSize\":0.035,\"fTitleColor\":1,\"fTitleFont\":42,\"fNbins\":1,\"fXmin\":0,\"fXmax\":1,\"fXbins\":[],\"fFirst\":0,\"fLast\":0,\"fBits2\":0,\"fTimeDisplay\":false,\"fTimeFormat\":\"\",\"fLabels\":null,\"fModLabs\":null},\"fBarOffset\":0,\"fBarWidth\":1000,\"fEntries\":0,\"fTsumw\":0,\"fTsumw2\":0,\"fTsumwx\":0,\"fTsumwx2\":0,\"fMaximum\":169.771555153,\"fMinimum\":0,\"fNormFactor\":0,\"fContour\":[],\"fSumw2\":[],\"fOption\":\"\",\"fFunctions\":{\"_typename\":\"TList\",\"name\":\"TList\",\"arr\":[],\"opt\":[]},\"fBufferSize\":0,\"fBuffer\":[],\"fBinStatErrOpt\":0,\"fStatOverflows\":2,\"fArray\":[0,0,0,0,0,0,0,0,0,0,0,0,0,0,0,0,0,0,0,0,0,0,0,0,0,0,0,0,0,0,0,0,0,0,0,0,0,0,0,0,0,0,0,0,0,0,0,0,0,0,0,0,0,0,0,0,0,0,0,0,0,0,0,0,0,0,0,0,0,0,0,0,0,0,0,0,0,0,0,0,0,0,0,0,0,0,0,0,0,0,0,0,0,0,0,0,0,0,0,0,0,0,0,0,0,0,0,0,0,0,0,0,0,0,0,0,0,0,0,0,0,0,0,0,0,0,0,0,0,0,0,0,0,0,0,0,0,0,0,0,0,0,0,0,0,0,0,0,0,0]},\"fMinimum\":-1111,\"fMaximum\":-1111,\"_yAxisLabel\":\"Projection of z+qcd background models ( \\/ GeV )\",\"_ymin\":0,\"_ymax\":154.337777411818,\"_normValue\":0},{\"_typename\":\"RooCurve\",\"fUniqueID\":0,\"fBits\":50332680,\"fName\":\"model_Int[isolation]_Norm[invMass,isolation]_Comp[qcdModel]\",\"fTitle\":\"Projection of z+qcd background models\",\"fLineColor\":416,\"fLineStyle\":2,\"fLineWidth\":3,\"fFillColor\":0,\"fFillStyle\":1000,\"fMarkerColor\":1,\"fMarkerStyle\":1,\"fMarkerSize\":1,\"fNpoints\":106,\"fX\":[-2,-2,0,2,4,6,8,10,12,14,16,18,20,22,24,26,28,30,32,34,36,38,40,42,44,46,48,50,52,54,56,58,60,62,64,66,68,70,72,74,76,78,80,82,84,86,88,90,92,94,96,98,100,102,104,106,108,110,112,114,116,118,120,122,124,126,128,130,132,134,136,138,140,142,144,146,148,150,152,154,156,158,160,162,164,166,168,170,172,174,176,178,180,182,184,186,188,190,192,194,196,198,200,200,202,202],\"fY\":[0,13.7076237783621,13.7076237783621,13.454967246122,13.2069676350459,12.9635391095748,12.7245974162556,12.49005985458,12.2598452483612,12.0338739176378,11.8120676510954,11.5943496789971,11.3806446466121,11.1708785881352,10.9649789010859,10.7628743211799,10.5644948976639,10.3697719691045,10.1786381396241,9.99102725557394,9.80687438263799,9.6261157833581,9.44868889507387,9.27453230826893,9.10358574531644,8.93579003961626,8.77108711511671,8.60941996621376,8.45073263802077,8.29497020700179,8.14207876196191,7.99200538538799,7.84469813513325,7.70010602643951,7.55817901429077,7.41886797609203,7.28212469466743,7.14790184157165,7.01615296070905,6.88683245225465,6.75989555687147,6.63529834021887,6.51299767774627,6.39295123976733,6.2751174768091,6.15945560523125,6.04592559311043,5.9344881463847,5.82510469525345,5.71773738082788,5.61234904202766,5.50890320271898,5.4073640590898,5.3076964672577,5.20986593110615,5.11383859034506,5.01958120879129,4.92706116286523,4.83624643029941,4.74710557905521,4.65960775644387,4.573722678448,4.48942061923997,4.40667240089338,4.32544938328432,4.24572345417864,4.16746701950198,4.09065299378916,4.01525479080958,3.94124631436539,3.86860194925932,3.79729655242895,3.72730544424441,3.65860439996646,3.59116964136203,3.52497782847429,3.46000605154446,3.39623182308239,3.33363307008348,3.27218812638886,3.21187572518655,3.15267499165073,3.09456543571673,3.03752694498921,2.98153977778095,2.92658455628009,2.87264225984322,2.81969421841213,2.76772210605183,2.7167079346078,2.66663404748005,2.61748311351194,2.56923812099172,2.52188237176451,2.47539947545293,2.42977334378419,2.38498818502172,2.34102849849949,2.29787906925706,2.25552496277347,2.21395151979824,2.17314435127768,2.13308933337459,2.13308933337459,2.13308933337459,0],\"fFunctions\":{\"_typename\":\"TList\",\"name\":\"TList\",\"arr\":[],\"opt\":[]},\"fHistogram\":{\"_typename\":\"TH1F\",\"fUniqueID\":0,\"fBits\":50332168,\"fName\":\"model_Int[isolation]_Norm[invMass,isolation]_Comp[qcdModel]\",\"fTitle\":\"Projection of z+qcd background models\",\"fLineColor\":602,\"fLineStyle\":1,\"fLineWidth\":1,\"fFillColor\":0,\"fFillStyle\":1001,\"fMarkerColor\":1,\"fMarkerStyle\":1,\"fMarkerSize\":1,\"fNcells\":108,\"fXaxis\":{\"_typename\":\"TAxis\",\"fUniqueID\":0,\"fBits\":50331648,\"fName\":\"xaxis\",\"fTitle\":\"\",\"fNdivisions\":510,\"fAxisColor\":1,\"fLabelColor\":1,\"fLabelFont\":42,\"fLabelOffset\":0.005,\"fLabelSize\":0.035,\"fTickLength\":0.03,\"fTitleOffset\":1,\"fTitleSize\":0.035,\"fTitleColor\":1,\"fTitleFont\":42,\"fNbins\":106,\"fXmin\":-22.4,\"fXmax\":222.4,\"fXbins\":[],\"fFirst\":0,\"fLast\":0,\"fBits2\":0,\"fTimeDisplay\":false,\"fTimeFormat\":\"\",\"fLabels\":null,\"fModLabs\":null},\"fYaxis\":{\"_typename\":\"TAxis\",\"fUniqueID\":0,\"fBits\":50331648,\"fName\":\"yaxis\",\"fTitle\":\"\",\"fNdivisions\":510,\"fAxisColor\":1,\"fLabelColor\":1,\"fLabelFont\":42,\"fLabelOffset\":0.005,\"fLabelSize\":0.035,\"fTickLength\":0.03,\"fTitleOffset\":0,\"fTitleSize\":0.035,\"fTitleColor\":1,\"fTitleFont\":42,\"fNbins\":1,\"fXmin\":0,\"fXmax\":15.0783861561984,\"fXbins\":[],\"fFirst\":0,\"fLast\":0,\"fBits2\":0,\"fTimeDisplay\":false,\"fTimeFormat\":\"\",\"fLabels\":null,\"fModLabs\":null},\"fZaxis\":{\"_typename\":\"TAxis\",\"fUniqueID\":0,\"fBits\":50331648,\"fName\":\"zaxis\",\"fTitle\":\"\",\"fNdivisions\":510,\"fAxisColor\":1,\"fLabelColor\":1,\"fLabelFont\":42,\"fLabelOffset\":0.005,\"fLabelSize\":0.035,\"fTickLength\":0.03,\"fTitleOffset\":1,\"fTitleSize\":0.035,\"fTitleColor\":1,\"fTitleFont\":42,\"fNbins\":1,\"fXmin\":0,\"fXmax\":1,\"fXbins\":[],\"fFirst\":0,\"fLast\":0,\"fBits2\":0,\"fTimeDisplay\":false,\"fTimeFormat\":\"\",\"fLabels\":null,\"fModLabs\":null},\"fBarOffset\":0,\"fBarWidth\":1000,\"fEntries\":0,\"fTsumw\":0,\"fTsumw2\":0,\"fTsumwx\":0,\"fTsumwx2\":0,\"fMaximum\":15.0783861561984,\"fMinimum\":0,\"fNormFactor\":0,\"fContour\":[],\"fSumw2\":[],\"fOption\":\"\",\"fFunctions\":{\"_typename\":\"TList\",\"name\":\"TList\",\"arr\":[],\"opt\":[]},\"fBufferSize\":0,\"fBuffer\":[],\"fBinStatErrOpt\":0,\"fStatOverflows\":2,\"fArray\":[0,0,0,0,0,0,0,0,0,0,0,0,0,0,0,0,0,0,0,0,0,0,0,0,0,0,0,0,0,0,0,0,0,0,0,0,0,0,0,0,0,0,0,0,0,0,0,0,0,0,0,0,0,0,0,0,0,0,0,0,0,0,0,0,0,0,0,0,0,0,0,0,0,0,0,0,0,0,0,0,0,0,0,0,0,0,0,0,0,0,0,0,0,0,0,0,0,0,0,0,0,0,0,0,0,0,0,0]},\"fMinimum\":-1111,\"fMaximum\":-1111,\"_yAxisLabel\":\"Projection of z+qcd background models ( \\/ GeV )\",\"_ymin\":0,\"_ymax\":13.7076237783621,\"_normValue\":0},{\"$ref\":5},{\"_typename\":\"TPaveText\",\"fUniqueID\":0,\"fBits\":50331657,\"fLineColor\":1,\"fLineStyle\":1,\"fLineWidth\":1,\"fFillColor\":0,\"fFillStyle\":0,\"fX1\":44.9979377737217,\"fY1\":191.990067824469,\"fX2\":155.002062226278,\"fY2\":205.849584563073,\"fX1NDC\":0.279991754373266,\"fY1NDC\":0.934741114808219,\"fX2NDC\":0.720008245626734,\"fY2NDC\":0.995000004768372,\"fBorderSize\":0,\"fInit\":1,\"fShadowColor\":1,\"fCornerRadius\":0,\"fOption\":\"blNDC\",\"fName\":\"title\",\"fTextAngle\":0,\"fTextSize\":0,\"fTextAlign\":22,\"fTextColor\":1,\"fTextFont\":42,\"fLabel\":\"\",\"fLongest\":39,\"fMargin\":0.05,\"fLines\":{\"_typename\":\"TList\",\"name\":\"TList\",\"arr\":[{\"_typename\":\"TLatex\",\"fUniqueID\":0,\"fBits\":50331648,\"fName\":\"\",\"fTitle\":\"Fit of model to discriminating variable\",\"fTextAngle\":0,\"fTextSize\":0,\"fTextAlign\":0,\"fTextColor\":0,\"fTextFont\":0,\"fX\":0,\"fY\":0,\"fLineColor\":1,\"fLineStyle\":1,\"fLineWidth\":2,\"fLimitFactorSize\":3,\"fOriginSize\":0.0512200556695461}],\"opt\":[\"\"]}}],\"opt\":[\"\",\"FUNC\",\"p\",\"l\",\"l\",\"l\",\"AXISSAME\",\"blNDC\"]},\"fExecs\":{\"_typename\":\"TList\",\"name\":\"TList\",\"arr\":[],\"opt\":[]},\"fName\":\"sPlot_1\",\"fTitle\":\"sPlot_1\",\"fNumPaletteColor\":0,\"fNextPaletteColor\":0},{\"_typename\":\"TPad\",\"fUniqueID\":0,\"fBits\":50331657,\"fLineColor\":1,\"fLineStyle\":1,\"fLineWidth\":1,\"fFillColor\":0,\"fFillStyle\":1001,\"fLeftMargin\":0.1,\"fRightMargin\":0.1,\"fBottomMargin\":0.1,\"fTopMargin\":0.1,\"fXfile\":2,\"fYfile\":2,\"fAfile\":1,\"fXstat\":0.99,\"fYstat\":0.99,\"fAstat\":2,\"fFrameFillColor\":0,\"fFrameLineColor\":1,\"fFrameFillStyle\":1001,\"fFrameLineStyle\":1,\"fFrameLineWidth\":1,\"fFrameBorderSize\":1,\"fFrameBorderMode\":0,\"fX1\":-2.50000018626453,\"fY1\":-16.4106171755981,\"fX2\":22.5000001862645,\"fY2\":100.778489142347,\"fXtoAbsPixelk\":42.7680522423268,\"fXtoPixelk\":38.8080523308397,\"fXtoPixel\":15.5231997757673,\"fYtoAbsPixelk\":350.515314955213,\"fYtoPixelk\":154.128648416398,\"fYtoPixel\":-1.52937992748329,\"fUtoAbsPixelk\":3.9600499114871,\"fUtoPixelk\":5e-5,\"fUtoPixel\":388.080000177026,\"fVtoAbsPixelk\":375.613383461185,\"fVtoPixelk\":179.226666922371,\"fVtoPixel\":-179.226666922371,\"fAbsPixeltoXk\":-2.75510222506383,\"fPixeltoXk\":-2.50000018626453,\"fPixeltoX\":0.0644197082073931,\"fAbsPixeltoYk\":229.187828777125,\"fPixeltoYk\":-16.4106171755981,\"fPixeltoY\":-0.653859765013114,\"fXlowNDC\":0.00999999977648258,\"fYlowNDC\":0.343333333109816,\"fXUpNDC\":0,\"fYUpNDC\":0,\"fWNDC\":0.980000000447035,\"fHNDC\":0.313333333780368,\"fAbsXlowNDC\":0.00999999977648258,\"fAbsYlowNDC\":0.343333333109816,\"fAbsWNDC\":0.980000000447035,\"fAbsHNDC\":0.313333333780368,\"fUxmin\":0,\"fUymin\":-4.69170584530207,\"fUxmax\":20,\"fUymax\":89.0595778120508,\"fTheta\":30,\"fPhi\":30,\"fAspectRatio\":0,\"fNumber\":2,\"fTickx\":0,\"fTicky\":0,\"fLogx\":0,\"fLogy\":0,\"fLogz\":0,\"fPadPaint\":0,\"fCrosshair\":0,\"fCrosshairPos\":0,\"fBorderSize\":2,\"fBorderMode\":0,\"fModified\":false,\"fGridx\":false,\"fGridy\":false,\"fAbsCoord\":false,\"fEditable\":true,\"fFixedAspectRatio\":false,\"fPrimitives\":{\"_typename\":\"TList\",\"name\":\"TList\",\"arr\":[{\"_typename\":\"TFrame\",\"fUniqueID\":0,\"fBits\":50331656,\"fLineColor\":1,\"fLineStyle\":1,\"fLineWidth\":1,\"fFillColor\":0,\"fFillStyle\":1001,\"fX1\":0,\"fY1\":-4.69170584530207,\"fX2\":20,\"fY2\":89.0595778120508,\"fBorderSize\":1,\"fBorderMode\":0},{\"_typename\":\"TH1D\",\"fUniqueID\":0,\"fBits\":50332168,\"fName\":\"frame_7f83880d2280\",\"fTitle\":\"isolation distribution for Z\",\"fLineColor\":602,\"fLineStyle\":1,\"fLineWidth\":1,\"fFillColor\":0,\"fFillStyle\":1001,\"fMarkerColor\":1,\"fMarkerStyle\":1,\"fMarkerSize\":1,\"fNcells\":102,\"fXaxis\":{\"_typename\":\"TAxis\",\"fUniqueID\":0,\"fBits\":50331648,\"fName\":\"xaxis\",\"fTitle\":\"isolation (GeV)\",\"fNdivisions\":510,\"fAxisColor\":1,\"fLabelColor\":1,\"fLabelFont\":42,\"fLabelOffset\":0.005,\"fLabelSize\":0.035,\"fTickLength\":0.03,\"fTitleOffset\":1,\"fTitleSize\":0.035,\"fTitleColor\":1,\"fTitleFont\":42,\"fNbins\":100,\"fXmin\":0,\"fXmax\":20,\"fXbins\":[],\"fFirst\":0,\"fLast\":0,\"fBits2\":0,\"fTimeDisplay\":false,\"fTimeFormat\":\"\",\"fLabels\":null,\"fModLabs\":null},\"fYaxis\":{\"_typename\":\"TAxis\",\"fUniqueID\":0,\"fBits\":50331648,\"fName\":\"yaxis\",\"fTitle\":\"Events \\/ ( 0.2 GeV )\",\"fNdivisions\":510,\"fAxisColor\":1,\"fLabelColor\":1,\"fLabelFont\":42,\"fLabelOffset\":0.005,\"fLabelSize\":0.035,\"fTickLength\":0.03,\"fTitleOffset\":0,\"fTitleSize\":0.035,\"fTitleColor\":1,\"fTitleFont\":42,\"fNbins\":1,\"fXmin\":0,\"fXmax\":1,\"fXbins\":[],\"fFirst\":0,\"fLast\":0,\"fBits2\":0,\"fTimeDisplay\":false,\"fTimeFormat\":\"\",\"fLabels\":null,\"fModLabs\":null},\"fZaxis\":{\"_typename\":\"TAxis\",\"fUniqueID\":0,\"fBits\":50331648,\"fName\":\"zaxis\",\"fTitle\":\"\",\"fNdivisions\":510,\"fAxisColor\":1,\"fLabelColor\":1,\"fLabelFont\":42,\"fLabelOffset\":0.005,\"fLabelSize\":0.035,\"fTickLength\":0.03,\"fTitleOffset\":1,\"fTitleSize\":0.035,\"fTitleColor\":1,\"fTitleFont\":42,\"fNbins\":1,\"fXmin\":0,\"fXmax\":1,\"fXbins\":[],\"fFirst\":0,\"fLast\":0,\"fBits2\":0,\"fTimeDisplay\":false,\"fTimeFormat\":\"\",\"fLabels\":null,\"fModLabs\":null},\"fBarOffset\":0,\"fBarWidth\":1000,\"fEntries\":1,\"fTsumw\":0,\"fTsumw2\":0,\"fTsumwx\":0,\"fTsumwx2\":0,\"fMaximum\":89.0595778120508,\"fMinimum\":-4.69170584530207,\"fNormFactor\":0,\"fContour\":[],\"fSumw2\":[],\"fOption\":\"\",\"fFunctions\":{\"_typename\":\"TList\",\"name\":\"TList\",\"arr\":[],\"opt\":[]},\"fBufferSize\":0,\"fBuffer\":[],\"fBinStatErrOpt\":0,\"fStatOverflows\":2,\"fArray\":[0,89.0595778120508,0,0,0,0,0,0,0,0,0,0,0,0,0,0,0,0,0,0,0,0,0,0,0,0,0,0,0,0,0,0,0,0,0,0,0,0,0,0,0,0,0,0,0,0,0,0,0,0,0,0,0,0,0,0,0,0,0,0,0,0,0,0,0,0,0,0,0,0,0,0,0,0,0,0,0,0,0,0,0,0,0,0,0,0,0,0,0,0,0,0,0,0,0,0,0,0,0,0,0,0]},{\"_typename\":\"RooHist\",\"fUniqueID\":0,\"fBits\":50332680,\"fName\":\"h_dataWithSWeights\",\"fTitle\":\"Histogram of dataWithSWeights_plot__isolation\",\"fLineColor\":1,\"fLineStyle\":1,\"fLineWidth\":1,\"fFillColor\":0,\"fFillStyle\":1000,\"fMarkerColor\":1,\"fMarkerStyle\":8,\"fMarkerSize\":1,\"fNpoints\":100,\"fX\":[0.1,0.3,0.5,0.7,0.9,1.1,1.3,1.5,1.7,1.9,2.1,2.3,2.5,2.7,2.9,3.1,3.3,3.5,3.7,3.9,4.1,4.3,4.5,4.7,4.9,5.1,5.3,5.5,5.7,5.9,6.1,6.3,6.5,6.7,6.9,7.1,7.3,7.5,7.7,7.9,8.1,8.3,8.5,8.7,8.9,9.1,9.3,9.5,9.7,9.9,10.1,10.3,10.5,10.7,10.9,11.1,11.3,11.5,11.7,11.9,12.1,12.3,12.5,12.7,12.9,13.1,13.3,13.5,13.7,13.9,14.1,14.3,14.5,14.7,14.9,15.1,15.3,15.5,15.7,15.9,16.1,16.3,16.5,16.7,16.9,17.1,17.3,17.5,17.7,17.9,18.1,18.3,18.5,18.7,18.9,19.1,19.3,19.5,19.7,19.9],\"fY\":[75.9329071044922,57.1370811462402,45.7560081481934,39.9749183654785,25.1011753082275,25.0794315338135,22.7333297729492,17.0824413299561,13.690505027771,14.8939580917358,6.25300264358521,13.8737678527832,3.8004355430603,2.71853017807007,1.6835470199585,3.4945182800293,2.46324324607849,3.49384522438049,2.42333483695984,3.85512709617615,1.27896952629089,-0.334223359823227,-0.233204916119576,0.148639410734177,0.277024447917938,0.397556364536285,1.66738390922546,-0.232362121343613,0.234953939914703,-0.129560247063637,-0.103647142648697,0.0487431883811951,-0.310944586992264,-0.0263740122318268,-0.336856633424759,-0.0518241003155708,-0.285031020641327,-0.129560247063637,-0.0783419162034988,-0.0609919615089893,-0.0588990598917007,-0.259120494127274,-0.103648200631142,-0.0274947248399258,-0.103648200631142,-0.129560247063637,-0.129560247063637,-0.129560247063637,-0.129560247063637,-0.155472293496132,-0.178710043430328,-0.155472293496132,-0.129560247063637,-0.0518241003155708,-0.0508881248533726,-0.155472293496132,-0.0518241003155708,-0.0777361541986465,-0.155472293496132,-0.0777342170476913,-0.152952507138252,-0.0518241003155708,-0.0777361541986465,-0.129560247063637,-0.103648200631142,-0.0777361541986465,-0.0777361541986465,-0.103648200631142,-0.181384339928627,-0.0777361541986465,-0.0777361541986465,-0.0777361392974854,-0.0777361541986465,-0.0777361541986465,-0.0777361541986465,-0.129541054368019,-0.103648200631142,-0.129560202360153,-0.0777361541986465,-0.0518241003155708,-0.0518241003155708,0,-0.0259120501577854,-0.155413299798965,0,-0.103648200631142,-0.0777361541986465,-0.0259120501577854,-0.0518241003155708,-0.0518241003155708,-0.0777361541986465,-0.0518241003155708,0,-0.129560247063637,-0.0777361541986465,-0.0259120501577854,-0.0518241003155708,0,-0.103648200631142,-0.0518241003155708],\"fFunctions\":{\"_typename\":\"TList\",\"name\":\"TList\",\"arr\":[],\"opt\":[]},\"fHistogram\":{\"_typename\":\"TH1F\",\"fUniqueID\":0,\"fBits\":50332168,\"fName\":\"h_dataWithSWeights\",\"fTitle\":\"Histogram of dataWithSWeights_plot__isolation\",\"fLineColor\":602,\"fLineStyle\":1,\"fLineWidth\":1,\"fFillColor\":0,\"fFillStyle\":1001,\"fMarkerColor\":1,\"fMarkerStyle\":1,\"fMarkerSize\":1,\"fNcells\":102,\"fXaxis\":{\"_typename\":\"TAxis\",\"fUniqueID\":0,\"fBits\":50331648,\"fName\":\"xaxis\",\"fTitle\":\"\",\"fNdivisions\":510,\"fAxisColor\":1,\"fLabelColor\":1,\"fLabelFont\":42,\"fLabelOffset\":0.005,\"fLabelSize\":0.035,\"fTickLength\":0.03,\"fTitleOffset\":1,\"fTitleSize\":0.035,\"fTitleColor\":1,\"fTitleFont\":42,\"fNbins\":100,\"fXmin\":0,\"fXmax\":22,\"fXbins\":[],\"fFirst\":0,\"fLast\":0,\"fBits2\":0,\"fTimeDisplay\":false,\"fTimeFormat\":\"\",\"fLabels\":null,\"fModLabs\":null},\"fYaxis\":{\"_typename\":\"TAxis\",\"fUniqueID\":0,\"fBits\":50331648,\"fName\":\"yaxis\",\"fTitle\":\"\",\"fNdivisions\":510,\"fAxisColor\":1,\"fLabelColor\":1,\"fLabelFont\":42,\"fLabelOffset\":0.005,\"fLabelSize\":0.035,\"fTickLength\":0.03,\"fTitleOffset\":0,\"fTitleSize\":0.035,\"fTitleColor\":1,\"fTitleFont\":42,\"fNbins\":1,\"fXmin\":-8.9531278297272,\"fXmax\":93.320999796476,\"fXbins\":[],\"fFirst\":0,\"fLast\":0,\"fBits2\":0,\"fTimeDisplay\":false,\"fTimeFormat\":\"\",\"fLabels\":null,\"fModLabs\":null},\"fZaxis\":{\"_typename\":\"TAxis\",\"fUniqueID\":0,\"fBits\":50331648,\"fName\":\"zaxis\",\"fTitle\":\"\",\"fNdivisions\":510,\"fAxisColor\":1,\"fLabelColor\":1,\"fLabelFont\":42,\"fLabelOffset\":0.005,\"fLabelSize\":0.035,\"fTickLength\":0.03,\"fTitleOffset\":1,\"fTitleSize\":0.035,\"fTitleColor\":1,\"fTitleFont\":42,\"fNbins\":1,\"fXmin\":0,\"fXmax\":1,\"fXbins\":[],\"fFirst\":0,\"fLast\":0,\"fBits2\":0,\"fTimeDisplay\":false,\"fTimeFormat\":\"\",\"fLabels\":null,\"fModLabs\":null},\"fBarOffset\":0,\"fBarWidth\":1000,\"fEntries\":0,\"fTsumw\":0,\"fTsumw2\":0,\"fTsumwx\":0,\"fTsumwx2\":0,\"fMaximum\":93.320999796476,\"fMinimum\":-8.9531278297272,\"fNormFactor\":0,\"fContour\":[],\"fSumw2\":[],\"fOption\":\"\",\"fFunctions\":{\"_typename\":\"TList\",\"name\":\"TList\",\"arr\":[],\"opt\":[]},\"fBufferSize\":0,\"fBuffer\":[],\"fBinStatErrOpt\":0,\"fStatOverflows\":2,\"fArray\":[0,0,0,0,0,0,0,0,0,0,0,0,0,0,0,0,0,0,0,0,0,0,0,0,0,0,0,0,0,0,0,0,0,0,0,0,0,0,0,0,0,0,0,0,0,0,0,0,0,0,0,0,0,0,0,0,0,0,0,0,0,0,0,0,0,0,0,0,0,0,0,0,0,0,0,0,0,0,0,0,0,0,0,0,0,0,0,0,0,0,0,0,0,0,0,0,0,0,0,0,0,0]},\"fMinimum\":-1111,\"fMaximum\":-1111,\"fEXlow\":[0.1,0.1,0.1,0.1,0.1,0.1,0.1,0.1,0.1,0.1,0.1,0.1,0.1,0.1,0.1,0.1,0.1,0.1,0.1,0.1,0.1,0.1,0.1,0.1,0.1,0.1,0.1,0.1,0.1,0.1,0.1,0.1,0.1,0.1,0.1,0.1,0.1,0.1,0.1,0.1,0.1,0.1,0.1,0.1,0.1,0.1,0.1,0.1,0.1,0.1,0.1,0.1,0.1,0.1,0.1,0.1,0.1,0.1,0.1,0.1,0.1,0.1,0.1,0.1,0.1,0.1,0.1,0.1,0.1,0.1,0.1,0.1,0.1,0.1,0.1,0.1,0.1,0.1,0.1,0.1,0.1,0.1,0.1,0.1,0.1,0.1,0.1,0.1,0.1,0.1,0.1,0.1,0.1,0.1,0.1,0.1,0.1,0.1,0.1,0.1],\"fEXhigh\":[0.1,0.1,0.1,0.1,0.1,0.1,0.1,0.1,0.1,0.1,0.1,0.1,0.1,0.1,0.1,0.1,0.1,0.1,0.1,0.1,0.1,0.1,0.1,0.1,0.1,0.1,0.1,0.1,0.1,0.1,0.1,0.1,0.1,0.1,0.1,0.1,0.1,0.1,0.1,0.1,0.1,0.1,0.1,0.1,0.1,0.1,0.1,0.1,0.1,0.1,0.1,0.1,0.1,0.1,0.1,0.1,0.1,0.1,0.1,0.1,0.1,0.1,0.1,0.1,0.1,0.1,0.1,0.1,0.1,0.1,0.1,0.1,0.1,0.1,0.1,0.1,0.1,0.1,0.1,0.1,0.1,0.1,0.1,0.1,0.1,0.1,0.1,0.1,0.1,0.1,0.1,0.1,0.1,0.1,0.1,0.1,0.1,0.1,0.1,0.1],\"fEYlow\":[8.86524872313351,7.68405579211604,6.87192303662997,6.39821468766249,5.07503261200155,5.08346302995772,4.79854896019826,4.20049841598113,3.74665501223374,3.81445446078035,2.42653325610871,3.71878139036967,1.97901316532891,1.67674752686026,1.39860258764797,1.90532225141843,1.62000892030926,1.85243937539534,1.46893853540429,1.79374720220472,1.11877285248008,0.093464329600405,0.0777349803491114,0.389667753150906,0.568589299339115,0.530291509362316,1.11610978131012,0.0774581591525895,0.39555180155444,0.0579411068021806,0.0518235736144134,0.318363100097553,0.0897619766822569,0.298391740460191,0.0934272274521748,0.0366451735291932,0.0859400904724783,0.0579411068021806,0.123765025812651,0.138543738707756,0.134753433477944,0.0819410990585518,0.0518241014001094,0.0439683216876679,0.0518241014005005,0.0579411068021806,0.0579411068021806,0.0579411068021806,0.0579411068021806,0.0634713024047407,0.068554025898469,0.0634713024047407,0.0579411068021806,0.0366451735291932,0.0359894250794087,0.0634713024047407,0.0366451735291932,0.0448809883411341,0.0634713024047007,0.0448798718154367,0.0624849380142583,0.0366451735291932,0.0448809883411341,0.0579411068021806,0.0518241014005005,0.0448809883411341,0.0448809883411341,0.0518241014005005,0.0685568421125592,0.0448809883411341,0.0448809883411341,0.044880982100675,0.0448809883411341,0.0448809883411341,0.0448809883411341,0.0579325269585956,0.0518241014005005,0.0579410886287382,0.0448809883411341,0.0366451735291932,0.0366451734184988,0,0.0259120507002502,0.0634472442790167,0,0.0518241014005005,0.0448809883411341,0.0259120507002502,0.0366451735291932,0.0366451735291932,0.0448809883411341,0.0366451735291932,0,0.0579411068021806,0.0448809883411341,0.0259120507002502,0.0366451735291932,0,0.0518241014005005,0.0366451735291932],\"fEYhigh\":[8.86524872313351,7.68405579211604,6.87192303662997,6.39821468766249,5.07503261200155,5.08346302995772,4.79854896019826,4.20049841598113,3.74665501223374,3.81445446078035,2.42653325610871,3.71878139036967,1.97901316532891,1.67674752686026,1.39860258764797,1.90532225141843,1.62000892030926,1.85243937539534,1.46893853540429,1.79374720220472,1.11877285248008,0.093464329600405,0.0777349803491114,0.389667753150906,0.568589299339115,0.530291509362316,1.11610978131012,0.0774581591525895,0.39555180155444,0.0579411068021806,0.0518235736144134,0.318363100097553,0.0897619766822569,0.298391740460191,0.0934272274521748,0.0366451735291932,0.0859400904724783,0.0579411068021806,0.123765025812651,0.138543738707756,0.134753433477944,0.0819410990585518,0.0518241014001094,0.0439683216876679,0.0518241014005005,0.0579411068021806,0.0579411068021806,0.0579411068021806,0.0579411068021806,0.0634713024047407,0.068554025898469,0.0634713024047407,0.0579411068021806,0.0366451735291932,0.0359894250794087,0.0634713024047407,0.0366451735291932,0.0448809883411341,0.0634713024047007,0.0448798718154367,0.0624849380142583,0.0366451735291932,0.0448809883411341,0.0579411068021806,0.0518241014005005,0.0448809883411341,0.0448809883411341,0.0518241014005005,0.0685568421125592,0.0448809883411341,0.0448809883411341,0.044880982100675,0.0448809883411341,0.0448809883411341,0.0448809883411341,0.0579325269585956,0.0518241014005005,0.0579410886287382,0.0448809883411341,0.0366451735291932,0.0366451734184988,0,0.0259120507002502,0.0634472442790167,0,0.0518241014005005,0.0448809883411341,0.0259120507002502,0.0366451735291932,0.0366451735291932,0.0448809883411341,0.0366451735291932,0,0.0579411068021806,0.0448809883411341,0.0259120507002502,0.0366451735291932,0,0.0518241014005005,0.0366451735291932],\"_yAxisLabel\":\"Events \\/ ( 0.2 GeV )\",\"_ymin\":-0.430283860876934,\"_ymax\":84.7981558276257,\"_normValue\":0,\"_nominalBinWidth\":0.2,\"_nSigma\":1,\"_entries\":377.841126598418,\"_rawEntries\":-1},{\"$ref\":45},{\"_typename\":\"TPaveText\",\"fUniqueID\":0,\"fBits\":50331657,\"fLineColor\":1,\"fLineStyle\":1,\"fLineWidth\":1,\"fFillColor\":0,\"fFillStyle\":0,\"fX1\":6.1424963366607,\"fY1\":93.7471432260274,\"fX2\":13.8575036633393,\"fY2\":100.192544169558,\"fX1NDC\":0.345699855765679,\"fY1NDC\":0.940000003948808,\"fX2NDC\":0.654300144234321,\"fY2NDC\":0.995000004768372,\"fBorderSize\":0,\"fInit\":1,\"fShadowColor\":1,\"fCornerRadius\":0,\"fOption\":\"blNDC\",\"fName\":\"title\",\"fTextAngle\":0,\"fTextSize\":0,\"fTextAlign\":22,\"fTextColor\":1,\"fTextFont\":42,\"fLabel\":\"\",\"fLongest\":28,\"fMargin\":0.05,\"fLines\":{\"_typename\":\"TList\",\"name\":\"TList\",\"arr\":[{\"_typename\":\"TLatex\",\"fUniqueID\":0,\"fBits\":50331648,\"fName\":\"\",\"fTitle\":\"isolation distribution for Z\",\"fTextAngle\":0,\"fTextSize\":0,\"fTextAlign\":0,\"fTextColor\":0,\"fTextFont\":0,\"fX\":0,\"fY\":0,\"fLineColor\":1,\"fLineStyle\":1,\"fLineWidth\":2,\"fLimitFactorSize\":3,\"fOriginSize\":0.0467500016093254}],\"opt\":[\"\"]}}],\"opt\":[\"\",\"FUNC\",\"p\",\"AXISSAME\",\"blNDC\"]},\"fExecs\":{\"_typename\":\"TList\",\"name\":\"TList\",\"arr\":[],\"opt\":[]},\"fName\":\"sPlot_2\",\"fTitle\":\"sPlot_2\",\"fNumPaletteColor\":0,\"fNextPaletteColor\":0},{\"_typename\":\"TPad\",\"fUniqueID\":0,\"fBits\":50331657,\"fLineColor\":1,\"fLineStyle\":1,\"fLineWidth\":1,\"fFillColor\":0,\"fFillStyle\":1001,\"fLeftMargin\":0.1,\"fRightMargin\":0.1,\"fBottomMargin\":0.1,\"fTopMargin\":0.1,\"fXfile\":2,\"fYfile\":2,\"fAfile\":1,\"fXstat\":0.99,\"fYstat\":0.99,\"fAstat\":2,\"fFrameFillColor\":0,\"fFrameLineColor\":1,\"fFrameFillStyle\":1001,\"fFrameLineStyle\":1,\"fFrameLineWidth\":1,\"fFrameBorderSize\":1,\"fFrameBorderMode\":0,\"fX1\":-2.50000018626453,\"fY1\":-4.66012102217247,\"fX2\":22.5000001862645,\"fY2\":29.5140983973715,\"fXtoAbsPixelk\":42.7680522423268,\"fXtoPixelk\":38.8080523308397,\"fXtoPixel\":15.5231997757673,\"fYtoAbsPixelk\":541.840049084809,\"fYtoPixelk\":154.786715879327,\"fYtoPixel\":-5.24449921509757,\"fUtoAbsPixelk\":3.9600499114871,\"fUtoPixelk\":5e-5,\"fUtoPixel\":388.080000177026,\"fVtoAbsPixelk\":566.280050127852,\"fVtoPixelk\":179.226666922371,\"fVtoPixel\":-179.226666922371,\"fAbsPixeltoXk\":-2.75510222506383,\"fPixeltoXk\":-2.50000018626453,\"fPixeltoX\":0.0644197082073931,\"fAbsPixeltoYk\":103.315869992885,\"fPixeltoYk\":-4.66012102217247,\"fPixeltoY\":-0.190675974766333,\"fXlowNDC\":0.00999999977648258,\"fYlowNDC\":0.00999999977648264,\"fXUpNDC\":0,\"fYUpNDC\":0,\"fWNDC\":0.980000000447035,\"fHNDC\":0.313333333780368,\"fAbsXlowNDC\":0.00999999977648258,\"fAbsYlowNDC\":0.00999999977648264,\"fAbsWNDC\":0.980000000447035,\"fAbsHNDC\":0.313333333780368,\"fUxmin\":0,\"fUymin\":-1.24269887652385,\"fUxmax\":20,\"fUymax\":26.0966762517229,\"fTheta\":30,\"fPhi\":30,\"fAspectRatio\":0,\"fNumber\":3,\"fTickx\":0,\"fTicky\":0,\"fLogx\":0,\"fLogy\":0,\"fLogz\":0,\"fPadPaint\":0,\"fCrosshair\":0,\"fCrosshairPos\":0,\"fBorderSize\":2,\"fBorderMode\":0,\"fModified\":false,\"fGridx\":false,\"fGridy\":false,\"fAbsCoord\":false,\"fEditable\":true,\"fFixedAspectRatio\":false,\"fPrimitives\":{\"_typename\":\"TList\",\"name\":\"TList\",\"arr\":[{\"_typename\":\"TFrame\",\"fUniqueID\":0,\"fBits\":50331656,\"fLineColor\":1,\"fLineStyle\":1,\"fLineWidth\":1,\"fFillColor\":0,\"fFillStyle\":1001,\"fX1\":0,\"fY1\":-1.24269887652385,\"fX2\":20,\"fY2\":26.0966762517229,\"fBorderSize\":1,\"fBorderMode\":0},{\"_typename\":\"TH1D\",\"fUniqueID\":0,\"fBits\":50332168,\"fName\":\"frame_7f8388224020\",\"fTitle\":\"isolation distribution for QCD\",\"fLineColor\":602,\"fLineStyle\":1,\"fLineWidth\":1,\"fFillColor\":0,\"fFillStyle\":1001,\"fMarkerColor\":1,\"fMarkerStyle\":1,\"fMarkerSize\":1,\"fNcells\":102,\"fXaxis\":{\"_typename\":\"TAxis\",\"fUniqueID\":0,\"fBits\":50331648,\"fName\":\"xaxis\",\"fTitle\":\"isolation (GeV)\",\"fNdivisions\":510,\"fAxisColor\":1,\"fLabelColor\":1,\"fLabelFont\":42,\"fLabelOffset\":0.005,\"fLabelSize\":0.035,\"fTickLength\":0.03,\"fTitleOffset\":1,\"fTitleSize\":0.035,\"fTitleColor\":1,\"fTitleFont\":42,\"fNbins\":100,\"fXmin\":0,\"fXmax\":20,\"fXbins\":[],\"fFirst\":0,\"fLast\":0,\"fBits2\":0,\"fTimeDisplay\":false,\"fTimeFormat\":\"\",\"fLabels\":null,\"fModLabs\":null},\"fYaxis\":{\"_typename\":\"TAxis\",\"fUniqueID\":0,\"fBits\":50331648,\"fName\":\"yaxis\",\"fTitle\":\"Events \\/ ( 0.2 GeV )\",\"fNdivisions\":510,\"fAxisColor\":1,\"fLabelColor\":1,\"fLabelFont\":42,\"fLabelOffset\":0.005,\"fLabelSize\":0.035,\"fTickLength\":0.03,\"fTitleOffset\":0,\"fTitleSize\":0.035,\"fTitleColor\":1,\"fTitleFont\":42,\"fNbins\":1,\"fXmin\":0,\"fXmax\":1,\"fXbins\":[],\"fFirst\":0,\"fLast\":0,\"fBits2\":0,\"fTimeDisplay\":false,\"fTimeFormat\":\"\",\"fLabels\":null,\"fModLabs\":null},\"fZaxis\":{\"_typename\":\"TAxis\",\"fUniqueID\":0,\"fBits\":50331648,\"fName\":\"zaxis\",\"fTitle\":\"\",\"fNdivisions\":510,\"fAxisColor\":1,\"fLabelColor\":1,\"fLabelFont\":42,\"fLabelOffset\":0.005,\"fLabelSize\":0.035,\"fTickLength\":0.03,\"fTitleOffset\":1,\"fTitleSize\":0.035,\"fTitleColor\":1,\"fTitleFont\":42,\"fNbins\":1,\"fXmin\":0,\"fXmax\":1,\"fXbins\":[],\"fFirst\":0,\"fLast\":0,\"fBits2\":0,\"fTimeDisplay\":false,\"fTimeFormat\":\"\",\"fLabels\":null,\"fModLabs\":null},\"fBarOffset\":0,\"fBarWidth\":1000,\"fEntries\":1,\"fTsumw\":0,\"fTsumw2\":0,\"fTsumwx\":0,\"fTsumwx2\":0,\"fMaximum\":26.0966762517229,\"fMinimum\":-1.24269887652385,\"fNormFactor\":0,\"fContour\":[],\"fSumw2\":[],\"fOption\":\"\",\"fFunctions\":{\"_typename\":\"TList\",\"name\":\"TList\",\"arr\":[],\"opt\":[]},\"fBufferSize\":0,\"fBuffer\":[],\"fBinStatErrOpt\":0,\"fStatOverflows\":2,\"fArray\":[0,26.0966762517229,0,0,0,0,0,0,0,0,0,0,0,0,0,0,0,0,0,0,0,0,0,0,0,0,0,0,0,0,0,0,0,0,0,0,0,0,0,0,0,0,0,0,0,0,0,0,0,0,0,0,0,0,0,0,0,0,0,0,0,0,0,0,0,0,0,0,0,0,0,0,0,0,0,0,0,0,0,0,0,0,0,0,0,0,0,0,0,0,0,0,0,0,0,0,0,0,0,0,0,0]},{\"_typename\":\"RooHist\",\"fUniqueID\":0,\"fBits\":50332680,\"fName\":\"h_dataWithSWeights\",\"fTitle\":\"Histogram of dataWithSWeights_plot__isolation\",\"fLineColor\":1,\"fLineStyle\":1,\"fLineWidth\":1,\"fFillColor\":0,\"fFillStyle\":1000,\"fMarkerColor\":1,\"fMarkerStyle\":8,\"fMarkerSize\":1,\"fNpoints\":100,\"fX\":[0.1,0.3,0.5,0.7,0.9,1.1,1.3,1.5,1.7,1.9,2.1,2.3,2.5,2.7,2.9,3.1,3.3,3.5,3.7,3.9,4.1,4.3,4.5,4.7,4.9,5.1,5.3,5.5,5.7,5.9,6.1,6.3,6.5,6.7,6.9,7.1,7.3,7.5,7.7,7.9,8.1,8.3,8.5,8.7,8.9,9.1,9.3,9.5,9.7,9.9,10.1,10.3,10.5,10.7,10.9,11.1,11.3,11.5,11.7,11.9,12.1,12.3,12.5,12.7,12.9,13.1,13.3,13.5,13.7,13.9,14.1,14.3,14.5,14.7,14.9,15.1,15.3,15.5,15.7,15.9,16.1,16.3,16.5,16.7,16.9,17.1,17.3,17.5,17.7,17.9,18.1,18.3,18.5,18.7,18.9,19.1,19.3,19.5,19.7,19.9],\"fY\":[9.06721591949463,11.8630094528198,12.2440633773804,10.0251312255859,8.89885902404785,12.9206075668335,10.2667064666748,8.91758632659912,12.309515953064,8.10606288909912,14.7470111846924,11.1262540817261,6.19957256317139,7.2814769744873,20.3164653778076,12.5054912567139,13.5367650985718,8.50616264343262,15.5766744613647,3.14487957954407,11.7210359573364,14.3342275619507,9.23320865631104,9.8513650894165,11.7229804992676,5.60244655609131,11.3326234817505,9.23236560821533,6.76504898071289,5.12956237792969,4.1036491394043,10.9512605667114,12.3109483718872,13.0263786315918,13.3368606567383,2.05182504653931,11.2850341796875,5.12956237792969,8.07834529876709,8.06099510192871,9.05890274047852,10.2591238021851,4.10365009307861,3.02749609947205,4.10365009307861,5.12956237792969,5.12956237792969,5.12956237792969,5.12956237792969,6.15547466278076,8.17871379852295,6.15547466278076,5.12956237792969,2.05182504653931,2.05088901519775,6.15547466278076,2.05182504653931,3.07773756980896,6.15547466278076,3.07773566246033,6.15295505523682,2.05182504653931,3.07773756980896,5.12956237792969,4.10365009307861,3.07773756980896,3.07773756980896,4.10365009307861,7.18138694763184,3.07773756980896,3.07773756980896,3.07773756980896,3.07773756980896,3.07773756980896,3.07773756980896,5.12954330444336,4.10365009307861,5.12956237792969,3.07773756980896,2.05182504653931,2.05182504653931,0,1.02591252326965,6.15541553497314,0,4.10365009307861,3.07773756980896,1.02591252326965,2.05182504653931,2.05182504653931,3.07773756980896,2.05182504653931,0,5.12956237792969,3.07773756980896,1.02591252326965,2.05182504653931,0,4.10365009307861,2.05182504653931],\"fFunctions\":{\"_typename\":\"TList\",\"name\":\"TList\",\"arr\":[],\"opt\":[]},\"fHistogram\":{\"_typename\":\"TH1F\",\"fUniqueID\":0,\"fBits\":50332168,\"fName\":\"h_dataWithSWeights\",\"fTitle\":\"Histogram of dataWithSWeights_plot__isolation\",\"fLineColor\":602,\"fLineStyle\":1,\"fLineWidth\":1,\"fFillColor\":0,\"fFillStyle\":1001,\"fMarkerColor\":1,\"fMarkerStyle\":1,\"fMarkerSize\":1,\"fNcells\":102,\"fXaxis\":{\"_typename\":\"TAxis\",\"fUniqueID\":0,\"fBits\":50331648,\"fName\":\"xaxis\",\"fTitle\":\"\",\"fNdivisions\":510,\"fAxisColor\":1,\"fLabelColor\":1,\"fLabelFont\":42,\"fLabelOffset\":0.005,\"fLabelSize\":0.035,\"fTickLength\":0.03,\"fTitleOffset\":1,\"fTitleSize\":0.035,\"fTitleColor\":1,\"fTitleFont\":42,\"fNbins\":100,\"fXmin\":0,\"fXmax\":22,\"fXbins\":[],\"fFirst\":0,\"fLast\":0,\"fBits2\":0,\"fTimeDisplay\":false,\"fTimeFormat\":\"\",\"fLabels\":null,\"fModLabs\":null},\"fYaxis\":{\"_typename\":\"TAxis\",\"fUniqueID\":0,\"fBits\":50331648,\"fName\":\"yaxis\",\"fTitle\":\"\",\"fNdivisions\":510,\"fAxisColor\":1,\"fLabelColor\":1,\"fLabelFont\":42,\"fLabelOffset\":0.005,\"fLabelSize\":0.035,\"fTickLength\":0.03,\"fTitleOffset\":0,\"fTitleSize\":0.035,\"fTitleColor\":1,\"fTitleFont\":42,\"fNbins\":1,\"fXmin\":-2.48539774598961,\"fXmax\":27.3393751211886,\"fXbins\":[],\"fFirst\":0,\"fLast\":0,\"fBits2\":0,\"fTimeDisplay\":false,\"fTimeFormat\":\"\",\"fLabels\":null,\"fModLabs\":null},\"fZaxis\":{\"_typename\":\"TAxis\",\"fUniqueID\":0,\"fBits\":50331648,\"fName\":\"zaxis\",\"fTitle\":\"\",\"fNdivisions\":510,\"fAxisColor\":1,\"fLabelColor\":1,\"fLabelFont\":42,\"fLabelOffset\":0.005,\"fLabelSize\":0.035,\"fTickLength\":0.03,\"fTitleOffset\":1,\"fTitleSize\":0.035,\"fTitleColor\":1,\"fTitleFont\":42,\"fNbins\":1,\"fXmin\":0,\"fXmax\":1,\"fXbins\":[],\"fFirst\":0,\"fLast\":0,\"fBits2\":0,\"fTimeDisplay\":false,\"fTimeFormat\":\"\",\"fLabels\":null,\"fModLabs\":null},\"fBarOffset\":0,\"fBarWidth\":1000,\"fEntries\":0,\"fTsumw\":0,\"fTsumw2\":0,\"fTsumwx\":0,\"fTsumwx2\":0,\"fMaximum\":27.3393751211886,\"fMinimum\":-2.48539774598961,\"fNormFactor\":0,\"fContour\":[],\"fSumw2\":[],\"fOption\":\"\",\"fFunctions\":{\"_typename\":\"TList\",\"name\":\"TList\",\"arr\":[],\"opt\":[]},\"fBufferSize\":0,\"fBuffer\":[],\"fBinStatErrOpt\":0,\"fStatOverflows\":2,\"fArray\":[0,0,0,0,0,0,0,0,0,0,0,0,0,0,0,0,0,0,0,0,0,0,0,0,0,0,0,0,0,0,0,0,0,0,0,0,0,0,0,0,0,0,0,0,0,0,0,0,0,0,0,0,0,0,0,0,0,0,0,0,0,0,0,0,0,0,0,0,0,0,0,0,0,0,0,0,0,0,0,0,0,0,0,0,0,0,0,0,0,0,0,0,0,0,0,0,0,0,0,0,0,0]},\"fMinimum\":-1111,\"fMaximum\":-1111,\"fEXlow\":[0.1,0.1,0.1,0.1,0.1,0.1,0.1,0.1,0.1,0.1,0.1,0.1,0.1,0.1,0.1,0.1,0.1,0.1,0.1,0.1,0.1,0.1,0.1,0.1,0.1,0.1,0.1,0.1,0.1,0.1,0.1,0.1,0.1,0.1,0.1,0.1,0.1,0.1,0.1,0.1,0.1,0.1,0.1,0.1,0.1,0.1,0.1,0.1,0.1,0.1,0.1,0.1,0.1,0.1,0.1,0.1,0.1,0.1,0.1,0.1,0.1,0.1,0.1,0.1,0.1,0.1,0.1,0.1,0.1,0.1,0.1,0.1,0.1,0.1,0.1,0.1,0.1,0.1,0.1,0.1,0.1,0.1,0.1,0.1,0.1,0.1,0.1,0.1,0.1,0.1,0.1,0.1,0.1,0.1,0.1,0.1,0.1,0.1,0.1,0.1],\"fEXhigh\":[0.1,0.1,0.1,0.1,0.1,0.1,0.1,0.1,0.1,0.1,0.1,0.1,0.1,0.1,0.1,0.1,0.1,0.1,0.1,0.1,0.1,0.1,0.1,0.1,0.1,0.1,0.1,0.1,0.1,0.1,0.1,0.1,0.1,0.1,0.1,0.1,0.1,0.1,0.1,0.1,0.1,0.1,0.1,0.1,0.1,0.1,0.1,0.1,0.1,0.1,0.1,0.1,0.1,0.1,0.1,0.1,0.1,0.1,0.1,0.1,0.1,0.1,0.1,0.1,0.1,0.1,0.1,0.1,0.1,0.1,0.1,0.1,0.1,0.1,0.1,0.1,0.1,0.1,0.1,0.1,0.1,0.1,0.1,0.1,0.1,0.1,0.1,0.1,0.1,0.1,0.1,0.1,0.1,0.1,0.1,0.1,0.1,0.1,0.1,0.1],\"fEYlow\":[3.42444871883689,3.71087275691785,3.70288093073969,3.31471016200781,3.09089073624765,3.69901964409827,3.2495264694142,3.0788491941888,3.55758635837774,2.78606329976528,3.79237032153644,3.32893489882758,2.51309134005396,2.71559006242396,4.5375120044495,3.55545059054178,3.70107492500902,2.90583031015902,3.91294349346577,1.58343894249373,3.41960898292844,3.83108289566532,3.07773641916371,3.139199273358,3.43063502805138,2.34224298645467,3.30317204888286,3.07745559193146,2.58583842298159,2.29401015678164,2.05182453286198,3.31720961452275,3.55386525329837,3.62516186555108,3.69898023223767,1.45085941419799,3.40256647156073,2.29401015678164,2.85867269754801,2.8532764070935,3.02257598373866,3.24422027594222,2.05182506065509,1.74840660412769,2.05182506065548,2.29401015678164,2.29401015678164,2.29401015678164,2.29401015678164,2.51296222003053,2.89173436456686,2.51296222003053,2.29401015678164,1.45085941419799,1.45019773135627,2.51296222003053,1.45085941419799,1.77693262664919,2.51296222003049,1.77693151009737,2.51193457644587,1.45085941419799,1.77693262664919,2.29401015678164,2.05182506065548,1.77693262664919,1.77693262664919,2.05182506065548,2.71430942215221,1.77693262664919,1.77693262664919,1.77693262040874,1.77693262664919,1.77693262664919,1.77693262664919,2.29400157446674,2.05182506065548,2.2940101386082,1.77693262664919,1.45085941419799,1.45085941408729,0,1.02591253032774,2.51293813965287,0,2.05182506065548,1.77693262664919,1.02591253032774,1.45085941419799,1.45085941419799,1.77693262664919,1.45085941419799,0,2.29401015678164,1.77693262664919,1.02591253032774,1.45085941419799,0,2.05182506065548,1.45085941419799],\"fEYhigh\":[3.42444871883689,3.71087275691785,3.70288093073969,3.31471016200781,3.09089073624765,3.69901964409827,3.2495264694142,3.0788491941888,3.55758635837774,2.78606329976528,3.79237032153644,3.32893489882758,2.51309134005396,2.71559006242396,4.5375120044495,3.55545059054178,3.70107492500902,2.90583031015902,3.91294349346577,1.58343894249373,3.41960898292844,3.83108289566532,3.07773641916371,3.139199273358,3.43063502805138,2.34224298645467,3.30317204888286,3.07745559193146,2.58583842298159,2.29401015678164,2.05182453286198,3.31720961452275,3.55386525329837,3.62516186555108,3.69898023223767,1.45085941419799,3.40256647156073,2.29401015678164,2.85867269754801,2.8532764070935,3.02257598373866,3.24422027594222,2.05182506065509,1.74840660412769,2.05182506065548,2.29401015678164,2.29401015678164,2.29401015678164,2.29401015678164,2.51296222003053,2.89173436456686,2.51296222003053,2.29401015678164,1.45085941419799,1.45019773135627,2.51296222003053,1.45085941419799,1.77693262664919,2.51296222003049,1.77693151009737,2.51193457644587,1.45085941419799,1.77693262664919,2.29401015678164,2.05182506065548,1.77693262664919,1.77693262664919,2.05182506065548,2.71430942215221,1.77693262664919,1.77693262664919,1.77693262040874,1.77693262664919,1.77693262664919,1.77693262664919,2.29400157446674,2.05182506065548,2.2940101386082,1.77693262664919,1.45085941419799,1.45085941408729,0,1.02591253032774,2.51293813965287,0,2.05182506065548,1.77693262664919,1.02591253032774,1.45085941419799,1.45085941419799,1.77693262664919,1.45085941419799,0,2.29401015678164,1.77693262664919,1.02591253032774,1.45085941419799,0,2.05182506065548,1.45085941419799],\"_yAxisLabel\":\"Events \\/ ( 0.2 GeV )\",\"_ymin\":-7.05808567147415e-9,\"_ymax\":24.8539773822571,\"_normValue\":0,\"_nominalBinWidth\":0.2,\"_nSigma\":1,\"_entries\":622.159659862518,\"_rawEntries\":-1},{\"$ref\":64},{\"_typename\":\"TPaveText\",\"fUniqueID\":0,\"fBits\":50331657,\"fLineColor\":1,\"fLineStyle\":1,\"fLineWidth\":1,\"fFillColor\":0,\"fFillStyle\":0,\"fX1\":5.69155837920895,\"fY1\":27.4636453671463,\"fX2\":14.3084416207911,\"fY2\":29.3432274632292,\"fX1NDC\":0.327662337736389,\"fY1NDC\":0.940000003948808,\"fX2NDC\":0.672337662263611,\"fY2NDC\":0.995000004768372,\"fBorderSize\":0,\"fInit\":1,\"fShadowColor\":1,\"fCornerRadius\":0,\"fOption\":\"blNDC\",\"fName\":\"title\",\"fTextAngle\":0,\"fTextSize\":0,\"fTextAlign\":22,\"fTextColor\":1,\"fTextFont\":42,\"fLabel\":\"\",\"fLongest\":30,\"fMargin\":0.05,\"fLines\":{\"_typename\":\"TList\",\"name\":\"TList\",\"arr\":[{\"_typename\":\"TLatex\",\"fUniqueID\":0,\"fBits\":50331648,\"fName\":\"\",\"fTitle\":\"isolation distribution for QCD\",\"fTextAngle\":0,\"fTextSize\":0,\"fTextAlign\":0,\"fTextColor\":0,\"fTextFont\":0,\"fX\":0,\"fY\":0,\"fLineColor\":1,\"fLineStyle\":1,\"fLineWidth\":2,\"fLimitFactorSize\":3,\"fOriginSize\":0.0467500016093254}],\"opt\":[\"\"]}}],\"opt\":[\"\",\"FUNC\",\"p\",\"AXISSAME\",\"blNDC\"]},\"fExecs\":{\"_typename\":\"TList\",\"name\":\"TList\",\"arr\":[],\"opt\":[]},\"fName\":\"sPlot_3\",\"fTitle\":\"sPlot_3\",\"fNumPaletteColor\":0,\"fNextPaletteColor\":0}],\"opt\":[\"\",\"\",\"\"]},\"fExecs\":null,\"fName\":\"sPlot\",\"fTitle\":\"sPlot demo\",\"fNumPaletteColor\":0,\"fNextPaletteColor\":0,\"fDISPLAY\":\"$DISPLAY\",\"fDoubleBuffer\":0,\"fRetained\":true,\"fXsizeUser\":0,\"fYsizeUser\":0,\"fXsizeReal\":13.33333,\"fYsizeReal\":20,\"fWindowTopX\":0,\"fWindowTopY\":0,\"fWindowWidth\":0,\"fWindowHeight\":0,\"fCw\":396,\"fCh\":572,\"fCatt\":{\"_typename\":\"TAttCanvas\",\"fXBetween\":2,\"fYBetween\":2,\"fTitleFromTop\":1.2,\"fXdate\":0.2,\"fYdate\":0.3,\"fAdate\":1},\"kMoveOpaque\":true,\"kResizeOpaque\":true,\"fHighLightColor\":2,\"fBatch\":true,\"kShowEventStatus\":false,\"kAutoExec\":true,\"kMenuBar\":true});\n",
       "       Core.draw(\"root_plot_1\", obj, \"\");\n",
       "     }\n",
       " );\n",
       "</script>\n"
      ],
      "text/plain": [
       "<IPython.core.display.HTML object>"
      ]
     },
     "metadata": {},
     "output_type": "display_data"
    }
   ],
   "source": [
    "%jsroot on\n",
    "gROOT->GetListOfCanvases()->Draw()"
   ]
  }
 ],
 "metadata": {
  "kernelspec": {
   "display_name": "ROOT C++",
   "language": "c++",
   "name": "root"
  },
  "language_info": {
   "codemirror_mode": "text/x-c++src",
   "file_extension": ".C",
   "mimetype": " text/x-c++src",
   "name": "c++"
  }
 },
 "nbformat": 4,
 "nbformat_minor": 2
}
