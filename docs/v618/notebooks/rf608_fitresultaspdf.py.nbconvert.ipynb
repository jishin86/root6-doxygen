{
 "cells": [
  {
   "cell_type": "markdown",
   "metadata": {},
   "source": [
    "# Rf 6 0 8_Fitresultaspdf\n",
    "\n",
    "Likelihood and minimization: representing the parabolic approximation of the fit as a multi-variate Gaussian on the parameters of the fitted p.d.f.\n",
    "\n",
    "\n",
    "\n",
    "\n",
    "**Author:** Clemens Lange, Wouter Verkerke (C++ version)  \n",
    "<i><small>This notebook tutorial was automatically generated with <a href= \"https://github.com/root-project/root/blob/master/documentation/doxygen/converttonotebook.py\">ROOTBOOK-izer</a> from the macro found in the ROOT repository  on Thursday, August 29, 2019 at 03:00 AM.</small></i>"
   ]
  },
  {
   "cell_type": "code",
   "execution_count": 1,
   "metadata": {
    "collapsed": false
   },
   "outputs": [
    {
     "name": "stdout",
     "output_type": "stream",
     "text": [
      "Welcome to JupyROOT 6.18/03\n"
     ]
    }
   ],
   "source": [
    "import ROOT"
   ]
  },
  {
   "cell_type": "markdown",
   "metadata": {},
   "source": [
    "Create model and dataset\n",
    "-----------------------------------------------"
   ]
  },
  {
   "cell_type": "markdown",
   "metadata": {},
   "source": [
    "Observable"
   ]
  },
  {
   "cell_type": "code",
   "execution_count": 2,
   "metadata": {
    "collapsed": false
   },
   "outputs": [
    {
     "name": "stdout",
     "output_type": "stream",
     "text": [
      "\n",
      "\u001b[1mRooFit v3.60 -- Developed by Wouter Verkerke and David Kirkby\u001b[0m \n",
      "                Copyright (C) 2000-2013 NIKHEF, University of California & Stanford University\n",
      "                All rights reserved, please read http://roofit.sourceforge.net/license.txt\n",
      "\n"
     ]
    }
   ],
   "source": [
    "x = ROOT.RooRealVar(\"x\", \"x\", -20, 20)"
   ]
  },
  {
   "cell_type": "markdown",
   "metadata": {},
   "source": [
    "Model (intentional strong correlations)"
   ]
  },
  {
   "cell_type": "code",
   "execution_count": 3,
   "metadata": {
    "collapsed": false
   },
   "outputs": [],
   "source": [
    "mean = ROOT.RooRealVar(\"mean\", \"mean of g1 and g2\", 0, -1, 1)\n",
    "sigma_g1 = ROOT.RooRealVar(\"sigma_g1\", \"width of g1\", 2)\n",
    "g1 = ROOT.RooGaussian(\"g1\", \"g1\", x, mean, sigma_g1)\n",
    "\n",
    "sigma_g2 = ROOT.RooRealVar(\"sigma_g2\", \"width of g2\", 4, 3.0, 5.0)\n",
    "g2 = ROOT.RooGaussian(\"g2\", \"g2\", x, mean, sigma_g2)\n",
    "\n",
    "frac = ROOT.RooRealVar(\"frac\", \"frac\", 0.5, 0.0, 1.0)\n",
    "model = ROOT.RooAddPdf(\n",
    "    \"model\", \"model\", ROOT.RooArgList(\n",
    "        g1, g2), ROOT.RooArgList(frac))"
   ]
  },
  {
   "cell_type": "markdown",
   "metadata": {},
   "source": [
    "Generate 1000 events"
   ]
  },
  {
   "cell_type": "code",
   "execution_count": 4,
   "metadata": {
    "collapsed": false
   },
   "outputs": [],
   "source": [
    "data = model.generate(ROOT.RooArgSet(x), 1000)"
   ]
  },
  {
   "cell_type": "markdown",
   "metadata": {},
   "source": [
    "Fit model to data\n",
    "----------------------------------"
   ]
  },
  {
   "cell_type": "code",
   "execution_count": 5,
   "metadata": {
    "collapsed": false
   },
   "outputs": [
    {
     "name": "stdout",
     "output_type": "stream",
     "text": [
      "[#1] INFO:Minization -- RooMinimizer::optimizeConst: activating const optimization\n",
      "[#1] INFO:Minization --  The following expressions will be evaluated in cache-and-track mode: (g1,g2)\n",
      " **********\n",
      " **    1 **SET PRINT           1\n",
      " **********\n",
      " **********\n",
      " **    2 **SET NOGRAD\n",
      " **********\n",
      " PARAMETER DEFINITIONS:\n",
      "    NO.   NAME         VALUE      STEP SIZE      LIMITS\n",
      "     1 frac         5.00000e-01  1.00000e-01    0.00000e+00  1.00000e+00\n",
      "     2 mean         0.00000e+00  2.00000e-01   -1.00000e+00  1.00000e+00\n",
      "     3 sigma_g2     4.00000e+00  2.00000e-01    3.00000e+00  5.00000e+00\n",
      " **********\n",
      " **    3 **SET ERR         0.5\n",
      " **********\n",
      " **********\n",
      " **    4 **SET PRINT           1\n",
      " **********\n",
      " **********\n",
      " **    5 **SET STR           1\n",
      " **********\n",
      " NOW USING STRATEGY  1: TRY TO BALANCE SPEED AGAINST RELIABILITY\n",
      " **********\n",
      " **    6 **MIGRAD        1500           1\n",
      " **********\n",
      " FIRST CALL TO USER FUNCTION AT NEW START POINT, WITH IFLAG=4.\n",
      " START MIGRAD MINIMIZATION.  STRATEGY  1.  CONVERGENCE WHEN EDM .LT. 1.00e-03\n",
      " FCN=2523.5 FROM MIGRAD    STATUS=INITIATE       10 CALLS          11 TOTAL\n",
      "                     EDM= unknown      STRATEGY= 1      NO ERROR MATRIX       \n",
      "  EXT PARAMETER               CURRENT GUESS       STEP         FIRST   \n",
      "  NO.   NAME      VALUE            ERROR          SIZE      DERIVATIVE \n",
      "   1  frac         5.00000e-01   1.00000e-01   2.01358e-01  -1.31418e+01\n",
      "   2  mean         0.00000e+00   2.00000e-01   2.01358e-01   4.68351e+00\n",
      "   3  sigma_g2     4.00000e+00   2.00000e-01   2.01358e-01   5.45887e+00\n",
      "                               ERR DEF= 0.5\n",
      " MIGRAD MINIMIZATION HAS CONVERGED.\n",
      " MIGRAD WILL VERIFY CONVERGENCE AND ERROR MATRIX.\n",
      " COVARIANCE MATRIX CALCULATED SUCCESSFULLY\n",
      " FCN=2522.85 FROM MIGRAD    STATUS=CONVERGED      50 CALLS          51 TOTAL\n",
      "                     EDM=4.43971e-05    STRATEGY= 1      ERROR MATRIX ACCURATE \n",
      "  EXT PARAMETER                                   STEP         FIRST   \n",
      "  NO.   NAME      VALUE            ERROR          SIZE      DERIVATIVE \n",
      "   1  frac         5.43820e-01   5.60284e-02   2.70800e-03   8.34315e-02\n",
      "   2  mean        -4.18828e-02   9.05559e-02   3.14649e-03  -5.37978e-03\n",
      "   3  sigma_g2     4.01280e+00   2.08953e-01   4.84455e-03  -4.10552e-02\n",
      "                               ERR DEF= 0.5\n",
      " EXTERNAL ERROR MATRIX.    NDIM=  25    NPAR=  3    ERR DEF=0.5\n",
      "  3.153e-03 -3.621e-04  8.647e-03 \n",
      " -3.621e-04  8.223e-03 -1.611e-03 \n",
      "  8.647e-03 -1.611e-03  4.431e-02 \n",
      " PARAMETER  CORRELATION COEFFICIENTS  \n",
      "       NO.  GLOBAL      1      2      3\n",
      "        1  0.73165   1.000 -0.071  0.732\n",
      "        2  0.08551  -0.071  1.000 -0.084\n",
      "        3  0.73231   0.732 -0.084  1.000\n",
      " **********\n",
      " **    7 **SET ERR         0.5\n",
      " **********\n",
      " **********\n",
      " **    8 **SET PRINT           1\n",
      " **********\n",
      " **********\n",
      " **    9 **HESSE        1500\n",
      " **********\n",
      " COVARIANCE MATRIX CALCULATED SUCCESSFULLY\n",
      " FCN=2522.85 FROM HESSE     STATUS=OK             16 CALLS          67 TOTAL\n",
      "                     EDM=4.43683e-05    STRATEGY= 1      ERROR MATRIX ACCURATE \n",
      "  EXT PARAMETER                                INTERNAL      INTERNAL  \n",
      "  NO.   NAME      VALUE            ERROR       STEP SIZE       VALUE   \n",
      "   1  frac         5.43820e-01   5.60802e-02   5.41601e-04   8.77525e-02\n",
      "   2  mean        -4.18828e-02   9.05561e-02   6.29298e-04  -4.18951e-02\n",
      "   3  sigma_g2     4.01280e+00   2.09149e-01   9.68910e-04   1.27960e-02\n",
      "                               ERR DEF= 0.5\n",
      " EXTERNAL ERROR MATRIX.    NDIM=  25    NPAR=  3    ERR DEF=0.5\n",
      "  3.158e-03 -3.614e-04  8.670e-03 \n",
      " -3.614e-04  8.223e-03 -1.615e-03 \n",
      "  8.670e-03 -1.615e-03  4.440e-02 \n",
      " PARAMETER  CORRELATION COEFFICIENTS  \n",
      "       NO.  GLOBAL      1      2      3\n",
      "        1  0.73224   1.000 -0.071  0.732\n",
      "        2  0.08555  -0.071  1.000 -0.085\n",
      "        3  0.73291   0.732 -0.085  1.000\n",
      "[#1] INFO:Minization -- RooMinimizer::optimizeConst: deactivating const optimization\n"
     ]
    }
   ],
   "source": [
    "r = model.fitTo(data, ROOT.RooFit.Save())"
   ]
  },
  {
   "cell_type": "markdown",
   "metadata": {},
   "source": [
    "Create MV Gaussian pdf of fitted parameters\n",
    "------------------------------------------------------------------------------------"
   ]
  },
  {
   "cell_type": "code",
   "execution_count": 6,
   "metadata": {
    "collapsed": false
   },
   "outputs": [],
   "source": [
    "parabPdf = r.createHessePdf(ROOT.RooArgSet(frac, mean, sigma_g2))"
   ]
  },
  {
   "cell_type": "markdown",
   "metadata": {},
   "source": [
    "Some exercises with the parameter pdf\n",
    "-----------------------------------------------------------------------------"
   ]
  },
  {
   "cell_type": "markdown",
   "metadata": {},
   "source": [
    "Generate 100K points in the parameter space, from the MVGaussian p.d.f."
   ]
  },
  {
   "cell_type": "code",
   "execution_count": 7,
   "metadata": {
    "collapsed": false
   },
   "outputs": [],
   "source": [
    "d = parabPdf.generate(ROOT.RooArgSet(mean, sigma_g2, frac), 100000)"
   ]
  },
  {
   "cell_type": "markdown",
   "metadata": {},
   "source": [
    "Sample a 3-D histogram of the p.d.f. to be visualized as an error\n",
    "ellipsoid using the GLISO draw option"
   ]
  },
  {
   "cell_type": "code",
   "execution_count": 8,
   "metadata": {
    "collapsed": false
   },
   "outputs": [],
   "source": [
    "hh_3d = parabPdf.createHistogram(\"mean,sigma_g2,frac\", 25, 25, 25)\n",
    "hh_3d.SetFillColor(ROOT.kBlue)"
   ]
  },
  {
   "cell_type": "markdown",
   "metadata": {},
   "source": [
    "Project 3D parameter p.d.f. down to 3 permutations of two-dimensional p.d.f.s\n",
    "The integrations corresponding to these projections are performed analytically\n",
    "by the MV Gaussian p.d.f."
   ]
  },
  {
   "cell_type": "code",
   "execution_count": 9,
   "metadata": {
    "collapsed": false
   },
   "outputs": [],
   "source": [
    "pdf_sigmag2_frac = parabPdf.createProjection(ROOT.RooArgSet(mean))\n",
    "pdf_mean_frac = parabPdf.createProjection(ROOT.RooArgSet(sigma_g2))\n",
    "pdf_mean_sigmag2 = parabPdf.createProjection(ROOT.RooArgSet(frac))"
   ]
  },
  {
   "cell_type": "markdown",
   "metadata": {},
   "source": [
    "Make 2D plots of the 3 two-dimensional p.d.f. projections"
   ]
  },
  {
   "cell_type": "code",
   "execution_count": 10,
   "metadata": {
    "collapsed": false
   },
   "outputs": [],
   "source": [
    "hh_sigmag2_frac = pdf_sigmag2_frac.createHistogram(\"sigma_g2,frac\", 50, 50)\n",
    "hh_mean_frac = pdf_mean_frac.createHistogram(\"mean,frac\", 50, 50)\n",
    "hh_mean_sigmag2 = pdf_mean_sigmag2.createHistogram(\"mean,sigma_g2\", 50, 50)\n",
    "hh_mean_frac.SetLineColor(ROOT.kBlue)\n",
    "hh_sigmag2_frac.SetLineColor(ROOT.kBlue)\n",
    "hh_mean_sigmag2.SetLineColor(ROOT.kBlue)"
   ]
  },
  {
   "cell_type": "markdown",
   "metadata": {},
   "source": [
    "Draw the 'sigar'"
   ]
  },
  {
   "cell_type": "code",
   "execution_count": 11,
   "metadata": {
    "collapsed": false
   },
   "outputs": [
    {
     "name": "stderr",
     "output_type": "stream",
     "text": [
      "Info in <TCanvas::Print>: png file rf608_fitresultaspdf_1.png has been created\n"
     ]
    }
   ],
   "source": [
    "ROOT.gStyle.SetCanvasPreferGL(True)\n",
    "ROOT.gStyle.SetPalette(1)\n",
    "c1 = ROOT.TCanvas(\"rf608_fitresultaspdf_1\", \"rf608_fitresultaspdf_1\", 600, 600)\n",
    "hh_3d.Draw(\"gliso\")\n",
    "\n",
    "c1.SaveAs(\"rf608_fitresultaspdf_1.png\")"
   ]
  },
  {
   "cell_type": "markdown",
   "metadata": {},
   "source": [
    "Draw the 2D projections of the 3D p.d.f."
   ]
  },
  {
   "cell_type": "code",
   "execution_count": 12,
   "metadata": {
    "collapsed": false
   },
   "outputs": [],
   "source": [
    "c2 = ROOT.TCanvas(\"rf608_fitresultaspdf_2\",\n",
    "                  \"rf608_fitresultaspdf_2\", 900, 600)\n",
    "c2.Divide(3, 2)\n",
    "c2.cd(1)\n",
    "ROOT.gPad.SetLeftMargin(0.15)\n",
    "hh_mean_sigmag2.GetZaxis().SetTitleOffset(1.4)\n",
    "hh_mean_sigmag2.Draw(\"surf3\")\n",
    "c2.cd(2)\n",
    "ROOT.gPad.SetLeftMargin(0.15)\n",
    "hh_sigmag2_frac.GetZaxis().SetTitleOffset(1.4)\n",
    "hh_sigmag2_frac.Draw(\"surf3\")\n",
    "c2.cd(3)\n",
    "ROOT.gPad.SetLeftMargin(0.15)\n",
    "hh_mean_frac.GetZaxis().SetTitleOffset(1.4)\n",
    "hh_mean_frac.Draw(\"surf3\")"
   ]
  },
  {
   "cell_type": "markdown",
   "metadata": {},
   "source": [
    "Draw the distributions of parameter points sampled from the p.d.f."
   ]
  },
  {
   "cell_type": "code",
   "execution_count": 13,
   "metadata": {
    "collapsed": false
   },
   "outputs": [
    {
     "name": "stderr",
     "output_type": "stream",
     "text": [
      "Info in <TCanvas::Print>: png file rf608_fitresultaspdf_2.png has been created\n"
     ]
    }
   ],
   "source": [
    "tmp1 = d.createHistogram(mean, sigma_g2, 50, 50)\n",
    "tmp2 = d.createHistogram(sigma_g2, frac, 50, 50)\n",
    "tmp3 = d.createHistogram(mean, frac, 50, 50)\n",
    "\n",
    "c2.cd(4)\n",
    "ROOT.gPad.SetLeftMargin(0.15)\n",
    "tmp1.GetZaxis().SetTitleOffset(1.4)\n",
    "tmp1.Draw(\"lego3\")\n",
    "c2.cd(5)\n",
    "ROOT.gPad.SetLeftMargin(0.15)\n",
    "tmp2.GetZaxis().SetTitleOffset(1.4)\n",
    "tmp2.Draw(\"lego3\")\n",
    "c2.cd(6)\n",
    "ROOT.gPad.SetLeftMargin(0.15)\n",
    "tmp3.GetZaxis().SetTitleOffset(1.4)\n",
    "tmp3.Draw(\"lego3\")\n",
    "\n",
    "c2.SaveAs(\"rf608_fitresultaspdf_2.png\")"
   ]
  },
  {
   "cell_type": "markdown",
   "metadata": {},
   "source": [
    "Draw all canvases "
   ]
  },
  {
   "cell_type": "code",
   "execution_count": 14,
   "metadata": {
    "collapsed": false
   },
   "outputs": [
    {
     "data": {
      "image/png": "[encoded data removed]",
      "text/plain": [
       "<IPython.core.display.Image object>"
      ]
     },
     "metadata": {},
     "output_type": "display_data"
    },
    {
     "data": {
      "image/png": "[encoded data removed]",
      "text/plain": [
       "<IPython.core.display.Image object>"
      ]
     },
     "metadata": {},
     "output_type": "display_data"
    }
   ],
   "source": [
    "from ROOT import gROOT \n",
    "gROOT.GetListOfCanvases().Draw()"
   ]
  }
 ],
 "metadata": {
  "kernelspec": {
   "display_name": "Python 2",
   "language": "python",
   "name": "python2"
  },
  "language_info": {
   "codemirror_mode": {
    "name": "ipython",
    "version": 2
   },
   "file_extension": ".py",
   "mimetype": "text/x-python",
   "name": "python",
   "nbconvert_exporter": "python",
   "pygments_lexer": "ipython2",
   "version": "2.7.10"
  }
 },
 "nbformat": 4,
 "nbformat_minor": 2
}
