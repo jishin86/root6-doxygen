{
 "cells": [
  {
   "cell_type": "markdown",
   "metadata": {},
   "source": [
    "# Vectorized Fit\n",
    "use it for fitting an histogram\n",
    "\n",
    "To create a vectorized function (if ROOT has been compiled with support for vectorization)\n",
    "is very easy. One needs to create the TF1 object with the option \"VEC\" or call the method\n",
    "TF1::SetVectorized\n",
    "\n",
    "\n",
    "\n",
    "\n",
    "**Author:** Lorenzo Moneta  \n",
    "<i><small>This notebook tutorial was automatically generated with <a href= \"https://github.com/root-project/root/blob/master/documentation/doxygen/converttonotebook.py\">ROOTBOOK-izer</a> from the macro found in the ROOT repository  on Thursday, August 29, 2019 at 01:33 AM.</small></i>"
   ]
  },
  {
   "cell_type": "code",
   "execution_count": 1,
   "metadata": {
    "collapsed": false
   },
   "outputs": [
    {
     "name": "stdout",
     "output_type": "stream",
     "text": [
      "Doing Serial Gaussian Fit \n",
      "\n",
      "****************************************\n",
      "Minimizer is Minuit2 / Migrad\n",
      "Chi2                      =      40217.9\n",
      "NDf                       =        39409\n",
      "Edm                       =  3.38965e-08\n",
      "NCalls                    =           75\n",
      "Constant                  =      120.018   +/-   0.105817    \n",
      "Mean                      =   0.00114402   +/-   0.000709328 \n",
      "Sigma                     =     0.979817   +/-   0.000519995  \t (limited)\n",
      "\n",
      "****************************************\n",
      "Minimizer is Minuit2 / Migrad\n",
      "MinFCN                    =      20355.3\n",
      "Chi2                      =      45321.3\n",
      "NDf                       =        39997\n",
      "Edm                       =  8.98045e-10\n",
      "NCalls                    =           65\n",
      "Constant                  =      120.024   +/-   0.105551    \n",
      "Mean                      =  0.000138332   +/-   0.000716607 \n",
      "Sigma                     =      0.99985   +/-   0.000537073  \t (limited)\n",
      "Real time 0:00:00, CP time 0.500\n",
      "Doing Vectorized Gaussian Fit \n"
     ]
    }
   ],
   "source": [
    "gStyle->SetOptFit(111111);\n",
    "\n",
    "\n",
    "ROOT::Math::MinimizerOptions::SetDefaultMinimizer(\"Minuit2\");\n",
    "\n",
    "int nbins = 40000;\n",
    "auto h1 = new TH1D(\"h1\",\"h1\",nbins,-3,3);\n",
    "h1->FillRandom(\"gaus\",nbins*50);\n",
    "auto c1 = new TCanvas(\"Fit\",\"Fit\",800,1000);\n",
    "c1->Divide(1,2);\n",
    "c1->cd(1);\n",
    "TStopwatch w;\n",
    "\n",
    "std::cout << \"Doing Serial Gaussian Fit \" << std::endl;\n",
    "auto f1 = new TF1(\"f1\",\"gaus\");\n",
    "f1->SetNpx(nbins*10);\n",
    "w.Start();\n",
    "h1->Fit(f1);\n",
    "h1->Fit(f1,\"L+\");\n",
    "w.Print();\n",
    "\n",
    "std::cout << \"Doing Vectorized Gaussian Fit \" << std::endl;\n",
    "auto f2 = new TF1(\"f2\",\"gaus\",-3,3,\"VEC\");"
   ]
  },
  {
   "cell_type": "markdown",
   "metadata": {},
   "source": [
    "Alternativly you can also use the tf1::setvectorized function\n",
    "f2->SetVectorized(true); "
   ]
  },
  {
   "cell_type": "code",
   "execution_count": 2,
   "metadata": {
    "collapsed": false
   },
   "outputs": [
    {
     "name": "stdout",
     "output_type": "stream",
     "text": [
      "\n",
      "****************************************\n",
      "Minimizer is Minuit2 / Migrad\n",
      "Chi2                      =      40217.9\n",
      "NDf                       =        39409\n",
      "Edm                       =  3.38965e-08\n",
      "NCalls                    =           75\n",
      "Constant                  =      120.018   +/-   0.105817    \n",
      "Mean                      =   0.00114402   +/-   0.000709328 \n",
      "Sigma                     =     0.979817   +/-   0.000519995  \t (limited)\n",
      "\n",
      "****************************************\n",
      "Minimizer is Minuit2 / Migrad\n",
      "MinFCN                    =      20355.3\n",
      "Chi2                      =      45321.3\n",
      "NDf                       =        39997\n",
      "Edm                       =  8.98045e-10\n",
      "NCalls                    =           65\n",
      "Constant                  =      120.024   +/-   0.105551    \n",
      "Mean                      =  0.000138332   +/-   0.000716607 \n",
      "Sigma                     =      0.99985   +/-   0.000537073  \t (limited)\n",
      "Real time 0:00:00, CP time 0.450\n"
     ]
    }
   ],
   "source": [
    "w.Start();\n",
    "h1->Fit(f2);\n",
    "h1->Fit(f2,\"L+\");\n",
    "w.Print();"
   ]
  },
  {
   "cell_type": "markdown",
   "metadata": {},
   "source": [
    "Rebin histograms and scale it back to the function"
   ]
  },
  {
   "cell_type": "code",
   "execution_count": 3,
   "metadata": {
    "collapsed": false
   },
   "outputs": [],
   "source": [
    "h1->Rebin(nbins/100);\n",
    "h1->Scale(100./nbins);\n",
    "((TF1 *)h1->GetListOfFunctions()->At(0))->SetTitle(\"Chi2 Fit\");\n",
    "((TF1 *)h1->GetListOfFunctions()->At(1))->SetTitle(\"Likelihood Fit\");\n",
    "((TF1 *)h1->GetListOfFunctions()->At(1))->SetLineColor(kBlue);"
   ]
  },
  {
   "cell_type": "markdown",
   "metadata": {},
   "source": [
    "C1->cd(1)->buildlegend();"
   ]
  },
  {
   "cell_type": "markdown",
   "metadata": {},
   "source": [
    "/ do a polynomail fit now"
   ]
  },
  {
   "cell_type": "code",
   "execution_count": 4,
   "metadata": {
    "collapsed": false
   },
   "outputs": [],
   "source": [
    "c1->cd(2);\n",
    "auto f3 = new TF1(\"f3\",\"[A]*x^2+[B]*x+[C]\",0,10);\n",
    "f3->SetParameters(0.5,3,2);\n",
    "f3->SetNpx(nbins*10);"
   ]
  },
  {
   "cell_type": "markdown",
   "metadata": {},
   "source": [
    "Generate the events"
   ]
  },
  {
   "cell_type": "code",
   "execution_count": 5,
   "metadata": {
    "collapsed": false
   },
   "outputs": [
    {
     "name": "stdout",
     "output_type": "stream",
     "text": [
      "Doing Serial Polynomial Fit \n",
      "\n",
      "****************************************\n",
      "Minimizer is Minuit2 / Migrad\n",
      "Chi2                      =        37690\n",
      "NDf                       =        38075\n",
      "Edm                       =  3.47827e-15\n",
      "NCalls                    =           72\n",
      "A                         =     0.202001   +/-   0.00176461  \n",
      "B                         =     0.268032   +/-   0.0153893   \n",
      "C                         =      1.05504   +/-   0.0248331   \n",
      "\n",
      "****************************************\n",
      "Minimizer is Minuit2 / Migrad\n",
      "MinFCN                    =      20527.5\n",
      "Chi2                      =      48394.2\n",
      "NDf                       =        39997\n",
      "Edm                       =  8.16351e-08\n",
      "NCalls                    =           90\n",
      "A                         =     0.149763   +/-   0.00165111  \n",
      "B                         =     0.880262   +/-   0.0135143   \n",
      "C                         =       0.6066   +/-   0.0181308   \n",
      "Real time 0:00:00, CP time 0.480\n",
      "Doing Vectorized Polynomial Fit \n",
      "\n",
      "****************************************\n",
      "Minimizer is Minuit2 / Migrad\n",
      "Chi2                      =        37690\n",
      "NDf                       =        38075\n",
      "Edm                       =  3.15424e-16\n",
      "NCalls                    =           70\n",
      "A                         =     0.202001   +/-   0.00176461  \n",
      "B                         =     0.268032   +/-   0.0153893   \n",
      "C                         =      1.05504   +/-   0.0248331   \n",
      "\n",
      "****************************************\n",
      "Minimizer is Minuit2 / Migrad\n",
      "MinFCN                    =      20527.5\n",
      "Chi2                      =      48394.2\n",
      "NDf                       =        39997\n",
      "Edm                       =  8.16253e-08\n",
      "NCalls                    =           90\n",
      "A                         =     0.149763   +/-   0.0016511   \n",
      "B                         =     0.880262   +/-   0.0135143   \n",
      "C                         =       0.6066   +/-   0.0181308   \n",
      "Real time 0:00:00, CP time 0.410\n"
     ]
    }
   ],
   "source": [
    "auto h2 = new TH1D(\"h2\",\"h2\",nbins,0,10);\n",
    "h2->FillRandom(\"f3\",10*nbins);\n",
    "std::cout << \"Doing Serial Polynomial Fit \" << std::endl;\n",
    "f3->SetParameters(2,2,2);\n",
    "w.Start();\n",
    "h2->Fit(f3);\n",
    "h2->Fit(f3,\"L+\");\n",
    "w.Print();\n",
    "\n",
    "std::cout << \"Doing Vectorized Polynomial Fit \" << std::endl;\n",
    "auto f4 = new TF1(\"f4\",\"[A]*x*x+[B]*x+[C]\",0,10);\n",
    "f4->SetVectorized(true);\n",
    "f4->SetParameters(2,2,2);\n",
    "w.Start();\n",
    "h2->Fit(f4);\n",
    "h2->Fit(f4,\"L+\");\n",
    "w.Print();"
   ]
  },
  {
   "cell_type": "markdown",
   "metadata": {},
   "source": [
    "Rebin histograms and scale it back to the function"
   ]
  },
  {
   "cell_type": "code",
   "execution_count": 6,
   "metadata": {
    "collapsed": false
   },
   "outputs": [],
   "source": [
    "h2->Rebin(nbins/100);\n",
    "h2->Scale(100./nbins);\n",
    "((TF1 *)h2->GetListOfFunctions()->At(0))->SetTitle(\"Chi2 Fit\");\n",
    "((TF1 *)h2->GetListOfFunctions()->At(1))->SetTitle(\"Likelihood Fit\");\n",
    "((TF1 *)h2->GetListOfFunctions()->At(1))->SetLineColor(kBlue);"
   ]
  },
  {
   "cell_type": "markdown",
   "metadata": {},
   "source": [
    "C1->cd(2)->buildlegend();"
   ]
  },
  {
   "cell_type": "markdown",
   "metadata": {},
   "source": [
    "Draw all canvases "
   ]
  },
  {
   "cell_type": "code",
   "execution_count": 7,
   "metadata": {
    "collapsed": false
   },
   "outputs": [
    {
     "data": {
      "image/png": "[encoded data removed]",
      "text/plain": [
       "<IPython.core.display.Image object>"
      ]
     },
     "metadata": {},
     "output_type": "display_data"
    }
   ],
   "source": [
    "gROOT->GetListOfCanvases()->Draw()"
   ]
  }
 ],
 "metadata": {
  "kernelspec": {
   "display_name": "ROOT C++",
   "language": "c++",
   "name": "root"
  },
  "language_info": {
   "codemirror_mode": "text/x-c++src",
   "file_extension": ".C",
   "mimetype": " text/x-c++src",
   "name": "c++"
  }
 },
 "nbformat": 4,
 "nbformat_minor": 2
}
