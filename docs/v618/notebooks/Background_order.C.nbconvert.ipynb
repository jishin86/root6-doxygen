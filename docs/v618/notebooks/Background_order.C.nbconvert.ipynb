{
 "cells": [
  {
   "cell_type": "markdown",
   "metadata": {},
   "source": [
    "#  Background_Order\n",
    "Example to illustrate the influence of the clipping filter difference order\n",
    "on the estimated background.\n",
    "\n",
    "\n",
    "\n",
    "\n",
    "**Author:**  Miroslav Morhac, Olivier Couet  \n",
    "<i><small>This notebook tutorial was automatically generated with <a href= \"https://github.com/root-project/root/blob/master/documentation/doxygen/converttonotebook.py\">ROOTBOOK-izer</a> from the macro found in the ROOT repository  on Thursday, August 29, 2019 at 03:34 AM.</small></i>"
   ]
  },
  {
   "cell_type": "code",
   "execution_count": 1,
   "metadata": {
    "collapsed": false
   },
   "outputs": [
    {
     "name": "stderr",
     "output_type": "stream",
     "text": [
      "Info in <TCanvas::MakeDefCanvas>:  created default TCanvas with name c1\n"
     ]
    }
   ],
   "source": [
    "Int_t i;\n",
    "const Int_t nbins = 4096;\n",
    "Double_t xmin     = 0;\n",
    "Double_t xmax     = 4096;\n",
    "Double_t source[nbins];\n",
    "gROOT->ForceStyle();\n",
    "\n",
    "TH1F *d1 = new TH1F(\"d1\",\"\",nbins,xmin,xmax);\n",
    "TH1F *d2 = new TH1F(\"d2\",\"\",nbins,xmin,xmax);\n",
    "TH1F *d3 = new TH1F(\"d3\",\"\",nbins,xmin,xmax);\n",
    "TH1F *d4 = new TH1F(\"d4\",\"\",nbins,xmin,xmax);\n",
    "\n",
    "TString dir  = gROOT->GetTutorialDir();\n",
    "TString file = dir+\"/spectrum/TSpectrum.root\";\n",
    "TFile *f     = new TFile(file.Data());\n",
    "TH1F *back = (TH1F*) f->Get(\"back2\");\n",
    "back->SetTitle(\"Influence of clipping filter difference order on the estimated background\");\n",
    "back->SetAxisRange(1220,1460);\n",
    "back->SetMaximum(3000);\n",
    "back->Draw(\"L\");\n",
    "\n",
    "TSpectrum *s = new TSpectrum();\n",
    "\n",
    "for (i = 0; i < nbins; i++) source[i]=back->GetBinContent(i + 1);\n",
    "s->Background(source,nbins,40,TSpectrum::kBackDecreasingWindow,\n",
    "              TSpectrum::kBackOrder2,kFALSE,\n",
    "              TSpectrum::kBackSmoothing3,kFALSE);\n",
    "for (i = 0; i < nbins; i++) d1->SetBinContent(i + 1,source[i]);\n",
    "d1->SetLineColor(kRed);\n",
    "d1->Draw(\"SAME L\");\n",
    "\n",
    "for (i = 0; i < nbins; i++) source[i]=back->GetBinContent(i + 1);\n",
    "s->Background(source,nbins,40,TSpectrum::kBackDecreasingWindow,\n",
    "              TSpectrum::kBackOrder4,kFALSE,\n",
    "              TSpectrum::kBackSmoothing3,kFALSE);\n",
    "for (i = 0; i < nbins; i++) d2->SetBinContent(i + 1,source[i]);\n",
    "d2->SetLineColor(kBlue);\n",
    "d2->Draw(\"SAME L\");\n",
    "\n",
    "for (i = 0; i < nbins; i++) source[i]=back->GetBinContent(i + 1);\n",
    "s->Background(source,nbins,40,TSpectrum::kBackDecreasingWindow,\n",
    "              TSpectrum::kBackOrder6,kFALSE,\n",
    "              TSpectrum::kBackSmoothing3,kFALSE);\n",
    "for (i = 0; i < nbins; i++) d3->SetBinContent(i + 1,source[i]);\n",
    "d3->SetLineColor(kGreen);\n",
    "d3->Draw(\"SAME L\");\n",
    "\n",
    "for (i = 0; i < nbins; i++) source[i]=back->GetBinContent(i + 1);\n",
    "s->Background(source,nbins,40,TSpectrum::kBackDecreasingWindow,\n",
    "              TSpectrum::kBackOrder8,kFALSE,\n",
    "              TSpectrum::kBackSmoothing3,kFALSE);\n",
    "for (i = 0; i < nbins; i++) d4->SetBinContent(i + 1,source[i]);\n",
    "d4->SetLineColor(kMagenta);\n",
    "d4->Draw(\"SAME L\");"
   ]
  },
  {
   "cell_type": "markdown",
   "metadata": {},
   "source": [
    "Draw all canvases "
   ]
  },
  {
   "cell_type": "code",
   "execution_count": 2,
   "metadata": {
    "collapsed": false
   },
   "outputs": [
    {
     "data": {
      "image/png": "[encoded data removed]",
      "text/plain": [
       "<IPython.core.display.Image object>"
      ]
     },
     "metadata": {},
     "output_type": "display_data"
    }
   ],
   "source": [
    "gROOT->GetListOfCanvases()->Draw()"
   ]
  }
 ],
 "metadata": {
  "kernelspec": {
   "display_name": "ROOT C++",
   "language": "c++",
   "name": "root"
  },
  "language_info": {
   "codemirror_mode": "text/x-c++src",
   "file_extension": ".C",
   "mimetype": " text/x-c++src",
   "name": "c++"
  }
 },
 "nbformat": 4,
 "nbformat_minor": 2
}
