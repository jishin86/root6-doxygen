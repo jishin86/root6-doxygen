{
 "cells": [
  {
   "cell_type": "markdown",
   "metadata": {},
   "source": [
    "#  S Q Lite Platform Distribution\n",
    "\n",
    "This tutorial demonstrates how TSQLServer can be used to create a\n",
    "connection with a SQlite3 database. It accesses the Sqlite data base.\n",
    "Download from https://root.cern/download/root_download_stats.sqlite\n",
    "In order to display the Platform Distribution of ROOT, we choose to create two TH1F\n",
    "histograms: one that includes all types of platforms, other filtering and classifying them.\n",
    "This procedure is taking as parameter the values stored in the \"Platform\" column from the \n",
    "database. At the end, the histograms are filled\n",
    "with their specific demand regarding the platform's type.\n",
    "This product includes GeoLite2 data created by MaxMind, available from\n",
    "<a href=\"http://www.maxmind.com\">http://www.maxmind.com</a>.\n",
    "\n",
    "\n",
    "\n",
    "\n",
    "**Author:** Alexandra-Maria Dobrescu 08/2018  \n",
    "<i><small>This notebook tutorial was automatically generated with <a href= \"https://github.com/root-project/root/blob/master/documentation/doxygen/converttonotebook.py\">ROOTBOOK-izer</a> from the macro found in the ROOT repository  on Thursday, August 29, 2019 at 03:39 AM.</small></i>"
   ]
  },
  {
   "cell_type": "code",
   "execution_count": 1,
   "metadata": {
    "collapsed": false
   },
   "outputs": [],
   "source": [
    "%%cpp -d\n",
    "#include <TSQLiteServer.h>\n",
    "#include <TSQLiteResult.h>\n",
    "#include <TSQLRow.h>\n",
    "#include <TString.h>"
   ]
  },
  {
   "cell_type": "code",
   "execution_count": 2,
   "metadata": {
    "collapsed": false
   },
   "outputs": [
    {
     "name": "stderr",
     "output_type": "stream",
     "text": [
      "Error in <TSQLiteServer::Query>: SQL Error: 1 no such table: accesslog\n",
      " Generating stack trace...\n",
      " 0x00007fae169153a0 in <unknown function>\n",
      " 0x00007fae114aec55 in cling::IncrementalExecutor::runStaticInitializersOnce(cling::Transaction const&) const + 0x535 from /mnt/build/workspace/root-makedoc-v618/rootspi/rdoc/src/v6-18-00-patches.build/lib/libCling.so\n",
      " 0x00007fae1144b80f in cling::Interpreter::executeTransaction(cling::Transaction&) + 0x9f from /mnt/build/workspace/root-makedoc-v618/rootspi/rdoc/src/v6-18-00-patches.build/lib/libCling.so\n",
      " 0x00007fae114bfd42 in cling::IncrementalParser::commitTransaction(llvm::PointerIntPair<cling::Transaction*, 2u, cling::IncrementalParser::EParseResult, llvm::PointerLikeTypeTraits<cling::Transaction*>, llvm::PointerIntPairInfo<cling::Transaction*, 2u, llvm::PointerLikeTypeTraits<cling::Transaction*> > >&, bool) at IncrementalParser.cpp:? from /mnt/build/workspace/root-makedoc-v618/rootspi/rdoc/src/v6-18-00-patches.build/lib/libCling.so\n",
      " 0x00007fae114bff7b in cling::IncrementalParser::Compile(llvm::StringRef, cling::CompilationOptions const&) + 0x5b from /mnt/build/workspace/root-makedoc-v618/rootspi/rdoc/src/v6-18-00-patches.build/lib/libCling.so\n",
      " 0x00007fae11449c0b in cling::Interpreter::EvaluateInternal(std::__cxx11::basic_string<char, std::char_traits<char>, std::allocator<char> > const&, cling::CompilationOptions, cling::Value*, cling::Transaction**, unsigned long) + 0x7b from /mnt/build/workspace/root-makedoc-v618/rootspi/rdoc/src/v6-18-00-patches.build/lib/libCling.so\n",
      " 0x00007fae11449f61 in cling::Interpreter::process(std::__cxx11::basic_string<char, std::char_traits<char>, std::allocator<char> > const&, cling::Value*, cling::Transaction**, bool) + 0x161 from /mnt/build/workspace/root-makedoc-v618/rootspi/rdoc/src/v6-18-00-patches.build/lib/libCling.so\n",
      " 0x00007fae11505a7d in cling::MetaProcessor::process(llvm::StringRef, cling::Interpreter::CompilationResult&, cling::Value*, bool) + 0x1bd from /mnt/build/workspace/root-makedoc-v618/rootspi/rdoc/src/v6-18-00-patches.build/lib/libCling.so\n",
      " 0x00007fae113d0c0c in <unknown> from /mnt/build/workspace/root-makedoc-v618/rootspi/rdoc/src/v6-18-00-patches.build/lib/libCling.so\n",
      " 0x00007fae113e67e6 in <unknown> from /mnt/build/workspace/root-makedoc-v618/rootspi/rdoc/src/v6-18-00-patches.build/lib/libCling.so\n",
      " 0x00007fae14e52699 in JupyROOTExecutorImpl(char const*) at /mnt/build/workspace/root-makedoc-v618/rootspi/rdoc/src/v6-18-00-patches/bindings/pyroot/JupyROOT/src/IOHandler.cxx:139 (discriminator 1) from /mnt/build/workspace/root-makedoc-v618/rootspi/rdoc/src/v6-18-00-patches.build/lib/libJupyROOT.so\n",
      " 0x00007fae14e52729 in JupyROOTExecutor at /mnt/build/workspace/root-makedoc-v618/rootspi/rdoc/src/v6-18-00-patches/bindings/pyroot/JupyROOT/src/IOHandler.cxx:172 from /mnt/build/workspace/root-makedoc-v618/rootspi/rdoc/src/v6-18-00-patches.build/lib/libJupyROOT.so\n",
      " 0x00007fae16624ace in ffi_call_unix64 + 0x4c from /lib64/libffi.so.6\n",
      " 0x00007fae1662448f in ffi_call + 0x35f from /lib64/libffi.so.6\n",
      " 0x00007fae16657387 in _ctypes_callproc + 0x537 from /usr/lib64/python2.7/lib-dynload/_ctypes.so\n",
      " 0x00007fae16650d22 in <unknown> from /usr/lib64/python2.7/lib-dynload/_ctypes.so\n",
      " 0x00007fae179f7aa7 in PyObject_Call + 0x47 from /lib64/libpython2.7.so.1.0\n",
      " 0x00007fae17acfac8 in PyEval_EvalFrameEx + 0x38b8 from /lib64/libpython2.7.so.1.0\n",
      " 0x00007fae17ad41ac in PyEval_EvalFrameEx + 0x7f9c from /lib64/libpython2.7.so.1.0\n",
      " 0x00007fae17ad41ac in PyEval_EvalFrameEx + 0x7f9c from /lib64/libpython2.7.so.1.0\n",
      " 0x00007fae17ad41ac in PyEval_EvalFrameEx + 0x7f9c from /lib64/libpython2.7.so.1.0\n",
      " 0x00007fae17ad5902 in PyEval_EvalCodeEx + 0x712 from /lib64/libpython2.7.so.1.0\n",
      " 0x00007fae17a10972 in <unknown> from /lib64/libpython2.7.so.1.0\n",
      " 0x00007fae179f7aa7 in PyObject_Call + 0x47 from /lib64/libpython2.7.so.1.0\n",
      " 0x00007fae17a0347e in <unknown> from /lib64/libpython2.7.so.1.0\n",
      " 0x00007fae179f7aa7 in PyObject_Call + 0x47 from /lib64/libpython2.7.so.1.0\n",
      " 0x00007fae17acbcc7 in PyEval_CallObjectWithKeywords + 0x47 from /lib64/libpython2.7.so.1.0\n",
      " 0x00007fae17ae21c6 in <unknown> from /lib64/libpython2.7.so.1.0\n",
      " 0x00007fae1794b58e in <unknown> from /lib64/libpthread.so.0\n",
      " 0x00007fae176eb6f3 in clone at :? from /lib64/libc.so.6\n",
      "Error in <HandleInterpreterException>: Trying to dereference null pointer or trying to call routine taking non-null arguments.\n",
      "Execution of your code was aborted.\n",
      "input_line_27:11:23: warning: null passed to a callee that requires a non-null argument [-Wnonnull]\n",
      "while (TSQLRow *row = rootPlatformRes->Next()) {\n",
      "                      ^~~~~~~~~~~~~~~\n"
     ]
    }
   ],
   "source": [
    "TSQLServer *db = TSQLServer::Connect(\"sqlite://root_download_stats.sqlite\", \"\", \"\");\n",
    "\n",
    "const char *rootPlatform = \"SELECT Platform FROM accesslog;\";\n",
    "\n",
    "TSQLResult *rootPlatformRes = db->Query(rootPlatform);\n",
    "\n",
    "TH1F *hrootPlatform = new TH1F(\"hrootPlatform\", \"Platform Distribution\", 7, 0, -1);\n",
    "TH1F *shorthrootPlatform = new TH1F(\"shorthrootPlatform\", \"Short Platform Distribution\", 7, 0, -1);\n",
    "\n",
    "while (TSQLRow *row = rootPlatformRes->Next()) {\n",
    "   TString rowPlatform(row->GetField(0));\n",
    "   TString Platform(rowPlatform);\n",
    "   TString Platform_0(rowPlatform(0,5));\n",
    "   TString Platform_1(rowPlatform(0,6));\n",
    "   TString Platform_2(rowPlatform(0,8));\n",
    "   if ( rowPlatform.Contains(\"win32\") ){\n",
    "      shorthrootPlatform->Fill(Platform_0,1);\n",
    "   } else if ( rowPlatform.Contains(\"Linux\") ){\n",
    "      shorthrootPlatform->Fill(Platform_0,1);\n",
    "   } else if ( rowPlatform.Contains(\"source\") ){\n",
    "      shorthrootPlatform->Fill(Platform_1,1);\n",
    "   } else if ( rowPlatform.Contains(\"macosx64\") ){\n",
    "      shorthrootPlatform->Fill(Platform_2,1);\n",
    "   } else if ( rowPlatform.Contains(\"IRIX64\") ){\n",
    "      shorthrootPlatform->Fill(Platform_1,1);\n",
    "   }\n",
    "\n",
    "   hrootPlatform->Fill(Platform,1);\n",
    "\n",
    "   delete row;\n",
    "}\n",
    "\n",
    "TCanvas *PlatformDistributionHistogram = new TCanvas();\n",
    "\n",
    "hrootPlatform->GetXaxis()->LabelsOption(\"a\");\n",
    "hrootPlatform->LabelsDeflate(\"X\");\n",
    "hrootPlatform->Draw();\n",
    "\n",
    "TCanvas *shortPlatformDistributionHistogram = new TCanvas();\n",
    "\n",
    "shorthrootPlatform->GetXaxis()->LabelsOption(\"a\");\n",
    "shorthrootPlatform->LabelsDeflate(\"X\");\n",
    "shorthrootPlatform->Draw();"
   ]
  },
  {
   "cell_type": "markdown",
   "metadata": {},
   "source": [
    "Draw all canvases "
   ]
  },
  {
   "cell_type": "code",
   "execution_count": 3,
   "metadata": {
    "collapsed": false
   },
   "outputs": [],
   "source": [
    "%jsroot on\n",
    "gROOT->GetListOfCanvases()->Draw()"
   ]
  }
 ],
 "metadata": {
  "kernelspec": {
   "display_name": "ROOT C++",
   "language": "c++",
   "name": "root"
  },
  "language_info": {
   "codemirror_mode": "text/x-c++src",
   "file_extension": ".C",
   "mimetype": " text/x-c++src",
   "name": "c++"
  }
 },
 "nbformat": 4,
 "nbformat_minor": 2
}
