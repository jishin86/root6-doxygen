{
 "cells": [
  {
   "cell_type": "markdown", 
   "metadata": {}, 
   "source": [
    "# Df 1 0 2_ Nano A O D Dimuon Analysis\n", 
    "This tutorial illustrates how NanoAOD files can be processed with ROOT\n", 
    "dataframes. The NanoAOD-like input files are filled with 66 mio. events\n", 
    "from CMS OpenData containing muon candidates part of 2012 dataset\n", 
    "([DOI: 10.7483/OPENDATA.CMS.YLIC.86ZZ](http://opendata.cern.ch/record/6004)\n", 
    "and [DOI: 10.7483/OPENDATA.CMS.M5AD.Y3V3](http://opendata.cern.ch/record/6030)).\n", 
    "The macro matches muon pairs and produces an histogram of the dimuon mass\n", 
    "spectrum showing resonances up to the Z mass.\n", 
    "Note that the bump at 30 GeV is not a resonance but a trigger effect.\n", 
    "\n", 
    "Some more details about the dataset:\n", 
    "  - It contains about 66 millions events (muon and electron collections, plus some other information, e.g. about primary vertices)\n", 
    "  - It spans two compressed ROOT files located on EOS for about a total size of 7.5 GB.\n", 
    "\n", 
    "\n", 
    "\n", 
    "\n", 
    "**Author:** Stefan Wunsch (KIT, CERN)  \n", 
    "<i><small>This notebook tutorial was automatically generated with <a href= \"https://github.com/root-project/root/blob/master/documentation/doxygen/converttonotebook.py\">ROOTBOOK-izer</a> from the macro found in the ROOT repository  on Thursday, August 29, 2019 at 01:18 AM.</small></i>"
   ]
  }, 
  {
   "cell_type": "code", 
   "execution_count": null, 
   "metadata": {
    "collapsed": false
   }, 
   "outputs": [], 
   "source": [
    "%%cpp -d\n", 
    "#include \"ROOT/RDataFrame.hxx\"\n", 
    "#include \"ROOT/RVec.hxx\"\n", 
    "#include \"TCanvas.h\"\n", 
    "#include \"TH1D.h\"\n", 
    "#include \"TLatex.h\"\n", 
    "#include \"Math/Vector4D.h\"\n", 
    "#include \"TStyle.h\"\n", 
    "\n", 
    "using namespace ROOT::VecOps;"
   ]
  }, 
  {
   "cell_type": "markdown", 
   "metadata": {}, 
   "source": [
    "Enable multi-threading"
   ]
  }, 
  {
   "cell_type": "code", 
   "execution_count": null, 
   "metadata": {
    "collapsed": false
   }, 
   "outputs": [], 
   "source": [
    "ROOT::EnableImplicitMT();"
   ]
  }, 
  {
   "cell_type": "markdown", 
   "metadata": {}, 
   "source": [
    "Create dataframe from nanoaod files"
   ]
  }, 
  {
   "cell_type": "code", 
   "execution_count": null, 
   "metadata": {
    "collapsed": false
   }, 
   "outputs": [], 
   "source": [
    "ROOT::RDataFrame df(\"Events\",\n", 
    "                   {\"root://eospublic.cern.ch//eos/root-eos/cms_opendata_2012_nanoaod/Run2012B_DoubleMuParked.root\",\n", 
    "                    \"root://eospublic.cern.ch//eos/root-eos/cms_opendata_2012_nanoaod/Run2012C_DoubleMuParked.root\"});"
   ]
  }, 
  {
   "cell_type": "markdown", 
   "metadata": {}, 
   "source": [
    "For simplicity, select only events with exactly two muons and require opposite charge"
   ]
  }, 
  {
   "cell_type": "code", 
   "execution_count": null, 
   "metadata": {
    "collapsed": false
   }, 
   "outputs": [], 
   "source": [
    "auto df_2mu = df.Filter(\"nMuon == 2\", \"Events with exactly two muons\");\n", 
    "auto df_os = df_2mu.Filter(\"Muon_charge[0] != Muon_charge[1]\", \"Muons with opposite charge\");"
   ]
  }, 
  {
   "cell_type": "markdown", 
   "metadata": {}, 
   "source": [
    "Compute invariant mass of the dimuon system"
   ]
  }, 
  {
   "cell_type": "code", 
   "execution_count": null, 
   "metadata": {
    "collapsed": false
   }, 
   "outputs": [], 
   "source": [
    "auto df_mass = df_os.Define(\"Dimuon_mass\", InvariantMass<float>, {\"Muon_pt\", \"Muon_eta\", \"Muon_phi\", \"Muon_mass\"});"
   ]
  }, 
  {
   "cell_type": "markdown", 
   "metadata": {}, 
   "source": [
    "Make histogram of dimuon mass spectrum"
   ]
  }, 
  {
   "cell_type": "code", 
   "execution_count": null, 
   "metadata": {
    "collapsed": false
   }, 
   "outputs": [], 
   "source": [
    "auto h = df_mass.Histo1D({\"Dimuon_mass\", \"Dimuon_mass\", 30000, 0.25, 300}, \"Dimuon_mass\");"
   ]
  }, 
  {
   "cell_type": "markdown", 
   "metadata": {}, 
   "source": [
    "Request cut-flow report"
   ]
  }, 
  {
   "cell_type": "code", 
   "execution_count": null, 
   "metadata": {
    "collapsed": false
   }, 
   "outputs": [], 
   "source": [
    "auto report = df_mass.Report();"
   ]
  }, 
  {
   "cell_type": "markdown", 
   "metadata": {}, 
   "source": [
    "Produce plot"
   ]
  }, 
  {
   "cell_type": "code", 
   "execution_count": null, 
   "metadata": {
    "collapsed": false
   }, 
   "outputs": [], 
   "source": [
    "gStyle->SetOptStat(0); gStyle->SetTextFont(42);\n", 
    "auto c = new TCanvas(\"c\", \"\", 800, 700);\n", 
    "c->SetLogx(); c->SetLogy();\n", 
    "\n", 
    "h->SetTitle(\"\");\n", 
    "h->GetXaxis()->SetTitle(\"m_{#mu#mu} (GeV)\"); h->GetXaxis()->SetTitleSize(0.04);\n", 
    "h->GetYaxis()->SetTitle(\"N_{Events}\"); h->GetYaxis()->SetTitleSize(0.04);\n", 
    "h->DrawClone();\n", 
    "\n", 
    "TLatex label; label.SetNDC(true);\n", 
    "label.DrawLatex(0.175, 0.740, \"#eta\");\n", 
    "label.DrawLatex(0.205, 0.775, \"#rho,#omega\");\n", 
    "label.DrawLatex(0.270, 0.740, \"#phi\");\n", 
    "label.DrawLatex(0.400, 0.800, \"J/#psi\");\n", 
    "label.DrawLatex(0.415, 0.670, \"#psi'\");\n", 
    "label.DrawLatex(0.485, 0.700, \"Y(1,2,3S)\");\n", 
    "label.DrawLatex(0.755, 0.680, \"Z\");\n", 
    "label.SetTextSize(0.040); label.DrawLatex(0.100, 0.920, \"#bf{CMS Open Data}\");\n", 
    "label.SetTextSize(0.030); label.DrawLatex(0.630, 0.920, \"#sqrt{s} = 8 TeV, L_{int} = 11.6 fb^{-1}\");\n", 
    "\n", 
    "c->SaveAs(\"dimuon_spectrum.pdf\");"
   ]
  }, 
  {
   "cell_type": "markdown", 
   "metadata": {}, 
   "source": [
    "Print cut-flow report"
   ]
  }, 
  {
   "cell_type": "code", 
   "execution_count": null, 
   "metadata": {
    "collapsed": false
   }, 
   "outputs": [], 
   "source": [
    "report->Print();"
   ]
  }, 
  {
   "cell_type": "markdown", 
   "metadata": {}, 
   "source": [
    "Draw all canvases "
   ]
  }, 
  {
   "cell_type": "code", 
   "execution_count": null, 
   "metadata": {
    "collapsed": false
   }, 
   "outputs": [], 
   "source": [
    "gROOT->GetListOfCanvases()->Draw()"
   ]
  }
 ], 
 "metadata": {
  "kernelspec": {
   "display_name": "ROOT C++", 
   "language": "c++", 
   "name": "root"
  }, 
  "language_info": {
   "codemirror_mode": "text/x-c++src", 
   "file_extension": ".C", 
   "mimetype": " text/x-c++src", 
   "name": "c++"
  }
 }, 
 "nbformat": 4, 
 "nbformat_minor": 2
}