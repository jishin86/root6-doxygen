{
 "cells": [
  {
   "cell_type": "markdown",
   "metadata": {},
   "source": [
    "# Pyroot 0 0 1_Array Interface\n",
    "This tutorial illustrates the conversion of STL vectors and TVec to numpy\n",
    "arrays without copying the data.\n",
    "The memory-adoption is achieved by the dictionary __array_interface__, which\n",
    "is added dynamically to the Python objects by PyROOT.\n",
    "\n",
    "\n",
    "\n",
    "\n",
    "**Author:** Stefan Wunsch  \n",
    "<i><small>This notebook tutorial was automatically generated with <a href= \"https://github.com/root-project/root/blob/master/documentation/doxygen/converttonotebook.py\">ROOTBOOK-izer</a> from the macro found in the ROOT repository  on Thursday, August 29, 2019 at 02:29 AM.</small></i>"
   ]
  },
  {
   "cell_type": "code",
   "execution_count": 1,
   "metadata": {
    "collapsed": false
   },
   "outputs": [
    {
     "name": "stdout",
     "output_type": "stream",
     "text": [
      "Welcome to JupyROOT 6.18/03\n"
     ]
    }
   ],
   "source": [
    "import ROOT\n",
    "from sys import exit\n",
    "\n",
    "try:\n",
    "    import numpy as np\n",
    "except:\n",
    "    exit()"
   ]
  },
  {
   "cell_type": "markdown",
   "metadata": {},
   "source": [
    "Create a vector ROOT object and assign values\n",
    "Note that this works as well with a TVec"
   ]
  },
  {
   "cell_type": "code",
   "execution_count": 2,
   "metadata": {
    "collapsed": false
   },
   "outputs": [
    {
     "name": "stdout",
     "output_type": "stream",
     "text": [
      "Content of the ROOT vector object: [1.0, 2.0]\n"
     ]
    }
   ],
   "source": [
    "vec = ROOT.std.vector(\"float\")(2)\n",
    "vec[0] = 1\n",
    "vec[1] = 2\n",
    "print(\"Content of the ROOT vector object: {}\".format([x for x in vec]))"
   ]
  },
  {
   "cell_type": "markdown",
   "metadata": {},
   "source": [
    "Interface ROOT vector with a numpy array"
   ]
  },
  {
   "cell_type": "code",
   "execution_count": 3,
   "metadata": {
    "collapsed": false
   },
   "outputs": [
    {
     "name": "stdout",
     "output_type": "stream",
     "text": [
      "Content of the associated numpy array: [1.0, 2.0]\n"
     ]
    }
   ],
   "source": [
    "array = np.asarray(vec)\n",
    "print(\"Content of the associated numpy array: {}\".format([x for x in array]))"
   ]
  },
  {
   "cell_type": "markdown",
   "metadata": {},
   "source": [
    "The numpy array adopts the memory of the vector without copying the content.\n",
    "Note that the first entry of the numpy array changes when assigning a new\n",
    "value to the first entry of the ROOT vector."
   ]
  },
  {
   "cell_type": "code",
   "execution_count": 4,
   "metadata": {
    "collapsed": false
   },
   "outputs": [
    {
     "name": "stdout",
     "output_type": "stream",
     "text": [
      "Content of the numpy array after changing the first entry of the ROOT vector: [42.0, 2.0]\n"
     ]
    }
   ],
   "source": [
    "vec[0] = 42\n",
    "print(\n",
    "    \"Content of the numpy array after changing the first entry of the ROOT vector: {}\".\n",
    "    format([x for x in array]))"
   ]
  },
  {
   "cell_type": "markdown",
   "metadata": {},
   "source": [
    "Use numpy features on data of ROOT objects"
   ]
  },
  {
   "cell_type": "code",
   "execution_count": 5,
   "metadata": {
    "collapsed": false
   },
   "outputs": [
    {
     "name": "stdout",
     "output_type": "stream",
     "text": [
      "Mean of the numpy array entries: 22.0\n"
     ]
    }
   ],
   "source": [
    "print(\"Mean of the numpy array entries: {}\".format(np.mean(array)))"
   ]
  }
 ],
 "metadata": {
  "kernelspec": {
   "display_name": "Python 2",
   "language": "python",
   "name": "python2"
  },
  "language_info": {
   "codemirror_mode": {
    "name": "ipython",
    "version": 2
   },
   "file_extension": ".py",
   "mimetype": "text/x-python",
   "name": "python",
   "nbconvert_exporter": "python",
   "pygments_lexer": "ipython2",
   "version": "2.7.10"
  }
 },
 "nbformat": 4,
 "nbformat_minor": 2
}
