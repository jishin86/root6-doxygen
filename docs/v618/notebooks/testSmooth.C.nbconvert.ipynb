{
 "cells": [
  {
   "cell_type": "markdown",
   "metadata": {},
   "source": [
    "# Test Smooth\n",
    "Histogram smoothing.\n",
    "\n",
    "\n",
    "\n",
    "\n",
    "**Author:** Rene Brun  \n",
    "<i><small>This notebook tutorial was automatically generated with <a href= \"https://github.com/root-project/root/blob/master/documentation/doxygen/converttonotebook.py\">ROOTBOOK-izer</a> from the macro found in the ROOT repository  on Thursday, August 29, 2019 at 01:58 AM.</small></i>"
   ]
  },
  {
   "cell_type": "code",
   "execution_count": 1,
   "metadata": {
    "collapsed": false
   },
   "outputs": [],
   "source": [
    "int ipad = 1;\n",
    "TCanvas * c1 = 0;"
   ]
  },
  {
   "cell_type": "markdown",
   "metadata": {},
   "source": [
    " A helper function is created: "
   ]
  },
  {
   "cell_type": "code",
   "execution_count": 2,
   "metadata": {
    "collapsed": false
   },
   "outputs": [],
   "source": [
    "%%cpp -d\n",
    "void smooth_hist(const char * fname, double xmin, double xmax, int n1, int n2) {\n",
    "\n",
    "   std::cout << \"smoothing a \" << fname << \" histogram\" << std::endl;\n",
    "\n",
    "   TH1D * h1 = new TH1D(\"h1\",\"h1\",100,xmin,xmax);\n",
    "   TH1D * h2 = new TH1D(\"h2\",\"h2\",100,xmin,xmax);\n",
    "   h1->FillRandom(fname,n1);\n",
    "\n",
    "   TH1D * h1_s = new TH1D(*h1);\n",
    "   h1_s->SetName(\"h1_s\");\n",
    "   h1_s->Smooth();\n",
    "\n",
    "   h2->FillRandom(fname,n2);\n",
    "\n",
    "   double p1 = h1->Chi2Test(h2,\"\");\n",
    "   double p2 = h1_s->Chi2Test(h2,\"UU\");\n",
    "   if (p2 < p1) Error(\"testSmooth\",\"TH1::Smooth is not working correctly - a worst chi2 is obtained\");\n",
    "\n",
    "   std::cout << \" chi2 test non-smoothed histo \" << p1 <<  std::endl;\n",
    "   std::cout << \" chi2 test smoothed histo     \" << p2 <<  std::endl;\n",
    "\n",
    "   double a1 = h1->AndersonDarlingTest(h2);\n",
    "   double a2 = h1_s->AndersonDarlingTest(h2);\n",
    "\n",
    "   std::cout << \" AD test non-smoothed histo \" << a1 <<  std::endl;\n",
    "   std::cout << \" AD test smoothed histo     \" << a2 <<  std::endl;\n",
    "\n",
    "   double k1 = h1->KolmogorovTest(h2);\n",
    "   double k2 = h1_s->KolmogorovTest(h2);\n",
    "\n",
    "   std::cout << \" KS test non-smoothed histo \" << k1 <<  std::endl;\n",
    "   std::cout << \" KS test smoothed histo     \" << k2 <<  std::endl;\n",
    "\n",
    "   c1->cd(ipad++);\n",
    "   h1->Draw(\"E\");\n",
    "   h1_s->SetLineColor(kRed);\n",
    "   h1_s->Draw(\"same\");\n",
    "   h2->Scale(double(n1)/n2);\n",
    "   h2->SetLineColor(kGreen);\n",
    "   h2->Draw(\"same\");\n",
    "}"
   ]
  },
  {
   "cell_type": "markdown",
   "metadata": {},
   "source": [
    " Arguments are defined. "
   ]
  },
  {
   "cell_type": "code",
   "execution_count": 3,
   "metadata": {
    "collapsed": false
   },
   "outputs": [],
   "source": [
    "int n1 = 1000;\n",
    "int n2 = 1000000;"
   ]
  },
  {
   "cell_type": "code",
   "execution_count": 4,
   "metadata": {
    "collapsed": false
   },
   "outputs": [
    {
     "name": "stdout",
     "output_type": "stream",
     "text": [
      "smoothing a gaus histogram\n",
      " chi2 test non-smoothed histo 5.15629e-11\n",
      " chi2 test smoothed histo     1\n",
      " AD test non-smoothed histo 0.70651\n",
      " AD test smoothed histo     0.488314\n",
      " KS test non-smoothed histo 0.933145\n",
      " KS test smoothed histo     0.770148\n",
      "smoothing a landau histogram\n"
     ]
    },
    {
     "name": "stderr",
     "output_type": "stream",
     "text": [
      "Info in <TH1D::Chi2TestX>: There is a bin in h1 with less than 1 event.\n",
      "\n",
      "Info in <TH1D::Chi2TestX>: There is a bin in h1 with less than 1 event.\n",
      "\n"
     ]
    },
    {
     "name": "stdout",
     "output_type": "stream",
     "text": [
      " chi2 test non-smoothed histo 0.966464\n",
      " chi2 test smoothed histo     1\n",
      " AD test non-smoothed histo 0.553608\n",
      " AD test smoothed histo     0.318308\n",
      " KS test non-smoothed histo 0.7146\n",
      " KS test smoothed histo     0.764859\n",
      "smoothing a expo histogram\n"
     ]
    },
    {
     "name": "stderr",
     "output_type": "stream",
     "text": [
      "Info in <TH1D::Chi2TestX>: There is a bin in h1 with less than 1 event.\n",
      "\n",
      "Info in <TH1D::Chi2TestX>: There is a bin in h1 with less than 1 event.\n",
      "\n"
     ]
    },
    {
     "name": "stdout",
     "output_type": "stream",
     "text": [
      " chi2 test non-smoothed histo 0.364215\n",
      " chi2 test smoothed histo     0.999855\n",
      " AD test non-smoothed histo 0.870351\n",
      " AD test smoothed histo     0.623785\n",
      " KS test non-smoothed histo 0.966402\n",
      " KS test smoothed histo     0.799221\n"
     ]
    },
    {
     "name": "stderr",
     "output_type": "stream",
     "text": [
      "Info in <TH1D::Chi2TestX>: There is a bin in h1 with less than 1 event.\n",
      "\n",
      "Info in <TH1D::Chi2TestX>: There is a bin in h1 with less than 1 event.\n",
      "\n"
     ]
    }
   ],
   "source": [
    "TH1::AddDirectory(false);\n",
    "\n",
    "c1  = new TCanvas();\n",
    "c1->Divide(1,3);\n",
    "\n",
    "\n",
    "smooth_hist(\"gaus\",-5,5,n1,n2);\n",
    "smooth_hist(\"landau\",-5,15,n1,n2);\n",
    "smooth_hist(\"expo\",-5,0,n1,n2);"
   ]
  },
  {
   "cell_type": "markdown",
   "metadata": {},
   "source": [
    "Draw all canvases "
   ]
  },
  {
   "cell_type": "code",
   "execution_count": 5,
   "metadata": {
    "collapsed": false
   },
   "outputs": [
    {
     "data": {
      "image/png": "[encoded data removed]",
      "text/plain": [
       "<IPython.core.display.Image object>"
      ]
     },
     "metadata": {},
     "output_type": "display_data"
    }
   ],
   "source": [
    "gROOT->GetListOfCanvases()->Draw()"
   ]
  }
 ],
 "metadata": {
  "kernelspec": {
   "display_name": "ROOT C++",
   "language": "c++",
   "name": "root"
  },
  "language_info": {
   "codemirror_mode": "text/x-c++src",
   "file_extension": ".C",
   "mimetype": " text/x-c++src",
   "name": "c++"
  }
 },
 "nbformat": 4,
 "nbformat_minor": 2
}
