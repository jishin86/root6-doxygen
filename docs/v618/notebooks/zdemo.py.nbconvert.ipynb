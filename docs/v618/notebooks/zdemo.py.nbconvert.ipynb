{
 "cells": [
  {
   "cell_type": "markdown",
   "metadata": {},
   "source": [
    "# Zdemo\n",
    "This macro is an example of graphs in log scales with annotations.\n",
    "\n",
    "The presented results\n",
    " are predictions of invariant cross-section of Direct Photons produced\n",
    " at RHIC energies, based on the universality of scaling function H(z).\n",
    "\n",
    "\n",
    " These Figures were published in JINR preprint E2-98-64, Dubna,\n",
    " 1998 and submitted to CPC.\n",
    "\n",
    "\n",
    "\n",
    "\n",
    "**Author:**  Michael Tokarev, Elena Potrebenikova (JINR Dubna)  \n",
    "<i><small>This notebook tutorial was automatically generated with <a href= \"https://github.com/root-project/root/blob/master/documentation/doxygen/converttonotebook.py\">ROOTBOOK-izer</a> from the macro found in the ROOT repository  on Thursday, August 29, 2019 at 02:31 AM.</small></i>"
   ]
  },
  {
   "cell_type": "code",
   "execution_count": 1,
   "metadata": {
    "collapsed": false
   },
   "outputs": [
    {
     "name": "stdout",
     "output_type": "stream",
     "text": [
      "Welcome to JupyROOT 6.18/03\n"
     ]
    }
   ],
   "source": [
    "import ROOT\n",
    "from array import array\n",
    "\n",
    "NMAX = 20\n",
    "Z      = array( 'f', [0.]*NMAX )\n",
    "HZ     = array( 'f', [0.]*NMAX )\n",
    "PT     = array( 'f', [0.]*NMAX )\n",
    "INVSIG = array( 'f', [0.]*NMAX )\n",
    "\n",
    "NLOOP = 0\n",
    "saves = {}"
   ]
  },
  {
   "cell_type": "markdown",
   "metadata": {},
   "source": [
    "______________________________________________________________________________"
   ]
  },
  {
   "cell_type": "code",
   "execution_count": 2,
   "metadata": {
    "collapsed": false
   },
   "outputs": [],
   "source": [
    "def hz_calc( ENERG, DENS, TGRAD, PTMIN, PTMAX, DELP ):\n",
    "   from math import sin, cos, sqrt\n",
    "   global NLOOP\n",
    "   global Z, HZ, PT, INVSIG\n",
    "\n",
    "   CSEFT= 1.\n",
    "   GM1  = 0.00001\n",
    "   GM2  = 0.00001\n",
    "   A1   = 1.\n",
    "   A2   = 1.\n",
    "   ALX  = 2.\n",
    "   BETA = 1.\n",
    "   KF1  = 8.E-7\n",
    "   KF2  = 5.215\n",
    "\n",
    "   MN = 0.9383\n",
    "   DEGRAD=0.01745329\n",
    "\n",
    "  #   print 'ENR=  %f DENS= %f PTMIN= %f PTMAX= %f DELP= %f ' % (ENERG,DENS,PTMIN,PTMAX,DELP)\n",
    "\n",
    "   DNDETA= DENS\n",
    "   MB1   = MN*A1\n",
    "   MB2   = MN*A2\n",
    "   EB1   = ENERG/2.*A1\n",
    "   EB2   = ENERG/2.*A2\n",
    "   M1    = GM1\n",
    "   M2    = GM2\n",
    "   THET  = TGRAD*DEGRAD\n",
    "   NLOOP = int((PTMAX-PTMIN)/DELP)\n",
    "\n",
    "   for I in range(NLOOP):\n",
    "      PT[I]=PTMIN+I*DELP\n",
    "      PTOT = PT[I]/sin(THET)\n",
    "\n",
    "      ETOT = sqrt(M1*M1 + PTOT*PTOT)\n",
    "      PB1  = sqrt(EB1*EB1 - MB1*MB1)\n",
    "      PB2  = sqrt(EB2*EB2 - MB2*MB2)\n",
    "      P2P3 = EB2*ETOT+PB2*PTOT*cos(THET)\n",
    "      P1P2 = EB2*EB1+PB2*PB1\n",
    "      P1P3 = EB1*ETOT-PB1*PTOT*cos(THET)\n",
    "\n",
    "      X1 = P2P3/P1P2\n",
    "      X2 = P1P3/P1P2\n",
    "      Y1 = X1+sqrt(X1*X2*(1.-X1)/(1.-X2))\n",
    "      Y2 = X2+sqrt(X1*X2*(1.-X2)/(1.-X1))\n",
    "\n",
    "      S    = (MB1*MB1)+2.*P1P2+(MB2*MB2)\n",
    "      SMIN = 4.*((MB1*MB1)*(X1*X1) +2.*X1*X2*P1P2+(MB2*MB2)*(X2*X2))\n",
    "      SX1  = 4.*( 2*(MB1*MB1)*X1+2*X2*P1P2)\n",
    "      SX2  = 4.*( 2*(MB2*MB2)*X2+2*X1*P1P2)\n",
    "      SX1X2= 4.*(2*P1P2)\n",
    "      DELM = pow((1.-Y1)*(1.-Y2),ALX)\n",
    "\n",
    "      Z[I] = sqrt(SMIN)/DELM/pow(DNDETA,BETA)\n",
    "\n",
    "      Y1X1  = 1. +X2*(1-2.*X1)/(2.*(Y1-X1)*(1.-X2))\n",
    "      Y1X2  =     X1*(1-X1)/(2.*(Y1-X1)*(1.-X2)*(1.-X2))\n",
    "      Y2X1  =     X2*(1-X2)/(2.*(Y2-X2)*(1.-X1)*(1.-X1))\n",
    "      Y2X2  = 1. +X1*(1-2.*X2)/(2.*(Y2-X2)*(1.-X1))\n",
    "      Y2X1X2= Y2X1*( (1.-2.*X2)/(X2*(1-X2)) -( Y2X2-1.)/(Y2-X2))\n",
    "      Y1X1X2= Y1X2*( (1.-2.*X1)/(X1*(1-X1)) -( Y1X1-1.)/(Y1-X1))\n",
    "\n",
    "      KX1=-DELM*(Y1X1*ALX/(1.-Y1) + Y2X1*ALX/(1.-Y2))\n",
    "      KX2=-DELM*(Y2X2*ALX/(1.-Y2) + Y1X2*ALX/(1.-Y1))\n",
    "      ZX1=Z[I]*(SX1/(2.*SMIN)-KX1/DELM)\n",
    "      ZX2=Z[I]*(SX2/(2.*SMIN)-KX2/DELM)\n",
    "\n",
    "      H1=ZX1*ZX2\n",
    "\n",
    "      HZ[I]=KF1/pow(Z[I],KF2)\n",
    "      INVSIG[I]=(HZ[I]*H1*16.)/S"
   ]
  },
  {
   "cell_type": "markdown",
   "metadata": {},
   "source": [
    "______________________________________________________________________________"
   ]
  },
  {
   "cell_type": "code",
   "execution_count": 3,
   "metadata": {
    "collapsed": false
   },
   "outputs": [],
   "source": [
    "from array import array\n",
    "global NLOOP\n",
    "global Z, HZ, PT, INVSIG\n",
    "global saves\n",
    "global hz_calc"
   ]
  },
  {
   "cell_type": "markdown",
   "metadata": {},
   "source": [
    "Create a new canvas."
   ]
  },
  {
   "cell_type": "code",
   "execution_count": 4,
   "metadata": {
    "collapsed": false
   },
   "outputs": [],
   "source": [
    "c1 = ROOT.TCanvas( 'zdemo', 'Monte Carlo Study of Z scaling', 10, 40, 800, 600 )\n",
    "c1.Range( 0, 0, 25, 18 )\n",
    "c1.SetFillColor( 40 )\n",
    "saves[ 'c1' ] = c1                        # prevent deteletion at end of zdemo\n",
    "\n",
    "pl = ROOT.TPaveLabel( 1, 16.3, 24, 17.5,\n",
    "    'Z-scaling of Direct Photon Productions in pp Collisions at RHIC Energies', 'br' )\n",
    "pl.SetFillColor(18)\n",
    "pl.SetTextFont(32)\n",
    "pl.SetTextColor(49)\n",
    "pl.Draw()\n",
    "saves[ 'pl' ] = pl\n",
    "\n",
    "t = ROOT.TLatex()\n",
    "t.SetTextFont(32)\n",
    "t.SetTextColor(1)\n",
    "t.SetTextSize(0.03)\n",
    "t.SetTextAlign(12)\n",
    "t.DrawLatex( 3.1, 15.5, 'M.Tokarev, E.Potrebenikova ')\n",
    "t.DrawLatex( 14., 15.5, 'JINR preprint E2-98-64, Dubna, 1998 ')\n",
    "saves[ 't' ] = t\n",
    "\n",
    "pad1 = ROOT.TPad( 'pad1', 'This is pad1', 0.02, 0.02, 0.48, 0.83, 33 )\n",
    "pad2 = ROOT.TPad( 'pad2', 'This is pad2', 0.52, 0.02, 0.98, 0.83, 33 )\n",
    "\n",
    "pad1.Draw()\n",
    "pad2.Draw()\n",
    "\n",
    "saves[ 'pad1' ] = pad1; saves[ 'pad2' ] = pad2"
   ]
  },
  {
   "cell_type": "markdown",
   "metadata": {},
   "source": [
    "Cross-section of direct photon production in pp collisions at 500 GeV vs Pt"
   ]
  },
  {
   "cell_type": "code",
   "execution_count": 5,
   "metadata": {
    "collapsed": false
   },
   "outputs": [],
   "source": [
    "energ = 63\n",
    "dens  = 1.766\n",
    "tgrad = 90.\n",
    "ptmin = 4.\n",
    "ptmax = 24.\n",
    "delp  = 2.\n",
    "hz_calc( energ, dens, tgrad, ptmin, ptmax, delp )\n",
    "pad1.cd()\n",
    "pad1.Range( -0.255174, -19.25, 2.29657, -6.75 )\n",
    "pad1.SetLogx()\n",
    "pad1.SetLogy()"
   ]
  },
  {
   "cell_type": "markdown",
   "metadata": {},
   "source": [
    "create a 2-d histogram to define the range"
   ]
  },
  {
   "cell_type": "code",
   "execution_count": 6,
   "metadata": {
    "collapsed": false
   },
   "outputs": [],
   "source": [
    "pad1.DrawFrame( 1, 1e-18, 110, 1e-8 )\n",
    "pad1.GetFrame().SetFillColor( 19 )\n",
    "t = ROOT.TLatex()\n",
    "t.SetNDC()\n",
    "t.SetTextFont( 62 )\n",
    "t.SetTextColor( 36 )\n",
    "t.SetTextSize( 0.08 )\n",
    "t.SetTextAlign( 12 )\n",
    "t.DrawLatex( 0.6, 0.85, 'p - p' )\n",
    "\n",
    "t.SetTextSize( 0.05 )\n",
    "t.DrawLatex( 0.6, 0.79, 'Direct #gamma' )\n",
    "t.DrawLatex( 0.6, 0.75, '#theta = 90^{o}' )\n",
    "\n",
    "t.DrawLatex( 0.20, 0.45, 'Ed^{3}#sigma/dq^{3}' )\n",
    "t.DrawLatex( 0.18, 0.40, '(barn/Gev^{2})' )\n",
    "\n",
    "t.SetTextSize( 0.045 )\n",
    "t.SetTextColor( ROOT.kBlue )\n",
    "t.DrawLatex( 0.22, 0.260, '#sqrt{s} = 63(GeV)' )\n",
    "t.SetTextColor( ROOT.kRed )\n",
    "t.DrawLatex( 0.22, 0.205,'#sqrt{s} = 200(GeV)' )\n",
    "t.SetTextColor( 6 )\n",
    "t.DrawLatex( 0.22, 0.15, '#sqrt{s} = 500(GeV)' )\n",
    "\n",
    "t.SetTextSize( 0.05 )\n",
    "t.SetTextColor( 1 )\n",
    "t.DrawLatex( 0.6, 0.06, 'q_{T} (Gev/c)' )\n",
    "saves[ 't2' ] = t                         # note the label that is used!\n",
    "\n",
    "gr1 = ROOT.TGraph( NLOOP, PT, INVSIG )\n",
    "\n",
    "gr1.SetLineColor( 38 )\n",
    "gr1.SetMarkerColor( ROOT.kBlue )\n",
    "gr1.SetMarkerStyle( 21 )\n",
    "gr1.SetMarkerSize( 1.1 )\n",
    "gr1.Draw( 'LP' )\n",
    "saves[ 'gr1' ] = gr1"
   ]
  },
  {
   "cell_type": "markdown",
   "metadata": {},
   "source": [
    "Cross-section of direct photon production in pp collisions at 200 GeV vs Pt"
   ]
  },
  {
   "cell_type": "code",
   "execution_count": 7,
   "metadata": {
    "collapsed": false
   },
   "outputs": [],
   "source": [
    "energ = 200\n",
    "dens  = 2.25\n",
    "tgrad = 90.\n",
    "ptmin = 4.\n",
    "ptmax = 64.\n",
    "delp  = 6.\n",
    "hz_calc( energ, dens, tgrad, ptmin, ptmax, delp )\n",
    "\n",
    "gr2 = ROOT.TGraph( NLOOP, PT, INVSIG )\n",
    "gr2.SetLineColor( 38 )\n",
    "gr2.SetMarkerColor( ROOT.kRed )\n",
    "gr2.SetMarkerStyle( 29 )\n",
    "gr2.SetMarkerSize( 1.5 )\n",
    "gr2.Draw( 'LP' )\n",
    "saves[ 'gr2' ] = gr2"
   ]
  },
  {
   "cell_type": "markdown",
   "metadata": {},
   "source": [
    "Cross-section of direct photon production in pp collisions at 500 GeV vs Pt"
   ]
  },
  {
   "cell_type": "code",
   "execution_count": 8,
   "metadata": {
    "collapsed": false
   },
   "outputs": [],
   "source": [
    "energ = 500\n",
    "dens  = 2.73\n",
    "tgrad = 90.\n",
    "ptmin = 4.\n",
    "ptmax = 104.\n",
    "delp  = 10.\n",
    "hz_calc( energ, dens, tgrad, ptmin, ptmax, delp )\n",
    "\n",
    "gr3 = ROOT.TGraph( NLOOP, PT, INVSIG )\n",
    "\n",
    "gr3.SetLineColor( 38 )\n",
    "gr3.SetMarkerColor( 6 )\n",
    "gr3.SetMarkerStyle( 8 )\n",
    "gr3.SetMarkerSize( 1.1 )\n",
    "gr3.Draw( 'LP' )\n",
    "saves[ 'gr3' ] = gr3\n",
    "\n",
    "dum = array( 'f', [0.] )\n",
    "graph = ROOT.TGraph( 1, dum, dum )\n",
    "graph.SetMarkerColor( ROOT.kBlue )\n",
    "graph.SetMarkerStyle( 21 )\n",
    "graph.SetMarkerSize( 1.1 )\n",
    "graph.SetPoint( 0, 1.7, 1.e-16 )\n",
    "graph.Draw( 'LP' )\n",
    "saves[ 'graph' ] = graph\n",
    "\n",
    "graph = ROOT.TGraph( 1, dum, dum )\n",
    "graph.SetMarkerColor( ROOT.kRed )\n",
    "graph.SetMarkerStyle( 29 )\n",
    "graph.SetMarkerSize( 1.5 )\n",
    "graph.SetPoint( 0, 1.7, 2.e-17 )\n",
    "graph.Draw( 'LP' )\n",
    "saves[ 'graph2' ] = graph                 # note the label that is used!\n",
    "\n",
    "graph = ROOT.TGraph( 1, dum, dum )\n",
    "graph.SetMarkerColor( 6 )\n",
    "graph.SetMarkerStyle( 8 )\n",
    "graph.SetMarkerSize( 1.1 )\n",
    "graph.SetPoint( 0, 1.7, 4.e-18)\n",
    "graph.Draw( 'LP' )\n",
    "saves[ 'graph3' ] = graph                 # note the label that is used!\n",
    "\n",
    "pad2.cd()\n",
    "pad2.Range( -0.43642, -23.75, 3.92778, -6.25 )\n",
    "pad2.SetLogx()\n",
    "pad2.SetLogy()\n",
    "\n",
    "pad2.DrawFrame( 1, 1e-22, 3100, 1e-8 )\n",
    "pad2.GetFrame().SetFillColor( 19 )\n",
    "\n",
    "gr = ROOT.TGraph( NLOOP, Z, HZ )\n",
    "gr.SetTitle( 'HZ vs Z' )\n",
    "gr.SetFillColor( 19 )\n",
    "gr.SetLineColor( 9 )\n",
    "gr.SetMarkerColor( 50 )\n",
    "gr.SetMarkerStyle( 29 )\n",
    "gr.SetMarkerSize( 1.5 )\n",
    "gr.Draw( 'LP' )\n",
    "saves[ 'gr' ] = gr\n",
    "\n",
    "t = ROOT.TLatex()\n",
    "t.SetNDC()\n",
    "t.SetTextFont( 62 )\n",
    "t.SetTextColor( 36 )\n",
    "t.SetTextSize( 0.08 )\n",
    "t.SetTextAlign( 12 )\n",
    "t.DrawLatex( 0.6, 0.85, 'p - p' )\n",
    "\n",
    "t.SetTextSize( 0.05 )\n",
    "t.DrawLatex( 0.6, 0.79, 'Direct #gamma' )\n",
    "t.DrawLatex( 0.6, 0.75, '#theta = 90^{o}' )\n",
    "\n",
    "t.DrawLatex( 0.70, 0.55, 'H(z)' )\n",
    "t.DrawLatex( 0.68, 0.50, '(barn)' )\n",
    "\n",
    "t.SetTextSize( 0.045 )\n",
    "t.SetTextColor( 46 )\n",
    "t.DrawLatex( 0.20, 0.30, '#sqrt{s}, GeV' )\n",
    "t.DrawLatex( 0.22, 0.26, '63' )\n",
    "t.DrawLatex( 0.22, 0.22, '200' )\n",
    "t.DrawLatex( 0.22, 0.18, '500' )\n",
    "\n",
    "t.SetTextSize( 0.05 )\n",
    "t.SetTextColor( 1 )\n",
    "t.DrawLatex( 0.88, 0.06, 'z' )\n",
    "saves[ 't3' ] = t                         # note the label that is used!\n",
    "\n",
    "c1.Modified()\n",
    "c1.Update()"
   ]
  },
  {
   "cell_type": "markdown",
   "metadata": {},
   "source": [
    "Draw all canvases "
   ]
  },
  {
   "cell_type": "code",
   "execution_count": 9,
   "metadata": {
    "collapsed": false
   },
   "outputs": [
    {
     "data": {
      "image/png": "[encoded data removed]",
      "text/plain": [
       "<IPython.core.display.Image object>"
      ]
     },
     "metadata": {},
     "output_type": "display_data"
    }
   ],
   "source": [
    "from ROOT import gROOT \n",
    "gROOT.GetListOfCanvases().Draw()"
   ]
  }
 ],
 "metadata": {
  "kernelspec": {
   "display_name": "Python 2",
   "language": "python",
   "name": "python2"
  },
  "language_info": {
   "codemirror_mode": {
    "name": "ipython",
    "version": 2
   },
   "file_extension": ".py",
   "mimetype": "text/x-python",
   "name": "python",
   "nbconvert_exporter": "python",
   "pygments_lexer": "ipython2",
   "version": "2.7.10"
  }
 },
 "nbformat": 4,
 "nbformat_minor": 2
}
