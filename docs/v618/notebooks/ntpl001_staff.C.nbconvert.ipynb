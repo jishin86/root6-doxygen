{
 "cells": [
  {
   "cell_type": "markdown",
   "metadata": {},
   "source": [
    "# Ntpl 0 0 1_Staff\n",
    "Write and read tabular data with RNTuple.  Adapted from the cernbuild and cernstaff tree tutorials.\n",
    "Illustrates the type-safe ntuple model interface, which is used to define a data model that is in a second step\n",
    "taken by an ntuple reader or writer.\n",
    "\n",
    "\n",
    "\n",
    "\n",
    "**Author:** The ROOT Team  \n",
    "<i><small>This notebook tutorial was automatically generated with <a href= \"https://github.com/root-project/root/blob/master/documentation/doxygen/converttonotebook.py\">ROOTBOOK-izer</a> from the macro found in the ROOT repository  on Thursday, August 29, 2019 at 04:05 AM.</small></i>"
   ]
  },
  {
   "cell_type": "markdown",
   "metadata": {},
   "source": [
    "Note: the rntuple classes are experimental at this point.\n",
    " Functionality, interface, and data format is still subject to changes.\n",
    " Do not use for real data!"
   ]
  },
  {
   "cell_type": "markdown",
   "metadata": {},
   "source": [
    "The following line should disappear in a future version of rntuple, when\n",
    " the common template specializations of RField are part of the LinkDef.h"
   ]
  },
  {
   "cell_type": "code",
   "execution_count": 1,
   "metadata": {
    "collapsed": false
   },
   "outputs": [
    {
     "name": "stderr",
     "output_type": "stream",
     "text": [
      "input_line_27:1:10: fatal error: 'ROOTNTuple' file not found\n",
      "#include \"ROOTNTuple\"\n",
      "         ^~~~~~~~~~~~\n",
      "input_line_26:4:10: fatal error: 'ROOT/RNTuple.hxx' file not found\n",
      "#include <ROOT/RNTuple.hxx>\n",
      "         ^~~~~~~~~~~~~~~~~~\n"
     ]
    }
   ],
   "source": [
    "R__LOAD_LIBRARY(ROOTNTuple)\n",
    "\n",
    "#include <ROOT/RNTuple.hxx>\n",
    "#include <ROOT/RNTupleModel.hxx>\n",
    "\n",
    "#include <TCanvas.h>\n",
    "#include <TH1I.h>\n",
    "#include <TROOT.h>\n",
    "#include <TString.h>\n",
    "\n",
    "#include <cassert>\n",
    "#include <cstdio>\n",
    "#include <fstream>\n",
    "#include <iostream>\n",
    "#include <memory>\n",
    "#include <string>\n",
    "#include <sstream>\n",
    "#include <utility>"
   ]
  },
  {
   "cell_type": "markdown",
   "metadata": {},
   "source": [
    "Import classes from experimental namespace for the time being"
   ]
  },
  {
   "cell_type": "code",
   "execution_count": 2,
   "metadata": {
    "collapsed": false
   },
   "outputs": [
    {
     "name": "stderr",
     "output_type": "stream",
     "text": [
      "input_line_32:1:42: error: no type named 'RNTupleModel' in namespace 'ROOT::Experimental'\n",
      "using RNTupleModel = ROOT::Experimental::RNTupleModel;void __cling_Un1Qu33(void* vpClingValue) {\n",
      "                     ~~~~~~~~~~~~~~~~~~~~^\n",
      "input_line_32:3:43: error: no type named 'RNTupleReader' in namespace 'ROOT::Experimental'\n",
      "using RNTupleReader = ROOT::Experimental::RNTupleReader;\n",
      "                      ~~~~~~~~~~~~~~~~~~~~^\n",
      "input_line_32:4:43: error: no type named 'RNTupleWriter' in namespace 'ROOT::Experimental'\n",
      "using RNTupleWriter = ROOT::Experimental::RNTupleWriter;\n",
      "                      ~~~~~~~~~~~~~~~~~~~~^\n"
     ]
    }
   ],
   "source": [
    "using RNTupleModel = ROOT::Experimental::RNTupleModel;\n",
    "using RNTupleReader = ROOT::Experimental::RNTupleReader;\n",
    "using RNTupleWriter = ROOT::Experimental::RNTupleWriter;\n",
    "\n",
    "constexpr char const* kNTupleFileName = \"ntpl001_staff.root\";"
   ]
  },
  {
   "cell_type": "markdown",
   "metadata": {},
   "source": [
    " A helper function is created: "
   ]
  },
  {
   "cell_type": "code",
   "execution_count": 3,
   "metadata": {
    "collapsed": false
   },
   "outputs": [
    {
     "name": "stderr",
     "output_type": "stream",
     "text": [
      "input_line_33:7:17: error: use of undeclared identifier 'RNTupleModel'\n",
      "   auto model = RNTupleModel::Create();\n",
      "                ^\n",
      "input_line_33:11:43: error: expected '(' for function-style cast or type construction\n",
      "   auto fldCategory = model->MakeField<int>(\"Category\");\n",
      "                                       ~~~^\n",
      "input_line_33:12:49: error: expected '(' for function-style cast or type construction\n",
      "   auto fldFlag     = model->MakeField<unsigned int>(\"Flag\");\n",
      "                                       ~~~~~~~~ ^\n",
      "input_line_33:13:43: error: expected '(' for function-style cast or type construction\n",
      "   auto fldAge      = model->MakeField<int>(\"Age\");\n",
      "                                       ~~~^\n",
      "input_line_33:14:43: error: expected '(' for function-style cast or type construction\n",
      "   auto fldService  = model->MakeField<int>(\"Service\");\n",
      "                                       ~~~^\n",
      "input_line_33:15:43: error: expected '(' for function-style cast or type construction\n",
      "   auto fldChildren = model->MakeField<int>(\"Children\");\n",
      "                                       ~~~^\n",
      "input_line_33:16:43: error: expected '(' for function-style cast or type construction\n",
      "   auto fldGrade    = model->MakeField<int>(\"Grade\");\n",
      "                                       ~~~^\n",
      "input_line_33:17:43: error: expected '(' for function-style cast or type construction\n",
      "   auto fldStep     = model->MakeField<int>(\"Step\");\n",
      "                                       ~~~^\n",
      "input_line_33:18:43: error: expected '(' for function-style cast or type construction\n",
      "   auto fldHrweek   = model->MakeField<int>(\"Hrweek\");\n",
      "                                       ~~~^\n",
      "input_line_33:19:43: error: expected '(' for function-style cast or type construction\n",
      "   auto fldCost     = model->MakeField<int>(\"Cost\");\n",
      "                                       ~~~^\n",
      "input_line_33:20:51: error: expected '(' for function-style cast or type construction\n",
      "   auto fldDivision = model->MakeField<std::string>(\"Division\");\n",
      "                                       ~~~~~~~~~~~^\n",
      "input_line_33:21:51: error: expected '(' for function-style cast or type construction\n",
      "   auto fldNation   = model->MakeField<std::string>(\"Nation\");\n",
      "                                       ~~~~~~~~~~~^\n",
      "input_line_33:25:18: error: use of undeclared identifier 'RNTupleWriter'\n",
      "   auto ntuple = RNTupleWriter::Recreate(std::move(model), \"Staff\", kNTupleFileName);\n",
      "                 ^\n",
      "input_line_33:25:69: error: use of undeclared identifier 'kNTupleFileName'\n",
      "   auto ntuple = RNTupleWriter::Recreate(std::move(model), \"Staff\", kNTupleFileName);\n",
      "                                                                    ^\n"
     ]
    }
   ],
   "source": [
    "%%cpp -d\n",
    "void Ingest() {\n",
    "   // The input file cernstaff.dat is a copy of the CERN staff data base from 1988\n",
    "   ifstream fin(gROOT->GetTutorialDir() + \"/tree/cernstaff.dat\");\n",
    "   assert(fin.is_open());\n",
    "\n",
    "   // We create a unique pointer to an empty data model\n",
    "   auto model = RNTupleModel::Create();\n",
    "\n",
    "   // To define the data model, we create fields with a given C++ type and name.  Fields are roughly TTree branches.\n",
    "   // MakeField returns a shared pointer to a memory location that we can populate to fill the ntuple with data\n",
    "   auto fldCategory = model->MakeField<int>(\"Category\");\n",
    "   auto fldFlag     = model->MakeField<unsigned int>(\"Flag\");\n",
    "   auto fldAge      = model->MakeField<int>(\"Age\");\n",
    "   auto fldService  = model->MakeField<int>(\"Service\");\n",
    "   auto fldChildren = model->MakeField<int>(\"Children\");\n",
    "   auto fldGrade    = model->MakeField<int>(\"Grade\");\n",
    "   auto fldStep     = model->MakeField<int>(\"Step\");\n",
    "   auto fldHrweek   = model->MakeField<int>(\"Hrweek\");\n",
    "   auto fldCost     = model->MakeField<int>(\"Cost\");\n",
    "   auto fldDivision = model->MakeField<std::string>(\"Division\");\n",
    "   auto fldNation   = model->MakeField<std::string>(\"Nation\");\n",
    "\n",
    "   // We hand-over the data model to a newly created ntuple of name \"Staff\", stored in kNTupleFileName\n",
    "   // In return, we get a unique pointer to an ntuple that we can fill\n",
    "   auto ntuple = RNTupleWriter::Recreate(std::move(model), \"Staff\", kNTupleFileName);\n",
    "\n",
    "   std::string record;\n",
    "   while (std::getline(fin, record)) {\n",
    "      std::istringstream iss(record);\n",
    "      iss >> *fldCategory >> *fldFlag >> *fldAge >> *fldService >> *fldChildren >> *fldGrade >> *fldStep >> *fldHrweek\n",
    "          >> *fldCost >> *fldDivision >> *fldNation;\n",
    "      ntuple->Fill();\n",
    "   }\n",
    "\n",
    "   // The ntuple unique pointer goes out of scope here.  On destruction, the ntuple flushes unwritten data to disk\n",
    "   // and closes the attached ROOT file.\n",
    "}"
   ]
  },
  {
   "cell_type": "markdown",
   "metadata": {},
   "source": [
    " A helper function is created: "
   ]
  },
  {
   "cell_type": "code",
   "execution_count": 4,
   "metadata": {
    "collapsed": false
   },
   "outputs": [
    {
     "name": "stderr",
     "output_type": "stream",
     "text": [
      "input_line_34:3:17: error: use of undeclared identifier 'RNTupleModel'\n",
      "   auto model = RNTupleModel::Create();\n",
      "                ^\n",
      "input_line_34:6:54: error: expected '(' for function-style cast or type construction\n",
      "   std::shared_ptr<int> fldAge = model->MakeField<int>(\"Age\");\n",
      "                                                  ~~~^\n",
      "input_line_34:9:18: error: use of undeclared identifier 'RNTupleReader'\n",
      "   auto ntuple = RNTupleReader::Open(std::move(model), \"Staff\", kNTupleFileName);\n",
      "                 ^\n",
      "input_line_34:9:65: error: use of undeclared identifier 'kNTupleFileName'\n",
      "   auto ntuple = RNTupleReader::Open(std::move(model), \"Staff\", kNTupleFileName);\n",
      "                                                                ^\n"
     ]
    }
   ],
   "source": [
    "%%cpp -d\n",
    "void Analyze() {\n",
    "   // Get a unique pointer to an empty RNTuple model\n",
    "   auto model = RNTupleModel::Create();\n",
    "\n",
    "   // We only define the fields that are needed for reading\n",
    "   std::shared_ptr<int> fldAge = model->MakeField<int>(\"Age\");\n",
    "\n",
    "   // Create an ntuple and attach the read model to it\n",
    "   auto ntuple = RNTupleReader::Open(std::move(model), \"Staff\", kNTupleFileName);\n",
    "\n",
    "   // Quick overview of the ntuple's key meta-data\n",
    "   std::cout << ntuple->GetInfo();\n",
    "   // In a future version of RNTuple, there will be support for ntuple->Show() and ntuple->Scan()\n",
    "\n",
    "   auto c = new TCanvas(\"c\", \"\", 200, 10, 700, 500);\n",
    "   TH1I h(\"h\", \"Age Distribution CERN, 1988\", 100, 0, 100);\n",
    "   h.SetFillColor(48);\n",
    "\n",
    "   for (auto entryId : *ntuple) {\n",
    "      // Populate fldAge\n",
    "      ntuple->LoadEntry(entryId);\n",
    "      h.Fill(*fldAge);\n",
    "   }\n",
    "\n",
    "   h.DrawCopy();\n",
    "}"
   ]
  },
  {
   "cell_type": "code",
   "execution_count": 5,
   "metadata": {
    "collapsed": false
   },
   "outputs": [
    {
     "name": "stderr",
     "output_type": "stream",
     "text": [
      "input_line_36:2:3: error: use of undeclared identifier 'Ingest'\n",
      " (Ingest())\n",
      "  ^\n",
      "Error in <HandleInterpreterException>: Error evaluating expression (Ingest()).\n",
      "Execution of your code was aborted.\n"
     ]
    }
   ],
   "source": [
    "Ingest();\n",
    "Analyze();"
   ]
  },
  {
   "cell_type": "markdown",
   "metadata": {},
   "source": [
    "Draw all canvases "
   ]
  },
  {
   "cell_type": "code",
   "execution_count": 6,
   "metadata": {
    "collapsed": false
   },
   "outputs": [],
   "source": [
    "gROOT->GetListOfCanvases()->Draw()"
   ]
  }
 ],
 "metadata": {
  "kernelspec": {
   "display_name": "ROOT C++",
   "language": "c++",
   "name": "root"
  },
  "language_info": {
   "codemirror_mode": "text/x-c++src",
   "file_extension": ".C",
   "mimetype": " text/x-c++src",
   "name": "c++"
  }
 },
 "nbformat": 4,
 "nbformat_minor": 2
}
