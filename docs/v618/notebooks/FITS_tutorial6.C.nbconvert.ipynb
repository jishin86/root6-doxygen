{
 "cells": [
  {
   "cell_type": "markdown",
   "metadata": {},
   "source": [
    "#  F I T S_Tutorial 6\n",
    "\n",
    "Open a FITS file whose primary array represents\n",
    "a spectrum table (flux vs wavelength) and dump its columns\n",
    "\n",
    "\n",
    "\n",
    "\n",
    "**Author:** Claudi Martinez  \n",
    "<i><small>This notebook tutorial was automatically generated with <a href= \"https://github.com/root-project/root/blob/master/documentation/doxygen/converttonotebook.py\">ROOTBOOK-izer</a> from the macro found in the ROOT repository  on Thursday, August 29, 2019 at 01:36 AM.</small></i>"
   ]
  },
  {
   "cell_type": "markdown",
   "metadata": {},
   "source": [
    "We open a table from a fits file\n",
    " and dump its columns."
   ]
  },
  {
   "cell_type": "code",
   "execution_count": 1,
   "metadata": {
    "collapsed": false
   },
   "outputs": [],
   "source": [
    "TString dir = gROOT->GetTutorialDir();"
   ]
  },
  {
   "cell_type": "markdown",
   "metadata": {},
   "source": [
    "Open the table"
   ]
  },
  {
   "cell_type": "code",
   "execution_count": 2,
   "metadata": {
    "collapsed": false
   },
   "outputs": [],
   "source": [
    "TFITSHDU hdu(dir + \"/fitsio/sample4.fits[1]\");"
   ]
  },
  {
   "cell_type": "markdown",
   "metadata": {},
   "source": [
    "Show columns"
   ]
  },
  {
   "cell_type": "code",
   "execution_count": 3,
   "metadata": {
    "collapsed": false
   },
   "outputs": [
    {
     "name": "stdout",
     "output_type": "stream",
     "text": [
      "The table has 8 columns:\n",
      " - Column 0: objId\n",
      " - Column 1: ra\n",
      " - Column 2: dec\n",
      " - Column 3: mag\n",
      " - Column 4: reddening\n",
      " - Column 5: objType\n",
      " - Column 6: mu_ra\n",
      " - Column 7: mu_dec\n"
     ]
    }
   ],
   "source": [
    "const auto nColumns = hdu.GetTabNColumns();\n",
    "printf(\"The table has %d columns:\\n\", nColumns);\n",
    "for (auto i : ROOT::TSeqI(nColumns)) {\n",
    "   printf(\" - Column %d: %s\\n\", i, hdu.GetColumnName(i).Data());\n",
    "}"
   ]
  },
  {
   "cell_type": "markdown",
   "metadata": {},
   "source": [
    "Draw all canvases "
   ]
  },
  {
   "cell_type": "code",
   "execution_count": 4,
   "metadata": {
    "collapsed": false
   },
   "outputs": [],
   "source": [
    "gROOT->GetListOfCanvases()->Draw()"
   ]
  }
 ],
 "metadata": {
  "kernelspec": {
   "display_name": "ROOT C++",
   "language": "c++",
   "name": "root"
  },
  "language_info": {
   "codemirror_mode": "text/x-c++src",
   "file_extension": ".C",
   "mimetype": " text/x-c++src",
   "name": "c++"
  }
 },
 "nbformat": 4,
 "nbformat_minor": 2
}
