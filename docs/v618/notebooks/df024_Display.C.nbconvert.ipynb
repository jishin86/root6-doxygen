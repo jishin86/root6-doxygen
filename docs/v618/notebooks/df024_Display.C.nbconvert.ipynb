{
 "cells": [
  {
   "cell_type": "markdown",
   "metadata": {},
   "source": [
    "# Df 0 2 4_ Display\n",
    "This tutorial shows how to use the Display action\n",
    "\n",
    "\n",
    "\n",
    "\n",
    "**Author:** Enrico Guiraud, Danilo Piparo, Enric Tejedor Saavedra CERN, Massimo Tumolo Politecnico di Torino  \n",
    "<i><small>This notebook tutorial was automatically generated with <a href= \"https://github.com/root-project/root/blob/master/documentation/doxygen/converttonotebook.py\">ROOTBOOK-izer</a> from the macro found in the ROOT repository  on Thursday, August 29, 2019 at 01:12 AM.</small></i>"
   ]
  },
  {
   "cell_type": "markdown",
   "metadata": {},
   "source": [
    "Setting up a dataframe with some data"
   ]
  },
  {
   "cell_type": "code",
   "execution_count": 1,
   "metadata": {
    "collapsed": false
   },
   "outputs": [],
   "source": [
    "unsigned long long y = 1;\n",
    "int x = 1;\n",
    "double w = 1;\n",
    "double z = 1;\n",
    "ROOT::RDataFrame tdf(10);\n",
    "auto d = tdf.Define(\"y\", [&y]() { return y *= 100; }) // A column with ulongs\n",
    "            .Define(\"x\",\n",
    "                    [&x]() {\n",
    "                       return std::vector<int>({x++, x++, x++, x++});\n",
    "                    })                                // A column with four-elements collection\n",
    "            .Define(\"w\", [&w]() { return w *= 1.8; }) // A column with doubles\n",
    "            .Define(\"z\", [&z]() {\n",
    "               z *= 1.1;\n",
    "               return std::vector<std::vector<double>>({{z, ++z}, {z, ++z}, {z, ++z}});\n",
    "            }); // A column of matrices"
   ]
  },
  {
   "cell_type": "markdown",
   "metadata": {},
   "source": [
    "Preparing the rresultptr<rdisplay> object with all columns and default number of entries"
   ]
  },
  {
   "cell_type": "code",
   "execution_count": 2,
   "metadata": {
    "collapsed": false
   },
   "outputs": [],
   "source": [
    "auto d1 = d.Display(\"\");"
   ]
  },
  {
   "cell_type": "markdown",
   "metadata": {},
   "source": [
    "Preparing the rresultptr<rdisplay> object with two columns and default number of entries"
   ]
  },
  {
   "cell_type": "code",
   "execution_count": 3,
   "metadata": {
    "collapsed": false
   },
   "outputs": [],
   "source": [
    "auto d2 = d.Display({\"x\", \"y\"});"
   ]
  },
  {
   "cell_type": "markdown",
   "metadata": {},
   "source": [
    "Printing the short representations, the event loop will run"
   ]
  },
  {
   "cell_type": "code",
   "execution_count": 4,
   "metadata": {
    "collapsed": false
   },
   "outputs": [
    {
     "name": "stdout",
     "output_type": "stream",
     "text": [
      "The following is the representation of all columns with the default nr of entries\n",
      "y           | x   | w         | z                        | \n",
      "100         | 1   | 1.8000000 | { 1.1000000, 2.1000000 } | \n",
      "            | ... |           | ...                      | \n",
      "            | 4   |           | { 3.1000000, 4.1000000 } | \n",
      "10000       | 5   | 3.2400000 | { 4.5100000, 5.5100000 } | \n",
      "            | ... |           | ...                      | \n",
      "            | 8   |           | { 6.5100000, 7.5100000 } | \n",
      "1000000     | 9   | 5.8320000 | { 8.2610000, 9.2610000 } | \n",
      "            | ... |           | ...                      | \n",
      "            | 12  |           | { 10.261000, 11.261000 } | \n",
      "100000000   | 13  | 10.497600 | { 12.387100, 13.387100 } | \n",
      "            | ... |           | ...                      | \n",
      "            | 16  |           | { 14.387100, 15.387100 } | \n",
      "10000000000 | 17  | 18.895680 | { 16.925810, 17.925810 } | \n",
      "            | ... |           | ...                      | \n",
      "            | 20  |           | { 18.925810, 19.925810 } | \n",
      "\n",
      "\n",
      "The following is the representation of two columns with the default nr of entries\n",
      "x   | y           | \n",
      "1   | 100         | \n",
      "... |             | \n",
      "4   |             | \n",
      "5   | 10000       | \n",
      "... |             | \n",
      "8   |             | \n",
      "9   | 1000000     | \n",
      "... |             | \n",
      "12  |             | \n",
      "13  | 100000000   | \n",
      "... |             | \n",
      "16  |             | \n",
      "17  | 10000000000 | \n",
      "... |             | \n",
      "20  |             | \n"
     ]
    }
   ],
   "source": [
    "std::cout << \"The following is the representation of all columns with the default nr of entries\" << std::endl;\n",
    "d1->Print();\n",
    "std::cout << \"\\n\\nThe following is the representation of two columns with the default nr of entries\" << std::endl;\n",
    "d2->Print();"
   ]
  },
  {
   "cell_type": "markdown",
   "metadata": {},
   "source": [
    "Draw all canvases "
   ]
  },
  {
   "cell_type": "code",
   "execution_count": 5,
   "metadata": {
    "collapsed": false
   },
   "outputs": [],
   "source": [
    "gROOT->GetListOfCanvases()->Draw()"
   ]
  }
 ],
 "metadata": {
  "kernelspec": {
   "display_name": "ROOT C++",
   "language": "c++",
   "name": "root"
  },
  "language_info": {
   "codemirror_mode": "text/x-c++src",
   "file_extension": ".C",
   "mimetype": " text/x-c++src",
   "name": "c++"
  }
 },
 "nbformat": 4,
 "nbformat_minor": 2
}
