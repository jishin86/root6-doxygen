{
 "cells": [
  {
   "cell_type": "markdown",
   "metadata": {},
   "source": [
    "# Rf 5 1 0_Wsnamedsets\n",
    "Organization and simultaneous fits: working with named parameter sets and parameter snapshots in workspaces\n",
    "\n",
    "\n",
    "\n",
    "**Author:**  04/2009 - Wouter Verkerke  \n",
    "<i><small>This notebook tutorial was automatically generated with <a href= \"https://github.com/root-project/root/blob/master/documentation/doxygen/converttonotebook.py\">ROOTBOOK-izer</a> from the macro found in the ROOT repository  on Thursday, August 29, 2019 at 02:56 AM.</small></i>"
   ]
  },
  {
   "cell_type": "code",
   "execution_count": 1,
   "metadata": {
    "collapsed": false
   },
   "outputs": [],
   "source": [
    "%%cpp -d\n",
    "#include \"RooRealVar.h\"\n",
    "#include \"RooDataSet.h\"\n",
    "#include \"RooGaussian.h\"\n",
    "#include \"RooConstVar.h\"\n",
    "#include \"RooChebychev.h\"\n",
    "#include \"RooAddPdf.h\"\n",
    "#include \"RooWorkspace.h\"\n",
    "#include \"RooPlot.h\"\n",
    "#include \"TCanvas.h\"\n",
    "#include \"TAxis.h\"\n",
    "#include \"TFile.h\"\n",
    "#include \"TH1.h\""
   ]
  },
  {
   "cell_type": "code",
   "execution_count": 2,
   "metadata": {
    "collapsed": false
   },
   "outputs": [],
   "source": [
    "%%cpp -d\n",
    "// This is a workaround to make sure the namespace is used inside functions\n",
    "using namespace RooFit;"
   ]
  },
  {
   "cell_type": "code",
   "execution_count": 3,
   "metadata": {
    "collapsed": false
   },
   "outputs": [],
   "source": [
    "void fillWorkspace(RooWorkspace &w);"
   ]
  },
  {
   "cell_type": "markdown",
   "metadata": {},
   "source": [
    " A helper function is created: "
   ]
  },
  {
   "cell_type": "code",
   "execution_count": 4,
   "metadata": {
    "collapsed": false
   },
   "outputs": [],
   "source": [
    "%%cpp -d\n",
    "void fillWorkspace(RooWorkspace &w)\n",
    "{\n",
    "   // C r e a t e   m o d e l\n",
    "   // -----------------------\n",
    "\n",
    "   // Declare observable x\n",
    "   RooRealVar x(\"x\", \"x\", 0, 10);\n",
    "\n",
    "   // Create two Gaussian PDFs g1(x,mean1,sigma) anf g2(x,mean2,sigma) and their parameters\n",
    "   RooRealVar mean(\"mean\", \"mean of gaussians\", 5, 0, 10);\n",
    "   RooRealVar sigma1(\"sigma1\", \"width of gaussians\", 0.5);\n",
    "   RooRealVar sigma2(\"sigma2\", \"width of gaussians\", 1);\n",
    "\n",
    "   RooGaussian sig1(\"sig1\", \"Signal component 1\", x, mean, sigma1);\n",
    "   RooGaussian sig2(\"sig2\", \"Signal component 2\", x, mean, sigma2);\n",
    "\n",
    "   // Build Chebychev polynomial p.d.f.\n",
    "   RooRealVar a0(\"a0\", \"a0\", 0.5, 0., 1.);\n",
    "   RooRealVar a1(\"a1\", \"a1\", 0.2, 0., 1.);\n",
    "   RooChebychev bkg(\"bkg\", \"Background\", x, RooArgSet(a0, a1));\n",
    "\n",
    "   // Sum the signal components into a composite signal p.d.f.\n",
    "   RooRealVar sig1frac(\"sig1frac\", \"fraction of component 1 in signal\", 0.8, 0., 1.);\n",
    "   RooAddPdf sig(\"sig\", \"Signal\", RooArgList(sig1, sig2), sig1frac);\n",
    "\n",
    "   // Sum the composite signal and background\n",
    "   RooRealVar bkgfrac(\"bkgfrac\", \"fraction of background\", 0.5, 0., 1.);\n",
    "   RooAddPdf model(\"model\", \"g1+g2+a\", RooArgList(bkg, sig), bkgfrac);\n",
    "\n",
    "   // Import model into p.d.f.\n",
    "   w.import(model);\n",
    "\n",
    "   // E n c o d e   d e f i n i t i o n   o f   p a r a m e t e r s   i n   w o r k s p a c e\n",
    "   // ---------------------------------------------------------------------------------------\n",
    "\n",
    "   // Define named sets \"parameters\" and \"observables\", which list which variables should be considered\n",
    "   // parameters and observables by the users convention\n",
    "   //\n",
    "   // Variables appearing in sets _must_ live in the workspace already, or the autoImport flag\n",
    "   // of defineSet must be set to import them on the fly. Named sets contain only references\n",
    "   // to the original variables, therefore the value of observables in named sets already\n",
    "   // reflect their 'current' value\n",
    "   RooArgSet *params = (RooArgSet *)model.getParameters(x);\n",
    "   w.defineSet(\"parameters\", *params);\n",
    "   w.defineSet(\"observables\", x);\n",
    "\n",
    "   // E n c o d e   r e f e r e n c e   v a l u e   f o r   p a r a m e t e r s   i n   w o r k s p a c e\n",
    "   // ---------------------------------------------------------------------------------------------------\n",
    "\n",
    "   // Define a parameter 'snapshot' in the p.d.f.\n",
    "   // Unlike a named set, a parameter snapshot stores an independent set of values for\n",
    "   // a given set of variables in the workspace. The values can be stored and reloaded\n",
    "   // into the workspace variable objects using the loadSnapshot() and saveSnapshot()\n",
    "   // methods. A snapshot saves the value of each variable, any errors that are stored\n",
    "   // with it as well as the 'Constant' flag that is used in fits to determine if a\n",
    "   // parameter is kept fixed or not.\n",
    "\n",
    "   // Do a dummy fit to a (supposedly) reference dataset here and store the results\n",
    "   // of that fit into a snapshot\n",
    "   RooDataSet *refData = model.generate(x, 10000);\n",
    "   model.fitTo(*refData, PrintLevel(-1));\n",
    "\n",
    "   // The kTRUE flag imports the values of the objects in (*params) into the workspace\n",
    "   // If not set, the present values of the workspace parameters objects are stored\n",
    "   w.saveSnapshot(\"reference_fit\", *params, kTRUE);\n",
    "\n",
    "   // Make another fit with the signal component forced to zero\n",
    "   // and save those parameters too\n",
    "\n",
    "   bkgfrac.setVal(1);\n",
    "   bkgfrac.setConstant(kTRUE);\n",
    "   bkgfrac.removeError();\n",
    "   model.fitTo(*refData, PrintLevel(-1));\n",
    "\n",
    "   w.saveSnapshot(\"reference_fit_bkgonly\", *params, kTRUE);\n",
    "}"
   ]
  },
  {
   "cell_type": "markdown",
   "metadata": {},
   "source": [
    "Create model and dataset\n",
    " -----------------------------------------------"
   ]
  },
  {
   "cell_type": "code",
   "execution_count": 5,
   "metadata": {
    "collapsed": false
   },
   "outputs": [
    {
     "name": "stdout",
     "output_type": "stream",
     "text": [
      "\n",
      "\u001b[1mRooFit v3.60 -- Developed by Wouter Verkerke and David Kirkby\u001b[0m \n",
      "                Copyright (C) 2000-2013 NIKHEF, University of California & Stanford University\n",
      "                All rights reserved, please read http://roofit.sourceforge.net/license.txt\n",
      "\n",
      "[#1] INFO:ObjectHandling -- RooWorkspace::import(w) importing RooAddPdf::model\n",
      "[#1] INFO:ObjectHandling -- RooWorkspace::import(w) importing RooChebychev::bkg\n",
      "[#1] INFO:ObjectHandling -- RooWorkspace::import(w) importing RooRealVar::x\n",
      "[#1] INFO:ObjectHandling -- RooWorkspace::import(w) importing RooRealVar::a0\n",
      "[#1] INFO:ObjectHandling -- RooWorkspace::import(w) importing RooRealVar::a1\n",
      "[#1] INFO:ObjectHandling -- RooWorkspace::import(w) importing RooRealVar::bkgfrac\n",
      "[#1] INFO:ObjectHandling -- RooWorkspace::import(w) importing RooAddPdf::sig\n",
      "[#1] INFO:ObjectHandling -- RooWorkspace::import(w) importing RooGaussian::sig1\n",
      "[#1] INFO:ObjectHandling -- RooWorkspace::import(w) importing RooRealVar::mean\n",
      "[#1] INFO:ObjectHandling -- RooWorkspace::import(w) importing RooRealVar::sigma1\n",
      "[#1] INFO:ObjectHandling -- RooWorkspace::import(w) importing RooRealVar::sig1frac\n",
      "[#1] INFO:ObjectHandling -- RooWorkspace::import(w) importing RooGaussian::sig2\n",
      "[#1] INFO:ObjectHandling -- RooWorkspace::import(w) importing RooRealVar::sigma2\n",
      "[#1] INFO:Minization -- RooMinimizer::optimizeConst: activating const optimization\n",
      "[#1] INFO:Minization --  The following expressions will be evaluated in cache-and-track mode: (bkg,sig1,sig2)\n",
      "[#1] INFO:Minization -- RooMinimizer::optimizeConst: deactivating const optimization\n",
      "[#1] INFO:Minization -- RooMinimizer::optimizeConst: activating const optimization\n",
      "[#1] INFO:Minization --  The following expressions will be evaluated in cache-and-track mode: (bkg,sig1,sig2)\n",
      "[#1] INFO:Minization -- RooMinimizer::optimizeConst: deactivating const optimization\n"
     ]
    }
   ],
   "source": [
    "RooWorkspace *w = new RooWorkspace(\"w\");\n",
    "fillWorkspace(*w);"
   ]
  },
  {
   "cell_type": "markdown",
   "metadata": {},
   "source": [
    "Exploit convention encoded in named set \"parameters\" and \"observables\"\n",
    " to use workspace contents w/o need for introspected"
   ]
  },
  {
   "cell_type": "code",
   "execution_count": 6,
   "metadata": {
    "collapsed": false
   },
   "outputs": [],
   "source": [
    "RooAbsPdf *model = w->pdf(\"model\");"
   ]
  },
  {
   "cell_type": "markdown",
   "metadata": {},
   "source": [
    "Generate data from p.d.f. in given observables"
   ]
  },
  {
   "cell_type": "code",
   "execution_count": 7,
   "metadata": {
    "collapsed": false
   },
   "outputs": [],
   "source": [
    "RooDataSet *data = model->generate(*w->set(\"observables\"), 1000);"
   ]
  },
  {
   "cell_type": "markdown",
   "metadata": {},
   "source": [
    "Fit model to data"
   ]
  },
  {
   "cell_type": "code",
   "execution_count": 8,
   "metadata": {
    "collapsed": false
   },
   "outputs": [
    {
     "name": "stdout",
     "output_type": "stream",
     "text": [
      "[#1] INFO:Minization -- createNLL: caching constraint set under name CONSTR_OF_PDF_model_FOR_OBS_x with 0 entries\n",
      "[#1] INFO:Minization -- RooMinimizer::optimizeConst: activating const optimization\n",
      "[#1] INFO:Minization --  The following expressions will be evaluated in cache-and-track mode: (bkg,sig1,sig2)\n",
      " **********\n",
      " **    1 **SET PRINT           1\n",
      " **********\n",
      " **********\n",
      " **    2 **SET NOGRAD\n",
      " **********\n",
      " PARAMETER DEFINITIONS:\n",
      "    NO.   NAME         VALUE      STEP SIZE      LIMITS\n",
      "     1 a0           5.00000e-01  1.00000e-01    0.00000e+00  1.00000e+00\n",
      "     2 a1           2.00000e-01  1.00000e-01    0.00000e+00  1.00000e+00\n",
      "     3 bkgfrac      5.00000e-01  1.00000e-01    0.00000e+00  1.00000e+00\n",
      "     4 mean         5.00000e+00  1.00000e+00    0.00000e+00  1.00000e+01\n",
      "     5 sig1frac     8.00000e-01  1.00000e-01    0.00000e+00  1.00000e+00\n",
      " **********\n",
      " **    3 **SET ERR         0.5\n",
      " **********\n",
      " **********\n",
      " **    4 **SET PRINT           1\n",
      " **********\n",
      " **********\n",
      " **    5 **SET STR           1\n",
      " **********\n",
      " NOW USING STRATEGY  1: TRY TO BALANCE SPEED AGAINST RELIABILITY\n",
      " **********\n",
      " **    6 **MIGRAD        2500           1\n",
      " **********\n",
      " FIRST CALL TO USER FUNCTION AT NEW START POINT, WITH IFLAG=4.\n",
      " START MIGRAD MINIMIZATION.  STRATEGY  1.  CONVERGENCE WHEN EDM .LT. 1.00e-03\n",
      " FCN=1953.02 FROM MIGRAD    STATUS=INITIATE       14 CALLS          15 TOTAL\n",
      "                     EDM= unknown      STRATEGY= 1      NO ERROR MATRIX       \n",
      "  EXT PARAMETER               CURRENT GUESS       STEP         FIRST   \n",
      "  NO.   NAME      VALUE            ERROR          SIZE      DERIVATIVE \n",
      "   1  a0           5.00000e-01   1.00000e-01   2.01358e-01  -5.24449e+00\n",
      "   2  a1           2.00000e-01   1.00000e-01   2.57889e-01  -8.31158e+00\n",
      "   3  bkgfrac      5.00000e-01   1.00000e-01   2.01358e-01  -1.67086e+01\n",
      "   4  mean         5.00000e+00   1.00000e+00   2.01358e-01  -1.20616e+02\n",
      "   5  sig1frac     8.00000e-01   1.00000e-01   2.57889e-01  -8.99606e+00\n",
      "                               ERR DEF= 0.5\n",
      " MIGRAD MINIMIZATION HAS CONVERGED.\n",
      " MIGRAD WILL VERIFY CONVERGENCE AND ERROR MATRIX.\n",
      " COVARIANCE MATRIX CALCULATED SUCCESSFULLY\n",
      " FCN=1949.67 FROM MIGRAD    STATUS=CONVERGED     164 CALLS         165 TOTAL\n",
      "                     EDM=2.46934e-05    STRATEGY= 1      ERROR MATRIX ACCURATE \n",
      "  EXT PARAMETER                                   STEP         FIRST   \n",
      "  NO.   NAME      VALUE            ERROR          SIZE      DERIVATIVE \n",
      "   1  a0           5.35942e-01   6.82140e-02   4.16868e-03   9.78465e-04\n",
      "   2  a1           1.95503e-01   7.79188e-02   5.51158e-03   2.08158e-03\n",
      "   3  bkgfrac      5.40925e-01   2.13219e-02   1.19176e-03   1.14661e-02\n",
      "   4  mean         5.01914e+00   2.93156e-02   1.77988e-04   4.20703e-01\n",
      "   5  sig1frac     9.99993e-01   6.58597e-01   3.40053e-02  -3.59510e-03\n",
      "                               ERR DEF= 0.5\n",
      " EXTERNAL ERROR MATRIX.    NDIM=  25    NPAR=  5    ERR DEF=0.5\n",
      "  4.682e-03  1.464e-04 -2.241e-05 -1.666e-04  1.597e-06 \n",
      "  1.464e-04  6.151e-03 -6.777e-04 -1.233e-04  1.335e-05 \n",
      " -2.241e-05 -6.777e-04  4.549e-04  1.230e-05 -4.750e-06 \n",
      " -1.666e-04 -1.233e-04  1.230e-05  8.594e-04 -6.227e-08 \n",
      "  1.597e-06  1.335e-05 -4.750e-06 -6.227e-08  9.468e-06 \n",
      " PARAMETER  CORRELATION COEFFICIENTS  \n",
      "       NO.  GLOBAL      1      2      3      4      5\n",
      "        1  0.08648   1.000  0.027 -0.015 -0.083  0.008\n",
      "        2  0.40890   0.027  1.000 -0.405 -0.054  0.055\n",
      "        3  0.40825  -0.015 -0.405  1.000  0.020 -0.072\n",
      "        4  0.09773  -0.083 -0.054  0.020  1.000 -0.001\n",
      "        5  0.07801   0.008  0.055 -0.072 -0.001  1.000\n",
      " **********\n",
      " **    7 **SET ERR         0.5\n",
      " **********\n",
      " **********\n",
      " **    8 **SET PRINT           1\n",
      " **********\n",
      " **********\n",
      " **    9 **HESSE        2500\n",
      " **********\n",
      " COVARIANCE MATRIX CALCULATED SUCCESSFULLY\n",
      " FCN=1949.67 FROM HESSE     STATUS=OK             31 CALLS         196 TOTAL\n",
      "                     EDM=2.47191e-05    STRATEGY= 1      ERROR MATRIX ACCURATE \n",
      "  EXT PARAMETER                                INTERNAL      INTERNAL  \n",
      "  NO.   NAME      VALUE            ERROR       STEP SIZE       VALUE   \n",
      "   1  a0           5.35942e-01   6.82123e-02   1.66747e-04   7.19468e-02\n",
      "   2  a1           1.95503e-01   7.77468e-02   2.20463e-04  -6.54793e-01\n",
      "   3  bkgfrac      5.40925e-01   2.12519e-02   2.38351e-04   8.19410e-02\n",
      "   4  mean         5.01914e+00   2.93147e-02   3.55975e-05   3.82861e-03\n",
      "   5  sig1frac     9.99993e-01   6.60187e-01   6.80107e-03   1.56563e+00\n",
      "                               ERR DEF= 0.5\n",
      " EXTERNAL ERROR MATRIX.    NDIM=  25    NPAR=  5    ERR DEF=0.5\n",
      "  4.682e-03  1.450e-04 -2.161e-05 -1.666e-04 -2.406e-07 \n",
      "  1.450e-04  6.124e-03 -6.677e-04 -1.218e-04 -2.003e-06 \n",
      " -2.161e-05 -6.677e-04  4.519e-04  1.192e-05  7.150e-07 \n",
      " -1.666e-04 -1.218e-04  1.192e-05  8.594e-04  9.374e-09 \n",
      " -2.406e-07 -2.003e-06  7.150e-07  9.374e-09  9.576e-06 \n",
      " PARAMETER  CORRELATION COEFFICIENTS  \n",
      "       NO.  GLOBAL      1      2      3      4      5\n",
      "        1  0.08622   1.000  0.027 -0.015 -0.083 -0.001\n",
      "        2  0.40431   0.027  1.000 -0.401 -0.053 -0.008\n",
      "        3  0.40145  -0.015 -0.401  1.000  0.019  0.011\n",
      "        4  0.09742  -0.083 -0.053  0.019  1.000  0.000\n",
      "        5  0.01172  -0.001 -0.008  0.011  0.000  1.000\n",
      "[#1] INFO:Minization -- RooMinimizer::optimizeConst: deactivating const optimization\n"
     ]
    }
   ],
   "source": [
    "model->fitTo(*data);"
   ]
  },
  {
   "cell_type": "markdown",
   "metadata": {},
   "source": [
    "Plot fitted model and data on frame of first (only) observable"
   ]
  },
  {
   "cell_type": "code",
   "execution_count": 9,
   "metadata": {
    "collapsed": false
   },
   "outputs": [],
   "source": [
    "RooPlot *frame = ((RooRealVar *)w->set(\"observables\")->first())->frame();\n",
    "data->plotOn(frame);\n",
    "model->plotOn(frame);"
   ]
  },
  {
   "cell_type": "markdown",
   "metadata": {},
   "source": [
    "Overlay plot with model with reference parameters as stored in snapshots"
   ]
  },
  {
   "cell_type": "code",
   "execution_count": 10,
   "metadata": {
    "collapsed": false
   },
   "outputs": [],
   "source": [
    "w->loadSnapshot(\"reference_fit\");\n",
    "model->plotOn(frame, LineColor(kRed));\n",
    "w->loadSnapshot(\"reference_fit_bkgonly\");\n",
    "model->plotOn(frame, LineColor(kRed), LineStyle(kDashed));"
   ]
  },
  {
   "cell_type": "markdown",
   "metadata": {},
   "source": [
    "Draw the frame on the canvas"
   ]
  },
  {
   "cell_type": "code",
   "execution_count": 11,
   "metadata": {
    "collapsed": false
   },
   "outputs": [],
   "source": [
    "new TCanvas(\"rf510_wsnamedsets\", \"rf503_wsnamedsets\", 600, 600);\n",
    "gPad->SetLeftMargin(0.15);\n",
    "frame->GetYaxis()->SetTitleOffset(1.4);\n",
    "frame->Draw();"
   ]
  },
  {
   "cell_type": "markdown",
   "metadata": {},
   "source": [
    "Print workspace contents"
   ]
  },
  {
   "cell_type": "code",
   "execution_count": 12,
   "metadata": {
    "collapsed": false
   },
   "outputs": [
    {
     "name": "stdout",
     "output_type": "stream",
     "text": [
      "\n",
      "RooWorkspace(w) w contents\n",
      "\n",
      "variables\n",
      "---------\n",
      "(a0,a1,bkgfrac,mean,sig1frac,sigma1,sigma2,x)\n",
      "\n",
      "p.d.f.s\n",
      "-------\n",
      "RooChebychev::bkg[ x=x coefList=(a0,a1) ] = 1\n",
      "RooAddPdf::model[ bkgfrac * bkg + [%] * sig ] = 1\n",
      "RooAddPdf::sig[ sig1frac * sig1 + [%] * sig2 ] = 0.0106966\n",
      "RooGaussian::sig1[ x=x mean=mean sigma=sigma1 ] = 1.19649e-05\n",
      "RooGaussian::sig2[ x=x mean=mean sigma=sigma2 ] = 0.0588136\n",
      "\n",
      "parameter snapshots\n",
      "-------------------\n",
      "reference_fit = (a0=0.500958 +/- 0.0231941,a1=0.160483 +/- 0.0372743,bkgfrac=0.504708 +/- 0.0113925,mean=5.01893 +/- 0.0101204,sigma1=0.5[C],sig1frac=0.818293 +/- 0.0374314,sigma2=1[C])\n",
      "reference_fit_bkgonly = (a0=0.474267 +/- 0.0211215,a1=2.86676e-12 +/- 0.000176662,bkgfrac=1[C],mean=2.6195 +/- 2.39943,sigma1=0.5[C],sig1frac=0.818293 +/- 0.324473,sigma2=1[C])\n",
      "\n",
      "named sets\n",
      "----------\n",
      "observables:(x)\n",
      "parameters:(a0,a1,bkgfrac,mean,sig1frac,sigma1,sigma2)\n",
      "\n"
     ]
    }
   ],
   "source": [
    "w->Print();"
   ]
  },
  {
   "cell_type": "markdown",
   "metadata": {},
   "source": [
    "Workspace will remain in memory after macro finishes"
   ]
  },
  {
   "cell_type": "code",
   "execution_count": 13,
   "metadata": {
    "collapsed": false
   },
   "outputs": [],
   "source": [
    "gDirectory->Add(w);"
   ]
  },
  {
   "cell_type": "markdown",
   "metadata": {},
   "source": [
    "Draw all canvases "
   ]
  },
  {
   "cell_type": "code",
   "execution_count": 14,
   "metadata": {
    "collapsed": false
   },
   "outputs": [
    {
     "data": {
      "text/html": [
       "\n",
       "<div id=\"root_plot_1\"\n",
       "     style=\"width: 596px; height: 572px\">\n",
       "</div>\n",
       "\n",
       "<script>\n",
       " requirejs.config({\n",
       "     paths: {\n",
       "       'JSRootCore' : 'https://root.cern.ch/js/notebook//scripts/JSRootCore',\n",
       "     }\n",
       "   });\n",
       " require(['JSRootCore'],\n",
       "     function(Core) {\n",
       "       var obj = Core.JSONR_unref({\"_typename\":\"TCanvas\",\"fUniqueID\":0,\"fBits\":53673992,\"fLineColor\":1,\"fLineStyle\":1,\"fLineWidth\":1,\"fFillColor\":0,\"fFillStyle\":1001,\"fLeftMargin\":0.15,\"fRightMargin\":0.1,\"fBottomMargin\":0.1,\"fTopMargin\":0.1,\"fXfile\":2,\"fYfile\":2,\"fAfile\":1,\"fXstat\":0.99,\"fYstat\":0.99,\"fAstat\":2,\"fFrameFillColor\":0,\"fFrameLineColor\":1,\"fFrameFillStyle\":1001,\"fFrameLineStyle\":1,\"fFrameLineWidth\":1,\"fFrameBorderSize\":1,\"fFrameBorderMode\":0,\"fX1\":-2.00000007947286,\"fY1\":-8.3292786086803,\"fX2\":11.3333333532015,\"fY2\":74.9635025134858,\"fXtoAbsPixelk\":89.4000528863549,\"fXtoPixelk\":89.4000528863549,\"fXtoPixel\":44.6999996669591,\"fYtoAbsPixelk\":514.800046590614,\"fYtoPixelk\":514.800046590614,\"fYtoPixel\":-6.86734183075294,\"fUtoAbsPixelk\":5e-5,\"fUtoPixelk\":5e-5,\"fUtoPixel\":596,\"fVtoAbsPixelk\":572.00005,\"fVtoPixelk\":572,\"fVtoPixel\":-572,\"fAbsPixeltoXk\":-2.00000007947286,\"fPixeltoXk\":-2.00000007947286,\"fPixeltoX\":0.0223713648199235,\"fAbsPixeltoYk\":74.9635025134858,\"fPixeltoYk\":-8.3292786086803,\"fPixeltoY\":-0.145616750213577,\"fXlowNDC\":0,\"fYlowNDC\":0,\"fXUpNDC\":0,\"fYUpNDC\":0,\"fWNDC\":1,\"fHNDC\":1,\"fAbsXlowNDC\":0,\"fAbsYlowNDC\":0,\"fAbsWNDC\":1,\"fAbsHNDC\":1,\"fUxmin\":0,\"fUymin\":0,\"fUxmax\":10,\"fUymax\":66.6342239048055,\"fTheta\":30,\"fPhi\":30,\"fAspectRatio\":0,\"fNumber\":0,\"fTickx\":0,\"fTicky\":0,\"fLogx\":0,\"fLogy\":0,\"fLogz\":0,\"fPadPaint\":0,\"fCrosshair\":0,\"fCrosshairPos\":0,\"fBorderSize\":2,\"fBorderMode\":0,\"fModified\":false,\"fGridx\":false,\"fGridy\":false,\"fAbsCoord\":false,\"fEditable\":true,\"fFixedAspectRatio\":false,\"fPrimitives\":{\"_typename\":\"TList\",\"name\":\"TList\",\"arr\":[{\"_typename\":\"TFrame\",\"fUniqueID\":0,\"fBits\":50331656,\"fLineColor\":1,\"fLineStyle\":1,\"fLineWidth\":1,\"fFillColor\":0,\"fFillStyle\":1001,\"fX1\":0,\"fY1\":0,\"fX2\":10,\"fY2\":66.6342239048055,\"fBorderSize\":1,\"fBorderMode\":0},{\"_typename\":\"TH1D\",\"fUniqueID\":0,\"fBits\":50332168,\"fName\":\"frame_7f1394334650\",\"fTitle\":\"A RooPlot of \\\"x\\\"\",\"fLineColor\":602,\"fLineStyle\":1,\"fLineWidth\":1,\"fFillColor\":0,\"fFillStyle\":1001,\"fMarkerColor\":1,\"fMarkerStyle\":1,\"fMarkerSize\":1,\"fNcells\":102,\"fXaxis\":{\"_typename\":\"TAxis\",\"fUniqueID\":0,\"fBits\":50331648,\"fName\":\"xaxis\",\"fTitle\":\"x\",\"fNdivisions\":510,\"fAxisColor\":1,\"fLabelColor\":1,\"fLabelFont\":42,\"fLabelOffset\":0.005,\"fLabelSize\":0.035,\"fTickLength\":0.03,\"fTitleOffset\":1,\"fTitleSize\":0.035,\"fTitleColor\":1,\"fTitleFont\":42,\"fNbins\":100,\"fXmin\":0,\"fXmax\":10,\"fXbins\":[],\"fFirst\":0,\"fLast\":0,\"fBits2\":0,\"fTimeDisplay\":false,\"fTimeFormat\":\"\",\"fLabels\":null,\"fModLabs\":null},\"fYaxis\":{\"_typename\":\"TAxis\",\"fUniqueID\":0,\"fBits\":50331648,\"fName\":\"yaxis\",\"fTitle\":\"Events \\/ ( 0.1 )\",\"fNdivisions\":510,\"fAxisColor\":1,\"fLabelColor\":1,\"fLabelFont\":42,\"fLabelOffset\":0.005,\"fLabelSize\":0.035,\"fTickLength\":0.03,\"fTitleOffset\":1.4,\"fTitleSize\":0.035,\"fTitleColor\":1,\"fTitleFont\":42,\"fNbins\":1,\"fXmin\":0,\"fXmax\":1,\"fXbins\":[],\"fFirst\":0,\"fLast\":0,\"fBits2\":0,\"fTimeDisplay\":false,\"fTimeFormat\":\"\",\"fLabels\":null,\"fModLabs\":null},\"fZaxis\":{\"_typename\":\"TAxis\",\"fUniqueID\":0,\"fBits\":50331648,\"fName\":\"zaxis\",\"fTitle\":\"\",\"fNdivisions\":510,\"fAxisColor\":1,\"fLabelColor\":1,\"fLabelFont\":42,\"fLabelOffset\":0.005,\"fLabelSize\":0.035,\"fTickLength\":0.03,\"fTitleOffset\":1,\"fTitleSize\":0.035,\"fTitleColor\":1,\"fTitleFont\":42,\"fNbins\":1,\"fXmin\":0,\"fXmax\":1,\"fXbins\":[],\"fFirst\":0,\"fLast\":0,\"fBits2\":0,\"fTimeDisplay\":false,\"fTimeFormat\":\"\",\"fLabels\":null,\"fModLabs\":null},\"fBarOffset\":0,\"fBarWidth\":1000,\"fEntries\":1,\"fTsumw\":0,\"fTsumw2\":0,\"fTsumwx\":0,\"fTsumwx2\":0,\"fMaximum\":66.6342239048055,\"fMinimum\":-1111,\"fNormFactor\":0,\"fContour\":[],\"fSumw2\":[],\"fOption\":\"\",\"fFunctions\":{\"_typename\":\"TList\",\"name\":\"TList\",\"arr\":[],\"opt\":[]},\"fBufferSize\":0,\"fBuffer\":[],\"fBinStatErrOpt\":0,\"fStatOverflows\":2,\"fArray\":[0,66.6342239048055,0,0,0,0,0,0,0,0,0,0,0,0,0,0,0,0,0,0,0,0,0,0,0,0,0,0,0,0,0,0,0,0,0,0,0,0,0,0,0,0,0,0,0,0,0,0,0,0,0,0,0,0,0,0,0,0,0,0,0,0,0,0,0,0,0,0,0,0,0,0,0,0,0,0,0,0,0,0,0,0,0,0,0,0,0,0,0,0,0,0,0,0,0,0,0,0,0,0,0,0]},{\"_typename\":\"RooHist\",\"fUniqueID\":0,\"fBits\":50332680,\"fName\":\"h_modelData\",\"fTitle\":\"Histogram of modelData_plot__x\",\"fLineColor\":1,\"fLineStyle\":1,\"fLineWidth\":1,\"fFillColor\":0,\"fFillStyle\":1000,\"fMarkerColor\":1,\"fMarkerStyle\":8,\"fMarkerSize\":1,\"fNpoints\":100,\"fX\":[0.05,0.15,0.25,0.35,0.45,0.55,0.65,0.75,0.85,0.95,1.05,1.15,1.25,1.35,1.45,1.55,1.65,1.75,1.85,1.95,2.05,2.15,2.25,2.35,2.45,2.55,2.65,2.75,2.85,2.95,3.05,3.15,3.25,3.35,3.45,3.55,3.65,3.75,3.85,3.95,4.05,4.15,4.25,4.35,4.45,4.55,4.65,4.75,4.85,4.95,5.05,5.15,5.25,5.35,5.45,5.55,5.65,5.75,5.85,5.95,6.05,6.15,6.25,6.35,6.45,6.55,6.65,6.75,6.85,6.95,7.05,7.15,7.25,7.35,7.45,7.55,7.65,7.75,7.85,7.95,8.05,8.15,8.25,8.35,8.45,8.55,8.65,8.75,8.85,8.95,9.05,9.15,9.25,9.35,9.45,9.55,9.65,9.75,9.85,9.95],\"fY\":[3,1,1,6,7,4,4,2,4,2,6,1,5,2,3,5,5,5,4,2,6,4,2,3,2,1,4,2,3,10,8,3,2,3,6,5,5,7,11,10,9,9,10,15,22,30,34,38,37,41,41,55,29,36,37,24,18,18,15,10,8,6,4,4,7,8,6,10,5,7,7,4,7,6,5,8,2,8,4,4,8,10,6,10,8,6,6,10,9,6,12,9,5,14,14,13,9,10,5,13],\"fFunctions\":{\"_typename\":\"TList\",\"name\":\"TList\",\"arr\":[],\"opt\":[]},\"fHistogram\":{\"_typename\":\"TH1F\",\"fUniqueID\":0,\"fBits\":50332168,\"fName\":\"h_modelData\",\"fTitle\":\"Histogram of modelData_plot__x\",\"fLineColor\":602,\"fLineStyle\":1,\"fLineWidth\":1,\"fFillColor\":0,\"fFillStyle\":1001,\"fMarkerColor\":1,\"fMarkerStyle\":1,\"fMarkerSize\":1,\"fNcells\":102,\"fXaxis\":{\"_typename\":\"TAxis\",\"fUniqueID\":0,\"fBits\":50331648,\"fName\":\"xaxis\",\"fTitle\":\"\",\"fNdivisions\":510,\"fAxisColor\":1,\"fLabelColor\":1,\"fLabelFont\":42,\"fLabelOffset\":0.005,\"fLabelSize\":0.035,\"fTickLength\":0.03,\"fTitleOffset\":1,\"fTitleSize\":0.035,\"fTitleColor\":1,\"fTitleFont\":42,\"fNbins\":100,\"fXmin\":0,\"fXmax\":11,\"fXbins\":[],\"fFirst\":0,\"fLast\":0,\"fBits2\":0,\"fTimeDisplay\":false,\"fTimeFormat\":\"\",\"fLabels\":null,\"fModLabs\":null},\"fYaxis\":{\"_typename\":\"TAxis\",\"fUniqueID\":0,\"fBits\":50331648,\"fName\":\"yaxis\",\"fTitle\":\"\",\"fNdivisions\":510,\"fAxisColor\":1,\"fLabelColor\":1,\"fLabelFont\":42,\"fLabelOffset\":0.005,\"fLabelSize\":0.035,\"fTickLength\":0.03,\"fTitleOffset\":0,\"fTitleSize\":0.035,\"fTitleColor\":1,\"fTitleFont\":42,\"fNbins\":1,\"fXmin\":0.155478401121105,\"fXmax\":69.7900068080844,\"fXbins\":[],\"fFirst\":0,\"fLast\":0,\"fBits2\":0,\"fTimeDisplay\":false,\"fTimeFormat\":\"\",\"fLabels\":null,\"fModLabs\":null},\"fZaxis\":{\"_typename\":\"TAxis\",\"fUniqueID\":0,\"fBits\":50331648,\"fName\":\"zaxis\",\"fTitle\":\"\",\"fNdivisions\":510,\"fAxisColor\":1,\"fLabelColor\":1,\"fLabelFont\":42,\"fLabelOffset\":0.005,\"fLabelSize\":0.035,\"fTickLength\":0.03,\"fTitleOffset\":1,\"fTitleSize\":0.035,\"fTitleColor\":1,\"fTitleFont\":42,\"fNbins\":1,\"fXmin\":0,\"fXmax\":1,\"fXbins\":[],\"fFirst\":0,\"fLast\":0,\"fBits2\":0,\"fTimeDisplay\":false,\"fTimeFormat\":\"\",\"fLabels\":null,\"fModLabs\":null},\"fBarOffset\":0,\"fBarWidth\":1000,\"fEntries\":0,\"fTsumw\":0,\"fTsumw2\":0,\"fTsumwx\":0,\"fTsumwx2\":0,\"fMaximum\":69.7900068080844,\"fMinimum\":0.155478401121105,\"fNormFactor\":0,\"fContour\":[],\"fSumw2\":[],\"fOption\":\"\",\"fFunctions\":{\"_typename\":\"TList\",\"name\":\"TList\",\"arr\":[],\"opt\":[]},\"fBufferSize\":0,\"fBuffer\":[],\"fBinStatErrOpt\":0,\"fStatOverflows\":2,\"fArray\":[0,0,0,0,0,0,0,0,0,0,0,0,0,0,0,0,0,0,0,0,0,0,0,0,0,0,0,0,0,0,0,0,0,0,0,0,0,0,0,0,0,0,0,0,0,0,0,0,0,0,0,0,0,0,0,0,0,0,0,0,0,0,0,0,0,0,0,0,0,0,0,0,0,0,0,0,0,0,0,0,0,0,0,0,0,0,0,0,0,0,0,0,0,0,0,0,0,0,0,0,0,0]},\"fMinimum\":-1111,\"fMaximum\":-1111,\"fEXlow\":[0.05,0.05,0.05,0.05,0.05,0.05,0.05,0.05,0.05,0.05,0.05,0.05,0.05,0.05,0.05,0.05,0.05,0.05,0.05,0.05,0.05,0.05,0.05,0.05,0.05,0.05,0.05,0.05,0.05,0.05,0.05,0.05,0.05,0.05,0.05,0.05,0.05,0.05,0.05,0.05,0.05,0.05,0.05,0.05,0.05,0.05,0.05,0.05,0.05,0.05,0.05,0.05,0.05,0.05,0.05,0.05,0.05,0.05,0.05,0.05,0.05,0.05,0.05,0.05,0.05,0.05,0.05,0.05,0.05,0.05,0.05,0.05,0.05,0.05,0.05,0.05,0.05,0.05,0.05,0.05,0.05,0.05,0.05,0.05,0.05,0.05,0.05,0.05,0.05,0.05,0.05,0.05,0.05,0.05,0.05,0.05,0.05,0.05,0.05,0.05],\"fEXhigh\":[0.05,0.05,0.05,0.05,0.05,0.05,0.05,0.05,0.05,0.05,0.05,0.05,0.05,0.05,0.05,0.05,0.05,0.05,0.05,0.05,0.05,0.05,0.05,0.05,0.05,0.05,0.05,0.05,0.05,0.05,0.05,0.05,0.05,0.05,0.05,0.05,0.05,0.05,0.05,0.05,0.05,0.05,0.05,0.05,0.05,0.05,0.05,0.05,0.05,0.05,0.05,0.05,0.05,0.05,0.05,0.05,0.05,0.05,0.05,0.05,0.05,0.05,0.05,0.05,0.05,0.05,0.05,0.05,0.05,0.05,0.05,0.05,0.05,0.05,0.05,0.05,0.05,0.05,0.05,0.05,0.05,0.05,0.05,0.05,0.05,0.05,0.05,0.05,0.05,0.05,0.05,0.05,0.05,0.05,0.05,0.05,0.05,0.05,0.05,0.05],\"fEYlow\":[1.63270468610957,0.82724622097655,0.82724622097655,2.37993137929577,2.58147045606626,1.91433918622288,1.91433918622288,1.29181456018103,1.91433918622288,1.29181456018103,2.37993137929577,0.82724622097655,2.15969114440678,1.29181456018103,1.63270468610957,2.15969114440678,2.15969114440678,2.15969114440678,1.91433918622288,1.29181456018103,2.37993137929577,1.91433918622288,1.29181456018103,1.63270468610957,1.29181456018103,0.82724622097655,1.91433918622288,1.29181456018103,1.63270468610957,3.10869443936164,2.76838605646272,1.63270468610957,1.29181456018103,1.63270468610957,2.37993137929577,2.15969114440678,2.15969114440678,2.58147045606626,3.26557940095131,3.10869443936164,2.94346103725076,2.94346103725076,3.10869443936164,3.82938009857506,4.65450239544497,5.44652245543606,5.80212840935486,6.13716310988257,6.05514266189532,6.37689760804177,6.37689760804177,7.39357955269438,5.35393156485154,5.97199579039322,6.05514266189532,4.86461220384528,4.20288721196007,4.20288721196007,3.82938009857506,3.10869443936164,2.76838605646272,2.37993137929577,1.91433918622288,1.91433918622288,2.58147045606626,2.76838605646272,2.37993137929577,3.10869443936164,2.15969114440678,2.58147045606626,2.58147045606626,1.91433918622288,2.58147045606626,2.37993137929577,2.15969114440678,2.76838605646272,1.29181456018103,2.76838605646272,1.91433918622288,1.91433918622288,2.76838605646272,3.10869443936164,2.37993137929577,3.10869443936164,2.76838605646272,2.37993137929577,2.37993137929577,3.10869443936164,2.94346103725076,2.37993137929577,3.41526599430015,2.94346103725076,2.15969114440678,3.69650031882412,3.69650031882412,3.5586623304375,2.94346103725076,3.10869443936164,2.15969114440678,3.5586623304375],\"fEYhigh\":[2.9181858328834,2.29952655911586,2.29952655911586,3.58364154598457,3.77028072043409,3.16275317226094,3.16275317226094,2.63785962345524,3.16275317226094,2.63785962345524,3.58364154598457,2.29952655911586,3.38247265214689,2.63785962345524,2.9181858328834,3.38247265214689,3.38247265214689,3.38247265214689,3.16275317226094,2.63785962345524,3.58364154598457,3.16275317226094,2.63785962345524,2.9181858328834,2.63785962345524,2.29952655911586,3.16275317226094,2.63785962345524,2.9181858328834,4.26694976100939,3.94514151986907,2.9181858328834,2.63785962345524,2.9181858328834,3.58364154598457,3.38247265214689,3.38247265214689,3.77028072043409,4.41652052316603,4.26694976100939,4.11020413766764,4.11020413766764,4.26694976100939,4.95873843272062,5.76136640411342,6.53804637266794,6.88810053038505,7.21848358047952,7.13755508118677,7.45518517410131,7.45518517410131,8.46116562362432,6.44701964227479,7.0555452840609,7.13755508118677,5.96693206711369,5.32100732238368,5.32100732238368,4.95873843272062,4.26694976100939,3.94514151986907,3.58364154598457,3.16275317226094,3.16275317226094,3.77028072043409,3.94514151986907,3.58364154598457,4.26694976100939,3.38247265214689,3.77028072043409,3.77028072043409,3.16275317226094,3.77028072043409,3.58364154598457,3.38247265214689,3.94514151986907,2.63785962345524,3.94514151986907,3.16275317226094,3.16275317226094,3.94514151986907,4.26694976100939,3.58364154598457,4.26694976100939,3.94514151986907,3.58364154598457,3.58364154598457,4.26694976100939,4.11020413766764,3.58364154598457,4.55981905739127,4.11020413766764,3.38247265214689,4.83038075568817,4.83038075568817,4.69757337260906,4.11020413766764,4.26694976100939,3.38247265214689,4.69757337260906],\"_yAxisLabel\":\"Events \\/ ( 0.1 )\",\"_ymin\":0,\"_ymax\":63.4611656236243,\"_normValue\":0,\"_nominalBinWidth\":0.1,\"_nSigma\":1,\"_entries\":1000,\"_rawEntries\":-1},{\"_typename\":\"RooCurve\",\"fUniqueID\":0,\"fBits\":50332680,\"fName\":\"model_Norm[x]\",\"fTitle\":\"Projection of g1+g2+a\",\"fLineColor\":600,\"fLineStyle\":1,\"fLineWidth\":3,\"fFillColor\":0,\"fFillStyle\":1000,\"fMarkerColor\":1,\"fMarkerStyle\":1,\"fMarkerSize\":1,\"fNpoints\":135,\"fX\":[-0.1,-0.1,0,0.1,0.2,0.3,0.4,0.5,0.6,0.7,0.8,0.9,1,1.1,1.2,1.3,1.4,1.5,1.6,1.7,1.8,1.9,2,2.1,2.2,2.3,2.4,2.5,2.6,2.7,2.8,2.9,3,3.1,3.2,3.3,3.4,3.5,3.6,3.7,3.75,3.8,3.85,3.9,3.95,4,4.05,4.1,4.15,4.2,4.25,4.3,4.35,4.4,4.5,4.6,4.65,4.7,4.75,4.8,4.85,4.875,4.9,4.925,4.95,4.975,5,5.025,5.05,5.075,5.1,5.125,5.15,5.175,5.2,5.25,5.3,5.35,5.4,5.5,5.6,5.65,5.7,5.75,5.8,5.85,5.9,5.95,6,6.05,6.1,6.15,6.2,6.25,6.3,6.4,6.5,6.6,6.7,6.8,6.9,7,7.1,7.2,7.3,7.4,7.5,7.6,7.7,7.8,7.9,8,8.1,8.2,8.3,8.4,8.5,8.6,8.7,8.8,8.9,9,9.1,9.2,9.3,9.4,9.5,9.6,9.7,9.8,9.9,10,10,10.1,10.1],\"fY\":[0,3.81643094590781,3.81643094590781,3.78885935664335,3.76309775442027,3.73914613932794,3.71700451150132,3.69667287114189,3.67815121854681,3.66143955414922,3.64653787857288,3.63344619270517,3.62216449779306,3.61269279556747,3.60503108840259,3.59917937952092,3.59513767327114,3.59290597556747,3.59248429480177,3.59387264429975,3.59707104985489,3.60207957345539,3.60889838649585,3.61752798733502,3.62796982009676,3.64022795508843,3.6543134395752,3.67025502537296,3.68812432852072,3.70809187822739,3.73054551548293,3.756327042855,3.78717853109112,3.82653355505773,3.88082898623612,3.96152333366298,4.08794425595151,4.2908955639278,4.61658676632231,5.1299070239706,5.48264378944307,5.91544565348721,6.44142794821404,7.07418626461701,7.82731609394206,8.71380652416274,9.74531620243091,10.9313509369097,12.2783744773317,13.7888962194662,15.4605906348708,17.2855118098994,19.2494712576787,21.3316469653744,25.7339474979046,30.1982481285749,32.3400401453502,34.355406197624,36.1943491193046,37.8090319516781,39.1558643791184,39.7168685778154,40.19748791894,40.5943150874621,40.9045340838965,41.1259548162478,41.257040176045,41.2969251302314,41.2454274971993,41.1030502191892,40.8709750914044,40.551048057212,40.1457563253742,39.6581977060999,39.0920426947137,37.7412159366069,36.1322625950821,34.309951774775,32.3228147740146,28.054501283971,23.713548920305,21.6214988757313,19.6271637278633,17.7565284616526,16.0288404782511,14.4567810810742,13.0469164797652,11.8003644234698,10.713607955045,9.77938883501668,8.98761896873749,8.32625745373978,7.78211230545359,7.34153821550661,6.99101370442114,6.5092277645539,6.24519092771044,6.12640520674727,6.0998149482963,6.12917468285693,6.19122128033015,6.27186573005022,6.36303077730989,6.46032257115909,6.56146906291806,6.66535182410247,6.77144613606226,6.87951714440733,6.98946448014988,7.10124715182886,7.21484914508375,7.33026446593823,7.44749095841356,7.5665278719282,7.68737494912962,7.81003209952575,7.934499287849,8.06077649739438,8.18886371832592,8.31876094393522,8.4504681693409,8.58398539092778,8.71931260602417,8.85644981267387,8.99539700946104,9.13615419537339,9.27872136969599,9.42309853193011,9.56928568173195,9.7172828188674,9.86708994317891,10.0187070545617,10.0187070545617,10.0187070545617,0],\"fFunctions\":{\"_typename\":\"TList\",\"name\":\"TList\",\"arr\":[],\"opt\":[]},\"fHistogram\":{\"_typename\":\"TH1F\",\"fUniqueID\":0,\"fBits\":50332168,\"fName\":\"model_Norm[x]\",\"fTitle\":\"Projection of g1+g2+a\",\"fLineColor\":602,\"fLineStyle\":1,\"fLineWidth\":1,\"fFillColor\":0,\"fFillStyle\":1001,\"fMarkerColor\":1,\"fMarkerStyle\":1,\"fMarkerSize\":1,\"fNcells\":137,\"fXaxis\":{\"_typename\":\"TAxis\",\"fUniqueID\":0,\"fBits\":50331648,\"fName\":\"xaxis\",\"fTitle\":\"\",\"fNdivisions\":510,\"fAxisColor\":1,\"fLabelColor\":1,\"fLabelFont\":42,\"fLabelOffset\":0.005,\"fLabelSize\":0.035,\"fTickLength\":0.03,\"fTitleOffset\":1,\"fTitleSize\":0.035,\"fTitleColor\":1,\"fTitleFont\":42,\"fNbins\":135,\"fXmin\":-1.12,\"fXmax\":11.12,\"fXbins\":[],\"fFirst\":0,\"fLast\":0,\"fBits2\":0,\"fTimeDisplay\":false,\"fTimeFormat\":\"\",\"fLabels\":null,\"fModLabs\":null},\"fYaxis\":{\"_typename\":\"TAxis\",\"fUniqueID\":0,\"fBits\":50331648,\"fName\":\"yaxis\",\"fTitle\":\"\",\"fNdivisions\":510,\"fAxisColor\":1,\"fLabelColor\":1,\"fLabelFont\":42,\"fLabelOffset\":0.005,\"fLabelSize\":0.035,\"fTickLength\":0.03,\"fTitleOffset\":0,\"fTitleSize\":0.035,\"fTitleColor\":1,\"fTitleFont\":42,\"fNbins\":1,\"fXmin\":0,\"fXmax\":45.4266176432546,\"fXbins\":[],\"fFirst\":0,\"fLast\":0,\"fBits2\":0,\"fTimeDisplay\":false,\"fTimeFormat\":\"\",\"fLabels\":null,\"fModLabs\":null},\"fZaxis\":{\"_typename\":\"TAxis\",\"fUniqueID\":0,\"fBits\":50331648,\"fName\":\"zaxis\",\"fTitle\":\"\",\"fNdivisions\":510,\"fAxisColor\":1,\"fLabelColor\":1,\"fLabelFont\":42,\"fLabelOffset\":0.005,\"fLabelSize\":0.035,\"fTickLength\":0.03,\"fTitleOffset\":1,\"fTitleSize\":0.035,\"fTitleColor\":1,\"fTitleFont\":42,\"fNbins\":1,\"fXmin\":0,\"fXmax\":1,\"fXbins\":[],\"fFirst\":0,\"fLast\":0,\"fBits2\":0,\"fTimeDisplay\":false,\"fTimeFormat\":\"\",\"fLabels\":null,\"fModLabs\":null},\"fBarOffset\":0,\"fBarWidth\":1000,\"fEntries\":0,\"fTsumw\":0,\"fTsumw2\":0,\"fTsumwx\":0,\"fTsumwx2\":0,\"fMaximum\":45.4266176432546,\"fMinimum\":0,\"fNormFactor\":0,\"fContour\":[],\"fSumw2\":[],\"fOption\":\"\",\"fFunctions\":{\"_typename\":\"TList\",\"name\":\"TList\",\"arr\":[],\"opt\":[]},\"fBufferSize\":0,\"fBuffer\":[],\"fBinStatErrOpt\":0,\"fStatOverflows\":2,\"fArray\":[0,0,0,0,0,0,0,0,0,0,0,0,0,0,0,0,0,0,0,0,0,0,0,0,0,0,0,0,0,0,0,0,0,0,0,0,0,0,0,0,0,0,0,0,0,0,0,0,0,0,0,0,0,0,0,0,0,0,0,0,0,0,0,0,0,0,0,0,0,0,0,0,0,0,0,0,0,0,0,0,0,0,0,0,0,0,0,0,0,0,0,0,0,0,0,0,0,0,0,0,0,0,0,0,0,0,0,0,0,0,0,0,0,0,0,0,0,0,0,0,0,0,0,0,0,0,0,0,0,0,0,0,0,0,0,0,0]},\"fMinimum\":-1111,\"fMaximum\":-1111,\"_yAxisLabel\":\"Projection of g1+g2+a\",\"_ymin\":0,\"_ymax\":41.2969251302314,\"_normValue\":0},{\"_typename\":\"RooCurve\",\"fUniqueID\":0,\"fBits\":50332680,\"fName\":\"model_Norm[x]\",\"fTitle\":\"Projection of g1+g2+a\",\"fLineColor\":632,\"fLineStyle\":1,\"fLineWidth\":3,\"fFillColor\":0,\"fFillStyle\":1000,\"fMarkerColor\":1,\"fMarkerStyle\":1,\"fMarkerSize\":1,\"fNpoints\":132,\"fX\":[-0.1,-0.1,0,0.1,0.2,0.3,0.4,0.5,0.6,0.7,0.8,0.9,1,1.1,1.2,1.3,1.4,1.5,1.6,1.7,1.8,1.9,2,2.1,2.2,2.3,2.4,2.5,2.6,2.7,2.8,2.9,3,3.1,3.2,3.3,3.4,3.5,3.6,3.7,3.8,3.85,3.9,3.95,4,4.05,4.1,4.15,4.2,4.25,4.3,4.35,4.4,4.5,4.6,4.65,4.7,4.75,4.8,4.85,4.9,4.925,4.95,4.975,5,5.025,5.05,5.075,5.1,5.125,5.15,5.2,5.25,5.3,5.35,5.4,5.5,5.6,5.65,5.7,5.75,5.8,5.85,5.9,5.95,6,6.05,6.1,6.15,6.2,6.25,6.3,6.4,6.5,6.6,6.7,6.8,6.9,7,7.1,7.2,7.3,7.4,7.5,7.6,7.7,7.8,7.9,8,8.1,8.2,8.3,8.4,8.5,8.6,8.7,8.8,8.9,9,9.1,9.2,9.3,9.4,9.5,9.6,9.7,9.8,9.9,10,10,10.1,10.1],\"fY\":[0,3.5168137111956,3.5168137111956,3.5024719460851,3.48950408902458,3.47791276882828,3.46770195560696,3.45887757516869,3.45144836830106,3.44542707481913,3.44083204032547,3.43768936228735,3.43603570954275,3.43592196312125,3.4374178327866,3.4406175984873,3.44564710358814,3.45267208142686,3.46190782244934,3.47363008086914,3.48818697478058,3.50601145412878,3.52763370871459,3.55369269443779,3.58494583996746,3.62227610561287,3.66669619971793,3.71935148571986,3.78152694816996,3.85467115979424,3.9404637883942,4.04097532829489,4.15899987124878,4.2986814324856,4.46659106812566,4.67342228020364,4.93641725581628,5.28246746640939,5.75150834074843,6.39935004578654,7.29853917862052,7.86902324058558,8.53542661686236,9.30930001138259,10.2016210330829,11.2221575748813,12.3787450273599,13.6765051938822,15.1170455367165,16.6976871269868,18.4107772260599,20.2431466192894,22.1757716157452,26.2362514566823,30.3277157978144,32.2834059992265,34.1199948244275,35.7929276238716,37.259615821518,38.4812832438351,39.4247219490589,39.7836389246709,40.0638464648412,40.2634022077035,40.3809446089954,40.415709765806,40.3675408836439,40.236890222068,40.0248134849771,39.7329567532698,39.3635361870143,38.4035491149896,37.1727948253085,35.7059852959057,34.0429888904821,32.2270421889237,28.3150243395382,24.3147950055163,22.376227094173,20.5195548612029,18.7683034107653,17.140057300942,15.646606775892,14.294340758358,13.0848302514758,12.0155417346263,11.0806210818436,10.2716936436747,9.57863432925509,8.99027162074117,8.4950002976034,8.08128823529396,7.45504530932861,7.03315734139863,6.75341623485328,6.57013888350404,6.45188841373722,6.37816251800364,6.33611391857616,6.31784831402413,6.31845938581212,6.33473623224015,6.36438632826735,6.40560801102821,6.45687678034718,6.51685011810865,6.58433114330705,6.6582573075121,6.73769688888413,6.82184559915155,6.91002063937018,7.00165191673806,7.09627109573613,7.19349941826286,7.29303517335936,7.39464152138732,7.49813517326474,7.60337623510209,7.71025936985767,7.8187063055481,7.92865963288585,8.04007777959773,8.15293101836362,8.26719835429152,8.3828651404991,8.49992128186657,8.61835990347212,8.73817637869119,8.85936763038761,8.85936763038761,8.85936763038761,0],\"fFunctions\":{\"_typename\":\"TList\",\"name\":\"TList\",\"arr\":[],\"opt\":[]},\"fHistogram\":{\"_typename\":\"TH1F\",\"fUniqueID\":0,\"fBits\":50332168,\"fName\":\"model_Norm[x]\",\"fTitle\":\"Projection of g1+g2+a\",\"fLineColor\":602,\"fLineStyle\":1,\"fLineWidth\":1,\"fFillColor\":0,\"fFillStyle\":1001,\"fMarkerColor\":1,\"fMarkerStyle\":1,\"fMarkerSize\":1,\"fNcells\":134,\"fXaxis\":{\"_typename\":\"TAxis\",\"fUniqueID\":0,\"fBits\":50331648,\"fName\":\"xaxis\",\"fTitle\":\"\",\"fNdivisions\":510,\"fAxisColor\":1,\"fLabelColor\":1,\"fLabelFont\":42,\"fLabelOffset\":0.005,\"fLabelSize\":0.035,\"fTickLength\":0.03,\"fTitleOffset\":1,\"fTitleSize\":0.035,\"fTitleColor\":1,\"fTitleFont\":42,\"fNbins\":132,\"fXmin\":-1.12,\"fXmax\":11.12,\"fXbins\":[],\"fFirst\":0,\"fLast\":0,\"fBits2\":0,\"fTimeDisplay\":false,\"fTimeFormat\":\"\",\"fLabels\":null,\"fModLabs\":null},\"fYaxis\":{\"_typename\":\"TAxis\",\"fUniqueID\":0,\"fBits\":50331648,\"fName\":\"yaxis\",\"fTitle\":\"\",\"fNdivisions\":510,\"fAxisColor\":1,\"fLabelColor\":1,\"fLabelFont\":42,\"fLabelOffset\":0.005,\"fLabelSize\":0.035,\"fTickLength\":0.03,\"fTitleOffset\":0,\"fTitleSize\":0.035,\"fTitleColor\":1,\"fTitleFont\":42,\"fNbins\":1,\"fXmin\":0,\"fXmax\":44.4572807423866,\"fXbins\":[],\"fFirst\":0,\"fLast\":0,\"fBits2\":0,\"fTimeDisplay\":false,\"fTimeFormat\":\"\",\"fLabels\":null,\"fModLabs\":null},\"fZaxis\":{\"_typename\":\"TAxis\",\"fUniqueID\":0,\"fBits\":50331648,\"fName\":\"zaxis\",\"fTitle\":\"\",\"fNdivisions\":510,\"fAxisColor\":1,\"fLabelColor\":1,\"fLabelFont\":42,\"fLabelOffset\":0.005,\"fLabelSize\":0.035,\"fTickLength\":0.03,\"fTitleOffset\":1,\"fTitleSize\":0.035,\"fTitleColor\":1,\"fTitleFont\":42,\"fNbins\":1,\"fXmin\":0,\"fXmax\":1,\"fXbins\":[],\"fFirst\":0,\"fLast\":0,\"fBits2\":0,\"fTimeDisplay\":false,\"fTimeFormat\":\"\",\"fLabels\":null,\"fModLabs\":null},\"fBarOffset\":0,\"fBarWidth\":1000,\"fEntries\":0,\"fTsumw\":0,\"fTsumw2\":0,\"fTsumwx\":0,\"fTsumwx2\":0,\"fMaximum\":44.4572807423866,\"fMinimum\":0,\"fNormFactor\":0,\"fContour\":[],\"fSumw2\":[],\"fOption\":\"\",\"fFunctions\":{\"_typename\":\"TList\",\"name\":\"TList\",\"arr\":[],\"opt\":[]},\"fBufferSize\":0,\"fBuffer\":[],\"fBinStatErrOpt\":0,\"fStatOverflows\":2,\"fArray\":[0,0,0,0,0,0,0,0,0,0,0,0,0,0,0,0,0,0,0,0,0,0,0,0,0,0,0,0,0,0,0,0,0,0,0,0,0,0,0,0,0,0,0,0,0,0,0,0,0,0,0,0,0,0,0,0,0,0,0,0,0,0,0,0,0,0,0,0,0,0,0,0,0,0,0,0,0,0,0,0,0,0,0,0,0,0,0,0,0,0,0,0,0,0,0,0,0,0,0,0,0,0,0,0,0,0,0,0,0,0,0,0,0,0,0,0,0,0,0,0,0,0,0,0,0,0,0,0,0,0,0,0,0,0]},\"fMinimum\":-1111,\"fMaximum\":-1111,\"_yAxisLabel\":\"Projection of g1+g2+a\",\"_ymin\":0,\"_ymax\":40.415709765806,\"_normValue\":0},{\"_typename\":\"RooCurve\",\"fUniqueID\":0,\"fBits\":50332680,\"fName\":\"model_Norm[x]\",\"fTitle\":\"Projection of g1+g2+a\",\"fLineColor\":632,\"fLineStyle\":2,\"fLineWidth\":3,\"fFillColor\":0,\"fFillStyle\":1000,\"fMarkerColor\":1,\"fMarkerStyle\":1,\"fMarkerSize\":1,\"fNpoints\":106,\"fX\":[-0.1,-0.1,0,0.1,0.2,0.3,0.4,0.5,0.6,0.7,0.8,0.9,1,1.1,1.2,1.3,1.4,1.5,1.6,1.7,1.8,1.9,2,2.1,2.2,2.3,2.4,2.5,2.6,2.7,2.8,2.9,3,3.1,3.2,3.3,3.4,3.5,3.6,3.7,3.8,3.9,4,4.1,4.2,4.3,4.4,4.5,4.6,4.7,4.8,4.9,5,5.1,5.2,5.3,5.4,5.5,5.6,5.7,5.8,5.9,6,6.1,6.2,6.3,6.4,6.5,6.6,6.7,6.8,6.9,7,7.1,7.2,7.3,7.4,7.5,7.6,7.7,7.8,7.9,8,8.1,8.2,8.3,8.4,8.5,8.6,8.7,8.8,8.9,9,9.1,9.2,9.3,9.4,9.5,9.6,9.7,9.8,9.9,10,10,10.1,10.1],\"fY\":[0,5.25733081631315,5.25733081631315,5.35218419998538,5.44703758365765,5.54189096732998,5.63674435100235,5.73159773467476,5.82645111834722,5.92130450201973,6.01615788569228,6.11101126936488,6.20586465303752,6.30071803671021,6.39557142038294,6.49042480405573,6.58527818772856,6.68013157140143,6.77498495507435,6.86983833874731,6.96469172242032,7.05954510609338,7.15439848976648,7.24925187343963,7.34410525711283,7.43895864078607,7.53381202445935,7.62866540813268,7.72351879180606,7.81837217547948,7.91322555915295,8.00807894282647,8.10293232650003,8.19778571017364,8.29263909384729,8.38749247752099,8.48234586119473,8.57719924486852,8.67205262854236,8.76690601221624,8.86175939589017,8.95661277956415,9.05146616323817,9.14631954691223,9.24117293058634,9.3360263142605,9.4308796979347,9.52573308160895,9.62058646528325,9.71543984895759,9.81029323263198,9.90514661630641,9.99999999998089,10.0948533836554,10.18970676733,10.2845601510046,10.3794135346793,10.474266918354,10.5691203020287,10.6639736857035,10.7588270693784,10.8536804530533,10.9485338367282,11.0433872204032,11.1382406040782,11.2330939877533,11.3279473714284,11.4228007551036,11.5176541387788,11.612507522454,11.7073609061293,11.8022142898047,11.8970676734801,11.9919210571555,12.086774440831,12.1816278245066,12.2764812081821,12.3713345918578,12.4661879755334,12.5610413592091,12.6558947428849,12.7507481265607,12.8456015102366,12.9404548939125,13.0353082775884,13.1301616612644,13.2250150449405,13.3198684286165,13.4147218122927,13.5095751959688,13.6044285796451,13.6992819633213,13.7941353469976,13.888988730674,13.9838421143504,14.0786954980269,14.1735488817034,14.2684022653799,14.3632556490565,14.4581090327331,14.5529624164098,14.6478158000865,14.7426691837633,14.7426691837633,14.7426691837633,0],\"fFunctions\":{\"_typename\":\"TList\",\"name\":\"TList\",\"arr\":[],\"opt\":[]},\"fHistogram\":{\"_typename\":\"TH1F\",\"fUniqueID\":0,\"fBits\":50332168,\"fName\":\"model_Norm[x]\",\"fTitle\":\"Projection of g1+g2+a\",\"fLineColor\":602,\"fLineStyle\":1,\"fLineWidth\":1,\"fFillColor\":0,\"fFillStyle\":1001,\"fMarkerColor\":1,\"fMarkerStyle\":1,\"fMarkerSize\":1,\"fNcells\":108,\"fXaxis\":{\"_typename\":\"TAxis\",\"fUniqueID\":0,\"fBits\":50331648,\"fName\":\"xaxis\",\"fTitle\":\"\",\"fNdivisions\":510,\"fAxisColor\":1,\"fLabelColor\":1,\"fLabelFont\":42,\"fLabelOffset\":0.005,\"fLabelSize\":0.035,\"fTickLength\":0.03,\"fTitleOffset\":1,\"fTitleSize\":0.035,\"fTitleColor\":1,\"fTitleFont\":42,\"fNbins\":106,\"fXmin\":-1.12,\"fXmax\":11.12,\"fXbins\":[],\"fFirst\":0,\"fLast\":0,\"fBits2\":0,\"fTimeDisplay\":false,\"fTimeFormat\":\"\",\"fLabels\":null,\"fModLabs\":null},\"fYaxis\":{\"_typename\":\"TAxis\",\"fUniqueID\":0,\"fBits\":50331648,\"fName\":\"yaxis\",\"fTitle\":\"\",\"fNdivisions\":510,\"fAxisColor\":1,\"fLabelColor\":1,\"fLabelFont\":42,\"fLabelOffset\":0.005,\"fLabelSize\":0.035,\"fTickLength\":0.03,\"fTitleOffset\":0,\"fTitleSize\":0.035,\"fTitleColor\":1,\"fTitleFont\":42,\"fNbins\":1,\"fXmin\":0,\"fXmax\":16.2169361021396,\"fXbins\":[],\"fFirst\":0,\"fLast\":0,\"fBits2\":0,\"fTimeDisplay\":false,\"fTimeFormat\":\"\",\"fLabels\":null,\"fModLabs\":null},\"fZaxis\":{\"_typename\":\"TAxis\",\"fUniqueID\":0,\"fBits\":50331648,\"fName\":\"zaxis\",\"fTitle\":\"\",\"fNdivisions\":510,\"fAxisColor\":1,\"fLabelColor\":1,\"fLabelFont\":42,\"fLabelOffset\":0.005,\"fLabelSize\":0.035,\"fTickLength\":0.03,\"fTitleOffset\":1,\"fTitleSize\":0.035,\"fTitleColor\":1,\"fTitleFont\":42,\"fNbins\":1,\"fXmin\":0,\"fXmax\":1,\"fXbins\":[],\"fFirst\":0,\"fLast\":0,\"fBits2\":0,\"fTimeDisplay\":false,\"fTimeFormat\":\"\",\"fLabels\":null,\"fModLabs\":null},\"fBarOffset\":0,\"fBarWidth\":1000,\"fEntries\":0,\"fTsumw\":0,\"fTsumw2\":0,\"fTsumwx\":0,\"fTsumwx2\":0,\"fMaximum\":16.2169361021396,\"fMinimum\":0,\"fNormFactor\":0,\"fContour\":[],\"fSumw2\":[],\"fOption\":\"\",\"fFunctions\":{\"_typename\":\"TList\",\"name\":\"TList\",\"arr\":[],\"opt\":[]},\"fBufferSize\":0,\"fBuffer\":[],\"fBinStatErrOpt\":0,\"fStatOverflows\":2,\"fArray\":[0,0,0,0,0,0,0,0,0,0,0,0,0,0,0,0,0,0,0,0,0,0,0,0,0,0,0,0,0,0,0,0,0,0,0,0,0,0,0,0,0,0,0,0,0,0,0,0,0,0,0,0,0,0,0,0,0,0,0,0,0,0,0,0,0,0,0,0,0,0,0,0,0,0,0,0,0,0,0,0,0,0,0,0,0,0,0,0,0,0,0,0,0,0,0,0,0,0,0,0,0,0,0,0,0,0,0,0]},\"fMinimum\":-1111,\"fMaximum\":-1111,\"_yAxisLabel\":\"Projection of g1+g2+a\",\"_ymin\":0,\"_ymax\":14.7426691837633,\"_normValue\":0},{\"$ref\":3},{\"_typename\":\"TPaveText\",\"fUniqueID\":0,\"fBits\":50331657,\"fLineColor\":1,\"fLineStyle\":1,\"fLineWidth\":1,\"fFillColor\":0,\"fFillStyle\":0,\"fX1\":2.00536907788624,\"fY1\":69.965935975063,\"fX2\":7.32796419584244,\"fY2\":74.5470390050459,\"fX1NDC\":0.300402684563758,\"fY1NDC\":0.940000003948808,\"fX2NDC\":0.699597315436242,\"fY2NDC\":0.995000004768372,\"fBorderSize\":0,\"fInit\":1,\"fShadowColor\":1,\"fCornerRadius\":0,\"fOption\":\"blNDC\",\"fName\":\"title\",\"fTextAngle\":0,\"fTextSize\":0,\"fTextAlign\":22,\"fTextColor\":1,\"fTextFont\":42,\"fLabel\":\"\",\"fLongest\":16,\"fMargin\":0.05,\"fLines\":{\"_typename\":\"TList\",\"name\":\"TList\",\"arr\":[{\"_typename\":\"TLatex\",\"fUniqueID\":0,\"fBits\":50331648,\"fName\":\"\",\"fTitle\":\"A RooPlot of \\\"x\\\"\",\"fTextAngle\":0,\"fTextSize\":0,\"fTextAlign\":0,\"fTextColor\":0,\"fTextFont\":0,\"fX\":0,\"fY\":0,\"fLineColor\":1,\"fLineStyle\":1,\"fLineWidth\":2,\"fLimitFactorSize\":3,\"fOriginSize\":0.0467500016093254}],\"opt\":[\"\"]}}],\"opt\":[\"\",\"FUNC\",\"p\",\"l\",\"l\",\"l\",\"AXISSAME\",\"blNDC\"]},\"fExecs\":null,\"fName\":\"rf510_wsnamedsets\",\"fTitle\":\"rf503_wsnamedsets\",\"fNumPaletteColor\":0,\"fNextPaletteColor\":0,\"fDISPLAY\":\"$DISPLAY\",\"fDoubleBuffer\":0,\"fRetained\":true,\"fXsizeUser\":0,\"fYsizeUser\":0,\"fXsizeReal\":20,\"fYsizeReal\":20,\"fWindowTopX\":0,\"fWindowTopY\":0,\"fWindowWidth\":0,\"fWindowHeight\":0,\"fCw\":596,\"fCh\":572,\"fCatt\":{\"_typename\":\"TAttCanvas\",\"fXBetween\":2,\"fYBetween\":2,\"fTitleFromTop\":1.2,\"fXdate\":0.2,\"fYdate\":0.3,\"fAdate\":1},\"kMoveOpaque\":true,\"kResizeOpaque\":true,\"fHighLightColor\":2,\"fBatch\":true,\"kShowEventStatus\":false,\"kAutoExec\":true,\"kMenuBar\":true});\n",
       "       Core.draw(\"root_plot_1\", obj, \"\");\n",
       "     }\n",
       " );\n",
       "</script>\n"
      ],
      "text/plain": [
       "<IPython.core.display.HTML object>"
      ]
     },
     "metadata": {},
     "output_type": "display_data"
    }
   ],
   "source": [
    "%jsroot on\n",
    "gROOT->GetListOfCanvases()->Draw()"
   ]
  }
 ],
 "metadata": {
  "kernelspec": {
   "display_name": "ROOT C++",
   "language": "c++",
   "name": "root"
  },
  "language_info": {
   "codemirror_mode": "text/x-c++src",
   "file_extension": ".C",
   "mimetype": " text/x-c++src",
   "name": "c++"
  }
 },
 "nbformat": 4,
 "nbformat_minor": 2
}
