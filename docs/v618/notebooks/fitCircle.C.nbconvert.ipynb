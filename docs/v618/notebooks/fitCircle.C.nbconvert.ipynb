{
 "cells": [
  {
   "cell_type": "markdown",
   "metadata": {},
   "source": [
    "# Fit Circle\n",
    "Generate points distributed with some errors around a circle\n",
    "Fit a circle through the points and draw\n",
    "To run the script, do, eg\n",
    "\n",
    "```cpp\n",
    "  root > .x fitCircle.C   (10000 points by default)\n",
    "  root > .x fitCircle.C(100);  (with only 100 points\n",
    "  root > .x fitCircle.C(100000);  with ACLIC\n",
    "```\n",
    "\n",
    "\n",
    "\n",
    "\n",
    "**Author:** Rene Brun  \n",
    "<i><small>This notebook tutorial was automatically generated with <a href= \"https://github.com/root-project/root/blob/master/documentation/doxygen/converttonotebook.py\">ROOTBOOK-izer</a> from the macro found in the ROOT repository  on Thursday, August 29, 2019 at 01:28 AM.</small></i>"
   ]
  },
  {
   "cell_type": "code",
   "execution_count": 1,
   "metadata": {
    "collapsed": false
   },
   "outputs": [],
   "source": [
    "%%cpp -d\n",
    "#include \"TCanvas.h\"\n",
    "#include \"TRandom3.h\"\n",
    "#include \"TGraph.h\"\n",
    "#include \"TMath.h\"\n",
    "#include \"TArc.h\"\n",
    "#include \"Fit/Fitter.h\""
   ]
  },
  {
   "cell_type": "markdown",
   "metadata": {},
   "source": [
    "____________________________________________________________________"
   ]
  },
  {
   "cell_type": "markdown",
   "metadata": {},
   "source": [
    " Arguments are defined. "
   ]
  },
  {
   "cell_type": "code",
   "execution_count": 2,
   "metadata": {
    "collapsed": false
   },
   "outputs": [],
   "source": [
    "Int_t n=10000;"
   ]
  },
  {
   "cell_type": "markdown",
   "metadata": {},
   "source": [
    "Generates n points around a circle and fit them"
   ]
  },
  {
   "cell_type": "code",
   "execution_count": 3,
   "metadata": {
    "collapsed": false
   },
   "outputs": [],
   "source": [
    "TCanvas *c1 = new TCanvas(\"c1\",\"c1\",600,600);\n",
    "c1->SetGrid();\n",
    "TGraph* gr = new TGraph(n);\n",
    "if (n> 999) gr->SetMarkerStyle(1);\n",
    "else        gr->SetMarkerStyle(3);\n",
    "TRandom3 r;\n",
    "Double_t x,y;\n",
    "for (Int_t i=0;i<n;i++) {\n",
    "   r.Circle(x,y,r.Gaus(4,0.3));\n",
    "   gr->SetPoint(i,x,y);\n",
    "}\n",
    "c1->DrawFrame(-5,-5,5,5);\n",
    "gr->Draw(\"p\");\n",
    "\n",
    "\n",
    "auto chi2Function = [&](const Double_t *par) {\n",
    "   //minimisation function computing the sum of squares of residuals\n",
    "   // looping at the graph points\n",
    "   Int_t np = gr->GetN();\n",
    "   Double_t f = 0;\n",
    "   Double_t *x = gr->GetX();\n",
    "   Double_t *y = gr->GetY();\n",
    "   for (Int_t i=0;i<np;i++) {\n",
    "      Double_t u = x[i] - par[0];\n",
    "      Double_t v = y[i] - par[1];\n",
    "      Double_t dr = par[2] - std::sqrt(u*u+v*v);\n",
    "      f += dr*dr;\n",
    "   }\n",
    "   return f;\n",
    "};"
   ]
  },
  {
   "cell_type": "markdown",
   "metadata": {},
   "source": [
    "Wrap chi2 funciton in a function object for the fit\n",
    " 3 is the number of fit parameters (size of array par)"
   ]
  },
  {
   "cell_type": "code",
   "execution_count": 4,
   "metadata": {
    "collapsed": false
   },
   "outputs": [],
   "source": [
    "ROOT::Math::Functor fcn(chi2Function,3);\n",
    "ROOT::Fit::Fitter  fitter;\n",
    "\n",
    "\n",
    "double pStart[3] = {0,0,1};\n",
    "fitter.SetFCN(fcn, pStart);\n",
    "fitter.Config().ParSettings(0).SetName(\"x0\");\n",
    "fitter.Config().ParSettings(1).SetName(\"y0\");\n",
    "fitter.Config().ParSettings(2).SetName(\"R\");"
   ]
  },
  {
   "cell_type": "markdown",
   "metadata": {},
   "source": [
    "Do the fit "
   ]
  },
  {
   "cell_type": "code",
   "execution_count": 5,
   "metadata": {
    "collapsed": false
   },
   "outputs": [
    {
     "name": "stdout",
     "output_type": "stream",
     "text": [
      "\n",
      "****************************************\n",
      "Minimizer is Minuit / Migrad\n",
      "MinFCN                    =      903.174\n",
      "NDf                       =            0\n",
      "Edm                       =  2.25062e-09\n",
      "NCalls                    =           72\n",
      "x0                        =   0.00667777   +/-   0.0141774   \n",
      "y0                        =   0.00536467   +/-   0.0141954   \n",
      "R                         =        3.995   +/-   0.0100048   \n"
     ]
    }
   ],
   "source": [
    "bool ok = fitter.FitFCN();\n",
    "if (!ok) {\n",
    "   Error(\"line3Dfit\",\"Line3D Fit failed\");\n",
    "}   \n",
    "\n",
    "const ROOT::Fit::FitResult & result = fitter.Result();\n",
    "result.Print(std::cout);"
   ]
  },
  {
   "cell_type": "markdown",
   "metadata": {},
   "source": [
    "Draw the circle on top of the points"
   ]
  },
  {
   "cell_type": "code",
   "execution_count": 6,
   "metadata": {
    "collapsed": false
   },
   "outputs": [],
   "source": [
    "TArc *arc = new TArc(result.Parameter(0),result.Parameter(1),result.Parameter(2));\n",
    "arc->SetLineColor(kRed);\n",
    "arc->SetLineWidth(4);\n",
    "arc->Draw();"
   ]
  },
  {
   "cell_type": "markdown",
   "metadata": {},
   "source": [
    "Draw all canvases "
   ]
  },
  {
   "cell_type": "code",
   "execution_count": 7,
   "metadata": {
    "collapsed": false
   },
   "outputs": [
    {
     "data": {
      "image/png": "[encoded data removed]",
      "text/plain": [
       "<IPython.core.display.Image object>"
      ]
     },
     "metadata": {},
     "output_type": "display_data"
    }
   ],
   "source": [
    "gROOT->GetListOfCanvases()->Draw()"
   ]
  }
 ],
 "metadata": {
  "kernelspec": {
   "display_name": "ROOT C++",
   "language": "c++",
   "name": "root"
  },
  "language_info": {
   "codemirror_mode": "text/x-c++src",
   "file_extension": ".C",
   "mimetype": " text/x-c++src",
   "name": "c++"
  }
 },
 "nbformat": 4,
 "nbformat_minor": 2
}
