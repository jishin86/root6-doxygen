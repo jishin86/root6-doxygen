{
 "cells": [
  {
   "cell_type": "markdown", 
   "metadata": {}, 
   "source": [
    "#  F I T S_Tutorial 1\n", 
    "\n", 
    "Open a FITS file and retrieve the first plane of the image array\n", 
    "as a TImage object\n", 
    "\n", 
    "\n", 
    "\n", 
    "\n", 
    "**Author:** Claudi Martinez  \n", 
    "<i><small>This notebook tutorial was automatically generated with <a href= \"https://github.com/root-project/root/blob/master/documentation/doxygen/converttonotebook.py\">ROOTBOOK-izer</a> from the macro found in the ROOT repository  on Thursday, August 29, 2019 at 01:34 AM.</small></i>"
   ]
  }, 
  {
   "cell_type": "markdown", 
   "metadata": {}, 
   "source": [
    "Here we open a fits file that contains only the primary hdu, consisting on an image.\n", 
    " The object you will see is a snapshot of the NGC7662 nebula,\n", 
    " which was taken by the author on November 2009 in Barcelona."
   ]
  }, 
  {
   "cell_type": "code", 
   "execution_count": null, 
   "metadata": {
    "collapsed": false
   }, 
   "outputs": [], 
   "source": [
    "TString dir = gROOT->GetTutorialDir();"
   ]
  }, 
  {
   "cell_type": "markdown", 
   "metadata": {}, 
   "source": [
    "Open primary hdu from file"
   ]
  }, 
  {
   "cell_type": "code", 
   "execution_count": null, 
   "metadata": {
    "collapsed": false
   }, 
   "outputs": [], 
   "source": [
    "TFITSHDU hdu(dir + \"/fitsio/sample1.fits\");"
   ]
  }, 
  {
   "cell_type": "markdown", 
   "metadata": {}, 
   "source": [
    "Dump the hdus within the fits file\n", 
    " and also their metadata\n", 
    " printf(\"Press ENTER to see summary of all data stored in the file:\"); getchar();"
   ]
  }, 
  {
   "cell_type": "code", 
   "execution_count": null, 
   "metadata": {
    "collapsed": false
   }, 
   "outputs": [], 
   "source": [
    "hdu.Print(\"F+\");"
   ]
  }, 
  {
   "cell_type": "markdown", 
   "metadata": {}, 
   "source": [
    "Here we get the exposure time."
   ]
  }, 
  {
   "cell_type": "code", 
   "execution_count": null, 
   "metadata": {
    "collapsed": false
   }, 
   "outputs": [], 
   "source": [
    "printf(\"Exposure time = %s\\n\", hdu.GetKeywordValue(\"EXPTIME\").Data());"
   ]
  }, 
  {
   "cell_type": "markdown", 
   "metadata": {}, 
   "source": [
    "Read the primary array as a matrix, selecting only layer 0.\n", 
    " This function may be useful to do image processing, e.g. custom filtering"
   ]
  }, 
  {
   "cell_type": "code", 
   "execution_count": null, 
   "metadata": {
    "collapsed": false
   }, 
   "outputs": [], 
   "source": [
    "std::unique_ptr<TMatrixD> mat(hdu.ReadAsMatrix(0));\n", 
    "mat->Print();"
   ]
  }, 
  {
   "cell_type": "markdown", 
   "metadata": {}, 
   "source": [
    "Read the primary array as an image, selecting only layer 0."
   ]
  }, 
  {
   "cell_type": "code", 
   "execution_count": null, 
   "metadata": {
    "collapsed": false
   }, 
   "outputs": [], 
   "source": [
    "std::unique_ptr<TImage> im(hdu.ReadAsImage(0));"
   ]
  }, 
  {
   "cell_type": "markdown", 
   "metadata": {}, 
   "source": [
    "Read the primary array as a histogram. depending on array dimensions, the returned\n", 
    " histogram will be 1D, 2D or 3D."
   ]
  }, 
  {
   "cell_type": "code", 
   "execution_count": null, 
   "metadata": {
    "collapsed": false
   }, 
   "outputs": [], 
   "source": [
    "std::unique_ptr<TH1> hist(hdu.ReadAsHistogram());\n", 
    "\n", 
    "auto c = new TCanvas(\"c1\", \"FITS tutorial #1\", 1400, 800);\n", 
    "c->Divide(2, 1);\n", 
    "c->cd(1);\n", 
    "im->DrawClone();\n", 
    "c->cd(2);\n", 
    "hist->DrawClone(\"COL\");"
   ]
  }, 
  {
   "cell_type": "markdown", 
   "metadata": {}, 
   "source": [
    "Draw all canvases "
   ]
  }, 
  {
   "cell_type": "code", 
   "execution_count": null, 
   "metadata": {
    "collapsed": false
   }, 
   "outputs": [], 
   "source": [
    "gROOT->GetListOfCanvases()->Draw()"
   ]
  }
 ], 
 "metadata": {
  "kernelspec": {
   "display_name": "ROOT C++", 
   "language": "c++", 
   "name": "root"
  }, 
  "language_info": {
   "codemirror_mode": "text/x-c++src", 
   "file_extension": ".C", 
   "mimetype": " text/x-c++src", 
   "name": "c++"
  }
 }, 
 "nbformat": 4, 
 "nbformat_minor": 2
}