{
 "cells": [
  {
   "cell_type": "markdown",
   "metadata": {},
   "source": [
    "# T Student\n",
    "Example macro describing the student t distribution\n",
    "\n",
    "```cpp\n",
    "root[0]: .x tStudent.C\n",
    "```\n",
    "\n",
    "It draws the pdf, the cdf and then 10 quantiles of the t Student distribution\n",
    "\n",
    "based on Magdalena Slawinska's tStudent.C\n",
    "\n",
    "\n",
    "\n",
    "\n",
    "**Author:** Juan Fernando Jaramillo Botero  \n",
    "<i><small>This notebook tutorial was automatically generated with <a href= \"https://github.com/root-project/root/blob/master/documentation/doxygen/converttonotebook.py\">ROOTBOOK-izer</a> from the macro found in the ROOT repository  on Thursday, August 29, 2019 at 02:13 AM.</small></i>"
   ]
  },
  {
   "cell_type": "code",
   "execution_count": 1,
   "metadata": {
    "collapsed": false
   },
   "outputs": [
    {
     "name": "stdout",
     "output_type": "stream",
     "text": [
      "Welcome to JupyROOT 6.18/03\n"
     ]
    }
   ],
   "source": [
    "from ROOT import TH1D, TF1, TCanvas, kRed, kBlue\n",
    "import ROOT"
   ]
  },
  {
   "cell_type": "markdown",
   "metadata": {},
   "source": [
    "This is the way to force load of MathMore in Cling"
   ]
  },
  {
   "cell_type": "code",
   "execution_count": 2,
   "metadata": {
    "collapsed": false
   },
   "outputs": [
    {
     "name": "stderr",
     "output_type": "stream",
     "text": [
      "Info in <ROOT::Math::MathMoreLibrary>: libMathMore has been loaded.\n"
     ]
    }
   ],
   "source": [
    "ROOT.Math.MathMoreLibrary.Load()"
   ]
  },
  {
   "cell_type": "markdown",
   "metadata": {},
   "source": [
    "Create the pdf and the cumulative distributions"
   ]
  },
  {
   "cell_type": "code",
   "execution_count": 3,
   "metadata": {
    "collapsed": false
   },
   "outputs": [],
   "source": [
    "n = 100\n",
    "a = -5.\n",
    "b = 5.\n",
    "pdf = TF1(\"pdf\", \"ROOT::Math::tdistribution_pdf(x,3.0)\", a, b)\n",
    "cum = TF1(\"cum\", \"ROOT::Math::tdistribution_cdf(x,3.0)\", a, b)"
   ]
  },
  {
   "cell_type": "markdown",
   "metadata": {},
   "source": [
    "Create the histogram and fill it with the quantiles"
   ]
  },
  {
   "cell_type": "code",
   "execution_count": 4,
   "metadata": {
    "collapsed": false
   },
   "outputs": [],
   "source": [
    "quant = TH1D(\"quant\", \"\", 9, 0, 0.9)\n",
    "\n",
    "for i in range(1, 10):\n",
    "    quant.Fill((i-0.5)/10.0, ROOT.Math.tdistribution_quantile(0.1 * i,\n",
    "                                                              3.0))"
   ]
  },
  {
   "cell_type": "markdown",
   "metadata": {},
   "source": [
    "For each quantile fill with the pdf"
   ]
  },
  {
   "cell_type": "code",
   "execution_count": 5,
   "metadata": {
    "collapsed": false
   },
   "outputs": [
    {
     "name": "stderr",
     "output_type": "stream",
     "text": [
      "Warning in <TH1::TH1>: nbins is <=0 - set to nbins = 1\n"
     ]
    }
   ],
   "source": [
    "xx = []\n",
    "xx.append(-1.5)\n",
    "for i in range(1, 9):\n",
    "    xx.append(quant.GetBinContent(i))\n",
    "xx.append(1.5)\n",
    "\n",
    "pdfq = []\n",
    "for i in range(9):\n",
    "    nbin = int(n * (xx[i+1] - xx[i]) / 3.0 + 1.0)\n",
    "    name = \"pdf%d\" % i\n",
    "    pdfq.append(TH1D(name, \"\", nbin, xx[i], xx[i+1]))\n",
    "    for j in range(1, nbin):\n",
    "        x = j * (xx[i+1] - xx[i]) / nbin + xx[i]\n",
    "        pdfq[i].SetBinContent(j, ROOT.Math.tdistribution_pdf(x, 3))"
   ]
  },
  {
   "cell_type": "markdown",
   "metadata": {},
   "source": [
    "Create the Canvas and divide in four draws, for every draw set the line width\n",
    "the title, and the line color."
   ]
  },
  {
   "cell_type": "code",
   "execution_count": 6,
   "metadata": {
    "collapsed": false
   },
   "outputs": [],
   "source": [
    "Canvas = TCanvas(\"DistCanvas\", \"Student Distribution graphs\", 10, 10, 800, 700)\n",
    "pdf.SetTitle(\"Student t distribution function\")\n",
    "cum.SetTitle(\"Cumulative for Student t\")\n",
    "quant.SetTitle(\"10-quantiles  for Student t\")\n",
    "Canvas.Divide(2, 2)\n",
    "Canvas.cd(1)\n",
    "pdf.SetLineWidth(2)\n",
    "pdf.DrawCopy()\n",
    "Canvas.cd(2)\n",
    "cum.SetLineWidth(2)\n",
    "cum.SetLineColor(kRed)\n",
    "cum.Draw()\n",
    "Canvas.cd(3)\n",
    "quant.Draw()\n",
    "quant.SetLineWidth(2)\n",
    "quant.SetLineColor(kBlue)\n",
    "quant.SetStats(0)\n",
    "Canvas.cd(4)\n",
    "pdfq[0].SetTitle(\"Student t & its quantiles\")\n",
    "pdf.SetTitle(\"\")\n",
    "pdf.Draw()\n",
    "pdfq[0].SetTitle(\"Student t & its quantiles\")"
   ]
  },
  {
   "cell_type": "markdown",
   "metadata": {},
   "source": [
    "Set the colors in every quantile."
   ]
  },
  {
   "cell_type": "code",
   "execution_count": 7,
   "metadata": {
    "collapsed": false
   },
   "outputs": [],
   "source": [
    "i = 1\n",
    "for pd in pdfq[1:]:\n",
    "    pd.SetStats(0)\n",
    "    i += 1\n",
    "    pd.SetFillColor(i)\n",
    "    pd.Draw(\"same\")\n",
    "Canvas.Modified()"
   ]
  },
  {
   "cell_type": "markdown",
   "metadata": {},
   "source": [
    "Draw all canvases "
   ]
  },
  {
   "cell_type": "code",
   "execution_count": 8,
   "metadata": {
    "collapsed": false
   },
   "outputs": [
    {
     "data": {
      "image/png": "[encoded data removed]",
      "text/plain": [
       "<IPython.core.display.Image object>"
      ]
     },
     "metadata": {},
     "output_type": "display_data"
    }
   ],
   "source": [
    "from ROOT import gROOT \n",
    "gROOT.GetListOfCanvases().Draw()"
   ]
  }
 ],
 "metadata": {
  "kernelspec": {
   "display_name": "Python 2",
   "language": "python",
   "name": "python2"
  },
  "language_info": {
   "codemirror_mode": {
    "name": "ipython",
    "version": 2
   },
   "file_extension": ".py",
   "mimetype": "text/x-python",
   "name": "python",
   "nbconvert_exporter": "python",
   "pygments_lexer": "ipython2",
   "version": "2.7.10"
  }
 },
 "nbformat": 4,
 "nbformat_minor": 2
}
