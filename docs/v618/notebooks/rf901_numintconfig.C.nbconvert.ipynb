{
 "cells": [
  {
   "cell_type": "markdown",
   "metadata": {},
   "source": [
    "# Rf 9 0 1_Numintconfig\n",
    "Numeric algorithm tuning: configuration and customization of how numeric (partial) integrals are executed\n",
    "\n",
    "\n",
    "\n",
    "**Author:** 07/2008 - Wouter Verkerke  \n",
    "<i><small>This notebook tutorial was automatically generated with <a href= \"https://github.com/root-project/root/blob/master/documentation/doxygen/converttonotebook.py\">ROOTBOOK-izer</a> from the macro found in the ROOT repository  on Thursday, August 29, 2019 at 03:05 AM.</small></i>"
   ]
  },
  {
   "cell_type": "code",
   "execution_count": 1,
   "metadata": {
    "collapsed": false
   },
   "outputs": [],
   "source": [
    "%%cpp -d\n",
    "#include \"RooRealVar.h\"\n",
    "#include \"RooDataSet.h\"\n",
    "#include \"RooGaussian.h\"\n",
    "#include \"RooConstVar.h\"\n",
    "#include \"TCanvas.h\"\n",
    "#include \"TAxis.h\"\n",
    "#include \"RooPlot.h\"\n",
    "#include \"RooNumIntConfig.h\"\n",
    "#include \"RooLandau.h\"\n",
    "#include \"RooArgSet.h\"\n",
    "#include <iomanip>"
   ]
  },
  {
   "cell_type": "code",
   "execution_count": 2,
   "metadata": {
    "collapsed": false
   },
   "outputs": [],
   "source": [
    "%%cpp -d\n",
    "// This is a workaround to make sure the namespace is used inside functions\n",
    "using namespace RooFit;"
   ]
  },
  {
   "cell_type": "markdown",
   "metadata": {},
   "source": [
    "Adjust global 1d integration precision\n",
    " ----------------------------------------------------------------------------"
   ]
  },
  {
   "cell_type": "markdown",
   "metadata": {},
   "source": [
    "Print current global default configuration for numeric integration strategies"
   ]
  },
  {
   "cell_type": "code",
   "execution_count": 3,
   "metadata": {
    "collapsed": false
   },
   "outputs": [
    {
     "name": "stdout",
     "output_type": "stream",
     "text": [
      "\n",
      "\u001b[1mRooFit v3.60 -- Developed by Wouter Verkerke and David Kirkby\u001b[0m \n",
      "                Copyright (C) 2000-2013 NIKHEF, University of California & Stanford University\n",
      "                All rights reserved, please read http://roofit.sourceforge.net/license.txt\n",
      "\n",
      "Requested precision: 1e-07 absolute, 1e-07 relative\n",
      "\n",
      "1-D integration method: RooIntegrator1D (RooImproperIntegrator1D if open-ended)\n",
      "2-D integration method: RooAdaptiveIntegratorND (N/A if open-ended)\n",
      "N-D integration method: RooAdaptiveIntegratorND (N/A if open-ended)\n",
      "\n",
      "Available integration methods:\n",
      "\n",
      "*** RooBinIntegrator ***\n",
      "Capabilities: [1-D] [2-D] [N-D] \n",
      "Configuration: \n",
      "  1)  numBins = 100\n",
      "\n",
      "*** RooIntegrator1D ***\n",
      "Capabilities: [1-D] \n",
      "Configuration: \n",
      "  1)        sumRule = Trapezoid(idx = 0)\n",
      "\n",
      "  2)  extrapolation = Wynn-Epsilon(idx = 1)\n",
      "\n",
      "  3)       maxSteps = 20\n",
      "  4)       minSteps = 999\n",
      "  5)       fixSteps = 0\n",
      "\n",
      "*** RooIntegrator2D ***\n",
      "Capabilities: [2-D] \n",
      "Configuration: \n",
      "(Depends on 'RooIntegrator1D')\n",
      "\n",
      "*** RooSegmentedIntegrator1D ***\n",
      "Capabilities: [1-D] \n",
      "Configuration: \n",
      "  1)  numSeg = 3\n",
      "(Depends on 'RooIntegrator1D')\n",
      "\n",
      "*** RooSegmentedIntegrator2D ***\n",
      "Capabilities: [2-D] \n",
      "Configuration: \n",
      "(Depends on 'RooSegmentedIntegrator1D')\n",
      "\n",
      "*** RooImproperIntegrator1D ***\n",
      "Capabilities: [1-D] [OpenEnded] \n",
      "Configuration: \n",
      "(Depends on 'RooIntegrator1D')\n",
      "\n",
      "*** RooMCIntegrator ***\n",
      "Capabilities: [1-D] [2-D] [N-D] \n",
      "Configuration: \n",
      "  1)   samplingMode = Importance(idx = 0)\n",
      "\n",
      "  2)        genType = QuasiRandom(idx = 0)\n",
      "\n",
      "  3)        verbose = false(idx = 0)\n",
      "\n",
      "  4)          alpha = 1.5\n",
      "  5)    nRefineIter = 5\n",
      "  6)  nRefinePerDim = 1000\n",
      "  7)     nIntPerDim = 5000\n",
      "\n",
      "*** RooAdaptiveGaussKronrodIntegrator1D ***\n",
      "Capabilities: [1-D] [OpenEnded] \n",
      "Configuration: \n",
      "  1)  maxSeg = 100\n",
      "  2)  method = 21Points(idx = 2)\n",
      "\n",
      "\n",
      "*** RooGaussKronrodIntegrator1D ***\n",
      "Capabilities: [1-D] [OpenEnded] \n",
      "Configuration: \n",
      "\n",
      "*** RooAdaptiveIntegratorND ***\n",
      "Capabilities: [2-D] [N-D] \n",
      "Configuration: \n",
      "  1)  maxEval2D = 100000\n",
      "  2)  maxEval3D = 1e+06\n",
      "  3)  maxEvalND = 1e+07\n",
      "  4)    maxWarn = 5\n",
      "\n"
     ]
    }
   ],
   "source": [
    "RooAbsReal::defaultIntegratorConfig()->Print(\"v\");"
   ]
  },
  {
   "cell_type": "markdown",
   "metadata": {},
   "source": [
    "Example: change global precision for 1d integrals from 1e-7 to 1e-6\n",
    "\n",
    " The relative epsilon (change as fraction of current best integral estimate) and\n",
    " absolute epsilon (absolute change w.r.t last best integral estimate) can be specified\n",
    " separately. For most p.d.f integrals the relative change criterium is the most important,\n",
    " however for certain non-p.d.f functions that integrate out to zero a separate absolute\n",
    " change criterium is necessary to declare convergence of the integral\n",
    "\n",
    " NB: This change is for illustration only. In general the precision should be at least 1e-7\n",
    " for normalization integrals for MINUIT to succeed."
   ]
  },
  {
   "cell_type": "code",
   "execution_count": 4,
   "metadata": {
    "collapsed": false
   },
   "outputs": [],
   "source": [
    "RooAbsReal::defaultIntegratorConfig()->setEpsAbs(1e-6);\n",
    "RooAbsReal::defaultIntegratorConfig()->setEpsRel(1e-6);"
   ]
  },
  {
   "cell_type": "markdown",
   "metadata": {},
   "source": [
    "Numeric integration of landau pdf\n",
    " ------------------------------------------------------------------"
   ]
  },
  {
   "cell_type": "markdown",
   "metadata": {},
   "source": [
    "Construct p.d.f without support for analytical integrator for demonstration purposes"
   ]
  },
  {
   "cell_type": "code",
   "execution_count": 5,
   "metadata": {
    "collapsed": false
   },
   "outputs": [],
   "source": [
    "RooRealVar x(\"x\", \"x\", -10, 10);\n",
    "RooLandau landau(\"landau\", \"landau\", x, RooConst(0), RooConst(0.1));"
   ]
  },
  {
   "cell_type": "markdown",
   "metadata": {},
   "source": [
    "Activate debug-level messages for topic integration to be able to follow actions below"
   ]
  },
  {
   "cell_type": "code",
   "execution_count": 6,
   "metadata": {
    "collapsed": false
   },
   "outputs": [],
   "source": [
    "RooMsgService::instance().addStream(DEBUG, Topic(Integration));"
   ]
  },
  {
   "cell_type": "markdown",
   "metadata": {},
   "source": [
    "Calculate integral over landau with default choice of numeric integrator"
   ]
  },
  {
   "cell_type": "code",
   "execution_count": 7,
   "metadata": {
    "collapsed": false
   },
   "outputs": [
    {
     "name": "stdout",
     "output_type": "stream",
     "text": [
      "[#2] INFO:Integration -- RooRealIntegral::ctor(landau_Int[x]) Constructing integral of function landau over observables(x) with normalization () with range identifier <none>\n",
      "[#2] DEBUG:Integration -- landau: Adding observable x of server x as shape dependent\n",
      "[#2] INFO:Integration -- landau: Observable x is suitable for analytical integration (if supported by p.d.f)\n",
      "[#2] INFO:Integration -- landau: Observables (x) are numerically integrated\n",
      "[#1] INFO:NumericIntegration -- RooRealIntegral::init(landau_Int[x]) using numeric integrator RooIntegrator1D to calculate Int(x)\n",
      " [1] int_dx landau(x) = 0.0989653362054419\n"
     ]
    }
   ],
   "source": [
    "RooAbsReal *intLandau = landau.createIntegral(x);\n",
    "Double_t val = intLandau->getVal();\n",
    "cout << \" [1] int_dx landau(x) = \" << setprecision(15) << val << endl;"
   ]
  },
  {
   "cell_type": "markdown",
   "metadata": {},
   "source": [
    "Same with custom configuration\n",
    " -----------------------------------------------------------"
   ]
  },
  {
   "cell_type": "markdown",
   "metadata": {},
   "source": [
    "Construct a custom configuration which uses the adaptive gauss-kronrod technique\n",
    " for closed 1D integrals"
   ]
  },
  {
   "cell_type": "code",
   "execution_count": 8,
   "metadata": {
    "collapsed": false
   },
   "outputs": [],
   "source": [
    "RooNumIntConfig customConfig(*RooAbsReal::defaultIntegratorConfig());\n",
    "customConfig.method1D().setLabel(\"RooAdaptiveGaussKronrodIntegrator1D\");"
   ]
  },
  {
   "cell_type": "markdown",
   "metadata": {},
   "source": [
    "Calculate integral over landau with custom integral specification"
   ]
  },
  {
   "cell_type": "code",
   "execution_count": 9,
   "metadata": {
    "collapsed": false
   },
   "outputs": [
    {
     "name": "stdout",
     "output_type": "stream",
     "text": [
      "[#2] INFO:Integration -- RooRealIntegral::ctor(landau_Int[x]) Constructing integral of function landau over observables(x) with normalization () with range identifier <none>\n",
      "[#2] DEBUG:Integration -- landau: Adding observable x of server x as shape dependent\n",
      "[#2] INFO:Integration -- landau: Observable x is suitable for analytical integration (if supported by p.d.f)\n",
      "[#2] INFO:Integration -- landau: Observables (x) are numerically integrated\n",
      "[#1] INFO:NumericIntegration -- RooRealIntegral::init(landau_Int[x]) using numeric integrator RooAdaptiveGaussKronrodIntegrator1D to calculate Int(x)\n",
      " [2] int_dx landau(x) = 0.098957102921895\n"
     ]
    }
   ],
   "source": [
    "RooAbsReal *intLandau2 = landau.createIntegral(x, NumIntConfig(customConfig));\n",
    "Double_t val2 = intLandau2->getVal();\n",
    "cout << \" [2] int_dx landau(x) = \" << val2 << endl;"
   ]
  },
  {
   "cell_type": "markdown",
   "metadata": {},
   "source": [
    "Adjusting default config for a specific pdf\n",
    " -------------------------------------------------------------------------------------"
   ]
  },
  {
   "cell_type": "markdown",
   "metadata": {},
   "source": [
    "Another possibility: associate custom numeric integration configuration as default for object 'landau'"
   ]
  },
  {
   "cell_type": "code",
   "execution_count": 10,
   "metadata": {
    "collapsed": false
   },
   "outputs": [],
   "source": [
    "landau.setIntegratorConfig(customConfig);"
   ]
  },
  {
   "cell_type": "markdown",
   "metadata": {},
   "source": [
    "Calculate integral over landau custom numeric integrator specified as object default"
   ]
  },
  {
   "cell_type": "code",
   "execution_count": 11,
   "metadata": {
    "collapsed": false
   },
   "outputs": [
    {
     "name": "stdout",
     "output_type": "stream",
     "text": [
      "[#2] INFO:Integration -- RooRealIntegral::ctor(landau_Int[x]) Constructing integral of function landau over observables(x) with normalization () with range identifier <none>\n",
      "[#2] DEBUG:Integration -- landau: Adding observable x of server x as shape dependent\n",
      "[#2] INFO:Integration -- landau: Observable x is suitable for analytical integration (if supported by p.d.f)\n",
      "[#2] INFO:Integration -- landau: Observables (x) are numerically integrated\n",
      "[#1] INFO:NumericIntegration -- RooRealIntegral::init(landau_Int[x]) using numeric integrator RooAdaptiveGaussKronrodIntegrator1D to calculate Int(x)\n",
      " [3] int_dx landau(x) = 0.098957102921895\n"
     ]
    }
   ],
   "source": [
    "RooAbsReal *intLandau3 = landau.createIntegral(x);\n",
    "Double_t val3 = intLandau3->getVal();\n",
    "cout << \" [3] int_dx landau(x) = \" << val3 << endl;"
   ]
  },
  {
   "cell_type": "markdown",
   "metadata": {},
   "source": [
    "Another possibility: change global default for 1d numeric integration strategy on finite domains"
   ]
  },
  {
   "cell_type": "code",
   "execution_count": 12,
   "metadata": {
    "collapsed": false
   },
   "outputs": [],
   "source": [
    "RooAbsReal::defaultIntegratorConfig()->method1D().setLabel(\"RooAdaptiveGaussKronrodIntegrator1D\");"
   ]
  },
  {
   "cell_type": "markdown",
   "metadata": {},
   "source": [
    "Adjusting parameters of a specific technique\n",
    " ---------------------------------------------------------------------------------------"
   ]
  },
  {
   "cell_type": "markdown",
   "metadata": {},
   "source": [
    "Adjust maximum number of steps of roointegrator1d in the global default configuration"
   ]
  },
  {
   "cell_type": "code",
   "execution_count": 13,
   "metadata": {
    "collapsed": false
   },
   "outputs": [],
   "source": [
    "RooAbsReal::defaultIntegratorConfig()->getConfigSection(\"RooIntegrator1D\").setRealValue(\"maxSteps\", 30);"
   ]
  },
  {
   "cell_type": "markdown",
   "metadata": {},
   "source": [
    "Example of how to change the parameters of a numeric integrator\n",
    " (Each config section is a RooArgSet with RooRealVars holding real-valued parameters\n",
    "  and RooCategories holding parameters with a finite set of options)"
   ]
  },
  {
   "cell_type": "code",
   "execution_count": 14,
   "metadata": {
    "collapsed": false
   },
   "outputs": [],
   "source": [
    "customConfig.getConfigSection(\"RooAdaptiveGaussKronrodIntegrator1D\").setRealValue(\"maxSeg\", 50);\n",
    "customConfig.getConfigSection(\"RooAdaptiveGaussKronrodIntegrator1D\").setCatLabel(\"method\", \"15Points\");"
   ]
  },
  {
   "cell_type": "markdown",
   "metadata": {},
   "source": [
    "Example of how to print set of possible values for \"method\" category"
   ]
  },
  {
   "cell_type": "code",
   "execution_count": 15,
   "metadata": {
    "collapsed": false
   },
   "outputs": [
    {
     "name": "stdout",
     "output_type": "stream",
     "text": [
      "--- RooAbsArg ---\n",
      "  Value State: clean\n",
      "  Shape State: clean\n",
      "  Attributes: \n",
      "  Address: 0x7f4d54602890\n",
      "  Clients: \n",
      "  Servers: \n",
      "  Proxies: \n",
      "--- RooAbsCategory ---\n",
      "  Value is \"15Points\" (1)\n",
      "  Has the following possible values:\n",
      "        WynnEpsilon = 0\n",
      "        15Points = 1\n",
      "        21Points = 2\n",
      "        31Points = 3\n",
      "        41Points = 4\n",
      "        51Points = 5\n",
      "        61Points = 6\n"
     ]
    }
   ],
   "source": [
    "customConfig.getConfigSection(\"RooAdaptiveGaussKronrodIntegrator1D\").find(\"method\")->Print(\"v\");"
   ]
  }
 ],
 "metadata": {
  "kernelspec": {
   "display_name": "ROOT C++",
   "language": "c++",
   "name": "root"
  },
  "language_info": {
   "codemirror_mode": "text/x-c++src",
   "file_extension": ".C",
   "mimetype": " text/x-c++src",
   "name": "c++"
  }
 },
 "nbformat": 4,
 "nbformat_minor": 2
}
