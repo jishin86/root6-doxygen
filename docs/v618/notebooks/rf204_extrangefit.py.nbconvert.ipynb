{
 "cells": [
  {
   "cell_type": "markdown",
   "metadata": {},
   "source": [
    "# Rf 2 0 4_Extrangefit\n",
    "Addition and convolution: extended maximum likelihood fit with alternate range definition for observed number of events.\n",
    "\n",
    "\n",
    "\n",
    "\n",
    "**Author:** Clemens Lange, Wouter Verkerke (C++ version)  \n",
    "<i><small>This notebook tutorial was automatically generated with <a href= \"https://github.com/root-project/root/blob/master/documentation/doxygen/converttonotebook.py\">ROOTBOOK-izer</a> from the macro found in the ROOT repository  on Thursday, August 29, 2019 at 02:43 AM.</small></i>"
   ]
  },
  {
   "cell_type": "code",
   "execution_count": 1,
   "metadata": {
    "collapsed": false
   },
   "outputs": [
    {
     "name": "stdout",
     "output_type": "stream",
     "text": [
      "Welcome to JupyROOT 6.18/03\n"
     ]
    }
   ],
   "source": [
    "import ROOT"
   ]
  },
  {
   "cell_type": "markdown",
   "metadata": {},
   "source": [
    "Set up component pdfs\n",
    "---------------------------------------"
   ]
  },
  {
   "cell_type": "markdown",
   "metadata": {},
   "source": [
    "Declare observable x"
   ]
  },
  {
   "cell_type": "code",
   "execution_count": 2,
   "metadata": {
    "collapsed": false
   },
   "outputs": [
    {
     "name": "stdout",
     "output_type": "stream",
     "text": [
      "\n",
      "\u001b[1mRooFit v3.60 -- Developed by Wouter Verkerke and David Kirkby\u001b[0m \n",
      "                Copyright (C) 2000-2013 NIKHEF, University of California & Stanford University\n",
      "                All rights reserved, please read http://roofit.sourceforge.net/license.txt\n",
      "\n"
     ]
    }
   ],
   "source": [
    "x = ROOT.RooRealVar(\"x\", \"x\", 0, 10)"
   ]
  },
  {
   "cell_type": "markdown",
   "metadata": {},
   "source": [
    "Create two Gaussian PDFs g1(x,mean1,sigma) anf g2(x,mean2,sigma) and\n",
    "their parameters"
   ]
  },
  {
   "cell_type": "code",
   "execution_count": 3,
   "metadata": {
    "collapsed": false
   },
   "outputs": [],
   "source": [
    "mean = ROOT.RooRealVar(\"mean\", \"mean of gaussians\", 5)\n",
    "sigma1 = ROOT.RooRealVar(\"sigma1\", \"width of gaussians\", 0.5)\n",
    "sigma2 = ROOT.RooRealVar(\"sigma2\", \"width of gaussians\", 1)\n",
    "\n",
    "sig1 = ROOT.RooGaussian(\"sig1\", \"Signal component 1\", x, mean, sigma1)\n",
    "sig2 = ROOT.RooGaussian(\"sig2\", \"Signal component 2\", x, mean, sigma2)"
   ]
  },
  {
   "cell_type": "markdown",
   "metadata": {},
   "source": [
    "Build Chebychev polynomial p.d.f."
   ]
  },
  {
   "cell_type": "code",
   "execution_count": 4,
   "metadata": {
    "collapsed": false
   },
   "outputs": [],
   "source": [
    "a0 = ROOT.RooRealVar(\"a0\", \"a0\", 0.5, 0., 1.)\n",
    "a1 = ROOT.RooRealVar(\"a1\", \"a1\", -0.2, 0., 1.)\n",
    "bkg = ROOT.RooChebychev(\"bkg\", \"Background\", x, ROOT.RooArgList(a0, a1))"
   ]
  },
  {
   "cell_type": "markdown",
   "metadata": {},
   "source": [
    "Sum the signal components into a composite signal p.d.f."
   ]
  },
  {
   "cell_type": "code",
   "execution_count": 5,
   "metadata": {
    "collapsed": false
   },
   "outputs": [],
   "source": [
    "sig1frac = ROOT.RooRealVar(\n",
    "    \"sig1frac\", \"fraction of component 1 in signal\", 0.8, 0., 1.)\n",
    "sig = ROOT.RooAddPdf(\n",
    "    \"sig\", \"Signal\", ROOT.RooArgList(sig1, sig2), ROOT.RooArgList(sig1frac))"
   ]
  },
  {
   "cell_type": "markdown",
   "metadata": {},
   "source": [
    "Construct extended comps with range spec\n",
    "------------------------------------------------------------------------------"
   ]
  },
  {
   "cell_type": "markdown",
   "metadata": {},
   "source": [
    "Define signal range in which events counts are to be defined"
   ]
  },
  {
   "cell_type": "code",
   "execution_count": 6,
   "metadata": {
    "collapsed": false
   },
   "outputs": [
    {
     "name": "stdout",
     "output_type": "stream",
     "text": [
      "[#1] INFO:Eval -- RooRealVar::setRange(x) new range named 'signalRange' created with bounds [4,6]\n"
     ]
    }
   ],
   "source": [
    "x.setRange(\"signalRange\", 4, 6)"
   ]
  },
  {
   "cell_type": "markdown",
   "metadata": {},
   "source": [
    "Associated nsig/nbkg as expected number of events with sig/bkg\n",
    "_in_the_range_ \"signalRange\""
   ]
  },
  {
   "cell_type": "code",
   "execution_count": 7,
   "metadata": {
    "collapsed": false
   },
   "outputs": [],
   "source": [
    "nsig = ROOT.RooRealVar(\n",
    "    \"nsig\", \"number of signal events in signalRange\", 500, 0., 10000)\n",
    "nbkg = ROOT.RooRealVar(\n",
    "    \"nbkg\", \"number of background events in signalRange\", 500, 0, 10000)\n",
    "esig = ROOT.RooExtendPdf(\n",
    "    \"esig\", \"extended signal p.d.f\", sig, nsig, \"signalRange\")\n",
    "ebkg = ROOT.RooExtendPdf(\n",
    "    \"ebkg\", \"extended background p.d.f\", bkg, nbkg, \"signalRange\")"
   ]
  },
  {
   "cell_type": "markdown",
   "metadata": {},
   "source": [
    "Sum extended components\n",
    "---------------------------------------------"
   ]
  },
  {
   "cell_type": "markdown",
   "metadata": {},
   "source": [
    "Construct sum of two extended p.d.f. (no coefficients required)"
   ]
  },
  {
   "cell_type": "code",
   "execution_count": 8,
   "metadata": {
    "collapsed": false
   },
   "outputs": [],
   "source": [
    "model = ROOT.RooAddPdf(\"model\", \"(g1+g2)+a\", ROOT.RooArgList(ebkg, esig))"
   ]
  },
  {
   "cell_type": "markdown",
   "metadata": {},
   "source": [
    "Sample data, fit model\n",
    "-------------------------------------------"
   ]
  },
  {
   "cell_type": "markdown",
   "metadata": {},
   "source": [
    "Generate 1000 events from model so that nsig, come out to numbers <<500\n",
    "in fit"
   ]
  },
  {
   "cell_type": "code",
   "execution_count": 9,
   "metadata": {
    "collapsed": false
   },
   "outputs": [],
   "source": [
    "data = model.generate(ROOT.RooArgSet(x), 1000)"
   ]
  },
  {
   "cell_type": "markdown",
   "metadata": {},
   "source": [
    "Perform unbinned extended ML fit to data"
   ]
  },
  {
   "cell_type": "code",
   "execution_count": 10,
   "metadata": {
    "collapsed": false
   },
   "outputs": [
    {
     "name": "stdout",
     "output_type": "stream",
     "text": [
      "[#1] INFO:Minization -- RooMinimizer::optimizeConst: activating const optimization\n",
      "[#1] INFO:Minization --  The following expressions have been identified as constant and will be precalculated and cached: (sig1,sig2)\n",
      "[#1] INFO:Minization --  The following expressions will be evaluated in cache-and-track mode: (ebkg,esig)\n",
      " **********\n",
      " **    1 **SET PRINT           1\n",
      " **********\n",
      " **********\n",
      " **    2 **SET NOGRAD\n",
      " **********\n",
      " PARAMETER DEFINITIONS:\n",
      "    NO.   NAME         VALUE      STEP SIZE      LIMITS\n",
      "     1 a0           5.00000e-01  1.00000e-01    0.00000e+00  1.00000e+00\n",
      "     2 a1           0.00000e+00  1.00000e-01    0.00000e+00  1.00000e+00\n",
      " MINUIT WARNING IN PARAM DEF\n",
      " ============== STARTING VALUE IS AT LIMIT.\n",
      " MINUIT WARNING IN PARAMETR\n",
      " ============== VARIABLE2 IS AT ITS LOWER ALLOWED LIMIT.\n",
      " MINUIT WARNING IN PARAMETR\n",
      " ============== VARIABLE2 BROUGHT BACK INSIDE LIMITS.\n",
      "     3 nbkg         5.00000e+02  2.50000e+02    0.00000e+00  1.00000e+04\n",
      "     4 nsig         5.00000e+02  2.50000e+02    0.00000e+00  1.00000e+04\n",
      "     5 sig1frac     8.00000e-01  1.00000e-01    0.00000e+00  1.00000e+00\n",
      " **********\n",
      " **    3 **SET ERR         0.5\n",
      " **********\n",
      " **********\n",
      " **    4 **SET PRINT           1\n",
      " **********\n",
      " **********\n",
      " **    5 **SET STR           1\n",
      " **********\n",
      " NOW USING STRATEGY  1: TRY TO BALANCE SPEED AGAINST RELIABILITY\n",
      " **********\n",
      " **    6 **MIGRAD        2500           1\n",
      " **********\n",
      " FIRST CALL TO USER FUNCTION AT NEW START POINT, WITH IFLAG=4.\n",
      " MINUIT WARNING IN MIGrad    \n",
      " ============== VARIABLE2 IS AT ITS LOWER ALLOWED LIMIT.\n",
      " START MIGRAD MINIMIZATION.  STRATEGY  1.  CONVERGENCE WHEN EDM .LT. 1.00e-03\n",
      " FCN=-2767.2 FROM MIGRAD    STATUS=INITIATE       16 CALLS          17 TOTAL\n",
      "                     EDM= unknown      STRATEGY= 1      NO ERROR MATRIX       \n",
      "  EXT PARAMETER               CURRENT GUESS       STEP         FIRST   \n",
      "  NO.   NAME      VALUE            ERROR          SIZE      DERIVATIVE \n",
      "   1  a0           5.00000e-01   1.00000e-01   2.01358e-01  -1.07822e+00\n",
      "   2  a1           9.53674e-07   1.00000e-01   3.20776e-01   1.08671e+00\n",
      "   3  nbkg         5.00000e+02   2.50000e+02   1.18625e-01   7.37124e+03\n",
      "   4  nsig         5.00000e+02   2.50000e+02   1.18625e-01   1.58835e+03\n",
      "   5  sig1frac     8.00000e-01   1.00000e-01   2.57889e-01  -4.46662e+01\n",
      "                               ERR DEF= 0.5\n",
      " MIGRAD MINIMIZATION HAS CONVERGED.\n",
      " MIGRAD WILL VERIFY CONVERGENCE AND ERROR MATRIX.\n",
      " COVARIANCE MATRIX CALCULATED SUCCESSFULLY\n",
      " FCN=-3706.83 FROM MIGRAD    STATUS=CONVERGED     152 CALLS         153 TOTAL\n",
      "                     EDM=5.69498e-05    STRATEGY= 1      ERROR MATRIX ACCURATE \n",
      "  EXT PARAMETER                                   STEP         FIRST   \n",
      "  NO.   NAME      VALUE            ERROR          SIZE      DERIVATIVE \n",
      "   1  a0           5.09705e-01   5.83060e-02   4.89981e-03   1.81261e-02\n",
      "   2  a1           4.46510e-08   3.77948e-02   1.41648e-02** at limit **\n",
      "   3  nbkg         1.55660e+02   7.42810e+00   2.04156e-04   1.02027e+00\n",
      "   4  nsig         1.89725e+02   1.95987e+01   5.54581e-04   4.44370e-01\n",
      "   5  sig1frac     6.34054e-01   1.93937e-01   1.57448e-02   2.77939e-03\n",
      "                               ERR DEF= 0.5\n",
      " EXTERNAL ERROR MATRIX.    NDIM=  25    NPAR=  5    ERR DEF=0.5\n",
      "  3.415e-03  1.147e-08 -1.002e-02  1.578e-02 -4.495e-04 \n",
      "  1.147e-08  6.837e-09 -1.784e-05  1.908e-05 -1.883e-07 \n",
      " -1.002e-02 -1.784e-05  5.518e+01 -6.049e+01  7.029e-01 \n",
      "  1.578e-02  1.908e-05 -6.049e+01  3.841e+02 -6.129e-01 \n",
      " -4.495e-04 -1.883e-07  7.029e-01 -6.129e-01  3.984e-02 \n",
      " PARAMETER  CORRELATION COEFFICIENTS  \n",
      "       NO.  GLOBAL      1      2      3      4      5\n",
      "        1  0.03945   1.000  0.002 -0.023  0.014 -0.039\n",
      "        2  0.02924   0.002  1.000 -0.029  0.012 -0.011\n",
      "        3  0.58695  -0.023 -0.029  1.000 -0.415  0.474\n",
      "        4  0.41801   0.014  0.012 -0.415  1.000 -0.157\n",
      "        5  0.47697  -0.039 -0.011  0.474 -0.157  1.000\n",
      " **********\n",
      " **    7 **SET ERR         0.5\n",
      " **********\n",
      " **********\n",
      " **    8 **SET PRINT           1\n",
      " **********\n",
      " **********\n",
      " **    9 **HESSE        2500\n",
      " **********\n",
      " COVARIANCE MATRIX CALCULATED SUCCESSFULLY\n",
      " FCN=-3706.83 FROM HESSE     STATUS=OK             31 CALLS         184 TOTAL\n",
      "                     EDM=5.6828e-05    STRATEGY= 1      ERROR MATRIX ACCURATE \n",
      "  EXT PARAMETER                                INTERNAL      INTERNAL  \n",
      "  NO.   NAME      VALUE            ERROR       STEP SIZE       VALUE   \n",
      "   1  a0           5.09705e-01   5.83054e-02   9.79963e-04   1.94120e-02\n",
      "   2  a1           4.46510e-08   3.78052e-02   2.83295e-03  -1.57122e+00\n",
      "                                 WARNING -   - ABOVE PARAMETER IS AT LIMIT.\n",
      "   3  nbkg         1.55660e+02   7.42811e+00   4.08312e-05  -1.32062e+00\n",
      "   4  nsig         1.89725e+02   1.95942e+01   1.10916e-04  -1.29444e+00\n",
      "   5  sig1frac     6.34054e-01   1.93985e-01   6.29794e-04   2.71428e-01\n",
      "                               ERR DEF= 0.5\n",
      " EXTERNAL ERROR MATRIX.    NDIM=  25    NPAR=  5    ERR DEF=0.5\n",
      "  3.415e-03  1.698e-09 -9.962e-03  1.559e-02 -4.478e-04 \n",
      "  1.698e-09  6.839e-09 -2.665e-06  2.845e-06 -2.812e-08 \n",
      " -9.962e-03 -2.665e-06  5.518e+01 -6.037e+01  7.035e-01 \n",
      "  1.559e-02  2.845e-06 -6.037e+01  3.840e+02 -6.038e-01 \n",
      " -4.478e-04 -2.812e-08  7.035e-01 -6.038e-01  3.986e-02 \n",
      " PARAMETER  CORRELATION COEFFICIENTS  \n",
      "       NO.  GLOBAL      1      2      3      4      5\n",
      "        1  0.03924   1.000  0.000 -0.023  0.014 -0.038\n",
      "        2  0.00436   0.000  1.000 -0.004  0.002 -0.002\n",
      "        3  0.58695  -0.023 -0.004  1.000 -0.415  0.474\n",
      "        4  0.41756   0.014  0.002 -0.415  1.000 -0.154\n",
      "        5  0.47744  -0.038 -0.002  0.474 -0.154  1.000\n",
      "[#1] INFO:Minization -- RooMinimizer::optimizeConst: deactivating const optimization\n",
      "\n",
      "  RooFitResult: minimized FCN value: -3706.83, estimated distance to minimum: 5.6828e-05\n",
      "                covariance matrix quality: Full, accurate covariance matrix\n",
      "                Status : MINIMIZE=0 HESSE=0 \n",
      "\n",
      "    Floating Parameter    FinalValue +/-  Error   \n",
      "  --------------------  --------------------------\n",
      "                    a0    5.0971e-01 +/-  5.83e-02\n",
      "                    a1    4.4651e-08 +/-  3.78e-02\n",
      "                  nbkg    1.5566e+02 +/-  7.43e+00\n",
      "                  nsig    1.8973e+02 +/-  1.96e+01\n",
      "              sig1frac    6.3405e-01 +/-  1.94e-01\n",
      "\n"
     ]
    }
   ],
   "source": [
    "r = model.fitTo(data, ROOT.RooFit.Extended(ROOT.kTRUE), ROOT.RooFit.Save())\n",
    "r.Print()"
   ]
  }
 ],
 "metadata": {
  "kernelspec": {
   "display_name": "Python 2",
   "language": "python",
   "name": "python2"
  },
  "language_info": {
   "codemirror_mode": {
    "name": "ipython",
    "version": 2
   },
   "file_extension": ".py",
   "mimetype": "text/x-python",
   "name": "python",
   "nbconvert_exporter": "python",
   "pygments_lexer": "ipython2",
   "version": "2.7.10"
  }
 },
 "nbformat": 4,
 "nbformat_minor": 2
}
