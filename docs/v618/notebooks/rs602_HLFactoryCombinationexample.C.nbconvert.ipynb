{
 "cells": [
  {
   "cell_type": "markdown",
   "metadata": {},
   "source": [
    "# Rs 6 0 2_ H L Factory Combinationexample\n",
    "High Level Factory: creation of a combined model\n",
    "\n",
    "\n",
    "\n",
    "\n",
    "**Author:** Danilo Piparo  \n",
    "<i><small>This notebook tutorial was automatically generated with <a href= \"https://github.com/root-project/root/blob/master/documentation/doxygen/converttonotebook.py\">ROOTBOOK-izer</a> from the macro found in the ROOT repository  on Thursday, August 29, 2019 at 03:23 AM.</small></i>"
   ]
  },
  {
   "cell_type": "code",
   "execution_count": 1,
   "metadata": {
    "collapsed": false
   },
   "outputs": [],
   "source": [
    "%%cpp -d\n",
    "#include <fstream>\n",
    "#include \"TString.h\"\n",
    "#include \"TROOT.h\"\n",
    "#include \"RooGlobalFunc.h\"\n",
    "#include \"RooWorkspace.h\"\n",
    "#include \"RooRealVar.h\"\n",
    "#include \"RooAbsPdf.h\"\n",
    "#include \"RooDataSet.h\"\n",
    "#include \"RooPlot.h\"\n",
    "#include \"RooStats/HLFactory.h\""
   ]
  },
  {
   "cell_type": "markdown",
   "metadata": {},
   "source": [
    "Use this order for safety on library loading"
   ]
  },
  {
   "cell_type": "code",
   "execution_count": 2,
   "metadata": {
    "collapsed": false
   },
   "outputs": [],
   "source": [
    "%%cpp -d\n",
    "// This is a workaround to make sure the namespace is used inside functions\n",
    "using namespace RooFit;\n",
    "using namespace RooStats;"
   ]
  },
  {
   "cell_type": "code",
   "execution_count": 3,
   "metadata": {
    "collapsed": false
   },
   "outputs": [],
   "source": [
    "using namespace std;"
   ]
  },
  {
   "cell_type": "code",
   "execution_count": 4,
   "metadata": {
    "collapsed": false
   },
   "outputs": [],
   "source": [
    "using namespace RooStats;\n",
    "using namespace RooFit;"
   ]
  },
  {
   "cell_type": "markdown",
   "metadata": {},
   "source": [
    "Create a card"
   ]
  },
  {
   "cell_type": "code",
   "execution_count": 5,
   "metadata": {
    "collapsed": false
   },
   "outputs": [
    {
     "name": "stdout",
     "output_type": "stream",
     "text": [
      "\n",
      "\u001b[1mRooFit v3.60 -- Developed by Wouter Verkerke and David Kirkby\u001b[0m \n",
      "                Copyright (C) 2000-2013 NIKHEF, University of California & Stanford University\n",
      "                All rights reserved, please read http://roofit.sourceforge.net/license.txt\n",
      "\n",
      "[#1] INFO:ObjectHandling -- RooWorkspace::exportToCint(HLFavtoryCombinationexample_ws) INFO: references to all objects in this workspace will be created in CINT in 'namespace HLFavtoryCombinationexample_ws'\n"
     ]
    }
   ],
   "source": [
    "TString card_name(\"HLFavtoryCombinationexample.rs\");\n",
    "ofstream ofile(card_name);\n",
    "ofile << \"// The simplest card for combination\\n\\n\"\n",
    "      << \"gauss1 = Gaussian(x[0,100],mean1[50,0,100],4);\\n\"\n",
    "      << \"flat1 = Polynomial(x,0);\\n\"\n",
    "      << \"sb_model1 = SUM(nsig1[120,0,300]*gauss1 , nbkg1[100,0,1000]*flat1);\\n\"\n",
    "      << \"gauss2 = Gaussian(x,mean2[80,0,100],5);\\n\"\n",
    "      << \"flat2 = Polynomial(x,0);\\n\"\n",
    "      << \"sb_model2 = SUM(nsig2[90,0,400]*gauss2 , nbkg2[80,0,1000]*flat2);\\n\";\n",
    "\n",
    "ofile.close();\n",
    "\n",
    "HLFactory hlf(\"HLFavtoryCombinationexample\", card_name, false);\n",
    "\n",
    "hlf.AddChannel(\"model1\", \"sb_model1\", \"flat1\");\n",
    "hlf.AddChannel(\"model2\", \"sb_model2\", \"flat2\");\n",
    "auto pdf = hlf.GetTotSigBkgPdf();\n",
    "auto thecat = hlf.GetTotCategory();\n",
    "auto x = static_cast<RooRealVar *>(hlf.GetWs()->arg(\"x\"));\n",
    "\n",
    "auto data = pdf->generate(RooArgSet(*x, *thecat), Extended());"
   ]
  },
  {
   "cell_type": "markdown",
   "metadata": {},
   "source": [
    "--- perform extended ml fit of composite pdf to toy data ---"
   ]
  },
  {
   "cell_type": "code",
   "execution_count": 6,
   "metadata": {
    "collapsed": false
   },
   "outputs": [
    {
     "name": "stdout",
     "output_type": "stream",
     "text": [
      "[#1] INFO:Minization -- p.d.f. provides expected number of events, including extended term in likelihood.\n",
      "[#1] INFO:Minization -- RooMinimizer::optimizeConst: activating const optimization\n",
      "RooAbsTestStatistic::initSimMode: creating slave calculator #0 for state model1 (211 dataset entries)\n",
      "RooAbsTestStatistic::initSimMode: creating slave calculator #1 for state model2 (175 dataset entries)\n",
      "[#1] INFO:Fitting -- RooAbsTestStatistic::initSimMode: created 2 slave calculators.\n",
      "[#1] INFO:Minization --  The following expressions have been identified as constant and will be precalculated and cached: (flat1)\n",
      "[#1] INFO:Minization --  The following expressions will be evaluated in cache-and-track mode: (gauss1)\n",
      "[#1] INFO:Minization --  The following expressions have been identified as constant and will be precalculated and cached: (flat2)\n",
      "[#1] INFO:Minization --  The following expressions will be evaluated in cache-and-track mode: (gauss2)\n",
      " **********\n",
      " **    1 **SET PRINT           1\n",
      " **********\n",
      " **********\n",
      " **    2 **SET NOGRAD\n",
      " **********\n",
      " PARAMETER DEFINITIONS:\n",
      "    NO.   NAME         VALUE      STEP SIZE      LIMITS\n",
      "     1 mean1        5.00000e+01  1.00000e+01    0.00000e+00  1.00000e+02\n",
      "     2 mean2        8.00000e+01  1.00000e+01    0.00000e+00  1.00000e+02\n",
      "     3 nbkg1        1.00000e+02  5.00000e+01    0.00000e+00  1.00000e+03\n",
      "     4 nbkg2        8.00000e+01  4.00000e+01    0.00000e+00  1.00000e+03\n",
      "     5 nsig1        1.20000e+02  3.00000e+01    0.00000e+00  3.00000e+02\n",
      "     6 nsig2        9.00000e+01  4.00000e+01    0.00000e+00  4.00000e+02\n",
      " **********\n",
      " **    3 **SET ERR         0.5\n",
      " **********\n",
      " **********\n",
      " **    4 **SET PRINT           1\n",
      " **********\n",
      " **********\n",
      " **    5 **SET STR           1\n",
      " **********\n",
      " NOW USING STRATEGY  1: TRY TO BALANCE SPEED AGAINST RELIABILITY\n",
      " **********\n",
      " **    6 **MIGRAD        3000           1\n",
      " **********\n",
      " FIRST CALL TO USER FUNCTION AT NEW START POINT, WITH IFLAG=4.\n",
      " START MIGRAD MINIMIZATION.  STRATEGY  1.  CONVERGENCE WHEN EDM .LT. 1.00e-03\n",
      " FCN=199.77 FROM MIGRAD    STATUS=INITIATE       24 CALLS          25 TOTAL\n",
      "                     EDM= unknown      STRATEGY= 1      NO ERROR MATRIX       \n",
      "  EXT PARAMETER               CURRENT GUESS       STEP         FIRST   \n",
      "  NO.   NAME      VALUE            ERROR          SIZE      DERIVATIVE \n",
      "   1  mean1        5.00000e+01   1.00000e+01   2.01358e-01   3.07908e+01\n",
      "   2  mean2        8.00000e+01   1.00000e+01   2.57889e-01   9.66677e+00\n",
      "   3  nbkg1        1.00000e+02   5.00000e+01   1.72186e-01   2.07463e+01\n",
      "   4  nbkg2        8.00000e+01   4.00000e+01   1.52384e-01  -8.44368e+00\n",
      "   5  nsig1        1.20000e+02   3.00000e+01   2.05758e-01   2.55303e+00\n",
      "   6  nsig2        9.00000e+01   4.00000e+01   2.45245e-01  -4.65857e+00\n",
      "                               ERR DEF= 0.5\n",
      " MIGRAD MINIMIZATION HAS CONVERGED.\n",
      " MIGRAD WILL VERIFY CONVERGENCE AND ERROR MATRIX.\n",
      " COVARIANCE MATRIX CALCULATED SUCCESSFULLY\n",
      " FCN=199.349 FROM MIGRAD    STATUS=CONVERGED      92 CALLS          93 TOTAL\n",
      "                     EDM=6.01075e-05    STRATEGY= 1      ERROR MATRIX ACCURATE \n",
      "  EXT PARAMETER                                   STEP         FIRST   \n",
      "  NO.   NAME      VALUE            ERROR          SIZE      DERIVATIVE \n",
      "   1  mean1        4.98783e+01   4.26590e-01   8.34391e-05  -6.57258e-01\n",
      "   2  mean2        7.98952e+01   6.49972e-01   1.58369e-04  -2.57944e-01\n",
      "   3  nbkg1        9.18179e+01   1.06581e+01   3.55527e-04   5.08825e-02\n",
      "   4  nbkg2        8.25577e+01   1.03903e+01   3.59387e-04  -2.86339e-02\n",
      "   5  nsig1        1.19174e+02   1.18598e+01   7.72527e-04  -2.99954e-02\n",
      "   6  nsig2        9.24320e+01   1.08502e+01   6.13208e-04  -3.16233e-03\n",
      "                               ERR DEF= 0.5\n",
      " EXTERNAL ERROR MATRIX.    NDIM=  25    NPAR=  6    ERR DEF=0.5\n",
      "  1.820e-01  0.000e+00  9.170e-02  0.000e+00 -9.167e-02  0.000e+00 \n",
      "  0.000e+00  4.225e-01  0.000e+00 -1.575e-02  0.000e+00  1.575e-02 \n",
      "  9.170e-02  0.000e+00  1.136e+02  0.000e+00 -2.180e+01  0.000e+00 \n",
      "  0.000e+00 -1.575e-02  0.000e+00  1.080e+02  0.000e+00 -2.545e+01 \n",
      " -9.167e-02  0.000e+00 -2.180e+01  0.000e+00  1.410e+02  0.000e+00 \n",
      "  0.000e+00  1.575e-02  0.000e+00 -2.545e+01  0.000e+00  1.179e+02 \n",
      " PARAMETER  CORRELATION COEFFICIENTS  \n",
      "       NO.  GLOBAL      1      2      3      4      5      6\n",
      "        1  0.02504   1.000  0.000  0.020  0.000 -0.018  0.000\n",
      "        2  0.00292   0.000  1.000  0.000 -0.002  0.000  0.002\n",
      "        3  0.17311   0.020  0.000  1.000  0.000 -0.172  0.000\n",
      "        4  0.22552   0.000 -0.002  0.000  1.000  0.000 -0.226\n",
      "        5  0.17289  -0.018  0.000 -0.172  0.000  1.000  0.000\n",
      "        6  0.22552   0.000  0.002  0.000 -0.226  0.000  1.000\n",
      " **********\n",
      " **    7 **SET ERR         0.5\n",
      " **********\n",
      " **********\n",
      " **    8 **SET PRINT           1\n",
      " **********\n",
      " **********\n",
      " **    9 **HESSE        3000\n",
      " **********\n",
      " COVARIANCE MATRIX CALCULATED SUCCESSFULLY\n",
      " FCN=199.349 FROM HESSE     STATUS=OK             40 CALLS         133 TOTAL\n",
      "                     EDM=6.01118e-05    STRATEGY= 1      ERROR MATRIX ACCURATE \n",
      "  EXT PARAMETER                                INTERNAL      INTERNAL  \n",
      "  NO.   NAME      VALUE            ERROR       STEP SIZE       VALUE   \n",
      "   1  mean1        4.98783e+01   4.26588e-01   1.66878e-05  -2.43458e-03\n",
      "   2  mean2        7.98952e+01   6.49972e-01   3.16737e-05   6.40885e-01\n",
      "   3  nbkg1        9.18179e+01   1.06583e+01   7.11055e-05  -9.55088e-01\n",
      "   4  nbkg2        8.25577e+01   1.03906e+01   7.18775e-05  -9.87923e-01\n",
      "   5  nsig1        1.19174e+02   1.18599e+01   1.54505e-04  -2.06982e-01\n",
      "   6  nsig2        9.24320e+01   1.08505e+01   1.22642e-04  -5.67873e-01\n",
      "                               ERR DEF= 0.5\n",
      " EXTERNAL ERROR MATRIX.    NDIM=  25    NPAR=  6    ERR DEF=0.5\n",
      "  1.820e-01  0.000e+00  9.119e-02  0.000e+00 -9.117e-02  0.000e+00 \n",
      "  0.000e+00  4.225e-01  0.000e+00 -1.684e-02  0.000e+00  1.684e-02 \n",
      "  9.119e-02  0.000e+00  1.137e+02  0.000e+00 -2.182e+01  0.000e+00 \n",
      "  0.000e+00 -1.684e-02  0.000e+00  1.080e+02  0.000e+00 -2.546e+01 \n",
      " -9.117e-02  0.000e+00 -2.182e+01  0.000e+00  1.410e+02  0.000e+00 \n",
      "  0.000e+00  1.684e-02  0.000e+00 -2.546e+01  0.000e+00  1.179e+02 \n",
      " PARAMETER  CORRELATION COEFFICIENTS  \n",
      "       NO.  GLOBAL      1      2      3      4      5      6\n",
      "        1  0.02490   1.000  0.000  0.020  0.000 -0.018  0.000\n",
      "        2  0.00312   0.000  1.000  0.000 -0.002  0.000  0.002\n",
      "        3  0.17319   0.020  0.000  1.000  0.000 -0.172  0.000\n",
      "        4  0.22564   0.000 -0.002  0.000  1.000  0.000 -0.226\n",
      "        5  0.17297  -0.018  0.000 -0.172  0.000  1.000  0.000\n",
      "        6  0.22564   0.000  0.002  0.000 -0.226  0.000  1.000\n",
      "[#1] INFO:Minization -- RooMinimizer::optimizeConst: deactivating const optimization\n"
     ]
    }
   ],
   "source": [
    "pdf->fitTo(*data);"
   ]
  },
  {
   "cell_type": "markdown",
   "metadata": {},
   "source": [
    "--- plot toy data and composite pdf overlaid ---"
   ]
  },
  {
   "cell_type": "code",
   "execution_count": 7,
   "metadata": {
    "collapsed": false
   },
   "outputs": [
    {
     "name": "stdout",
     "output_type": "stream",
     "text": [
      "[#1] INFO:Plotting -- RooSimultaneous::plotOn(HLFavtoryCombinationexample_sigbkg) plot on x represents a slice in the index category (HLFavtoryCombinationexample_category)\n",
      "[#1] INFO:Plotting -- RooAbsReal::plotOn(sb_model1) slice variable HLFavtoryCombinationexample_category was not projected anyway\n",
      "[#1] INFO:Plotting -- RooSimultaneous::plotOn(HLFavtoryCombinationexample_sigbkg) plot on x represents a slice in the index category (HLFavtoryCombinationexample_category)\n",
      "[#1] INFO:Plotting -- RooAbsReal::plotOn(sb_model2) slice variable HLFavtoryCombinationexample_category was not projected anyway\n"
     ]
    },
    {
     "name": "stderr",
     "output_type": "stream",
     "text": [
      "Info in <TCanvas::MakeDefCanvas>:  created default TCanvas with name c1\n"
     ]
    }
   ],
   "source": [
    "auto xframe = x->frame();\n",
    "\n",
    "data->plotOn(xframe);\n",
    "thecat->setIndex(0);\n",
    "pdf->plotOn(xframe, Slice(*thecat), ProjWData(*thecat, *data));\n",
    "\n",
    "thecat->setIndex(1);\n",
    "pdf->plotOn(xframe, Slice(*thecat), ProjWData(*thecat, *data));\n",
    "\n",
    "gROOT->SetStyle(\"Plain\");\n",
    "xframe->Draw();"
   ]
  },
  {
   "cell_type": "markdown",
   "metadata": {},
   "source": [
    "Draw all canvases "
   ]
  },
  {
   "cell_type": "code",
   "execution_count": 8,
   "metadata": {
    "collapsed": false
   },
   "outputs": [
    {
     "data": {
      "image/png": "[encoded data removed]",
      "text/plain": [
       "<IPython.core.display.Image object>"
      ]
     },
     "metadata": {},
     "output_type": "display_data"
    }
   ],
   "source": [
    "gROOT->GetListOfCanvases()->Draw()"
   ]
  }
 ],
 "metadata": {
  "kernelspec": {
   "display_name": "ROOT C++",
   "language": "c++",
   "name": "root"
  },
  "language_info": {
   "codemirror_mode": "text/x-c++src",
   "file_extension": ".C",
   "mimetype": " text/x-c++src",
   "name": "c++"
  }
 },
 "nbformat": 4,
 "nbformat_minor": 2
}
