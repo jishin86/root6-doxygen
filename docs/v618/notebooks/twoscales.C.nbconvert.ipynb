{
 "cells": [
  {
   "cell_type": "markdown",
   "metadata": {},
   "source": [
    "# Twoscales\n",
    "Example of macro illustrating how to superimpose two histograms\n",
    "with different scales in the \"same\" pad.\n",
    "\n",
    "\n",
    "\n",
    "\n",
    "**Author:** Rene Brun  \n",
    "<i><small>This notebook tutorial was automatically generated with <a href= \"https://github.com/root-project/root/blob/master/documentation/doxygen/converttonotebook.py\">ROOTBOOK-izer</a> from the macro found in the ROOT repository  on Thursday, August 29, 2019 at 02:00 AM.</small></i>"
   ]
  },
  {
   "cell_type": "code",
   "execution_count": 1,
   "metadata": {
    "collapsed": false
   },
   "outputs": [],
   "source": [
    "%%cpp -d\n",
    "#include \"TCanvas.h\"\n",
    "#include \"TStyle.h\"\n",
    "#include \"TH1.h\"\n",
    "#include \"TGaxis.h\"\n",
    "#include \"TRandom.h\""
   ]
  },
  {
   "cell_type": "code",
   "execution_count": 2,
   "metadata": {
    "collapsed": false
   },
   "outputs": [],
   "source": [
    "TCanvas *c1 = new TCanvas(\"c1\",\"hists with different scales\",600,400);"
   ]
  },
  {
   "cell_type": "markdown",
   "metadata": {},
   "source": [
    "Create/fill draw h1"
   ]
  },
  {
   "cell_type": "code",
   "execution_count": 3,
   "metadata": {
    "collapsed": false
   },
   "outputs": [],
   "source": [
    "gStyle->SetOptStat(kFALSE);\n",
    "TH1F *h1 = new TH1F(\"h1\",\"my histogram\",100,-3,3);\n",
    "Int_t i;\n",
    "for (i=0;i<10000;i++) h1->Fill(gRandom->Gaus(0,1));\n",
    "h1->Draw();\n",
    "c1->Update();"
   ]
  },
  {
   "cell_type": "markdown",
   "metadata": {},
   "source": [
    "Create hint1 filled with the bins integral of h1"
   ]
  },
  {
   "cell_type": "code",
   "execution_count": 4,
   "metadata": {
    "collapsed": false
   },
   "outputs": [],
   "source": [
    "TH1F *hint1 = new TH1F(\"hint1\",\"h1 bins integral\",100,-3,3);\n",
    "Float_t sum = 0;\n",
    "for (i=1;i<=100;i++) {\n",
    "   sum += h1->GetBinContent(i);\n",
    "   hint1->SetBinContent(i,sum);\n",
    "}"
   ]
  },
  {
   "cell_type": "markdown",
   "metadata": {},
   "source": [
    "Scale hint1 to the pad coordinates"
   ]
  },
  {
   "cell_type": "code",
   "execution_count": 5,
   "metadata": {
    "collapsed": false
   },
   "outputs": [],
   "source": [
    "Float_t rightmax = 1.1*hint1->GetMaximum();\n",
    "Float_t scale = gPad->GetUymax()/rightmax;\n",
    "hint1->SetLineColor(kRed);\n",
    "hint1->Scale(scale);\n",
    "hint1->Draw(\"same\");"
   ]
  },
  {
   "cell_type": "markdown",
   "metadata": {},
   "source": [
    "Draw an axis on the right side"
   ]
  },
  {
   "cell_type": "code",
   "execution_count": 6,
   "metadata": {
    "collapsed": false
   },
   "outputs": [],
   "source": [
    "TGaxis *axis = new TGaxis(gPad->GetUxmax(),gPad->GetUymin(),\n",
    "      gPad->GetUxmax(), gPad->GetUymax(),0,rightmax,510,\"+L\");\n",
    "axis->SetLineColor(kRed);\n",
    "axis->SetLabelColor(kRed);\n",
    "axis->Draw();"
   ]
  },
  {
   "cell_type": "markdown",
   "metadata": {},
   "source": [
    "Draw all canvases "
   ]
  },
  {
   "cell_type": "code",
   "execution_count": 7,
   "metadata": {
    "collapsed": false
   },
   "outputs": [
    {
     "data": {
      "image/png": "[encoded data removed]",
      "text/plain": [
       "<IPython.core.display.Image object>"
      ]
     },
     "metadata": {},
     "output_type": "display_data"
    }
   ],
   "source": [
    "gROOT->GetListOfCanvases()->Draw()"
   ]
  }
 ],
 "metadata": {
  "kernelspec": {
   "display_name": "ROOT C++",
   "language": "c++",
   "name": "root"
  },
  "language_info": {
   "codemirror_mode": "text/x-c++src",
   "file_extension": ".C",
   "mimetype": " text/x-c++src",
   "name": "c++"
  }
 },
 "nbformat": 4,
 "nbformat_minor": 2
}
