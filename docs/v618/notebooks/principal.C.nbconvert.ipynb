{
 "cells": [
  {
   "cell_type": "markdown",
   "metadata": {},
   "source": [
    "# Principal\n",
    "Principal Components Analysis (PCA) example\n",
    "\n",
    "Example of using TPrincipal as a stand alone class.\n",
    "\n",
    "We create n-dimensional data points, where c = trunc(n / 5) + 1\n",
    "are  correlated with the rest n - c randomly distributed variables.\n",
    "\n",
    "\n",
    "\n",
    "\n",
    "**Author:**  Rene Brun, Christian Holm Christensen  \n",
    "<i><small>This notebook tutorial was automatically generated with <a href= \"https://github.com/root-project/root/blob/master/documentation/doxygen/converttonotebook.py\">ROOTBOOK-izer</a> from the macro found in the ROOT repository  on Thursday, August 29, 2019 at 02:12 AM.</small></i>"
   ]
  },
  {
   "cell_type": "code",
   "execution_count": 1,
   "metadata": {
    "collapsed": false
   },
   "outputs": [],
   "source": [
    "%%cpp -d\n",
    "#include \"TPrincipal.h\""
   ]
  },
  {
   "cell_type": "markdown",
   "metadata": {},
   "source": [
    " Arguments are defined. "
   ]
  },
  {
   "cell_type": "code",
   "execution_count": 2,
   "metadata": {
    "collapsed": false
   },
   "outputs": [],
   "source": [
    "Int_t n=10;\n",
    "Int_t m=10000;"
   ]
  },
  {
   "cell_type": "code",
   "execution_count": 3,
   "metadata": {
    "collapsed": false
   },
   "outputs": [
    {
     "name": "stdout",
     "output_type": "stream",
     "text": [
      "*************************************************\n",
      "*         Principal Component Analysis          *\n",
      "*                                               *\n",
      "*  Number of variables:             10          *\n",
      "*  Number of data points:            10000      *\n",
      "*  Number of dependent variables:    3          *\n",
      "*                                               *\n",
      "*************************************************\n"
     ]
    }
   ],
   "source": [
    "Int_t c = n / 5 + 1;\n",
    "\n",
    "cout << \"*************************************************\" << endl;\n",
    "cout << \"*         Principal Component Analysis          *\" << endl;\n",
    "cout << \"*                                               *\" << endl;\n",
    "cout << \"*  Number of variables:           \" << setw(4) << n\n",
    "    << \"          *\" << endl;\n",
    "cout << \"*  Number of data points:         \" << setw(8) << m\n",
    "    << \"      *\" << endl;\n",
    "cout << \"*  Number of dependent variables: \" << setw(4) << c\n",
    "    << \"          *\" << endl;\n",
    "cout << \"*                                               *\" << endl;\n",
    "cout << \"*************************************************\" << endl;"
   ]
  },
  {
   "cell_type": "markdown",
   "metadata": {},
   "source": [
    "Initilase the tprincipal object. use the empty string for the\n",
    " final argument, if you don't wan't the covariance\n",
    " matrix. Normalising the covariance matrix is a good idea if your\n",
    " variables have different orders of magnitude."
   ]
  },
  {
   "cell_type": "code",
   "execution_count": 4,
   "metadata": {
    "collapsed": false
   },
   "outputs": [],
   "source": [
    "TPrincipal* principal = new TPrincipal(n,\"ND\");"
   ]
  },
  {
   "cell_type": "markdown",
   "metadata": {},
   "source": [
    "Use a pseudo-random number generator"
   ]
  },
  {
   "cell_type": "code",
   "execution_count": 5,
   "metadata": {
    "collapsed": false
   },
   "outputs": [],
   "source": [
    "TRandom* randumNum = new TRandom;"
   ]
  },
  {
   "cell_type": "markdown",
   "metadata": {},
   "source": [
    "Make the m data-points\n",
    " Make a variable to hold our data\n",
    " Allocate memory for the data point"
   ]
  },
  {
   "cell_type": "code",
   "execution_count": 6,
   "metadata": {
    "collapsed": false
   },
   "outputs": [],
   "source": [
    "Double_t* data = new Double_t[n];\n",
    "for (Int_t i = 0; i < m; i++) {\n",
    "\n",
    "   // First we create the un-correlated, random variables, according\n",
    "   // to one of three distributions\n",
    "   for (Int_t j = 0; j < n - c; j++) {\n",
    "      if (j % 3 == 0)      data[j] = randumNum->Gaus(5,1);\n",
    "      else if (j % 3 == 1) data[j] = randumNum->Poisson(8);\n",
    "      else                 data[j] = randumNum->Exp(2);\n",
    "   }\n",
    "\n",
    "   // Then we create the correlated variables\n",
    "   for (Int_t j = 0 ; j < c; j++) {\n",
    "      data[n - c + j] = 0;\n",
    "      for (Int_t k = 0; k < n - c - j; k++) data[n - c + j] += data[k];\n",
    "   }\n",
    "\n",
    "   // Finally we're ready to add this datapoint to the PCA\n",
    "   principal->AddRow(data);\n",
    "}"
   ]
  },
  {
   "cell_type": "markdown",
   "metadata": {},
   "source": [
    "We delete the data after use, since tprincipal got it by now."
   ]
  },
  {
   "cell_type": "code",
   "execution_count": 7,
   "metadata": {
    "collapsed": false
   },
   "outputs": [],
   "source": [
    "delete [] data;"
   ]
  },
  {
   "cell_type": "markdown",
   "metadata": {},
   "source": [
    "Do the actual analysis"
   ]
  },
  {
   "cell_type": "code",
   "execution_count": 8,
   "metadata": {
    "collapsed": false
   },
   "outputs": [],
   "source": [
    "principal->MakePrincipals();"
   ]
  },
  {
   "cell_type": "markdown",
   "metadata": {},
   "source": [
    "Print out the result on"
   ]
  },
  {
   "cell_type": "code",
   "execution_count": 9,
   "metadata": {
    "collapsed": false
   },
   "outputs": [
    {
     "name": "stdout",
     "output_type": "stream",
     "text": [
      " Variable #  | Mean Value |   Sigma    | Eigenvalue\n",
      "-------------+------------+------------+------------\n",
      "           0 |      5.008 |      1.005 |     0.3851 \n",
      "           1 |      7.998 |      2.861 |     0.1107 \n",
      "           2 |      1.967 |      1.956 |     0.1036 \n",
      "           3 |      5.016 |      1.005 |     0.1015 \n",
      "           4 |      8.009 |      2.839 |     0.1008 \n",
      "           5 |      2.013 |      1.973 |    0.09962 \n",
      "           6 |      4.992 |      1.014 |    0.09864 \n",
      "           7 |         35 |      5.156 |  5.979e-16 \n",
      "           8 |      30.01 |      5.049 |  2.525e-16 \n",
      "           9 |         28 |      4.649 |  5.658e-16 \n",
      "\n"
     ]
    }
   ],
   "source": [
    "principal->Print();"
   ]
  },
  {
   "cell_type": "markdown",
   "metadata": {},
   "source": [
    "Test the pca"
   ]
  },
  {
   "cell_type": "code",
   "execution_count": 10,
   "metadata": {
    "collapsed": false
   },
   "outputs": [
    {
     "name": "stderr",
     "output_type": "stream",
     "text": [
      "Info in <TCanvas::MakeDefCanvas>:  created default TCanvas with name c1\n"
     ]
    }
   ],
   "source": [
    "principal->Test();"
   ]
  },
  {
   "cell_type": "markdown",
   "metadata": {},
   "source": [
    "Make some histograms of the orginal, principal, residue, etc data"
   ]
  },
  {
   "cell_type": "code",
   "execution_count": 11,
   "metadata": {
    "collapsed": false
   },
   "outputs": [],
   "source": [
    "principal->MakeHistograms();"
   ]
  },
  {
   "cell_type": "markdown",
   "metadata": {},
   "source": [
    "Make two functions to map between feature and pattern space"
   ]
  },
  {
   "cell_type": "code",
   "execution_count": 12,
   "metadata": {
    "collapsed": false
   },
   "outputs": [
    {
     "name": "stdout",
     "output_type": "stream",
     "text": [
      "Writing on file \"pca.C\" ... done\n"
     ]
    }
   ],
   "source": [
    "principal->MakeCode();"
   ]
  },
  {
   "cell_type": "markdown",
   "metadata": {},
   "source": [
    "Start a browser, so that we may browse the histograms generated\n",
    " above"
   ]
  },
  {
   "cell_type": "code",
   "execution_count": 13,
   "metadata": {
    "collapsed": false
   },
   "outputs": [],
   "source": [
    "TBrowser* b = new TBrowser(\"principalBrowser\", principal);"
   ]
  },
  {
   "cell_type": "markdown",
   "metadata": {},
   "source": [
    "Draw all canvases "
   ]
  },
  {
   "cell_type": "code",
   "execution_count": 14,
   "metadata": {
    "collapsed": false
   },
   "outputs": [
    {
     "data": {
      "image/png": "[encoded data removed]",
      "text/plain": [
       "<IPython.core.display.Image object>"
      ]
     },
     "metadata": {},
     "output_type": "display_data"
    }
   ],
   "source": [
    "gROOT->GetListOfCanvases()->Draw()"
   ]
  }
 ],
 "metadata": {
  "kernelspec": {
   "display_name": "ROOT C++",
   "language": "c++",
   "name": "root"
  },
  "language_info": {
   "codemirror_mode": "text/x-c++src",
   "file_extension": ".C",
   "mimetype": " text/x-c++src",
   "name": "c++"
  }
 },
 "nbformat": 4,
 "nbformat_minor": 2
}
