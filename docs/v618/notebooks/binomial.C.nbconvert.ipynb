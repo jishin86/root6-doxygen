{
 "cells": [
  {
   "cell_type": "markdown",
   "metadata": {},
   "source": [
    "# Binomial\n",
    "tutorial illustrating the use of TMath::Binomial\n",
    "can be run with:\n",
    "\n",
    "```cpp\n",
    "root > .x binomial.C\n",
    "root > .x binomial.C+ with ACLIC\n",
    "```\n",
    "\n",
    "\n",
    "\n",
    "\n",
    "**Author:** Federico Carminati  \n",
    "<i><small>This notebook tutorial was automatically generated with <a href= \"https://github.com/root-project/root/blob/master/documentation/doxygen/converttonotebook.py\">ROOTBOOK-izer</a> from the macro found in the ROOT repository  on Thursday, August 29, 2019 at 02:05 AM.</small></i>"
   ]
  },
  {
   "cell_type": "code",
   "execution_count": 1,
   "metadata": {
    "collapsed": false
   },
   "outputs": [],
   "source": [
    "%%cpp -d\n",
    "#include <TMath.h>\n",
    "#include <TRandom.h>"
   ]
  },
  {
   "cell_type": "markdown",
   "metadata": {},
   "source": [
    " A helper function is created: "
   ]
  },
  {
   "cell_type": "code",
   "execution_count": 2,
   "metadata": {
    "collapsed": false
   },
   "outputs": [],
   "source": [
    "%%cpp -d\n",
    "void binomialSimple() {\n",
    "  //\n",
    "  // Simple test for the binomial distribution\n",
    "  //\n",
    "  printf(\"\\nTMath::Binomial simple test\\n\");\n",
    "  printf(\"Build the Tartaglia triangle\\n\");\n",
    "  printf(\"============================\\n\");\n",
    "  const Int_t max=13;\n",
    "  Int_t j;\n",
    "  for(Int_t i=0;i<max;i++) {\n",
    "    printf(\"n=%2d\",i);\n",
    "    for(j=0;j<(max-i);j++) printf(\"  \");\n",
    "    for(j=0;j<i+1;j++) printf(\"%4d\",TMath::Nint(TMath::Binomial(i,j)));\n",
    "    printf(\"\\n\");\n",
    "  }\n",
    "}"
   ]
  },
  {
   "cell_type": "markdown",
   "metadata": {},
   "source": [
    " A helper function is created: "
   ]
  },
  {
   "cell_type": "code",
   "execution_count": 3,
   "metadata": {
    "collapsed": false
   },
   "outputs": [],
   "source": [
    "%%cpp -d\n",
    "void binomialFancy() {\n",
    "  Double_t x;\n",
    "  Double_t y;\n",
    "  Double_t res1;\n",
    "  Double_t res2;\n",
    "  Double_t err;\n",
    "  Double_t serr=0;\n",
    "  const Int_t nmax=10000;\n",
    "  printf(\"\\nTMath::Binomial fancy test\\n\");\n",
    "  printf(\"Verify Newton formula for (x+y)^n\\n\");\n",
    "  printf(\"x,y in [-2,2] and n from 0 to 9  \\n\");\n",
    "  printf(\"=================================\\n\");\n",
    "  TRandom r;\n",
    "  for(Int_t i=0; i<nmax; i++) {\n",
    "    do {\n",
    "        x=2*(1-2*r.Rndm());\n",
    "        y=2*(1-2*r.Rndm());\n",
    "    } while (TMath::Abs(x+y)<0.75); //Avoid large cancellations\n",
    "    for(Int_t j=0; j<10; j++) {\n",
    "       res1=TMath::Power(x+y,j);\n",
    "       res2=0;\n",
    "       for(Int_t k=0; k<=j; k++)\n",
    "          res2+=TMath::Power(x,k)*TMath::Power(y,j-k)*TMath::Binomial(j,k);\n",
    "       if((err=TMath::Abs(res1-res2)/TMath::Abs(res1))>1e-10)\n",
    "          printf(\"res1=%e res2=%e x=%e y=%e err=%e j=%d\\n\",res1,res2,x,y,err,j);\n",
    "       serr +=err;\n",
    "     }\n",
    "  }\n",
    "  printf(\"Average Error = %e\\n\",serr/nmax);\n",
    "}"
   ]
  },
  {
   "cell_type": "code",
   "execution_count": 4,
   "metadata": {
    "collapsed": false
   },
   "outputs": [
    {
     "name": "stdout",
     "output_type": "stream",
     "text": [
      "\n",
      "TMath::Binomial simple test\n",
      "Build the Tartaglia triangle\n",
      "============================\n",
      "n= 0                             1\n",
      "n= 1                           1   1\n",
      "n= 2                         1   2   1\n",
      "n= 3                       1   3   3   1\n",
      "n= 4                     1   4   6   4   1\n",
      "n= 5                   1   5  10  10   5   1\n",
      "n= 6                 1   6  15  20  15   6   1\n",
      "n= 7               1   7  21  35  35  21   7   1\n",
      "n= 8             1   8  28  56  70  56  28   8   1\n",
      "n= 9           1   9  36  84 126 126  84  36   9   1\n",
      "n=10         1  10  45 120 210 252 210 120  45  10   1\n",
      "n=11       1  11  55 165 330 462 462 330 165  55  11   1\n",
      "n=12     1  12  66 220 495 792 924 792 495 220  66  12   1\n",
      "\n",
      "TMath::Binomial fancy test\n",
      "Verify Newton formula for (x+y)^n\n",
      "x,y in [-2,2] and n from 0 to 9  \n",
      "=================================\n",
      "Average Error = 1.064988e-13\n"
     ]
    }
   ],
   "source": [
    "binomialSimple();\n",
    "binomialFancy();"
   ]
  }
 ],
 "metadata": {
  "kernelspec": {
   "display_name": "ROOT C++",
   "language": "c++",
   "name": "root"
  },
  "language_info": {
   "codemirror_mode": "text/x-c++src",
   "file_extension": ".C",
   "mimetype": " text/x-c++src",
   "name": "c++"
  }
 },
 "nbformat": 4,
 "nbformat_minor": 2
}
