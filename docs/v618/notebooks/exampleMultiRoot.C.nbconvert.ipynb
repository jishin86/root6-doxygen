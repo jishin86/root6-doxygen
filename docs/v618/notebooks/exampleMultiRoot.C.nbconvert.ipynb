{
 "cells": [
  {
   "cell_type": "markdown",
   "metadata": {},
   "source": [
    "# Example Multi Root\n",
    "Example of using multiroot finder based on GSL algorithm.\n",
    "Find the root of Rosenbrock system of equations:\n",
    "f1(x,y) = a(1-x)\n",
    "f2(x,y) = b(y-x^2)\n",
    "with:\n",
    "a = 1, b=10\n",
    "\n",
    "The MultiRootFinder is based on GSL and it requires the MathMore library\n",
    "installed\n",
    "\n",
    "Usage:\n",
    "\n",
    "```cpp\n",
    " >.x exampleMultiRoot.C()\n",
    "```\n",
    "\n",
    "or\n",
    "\n",
    "```cpp\n",
    ">.x exampleMultiRoot(algoname,printlevel)\n",
    "```\n",
    "\n",
    "where algoname is for an algorithm not using the derivatives:\n",
    " hybridS (default) , hybrid, dnewton, broyden\n",
    "\n",
    "\n",
    "\n",
    "\n",
    "**Author:** Lorenzo Moneta  \n",
    "<i><small>This notebook tutorial was automatically generated with <a href= \"https://github.com/root-project/root/blob/master/documentation/doxygen/converttonotebook.py\">ROOTBOOK-izer</a> from the macro found in the ROOT repository  on Thursday, August 29, 2019 at 02:06 AM.</small></i>"
   ]
  },
  {
   "cell_type": "code",
   "execution_count": 1,
   "metadata": {
    "collapsed": false
   },
   "outputs": [],
   "source": [
    "%%cpp -d\n",
    "#include \"RConfigure.h\"\n",
    "\n",
    "#ifdef R__HAS_MATHMORE\n",
    "#include \"Math/MultiRootFinder.h\"\n",
    "#else\n",
    "#error libMathMore is not available - cannot run this tutorial\n",
    "#endif\n",
    "#include \"Math/WrappedMultiTF1.h\"\n",
    "#include \"TF2.h\"\n",
    "#include \"TError.h\""
   ]
  },
  {
   "cell_type": "markdown",
   "metadata": {},
   "source": [
    "Example of using multi root finder based on gsl\n",
    " need to use an algorithm not requiring the derivative\n",
    "like hybrids (default), hybrid, dnewton, broyden"
   ]
  },
  {
   "cell_type": "code",
   "execution_count": 2,
   "metadata": {
    "collapsed": false
   },
   "outputs": [],
   "source": [
    "%%cpp -d\n",
    "// This is a workaround to make sure the namespace is used inside functions\n",
    "using namespace ROOT::Math;"
   ]
  },
  {
   "cell_type": "markdown",
   "metadata": {},
   "source": [
    " Arguments are defined. "
   ]
  },
  {
   "cell_type": "code",
   "execution_count": 3,
   "metadata": {
    "collapsed": false
   },
   "outputs": [],
   "source": [
    "const char * algo = 0;\n",
    "int printlevel = 1;"
   ]
  },
  {
   "cell_type": "code",
   "execution_count": 4,
   "metadata": {
    "collapsed": false
   },
   "outputs": [],
   "source": [
    "ROOT::Math::MultiRootFinder r(algo);"
   ]
  },
  {
   "cell_type": "markdown",
   "metadata": {},
   "source": [
    "Defining the function\n",
    " use Rosenbrock functions"
   ]
  },
  {
   "cell_type": "code",
   "execution_count": 5,
   "metadata": {
    "collapsed": false
   },
   "outputs": [],
   "source": [
    "TF2 * f1 = new TF2(\"f1\",\"[0]*(1-x)+[1]*y\");\n",
    "TF2 * f2 = new TF2(\"f2\",\"[0]*(y-x*x)\");\n",
    "f1->SetParameters(1,0);\n",
    "f2->SetParameter(0,10);"
   ]
  },
  {
   "cell_type": "markdown",
   "metadata": {},
   "source": [
    "Wrap the functions"
   ]
  },
  {
   "cell_type": "code",
   "execution_count": 6,
   "metadata": {
    "collapsed": false
   },
   "outputs": [],
   "source": [
    "ROOT::Math::WrappedMultiTF1 g1(*f1,2);\n",
    "ROOT::Math::WrappedMultiTF1 g2(*f2,2);\n",
    "r.AddFunction(g1);\n",
    "r.AddFunction(g2);\n",
    "r.SetPrintLevel(printlevel);"
   ]
  },
  {
   "cell_type": "markdown",
   "metadata": {},
   "source": [
    "Starting point"
   ]
  },
  {
   "cell_type": "code",
   "execution_count": 7,
   "metadata": {
    "collapsed": false
   },
   "outputs": [
    {
     "name": "stdout",
     "output_type": "stream",
     "text": [
      "GSLMultiRootFinder::Solve:hybrids max iterations 100 and  tolerance 1e-06\n",
      "GSL Algorithm used is :  hybrids\n",
      "Number of iterations  =  19\n",
      "Root values     = x[0] =            1   x[1] =            1   \n",
      "Function values = f[0] =            0   f[1] = -6.17162e-11   \n"
     ]
    },
    {
     "name": "stderr",
     "output_type": "stream",
     "text": [
      "Info in <ROOT::Math::GSLMultiRootFinder::Solve>: The iteration converged\n"
     ]
    }
   ],
   "source": [
    "double x0[2]={-1,-1};\n",
    "r.Solve(x0);"
   ]
  }
 ],
 "metadata": {
  "kernelspec": {
   "display_name": "ROOT C++",
   "language": "c++",
   "name": "root"
  },
  "language_info": {
   "codemirror_mode": "text/x-c++src",
   "file_extension": ".C",
   "mimetype": " text/x-c++src",
   "name": "c++"
  }
 },
 "nbformat": 4,
 "nbformat_minor": 2
}
