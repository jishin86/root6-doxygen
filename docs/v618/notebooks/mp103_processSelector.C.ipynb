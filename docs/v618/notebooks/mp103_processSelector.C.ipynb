{
 "cells": [
  {
   "cell_type": "markdown", 
   "metadata": {}, 
   "source": [
    "# Mp 1 0 3_Process Selector\n", 
    "Illustrate the usage of the multiproc TSelector interfaces with the h1 analysis\n", 
    "example.\n", 
    "\n", 
    "\n", 
    "\n", 
    "\n", 
    "**Author:**  Anda Chelba, Gerardo Ganis  \n", 
    "<i><small>This notebook tutorial was automatically generated with <a href= \"https://github.com/root-project/root/blob/master/documentation/doxygen/converttonotebook.py\">ROOTBOOK-izer</a> from the macro found in the ROOT repository  on Thursday, August 29, 2019 at 02:16 AM.</small></i>"
   ]
  }, 
  {
   "cell_type": "code", 
   "execution_count": null, 
   "metadata": {
    "collapsed": false
   }, 
   "outputs": [], 
   "source": [
    "%%cpp -d\n", 
    "#include \"ROOT/RMakeUnique.hxx\"\n", 
    "#include \"TString.h\"\n", 
    "#include \"TROOT.h\"\n", 
    "#include \"TChain.h\"\n", 
    "#include \"TFileCollection.h\"\n", 
    "#include \"TH1F.h\"\n", 
    "#include \"TTreeReader.h\"\n", 
    "#include \"ROOT/TTreeProcessorMP.hxx\"\n", 
    "\n", 
    "const auto file0 = \"http://root.cern.ch/files/h1/dstarmb.root\";\n", 
    "const std::vector<std::string> files = {file0,\n", 
    "                                        \"http://root.cern.ch/files/h1/dstarp1a.root\",\n", 
    "                                        \"http://root.cern.ch/files/h1/dstarp1b.root\",\n", 
    "                                        \"http://root.cern.ch/files/h1/dstarp2.root\"};"
   ]
  }, 
  {
   "cell_type": "markdown", 
   "metadata": {}, 
   "source": [
    "Macosx may generate connection to windowserver errors"
   ]
  }, 
  {
   "cell_type": "code", 
   "execution_count": null, 
   "metadata": {
    "collapsed": false
   }, 
   "outputs": [], 
   "source": [
    "gROOT->SetBatch(kTRUE);\n", 
    "\n", 
    "TString selectorPath = gROOT->GetTutorialDir();\n", 
    "selectorPath += \"/tree/h1analysis.C+\";\n", 
    "std::cout << \"selector used is: \" << selectorPath << \"\\n\";\n", 
    "auto sel = TSelector::GetSelector(selectorPath);"
   ]
  }, 
  {
   "cell_type": "markdown", 
   "metadata": {}, 
   "source": [
    "The following code generates a crash when davix is used for http\n", 
    " Davix does not seem fork-safe; the problem has been reported to the\n", 
    " Davix developers. For the time being we disable this part.\n", 
    " To repoduce the problem, uncomment the next line.\n", 
    "\n", 
    " #define __reproduce_davix"
   ]
  }, 
  {
   "cell_type": "code", 
   "execution_count": null, 
   "metadata": {
    "collapsed": false
   }, 
   "outputs": [], 
   "source": [
    "#if defined(__reproduce_davix)\n", 
    "auto fp = std::make_unique<TTree>(TFile::Open(file0));\n", 
    "auto tree = fp->Get<TTree>(\"h42\");\n", 
    "#endif\n", 
    "\n", 
    "ROOT::TTreeProcessorMP pool(3);\n", 
    "\n", 
    "TList *out = nullptr;\n", 
    "#if defined(__reproduce_davix)"
   ]
  }, 
  {
   "cell_type": "markdown", 
   "metadata": {}, 
   "source": [
    "Ttreeprocessormp::process with a single tree"
   ]
  }, 
  {
   "cell_type": "code", 
   "execution_count": null, 
   "metadata": {
    "collapsed": false
   }, 
   "outputs": [], 
   "source": [
    "out = pool.Process(*tree, *sel);\n", 
    "sel->GetOutputList()->Delete();\n", 
    "#endif"
   ]
  }, 
  {
   "cell_type": "markdown", 
   "metadata": {}, 
   "source": [
    "Ttreeprocessormp::process with single file name and tree name\n", 
    " Note: we have less files than workers here"
   ]
  }, 
  {
   "cell_type": "code", 
   "execution_count": null, 
   "metadata": {
    "collapsed": false
   }, 
   "outputs": [], 
   "source": [
    "out = pool.Process(file0, *sel, \"h42\");\n", 
    "sel->GetOutputList()->Delete();"
   ]
  }, 
  {
   "cell_type": "markdown", 
   "metadata": {}, 
   "source": [
    "Prepare datasets: vector of files, tfilecollection"
   ]
  }, 
  {
   "cell_type": "code", 
   "execution_count": null, 
   "metadata": {
    "collapsed": false
   }, 
   "outputs": [], 
   "source": [
    "TChain ch;\n", 
    "TFileCollection fc;\n", 
    "for (auto &&file : files) {\n", 
    "   fc.Add(new TFileInfo(file.c_str()));\n", 
    "   ch.Add(file.c_str());\n", 
    "}"
   ]
  }, 
  {
   "cell_type": "markdown", 
   "metadata": {}, 
   "source": [
    "Ttreeprocessormp::process with vector of files and tree name\n", 
    " Note: we have more files than workers here (different behaviour)"
   ]
  }, 
  {
   "cell_type": "code", 
   "execution_count": null, 
   "metadata": {
    "collapsed": false
   }, 
   "outputs": [], 
   "source": [
    "out = pool.Process(files, *sel, \"h42\");\n", 
    "sel->GetOutputList()->Delete();"
   ]
  }, 
  {
   "cell_type": "markdown", 
   "metadata": {}, 
   "source": [
    "Ttreeprocessormp::process with tfilecollection, no tree name"
   ]
  }, 
  {
   "cell_type": "code", 
   "execution_count": null, 
   "metadata": {
    "collapsed": false
   }, 
   "outputs": [], 
   "source": [
    "out = pool.Process(fc, *sel);\n", 
    "sel->GetOutputList()->Delete();"
   ]
  }, 
  {
   "cell_type": "markdown", 
   "metadata": {}, 
   "source": [
    "Ttreeprocessormp::process with tchain, no tree name"
   ]
  }, 
  {
   "cell_type": "code", 
   "execution_count": null, 
   "metadata": {
    "collapsed": false
   }, 
   "outputs": [], 
   "source": [
    "out = pool.Process(ch, *sel);\n", 
    "sel->GetOutputList()->Delete();\n", 
    "\n", 
    "return 0;"
   ]
  }
 ], 
 "metadata": {
  "kernelspec": {
   "display_name": "ROOT C++", 
   "language": "c++", 
   "name": "root"
  }, 
  "language_info": {
   "codemirror_mode": "text/x-c++src", 
   "file_extension": ".C", 
   "mimetype": " text/x-c++src", 
   "name": "c++"
  }
 }, 
 "nbformat": 4, 
 "nbformat_minor": 2
}