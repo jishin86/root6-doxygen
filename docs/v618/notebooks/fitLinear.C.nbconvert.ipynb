{
 "cells": [
  {
   "cell_type": "markdown",
   "metadata": {},
   "source": [
    "# Fit Linear\n",
    "Example of fitting with a linear function, using TLinearFitter\n",
    "This example is for a TGraphErrors, but it can also be used\n",
    "when fitting a histogram, a TGraph2D or a TMultiGraph\n",
    "\n",
    "\n",
    "\n",
    "\n",
    "**Author:** Anna Kreshuk  \n",
    "<i><small>This notebook tutorial was automatically generated with <a href= \"https://github.com/root-project/root/blob/master/documentation/doxygen/converttonotebook.py\">ROOTBOOK-izer</a> from the macro found in the ROOT repository  on Thursday, August 29, 2019 at 01:29 AM.</small></i>"
   ]
  },
  {
   "cell_type": "code",
   "execution_count": 1,
   "metadata": {
    "collapsed": false
   },
   "outputs": [],
   "source": [
    "%%cpp -d\n",
    "#include \"TGraphErrors.h\"\n",
    "#include \"TF1.h\"\n",
    "#include \"TRandom.h\"\n",
    "#include \"TCanvas.h\"\n",
    "#include \"TLegend.h\"\n",
    "#include \"TMath.h\"\n",
    "\n",
    "\n",
    "void makePoints(Int_t n, Double_t *x, Double_t *y, Double_t *e, Int_t p);"
   ]
  },
  {
   "cell_type": "markdown",
   "metadata": {},
   "source": [
    " A helper function is created: "
   ]
  },
  {
   "cell_type": "code",
   "execution_count": 2,
   "metadata": {
    "collapsed": false
   },
   "outputs": [],
   "source": [
    "%%cpp -d\n",
    "void makePoints(Int_t n, Double_t *x, Double_t *y, Double_t *e, Int_t p)\n",
    "{\n",
    "  Int_t i;\n",
    "  TRandom r;\n",
    "\n",
    "  if (p==2) {\n",
    "    for (i=0; i<n; i++) {\n",
    "      x[i] = r.Uniform(-2, 2);\n",
    "      y[i]=TMath::Sin(x[i]) + TMath::Sin(2*x[i]) + r.Gaus()*0.1;\n",
    "      e[i] = 0.1;\n",
    "    }\n",
    "  }\n",
    "  if (p==3) {\n",
    "    for (i=0; i<n; i++) {\n",
    "      x[i] = r.Uniform(-2, 2);\n",
    "      y[i] = -7 + 2*x[i]*x[i] + x[i]*x[i]*x[i]+ r.Gaus()*0.1;\n",
    "      e[i] = 0.1;\n",
    "    }\n",
    "  }\n",
    "  if (p==4) {\n",
    "    for (i=0; i<n; i++) {\n",
    "      x[i] = r.Uniform(-2, 2);\n",
    "      y[i]=-2 + TMath::Exp(-x[i]) + r.Gaus()*0.1;\n",
    "      e[i] = 0.1;\n",
    "    }\n",
    "  }\n",
    "}"
   ]
  },
  {
   "cell_type": "code",
   "execution_count": 3,
   "metadata": {
    "collapsed": false
   },
   "outputs": [],
   "source": [
    "Int_t n = 40;\n",
    "Double_t *x = new Double_t[n];\n",
    "Double_t *y = new Double_t[n];\n",
    "Double_t *e = new Double_t[n];\n",
    "TCanvas *myc = new TCanvas(\"myc\",\n",
    "   \"Fitting 3 TGraphErrors with linear functions\");\n",
    "myc->SetGrid();"
   ]
  },
  {
   "cell_type": "markdown",
   "metadata": {},
   "source": [
    "Generate points along a 3rd degree polynomial:"
   ]
  },
  {
   "cell_type": "code",
   "execution_count": 4,
   "metadata": {
    "collapsed": false
   },
   "outputs": [],
   "source": [
    "makePoints(n, x, y, e, 3);\n",
    "TGraphErrors *gre3 = new TGraphErrors(n, x, y, 0, e);\n",
    "gre3->Draw(\"a*\");"
   ]
  },
  {
   "cell_type": "markdown",
   "metadata": {},
   "source": [
    "Fit the graph with the predefined \"pol3\" function"
   ]
  },
  {
   "cell_type": "code",
   "execution_count": 5,
   "metadata": {
    "collapsed": false
   },
   "outputs": [
    {
     "name": "stdout",
     "output_type": "stream",
     "text": [
      "\n",
      "****************************************\n",
      "Minimizer is Linear\n",
      "Chi2                      =      36.5406\n",
      "NDf                       =           36\n",
      "p0                        =     -7.07142   +/-   0.0233493   \n",
      "p1                        =   -0.0194368   +/-   0.0354128   \n",
      "p2                        =      2.03968   +/-   0.0136149   \n",
      "p3                        =      1.00594   +/-   0.0139068   \n"
     ]
    }
   ],
   "source": [
    "gre3->Fit(\"pol3\");"
   ]
  },
  {
   "cell_type": "markdown",
   "metadata": {},
   "source": [
    "Access the fit resuts"
   ]
  },
  {
   "cell_type": "code",
   "execution_count": 6,
   "metadata": {
    "collapsed": false
   },
   "outputs": [],
   "source": [
    "TF1 *f3 = gre3->GetFunction(\"pol3\");\n",
    "f3->SetLineWidth(1);"
   ]
  },
  {
   "cell_type": "markdown",
   "metadata": {},
   "source": [
    "Generate points along a sin(x)+sin(2x) function"
   ]
  },
  {
   "cell_type": "code",
   "execution_count": 7,
   "metadata": {
    "collapsed": false
   },
   "outputs": [],
   "source": [
    "makePoints(n, x, y, e, 2);\n",
    "TGraphErrors *gre2=new TGraphErrors(n, x, y, 0, e);\n",
    "gre2->Draw(\"*same\");\n",
    "gre2->SetMarkerColor(kBlue);\n",
    "gre2->SetLineColor(kBlue);"
   ]
  },
  {
   "cell_type": "markdown",
   "metadata": {},
   "source": [
    "The fitting function can be predefined and passed to the fit function\n",
    "The \"++\" mean that the linear fitter should be used, and the following\n",
    "formula is equivalent to \"[0]*sin(x) + [1]*sin(2*x)\"\n",
    "A function, defined this way, is in no way different from any other TF1,\n",
    "it can be evaluated, drawn, you can get its parameters, etc.\n",
    "The fit result (parameter values, parameter errors, chisquare, etc) are\n",
    "written into the fitting function."
   ]
  },
  {
   "cell_type": "code",
   "execution_count": 8,
   "metadata": {
    "collapsed": false
   },
   "outputs": [
    {
     "name": "stdout",
     "output_type": "stream",
     "text": [
      "\n",
      "****************************************\n",
      "Minimizer is Linear\n",
      "Chi2                      =      46.7362\n",
      "NDf                       =           38\n",
      "p0                        =       1.0005   +/-   0.0242765   \n",
      "p1                        =     0.985942   +/-   0.0279149   \n"
     ]
    }
   ],
   "source": [
    "TF1 *f2 = new TF1(\"f2\", \"sin(x) ++ sin(2*x)\", -2, 2);\n",
    "gre2->Fit(f2);\n",
    "f2 = gre2->GetFunction(\"f2\");\n",
    "f2->SetLineColor(kBlue);\n",
    "f2->SetLineWidth(1);"
   ]
  },
  {
   "cell_type": "markdown",
   "metadata": {},
   "source": [
    "Generate points along a -2+exp(-x) function"
   ]
  },
  {
   "cell_type": "code",
   "execution_count": 9,
   "metadata": {
    "collapsed": false
   },
   "outputs": [],
   "source": [
    "makePoints(n, x, y, e, 4);\n",
    "TGraphErrors *gre4=new TGraphErrors(n, x, y, 0, e);\n",
    "gre4->Draw(\"*same\");\n",
    "gre4->SetMarkerColor(kRed);\n",
    "gre4->SetLineColor(kRed);"
   ]
  },
  {
   "cell_type": "markdown",
   "metadata": {},
   "source": [
    "If you don't want to define the function, you can just pass the string\n",
    "with the the formula:"
   ]
  },
  {
   "cell_type": "code",
   "execution_count": 10,
   "metadata": {
    "collapsed": false
   },
   "outputs": [
    {
     "name": "stdout",
     "output_type": "stream",
     "text": [
      "\n",
      "****************************************\n",
      "Minimizer is Linear\n",
      "Chi2                      =      43.6161\n",
      "NDf                       =           38\n",
      "p0                        =     -2.04095   +/-   0.0220454   \n",
      "p1                        =      1.01171   +/-   0.00904363  \n"
     ]
    }
   ],
   "source": [
    "gre4->Fit(\"1 ++ exp(-x)\");"
   ]
  },
  {
   "cell_type": "markdown",
   "metadata": {},
   "source": [
    "Access the fit results:"
   ]
  },
  {
   "cell_type": "code",
   "execution_count": 11,
   "metadata": {
    "collapsed": false
   },
   "outputs": [],
   "source": [
    "TF1 *f4 = gre4->GetFunction(\"1 ++ exp(-x)\");\n",
    "f4->SetName(\"f4\");\n",
    "f4->SetLineColor(kRed);\n",
    "f4->SetLineWidth(1);\n",
    "\n",
    "TLegend *leg = new TLegend(0.3, 0.7, 0.65, 0.9);\n",
    "leg->AddEntry(gre3, \" -7 + 2*x*x + x*x*x\", \"p\");\n",
    "leg->AddEntry(gre2, \"sin(x) + sin(2*x)\", \"p\");\n",
    "leg->AddEntry(gre4, \"-2 + exp(-x)\", \"p\");\n",
    "leg->Draw();"
   ]
  },
  {
   "cell_type": "markdown",
   "metadata": {},
   "source": [
    "Draw all canvases "
   ]
  },
  {
   "cell_type": "code",
   "execution_count": 12,
   "metadata": {
    "collapsed": false
   },
   "outputs": [
    {
     "data": {
      "text/html": [
       "\n",
       "<div id=\"root_plot_1\"\n",
       "     style=\"width: 696px; height: 472px\">\n",
       "</div>\n",
       "\n",
       "<script>\n",
       " requirejs.config({\n",
       "     paths: {\n",
       "       'JSRootCore' : 'https://root.cern.ch/js/notebook//scripts/JSRootCore',\n",
       "     }\n",
       "   });\n",
       " require(['JSRootCore'],\n",
       "     function(Core) {\n",
       "       var obj = Core.JSONR_unref({\"_typename\":\"TCanvas\",\"fUniqueID\":0,\"fBits\":53673992,\"fLineColor\":1,\"fLineStyle\":1,\"fLineWidth\":1,\"fFillColor\":0,\"fFillStyle\":1001,\"fLeftMargin\":0.1,\"fRightMargin\":0.1,\"fBottomMargin\":0.1,\"fTopMargin\":0.1,\"fXfile\":2,\"fYfile\":2,\"fAfile\":1,\"fXstat\":0.99,\"fYstat\":0.99,\"fAstat\":2,\"fFrameFillColor\":0,\"fFrameLineColor\":1,\"fFrameFillStyle\":1001,\"fFrameLineStyle\":1,\"fFrameLineWidth\":1,\"fFrameBorderSize\":1,\"fFrameBorderMode\":0,\"fX1\":-2.77126285858752,\"fY1\":-11.410432340173,\"fX2\":2.92413929529789,\"fY2\":12.6155825959753,\"fXtoAbsPixelk\":338.659006376081,\"fXtoPixelk\":338.659006376081,\"fXtoPixel\":122.203837621052,\"fYtoAbsPixelk\":247.837862518023,\"fYtoPixelk\":247.837862518023,\"fYtoPixel\":-19.6453719542916,\"fUtoAbsPixelk\":5e-5,\"fUtoPixelk\":5e-5,\"fUtoPixel\":696,\"fVtoAbsPixelk\":472.00005,\"fVtoPixelk\":472,\"fVtoPixel\":-472,\"fAbsPixeltoXk\":-2.77126285858752,\"fPixeltoXk\":-2.77126285858752,\"fPixeltoX\":0.00818304907167444,\"fAbsPixeltoYk\":12.6155825959753,\"fPixeltoYk\":-11.410432340173,\"fPixeltoY\":-0.0509025740172634,\"fXlowNDC\":0,\"fYlowNDC\":0,\"fXUpNDC\":0,\"fYUpNDC\":0,\"fWNDC\":1,\"fHNDC\":1,\"fAbsXlowNDC\":0,\"fAbsYlowNDC\":0,\"fAbsWNDC\":1,\"fAbsHNDC\":1,\"fUxmin\":-2.20172260925174,\"fUymin\":-9.00783070335196,\"fUxmax\":2.3545990459621,\"fUymax\":10.2129809591543,\"fTheta\":30,\"fPhi\":30,\"fAspectRatio\":0,\"fNumber\":0,\"fTickx\":0,\"fTicky\":0,\"fLogx\":0,\"fLogy\":0,\"fLogz\":0,\"fPadPaint\":0,\"fCrosshair\":0,\"fCrosshairPos\":0,\"fBorderSize\":2,\"fBorderMode\":0,\"fModified\":false,\"fGridx\":true,\"fGridy\":true,\"fAbsCoord\":false,\"fEditable\":true,\"fFixedAspectRatio\":false,\"fPrimitives\":{\"_typename\":\"TList\",\"name\":\"TList\",\"arr\":[{\"_typename\":\"TFrame\",\"fUniqueID\":0,\"fBits\":50331656,\"fLineColor\":1,\"fLineStyle\":1,\"fLineWidth\":1,\"fFillColor\":0,\"fFillStyle\":1001,\"fX1\":-2.20172260925174,\"fY1\":-9.00783070335196,\"fX2\":2.3545990459621,\"fY2\":10.2129809591543,\"fBorderSize\":1,\"fBorderMode\":0},{\"_typename\":\"TGraphErrors\",\"fUniqueID\":0,\"fBits\":50332680,\"fName\":\"Graph\",\"fTitle\":\"Graph\",\"fLineColor\":1,\"fLineStyle\":1,\"fLineWidth\":1,\"fFillColor\":0,\"fFillStyle\":1000,\"fMarkerColor\":1,\"fMarkerStyle\":3,\"fMarkerSize\":1,\"fNpoints\":40,\"fX\":[-1.38279938697815,-1.014453234151,1.10380365327001,0.397531004622582,1.97490557469428,-1.82202913798392,-0.438759250566361,-1.78300842829049,0.0802101586014063,-0.660959998145698,-1.03868371061981,-1.50951649993658,1.11183551326395,1.40572576411069,-0.115209557116029,0.73933764174581,-0.157425967976448,1.73758469335735,0.00619209185242964,-1.78107729740441,0.90807045437396,-0.491640904918311,-1.65706002525985,-1.14472191222012,-1.05650737509131,1.75748074054719,-0.157565716654059,1.33772679418326,-0.639093289151786,-0.493762640282509,0.49067354947329,1.34695488587022,1.68788762576879,0.812868408858781,-0.419089090079067,1.61057211458684,0.990186821669345,-0.775232695043085,0.265199488028887,0.289567159488801],\"fY\":[-5.67794955048574,-6.05188940364241,-3.14598091947769,-6.93031125322623,8.51124665394543,-6.37110711905307,-6.8460731466545,-6.27029105690406,-7.00847646609581,-6.34486767211617,-6.06776720599825,-5.80912772835328,-3.1358378981245,-0.300440752634388,-6.9418519833446,-5.60547025997438,-7.02180136120232,4.3754481439049,-7.30609639814311,-6.22713350199878,-4.50866567233902,-6.47007592487307,-6.1395911997213,-5.82340922393332,-5.93656455627286,4.70460749422527,-6.89735048493263,-0.976654309319767,-6.50493154537386,-6.69577937430239,-6.52530588336532,-1.0406698580339,3.45919849304992,-5.10806714888419,-6.82023233341072,2.42619827942011,-4.06014057178035,-6.34327061794884,-7.03786620752284,-6.92644043264544],\"fFunctions\":{\"_typename\":\"TList\",\"name\":\"TList\",\"arr\":[{\"_typename\":\"TF1\",\"fUniqueID\":0,\"fBits\":50332672,\"fName\":\"pol3\",\"fTitle\":\"pol3\",\"fLineColor\":2,\"fLineStyle\":1,\"fLineWidth\":1,\"fFillColor\":19,\"fFillStyle\":0,\"fMarkerColor\":1,\"fMarkerStyle\":1,\"fMarkerSize\":1,\"fXmin\":-2.20172260925174,\"fXmax\":2.3545990459621,\"fNpar\":4,\"fNdim\":1,\"fNpx\":100,\"fType\":0,\"fNpfits\":40,\"fNDF\":36,\"fChisquare\":36.5406425732111,\"fMinimum\":-1111,\"fMaximum\":-1111,\"fParErrors\":[0.0233492579983886,0.035412754781379,0.0136149339612501,0.0139068349465446],\"fParMin\":[0,0,0,0],\"fParMax\":[0,0,0,0],\"fSave\":[-7.87756059860443,-7.63059040472294,-7.40216821140746,-7.19172310967765,-6.99868419055314,-6.8224805450536,-6.66254126419867,-6.51829543900802,-6.38917216050129,-6.27460051969814,-6.17400960761823,-6.08682851528119,-6.01248633370669,-5.95041215391438,-5.90003506692392,-5.86078416375495,-5.83208853542713,-5.81337727296011,-5.80407946737355,-5.80362420968709,-5.8114405909204,-5.82695770209312,-5.84960463422491,-5.87881047833541,-5.91400432544429,-5.9546152665712,-6.00007239273579,-6.04980479495771,-6.10324156425662,-6.15981179165216,-6.218944568164,-6.28006898481178,-6.34261413261516,-6.40600910259379,-6.46968298576732,-6.53306487315541,-6.59558385577771,-6.65666902465387,-6.71574947080355,-6.7722542852464,-6.82561255900207,-6.87525338309022,-6.92060584853049,-6.96109904634255,-6.99616206754604,-7.02522400316062,-7.04771394420594,-7.06306098170165,-7.07069420666741,-7.07004271012287,-7.06053558308768,-7.0416019165815,-7.01267080162398,-6.97317132923477,-6.92253259043352,-6.86018367623989,-6.78555367767354,-6.6980716857541,-6.59716679150125,-6.48226808593462,-6.35280466007388,-6.20820560493867,-6.04790001154866,-5.87131697092348,-5.6778855740828,-5.46703491204627,-5.23819407583354,-4.99079215646427,-4.72425824495811,-4.4380214323347,-4.13151080961371,-3.80415546781478,-3.45538449795758,-3.08462699106175,-2.69131203814694,-2.27486873023282,-1.83472615833902,-1.37031341348521,-0.881059586691043,-0.366393768976163,0.174254948639772,0.741457475137111,1.33578471949619,1.95780759069738,2.60809699772101,3.28722384954742,3.99575905515698,4.73427352353002,5.50333816364689,6.30352388448794,7.13540159503351,7.99954220426396,8.89651662115963,9.82689575470084,10.791250513868,11.7901518076414,12.8241705450014,13.8938776349284,14.9998439864026,16.1426405084045,17.3228381099145,-2.20172260925174,2.3545990459621],\"fNormalized\":false,\"fNormIntegral\":0,\"fFormula\":{\"_typename\":\"TFormula\",\"fUniqueID\":0,\"fBits\":50398208,\"fName\":\"pol3\",\"fTitle\":\"pol3\",\"fClingParameters\":[-7.0714165587069,-0.0194368366325924,2.03967680732091,1.00594097141964],\"fAllParametersSetted\":true,\"fParams\":[{\"$pair\":\"pair<TString,int,TFormulaParamOrder>\",\"first\":\"p0\",\"second\":0},{\"$pair\":\"pair<TString,int,TFormulaParamOrder>\",\"first\":\"p1\",\"second\":1},{\"$pair\":\"pair<TString,int,TFormulaParamOrder>\",\"first\":\"p2\",\"second\":2},{\"$pair\":\"pair<TString,int,TFormulaParamOrder>\",\"first\":\"p3\",\"second\":3}],\"fFormula\":\"([p0]+[p1]*x+[p2]*pow(x,2)+[p3]*pow(x,3))\",\"fNdim\":1,\"fLinearParts\":[],\"fVectorized\":false},\"fParams\":null,\"fComposition_ptr\":null}],\"opt\":[\"\"]},\"fHistogram\":{\"_typename\":\"TH1F\",\"fUniqueID\":0,\"fBits\":50332168,\"fName\":\"Graph\",\"fTitle\":\"Graph\",\"fLineColor\":602,\"fLineStyle\":1,\"fLineWidth\":1,\"fFillColor\":0,\"fFillStyle\":1001,\"fMarkerColor\":1,\"fMarkerStyle\":1,\"fMarkerSize\":1,\"fNcells\":102,\"fXaxis\":{\"_typename\":\"TAxis\",\"fUniqueID\":0,\"fBits\":50331648,\"fName\":\"xaxis\",\"fTitle\":\"\",\"fNdivisions\":510,\"fAxisColor\":1,\"fLabelColor\":1,\"fLabelFont\":42,\"fLabelOffset\":0.005,\"fLabelSize\":0.035,\"fTickLength\":0.03,\"fTitleOffset\":1,\"fTitleSize\":0.035,\"fTitleColor\":1,\"fTitleFont\":42,\"fNbins\":100,\"fXmin\":-2.20172260925174,\"fXmax\":2.3545990459621,\"fXbins\":[],\"fFirst\":0,\"fLast\":0,\"fBits2\":0,\"fTimeDisplay\":false,\"fTimeFormat\":\"\",\"fLabels\":null,\"fModLabs\":null},\"fYaxis\":{\"_typename\":\"TAxis\",\"fUniqueID\":0,\"fBits\":50331648,\"fName\":\"yaxis\",\"fTitle\":\"\",\"fNdivisions\":510,\"fAxisColor\":1,\"fLabelColor\":1,\"fLabelFont\":42,\"fLabelOffset\":0.005,\"fLabelSize\":0.035,\"fTickLength\":0.03,\"fTitleOffset\":0,\"fTitleSize\":0.035,\"fTitleColor\":1,\"fTitleFont\":42,\"fNbins\":1,\"fXmin\":-9.00783070335196,\"fXmax\":10.2129809591543,\"fXbins\":[],\"fFirst\":0,\"fLast\":0,\"fBits2\":0,\"fTimeDisplay\":false,\"fTimeFormat\":\"\",\"fLabels\":null,\"fModLabs\":null},\"fZaxis\":{\"_typename\":\"TAxis\",\"fUniqueID\":0,\"fBits\":50331648,\"fName\":\"zaxis\",\"fTitle\":\"\",\"fNdivisions\":510,\"fAxisColor\":1,\"fLabelColor\":1,\"fLabelFont\":42,\"fLabelOffset\":0.005,\"fLabelSize\":0.035,\"fTickLength\":0.03,\"fTitleOffset\":1,\"fTitleSize\":0.035,\"fTitleColor\":1,\"fTitleFont\":42,\"fNbins\":1,\"fXmin\":0,\"fXmax\":1,\"fXbins\":[],\"fFirst\":0,\"fLast\":0,\"fBits2\":0,\"fTimeDisplay\":false,\"fTimeFormat\":\"\",\"fLabels\":null,\"fModLabs\":null},\"fBarOffset\":0,\"fBarWidth\":1000,\"fEntries\":0,\"fTsumw\":0,\"fTsumw2\":0,\"fTsumwx\":0,\"fTsumwx2\":0,\"fMaximum\":10.2129809591543,\"fMinimum\":-9.00783070335196,\"fNormFactor\":0,\"fContour\":[],\"fSumw2\":[],\"fOption\":\"\",\"fFunctions\":{\"_typename\":\"TList\",\"name\":\"TList\",\"arr\":[],\"opt\":[]},\"fBufferSize\":0,\"fBuffer\":[],\"fBinStatErrOpt\":0,\"fStatOverflows\":2,\"fArray\":[0,0,0,0,0,0,0,0,0,0,0,0,0,0,0,0,0,0,0,0,0,0,0,0,0,0,0,0,0,0,0,0,0,0,0,0,0,0,0,0,0,0,0,0,0,0,0,0,0,0,0,0,0,0,0,0,0,0,0,0,0,0,0,0,0,0,0,0,0,0,0,0,0,0,0,0,0,0,0,0,0,0,0,0,0,0,0,0,0,0,0,0,0,0,0,0,0,0,0,0,0,0]},\"fMinimum\":-1111,\"fMaximum\":-1111,\"fEX\":[0,0,0,0,0,0,0,0,0,0,0,0,0,0,0,0,0,0,0,0,0,0,0,0,0,0,0,0,0,0,0,0,0,0,0,0,0,0,0,0],\"fEY\":[0.1,0.1,0.1,0.1,0.1,0.1,0.1,0.1,0.1,0.1,0.1,0.1,0.1,0.1,0.1,0.1,0.1,0.1,0.1,0.1,0.1,0.1,0.1,0.1,0.1,0.1,0.1,0.1,0.1,0.1,0.1,0.1,0.1,0.1,0.1,0.1,0.1,0.1,0.1,0.1]},{\"_typename\":\"TGraphErrors\",\"fUniqueID\":0,\"fBits\":50332680,\"fName\":\"Graph\",\"fTitle\":\"Graph\",\"fLineColor\":600,\"fLineStyle\":1,\"fLineWidth\":1,\"fFillColor\":0,\"fFillStyle\":1000,\"fMarkerColor\":600,\"fMarkerStyle\":3,\"fMarkerSize\":1,\"fNpoints\":40,\"fX\":[-1.38279938697815,-1.014453234151,1.10380365327001,0.397531004622582,1.97490557469428,-1.82202913798392,-0.438759250566361,-1.78300842829049,0.0802101586014063,-0.660959998145698,-1.03868371061981,-1.50951649993658,1.11183551326395,1.40572576411069,-0.115209557116029,0.73933764174581,-0.157425967976448,1.73758469335735,0.00619209185242964,-1.78107729740441,0.90807045437396,-0.491640904918311,-1.65706002525985,-1.14472191222012,-1.05650737509131,1.75748074054719,-0.157565716654059,1.33772679418326,-0.639093289151786,-0.493762640282509,0.49067354947329,1.34695488587022,1.68788762576879,0.812868408858781,-0.419089090079067,1.61057211458684,0.990186821669345,-0.775232695043085,0.265199488028887,0.289567159488801],\"fY\":[-1.20769763791071,-1.81221255881121,1.76932138631502,0.791854855247911,0.204508445547954,-0.44895185583963,-1.34059908868501,-0.52590434503316,0.217997468958582,-1.51291632984645,-1.84104703512928,-1.04713911969067,1.70823299262287,1.28020732308353,-0.310209702870657,1.56671108105653,-0.53391797045373,0.749628665335619,-0.287597400129319,-0.491306868727559,1.85173454776698,-1.13905659254102,-0.905861042446674,-1.6074476503563,-1.71690713391634,0.716602657504609,-0.409948498974191,1.47284293864756,-1.61474287523672,-1.37161038622559,1.17750528485851,1.2949217087315,0.713641731121555,1.758068950896,-1.24825110315731,0.980323042986035,1.76148882680256,-1.77901392485108,0.570799899450759,0.714418383649449],\"fFunctions\":{\"_typename\":\"TList\",\"name\":\"TList\",\"arr\":[{\"_typename\":\"TF1\",\"fUniqueID\":0,\"fBits\":50332672,\"fName\":\"f2\",\"fTitle\":\"sin(x) ++ sin(2*x)\",\"fLineColor\":600,\"fLineStyle\":1,\"fLineWidth\":1,\"fFillColor\":19,\"fFillStyle\":0,\"fMarkerColor\":1,\"fMarkerStyle\":1,\"fMarkerSize\":1,\"fXmin\":-2.20172260925174,\"fXmax\":2.3545990459621,\"fNpar\":2,\"fNdim\":1,\"fNpx\":100,\"fType\":0,\"fNpfits\":40,\"fNDF\":38,\"fChisquare\":46.7361840709731,\"fMinimum\":-1111,\"fMaximum\":-1111,\"fParErrors\":[0.0242765495067743,0.02791488360644],\"fParMin\":[0,0],\"fParMax\":[0,0],\"fSave\":[0.131379085553875,0.074158970710234,0.0111342434025897,-0.0573233848642888,-0.130786033833352,-0.208772914159591,-0.290754049741474,-0.376154432385586,-0.464358574832726,-0.554715424816811,-0.646543599779838,-0.739136899152258,-0.831770048751089,-0.923704629867625,-1.01419514402913,-1.10249516323785,-1.18786351472597,-1.26957044892282,-1.34690373941475,-1.41917466418627,-1.48572381836124,-1.54592671000591,-1.59919909230104,-1.64500198752408,-1.68284636078612,-1.71229740432216,-1.73297839631309,-1.74457410169743,-1.74683368618183,-1.73957311865042,-1.72267704137079,-1.69610009176529,-1.65986766402245,-1.61407610342904,-1.55889233096942,-1.49455290042693,-1.42136249489397,-1.33969187421332,-1.24997528939573,-1.15270738445059,-1.04843961028992,-0.93777617938793,-0.821369593663708,-0.699915781573378,-0.574148883620309,-0.44483572839121,-0.312770043778284,-0.178766450231704,-0.0436542846845823,0.0917286948106692,0.226542672711699,0.359952156295245,0.491132320922202,0.619275268824179,0.743596150690372,0.863339100465321,0.977782935308855,1.08624657460653,1.18809413423601,1.28273965497289,1.36965142693665,1.44835587530779,1.51844097616446,1.57955917515984,1.63142978585908,1.67384084884185,1.70665043711899,1.72978739797187,1.74325152596322,1.74711316655013,1.74151225441491,1.72665679527854,1.70282080453573,1.67034172051356,1.62961731446854,1.58110212356533,1.52530343698999,1.46277686900831,1.39412155615639,1.31997501881728,1.24100773016982,1.15791743786988,1.07142328582235,0.982259785005779,0.891170683509166,0.798902786721396,0.706199778971525,0.613796097850695,0.522410911953527,0.432742251863317,0.345461342878605,0.261207186249893,0.180581433579022,0.104143596547444,0.0324066313043126,-0.0341670663155555,-0.0951692220338634,-0.150248771851507,-0.199114453241803,-0.241536877980246,-0.277350070124203,-2.20172260925174,2.3545990459621],\"fNormalized\":false,\"fNormIntegral\":0,\"fFormula\":{\"_typename\":\"TFormula\",\"fUniqueID\":0,\"fBits\":50398208,\"fName\":\"f2\",\"fTitle\":\"sin(x) ++ sin(2*x)\",\"fClingParameters\":[1.00049796753022,0.985941797179264],\"fAllParametersSetted\":true,\"fParams\":[{\"$pair\":\"pair<TString,int,TFormulaParamOrder>\",\"first\":\"p0\",\"second\":0},{\"$pair\":\"pair<TString,int,TFormulaParamOrder>\",\"first\":\"p1\",\"second\":1}],\"fFormula\":\"([p0]*(sin(x)))+([p1]*(sin(2*x)))\",\"fNdim\":1,\"fLinearParts\":[{\"_typename\":\"TFormula\",\"fUniqueID\":0,\"fBits\":50332672,\"fName\":\"__linear1\",\"fTitle\":\"sin(x)\",\"fClingParameters\":[],\"fAllParametersSetted\":true,\"fParams\":[],\"fFormula\":\"sin(x)\",\"fNdim\":1,\"fLinearParts\":[],\"fVectorized\":false},{\"_typename\":\"TFormula\",\"fUniqueID\":0,\"fBits\":50332672,\"fName\":\"__linear2\",\"fTitle\":\"sin(2*x)\",\"fClingParameters\":[],\"fAllParametersSetted\":true,\"fParams\":[],\"fFormula\":\"sin(2*x)\",\"fNdim\":1,\"fLinearParts\":[],\"fVectorized\":false}],\"fVectorized\":false},\"fParams\":null,\"fComposition_ptr\":null}],\"opt\":[\"\"]},\"fHistogram\":{\"_typename\":\"TH1F\",\"fUniqueID\":0,\"fBits\":50332168,\"fName\":\"Graph\",\"fTitle\":\"Graph\",\"fLineColor\":602,\"fLineStyle\":1,\"fLineWidth\":1,\"fFillColor\":0,\"fFillStyle\":1001,\"fMarkerColor\":1,\"fMarkerStyle\":1,\"fMarkerSize\":1,\"fNcells\":102,\"fXaxis\":{\"_typename\":\"TAxis\",\"fUniqueID\":0,\"fBits\":50331648,\"fName\":\"xaxis\",\"fTitle\":\"\",\"fNdivisions\":510,\"fAxisColor\":1,\"fLabelColor\":1,\"fLabelFont\":42,\"fLabelOffset\":0.005,\"fLabelSize\":0.035,\"fTickLength\":0.03,\"fTitleOffset\":1,\"fTitleSize\":0.035,\"fTitleColor\":1,\"fTitleFont\":42,\"fNbins\":100,\"fXmin\":-2.20172260925174,\"fXmax\":2.3545990459621,\"fXbins\":[],\"fFirst\":0,\"fLast\":0,\"fBits2\":0,\"fTimeDisplay\":false,\"fTimeFormat\":\"\",\"fLabels\":null,\"fModLabs\":null},\"fYaxis\":{\"_typename\":\"TAxis\",\"fUniqueID\":0,\"fBits\":50331648,\"fName\":\"yaxis\",\"fTitle\":\"\",\"fNdivisions\":510,\"fAxisColor\":1,\"fLabelColor\":1,\"fLabelFont\":42,\"fLabelOffset\":0.005,\"fLabelSize\":0.035,\"fTickLength\":0.03,\"fTitleOffset\":0,\"fTitleSize\":0.035,\"fTitleColor\":1,\"fTitleFont\":42,\"fNbins\":1,\"fXmin\":-2.33032519341891,\"fXmax\":2.34101270605661,\"fXbins\":[],\"fFirst\":0,\"fLast\":0,\"fBits2\":0,\"fTimeDisplay\":false,\"fTimeFormat\":\"\",\"fLabels\":null,\"fModLabs\":null},\"fZaxis\":{\"_typename\":\"TAxis\",\"fUniqueID\":0,\"fBits\":50331648,\"fName\":\"zaxis\",\"fTitle\":\"\",\"fNdivisions\":510,\"fAxisColor\":1,\"fLabelColor\":1,\"fLabelFont\":42,\"fLabelOffset\":0.005,\"fLabelSize\":0.035,\"fTickLength\":0.03,\"fTitleOffset\":1,\"fTitleSize\":0.035,\"fTitleColor\":1,\"fTitleFont\":42,\"fNbins\":1,\"fXmin\":0,\"fXmax\":1,\"fXbins\":[],\"fFirst\":0,\"fLast\":0,\"fBits2\":0,\"fTimeDisplay\":false,\"fTimeFormat\":\"\",\"fLabels\":null,\"fModLabs\":null},\"fBarOffset\":0,\"fBarWidth\":1000,\"fEntries\":0,\"fTsumw\":0,\"fTsumw2\":0,\"fTsumwx\":0,\"fTsumwx2\":0,\"fMaximum\":2.34101270605661,\"fMinimum\":-2.33032519341891,\"fNormFactor\":0,\"fContour\":[],\"fSumw2\":[],\"fOption\":\"\",\"fFunctions\":{\"_typename\":\"TList\",\"name\":\"TList\",\"arr\":[],\"opt\":[]},\"fBufferSize\":0,\"fBuffer\":[],\"fBinStatErrOpt\":0,\"fStatOverflows\":2,\"fArray\":[0,0,0,0,0,0,0,0,0,0,0,0,0,0,0,0,0,0,0,0,0,0,0,0,0,0,0,0,0,0,0,0,0,0,0,0,0,0,0,0,0,0,0,0,0,0,0,0,0,0,0,0,0,0,0,0,0,0,0,0,0,0,0,0,0,0,0,0,0,0,0,0,0,0,0,0,0,0,0,0,0,0,0,0,0,0,0,0,0,0,0,0,0,0,0,0,0,0,0,0,0,0]},\"fMinimum\":-1111,\"fMaximum\":-1111,\"fEX\":[0,0,0,0,0,0,0,0,0,0,0,0,0,0,0,0,0,0,0,0,0,0,0,0,0,0,0,0,0,0,0,0,0,0,0,0,0,0,0,0],\"fEY\":[0.1,0.1,0.1,0.1,0.1,0.1,0.1,0.1,0.1,0.1,0.1,0.1,0.1,0.1,0.1,0.1,0.1,0.1,0.1,0.1,0.1,0.1,0.1,0.1,0.1,0.1,0.1,0.1,0.1,0.1,0.1,0.1,0.1,0.1,0.1,0.1,0.1,0.1,0.1,0.1]},{\"_typename\":\"TGraphErrors\",\"fUniqueID\":0,\"fBits\":50332680,\"fName\":\"Graph\",\"fTitle\":\"Graph\",\"fLineColor\":632,\"fLineStyle\":1,\"fLineWidth\":1,\"fFillColor\":0,\"fFillStyle\":1000,\"fMarkerColor\":632,\"fMarkerStyle\":3,\"fMarkerSize\":1,\"fNpoints\":40,\"fX\":[-1.38279938697815,-1.014453234151,1.10380365327001,0.397531004622582,1.97490557469428,-1.82202913798392,-0.438759250566361,-1.78300842829049,0.0802101586014063,-0.660959998145698,-1.03868371061981,-1.50951649993658,1.11183551326395,1.40572576411069,-0.115209557116029,0.73933764174581,-0.157425967976448,1.73758469335735,0.00619209185242964,-1.78107729740441,0.90807045437396,-0.491640904918311,-1.65706002525985,-1.14472191222012,-1.05650737509131,1.75748074054719,-0.157565716654059,1.33772679418326,-0.639093289151786,-0.493762640282509,0.49067354947329,1.34695488587022,1.68788762576879,0.812868408858781,-0.419089090079067,1.61057211458684,0.990186821669345,-0.775232695043085,0.265199488028887,0.289567159488801],\"fY\":[2.12792458795638,0.691724361496785,-1.59599362707627,-1.63721812686452,-1.8531124632337,4.22246167786185,-0.595845211084777,3.98758973045247,-1.09893748490557,0.00679906409838242,0.720598796235782,2.59777956659189,-1.65366654217725,-1.78518693300823,-0.844760704339306,-1.62541736795967,-0.896971653668176,-1.7331248313707,-1.31234627992335,4.01464002508452,-1.50333549665962,-0.199665682910177,3.1626190918998,1.19741201774926,0.886609147012198,-1.72878929685219,-0.772434830934789,-1.68711814270983,-0.166018499553666,-0.424532761694527,-1.51274787362234,-1.85297727196974,-1.86255322857385,-1.52310029561123,-0.577320856073936,-1.73964502076784,-1.62042159188807,0.0917589793907894,-1.43012651137244,-1.36983115313978],\"fFunctions\":{\"_typename\":\"TList\",\"name\":\"TList\",\"arr\":[{\"_typename\":\"TF1\",\"fUniqueID\":0,\"fBits\":50332672,\"fName\":\"f4\",\"fTitle\":\"1 ++ exp(-x)\",\"fLineColor\":632,\"fLineStyle\":1,\"fLineWidth\":1,\"fFillColor\":19,\"fFillStyle\":0,\"fMarkerColor\":1,\"fMarkerStyle\":1,\"fMarkerSize\":1,\"fXmin\":-2.20172260925174,\"fXmax\":2.3545990459621,\"fNpar\":2,\"fNdim\":1,\"fNpx\":100,\"fType\":0,\"fNpfits\":40,\"fNDF\":38,\"fChisquare\":43.6160784836187,\"fMinimum\":-1111,\"fMaximum\":-1111,\"fParErrors\":[0.0220453571131104,0.00904362778967804],\"fParMin\":[0,0],\"fParMax\":[0,0],\"fSave\":[7.10546904997613,6.69808029591302,6.3088369629376,5.93693083947513,5.58158971234113,5.24207576334426,4.9176840373058,4.60774097831478,4.31160303117947,4.02865530517132,3.75831029728687,3.50000667237652,3.25320809760742,3.01740212884023,2.79209914660763,2.57683133948516,2.37115173274354,2.17463326026558,1.98686787780068,1.80746571571566,1.63605426948278,1.47227762622401,1.31579572570574,1.16628365424923,1.023430970091,0.886941058792124,0.756530517358118,0.631928565790653,0.512876484849191,0.399127078855191,0.290444162423432,0.186602070054742,0.0873851875718517,-0.00741249557452361,-0.0979878140589583,-0.18452883538212,-0.26721525036771,-0.346218746266358,-0.421703363241169,-0.493825834975127,-0.562735914107559,-0.628576683175408,-0.691484851704931,-0.751591040070696,-0.809020050711265,-0.863891127264727,-0.916318202162113,-0.966410133192808,-1.01427092953316,-1.05999996770756,-1.10369219793051,-1.14543834125796,-1.18532507795745,-1.22343522748803,-1.25984792046378,-1.29463876295792,-1.32787999348865,-1.3596406330128,-1.38998662823851,-1.4189809885548,-1.44668391686209,-1.47315293457542,-1.49844300105999,-1.52260662774689,-1.54569398716607,-1.56775301712281,-1.58882952023424,-1.60896725903222,-1.62820804683045,-1.64659183454417,-1.66415679364291,-1.68093939540837,-1.69697448666221,-1.71229536212074,-1.72693383352699,-1.74092029570349,-1.75428378966304,-1.76705206290853,-1.77925162704683,-1.79090781283663,-1.80204482278439,-1.81268578139754,-1.82285278319944,-1.83256693860571,-1.84184841775719,-1.85071649240046,-1.85918957590312,-1.86728526148663,-1.8750203587563,-1.88241092860416,-1.88947231655726,-1.89621918464059,-1.90266554182082,-1.90882477309404,-1.9147096672779,-1.92033244356587,-1.92570477689878,-1.93083782220624,-1.93574223756838,-1.94042820634591,-1.9449054583245,-2.20172260925174,2.3545990459621],\"fNormalized\":false,\"fNormIntegral\":0,\"fFormula\":{\"_typename\":\"TFormula\",\"fUniqueID\":0,\"fBits\":50398208,\"fName\":\"1 ++ exp(-x)\",\"fTitle\":\"1 ++ exp(-x)\",\"fClingParameters\":[-2.04094844758854,1.01170766751839],\"fAllParametersSetted\":true,\"fParams\":[{\"$pair\":\"pair<TString,int,TFormulaParamOrder>\",\"first\":\"p0\",\"second\":0},{\"$pair\":\"pair<TString,int,TFormulaParamOrder>\",\"first\":\"p1\",\"second\":1}],\"fFormula\":\"([p0]*(1))+([p1]*(exp(-x)))\",\"fNdim\":1,\"fLinearParts\":[{\"_typename\":\"TFormula\",\"fUniqueID\":0,\"fBits\":50332672,\"fName\":\"__linear1\",\"fTitle\":\"1\",\"fClingParameters\":[],\"fAllParametersSetted\":true,\"fParams\":[],\"fFormula\":\"1\",\"fNdim\":0,\"fLinearParts\":[],\"fVectorized\":false},{\"_typename\":\"TFormula\",\"fUniqueID\":0,\"fBits\":50332672,\"fName\":\"__linear2\",\"fTitle\":\"exp(-x)\",\"fClingParameters\":[],\"fAllParametersSetted\":true,\"fParams\":[],\"fFormula\":\"exp(-x)\",\"fNdim\":1,\"fLinearParts\":[],\"fVectorized\":false}],\"fVectorized\":false},\"fParams\":null,\"fComposition_ptr\":null}],\"opt\":[\"\"]},\"fHistogram\":{\"_typename\":\"TH1F\",\"fUniqueID\":0,\"fBits\":50332168,\"fName\":\"Graph\",\"fTitle\":\"Graph\",\"fLineColor\":602,\"fLineStyle\":1,\"fLineWidth\":1,\"fFillColor\":0,\"fFillStyle\":1001,\"fMarkerColor\":1,\"fMarkerStyle\":1,\"fMarkerSize\":1,\"fNcells\":102,\"fXaxis\":{\"_typename\":\"TAxis\",\"fUniqueID\":0,\"fBits\":50331648,\"fName\":\"xaxis\",\"fTitle\":\"\",\"fNdivisions\":510,\"fAxisColor\":1,\"fLabelColor\":1,\"fLabelFont\":42,\"fLabelOffset\":0.005,\"fLabelSize\":0.035,\"fTickLength\":0.03,\"fTitleOffset\":1,\"fTitleSize\":0.035,\"fTitleColor\":1,\"fTitleFont\":42,\"fNbins\":100,\"fXmin\":-2.20172260925174,\"fXmax\":2.3545990459621,\"fXbins\":[],\"fFirst\":0,\"fLast\":0,\"fBits2\":0,\"fTimeDisplay\":false,\"fTimeFormat\":\"\",\"fLabels\":null,\"fModLabs\":null},\"fYaxis\":{\"_typename\":\"TAxis\",\"fUniqueID\":0,\"fBits\":50331648,\"fName\":\"yaxis\",\"fTitle\":\"\",\"fNdivisions\":510,\"fAxisColor\":1,\"fLabelColor\":1,\"fLabelFont\":42,\"fLabelOffset\":0.005,\"fLabelSize\":0.035,\"fTickLength\":0.03,\"fTitleOffset\":0,\"fTitleSize\":0.035,\"fTitleColor\":1,\"fTitleFont\":42,\"fNbins\":1,\"fXmin\":-2.59105471921742,\"fXmax\":4.95096316850542,\"fXbins\":[],\"fFirst\":0,\"fLast\":0,\"fBits2\":0,\"fTimeDisplay\":false,\"fTimeFormat\":\"\",\"fLabels\":null,\"fModLabs\":null},\"fZaxis\":{\"_typename\":\"TAxis\",\"fUniqueID\":0,\"fBits\":50331648,\"fName\":\"zaxis\",\"fTitle\":\"\",\"fNdivisions\":510,\"fAxisColor\":1,\"fLabelColor\":1,\"fLabelFont\":42,\"fLabelOffset\":0.005,\"fLabelSize\":0.035,\"fTickLength\":0.03,\"fTitleOffset\":1,\"fTitleSize\":0.035,\"fTitleColor\":1,\"fTitleFont\":42,\"fNbins\":1,\"fXmin\":0,\"fXmax\":1,\"fXbins\":[],\"fFirst\":0,\"fLast\":0,\"fBits2\":0,\"fTimeDisplay\":false,\"fTimeFormat\":\"\",\"fLabels\":null,\"fModLabs\":null},\"fBarOffset\":0,\"fBarWidth\":1000,\"fEntries\":0,\"fTsumw\":0,\"fTsumw2\":0,\"fTsumwx\":0,\"fTsumwx2\":0,\"fMaximum\":4.95096316850542,\"fMinimum\":-2.59105471921742,\"fNormFactor\":0,\"fContour\":[],\"fSumw2\":[],\"fOption\":\"\",\"fFunctions\":{\"_typename\":\"TList\",\"name\":\"TList\",\"arr\":[],\"opt\":[]},\"fBufferSize\":0,\"fBuffer\":[],\"fBinStatErrOpt\":0,\"fStatOverflows\":2,\"fArray\":[0,0,0,0,0,0,0,0,0,0,0,0,0,0,0,0,0,0,0,0,0,0,0,0,0,0,0,0,0,0,0,0,0,0,0,0,0,0,0,0,0,0,0,0,0,0,0,0,0,0,0,0,0,0,0,0,0,0,0,0,0,0,0,0,0,0,0,0,0,0,0,0,0,0,0,0,0,0,0,0,0,0,0,0,0,0,0,0,0,0,0,0,0,0,0,0,0,0,0,0,0,0]},\"fMinimum\":-1111,\"fMaximum\":-1111,\"fEX\":[0,0,0,0,0,0,0,0,0,0,0,0,0,0,0,0,0,0,0,0,0,0,0,0,0,0,0,0,0,0,0,0,0,0,0,0,0,0,0,0],\"fEY\":[0.1,0.1,0.1,0.1,0.1,0.1,0.1,0.1,0.1,0.1,0.1,0.1,0.1,0.1,0.1,0.1,0.1,0.1,0.1,0.1,0.1,0.1,0.1,0.1,0.1,0.1,0.1,0.1,0.1,0.1,0.1,0.1,0.1,0.1,0.1,0.1,0.1,0.1,0.1,0.1]},{\"_typename\":\"TLegend\",\"fUniqueID\":0,\"fBits\":50331656,\"fLineColor\":1,\"fLineStyle\":1,\"fLineWidth\":1,\"fFillColor\":0,\"fFillStyle\":1001,\"fX1\":-1.0626422124219,\"fY1\":5.40777811513083,\"fX2\":0.930748541437993,\"fY2\":10.2129811023605,\"fX1NDC\":0.3,\"fY1NDC\":0.7,\"fX2NDC\":0.65,\"fY2NDC\":0.9,\"fBorderSize\":1,\"fInit\":1,\"fShadowColor\":1,\"fCornerRadius\":0,\"fOption\":\"brNDC\",\"fName\":\"TPave\",\"fTextAngle\":0,\"fTextSize\":0,\"fTextAlign\":12,\"fTextColor\":1,\"fTextFont\":42,\"fPrimitives\":{\"_typename\":\"TList\",\"name\":\"TList\",\"arr\":[{\"_typename\":\"TLegendEntry\",\"fUniqueID\":0,\"fBits\":50331648,\"fTextAngle\":0,\"fTextSize\":0,\"fTextAlign\":0,\"fTextColor\":0,\"fTextFont\":42,\"fLineColor\":1,\"fLineStyle\":1,\"fLineWidth\":1,\"fFillColor\":0,\"fFillStyle\":0,\"fMarkerColor\":1,\"fMarkerStyle\":3,\"fMarkerSize\":1,\"fObject\":{\"$ref\":3},\"fLabel\":\" -7 + 2*x*x + x*x*x\",\"fOption\":\"p\"},{\"_typename\":\"TLegendEntry\",\"fUniqueID\":0,\"fBits\":50331648,\"fTextAngle\":0,\"fTextSize\":0,\"fTextAlign\":0,\"fTextColor\":0,\"fTextFont\":42,\"fLineColor\":1,\"fLineStyle\":1,\"fLineWidth\":1,\"fFillColor\":0,\"fFillStyle\":0,\"fMarkerColor\":600,\"fMarkerStyle\":3,\"fMarkerSize\":1,\"fObject\":{\"$ref\":12},\"fLabel\":\"sin(x) + sin(2*x)\",\"fOption\":\"p\"},{\"_typename\":\"TLegendEntry\",\"fUniqueID\":0,\"fBits\":50331648,\"fTextAngle\":0,\"fTextSize\":0,\"fTextAlign\":0,\"fTextColor\":0,\"fTextFont\":42,\"fLineColor\":1,\"fLineStyle\":1,\"fLineWidth\":1,\"fFillColor\":0,\"fFillStyle\":0,\"fMarkerColor\":632,\"fMarkerStyle\":3,\"fMarkerSize\":1,\"fObject\":{\"$ref\":23},\"fLabel\":\"-2 + exp(-x)\",\"fOption\":\"p\"}],\"opt\":[\"p\",\"p\",\"p\"]},\"fEntrySeparation\":0.1,\"fMargin\":0.25,\"fNColumns\":1,\"fColumnSeparation\":0},{\"_typename\":\"TPaveText\",\"fUniqueID\":0,\"fBits\":50331657,\"fLineColor\":1,\"fLineStyle\":1,\"fLineWidth\":1,\"fFillColor\":0,\"fFillStyle\":0,\"fX1\":-0.266922520692277,\"fY1\":11.0294585041624,\"fX2\":0.419798957402642,\"fY2\":12.4954526358596,\"fX1NDC\":0.439712643678161,\"fY1NDC\":0.933983055615829,\"fX2NDC\":0.560287356321839,\"fY2NDC\":0.995000004768372,\"fBorderSize\":0,\"fInit\":1,\"fShadowColor\":1,\"fCornerRadius\":0,\"fOption\":\"blNDC\",\"fName\":\"title\",\"fTextAngle\":0,\"fTextSize\":0,\"fTextAlign\":22,\"fTextColor\":1,\"fTextFont\":42,\"fLabel\":\"\",\"fLongest\":5,\"fMargin\":0.05,\"fLines\":{\"_typename\":\"TList\",\"name\":\"TList\",\"arr\":[{\"_typename\":\"TLatex\",\"fUniqueID\":0,\"fBits\":50331648,\"fName\":\"\",\"fTitle\":\"Graph\",\"fTextAngle\":0,\"fTextSize\":0,\"fTextAlign\":0,\"fTextColor\":0,\"fTextFont\":0,\"fX\":0,\"fY\":0,\"fLineColor\":1,\"fLineStyle\":1,\"fLineWidth\":2,\"fLimitFactorSize\":3,\"fOriginSize\":0.0518644079566002}],\"opt\":[\"\"]}}],\"opt\":[\"\",\"ap\",\"p\",\"p\",\"\",\"blNDC\"]},\"fExecs\":null,\"fName\":\"myc\",\"fTitle\":\"Fitting 3 TGraphErrors with linear functions\",\"fNumPaletteColor\":0,\"fNextPaletteColor\":0,\"fDISPLAY\":\"$DISPLAY\",\"fDoubleBuffer\":0,\"fRetained\":true,\"fXsizeUser\":0,\"fYsizeUser\":0,\"fXsizeReal\":20,\"fYsizeReal\":14.28571,\"fWindowTopX\":0,\"fWindowTopY\":0,\"fWindowWidth\":0,\"fWindowHeight\":0,\"fCw\":696,\"fCh\":472,\"fCatt\":{\"_typename\":\"TAttCanvas\",\"fXBetween\":2,\"fYBetween\":2,\"fTitleFromTop\":1.2,\"fXdate\":0.2,\"fYdate\":0.3,\"fAdate\":1},\"kMoveOpaque\":true,\"kResizeOpaque\":true,\"fHighLightColor\":2,\"fBatch\":true,\"kShowEventStatus\":false,\"kAutoExec\":true,\"kMenuBar\":true});\n",
       "       Core.draw(\"root_plot_1\", obj, \"\");\n",
       "     }\n",
       " );\n",
       "</script>\n"
      ],
      "text/plain": [
       "<IPython.core.display.HTML object>"
      ]
     },
     "metadata": {},
     "output_type": "display_data"
    }
   ],
   "source": [
    "%jsroot on\n",
    "gROOT->GetListOfCanvases()->Draw()"
   ]
  }
 ],
 "metadata": {
  "kernelspec": {
   "display_name": "ROOT C++",
   "language": "c++",
   "name": "root"
  },
  "language_info": {
   "codemirror_mode": "text/x-c++src",
   "file_extension": ".C",
   "mimetype": " text/x-c++src",
   "name": "c++"
  }
 },
 "nbformat": 4,
 "nbformat_minor": 2
}
