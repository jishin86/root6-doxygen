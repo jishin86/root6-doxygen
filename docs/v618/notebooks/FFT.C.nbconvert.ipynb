{
 "cells": [
  {
   "cell_type": "markdown",
   "metadata": {},
   "source": [
    "#  F F T\n",
    "This tutorial illustrates the Fast Fourier Transforms interface in ROOT.\n",
    "FFT transform types provided in ROOT:\n",
    "\n",
    " - \"C2CFORWARD\" - a complex input/output discrete Fourier transform (DFT)\n",
    "in one or more dimensions, -1 in the exponent\n",
    " - \"C2CBACKWARD\"- a complex input/output discrete Fourier transform (DFT)\n",
    " in one or more dimensions, +1 in the exponent\n",
    " - \"R2C\"        - a real-input/complex-output discrete Fourier transform (DFT)\n",
    " in one or more dimensions,\n",
    " - \"C2R\"        - inverse transforms to \"R2C\", taking complex input\n",
    " (storing the non-redundant half of a logically Hermitian array)\n",
    " to real output\n",
    " - \"R2HC\"       - a real-input DFT with output in \"halfcomplex\" format,\n",
    " i.e. real and imaginary parts for a transform of size n stored as\n",
    " r0, r1, r2, ..., rn/2, i(n+1)/2-1, ..., i2, i1\n",
    " - \"HC2R\"       - computes the reverse of FFTW_R2HC, above\n",
    " - \"DHT\"        - computes a discrete Hartley transform\n",
    "\n",
    "\n",
    "\n",
    "Sine/cosine transforms:\n",
    "\n",
    " - DCT-I  (REDFT00 in FFTW3 notation)\n",
    " - DCT-II (REDFT10 in FFTW3 notation)\n",
    " - DCT-III(REDFT01 in FFTW3 notation)\n",
    " - DCT-IV (REDFT11 in FFTW3 notation)\n",
    " - DST-I  (RODFT00 in FFTW3 notation)\n",
    " - DST-II (RODFT10 in FFTW3 notation)\n",
    " - DST-III(RODFT01 in FFTW3 notation)\n",
    " - DST-IV (RODFT11 in FFTW3 notation)\n",
    "\n",
    "First part of the tutorial shows how to transform the histograms\n",
    "Second part shows how to transform the data arrays directly\n",
    "\n",
    "\n",
    "\n",
    "\n",
    "**Author:**  Anna Kreshuk, Jens Hoffmann  \n",
    "<i><small>This notebook tutorial was automatically generated with <a href= \"https://github.com/root-project/root/blob/master/documentation/doxygen/converttonotebook.py\">ROOTBOOK-izer</a> from the macro found in the ROOT repository  on Thursday, August 29, 2019 at 01:26 AM.</small></i>"
   ]
  },
  {
   "cell_type": "code",
   "execution_count": 1,
   "metadata": {
    "collapsed": false
   },
   "outputs": [],
   "source": [
    "%%cpp -d\n",
    "#include \"TH1D.h\"\n",
    "#include \"TVirtualFFT.h\"\n",
    "#include \"TF1.h\"\n",
    "#include \"TCanvas.h\"\n",
    "#include \"TMath.h\""
   ]
  },
  {
   "cell_type": "markdown",
   "metadata": {},
   "source": [
    "Histograms\n",
    " =========\n",
    "prepare the canvas for drawing"
   ]
  },
  {
   "cell_type": "code",
   "execution_count": 2,
   "metadata": {
    "collapsed": false
   },
   "outputs": [],
   "source": [
    "TCanvas *myc = new TCanvas(\"myc\", \"Fast Fourier Transform\", 800, 600);\n",
    "myc->SetFillColor(45);\n",
    "TPad *c1_1 = new TPad(\"c1_1\", \"c1_1\",0.01,0.67,0.49,0.99);\n",
    "TPad *c1_2 = new TPad(\"c1_2\", \"c1_2\",0.51,0.67,0.99,0.99);\n",
    "TPad *c1_3 = new TPad(\"c1_3\", \"c1_3\",0.01,0.34,0.49,0.65);\n",
    "TPad *c1_4 = new TPad(\"c1_4\", \"c1_4\",0.51,0.34,0.99,0.65);\n",
    "TPad *c1_5 = new TPad(\"c1_5\", \"c1_5\",0.01,0.01,0.49,0.32);\n",
    "TPad *c1_6 = new TPad(\"c1_6\", \"c1_6\",0.51,0.01,0.99,0.32);\n",
    "c1_1->Draw();\n",
    "c1_2->Draw();\n",
    "c1_3->Draw();\n",
    "c1_4->Draw();\n",
    "c1_5->Draw();\n",
    "c1_6->Draw();\n",
    "c1_1->SetFillColor(30);\n",
    "c1_1->SetFrameFillColor(42);\n",
    "c1_2->SetFillColor(30);\n",
    "c1_2->SetFrameFillColor(42);\n",
    "c1_3->SetFillColor(30);\n",
    "c1_3->SetFrameFillColor(42);\n",
    "c1_4->SetFillColor(30);\n",
    "c1_4->SetFrameFillColor(42);\n",
    "c1_5->SetFillColor(30);\n",
    "c1_5->SetFrameFillColor(42);\n",
    "c1_6->SetFillColor(30);\n",
    "c1_6->SetFrameFillColor(42);\n",
    "\n",
    "c1_1->cd();\n",
    "TH1::AddDirectory(kFALSE);"
   ]
  },
  {
   "cell_type": "markdown",
   "metadata": {},
   "source": [
    "A function to sample"
   ]
  },
  {
   "cell_type": "code",
   "execution_count": 3,
   "metadata": {
    "collapsed": false
   },
   "outputs": [],
   "source": [
    "TF1 *fsin = new TF1(\"fsin\", \"sin(x)+sin(2*x)+sin(0.5*x)+1\", 0, 4*TMath::Pi());\n",
    "fsin->Draw();\n",
    "\n",
    "Int_t n=25;\n",
    "TH1D *hsin = new TH1D(\"hsin\", \"hsin\", n+1, 0, 4*TMath::Pi());\n",
    "Double_t x;"
   ]
  },
  {
   "cell_type": "markdown",
   "metadata": {},
   "source": [
    "Fill the histogram with function values"
   ]
  },
  {
   "cell_type": "code",
   "execution_count": 4,
   "metadata": {
    "collapsed": false
   },
   "outputs": [],
   "source": [
    "for (Int_t i=0; i<=n; i++){\n",
    "   x = (Double_t(i)/n)*(4*TMath::Pi());\n",
    "   hsin->SetBinContent(i+1, fsin->Eval(x));\n",
    "}\n",
    "hsin->Draw(\"same\");\n",
    "fsin->GetXaxis()->SetLabelSize(0.05);\n",
    "fsin->GetYaxis()->SetLabelSize(0.05);\n",
    "\n",
    "c1_2->cd();"
   ]
  },
  {
   "cell_type": "markdown",
   "metadata": {},
   "source": [
    "Compute the transform and look at the magnitude of the output"
   ]
  },
  {
   "cell_type": "code",
   "execution_count": 5,
   "metadata": {
    "collapsed": false
   },
   "outputs": [],
   "source": [
    "TH1 *hm =0;\n",
    "TVirtualFFT::SetTransform(0);\n",
    "hm = hsin->FFT(hm, \"MAG\");\n",
    "hm->SetTitle(\"Magnitude of the 1st transform\");\n",
    "hm->Draw();"
   ]
  },
  {
   "cell_type": "markdown",
   "metadata": {},
   "source": [
    "Note: for \"real\" frequencies you have to divide the x-axes range with the range of your function\n",
    "(in this case 4*Pi); y-axes has to be rescaled by a factor of 1/SQRT(n) to be right: this is not done automatically!"
   ]
  },
  {
   "cell_type": "code",
   "execution_count": 6,
   "metadata": {
    "collapsed": false
   },
   "outputs": [],
   "source": [
    "hm->SetStats(kFALSE);\n",
    "hm->GetXaxis()->SetLabelSize(0.05);\n",
    "hm->GetYaxis()->SetLabelSize(0.05);\n",
    "c1_3->cd();"
   ]
  },
  {
   "cell_type": "markdown",
   "metadata": {},
   "source": [
    "Look at the phase of the output"
   ]
  },
  {
   "cell_type": "code",
   "execution_count": 7,
   "metadata": {
    "collapsed": false
   },
   "outputs": [],
   "source": [
    "TH1 *hp = 0;\n",
    "hp = hsin->FFT(hp, \"PH\");\n",
    "hp->SetTitle(\"Phase of the 1st transform\");\n",
    "hp->Draw();\n",
    "hp->SetStats(kFALSE);\n",
    "hp->GetXaxis()->SetLabelSize(0.05);\n",
    "hp->GetYaxis()->SetLabelSize(0.05);"
   ]
  },
  {
   "cell_type": "markdown",
   "metadata": {},
   "source": [
    "Look at the dc component and the nyquist harmonic:"
   ]
  },
  {
   "cell_type": "code",
   "execution_count": 8,
   "metadata": {
    "collapsed": false
   },
   "outputs": [],
   "source": [
    "Double_t re, im;"
   ]
  },
  {
   "cell_type": "markdown",
   "metadata": {},
   "source": [
    "That's the way to get the current transform object:"
   ]
  },
  {
   "cell_type": "code",
   "execution_count": 9,
   "metadata": {
    "collapsed": false
   },
   "outputs": [],
   "source": [
    "TVirtualFFT *fft = TVirtualFFT::GetCurrentTransform();\n",
    "c1_4->cd();"
   ]
  },
  {
   "cell_type": "markdown",
   "metadata": {},
   "source": [
    "Use the following method to get just one point of the output"
   ]
  },
  {
   "cell_type": "code",
   "execution_count": 10,
   "metadata": {
    "collapsed": false
   },
   "outputs": [
    {
     "name": "stdout",
     "output_type": "stream",
     "text": [
      "1st transform: DC component: 26.000000\n",
      "1st transform: Nyquist harmonic: -0.932840\n"
     ]
    }
   ],
   "source": [
    "fft->GetPointComplex(0, re, im);\n",
    "printf(\"1st transform: DC component: %f\\n\", re);\n",
    "fft->GetPointComplex(n/2+1, re, im);\n",
    "printf(\"1st transform: Nyquist harmonic: %f\\n\", re);"
   ]
  },
  {
   "cell_type": "markdown",
   "metadata": {},
   "source": [
    "Use the following method to get the full output:"
   ]
  },
  {
   "cell_type": "code",
   "execution_count": 11,
   "metadata": {
    "collapsed": false
   },
   "outputs": [],
   "source": [
    "Double_t *re_full = new Double_t[n];\n",
    "Double_t *im_full = new Double_t[n];\n",
    "fft->GetPointsComplex(re_full,im_full);"
   ]
  },
  {
   "cell_type": "markdown",
   "metadata": {},
   "source": [
    "Now let's make a backward transform:"
   ]
  },
  {
   "cell_type": "code",
   "execution_count": 12,
   "metadata": {
    "collapsed": false
   },
   "outputs": [],
   "source": [
    "TVirtualFFT *fft_back = TVirtualFFT::FFT(1, &n, \"C2R M K\");\n",
    "fft_back->SetPointsComplex(re_full,im_full);\n",
    "fft_back->Transform();\n",
    "TH1 *hb = 0;"
   ]
  },
  {
   "cell_type": "markdown",
   "metadata": {},
   "source": [
    "Let's look at the output"
   ]
  },
  {
   "cell_type": "code",
   "execution_count": 13,
   "metadata": {
    "collapsed": false
   },
   "outputs": [],
   "source": [
    "hb = TH1::TransformHisto(fft_back,hb,\"Re\");\n",
    "hb->SetTitle(\"The backward transform result\");\n",
    "hb->Draw();"
   ]
  },
  {
   "cell_type": "markdown",
   "metadata": {},
   "source": [
    "Note: here you get at the x-axes number of bins and not real values\n",
    "(in this case 25 bins has to be rescaled to a range between 0 and 4*Pi;\n",
    "also here the y-axes has to be rescaled (factor 1/bins)"
   ]
  },
  {
   "cell_type": "code",
   "execution_count": 14,
   "metadata": {
    "collapsed": false
   },
   "outputs": [],
   "source": [
    "hb->SetStats(kFALSE);\n",
    "hb->GetXaxis()->SetLabelSize(0.05);\n",
    "hb->GetYaxis()->SetLabelSize(0.05);\n",
    "delete fft_back;\n",
    "fft_back=0;"
   ]
  },
  {
   "cell_type": "markdown",
   "metadata": {},
   "source": [
    "Data array - same transform\n",
    " ==========================="
   ]
  },
  {
   "cell_type": "markdown",
   "metadata": {},
   "source": [
    "Allocate an array big enough to hold the transform output\n",
    "Transform output in 1d contains, for a transform of size N,\n",
    "N/2+1 complex numbers, i.e. 2*(N/2+1) real numbers\n",
    "our transform is of size n+1, because the histogram has n+1 bins"
   ]
  },
  {
   "cell_type": "code",
   "execution_count": 15,
   "metadata": {
    "collapsed": false
   },
   "outputs": [],
   "source": [
    "Double_t *in = new Double_t[2*((n+1)/2+1)];\n",
    "Double_t re_2,im_2;\n",
    "for (Int_t i=0; i<=n; i++){\n",
    "   x = (Double_t(i)/n)*(4*TMath::Pi());\n",
    "   in[i] =  fsin->Eval(x);\n",
    "}"
   ]
  },
  {
   "cell_type": "markdown",
   "metadata": {},
   "source": [
    "Make our own tvirtualfft object (using option \"k\")\n",
    "Third parameter (option) consists of 3 parts:\n",
    "- transform type:\n",
    " real input/complex output in our case\n",
    "- transform flag:\n",
    " the amount of time spent in planning\n",
    " the transform (see TVirtualFFT class description)\n",
    "- to create a new TVirtualFFT object (option \"K\") or use the global (default)"
   ]
  },
  {
   "cell_type": "code",
   "execution_count": 16,
   "metadata": {
    "collapsed": false
   },
   "outputs": [],
   "source": [
    "Int_t n_size = n+1;\n",
    "TVirtualFFT *fft_own = TVirtualFFT::FFT(1, &n_size, \"R2C ES K\");\n",
    "if (!fft_own) return;\n",
    "fft_own->SetPoints(in);\n",
    "fft_own->Transform();"
   ]
  },
  {
   "cell_type": "markdown",
   "metadata": {},
   "source": [
    "Copy all the output points:"
   ]
  },
  {
   "cell_type": "code",
   "execution_count": 17,
   "metadata": {
    "collapsed": false
   },
   "outputs": [],
   "source": [
    "fft_own->GetPoints(in);"
   ]
  },
  {
   "cell_type": "markdown",
   "metadata": {},
   "source": [
    "Draw the real part of the output"
   ]
  },
  {
   "cell_type": "code",
   "execution_count": 18,
   "metadata": {
    "collapsed": false
   },
   "outputs": [],
   "source": [
    "c1_5->cd();\n",
    "TH1 *hr = 0;\n",
    "hr = TH1::TransformHisto(fft_own, hr, \"RE\");\n",
    "hr->SetTitle(\"Real part of the 3rd (array) tranfsorm\");\n",
    "hr->Draw();\n",
    "hr->SetStats(kFALSE);\n",
    "hr->GetXaxis()->SetLabelSize(0.05);\n",
    "hr->GetYaxis()->SetLabelSize(0.05);\n",
    "c1_6->cd();\n",
    "TH1 *him = 0;\n",
    "him = TH1::TransformHisto(fft_own, him, \"IM\");\n",
    "him->SetTitle(\"Im. part of the 3rd (array) transform\");\n",
    "him->Draw();\n",
    "him->SetStats(kFALSE);\n",
    "him->GetXaxis()->SetLabelSize(0.05);\n",
    "him->GetYaxis()->SetLabelSize(0.05);\n",
    "\n",
    "myc->cd();"
   ]
  },
  {
   "cell_type": "markdown",
   "metadata": {},
   "source": [
    "Now let's make another transform of the same size\n",
    "The same transform object can be used, as the size and the type of the transform\n",
    "haven't changed"
   ]
  },
  {
   "cell_type": "code",
   "execution_count": 19,
   "metadata": {
    "collapsed": false
   },
   "outputs": [
    {
     "name": "stdout",
     "output_type": "stream",
     "text": [
      "2nd transform: DC component: 29.000000\n",
      "2nd transform: Nyquist harmonic: -0.000000\n"
     ]
    }
   ],
   "source": [
    "TF1 *fcos = new TF1(\"fcos\", \"cos(x)+cos(0.5*x)+cos(2*x)+1\", 0, 4*TMath::Pi());\n",
    "for (Int_t i=0; i<=n; i++){\n",
    "   x = (Double_t(i)/n)*(4*TMath::Pi());\n",
    "   in[i] =  fcos->Eval(x);\n",
    "}\n",
    "fft_own->SetPoints(in);\n",
    "fft_own->Transform();\n",
    "fft_own->GetPointComplex(0, re_2, im_2);\n",
    "printf(\"2nd transform: DC component: %f\\n\", re_2);\n",
    "fft_own->GetPointComplex(n/2+1, re_2, im_2);\n",
    "printf(\"2nd transform: Nyquist harmonic: %f\\n\", re_2);\n",
    "delete fft_own;\n",
    "delete [] in;\n",
    "delete [] re_full;\n",
    "delete [] im_full;"
   ]
  },
  {
   "cell_type": "markdown",
   "metadata": {},
   "source": [
    "Draw all canvases "
   ]
  },
  {
   "cell_type": "code",
   "execution_count": 20,
   "metadata": {
    "collapsed": false
   },
   "outputs": [
    {
     "data": {
      "text/html": [
       "\n",
       "<div id=\"root_plot_1\"\n",
       "     style=\"width: 796px; height: 572px\">\n",
       "</div>\n",
       "\n",
       "<script>\n",
       " requirejs.config({\n",
       "     paths: {\n",
       "       'JSRootCore' : 'https://root.cern.ch/js/notebook//scripts/JSRootCore',\n",
       "     }\n",
       "   });\n",
       " require(['JSRootCore'],\n",
       "     function(Core) {\n",
       "       var obj = Core.JSONR_unref({\"_typename\":\"TCanvas\",\"fUniqueID\":0,\"fBits\":53673992,\"fLineColor\":1,\"fLineStyle\":1,\"fLineWidth\":1,\"fFillColor\":45,\"fFillStyle\":1001,\"fLeftMargin\":0.1,\"fRightMargin\":0.1,\"fBottomMargin\":0.1,\"fTopMargin\":0.1,\"fXfile\":2,\"fYfile\":2,\"fAfile\":1,\"fXstat\":0.99,\"fYstat\":0.99,\"fAstat\":2,\"fFrameFillColor\":0,\"fFrameLineColor\":1,\"fFrameFillStyle\":1001,\"fFrameLineStyle\":1,\"fFrameLineWidth\":1,\"fFrameBorderSize\":1,\"fFrameBorderMode\":0,\"fX1\":0,\"fY1\":0,\"fX2\":1,\"fY2\":1,\"fXtoAbsPixelk\":5e-5,\"fXtoPixelk\":5e-5,\"fXtoPixel\":796,\"fYtoAbsPixelk\":572.00005,\"fYtoPixelk\":572.00005,\"fYtoPixel\":-572,\"fUtoAbsPixelk\":5e-5,\"fUtoPixelk\":5e-5,\"fUtoPixel\":796,\"fVtoAbsPixelk\":572.00005,\"fVtoPixelk\":572,\"fVtoPixel\":-572,\"fAbsPixeltoXk\":0,\"fPixeltoXk\":0,\"fPixeltoX\":0.00125628140703518,\"fAbsPixeltoYk\":1,\"fPixeltoYk\":0,\"fPixeltoY\":-0.00174825174825175,\"fXlowNDC\":0,\"fYlowNDC\":0,\"fXUpNDC\":0,\"fYUpNDC\":0,\"fWNDC\":1,\"fHNDC\":1,\"fAbsXlowNDC\":0,\"fAbsYlowNDC\":0,\"fAbsWNDC\":1,\"fAbsHNDC\":1,\"fUxmin\":0,\"fUymin\":0,\"fUxmax\":1,\"fUymax\":1,\"fTheta\":30,\"fPhi\":30,\"fAspectRatio\":0,\"fNumber\":0,\"fTickx\":0,\"fTicky\":0,\"fLogx\":0,\"fLogy\":0,\"fLogz\":0,\"fPadPaint\":0,\"fCrosshair\":0,\"fCrosshairPos\":0,\"fBorderSize\":2,\"fBorderMode\":0,\"fModified\":false,\"fGridx\":false,\"fGridy\":false,\"fAbsCoord\":false,\"fEditable\":true,\"fFixedAspectRatio\":false,\"fPrimitives\":{\"_typename\":\"TList\",\"name\":\"TList\",\"arr\":[{\"_typename\":\"TPad\",\"fUniqueID\":0,\"fBits\":50331657,\"fLineColor\":1,\"fLineStyle\":1,\"fLineWidth\":1,\"fFillColor\":30,\"fFillStyle\":1001,\"fLeftMargin\":0.1,\"fRightMargin\":0.1,\"fBottomMargin\":0.1,\"fTopMargin\":0.1,\"fXfile\":2,\"fYfile\":2,\"fAfile\":1,\"fXstat\":0.99,\"fYstat\":0.99,\"fAstat\":2,\"fFrameFillColor\":42,\"fFrameLineColor\":1,\"fFrameFillStyle\":1001,\"fFrameLineStyle\":1,\"fFrameLineWidth\":1,\"fFrameBorderSize\":1,\"fFrameBorderMode\":0,\"fX1\":-1.57079644382835,\"fY1\":-2.06719812258353,\"fX2\":14.1371670581875,\"fY2\":4.07834650269001,\"fXtoAbsPixelk\":46.1680522773744,\"fXtoPixelk\":38.2080522773744,\"fXtoPixel\":24.3239679001652,\"fYtoAbsPixelk\":127.190251482615,\"fYtoPixelk\":121.470251482615,\"fYtoPixel\":-29.7841788093521,\"fUtoAbsPixelk\":7.96005,\"fUtoPixelk\":5e-5,\"fUtoPixel\":382.08,\"fVtoAbsPixelk\":188.76005,\"fVtoPixelk\":183.04,\"fVtoPixel\":-183.04,\"fAbsPixeltoXk\":-1.89804568345368,\"fPixeltoXk\":-1.57079644382835,\"fPixeltoX\":0.0411117135207702,\"fAbsPixeltoYk\":4.27039477222981,\"fPixeltoYk\":-2.06719812258353,\"fPixeltoY\":-0.0335748722971675,\"fXlowNDC\":0.01,\"fYlowNDC\":0.67,\"fXUpNDC\":0,\"fYUpNDC\":0,\"fWNDC\":0.48,\"fHNDC\":0.32,\"fAbsXlowNDC\":0.01,\"fAbsYlowNDC\":0.67,\"fAbsWNDC\":0.48,\"fAbsHNDC\":0.32,\"fUxmin\":0,\"fUymin\":-1.45264362342588,\"fUxmax\":12.5663706143592,\"fUymax\":3.46379200353236,\"fTheta\":30,\"fPhi\":30,\"fAspectRatio\":0,\"fNumber\":0,\"fTickx\":0,\"fTicky\":0,\"fLogx\":0,\"fLogy\":0,\"fLogz\":0,\"fPadPaint\":0,\"fCrosshair\":0,\"fCrosshairPos\":0,\"fBorderSize\":2,\"fBorderMode\":0,\"fModified\":false,\"fGridx\":false,\"fGridy\":false,\"fAbsCoord\":false,\"fEditable\":true,\"fFixedAspectRatio\":false,\"fPrimitives\":{\"_typename\":\"TList\",\"name\":\"TList\",\"arr\":[{\"_typename\":\"TFrame\",\"fUniqueID\":0,\"fBits\":50331656,\"fLineColor\":1,\"fLineStyle\":1,\"fLineWidth\":1,\"fFillColor\":42,\"fFillStyle\":1001,\"fX1\":0,\"fY1\":-1.45264362342588,\"fX2\":12.5663706143592,\"fY2\":3.46379200353236,\"fBorderSize\":1,\"fBorderMode\":0},{\"_typename\":\"TF1\",\"fUniqueID\":0,\"fBits\":50331656,\"fName\":\"fsin\",\"fTitle\":\"sin(x)+sin(2*x)+sin(0.5*x)+1\",\"fLineColor\":2,\"fLineStyle\":1,\"fLineWidth\":2,\"fFillColor\":19,\"fFillStyle\":0,\"fMarkerColor\":1,\"fMarkerStyle\":1,\"fMarkerSize\":1,\"fXmin\":0,\"fXmax\":12.5663706143592,\"fNpar\":0,\"fNdim\":1,\"fNpx\":100,\"fType\":0,\"fNpfits\":0,\"fNDF\":0,\"fChisquare\":0,\"fMinimum\":-1111,\"fMaximum\":-1111,\"fParErrors\":[],\"fParMin\":[],\"fParMax\":[],\"fSave\":[],\"fNormalized\":false,\"fNormIntegral\":0,\"fFormula\":{\"_typename\":\"TFormula\",\"fUniqueID\":0,\"fBits\":50332672,\"fName\":\"fsin\",\"fTitle\":\"sin(x)+sin(2*x)+sin(0.5*x)+1\",\"fClingParameters\":[],\"fAllParametersSetted\":true,\"fParams\":[],\"fFormula\":\"sin(x)+sin(2*x)+sin(0.5*x)+1\",\"fNdim\":1,\"fLinearParts\":[],\"fVectorized\":false},\"fParams\":null,\"fComposition_ptr\":null},{\"_typename\":\"TH1D\",\"fUniqueID\":0,\"fBits\":50331656,\"fName\":\"hsin\",\"fTitle\":\"hsin\",\"fLineColor\":602,\"fLineStyle\":1,\"fLineWidth\":1,\"fFillColor\":0,\"fFillStyle\":1001,\"fMarkerColor\":1,\"fMarkerStyle\":1,\"fMarkerSize\":1,\"fNcells\":28,\"fXaxis\":{\"_typename\":\"TAxis\",\"fUniqueID\":0,\"fBits\":50331648,\"fName\":\"xaxis\",\"fTitle\":\"\",\"fNdivisions\":510,\"fAxisColor\":1,\"fLabelColor\":1,\"fLabelFont\":42,\"fLabelOffset\":0.005,\"fLabelSize\":0.035,\"fTickLength\":0.03,\"fTitleOffset\":1,\"fTitleSize\":0.035,\"fTitleColor\":1,\"fTitleFont\":42,\"fNbins\":26,\"fXmin\":0,\"fXmax\":12.5663706143592,\"fXbins\":[],\"fFirst\":0,\"fLast\":0,\"fBits2\":0,\"fTimeDisplay\":false,\"fTimeFormat\":\"\",\"fLabels\":null,\"fModLabs\":null},\"fYaxis\":{\"_typename\":\"TAxis\",\"fUniqueID\":0,\"fBits\":50331648,\"fName\":\"yaxis\",\"fTitle\":\"\",\"fNdivisions\":510,\"fAxisColor\":1,\"fLabelColor\":1,\"fLabelFont\":42,\"fLabelOffset\":0.005,\"fLabelSize\":0.035,\"fTickLength\":0.03,\"fTitleOffset\":0,\"fTitleSize\":0.035,\"fTitleColor\":1,\"fTitleFont\":42,\"fNbins\":1,\"fXmin\":0,\"fXmax\":1,\"fXbins\":[],\"fFirst\":0,\"fLast\":0,\"fBits2\":0,\"fTimeDisplay\":false,\"fTimeFormat\":\"\",\"fLabels\":null,\"fModLabs\":null},\"fZaxis\":{\"_typename\":\"TAxis\",\"fUniqueID\":0,\"fBits\":50331648,\"fName\":\"zaxis\",\"fTitle\":\"\",\"fNdivisions\":510,\"fAxisColor\":1,\"fLabelColor\":1,\"fLabelFont\":42,\"fLabelOffset\":0.005,\"fLabelSize\":0.035,\"fTickLength\":0.03,\"fTitleOffset\":1,\"fTitleSize\":0.035,\"fTitleColor\":1,\"fTitleFont\":42,\"fNbins\":1,\"fXmin\":0,\"fXmax\":1,\"fXbins\":[],\"fFirst\":0,\"fLast\":0,\"fBits2\":0,\"fTimeDisplay\":false,\"fTimeFormat\":\"\",\"fLabels\":null,\"fModLabs\":null},\"fBarOffset\":0,\"fBarWidth\":1000,\"fEntries\":26,\"fTsumw\":0,\"fTsumw2\":0,\"fTsumwx\":0,\"fTsumwx2\":0,\"fMaximum\":-1111,\"fMinimum\":-1111,\"fNormFactor\":0,\"fContour\":[],\"fSumw2\":[],\"fOption\":\"\",\"fFunctions\":{\"_typename\":\"TList\",\"name\":\"TList\",\"arr\":[],\"opt\":[]},\"fBufferSize\":0,\"fBuffer\":[],\"fBinStatErrOpt\":0,\"fStatOverflows\":2,\"fArray\":[0,1,2.57477148676859,3.23090865206975,2.80790706792126,1.97864173519225,1.58778525229247,1.87467007482772,2.2987098039727,2.11660106041892,1.15635054473178,0.0489434837048467,-0.314449281672282,0.394889672297733,1.60511032770227,2.31444928167228,1.95105651629515,0.843649455268221,-0.11660106041892,-0.298709803972699,0.125329925172278,0.412214747707527,0.0213582648077567,-0.807907067921263,-1.23090865206975,-0.574771486768588,0.999999999999998,0]},{\"_typename\":\"TPaveText\",\"fUniqueID\":0,\"fBits\":50331657,\"fLineColor\":1,\"fLineStyle\":1,\"fLineWidth\":1,\"fFillColor\":0,\"fFillStyle\":0,\"fX1\":3.74162628795476,\"fY1\":3.68501018805848,\"fX2\":8.82474432640442,\"fY2\":4.04761880886788,\"fX1NDC\":0.33819932998325,\"fY1NDC\":0.935996508264875,\"fX2NDC\":0.66180067001675,\"fY2NDC\":0.995000004768372,\"fBorderSize\":0,\"fInit\":1,\"fShadowColor\":1,\"fCornerRadius\":0,\"fOption\":\"blNDC\",\"fName\":\"title\",\"fTextAngle\":0,\"fTextSize\":0,\"fTextAlign\":22,\"fTextColor\":1,\"fTextFont\":42,\"fLabel\":\"\",\"fLongest\":28,\"fMargin\":0.05,\"fLines\":{\"_typename\":\"TList\",\"name\":\"TList\",\"arr\":[{\"_typename\":\"TLatex\",\"fUniqueID\":0,\"fBits\":50331648,\"fName\":\"\",\"fTitle\":\"sin(x)+sin(2*x)+sin(0.5*x)+1\",\"fTextAngle\":0,\"fTextSize\":0,\"fTextAlign\":0,\"fTextColor\":0,\"fTextFont\":0,\"fX\":0,\"fY\":0,\"fLineColor\":1,\"fLineStyle\":1,\"fLineWidth\":2,\"fLimitFactorSize\":3,\"fOriginSize\":0.0501529723405838}],\"opt\":[\"\"]}}],\"opt\":[\"\",\"\",\"same\",\"blNDC\"]},\"fExecs\":{\"_typename\":\"TList\",\"name\":\"TList\",\"arr\":[],\"opt\":[]},\"fName\":\"c1_1\",\"fTitle\":\"c1_1\",\"fNumPaletteColor\":0,\"fNextPaletteColor\":0},{\"_typename\":\"TPad\",\"fUniqueID\":0,\"fBits\":50331657,\"fLineColor\":1,\"fLineStyle\":1,\"fLineWidth\":1,\"fFillColor\":30,\"fFillStyle\":1001,\"fLeftMargin\":0.1,\"fRightMargin\":0.1,\"fBottomMargin\":0.1,\"fTopMargin\":0.1,\"fXfile\":2,\"fYfile\":2,\"fAfile\":1,\"fXstat\":0.99,\"fYstat\":0.99,\"fAstat\":2,\"fFrameFillColor\":42,\"fFrameLineColor\":1,\"fFrameFillStyle\":1001,\"fFrameLineStyle\":1,\"fFrameLineWidth\":1,\"fFrameBorderSize\":1,\"fFrameBorderMode\":0,\"fX1\":-3.25000024214388,\"fY1\":-3.41250025425108,\"fX2\":29.2500002421439,\"fY2\":30.7125002542511,\"fXtoAbsPixelk\":444.168052277374,\"fXtoPixelk\":38.2080522773744,\"fXtoPixel\":11.756307517125,\"fYtoAbsPixelk\":170.456048908997,\"fYtoPixelk\":164.736048908996,\"fYtoPixel\":-5.36380944388253,\"fUtoAbsPixelk\":405.96005,\"fUtoPixelk\":5e-5,\"fUtoPixel\":382.08,\"fVtoAbsPixelk\":188.76005,\"fVtoPixelk\":183.04,\"fVtoPixel\":-183.04,\"fAbsPixeltoXk\":-37.7812507566996,\"fPixeltoXk\":-3.25000024214388,\"fPixeltoX\":0.0850607215355103,\"fAbsPixeltoYk\":31.7789065201418,\"fPixeltoYk\":-3.41250025425108,\"fPixeltoY\":-0.186434661869002,\"fXlowNDC\":0.51,\"fYlowNDC\":0.67,\"fXUpNDC\":0,\"fYUpNDC\":0,\"fWNDC\":0.48,\"fHNDC\":0.32,\"fAbsXlowNDC\":0.51,\"fAbsYlowNDC\":0.67,\"fAbsWNDC\":0.48,\"fAbsHNDC\":0.32,\"fUxmin\":0,\"fUymin\":0,\"fUxmax\":26,\"fUymax\":27.3,\"fTheta\":30,\"fPhi\":30,\"fAspectRatio\":0,\"fNumber\":0,\"fTickx\":0,\"fTicky\":0,\"fLogx\":0,\"fLogy\":0,\"fLogz\":0,\"fPadPaint\":0,\"fCrosshair\":0,\"fCrosshairPos\":0,\"fBorderSize\":2,\"fBorderMode\":0,\"fModified\":false,\"fGridx\":false,\"fGridy\":false,\"fAbsCoord\":false,\"fEditable\":true,\"fFixedAspectRatio\":false,\"fPrimitives\":{\"_typename\":\"TList\",\"name\":\"TList\",\"arr\":[{\"_typename\":\"TFrame\",\"fUniqueID\":0,\"fBits\":50331656,\"fLineColor\":1,\"fLineStyle\":1,\"fLineWidth\":1,\"fFillColor\":42,\"fFillStyle\":1001,\"fX1\":0,\"fY1\":0,\"fX2\":26,\"fY2\":27.3,\"fBorderSize\":1,\"fBorderMode\":0},{\"_typename\":\"TH1D\",\"fUniqueID\":0,\"fBits\":50332168,\"fName\":\"out_MAG\",\"fTitle\":\"Magnitude of the 1st transform\",\"fLineColor\":602,\"fLineStyle\":1,\"fLineWidth\":1,\"fFillColor\":0,\"fFillStyle\":1001,\"fMarkerColor\":1,\"fMarkerStyle\":1,\"fMarkerSize\":1,\"fNcells\":28,\"fXaxis\":{\"_typename\":\"TAxis\",\"fUniqueID\":0,\"fBits\":50331648,\"fName\":\"xaxis\",\"fTitle\":\"\",\"fNdivisions\":510,\"fAxisColor\":1,\"fLabelColor\":1,\"fLabelFont\":42,\"fLabelOffset\":0.005,\"fLabelSize\":0.05,\"fTickLength\":0.03,\"fTitleOffset\":1,\"fTitleSize\":0.035,\"fTitleColor\":1,\"fTitleFont\":42,\"fNbins\":26,\"fXmin\":0,\"fXmax\":26,\"fXbins\":[],\"fFirst\":0,\"fLast\":0,\"fBits2\":0,\"fTimeDisplay\":false,\"fTimeFormat\":\"\",\"fLabels\":null,\"fModLabs\":null},\"fYaxis\":{\"_typename\":\"TAxis\",\"fUniqueID\":0,\"fBits\":50331648,\"fName\":\"yaxis\",\"fTitle\":\"\",\"fNdivisions\":510,\"fAxisColor\":1,\"fLabelColor\":1,\"fLabelFont\":42,\"fLabelOffset\":0.005,\"fLabelSize\":0.05,\"fTickLength\":0.03,\"fTitleOffset\":0,\"fTitleSize\":0.035,\"fTitleColor\":1,\"fTitleFont\":42,\"fNbins\":1,\"fXmin\":0,\"fXmax\":1,\"fXbins\":[],\"fFirst\":0,\"fLast\":0,\"fBits2\":0,\"fTimeDisplay\":false,\"fTimeFormat\":\"\",\"fLabels\":null,\"fModLabs\":null},\"fZaxis\":{\"_typename\":\"TAxis\",\"fUniqueID\":0,\"fBits\":50331648,\"fName\":\"zaxis\",\"fTitle\":\"\",\"fNdivisions\":510,\"fAxisColor\":1,\"fLabelColor\":1,\"fLabelFont\":42,\"fLabelOffset\":0.005,\"fLabelSize\":0.035,\"fTickLength\":0.03,\"fTitleOffset\":1,\"fTitleSize\":0.035,\"fTitleColor\":1,\"fTitleFont\":42,\"fNbins\":1,\"fXmin\":0,\"fXmax\":1,\"fXbins\":[],\"fFirst\":0,\"fLast\":0,\"fBits2\":0,\"fTimeDisplay\":false,\"fTimeFormat\":\"\",\"fLabels\":null,\"fModLabs\":null},\"fBarOffset\":0,\"fBarWidth\":1000,\"fEntries\":26,\"fTsumw\":0,\"fTsumw2\":0,\"fTsumwx\":0,\"fTsumwx2\":0,\"fMaximum\":-1111,\"fMinimum\":-1111,\"fNormFactor\":0,\"fContour\":[],\"fSumw2\":[],\"fOption\":\"\",\"fFunctions\":{\"_typename\":\"TList\",\"name\":\"TList\",\"arr\":[],\"opt\":[]},\"fBufferSize\":0,\"fBuffer\":[],\"fBinStatErrOpt\":0,\"fStatOverflows\":2,\"fArray\":[0,26,13.5565454451134,12.4630053148555,0.329738528045771,11.1564547744469,3.40132010578998,1.96535522726475,1.49551845307973,1.25714920102338,1.1158895600125,1.02733264627749,0.972538407827245,0.942452050917853,0.932840391006611,0.942452050917853,0.972538407827245,1.02733264627749,1.1158895600125,1.25714920102338,1.49551845307973,1.96535522726475,3.40132010578998,11.1564547744469,0.329738528045771,12.4630053148555,13.5565454451134,0]},{\"_typename\":\"TPaveText\",\"fUniqueID\":0,\"fBits\":50331657,\"fLineColor\":1,\"fLineStyle\":1,\"fLineWidth\":1,\"fFillColor\":0,\"fFillStyle\":0,\"fX1\":7.06099237381344,\"fY1\":28.528381066244,\"fX2\":18.9390076261866,\"fY2\":30.5418754144292,\"fX1NDC\":0.317261306532663,\"fY1NDC\":0.935996508264875,\"fX2NDC\":0.682738693467337,\"fY2NDC\":0.995000004768372,\"fBorderSize\":0,\"fInit\":1,\"fShadowColor\":1,\"fCornerRadius\":0,\"fOption\":\"blNDC\",\"fName\":\"title\",\"fTextAngle\":0,\"fTextSize\":0,\"fTextAlign\":22,\"fTextColor\":1,\"fTextFont\":42,\"fLabel\":\"\",\"fLongest\":30,\"fMargin\":0.05,\"fLines\":{\"_typename\":\"TList\",\"name\":\"TList\",\"arr\":[{\"_typename\":\"TLatex\",\"fUniqueID\":0,\"fBits\":50331648,\"fName\":\"\",\"fTitle\":\"Magnitude of the 1st transform\",\"fTextAngle\":0,\"fTextSize\":0,\"fTextAlign\":0,\"fTextColor\":0,\"fTextFont\":0,\"fX\":0,\"fY\":0,\"fLineColor\":1,\"fLineStyle\":1,\"fLineWidth\":2,\"fLimitFactorSize\":3,\"fOriginSize\":0.0501529723405838}],\"opt\":[\"\"]}}],\"opt\":[\"\",\"\",\"blNDC\"]},\"fExecs\":{\"_typename\":\"TList\",\"name\":\"TList\",\"arr\":[],\"opt\":[]},\"fName\":\"c1_2\",\"fTitle\":\"c1_2\",\"fNumPaletteColor\":0,\"fNextPaletteColor\":0},{\"_typename\":\"TPad\",\"fUniqueID\":0,\"fBits\":50331657,\"fLineColor\":1,\"fLineStyle\":1,\"fLineWidth\":1,\"fFillColor\":30,\"fFillStyle\":1001,\"fLeftMargin\":0.1,\"fRightMargin\":0.1,\"fBottomMargin\":0.1,\"fTopMargin\":0.1,\"fXfile\":2,\"fYfile\":2,\"fAfile\":1,\"fXstat\":0.99,\"fYstat\":0.99,\"fAstat\":2,\"fFrameFillColor\":42,\"fFrameLineColor\":1,\"fFrameFillStyle\":1001,\"fFrameLineStyle\":1,\"fFrameLineWidth\":1,\"fFrameBorderSize\":1,\"fFrameBorderMode\":0,\"fX1\":-3.25000024214388,\"fY1\":-4.17812949491301,\"fX2\":29.2500002421439,\"fY2\":4.3143658686408,\"fXtoAbsPixelk\":46.1680522773744,\"fXtoPixelk\":38.2080522773744,\"fXtoPixel\":11.756307517125,\"fYtoAbsPixelk\":290.282331246869,\"fYtoPixelk\":90.0823312468691,\"fYtoPixel\":-20.8796110458867,\"fUtoAbsPixelk\":7.96005,\"fUtoPixelk\":5e-5,\"fUtoPixel\":382.08,\"fVtoAbsPixelk\":377.52005,\"fVtoPixelk\":177.32,\"fVtoPixel\":-177.32,\"fAbsPixeltoXk\":-3.92708358556655,\"fPixeltoXk\":-3.25000024214388,\"fPixeltoX\":0.0850607215355103,\"fAbsPixeltoYk\":13.9026670855564,\"fPixeltoYk\":-4.17812949491301,\"fPixeltoY\":-0.0478936124721059,\"fXlowNDC\":0.01,\"fYlowNDC\":0.34,\"fXUpNDC\":0,\"fYUpNDC\":0,\"fWNDC\":0.48,\"fHNDC\":0.31,\"fAbsXlowNDC\":0.01,\"fAbsYlowNDC\":0.34,\"fAbsWNDC\":0.48,\"fAbsHNDC\":0.31,\"fUxmin\":0,\"fUymin\":-3.32887990793841,\"fUxmax\":26,\"fUymax\":3.4651162816662,\"fTheta\":30,\"fPhi\":30,\"fAspectRatio\":0,\"fNumber\":0,\"fTickx\":0,\"fTicky\":0,\"fLogx\":0,\"fLogy\":0,\"fLogz\":0,\"fPadPaint\":0,\"fCrosshair\":0,\"fCrosshairPos\":0,\"fBorderSize\":2,\"fBorderMode\":0,\"fModified\":false,\"fGridx\":false,\"fGridy\":false,\"fAbsCoord\":false,\"fEditable\":true,\"fFixedAspectRatio\":false,\"fPrimitives\":{\"_typename\":\"TList\",\"name\":\"TList\",\"arr\":[{\"_typename\":\"TFrame\",\"fUniqueID\":0,\"fBits\":50331656,\"fLineColor\":1,\"fLineStyle\":1,\"fLineWidth\":1,\"fFillColor\":42,\"fFillStyle\":1001,\"fX1\":0,\"fY1\":-3.32887990793841,\"fX2\":26,\"fY2\":3.4651162816662,\"fBorderSize\":1,\"fBorderMode\":0},{\"_typename\":\"TH1D\",\"fUniqueID\":0,\"fBits\":50332168,\"fName\":\"out_PH\",\"fTitle\":\"Phase of the 1st transform\",\"fLineColor\":602,\"fLineStyle\":1,\"fLineWidth\":1,\"fFillColor\":0,\"fFillStyle\":1001,\"fMarkerColor\":1,\"fMarkerStyle\":1,\"fMarkerSize\":1,\"fNcells\":28,\"fXaxis\":{\"_typename\":\"TAxis\",\"fUniqueID\":0,\"fBits\":50331648,\"fName\":\"xaxis\",\"fTitle\":\"\",\"fNdivisions\":510,\"fAxisColor\":1,\"fLabelColor\":1,\"fLabelFont\":42,\"fLabelOffset\":0.005,\"fLabelSize\":0.05,\"fTickLength\":0.03,\"fTitleOffset\":1,\"fTitleSize\":0.035,\"fTitleColor\":1,\"fTitleFont\":42,\"fNbins\":26,\"fXmin\":0,\"fXmax\":26,\"fXbins\":[],\"fFirst\":0,\"fLast\":0,\"fBits2\":0,\"fTimeDisplay\":false,\"fTimeFormat\":\"\",\"fLabels\":null,\"fModLabs\":null},\"fYaxis\":{\"_typename\":\"TAxis\",\"fUniqueID\":0,\"fBits\":50331648,\"fName\":\"yaxis\",\"fTitle\":\"\",\"fNdivisions\":510,\"fAxisColor\":1,\"fLabelColor\":1,\"fLabelFont\":42,\"fLabelOffset\":0.005,\"fLabelSize\":0.05,\"fTickLength\":0.03,\"fTitleOffset\":0,\"fTitleSize\":0.035,\"fTitleColor\":1,\"fTitleFont\":42,\"fNbins\":1,\"fXmin\":0,\"fXmax\":1,\"fXbins\":[],\"fFirst\":0,\"fLast\":0,\"fBits2\":0,\"fTimeDisplay\":false,\"fTimeFormat\":\"\",\"fLabels\":null,\"fModLabs\":null},\"fZaxis\":{\"_typename\":\"TAxis\",\"fUniqueID\":0,\"fBits\":50331648,\"fName\":\"zaxis\",\"fTitle\":\"\",\"fNdivisions\":510,\"fAxisColor\":1,\"fLabelColor\":1,\"fLabelFont\":42,\"fLabelOffset\":0.005,\"fLabelSize\":0.035,\"fTickLength\":0.03,\"fTitleOffset\":1,\"fTitleSize\":0.035,\"fTitleColor\":1,\"fTitleFont\":42,\"fNbins\":1,\"fXmin\":0,\"fXmax\":1,\"fXbins\":[],\"fFirst\":0,\"fLast\":0,\"fBits2\":0,\"fTimeDisplay\":false,\"fTimeFormat\":\"\",\"fLabels\":null,\"fModLabs\":null},\"fBarOffset\":0,\"fBarWidth\":1000,\"fEntries\":26,\"fTsumw\":0,\"fTsumw2\":0,\"fTsumwx\":0,\"fTsumwx2\":0,\"fMaximum\":-1111,\"fMinimum\":-1111,\"fNormFactor\":0,\"fContour\":[],\"fSumw2\":[],\"fOption\":\"\",\"fFunctions\":{\"_typename\":\"TList\",\"name\":\"TList\",\"arr\":[],\"opt\":[]},\"fBufferSize\":0,\"fBuffer\":[],\"fBinStatErrOpt\":0,\"fStatOverflows\":2,\"fArray\":[0,0,-1.44996584011837,-1.32913535344184,1.93328778682451,-1.08747438008878,2.17494876017755,2.29577924685408,2.41660973353061,2.53744022020714,2.65827070688367,2.7791011935602,2.89993168023673,3.02076216691326,3.14159265358979,-3.02076216691326,-2.89993168023673,-2.7791011935602,-2.65827070688367,-2.53744022020714,-2.41660973353061,-2.29577924685408,-2.17494876017755,1.08747438008878,-1.93328778682451,1.32913535344184,1.44996584011837,0]},{\"_typename\":\"TPaveText\",\"fUniqueID\":0,\"fBits\":50331657,\"fLineColor\":1,\"fLineStyle\":1,\"fLineWidth\":1,\"fFillColor\":0,\"fFillStyle\":0,\"fX1\":7.86906922840079,\"fY1\":3.80481618036281,\"fX2\":18.1309307715992,\"fY2\":4.27190343231841,\"fX1NDC\":0.342125209380234,\"fY1NDC\":0.940000003948808,\"fX2NDC\":0.657874790619766,\"fY2NDC\":0.995000004768372,\"fBorderSize\":0,\"fInit\":1,\"fShadowColor\":1,\"fCornerRadius\":0,\"fOption\":\"blNDC\",\"fName\":\"title\",\"fTextAngle\":0,\"fTextSize\":0,\"fTextAlign\":22,\"fTextColor\":1,\"fTextFont\":42,\"fLabel\":\"\",\"fLongest\":26,\"fMargin\":0.05,\"fLines\":{\"_typename\":\"TList\",\"name\":\"TList\",\"arr\":[{\"_typename\":\"TLatex\",\"fUniqueID\":0,\"fBits\":50331648,\"fName\":\"\",\"fTitle\":\"Phase of the 1st transform\",\"fTextAngle\":0,\"fTextSize\":0,\"fTextAlign\":0,\"fTextColor\":0,\"fTextFont\":0,\"fX\":0,\"fY\":0,\"fLineColor\":1,\"fLineStyle\":1,\"fLineWidth\":2,\"fLimitFactorSize\":3,\"fOriginSize\":0.0467500016093254}],\"opt\":[\"\"]}}],\"opt\":[\"\",\"\",\"blNDC\"]},\"fExecs\":{\"_typename\":\"TList\",\"name\":\"TList\",\"arr\":[],\"opt\":[]},\"fName\":\"c1_3\",\"fTitle\":\"c1_3\",\"fNumPaletteColor\":0,\"fNextPaletteColor\":0},{\"_typename\":\"TPad\",\"fUniqueID\":0,\"fBits\":50331657,\"fLineColor\":1,\"fLineStyle\":1,\"fLineWidth\":1,\"fFillColor\":30,\"fFillStyle\":1001,\"fLeftMargin\":0.1,\"fRightMargin\":0.1,\"fBottomMargin\":0.1,\"fTopMargin\":0.1,\"fXfile\":2,\"fYfile\":2,\"fAfile\":1,\"fXstat\":0.99,\"fYstat\":0.99,\"fAstat\":2,\"fFrameFillColor\":42,\"fFrameLineColor\":1,\"fFrameFillStyle\":1001,\"fFrameLineStyle\":1,\"fFrameLineWidth\":1,\"fFrameBorderSize\":1,\"fFrameBorderMode\":0,\"fX1\":-3.12500023283066,\"fY1\":-53.6496757159283,\"fX2\":28.1250002328307,\"fY2\":106.345706264055,\"fXtoAbsPixelk\":444.168052277374,\"fXtoPixelk\":38.2080522773744,\"fXtoPixel\":12.22655981781,\"fYtoAbsPixelk\":318.061080745884,\"fYtoPixelk\":117.861080745884,\"fYtoPixel\":-1.10828198792753,\"fUtoAbsPixelk\":405.96005,\"fUtoPixelk\":5e-5,\"fUtoPixel\":382.08,\"fVtoAbsPixelk\":377.52005,\"fVtoPixelk\":177.32,\"fVtoPixel\":-177.32,\"fAbsPixeltoXk\":-36.3281257275958,\"fPixeltoXk\":-3.12500023283066,\"fPixeltoX\":0.081789155322606,\"fAbsPixeltoYk\":286.98565366081,\"fPixeltoYk\":-53.6496757159283,\"fPixeltoY\":-0.902297439544233,\"fXlowNDC\":0.51,\"fYlowNDC\":0.34,\"fXUpNDC\":0,\"fYUpNDC\":0,\"fWNDC\":0.48,\"fHNDC\":0.31,\"fAbsXlowNDC\":0.51,\"fAbsYlowNDC\":0.34,\"fAbsWNDC\":0.48,\"fAbsHNDC\":0.31,\"fUxmin\":0,\"fUymin\":-37.6501365642832,\"fUxmax\":25,\"fUymax\":90.3461671124099,\"fTheta\":30,\"fPhi\":30,\"fAspectRatio\":0,\"fNumber\":0,\"fTickx\":0,\"fTicky\":0,\"fLogx\":0,\"fLogy\":0,\"fLogz\":0,\"fPadPaint\":0,\"fCrosshair\":0,\"fCrosshairPos\":0,\"fBorderSize\":2,\"fBorderMode\":0,\"fModified\":false,\"fGridx\":false,\"fGridy\":false,\"fAbsCoord\":false,\"fEditable\":true,\"fFixedAspectRatio\":false,\"fPrimitives\":{\"_typename\":\"TList\",\"name\":\"TList\",\"arr\":[{\"_typename\":\"TFrame\",\"fUniqueID\":0,\"fBits\":50331656,\"fLineColor\":1,\"fLineStyle\":1,\"fLineWidth\":1,\"fFillColor\":42,\"fFillStyle\":1001,\"fX1\":0,\"fY1\":-37.6501365642832,\"fX2\":25,\"fY2\":90.3461671124099,\"fBorderSize\":1,\"fBorderMode\":0},{\"_typename\":\"TH1D\",\"fUniqueID\":0,\"fBits\":50332168,\"fName\":\"out_RE\",\"fTitle\":\"The backward transform result\",\"fLineColor\":602,\"fLineStyle\":1,\"fLineWidth\":1,\"fFillColor\":0,\"fFillStyle\":1001,\"fMarkerColor\":1,\"fMarkerStyle\":1,\"fMarkerSize\":1,\"fNcells\":27,\"fXaxis\":{\"_typename\":\"TAxis\",\"fUniqueID\":0,\"fBits\":50331648,\"fName\":\"xaxis\",\"fTitle\":\"\",\"fNdivisions\":510,\"fAxisColor\":1,\"fLabelColor\":1,\"fLabelFont\":42,\"fLabelOffset\":0.005,\"fLabelSize\":0.05,\"fTickLength\":0.03,\"fTitleOffset\":1,\"fTitleSize\":0.035,\"fTitleColor\":1,\"fTitleFont\":42,\"fNbins\":25,\"fXmin\":0,\"fXmax\":25,\"fXbins\":[],\"fFirst\":0,\"fLast\":0,\"fBits2\":0,\"fTimeDisplay\":false,\"fTimeFormat\":\"\",\"fLabels\":null,\"fModLabs\":null},\"fYaxis\":{\"_typename\":\"TAxis\",\"fUniqueID\":0,\"fBits\":50331648,\"fName\":\"yaxis\",\"fTitle\":\"\",\"fNdivisions\":510,\"fAxisColor\":1,\"fLabelColor\":1,\"fLabelFont\":42,\"fLabelOffset\":0.005,\"fLabelSize\":0.05,\"fTickLength\":0.03,\"fTitleOffset\":0,\"fTitleSize\":0.035,\"fTitleColor\":1,\"fTitleFont\":42,\"fNbins\":1,\"fXmin\":0,\"fXmax\":1,\"fXbins\":[],\"fFirst\":0,\"fLast\":0,\"fBits2\":0,\"fTimeDisplay\":false,\"fTimeFormat\":\"\",\"fLabels\":null,\"fModLabs\":null},\"fZaxis\":{\"_typename\":\"TAxis\",\"fUniqueID\":0,\"fBits\":50331648,\"fName\":\"zaxis\",\"fTitle\":\"\",\"fNdivisions\":510,\"fAxisColor\":1,\"fLabelColor\":1,\"fLabelFont\":42,\"fLabelOffset\":0.005,\"fLabelSize\":0.035,\"fTickLength\":0.03,\"fTitleOffset\":1,\"fTitleSize\":0.035,\"fTitleColor\":1,\"fTitleFont\":42,\"fNbins\":1,\"fXmin\":0,\"fXmax\":1,\"fXbins\":[],\"fFirst\":0,\"fLast\":0,\"fBits2\":0,\"fTimeDisplay\":false,\"fTimeFormat\":\"\",\"fLabels\":null,\"fModLabs\":null},\"fBarOffset\":0,\"fBarWidth\":1000,\"fEntries\":25,\"fTsumw\":0,\"fTsumw2\":0,\"fTsumwx\":0,\"fTsumwx2\":0,\"fMaximum\":-1111,\"fMinimum\":-1111,\"fNormFactor\":0,\"fContour\":[],\"fSumw2\":[],\"fOption\":\"\",\"fFunctions\":{\"_typename\":\"TList\",\"name\":\"TList\",\"arr\":[],\"opt\":[]},\"fBufferSize\":0,\"fBuffer\":[],\"fBinStatErrOpt\":0,\"fStatOverflows\":2,\"fArray\":[0,26.9328403910066,67.8309349316481,84.2511050325674,70.340934352745,48.7431505520789,41.4728031299758,51.9522286412356,60.5549002787404,48.8871318748004,18.7841731360086,-5.76685592475499,-3.17181248194574,25.4029227112925,54.3335793910387,58.3671702316982,34.3239144163265,4.16097227784085,-8.68915969138152,-0.320278620942389,10.2056108448375,4.1098704338699,-17.7354200234245,-31.8453155358617,-17.5893175934825,24.4639172440822,0]},{\"_typename\":\"TPaveText\",\"fUniqueID\":0,\"fBits\":50331657,\"fLineColor\":1,\"fLineStyle\":1,\"fLineWidth\":1,\"fFillColor\":0,\"fFillStyle\":0,\"fX1\":6.78941574405139,\"fY1\":96.745983977047,\"fX2\":18.2105842559486,\"fY2\":105.545730117073,\"fX1NDC\":0.317261306532663,\"fY1NDC\":0.940000003948808,\"fX2NDC\":0.682738693467337,\"fY2NDC\":0.995000004768372,\"fBorderSize\":0,\"fInit\":1,\"fShadowColor\":1,\"fCornerRadius\":0,\"fOption\":\"blNDC\",\"fName\":\"title\",\"fTextAngle\":0,\"fTextSize\":0,\"fTextAlign\":22,\"fTextColor\":1,\"fTextFont\":42,\"fLabel\":\"\",\"fLongest\":29,\"fMargin\":0.05,\"fLines\":{\"_typename\":\"TList\",\"name\":\"TList\",\"arr\":[{\"_typename\":\"TLatex\",\"fUniqueID\":0,\"fBits\":50331648,\"fName\":\"\",\"fTitle\":\"The backward transform result\",\"fTextAngle\":0,\"fTextSize\":0,\"fTextAlign\":0,\"fTextColor\":0,\"fTextFont\":0,\"fX\":0,\"fY\":0,\"fLineColor\":1,\"fLineStyle\":1,\"fLineWidth\":2,\"fLimitFactorSize\":3,\"fOriginSize\":0.0467500016093254}],\"opt\":[\"\"]}}],\"opt\":[\"\",\"\",\"blNDC\"]},\"fExecs\":{\"_typename\":\"TList\",\"name\":\"TList\",\"arr\":[],\"opt\":[]},\"fName\":\"c1_4\",\"fTitle\":\"c1_4\",\"fNumPaletteColor\":0,\"fNextPaletteColor\":0},{\"_typename\":\"TPad\",\"fUniqueID\":0,\"fBits\":50331657,\"fLineColor\":1,\"fLineStyle\":1,\"fLineWidth\":1,\"fFillColor\":30,\"fFillStyle\":1001,\"fLeftMargin\":0.1,\"fRightMargin\":0.1,\"fBottomMargin\":0.1,\"fTopMargin\":0.1,\"fXfile\":2,\"fYfile\":2,\"fAfile\":1,\"fXstat\":0.99,\"fYstat\":0.99,\"fAstat\":2,\"fFrameFillColor\":42,\"fFrameLineColor\":1,\"fFrameFillStyle\":1001,\"fFrameLineStyle\":1,\"fFrameLineWidth\":1,\"fFrameBorderSize\":1,\"fFrameBorderMode\":0,\"fX1\":-3.25000024214388,\"fY1\":-7.17818101772273,\"fX2\":29.2500002421439,\"fY2\":31.3158413983867,\"fXtoAbsPixelk\":46.1680522773744,\"fXtoPixelk\":38.2080522773744,\"fXtoPixel\":11.756307517125,\"fYtoAbsPixelk\":533.214265284035,\"fYtoPixelk\":144.254265284035,\"fYtoPixel\":-4.60642948879754,\"fUtoAbsPixelk\":7.96005,\"fUtoPixelk\":5e-5,\"fUtoPixel\":382.08,\"fVtoAbsPixelk\":566.28005,\"fVtoPixelk\":177.32,\"fVtoPixel\":-177.32,\"fAbsPixeltoXk\":-3.92708358556655,\"fPixeltoXk\":-3.25000024214388,\"fPixeltoX\":0.0850607215355103,\"fAbsPixeltoYk\":115.754342182111,\"fPixeltoYk\":-7.17818101772273,\"fPixeltoY\":-0.217087877374856,\"fXlowNDC\":0.01,\"fYlowNDC\":0.01,\"fXUpNDC\":0,\"fYUpNDC\":0,\"fWNDC\":0.48,\"fHNDC\":0.31,\"fAbsXlowNDC\":0.01,\"fAbsYlowNDC\":0.01,\"fAbsWNDC\":0.48,\"fAbsHNDC\":0.31,\"fUxmin\":0,\"fUymin\":-3.32877854666953,\"fUxmax\":26,\"fUymax\":27.4664389273335,\"fTheta\":30,\"fPhi\":30,\"fAspectRatio\":0,\"fNumber\":0,\"fTickx\":0,\"fTicky\":0,\"fLogx\":0,\"fLogy\":0,\"fLogz\":0,\"fPadPaint\":0,\"fCrosshair\":0,\"fCrosshairPos\":0,\"fBorderSize\":2,\"fBorderMode\":0,\"fModified\":false,\"fGridx\":false,\"fGridy\":false,\"fAbsCoord\":false,\"fEditable\":true,\"fFixedAspectRatio\":false,\"fPrimitives\":{\"_typename\":\"TList\",\"name\":\"TList\",\"arr\":[{\"_typename\":\"TFrame\",\"fUniqueID\":0,\"fBits\":50331656,\"fLineColor\":1,\"fLineStyle\":1,\"fLineWidth\":1,\"fFillColor\":42,\"fFillStyle\":1001,\"fX1\":0,\"fY1\":-3.32877854666953,\"fX2\":26,\"fY2\":27.4664389273335,\"fBorderSize\":1,\"fBorderMode\":0},{\"_typename\":\"TH1D\",\"fUniqueID\":0,\"fBits\":50332168,\"fName\":\"out_RE\",\"fTitle\":\"Real part of the 3rd (array) tranfsorm\",\"fLineColor\":602,\"fLineStyle\":1,\"fLineWidth\":1,\"fFillColor\":0,\"fFillStyle\":1001,\"fMarkerColor\":1,\"fMarkerStyle\":1,\"fMarkerSize\":1,\"fNcells\":28,\"fXaxis\":{\"_typename\":\"TAxis\",\"fUniqueID\":0,\"fBits\":50331648,\"fName\":\"xaxis\",\"fTitle\":\"\",\"fNdivisions\":510,\"fAxisColor\":1,\"fLabelColor\":1,\"fLabelFont\":42,\"fLabelOffset\":0.005,\"fLabelSize\":0.05,\"fTickLength\":0.03,\"fTitleOffset\":1,\"fTitleSize\":0.035,\"fTitleColor\":1,\"fTitleFont\":42,\"fNbins\":26,\"fXmin\":0,\"fXmax\":26,\"fXbins\":[],\"fFirst\":0,\"fLast\":0,\"fBits2\":0,\"fTimeDisplay\":false,\"fTimeFormat\":\"\",\"fLabels\":null,\"fModLabs\":null},\"fYaxis\":{\"_typename\":\"TAxis\",\"fUniqueID\":0,\"fBits\":50331648,\"fName\":\"yaxis\",\"fTitle\":\"\",\"fNdivisions\":510,\"fAxisColor\":1,\"fLabelColor\":1,\"fLabelFont\":42,\"fLabelOffset\":0.005,\"fLabelSize\":0.05,\"fTickLength\":0.03,\"fTitleOffset\":0,\"fTitleSize\":0.035,\"fTitleColor\":1,\"fTitleFont\":42,\"fNbins\":1,\"fXmin\":0,\"fXmax\":1,\"fXbins\":[],\"fFirst\":0,\"fLast\":0,\"fBits2\":0,\"fTimeDisplay\":false,\"fTimeFormat\":\"\",\"fLabels\":null,\"fModLabs\":null},\"fZaxis\":{\"_typename\":\"TAxis\",\"fUniqueID\":0,\"fBits\":50331648,\"fName\":\"zaxis\",\"fTitle\":\"\",\"fNdivisions\":510,\"fAxisColor\":1,\"fLabelColor\":1,\"fLabelFont\":42,\"fLabelOffset\":0.005,\"fLabelSize\":0.035,\"fTickLength\":0.03,\"fTitleOffset\":1,\"fTitleSize\":0.035,\"fTitleColor\":1,\"fTitleFont\":42,\"fNbins\":1,\"fXmin\":0,\"fXmax\":1,\"fXbins\":[],\"fFirst\":0,\"fLast\":0,\"fBits2\":0,\"fTimeDisplay\":false,\"fTimeFormat\":\"\",\"fLabels\":null,\"fModLabs\":null},\"fBarOffset\":0,\"fBarWidth\":1000,\"fEntries\":26,\"fTsumw\":0,\"fTsumw2\":0,\"fTsumwx\":0,\"fTsumwx2\":0,\"fMaximum\":-1111,\"fMinimum\":-1111,\"fNormFactor\":0,\"fContour\":[],\"fSumw2\":[],\"fOption\":\"\",\"fFunctions\":{\"_typename\":\"TList\",\"name\":\"TList\",\"arr\":[],\"opt\":[]},\"fBufferSize\":0,\"fBuffer\":[],\"fBinStatErrOpt\":0,\"fStatOverflows\":2,\"fArray\":[0,26,1.63406098368439,2.982592395944,-0.116926893491249,5.18466305154383,-1.93217004444717,-1.30327158269124,-1.1194116362184,-1.03461350946334,-0.988071134876577,-0.960572710910446,-0.944278209212424,-0.935580514358063,-0.932840391006611,-0.935580514358063,-0.944278209212424,-0.960572710910446,-0.988071134876577,-1.03461350946334,-1.1194116362184,-1.30327158269124,-1.93217004444717,5.18466305154383,-0.116926893491249,2.982592395944,1.63406098368439,0]},{\"_typename\":\"TPaveText\",\"fUniqueID\":0,\"fBits\":50331657,\"fLineColor\":1,\"fLineStyle\":1,\"fLineWidth\":1,\"fFillColor\":0,\"fFillStyle\":0,\"fX1\":5.99773335461957,\"fY1\":28.7788223942115,\"fX2\":20.0022666453804,\"fY2\":31.1233714698599,\"fX1NDC\":0.284545644891122,\"fY1NDC\":0.934093169667988,\"fX2NDC\":0.715454355108878,\"fY2NDC\":0.995000004768372,\"fBorderSize\":0,\"fInit\":1,\"fShadowColor\":1,\"fCornerRadius\":0,\"fOption\":\"blNDC\",\"fName\":\"title\",\"fTextAngle\":0,\"fTextSize\":0,\"fTextAlign\":22,\"fTextColor\":1,\"fTextFont\":42,\"fLabel\":\"\",\"fLongest\":38,\"fMargin\":0.05,\"fLines\":{\"_typename\":\"TList\",\"name\":\"TList\",\"arr\":[{\"_typename\":\"TLatex\",\"fUniqueID\":0,\"fBits\":50331648,\"fName\":\"\",\"fTitle\":\"Real part of the 3rd (array) tranfsorm\",\"fTextAngle\":0,\"fTextSize\":0,\"fTextAlign\":0,\"fTextColor\":0,\"fTextFont\":0,\"fX\":0,\"fY\":0,\"fLineColor\":1,\"fLineStyle\":1,\"fLineWidth\":2,\"fLimitFactorSize\":3,\"fOriginSize\":0.0517708100378513}],\"opt\":[\"\"]}}],\"opt\":[\"\",\"\",\"blNDC\"]},\"fExecs\":{\"_typename\":\"TList\",\"name\":\"TList\",\"arr\":[],\"opt\":[]},\"fName\":\"c1_5\",\"fTitle\":\"c1_5\",\"fNumPaletteColor\":0,\"fNextPaletteColor\":0},{\"_typename\":\"TPad\",\"fUniqueID\":0,\"fBits\":50331657,\"fLineColor\":1,\"fLineStyle\":1,\"fLineWidth\":1,\"fFillColor\":30,\"fFillStyle\":1001,\"fLeftMargin\":0.1,\"fRightMargin\":0.1,\"fBottomMargin\":0.1,\"fTopMargin\":0.1,\"fXfile\":2,\"fYfile\":2,\"fAfile\":1,\"fXstat\":0.99,\"fYstat\":0.99,\"fAstat\":2,\"fFrameFillColor\":42,\"fFrameLineColor\":1,\"fFrameFillStyle\":1001,\"fFrameLineStyle\":1,\"fFrameLineWidth\":1,\"fFrameBorderSize\":1,\"fFrameBorderMode\":0,\"fX1\":-3.25000024214388,\"fY1\":-18.512752918248,\"fX2\":29.2500002421439,\"fY2\":18.5800414330754,\"fXtoAbsPixelk\":444.168052277374,\"fXtoPixelk\":38.2080522773744,\"fXtoPixel\":11.756307517125,\"fYtoAbsPixelk\":477.780884464723,\"fYtoPixelk\":88.8208844647235,\"fYtoPixel\":-4.78044329366286,\"fUtoAbsPixelk\":405.96005,\"fUtoPixelk\":5e-5,\"fUtoPixel\":382.08,\"fVtoAbsPixelk\":566.28005,\"fVtoPixelk\":177.32,\"fVtoPixel\":-177.32,\"fAbsPixeltoXk\":-37.7812507566996,\"fPixeltoXk\":-3.25000024214388,\"fPixeltoX\":0.0850607215355103,\"fAbsPixeltoYk\":99.9448806553333,\"fPixeltoYk\":-18.512752918248,\"fPixeltoY\":-0.209185621200787,\"fXlowNDC\":0.51,\"fYlowNDC\":0.01,\"fXUpNDC\":0,\"fYUpNDC\":0,\"fWNDC\":0.48,\"fHNDC\":0.31,\"fAbsXlowNDC\":0.51,\"fAbsYlowNDC\":0.01,\"fAbsWNDC\":0.48,\"fAbsHNDC\":0.31,\"fUxmin\":0,\"fUymin\":-14.8034732620254,\"fUxmax\":26,\"fUymax\":14.8707617768528,\"fTheta\":30,\"fPhi\":30,\"fAspectRatio\":0,\"fNumber\":0,\"fTickx\":0,\"fTicky\":0,\"fLogx\":0,\"fLogy\":0,\"fLogz\":0,\"fPadPaint\":0,\"fCrosshair\":0,\"fCrosshairPos\":0,\"fBorderSize\":2,\"fBorderMode\":0,\"fModified\":false,\"fGridx\":false,\"fGridy\":false,\"fAbsCoord\":false,\"fEditable\":true,\"fFixedAspectRatio\":false,\"fPrimitives\":{\"_typename\":\"TList\",\"name\":\"TList\",\"arr\":[{\"_typename\":\"TFrame\",\"fUniqueID\":0,\"fBits\":50331656,\"fLineColor\":1,\"fLineStyle\":1,\"fLineWidth\":1,\"fFillColor\":42,\"fFillStyle\":1001,\"fX1\":0,\"fY1\":-14.8034732620254,\"fX2\":26,\"fY2\":14.8707617768528,\"fBorderSize\":1,\"fBorderMode\":0},{\"_typename\":\"TH1D\",\"fUniqueID\":0,\"fBits\":50332168,\"fName\":\"out_IM\",\"fTitle\":\"Im. part of the 3rd (array) transform\",\"fLineColor\":602,\"fLineStyle\":1,\"fLineWidth\":1,\"fFillColor\":0,\"fFillStyle\":1001,\"fMarkerColor\":1,\"fMarkerStyle\":1,\"fMarkerSize\":1,\"fNcells\":28,\"fXaxis\":{\"_typename\":\"TAxis\",\"fUniqueID\":0,\"fBits\":50331648,\"fName\":\"xaxis\",\"fTitle\":\"\",\"fNdivisions\":510,\"fAxisColor\":1,\"fLabelColor\":1,\"fLabelFont\":42,\"fLabelOffset\":0.005,\"fLabelSize\":0.05,\"fTickLength\":0.03,\"fTitleOffset\":1,\"fTitleSize\":0.035,\"fTitleColor\":1,\"fTitleFont\":42,\"fNbins\":26,\"fXmin\":0,\"fXmax\":26,\"fXbins\":[],\"fFirst\":0,\"fLast\":0,\"fBits2\":0,\"fTimeDisplay\":false,\"fTimeFormat\":\"\",\"fLabels\":null,\"fModLabs\":null},\"fYaxis\":{\"_typename\":\"TAxis\",\"fUniqueID\":0,\"fBits\":50331648,\"fName\":\"yaxis\",\"fTitle\":\"\",\"fNdivisions\":510,\"fAxisColor\":1,\"fLabelColor\":1,\"fLabelFont\":42,\"fLabelOffset\":0.005,\"fLabelSize\":0.05,\"fTickLength\":0.03,\"fTitleOffset\":0,\"fTitleSize\":0.035,\"fTitleColor\":1,\"fTitleFont\":42,\"fNbins\":1,\"fXmin\":0,\"fXmax\":1,\"fXbins\":[],\"fFirst\":0,\"fLast\":0,\"fBits2\":0,\"fTimeDisplay\":false,\"fTimeFormat\":\"\",\"fLabels\":null,\"fModLabs\":null},\"fZaxis\":{\"_typename\":\"TAxis\",\"fUniqueID\":0,\"fBits\":50331648,\"fName\":\"zaxis\",\"fTitle\":\"\",\"fNdivisions\":510,\"fAxisColor\":1,\"fLabelColor\":1,\"fLabelFont\":42,\"fLabelOffset\":0.005,\"fLabelSize\":0.035,\"fTickLength\":0.03,\"fTitleOffset\":1,\"fTitleSize\":0.035,\"fTitleColor\":1,\"fTitleFont\":42,\"fNbins\":1,\"fXmin\":0,\"fXmax\":1,\"fXbins\":[],\"fFirst\":0,\"fLast\":0,\"fBits2\":0,\"fTimeDisplay\":false,\"fTimeFormat\":\"\",\"fLabels\":null,\"fModLabs\":null},\"fBarOffset\":0,\"fBarWidth\":1000,\"fEntries\":26,\"fTsumw\":0,\"fTsumw2\":0,\"fTsumwx\":0,\"fTsumwx2\":0,\"fMaximum\":-1111,\"fMinimum\":-1111,\"fNormFactor\":0,\"fContour\":[],\"fSumw2\":[],\"fOption\":\"\",\"fFunctions\":{\"_typename\":\"TList\",\"name\":\"TList\",\"arr\":[],\"opt\":[]},\"fBufferSize\":0,\"fBuffer\":[],\"fBinStatErrOpt\":0,\"fStatOverflows\":2,\"fArray\":[0,0,-13.4577029654776,-12.1008530309963,0.308310879561974,-9.87855010496158,2.79923156980486,1.47108951158192,0.9917121720544,0.71414214248262,0.518579735979533,0.364297176988342,0.232743675114342,0.11360004151746,0,-0.11360004151746,-0.232743675114342,-0.364297176988342,-0.518579735979533,-0.71414214248262,-0.9917121720544,-1.47108951158192,-2.79923156980486,9.87855010496158,-0.308310879561974,12.1008530309963,13.4577029654776,0]},{\"_typename\":\"TPaveText\",\"fUniqueID\":0,\"fBits\":50331657,\"fLineColor\":1,\"fLineStyle\":1,\"fLineWidth\":1,\"fFillColor\":0,\"fFillStyle\":0,\"fX1\":6.2529155192261,\"fY1\":16.1353729292225,\"fX2\":19.7470844807739,\"fY2\":18.394577638191,\"fX1NDC\":0.292397403685092,\"fY1NDC\":0.934093169667988,\"fX2NDC\":0.707602596314908,\"fY2NDC\":0.995000004768372,\"fBorderSize\":0,\"fInit\":1,\"fShadowColor\":1,\"fCornerRadius\":0,\"fOption\":\"blNDC\",\"fName\":\"title\",\"fTextAngle\":0,\"fTextSize\":0,\"fTextAlign\":22,\"fTextColor\":1,\"fTextFont\":42,\"fLabel\":\"\",\"fLongest\":37,\"fMargin\":0.05,\"fLines\":{\"_typename\":\"TList\",\"name\":\"TList\",\"arr\":[{\"_typename\":\"TLatex\",\"fUniqueID\":0,\"fBits\":50331648,\"fName\":\"\",\"fTitle\":\"Im. part of the 3rd (array) transform\",\"fTextAngle\":0,\"fTextSize\":0,\"fTextAlign\":0,\"fTextColor\":0,\"fTextFont\":0,\"fX\":0,\"fY\":0,\"fLineColor\":1,\"fLineStyle\":1,\"fLineWidth\":2,\"fLimitFactorSize\":3,\"fOriginSize\":0.0517708100378513}],\"opt\":[\"\"]}}],\"opt\":[\"\",\"\",\"blNDC\"]},\"fExecs\":{\"_typename\":\"TList\",\"name\":\"TList\",\"arr\":[],\"opt\":[]},\"fName\":\"c1_6\",\"fTitle\":\"c1_6\",\"fNumPaletteColor\":0,\"fNextPaletteColor\":0}],\"opt\":[\"\",\"\",\"\",\"\",\"\",\"\"]},\"fExecs\":null,\"fName\":\"myc\",\"fTitle\":\"Fast Fourier Transform\",\"fNumPaletteColor\":0,\"fNextPaletteColor\":0,\"fDISPLAY\":\"$DISPLAY\",\"fDoubleBuffer\":0,\"fRetained\":true,\"fXsizeUser\":0,\"fYsizeUser\":0,\"fXsizeReal\":20,\"fYsizeReal\":15,\"fWindowTopX\":0,\"fWindowTopY\":0,\"fWindowWidth\":0,\"fWindowHeight\":0,\"fCw\":796,\"fCh\":572,\"fCatt\":{\"_typename\":\"TAttCanvas\",\"fXBetween\":2,\"fYBetween\":2,\"fTitleFromTop\":1.2,\"fXdate\":0.2,\"fYdate\":0.3,\"fAdate\":1},\"kMoveOpaque\":true,\"kResizeOpaque\":true,\"fHighLightColor\":2,\"fBatch\":true,\"kShowEventStatus\":false,\"kAutoExec\":true,\"kMenuBar\":true});\n",
       "       Core.draw(\"root_plot_1\", obj, \"\");\n",
       "     }\n",
       " );\n",
       "</script>\n"
      ],
      "text/plain": [
       "<IPython.core.display.HTML object>"
      ]
     },
     "metadata": {},
     "output_type": "display_data"
    }
   ],
   "source": [
    "%jsroot on\n",
    "gROOT->GetListOfCanvases()->Draw()"
   ]
  }
 ],
 "metadata": {
  "kernelspec": {
   "display_name": "ROOT C++",
   "language": "c++",
   "name": "root"
  },
  "language_info": {
   "codemirror_mode": "text/x-c++src",
   "file_extension": ".C",
   "mimetype": " text/x-c++src",
   "name": "c++"
  }
 },
 "nbformat": 4,
 "nbformat_minor": 2
}
