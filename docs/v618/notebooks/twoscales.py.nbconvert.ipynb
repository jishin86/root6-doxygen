{
 "cells": [
  {
   "cell_type": "markdown",
   "metadata": {},
   "source": [
    "# Twoscales\n",
    "Example of macro illustrating how to superimpose two histograms\n",
    "with different scales in the \"same\" pad.\n",
    "Inspired by work of Rene Brun.\n",
    "\n",
    "\n",
    "\n",
    "\n",
    "**Author:** Alberto Ferro  \n",
    "<i><small>This notebook tutorial was automatically generated with <a href= \"https://github.com/root-project/root/blob/master/documentation/doxygen/converttonotebook.py\">ROOTBOOK-izer</a> from the macro found in the ROOT repository  on Thursday, August 29, 2019 at 02:00 AM.</small></i>"
   ]
  },
  {
   "cell_type": "markdown",
   "metadata": {},
   "source": [
    "nclude \"TCanvas.h\"\n",
    "nclude \"TStyle.h\"\n",
    "nclude \"TH1.h\"\n",
    "nclude \"TGaxis.h\"\n",
    "nclude \"TRandom.h\""
   ]
  },
  {
   "cell_type": "code",
   "execution_count": 1,
   "metadata": {
    "collapsed": false
   },
   "outputs": [
    {
     "name": "stdout",
     "output_type": "stream",
     "text": [
      "Welcome to JupyROOT 6.18/03\n"
     ]
    }
   ],
   "source": [
    "import ROOT\n",
    "\n",
    "c1 = ROOT.TCanvas(\"c1\",\"hists with different scales\",600,400)\n",
    "\n",
    "ROOT.gStyle.SetOptStat(False)\n",
    "\n",
    "h1 = ROOT.TH1F(\"h1\",\"my histogram\",100,-3,3)\n",
    "\n",
    "for i in range(10000) :\n",
    "    h1.Fill(ROOT.gRandom.Gaus(0,1))\n",
    "\n",
    "h1.Draw()\n",
    "\n",
    "hint1 = ROOT.TH1F(\"hint1\",\"h1 bins integral\",100,-3,3)\n",
    "\n",
    "sum = 0\n",
    "for i in range(1,101) :\n",
    "   sum += h1.GetBinContent(i)\n",
    "   hint1.SetBinContent(i,sum)\n",
    "\n",
    "rightmax = 1.1*hint1.GetMaximum();\n",
    "scale = ROOT.gPad.GetUymax()/rightmax;\n",
    "hint1.SetLineColor(ROOT.kRed)\n",
    "hint1.Scale(scale)\n",
    "hint1.Draw(\"same\")\n",
    "\n",
    "axis = ROOT.TGaxis(ROOT.gPad.GetUxmax(),ROOT.gPad.GetUymin(),\n",
    "      ROOT.gPad.GetUxmax(), ROOT.gPad.GetUymax(),0,rightmax,510,\"+L\")\n",
    "axis.SetLineColor(ROOT.kRed)\n",
    "axis.SetLabelColor(ROOT.kRed)\n",
    "axis.Draw()"
   ]
  },
  {
   "cell_type": "markdown",
   "metadata": {},
   "source": [
    "Draw all canvases "
   ]
  },
  {
   "cell_type": "code",
   "execution_count": 2,
   "metadata": {
    "collapsed": false
   },
   "outputs": [
    {
     "data": {
      "image/png": "[encoded data removed]",
      "text/plain": [
       "<IPython.core.display.Image object>"
      ]
     },
     "metadata": {},
     "output_type": "display_data"
    }
   ],
   "source": [
    "from ROOT import gROOT \n",
    "gROOT.GetListOfCanvases().Draw()"
   ]
  }
 ],
 "metadata": {
  "kernelspec": {
   "display_name": "Python 2",
   "language": "python",
   "name": "python2"
  },
  "language_info": {
   "codemirror_mode": {
    "name": "ipython",
    "version": 2
   },
   "file_extension": ".py",
   "mimetype": "text/x-python",
   "name": "python",
   "nbconvert_exporter": "python",
   "pygments_lexer": "ipython2",
   "version": "2.7.10"
  }
 },
 "nbformat": 4,
 "nbformat_minor": 2
}
