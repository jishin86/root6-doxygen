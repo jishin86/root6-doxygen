{
 "cells": [
  {
   "cell_type": "markdown",
   "metadata": {},
   "source": [
    "# Pyroot 0 0 2_ T Tree As Matrix\n",
    "This tutorial shows how a TTree can be quickly converted to a numpy array or\n",
    "a pandas.DataFrame.\n",
    "\n",
    "\n",
    "\n",
    "\n",
    "**Author:** Stefan Wunsch  \n",
    "<i><small>This notebook tutorial was automatically generated with <a href= \"https://github.com/root-project/root/blob/master/documentation/doxygen/converttonotebook.py\">ROOTBOOK-izer</a> from the macro found in the ROOT repository  on Thursday, August 29, 2019 at 02:30 AM.</small></i>"
   ]
  },
  {
   "cell_type": "code",
   "execution_count": 1,
   "metadata": {
    "collapsed": false
   },
   "outputs": [
    {
     "name": "stdout",
     "output_type": "stream",
     "text": [
      "Welcome to JupyROOT 6.18/03\n"
     ]
    }
   ],
   "source": [
    "import ROOT\n",
    "from sys import exit\n",
    "\n",
    "try:\n",
    "    import numpy as np\n",
    "except:\n",
    "    print(\"Failed to import numpy.\")\n",
    "    exit()"
   ]
  },
  {
   "cell_type": "markdown",
   "metadata": {},
   "source": [
    "Helper function to create an example tree"
   ]
  },
  {
   "cell_type": "code",
   "execution_count": 2,
   "metadata": {
    "collapsed": false
   },
   "outputs": [],
   "source": [
    "def make_example():\n",
    "    root_file = ROOT.TFile(\"pyroot002_example.root\", \"RECREATE\")\n",
    "    tree = ROOT.TTree(\"tree\", \"tutorial\")\n",
    "    x = np.empty((1), dtype=\"float32\")\n",
    "    y = np.empty((1), dtype=\"float32\")\n",
    "    tree.Branch(\"x\", x, \"x/F\")\n",
    "    tree.Branch(\"y\", y, \"y/F\")\n",
    "\n",
    "    for i in range(4):\n",
    "        x[0] = i\n",
    "        y[0] = -i\n",
    "        tree.Fill()\n",
    "    root_file.Write()\n",
    "\n",
    "    return (root_file, x, y), tree"
   ]
  },
  {
   "cell_type": "markdown",
   "metadata": {},
   "source": [
    "The conversion of the TTree to a numpy array is implemented with multi-\n",
    "thread support."
   ]
  },
  {
   "cell_type": "code",
   "execution_count": 3,
   "metadata": {
    "collapsed": false
   },
   "outputs": [],
   "source": [
    "ROOT.ROOT.EnableImplicitMT()"
   ]
  },
  {
   "cell_type": "markdown",
   "metadata": {},
   "source": [
    "Create a ROOT file with a tree and the branches \"x\" and \"y\""
   ]
  },
  {
   "cell_type": "code",
   "execution_count": 4,
   "metadata": {
    "collapsed": false
   },
   "outputs": [],
   "source": [
    "_, tree = make_example()"
   ]
  },
  {
   "cell_type": "markdown",
   "metadata": {},
   "source": [
    "Print content of the tree by looping explicitly"
   ]
  },
  {
   "cell_type": "code",
   "execution_count": 5,
   "metadata": {
    "collapsed": false
   },
   "outputs": [
    {
     "name": "stdout",
     "output_type": "stream",
     "text": [
      "Tree content:\n",
      "[[ 0.  0.]\n",
      " [ 1. -1.]\n",
      " [ 2. -2.]\n",
      " [ 3. -3.]]\n",
      "\n"
     ]
    }
   ],
   "source": [
    "print(\"Tree content:\\n{}\\n\".format(\n",
    "    np.asarray([[tree.x, tree.y] for event in tree])))"
   ]
  },
  {
   "cell_type": "markdown",
   "metadata": {},
   "source": [
    "Read-out full tree as numpy array"
   ]
  },
  {
   "cell_type": "code",
   "execution_count": 6,
   "metadata": {
    "collapsed": false
   },
   "outputs": [
    {
     "name": "stdout",
     "output_type": "stream",
     "text": [
      "Tree converted to a numpy array:\n",
      "[[ 0.  0.]\n",
      " [ 1. -1.]\n",
      " [ 2. -2.]\n",
      " [ 3. -3.]]\n",
      "\n"
     ]
    }
   ],
   "source": [
    "array = tree.AsMatrix()\n",
    "print(\"Tree converted to a numpy array:\\n{}\\n\".format(array))"
   ]
  },
  {
   "cell_type": "markdown",
   "metadata": {},
   "source": [
    "Get numpy array and according labels of the columns"
   ]
  },
  {
   "cell_type": "code",
   "execution_count": 7,
   "metadata": {
    "collapsed": false
   },
   "outputs": [
    {
     "name": "stdout",
     "output_type": "stream",
     "text": [
      "Return numpy array and labels:\n",
      "['x', 'y']\n",
      "[[ 0.  0.]\n",
      " [ 1. -1.]\n",
      " [ 2. -2.]\n",
      " [ 3. -3.]]\n",
      "\n"
     ]
    }
   ],
   "source": [
    "array, labels = tree.AsMatrix(return_labels=True)\n",
    "print(\"Return numpy array and labels:\\n{}\\n{}\\n\".format(labels, array))"
   ]
  },
  {
   "cell_type": "markdown",
   "metadata": {},
   "source": [
    "Apply numpy methods on the data"
   ]
  },
  {
   "cell_type": "code",
   "execution_count": 8,
   "metadata": {
    "collapsed": false
   },
   "outputs": [
    {
     "name": "stdout",
     "output_type": "stream",
     "text": [
      "Mean of the columns retrieved with a numpy method: [ 1.5 -1.5]\n",
      "\n"
     ]
    }
   ],
   "source": [
    "print(\"Mean of the columns retrieved with a numpy method: {}\\n\".format(\n",
    "    np.mean(array, axis=0)))"
   ]
  },
  {
   "cell_type": "markdown",
   "metadata": {},
   "source": [
    "Read only specific branches"
   ]
  },
  {
   "cell_type": "code",
   "execution_count": 9,
   "metadata": {
    "collapsed": false
   },
   "outputs": [
    {
     "name": "stdout",
     "output_type": "stream",
     "text": [
      "Only the content of the branch 'x':\n",
      "[0. 1. 2. 3.]\n",
      "\n",
      "Read all branches except 'x':\n",
      "[ 0. -1. -2. -3.]\n",
      "\n"
     ]
    }
   ],
   "source": [
    "array = tree.AsMatrix(columns=[\"x\"])\n",
    "print(\"Only the content of the branch 'x':\\n{}\\n\".format(np.squeeze(array)))\n",
    "\n",
    "array = tree.AsMatrix(exclude=[\"x\"])\n",
    "print(\"Read all branches except 'x':\\n{}\\n\".format(np.squeeze(array)))"
   ]
  },
  {
   "cell_type": "markdown",
   "metadata": {},
   "source": [
    "Get an array with a specific data-type"
   ]
  },
  {
   "cell_type": "code",
   "execution_count": 10,
   "metadata": {
    "collapsed": false
   },
   "outputs": [
    {
     "name": "stdout",
     "output_type": "stream",
     "text": [
      "Return numpy array with data-type 'int':\n",
      "[[ 0  0]\n",
      " [ 1 -1]\n",
      " [ 2 -2]\n",
      " [ 3 -3]]\n",
      "\n"
     ]
    }
   ],
   "source": [
    "array = tree.AsMatrix(dtype=\"int\")\n",
    "print(\"Return numpy array with data-type 'int':\\n{}\\n\".format(array))"
   ]
  },
  {
   "cell_type": "markdown",
   "metadata": {},
   "source": [
    " Convert the tree to a pandas.DataFrame"
   ]
  },
  {
   "cell_type": "code",
   "execution_count": 11,
   "metadata": {
    "collapsed": false
   },
   "outputs": [
    {
     "name": "stdout",
     "output_type": "stream",
     "text": [
      "Tree converted to a pandas.DataFrame:\n",
      "     x    y\n",
      "0  0.0  0.0\n",
      "1  1.0 -1.0\n",
      "2  2.0 -2.0\n",
      "3  3.0 -3.0\n"
     ]
    }
   ],
   "source": [
    "try:\n",
    "    import pandas\n",
    "except:\n",
    "    print(\"Failed to import pandas.\")\n",
    "    exit()\n",
    "\n",
    "data, columns = tree.AsMatrix(return_labels=True)\n",
    "df = pandas.DataFrame(data=data, columns=columns)\n",
    "print(\"Tree converted to a pandas.DataFrame:\\n{}\".format(df))"
   ]
  }
 ],
 "metadata": {
  "kernelspec": {
   "display_name": "Python 2",
   "language": "python",
   "name": "python2"
  },
  "language_info": {
   "codemirror_mode": {
    "name": "ipython",
    "version": 2
   },
   "file_extension": ".py",
   "mimetype": "text/x-python",
   "name": "python",
   "nbconvert_exporter": "python",
   "pygments_lexer": "ipython2",
   "version": "2.7.10"
  }
 },
 "nbformat": 4,
 "nbformat_minor": 2
}
