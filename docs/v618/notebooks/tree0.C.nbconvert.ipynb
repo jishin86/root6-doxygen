{
 "cells": [
  {
   "cell_type": "markdown",
   "metadata": {},
   "source": [
    "# Tree 0\n",
    "Simple Event class example\n",
    "\n",
    "execute as: .x tree0.C++\n",
    "\n",
    " You have to copy it first to a directory where you have write access!\n",
    " Note that .x tree0.C cannot work with this example\n",
    "\n",
    "### Effect of ClassDef() and ClassImp() macros\n",
    "\n",
    "After running this macro create an instance of Det and Event\n",
    "\n",
    "```\n",
    "  Det d;\n",
    "  Event e;\n",
    "```\n",
    "\n",
    "now you can see the effect of the  ClassDef() and ClassImp() macros.\n",
    "(for the Det class these commands are commented!)\n",
    "For instance 'e' now knows who it is:\n",
    "\n",
    "```\n",
    "  cout<<e.Class_Name()<<endl;\n",
    "```\n",
    "\n",
    "whereas d does not.\n",
    "\n",
    "The methods that are added by the ClassDef()/Imp() marcro can be listed with\n",
    "\n",
    "```\n",
    ".class\n",
    "  .class Event\n",
    "  .class Det\n",
    "```\n",
    "\n",
    "\n",
    "\n",
    "\n",
    "**Author:** Heiko.Scheit@mpi-hd.mpg.de  \n",
    "<i><small>This notebook tutorial was automatically generated with <a href= \"https://github.com/root-project/root/blob/master/documentation/doxygen/converttonotebook.py\">ROOTBOOK-izer</a> from the macro found in the ROOT repository  on Thursday, August 29, 2019 at 03:57 AM.</small></i>"
   ]
  },
  {
   "cell_type": "code",
   "execution_count": 1,
   "metadata": {
    "collapsed": false
   },
   "outputs": [],
   "source": [
    "%%cpp -d\n",
    "#include <TRandom.h>\n",
    "#include <TTree.h>\n",
    "#include <TCanvas.h>\n",
    "#include <TStyle.h>\n",
    "\n",
    "#include <Riostream.h>"
   ]
  },
  {
   "cell_type": "markdown",
   "metadata": {},
   "source": [
    "Class det  : public tobject  {"
   ]
  },
  {
   "cell_type": "code",
   "execution_count": 2,
   "metadata": {
    "collapsed": false
   },
   "outputs": [
    {
     "name": "stderr",
     "output_type": "stream",
     "text": [
      "Unbalanced braces. This cell was not processed.\n"
     ]
    }
   ],
   "source": [
    "class Det {  // each detector gives an energy and time signal\n",
    "public:\n",
    "  Double_t e; //energy\n",
    "  Double_t t; //time"
   ]
  },
  {
   "cell_type": "markdown",
   "metadata": {},
   "source": [
    "Classdef(det,1)"
   ]
  },
  {
   "cell_type": "code",
   "execution_count": 3,
   "metadata": {
    "collapsed": false
   },
   "outputs": [
    {
     "name": "stderr",
     "output_type": "stream",
     "text": [
      "input_line_32:4:1: error: extraneous closing brace ('}')\n",
      "}\n",
      "^\n"
     ]
    }
   ],
   "source": [
    "};"
   ]
  },
  {
   "cell_type": "markdown",
   "metadata": {},
   "source": [
    "Classimp(det)"
   ]
  },
  {
   "cell_type": "markdown",
   "metadata": {},
   "source": [
    "Class event { //tobject is not required by this example"
   ]
  },
  {
   "cell_type": "code",
   "execution_count": 4,
   "metadata": {
    "collapsed": false
   },
   "outputs": [
    {
     "name": "stderr",
     "output_type": "stream",
     "text": [
      "input_line_33:4:3: error: unknown type name 'Det'\n",
      "  Det a; // say there are two detectors (a and b) in the experiment\n",
      "  ^\n",
      "input_line_33:5:3: error: unknown type name 'Det'\n",
      "  Det b;\n",
      "  ^\n"
     ]
    }
   ],
   "source": [
    "class Event : public TObject {\n",
    "public:\n",
    "\n",
    "  Det a; // say there are two detectors (a and b) in the experiment\n",
    "  Det b;\n",
    "  ClassDef(Event,1)\n",
    "};\n",
    "\n",
    "ClassImp(Event)"
   ]
  },
  {
   "cell_type": "code",
   "execution_count": 5,
   "metadata": {
    "collapsed": false
   },
   "outputs": [
    {
     "name": "stderr",
     "output_type": "stream",
     "text": [
      "input_line_34:4:18: error: unknown type name 'Event'\n",
      "  Event *e = new Event;\n",
      "                 ^\n",
      "input_line_34:7:25: error: use of undeclared identifier 'e'\n",
      "  tree->Branch(\"event\",&e);\n",
      "                        ^\n",
      "input_line_34:16:2: error: use of undeclared identifier 'e'\n",
      " e->a.e=ea;\n",
      " ^\n",
      "input_line_34:17:2: error: use of undeclared identifier 'e'\n",
      " e->b.e=eb;\n",
      " ^\n",
      "input_line_34:18:2: error: use of undeclared identifier 'e'\n",
      " e->a.t=gRandom->Rndm();  // random\n",
      " ^\n",
      "input_line_34:19:2: error: use of undeclared identifier 'e'\n",
      " e->b.t=e->a.t + gRandom->Gaus(0.,.1);  // identical to a.t but a gaussian\n",
      " ^\n",
      "input_line_34:19:9: error: use of undeclared identifier 'e'\n",
      " e->b.t=e->a.t + gRandom->Gaus(0.,.1);  // identical to a.t but a gaussian\n",
      "        ^\n"
     ]
    }
   ],
   "source": [
    "  // create a TTree\n",
    "  TTree *tree = new TTree(\"tree\",\"treelibrated tree\");\n",
    "  Event *e = new Event;\n",
    "\n",
    "  // create a branch with energy\n",
    "  tree->Branch(\"event\",&e);\n",
    "\n",
    "  // fill some events with random numbers\n",
    "  Int_t nevent=10000;\n",
    "  for (Int_t iev=0;iev<nevent;iev++) {\n",
    " if (iev%1000==0) cout<<\"Processing event \"<<iev<<\"...\"<<endl;\n",
    "\n",
    " Float_t ea,eb;\n",
    " gRandom->Rannor(ea,eb); // the two energies follow a gaus distribution\n",
    " e->a.e=ea;\n",
    " e->b.e=eb;\n",
    " e->a.t=gRandom->Rndm();  // random\n",
    " e->b.t=e->a.t + gRandom->Gaus(0.,.1);  // identical to a.t but a gaussian\n",
    "                                        // 'resolution' was added with sigma .1\n",
    "\n",
    " tree->Fill();  // fill the tree with the current event\n",
    "  }\n",
    "\n",
    "  // start the viewer\n",
    "  // here you can investigate the structure of your Event class\n",
    "  tree->StartViewer();\n",
    "\n",
    "  //gROOT->SetStyle(\"Plain\");   // uncomment to set a different style\n",
    "\n",
    "  // now draw some tree variables\n",
    "  TCanvas *c1 = new TCanvas();\n",
    "  c1->Divide(2,2);\n",
    "  c1->cd(1);\n",
    "  tree->Draw(\"a.e\");  //energy of det a\n",
    "  tree->Draw(\"a.e\",\"3*(-.2<b.e && b.e<.2)\",\"same\");  // same but with condition on energy b; scaled by 3\n",
    "  c1->cd(2);\n",
    "  tree->Draw(\"b.e:a.e\",\"\",\"colz\");        // one energy against the other\n",
    "  c1->cd(3);\n",
    "  tree->Draw(\"b.t\",\"\",\"e\");    // time of b with errorbars\n",
    "  tree->Draw(\"a.t\",\"\",\"same\"); // overlay time of detector a\n",
    "  c1->cd(4);\n",
    "  tree->Draw(\"b.t:a.t\");       // plot time b again time a\n",
    "\n",
    "  cout<<endl;\n",
    "  cout<<\"You can now examine the structure of your tree in the TreeViewer\"<<endl;\n",
    "  cout<<endl;"
   ]
  }
 ],
 "metadata": {
  "kernelspec": {
   "display_name": "ROOT C++",
   "language": "c++",
   "name": "root"
  },
  "language_info": {
   "codemirror_mode": "text/x-c++src",
   "file_extension": ".C",
   "mimetype": " text/x-c++src",
   "name": "c++"
  }
 },
 "nbformat": 4,
 "nbformat_minor": 2
}
