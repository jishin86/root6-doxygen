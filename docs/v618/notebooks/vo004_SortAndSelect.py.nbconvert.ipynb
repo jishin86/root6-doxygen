{
 "cells": [
  {
   "cell_type": "markdown",
   "metadata": {},
   "source": [
    "# Vo 0 0 4_ Sort And Select\n",
    "In this tutorial we learn how elements of an RVec can be easily sorted and\n",
    "selected.\n",
    "\n",
    "\n",
    "\n",
    "\n",
    "**Author:** Stefan Wunsch  \n",
    "<i><small>This notebook tutorial was automatically generated with <a href= \"https://github.com/root-project/root/blob/master/documentation/doxygen/converttonotebook.py\">ROOTBOOK-izer</a> from the macro found in the ROOT repository  on Thursday, August 29, 2019 at 04:06 AM.</small></i>"
   ]
  },
  {
   "cell_type": "code",
   "execution_count": 1,
   "metadata": {
    "collapsed": false
   },
   "outputs": [
    {
     "name": "stdout",
     "output_type": "stream",
     "text": [
      "Welcome to JupyROOT 6.18/03\n"
     ]
    }
   ],
   "source": [
    "import ROOT\n",
    "from ROOT.VecOps import RVec, Argsort, Take, Sort, Reverse"
   ]
  },
  {
   "cell_type": "markdown",
   "metadata": {},
   "source": [
    "RVec can be sorted in Python with the inbuilt sorting function because\n",
    "PyROOT implements a Python iterator"
   ]
  },
  {
   "cell_type": "code",
   "execution_count": 2,
   "metadata": {
    "collapsed": false
   },
   "outputs": [
    {
     "name": "stdout",
     "output_type": "stream",
     "text": [
      "Sort vector { 6.0000000, 4.0000000, 5.0000000 }: [4.0, 5.0, 6.0]\n"
     ]
    }
   ],
   "source": [
    "v1 = RVec(\"double\")(3)\n",
    "v1[0], v1[1], v1[2] = 6, 4, 5\n",
    "v2 = sorted(v1)\n",
    "print(\"Sort vector {}: {}\".format(v1, v2))"
   ]
  },
  {
   "cell_type": "markdown",
   "metadata": {},
   "source": [
    "For convenience, ROOT implements helpers, e.g., to get a sorted copy of\n",
    "an RVec ..."
   ]
  },
  {
   "cell_type": "code",
   "execution_count": 3,
   "metadata": {
    "collapsed": false
   },
   "outputs": [
    {
     "name": "stdout",
     "output_type": "stream",
     "text": [
      "Sort vector { 6.0000000, 4.0000000, 5.0000000 }: { 4.0000000, 5.0000000, 6.0000000 }\n"
     ]
    }
   ],
   "source": [
    "v2 = Sort(v1);\n",
    "print(\"Sort vector {}: {}\".format(v1, v2))"
   ]
  },
  {
   "cell_type": "markdown",
   "metadata": {},
   "source": [
    "... or a reversed copy of an RVec."
   ]
  },
  {
   "cell_type": "code",
   "execution_count": 4,
   "metadata": {
    "collapsed": false
   },
   "outputs": [
    {
     "name": "stdout",
     "output_type": "stream",
     "text": [
      "Reverse vector { 6.0000000, 4.0000000, 5.0000000 }: { 5.0000000, 4.0000000, 6.0000000 }\n"
     ]
    }
   ],
   "source": [
    "v2 = Reverse(v1);\n",
    "print(\"Reverse vector {}: {}\".format(v1, v2))"
   ]
  },
  {
   "cell_type": "markdown",
   "metadata": {},
   "source": [
    "Helpers are provided to get the indices that sort the vector and to\n",
    "select these indices from an RVec."
   ]
  },
  {
   "cell_type": "code",
   "execution_count": 5,
   "metadata": {
    "collapsed": false
   },
   "outputs": [
    {
     "name": "stdout",
     "output_type": "stream",
     "text": [
      "Indices that sort the vector { 6.0000000, 4.0000000, 5.0000000 }: { 1, 2, 0 }\n",
      "Sort vector { 9.0000000, 7.0000000, 8.0000000 } respective to the previously determined indices: { 7.0000000, 8.0000000, 9.0000000 }\n"
     ]
    }
   ],
   "source": [
    "v2 = Argsort(v1)\n",
    "print(\"Indices that sort the vector {}: {}\".format(v1, v2))\n",
    "\n",
    "v3 = RVec(\"double\")(3)\n",
    "v3[0], v3[1], v3[2] = 9, 7, 8\n",
    "v4 = Take(v3, v2)\n",
    "print(\"Sort vector {} respective to the previously determined indices: {}\".format(v3, v4))"
   ]
  },
  {
   "cell_type": "markdown",
   "metadata": {},
   "source": [
    "Take can also be used to get the first or last elements of an RVec."
   ]
  },
  {
   "cell_type": "code",
   "execution_count": 6,
   "metadata": {
    "collapsed": false
   },
   "outputs": [
    {
     "name": "stdout",
     "output_type": "stream",
     "text": [
      "Take the two first and last elements of vector { 6.0000000, 4.0000000, 5.0000000 }: { 6.0000000, 4.0000000 }, { 4.0000000, 5.0000000 }\n"
     ]
    }
   ],
   "source": [
    "v2 = Take(v1, 2)\n",
    "v3 = Take(v1, -2)\n",
    "print(\"Take the two first and last elements of vector {}: {}, {}\".format(v1, v2, v3))"
   ]
  },
  {
   "cell_type": "markdown",
   "metadata": {},
   "source": [
    "Because the VecOps helpers return a copy of the input, you can chain the operations\n",
    "conveniently."
   ]
  },
  {
   "cell_type": "code",
   "execution_count": 7,
   "metadata": {
    "collapsed": false
   },
   "outputs": [
    {
     "name": "stdout",
     "output_type": "stream",
     "text": [
      "Sort the vector { 6.0000000, 4.0000000, 5.0000000 }, take the two last elements and reverse the selection: { 6.0000000, 5.0000000 }\n"
     ]
    }
   ],
   "source": [
    "v2 = Reverse(Take(Sort(v1), -2))\n",
    "print(\"Sort the vector {}, take the two last elements and reverse the selection: {}\".format(v1, v2))"
   ]
  }
 ],
 "metadata": {
  "kernelspec": {
   "display_name": "Python 2",
   "language": "python",
   "name": "python2"
  },
  "language_info": {
   "codemirror_mode": {
    "name": "ipython",
    "version": 2
   },
   "file_extension": ".py",
   "mimetype": "text/x-python",
   "name": "python",
   "nbconvert_exporter": "python",
   "pygments_lexer": "ipython2",
   "version": "2.7.10"
  }
 },
 "nbformat": 4,
 "nbformat_minor": 2
}
