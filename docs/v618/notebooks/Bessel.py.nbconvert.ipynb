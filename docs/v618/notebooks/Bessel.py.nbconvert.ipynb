{
 "cells": [
  {
   "cell_type": "markdown",
   "metadata": {},
   "source": [
    "#  Bessel\n",
    "Show the different kinds of Bessel functions available in ROOT\n",
    "To execute the macro type in:\n",
    "\n",
    "```cpp\n",
    "root[0] .x Bessel.C\n",
    "```\n",
    "\n",
    "It will create one canvas with the representation\n",
    "of the  cylindrical and spherical Bessel functions\n",
    "regular and modified\n",
    "\n",
    "Based on Bessel.C by Magdalena Slawinska\n",
    "\n",
    "\n",
    "\n",
    "\n",
    "**Author:** Juan Fernando Jaramillo Botero  \n",
    "<i><small>This notebook tutorial was automatically generated with <a href= \"https://github.com/root-project/root/blob/master/documentation/doxygen/converttonotebook.py\">ROOTBOOK-izer</a> from the macro found in the ROOT repository  on Thursday, August 29, 2019 at 02:05 AM.</small></i>"
   ]
  },
  {
   "cell_type": "code",
   "execution_count": 1,
   "metadata": {
    "collapsed": false
   },
   "outputs": [
    {
     "name": "stdout",
     "output_type": "stream",
     "text": [
      "Welcome to JupyROOT 6.18/03\n"
     ]
    }
   ],
   "source": [
    "from ROOT import TCanvas, TF1, gSystem, gPad, TLegend, TPaveLabel, kBlack\n",
    "\n",
    "\n",
    "gSystem.Load(\"libMathMore\")\n",
    "\n",
    "DistCanvas = TCanvas(\"DistCanvas\", \"Bessel functions example\", 10, 10, 800, 600)\n",
    "DistCanvas.SetFillColor(17)\n",
    "DistCanvas.Divide(2, 2)\n",
    "DistCanvas.cd(1)\n",
    "gPad.SetGrid()\n",
    "gPad.SetFrameFillColor(19)\n",
    "leg = TLegend(0.75, 0.7, 0.89, 0.89)"
   ]
  },
  {
   "cell_type": "markdown",
   "metadata": {},
   "source": [
    "Drawing the set of Bessel J functions\n",
    "\n",
    "n is the number of functions in each pad"
   ]
  },
  {
   "cell_type": "code",
   "execution_count": 2,
   "metadata": {
    "collapsed": false
   },
   "outputs": [],
   "source": [
    "n = 5\n",
    "JBessel = []\n",
    "for nu in range(n):\n",
    "    jbessel = TF1(\"J_0\", \"ROOT::Math::cyl_bessel_j([0],x)\", 0, 10)\n",
    "    jbessel.SetParameters(nu, 0.0)\n",
    "    jbessel.SetTitle(\"\")\n",
    "    jbessel.SetLineStyle(1)\n",
    "    jbessel.SetLineWidth(3)\n",
    "    jbessel.SetLineColor(nu + 1)\n",
    "    JBessel.append(jbessel)"
   ]
  },
  {
   "cell_type": "markdown",
   "metadata": {},
   "source": [
    "Setting x axis for JBessel"
   ]
  },
  {
   "cell_type": "code",
   "execution_count": 3,
   "metadata": {
    "collapsed": false
   },
   "outputs": [],
   "source": [
    "xaxis = JBessel[0].GetXaxis()\n",
    "xaxis.SetTitle(\"x\")\n",
    "xaxis.SetTitleSize(0.06)\n",
    "xaxis.SetTitleOffset(.7)"
   ]
  },
  {
   "cell_type": "markdown",
   "metadata": {},
   "source": [
    "setting the title in a label style"
   ]
  },
  {
   "cell_type": "code",
   "execution_count": 4,
   "metadata": {
    "collapsed": false
   },
   "outputs": [],
   "source": [
    "p1 = TPaveLabel(.0, .90, .0 + .50, .90 + .10, \"Bessel J functions\", \"NDC\")\n",
    "p1.SetFillColor(0)\n",
    "p1.SetTextFont(22)\n",
    "p1.SetTextColor(kBlack)"
   ]
  },
  {
   "cell_type": "markdown",
   "metadata": {},
   "source": [
    "setting the legend"
   ]
  },
  {
   "cell_type": "code",
   "execution_count": 5,
   "metadata": {
    "collapsed": false
   },
   "outputs": [],
   "source": [
    "leg.AddEntry(JBessel[0].DrawCopy(), \" J_0(x)\", \"l\")\n",
    "leg.AddEntry(JBessel[1].DrawCopy(\"same\"), \" J_1(x)\", \"l\")\n",
    "leg.AddEntry(JBessel[2].DrawCopy(\"same\"), \" J_2(x)\", \"l\")\n",
    "leg.AddEntry(JBessel[3].DrawCopy(\"same\"), \" J_3(x)\", \"l\")\n",
    "leg.AddEntry(JBessel[4].DrawCopy(\"same\"), \" J_4(x)\", \"l\")\n",
    "\n",
    "leg.Draw()\n",
    "p1.Draw()"
   ]
  },
  {
   "cell_type": "markdown",
   "metadata": {},
   "source": [
    "Set canvas 2"
   ]
  },
  {
   "cell_type": "code",
   "execution_count": 6,
   "metadata": {
    "collapsed": false
   },
   "outputs": [],
   "source": [
    "DistCanvas.cd(2)\n",
    "gPad.SetGrid()\n",
    "gPad.SetFrameFillColor(19)\n",
    "leg2 = TLegend(0.75, 0.7, 0.89, 0.89)"
   ]
  },
  {
   "cell_type": "markdown",
   "metadata": {},
   "source": [
    "Drawing Bessel k"
   ]
  },
  {
   "cell_type": "code",
   "execution_count": 7,
   "metadata": {
    "collapsed": false
   },
   "outputs": [],
   "source": [
    "KBessel = []\n",
    "for nu in range(n):\n",
    "    kbessel = TF1(\"J_0\", \"ROOT::Math::cyl_bessel_k([0],x)\", 0, 10)\n",
    "    kbessel.SetParameters(nu, 0.0)\n",
    "    kbessel.SetTitle(\"Bessel K functions\")\n",
    "    kbessel.SetLineStyle(1)\n",
    "    kbessel.SetLineWidth(3)\n",
    "    kbessel.SetLineColor(nu+1)\n",
    "    KBessel.append(kbessel)\n",
    "kxaxis = KBessel[0].GetXaxis()\n",
    "kxaxis.SetTitle(\"x\")\n",
    "kxaxis.SetTitleSize(0.06)\n",
    "kxaxis.SetTitleOffset(.7)"
   ]
  },
  {
   "cell_type": "markdown",
   "metadata": {},
   "source": [
    "setting title"
   ]
  },
  {
   "cell_type": "code",
   "execution_count": 8,
   "metadata": {
    "collapsed": false
   },
   "outputs": [],
   "source": [
    "p2 = TPaveLabel(.0, .90, .0 + .50, .90 + .10, \"Bessel K functions\", \"NDC\")\n",
    "p2.SetFillColor(0)\n",
    "p2.SetTextFont(22)\n",
    "p2.SetTextColor(kBlack)"
   ]
  },
  {
   "cell_type": "markdown",
   "metadata": {},
   "source": [
    "setting legend"
   ]
  },
  {
   "cell_type": "code",
   "execution_count": 9,
   "metadata": {
    "collapsed": false
   },
   "outputs": [],
   "source": [
    "leg2.AddEntry(KBessel[0].DrawCopy(), \" K_0(x)\", \"l\")\n",
    "leg2.AddEntry(KBessel[1].DrawCopy(\"same\"), \" K_1(x)\", \"l\")\n",
    "leg2.AddEntry(KBessel[2].DrawCopy(\"same\"), \" K_2(x)\", \"l\")\n",
    "leg2.AddEntry(KBessel[3].DrawCopy(\"same\"), \" K_3(x)\", \"l\")\n",
    "leg2.AddEntry(KBessel[4].DrawCopy(\"same\"), \" K_4(x)\", \"l\")\n",
    "leg2.Draw()\n",
    "p2.Draw()"
   ]
  },
  {
   "cell_type": "markdown",
   "metadata": {},
   "source": [
    "Set canvas 3"
   ]
  },
  {
   "cell_type": "code",
   "execution_count": 10,
   "metadata": {
    "collapsed": false
   },
   "outputs": [],
   "source": [
    "DistCanvas.cd(3)\n",
    "gPad.SetGrid()\n",
    "gPad.SetFrameFillColor(19)\n",
    "leg3 = TLegend(0.75, 0.7, 0.89, 0.89)"
   ]
  },
  {
   "cell_type": "markdown",
   "metadata": {},
   "source": [
    "Drawing Bessel i"
   ]
  },
  {
   "cell_type": "code",
   "execution_count": 11,
   "metadata": {
    "collapsed": false
   },
   "outputs": [],
   "source": [
    "iBessel = []\n",
    "for nu in range(5):\n",
    "    ibessel = TF1(\"J_0\", \"ROOT::Math::cyl_bessel_i([0],x)\", 0, 10)\n",
    "    ibessel.SetParameters(nu, 0.0)\n",
    "    ibessel.SetTitle(\"Bessel I functions\")\n",
    "    ibessel.SetLineStyle(1)\n",
    "    ibessel.SetLineWidth(3)\n",
    "    ibessel.SetLineColor(nu + 1)\n",
    "    iBessel.append(ibessel)\n",
    "\n",
    "iaxis = iBessel[0].GetXaxis()\n",
    "iaxis.SetTitle(\"x\")\n",
    "iaxis.SetTitleSize(0.06)\n",
    "iaxis.SetTitleOffset(.7)"
   ]
  },
  {
   "cell_type": "markdown",
   "metadata": {},
   "source": [
    "setting title"
   ]
  },
  {
   "cell_type": "code",
   "execution_count": 12,
   "metadata": {
    "collapsed": false
   },
   "outputs": [],
   "source": [
    "p3 = TPaveLabel(.0, .90, .0 + .50, .90 + .10, \"Bessel I functions\", \"NDC\")\n",
    "p3.SetFillColor(0)\n",
    "p3.SetTextFont(22)\n",
    "p3.SetTextColor(kBlack)"
   ]
  },
  {
   "cell_type": "markdown",
   "metadata": {},
   "source": [
    "setting legend"
   ]
  },
  {
   "cell_type": "code",
   "execution_count": 13,
   "metadata": {
    "collapsed": false
   },
   "outputs": [],
   "source": [
    "leg3.AddEntry(iBessel[0].DrawCopy(), \" I_0\", \"l\")\n",
    "leg3.AddEntry(iBessel[1].DrawCopy(\"same\"), \" I_1(x)\", \"l\")\n",
    "leg3.AddEntry(iBessel[2].DrawCopy(\"same\"), \" I_2(x)\", \"l\")\n",
    "leg3.AddEntry(iBessel[3].DrawCopy(\"same\"), \" I_3(x)\", \"l\")\n",
    "leg3.AddEntry(iBessel[4].DrawCopy(\"same\"), \" I_4(x)\", \"l\")\n",
    "leg3.Draw()\n",
    "p3.Draw()"
   ]
  },
  {
   "cell_type": "markdown",
   "metadata": {},
   "source": [
    "Set canvas 4"
   ]
  },
  {
   "cell_type": "code",
   "execution_count": 14,
   "metadata": {
    "collapsed": false
   },
   "outputs": [],
   "source": [
    "DistCanvas.cd(4)\n",
    "gPad.SetGrid()\n",
    "gPad.SetFrameFillColor(19)\n",
    "leg4 = TLegend(0.75, 0.7, 0.89, 0.89)"
   ]
  },
  {
   "cell_type": "markdown",
   "metadata": {},
   "source": [
    "Drawing sph_bessel"
   ]
  },
  {
   "cell_type": "code",
   "execution_count": 15,
   "metadata": {
    "collapsed": false
   },
   "outputs": [],
   "source": [
    "jBessel = []\n",
    "for nu in range(5):\n",
    "    jbessel = TF1(\"J_0\", \"ROOT::Math::sph_bessel([0],x)\", 0, 10)\n",
    "    jbessel.SetParameters(nu, 0.0)\n",
    "    jbessel.SetTitle(\"Bessel j functions\")\n",
    "    jbessel.SetLineStyle(1)\n",
    "    jbessel.SetLineWidth(3)\n",
    "    jbessel.SetLineColor(nu+1)\n",
    "    jBessel.append(jbessel)\n",
    "jaxis = jBessel[0].GetXaxis()\n",
    "jaxis.SetTitle(\"x\")\n",
    "jaxis.SetTitleSize(0.06)\n",
    "jaxis.SetTitleOffset(.7)"
   ]
  },
  {
   "cell_type": "markdown",
   "metadata": {},
   "source": [
    "setting title"
   ]
  },
  {
   "cell_type": "code",
   "execution_count": 16,
   "metadata": {
    "collapsed": false
   },
   "outputs": [],
   "source": [
    "p4 = TPaveLabel(.0, .90, .0 + .50, .90 + .10, \"Bessel j functions\", \"NDC\")\n",
    "p4.SetFillColor(0)\n",
    "p4.SetTextFont(22)\n",
    "p4.SetTextColor(kBlack)"
   ]
  },
  {
   "cell_type": "markdown",
   "metadata": {},
   "source": [
    "setting legend"
   ]
  },
  {
   "cell_type": "code",
   "execution_count": 17,
   "metadata": {
    "collapsed": false
   },
   "outputs": [
    {
     "data": {
      "text/plain": [
       "<ROOT.TCanvas object (\"DistCanvas\") at 0x5607be4f7ea0>"
      ]
     },
     "execution_count": 17,
     "metadata": {},
     "output_type": "execute_result"
    }
   ],
   "source": [
    "leg4.AddEntry(jBessel[0].DrawCopy(), \" j_0(x)\", \"l\")\n",
    "leg4.AddEntry(jBessel[1].DrawCopy(\"same\"), \" j_1(x)\", \"l\")\n",
    "leg4.AddEntry(jBessel[2].DrawCopy(\"same\"), \" j_2(x)\", \"l\")\n",
    "leg4.AddEntry(jBessel[3].DrawCopy(\"same\"), \" j_3(x)\", \"l\")\n",
    "leg4.AddEntry(jBessel[4].DrawCopy(\"same\"), \" j_4(x)\", \"l\")\n",
    "\n",
    "leg4.Draw()\n",
    "p4.Draw()\n",
    "\n",
    "DistCanvas.cd()"
   ]
  },
  {
   "cell_type": "markdown",
   "metadata": {},
   "source": [
    "Draw all canvases "
   ]
  },
  {
   "cell_type": "code",
   "execution_count": 18,
   "metadata": {
    "collapsed": false
   },
   "outputs": [
    {
     "data": {
      "image/png": "[encoded data removed]",
      "text/plain": [
       "<IPython.core.display.Image object>"
      ]
     },
     "metadata": {},
     "output_type": "display_data"
    }
   ],
   "source": [
    "from ROOT import gROOT \n",
    "gROOT.GetListOfCanvases().Draw()"
   ]
  }
 ],
 "metadata": {
  "kernelspec": {
   "display_name": "Python 2",
   "language": "python",
   "name": "python2"
  },
  "language_info": {
   "codemirror_mode": {
    "name": "ipython",
    "version": 2
   },
   "file_extension": ".py",
   "mimetype": "text/x-python",
   "name": "python",
   "nbconvert_exporter": "python",
   "pygments_lexer": "ipython2",
   "version": "2.7.10"
  }
 },
 "nbformat": 4,
 "nbformat_minor": 2
}
