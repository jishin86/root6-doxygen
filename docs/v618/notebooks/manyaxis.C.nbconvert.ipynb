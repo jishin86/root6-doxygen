{
 "cells": [
  {
   "cell_type": "markdown",
   "metadata": {},
   "source": [
    "# Manyaxis\n",
    "Show several TGaxis formats.\n",
    "\n",
    "\n",
    "\n",
    "\n",
    "**Author:**  Olivier Couet  \n",
    "<i><small>This notebook tutorial was automatically generated with <a href= \"https://github.com/root-project/root/blob/master/documentation/doxygen/converttonotebook.py\">ROOTBOOK-izer</a> from the macro found in the ROOT repository  on Thursday, August 29, 2019 at 01:42 AM.</small></i>"
   ]
  },
  {
   "cell_type": "code",
   "execution_count": 1,
   "metadata": {
    "collapsed": false
   },
   "outputs": [],
   "source": [
    "TCanvas* c1 = new TCanvas(\"c1\",\"Examples of Gaxis\",10,10,700,500);\n",
    "\n",
    "c1->Range(-10,-1,10,1);\n",
    "\n",
    "TGaxis *axis1 = new TGaxis(-5,-0.2,6,-0.2,-6,8,510,\"\");\n",
    "axis1->SetName(\"axis1\");\n",
    "axis1->Draw();\n",
    "\n",
    "TGaxis *axis2 = new TGaxis(-5,0.2,6,0.2,0.001,10000,510,\"G\");\n",
    "axis2->SetName(\"axis2\");\n",
    "axis2->Draw();\n",
    "\n",
    "TGaxis *axis3 = new TGaxis(-9,-0.8,-9,0.8,-8,8,50510,\"\");\n",
    "axis3->SetName(\"axis3\");\n",
    "axis3->Draw();\n",
    "\n",
    "TGaxis *axis4 = new TGaxis(-7,-0.8,-7,0.8,1,10000,50510,\"G\");\n",
    "axis4->SetName(\"axis4\");\n",
    "axis4->Draw();\n",
    "\n",
    "TGaxis *axis5 = new TGaxis(-5,-0.6,6,-0.6,1.2,1.32,80506,\"-+\");\n",
    "axis5->SetName(\"axis5\");\n",
    "axis5->SetLabelSize(0.03);\n",
    "axis5->SetTextFont(72);\n",
    "axis5->SetLabelOffset(0.025);\n",
    "\n",
    "axis5->Draw();\n",
    "\n",
    "TGaxis *axis6 = new TGaxis(-5,0.6,6,0.6,100,900,50510,\"-\");\n",
    "axis6->SetName(\"axis6\");\n",
    "axis6->Draw();\n",
    "\n",
    "TGaxis *axis7 = new TGaxis(8,-0.8,8,0.8,0,9000,50510,\"+L\");\n",
    "axis7->SetName(\"axis7\");\n",
    "axis7->SetLabelOffset(0.01);\n",
    "axis7->Draw();"
   ]
  },
  {
   "cell_type": "markdown",
   "metadata": {},
   "source": [
    "Draw all canvases "
   ]
  },
  {
   "cell_type": "code",
   "execution_count": 2,
   "metadata": {
    "collapsed": false
   },
   "outputs": [
    {
     "data": {
      "text/html": [
       "\n",
       "<div id=\"root_plot_1\"\n",
       "     style=\"width: 696px; height: 472px\">\n",
       "</div>\n",
       "\n",
       "<script>\n",
       " requirejs.config({\n",
       "     paths: {\n",
       "       'JSRootCore' : 'https://root.cern.ch/js/notebook//scripts/JSRootCore',\n",
       "     }\n",
       "   });\n",
       " require(['JSRootCore'],\n",
       "     function(Core) {\n",
       "       var obj = Core.JSONR_unref({\"_typename\":\"TCanvas\",\"fUniqueID\":0,\"fBits\":53673992,\"fLineColor\":1,\"fLineStyle\":1,\"fLineWidth\":1,\"fFillColor\":0,\"fFillStyle\":1001,\"fLeftMargin\":0.1,\"fRightMargin\":0.1,\"fBottomMargin\":0.1,\"fTopMargin\":0.1,\"fXfile\":2,\"fYfile\":2,\"fAfile\":1,\"fXstat\":0.99,\"fYstat\":0.99,\"fAstat\":2,\"fFrameFillColor\":0,\"fFrameLineColor\":1,\"fFrameFillStyle\":1001,\"fFrameLineStyle\":1,\"fFrameLineWidth\":1,\"fFrameBorderSize\":1,\"fFrameBorderMode\":0,\"fX1\":-10,\"fY1\":-1,\"fX2\":10,\"fY2\":1,\"fXtoAbsPixelk\":348.00005,\"fXtoPixelk\":348.00005,\"fXtoPixel\":34.8,\"fYtoAbsPixelk\":236.00005,\"fYtoPixelk\":236.00005,\"fYtoPixel\":-236,\"fUtoAbsPixelk\":5e-5,\"fUtoPixelk\":5e-5,\"fUtoPixel\":696,\"fVtoAbsPixelk\":472.00005,\"fVtoPixelk\":472,\"fVtoPixel\":-472,\"fAbsPixeltoXk\":-10,\"fPixeltoXk\":-10,\"fPixeltoX\":0.028735632183908,\"fAbsPixeltoYk\":1,\"fPixeltoYk\":-1,\"fPixeltoY\":-0.00423728813559322,\"fXlowNDC\":0,\"fYlowNDC\":0,\"fXUpNDC\":0,\"fYUpNDC\":0,\"fWNDC\":1,\"fHNDC\":1,\"fAbsXlowNDC\":0,\"fAbsYlowNDC\":0,\"fAbsWNDC\":1,\"fAbsHNDC\":1,\"fUxmin\":-10,\"fUymin\":-1,\"fUxmax\":10,\"fUymax\":1,\"fTheta\":30,\"fPhi\":30,\"fAspectRatio\":0,\"fNumber\":0,\"fTickx\":0,\"fTicky\":0,\"fLogx\":0,\"fLogy\":0,\"fLogz\":0,\"fPadPaint\":0,\"fCrosshair\":0,\"fCrosshairPos\":0,\"fBorderSize\":2,\"fBorderMode\":0,\"fModified\":false,\"fGridx\":false,\"fGridy\":false,\"fAbsCoord\":false,\"fEditable\":true,\"fFixedAspectRatio\":false,\"fPrimitives\":{\"_typename\":\"TList\",\"name\":\"TList\",\"arr\":[{\"_typename\":\"TGaxis\",\"fUniqueID\":0,\"fBits\":50331656,\"fLineColor\":1,\"fLineStyle\":1,\"fLineWidth\":1,\"fX1\":-5,\"fY1\":-0.2,\"fX2\":6,\"fY2\":-0.2,\"fTextAngle\":0,\"fTextSize\":0.04,\"fTextAlign\":11,\"fTextColor\":1,\"fTextFont\":62,\"fWmin\":-6,\"fWmax\":8,\"fGridLength\":0,\"fTickSize\":0.03,\"fLabelOffset\":0.005,\"fLabelSize\":0.04,\"fTitleOffset\":1,\"fTitleSize\":0.04,\"fNdiv\":510,\"fLabelColor\":1,\"fLabelFont\":62,\"fNModLabs\":0,\"fChopt\":\"\",\"fName\":\"axis1\",\"fTitle\":\"\",\"fTimeFormat\":\"\",\"fFunctionName\":\"\",\"fModLabs\":null},{\"_typename\":\"TGaxis\",\"fUniqueID\":0,\"fBits\":50331656,\"fLineColor\":1,\"fLineStyle\":1,\"fLineWidth\":1,\"fX1\":-5,\"fY1\":0.2,\"fX2\":6,\"fY2\":0.2,\"fTextAngle\":0,\"fTextSize\":0.04,\"fTextAlign\":11,\"fTextColor\":1,\"fTextFont\":62,\"fWmin\":0.001,\"fWmax\":10000,\"fGridLength\":0,\"fTickSize\":0.03,\"fLabelOffset\":0.005,\"fLabelSize\":0.04,\"fTitleOffset\":1,\"fTitleSize\":0.04,\"fNdiv\":510,\"fLabelColor\":1,\"fLabelFont\":62,\"fNModLabs\":0,\"fChopt\":\"G\",\"fName\":\"axis2\",\"fTitle\":\"\",\"fTimeFormat\":\"\",\"fFunctionName\":\"\",\"fModLabs\":null},{\"_typename\":\"TGaxis\",\"fUniqueID\":0,\"fBits\":50331656,\"fLineColor\":1,\"fLineStyle\":1,\"fLineWidth\":1,\"fX1\":-9,\"fY1\":-0.8,\"fX2\":-9,\"fY2\":0.8,\"fTextAngle\":0,\"fTextSize\":0.04,\"fTextAlign\":11,\"fTextColor\":1,\"fTextFont\":62,\"fWmin\":-8,\"fWmax\":8,\"fGridLength\":0,\"fTickSize\":0.03,\"fLabelOffset\":0.005,\"fLabelSize\":0.04,\"fTitleOffset\":1,\"fTitleSize\":0.04,\"fNdiv\":50510,\"fLabelColor\":1,\"fLabelFont\":62,\"fNModLabs\":0,\"fChopt\":\"\",\"fName\":\"axis3\",\"fTitle\":\"\",\"fTimeFormat\":\"\",\"fFunctionName\":\"\",\"fModLabs\":null},{\"_typename\":\"TGaxis\",\"fUniqueID\":0,\"fBits\":50331656,\"fLineColor\":1,\"fLineStyle\":1,\"fLineWidth\":1,\"fX1\":-7,\"fY1\":-0.8,\"fX2\":-7,\"fY2\":0.8,\"fTextAngle\":0,\"fTextSize\":0.04,\"fTextAlign\":11,\"fTextColor\":1,\"fTextFont\":62,\"fWmin\":1,\"fWmax\":10000,\"fGridLength\":0,\"fTickSize\":0.03,\"fLabelOffset\":0.005,\"fLabelSize\":0.04,\"fTitleOffset\":1,\"fTitleSize\":0.04,\"fNdiv\":50510,\"fLabelColor\":1,\"fLabelFont\":62,\"fNModLabs\":0,\"fChopt\":\"G\",\"fName\":\"axis4\",\"fTitle\":\"\",\"fTimeFormat\":\"\",\"fFunctionName\":\"\",\"fModLabs\":null},{\"_typename\":\"TGaxis\",\"fUniqueID\":0,\"fBits\":50331656,\"fLineColor\":1,\"fLineStyle\":1,\"fLineWidth\":1,\"fX1\":-5,\"fY1\":-0.6,\"fX2\":6,\"fY2\":-0.6,\"fTextAngle\":0,\"fTextSize\":0.04,\"fTextAlign\":11,\"fTextColor\":1,\"fTextFont\":72,\"fWmin\":1.2,\"fWmax\":1.32,\"fGridLength\":0,\"fTickSize\":0.03,\"fLabelOffset\":0.025,\"fLabelSize\":0.03,\"fTitleOffset\":1,\"fTitleSize\":0.04,\"fNdiv\":80506,\"fLabelColor\":1,\"fLabelFont\":62,\"fNModLabs\":0,\"fChopt\":\"-+\",\"fName\":\"axis5\",\"fTitle\":\"\",\"fTimeFormat\":\"\",\"fFunctionName\":\"\",\"fModLabs\":null},{\"_typename\":\"TGaxis\",\"fUniqueID\":0,\"fBits\":50331656,\"fLineColor\":1,\"fLineStyle\":1,\"fLineWidth\":1,\"fX1\":-5,\"fY1\":0.6,\"fX2\":6,\"fY2\":0.6,\"fTextAngle\":0,\"fTextSize\":0.04,\"fTextAlign\":11,\"fTextColor\":1,\"fTextFont\":62,\"fWmin\":100,\"fWmax\":900,\"fGridLength\":0,\"fTickSize\":0.03,\"fLabelOffset\":0.005,\"fLabelSize\":0.04,\"fTitleOffset\":1,\"fTitleSize\":0.04,\"fNdiv\":50510,\"fLabelColor\":1,\"fLabelFont\":62,\"fNModLabs\":0,\"fChopt\":\"-\",\"fName\":\"axis6\",\"fTitle\":\"\",\"fTimeFormat\":\"\",\"fFunctionName\":\"\",\"fModLabs\":null},{\"_typename\":\"TGaxis\",\"fUniqueID\":0,\"fBits\":50331656,\"fLineColor\":1,\"fLineStyle\":1,\"fLineWidth\":1,\"fX1\":8,\"fY1\":-0.8,\"fX2\":8,\"fY2\":0.8,\"fTextAngle\":0,\"fTextSize\":0.04,\"fTextAlign\":11,\"fTextColor\":1,\"fTextFont\":62,\"fWmin\":0,\"fWmax\":9000,\"fGridLength\":0,\"fTickSize\":0.03,\"fLabelOffset\":0.01,\"fLabelSize\":0.04,\"fTitleOffset\":1,\"fTitleSize\":0.04,\"fNdiv\":50510,\"fLabelColor\":1,\"fLabelFont\":62,\"fNModLabs\":0,\"fChopt\":\"+L\",\"fName\":\"axis7\",\"fTitle\":\"\",\"fTimeFormat\":\"\",\"fFunctionName\":\"\",\"fModLabs\":null}],\"opt\":[\"\",\"\",\"\",\"\",\"\",\"\",\"\"]},\"fExecs\":null,\"fName\":\"c1\",\"fTitle\":\"Examples of Gaxis\",\"fNumPaletteColor\":0,\"fNextPaletteColor\":0,\"fDISPLAY\":\"$DISPLAY\",\"fDoubleBuffer\":0,\"fRetained\":true,\"fXsizeUser\":0,\"fYsizeUser\":0,\"fXsizeReal\":20,\"fYsizeReal\":14.28571,\"fWindowTopX\":0,\"fWindowTopY\":0,\"fWindowWidth\":0,\"fWindowHeight\":0,\"fCw\":696,\"fCh\":472,\"fCatt\":{\"_typename\":\"TAttCanvas\",\"fXBetween\":2,\"fYBetween\":2,\"fTitleFromTop\":1.2,\"fXdate\":0.2,\"fYdate\":0.3,\"fAdate\":1},\"kMoveOpaque\":true,\"kResizeOpaque\":true,\"fHighLightColor\":2,\"fBatch\":true,\"kShowEventStatus\":false,\"kAutoExec\":true,\"kMenuBar\":true});\n",
       "       Core.draw(\"root_plot_1\", obj, \"\");\n",
       "     }\n",
       " );\n",
       "</script>\n"
      ],
      "text/plain": [
       "<IPython.core.display.HTML object>"
      ]
     },
     "metadata": {},
     "output_type": "display_data"
    }
   ],
   "source": [
    "%jsroot on\n",
    "gROOT->GetListOfCanvases()->Draw()"
   ]
  }
 ],
 "metadata": {
  "kernelspec": {
   "display_name": "ROOT C++",
   "language": "c++",
   "name": "root"
  },
  "language_info": {
   "codemirror_mode": "text/x-c++src",
   "file_extension": ".C",
   "mimetype": " text/x-c++src",
   "name": "c++"
  }
 },
 "nbformat": 4,
 "nbformat_minor": 2
}
