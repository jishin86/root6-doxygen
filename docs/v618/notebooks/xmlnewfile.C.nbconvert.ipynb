{
 "cells": [
  {
   "cell_type": "markdown",
   "metadata": {},
   "source": [
    "# Xmlnewfile\n",
    "Example to create a new xml file with the TXMLEngine class\n",
    "\n",
    "\n",
    "\n",
    "\n",
    "**Author:** Sergey Linev  \n",
    "<i><small>This notebook tutorial was automatically generated with <a href= \"https://github.com/root-project/root/blob/master/documentation/doxygen/converttonotebook.py\">ROOTBOOK-izer</a> from the macro found in the ROOT repository  on Thursday, August 29, 2019 at 04:08 AM.</small></i>"
   ]
  },
  {
   "cell_type": "code",
   "execution_count": 1,
   "metadata": {
    "collapsed": false
   },
   "outputs": [],
   "source": [
    "%%cpp -d\n",
    "#include \"TXMLEngine.h\""
   ]
  },
  {
   "cell_type": "markdown",
   "metadata": {},
   "source": [
    " Arguments are defined. "
   ]
  },
  {
   "cell_type": "code",
   "execution_count": 2,
   "metadata": {
    "collapsed": false
   },
   "outputs": [],
   "source": [
    "const char* filename = \"example.xml\";"
   ]
  },
  {
   "cell_type": "markdown",
   "metadata": {},
   "source": [
    "First create engine"
   ]
  },
  {
   "cell_type": "code",
   "execution_count": 3,
   "metadata": {
    "collapsed": false
   },
   "outputs": [],
   "source": [
    "TXMLEngine xml;"
   ]
  },
  {
   "cell_type": "markdown",
   "metadata": {},
   "source": [
    "Create main node of document tree"
   ]
  },
  {
   "cell_type": "code",
   "execution_count": 4,
   "metadata": {
    "collapsed": false
   },
   "outputs": [],
   "source": [
    "XMLNodePointer_t mainnode = xml.NewChild(0, 0, \"main\");"
   ]
  },
  {
   "cell_type": "markdown",
   "metadata": {},
   "source": [
    "Simple child node with content inside"
   ]
  },
  {
   "cell_type": "code",
   "execution_count": 5,
   "metadata": {
    "collapsed": false
   },
   "outputs": [],
   "source": [
    "xml.NewChild(mainnode, 0, \"child1\", \"Content of child1 node\");"
   ]
  },
  {
   "cell_type": "markdown",
   "metadata": {},
   "source": [
    "Other child node with attributes"
   ]
  },
  {
   "cell_type": "code",
   "execution_count": 6,
   "metadata": {
    "collapsed": false
   },
   "outputs": [],
   "source": [
    "XMLNodePointer_t child2 = xml.NewChild(mainnode, 0, \"child2\");\n",
    "xml.NewAttr(child2, 0, \"attr1\",\"value1\");\n",
    "xml.NewAttr(child2, 0, \"attr2\",\"value2\");"
   ]
  },
  {
   "cell_type": "markdown",
   "metadata": {},
   "source": [
    "Child node with subnodes"
   ]
  },
  {
   "cell_type": "code",
   "execution_count": 7,
   "metadata": {
    "collapsed": false
   },
   "outputs": [],
   "source": [
    "XMLNodePointer_t child3 = xml.NewChild(mainnode, 0, \"child3\");\n",
    "xml.NewChild(child3, 0, \"subchild1\", \"subchild1 content\");\n",
    "xml.NewChild(child3, 0, \"subchild2\", \"subchild2 content\");\n",
    "xml.NewChild(child3, 0, \"subchild3\", \"subchild3 content\");"
   ]
  },
  {
   "cell_type": "markdown",
   "metadata": {},
   "source": [
    "Child node with subnodes and namespace"
   ]
  },
  {
   "cell_type": "code",
   "execution_count": 8,
   "metadata": {
    "collapsed": false
   },
   "outputs": [],
   "source": [
    "XMLNodePointer_t child4 = xml.NewChild(mainnode, 0, \"child4\");\n",
    "XMLNsPointer_t ns4 = xml.NewNS(child4, \"http://website/webpage\");\n",
    "xml.NewChild(child4, ns4, \"subchild1\", \"subchild1 content\");\n",
    "xml.NewChild(child4, ns4, \"subchild2\", \"subchild2 content\");\n",
    "xml.NewChild(child4, ns4, \"subchild3\", \"subchild3 content\");"
   ]
  },
  {
   "cell_type": "markdown",
   "metadata": {},
   "source": [
    "Now create document and assign main node of document"
   ]
  },
  {
   "cell_type": "code",
   "execution_count": 9,
   "metadata": {
    "collapsed": false
   },
   "outputs": [],
   "source": [
    "XMLDocPointer_t xmldoc = xml.NewDoc();\n",
    "xml.DocSetRootElement(xmldoc, mainnode);"
   ]
  },
  {
   "cell_type": "markdown",
   "metadata": {},
   "source": [
    "Save document to file"
   ]
  },
  {
   "cell_type": "code",
   "execution_count": 10,
   "metadata": {
    "collapsed": false
   },
   "outputs": [],
   "source": [
    "xml.SaveDoc(xmldoc, filename);"
   ]
  },
  {
   "cell_type": "markdown",
   "metadata": {},
   "source": [
    "Release memory before exit"
   ]
  },
  {
   "cell_type": "code",
   "execution_count": 11,
   "metadata": {
    "collapsed": false
   },
   "outputs": [],
   "source": [
    "xml.FreeDoc(xmldoc);"
   ]
  }
 ],
 "metadata": {
  "kernelspec": {
   "display_name": "ROOT C++",
   "language": "c++",
   "name": "root"
  },
  "language_info": {
   "codemirror_mode": "text/x-c++src",
   "file_extension": ".C",
   "mimetype": " text/x-c++src",
   "name": "c++"
  }
 },
 "nbformat": 4,
 "nbformat_minor": 2
}
