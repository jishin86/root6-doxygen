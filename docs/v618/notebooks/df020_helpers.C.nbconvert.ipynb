{
 "cells": [
  {
   "cell_type": "markdown",
   "metadata": {},
   "source": [
    "# Df 0 2 0_Helpers\n",
    "This tutorial shows usage of the RDF helper tools, contained in ROOT/RDFHelpers.hxx\n",
    "\n",
    "\n",
    "\n",
    "\n",
    "**Author:** Enrico Guiraud  \n",
    "<i><small>This notebook tutorial was automatically generated with <a href= \"https://github.com/root-project/root/blob/master/documentation/doxygen/converttonotebook.py\">ROOTBOOK-izer</a> from the macro found in the ROOT repository  on Thursday, August 29, 2019 at 01:10 AM.</small></i>"
   ]
  },
  {
   "cell_type": "markdown",
   "metadata": {},
   "source": [
    "First of all, we create a dataframe with 3 entries and define two simple columns"
   ]
  },
  {
   "cell_type": "code",
   "execution_count": 1,
   "metadata": {
    "collapsed": false
   },
   "outputs": [],
   "source": [
    "const auto nEntries = 3;\n",
    "ROOT::RDataFrame _df(nEntries);\n",
    "auto df = _df.Define(\"one\", [] { return 1; }).Define(\"two\", [] { return 2; });"
   ]
  },
  {
   "cell_type": "markdown",
   "metadata": {},
   "source": [
    "*** not ***\n",
    " This helper takes a callable `f` (which must return a `bool`) and produces a new callable which takes the same\n",
    " arguments as `f` but returns its negated result. `Not` is useful to invert the check performed by a given Filter.\n",
    " Here we define a simple lambda that checks whether a value is equal to 1, and invert it with Not:"
   ]
  },
  {
   "cell_type": "code",
   "execution_count": 2,
   "metadata": {
    "collapsed": false
   },
   "outputs": [],
   "source": [
    "auto isOne = [] (int a) { return a == 1; };\n",
    "auto isNotOne = ROOT::RDF::Not(isOne);"
   ]
  },
  {
   "cell_type": "markdown",
   "metadata": {},
   "source": [
    "Both `isone` and `isnotone` are callables that we can use in `filters`:"
   ]
  },
  {
   "cell_type": "code",
   "execution_count": 3,
   "metadata": {
    "collapsed": false
   },
   "outputs": [],
   "source": [
    "auto c1 = df.Filter(isOne, {\"one\"}).Count();\n",
    "auto c2 = df.Filter(isNotOne, {\"two\"}).Count();"
   ]
  },
  {
   "cell_type": "markdown",
   "metadata": {},
   "source": [
    "Both counts are equal to the total number of entries, as both filters always pass."
   ]
  },
  {
   "cell_type": "code",
   "execution_count": 4,
   "metadata": {
    "collapsed": false
   },
   "outputs": [],
   "source": [
    "R__ASSERT(*c1 == nEntries);\n",
    "R__ASSERT(*c2 == nEntries);"
   ]
  },
  {
   "cell_type": "markdown",
   "metadata": {},
   "source": [
    "*** passasvec ***\n",
    " Consider the following function, which checks if a vector consists of two elements equal to 1 and 2:"
   ]
  },
  {
   "cell_type": "code",
   "execution_count": 5,
   "metadata": {
    "collapsed": false
   },
   "outputs": [],
   "source": [
    "auto checkOneTwo = [] (const std::vector<int> &v) { return v.size() == 2 && v[0] == 1 && v[1] == 2; };"
   ]
  },
  {
   "cell_type": "markdown",
   "metadata": {},
   "source": [
    "The following line, although it looks reasonable, would _not_ run correctly:\n",
    " df.Filter(checkOneTwo, {\"one\", \"two\"});\n",
    " The reason is that `Filter(..., {\"one\", \"two\"})` expects a callable that takes exactly two integers, while\n",
    " `checkOneTwo` actually takes a vector of integers (i.e. it does not have the right signature).\n",
    " PassAsVec helps passing down the single values \"one\", \"two\" to `checkOneTwo` as a collection: it takes a callable\n",
    " `f` that expects a collection as argument and returns a new callable that takes single arguments instead, passes\n",
    " them down to `f` and returns what `f` returns.\n",
    " PassAsVec requires that number of arguments and their type is specified as template argument.\n",
    " Here's an example usage (remember, PassAsVec(f) returns a new callable!):"
   ]
  },
  {
   "cell_type": "code",
   "execution_count": 6,
   "metadata": {
    "collapsed": false
   },
   "outputs": [],
   "source": [
    "auto c3 = df.Filter(ROOT::RDF::PassAsVec<2, int>(checkOneTwo), {\"one\", \"two\"}).Count();\n",
    "R__ASSERT(*c3 == nEntries);"
   ]
  },
  {
   "cell_type": "markdown",
   "metadata": {},
   "source": [
    "Draw all canvases "
   ]
  },
  {
   "cell_type": "code",
   "execution_count": 7,
   "metadata": {
    "collapsed": false
   },
   "outputs": [],
   "source": [
    "gROOT->GetListOfCanvases()->Draw()"
   ]
  }
 ],
 "metadata": {
  "kernelspec": {
   "display_name": "ROOT C++",
   "language": "c++",
   "name": "root"
  },
  "language_info": {
   "codemirror_mode": "text/x-c++src",
   "file_extension": ".C",
   "mimetype": " text/x-c++src",
   "name": "c++"
  }
 },
 "nbformat": 4,
 "nbformat_minor": 2
}
