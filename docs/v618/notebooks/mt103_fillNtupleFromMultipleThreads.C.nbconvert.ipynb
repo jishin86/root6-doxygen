{
 "cells": [
  {
   "cell_type": "markdown",
   "metadata": {},
   "source": [
    "# Mt 1 0 3_Fill Ntuple From Multiple Threads\n",
    "Fill the same TNtuple from different threads.\n",
    "This tutorial illustrates the basics of how it's possible with ROOT\n",
    "to write simultaneously to a single output file using TBufferMerger.\n",
    "\n",
    "\n",
    "\n",
    "\n",
    "**Author:** Guilherme Amadio  \n",
    "<i><small>This notebook tutorial was automatically generated with <a href= \"https://github.com/root-project/root/blob/master/documentation/doxygen/converttonotebook.py\">ROOTBOOK-izer</a> from the macro found in the ROOT repository  on Thursday, August 29, 2019 at 02:21 AM.</small></i>"
   ]
  },
  {
   "cell_type": "markdown",
   "metadata": {},
   "source": [
    "Avoid unnecessary output"
   ]
  },
  {
   "cell_type": "code",
   "execution_count": 1,
   "metadata": {
    "collapsed": false
   },
   "outputs": [],
   "source": [
    "gROOT->SetBatch();"
   ]
  },
  {
   "cell_type": "markdown",
   "metadata": {},
   "source": [
    "Make root thread-safe"
   ]
  },
  {
   "cell_type": "code",
   "execution_count": 2,
   "metadata": {
    "collapsed": false
   },
   "outputs": [],
   "source": [
    "ROOT::EnableThreadSafety();"
   ]
  },
  {
   "cell_type": "markdown",
   "metadata": {},
   "source": [
    "Total number of events"
   ]
  },
  {
   "cell_type": "code",
   "execution_count": 3,
   "metadata": {
    "collapsed": false
   },
   "outputs": [],
   "source": [
    "const size_t nEntries = 65535;"
   ]
  },
  {
   "cell_type": "markdown",
   "metadata": {},
   "source": [
    "Match number of threads to what the hardware can do"
   ]
  },
  {
   "cell_type": "code",
   "execution_count": 4,
   "metadata": {
    "collapsed": false
   },
   "outputs": [],
   "source": [
    "const size_t nWorkers = 4;"
   ]
  },
  {
   "cell_type": "markdown",
   "metadata": {},
   "source": [
    "Split work in equal parts"
   ]
  },
  {
   "cell_type": "code",
   "execution_count": 5,
   "metadata": {
    "collapsed": false
   },
   "outputs": [],
   "source": [
    "const size_t nEventsPerWorker = nEntries / nWorkers;"
   ]
  },
  {
   "cell_type": "markdown",
   "metadata": {},
   "source": [
    "Create the tbuffermerger: this class orchestrates the parallel writing"
   ]
  },
  {
   "cell_type": "code",
   "execution_count": 6,
   "metadata": {
    "collapsed": false
   },
   "outputs": [],
   "source": [
    "auto fileName = \"mt103_fillNtupleFromMultipleThreads.root\";\n",
    "ROOT::Experimental::TBufferMerger merger(fileName);"
   ]
  },
  {
   "cell_type": "markdown",
   "metadata": {},
   "source": [
    "Define what each worker will do\n",
    " We obtain from a merger a TBufferMergerFile, which is nothing more than\n",
    " a file which is held in memory and that flushes to the TBufferMerger its\n",
    " content."
   ]
  },
  {
   "cell_type": "code",
   "execution_count": 7,
   "metadata": {
    "collapsed": false
   },
   "outputs": [],
   "source": [
    "auto work_function = [&](int seed) {\n",
    "   auto f = merger.GetFile();\n",
    "   TNtuple ntrand(\"ntrand\", \"Random Numbers\", \"r\");\n",
    "\n",
    "   // The resetting of the kCleanup bit below is necessary to avoid leaving\n",
    "   // the management of this object to ROOT, which leads to a race condition\n",
    "   // that may cause a crash once all threads are finished and the final\n",
    "   // merge is happening\n",
    "   ntrand.ResetBit(kMustCleanup);\n",
    "\n",
    "   TRandom rnd(seed);\n",
    "   for (auto i : ROOT::TSeqI(nEntries))\n",
    "      ntrand.Fill(rnd.Gaus());\n",
    "   f->Write();\n",
    "};"
   ]
  },
  {
   "cell_type": "markdown",
   "metadata": {},
   "source": [
    "Create worker threads"
   ]
  },
  {
   "cell_type": "code",
   "execution_count": 8,
   "metadata": {
    "collapsed": false
   },
   "outputs": [],
   "source": [
    "std::vector<std::thread> workers;\n",
    "\n",
    "for (auto i : ROOT::TSeqI(nWorkers))\n",
    "   workers.emplace_back(work_function, i + 1); // seed==0 means random seed :)"
   ]
  },
  {
   "cell_type": "markdown",
   "metadata": {},
   "source": [
    "Make sure workers are done"
   ]
  },
  {
   "cell_type": "code",
   "execution_count": 9,
   "metadata": {
    "collapsed": false
   },
   "outputs": [],
   "source": [
    "for (auto &&worker : workers)\n",
    "   worker.join();"
   ]
  },
  {
   "cell_type": "markdown",
   "metadata": {},
   "source": [
    "Draw all canvases "
   ]
  },
  {
   "cell_type": "code",
   "execution_count": 10,
   "metadata": {
    "collapsed": false
   },
   "outputs": [],
   "source": [
    "gROOT->GetListOfCanvases()->Draw()"
   ]
  }
 ],
 "metadata": {
  "kernelspec": {
   "display_name": "ROOT C++",
   "language": "c++",
   "name": "root"
  },
  "language_info": {
   "codemirror_mode": "text/x-c++src",
   "file_extension": ".C",
   "mimetype": " text/x-c++src",
   "name": "c++"
  }
 },
 "nbformat": 4,
 "nbformat_minor": 2
}
