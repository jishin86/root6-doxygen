{
 "cells": [
  {
   "cell_type": "markdown",
   "metadata": {},
   "source": [
    "# Test Unfold 4\n",
    "Test program for the class TUnfoldSys.\n",
    "\n",
    "Simple toy tests of the TUnfold package\n",
    "\n",
    "Pseudo data (5000 events) are unfolded into three components\n",
    "The unfolding is performed once without and once with area constraint\n",
    "\n",
    "Ideally, the pulls may show that the result is biased if no constraint\n",
    "is applied. This is expected because the true data errors are not known,\n",
    "and instead the sqrt(data) errors are used.\n",
    "\n",
    "\n",
    " **Version 17.6, in parallel to changes in TUnfold**\n",
    "\n",
    "#### History:\n",
    " - Version 17.5, in parallel to changes in TUnfold\n",
    " - Version 17.4, in parallel to changes in TUnfold\n",
    " - Version 17.3, in parallel to changes in TUnfold\n",
    " - Version 17.2, in parallel to changes in TUnfold\n",
    " - Version 17.1, in parallel to changes in TUnfold\n",
    " - Version 16.1, parallel to changes in TUnfold\n",
    " - Version 16.0, parallel to changes in TUnfold\n",
    " - Version 15, use L-curve scan to scan the average correlation\n",
    "\n",
    " This file is part of TUnfold.\n",
    "\n",
    " TUnfold is free software: you can redistribute it and/or modify\n",
    " it under the terms of the GNU General Public License as published by\n",
    " the Free Software Foundation, either version 3 of the License, or\n",
    " (at your option) any later version.\n",
    "\n",
    " TUnfold is distributed in the hope that it will be useful,\n",
    " but WITHOUT ANY WARRANTY; without even the implied warranty of\n",
    " MERCHANTABILITY or FITNESS FOR A PARTICULAR PURPOSE.  See the\n",
    " GNU General Public License for more details.\n",
    "\n",
    " You should have received a copy of the GNU General Public License\n",
    " along with TUnfold.  If not, see <http://www.gnu.org/licenses/>.\n",
    "\n",
    "\n",
    "\n",
    "**Author:** Stefan Schmitt DESY, 14.10.2008  \n",
    "<i><small>This notebook tutorial was automatically generated with <a href= \"https://github.com/root-project/root/blob/master/documentation/doxygen/converttonotebook.py\">ROOTBOOK-izer</a> from the macro found in the ROOT repository  on Thursday, August 29, 2019 at 03:59 AM.</small></i>"
   ]
  },
  {
   "cell_type": "code",
   "execution_count": 1,
   "metadata": {
    "collapsed": false
   },
   "outputs": [],
   "source": [
    "%%cpp -d\n",
    "#include <TMath.h>\n",
    "#include <TCanvas.h>\n",
    "#include <TRandom3.h>\n",
    "#include <TFitter.h>\n",
    "#include <TF1.h>\n",
    "#include <TStyle.h>\n",
    "#include <TVector.h>\n",
    "#include <TGraph.h>\n",
    "#include <TError.h>\n",
    "\n",
    "#include \"TUnfoldDensity.h\"\n",
    "\n",
    "using namespace std;\n",
    "\n",
    "TRandom *rnd=0;"
   ]
  },
  {
   "cell_type": "markdown",
   "metadata": {},
   "source": [
    " A helper function is created: "
   ]
  },
  {
   "cell_type": "code",
   "execution_count": 2,
   "metadata": {
    "collapsed": false
   },
   "outputs": [],
   "source": [
    "%%cpp -d\n",
    "Int_t GenerateGenEvent(Int_t nmax,const Double_t *probability) {\n",
    "   // choose an integer random number in the range [0,nmax]\n",
    "   //    (the generator level bin)\n",
    "   // depending on the probabilities\n",
    "   //   probability[0],probability[1],...probability[nmax-1]\n",
    "   Double_t f=rnd->Rndm();\n",
    "   Int_t r=0;\n",
    "   while((r<nmax)&&(f>=probability[r])) {\n",
    "      f -= probability[r];\n",
    "      r++;\n",
    "   }\n",
    "   return r;\n",
    "}"
   ]
  },
  {
   "cell_type": "markdown",
   "metadata": {},
   "source": [
    " A helper function is created: "
   ]
  },
  {
   "cell_type": "code",
   "execution_count": 3,
   "metadata": {
    "collapsed": false
   },
   "outputs": [],
   "source": [
    "%%cpp -d\n",
    "Double_t GenerateRecEvent(const Double_t *shapeParm) {\n",
    "   // return a coordinate (the reconstructed variable)\n",
    "   // depending on shapeParm[]\n",
    "   //  shapeParm[0]: fraction of events with Gaussian distribution\n",
    "   //  shapeParm[1]: mean of Gaussian\n",
    "   //  shapeParm[2]: width of Gaussian\n",
    "   //  (1-shapeParm[0]): fraction of events with flat distribution\n",
    "   //  shapeParm[3]: minimum of flat component\n",
    "   //  shapeParm[4]: maximum of flat component\n",
    "   Double_t f=rnd->Rndm();\n",
    "   Double_t r;\n",
    "   if(f<shapeParm[0]) {\n",
    "      r=rnd->Gaus(shapeParm[1],shapeParm[2]);\n",
    "   } else {\n",
    "      r=rnd->Rndm()*(shapeParm[4]-shapeParm[3])+shapeParm[3];\n",
    "   }\n",
    "   return r;\n",
    "}"
   ]
  },
  {
   "cell_type": "markdown",
   "metadata": {},
   "source": [
    " Arguments are defined. "
   ]
  },
  {
   "cell_type": "code",
   "execution_count": 4,
   "metadata": {
    "collapsed": false
   },
   "outputs": [],
   "source": [
    "bool printInfo = false;"
   ]
  },
  {
   "cell_type": "markdown",
   "metadata": {},
   "source": [
    "Switch off printing info messages"
   ]
  },
  {
   "cell_type": "code",
   "execution_count": 5,
   "metadata": {
    "collapsed": false
   },
   "outputs": [
    {
     "name": "stdout",
     "output_type": "stream",
     "text": [
      "TUnfold version is V17.6\n",
      "toy iteration: 0\n",
      "toy iteration: 10\n",
      "toy iteration: 20\n",
      "toy iteration: 30\n",
      "toy iteration: 40\n",
      "toy iteration: 50\n",
      "toy iteration: 60\n"
     ]
    },
    {
     "name": "stderr",
     "output_type": "stream",
     "text": [
      "Warning in <TUnfoldSys::SetInput>: One input bin has zero error, 1/error set to 1.000000.\n"
     ]
    },
    {
     "name": "stdout",
     "output_type": "stream",
     "text": [
      "toy iteration: 70\n",
      "toy iteration: 80\n"
     ]
    },
    {
     "name": "stderr",
     "output_type": "stream",
     "text": [
      "Warning in <TUnfoldSys::SetInput>: One input bin has zero error, 1/error set to 1.000000.\n"
     ]
    },
    {
     "name": "stdout",
     "output_type": "stream",
     "text": [
      "toy iteration: 90\n",
      "toy iteration: 100\n",
      "toy iteration: 110\n",
      "toy iteration: 120\n",
      "toy iteration: 130\n",
      "toy iteration: 140\n",
      "toy iteration: 150\n",
      "toy iteration: 160\n",
      "toy iteration: 170\n"
     ]
    },
    {
     "name": "stderr",
     "output_type": "stream",
     "text": [
      "Warning in <TUnfoldSys::SetInput>: One input bin has zero error, 1/error set to 1.000000.\n"
     ]
    },
    {
     "name": "stdout",
     "output_type": "stream",
     "text": [
      "toy iteration: 180\n"
     ]
    },
    {
     "name": "stderr",
     "output_type": "stream",
     "text": [
      "Warning in <TUnfoldSys::SetInput>: One input bin has zero error, 1/error set to 1.000000.\n"
     ]
    },
    {
     "name": "stdout",
     "output_type": "stream",
     "text": [
      "toy iteration: 190\n",
      "toy iteration: 200\n"
     ]
    },
    {
     "name": "stderr",
     "output_type": "stream",
     "text": [
      "Warning in <TUnfoldSys::SetInput>: One input bin has zero error, 1/error set to 1.000000.\n"
     ]
    },
    {
     "name": "stdout",
     "output_type": "stream",
     "text": [
      "toy iteration: 210\n",
      "toy iteration: 220\n"
     ]
    },
    {
     "name": "stderr",
     "output_type": "stream",
     "text": [
      "Warning in <TUnfoldSys::SetInput>: One input bin has zero error, 1/error set to 1.000000.\n"
     ]
    },
    {
     "name": "stdout",
     "output_type": "stream",
     "text": [
      "toy iteration: 230\n",
      "toy iteration: 240\n",
      "toy iteration: 250\n",
      "toy iteration: 260\n",
      "toy iteration: 270\n",
      "toy iteration: 280\n"
     ]
    },
    {
     "name": "stderr",
     "output_type": "stream",
     "text": [
      "Warning in <TUnfoldSys::SetInput>: One input bin has zero error, 1/error set to 1.000000.\n"
     ]
    },
    {
     "name": "stdout",
     "output_type": "stream",
     "text": [
      "toy iteration: 290\n"
     ]
    },
    {
     "name": "stderr",
     "output_type": "stream",
     "text": [
      "Warning in <TUnfoldSys::SetInput>: One input bin has zero error, 1/error set to 1.000000.\n"
     ]
    },
    {
     "name": "stdout",
     "output_type": "stream",
     "text": [
      "toy iteration: 300\n",
      "toy iteration: 310\n"
     ]
    },
    {
     "name": "stderr",
     "output_type": "stream",
     "text": [
      "Warning in <TUnfoldSys::SetInput>: One input bin has zero error, 1/error set to 1.000000.\n"
     ]
    },
    {
     "name": "stdout",
     "output_type": "stream",
     "text": [
      "toy iteration: 320\n",
      "toy iteration: 330\n",
      "toy iteration: 340\n"
     ]
    },
    {
     "name": "stderr",
     "output_type": "stream",
     "text": [
      "Warning in <TUnfoldSys::SetInput>: One input bin has zero error, 1/error set to 1.000000.\n"
     ]
    },
    {
     "name": "stdout",
     "output_type": "stream",
     "text": [
      "toy iteration: 350\n",
      "toy iteration: 360\n",
      "toy iteration: 370\n",
      "toy iteration: 380\n"
     ]
    },
    {
     "name": "stderr",
     "output_type": "stream",
     "text": [
      "Warning in <TUnfoldSys::SetInput>: One input bin has zero error, 1/error set to 1.000000.\n"
     ]
    },
    {
     "name": "stdout",
     "output_type": "stream",
     "text": [
      "toy iteration: 390\n"
     ]
    },
    {
     "name": "stderr",
     "output_type": "stream",
     "text": [
      "Warning in <TUnfoldSys::SetInput>: One input bin has zero error, 1/error set to 1.000000.\n"
     ]
    },
    {
     "name": "stdout",
     "output_type": "stream",
     "text": [
      "toy iteration: 400\n"
     ]
    },
    {
     "name": "stderr",
     "output_type": "stream",
     "text": [
      "Warning in <TUnfoldSys::SetInput>: One input bin has zero error, 1/error set to 1.000000.\n"
     ]
    },
    {
     "name": "stdout",
     "output_type": "stream",
     "text": [
      "toy iteration: 410\n",
      "toy iteration: 420\n",
      "toy iteration: 430\n",
      "toy iteration: 440\n",
      "toy iteration: 450\n",
      "toy iteration: 460\n",
      "toy iteration: 470\n",
      "toy iteration: 480\n",
      "toy iteration: 490\n",
      "toy iteration: 500\n",
      "toy iteration: 510\n"
     ]
    },
    {
     "name": "stderr",
     "output_type": "stream",
     "text": [
      "Warning in <TUnfoldSys::SetInput>: One input bin has zero error, 1/error set to 1.000000.\n",
      "Warning in <TUnfoldSys::SetInput>: One input bin has zero error, 1/error set to 1.000000.\n"
     ]
    },
    {
     "name": "stdout",
     "output_type": "stream",
     "text": [
      "toy iteration: 520\n",
      "toy iteration: 530\n"
     ]
    },
    {
     "name": "stderr",
     "output_type": "stream",
     "text": [
      "Warning in <TUnfoldSys::SetInput>: One input bin has zero error, 1/error set to 1.000000.\n",
      "Warning in <TUnfoldSys::SetInput>: One input bin has zero error, 1/error set to 1.000000.\n"
     ]
    },
    {
     "name": "stdout",
     "output_type": "stream",
     "text": [
      "toy iteration: 540\n",
      "toy iteration: 550\n",
      "toy iteration: 560\n",
      "toy iteration: 570\n",
      "toy iteration: 580\n"
     ]
    },
    {
     "name": "stderr",
     "output_type": "stream",
     "text": [
      "Warning in <TUnfoldSys::SetInput>: One input bin has zero error, 1/error set to 1.000000.\n",
      "Warning in <TUnfoldSys::SetInput>: One input bin has zero error, 1/error set to 1.000000.\n"
     ]
    },
    {
     "name": "stdout",
     "output_type": "stream",
     "text": [
      "toy iteration: 590\n"
     ]
    },
    {
     "name": "stderr",
     "output_type": "stream",
     "text": [
      "Warning in <TUnfoldSys::SetInput>: One input bin has zero error, 1/error set to 1.000000.\n"
     ]
    },
    {
     "name": "stdout",
     "output_type": "stream",
     "text": [
      "toy iteration: 600\n",
      "toy iteration: 610\n",
      "toy iteration: 620\n"
     ]
    },
    {
     "name": "stderr",
     "output_type": "stream",
     "text": [
      "Warning in <TUnfoldSys::SetInput>: One input bin has zero error, 1/error set to 1.000000.\n"
     ]
    },
    {
     "name": "stdout",
     "output_type": "stream",
     "text": [
      "toy iteration: 630\n"
     ]
    },
    {
     "name": "stderr",
     "output_type": "stream",
     "text": [
      "Warning in <TUnfoldSys::SetInput>: One input bin has zero error, 1/error set to 1.000000.\n"
     ]
    },
    {
     "name": "stdout",
     "output_type": "stream",
     "text": [
      "toy iteration: 640\n"
     ]
    },
    {
     "name": "stderr",
     "output_type": "stream",
     "text": [
      "Warning in <TUnfoldSys::SetInput>: One input bin has zero error, 1/error set to 1.000000.\n"
     ]
    },
    {
     "name": "stdout",
     "output_type": "stream",
     "text": [
      "toy iteration: 650\n",
      "toy iteration: 660\n"
     ]
    },
    {
     "name": "stderr",
     "output_type": "stream",
     "text": [
      "Warning in <TUnfoldSys::SetInput>: One input bin has zero error, 1/error set to 1.000000.\n"
     ]
    },
    {
     "name": "stdout",
     "output_type": "stream",
     "text": [
      "toy iteration: 670\n"
     ]
    },
    {
     "name": "stderr",
     "output_type": "stream",
     "text": [
      "Warning in <TUnfoldSys::SetInput>: One input bin has zero error, 1/error set to 1.000000.\n"
     ]
    },
    {
     "name": "stdout",
     "output_type": "stream",
     "text": [
      "toy iteration: 680\n",
      "toy iteration: 690\n",
      "toy iteration: 700\n",
      "toy iteration: 710\n",
      "toy iteration: 720\n",
      "toy iteration: 730\n",
      "toy iteration: 740\n"
     ]
    },
    {
     "name": "stderr",
     "output_type": "stream",
     "text": [
      "Warning in <TUnfoldSys::SetInput>: One input bin has zero error, 1/error set to 1.000000.\n"
     ]
    },
    {
     "name": "stdout",
     "output_type": "stream",
     "text": [
      "toy iteration: 750\n",
      "toy iteration: 760\n",
      "toy iteration: 770\n",
      "toy iteration: 780\n",
      "toy iteration: 790\n",
      "toy iteration: 800\n",
      "toy iteration: 810\n",
      "toy iteration: 820\n",
      "toy iteration: 830\n"
     ]
    },
    {
     "name": "stderr",
     "output_type": "stream",
     "text": [
      "Warning in <TUnfoldSys::SetInput>: One input bin has zero error, 1/error set to 1.000000.\n"
     ]
    },
    {
     "name": "stdout",
     "output_type": "stream",
     "text": [
      "toy iteration: 840\n",
      "toy iteration: 850\n"
     ]
    },
    {
     "name": "stderr",
     "output_type": "stream",
     "text": [
      "Warning in <TUnfoldSys::SetInput>: One input bin has zero error, 1/error set to 1.000000.\n"
     ]
    },
    {
     "name": "stdout",
     "output_type": "stream",
     "text": [
      "toy iteration: 860\n",
      "toy iteration: 870\n",
      "toy iteration: 880\n",
      "toy iteration: 890\n"
     ]
    },
    {
     "name": "stderr",
     "output_type": "stream",
     "text": [
      "Warning in <TUnfoldSys::SetInput>: One input bin has zero error, 1/error set to 1.000000.\n",
      "Warning in <TUnfoldSys::SetInput>: One input bin has zero error, 1/error set to 1.000000.\n",
      "Warning in <TUnfoldSys::SetInput>: One input bin has zero error, 1/error set to 1.000000.\n"
     ]
    },
    {
     "name": "stdout",
     "output_type": "stream",
     "text": [
      "toy iteration: 900\n",
      "toy iteration: 910\n"
     ]
    },
    {
     "name": "stderr",
     "output_type": "stream",
     "text": [
      "Warning in <TUnfoldSys::SetInput>: One input bin has zero error, 1/error set to 1.000000.\n"
     ]
    },
    {
     "name": "stdout",
     "output_type": "stream",
     "text": [
      "toy iteration: 920\n",
      "toy iteration: 930\n"
     ]
    },
    {
     "name": "stderr",
     "output_type": "stream",
     "text": [
      "Warning in <TUnfoldSys::SetInput>: One input bin has zero error, 1/error set to 1.000000.\n"
     ]
    },
    {
     "name": "stdout",
     "output_type": "stream",
     "text": [
      "toy iteration: 940\n",
      "toy iteration: 950\n"
     ]
    },
    {
     "name": "stderr",
     "output_type": "stream",
     "text": [
      "Warning in <TUnfoldSys::SetInput>: One input bin has zero error, 1/error set to 1.000000.\n"
     ]
    },
    {
     "name": "stdout",
     "output_type": "stream",
     "text": [
      "toy iteration: 960\n"
     ]
    },
    {
     "name": "stderr",
     "output_type": "stream",
     "text": [
      "Warning in <TUnfoldSys::SetInput>: One input bin has zero error, 1/error set to 1.000000.\n"
     ]
    },
    {
     "name": "stdout",
     "output_type": "stream",
     "text": [
      "toy iteration: 970\n"
     ]
    },
    {
     "name": "stderr",
     "output_type": "stream",
     "text": [
      "Warning in <TUnfoldSys::SetInput>: One input bin has zero error, 1/error set to 1.000000.\n"
     ]
    },
    {
     "name": "stdout",
     "output_type": "stream",
     "text": [
      "toy iteration: 980\n",
      "toy iteration: 990\n",
      " FCN=17.3145 FROM MIGRAD    STATUS=CONVERGED      59 CALLS          60 TOTAL\n",
      "                     EDM=1.33067e-10    STRATEGY= 1      ERROR MATRIX ACCURATE \n",
      "  EXT PARAMETER                                   STEP         FIRST   \n",
      "  NO.   NAME      VALUE            ERROR          SIZE      DERIVATIVE \n",
      "   1  Constant     1.53639e+02   6.05704e+00   1.02575e-02   3.01728e-06\n",
      "   2  Mean        -1.21390e-01   3.38684e-02   6.92568e-05  -1.72950e-05\n",
      "   3  Sigma        1.02094e+00   2.43696e-02   1.33049e-05   2.18204e-03\n",
      " FCN=8.19808 FROM MIGRAD    STATUS=CONVERGED      59 CALLS          60 TOTAL\n",
      "                     EDM=6.85034e-10    STRATEGY= 1      ERROR MATRIX ACCURATE \n",
      "  EXT PARAMETER                                   STEP         FIRST   \n",
      "  NO.   NAME      VALUE            ERROR          SIZE      DERIVATIVE \n",
      "   1  Constant     1.49698e+02   5.79213e+00   7.06055e-03   3.51186e-06\n",
      "   2  Mean        -2.59551e-01   3.46939e-02   5.10123e-05   1.03984e-04\n",
      "   3  Sigma        1.05666e+00   2.43573e-02   9.38061e-06   5.79231e-03\n",
      " FCN=59.2962 FROM MIGRAD    STATUS=CONVERGED      60 CALLS          61 TOTAL\n",
      "                     EDM=7.24941e-07    STRATEGY= 1      ERROR MATRIX ACCURATE \n",
      "  EXT PARAMETER                                   STEP         FIRST   \n",
      "  NO.   NAME      VALUE            ERROR          SIZE      DERIVATIVE \n",
      "   1  Constant     1.27750e+02   5.41128e+00   1.64364e-02  -2.21211e-04\n",
      "   2  Mean        -4.82115e-01   4.90259e-02   1.46715e-04  -1.83701e-02\n",
      "   3  Sigma        1.09744e+00   3.08576e-02   2.35052e-05  -1.11293e-01\n",
      " FCN=24.0114 FROM MIGRAD    STATUS=CONVERGED      59 CALLS          60 TOTAL\n",
      "                     EDM=2.61634e-10    STRATEGY= 1      ERROR MATRIX ACCURATE \n",
      "  EXT PARAMETER                                   STEP         FIRST   \n",
      "  NO.   NAME      VALUE            ERROR          SIZE      DERIVATIVE \n",
      "   1  Constant     1.47374e+02   5.80099e+00   1.15432e-02  -2.73138e-06\n",
      "   2  Mean         1.89896e-01   3.51550e-02   8.46764e-05   2.01950e-04\n",
      "   3  Sigma        1.05773e+00   2.51629e-02   1.57038e-05  -3.21528e-03\n",
      " FCN=17.3474 FROM MIGRAD    STATUS=CONVERGED      59 CALLS          60 TOTAL\n",
      "                     EDM=3.1205e-08    STRATEGY= 1      ERROR MATRIX ACCURATE \n",
      "  EXT PARAMETER                                   STEP         FIRST   \n",
      "  NO.   NAME      VALUE            ERROR          SIZE      DERIVATIVE \n",
      "   1  Constant     1.49983e+02   5.77488e+00   1.00379e-02  -3.84601e-05\n",
      "   2  Mean         2.01446e-01   3.42777e-02   7.12868e-05   3.82112e-03\n",
      "   3  Sigma        1.04383e+00   2.32937e-02   1.28346e-05  -3.31497e-02\n",
      " FCN=66.0535 FROM MIGRAD    STATUS=CONVERGED      69 CALLS          70 TOTAL\n",
      "                     EDM=1.81969e-10    STRATEGY= 1      ERROR MATRIX ACCURATE \n",
      "  EXT PARAMETER                                   STEP         FIRST   \n",
      "  NO.   NAME      VALUE            ERROR          SIZE      DERIVATIVE \n",
      "   1  Constant     1.24001e+02   5.38113e+00   1.68582e-02   3.09845e-06\n",
      "   2  Mean        -4.12797e-01   4.98370e-02   1.59404e-04  -2.92079e-04\n",
      "   3  Sigma        1.12618e+00   3.36751e-02   2.62795e-05  -5.54263e-04\n"
     ]
    }
   ],
   "source": [
    "if (!printInfo) gErrorIgnoreLevel = kWarning; \n",
    "\n",
    "  // switch on histogram errors\n",
    "  TH1::SetDefaultSumw2();\n",
    "\n",
    "  // random generator\n",
    "  rnd=new TRandom3();\n",
    "\n",
    "  // data and MC number of events\n",
    "  Double_t const nData0=    500.0;\n",
    "  Double_t const nMC0  =  50000.0;\n",
    "\n",
    "  // Binning\n",
    "  // reconstructed variable (0-10)\n",
    "  Int_t const nDet=15;\n",
    "  Double_t const xminDet=0.0;\n",
    "  Double_t const xmaxDet=15.0;\n",
    "\n",
    "  // signal binning (three shapes: 0,1,2)\n",
    "  Int_t const nGen=3;\n",
    "  Double_t const xminGen=-0.5;\n",
    "  Double_t const xmaxGen= 2.5;\n",
    "\n",
    "  // parameters\n",
    "  // fraction of events per signal shape\n",
    "  static const Double_t genFrac[]={0.3,0.6,0.1};\n",
    "\n",
    "  // signal shapes\n",
    "  static const Double_t genShape[][5]=\n",
    "  {{1.0,2.0,1.5,0.,15.},\n",
    "   {1.0,7.0,2.5,0.,15.},\n",
    "   {0.0,0.0,0.0,0.,15.}};\n",
    "\n",
    "  // define DATA histograms\n",
    "  // observed data distribution\n",
    "  TH1D *histDetDATA=new TH1D(\"Yrec\",\";DATA(Yrec)\",nDet,xminDet,xmaxDet);\n",
    "\n",
    "  // define MC histograms\n",
    "  // matrix of migrations\n",
    "  TH2D *histGenDetMC=new TH2D(\"Yrec%Xgen\",\"MC(Xgen,Yrec)\",\n",
    "                           nGen,xminGen,xmaxGen,nDet,xminDet,xmaxDet);\n",
    "\n",
    "  TH1D *histUnfold=new TH1D(\"Xgen\",\";DATA(Xgen)\",nGen,xminGen,xmaxGen);\n",
    "\n",
    "  TH1D **histPullNC=new TH1D* [nGen];\n",
    "  TH1D **histPullArea=new TH1D* [nGen];\n",
    "  for(int i=0;i<nGen;i++) {\n",
    "  histPullNC[i]=new TH1D(TString::Format(\"PullNC%d\",i),\"pull\",15,-3.,3.);\n",
    "  histPullArea[i]=new TH1D(TString::Format(\"PullArea%d\",i),\"pull\",15,-3.,3.);\n",
    "  }\n",
    "\n",
    "  // this method is new in version 16 of TUnfold\n",
    "  cout<<\"TUnfold version is \"<<TUnfold::GetTUnfoldVersion()<<\"\\n\";\n",
    "\n",
    "  for(int itoy=0;itoy<1000;itoy++) {\n",
    "  if(!(itoy %10)) cout<<\"toy iteration: \"<<itoy<<\"\\n\";\n",
    "  histDetDATA->Reset();\n",
    "  histGenDetMC->Reset();\n",
    "\n",
    "  Int_t nData=rnd->Poisson(nData0);\n",
    "  for(Int_t i=0;i<nData;i++) {\n",
    "     Int_t iGen=GenerateGenEvent(nGen,genFrac);\n",
    "     Double_t yObs=GenerateRecEvent(genShape[iGen]);\n",
    "     histDetDATA->Fill(yObs);\n",
    "  }\n",
    "\n",
    "  Int_t nMC=rnd->Poisson(nMC0);\n",
    "  for(Int_t i=0;i<nMC;i++) {\n",
    "     Int_t iGen=GenerateGenEvent(nGen,genFrac);\n",
    "     Double_t yObs=GenerateRecEvent(genShape[iGen]);\n",
    "     histGenDetMC->Fill(iGen,yObs);\n",
    "  }\n",
    "  /* for(Int_t ix=0;ix<=histGenDetMC->GetNbinsX()+1;ix++) {\n",
    "     for(Int_t iy=0;iy<=histGenDetMC->GetNbinsY()+1;iy++) {\n",
    "        cout<<ix<<iy<<\" : \"<<histGenDetMC->GetBinContent(ix,iy)<<\"\\n\";\n",
    "     }\n",
    "     } */\n",
    "  //========================\n",
    "  // unfolding\n",
    "\n",
    "  TUnfoldSys unfold(histGenDetMC,TUnfold::kHistMapOutputHoriz,\n",
    "                    TUnfold::kRegModeSize,TUnfold::kEConstraintNone);\n",
    "  // define the input vector (the measured data distribution)\n",
    "  unfold.SetInput(histDetDATA,0.0,1.0);\n",
    "\n",
    "  // run the unfolding\n",
    "  unfold.ScanLcurve(50,0.,0.,0,0,0);\n",
    "\n",
    "  // fill pull distributions without constraint\n",
    "  unfold.GetOutput(histUnfold);\n",
    "\n",
    "  for(int i=0;i<nGen;i++) {\n",
    "     histPullNC[i]->Fill((histUnfold->GetBinContent(i+1)-genFrac[i]*nData0)/\n",
    "                         histUnfold->GetBinError(i+1));\n",
    "  }\n",
    "\n",
    "  // repeat unfolding on the same data, now with Area constraint\n",
    "  unfold.SetConstraint(TUnfold::kEConstraintArea);\n",
    "\n",
    "  // run the unfolding\n",
    "  unfold.ScanLcurve(50,0.,0.,0,0,0);\n",
    "\n",
    "  // fill pull distributions with constraint\n",
    "  unfold.GetOutput(histUnfold);\n",
    "\n",
    "  for(int i=0;i<nGen;i++) {\n",
    "     histPullArea[i]->Fill((histUnfold->GetBinContent(i+1)-genFrac[i]*nData0)/\n",
    "                         histUnfold->GetBinError(i+1));\n",
    "  }\n",
    "\n",
    "  }\n",
    "  TCanvas output;\n",
    "  output.Divide(3,2);\n",
    "\n",
    "  gStyle->SetOptFit(1111);\n",
    "\n",
    "  for(int i=0;i<nGen;i++) {\n",
    "  output.cd(i+1);\n",
    "  histPullNC[i]->Fit(\"gaus\");\n",
    "  histPullNC[i]->Draw();\n",
    "  }\n",
    "  for(int i=0;i<nGen;i++) {\n",
    "  output.cd(i+4);\n",
    "  histPullArea[i]->Fit(\"gaus\");\n",
    "  histPullArea[i]->Draw();\n",
    "  }\n",
    "  output.SaveAs(\"testUnfold4.ps\");"
   ]
  },
  {
   "cell_type": "markdown",
   "metadata": {},
   "source": [
    "Draw all canvases "
   ]
  },
  {
   "cell_type": "code",
   "execution_count": 6,
   "metadata": {
    "collapsed": false
   },
   "outputs": [
    {
     "data": {
      "image/png": "[encoded data removed]",
      "text/plain": [
       "<IPython.core.display.Image object>"
      ]
     },
     "metadata": {},
     "output_type": "display_data"
    }
   ],
   "source": [
    "gROOT->GetListOfCanvases()->Draw()"
   ]
  }
 ],
 "metadata": {
  "kernelspec": {
   "display_name": "ROOT C++",
   "language": "c++",
   "name": "root"
  },
  "language_info": {
   "codemirror_mode": "text/x-c++src",
   "file_extension": ".C",
   "mimetype": " text/x-c++src",
   "name": "c++"
  }
 },
 "nbformat": 4,
 "nbformat_minor": 2
}
