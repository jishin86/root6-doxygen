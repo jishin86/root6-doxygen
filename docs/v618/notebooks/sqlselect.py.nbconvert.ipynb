{
 "cells": [
  {
   "cell_type": "markdown",
   "metadata": {},
   "source": [
    "# Sqlselect\n",
    "Query example to MySQL test database.\n",
    "Example of query by using the test database made in MySQL, you need the\n",
    "database test installed in localhost, with user nobody without password.\n",
    "\n",
    "Based on sqlselect.C by Sergey Linev\n",
    "\n",
    "\n",
    "\n",
    "\n",
    "**Author:** Juan Fernando Jaramillo Botero  \n",
    "<i><small>This notebook tutorial was automatically generated with <a href= \"https://github.com/root-project/root/blob/master/documentation/doxygen/converttonotebook.py\">ROOTBOOK-izer</a> from the macro found in the ROOT repository  on Thursday, August 29, 2019 at 03:39 AM.</small></i>"
   ]
  },
  {
   "cell_type": "code",
   "execution_count": null,
   "metadata": {
    "collapsed": false
   },
   "outputs": [],
   "source": [
    "from ROOT import TSQLServer, TSQLResult, TSQLRow, TStopwatch\n",
    "\n",
    "\n",
    "db = TSQLServer.Connect(\"mysql://localhost/test\", \"nobody\", \"\")\n",
    "\n",
    "print(\"Server info: %s\" % db.ServerInfo())"
   ]
  },
  {
   "cell_type": "markdown",
   "metadata": {},
   "source": [
    "list databases available on server"
   ]
  },
  {
   "cell_type": "code",
   "execution_count": null,
   "metadata": {
    "collapsed": false
   },
   "outputs": [],
   "source": [
    "print(\"\")\n",
    "print(\"List all databases on server %s\" % db.GetHost())\n",
    "res = db.GetDataBases()\n",
    "row = res.Next()\n",
    "while row:\n",
    "    print(\"%s\" % row.GetField(0))\n",
    "    row = res.Next()"
   ]
  },
  {
   "cell_type": "markdown",
   "metadata": {},
   "source": [
    "list tables in database \"test\" (the permission tables)"
   ]
  },
  {
   "cell_type": "code",
   "execution_count": null,
   "metadata": {
    "collapsed": false
   },
   "outputs": [],
   "source": [
    "print('')\n",
    "print('List all tables in database \"test\" on server %s' % db.GetHost())\n",
    "res = db.GetTables(\"test\")\n",
    "row = res.Next()\n",
    "while row:\n",
    "    print(\"%s\" % row.GetField(0))\n",
    "    row = res.Next()"
   ]
  },
  {
   "cell_type": "markdown",
   "metadata": {},
   "source": [
    "list columns in table \"runcatalog\" in database \"mysql\""
   ]
  },
  {
   "cell_type": "code",
   "execution_count": null,
   "metadata": {
    "collapsed": false
   },
   "outputs": [],
   "source": [
    "print('')\n",
    "print('List all columns in table \"runcatalog\" in database \"test\" on server %s' %\n",
    "      db.GetHost())\n",
    "res = db.GetColumns(\"test\", \"runcatalog\")\n",
    "row = res.Next()\n",
    "while row:\n",
    "    print(\"%s\" % row.GetField(0))\n",
    "    row = res.Next()"
   ]
  },
  {
   "cell_type": "markdown",
   "metadata": {},
   "source": [
    "start timer"
   ]
  },
  {
   "cell_type": "code",
   "execution_count": null,
   "metadata": {
    "collapsed": false
   },
   "outputs": [],
   "source": [
    "timer = TStopwatch()\n",
    "timer.Start()"
   ]
  },
  {
   "cell_type": "markdown",
   "metadata": {},
   "source": [
    "query database and print results\n",
    "sql = \"select dataset,rawfilepath from test.runcatalog \" \\\n",
    "      \"WHERE tag&(1<<2) AND (run=490001 OR run=300122)\""
   ]
  },
  {
   "cell_type": "code",
   "execution_count": null,
   "metadata": {
    "collapsed": false
   },
   "outputs": [],
   "source": [
    "sql = \"select count(*) from test.runcatalog \" \\\n",
    "      \"WHERE tag&(1<<2)\"\n",
    "\n",
    "res = db.Query(sql)\n",
    "\n",
    "nrows = res.GetRowCount()\n",
    "print(\"\")\n",
    "print(\"Got %d rows in result\" % nrows)\n",
    "\n",
    "nfields = res.GetFieldCount()\n",
    "for i in range(nfields):\n",
    "    print(\"%40s\" % res.GetFieldName(i))\n",
    "print(\"\")\n",
    "print(\"=\" * (nfields * 40))\n",
    "print(\"\")\n",
    "\n",
    "for i in range(nrows):\n",
    "    row = res.Next()\n",
    "    for j in range(nfields):\n",
    "        print(\"%40s\" % row.GetField(j))\n",
    "    print(\"\")"
   ]
  },
  {
   "cell_type": "markdown",
   "metadata": {},
   "source": [
    "stop timer and print results"
   ]
  },
  {
   "cell_type": "code",
   "execution_count": null,
   "metadata": {
    "collapsed": false
   },
   "outputs": [],
   "source": [
    "timer.Stop()\n",
    "rtime = timer.RealTime()\n",
    "ctime = timer.CpuTime()\n",
    "\n",
    "print(\"\")\n",
    "print(\"RealTime=%f seconds, CpuTime=%f seconds\" % (rtime, ctime))"
   ]
  }
 ],
 "metadata": {
  "kernelspec": {
   "display_name": "Python 2",
   "language": "python",
   "name": "python2"
  },
  "language_info": {
   "codemirror_mode": {
    "name": "ipython",
    "version": 2
   },
   "file_extension": ".py",
   "mimetype": "text/x-python",
   "name": "python",
   "nbconvert_exporter": "python",
   "pygments_lexer": "ipython2",
   "version": "2.7.10"
  }
 },
 "nbformat": 4,
 "nbformat_minor": 2
}
