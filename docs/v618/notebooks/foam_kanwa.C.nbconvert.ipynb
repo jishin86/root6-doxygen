{
 "cells": [
  {
   "cell_type": "markdown",
   "metadata": {},
   "source": [
    "# Foam_Kanwa\n",
    "This program can be execute from the command line as folows:\n",
    "\n",
    "```cpp\n",
    "     root -l foam_kanwa.C\n",
    "```\n",
    "\n",
    "\n",
    "\n",
    "\n",
    "**Author:** Stascek Jadach  \n",
    "<i><small>This notebook tutorial was automatically generated with <a href= \"https://github.com/root-project/root/blob/master/documentation/doxygen/converttonotebook.py\">ROOTBOOK-izer</a> from the macro found in the ROOT repository  on Thursday, August 29, 2019 at 01:37 AM.</small></i>"
   ]
  },
  {
   "cell_type": "code",
   "execution_count": 1,
   "metadata": {
    "collapsed": false
   },
   "outputs": [],
   "source": [
    "%%cpp -d\n",
    "#include \"Riostream.h\"\n",
    "#include \"TFoam.h\"\n",
    "#include \"TCanvas.h\"\n",
    "#include \"TH2.h\"\n",
    "#include \"TMath.h\"\n",
    "#include \"TFoamIntegrand.h\"\n",
    "#include \"TRandom3.h\""
   ]
  },
  {
   "cell_type": "markdown",
   "metadata": {},
   "source": [
    " _____________________________________________________________________________\n",
    " "
   ]
  },
  {
   "cell_type": "code",
   "execution_count": 2,
   "metadata": {
    "collapsed": false
   },
   "outputs": [],
   "source": [
    "%%cpp -d\n",
    "Double_t sqr(Double_t x){\n",
    "   return x*x;\n",
    "}"
   ]
  },
  {
   "cell_type": "markdown",
   "metadata": {},
   "source": [
    " _____________________________________________________________________________\n",
    " "
   ]
  },
  {
   "cell_type": "code",
   "execution_count": 3,
   "metadata": {
    "collapsed": false
   },
   "outputs": [],
   "source": [
    "%%cpp -d\n",
    "Double_t Camel2(Int_t nDim, Double_t *Xarg){\n",
    "   // 2-dimensional distribution for Foam, normalized to one (within 1e-5)\n",
    "   Double_t x=Xarg[0];\n",
    "   Double_t y=Xarg[1];\n",
    "   Double_t GamSq= sqr(0.100e0);\n",
    "   Double_t Dist= 0;\n",
    "   Dist +=exp(-(sqr(x-1./3) +sqr(y-1./3))/GamSq)/GamSq/TMath::Pi();\n",
    "   Dist +=exp(-(sqr(x-2./3) +sqr(y-2./3))/GamSq)/GamSq/TMath::Pi();\n",
    "   return 0.5*Dist;\n",
    "}"
   ]
  },
  {
   "cell_type": "code",
   "execution_count": 4,
   "metadata": {
    "collapsed": false
   },
   "outputs": [
    {
     "name": "stdout",
     "output_type": "stream",
     "text": [
      "--- kanwa started ---\n"
     ]
    }
   ],
   "source": [
    "cout<<\"--- kanwa started ---\"<<endl;\n",
    "TH2D  *hst_xy = new TH2D(\"hst_xy\" ,  \"x-y plot\", 50,0,1.0, 50,0,1.0);\n",
    "Double_t *MCvect =new Double_t[2]; // 2-dim vector generated in the MC run"
   ]
  },
  {
   "cell_type": "code",
   "execution_count": 5,
   "metadata": {
    "collapsed": false
   },
   "outputs": [
    {
     "name": "stdout",
     "output_type": "stream",
     "text": [
      "FFFFFFFFFFFFFFFFFFFFFFFFFFFFFFFFFFFFFFFFFFFFFFFFFFFFFFFFFFFFFFFFFFFFFFFFFFFFFFFF\n",
      "F                                                                              F\n",
      "F                   ****************************************                   F\n",
      "F                    ******      TFoam::Initialize    ******                   F\n",
      "F                   ****************************************                   F\n",
      "F                                                      FoamX                   F\n",
      "F    Version =           1.02M   =                   Release date:  2005.04.10 F\n",
      "F       kDim =          2 =  Dimension of the hyper-cubical space              F\n",
      "F     nCells =        500 =  Requested number of Cells (half of them active)   F\n",
      "F     nSampl =        200 =  No of MC events in exploration of a cell          F\n",
      "F       nBin =          8 =  No of bins in histograms, MC exploration of cell  F\n",
      "F   EvPerBin =         25 =  Maximum No effective_events/bin, MC exploration   F\n",
      "F   OptDrive =          2 =  Type of Driver   =1,2 for Sigma,WtMax             F\n",
      "F     OptRej =          1 =  MC rejection on/off for OptRej=0,1                F\n",
      "F   MaxWtRej =             1.1   =       Maximum wt in rejection for wt=1 evts F\n",
      "F                                                                              F\n",
      "FFFFFFFFFFFFFFFFFFFFFFFFFFFFFFFFFFFFFFFFFFFFFFFFFFFFFFFFFFFFFFFFFFFFFFFFFFFFFFFF\n",
      "2222222222222222222222222222222222222222222222222\n",
      "FFFFFFFFFFFFFFFFFFFFFFFFFFFFFFFFFFFFFFFFFFFFFFFFFFFFFFFFFFFFFFFFFFFFFFFFFFFFFFFF\n",
      "F                                                                              F\n",
      "F                    ***  TFoam::Initialize FINISHED!!!  ***                   F\n",
      "F     nCalls =      99800 =            Total number of function calls          F\n",
      "F     XPrime =       1.3929609   =     Primary total integral                  F\n",
      "F     XDiver =      0.39362177   =     Driver  total integral                  F\n",
      "F   mcResult =      0.99933914   =     Estimate of the true MC Integral        F\n",
      "F                                                                              F\n",
      "FFFFFFFFFFFFFFFFFFFFFFFFFFFFFFFFFFFFFFFFFFFFFFFFFFFFFFFFFFFFFFFFFFFFFFFFFFFFFFFF\n"
     ]
    }
   ],
   "source": [
    "TRandom     *PseRan   = new TRandom3();  // Create random number generator\n",
    "PseRan->SetSeed(4357);\n",
    "TFoam   *FoamX    = new TFoam(\"FoamX\");   // Create Simulator\n",
    "FoamX->SetkDim(2);         // No. of dimensions, obligatory!\n",
    "FoamX->SetnCells(500);     // Optionally No. of cells, default=2000\n",
    "FoamX->SetRhoInt(Camel2);  // Set 2-dim distribution, included below\n",
    "FoamX->SetPseRan(PseRan);  // Set random number generator\n",
    "FoamX->Initialize();       // Initialize simulator, may take time..."
   ]
  },
  {
   "cell_type": "markdown",
   "metadata": {},
   "source": [
    " visualising generated distribution"
   ]
  },
  {
   "cell_type": "code",
   "execution_count": 6,
   "metadata": {
    "collapsed": false
   },
   "outputs": [],
   "source": [
    "TCanvas *cKanwa = new TCanvas(\"cKanwa\",\"Canvas for plotting\",600,600);\n",
    "cKanwa->cd();"
   ]
  },
  {
   "cell_type": "markdown",
   "metadata": {},
   "source": [
    "From now on foamx is ready to generate events"
   ]
  },
  {
   "cell_type": "code",
   "execution_count": 7,
   "metadata": {
    "collapsed": false
   },
   "outputs": [
    {
     "name": "stdout",
     "output_type": "stream",
     "text": [
      "(x,y) =  ( 0.68053985, 0.69250597 )\n",
      "(x,y) =  ( 0.39743987, 0.22347379 )\n",
      "(x,y) =  ( 0.41862392, 0.37268423 )\n",
      "(x,y) =  ( 0.33221191, 0.37801703 )\n",
      "(x,y) =  ( 0.32221499, 0.25437954 )\n",
      "(x,y) =  ( 0.61444622, 0.60520452 )\n",
      "(x,y) =  ( 0.30018061, 0.38244034 )\n",
      "(x,y) =  ( 0.76521983, 0.777539 )\n",
      "(x,y) =  ( 0.78407102, 0.69301713 )\n",
      "(x,y) =  ( 0.72028183, 0.66087924 )\n"
     ]
    }
   ],
   "source": [
    "int nshow=5000;\n",
    "for(long loop=0; loop<100000; loop++){\n",
    "   FoamX->MakeEvent();            // generate MC event\n",
    "   FoamX->GetMCvect( MCvect);     // get generated vector (x,y)\n",
    "   Double_t x=MCvect[0];\n",
    "   Double_t y=MCvect[1];\n",
    "   if(loop<10) cout<<\"(x,y) =  ( \"<< x <<\", \"<< y <<\" )\"<<endl;\n",
    "   hst_xy->Fill(x,y);\n",
    "   // live plot\n",
    "   if(loop == nshow){\n",
    "      nshow += 5000;\n",
    "      hst_xy->Draw(\"lego2\");\n",
    "      cKanwa->Update();\n",
    "   }\n",
    "}// loop"
   ]
  },
  {
   "cell_type": "code",
   "execution_count": 8,
   "metadata": {
    "collapsed": false
   },
   "outputs": [],
   "source": [
    "hst_xy->Draw(\"lego2\");  // final plot\n",
    "cKanwa->Update();"
   ]
  },
  {
   "cell_type": "code",
   "execution_count": 9,
   "metadata": {
    "collapsed": false
   },
   "outputs": [
    {
     "name": "stdout",
     "output_type": "stream",
     "text": [
      " MCresult= 1.0002172 +- 0.00081511086\n",
      "--- kanwa ended ---\n"
     ]
    }
   ],
   "source": [
    "Double_t MCresult, MCerror;\n",
    "FoamX->GetIntegMC( MCresult, MCerror);  // get MC integral, should be one\n",
    "cout << \" MCresult= \" << MCresult << \" +- \" << MCerror <<endl;\n",
    "cout<<\"--- kanwa ended ---\"<<endl;\n",
    "\n",
    "return 0;"
   ]
  },
  {
   "cell_type": "markdown",
   "metadata": {},
   "source": [
    "Draw all canvases "
   ]
  },
  {
   "cell_type": "code",
   "execution_count": 10,
   "metadata": {
    "collapsed": false
   },
   "outputs": [
    {
     "data": {
      "text/html": [
       "\n",
       "<div id=\"root_plot_1\"\n",
       "     style=\"width: 596px; height: 572px\">\n",
       "</div>\n",
       "\n",
       "<script>\n",
       " requirejs.config({\n",
       "     paths: {\n",
       "       'JSRootCore' : 'https://root.cern.ch/js/notebook//scripts/JSRootCore',\n",
       "     }\n",
       "   });\n",
       " require(['JSRootCore'],\n",
       "     function(Core) {\n",
       "       var obj = Core.JSONR_unref({\"_typename\":\"TCanvas\",\"fUniqueID\":0,\"fBits\":53673992,\"fLineColor\":1,\"fLineStyle\":1,\"fLineWidth\":1,\"fFillColor\":0,\"fFillStyle\":1001,\"fLeftMargin\":0.1,\"fRightMargin\":0.1,\"fBottomMargin\":0.1,\"fTopMargin\":0.1,\"fXfile\":2,\"fYfile\":2,\"fAfile\":1,\"fXstat\":0.99,\"fYstat\":0.99,\"fAstat\":2,\"fFrameFillColor\":0,\"fFrameLineColor\":1,\"fFrameFillStyle\":1001,\"fFrameLineStyle\":1,\"fFrameLineWidth\":1,\"fFrameBorderSize\":1,\"fFrameBorderMode\":0,\"fX1\":-0.985843932933736,\"fY1\":-1.11792197578009,\"fX2\":0.985843932933736,\"fY2\":1.11792197578009,\"fXtoAbsPixelk\":298.00005,\"fXtoPixelk\":298.00005,\"fXtoPixel\":302.27908297127,\"fYtoAbsPixelk\":286.00005,\"fYtoPixelk\":286.00005,\"fYtoPixel\":-255.831807761384,\"fUtoAbsPixelk\":5e-5,\"fUtoPixelk\":5e-5,\"fUtoPixel\":596,\"fVtoAbsPixelk\":572.00005,\"fVtoPixelk\":572,\"fVtoPixel\":-572,\"fAbsPixeltoXk\":-0.985843932933736,\"fPixeltoXk\":-0.985843932933736,\"fPixeltoX\":0.0033082011172273,\"fAbsPixeltoYk\":1.11792197578009,\"fPixeltoYk\":-1.11792197578009,\"fPixeltoY\":-0.0039088180971332,\"fXlowNDC\":0,\"fYlowNDC\":0,\"fXUpNDC\":0,\"fYUpNDC\":0,\"fWNDC\":1,\"fHNDC\":1,\"fAbsXlowNDC\":0,\"fAbsYlowNDC\":0,\"fAbsWNDC\":1,\"fAbsHNDC\":1,\"fUxmin\":-0.788675134594813,\"fUymin\":-0.894337567297407,\"fUxmax\":0.788675134594813,\"fUymax\":0.894337567297407,\"fTheta\":30,\"fPhi\":30,\"fAspectRatio\":0,\"fNumber\":0,\"fTickx\":0,\"fTicky\":0,\"fLogx\":0,\"fLogy\":0,\"fLogz\":0,\"fPadPaint\":0,\"fCrosshair\":0,\"fCrosshairPos\":0,\"fBorderSize\":2,\"fBorderMode\":0,\"fModified\":false,\"fGridx\":false,\"fGridy\":false,\"fAbsCoord\":false,\"fEditable\":true,\"fFixedAspectRatio\":false,\"fPrimitives\":{\"_typename\":\"TList\",\"name\":\"TList\",\"arr\":[{\"_typename\":\"TH2D\",\"fUniqueID\":0,\"fBits\":50331656,\"fName\":\"hst_xy\",\"fTitle\":\"x-y plot\",\"fLineColor\":602,\"fLineStyle\":1,\"fLineWidth\":1,\"fFillColor\":0,\"fFillStyle\":1001,\"fMarkerColor\":1,\"fMarkerStyle\":1,\"fMarkerSize\":1,\"fNcells\":2704,\"fXaxis\":{\"_typename\":\"TAxis\",\"fUniqueID\":0,\"fBits\":50331648,\"fName\":\"xaxis\",\"fTitle\":\"\",\"fNdivisions\":510,\"fAxisColor\":1,\"fLabelColor\":1,\"fLabelFont\":42,\"fLabelOffset\":0.005,\"fLabelSize\":0.035,\"fTickLength\":0.03,\"fTitleOffset\":1,\"fTitleSize\":0.035,\"fTitleColor\":1,\"fTitleFont\":42,\"fNbins\":50,\"fXmin\":0,\"fXmax\":1,\"fXbins\":[],\"fFirst\":0,\"fLast\":0,\"fBits2\":0,\"fTimeDisplay\":false,\"fTimeFormat\":\"\",\"fLabels\":null,\"fModLabs\":null},\"fYaxis\":{\"_typename\":\"TAxis\",\"fUniqueID\":0,\"fBits\":50331648,\"fName\":\"yaxis\",\"fTitle\":\"\",\"fNdivisions\":510,\"fAxisColor\":1,\"fLabelColor\":1,\"fLabelFont\":42,\"fLabelOffset\":0.005,\"fLabelSize\":0.035,\"fTickLength\":0.03,\"fTitleOffset\":0,\"fTitleSize\":0.035,\"fTitleColor\":1,\"fTitleFont\":42,\"fNbins\":50,\"fXmin\":0,\"fXmax\":1,\"fXbins\":[],\"fFirst\":0,\"fLast\":0,\"fBits2\":0,\"fTimeDisplay\":false,\"fTimeFormat\":\"\",\"fLabels\":null,\"fModLabs\":null},\"fZaxis\":{\"_typename\":\"TAxis\",\"fUniqueID\":0,\"fBits\":50331648,\"fName\":\"zaxis\",\"fTitle\":\"\",\"fNdivisions\":510,\"fAxisColor\":1,\"fLabelColor\":1,\"fLabelFont\":42,\"fLabelOffset\":0.005,\"fLabelSize\":0.035,\"fTickLength\":0.03,\"fTitleOffset\":1,\"fTitleSize\":0.035,\"fTitleColor\":1,\"fTitleFont\":42,\"fNbins\":1,\"fXmin\":0,\"fXmax\":1,\"fXbins\":[],\"fFirst\":0,\"fLast\":0,\"fBits2\":0,\"fTimeDisplay\":false,\"fTimeFormat\":\"\",\"fLabels\":null,\"fModLabs\":null},\"fBarOffset\":0,\"fBarWidth\":1000,\"fEntries\":100000,\"fTsumw\":100000,\"fTsumw2\":100000,\"fTsumwx\":49940.4144896782,\"fTsumwx2\":28214.9505503855,\"fMaximum\":-1111,\"fMinimum\":-1111,\"fNormFactor\":0,\"fContour\":[0,33.95,67.9,101.85,135.8,169.75,203.7,237.65,271.6,305.55,339.5,373.45,407.4,441.35,475.3,509.25,543.2,577.15,611.1,645.05],\"fSumw2\":[],\"fOption\":\"\",\"fFunctions\":{\"_typename\":\"TList\",\"name\":\"TList\",\"arr\":[{\"_typename\":\"TPaveStats\",\"fUniqueID\":0,\"fBits\":50331657,\"fLineColor\":1,\"fLineStyle\":1,\"fLineWidth\":1,\"fFillColor\":0,\"fFillStyle\":1001,\"fX1\":0.552072634173766,\"fY1\":0.435989587878906,\"fX2\":0.946410213223348,\"fY2\":0.97259212425935,\"fX1NDC\":0.780000016093254,\"fY1NDC\":0.695000007748604,\"fX2NDC\":0.980000019073486,\"fY2NDC\":0.935000002384186,\"fBorderSize\":1,\"fInit\":1,\"fShadowColor\":1,\"fCornerRadius\":0,\"fOption\":\"brNDC\",\"fName\":\"stats\",\"fTextAngle\":0,\"fTextSize\":0,\"fTextAlign\":12,\"fTextColor\":1,\"fTextFont\":42,\"fLabel\":\"\",\"fLongest\":18,\"fMargin\":0.05,\"fLines\":{\"_typename\":\"TList\",\"name\":\"TList\",\"arr\":[{\"_typename\":\"TLatex\",\"fUniqueID\":0,\"fBits\":50331648,\"fName\":\"\",\"fTitle\":\"hst_xy\",\"fTextAngle\":0,\"fTextSize\":0.0368,\"fTextAlign\":0,\"fTextColor\":0,\"fTextFont\":0,\"fX\":0,\"fY\":0,\"fLineColor\":1,\"fLineStyle\":1,\"fLineWidth\":2,\"fLimitFactorSize\":3,\"fOriginSize\":0.0368000008165836},{\"_typename\":\"TLatex\",\"fUniqueID\":0,\"fBits\":50331648,\"fName\":\"\",\"fTitle\":\"Entries = 100000 \",\"fTextAngle\":0,\"fTextSize\":0,\"fTextAlign\":0,\"fTextColor\":0,\"fTextFont\":0,\"fX\":0,\"fY\":0,\"fLineColor\":1,\"fLineStyle\":1,\"fLineWidth\":2,\"fLimitFactorSize\":3,\"fOriginSize\":0.04},{\"_typename\":\"TLatex\",\"fUniqueID\":0,\"fBits\":50331648,\"fName\":\"\",\"fTitle\":\"Mean x = 0.4994\",\"fTextAngle\":0,\"fTextSize\":0,\"fTextAlign\":0,\"fTextColor\":0,\"fTextFont\":0,\"fX\":0,\"fY\":0,\"fLineColor\":1,\"fLineStyle\":1,\"fLineWidth\":2,\"fLimitFactorSize\":3,\"fOriginSize\":0.04},{\"_typename\":\"TLatex\",\"fUniqueID\":0,\"fBits\":50331648,\"fName\":\"\",\"fTitle\":\"Mean y = 0.4993\",\"fTextAngle\":0,\"fTextSize\":0,\"fTextAlign\":0,\"fTextColor\":0,\"fTextFont\":0,\"fX\":0,\"fY\":0,\"fLineColor\":1,\"fLineStyle\":1,\"fLineWidth\":2,\"fLimitFactorSize\":3,\"fOriginSize\":0.04},{\"_typename\":\"TLatex\",\"fUniqueID\":0,\"fBits\":50331648,\"fName\":\"\",\"fTitle\":\"Std Dev x =  0.181\",\"fTextAngle\":0,\"fTextSize\":0,\"fTextAlign\":0,\"fTextColor\":0,\"fTextFont\":0,\"fX\":0,\"fY\":0,\"fLineColor\":1,\"fLineStyle\":1,\"fLineWidth\":2,\"fLimitFactorSize\":3,\"fOriginSize\":0.04},{\"_typename\":\"TLatex\",\"fUniqueID\":0,\"fBits\":50331648,\"fName\":\"\",\"fTitle\":\"Std Dev y =  0.181\",\"fTextAngle\":0,\"fTextSize\":0,\"fTextAlign\":0,\"fTextColor\":0,\"fTextFont\":0,\"fX\":0,\"fY\":0,\"fLineColor\":1,\"fLineStyle\":1,\"fLineWidth\":2,\"fLimitFactorSize\":3,\"fOriginSize\":0.04}],\"opt\":[\"\",\"\",\"\",\"\",\"\",\"\"]},\"fOptFit\":0,\"fOptStat\":1111,\"fFitFormat\":\"5.4g\",\"fStatFormat\":\"6.4g\",\"fParent\":{\"$ref\":2}}],\"opt\":[\"brNDC\"]},\"fBufferSize\":0,\"fBuffer\":[],\"fBinStatErrOpt\":0,\"fStatOverflows\":2,\"fScalefactor\":1,\"fTsumwy\":49930.1116241364,\"fTsumwy2\":28205.2510997867,\"fTsumwxy\":27709.0224798845,\"fArray\":[0,0,0,0,0,0,0,0,0,0,0,0,0,0,0,0,0,0,0,0,0,0,0,0,0,0,0,0,0,0,0,0,0,0,0,0,0,0,0,0,0,0,0,0,0,0,0,0,0,0,0,0,0,0,0,0,0,0,0,0,0,0,0,0,0,0,0,0,0,0,0,0,0,0,0,0,0,0,0,0,0,0,0,0,0,0,0,0,0,0,0,0,0,0,0,0,0,0,0,0,0,0,0,0,0,0,0,0,0,0,0,0,0,0,0,0,0,0,0,1,0,0,0,0,0,0,0,0,0,0,0,0,0,0,0,0,0,0,0,0,0,0,0,0,0,0,0,0,0,0,0,0,0,0,0,0,0,0,0,0,0,0,0,0,0,0,0,0,0,0,0,0,1,0,1,0,0,0,0,0,0,0,0,0,0,0,0,0,0,0,0,0,0,0,0,0,0,0,0,0,0,0,0,0,0,0,0,0,0,0,0,0,0,0,0,0,0,0,0,0,0,0,2,2,0,0,0,0,0,2,1,0,0,0,0,0,0,0,0,0,0,0,0,0,0,0,0,0,0,0,0,0,0,0,0,0,0,0,0,0,0,0,0,0,0,0,0,0,0,0,0,1,0,1,1,2,2,2,0,2,2,1,1,0,1,0,1,0,0,0,0,0,0,0,0,0,0,0,0,0,0,0,0,0,0,0,0,0,0,0,0,0,0,0,0,0,0,0,0,0,0,0,1,1,0,2,2,3,1,2,1,4,1,0,0,0,1,0,0,2,0,0,0,0,0,0,0,0,0,0,0,0,0,0,0,0,0,0,0,0,0,0,0,0,0,0,0,0,0,0,0,1,0,1,2,4,4,9,6,7,8,10,8,9,10,10,3,2,2,0,0,0,0,0,0,0,0,0,0,0,0,0,0,0,0,0,0,0,0,0,0,0,0,0,0,0,0,0,0,0,0,0,0,0,0,2,4,7,9,11,18,9,27,22,21,20,15,18,9,6,3,1,0,0,0,0,0,0,0,0,0,0,0,0,0,0,0,0,0,0,0,0,0,0,0,0,0,0,0,0,0,0,0,0,0,1,2,4,4,7,12,20,29,38,53,46,57,29,29,22,17,7,11,5,1,3,0,0,0,0,0,0,0,0,0,0,0,0,0,0,0,0,0,0,0,0,0,0,0,0,0,0,0,0,0,1,1,0,0,4,5,20,28,35,53,66,72,82,84,66,46,41,34,19,19,7,5,0,2,1,0,0,0,0,0,0,0,0,0,0,0,0,0,0,0,0,0,0,0,0,0,0,0,0,0,0,1,1,0,3,5,7,14,26,46,72,94,116,137,122,137,132,92,75,59,38,32,4,5,1,2,0,0,0,0,0,0,0,0,0,0,0,0,0,0,0,0,0,0,0,0,0,0,0,0,0,0,0,0,0,1,4,10,21,32,44,91,116,162,161,195,248,232,176,182,139,97,66,31,17,13,6,1,1,1,0,0,0,0,0,0,0,0,0,0,0,0,0,0,0,0,0,0,0,0,0,0,0,0,0,0,1,3,5,15,21,51,61,103,162,212,282,285,332,305,281,237,195,124,82,53,25,14,2,3,2,1,0,0,0,0,0,0,0,0,0,0,0,0,0,0,0,0,0,0,0,0,0,0,0,0,0,2,0,1,6,8,24,66,88,172,211,244,350,379,437,428,386,307,229,182,103,59,33,12,13,4,1,2,0,0,0,0,0,0,0,0,0,0,0,0,0,0,0,0,0,0,0,0,0,0,0,0,0,0,2,4,13,20,42,76,117,186,260,358,442,515,530,479,466,365,301,199,152,82,50,16,9,2,4,1,0,0,0,0,0,0,0,0,0,0,0,0,0,0,0,0,0,0,0,0,0,0,0,0,0,0,2,1,8,28,37,71,121,220,291,382,495,596,605,592,574,459,328,247,138,97,50,29,15,6,3,1,0,0,1,0,0,0,0,0,0,0,0,0,0,0,0,0,0,0,0,0,0,0,0,0,0,0,1,3,14,23,53,89,142,245,325,445,509,617,635,593,553,444,362,223,165,114,55,29,12,5,1,1,0,0,0,0,0,0,0,0,0,0,0,0,0,0,0,0,0,0,0,0,0,0,0,0,0,0,1,1,4,22,44,68,132,205,270,403,524,607,623,643,498,432,347,235,182,101,48,34,14,12,1,0,0,1,0,0,0,0,0,0,0,0,0,0,0,0,0,0,0,0,0,0,0,0,0,0,0,1,2,5,4,22,45,56,114,203,318,395,474,523,523,505,473,430,307,225,139,83,52,26,12,7,2,0,1,0,0,0,0,0,0,0,0,0,0,0,0,0,0,0,0,0,0,0,0,0,0,0,0,0,1,2,5,14,25,65,111,167,223,275,386,407,448,429,389,365,279,179,124,72,39,18,5,5,1,0,1,0,0,2,0,0,0,0,1,0,0,0,0,0,0,0,0,0,0,0,0,0,0,0,0,0,0,5,7,15,23,40,70,128,179,229,282,357,354,345,313,252,192,143,78,54,34,13,9,2,0,0,1,2,0,0,0,0,0,0,0,1,0,1,0,0,0,0,0,0,0,0,0,0,0,0,1,0,0,5,3,9,18,33,59,87,118,170,211,229,264,249,221,171,143,100,55,51,27,11,7,3,1,1,4,2,3,4,3,1,3,1,0,0,0,0,0,0,0,0,0,0,0,0,0,0,0,0,0,0,0,2,2,8,17,17,42,55,85,114,152,165,170,154,156,106,87,62,42,31,20,3,2,2,2,2,6,3,6,5,3,4,8,7,0,0,0,0,0,0,0,0,0,0,0,0,0,0,0,0,0,0,0,0,0,3,8,11,17,34,51,62,80,110,106,85,88,89,68,32,26,18,11,5,7,7,6,9,5,5,15,18,7,14,6,7,3,5,4,2,1,0,0,0,0,0,0,0,0,0,0,0,0,1,0,0,1,4,2,6,22,30,22,36,39,49,53,55,62,36,30,14,14,10,6,12,7,9,17,15,17,36,36,27,30,23,17,16,11,8,1,1,1,0,0,0,0,0,0,0,0,0,0,0,0,0,0,1,1,2,1,8,6,14,5,14,21,27,26,26,23,16,23,10,4,5,3,9,7,14,20,18,38,40,59,49,57,61,46,19,18,8,11,7,2,1,0,0,0,0,0,0,0,0,0,0,0,0,0,0,0,0,1,2,4,5,7,5,10,22,15,15,8,13,8,6,6,1,8,10,21,26,54,53,71,81,96,91,94,87,65,52,38,17,15,12,4,0,2,0,1,0,0,0,0,0,0,0,0,0,0,0,0,0,0,2,2,0,5,3,6,5,9,3,7,7,4,6,4,5,7,14,28,41,63,77,116,140,160,172,143,146,117,94,55,26,16,9,5,3,0,1,0,0,0,0,0,0,0,0,0,0,0,0,0,0,0,0,1,0,0,2,2,2,4,3,5,2,2,3,4,5,12,25,39,53,90,147,173,211,245,266,213,201,155,144,88,49,37,17,14,7,1,1,0,0,0,0,0,0,0,0,0,0,0,0,0,0,0,0,0,0,1,0,1,0,0,1,1,0,0,1,1,4,13,31,69,77,137,189,257,321,353,365,336,289,251,196,114,75,50,27,14,5,4,1,0,0,0,0,0,0,0,0,0,0,0,0,0,0,0,0,0,0,0,0,1,0,1,0,1,0,1,1,6,15,25,43,71,113,188,259,353,413,427,452,429,379,270,225,171,116,61,24,13,8,4,0,1,0,0,0,0,0,0,0,0,0,0,0,0,0,0,0,0,0,0,0,0,0,0,0,1,0,0,4,2,20,22,48,85,164,217,303,398,489,537,561,527,485,410,256,192,108,73,40,22,8,4,1,1,0,2,0,0,0,0,0,0,0,0,0,0,0,0,0,0,0,0,0,0,0,0,0,0,0,0,2,3,12,25,49,82,151,237,325,416,554,591,555,581,495,418,325,179,135,76,42,21,11,2,2,0,0,0,0,0,0,0,0,0,0,0,0,0,0,0,0,0,0,0,0,0,0,0,0,0,0,1,4,6,16,33,46,107,176,232,382,464,561,622,679,597,481,408,328,227,125,90,41,18,11,3,0,0,0,0,0,0,0,0,0,0,0,0,0,0,0,0,0,0,0,0,0,0,0,0,0,0,0,2,1,6,11,30,58,91,163,232,347,375,511,594,628,585,503,412,294,190,139,82,35,14,13,4,1,0,0,0,0,0,0,0,0,0,0,0,0,0,0,0,0,0,0,0,0,0,0,0,0,0,0,2,3,6,11,25,53,85,121,199,272,381,443,482,495,484,441,378,254,185,123,71,42,19,5,6,4,2,0,0,0,0,0,0,0,0,0,0,0,0,0,0,0,0,0,0,0,0,0,0,0,0,1,1,0,6,9,23,40,69,99,157,247,315,357,397,433,397,317,258,203,135,89,49,31,12,7,4,0,0,0,0,0,0,0,0,0,0,0,0,0,0,0,0,0,0,0,0,0,0,0,0,0,0,0,0,1,0,7,12,37,58,88,133,179,238,274,311,290,340,274,215,156,123,78,38,23,10,9,5,3,0,0,0,0,0,0,0,0,0,0,0,0,0,0,0,0,0,0,0,0,0,0,0,0,0,1,0,1,4,6,10,11,39,49,71,108,131,176,235,207,236,181,133,108,82,43,29,17,6,6,2,0,0,0,0,0,0,0,0,0,0,0,0,0,0,0,0,0,0,0,0,0,0,0,0,0,0,0,0,1,0,0,6,10,20,38,59,77,107,104,136,140,148,126,101,77,39,28,20,8,4,1,1,0,0,0,0,0,0,0,0,0,0,0,0,0,0,0,0,0,0,0,0,0,0,0,0,0,0,0,1,1,0,2,4,7,17,22,28,48,61,73,81,84,78,75,62,49,24,15,8,5,1,3,0,0,0,0,0,0,0,0,0,0,0,0,0,0,0,0,0,0,0,0,0,0,0,0,0,0,0,0,0,1,0,2,3,1,10,8,24,27,28,51,53,40,42,44,22,23,16,5,3,6,0,0,0,0,0,0,0,0,0,0,0,0,0,0,0,0,0,0,0,0,0,0,0,0,0,0,0,0,0,0,0,1,0,1,3,0,1,10,6,9,15,22,22,24,17,19,13,12,6,4,4,1,1,0,1,0,0,0,0,0,0,0,0,0,0,0,0,0,0,0,0,0,0,0,0,0,0,0,0,0,0,0,0,0,0,0,0,0,3,4,5,3,5,12,11,6,11,6,6,10,6,3,2,1,0,0,0,0,0,0,0,0,0,0,0,0,0,0,0,0,0,0,0,0,0,0,0,0,0,0,0,0,0,0,0,0,0,0,1,1,2,3,3,1,4,1,5,5,4,2,2,3,2,1,0,0,0,0,0,0,0,0,0,0,0,0,0,0,0,0,0,0,0,0,0,0,0,0,0,0,0,0,0,0,0,0,0,0,0,0,0,0,0,1,1,1,4,1,1,1,1,3,1,0,1,0,1,0,0,0,0,0,0,0,0,0,0,0,0,0,0,0,0,0,0,0,0,0,0,0,0,0,0,0,0,0,0,0,0,0,0,0,0,0,0,0,0,1,0,0,1,1,0,0,0,0,0,0,0,0,0,0,0,0,0,0,0,0,0,0,0,0,0,0,0,0,0,0,0,0,0,0,0,0,0,0,0,0,0,0,0,0,0,0,0,0,0,0,0,0,1,1,0,0,0,1,0,0,0,0,0,0,0,0,0,0,0,0,0,0,0,0,0,0,0,0,0,0,0,0,0,0,0,0,0,0,0,0,0,0,0,0,0,0,0,0,0,0,0,0,0,0,0,0,0,0,0,0,0,0,0,0,0,0,0,0,0,0,0,0,0,0,0,0,0,0,0,0,0,0,0,0,0,0,0,0,0,0,0,0,0,0,0,0,0,0,0,0,0,0,0,0,0,0,0,0,0,0,0,0,0,0,0,0,0,0,0,0,0,0,0,0,0,0,0,0,0,0,0,0,0,0,0,0,0,0,0,0,0,0,0,0,0,0,0,0,0,0,0,0,0,0,0,0,0,0,0,0,0,0,0,0,0,0,0,0,0,0,0,0,0,0,0,0,0,0,0]},{\"_typename\":\"TPaveText\",\"fUniqueID\":0,\"fBits\":50331657,\"fLineColor\":1,\"fLineStyle\":1,\"fLineWidth\":1,\"fFillColor\":0,\"fFillStyle\":0,\"fX1\":-0.190089236195881,\"fY1\":0.970715896903393,\"fX2\":0.190089236195881,\"fY2\":1.10674276668363,\"fX1NDC\":0.403590604026846,\"fY1NDC\":0.934160843929211,\"fX2NDC\":0.596409395973154,\"fY2NDC\":0.995000004768372,\"fBorderSize\":0,\"fInit\":1,\"fShadowColor\":1,\"fCornerRadius\":0,\"fOption\":\"blNDC\",\"fName\":\"title\",\"fTextAngle\":0,\"fTextSize\":0,\"fTextAlign\":22,\"fTextColor\":1,\"fTextFont\":42,\"fLabel\":\"\",\"fLongest\":8,\"fMargin\":0.05,\"fLines\":{\"_typename\":\"TList\",\"name\":\"TList\",\"arr\":[{\"_typename\":\"TLatex\",\"fUniqueID\":0,\"fBits\":50331648,\"fName\":\"\",\"fTitle\":\"x-y plot\",\"fTextAngle\":0,\"fTextSize\":0,\"fTextAlign\":0,\"fTextColor\":0,\"fTextFont\":0,\"fX\":0,\"fY\":0,\"fLineColor\":1,\"fLineStyle\":1,\"fLineWidth\":2,\"fLimitFactorSize\":3,\"fOriginSize\":0.0517132878303528}],\"opt\":[\"\"]}}],\"opt\":[\"lego2\",\"blNDC\"]},\"fExecs\":null,\"fName\":\"cKanwa\",\"fTitle\":\"Canvas for plotting\",\"fNumPaletteColor\":0,\"fNextPaletteColor\":0,\"fDISPLAY\":\"$DISPLAY\",\"fDoubleBuffer\":0,\"fRetained\":true,\"fXsizeUser\":0,\"fYsizeUser\":0,\"fXsizeReal\":20,\"fYsizeReal\":20,\"fWindowTopX\":0,\"fWindowTopY\":0,\"fWindowWidth\":0,\"fWindowHeight\":0,\"fCw\":596,\"fCh\":572,\"fCatt\":{\"_typename\":\"TAttCanvas\",\"fXBetween\":2,\"fYBetween\":2,\"fTitleFromTop\":1.2,\"fXdate\":0.2,\"fYdate\":0.3,\"fAdate\":1},\"kMoveOpaque\":true,\"kResizeOpaque\":true,\"fHighLightColor\":2,\"fBatch\":true,\"kShowEventStatus\":false,\"kAutoExec\":true,\"kMenuBar\":true});\n",
       "       Core.draw(\"root_plot_1\", obj, \"\");\n",
       "     }\n",
       " );\n",
       "</script>\n"
      ],
      "text/plain": [
       "<IPython.core.display.HTML object>"
      ]
     },
     "metadata": {},
     "output_type": "display_data"
    }
   ],
   "source": [
    "%jsroot on\n",
    "gROOT->GetListOfCanvases()->Draw()"
   ]
  }
 ],
 "metadata": {
  "kernelspec": {
   "display_name": "ROOT C++",
   "language": "c++",
   "name": "root"
  },
  "language_info": {
   "codemirror_mode": "text/x-c++src",
   "file_extension": ".C",
   "mimetype": " text/x-c++src",
   "name": "c++"
  }
 },
 "nbformat": 4,
 "nbformat_minor": 2
}
