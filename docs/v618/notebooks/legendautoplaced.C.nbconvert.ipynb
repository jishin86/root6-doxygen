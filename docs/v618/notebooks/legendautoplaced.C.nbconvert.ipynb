{
 "cells": [
  {
   "cell_type": "markdown",
   "metadata": {},
   "source": [
    "# Legendautoplaced\n",
    "The legend can be placed automatically in the current pad in an empty space\n",
    "found at painting time.\n",
    "\n",
    "The following example illustrate this facility. Only the width and height of the\n",
    "legend is specified in percentage of the pad size.\n",
    "\n",
    "\n",
    "\n",
    "\n",
    "**Author:** Olivier Couet  \n",
    "<i><small>This notebook tutorial was automatically generated with <a href= \"https://github.com/root-project/root/blob/master/documentation/doxygen/converttonotebook.py\">ROOTBOOK-izer</a> from the macro found in the ROOT repository  on Thursday, August 29, 2019 at 01:55 AM.</small></i>"
   ]
  },
  {
   "cell_type": "code",
   "execution_count": 1,
   "metadata": {
    "collapsed": false
   },
   "outputs": [],
   "source": [
    "auto c4 = new TCanvas(\"c\", \"c\", 600,500);\n",
    "auto hpx = new TH1D(\"hpx\",\"This is the hpx distribution\",100,-4.,4.);\n",
    "hpx->FillRandom(\"gaus\", 50000);\n",
    "hpx->Draw(\"E\");\n",
    "hpx->GetYaxis()->SetTitle(\"Y Axis title\");\n",
    "hpx->GetYaxis()->SetTitleOffset(1.3); hpx->GetYaxis()->CenterTitle(true);\n",
    "hpx->GetXaxis()->SetTitle(\"X Axis title\");\n",
    "hpx->GetXaxis()->CenterTitle(true);\n",
    "\n",
    "auto h1 = new TH1D(\"h1\",\"A green histogram\",100,-2.,2.);\n",
    "h1->FillRandom(\"gaus\", 10000);\n",
    "h1->SetLineColor(kGreen);\n",
    "h1->Draw(\"same\");\n",
    "\n",
    "auto g = new TGraph();\n",
    "g->SetPoint(0, -3.5, 100 );\n",
    "g->SetPoint(1, -3.0, 300 );\n",
    "g->SetPoint(2, -2.0, 1000 );\n",
    "g->SetPoint(3,  1.0, 800 );\n",
    "g->SetPoint(4,  0.0, 200 );\n",
    "g->SetPoint(5,  3.0, 200 );\n",
    "g->SetPoint(6,  3.0, 700 );\n",
    "g->Draw(\"L\");\n",
    "g->SetTitle(\"This is a TGraph\");\n",
    "g->SetLineColor(kRed);\n",
    "g->SetFillColor(0);"
   ]
  },
  {
   "cell_type": "markdown",
   "metadata": {},
   "source": [
    "Tpad::buildlegend() default placement values are such that they trigger\n",
    " the automatic placement."
   ]
  },
  {
   "cell_type": "code",
   "execution_count": 2,
   "metadata": {
    "collapsed": false
   },
   "outputs": [],
   "source": [
    "c4->BuildLegend();"
   ]
  },
  {
   "cell_type": "markdown",
   "metadata": {},
   "source": [
    "Draw all canvases "
   ]
  },
  {
   "cell_type": "code",
   "execution_count": 3,
   "metadata": {
    "collapsed": false
   },
   "outputs": [
    {
     "data": {
      "image/png": "[encoded data removed]",
      "text/plain": [
       "<IPython.core.display.Image object>"
      ]
     },
     "metadata": {},
     "output_type": "display_data"
    }
   ],
   "source": [
    "gROOT->GetListOfCanvases()->Draw()"
   ]
  }
 ],
 "metadata": {
  "kernelspec": {
   "display_name": "ROOT C++",
   "language": "c++",
   "name": "root"
  },
  "language_info": {
   "codemirror_mode": "text/x-c++src",
   "file_extension": ".C",
   "mimetype": " text/x-c++src",
   "name": "c++"
  }
 },
 "nbformat": 4,
 "nbformat_minor": 2
}
